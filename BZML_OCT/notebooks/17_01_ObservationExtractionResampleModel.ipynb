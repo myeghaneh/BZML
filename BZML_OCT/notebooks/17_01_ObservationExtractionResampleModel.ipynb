{
 "cells": [
  {
   "cell_type": "markdown",
   "metadata": {},
   "source": [
    "## Automatic extraction and classification of explicit observational sentences in \"Astronomia nova\" \n",
    " Gerd Graßhoff$^{(1,2)}$, Mohammad Yeghaneh$^{(2)}$\n",
    "\n",
    "1: Max-Planck-Institute for the History of Science, Berlin\n",
    "\n",
    "2: Humboldt University, Berlin\n",
    "\n",
    "Date: November 2019"
   ]
  },
  {
   "cell_type": "markdown",
   "metadata": {},
   "source": [
    "Kepler's \"New Astronomy (Astronomia Nova)\" was completed and published in Linz in 1609. Buried deep in this, at times very mystical book, is Kepler's first formulation of his first and second laws of planetary motion, which in modern parlance can be stated as follows:\n",
    "*  Planetary orbits are ellipses, with the Sun located at one focus;\n",
    "*  Planets move along their elliptical orbit with a speed such that a line segment joining the planet to the Sun sweeps equal surface areas in equal time intervals.\n",
    "\n",
    "At the same time he reconceptualized \"oppositions\" as based upon the observed, rather than \"average,\" position of the Sun, Kepler analyzed Brahe's individual **observations** of Mars for potential errors of various other kinds. with this introduction observations, sentiments play an important role in tracking the knowledge. This motivates us to:  \n",
    "\n",
    "- extract the explicit observational sentences using the book custom NER model\n",
    "- provide two models to classify the explicit observational sentences of the book using machine learning #ref"
   ]
  },
  {
   "cell_type": "code",
   "execution_count": 7,
   "metadata": {},
   "outputs": [
    {
     "name": "stdout",
     "output_type": "stream",
     "text": [
      "The autoreload extension is already loaded. To reload it, use:\n",
      "  %reload_ext autoreload\n"
     ]
    }
   ],
   "source": [
    "import pandas as pd\n",
    "import numpy as np\n",
    "%load_ext autoreload\n",
    "%autoreload 2\n",
    "import utility_01\n",
    "from utility_01 import *\n",
    "from sklearn.metrics import roc_curve ,roc_auc_score ,precision_recall_curve,auc,confusion_matrix,classification_report\n",
    "from warnings import filterwarnings\n",
    "filterwarnings('ignore')\n",
    "import matplotlib.pyplot as plt\n",
    "import random \n",
    "import ipywidgets as widget\n",
    "from ipywidgets import interact\n"
   ]
  },
  {
   "cell_type": "code",
   "execution_count": 8,
   "metadata": {},
   "outputs": [],
   "source": [
    "options = {\"compact\": True, \"bg\": \"#09a3d5\",\n",
    "           \"color\": \"white\", \"font\": \"Source Sans Pro\",\"collapse_phrases\":False}"
   ]
  },
  {
   "cell_type": "code",
   "execution_count": 9,
   "metadata": {},
   "outputs": [],
   "source": [
    "pd.set_option('display.max_colwidth', -1)\n",
    "pd.set_option('max_colwidth', 1000)\n"
   ]
  },
  {
   "cell_type": "markdown",
   "metadata": {},
   "source": [
    "## Resources"
   ]
  },
  {
   "cell_type": "markdown",
   "metadata": {},
   "source": [
    "### Import resources *"
   ]
  },
  {
   "cell_type": "code",
   "execution_count": 10,
   "metadata": {},
   "outputs": [],
   "source": [
    "# here I have tried citableclass using DOI and It works! after full agreement on the data (part of book) we can use it. Since we can not change it in Zenodo after upload."
   ]
  },
  {
   "cell_type": "code",
   "execution_count": 11,
   "metadata": {},
   "outputs": [],
   "source": [
    "df=pd.read_json('./data/dfObsV05A02P02.json');\n",
    "df=df.sort_index();\n",
    "df=df.reset_index(drop=True)"
   ]
  },
  {
   "cell_type": "markdown",
   "metadata": {},
   "source": [
    "Sample of the first sentences of the book in the dataframe format "
   ]
  },
  {
   "cell_type": "code",
   "execution_count": 12,
   "metadata": {},
   "outputs": [
    {
     "data": {
      "text/html": [
       "<div>\n",
       "<style scoped>\n",
       "    .dataframe tbody tr th:only-of-type {\n",
       "        vertical-align: middle;\n",
       "    }\n",
       "\n",
       "    .dataframe tbody tr th {\n",
       "        vertical-align: top;\n",
       "    }\n",
       "\n",
       "    .dataframe thead th {\n",
       "        text-align: right;\n",
       "    }\n",
       "</style>\n",
       "<table border=\"1\" class=\"dataframe\">\n",
       "  <thead>\n",
       "    <tr style=\"text-align: right;\">\n",
       "      <th></th>\n",
       "      <th>Sentence</th>\n",
       "      <th>SentIndex</th>\n",
       "      <th>Chapter</th>\n",
       "      <th>Paragraph</th>\n",
       "      <th>ParaIndex</th>\n",
       "      <th>ASO</th>\n",
       "      <th>Entities</th>\n",
       "      <th>CNER</th>\n",
       "      <th>Label</th>\n",
       "    </tr>\n",
       "  </thead>\n",
       "  <tbody>\n",
       "    <tr>\n",
       "      <td>0</td>\n",
       "      <td>Chapter 7</td>\n",
       "      <td>809</td>\n",
       "      <td>7</td>\n",
       "      <td>Chapter 7</td>\n",
       "      <td>167</td>\n",
       "      <td>{'act': 'Chapter'}</td>\n",
       "      <td>[]</td>\n",
       "      <td>[0, 0, 0]</td>\n",
       "      <td>0</td>\n",
       "    </tr>\n",
       "    <tr>\n",
       "      <td>1</td>\n",
       "      <td>The circumstances under which I happened upon the theory of Mars.</td>\n",
       "      <td>810</td>\n",
       "      <td>7</td>\n",
       "      <td>The circumstances under which I happened upon the theory of Mars.</td>\n",
       "      <td>168</td>\n",
       "      <td>{'act': 'circumstances'}</td>\n",
       "      <td>[[Mars, PLAN]]</td>\n",
       "      <td>[0, 0, 0]</td>\n",
       "      <td>0</td>\n",
       "    </tr>\n",
       "    <tr>\n",
       "      <td>2</td>\n",
       "      <td>It is true that a divine voice, which enjoins humans to study astronomy, is expressed in the world itself, not in words or syllables, but in things themselves and in the conformity of the human intellect and senses with the sequence of celestial bodies and of their dispositions.</td>\n",
       "      <td>811</td>\n",
       "      <td>7</td>\n",
       "      <td>It is true that a divine voice, which enjoins humans to study astronomy, is expressed in the world itself, not in words or syllables, but in things themselves and in the conformity of the human intellect and senses with the sequence of celestial bodies and of their dispositions. Nevertheless, a kind of fate also invisibly drives different individuals to take up different arts, and makes them certain that, just as they are a part of the work of creation, they likewise also partake to some extent in divine providence.</td>\n",
       "      <td>169</td>\n",
       "      <td>{'act': 'is', 'subject': 'it'}</td>\n",
       "      <td>[]</td>\n",
       "      <td>[0, 0, 0]</td>\n",
       "      <td>0</td>\n",
       "    </tr>\n",
       "    <tr>\n",
       "      <td>3</td>\n",
       "      <td>Nevertheless, a kind of fate also invisibly drives different individuals to take up different arts, and makes them certain that, just as they are a part of the work of creation, they likewise also partake to some extent in divine providence.</td>\n",
       "      <td>812</td>\n",
       "      <td>7</td>\n",
       "      <td>It is true that a divine voice, which enjoins humans to study astronomy, is expressed in the world itself, not in words or syllables, but in things themselves and in the conformity of the human intellect and senses with the sequence of celestial bodies and of their dispositions. Nevertheless, a kind of fate also invisibly drives different individuals to take up different arts, and makes them certain that, just as they are a part of the work of creation, they likewise also partake to some extent in divine providence.</td>\n",
       "      <td>169</td>\n",
       "      <td>{'act': 'drives', 'subject': 'kind', 'obj': 'different individuals '}</td>\n",
       "      <td>[]</td>\n",
       "      <td>[0, 0, 0]</td>\n",
       "      <td>0</td>\n",
       "    </tr>\n",
       "    <tr>\n",
       "      <td>4</td>\n",
       "      <td>When, in my early years, I was able to taste the sweetness of philosophy, I embraced the whole of it with an overwhelming desire, and with practically no special concern about astronomy.</td>\n",
       "      <td>813</td>\n",
       "      <td>7</td>\n",
       "      <td>When, in my early years, I was able to taste the sweetness of philosophy, I embraced the whole of it with an overwhelming desire, and with practically no special concern about astronomy. I certainly had enough intelligence, nor did I have any difficulty understanding the geometrical and astronomical topics included in the normal curriculum, aided as I was by figures, numbers, and proportions. These were, however, required courses, nothing that would bespeak an exceptional inclination towards astronomy. And since I was supported at the expense of the Duke of Württemberg, and saw my comrades, whom the Prince, upon request, kept trying to send to foreign countries, stalling in various ways out of love for their country, I, being hardier, quite maturely agreed with myself that whithersoever I was destined I would promptly go.</td>\n",
       "      <td>170</td>\n",
       "      <td>{'act': 'embraced', 'subject': 'i', 'obj': 'the whole of it '}</td>\n",
       "      <td>[]</td>\n",
       "      <td>[0, 0, 0]</td>\n",
       "      <td>0</td>\n",
       "    </tr>\n",
       "  </tbody>\n",
       "</table>\n",
       "</div>"
      ],
      "text/plain": [
       "                                                                                                                                                                                                                                                                                  Sentence  \\\n",
       "0                                                                                                                                                                                                                                                                                Chapter 7   \n",
       "1                                                                                                                                                                                                                        The circumstances under which I happened upon the theory of Mars.   \n",
       "2  It is true that a divine voice, which enjoins humans to study astronomy, is expressed in the world itself, not in words or syllables, but in things themselves and in the conformity of the human intellect and senses with the sequence of celestial bodies and of their dispositions.   \n",
       "3                                        Nevertheless, a kind of fate also invisibly drives different individuals to take up different arts, and makes them certain that, just as they are a part of the work of creation, they likewise also partake to some extent in divine providence.   \n",
       "4                                                                                               When, in my early years, I was able to taste the sweetness of philosophy, I embraced the whole of it with an overwhelming desire, and with practically no special concern about astronomy.   \n",
       "\n",
       "   SentIndex  Chapter  \\\n",
       "0        809        7   \n",
       "1        810        7   \n",
       "2        811        7   \n",
       "3        812        7   \n",
       "4        813        7   \n",
       "\n",
       "                                                                                                                                                                                                                                                                                                                                                                                                                                                                                                                                                                                                                                                                                                                                                                                                                                                           Paragraph  \\\n",
       "0                                                                                                                                                                                                                                                                                                                                                                                                                                                                                                                                                                                                                                                                                                                                                                                                                                                         Chapter 7    \n",
       "1                                                                                                                                                                                                                                                                                                                                                                                                                                                                                                                                                                                                                                                                                                                                                                                                  The circumstances under which I happened upon the theory of Mars.   \n",
       "2                                                                                                                                                                                                                                                                                                                          It is true that a divine voice, which enjoins humans to study astronomy, is expressed in the world itself, not in words or syllables, but in things themselves and in the conformity of the human intellect and senses with the sequence of celestial bodies and of their dispositions. Nevertheless, a kind of fate also invisibly drives different individuals to take up different arts, and makes them certain that, just as they are a part of the work of creation, they likewise also partake to some extent in divine providence.   \n",
       "3                                                                                                                                                                                                                                                                                                                          It is true that a divine voice, which enjoins humans to study astronomy, is expressed in the world itself, not in words or syllables, but in things themselves and in the conformity of the human intellect and senses with the sequence of celestial bodies and of their dispositions. Nevertheless, a kind of fate also invisibly drives different individuals to take up different arts, and makes them certain that, just as they are a part of the work of creation, they likewise also partake to some extent in divine providence.   \n",
       "4  When, in my early years, I was able to taste the sweetness of philosophy, I embraced the whole of it with an overwhelming desire, and with practically no special concern about astronomy. I certainly had enough intelligence, nor did I have any difficulty understanding the geometrical and astronomical topics included in the normal curriculum, aided as I was by figures, numbers, and proportions. These were, however, required courses, nothing that would bespeak an exceptional inclination towards astronomy. And since I was supported at the expense of the Duke of Württemberg, and saw my comrades, whom the Prince, upon request, kept trying to send to foreign countries, stalling in various ways out of love for their country, I, being hardier, quite maturely agreed with myself that whithersoever I was destined I would promptly go.   \n",
       "\n",
       "   ParaIndex  \\\n",
       "0        167   \n",
       "1        168   \n",
       "2        169   \n",
       "3        169   \n",
       "4        170   \n",
       "\n",
       "                                                                     ASO  \\\n",
       "0                                                     {'act': 'Chapter'}   \n",
       "1                                               {'act': 'circumstances'}   \n",
       "2                                         {'act': 'is', 'subject': 'it'}   \n",
       "3  {'act': 'drives', 'subject': 'kind', 'obj': 'different individuals '}   \n",
       "4         {'act': 'embraced', 'subject': 'i', 'obj': 'the whole of it '}   \n",
       "\n",
       "         Entities       CNER  Label  \n",
       "0              []  [0, 0, 0]      0  \n",
       "1  [[Mars, PLAN]]  [0, 0, 0]      0  \n",
       "2              []  [0, 0, 0]      0  \n",
       "3              []  [0, 0, 0]      0  \n",
       "4              []  [0, 0, 0]      0  "
      ]
     },
     "execution_count": 12,
     "metadata": {},
     "output_type": "execute_result"
    }
   ],
   "source": [
    "df.head()"
   ]
  },
  {
   "cell_type": "markdown",
   "metadata": {},
   "source": [
    " Sample of the last sentences of the book in the dataframe format "
   ]
  },
  {
   "cell_type": "code",
   "execution_count": 13,
   "metadata": {},
   "outputs": [
    {
     "data": {
      "text/html": [
       "<div>\n",
       "<style scoped>\n",
       "    .dataframe tbody tr th:only-of-type {\n",
       "        vertical-align: middle;\n",
       "    }\n",
       "\n",
       "    .dataframe tbody tr th {\n",
       "        vertical-align: top;\n",
       "    }\n",
       "\n",
       "    .dataframe thead th {\n",
       "        text-align: right;\n",
       "    }\n",
       "</style>\n",
       "<table border=\"1\" class=\"dataframe\">\n",
       "  <thead>\n",
       "    <tr style=\"text-align: right;\">\n",
       "      <th></th>\n",
       "      <th>Sentence</th>\n",
       "      <th>SentIndex</th>\n",
       "      <th>Chapter</th>\n",
       "      <th>Paragraph</th>\n",
       "      <th>ParaIndex</th>\n",
       "      <th>ASO</th>\n",
       "      <th>Entities</th>\n",
       "      <th>CNER</th>\n",
       "      <th>Label</th>\n",
       "    </tr>\n",
       "  </thead>\n",
       "  <tbody>\n",
       "    <tr>\n",
       "      <td>1519</td>\n",
       "      <td>16, or the sun's mean motion and the hypothesis proposed in Ch.</td>\n",
       "      <td>2328</td>\n",
       "      <td>21</td>\n",
       "      <td>Up to the present, the hypothesis accounting for the first inequality (in which Brahe and Copernicus are in agreement, both differing somewhat in form from Ptolemy) has been presented using the sun's mean motion, which all three authors had substituted for the sun's apparent motion. Thereafter, it was shown that whether we follow the sun's apparent motion and the hypothesis found in Ch. 16, or the sun's mean motion and the hypothesis proposed in Ch. 8 according to Brahe's revision, in both instances there result false distances of the planet from the center, whether of the sun (for Copernicus and Brahe) or of the world (for Ptolemy). Consequently, what we had previously constructed from the Brahean observations we have later in turn destroyed using other observations of his. This was the necessary consequence of our having followed (in imitation of previous theorists) several things that were plausible but really false.</td>\n",
       "      <td>482</td>\n",
       "      <td>{'act': '16'}</td>\n",
       "      <td>[]</td>\n",
       "      <td>[0, 0, 0]</td>\n",
       "      <td>0</td>\n",
       "    </tr>\n",
       "    <tr>\n",
       "      <td>1520</td>\n",
       "      <td>8 according to Brahe's revision, in both instances there result false distances of the planet from the center, whether of the sun (for Copernicus and Brahe) or of the world (for Ptolemy).</td>\n",
       "      <td>2329</td>\n",
       "      <td>21</td>\n",
       "      <td>Up to the present, the hypothesis accounting for the first inequality (in which Brahe and Copernicus are in agreement, both differing somewhat in form from Ptolemy) has been presented using the sun's mean motion, which all three authors had substituted for the sun's apparent motion. Thereafter, it was shown that whether we follow the sun's apparent motion and the hypothesis found in Ch. 16, or the sun's mean motion and the hypothesis proposed in Ch. 8 according to Brahe's revision, in both instances there result false distances of the planet from the center, whether of the sun (for Copernicus and Brahe) or of the world (for Ptolemy). Consequently, what we had previously constructed from the Brahean observations we have later in turn destroyed using other observations of his. This was the necessary consequence of our having followed (in imitation of previous theorists) several things that were plausible but really false.</td>\n",
       "      <td>482</td>\n",
       "      <td>{'act': 'result', 'obj': 'false distances of the planet from the center, whether of the sun (for Copernicus and Brahe) or of the world (for Ptolemy)'}</td>\n",
       "      <td>[[Copernicus, NAME]]</td>\n",
       "      <td>[0, 0, 0]</td>\n",
       "      <td>0</td>\n",
       "    </tr>\n",
       "    <tr>\n",
       "      <td>1521</td>\n",
       "      <td>Consequently, what we had previously constructed from the Brahean observations we have later in turn destroyed using other observations of his.</td>\n",
       "      <td>2330</td>\n",
       "      <td>21</td>\n",
       "      <td>Up to the present, the hypothesis accounting for the first inequality (in which Brahe and Copernicus are in agreement, both differing somewhat in form from Ptolemy) has been presented using the sun's mean motion, which all three authors had substituted for the sun's apparent motion. Thereafter, it was shown that whether we follow the sun's apparent motion and the hypothesis found in Ch. 16, or the sun's mean motion and the hypothesis proposed in Ch. 8 according to Brahe's revision, in both instances there result false distances of the planet from the center, whether of the sun (for Copernicus and Brahe) or of the world (for Ptolemy). Consequently, what we had previously constructed from the Brahean observations we have later in turn destroyed using other observations of his. This was the necessary consequence of our having followed (in imitation of previous theorists) several things that were plausible but really false.</td>\n",
       "      <td>482</td>\n",
       "      <td>{'act': 'destroyed'}</td>\n",
       "      <td>[[Brahean, NAME]]</td>\n",
       "      <td>[0, 0, 0]</td>\n",
       "      <td>0</td>\n",
       "    </tr>\n",
       "    <tr>\n",
       "      <td>1522</td>\n",
       "      <td>This was the necessary consequence of our having followed (in imitation of previous theorists) several things that were plausible but really false.</td>\n",
       "      <td>2331</td>\n",
       "      <td>21</td>\n",
       "      <td>Up to the present, the hypothesis accounting for the first inequality (in which Brahe and Copernicus are in agreement, both differing somewhat in form from Ptolemy) has been presented using the sun's mean motion, which all three authors had substituted for the sun's apparent motion. Thereafter, it was shown that whether we follow the sun's apparent motion and the hypothesis found in Ch. 16, or the sun's mean motion and the hypothesis proposed in Ch. 8 according to Brahe's revision, in both instances there result false distances of the planet from the center, whether of the sun (for Copernicus and Brahe) or of the world (for Ptolemy). Consequently, what we had previously constructed from the Brahean observations we have later in turn destroyed using other observations of his. This was the necessary consequence of our having followed (in imitation of previous theorists) several things that were plausible but really false.</td>\n",
       "      <td>482</td>\n",
       "      <td>{'act': 'was', 'subject': 'this'}</td>\n",
       "      <td>[]</td>\n",
       "      <td>[0, 0, 0]</td>\n",
       "      <td>0</td>\n",
       "    </tr>\n",
       "    <tr>\n",
       "      <td>1523</td>\n",
       "      <td>And this much of the work is dedicated to this imitation of previous theorists, with which I am concluding this second part of the Commentaries.</td>\n",
       "      <td>2332</td>\n",
       "      <td>21</td>\n",
       "      <td>And this much of the work is dedicated to this imitation of previous theorists, with which I am concluding this second part of the Commentaries.</td>\n",
       "      <td>483</td>\n",
       "      <td>{'act': 'dedicated'}</td>\n",
       "      <td>[]</td>\n",
       "      <td>[0, 0, 0]</td>\n",
       "      <td>0</td>\n",
       "    </tr>\n",
       "  </tbody>\n",
       "</table>\n",
       "</div>"
      ],
      "text/plain": [
       "                                                                                                                                                                                         Sentence  \\\n",
       "1519                                                                                                                              16, or the sun's mean motion and the hypothesis proposed in Ch.   \n",
       "1520  8 according to Brahe's revision, in both instances there result false distances of the planet from the center, whether of the sun (for Copernicus and Brahe) or of the world (for Ptolemy).   \n",
       "1521                                              Consequently, what we had previously constructed from the Brahean observations we have later in turn destroyed using other observations of his.   \n",
       "1522                                          This was the necessary consequence of our having followed (in imitation of previous theorists) several things that were plausible but really false.   \n",
       "1523                                             And this much of the work is dedicated to this imitation of previous theorists, with which I am concluding this second part of the Commentaries.   \n",
       "\n",
       "      SentIndex  Chapter  \\\n",
       "1519       2328       21   \n",
       "1520       2329       21   \n",
       "1521       2330       21   \n",
       "1522       2331       21   \n",
       "1523       2332       21   \n",
       "\n",
       "                                                                                                                                                                                                                                                                                                                                                                                                                                                                                                                                                                                                                                                                                                                                                                                                                                                                                                                                                                  Paragraph  \\\n",
       "1519  Up to the present, the hypothesis accounting for the first inequality (in which Brahe and Copernicus are in agreement, both differing somewhat in form from Ptolemy) has been presented using the sun's mean motion, which all three authors had substituted for the sun's apparent motion. Thereafter, it was shown that whether we follow the sun's apparent motion and the hypothesis found in Ch. 16, or the sun's mean motion and the hypothesis proposed in Ch. 8 according to Brahe's revision, in both instances there result false distances of the planet from the center, whether of the sun (for Copernicus and Brahe) or of the world (for Ptolemy). Consequently, what we had previously constructed from the Brahean observations we have later in turn destroyed using other observations of his. This was the necessary consequence of our having followed (in imitation of previous theorists) several things that were plausible but really false.   \n",
       "1520  Up to the present, the hypothesis accounting for the first inequality (in which Brahe and Copernicus are in agreement, both differing somewhat in form from Ptolemy) has been presented using the sun's mean motion, which all three authors had substituted for the sun's apparent motion. Thereafter, it was shown that whether we follow the sun's apparent motion and the hypothesis found in Ch. 16, or the sun's mean motion and the hypothesis proposed in Ch. 8 according to Brahe's revision, in both instances there result false distances of the planet from the center, whether of the sun (for Copernicus and Brahe) or of the world (for Ptolemy). Consequently, what we had previously constructed from the Brahean observations we have later in turn destroyed using other observations of his. This was the necessary consequence of our having followed (in imitation of previous theorists) several things that were plausible but really false.   \n",
       "1521  Up to the present, the hypothesis accounting for the first inequality (in which Brahe and Copernicus are in agreement, both differing somewhat in form from Ptolemy) has been presented using the sun's mean motion, which all three authors had substituted for the sun's apparent motion. Thereafter, it was shown that whether we follow the sun's apparent motion and the hypothesis found in Ch. 16, or the sun's mean motion and the hypothesis proposed in Ch. 8 according to Brahe's revision, in both instances there result false distances of the planet from the center, whether of the sun (for Copernicus and Brahe) or of the world (for Ptolemy). Consequently, what we had previously constructed from the Brahean observations we have later in turn destroyed using other observations of his. This was the necessary consequence of our having followed (in imitation of previous theorists) several things that were plausible but really false.   \n",
       "1522  Up to the present, the hypothesis accounting for the first inequality (in which Brahe and Copernicus are in agreement, both differing somewhat in form from Ptolemy) has been presented using the sun's mean motion, which all three authors had substituted for the sun's apparent motion. Thereafter, it was shown that whether we follow the sun's apparent motion and the hypothesis found in Ch. 16, or the sun's mean motion and the hypothesis proposed in Ch. 8 according to Brahe's revision, in both instances there result false distances of the planet from the center, whether of the sun (for Copernicus and Brahe) or of the world (for Ptolemy). Consequently, what we had previously constructed from the Brahean observations we have later in turn destroyed using other observations of his. This was the necessary consequence of our having followed (in imitation of previous theorists) several things that were plausible but really false.   \n",
       "1523                                                                                                                                                                                                                                                                                                                                                                                                                                                                                                                                                                                                                                                                                                                                                                                                                       And this much of the work is dedicated to this imitation of previous theorists, with which I am concluding this second part of the Commentaries.   \n",
       "\n",
       "      ParaIndex  \\\n",
       "1519        482   \n",
       "1520        482   \n",
       "1521        482   \n",
       "1522        482   \n",
       "1523        483   \n",
       "\n",
       "                                                                                                                                                         ASO  \\\n",
       "1519                                                                                                                                           {'act': '16'}   \n",
       "1520  {'act': 'result', 'obj': 'false distances of the planet from the center, whether of the sun (for Copernicus and Brahe) or of the world (for Ptolemy)'}   \n",
       "1521                                                                                                                                    {'act': 'destroyed'}   \n",
       "1522                                                                                                                       {'act': 'was', 'subject': 'this'}   \n",
       "1523                                                                                                                                    {'act': 'dedicated'}   \n",
       "\n",
       "                  Entities       CNER  Label  \n",
       "1519                    []  [0, 0, 0]      0  \n",
       "1520  [[Copernicus, NAME]]  [0, 0, 0]      0  \n",
       "1521     [[Brahean, NAME]]  [0, 0, 0]      0  \n",
       "1522                    []  [0, 0, 0]      0  \n",
       "1523                    []  [0, 0, 0]      0  "
      ]
     },
     "execution_count": 13,
     "metadata": {},
     "output_type": "execute_result"
    }
   ],
   "source": [
    "df.tail()"
   ]
  },
  {
   "cell_type": "code",
   "execution_count": 14,
   "metadata": {},
   "outputs": [
    {
     "data": {
      "text/html": [
       "<div>\n",
       "<style scoped>\n",
       "    .dataframe tbody tr th:only-of-type {\n",
       "        vertical-align: middle;\n",
       "    }\n",
       "\n",
       "    .dataframe tbody tr th {\n",
       "        vertical-align: top;\n",
       "    }\n",
       "\n",
       "    .dataframe thead th {\n",
       "        text-align: right;\n",
       "    }\n",
       "</style>\n",
       "<table border=\"1\" class=\"dataframe\">\n",
       "  <thead>\n",
       "    <tr style=\"text-align: right;\">\n",
       "      <th></th>\n",
       "      <th>Sentence</th>\n",
       "      <th>SentIndex</th>\n",
       "      <th>Chapter</th>\n",
       "      <th>Paragraph</th>\n",
       "      <th>ParaIndex</th>\n",
       "      <th>ASO</th>\n",
       "      <th>Entities</th>\n",
       "      <th>CNER</th>\n",
       "      <th>Label</th>\n",
       "    </tr>\n",
       "  </thead>\n",
       "  <tbody>\n",
       "    <tr>\n",
       "      <td>158</td>\n",
       "      <td>On 1580 November 12 at 10h 50m,1 they set Mars down at 8° 36’ 50” Gemini2 without mentioning the horizontal variations,  by which term I wish the diurnal parallaxes and the refractions to be understood in what follows.</td>\n",
       "      <td>967</td>\n",
       "      <td>10</td>\n",
       "      <td>On 1580 November 12 at 10h 50m,1 they set Mars down at 8° 36’ 50” Gemini2 without mentioning the horizontal variations,  by which term I wish the diurnal parallaxes and the refractions to be understood in what follows. Now this observation is distant and isolated. It was reduced to the moment of opposition using the diurnal motion from the Prutenic Tables ^3.</td>\n",
       "      <td>218</td>\n",
       "      <td>{'act': 'set', 'subject': 'they', 'obj': 'Mars '}</td>\n",
       "      <td>[[1580 November 12, DATE], [10h 50m,1 they, TIME], [Mars, PLAN], [8° 36’ 50”, LONG], [diurnal, ASTR]]</td>\n",
       "      <td>[1, 1, 1]</td>\n",
       "      <td>1</td>\n",
       "    </tr>\n",
       "    <tr>\n",
       "      <td>168</td>\n",
       "      <td>On 1582 December 28 at 11h 30m, they set Mars down at 16° 47’ Cancer by observation ^6.</td>\n",
       "      <td>977</td>\n",
       "      <td>10</td>\n",
       "      <td>On 1582 December 28 at 11h 30m, they set Mars down at 16° 47’ Cancer by observation ^6. The moment of opposition assigned by Tycho comes 46 minutes later, during which the planet retrogressed less than one minute. Tycho therefore puts it at 16° 46’ 16” Cancer ^7. On an inserted sheet here, an attempt was made to correct for a refraction of two minutes. This was, I think, first trial of the theory of refraction then being developed. Nevertheless, he followed the observed value unchanged, thus declining to consider the planet as something which could alter its position. Nor was there any need for  correction, since it was in Cancer, beyond the reach of refraction, and was in mid-sky where, in Cancer, there is no longitudinal parallax.</td>\n",
       "      <td>221</td>\n",
       "      <td>{'act': 'set', 'subject': 'they', 'obj': 'Mars '}</td>\n",
       "      <td>[[1582 December 28, DATE], [11h 30m, TIME], [Mars, PLAN], [16° 47’ Cancer, LONG], [observation, ASTR]]</td>\n",
       "      <td>[1, 1, 1]</td>\n",
       "      <td>1</td>\n",
       "    </tr>\n",
       "    <tr>\n",
       "      <td>175</td>\n",
       "      <td>On 1585 January 31 at 12h 0m, Mars was placed at 21° 18’ 11” Leo ^8.</td>\n",
       "      <td>984</td>\n",
       "      <td>10</td>\n",
       "      <td>On 1585 January 31 at 12h 0m, Mars was placed at 21° 18’ 11” Leo ^8. The diurnal motion, by comparison of observations, was 24’ 15”. The moment of opposition followed at 19h 35m, 7 hours and 35 minutes later. To this period belongs 7’ 41” of diurnal motion westward. Therefore, at the designated moment, it would have been at 21° 10’ 30” Leo, which is what was accepted. There is no mention of parallax. Nothing had to be done about refraction, because Mars was high and at mid-sky. I therefore find the bit of advice in the table about refraction (properly) ignored.</td>\n",
       "      <td>222</td>\n",
       "      <td>{'act': 'placed'}</td>\n",
       "      <td>[[1585 January 31, DATE], [12h 0m, TIME], [Mars, PLAN], [21° 18’ 11” Leo, LONG]]</td>\n",
       "      <td>[1, 1, 1]</td>\n",
       "      <td>1</td>\n",
       "    </tr>\n",
       "    <tr>\n",
       "      <td>183</td>\n",
       "      <td>On 1587 March 7 at 19h 10m they deduced the position of Mars from the observations, which was 25° 10’ 20” Virgo.</td>\n",
       "      <td>992</td>\n",
       "      <td>10</td>\n",
       "      <td>On 1587 March 7 at 19h 10m they deduced the position of Mars from the observations, which was 25° 10’ 20” Virgo. This they kept in the table, but changed the time to 17h 22m. The difference of 1h 48m multiplied by a diurnal motion of 24’ gives the same number of minutes and seconds (that is, 1’ 48”), no more. It therefore should have been 25° 8’ 32” Virgo, which also approaches nearer the point opposite the sun. The difference is of practically no importance ^9.</td>\n",
       "      <td>223</td>\n",
       "      <td>{'act': 'm'}</td>\n",
       "      <td>[[1587 March 7, DATE], [19h 10m, TIME], [Mars, PLAN], [25° 10’ 20” Virgo., LONG]]</td>\n",
       "      <td>[1, 1, 1]</td>\n",
       "      <td>1</td>\n",
       "    </tr>\n",
       "    <tr>\n",
       "      <td>188</td>\n",
       "      <td>On 1589 April 15 at 12h 5m they established the position of Mars very carefully at 3° 58' 21\" Scorpio, and corrected for longitudinal parallax so as to make it 3° 57’ 11” ^10.</td>\n",
       "      <td>997</td>\n",
       "      <td>10</td>\n",
       "      <td>On 1589 April 15 at 12h 5m they established the position of Mars very carefully at 3° 58' 21\" Scorpio, and corrected for longitudinal parallax so as to make it 3° 57’ 11” ^10. There remain 1h 30m until the designated moment of opposition, which, for a diurnal motion of 22', bring the planet back 1’ 22”, so as to be at 3° 55’ 49”. They took the value of 3° 58’ 10”. The former is closer to the sun’s mean position.</td>\n",
       "      <td>224</td>\n",
       "      <td>{'act': 'established', 'subject': 'they', 'obj': 'the position of Mars '}</td>\n",
       "      <td>[[1589 April 15, DATE], [12h 5m, TIME], [Mars, PLAN], [3° 58' 21\" Scorpio, LONG], [longitudinal, ASTR], [parallax, ASTR], [3° 57’ 11”, LONG]]</td>\n",
       "      <td>[1, 1, 1]</td>\n",
       "      <td>1</td>\n",
       "    </tr>\n",
       "    <tr>\n",
       "      <td>192</td>\n",
       "      <td>On 1591 June 6 at 12h 20m, Mars is placed at 27° 15’ Sagittarius ^11.</td>\n",
       "      <td>1001</td>\n",
       "      <td>10</td>\n",
       "      <td>On 1591 June 6 at 12h 20m, Mars is placed at 27° 15’ Sagittarius ^11. There remained 2 days 4 hours and 5 minutes until the designated moment. In four days it was found to be moved forward 1° 12’ 47”. Therefore, to 2d 4h 5m correspond 39’ 29”. Consequently, at that moment Mars was at 26° 35’ 31” Sagittarius. There is no need to consider any horizontal variations in longitude, since Mars is at mid-sky and at the beginning of Capricorn. The table has 26° 32’ Sagittarius.</td>\n",
       "      <td>225</td>\n",
       "      <td>{'act': 'placed'}</td>\n",
       "      <td>[[1591 June 6, DATE], [12h 20m, TIME], [Mars, PLAN], [27° 15’ Sagittarius, LONG]]</td>\n",
       "      <td>[1, 1, 1]</td>\n",
       "      <td>1</td>\n",
       "    </tr>\n",
       "    <tr>\n",
       "      <td>199</td>\n",
       "      <td>On 1593 24 August at 10h 30m they report Mars as being at 12° 38’ Pisces12 with an observed diurnal motion of 16’ 45”, and this near the nonagesimal13 where there is no longitudinal parallax.</td>\n",
       "      <td>1008</td>\n",
       "      <td>10</td>\n",
       "      <td>On 1593 24 August at 10h 30m they report Mars as being at 12° 38’ Pisces12 with an observed diurnal motion of 16’ 45”, and this near the nonagesimal13 where there is no longitudinal parallax. The moment designated for the opposition preceded this by 8h 17m (for it was at 2h 13m),14 to which corresponds a motion of 5’ 48” eastward. Therefore, the planet falls at 12° 43’ 48” Pisces. And the table has 12° 43’ 45”.</td>\n",
       "      <td>226</td>\n",
       "      <td>{'act': 'report', 'subject': 'they', 'obj': 'Mars '}</td>\n",
       "      <td>[[1593 24 August, DATE], [10h 30m, TIME], [Mars, PLAN], [12° 38’ Pisces12, LONG], [observed, ASTR], [diurnal, ASTR], [16’ 45”, LONG], [longitudinal, ASTR], [parallax, ASTR]]</td>\n",
       "      <td>[1, 1, 1]</td>\n",
       "      <td>1</td>\n",
       "    </tr>\n",
       "    <tr>\n",
       "      <td>203</td>\n",
       "      <td>On 1595 October 30 at 8h 20m, they found Mars at 17° 48’ Taurus, with a diurnal motion of 22’ 54” ^15.</td>\n",
       "      <td>1012</td>\n",
       "      <td>10</td>\n",
       "      <td>On 1595 October 30 at 8h 20m, they found Mars at 17° 48’ Taurus, with a diurnal motion of 22’ 54” ^15. The designated moment preceded by 11h 48m, for which is required a motion of Mars of 11’ 7” eastward, so that it would be at 17° 59’ 7” Taurus. But it was projected eastward on account of parallax. Therefore, possibly using another observation on the meridian, they put down 17° 56’ 15” Taurus in the table.</td>\n",
       "      <td>227</td>\n",
       "      <td>{'act': 'found', 'subject': 'they', 'obj': 'Mars '}</td>\n",
       "      <td>[[1595 October 30, DATE], [8h 20m, TIME], [Mars, PLAN], [17° 48’ Taurus, LONG], [diurnal, ASTR], [22’ 54”, LONG]]</td>\n",
       "      <td>[1, 1, 1]</td>\n",
       "      <td>1</td>\n",
       "    </tr>\n",
       "    <tr>\n",
       "      <td>207</td>\n",
       "      <td>On 1597 December 10 at 8h 30m, they first placed Mars at 3° 30’ Cancer, and again at 4° 1’ Cancer, the mean being 3° 45½’ Cancer ^16.</td>\n",
       "      <td>1016</td>\n",
       "      <td>10</td>\n",
       "      <td>On 1597 December 10 at 8h 30m, they first placed Mars at 3° 30’ Cancer, and again at 4° 1’ Cancer, the mean being 3° 45½’ Cancer ^16. The moment of opposition came 3 days 5h 5m later, to which, from Magini, corresponds 1° 15’ westward. Therefore, Mars would have been at 2° 30½’ Cancer. In the table, it was put at 2° 28’. The reason for the rough measurement, carried out with a measuring staff, is clear from the date. Tycho had left the island, leaving all  instruments but the staff behind. Nevertheless, he did not wish to ignore this opposition completely. But I wish he had still remained on the island, for this opposition was a marvelous opportunity, not often recurring within a man’s lifetime, for examining Mars’s parallax.</td>\n",
       "      <td>228</td>\n",
       "      <td>{'act': 'placed', 'subject': 'they', 'obj': 'Mars '}</td>\n",
       "      <td>[[1597 December 10, DATE], [8h 30m, TIME], [Mars, PLAN], [3° 30’ Cancer, LONG], [4° 1’ Cancer, LONG], [3° 45½’, LONG]]</td>\n",
       "      <td>[1, 1, 1]</td>\n",
       "      <td>1</td>\n",
       "    </tr>\n",
       "    <tr>\n",
       "      <td>218</td>\n",
       "      <td>This gives a diurnal motion of 23’ 44”, and a position on January 19/29 at 9h 40m of 8° 18’ 45” Leo, just as they put it.</td>\n",
       "      <td>1027</td>\n",
       "      <td>10</td>\n",
       "      <td>Hence, Mars is at 10° 38’ 46” Leo, at an adjusted time of 11h 40m reduced to the meridian of Uraniborg. But on January 24/February 3 at the same time it was at 6° 18’ Leo. This gives a diurnal motion of 23’ 44”, and a position on January 19/29 at 9h 40m of 8° 18’ 45” Leo, just as they put it.</td>\n",
       "      <td>230</td>\n",
       "      <td>{'act': 'gives', 'subject': 'this', 'obj': 'a diurnal motion of 23’ 44'}</td>\n",
       "      <td>[[diurnal, ASTR], [23’ 44”, LONG], [January 19/29, DATE], [9h 40m, TIME], [8° 18’ 45” Leo, LONG]]</td>\n",
       "      <td>[1, 1, 1]</td>\n",
       "      <td>1</td>\n",
       "    </tr>\n",
       "    <tr>\n",
       "      <td>262</td>\n",
       "      <td>Again, at 7h 15m on the morning of December 27, it was 36° 43’ from Cor Leonis,7 whose latitude is 0° 26½’; hence, its longitude at the end of 1582 is 17° 28⅓’ Cancer, altitude 14° 4’, and thus affected by refraction.</td>\n",
       "      <td>1071</td>\n",
       "      <td>11</td>\n",
       "      <td>Again, at 7h 15m on the morning of December 27, it was 36° 43’ from Cor Leonis,7 whose latitude is 0° 26½’; hence, its longitude at the end of 1582 is 17° 28⅓’ Cancer, altitude 14° 4’, and thus affected by refraction. Therefore, from 8h 28½m in the evening to 19h 15m, an interval of 10h 46½m, it was observed to retrogress 9⅔’.</td>\n",
       "      <td>245</td>\n",
       "      <td>{'act': 'is', 'subject': 'longitude'}</td>\n",
       "      <td>[[7h 15m, TIME], [December 27, DATE], [36° 43’, LONG], [Cor Leonis,7, STAR], [latitude, ASTR], [0° 26½’, LONG], [longitude, ASTR], [17° 28⅓’, LONG], [altitude, ASTR], [14° 4’, LONG], [refraction, ASTR]]</td>\n",
       "      <td>[1, 1, 1]</td>\n",
       "      <td>1</td>\n",
       "    </tr>\n",
       "    <tr>\n",
       "      <td>278</td>\n",
       "      <td>On 1583 January 16 at 7h 30m in the evening,11 Mars was 23° 29’ from the bright star in the foot of Erichthonius at an altitude of 51°.</td>\n",
       "      <td>1087</td>\n",
       "      <td>11</td>\n",
       "      <td>On 1583 January 16 at 7h 30m in the evening,11 Mars was 23° 29’ from the bright star in the foot of Erichthonius at an altitude of 51°. The next morning at 5h 0m, it was 43° 58’ from Cor Leonis at an altitude of 15°. And, measured by the straight edge, Mars was perfectly collinear with the two stars. And so, since Mars’s motion is carried out along this line, Brahe made a note that the longitudinal parallax is given from the diurnal motion of Mars. This is obtained here as follows. On January 16 at 10½h it was 23° 27’ from the bright star in the foot of Erichthonius. On January 17 at 10⅗h 12 it was 23° 12½’ from the same star. Therefore, the diurnal motion would be 14½’. Now in order to comply with Brahe’s advice, we must set out the distance between the foot of Erichthonius and Cor Leonis, which is found to be 67° 21’. Subtracting Mars's distance from the bright star in the foot of Erichthonius, 23° 29’, leaves Mars's distance from Cor Leonis, 43° 52’, at 7½h in the evening, which...</td>\n",
       "      <td>248</td>\n",
       "      <td>{'act': 'was', 'subject': 'mars'}</td>\n",
       "      <td>[[1583 January 16, DATE], [7h 30m, TIME], [evening,11, ASTR], [Mars, PLAN], [23° 29’, LONG], [star, ASTR], [Erichthonius, NAME], [altitude, ASTR]]</td>\n",
       "      <td>[1, 1, 1]</td>\n",
       "      <td>1</td>\n",
       "    </tr>\n",
       "    <tr>\n",
       "      <td>292</td>\n",
       "      <td>On January 17 at 5h 20m in the evening,13 Mars was 23° 16’ from the foot of Erichthonius.</td>\n",
       "      <td>1101</td>\n",
       "      <td>11</td>\n",
       "      <td>On January 17 at 5h 20m in the evening,13 Mars was 23° 16’ from the foot of Erichthonius. On the following day, the 18th, at 3h 0m in the morning, this distance was 23° 9’, and at 5h 5m in the evening it was 23° 1½’. So the motion over 23h 45m is 14½’, but over 9h 40m it is 7’. This should have been 6’. We are left with a longitudinal parallax of no more than 1’. Refraction does not affect anything, since in both instances the altitude of Mars was about 30°.</td>\n",
       "      <td>249</td>\n",
       "      <td>{'act': 'was', 'subject': 'mars'}</td>\n",
       "      <td>[[January 17, DATE], [5h 20m, TIME], [Mars, PLAN], [23° 16’, LONG], [Erichthonius., STAR]]</td>\n",
       "      <td>[1, 1, 1]</td>\n",
       "      <td>1</td>\n",
       "    </tr>\n",
       "    <tr>\n",
       "      <td>303</td>\n",
       "      <td>On January 18 at 8h 52m in the evening15 there was 44° 22’ between Mars and Cor Leonis.</td>\n",
       "      <td>1112</td>\n",
       "      <td>11</td>\n",
       "      <td>On January 18 at 8h 52m in the evening15 there was 44° 22’ between Mars and Cor Leonis. At 4¾h in the morning the same distance was 44° 27⅓’. Therefore, the motion over 7h 53m was 5⅓’. On January 19 following, at 7h 3m, this distance was 44° 32½’. Therefore, for 22h 11m the motion is 10½’. And for 8 hours there would be less than 4’ of motion. Our profit is about 1½’ of parallax.</td>\n",
       "      <td>251</td>\n",
       "      <td>{'act': 'was'}</td>\n",
       "      <td>[[January 18, DATE], [8h 52m, TIME], [44° 22’, LONG], [Mars, PLAN], [Cor Leonis, STAR]]</td>\n",
       "      <td>[1, 1, 1]</td>\n",
       "      <td>1</td>\n",
       "    </tr>\n",
       "    <tr>\n",
       "      <td>306</td>\n",
       "      <td>On January 19 following, at 7h 3m, this distance was 44° 32½’.</td>\n",
       "      <td>1115</td>\n",
       "      <td>11</td>\n",
       "      <td>On January 18 at 8h 52m in the evening15 there was 44° 22’ between Mars and Cor Leonis. At 4¾h in the morning the same distance was 44° 27⅓’. Therefore, the motion over 7h 53m was 5⅓’. On January 19 following, at 7h 3m, this distance was 44° 32½’. Therefore, for 22h 11m the motion is 10½’. And for 8 hours there would be less than 4’ of motion. Our profit is about 1½’ of parallax.</td>\n",
       "      <td>251</td>\n",
       "      <td>{'act': 'was', 'subject': 'distance'}</td>\n",
       "      <td>[[January 19, DATE], [7h 3m, TIME], [44° 32½’, LONG]]</td>\n",
       "      <td>[1, 1, 1]</td>\n",
       "      <td>1</td>\n",
       "    </tr>\n",
       "    <tr>\n",
       "      <td>484</td>\n",
       "      <td>On 1590 March 4 at 7h 10m in the evening, Mars's declination was 9° 26’</td>\n",
       "      <td>1293</td>\n",
       "      <td>12</td>\n",
       "      <td>On 1590 March 4 at 7h 10m in the evening, Mars's declination was 9° 26’</td>\n",
       "      <td>288</td>\n",
       "      <td>{'act': 'was', 'subject': 'declination'}</td>\n",
       "      <td>[[1590 March 4, DATE], [7h 10m, TIME], [Mars, PLAN], [9° 26’, LONG]]</td>\n",
       "      <td>[1, 1, 1]</td>\n",
       "      <td>1</td>\n",
       "    </tr>\n",
       "    <tr>\n",
       "      <td>488</td>\n",
       "      <td>On 1592 January 23 at 10h 15m in the evening, Mars was at 11° 34’ 30” Aries with latitude 0° 2’ south ^3.</td>\n",
       "      <td>1297</td>\n",
       "      <td>12</td>\n",
       "      <td>On 1592 January 23 at 10h 15m in the evening, Mars was at 11° 34’ 30” Aries with latitude 0° 2’ south ^3. The altitude of Mars was 25°, and therefore (from the table for the fixed stars),4 there was no refraction. The parallax was about as much as the sun's, because Mars and the sun were sextile, and were therefore about equally distant from earth ^5. Nearly all of this was latitudinal. Therefore, about two minutes of latitude must be added northward to Mars in order to free it from parallax, and it thus will fall upon the ecliptic. For on February 6 it was already at about 7’ northern latitude ^6.</td>\n",
       "      <td>290</td>\n",
       "      <td>{'act': 'was', 'subject': 'mars'}</td>\n",
       "      <td>[[1592 January 23, DATE], [10h 15m, TIME], [Mars, PLAN], [11° 34’ 30” Aries, LONG], [latitude, ASTR], [0° 2’, LONG], [south, ASTR]]</td>\n",
       "      <td>[1, 1, 1]</td>\n",
       "      <td>1</td>\n",
       "    </tr>\n",
       "    <tr>\n",
       "      <td>496</td>\n",
       "      <td>On 1595 October 27 at 12h 20m, Mars's true latitude after the removal of parallax was 0° 2’ 20” south ^8.</td>\n",
       "      <td>1305</td>\n",
       "      <td>12</td>\n",
       "      <td>On 1595 October 27 at 12h 20m, Mars's true latitude after the removal of parallax was 0° 2’ 20” south ^8. On the 28th, when the parallax had similarly been removed, the latitude was 0° 0’ 25” north ^9. Therefore,*  in the meanwhile, it was at the ascending node.</td>\n",
       "      <td>292</td>\n",
       "      <td>{'act': 'was', 'subject': 'latitude'}</td>\n",
       "      <td>[[1595 October 27, DATE], [12h 20m, TIME], [Mars, PLAN], [latitude, ASTR], [parallax, ASTR], [0° 2’ 20”, LONG], [south, ASTR]]</td>\n",
       "      <td>[1, 1, 1]</td>\n",
       "      <td>1</td>\n",
       "    </tr>\n",
       "    <tr>\n",
       "      <td>508</td>\n",
       "      <td>I. On the morning of 1595 January 4, when Mars was observed at 7h 10m at altitude 8°, with reference to Spica Virginis and Cor Scorpii,10 it was observed at latitude 0° 3’ 46” N, and it was itself at 13° 36’ 40” Sagittarius ^11.</td>\n",
       "      <td>1317</td>\n",
       "      <td>12</td>\n",
       "      <td>I. On the morning of 1595 January 4, when Mars was observed at 7h 10m at altitude 8°, with reference to Spica Virginis and Cor Scorpii,10 it was observed at latitude 0° 3’ 46” N, and it was itself at 13° 36’ 40” Sagittarius ^11. The  parallax is small, because Mars was more than twice as far from the earth as is the sun. Refraction, on the other hand, is large: 6’ 45” from the table for the fixed stars, or 11 minutes from the table for the sun ^12. This is nearly all latitudinal, owing to the low altitude of the nonagesimal ^13. Therefore, Mars (reckoning by the refraction displayed by the sun) was really at a few minutes south latitude—about 2 or 3, or even more.</td>\n",
       "      <td>296</td>\n",
       "      <td>{'act': 'observed', 'obj': '8°'}</td>\n",
       "      <td>[[1595 January 4, DATE], [Mars, PLAN], [observed, ASTR], [7h 10m, TIME], [altitude, ASTR], [Cor Scorpii,10, STAR], [observed, ASTR], [latitude, ASTR], [0° 3’ 46”, LONG], [13° 36’ 40” Sagittarius, LONG]]</td>\n",
       "      <td>[1, 1, 1]</td>\n",
       "      <td>1</td>\n",
       "    </tr>\n",
       "    <tr>\n",
       "      <td>574</td>\n",
       "      <td>Accordingly, on 1588 November 10 at 6h 30m in the morning the planet Mars was seen at 25° 31’ Virgo, with a latitude of 1° 36’ 45” north, the sun being at 21 Scorpio ^4.</td>\n",
       "      <td>1383</td>\n",
       "      <td>13</td>\n",
       "      <td>Accordingly, on 1588 November 10 at 6h 30m in the morning the planet Mars was seen at 25° 31’ Virgo, with a latitude of 1° 36’ 45” north, the sun being at 21 Scorpio ^4. The sun is thus only 62½˚ from Mars, although it should have been 72° from Mars in order to make the triangle isosceles, as the problem requires. Therefore, Mars is then farther from the earth than from the sun. Consequently, its latitude at that place appeared less than was the true inclination.</td>\n",
       "      <td>315</td>\n",
       "      <td>{'act': 'seen'}</td>\n",
       "      <td>[[1588 November 10, DATE], [6h 30m, TIME], [Mars, PLAN], [25° 31’ Virgo, LONG], [latitude, ASTR], [1° 36’ 45”, LONG], [north, ASTR]]</td>\n",
       "      <td>[1, 1, 1]</td>\n",
       "      <td>1</td>\n",
       "    </tr>\n",
       "    <tr>\n",
       "      <td>584</td>\n",
       "      <td>Similarly, on 1586 October 22 at 6h in the morning, about dawn, there was about 6° 9’ eastward between Mars and Cor Leonis ^6.</td>\n",
       "      <td>1393</td>\n",
       "      <td>13</td>\n",
       "      <td>Similarly, on 1586 October 22 at 6h in the morning, about dawn, there was about 6° 9’ eastward between Mars and Cor Leonis ^6. The declination of Mars from the equator was 13° 0’ 40” north. Hence, its apparent longitude is found to be 0° 7’ Virgo,7 latitude 1° 36’ 6” N ^8. The sun stood at 8° Scorpio, 68° from Mars. It should have been farther. Consequently, the line between Mars and the earth was longer than that between Mars and the sun. And so the apparent latitude was less than the true digression of the planet from the ecliptic, and this was, in fact, long before it reached the limit.</td>\n",
       "      <td>317</td>\n",
       "      <td>{'act': 'was'}</td>\n",
       "      <td>[[1586 October 22, DATE], [6h, TIME], [6° 9’, LONG], [eastward, ASTR], [Mars, PLAN], [Cor Leonis, STAR]]</td>\n",
       "      <td>[1, 1, 1]</td>\n",
       "      <td>1</td>\n",
       "    </tr>\n",
       "    <tr>\n",
       "      <td>651</td>\n",
       "      <td>On 1585 April 26 at 9h 42m, Mars was seen at 21° 26’ Leo with latitude 1° 49¾’ north ^18.</td>\n",
       "      <td>1460</td>\n",
       "      <td>13</td>\n",
       "      <td>On 1585 April 26 at 9h 42m, Mars was seen at 21° 26’ Leo with latitude 1° 49¾’ north ^18. The sun was at 16° Taurus, right near the node. Mars’s line of vision was a little inclined, since Mars was beyond 16° Leo. Therefore, the angle of maximum inclination of the planes was only a little greater than 1° 49¾’; that is, 1° 50’ or a little greater.</td>\n",
       "      <td>329</td>\n",
       "      <td>{'act': 'seen'}</td>\n",
       "      <td>[[1585 April 26, DATE], [9h 42m, TIME], [Mars, PLAN], [21° 26’ Leo, LONG], [latitude, ASTR], [1° 49¾’, LONG], [north, ASTR]]</td>\n",
       "      <td>[1, 1, 1]</td>\n",
       "      <td>1</td>\n",
       "    </tr>\n",
       "    <tr>\n",
       "      <td>655</td>\n",
       "      <td>Similarly, near the other limit, on 1591 October 16 at 6h 30m in the evening, Mars was seen at 1° 27⅓’ Aquarius with latitude 2° 10⅚’ south, decreasing ^19.</td>\n",
       "      <td>1464</td>\n",
       "      <td>13</td>\n",
       "      <td>Similarly, near the other limit, on 1591 October 16 at 6h 30m in the evening, Mars was seen at 1° 27⅓’ Aquarius with latitude 2° 10⅚’ south, decreasing ^19. (For on October 10 preceding, the latitude was 2° 18⅔’,20 and on October 2 it was 2° 38½‘.) The sun was at 2½° Scorpio, above the node. The earth was therefore below the node towards Mars. So because of this proximity, the observed latitude was greater than the inclination of the plane of the ecliptic. Fourteen days later, when the sun was at the node, if it were again to have decreased 28 minutes (the amount of decrease in the previous 14 days), there would remain 1° 45’. But the ratio of decrease does not remain the same when the earth departs from a star, or vice versa. For at a greater distance the decrease is always less. Therefore nothing can be adduced here against a maximum inclination of 1° 50’. On the contrary: it is indirectly confirmed.</td>\n",
       "      <td>330</td>\n",
       "      <td>{'act': 'seen'}</td>\n",
       "      <td>[[1591 October 16, DATE], [6h 30m, TIME], [Mars, PLAN], [1° 27⅓’, LONG], [latitude, ASTR], [2° 10⅚’, LONG], [south, ASTR]]</td>\n",
       "      <td>[1, 1, 1]</td>\n",
       "      <td>1</td>\n",
       "    </tr>\n",
       "    <tr>\n",
       "      <td>751</td>\n",
       "      <td>Suppose, however, that on 1580 November 12 at 10h 50m Mars was observed at 8° 37’ Gemini,3 and the motion over five days was 1° 55’.</td>\n",
       "      <td>1560</td>\n",
       "      <td>15</td>\n",
       "      <td>Suppose, however, that on 1580 November 12 at 10h 50m Mars was observed at 8° 37’ Gemini,3 and the motion over five days was 1° 55’. Since at the given time the sun stood at 0° 45’ 36“ Sagittarius, and its motion over five days is 5° 5’, the sum of the two motions will come to 7° 0’. But the sun is 7° 51’ 24“ removed from opposition to Mars. Of this, seven degrees exactly are traversed in 5 days, or 120 hours. So, according to the same ratio, the remaining 51’ 24“ will be traversed in 14 hours 41 minutes. Therefore, the moment of opposition was November 18 at 1h 31m. Its position was 6° 28’ Gemini on the ecliptic. Now this is 20° away from 16½° Taurus. I want to know how much longer this makes the arc on the orbit extended from the node to the arc of  latitude through 6° 28’ Gemini. So I turn to Philip Lansberg’s trigonometry ^4. I mention him out of honor and gratitude, for he has supplied me in abundance with the finest axes, best adapted for building astronomical foundations, fr...</td>\n",
       "      <td>350</td>\n",
       "      <td>{'act': 'Suppose'}</td>\n",
       "      <td>[[1580 November 12, DATE], [10h 50m, TIME], [Mars, PLAN], [observed, ASTR], [8° 37’ Gemini,3, LONG], [1° 55’, LONG]]</td>\n",
       "      <td>[1, 1, 1]</td>\n",
       "      <td>1</td>\n",
       "    </tr>\n",
       "    <tr>\n",
       "      <td>767</td>\n",
       "      <td>On the night following 1582 December 28, at 11h 30m, Mars was observed at 16° 47’ Cancer,6 while the true position of the sun was 17° 13’ 45“ Capricorn.</td>\n",
       "      <td>1576</td>\n",
       "      <td>15</td>\n",
       "      <td>On the night following 1582 December 28, at 11h 30m, Mars was observed at 16° 47’ Cancer,6 while the true position of the sun was 17° 13’ 45“ Capricorn. The moment of opposition had therefore passed. Now the sun’s diurnal motion was 61’ 18“, that of Mars 24’, and their sum, 85’ 18“. At this moment, the distance between the stars was 26’ 45“. Therefore, as 1° 25’ 18“ is to 24 hours, so is 26’ 45“ to 7 hours 32 minutes. Subtracting this from 11 hours 30 minutes gives December 28 at 3h 58m after noon as the moment of true opposition. Its position on the ecliptic was 16° 54’ 32“ Cancer, and by reduction to the orbit (a 50“ correction), 16° 55½’ Cancer. The latitude was 4° 6’ north, as given by Brahe’s table of oppositions. For among the observations I find various latitudes: on the night following December 26, 4° 6’ or 4° 2’, while on the night following December 29, 4° 8’ or 4° 6½’.</td>\n",
       "      <td>351</td>\n",
       "      <td>{'act': 'observed'}</td>\n",
       "      <td>[[1582 December 28, DATE], [11h 30m, TIME], [Mars, PLAN], [observed, ASTR], [16° 47’ Cancer,6, LONG], [17° 13’ 45“ Capricorn., LONG]]</td>\n",
       "      <td>[1, 1, 1]</td>\n",
       "      <td>1</td>\n",
       "    </tr>\n",
       "    <tr>\n",
       "      <td>776</td>\n",
       "      <td>On 1585 January 31 at 12h 0m, Mars was observed at 21° 18’ 11“ Leo ^7.</td>\n",
       "      <td>1585</td>\n",
       "      <td>15</td>\n",
       "      <td>On 1585 January 31 at 12h 0m, Mars was observed at 21° 18’ 11“ Leo ^7.  The sun was at 22° 21’ 31“Aquarius. The true opposition had therefore passed. The distance was 1° 3’ 20“. The sun’s diurnal motion was 61’ 16“, that of Mars 24’ 15“, and their sum 85’ 31“. Now as 1° 25’ 31“ is to 24 hours, so is 1° 3’ 20“ to 17 hours 46 minutes, to which correspond about 18’ of Mars’s motion. Therefore the time was January 30 at 19h 14m, and Mars’s ecliptic position was 21° 36’ 10“ Leo. For reduction, some very small quantity is subtracted, because Mars is then beyond the limit. Therefore, the extension of the arc on the orbit from the following node is directed westward. But because Mars was only 4 or 5 degrees from the node, the subtraction is rendered quite imperceptible. The latitude, on the authority of the Tychonic table, was 4° 32’ 10“ north. For the observation on January 31 at 12h gave 4° 31’. They added the remainder to the Tychonic figure, on account of diurnal parallax.</td>\n",
       "      <td>352</td>\n",
       "      <td>{'act': 'observed'}</td>\n",
       "      <td>[[1585 January 31, DATE], [12h 0m, TIME], [Mars, PLAN], [observed, ASTR], [21° 18’ 11“ Leo, LONG]]</td>\n",
       "      <td>[1, 1, 1]</td>\n",
       "      <td>1</td>\n",
       "    </tr>\n",
       "    <tr>\n",
       "      <td>782</td>\n",
       "      <td>Therefore the time was January 30 at 19h 14m, and Mars’s ecliptic position was 21° 36’ 10“ Leo.</td>\n",
       "      <td>1591</td>\n",
       "      <td>15</td>\n",
       "      <td>On 1585 January 31 at 12h 0m, Mars was observed at 21° 18’ 11“ Leo ^7.  The sun was at 22° 21’ 31“Aquarius. The true opposition had therefore passed. The distance was 1° 3’ 20“. The sun’s diurnal motion was 61’ 16“, that of Mars 24’ 15“, and their sum 85’ 31“. Now as 1° 25’ 31“ is to 24 hours, so is 1° 3’ 20“ to 17 hours 46 minutes, to which correspond about 18’ of Mars’s motion. Therefore the time was January 30 at 19h 14m, and Mars’s ecliptic position was 21° 36’ 10“ Leo. For reduction, some very small quantity is subtracted, because Mars is then beyond the limit. Therefore, the extension of the arc on the orbit from the following node is directed westward. But because Mars was only 4 or 5 degrees from the node, the subtraction is rendered quite imperceptible. The latitude, on the authority of the Tychonic table, was 4° 32’ 10“ north. For the observation on January 31 at 12h gave 4° 31’. They added the remainder to the Tychonic figure, on account of diurnal parallax.</td>\n",
       "      <td>352</td>\n",
       "      <td>{'act': 'was', 'subject': 'position'}</td>\n",
       "      <td>[[January 30, DATE], [19h 14m, TIME], [Mars, PLAN], [ecliptic, ASTR], [21° 36’ 10“ Leo., LONG]]</td>\n",
       "      <td>[1, 1, 1]</td>\n",
       "      <td>1</td>\n",
       "    </tr>\n",
       "    <tr>\n",
       "      <td>787</td>\n",
       "      <td>For the observation on January 31 at 12h gave 4° 31’.</td>\n",
       "      <td>1596</td>\n",
       "      <td>15</td>\n",
       "      <td>On 1585 January 31 at 12h 0m, Mars was observed at 21° 18’ 11“ Leo ^7.  The sun was at 22° 21’ 31“Aquarius. The true opposition had therefore passed. The distance was 1° 3’ 20“. The sun’s diurnal motion was 61’ 16“, that of Mars 24’ 15“, and their sum 85’ 31“. Now as 1° 25’ 31“ is to 24 hours, so is 1° 3’ 20“ to 17 hours 46 minutes, to which correspond about 18’ of Mars’s motion. Therefore the time was January 30 at 19h 14m, and Mars’s ecliptic position was 21° 36’ 10“ Leo. For reduction, some very small quantity is subtracted, because Mars is then beyond the limit. Therefore, the extension of the arc on the orbit from the following node is directed westward. But because Mars was only 4 or 5 degrees from the node, the subtraction is rendered quite imperceptible. The latitude, on the authority of the Tychonic table, was 4° 32’ 10“ north. For the observation on January 31 at 12h gave 4° 31’. They added the remainder to the Tychonic figure, on account of diurnal parallax.</td>\n",
       "      <td>352</td>\n",
       "      <td>{'act': 'gave', 'obj': '4° 31’'}</td>\n",
       "      <td>[[observation, ASTR], [January 31, DATE], [12h, TIME], [4° 31’, LONG]]</td>\n",
       "      <td>[1, 1, 1]</td>\n",
       "      <td>1</td>\n",
       "    </tr>\n",
       "    <tr>\n",
       "      <td>789</td>\n",
       "      <td>On the night following 1587 March 4, at 1h 16m past midnight, the position of Mars was found to be 26° 26’ 17“ Virgo,8 from Cor Leonis9 and Spica Virginis, with an observed latitude of 3° 38’ 16“ north.</td>\n",
       "      <td>1598</td>\n",
       "      <td>15</td>\n",
       "      <td>On the night following 1587 March 4, at 1h 16m past midnight, the position of Mars was found to be 26° 26’ 17“ Virgo,8 from Cor Leonis9 and Spica Virginis, with an observed latitude of 3° 38’ 16“ north. But because Mars was elevated 37½° above the horizon, diurnal parallax comes into the reckoning, and subtracts some small quantity from the longitude, thus making it 26° 26’ Virgo, with a slightly greater latitude. For since the sun is nearly twice as far away from earth as is Mars, Mars’s parallax will consequently be nearly twice the sun’s. On the supposition that the sun’s is 3’, Mars’s will be about 5’. Now when 9° Sagittarius is rising, the nonagesimal10 is 55° from the zenith. Opposite this number in our parallactic table,11 under the column headed 5’, the latitudinal parallax 4’ is shown. Therefore, the latitude observed from the center of the earth would be 3° 42’ 22“ north. In Part V below, this will be useful to us in a more accurate examination of Mars’s parallaxes, where...</td>\n",
       "      <td>353</td>\n",
       "      <td>{'act': 'found'}</td>\n",
       "      <td>[[1587 March 4, DATE], [1h 16m, TIME], [Mars, PLAN], [26° 26’ 17“ Virgo,8, LONG], [Cor Leonis9, STAR], [observed, ASTR], [latitude, ASTR], [3° 38’ 16“, LONG], [north, ASTR]]</td>\n",
       "      <td>[1, 1, 1]</td>\n",
       "      <td>1</td>\n",
       "    </tr>\n",
       "    <tr>\n",
       "      <td>808</td>\n",
       "      <td>On the night following 1589 April 15 at 12h 5m, the planet was found at 3° 58’ 20“ Scorpio,13 with latitude 1° 4’ 20“ north, decreasing.</td>\n",
       "      <td>1617</td>\n",
       "      <td>15</td>\n",
       "      <td>On the night following 1589 April 15 at 12h 5m, the planet was found at 3° 58’ 20“ Scorpio,13 with latitude 1° 4’ 20“ north, decreasing. Mars’s altitude was 22⅕°, where refraction from the table for the fixed stars was zero, and from the table for the sun, 3½’. But the parallax was about twice as great as the sun’s, that is, 6 minutes at the horizon. The degree rising was 24° Sagittarius. Therefore, the nonagesimal was 64° from the zenith, giving a diurnal latitudinal parallax of 5’ 24“. Whether it really was that much will become apparent below, through a careful consideration of latitudes ^14. For there, the northern latitude, free from diurnal parallax (and if there is no refraction), would come out to be 1° 9’ 45“ north. And because the altitude of the nonagesimal is 26°, the longitudinal parallax15 at the horizon is 2’ 38“. But Mars is 40° from the nonagesimal, counting from 4° Scorpio to 24° Virgo, which, under the column  headed 2’ 38“ shows a true longitudinal parallax of 1...</td>\n",
       "      <td>354</td>\n",
       "      <td>{'act': 'found'}</td>\n",
       "      <td>[[1589 April 15, DATE], [12h 5m, TIME], [3° 58’ 20“ Scorpio,13, LONG], [latitude, ASTR], [1° 4’ 20“, LONG], [north, ASTR]]</td>\n",
       "      <td>[1, 1, 1]</td>\n",
       "      <td>1</td>\n",
       "    </tr>\n",
       "    <tr>\n",
       "      <td>830</td>\n",
       "      <td>On the night following 1591 June 6 at 12h 20m, Mars was found at 27° 14’ 42“ Sagittarius,16 with latitude 3° 55½’ south.</td>\n",
       "      <td>1639</td>\n",
       "      <td>15</td>\n",
       "      <td>On the night following 1589 April 15 at 12h 5m, the planet was found at 3° 58’ 20“ Scorpio,13 with latitude 1° 4’ 20“ north, decreasing. Mars’s altitude was 22⅕°, where refraction from the table for the fixed stars was zero, and from the table for the sun, 3½’. But the parallax was about twice as great as the sun’s, that is, 6 minutes at the horizon. The degree rising was 24° Sagittarius. Therefore, the nonagesimal was 64° from the zenith, giving a diurnal latitudinal parallax of 5’ 24“. Whether it really was that much will become apparent below, through a careful consideration of latitudes ^14. For there, the northern latitude, free from diurnal parallax (and if there is no refraction), would come out to be 1° 9’ 45“ north. And because the altitude of the nonagesimal is 26°, the longitudinal parallax15 at the horizon is 2’ 38“. But Mars is 40° from the nonagesimal, counting from 4° Scorpio to 24° Virgo, which, under the column  headed 2’ 38“ shows a true longitudinal parallax of 1...</td>\n",
       "      <td>354</td>\n",
       "      <td>{'act': 'found'}</td>\n",
       "      <td>[[1591 June 6, DATE], [12h 20m, TIME], [Mars, PLAN], [27° 14’ 42“ Sagittarius,16, LONG], [latitude, ASTR], [3° 55½’, LONG], [south, ASTR]]</td>\n",
       "      <td>[1, 1, 1]</td>\n",
       "      <td>1</td>\n",
       "    </tr>\n",
       "    <tr>\n",
       "      <td>839</td>\n",
       "      <td>The sun’s diurnal motion was 57’ 8“, and Mars’s (for four days) was 1° 12’ 24“, since on June 10 at 11h 50m it was at 26° 2’ 18“ Sagittarius.</td>\n",
       "      <td>1648</td>\n",
       "      <td>15</td>\n",
       "      <td>On the night following 1589 April 15 at 12h 5m, the planet was found at 3° 58’ 20“ Scorpio,13 with latitude 1° 4’ 20“ north, decreasing. Mars’s altitude was 22⅕°, where refraction from the table for the fixed stars was zero, and from the table for the sun, 3½’. But the parallax was about twice as great as the sun’s, that is, 6 minutes at the horizon. The degree rising was 24° Sagittarius. Therefore, the nonagesimal was 64° from the zenith, giving a diurnal latitudinal parallax of 5’ 24“. Whether it really was that much will become apparent below, through a careful consideration of latitudes ^14. For there, the northern latitude, free from diurnal parallax (and if there is no refraction), would come out to be 1° 9’ 45“ north. And because the altitude of the nonagesimal is 26°, the longitudinal parallax15 at the horizon is 2’ 38“. But Mars is 40° from the nonagesimal, counting from 4° Scorpio to 24° Virgo, which, under the column  headed 2’ 38“ shows a true longitudinal parallax of 1...</td>\n",
       "      <td>354</td>\n",
       "      <td>{'act': 'was', 'subject': 'it'}</td>\n",
       "      <td>[[diurnal, ASTR], [57’ 8“, LONG], [Mars, PLAN], [1° 12’ 24“, LONG], [June 10, DATE], [11h 50m, TIME], [26° 2’ 18“ Sagittarius., LONG]]</td>\n",
       "      <td>[1, 1, 1]</td>\n",
       "      <td>1</td>\n",
       "    </tr>\n",
       "    <tr>\n",
       "      <td>847</td>\n",
       "      <td>On 1593 August 24 at 10h 30m, the ecliptic position of Mars was found  to be 12° 38’ Pisces,18 with latitude 6° 5’ 30“ south.</td>\n",
       "      <td>1656</td>\n",
       "      <td>15</td>\n",
       "      <td>On the night following 1589 April 15 at 12h 5m, the planet was found at 3° 58’ 20“ Scorpio,13 with latitude 1° 4’ 20“ north, decreasing. Mars’s altitude was 22⅕°, where refraction from the table for the fixed stars was zero, and from the table for the sun, 3½’. But the parallax was about twice as great as the sun’s, that is, 6 minutes at the horizon. The degree rising was 24° Sagittarius. Therefore, the nonagesimal was 64° from the zenith, giving a diurnal latitudinal parallax of 5’ 24“. Whether it really was that much will become apparent below, through a careful consideration of latitudes ^14. For there, the northern latitude, free from diurnal parallax (and if there is no refraction), would come out to be 1° 9’ 45“ north. And because the altitude of the nonagesimal is 26°, the longitudinal parallax15 at the horizon is 2’ 38“. But Mars is 40° from the nonagesimal, counting from 4° Scorpio to 24° Virgo, which, under the column  headed 2’ 38“ shows a true longitudinal parallax of 1...</td>\n",
       "      <td>354</td>\n",
       "      <td>{'act': 'found'}</td>\n",
       "      <td>[[1593 August 24, DATE], [10h 30m, TIME], [ecliptic, ASTR], [Mars, PLAN], [12° 38’ Pisces,18, LONG], [latitude, ASTR], [6° 5’ 30“, LONG], [south, ASTR]]</td>\n",
       "      <td>[1, 1, 1]</td>\n",
       "      <td>1</td>\n",
       "    </tr>\n",
       "    <tr>\n",
       "      <td>862</td>\n",
       "      <td>On 1595 October 30 at 8h 20m, the planet was found at 17° 47’ 15“ Taurus,19 not far from the nonagesimal.</td>\n",
       "      <td>1671</td>\n",
       "      <td>15</td>\n",
       "      <td>VIII. On 1595 October 30 at 8h 20m, the planet was found at 17° 47’ 15“ Taurus,19 not far from the nonagesimal. We may thus be sure of the parallax, although we must take it into account. The latitude was 0° 5’ 10“ north. The sun’s position was 16° 50’ 30“ Scorpio. The distance between the stars was 56’ 45“. The sun’s diurnal motion was 1° 0’ 35“; that of Mars, 22’ 54“, as appears by comparing the nearby observations. The sum of the diurnal motions was 1° 23’ 29“. If the distance between the stars be divided by this, it comes out to 40’ 47“ of a day, or 16 hours 19 min. Therefore, the true opposition was 0h 39m PM on October 31. Mars’s position was 17° 31’ 40“ Taurus. This needs no reduction to the orbit, as it is nearly at the node. The latitude was about 0° 8’ north. But comparison with the preceding and following days shows a latitude of about 5’ north.\\nIX. Let, at any rate, Mars’s position on 1597 December 10 at 8h 30m be 3° 45½’ Cancer (as above) ^20. The sun’s position was 2...</td>\n",
       "      <td>355</td>\n",
       "      <td>{'act': 'found'}</td>\n",
       "      <td>[[1595 October 30, DATE], [8h 20m, TIME], [17° 47’ 15“ Taurus,19, LONG], [nonagesimal, ASTR]]</td>\n",
       "      <td>[1, 1, 1]</td>\n",
       "      <td>1</td>\n",
       "    </tr>\n",
       "    <tr>\n",
       "      <td>876</td>\n",
       "      <td>Let, at any rate, Mars’s position on 1597 December 10 at 8h 30m be 3° 45½’ Cancer (as above) ^20.</td>\n",
       "      <td>1685</td>\n",
       "      <td>15</td>\n",
       "      <td>VIII. On 1595 October 30 at 8h 20m, the planet was found at 17° 47’ 15“ Taurus,19 not far from the nonagesimal. We may thus be sure of the parallax, although we must take it into account. The latitude was 0° 5’ 10“ north. The sun’s position was 16° 50’ 30“ Scorpio. The distance between the stars was 56’ 45“. The sun’s diurnal motion was 1° 0’ 35“; that of Mars, 22’ 54“, as appears by comparing the nearby observations. The sum of the diurnal motions was 1° 23’ 29“. If the distance between the stars be divided by this, it comes out to 40’ 47“ of a day, or 16 hours 19 min. Therefore, the true opposition was 0h 39m PM on October 31. Mars’s position was 17° 31’ 40“ Taurus. This needs no reduction to the orbit, as it is nearly at the node. The latitude was about 0° 8’ north. But comparison with the preceding and following days shows a latitude of about 5’ north.\\nIX. Let, at any rate, Mars’s position on 1597 December 10 at 8h 30m be 3° 45½’ Cancer (as above) ^20. The sun’s position was 2...</td>\n",
       "      <td>355</td>\n",
       "      <td>{'act': 'Let'}</td>\n",
       "      <td>[[Mars, PLAN], [1597 December 10, DATE], [8h 30m, TIME], [3° 45½’, LONG]]</td>\n",
       "      <td>[1, 1, 1]</td>\n",
       "      <td>1</td>\n",
       "    </tr>\n",
       "    <tr>\n",
       "      <td>889</td>\n",
       "      <td>X. On 1600 January 13/23 at 11h 40m, the time being adjusted to Uraniborg time, the planet was observed at 10° 38’ 46“ Leo ^21.</td>\n",
       "      <td>1698</td>\n",
       "      <td>15</td>\n",
       "      <td>VIII. On 1595 October 30 at 8h 20m, the planet was found at 17° 47’ 15“ Taurus,19 not far from the nonagesimal. We may thus be sure of the parallax, although we must take it into account. The latitude was 0° 5’ 10“ north. The sun’s position was 16° 50’ 30“ Scorpio. The distance between the stars was 56’ 45“. The sun’s diurnal motion was 1° 0’ 35“; that of Mars, 22’ 54“, as appears by comparing the nearby observations. The sum of the diurnal motions was 1° 23’ 29“. If the distance between the stars be divided by this, it comes out to 40’ 47“ of a day, or 16 hours 19 min. Therefore, the true opposition was 0h 39m PM on October 31. Mars’s position was 17° 31’ 40“ Taurus. This needs no reduction to the orbit, as it is nearly at the node. The latitude was about 0° 8’ north. But comparison with the preceding and following days shows a latitude of about 5’ north.\\nIX. Let, at any rate, Mars’s position on 1597 December 10 at 8h 30m be 3° 45½’ Cancer (as above) ^20. The sun’s position was 2...</td>\n",
       "      <td>355</td>\n",
       "      <td>{'act': 'observed'}</td>\n",
       "      <td>[[1600 January 13/23, DATE], [11h 40m, TIME], [Uraniborg, NAME], [observed, ASTR], [10° 38’ 46“ Leo, LONG]]</td>\n",
       "      <td>[1, 1, 1]</td>\n",
       "      <td>1</td>\n",
       "    </tr>\n",
       "    <tr>\n",
       "      <td>950</td>\n",
       "      <td>Now from February 15 at 17h to 23 February at 12h, a period of 7 days 19 hours, Mars moved 3° 0’: 180 minutes in 187 hours.</td>\n",
       "      <td>1759</td>\n",
       "      <td>15</td>\n",
       "      <td>VIII. On 1595 October 30 at 8h 20m, the planet was found at 17° 47’ 15“ Taurus,19 not far from the nonagesimal. We may thus be sure of the parallax, although we must take it into account. The latitude was 0° 5’ 10“ north. The sun’s position was 16° 50’ 30“ Scorpio. The distance between the stars was 56’ 45“. The sun’s diurnal motion was 1° 0’ 35“; that of Mars, 22’ 54“, as appears by comparing the nearby observations. The sum of the diurnal motions was 1° 23’ 29“. If the distance between the stars be divided by this, it comes out to 40’ 47“ of a day, or 16 hours 19 min. Therefore, the true opposition was 0h 39m PM on October 31. Mars’s position was 17° 31’ 40“ Taurus. This needs no reduction to the orbit, as it is nearly at the node. The latitude was about 0° 8’ north. But comparison with the preceding and following days shows a latitude of about 5’ north.\\nIX. Let, at any rate, Mars’s position on 1597 December 10 at 8h 30m be 3° 45½’ Cancer (as above) ^20. The sun’s position was 2...</td>\n",
       "      <td>355</td>\n",
       "      <td>{'act': 'moved', 'subject': 'mars', 'obj': '3° 0’'}</td>\n",
       "      <td>[[February 15, DATE], [17h, TIME], [12h, PARA], [19 hours, TIME], [Mars, PLAN], [3° 0’, LONG], [180, PARA], [187, PARA]]</td>\n",
       "      <td>[1, 1, 1]</td>\n",
       "      <td>1</td>\n",
       "    </tr>\n",
       "  </tbody>\n",
       "</table>\n",
       "</div>"
      ],
      "text/plain": [
       "                                                                                                                                                                                                                                 Sentence  \\\n",
       "158            On 1580 November 12 at 10h 50m,1 they set Mars down at 8° 36’ 50” Gemini2 without mentioning the horizontal variations,  by which term I wish the diurnal parallaxes and the refractions to be understood in what follows.   \n",
       "168                                                                                                                                               On 1582 December 28 at 11h 30m, they set Mars down at 16° 47’ Cancer by observation ^6.   \n",
       "175                                                                                                                                                                  On 1585 January 31 at 12h 0m, Mars was placed at 21° 18’ 11” Leo ^8.   \n",
       "183                                                                                                                      On 1587 March 7 at 19h 10m they deduced the position of Mars from the observations, which was 25° 10’ 20” Virgo.   \n",
       "188                                                       On 1589 April 15 at 12h 5m they established the position of Mars very carefully at 3° 58' 21\" Scorpio, and corrected for longitudinal parallax so as to make it 3° 57’ 11” ^10.   \n",
       "192                                                                                                                                                                 On 1591 June 6 at 12h 20m, Mars is placed at 27° 15’ Sagittarius ^11.   \n",
       "199                                       On 1593 24 August at 10h 30m they report Mars as being at 12° 38’ Pisces12 with an observed diurnal motion of 16’ 45”, and this near the nonagesimal13 where there is no longitudinal parallax.   \n",
       "203                                                                                                                                On 1595 October 30 at 8h 20m, they found Mars at 17° 48’ Taurus, with a diurnal motion of 22’ 54” ^15.   \n",
       "207                                                                                                 On 1597 December 10 at 8h 30m, they first placed Mars at 3° 30’ Cancer, and again at 4° 1’ Cancer, the mean being 3° 45½’ Cancer ^16.   \n",
       "218                                                                                                             This gives a diurnal motion of 23’ 44”, and a position on January 19/29 at 9h 40m of 8° 18’ 45” Leo, just as they put it.   \n",
       "262             Again, at 7h 15m on the morning of December 27, it was 36° 43’ from Cor Leonis,7 whose latitude is 0° 26½’; hence, its longitude at the end of 1582 is 17° 28⅓’ Cancer, altitude 14° 4’, and thus affected by refraction.   \n",
       "278                                                                                               On 1583 January 16 at 7h 30m in the evening,11 Mars was 23° 29’ from the bright star in the foot of Erichthonius at an altitude of 51°.   \n",
       "292                                                                                                                                             On January 17 at 5h 20m in the evening,13 Mars was 23° 16’ from the foot of Erichthonius.   \n",
       "303                                                                                                                                               On January 18 at 8h 52m in the evening15 there was 44° 22’ between Mars and Cor Leonis.   \n",
       "306                                                                                                                                                                        On January 19 following, at 7h 3m, this distance was 44° 32½’.   \n",
       "484                                                                                                                                                               On 1590 March 4 at 7h 10m in the evening, Mars's declination was 9° 26’   \n",
       "488                                                                                                                             On 1592 January 23 at 10h 15m in the evening, Mars was at 11° 34’ 30” Aries with latitude 0° 2’ south ^3.   \n",
       "496                                                                                                                             On 1595 October 27 at 12h 20m, Mars's true latitude after the removal of parallax was 0° 2’ 20” south ^8.   \n",
       "508  I. On the morning of 1595 January 4, when Mars was observed at 7h 10m at altitude 8°, with reference to Spica Virginis and Cor Scorpii,10 it was observed at latitude 0° 3’ 46” N, and it was itself at 13° 36’ 40” Sagittarius ^11.   \n",
       "574                                                             Accordingly, on 1588 November 10 at 6h 30m in the morning the planet Mars was seen at 25° 31’ Virgo, with a latitude of 1° 36’ 45” north, the sun being at 21 Scorpio ^4.   \n",
       "584                                                                                                        Similarly, on 1586 October 22 at 6h in the morning, about dawn, there was about 6° 9’ eastward between Mars and Cor Leonis ^6.   \n",
       "651                                                                                                                                             On 1585 April 26 at 9h 42m, Mars was seen at 21° 26’ Leo with latitude 1° 49¾’ north ^18.   \n",
       "655                                                                          Similarly, near the other limit, on 1591 October 16 at 6h 30m in the evening, Mars was seen at 1° 27⅓’ Aquarius with latitude 2° 10⅚’ south, decreasing ^19.   \n",
       "751                                                                                                  Suppose, however, that on 1580 November 12 at 10h 50m Mars was observed at 8° 37’ Gemini,3 and the motion over five days was 1° 55’.   \n",
       "767                                                                              On the night following 1582 December 28, at 11h 30m, Mars was observed at 16° 47’ Cancer,6 while the true position of the sun was 17° 13’ 45“ Capricorn.   \n",
       "776                                                                                                                                                                On 1585 January 31 at 12h 0m, Mars was observed at 21° 18’ 11“ Leo ^7.   \n",
       "782                                                                                                                                       Therefore the time was January 30 at 19h 14m, and Mars’s ecliptic position was 21° 36’ 10“ Leo.   \n",
       "787                                                                                                                                                                                 For the observation on January 31 at 12h gave 4° 31’.   \n",
       "789                            On the night following 1587 March 4, at 1h 16m past midnight, the position of Mars was found to be 26° 26’ 17“ Virgo,8 from Cor Leonis9 and Spica Virginis, with an observed latitude of 3° 38’ 16“ north.   \n",
       "808                                                                                              On the night following 1589 April 15 at 12h 5m, the planet was found at 3° 58’ 20“ Scorpio,13 with latitude 1° 4’ 20“ north, decreasing.   \n",
       "830                                                                                                              On the night following 1591 June 6 at 12h 20m, Mars was found at 27° 14’ 42“ Sagittarius,16 with latitude 3° 55½’ south.   \n",
       "839                                                                                         The sun’s diurnal motion was 57’ 8“, and Mars’s (for four days) was 1° 12’ 24“, since on June 10 at 11h 50m it was at 26° 2’ 18“ Sagittarius.   \n",
       "847                                                                                                         On 1593 August 24 at 10h 30m, the ecliptic position of Mars was found  to be 12° 38’ Pisces,18 with latitude 6° 5’ 30“ south.   \n",
       "862                                                                                                                             On 1595 October 30 at 8h 20m, the planet was found at 17° 47’ 15“ Taurus,19 not far from the nonagesimal.   \n",
       "876                                                                                                                                     Let, at any rate, Mars’s position on 1597 December 10 at 8h 30m be 3° 45½’ Cancer (as above) ^20.   \n",
       "889                                                                                                       X. On 1600 January 13/23 at 11h 40m, the time being adjusted to Uraniborg time, the planet was observed at 10° 38’ 46“ Leo ^21.   \n",
       "950                                                                                                           Now from February 15 at 17h to 23 February at 12h, a period of 7 days 19 hours, Mars moved 3° 0’: 180 minutes in 187 hours.   \n",
       "\n",
       "     SentIndex  Chapter  \\\n",
       "158        967       10   \n",
       "168        977       10   \n",
       "175        984       10   \n",
       "183        992       10   \n",
       "188        997       10   \n",
       "192       1001       10   \n",
       "199       1008       10   \n",
       "203       1012       10   \n",
       "207       1016       10   \n",
       "218       1027       10   \n",
       "262       1071       11   \n",
       "278       1087       11   \n",
       "292       1101       11   \n",
       "303       1112       11   \n",
       "306       1115       11   \n",
       "484       1293       12   \n",
       "488       1297       12   \n",
       "496       1305       12   \n",
       "508       1317       12   \n",
       "574       1383       13   \n",
       "584       1393       13   \n",
       "651       1460       13   \n",
       "655       1464       13   \n",
       "751       1560       15   \n",
       "767       1576       15   \n",
       "776       1585       15   \n",
       "782       1591       15   \n",
       "787       1596       15   \n",
       "789       1598       15   \n",
       "808       1617       15   \n",
       "830       1639       15   \n",
       "839       1648       15   \n",
       "847       1656       15   \n",
       "862       1671       15   \n",
       "876       1685       15   \n",
       "889       1698       15   \n",
       "950       1759       15   \n",
       "\n",
       "                                                                                                                                                                                                                                                                                                                                                                                                                                                                                                                                                                                                                                                                                                                                                                                                                                                                                                                                                                                                                                   Paragraph  \\\n",
       "158                                                                                                                                                                                                                                                                                                                                                                                                                                                                                                                                                                                                                                                               On 1580 November 12 at 10h 50m,1 they set Mars down at 8° 36’ 50” Gemini2 without mentioning the horizontal variations,  by which term I wish the diurnal parallaxes and the refractions to be understood in what follows. Now this observation is distant and isolated. It was reduced to the moment of opposition using the diurnal motion from the Prutenic Tables ^3.    \n",
       "168                                                                                                                                                                                                                                                                   On 1582 December 28 at 11h 30m, they set Mars down at 16° 47’ Cancer by observation ^6. The moment of opposition assigned by Tycho comes 46 minutes later, during which the planet retrogressed less than one minute. Tycho therefore puts it at 16° 46’ 16” Cancer ^7. On an inserted sheet here, an attempt was made to correct for a refraction of two minutes. This was, I think, first trial of the theory of refraction then being developed. Nevertheless, he followed the observed value unchanged, thus declining to consider the planet as something which could alter its position. Nor was there any need for  correction, since it was in Cancer, beyond the reach of refraction, and was in mid-sky where, in Cancer, there is no longitudinal parallax.   \n",
       "175                                                                                                                                                                                                                                                                                                                                                                                                                                                  On 1585 January 31 at 12h 0m, Mars was placed at 21° 18’ 11” Leo ^8. The diurnal motion, by comparison of observations, was 24’ 15”. The moment of opposition followed at 19h 35m, 7 hours and 35 minutes later. To this period belongs 7’ 41” of diurnal motion westward. Therefore, at the designated moment, it would have been at 21° 10’ 30” Leo, which is what was accepted. There is no mention of parallax. Nothing had to be done about refraction, because Mars was high and at mid-sky. I therefore find the bit of advice in the table about refraction (properly) ignored.   \n",
       "183                                                                                                                                                                                                                                                                                                                                                                                                                                                                                                                                                      On 1587 March 7 at 19h 10m they deduced the position of Mars from the observations, which was 25° 10’ 20” Virgo. This they kept in the table, but changed the time to 17h 22m. The difference of 1h 48m multiplied by a diurnal motion of 24’ gives the same number of minutes and seconds (that is, 1’ 48”), no more. It therefore should have been 25° 8’ 32” Virgo, which also approaches nearer the point opposite the sun. The difference is of practically no importance ^9.    \n",
       "188                                                                                                                                                                                                                                                                                                                                                                                                                                                                                                                                                                                                          On 1589 April 15 at 12h 5m they established the position of Mars very carefully at 3° 58' 21\" Scorpio, and corrected for longitudinal parallax so as to make it 3° 57’ 11” ^10. There remain 1h 30m until the designated moment of opposition, which, for a diurnal motion of 22', bring the planet back 1’ 22”, so as to be at 3° 55’ 49”. They took the value of 3° 58’ 10”. The former is closer to the sun’s mean position.   \n",
       "192                                                                                                                                                                                                                                                                                                                                                                                                                                                                                                                                                On 1591 June 6 at 12h 20m, Mars is placed at 27° 15’ Sagittarius ^11. There remained 2 days 4 hours and 5 minutes until the designated moment. In four days it was found to be moved forward 1° 12’ 47”. Therefore, to 2d 4h 5m correspond 39’ 29”. Consequently, at that moment Mars was at 26° 35’ 31” Sagittarius. There is no need to consider any horizontal variations in longitude, since Mars is at mid-sky and at the beginning of Capricorn. The table has 26° 32’ Sagittarius.   \n",
       "199                                                                                                                                                                                                                                                                                                                                                                                                                                                                                                                                                                                                           On 1593 24 August at 10h 30m they report Mars as being at 12° 38’ Pisces12 with an observed diurnal motion of 16’ 45”, and this near the nonagesimal13 where there is no longitudinal parallax. The moment designated for the opposition preceded this by 8h 17m (for it was at 2h 13m),14 to which corresponds a motion of 5’ 48” eastward. Therefore, the planet falls at 12° 43’ 48” Pisces. And the table has 12° 43’ 45”.   \n",
       "203                                                                                                                                                                                                                                                                                                                                                                                                                                                                                                                                                                                                               On 1595 October 30 at 8h 20m, they found Mars at 17° 48’ Taurus, with a diurnal motion of 22’ 54” ^15. The designated moment preceded by 11h 48m, for which is required a motion of Mars of 11’ 7” eastward, so that it would be at 17° 59’ 7” Taurus. But it was projected eastward on account of parallax. Therefore, possibly using another observation on the meridian, they put down 17° 56’ 15” Taurus in the table.   \n",
       "207                                                                                                                                                                                                                                                                          On 1597 December 10 at 8h 30m, they first placed Mars at 3° 30’ Cancer, and again at 4° 1’ Cancer, the mean being 3° 45½’ Cancer ^16. The moment of opposition came 3 days 5h 5m later, to which, from Magini, corresponds 1° 15’ westward. Therefore, Mars would have been at 2° 30½’ Cancer. In the table, it was put at 2° 28’. The reason for the rough measurement, carried out with a measuring staff, is clear from the date. Tycho had left the island, leaving all  instruments but the staff behind. Nevertheless, he did not wish to ignore this opposition completely. But I wish he had still remained on the island, for this opposition was a marvelous opportunity, not often recurring within a man’s lifetime, for examining Mars’s parallax.   \n",
       "218                                                                                                                                                                                                                                                                                                                                                                                                                                                                                                                                                                                                                                                                                                                                    Hence, Mars is at 10° 38’ 46” Leo, at an adjusted time of 11h 40m reduced to the meridian of Uraniborg. But on January 24/February 3 at the same time it was at 6° 18’ Leo. This gives a diurnal motion of 23’ 44”, and a position on January 19/29 at 9h 40m of 8° 18’ 45” Leo, just as they put it.   \n",
       "262                                                                                                                                                                                                                                                                                                                                                                                                                                                                                                                                                                                                                                                                                                 Again, at 7h 15m on the morning of December 27, it was 36° 43’ from Cor Leonis,7 whose latitude is 0° 26½’; hence, its longitude at the end of 1582 is 17° 28⅓’ Cancer, altitude 14° 4’, and thus affected by refraction. Therefore, from 8h 28½m in the evening to 19h 15m, an interval of 10h 46½m, it was observed to retrogress 9⅔’.   \n",
       "278  On 1583 January 16 at 7h 30m in the evening,11 Mars was 23° 29’ from the bright star in the foot of Erichthonius at an altitude of 51°. The next morning at 5h 0m, it was 43° 58’ from Cor Leonis at an altitude of 15°. And, measured by the straight edge, Mars was perfectly collinear with the two stars. And so, since Mars’s motion is carried out along this line, Brahe made a note that the longitudinal parallax is given from the diurnal motion of Mars. This is obtained here as follows. On January 16 at 10½h it was 23° 27’ from the bright star in the foot of Erichthonius. On January 17 at 10⅗h 12 it was 23° 12½’ from the same star. Therefore, the diurnal motion would be 14½’. Now in order to comply with Brahe’s advice, we must set out the distance between the foot of Erichthonius and Cor Leonis, which is found to be 67° 21’. Subtracting Mars's distance from the bright star in the foot of Erichthonius, 23° 29’, leaves Mars's distance from Cor Leonis, 43° 52’, at 7½h in the evening, which...   \n",
       "292                                                                                                                                                                                                                                                                                                                                                                                                                                                                                                                                                           On January 17 at 5h 20m in the evening,13 Mars was 23° 16’ from the foot of Erichthonius. On the following day, the 18th, at 3h 0m in the morning, this distance was 23° 9’, and at 5h 5m in the evening it was 23° 1½’. So the motion over 23h 45m is 14½’, but over 9h 40m it is 7’. This should have been 6’. We are left with a longitudinal parallax of no more than 1’. Refraction does not affect anything, since in both instances the altitude of Mars was about 30°.   \n",
       "303                                                                                                                                                                                                                                                                                                                                                                                                                                                                                                                                                                                                                                           On January 18 at 8h 52m in the evening15 there was 44° 22’ between Mars and Cor Leonis. At 4¾h in the morning the same distance was 44° 27⅓’. Therefore, the motion over 7h 53m was 5⅓’. On January 19 following, at 7h 3m, this distance was 44° 32½’. Therefore, for 22h 11m the motion is 10½’. And for 8 hours there would be less than 4’ of motion. Our profit is about 1½’ of parallax.   \n",
       "306                                                                                                                                                                                                                                                                                                                                                                                                                                                                                                                                                                                                                                           On January 18 at 8h 52m in the evening15 there was 44° 22’ between Mars and Cor Leonis. At 4¾h in the morning the same distance was 44° 27⅓’. Therefore, the motion over 7h 53m was 5⅓’. On January 19 following, at 7h 3m, this distance was 44° 32½’. Therefore, for 22h 11m the motion is 10½’. And for 8 hours there would be less than 4’ of motion. Our profit is about 1½’ of parallax.   \n",
       "484                                                                                                                                                                                                                                                                                                                                                                                                                                                                                                                                                                                                                                                                                                                                                                                                                                                                                                                                                                  On 1590 March 4 at 7h 10m in the evening, Mars's declination was 9° 26’   \n",
       "488                                                                                                                                                                                                                                                                                                                                                                                                           On 1592 January 23 at 10h 15m in the evening, Mars was at 11° 34’ 30” Aries with latitude 0° 2’ south ^3. The altitude of Mars was 25°, and therefore (from the table for the fixed stars),4 there was no refraction. The parallax was about as much as the sun's, because Mars and the sun were sextile, and were therefore about equally distant from earth ^5. Nearly all of this was latitudinal. Therefore, about two minutes of latitude must be added northward to Mars in order to free it from parallax, and it thus will fall upon the ecliptic. For on February 6 it was already at about 7’ northern latitude ^6.    \n",
       "496                                                                                                                                                                                                                                                                                                                                                                                                                                                                                                                                                                                                                                                                                                                                                                   On 1595 October 27 at 12h 20m, Mars's true latitude after the removal of parallax was 0° 2’ 20” south ^8. On the 28th, when the parallax had similarly been removed, the latitude was 0° 0’ 25” north ^9. Therefore,*  in the meanwhile, it was at the ascending node.   \n",
       "508                                                                                                                                                                                                                                                                                                                                         I. On the morning of 1595 January 4, when Mars was observed at 7h 10m at altitude 8°, with reference to Spica Virginis and Cor Scorpii,10 it was observed at latitude 0° 3’ 46” N, and it was itself at 13° 36’ 40” Sagittarius ^11. The  parallax is small, because Mars was more than twice as far from the earth as is the sun. Refraction, on the other hand, is large: 6’ 45” from the table for the fixed stars, or 11 minutes from the table for the sun ^12. This is nearly all latitudinal, owing to the low altitude of the nonagesimal ^13. Therefore, Mars (reckoning by the refraction displayed by the sun) was really at a few minutes south latitude—about 2 or 3, or even more.   \n",
       "574                                                                                                                                                                                                                                                                                                                                                                                                                                                                                                                                                      Accordingly, on 1588 November 10 at 6h 30m in the morning the planet Mars was seen at 25° 31’ Virgo, with a latitude of 1° 36’ 45” north, the sun being at 21 Scorpio ^4. The sun is thus only 62½˚ from Mars, although it should have been 72° from Mars in order to make the triangle isosceles, as the problem requires. Therefore, Mars is then farther from the earth than from the sun. Consequently, its latitude at that place appeared less than was the true inclination.   \n",
       "584                                                                                                                                                                                                                                                                                                                                                                                                                     Similarly, on 1586 October 22 at 6h in the morning, about dawn, there was about 6° 9’ eastward between Mars and Cor Leonis ^6. The declination of Mars from the equator was 13° 0’ 40” north. Hence, its apparent longitude is found to be 0° 7’ Virgo,7 latitude 1° 36’ 6” N ^8. The sun stood at 8° Scorpio, 68° from Mars. It should have been farther. Consequently, the line between Mars and the earth was longer than that between Mars and the sun. And so the apparent latitude was less than the true digression of the planet from the ecliptic, and this was, in fact, long before it reached the limit.   \n",
       "651                                                                                                                                                                                                                                                                                                                                                                                                                                                                                                                                                                                                                                                                             On 1585 April 26 at 9h 42m, Mars was seen at 21° 26’ Leo with latitude 1° 49¾’ north ^18. The sun was at 16° Taurus, right near the node. Mars’s line of vision was a little inclined, since Mars was beyond 16° Leo. Therefore, the angle of maximum inclination of the planes was only a little greater than 1° 49¾’; that is, 1° 50’ or a little greater.   \n",
       "655                                                                                      Similarly, near the other limit, on 1591 October 16 at 6h 30m in the evening, Mars was seen at 1° 27⅓’ Aquarius with latitude 2° 10⅚’ south, decreasing ^19. (For on October 10 preceding, the latitude was 2° 18⅔’,20 and on October 2 it was 2° 38½‘.) The sun was at 2½° Scorpio, above the node. The earth was therefore below the node towards Mars. So because of this proximity, the observed latitude was greater than the inclination of the plane of the ecliptic. Fourteen days later, when the sun was at the node, if it were again to have decreased 28 minutes (the amount of decrease in the previous 14 days), there would remain 1° 45’. But the ratio of decrease does not remain the same when the earth departs from a star, or vice versa. For at a greater distance the decrease is always less. Therefore nothing can be adduced here against a maximum inclination of 1° 50’. On the contrary: it is indirectly confirmed.   \n",
       "751  Suppose, however, that on 1580 November 12 at 10h 50m Mars was observed at 8° 37’ Gemini,3 and the motion over five days was 1° 55’. Since at the given time the sun stood at 0° 45’ 36“ Sagittarius, and its motion over five days is 5° 5’, the sum of the two motions will come to 7° 0’. But the sun is 7° 51’ 24“ removed from opposition to Mars. Of this, seven degrees exactly are traversed in 5 days, or 120 hours. So, according to the same ratio, the remaining 51’ 24“ will be traversed in 14 hours 41 minutes. Therefore, the moment of opposition was November 18 at 1h 31m. Its position was 6° 28’ Gemini on the ecliptic. Now this is 20° away from 16½° Taurus. I want to know how much longer this makes the arc on the orbit extended from the node to the arc of  latitude through 6° 28’ Gemini. So I turn to Philip Lansberg’s trigonometry ^4. I mention him out of honor and gratitude, for he has supplied me in abundance with the finest axes, best adapted for building astronomical foundations, fr...   \n",
       "767                                                                                                             On the night following 1582 December 28, at 11h 30m, Mars was observed at 16° 47’ Cancer,6 while the true position of the sun was 17° 13’ 45“ Capricorn. The moment of opposition had therefore passed. Now the sun’s diurnal motion was 61’ 18“, that of Mars 24’, and their sum, 85’ 18“. At this moment, the distance between the stars was 26’ 45“. Therefore, as 1° 25’ 18“ is to 24 hours, so is 26’ 45“ to 7 hours 32 minutes. Subtracting this from 11 hours 30 minutes gives December 28 at 3h 58m after noon as the moment of true opposition. Its position on the ecliptic was 16° 54’ 32“ Cancer, and by reduction to the orbit (a 50“ correction), 16° 55½’ Cancer. The latitude was 4° 6’ north, as given by Brahe’s table of oppositions. For among the observations I find various latitudes: on the night following December 26, 4° 6’ or 4° 2’, while on the night following December 29, 4° 8’ or 4° 6½’.   \n",
       "776                  On 1585 January 31 at 12h 0m, Mars was observed at 21° 18’ 11“ Leo ^7.  The sun was at 22° 21’ 31“Aquarius. The true opposition had therefore passed. The distance was 1° 3’ 20“. The sun’s diurnal motion was 61’ 16“, that of Mars 24’ 15“, and their sum 85’ 31“. Now as 1° 25’ 31“ is to 24 hours, so is 1° 3’ 20“ to 17 hours 46 minutes, to which correspond about 18’ of Mars’s motion. Therefore the time was January 30 at 19h 14m, and Mars’s ecliptic position was 21° 36’ 10“ Leo. For reduction, some very small quantity is subtracted, because Mars is then beyond the limit. Therefore, the extension of the arc on the orbit from the following node is directed westward. But because Mars was only 4 or 5 degrees from the node, the subtraction is rendered quite imperceptible. The latitude, on the authority of the Tychonic table, was 4° 32’ 10“ north. For the observation on January 31 at 12h gave 4° 31’. They added the remainder to the Tychonic figure, on account of diurnal parallax.   \n",
       "782                  On 1585 January 31 at 12h 0m, Mars was observed at 21° 18’ 11“ Leo ^7.  The sun was at 22° 21’ 31“Aquarius. The true opposition had therefore passed. The distance was 1° 3’ 20“. The sun’s diurnal motion was 61’ 16“, that of Mars 24’ 15“, and their sum 85’ 31“. Now as 1° 25’ 31“ is to 24 hours, so is 1° 3’ 20“ to 17 hours 46 minutes, to which correspond about 18’ of Mars’s motion. Therefore the time was January 30 at 19h 14m, and Mars’s ecliptic position was 21° 36’ 10“ Leo. For reduction, some very small quantity is subtracted, because Mars is then beyond the limit. Therefore, the extension of the arc on the orbit from the following node is directed westward. But because Mars was only 4 or 5 degrees from the node, the subtraction is rendered quite imperceptible. The latitude, on the authority of the Tychonic table, was 4° 32’ 10“ north. For the observation on January 31 at 12h gave 4° 31’. They added the remainder to the Tychonic figure, on account of diurnal parallax.   \n",
       "787                  On 1585 January 31 at 12h 0m, Mars was observed at 21° 18’ 11“ Leo ^7.  The sun was at 22° 21’ 31“Aquarius. The true opposition had therefore passed. The distance was 1° 3’ 20“. The sun’s diurnal motion was 61’ 16“, that of Mars 24’ 15“, and their sum 85’ 31“. Now as 1° 25’ 31“ is to 24 hours, so is 1° 3’ 20“ to 17 hours 46 minutes, to which correspond about 18’ of Mars’s motion. Therefore the time was January 30 at 19h 14m, and Mars’s ecliptic position was 21° 36’ 10“ Leo. For reduction, some very small quantity is subtracted, because Mars is then beyond the limit. Therefore, the extension of the arc on the orbit from the following node is directed westward. But because Mars was only 4 or 5 degrees from the node, the subtraction is rendered quite imperceptible. The latitude, on the authority of the Tychonic table, was 4° 32’ 10“ north. For the observation on January 31 at 12h gave 4° 31’. They added the remainder to the Tychonic figure, on account of diurnal parallax.   \n",
       "789  On the night following 1587 March 4, at 1h 16m past midnight, the position of Mars was found to be 26° 26’ 17“ Virgo,8 from Cor Leonis9 and Spica Virginis, with an observed latitude of 3° 38’ 16“ north. But because Mars was elevated 37½° above the horizon, diurnal parallax comes into the reckoning, and subtracts some small quantity from the longitude, thus making it 26° 26’ Virgo, with a slightly greater latitude. For since the sun is nearly twice as far away from earth as is Mars, Mars’s parallax will consequently be nearly twice the sun’s. On the supposition that the sun’s is 3’, Mars’s will be about 5’. Now when 9° Sagittarius is rising, the nonagesimal10 is 55° from the zenith. Opposite this number in our parallactic table,11 under the column headed 5’, the latitudinal parallax 4’ is shown. Therefore, the latitude observed from the center of the earth would be 3° 42’ 22“ north. In Part V below, this will be useful to us in a more accurate examination of Mars’s parallaxes, where...   \n",
       "808  On the night following 1589 April 15 at 12h 5m, the planet was found at 3° 58’ 20“ Scorpio,13 with latitude 1° 4’ 20“ north, decreasing. Mars’s altitude was 22⅕°, where refraction from the table for the fixed stars was zero, and from the table for the sun, 3½’. But the parallax was about twice as great as the sun’s, that is, 6 minutes at the horizon. The degree rising was 24° Sagittarius. Therefore, the nonagesimal was 64° from the zenith, giving a diurnal latitudinal parallax of 5’ 24“. Whether it really was that much will become apparent below, through a careful consideration of latitudes ^14. For there, the northern latitude, free from diurnal parallax (and if there is no refraction), would come out to be 1° 9’ 45“ north. And because the altitude of the nonagesimal is 26°, the longitudinal parallax15 at the horizon is 2’ 38“. But Mars is 40° from the nonagesimal, counting from 4° Scorpio to 24° Virgo, which, under the column  headed 2’ 38“ shows a true longitudinal parallax of 1...   \n",
       "830  On the night following 1589 April 15 at 12h 5m, the planet was found at 3° 58’ 20“ Scorpio,13 with latitude 1° 4’ 20“ north, decreasing. Mars’s altitude was 22⅕°, where refraction from the table for the fixed stars was zero, and from the table for the sun, 3½’. But the parallax was about twice as great as the sun’s, that is, 6 minutes at the horizon. The degree rising was 24° Sagittarius. Therefore, the nonagesimal was 64° from the zenith, giving a diurnal latitudinal parallax of 5’ 24“. Whether it really was that much will become apparent below, through a careful consideration of latitudes ^14. For there, the northern latitude, free from diurnal parallax (and if there is no refraction), would come out to be 1° 9’ 45“ north. And because the altitude of the nonagesimal is 26°, the longitudinal parallax15 at the horizon is 2’ 38“. But Mars is 40° from the nonagesimal, counting from 4° Scorpio to 24° Virgo, which, under the column  headed 2’ 38“ shows a true longitudinal parallax of 1...   \n",
       "839  On the night following 1589 April 15 at 12h 5m, the planet was found at 3° 58’ 20“ Scorpio,13 with latitude 1° 4’ 20“ north, decreasing. Mars’s altitude was 22⅕°, where refraction from the table for the fixed stars was zero, and from the table for the sun, 3½’. But the parallax was about twice as great as the sun’s, that is, 6 minutes at the horizon. The degree rising was 24° Sagittarius. Therefore, the nonagesimal was 64° from the zenith, giving a diurnal latitudinal parallax of 5’ 24“. Whether it really was that much will become apparent below, through a careful consideration of latitudes ^14. For there, the northern latitude, free from diurnal parallax (and if there is no refraction), would come out to be 1° 9’ 45“ north. And because the altitude of the nonagesimal is 26°, the longitudinal parallax15 at the horizon is 2’ 38“. But Mars is 40° from the nonagesimal, counting from 4° Scorpio to 24° Virgo, which, under the column  headed 2’ 38“ shows a true longitudinal parallax of 1...   \n",
       "847  On the night following 1589 April 15 at 12h 5m, the planet was found at 3° 58’ 20“ Scorpio,13 with latitude 1° 4’ 20“ north, decreasing. Mars’s altitude was 22⅕°, where refraction from the table for the fixed stars was zero, and from the table for the sun, 3½’. But the parallax was about twice as great as the sun’s, that is, 6 minutes at the horizon. The degree rising was 24° Sagittarius. Therefore, the nonagesimal was 64° from the zenith, giving a diurnal latitudinal parallax of 5’ 24“. Whether it really was that much will become apparent below, through a careful consideration of latitudes ^14. For there, the northern latitude, free from diurnal parallax (and if there is no refraction), would come out to be 1° 9’ 45“ north. And because the altitude of the nonagesimal is 26°, the longitudinal parallax15 at the horizon is 2’ 38“. But Mars is 40° from the nonagesimal, counting from 4° Scorpio to 24° Virgo, which, under the column  headed 2’ 38“ shows a true longitudinal parallax of 1...   \n",
       "862  VIII. On 1595 October 30 at 8h 20m, the planet was found at 17° 47’ 15“ Taurus,19 not far from the nonagesimal. We may thus be sure of the parallax, although we must take it into account. The latitude was 0° 5’ 10“ north. The sun’s position was 16° 50’ 30“ Scorpio. The distance between the stars was 56’ 45“. The sun’s diurnal motion was 1° 0’ 35“; that of Mars, 22’ 54“, as appears by comparing the nearby observations. The sum of the diurnal motions was 1° 23’ 29“. If the distance between the stars be divided by this, it comes out to 40’ 47“ of a day, or 16 hours 19 min. Therefore, the true opposition was 0h 39m PM on October 31. Mars’s position was 17° 31’ 40“ Taurus. This needs no reduction to the orbit, as it is nearly at the node. The latitude was about 0° 8’ north. But comparison with the preceding and following days shows a latitude of about 5’ north.\\nIX. Let, at any rate, Mars’s position on 1597 December 10 at 8h 30m be 3° 45½’ Cancer (as above) ^20. The sun’s position was 2...   \n",
       "876  VIII. On 1595 October 30 at 8h 20m, the planet was found at 17° 47’ 15“ Taurus,19 not far from the nonagesimal. We may thus be sure of the parallax, although we must take it into account. The latitude was 0° 5’ 10“ north. The sun’s position was 16° 50’ 30“ Scorpio. The distance between the stars was 56’ 45“. The sun’s diurnal motion was 1° 0’ 35“; that of Mars, 22’ 54“, as appears by comparing the nearby observations. The sum of the diurnal motions was 1° 23’ 29“. If the distance between the stars be divided by this, it comes out to 40’ 47“ of a day, or 16 hours 19 min. Therefore, the true opposition was 0h 39m PM on October 31. Mars’s position was 17° 31’ 40“ Taurus. This needs no reduction to the orbit, as it is nearly at the node. The latitude was about 0° 8’ north. But comparison with the preceding and following days shows a latitude of about 5’ north.\\nIX. Let, at any rate, Mars’s position on 1597 December 10 at 8h 30m be 3° 45½’ Cancer (as above) ^20. The sun’s position was 2...   \n",
       "889  VIII. On 1595 October 30 at 8h 20m, the planet was found at 17° 47’ 15“ Taurus,19 not far from the nonagesimal. We may thus be sure of the parallax, although we must take it into account. The latitude was 0° 5’ 10“ north. The sun’s position was 16° 50’ 30“ Scorpio. The distance between the stars was 56’ 45“. The sun’s diurnal motion was 1° 0’ 35“; that of Mars, 22’ 54“, as appears by comparing the nearby observations. The sum of the diurnal motions was 1° 23’ 29“. If the distance between the stars be divided by this, it comes out to 40’ 47“ of a day, or 16 hours 19 min. Therefore, the true opposition was 0h 39m PM on October 31. Mars’s position was 17° 31’ 40“ Taurus. This needs no reduction to the orbit, as it is nearly at the node. The latitude was about 0° 8’ north. But comparison with the preceding and following days shows a latitude of about 5’ north.\\nIX. Let, at any rate, Mars’s position on 1597 December 10 at 8h 30m be 3° 45½’ Cancer (as above) ^20. The sun’s position was 2...   \n",
       "950  VIII. On 1595 October 30 at 8h 20m, the planet was found at 17° 47’ 15“ Taurus,19 not far from the nonagesimal. We may thus be sure of the parallax, although we must take it into account. The latitude was 0° 5’ 10“ north. The sun’s position was 16° 50’ 30“ Scorpio. The distance between the stars was 56’ 45“. The sun’s diurnal motion was 1° 0’ 35“; that of Mars, 22’ 54“, as appears by comparing the nearby observations. The sum of the diurnal motions was 1° 23’ 29“. If the distance between the stars be divided by this, it comes out to 40’ 47“ of a day, or 16 hours 19 min. Therefore, the true opposition was 0h 39m PM on October 31. Mars’s position was 17° 31’ 40“ Taurus. This needs no reduction to the orbit, as it is nearly at the node. The latitude was about 0° 8’ north. But comparison with the preceding and following days shows a latitude of about 5’ north.\\nIX. Let, at any rate, Mars’s position on 1597 December 10 at 8h 30m be 3° 45½’ Cancer (as above) ^20. The sun’s position was 2...   \n",
       "\n",
       "     ParaIndex  \\\n",
       "158        218   \n",
       "168        221   \n",
       "175        222   \n",
       "183        223   \n",
       "188        224   \n",
       "192        225   \n",
       "199        226   \n",
       "203        227   \n",
       "207        228   \n",
       "218        230   \n",
       "262        245   \n",
       "278        248   \n",
       "292        249   \n",
       "303        251   \n",
       "306        251   \n",
       "484        288   \n",
       "488        290   \n",
       "496        292   \n",
       "508        296   \n",
       "574        315   \n",
       "584        317   \n",
       "651        329   \n",
       "655        330   \n",
       "751        350   \n",
       "767        351   \n",
       "776        352   \n",
       "782        352   \n",
       "787        352   \n",
       "789        353   \n",
       "808        354   \n",
       "830        354   \n",
       "839        354   \n",
       "847        354   \n",
       "862        355   \n",
       "876        355   \n",
       "889        355   \n",
       "950        355   \n",
       "\n",
       "                                                                           ASO  \\\n",
       "158                          {'act': 'set', 'subject': 'they', 'obj': 'Mars '}   \n",
       "168                          {'act': 'set', 'subject': 'they', 'obj': 'Mars '}   \n",
       "175                                                          {'act': 'placed'}   \n",
       "183                                                               {'act': 'm'}   \n",
       "188  {'act': 'established', 'subject': 'they', 'obj': 'the position of Mars '}   \n",
       "192                                                          {'act': 'placed'}   \n",
       "199                       {'act': 'report', 'subject': 'they', 'obj': 'Mars '}   \n",
       "203                        {'act': 'found', 'subject': 'they', 'obj': 'Mars '}   \n",
       "207                       {'act': 'placed', 'subject': 'they', 'obj': 'Mars '}   \n",
       "218   {'act': 'gives', 'subject': 'this', 'obj': 'a diurnal motion of 23’ 44'}   \n",
       "262                                      {'act': 'is', 'subject': 'longitude'}   \n",
       "278                                          {'act': 'was', 'subject': 'mars'}   \n",
       "292                                          {'act': 'was', 'subject': 'mars'}   \n",
       "303                                                             {'act': 'was'}   \n",
       "306                                      {'act': 'was', 'subject': 'distance'}   \n",
       "484                                   {'act': 'was', 'subject': 'declination'}   \n",
       "488                                          {'act': 'was', 'subject': 'mars'}   \n",
       "496                                      {'act': 'was', 'subject': 'latitude'}   \n",
       "508                                           {'act': 'observed', 'obj': '8°'}   \n",
       "574                                                            {'act': 'seen'}   \n",
       "584                                                             {'act': 'was'}   \n",
       "651                                                            {'act': 'seen'}   \n",
       "655                                                            {'act': 'seen'}   \n",
       "751                                                         {'act': 'Suppose'}   \n",
       "767                                                        {'act': 'observed'}   \n",
       "776                                                        {'act': 'observed'}   \n",
       "782                                      {'act': 'was', 'subject': 'position'}   \n",
       "787                                           {'act': 'gave', 'obj': '4° 31’'}   \n",
       "789                                                           {'act': 'found'}   \n",
       "808                                                           {'act': 'found'}   \n",
       "830                                                           {'act': 'found'}   \n",
       "839                                            {'act': 'was', 'subject': 'it'}   \n",
       "847                                                           {'act': 'found'}   \n",
       "862                                                           {'act': 'found'}   \n",
       "876                                                             {'act': 'Let'}   \n",
       "889                                                        {'act': 'observed'}   \n",
       "950                        {'act': 'moved', 'subject': 'mars', 'obj': '3° 0’'}   \n",
       "\n",
       "                                                                                                                                                                                                       Entities  \\\n",
       "158                                                                                                       [[1580 November 12, DATE], [10h 50m,1 they, TIME], [Mars, PLAN], [8° 36’ 50”, LONG], [diurnal, ASTR]]   \n",
       "168                                                                                                      [[1582 December 28, DATE], [11h 30m, TIME], [Mars, PLAN], [16° 47’ Cancer, LONG], [observation, ASTR]]   \n",
       "175                                                                                                                            [[1585 January 31, DATE], [12h 0m, TIME], [Mars, PLAN], [21° 18’ 11” Leo, LONG]]   \n",
       "183                                                                                                                           [[1587 March 7, DATE], [19h 10m, TIME], [Mars, PLAN], [25° 10’ 20” Virgo., LONG]]   \n",
       "188                                                               [[1589 April 15, DATE], [12h 5m, TIME], [Mars, PLAN], [3° 58' 21\" Scorpio, LONG], [longitudinal, ASTR], [parallax, ASTR], [3° 57’ 11”, LONG]]   \n",
       "192                                                                                                                           [[1591 June 6, DATE], [12h 20m, TIME], [Mars, PLAN], [27° 15’ Sagittarius, LONG]]   \n",
       "199                               [[1593 24 August, DATE], [10h 30m, TIME], [Mars, PLAN], [12° 38’ Pisces12, LONG], [observed, ASTR], [diurnal, ASTR], [16’ 45”, LONG], [longitudinal, ASTR], [parallax, ASTR]]   \n",
       "203                                                                                           [[1595 October 30, DATE], [8h 20m, TIME], [Mars, PLAN], [17° 48’ Taurus, LONG], [diurnal, ASTR], [22’ 54”, LONG]]   \n",
       "207                                                                                      [[1597 December 10, DATE], [8h 30m, TIME], [Mars, PLAN], [3° 30’ Cancer, LONG], [4° 1’ Cancer, LONG], [3° 45½’, LONG]]   \n",
       "218                                                                                                           [[diurnal, ASTR], [23’ 44”, LONG], [January 19/29, DATE], [9h 40m, TIME], [8° 18’ 45” Leo, LONG]]   \n",
       "262  [[7h 15m, TIME], [December 27, DATE], [36° 43’, LONG], [Cor Leonis,7, STAR], [latitude, ASTR], [0° 26½’, LONG], [longitude, ASTR], [17° 28⅓’, LONG], [altitude, ASTR], [14° 4’, LONG], [refraction, ASTR]]   \n",
       "278                                                          [[1583 January 16, DATE], [7h 30m, TIME], [evening,11, ASTR], [Mars, PLAN], [23° 29’, LONG], [star, ASTR], [Erichthonius, NAME], [altitude, ASTR]]   \n",
       "292                                                                                                                  [[January 17, DATE], [5h 20m, TIME], [Mars, PLAN], [23° 16’, LONG], [Erichthonius., STAR]]   \n",
       "303                                                                                                                     [[January 18, DATE], [8h 52m, TIME], [44° 22’, LONG], [Mars, PLAN], [Cor Leonis, STAR]]   \n",
       "306                                                                                                                                                       [[January 19, DATE], [7h 3m, TIME], [44° 32½’, LONG]]   \n",
       "484                                                                                                                                        [[1590 March 4, DATE], [7h 10m, TIME], [Mars, PLAN], [9° 26’, LONG]]   \n",
       "488                                                                         [[1592 January 23, DATE], [10h 15m, TIME], [Mars, PLAN], [11° 34’ 30” Aries, LONG], [latitude, ASTR], [0° 2’, LONG], [south, ASTR]]   \n",
       "496                                                                              [[1595 October 27, DATE], [12h 20m, TIME], [Mars, PLAN], [latitude, ASTR], [parallax, ASTR], [0° 2’ 20”, LONG], [south, ASTR]]   \n",
       "508  [[1595 January 4, DATE], [Mars, PLAN], [observed, ASTR], [7h 10m, TIME], [altitude, ASTR], [Cor Scorpii,10, STAR], [observed, ASTR], [latitude, ASTR], [0° 3’ 46”, LONG], [13° 36’ 40” Sagittarius, LONG]]   \n",
       "574                                                                        [[1588 November 10, DATE], [6h 30m, TIME], [Mars, PLAN], [25° 31’ Virgo, LONG], [latitude, ASTR], [1° 36’ 45”, LONG], [north, ASTR]]   \n",
       "584                                                                                                    [[1586 October 22, DATE], [6h, TIME], [6° 9’, LONG], [eastward, ASTR], [Mars, PLAN], [Cor Leonis, STAR]]   \n",
       "651                                                                                [[1585 April 26, DATE], [9h 42m, TIME], [Mars, PLAN], [21° 26’ Leo, LONG], [latitude, ASTR], [1° 49¾’, LONG], [north, ASTR]]   \n",
       "655                                                                                  [[1591 October 16, DATE], [6h 30m, TIME], [Mars, PLAN], [1° 27⅓’, LONG], [latitude, ASTR], [2° 10⅚’, LONG], [south, ASTR]]   \n",
       "751                                                                                        [[1580 November 12, DATE], [10h 50m, TIME], [Mars, PLAN], [observed, ASTR], [8° 37’ Gemini,3, LONG], [1° 55’, LONG]]   \n",
       "767                                                                       [[1582 December 28, DATE], [11h 30m, TIME], [Mars, PLAN], [observed, ASTR], [16° 47’ Cancer,6, LONG], [17° 13’ 45“ Capricorn., LONG]]   \n",
       "776                                                                                                          [[1585 January 31, DATE], [12h 0m, TIME], [Mars, PLAN], [observed, ASTR], [21° 18’ 11“ Leo, LONG]]   \n",
       "782                                                                                                             [[January 30, DATE], [19h 14m, TIME], [Mars, PLAN], [ecliptic, ASTR], [21° 36’ 10“ Leo., LONG]]   \n",
       "787                                                                                                                                      [[observation, ASTR], [January 31, DATE], [12h, TIME], [4° 31’, LONG]]   \n",
       "789                               [[1587 March 4, DATE], [1h 16m, TIME], [Mars, PLAN], [26° 26’ 17“ Virgo,8, LONG], [Cor Leonis9, STAR], [observed, ASTR], [latitude, ASTR], [3° 38’ 16“, LONG], [north, ASTR]]   \n",
       "808                                                                                  [[1589 April 15, DATE], [12h 5m, TIME], [3° 58’ 20“ Scorpio,13, LONG], [latitude, ASTR], [1° 4’ 20“, LONG], [north, ASTR]]   \n",
       "830                                                                  [[1591 June 6, DATE], [12h 20m, TIME], [Mars, PLAN], [27° 14’ 42“ Sagittarius,16, LONG], [latitude, ASTR], [3° 55½’, LONG], [south, ASTR]]   \n",
       "839                                                                      [[diurnal, ASTR], [57’ 8“, LONG], [Mars, PLAN], [1° 12’ 24“, LONG], [June 10, DATE], [11h 50m, TIME], [26° 2’ 18“ Sagittarius., LONG]]   \n",
       "847                                                    [[1593 August 24, DATE], [10h 30m, TIME], [ecliptic, ASTR], [Mars, PLAN], [12° 38’ Pisces,18, LONG], [latitude, ASTR], [6° 5’ 30“, LONG], [south, ASTR]]   \n",
       "862                                                                                                               [[1595 October 30, DATE], [8h 20m, TIME], [17° 47’ 15“ Taurus,19, LONG], [nonagesimal, ASTR]]   \n",
       "876                                                                                                                                   [[Mars, PLAN], [1597 December 10, DATE], [8h 30m, TIME], [3° 45½’, LONG]]   \n",
       "889                                                                                                 [[1600 January 13/23, DATE], [11h 40m, TIME], [Uraniborg, NAME], [observed, ASTR], [10° 38’ 46“ Leo, LONG]]   \n",
       "950                                                                                    [[February 15, DATE], [17h, TIME], [12h, PARA], [19 hours, TIME], [Mars, PLAN], [3° 0’, LONG], [180, PARA], [187, PARA]]   \n",
       "\n",
       "          CNER  Label  \n",
       "158  [1, 1, 1]      1  \n",
       "168  [1, 1, 1]      1  \n",
       "175  [1, 1, 1]      1  \n",
       "183  [1, 1, 1]      1  \n",
       "188  [1, 1, 1]      1  \n",
       "192  [1, 1, 1]      1  \n",
       "199  [1, 1, 1]      1  \n",
       "203  [1, 1, 1]      1  \n",
       "207  [1, 1, 1]      1  \n",
       "218  [1, 1, 1]      1  \n",
       "262  [1, 1, 1]      1  \n",
       "278  [1, 1, 1]      1  \n",
       "292  [1, 1, 1]      1  \n",
       "303  [1, 1, 1]      1  \n",
       "306  [1, 1, 1]      1  \n",
       "484  [1, 1, 1]      1  \n",
       "488  [1, 1, 1]      1  \n",
       "496  [1, 1, 1]      1  \n",
       "508  [1, 1, 1]      1  \n",
       "574  [1, 1, 1]      1  \n",
       "584  [1, 1, 1]      1  \n",
       "651  [1, 1, 1]      1  \n",
       "655  [1, 1, 1]      1  \n",
       "751  [1, 1, 1]      1  \n",
       "767  [1, 1, 1]      1  \n",
       "776  [1, 1, 1]      1  \n",
       "782  [1, 1, 1]      1  \n",
       "787  [1, 1, 1]      1  \n",
       "789  [1, 1, 1]      1  \n",
       "808  [1, 1, 1]      1  \n",
       "830  [1, 1, 1]      1  \n",
       "839  [1, 1, 1]      1  \n",
       "847  [1, 1, 1]      1  \n",
       "862  [1, 1, 1]      1  \n",
       "876  [1, 1, 1]      1  \n",
       "889  [1, 1, 1]      1  \n",
       "950  [1, 1, 1]      1  "
      ]
     },
     "execution_count": 14,
     "metadata": {},
     "output_type": "execute_result"
    }
   ],
   "source": [
    "df[df.Label==1]"
   ]
  },
  {
   "cell_type": "code",
   "execution_count": null,
   "metadata": {},
   "outputs": [],
   "source": []
  },
  {
   "cell_type": "markdown",
   "metadata": {},
   "source": [
    "# Distribution of explicit observational sentences "
   ]
  },
  {
   "cell_type": "markdown",
   "metadata": {},
   "source": [
    "here we extract the explicit observational sentences using custom Name Entity Recognition that we provided using deep learning. We can see the sentences in the corresponding paragraph. As you see we integrated data with such contributes as follows:\n",
    "\n",
    "- **Sentence**  \n",
    "- **Chapter**\n",
    "- **Paragraph**\n",
    "- **ParaIndex**\n",
    "- **ASO**\n",
    "- **Entities**\n",
    "- **FNER**\n",
    "- **Label**"
   ]
  },
  {
   "cell_type": "code",
   "execution_count": 15,
   "metadata": {},
   "outputs": [],
   "source": [
    "df_obs=df[df.Label==1]"
   ]
  },
  {
   "cell_type": "code",
   "execution_count": 16,
   "metadata": {},
   "outputs": [
    {
     "data": {
      "text/plain": [
       "{10, 11, 12, 13, 15}"
      ]
     },
     "execution_count": 16,
     "metadata": {},
     "output_type": "execute_result"
    }
   ],
   "source": [
    "dfChobs=set(df_obs[\"Chapter\"])\n",
    "dfChobs"
   ]
  },
  {
   "cell_type": "markdown",
   "metadata": {},
   "source": [
    "# Data preparation for visualization"
   ]
  },
  {
   "cell_type": "code",
   "execution_count": 17,
   "metadata": {},
   "outputs": [],
   "source": [
    "a=[]\n",
    "for i in  dfChobs:\n",
    "    Obch=df_obs[df_obs.Chapter == i].shape[0]\n",
    "    a.append(Obch)"
   ]
  },
  {
   "cell_type": "code",
   "execution_count": 18,
   "metadata": {},
   "outputs": [
    {
     "data": {
      "text/plain": [
       "Text(0.5, 1.0, 'Distribution of observation over different chapters')"
      ]
     },
     "execution_count": 18,
     "metadata": {},
     "output_type": "execute_result"
    },
    {
     "data": {
      "image/png": "[encoded data removed]",
      "text/plain": [
       "<Figure size 432x288 with 1 Axes>"
      ]
     },
     "metadata": {
      "needs_background": "light"
     },
     "output_type": "display_data"
    }
   ],
   "source": [
    "plt.bar(list(dfChobs),a,color=\"r\",align='edge', width=.8)\n",
    "\n",
    "plt.title(\"Distribution of observation over different chapters\")\n"
   ]
  },
  {
   "cell_type": "markdown",
   "metadata": {},
   "source": [
    "## Distribution of explicit observational Sentences"
   ]
  },
  {
   "cell_type": "code",
   "execution_count": 19,
   "metadata": {},
   "outputs": [],
   "source": [
    "X=list(df[\"Sentence\"])\n",
    "y=np.array(list(df[\"Label\"]))"
   ]
  },
  {
   "cell_type": "code",
   "execution_count": 20,
   "metadata": {},
   "outputs": [],
   "source": [
    "from collections import Counter\n",
    "category=Counter(y)\n",
    "count=dict(category)"
   ]
  },
  {
   "cell_type": "code",
   "execution_count": 21,
   "metadata": {},
   "outputs": [
    {
     "data": {
      "text/plain": [
       "{0: 1487, 1: 37}"
      ]
     },
     "execution_count": 21,
     "metadata": {},
     "output_type": "execute_result"
    }
   ],
   "source": [
    "count"
   ]
  },
  {
   "cell_type": "code",
   "execution_count": 22,
   "metadata": {},
   "outputs": [
    {
     "data": {
      "text/plain": [
       "Text(0.5, 1.0, 'Distribution of samples over different classes')"
      ]
     },
     "execution_count": 22,
     "metadata": {},
     "output_type": "execute_result"
    },
    {
     "data": {
      "image/png": "[encoded data removed]",
      "text/plain": [
       "<Figure size 432x288 with 1 Axes>"
      ]
     },
     "metadata": {
      "needs_background": "light"
     },
     "output_type": "display_data"
    }
   ],
   "source": [
    "plt.bar(list(count.keys()),count.values(),color=\"r\",width=.4,tick_label=[\"1\",\"0\"])\n",
    "plt.title(\"Distribution of samples over different classes\")\n"
   ]
  },
  {
   "cell_type": "code",
   "execution_count": 23,
   "metadata": {},
   "outputs": [],
   "source": [
    "from sklearn.feature_extraction.text import CountVectorizer,HashingVectorizer\n",
    "from sklearn.feature_extraction.text import TfidfTransformer,TfidfVectorizer\n",
    "from sklearn.feature_selection import SelectKBest,chi2\n",
    "from sklearn.linear_model import SGDClassifier, LogisticRegression,LogisticRegressionCV\n",
    "from sklearn.naive_bayes import MultinomialNB\n",
    "from sklearn.ensemble import RandomForestClassifier\n",
    "from sklearn.pipeline import Pipeline\n",
    "from sklearn.decomposition import TruncatedSVD\n",
    "from sklearn.svm import SVC,LinearSVC\n",
    "from sklearn.utils import shuffle\n",
    "from sklearn.model_selection import train_test_split\n",
    "from sklearn.neighbors import NearestNeighbors\n",
    "#from xgboost import XGBClassifier"
   ]
  },
  {
   "cell_type": "markdown",
   "metadata": {},
   "source": [
    "## Models"
   ]
  },
  {
   "cell_type": "code",
   "execution_count": 24,
   "metadata": {},
   "outputs": [],
   "source": [
    "vec=TfidfVectorizer()\n",
    "clf= SGDClassifier()\n",
    "trial_05=Pipeline([(\"vect\",vec),(\"clf\",clf)])\n",
    "#####################################################\n",
    "## 02-XGBClassifier\n",
    "\n",
    "#trial_02 = Pipeline([('vect', CountVectorizer(stop_words='english')),\n",
    "                     #('clf', XGBClassifier())])\n"
   ]
  },
  {
   "cell_type": "code",
   "execution_count": 25,
   "metadata": {},
   "outputs": [
    {
     "data": {
      "text/plain": [
       "Pipeline(memory=None,\n",
       "         steps=[('vect',\n",
       "                 TfidfVectorizer(analyzer='word', binary=False,\n",
       "                                 decode_error='strict',\n",
       "                                 dtype=<class 'numpy.float64'>,\n",
       "                                 encoding='utf-8', input='content',\n",
       "                                 lowercase=True, max_df=1.0, max_features=None,\n",
       "                                 min_df=1, ngram_range=(1, 1), norm='l2',\n",
       "                                 preprocessor=None, smooth_idf=True,\n",
       "                                 stop_words=None, strip_accents=None,\n",
       "                                 sublinear_tf=False,\n",
       "                                 token_pattern='(...\n",
       "                 SGDClassifier(alpha=0.0001, average=False, class_weight=None,\n",
       "                               early_stopping=False, epsilon=0.1, eta0=0.0,\n",
       "                               fit_intercept=True, l1_ratio=0.15,\n",
       "                               learning_rate='optimal', loss='hinge',\n",
       "                               max_iter=1000, n_iter_no_change=5, n_jobs=None,\n",
       "                               penalty='l2', power_t=0.5, random_state=None,\n",
       "                               shuffle=True, tol=0.001, validation_fraction=0.1,\n",
       "                               verbose=0, warm_start=False))],\n",
       "         verbose=False)"
      ]
     },
     "execution_count": 25,
     "metadata": {},
     "output_type": "execute_result"
    }
   ],
   "source": [
    "trial_05"
   ]
  },
  {
   "cell_type": "markdown",
   "metadata": {},
   "source": [
    "# Extract explicit observational sentences using custom NER in the paragraph"
   ]
  },
  {
   "cell_type": "code",
   "execution_count": 26,
   "metadata": {},
   "outputs": [],
   "source": [
    "X_Obs=df.loc[df.Label==1]\n",
    "X_Obs=X_Obs[[\"Sentence\",\"Paragraph\"]]\n"
   ]
  },
  {
   "cell_type": "code",
   "execution_count": 27,
   "metadata": {},
   "outputs": [
    {
     "data": {
      "text/html": [
       "<div>\n",
       "<style scoped>\n",
       "    .dataframe tbody tr th:only-of-type {\n",
       "        vertical-align: middle;\n",
       "    }\n",
       "\n",
       "    .dataframe tbody tr th {\n",
       "        vertical-align: top;\n",
       "    }\n",
       "\n",
       "    .dataframe thead th {\n",
       "        text-align: right;\n",
       "    }\n",
       "</style>\n",
       "<table border=\"1\" class=\"dataframe\">\n",
       "  <thead>\n",
       "    <tr style=\"text-align: right;\">\n",
       "      <th></th>\n",
       "      <th>Sentence</th>\n",
       "      <th>Paragraph</th>\n",
       "    </tr>\n",
       "  </thead>\n",
       "  <tbody>\n",
       "    <tr>\n",
       "      <td>158</td>\n",
       "      <td>On 1580 November 12 at 10h 50m,1 they set Mars down at 8° 36’ 50” Gemini2 without mentioning the horizontal variations,  by which term I wish the diurnal parallaxes and the refractions to be understood in what follows.</td>\n",
       "      <td>On 1580 November 12 at 10h 50m,1 they set Mars down at 8° 36’ 50” Gemini2 without mentioning the horizontal variations,  by which term I wish the diurnal parallaxes and the refractions to be understood in what follows. Now this observation is distant and isolated. It was reduced to the moment of opposition using the diurnal motion from the Prutenic Tables ^3.</td>\n",
       "    </tr>\n",
       "    <tr>\n",
       "      <td>168</td>\n",
       "      <td>On 1582 December 28 at 11h 30m, they set Mars down at 16° 47’ Cancer by observation ^6.</td>\n",
       "      <td>On 1582 December 28 at 11h 30m, they set Mars down at 16° 47’ Cancer by observation ^6. The moment of opposition assigned by Tycho comes 46 minutes later, during which the planet retrogressed less than one minute. Tycho therefore puts it at 16° 46’ 16” Cancer ^7. On an inserted sheet here, an attempt was made to correct for a refraction of two minutes. This was, I think, first trial of the theory of refraction then being developed. Nevertheless, he followed the observed value unchanged, thus declining to consider the planet as something which could alter its position. Nor was there any need for  correction, since it was in Cancer, beyond the reach of refraction, and was in mid-sky where, in Cancer, there is no longitudinal parallax.</td>\n",
       "    </tr>\n",
       "    <tr>\n",
       "      <td>175</td>\n",
       "      <td>On 1585 January 31 at 12h 0m, Mars was placed at 21° 18’ 11” Leo ^8.</td>\n",
       "      <td>On 1585 January 31 at 12h 0m, Mars was placed at 21° 18’ 11” Leo ^8. The diurnal motion, by comparison of observations, was 24’ 15”. The moment of opposition followed at 19h 35m, 7 hours and 35 minutes later. To this period belongs 7’ 41” of diurnal motion westward. Therefore, at the designated moment, it would have been at 21° 10’ 30” Leo, which is what was accepted. There is no mention of parallax. Nothing had to be done about refraction, because Mars was high and at mid-sky. I therefore find the bit of advice in the table about refraction (properly) ignored.</td>\n",
       "    </tr>\n",
       "    <tr>\n",
       "      <td>183</td>\n",
       "      <td>On 1587 March 7 at 19h 10m they deduced the position of Mars from the observations, which was 25° 10’ 20” Virgo.</td>\n",
       "      <td>On 1587 March 7 at 19h 10m they deduced the position of Mars from the observations, which was 25° 10’ 20” Virgo. This they kept in the table, but changed the time to 17h 22m. The difference of 1h 48m multiplied by a diurnal motion of 24’ gives the same number of minutes and seconds (that is, 1’ 48”), no more. It therefore should have been 25° 8’ 32” Virgo, which also approaches nearer the point opposite the sun. The difference is of practically no importance ^9.</td>\n",
       "    </tr>\n",
       "    <tr>\n",
       "      <td>188</td>\n",
       "      <td>On 1589 April 15 at 12h 5m they established the position of Mars very carefully at 3° 58' 21\" Scorpio, and corrected for longitudinal parallax so as to make it 3° 57’ 11” ^10.</td>\n",
       "      <td>On 1589 April 15 at 12h 5m they established the position of Mars very carefully at 3° 58' 21\" Scorpio, and corrected for longitudinal parallax so as to make it 3° 57’ 11” ^10. There remain 1h 30m until the designated moment of opposition, which, for a diurnal motion of 22', bring the planet back 1’ 22”, so as to be at 3° 55’ 49”. They took the value of 3° 58’ 10”. The former is closer to the sun’s mean position.</td>\n",
       "    </tr>\n",
       "    <tr>\n",
       "      <td>192</td>\n",
       "      <td>On 1591 June 6 at 12h 20m, Mars is placed at 27° 15’ Sagittarius ^11.</td>\n",
       "      <td>On 1591 June 6 at 12h 20m, Mars is placed at 27° 15’ Sagittarius ^11. There remained 2 days 4 hours and 5 minutes until the designated moment. In four days it was found to be moved forward 1° 12’ 47”. Therefore, to 2d 4h 5m correspond 39’ 29”. Consequently, at that moment Mars was at 26° 35’ 31” Sagittarius. There is no need to consider any horizontal variations in longitude, since Mars is at mid-sky and at the beginning of Capricorn. The table has 26° 32’ Sagittarius.</td>\n",
       "    </tr>\n",
       "    <tr>\n",
       "      <td>199</td>\n",
       "      <td>On 1593 24 August at 10h 30m they report Mars as being at 12° 38’ Pisces12 with an observed diurnal motion of 16’ 45”, and this near the nonagesimal13 where there is no longitudinal parallax.</td>\n",
       "      <td>On 1593 24 August at 10h 30m they report Mars as being at 12° 38’ Pisces12 with an observed diurnal motion of 16’ 45”, and this near the nonagesimal13 where there is no longitudinal parallax. The moment designated for the opposition preceded this by 8h 17m (for it was at 2h 13m),14 to which corresponds a motion of 5’ 48” eastward. Therefore, the planet falls at 12° 43’ 48” Pisces. And the table has 12° 43’ 45”.</td>\n",
       "    </tr>\n",
       "    <tr>\n",
       "      <td>203</td>\n",
       "      <td>On 1595 October 30 at 8h 20m, they found Mars at 17° 48’ Taurus, with a diurnal motion of 22’ 54” ^15.</td>\n",
       "      <td>On 1595 October 30 at 8h 20m, they found Mars at 17° 48’ Taurus, with a diurnal motion of 22’ 54” ^15. The designated moment preceded by 11h 48m, for which is required a motion of Mars of 11’ 7” eastward, so that it would be at 17° 59’ 7” Taurus. But it was projected eastward on account of parallax. Therefore, possibly using another observation on the meridian, they put down 17° 56’ 15” Taurus in the table.</td>\n",
       "    </tr>\n",
       "    <tr>\n",
       "      <td>207</td>\n",
       "      <td>On 1597 December 10 at 8h 30m, they first placed Mars at 3° 30’ Cancer, and again at 4° 1’ Cancer, the mean being 3° 45½’ Cancer ^16.</td>\n",
       "      <td>On 1597 December 10 at 8h 30m, they first placed Mars at 3° 30’ Cancer, and again at 4° 1’ Cancer, the mean being 3° 45½’ Cancer ^16. The moment of opposition came 3 days 5h 5m later, to which, from Magini, corresponds 1° 15’ westward. Therefore, Mars would have been at 2° 30½’ Cancer. In the table, it was put at 2° 28’. The reason for the rough measurement, carried out with a measuring staff, is clear from the date. Tycho had left the island, leaving all  instruments but the staff behind. Nevertheless, he did not wish to ignore this opposition completely. But I wish he had still remained on the island, for this opposition was a marvelous opportunity, not often recurring within a man’s lifetime, for examining Mars’s parallax.</td>\n",
       "    </tr>\n",
       "    <tr>\n",
       "      <td>218</td>\n",
       "      <td>This gives a diurnal motion of 23’ 44”, and a position on January 19/29 at 9h 40m of 8° 18’ 45” Leo, just as they put it.</td>\n",
       "      <td>Hence, Mars is at 10° 38’ 46” Leo, at an adjusted time of 11h 40m reduced to the meridian of Uraniborg. But on January 24/February 3 at the same time it was at 6° 18’ Leo. This gives a diurnal motion of 23’ 44”, and a position on January 19/29 at 9h 40m of 8° 18’ 45” Leo, just as they put it.</td>\n",
       "    </tr>\n",
       "  </tbody>\n",
       "</table>\n",
       "</div>"
      ],
      "text/plain": [
       "                                                                                                                                                                                                                       Sentence  \\\n",
       "158  On 1580 November 12 at 10h 50m,1 they set Mars down at 8° 36’ 50” Gemini2 without mentioning the horizontal variations,  by which term I wish the diurnal parallaxes and the refractions to be understood in what follows.   \n",
       "168                                                                                                                                     On 1582 December 28 at 11h 30m, they set Mars down at 16° 47’ Cancer by observation ^6.   \n",
       "175                                                                                                                                                        On 1585 January 31 at 12h 0m, Mars was placed at 21° 18’ 11” Leo ^8.   \n",
       "183                                                                                                            On 1587 March 7 at 19h 10m they deduced the position of Mars from the observations, which was 25° 10’ 20” Virgo.   \n",
       "188                                             On 1589 April 15 at 12h 5m they established the position of Mars very carefully at 3° 58' 21\" Scorpio, and corrected for longitudinal parallax so as to make it 3° 57’ 11” ^10.   \n",
       "192                                                                                                                                                       On 1591 June 6 at 12h 20m, Mars is placed at 27° 15’ Sagittarius ^11.   \n",
       "199                             On 1593 24 August at 10h 30m they report Mars as being at 12° 38’ Pisces12 with an observed diurnal motion of 16’ 45”, and this near the nonagesimal13 where there is no longitudinal parallax.   \n",
       "203                                                                                                                      On 1595 October 30 at 8h 20m, they found Mars at 17° 48’ Taurus, with a diurnal motion of 22’ 54” ^15.   \n",
       "207                                                                                       On 1597 December 10 at 8h 30m, they first placed Mars at 3° 30’ Cancer, and again at 4° 1’ Cancer, the mean being 3° 45½’ Cancer ^16.   \n",
       "218                                                                                                   This gives a diurnal motion of 23’ 44”, and a position on January 19/29 at 9h 40m of 8° 18’ 45” Leo, just as they put it.   \n",
       "\n",
       "                                                                                                                                                                                                                                                                                                                                                                                                                                                                                                                                                                                                                                                                                                                                                                  Paragraph  \n",
       "158                                                                                                                                                                                                                                                                                                                                                                                              On 1580 November 12 at 10h 50m,1 they set Mars down at 8° 36’ 50” Gemini2 without mentioning the horizontal variations,  by which term I wish the diurnal parallaxes and the refractions to be understood in what follows. Now this observation is distant and isolated. It was reduced to the moment of opposition using the diurnal motion from the Prutenic Tables ^3.   \n",
       "168  On 1582 December 28 at 11h 30m, they set Mars down at 16° 47’ Cancer by observation ^6. The moment of opposition assigned by Tycho comes 46 minutes later, during which the planet retrogressed less than one minute. Tycho therefore puts it at 16° 46’ 16” Cancer ^7. On an inserted sheet here, an attempt was made to correct for a refraction of two minutes. This was, I think, first trial of the theory of refraction then being developed. Nevertheless, he followed the observed value unchanged, thus declining to consider the planet as something which could alter its position. Nor was there any need for  correction, since it was in Cancer, beyond the reach of refraction, and was in mid-sky where, in Cancer, there is no longitudinal parallax.  \n",
       "175                                                                                                                                                                                 On 1585 January 31 at 12h 0m, Mars was placed at 21° 18’ 11” Leo ^8. The diurnal motion, by comparison of observations, was 24’ 15”. The moment of opposition followed at 19h 35m, 7 hours and 35 minutes later. To this period belongs 7’ 41” of diurnal motion westward. Therefore, at the designated moment, it would have been at 21° 10’ 30” Leo, which is what was accepted. There is no mention of parallax. Nothing had to be done about refraction, because Mars was high and at mid-sky. I therefore find the bit of advice in the table about refraction (properly) ignored.  \n",
       "183                                                                                                                                                                                                                                                                                     On 1587 March 7 at 19h 10m they deduced the position of Mars from the observations, which was 25° 10’ 20” Virgo. This they kept in the table, but changed the time to 17h 22m. The difference of 1h 48m multiplied by a diurnal motion of 24’ gives the same number of minutes and seconds (that is, 1’ 48”), no more. It therefore should have been 25° 8’ 32” Virgo, which also approaches nearer the point opposite the sun. The difference is of practically no importance ^9.   \n",
       "188                                                                                                                                                                                                                                                                                                                                         On 1589 April 15 at 12h 5m they established the position of Mars very carefully at 3° 58' 21\" Scorpio, and corrected for longitudinal parallax so as to make it 3° 57’ 11” ^10. There remain 1h 30m until the designated moment of opposition, which, for a diurnal motion of 22', bring the planet back 1’ 22”, so as to be at 3° 55’ 49”. They took the value of 3° 58’ 10”. The former is closer to the sun’s mean position.  \n",
       "192                                                                                                                                                                                                                                                                               On 1591 June 6 at 12h 20m, Mars is placed at 27° 15’ Sagittarius ^11. There remained 2 days 4 hours and 5 minutes until the designated moment. In four days it was found to be moved forward 1° 12’ 47”. Therefore, to 2d 4h 5m correspond 39’ 29”. Consequently, at that moment Mars was at 26° 35’ 31” Sagittarius. There is no need to consider any horizontal variations in longitude, since Mars is at mid-sky and at the beginning of Capricorn. The table has 26° 32’ Sagittarius.  \n",
       "199                                                                                                                                                                                                                                                                                                                                          On 1593 24 August at 10h 30m they report Mars as being at 12° 38’ Pisces12 with an observed diurnal motion of 16’ 45”, and this near the nonagesimal13 where there is no longitudinal parallax. The moment designated for the opposition preceded this by 8h 17m (for it was at 2h 13m),14 to which corresponds a motion of 5’ 48” eastward. Therefore, the planet falls at 12° 43’ 48” Pisces. And the table has 12° 43’ 45”.  \n",
       "203                                                                                                                                                                                                                                                                                                                                              On 1595 October 30 at 8h 20m, they found Mars at 17° 48’ Taurus, with a diurnal motion of 22’ 54” ^15. The designated moment preceded by 11h 48m, for which is required a motion of Mars of 11’ 7” eastward, so that it would be at 17° 59’ 7” Taurus. But it was projected eastward on account of parallax. Therefore, possibly using another observation on the meridian, they put down 17° 56’ 15” Taurus in the table.  \n",
       "207         On 1597 December 10 at 8h 30m, they first placed Mars at 3° 30’ Cancer, and again at 4° 1’ Cancer, the mean being 3° 45½’ Cancer ^16. The moment of opposition came 3 days 5h 5m later, to which, from Magini, corresponds 1° 15’ westward. Therefore, Mars would have been at 2° 30½’ Cancer. In the table, it was put at 2° 28’. The reason for the rough measurement, carried out with a measuring staff, is clear from the date. Tycho had left the island, leaving all  instruments but the staff behind. Nevertheless, he did not wish to ignore this opposition completely. But I wish he had still remained on the island, for this opposition was a marvelous opportunity, not often recurring within a man’s lifetime, for examining Mars’s parallax.  \n",
       "218                                                                                                                                                                                                                                                                                                                                                                                                                                                                   Hence, Mars is at 10° 38’ 46” Leo, at an adjusted time of 11h 40m reduced to the meridian of Uraniborg. But on January 24/February 3 at the same time it was at 6° 18’ Leo. This gives a diurnal motion of 23’ 44”, and a position on January 19/29 at 9h 40m of 8° 18’ 45” Leo, just as they put it.  "
      ]
     },
     "execution_count": 27,
     "metadata": {},
     "output_type": "execute_result"
    }
   ],
   "source": [
    "X_Obs.head(10)\n"
   ]
  },
  {
   "cell_type": "code",
   "execution_count": 28,
   "metadata": {},
   "outputs": [],
   "source": [
    "Y_Obs=df.loc[df.Label==1]\n",
    "Y_Obs=Y_Obs.Label\n",
    "Y_Obs=list(Y_Obs)\n",
    "NumberObs=len(Y_Obs)"
   ]
  },
  {
   "cell_type": "markdown",
   "metadata": {},
   "source": [
    "# Non-observational sentences  in the pragraph"
   ]
  },
  {
   "cell_type": "code",
   "execution_count": 29,
   "metadata": {},
   "outputs": [],
   "source": [
    "X_NObs=df.loc[df.Label==0]\n",
    "X_NObs=X_NObs[[\"Sentence\",\"Paragraph\"]]"
   ]
  },
  {
   "cell_type": "code",
   "execution_count": 30,
   "metadata": {},
   "outputs": [
    {
     "data": {
      "text/html": [
       "<div>\n",
       "<style scoped>\n",
       "    .dataframe tbody tr th:only-of-type {\n",
       "        vertical-align: middle;\n",
       "    }\n",
       "\n",
       "    .dataframe tbody tr th {\n",
       "        vertical-align: top;\n",
       "    }\n",
       "\n",
       "    .dataframe thead th {\n",
       "        text-align: right;\n",
       "    }\n",
       "</style>\n",
       "<table border=\"1\" class=\"dataframe\">\n",
       "  <thead>\n",
       "    <tr style=\"text-align: right;\">\n",
       "      <th></th>\n",
       "      <th>Sentence</th>\n",
       "      <th>Paragraph</th>\n",
       "    </tr>\n",
       "  </thead>\n",
       "  <tbody>\n",
       "    <tr>\n",
       "      <td>0</td>\n",
       "      <td>Chapter 7</td>\n",
       "      <td>Chapter 7</td>\n",
       "    </tr>\n",
       "    <tr>\n",
       "      <td>1</td>\n",
       "      <td>The circumstances under which I happened upon the theory of Mars.</td>\n",
       "      <td>The circumstances under which I happened upon the theory of Mars.</td>\n",
       "    </tr>\n",
       "    <tr>\n",
       "      <td>2</td>\n",
       "      <td>It is true that a divine voice, which enjoins humans to study astronomy, is expressed in the world itself, not in words or syllables, but in things themselves and in the conformity of the human intellect and senses with the sequence of celestial bodies and of their dispositions.</td>\n",
       "      <td>It is true that a divine voice, which enjoins humans to study astronomy, is expressed in the world itself, not in words or syllables, but in things themselves and in the conformity of the human intellect and senses with the sequence of celestial bodies and of their dispositions. Nevertheless, a kind of fate also invisibly drives different individuals to take up different arts, and makes them certain that, just as they are a part of the work of creation, they likewise also partake to some extent in divine providence.</td>\n",
       "    </tr>\n",
       "    <tr>\n",
       "      <td>3</td>\n",
       "      <td>Nevertheless, a kind of fate also invisibly drives different individuals to take up different arts, and makes them certain that, just as they are a part of the work of creation, they likewise also partake to some extent in divine providence.</td>\n",
       "      <td>It is true that a divine voice, which enjoins humans to study astronomy, is expressed in the world itself, not in words or syllables, but in things themselves and in the conformity of the human intellect and senses with the sequence of celestial bodies and of their dispositions. Nevertheless, a kind of fate also invisibly drives different individuals to take up different arts, and makes them certain that, just as they are a part of the work of creation, they likewise also partake to some extent in divine providence.</td>\n",
       "    </tr>\n",
       "    <tr>\n",
       "      <td>4</td>\n",
       "      <td>When, in my early years, I was able to taste the sweetness of philosophy, I embraced the whole of it with an overwhelming desire, and with practically no special concern about astronomy.</td>\n",
       "      <td>When, in my early years, I was able to taste the sweetness of philosophy, I embraced the whole of it with an overwhelming desire, and with practically no special concern about astronomy. I certainly had enough intelligence, nor did I have any difficulty understanding the geometrical and astronomical topics included in the normal curriculum, aided as I was by figures, numbers, and proportions. These were, however, required courses, nothing that would bespeak an exceptional inclination towards astronomy. And since I was supported at the expense of the Duke of Württemberg, and saw my comrades, whom the Prince, upon request, kept trying to send to foreign countries, stalling in various ways out of love for their country, I, being hardier, quite maturely agreed with myself that whithersoever I was destined I would promptly go.</td>\n",
       "    </tr>\n",
       "    <tr>\n",
       "      <td>5</td>\n",
       "      <td>I certainly had enough intelligence, nor did I have any difficulty understanding the geometrical and astronomical topics included in the normal curriculum, aided as I was by figures, numbers, and proportions.</td>\n",
       "      <td>When, in my early years, I was able to taste the sweetness of philosophy, I embraced the whole of it with an overwhelming desire, and with practically no special concern about astronomy. I certainly had enough intelligence, nor did I have any difficulty understanding the geometrical and astronomical topics included in the normal curriculum, aided as I was by figures, numbers, and proportions. These were, however, required courses, nothing that would bespeak an exceptional inclination towards astronomy. And since I was supported at the expense of the Duke of Württemberg, and saw my comrades, whom the Prince, upon request, kept trying to send to foreign countries, stalling in various ways out of love for their country, I, being hardier, quite maturely agreed with myself that whithersoever I was destined I would promptly go.</td>\n",
       "    </tr>\n",
       "    <tr>\n",
       "      <td>6</td>\n",
       "      <td>These were, however, required courses, nothing that would bespeak an exceptional inclination towards astronomy.</td>\n",
       "      <td>When, in my early years, I was able to taste the sweetness of philosophy, I embraced the whole of it with an overwhelming desire, and with practically no special concern about astronomy. I certainly had enough intelligence, nor did I have any difficulty understanding the geometrical and astronomical topics included in the normal curriculum, aided as I was by figures, numbers, and proportions. These were, however, required courses, nothing that would bespeak an exceptional inclination towards astronomy. And since I was supported at the expense of the Duke of Württemberg, and saw my comrades, whom the Prince, upon request, kept trying to send to foreign countries, stalling in various ways out of love for their country, I, being hardier, quite maturely agreed with myself that whithersoever I was destined I would promptly go.</td>\n",
       "    </tr>\n",
       "    <tr>\n",
       "      <td>7</td>\n",
       "      <td>And since I was supported at the expense of the Duke of Württemberg, and saw my comrades, whom the Prince, upon request, kept trying to send to foreign countries, stalling in various ways out of love for their country, I, being hardier, quite maturely agreed with myself that whithersoever I was destined I would promptly go.</td>\n",
       "      <td>When, in my early years, I was able to taste the sweetness of philosophy, I embraced the whole of it with an overwhelming desire, and with practically no special concern about astronomy. I certainly had enough intelligence, nor did I have any difficulty understanding the geometrical and astronomical topics included in the normal curriculum, aided as I was by figures, numbers, and proportions. These were, however, required courses, nothing that would bespeak an exceptional inclination towards astronomy. And since I was supported at the expense of the Duke of Württemberg, and saw my comrades, whom the Prince, upon request, kept trying to send to foreign countries, stalling in various ways out of love for their country, I, being hardier, quite maturely agreed with myself that whithersoever I was destined I would promptly go.</td>\n",
       "    </tr>\n",
       "    <tr>\n",
       "      <td>8</td>\n",
       "      <td>The first to offer itself was an astronomical position; however, to tell the truth, I was driven forth to take it by the authority of my teachers.</td>\n",
       "      <td>The first to offer itself was an astronomical position; however, to tell the truth, I was driven forth to take it by the authority of my teachers. I was not frightened by the distance of the place, for (as I have just said) I had condemned this fear in others, but by the low opinion and contempt in which this kind of function is held, and the sparsity of erudition in this part of philosophy. I therefore entered upon this better furnished with wits than with knowledge, protesting loudly that I by no means gave over my right to follow another kind of life which seemed more splendid ^1. What came of those first two years of study may be seen in my Mysterium cosmographicum. The additional goads which my teacher Maestlin gave me towards embracing the rest of astronomy, you will read of in the same book, and in that man’s prefatory letter to Rheticus’s Narratio ^2. I had the very highest opinion of what I discovered there, and all the more so when I saw that Maestlin, too, held it in sim...</td>\n",
       "    </tr>\n",
       "    <tr>\n",
       "      <td>9</td>\n",
       "      <td>I was not frightened by the distance of the place, for (as I have just said) I had condemned this fear in others, but by the low opinion and contempt in which this kind of function is held, and the sparsity of erudition in this part of philosophy.</td>\n",
       "      <td>The first to offer itself was an astronomical position; however, to tell the truth, I was driven forth to take it by the authority of my teachers. I was not frightened by the distance of the place, for (as I have just said) I had condemned this fear in others, but by the low opinion and contempt in which this kind of function is held, and the sparsity of erudition in this part of philosophy. I therefore entered upon this better furnished with wits than with knowledge, protesting loudly that I by no means gave over my right to follow another kind of life which seemed more splendid ^1. What came of those first two years of study may be seen in my Mysterium cosmographicum. The additional goads which my teacher Maestlin gave me towards embracing the rest of astronomy, you will read of in the same book, and in that man’s prefatory letter to Rheticus’s Narratio ^2. I had the very highest opinion of what I discovered there, and all the more so when I saw that Maestlin, too, held it in sim...</td>\n",
       "    </tr>\n",
       "  </tbody>\n",
       "</table>\n",
       "</div>"
      ],
      "text/plain": [
       "                                                                                                                                                                                                                                                                                                                                Sentence  \\\n",
       "0                                                                                                                                                                                                                                                                                                                              Chapter 7   \n",
       "1                                                                                                                                                                                                                                                                      The circumstances under which I happened upon the theory of Mars.   \n",
       "2                                                It is true that a divine voice, which enjoins humans to study astronomy, is expressed in the world itself, not in words or syllables, but in things themselves and in the conformity of the human intellect and senses with the sequence of celestial bodies and of their dispositions.   \n",
       "3                                                                                      Nevertheless, a kind of fate also invisibly drives different individuals to take up different arts, and makes them certain that, just as they are a part of the work of creation, they likewise also partake to some extent in divine providence.   \n",
       "4                                                                                                                                             When, in my early years, I was able to taste the sweetness of philosophy, I embraced the whole of it with an overwhelming desire, and with practically no special concern about astronomy.   \n",
       "5                                                                                                                       I certainly had enough intelligence, nor did I have any difficulty understanding the geometrical and astronomical topics included in the normal curriculum, aided as I was by figures, numbers, and proportions.   \n",
       "6                                                                                                                                                                                                                        These were, however, required courses, nothing that would bespeak an exceptional inclination towards astronomy.   \n",
       "7  And since I was supported at the expense of the Duke of Württemberg, and saw my comrades, whom the Prince, upon request, kept trying to send to foreign countries, stalling in various ways out of love for their country, I, being hardier, quite maturely agreed with myself that whithersoever I was destined I would promptly go.   \n",
       "8                                                                                                                                                                                     The first to offer itself was an astronomical position; however, to tell the truth, I was driven forth to take it by the authority of my teachers.   \n",
       "9                                                                                I was not frightened by the distance of the place, for (as I have just said) I had condemned this fear in others, but by the low opinion and contempt in which this kind of function is held, and the sparsity of erudition in this part of philosophy.   \n",
       "\n",
       "                                                                                                                                                                                                                                                                                                                                                                                                                                                                                                                                                                                                                                                                                                                                                                                                                                                                                                                                                                                                                                 Paragraph  \n",
       "0                                                                                                                                                                                                                                                                                                                                                                                                                                                                                                                                                                                                                                                                                                                                                                                                                                                                                                                                                                                                                               Chapter 7   \n",
       "1                                                                                                                                                                                                                                                                                                                                                                                                                                                                                                                                                                                                                                                                                                                                                                                                                                                                                                                                                                        The circumstances under which I happened upon the theory of Mars.  \n",
       "2                                                                                                                                                                                                                                                                                                                                                                                                                                                                                                It is true that a divine voice, which enjoins humans to study astronomy, is expressed in the world itself, not in words or syllables, but in things themselves and in the conformity of the human intellect and senses with the sequence of celestial bodies and of their dispositions. Nevertheless, a kind of fate also invisibly drives different individuals to take up different arts, and makes them certain that, just as they are a part of the work of creation, they likewise also partake to some extent in divine providence.  \n",
       "3                                                                                                                                                                                                                                                                                                                                                                                                                                                                                                It is true that a divine voice, which enjoins humans to study astronomy, is expressed in the world itself, not in words or syllables, but in things themselves and in the conformity of the human intellect and senses with the sequence of celestial bodies and of their dispositions. Nevertheless, a kind of fate also invisibly drives different individuals to take up different arts, and makes them certain that, just as they are a part of the work of creation, they likewise also partake to some extent in divine providence.  \n",
       "4                                                                                                                                                                        When, in my early years, I was able to taste the sweetness of philosophy, I embraced the whole of it with an overwhelming desire, and with practically no special concern about astronomy. I certainly had enough intelligence, nor did I have any difficulty understanding the geometrical and astronomical topics included in the normal curriculum, aided as I was by figures, numbers, and proportions. These were, however, required courses, nothing that would bespeak an exceptional inclination towards astronomy. And since I was supported at the expense of the Duke of Württemberg, and saw my comrades, whom the Prince, upon request, kept trying to send to foreign countries, stalling in various ways out of love for their country, I, being hardier, quite maturely agreed with myself that whithersoever I was destined I would promptly go.  \n",
       "5                                                                                                                                                                        When, in my early years, I was able to taste the sweetness of philosophy, I embraced the whole of it with an overwhelming desire, and with practically no special concern about astronomy. I certainly had enough intelligence, nor did I have any difficulty understanding the geometrical and astronomical topics included in the normal curriculum, aided as I was by figures, numbers, and proportions. These were, however, required courses, nothing that would bespeak an exceptional inclination towards astronomy. And since I was supported at the expense of the Duke of Württemberg, and saw my comrades, whom the Prince, upon request, kept trying to send to foreign countries, stalling in various ways out of love for their country, I, being hardier, quite maturely agreed with myself that whithersoever I was destined I would promptly go.  \n",
       "6                                                                                                                                                                        When, in my early years, I was able to taste the sweetness of philosophy, I embraced the whole of it with an overwhelming desire, and with practically no special concern about astronomy. I certainly had enough intelligence, nor did I have any difficulty understanding the geometrical and astronomical topics included in the normal curriculum, aided as I was by figures, numbers, and proportions. These were, however, required courses, nothing that would bespeak an exceptional inclination towards astronomy. And since I was supported at the expense of the Duke of Württemberg, and saw my comrades, whom the Prince, upon request, kept trying to send to foreign countries, stalling in various ways out of love for their country, I, being hardier, quite maturely agreed with myself that whithersoever I was destined I would promptly go.  \n",
       "7                                                                                                                                                                        When, in my early years, I was able to taste the sweetness of philosophy, I embraced the whole of it with an overwhelming desire, and with practically no special concern about astronomy. I certainly had enough intelligence, nor did I have any difficulty understanding the geometrical and astronomical topics included in the normal curriculum, aided as I was by figures, numbers, and proportions. These were, however, required courses, nothing that would bespeak an exceptional inclination towards astronomy. And since I was supported at the expense of the Duke of Württemberg, and saw my comrades, whom the Prince, upon request, kept trying to send to foreign countries, stalling in various ways out of love for their country, I, being hardier, quite maturely agreed with myself that whithersoever I was destined I would promptly go.  \n",
       "8  The first to offer itself was an astronomical position; however, to tell the truth, I was driven forth to take it by the authority of my teachers. I was not frightened by the distance of the place, for (as I have just said) I had condemned this fear in others, but by the low opinion and contempt in which this kind of function is held, and the sparsity of erudition in this part of philosophy. I therefore entered upon this better furnished with wits than with knowledge, protesting loudly that I by no means gave over my right to follow another kind of life which seemed more splendid ^1. What came of those first two years of study may be seen in my Mysterium cosmographicum. The additional goads which my teacher Maestlin gave me towards embracing the rest of astronomy, you will read of in the same book, and in that man’s prefatory letter to Rheticus’s Narratio ^2. I had the very highest opinion of what I discovered there, and all the more so when I saw that Maestlin, too, held it in sim...  \n",
       "9  The first to offer itself was an astronomical position; however, to tell the truth, I was driven forth to take it by the authority of my teachers. I was not frightened by the distance of the place, for (as I have just said) I had condemned this fear in others, but by the low opinion and contempt in which this kind of function is held, and the sparsity of erudition in this part of philosophy. I therefore entered upon this better furnished with wits than with knowledge, protesting loudly that I by no means gave over my right to follow another kind of life which seemed more splendid ^1. What came of those first two years of study may be seen in my Mysterium cosmographicum. The additional goads which my teacher Maestlin gave me towards embracing the rest of astronomy, you will read of in the same book, and in that man’s prefatory letter to Rheticus’s Narratio ^2. I had the very highest opinion of what I discovered there, and all the more so when I saw that Maestlin, too, held it in sim...  "
      ]
     },
     "execution_count": 30,
     "metadata": {},
     "output_type": "execute_result"
    }
   ],
   "source": [
    "X_NObs.head(10)"
   ]
  },
  {
   "cell_type": "code",
   "execution_count": 31,
   "metadata": {},
   "outputs": [],
   "source": [
    "Y_NObs=df.loc[df.Label==0]\n",
    "Y_NObs=Y_NObs.Label\n",
    "Y_NObs=list(Y_NObs)"
   ]
  },
  {
   "cell_type": "code",
   "execution_count": 32,
   "metadata": {},
   "outputs": [],
   "source": [
    "x_obs = X_Obs.loc[0:, 'Sentence'].values\n",
    "x_nobs = X_NObs.loc[0:36, 'Sentence'].values\n"
   ]
  },
  {
   "cell_type": "code",
   "execution_count": 33,
   "metadata": {},
   "outputs": [
    {
     "data": {
      "text/plain": [
       "37"
      ]
     },
     "execution_count": 33,
     "metadata": {},
     "output_type": "execute_result"
    }
   ],
   "source": [
    "len(x_obs)"
   ]
  },
  {
   "cell_type": "code",
   "execution_count": 34,
   "metadata": {},
   "outputs": [
    {
     "data": {
      "text/plain": [
       "37"
      ]
     },
     "execution_count": 34,
     "metadata": {},
     "output_type": "execute_result"
    }
   ],
   "source": [
    "len(x_nobs)"
   ]
  },
  {
   "cell_type": "code",
   "execution_count": 35,
   "metadata": {},
   "outputs": [
    {
     "data": {
      "text/plain": [
       "37"
      ]
     },
     "execution_count": 35,
     "metadata": {},
     "output_type": "execute_result"
    }
   ],
   "source": [
    "number_of_samples = len(Y_Obs)\n",
    "Y_NObs=random.sample(Y_NObs,NumberObs);\n",
    "len(Y_NObs)"
   ]
  },
  {
   "cell_type": "code",
   "execution_count": 36,
   "metadata": {},
   "outputs": [],
   "source": [
    "y=Y_NObs+Y_Obs"
   ]
  },
  {
   "cell_type": "code",
   "execution_count": 37,
   "metadata": {},
   "outputs": [],
   "source": [
    "X1=x_nobs.tolist()"
   ]
  },
  {
   "cell_type": "code",
   "execution_count": 38,
   "metadata": {},
   "outputs": [
    {
     "data": {
      "text/plain": [
       "37"
      ]
     },
     "execution_count": 38,
     "metadata": {},
     "output_type": "execute_result"
    }
   ],
   "source": [
    "len(X1)"
   ]
  },
  {
   "cell_type": "code",
   "execution_count": 39,
   "metadata": {},
   "outputs": [],
   "source": [
    "X2=x_obs.tolist()"
   ]
  },
  {
   "cell_type": "code",
   "execution_count": 40,
   "metadata": {},
   "outputs": [],
   "source": [
    "X=X1+X2"
   ]
  },
  {
   "cell_type": "code",
   "execution_count": 41,
   "metadata": {},
   "outputs": [
    {
     "data": {
      "text/plain": [
       "74"
      ]
     },
     "execution_count": 41,
     "metadata": {},
     "output_type": "execute_result"
    }
   ],
   "source": [
    "len(X)"
   ]
  },
  {
   "cell_type": "code",
   "execution_count": 42,
   "metadata": {},
   "outputs": [
    {
     "data": {
      "text/plain": [
       "74"
      ]
     },
     "execution_count": 42,
     "metadata": {},
     "output_type": "execute_result"
    }
   ],
   "source": [
    "len(y)"
   ]
  },
  {
   "cell_type": "markdown",
   "metadata": {},
   "source": [
    "# Distribution of Samples  after downsampling"
   ]
  },
  {
   "cell_type": "code",
   "execution_count": 43,
   "metadata": {},
   "outputs": [],
   "source": [
    "category=Counter(y)\n",
    "count=dict(category)"
   ]
  },
  {
   "cell_type": "code",
   "execution_count": 44,
   "metadata": {},
   "outputs": [
    {
     "data": {
      "text/plain": [
       "Text(0.5, 1.0, 'Distribution of samples over different classes')"
      ]
     },
     "execution_count": 44,
     "metadata": {},
     "output_type": "execute_result"
    },
    {
     "data": {
      "image/png": "[encoded data removed]",
      "text/plain": [
       "<Figure size 432x288 with 1 Axes>"
      ]
     },
     "metadata": {
      "needs_background": "light"
     },
     "output_type": "display_data"
    }
   ],
   "source": [
    "plt.bar(list(count.keys()),count.values(),color=\"r\",width=.4,tick_label=[\"1\",\"0\"])\n",
    "plt.title(\"Distribution of samples over different classes\")"
   ]
  },
  {
   "cell_type": "code",
   "execution_count": 45,
   "metadata": {},
   "outputs": [],
   "source": [
    "X,y = shuffle(X, y, random_state=42)\n",
    "X_train, X_test, y_train, y_test = train_test_split(\n",
    "X,y, test_size=0.10, random_state=42)  "
   ]
  },
  {
   "cell_type": "markdown",
   "metadata": {},
   "source": [
    "# 1- Random Forest"
   ]
  },
  {
   "cell_type": "code",
   "execution_count": 46,
   "metadata": {},
   "outputs": [
    {
     "data": {
      "text/plain": [
       "Pipeline(memory=None,\n",
       "         steps=[('vect',\n",
       "                 TfidfVectorizer(analyzer='word', binary=False,\n",
       "                                 decode_error='strict',\n",
       "                                 dtype=<class 'numpy.float64'>,\n",
       "                                 encoding='utf-8', input='content',\n",
       "                                 lowercase=True, max_df=1.0, max_features=None,\n",
       "                                 min_df=1, ngram_range=(1, 1), norm='l2',\n",
       "                                 preprocessor=None, smooth_idf=True,\n",
       "                                 stop_words=None, strip_accents=None,\n",
       "                                 sublinear_tf=False,\n",
       "                                 token_pattern='(...\n",
       "                 RandomForestClassifier(bootstrap=True, class_weight=None,\n",
       "                                        criterion='gini', max_depth=None,\n",
       "                                        max_features='auto',\n",
       "                                        max_leaf_nodes=None,\n",
       "                                        min_impurity_decrease=0.0,\n",
       "                                        min_impurity_split=None,\n",
       "                                        min_samples_leaf=1, min_samples_split=2,\n",
       "                                        min_weight_fraction_leaf=0.0,\n",
       "                                        n_estimators=10, n_jobs=None,\n",
       "                                        oob_score=False, random_state=None,\n",
       "                                        verbose=0, warm_start=False))],\n",
       "         verbose=False)"
      ]
     },
     "execution_count": 46,
     "metadata": {},
     "output_type": "execute_result"
    }
   ],
   "source": [
    "from sklearn.ensemble import RandomForestClassifier\n",
    "RF=RandomForestClassifier()\n",
    "trial_06=Pipeline([(\"vect\",vec),(\"clf\",RF)])\n",
    "trial_06.fit(X_train,y_train)"
   ]
  },
  {
   "cell_type": "code",
   "execution_count": 47,
   "metadata": {},
   "outputs": [
    {
     "name": "stdout",
     "output_type": "stream",
     "text": [
      "[0.875 1.    1.    1.    1.    1.    1.    1.    1.    1.   ]\n",
      "Accuracy of : 0.988 ± 0.075\n"
     ]
    }
   ],
   "source": [
    "cross_validation_accuracy(trial_06,X,y,cv=10)"
   ]
  },
  {
   "cell_type": "code",
   "execution_count": 48,
   "metadata": {},
   "outputs": [
    {
     "name": "stdout",
     "output_type": "stream",
     "text": [
      "              precision    recall  f1-score   support\n",
      "\n",
      "           0       0.95      0.97      0.96        37\n",
      "           1       0.97      0.95      0.96        37\n",
      "\n",
      "    accuracy                           0.96        74\n",
      "   macro avg       0.96      0.96      0.96        74\n",
      "weighted avg       0.96      0.96      0.96        74\n",
      "\n"
     ]
    }
   ],
   "source": [
    "y_pred = cross_val_predict(trial_06, X, y, cv=10)\n",
    "\n",
    "cr=classification_report(y,y_pred)\n",
    "print(cr)\n",
    "cm = confusion_matrix(y_pred,y)"
   ]
  },
  {
   "cell_type": "code",
   "execution_count": 49,
   "metadata": {},
   "outputs": [
    {
     "name": "stdout",
     "output_type": "stream",
     "text": [
      "[[36  2]\n",
      " [ 1 35]]\n"
     ]
    }
   ],
   "source": [
    "print(cm)"
   ]
  },
  {
   "cell_type": "code",
   "execution_count": 50,
   "metadata": {},
   "outputs": [
    {
     "data": {
      "image/png": "[encoded data removed]",
      "text/plain": [
       "<Figure size 432x288 with 2 Axes>"
      ]
     },
     "metadata": {
      "needs_background": "light"
     },
     "output_type": "display_data"
    }
   ],
   "source": [
    "Colorful_Confusion_Matrix(y=y,y_test=y,y_pred=y_pred)"
   ]
  },
  {
   "cell_type": "code",
   "execution_count": 51,
   "metadata": {},
   "outputs": [],
   "source": [
    "precision, recall, thresholds = precision_recall_curve(y,y_pred)  \n",
    "auc_score = auc(recall, precision)\n"
   ]
  },
  {
   "cell_type": "code",
   "execution_count": 52,
   "metadata": {},
   "outputs": [
    {
     "data": {
      "image/png": "[encoded data removed]",
      "text/plain": [
       "<Figure size 432x288 with 1 Axes>"
      ]
     },
     "metadata": {
      "needs_background": "light"
     },
     "output_type": "display_data"
    },
    {
     "name": "stdout",
     "output_type": "stream",
     "text": [
      "AUC: 0.973\n"
     ]
    }
   ],
   "source": [
    "plot_pr(recall, precision)"
   ]
  },
  {
   "cell_type": "markdown",
   "metadata": {},
   "source": [
    "## 2-SGD"
   ]
  },
  {
   "cell_type": "code",
   "execution_count": 53,
   "metadata": {},
   "outputs": [
    {
     "data": {
      "text/plain": [
       "Pipeline(memory=None,\n",
       "         steps=[('vect',\n",
       "                 TfidfVectorizer(analyzer='word', binary=False,\n",
       "                                 decode_error='strict',\n",
       "                                 dtype=<class 'numpy.float64'>,\n",
       "                                 encoding='utf-8', input='content',\n",
       "                                 lowercase=True, max_df=1.0, max_features=None,\n",
       "                                 min_df=1, ngram_range=(1, 1), norm='l2',\n",
       "                                 preprocessor=None, smooth_idf=True,\n",
       "                                 stop_words=None, strip_accents=None,\n",
       "                                 sublinear_tf=False,\n",
       "                                 token_pattern='(...\n",
       "                 SGDClassifier(alpha=0.0001, average=False, class_weight=None,\n",
       "                               early_stopping=False, epsilon=0.1, eta0=0.0,\n",
       "                               fit_intercept=True, l1_ratio=0.15,\n",
       "                               learning_rate='optimal', loss='hinge',\n",
       "                               max_iter=1000, n_iter_no_change=5, n_jobs=None,\n",
       "                               penalty='l2', power_t=0.5, random_state=None,\n",
       "                               shuffle=True, tol=0.001, validation_fraction=0.1,\n",
       "                               verbose=0, warm_start=False))],\n",
       "         verbose=False)"
      ]
     },
     "execution_count": 53,
     "metadata": {},
     "output_type": "execute_result"
    }
   ],
   "source": [
    "trial_05.fit(X_train,y_train)"
   ]
  },
  {
   "cell_type": "code",
   "execution_count": 54,
   "metadata": {},
   "outputs": [],
   "source": [
    "y_pred=trial_05.predict(X_test)"
   ]
  },
  {
   "cell_type": "code",
   "execution_count": 55,
   "metadata": {},
   "outputs": [
    {
     "name": "stdout",
     "output_type": "stream",
     "text": [
      "[[4 0]\n",
      " [0 4]]\n",
      "              precision    recall  f1-score   support\n",
      "\n",
      "           0       1.00      1.00      1.00         4\n",
      "           1       1.00      1.00      1.00         4\n",
      "\n",
      "    accuracy                           1.00         8\n",
      "   macro avg       1.00      1.00      1.00         8\n",
      "weighted avg       1.00      1.00      1.00         8\n",
      "\n"
     ]
    }
   ],
   "source": [
    "cm=confusion_matrix(y_test,y_pred)\n",
    "print(cm)\n",
    "cr=classification_report(y_test,y_pred)\n",
    "print(cr)\n",
    "#Colorful_Confusion_Matrix(y, y_test, y_pred)\n"
   ]
  },
  {
   "cell_type": "code",
   "execution_count": 56,
   "metadata": {},
   "outputs": [
    {
     "name": "stdout",
     "output_type": "stream",
     "text": [
      "[1. 1. 1. 1. 1. 1. 1. 1. 1. 1.]\n",
      "Accuracy of : 1.000 ± 0.000\n"
     ]
    }
   ],
   "source": [
    "cross_validation_accuracy(trial_05,X,y,cv=10)"
   ]
  },
  {
   "cell_type": "code",
   "execution_count": 57,
   "metadata": {},
   "outputs": [
    {
     "name": "stdout",
     "output_type": "stream",
     "text": [
      "              precision    recall  f1-score   support\n",
      "\n",
      "           0       1.00      0.97      0.99        37\n",
      "           1       0.97      1.00      0.99        37\n",
      "\n",
      "    accuracy                           0.99        74\n",
      "   macro avg       0.99      0.99      0.99        74\n",
      "weighted avg       0.99      0.99      0.99        74\n",
      "\n",
      "[[36  0]\n",
      " [ 1 37]]\n"
     ]
    }
   ],
   "source": [
    "y_pred = cross_val_predict(trial_05, X, y, cv=10)\n",
    "\n",
    "cr=classification_report(y,y_pred)\n",
    "print(cr)\n",
    "cm = confusion_matrix(y_pred,y)\n",
    "print(cm)"
   ]
  },
  {
   "cell_type": "code",
   "execution_count": 58,
   "metadata": {},
   "outputs": [
    {
     "data": {
      "image/png": "[encoded data removed]",
      "text/plain": [
       "<Figure size 432x288 with 2 Axes>"
      ]
     },
     "metadata": {
      "needs_background": "light"
     },
     "output_type": "display_data"
    }
   ],
   "source": [
    "Colorful_Confusion_Matrix(y=y,y_test=y,y_pred=y_pred)"
   ]
  },
  {
   "cell_type": "code",
   "execution_count": 59,
   "metadata": {},
   "outputs": [],
   "source": [
    "precision, recall, thresholds = precision_recall_curve(y,y_pred)  \n",
    "auc_score = auc(recall, precision)\n"
   ]
  },
  {
   "cell_type": "code",
   "execution_count": 60,
   "metadata": {},
   "outputs": [
    {
     "data": {
      "image/png": "[encoded data removed]",
      "text/plain": [
       "<Figure size 432x288 with 1 Axes>"
      ]
     },
     "metadata": {
      "needs_background": "light"
     },
     "output_type": "display_data"
    },
    {
     "name": "stdout",
     "output_type": "stream",
     "text": [
      "AUC: 0.987\n"
     ]
    }
   ],
   "source": [
    "plot_pr(recall, precision)"
   ]
  },
  {
   "cell_type": "markdown",
   "metadata": {},
   "source": [
    "##  Save the down sampled model"
   ]
  },
  {
   "cell_type": "markdown",
   "metadata": {},
   "source": [
    "import pickle\n",
    "saved_model = pickle.dumps(trial_06)"
   ]
  },
  {
   "cell_type": "markdown",
   "metadata": {},
   "source": [
    "Pkl_Filename = \"Pickle_RF_RESAMPLED_Model_02.pkl\"  \n",
    "\n",
    "with open(Pkl_Filename, 'wb') as file:  \n",
    "    pickle.dump(trial_06, file)"
   ]
  },
  {
   "cell_type": "markdown",
   "metadata": {},
   "source": [
    "# Add visualisation for interpretation"
   ]
  },
  {
   "cell_type": "code",
   "execution_count": 66,
   "metadata": {},
   "outputs": [],
   "source": [
    "dfObs=df[df.Label==1]"
   ]
  },
  {
   "cell_type": "code",
   "execution_count": 67,
   "metadata": {},
   "outputs": [],
   "source": [
    "def ShowObs(a=1):\n",
    "    return dfObs.head(a)\n"
   ]
  },
  {
   "cell_type": "code",
   "execution_count": 68,
   "metadata": {},
   "outputs": [
    {
     "data": {
      "application/vnd.jupyter.widget-view+json": {
       "model_id": "daeac19fd3ec4c4890c5af38b220c950",
       "version_major": 2,
       "version_minor": 0
      },
      "text/plain": [
       "interactive(children=(IntSlider(value=1, description='a', max=50, min=1), Output()), _dom_classes=('widget-int…"
      ]
     },
     "metadata": {},
     "output_type": "display_data"
    }
   ],
   "source": [
    "interact(ShowObs, a=(1,50));"
   ]
  },
  {
   "cell_type": "code",
   "execution_count": null,
   "metadata": {},
   "outputs": [],
   "source": [
    "X_test\n"
   ]
  },
  {
   "cell_type": "code",
   "execution_count": null,
   "metadata": {},
   "outputs": [],
   "source": [
    "from lime.lime_text import LimeTextExplainer\n",
    "#class_names = ['Observation', 'Not-Observation']\n",
    "explainer = LimeTextExplainer()\n",
    "idx = 83\n",
    "exp = explainer.explain_instance(X_test[6], trial_06.predict_proba, num_features=20)"
   ]
  },
  {
   "cell_type": "code",
   "execution_count": null,
   "metadata": {},
   "outputs": [],
   "source": [
    "%matplotlib inline\n",
    "fig = exp.as_pyplot_figure()"
   ]
  },
  {
   "cell_type": "code",
   "execution_count": null,
   "metadata": {},
   "outputs": [],
   "source": []
  }
 ],
 "metadata": {
  "kernelspec": {
   "display_name": "Python 3",
   "language": "python",
   "name": "python3"
  },
  "language_info": {
   "codemirror_mode": {
    "name": "ipython",
    "version": 3
   },
   "file_extension": ".py",
   "mimetype": "text/x-python",
   "name": "python",
   "nbconvert_exporter": "python",
   "pygments_lexer": "ipython3",
   "version": "3.7.4"
  }
 },
 "nbformat": 4,
 "nbformat_minor": 4
}
