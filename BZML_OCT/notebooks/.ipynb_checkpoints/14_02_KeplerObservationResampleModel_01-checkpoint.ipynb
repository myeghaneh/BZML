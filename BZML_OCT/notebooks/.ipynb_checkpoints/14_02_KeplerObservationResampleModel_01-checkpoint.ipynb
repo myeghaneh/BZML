{
 "cells": [
  {
   "cell_type": "markdown",
   "metadata": {},
   "source": [
    "## Automatic extraction and classification of observational sentences in \"Astronomia nova\" \n",
    " Gerd Graßhoff$^{(1,2)}$, Mohammad Yeghaneh$^{(2)}$\n",
    "\n",
    "1: Max-Planck-Institute for the History of Science, Berlin\n",
    "\n",
    "2: Humboldt University, Berlin\n",
    "\n",
    "Date: November 2019"
   ]
  },
  {
   "cell_type": "markdown",
   "metadata": {},
   "source": [
    "Kepler's \"New Astronomy (Astronomia Nova)\" was completed and published in Linz in 1609. Buried deep in this, at times very mystical book, is Kepler's first formulation of his first and second Laws of planetary motion, which in modern parlance can be stated as follows:\n",
    "Planetary orbits are ellipses, with the Sun located at one focus;\n",
    "Planets move along their elliptical orbit with a speed such that a line segment joining the planet to the Sun sweeps equal surface areas in equal time intervals.\n",
    "\n",
    "At the same time he reconceptualized \"oppositions\" as based upon the observed, rather than \"average,\" position of the Sun, Kepler analyzed Brahe's individual **observations** of Mars for potential errors of various other kinds. here \n",
    "\n",
    "- we extract explicit observational sentences using custom NER model\n",
    "- we provide a model to classify explicit observational sentences using  machine learning #ref,edit"
   ]
  },
  {
   "cell_type": "code",
   "execution_count": 8,
   "metadata": {},
   "outputs": [
    {
     "name": "stdout",
     "output_type": "stream",
     "text": [
      "The autoreload extension is already loaded. To reload it, use:\n",
      "  %reload_ext autoreload\n"
     ]
    }
   ],
   "source": [
    "import pandas as pd\n",
    "import numpy as np\n",
    "%load_ext autoreload\n",
    "%autoreload 2\n",
    "import utility_01\n",
    "from utility_01 import *\n",
    "from sklearn.metrics import roc_curve ,roc_auc_score ,precision_recall_curve,auc,confusion_matrix,classification_report\n",
    "from warnings import filterwarnings\n",
    "filterwarnings('ignore')\n",
    "import matplotlib.pyplot as plt\n",
    "import random \n",
    "\n"
   ]
  },
  {
   "cell_type": "code",
   "execution_count": 9,
   "metadata": {},
   "outputs": [],
   "source": [
    "options = {\"compact\": True, \"bg\": \"#09a3d5\",\n",
    "           \"color\": \"white\", \"font\": \"Source Sans Pro\",\"collapse_phrases\":False}"
   ]
  },
  {
   "cell_type": "code",
   "execution_count": 10,
   "metadata": {},
   "outputs": [],
   "source": [
    "pd.set_option('display.max_colwidth', -1)\n",
    "pd.set_option('max_colwidth', 1000)\n"
   ]
  },
  {
   "cell_type": "markdown",
   "metadata": {},
   "source": [
    "## Resources"
   ]
  },
  {
   "cell_type": "markdown",
   "metadata": {},
   "source": [
    "### Import resources"
   ]
  },
  {
   "cell_type": "code",
   "execution_count": 11,
   "metadata": {},
   "outputs": [],
   "source": [
    "df=pd.read_json('../data/dfObsV04A02.json');\n",
    "df=df.sort_index();\n"
   ]
  },
  {
   "cell_type": "markdown",
   "metadata": {},
   "source": [
    "Sample of the first sentences of the book in the dataframe format "
   ]
  },
  {
   "cell_type": "code",
   "execution_count": 12,
   "metadata": {},
   "outputs": [
    {
     "data": {
      "text/html": [
       "<div>\n",
       "<style scoped>\n",
       "    .dataframe tbody tr th:only-of-type {\n",
       "        vertical-align: middle;\n",
       "    }\n",
       "\n",
       "    .dataframe tbody tr th {\n",
       "        vertical-align: top;\n",
       "    }\n",
       "\n",
       "    .dataframe thead th {\n",
       "        text-align: right;\n",
       "    }\n",
       "</style>\n",
       "<table border=\"1\" class=\"dataframe\">\n",
       "  <thead>\n",
       "    <tr style=\"text-align: right;\">\n",
       "      <th></th>\n",
       "      <th>Sentence</th>\n",
       "      <th>Chapter</th>\n",
       "      <th>Paragraph</th>\n",
       "      <th>ParaIndex</th>\n",
       "      <th>ASO</th>\n",
       "      <th>Entities</th>\n",
       "      <th>FNER</th>\n",
       "      <th>Label</th>\n",
       "    </tr>\n",
       "  </thead>\n",
       "  <tbody>\n",
       "    <tr>\n",
       "      <td>0</td>\n",
       "      <td>Chapter 1</td>\n",
       "      <td>1</td>\n",
       "      <td>Chapter 1</td>\n",
       "      <td>0</td>\n",
       "      <td>{'act': 'Chapter'}</td>\n",
       "      <td>[]</td>\n",
       "      <td>[0, 0, 0]</td>\n",
       "      <td>0</td>\n",
       "    </tr>\n",
       "    <tr>\n",
       "      <td>1</td>\n",
       "      <td>On the distinction between the first motion and the second or proper motions; and in the proper motions, between the first and the second inequality.</td>\n",
       "      <td>1</td>\n",
       "      <td>On the distinction between the first motion and the second or proper motions; and in the proper motions, between the first and the second inequality.</td>\n",
       "      <td>1</td>\n",
       "      <td>{'act': 'On'}</td>\n",
       "      <td>[]</td>\n",
       "      <td>[0, 0, 0]</td>\n",
       "      <td>0</td>\n",
       "    </tr>\n",
       "    <tr>\n",
       "      <td>2</td>\n",
       "      <td>The testimony of the ages confirms that the motions of the planets are orbicular.</td>\n",
       "      <td>1</td>\n",
       "      <td>The testimony of the ages confirms that the motions of the planets are orbicular.  Reason, having borrowed from experience, immediately presumes this: that their gyrations are perfect circles. For among figures it is circles, and among bodies the heavens, that are considered the most perfect. However, when experience seems to teach something different to those who pay careful attention, namely, that the planets deviate from a simple circular path, it gives rise to a powerful sense of wonder, which at length drives people to look into causes.</td>\n",
       "      <td>2</td>\n",
       "      <td>{'act': 'confirms', 'subject': 'testimony'}</td>\n",
       "      <td>[]</td>\n",
       "      <td>[0, 0, 0]</td>\n",
       "      <td>0</td>\n",
       "    </tr>\n",
       "    <tr>\n",
       "      <td>3</td>\n",
       "      <td>Reason, having borrowed from experience, immediately presumes this: that their gyrations are perfect circles.</td>\n",
       "      <td>1</td>\n",
       "      <td>The testimony of the ages confirms that the motions of the planets are orbicular.  Reason, having borrowed from experience, immediately presumes this: that their gyrations are perfect circles. For among figures it is circles, and among bodies the heavens, that are considered the most perfect. However, when experience seems to teach something different to those who pay careful attention, namely, that the planets deviate from a simple circular path, it gives rise to a powerful sense of wonder, which at length drives people to look into causes.</td>\n",
       "      <td>2</td>\n",
       "      <td>{'act': 'presumes', 'subject': 'reason', 'obj': 'this: that their gyrations are perfect circles'}</td>\n",
       "      <td>[]</td>\n",
       "      <td>[0, 0, 0]</td>\n",
       "      <td>0</td>\n",
       "    </tr>\n",
       "    <tr>\n",
       "      <td>4</td>\n",
       "      <td>For among figures it is circles, and among bodies the heavens, that are considered the most perfect.</td>\n",
       "      <td>1</td>\n",
       "      <td>The testimony of the ages confirms that the motions of the planets are orbicular.  Reason, having borrowed from experience, immediately presumes this: that their gyrations are perfect circles. For among figures it is circles, and among bodies the heavens, that are considered the most perfect. However, when experience seems to teach something different to those who pay careful attention, namely, that the planets deviate from a simple circular path, it gives rise to a powerful sense of wonder, which at length drives people to look into causes.</td>\n",
       "      <td>2</td>\n",
       "      <td>{'act': 'considered'}</td>\n",
       "      <td>[]</td>\n",
       "      <td>[0, 0, 0]</td>\n",
       "      <td>0</td>\n",
       "    </tr>\n",
       "  </tbody>\n",
       "</table>\n",
       "</div>"
      ],
      "text/plain": [
       "                                                                                                                                                Sentence  \\\n",
       "0                                                                                                                                              Chapter 1   \n",
       "1  On the distinction between the first motion and the second or proper motions; and in the proper motions, between the first and the second inequality.   \n",
       "2                                                                      The testimony of the ages confirms that the motions of the planets are orbicular.   \n",
       "3                                          Reason, having borrowed from experience, immediately presumes this: that their gyrations are perfect circles.   \n",
       "4                                                   For among figures it is circles, and among bodies the heavens, that are considered the most perfect.   \n",
       "\n",
       "  Chapter  \\\n",
       "0       1   \n",
       "1       1   \n",
       "2       1   \n",
       "3       1   \n",
       "4       1   \n",
       "\n",
       "                                                                                                                                                                                                                                                                                                                                                                                                                                                                                                                                                             Paragraph  \\\n",
       "0                                                                                                                                                                                                                                                                                                                                                                                                                                                                                                                                                            Chapter 1   \n",
       "1                                                                                                                                                                                                                                                                                                                                                                                                                On the distinction between the first motion and the second or proper motions; and in the proper motions, between the first and the second inequality.   \n",
       "2  The testimony of the ages confirms that the motions of the planets are orbicular.  Reason, having borrowed from experience, immediately presumes this: that their gyrations are perfect circles. For among figures it is circles, and among bodies the heavens, that are considered the most perfect. However, when experience seems to teach something different to those who pay careful attention, namely, that the planets deviate from a simple circular path, it gives rise to a powerful sense of wonder, which at length drives people to look into causes.   \n",
       "3  The testimony of the ages confirms that the motions of the planets are orbicular.  Reason, having borrowed from experience, immediately presumes this: that their gyrations are perfect circles. For among figures it is circles, and among bodies the heavens, that are considered the most perfect. However, when experience seems to teach something different to those who pay careful attention, namely, that the planets deviate from a simple circular path, it gives rise to a powerful sense of wonder, which at length drives people to look into causes.   \n",
       "4  The testimony of the ages confirms that the motions of the planets are orbicular.  Reason, having borrowed from experience, immediately presumes this: that their gyrations are perfect circles. For among figures it is circles, and among bodies the heavens, that are considered the most perfect. However, when experience seems to teach something different to those who pay careful attention, namely, that the planets deviate from a simple circular path, it gives rise to a powerful sense of wonder, which at length drives people to look into causes.   \n",
       "\n",
       "   ParaIndex  \\\n",
       "0          0   \n",
       "1          1   \n",
       "2          2   \n",
       "3          2   \n",
       "4          2   \n",
       "\n",
       "                                                                                                 ASO  \\\n",
       "0                                                                                 {'act': 'Chapter'}   \n",
       "1                                                                                      {'act': 'On'}   \n",
       "2                                                        {'act': 'confirms', 'subject': 'testimony'}   \n",
       "3  {'act': 'presumes', 'subject': 'reason', 'obj': 'this: that their gyrations are perfect circles'}   \n",
       "4                                                                              {'act': 'considered'}   \n",
       "\n",
       "  Entities       FNER  Label  \n",
       "0       []  [0, 0, 0]      0  \n",
       "1       []  [0, 0, 0]      0  \n",
       "2       []  [0, 0, 0]      0  \n",
       "3       []  [0, 0, 0]      0  \n",
       "4       []  [0, 0, 0]      0  "
      ]
     },
     "execution_count": 12,
     "metadata": {},
     "output_type": "execute_result"
    }
   ],
   "source": [
    "df.head()"
   ]
  },
  {
   "cell_type": "markdown",
   "metadata": {},
   "source": [
    " Sample of the last sentences of the book in the dataframe format "
   ]
  },
  {
   "cell_type": "code",
   "execution_count": 13,
   "metadata": {},
   "outputs": [
    {
     "data": {
      "text/html": [
       "<div>\n",
       "<style scoped>\n",
       "    .dataframe tbody tr th:only-of-type {\n",
       "        vertical-align: middle;\n",
       "    }\n",
       "\n",
       "    .dataframe tbody tr th {\n",
       "        vertical-align: top;\n",
       "    }\n",
       "\n",
       "    .dataframe thead th {\n",
       "        text-align: right;\n",
       "    }\n",
       "</style>\n",
       "<table border=\"1\" class=\"dataframe\">\n",
       "  <thead>\n",
       "    <tr style=\"text-align: right;\">\n",
       "      <th></th>\n",
       "      <th>Sentence</th>\n",
       "      <th>Chapter</th>\n",
       "      <th>Paragraph</th>\n",
       "      <th>ParaIndex</th>\n",
       "      <th>ASO</th>\n",
       "      <th>Entities</th>\n",
       "      <th>FNER</th>\n",
       "      <th>Label</th>\n",
       "    </tr>\n",
       "  </thead>\n",
       "  <tbody>\n",
       "    <tr>\n",
       "      <td>6694</td>\n",
       "      <td>To find the position of Mars at opposition, Kepler computed the angular distance that Mars and Earth—now substituting the place of the Sun—moved during 17 hours 20 minutes; Mars moved eastward about 16' 20\" and the Sun westward about 42' 18\".</td>\n",
       "      <td>appendix b</td>\n",
       "      <td>As shown in Figure 2B, the Sun is assumed to be at the center of the planetary system. The longitudes of Mars and Earth's in reference to the center of the Sun are 198° 21' 30\" and 199° 20' 8\" respectively. The deviation of elongation between Mars and the Earth remain 58' 38\". To find the position of Mars at opposition, Kepler computed the angular distance that Mars and Earth—now substituting the place of the Sun—moved during 17 hours 20 minutes; Mars moved eastward about 16' 20\" and the Sun westward about 42' 18\". Accordingly, Kepler determined the longitude of Mars at opposition to be 198° 37' 50\" from which he subtracted about 39\" in order to correct Mars's orbit; he got 198° 37' 10\" (18° 37' 10\" Libra).</td>\n",
       "      <td>1603</td>\n",
       "      <td>{'act': 'moved', 'subject': 'mars'}</td>\n",
       "      <td>[[Mars, PLAN], [opposition, ASTR], [Mars, PLAN], [Earth, PLAN], [Sun, PLAN], [17 hours 20 minutes, TIME], [Mars, PLAN], [eastward, ASTR], [16' 20\", LONG], [Sun, PLAN], [42' 18\", LONG]]</td>\n",
       "      <td>[0, 1, 1]</td>\n",
       "      <td>0</td>\n",
       "    </tr>\n",
       "    <tr>\n",
       "      <td>6695</td>\n",
       "      <td>Accordingly, Kepler determined the longitude of Mars at opposition to be 198° 37' 50\" from which he subtracted about 39\" in order to correct Mars's orbit; he got 198° 37' 10\" (18° 37' 10\" Libra).</td>\n",
       "      <td>appendix b</td>\n",
       "      <td>As shown in Figure 2B, the Sun is assumed to be at the center of the planetary system. The longitudes of Mars and Earth's in reference to the center of the Sun are 198° 21' 30\" and 199° 20' 8\" respectively. The deviation of elongation between Mars and the Earth remain 58' 38\". To find the position of Mars at opposition, Kepler computed the angular distance that Mars and Earth—now substituting the place of the Sun—moved during 17 hours 20 minutes; Mars moved eastward about 16' 20\" and the Sun westward about 42' 18\". Accordingly, Kepler determined the longitude of Mars at opposition to be 198° 37' 50\" from which he subtracted about 39\" in order to correct Mars's orbit; he got 198° 37' 10\" (18° 37' 10\" Libra).</td>\n",
       "      <td>1603</td>\n",
       "      <td>{'act': 'got', 'subject': 'he', 'obj': '' 10'}</td>\n",
       "      <td>[[longitude, ASTR], [Mars, PLAN], [opposition, ASTR], [198° 37' 50\", LONG], [Mars, PLAN], [orbit, ASTR], [198° 37' 10\", LONG], [18° 37' 10\" Libra, LONG]]</td>\n",
       "      <td>[0, 0, 1]</td>\n",
       "      <td>0</td>\n",
       "    </tr>\n",
       "    <tr>\n",
       "      <td>6696</td>\n",
       "      <td>The Sun moved westward and its longitude decreased from the time of observation to its position opposite to Mars.</td>\n",
       "      <td>appendix b</td>\n",
       "      <td>The Sun moved westward and its longitude decreased from the time of observation to its position opposite to Mars. Therefore, the time of opposition is 17 hours 20 minutes before March 29, at 21:43, the time when the observation was made. Kepler determined the time of opposition on March 28, 4h 23m AM, old style.</td>\n",
       "      <td>1604</td>\n",
       "      <td>{'act': 'moved', 'subject': 'sun'}</td>\n",
       "      <td>[[Sun, PLAN], [longitude, ASTR], [observation, ASTR], [Mars, PLAN]]</td>\n",
       "      <td>[0, 0, 0]</td>\n",
       "      <td>0</td>\n",
       "    </tr>\n",
       "    <tr>\n",
       "      <td>6697</td>\n",
       "      <td>Therefore, the time of opposition is 17 hours 20 minutes before March 29, at 21:43, the time when the observation was made.</td>\n",
       "      <td>appendix b</td>\n",
       "      <td>The Sun moved westward and its longitude decreased from the time of observation to its position opposite to Mars. Therefore, the time of opposition is 17 hours 20 minutes before March 29, at 21:43, the time when the observation was made. Kepler determined the time of opposition on March 28, 4h 23m AM, old style.</td>\n",
       "      <td>1604</td>\n",
       "      <td>{'act': 'is', 'subject': 'time'}</td>\n",
       "      <td>[[opposition, ASTR], [17 hours 20, TIME], [March 29, DATE], [observation, ASTR]]</td>\n",
       "      <td>[1, 1, 0]</td>\n",
       "      <td>0</td>\n",
       "    </tr>\n",
       "    <tr>\n",
       "      <td>6698</td>\n",
       "      <td>Kepler determined the time of opposition on March 28, 4h 23m AM, old style.</td>\n",
       "      <td>appendix b</td>\n",
       "      <td>The Sun moved westward and its longitude decreased from the time of observation to its position opposite to Mars. Therefore, the time of opposition is 17 hours 20 minutes before March 29, at 21:43, the time when the observation was made. Kepler determined the time of opposition on March 28, 4h 23m AM, old style.</td>\n",
       "      <td>1604</td>\n",
       "      <td>{'act': 'determined', 'subject': 'kepler', 'obj': 'the time of opposition on March 28'}</td>\n",
       "      <td>[[opposition, ASTR], [March 28, DATE], [4h 23m, TIME]]</td>\n",
       "      <td>[1, 1, 0]</td>\n",
       "      <td>0</td>\n",
       "    </tr>\n",
       "  </tbody>\n",
       "</table>\n",
       "</div>"
      ],
      "text/plain": [
       "                                                                                                                                                                                                                                                Sentence  \\\n",
       "6694  To find the position of Mars at opposition, Kepler computed the angular distance that Mars and Earth—now substituting the place of the Sun—moved during 17 hours 20 minutes; Mars moved eastward about 16' 20\" and the Sun westward about 42' 18\".   \n",
       "6695                                                 Accordingly, Kepler determined the longitude of Mars at opposition to be 198° 37' 50\" from which he subtracted about 39\" in order to correct Mars's orbit; he got 198° 37' 10\" (18° 37' 10\" Libra).   \n",
       "6696                                                                                                                                   The Sun moved westward and its longitude decreased from the time of observation to its position opposite to Mars.   \n",
       "6697                                                                                                                         Therefore, the time of opposition is 17 hours 20 minutes before March 29, at 21:43, the time when the observation was made.   \n",
       "6698                                                                                                                                                                         Kepler determined the time of opposition on March 28, 4h 23m AM, old style.   \n",
       "\n",
       "         Chapter  \\\n",
       "6694  appendix b   \n",
       "6695  appendix b   \n",
       "6696  appendix b   \n",
       "6697  appendix b   \n",
       "6698  appendix b   \n",
       "\n",
       "                                                                                                                                                                                                                                                                                                                                                                                                                                                                                                                                                                                                                                                                                                                                          Paragraph  \\\n",
       "6694   As shown in Figure 2B, the Sun is assumed to be at the center of the planetary system. The longitudes of Mars and Earth's in reference to the center of the Sun are 198° 21' 30\" and 199° 20' 8\" respectively. The deviation of elongation between Mars and the Earth remain 58' 38\". To find the position of Mars at opposition, Kepler computed the angular distance that Mars and Earth—now substituting the place of the Sun—moved during 17 hours 20 minutes; Mars moved eastward about 16' 20\" and the Sun westward about 42' 18\". Accordingly, Kepler determined the longitude of Mars at opposition to be 198° 37' 50\" from which he subtracted about 39\" in order to correct Mars's orbit; he got 198° 37' 10\" (18° 37' 10\" Libra).   \n",
       "6695   As shown in Figure 2B, the Sun is assumed to be at the center of the planetary system. The longitudes of Mars and Earth's in reference to the center of the Sun are 198° 21' 30\" and 199° 20' 8\" respectively. The deviation of elongation between Mars and the Earth remain 58' 38\". To find the position of Mars at opposition, Kepler computed the angular distance that Mars and Earth—now substituting the place of the Sun—moved during 17 hours 20 minutes; Mars moved eastward about 16' 20\" and the Sun westward about 42' 18\". Accordingly, Kepler determined the longitude of Mars at opposition to be 198° 37' 50\" from which he subtracted about 39\" in order to correct Mars's orbit; he got 198° 37' 10\" (18° 37' 10\" Libra).   \n",
       "6696                                                                                                                                                                                                                                                                                                                                                                                                                      The Sun moved westward and its longitude decreased from the time of observation to its position opposite to Mars. Therefore, the time of opposition is 17 hours 20 minutes before March 29, at 21:43, the time when the observation was made. Kepler determined the time of opposition on March 28, 4h 23m AM, old style.   \n",
       "6697                                                                                                                                                                                                                                                                                                                                                                                                                      The Sun moved westward and its longitude decreased from the time of observation to its position opposite to Mars. Therefore, the time of opposition is 17 hours 20 minutes before March 29, at 21:43, the time when the observation was made. Kepler determined the time of opposition on March 28, 4h 23m AM, old style.   \n",
       "6698                                                                                                                                                                                                                                                                                                                                                                                                                      The Sun moved westward and its longitude decreased from the time of observation to its position opposite to Mars. Therefore, the time of opposition is 17 hours 20 minutes before March 29, at 21:43, the time when the observation was made. Kepler determined the time of opposition on March 28, 4h 23m AM, old style.   \n",
       "\n",
       "      ParaIndex  \\\n",
       "6694       1603   \n",
       "6695       1603   \n",
       "6696       1604   \n",
       "6697       1604   \n",
       "6698       1604   \n",
       "\n",
       "                                                                                          ASO  \\\n",
       "6694                                                      {'act': 'moved', 'subject': 'mars'}   \n",
       "6695                                           {'act': 'got', 'subject': 'he', 'obj': '' 10'}   \n",
       "6696                                                       {'act': 'moved', 'subject': 'sun'}   \n",
       "6697                                                         {'act': 'is', 'subject': 'time'}   \n",
       "6698  {'act': 'determined', 'subject': 'kepler', 'obj': 'the time of opposition on March 28'}   \n",
       "\n",
       "                                                                                                                                                                                      Entities  \\\n",
       "6694  [[Mars, PLAN], [opposition, ASTR], [Mars, PLAN], [Earth, PLAN], [Sun, PLAN], [17 hours 20 minutes, TIME], [Mars, PLAN], [eastward, ASTR], [16' 20\", LONG], [Sun, PLAN], [42' 18\", LONG]]   \n",
       "6695                                 [[longitude, ASTR], [Mars, PLAN], [opposition, ASTR], [198° 37' 50\", LONG], [Mars, PLAN], [orbit, ASTR], [198° 37' 10\", LONG], [18° 37' 10\" Libra, LONG]]   \n",
       "6696                                                                                                                       [[Sun, PLAN], [longitude, ASTR], [observation, ASTR], [Mars, PLAN]]   \n",
       "6697                                                                                                          [[opposition, ASTR], [17 hours 20, TIME], [March 29, DATE], [observation, ASTR]]   \n",
       "6698                                                                                                                                    [[opposition, ASTR], [March 28, DATE], [4h 23m, TIME]]   \n",
       "\n",
       "           FNER  Label  \n",
       "6694  [0, 1, 1]      0  \n",
       "6695  [0, 0, 1]      0  \n",
       "6696  [0, 0, 0]      0  \n",
       "6697  [1, 1, 0]      0  \n",
       "6698  [1, 1, 0]      0  "
      ]
     },
     "execution_count": 13,
     "metadata": {},
     "output_type": "execute_result"
    }
   ],
   "source": [
    "df.tail()"
   ]
  },
  {
   "cell_type": "markdown",
   "metadata": {},
   "source": [
    "# Distribution of explicit observational sentences "
   ]
  },
  {
   "cell_type": "markdown",
   "metadata": {},
   "source": [
    "here we extract explicit observational sentences using Name Entity Recognition "
   ]
  },
  {
   "cell_type": "code",
   "execution_count": 15,
   "metadata": {},
   "outputs": [],
   "source": [
    "df_obs=df[df.Label==1]"
   ]
  },
  {
   "cell_type": "code",
   "execution_count": 16,
   "metadata": {},
   "outputs": [
    {
     "data": {
      "text/plain": [
       "{10.0,\n",
       " 11.0,\n",
       " 12.0,\n",
       " 13.0,\n",
       " 15.0,\n",
       " 22.0,\n",
       " 24.0,\n",
       " 26.0,\n",
       " 42.0,\n",
       " 51.0,\n",
       " 61.0,\n",
       " 62.0,\n",
       " 65.0,\n",
       " 69.0}"
      ]
     },
     "execution_count": 16,
     "metadata": {},
     "output_type": "execute_result"
    }
   ],
   "source": [
    "dfChobs=set(df_obs[\"Chapter\"])\n",
    "dfChobs"
   ]
  },
  {
   "cell_type": "code",
   "execution_count": 17,
   "metadata": {},
   "outputs": [],
   "source": [
    "a=[]\n",
    "for i in  dfChobs:\n",
    "    Obch=df_obs[df_obs.Chapter == i].shape[0]\n",
    "    a.append(Obch)"
   ]
  },
  {
   "cell_type": "code",
   "execution_count": 18,
   "metadata": {},
   "outputs": [
    {
     "data": {
      "text/plain": [
       "Text(0.5, 1.0, 'Distribution of observation over different chapters')"
      ]
     },
     "execution_count": 18,
     "metadata": {},
     "output_type": "execute_result"
    },
    {
     "data": {
      "image/png": "[encoded data removed]",
      "text/plain": [
       "<Figure size 432x288 with 1 Axes>"
      ]
     },
     "metadata": {
      "needs_background": "light"
     },
     "output_type": "display_data"
    }
   ],
   "source": [
    "plt.bar(list(dfChobs),a,color=\"r\",align='edge', width=.8)\n",
    "\n",
    "plt.title(\"Distribution of observation over different chapters\")\n"
   ]
  },
  {
   "cell_type": "markdown",
   "metadata": {},
   "source": [
    "# Distribution of Samples "
   ]
  },
  {
   "cell_type": "code",
   "execution_count": 19,
   "metadata": {},
   "outputs": [],
   "source": [
    "X=list(df[\"Sentence\"])\n",
    "y=np.array(list(df[\"Label\"]))"
   ]
  },
  {
   "cell_type": "code",
   "execution_count": 20,
   "metadata": {},
   "outputs": [],
   "source": [
    "from collections import Counter\n",
    "category=Counter(y)\n",
    "count=dict(category)"
   ]
  },
  {
   "cell_type": "code",
   "execution_count": 21,
   "metadata": {},
   "outputs": [
    {
     "data": {
      "text/plain": [
       "{0: 6625, 1: 74}"
      ]
     },
     "execution_count": 21,
     "metadata": {},
     "output_type": "execute_result"
    }
   ],
   "source": [
    "count"
   ]
  },
  {
   "cell_type": "code",
   "execution_count": 22,
   "metadata": {},
   "outputs": [
    {
     "data": {
      "text/plain": [
       "Text(0.5, 1.0, 'Distribution of samples over different classes')"
      ]
     },
     "execution_count": 22,
     "metadata": {},
     "output_type": "execute_result"
    },
    {
     "data": {
      "image/png": "[encoded data removed]",
      "text/plain": [
       "<Figure size 432x288 with 1 Axes>"
      ]
     },
     "metadata": {
      "needs_background": "light"
     },
     "output_type": "display_data"
    }
   ],
   "source": [
    "plt.bar(list(count.keys()),count.values(),color=\"r\",width=.4,tick_label=[\"1\",\"0\"])\n",
    "plt.title(\"Distribution of samples over different classes\")\n"
   ]
  },
  {
   "cell_type": "code",
   "execution_count": 23,
   "metadata": {},
   "outputs": [],
   "source": [
    "from sklearn.feature_extraction.text import CountVectorizer,HashingVectorizer\n",
    "from sklearn.feature_extraction.text import TfidfTransformer,TfidfVectorizer\n",
    "from sklearn.feature_selection import SelectKBest,chi2\n",
    "from sklearn.linear_model import SGDClassifier, LogisticRegression,LogisticRegressionCV\n",
    "from sklearn.naive_bayes import MultinomialNB\n",
    "from sklearn.ensemble import RandomForestClassifier\n",
    "from sklearn.pipeline import Pipeline\n",
    "from sklearn.decomposition import TruncatedSVD\n",
    "from sklearn.svm import SVC,LinearSVC\n",
    "from sklearn.utils import shuffle\n",
    "from sklearn.model_selection import train_test_split\n",
    "from sklearn.neighbors import NearestNeighbors\n",
    "#from xgboost import XGBClassifier"
   ]
  },
  {
   "cell_type": "markdown",
   "metadata": {},
   "source": [
    "## Models"
   ]
  },
  {
   "cell_type": "code",
   "execution_count": 24,
   "metadata": {},
   "outputs": [],
   "source": [
    "vec=TfidfVectorizer()\n",
    "clf= SGDClassifier()\n",
    "trial_05=Pipeline([(\"vect\",vec),(\"clf\",clf)])\n",
    "#####################################################\n",
    "## 02-XGBClassifier\n",
    "\n",
    "#trial_02 = Pipeline([('vect', CountVectorizer(stop_words='english')),\n",
    "                     #('clf', XGBClassifier())])\n"
   ]
  },
  {
   "cell_type": "code",
   "execution_count": 25,
   "metadata": {},
   "outputs": [
    {
     "data": {
      "text/plain": [
       "Pipeline(memory=None,\n",
       "         steps=[('vect',\n",
       "                 TfidfVectorizer(analyzer='word', binary=False,\n",
       "                                 decode_error='strict',\n",
       "                                 dtype=<class 'numpy.float64'>,\n",
       "                                 encoding='utf-8', input='content',\n",
       "                                 lowercase=True, max_df=1.0, max_features=None,\n",
       "                                 min_df=1, ngram_range=(1, 1), norm='l2',\n",
       "                                 preprocessor=None, smooth_idf=True,\n",
       "                                 stop_words=None, strip_accents=None,\n",
       "                                 sublinear_tf=False,\n",
       "                                 token_pattern='(...\n",
       "                 SGDClassifier(alpha=0.0001, average=False, class_weight=None,\n",
       "                               early_stopping=False, epsilon=0.1, eta0=0.0,\n",
       "                               fit_intercept=True, l1_ratio=0.15,\n",
       "                               learning_rate='optimal', loss='hinge',\n",
       "                               max_iter=1000, n_iter_no_change=5, n_jobs=None,\n",
       "                               penalty='l2', power_t=0.5, random_state=None,\n",
       "                               shuffle=True, tol=0.001, validation_fraction=0.1,\n",
       "                               verbose=0, warm_start=False))],\n",
       "         verbose=False)"
      ]
     },
     "execution_count": 25,
     "metadata": {},
     "output_type": "execute_result"
    }
   ],
   "source": [
    "trial_05"
   ]
  },
  {
   "cell_type": "markdown",
   "metadata": {},
   "source": [
    "# Explicit observational sentences using custom NER in the paragraph"
   ]
  },
  {
   "cell_type": "code",
   "execution_count": 26,
   "metadata": {},
   "outputs": [],
   "source": [
    "X_Obs=df.loc[df.Label==1]\n",
    "X_Obs=X_Obs[[\"Sentence\",\"Paragraph\"]]\n"
   ]
  },
  {
   "cell_type": "code",
   "execution_count": 27,
   "metadata": {},
   "outputs": [
    {
     "data": {
      "text/html": [
       "<div>\n",
       "<style scoped>\n",
       "    .dataframe tbody tr th:only-of-type {\n",
       "        vertical-align: middle;\n",
       "    }\n",
       "\n",
       "    .dataframe tbody tr th {\n",
       "        vertical-align: top;\n",
       "    }\n",
       "\n",
       "    .dataframe thead th {\n",
       "        text-align: right;\n",
       "    }\n",
       "</style>\n",
       "<table border=\"1\" class=\"dataframe\">\n",
       "  <thead>\n",
       "    <tr style=\"text-align: right;\">\n",
       "      <th></th>\n",
       "      <th>Sentence</th>\n",
       "      <th>Paragraph</th>\n",
       "    </tr>\n",
       "  </thead>\n",
       "  <tbody>\n",
       "    <tr>\n",
       "      <td>967</td>\n",
       "      <td>On 1580 November 12 at 10h 50m,1 they set Mars down at 8° 36’ 50” Gemini2 without mentioning the horizontal variations,  by which term I wish the diurnal parallaxes and the refractions to be understood in what follows.</td>\n",
       "      <td>On 1580 November 12 at 10h 50m,1 they set Mars down at 8° 36’ 50” Gemini2 without mentioning the horizontal variations,  by which term I wish the diurnal parallaxes and the refractions to be understood in what follows. Now this observation is distant and isolated. It was reduced to the moment of opposition using the diurnal motion from the Prutenic Tables ^3.</td>\n",
       "    </tr>\n",
       "    <tr>\n",
       "      <td>977</td>\n",
       "      <td>On 1582 December 28 at 11h 30m, they set Mars down at 16° 47’ Cancer by observation ^6.</td>\n",
       "      <td>On 1582 December 28 at 11h 30m, they set Mars down at 16° 47’ Cancer by observation ^6. The moment of opposition assigned by Tycho comes 46 minutes later, during which the planet retrogressed less than one minute. Tycho therefore puts it at 16° 46’ 16” Cancer ^7. On an inserted sheet here, an attempt was made to correct for a refraction of two minutes. This was, I think, first trial of the theory of refraction then being developed. Nevertheless, he followed the observed value unchanged, thus declining to consider the planet as something which could alter its position. Nor was there any need for  correction, since it was in Cancer, beyond the reach of refraction, and was in mid-sky where, in Cancer, there is no longitudinal parallax.</td>\n",
       "    </tr>\n",
       "    <tr>\n",
       "      <td>984</td>\n",
       "      <td>On 1585 January 31 at 12h 0m, Mars was placed at 21° 18’ 11” Leo ^8.</td>\n",
       "      <td>On 1585 January 31 at 12h 0m, Mars was placed at 21° 18’ 11” Leo ^8. The diurnal motion, by comparison of observations, was 24’ 15”. The moment of opposition followed at 19h 35m, 7 hours and 35 minutes later. To this period belongs 7’ 41” of diurnal motion westward. Therefore, at the designated moment, it would have been at 21° 10’ 30” Leo, which is what was accepted. There is no mention of parallax. Nothing had to be done about refraction, because Mars was high and at mid-sky. I therefore find the bit of advice in the table about refraction (properly) ignored.</td>\n",
       "    </tr>\n",
       "    <tr>\n",
       "      <td>992</td>\n",
       "      <td>On 1587 March 7 at 19h 10m they deduced the position of Mars from the observations, which was 25° 10’ 20” Virgo.</td>\n",
       "      <td>On 1587 March 7 at 19h 10m they deduced the position of Mars from the observations, which was 25° 10’ 20” Virgo. This they kept in the table, but changed the time to 17h 22m. The difference of 1h 48m multiplied by a diurnal motion of 24’ gives the same number of minutes and seconds (that is, 1’ 48”), no more. It therefore should have been 25° 8’ 32” Virgo, which also approaches nearer the point opposite the sun. The difference is of practically no importance ^9.</td>\n",
       "    </tr>\n",
       "    <tr>\n",
       "      <td>997</td>\n",
       "      <td>On 1589 April 15 at 12h 5m they established the position of Mars very carefully at 3° 58' 21\" Scorpio, and corrected for longitudinal parallax so as to make it 3° 57’ 11” ^10.</td>\n",
       "      <td>On 1589 April 15 at 12h 5m they established the position of Mars very carefully at 3° 58' 21\" Scorpio, and corrected for longitudinal parallax so as to make it 3° 57’ 11” ^10. There remain 1h 30m until the designated moment of opposition, which, for a diurnal motion of 22', bring the planet back 1’ 22”, so as to be at 3° 55’ 49”. They took the value of 3° 58’ 10”. The former is closer to the sun’s mean position.</td>\n",
       "    </tr>\n",
       "    <tr>\n",
       "      <td>1001</td>\n",
       "      <td>On 1591 June 6 at 12h 20m, Mars is placed at 27° 15’ Sagittarius ^11.</td>\n",
       "      <td>On 1591 June 6 at 12h 20m, Mars is placed at 27° 15’ Sagittarius ^11. There remained 2 days 4 hours and 5 minutes until the designated moment. In four days it was found to be moved forward 1° 12’ 47”. Therefore, to 2d 4h 5m correspond 39’ 29”. Consequently, at that moment Mars was at 26° 35’ 31” Sagittarius. There is no need to consider any horizontal variations in longitude, since Mars is at mid-sky and at the beginning of Capricorn. The table has 26° 32’ Sagittarius.</td>\n",
       "    </tr>\n",
       "    <tr>\n",
       "      <td>1008</td>\n",
       "      <td>On 1593 24 August at 10h 30m they report Mars as being at 12° 38’ Pisces12 with an observed diurnal motion of 16’ 45”, and this near the nonagesimal13 where there is no longitudinal parallax.</td>\n",
       "      <td>On 1593 24 August at 10h 30m they report Mars as being at 12° 38’ Pisces12 with an observed diurnal motion of 16’ 45”, and this near the nonagesimal13 where there is no longitudinal parallax. The moment designated for the opposition preceded this by 8h 17m (for it was at 2h 13m),14 to which corresponds a motion of 5’ 48” eastward. Therefore, the planet falls at 12° 43’ 48” Pisces. And the table has 12° 43’ 45”.</td>\n",
       "    </tr>\n",
       "    <tr>\n",
       "      <td>1012</td>\n",
       "      <td>On 1595 October 30 at 8h 20m, they found Mars at 17° 48’ Taurus, with a diurnal motion of 22’ 54” ^15.</td>\n",
       "      <td>On 1595 October 30 at 8h 20m, they found Mars at 17° 48’ Taurus, with a diurnal motion of 22’ 54” ^15. The designated moment preceded by 11h 48m, for which is required a motion of Mars of 11’ 7” eastward, so that it would be at 17° 59’ 7” Taurus. But it was projected eastward on account of parallax. Therefore, possibly using another observation on the meridian, they put down 17° 56’ 15” Taurus in the table.</td>\n",
       "    </tr>\n",
       "    <tr>\n",
       "      <td>1016</td>\n",
       "      <td>On 1597 December 10 at 8h 30m, they first placed Mars at 3° 30’ Cancer, and again at 4° 1’ Cancer, the mean being 3° 45½’ Cancer ^16.</td>\n",
       "      <td>On 1597 December 10 at 8h 30m, they first placed Mars at 3° 30’ Cancer, and again at 4° 1’ Cancer, the mean being 3° 45½’ Cancer ^16. The moment of opposition came 3 days 5h 5m later, to which, from Magini, corresponds 1° 15’ westward. Therefore, Mars would have been at 2° 30½’ Cancer. In the table, it was put at 2° 28’. The reason for the rough measurement, carried out with a measuring staff, is clear from the date. Tycho had left the island, leaving all  instruments but the staff behind. Nevertheless, he did not wish to ignore this opposition completely. But I wish he had still remained on the island, for this opposition was a marvelous opportunity, not often recurring within a man’s lifetime, for examining Mars’s parallax.</td>\n",
       "    </tr>\n",
       "    <tr>\n",
       "      <td>1027</td>\n",
       "      <td>This gives a diurnal motion of 23’ 44”, and a position on January 19/29 at 9h 40m of 8° 18’ 45” Leo, just as they put it.</td>\n",
       "      <td>Hence, Mars is at 10° 38’ 46” Leo, at an adjusted time of 11h 40m reduced to the meridian of Uraniborg. But on January 24/February 3 at the same time it was at 6° 18’ Leo. This gives a diurnal motion of 23’ 44”, and a position on January 19/29 at 9h 40m of 8° 18’ 45” Leo, just as they put it.</td>\n",
       "    </tr>\n",
       "  </tbody>\n",
       "</table>\n",
       "</div>"
      ],
      "text/plain": [
       "                                                                                                                                                                                                                        Sentence  \\\n",
       "967   On 1580 November 12 at 10h 50m,1 they set Mars down at 8° 36’ 50” Gemini2 without mentioning the horizontal variations,  by which term I wish the diurnal parallaxes and the refractions to be understood in what follows.   \n",
       "977                                                                                                                                      On 1582 December 28 at 11h 30m, they set Mars down at 16° 47’ Cancer by observation ^6.   \n",
       "984                                                                                                                                                         On 1585 January 31 at 12h 0m, Mars was placed at 21° 18’ 11” Leo ^8.   \n",
       "992                                                                                                             On 1587 March 7 at 19h 10m they deduced the position of Mars from the observations, which was 25° 10’ 20” Virgo.   \n",
       "997                                              On 1589 April 15 at 12h 5m they established the position of Mars very carefully at 3° 58' 21\" Scorpio, and corrected for longitudinal parallax so as to make it 3° 57’ 11” ^10.   \n",
       "1001                                                                                                                                                       On 1591 June 6 at 12h 20m, Mars is placed at 27° 15’ Sagittarius ^11.   \n",
       "1008                             On 1593 24 August at 10h 30m they report Mars as being at 12° 38’ Pisces12 with an observed diurnal motion of 16’ 45”, and this near the nonagesimal13 where there is no longitudinal parallax.   \n",
       "1012                                                                                                                      On 1595 October 30 at 8h 20m, they found Mars at 17° 48’ Taurus, with a diurnal motion of 22’ 54” ^15.   \n",
       "1016                                                                                       On 1597 December 10 at 8h 30m, they first placed Mars at 3° 30’ Cancer, and again at 4° 1’ Cancer, the mean being 3° 45½’ Cancer ^16.   \n",
       "1027                                                                                                   This gives a diurnal motion of 23’ 44”, and a position on January 19/29 at 9h 40m of 8° 18’ 45” Leo, just as they put it.   \n",
       "\n",
       "                                                                                                                                                                                                                                                                                                                                                                                                                                                                                                                                                                                                                                                                                                                                                                   Paragraph  \n",
       "967                                                                                                                                                                                                                                                                                                                                                                                               On 1580 November 12 at 10h 50m,1 they set Mars down at 8° 36’ 50” Gemini2 without mentioning the horizontal variations,  by which term I wish the diurnal parallaxes and the refractions to be understood in what follows. Now this observation is distant and isolated. It was reduced to the moment of opposition using the diurnal motion from the Prutenic Tables ^3.   \n",
       "977   On 1582 December 28 at 11h 30m, they set Mars down at 16° 47’ Cancer by observation ^6. The moment of opposition assigned by Tycho comes 46 minutes later, during which the planet retrogressed less than one minute. Tycho therefore puts it at 16° 46’ 16” Cancer ^7. On an inserted sheet here, an attempt was made to correct for a refraction of two minutes. This was, I think, first trial of the theory of refraction then being developed. Nevertheless, he followed the observed value unchanged, thus declining to consider the planet as something which could alter its position. Nor was there any need for  correction, since it was in Cancer, beyond the reach of refraction, and was in mid-sky where, in Cancer, there is no longitudinal parallax.  \n",
       "984                                                                                                                                                                                  On 1585 January 31 at 12h 0m, Mars was placed at 21° 18’ 11” Leo ^8. The diurnal motion, by comparison of observations, was 24’ 15”. The moment of opposition followed at 19h 35m, 7 hours and 35 minutes later. To this period belongs 7’ 41” of diurnal motion westward. Therefore, at the designated moment, it would have been at 21° 10’ 30” Leo, which is what was accepted. There is no mention of parallax. Nothing had to be done about refraction, because Mars was high and at mid-sky. I therefore find the bit of advice in the table about refraction (properly) ignored.  \n",
       "992                                                                                                                                                                                                                                                                                      On 1587 March 7 at 19h 10m they deduced the position of Mars from the observations, which was 25° 10’ 20” Virgo. This they kept in the table, but changed the time to 17h 22m. The difference of 1h 48m multiplied by a diurnal motion of 24’ gives the same number of minutes and seconds (that is, 1’ 48”), no more. It therefore should have been 25° 8’ 32” Virgo, which also approaches nearer the point opposite the sun. The difference is of practically no importance ^9.   \n",
       "997                                                                                                                                                                                                                                                                                                                                          On 1589 April 15 at 12h 5m they established the position of Mars very carefully at 3° 58' 21\" Scorpio, and corrected for longitudinal parallax so as to make it 3° 57’ 11” ^10. There remain 1h 30m until the designated moment of opposition, which, for a diurnal motion of 22', bring the planet back 1’ 22”, so as to be at 3° 55’ 49”. They took the value of 3° 58’ 10”. The former is closer to the sun’s mean position.  \n",
       "1001                                                                                                                                                                                                                                                                               On 1591 June 6 at 12h 20m, Mars is placed at 27° 15’ Sagittarius ^11. There remained 2 days 4 hours and 5 minutes until the designated moment. In four days it was found to be moved forward 1° 12’ 47”. Therefore, to 2d 4h 5m correspond 39’ 29”. Consequently, at that moment Mars was at 26° 35’ 31” Sagittarius. There is no need to consider any horizontal variations in longitude, since Mars is at mid-sky and at the beginning of Capricorn. The table has 26° 32’ Sagittarius.  \n",
       "1008                                                                                                                                                                                                                                                                                                                                          On 1593 24 August at 10h 30m they report Mars as being at 12° 38’ Pisces12 with an observed diurnal motion of 16’ 45”, and this near the nonagesimal13 where there is no longitudinal parallax. The moment designated for the opposition preceded this by 8h 17m (for it was at 2h 13m),14 to which corresponds a motion of 5’ 48” eastward. Therefore, the planet falls at 12° 43’ 48” Pisces. And the table has 12° 43’ 45”.  \n",
       "1012                                                                                                                                                                                                                                                                                                                                              On 1595 October 30 at 8h 20m, they found Mars at 17° 48’ Taurus, with a diurnal motion of 22’ 54” ^15. The designated moment preceded by 11h 48m, for which is required a motion of Mars of 11’ 7” eastward, so that it would be at 17° 59’ 7” Taurus. But it was projected eastward on account of parallax. Therefore, possibly using another observation on the meridian, they put down 17° 56’ 15” Taurus in the table.  \n",
       "1016         On 1597 December 10 at 8h 30m, they first placed Mars at 3° 30’ Cancer, and again at 4° 1’ Cancer, the mean being 3° 45½’ Cancer ^16. The moment of opposition came 3 days 5h 5m later, to which, from Magini, corresponds 1° 15’ westward. Therefore, Mars would have been at 2° 30½’ Cancer. In the table, it was put at 2° 28’. The reason for the rough measurement, carried out with a measuring staff, is clear from the date. Tycho had left the island, leaving all  instruments but the staff behind. Nevertheless, he did not wish to ignore this opposition completely. But I wish he had still remained on the island, for this opposition was a marvelous opportunity, not often recurring within a man’s lifetime, for examining Mars’s parallax.  \n",
       "1027                                                                                                                                                                                                                                                                                                                                                                                                                                                                   Hence, Mars is at 10° 38’ 46” Leo, at an adjusted time of 11h 40m reduced to the meridian of Uraniborg. But on January 24/February 3 at the same time it was at 6° 18’ Leo. This gives a diurnal motion of 23’ 44”, and a position on January 19/29 at 9h 40m of 8° 18’ 45” Leo, just as they put it.  "
      ]
     },
     "execution_count": 27,
     "metadata": {},
     "output_type": "execute_result"
    }
   ],
   "source": [
    "X_Obs.head(10)\n"
   ]
  },
  {
   "cell_type": "code",
   "execution_count": 28,
   "metadata": {},
   "outputs": [],
   "source": [
    "Y_Obs=df.loc[df.Label==1]\n",
    "Y_Obs=Y_Obs.Label\n",
    "Y_Obs=list(Y_Obs)"
   ]
  },
  {
   "cell_type": "markdown",
   "metadata": {},
   "source": [
    "# Non-observational sentences using custom NER in the pragraph"
   ]
  },
  {
   "cell_type": "code",
   "execution_count": 29,
   "metadata": {},
   "outputs": [],
   "source": [
    "X_NObs=df.loc[df.Label==0]\n",
    "X_NObs=X_NObs[[\"Sentence\",\"Paragraph\"]]"
   ]
  },
  {
   "cell_type": "code",
   "execution_count": 30,
   "metadata": {},
   "outputs": [
    {
     "data": {
      "text/html": [
       "<div>\n",
       "<style scoped>\n",
       "    .dataframe tbody tr th:only-of-type {\n",
       "        vertical-align: middle;\n",
       "    }\n",
       "\n",
       "    .dataframe tbody tr th {\n",
       "        vertical-align: top;\n",
       "    }\n",
       "\n",
       "    .dataframe thead th {\n",
       "        text-align: right;\n",
       "    }\n",
       "</style>\n",
       "<table border=\"1\" class=\"dataframe\">\n",
       "  <thead>\n",
       "    <tr style=\"text-align: right;\">\n",
       "      <th></th>\n",
       "      <th>Sentence</th>\n",
       "      <th>Paragraph</th>\n",
       "    </tr>\n",
       "  </thead>\n",
       "  <tbody>\n",
       "    <tr>\n",
       "      <td>0</td>\n",
       "      <td>Chapter 1</td>\n",
       "      <td>Chapter 1</td>\n",
       "    </tr>\n",
       "    <tr>\n",
       "      <td>1</td>\n",
       "      <td>On the distinction between the first motion and the second or proper motions; and in the proper motions, between the first and the second inequality.</td>\n",
       "      <td>On the distinction between the first motion and the second or proper motions; and in the proper motions, between the first and the second inequality.</td>\n",
       "    </tr>\n",
       "    <tr>\n",
       "      <td>2</td>\n",
       "      <td>The testimony of the ages confirms that the motions of the planets are orbicular.</td>\n",
       "      <td>The testimony of the ages confirms that the motions of the planets are orbicular.  Reason, having borrowed from experience, immediately presumes this: that their gyrations are perfect circles. For among figures it is circles, and among bodies the heavens, that are considered the most perfect. However, when experience seems to teach something different to those who pay careful attention, namely, that the planets deviate from a simple circular path, it gives rise to a powerful sense of wonder, which at length drives people to look into causes.</td>\n",
       "    </tr>\n",
       "    <tr>\n",
       "      <td>3</td>\n",
       "      <td>Reason, having borrowed from experience, immediately presumes this: that their gyrations are perfect circles.</td>\n",
       "      <td>The testimony of the ages confirms that the motions of the planets are orbicular.  Reason, having borrowed from experience, immediately presumes this: that their gyrations are perfect circles. For among figures it is circles, and among bodies the heavens, that are considered the most perfect. However, when experience seems to teach something different to those who pay careful attention, namely, that the planets deviate from a simple circular path, it gives rise to a powerful sense of wonder, which at length drives people to look into causes.</td>\n",
       "    </tr>\n",
       "    <tr>\n",
       "      <td>4</td>\n",
       "      <td>For among figures it is circles, and among bodies the heavens, that are considered the most perfect.</td>\n",
       "      <td>The testimony of the ages confirms that the motions of the planets are orbicular.  Reason, having borrowed from experience, immediately presumes this: that their gyrations are perfect circles. For among figures it is circles, and among bodies the heavens, that are considered the most perfect. However, when experience seems to teach something different to those who pay careful attention, namely, that the planets deviate from a simple circular path, it gives rise to a powerful sense of wonder, which at length drives people to look into causes.</td>\n",
       "    </tr>\n",
       "    <tr>\n",
       "      <td>5</td>\n",
       "      <td>However, when experience seems to teach something different to those who pay careful attention, namely, that the planets deviate from a simple circular path, it gives rise to a powerful sense of wonder, which at length drives people to look into causes.</td>\n",
       "      <td>The testimony of the ages confirms that the motions of the planets are orbicular.  Reason, having borrowed from experience, immediately presumes this: that their gyrations are perfect circles. For among figures it is circles, and among bodies the heavens, that are considered the most perfect. However, when experience seems to teach something different to those who pay careful attention, namely, that the planets deviate from a simple circular path, it gives rise to a powerful sense of wonder, which at length drives people to look into causes.</td>\n",
       "    </tr>\n",
       "    <tr>\n",
       "      <td>6</td>\n",
       "      <td>It is just this from which astronomy arose among humans.</td>\n",
       "      <td>It is just this from which astronomy arose among humans. Astronomy's aim is considered to be to show why the stars' motions appear to be irregular on earth, despite their being exceedingly well ordered in heaven, and to investigate the specific circles whereby the stars may be moved, so that by their aid the positions and appearances of those stars at any given time may be predicted.</td>\n",
       "    </tr>\n",
       "    <tr>\n",
       "      <td>7</td>\n",
       "      <td>Astronomy's aim is considered to be to show why the stars' motions appear to be irregular on earth, despite their being exceedingly well ordered in heaven, and to investigate the specific circles whereby the stars may be moved, so that by their aid the positions and appearances of those stars at any given time may be predicted.</td>\n",
       "      <td>It is just this from which astronomy arose among humans. Astronomy's aim is considered to be to show why the stars' motions appear to be irregular on earth, despite their being exceedingly well ordered in heaven, and to investigate the specific circles whereby the stars may be moved, so that by their aid the positions and appearances of those stars at any given time may be predicted.</td>\n",
       "    </tr>\n",
       "    <tr>\n",
       "      <td>8</td>\n",
       "      <td>Before the distinction between the first motion(1) and the second motions(2) was established, people noted (in contemplating the sun, moon and stars) that their diurnal paths were visually very nearly equivalent to circles.</td>\n",
       "      <td>Before the distinction between the first motion(1) and the second motions(2) was established, people noted (in contemplating the sun, moon and stars) that their diurnal paths were visually very nearly equivalent to circles. These were, however, entwined one upon another like yarn on a ball, and the circles were for the most part smaller(3) circles of the sphere, rarely the greatest(4) (such</td>\n",
       "    </tr>\n",
       "    <tr>\n",
       "      <td>9</td>\n",
       "      <td>These were, however, entwined one upon another like yarn on a ball, and the circles were for the most part smaller(3) circles of the sphere, rarely the greatest(4) (such</td>\n",
       "      <td>Before the distinction between the first motion(1) and the second motions(2) was established, people noted (in contemplating the sun, moon and stars) that their diurnal paths were visually very nearly equivalent to circles. These were, however, entwined one upon another like yarn on a ball, and the circles were for the most part smaller(3) circles of the sphere, rarely the greatest(4) (such</td>\n",
       "    </tr>\n",
       "  </tbody>\n",
       "</table>\n",
       "</div>"
      ],
      "text/plain": [
       "                                                                                                                                                                                                                                                                                                                                    Sentence  \\\n",
       "0                                                                                                                                                                                                                                                                                                                                  Chapter 1   \n",
       "1                                                                                                                                                                                      On the distinction between the first motion and the second or proper motions; and in the proper motions, between the first and the second inequality.   \n",
       "2                                                                                                                                                                                                                                                          The testimony of the ages confirms that the motions of the planets are orbicular.   \n",
       "3                                                                                                                                                                                                                              Reason, having borrowed from experience, immediately presumes this: that their gyrations are perfect circles.   \n",
       "4                                                                                                                                                                                                                                       For among figures it is circles, and among bodies the heavens, that are considered the most perfect.   \n",
       "5                                                                              However, when experience seems to teach something different to those who pay careful attention, namely, that the planets deviate from a simple circular path, it gives rise to a powerful sense of wonder, which at length drives people to look into causes.   \n",
       "6                                                                                                                                                                                                                                                                                   It is just this from which astronomy arose among humans.   \n",
       "7  Astronomy's aim is considered to be to show why the stars' motions appear to be irregular on earth, despite their being exceedingly well ordered in heaven, and to investigate the specific circles whereby the stars may be moved, so that by their aid the positions and appearances of those stars at any given time may be predicted.   \n",
       "8                                                                                                            Before the distinction between the first motion(1) and the second motions(2) was established, people noted (in contemplating the sun, moon and stars) that their diurnal paths were visually very nearly equivalent to circles.   \n",
       "9                                                                                                                                                                  These were, however, entwined one upon another like yarn on a ball, and the circles were for the most part smaller(3) circles of the sphere, rarely the greatest(4) (such   \n",
       "\n",
       "                                                                                                                                                                                                                                                                                                                                                                                                                                                                                                                                                             Paragraph  \n",
       "0                                                                                                                                                                                                                                                                                                                                                                                                                                                                                                                                                            Chapter 1  \n",
       "1                                                                                                                                                                                                                                                                                                                                                                                                                On the distinction between the first motion and the second or proper motions; and in the proper motions, between the first and the second inequality.  \n",
       "2  The testimony of the ages confirms that the motions of the planets are orbicular.  Reason, having borrowed from experience, immediately presumes this: that their gyrations are perfect circles. For among figures it is circles, and among bodies the heavens, that are considered the most perfect. However, when experience seems to teach something different to those who pay careful attention, namely, that the planets deviate from a simple circular path, it gives rise to a powerful sense of wonder, which at length drives people to look into causes.  \n",
       "3  The testimony of the ages confirms that the motions of the planets are orbicular.  Reason, having borrowed from experience, immediately presumes this: that their gyrations are perfect circles. For among figures it is circles, and among bodies the heavens, that are considered the most perfect. However, when experience seems to teach something different to those who pay careful attention, namely, that the planets deviate from a simple circular path, it gives rise to a powerful sense of wonder, which at length drives people to look into causes.  \n",
       "4  The testimony of the ages confirms that the motions of the planets are orbicular.  Reason, having borrowed from experience, immediately presumes this: that their gyrations are perfect circles. For among figures it is circles, and among bodies the heavens, that are considered the most perfect. However, when experience seems to teach something different to those who pay careful attention, namely, that the planets deviate from a simple circular path, it gives rise to a powerful sense of wonder, which at length drives people to look into causes.  \n",
       "5  The testimony of the ages confirms that the motions of the planets are orbicular.  Reason, having borrowed from experience, immediately presumes this: that their gyrations are perfect circles. For among figures it is circles, and among bodies the heavens, that are considered the most perfect. However, when experience seems to teach something different to those who pay careful attention, namely, that the planets deviate from a simple circular path, it gives rise to a powerful sense of wonder, which at length drives people to look into causes.  \n",
       "6                                                                                                                                                                  It is just this from which astronomy arose among humans. Astronomy's aim is considered to be to show why the stars' motions appear to be irregular on earth, despite their being exceedingly well ordered in heaven, and to investigate the specific circles whereby the stars may be moved, so that by their aid the positions and appearances of those stars at any given time may be predicted.   \n",
       "7                                                                                                                                                                  It is just this from which astronomy arose among humans. Astronomy's aim is considered to be to show why the stars' motions appear to be irregular on earth, despite their being exceedingly well ordered in heaven, and to investigate the specific circles whereby the stars may be moved, so that by their aid the positions and appearances of those stars at any given time may be predicted.   \n",
       "8                                                                                                                                                           Before the distinction between the first motion(1) and the second motions(2) was established, people noted (in contemplating the sun, moon and stars) that their diurnal paths were visually very nearly equivalent to circles. These were, however, entwined one upon another like yarn on a ball, and the circles were for the most part smaller(3) circles of the sphere, rarely the greatest(4) (such   \n",
       "9                                                                                                                                                           Before the distinction between the first motion(1) and the second motions(2) was established, people noted (in contemplating the sun, moon and stars) that their diurnal paths were visually very nearly equivalent to circles. These were, however, entwined one upon another like yarn on a ball, and the circles were for the most part smaller(3) circles of the sphere, rarely the greatest(4) (such   "
      ]
     },
     "execution_count": 30,
     "metadata": {},
     "output_type": "execute_result"
    }
   ],
   "source": [
    "X_NObs.head(10)"
   ]
  },
  {
   "cell_type": "code",
   "execution_count": 31,
   "metadata": {},
   "outputs": [],
   "source": [
    "Y_NObs=df.loc[df.Label==0]\n",
    "Y_NObs=Y_NObs.Label\n",
    "Y_NObs=list(Y_NObs)"
   ]
  },
  {
   "cell_type": "code",
   "execution_count": 32,
   "metadata": {},
   "outputs": [],
   "source": [
    "x_obs = X_Obs.loc[0:, 'Sentence'].values\n",
    "x_nobs = X_NObs.loc[0:73, 'Sentence'].values\n"
   ]
  },
  {
   "cell_type": "code",
   "execution_count": 33,
   "metadata": {},
   "outputs": [
    {
     "data": {
      "text/plain": [
       "74"
      ]
     },
     "execution_count": 33,
     "metadata": {},
     "output_type": "execute_result"
    }
   ],
   "source": [
    "number_of_samples = len(Y_Obs)\n",
    "Y_NObs=random.sample(Y_NObs,number_of_samples);\n",
    "len(Y_NObs)"
   ]
  },
  {
   "cell_type": "code",
   "execution_count": 34,
   "metadata": {},
   "outputs": [],
   "source": [
    "y=Y_NObs+Y_Obs"
   ]
  },
  {
   "cell_type": "code",
   "execution_count": 35,
   "metadata": {},
   "outputs": [],
   "source": [
    "X1=x_nobs.tolist()"
   ]
  },
  {
   "cell_type": "code",
   "execution_count": 36,
   "metadata": {},
   "outputs": [],
   "source": [
    "X2=x_obs.tolist()"
   ]
  },
  {
   "cell_type": "code",
   "execution_count": 37,
   "metadata": {},
   "outputs": [],
   "source": [
    "X=X1+X2"
   ]
  },
  {
   "cell_type": "markdown",
   "metadata": {},
   "source": [
    "# Distribution of Samples  after downsampling"
   ]
  },
  {
   "cell_type": "code",
   "execution_count": 38,
   "metadata": {},
   "outputs": [],
   "source": [
    "category=Counter(y)\n",
    "count=dict(category)"
   ]
  },
  {
   "cell_type": "code",
   "execution_count": 39,
   "metadata": {},
   "outputs": [
    {
     "data": {
      "text/plain": [
       "Text(0.5, 1.0, 'Distribution of samples over different classes')"
      ]
     },
     "execution_count": 39,
     "metadata": {},
     "output_type": "execute_result"
    },
    {
     "data": {
      "image/png": "[encoded data removed]",
      "text/plain": [
       "<Figure size 432x288 with 1 Axes>"
      ]
     },
     "metadata": {
      "needs_background": "light"
     },
     "output_type": "display_data"
    }
   ],
   "source": [
    "plt.bar(list(count.keys()),count.values(),color=\"r\",width=.4,tick_label=[\"1\",\"0\"])\n",
    "plt.title(\"Distribution of samples over different classes\")"
   ]
  },
  {
   "cell_type": "code",
   "execution_count": 40,
   "metadata": {},
   "outputs": [],
   "source": [
    "X,y = shuffle(X, y, random_state=42)\n",
    "X_train, X_test, y_train, y_test = train_test_split(\n",
    "X,y, test_size=0.10, random_state=42)  "
   ]
  },
  {
   "cell_type": "markdown",
   "metadata": {},
   "source": [
    "# 1- Random Forest"
   ]
  },
  {
   "cell_type": "code",
   "execution_count": 41,
   "metadata": {},
   "outputs": [
    {
     "data": {
      "text/plain": [
       "Pipeline(memory=None,\n",
       "         steps=[('vect',\n",
       "                 TfidfVectorizer(analyzer='word', binary=False,\n",
       "                                 decode_error='strict',\n",
       "                                 dtype=<class 'numpy.float64'>,\n",
       "                                 encoding='utf-8', input='content',\n",
       "                                 lowercase=True, max_df=1.0, max_features=None,\n",
       "                                 min_df=1, ngram_range=(1, 1), norm='l2',\n",
       "                                 preprocessor=None, smooth_idf=True,\n",
       "                                 stop_words=None, strip_accents=None,\n",
       "                                 sublinear_tf=False,\n",
       "                                 token_pattern='(...\n",
       "                 RandomForestClassifier(bootstrap=True, class_weight=None,\n",
       "                                        criterion='gini', max_depth=None,\n",
       "                                        max_features='auto',\n",
       "                                        max_leaf_nodes=None,\n",
       "                                        min_impurity_decrease=0.0,\n",
       "                                        min_impurity_split=None,\n",
       "                                        min_samples_leaf=1, min_samples_split=2,\n",
       "                                        min_weight_fraction_leaf=0.0,\n",
       "                                        n_estimators=10, n_jobs=None,\n",
       "                                        oob_score=False, random_state=None,\n",
       "                                        verbose=0, warm_start=False))],\n",
       "         verbose=False)"
      ]
     },
     "execution_count": 41,
     "metadata": {},
     "output_type": "execute_result"
    }
   ],
   "source": [
    "from sklearn.ensemble import RandomForestClassifier\n",
    "RF=RandomForestClassifier()\n",
    "trial_06=Pipeline([(\"vect\",vec),(\"clf\",RF)])\n",
    "trial_06.fit(X_train,y_train)"
   ]
  },
  {
   "cell_type": "code",
   "execution_count": 42,
   "metadata": {},
   "outputs": [
    {
     "name": "stdout",
     "output_type": "stream",
     "text": [
      "[0.9375     1.         0.9375     1.         1.         1.\n",
      " 0.85714286 1.         1.         1.        ]\n",
      "Accuracy of : 0.973 ± 0.092\n"
     ]
    }
   ],
   "source": [
    "cross_validation_accuracy(trial_06,X,y,cv=10)"
   ]
  },
  {
   "cell_type": "code",
   "execution_count": 43,
   "metadata": {},
   "outputs": [
    {
     "name": "stdout",
     "output_type": "stream",
     "text": [
      "              precision    recall  f1-score   support\n",
      "\n",
      "           0       0.96      0.96      0.96        74\n",
      "           1       0.96      0.96      0.96        74\n",
      "\n",
      "    accuracy                           0.96       148\n",
      "   macro avg       0.96      0.96      0.96       148\n",
      "weighted avg       0.96      0.96      0.96       148\n",
      "\n"
     ]
    }
   ],
   "source": [
    "y_pred = cross_val_predict(trial_06, X, y, cv=10)\n",
    "\n",
    "cr=classification_report(y,y_pred)\n",
    "print(cr)\n",
    "cm = confusion_matrix(y_pred,y)"
   ]
  },
  {
   "cell_type": "code",
   "execution_count": 44,
   "metadata": {},
   "outputs": [
    {
     "name": "stdout",
     "output_type": "stream",
     "text": [
      "[[71  3]\n",
      " [ 3 71]]\n"
     ]
    }
   ],
   "source": [
    "print(cm)"
   ]
  },
  {
   "cell_type": "code",
   "execution_count": 45,
   "metadata": {},
   "outputs": [
    {
     "data": {
      "image/png": "[encoded data removed]",
      "text/plain": [
       "<Figure size 432x288 with 2 Axes>"
      ]
     },
     "metadata": {
      "needs_background": "light"
     },
     "output_type": "display_data"
    }
   ],
   "source": [
    "Colorful_Confusion_Matrix(y=y,y_test=y,y_pred=y_pred)"
   ]
  },
  {
   "cell_type": "code",
   "execution_count": 46,
   "metadata": {},
   "outputs": [],
   "source": [
    "precision, recall, thresholds = precision_recall_curve(y,y_pred)  \n",
    "auc_score = auc(recall, precision)\n"
   ]
  },
  {
   "cell_type": "code",
   "execution_count": 47,
   "metadata": {},
   "outputs": [
    {
     "data": {
      "image/png": "[encoded data removed]",
      "text/plain": [
       "<Figure size 432x288 with 1 Axes>"
      ]
     },
     "metadata": {
      "needs_background": "light"
     },
     "output_type": "display_data"
    },
    {
     "name": "stdout",
     "output_type": "stream",
     "text": [
      "AUC: 0.970\n"
     ]
    }
   ],
   "source": [
    "plot_pr(recall, precision)"
   ]
  },
  {
   "cell_type": "markdown",
   "metadata": {},
   "source": [
    "## 1-SGD"
   ]
  },
  {
   "cell_type": "code",
   "execution_count": 48,
   "metadata": {},
   "outputs": [
    {
     "data": {
      "text/plain": [
       "Pipeline(memory=None,\n",
       "         steps=[('vect',\n",
       "                 TfidfVectorizer(analyzer='word', binary=False,\n",
       "                                 decode_error='strict',\n",
       "                                 dtype=<class 'numpy.float64'>,\n",
       "                                 encoding='utf-8', input='content',\n",
       "                                 lowercase=True, max_df=1.0, max_features=None,\n",
       "                                 min_df=1, ngram_range=(1, 1), norm='l2',\n",
       "                                 preprocessor=None, smooth_idf=True,\n",
       "                                 stop_words=None, strip_accents=None,\n",
       "                                 sublinear_tf=False,\n",
       "                                 token_pattern='(...\n",
       "                 SGDClassifier(alpha=0.0001, average=False, class_weight=None,\n",
       "                               early_stopping=False, epsilon=0.1, eta0=0.0,\n",
       "                               fit_intercept=True, l1_ratio=0.15,\n",
       "                               learning_rate='optimal', loss='hinge',\n",
       "                               max_iter=1000, n_iter_no_change=5, n_jobs=None,\n",
       "                               penalty='l2', power_t=0.5, random_state=None,\n",
       "                               shuffle=True, tol=0.001, validation_fraction=0.1,\n",
       "                               verbose=0, warm_start=False))],\n",
       "         verbose=False)"
      ]
     },
     "execution_count": 48,
     "metadata": {},
     "output_type": "execute_result"
    }
   ],
   "source": [
    "trial_05.fit(X_train,y_train)"
   ]
  },
  {
   "cell_type": "code",
   "execution_count": 49,
   "metadata": {},
   "outputs": [],
   "source": [
    "y_pred=trial_05.predict(X_test)"
   ]
  },
  {
   "cell_type": "code",
   "execution_count": 50,
   "metadata": {},
   "outputs": [
    {
     "name": "stdout",
     "output_type": "stream",
     "text": [
      "[[7 0]\n",
      " [0 8]]\n",
      "              precision    recall  f1-score   support\n",
      "\n",
      "           0       1.00      1.00      1.00         7\n",
      "           1       1.00      1.00      1.00         8\n",
      "\n",
      "    accuracy                           1.00        15\n",
      "   macro avg       1.00      1.00      1.00        15\n",
      "weighted avg       1.00      1.00      1.00        15\n",
      "\n"
     ]
    }
   ],
   "source": [
    "cm=confusion_matrix(y_test,y_pred)\n",
    "print(cm)\n",
    "cr=classification_report(y_test,y_pred)\n",
    "print(cr)\n",
    "#Colorful_Confusion_Matrix(y, y_test, y_pred)\n"
   ]
  },
  {
   "cell_type": "code",
   "execution_count": 51,
   "metadata": {},
   "outputs": [
    {
     "name": "stdout",
     "output_type": "stream",
     "text": [
      "[1.         1.         1.         1.         1.         1.\n",
      " 0.92857143 1.         1.         0.92857143]\n",
      "Accuracy of : 0.986 ± 0.057\n"
     ]
    }
   ],
   "source": [
    "cross_validation_accuracy(trial_05,X,y,cv=10)"
   ]
  },
  {
   "cell_type": "code",
   "execution_count": 52,
   "metadata": {},
   "outputs": [
    {
     "name": "stdout",
     "output_type": "stream",
     "text": [
      "              precision    recall  f1-score   support\n",
      "\n",
      "           0       1.00      0.97      0.99        74\n",
      "           1       0.97      1.00      0.99        74\n",
      "\n",
      "    accuracy                           0.99       148\n",
      "   macro avg       0.99      0.99      0.99       148\n",
      "weighted avg       0.99      0.99      0.99       148\n",
      "\n",
      "[[72  0]\n",
      " [ 2 74]]\n"
     ]
    }
   ],
   "source": [
    "y_pred = cross_val_predict(trial_05, X, y, cv=10)\n",
    "\n",
    "cr=classification_report(y,y_pred)\n",
    "print(cr)\n",
    "cm = confusion_matrix(y_pred,y)\n",
    "print(cm)"
   ]
  },
  {
   "cell_type": "code",
   "execution_count": 53,
   "metadata": {},
   "outputs": [
    {
     "data": {
      "image/png": "[encoded data removed]",
      "text/plain": [
       "<Figure size 432x288 with 2 Axes>"
      ]
     },
     "metadata": {
      "needs_background": "light"
     },
     "output_type": "display_data"
    }
   ],
   "source": [
    "Colorful_Confusion_Matrix(y=y,y_test=y,y_pred=y_pred)"
   ]
  },
  {
   "cell_type": "code",
   "execution_count": 54,
   "metadata": {},
   "outputs": [],
   "source": [
    "precision, recall, thresholds = precision_recall_curve(y,y_pred)  \n",
    "auc_score = auc(recall, precision)\n"
   ]
  },
  {
   "cell_type": "code",
   "execution_count": 55,
   "metadata": {},
   "outputs": [
    {
     "data": {
      "image/png": "[encoded data removed]",
      "text/plain": [
       "<Figure size 432x288 with 1 Axes>"
      ]
     },
     "metadata": {
      "needs_background": "light"
     },
     "output_type": "display_data"
    },
    {
     "name": "stdout",
     "output_type": "stream",
     "text": [
      "AUC: 0.987\n"
     ]
    }
   ],
   "source": [
    "plot_pr(recall, precision)"
   ]
  },
  {
   "cell_type": "code",
   "execution_count": 56,
   "metadata": {},
   "outputs": [],
   "source": [
    "# Save the down sampled model for further use in "
   ]
  },
  {
   "cell_type": "markdown",
   "metadata": {},
   "source": [
    "import pickle\n",
    "saved_model = pickle.dumps(trial_06)"
   ]
  },
  {
   "cell_type": "markdown",
   "metadata": {},
   "source": [
    "Pkl_Filename = \"Pickle_RF_RESAMPLED_Model_02.pkl\"  \n",
    "\n",
    "with open(Pkl_Filename, 'wb') as file:  \n",
    "    pickle.dump(trial_06, file)"
   ]
  }
 ],
 "metadata": {
  "kernelspec": {
   "display_name": "Python 3",
   "language": "python",
   "name": "python3"
  },
  "language_info": {
   "codemirror_mode": {
    "name": "ipython",
    "version": 3
   },
   "file_extension": ".py",
   "mimetype": "text/x-python",
   "name": "python",
   "nbconvert_exporter": "python",
   "pygments_lexer": "ipython3",
   "version": "3.7.4"
  }
 },
 "nbformat": 4,
 "nbformat_minor": 4
}
