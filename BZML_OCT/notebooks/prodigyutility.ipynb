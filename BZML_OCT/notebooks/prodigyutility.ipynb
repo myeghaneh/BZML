{
 "cells": [
  {
   "cell_type": "markdown",
   "metadata": {},
   "source": [
    "# Prodigy's usefull function and scripts"
   ]
  },
  {
   "cell_type": "markdown",
   "metadata": {},
   "source": [
    "In this notebook you can find all the usefull  scripts that has been used in the project"
   ]
  },
  {
   "cell_type": "code",
   "execution_count": 3,
   "metadata": {},
   "outputs": [],
   "source": [
    "import pandas as pd\n",
    "import numpy as np\n",
    "import re\n",
    "import pandas as pd\n",
    "import matplotlib.pyplot as plt\n",
    "import scipy as sp\n",
    "import spacy \n",
    "import re\n",
    "from prodigy.util import write_jsonl\n",
    "import jsonlines\n"
   ]
  },
  {
   "cell_type": "code",
   "execution_count": 36,
   "metadata": {},
   "outputs": [],
   "source": [
    "{\"text\":\"demonstrations of the preceding chapter.\",\"spans\":[],\"_input_hash\":-186102312,\"_task_hash\":171862029,\"answer\":\"accept\"}\n",
    "\n",
    "b={\"text\":\"Therefore, as 100,000 is to 70,711, so is 7560 to 5346, the sine of the arc of 3\\u00b0 4' 52\\\", which is CEB.\",\"spans\":[{\"start\":14,\"end\":21,\"label\":\"PARA\",\"answer\":\"accept\"},{\"start\":79,\"end\":88,\"label\":\"LONG\",\"answer\":\"accept\"}],\"_input_hash\":16621573,\"_task_hash\":-706401107,\"answer\":\"accept\"}"
   ]
  },
  {
   "cell_type": "code",
   "execution_count": 37,
   "metadata": {},
   "outputs": [
    {
     "data": {
      "text/plain": [
       "dict"
      ]
     },
     "execution_count": 37,
     "metadata": {},
     "output_type": "execute_result"
    }
   ],
   "source": [
    "type(b)"
   ]
  },
  {
   "cell_type": "code",
   "execution_count": 179,
   "metadata": {},
   "outputs": [
    {
     "data": {
      "text/plain": [
       "'C:\\\\Projects_28_06\\\\notebooks\\\\yeghaneh\\\\BZML_OCT\\\\notebooks'"
      ]
     },
     "execution_count": 179,
     "metadata": {},
     "output_type": "execute_result"
    }
   ],
   "source": [
    "pwd"
   ]
  },
  {
   "cell_type": "code",
   "execution_count": 178,
   "metadata": {},
   "outputs": [],
   "source": [
    "path= '../data/DATA_MERGED_V12.jsonl'\n",
    "with jsonlines.open(path) as reader:\n",
    "    a=[]\n",
    "    for example in reader:\n",
    "        if example[\"spans\"]==[]:\n",
    "            del example[\"_input_hash\"],example[\"_task_hash\"],example[\"answer\"]\n",
    "        else:\n",
    "            del example[\"_input_hash\"],example[\"_task_hash\"],example[\"answer\"]\n",
    "            for lst in example[\"spans\"]:\n",
    "                \n",
    "                del lst[\"answer\"]\n",
    "        a.append(example)\n",
    "write_jsonl(\"DATA_MERGED_EDIT_V15.jsonl\", a)\n",
    "        \n",
    "    "
   ]
  },
  {
   "cell_type": "code",
   "execution_count": 2,
   "metadata": {},
   "outputs": [],
   "source": [
    "b={\"text\":\"Therefore, as 100,000 is to 70,711, so is 7560 to 5346, the sine of the arc of 3\\u00b0 4' 52\\\", which is CEB.\",\"spans\":[{\"start\":14,\"end\":21,\"label\":\"PARA\"},{\"start\":42,\"end\":46,\"label\":\"PARA\"},{\"start\":79,\"end\":88,\"label\":\"LONG\"}]}\n"
   ]
  },
  {
   "cell_type": "markdown",
   "metadata": {},
   "source": [
    "# The second Function"
   ]
  },
  {
   "cell_type": "code",
   "execution_count": 3,
   "metadata": {},
   "outputs": [
    {
     "data": {
      "text/plain": [
       "('As shown in Figure 2B, the Sun is assumed to be at the center of the planetary system.',\n",
       " {'entities': [(27, 30, 'PLAN')]})"
      ]
     },
     "execution_count": 3,
     "metadata": {},
     "output_type": "execute_result"
    }
   ],
   "source": [
    "(\"As shown in Figure 2B, the Sun is assumed to be at the center of the planetary system.\",{\"entities\": [(27, 30, 'PLAN')]})\n"
   ]
  },
  {
   "cell_type": "code",
   "execution_count": 4,
   "metadata": {},
   "outputs": [],
   "source": [
    "a=[{\"text\":\"To find the position of Mars at opposition, Kepler computed the angular distance that Mars and Earth\\u2014now substituting the place of the Sun\\u2014moved during 17 hours 20 minutes; Mars moved eastward about 16' 20\\\" and the Sun westward about 42' 18\\\".\",\"spans\":[{\"start\":152,\"end\":171,\"label\":\"TIME\"},{\"start\":32,\"end\":42,\"label\":\"ASTR\"},{\"start\":184,\"end\":192,\"label\":\"ASTR\"},{\"start\":199,\"end\":206,\"label\":\"LONG\"},{\"start\":234,\"end\":241,\"label\":\"LONG\"},{\"start\":24,\"end\":28,\"label\":\"PLAN\"},{\"start\":86,\"end\":90,\"label\":\"PLAN\"},{\"start\":95,\"end\":100,\"label\":\"PLAN\"},{\"start\":135,\"end\":138,\"label\":\"PLAN\"},{\"start\":173,\"end\":177,\"label\":\"PLAN\"},{\"start\":215,\"end\":218,\"label\":\"PLAN\"}]}\n",
    ",{\"text\":\"Accordingly, Kepler determined the longitude of Mars at opposition to be 198\\u00b0 37' 50\\\" from which he subtracted about 39\\\" in order to correct Mars's orbit; he got 198\\u00b0 37' 10\\\" (18\\u00b0 37' 10\\\" Libra).\",\"spans\":[{\"start\":35,\"end\":44,\"label\":\"ASTR\"},{\"start\":56,\"end\":66,\"label\":\"ASTR\"},{\"start\":148,\"end\":153,\"label\":\"ASTR\"},{\"start\":73,\"end\":85,\"label\":\"LONG\"},{\"start\":162,\"end\":174,\"label\":\"LONG\"},{\"start\":176,\"end\":193,\"label\":\"LONG\"},{\"start\":48,\"end\":52,\"label\":\"PLAN\"},{\"start\":141,\"end\":145,\"label\":\"PLAN\"}]},{\"text\":\"The Sun moved westward and its longitude decreased from the time of observation to its position opposite to Mars.\",\"spans\":[{\"start\":31,\"end\":40,\"label\":\"ASTR\"},{\"start\":68,\"end\":79,\"label\":\"ASTR\"},{\"start\":4,\"end\":7,\"label\":\"PLAN\"},{\"start\":108,\"end\":112,\"label\":\"PLAN\"}]}\n",
    ",{\"text\":\"Therefore, the time of opposition is 17 hours 20 minutes before March 29, at 21:43, the time when the observation was made.\",\"spans\":[{\"start\":64,\"end\":72,\"label\":\"DATE\"},{\"start\":37,\"end\":56,\"label\":\"TIME\"},{\"start\":23,\"end\":33,\"label\":\"ASTR\"},{\"start\":102,\"end\":113,\"label\":\"ASTR\"}]}]\n"
   ]
  },
  {
   "cell_type": "code",
   "execution_count": 5,
   "metadata": {},
   "outputs": [
    {
     "data": {
      "text/plain": [
       "list"
      ]
     },
     "execution_count": 5,
     "metadata": {},
     "output_type": "execute_result"
    }
   ],
   "source": [
    "type(a)"
   ]
  },
  {
   "cell_type": "code",
   "execution_count": 182,
   "metadata": {},
   "outputs": [
    {
     "data": {
      "text/plain": [
       "'C:\\\\Projects_28_06\\\\notebooks\\\\yeghaneh\\\\BZML_OCT\\\\notebooks'"
      ]
     },
     "execution_count": 182,
     "metadata": {},
     "output_type": "execute_result"
    }
   ],
   "source": [
    "pwd"
   ]
  },
  {
   "cell_type": "code",
   "execution_count": 191,
   "metadata": {},
   "outputs": [],
   "source": [
    "path= '../data/DATA_MERGED_EDIT_V15.jsonl'\n",
    "c=[]\n",
    "with jsonlines.open(path) as reader:\n",
    "    for example in reader:\n",
    "        d={}\n",
    "        d['text']=example[\"text\"]    \n",
    "        for lst in b[\"spans\"]:\n",
    "            d.setdefault('entities', [])\n",
    "            d['entities'].append((lst[\"start\"],lst[\"end\"],lst[\"label\"]))\n",
    "        l = [ [k,v] for k, v in d.items() ]\n",
    "        del l[0][0]\n",
    "        l=sum(l, [])\n",
    "        l=tuple(l)\n",
    "        txt=l[0]\n",
    "        ent=dict([l[1:]])\n",
    "        j=k+(txt,)+(ent,)    \n",
    "        c.append(j)"
   ]
  },
  {
   "cell_type": "code",
   "execution_count": 194,
   "metadata": {},
   "outputs": [
    {
     "data": {
      "text/plain": [
       "[('On the distinction between the first motion and the second or proper motions; and in the proper motions, between the first and the second inequality.',\n",
       "  {'entities': [(14, 21, 'PARA'), (42, 46, 'PARA'), (79, 88, 'LONG')]}),\n",
       " ('The testimony of the ages confirms that the motions of the planets are orbicular.',\n",
       "  {'entities': [(14, 21, 'PARA'), (42, 46, 'PARA'), (79, 88, 'LONG')]}),\n",
       " ('Reason, having borrowed from experience, immediately presumes this: that their gyrations are perfect circles.',\n",
       "  {'entities': [(14, 21, 'PARA'), (42, 46, 'PARA'), (79, 88, 'LONG')]}),\n",
       " ('For among figures it is circles, and among bodies the heavens, that are considered the most perfect.',\n",
       "  {'entities': [(14, 21, 'PARA'), (42, 46, 'PARA'), (79, 88, 'LONG')]}),\n",
       " ('However, when experience seems to teach something different to those who pay careful attention, namely, that the planets deviate from a simple circular path, it gives rise to a powerful sense of wonder, which at length drives people to look into causes.',\n",
       "  {'entities': [(14, 21, 'PARA'), (42, 46, 'PARA'), (79, 88, 'LONG')]}),\n",
       " ('It is just this from which astronomy arose among humans.',\n",
       "  {'entities': [(14, 21, 'PARA'), (42, 46, 'PARA'), (79, 88, 'LONG')]}),\n",
       " (\"Astronomy's aim is considered to be to show why the stars' motions appear to be irregular on earth, despite their being exceedingly well ordered in heaven, and to investigate the specific circles whereby the stars may be moved, so that by their aid the positions and appearances of those stars at any given time may be predicted.\",\n",
       "  {'entities': [(14, 21, 'PARA'), (42, 46, 'PARA'), (79, 88, 'LONG')]}),\n",
       " ('Before the distinction between the first motion(1) and the second motions(2) was established, people noted (in contemplating the sun, moon and stars) that their diurnal paths were visually very nearly equivalent to circles.',\n",
       "  {'entities': [(14, 21, 'PARA'), (42, 46, 'PARA'), (79, 88, 'LONG')]}),\n",
       " ('These were, however, entwined one upon another like yarn on a ball, and the circles were for the most part smaller(3) circles of the sphere, rarely the greatest(4) (such',\n",
       "  {'entities': [(14, 21, 'PARA'), (42, 46, 'PARA'), (79, 88, 'LONG')]})]"
      ]
     },
     "execution_count": 194,
     "metadata": {},
     "output_type": "execute_result"
    }
   ],
   "source": [
    "c[1:10]\n"
   ]
  },
  {
   "cell_type": "code",
   "execution_count": 172,
   "metadata": {},
   "outputs": [
    {
     "data": {
      "text/plain": [
       "[('Therefore, as 100,000 is to 70,711, so is 7560 to 5346, the sine of the arc of 3° 4\\' 52\", which is CEB.',\n",
       "  {'entities': [(14, 21, 'PARA'), (42, 46, 'PARA'), (79, 88, 'LONG')]})]"
      ]
     },
     "execution_count": 172,
     "metadata": {},
     "output_type": "execute_result"
    }
   ],
   "source": [
    "c"
   ]
  },
  {
   "cell_type": "code",
   "execution_count": 64,
   "metadata": {},
   "outputs": [
    {
     "data": {
      "text/plain": [
       "dict"
      ]
     },
     "execution_count": 64,
     "metadata": {},
     "output_type": "execute_result"
    }
   ],
   "source": [
    "z=c[1]\n",
    "type(z)"
   ]
  },
  {
   "cell_type": "code",
   "execution_count": 59,
   "metadata": {},
   "outputs": [],
   "source": [
    "L=k.items()\n",
    "l=list(L)"
   ]
  },
  {
   "cell_type": "code",
   "execution_count": 53,
   "metadata": {},
   "outputs": [
    {
     "data": {
      "text/plain": [
       "'text'"
      ]
     },
     "execution_count": 53,
     "metadata": {},
     "output_type": "execute_result"
    }
   ],
   "source": [
    "type(l)\n",
    "list(l[0]).pop(0)\n"
   ]
  },
  {
   "cell_type": "code",
   "execution_count": 75,
   "metadata": {},
   "outputs": [
    {
     "data": {
      "text/plain": [
       "('As shown in Figure 2B, the Sun is assumed to be at the center of the planetary system.',\n",
       " {'entities': [(27, 30, 'PLAN')]})"
      ]
     },
     "execution_count": 75,
     "metadata": {},
     "output_type": "execute_result"
    }
   ],
   "source": [
    "(\"As shown in Figure 2B, the Sun is assumed to be at the center of the planetary system.\",{\"entities\": [(27, 30, 'PLAN')]})"
   ]
  },
  {
   "cell_type": "code",
   "execution_count": 146,
   "metadata": {},
   "outputs": [
    {
     "data": {
      "text/plain": [
       "('Therefore, as 100,000 is to 70,711, so is 7560 to 5346, the sine of the arc of 3° 4\\' 52\", which is CEB.',\n",
       " {'entities': [(14, 21, 'PARA'), (42, 46, 'PARA'), (79, 88, 'LONG')]})"
      ]
     },
     "execution_count": 146,
     "metadata": {},
     "output_type": "execute_result"
    }
   ],
   "source": [
    "lst = [ [k,v] for k, v in z.items() ]\n",
    "del lst[0][0]\n",
    "lst=sum(lst, [])\n",
    "lst=tuple(lst)\n",
    "txt=lst[0]\n",
    "ent=dict([lst[1:]])\n",
    "k+(txt,)+(ent,)"
   ]
  },
  {
   "cell_type": "code",
   "execution_count": 113,
   "metadata": {},
   "outputs": [
    {
     "data": {
      "text/plain": [
       "['Therefore, as 100,000 is to 70,711, so is 7560 to 5346, the sine of the arc of 3° 4\\' 52\", which is CEB.',\n",
       " 'entities',\n",
       " [(14, 21, 'PARA'), (42, 46, 'PARA'), (79, 88, 'LONG')]]"
      ]
     },
     "execution_count": 113,
     "metadata": {},
     "output_type": "execute_result"
    }
   ],
   "source": [
    "lst"
   ]
  },
  {
   "cell_type": "code",
   "execution_count": 58,
   "metadata": {},
   "outputs": [],
   "source": [
    "import spacy\n",
    "from spacy.gold import GoldParse\n",
    "from spacy.scorer import Scorer\n",
    "\n",
    "def evaluate(nlp, examples, ent=\"PARA\"):\n",
    "    scorer = Scorer()\n",
    "    for input_, annot in examples:\n",
    "        text_entities = []\n",
    "        for entity in annot.get('entities'):\n",
    "            if ent in entity:\n",
    "                text_entities.append(entity)\n",
    "        doc_gold_text = nlp.make_doc(input_)\n",
    "        gold = GoldParse(doc_gold_text, entities=text_entities)\n",
    "        pred_value = nlp(input_)\n",
    "        scorer.score(pred_value, gold)\n",
    "    return scorer.scores\n",
    "\n"
   ]
  },
  {
   "cell_type": "code",
   "execution_count": 66,
   "metadata": {},
   "outputs": [
    {
     "data": {
      "text/plain": [
       "6653"
      ]
     },
     "execution_count": 66,
     "metadata": {},
     "output_type": "execute_result"
    }
   ],
   "source": [
    "len(example)"
   ]
  },
  {
   "cell_type": "code",
   "execution_count": 59,
   "metadata": {},
   "outputs": [
    {
     "data": {
      "text/plain": [
       "{'uas': 0.0,\n",
       " 'las': 0.0,\n",
       " 'ents_p': 0.9019724452373873,\n",
       " 'ents_r': 79.82456140350878,\n",
       " 'ents_f': 1.7837890816426543,\n",
       " 'ents_per_type': {'ASTR': {'p': 0.0, 'r': 0.0, 'f': 0.0},\n",
       "  'GEOM': {'p': 0.0, 'r': 0.0, 'f': 0.0},\n",
       "  'NAME': {'p': 0.0, 'r': 0.0, 'f': 0.0},\n",
       "  'PLAN': {'p': 0.0, 'r': 0.0, 'f': 0.0},\n",
       "  'PARA': {'p': 0.0, 'r': 0.0, 'f': 0.0},\n",
       "  'LONG': {'p': 0.0, 'r': 0.0, 'f': 0.0},\n",
       "  'DATE': {'p': 0.0, 'r': 0.0, 'f': 0.0},\n",
       "  'TIME': {'p': 0.0, 'r': 0.0, 'f': 0.0},\n",
       "  'STAR': {'p': 88.3495145631068,\n",
       "   'r': 79.82456140350878,\n",
       "   'f': 83.87096774193549}},\n",
       " 'tags_acc': 0.0,\n",
       " 'token_acc': 100.0}"
      ]
     },
     "execution_count": 59,
     "metadata": {},
     "output_type": "execute_result"
    }
   ],
   "source": [
    "path= '../data/DATA_MERGED_GOLD_V14.jsonl'\n",
    "example=[]\n",
    "with jsonlines.open(path) as reader:\n",
    "    for ex in reader:\n",
    "         example.append(ex)\n",
    "model_path= '../data/Model_U27'\n",
    "nlp=spacy.load(model_path)\n",
    "results = evaluate(nlp, example,ent=\"STAR\")\n",
    "results"
   ]
  },
  {
   "cell_type": "code",
   "execution_count": 45,
   "metadata": {},
   "outputs": [
    {
     "ename": "ValueError",
     "evalue": "[E067] Invalid BILUO tag sequence: Got a tag starting with 'I' (inside an entity) without a preceding 'B' (beginning of an entity). Tag sequence:\n['O', 'O', 'O', 'U-PARA', 'I-DATE']",
     "output_type": "error",
     "traceback": [
      "\u001b[1;31m---------------------------------------------------------------------------\u001b[0m",
      "\u001b[1;31mValueError\u001b[0m                                Traceback (most recent call last)",
      "\u001b[1;32m<ipython-input-45-709117ae6c4f>\u001b[0m in \u001b[0;36m<module>\u001b[1;34m\u001b[0m\n\u001b[1;32m----> 1\u001b[1;33m \u001b[0mscorer\u001b[0m \u001b[1;33m=\u001b[0m \u001b[0mnlp\u001b[0m\u001b[1;33m.\u001b[0m\u001b[0mevaluate\u001b[0m\u001b[1;33m(\u001b[0m\u001b[0mexample\u001b[0m\u001b[1;33m,\u001b[0m \u001b[0mverbose\u001b[0m\u001b[1;33m=\u001b[0m\u001b[1;32mFalse\u001b[0m\u001b[1;33m)\u001b[0m\u001b[1;33m\u001b[0m\u001b[1;33m\u001b[0m\u001b[0m\n\u001b[0m\u001b[0;32m      2\u001b[0m \u001b[0mprint\u001b[0m\u001b[1;33m(\u001b[0m\u001b[0mscorer\u001b[0m\u001b[1;33m.\u001b[0m\u001b[0mscores\u001b[0m\u001b[1;33m)\u001b[0m\u001b[1;33m\u001b[0m\u001b[1;33m\u001b[0m\u001b[0m\n",
      "\u001b[1;32mc:\\users\\moha\\anaconda3\\lib\\site-packages\\spacy\\language.py\u001b[0m in \u001b[0;36mevaluate\u001b[1;34m(self, docs_golds, verbose, batch_size, scorer, component_cfg)\u001b[0m\n\u001b[0;32m    648\u001b[0m             \u001b[0mkwargs\u001b[0m \u001b[1;33m=\u001b[0m \u001b[0mcomponent_cfg\u001b[0m\u001b[1;33m.\u001b[0m\u001b[0mget\u001b[0m\u001b[1;33m(\u001b[0m\u001b[1;34m\"scorer\"\u001b[0m\u001b[1;33m,\u001b[0m \u001b[1;33m{\u001b[0m\u001b[1;33m}\u001b[0m\u001b[1;33m)\u001b[0m\u001b[1;33m\u001b[0m\u001b[1;33m\u001b[0m\u001b[0m\n\u001b[0;32m    649\u001b[0m             \u001b[0mkwargs\u001b[0m\u001b[1;33m.\u001b[0m\u001b[0msetdefault\u001b[0m\u001b[1;33m(\u001b[0m\u001b[1;34m\"verbose\"\u001b[0m\u001b[1;33m,\u001b[0m \u001b[0mverbose\u001b[0m\u001b[1;33m)\u001b[0m\u001b[1;33m\u001b[0m\u001b[1;33m\u001b[0m\u001b[0m\n\u001b[1;32m--> 650\u001b[1;33m             \u001b[0mscorer\u001b[0m\u001b[1;33m.\u001b[0m\u001b[0mscore\u001b[0m\u001b[1;33m(\u001b[0m\u001b[0mdoc\u001b[0m\u001b[1;33m,\u001b[0m \u001b[0mgold\u001b[0m\u001b[1;33m,\u001b[0m \u001b[1;33m**\u001b[0m\u001b[0mkwargs\u001b[0m\u001b[1;33m)\u001b[0m\u001b[1;33m\u001b[0m\u001b[1;33m\u001b[0m\u001b[0m\n\u001b[0m\u001b[0;32m    651\u001b[0m         \u001b[1;32mreturn\u001b[0m \u001b[0mscorer\u001b[0m\u001b[1;33m\u001b[0m\u001b[1;33m\u001b[0m\u001b[0m\n\u001b[0;32m    652\u001b[0m \u001b[1;33m\u001b[0m\u001b[0m\n",
      "\u001b[1;32mc:\\users\\moha\\anaconda3\\lib\\site-packages\\spacy\\scorer.py\u001b[0m in \u001b[0;36mscore\u001b[1;34m(self, doc, gold, verbose, punct_labels)\u001b[0m\n\u001b[0;32m    134\u001b[0m         \u001b[0mgold_deps\u001b[0m \u001b[1;33m=\u001b[0m \u001b[0mset\u001b[0m\u001b[1;33m(\u001b[0m\u001b[1;33m)\u001b[0m\u001b[1;33m\u001b[0m\u001b[1;33m\u001b[0m\u001b[0m\n\u001b[0;32m    135\u001b[0m         \u001b[0mgold_tags\u001b[0m \u001b[1;33m=\u001b[0m \u001b[0mset\u001b[0m\u001b[1;33m(\u001b[0m\u001b[1;33m)\u001b[0m\u001b[1;33m\u001b[0m\u001b[1;33m\u001b[0m\u001b[0m\n\u001b[1;32m--> 136\u001b[1;33m         \u001b[0mgold_ents\u001b[0m \u001b[1;33m=\u001b[0m \u001b[0mset\u001b[0m\u001b[1;33m(\u001b[0m\u001b[0mtags_to_entities\u001b[0m\u001b[1;33m(\u001b[0m\u001b[1;33m[\u001b[0m\u001b[0mannot\u001b[0m\u001b[1;33m[\u001b[0m\u001b[1;33m-\u001b[0m\u001b[1;36m1\u001b[0m\u001b[1;33m]\u001b[0m \u001b[1;32mfor\u001b[0m \u001b[0mannot\u001b[0m \u001b[1;32min\u001b[0m \u001b[0mgold\u001b[0m\u001b[1;33m.\u001b[0m\u001b[0morig_annot\u001b[0m\u001b[1;33m]\u001b[0m\u001b[1;33m)\u001b[0m\u001b[1;33m)\u001b[0m\u001b[1;33m\u001b[0m\u001b[1;33m\u001b[0m\u001b[0m\n\u001b[0m\u001b[0;32m    137\u001b[0m         \u001b[1;32mfor\u001b[0m \u001b[0mid_\u001b[0m\u001b[1;33m,\u001b[0m \u001b[0mword\u001b[0m\u001b[1;33m,\u001b[0m \u001b[0mtag\u001b[0m\u001b[1;33m,\u001b[0m \u001b[0mhead\u001b[0m\u001b[1;33m,\u001b[0m \u001b[0mdep\u001b[0m\u001b[1;33m,\u001b[0m \u001b[0mner\u001b[0m \u001b[1;32min\u001b[0m \u001b[0mgold\u001b[0m\u001b[1;33m.\u001b[0m\u001b[0morig_annot\u001b[0m\u001b[1;33m:\u001b[0m\u001b[1;33m\u001b[0m\u001b[1;33m\u001b[0m\u001b[0m\n\u001b[0;32m    138\u001b[0m             \u001b[0mgold_tags\u001b[0m\u001b[1;33m.\u001b[0m\u001b[0madd\u001b[0m\u001b[1;33m(\u001b[0m\u001b[1;33m(\u001b[0m\u001b[0mid_\u001b[0m\u001b[1;33m,\u001b[0m \u001b[0mtag\u001b[0m\u001b[1;33m)\u001b[0m\u001b[1;33m)\u001b[0m\u001b[1;33m\u001b[0m\u001b[1;33m\u001b[0m\u001b[0m\n",
      "\u001b[1;32mgold.pyx\u001b[0m in \u001b[0;36mspacy.gold.tags_to_entities\u001b[1;34m()\u001b[0m\n",
      "\u001b[1;31mValueError\u001b[0m: [E067] Invalid BILUO tag sequence: Got a tag starting with 'I' (inside an entity) without a preceding 'B' (beginning of an entity). Tag sequence:\n['O', 'O', 'O', 'U-PARA', 'I-DATE']"
     ]
    }
   ],
   "source": [
    "scorer = nlp.evaluate(example, verbose=False)\n",
    "print(scorer.scores)\n"
   ]
  },
  {
   "cell_type": "code",
   "execution_count": null,
   "metadata": {},
   "outputs": [],
   "source": []
  },
  {
   "cell_type": "code",
   "execution_count": 64,
   "metadata": {},
   "outputs": [],
   "source": [
    "import spacy\n",
    "from spacy.gold import GoldParse\n",
    "from spacy.scorer import Scorer\n",
    "\n",
    "def Eval(examples):\n",
    "    # test the saved model\n",
    "    print(\"Loading from\", './Model_U27/')\n",
    "    model_path= '../data/Model_U27'\n",
    "    ner_model=spacy.load(model_path)\n",
    "    scorer = Scorer()\n",
    "    try:\n",
    "        for input_, annot in examples:\n",
    "            doc_gold_text = ner_model.make_doc(input_)\n",
    "            gold = GoldParse(doc_gold_text, entities=annot['entities'])\n",
    "            pred_value = ner_model(input_)\n",
    "            scorer.score(pred_value, gold)\n",
    "    except Exception as e: print(e)\n",
    "    print(scorer.scores)"
   ]
  },
  {
   "cell_type": "code",
   "execution_count": 65,
   "metadata": {},
   "outputs": [
    {
     "name": "stdout",
     "output_type": "stream",
     "text": [
      "Loading from ./model6/\n",
      "[E067] Invalid BILUO tag sequence: Got a tag starting with 'I' (inside an entity) without a preceding 'B' (beginning of an entity). Tag sequence:\n",
      "['O', 'O', 'O', 'U-PARA', 'I-DATE']\n",
      "{'uas': 0.0, 'las': 0.0, 'ents_p': 99.54797616601603, 'ents_r': 99.54797616601603, 'ents_f': 99.54797616601603, 'ents_per_type': {'ASTR': {'p': 99.80992608236537, 'r': 99.9154334038055, 'f': 99.86265187533017}, 'GEOM': {'p': 100.0, 'r': 99.85007496251875, 'f': 99.92498124531133}, 'NAME': {'p': 100.0, 'r': 99.25742574257426, 'f': 99.62732919254658}, 'PLAN': {'p': 99.88571428571429, 'r': 99.77168949771689, 'f': 99.82866933181039}, 'PARA': {'p': 98.51598173515981, 'r': 99.76878612716763, 'f': 99.13842619184378}, 'LONG': {'p': 99.7651203758074, 'r': 99.88242210464433, 'f': 99.82373678025851}, 'DATE': {'p': 99.5049504950495, 'r': 99.5049504950495, 'f': 99.5049504950495}, 'TIME': {'p': 97.97979797979798, 'r': 97.0, 'f': 97.48743718592964}, 'STAR': {'p': 84.61538461538461, 'r': 74.15730337078652, 'f': 79.04191616766467}}, 'tags_acc': 0.0, 'token_acc': 100.0}\n"
     ]
    }
   ],
   "source": [
    "Eval(example)"
   ]
  },
  {
   "cell_type": "code",
   "execution_count": null,
   "metadata": {},
   "outputs": [],
   "source": []
  }
 ],
 "metadata": {
  "kernelspec": {
   "display_name": "Python 3",
   "language": "python",
   "name": "python3"
  },
  "language_info": {
   "codemirror_mode": {
    "name": "ipython",
    "version": 3
   },
   "file_extension": ".py",
   "mimetype": "text/x-python",
   "name": "python",
   "nbconvert_exporter": "python",
   "pygments_lexer": "ipython3",
   "version": "3.7.4"
  }
 },
 "nbformat": 4,
 "nbformat_minor": 4
}
