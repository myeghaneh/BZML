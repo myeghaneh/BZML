{
 "cells": [
  {
   "cell_type": "markdown",
   "metadata": {},
   "source": [
    "# Prodigy's usefull function and scripts"
   ]
  },
  {
   "cell_type": "markdown",
   "metadata": {},
   "source": [
    "In this notebook you can find all the usefull  scripts that has been used in the project"
   ]
  },
  {
   "cell_type": "code",
   "execution_count": 11,
   "metadata": {},
   "outputs": [],
   "source": [
    "import pandas as pd\n",
    "import numpy as np\n",
    "import re\n",
    "import pandas as pd\n",
    "import matplotlib.pyplot as plt\n",
    "import scipy as sp\n",
    "import spacy \n",
    "import re\n",
    "from prodigy.util import write_jsonl\n",
    "import jsonlines\n"
   ]
  },
  {
   "cell_type": "code",
   "execution_count": 36,
   "metadata": {},
   "outputs": [],
   "source": [
    "{\"text\":\"demonstrations of the preceding chapter.\",\"spans\":[],\"_input_hash\":-186102312,\"_task_hash\":171862029,\"answer\":\"accept\"}\n",
    "\n",
    "b={\"text\":\"Therefore, as 100,000 is to 70,711, so is 7560 to 5346, the sine of the arc of 3\\u00b0 4' 52\\\", which is CEB.\",\"spans\":[{\"start\":14,\"end\":21,\"label\":\"PARA\",\"answer\":\"accept\"},{\"start\":79,\"end\":88,\"label\":\"LONG\",\"answer\":\"accept\"}],\"_input_hash\":16621573,\"_task_hash\":-706401107,\"answer\":\"accept\"}"
   ]
  },
  {
   "cell_type": "code",
   "execution_count": 37,
   "metadata": {},
   "outputs": [
    {
     "data": {
      "text/plain": [
       "dict"
      ]
     },
     "execution_count": 37,
     "metadata": {},
     "output_type": "execute_result"
    }
   ],
   "source": [
    "type(b)"
   ]
  },
  {
   "cell_type": "code",
   "execution_count": 179,
   "metadata": {},
   "outputs": [
    {
     "data": {
      "text/plain": [
       "'C:\\\\Projects_28_06\\\\notebooks\\\\yeghaneh\\\\BZML_OCT\\\\notebooks'"
      ]
     },
     "execution_count": 179,
     "metadata": {},
     "output_type": "execute_result"
    }
   ],
   "source": [
    "pwd"
   ]
  },
  {
   "cell_type": "code",
   "execution_count": 178,
   "metadata": {},
   "outputs": [],
   "source": [
    "path= '../data/DATA_MERGED_V12.jsonl'\n",
    "with jsonlines.open(path) as reader:\n",
    "    a=[]\n",
    "    for example in reader:\n",
    "        if example[\"spans\"]==[]:\n",
    "            del example[\"_input_hash\"],example[\"_task_hash\"],example[\"answer\"]\n",
    "        else:\n",
    "            del example[\"_input_hash\"],example[\"_task_hash\"],example[\"answer\"]\n",
    "            for lst in example[\"spans\"]:\n",
    "                \n",
    "                del lst[\"answer\"]\n",
    "        a.append(example)\n",
    "write_jsonl(\"DATA_MERGED_EDIT_V15.jsonl\", a)\n",
    "        \n",
    "    "
   ]
  },
  {
   "cell_type": "code",
   "execution_count": 2,
   "metadata": {},
   "outputs": [],
   "source": [
    "b={\"text\":\"Therefore, as 100,000 is to 70,711, so is 7560 to 5346, the sine of the arc of 3\\u00b0 4' 52\\\", which is CEB.\",\"spans\":[{\"start\":14,\"end\":21,\"label\":\"PARA\"},{\"start\":42,\"end\":46,\"label\":\"PARA\"},{\"start\":79,\"end\":88,\"label\":\"LONG\"}]}\n"
   ]
  },
  {
   "cell_type": "markdown",
   "metadata": {},
   "source": [
    "# The second Function"
   ]
  },
  {
   "cell_type": "code",
   "execution_count": 3,
   "metadata": {},
   "outputs": [
    {
     "data": {
      "text/plain": [
       "('As shown in Figure 2B, the Sun is assumed to be at the center of the planetary system.',\n",
       " {'entities': [(27, 30, 'PLAN')]})"
      ]
     },
     "execution_count": 3,
     "metadata": {},
     "output_type": "execute_result"
    }
   ],
   "source": [
    "(\"As shown in Figure 2B, the Sun is assumed to be at the center of the planetary system.\",{\"entities\": [(27, 30, 'PLAN')]})\n"
   ]
  },
  {
   "cell_type": "code",
   "execution_count": 4,
   "metadata": {},
   "outputs": [],
   "source": [
    "a=[{\"text\":\"To find the position of Mars at opposition, Kepler computed the angular distance that Mars and Earth\\u2014now substituting the place of the Sun\\u2014moved during 17 hours 20 minutes; Mars moved eastward about 16' 20\\\" and the Sun westward about 42' 18\\\".\",\"spans\":[{\"start\":152,\"end\":171,\"label\":\"TIME\"},{\"start\":32,\"end\":42,\"label\":\"ASTR\"},{\"start\":184,\"end\":192,\"label\":\"ASTR\"},{\"start\":199,\"end\":206,\"label\":\"LONG\"},{\"start\":234,\"end\":241,\"label\":\"LONG\"},{\"start\":24,\"end\":28,\"label\":\"PLAN\"},{\"start\":86,\"end\":90,\"label\":\"PLAN\"},{\"start\":95,\"end\":100,\"label\":\"PLAN\"},{\"start\":135,\"end\":138,\"label\":\"PLAN\"},{\"start\":173,\"end\":177,\"label\":\"PLAN\"},{\"start\":215,\"end\":218,\"label\":\"PLAN\"}]}\n",
    ",{\"text\":\"Accordingly, Kepler determined the longitude of Mars at opposition to be 198\\u00b0 37' 50\\\" from which he subtracted about 39\\\" in order to correct Mars's orbit; he got 198\\u00b0 37' 10\\\" (18\\u00b0 37' 10\\\" Libra).\",\"spans\":[{\"start\":35,\"end\":44,\"label\":\"ASTR\"},{\"start\":56,\"end\":66,\"label\":\"ASTR\"},{\"start\":148,\"end\":153,\"label\":\"ASTR\"},{\"start\":73,\"end\":85,\"label\":\"LONG\"},{\"start\":162,\"end\":174,\"label\":\"LONG\"},{\"start\":176,\"end\":193,\"label\":\"LONG\"},{\"start\":48,\"end\":52,\"label\":\"PLAN\"},{\"start\":141,\"end\":145,\"label\":\"PLAN\"}]},{\"text\":\"The Sun moved westward and its longitude decreased from the time of observation to its position opposite to Mars.\",\"spans\":[{\"start\":31,\"end\":40,\"label\":\"ASTR\"},{\"start\":68,\"end\":79,\"label\":\"ASTR\"},{\"start\":4,\"end\":7,\"label\":\"PLAN\"},{\"start\":108,\"end\":112,\"label\":\"PLAN\"}]}\n",
    ",{\"text\":\"Therefore, the time of opposition is 17 hours 20 minutes before March 29, at 21:43, the time when the observation was made.\",\"spans\":[{\"start\":64,\"end\":72,\"label\":\"DATE\"},{\"start\":37,\"end\":56,\"label\":\"TIME\"},{\"start\":23,\"end\":33,\"label\":\"ASTR\"},{\"start\":102,\"end\":113,\"label\":\"ASTR\"}]}]\n"
   ]
  },
  {
   "cell_type": "code",
   "execution_count": 5,
   "metadata": {},
   "outputs": [
    {
     "data": {
      "text/plain": [
       "list"
      ]
     },
     "execution_count": 5,
     "metadata": {},
     "output_type": "execute_result"
    }
   ],
   "source": [
    "type(a)"
   ]
  },
  {
   "cell_type": "code",
   "execution_count": 182,
   "metadata": {},
   "outputs": [
    {
     "data": {
      "text/plain": [
       "'C:\\\\Projects_28_06\\\\notebooks\\\\yeghaneh\\\\BZML_OCT\\\\notebooks'"
      ]
     },
     "execution_count": 182,
     "metadata": {},
     "output_type": "execute_result"
    }
   ],
   "source": [
    "pwd"
   ]
  },
  {
   "cell_type": "code",
   "execution_count": 185,
   "metadata": {},
   "outputs": [],
   "source": [
    "path= '../data/DATA_MERGED_EDIT_V15.jsonl'\n",
    "c=[]\n",
    "with jsonlines.open(path) as reader:\n",
    "    for example in reader:\n",
    "        d={}\n",
    "        d['text']=b[\"text\"]    \n",
    "        for lst in b[\"spans\"]:\n",
    "            d.setdefault('entities', [])\n",
    "            d['entities'].append((lst[\"start\"],lst[\"end\"],lst[\"label\"]))\n",
    "        l = [ [k,v] for k, v in d.items() ]\n",
    "        del l[0][0]\n",
    "        l=sum(l, [])\n",
    "        l=tuple(l)\n",
    "        txt=l[0]\n",
    "        ent=dict([l[1:]])\n",
    "        j=k+(txt,)+(ent,)    \n",
    "        c.append(j)"
   ]
  },
  {
   "cell_type": "code",
   "execution_count": 190,
   "metadata": {},
   "outputs": [
    {
     "data": {
      "text/plain": [
       "{'text': 'Therefore, as 100,000 is to 70,711, so is 7560 to 5346, the sine of the arc of 3° 4\\' 52\", which is CEB.',\n",
       " 'entities': [(14, 21, 'PARA'), (42, 46, 'PARA'), (79, 88, 'LONG')]}"
      ]
     },
     "execution_count": 190,
     "metadata": {},
     "output_type": "execute_result"
    }
   ],
   "source": [
    "d\n"
   ]
  },
  {
   "cell_type": "code",
   "execution_count": 172,
   "metadata": {},
   "outputs": [
    {
     "data": {
      "text/plain": [
       "[('Therefore, as 100,000 is to 70,711, so is 7560 to 5346, the sine of the arc of 3° 4\\' 52\", which is CEB.',\n",
       "  {'entities': [(14, 21, 'PARA'), (42, 46, 'PARA'), (79, 88, 'LONG')]})]"
      ]
     },
     "execution_count": 172,
     "metadata": {},
     "output_type": "execute_result"
    }
   ],
   "source": [
    "c"
   ]
  },
  {
   "cell_type": "code",
   "execution_count": 64,
   "metadata": {},
   "outputs": [
    {
     "data": {
      "text/plain": [
       "dict"
      ]
     },
     "execution_count": 64,
     "metadata": {},
     "output_type": "execute_result"
    }
   ],
   "source": [
    "z=c[1]\n",
    "type(z)"
   ]
  },
  {
   "cell_type": "code",
   "execution_count": 59,
   "metadata": {},
   "outputs": [],
   "source": [
    "L=k.items()\n",
    "l=list(L)"
   ]
  },
  {
   "cell_type": "code",
   "execution_count": 53,
   "metadata": {},
   "outputs": [
    {
     "data": {
      "text/plain": [
       "'text'"
      ]
     },
     "execution_count": 53,
     "metadata": {},
     "output_type": "execute_result"
    }
   ],
   "source": [
    "type(l)\n",
    "list(l[0]).pop(0)\n"
   ]
  },
  {
   "cell_type": "code",
   "execution_count": 75,
   "metadata": {},
   "outputs": [
    {
     "data": {
      "text/plain": [
       "('As shown in Figure 2B, the Sun is assumed to be at the center of the planetary system.',\n",
       " {'entities': [(27, 30, 'PLAN')]})"
      ]
     },
     "execution_count": 75,
     "metadata": {},
     "output_type": "execute_result"
    }
   ],
   "source": [
    "(\"As shown in Figure 2B, the Sun is assumed to be at the center of the planetary system.\",{\"entities\": [(27, 30, 'PLAN')]})"
   ]
  },
  {
   "cell_type": "code",
   "execution_count": 146,
   "metadata": {},
   "outputs": [
    {
     "data": {
      "text/plain": [
       "('Therefore, as 100,000 is to 70,711, so is 7560 to 5346, the sine of the arc of 3° 4\\' 52\", which is CEB.',\n",
       " {'entities': [(14, 21, 'PARA'), (42, 46, 'PARA'), (79, 88, 'LONG')]})"
      ]
     },
     "execution_count": 146,
     "metadata": {},
     "output_type": "execute_result"
    }
   ],
   "source": [
    "lst = [ [k,v] for k, v in z.items() ]\n",
    "del lst[0][0]\n",
    "lst=sum(lst, [])\n",
    "lst=tuple(lst)\n",
    "txt=lst[0]\n",
    "ent=dict([lst[1:]])\n",
    "k+(txt,)+(ent,)"
   ]
  },
  {
   "cell_type": "code",
   "execution_count": 113,
   "metadata": {},
   "outputs": [
    {
     "data": {
      "text/plain": [
       "['Therefore, as 100,000 is to 70,711, so is 7560 to 5346, the sine of the arc of 3° 4\\' 52\", which is CEB.',\n",
       " 'entities',\n",
       " [(14, 21, 'PARA'), (42, 46, 'PARA'), (79, 88, 'LONG')]]"
      ]
     },
     "execution_count": 113,
     "metadata": {},
     "output_type": "execute_result"
    }
   ],
   "source": [
    "lst"
   ]
  }
 ],
 "metadata": {
  "kernelspec": {
   "display_name": "Python 3",
   "language": "python",
   "name": "python3"
  },
  "language_info": {
   "codemirror_mode": {
    "name": "ipython",
    "version": 3
   },
   "file_extension": ".py",
   "mimetype": "text/x-python",
   "name": "python",
   "nbconvert_exporter": "python",
   "pygments_lexer": "ipython3",
   "version": "3.7.3"
  }
 },
 "nbformat": 4,
 "nbformat_minor": 4
}
