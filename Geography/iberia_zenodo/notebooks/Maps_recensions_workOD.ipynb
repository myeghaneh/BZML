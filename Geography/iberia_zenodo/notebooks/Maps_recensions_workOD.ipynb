{
 "cells": [
  {
   "cell_type": "markdown",
   "metadata": {},
   "source": [
    "# Maps of the Iberian Peninsula"
   ]
  },
  {
   "cell_type": "markdown",
   "metadata": {},
   "source": [
    "Olivier Defaux(1), Gerd Graßhoff(1,2), Mohammad Yeghaneh(2)\n",
    "\n",
    "1: Max-Planck-Institute for the History of Science, Berlin; \n",
    "2: Humboldt University, Berlin\n",
    "\n",
    "Date:"
   ]
  },
  {
   "cell_type": "markdown",
   "metadata": {},
   "source": [
    "Ptolemy's catalogue of localities contains a list of places with their coordinates that enables to draw maps of the Iberian Peninsula. Ptolemy's text came down to us in two versions that are sometimes different regarding the spelling of the toponyms and the values of the coordinates. These versions are usually called \"Omega recension\" and \"Xi recension\". Based on the Greek text of Ptolemy's catalogue edited by A. Stückelberger and G. Graßhoff (2006), we will draw Ptolemy's map of the Iberian Peninsula and compare the two transmitted versions of his work."
   ]
  },
  {
   "cell_type": "code",
   "execution_count": 1,
   "metadata": {
    "extensions": {
     "jupyter_dashboards": {
      "version": 1,
      "views": {
       "grid_default": {
        "hidden": true
       },
       "report_default": {
        "hidden": true
       }
      }
     }
    }
   },
   "outputs": [],
   "source": [
    "import numpy as np\n",
    "import pandas as pd\n",
    "from pandas.io.json import json_normalize\n",
    "%load_ext autoreload\n",
    "%autoreload 2"
   ]
  },
  {
   "cell_type": "code",
   "execution_count": 2,
   "metadata": {},
   "outputs": [],
   "source": [
    "from bokeh.plotting import figure, output_file, show, ColumnDataSource\n",
    "from bokeh.io import output_notebook, output_file, save\n",
    "from bokeh.models import HoverTool,BoxZoomTool,ResetTool, WheelZoomTool\n",
    "from bokeh.layouts import row, gridplot, layout"
   ]
  },
  {
   "cell_type": "code",
   "execution_count": 3,
   "metadata": {},
   "outputs": [],
   "source": [
    "pd.set_option('display.max_colwidth', -1)\n",
    "pd.set_option('max_colwidth', 260)"
   ]
  },
  {
   "cell_type": "code",
   "execution_count": 4,
   "metadata": {},
   "outputs": [],
   "source": [
    "options = {\"compact\": True, \"bg\": \"#09a3d5\",\n",
    "           \"color\": \"white\", \"font\": \"Source Sans Pro\",\"collapse_phrases\":False}"
   ]
  },
  {
   "cell_type": "code",
   "execution_count": 5,
   "metadata": {},
   "outputs": [
    {
     "data": {
      "text/html": [
       "\n",
       "    <div class=\"bk-root\">\n",
       "        <a href=\"https://bokeh.pydata.org\" target=\"_blank\" class=\"bk-logo bk-logo-small bk-logo-notebook\"></a>\n",
       "        <span id=\"1001\">Loading BokehJS ...</span>\n",
       "    </div>"
      ]
     },
     "metadata": {},
     "output_type": "display_data"
    },
    {
     "data": {
      "application/javascript": [
       "\n",
       "(function(root) {\n",
       "  function now() {\n",
       "    return new Date();\n",
       "  }\n",
       "\n",
       "  var force = true;\n",
       "\n",
       "  if (typeof root._bokeh_onload_callbacks === \"undefined\" || force === true) {\n",
       "    root._bokeh_onload_callbacks = [];\n",
       "    root._bokeh_is_loading = undefined;\n",
       "  }\n",
       "\n",
       "  var JS_MIME_TYPE = 'application/javascript';\n",
       "  var HTML_MIME_TYPE = 'text/html';\n",
       "  var EXEC_MIME_TYPE = 'application/vnd.bokehjs_exec.v0+json';\n",
       "  var CLASS_NAME = 'output_bokeh rendered_html';\n",
       "\n",
       "  /**\n",
       "   * Render data to the DOM node\n",
       "   */\n",
       "  function render(props, node) {\n",
       "    var script = document.createElement(\"script\");\n",
       "    node.appendChild(script);\n",
       "  }\n",
       "\n",
       "  /**\n",
       "   * Handle when an output is cleared or removed\n",
       "   */\n",
       "  function handleClearOutput(event, handle) {\n",
       "    var cell = handle.cell;\n",
       "\n",
       "    var id = cell.output_area._bokeh_element_id;\n",
       "    var server_id = cell.output_area._bokeh_server_id;\n",
       "    // Clean up Bokeh references\n",
       "    if (id != null && id in Bokeh.index) {\n",
       "      Bokeh.index[id].model.document.clear();\n",
       "      delete Bokeh.index[id];\n",
       "    }\n",
       "\n",
       "    if (server_id !== undefined) {\n",
       "      // Clean up Bokeh references\n",
       "      var cmd = \"from bokeh.io.state import curstate; print(curstate().uuid_to_server['\" + server_id + \"'].get_sessions()[0].document.roots[0]._id)\";\n",
       "      cell.notebook.kernel.execute(cmd, {\n",
       "        iopub: {\n",
       "          output: function(msg) {\n",
       "            var id = msg.content.text.trim();\n",
       "            if (id in Bokeh.index) {\n",
       "              Bokeh.index[id].model.document.clear();\n",
       "              delete Bokeh.index[id];\n",
       "            }\n",
       "          }\n",
       "        }\n",
       "      });\n",
       "      // Destroy server and session\n",
       "      var cmd = \"import bokeh.io.notebook as ion; ion.destroy_server('\" + server_id + \"')\";\n",
       "      cell.notebook.kernel.execute(cmd);\n",
       "    }\n",
       "  }\n",
       "\n",
       "  /**\n",
       "   * Handle when a new output is added\n",
       "   */\n",
       "  function handleAddOutput(event, handle) {\n",
       "    var output_area = handle.output_area;\n",
       "    var output = handle.output;\n",
       "\n",
       "    // limit handleAddOutput to display_data with EXEC_MIME_TYPE content only\n",
       "    if ((output.output_type != \"display_data\") || (!output.data.hasOwnProperty(EXEC_MIME_TYPE))) {\n",
       "      return\n",
       "    }\n",
       "\n",
       "    var toinsert = output_area.element.find(\".\" + CLASS_NAME.split(' ')[0]);\n",
       "\n",
       "    if (output.metadata[EXEC_MIME_TYPE][\"id\"] !== undefined) {\n",
       "      toinsert[toinsert.length - 1].firstChild.textContent = output.data[JS_MIME_TYPE];\n",
       "      // store reference to embed id on output_area\n",
       "      output_area._bokeh_element_id = output.metadata[EXEC_MIME_TYPE][\"id\"];\n",
       "    }\n",
       "    if (output.metadata[EXEC_MIME_TYPE][\"server_id\"] !== undefined) {\n",
       "      var bk_div = document.createElement(\"div\");\n",
       "      bk_div.innerHTML = output.data[HTML_MIME_TYPE];\n",
       "      var script_attrs = bk_div.children[0].attributes;\n",
       "      for (var i = 0; i < script_attrs.length; i++) {\n",
       "        toinsert[toinsert.length - 1].firstChild.setAttribute(script_attrs[i].name, script_attrs[i].value);\n",
       "      }\n",
       "      // store reference to server id on output_area\n",
       "      output_area._bokeh_server_id = output.metadata[EXEC_MIME_TYPE][\"server_id\"];\n",
       "    }\n",
       "  }\n",
       "\n",
       "  function register_renderer(events, OutputArea) {\n",
       "\n",
       "    function append_mime(data, metadata, element) {\n",
       "      // create a DOM node to render to\n",
       "      var toinsert = this.create_output_subarea(\n",
       "        metadata,\n",
       "        CLASS_NAME,\n",
       "        EXEC_MIME_TYPE\n",
       "      );\n",
       "      this.keyboard_manager.register_events(toinsert);\n",
       "      // Render to node\n",
       "      var props = {data: data, metadata: metadata[EXEC_MIME_TYPE]};\n",
       "      render(props, toinsert[toinsert.length - 1]);\n",
       "      element.append(toinsert);\n",
       "      return toinsert\n",
       "    }\n",
       "\n",
       "    /* Handle when an output is cleared or removed */\n",
       "    events.on('clear_output.CodeCell', handleClearOutput);\n",
       "    events.on('delete.Cell', handleClearOutput);\n",
       "\n",
       "    /* Handle when a new output is added */\n",
       "    events.on('output_added.OutputArea', handleAddOutput);\n",
       "\n",
       "    /**\n",
       "     * Register the mime type and append_mime function with output_area\n",
       "     */\n",
       "    OutputArea.prototype.register_mime_type(EXEC_MIME_TYPE, append_mime, {\n",
       "      /* Is output safe? */\n",
       "      safe: true,\n",
       "      /* Index of renderer in `output_area.display_order` */\n",
       "      index: 0\n",
       "    });\n",
       "  }\n",
       "\n",
       "  // register the mime type if in Jupyter Notebook environment and previously unregistered\n",
       "  if (root.Jupyter !== undefined) {\n",
       "    var events = require('base/js/events');\n",
       "    var OutputArea = require('notebook/js/outputarea').OutputArea;\n",
       "\n",
       "    if (OutputArea.prototype.mime_types().indexOf(EXEC_MIME_TYPE) == -1) {\n",
       "      register_renderer(events, OutputArea);\n",
       "    }\n",
       "  }\n",
       "\n",
       "  \n",
       "  if (typeof (root._bokeh_timeout) === \"undefined\" || force === true) {\n",
       "    root._bokeh_timeout = Date.now() + 5000;\n",
       "    root._bokeh_failed_load = false;\n",
       "  }\n",
       "\n",
       "  var NB_LOAD_WARNING = {'data': {'text/html':\n",
       "     \"<div style='background-color: #fdd'>\\n\"+\n",
       "     \"<p>\\n\"+\n",
       "     \"BokehJS does not appear to have successfully loaded. If loading BokehJS from CDN, this \\n\"+\n",
       "     \"may be due to a slow or bad network connection. Possible fixes:\\n\"+\n",
       "     \"</p>\\n\"+\n",
       "     \"<ul>\\n\"+\n",
       "     \"<li>re-rerun `output_notebook()` to attempt to load from CDN again, or</li>\\n\"+\n",
       "     \"<li>use INLINE resources instead, as so:</li>\\n\"+\n",
       "     \"</ul>\\n\"+\n",
       "     \"<code>\\n\"+\n",
       "     \"from bokeh.resources import INLINE\\n\"+\n",
       "     \"output_notebook(resources=INLINE)\\n\"+\n",
       "     \"</code>\\n\"+\n",
       "     \"</div>\"}};\n",
       "\n",
       "  function display_loaded() {\n",
       "    var el = document.getElementById(\"1001\");\n",
       "    if (el != null) {\n",
       "      el.textContent = \"BokehJS is loading...\";\n",
       "    }\n",
       "    if (root.Bokeh !== undefined) {\n",
       "      if (el != null) {\n",
       "        el.textContent = \"BokehJS \" + root.Bokeh.version + \" successfully loaded.\";\n",
       "      }\n",
       "    } else if (Date.now() < root._bokeh_timeout) {\n",
       "      setTimeout(display_loaded, 100)\n",
       "    }\n",
       "  }\n",
       "\n",
       "\n",
       "  function run_callbacks() {\n",
       "    try {\n",
       "      root._bokeh_onload_callbacks.forEach(function(callback) {\n",
       "        if (callback != null)\n",
       "          callback();\n",
       "      });\n",
       "    } finally {\n",
       "      delete root._bokeh_onload_callbacks\n",
       "    }\n",
       "    console.debug(\"Bokeh: all callbacks have finished\");\n",
       "  }\n",
       "\n",
       "  function load_libs(css_urls, js_urls, callback) {\n",
       "    if (css_urls == null) css_urls = [];\n",
       "    if (js_urls == null) js_urls = [];\n",
       "\n",
       "    root._bokeh_onload_callbacks.push(callback);\n",
       "    if (root._bokeh_is_loading > 0) {\n",
       "      console.debug(\"Bokeh: BokehJS is being loaded, scheduling callback at\", now());\n",
       "      return null;\n",
       "    }\n",
       "    if (js_urls == null || js_urls.length === 0) {\n",
       "      run_callbacks();\n",
       "      return null;\n",
       "    }\n",
       "    console.debug(\"Bokeh: BokehJS not loaded, scheduling load and callback at\", now());\n",
       "    root._bokeh_is_loading = css_urls.length + js_urls.length;\n",
       "\n",
       "    function on_load() {\n",
       "      root._bokeh_is_loading--;\n",
       "      if (root._bokeh_is_loading === 0) {\n",
       "        console.debug(\"Bokeh: all BokehJS libraries/stylesheets loaded\");\n",
       "        run_callbacks()\n",
       "      }\n",
       "    }\n",
       "\n",
       "    function on_error() {\n",
       "      console.error(\"failed to load \" + url);\n",
       "    }\n",
       "\n",
       "    for (var i = 0; i < css_urls.length; i++) {\n",
       "      var url = css_urls[i];\n",
       "      const element = document.createElement(\"link\");\n",
       "      element.onload = on_load;\n",
       "      element.onerror = on_error;\n",
       "      element.rel = \"stylesheet\";\n",
       "      element.type = \"text/css\";\n",
       "      element.href = url;\n",
       "      console.debug(\"Bokeh: injecting link tag for BokehJS stylesheet: \", url);\n",
       "      document.body.appendChild(element);\n",
       "    }\n",
       "\n",
       "    for (var i = 0; i < js_urls.length; i++) {\n",
       "      var url = js_urls[i];\n",
       "      var element = document.createElement('script');\n",
       "      element.onload = on_load;\n",
       "      element.onerror = on_error;\n",
       "      element.async = false;\n",
       "      element.src = url;\n",
       "      console.debug(\"Bokeh: injecting script tag for BokehJS library: \", url);\n",
       "      document.head.appendChild(element);\n",
       "    }\n",
       "  };var element = document.getElementById(\"1001\");\n",
       "  if (element == null) {\n",
       "    console.error(\"Bokeh: ERROR: autoload.js configured with elementid '1001' but no matching script tag was found. \")\n",
       "    return false;\n",
       "  }\n",
       "\n",
       "  function inject_raw_css(css) {\n",
       "    const element = document.createElement(\"style\");\n",
       "    element.appendChild(document.createTextNode(css));\n",
       "    document.body.appendChild(element);\n",
       "  }\n",
       "\n",
       "  var js_urls = [\"https://cdn.pydata.org/bokeh/release/bokeh-1.3.4.min.js\", \"https://cdn.pydata.org/bokeh/release/bokeh-widgets-1.3.4.min.js\", \"https://cdn.pydata.org/bokeh/release/bokeh-tables-1.3.4.min.js\", \"https://cdn.pydata.org/bokeh/release/bokeh-gl-1.3.4.min.js\"];\n",
       "  var css_urls = [];\n",
       "\n",
       "  var inline_js = [\n",
       "    function(Bokeh) {\n",
       "      Bokeh.set_log_level(\"info\");\n",
       "    },\n",
       "    \n",
       "    function(Bokeh) {\n",
       "      \n",
       "    },\n",
       "    function(Bokeh) {} // ensure no trailing comma for IE\n",
       "  ];\n",
       "\n",
       "  function run_inline_js() {\n",
       "    \n",
       "    if ((root.Bokeh !== undefined) || (force === true)) {\n",
       "      for (var i = 0; i < inline_js.length; i++) {\n",
       "        inline_js[i].call(root, root.Bokeh);\n",
       "      }if (force === true) {\n",
       "        display_loaded();\n",
       "      }} else if (Date.now() < root._bokeh_timeout) {\n",
       "      setTimeout(run_inline_js, 100);\n",
       "    } else if (!root._bokeh_failed_load) {\n",
       "      console.log(\"Bokeh: BokehJS failed to load within specified timeout.\");\n",
       "      root._bokeh_failed_load = true;\n",
       "    } else if (force !== true) {\n",
       "      var cell = $(document.getElementById(\"1001\")).parents('.cell').data().cell;\n",
       "      cell.output_area.append_execute_result(NB_LOAD_WARNING)\n",
       "    }\n",
       "\n",
       "  }\n",
       "\n",
       "  if (root._bokeh_is_loading === 0) {\n",
       "    console.debug(\"Bokeh: BokehJS loaded, going straight to plotting\");\n",
       "    run_inline_js();\n",
       "  } else {\n",
       "    load_libs(css_urls, js_urls, function() {\n",
       "      console.debug(\"Bokeh: BokehJS plotting callback run at\", now());\n",
       "      run_inline_js();\n",
       "    });\n",
       "  }\n",
       "}(window));"
      ],
      "application/vnd.bokehjs_load.v0+json": "\n(function(root) {\n  function now() {\n    return new Date();\n  }\n\n  var force = true;\n\n  if (typeof root._bokeh_onload_callbacks === \"undefined\" || force === true) {\n    root._bokeh_onload_callbacks = [];\n    root._bokeh_is_loading = undefined;\n  }\n\n  \n\n  \n  if (typeof (root._bokeh_timeout) === \"undefined\" || force === true) {\n    root._bokeh_timeout = Date.now() + 5000;\n    root._bokeh_failed_load = false;\n  }\n\n  var NB_LOAD_WARNING = {'data': {'text/html':\n     \"<div style='background-color: #fdd'>\\n\"+\n     \"<p>\\n\"+\n     \"BokehJS does not appear to have successfully loaded. If loading BokehJS from CDN, this \\n\"+\n     \"may be due to a slow or bad network connection. Possible fixes:\\n\"+\n     \"</p>\\n\"+\n     \"<ul>\\n\"+\n     \"<li>re-rerun `output_notebook()` to attempt to load from CDN again, or</li>\\n\"+\n     \"<li>use INLINE resources instead, as so:</li>\\n\"+\n     \"</ul>\\n\"+\n     \"<code>\\n\"+\n     \"from bokeh.resources import INLINE\\n\"+\n     \"output_notebook(resources=INLINE)\\n\"+\n     \"</code>\\n\"+\n     \"</div>\"}};\n\n  function display_loaded() {\n    var el = document.getElementById(\"1001\");\n    if (el != null) {\n      el.textContent = \"BokehJS is loading...\";\n    }\n    if (root.Bokeh !== undefined) {\n      if (el != null) {\n        el.textContent = \"BokehJS \" + root.Bokeh.version + \" successfully loaded.\";\n      }\n    } else if (Date.now() < root._bokeh_timeout) {\n      setTimeout(display_loaded, 100)\n    }\n  }\n\n\n  function run_callbacks() {\n    try {\n      root._bokeh_onload_callbacks.forEach(function(callback) {\n        if (callback != null)\n          callback();\n      });\n    } finally {\n      delete root._bokeh_onload_callbacks\n    }\n    console.debug(\"Bokeh: all callbacks have finished\");\n  }\n\n  function load_libs(css_urls, js_urls, callback) {\n    if (css_urls == null) css_urls = [];\n    if (js_urls == null) js_urls = [];\n\n    root._bokeh_onload_callbacks.push(callback);\n    if (root._bokeh_is_loading > 0) {\n      console.debug(\"Bokeh: BokehJS is being loaded, scheduling callback at\", now());\n      return null;\n    }\n    if (js_urls == null || js_urls.length === 0) {\n      run_callbacks();\n      return null;\n    }\n    console.debug(\"Bokeh: BokehJS not loaded, scheduling load and callback at\", now());\n    root._bokeh_is_loading = css_urls.length + js_urls.length;\n\n    function on_load() {\n      root._bokeh_is_loading--;\n      if (root._bokeh_is_loading === 0) {\n        console.debug(\"Bokeh: all BokehJS libraries/stylesheets loaded\");\n        run_callbacks()\n      }\n    }\n\n    function on_error() {\n      console.error(\"failed to load \" + url);\n    }\n\n    for (var i = 0; i < css_urls.length; i++) {\n      var url = css_urls[i];\n      const element = document.createElement(\"link\");\n      element.onload = on_load;\n      element.onerror = on_error;\n      element.rel = \"stylesheet\";\n      element.type = \"text/css\";\n      element.href = url;\n      console.debug(\"Bokeh: injecting link tag for BokehJS stylesheet: \", url);\n      document.body.appendChild(element);\n    }\n\n    for (var i = 0; i < js_urls.length; i++) {\n      var url = js_urls[i];\n      var element = document.createElement('script');\n      element.onload = on_load;\n      element.onerror = on_error;\n      element.async = false;\n      element.src = url;\n      console.debug(\"Bokeh: injecting script tag for BokehJS library: \", url);\n      document.head.appendChild(element);\n    }\n  };var element = document.getElementById(\"1001\");\n  if (element == null) {\n    console.error(\"Bokeh: ERROR: autoload.js configured with elementid '1001' but no matching script tag was found. \")\n    return false;\n  }\n\n  function inject_raw_css(css) {\n    const element = document.createElement(\"style\");\n    element.appendChild(document.createTextNode(css));\n    document.body.appendChild(element);\n  }\n\n  var js_urls = [\"https://cdn.pydata.org/bokeh/release/bokeh-1.3.4.min.js\", \"https://cdn.pydata.org/bokeh/release/bokeh-widgets-1.3.4.min.js\", \"https://cdn.pydata.org/bokeh/release/bokeh-tables-1.3.4.min.js\", \"https://cdn.pydata.org/bokeh/release/bokeh-gl-1.3.4.min.js\"];\n  var css_urls = [];\n\n  var inline_js = [\n    function(Bokeh) {\n      Bokeh.set_log_level(\"info\");\n    },\n    \n    function(Bokeh) {\n      \n    },\n    function(Bokeh) {} // ensure no trailing comma for IE\n  ];\n\n  function run_inline_js() {\n    \n    if ((root.Bokeh !== undefined) || (force === true)) {\n      for (var i = 0; i < inline_js.length; i++) {\n        inline_js[i].call(root, root.Bokeh);\n      }if (force === true) {\n        display_loaded();\n      }} else if (Date.now() < root._bokeh_timeout) {\n      setTimeout(run_inline_js, 100);\n    } else if (!root._bokeh_failed_load) {\n      console.log(\"Bokeh: BokehJS failed to load within specified timeout.\");\n      root._bokeh_failed_load = true;\n    } else if (force !== true) {\n      var cell = $(document.getElementById(\"1001\")).parents('.cell').data().cell;\n      cell.output_area.append_execute_result(NB_LOAD_WARNING)\n    }\n\n  }\n\n  if (root._bokeh_is_loading === 0) {\n    console.debug(\"Bokeh: BokehJS loaded, going straight to plotting\");\n    run_inline_js();\n  } else {\n    load_libs(css_urls, js_urls, function() {\n      console.debug(\"Bokeh: BokehJS plotting callback run at\", now());\n      run_inline_js();\n    });\n  }\n}(window));"
     },
     "metadata": {},
     "output_type": "display_data"
    }
   ],
   "source": [
    "from tools import Geography, reformatCoord,reformatIntFrac, flatten_list,findTS,Js2Geodf"
   ]
  },
  {
   "cell_type": "markdown",
   "metadata": {},
   "source": [
    "## Resources"
   ]
  },
  {
   "cell_type": "markdown",
   "metadata": {},
   "source": [
    "We selected the part of Ptolemy's catalogue of localities related to the Iberian Peninsula (*Geography* 2.4–6) and we encoded the Greek text of the two recensions (Omega and Xi). The files can be loaded from the open-access plateform Zenodo."
   ]
  },
  {
   "cell_type": "markdown",
   "metadata": {},
   "source": [
    "### Import"
   ]
  },
  {
   "cell_type": "code",
   "execution_count": 6,
   "metadata": {},
   "outputs": [],
   "source": [
    "# import .json file from DOI number"
   ]
  },
  {
   "cell_type": "code",
   "execution_count": 7,
   "metadata": {},
   "outputs": [],
   "source": [
    "Omega = pd.read_json('../data/OmegaStructure2.json',encoding=\"utf8\")\n",
    "Xi = pd.read_json('../data/XiStructure2.json',encoding=\"utf8\")"
   ]
  },
  {
   "cell_type": "markdown",
   "metadata": {},
   "source": [
    "### Transform the .json files into dataframes"
   ]
  },
  {
   "cell_type": "markdown",
   "metadata": {},
   "source": [
    "The .json files reproduce Ptolemy's text and structure. In order to work with the coordinates in an efficient way, we will transform the file format to produce a simple dataframe."
   ]
  },
  {
   "cell_type": "code",
   "execution_count": 8,
   "metadata": {},
   "outputs": [],
   "source": [
    "dfOmega=Js2Geodf(Omega[\"chapters\"][0])\n",
    "dfXi=Js2Geodf(Xi[\"chapters\"][0])"
   ]
  },
  {
   "cell_type": "code",
   "execution_count": 9,
   "metadata": {},
   "outputs": [
    {
     "data": {
      "text/html": [
       "<div>\n",
       "<style scoped>\n",
       "    .dataframe tbody tr th:only-of-type {\n",
       "        vertical-align: middle;\n",
       "    }\n",
       "\n",
       "    .dataframe tbody tr th {\n",
       "        vertical-align: top;\n",
       "    }\n",
       "\n",
       "    .dataframe thead th {\n",
       "        text-align: right;\n",
       "    }\n",
       "</style>\n",
       "<table border=\"1\" class=\"dataframe\">\n",
       "  <thead>\n",
       "    <tr style=\"text-align: right;\">\n",
       "      <th></th>\n",
       "      <th>ID</th>\n",
       "      <th>category</th>\n",
       "      <th>coord</th>\n",
       "      <th>people</th>\n",
       "      <th>text</th>\n",
       "      <th>toponym</th>\n",
       "      <th>type</th>\n",
       "      <th>type_sec</th>\n",
       "    </tr>\n",
       "  </thead>\n",
       "  <tbody>\n",
       "    <tr>\n",
       "      <th>24</th>\n",
       "      <td>2.04.05.13</td>\n",
       "      <td>city</td>\n",
       "      <td>{'long': {'integer': 'ς', 'fraction': 'δ'}, 'lat': {'integer': 'λς', 'fraction': 'γο'}}</td>\n",
       "      <td>Turduli</td>\n",
       "      <td>NaN</td>\n",
       "      <td>Βαίλων πόλις</td>\n",
       "      <td>locality</td>\n",
       "      <td>coast section</td>\n",
       "    </tr>\n",
       "    <tr>\n",
       "      <th>25</th>\n",
       "      <td>2.04.06.01</td>\n",
       "      <td>NaN</td>\n",
       "      <td>NaN</td>\n",
       "      <td>NaN</td>\n",
       "      <td>Βαστουλῶν τῶν καλουμένων Ποινῶν</td>\n",
       "      <td>NaN</td>\n",
       "      <td>people</td>\n",
       "      <td>coast section</td>\n",
       "    </tr>\n",
       "    <tr>\n",
       "      <th>26</th>\n",
       "      <td>2.04.06.02</td>\n",
       "      <td>city</td>\n",
       "      <td>{'long': {'integer': 'ς', 'fraction': 'L'}, 'lat': {'integer': 'λς', 'fraction': 'L'}}</td>\n",
       "      <td>Bastuli</td>\n",
       "      <td>NaN</td>\n",
       "      <td>Μενραλία</td>\n",
       "      <td>locality</td>\n",
       "      <td>coast section</td>\n",
       "    </tr>\n",
       "    <tr>\n",
       "      <th>27</th>\n",
       "      <td>2.04.06.03</td>\n",
       "      <td>city</td>\n",
       "      <td>{'long': {'integer': 'ς', 'fraction': 'γο'}, 'lat': {'integer': 'λς', 'fraction': 'γ'}}</td>\n",
       "      <td>Bastuli</td>\n",
       "      <td>NaN</td>\n",
       "      <td>Τρανσδούκτα</td>\n",
       "      <td>locality</td>\n",
       "      <td>coast section</td>\n",
       "    </tr>\n",
       "    <tr>\n",
       "      <th>28</th>\n",
       "      <td>2.04.06.04</td>\n",
       "      <td>city</td>\n",
       "      <td>{'long': {'integer': 'ζ', 'fraction': 'δ'}, 'lat': {'integer': 'λς', 'fraction': 'ς'}}</td>\n",
       "      <td>Bastuli</td>\n",
       "      <td>NaN</td>\n",
       "      <td>Βαρβησόλα</td>\n",
       "      <td>locality</td>\n",
       "      <td>coast section</td>\n",
       "    </tr>\n",
       "    <tr>\n",
       "      <th>29</th>\n",
       "      <td>2.04.06.05</td>\n",
       "      <td>city</td>\n",
       "      <td>{'long': {'integer': 'ζ', 'fraction': 'L'}, 'lat': {'integer': 'λς', 'fraction': 'ς'}}</td>\n",
       "      <td>Bastuli</td>\n",
       "      <td>NaN</td>\n",
       "      <td>Καρτμία</td>\n",
       "      <td>locality</td>\n",
       "      <td>coast section</td>\n",
       "    </tr>\n",
       "    <tr>\n",
       "      <th>30</th>\n",
       "      <td>2.04.06.06</td>\n",
       "      <td>mountain</td>\n",
       "      <td>{'long': {'integer': 'ζ', 'fraction': 'L'}, 'lat': {'integer': 'λς', 'fraction': 'δ'}}</td>\n",
       "      <td>Bastuli</td>\n",
       "      <td>NaN</td>\n",
       "      <td>Κάρπη ὅρος καὶ στήλη τῆς ἐντὸς θαλάσσης</td>\n",
       "      <td>locality</td>\n",
       "      <td>coast section</td>\n",
       "    </tr>\n",
       "  </tbody>\n",
       "</table>\n",
       "</div>"
      ],
      "text/plain": [
       "            ID  category  \\\n",
       "24  2.04.05.13      city   \n",
       "25  2.04.06.01       NaN   \n",
       "26  2.04.06.02      city   \n",
       "27  2.04.06.03      city   \n",
       "28  2.04.06.04      city   \n",
       "29  2.04.06.05      city   \n",
       "30  2.04.06.06  mountain   \n",
       "\n",
       "                                                                                      coord  \\\n",
       "24  {'long': {'integer': 'ς', 'fraction': 'δ'}, 'lat': {'integer': 'λς', 'fraction': 'γο'}}   \n",
       "25                                                                                      NaN   \n",
       "26   {'long': {'integer': 'ς', 'fraction': 'L'}, 'lat': {'integer': 'λς', 'fraction': 'L'}}   \n",
       "27  {'long': {'integer': 'ς', 'fraction': 'γο'}, 'lat': {'integer': 'λς', 'fraction': 'γ'}}   \n",
       "28   {'long': {'integer': 'ζ', 'fraction': 'δ'}, 'lat': {'integer': 'λς', 'fraction': 'ς'}}   \n",
       "29   {'long': {'integer': 'ζ', 'fraction': 'L'}, 'lat': {'integer': 'λς', 'fraction': 'ς'}}   \n",
       "30   {'long': {'integer': 'ζ', 'fraction': 'L'}, 'lat': {'integer': 'λς', 'fraction': 'δ'}}   \n",
       "\n",
       "     people                                 text  \\\n",
       "24  Turduli                                  NaN   \n",
       "25      NaN  Βαστουλῶν τῶν καλουμένων Ποινῶν   \n",
       "26  Bastuli                                  NaN   \n",
       "27  Bastuli                                  NaN   \n",
       "28  Bastuli                                  NaN   \n",
       "29  Bastuli                                  NaN   \n",
       "30  Bastuli                                  NaN   \n",
       "\n",
       "                                              toponym      type       type_sec  \n",
       "24                                    Βαίλων πόλις   locality  coast section  \n",
       "25                                                NaN    people  coast section  \n",
       "26                                          Μενραλία  locality  coast section  \n",
       "27                                       Τρανσδούκτα  locality  coast section  \n",
       "28                                         Βαρβησόλα  locality  coast section  \n",
       "29                                           Καρτμία  locality  coast section  \n",
       "30  Κάρπη ὅρος καὶ στήλη τῆς ἐντὸς θαλάσσης   locality  coast section  "
      ]
     },
     "execution_count": 9,
     "metadata": {},
     "output_type": "execute_result"
    }
   ],
   "source": [
    "# Sample of the dataframe for the Omega recension:\n",
    "dfOmega[24:31]"
   ]
  },
  {
   "cell_type": "markdown",
   "metadata": {},
   "source": [
    "## Transform Greek numbers to decimal coordinates"
   ]
  },
  {
   "cell_type": "markdown",
   "metadata": {},
   "source": [
    "### Greek numeral notation"
   ]
  },
  {
   "cell_type": "markdown",
   "metadata": {},
   "source": [
    "Each latitude and each longitude is composed of two parts: an integer part (a whole number of degrees) and a decimal part (written as a fraction of degrees).\n",
    "In order to plot the localities, we have to transpose the Greek numeral system used by Ptolemy into a modern format, using decimal. The symbols used by Ptolemy to express the coordinates are Greek letters and a special sign for the fraction 1/2."
   ]
  },
  {
   "cell_type": "code",
   "execution_count": 10,
   "metadata": {},
   "outputs": [],
   "source": [
    "gfrac={\"\":0,\"ιβ\":1/12,\"ς\":1/6,\"δ\":1/4,\"γ\":1/3,\"γιβ\":5/12,\"L\":1/2,\"Lιβ\":7/12,\"γο\":2/3,\"Lδ\":3/4,\"Lγ\":5/6,\"Lγιβ\":11/12,\"η\":1/8,\"Lς\":2/3,\"ςL\":2/3}\n",
    "gint={\"\":0,\"α\":1,\"β\":2,\"γ\":3,\"δ\":4,\"ε\":5,\"ς\":6,\"ζ\":7,\"η\":8,\"θ\":9,\"ι\":10,\"κ\":20,\"λ\":30,\"μ\":40}"
   ]
  },
  {
   "cell_type": "code",
   "execution_count": 11,
   "metadata": {},
   "outputs": [
    {
     "data": {
      "text/html": [
       "<div>\n",
       "<style scoped>\n",
       "    .dataframe tbody tr th:only-of-type {\n",
       "        vertical-align: middle;\n",
       "    }\n",
       "\n",
       "    .dataframe tbody tr th {\n",
       "        vertical-align: top;\n",
       "    }\n",
       "\n",
       "    .dataframe thead th {\n",
       "        text-align: right;\n",
       "    }\n",
       "</style>\n",
       "<table border=\"1\" class=\"dataframe\">\n",
       "  <thead>\n",
       "    <tr style=\"text-align: right;\">\n",
       "      <th>Greek</th>\n",
       "      <th></th>\n",
       "      <th>α</th>\n",
       "      <th>β</th>\n",
       "      <th>γ</th>\n",
       "      <th>δ</th>\n",
       "      <th>ε</th>\n",
       "      <th>ς</th>\n",
       "      <th>ζ</th>\n",
       "      <th>η</th>\n",
       "      <th>θ</th>\n",
       "      <th>ι</th>\n",
       "      <th>κ</th>\n",
       "      <th>λ</th>\n",
       "      <th>μ</th>\n",
       "    </tr>\n",
       "  </thead>\n",
       "  <tbody>\n",
       "    <tr>\n",
       "      <th>Integers</th>\n",
       "      <td>0</td>\n",
       "      <td>1</td>\n",
       "      <td>2</td>\n",
       "      <td>3</td>\n",
       "      <td>4</td>\n",
       "      <td>5</td>\n",
       "      <td>6</td>\n",
       "      <td>7</td>\n",
       "      <td>8</td>\n",
       "      <td>9</td>\n",
       "      <td>10</td>\n",
       "      <td>20</td>\n",
       "      <td>30</td>\n",
       "      <td>40</td>\n",
       "    </tr>\n",
       "  </tbody>\n",
       "</table>\n",
       "</div>"
      ],
      "text/plain": [
       "Greek        α  β  γ  δ  ε  ς  ζ  η  θ   ι   κ   λ   μ\n",
       "Integers  0  1  2  3  4  5  6  7  8  9  10  20  30  40"
      ]
     },
     "execution_count": 11,
     "metadata": {},
     "output_type": "execute_result"
    }
   ],
   "source": [
    "pd.DataFrame(list(gint.items()), columns=['Greek', 'Integers']).sort_values('Integers').set_index('Greek').T"
   ]
  },
  {
   "cell_type": "code",
   "execution_count": 12,
   "metadata": {},
   "outputs": [
    {
     "data": {
      "text/html": [
       "<div>\n",
       "<style scoped>\n",
       "    .dataframe tbody tr th:only-of-type {\n",
       "        vertical-align: middle;\n",
       "    }\n",
       "\n",
       "    .dataframe tbody tr th {\n",
       "        vertical-align: top;\n",
       "    }\n",
       "\n",
       "    .dataframe thead th {\n",
       "        text-align: right;\n",
       "    }\n",
       "</style>\n",
       "<table border=\"1\" class=\"dataframe\">\n",
       "  <thead>\n",
       "    <tr style=\"text-align: right;\">\n",
       "      <th>Greek</th>\n",
       "      <th></th>\n",
       "      <th>ιβ</th>\n",
       "      <th>η</th>\n",
       "      <th>ς</th>\n",
       "      <th>δ</th>\n",
       "      <th>γ</th>\n",
       "      <th>γιβ</th>\n",
       "      <th>L</th>\n",
       "      <th>Lιβ</th>\n",
       "      <th>γο</th>\n",
       "      <th>Lς</th>\n",
       "      <th>ςL</th>\n",
       "      <th>Lδ</th>\n",
       "      <th>Lγ</th>\n",
       "      <th>Lγιβ</th>\n",
       "    </tr>\n",
       "  </thead>\n",
       "  <tbody>\n",
       "    <tr>\n",
       "      <th>Decimal</th>\n",
       "      <td>0.0</td>\n",
       "      <td>0.083333</td>\n",
       "      <td>0.125</td>\n",
       "      <td>0.166667</td>\n",
       "      <td>0.25</td>\n",
       "      <td>0.333333</td>\n",
       "      <td>0.416667</td>\n",
       "      <td>0.5</td>\n",
       "      <td>0.583333</td>\n",
       "      <td>0.666667</td>\n",
       "      <td>0.666667</td>\n",
       "      <td>0.666667</td>\n",
       "      <td>0.75</td>\n",
       "      <td>0.833333</td>\n",
       "      <td>0.916667</td>\n",
       "    </tr>\n",
       "  </tbody>\n",
       "</table>\n",
       "</div>"
      ],
      "text/plain": [
       "Greek               ιβ      η         ς     δ         γ       γιβ    L  \\\n",
       "Decimal  0.0  0.083333  0.125  0.166667  0.25  0.333333  0.416667  0.5   \n",
       "\n",
       "Greek         Lιβ        γο        Lς        ςL    Lδ        Lγ      Lγιβ  \n",
       "Decimal  0.583333  0.666667  0.666667  0.666667  0.75  0.833333  0.916667  "
      ]
     },
     "execution_count": 12,
     "metadata": {},
     "output_type": "execute_result"
    }
   ],
   "source": [
    "pd.DataFrame(list(gfrac.items()), columns=['Greek', 'Decimal']).sort_values('Decimal').set_index('Greek').T"
   ]
  },
  {
   "cell_type": "markdown",
   "metadata": {},
   "source": [
    "### Translate into modern numeral notation"
   ]
  },
  {
   "cell_type": "markdown",
   "metadata": {},
   "source": [
    "We create two columns for each dataframe: one for the longitude, one for the latitude."
   ]
  },
  {
   "cell_type": "code",
   "execution_count": 13,
   "metadata": {},
   "outputs": [],
   "source": [
    "# Omega\n",
    "dfTemp = dfOmega.copy()\n",
    "dfTemp['longitude'] = dfOmega.apply(lambda row: reformatCoord(row,'long','coord'),axis=1).apply(reformatIntFrac)\n",
    "dfTemp['latitude'] = dfOmega.apply(lambda row: reformatCoord(row,'lat','coord'),axis=1).apply(reformatIntFrac)"
   ]
  },
  {
   "cell_type": "code",
   "execution_count": 14,
   "metadata": {},
   "outputs": [
    {
     "data": {
      "text/html": [
       "<div>\n",
       "<style scoped>\n",
       "    .dataframe tbody tr th:only-of-type {\n",
       "        vertical-align: middle;\n",
       "    }\n",
       "\n",
       "    .dataframe tbody tr th {\n",
       "        vertical-align: top;\n",
       "    }\n",
       "\n",
       "    .dataframe thead th {\n",
       "        text-align: right;\n",
       "    }\n",
       "</style>\n",
       "<table border=\"1\" class=\"dataframe\">\n",
       "  <thead>\n",
       "    <tr style=\"text-align: right;\">\n",
       "      <th></th>\n",
       "      <th>ID</th>\n",
       "      <th>category</th>\n",
       "      <th>coord</th>\n",
       "      <th>people</th>\n",
       "      <th>text</th>\n",
       "      <th>toponym</th>\n",
       "      <th>type</th>\n",
       "      <th>type_sec</th>\n",
       "      <th>longitude</th>\n",
       "      <th>latitude</th>\n",
       "    </tr>\n",
       "  </thead>\n",
       "  <tbody>\n",
       "    <tr>\n",
       "      <th>26</th>\n",
       "      <td>2.04.06.02</td>\n",
       "      <td>city</td>\n",
       "      <td>{'long': {'integer': 'ς', 'fraction': 'L'}, 'lat': {'integer': 'λς', 'fraction': 'L'}}</td>\n",
       "      <td>Bastuli</td>\n",
       "      <td>NaN</td>\n",
       "      <td>Μενραλία</td>\n",
       "      <td>locality</td>\n",
       "      <td>coast section</td>\n",
       "      <td>6.500000</td>\n",
       "      <td>36.500000</td>\n",
       "    </tr>\n",
       "    <tr>\n",
       "      <th>27</th>\n",
       "      <td>2.04.06.03</td>\n",
       "      <td>city</td>\n",
       "      <td>{'long': {'integer': 'ς', 'fraction': 'γο'}, 'lat': {'integer': 'λς', 'fraction': 'γ'}}</td>\n",
       "      <td>Bastuli</td>\n",
       "      <td>NaN</td>\n",
       "      <td>Τρανσδούκτα</td>\n",
       "      <td>locality</td>\n",
       "      <td>coast section</td>\n",
       "      <td>6.666667</td>\n",
       "      <td>36.333333</td>\n",
       "    </tr>\n",
       "    <tr>\n",
       "      <th>28</th>\n",
       "      <td>2.04.06.04</td>\n",
       "      <td>city</td>\n",
       "      <td>{'long': {'integer': 'ζ', 'fraction': 'δ'}, 'lat': {'integer': 'λς', 'fraction': 'ς'}}</td>\n",
       "      <td>Bastuli</td>\n",
       "      <td>NaN</td>\n",
       "      <td>Βαρβησόλα</td>\n",
       "      <td>locality</td>\n",
       "      <td>coast section</td>\n",
       "      <td>7.250000</td>\n",
       "      <td>36.166667</td>\n",
       "    </tr>\n",
       "    <tr>\n",
       "      <th>29</th>\n",
       "      <td>2.04.06.05</td>\n",
       "      <td>city</td>\n",
       "      <td>{'long': {'integer': 'ζ', 'fraction': 'L'}, 'lat': {'integer': 'λς', 'fraction': 'ς'}}</td>\n",
       "      <td>Bastuli</td>\n",
       "      <td>NaN</td>\n",
       "      <td>Καρτμία</td>\n",
       "      <td>locality</td>\n",
       "      <td>coast section</td>\n",
       "      <td>7.500000</td>\n",
       "      <td>36.166667</td>\n",
       "    </tr>\n",
       "    <tr>\n",
       "      <th>30</th>\n",
       "      <td>2.04.06.06</td>\n",
       "      <td>mountain</td>\n",
       "      <td>{'long': {'integer': 'ζ', 'fraction': 'L'}, 'lat': {'integer': 'λς', 'fraction': 'δ'}}</td>\n",
       "      <td>Bastuli</td>\n",
       "      <td>NaN</td>\n",
       "      <td>Κάρπη ὅρος καὶ στήλη τῆς ἐντὸς θαλάσσης</td>\n",
       "      <td>locality</td>\n",
       "      <td>coast section</td>\n",
       "      <td>7.500000</td>\n",
       "      <td>36.250000</td>\n",
       "    </tr>\n",
       "  </tbody>\n",
       "</table>\n",
       "</div>"
      ],
      "text/plain": [
       "            ID  category  \\\n",
       "26  2.04.06.02      city   \n",
       "27  2.04.06.03      city   \n",
       "28  2.04.06.04      city   \n",
       "29  2.04.06.05      city   \n",
       "30  2.04.06.06  mountain   \n",
       "\n",
       "                                                                                      coord  \\\n",
       "26   {'long': {'integer': 'ς', 'fraction': 'L'}, 'lat': {'integer': 'λς', 'fraction': 'L'}}   \n",
       "27  {'long': {'integer': 'ς', 'fraction': 'γο'}, 'lat': {'integer': 'λς', 'fraction': 'γ'}}   \n",
       "28   {'long': {'integer': 'ζ', 'fraction': 'δ'}, 'lat': {'integer': 'λς', 'fraction': 'ς'}}   \n",
       "29   {'long': {'integer': 'ζ', 'fraction': 'L'}, 'lat': {'integer': 'λς', 'fraction': 'ς'}}   \n",
       "30   {'long': {'integer': 'ζ', 'fraction': 'L'}, 'lat': {'integer': 'λς', 'fraction': 'δ'}}   \n",
       "\n",
       "     people text                                            toponym      type  \\\n",
       "26  Bastuli  NaN                                          Μενραλία  locality   \n",
       "27  Bastuli  NaN                                       Τρανσδούκτα  locality   \n",
       "28  Bastuli  NaN                                         Βαρβησόλα  locality   \n",
       "29  Bastuli  NaN                                           Καρτμία  locality   \n",
       "30  Bastuli  NaN  Κάρπη ὅρος καὶ στήλη τῆς ἐντὸς θαλάσσης   locality   \n",
       "\n",
       "         type_sec  longitude   latitude  \n",
       "26  coast section   6.500000  36.500000  \n",
       "27  coast section   6.666667  36.333333  \n",
       "28  coast section   7.250000  36.166667  \n",
       "29  coast section   7.500000  36.166667  \n",
       "30  coast section   7.500000  36.250000  "
      ]
     },
     "execution_count": 14,
     "metadata": {},
     "output_type": "execute_result"
    }
   ],
   "source": [
    "dfTemp[26:31]"
   ]
  },
  {
   "cell_type": "code",
   "execution_count": 15,
   "metadata": {},
   "outputs": [],
   "source": [
    "# Xi\n",
    "dfTempX = dfXi.copy()\n",
    "dfTempX['longitude'] = dfXi.apply(lambda row: reformatCoord(row,'long','coord'),axis=1).apply(reformatIntFrac)\n",
    "dfTempX['latitude'] = dfXi.apply(lambda row: reformatCoord(row,'lat','coord'),axis=1).apply(reformatIntFrac)"
   ]
  },
  {
   "cell_type": "code",
   "execution_count": 16,
   "metadata": {},
   "outputs": [
    {
     "name": "stdout",
     "output_type": "stream",
     "text": [
      "{'integer': 'δ', 'fraction': 'ιβ'}\n"
     ]
    }
   ],
   "source": [
    "example={\"integer\":dfXi.coord[4][\"long\"][\"integer\"],\"fraction\":dfXi.coord[4][\"long\"][\"fraction\"]}\n",
    "print(example)"
   ]
  },
  {
   "cell_type": "code",
   "execution_count": 17,
   "metadata": {},
   "outputs": [
    {
     "data": {
      "text/plain": [
       "('λς', 'L')"
      ]
     },
     "execution_count": 17,
     "metadata": {},
     "output_type": "execute_result"
    }
   ],
   "source": [
    "row=dfTemp.iloc[26]\n",
    "row\n",
    "a=reformatCoord(row,'lat','coord')\n",
    "a"
   ]
  },
  {
   "cell_type": "code",
   "execution_count": 18,
   "metadata": {},
   "outputs": [
    {
     "data": {
      "text/plain": [
       "36.5"
      ]
     },
     "execution_count": 18,
     "metadata": {},
     "output_type": "execute_result"
    }
   ],
   "source": [
    "reformatIntFrac(a)"
   ]
  },
  {
   "cell_type": "markdown",
   "metadata": {},
   "source": [
    "## Data preparation for the map drawing"
   ]
  },
  {
   "cell_type": "markdown",
   "metadata": {},
   "source": [
    "### Coasts of the peninsula (Omega)"
   ]
  },
  {
   "cell_type": "markdown",
   "metadata": {},
   "source": [
    "We select the localities that form the coasts of the peninsula. "
   ]
  },
  {
   "cell_type": "code",
   "execution_count": 19,
   "metadata": {},
   "outputs": [],
   "source": [
    "dfOmegaCoasts = dfTemp[(dfTemp.type_sec == 'coast section') & (dfTemp.type == 'locality')]\n",
    "dfOmegaCoasts = dfOmegaCoasts[dfOmegaCoasts.category.apply(lambda row: row not in ['river path','river source'])]"
   ]
  },
  {
   "cell_type": "markdown",
   "metadata": {},
   "source": [
    "We sort the localities in the correct order."
   ]
  },
  {
   "cell_type": "code",
   "execution_count": 20,
   "metadata": {},
   "outputs": [],
   "source": [
    "dfOmegaCoasts = pd.concat([dfOmegaCoasts[39:70].sort_index(ascending=False),dfOmegaCoasts[29:38].sort_index(ascending=False),dfOmegaCoasts[:2],dfOmegaCoasts[4:29],dfTemp[(dfTemp.ID == '2.04.08.08')],dfOmegaCoasts[3:4],dfOmegaCoasts[70:99]])"
   ]
  },
  {
   "cell_type": "markdown",
   "metadata": {},
   "source": [
    "### Inland boundary lines (Omega)"
   ]
  },
  {
   "cell_type": "markdown",
   "metadata": {},
   "source": [
    "Ptolemy's map of the Iberian peninsula contains several boundary lines between the provinces that we want to draw."
   ]
  },
  {
   "cell_type": "code",
   "execution_count": 21,
   "metadata": {},
   "outputs": [],
   "source": [
    "# boundaries of the Baetica province\n",
    "boundary_om1 = dfTemp[(dfTemp.ID == '2.04.03.01')].append(dfTemp[(dfTemp.ID == '2.04.03.03')]).append(dfTemp[(dfTemp.ID == '2.04.03.04')]).append(dfTemp[(dfTemp.ID == '2.04.03.07')])\n",
    "boundary_om1 = boundary_om1[['longitude','latitude']].values\n",
    "\n",
    "#boundaries of the Lusitania province\n",
    "boundary_om2 = dfTemp[(dfTemp.ID == '2.05.01.04')].append(dfTemp[(dfTemp.ID == '2.05.01.06')]).append(dfTemp[(dfTemp.ID == '2.05.04.05')]).append(dfTemp[(dfTemp.ID == '2.04.03.04')])\n",
    "boundary_om2 = boundary_om2[['longitude','latitude']].values"
   ]
  },
  {
   "cell_type": "markdown",
   "metadata": {},
   "source": [
    "The Pyrenees are defined by four points: three are defined by Ptolemy in the catalogue of the Iberian localities, one is defined in the chapter devoted to the province of Gallia Aquitania."
   ]
  },
  {
   "cell_type": "code",
   "execution_count": 22,
   "metadata": {},
   "outputs": [],
   "source": [
    "boundary_om3 = pd.DataFrame({'longitude':[15,17,19,20.333], 'latitude':[45.833,43,43.167,42.333]}).values"
   ]
  },
  {
   "cell_type": "markdown",
   "metadata": {},
   "source": [
    "### Dictionary for coastlines and boudaries (Omega)"
   ]
  },
  {
   "cell_type": "markdown",
   "metadata": {},
   "source": [
    "We save the data for the coastline and boundaries as a dictionary for later use."
   ]
  },
  {
   "cell_type": "code",
   "execution_count": 23,
   "metadata": {},
   "outputs": [],
   "source": [
    "OmegaCoasts = dfOmegaCoasts[['longitude','latitude']].values"
   ]
  },
  {
   "cell_type": "code",
   "execution_count": 24,
   "metadata": {},
   "outputs": [],
   "source": [
    "ob_dict={\"OmegaCoasts\":OmegaCoasts,'boundary_om1' : boundary_om1, 'boundary_om2' : boundary_om2, \"boundary_om3\":boundary_om3 }"
   ]
  },
  {
   "cell_type": "markdown",
   "metadata": {},
   "source": [
    "### Coasts of the peninsula (Xi)"
   ]
  },
  {
   "cell_type": "code",
   "execution_count": 25,
   "metadata": {},
   "outputs": [],
   "source": [
    "dfXiCoasts = dfTempX[(dfTempX.type_sec == 'coast section') & (dfTempX.type == 'locality')]\n",
    "dfXiCoasts = dfXiCoasts[dfXiCoasts.category.apply(lambda row: row not in ['river path','river source'])]"
   ]
  },
  {
   "cell_type": "code",
   "execution_count": 26,
   "metadata": {},
   "outputs": [],
   "source": [
    "dfXiCoasts = pd.concat([dfXiCoasts[37:68].sort_index(ascending=False),dfXiCoasts[27:36].sort_index(ascending=False),dfXiCoasts[:2],dfXiCoasts[4:27],dfTempX[(dfTempX.ID == '2.04.08.08')],dfXiCoasts[3:4],dfXiCoasts[70:99]]);"
   ]
  },
  {
   "cell_type": "code",
   "execution_count": 27,
   "metadata": {},
   "outputs": [],
   "source": [
    "XiCoasts = dfXiCoasts[['longitude','latitude']].values"
   ]
  },
  {
   "cell_type": "markdown",
   "metadata": {},
   "source": [
    "### Inland boundary lines (Xi)"
   ]
  },
  {
   "cell_type": "code",
   "execution_count": 28,
   "metadata": {},
   "outputs": [],
   "source": [
    "# boundaries of the Baetica province\n",
    "boundary_xi1 = dfTempX[(dfTempX.ID == '2.04.03.01')].append(dfTempX[(dfTempX.ID == '2.04.03.03')]).append(dfTempX[(dfTempX.ID == '2.04.03.04')]).append(dfTempX[(dfTempX.ID == '2.04.03.07')])\n",
    "boundary_xi1 = boundary_xi1[['longitude','latitude']].values\n",
    "\n",
    "#boundaries of the Lusitania province\n",
    "boundary_xi2 = dfTempX[(dfTempX.ID == '2.05.01.04')].append(dfTempX[(dfTempX.ID == '2.05.01.06')]).append(dfTempX[(dfTempX.ID == '2.05.04.05')]).append(dfTempX[(dfTempX.ID == '2.04.03.04')])\n",
    "boundary_xi2 = boundary_xi2[['longitude','latitude']].values"
   ]
  },
  {
   "cell_type": "code",
   "execution_count": 29,
   "metadata": {},
   "outputs": [],
   "source": [
    "boundary_xi3 = pd.DataFrame({'longitude':[15.167,17,19,20.333], 'latitude':[45.833,43,43.167,42.333]}).values"
   ]
  },
  {
   "cell_type": "code",
   "execution_count": 30,
   "metadata": {},
   "outputs": [],
   "source": [
    "xb_dict={'XiCoasts':XiCoasts, 'boundary_xi1' : boundary_xi1, 'boundary_xi2' : boundary_xi2, 'boundary_xi3' : boundary_xi3}"
   ]
  },
  {
   "cell_type": "markdown",
   "metadata": {},
   "source": [
    "## Map of the Iberian peninsula, Omega recension"
   ]
  },
  {
   "cell_type": "code",
   "execution_count": 31,
   "metadata": {},
   "outputs": [],
   "source": [
    "df_dict={\"dfTemp\" : dfTemp,  \"dfTempX\" : dfTempX}"
   ]
  },
  {
   "cell_type": "code",
   "execution_count": 32,
   "metadata": {},
   "outputs": [],
   "source": [
    "fig=Geography(ob_dict,xb_dict,df_dict)"
   ]
  },
  {
   "cell_type": "code",
   "execution_count": 40,
   "metadata": {},
   "outputs": [
    {
     "data": {
      "text/html": [
       "\n",
       "\n",
       "\n",
       "\n",
       "\n",
       "\n",
       "  <div class=\"bk-root\" id=\"3a11b407-26bb-4684-90df-e698ea1a9e4d\" data-root-id=\"3136\"></div>\n"
      ]
     },
     "metadata": {},
     "output_type": "display_data"
    },
    {
     "data": {
      "application/javascript": [
       "(function(root) {\n",
       "  function embed_document(root) {\n",
       "    \n",
       "  var docs_json = {\"1cd5e3ab-c73f-427c-8d0c-8317f80595b4\":{\"roots\":{\"references\":[{\"attributes\":{\"background_fill_alpha\":{\"value\":0.5},\"background_fill_color\":{\"value\":\"beige\"},\"below\":[{\"id\":\"3146\",\"type\":\"LinearAxis\"}],\"center\":[{\"id\":\"3150\",\"type\":\"Grid\"},{\"id\":\"3155\",\"type\":\"Grid\"},{\"id\":\"3182\",\"type\":\"Legend\"}],\"left\":[{\"id\":\"3151\",\"type\":\"LinearAxis\"}],\"plot_height\":800,\"plot_width\":1000,\"renderers\":[{\"id\":\"3173\",\"type\":\"GlyphRenderer\"},{\"id\":\"3188\",\"type\":\"GlyphRenderer\"},{\"id\":\"3203\",\"type\":\"GlyphRenderer\"},{\"id\":\"3220\",\"type\":\"GlyphRenderer\"},{\"id\":\"3239\",\"type\":\"GlyphRenderer\"}],\"title\":null,\"toolbar\":{\"id\":\"3161\",\"type\":\"Toolbar\"},\"x_range\":{\"id\":\"3138\",\"type\":\"Range1d\"},\"x_scale\":{\"id\":\"3142\",\"type\":\"LinearScale\"},\"y_range\":{\"id\":\"3140\",\"type\":\"Range1d\"},\"y_scale\":{\"id\":\"3144\",\"type\":\"LinearScale\"}},\"id\":\"3136\",\"subtype\":\"Figure\",\"type\":\"Plot\"},{\"attributes\":{\"callback\":null,\"overlay\":{\"id\":\"3180\",\"type\":\"BoxAnnotation\"}},\"id\":\"3157\",\"type\":\"BoxSelectTool\"},{\"attributes\":{\"fill_alpha\":{\"value\":0.2},\"fill_color\":{\"value\":\"#1f77b4\"},\"line_alpha\":{\"value\":0.2},\"line_color\":{\"value\":\"#1f77b4\"},\"size\":{\"units\":\"screen\",\"value\":6},\"x\":{\"field\":\"x\"},\"y\":{\"field\":\"y\"}},\"id\":\"3238\",\"type\":\"Circle\"},{\"attributes\":{\"ticker\":{\"id\":\"3147\",\"type\":\"BasicTicker\"}},\"id\":\"3150\",\"type\":\"Grid\"},{\"attributes\":{\"callback\":null,\"data\":{\"x\":{\"__ndarray__\":\"VVVVVVVVFUBVVVVVVVUiQAAAAAAAACJAAAAAAAAAIkA=\",\"dtype\":\"float64\",\"shape\":[4]},\"y\":{\"__ndarray__\":\"q6qqqqrqRECrqqqqqqpEQFVVVVVVFURAAAAAAACAQ0A=\",\"dtype\":\"float64\",\"shape\":[4]}},\"selected\":{\"id\":\"3234\",\"type\":\"Selection\"},\"selection_policy\":{\"id\":\"3233\",\"type\":\"UnionRenderers\"}},\"id\":\"3199\",\"type\":\"ColumnDataSource\"},{\"attributes\":{\"click_policy\":\"mute\",\"items\":[{\"id\":\"3183\",\"type\":\"LegendItem\"},{\"id\":\"3255\",\"type\":\"LegendItem\"}]},\"id\":\"3182\",\"type\":\"Legend\"},{\"attributes\":{\"data_source\":{\"id\":\"3167\",\"type\":\"ColumnDataSource\"},\"glyph\":{\"id\":\"3236\",\"type\":\"Circle\"},\"hover_glyph\":null,\"muted_glyph\":{\"id\":\"3238\",\"type\":\"Circle\"},\"nonselection_glyph\":{\"id\":\"3237\",\"type\":\"Circle\"},\"selection_glyph\":null,\"view\":{\"id\":\"3168\",\"type\":\"CDSView\"}},\"id\":\"3239\",\"type\":\"GlyphRenderer\"},{\"attributes\":{\"x\":{\"field\":\"x\"},\"y\":{\"field\":\"y\"}},\"id\":\"3200\",\"type\":\"Line\"},{\"attributes\":{},\"id\":\"3197\",\"type\":\"UnionRenderers\"},{\"attributes\":{},\"id\":\"3253\",\"type\":\"UnionRenderers\"},{\"attributes\":{\"line_alpha\":0.1,\"line_color\":\"#1f77b4\",\"x\":{\"field\":\"x\"},\"y\":{\"field\":\"y\"}},\"id\":\"3201\",\"type\":\"Line\"},{\"attributes\":{},\"id\":\"3152\",\"type\":\"BasicTicker\"},{\"attributes\":{\"line_alpha\":0.1,\"line_color\":\"#1f77b4\",\"x\":{\"field\":\"x\"},\"y\":{\"field\":\"y\"}},\"id\":\"3186\",\"type\":\"Line\"},{\"attributes\":{},\"id\":\"3144\",\"type\":\"LinearScale\"},{\"attributes\":{},\"id\":\"3254\",\"type\":\"Selection\"},{\"attributes\":{\"data_source\":{\"id\":\"3169\",\"type\":\"ColumnDataSource\"},\"glyph\":{\"id\":\"3170\",\"type\":\"Line\"},\"hover_glyph\":null,\"muted_glyph\":{\"id\":\"3172\",\"type\":\"Line\"},\"nonselection_glyph\":{\"id\":\"3171\",\"type\":\"Line\"},\"selection_glyph\":null,\"view\":{\"id\":\"3174\",\"type\":\"CDSView\"}},\"id\":\"3173\",\"type\":\"GlyphRenderer\"},{\"attributes\":{\"line_alpha\":0.2,\"line_color\":\"#1f77b4\",\"x\":{\"field\":\"x\"},\"y\":{\"field\":\"y\"}},\"id\":\"3202\",\"type\":\"Line\"},{\"attributes\":{\"formatter\":{\"id\":\"3179\",\"type\":\"BasicTickFormatter\"},\"ticker\":{\"id\":\"3152\",\"type\":\"BasicTicker\"}},\"id\":\"3151\",\"type\":\"LinearAxis\"},{\"attributes\":{\"label\":{\"value\":\"Localities in Omega \"},\"renderers\":[{\"id\":\"3239\",\"type\":\"GlyphRenderer\"}]},\"id\":\"3255\",\"type\":\"LegendItem\"},{\"attributes\":{\"data_source\":{\"id\":\"3199\",\"type\":\"ColumnDataSource\"},\"glyph\":{\"id\":\"3200\",\"type\":\"Line\"},\"hover_glyph\":null,\"muted_glyph\":{\"id\":\"3202\",\"type\":\"Line\"},\"nonselection_glyph\":{\"id\":\"3201\",\"type\":\"Line\"},\"selection_glyph\":null,\"view\":{\"id\":\"3204\",\"type\":\"CDSView\"}},\"id\":\"3203\",\"type\":\"GlyphRenderer\"},{\"attributes\":{\"callback\":null,\"data\":{\"x\":{\"__ndarray__\":\"VVVVVVVVEEBVVVVVVVUZQAAAAAAAACJAAAAAAAAAKEA=\",\"dtype\":\"float64\",\"shape\":[4]},\"y\":{\"__ndarray__\":\"VVVVVVXVQkAAAAAAAIBDQAAAAAAAgENAAAAAAACgQkA=\",\"dtype\":\"float64\",\"shape\":[4]}},\"selected\":{\"id\":\"3215\",\"type\":\"Selection\"},\"selection_policy\":{\"id\":\"3214\",\"type\":\"UnionRenderers\"}},\"id\":\"3184\",\"type\":\"ColumnDataSource\"},{\"attributes\":{\"source\":{\"id\":\"3169\",\"type\":\"ColumnDataSource\"}},\"id\":\"3174\",\"type\":\"CDSView\"},{\"attributes\":{\"source\":{\"id\":\"3199\",\"type\":\"ColumnDataSource\"}},\"id\":\"3204\",\"type\":\"CDSView\"},{\"attributes\":{},\"id\":\"3198\",\"type\":\"Selection\"},{\"attributes\":{\"bottom_units\":\"screen\",\"fill_alpha\":{\"value\":0.5},\"fill_color\":{\"value\":\"lightgrey\"},\"left_units\":\"screen\",\"level\":\"overlay\",\"line_alpha\":{\"value\":1.0},\"line_color\":{\"value\":\"black\"},\"line_dash\":[4,4],\"line_width\":{\"value\":2},\"render_mode\":\"css\",\"right_units\":\"screen\",\"top_units\":\"screen\"},\"id\":\"3181\",\"type\":\"BoxAnnotation\"},{\"attributes\":{},\"id\":\"3142\",\"type\":\"LinearScale\"},{\"attributes\":{\"dimension\":1,\"ticker\":{\"id\":\"3152\",\"type\":\"BasicTicker\"}},\"id\":\"3155\",\"type\":\"Grid\"},{\"attributes\":{},\"id\":\"3393\",\"type\":\"UnionRenderers\"},{\"attributes\":{\"formatter\":{\"id\":\"3177\",\"type\":\"BasicTickFormatter\"},\"ticker\":{\"id\":\"3147\",\"type\":\"BasicTicker\"}},\"id\":\"3146\",\"type\":\"LinearAxis\"},{\"attributes\":{},\"id\":\"3214\",\"type\":\"UnionRenderers\"},{\"attributes\":{\"active_drag\":\"auto\",\"active_inspect\":\"auto\",\"active_multi\":null,\"active_scroll\":\"auto\",\"active_tap\":\"auto\",\"tools\":[{\"id\":\"3156\",\"type\":\"HoverTool\"},{\"id\":\"3157\",\"type\":\"BoxSelectTool\"},{\"id\":\"3158\",\"type\":\"BoxZoomTool\"},{\"id\":\"3159\",\"type\":\"WheelZoomTool\"},{\"id\":\"3160\",\"type\":\"ResetTool\"}]},\"id\":\"3161\",\"type\":\"Toolbar\"},{\"attributes\":{\"source\":{\"id\":\"3184\",\"type\":\"ColumnDataSource\"}},\"id\":\"3189\",\"type\":\"CDSView\"},{\"attributes\":{\"data_source\":{\"id\":\"3184\",\"type\":\"ColumnDataSource\"},\"glyph\":{\"id\":\"3185\",\"type\":\"Line\"},\"hover_glyph\":null,\"muted_glyph\":{\"id\":\"3187\",\"type\":\"Line\"},\"nonselection_glyph\":{\"id\":\"3186\",\"type\":\"Line\"},\"selection_glyph\":null,\"view\":{\"id\":\"3189\",\"type\":\"CDSView\"}},\"id\":\"3188\",\"type\":\"GlyphRenderer\"},{\"attributes\":{\"callback\":null,\"data\":{\"x\":[\"NaN\",\"NaN\",\"NaN\",\"NaN\",4.083333333333333,4.333333333333333,6.333333333333333,9.0,12.0,14.0,\"NaN\",\"NaN\",\"NaN\",\"NaN\",\"NaN\",4.666666666666667,5.083333333333333,5.333333333333333,12.0,6.0,6.0,6.0,5.75,6.166666666666667,6.25,\"NaN\",6.5,6.666666666666667,7.25,7.5,7.5,\"NaN\",7.666666666666667,8.0,8.5,8.833333333333334,9.25,9.75,10.25,10.833333333333334,10.75,11.333333333333334,11.5,\"NaN\",11.75,\"NaN\",\"NaN\",9.166666666666666,9.5,9.0,9.75,9.25,10.0,9.333333333333334,9.5,10.166666666666666,8.75,8.666666666666666,8.25,8.75,8.0,7.5,7.0,6.25,6.166666666666667,9.666666666666666,9.666666666666666,9.5,9.166666666666666,9.666666666666666,10.166666666666666,10.25,10.416666666666666,10.75,11.0,\"NaN\",\"NaN\",4.333333333333333,4.666666666666667,5.0,5.166666666666667,5.666666666666667,6.0,6.5,5.5,5.666666666666667,5.5,6.0,6.666666666666667,6.5,7.0,6.333333333333333,7.0,6.5,6.666666666666667,7.0,6.5,6.5,7.0,9.166666666666666,7.166666666666667,8.0,7.0,7.333333333333333,7.666666666666667,7.25,8.0,7.666666666666667,7.333333333333333,7.5,7.25,8.5,8.666666666666666,8.583333333333334,8.25,8.166666666666666,\"NaN\",5.833333333333333,6.5,6.0,6.5,6.25,\"NaN\",7.333333333333333,6.5,5.166666666666667,\"NaN\",\"NaN\",5.333333333333333,9.166666666666666,12.666666666666666,\"NaN\",\"NaN\",\"NaN\",\"NaN\",\"NaN\",3.6666666666666665,3.0,2.5,5.0,5.083333333333333,4.416666666666667,\"NaN\",4.25,5.166666666666667,5.5,9.0,11.666666666666666,5.0,5.166666666666667,5.166666666666667,5.333333333333333,\"NaN\",\"NaN\",5.333333333333333,5.25,\"NaN\",5.75,5.333333333333333,6.0,5.333333333333333,5.666666666666667,6.166666666666667,5.666666666666667,6.166666666666667,6.166666666666667,\"NaN\",\"NaN\",5.5,5.666666666666667,6.0,6.5,6.666666666666667,7.25,7.333333333333333,5.5,5.666666666666667,6.0,6.333333333333333,6.666666666666667,7.5,7.166666666666667,6.833333333333333,6.666666666666667,8.0,7.333333333333333,6.833333333333333,6.666666666666667,7.0,7.0,7.833333333333333,7.333333333333333,8.0,7.333333333333333,7.666666666666667,8.5,8.666666666666666,\"NaN\",8.5,8.0,8.833333333333334,8.0,8.333333333333334,8.5,8.333333333333334,8.333333333333334,8.666666666666666,8.833333333333334,8.5,\"NaN\",3.0,\"NaN\",\"NaN\",\"NaN\",5.5,5.166666666666667,5.666666666666667,5.5,5.333333333333333,11.5,\"NaN\",5.5,5.666666666666667,5.666666666666667,5.333333333333333,5.25,\"NaN\",\"NaN\",5.666666666666667,6.25,6.5,\"NaN\",7.25,8.25,9.0,10.333333333333334,11.333333333333334,\"NaN\",11.75,12.0,\"NaN\",13.0,\"NaN\",13.166666666666666,13.5,\"NaN\",13.75,\"NaN\",14.333333333333334,\"NaN\",15.166666666666666,15.0,\"NaN\",20.333333333333332,17.0,\"NaN\",\"NaN\",12.0,\"NaN\",12.0,\"NaN\",12.166666666666666,12.25,12.916666666666666,12.5,12.666666666666666,13.0,13.5,14.0,\"NaN\",14.666666666666666,15.0,15.666666666666666,\"NaN\",15.916666666666666,15.5,16.0,14.0,12.5,\"NaN\",16.333333333333332,16.833333333333332,\"NaN\",17.25,17.5,17.833333333333332,18.5,18.0,18.25,\"NaN\",18.5,18.75,19.0,19.5,20.333333333333332,\"NaN\",9.0,11.5,14.666666666666666,16.0,14.0,14.333333333333334,12.0,14.0,\"NaN\",5.75,6.166666666666667,\"NaN\",8.25,8.5,9.333333333333334,10.166666666666666,10.166666666666666,7.0,6.333333333333333,7.0,8.333333333333334,8.833333333333334,\"NaN\",6.416666666666667,7.416666666666667,\"NaN\",6.333333333333333,7.5,\"NaN\",7.333333333333333,\"NaN\",8.5,8.5,\"NaN\",11.0,11.0,10.25,9.333333333333334,9.333333333333334,10.333333333333334,11.5,8.5,9.0,0.0,\"NaN\",10.0,\"NaN\",10.833333333333334,\"NaN\",11.166666666666666,\"NaN\",11.666666666666666,\"NaN\",13.0,\"NaN\",9.5,\"NaN\",9.5,\"NaN\",7.5,\"NaN\",8.0,\"NaN\",6.0,6.5,6.833333333333333,8.333333333333334,8.5,\"NaN\",6.5,\"NaN\",6.0,\"NaN\",6.0,\"NaN\",7.333333333333333,\"NaN\",6.0,\"NaN\",8.333333333333334,\"NaN\",7.5,\"NaN\",7.333333333333333,\"NaN\",8.166666666666666,\"NaN\",8.0,\"NaN\",9.75,10.25,11.0,9.666666666666666,10.333333333333334,9.5,9.666666666666666,9.666666666666666,9.333333333333334,9.833333333333334,10.5,9.0,9.666666666666666,10.0,9.666666666666666,10.166666666666666,9.0,9.5,\"NaN\",\"NaN\",12.166666666666666,12.666666666666666,12.0,11.333333333333334,12.5,11.666666666666666,12.166666666666666,11.75,\"NaN\",12.0,11.25,11.833333333333334,12.0,\"NaN\",13.0,13.0,12.0,13.0,13.25,12.666666666666666,13.0,\"NaN\",\"NaN\",11.166666666666666,11.5,12.5,\"NaN\",\"NaN\",13.0,13.0,13.0,\"NaN\",\"NaN\",11.0,11.0,11.5,11.5,12.5,11.333333333333334,12.666666666666666,13.416666666666666,13.5,13.25,\"NaN\",\"NaN\",9.666666666666666,10.5,11.0,11.5,12.0,13.0,11.666666666666666,10.0,10.333333333333334,11.333333333333334,9.666666666666666,10.25,10.333333333333334,11.0,10.5,9.833333333333334,10.5,10.333333333333334,\"NaN\",13.666666666666666,13.5,14.0,14.75,13.333333333333334,12.166666666666666,13.0,13.5,12.333333333333334,13.166666666666666,13.333333333333334,12.75,13.5,12.5,11.5,12.0,12.333333333333334,11.666666666666666,\"NaN\",9.333333333333334,10.0,9.166666666666666,10.0,9.5,10.666666666666666,11.333333333333334,9.5,9.75,10.333333333333334,11.0,10.0,10.833333333333334,\"NaN\",\"NaN\",13.0,\"NaN\",\"NaN\",13.333333333333334,13.0,13.5,12.0,12.5,11.666666666666666,12.0,11.333333333333334,11.0,11.5,11.333333333333334,11.5,11.166666666666666,11.166666666666666,11.75,\"NaN\",\"NaN\",13.75,14.0,13.166666666666666,13.666666666666666,12.333333333333334,12.333333333333334,\"NaN\",\"NaN\",14.25,14.166666666666666,14.666666666666666,14.166666666666666,14.666666666666666,14.5,14.666666666666666,14.25,14.333333333333334,14.833333333333334,14.416666666666666,14.583333333333334,\"NaN\",\"NaN\",16.666666666666668,14.916666666666666,15.25,15.666666666666666,15.5,15.083333333333334,15.25,\"NaN\",\"NaN\",\"NaN\",13.333333333333334,13.666666666666666,13.916666666666666,\"NaN\",\"NaN\",14.0,14.5,13.916666666666666,14.583333333333334,14.333333333333334,13.666666666666666,14.0,\"NaN\",\"NaN\",15.416666666666666,15.0,15.5,15.0,15.083333333333334,14.833333333333334,15.5,15.0,14.666666666666666,15.0,14.0,14.75,14.333333333333334,14.666666666666666,14.666666666666666,\"NaN\",\"NaN\",16.5,16.0,15.5,15.75,15.166666666666666,16.0,15.166666666666666,15.5,15.0,15.416666666666666,\"NaN\",17.333333333333332,\"NaN\",16.666666666666668,16.166666666666668,17.0,16.666666666666668,\"NaN\",17.916666666666668,17.916666666666668,17.333333333333332,17.5,\"NaN\",\"NaN\",16.333333333333332,16.5,16.0,16.666666666666668,16.0,15.666666666666666,16.75,15.5,16.333333333333332,15.833333333333334,\"NaN\",18.666666666666668,18.5,\"NaN\",17.333333333333332,\"NaN\",9.0,\"NaN\",4.0,4.666666666666667,\"NaN\",14.833333333333334,14.0,\"NaN\",\"NaN\",16.166666666666668,16.75,\"NaN\",17.166666666666668,17.5],\"y\":[\"NaN\",\"NaN\",\"NaN\",\"NaN\",37.666666666666664,37.5,39.0,39.0,37.25,40.0,\"NaN\",\"NaN\",\"NaN\",\"NaN\",\"NaN\",37.333333333333336,37.166666666666664,37.0,38.5,36.75,36.833333333333336,36.333333333333336,36.0,36.166666666666664,36.666666666666664,\"NaN\",36.5,36.333333333333336,36.166666666666664,36.166666666666664,36.25,\"NaN\",36.666666666666664,36.083333333333336,37.0,37.5,37.25,37.25,37.25,37.083333333333336,37.166666666666664,37.083333333333336,36.333333333333336,\"NaN\",37.166666666666664,\"NaN\",\"NaN\",38.833333333333336,38.666666666666664,38.5,38.166666666666664,38.5,38.25,38.083333333333336,38.0,38.0,37.75,37.416666666666664,37.666666666666664,37.916666666666664,37.166666666666664,37.0,36.666666666666664,36.916666666666664,36.333333333333336,38.083333333333336,37.75,37.5,37.5,37.416666666666664,37.75,37.5,37.833333333333336,37.833333333333336,37.666666666666664,\"NaN\",\"NaN\",38.0,37.75,37.25,38.333333333333336,38.333333333333336,38.333333333333336,37.75,37.333333333333336,37.5,37.75,37.333333333333336,38.333333333333336,38.666666666666664,38.0,37.333333333333336,37.666666666666664,37.5,37.25,37.166666666666664,37.916666666666664,37.333333333333336,38.833333333333336,38.0,37.833333333333336,38.666666666666664,38.416666666666664,38.333333333333336,37.5,37.833333333333336,37.75,37.75,37.166666666666664,37.416666666666664,37.083333333333336,38.5,38.583333333333336,38.333333333333336,38.333333333333336,38.0,\"NaN\",38.0,38.5,38.666666666666664,38.833333333333336,38.416666666666664,\"NaN\",37.666666666666664,37.083333333333336,36.166666666666664,\"NaN\",\"NaN\",41.833333333333336,41.333333333333336,41.666666666666664,\"NaN\",\"NaN\",\"NaN\",\"NaN\",\"NaN\",37.75,37.833333333333336,38.25,39.0,39.416666666666664,39.5,\"NaN\",39.75,40.25,40.166666666666664,40.166666666666664,40.75,40.666666666666664,40.833333333333336,41.333333333333336,41.833333333333336,\"NaN\",\"NaN\",39.0,38.75,\"NaN\",40.25,40.0,40.0,39.75,39.0,39.666666666666664,39.333333333333336,39.333333333333336,39.083333333333336,\"NaN\",\"NaN\",41.083333333333336,41.5,41.333333333333336,41.25,41.5,41.083333333333336,41.5,40.666666666666664,40.5,41.0,40.75,40.5,40.75,40.5,40.25,40.0,40.25,40.0,39.75,39.5,39.333333333333336,39.083333333333336,39.916666666666664,39.666666666666664,39.5,39.25,39.083333333333336,39.5,39.166666666666664,\"NaN\",41.666666666666664,41.5,41.833333333333336,41.25,41.25,41.0,41.0,40.75,40.666666666666664,40.416666666666664,40.083333333333336,\"NaN\",41.0,\"NaN\",\"NaN\",\"NaN\",42.25,42.5,42.75,43.25,43.666666666666664,44.25,\"NaN\",44.0,44.333333333333336,44.666666666666664,45.0,45.166666666666664,\"NaN\",\"NaN\",45.5,45.5,45.5,\"NaN\",45.0,45.833333333333336,45.75,45.666666666666664,45.75,\"NaN\",45.416666666666664,45.5,\"NaN\",45.666666666666664,\"NaN\",44.666666666666664,44.25,\"NaN\",44.416666666666664,\"NaN\",45.0,\"NaN\",45.083333333333336,45.833333333333336,\"NaN\",42.333333333333336,43.0,\"NaN\",\"NaN\",37.25,\"NaN\",37.333333333333336,\"NaN\",37.5,37.916666666666664,38.083333333333336,38.5,38.583333333333336,38.75,38.75,38.333333333333336,\"NaN\",38.916666666666664,39.0,39.5,\"NaN\",39.666666666666664,40.0,40.5,42.0,44.0,\"NaN\",40.666666666666664,40.75,\"NaN\",41.0,41.0,41.333333333333336,41.5,41.75,42.0,\"NaN\",42.166666666666664,42.333333333333336,42.5,42.5,42.333333333333336,\"NaN\",45.0,44.25,42.25,43.0,41.5,39.0,37.666666666666664,39.666666666666664,\"NaN\",45.166666666666664,44.75,\"NaN\",45.083333333333336,45.5,45.333333333333336,44.666666666666664,44.916666666666664,44.75,43.75,43.5,44.416666666666664,44.583333333333336,\"NaN\",44.5,44.416666666666664,\"NaN\",44.333333333333336,44.0,\"NaN\",44.75,\"NaN\",44.5,45.166666666666664,\"NaN\",45.0,44.5,44.333333333333336,44.75,43.5,44.0,43.75,43.75,44.0,0.0,\"NaN\",44.833333333333336,\"NaN\",43.916666666666664,\"NaN\",44.25,\"NaN\",44.833333333333336,\"NaN\",43.75,\"NaN\",43.666666666666664,\"NaN\",44.0,\"NaN\",43.75,\"NaN\",43.75,\"NaN\",43.666666666666664,43.5,43.5,43.416666666666664,43.416666666666664,\"NaN\",43.666666666666664,\"NaN\",42.583333333333336,\"NaN\",43.333333333333336,\"NaN\",43.333333333333336,\"NaN\",42.25,\"NaN\",42.75,\"NaN\",42.666666666666664,\"NaN\",42.333333333333336,\"NaN\",42.333333333333336,\"NaN\",42.0,\"NaN\",43.916666666666664,43.416666666666664,43.5,43.333333333333336,43.0,43.0,42.666666666666664,42.916666666666664,42.5,42.0,42.5,42.333333333333336,42.416666666666664,42.333333333333336,42.166666666666664,42.0,42.0,41.666666666666664,\"NaN\",\"NaN\",44.666666666666664,44.75,44.166666666666664,44.666666666666664,44.25,44.666666666666664,44.0,43.333333333333336,\"NaN\",43.666666666666664,43.5,43.333333333333336,43.166666666666664,\"NaN\",44.25,43.5,43.0,43.0,43.5,43.25,42.666666666666664,\"NaN\",\"NaN\",42.0,42.666666666666664,42.666666666666664,\"NaN\",\"NaN\",42.0,41.666666666666664,42.25,\"NaN\",\"NaN\",42.833333333333336,42.0,42.416666666666664,42.0,41.666666666666664,41.833333333333336,42.5,42.75,42.916666666666664,42.5,\"NaN\",\"NaN\",41.0,41.666666666666664,41.5,41.5,41.833333333333336,41.333333333333336,41.0,41.0,41.666666666666664,40.0,40.333333333333336,40.75,40.583333333333336,40.5,40.916666666666664,40.25,40.25,39.75,\"NaN\",41.166666666666664,41.333333333333336,41.75,41.5,41.666666666666664,41.0,41.0,41.666666666666664,40.75,40.666666666666664,40.5,40.833333333333336,40.5,40.666666666666664,40.25,40.333333333333336,40.166666666666664,39.75,\"NaN\",40.0,39.0,39.666666666666664,39.5,39.5,39.166666666666664,39.0,39.0,39.5,39.0,39.666666666666664,38.75,38.333333333333336,\"NaN\",\"NaN\",40.333333333333336,\"NaN\",\"NaN\",39.833333333333336,39.333333333333336,39.75,39.5,39.666666666666664,39.25,39.166666666666664,39.75,38.583333333333336,38.666666666666664,37.75,38.166666666666664,38.333333333333336,38.0,38.5,\"NaN\",\"NaN\",39.25,39.0,39.0,38.916666666666664,38.5,38.916666666666664,\"NaN\",\"NaN\",41.5,41.25,41.0,40.75,40.666666666666664,40.5,40.25,40.166666666666664,39.75,39.666666666666664,39.416666666666664,39.666666666666664,\"NaN\",\"NaN\",41.333333333333336,41.166666666666664,40.666666666666664,40.5,40.333333333333336,40.25,40.0,\"NaN\",\"NaN\",\"NaN\",43.75,42.75,43.333333333333336,\"NaN\",\"NaN\",43.916666666666664,43.75,43.75,43.166666666666664,43.5,43.75,42.833333333333336,\"NaN\",\"NaN\",43.916666666666664,43.75,43.666666666666664,43.5,43.083333333333336,43.25,43.416666666666664,43.0,42.916666666666664,42.75,42.583333333333336,42.5,42.416666666666664,42.25,43.333333333333336,\"NaN\",\"NaN\",43.0,42.75,42.5,42.25,42.5,42.5,41.916666666666664,41.666666666666664,41.5,41.416666666666664,\"NaN\",42.75,\"NaN\",42.166666666666664,42.166666666666664,42.25,42.666666666666664,\"NaN\",42.25,42.5,41.916666666666664,42.5,\"NaN\",\"NaN\",42.0,41.75,41.666666666666664,41.583333333333336,41.166666666666664,41.333333333333336,41.916666666666664,41.0,41.333333333333336,40.833333333333336,\"NaN\",42.583333333333336,42.416666666666664,\"NaN\",41.583333333333336,\"NaN\",46.75,\"NaN\",45.5,43.333333333333336,\"NaN\",38.333333333333336,38.083333333333336,\"NaN\",\"NaN\",39.25,39.25,\"NaN\",39.5,39.5]},\"selected\":{\"id\":\"3394\",\"type\":\"Selection\"},\"selection_policy\":{\"id\":\"3393\",\"type\":\"UnionRenderers\"}},\"id\":\"3167\",\"type\":\"ColumnDataSource\"},{\"attributes\":{},\"id\":\"3394\",\"type\":\"Selection\"},{\"attributes\":{},\"id\":\"3147\",\"type\":\"BasicTicker\"},{\"attributes\":{},\"id\":\"3215\",\"type\":\"Selection\"},{\"attributes\":{\"line_alpha\":0.2,\"line_color\":\"#1f77b4\",\"x\":{\"field\":\"x\"},\"y\":{\"field\":\"y\"}},\"id\":\"3172\",\"type\":\"Line\"},{\"attributes\":{\"callback\":null,\"data\":{\"x\":{\"__ndarray__\":\"AAAAAAAALkAAAAAAAAAxQAAAAAAAADNAaJHtfD9VNEA=\",\"dtype\":\"float64\",\"shape\":[4]},\"y\":{\"__ndarray__\":\"tMh2vp/qRkAAAAAAAIBFQEw3iUFglUVAtMh2vp8qRUA=\",\"dtype\":\"float64\",\"shape\":[4]}},\"selected\":{\"id\":\"3254\",\"type\":\"Selection\"},\"selection_policy\":{\"id\":\"3253\",\"type\":\"UnionRenderers\"}},\"id\":\"3216\",\"type\":\"ColumnDataSource\"},{\"attributes\":{\"callback\":null,\"tooltips\":[[\"index\",\"$index\"],[\"(x,y)\",\"($x, $y)\"]]},\"id\":\"3156\",\"type\":\"HoverTool\"},{\"attributes\":{\"x\":{\"field\":\"x\"},\"y\":{\"field\":\"y\"}},\"id\":\"3217\",\"type\":\"Line\"},{\"attributes\":{\"line_alpha\":0.2,\"line_color\":\"#1f77b4\",\"x\":{\"field\":\"x\"},\"y\":{\"field\":\"y\"}},\"id\":\"3187\",\"type\":\"Line\"},{\"attributes\":{},\"id\":\"3159\",\"type\":\"WheelZoomTool\"},{\"attributes\":{\"source\":{\"id\":\"3167\",\"type\":\"ColumnDataSource\"}},\"id\":\"3168\",\"type\":\"CDSView\"},{\"attributes\":{\"callback\":null,\"end\":22,\"start\":1.5},\"id\":\"3138\",\"type\":\"Range1d\"},{\"attributes\":{\"line_alpha\":0.1,\"line_color\":\"#1f77b4\",\"x\":{\"field\":\"x\"},\"y\":{\"field\":\"y\"}},\"id\":\"3218\",\"type\":\"Line\"},{\"attributes\":{\"overlay\":{\"id\":\"3181\",\"type\":\"BoxAnnotation\"}},\"id\":\"3158\",\"type\":\"BoxZoomTool\"},{\"attributes\":{\"callback\":null,\"end\":47,\"start\":35.5},\"id\":\"3140\",\"type\":\"Range1d\"},{\"attributes\":{\"line_alpha\":0.2,\"line_color\":\"#1f77b4\",\"x\":{\"field\":\"x\"},\"y\":{\"field\":\"y\"}},\"id\":\"3219\",\"type\":\"Line\"},{\"attributes\":{\"data_source\":{\"id\":\"3216\",\"type\":\"ColumnDataSource\"},\"glyph\":{\"id\":\"3217\",\"type\":\"Line\"},\"hover_glyph\":null,\"muted_glyph\":{\"id\":\"3219\",\"type\":\"Line\"},\"nonselection_glyph\":{\"id\":\"3218\",\"type\":\"Line\"},\"selection_glyph\":null,\"view\":{\"id\":\"3221\",\"type\":\"CDSView\"}},\"id\":\"3220\",\"type\":\"GlyphRenderer\"},{\"attributes\":{},\"id\":\"3160\",\"type\":\"ResetTool\"},{\"attributes\":{},\"id\":\"3233\",\"type\":\"UnionRenderers\"},{\"attributes\":{\"source\":{\"id\":\"3216\",\"type\":\"ColumnDataSource\"}},\"id\":\"3221\",\"type\":\"CDSView\"},{\"attributes\":{\"x\":{\"field\":\"x\"},\"y\":{\"field\":\"y\"}},\"id\":\"3185\",\"type\":\"Line\"},{\"attributes\":{\"callback\":null,\"data\":{\"x\":{\"__ndarray__\":\"AAAAAAAALkBVVVVVVVUuQKuqqqqqqixAAAAAAACAK0AAAAAAAAArQFVVVVVVVSpAAAAAAAAAKkAAAAAAAAAoQAAAAAAAgCdAq6qqqqqqJkCrqqqqqqokQAAAAAAAACJAAAAAAACAIEAAAAAAAAAdQAAAAAAAABpAAAAAAAAAGUCrqqqqqqoWQAAAAAAAABVAVVVVVVVVFUCrqqqqqqoWQKuqqqqqqhZAAAAAAAAAFkBVVVVVVVUVQAAAAAAAABZAq6qqqqqqFkCrqqqqqqoUQAAAAAAAABZAVVVVVVVVFUCrqqqqqqoUQKuqqqqqqhRAAAAAAAAAFEAAAAAAAAAWQKuqqqqqqhRAAAAAAAAAEUCrqqqqqqoRQFVVVVVVVRRAAAAAAAAAFEAAAAAAAAAEQAAAAAAAAAhAVVVVVVVVDUBVVVVVVVUQQFVVVVVVVRFAq6qqqqqqEkBVVVVVVVUUQFVVVVVVVRVAAAAAAAAAGEAAAAAAAAAYQAAAAAAAABhAAAAAAAAAF0CrqqqqqqoYQAAAAAAAABlAAAAAAAAAGkCrqqqqqqoaQAAAAAAAAB1AAAAAAAAAHkAAAAAAAAAeQKuqqqqqqh5AAAAAAAAAIEAAAAAAAAAhQKuqqqqqqiFAAAAAAACAIkAAAAAAAIAjQAAAAAAAgCRAq6qqqqqqJUAAAAAAAIAlQKuqqqqqqiZAAAAAAAAAJ0AAAAAAAIAnQAAAAAAAAChAAAAAAAAAKEBVVVVVVVUoQAAAAAAAgChAVVVVVVXVKUAAAAAAAAApQFVVVVVVVSlAAAAAAAAAKkAAAAAAAAArQAAAAAAAACxAVVVVVVVVLUAAAAAAAAAuQFVVVVVVVS9AVVVVVVXVL0AAAAAAAAAvQAAAAAAAADBAVVVVVVVVMEBVVVVVVdUwQAAAAAAAQDFAAAAAAACAMUBVVVVVVdUxQAAAAAAAgDJAAAAAAAAAMkAAAAAAAEAyQAAAAAAAgDJAAAAAAADAMkAAAAAAAAAzQAAAAAAAgDNAVVVVVVVVNEA=\",\"dtype\":\"float64\",\"shape\":[97]},\"y\":{\"__ndarray__\":\"q6qqqqrqRkCrqqqqqopGQAAAAAAAgEZAVVVVVVU1RkAAAAAAACBGQFVVVVVVVUZAVVVVVVXVRkAAAAAAAMBGQFVVVVVVtUZAAAAAAADgRkBVVVVVVdVGQAAAAAAA4EZAq6qqqqrqRkAAAAAAAIBGQAAAAAAAwEZAAAAAAADARkAAAAAAAMBGQFVVVVVVlUZAAAAAAACARkBVVVVVVVVGQKuqqqqqKkZAAAAAAAAARkBVVVVVVdVFQAAAAAAAoEVAAAAAAABgRUAAAAAAAEBFQAAAAAAAIEVAq6qqqqrqRECrqqqqqqpEQKuqqqqqakRAVVVVVVVVREBVVVVVVRVEQAAAAAAAIERAAAAAAADgQ0AAAAAAAMBDQFVVVVVVtUNAAAAAAACAQ0AAAAAAACBDQKuqqqqq6kJAAAAAAADgQkBVVVVVVdVCQAAAAAAAwEJAq6qqqqqqQkBVVVVVVZVCQAAAAAAAgEJAAAAAAABgQkCrqqqqqmpCQKuqqqqqKkJAAAAAAAAAQkBVVVVVVRVCQFVVVVVVVUJAAAAAAABAQkCrqqqqqipCQFVVVVVVFUJAVVVVVVUVQkAAAAAAACBCQFVVVVVVVUJAq6qqqqoKQkAAAAAAAIBCQAAAAAAAwEJAAAAAAACgQkAAAAAAAKBCQAAAAAAAoEJAq6qqqqqKQkBVVVVVVZVCQKuqqqqqikJAq6qqqqoqQkBVVVVVVZVCQAAAAAAAoEJAq6qqqqqqQkAAAAAAAMBCQFVVVVVV9UJAq6qqqqoKQ0AAAAAAAEBDQKuqqqqqSkNAAAAAAABgQ0AAAAAAAGBDQKuqqqqqKkNAVVVVVVV1Q0AAAAAAAIBDQAAAAAAAwENAVVVVVVXVQ0AAAAAAAABEQAAAAAAAQERAVVVVVVVVREAAAAAAAGBEQAAAAAAAgERAAAAAAACARECrqqqqqqpEQAAAAAAAwERAAAAAAADgREAAAAAAAABFQFVVVVVVFUVAq6qqqqoqRUAAAAAAAEBFQAAAAAAAQEVAq6qqqqoqRUA=\",\"dtype\":\"float64\",\"shape\":[97]}},\"selected\":{\"id\":\"3198\",\"type\":\"Selection\"},\"selection_policy\":{\"id\":\"3197\",\"type\":\"UnionRenderers\"}},\"id\":\"3169\",\"type\":\"ColumnDataSource\"},{\"attributes\":{},\"id\":\"3234\",\"type\":\"Selection\"},{\"attributes\":{\"x\":{\"field\":\"x\"},\"y\":{\"field\":\"y\"}},\"id\":\"3170\",\"type\":\"Line\"},{\"attributes\":{\"label\":{\"value\":\"Boundary in Omega\"},\"renderers\":[{\"id\":\"3173\",\"type\":\"GlyphRenderer\"},{\"id\":\"3188\",\"type\":\"GlyphRenderer\"},{\"id\":\"3203\",\"type\":\"GlyphRenderer\"},{\"id\":\"3220\",\"type\":\"GlyphRenderer\"}]},\"id\":\"3183\",\"type\":\"LegendItem\"},{\"attributes\":{\"line_alpha\":0.1,\"line_color\":\"#1f77b4\",\"x\":{\"field\":\"x\"},\"y\":{\"field\":\"y\"}},\"id\":\"3171\",\"type\":\"Line\"},{\"attributes\":{\"fill_alpha\":{\"value\":0.9},\"fill_color\":{\"value\":\"blue\"},\"line_alpha\":{\"value\":0.6},\"line_color\":{\"value\":\"blue\"},\"size\":{\"units\":\"screen\",\"value\":6},\"x\":{\"field\":\"x\"},\"y\":{\"field\":\"y\"}},\"id\":\"3236\",\"type\":\"Circle\"},{\"attributes\":{\"bottom_units\":\"screen\",\"fill_alpha\":{\"value\":0.5},\"fill_color\":{\"value\":\"lightgrey\"},\"left_units\":\"screen\",\"level\":\"overlay\",\"line_alpha\":{\"value\":1.0},\"line_color\":{\"value\":\"black\"},\"line_dash\":[4,4],\"line_width\":{\"value\":2},\"render_mode\":\"css\",\"right_units\":\"screen\",\"top_units\":\"screen\"},\"id\":\"3180\",\"type\":\"BoxAnnotation\"},{\"attributes\":{},\"id\":\"3179\",\"type\":\"BasicTickFormatter\"},{\"attributes\":{\"fill_alpha\":{\"value\":0.1},\"fill_color\":{\"value\":\"#1f77b4\"},\"line_alpha\":{\"value\":0.1},\"line_color\":{\"value\":\"#1f77b4\"},\"size\":{\"units\":\"screen\",\"value\":6},\"x\":{\"field\":\"x\"},\"y\":{\"field\":\"y\"}},\"id\":\"3237\",\"type\":\"Circle\"},{\"attributes\":{},\"id\":\"3177\",\"type\":\"BasicTickFormatter\"}],\"root_ids\":[\"3136\"]},\"title\":\"Bokeh Application\",\"version\":\"1.3.4\"}};\n",
       "  var render_items = [{\"docid\":\"1cd5e3ab-c73f-427c-8d0c-8317f80595b4\",\"roots\":{\"3136\":\"3a11b407-26bb-4684-90df-e698ea1a9e4d\"}}];\n",
       "  root.Bokeh.embed.embed_items_notebook(docs_json, render_items);\n",
       "\n",
       "  }\n",
       "  if (root.Bokeh !== undefined) {\n",
       "    embed_document(root);\n",
       "  } else {\n",
       "    var attempts = 0;\n",
       "    var timer = setInterval(function(root) {\n",
       "      if (root.Bokeh !== undefined) {\n",
       "        embed_document(root);\n",
       "        clearInterval(timer);\n",
       "      }\n",
       "      attempts++;\n",
       "      if (attempts > 100) {\n",
       "        console.log(\"Bokeh: ERROR: Unable to run BokehJS code because BokehJS library is missing\");\n",
       "        clearInterval(timer);\n",
       "      }\n",
       "    }, 10, root)\n",
       "  }\n",
       "})(window);"
      ],
      "application/vnd.bokehjs_exec.v0+json": ""
     },
     "metadata": {
      "application/vnd.bokehjs_exec.v0+json": {
       "id": "3136"
      }
     },
     "output_type": "display_data"
    }
   ],
   "source": [
    "fig.plot_recension(xb_dict,ob_dict,df_dict,\"Omega\")"
   ]
  },
  {
   "cell_type": "markdown",
   "metadata": {},
   "source": [
    "## Map of the Iberian peninsula, Xi recension"
   ]
  },
  {
   "cell_type": "code",
   "execution_count": 41,
   "metadata": {},
   "outputs": [
    {
     "data": {
      "text/html": [
       "\n",
       "\n",
       "\n",
       "\n",
       "\n",
       "\n",
       "  <div class=\"bk-root\" id=\"28c18ee9-f4d0-4f16-9b9d-413e694b8da0\" data-root-id=\"3497\"></div>\n"
      ]
     },
     "metadata": {},
     "output_type": "display_data"
    },
    {
     "data": {
      "application/javascript": [
       "(function(root) {\n",
       "  function embed_document(root) {\n",
       "    \n",
       "  var docs_json = {\"ee600711-37c9-4937-8d0f-3ebef72ac660\":{\"roots\":{\"references\":[{\"attributes\":{\"background_fill_alpha\":{\"value\":0.5},\"background_fill_color\":{\"value\":\"beige\"},\"below\":[{\"id\":\"3507\",\"type\":\"LinearAxis\"}],\"center\":[{\"id\":\"3511\",\"type\":\"Grid\"},{\"id\":\"3516\",\"type\":\"Grid\"},{\"id\":\"3543\",\"type\":\"Legend\"}],\"left\":[{\"id\":\"3512\",\"type\":\"LinearAxis\"}],\"plot_height\":800,\"plot_width\":1000,\"renderers\":[{\"id\":\"3534\",\"type\":\"GlyphRenderer\"},{\"id\":\"3549\",\"type\":\"GlyphRenderer\"},{\"id\":\"3564\",\"type\":\"GlyphRenderer\"},{\"id\":\"3581\",\"type\":\"GlyphRenderer\"},{\"id\":\"3600\",\"type\":\"GlyphRenderer\"}],\"title\":null,\"toolbar\":{\"id\":\"3522\",\"type\":\"Toolbar\"},\"x_range\":{\"id\":\"3499\",\"type\":\"Range1d\"},\"x_scale\":{\"id\":\"3503\",\"type\":\"LinearScale\"},\"y_range\":{\"id\":\"3501\",\"type\":\"Range1d\"},\"y_scale\":{\"id\":\"3505\",\"type\":\"LinearScale\"}},\"id\":\"3497\",\"subtype\":\"Figure\",\"type\":\"Plot\"},{\"attributes\":{\"callback\":null,\"data\":{\"x\":{\"__ndarray__\":\"VVVVVVVVEEBVVVVVVVUZQAAAAAAAACJAAAAAAAAAKEA=\",\"dtype\":\"float64\",\"shape\":[4]},\"y\":{\"__ndarray__\":\"VVVVVVXVQkAAAAAAAIBDQAAAAAAAgENAAAAAAACgQkA=\",\"dtype\":\"float64\",\"shape\":[4]}},\"selected\":{\"id\":\"3576\",\"type\":\"Selection\"},\"selection_policy\":{\"id\":\"3575\",\"type\":\"UnionRenderers\"}},\"id\":\"3545\",\"type\":\"ColumnDataSource\"},{\"attributes\":{\"callback\":null,\"overlay\":{\"id\":\"3541\",\"type\":\"BoxAnnotation\"}},\"id\":\"3518\",\"type\":\"BoxSelectTool\"},{\"attributes\":{\"line_alpha\":0.1,\"line_color\":\"#1f77b4\",\"line_dash\":[6,4,2,4],\"x\":{\"field\":\"x\"},\"y\":{\"field\":\"y\"}},\"id\":\"3579\",\"type\":\"Line\"},{\"attributes\":{\"dimension\":1,\"ticker\":{\"id\":\"3513\",\"type\":\"BasicTicker\"}},\"id\":\"3516\",\"type\":\"Grid\"},{\"attributes\":{},\"id\":\"3503\",\"type\":\"LinearScale\"},{\"attributes\":{},\"id\":\"3505\",\"type\":\"LinearScale\"},{\"attributes\":{\"line_dash\":[6,4,2,4],\"x\":{\"field\":\"x\"},\"y\":{\"field\":\"y\"}},\"id\":\"3546\",\"type\":\"Line\"},{\"attributes\":{\"overlay\":{\"id\":\"3542\",\"type\":\"BoxAnnotation\"}},\"id\":\"3519\",\"type\":\"BoxZoomTool\"},{\"attributes\":{\"line_alpha\":0.2,\"line_color\":\"#1f77b4\",\"line_dash\":[6,4,2,4],\"x\":{\"field\":\"x\"},\"y\":{\"field\":\"y\"}},\"id\":\"3580\",\"type\":\"Line\"},{\"attributes\":{},\"id\":\"3513\",\"type\":\"BasicTicker\"},{\"attributes\":{\"line_alpha\":0.1,\"line_color\":\"#1f77b4\",\"line_dash\":[6,4,2,4],\"x\":{\"field\":\"x\"},\"y\":{\"field\":\"y\"}},\"id\":\"3547\",\"type\":\"Line\"},{\"attributes\":{\"data_source\":{\"id\":\"3577\",\"type\":\"ColumnDataSource\"},\"glyph\":{\"id\":\"3578\",\"type\":\"Line\"},\"hover_glyph\":null,\"muted_glyph\":{\"id\":\"3580\",\"type\":\"Line\"},\"nonselection_glyph\":{\"id\":\"3579\",\"type\":\"Line\"},\"selection_glyph\":null,\"view\":{\"id\":\"3582\",\"type\":\"CDSView\"}},\"id\":\"3581\",\"type\":\"GlyphRenderer\"},{\"attributes\":{},\"id\":\"3520\",\"type\":\"WheelZoomTool\"},{\"attributes\":{\"line_alpha\":0.2,\"line_color\":\"#1f77b4\",\"line_dash\":[6,4,2,4],\"x\":{\"field\":\"x\"},\"y\":{\"field\":\"y\"}},\"id\":\"3548\",\"type\":\"Line\"},{\"attributes\":{\"callback\":null,\"end\":47,\"start\":35.5},\"id\":\"3501\",\"type\":\"Range1d\"},{\"attributes\":{},\"id\":\"3521\",\"type\":\"ResetTool\"},{\"attributes\":{\"source\":{\"id\":\"3577\",\"type\":\"ColumnDataSource\"}},\"id\":\"3582\",\"type\":\"CDSView\"},{\"attributes\":{\"data_source\":{\"id\":\"3545\",\"type\":\"ColumnDataSource\"},\"glyph\":{\"id\":\"3546\",\"type\":\"Line\"},\"hover_glyph\":null,\"muted_glyph\":{\"id\":\"3548\",\"type\":\"Line\"},\"nonselection_glyph\":{\"id\":\"3547\",\"type\":\"Line\"},\"selection_glyph\":null,\"view\":{\"id\":\"3550\",\"type\":\"CDSView\"}},\"id\":\"3549\",\"type\":\"GlyphRenderer\"},{\"attributes\":{\"active_drag\":\"auto\",\"active_inspect\":\"auto\",\"active_multi\":null,\"active_scroll\":\"auto\",\"active_tap\":\"auto\",\"tools\":[{\"id\":\"3517\",\"type\":\"HoverTool\"},{\"id\":\"3518\",\"type\":\"BoxSelectTool\"},{\"id\":\"3519\",\"type\":\"BoxZoomTool\"},{\"id\":\"3520\",\"type\":\"WheelZoomTool\"},{\"id\":\"3521\",\"type\":\"ResetTool\"}]},\"id\":\"3522\",\"type\":\"Toolbar\"},{\"attributes\":{},\"id\":\"3595\",\"type\":\"Selection\"},{\"attributes\":{\"source\":{\"id\":\"3545\",\"type\":\"ColumnDataSource\"}},\"id\":\"3550\",\"type\":\"CDSView\"},{\"attributes\":{\"callback\":null,\"data\":{\"x\":{\"__ndarray__\":\"AAAAAAAAKUAAAAAAAAApQAAAAAAAgChAVVVVVVVVKEAAAAAAAAAoQFVVVVVVVS5AVVVVVVVVLkCrqqqqqqosQKuqqqqqqitAAAAAAAAAK0BVVVVVVVUqQAAAAAAAACpAAAAAAAAAKEAAAAAAAIAnQFVVVVVVVSdAq6qqqqqqJEAAAAAAAAAiQAAAAAAAgCBAAAAAAAAAG0AAAAAAAAAaQAAAAAAAABlAq6qqqqqqFkAAAAAAAAAVQKuqqqqqqhZAq6qqqqqqFkCrqqqqqqoWQAAAAAAAABZAVVVVVVVVFUAAAAAAAAAWQKuqqqqqqhRAAAAAAAAAFECrqqqqqqoWQKuqqqqqqhRAVVVVVVVVE0CrqqqqqqoTQFVVVVVVVRRAAAAAAAAAFEAAAAAAAAAEQAAAAAAAAAhAVVVVVVVVDUBVVVVVVVUQQFVVVVVVVRFAq6qqqqqqEkBVVVVVVVUUQFVVVVVVVRVAAAAAAAAAGEAAAAAAAAAYQAAAAAAAABdAq6qqqqqqGEAAAAAAAAAZQAAAAAAAABpAVVVVVVVVG0AAAAAAAAAdQAAAAAAAAB5AAAAAAAAAHkCrqqqqqqoeQAAAAAAAACBAAAAAAAAAIUCrqqqqqqohQAAAAAAAgCJAAAAAAACAI0AAAAAAAIAkQAAAAAAAgCVAq6qqqqqqJkAAAAAAAAAnQAAAAAAAgCdAAAAAAAAAKEAAAAAAAAArQAAAAAAAACxAAAAAAAAALUAAAAAAAAAuQKuqqqqqKi5Aq6qqqqqqL0AAAAAAAAAvQAAAAAAAADBAVVVVVVVVMEBVVVVVVdUwQAAAAAAAQDFAAAAAAACAMUBVVVVVVdUxQAAAAAAAgDJAAAAAAAAAMkAAAAAAAEAyQAAAAAAAgDJAAAAAAADAMkAAAAAAAAAzQAAAAAAAgDNAVVVVVVVVNEA=\",\"dtype\":\"float64\",\"shape\":[88]},\"y\":{\"__ndarray__\":\"AAAAAABAQ0BVVVVVVRVDQFVVVVVV9UJAAAAAAADAQkBVVVVVVbVCQKuqqqqq6kZAq6qqqqqKRkAAAAAAAIBGQKuqqqqqCkZAAAAAAAAgRkBVVVVVVVVGQAAAAAAAwEZAVVVVVVWVRkBVVVVVVbVGQAAAAAAA4EZAVVVVVVXVRkAAAAAAAOBGQKuqqqqq6kZAAAAAAACARkAAAAAAAMBGQAAAAAAAwEZAVVVVVVWVRkBVVVVVVZVGQAAAAAAAgEZAVVVVVVVVRkCrqqqqqipGQAAAAAAAAEZAq6qqqqrqRECrqqqqqqpEQKuqqqqqakRAVVVVVVVVRUAAAAAAAEBEQAAAAAAAIERAq6qqqqrqQ0CrqqqqqupDQFVVVVVVtUNAAAAAAACAQ0AAAAAAACBDQFVVVVVV9UJAAAAAAADgQkBVVVVVVdVCQAAAAAAAwEJAq6qqqqqqQkBVVVVVVZVCQAAAAAAAgEJAAAAAAABgQkCrqqqqqipCQKuqqqqqCkJAq6qqqqoKQkCrqqqqqgpCQFVVVVVVFUJAq6qqqqoKQkAAAAAAAEBCQFVVVVVVFUJAAAAAAAAgQkBVVVVVVVVCQFVVVVVVdUJAAAAAAACAQkBVVVVVVZVCQFVVVVVVlUJAAAAAAADgQkAAAAAAAKBCQFVVVVVVlUJAq6qqqqqKQkCrqqqqqmpCQFVVVVVVlUJAAAAAAACgQkAAAAAAAGBDQKuqqqqqakNAVVVVVVV1Q0AAAAAAAIBDQAAAAAAAwENAq6qqqqqqQ0AAAAAAAABEQAAAAAAAQERAVVVVVVVVREAAAAAAAGBEQAAAAAAAgERAAAAAAACgRECrqqqqqqpEQKuqqqqqqkRAAAAAAADgREAAAAAAAABFQFVVVVVVFUVAq6qqqqoqRUAAAAAAAEBFQAAAAAAAQEVAq6qqqqoqRUA=\",\"dtype\":\"float64\",\"shape\":[88]}},\"selected\":{\"id\":\"3559\",\"type\":\"Selection\"},\"selection_policy\":{\"id\":\"3558\",\"type\":\"UnionRenderers\"}},\"id\":\"3530\",\"type\":\"ColumnDataSource\"},{\"attributes\":{},\"id\":\"3558\",\"type\":\"UnionRenderers\"},{\"attributes\":{\"line_dash\":[6,4,2,4],\"x\":{\"field\":\"x\"},\"y\":{\"field\":\"y\"}},\"id\":\"3531\",\"type\":\"Line\"},{\"attributes\":{\"fill_alpha\":{\"value\":0.9},\"fill_color\":{\"value\":\"red\"},\"line_alpha\":{\"value\":0.6},\"line_color\":{\"value\":\"red\"},\"size\":{\"units\":\"screen\",\"value\":6},\"x\":{\"field\":\"x\"},\"y\":{\"field\":\"y\"}},\"id\":\"3597\",\"type\":\"Circle\"},{\"attributes\":{},\"id\":\"3594\",\"type\":\"UnionRenderers\"},{\"attributes\":{},\"id\":\"3559\",\"type\":\"Selection\"},{\"attributes\":{\"line_alpha\":0.1,\"line_color\":\"#1f77b4\",\"line_dash\":[6,4,2,4],\"x\":{\"field\":\"x\"},\"y\":{\"field\":\"y\"}},\"id\":\"3532\",\"type\":\"Line\"},{\"attributes\":{\"fill_alpha\":{\"value\":0.1},\"fill_color\":{\"value\":\"#1f77b4\"},\"line_alpha\":{\"value\":0.1},\"line_color\":{\"value\":\"#1f77b4\"},\"size\":{\"units\":\"screen\",\"value\":6},\"x\":{\"field\":\"x\"},\"y\":{\"field\":\"y\"}},\"id\":\"3598\",\"type\":\"Circle\"},{\"attributes\":{\"callback\":null,\"data\":{\"x\":{\"__ndarray__\":\"VVVVVVVVFUCrqqqqqqoiQAAAAAAAACJAAAAAAAAAIkA=\",\"dtype\":\"float64\",\"shape\":[4]},\"y\":{\"__ndarray__\":\"q6qqqqrqRECrqqqqqupEQAAAAAAAQERAAAAAAACAQ0A=\",\"dtype\":\"float64\",\"shape\":[4]}},\"selected\":{\"id\":\"3595\",\"type\":\"Selection\"},\"selection_policy\":{\"id\":\"3594\",\"type\":\"UnionRenderers\"}},\"id\":\"3560\",\"type\":\"ColumnDataSource\"},{\"attributes\":{\"ticker\":{\"id\":\"3508\",\"type\":\"BasicTicker\"}},\"id\":\"3511\",\"type\":\"Grid\"},{\"attributes\":{\"line_alpha\":0.2,\"line_color\":\"#1f77b4\",\"line_dash\":[6,4,2,4],\"x\":{\"field\":\"x\"},\"y\":{\"field\":\"y\"}},\"id\":\"3533\",\"type\":\"Line\"},{\"attributes\":{\"fill_alpha\":{\"value\":0.2},\"fill_color\":{\"value\":\"#1f77b4\"},\"line_alpha\":{\"value\":0.2},\"line_color\":{\"value\":\"#1f77b4\"},\"size\":{\"units\":\"screen\",\"value\":6},\"x\":{\"field\":\"x\"},\"y\":{\"field\":\"y\"}},\"id\":\"3599\",\"type\":\"Circle\"},{\"attributes\":{\"callback\":null,\"data\":{\"x\":[\"NaN\",\"NaN\",\"NaN\",\"NaN\",4.083333333333333,4.333333333333333,6.333333333333333,9.0,12.0,14.0,\"NaN\",\"NaN\",\"NaN\",\"NaN\",\"NaN\",4.666666666666667,5.083333333333333,5.333333333333333,12.0,6.0,\"NaN\",6.0,5.75,6.166666666666667,6.25,\"NaN\",6.5,6.833333333333333,7.25,7.5,7.5,\"NaN\",7.666666666666667,8.0,8.5,8.833333333333334,9.25,9.75,10.25,10.75,11.333333333333334,11.5,\"NaN\",11.75,\"NaN\",\"NaN\",9.166666666666666,9.5,9.0,9.75,9.25,10.0,9.333333333333334,8.75,10.166666666666666,8.75,8.666666666666666,8.25,8.75,8.0,7.5,7.0,6.75,6.5,9.5,9.083333333333334,9.5,9.833333333333334,9.666666666666666,10.166666666666666,10.25,10.833333333333334,10.25,11.166666666666666,\"NaN\",\"NaN\",4.666666666666667,4.666666666666667,5.0,5.166666666666667,5.666666666666667,6.0,5.5,5.166666666666667,5.666666666666667,5.666666666666667,5.5,6.0,6.083333333333333,6.5,7.0,6.333333333333333,7.0,6.5,6.083333333333333,7.0,6.5,6.5,7.666666666666667,7.166666666666667,8.0,7.0,7.333333333333333,7.666666666666667,7.25,8.0,7.666666666666667,7.166666666666667,7.5,7.25,8.5,8.666666666666666,8.583333333333334,8.25,8.166666666666666,\"NaN\",5.833333333333333,6.5,6.0,6.5,6.25,\"NaN\",6.0,7.333333333333333,5.166666666666667,\"NaN\",\"NaN\",5.333333333333333,9.333333333333334,12.666666666666666,\"NaN\",\"NaN\",\"NaN\",\"NaN\",3.6666666666666665,3.0,2.5,5.0,5.083333333333333,4.916666666666667,\"NaN\",4.833333333333333,5.166666666666667,5.666666666666667,9.0,11.666666666666666,5.0,5.166666666666667,5.5,5.333333333333333,\"NaN\",\"NaN\",5.333333333333333,5.25,\"NaN\",5.75,5.333333333333333,6.0,5.333333333333333,5.666666666666667,6.166666666666667,5.666666666666667,6.166666666666667,6.5,\"NaN\",\"NaN\",5.833333333333333,5.666666666666667,6.0,7.5,6.666666666666667,7.25,6.666666666666667,7.666666666666667,5.5,5.666666666666667,6.0,6.333333333333333,6.666666666666667,7.166666666666667,7.666666666666667,6.833333333333333,6.666666666666667,8.0,7.333333333333333,7.833333333333333,7.666666666666667,7.0,7.0,7.833333333333333,7.333333333333333,8.0,7.333333333333333,7.666666666666667,8.5,\"NaN\",8.5,8.0,8.833333333333334,8.0,8.833333333333334,8.166666666666666,8.833333333333334,8.333333333333334,8.666666666666666,8.833333333333334,8.5,\"NaN\",3.0,\"NaN\",\"NaN\",\"NaN\",5.5,5.5,5.666666666666667,5.5,5.333333333333333,11.5,\"NaN\",5.5,5.666666666666667,\"NaN\",5.666666666666667,5.666666666666667,5.25,\"NaN\",\"NaN\",5.666666666666667,6.25,6.5,\"NaN\",6.75,8.25,9.0,10.333333333333334,11.666666666666666,\"NaN\",11.75,12.0,\"NaN\",13.0,\"NaN\",13.166666666666666,13.5,\"NaN\",13.833333333333334,\"NaN\",14.333333333333334,\"NaN\",15.166666666666666,15.166666666666666,\"NaN\",20.333333333333332,17.0,\"NaN\",\"NaN\",12.0,\"NaN\",12.0,\"NaN\",12.166666666666666,12.25,12.5,12.5,12.5,13.0,13.5,14.0,\"NaN\",14.5,15.0,15.083333333333334,\"NaN\",15.833333333333334,15.5,16.0,14.0,12.5,\"NaN\",16.333333333333332,16.833333333333332,\"NaN\",17.25,17.5,17.833333333333332,18.5,18.0,18.25,\"NaN\",18.5,18.75,19.0,19.5,20.333333333333332,\"NaN\",9.0,11.5,14.666666666666666,16.0,14.0,14.333333333333334,12.0,14.0,\"NaN\",5.75,6.166666666666667,\"NaN\",8.25,8.5,9.333333333333334,10.166666666666666,10.166666666666666,7.0,6.333333333333333,7.0,8.333333333333334,8.833333333333334,\"NaN\",6.416666666666667,7.416666666666667,\"NaN\",6.333333333333333,\"NaN\",7.166666666666667,\"NaN\",7.833333333333333,\"NaN\",8.5,8.5,\"NaN\",11.0,11.5,11.0,9.333333333333334,0.0,13.5,11.166666666666666,8.5,0.0,9.0,\"NaN\",10.0,\"NaN\",10.666666666666666,\"NaN\",11.166666666666666,\"NaN\",11.583333333333334,\"NaN\",10.333333333333334,\"NaN\",9.5,\"NaN\",9.5,\"NaN\",7.5,\"NaN\",8.0,\"NaN\",6.333333333333333,6.833333333333333,7.666666666666667,8.333333333333334,8.5,6.0,\"NaN\",6.5,\"NaN\",6.0,\"NaN\",6.0,\"NaN\",7.333333333333333,\"NaN\",6.833333333333333,\"NaN\",8.333333333333334,\"NaN\",7.125,\"NaN\",7.333333333333333,\"NaN\",8.166666666666666,\"NaN\",8.0,\"NaN\",9.75,10.25,11.0,9.666666666666666,10.0,10.666666666666666,13.0,9.166666666666666,9.666666666666666,9.083333333333334,9.333333333333334,9.833333333333334,10.333333333333334,9.0,9.666666666666666,10.0,9.666666666666666,10.166666666666666,9.0,9.666666666666666,\"NaN\",\"NaN\",12.166666666666666,12.666666666666666,12.0,11.833333333333334,12.5,11.666666666666666,12.166666666666666,11.75,\"NaN\",12.0,11.5,11.833333333333334,11.166666666666666,12.0,\"NaN\",13.0,13.0,12.5,13.0,13.25,12.666666666666666,13.0,\"NaN\",\"NaN\",11.166666666666666,11.5,12.166666666666666,\"NaN\",\"NaN\",13.0,13.0,13.5,\"NaN\",\"NaN\",11.0,11.0,11.5,11.833333333333334,12.5,11.833333333333334,12.666666666666666,12.5,13.5,13.25,\"NaN\",\"NaN\",9.666666666666666,10.5,11.0,11.166666666666666,12.0,13.0,11.666666666666666,10.0,10.833333333333334,11.333333333333334,9.416666666666666,10.75,10.333333333333334,11.0,10.5,9.833333333333334,10.5,10.833333333333334,\"NaN\",13.666666666666666,13.166666666666666,14.0,14.75,13.416666666666666,12.166666666666666,13.0,13.5,12.5,13.166666666666666,13.833333333333334,12.75,13.333333333333334,12.5,11.5,12.0,12.333333333333334,11.666666666666666,\"NaN\",9.333333333333334,10.0,9.166666666666666,10.0,9.5,10.666666666666666,11.416666666666666,9.5,9.75,10.416666666666666,11.0,10.0,10.666666666666666,10.333333333333334,\"NaN\",\"NaN\",13.5,\"NaN\",\"NaN\",13.333333333333334,13.0,13.5,12.0,12.5,11.666666666666666,12.0,11.333333333333334,11.0,11.5,10.833333333333334,11.166666666666666,11.5,11.166666666666666,11.75,\"NaN\",\"NaN\",13.75,14.0,13.166666666666666,13.666666666666666,12.333333333333334,12.333333333333334,\"NaN\",\"NaN\",14.5,14.166666666666666,14.666666666666666,14.166666666666666,14.666666666666666,14.166666666666666,14.666666666666666,14.25,14.333333333333334,14.833333333333334,14.416666666666666,14.583333333333334,\"NaN\",\"NaN\",16.333333333333332,14.916666666666666,15.25,15.666666666666666,15.5,15.083333333333334,15.25,\"NaN\",\"NaN\",\"NaN\",13.666666666666666,13.666666666666666,13.916666666666666,\"NaN\",\"NaN\",14.0,14.5,13.833333333333334,14.583333333333334,14.5,13.666666666666666,14.0,\"NaN\",\"NaN\",15.416666666666666,15.0,15.5,15.5,15.583333333333334,14.833333333333334,15.5,15.0,14.666666666666666,15.0,14.5,14.75,14.333333333333334,14.666666666666666,14.666666666666666,\"NaN\",\"NaN\",16.5,16.0,15.5,15.75,15.166666666666666,16.0,15.166666666666666,15.5,15.0,15.416666666666666,\"NaN\",17.333333333333332,\"NaN\",13.666666666666666,16.166666666666668,17.0,17.916666666666668,\"NaN\",17.916666666666668,17.916666666666668,17.166666666666668,17.5,\"NaN\",\"NaN\",16.333333333333332,16.5,16.0,16.666666666666668,16.0,15.666666666666666,16.75,15.5,16.333333333333332,15.833333333333334,\"NaN\",17.833333333333332,18.166666666666668,\"NaN\",17.333333333333332,\"NaN\",9.0,\"NaN\",4.0,4.666666666666667,\"NaN\",14.833333333333334,14.0,\"NaN\",\"NaN\",16.166666666666668,16.75,\"NaN\",17.166666666666668,17.5],\"y\":[\"NaN\",\"NaN\",\"NaN\",\"NaN\",37.666666666666664,37.5,39.0,39.0,37.25,40.0,\"NaN\",\"NaN\",\"NaN\",\"NaN\",\"NaN\",37.333333333333336,37.166666666666664,37.0,38.5,36.75,\"NaN\",36.333333333333336,36.083333333333336,36.083333333333336,36.083333333333336,\"NaN\",36.166666666666664,36.083333333333336,36.5,36.166666666666664,36.25,\"NaN\",36.666666666666664,36.916666666666664,37.0,37.166666666666664,37.166666666666664,37.75,37.25,37.166666666666664,37.083333333333336,36.833333333333336,\"NaN\",37.166666666666664,\"NaN\",\"NaN\",38.833333333333336,38.666666666666664,38.5,38.166666666666664,38.333333333333336,38.25,38.333333333333336,38.0,38.0,37.75,37.666666666666664,37.333333333333336,37.333333333333336,37.166666666666664,37.0,36.666666666666664,36.5,36.333333333333336,38.0,37.75,37.5,37.5,37.666666666666664,37.75,37.5,37.5,37.333333333333336,37.333333333333336,\"NaN\",\"NaN\",38.0,37.75,37.25,38.25,38.333333333333336,38.0,37.75,37.5,37.5,37.333333333333336,37.166666666666664,37.0,38.333333333333336,38.083333333333336,38.0,37.833333333333336,37.666666666666664,37.5,37.25,37.333333333333336,37.083333333333336,37.833333333333336,38.916666666666664,38.916666666666664,38.666666666666664,38.416666666666664,38.333333333333336,37.166666666666664,37.833333333333336,37.833333333333336,37.5,37.5,37.083333333333336,37.083333333333336,38.833333333333336,38.916666666666664,38.083333333333336,38.333333333333336,38.0,\"NaN\",38.833333333333336,38.833333333333336,38.666666666666664,38.416666666666664,38.416666666666664,\"NaN\",37.666666666666664,37.5,36.666666666666664,\"NaN\",\"NaN\",41.833333333333336,41.833333333333336,41.666666666666664,\"NaN\",\"NaN\",\"NaN\",\"NaN\",37.75,37.916666666666664,38.25,39.0,39.416666666666664,39.833333333333336,\"NaN\",39.833333333333336,40.25,40.5,40.5,40.75,42.666666666666664,40.833333333333336,41.333333333333336,41.833333333333336,\"NaN\",\"NaN\",39.0,38.75,\"NaN\",40.25,40.0,40.0,39.75,39.583333333333336,39.666666666666664,39.333333333333336,39.333333333333336,39.083333333333336,\"NaN\",\"NaN\",41.75,41.5,41.333333333333336,40.833333333333336,41.5,41.083333333333336,41.083333333333336,41.0,40.833333333333336,40.5,40.916666666666664,40.75,40.5,40.75,40.5,40.25,40.0,40.25,40.0,39.75,39.5,39.333333333333336,39.083333333333336,39.916666666666664,39.666666666666664,39.5,39.25,39.083333333333336,39.5,\"NaN\",41.666666666666664,41.5,41.833333333333336,41.25,40.75,41.0,41.0,40.75,40.666666666666664,40.416666666666664,40.083333333333336,\"NaN\",41.0,\"NaN\",\"NaN\",\"NaN\",42.25,42.5,42.75,43.25,43.666666666666664,44.25,\"NaN\",44.0,44.333333333333336,\"NaN\",44.666666666666664,45.0,45.166666666666664,\"NaN\",\"NaN\",45.166666666666664,45.5,45.5,\"NaN\",45.0,45.833333333333336,45.75,45.666666666666664,45.75,\"NaN\",45.416666666666664,45.166666666666664,\"NaN\",45.5,\"NaN\",44.666666666666664,44.25,\"NaN\",44.083333333333336,\"NaN\",45.0,\"NaN\",45.083333333333336,45.833333333333336,\"NaN\",42.333333333333336,43.0,\"NaN\",\"NaN\",37.25,\"NaN\",37.416666666666664,\"NaN\",37.5,37.916666666666664,38.166666666666664,38.5,38.583333333333336,38.75,38.75,38.833333333333336,\"NaN\",38.916666666666664,39.0,39.5,\"NaN\",39.333333333333336,40.0,40.5,42.0,44.0,\"NaN\",40.666666666666664,40.75,\"NaN\",41.0,41.25,41.333333333333336,41.333333333333336,41.75,42.0,\"NaN\",42.166666666666664,42.333333333333336,42.5,42.5,42.333333333333336,\"NaN\",45.0,44.5,42.5,43.0,41.5,39.0,37.666666666666664,39.666666666666664,\"NaN\",45.166666666666664,44.75,\"NaN\",45.083333333333336,45.333333333333336,45.333333333333336,45.333333333333336,45.083333333333336,44.75,43.75,43.666666666666664,44.416666666666664,44.583333333333336,\"NaN\",44.5,44.416666666666664,\"NaN\",44.333333333333336,\"NaN\",44.0,\"NaN\",44.75,\"NaN\",44.5,45.083333333333336,\"NaN\",45.0,44.5,44.583333333333336,44.75,0.0,43.75,43.75,44.166666666666664,0.0,44.5,\"NaN\",44.583333333333336,\"NaN\",44.416666666666664,\"NaN\",44.25,\"NaN\",44.833333333333336,\"NaN\",43.75,\"NaN\",43.666666666666664,\"NaN\",44.0,\"NaN\",43.75,\"NaN\",43.75,\"NaN\",43.416666666666664,43.5,43.416666666666664,43.416666666666664,43.083333333333336,41.916666666666664,\"NaN\",43.083333333333336,\"NaN\",42.583333333333336,\"NaN\",42.5,\"NaN\",43.333333333333336,\"NaN\",42.75,\"NaN\",42.75,\"NaN\",42.666666666666664,\"NaN\",42.333333333333336,\"NaN\",42.166666666666664,\"NaN\",42.0,\"NaN\",43.416666666666664,43.416666666666664,43.5,43.333333333333336,43.25,43.333333333333336,40.333333333333336,40.333333333333336,42.916666666666664,42.666666666666664,42.583333333333336,42.666666666666664,42.5,42.333333333333336,42.416666666666664,42.333333333333336,42.166666666666664,42.0,41.916666666666664,41.916666666666664,\"NaN\",\"NaN\",44.916666666666664,44.833333333333336,44.5,44.416666666666664,44.25,44.083333333333336,44.0,43.833333333333336,\"NaN\",43.666666666666664,43.5,43.416666666666664,43.083333333333336,43.166666666666664,\"NaN\",44.25,43.916666666666664,43.5,43.666666666666664,43.5,43.25,43.083333333333336,\"NaN\",\"NaN\",42.833333333333336,42.666666666666664,42.666666666666664,\"NaN\",\"NaN\",42.833333333333336,42.666666666666664,42.75,\"NaN\",\"NaN\",42.583333333333336,42.0,42.416666666666664,42.416666666666664,42.416666666666664,41.916666666666664,42.166666666666664,41.833333333333336,42.416666666666664,42.166666666666664,\"NaN\",\"NaN\",41.666666666666664,41.666666666666664,41.583333333333336,41.5,41.583333333333336,41.333333333333336,41.25,41.0,41.083333333333336,40.833333333333336,40.833333333333336,40.75,40.583333333333336,40.5,40.416666666666664,44.25,40.25,39.916666666666664,\"NaN\",41.916666666666664,41.333333333333336,41.75,41.5,41.416666666666664,41.0,41.0,41.083333333333336,40.75,40.833333333333336,40.5,40.583333333333336,40.5,40.416666666666664,40.25,40.333333333333336,40.166666666666664,39.75,\"NaN\",40.0,39.916666666666664,39.666666666666664,39.666666666666664,39.166666666666664,39.416666666666664,39.5,39.0,39.166666666666664,39.0,39.083333333333336,38.75,38.5,38.5,\"NaN\",\"NaN\",40.333333333333336,\"NaN\",\"NaN\",39.833333333333336,39.666666666666664,39.75,39.5,39.416666666666664,39.25,39.166666666666664,39.916666666666664,39.583333333333336,38.666666666666664,38.333333333333336,38.333333333333336,38.083333333333336,37.583333333333336,37.583333333333336,\"NaN\",\"NaN\",39.25,39.0,39.0,37.916666666666664,38.833333333333336,38.25,\"NaN\",\"NaN\",41.5,41.25,41.0,40.75,40.666666666666664,40.5,40.25,40.166666666666664,39.75,39.666666666666664,39.416666666666664,39.333333333333336,\"NaN\",\"NaN\",40.666666666666664,41.166666666666664,40.666666666666664,40.5,40.416666666666664,44.0,40.0,\"NaN\",\"NaN\",\"NaN\",44.0,43.75,43.333333333333336,\"NaN\",\"NaN\",43.833333333333336,43.75,43.5,43.5,43.25,43.166666666666664,42.833333333333336,\"NaN\",\"NaN\",43.916666666666664,43.75,43.75,43.5,43.416666666666664,43.25,43.25,41.0,42.916666666666664,42.75,42.416666666666664,42.5,42.416666666666664,42.25,41.916666666666664,\"NaN\",\"NaN\",43.0,42.75,42.5,42.833333333333336,42.166666666666664,42.166666666666664,41.916666666666664,41.666666666666664,41.5,41.416666666666664,\"NaN\",42.75,\"NaN\",42.166666666666664,42.5,42.25,42.25,\"NaN\",42.166666666666664,42.083333333333336,41.75,41.833333333333336,\"NaN\",\"NaN\",42.0,41.75,41.666666666666664,41.583333333333336,41.166666666666664,41.333333333333336,41.416666666666664,41.0,41.0,40.833333333333336,\"NaN\",42.583333333333336,42.333333333333336,\"NaN\",41.416666666666664,\"NaN\",46.75,\"NaN\",45.5,43.333333333333336,\"NaN\",38.333333333333336,38.083333333333336,\"NaN\",\"NaN\",39.25,39.25,\"NaN\",39.5,39.5]},\"selected\":{\"id\":\"3772\",\"type\":\"Selection\"},\"selection_policy\":{\"id\":\"3771\",\"type\":\"UnionRenderers\"}},\"id\":\"3528\",\"type\":\"ColumnDataSource\"},{\"attributes\":{\"line_dash\":[6,4,2,4],\"x\":{\"field\":\"x\"},\"y\":{\"field\":\"y\"}},\"id\":\"3561\",\"type\":\"Line\"},{\"attributes\":{\"data_source\":{\"id\":\"3530\",\"type\":\"ColumnDataSource\"},\"glyph\":{\"id\":\"3531\",\"type\":\"Line\"},\"hover_glyph\":null,\"muted_glyph\":{\"id\":\"3533\",\"type\":\"Line\"},\"nonselection_glyph\":{\"id\":\"3532\",\"type\":\"Line\"},\"selection_glyph\":null,\"view\":{\"id\":\"3535\",\"type\":\"CDSView\"}},\"id\":\"3534\",\"type\":\"GlyphRenderer\"},{\"attributes\":{\"data_source\":{\"id\":\"3528\",\"type\":\"ColumnDataSource\"},\"glyph\":{\"id\":\"3597\",\"type\":\"Circle\"},\"hover_glyph\":null,\"muted_glyph\":{\"id\":\"3599\",\"type\":\"Circle\"},\"nonselection_glyph\":{\"id\":\"3598\",\"type\":\"Circle\"},\"selection_glyph\":null,\"view\":{\"id\":\"3529\",\"type\":\"CDSView\"}},\"id\":\"3600\",\"type\":\"GlyphRenderer\"},{\"attributes\":{\"callback\":null,\"tooltips\":[[\"index\",\"$index\"],[\"(x,y)\",\"($x, $y)\"]]},\"id\":\"3517\",\"type\":\"HoverTool\"},{\"attributes\":{\"line_alpha\":0.1,\"line_color\":\"#1f77b4\",\"line_dash\":[6,4,2,4],\"x\":{\"field\":\"x\"},\"y\":{\"field\":\"y\"}},\"id\":\"3562\",\"type\":\"Line\"},{\"attributes\":{\"source\":{\"id\":\"3530\",\"type\":\"ColumnDataSource\"}},\"id\":\"3535\",\"type\":\"CDSView\"},{\"attributes\":{},\"id\":\"3614\",\"type\":\"UnionRenderers\"},{\"attributes\":{\"line_alpha\":0.2,\"line_color\":\"#1f77b4\",\"line_dash\":[6,4,2,4],\"x\":{\"field\":\"x\"},\"y\":{\"field\":\"y\"}},\"id\":\"3563\",\"type\":\"Line\"},{\"attributes\":{},\"id\":\"3538\",\"type\":\"BasicTickFormatter\"},{\"attributes\":{},\"id\":\"3615\",\"type\":\"Selection\"},{\"attributes\":{\"data_source\":{\"id\":\"3560\",\"type\":\"ColumnDataSource\"},\"glyph\":{\"id\":\"3561\",\"type\":\"Line\"},\"hover_glyph\":null,\"muted_glyph\":{\"id\":\"3563\",\"type\":\"Line\"},\"nonselection_glyph\":{\"id\":\"3562\",\"type\":\"Line\"},\"selection_glyph\":null,\"view\":{\"id\":\"3565\",\"type\":\"CDSView\"}},\"id\":\"3564\",\"type\":\"GlyphRenderer\"},{\"attributes\":{\"label\":{\"value\":\"Localities in Xi\"},\"renderers\":[{\"id\":\"3600\",\"type\":\"GlyphRenderer\"}]},\"id\":\"3616\",\"type\":\"LegendItem\"},{\"attributes\":{},\"id\":\"3540\",\"type\":\"BasicTickFormatter\"},{\"attributes\":{\"source\":{\"id\":\"3560\",\"type\":\"ColumnDataSource\"}},\"id\":\"3565\",\"type\":\"CDSView\"},{\"attributes\":{\"source\":{\"id\":\"3528\",\"type\":\"ColumnDataSource\"}},\"id\":\"3529\",\"type\":\"CDSView\"},{\"attributes\":{\"bottom_units\":\"screen\",\"fill_alpha\":{\"value\":0.5},\"fill_color\":{\"value\":\"lightgrey\"},\"left_units\":\"screen\",\"level\":\"overlay\",\"line_alpha\":{\"value\":1.0},\"line_color\":{\"value\":\"black\"},\"line_dash\":[4,4],\"line_width\":{\"value\":2},\"render_mode\":\"css\",\"right_units\":\"screen\",\"top_units\":\"screen\"},\"id\":\"3541\",\"type\":\"BoxAnnotation\"},{\"attributes\":{\"callback\":null,\"end\":22,\"start\":1.5},\"id\":\"3499\",\"type\":\"Range1d\"},{\"attributes\":{},\"id\":\"3575\",\"type\":\"UnionRenderers\"},{\"attributes\":{\"bottom_units\":\"screen\",\"fill_alpha\":{\"value\":0.5},\"fill_color\":{\"value\":\"lightgrey\"},\"left_units\":\"screen\",\"level\":\"overlay\",\"line_alpha\":{\"value\":1.0},\"line_color\":{\"value\":\"black\"},\"line_dash\":[4,4],\"line_width\":{\"value\":2},\"render_mode\":\"css\",\"right_units\":\"screen\",\"top_units\":\"screen\"},\"id\":\"3542\",\"type\":\"BoxAnnotation\"},{\"attributes\":{\"formatter\":{\"id\":\"3540\",\"type\":\"BasicTickFormatter\"},\"ticker\":{\"id\":\"3513\",\"type\":\"BasicTicker\"}},\"id\":\"3512\",\"type\":\"LinearAxis\"},{\"attributes\":{},\"id\":\"3576\",\"type\":\"Selection\"},{\"attributes\":{},\"id\":\"3772\",\"type\":\"Selection\"},{\"attributes\":{\"formatter\":{\"id\":\"3538\",\"type\":\"BasicTickFormatter\"},\"ticker\":{\"id\":\"3508\",\"type\":\"BasicTicker\"}},\"id\":\"3507\",\"type\":\"LinearAxis\"},{\"attributes\":{\"callback\":null,\"data\":{\"x\":{\"__ndarray__\":\"L90kBoFVLkAAAAAAAAAxQAAAAAAAADNAaJHtfD9VNEA=\",\"dtype\":\"float64\",\"shape\":[4]},\"y\":{\"__ndarray__\":\"tMh2vp/qRkAAAAAAAIBFQEw3iUFglUVAtMh2vp8qRUA=\",\"dtype\":\"float64\",\"shape\":[4]}},\"selected\":{\"id\":\"3615\",\"type\":\"Selection\"},\"selection_policy\":{\"id\":\"3614\",\"type\":\"UnionRenderers\"}},\"id\":\"3577\",\"type\":\"ColumnDataSource\"},{\"attributes\":{},\"id\":\"3771\",\"type\":\"UnionRenderers\"},{\"attributes\":{\"click_policy\":\"mute\",\"items\":[{\"id\":\"3544\",\"type\":\"LegendItem\"},{\"id\":\"3616\",\"type\":\"LegendItem\"}]},\"id\":\"3543\",\"type\":\"Legend\"},{\"attributes\":{},\"id\":\"3508\",\"type\":\"BasicTicker\"},{\"attributes\":{\"line_dash\":[6,4,2,4],\"x\":{\"field\":\"x\"},\"y\":{\"field\":\"y\"}},\"id\":\"3578\",\"type\":\"Line\"},{\"attributes\":{\"label\":{\"value\":\"Boundary in Xi \"},\"renderers\":[{\"id\":\"3534\",\"type\":\"GlyphRenderer\"},{\"id\":\"3549\",\"type\":\"GlyphRenderer\"},{\"id\":\"3564\",\"type\":\"GlyphRenderer\"},{\"id\":\"3581\",\"type\":\"GlyphRenderer\"}]},\"id\":\"3544\",\"type\":\"LegendItem\"}],\"root_ids\":[\"3497\"]},\"title\":\"Bokeh Application\",\"version\":\"1.3.4\"}};\n",
       "  var render_items = [{\"docid\":\"ee600711-37c9-4937-8d0f-3ebef72ac660\",\"roots\":{\"3497\":\"28c18ee9-f4d0-4f16-9b9d-413e694b8da0\"}}];\n",
       "  root.Bokeh.embed.embed_items_notebook(docs_json, render_items);\n",
       "\n",
       "  }\n",
       "  if (root.Bokeh !== undefined) {\n",
       "    embed_document(root);\n",
       "  } else {\n",
       "    var attempts = 0;\n",
       "    var timer = setInterval(function(root) {\n",
       "      if (root.Bokeh !== undefined) {\n",
       "        embed_document(root);\n",
       "        clearInterval(timer);\n",
       "      }\n",
       "      attempts++;\n",
       "      if (attempts > 100) {\n",
       "        console.log(\"Bokeh: ERROR: Unable to run BokehJS code because BokehJS library is missing\");\n",
       "        clearInterval(timer);\n",
       "      }\n",
       "    }, 10, root)\n",
       "  }\n",
       "})(window);"
      ],
      "application/vnd.bokehjs_exec.v0+json": ""
     },
     "metadata": {
      "application/vnd.bokehjs_exec.v0+json": {
       "id": "3497"
      }
     },
     "output_type": "display_data"
    }
   ],
   "source": [
    "fig.plot_recension(ob_dict,xb_dict,df_dict,\"Xi\")"
   ]
  },
  {
   "cell_type": "markdown",
   "metadata": {},
   "source": [
    "## Comparison between the two recensions"
   ]
  },
  {
   "cell_type": "code",
   "execution_count": 42,
   "metadata": {},
   "outputs": [
    {
     "data": {
      "text/html": [
       "\n",
       "\n",
       "\n",
       "\n",
       "\n",
       "\n",
       "  <div class=\"bk-root\" id=\"57964c55-21ca-4e86-b596-9a0341e1037f\" data-root-id=\"3875\"></div>\n"
      ]
     },
     "metadata": {},
     "output_type": "display_data"
    },
    {
     "data": {
      "application/javascript": [
       "(function(root) {\n",
       "  function embed_document(root) {\n",
       "    \n",
       "  var docs_json = {\"85d4c069-2145-463c-abd2-56443a249cde\":{\"roots\":{\"references\":[{\"attributes\":{\"center\":[{\"id\":\"3889\",\"type\":\"Grid\"},{\"id\":\"3894\",\"type\":\"Grid\"},{\"id\":\"3916\",\"type\":\"Legend\"}],\"plot_height\":800,\"plot_width\":1000,\"renderers\":[{\"id\":\"3911\",\"type\":\"GlyphRenderer\"},{\"id\":\"3921\",\"type\":\"GlyphRenderer\"},{\"id\":\"3931\",\"type\":\"GlyphRenderer\"},{\"id\":\"3943\",\"type\":\"GlyphRenderer\"},{\"id\":\"3960\",\"type\":\"GlyphRenderer\"},{\"id\":\"3976\",\"type\":\"GlyphRenderer\"},{\"id\":\"3995\",\"type\":\"GlyphRenderer\"},{\"id\":\"4015\",\"type\":\"GlyphRenderer\"},{\"id\":\"4037\",\"type\":\"GlyphRenderer\"},{\"id\":\"4063\",\"type\":\"GlyphRenderer\"}],\"title\":null,\"toolbar\":{\"id\":\"3901\",\"type\":\"Toolbar\"},\"x_range\":{\"id\":\"3877\",\"type\":\"Range1d\"},\"x_scale\":{\"id\":\"3881\",\"type\":\"LinearScale\"},\"y_range\":{\"id\":\"3879\",\"type\":\"Range1d\"},\"y_scale\":{\"id\":\"3883\",\"type\":\"LinearScale\"}},\"id\":\"3875\",\"subtype\":\"Figure\",\"type\":\"Plot\"},{\"attributes\":{},\"id\":\"4264\",\"type\":\"Selection\"},{\"attributes\":{},\"id\":\"4263\",\"type\":\"UnionRenderers\"},{\"attributes\":{\"line_alpha\":0.1,\"line_color\":\"#1f77b4\",\"line_dash\":[6,4,2,4],\"line_width\":1.5,\"x\":{\"field\":\"x\"},\"y\":{\"field\":\"y\"}},\"id\":\"3975\",\"type\":\"Line\"},{\"attributes\":{\"bottom_units\":\"screen\",\"fill_alpha\":{\"value\":0.5},\"fill_color\":{\"value\":\"lightgrey\"},\"left_units\":\"screen\",\"level\":\"overlay\",\"line_alpha\":{\"value\":1.0},\"line_color\":{\"value\":\"black\"},\"line_dash\":[4,4],\"line_width\":{\"value\":2},\"render_mode\":\"css\",\"right_units\":\"screen\",\"top_units\":\"screen\"},\"id\":\"3914\",\"type\":\"BoxAnnotation\"},{\"attributes\":{\"data_source\":{\"id\":\"3973\",\"type\":\"ColumnDataSource\"},\"glyph\":{\"id\":\"3974\",\"type\":\"Line\"},\"hover_glyph\":null,\"muted_glyph\":null,\"nonselection_glyph\":{\"id\":\"3975\",\"type\":\"Line\"},\"selection_glyph\":null,\"view\":{\"id\":\"3977\",\"type\":\"CDSView\"}},\"id\":\"3976\",\"type\":\"GlyphRenderer\"},{\"attributes\":{\"bottom_units\":\"screen\",\"fill_alpha\":{\"value\":0.5},\"fill_color\":{\"value\":\"lightgrey\"},\"left_units\":\"screen\",\"level\":\"overlay\",\"line_alpha\":{\"value\":1.0},\"line_color\":{\"value\":\"black\"},\"line_dash\":[4,4],\"line_width\":{\"value\":2},\"render_mode\":\"css\",\"right_units\":\"screen\",\"top_units\":\"screen\"},\"id\":\"3915\",\"type\":\"BoxAnnotation\"},{\"attributes\":{\"click_policy\":\"hide\",\"items\":[{\"id\":\"3917\",\"type\":\"LegendItem\"},{\"id\":\"3972\",\"type\":\"LegendItem\"},{\"id\":\"3991\",\"type\":\"LegendItem\"},{\"id\":\"4085\",\"type\":\"LegendItem\"}]},\"id\":\"3916\",\"type\":\"Legend\"},{\"attributes\":{\"source\":{\"id\":\"3973\",\"type\":\"ColumnDataSource\"}},\"id\":\"3977\",\"type\":\"CDSView\"},{\"attributes\":{\"label\":{\"value\":\"Boundary in Omega\"},\"renderers\":[{\"id\":\"3911\",\"type\":\"GlyphRenderer\"},{\"id\":\"3921\",\"type\":\"GlyphRenderer\"},{\"id\":\"3931\",\"type\":\"GlyphRenderer\"},{\"id\":\"3943\",\"type\":\"GlyphRenderer\"}]},\"id\":\"3917\",\"type\":\"LegendItem\"},{\"attributes\":{},\"id\":\"3989\",\"type\":\"UnionRenderers\"},{\"attributes\":{\"callback\":null,\"data\":{\"x\":{\"__ndarray__\":\"VVVVVVVVEEBVVVVVVVUZQAAAAAAAACJAAAAAAAAAKEA=\",\"dtype\":\"float64\",\"shape\":[4]},\"y\":{\"__ndarray__\":\"VVVVVVXVQkAAAAAAAIBDQAAAAAAAgENAAAAAAACgQkA=\",\"dtype\":\"float64\",\"shape\":[4]}},\"selected\":{\"id\":\"3939\",\"type\":\"Selection\"},\"selection_policy\":{\"id\":\"3938\",\"type\":\"UnionRenderers\"}},\"id\":\"3918\",\"type\":\"ColumnDataSource\"},{\"attributes\":{},\"id\":\"3990\",\"type\":\"Selection\"},{\"attributes\":{},\"id\":\"3927\",\"type\":\"Selection\"},{\"attributes\":{\"label\":{\"value\":\"Boundary in Xi\"},\"renderers\":[{\"id\":\"3976\",\"type\":\"GlyphRenderer\"},{\"id\":\"3995\",\"type\":\"GlyphRenderer\"},{\"id\":\"4015\",\"type\":\"GlyphRenderer\"},{\"id\":\"4037\",\"type\":\"GlyphRenderer\"}]},\"id\":\"3991\",\"type\":\"LegendItem\"},{\"attributes\":{\"line_color\":\"dodgerblue\",\"line_width\":1.5,\"x\":{\"field\":\"x\"},\"y\":{\"field\":\"y\"}},\"id\":\"3919\",\"type\":\"Line\"},{\"attributes\":{\"line_alpha\":0.1,\"line_color\":\"#1f77b4\",\"line_width\":1.5,\"x\":{\"field\":\"x\"},\"y\":{\"field\":\"y\"}},\"id\":\"3920\",\"type\":\"Line\"},{\"attributes\":{\"callback\":null,\"data\":{\"x\":{\"__ndarray__\":\"VVVVVVVVEEBVVVVVVVUZQAAAAAAAACJAAAAAAAAAKEA=\",\"dtype\":\"float64\",\"shape\":[4]},\"y\":{\"__ndarray__\":\"VVVVVVXVQkAAAAAAAIBDQAAAAAAAgENAAAAAAACgQkA=\",\"dtype\":\"float64\",\"shape\":[4]}},\"selected\":{\"id\":\"4033\",\"type\":\"Selection\"},\"selection_policy\":{\"id\":\"4032\",\"type\":\"UnionRenderers\"}},\"id\":\"3992\",\"type\":\"ColumnDataSource\"},{\"attributes\":{\"data_source\":{\"id\":\"3918\",\"type\":\"ColumnDataSource\"},\"glyph\":{\"id\":\"3919\",\"type\":\"Line\"},\"hover_glyph\":null,\"muted_glyph\":null,\"nonselection_glyph\":{\"id\":\"3920\",\"type\":\"Line\"},\"selection_glyph\":null,\"view\":{\"id\":\"3922\",\"type\":\"CDSView\"}},\"id\":\"3921\",\"type\":\"GlyphRenderer\"},{\"attributes\":{\"line_color\":\"red\",\"line_dash\":[6,4,2,4],\"line_width\":1.5,\"x\":{\"field\":\"x\"},\"y\":{\"field\":\"y\"}},\"id\":\"3993\",\"type\":\"Line\"},{\"attributes\":{\"source\":{\"id\":\"3918\",\"type\":\"ColumnDataSource\"}},\"id\":\"3922\",\"type\":\"CDSView\"},{\"attributes\":{\"line_alpha\":0.1,\"line_color\":\"#1f77b4\",\"line_dash\":[6,4,2,4],\"line_width\":1.5,\"x\":{\"field\":\"x\"},\"y\":{\"field\":\"y\"}},\"id\":\"3994\",\"type\":\"Line\"},{\"attributes\":{\"data_source\":{\"id\":\"3992\",\"type\":\"ColumnDataSource\"},\"glyph\":{\"id\":\"3993\",\"type\":\"Line\"},\"hover_glyph\":null,\"muted_glyph\":null,\"nonselection_glyph\":{\"id\":\"3994\",\"type\":\"Line\"},\"selection_glyph\":null,\"view\":{\"id\":\"3996\",\"type\":\"CDSView\"}},\"id\":\"3995\",\"type\":\"GlyphRenderer\"},{\"attributes\":{},\"id\":\"4083\",\"type\":\"UnionRenderers\"},{\"attributes\":{},\"id\":\"3938\",\"type\":\"UnionRenderers\"},{\"attributes\":{\"source\":{\"id\":\"3992\",\"type\":\"ColumnDataSource\"}},\"id\":\"3996\",\"type\":\"CDSView\"},{\"attributes\":{\"callback\":null,\"data\":{\"x\":{\"__ndarray__\":\"VVVVVVVVFUBVVVVVVVUiQAAAAAAAACJAAAAAAAAAIkA=\",\"dtype\":\"float64\",\"shape\":[4]},\"y\":{\"__ndarray__\":\"q6qqqqrqRECrqqqqqqpEQFVVVVVVFURAAAAAAACAQ0A=\",\"dtype\":\"float64\",\"shape\":[4]}},\"selected\":{\"id\":\"3953\",\"type\":\"Selection\"},\"selection_policy\":{\"id\":\"3952\",\"type\":\"UnionRenderers\"}},\"id\":\"3928\",\"type\":\"ColumnDataSource\"},{\"attributes\":{},\"id\":\"4011\",\"type\":\"Selection\"},{\"attributes\":{\"line_color\":\"dodgerblue\",\"line_width\":1.5,\"x\":{\"field\":\"x\"},\"y\":{\"field\":\"y\"}},\"id\":\"3929\",\"type\":\"Line\"},{\"attributes\":{\"callback\":null,\"data\":{\"x\":{\"__ndarray__\":\"VVVVVVVVFUCrqqqqqqoiQAAAAAAAACJAAAAAAAAAIkA=\",\"dtype\":\"float64\",\"shape\":[4]},\"y\":{\"__ndarray__\":\"q6qqqqrqRECrqqqqqupEQAAAAAAAQERAAAAAAACAQ0A=\",\"dtype\":\"float64\",\"shape\":[4]}},\"selected\":{\"id\":\"4057\",\"type\":\"Selection\"},\"selection_policy\":{\"id\":\"4056\",\"type\":\"UnionRenderers\"}},\"id\":\"4012\",\"type\":\"ColumnDataSource\"},{\"attributes\":{\"line_alpha\":0.1,\"line_color\":\"#1f77b4\",\"line_width\":1.5,\"x\":{\"field\":\"x\"},\"y\":{\"field\":\"y\"}},\"id\":\"3930\",\"type\":\"Line\"},{\"attributes\":{\"line_color\":\"red\",\"line_dash\":[6,4,2,4],\"line_width\":1.5,\"x\":{\"field\":\"x\"},\"y\":{\"field\":\"y\"}},\"id\":\"4013\",\"type\":\"Line\"},{\"attributes\":{\"data_source\":{\"id\":\"3928\",\"type\":\"ColumnDataSource\"},\"glyph\":{\"id\":\"3929\",\"type\":\"Line\"},\"hover_glyph\":null,\"muted_glyph\":null,\"nonselection_glyph\":{\"id\":\"3930\",\"type\":\"Line\"},\"selection_glyph\":null,\"view\":{\"id\":\"3932\",\"type\":\"CDSView\"}},\"id\":\"3931\",\"type\":\"GlyphRenderer\"},{\"attributes\":{},\"id\":\"4010\",\"type\":\"UnionRenderers\"},{\"attributes\":{\"line_alpha\":0.1,\"line_color\":\"#1f77b4\",\"line_dash\":[6,4,2,4],\"line_width\":1.5,\"x\":{\"field\":\"x\"},\"y\":{\"field\":\"y\"}},\"id\":\"4014\",\"type\":\"Line\"},{\"attributes\":{\"source\":{\"id\":\"3928\",\"type\":\"ColumnDataSource\"}},\"id\":\"3932\",\"type\":\"CDSView\"},{\"attributes\":{\"data_source\":{\"id\":\"4012\",\"type\":\"ColumnDataSource\"},\"glyph\":{\"id\":\"4013\",\"type\":\"Line\"},\"hover_glyph\":null,\"muted_glyph\":null,\"nonselection_glyph\":{\"id\":\"4014\",\"type\":\"Line\"},\"selection_glyph\":null,\"view\":{\"id\":\"4016\",\"type\":\"CDSView\"}},\"id\":\"4015\",\"type\":\"GlyphRenderer\"},{\"attributes\":{},\"id\":\"3926\",\"type\":\"UnionRenderers\"},{\"attributes\":{\"source\":{\"id\":\"4012\",\"type\":\"ColumnDataSource\"}},\"id\":\"4016\",\"type\":\"CDSView\"},{\"attributes\":{},\"id\":\"3939\",\"type\":\"Selection\"},{\"attributes\":{\"callback\":null,\"data\":{\"x\":{\"__ndarray__\":\"AAAAAAAALkAAAAAAAAAxQAAAAAAAADNAaJHtfD9VNEA=\",\"dtype\":\"float64\",\"shape\":[4]},\"y\":{\"__ndarray__\":\"tMh2vp/qRkAAAAAAAIBFQEw3iUFglUVAtMh2vp8qRUA=\",\"dtype\":\"float64\",\"shape\":[4]}},\"selected\":{\"id\":\"3971\",\"type\":\"Selection\"},\"selection_policy\":{\"id\":\"3970\",\"type\":\"UnionRenderers\"}},\"id\":\"3940\",\"type\":\"ColumnDataSource\"},{\"attributes\":{},\"id\":\"4032\",\"type\":\"UnionRenderers\"},{\"attributes\":{\"dimension\":1,\"ticker\":{\"id\":\"3891\",\"type\":\"BasicTicker\"}},\"id\":\"3894\",\"type\":\"Grid\"},{\"attributes\":{},\"id\":\"3891\",\"type\":\"BasicTicker\"},{\"attributes\":{\"line_color\":\"dodgerblue\",\"line_width\":1.5,\"x\":{\"field\":\"x\"},\"y\":{\"field\":\"y\"}},\"id\":\"3941\",\"type\":\"Line\"},{\"attributes\":{},\"id\":\"4033\",\"type\":\"Selection\"},{\"attributes\":{\"line_alpha\":0.1,\"line_color\":\"#1f77b4\",\"line_width\":1.5,\"x\":{\"field\":\"x\"},\"y\":{\"field\":\"y\"}},\"id\":\"3942\",\"type\":\"Line\"},{\"attributes\":{\"line_color\":\"red\",\"line_dash\":[6,4,2,4],\"line_width\":1.5,\"x\":{\"field\":\"x\"},\"y\":{\"field\":\"y\"}},\"id\":\"4035\",\"type\":\"Line\"},{\"attributes\":{\"data_source\":{\"id\":\"3940\",\"type\":\"ColumnDataSource\"},\"glyph\":{\"id\":\"3941\",\"type\":\"Line\"},\"hover_glyph\":null,\"muted_glyph\":null,\"nonselection_glyph\":{\"id\":\"3942\",\"type\":\"Line\"},\"selection_glyph\":null,\"view\":{\"id\":\"3944\",\"type\":\"CDSView\"}},\"id\":\"3943\",\"type\":\"GlyphRenderer\"},{\"attributes\":{\"line_alpha\":0.1,\"line_color\":\"#1f77b4\",\"line_dash\":[6,4,2,4],\"line_width\":1.5,\"x\":{\"field\":\"x\"},\"y\":{\"field\":\"y\"}},\"id\":\"4036\",\"type\":\"Line\"},{\"attributes\":{\"data_source\":{\"id\":\"4034\",\"type\":\"ColumnDataSource\"},\"glyph\":{\"id\":\"4035\",\"type\":\"Line\"},\"hover_glyph\":null,\"muted_glyph\":null,\"nonselection_glyph\":{\"id\":\"4036\",\"type\":\"Line\"},\"selection_glyph\":null,\"view\":{\"id\":\"4038\",\"type\":\"CDSView\"}},\"id\":\"4037\",\"type\":\"GlyphRenderer\"},{\"attributes\":{\"source\":{\"id\":\"3940\",\"type\":\"ColumnDataSource\"}},\"id\":\"3944\",\"type\":\"CDSView\"},{\"attributes\":{\"source\":{\"id\":\"4034\",\"type\":\"ColumnDataSource\"}},\"id\":\"4038\",\"type\":\"CDSView\"},{\"attributes\":{},\"id\":\"3952\",\"type\":\"UnionRenderers\"},{\"attributes\":{},\"id\":\"3953\",\"type\":\"Selection\"},{\"attributes\":{},\"id\":\"4056\",\"type\":\"UnionRenderers\"},{\"attributes\":{},\"id\":\"3883\",\"type\":\"LinearScale\"},{\"attributes\":{},\"id\":\"3886\",\"type\":\"BasicTicker\"},{\"attributes\":{\"callback\":null,\"data\":{\"x\":[\"NaN\",\"NaN\",\"NaN\",\"NaN\",4.083333333333333,4.333333333333333,6.333333333333333,9.0,12.0,14.0,\"NaN\",\"NaN\",\"NaN\",\"NaN\",\"NaN\",4.666666666666667,5.083333333333333,5.333333333333333,12.0,6.0,6.0,6.0,5.75,6.166666666666667,6.25,\"NaN\",6.5,6.666666666666667,7.25,7.5,7.5,\"NaN\",7.666666666666667,8.0,8.5,8.833333333333334,9.25,9.75,10.25,10.833333333333334,10.75,11.333333333333334,11.5,\"NaN\",11.75,\"NaN\",\"NaN\",9.166666666666666,9.5,9.0,9.75,9.25,10.0,9.333333333333334,9.5,10.166666666666666,8.75,8.666666666666666,8.25,8.75,8.0,7.5,7.0,6.25,6.166666666666667,9.666666666666666,9.666666666666666,9.5,9.166666666666666,9.666666666666666,10.166666666666666,10.25,10.416666666666666,10.75,11.0,\"NaN\",\"NaN\",4.333333333333333,4.666666666666667,5.0,5.166666666666667,5.666666666666667,6.0,6.5,5.5,5.666666666666667,5.5,6.0,6.666666666666667,6.5,7.0,6.333333333333333,7.0,6.5,6.666666666666667,7.0,6.5,6.5,7.0,9.166666666666666,7.166666666666667,8.0,7.0,7.333333333333333,7.666666666666667,7.25,8.0,7.666666666666667,7.333333333333333,7.5,7.25,8.5,8.666666666666666,8.583333333333334,8.25,8.166666666666666,\"NaN\",5.833333333333333,6.5,6.0,6.5,6.25,\"NaN\",7.333333333333333,6.5,5.166666666666667,\"NaN\",\"NaN\",5.333333333333333,9.166666666666666,12.666666666666666,\"NaN\",\"NaN\",\"NaN\",\"NaN\",\"NaN\",3.6666666666666665,3.0,2.5,5.0,5.083333333333333,4.416666666666667,\"NaN\",4.25,5.166666666666667,5.5,9.0,11.666666666666666,5.0,5.166666666666667,5.166666666666667,5.333333333333333,\"NaN\",\"NaN\",5.333333333333333,5.25,\"NaN\",5.75,5.333333333333333,6.0,5.333333333333333,5.666666666666667,6.166666666666667,5.666666666666667,6.166666666666667,6.166666666666667,\"NaN\",\"NaN\",5.5,5.666666666666667,6.0,6.5,6.666666666666667,7.25,7.333333333333333,5.5,5.666666666666667,6.0,6.333333333333333,6.666666666666667,7.5,7.166666666666667,6.833333333333333,6.666666666666667,8.0,7.333333333333333,6.833333333333333,6.666666666666667,7.0,7.0,7.833333333333333,7.333333333333333,8.0,7.333333333333333,7.666666666666667,8.5,8.666666666666666,\"NaN\",8.5,8.0,8.833333333333334,8.0,8.333333333333334,8.5,8.333333333333334,8.333333333333334,8.666666666666666,8.833333333333334,8.5,\"NaN\",3.0,\"NaN\",\"NaN\",\"NaN\",5.5,5.166666666666667,5.666666666666667,5.5,5.333333333333333,11.5,\"NaN\",5.5,5.666666666666667,5.666666666666667,5.333333333333333,5.25,\"NaN\",\"NaN\",5.666666666666667,6.25,6.5,\"NaN\",7.25,8.25,9.0,10.333333333333334,11.333333333333334,\"NaN\",11.75,12.0,\"NaN\",13.0,\"NaN\",13.166666666666666,13.5,\"NaN\",13.75,\"NaN\",14.333333333333334,\"NaN\",15.166666666666666,15.0,\"NaN\",20.333333333333332,17.0,\"NaN\",\"NaN\",12.0,\"NaN\",12.0,\"NaN\",12.166666666666666,12.25,12.916666666666666,12.5,12.666666666666666,13.0,13.5,14.0,\"NaN\",14.666666666666666,15.0,15.666666666666666,\"NaN\",15.916666666666666,15.5,16.0,14.0,12.5,\"NaN\",16.333333333333332,16.833333333333332,\"NaN\",17.25,17.5,17.833333333333332,18.5,18.0,18.25,\"NaN\",18.5,18.75,19.0,19.5,20.333333333333332,\"NaN\",9.0,11.5,14.666666666666666,16.0,14.0,14.333333333333334,12.0,14.0,\"NaN\",5.75,6.166666666666667,\"NaN\",8.25,8.5,9.333333333333334,10.166666666666666,10.166666666666666,7.0,6.333333333333333,7.0,8.333333333333334,8.833333333333334,\"NaN\",6.416666666666667,7.416666666666667,\"NaN\",6.333333333333333,7.5,\"NaN\",7.333333333333333,\"NaN\",8.5,8.5,\"NaN\",11.0,11.0,10.25,9.333333333333334,9.333333333333334,10.333333333333334,11.5,8.5,9.0,0.0,\"NaN\",10.0,\"NaN\",10.833333333333334,\"NaN\",11.166666666666666,\"NaN\",11.666666666666666,\"NaN\",13.0,\"NaN\",9.5,\"NaN\",9.5,\"NaN\",7.5,\"NaN\",8.0,\"NaN\",6.0,6.5,6.833333333333333,8.333333333333334,8.5,\"NaN\",6.5,\"NaN\",6.0,\"NaN\",6.0,\"NaN\",7.333333333333333,\"NaN\",6.0,\"NaN\",8.333333333333334,\"NaN\",7.5,\"NaN\",7.333333333333333,\"NaN\",8.166666666666666,\"NaN\",8.0,\"NaN\",9.75,10.25,11.0,9.666666666666666,10.333333333333334,9.5,9.666666666666666,9.666666666666666,9.333333333333334,9.833333333333334,10.5,9.0,9.666666666666666,10.0,9.666666666666666,10.166666666666666,9.0,9.5,\"NaN\",\"NaN\",12.166666666666666,12.666666666666666,12.0,11.333333333333334,12.5,11.666666666666666,12.166666666666666,11.75,\"NaN\",12.0,11.25,11.833333333333334,12.0,\"NaN\",13.0,13.0,12.0,13.0,13.25,12.666666666666666,13.0,\"NaN\",\"NaN\",11.166666666666666,11.5,12.5,\"NaN\",\"NaN\",13.0,13.0,13.0,\"NaN\",\"NaN\",11.0,11.0,11.5,11.5,12.5,11.333333333333334,12.666666666666666,13.416666666666666,13.5,13.25,\"NaN\",\"NaN\",9.666666666666666,10.5,11.0,11.5,12.0,13.0,11.666666666666666,10.0,10.333333333333334,11.333333333333334,9.666666666666666,10.25,10.333333333333334,11.0,10.5,9.833333333333334,10.5,10.333333333333334,\"NaN\",13.666666666666666,13.5,14.0,14.75,13.333333333333334,12.166666666666666,13.0,13.5,12.333333333333334,13.166666666666666,13.333333333333334,12.75,13.5,12.5,11.5,12.0,12.333333333333334,11.666666666666666,\"NaN\",9.333333333333334,10.0,9.166666666666666,10.0,9.5,10.666666666666666,11.333333333333334,9.5,9.75,10.333333333333334,11.0,10.0,10.833333333333334,\"NaN\",\"NaN\",13.0,\"NaN\",\"NaN\",13.333333333333334,13.0,13.5,12.0,12.5,11.666666666666666,12.0,11.333333333333334,11.0,11.5,11.333333333333334,11.5,11.166666666666666,11.166666666666666,11.75,\"NaN\",\"NaN\",13.75,14.0,13.166666666666666,13.666666666666666,12.333333333333334,12.333333333333334,\"NaN\",\"NaN\",14.25,14.166666666666666,14.666666666666666,14.166666666666666,14.666666666666666,14.5,14.666666666666666,14.25,14.333333333333334,14.833333333333334,14.416666666666666,14.583333333333334,\"NaN\",\"NaN\",16.666666666666668,14.916666666666666,15.25,15.666666666666666,15.5,15.083333333333334,15.25,\"NaN\",\"NaN\",\"NaN\",13.333333333333334,13.666666666666666,13.916666666666666,\"NaN\",\"NaN\",14.0,14.5,13.916666666666666,14.583333333333334,14.333333333333334,13.666666666666666,14.0,\"NaN\",\"NaN\",15.416666666666666,15.0,15.5,15.0,15.083333333333334,14.833333333333334,15.5,15.0,14.666666666666666,15.0,14.0,14.75,14.333333333333334,14.666666666666666,14.666666666666666,\"NaN\",\"NaN\",16.5,16.0,15.5,15.75,15.166666666666666,16.0,15.166666666666666,15.5,15.0,15.416666666666666,\"NaN\",17.333333333333332,\"NaN\",16.666666666666668,16.166666666666668,17.0,16.666666666666668,\"NaN\",17.916666666666668,17.916666666666668,17.333333333333332,17.5,\"NaN\",\"NaN\",16.333333333333332,16.5,16.0,16.666666666666668,16.0,15.666666666666666,16.75,15.5,16.333333333333332,15.833333333333334,\"NaN\",18.666666666666668,18.5,\"NaN\",17.333333333333332,\"NaN\",9.0,\"NaN\",4.0,4.666666666666667,\"NaN\",14.833333333333334,14.0,\"NaN\",\"NaN\",16.166666666666668,16.75,\"NaN\",17.166666666666668,17.5],\"y\":[\"NaN\",\"NaN\",\"NaN\",\"NaN\",37.666666666666664,37.5,39.0,39.0,37.25,40.0,\"NaN\",\"NaN\",\"NaN\",\"NaN\",\"NaN\",37.333333333333336,37.166666666666664,37.0,38.5,36.75,36.833333333333336,36.333333333333336,36.0,36.166666666666664,36.666666666666664,\"NaN\",36.5,36.333333333333336,36.166666666666664,36.166666666666664,36.25,\"NaN\",36.666666666666664,36.083333333333336,37.0,37.5,37.25,37.25,37.25,37.083333333333336,37.166666666666664,37.083333333333336,36.333333333333336,\"NaN\",37.166666666666664,\"NaN\",\"NaN\",38.833333333333336,38.666666666666664,38.5,38.166666666666664,38.5,38.25,38.083333333333336,38.0,38.0,37.75,37.416666666666664,37.666666666666664,37.916666666666664,37.166666666666664,37.0,36.666666666666664,36.916666666666664,36.333333333333336,38.083333333333336,37.75,37.5,37.5,37.416666666666664,37.75,37.5,37.833333333333336,37.833333333333336,37.666666666666664,\"NaN\",\"NaN\",38.0,37.75,37.25,38.333333333333336,38.333333333333336,38.333333333333336,37.75,37.333333333333336,37.5,37.75,37.333333333333336,38.333333333333336,38.666666666666664,38.0,37.333333333333336,37.666666666666664,37.5,37.25,37.166666666666664,37.916666666666664,37.333333333333336,38.833333333333336,38.0,37.833333333333336,38.666666666666664,38.416666666666664,38.333333333333336,37.5,37.833333333333336,37.75,37.75,37.166666666666664,37.416666666666664,37.083333333333336,38.5,38.583333333333336,38.333333333333336,38.333333333333336,38.0,\"NaN\",38.0,38.5,38.666666666666664,38.833333333333336,38.416666666666664,\"NaN\",37.666666666666664,37.083333333333336,36.166666666666664,\"NaN\",\"NaN\",41.833333333333336,41.333333333333336,41.666666666666664,\"NaN\",\"NaN\",\"NaN\",\"NaN\",\"NaN\",37.75,37.833333333333336,38.25,39.0,39.416666666666664,39.5,\"NaN\",39.75,40.25,40.166666666666664,40.166666666666664,40.75,40.666666666666664,40.833333333333336,41.333333333333336,41.833333333333336,\"NaN\",\"NaN\",39.0,38.75,\"NaN\",40.25,40.0,40.0,39.75,39.0,39.666666666666664,39.333333333333336,39.333333333333336,39.083333333333336,\"NaN\",\"NaN\",41.083333333333336,41.5,41.333333333333336,41.25,41.5,41.083333333333336,41.5,40.666666666666664,40.5,41.0,40.75,40.5,40.75,40.5,40.25,40.0,40.25,40.0,39.75,39.5,39.333333333333336,39.083333333333336,39.916666666666664,39.666666666666664,39.5,39.25,39.083333333333336,39.5,39.166666666666664,\"NaN\",41.666666666666664,41.5,41.833333333333336,41.25,41.25,41.0,41.0,40.75,40.666666666666664,40.416666666666664,40.083333333333336,\"NaN\",41.0,\"NaN\",\"NaN\",\"NaN\",42.25,42.5,42.75,43.25,43.666666666666664,44.25,\"NaN\",44.0,44.333333333333336,44.666666666666664,45.0,45.166666666666664,\"NaN\",\"NaN\",45.5,45.5,45.5,\"NaN\",45.0,45.833333333333336,45.75,45.666666666666664,45.75,\"NaN\",45.416666666666664,45.5,\"NaN\",45.666666666666664,\"NaN\",44.666666666666664,44.25,\"NaN\",44.416666666666664,\"NaN\",45.0,\"NaN\",45.083333333333336,45.833333333333336,\"NaN\",42.333333333333336,43.0,\"NaN\",\"NaN\",37.25,\"NaN\",37.333333333333336,\"NaN\",37.5,37.916666666666664,38.083333333333336,38.5,38.583333333333336,38.75,38.75,38.333333333333336,\"NaN\",38.916666666666664,39.0,39.5,\"NaN\",39.666666666666664,40.0,40.5,42.0,44.0,\"NaN\",40.666666666666664,40.75,\"NaN\",41.0,41.0,41.333333333333336,41.5,41.75,42.0,\"NaN\",42.166666666666664,42.333333333333336,42.5,42.5,42.333333333333336,\"NaN\",45.0,44.25,42.25,43.0,41.5,39.0,37.666666666666664,39.666666666666664,\"NaN\",45.166666666666664,44.75,\"NaN\",45.083333333333336,45.5,45.333333333333336,44.666666666666664,44.916666666666664,44.75,43.75,43.5,44.416666666666664,44.583333333333336,\"NaN\",44.5,44.416666666666664,\"NaN\",44.333333333333336,44.0,\"NaN\",44.75,\"NaN\",44.5,45.166666666666664,\"NaN\",45.0,44.5,44.333333333333336,44.75,43.5,44.0,43.75,43.75,44.0,0.0,\"NaN\",44.833333333333336,\"NaN\",43.916666666666664,\"NaN\",44.25,\"NaN\",44.833333333333336,\"NaN\",43.75,\"NaN\",43.666666666666664,\"NaN\",44.0,\"NaN\",43.75,\"NaN\",43.75,\"NaN\",43.666666666666664,43.5,43.5,43.416666666666664,43.416666666666664,\"NaN\",43.666666666666664,\"NaN\",42.583333333333336,\"NaN\",43.333333333333336,\"NaN\",43.333333333333336,\"NaN\",42.25,\"NaN\",42.75,\"NaN\",42.666666666666664,\"NaN\",42.333333333333336,\"NaN\",42.333333333333336,\"NaN\",42.0,\"NaN\",43.916666666666664,43.416666666666664,43.5,43.333333333333336,43.0,43.0,42.666666666666664,42.916666666666664,42.5,42.0,42.5,42.333333333333336,42.416666666666664,42.333333333333336,42.166666666666664,42.0,42.0,41.666666666666664,\"NaN\",\"NaN\",44.666666666666664,44.75,44.166666666666664,44.666666666666664,44.25,44.666666666666664,44.0,43.333333333333336,\"NaN\",43.666666666666664,43.5,43.333333333333336,43.166666666666664,\"NaN\",44.25,43.5,43.0,43.0,43.5,43.25,42.666666666666664,\"NaN\",\"NaN\",42.0,42.666666666666664,42.666666666666664,\"NaN\",\"NaN\",42.0,41.666666666666664,42.25,\"NaN\",\"NaN\",42.833333333333336,42.0,42.416666666666664,42.0,41.666666666666664,41.833333333333336,42.5,42.75,42.916666666666664,42.5,\"NaN\",\"NaN\",41.0,41.666666666666664,41.5,41.5,41.833333333333336,41.333333333333336,41.0,41.0,41.666666666666664,40.0,40.333333333333336,40.75,40.583333333333336,40.5,40.916666666666664,40.25,40.25,39.75,\"NaN\",41.166666666666664,41.333333333333336,41.75,41.5,41.666666666666664,41.0,41.0,41.666666666666664,40.75,40.666666666666664,40.5,40.833333333333336,40.5,40.666666666666664,40.25,40.333333333333336,40.166666666666664,39.75,\"NaN\",40.0,39.0,39.666666666666664,39.5,39.5,39.166666666666664,39.0,39.0,39.5,39.0,39.666666666666664,38.75,38.333333333333336,\"NaN\",\"NaN\",40.333333333333336,\"NaN\",\"NaN\",39.833333333333336,39.333333333333336,39.75,39.5,39.666666666666664,39.25,39.166666666666664,39.75,38.583333333333336,38.666666666666664,37.75,38.166666666666664,38.333333333333336,38.0,38.5,\"NaN\",\"NaN\",39.25,39.0,39.0,38.916666666666664,38.5,38.916666666666664,\"NaN\",\"NaN\",41.5,41.25,41.0,40.75,40.666666666666664,40.5,40.25,40.166666666666664,39.75,39.666666666666664,39.416666666666664,39.666666666666664,\"NaN\",\"NaN\",41.333333333333336,41.166666666666664,40.666666666666664,40.5,40.333333333333336,40.25,40.0,\"NaN\",\"NaN\",\"NaN\",43.75,42.75,43.333333333333336,\"NaN\",\"NaN\",43.916666666666664,43.75,43.75,43.166666666666664,43.5,43.75,42.833333333333336,\"NaN\",\"NaN\",43.916666666666664,43.75,43.666666666666664,43.5,43.083333333333336,43.25,43.416666666666664,43.0,42.916666666666664,42.75,42.583333333333336,42.5,42.416666666666664,42.25,43.333333333333336,\"NaN\",\"NaN\",43.0,42.75,42.5,42.25,42.5,42.5,41.916666666666664,41.666666666666664,41.5,41.416666666666664,\"NaN\",42.75,\"NaN\",42.166666666666664,42.166666666666664,42.25,42.666666666666664,\"NaN\",42.25,42.5,41.916666666666664,42.5,\"NaN\",\"NaN\",42.0,41.75,41.666666666666664,41.583333333333336,41.166666666666664,41.333333333333336,41.916666666666664,41.0,41.333333333333336,40.833333333333336,\"NaN\",42.583333333333336,42.416666666666664,\"NaN\",41.583333333333336,\"NaN\",46.75,\"NaN\",45.5,43.333333333333336,\"NaN\",38.333333333333336,38.083333333333336,\"NaN\",\"NaN\",39.25,39.25,\"NaN\",39.5,39.5]},\"selected\":{\"id\":\"3990\",\"type\":\"Selection\"},\"selection_policy\":{\"id\":\"3989\",\"type\":\"UnionRenderers\"}},\"id\":\"3954\",\"type\":\"ColumnDataSource\"},{\"attributes\":{},\"id\":\"4057\",\"type\":\"Selection\"},{\"attributes\":{\"callback\":null,\"data\":{\"x\":{\"__ndarray__\":\"AAAAAAAALkBVVVVVVVUuQKuqqqqqqixAAAAAAACAK0AAAAAAAAArQFVVVVVVVSpAAAAAAAAAKkAAAAAAAAAoQAAAAAAAgCdAq6qqqqqqJkCrqqqqqqokQAAAAAAAACJAAAAAAACAIEAAAAAAAAAdQAAAAAAAABpAAAAAAAAAGUCrqqqqqqoWQAAAAAAAABVAVVVVVVVVFUCrqqqqqqoWQKuqqqqqqhZAAAAAAAAAFkBVVVVVVVUVQAAAAAAAABZAq6qqqqqqFkCrqqqqqqoUQAAAAAAAABZAVVVVVVVVFUCrqqqqqqoUQKuqqqqqqhRAAAAAAAAAFEAAAAAAAAAWQKuqqqqqqhRAAAAAAAAAEUCrqqqqqqoRQFVVVVVVVRRAAAAAAAAAFEAAAAAAAAAEQAAAAAAAAAhAVVVVVVVVDUBVVVVVVVUQQFVVVVVVVRFAq6qqqqqqEkBVVVVVVVUUQFVVVVVVVRVAAAAAAAAAGEAAAAAAAAAYQAAAAAAAABhAAAAAAAAAF0CrqqqqqqoYQAAAAAAAABlAAAAAAAAAGkCrqqqqqqoaQAAAAAAAAB1AAAAAAAAAHkAAAAAAAAAeQKuqqqqqqh5AAAAAAAAAIEAAAAAAAAAhQKuqqqqqqiFAAAAAAACAIkAAAAAAAIAjQAAAAAAAgCRAq6qqqqqqJUAAAAAAAIAlQKuqqqqqqiZAAAAAAAAAJ0AAAAAAAIAnQAAAAAAAAChAAAAAAAAAKEBVVVVVVVUoQAAAAAAAgChAVVVVVVXVKUAAAAAAAAApQFVVVVVVVSlAAAAAAAAAKkAAAAAAAAArQAAAAAAAACxAVVVVVVVVLUAAAAAAAAAuQFVVVVVVVS9AVVVVVVXVL0AAAAAAAAAvQAAAAAAAADBAVVVVVVVVMEBVVVVVVdUwQAAAAAAAQDFAAAAAAACAMUBVVVVVVdUxQAAAAAAAgDJAAAAAAAAAMkAAAAAAAEAyQAAAAAAAgDJAAAAAAADAMkAAAAAAAAAzQAAAAAAAgDNAVVVVVVVVNEA=\",\"dtype\":\"float64\",\"shape\":[97]},\"y\":{\"__ndarray__\":\"q6qqqqrqRkCrqqqqqopGQAAAAAAAgEZAVVVVVVU1RkAAAAAAACBGQFVVVVVVVUZAVVVVVVXVRkAAAAAAAMBGQFVVVVVVtUZAAAAAAADgRkBVVVVVVdVGQAAAAAAA4EZAq6qqqqrqRkAAAAAAAIBGQAAAAAAAwEZAAAAAAADARkAAAAAAAMBGQFVVVVVVlUZAAAAAAACARkBVVVVVVVVGQKuqqqqqKkZAAAAAAAAARkBVVVVVVdVFQAAAAAAAoEVAAAAAAABgRUAAAAAAAEBFQAAAAAAAIEVAq6qqqqrqRECrqqqqqqpEQKuqqqqqakRAVVVVVVVVREBVVVVVVRVEQAAAAAAAIERAAAAAAADgQ0AAAAAAAMBDQFVVVVVVtUNAAAAAAACAQ0AAAAAAACBDQKuqqqqq6kJAAAAAAADgQkBVVVVVVdVCQAAAAAAAwEJAq6qqqqqqQkBVVVVVVZVCQAAAAAAAgEJAAAAAAABgQkCrqqqqqmpCQKuqqqqqKkJAAAAAAAAAQkBVVVVVVRVCQFVVVVVVVUJAAAAAAABAQkCrqqqqqipCQFVVVVVVFUJAVVVVVVUVQkAAAAAAACBCQFVVVVVVVUJAq6qqqqoKQkAAAAAAAIBCQAAAAAAAwEJAAAAAAACgQkAAAAAAAKBCQAAAAAAAoEJAq6qqqqqKQkBVVVVVVZVCQKuqqqqqikJAq6qqqqoqQkBVVVVVVZVCQAAAAAAAoEJAq6qqqqqqQkAAAAAAAMBCQFVVVVVV9UJAq6qqqqoKQ0AAAAAAAEBDQKuqqqqqSkNAAAAAAABgQ0AAAAAAAGBDQKuqqqqqKkNAVVVVVVV1Q0AAAAAAAIBDQAAAAAAAwENAVVVVVVXVQ0AAAAAAAABEQAAAAAAAQERAVVVVVVVVREAAAAAAAGBEQAAAAAAAgERAAAAAAACARECrqqqqqqpEQAAAAAAAwERAAAAAAADgREAAAAAAAABFQFVVVVVVFUVAq6qqqqoqRUAAAAAAAEBFQAAAAAAAQEVAq6qqqqoqRUA=\",\"dtype\":\"float64\",\"shape\":[97]}},\"selected\":{\"id\":\"3927\",\"type\":\"Selection\"},\"selection_policy\":{\"id\":\"3926\",\"type\":\"UnionRenderers\"}},\"id\":\"3908\",\"type\":\"ColumnDataSource\"},{\"attributes\":{\"ticker\":{\"id\":\"3886\",\"type\":\"BasicTicker\"}},\"id\":\"3889\",\"type\":\"Grid\"},{\"attributes\":{\"source\":{\"id\":\"3954\",\"type\":\"ColumnDataSource\"}},\"id\":\"3955\",\"type\":\"CDSView\"},{\"attributes\":{\"callback\":null,\"data\":{\"x\":[\"NaN\",\"NaN\",\"NaN\",\"NaN\",4.083333333333333,4.333333333333333,6.333333333333333,9.0,12.0,14.0,\"NaN\",\"NaN\",\"NaN\",\"NaN\",\"NaN\",4.666666666666667,5.083333333333333,5.333333333333333,12.0,6.0,\"NaN\",6.0,5.75,6.166666666666667,6.25,\"NaN\",6.5,6.833333333333333,7.25,7.5,7.5,\"NaN\",7.666666666666667,8.0,8.5,8.833333333333334,9.25,9.75,10.25,10.75,11.333333333333334,11.5,\"NaN\",11.75,\"NaN\",\"NaN\",9.166666666666666,9.5,9.0,9.75,9.25,10.0,9.333333333333334,8.75,10.166666666666666,8.75,8.666666666666666,8.25,8.75,8.0,7.5,7.0,6.75,6.5,9.5,9.083333333333334,9.5,9.833333333333334,9.666666666666666,10.166666666666666,10.25,10.833333333333334,10.25,11.166666666666666,\"NaN\",\"NaN\",4.666666666666667,4.666666666666667,5.0,5.166666666666667,5.666666666666667,6.0,5.5,5.166666666666667,5.666666666666667,5.666666666666667,5.5,6.0,6.083333333333333,6.5,7.0,6.333333333333333,7.0,6.5,6.083333333333333,7.0,6.5,6.5,7.666666666666667,7.166666666666667,8.0,7.0,7.333333333333333,7.666666666666667,7.25,8.0,7.666666666666667,7.166666666666667,7.5,7.25,8.5,8.666666666666666,8.583333333333334,8.25,8.166666666666666,\"NaN\",5.833333333333333,6.5,6.0,6.5,6.25,\"NaN\",6.0,7.333333333333333,5.166666666666667,\"NaN\",\"NaN\",5.333333333333333,9.333333333333334,12.666666666666666,\"NaN\",\"NaN\",\"NaN\",\"NaN\",3.6666666666666665,3.0,2.5,5.0,5.083333333333333,4.916666666666667,\"NaN\",4.833333333333333,5.166666666666667,5.666666666666667,9.0,11.666666666666666,5.0,5.166666666666667,5.5,5.333333333333333,\"NaN\",\"NaN\",5.333333333333333,5.25,\"NaN\",5.75,5.333333333333333,6.0,5.333333333333333,5.666666666666667,6.166666666666667,5.666666666666667,6.166666666666667,6.5,\"NaN\",\"NaN\",5.833333333333333,5.666666666666667,6.0,7.5,6.666666666666667,7.25,6.666666666666667,7.666666666666667,5.5,5.666666666666667,6.0,6.333333333333333,6.666666666666667,7.166666666666667,7.666666666666667,6.833333333333333,6.666666666666667,8.0,7.333333333333333,7.833333333333333,7.666666666666667,7.0,7.0,7.833333333333333,7.333333333333333,8.0,7.333333333333333,7.666666666666667,8.5,\"NaN\",8.5,8.0,8.833333333333334,8.0,8.833333333333334,8.166666666666666,8.833333333333334,8.333333333333334,8.666666666666666,8.833333333333334,8.5,\"NaN\",3.0,\"NaN\",\"NaN\",\"NaN\",5.5,5.5,5.666666666666667,5.5,5.333333333333333,11.5,\"NaN\",5.5,5.666666666666667,\"NaN\",5.666666666666667,5.666666666666667,5.25,\"NaN\",\"NaN\",5.666666666666667,6.25,6.5,\"NaN\",6.75,8.25,9.0,10.333333333333334,11.666666666666666,\"NaN\",11.75,12.0,\"NaN\",13.0,\"NaN\",13.166666666666666,13.5,\"NaN\",13.833333333333334,\"NaN\",14.333333333333334,\"NaN\",15.166666666666666,15.166666666666666,\"NaN\",20.333333333333332,17.0,\"NaN\",\"NaN\",12.0,\"NaN\",12.0,\"NaN\",12.166666666666666,12.25,12.5,12.5,12.5,13.0,13.5,14.0,\"NaN\",14.5,15.0,15.083333333333334,\"NaN\",15.833333333333334,15.5,16.0,14.0,12.5,\"NaN\",16.333333333333332,16.833333333333332,\"NaN\",17.25,17.5,17.833333333333332,18.5,18.0,18.25,\"NaN\",18.5,18.75,19.0,19.5,20.333333333333332,\"NaN\",9.0,11.5,14.666666666666666,16.0,14.0,14.333333333333334,12.0,14.0,\"NaN\",5.75,6.166666666666667,\"NaN\",8.25,8.5,9.333333333333334,10.166666666666666,10.166666666666666,7.0,6.333333333333333,7.0,8.333333333333334,8.833333333333334,\"NaN\",6.416666666666667,7.416666666666667,\"NaN\",6.333333333333333,\"NaN\",7.166666666666667,\"NaN\",7.833333333333333,\"NaN\",8.5,8.5,\"NaN\",11.0,11.5,11.0,9.333333333333334,0.0,13.5,11.166666666666666,8.5,0.0,9.0,\"NaN\",10.0,\"NaN\",10.666666666666666,\"NaN\",11.166666666666666,\"NaN\",11.583333333333334,\"NaN\",10.333333333333334,\"NaN\",9.5,\"NaN\",9.5,\"NaN\",7.5,\"NaN\",8.0,\"NaN\",6.333333333333333,6.833333333333333,7.666666666666667,8.333333333333334,8.5,6.0,\"NaN\",6.5,\"NaN\",6.0,\"NaN\",6.0,\"NaN\",7.333333333333333,\"NaN\",6.833333333333333,\"NaN\",8.333333333333334,\"NaN\",7.125,\"NaN\",7.333333333333333,\"NaN\",8.166666666666666,\"NaN\",8.0,\"NaN\",9.75,10.25,11.0,9.666666666666666,10.0,10.666666666666666,13.0,9.166666666666666,9.666666666666666,9.083333333333334,9.333333333333334,9.833333333333334,10.333333333333334,9.0,9.666666666666666,10.0,9.666666666666666,10.166666666666666,9.0,9.666666666666666,\"NaN\",\"NaN\",12.166666666666666,12.666666666666666,12.0,11.833333333333334,12.5,11.666666666666666,12.166666666666666,11.75,\"NaN\",12.0,11.5,11.833333333333334,11.166666666666666,12.0,\"NaN\",13.0,13.0,12.5,13.0,13.25,12.666666666666666,13.0,\"NaN\",\"NaN\",11.166666666666666,11.5,12.166666666666666,\"NaN\",\"NaN\",13.0,13.0,13.5,\"NaN\",\"NaN\",11.0,11.0,11.5,11.833333333333334,12.5,11.833333333333334,12.666666666666666,12.5,13.5,13.25,\"NaN\",\"NaN\",9.666666666666666,10.5,11.0,11.166666666666666,12.0,13.0,11.666666666666666,10.0,10.833333333333334,11.333333333333334,9.416666666666666,10.75,10.333333333333334,11.0,10.5,9.833333333333334,10.5,10.833333333333334,\"NaN\",13.666666666666666,13.166666666666666,14.0,14.75,13.416666666666666,12.166666666666666,13.0,13.5,12.5,13.166666666666666,13.833333333333334,12.75,13.333333333333334,12.5,11.5,12.0,12.333333333333334,11.666666666666666,\"NaN\",9.333333333333334,10.0,9.166666666666666,10.0,9.5,10.666666666666666,11.416666666666666,9.5,9.75,10.416666666666666,11.0,10.0,10.666666666666666,10.333333333333334,\"NaN\",\"NaN\",13.5,\"NaN\",\"NaN\",13.333333333333334,13.0,13.5,12.0,12.5,11.666666666666666,12.0,11.333333333333334,11.0,11.5,10.833333333333334,11.166666666666666,11.5,11.166666666666666,11.75,\"NaN\",\"NaN\",13.75,14.0,13.166666666666666,13.666666666666666,12.333333333333334,12.333333333333334,\"NaN\",\"NaN\",14.5,14.166666666666666,14.666666666666666,14.166666666666666,14.666666666666666,14.166666666666666,14.666666666666666,14.25,14.333333333333334,14.833333333333334,14.416666666666666,14.583333333333334,\"NaN\",\"NaN\",16.333333333333332,14.916666666666666,15.25,15.666666666666666,15.5,15.083333333333334,15.25,\"NaN\",\"NaN\",\"NaN\",13.666666666666666,13.666666666666666,13.916666666666666,\"NaN\",\"NaN\",14.0,14.5,13.833333333333334,14.583333333333334,14.5,13.666666666666666,14.0,\"NaN\",\"NaN\",15.416666666666666,15.0,15.5,15.5,15.583333333333334,14.833333333333334,15.5,15.0,14.666666666666666,15.0,14.5,14.75,14.333333333333334,14.666666666666666,14.666666666666666,\"NaN\",\"NaN\",16.5,16.0,15.5,15.75,15.166666666666666,16.0,15.166666666666666,15.5,15.0,15.416666666666666,\"NaN\",17.333333333333332,\"NaN\",13.666666666666666,16.166666666666668,17.0,17.916666666666668,\"NaN\",17.916666666666668,17.916666666666668,17.166666666666668,17.5,\"NaN\",\"NaN\",16.333333333333332,16.5,16.0,16.666666666666668,16.0,15.666666666666666,16.75,15.5,16.333333333333332,15.833333333333334,\"NaN\",17.833333333333332,18.166666666666668,\"NaN\",17.333333333333332,\"NaN\",9.0,\"NaN\",4.0,4.666666666666667,\"NaN\",14.833333333333334,14.0,\"NaN\",\"NaN\",16.166666666666668,16.75,\"NaN\",17.166666666666668,17.5],\"y\":[\"NaN\",\"NaN\",\"NaN\",\"NaN\",37.666666666666664,37.5,39.0,39.0,37.25,40.0,\"NaN\",\"NaN\",\"NaN\",\"NaN\",\"NaN\",37.333333333333336,37.166666666666664,37.0,38.5,36.75,\"NaN\",36.333333333333336,36.083333333333336,36.083333333333336,36.083333333333336,\"NaN\",36.166666666666664,36.083333333333336,36.5,36.166666666666664,36.25,\"NaN\",36.666666666666664,36.916666666666664,37.0,37.166666666666664,37.166666666666664,37.75,37.25,37.166666666666664,37.083333333333336,36.833333333333336,\"NaN\",37.166666666666664,\"NaN\",\"NaN\",38.833333333333336,38.666666666666664,38.5,38.166666666666664,38.333333333333336,38.25,38.333333333333336,38.0,38.0,37.75,37.666666666666664,37.333333333333336,37.333333333333336,37.166666666666664,37.0,36.666666666666664,36.5,36.333333333333336,38.0,37.75,37.5,37.5,37.666666666666664,37.75,37.5,37.5,37.333333333333336,37.333333333333336,\"NaN\",\"NaN\",38.0,37.75,37.25,38.25,38.333333333333336,38.0,37.75,37.5,37.5,37.333333333333336,37.166666666666664,37.0,38.333333333333336,38.083333333333336,38.0,37.833333333333336,37.666666666666664,37.5,37.25,37.333333333333336,37.083333333333336,37.833333333333336,38.916666666666664,38.916666666666664,38.666666666666664,38.416666666666664,38.333333333333336,37.166666666666664,37.833333333333336,37.833333333333336,37.5,37.5,37.083333333333336,37.083333333333336,38.833333333333336,38.916666666666664,38.083333333333336,38.333333333333336,38.0,\"NaN\",38.833333333333336,38.833333333333336,38.666666666666664,38.416666666666664,38.416666666666664,\"NaN\",37.666666666666664,37.5,36.666666666666664,\"NaN\",\"NaN\",41.833333333333336,41.833333333333336,41.666666666666664,\"NaN\",\"NaN\",\"NaN\",\"NaN\",37.75,37.916666666666664,38.25,39.0,39.416666666666664,39.833333333333336,\"NaN\",39.833333333333336,40.25,40.5,40.5,40.75,42.666666666666664,40.833333333333336,41.333333333333336,41.833333333333336,\"NaN\",\"NaN\",39.0,38.75,\"NaN\",40.25,40.0,40.0,39.75,39.583333333333336,39.666666666666664,39.333333333333336,39.333333333333336,39.083333333333336,\"NaN\",\"NaN\",41.75,41.5,41.333333333333336,40.833333333333336,41.5,41.083333333333336,41.083333333333336,41.0,40.833333333333336,40.5,40.916666666666664,40.75,40.5,40.75,40.5,40.25,40.0,40.25,40.0,39.75,39.5,39.333333333333336,39.083333333333336,39.916666666666664,39.666666666666664,39.5,39.25,39.083333333333336,39.5,\"NaN\",41.666666666666664,41.5,41.833333333333336,41.25,40.75,41.0,41.0,40.75,40.666666666666664,40.416666666666664,40.083333333333336,\"NaN\",41.0,\"NaN\",\"NaN\",\"NaN\",42.25,42.5,42.75,43.25,43.666666666666664,44.25,\"NaN\",44.0,44.333333333333336,\"NaN\",44.666666666666664,45.0,45.166666666666664,\"NaN\",\"NaN\",45.166666666666664,45.5,45.5,\"NaN\",45.0,45.833333333333336,45.75,45.666666666666664,45.75,\"NaN\",45.416666666666664,45.166666666666664,\"NaN\",45.5,\"NaN\",44.666666666666664,44.25,\"NaN\",44.083333333333336,\"NaN\",45.0,\"NaN\",45.083333333333336,45.833333333333336,\"NaN\",42.333333333333336,43.0,\"NaN\",\"NaN\",37.25,\"NaN\",37.416666666666664,\"NaN\",37.5,37.916666666666664,38.166666666666664,38.5,38.583333333333336,38.75,38.75,38.833333333333336,\"NaN\",38.916666666666664,39.0,39.5,\"NaN\",39.333333333333336,40.0,40.5,42.0,44.0,\"NaN\",40.666666666666664,40.75,\"NaN\",41.0,41.25,41.333333333333336,41.333333333333336,41.75,42.0,\"NaN\",42.166666666666664,42.333333333333336,42.5,42.5,42.333333333333336,\"NaN\",45.0,44.5,42.5,43.0,41.5,39.0,37.666666666666664,39.666666666666664,\"NaN\",45.166666666666664,44.75,\"NaN\",45.083333333333336,45.333333333333336,45.333333333333336,45.333333333333336,45.083333333333336,44.75,43.75,43.666666666666664,44.416666666666664,44.583333333333336,\"NaN\",44.5,44.416666666666664,\"NaN\",44.333333333333336,\"NaN\",44.0,\"NaN\",44.75,\"NaN\",44.5,45.083333333333336,\"NaN\",45.0,44.5,44.583333333333336,44.75,0.0,43.75,43.75,44.166666666666664,0.0,44.5,\"NaN\",44.583333333333336,\"NaN\",44.416666666666664,\"NaN\",44.25,\"NaN\",44.833333333333336,\"NaN\",43.75,\"NaN\",43.666666666666664,\"NaN\",44.0,\"NaN\",43.75,\"NaN\",43.75,\"NaN\",43.416666666666664,43.5,43.416666666666664,43.416666666666664,43.083333333333336,41.916666666666664,\"NaN\",43.083333333333336,\"NaN\",42.583333333333336,\"NaN\",42.5,\"NaN\",43.333333333333336,\"NaN\",42.75,\"NaN\",42.75,\"NaN\",42.666666666666664,\"NaN\",42.333333333333336,\"NaN\",42.166666666666664,\"NaN\",42.0,\"NaN\",43.416666666666664,43.416666666666664,43.5,43.333333333333336,43.25,43.333333333333336,40.333333333333336,40.333333333333336,42.916666666666664,42.666666666666664,42.583333333333336,42.666666666666664,42.5,42.333333333333336,42.416666666666664,42.333333333333336,42.166666666666664,42.0,41.916666666666664,41.916666666666664,\"NaN\",\"NaN\",44.916666666666664,44.833333333333336,44.5,44.416666666666664,44.25,44.083333333333336,44.0,43.833333333333336,\"NaN\",43.666666666666664,43.5,43.416666666666664,43.083333333333336,43.166666666666664,\"NaN\",44.25,43.916666666666664,43.5,43.666666666666664,43.5,43.25,43.083333333333336,\"NaN\",\"NaN\",42.833333333333336,42.666666666666664,42.666666666666664,\"NaN\",\"NaN\",42.833333333333336,42.666666666666664,42.75,\"NaN\",\"NaN\",42.583333333333336,42.0,42.416666666666664,42.416666666666664,42.416666666666664,41.916666666666664,42.166666666666664,41.833333333333336,42.416666666666664,42.166666666666664,\"NaN\",\"NaN\",41.666666666666664,41.666666666666664,41.583333333333336,41.5,41.583333333333336,41.333333333333336,41.25,41.0,41.083333333333336,40.833333333333336,40.833333333333336,40.75,40.583333333333336,40.5,40.416666666666664,44.25,40.25,39.916666666666664,\"NaN\",41.916666666666664,41.333333333333336,41.75,41.5,41.416666666666664,41.0,41.0,41.083333333333336,40.75,40.833333333333336,40.5,40.583333333333336,40.5,40.416666666666664,40.25,40.333333333333336,40.166666666666664,39.75,\"NaN\",40.0,39.916666666666664,39.666666666666664,39.666666666666664,39.166666666666664,39.416666666666664,39.5,39.0,39.166666666666664,39.0,39.083333333333336,38.75,38.5,38.5,\"NaN\",\"NaN\",40.333333333333336,\"NaN\",\"NaN\",39.833333333333336,39.666666666666664,39.75,39.5,39.416666666666664,39.25,39.166666666666664,39.916666666666664,39.583333333333336,38.666666666666664,38.333333333333336,38.333333333333336,38.083333333333336,37.583333333333336,37.583333333333336,\"NaN\",\"NaN\",39.25,39.0,39.0,37.916666666666664,38.833333333333336,38.25,\"NaN\",\"NaN\",41.5,41.25,41.0,40.75,40.666666666666664,40.5,40.25,40.166666666666664,39.75,39.666666666666664,39.416666666666664,39.333333333333336,\"NaN\",\"NaN\",40.666666666666664,41.166666666666664,40.666666666666664,40.5,40.416666666666664,44.0,40.0,\"NaN\",\"NaN\",\"NaN\",44.0,43.75,43.333333333333336,\"NaN\",\"NaN\",43.833333333333336,43.75,43.5,43.5,43.25,43.166666666666664,42.833333333333336,\"NaN\",\"NaN\",43.916666666666664,43.75,43.75,43.5,43.416666666666664,43.25,43.25,41.0,42.916666666666664,42.75,42.416666666666664,42.5,42.416666666666664,42.25,41.916666666666664,\"NaN\",\"NaN\",43.0,42.75,42.5,42.833333333333336,42.166666666666664,42.166666666666664,41.916666666666664,41.666666666666664,41.5,41.416666666666664,\"NaN\",42.75,\"NaN\",42.166666666666664,42.5,42.25,42.25,\"NaN\",42.166666666666664,42.083333333333336,41.75,41.833333333333336,\"NaN\",\"NaN\",42.0,41.75,41.666666666666664,41.583333333333336,41.166666666666664,41.333333333333336,41.416666666666664,41.0,41.0,40.833333333333336,\"NaN\",42.583333333333336,42.333333333333336,\"NaN\",41.416666666666664,\"NaN\",46.75,\"NaN\",45.5,43.333333333333336,\"NaN\",38.333333333333336,38.083333333333336,\"NaN\",\"NaN\",39.25,39.25,\"NaN\",39.5,39.5]},\"selected\":{\"id\":\"4264\",\"type\":\"Selection\"},\"selection_policy\":{\"id\":\"4263\",\"type\":\"UnionRenderers\"}},\"id\":\"4058\",\"type\":\"ColumnDataSource\"},{\"attributes\":{\"callback\":null,\"data\":{\"x\":{\"__ndarray__\":\"L90kBoFVLkAAAAAAAAAxQAAAAAAAADNAaJHtfD9VNEA=\",\"dtype\":\"float64\",\"shape\":[4]},\"y\":{\"__ndarray__\":\"tMh2vp/qRkAAAAAAAIBFQEw3iUFglUVAtMh2vp8qRUA=\",\"dtype\":\"float64\",\"shape\":[4]}},\"selected\":{\"id\":\"4084\",\"type\":\"Selection\"},\"selection_policy\":{\"id\":\"4083\",\"type\":\"UnionRenderers\"}},\"id\":\"4034\",\"type\":\"ColumnDataSource\"},{\"attributes\":{\"source\":{\"id\":\"4058\",\"type\":\"ColumnDataSource\"}},\"id\":\"4059\",\"type\":\"CDSView\"},{\"attributes\":{\"callback\":null,\"end\":22,\"start\":1.5},\"id\":\"3877\",\"type\":\"Range1d\"},{\"attributes\":{\"fill_alpha\":{\"value\":0.9},\"fill_color\":{\"value\":\"dodgerblue\"},\"line_alpha\":{\"value\":0.6},\"line_color\":{\"value\":\"dodgerblue\"},\"size\":{\"units\":\"screen\",\"value\":6},\"x\":{\"field\":\"x\"},\"y\":{\"field\":\"y\"}},\"id\":\"3957\",\"type\":\"Circle\"},{\"attributes\":{\"callback\":null,\"end\":47,\"start\":35.5},\"id\":\"3879\",\"type\":\"Range1d\"},{\"attributes\":{},\"id\":\"3899\",\"type\":\"WheelZoomTool\"},{\"attributes\":{\"fill_alpha\":{\"value\":0.1},\"fill_color\":{\"value\":\"#1f77b4\"},\"line_alpha\":{\"value\":0.1},\"line_color\":{\"value\":\"#1f77b4\"},\"size\":{\"units\":\"screen\",\"value\":6},\"x\":{\"field\":\"x\"},\"y\":{\"field\":\"y\"}},\"id\":\"3958\",\"type\":\"Circle\"},{\"attributes\":{\"callback\":null,\"tooltips\":[[\"index\",\"$index\"],[\"(x,y)\",\"($x, $y)\"]]},\"id\":\"3895\",\"type\":\"HoverTool\"},{\"attributes\":{\"fill_alpha\":{\"value\":0.9},\"fill_color\":{\"value\":\"crimson\"},\"line_alpha\":{\"value\":0.6},\"line_color\":{\"value\":\"red\"},\"size\":{\"units\":\"screen\",\"value\":6},\"x\":{\"field\":\"x\"},\"y\":{\"field\":\"y\"}},\"id\":\"4061\",\"type\":\"Circle\"},{\"attributes\":{},\"id\":\"3881\",\"type\":\"LinearScale\"},{\"attributes\":{},\"id\":\"3896\",\"type\":\"CrosshairTool\"},{\"attributes\":{\"fill_alpha\":{\"value\":0.2},\"fill_color\":{\"value\":\"#1f77b4\"},\"line_alpha\":{\"value\":0.2},\"line_color\":{\"value\":\"#1f77b4\"},\"size\":{\"units\":\"screen\",\"value\":6},\"x\":{\"field\":\"x\"},\"y\":{\"field\":\"y\"}},\"id\":\"3959\",\"type\":\"Circle\"},{\"attributes\":{\"active_drag\":\"auto\",\"active_inspect\":\"auto\",\"active_multi\":null,\"active_scroll\":\"auto\",\"active_tap\":\"auto\",\"tools\":[{\"id\":\"3895\",\"type\":\"HoverTool\"},{\"id\":\"3896\",\"type\":\"CrosshairTool\"},{\"id\":\"3897\",\"type\":\"BoxSelectTool\"},{\"id\":\"3898\",\"type\":\"BoxZoomTool\"},{\"id\":\"3899\",\"type\":\"WheelZoomTool\"},{\"id\":\"3900\",\"type\":\"ResetTool\"}]},\"id\":\"3901\",\"type\":\"Toolbar\"},{\"attributes\":{\"fill_alpha\":{\"value\":0.1},\"fill_color\":{\"value\":\"#1f77b4\"},\"line_alpha\":{\"value\":0.1},\"line_color\":{\"value\":\"#1f77b4\"},\"size\":{\"units\":\"screen\",\"value\":6},\"x\":{\"field\":\"x\"},\"y\":{\"field\":\"y\"}},\"id\":\"4062\",\"type\":\"Circle\"},{\"attributes\":{\"data_source\":{\"id\":\"3954\",\"type\":\"ColumnDataSource\"},\"glyph\":{\"id\":\"3957\",\"type\":\"Circle\"},\"hover_glyph\":null,\"muted_glyph\":{\"id\":\"3959\",\"type\":\"Circle\"},\"nonselection_glyph\":{\"id\":\"3958\",\"type\":\"Circle\"},\"selection_glyph\":null,\"view\":{\"id\":\"3955\",\"type\":\"CDSView\"}},\"id\":\"3960\",\"type\":\"GlyphRenderer\"},{\"attributes\":{\"data_source\":{\"id\":\"4058\",\"type\":\"ColumnDataSource\"},\"glyph\":{\"id\":\"4061\",\"type\":\"Circle\"},\"hover_glyph\":null,\"muted_glyph\":null,\"nonselection_glyph\":{\"id\":\"4062\",\"type\":\"Circle\"},\"selection_glyph\":null,\"view\":{\"id\":\"4059\",\"type\":\"CDSView\"}},\"id\":\"4063\",\"type\":\"GlyphRenderer\"},{\"attributes\":{\"data_source\":{\"id\":\"3908\",\"type\":\"ColumnDataSource\"},\"glyph\":{\"id\":\"3909\",\"type\":\"Line\"},\"hover_glyph\":null,\"muted_glyph\":null,\"nonselection_glyph\":{\"id\":\"3910\",\"type\":\"Line\"},\"selection_glyph\":null,\"view\":{\"id\":\"3912\",\"type\":\"CDSView\"}},\"id\":\"3911\",\"type\":\"GlyphRenderer\"},{\"attributes\":{\"line_color\":\"dodgerblue\",\"line_width\":1.5,\"x\":{\"field\":\"x\"},\"y\":{\"field\":\"y\"}},\"id\":\"3909\",\"type\":\"Line\"},{\"attributes\":{\"line_alpha\":0.1,\"line_color\":\"#1f77b4\",\"line_width\":1.5,\"x\":{\"field\":\"x\"},\"y\":{\"field\":\"y\"}},\"id\":\"3910\",\"type\":\"Line\"},{\"attributes\":{},\"id\":\"3970\",\"type\":\"UnionRenderers\"},{\"attributes\":{},\"id\":\"4084\",\"type\":\"Selection\"},{\"attributes\":{\"overlay\":{\"id\":\"3915\",\"type\":\"BoxAnnotation\"}},\"id\":\"3898\",\"type\":\"BoxZoomTool\"},{\"attributes\":{},\"id\":\"3971\",\"type\":\"Selection\"},{\"attributes\":{\"label\":{\"value\":\"Localities in Omega\"},\"renderers\":[{\"id\":\"3960\",\"type\":\"GlyphRenderer\"}]},\"id\":\"3972\",\"type\":\"LegendItem\"},{\"attributes\":{\"label\":{\"value\":\"Localities in Xi\"},\"renderers\":[{\"id\":\"4063\",\"type\":\"GlyphRenderer\"}]},\"id\":\"4085\",\"type\":\"LegendItem\"},{\"attributes\":{},\"id\":\"3900\",\"type\":\"ResetTool\"},{\"attributes\":{\"source\":{\"id\":\"3908\",\"type\":\"ColumnDataSource\"}},\"id\":\"3912\",\"type\":\"CDSView\"},{\"attributes\":{\"callback\":null,\"overlay\":{\"id\":\"3914\",\"type\":\"BoxAnnotation\"}},\"id\":\"3897\",\"type\":\"BoxSelectTool\"},{\"attributes\":{\"callback\":null,\"data\":{\"x\":{\"__ndarray__\":\"AAAAAAAAKUAAAAAAAAApQAAAAAAAgChAVVVVVVVVKEAAAAAAAAAoQFVVVVVVVS5AVVVVVVVVLkCrqqqqqqosQKuqqqqqqitAAAAAAAAAK0BVVVVVVVUqQAAAAAAAACpAAAAAAAAAKEAAAAAAAIAnQFVVVVVVVSdAq6qqqqqqJEAAAAAAAAAiQAAAAAAAgCBAAAAAAAAAG0AAAAAAAAAaQAAAAAAAABlAq6qqqqqqFkAAAAAAAAAVQKuqqqqqqhZAq6qqqqqqFkCrqqqqqqoWQAAAAAAAABZAVVVVVVVVFUAAAAAAAAAWQKuqqqqqqhRAAAAAAAAAFECrqqqqqqoWQKuqqqqqqhRAVVVVVVVVE0CrqqqqqqoTQFVVVVVVVRRAAAAAAAAAFEAAAAAAAAAEQAAAAAAAAAhAVVVVVVVVDUBVVVVVVVUQQFVVVVVVVRFAq6qqqqqqEkBVVVVVVVUUQFVVVVVVVRVAAAAAAAAAGEAAAAAAAAAYQAAAAAAAABdAq6qqqqqqGEAAAAAAAAAZQAAAAAAAABpAVVVVVVVVG0AAAAAAAAAdQAAAAAAAAB5AAAAAAAAAHkCrqqqqqqoeQAAAAAAAACBAAAAAAAAAIUCrqqqqqqohQAAAAAAAgCJAAAAAAACAI0AAAAAAAIAkQAAAAAAAgCVAq6qqqqqqJkAAAAAAAAAnQAAAAAAAgCdAAAAAAAAAKEAAAAAAAAArQAAAAAAAACxAAAAAAAAALUAAAAAAAAAuQKuqqqqqKi5Aq6qqqqqqL0AAAAAAAAAvQAAAAAAAADBAVVVVVVVVMEBVVVVVVdUwQAAAAAAAQDFAAAAAAACAMUBVVVVVVdUxQAAAAAAAgDJAAAAAAAAAMkAAAAAAAEAyQAAAAAAAgDJAAAAAAADAMkAAAAAAAAAzQAAAAAAAgDNAVVVVVVVVNEA=\",\"dtype\":\"float64\",\"shape\":[88]},\"y\":{\"__ndarray__\":\"AAAAAABAQ0BVVVVVVRVDQFVVVVVV9UJAAAAAAADAQkBVVVVVVbVCQKuqqqqq6kZAq6qqqqqKRkAAAAAAAIBGQKuqqqqqCkZAAAAAAAAgRkBVVVVVVVVGQAAAAAAAwEZAVVVVVVWVRkBVVVVVVbVGQAAAAAAA4EZAVVVVVVXVRkAAAAAAAOBGQKuqqqqq6kZAAAAAAACARkAAAAAAAMBGQAAAAAAAwEZAVVVVVVWVRkBVVVVVVZVGQAAAAAAAgEZAVVVVVVVVRkCrqqqqqipGQAAAAAAAAEZAq6qqqqrqRECrqqqqqqpEQKuqqqqqakRAVVVVVVVVRUAAAAAAAEBEQAAAAAAAIERAq6qqqqrqQ0CrqqqqqupDQFVVVVVVtUNAAAAAAACAQ0AAAAAAACBDQFVVVVVV9UJAAAAAAADgQkBVVVVVVdVCQAAAAAAAwEJAq6qqqqqqQkBVVVVVVZVCQAAAAAAAgEJAAAAAAABgQkCrqqqqqipCQKuqqqqqCkJAq6qqqqoKQkCrqqqqqgpCQFVVVVVVFUJAq6qqqqoKQkAAAAAAAEBCQFVVVVVVFUJAAAAAAAAgQkBVVVVVVVVCQFVVVVVVdUJAAAAAAACAQkBVVVVVVZVCQFVVVVVVlUJAAAAAAADgQkAAAAAAAKBCQFVVVVVVlUJAq6qqqqqKQkCrqqqqqmpCQFVVVVVVlUJAAAAAAACgQkAAAAAAAGBDQKuqqqqqakNAVVVVVVV1Q0AAAAAAAIBDQAAAAAAAwENAq6qqqqqqQ0AAAAAAAABEQAAAAAAAQERAVVVVVVVVREAAAAAAAGBEQAAAAAAAgERAAAAAAACgRECrqqqqqqpEQKuqqqqqqkRAAAAAAADgREAAAAAAAABFQFVVVVVVFUVAq6qqqqoqRUAAAAAAAEBFQAAAAAAAQEVAq6qqqqoqRUA=\",\"dtype\":\"float64\",\"shape\":[88]}},\"selected\":{\"id\":\"4011\",\"type\":\"Selection\"},\"selection_policy\":{\"id\":\"4010\",\"type\":\"UnionRenderers\"}},\"id\":\"3973\",\"type\":\"ColumnDataSource\"},{\"attributes\":{\"line_color\":\"red\",\"line_dash\":[6,4,2,4],\"line_width\":1.5,\"x\":{\"field\":\"x\"},\"y\":{\"field\":\"y\"}},\"id\":\"3974\",\"type\":\"Line\"}],\"root_ids\":[\"3875\"]},\"title\":\"Bokeh Application\",\"version\":\"1.3.4\"}};\n",
       "  var render_items = [{\"docid\":\"85d4c069-2145-463c-abd2-56443a249cde\",\"roots\":{\"3875\":\"57964c55-21ca-4e86-b596-9a0341e1037f\"}}];\n",
       "  root.Bokeh.embed.embed_items_notebook(docs_json, render_items);\n",
       "\n",
       "  }\n",
       "  if (root.Bokeh !== undefined) {\n",
       "    embed_document(root);\n",
       "  } else {\n",
       "    var attempts = 0;\n",
       "    var timer = setInterval(function(root) {\n",
       "      if (root.Bokeh !== undefined) {\n",
       "        embed_document(root);\n",
       "        clearInterval(timer);\n",
       "      }\n",
       "      attempts++;\n",
       "      if (attempts > 100) {\n",
       "        console.log(\"Bokeh: ERROR: Unable to run BokehJS code because BokehJS library is missing\");\n",
       "        clearInterval(timer);\n",
       "      }\n",
       "    }, 10, root)\n",
       "  }\n",
       "})(window);"
      ],
      "application/vnd.bokehjs_exec.v0+json": ""
     },
     "metadata": {
      "application/vnd.bokehjs_exec.v0+json": {
       "id": "3875"
      }
     },
     "output_type": "display_data"
    }
   ],
   "source": [
    "fig.plot_recension_all(ob_dict,xb_dict,df_dict)"
   ]
  },
  {
   "cell_type": "code",
   "execution_count": 43,
   "metadata": {},
   "outputs": [
    {
     "data": {
      "text/html": [
       "\n",
       "\n",
       "\n",
       "\n",
       "\n",
       "\n",
       "  <div class=\"bk-root\" id=\"c411d242-2ae7-495b-a304-eff996f131b9\" data-root-id=\"4403\"></div>\n"
      ]
     },
     "metadata": {},
     "output_type": "display_data"
    },
    {
     "data": {
      "application/javascript": [
       "(function(root) {\n",
       "  function embed_document(root) {\n",
       "    \n",
       "  var docs_json = {\"9a37a704-dd66-4ad9-94a4-2d2876dcb7fe\":{\"roots\":{\"references\":[{\"attributes\":{\"below\":[{\"id\":\"4414\",\"type\":\"LinearAxis\"}],\"center\":[{\"id\":\"4418\",\"type\":\"Grid\"},{\"id\":\"4423\",\"type\":\"Grid\"},{\"id\":\"4448\",\"type\":\"Legend\"}],\"left\":[{\"id\":\"4419\",\"type\":\"LinearAxis\"}],\"plot_height\":800,\"plot_width\":1000,\"renderers\":[{\"id\":\"4440\",\"type\":\"GlyphRenderer\"},{\"id\":\"4453\",\"type\":\"GlyphRenderer\"},{\"id\":\"4468\",\"type\":\"GlyphRenderer\"},{\"id\":\"4484\",\"type\":\"GlyphRenderer\"},{\"id\":\"4502\",\"type\":\"GlyphRenderer\"},{\"id\":\"4525\",\"type\":\"GlyphRenderer\"},{\"id\":\"4547\",\"type\":\"GlyphRenderer\"},{\"id\":\"4572\",\"type\":\"GlyphRenderer\"},{\"id\":\"4598\",\"type\":\"GlyphRenderer\"},{\"id\":\"4626\",\"type\":\"GlyphRenderer\"},{\"id\":\"4656\",\"type\":\"GlyphRenderer\"},{\"id\":\"4689\",\"type\":\"GlyphRenderer\"}],\"title\":{\"id\":\"4404\",\"type\":\"Title\"},\"toolbar\":{\"id\":\"4429\",\"type\":\"Toolbar\"},\"x_range\":{\"id\":\"4406\",\"type\":\"Range1d\"},\"x_scale\":{\"id\":\"4410\",\"type\":\"LinearScale\"},\"y_range\":{\"id\":\"4408\",\"type\":\"Range1d\"},\"y_scale\":{\"id\":\"4412\",\"type\":\"LinearScale\"}},\"id\":\"4403\",\"subtype\":\"Figure\",\"type\":\"Plot\"},{\"attributes\":{\"data_source\":{\"id\":\"4653\",\"type\":\"ColumnDataSource\"},\"glyph\":{\"id\":\"4654\",\"type\":\"Circle\"},\"hover_glyph\":null,\"muted_glyph\":null,\"nonselection_glyph\":{\"id\":\"4655\",\"type\":\"Circle\"},\"selection_glyph\":null,\"view\":{\"id\":\"4657\",\"type\":\"CDSView\"}},\"id\":\"4656\",\"type\":\"GlyphRenderer\"},{\"attributes\":{\"source\":{\"id\":\"4653\",\"type\":\"ColumnDataSource\"}},\"id\":\"4657\",\"type\":\"CDSView\"},{\"attributes\":{\"callback\":null,\"data\":{\"x\":[\"NaN\",\"NaN\",\"NaN\",\"NaN\",4.083333333333333,4.333333333333333,6.333333333333333,9.0,12.0,14.0,\"NaN\",\"NaN\",\"NaN\",\"NaN\",\"NaN\",4.666666666666667,5.083333333333333,5.333333333333333,12.0,6.0,\"NaN\",6.0,5.75,6.166666666666667,6.25,\"NaN\",6.5,6.833333333333333,7.25,7.5,7.5,\"NaN\",7.666666666666667,8.0,8.5,8.833333333333334,9.25,9.75,10.25,10.75,11.333333333333334,11.5,\"NaN\",11.75,\"NaN\",\"NaN\",9.166666666666666,9.5,9.0,9.75,9.25,10.0,9.333333333333334,8.75,10.166666666666666,8.75,8.666666666666666,8.25,8.75,8.0,7.5,7.0,6.75,6.5,9.5,9.083333333333334,9.5,9.833333333333334,9.666666666666666,10.166666666666666,10.25,10.833333333333334,10.25,11.166666666666666,\"NaN\",\"NaN\",4.666666666666667,4.666666666666667,5.0,5.166666666666667,5.666666666666667,6.0,5.5,5.166666666666667,5.666666666666667,5.666666666666667,5.5,6.0,6.083333333333333,6.5,7.0,6.333333333333333,7.0,6.5,6.083333333333333,7.0,6.5,6.5,7.666666666666667,7.166666666666667,8.0,7.0,7.333333333333333,7.666666666666667,7.25,8.0,7.666666666666667,7.166666666666667,7.5,7.25,8.5,8.666666666666666,8.583333333333334,8.25,8.166666666666666,\"NaN\",5.833333333333333,6.5,6.0,6.5,6.25,\"NaN\",6.0,7.333333333333333,5.166666666666667,\"NaN\",\"NaN\",5.333333333333333,9.333333333333334,12.666666666666666,\"NaN\",\"NaN\",\"NaN\",\"NaN\",3.6666666666666665,3.0,2.5,5.0,5.083333333333333,4.916666666666667,\"NaN\",4.833333333333333,5.166666666666667,5.666666666666667,9.0,11.666666666666666,5.0,5.166666666666667,5.5,5.333333333333333,\"NaN\",\"NaN\",5.333333333333333,5.25,\"NaN\",5.75,5.333333333333333,6.0,5.333333333333333,5.666666666666667,6.166666666666667,5.666666666666667,6.166666666666667,6.5,\"NaN\",\"NaN\",5.833333333333333,5.666666666666667,6.0,7.5,6.666666666666667,7.25,6.666666666666667,7.666666666666667,5.5,5.666666666666667,6.0,6.333333333333333,6.666666666666667,7.166666666666667,7.666666666666667,6.833333333333333,6.666666666666667,8.0,7.333333333333333,7.833333333333333,7.666666666666667,7.0,7.0,7.833333333333333,7.333333333333333,8.0,7.333333333333333,7.666666666666667,8.5,\"NaN\",8.5,8.0,8.833333333333334,8.0,8.833333333333334,8.166666666666666,8.833333333333334,8.333333333333334,8.666666666666666,8.833333333333334,8.5,\"NaN\",3.0,\"NaN\",\"NaN\",\"NaN\",5.5,5.5,5.666666666666667,5.5,5.333333333333333,11.5,\"NaN\",5.5,5.666666666666667,\"NaN\",5.666666666666667,5.666666666666667,5.25,\"NaN\",\"NaN\",5.666666666666667,6.25,6.5,\"NaN\",6.75,8.25,9.0,10.333333333333334,11.666666666666666,\"NaN\",11.75,12.0,\"NaN\",13.0,\"NaN\",13.166666666666666,13.5,\"NaN\",13.833333333333334,\"NaN\",14.333333333333334,\"NaN\",15.166666666666666,15.166666666666666,\"NaN\",20.333333333333332,17.0,\"NaN\",\"NaN\",12.0,\"NaN\",12.0,\"NaN\",12.166666666666666,12.25,12.5,12.5,12.5,13.0,13.5,14.0,\"NaN\",14.5,15.0,15.083333333333334,\"NaN\",15.833333333333334,15.5,16.0,14.0,12.5,\"NaN\",16.333333333333332,16.833333333333332,\"NaN\",17.25,17.5,17.833333333333332,18.5,18.0,18.25,\"NaN\",18.5,18.75,19.0,19.5,20.333333333333332,\"NaN\",9.0,11.5,14.666666666666666,16.0,14.0,14.333333333333334,12.0,14.0,\"NaN\",5.75,6.166666666666667,\"NaN\",8.25,8.5,9.333333333333334,10.166666666666666,10.166666666666666,7.0,6.333333333333333,7.0,8.333333333333334,8.833333333333334,\"NaN\",6.416666666666667,7.416666666666667,\"NaN\",6.333333333333333,\"NaN\",7.166666666666667,\"NaN\",7.833333333333333,\"NaN\",8.5,8.5,\"NaN\",11.0,11.5,11.0,9.333333333333334,0.0,13.5,11.166666666666666,8.5,0.0,9.0,\"NaN\",10.0,\"NaN\",10.666666666666666,\"NaN\",11.166666666666666,\"NaN\",11.583333333333334,\"NaN\",10.333333333333334,\"NaN\",9.5,\"NaN\",9.5,\"NaN\",7.5,\"NaN\",8.0,\"NaN\",6.333333333333333,6.833333333333333,7.666666666666667,8.333333333333334,8.5,6.0,\"NaN\",6.5,\"NaN\",6.0,\"NaN\",6.0,\"NaN\",7.333333333333333,\"NaN\",6.833333333333333,\"NaN\",8.333333333333334,\"NaN\",7.125,\"NaN\",7.333333333333333,\"NaN\",8.166666666666666,\"NaN\",8.0,\"NaN\",9.75,10.25,11.0,9.666666666666666,10.0,10.666666666666666,13.0,9.166666666666666,9.666666666666666,9.083333333333334,9.333333333333334,9.833333333333334,10.333333333333334,9.0,9.666666666666666,10.0,9.666666666666666,10.166666666666666,9.0,9.666666666666666,\"NaN\",\"NaN\",12.166666666666666,12.666666666666666,12.0,11.833333333333334,12.5,11.666666666666666,12.166666666666666,11.75,\"NaN\",12.0,11.5,11.833333333333334,11.166666666666666,12.0,\"NaN\",13.0,13.0,12.5,13.0,13.25,12.666666666666666,13.0,\"NaN\",\"NaN\",11.166666666666666,11.5,12.166666666666666,\"NaN\",\"NaN\",13.0,13.0,13.5,\"NaN\",\"NaN\",11.0,11.0,11.5,11.833333333333334,12.5,11.833333333333334,12.666666666666666,12.5,13.5,13.25,\"NaN\",\"NaN\",9.666666666666666,10.5,11.0,11.166666666666666,12.0,13.0,11.666666666666666,10.0,10.833333333333334,11.333333333333334,9.416666666666666,10.75,10.333333333333334,11.0,10.5,9.833333333333334,10.5,10.833333333333334,\"NaN\",13.666666666666666,13.166666666666666,14.0,14.75,13.416666666666666,12.166666666666666,13.0,13.5,12.5,13.166666666666666,13.833333333333334,12.75,13.333333333333334,12.5,11.5,12.0,12.333333333333334,11.666666666666666,\"NaN\",9.333333333333334,10.0,9.166666666666666,10.0,9.5,10.666666666666666,11.416666666666666,9.5,9.75,10.416666666666666,11.0,10.0,10.666666666666666,10.333333333333334,\"NaN\",\"NaN\",13.5,\"NaN\",\"NaN\",13.333333333333334,13.0,13.5,12.0,12.5,11.666666666666666,12.0,11.333333333333334,11.0,11.5,10.833333333333334,11.166666666666666,11.5,11.166666666666666,11.75,\"NaN\",\"NaN\",13.75,14.0,13.166666666666666,13.666666666666666,12.333333333333334,12.333333333333334,\"NaN\",\"NaN\",14.5,14.166666666666666,14.666666666666666,14.166666666666666,14.666666666666666,14.166666666666666,14.666666666666666,14.25,14.333333333333334,14.833333333333334,14.416666666666666,14.583333333333334,\"NaN\",\"NaN\",16.333333333333332,14.916666666666666,15.25,15.666666666666666,15.5,15.083333333333334,15.25,\"NaN\",\"NaN\",\"NaN\",13.666666666666666,13.666666666666666,13.916666666666666,\"NaN\",\"NaN\",14.0,14.5,13.833333333333334,14.583333333333334,14.5,13.666666666666666,14.0,\"NaN\",\"NaN\",15.416666666666666,15.0,15.5,15.5,15.583333333333334,14.833333333333334,15.5,15.0,14.666666666666666,15.0,14.5,14.75,14.333333333333334,14.666666666666666,14.666666666666666,\"NaN\",\"NaN\",16.5,16.0,15.5,15.75,15.166666666666666,16.0,15.166666666666666,15.5,15.0,15.416666666666666,\"NaN\",17.333333333333332,\"NaN\",13.666666666666666,16.166666666666668,17.0,17.916666666666668,\"NaN\",17.916666666666668,17.916666666666668,17.166666666666668,17.5,\"NaN\",\"NaN\",16.333333333333332,16.5,16.0,16.666666666666668,16.0,15.666666666666666,16.75,15.5,16.333333333333332,15.833333333333334,\"NaN\",17.833333333333332,18.166666666666668,\"NaN\",17.333333333333332,\"NaN\",9.0,\"NaN\",4.0,4.666666666666667,\"NaN\",14.833333333333334,14.0,\"NaN\",\"NaN\",16.166666666666668,16.75,\"NaN\",17.166666666666668,17.5],\"y\":[\"NaN\",\"NaN\",\"NaN\",\"NaN\",37.666666666666664,37.5,39.0,39.0,37.25,40.0,\"NaN\",\"NaN\",\"NaN\",\"NaN\",\"NaN\",37.333333333333336,37.166666666666664,37.0,38.5,36.75,\"NaN\",36.333333333333336,36.083333333333336,36.083333333333336,36.083333333333336,\"NaN\",36.166666666666664,36.083333333333336,36.5,36.166666666666664,36.25,\"NaN\",36.666666666666664,36.916666666666664,37.0,37.166666666666664,37.166666666666664,37.75,37.25,37.166666666666664,37.083333333333336,36.833333333333336,\"NaN\",37.166666666666664,\"NaN\",\"NaN\",38.833333333333336,38.666666666666664,38.5,38.166666666666664,38.333333333333336,38.25,38.333333333333336,38.0,38.0,37.75,37.666666666666664,37.333333333333336,37.333333333333336,37.166666666666664,37.0,36.666666666666664,36.5,36.333333333333336,38.0,37.75,37.5,37.5,37.666666666666664,37.75,37.5,37.5,37.333333333333336,37.333333333333336,\"NaN\",\"NaN\",38.0,37.75,37.25,38.25,38.333333333333336,38.0,37.75,37.5,37.5,37.333333333333336,37.166666666666664,37.0,38.333333333333336,38.083333333333336,38.0,37.833333333333336,37.666666666666664,37.5,37.25,37.333333333333336,37.083333333333336,37.833333333333336,38.916666666666664,38.916666666666664,38.666666666666664,38.416666666666664,38.333333333333336,37.166666666666664,37.833333333333336,37.833333333333336,37.5,37.5,37.083333333333336,37.083333333333336,38.833333333333336,38.916666666666664,38.083333333333336,38.333333333333336,38.0,\"NaN\",38.833333333333336,38.833333333333336,38.666666666666664,38.416666666666664,38.416666666666664,\"NaN\",37.666666666666664,37.5,36.666666666666664,\"NaN\",\"NaN\",41.833333333333336,41.833333333333336,41.666666666666664,\"NaN\",\"NaN\",\"NaN\",\"NaN\",37.75,37.916666666666664,38.25,39.0,39.416666666666664,39.833333333333336,\"NaN\",39.833333333333336,40.25,40.5,40.5,40.75,42.666666666666664,40.833333333333336,41.333333333333336,41.833333333333336,\"NaN\",\"NaN\",39.0,38.75,\"NaN\",40.25,40.0,40.0,39.75,39.583333333333336,39.666666666666664,39.333333333333336,39.333333333333336,39.083333333333336,\"NaN\",\"NaN\",41.75,41.5,41.333333333333336,40.833333333333336,41.5,41.083333333333336,41.083333333333336,41.0,40.833333333333336,40.5,40.916666666666664,40.75,40.5,40.75,40.5,40.25,40.0,40.25,40.0,39.75,39.5,39.333333333333336,39.083333333333336,39.916666666666664,39.666666666666664,39.5,39.25,39.083333333333336,39.5,\"NaN\",41.666666666666664,41.5,41.833333333333336,41.25,40.75,41.0,41.0,40.75,40.666666666666664,40.416666666666664,40.083333333333336,\"NaN\",41.0,\"NaN\",\"NaN\",\"NaN\",42.25,42.5,42.75,43.25,43.666666666666664,44.25,\"NaN\",44.0,44.333333333333336,\"NaN\",44.666666666666664,45.0,45.166666666666664,\"NaN\",\"NaN\",45.166666666666664,45.5,45.5,\"NaN\",45.0,45.833333333333336,45.75,45.666666666666664,45.75,\"NaN\",45.416666666666664,45.166666666666664,\"NaN\",45.5,\"NaN\",44.666666666666664,44.25,\"NaN\",44.083333333333336,\"NaN\",45.0,\"NaN\",45.083333333333336,45.833333333333336,\"NaN\",42.333333333333336,43.0,\"NaN\",\"NaN\",37.25,\"NaN\",37.416666666666664,\"NaN\",37.5,37.916666666666664,38.166666666666664,38.5,38.583333333333336,38.75,38.75,38.833333333333336,\"NaN\",38.916666666666664,39.0,39.5,\"NaN\",39.333333333333336,40.0,40.5,42.0,44.0,\"NaN\",40.666666666666664,40.75,\"NaN\",41.0,41.25,41.333333333333336,41.333333333333336,41.75,42.0,\"NaN\",42.166666666666664,42.333333333333336,42.5,42.5,42.333333333333336,\"NaN\",45.0,44.5,42.5,43.0,41.5,39.0,37.666666666666664,39.666666666666664,\"NaN\",45.166666666666664,44.75,\"NaN\",45.083333333333336,45.333333333333336,45.333333333333336,45.333333333333336,45.083333333333336,44.75,43.75,43.666666666666664,44.416666666666664,44.583333333333336,\"NaN\",44.5,44.416666666666664,\"NaN\",44.333333333333336,\"NaN\",44.0,\"NaN\",44.75,\"NaN\",44.5,45.083333333333336,\"NaN\",45.0,44.5,44.583333333333336,44.75,0.0,43.75,43.75,44.166666666666664,0.0,44.5,\"NaN\",44.583333333333336,\"NaN\",44.416666666666664,\"NaN\",44.25,\"NaN\",44.833333333333336,\"NaN\",43.75,\"NaN\",43.666666666666664,\"NaN\",44.0,\"NaN\",43.75,\"NaN\",43.75,\"NaN\",43.416666666666664,43.5,43.416666666666664,43.416666666666664,43.083333333333336,41.916666666666664,\"NaN\",43.083333333333336,\"NaN\",42.583333333333336,\"NaN\",42.5,\"NaN\",43.333333333333336,\"NaN\",42.75,\"NaN\",42.75,\"NaN\",42.666666666666664,\"NaN\",42.333333333333336,\"NaN\",42.166666666666664,\"NaN\",42.0,\"NaN\",43.416666666666664,43.416666666666664,43.5,43.333333333333336,43.25,43.333333333333336,40.333333333333336,40.333333333333336,42.916666666666664,42.666666666666664,42.583333333333336,42.666666666666664,42.5,42.333333333333336,42.416666666666664,42.333333333333336,42.166666666666664,42.0,41.916666666666664,41.916666666666664,\"NaN\",\"NaN\",44.916666666666664,44.833333333333336,44.5,44.416666666666664,44.25,44.083333333333336,44.0,43.833333333333336,\"NaN\",43.666666666666664,43.5,43.416666666666664,43.083333333333336,43.166666666666664,\"NaN\",44.25,43.916666666666664,43.5,43.666666666666664,43.5,43.25,43.083333333333336,\"NaN\",\"NaN\",42.833333333333336,42.666666666666664,42.666666666666664,\"NaN\",\"NaN\",42.833333333333336,42.666666666666664,42.75,\"NaN\",\"NaN\",42.583333333333336,42.0,42.416666666666664,42.416666666666664,42.416666666666664,41.916666666666664,42.166666666666664,41.833333333333336,42.416666666666664,42.166666666666664,\"NaN\",\"NaN\",41.666666666666664,41.666666666666664,41.583333333333336,41.5,41.583333333333336,41.333333333333336,41.25,41.0,41.083333333333336,40.833333333333336,40.833333333333336,40.75,40.583333333333336,40.5,40.416666666666664,44.25,40.25,39.916666666666664,\"NaN\",41.916666666666664,41.333333333333336,41.75,41.5,41.416666666666664,41.0,41.0,41.083333333333336,40.75,40.833333333333336,40.5,40.583333333333336,40.5,40.416666666666664,40.25,40.333333333333336,40.166666666666664,39.75,\"NaN\",40.0,39.916666666666664,39.666666666666664,39.666666666666664,39.166666666666664,39.416666666666664,39.5,39.0,39.166666666666664,39.0,39.083333333333336,38.75,38.5,38.5,\"NaN\",\"NaN\",40.333333333333336,\"NaN\",\"NaN\",39.833333333333336,39.666666666666664,39.75,39.5,39.416666666666664,39.25,39.166666666666664,39.916666666666664,39.583333333333336,38.666666666666664,38.333333333333336,38.333333333333336,38.083333333333336,37.583333333333336,37.583333333333336,\"NaN\",\"NaN\",39.25,39.0,39.0,37.916666666666664,38.833333333333336,38.25,\"NaN\",\"NaN\",41.5,41.25,41.0,40.75,40.666666666666664,40.5,40.25,40.166666666666664,39.75,39.666666666666664,39.416666666666664,39.333333333333336,\"NaN\",\"NaN\",40.666666666666664,41.166666666666664,40.666666666666664,40.5,40.416666666666664,44.0,40.0,\"NaN\",\"NaN\",\"NaN\",44.0,43.75,43.333333333333336,\"NaN\",\"NaN\",43.833333333333336,43.75,43.5,43.5,43.25,43.166666666666664,42.833333333333336,\"NaN\",\"NaN\",43.916666666666664,43.75,43.75,43.5,43.416666666666664,43.25,43.25,41.0,42.916666666666664,42.75,42.416666666666664,42.5,42.416666666666664,42.25,41.916666666666664,\"NaN\",\"NaN\",43.0,42.75,42.5,42.833333333333336,42.166666666666664,42.166666666666664,41.916666666666664,41.666666666666664,41.5,41.416666666666664,\"NaN\",42.75,\"NaN\",42.166666666666664,42.5,42.25,42.25,\"NaN\",42.166666666666664,42.083333333333336,41.75,41.833333333333336,\"NaN\",\"NaN\",42.0,41.75,41.666666666666664,41.583333333333336,41.166666666666664,41.333333333333336,41.416666666666664,41.0,41.0,40.833333333333336,\"NaN\",42.583333333333336,42.333333333333336,\"NaN\",41.416666666666664,\"NaN\",46.75,\"NaN\",45.5,43.333333333333336,\"NaN\",38.333333333333336,38.083333333333336,\"NaN\",\"NaN\",39.25,39.25,\"NaN\",39.5,39.5]},\"selected\":{\"id\":\"4463\",\"type\":\"Selection\"},\"selection_policy\":{\"id\":\"4462\",\"type\":\"UnionRenderers\"}},\"id\":\"4435\",\"type\":\"ColumnDataSource\"},{\"attributes\":{},\"id\":\"4683\",\"type\":\"UnionRenderers\"},{\"attributes\":{\"data_source\":{\"id\":\"4450\",\"type\":\"ColumnDataSource\"},\"glyph\":{\"id\":\"4451\",\"type\":\"Line\"},\"hover_glyph\":null,\"muted_glyph\":null,\"nonselection_glyph\":{\"id\":\"4452\",\"type\":\"Line\"},\"selection_glyph\":null,\"view\":{\"id\":\"4454\",\"type\":\"CDSView\"}},\"id\":\"4453\",\"type\":\"GlyphRenderer\"},{\"attributes\":{},\"id\":\"4684\",\"type\":\"Selection\"},{\"attributes\":{\"label\":{\"value\":\"Same Localities in Xi and Omega\"},\"renderers\":[{\"id\":\"4656\",\"type\":\"GlyphRenderer\"}]},\"id\":\"4685\",\"type\":\"LegendItem\"},{\"attributes\":{},\"id\":\"4462\",\"type\":\"UnionRenderers\"},{\"attributes\":{\"line_alpha\":0.1,\"line_color\":\"#1f77b4\",\"line_width\":2,\"x\":{\"field\":\"x\"},\"y\":{\"field\":\"y\"}},\"id\":\"4452\",\"type\":\"Line\"},{\"attributes\":{\"callback\":null,\"data\":{\"x0\":{\"__ndarray__\":\"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\",\"dtype\":\"float64\",\"shape\":[503]},\"x1\":{\"__ndarray__\":\"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\",\"dtype\":\"float64\",\"shape\":[503]},\"y0\":{\"__ndarray__\":\"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\",\"dtype\":\"float64\",\"shape\":[503]},\"y1\":{\"__ndarray__\":\"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\",\"dtype\":\"float64\",\"shape\":[503]}},\"selected\":{\"id\":\"4900\",\"type\":\"Selection\"},\"selection_policy\":{\"id\":\"4899\",\"type\":\"UnionRenderers\"}},\"id\":\"4686\",\"type\":\"ColumnDataSource\"},{\"attributes\":{\"line_color\":{\"value\":\"grey\"},\"x0\":{\"field\":\"x0\"},\"x1\":{\"field\":\"x1\"},\"y0\":{\"field\":\"y0\"},\"y1\":{\"field\":\"y1\"}},\"id\":\"4687\",\"type\":\"Segment\"},{\"attributes\":{\"source\":{\"id\":\"4450\",\"type\":\"ColumnDataSource\"}},\"id\":\"4454\",\"type\":\"CDSView\"},{\"attributes\":{\"line_alpha\":{\"value\":0.1},\"line_color\":{\"value\":\"#1f77b4\"},\"x0\":{\"field\":\"x0\"},\"x1\":{\"field\":\"x1\"},\"y0\":{\"field\":\"y0\"},\"y1\":{\"field\":\"y1\"}},\"id\":\"4688\",\"type\":\"Segment\"},{\"attributes\":{},\"id\":\"4463\",\"type\":\"Selection\"},{\"attributes\":{\"data_source\":{\"id\":\"4686\",\"type\":\"ColumnDataSource\"},\"glyph\":{\"id\":\"4687\",\"type\":\"Segment\"},\"hover_glyph\":null,\"muted_glyph\":null,\"nonselection_glyph\":{\"id\":\"4688\",\"type\":\"Segment\"},\"selection_glyph\":null,\"view\":{\"id\":\"4690\",\"type\":\"CDSView\"}},\"id\":\"4689\",\"type\":\"GlyphRenderer\"},{\"attributes\":{\"source\":{\"id\":\"4686\",\"type\":\"ColumnDataSource\"}},\"id\":\"4690\",\"type\":\"CDSView\"},{\"attributes\":{\"dimension\":1,\"ticker\":{\"id\":\"4420\",\"type\":\"BasicTicker\"}},\"id\":\"4423\",\"type\":\"Grid\"},{\"attributes\":{},\"id\":\"4897\",\"type\":\"UnionRenderers\"},{\"attributes\":{\"formatter\":{\"id\":\"4443\",\"type\":\"BasicTickFormatter\"},\"ticker\":{\"id\":\"4415\",\"type\":\"BasicTicker\"}},\"id\":\"4414\",\"type\":\"LinearAxis\"},{\"attributes\":{},\"id\":\"4898\",\"type\":\"Selection\"},{\"attributes\":{},\"id\":\"4899\",\"type\":\"UnionRenderers\"},{\"attributes\":{},\"id\":\"4900\",\"type\":\"Selection\"},{\"attributes\":{},\"id\":\"4412\",\"type\":\"LinearScale\"},{\"attributes\":{\"callback\":null,\"end\":47,\"start\":35.5},\"id\":\"4408\",\"type\":\"Range1d\"},{\"attributes\":{\"callback\":null,\"end\":22,\"start\":1.5},\"id\":\"4406\",\"type\":\"Range1d\"},{\"attributes\":{},\"id\":\"4410\",\"type\":\"LinearScale\"},{\"attributes\":{\"text\":\"Comparison between Xi (red) and Omega (blue)\"},\"id\":\"4404\",\"type\":\"Title\"},{\"attributes\":{},\"id\":\"4420\",\"type\":\"BasicTicker\"},{\"attributes\":{\"formatter\":{\"id\":\"4445\",\"type\":\"BasicTickFormatter\"},\"ticker\":{\"id\":\"4420\",\"type\":\"BasicTicker\"}},\"id\":\"4419\",\"type\":\"LinearAxis\"},{\"attributes\":{\"ticker\":{\"id\":\"4415\",\"type\":\"BasicTicker\"}},\"id\":\"4418\",\"type\":\"Grid\"},{\"attributes\":{},\"id\":\"4415\",\"type\":\"BasicTicker\"},{\"attributes\":{\"data_source\":{\"id\":\"4519\",\"type\":\"ColumnDataSource\"},\"glyph\":{\"id\":\"4522\",\"type\":\"Circle\"},\"hover_glyph\":null,\"muted_glyph\":{\"id\":\"4524\",\"type\":\"Circle\"},\"nonselection_glyph\":{\"id\":\"4523\",\"type\":\"Circle\"},\"selection_glyph\":null,\"view\":{\"id\":\"4520\",\"type\":\"CDSView\"}},\"id\":\"4525\",\"type\":\"GlyphRenderer\"},{\"attributes\":{},\"id\":\"4443\",\"type\":\"BasicTickFormatter\"},{\"attributes\":{},\"id\":\"4542\",\"type\":\"Selection\"},{\"attributes\":{},\"id\":\"4445\",\"type\":\"BasicTickFormatter\"},{\"attributes\":{},\"id\":\"4541\",\"type\":\"UnionRenderers\"},{\"attributes\":{\"bottom_units\":\"screen\",\"fill_alpha\":{\"value\":0.5},\"fill_color\":{\"value\":\"lightgrey\"},\"left_units\":\"screen\",\"level\":\"overlay\",\"line_alpha\":{\"value\":1.0},\"line_color\":{\"value\":\"black\"},\"line_dash\":[4,4],\"line_width\":{\"value\":2},\"render_mode\":\"css\",\"right_units\":\"screen\",\"top_units\":\"screen\"},\"id\":\"4446\",\"type\":\"BoxAnnotation\"},{\"attributes\":{\"label\":{\"value\":\"Localities in Omega\"},\"renderers\":[{\"id\":\"4525\",\"type\":\"GlyphRenderer\"}]},\"id\":\"4543\",\"type\":\"LegendItem\"},{\"attributes\":{\"callback\":null,\"data\":{\"x\":{\"__ndarray__\":\"VVVVVVVVEEBVVVVVVVUZQAAAAAAAACJAAAAAAAAAKEA=\",\"dtype\":\"float64\",\"shape\":[4]},\"y\":{\"__ndarray__\":\"VVVVVVXVQkAAAAAAAIBDQAAAAAAAgENAAAAAAACgQkA=\",\"dtype\":\"float64\",\"shape\":[4]}},\"selected\":{\"id\":\"4622\",\"type\":\"Selection\"},\"selection_policy\":{\"id\":\"4621\",\"type\":\"UnionRenderers\"}},\"id\":\"4569\",\"type\":\"ColumnDataSource\"},{\"attributes\":{\"bottom_units\":\"screen\",\"fill_alpha\":{\"value\":0.5},\"fill_color\":{\"value\":\"lightgrey\"},\"left_units\":\"screen\",\"level\":\"overlay\",\"line_alpha\":{\"value\":1.0},\"line_color\":{\"value\":\"black\"},\"line_dash\":[4,4],\"line_width\":{\"value\":2},\"render_mode\":\"css\",\"right_units\":\"screen\",\"top_units\":\"screen\"},\"id\":\"4447\",\"type\":\"BoxAnnotation\"},{\"attributes\":{\"click_policy\":\"hide\",\"items\":[{\"id\":\"4449\",\"type\":\"LegendItem\"},{\"id\":\"4464\",\"type\":\"LegendItem\"},{\"id\":\"4543\",\"type\":\"LegendItem\"},{\"id\":\"4568\",\"type\":\"LegendItem\"},{\"id\":\"4685\",\"type\":\"LegendItem\"}]},\"id\":\"4448\",\"type\":\"Legend\"},{\"attributes\":{\"line_color\":\"DodgerBlue\",\"line_width\":2,\"x\":{\"field\":\"x\"},\"y\":{\"field\":\"y\"}},\"id\":\"4545\",\"type\":\"Line\"},{\"attributes\":{\"label\":{\"value\":\"Localities in Xi\"},\"renderers\":[{\"id\":\"4440\",\"type\":\"GlyphRenderer\"}]},\"id\":\"4449\",\"type\":\"LegendItem\"},{\"attributes\":{\"callback\":null,\"data\":{\"x\":{\"__ndarray__\":\"AAAAAAAALkBVVVVVVVUuQKuqqqqqqixAAAAAAACAK0AAAAAAAAArQFVVVVVVVSpAAAAAAAAAKkAAAAAAAAAoQAAAAAAAgCdAq6qqqqqqJkCrqqqqqqokQAAAAAAAACJAAAAAAACAIEAAAAAAAAAdQAAAAAAAABpAAAAAAAAAGUCrqqqqqqoWQAAAAAAAABVAVVVVVVVVFUCrqqqqqqoWQKuqqqqqqhZAAAAAAAAAFkBVVVVVVVUVQAAAAAAAABZAq6qqqqqqFkCrqqqqqqoUQAAAAAAAABZAVVVVVVVVFUCrqqqqqqoUQKuqqqqqqhRAAAAAAAAAFEAAAAAAAAAWQKuqqqqqqhRAAAAAAAAAEUCrqqqqqqoRQFVVVVVVVRRAAAAAAAAAFEAAAAAAAAAEQAAAAAAAAAhAVVVVVVVVDUBVVVVVVVUQQFVVVVVVVRFAq6qqqqqqEkBVVVVVVVUUQFVVVVVVVRVAAAAAAAAAGEAAAAAAAAAYQAAAAAAAABhAAAAAAAAAF0CrqqqqqqoYQAAAAAAAABlAAAAAAAAAGkCrqqqqqqoaQAAAAAAAAB1AAAAAAAAAHkAAAAAAAAAeQKuqqqqqqh5AAAAAAAAAIEAAAAAAAAAhQKuqqqqqqiFAAAAAAACAIkAAAAAAAIAjQAAAAAAAgCRAq6qqqqqqJUAAAAAAAIAlQKuqqqqqqiZAAAAAAAAAJ0AAAAAAAIAnQAAAAAAAAChAAAAAAAAAKEBVVVVVVVUoQAAAAAAAgChAVVVVVVXVKUAAAAAAAAApQFVVVVVVVSlAAAAAAAAAKkAAAAAAAAArQAAAAAAAACxAVVVVVVVVLUAAAAAAAAAuQFVVVVVVVS9AVVVVVVXVL0AAAAAAAAAvQAAAAAAAADBAVVVVVVVVMEBVVVVVVdUwQAAAAAAAQDFAAAAAAACAMUBVVVVVVdUxQAAAAAAAgDJAAAAAAAAAMkAAAAAAAEAyQAAAAAAAgDJAAAAAAADAMkAAAAAAAAAzQAAAAAAAgDNAVVVVVVVVNEA=\",\"dtype\":\"float64\",\"shape\":[97]},\"y\":{\"__ndarray__\":\"q6qqqqrqRkCrqqqqqopGQAAAAAAAgEZAVVVVVVU1RkAAAAAAACBGQFVVVVVVVUZAVVVVVVXVRkAAAAAAAMBGQFVVVVVVtUZAAAAAAADgRkBVVVVVVdVGQAAAAAAA4EZAq6qqqqrqRkAAAAAAAIBGQAAAAAAAwEZAAAAAAADARkAAAAAAAMBGQFVVVVVVlUZAAAAAAACARkBVVVVVVVVGQKuqqqqqKkZAAAAAAAAARkBVVVVVVdVFQAAAAAAAoEVAAAAAAABgRUAAAAAAAEBFQAAAAAAAIEVAq6qqqqrqRECrqqqqqqpEQKuqqqqqakRAVVVVVVVVREBVVVVVVRVEQAAAAAAAIERAAAAAAADgQ0AAAAAAAMBDQFVVVVVVtUNAAAAAAACAQ0AAAAAAACBDQKuqqqqq6kJAAAAAAADgQkBVVVVVVdVCQAAAAAAAwEJAq6qqqqqqQkBVVVVVVZVCQAAAAAAAgEJAAAAAAABgQkCrqqqqqmpCQKuqqqqqKkJAAAAAAAAAQkBVVVVVVRVCQFVVVVVVVUJAAAAAAABAQkCrqqqqqipCQFVVVVVVFUJAVVVVVVUVQkAAAAAAACBCQFVVVVVVVUJAq6qqqqoKQkAAAAAAAIBCQAAAAAAAwEJAAAAAAACgQkAAAAAAAKBCQAAAAAAAoEJAq6qqqqqKQkBVVVVVVZVCQKuqqqqqikJAq6qqqqoqQkBVVVVVVZVCQAAAAAAAoEJAq6qqqqqqQkAAAAAAAMBCQFVVVVVV9UJAq6qqqqoKQ0AAAAAAAEBDQKuqqqqqSkNAAAAAAABgQ0AAAAAAAGBDQKuqqqqqKkNAVVVVVVV1Q0AAAAAAAIBDQAAAAAAAwENAVVVVVVXVQ0AAAAAAAABEQAAAAAAAQERAVVVVVVVVREAAAAAAAGBEQAAAAAAAgERAAAAAAACARECrqqqqqqpEQAAAAAAAwERAAAAAAADgREAAAAAAAABFQFVVVVVVFUVAq6qqqqoqRUAAAAAAAEBFQAAAAAAAQEVAq6qqqqoqRUA=\",\"dtype\":\"float64\",\"shape\":[97]}},\"selected\":{\"id\":\"4594\",\"type\":\"Selection\"},\"selection_policy\":{\"id\":\"4593\",\"type\":\"UnionRenderers\"}},\"id\":\"4544\",\"type\":\"ColumnDataSource\"},{\"attributes\":{\"callback\":null,\"data\":{\"x\":{\"__ndarray__\":\"AAAAAAAAKUAAAAAAAAApQAAAAAAAgChAVVVVVVVVKEAAAAAAAAAoQFVVVVVVVS5AVVVVVVVVLkCrqqqqqqosQKuqqqqqqitAAAAAAAAAK0BVVVVVVVUqQAAAAAAAACpAAAAAAAAAKEAAAAAAAIAnQFVVVVVVVSdAq6qqqqqqJEAAAAAAAAAiQAAAAAAAgCBAAAAAAAAAG0AAAAAAAAAaQAAAAAAAABlAq6qqqqqqFkAAAAAAAAAVQKuqqqqqqhZAq6qqqqqqFkCrqqqqqqoWQAAAAAAAABZAVVVVVVVVFUAAAAAAAAAWQKuqqqqqqhRAAAAAAAAAFECrqqqqqqoWQKuqqqqqqhRAVVVVVVVVE0CrqqqqqqoTQFVVVVVVVRRAAAAAAAAAFEAAAAAAAAAEQAAAAAAAAAhAVVVVVVVVDUBVVVVVVVUQQFVVVVVVVRFAq6qqqqqqEkBVVVVVVVUUQFVVVVVVVRVAAAAAAAAAGEAAAAAAAAAYQAAAAAAAABdAq6qqqqqqGEAAAAAAAAAZQAAAAAAAABpAVVVVVVVVG0AAAAAAAAAdQAAAAAAAAB5AAAAAAAAAHkCrqqqqqqoeQAAAAAAAACBAAAAAAAAAIUCrqqqqqqohQAAAAAAAgCJAAAAAAACAI0AAAAAAAIAkQAAAAAAAgCVAq6qqqqqqJkAAAAAAAAAnQAAAAAAAgCdAAAAAAAAAKEAAAAAAAAArQAAAAAAAACxAAAAAAAAALUAAAAAAAAAuQKuqqqqqKi5Aq6qqqqqqL0AAAAAAAAAvQAAAAAAAADBAVVVVVVVVMEBVVVVVVdUwQAAAAAAAQDFAAAAAAACAMUBVVVVVVdUxQAAAAAAAgDJAAAAAAAAAMkAAAAAAAEAyQAAAAAAAgDJAAAAAAADAMkAAAAAAAAAzQAAAAAAAgDNAVVVVVVVVNEA=\",\"dtype\":\"float64\",\"shape\":[88]},\"y\":{\"__ndarray__\":\"AAAAAABAQ0BVVVVVVRVDQFVVVVVV9UJAAAAAAADAQkBVVVVVVbVCQKuqqqqq6kZAq6qqqqqKRkAAAAAAAIBGQKuqqqqqCkZAAAAAAAAgRkBVVVVVVVVGQAAAAAAAwEZAVVVVVVWVRkBVVVVVVbVGQAAAAAAA4EZAVVVVVVXVRkAAAAAAAOBGQKuqqqqq6kZAAAAAAACARkAAAAAAAMBGQAAAAAAAwEZAVVVVVVWVRkBVVVVVVZVGQAAAAAAAgEZAVVVVVVVVRkCrqqqqqipGQAAAAAAAAEZAq6qqqqrqRECrqqqqqqpEQKuqqqqqakRAVVVVVVVVRUAAAAAAAEBEQAAAAAAAIERAq6qqqqrqQ0CrqqqqqupDQFVVVVVVtUNAAAAAAACAQ0AAAAAAACBDQFVVVVVV9UJAAAAAAADgQkBVVVVVVdVCQAAAAAAAwEJAq6qqqqqqQkBVVVVVVZVCQAAAAAAAgEJAAAAAAABgQkCrqqqqqipCQKuqqqqqCkJAq6qqqqoKQkCrqqqqqgpCQFVVVVVVFUJAq6qqqqoKQkAAAAAAAEBCQFVVVVVVFUJAAAAAAAAgQkBVVVVVVVVCQFVVVVVVdUJAAAAAAACAQkBVVVVVVZVCQFVVVVVVlUJAAAAAAADgQkAAAAAAAKBCQFVVVVVVlUJAq6qqqqqKQkCrqqqqqmpCQFVVVVVVlUJAAAAAAACgQkAAAAAAAGBDQKuqqqqqakNAVVVVVVV1Q0AAAAAAAIBDQAAAAAAAwENAq6qqqqqqQ0AAAAAAAABEQAAAAAAAQERAVVVVVVVVREAAAAAAAGBEQAAAAAAAgERAAAAAAACgRECrqqqqqqpEQKuqqqqqqkRAAAAAAADgREAAAAAAAABFQFVVVVVVFUVAq6qqqqoqRUAAAAAAAEBFQAAAAAAAQEVAq6qqqqoqRUA=\",\"dtype\":\"float64\",\"shape\":[88]}},\"selected\":{\"id\":\"4480\",\"type\":\"Selection\"},\"selection_policy\":{\"id\":\"4479\",\"type\":\"UnionRenderers\"}},\"id\":\"4450\",\"type\":\"ColumnDataSource\"},{\"attributes\":{\"label\":{\"value\":\"Boundary in Xi \"},\"renderers\":[{\"id\":\"4453\",\"type\":\"GlyphRenderer\"},{\"id\":\"4468\",\"type\":\"GlyphRenderer\"},{\"id\":\"4484\",\"type\":\"GlyphRenderer\"},{\"id\":\"4502\",\"type\":\"GlyphRenderer\"}]},\"id\":\"4464\",\"type\":\"LegendItem\"},{\"attributes\":{\"line_alpha\":0.1,\"line_color\":\"#1f77b4\",\"line_width\":2,\"x\":{\"field\":\"x\"},\"y\":{\"field\":\"y\"}},\"id\":\"4546\",\"type\":\"Line\"},{\"attributes\":{\"data_source\":{\"id\":\"4544\",\"type\":\"ColumnDataSource\"},\"glyph\":{\"id\":\"4545\",\"type\":\"Line\"},\"hover_glyph\":null,\"muted_glyph\":null,\"nonselection_glyph\":{\"id\":\"4546\",\"type\":\"Line\"},\"selection_glyph\":null,\"view\":{\"id\":\"4548\",\"type\":\"CDSView\"}},\"id\":\"4547\",\"type\":\"GlyphRenderer\"},{\"attributes\":{\"callback\":null,\"data\":{\"x\":{\"__ndarray__\":\"VVVVVVVVEEBVVVVVVVUZQAAAAAAAACJAAAAAAAAAKEA=\",\"dtype\":\"float64\",\"shape\":[4]},\"y\":{\"__ndarray__\":\"VVVVVVXVQkAAAAAAAIBDQAAAAAAAgENAAAAAAACgQkA=\",\"dtype\":\"float64\",\"shape\":[4]}},\"selected\":{\"id\":\"4498\",\"type\":\"Selection\"},\"selection_policy\":{\"id\":\"4497\",\"type\":\"UnionRenderers\"}},\"id\":\"4465\",\"type\":\"ColumnDataSource\"},{\"attributes\":{\"line_color\":\"Crimson\",\"line_width\":2,\"x\":{\"field\":\"x\"},\"y\":{\"field\":\"y\"}},\"id\":\"4466\",\"type\":\"Line\"},{\"attributes\":{\"source\":{\"id\":\"4544\",\"type\":\"ColumnDataSource\"}},\"id\":\"4548\",\"type\":\"CDSView\"},{\"attributes\":{\"line_alpha\":0.1,\"line_color\":\"#1f77b4\",\"line_width\":2,\"x\":{\"field\":\"x\"},\"y\":{\"field\":\"y\"}},\"id\":\"4467\",\"type\":\"Line\"},{\"attributes\":{},\"id\":\"4566\",\"type\":\"UnionRenderers\"},{\"attributes\":{\"data_source\":{\"id\":\"4465\",\"type\":\"ColumnDataSource\"},\"glyph\":{\"id\":\"4466\",\"type\":\"Line\"},\"hover_glyph\":null,\"muted_glyph\":null,\"nonselection_glyph\":{\"id\":\"4467\",\"type\":\"Line\"},\"selection_glyph\":null,\"view\":{\"id\":\"4469\",\"type\":\"CDSView\"}},\"id\":\"4468\",\"type\":\"GlyphRenderer\"},{\"attributes\":{},\"id\":\"4567\",\"type\":\"Selection\"},{\"attributes\":{\"label\":{\"value\":\"Boundary in Omega\"},\"renderers\":[{\"id\":\"4547\",\"type\":\"GlyphRenderer\"},{\"id\":\"4572\",\"type\":\"GlyphRenderer\"},{\"id\":\"4598\",\"type\":\"GlyphRenderer\"},{\"id\":\"4626\",\"type\":\"GlyphRenderer\"}]},\"id\":\"4568\",\"type\":\"LegendItem\"},{\"attributes\":{\"source\":{\"id\":\"4465\",\"type\":\"ColumnDataSource\"}},\"id\":\"4469\",\"type\":\"CDSView\"},{\"attributes\":{\"line_color\":\"DodgerBlue\",\"line_width\":2,\"x\":{\"field\":\"x\"},\"y\":{\"field\":\"y\"}},\"id\":\"4570\",\"type\":\"Line\"},{\"attributes\":{},\"id\":\"4479\",\"type\":\"UnionRenderers\"},{\"attributes\":{\"line_alpha\":0.1,\"line_color\":\"#1f77b4\",\"line_width\":2,\"x\":{\"field\":\"x\"},\"y\":{\"field\":\"y\"}},\"id\":\"4571\",\"type\":\"Line\"},{\"attributes\":{},\"id\":\"4480\",\"type\":\"Selection\"},{\"attributes\":{\"data_source\":{\"id\":\"4569\",\"type\":\"ColumnDataSource\"},\"glyph\":{\"id\":\"4570\",\"type\":\"Line\"},\"hover_glyph\":null,\"muted_glyph\":null,\"nonselection_glyph\":{\"id\":\"4571\",\"type\":\"Line\"},\"selection_glyph\":null,\"view\":{\"id\":\"4573\",\"type\":\"CDSView\"}},\"id\":\"4572\",\"type\":\"GlyphRenderer\"},{\"attributes\":{\"callback\":null,\"data\":{\"x\":{\"__ndarray__\":\"VVVVVVVVFUCrqqqqqqoiQAAAAAAAACJAAAAAAAAAIkA=\",\"dtype\":\"float64\",\"shape\":[4]},\"y\":{\"__ndarray__\":\"q6qqqqrqRECrqqqqqupEQAAAAAAAQERAAAAAAACAQ0A=\",\"dtype\":\"float64\",\"shape\":[4]}},\"selected\":{\"id\":\"4518\",\"type\":\"Selection\"},\"selection_policy\":{\"id\":\"4517\",\"type\":\"UnionRenderers\"}},\"id\":\"4481\",\"type\":\"ColumnDataSource\"},{\"attributes\":{\"callback\":null,\"data\":{\"x\":{\"__ndarray__\":\"VVVVVVVVFUBVVVVVVVUiQAAAAAAAACJAAAAAAAAAIkA=\",\"dtype\":\"float64\",\"shape\":[4]},\"y\":{\"__ndarray__\":\"q6qqqqrqRECrqqqqqqpEQFVVVVVVFURAAAAAAACAQ0A=\",\"dtype\":\"float64\",\"shape\":[4]}},\"selected\":{\"id\":\"4652\",\"type\":\"Selection\"},\"selection_policy\":{\"id\":\"4651\",\"type\":\"UnionRenderers\"}},\"id\":\"4595\",\"type\":\"ColumnDataSource\"},{\"attributes\":{\"line_color\":\"Crimson\",\"line_width\":2,\"x\":{\"field\":\"x\"},\"y\":{\"field\":\"y\"}},\"id\":\"4482\",\"type\":\"Line\"},{\"attributes\":{\"source\":{\"id\":\"4569\",\"type\":\"ColumnDataSource\"}},\"id\":\"4573\",\"type\":\"CDSView\"},{\"attributes\":{\"line_alpha\":0.1,\"line_color\":\"#1f77b4\",\"line_width\":2,\"x\":{\"field\":\"x\"},\"y\":{\"field\":\"y\"}},\"id\":\"4483\",\"type\":\"Line\"},{\"attributes\":{},\"id\":\"4594\",\"type\":\"Selection\"},{\"attributes\":{\"data_source\":{\"id\":\"4481\",\"type\":\"ColumnDataSource\"},\"glyph\":{\"id\":\"4482\",\"type\":\"Line\"},\"hover_glyph\":null,\"muted_glyph\":null,\"nonselection_glyph\":{\"id\":\"4483\",\"type\":\"Line\"},\"selection_glyph\":null,\"view\":{\"id\":\"4485\",\"type\":\"CDSView\"}},\"id\":\"4484\",\"type\":\"GlyphRenderer\"},{\"attributes\":{\"source\":{\"id\":\"4481\",\"type\":\"ColumnDataSource\"}},\"id\":\"4485\",\"type\":\"CDSView\"},{\"attributes\":{\"line_color\":\"DodgerBlue\",\"line_width\":2,\"x\":{\"field\":\"x\"},\"y\":{\"field\":\"y\"}},\"id\":\"4596\",\"type\":\"Line\"},{\"attributes\":{\"line_color\":\"Crimson\",\"line_width\":2,\"x\":{\"field\":\"x\"},\"y\":{\"field\":\"y\"}},\"id\":\"4451\",\"type\":\"Line\"},{\"attributes\":{\"line_alpha\":0.1,\"line_color\":\"#1f77b4\",\"line_width\":2,\"x\":{\"field\":\"x\"},\"y\":{\"field\":\"y\"}},\"id\":\"4625\",\"type\":\"Line\"},{\"attributes\":{\"fill_alpha\":{\"value\":0.1},\"fill_color\":{\"value\":\"#1f77b4\"},\"line_alpha\":{\"value\":0.1},\"line_color\":{\"value\":\"#1f77b4\"},\"size\":{\"units\":\"screen\",\"value\":5.5},\"x\":{\"field\":\"x\"},\"y\":{\"field\":\"y\"}},\"id\":\"4655\",\"type\":\"Circle\"},{\"attributes\":{\"active_drag\":\"auto\",\"active_inspect\":\"auto\",\"active_multi\":null,\"active_scroll\":\"auto\",\"active_tap\":\"auto\",\"tools\":[{\"id\":\"4424\",\"type\":\"HoverTool\"},{\"id\":\"4425\",\"type\":\"BoxSelectTool\"},{\"id\":\"4426\",\"type\":\"BoxZoomTool\"},{\"id\":\"4427\",\"type\":\"WheelZoomTool\"},{\"id\":\"4428\",\"type\":\"ResetTool\"}]},\"id\":\"4429\",\"type\":\"Toolbar\"},{\"attributes\":{},\"id\":\"4497\",\"type\":\"UnionRenderers\"},{\"attributes\":{\"fill_alpha\":{\"value\":0.7},\"fill_color\":{\"value\":\"red\"},\"line_alpha\":{\"value\":0},\"line_color\":{\"value\":\"Crimson\"},\"size\":{\"units\":\"screen\",\"value\":5},\"x\":{\"field\":\"x\"},\"y\":{\"field\":\"y\"}},\"id\":\"4438\",\"type\":\"Circle\"},{\"attributes\":{\"line_alpha\":0.1,\"line_color\":\"#1f77b4\",\"line_width\":2,\"x\":{\"field\":\"x\"},\"y\":{\"field\":\"y\"}},\"id\":\"4597\",\"type\":\"Line\"},{\"attributes\":{},\"id\":\"4498\",\"type\":\"Selection\"},{\"attributes\":{\"data_source\":{\"id\":\"4595\",\"type\":\"ColumnDataSource\"},\"glyph\":{\"id\":\"4596\",\"type\":\"Line\"},\"hover_glyph\":null,\"muted_glyph\":null,\"nonselection_glyph\":{\"id\":\"4597\",\"type\":\"Line\"},\"selection_glyph\":null,\"view\":{\"id\":\"4599\",\"type\":\"CDSView\"}},\"id\":\"4598\",\"type\":\"GlyphRenderer\"},{\"attributes\":{},\"id\":\"4427\",\"type\":\"WheelZoomTool\"},{\"attributes\":{\"callback\":null,\"data\":{\"x\":{\"__ndarray__\":\"L90kBoFVLkAAAAAAAAAxQAAAAAAAADNAaJHtfD9VNEA=\",\"dtype\":\"float64\",\"shape\":[4]},\"y\":{\"__ndarray__\":\"tMh2vp/qRkAAAAAAAIBFQEw3iUFglUVAtMh2vp8qRUA=\",\"dtype\":\"float64\",\"shape\":[4]}},\"selected\":{\"id\":\"4542\",\"type\":\"Selection\"},\"selection_policy\":{\"id\":\"4541\",\"type\":\"UnionRenderers\"}},\"id\":\"4499\",\"type\":\"ColumnDataSource\"},{\"attributes\":{},\"id\":\"4428\",\"type\":\"ResetTool\"},{\"attributes\":{\"source\":{\"id\":\"4595\",\"type\":\"ColumnDataSource\"}},\"id\":\"4599\",\"type\":\"CDSView\"},{\"attributes\":{\"line_color\":\"Crimson\",\"line_width\":2,\"x\":{\"field\":\"x\"},\"y\":{\"field\":\"y\"}},\"id\":\"4500\",\"type\":\"Line\"},{\"attributes\":{},\"id\":\"4621\",\"type\":\"UnionRenderers\"},{\"attributes\":{\"line_alpha\":0.1,\"line_color\":\"#1f77b4\",\"line_width\":2,\"x\":{\"field\":\"x\"},\"y\":{\"field\":\"y\"}},\"id\":\"4501\",\"type\":\"Line\"},{\"attributes\":{},\"id\":\"4622\",\"type\":\"Selection\"},{\"attributes\":{\"data_source\":{\"id\":\"4499\",\"type\":\"ColumnDataSource\"},\"glyph\":{\"id\":\"4500\",\"type\":\"Line\"},\"hover_glyph\":null,\"muted_glyph\":null,\"nonselection_glyph\":{\"id\":\"4501\",\"type\":\"Line\"},\"selection_glyph\":null,\"view\":{\"id\":\"4503\",\"type\":\"CDSView\"}},\"id\":\"4502\",\"type\":\"GlyphRenderer\"},{\"attributes\":{\"callback\":null,\"data\":{\"x\":{\"__ndarray__\":\"AAAAAAAALkAAAAAAAAAxQAAAAAAAADNAaJHtfD9VNEA=\",\"dtype\":\"float64\",\"shape\":[4]},\"y\":{\"__ndarray__\":\"tMh2vp/qRkAAAAAAAIBFQEw3iUFglUVAtMh2vp8qRUA=\",\"dtype\":\"float64\",\"shape\":[4]}},\"selected\":{\"id\":\"4684\",\"type\":\"Selection\"},\"selection_policy\":{\"id\":\"4683\",\"type\":\"UnionRenderers\"}},\"id\":\"4623\",\"type\":\"ColumnDataSource\"},{\"attributes\":{\"source\":{\"id\":\"4499\",\"type\":\"ColumnDataSource\"}},\"id\":\"4503\",\"type\":\"CDSView\"},{\"attributes\":{\"line_color\":\"DodgerBlue\",\"line_width\":2,\"x\":{\"field\":\"x\"},\"y\":{\"field\":\"y\"}},\"id\":\"4624\",\"type\":\"Line\"},{\"attributes\":{\"data_source\":{\"id\":\"4435\",\"type\":\"ColumnDataSource\"},\"glyph\":{\"id\":\"4438\",\"type\":\"Circle\"},\"hover_glyph\":null,\"muted_glyph\":null,\"nonselection_glyph\":{\"id\":\"4439\",\"type\":\"Circle\"},\"selection_glyph\":null,\"view\":{\"id\":\"4436\",\"type\":\"CDSView\"}},\"id\":\"4440\",\"type\":\"GlyphRenderer\"},{\"attributes\":{\"data_source\":{\"id\":\"4623\",\"type\":\"ColumnDataSource\"},\"glyph\":{\"id\":\"4624\",\"type\":\"Line\"},\"hover_glyph\":null,\"muted_glyph\":null,\"nonselection_glyph\":{\"id\":\"4625\",\"type\":\"Line\"},\"selection_glyph\":null,\"view\":{\"id\":\"4627\",\"type\":\"CDSView\"}},\"id\":\"4626\",\"type\":\"GlyphRenderer\"},{\"attributes\":{},\"id\":\"4517\",\"type\":\"UnionRenderers\"},{\"attributes\":{\"source\":{\"id\":\"4623\",\"type\":\"ColumnDataSource\"}},\"id\":\"4627\",\"type\":\"CDSView\"},{\"attributes\":{},\"id\":\"4518\",\"type\":\"Selection\"},{\"attributes\":{\"callback\":null,\"data\":{\"x\":{\"__ndarray__\":\"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\",\"dtype\":\"float64\",\"shape\":[264]},\"y\":{\"__ndarray__\":\"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\",\"dtype\":\"float64\",\"shape\":[264]}},\"selected\":{\"id\":\"4898\",\"type\":\"Selection\"},\"selection_policy\":{\"id\":\"4897\",\"type\":\"UnionRenderers\"}},\"id\":\"4653\",\"type\":\"ColumnDataSource\"},{\"attributes\":{\"callback\":null,\"tooltips\":[[\"index\",\"$index\"],[\"(x,y)\",\"($x, $y)\"]]},\"id\":\"4424\",\"type\":\"HoverTool\"},{\"attributes\":{\"callback\":null,\"data\":{\"x\":[\"NaN\",\"NaN\",\"NaN\",\"NaN\",4.083333333333333,4.333333333333333,6.333333333333333,9.0,12.0,14.0,\"NaN\",\"NaN\",\"NaN\",\"NaN\",\"NaN\",4.666666666666667,5.083333333333333,5.333333333333333,12.0,6.0,6.0,6.0,5.75,6.166666666666667,6.25,\"NaN\",6.5,6.666666666666667,7.25,7.5,7.5,\"NaN\",7.666666666666667,8.0,8.5,8.833333333333334,9.25,9.75,10.25,10.833333333333334,10.75,11.333333333333334,11.5,\"NaN\",11.75,\"NaN\",\"NaN\",9.166666666666666,9.5,9.0,9.75,9.25,10.0,9.333333333333334,9.5,10.166666666666666,8.75,8.666666666666666,8.25,8.75,8.0,7.5,7.0,6.25,6.166666666666667,9.666666666666666,9.666666666666666,9.5,9.166666666666666,9.666666666666666,10.166666666666666,10.25,10.416666666666666,10.75,11.0,\"NaN\",\"NaN\",4.333333333333333,4.666666666666667,5.0,5.166666666666667,5.666666666666667,6.0,6.5,5.5,5.666666666666667,5.5,6.0,6.666666666666667,6.5,7.0,6.333333333333333,7.0,6.5,6.666666666666667,7.0,6.5,6.5,7.0,9.166666666666666,7.166666666666667,8.0,7.0,7.333333333333333,7.666666666666667,7.25,8.0,7.666666666666667,7.333333333333333,7.5,7.25,8.5,8.666666666666666,8.583333333333334,8.25,8.166666666666666,\"NaN\",5.833333333333333,6.5,6.0,6.5,6.25,\"NaN\",7.333333333333333,6.5,5.166666666666667,\"NaN\",\"NaN\",5.333333333333333,9.166666666666666,12.666666666666666,\"NaN\",\"NaN\",\"NaN\",\"NaN\",\"NaN\",3.6666666666666665,3.0,2.5,5.0,5.083333333333333,4.416666666666667,\"NaN\",4.25,5.166666666666667,5.5,9.0,11.666666666666666,5.0,5.166666666666667,5.166666666666667,5.333333333333333,\"NaN\",\"NaN\",5.333333333333333,5.25,\"NaN\",5.75,5.333333333333333,6.0,5.333333333333333,5.666666666666667,6.166666666666667,5.666666666666667,6.166666666666667,6.166666666666667,\"NaN\",\"NaN\",5.5,5.666666666666667,6.0,6.5,6.666666666666667,7.25,7.333333333333333,5.5,5.666666666666667,6.0,6.333333333333333,6.666666666666667,7.5,7.166666666666667,6.833333333333333,6.666666666666667,8.0,7.333333333333333,6.833333333333333,6.666666666666667,7.0,7.0,7.833333333333333,7.333333333333333,8.0,7.333333333333333,7.666666666666667,8.5,8.666666666666666,\"NaN\",8.5,8.0,8.833333333333334,8.0,8.333333333333334,8.5,8.333333333333334,8.333333333333334,8.666666666666666,8.833333333333334,8.5,\"NaN\",3.0,\"NaN\",\"NaN\",\"NaN\",5.5,5.166666666666667,5.666666666666667,5.5,5.333333333333333,11.5,\"NaN\",5.5,5.666666666666667,5.666666666666667,5.333333333333333,5.25,\"NaN\",\"NaN\",5.666666666666667,6.25,6.5,\"NaN\",7.25,8.25,9.0,10.333333333333334,11.333333333333334,\"NaN\",11.75,12.0,\"NaN\",13.0,\"NaN\",13.166666666666666,13.5,\"NaN\",13.75,\"NaN\",14.333333333333334,\"NaN\",15.166666666666666,15.0,\"NaN\",20.333333333333332,17.0,\"NaN\",\"NaN\",12.0,\"NaN\",12.0,\"NaN\",12.166666666666666,12.25,12.916666666666666,12.5,12.666666666666666,13.0,13.5,14.0,\"NaN\",14.666666666666666,15.0,15.666666666666666,\"NaN\",15.916666666666666,15.5,16.0,14.0,12.5,\"NaN\",16.333333333333332,16.833333333333332,\"NaN\",17.25,17.5,17.833333333333332,18.5,18.0,18.25,\"NaN\",18.5,18.75,19.0,19.5,20.333333333333332,\"NaN\",9.0,11.5,14.666666666666666,16.0,14.0,14.333333333333334,12.0,14.0,\"NaN\",5.75,6.166666666666667,\"NaN\",8.25,8.5,9.333333333333334,10.166666666666666,10.166666666666666,7.0,6.333333333333333,7.0,8.333333333333334,8.833333333333334,\"NaN\",6.416666666666667,7.416666666666667,\"NaN\",6.333333333333333,7.5,\"NaN\",7.333333333333333,\"NaN\",8.5,8.5,\"NaN\",11.0,11.0,10.25,9.333333333333334,9.333333333333334,10.333333333333334,11.5,8.5,9.0,0.0,\"NaN\",10.0,\"NaN\",10.833333333333334,\"NaN\",11.166666666666666,\"NaN\",11.666666666666666,\"NaN\",13.0,\"NaN\",9.5,\"NaN\",9.5,\"NaN\",7.5,\"NaN\",8.0,\"NaN\",6.0,6.5,6.833333333333333,8.333333333333334,8.5,\"NaN\",6.5,\"NaN\",6.0,\"NaN\",6.0,\"NaN\",7.333333333333333,\"NaN\",6.0,\"NaN\",8.333333333333334,\"NaN\",7.5,\"NaN\",7.333333333333333,\"NaN\",8.166666666666666,\"NaN\",8.0,\"NaN\",9.75,10.25,11.0,9.666666666666666,10.333333333333334,9.5,9.666666666666666,9.666666666666666,9.333333333333334,9.833333333333334,10.5,9.0,9.666666666666666,10.0,9.666666666666666,10.166666666666666,9.0,9.5,\"NaN\",\"NaN\",12.166666666666666,12.666666666666666,12.0,11.333333333333334,12.5,11.666666666666666,12.166666666666666,11.75,\"NaN\",12.0,11.25,11.833333333333334,12.0,\"NaN\",13.0,13.0,12.0,13.0,13.25,12.666666666666666,13.0,\"NaN\",\"NaN\",11.166666666666666,11.5,12.5,\"NaN\",\"NaN\",13.0,13.0,13.0,\"NaN\",\"NaN\",11.0,11.0,11.5,11.5,12.5,11.333333333333334,12.666666666666666,13.416666666666666,13.5,13.25,\"NaN\",\"NaN\",9.666666666666666,10.5,11.0,11.5,12.0,13.0,11.666666666666666,10.0,10.333333333333334,11.333333333333334,9.666666666666666,10.25,10.333333333333334,11.0,10.5,9.833333333333334,10.5,10.333333333333334,\"NaN\",13.666666666666666,13.5,14.0,14.75,13.333333333333334,12.166666666666666,13.0,13.5,12.333333333333334,13.166666666666666,13.333333333333334,12.75,13.5,12.5,11.5,12.0,12.333333333333334,11.666666666666666,\"NaN\",9.333333333333334,10.0,9.166666666666666,10.0,9.5,10.666666666666666,11.333333333333334,9.5,9.75,10.333333333333334,11.0,10.0,10.833333333333334,\"NaN\",\"NaN\",13.0,\"NaN\",\"NaN\",13.333333333333334,13.0,13.5,12.0,12.5,11.666666666666666,12.0,11.333333333333334,11.0,11.5,11.333333333333334,11.5,11.166666666666666,11.166666666666666,11.75,\"NaN\",\"NaN\",13.75,14.0,13.166666666666666,13.666666666666666,12.333333333333334,12.333333333333334,\"NaN\",\"NaN\",14.25,14.166666666666666,14.666666666666666,14.166666666666666,14.666666666666666,14.5,14.666666666666666,14.25,14.333333333333334,14.833333333333334,14.416666666666666,14.583333333333334,\"NaN\",\"NaN\",16.666666666666668,14.916666666666666,15.25,15.666666666666666,15.5,15.083333333333334,15.25,\"NaN\",\"NaN\",\"NaN\",13.333333333333334,13.666666666666666,13.916666666666666,\"NaN\",\"NaN\",14.0,14.5,13.916666666666666,14.583333333333334,14.333333333333334,13.666666666666666,14.0,\"NaN\",\"NaN\",15.416666666666666,15.0,15.5,15.0,15.083333333333334,14.833333333333334,15.5,15.0,14.666666666666666,15.0,14.0,14.75,14.333333333333334,14.666666666666666,14.666666666666666,\"NaN\",\"NaN\",16.5,16.0,15.5,15.75,15.166666666666666,16.0,15.166666666666666,15.5,15.0,15.416666666666666,\"NaN\",17.333333333333332,\"NaN\",16.666666666666668,16.166666666666668,17.0,16.666666666666668,\"NaN\",17.916666666666668,17.916666666666668,17.333333333333332,17.5,\"NaN\",\"NaN\",16.333333333333332,16.5,16.0,16.666666666666668,16.0,15.666666666666666,16.75,15.5,16.333333333333332,15.833333333333334,\"NaN\",18.666666666666668,18.5,\"NaN\",17.333333333333332,\"NaN\",9.0,\"NaN\",4.0,4.666666666666667,\"NaN\",14.833333333333334,14.0,\"NaN\",\"NaN\",16.166666666666668,16.75,\"NaN\",17.166666666666668,17.5],\"y\":[\"NaN\",\"NaN\",\"NaN\",\"NaN\",37.666666666666664,37.5,39.0,39.0,37.25,40.0,\"NaN\",\"NaN\",\"NaN\",\"NaN\",\"NaN\",37.333333333333336,37.166666666666664,37.0,38.5,36.75,36.833333333333336,36.333333333333336,36.0,36.166666666666664,36.666666666666664,\"NaN\",36.5,36.333333333333336,36.166666666666664,36.166666666666664,36.25,\"NaN\",36.666666666666664,36.083333333333336,37.0,37.5,37.25,37.25,37.25,37.083333333333336,37.166666666666664,37.083333333333336,36.333333333333336,\"NaN\",37.166666666666664,\"NaN\",\"NaN\",38.833333333333336,38.666666666666664,38.5,38.166666666666664,38.5,38.25,38.083333333333336,38.0,38.0,37.75,37.416666666666664,37.666666666666664,37.916666666666664,37.166666666666664,37.0,36.666666666666664,36.916666666666664,36.333333333333336,38.083333333333336,37.75,37.5,37.5,37.416666666666664,37.75,37.5,37.833333333333336,37.833333333333336,37.666666666666664,\"NaN\",\"NaN\",38.0,37.75,37.25,38.333333333333336,38.333333333333336,38.333333333333336,37.75,37.333333333333336,37.5,37.75,37.333333333333336,38.333333333333336,38.666666666666664,38.0,37.333333333333336,37.666666666666664,37.5,37.25,37.166666666666664,37.916666666666664,37.333333333333336,38.833333333333336,38.0,37.833333333333336,38.666666666666664,38.416666666666664,38.333333333333336,37.5,37.833333333333336,37.75,37.75,37.166666666666664,37.416666666666664,37.083333333333336,38.5,38.583333333333336,38.333333333333336,38.333333333333336,38.0,\"NaN\",38.0,38.5,38.666666666666664,38.833333333333336,38.416666666666664,\"NaN\",37.666666666666664,37.083333333333336,36.166666666666664,\"NaN\",\"NaN\",41.833333333333336,41.333333333333336,41.666666666666664,\"NaN\",\"NaN\",\"NaN\",\"NaN\",\"NaN\",37.75,37.833333333333336,38.25,39.0,39.416666666666664,39.5,\"NaN\",39.75,40.25,40.166666666666664,40.166666666666664,40.75,40.666666666666664,40.833333333333336,41.333333333333336,41.833333333333336,\"NaN\",\"NaN\",39.0,38.75,\"NaN\",40.25,40.0,40.0,39.75,39.0,39.666666666666664,39.333333333333336,39.333333333333336,39.083333333333336,\"NaN\",\"NaN\",41.083333333333336,41.5,41.333333333333336,41.25,41.5,41.083333333333336,41.5,40.666666666666664,40.5,41.0,40.75,40.5,40.75,40.5,40.25,40.0,40.25,40.0,39.75,39.5,39.333333333333336,39.083333333333336,39.916666666666664,39.666666666666664,39.5,39.25,39.083333333333336,39.5,39.166666666666664,\"NaN\",41.666666666666664,41.5,41.833333333333336,41.25,41.25,41.0,41.0,40.75,40.666666666666664,40.416666666666664,40.083333333333336,\"NaN\",41.0,\"NaN\",\"NaN\",\"NaN\",42.25,42.5,42.75,43.25,43.666666666666664,44.25,\"NaN\",44.0,44.333333333333336,44.666666666666664,45.0,45.166666666666664,\"NaN\",\"NaN\",45.5,45.5,45.5,\"NaN\",45.0,45.833333333333336,45.75,45.666666666666664,45.75,\"NaN\",45.416666666666664,45.5,\"NaN\",45.666666666666664,\"NaN\",44.666666666666664,44.25,\"NaN\",44.416666666666664,\"NaN\",45.0,\"NaN\",45.083333333333336,45.833333333333336,\"NaN\",42.333333333333336,43.0,\"NaN\",\"NaN\",37.25,\"NaN\",37.333333333333336,\"NaN\",37.5,37.916666666666664,38.083333333333336,38.5,38.583333333333336,38.75,38.75,38.333333333333336,\"NaN\",38.916666666666664,39.0,39.5,\"NaN\",39.666666666666664,40.0,40.5,42.0,44.0,\"NaN\",40.666666666666664,40.75,\"NaN\",41.0,41.0,41.333333333333336,41.5,41.75,42.0,\"NaN\",42.166666666666664,42.333333333333336,42.5,42.5,42.333333333333336,\"NaN\",45.0,44.25,42.25,43.0,41.5,39.0,37.666666666666664,39.666666666666664,\"NaN\",45.166666666666664,44.75,\"NaN\",45.083333333333336,45.5,45.333333333333336,44.666666666666664,44.916666666666664,44.75,43.75,43.5,44.416666666666664,44.583333333333336,\"NaN\",44.5,44.416666666666664,\"NaN\",44.333333333333336,44.0,\"NaN\",44.75,\"NaN\",44.5,45.166666666666664,\"NaN\",45.0,44.5,44.333333333333336,44.75,43.5,44.0,43.75,43.75,44.0,0.0,\"NaN\",44.833333333333336,\"NaN\",43.916666666666664,\"NaN\",44.25,\"NaN\",44.833333333333336,\"NaN\",43.75,\"NaN\",43.666666666666664,\"NaN\",44.0,\"NaN\",43.75,\"NaN\",43.75,\"NaN\",43.666666666666664,43.5,43.5,43.416666666666664,43.416666666666664,\"NaN\",43.666666666666664,\"NaN\",42.583333333333336,\"NaN\",43.333333333333336,\"NaN\",43.333333333333336,\"NaN\",42.25,\"NaN\",42.75,\"NaN\",42.666666666666664,\"NaN\",42.333333333333336,\"NaN\",42.333333333333336,\"NaN\",42.0,\"NaN\",43.916666666666664,43.416666666666664,43.5,43.333333333333336,43.0,43.0,42.666666666666664,42.916666666666664,42.5,42.0,42.5,42.333333333333336,42.416666666666664,42.333333333333336,42.166666666666664,42.0,42.0,41.666666666666664,\"NaN\",\"NaN\",44.666666666666664,44.75,44.166666666666664,44.666666666666664,44.25,44.666666666666664,44.0,43.333333333333336,\"NaN\",43.666666666666664,43.5,43.333333333333336,43.166666666666664,\"NaN\",44.25,43.5,43.0,43.0,43.5,43.25,42.666666666666664,\"NaN\",\"NaN\",42.0,42.666666666666664,42.666666666666664,\"NaN\",\"NaN\",42.0,41.666666666666664,42.25,\"NaN\",\"NaN\",42.833333333333336,42.0,42.416666666666664,42.0,41.666666666666664,41.833333333333336,42.5,42.75,42.916666666666664,42.5,\"NaN\",\"NaN\",41.0,41.666666666666664,41.5,41.5,41.833333333333336,41.333333333333336,41.0,41.0,41.666666666666664,40.0,40.333333333333336,40.75,40.583333333333336,40.5,40.916666666666664,40.25,40.25,39.75,\"NaN\",41.166666666666664,41.333333333333336,41.75,41.5,41.666666666666664,41.0,41.0,41.666666666666664,40.75,40.666666666666664,40.5,40.833333333333336,40.5,40.666666666666664,40.25,40.333333333333336,40.166666666666664,39.75,\"NaN\",40.0,39.0,39.666666666666664,39.5,39.5,39.166666666666664,39.0,39.0,39.5,39.0,39.666666666666664,38.75,38.333333333333336,\"NaN\",\"NaN\",40.333333333333336,\"NaN\",\"NaN\",39.833333333333336,39.333333333333336,39.75,39.5,39.666666666666664,39.25,39.166666666666664,39.75,38.583333333333336,38.666666666666664,37.75,38.166666666666664,38.333333333333336,38.0,38.5,\"NaN\",\"NaN\",39.25,39.0,39.0,38.916666666666664,38.5,38.916666666666664,\"NaN\",\"NaN\",41.5,41.25,41.0,40.75,40.666666666666664,40.5,40.25,40.166666666666664,39.75,39.666666666666664,39.416666666666664,39.666666666666664,\"NaN\",\"NaN\",41.333333333333336,41.166666666666664,40.666666666666664,40.5,40.333333333333336,40.25,40.0,\"NaN\",\"NaN\",\"NaN\",43.75,42.75,43.333333333333336,\"NaN\",\"NaN\",43.916666666666664,43.75,43.75,43.166666666666664,43.5,43.75,42.833333333333336,\"NaN\",\"NaN\",43.916666666666664,43.75,43.666666666666664,43.5,43.083333333333336,43.25,43.416666666666664,43.0,42.916666666666664,42.75,42.583333333333336,42.5,42.416666666666664,42.25,43.333333333333336,\"NaN\",\"NaN\",43.0,42.75,42.5,42.25,42.5,42.5,41.916666666666664,41.666666666666664,41.5,41.416666666666664,\"NaN\",42.75,\"NaN\",42.166666666666664,42.166666666666664,42.25,42.666666666666664,\"NaN\",42.25,42.5,41.916666666666664,42.5,\"NaN\",\"NaN\",42.0,41.75,41.666666666666664,41.583333333333336,41.166666666666664,41.333333333333336,41.916666666666664,41.0,41.333333333333336,40.833333333333336,\"NaN\",42.583333333333336,42.416666666666664,\"NaN\",41.583333333333336,\"NaN\",46.75,\"NaN\",45.5,43.333333333333336,\"NaN\",38.333333333333336,38.083333333333336,\"NaN\",\"NaN\",39.25,39.25,\"NaN\",39.5,39.5]},\"selected\":{\"id\":\"4567\",\"type\":\"Selection\"},\"selection_policy\":{\"id\":\"4566\",\"type\":\"UnionRenderers\"}},\"id\":\"4519\",\"type\":\"ColumnDataSource\"},{\"attributes\":{},\"id\":\"4651\",\"type\":\"UnionRenderers\"},{\"attributes\":{\"fill_alpha\":{\"value\":0.2},\"fill_color\":{\"value\":\"#1f77b4\"},\"line_alpha\":{\"value\":0.2},\"line_color\":{\"value\":\"#1f77b4\"},\"size\":{\"units\":\"screen\",\"value\":5},\"x\":{\"field\":\"x\"},\"y\":{\"field\":\"y\"}},\"id\":\"4524\",\"type\":\"Circle\"},{\"attributes\":{\"source\":{\"id\":\"4519\",\"type\":\"ColumnDataSource\"}},\"id\":\"4520\",\"type\":\"CDSView\"},{\"attributes\":{},\"id\":\"4593\",\"type\":\"UnionRenderers\"},{\"attributes\":{},\"id\":\"4652\",\"type\":\"Selection\"},{\"attributes\":{\"fill_alpha\":{\"value\":0.1},\"fill_color\":{\"value\":\"#1f77b4\"},\"line_alpha\":{\"value\":0.1},\"line_color\":{\"value\":\"#1f77b4\"},\"size\":{\"units\":\"screen\",\"value\":5},\"x\":{\"field\":\"x\"},\"y\":{\"field\":\"y\"}},\"id\":\"4439\",\"type\":\"Circle\"},{\"attributes\":{\"fill_alpha\":{\"value\":0.8},\"fill_color\":{\"value\":\"blue\"},\"line_alpha\":{\"value\":0},\"line_color\":{\"value\":\"DodgerBlue\"},\"size\":{\"units\":\"screen\",\"value\":5},\"x\":{\"field\":\"x\"},\"y\":{\"field\":\"y\"}},\"id\":\"4522\",\"type\":\"Circle\"},{\"attributes\":{\"callback\":null,\"overlay\":{\"id\":\"4446\",\"type\":\"BoxAnnotation\"}},\"id\":\"4425\",\"type\":\"BoxSelectTool\"},{\"attributes\":{\"fill_alpha\":{\"value\":0.1},\"fill_color\":{\"value\":\"#1f77b4\"},\"line_alpha\":{\"value\":0.1},\"line_color\":{\"value\":\"#1f77b4\"},\"size\":{\"units\":\"screen\",\"value\":5},\"x\":{\"field\":\"x\"},\"y\":{\"field\":\"y\"}},\"id\":\"4523\",\"type\":\"Circle\"},{\"attributes\":{\"fill_color\":{\"value\":\"green\"},\"line_alpha\":{\"value\":0.8},\"line_color\":{\"value\":\"green\"},\"size\":{\"units\":\"screen\",\"value\":5.5},\"x\":{\"field\":\"x\"},\"y\":{\"field\":\"y\"}},\"id\":\"4654\",\"type\":\"Circle\"},{\"attributes\":{\"overlay\":{\"id\":\"4447\",\"type\":\"BoxAnnotation\"}},\"id\":\"4426\",\"type\":\"BoxZoomTool\"},{\"attributes\":{\"source\":{\"id\":\"4435\",\"type\":\"ColumnDataSource\"}},\"id\":\"4436\",\"type\":\"CDSView\"}],\"root_ids\":[\"4403\"]},\"title\":\"Bokeh Application\",\"version\":\"1.3.4\"}};\n",
       "  var render_items = [{\"docid\":\"9a37a704-dd66-4ad9-94a4-2d2876dcb7fe\",\"roots\":{\"4403\":\"c411d242-2ae7-495b-a304-eff996f131b9\"}}];\n",
       "  root.Bokeh.embed.embed_items_notebook(docs_json, render_items);\n",
       "\n",
       "  }\n",
       "  if (root.Bokeh !== undefined) {\n",
       "    embed_document(root);\n",
       "  } else {\n",
       "    var attempts = 0;\n",
       "    var timer = setInterval(function(root) {\n",
       "      if (root.Bokeh !== undefined) {\n",
       "        embed_document(root);\n",
       "        clearInterval(timer);\n",
       "      }\n",
       "      attempts++;\n",
       "      if (attempts > 100) {\n",
       "        console.log(\"Bokeh: ERROR: Unable to run BokehJS code because BokehJS library is missing\");\n",
       "        clearInterval(timer);\n",
       "      }\n",
       "    }, 10, root)\n",
       "  }\n",
       "})(window);"
      ],
      "application/vnd.bokehjs_exec.v0+json": ""
     },
     "metadata": {
      "application/vnd.bokehjs_exec.v0+json": {
       "id": "4403"
      }
     },
     "output_type": "display_data"
    }
   ],
   "source": [
    "fig.plot_compare_recension(ob_dict,xb_dict,df_dict)"
   ]
  },
  {
   "cell_type": "code",
   "execution_count": null,
   "metadata": {},
   "outputs": [],
   "source": []
  }
 ],
 "metadata": {
  "kernelspec": {
   "display_name": "Python 3",
   "language": "python",
   "name": "python3"
  },
  "language_info": {
   "codemirror_mode": {
    "name": "ipython",
    "version": 3
   },
   "file_extension": ".py",
   "mimetype": "text/x-python",
   "name": "python",
   "nbconvert_exporter": "python",
   "pygments_lexer": "ipython3",
   "version": "3.7.1"
  },
  "latex_envs": {
   "LaTeX_envs_menu_present": true,
   "autocomplete": true,
   "bibliofile": "biblio.bib",
   "cite_by": "apalike",
   "current_citInitial": 1,
   "eqLabelWithNumbers": true,
   "eqNumInitial": 1,
   "hotkeys": {
    "equation": "Ctrl-E",
    "itemize": "Ctrl-I"
   },
   "labels_anchors": false,
   "latex_user_defs": false,
   "report_style_numbering": false,
   "user_envs_cfg": false
  },
  "toc": {
   "colors": {
    "hover_highlight": "#DAA520",
    "running_highlight": "#FF0000",
    "selected_highlight": "#FFD700"
   },
   "moveMenuLeft": true,
   "navigate_menu": false,
   "number_sections": true,
   "sideBar": true,
   "threshold": 4,
   "toc_cell": false,
   "toc_section_display": "block",
   "toc_window_display": true,
   "widenNotebook": true
  }
 },
 "nbformat": 4,
 "nbformat_minor": 4
}
