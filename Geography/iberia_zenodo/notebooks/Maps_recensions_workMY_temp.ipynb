{
 "cells": [
  {
   "cell_type": "markdown",
   "metadata": {},
   "source": [
    "# Maps of the Iberian Peninsula"
   ]
  },
  {
   "cell_type": "markdown",
   "metadata": {},
   "source": [
    "Olivier Defaux(1), Gerd Graßhoff(1,2), Mohammad Yeghaneh(2)\n",
    "\n",
    "1: Max-Planck-Institute for the History of Science, Berlin; \n",
    "2: Humboldt University, Berlin\n",
    "\n",
    "Date:"
   ]
  },
  {
   "cell_type": "markdown",
   "metadata": {},
   "source": [
    "Ptolemy's catalogue of localities contains a list of places with their coordinates that enables to draw maps of the Iberian Peninsula. Ptolemy's text came down to us in two versions that are sometimes different regarding the spelling of the toponyms and the values of the coordinates. These versions are usually called \"Omega recension\" and \"Xi recension\". Based on the Greek text of Ptolemy's catalogue edited by A. Stückelberger and G. Graßhoff (2006), we will draw Ptolemy's map of the Iberian Peninsula and compare the two transmitted versions of his work."
   ]
  },
  {
   "cell_type": "code",
   "execution_count": 1,
   "metadata": {
    "extensions": {
     "jupyter_dashboards": {
      "version": 1,
      "views": {
       "grid_default": {
        "hidden": true
       },
       "report_default": {
        "hidden": true
       }
      }
     }
    }
   },
   "outputs": [],
   "source": [
    "import numpy as np\n",
    "import pandas as pd\n",
    "%load_ext autoreload\n",
    "%autoreload 2"
   ]
  },
  {
   "cell_type": "code",
   "execution_count": 2,
   "metadata": {},
   "outputs": [],
   "source": [
    "from bokeh.plotting import figure, output_file, show, ColumnDataSource\n",
    "from bokeh.io import output_notebook, output_file, save\n",
    "from bokeh.models import HoverTool,BoxZoomTool,ResetTool, WheelZoomTool\n",
    "from bokeh.layouts import row, gridplot, layout"
   ]
  },
  {
   "cell_type": "code",
   "execution_count": 3,
   "metadata": {},
   "outputs": [],
   "source": [
    "pd.set_option('display.max_colwidth', -1)\n",
    "pd.set_option('max_colwidth', 260)"
   ]
  },
  {
   "cell_type": "code",
   "execution_count": 4,
   "metadata": {},
   "outputs": [],
   "source": [
    "options = {\"compact\": True, \"bg\": \"#09a3d5\",\n",
    "           \"color\": \"white\", \"font\": \"Source Sans Pro\",\"collapse_phrases\":False}"
   ]
  },
  {
   "cell_type": "code",
   "execution_count": 5,
   "metadata": {},
   "outputs": [
    {
     "data": {
      "text/html": [
       "\n",
       "    <div class=\"bk-root\">\n",
       "        <a href=\"https://bokeh.pydata.org\" target=\"_blank\" class=\"bk-logo bk-logo-small bk-logo-notebook\"></a>\n",
       "        <span id=\"1001\">Loading BokehJS ...</span>\n",
       "    </div>"
      ]
     },
     "metadata": {},
     "output_type": "display_data"
    },
    {
     "data": {
      "application/javascript": [
       "\n",
       "(function(root) {\n",
       "  function now() {\n",
       "    return new Date();\n",
       "  }\n",
       "\n",
       "  var force = true;\n",
       "\n",
       "  if (typeof root._bokeh_onload_callbacks === \"undefined\" || force === true) {\n",
       "    root._bokeh_onload_callbacks = [];\n",
       "    root._bokeh_is_loading = undefined;\n",
       "  }\n",
       "\n",
       "  var JS_MIME_TYPE = 'application/javascript';\n",
       "  var HTML_MIME_TYPE = 'text/html';\n",
       "  var EXEC_MIME_TYPE = 'application/vnd.bokehjs_exec.v0+json';\n",
       "  var CLASS_NAME = 'output_bokeh rendered_html';\n",
       "\n",
       "  /**\n",
       "   * Render data to the DOM node\n",
       "   */\n",
       "  function render(props, node) {\n",
       "    var script = document.createElement(\"script\");\n",
       "    node.appendChild(script);\n",
       "  }\n",
       "\n",
       "  /**\n",
       "   * Handle when an output is cleared or removed\n",
       "   */\n",
       "  function handleClearOutput(event, handle) {\n",
       "    var cell = handle.cell;\n",
       "\n",
       "    var id = cell.output_area._bokeh_element_id;\n",
       "    var server_id = cell.output_area._bokeh_server_id;\n",
       "    // Clean up Bokeh references\n",
       "    if (id != null && id in Bokeh.index) {\n",
       "      Bokeh.index[id].model.document.clear();\n",
       "      delete Bokeh.index[id];\n",
       "    }\n",
       "\n",
       "    if (server_id !== undefined) {\n",
       "      // Clean up Bokeh references\n",
       "      var cmd = \"from bokeh.io.state import curstate; print(curstate().uuid_to_server['\" + server_id + \"'].get_sessions()[0].document.roots[0]._id)\";\n",
       "      cell.notebook.kernel.execute(cmd, {\n",
       "        iopub: {\n",
       "          output: function(msg) {\n",
       "            var id = msg.content.text.trim();\n",
       "            if (id in Bokeh.index) {\n",
       "              Bokeh.index[id].model.document.clear();\n",
       "              delete Bokeh.index[id];\n",
       "            }\n",
       "          }\n",
       "        }\n",
       "      });\n",
       "      // Destroy server and session\n",
       "      var cmd = \"import bokeh.io.notebook as ion; ion.destroy_server('\" + server_id + \"')\";\n",
       "      cell.notebook.kernel.execute(cmd);\n",
       "    }\n",
       "  }\n",
       "\n",
       "  /**\n",
       "   * Handle when a new output is added\n",
       "   */\n",
       "  function handleAddOutput(event, handle) {\n",
       "    var output_area = handle.output_area;\n",
       "    var output = handle.output;\n",
       "\n",
       "    // limit handleAddOutput to display_data with EXEC_MIME_TYPE content only\n",
       "    if ((output.output_type != \"display_data\") || (!output.data.hasOwnProperty(EXEC_MIME_TYPE))) {\n",
       "      return\n",
       "    }\n",
       "\n",
       "    var toinsert = output_area.element.find(\".\" + CLASS_NAME.split(' ')[0]);\n",
       "\n",
       "    if (output.metadata[EXEC_MIME_TYPE][\"id\"] !== undefined) {\n",
       "      toinsert[toinsert.length - 1].firstChild.textContent = output.data[JS_MIME_TYPE];\n",
       "      // store reference to embed id on output_area\n",
       "      output_area._bokeh_element_id = output.metadata[EXEC_MIME_TYPE][\"id\"];\n",
       "    }\n",
       "    if (output.metadata[EXEC_MIME_TYPE][\"server_id\"] !== undefined) {\n",
       "      var bk_div = document.createElement(\"div\");\n",
       "      bk_div.innerHTML = output.data[HTML_MIME_TYPE];\n",
       "      var script_attrs = bk_div.children[0].attributes;\n",
       "      for (var i = 0; i < script_attrs.length; i++) {\n",
       "        toinsert[toinsert.length - 1].firstChild.setAttribute(script_attrs[i].name, script_attrs[i].value);\n",
       "      }\n",
       "      // store reference to server id on output_area\n",
       "      output_area._bokeh_server_id = output.metadata[EXEC_MIME_TYPE][\"server_id\"];\n",
       "    }\n",
       "  }\n",
       "\n",
       "  function register_renderer(events, OutputArea) {\n",
       "\n",
       "    function append_mime(data, metadata, element) {\n",
       "      // create a DOM node to render to\n",
       "      var toinsert = this.create_output_subarea(\n",
       "        metadata,\n",
       "        CLASS_NAME,\n",
       "        EXEC_MIME_TYPE\n",
       "      );\n",
       "      this.keyboard_manager.register_events(toinsert);\n",
       "      // Render to node\n",
       "      var props = {data: data, metadata: metadata[EXEC_MIME_TYPE]};\n",
       "      render(props, toinsert[toinsert.length - 1]);\n",
       "      element.append(toinsert);\n",
       "      return toinsert\n",
       "    }\n",
       "\n",
       "    /* Handle when an output is cleared or removed */\n",
       "    events.on('clear_output.CodeCell', handleClearOutput);\n",
       "    events.on('delete.Cell', handleClearOutput);\n",
       "\n",
       "    /* Handle when a new output is added */\n",
       "    events.on('output_added.OutputArea', handleAddOutput);\n",
       "\n",
       "    /**\n",
       "     * Register the mime type and append_mime function with output_area\n",
       "     */\n",
       "    OutputArea.prototype.register_mime_type(EXEC_MIME_TYPE, append_mime, {\n",
       "      /* Is output safe? */\n",
       "      safe: true,\n",
       "      /* Index of renderer in `output_area.display_order` */\n",
       "      index: 0\n",
       "    });\n",
       "  }\n",
       "\n",
       "  // register the mime type if in Jupyter Notebook environment and previously unregistered\n",
       "  if (root.Jupyter !== undefined) {\n",
       "    var events = require('base/js/events');\n",
       "    var OutputArea = require('notebook/js/outputarea').OutputArea;\n",
       "\n",
       "    if (OutputArea.prototype.mime_types().indexOf(EXEC_MIME_TYPE) == -1) {\n",
       "      register_renderer(events, OutputArea);\n",
       "    }\n",
       "  }\n",
       "\n",
       "  \n",
       "  if (typeof (root._bokeh_timeout) === \"undefined\" || force === true) {\n",
       "    root._bokeh_timeout = Date.now() + 5000;\n",
       "    root._bokeh_failed_load = false;\n",
       "  }\n",
       "\n",
       "  var NB_LOAD_WARNING = {'data': {'text/html':\n",
       "     \"<div style='background-color: #fdd'>\\n\"+\n",
       "     \"<p>\\n\"+\n",
       "     \"BokehJS does not appear to have successfully loaded. If loading BokehJS from CDN, this \\n\"+\n",
       "     \"may be due to a slow or bad network connection. Possible fixes:\\n\"+\n",
       "     \"</p>\\n\"+\n",
       "     \"<ul>\\n\"+\n",
       "     \"<li>re-rerun `output_notebook()` to attempt to load from CDN again, or</li>\\n\"+\n",
       "     \"<li>use INLINE resources instead, as so:</li>\\n\"+\n",
       "     \"</ul>\\n\"+\n",
       "     \"<code>\\n\"+\n",
       "     \"from bokeh.resources import INLINE\\n\"+\n",
       "     \"output_notebook(resources=INLINE)\\n\"+\n",
       "     \"</code>\\n\"+\n",
       "     \"</div>\"}};\n",
       "\n",
       "  function display_loaded() {\n",
       "    var el = document.getElementById(\"1001\");\n",
       "    if (el != null) {\n",
       "      el.textContent = \"BokehJS is loading...\";\n",
       "    }\n",
       "    if (root.Bokeh !== undefined) {\n",
       "      if (el != null) {\n",
       "        el.textContent = \"BokehJS \" + root.Bokeh.version + \" successfully loaded.\";\n",
       "      }\n",
       "    } else if (Date.now() < root._bokeh_timeout) {\n",
       "      setTimeout(display_loaded, 100)\n",
       "    }\n",
       "  }\n",
       "\n",
       "\n",
       "  function run_callbacks() {\n",
       "    try {\n",
       "      root._bokeh_onload_callbacks.forEach(function(callback) {\n",
       "        if (callback != null)\n",
       "          callback();\n",
       "      });\n",
       "    } finally {\n",
       "      delete root._bokeh_onload_callbacks\n",
       "    }\n",
       "    console.debug(\"Bokeh: all callbacks have finished\");\n",
       "  }\n",
       "\n",
       "  function load_libs(css_urls, js_urls, callback) {\n",
       "    if (css_urls == null) css_urls = [];\n",
       "    if (js_urls == null) js_urls = [];\n",
       "\n",
       "    root._bokeh_onload_callbacks.push(callback);\n",
       "    if (root._bokeh_is_loading > 0) {\n",
       "      console.debug(\"Bokeh: BokehJS is being loaded, scheduling callback at\", now());\n",
       "      return null;\n",
       "    }\n",
       "    if (js_urls == null || js_urls.length === 0) {\n",
       "      run_callbacks();\n",
       "      return null;\n",
       "    }\n",
       "    console.debug(\"Bokeh: BokehJS not loaded, scheduling load and callback at\", now());\n",
       "    root._bokeh_is_loading = css_urls.length + js_urls.length;\n",
       "\n",
       "    function on_load() {\n",
       "      root._bokeh_is_loading--;\n",
       "      if (root._bokeh_is_loading === 0) {\n",
       "        console.debug(\"Bokeh: all BokehJS libraries/stylesheets loaded\");\n",
       "        run_callbacks()\n",
       "      }\n",
       "    }\n",
       "\n",
       "    function on_error() {\n",
       "      console.error(\"failed to load \" + url);\n",
       "    }\n",
       "\n",
       "    for (var i = 0; i < css_urls.length; i++) {\n",
       "      var url = css_urls[i];\n",
       "      const element = document.createElement(\"link\");\n",
       "      element.onload = on_load;\n",
       "      element.onerror = on_error;\n",
       "      element.rel = \"stylesheet\";\n",
       "      element.type = \"text/css\";\n",
       "      element.href = url;\n",
       "      console.debug(\"Bokeh: injecting link tag for BokehJS stylesheet: \", url);\n",
       "      document.body.appendChild(element);\n",
       "    }\n",
       "\n",
       "    for (var i = 0; i < js_urls.length; i++) {\n",
       "      var url = js_urls[i];\n",
       "      var element = document.createElement('script');\n",
       "      element.onload = on_load;\n",
       "      element.onerror = on_error;\n",
       "      element.async = false;\n",
       "      element.src = url;\n",
       "      console.debug(\"Bokeh: injecting script tag for BokehJS library: \", url);\n",
       "      document.head.appendChild(element);\n",
       "    }\n",
       "  };var element = document.getElementById(\"1001\");\n",
       "  if (element == null) {\n",
       "    console.error(\"Bokeh: ERROR: autoload.js configured with elementid '1001' but no matching script tag was found. \")\n",
       "    return false;\n",
       "  }\n",
       "\n",
       "  function inject_raw_css(css) {\n",
       "    const element = document.createElement(\"style\");\n",
       "    element.appendChild(document.createTextNode(css));\n",
       "    document.body.appendChild(element);\n",
       "  }\n",
       "\n",
       "  var js_urls = [\"https://cdn.pydata.org/bokeh/release/bokeh-1.3.4.min.js\", \"https://cdn.pydata.org/bokeh/release/bokeh-widgets-1.3.4.min.js\", \"https://cdn.pydata.org/bokeh/release/bokeh-tables-1.3.4.min.js\", \"https://cdn.pydata.org/bokeh/release/bokeh-gl-1.3.4.min.js\"];\n",
       "  var css_urls = [];\n",
       "\n",
       "  var inline_js = [\n",
       "    function(Bokeh) {\n",
       "      Bokeh.set_log_level(\"info\");\n",
       "    },\n",
       "    \n",
       "    function(Bokeh) {\n",
       "      \n",
       "    },\n",
       "    function(Bokeh) {} // ensure no trailing comma for IE\n",
       "  ];\n",
       "\n",
       "  function run_inline_js() {\n",
       "    \n",
       "    if ((root.Bokeh !== undefined) || (force === true)) {\n",
       "      for (var i = 0; i < inline_js.length; i++) {\n",
       "        inline_js[i].call(root, root.Bokeh);\n",
       "      }if (force === true) {\n",
       "        display_loaded();\n",
       "      }} else if (Date.now() < root._bokeh_timeout) {\n",
       "      setTimeout(run_inline_js, 100);\n",
       "    } else if (!root._bokeh_failed_load) {\n",
       "      console.log(\"Bokeh: BokehJS failed to load within specified timeout.\");\n",
       "      root._bokeh_failed_load = true;\n",
       "    } else if (force !== true) {\n",
       "      var cell = $(document.getElementById(\"1001\")).parents('.cell').data().cell;\n",
       "      cell.output_area.append_execute_result(NB_LOAD_WARNING)\n",
       "    }\n",
       "\n",
       "  }\n",
       "\n",
       "  if (root._bokeh_is_loading === 0) {\n",
       "    console.debug(\"Bokeh: BokehJS loaded, going straight to plotting\");\n",
       "    run_inline_js();\n",
       "  } else {\n",
       "    load_libs(css_urls, js_urls, function() {\n",
       "      console.debug(\"Bokeh: BokehJS plotting callback run at\", now());\n",
       "      run_inline_js();\n",
       "    });\n",
       "  }\n",
       "}(window));"
      ],
      "application/vnd.bokehjs_load.v0+json": "\n(function(root) {\n  function now() {\n    return new Date();\n  }\n\n  var force = true;\n\n  if (typeof root._bokeh_onload_callbacks === \"undefined\" || force === true) {\n    root._bokeh_onload_callbacks = [];\n    root._bokeh_is_loading = undefined;\n  }\n\n  \n\n  \n  if (typeof (root._bokeh_timeout) === \"undefined\" || force === true) {\n    root._bokeh_timeout = Date.now() + 5000;\n    root._bokeh_failed_load = false;\n  }\n\n  var NB_LOAD_WARNING = {'data': {'text/html':\n     \"<div style='background-color: #fdd'>\\n\"+\n     \"<p>\\n\"+\n     \"BokehJS does not appear to have successfully loaded. If loading BokehJS from CDN, this \\n\"+\n     \"may be due to a slow or bad network connection. Possible fixes:\\n\"+\n     \"</p>\\n\"+\n     \"<ul>\\n\"+\n     \"<li>re-rerun `output_notebook()` to attempt to load from CDN again, or</li>\\n\"+\n     \"<li>use INLINE resources instead, as so:</li>\\n\"+\n     \"</ul>\\n\"+\n     \"<code>\\n\"+\n     \"from bokeh.resources import INLINE\\n\"+\n     \"output_notebook(resources=INLINE)\\n\"+\n     \"</code>\\n\"+\n     \"</div>\"}};\n\n  function display_loaded() {\n    var el = document.getElementById(\"1001\");\n    if (el != null) {\n      el.textContent = \"BokehJS is loading...\";\n    }\n    if (root.Bokeh !== undefined) {\n      if (el != null) {\n        el.textContent = \"BokehJS \" + root.Bokeh.version + \" successfully loaded.\";\n      }\n    } else if (Date.now() < root._bokeh_timeout) {\n      setTimeout(display_loaded, 100)\n    }\n  }\n\n\n  function run_callbacks() {\n    try {\n      root._bokeh_onload_callbacks.forEach(function(callback) {\n        if (callback != null)\n          callback();\n      });\n    } finally {\n      delete root._bokeh_onload_callbacks\n    }\n    console.debug(\"Bokeh: all callbacks have finished\");\n  }\n\n  function load_libs(css_urls, js_urls, callback) {\n    if (css_urls == null) css_urls = [];\n    if (js_urls == null) js_urls = [];\n\n    root._bokeh_onload_callbacks.push(callback);\n    if (root._bokeh_is_loading > 0) {\n      console.debug(\"Bokeh: BokehJS is being loaded, scheduling callback at\", now());\n      return null;\n    }\n    if (js_urls == null || js_urls.length === 0) {\n      run_callbacks();\n      return null;\n    }\n    console.debug(\"Bokeh: BokehJS not loaded, scheduling load and callback at\", now());\n    root._bokeh_is_loading = css_urls.length + js_urls.length;\n\n    function on_load() {\n      root._bokeh_is_loading--;\n      if (root._bokeh_is_loading === 0) {\n        console.debug(\"Bokeh: all BokehJS libraries/stylesheets loaded\");\n        run_callbacks()\n      }\n    }\n\n    function on_error() {\n      console.error(\"failed to load \" + url);\n    }\n\n    for (var i = 0; i < css_urls.length; i++) {\n      var url = css_urls[i];\n      const element = document.createElement(\"link\");\n      element.onload = on_load;\n      element.onerror = on_error;\n      element.rel = \"stylesheet\";\n      element.type = \"text/css\";\n      element.href = url;\n      console.debug(\"Bokeh: injecting link tag for BokehJS stylesheet: \", url);\n      document.body.appendChild(element);\n    }\n\n    for (var i = 0; i < js_urls.length; i++) {\n      var url = js_urls[i];\n      var element = document.createElement('script');\n      element.onload = on_load;\n      element.onerror = on_error;\n      element.async = false;\n      element.src = url;\n      console.debug(\"Bokeh: injecting script tag for BokehJS library: \", url);\n      document.head.appendChild(element);\n    }\n  };var element = document.getElementById(\"1001\");\n  if (element == null) {\n    console.error(\"Bokeh: ERROR: autoload.js configured with elementid '1001' but no matching script tag was found. \")\n    return false;\n  }\n\n  function inject_raw_css(css) {\n    const element = document.createElement(\"style\");\n    element.appendChild(document.createTextNode(css));\n    document.body.appendChild(element);\n  }\n\n  var js_urls = [\"https://cdn.pydata.org/bokeh/release/bokeh-1.3.4.min.js\", \"https://cdn.pydata.org/bokeh/release/bokeh-widgets-1.3.4.min.js\", \"https://cdn.pydata.org/bokeh/release/bokeh-tables-1.3.4.min.js\", \"https://cdn.pydata.org/bokeh/release/bokeh-gl-1.3.4.min.js\"];\n  var css_urls = [];\n\n  var inline_js = [\n    function(Bokeh) {\n      Bokeh.set_log_level(\"info\");\n    },\n    \n    function(Bokeh) {\n      \n    },\n    function(Bokeh) {} // ensure no trailing comma for IE\n  ];\n\n  function run_inline_js() {\n    \n    if ((root.Bokeh !== undefined) || (force === true)) {\n      for (var i = 0; i < inline_js.length; i++) {\n        inline_js[i].call(root, root.Bokeh);\n      }if (force === true) {\n        display_loaded();\n      }} else if (Date.now() < root._bokeh_timeout) {\n      setTimeout(run_inline_js, 100);\n    } else if (!root._bokeh_failed_load) {\n      console.log(\"Bokeh: BokehJS failed to load within specified timeout.\");\n      root._bokeh_failed_load = true;\n    } else if (force !== true) {\n      var cell = $(document.getElementById(\"1001\")).parents('.cell').data().cell;\n      cell.output_area.append_execute_result(NB_LOAD_WARNING)\n    }\n\n  }\n\n  if (root._bokeh_is_loading === 0) {\n    console.debug(\"Bokeh: BokehJS loaded, going straight to plotting\");\n    run_inline_js();\n  } else {\n    load_libs(css_urls, js_urls, function() {\n      console.debug(\"Bokeh: BokehJS plotting callback run at\", now());\n      run_inline_js();\n    });\n  }\n}(window));"
     },
     "metadata": {},
     "output_type": "display_data"
    }
   ],
   "source": [
    "from tools import Geography\n",
    "from tools import reformatCoord,reformatIntFrac"
   ]
  },
  {
   "cell_type": "markdown",
   "metadata": {},
   "source": [
    "## Resources"
   ]
  },
  {
   "cell_type": "markdown",
   "metadata": {},
   "source": [
    "We selected the part of Ptolemy's catalogue of localities related to the Iberian Peninsula (*Geography* 2.4–6) and we encoded the Greek text of the two recensions (Omega and Xi). The files can be loaded from the open-access plateform Zenodo."
   ]
  },
  {
   "cell_type": "markdown",
   "metadata": {},
   "source": [
    "### Import"
   ]
  },
  {
   "cell_type": "code",
   "execution_count": 6,
   "metadata": {},
   "outputs": [],
   "source": [
    "# import .json file from DOI number"
   ]
  },
  {
   "cell_type": "code",
   "execution_count": 27,
   "metadata": {},
   "outputs": [],
   "source": [
    "Omega = pd.read_json('../data/OmegaStructure2.json',encoding=\"utf8\")\n",
    "Xi = pd.read_json('../data/XiStructure2.json',encoding=\"utf8\")"
   ]
  },
  {
   "cell_type": "markdown",
   "metadata": {},
   "source": [
    "### Transform the .json files into dataframes"
   ]
  },
  {
   "cell_type": "markdown",
   "metadata": {},
   "source": [
    "The .json files reproduce Ptolemy's text and structure. In order to work with the coordinates in an efficient way, we will transform the file format to produce a simple dataframe."
   ]
  },
  {
   "cell_type": "code",
   "execution_count": 29,
   "metadata": {},
   "outputs": [],
   "source": [
    "%run geographytools.py"
   ]
  },
  {
   "cell_type": "code",
   "execution_count": 30,
   "metadata": {},
   "outputs": [],
   "source": [
    "df=Omega[\"chapters\"][0]\n",
    "om=json_normalize(df,\"section\")"
   ]
  },
  {
   "cell_type": "code",
   "execution_count": 31,
   "metadata": {},
   "outputs": [],
   "source": [
    "def findTS(s):\n",
    "    out=\"\"\n",
    "    for i,r in om.iterrows():\n",
    "        sci=r[\"sec_ID\"]\n",
    "        if sci in s:\n",
    "            out=r[\"type_sec\"]\n",
    "            \n",
    "            exit\n",
    "    return(out)\n",
    "#findTS(\"2.04.01.01\")"
   ]
  },
  {
   "cell_type": "code",
   "execution_count": 32,
   "metadata": {},
   "outputs": [],
   "source": [
    "def Js2Geodf(df): \n",
    "# df=OmegaJ[\"chapters\"][0]\n",
    "    om=json_normalize(df,\"section\")\n",
    "    om=om.dropna(subset=[\"sec_part\"])\n",
    "    l=[]\n",
    "    for i,x in om.iterrows():\n",
    "        k={\"type_sec\":x[\"type_sec\"]}\n",
    "        l.append([x[\"sec_part\"]])\n",
    "#\n",
    "    listItems=list(flatten_list(l))\n",
    "    dfout=pd.DataFrame(listItems)\n",
    "    dfout[\"type_sec\"]=dfout.apply(lambda x: findTS(x[\"ID\"]),axis=1)\n",
    "    return(dfout)"
   ]
  },
  {
   "cell_type": "code",
   "execution_count": 33,
   "metadata": {},
   "outputs": [],
   "source": [
    "dfOmega=Js2Geodf(Omega[\"chapters\"][0])\n",
    "dfXi=Js2Geodf(Xi[\"chapters\"][0])"
   ]
  },
  {
   "cell_type": "code",
   "execution_count": 34,
   "metadata": {},
   "outputs": [
    {
     "data": {
      "text/html": [
       "<div>\n",
       "<style scoped>\n",
       "    .dataframe tbody tr th:only-of-type {\n",
       "        vertical-align: middle;\n",
       "    }\n",
       "\n",
       "    .dataframe tbody tr th {\n",
       "        vertical-align: top;\n",
       "    }\n",
       "\n",
       "    .dataframe thead th {\n",
       "        text-align: right;\n",
       "    }\n",
       "</style>\n",
       "<table border=\"1\" class=\"dataframe\">\n",
       "  <thead>\n",
       "    <tr style=\"text-align: right;\">\n",
       "      <th></th>\n",
       "      <th>ID</th>\n",
       "      <th>category</th>\n",
       "      <th>coord</th>\n",
       "      <th>people</th>\n",
       "      <th>text</th>\n",
       "      <th>toponym</th>\n",
       "      <th>type</th>\n",
       "      <th>type_sec</th>\n",
       "    </tr>\n",
       "  </thead>\n",
       "  <tbody>\n",
       "    <tr>\n",
       "      <th>24</th>\n",
       "      <td>2.04.05.13</td>\n",
       "      <td>city</td>\n",
       "      <td>{'long': {'integer': 'ς', 'fraction': 'δ'}, 'lat': {'integer': 'λς', 'fraction': 'γο'}}</td>\n",
       "      <td>Turduli</td>\n",
       "      <td>NaN</td>\n",
       "      <td>Βαίλων πόλις</td>\n",
       "      <td>locality</td>\n",
       "      <td>coast section</td>\n",
       "    </tr>\n",
       "    <tr>\n",
       "      <th>25</th>\n",
       "      <td>2.04.06.01</td>\n",
       "      <td>NaN</td>\n",
       "      <td>NaN</td>\n",
       "      <td>NaN</td>\n",
       "      <td>Βαστουλῶν τῶν καλουμένων Ποινῶν</td>\n",
       "      <td>NaN</td>\n",
       "      <td>people</td>\n",
       "      <td>coast section</td>\n",
       "    </tr>\n",
       "    <tr>\n",
       "      <th>26</th>\n",
       "      <td>2.04.06.02</td>\n",
       "      <td>city</td>\n",
       "      <td>{'long': {'integer': 'ς', 'fraction': 'L'}, 'lat': {'integer': 'λς', 'fraction': 'L'}}</td>\n",
       "      <td>Bastuli</td>\n",
       "      <td>NaN</td>\n",
       "      <td>Μενραλία</td>\n",
       "      <td>locality</td>\n",
       "      <td>coast section</td>\n",
       "    </tr>\n",
       "    <tr>\n",
       "      <th>27</th>\n",
       "      <td>2.04.06.03</td>\n",
       "      <td>city</td>\n",
       "      <td>{'long': {'integer': 'ς', 'fraction': 'γο'}, 'lat': {'integer': 'λς', 'fraction': 'γ'}}</td>\n",
       "      <td>Bastuli</td>\n",
       "      <td>NaN</td>\n",
       "      <td>Τρανσδούκτα</td>\n",
       "      <td>locality</td>\n",
       "      <td>coast section</td>\n",
       "    </tr>\n",
       "    <tr>\n",
       "      <th>28</th>\n",
       "      <td>2.04.06.04</td>\n",
       "      <td>city</td>\n",
       "      <td>{'long': {'integer': 'ζ', 'fraction': 'δ'}, 'lat': {'integer': 'λς', 'fraction': 'ς'}}</td>\n",
       "      <td>Bastuli</td>\n",
       "      <td>NaN</td>\n",
       "      <td>Βαρβησόλα</td>\n",
       "      <td>locality</td>\n",
       "      <td>coast section</td>\n",
       "    </tr>\n",
       "    <tr>\n",
       "      <th>29</th>\n",
       "      <td>2.04.06.05</td>\n",
       "      <td>city</td>\n",
       "      <td>{'long': {'integer': 'ζ', 'fraction': 'L'}, 'lat': {'integer': 'λς', 'fraction': 'ς'}}</td>\n",
       "      <td>Bastuli</td>\n",
       "      <td>NaN</td>\n",
       "      <td>Καρτμία</td>\n",
       "      <td>locality</td>\n",
       "      <td>coast section</td>\n",
       "    </tr>\n",
       "    <tr>\n",
       "      <th>30</th>\n",
       "      <td>2.04.06.06</td>\n",
       "      <td>mountain</td>\n",
       "      <td>{'long': {'integer': 'ζ', 'fraction': 'L'}, 'lat': {'integer': 'λς', 'fraction': 'δ'}}</td>\n",
       "      <td>Bastuli</td>\n",
       "      <td>NaN</td>\n",
       "      <td>Κάρπη ὅρος καὶ στήλη τῆς ἐντὸς θαλάσσης</td>\n",
       "      <td>locality</td>\n",
       "      <td>coast section</td>\n",
       "    </tr>\n",
       "  </tbody>\n",
       "</table>\n",
       "</div>"
      ],
      "text/plain": [
       "            ID  category  \\\n",
       "24  2.04.05.13      city   \n",
       "25  2.04.06.01       NaN   \n",
       "26  2.04.06.02      city   \n",
       "27  2.04.06.03      city   \n",
       "28  2.04.06.04      city   \n",
       "29  2.04.06.05      city   \n",
       "30  2.04.06.06  mountain   \n",
       "\n",
       "                                                                                      coord  \\\n",
       "24  {'long': {'integer': 'ς', 'fraction': 'δ'}, 'lat': {'integer': 'λς', 'fraction': 'γο'}}   \n",
       "25                                                                                      NaN   \n",
       "26   {'long': {'integer': 'ς', 'fraction': 'L'}, 'lat': {'integer': 'λς', 'fraction': 'L'}}   \n",
       "27  {'long': {'integer': 'ς', 'fraction': 'γο'}, 'lat': {'integer': 'λς', 'fraction': 'γ'}}   \n",
       "28   {'long': {'integer': 'ζ', 'fraction': 'δ'}, 'lat': {'integer': 'λς', 'fraction': 'ς'}}   \n",
       "29   {'long': {'integer': 'ζ', 'fraction': 'L'}, 'lat': {'integer': 'λς', 'fraction': 'ς'}}   \n",
       "30   {'long': {'integer': 'ζ', 'fraction': 'L'}, 'lat': {'integer': 'λς', 'fraction': 'δ'}}   \n",
       "\n",
       "     people                                 text  \\\n",
       "24  Turduli                                  NaN   \n",
       "25      NaN  Βαστουλῶν τῶν καλουμένων Ποινῶν   \n",
       "26  Bastuli                                  NaN   \n",
       "27  Bastuli                                  NaN   \n",
       "28  Bastuli                                  NaN   \n",
       "29  Bastuli                                  NaN   \n",
       "30  Bastuli                                  NaN   \n",
       "\n",
       "                                              toponym      type       type_sec  \n",
       "24                                    Βαίλων πόλις   locality  coast section  \n",
       "25                                                NaN    people  coast section  \n",
       "26                                          Μενραλία  locality  coast section  \n",
       "27                                       Τρανσδούκτα  locality  coast section  \n",
       "28                                         Βαρβησόλα  locality  coast section  \n",
       "29                                           Καρτμία  locality  coast section  \n",
       "30  Κάρπη ὅρος καὶ στήλη τῆς ἐντὸς θαλάσσης   locality  coast section  "
      ]
     },
     "execution_count": 34,
     "metadata": {},
     "output_type": "execute_result"
    }
   ],
   "source": [
    "# Sample of the dataframe for the Omega recension:\n",
    "dfOmega[24:31]"
   ]
  },
  {
   "cell_type": "markdown",
   "metadata": {},
   "source": [
    "## Transform Greek numbers to decimal coordinates"
   ]
  },
  {
   "cell_type": "markdown",
   "metadata": {},
   "source": [
    "### Greek numeral notation"
   ]
  },
  {
   "cell_type": "markdown",
   "metadata": {},
   "source": [
    "Each latitude and each longitude is composed of two parts: an integer part (a whole number of degrees) and a decimal part (written as a fraction of degrees).\n",
    "In order to plot the localities, we have to transpose the Greek numeral system used by Ptolemy into a modern format, using decimal. The symbols used by Ptolemy to express the coordinates are Greek letters and a special sign for the fraction 1/2."
   ]
  },
  {
   "cell_type": "code",
   "execution_count": 35,
   "metadata": {},
   "outputs": [],
   "source": [
    "gfrac={\"\":0,\"ιβ\":1/12,\"ς\":1/6,\"δ\":1/4,\"γ\":1/3,\"γιβ\":5/12,\"L\":1/2,\"Lιβ\":7/12,\"γο\":2/3,\"Lδ\":3/4,\"Lγ\":5/6,\"Lγιβ\":11/12,\"η\":1/8,\"Lς\":2/3,\"ςL\":2/3}\n",
    "gint={\"\":0,\"α\":1,\"β\":2,\"γ\":3,\"δ\":4,\"ε\":5,\"ς\":6,\"ζ\":7,\"η\":8,\"θ\":9,\"ι\":10,\"κ\":20,\"λ\":30,\"μ\":40}"
   ]
  },
  {
   "cell_type": "code",
   "execution_count": 36,
   "metadata": {},
   "outputs": [
    {
     "data": {
      "text/html": [
       "<div>\n",
       "<style scoped>\n",
       "    .dataframe tbody tr th:only-of-type {\n",
       "        vertical-align: middle;\n",
       "    }\n",
       "\n",
       "    .dataframe tbody tr th {\n",
       "        vertical-align: top;\n",
       "    }\n",
       "\n",
       "    .dataframe thead th {\n",
       "        text-align: right;\n",
       "    }\n",
       "</style>\n",
       "<table border=\"1\" class=\"dataframe\">\n",
       "  <thead>\n",
       "    <tr style=\"text-align: right;\">\n",
       "      <th>Greek</th>\n",
       "      <th></th>\n",
       "      <th>α</th>\n",
       "      <th>β</th>\n",
       "      <th>γ</th>\n",
       "      <th>δ</th>\n",
       "      <th>ε</th>\n",
       "      <th>ς</th>\n",
       "      <th>ζ</th>\n",
       "      <th>η</th>\n",
       "      <th>θ</th>\n",
       "      <th>ι</th>\n",
       "      <th>κ</th>\n",
       "      <th>λ</th>\n",
       "      <th>μ</th>\n",
       "    </tr>\n",
       "  </thead>\n",
       "  <tbody>\n",
       "    <tr>\n",
       "      <th>Integers</th>\n",
       "      <td>0</td>\n",
       "      <td>1</td>\n",
       "      <td>2</td>\n",
       "      <td>3</td>\n",
       "      <td>4</td>\n",
       "      <td>5</td>\n",
       "      <td>6</td>\n",
       "      <td>7</td>\n",
       "      <td>8</td>\n",
       "      <td>9</td>\n",
       "      <td>10</td>\n",
       "      <td>20</td>\n",
       "      <td>30</td>\n",
       "      <td>40</td>\n",
       "    </tr>\n",
       "  </tbody>\n",
       "</table>\n",
       "</div>"
      ],
      "text/plain": [
       "Greek        α  β  γ  δ  ε  ς  ζ  η  θ   ι   κ   λ   μ\n",
       "Integers  0  1  2  3  4  5  6  7  8  9  10  20  30  40"
      ]
     },
     "execution_count": 36,
     "metadata": {},
     "output_type": "execute_result"
    }
   ],
   "source": [
    "pd.DataFrame(list(gint.items()), columns=['Greek', 'Integers']).sort_values('Integers').set_index('Greek').T"
   ]
  },
  {
   "cell_type": "code",
   "execution_count": 37,
   "metadata": {},
   "outputs": [
    {
     "data": {
      "text/html": [
       "<div>\n",
       "<style scoped>\n",
       "    .dataframe tbody tr th:only-of-type {\n",
       "        vertical-align: middle;\n",
       "    }\n",
       "\n",
       "    .dataframe tbody tr th {\n",
       "        vertical-align: top;\n",
       "    }\n",
       "\n",
       "    .dataframe thead th {\n",
       "        text-align: right;\n",
       "    }\n",
       "</style>\n",
       "<table border=\"1\" class=\"dataframe\">\n",
       "  <thead>\n",
       "    <tr style=\"text-align: right;\">\n",
       "      <th>Greek</th>\n",
       "      <th></th>\n",
       "      <th>ιβ</th>\n",
       "      <th>η</th>\n",
       "      <th>ς</th>\n",
       "      <th>δ</th>\n",
       "      <th>γ</th>\n",
       "      <th>γιβ</th>\n",
       "      <th>L</th>\n",
       "      <th>Lιβ</th>\n",
       "      <th>γο</th>\n",
       "      <th>Lς</th>\n",
       "      <th>ςL</th>\n",
       "      <th>Lδ</th>\n",
       "      <th>Lγ</th>\n",
       "      <th>Lγιβ</th>\n",
       "    </tr>\n",
       "  </thead>\n",
       "  <tbody>\n",
       "    <tr>\n",
       "      <th>Decimal</th>\n",
       "      <td>0.0</td>\n",
       "      <td>0.083333</td>\n",
       "      <td>0.125</td>\n",
       "      <td>0.166667</td>\n",
       "      <td>0.25</td>\n",
       "      <td>0.333333</td>\n",
       "      <td>0.416667</td>\n",
       "      <td>0.5</td>\n",
       "      <td>0.583333</td>\n",
       "      <td>0.666667</td>\n",
       "      <td>0.666667</td>\n",
       "      <td>0.666667</td>\n",
       "      <td>0.75</td>\n",
       "      <td>0.833333</td>\n",
       "      <td>0.916667</td>\n",
       "    </tr>\n",
       "  </tbody>\n",
       "</table>\n",
       "</div>"
      ],
      "text/plain": [
       "Greek               ιβ      η         ς     δ         γ       γιβ    L  \\\n",
       "Decimal  0.0  0.083333  0.125  0.166667  0.25  0.333333  0.416667  0.5   \n",
       "\n",
       "Greek         Lιβ        γο        Lς        ςL    Lδ        Lγ      Lγιβ  \n",
       "Decimal  0.583333  0.666667  0.666667  0.666667  0.75  0.833333  0.916667  "
      ]
     },
     "execution_count": 37,
     "metadata": {},
     "output_type": "execute_result"
    }
   ],
   "source": [
    "pd.DataFrame(list(gfrac.items()), columns=['Greek', 'Decimal']).sort_values('Decimal').set_index('Greek').T"
   ]
  },
  {
   "cell_type": "markdown",
   "metadata": {},
   "source": [
    "### Translate into modern numeral notation"
   ]
  },
  {
   "cell_type": "markdown",
   "metadata": {},
   "source": [
    "We create two columns for each dataframe: one for the longitude, one for the latitude."
   ]
  },
  {
   "cell_type": "code",
   "execution_count": 38,
   "metadata": {},
   "outputs": [],
   "source": [
    "# Omega\n",
    "dfTemp = dfOmega.copy()\n",
    "dfTemp['longitude'] = dfOmega.apply(lambda row: reformatCoord(row,'long','coord'),axis=1).apply(reformatIntFrac)\n",
    "dfTemp['latitude'] = dfOmega.apply(lambda row: reformatCoord(row,'lat','coord'),axis=1).apply(reformatIntFrac)"
   ]
  },
  {
   "cell_type": "code",
   "execution_count": 39,
   "metadata": {},
   "outputs": [
    {
     "data": {
      "text/html": [
       "<div>\n",
       "<style scoped>\n",
       "    .dataframe tbody tr th:only-of-type {\n",
       "        vertical-align: middle;\n",
       "    }\n",
       "\n",
       "    .dataframe tbody tr th {\n",
       "        vertical-align: top;\n",
       "    }\n",
       "\n",
       "    .dataframe thead th {\n",
       "        text-align: right;\n",
       "    }\n",
       "</style>\n",
       "<table border=\"1\" class=\"dataframe\">\n",
       "  <thead>\n",
       "    <tr style=\"text-align: right;\">\n",
       "      <th></th>\n",
       "      <th>ID</th>\n",
       "      <th>category</th>\n",
       "      <th>coord</th>\n",
       "      <th>people</th>\n",
       "      <th>text</th>\n",
       "      <th>toponym</th>\n",
       "      <th>type</th>\n",
       "      <th>type_sec</th>\n",
       "      <th>longitude</th>\n",
       "      <th>latitude</th>\n",
       "    </tr>\n",
       "  </thead>\n",
       "  <tbody>\n",
       "    <tr>\n",
       "      <th>26</th>\n",
       "      <td>2.04.06.02</td>\n",
       "      <td>city</td>\n",
       "      <td>{'long': {'integer': 'ς', 'fraction': 'L'}, 'lat': {'integer': 'λς', 'fraction': 'L'}}</td>\n",
       "      <td>Bastuli</td>\n",
       "      <td>NaN</td>\n",
       "      <td>Μενραλία</td>\n",
       "      <td>locality</td>\n",
       "      <td>coast section</td>\n",
       "      <td>6.500000</td>\n",
       "      <td>36.500000</td>\n",
       "    </tr>\n",
       "    <tr>\n",
       "      <th>27</th>\n",
       "      <td>2.04.06.03</td>\n",
       "      <td>city</td>\n",
       "      <td>{'long': {'integer': 'ς', 'fraction': 'γο'}, 'lat': {'integer': 'λς', 'fraction': 'γ'}}</td>\n",
       "      <td>Bastuli</td>\n",
       "      <td>NaN</td>\n",
       "      <td>Τρανσδούκτα</td>\n",
       "      <td>locality</td>\n",
       "      <td>coast section</td>\n",
       "      <td>6.666667</td>\n",
       "      <td>36.333333</td>\n",
       "    </tr>\n",
       "    <tr>\n",
       "      <th>28</th>\n",
       "      <td>2.04.06.04</td>\n",
       "      <td>city</td>\n",
       "      <td>{'long': {'integer': 'ζ', 'fraction': 'δ'}, 'lat': {'integer': 'λς', 'fraction': 'ς'}}</td>\n",
       "      <td>Bastuli</td>\n",
       "      <td>NaN</td>\n",
       "      <td>Βαρβησόλα</td>\n",
       "      <td>locality</td>\n",
       "      <td>coast section</td>\n",
       "      <td>7.250000</td>\n",
       "      <td>36.166667</td>\n",
       "    </tr>\n",
       "    <tr>\n",
       "      <th>29</th>\n",
       "      <td>2.04.06.05</td>\n",
       "      <td>city</td>\n",
       "      <td>{'long': {'integer': 'ζ', 'fraction': 'L'}, 'lat': {'integer': 'λς', 'fraction': 'ς'}}</td>\n",
       "      <td>Bastuli</td>\n",
       "      <td>NaN</td>\n",
       "      <td>Καρτμία</td>\n",
       "      <td>locality</td>\n",
       "      <td>coast section</td>\n",
       "      <td>7.500000</td>\n",
       "      <td>36.166667</td>\n",
       "    </tr>\n",
       "    <tr>\n",
       "      <th>30</th>\n",
       "      <td>2.04.06.06</td>\n",
       "      <td>mountain</td>\n",
       "      <td>{'long': {'integer': 'ζ', 'fraction': 'L'}, 'lat': {'integer': 'λς', 'fraction': 'δ'}}</td>\n",
       "      <td>Bastuli</td>\n",
       "      <td>NaN</td>\n",
       "      <td>Κάρπη ὅρος καὶ στήλη τῆς ἐντὸς θαλάσσης</td>\n",
       "      <td>locality</td>\n",
       "      <td>coast section</td>\n",
       "      <td>7.500000</td>\n",
       "      <td>36.250000</td>\n",
       "    </tr>\n",
       "  </tbody>\n",
       "</table>\n",
       "</div>"
      ],
      "text/plain": [
       "            ID  category  \\\n",
       "26  2.04.06.02      city   \n",
       "27  2.04.06.03      city   \n",
       "28  2.04.06.04      city   \n",
       "29  2.04.06.05      city   \n",
       "30  2.04.06.06  mountain   \n",
       "\n",
       "                                                                                      coord  \\\n",
       "26   {'long': {'integer': 'ς', 'fraction': 'L'}, 'lat': {'integer': 'λς', 'fraction': 'L'}}   \n",
       "27  {'long': {'integer': 'ς', 'fraction': 'γο'}, 'lat': {'integer': 'λς', 'fraction': 'γ'}}   \n",
       "28   {'long': {'integer': 'ζ', 'fraction': 'δ'}, 'lat': {'integer': 'λς', 'fraction': 'ς'}}   \n",
       "29   {'long': {'integer': 'ζ', 'fraction': 'L'}, 'lat': {'integer': 'λς', 'fraction': 'ς'}}   \n",
       "30   {'long': {'integer': 'ζ', 'fraction': 'L'}, 'lat': {'integer': 'λς', 'fraction': 'δ'}}   \n",
       "\n",
       "     people text                                            toponym      type  \\\n",
       "26  Bastuli  NaN                                          Μενραλία  locality   \n",
       "27  Bastuli  NaN                                       Τρανσδούκτα  locality   \n",
       "28  Bastuli  NaN                                         Βαρβησόλα  locality   \n",
       "29  Bastuli  NaN                                           Καρτμία  locality   \n",
       "30  Bastuli  NaN  Κάρπη ὅρος καὶ στήλη τῆς ἐντὸς θαλάσσης   locality   \n",
       "\n",
       "         type_sec  longitude   latitude  \n",
       "26  coast section   6.500000  36.500000  \n",
       "27  coast section   6.666667  36.333333  \n",
       "28  coast section   7.250000  36.166667  \n",
       "29  coast section   7.500000  36.166667  \n",
       "30  coast section   7.500000  36.250000  "
      ]
     },
     "execution_count": 39,
     "metadata": {},
     "output_type": "execute_result"
    }
   ],
   "source": [
    "dfTemp[26:31]"
   ]
  },
  {
   "cell_type": "code",
   "execution_count": 67,
   "metadata": {},
   "outputs": [],
   "source": [
    "# Xi\n",
    "dfTempX = dfXi.copy()\n",
    "dfTempX['longitude'] = dfXi.apply(lambda row: reformatCoord(row,'long','coord'),axis=1).apply(reformatIntFrac)\n",
    "dfTempX['latitude'] = dfXi.apply(lambda row: reformatCoord(row,'lat','coord'),axis=1).apply(reformatIntFrac)"
   ]
  },
  {
   "cell_type": "markdown",
   "metadata": {},
   "source": [
    "## Data preparation for the map drawing"
   ]
  },
  {
   "cell_type": "markdown",
   "metadata": {},
   "source": [
    "### Coasts and boundaries (Omega)"
   ]
  },
  {
   "cell_type": "code",
   "execution_count": 68,
   "metadata": {},
   "outputs": [],
   "source": [
    "f = dfTemp[(dfTemp.type_sec == 'coast section') & (dfTemp.type == 'locality') & dfTemp.category.apply(lambda row: row not in ['boundary','river path','river source'])][['longitude','latitude']]"
   ]
  },
  {
   "cell_type": "code",
   "execution_count": 69,
   "metadata": {},
   "outputs": [],
   "source": [
    "#fbae = coast of Baetica, omega\n",
    "baria = dfTemp[dfTemp.toponym == 'ἐφʹ ἧς Βαρεία πόλις '][['longitude','latitude']]\n",
    "fbae = f.iloc[0:28]\n",
    "fbae = fbae.append(baria)\n",
    "fbae = fbae.values"
   ]
  },
  {
   "cell_type": "code",
   "execution_count": 70,
   "metadata": {},
   "outputs": [],
   "source": [
    "#flus = coast of Lusitania, omega\n",
    "flus = f.iloc[28:42].append(f.iloc[0:1]).sort_index(ascending=True)\n",
    "flus = flus.values"
   ]
  },
  {
   "cell_type": "code",
   "execution_count": 71,
   "metadata": {},
   "outputs": [],
   "source": [
    "#ftar = coast of Tarraconensis, omega\n",
    "ftar1 = f.iloc[42:70].append(f.iloc[41:42]).sort_index(ascending=True)\n",
    "ftar1 = ftar1.values\n",
    "ftar2 = f.iloc[70:].sort_index(ascending=False)\n",
    "baebound = dfTemp[dfTemp.toponym == 'μετὰ τὸ πρὸς τῇ Βαιτικῇ πέρας'][['longitude','latitude']]\n",
    "ftar2 = ftar2.append(baebound).append(baria)\n",
    "ftar2 = ftar2.values"
   ]
  },
  {
   "cell_type": "code",
   "execution_count": 72,
   "metadata": {},
   "outputs": [
    {
     "data": {
      "text/html": [
       "<div>\n",
       "<style scoped>\n",
       "    .dataframe tbody tr th:only-of-type {\n",
       "        vertical-align: middle;\n",
       "    }\n",
       "\n",
       "    .dataframe tbody tr th {\n",
       "        vertical-align: top;\n",
       "    }\n",
       "\n",
       "    .dataframe thead th {\n",
       "        text-align: right;\n",
       "    }\n",
       "</style>\n",
       "<table border=\"1\" class=\"dataframe\">\n",
       "  <thead>\n",
       "    <tr style=\"text-align: right;\">\n",
       "      <th></th>\n",
       "      <th>longitude</th>\n",
       "      <th>latitude</th>\n",
       "    </tr>\n",
       "  </thead>\n",
       "  <tbody>\n",
       "    <tr>\n",
       "      <th>257</th>\n",
       "      <td>12.0</td>\n",
       "      <td>37.25</td>\n",
       "    </tr>\n",
       "  </tbody>\n",
       "</table>\n",
       "</div>"
      ],
      "text/plain": [
       "     longitude  latitude\n",
       "257       12.0     37.25"
      ]
     },
     "execution_count": 72,
     "metadata": {},
     "output_type": "execute_result"
    }
   ],
   "source": [
    "baebound"
   ]
  },
  {
   "cell_type": "code",
   "execution_count": 73,
   "metadata": {},
   "outputs": [],
   "source": [
    "### Coasts and boundaries (Xi)"
   ]
  },
  {
   "cell_type": "code",
   "execution_count": 74,
   "metadata": {},
   "outputs": [],
   "source": [
    "g = dfTempX[(dfTempX.type_sec == 'coast section') & (dfTempX.type == 'locality') & dfTempX.category.apply(lambda row: row not in ['boundary','river path','river source'])][['longitude','latitude']]"
   ]
  },
  {
   "cell_type": "code",
   "execution_count": 75,
   "metadata": {},
   "outputs": [],
   "source": [
    "#gbae = coast of Baetica, xi\n",
    "bariaX = dfTempX[dfTempX.toponym == 'ἐφʹ ἧς Βαραλία πόλις'][['longitude','latitude']]\n",
    "gbae = g.iloc[0:26]\n",
    "gbae = gbae.append(bariaX)\n",
    "gbae = gbae.values"
   ]
  },
  {
   "cell_type": "code",
   "execution_count": 76,
   "metadata": {},
   "outputs": [],
   "source": [
    "#glus = coast of Lusitania, xi\n",
    "glus = g.iloc[27:41].append(g.iloc[0:1]).sort_index(ascending=True)\n",
    "glus = glus.values"
   ]
  },
  {
   "cell_type": "code",
   "execution_count": 77,
   "metadata": {},
   "outputs": [],
   "source": [
    "#gtar = coast of Tarraconensis, xi\n",
    "gtar1 = g.iloc[41:68].append(g.iloc[40:41]).sort_index(ascending=True)\n",
    "gtar1 = gtar1.values\n",
    "gtar2 = g.iloc[69:].sort_index(ascending=False)\n",
    "baeboundX = dfTempX[dfTempX.toponym == 'μετὰ τὸ πρὸς τῇ Βαιτικῇ πέρας'][['longitude','latitude']]\n",
    "gtar2 = gtar2.append(baeboundX).append(bariaX)\n",
    "gtar2 = gtar2.values"
   ]
  },
  {
   "cell_type": "code",
   "execution_count": 78,
   "metadata": {},
   "outputs": [],
   "source": [
    "# make a dictionary for all coasts's lines using Xi for later use in function plot_maps\n",
    "gs_dict={'gbae' : gbae, 'glus' : glus, 'gtar1' : gtar1, 'gtar2' : gtar2}"
   ]
  },
  {
   "cell_type": "code",
   "execution_count": 79,
   "metadata": {},
   "outputs": [],
   "source": [
    "# make a dictionary for all coasts's lines using Omega for later use in function plot_maps\n",
    "fs_dict={'fbae' : fbae, 'flus' : flus, 'ftar1' : ftar1, 'ftar2' : ftar2}"
   ]
  },
  {
   "cell_type": "code",
   "execution_count": 80,
   "metadata": {},
   "outputs": [],
   "source": [
    "# make a dictionary for all data\n",
    "df_dict={\"dfTemp\" : dfTemp,  \"dfTempX\" : dfTempX}"
   ]
  },
  {
   "cell_type": "markdown",
   "metadata": {},
   "source": [
    "We select th"
   ]
  },
  {
   "cell_type": "markdown",
   "metadata": {},
   "source": [
    "## Map of the Iberian peninsula, Omega recension"
   ]
  },
  {
   "cell_type": "code",
   "execution_count": 81,
   "metadata": {},
   "outputs": [],
   "source": [
    "fig=Geography(fs_dict,gs_dict,df_dict)"
   ]
  },
  {
   "cell_type": "markdown",
   "metadata": {},
   "source": [
    "[map Omega]"
   ]
  },
  {
   "cell_type": "code",
   "execution_count": 82,
   "metadata": {},
   "outputs": [
    {
     "data": {
      "text/html": [
       "\n",
       "\n",
       "\n",
       "\n",
       "\n",
       "\n",
       "  <div class=\"bk-root\" id=\"8a48e0cb-22e3-4ef3-bc31-ec94c177fcc3\" data-root-id=\"1931\"></div>\n"
      ]
     },
     "metadata": {},
     "output_type": "display_data"
    },
    {
     "data": {
      "application/javascript": [
       "(function(root) {\n",
       "  function embed_document(root) {\n",
       "    \n",
       "  var docs_json = {\"8988ff0f-3b6b-41f8-a143-e16dc048caab\":{\"roots\":{\"references\":[{\"attributes\":{\"below\":[{\"id\":\"1941\",\"type\":\"LinearAxis\"}],\"center\":[{\"id\":\"1945\",\"type\":\"Grid\"},{\"id\":\"1950\",\"type\":\"Grid\"},{\"id\":\"1978\",\"type\":\"Legend\"}],\"left\":[{\"id\":\"1946\",\"type\":\"LinearAxis\"}],\"plot_height\":800,\"plot_width\":1000,\"renderers\":[{\"id\":\"1970\",\"type\":\"GlyphRenderer\"},{\"id\":\"1984\",\"type\":\"GlyphRenderer\"},{\"id\":\"1998\",\"type\":\"GlyphRenderer\"},{\"id\":\"2014\",\"type\":\"GlyphRenderer\"},{\"id\":\"2032\",\"type\":\"GlyphRenderer\"}],\"title\":null,\"toolbar\":{\"id\":\"1958\",\"type\":\"Toolbar\"},\"x_range\":{\"id\":\"1933\",\"type\":\"Range1d\"},\"x_scale\":{\"id\":\"1937\",\"type\":\"LinearScale\"},\"y_range\":{\"id\":\"1935\",\"type\":\"Range1d\"},\"y_scale\":{\"id\":\"1939\",\"type\":\"LinearScale\"}},\"id\":\"1931\",\"subtype\":\"Figure\",\"type\":\"Plot\"},{\"attributes\":{\"active_drag\":\"auto\",\"active_inspect\":\"auto\",\"active_multi\":null,\"active_scroll\":\"auto\",\"active_tap\":\"auto\",\"tools\":[{\"id\":\"1951\",\"type\":\"PanTool\"},{\"id\":\"1952\",\"type\":\"WheelZoomTool\"},{\"id\":\"1953\",\"type\":\"BoxZoomTool\"},{\"id\":\"1954\",\"type\":\"SaveTool\"},{\"id\":\"1955\",\"type\":\"ResetTool\"},{\"id\":\"1956\",\"type\":\"HelpTool\"},{\"id\":\"1957\",\"type\":\"HoverTool\"}]},\"id\":\"1958\",\"type\":\"Toolbar\"},{\"attributes\":{\"data_source\":{\"id\":\"1994\",\"type\":\"ColumnDataSource\"},\"glyph\":{\"id\":\"1995\",\"type\":\"Line\"},\"hover_glyph\":null,\"muted_glyph\":{\"id\":\"1997\",\"type\":\"Line\"},\"nonselection_glyph\":{\"id\":\"1996\",\"type\":\"Line\"},\"selection_glyph\":null,\"view\":{\"id\":\"1999\",\"type\":\"CDSView\"}},\"id\":\"1998\",\"type\":\"GlyphRenderer\"},{\"attributes\":{\"data_source\":{\"id\":\"1966\",\"type\":\"ColumnDataSource\"},\"glyph\":{\"id\":\"1967\",\"type\":\"Line\"},\"hover_glyph\":null,\"muted_glyph\":{\"id\":\"1969\",\"type\":\"Line\"},\"nonselection_glyph\":{\"id\":\"1968\",\"type\":\"Line\"},\"selection_glyph\":null,\"view\":{\"id\":\"1971\",\"type\":\"CDSView\"}},\"id\":\"1970\",\"type\":\"GlyphRenderer\"},{\"attributes\":{\"click_policy\":\"mute\",\"items\":[{\"id\":\"1979\",\"type\":\"LegendItem\"},{\"id\":\"2048\",\"type\":\"LegendItem\"}]},\"id\":\"1978\",\"type\":\"Legend\"},{\"attributes\":{\"label\":{\"value\":\"Localities in Omega\"},\"renderers\":[{\"id\":\"2032\",\"type\":\"GlyphRenderer\"}]},\"id\":\"2048\",\"type\":\"LegendItem\"},{\"attributes\":{\"label\":{\"value\":\"Boundary in Omega cooridnate\"},\"renderers\":[{\"id\":\"1970\",\"type\":\"GlyphRenderer\"},{\"id\":\"1984\",\"type\":\"GlyphRenderer\"},{\"id\":\"1998\",\"type\":\"GlyphRenderer\"},{\"id\":\"2014\",\"type\":\"GlyphRenderer\"}]},\"id\":\"1979\",\"type\":\"LegendItem\"},{\"attributes\":{\"line_alpha\":0.2,\"line_color\":\"#1f77b4\",\"x\":{\"field\":\"x\"},\"y\":{\"field\":\"y\"}},\"id\":\"1969\",\"type\":\"Line\"},{\"attributes\":{},\"id\":\"1956\",\"type\":\"HelpTool\"},{\"attributes\":{},\"id\":\"2046\",\"type\":\"Selection\"},{\"attributes\":{},\"id\":\"2026\",\"type\":\"Selection\"},{\"attributes\":{\"source\":{\"id\":\"1980\",\"type\":\"ColumnDataSource\"}},\"id\":\"1985\",\"type\":\"CDSView\"},{\"attributes\":{},\"id\":\"1937\",\"type\":\"LinearScale\"},{\"attributes\":{},\"id\":\"2025\",\"type\":\"UnionRenderers\"},{\"attributes\":{\"callback\":null,\"end\":47,\"start\":35.5},\"id\":\"1935\",\"type\":\"Range1d\"},{\"attributes\":{\"dimension\":1,\"ticker\":{\"id\":\"1947\",\"type\":\"BasicTicker\"}},\"id\":\"1950\",\"type\":\"Grid\"},{\"attributes\":{},\"id\":\"1973\",\"type\":\"BasicTickFormatter\"},{\"attributes\":{},\"id\":\"2121\",\"type\":\"Selection\"},{\"attributes\":{\"line_color\":\"grey\",\"x\":{\"field\":\"x\"},\"y\":{\"field\":\"y\"}},\"id\":\"2011\",\"type\":\"Line\"},{\"attributes\":{\"overlay\":{\"id\":\"1977\",\"type\":\"BoxAnnotation\"}},\"id\":\"1953\",\"type\":\"BoxZoomTool\"},{\"attributes\":{\"source\":{\"id\":\"1994\",\"type\":\"ColumnDataSource\"}},\"id\":\"1999\",\"type\":\"CDSView\"},{\"attributes\":{},\"id\":\"2008\",\"type\":\"Selection\"},{\"attributes\":{\"line_alpha\":0.1,\"line_color\":\"#1f77b4\",\"x\":{\"field\":\"x\"},\"y\":{\"field\":\"y\"}},\"id\":\"1996\",\"type\":\"Line\"},{\"attributes\":{},\"id\":\"1947\",\"type\":\"BasicTicker\"},{\"attributes\":{},\"id\":\"2120\",\"type\":\"UnionRenderers\"},{\"attributes\":{\"callback\":null,\"data\":{\"x\":{\"__ndarray__\":\"VVVVVVVVNEAAAAAAAIAzQAAAAAAAADNAAAAAAADAMkAAAAAAAIAyQAAAAAAAQDJAAAAAAAAAMkAAAAAAAIAyQFVVVVVV1TFAAAAAAACAMUAAAAAAAEAxQFVVVVVV1TBAVVVVVVVVMEAAAAAAAAAwQAAAAAAAAC9AVVVVVVXVL0BVVVVVVVUvQAAAAAAAAC5AVVVVVVVVLUAAAAAAAAAsQAAAAAAAACtAAAAAAAAAKkBVVVVVVVUpQAAAAAAAAClAVVVVVVXVKUAAAAAAAIAoQFVVVVVVVShAAAAAAAAAKEAAAAAAAIAnQA==\",\"dtype\":\"float64\",\"shape\":[29]},\"y\":{\"__ndarray__\":\"q6qqqqoqRUAAAAAAAEBFQAAAAAAAQEVAq6qqqqoqRUBVVVVVVRVFQAAAAAAAAEVAAAAAAADgREAAAAAAAMBEQKuqqqqqqkRAAAAAAACAREAAAAAAAIBEQAAAAAAAYERAVVVVVVVVREAAAAAAAEBEQAAAAAAAAERAVVVVVVXVQ0AAAAAAAMBDQAAAAAAAgENAVVVVVVV1Q0CrqqqqqipDQAAAAAAAYENAAAAAAABgQ0CrqqqqqkpDQAAAAAAAQENAq6qqqqoKQ0BVVVVVVfVCQAAAAAAAwEJAAAAAAACgQkBVVVVVVZVCQA==\",\"dtype\":\"float64\",\"shape\":[29]}},\"selected\":{\"id\":\"2046\",\"type\":\"Selection\"},\"selection_policy\":{\"id\":\"2045\",\"type\":\"UnionRenderers\"}},\"id\":\"2010\",\"type\":\"ColumnDataSource\"},{\"attributes\":{\"fill_alpha\":{\"value\":0.1},\"fill_color\":{\"value\":\"#1f77b4\"},\"line_alpha\":{\"value\":0.1},\"line_color\":{\"value\":\"#1f77b4\"},\"size\":{\"units\":\"screen\",\"value\":6},\"x\":{\"field\":\"x\"},\"y\":{\"field\":\"y\"}},\"id\":\"2030\",\"type\":\"Circle\"},{\"attributes\":{\"source\":{\"id\":\"2028\",\"type\":\"ColumnDataSource\"}},\"id\":\"2033\",\"type\":\"CDSView\"},{\"attributes\":{\"source\":{\"id\":\"1966\",\"type\":\"ColumnDataSource\"}},\"id\":\"1971\",\"type\":\"CDSView\"},{\"attributes\":{\"callback\":null,\"data\":{\"x\":{\"__ndarray__\":\"VVVVVVVVEEBVVVVVVVURQAAAAAAAACJAq6qqqqqqEkBVVVVVVVUUQFVVVVVVVRVAAAAAAAAAGEAAAAAAAAAYQAAAAAAAABhAAAAAAAAAF0CrqqqqqqoYQAAAAAAAABlAAAAAAAAAGkCrqqqqqqoaQAAAAAAAAB1AAAAAAAAAHkAAAAAAAAAeQKuqqqqqqh5AAAAAAAAAIEAAAAAAAAAhQKuqqqqqqiFAAAAAAACAIkAAAAAAAIAjQAAAAAAAgCRAq6qqqqqqJUAAAAAAAIAlQKuqqqqqqiZAAAAAAAAAJ0AAAAAAAIAnQA==\",\"dtype\":\"float64\",\"shape\":[29]},\"y\":{\"__ndarray__\":\"VVVVVVXVQkAAAAAAAMBCQAAAAAAAgENAq6qqqqqqQkBVVVVVVZVCQAAAAAAAgEJAAAAAAABgQkCrqqqqqmpCQKuqqqqqKkJAAAAAAAAAQkBVVVVVVRVCQFVVVVVVVUJAAAAAAABAQkCrqqqqqipCQFVVVVVVFUJAVVVVVVUVQkAAAAAAACBCQFVVVVVVVUJAq6qqqqoKQkAAAAAAAIBCQAAAAAAAwEJAAAAAAACgQkAAAAAAAKBCQAAAAAAAoEJAq6qqqqqKQkBVVVVVVZVCQKuqqqqqikJAq6qqqqoqQkBVVVVVVZVCQA==\",\"dtype\":\"float64\",\"shape\":[29]}},\"selected\":{\"id\":\"1992\",\"type\":\"Selection\"},\"selection_policy\":{\"id\":\"1991\",\"type\":\"UnionRenderers\"}},\"id\":\"1966\",\"type\":\"ColumnDataSource\"},{\"attributes\":{},\"id\":\"1975\",\"type\":\"BasicTickFormatter\"},{\"attributes\":{},\"id\":\"2007\",\"type\":\"UnionRenderers\"},{\"attributes\":{\"fill_alpha\":{\"value\":0.9},\"fill_color\":{\"value\":\"blue\"},\"line_alpha\":{\"value\":0.6},\"line_color\":{\"value\":\"blue\"},\"size\":{\"units\":\"screen\",\"value\":6},\"x\":{\"field\":\"x\"},\"y\":{\"field\":\"y\"}},\"id\":\"2029\",\"type\":\"Circle\"},{\"attributes\":{\"bottom_units\":\"screen\",\"fill_alpha\":{\"value\":0.5},\"fill_color\":{\"value\":\"lightgrey\"},\"left_units\":\"screen\",\"level\":\"overlay\",\"line_alpha\":{\"value\":1.0},\"line_color\":{\"value\":\"black\"},\"line_dash\":[4,4],\"line_width\":{\"value\":2},\"render_mode\":\"css\",\"right_units\":\"screen\",\"top_units\":\"screen\"},\"id\":\"1977\",\"type\":\"BoxAnnotation\"},{\"attributes\":{\"callback\":null,\"data\":{\"x\":{\"__ndarray__\":\"AAAAAAAA+H8AAAAAAAD4fwAAAAAAAPh/AAAAAAAA+H9VVVVVVVUQQFVVVVVVVRFAVVVVVVVVGUAAAAAAAAAiQAAAAAAAAChAAAAAAAAALEAAAAAAAAD4fwAAAAAAAPh/AAAAAAAA+H8AAAAAAAD4fwAAAAAAAPh/q6qqqqqqEkBVVVVVVVUUQFVVVVVVVRVAAAAAAAAAKEAAAAAAAAAYQAAAAAAAABhAAAAAAAAAGEAAAAAAAAAXQKuqqqqqqhhAAAAAAAAAGUAAAAAAAAD4fwAAAAAAABpAq6qqqqqqGkAAAAAAAAAdQAAAAAAAAB5AAAAAAAAAHkAAAAAAAAD4f6uqqqqqqh5AAAAAAAAAIEAAAAAAAAAhQKuqqqqqqiFAAAAAAACAIkAAAAAAAIAjQAAAAAAAgCRAq6qqqqqqJUAAAAAAAIAlQKuqqqqqqiZAAAAAAAAAJ0AAAAAAAAD4fwAAAAAAgCdAAAAAAAAA+H8AAAAAAAD4f1VVVVVVVSJAAAAAAAAAI0AAAAAAAAAiQAAAAAAAgCNAAAAAAACAIkAAAAAAAAAkQKuqqqqqqiJAAAAAAAAAI0BVVVVVVVUkQAAAAAAAgCFAVVVVVVVVIUAAAAAAAIAgQAAAAAAAgCFAAAAAAAAAIEAAAAAAAAAeQAAAAAAAABxAAAAAAAAAGUCrqqqqqqoYQFVVVVVVVSNAVVVVVVVVI0AAAAAAAAAjQFVVVVVVVSJAVVVVVVVVI0BVVVVVVVUkQAAAAAAAgCRAVVVVVVXVJEAAAAAAAIAlQAAAAAAAACZAAAAAAAAA+H8AAAAAAAD4f1VVVVVVVRFAq6qqqqqqEkAAAAAAAAAUQKuqqqqqqhRAq6qqqqqqFkAAAAAAAAAYQAAAAAAAABpAAAAAAAAAFkCrqqqqqqoWQAAAAAAAABZAAAAAAAAAGECrqqqqqqoaQAAAAAAAABpAAAAAAAAAHEBVVVVVVVUZQAAAAAAAABxAAAAAAAAAGkCrqqqqqqoaQAAAAAAAABxAAAAAAAAAGkAAAAAAAAAaQAAAAAAAABxAVVVVVVVVIkCrqqqqqqocQAAAAAAAACBAAAAAAAAAHEBVVVVVVVUdQKuqqqqqqh5AAAAAAAAAHUAAAAAAAAAgQKuqqqqqqh5AVVVVVVVVHUAAAAAAAAAeQAAAAAAAAB1AAAAAAAAAIUBVVVVVVVUhQKuqqqqqKiFAAAAAAACAIEBVVVVVVVUgQAAAAAAAAPh/VVVVVVVVF0AAAAAAAAAaQAAAAAAAABhAAAAAAAAAGkAAAAAAAAAZQAAAAAAAAPh/VVVVVVVVHUAAAAAAAAAaQKuqqqqqqhRAAAAAAAAA+H8AAAAAAAD4f1VVVVVVVRVAVVVVVVVVIkBVVVVVVVUpQAAAAAAAAPh/AAAAAAAA+H8AAAAAAAD4fwAAAAAAAPh/AAAAAAAA+H9VVVVVVVUNQAAAAAAAAAhAAAAAAAAABEAAAAAAAAAUQFVVVVVVVRRAq6qqqqqqEUAAAAAAAAD4fwAAAAAAABFAq6qqqqqqFEAAAAAAAAAWQAAAAAAAACJAVVVVVVVVJ0AAAAAAAAAUQKuqqqqqqhRAq6qqqqqqFEBVVVVVVVUVQAAAAAAAAPh/AAAAAAAA+H9VVVVVVVUVQAAAAAAAABVAAAAAAAAA+H8AAAAAAAAXQFVVVVVVVRVAAAAAAAAAGEBVVVVVVVUVQKuqqqqqqhZAq6qqqqqqGECrqqqqqqoWQKuqqqqqqhhAq6qqqqqqGEAAAAAAAAD4fwAAAAAAAPh/AAAAAAAAFkCrqqqqqqoWQAAAAAAAABhAAAAAAAAAGkCrqqqqqqoaQAAAAAAAAB1AVVVVVVVVHUAAAAAAAAAWQKuqqqqqqhZAAAAAAAAAGEBVVVVVVVUZQKuqqqqqqhpAAAAAAAAAHkCrqqqqqqocQFVVVVVVVRtAq6qqqqqqGkAAAAAAAAAgQFVVVVVVVR1AVVVVVVVVG0CrqqqqqqoaQAAAAAAAABxAAAAAAAAAHEBVVVVVVVUfQFVVVVVVVR1AAAAAAAAAIEBVVVVVVVUdQKuqqqqqqh5AAAAAAAAAIUBVVVVVVVUhQAAAAAAAAPh/AAAAAAAAIUAAAAAAAAAgQKuqqqqqqiFAAAAAAAAAIECrqqqqqqogQAAAAAAAACFAq6qqqqqqIECrqqqqqqogQFVVVVVVVSFAq6qqqqqqIUAAAAAAAAAhQAAAAAAAAPh/AAAAAAAACEAAAAAAAAD4fwAAAAAAAPh/AAAAAAAA+H8AAAAAAAAWQKuqqqqqqhRAq6qqqqqqFkAAAAAAAAAWQFVVVVVVVRVAAAAAAAAAJ0AAAAAAAAD4fwAAAAAAABZAq6qqqqqqFkCrqqqqqqoWQFVVVVVVVRVAAAAAAAAAFUAAAAAAAAD4fwAAAAAAAPh/q6qqqqqqFkAAAAAAAAAZQAAAAAAAABpAAAAAAAAA+H8AAAAAAAAdQAAAAAAAgCBAAAAAAAAAIkCrqqqqqqokQKuqqqqqqiZAAAAAAAAA+H8AAAAAAIAnQAAAAAAAAChAAAAAAAAA+H8AAAAAAAAqQAAAAAAAAPh/VVVVVVVVKkAAAAAAAAArQAAAAAAAAPh/AAAAAACAK0AAAAAAAAD4f6uqqqqqqixAAAAAAAAA+H9VVVVVVVUuQAAAAAAAAC5AAAAAAAAA+H9VVVVVVVU0QAAAAAAAADFAAAAAAAAA+H8AAAAAAAD4fwAAAAAAAChAAAAAAAAA+H8AAAAAAAAoQAAAAAAAAPh/VVVVVVVVKEAAAAAAAIAoQFVVVVVV1SlAAAAAAAAAKUBVVVVVVVUpQAAAAAAAACpAAAAAAAAAK0AAAAAAAAAsQAAAAAAAAPh/VVVVVVVVLUAAAAAAAAAuQFVVVVVVVS9AAAAAAAAA+H9VVVVVVdUvQAAAAAAAAC9AAAAAAAAAMEAAAAAAAAAsQAAAAAAAAClAAAAAAAAA+H9VVVVVVVUwQFVVVVVV1TBAAAAAAAAA+H8AAAAAAEAxQAAAAAAAgDFAVVVVVVXVMUAAAAAAAIAyQAAAAAAAADJAAAAAAABAMkAAAAAAAAD4fwAAAAAAgDJAAAAAAADAMkAAAAAAAAAzQAAAAAAAgDNAVVVVVVVVNEAAAAAAAAD4fwAAAAAAACJAAAAAAAAAJ0BVVVVVVVUtQAAAAAAAADBAAAAAAAAALECrqqqqqqosQAAAAAAAAChAAAAAAAAALEAAAAAAAAD4fwAAAAAAABdAq6qqqqqqGEAAAAAAAAD4fwAAAAAAgCBAAAAAAAAAIUCrqqqqqqoiQFVVVVVVVSRAVVVVVVVVJEAAAAAAAAAcQFVVVVVVVRlAAAAAAAAAHECrqqqqqqogQKuqqqqqqiFAAAAAAAAA+H+rqqqqqqoZQKuqqqqqqh1AAAAAAAAA+H9VVVVVVVUZQAAAAAAAAB5AAAAAAAAA+H9VVVVVVVUdQAAAAAAAAPh/AAAAAAAAIUAAAAAAAAAhQAAAAAAAAPh/AAAAAAAAJkAAAAAAAAAmQAAAAAAAgCRAq6qqqqqqIkCrqqqqqqoiQKuqqqqqqiRAAAAAAAAAJ0AAAAAAAAAhQAAAAAAAACJAAAAAAAAAAAAAAAAAAAD4fwAAAAAAACRAAAAAAAAA+H+rqqqqqqolQAAAAAAAAPh/VVVVVVVVJkAAAAAAAAD4f1VVVVVVVSdAAAAAAAAA+H8AAAAAAAAqQAAAAAAAAPh/AAAAAAAAI0AAAAAAAAD4fwAAAAAAACNAAAAAAAAA+H8AAAAAAAAeQAAAAAAAAPh/AAAAAAAAIEAAAAAAAAD4fwAAAAAAABhAAAAAAAAAGkBVVVVVVVUbQKuqqqqqqiBAAAAAAAAAIUAAAAAAAAD4fwAAAAAAABpAAAAAAAAA+H8AAAAAAAAYQAAAAAAAAPh/AAAAAAAAGEAAAAAAAAD4f1VVVVVVVR1AAAAAAAAA+H8AAAAAAAAYQAAAAAAAAPh/q6qqqqqqIEAAAAAAAAD4fwAAAAAAAB5AAAAAAAAA+H9VVVVVVVUdQAAAAAAAAPh/VVVVVVVVIEAAAAAAAAD4fwAAAAAAACBAAAAAAAAA+H8AAAAAAIAjQAAAAAAAgCRAAAAAAAAAJkBVVVVVVVUjQKuqqqqqqiRAAAAAAAAAI0BVVVVVVVUjQFVVVVVVVSNAq6qqqqqqIkCrqqqqqqojQAAAAAAAACVAAAAAAAAAIkBVVVVVVVUjQAAAAAAAACRAVVVVVVVVI0BVVVVVVVUkQAAAAAAAACJAAAAAAAAAI0AAAAAAAAD4fwAAAAAAAPh/VVVVVVVVKEBVVVVVVVUpQAAAAAAAAChAq6qqqqqqJkAAAAAAAAApQFVVVVVVVSdAVVVVVVVVKEAAAAAAAIAnQAAAAAAAAPh/AAAAAAAAKEAAAAAAAIAmQKuqqqqqqidAAAAAAAAAKEAAAAAAAAD4fwAAAAAAACpAAAAAAAAAKkAAAAAAAAAoQAAAAAAAACpAAAAAAACAKkBVVVVVVVUpQAAAAAAAACpAAAAAAAAA+H8AAAAAAAD4f1VVVVVVVSZAAAAAAAAAJ0AAAAAAAAApQAAAAAAAAPh/AAAAAAAA+H8AAAAAAAAqQAAAAAAAACpAAAAAAAAAKkAAAAAAAAD4fwAAAAAAAPh/AAAAAAAAJkAAAAAAAAAmQAAAAAAAACdAAAAAAAAAJ0AAAAAAAAApQKuqqqqqqiZAVVVVVVVVKUBVVVVVVdUqQAAAAAAAACtAAAAAAACAKkAAAAAAAAD4fwAAAAAAAPh/VVVVVVVVI0AAAAAAAAAlQAAAAAAAACZAAAAAAAAAJ0AAAAAAAAAoQAAAAAAAACpAVVVVVVVVJ0AAAAAAAAAkQKuqqqqqqiRAq6qqqqqqJkBVVVVVVVUjQAAAAAAAgCRAq6qqqqqqJEAAAAAAAAAmQAAAAAAAACVAq6qqqqqqI0AAAAAAAAAlQKuqqqqqqiRAAAAAAAAA+H9VVVVVVVUrQAAAAAAAACtAAAAAAAAALEAAAAAAAIAtQKuqqqqqqipAVVVVVVVVKEAAAAAAAAAqQAAAAAAAACtAq6qqqqqqKEBVVVVVVVUqQKuqqqqqqipAAAAAAACAKUAAAAAAAAArQAAAAAAAAClAAAAAAAAAJ0AAAAAAAAAoQKuqqqqqqihAVVVVVVVVJ0AAAAAAAAD4f6uqqqqqqiJAAAAAAAAAJEBVVVVVVVUiQAAAAAAAACRAAAAAAAAAI0BVVVVVVVUlQKuqqqqqqiZAAAAAAAAAI0AAAAAAAIAjQKuqqqqqqiRAAAAAAAAAJkAAAAAAAAAkQKuqqqqqqiVAAAAAAAAA+H8AAAAAAAD4fwAAAAAAACpAAAAAAAAA+H8AAAAAAAD4f6uqqqqqqipAAAAAAAAAKkAAAAAAAAArQAAAAAAAAChAAAAAAAAAKUBVVVVVVVUnQAAAAAAAAChAq6qqqqqqJkAAAAAAAAAmQAAAAAAAACdAq6qqqqqqJkAAAAAAAAAnQFVVVVVVVSZAVVVVVVVVJkAAAAAAAIAnQAAAAAAAAPh/AAAAAAAA+H8AAAAAAIArQAAAAAAAACxAVVVVVVVVKkBVVVVVVVUrQKuqqqqqqihAq6qqqqqqKEAAAAAAAAD4fwAAAAAAAPh/AAAAAACALEBVVVVVVVUsQFVVVVVVVS1AVVVVVVVVLEBVVVVVVVUtQAAAAAAAAC1AVVVVVVVVLUAAAAAAAIAsQKuqqqqqqixAq6qqqqqqLUBVVVVVVdUsQKuqqqqqKi1AAAAAAAAA+H8AAAAAAAD4f6uqqqqqqjBAVVVVVVXVLUAAAAAAAIAuQFVVVVVVVS9AAAAAAAAAL0CrqqqqqiouQAAAAAAAgC5AAAAAAAAA+H8AAAAAAAD4fwAAAAAAAPh/q6qqqqqqKkBVVVVVVVUrQFVVVVVV1StAAAAAAAAA+H8AAAAAAAD4fwAAAAAAACxAAAAAAAAALUBVVVVVVdUrQKuqqqqqKi1Aq6qqqqqqLEBVVVVVVVUrQAAAAAAAACxAAAAAAAAA+H8AAAAAAAD4f1VVVVVV1S5AAAAAAAAALkAAAAAAAAAvQAAAAAAAAC5Aq6qqqqoqLkCrqqqqqqotQAAAAAAAAC9AAAAAAAAALkBVVVVVVVUtQAAAAAAAAC5AAAAAAAAALEAAAAAAAIAtQKuqqqqqqixAVVVVVVVVLUBVVVVVVVUtQAAAAAAAAPh/AAAAAAAA+H8AAAAAAIAwQAAAAAAAADBAAAAAAAAAL0AAAAAAAIAvQFVVVVVVVS5AAAAAAAAAMEBVVVVVVVUuQAAAAAAAAC9AAAAAAAAALkBVVVVVVdUuQAAAAAAAAPh/VVVVVVVVMUAAAAAAAAD4f6uqqqqqqjBAq6qqqqoqMEAAAAAAAAAxQKuqqqqqqjBAAAAAAAAA+H+rqqqqquoxQKuqqqqq6jFAVVVVVVVVMUAAAAAAAIAxQAAAAAAAAPh/AAAAAAAA+H9VVVVVVVUwQAAAAAAAgDBAAAAAAAAAMECrqqqqqqowQAAAAAAAADBAVVVVVVVVL0AAAAAAAMAwQAAAAAAAAC9AVVVVVVVVMECrqqqqqqovQAAAAAAAAPh/q6qqqqqqMkAAAAAAAIAyQAAAAAAAAPh/VVVVVVVVMUAAAAAAAAD4fwAAAAAAACJAAAAAAAAA+H8AAAAAAAAQQKuqqqqqqhJAAAAAAAAA+H+rqqqqqqotQAAAAAAAACxAAAAAAAAA+H8AAAAAAAD4f6uqqqqqKjBAAAAAAADAMEAAAAAAAAD4f6uqqqqqKjFAAAAAAACAMUA=\",\"dtype\":\"float64\",\"shape\":[640]},\"y\":{\"__ndarray__\":\"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\",\"dtype\":\"float64\",\"shape\":[640]}},\"selected\":{\"id\":\"2121\",\"type\":\"Selection\"},\"selection_policy\":{\"id\":\"2120\",\"type\":\"UnionRenderers\"}},\"id\":\"2028\",\"type\":\"ColumnDataSource\"},{\"attributes\":{},\"id\":\"1952\",\"type\":\"WheelZoomTool\"},{\"attributes\":{\"line_alpha\":0.1,\"line_color\":\"#1f77b4\",\"x\":{\"field\":\"x\"},\"y\":{\"field\":\"y\"}},\"id\":\"1968\",\"type\":\"Line\"},{\"attributes\":{\"ticker\":{\"id\":\"1942\",\"type\":\"BasicTicker\"}},\"id\":\"1945\",\"type\":\"Grid\"},{\"attributes\":{\"line_alpha\":0.1,\"line_color\":\"#1f77b4\",\"x\":{\"field\":\"x\"},\"y\":{\"field\":\"y\"}},\"id\":\"1982\",\"type\":\"Line\"},{\"attributes\":{\"line_color\":\"grey\",\"x\":{\"field\":\"x\"},\"y\":{\"field\":\"y\"}},\"id\":\"1995\",\"type\":\"Line\"},{\"attributes\":{\"source\":{\"id\":\"2010\",\"type\":\"ColumnDataSource\"}},\"id\":\"2015\",\"type\":\"CDSView\"},{\"attributes\":{\"line_color\":\"grey\",\"x\":{\"field\":\"x\"},\"y\":{\"field\":\"y\"}},\"id\":\"1981\",\"type\":\"Line\"},{\"attributes\":{},\"id\":\"1942\",\"type\":\"BasicTicker\"},{\"attributes\":{\"callback\":null,\"tooltips\":[[\"index\",\"$index\"]]},\"id\":\"1957\",\"type\":\"HoverTool\"},{\"attributes\":{},\"id\":\"1992\",\"type\":\"Selection\"},{\"attributes\":{\"data_source\":{\"id\":\"2028\",\"type\":\"ColumnDataSource\"},\"glyph\":{\"id\":\"2029\",\"type\":\"Circle\"},\"hover_glyph\":null,\"muted_glyph\":{\"id\":\"2031\",\"type\":\"Circle\"},\"nonselection_glyph\":{\"id\":\"2030\",\"type\":\"Circle\"},\"selection_glyph\":null,\"view\":{\"id\":\"2033\",\"type\":\"CDSView\"}},\"id\":\"2032\",\"type\":\"GlyphRenderer\"},{\"attributes\":{\"line_alpha\":0.1,\"line_color\":\"#1f77b4\",\"x\":{\"field\":\"x\"},\"y\":{\"field\":\"y\"}},\"id\":\"2012\",\"type\":\"Line\"},{\"attributes\":{},\"id\":\"1951\",\"type\":\"PanTool\"},{\"attributes\":{},\"id\":\"1939\",\"type\":\"LinearScale\"},{\"attributes\":{},\"id\":\"1954\",\"type\":\"SaveTool\"},{\"attributes\":{},\"id\":\"1955\",\"type\":\"ResetTool\"},{\"attributes\":{\"fill_alpha\":{\"value\":0.2},\"fill_color\":{\"value\":\"#1f77b4\"},\"line_alpha\":{\"value\":0.2},\"line_color\":{\"value\":\"#1f77b4\"},\"size\":{\"units\":\"screen\",\"value\":6},\"x\":{\"field\":\"x\"},\"y\":{\"field\":\"y\"}},\"id\":\"2031\",\"type\":\"Circle\"},{\"attributes\":{\"callback\":null,\"data\":{\"x\":{\"__ndarray__\":\"VVVVVVVVEEBVVVVVVVUNQAAAAAAAAAhAAAAAAAAABEAAAAAAAAAUQFVVVVVVVRRAq6qqqqqqEUAAAAAAAAARQKuqqqqqqhRAAAAAAAAAFkAAAAAAAAAiQAAAAAAAABRAq6qqqqqqFECrqqqqqqoUQFVVVVVVVRVA\",\"dtype\":\"float64\",\"shape\":[15]},\"y\":{\"__ndarray__\":\"VVVVVVXVQkAAAAAAAOBCQKuqqqqq6kJAAAAAAAAgQ0AAAAAAAIBDQFVVVVVVtUNAAAAAAADAQ0AAAAAAAOBDQAAAAAAAIERAVVVVVVUVREBVVVVVVRVEQFVVVVVVVURAq6qqqqpqRECrqqqqqqpEQKuqqqqq6kRA\",\"dtype\":\"float64\",\"shape\":[15]}},\"selected\":{\"id\":\"2008\",\"type\":\"Selection\"},\"selection_policy\":{\"id\":\"2007\",\"type\":\"UnionRenderers\"}},\"id\":\"1980\",\"type\":\"ColumnDataSource\"},{\"attributes\":{\"formatter\":{\"id\":\"1973\",\"type\":\"BasicTickFormatter\"},\"ticker\":{\"id\":\"1947\",\"type\":\"BasicTicker\"}},\"id\":\"1946\",\"type\":\"LinearAxis\"},{\"attributes\":{\"formatter\":{\"id\":\"1975\",\"type\":\"BasicTickFormatter\"},\"ticker\":{\"id\":\"1942\",\"type\":\"BasicTicker\"}},\"id\":\"1941\",\"type\":\"LinearAxis\"},{\"attributes\":{\"callback\":null,\"end\":22,\"start\":1.5},\"id\":\"1933\",\"type\":\"Range1d\"},{\"attributes\":{\"data_source\":{\"id\":\"2010\",\"type\":\"ColumnDataSource\"},\"glyph\":{\"id\":\"2011\",\"type\":\"Line\"},\"hover_glyph\":null,\"muted_glyph\":{\"id\":\"2013\",\"type\":\"Line\"},\"nonselection_glyph\":{\"id\":\"2012\",\"type\":\"Line\"},\"selection_glyph\":null,\"view\":{\"id\":\"2015\",\"type\":\"CDSView\"}},\"id\":\"2014\",\"type\":\"GlyphRenderer\"},{\"attributes\":{},\"id\":\"1991\",\"type\":\"UnionRenderers\"},{\"attributes\":{\"line_alpha\":0.2,\"line_color\":\"#1f77b4\",\"x\":{\"field\":\"x\"},\"y\":{\"field\":\"y\"}},\"id\":\"1983\",\"type\":\"Line\"},{\"attributes\":{\"line_alpha\":0.2,\"line_color\":\"#1f77b4\",\"x\":{\"field\":\"x\"},\"y\":{\"field\":\"y\"}},\"id\":\"2013\",\"type\":\"Line\"},{\"attributes\":{\"data_source\":{\"id\":\"1980\",\"type\":\"ColumnDataSource\"},\"glyph\":{\"id\":\"1981\",\"type\":\"Line\"},\"hover_glyph\":null,\"muted_glyph\":{\"id\":\"1983\",\"type\":\"Line\"},\"nonselection_glyph\":{\"id\":\"1982\",\"type\":\"Line\"},\"selection_glyph\":null,\"view\":{\"id\":\"1985\",\"type\":\"CDSView\"}},\"id\":\"1984\",\"type\":\"GlyphRenderer\"},{\"attributes\":{},\"id\":\"2045\",\"type\":\"UnionRenderers\"},{\"attributes\":{\"line_color\":\"grey\",\"x\":{\"field\":\"x\"},\"y\":{\"field\":\"y\"}},\"id\":\"1967\",\"type\":\"Line\"},{\"attributes\":{\"callback\":null,\"data\":{\"x\":{\"__ndarray__\":\"VVVVVVVVFUAAAAAAAAAWQKuqqqqqqhRAq6qqqqqqFkAAAAAAAAAWQFVVVVVVVRVAAAAAAAAAFkCrqqqqqqoWQKuqqqqqqhZAVVVVVVVVFUAAAAAAAAAVQKuqqqqqqhZAAAAAAAAAGUAAAAAAAAAaQAAAAAAAAB1AAAAAAACAIEAAAAAAAAAiQKuqqqqqqiRAq6qqqqqqJkAAAAAAAIAnQAAAAAAAAChAAAAAAAAAKkBVVVVVVVUqQAAAAAAAACtAAAAAAACAK0CrqqqqqqosQFVVVVVVVS5AAAAAAAAALkAAAAAAAAAoQA==\",\"dtype\":\"float64\",\"shape\":[29]},\"y\":{\"__ndarray__\":\"q6qqqqrqREAAAAAAACBFQAAAAAAAQEVAAAAAAABgRUAAAAAAAKBFQFVVVVVV1UVAAAAAAAAARkCrqqqqqipGQFVVVVVVVUZAAAAAAACARkBVVVVVVZVGQAAAAAAAwEZAAAAAAADARkAAAAAAAMBGQAAAAAAAgEZAq6qqqqrqRkAAAAAAAOBGQFVVVVVV1UZAAAAAAADgRkBVVVVVVbVGQAAAAAAAwEZAVVVVVVXVRkBVVVVVVVVGQAAAAAAAIEZAVVVVVVU1RkAAAAAAAIBGQKuqqqqqikZAq6qqqqrqRkCrqqqqqqpCQA==\",\"dtype\":\"float64\",\"shape\":[29]}},\"selected\":{\"id\":\"2026\",\"type\":\"Selection\"},\"selection_policy\":{\"id\":\"2025\",\"type\":\"UnionRenderers\"}},\"id\":\"1994\",\"type\":\"ColumnDataSource\"},{\"attributes\":{\"line_alpha\":0.2,\"line_color\":\"#1f77b4\",\"x\":{\"field\":\"x\"},\"y\":{\"field\":\"y\"}},\"id\":\"1997\",\"type\":\"Line\"}],\"root_ids\":[\"1931\"]},\"title\":\"Bokeh Application\",\"version\":\"1.3.4\"}};\n",
       "  var render_items = [{\"docid\":\"8988ff0f-3b6b-41f8-a143-e16dc048caab\",\"roots\":{\"1931\":\"8a48e0cb-22e3-4ef3-bc31-ec94c177fcc3\"}}];\n",
       "  root.Bokeh.embed.embed_items_notebook(docs_json, render_items);\n",
       "\n",
       "  }\n",
       "  if (root.Bokeh !== undefined) {\n",
       "    embed_document(root);\n",
       "  } else {\n",
       "    var attempts = 0;\n",
       "    var timer = setInterval(function(root) {\n",
       "      if (root.Bokeh !== undefined) {\n",
       "        embed_document(root);\n",
       "        clearInterval(timer);\n",
       "      }\n",
       "      attempts++;\n",
       "      if (attempts > 100) {\n",
       "        console.log(\"Bokeh: ERROR: Unable to run BokehJS code because BokehJS library is missing\");\n",
       "        clearInterval(timer);\n",
       "      }\n",
       "    }, 10, root)\n",
       "  }\n",
       "})(window);"
      ],
      "application/vnd.bokehjs_exec.v0+json": ""
     },
     "metadata": {
      "application/vnd.bokehjs_exec.v0+json": {
       "id": "1931"
      }
     },
     "output_type": "display_data"
    }
   ],
   "source": [
    "fig.plot_recension(fs_dict,gs_dict,df_dict,select_recension='Omega')"
   ]
  },
  {
   "cell_type": "markdown",
   "metadata": {},
   "source": [
    "## Map of the Iberian peninsula, Xi recension"
   ]
  },
  {
   "cell_type": "markdown",
   "metadata": {},
   "source": [
    "[map Xi]"
   ]
  },
  {
   "cell_type": "code",
   "execution_count": 83,
   "metadata": {},
   "outputs": [
    {
     "data": {
      "text/html": [
       "\n",
       "\n",
       "\n",
       "\n",
       "\n",
       "\n",
       "  <div class=\"bk-root\" id=\"f463bb7a-dda1-4206-a5f0-ec20ff7a89b8\" data-root-id=\"2219\"></div>\n"
      ]
     },
     "metadata": {},
     "output_type": "display_data"
    },
    {
     "data": {
      "application/javascript": [
       "(function(root) {\n",
       "  function embed_document(root) {\n",
       "    \n",
       "  var docs_json = {\"60524647-f778-4b77-ba4d-826ac8ce2e1c\":{\"roots\":{\"references\":[{\"attributes\":{\"below\":[{\"id\":\"2229\",\"type\":\"LinearAxis\"}],\"center\":[{\"id\":\"2233\",\"type\":\"Grid\"},{\"id\":\"2238\",\"type\":\"Grid\"},{\"id\":\"2266\",\"type\":\"Legend\"}],\"left\":[{\"id\":\"2234\",\"type\":\"LinearAxis\"}],\"plot_height\":800,\"plot_width\":1000,\"renderers\":[{\"id\":\"2258\",\"type\":\"GlyphRenderer\"},{\"id\":\"2272\",\"type\":\"GlyphRenderer\"},{\"id\":\"2286\",\"type\":\"GlyphRenderer\"},{\"id\":\"2302\",\"type\":\"GlyphRenderer\"},{\"id\":\"2320\",\"type\":\"GlyphRenderer\"}],\"title\":null,\"toolbar\":{\"id\":\"2246\",\"type\":\"Toolbar\"},\"x_range\":{\"id\":\"2221\",\"type\":\"Range1d\"},\"x_scale\":{\"id\":\"2225\",\"type\":\"LinearScale\"},\"y_range\":{\"id\":\"2223\",\"type\":\"Range1d\"},\"y_scale\":{\"id\":\"2227\",\"type\":\"LinearScale\"}},\"id\":\"2219\",\"subtype\":\"Figure\",\"type\":\"Plot\"},{\"attributes\":{\"line_alpha\":0.2,\"line_color\":\"#1f77b4\",\"line_dash\":[6,4,2,4],\"x\":{\"field\":\"x\"},\"y\":{\"field\":\"y\"}},\"id\":\"2257\",\"type\":\"Line\"},{\"attributes\":{},\"id\":\"2240\",\"type\":\"WheelZoomTool\"},{\"attributes\":{\"source\":{\"id\":\"2268\",\"type\":\"ColumnDataSource\"}},\"id\":\"2273\",\"type\":\"CDSView\"},{\"attributes\":{},\"id\":\"2235\",\"type\":\"BasicTicker\"},{\"attributes\":{\"bottom_units\":\"screen\",\"fill_alpha\":{\"value\":0.5},\"fill_color\":{\"value\":\"lightgrey\"},\"left_units\":\"screen\",\"level\":\"overlay\",\"line_alpha\":{\"value\":1.0},\"line_color\":{\"value\":\"black\"},\"line_dash\":[4,4],\"line_width\":{\"value\":2},\"render_mode\":\"css\",\"right_units\":\"screen\",\"top_units\":\"screen\"},\"id\":\"2265\",\"type\":\"BoxAnnotation\"},{\"attributes\":{\"data_source\":{\"id\":\"2268\",\"type\":\"ColumnDataSource\"},\"glyph\":{\"id\":\"2269\",\"type\":\"Line\"},\"hover_glyph\":null,\"muted_glyph\":{\"id\":\"2271\",\"type\":\"Line\"},\"nonselection_glyph\":{\"id\":\"2270\",\"type\":\"Line\"},\"selection_glyph\":null,\"view\":{\"id\":\"2273\",\"type\":\"CDSView\"}},\"id\":\"2272\",\"type\":\"GlyphRenderer\"},{\"attributes\":{\"source\":{\"id\":\"2298\",\"type\":\"ColumnDataSource\"}},\"id\":\"2303\",\"type\":\"CDSView\"},{\"attributes\":{},\"id\":\"2263\",\"type\":\"BasicTickFormatter\"},{\"attributes\":{\"formatter\":{\"id\":\"2261\",\"type\":\"BasicTickFormatter\"},\"ticker\":{\"id\":\"2235\",\"type\":\"BasicTicker\"}},\"id\":\"2234\",\"type\":\"LinearAxis\"},{\"attributes\":{\"line_alpha\":0.2,\"line_color\":\"#1f77b4\",\"line_dash\":[6,4,2,4],\"x\":{\"field\":\"x\"},\"y\":{\"field\":\"y\"}},\"id\":\"2301\",\"type\":\"Line\"},{\"attributes\":{\"data_source\":{\"id\":\"2298\",\"type\":\"ColumnDataSource\"},\"glyph\":{\"id\":\"2299\",\"type\":\"Line\"},\"hover_glyph\":null,\"muted_glyph\":{\"id\":\"2301\",\"type\":\"Line\"},\"nonselection_glyph\":{\"id\":\"2300\",\"type\":\"Line\"},\"selection_glyph\":null,\"view\":{\"id\":\"2303\",\"type\":\"CDSView\"}},\"id\":\"2302\",\"type\":\"GlyphRenderer\"},{\"attributes\":{\"callback\":null,\"data\":{\"x\":{\"__ndarray__\":\"VVVVVVVVEEAAAAAAAAAIQAAAAAAAAARAAAAAAAAAFEBVVVVVVVUUQKuqqqqqqhNAVVVVVVVVE0CrqqqqqqoUQKuqqqqqqhZAAAAAAAAAIkAAAAAAAAAUQKuqqqqqqhRAAAAAAAAAFkBVVVVVVVUVQAAAAAAAABZA\",\"dtype\":\"float64\",\"shape\":[15]},\"y\":{\"__ndarray__\":\"VVVVVVXVQkBVVVVVVfVCQAAAAAAAIENAAAAAAACAQ0BVVVVVVbVDQKuqqqqq6kNAq6qqqqrqQ0AAAAAAACBEQAAAAAAAQERAAAAAAABAREBVVVVVVVVFQKuqqqqqakRAq6qqqqqqRECrqqqqqupEQAAAAAAAIEVA\",\"dtype\":\"float64\",\"shape\":[15]}},\"selected\":{\"id\":\"2296\",\"type\":\"Selection\"},\"selection_policy\":{\"id\":\"2295\",\"type\":\"UnionRenderers\"}},\"id\":\"2268\",\"type\":\"ColumnDataSource\"},{\"attributes\":{\"line_dash\":[6,4,2,4],\"x\":{\"field\":\"x\"},\"y\":{\"field\":\"y\"}},\"id\":\"2255\",\"type\":\"Line\"},{\"attributes\":{},\"id\":\"2239\",\"type\":\"PanTool\"},{\"attributes\":{\"source\":{\"id\":\"2282\",\"type\":\"ColumnDataSource\"}},\"id\":\"2287\",\"type\":\"CDSView\"},{\"attributes\":{},\"id\":\"2424\",\"type\":\"UnionRenderers\"},{\"attributes\":{},\"id\":\"2280\",\"type\":\"Selection\"},{\"attributes\":{\"data_source\":{\"id\":\"2254\",\"type\":\"ColumnDataSource\"},\"glyph\":{\"id\":\"2255\",\"type\":\"Line\"},\"hover_glyph\":null,\"muted_glyph\":{\"id\":\"2257\",\"type\":\"Line\"},\"nonselection_glyph\":{\"id\":\"2256\",\"type\":\"Line\"},\"selection_glyph\":null,\"view\":{\"id\":\"2259\",\"type\":\"CDSView\"}},\"id\":\"2258\",\"type\":\"GlyphRenderer\"},{\"attributes\":{},\"id\":\"2333\",\"type\":\"UnionRenderers\"},{\"attributes\":{},\"id\":\"2242\",\"type\":\"SaveTool\"},{\"attributes\":{},\"id\":\"2227\",\"type\":\"LinearScale\"},{\"attributes\":{\"active_drag\":\"auto\",\"active_inspect\":\"auto\",\"active_multi\":null,\"active_scroll\":\"auto\",\"active_tap\":\"auto\",\"tools\":[{\"id\":\"2239\",\"type\":\"PanTool\"},{\"id\":\"2240\",\"type\":\"WheelZoomTool\"},{\"id\":\"2241\",\"type\":\"BoxZoomTool\"},{\"id\":\"2242\",\"type\":\"SaveTool\"},{\"id\":\"2243\",\"type\":\"ResetTool\"},{\"id\":\"2244\",\"type\":\"HelpTool\"},{\"id\":\"2245\",\"type\":\"HoverTool\"}]},\"id\":\"2246\",\"type\":\"Toolbar\"},{\"attributes\":{\"label\":{\"value\":\"Localities in Xi\"},\"renderers\":[{\"id\":\"2320\",\"type\":\"GlyphRenderer\"}]},\"id\":\"2336\",\"type\":\"LegendItem\"},{\"attributes\":{\"source\":{\"id\":\"2254\",\"type\":\"ColumnDataSource\"}},\"id\":\"2259\",\"type\":\"CDSView\"},{\"attributes\":{\"data_source\":{\"id\":\"2316\",\"type\":\"ColumnDataSource\"},\"glyph\":{\"id\":\"2317\",\"type\":\"Circle\"},\"hover_glyph\":null,\"muted_glyph\":{\"id\":\"2319\",\"type\":\"Circle\"},\"nonselection_glyph\":{\"id\":\"2318\",\"type\":\"Circle\"},\"selection_glyph\":null,\"view\":{\"id\":\"2321\",\"type\":\"CDSView\"}},\"id\":\"2320\",\"type\":\"GlyphRenderer\"},{\"attributes\":{\"formatter\":{\"id\":\"2263\",\"type\":\"BasicTickFormatter\"},\"ticker\":{\"id\":\"2230\",\"type\":\"BasicTicker\"}},\"id\":\"2229\",\"type\":\"LinearAxis\"},{\"attributes\":{},\"id\":\"2261\",\"type\":\"BasicTickFormatter\"},{\"attributes\":{},\"id\":\"2313\",\"type\":\"UnionRenderers\"},{\"attributes\":{},\"id\":\"2230\",\"type\":\"BasicTicker\"},{\"attributes\":{\"callback\":null,\"tooltips\":[[\"index\",\"$index\"]]},\"id\":\"2245\",\"type\":\"HoverTool\"},{\"attributes\":{},\"id\":\"2295\",\"type\":\"UnionRenderers\"},{\"attributes\":{},\"id\":\"2314\",\"type\":\"Selection\"},{\"attributes\":{},\"id\":\"2244\",\"type\":\"HelpTool\"},{\"attributes\":{},\"id\":\"2296\",\"type\":\"Selection\"},{\"attributes\":{\"line_alpha\":0.1,\"line_color\":\"#1f77b4\",\"line_dash\":[6,4,2,4],\"x\":{\"field\":\"x\"},\"y\":{\"field\":\"y\"}},\"id\":\"2270\",\"type\":\"Line\"},{\"attributes\":{\"source\":{\"id\":\"2316\",\"type\":\"ColumnDataSource\"}},\"id\":\"2321\",\"type\":\"CDSView\"},{\"attributes\":{\"line_dash\":[6,4,2,4],\"x\":{\"field\":\"x\"},\"y\":{\"field\":\"y\"}},\"id\":\"2283\",\"type\":\"Line\"},{\"attributes\":{\"callback\":null,\"end\":47,\"start\":35.5},\"id\":\"2223\",\"type\":\"Range1d\"},{\"attributes\":{\"callback\":null,\"data\":{\"x\":{\"__ndarray__\":\"VVVVVVVVNEAAAAAAAIAzQAAAAAAAADNAAAAAAADAMkAAAAAAAIAyQAAAAAAAQDJAAAAAAAAAMkAAAAAAAIAyQFVVVVVV1TFAAAAAAACAMUAAAAAAAEAxQFVVVVVV1TBAVVVVVVVVMEAAAAAAAAAwQAAAAAAAAC9Aq6qqqqqqL0CrqqqqqiouQAAAAAAAAC5AAAAAAAAALUAAAAAAAAAsQAAAAAAAACtAAAAAAAAAKkAAAAAAAAApQAAAAAAAAClAAAAAAAAAKUAAAAAAAIAoQAAAAAAAAChAAAAAAACAJ0A=\",\"dtype\":\"float64\",\"shape\":[28]},\"y\":{\"__ndarray__\":\"q6qqqqoqRUAAAAAAAEBFQAAAAAAAQEVAq6qqqqoqRUBVVVVVVRVFQAAAAAAAAEVAAAAAAADgRECrqqqqqqpEQKuqqqqqqkRAAAAAAACgREAAAAAAAIBEQAAAAAAAYERAVVVVVVVVREAAAAAAAEBEQAAAAAAAAERAq6qqqqqqQ0AAAAAAAMBDQAAAAAAAgENAVVVVVVV1Q0CrqqqqqmpDQAAAAAAAYENAAAAAAABgQ0CrqqqqqkpDQAAAAAAAQENAVVVVVVUVQ0BVVVVVVfVCQAAAAAAAoEJAVVVVVVWVQkA=\",\"dtype\":\"float64\",\"shape\":[28]}},\"selected\":{\"id\":\"2334\",\"type\":\"Selection\"},\"selection_policy\":{\"id\":\"2333\",\"type\":\"UnionRenderers\"}},\"id\":\"2298\",\"type\":\"ColumnDataSource\"},{\"attributes\":{},\"id\":\"2243\",\"type\":\"ResetTool\"},{\"attributes\":{\"callback\":null,\"data\":{\"x\":{\"__ndarray__\":\"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\",\"dtype\":\"float64\",\"shape\":[645]},\"y\":{\"__ndarray__\":\"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\",\"dtype\":\"float64\",\"shape\":[645]}},\"selected\":{\"id\":\"2425\",\"type\":\"Selection\"},\"selection_policy\":{\"id\":\"2424\",\"type\":\"UnionRenderers\"}},\"id\":\"2316\",\"type\":\"ColumnDataSource\"},{\"attributes\":{},\"id\":\"2334\",\"type\":\"Selection\"},{\"attributes\":{},\"id\":\"2225\",\"type\":\"LinearScale\"},{\"attributes\":{},\"id\":\"2279\",\"type\":\"UnionRenderers\"},{\"attributes\":{\"line_alpha\":0.1,\"line_color\":\"#1f77b4\",\"line_dash\":[6,4,2,4],\"x\":{\"field\":\"x\"},\"y\":{\"field\":\"y\"}},\"id\":\"2256\",\"type\":\"Line\"},{\"attributes\":{\"click_policy\":\"mute\",\"items\":[{\"id\":\"2267\",\"type\":\"LegendItem\"},{\"id\":\"2336\",\"type\":\"LegendItem\"}]},\"id\":\"2266\",\"type\":\"Legend\"},{\"attributes\":{\"fill_alpha\":{\"value\":0.9},\"fill_color\":{\"value\":\"red\"},\"line_alpha\":{\"value\":0.6},\"line_color\":{\"value\":\"red\"},\"size\":{\"units\":\"screen\",\"value\":6},\"x\":{\"field\":\"x\"},\"y\":{\"field\":\"y\"}},\"id\":\"2317\",\"type\":\"Circle\"},{\"attributes\":{\"ticker\":{\"id\":\"2230\",\"type\":\"BasicTicker\"}},\"id\":\"2233\",\"type\":\"Grid\"},{\"attributes\":{\"line_alpha\":0.1,\"line_color\":\"#1f77b4\",\"line_dash\":[6,4,2,4],\"x\":{\"field\":\"x\"},\"y\":{\"field\":\"y\"}},\"id\":\"2300\",\"type\":\"Line\"},{\"attributes\":{\"overlay\":{\"id\":\"2265\",\"type\":\"BoxAnnotation\"}},\"id\":\"2241\",\"type\":\"BoxZoomTool\"},{\"attributes\":{\"line_alpha\":0.2,\"line_color\":\"#1f77b4\",\"line_dash\":[6,4,2,4],\"x\":{\"field\":\"x\"},\"y\":{\"field\":\"y\"}},\"id\":\"2271\",\"type\":\"Line\"},{\"attributes\":{\"dimension\":1,\"ticker\":{\"id\":\"2235\",\"type\":\"BasicTicker\"}},\"id\":\"2238\",\"type\":\"Grid\"},{\"attributes\":{\"callback\":null,\"end\":22,\"start\":1.5},\"id\":\"2221\",\"type\":\"Range1d\"},{\"attributes\":{\"line_alpha\":0.2,\"line_color\":\"#1f77b4\",\"line_dash\":[6,4,2,4],\"x\":{\"field\":\"x\"},\"y\":{\"field\":\"y\"}},\"id\":\"2285\",\"type\":\"Line\"},{\"attributes\":{\"callback\":null,\"data\":{\"x\":{\"__ndarray__\":\"VVVVVVVVEEBVVVVVVVURQAAAAAAAACJAq6qqqqqqEkBVVVVVVVUUQFVVVVVVVRVAAAAAAAAAGEAAAAAAAAAYQAAAAAAAABdAq6qqqqqqGEAAAAAAAAAZQAAAAAAAABpAVVVVVVVVG0AAAAAAAAAdQAAAAAAAAB5AAAAAAAAAHkCrqqqqqqoeQAAAAAAAACBAAAAAAAAAIUCrqqqqqqohQAAAAAAAgCJAAAAAAACAI0AAAAAAAIAkQAAAAAAAgCVAq6qqqqqqJkAAAAAAAAAnQAAAAAAAgCdA\",\"dtype\":\"float64\",\"shape\":[27]},\"y\":{\"__ndarray__\":\"VVVVVVXVQkAAAAAAAMBCQAAAAAAAgENAq6qqqqqqQkBVVVVVVZVCQAAAAAAAgEJAAAAAAABgQkCrqqqqqipCQKuqqqqqCkJAq6qqqqoKQkCrqqqqqgpCQFVVVVVVFUJAq6qqqqoKQkAAAAAAAEBCQFVVVVVVFUJAAAAAAAAgQkBVVVVVVVVCQFVVVVVVdUJAAAAAAACAQkBVVVVVVZVCQFVVVVVVlUJAAAAAAADgQkAAAAAAAKBCQFVVVVVVlUJAq6qqqqqKQkCrqqqqqmpCQFVVVVVVlUJA\",\"dtype\":\"float64\",\"shape\":[27]}},\"selected\":{\"id\":\"2280\",\"type\":\"Selection\"},\"selection_policy\":{\"id\":\"2279\",\"type\":\"UnionRenderers\"}},\"id\":\"2254\",\"type\":\"ColumnDataSource\"},{\"attributes\":{\"label\":{\"value\":\"Boundary in Xi cooridnate\"},\"renderers\":[{\"id\":\"2258\",\"type\":\"GlyphRenderer\"},{\"id\":\"2272\",\"type\":\"GlyphRenderer\"},{\"id\":\"2286\",\"type\":\"GlyphRenderer\"},{\"id\":\"2302\",\"type\":\"GlyphRenderer\"}]},\"id\":\"2267\",\"type\":\"LegendItem\"},{\"attributes\":{\"line_dash\":[6,4,2,4],\"x\":{\"field\":\"x\"},\"y\":{\"field\":\"y\"}},\"id\":\"2299\",\"type\":\"Line\"},{\"attributes\":{\"data_source\":{\"id\":\"2282\",\"type\":\"ColumnDataSource\"},\"glyph\":{\"id\":\"2283\",\"type\":\"Line\"},\"hover_glyph\":null,\"muted_glyph\":{\"id\":\"2285\",\"type\":\"Line\"},\"nonselection_glyph\":{\"id\":\"2284\",\"type\":\"Line\"},\"selection_glyph\":null,\"view\":{\"id\":\"2287\",\"type\":\"CDSView\"}},\"id\":\"2286\",\"type\":\"GlyphRenderer\"},{\"attributes\":{\"fill_alpha\":{\"value\":0.1},\"fill_color\":{\"value\":\"#1f77b4\"},\"line_alpha\":{\"value\":0.1},\"line_color\":{\"value\":\"#1f77b4\"},\"size\":{\"units\":\"screen\",\"value\":6},\"x\":{\"field\":\"x\"},\"y\":{\"field\":\"y\"}},\"id\":\"2318\",\"type\":\"Circle\"},{\"attributes\":{\"line_dash\":[6,4,2,4],\"x\":{\"field\":\"x\"},\"y\":{\"field\":\"y\"}},\"id\":\"2269\",\"type\":\"Line\"},{\"attributes\":{\"fill_alpha\":{\"value\":0.2},\"fill_color\":{\"value\":\"#1f77b4\"},\"line_alpha\":{\"value\":0.2},\"line_color\":{\"value\":\"#1f77b4\"},\"size\":{\"units\":\"screen\",\"value\":6},\"x\":{\"field\":\"x\"},\"y\":{\"field\":\"y\"}},\"id\":\"2319\",\"type\":\"Circle\"},{\"attributes\":{},\"id\":\"2425\",\"type\":\"Selection\"},{\"attributes\":{\"callback\":null,\"data\":{\"x\":{\"__ndarray__\":\"AAAAAAAAFkAAAAAAAAAWQKuqqqqqqhZAAAAAAAAAFkBVVVVVVVUVQAAAAAAAABZAq6qqqqqqFkCrqqqqqqoWQKuqqqqqqhZAAAAAAAAAFUCrqqqqqqoWQAAAAAAAABlAAAAAAAAAGkAAAAAAAAAbQAAAAAAAgCBAAAAAAAAAIkCrqqqqqqokQFVVVVVVVSdAAAAAAACAJ0AAAAAAAAAoQAAAAAAAACpAVVVVVVVVKkAAAAAAAAArQKuqqqqqqitAq6qqqqqqLEBVVVVVVVUuQFVVVVVVVS5AAAAAAAAAKEA=\",\"dtype\":\"float64\",\"shape\":[28]},\"y\":{\"__ndarray__\":\"AAAAAAAgRUAAAAAAAEBFQAAAAAAAYEVAAAAAAACgRUBVVVVVVdVFQAAAAAAAAEZAq6qqqqoqRkBVVVVVVVVGQAAAAAAAgEZAVVVVVVWVRkBVVVVVVZVGQAAAAAAAwEZAAAAAAADARkAAAAAAAIBGQKuqqqqq6kZAAAAAAADgRkBVVVVVVdVGQAAAAAAA4EZAVVVVVVW1RkBVVVVVVZVGQAAAAAAAwEZAVVVVVVVVRkAAAAAAACBGQKuqqqqqCkZAAAAAAACARkCrqqqqqopGQKuqqqqq6kZAVVVVVVW1QkA=\",\"dtype\":\"float64\",\"shape\":[28]}},\"selected\":{\"id\":\"2314\",\"type\":\"Selection\"},\"selection_policy\":{\"id\":\"2313\",\"type\":\"UnionRenderers\"}},\"id\":\"2282\",\"type\":\"ColumnDataSource\"},{\"attributes\":{\"line_alpha\":0.1,\"line_color\":\"#1f77b4\",\"line_dash\":[6,4,2,4],\"x\":{\"field\":\"x\"},\"y\":{\"field\":\"y\"}},\"id\":\"2284\",\"type\":\"Line\"}],\"root_ids\":[\"2219\"]},\"title\":\"Bokeh Application\",\"version\":\"1.3.4\"}};\n",
       "  var render_items = [{\"docid\":\"60524647-f778-4b77-ba4d-826ac8ce2e1c\",\"roots\":{\"2219\":\"f463bb7a-dda1-4206-a5f0-ec20ff7a89b8\"}}];\n",
       "  root.Bokeh.embed.embed_items_notebook(docs_json, render_items);\n",
       "\n",
       "  }\n",
       "  if (root.Bokeh !== undefined) {\n",
       "    embed_document(root);\n",
       "  } else {\n",
       "    var attempts = 0;\n",
       "    var timer = setInterval(function(root) {\n",
       "      if (root.Bokeh !== undefined) {\n",
       "        embed_document(root);\n",
       "        clearInterval(timer);\n",
       "      }\n",
       "      attempts++;\n",
       "      if (attempts > 100) {\n",
       "        console.log(\"Bokeh: ERROR: Unable to run BokehJS code because BokehJS library is missing\");\n",
       "        clearInterval(timer);\n",
       "      }\n",
       "    }, 10, root)\n",
       "  }\n",
       "})(window);"
      ],
      "application/vnd.bokehjs_exec.v0+json": ""
     },
     "metadata": {
      "application/vnd.bokehjs_exec.v0+json": {
       "id": "2219"
      }
     },
     "output_type": "display_data"
    }
   ],
   "source": [
    "fig.plot_recension(fs_dict,gs_dict,df_dict,select_recension='Xi')"
   ]
  },
  {
   "cell_type": "markdown",
   "metadata": {},
   "source": [
    "## Comparison between the two recensions"
   ]
  },
  {
   "cell_type": "markdown",
   "metadata": {},
   "source": [
    "[map comparison]"
   ]
  },
  {
   "cell_type": "code",
   "execution_count": 84,
   "metadata": {},
   "outputs": [
    {
     "data": {
      "text/html": [
       "\n",
       "\n",
       "\n",
       "\n",
       "\n",
       "\n",
       "  <div class=\"bk-root\" id=\"12f39c05-6174-4e70-8c52-10268ad12564\" data-root-id=\"2523\"></div>\n"
      ]
     },
     "metadata": {},
     "output_type": "display_data"
    },
    {
     "data": {
      "application/javascript": [
       "(function(root) {\n",
       "  function embed_document(root) {\n",
       "    \n",
       "  var docs_json = {\"506ebd79-3eb6-4192-8740-3184a7363325\":{\"roots\":{\"references\":[{\"attributes\":{\"below\":[{\"id\":\"2533\",\"type\":\"LinearAxis\"}],\"center\":[{\"id\":\"2537\",\"type\":\"Grid\"},{\"id\":\"2542\",\"type\":\"Grid\"},{\"id\":\"2569\",\"type\":\"Legend\"}],\"left\":[{\"id\":\"2538\",\"type\":\"LinearAxis\"}],\"plot_height\":800,\"plot_width\":1000,\"renderers\":[{\"id\":\"2561\",\"type\":\"GlyphRenderer\"},{\"id\":\"2574\",\"type\":\"GlyphRenderer\"},{\"id\":\"2587\",\"type\":\"GlyphRenderer\"},{\"id\":\"2602\",\"type\":\"GlyphRenderer\"},{\"id\":\"2620\",\"type\":\"GlyphRenderer\"},{\"id\":\"2640\",\"type\":\"GlyphRenderer\"},{\"id\":\"2662\",\"type\":\"GlyphRenderer\"},{\"id\":\"2685\",\"type\":\"GlyphRenderer\"},{\"id\":\"2710\",\"type\":\"GlyphRenderer\"},{\"id\":\"2737\",\"type\":\"GlyphRenderer\"}],\"title\":null,\"toolbar\":{\"id\":\"2550\",\"type\":\"Toolbar\"},\"x_range\":{\"id\":\"2525\",\"type\":\"Range1d\"},\"x_scale\":{\"id\":\"2529\",\"type\":\"LinearScale\"},\"y_range\":{\"id\":\"2527\",\"type\":\"Range1d\"},\"y_scale\":{\"id\":\"2531\",\"type\":\"LinearScale\"}},\"id\":\"2523\",\"subtype\":\"Figure\",\"type\":\"Plot\"},{\"attributes\":{},\"id\":\"2529\",\"type\":\"LinearScale\"},{\"attributes\":{},\"id\":\"2878\",\"type\":\"Selection\"},{\"attributes\":{\"source\":{\"id\":\"2682\",\"type\":\"ColumnDataSource\"}},\"id\":\"2686\",\"type\":\"CDSView\"},{\"attributes\":{},\"id\":\"2543\",\"type\":\"PanTool\"},{\"attributes\":{\"data_source\":{\"id\":\"2707\",\"type\":\"ColumnDataSource\"},\"glyph\":{\"id\":\"2708\",\"type\":\"Line\"},\"hover_glyph\":null,\"muted_glyph\":null,\"nonselection_glyph\":{\"id\":\"2709\",\"type\":\"Line\"},\"selection_glyph\":null,\"view\":{\"id\":\"2711\",\"type\":\"CDSView\"}},\"id\":\"2710\",\"type\":\"GlyphRenderer\"},{\"attributes\":{\"line_alpha\":0.1,\"line_color\":\"#1f77b4\",\"x\":{\"field\":\"x\"},\"y\":{\"field\":\"y\"}},\"id\":\"2560\",\"type\":\"Line\"},{\"attributes\":{\"line_alpha\":0.1,\"line_color\":\"#1f77b4\",\"line_dash\":[6,4,2,4],\"x\":{\"field\":\"x\"},\"y\":{\"field\":\"y\"}},\"id\":\"2684\",\"type\":\"Line\"},{\"attributes\":{\"overlay\":{\"id\":\"2568\",\"type\":\"BoxAnnotation\"}},\"id\":\"2545\",\"type\":\"BoxZoomTool\"},{\"attributes\":{},\"id\":\"2544\",\"type\":\"WheelZoomTool\"},{\"attributes\":{\"callback\":null,\"data\":{\"x\":{\"__ndarray__\":\"VVVVVVVVEEBVVVVVVVURQAAAAAAAACJAq6qqqqqqEkBVVVVVVVUUQFVVVVVVVRVAAAAAAAAAGEAAAAAAAAAYQAAAAAAAABhAAAAAAAAAF0CrqqqqqqoYQAAAAAAAABlAAAAAAAAAGkCrqqqqqqoaQAAAAAAAAB1AAAAAAAAAHkAAAAAAAAAeQKuqqqqqqh5AAAAAAAAAIEAAAAAAAAAhQKuqqqqqqiFAAAAAAACAIkAAAAAAAIAjQAAAAAAAgCRAq6qqqqqqJUAAAAAAAIAlQKuqqqqqqiZAAAAAAAAAJ0AAAAAAAIAnQA==\",\"dtype\":\"float64\",\"shape\":[29]},\"y\":{\"__ndarray__\":\"VVVVVVXVQkAAAAAAAMBCQAAAAAAAgENAq6qqqqqqQkBVVVVVVZVCQAAAAAAAgEJAAAAAAABgQkCrqqqqqmpCQKuqqqqqKkJAAAAAAAAAQkBVVVVVVRVCQFVVVVVVVUJAAAAAAABAQkCrqqqqqipCQFVVVVVVFUJAVVVVVVUVQkAAAAAAACBCQFVVVVVVVUJAq6qqqqoKQkAAAAAAAIBCQAAAAAAAwEJAAAAAAACgQkAAAAAAAKBCQAAAAAAAoEJAq6qqqqqKQkBVVVVVVZVCQKuqqqqqikJAq6qqqqoqQkBVVVVVVZVCQA==\",\"dtype\":\"float64\",\"shape\":[29]}},\"selected\":{\"id\":\"2582\",\"type\":\"Selection\"},\"selection_policy\":{\"id\":\"2581\",\"type\":\"UnionRenderers\"}},\"id\":\"2558\",\"type\":\"ColumnDataSource\"},{\"attributes\":{},\"id\":\"2877\",\"type\":\"UnionRenderers\"},{\"attributes\":{\"data_source\":{\"id\":\"2682\",\"type\":\"ColumnDataSource\"},\"glyph\":{\"id\":\"2683\",\"type\":\"Line\"},\"hover_glyph\":null,\"muted_glyph\":null,\"nonselection_glyph\":{\"id\":\"2684\",\"type\":\"Line\"},\"selection_glyph\":null,\"view\":{\"id\":\"2686\",\"type\":\"CDSView\"}},\"id\":\"2685\",\"type\":\"GlyphRenderer\"},{\"attributes\":{\"line_dash\":[6,4,2,4],\"x\":{\"field\":\"x\"},\"y\":{\"field\":\"y\"}},\"id\":\"2708\",\"type\":\"Line\"},{\"attributes\":{\"label\":{\"value\":\"Localities in Xi\"},\"renderers\":[{\"id\":\"2737\",\"type\":\"GlyphRenderer\"}]},\"id\":\"2763\",\"type\":\"LegendItem\"},{\"attributes\":{\"ticker\":{\"id\":\"2534\",\"type\":\"BasicTicker\"}},\"id\":\"2537\",\"type\":\"Grid\"},{\"attributes\":{\"line_color\":\"grey\",\"x\":{\"field\":\"x\"},\"y\":{\"field\":\"y\"}},\"id\":\"2559\",\"type\":\"Line\"},{\"attributes\":{\"callback\":null,\"data\":{\"x\":{\"__ndarray__\":\"VVVVVVVVNEAAAAAAAIAzQAAAAAAAADNAAAAAAADAMkAAAAAAAIAyQAAAAAAAQDJAAAAAAAAAMkAAAAAAAIAyQFVVVVVV1TFAAAAAAACAMUAAAAAAAEAxQFVVVVVV1TBAVVVVVVVVMEAAAAAAAAAwQAAAAAAAAC9Aq6qqqqqqL0CrqqqqqiouQAAAAAAAAC5AAAAAAAAALUAAAAAAAAAsQAAAAAAAACtAAAAAAAAAKkAAAAAAAAApQAAAAAAAAClAAAAAAAAAKUAAAAAAAIAoQAAAAAAAAChAAAAAAACAJ0A=\",\"dtype\":\"float64\",\"shape\":[28]},\"y\":{\"__ndarray__\":\"q6qqqqoqRUAAAAAAAEBFQAAAAAAAQEVAq6qqqqoqRUBVVVVVVRVFQAAAAAAAAEVAAAAAAADgRECrqqqqqqpEQKuqqqqqqkRAAAAAAACgREAAAAAAAIBEQAAAAAAAYERAVVVVVVVVREAAAAAAAEBEQAAAAAAAAERAq6qqqqqqQ0AAAAAAAMBDQAAAAAAAgENAVVVVVVV1Q0CrqqqqqmpDQAAAAAAAYENAAAAAAABgQ0CrqqqqqkpDQAAAAAAAQENAVVVVVVUVQ0BVVVVVVfVCQAAAAAAAoEJAVVVVVVWVQkA=\",\"dtype\":\"float64\",\"shape\":[28]}},\"selected\":{\"id\":\"2761\",\"type\":\"Selection\"},\"selection_policy\":{\"id\":\"2760\",\"type\":\"UnionRenderers\"}},\"id\":\"2707\",\"type\":\"ColumnDataSource\"},{\"attributes\":{},\"id\":\"2705\",\"type\":\"Selection\"},{\"attributes\":{\"formatter\":{\"id\":\"2564\",\"type\":\"BasicTickFormatter\"},\"ticker\":{\"id\":\"2539\",\"type\":\"BasicTicker\"}},\"id\":\"2538\",\"type\":\"LinearAxis\"},{\"attributes\":{\"source\":{\"id\":\"2707\",\"type\":\"ColumnDataSource\"}},\"id\":\"2711\",\"type\":\"CDSView\"},{\"attributes\":{\"data_source\":{\"id\":\"2734\",\"type\":\"ColumnDataSource\"},\"glyph\":{\"id\":\"2735\",\"type\":\"Circle\"},\"hover_glyph\":null,\"muted_glyph\":null,\"nonselection_glyph\":{\"id\":\"2736\",\"type\":\"Circle\"},\"selection_glyph\":null,\"view\":{\"id\":\"2738\",\"type\":\"CDSView\"}},\"id\":\"2737\",\"type\":\"GlyphRenderer\"},{\"attributes\":{\"dimension\":1,\"ticker\":{\"id\":\"2539\",\"type\":\"BasicTicker\"}},\"id\":\"2542\",\"type\":\"Grid\"},{\"attributes\":{\"line_alpha\":0.1,\"line_color\":\"#1f77b4\",\"line_dash\":[6,4,2,4],\"x\":{\"field\":\"x\"},\"y\":{\"field\":\"y\"}},\"id\":\"2709\",\"type\":\"Line\"},{\"attributes\":{},\"id\":\"2761\",\"type\":\"Selection\"},{\"attributes\":{},\"id\":\"2704\",\"type\":\"UnionRenderers\"},{\"attributes\":{},\"id\":\"2539\",\"type\":\"BasicTicker\"},{\"attributes\":{},\"id\":\"2731\",\"type\":\"UnionRenderers\"},{\"attributes\":{},\"id\":\"2534\",\"type\":\"BasicTicker\"},{\"attributes\":{},\"id\":\"2548\",\"type\":\"HelpTool\"},{\"attributes\":{},\"id\":\"2760\",\"type\":\"UnionRenderers\"},{\"attributes\":{\"formatter\":{\"id\":\"2566\",\"type\":\"BasicTickFormatter\"},\"ticker\":{\"id\":\"2534\",\"type\":\"BasicTicker\"}},\"id\":\"2533\",\"type\":\"LinearAxis\"},{\"attributes\":{\"callback\":null,\"data\":{\"x\":{\"__ndarray__\":\"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\",\"dtype\":\"float64\",\"shape\":[645]},\"y\":{\"__ndarray__\":\"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\",\"dtype\":\"float64\",\"shape\":[645]}},\"selected\":{\"id\":\"2878\",\"type\":\"Selection\"},\"selection_policy\":{\"id\":\"2877\",\"type\":\"UnionRenderers\"}},\"id\":\"2734\",\"type\":\"ColumnDataSource\"},{\"attributes\":{},\"id\":\"2732\",\"type\":\"Selection\"},{\"attributes\":{},\"id\":\"2633\",\"type\":\"UnionRenderers\"},{\"attributes\":{},\"id\":\"2547\",\"type\":\"ResetTool\"},{\"attributes\":{},\"id\":\"2531\",\"type\":\"LinearScale\"},{\"attributes\":{\"fill_alpha\":{\"value\":0.1},\"fill_color\":{\"value\":\"#1f77b4\"},\"line_alpha\":{\"value\":0.1},\"line_color\":{\"value\":\"#1f77b4\"},\"size\":{\"units\":\"screen\",\"value\":6},\"x\":{\"field\":\"x\"},\"y\":{\"field\":\"y\"}},\"id\":\"2736\",\"type\":\"Circle\"},{\"attributes\":{\"fill_alpha\":{\"value\":0.9},\"fill_color\":{\"value\":\"red\"},\"line_alpha\":{\"value\":0.6},\"line_color\":{\"value\":\"red\"},\"size\":{\"units\":\"screen\",\"value\":6},\"x\":{\"field\":\"x\"},\"y\":{\"field\":\"y\"}},\"id\":\"2735\",\"type\":\"Circle\"},{\"attributes\":{\"callback\":null,\"end\":47,\"start\":35.5},\"id\":\"2527\",\"type\":\"Range1d\"},{\"attributes\":{},\"id\":\"2546\",\"type\":\"SaveTool\"},{\"attributes\":{\"source\":{\"id\":\"2734\",\"type\":\"ColumnDataSource\"}},\"id\":\"2738\",\"type\":\"CDSView\"},{\"attributes\":{\"source\":{\"id\":\"2584\",\"type\":\"ColumnDataSource\"}},\"id\":\"2588\",\"type\":\"CDSView\"},{\"attributes\":{},\"id\":\"2597\",\"type\":\"Selection\"},{\"attributes\":{},\"id\":\"2596\",\"type\":\"UnionRenderers\"},{\"attributes\":{},\"id\":\"2656\",\"type\":\"Selection\"},{\"attributes\":{\"callback\":null,\"tooltips\":[[\"index\",\"$index\"]]},\"id\":\"2549\",\"type\":\"HoverTool\"},{\"attributes\":{\"active_drag\":\"auto\",\"active_inspect\":\"auto\",\"active_multi\":null,\"active_scroll\":\"auto\",\"active_tap\":\"auto\",\"tools\":[{\"id\":\"2543\",\"type\":\"PanTool\"},{\"id\":\"2544\",\"type\":\"WheelZoomTool\"},{\"id\":\"2545\",\"type\":\"BoxZoomTool\"},{\"id\":\"2546\",\"type\":\"SaveTool\"},{\"id\":\"2547\",\"type\":\"ResetTool\"},{\"id\":\"2548\",\"type\":\"HelpTool\"},{\"id\":\"2549\",\"type\":\"HoverTool\"}]},\"id\":\"2550\",\"type\":\"Toolbar\"},{\"attributes\":{},\"id\":\"2634\",\"type\":\"Selection\"},{\"attributes\":{\"data_source\":{\"id\":\"2584\",\"type\":\"ColumnDataSource\"},\"glyph\":{\"id\":\"2585\",\"type\":\"Line\"},\"hover_glyph\":null,\"muted_glyph\":null,\"nonselection_glyph\":{\"id\":\"2586\",\"type\":\"Line\"},\"selection_glyph\":null,\"view\":{\"id\":\"2588\",\"type\":\"CDSView\"}},\"id\":\"2587\",\"type\":\"GlyphRenderer\"},{\"attributes\":{},\"id\":\"2613\",\"type\":\"UnionRenderers\"},{\"attributes\":{\"data_source\":{\"id\":\"2558\",\"type\":\"ColumnDataSource\"},\"glyph\":{\"id\":\"2559\",\"type\":\"Line\"},\"hover_glyph\":null,\"muted_glyph\":null,\"nonselection_glyph\":{\"id\":\"2560\",\"type\":\"Line\"},\"selection_glyph\":null,\"view\":{\"id\":\"2562\",\"type\":\"CDSView\"}},\"id\":\"2561\",\"type\":\"GlyphRenderer\"},{\"attributes\":{},\"id\":\"2564\",\"type\":\"BasicTickFormatter\"},{\"attributes\":{\"callback\":null,\"data\":{\"x\":{\"__ndarray__\":\"VVVVVVVVEEBVVVVVVVURQAAAAAAAACJAq6qqqqqqEkBVVVVVVVUUQFVVVVVVVRVAAAAAAAAAGEAAAAAAAAAYQAAAAAAAABdAq6qqqqqqGEAAAAAAAAAZQAAAAAAAABpAVVVVVVVVG0AAAAAAAAAdQAAAAAAAAB5AAAAAAAAAHkCrqqqqqqoeQAAAAAAAACBAAAAAAAAAIUCrqqqqqqohQAAAAAAAgCJAAAAAAACAI0AAAAAAAIAkQAAAAAAAgCVAq6qqqqqqJkAAAAAAAAAnQAAAAAAAgCdA\",\"dtype\":\"float64\",\"shape\":[27]},\"y\":{\"__ndarray__\":\"VVVVVVXVQkAAAAAAAMBCQAAAAAAAgENAq6qqqqqqQkBVVVVVVZVCQAAAAAAAgEJAAAAAAABgQkCrqqqqqipCQKuqqqqqCkJAq6qqqqoKQkCrqqqqqgpCQFVVVVVVFUJAq6qqqqoKQkAAAAAAAEBCQFVVVVVVFUJAAAAAAAAgQkBVVVVVVVVCQFVVVVVVdUJAAAAAAACAQkBVVVVVVZVCQFVVVVVVlUJAAAAAAADgQkAAAAAAAKBCQFVVVVVVlUJAq6qqqqqKQkCrqqqqqmpCQFVVVVVVlUJA\",\"dtype\":\"float64\",\"shape\":[27]}},\"selected\":{\"id\":\"2680\",\"type\":\"Selection\"},\"selection_policy\":{\"id\":\"2679\",\"type\":\"UnionRenderers\"}},\"id\":\"2637\",\"type\":\"ColumnDataSource\"},{\"attributes\":{\"data_source\":{\"id\":\"2659\",\"type\":\"ColumnDataSource\"},\"glyph\":{\"id\":\"2660\",\"type\":\"Line\"},\"hover_glyph\":null,\"muted_glyph\":null,\"nonselection_glyph\":{\"id\":\"2661\",\"type\":\"Line\"},\"selection_glyph\":null,\"view\":{\"id\":\"2663\",\"type\":\"CDSView\"}},\"id\":\"2662\",\"type\":\"GlyphRenderer\"},{\"attributes\":{\"source\":{\"id\":\"2558\",\"type\":\"ColumnDataSource\"}},\"id\":\"2562\",\"type\":\"CDSView\"},{\"attributes\":{},\"id\":\"2566\",\"type\":\"BasicTickFormatter\"},{\"attributes\":{},\"id\":\"2655\",\"type\":\"UnionRenderers\"},{\"attributes\":{\"callback\":null,\"data\":{\"x\":{\"__ndarray__\":\"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\",\"dtype\":\"float64\",\"shape\":[640]},\"y\":{\"__ndarray__\":\"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\",\"dtype\":\"float64\",\"shape\":[640]}},\"selected\":{\"id\":\"2656\",\"type\":\"Selection\"},\"selection_policy\":{\"id\":\"2655\",\"type\":\"UnionRenderers\"}},\"id\":\"2616\",\"type\":\"ColumnDataSource\"},{\"attributes\":{\"line_alpha\":0.1,\"line_color\":\"#1f77b4\",\"x\":{\"field\":\"x\"},\"y\":{\"field\":\"y\"}},\"id\":\"2601\",\"type\":\"Line\"},{\"attributes\":{\"line_alpha\":0.1,\"line_color\":\"#1f77b4\",\"x\":{\"field\":\"x\"},\"y\":{\"field\":\"y\"}},\"id\":\"2586\",\"type\":\"Line\"},{\"attributes\":{\"line_dash\":[6,4,2,4],\"x\":{\"field\":\"x\"},\"y\":{\"field\":\"y\"}},\"id\":\"2638\",\"type\":\"Line\"},{\"attributes\":{\"callback\":null,\"data\":{\"x\":{\"__ndarray__\":\"VVVVVVVVEEBVVVVVVVUNQAAAAAAAAAhAAAAAAAAABEAAAAAAAAAUQFVVVVVVVRRAq6qqqqqqEUAAAAAAAAARQKuqqqqqqhRAAAAAAAAAFkAAAAAAAAAiQAAAAAAAABRAq6qqqqqqFECrqqqqqqoUQFVVVVVVVRVA\",\"dtype\":\"float64\",\"shape\":[15]},\"y\":{\"__ndarray__\":\"VVVVVVXVQkAAAAAAAOBCQKuqqqqq6kJAAAAAAAAgQ0AAAAAAAIBDQFVVVVVVtUNAAAAAAADAQ0AAAAAAAOBDQAAAAAAAIERAVVVVVVUVREBVVVVVVRVEQFVVVVVVVURAq6qqqqpqRECrqqqqqqpEQKuqqqqq6kRA\",\"dtype\":\"float64\",\"shape\":[15]}},\"selected\":{\"id\":\"2597\",\"type\":\"Selection\"},\"selection_policy\":{\"id\":\"2596\",\"type\":\"UnionRenderers\"}},\"id\":\"2571\",\"type\":\"ColumnDataSource\"},{\"attributes\":{\"line_dash\":[6,4,2,4],\"x\":{\"field\":\"x\"},\"y\":{\"field\":\"y\"}},\"id\":\"2683\",\"type\":\"Line\"},{\"attributes\":{\"line_alpha\":0.1,\"line_color\":\"#1f77b4\",\"line_dash\":[6,4,2,4],\"x\":{\"field\":\"x\"},\"y\":{\"field\":\"y\"}},\"id\":\"2639\",\"type\":\"Line\"},{\"attributes\":{\"source\":{\"id\":\"2637\",\"type\":\"ColumnDataSource\"}},\"id\":\"2641\",\"type\":\"CDSView\"},{\"attributes\":{\"source\":{\"id\":\"2599\",\"type\":\"ColumnDataSource\"}},\"id\":\"2603\",\"type\":\"CDSView\"},{\"attributes\":{\"line_color\":\"grey\",\"x\":{\"field\":\"x\"},\"y\":{\"field\":\"y\"}},\"id\":\"2600\",\"type\":\"Line\"},{\"attributes\":{\"callback\":null,\"data\":{\"x\":{\"__ndarray__\":\"AAAAAAAAFkAAAAAAAAAWQKuqqqqqqhZAAAAAAAAAFkBVVVVVVVUVQAAAAAAAABZAq6qqqqqqFkCrqqqqqqoWQKuqqqqqqhZAAAAAAAAAFUCrqqqqqqoWQAAAAAAAABlAAAAAAAAAGkAAAAAAAAAbQAAAAAAAgCBAAAAAAAAAIkCrqqqqqqokQFVVVVVVVSdAAAAAAACAJ0AAAAAAAAAoQAAAAAAAACpAVVVVVVVVKkAAAAAAAAArQKuqqqqqqitAq6qqqqqqLEBVVVVVVVUuQFVVVVVVVS5AAAAAAAAAKEA=\",\"dtype\":\"float64\",\"shape\":[28]},\"y\":{\"__ndarray__\":\"AAAAAAAgRUAAAAAAAEBFQAAAAAAAYEVAAAAAAACgRUBVVVVVVdVFQAAAAAAAAEZAq6qqqqoqRkBVVVVVVVVGQAAAAAAAgEZAVVVVVVWVRkBVVVVVVZVGQAAAAAAAwEZAAAAAAADARkAAAAAAAIBGQKuqqqqq6kZAAAAAAADgRkBVVVVVVdVGQAAAAAAA4EZAVVVVVVW1RkBVVVVVVZVGQAAAAAAAwEZAVVVVVVVVRkAAAAAAACBGQKuqqqqqCkZAAAAAAACARkCrqqqqqopGQKuqqqqq6kZAVVVVVVW1QkA=\",\"dtype\":\"float64\",\"shape\":[28]}},\"selected\":{\"id\":\"2732\",\"type\":\"Selection\"},\"selection_policy\":{\"id\":\"2731\",\"type\":\"UnionRenderers\"}},\"id\":\"2682\",\"type\":\"ColumnDataSource\"},{\"attributes\":{\"data_source\":{\"id\":\"2599\",\"type\":\"ColumnDataSource\"},\"glyph\":{\"id\":\"2600\",\"type\":\"Line\"},\"hover_glyph\":null,\"muted_glyph\":null,\"nonselection_glyph\":{\"id\":\"2601\",\"type\":\"Line\"},\"selection_glyph\":null,\"view\":{\"id\":\"2603\",\"type\":\"CDSView\"}},\"id\":\"2602\",\"type\":\"GlyphRenderer\"},{\"attributes\":{\"data_source\":{\"id\":\"2637\",\"type\":\"ColumnDataSource\"},\"glyph\":{\"id\":\"2638\",\"type\":\"Line\"},\"hover_glyph\":null,\"muted_glyph\":null,\"nonselection_glyph\":{\"id\":\"2639\",\"type\":\"Line\"},\"selection_glyph\":null,\"view\":{\"id\":\"2641\",\"type\":\"CDSView\"}},\"id\":\"2640\",\"type\":\"GlyphRenderer\"},{\"attributes\":{},\"id\":\"2680\",\"type\":\"Selection\"},{\"attributes\":{\"line_color\":\"grey\",\"x\":{\"field\":\"x\"},\"y\":{\"field\":\"y\"}},\"id\":\"2572\",\"type\":\"Line\"},{\"attributes\":{},\"id\":\"2614\",\"type\":\"Selection\"},{\"attributes\":{\"label\":{\"value\":\"Localities in Omega\"},\"renderers\":[{\"id\":\"2620\",\"type\":\"GlyphRenderer\"}]},\"id\":\"2636\",\"type\":\"LegendItem\"},{\"attributes\":{\"click_policy\":\"hide\",\"items\":[{\"id\":\"2570\",\"type\":\"LegendItem\"},{\"id\":\"2636\",\"type\":\"LegendItem\"},{\"id\":\"2658\",\"type\":\"LegendItem\"},{\"id\":\"2763\",\"type\":\"LegendItem\"}]},\"id\":\"2569\",\"type\":\"Legend\"},{\"attributes\":{\"callback\":null,\"data\":{\"x\":{\"__ndarray__\":\"VVVVVVVVNEAAAAAAAIAzQAAAAAAAADNAAAAAAADAMkAAAAAAAIAyQAAAAAAAQDJAAAAAAAAAMkAAAAAAAIAyQFVVVVVV1TFAAAAAAACAMUAAAAAAAEAxQFVVVVVV1TBAVVVVVVVVMEAAAAAAAAAwQAAAAAAAAC9AVVVVVVXVL0BVVVVVVVUvQAAAAAAAAC5AVVVVVVVVLUAAAAAAAAAsQAAAAAAAACtAAAAAAAAAKkBVVVVVVVUpQAAAAAAAAClAVVVVVVXVKUAAAAAAAIAoQFVVVVVVVShAAAAAAAAAKEAAAAAAAIAnQA==\",\"dtype\":\"float64\",\"shape\":[29]},\"y\":{\"__ndarray__\":\"q6qqqqoqRUAAAAAAAEBFQAAAAAAAQEVAq6qqqqoqRUBVVVVVVRVFQAAAAAAAAEVAAAAAAADgREAAAAAAAMBEQKuqqqqqqkRAAAAAAACAREAAAAAAAIBEQAAAAAAAYERAVVVVVVVVREAAAAAAAEBEQAAAAAAAAERAVVVVVVXVQ0AAAAAAAMBDQAAAAAAAgENAVVVVVVV1Q0CrqqqqqipDQAAAAAAAYENAAAAAAABgQ0CrqqqqqkpDQAAAAAAAQENAq6qqqqoKQ0BVVVVVVfVCQAAAAAAAwEJAAAAAAACgQkBVVVVVVZVCQA==\",\"dtype\":\"float64\",\"shape\":[29]}},\"selected\":{\"id\":\"2634\",\"type\":\"Selection\"},\"selection_policy\":{\"id\":\"2633\",\"type\":\"UnionRenderers\"}},\"id\":\"2599\",\"type\":\"ColumnDataSource\"},{\"attributes\":{\"label\":{\"value\":\"Boundary in Xi cooridnate\"},\"renderers\":[{\"id\":\"2640\",\"type\":\"GlyphRenderer\"},{\"id\":\"2662\",\"type\":\"GlyphRenderer\"},{\"id\":\"2685\",\"type\":\"GlyphRenderer\"},{\"id\":\"2710\",\"type\":\"GlyphRenderer\"}]},\"id\":\"2658\",\"type\":\"LegendItem\"},{\"attributes\":{\"label\":{\"value\":\"Boundary in Omega cooridnate\"},\"renderers\":[{\"id\":\"2561\",\"type\":\"GlyphRenderer\"},{\"id\":\"2574\",\"type\":\"GlyphRenderer\"},{\"id\":\"2587\",\"type\":\"GlyphRenderer\"},{\"id\":\"2602\",\"type\":\"GlyphRenderer\"}]},\"id\":\"2570\",\"type\":\"LegendItem\"},{\"attributes\":{\"line_alpha\":0.1,\"line_color\":\"#1f77b4\",\"x\":{\"field\":\"x\"},\"y\":{\"field\":\"y\"}},\"id\":\"2573\",\"type\":\"Line\"},{\"attributes\":{\"fill_alpha\":{\"value\":0.1},\"fill_color\":{\"value\":\"#1f77b4\"},\"line_alpha\":{\"value\":0.1},\"line_color\":{\"value\":\"#1f77b4\"},\"size\":{\"units\":\"screen\",\"value\":6},\"x\":{\"field\":\"x\"},\"y\":{\"field\":\"y\"}},\"id\":\"2618\",\"type\":\"Circle\"},{\"attributes\":{\"fill_alpha\":{\"value\":0.9},\"fill_color\":{\"value\":\"blue\"},\"line_alpha\":{\"value\":0.6},\"line_color\":{\"value\":\"blue\"},\"size\":{\"units\":\"screen\",\"value\":6},\"x\":{\"field\":\"x\"},\"y\":{\"field\":\"y\"}},\"id\":\"2617\",\"type\":\"Circle\"},{\"attributes\":{\"line_dash\":[6,4,2,4],\"x\":{\"field\":\"x\"},\"y\":{\"field\":\"y\"}},\"id\":\"2660\",\"type\":\"Line\"},{\"attributes\":{\"callback\":null,\"end\":22,\"start\":1.5},\"id\":\"2525\",\"type\":\"Range1d\"},{\"attributes\":{\"callback\":null,\"data\":{\"x\":{\"__ndarray__\":\"VVVVVVVVEEAAAAAAAAAIQAAAAAAAAARAAAAAAAAAFEBVVVVVVVUUQKuqqqqqqhNAVVVVVVVVE0CrqqqqqqoUQKuqqqqqqhZAAAAAAAAAIkAAAAAAAAAUQKuqqqqqqhRAAAAAAAAAFkBVVVVVVVUVQAAAAAAAABZA\",\"dtype\":\"float64\",\"shape\":[15]},\"y\":{\"__ndarray__\":\"VVVVVVXVQkBVVVVVVfVCQAAAAAAAIENAAAAAAACAQ0BVVVVVVbVDQKuqqqqq6kNAq6qqqqrqQ0AAAAAAACBEQAAAAAAAQERAAAAAAABAREBVVVVVVVVFQKuqqqqqakRAq6qqqqqqRECrqqqqqupEQAAAAAAAIEVA\",\"dtype\":\"float64\",\"shape\":[15]}},\"selected\":{\"id\":\"2705\",\"type\":\"Selection\"},\"selection_policy\":{\"id\":\"2704\",\"type\":\"UnionRenderers\"}},\"id\":\"2659\",\"type\":\"ColumnDataSource\"},{\"attributes\":{\"bottom_units\":\"screen\",\"fill_alpha\":{\"value\":0.5},\"fill_color\":{\"value\":\"lightgrey\"},\"left_units\":\"screen\",\"level\":\"overlay\",\"line_alpha\":{\"value\":1.0},\"line_color\":{\"value\":\"black\"},\"line_dash\":[4,4],\"line_width\":{\"value\":2},\"render_mode\":\"css\",\"right_units\":\"screen\",\"top_units\":\"screen\"},\"id\":\"2568\",\"type\":\"BoxAnnotation\"},{\"attributes\":{\"source\":{\"id\":\"2571\",\"type\":\"ColumnDataSource\"}},\"id\":\"2575\",\"type\":\"CDSView\"},{\"attributes\":{\"data_source\":{\"id\":\"2571\",\"type\":\"ColumnDataSource\"},\"glyph\":{\"id\":\"2572\",\"type\":\"Line\"},\"hover_glyph\":null,\"muted_glyph\":null,\"nonselection_glyph\":{\"id\":\"2573\",\"type\":\"Line\"},\"selection_glyph\":null,\"view\":{\"id\":\"2575\",\"type\":\"CDSView\"}},\"id\":\"2574\",\"type\":\"GlyphRenderer\"},{\"attributes\":{\"fill_alpha\":{\"value\":0.2},\"fill_color\":{\"value\":\"#1f77b4\"},\"line_alpha\":{\"value\":0.2},\"line_color\":{\"value\":\"#1f77b4\"},\"size\":{\"units\":\"screen\",\"value\":6},\"x\":{\"field\":\"x\"},\"y\":{\"field\":\"y\"}},\"id\":\"2619\",\"type\":\"Circle\"},{\"attributes\":{\"source\":{\"id\":\"2659\",\"type\":\"ColumnDataSource\"}},\"id\":\"2663\",\"type\":\"CDSView\"},{\"attributes\":{\"source\":{\"id\":\"2616\",\"type\":\"ColumnDataSource\"}},\"id\":\"2621\",\"type\":\"CDSView\"},{\"attributes\":{},\"id\":\"2581\",\"type\":\"UnionRenderers\"},{\"attributes\":{},\"id\":\"2679\",\"type\":\"UnionRenderers\"},{\"attributes\":{\"line_color\":\"grey\",\"x\":{\"field\":\"x\"},\"y\":{\"field\":\"y\"}},\"id\":\"2585\",\"type\":\"Line\"},{\"attributes\":{},\"id\":\"2582\",\"type\":\"Selection\"},{\"attributes\":{\"callback\":null,\"data\":{\"x\":{\"__ndarray__\":\"VVVVVVVVFUAAAAAAAAAWQKuqqqqqqhRAq6qqqqqqFkAAAAAAAAAWQFVVVVVVVRVAAAAAAAAAFkCrqqqqqqoWQKuqqqqqqhZAVVVVVVVVFUAAAAAAAAAVQKuqqqqqqhZAAAAAAAAAGUAAAAAAAAAaQAAAAAAAAB1AAAAAAACAIEAAAAAAAAAiQKuqqqqqqiRAq6qqqqqqJkAAAAAAAIAnQAAAAAAAAChAAAAAAAAAKkBVVVVVVVUqQAAAAAAAACtAAAAAAACAK0CrqqqqqqosQFVVVVVVVS5AAAAAAAAALkAAAAAAAAAoQA==\",\"dtype\":\"float64\",\"shape\":[29]},\"y\":{\"__ndarray__\":\"q6qqqqrqREAAAAAAACBFQAAAAAAAQEVAAAAAAABgRUAAAAAAAKBFQFVVVVVV1UVAAAAAAAAARkCrqqqqqipGQFVVVVVVVUZAAAAAAACARkBVVVVVVZVGQAAAAAAAwEZAAAAAAADARkAAAAAAAMBGQAAAAAAAgEZAq6qqqqrqRkAAAAAAAOBGQFVVVVVV1UZAAAAAAADgRkBVVVVVVbVGQAAAAAAAwEZAVVVVVVXVRkBVVVVVVVVGQAAAAAAAIEZAVVVVVVU1RkAAAAAAAIBGQKuqqqqqikZAq6qqqqrqRkCrqqqqqqpCQA==\",\"dtype\":\"float64\",\"shape\":[29]}},\"selected\":{\"id\":\"2614\",\"type\":\"Selection\"},\"selection_policy\":{\"id\":\"2613\",\"type\":\"UnionRenderers\"}},\"id\":\"2584\",\"type\":\"ColumnDataSource\"},{\"attributes\":{\"data_source\":{\"id\":\"2616\",\"type\":\"ColumnDataSource\"},\"glyph\":{\"id\":\"2617\",\"type\":\"Circle\"},\"hover_glyph\":null,\"muted_glyph\":{\"id\":\"2619\",\"type\":\"Circle\"},\"nonselection_glyph\":{\"id\":\"2618\",\"type\":\"Circle\"},\"selection_glyph\":null,\"view\":{\"id\":\"2621\",\"type\":\"CDSView\"}},\"id\":\"2620\",\"type\":\"GlyphRenderer\"},{\"attributes\":{\"line_alpha\":0.1,\"line_color\":\"#1f77b4\",\"line_dash\":[6,4,2,4],\"x\":{\"field\":\"x\"},\"y\":{\"field\":\"y\"}},\"id\":\"2661\",\"type\":\"Line\"}],\"root_ids\":[\"2523\"]},\"title\":\"Bokeh Application\",\"version\":\"1.3.4\"}};\n",
       "  var render_items = [{\"docid\":\"506ebd79-3eb6-4192-8740-3184a7363325\",\"roots\":{\"2523\":\"12f39c05-6174-4e70-8c52-10268ad12564\"}}];\n",
       "  root.Bokeh.embed.embed_items_notebook(docs_json, render_items);\n",
       "\n",
       "  }\n",
       "  if (root.Bokeh !== undefined) {\n",
       "    embed_document(root);\n",
       "  } else {\n",
       "    var attempts = 0;\n",
       "    var timer = setInterval(function(root) {\n",
       "      if (root.Bokeh !== undefined) {\n",
       "        embed_document(root);\n",
       "        clearInterval(timer);\n",
       "      }\n",
       "      attempts++;\n",
       "      if (attempts > 100) {\n",
       "        console.log(\"Bokeh: ERROR: Unable to run BokehJS code because BokehJS library is missing\");\n",
       "        clearInterval(timer);\n",
       "      }\n",
       "    }, 10, root)\n",
       "  }\n",
       "})(window);"
      ],
      "application/vnd.bokehjs_exec.v0+json": ""
     },
     "metadata": {
      "application/vnd.bokehjs_exec.v0+json": {
       "id": "2523"
      }
     },
     "output_type": "display_data"
    }
   ],
   "source": [
    "fig.plot_recension_all(fs_dict,gs_dict,df_dict)"
   ]
  },
  {
   "cell_type": "code",
   "execution_count": null,
   "metadata": {},
   "outputs": [],
   "source": []
  }
 ],
 "metadata": {
  "kernelspec": {
   "display_name": "Python 3",
   "language": "python",
   "name": "python3"
  },
  "language_info": {
   "codemirror_mode": {
    "name": "ipython",
    "version": 3
   },
   "file_extension": ".py",
   "mimetype": "text/x-python",
   "name": "python",
   "nbconvert_exporter": "python",
   "pygments_lexer": "ipython3",
   "version": "3.7.1"
  },
  "latex_envs": {
   "LaTeX_envs_menu_present": true,
   "autocomplete": true,
   "bibliofile": "biblio.bib",
   "cite_by": "apalike",
   "current_citInitial": 1,
   "eqLabelWithNumbers": true,
   "eqNumInitial": 1,
   "hotkeys": {
    "equation": "Ctrl-E",
    "itemize": "Ctrl-I"
   },
   "labels_anchors": false,
   "latex_user_defs": false,
   "report_style_numbering": false,
   "user_envs_cfg": false
  },
  "toc": {
   "colors": {
    "hover_highlight": "#DAA520",
    "running_highlight": "#FF0000",
    "selected_highlight": "#FFD700"
   },
   "moveMenuLeft": true,
   "navigate_menu": false,
   "number_sections": true,
   "sideBar": true,
   "threshold": 4,
   "toc_cell": false,
   "toc_section_display": "block",
   "toc_window_display": true,
   "widenNotebook": true
  }
 },
 "nbformat": 4,
 "nbformat_minor": 4
}
