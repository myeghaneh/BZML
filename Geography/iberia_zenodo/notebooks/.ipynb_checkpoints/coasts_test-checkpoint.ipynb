{
 "cells": [
  {
   "cell_type": "markdown",
   "metadata": {},
   "source": [
    "# coasts and boundaries"
   ]
  },
  {
   "cell_type": "code",
   "execution_count": 24,
   "metadata": {
    "extensions": {
     "jupyter_dashboards": {
      "version": 1,
      "views": {
       "grid_default": {
        "hidden": true
       },
       "report_default": {
        "hidden": true
       }
      }
     }
    }
   },
   "outputs": [],
   "source": [
    "import numpy as np\n",
    "import matplotlib.pyplot as plt\n",
    "import pandas as pd"
   ]
  },
  {
   "cell_type": "code",
   "execution_count": 25,
   "metadata": {},
   "outputs": [
    {
     "data": {
      "text/html": [
       "\n",
       "    <div class=\"bk-root\">\n",
       "        <a href=\"https://bokeh.pydata.org\" target=\"_blank\" class=\"bk-logo bk-logo-small bk-logo-notebook\"></a>\n",
       "        <span id=\"13b95e57-3e8f-46ca-983a-6bd332e4fa90\">Loading BokehJS ...</span>\n",
       "    </div>"
      ]
     },
     "metadata": {},
     "output_type": "display_data"
    },
    {
     "data": {
      "application/javascript": [
       "\n",
       "(function(root) {\n",
       "  function now() {\n",
       "    return new Date();\n",
       "  }\n",
       "\n",
       "  var force = true;\n",
       "\n",
       "  if (typeof (root._bokeh_onload_callbacks) === \"undefined\" || force === true) {\n",
       "    root._bokeh_onload_callbacks = [];\n",
       "    root._bokeh_is_loading = undefined;\n",
       "  }\n",
       "\n",
       "  var JS_MIME_TYPE = 'application/javascript';\n",
       "  var HTML_MIME_TYPE = 'text/html';\n",
       "  var EXEC_MIME_TYPE = 'application/vnd.bokehjs_exec.v0+json';\n",
       "  var CLASS_NAME = 'output_bokeh rendered_html';\n",
       "\n",
       "  /**\n",
       "   * Render data to the DOM node\n",
       "   */\n",
       "  function render(props, node) {\n",
       "    var script = document.createElement(\"script\");\n",
       "    node.appendChild(script);\n",
       "  }\n",
       "\n",
       "  /**\n",
       "   * Handle when an output is cleared or removed\n",
       "   */\n",
       "  function handleClearOutput(event, handle) {\n",
       "    var cell = handle.cell;\n",
       "\n",
       "    var id = cell.output_area._bokeh_element_id;\n",
       "    var server_id = cell.output_area._bokeh_server_id;\n",
       "    // Clean up Bokeh references\n",
       "    if (id !== undefined) {\n",
       "      Bokeh.index[id].model.document.clear();\n",
       "      delete Bokeh.index[id];\n",
       "    }\n",
       "\n",
       "    if (server_id !== undefined) {\n",
       "      // Clean up Bokeh references\n",
       "      var cmd = \"from bokeh.io.state import curstate; print(curstate().uuid_to_server['\" + server_id + \"'].get_sessions()[0].document.roots[0]._id)\";\n",
       "      cell.notebook.kernel.execute(cmd, {\n",
       "        iopub: {\n",
       "          output: function(msg) {\n",
       "            var element_id = msg.content.text.trim();\n",
       "            Bokeh.index[element_id].model.document.clear();\n",
       "            delete Bokeh.index[element_id];\n",
       "          }\n",
       "        }\n",
       "      });\n",
       "      // Destroy server and session\n",
       "      var cmd = \"import bokeh.io.notebook as ion; ion.destroy_server('\" + server_id + \"')\";\n",
       "      cell.notebook.kernel.execute(cmd);\n",
       "    }\n",
       "  }\n",
       "\n",
       "  /**\n",
       "   * Handle when a new output is added\n",
       "   */\n",
       "  function handleAddOutput(event, handle) {\n",
       "    var output_area = handle.output_area;\n",
       "    var output = handle.output;\n",
       "\n",
       "    // limit handleAddOutput to display_data with EXEC_MIME_TYPE content only\n",
       "    if ((output.output_type != \"display_data\") || (!output.data.hasOwnProperty(EXEC_MIME_TYPE))) {\n",
       "      return\n",
       "    }\n",
       "\n",
       "    var toinsert = output_area.element.find(\".\" + CLASS_NAME.split(' ')[0]);\n",
       "\n",
       "    if (output.metadata[EXEC_MIME_TYPE][\"id\"] !== undefined) {\n",
       "      toinsert[toinsert.length - 1].firstChild.textContent = output.data[JS_MIME_TYPE];\n",
       "      // store reference to embed id on output_area\n",
       "      output_area._bokeh_element_id = output.metadata[EXEC_MIME_TYPE][\"id\"];\n",
       "    }\n",
       "    if (output.metadata[EXEC_MIME_TYPE][\"server_id\"] !== undefined) {\n",
       "      var bk_div = document.createElement(\"div\");\n",
       "      bk_div.innerHTML = output.data[HTML_MIME_TYPE];\n",
       "      var script_attrs = bk_div.children[0].attributes;\n",
       "      for (var i = 0; i < script_attrs.length; i++) {\n",
       "        toinsert[toinsert.length - 1].firstChild.setAttribute(script_attrs[i].name, script_attrs[i].value);\n",
       "      }\n",
       "      // store reference to server id on output_area\n",
       "      output_area._bokeh_server_id = output.metadata[EXEC_MIME_TYPE][\"server_id\"];\n",
       "    }\n",
       "  }\n",
       "\n",
       "  function register_renderer(events, OutputArea) {\n",
       "\n",
       "    function append_mime(data, metadata, element) {\n",
       "      // create a DOM node to render to\n",
       "      var toinsert = this.create_output_subarea(\n",
       "        metadata,\n",
       "        CLASS_NAME,\n",
       "        EXEC_MIME_TYPE\n",
       "      );\n",
       "      this.keyboard_manager.register_events(toinsert);\n",
       "      // Render to node\n",
       "      var props = {data: data, metadata: metadata[EXEC_MIME_TYPE]};\n",
       "      render(props, toinsert[toinsert.length - 1]);\n",
       "      element.append(toinsert);\n",
       "      return toinsert\n",
       "    }\n",
       "\n",
       "    /* Handle when an output is cleared or removed */\n",
       "    events.on('clear_output.CodeCell', handleClearOutput);\n",
       "    events.on('delete.Cell', handleClearOutput);\n",
       "\n",
       "    /* Handle when a new output is added */\n",
       "    events.on('output_added.OutputArea', handleAddOutput);\n",
       "\n",
       "    /**\n",
       "     * Register the mime type and append_mime function with output_area\n",
       "     */\n",
       "    OutputArea.prototype.register_mime_type(EXEC_MIME_TYPE, append_mime, {\n",
       "      /* Is output safe? */\n",
       "      safe: true,\n",
       "      /* Index of renderer in `output_area.display_order` */\n",
       "      index: 0\n",
       "    });\n",
       "  }\n",
       "\n",
       "  // register the mime type if in Jupyter Notebook environment and previously unregistered\n",
       "  if (root.Jupyter !== undefined) {\n",
       "    var events = require('base/js/events');\n",
       "    var OutputArea = require('notebook/js/outputarea').OutputArea;\n",
       "\n",
       "    if (OutputArea.prototype.mime_types().indexOf(EXEC_MIME_TYPE) == -1) {\n",
       "      register_renderer(events, OutputArea);\n",
       "    }\n",
       "  }\n",
       "\n",
       "  \n",
       "  if (typeof (root._bokeh_timeout) === \"undefined\" || force === true) {\n",
       "    root._bokeh_timeout = Date.now() + 5000;\n",
       "    root._bokeh_failed_load = false;\n",
       "  }\n",
       "\n",
       "  var NB_LOAD_WARNING = {'data': {'text/html':\n",
       "     \"<div style='background-color: #fdd'>\\n\"+\n",
       "     \"<p>\\n\"+\n",
       "     \"BokehJS does not appear to have successfully loaded. If loading BokehJS from CDN, this \\n\"+\n",
       "     \"may be due to a slow or bad network connection. Possible fixes:\\n\"+\n",
       "     \"</p>\\n\"+\n",
       "     \"<ul>\\n\"+\n",
       "     \"<li>re-rerun `output_notebook()` to attempt to load from CDN again, or</li>\\n\"+\n",
       "     \"<li>use INLINE resources instead, as so:</li>\\n\"+\n",
       "     \"</ul>\\n\"+\n",
       "     \"<code>\\n\"+\n",
       "     \"from bokeh.resources import INLINE\\n\"+\n",
       "     \"output_notebook(resources=INLINE)\\n\"+\n",
       "     \"</code>\\n\"+\n",
       "     \"</div>\"}};\n",
       "\n",
       "  function display_loaded() {\n",
       "    var el = document.getElementById(\"13b95e57-3e8f-46ca-983a-6bd332e4fa90\");\n",
       "    if (el != null) {\n",
       "      el.textContent = \"BokehJS is loading...\";\n",
       "    }\n",
       "    if (root.Bokeh !== undefined) {\n",
       "      if (el != null) {\n",
       "        el.textContent = \"BokehJS \" + root.Bokeh.version + \" successfully loaded.\";\n",
       "      }\n",
       "    } else if (Date.now() < root._bokeh_timeout) {\n",
       "      setTimeout(display_loaded, 100)\n",
       "    }\n",
       "  }\n",
       "\n",
       "\n",
       "  function run_callbacks() {\n",
       "    try {\n",
       "      root._bokeh_onload_callbacks.forEach(function(callback) { callback() });\n",
       "    }\n",
       "    finally {\n",
       "      delete root._bokeh_onload_callbacks\n",
       "    }\n",
       "    console.info(\"Bokeh: all callbacks have finished\");\n",
       "  }\n",
       "\n",
       "  function load_libs(js_urls, callback) {\n",
       "    root._bokeh_onload_callbacks.push(callback);\n",
       "    if (root._bokeh_is_loading > 0) {\n",
       "      console.log(\"Bokeh: BokehJS is being loaded, scheduling callback at\", now());\n",
       "      return null;\n",
       "    }\n",
       "    if (js_urls == null || js_urls.length === 0) {\n",
       "      run_callbacks();\n",
       "      return null;\n",
       "    }\n",
       "    console.log(\"Bokeh: BokehJS not loaded, scheduling load and callback at\", now());\n",
       "    root._bokeh_is_loading = js_urls.length;\n",
       "    for (var i = 0; i < js_urls.length; i++) {\n",
       "      var url = js_urls[i];\n",
       "      var s = document.createElement('script');\n",
       "      s.src = url;\n",
       "      s.async = false;\n",
       "      s.onreadystatechange = s.onload = function() {\n",
       "        root._bokeh_is_loading--;\n",
       "        if (root._bokeh_is_loading === 0) {\n",
       "          console.log(\"Bokeh: all BokehJS libraries loaded\");\n",
       "          run_callbacks()\n",
       "        }\n",
       "      };\n",
       "      s.onerror = function() {\n",
       "        console.warn(\"failed to load library \" + url);\n",
       "      };\n",
       "      console.log(\"Bokeh: injecting script tag for BokehJS library: \", url);\n",
       "      document.getElementsByTagName(\"head\")[0].appendChild(s);\n",
       "    }\n",
       "  };var element = document.getElementById(\"13b95e57-3e8f-46ca-983a-6bd332e4fa90\");\n",
       "  if (element == null) {\n",
       "    console.log(\"Bokeh: ERROR: autoload.js configured with elementid '13b95e57-3e8f-46ca-983a-6bd332e4fa90' but no matching script tag was found. \")\n",
       "    return false;\n",
       "  }\n",
       "\n",
       "  var js_urls = [\"https://cdn.pydata.org/bokeh/release/bokeh-0.12.16.min.js\", \"https://cdn.pydata.org/bokeh/release/bokeh-widgets-0.12.16.min.js\", \"https://cdn.pydata.org/bokeh/release/bokeh-tables-0.12.16.min.js\", \"https://cdn.pydata.org/bokeh/release/bokeh-gl-0.12.16.min.js\"];\n",
       "\n",
       "  var inline_js = [\n",
       "    function(Bokeh) {\n",
       "      Bokeh.set_log_level(\"info\");\n",
       "    },\n",
       "    \n",
       "    function(Bokeh) {\n",
       "      \n",
       "    },\n",
       "    function(Bokeh) {\n",
       "      console.log(\"Bokeh: injecting CSS: https://cdn.pydata.org/bokeh/release/bokeh-0.12.16.min.css\");\n",
       "      Bokeh.embed.inject_css(\"https://cdn.pydata.org/bokeh/release/bokeh-0.12.16.min.css\");\n",
       "      console.log(\"Bokeh: injecting CSS: https://cdn.pydata.org/bokeh/release/bokeh-widgets-0.12.16.min.css\");\n",
       "      Bokeh.embed.inject_css(\"https://cdn.pydata.org/bokeh/release/bokeh-widgets-0.12.16.min.css\");\n",
       "      console.log(\"Bokeh: injecting CSS: https://cdn.pydata.org/bokeh/release/bokeh-tables-0.12.16.min.css\");\n",
       "      Bokeh.embed.inject_css(\"https://cdn.pydata.org/bokeh/release/bokeh-tables-0.12.16.min.css\");\n",
       "    }\n",
       "  ];\n",
       "\n",
       "  function run_inline_js() {\n",
       "    \n",
       "    if ((root.Bokeh !== undefined) || (force === true)) {\n",
       "      for (var i = 0; i < inline_js.length; i++) {\n",
       "        inline_js[i].call(root, root.Bokeh);\n",
       "      }if (force === true) {\n",
       "        display_loaded();\n",
       "      }} else if (Date.now() < root._bokeh_timeout) {\n",
       "      setTimeout(run_inline_js, 100);\n",
       "    } else if (!root._bokeh_failed_load) {\n",
       "      console.log(\"Bokeh: BokehJS failed to load within specified timeout.\");\n",
       "      root._bokeh_failed_load = true;\n",
       "    } else if (force !== true) {\n",
       "      var cell = $(document.getElementById(\"13b95e57-3e8f-46ca-983a-6bd332e4fa90\")).parents('.cell').data().cell;\n",
       "      cell.output_area.append_execute_result(NB_LOAD_WARNING)\n",
       "    }\n",
       "\n",
       "  }\n",
       "\n",
       "  if (root._bokeh_is_loading === 0) {\n",
       "    console.log(\"Bokeh: BokehJS loaded, going straight to plotting\");\n",
       "    run_inline_js();\n",
       "  } else {\n",
       "    load_libs(js_urls, function() {\n",
       "      console.log(\"Bokeh: BokehJS plotting callback run at\", now());\n",
       "      run_inline_js();\n",
       "    });\n",
       "  }\n",
       "}(window));"
      ],
      "application/vnd.bokehjs_load.v0+json": "\n(function(root) {\n  function now() {\n    return new Date();\n  }\n\n  var force = true;\n\n  if (typeof (root._bokeh_onload_callbacks) === \"undefined\" || force === true) {\n    root._bokeh_onload_callbacks = [];\n    root._bokeh_is_loading = undefined;\n  }\n\n  \n\n  \n  if (typeof (root._bokeh_timeout) === \"undefined\" || force === true) {\n    root._bokeh_timeout = Date.now() + 5000;\n    root._bokeh_failed_load = false;\n  }\n\n  var NB_LOAD_WARNING = {'data': {'text/html':\n     \"<div style='background-color: #fdd'>\\n\"+\n     \"<p>\\n\"+\n     \"BokehJS does not appear to have successfully loaded. If loading BokehJS from CDN, this \\n\"+\n     \"may be due to a slow or bad network connection. Possible fixes:\\n\"+\n     \"</p>\\n\"+\n     \"<ul>\\n\"+\n     \"<li>re-rerun `output_notebook()` to attempt to load from CDN again, or</li>\\n\"+\n     \"<li>use INLINE resources instead, as so:</li>\\n\"+\n     \"</ul>\\n\"+\n     \"<code>\\n\"+\n     \"from bokeh.resources import INLINE\\n\"+\n     \"output_notebook(resources=INLINE)\\n\"+\n     \"</code>\\n\"+\n     \"</div>\"}};\n\n  function display_loaded() {\n    var el = document.getElementById(\"13b95e57-3e8f-46ca-983a-6bd332e4fa90\");\n    if (el != null) {\n      el.textContent = \"BokehJS is loading...\";\n    }\n    if (root.Bokeh !== undefined) {\n      if (el != null) {\n        el.textContent = \"BokehJS \" + root.Bokeh.version + \" successfully loaded.\";\n      }\n    } else if (Date.now() < root._bokeh_timeout) {\n      setTimeout(display_loaded, 100)\n    }\n  }\n\n\n  function run_callbacks() {\n    try {\n      root._bokeh_onload_callbacks.forEach(function(callback) { callback() });\n    }\n    finally {\n      delete root._bokeh_onload_callbacks\n    }\n    console.info(\"Bokeh: all callbacks have finished\");\n  }\n\n  function load_libs(js_urls, callback) {\n    root._bokeh_onload_callbacks.push(callback);\n    if (root._bokeh_is_loading > 0) {\n      console.log(\"Bokeh: BokehJS is being loaded, scheduling callback at\", now());\n      return null;\n    }\n    if (js_urls == null || js_urls.length === 0) {\n      run_callbacks();\n      return null;\n    }\n    console.log(\"Bokeh: BokehJS not loaded, scheduling load and callback at\", now());\n    root._bokeh_is_loading = js_urls.length;\n    for (var i = 0; i < js_urls.length; i++) {\n      var url = js_urls[i];\n      var s = document.createElement('script');\n      s.src = url;\n      s.async = false;\n      s.onreadystatechange = s.onload = function() {\n        root._bokeh_is_loading--;\n        if (root._bokeh_is_loading === 0) {\n          console.log(\"Bokeh: all BokehJS libraries loaded\");\n          run_callbacks()\n        }\n      };\n      s.onerror = function() {\n        console.warn(\"failed to load library \" + url);\n      };\n      console.log(\"Bokeh: injecting script tag for BokehJS library: \", url);\n      document.getElementsByTagName(\"head\")[0].appendChild(s);\n    }\n  };var element = document.getElementById(\"13b95e57-3e8f-46ca-983a-6bd332e4fa90\");\n  if (element == null) {\n    console.log(\"Bokeh: ERROR: autoload.js configured with elementid '13b95e57-3e8f-46ca-983a-6bd332e4fa90' but no matching script tag was found. \")\n    return false;\n  }\n\n  var js_urls = [\"https://cdn.pydata.org/bokeh/release/bokeh-0.12.16.min.js\", \"https://cdn.pydata.org/bokeh/release/bokeh-widgets-0.12.16.min.js\", \"https://cdn.pydata.org/bokeh/release/bokeh-tables-0.12.16.min.js\", \"https://cdn.pydata.org/bokeh/release/bokeh-gl-0.12.16.min.js\"];\n\n  var inline_js = [\n    function(Bokeh) {\n      Bokeh.set_log_level(\"info\");\n    },\n    \n    function(Bokeh) {\n      \n    },\n    function(Bokeh) {\n      console.log(\"Bokeh: injecting CSS: https://cdn.pydata.org/bokeh/release/bokeh-0.12.16.min.css\");\n      Bokeh.embed.inject_css(\"https://cdn.pydata.org/bokeh/release/bokeh-0.12.16.min.css\");\n      console.log(\"Bokeh: injecting CSS: https://cdn.pydata.org/bokeh/release/bokeh-widgets-0.12.16.min.css\");\n      Bokeh.embed.inject_css(\"https://cdn.pydata.org/bokeh/release/bokeh-widgets-0.12.16.min.css\");\n      console.log(\"Bokeh: injecting CSS: https://cdn.pydata.org/bokeh/release/bokeh-tables-0.12.16.min.css\");\n      Bokeh.embed.inject_css(\"https://cdn.pydata.org/bokeh/release/bokeh-tables-0.12.16.min.css\");\n    }\n  ];\n\n  function run_inline_js() {\n    \n    if ((root.Bokeh !== undefined) || (force === true)) {\n      for (var i = 0; i < inline_js.length; i++) {\n        inline_js[i].call(root, root.Bokeh);\n      }if (force === true) {\n        display_loaded();\n      }} else if (Date.now() < root._bokeh_timeout) {\n      setTimeout(run_inline_js, 100);\n    } else if (!root._bokeh_failed_load) {\n      console.log(\"Bokeh: BokehJS failed to load within specified timeout.\");\n      root._bokeh_failed_load = true;\n    } else if (force !== true) {\n      var cell = $(document.getElementById(\"13b95e57-3e8f-46ca-983a-6bd332e4fa90\")).parents('.cell').data().cell;\n      cell.output_area.append_execute_result(NB_LOAD_WARNING)\n    }\n\n  }\n\n  if (root._bokeh_is_loading === 0) {\n    console.log(\"Bokeh: BokehJS loaded, going straight to plotting\");\n    run_inline_js();\n  } else {\n    load_libs(js_urls, function() {\n      console.log(\"Bokeh: BokehJS plotting callback run at\", now());\n      run_inline_js();\n    });\n  }\n}(window));"
     },
     "metadata": {},
     "output_type": "display_data"
    }
   ],
   "source": [
    "from bokeh.plotting import figure, output_file, show, ColumnDataSource\n",
    "from bokeh.io import output_notebook, output_file, save\n",
    "output_notebook()\n",
    "from bokeh.models import HoverTool,BoxZoomTool,ResetTool, WheelZoomTool\n",
    "from bokeh.layouts import row, gridplot, layout"
   ]
  },
  {
   "cell_type": "code",
   "execution_count": 26,
   "metadata": {},
   "outputs": [],
   "source": [
    "pd.set_option('display.max_colwidth', -1)\n",
    "pd.set_option('max_colwidth', 260)"
   ]
  },
  {
   "cell_type": "code",
   "execution_count": 27,
   "metadata": {},
   "outputs": [],
   "source": [
    "options = {\"compact\": True, \"bg\": \"#09a3d5\",\n",
    "           \"color\": \"white\", \"font\": \"Source Sans Pro\",\"collapse_phrases\":False}"
   ]
  },
  {
   "cell_type": "markdown",
   "metadata": {},
   "source": [
    "On the basis of both recensions of the Geography, the localities of the Iberian peninsula are plotted and compared."
   ]
  },
  {
   "cell_type": "markdown",
   "metadata": {},
   "source": [
    "## import resources (omega)"
   ]
  },
  {
   "cell_type": "code",
   "execution_count": 28,
   "metadata": {},
   "outputs": [],
   "source": [
    "OmegaJ = pd.read_json('OmegaStructure2.json')\n",
    "XiJ = pd.read_json('XiStructure2.json')"
   ]
  },
  {
   "cell_type": "markdown",
   "metadata": {},
   "source": [
    "## transform .json to df"
   ]
  },
  {
   "cell_type": "code",
   "execution_count": 61,
   "metadata": {},
   "outputs": [],
   "source": [
    "%run geographytools.py"
   ]
  },
  {
   "cell_type": "code",
   "execution_count": 62,
   "metadata": {},
   "outputs": [
    {
     "data": {
      "text/plain": [
       "'area presentation'"
      ]
     },
     "execution_count": 62,
     "metadata": {},
     "output_type": "execute_result"
    }
   ],
   "source": [
    "def findTS(s):\n",
    "    out=\"\"\n",
    "    for i,r in om.iterrows():\n",
    "        sci=r[\"sec_ID\"]\n",
    "        if sci in s:\n",
    "            out=r[\"type_sec\"]\n",
    "            \n",
    "            exit\n",
    "    return(out)\n",
    "findTS(\"2.04.01.01\")"
   ]
  },
  {
   "cell_type": "code",
   "execution_count": 63,
   "metadata": {},
   "outputs": [],
   "source": [
    "def Js2Geodf(df): \n",
    "# df=OmegaJ[\"chapters\"][0]\n",
    "    om=json_normalize(df,\"section\")\n",
    "    om=om.dropna(subset=[\"sec_part\"])\n",
    "    l=[]\n",
    "    for i,x in om.iterrows():\n",
    "        k={\"type_sec\":x[\"type_sec\"]}\n",
    "        l.append([x[\"sec_part\"]])\n",
    "#\n",
    "    listItems=list(flatten_list(l))\n",
    "    dfout=pd.DataFrame(listItems)\n",
    "    dfout[\"type_sec\"]=dfout.apply(lambda x: findTS(x[\"ID\"]),axis=1)\n",
    "    return(dfout)"
   ]
  },
  {
   "cell_type": "code",
   "execution_count": 64,
   "metadata": {},
   "outputs": [],
   "source": [
    "df=OmegaJ[\"chapters\"][0]\n",
    "om=json_normalize(df,\"section\")"
   ]
  },
  {
   "cell_type": "code",
   "execution_count": 65,
   "metadata": {},
   "outputs": [],
   "source": [
    "dfOmega=Js2Geodf(OmegaJ[\"chapters\"][0])"
   ]
  },
  {
   "cell_type": "markdown",
   "metadata": {},
   "source": [
    "## Translate Greek to decimal coordinates"
   ]
  },
  {
   "cell_type": "code",
   "execution_count": 66,
   "metadata": {},
   "outputs": [],
   "source": [
    "gfrac={\"\":0,\"Lς\":2/3,\"ςL\":2/3,\"ιβ\":1/12,\"ς\":1/6,\"δ\":1/4,\"γ\":1/3,\"γιβ\":5/12,\"L\":1/2,\"Lιβ\":7/12,\"γο\":2/3,\"Lδ\":3/4,\"Lγ\":5/6,\"Lγιβ\":11/12,\"η\":1/8}\n",
    "gint={\"\":0,\"α\":1,\"β\":2,\"γ\":3,\"δ\":4,\"ε\":5,\"ς\":6,\"ζ\":7,\"η\":8,\"θ\":9,\"ι\":10,\"κ\":20,\"λ\":30,\"μ\":40}"
   ]
  },
  {
   "cell_type": "code",
   "execution_count": 67,
   "metadata": {},
   "outputs": [],
   "source": [
    "def reformatCoord(row,longLat, xy='coord_x'):\n",
    "    if type(row[xy]) == dict:\n",
    "        return (row[xy][longLat]['integer'].strip(),row[xy][longLat]['fraction'].strip())\n",
    "    else:\n",
    "        return False\n",
    "    \n",
    "def translate(row):\n",
    "    if type(row)==tuple:\n",
    "        try:\n",
    "            temp_frac = gfrac[row[1]]\n",
    "        except:\n",
    "            temp_frac = gint[row[1]]\n",
    "        try:\n",
    "            if len(row[0]) == 1:\n",
    "                temp_int = gint[row[0]]\n",
    "            elif len(row[0]) == 2:\n",
    "                temp_int = gint[row[0][0]] + gint[row[0][1]]\n",
    "            elif row[0] == '':\n",
    "                temp_int = 0\n",
    "        except:\n",
    "            temp_int = None\n",
    "        return temp_int + temp_frac"
   ]
  },
  {
   "cell_type": "markdown",
   "metadata": {},
   "source": [
    "Omega recension"
   ]
  },
  {
   "cell_type": "code",
   "execution_count": 105,
   "metadata": {},
   "outputs": [],
   "source": [
    "dfTemp = dfOmega.copy()\n",
    "dfTemp['longitude'] = dfOmega.apply(lambda row: reformatCoord(row,'long','coord'),axis=1).apply(translate)\n",
    "dfTemp['latitude'] = dfOmega.apply(lambda row: reformatCoord(row,'lat','coord'),axis=1).apply(translate)"
   ]
  },
  {
   "cell_type": "code",
   "execution_count": 106,
   "metadata": {},
   "outputs": [],
   "source": [
    "dfTemp;"
   ]
  },
  {
   "cell_type": "markdown",
   "metadata": {},
   "source": [
    "## select coastal localities"
   ]
  },
  {
   "cell_type": "markdown",
   "metadata": {},
   "source": [
    "I select only type_sec: \"coast section\""
   ]
  },
  {
   "cell_type": "code",
   "execution_count": 107,
   "metadata": {},
   "outputs": [],
   "source": [
    "dfOmegaCoasts = dfTemp[(dfTemp.type_sec == 'coast section') & (dfTemp.type == 'locality')]"
   ]
  },
  {
   "cell_type": "markdown",
   "metadata": {},
   "source": [
    "In \"coast sections\", Ptolemy also give coordinates for the sources of river for instance, but these points are not part of the coast. So, we have to remove from every coast section places that are not actually on the coast, i.e. the following categories: river source and river path."
   ]
  },
  {
   "cell_type": "code",
   "execution_count": 108,
   "metadata": {},
   "outputs": [],
   "source": [
    "dfOmegaCoasts = dfTemp[(dfTemp.type_sec == 'coast section') & (dfTemp.type == 'locality')]\n",
    "dfOmegaCoasts = dfOmegaCoasts[dfOmegaCoasts.category.apply(lambda row: row not in ['river path','river source'])]"
   ]
  },
  {
   "cell_type": "code",
   "execution_count": 109,
   "metadata": {},
   "outputs": [
    {
     "data": {
      "text/html": [
       "<div>\n",
       "<style scoped>\n",
       "    .dataframe tbody tr th:only-of-type {\n",
       "        vertical-align: middle;\n",
       "    }\n",
       "\n",
       "    .dataframe tbody tr th {\n",
       "        vertical-align: top;\n",
       "    }\n",
       "\n",
       "    .dataframe thead th {\n",
       "        text-align: right;\n",
       "    }\n",
       "</style>\n",
       "<table border=\"1\" class=\"dataframe\">\n",
       "  <thead>\n",
       "    <tr style=\"text-align: right;\">\n",
       "      <th></th>\n",
       "      <th>ID</th>\n",
       "      <th>category</th>\n",
       "      <th>coord</th>\n",
       "      <th>people</th>\n",
       "      <th>text</th>\n",
       "      <th>toponym</th>\n",
       "      <th>type</th>\n",
       "      <th>type_sec</th>\n",
       "      <th>longitude</th>\n",
       "      <th>latitude</th>\n",
       "    </tr>\n",
       "  </thead>\n",
       "  <tbody>\n",
       "    <tr>\n",
       "      <th>4</th>\n",
       "      <td>2.04.03.01</td>\n",
       "      <td>[river mouth, boundary]</td>\n",
       "      <td>{'long': {'integer': 'δ', 'fraction': 'ιβ'}, 'lat': {'integer': 'λζ', 'fraction': 'γο'}}</td>\n",
       "      <td>Turdetani</td>\n",
       "      <td>NaN</td>\n",
       "      <td>&lt;τὸ δυσμικώτερον στόμα Ἄνα τοῦ ποταμοῦ&gt;</td>\n",
       "      <td>locality</td>\n",
       "      <td>coast section</td>\n",
       "      <td>4.083333</td>\n",
       "      <td>37.666667</td>\n",
       "    </tr>\n",
       "    <tr>\n",
       "      <th>5</th>\n",
       "      <td>2.04.03.02</td>\n",
       "      <td>river mouth</td>\n",
       "      <td>{'long': {'integer': 'δ', 'fraction': 'γ'}, 'lat': {'integer': 'λζ', 'fraction': 'L'}}</td>\n",
       "      <td>Turdetani</td>\n",
       "      <td>NaN</td>\n",
       "      <td>τὸ ἀνατολικώτερον στόμα Ἄνα τοῦ ποταμοῦ</td>\n",
       "      <td>locality</td>\n",
       "      <td>coast section</td>\n",
       "      <td>4.333333</td>\n",
       "      <td>37.500000</td>\n",
       "    </tr>\n",
       "    <tr>\n",
       "      <th>7</th>\n",
       "      <td>2.04.03.04</td>\n",
       "      <td>[river path, boundary]</td>\n",
       "      <td>{'long': {'integer': 'θ', 'fraction': ''}, 'lat': {'integer': 'λθ', 'fraction': ''}}</td>\n",
       "      <td></td>\n",
       "      <td>NaN</td>\n",
       "      <td>τὸ πρὸς τῷ πέρατι τῆς Λουσιτανίας τοῦ ποταμοῦ μέρος</td>\n",
       "      <td>locality</td>\n",
       "      <td>coast section</td>\n",
       "      <td>9.000000</td>\n",
       "      <td>39.000000</td>\n",
       "    </tr>\n",
       "    <tr>\n",
       "      <th>8</th>\n",
       "      <td>2.04.03.07</td>\n",
       "      <td>boundary</td>\n",
       "      <td>{'long': {'integer': 'ιβ', 'fraction': ''}, 'lat': {'integer': 'λζ', 'fraction': 'δ'}}</td>\n",
       "      <td></td>\n",
       "      <td>NaN</td>\n",
       "      <td>καὶ ἡ ἐντεῦθεν γραμμὴ γραφομένη παρὰ τὴν Ταρρακωνησίαν ὡς ἐπὶ τὸ Βαλιαρικὸν πέλαγος πέρας ἔχουσα</td>\n",
       "      <td>locality</td>\n",
       "      <td>coast section</td>\n",
       "      <td>12.000000</td>\n",
       "      <td>37.250000</td>\n",
       "    </tr>\n",
       "    <tr>\n",
       "      <th>15</th>\n",
       "      <td>2.04.05.04</td>\n",
       "      <td>city</td>\n",
       "      <td>{'long': {'integer': 'δ', 'fraction': 'γο'}, 'lat': {'integer': 'λζ', 'fraction': 'γ'}}</td>\n",
       "      <td>Turdetani</td>\n",
       "      <td>NaN</td>\n",
       "      <td>Ὄνοβα Λιστουρία</td>\n",
       "      <td>locality</td>\n",
       "      <td>coast section</td>\n",
       "      <td>4.666667</td>\n",
       "      <td>37.333333</td>\n",
       "    </tr>\n",
       "  </tbody>\n",
       "</table>\n",
       "</div>"
      ],
      "text/plain": [
       "            ID                 category  \\\n",
       "4   2.04.03.01  [river mouth, boundary]   \n",
       "5   2.04.03.02              river mouth   \n",
       "7   2.04.03.04   [river path, boundary]   \n",
       "8   2.04.03.07                 boundary   \n",
       "15  2.04.05.04                     city   \n",
       "\n",
       "                                                                                       coord  \\\n",
       "4   {'long': {'integer': 'δ', 'fraction': 'ιβ'}, 'lat': {'integer': 'λζ', 'fraction': 'γο'}}   \n",
       "5     {'long': {'integer': 'δ', 'fraction': 'γ'}, 'lat': {'integer': 'λζ', 'fraction': 'L'}}   \n",
       "7       {'long': {'integer': 'θ', 'fraction': ''}, 'lat': {'integer': 'λθ', 'fraction': ''}}   \n",
       "8     {'long': {'integer': 'ιβ', 'fraction': ''}, 'lat': {'integer': 'λζ', 'fraction': 'δ'}}   \n",
       "15   {'long': {'integer': 'δ', 'fraction': 'γο'}, 'lat': {'integer': 'λζ', 'fraction': 'γ'}}   \n",
       "\n",
       "       people text  \\\n",
       "4   Turdetani  NaN   \n",
       "5   Turdetani  NaN   \n",
       "7              NaN   \n",
       "8              NaN   \n",
       "15  Turdetani  NaN   \n",
       "\n",
       "                                                                                                               toponym  \\\n",
       "4                                                                       <τὸ δυσμικώτερον στόμα Ἄνα τοῦ ποταμοῦ>   \n",
       "5                                                                      τὸ ἀνατολικώτερον στόμα Ἄνα τοῦ ποταμοῦ   \n",
       "7                                                        τὸ πρὸς τῷ πέρατι τῆς Λουσιτανίας τοῦ ποταμοῦ μέρος   \n",
       "8   καὶ ἡ ἐντεῦθεν γραμμὴ γραφομένη παρὰ τὴν Ταρρακωνησίαν ὡς ἐπὶ τὸ Βαλιαρικὸν πέλαγος πέρας ἔχουσα   \n",
       "15                                                                                                  Ὄνοβα Λιστουρία   \n",
       "\n",
       "        type       type_sec  longitude   latitude  \n",
       "4   locality  coast section   4.083333  37.666667  \n",
       "5   locality  coast section   4.333333  37.500000  \n",
       "7   locality  coast section   9.000000  39.000000  \n",
       "8   locality  coast section  12.000000  37.250000  \n",
       "15  locality  coast section   4.666667  37.333333  "
      ]
     },
     "execution_count": 109,
     "metadata": {},
     "output_type": "execute_result"
    }
   ],
   "source": [
    "dfOmegaCoasts.head()"
   ]
  },
  {
   "cell_type": "markdown",
   "metadata": {},
   "source": [
    "First problem: places with multiple categories (\"river mouth, boundary\") are not taken into account when filtering and I don't know how to solve the problem."
   ]
  },
  {
   "cell_type": "markdown",
   "metadata": {},
   "source": [
    "## map omega"
   ]
  },
  {
   "cell_type": "code",
   "execution_count": 110,
   "metadata": {},
   "outputs": [
    {
     "data": {
      "text/html": [
       "\n",
       "<div class=\"bk-root\">\n",
       "    <div class=\"bk-plotdiv\" id=\"f276dc53-69b4-4033-a591-821d52d13a0a\"></div>\n",
       "</div>"
      ]
     },
     "metadata": {},
     "output_type": "display_data"
    },
    {
     "data": {
      "application/javascript": [
       "(function(root) {\n",
       "  function embed_document(root) {\n",
       "    \n",
       "  var docs_json = {\"23cfe1fb-834f-44ce-98c6-02699e0c0782\":{\"roots\":{\"references\":[{\"attributes\":{\"active_drag\":\"auto\",\"active_inspect\":\"auto\",\"active_scroll\":\"auto\",\"active_tap\":\"auto\",\"tools\":[{\"id\":\"fd46ccf7-fc8e-4c83-8c3a-d691dffbb2f4\",\"type\":\"BoxZoomTool\"},{\"id\":\"896a69c3-0728-4b88-beab-28fa0f6e1d23\",\"type\":\"WheelZoomTool\"},{\"id\":\"8416c49b-9685-4387-b5d2-7024ef9d1818\",\"type\":\"ResetTool\"}]},\"id\":\"f31ccc32-b1d6-4bb6-9dae-16cba4de62b9\",\"type\":\"Toolbar\"},{\"attributes\":{\"overlay\":{\"id\":\"7ecd18d7-4e54-46d1-a02c-4f205dfdbbd6\",\"type\":\"BoxAnnotation\"}},\"id\":\"fd46ccf7-fc8e-4c83-8c3a-d691dffbb2f4\",\"type\":\"BoxZoomTool\"},{\"attributes\":{\"line_color\":\"grey\",\"x\":{\"field\":\"x\"},\"y\":{\"field\":\"y\"}},\"id\":\"2d6a7bc0-eea9-4102-a7a1-ea4b64a6cc43\",\"type\":\"Line\"},{\"attributes\":{},\"id\":\"fa1452b7-fedc-43bf-a785-856b9046398b\",\"type\":\"Selection\"},{\"attributes\":{\"line_alpha\":0.1,\"line_color\":\"#1f77b4\",\"x\":{\"field\":\"x\"},\"y\":{\"field\":\"y\"}},\"id\":\"c745a9ab-7363-44b4-b2d9-410759fc06a4\",\"type\":\"Line\"},{\"attributes\":{\"data_source\":{\"id\":\"f91849e1-6c16-4988-a97e-eb66e8152dc6\",\"type\":\"ColumnDataSource\"},\"glyph\":{\"id\":\"2d6a7bc0-eea9-4102-a7a1-ea4b64a6cc43\",\"type\":\"Line\"},\"hover_glyph\":null,\"muted_glyph\":null,\"nonselection_glyph\":{\"id\":\"c745a9ab-7363-44b4-b2d9-410759fc06a4\",\"type\":\"Line\"},\"selection_glyph\":null,\"view\":{\"id\":\"605b047d-dc35-40ed-a286-0bbe5dd93a9a\",\"type\":\"CDSView\"}},\"id\":\"491198d6-459b-4603-828f-17902d2402ea\",\"type\":\"GlyphRenderer\"},{\"attributes\":{\"source\":{\"id\":\"f91849e1-6c16-4988-a97e-eb66e8152dc6\",\"type\":\"ColumnDataSource\"}},\"id\":\"605b047d-dc35-40ed-a286-0bbe5dd93a9a\",\"type\":\"CDSView\"},{\"attributes\":{\"callback\":null,\"end\":22,\"start\":1.5},\"id\":\"7c62841a-95e6-4deb-94ee-1df660e63ddd\",\"type\":\"Range1d\"},{\"attributes\":{\"callback\":null,\"data\":{\"x\":{\"__ndarray__\":\"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\",\"dtype\":\"float64\",\"shape\":[640]},\"y\":{\"__ndarray__\":\"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\",\"dtype\":\"float64\",\"shape\":[640]}},\"selected\":{\"id\":\"af6d51d7-9abc-4fb0-858b-23ca697c7e18\",\"type\":\"Selection\"},\"selection_policy\":{\"id\":\"d5745fd5-a04b-4a32-975b-ee9b507a3425\",\"type\":\"UnionRenderers\"}},\"id\":\"1adf4c32-81d4-4a02-8604-2974598f62dc\",\"type\":\"ColumnDataSource\"},{\"attributes\":{\"callback\":null,\"data\":{\"x\":{\"__ndarray__\":\"VVVVVVVVEEBVVVVVVVURQAAAAAAAACJAAAAAAAAAKECrqqqqqqoSQFVVVVVVVRRAVVVVVVVVFUAAAAAAAAAYQAAAAAAAABhAAAAAAAAAGEAAAAAAAAAXQKuqqqqqqhhAAAAAAAAAGUAAAAAAAAAaQKuqqqqqqhpAAAAAAAAAHUAAAAAAAAAeQAAAAAAAAB5Aq6qqqqqqHkAAAAAAAAAgQAAAAAAAACFAq6qqqqqqIUAAAAAAAIAiQAAAAAAAgCNAAAAAAACAJECrqqqqqqolQAAAAAAAgCVAq6qqqqqqJkAAAAAAAAAnQFVVVVVVVQ1AAAAAAAAACEAAAAAAAAAEQAAAAAAAABRAVVVVVVVVFECrqqqqqqoRQAAAAAAAABFAq6qqqqqqFEAAAAAAAAAWQAAAAAAAACJAAAAAAAAAFECrqqqqqqoUQKuqqqqqqhRAVVVVVVVVFUAAAAAAAAAWQKuqqqqqqhRAq6qqqqqqFkAAAAAAAAAWQFVVVVVVVRVAAAAAAAAAFkCrqqqqqqoWQKuqqqqqqhZAVVVVVVVVFUAAAAAAAAAVQKuqqqqqqhZAAAAAAAAAGUAAAAAAAAAaQAAAAAAAAB1AAAAAAACAIEAAAAAAAAAiQKuqqqqqqiRAq6qqqqqqJkAAAAAAAIAnQAAAAAAAAChAAAAAAAAAKkBVVVVVVVUqQAAAAAAAACtAAAAAAACAK0CrqqqqqqosQFVVVVVVVS5AAAAAAAAALkAAAAAAAAAoQFVVVVVVVShAAAAAAACAKEBVVVVVVdUpQAAAAAAAAClAVVVVVVVVKUAAAAAAAAAqQAAAAAAAACtAAAAAAAAALEBVVVVVVVUtQAAAAAAAAC5AVVVVVVVVL0BVVVVVVdUvQAAAAAAAAC9AAAAAAAAAMEBVVVVVVVUwQFVVVVVV1TBAAAAAAABAMUAAAAAAAIAxQFVVVVVV1TFAAAAAAACAMkAAAAAAAAAyQAAAAAAAQDJAAAAAAACAMkAAAAAAAMAyQAAAAAAAADNAAAAAAACAM0BVVVVVVVU0QA==\",\"dtype\":\"float64\",\"shape\":[98]},\"y\":{\"__ndarray__\":\"VVVVVVXVQkAAAAAAAMBCQAAAAAAAgENAAAAAAACgQkCrqqqqqqpCQFVVVVVVlUJAAAAAAACAQkAAAAAAAGBCQKuqqqqqakJAq6qqqqoqQkAAAAAAAABCQFVVVVVVFUJAVVVVVVVVQkAAAAAAAEBCQKuqqqqqKkJAVVVVVVUVQkBVVVVVVRVCQAAAAAAAIEJAVVVVVVVVQkCrqqqqqgpCQAAAAAAAgEJAAAAAAADAQkAAAAAAAKBCQAAAAAAAoEJAAAAAAACgQkCrqqqqqopCQFVVVVVVlUJAq6qqqqqKQkCrqqqqqipCQAAAAAAA4EJAq6qqqqrqQkAAAAAAACBDQAAAAAAAgENAVVVVVVW1Q0AAAAAAAMBDQAAAAAAA4ENAAAAAAAAgREBVVVVVVRVEQFVVVVVVFURAVVVVVVVVRECrqqqqqmpEQKuqqqqqqkRAq6qqqqrqREAAAAAAACBFQAAAAAAAQEVAAAAAAABgRUAAAAAAAKBFQFVVVVVV1UVAAAAAAAAARkCrqqqqqipGQFVVVVVVVUZAAAAAAACARkBVVVVVVZVGQAAAAAAAwEZAAAAAAADARkAAAAAAAMBGQAAAAAAAgEZAq6qqqqrqRkAAAAAAAOBGQFVVVVVV1UZAAAAAAADgRkBVVVVVVbVGQAAAAAAAwEZAVVVVVVXVRkBVVVVVVVVGQAAAAAAAIEZAVVVVVVU1RkAAAAAAAIBGQKuqqqqqikZAq6qqqqrqRkCrqqqqqqpCQAAAAAAAwEJAVVVVVVX1QkCrqqqqqgpDQAAAAAAAQENAq6qqqqpKQ0AAAAAAAGBDQAAAAAAAYENAq6qqqqoqQ0BVVVVVVXVDQAAAAAAAgENAAAAAAADAQ0BVVVVVVdVDQAAAAAAAAERAAAAAAABAREBVVVVVVVVEQAAAAAAAYERAAAAAAACAREAAAAAAAIBEQKuqqqqqqkRAAAAAAADAREAAAAAAAOBEQAAAAAAAAEVAVVVVVVUVRUCrqqqqqipFQAAAAAAAQEVAAAAAAABARUCrqqqqqipFQA==\",\"dtype\":\"float64\",\"shape\":[98]}},\"selected\":{\"id\":\"e2ba3ab7-6a10-4015-a63d-1e18ec762bfa\",\"type\":\"Selection\"},\"selection_policy\":{\"id\":\"ca2dbdb9-cd41-41af-ae15-14c7a3de4cac\",\"type\":\"UnionRenderers\"}},\"id\":\"3f2d1206-9e6f-4318-85d1-4997668c125a\",\"type\":\"ColumnDataSource\"},{\"attributes\":{},\"id\":\"d5745fd5-a04b-4a32-975b-ee9b507a3425\",\"type\":\"UnionRenderers\"},{\"attributes\":{},\"id\":\"668aeef6-76a8-4452-9406-fda2ceb93b57\",\"type\":\"BasicTickFormatter\"},{\"attributes\":{\"fill_alpha\":{\"value\":0.9},\"fill_color\":{\"value\":\"red\"},\"line_alpha\":{\"value\":0.7},\"line_color\":{\"value\":\"red\"},\"x\":{\"field\":\"x\"},\"y\":{\"field\":\"y\"}},\"id\":\"e7b9344b-9758-4722-89ec-4a78b90d94ce\",\"type\":\"Circle\"},{\"attributes\":{\"fill_alpha\":{\"value\":0.1},\"fill_color\":{\"value\":\"#1f77b4\"},\"line_alpha\":{\"value\":0.1},\"line_color\":{\"value\":\"#1f77b4\"},\"x\":{\"field\":\"x\"},\"y\":{\"field\":\"y\"}},\"id\":\"b5edbb29-1392-4178-a1b2-f818cb1e82f5\",\"type\":\"Circle\"},{\"attributes\":{\"data_source\":{\"id\":\"1adf4c32-81d4-4a02-8604-2974598f62dc\",\"type\":\"ColumnDataSource\"},\"glyph\":{\"id\":\"e7b9344b-9758-4722-89ec-4a78b90d94ce\",\"type\":\"Circle\"},\"hover_glyph\":null,\"muted_glyph\":null,\"nonselection_glyph\":{\"id\":\"b5edbb29-1392-4178-a1b2-f818cb1e82f5\",\"type\":\"Circle\"},\"selection_glyph\":null,\"view\":{\"id\":\"8f71acf3-e2cf-48ee-a573-534397747e81\",\"type\":\"CDSView\"}},\"id\":\"5afc164f-7e80-4906-bb12-5cdc636539ca\",\"type\":\"GlyphRenderer\"},{\"attributes\":{},\"id\":\"fce184bd-6a2a-447b-be8e-add97d5f1edc\",\"type\":\"BasicTickFormatter\"},{\"attributes\":{\"source\":{\"id\":\"1adf4c32-81d4-4a02-8604-2974598f62dc\",\"type\":\"ColumnDataSource\"}},\"id\":\"8f71acf3-e2cf-48ee-a573-534397747e81\",\"type\":\"CDSView\"},{\"attributes\":{},\"id\":\"a3c04018-ef45-46c4-97a7-e77456165805\",\"type\":\"UnionRenderers\"},{\"attributes\":{\"fill_alpha\":{\"value\":0.9},\"fill_color\":{\"value\":\"black\"},\"line_alpha\":{\"value\":0.7},\"size\":{\"units\":\"screen\",\"value\":5},\"x\":{\"field\":\"x\"},\"y\":{\"field\":\"y\"}},\"id\":\"59972251-a942-4b95-93fa-e302c80d10cb\",\"type\":\"Circle\"},{\"attributes\":{},\"id\":\"f7245887-21b0-4e8a-bc2d-1afe97ca84a9\",\"type\":\"BasicTicker\"},{\"attributes\":{\"fill_alpha\":{\"value\":0.1},\"fill_color\":{\"value\":\"#1f77b4\"},\"line_alpha\":{\"value\":0.1},\"line_color\":{\"value\":\"#1f77b4\"},\"size\":{\"units\":\"screen\",\"value\":5},\"x\":{\"field\":\"x\"},\"y\":{\"field\":\"y\"}},\"id\":\"fb37effc-990f-4763-bd18-3298b31b7cb3\",\"type\":\"Circle\"},{\"attributes\":{\"data_source\":{\"id\":\"3f2d1206-9e6f-4318-85d1-4997668c125a\",\"type\":\"ColumnDataSource\"},\"glyph\":{\"id\":\"59972251-a942-4b95-93fa-e302c80d10cb\",\"type\":\"Circle\"},\"hover_glyph\":null,\"muted_glyph\":null,\"nonselection_glyph\":{\"id\":\"fb37effc-990f-4763-bd18-3298b31b7cb3\",\"type\":\"Circle\"},\"selection_glyph\":null,\"view\":{\"id\":\"912c324d-9a82-4204-a57b-22546dc0a158\",\"type\":\"CDSView\"}},\"id\":\"fa0736af-b87f-4988-871f-86d36da1263d\",\"type\":\"GlyphRenderer\"},{\"attributes\":{\"source\":{\"id\":\"3f2d1206-9e6f-4318-85d1-4997668c125a\",\"type\":\"ColumnDataSource\"}},\"id\":\"912c324d-9a82-4204-a57b-22546dc0a158\",\"type\":\"CDSView\"},{\"attributes\":{\"formatter\":{\"id\":\"668aeef6-76a8-4452-9406-fda2ceb93b57\",\"type\":\"BasicTickFormatter\"},\"plot\":{\"id\":\"851cc0d0-be56-47e6-8371-6e36a2335326\",\"subtype\":\"Figure\",\"type\":\"Plot\"},\"ticker\":{\"id\":\"f7245887-21b0-4e8a-bc2d-1afe97ca84a9\",\"type\":\"BasicTicker\"}},\"id\":\"914e09eb-8396-4e10-82c9-31565db4839d\",\"type\":\"LinearAxis\"},{\"attributes\":{},\"id\":\"af6d51d7-9abc-4fb0-858b-23ca697c7e18\",\"type\":\"Selection\"},{\"attributes\":{\"plot\":{\"id\":\"851cc0d0-be56-47e6-8371-6e36a2335326\",\"subtype\":\"Figure\",\"type\":\"Plot\"},\"ticker\":{\"id\":\"f7245887-21b0-4e8a-bc2d-1afe97ca84a9\",\"type\":\"BasicTicker\"}},\"id\":\"2d3fa081-cdb5-43ac-8d57-aaeda749181e\",\"type\":\"Grid\"},{\"attributes\":{},\"id\":\"e2ba3ab7-6a10-4015-a63d-1e18ec762bfa\",\"type\":\"Selection\"},{\"attributes\":{},\"id\":\"bbeca167-a206-46ba-97ee-161bb86b2837\",\"type\":\"LinearScale\"},{\"attributes\":{\"formatter\":{\"id\":\"fce184bd-6a2a-447b-be8e-add97d5f1edc\",\"type\":\"BasicTickFormatter\"},\"plot\":{\"id\":\"851cc0d0-be56-47e6-8371-6e36a2335326\",\"subtype\":\"Figure\",\"type\":\"Plot\"},\"ticker\":{\"id\":\"339c5815-c915-4c1d-a1e2-8a73ea70d21a\",\"type\":\"BasicTicker\"}},\"id\":\"355ee654-61b6-4bc7-8acf-24dc1acccc8d\",\"type\":\"LinearAxis\"},{\"attributes\":{},\"id\":\"e36ca0b8-a82f-4c91-ab0f-36a25321a246\",\"type\":\"LinearScale\"},{\"attributes\":{},\"id\":\"ca2dbdb9-cd41-41af-ae15-14c7a3de4cac\",\"type\":\"UnionRenderers\"},{\"attributes\":{},\"id\":\"896a69c3-0728-4b88-beab-28fa0f6e1d23\",\"type\":\"WheelZoomTool\"},{\"attributes\":{},\"id\":\"8416c49b-9685-4387-b5d2-7024ef9d1818\",\"type\":\"ResetTool\"},{\"attributes\":{\"bottom_units\":\"screen\",\"fill_alpha\":{\"value\":0.5},\"fill_color\":{\"value\":\"lightgrey\"},\"left_units\":\"screen\",\"level\":\"overlay\",\"line_alpha\":{\"value\":1.0},\"line_color\":{\"value\":\"black\"},\"line_dash\":[4,4],\"line_width\":{\"value\":2},\"plot\":null,\"render_mode\":\"css\",\"right_units\":\"screen\",\"top_units\":\"screen\"},\"id\":\"7ecd18d7-4e54-46d1-a02c-4f205dfdbbd6\",\"type\":\"BoxAnnotation\"},{\"attributes\":{\"callback\":null,\"data\":{\"x\":{\"__ndarray__\":\"VVVVVVVVEEBVVVVVVVURQAAAAAAAACJAAAAAAAAAKECrqqqqqqoSQFVVVVVVVRRAVVVVVVVVFUAAAAAAAAAYQAAAAAAAABhAAAAAAAAAGEAAAAAAAAAXQKuqqqqqqhhAAAAAAAAAGUAAAAAAAAAaQKuqqqqqqhpAAAAAAAAAHUAAAAAAAAAeQAAAAAAAAB5Aq6qqqqqqHkAAAAAAAAAgQAAAAAAAACFAq6qqqqqqIUAAAAAAAIAiQAAAAAAAgCNAAAAAAACAJECrqqqqqqolQAAAAAAAgCVAq6qqqqqqJkAAAAAAAAAnQFVVVVVVVQ1AAAAAAAAACEAAAAAAAAAEQAAAAAAAABRAVVVVVVVVFECrqqqqqqoRQAAAAAAAABFAq6qqqqqqFEAAAAAAAAAWQAAAAAAAACJAAAAAAAAAFECrqqqqqqoUQKuqqqqqqhRAVVVVVVVVFUAAAAAAAAAWQKuqqqqqqhRAq6qqqqqqFkAAAAAAAAAWQFVVVVVVVRVAAAAAAAAAFkCrqqqqqqoWQKuqqqqqqhZAVVVVVVVVFUAAAAAAAAAVQKuqqqqqqhZAAAAAAAAAGUAAAAAAAAAaQAAAAAAAAB1AAAAAAACAIEAAAAAAAAAiQKuqqqqqqiRAq6qqqqqqJkAAAAAAAIAnQAAAAAAAAChAAAAAAAAAKkBVVVVVVVUqQAAAAAAAACtAAAAAAACAK0CrqqqqqqosQFVVVVVVVS5AAAAAAAAALkAAAAAAAAAoQFVVVVVVVShAAAAAAACAKEBVVVVVVdUpQAAAAAAAAClAVVVVVVVVKUAAAAAAAAAqQAAAAAAAACtAAAAAAAAALEBVVVVVVVUtQAAAAAAAAC5AVVVVVVVVL0BVVVVVVdUvQAAAAAAAAC9AAAAAAAAAMEBVVVVVVVUwQFVVVVVV1TBAAAAAAABAMUAAAAAAAIAxQFVVVVVV1TFAAAAAAACAMkAAAAAAAAAyQAAAAAAAQDJAAAAAAACAMkAAAAAAAMAyQAAAAAAAADNAAAAAAACAM0BVVVVVVVU0QA==\",\"dtype\":\"float64\",\"shape\":[98]},\"y\":{\"__ndarray__\":\"VVVVVVXVQkAAAAAAAMBCQAAAAAAAgENAAAAAAACgQkCrqqqqqqpCQFVVVVVVlUJAAAAAAACAQkAAAAAAAGBCQKuqqqqqakJAq6qqqqoqQkAAAAAAAABCQFVVVVVVFUJAVVVVVVVVQkAAAAAAAEBCQKuqqqqqKkJAVVVVVVUVQkBVVVVVVRVCQAAAAAAAIEJAVVVVVVVVQkCrqqqqqgpCQAAAAAAAgEJAAAAAAADAQkAAAAAAAKBCQAAAAAAAoEJAAAAAAACgQkCrqqqqqopCQFVVVVVVlUJAq6qqqqqKQkCrqqqqqipCQAAAAAAA4EJAq6qqqqrqQkAAAAAAACBDQAAAAAAAgENAVVVVVVW1Q0AAAAAAAMBDQAAAAAAA4ENAAAAAAAAgREBVVVVVVRVEQFVVVVVVFURAVVVVVVVVRECrqqqqqmpEQKuqqqqqqkRAq6qqqqrqREAAAAAAACBFQAAAAAAAQEVAAAAAAABgRUAAAAAAAKBFQFVVVVVV1UVAAAAAAAAARkCrqqqqqipGQFVVVVVVVUZAAAAAAACARkBVVVVVVZVGQAAAAAAAwEZAAAAAAADARkAAAAAAAMBGQAAAAAAAgEZAq6qqqqrqRkAAAAAAAOBGQFVVVVVV1UZAAAAAAADgRkBVVVVVVbVGQAAAAAAAwEZAVVVVVVXVRkBVVVVVVVVGQAAAAAAAIEZAVVVVVVU1RkAAAAAAAIBGQKuqqqqqikZAq6qqqqrqRkCrqqqqqqpCQAAAAAAAwEJAVVVVVVX1QkCrqqqqqgpDQAAAAAAAQENAq6qqqqpKQ0AAAAAAAGBDQAAAAAAAYENAq6qqqqoqQ0BVVVVVVXVDQAAAAAAAgENAAAAAAADAQ0BVVVVVVdVDQAAAAAAAAERAAAAAAABAREBVVVVVVVVEQAAAAAAAYERAAAAAAACAREAAAAAAAIBEQKuqqqqqqkRAAAAAAADAREAAAAAAAOBEQAAAAAAAAEVAVVVVVVUVRUCrqqqqqipFQAAAAAAAQEVAAAAAAABARUCrqqqqqipFQA==\",\"dtype\":\"float64\",\"shape\":[98]}},\"selected\":{\"id\":\"fa1452b7-fedc-43bf-a785-856b9046398b\",\"type\":\"Selection\"},\"selection_policy\":{\"id\":\"a3c04018-ef45-46c4-97a7-e77456165805\",\"type\":\"UnionRenderers\"}},\"id\":\"f91849e1-6c16-4988-a97e-eb66e8152dc6\",\"type\":\"ColumnDataSource\"},{\"attributes\":{\"dimension\":1,\"plot\":{\"id\":\"851cc0d0-be56-47e6-8371-6e36a2335326\",\"subtype\":\"Figure\",\"type\":\"Plot\"},\"ticker\":{\"id\":\"339c5815-c915-4c1d-a1e2-8a73ea70d21a\",\"type\":\"BasicTicker\"}},\"id\":\"2f646a14-749c-4d2b-bd61-d024fbe13da3\",\"type\":\"Grid\"},{\"attributes\":{\"plot\":null,\"text\":\"Omega Recension\"},\"id\":\"5e1bd6e3-68d2-404d-bdaf-0c2fb50f16c9\",\"type\":\"Title\"},{\"attributes\":{},\"id\":\"339c5815-c915-4c1d-a1e2-8a73ea70d21a\",\"type\":\"BasicTicker\"},{\"attributes\":{\"callback\":null,\"end\":47,\"start\":35.5},\"id\":\"914362b5-6575-4453-8481-e73582935283\",\"type\":\"Range1d\"},{\"attributes\":{\"below\":[{\"id\":\"914e09eb-8396-4e10-82c9-31565db4839d\",\"type\":\"LinearAxis\"}],\"left\":[{\"id\":\"355ee654-61b6-4bc7-8acf-24dc1acccc8d\",\"type\":\"LinearAxis\"}],\"plot_width\":800,\"renderers\":[{\"id\":\"914e09eb-8396-4e10-82c9-31565db4839d\",\"type\":\"LinearAxis\"},{\"id\":\"2d3fa081-cdb5-43ac-8d57-aaeda749181e\",\"type\":\"Grid\"},{\"id\":\"355ee654-61b6-4bc7-8acf-24dc1acccc8d\",\"type\":\"LinearAxis\"},{\"id\":\"2f646a14-749c-4d2b-bd61-d024fbe13da3\",\"type\":\"Grid\"},{\"id\":\"7ecd18d7-4e54-46d1-a02c-4f205dfdbbd6\",\"type\":\"BoxAnnotation\"},{\"id\":\"491198d6-459b-4603-828f-17902d2402ea\",\"type\":\"GlyphRenderer\"},{\"id\":\"5afc164f-7e80-4906-bb12-5cdc636539ca\",\"type\":\"GlyphRenderer\"},{\"id\":\"fa0736af-b87f-4988-871f-86d36da1263d\",\"type\":\"GlyphRenderer\"}],\"title\":{\"id\":\"5e1bd6e3-68d2-404d-bdaf-0c2fb50f16c9\",\"type\":\"Title\"},\"toolbar\":{\"id\":\"f31ccc32-b1d6-4bb6-9dae-16cba4de62b9\",\"type\":\"Toolbar\"},\"x_range\":{\"id\":\"7c62841a-95e6-4deb-94ee-1df660e63ddd\",\"type\":\"Range1d\"},\"x_scale\":{\"id\":\"e36ca0b8-a82f-4c91-ab0f-36a25321a246\",\"type\":\"LinearScale\"},\"y_range\":{\"id\":\"914362b5-6575-4453-8481-e73582935283\",\"type\":\"Range1d\"},\"y_scale\":{\"id\":\"bbeca167-a206-46ba-97ee-161bb86b2837\",\"type\":\"LinearScale\"}},\"id\":\"851cc0d0-be56-47e6-8371-6e36a2335326\",\"subtype\":\"Figure\",\"type\":\"Plot\"}],\"root_ids\":[\"851cc0d0-be56-47e6-8371-6e36a2335326\"]},\"title\":\"Bokeh Application\",\"version\":\"0.12.16\"}};\n",
       "  var render_items = [{\"docid\":\"23cfe1fb-834f-44ce-98c6-02699e0c0782\",\"elementid\":\"f276dc53-69b4-4033-a591-821d52d13a0a\",\"modelid\":\"851cc0d0-be56-47e6-8371-6e36a2335326\"}];\n",
       "  root.Bokeh.embed.embed_items_notebook(docs_json, render_items);\n",
       "\n",
       "  }\n",
       "  if (root.Bokeh !== undefined) {\n",
       "    embed_document(root);\n",
       "  } else {\n",
       "    var attempts = 0;\n",
       "    var timer = setInterval(function(root) {\n",
       "      if (root.Bokeh !== undefined) {\n",
       "        embed_document(root);\n",
       "        clearInterval(timer);\n",
       "      }\n",
       "      attempts++;\n",
       "      if (attempts > 100) {\n",
       "        console.log(\"Bokeh: ERROR: Unable to run BokehJS code because BokehJS library is missing\")\n",
       "        clearInterval(timer);\n",
       "      }\n",
       "    }, 10, root)\n",
       "  }\n",
       "})(window);"
      ],
      "application/vnd.bokehjs_exec.v0+json": ""
     },
     "metadata": {
      "application/vnd.bokehjs_exec.v0+json": {
       "id": "851cc0d0-be56-47e6-8371-6e36a2335326"
      }
     },
     "output_type": "display_data"
    }
   ],
   "source": [
    "p = figure(title='Omega Recension', width=800, height=600, x_range=(1.5, 22), y_range=(35.5, 47), tools= [BoxZoomTool(), WheelZoomTool(), ResetTool()])\n",
    "\n",
    "# coasts \n",
    "p.line(dfOmegaCoasts['longitude'],dfOmegaCoasts['latitude'], color='grey')\n",
    "\n",
    "# localities\n",
    "p.circle(np.array(dfTemp['longitude']),np.array(dfTemp['latitude']), fill_color='red',size=4, fill_alpha=.9, line_color='red',line_alpha=0.7)\n",
    "p.circle(np.array(dfOmegaCoasts['longitude']),np.array(dfOmegaCoasts['latitude']), fill_color='black',size=5, fill_alpha=.9, line_color='black',line_alpha=0.7)\n",
    "\n",
    "show(p);"
   ]
  },
  {
   "cell_type": "markdown",
   "metadata": {},
   "source": [
    "First series of problems related to the filtering:\n",
    "\n",
    "- inland localities with two categories and in type_sec \"coastal section\" are still in the dataframe;\n",
    "- the city of Baria (ΙD = 2.04.08.08), located on the coast, is not integrated to a \"coastal section\" by Ptolemy, so does not appear as \"coastal\" here;\n",
    "- problem for filtering the boundary points: they have two categories (\"river mouth\" & \"boundary\" for instance) except one, on the Mediterranean coast between Baetica and Tarraconensis, which is only \"boundary\". I don't know how to deal with this automatically for the filtering.\n"
   ]
  },
  {
   "cell_type": "markdown",
   "metadata": {},
   "source": [
    "### problem with the ordering of the sections"
   ]
  },
  {
   "cell_type": "code",
   "execution_count": 157,
   "metadata": {},
   "outputs": [
    {
     "data": {
      "text/html": [
       "\n",
       "<div class=\"bk-root\">\n",
       "    <div class=\"bk-plotdiv\" id=\"e61d63e8-dc5e-41dc-ac96-719e33746bcf\"></div>\n",
       "</div>"
      ]
     },
     "metadata": {},
     "output_type": "display_data"
    },
    {
     "data": {
      "application/javascript": [
       "(function(root) {\n",
       "  function embed_document(root) {\n",
       "    \n",
       "  var docs_json = {\"89582271-683a-4d91-9b00-ad03bf3af436\":{\"roots\":{\"references\":[{\"attributes\":{\"line_color\":\"grey\",\"x\":{\"field\":\"x\"},\"y\":{\"field\":\"y\"}},\"id\":\"ff55a1d7-2dc2-45ae-930d-befed63a39f3\",\"type\":\"Line\"},{\"attributes\":{\"data_source\":{\"id\":\"22605265-25fd-456a-a24f-d9ab25f8d33d\",\"type\":\"ColumnDataSource\"},\"glyph\":{\"id\":\"b7c076ec-155d-4e59-8c66-02d662c17fbf\",\"type\":\"Circle\"},\"hover_glyph\":null,\"muted_glyph\":null,\"nonselection_glyph\":{\"id\":\"91ad045f-5846-4ca2-b94f-049ddd7829cb\",\"type\":\"Circle\"},\"selection_glyph\":null,\"view\":{\"id\":\"b81e2ffc-32b7-43d0-9a26-17c93e7fdcd5\",\"type\":\"CDSView\"}},\"id\":\"926f1345-9663-42e6-a7fb-21fccc6e59ae\",\"type\":\"GlyphRenderer\"},{\"attributes\":{\"source\":{\"id\":\"22605265-25fd-456a-a24f-d9ab25f8d33d\",\"type\":\"ColumnDataSource\"}},\"id\":\"b81e2ffc-32b7-43d0-9a26-17c93e7fdcd5\",\"type\":\"CDSView\"},{\"attributes\":{\"fill_alpha\":{\"value\":0.9},\"fill_color\":{\"value\":\"red\"},\"line_alpha\":{\"value\":0.7},\"line_color\":{\"value\":\"red\"},\"size\":{\"units\":\"screen\",\"value\":5},\"x\":{\"field\":\"x\"},\"y\":{\"field\":\"y\"}},\"id\":\"b1e9e4a3-9aed-4bcb-9e76-c630f7abfc57\",\"type\":\"Circle\"},{\"attributes\":{\"callback\":null,\"data\":{\"x\":{\"__ndarray__\":\"AAAAAAAAKEBVVVVVVVUoQAAAAAAAgChAVVVVVVXVKUAAAAAAAAApQFVVVVVVVSlAAAAAAAAAKkAAAAAAAAArQAAAAAAAACxAVVVVVVVVLUAAAAAAAAAuQFVVVVVVVS9AVVVVVVXVL0AAAAAAAAAvQAAAAAAAADBAVVVVVVVVMEBVVVVVVdUwQAAAAAAAQDFAAAAAAACAMUBVVVVVVdUxQAAAAAAAgDJAAAAAAAAAMkAAAAAAAEAyQAAAAAAAgDJAAAAAAADAMkAAAAAAAAAzQAAAAAAAgDNAVVVVVVVVNEA=\",\"dtype\":\"float64\",\"shape\":[28]},\"y\":{\"__ndarray__\":\"q6qqqqqqQkAAAAAAAMBCQFVVVVVV9UJAq6qqqqoKQ0AAAAAAAEBDQKuqqqqqSkNAAAAAAABgQ0AAAAAAAGBDQKuqqqqqKkNAVVVVVVV1Q0AAAAAAAIBDQAAAAAAAwENAVVVVVVXVQ0AAAAAAAABEQAAAAAAAQERAVVVVVVVVREAAAAAAAGBEQAAAAAAAgERAAAAAAACARECrqqqqqqpEQAAAAAAAwERAAAAAAADgREAAAAAAAABFQFVVVVVVFUVAq6qqqqoqRUAAAAAAAEBFQAAAAAAAQEVAq6qqqqoqRUA=\",\"dtype\":\"float64\",\"shape\":[28]}},\"selected\":{\"id\":\"57a57066-c453-4e89-b125-e113f64b7491\",\"type\":\"Selection\"},\"selection_policy\":{\"id\":\"5ded2cf6-c1d2-4a92-8b2e-884c37213b08\",\"type\":\"UnionRenderers\"}},\"id\":\"425961bb-4681-4625-b4ac-34bf53ce43fd\",\"type\":\"ColumnDataSource\"},{\"attributes\":{\"fill_alpha\":{\"value\":0.1},\"fill_color\":{\"value\":\"#1f77b4\"},\"line_alpha\":{\"value\":0.1},\"line_color\":{\"value\":\"#1f77b4\"},\"size\":{\"units\":\"screen\",\"value\":5},\"x\":{\"field\":\"x\"},\"y\":{\"field\":\"y\"}},\"id\":\"389efa01-d263-413a-b58a-ebdee8d7b4f7\",\"type\":\"Circle\"},{\"attributes\":{\"data_source\":{\"id\":\"bd21fd6c-d04a-46fc-b183-ba5bf0f378d9\",\"type\":\"ColumnDataSource\"},\"glyph\":{\"id\":\"b1e9e4a3-9aed-4bcb-9e76-c630f7abfc57\",\"type\":\"Circle\"},\"hover_glyph\":null,\"muted_glyph\":null,\"nonselection_glyph\":{\"id\":\"389efa01-d263-413a-b58a-ebdee8d7b4f7\",\"type\":\"Circle\"},\"selection_glyph\":null,\"view\":{\"id\":\"ef1ad241-2a8e-4661-b706-c0eedaf4109d\",\"type\":\"CDSView\"}},\"id\":\"56b6115b-d162-492e-bcec-c07df5422758\",\"type\":\"GlyphRenderer\"},{\"attributes\":{\"source\":{\"id\":\"bd21fd6c-d04a-46fc-b183-ba5bf0f378d9\",\"type\":\"ColumnDataSource\"}},\"id\":\"ef1ad241-2a8e-4661-b706-c0eedaf4109d\",\"type\":\"CDSView\"},{\"attributes\":{\"plot\":null,\"text\":\"Omega Recension\"},\"id\":\"994b01f7-1a23-474d-a357-f734a1b9c8ef\",\"type\":\"Title\"},{\"attributes\":{\"fill_alpha\":{\"value\":0.9},\"fill_color\":{\"value\":\"green\"},\"line_alpha\":{\"value\":0.7},\"line_color\":{\"value\":\"green\"},\"size\":{\"units\":\"screen\",\"value\":5},\"x\":{\"field\":\"x\"},\"y\":{\"field\":\"y\"}},\"id\":\"da41b711-9bcd-4a93-b598-9065f5233502\",\"type\":\"Circle\"},{\"attributes\":{\"fill_alpha\":{\"value\":0.1},\"fill_color\":{\"value\":\"#1f77b4\"},\"line_alpha\":{\"value\":0.1},\"line_color\":{\"value\":\"#1f77b4\"},\"size\":{\"units\":\"screen\",\"value\":5},\"x\":{\"field\":\"x\"},\"y\":{\"field\":\"y\"}},\"id\":\"b3bd8904-91ac-461d-9ded-8d86414c75e9\",\"type\":\"Circle\"},{\"attributes\":{\"data_source\":{\"id\":\"425961bb-4681-4625-b4ac-34bf53ce43fd\",\"type\":\"ColumnDataSource\"},\"glyph\":{\"id\":\"da41b711-9bcd-4a93-b598-9065f5233502\",\"type\":\"Circle\"},\"hover_glyph\":null,\"muted_glyph\":null,\"nonselection_glyph\":{\"id\":\"b3bd8904-91ac-461d-9ded-8d86414c75e9\",\"type\":\"Circle\"},\"selection_glyph\":null,\"view\":{\"id\":\"595b2326-3968-4501-95d4-57dda490d295\",\"type\":\"CDSView\"}},\"id\":\"6d7ab7e7-4475-46ce-946e-034bbbe681f1\",\"type\":\"GlyphRenderer\"},{\"attributes\":{\"source\":{\"id\":\"425961bb-4681-4625-b4ac-34bf53ce43fd\",\"type\":\"ColumnDataSource\"}},\"id\":\"595b2326-3968-4501-95d4-57dda490d295\",\"type\":\"CDSView\"},{\"attributes\":{\"callback\":null,\"data\":{\"x\":{\"__ndarray__\":\"AAAAAAAAMUA=\",\"dtype\":\"float64\",\"shape\":[1]},\"y\":{\"__ndarray__\":\"AAAAAACARUA=\",\"dtype\":\"float64\",\"shape\":[1]}},\"selected\":{\"id\":\"08d081f9-ffe7-4ad6-9332-3e1ef817f6d9\",\"type\":\"Selection\"},\"selection_policy\":{\"id\":\"8ff4a98b-40d8-456a-b5b6-a8f8c94a9192\",\"type\":\"UnionRenderers\"}},\"id\":\"f04c3ddd-962c-48c7-9502-efa1d5689eb2\",\"type\":\"ColumnDataSource\"},{\"attributes\":{\"source\":{\"id\":\"ee567bcb-14eb-4768-ac70-18c36de20689\",\"type\":\"ColumnDataSource\"}},\"id\":\"9beb0100-b935-4e8b-8936-9a10fa2bd357\",\"type\":\"CDSView\"},{\"attributes\":{\"fill_alpha\":{\"value\":0.9},\"fill_color\":{\"value\":\"orange\"},\"line_alpha\":{\"value\":0.7},\"line_color\":{\"value\":\"orange\"},\"size\":{\"units\":\"screen\",\"value\":5},\"x\":{\"field\":\"x\"},\"y\":{\"field\":\"y\"}},\"id\":\"73a97c85-7df8-4b01-9cb7-88d7f40316c1\",\"type\":\"Circle\"},{\"attributes\":{\"callback\":null,\"data\":{\"x\":{\"__ndarray__\":\"VVVVVVVVDUAAAAAAAAAIQAAAAAAAAARAAAAAAAAAFEBVVVVVVVUUQKuqqqqqqhFAAAAAAAAAEUCrqqqqqqoUQAAAAAAAABZAAAAAAAAAIkAAAAAAAAAUQKuqqqqqqhRAq6qqqqqqFEBVVVVVVVUVQAAAAAAAABZAq6qqqqqqFECrqqqqqqoWQAAAAAAAABZAVVVVVVVVFUAAAAAAAAAWQKuqqqqqqhZAq6qqqqqqFkBVVVVVVVUVQAAAAAAAABVAq6qqqqqqFkAAAAAAAAAZQAAAAAAAABpAAAAAAAAAHUAAAAAAAIAgQAAAAAAAACJAq6qqqqqqJECrqqqqqqomQAAAAAAAgCdAAAAAAAAAKEAAAAAAAAAqQFVVVVVVVSpAAAAAAAAAK0AAAAAAAIArQKuqqqqqqixAVVVVVVVVLkAAAAAAAAAuQA==\",\"dtype\":\"float64\",\"shape\":[41]},\"y\":{\"__ndarray__\":\"AAAAAADgQkCrqqqqqupCQAAAAAAAIENAAAAAAACAQ0BVVVVVVbVDQAAAAAAAwENAAAAAAADgQ0AAAAAAACBEQFVVVVVVFURAVVVVVVUVREBVVVVVVVVEQKuqqqqqakRAq6qqqqqqRECrqqqqqupEQAAAAAAAIEVAAAAAAABARUAAAAAAAGBFQAAAAAAAoEVAVVVVVVXVRUAAAAAAAABGQKuqqqqqKkZAVVVVVVVVRkAAAAAAAIBGQFVVVVVVlUZAAAAAAADARkAAAAAAAMBGQAAAAAAAwEZAAAAAAACARkCrqqqqqupGQAAAAAAA4EZAVVVVVVXVRkAAAAAAAOBGQFVVVVVVtUZAAAAAAADARkBVVVVVVdVGQFVVVVVVVUZAAAAAAAAgRkBVVVVVVTVGQAAAAAAAgEZAq6qqqqqKRkCrqqqqqupGQA==\",\"dtype\":\"float64\",\"shape\":[41]}},\"selected\":{\"id\":\"955bb0b1-f875-45d1-a9af-9d04f3433a12\",\"type\":\"Selection\"},\"selection_policy\":{\"id\":\"51b65637-11c2-44be-9fc3-289ee81424cb\",\"type\":\"UnionRenderers\"}},\"id\":\"ee567bcb-14eb-4768-ac70-18c36de20689\",\"type\":\"ColumnDataSource\"},{\"attributes\":{\"fill_alpha\":{\"value\":0.1},\"fill_color\":{\"value\":\"#1f77b4\"},\"line_alpha\":{\"value\":0.1},\"line_color\":{\"value\":\"#1f77b4\"},\"size\":{\"units\":\"screen\",\"value\":5},\"x\":{\"field\":\"x\"},\"y\":{\"field\":\"y\"}},\"id\":\"6abbb3ff-0449-4110-8e82-000223516bcb\",\"type\":\"Circle\"},{\"attributes\":{\"data_source\":{\"id\":\"f04c3ddd-962c-48c7-9502-efa1d5689eb2\",\"type\":\"ColumnDataSource\"},\"glyph\":{\"id\":\"73a97c85-7df8-4b01-9cb7-88d7f40316c1\",\"type\":\"Circle\"},\"hover_glyph\":null,\"muted_glyph\":null,\"nonselection_glyph\":{\"id\":\"6abbb3ff-0449-4110-8e82-000223516bcb\",\"type\":\"Circle\"},\"selection_glyph\":null,\"view\":{\"id\":\"b2876846-003e-4c3b-8520-8a56972e26d7\",\"type\":\"CDSView\"}},\"id\":\"f6d1f5cf-ee67-4818-a194-560b5c8a10c1\",\"type\":\"GlyphRenderer\"},{\"attributes\":{\"data_source\":{\"id\":\"ddef135a-4fde-4ce8-9b39-5ff28d12f7ac\",\"type\":\"ColumnDataSource\"},\"glyph\":{\"id\":\"ff55a1d7-2dc2-45ae-930d-befed63a39f3\",\"type\":\"Line\"},\"hover_glyph\":null,\"muted_glyph\":null,\"nonselection_glyph\":{\"id\":\"eaf7ff7b-ba24-43c5-b3b7-71f46c4421ce\",\"type\":\"Line\"},\"selection_glyph\":null,\"view\":{\"id\":\"ad470a53-2cbb-4a88-853e-c29e76f1be5e\",\"type\":\"CDSView\"}},\"id\":\"06aeb41f-e0e1-4fc4-adaa-05e53d6db201\",\"type\":\"GlyphRenderer\"},{\"attributes\":{\"source\":{\"id\":\"f04c3ddd-962c-48c7-9502-efa1d5689eb2\",\"type\":\"ColumnDataSource\"}},\"id\":\"b2876846-003e-4c3b-8520-8a56972e26d7\",\"type\":\"CDSView\"},{\"attributes\":{\"line_alpha\":0.1,\"line_color\":\"#1f77b4\",\"x\":{\"field\":\"x\"},\"y\":{\"field\":\"y\"}},\"id\":\"eaf7ff7b-ba24-43c5-b3b7-71f46c4421ce\",\"type\":\"Line\"},{\"attributes\":{\"callback\":null,\"data\":{\"x\":{\"__ndarray__\":\"AAAAAACAJ0A=\",\"dtype\":\"float64\",\"shape\":[1]},\"y\":{\"__ndarray__\":\"VVVVVVWVQkA=\",\"dtype\":\"float64\",\"shape\":[1]}},\"selected\":{\"id\":\"531f4d39-759f-4d08-b536-41d3fcbd7255\",\"type\":\"Selection\"},\"selection_policy\":{\"id\":\"79502491-6a38-4671-af56-7aac982b6d79\",\"type\":\"UnionRenderers\"}},\"id\":\"4960c681-e444-4751-9bd4-d35b155cda03\",\"type\":\"ColumnDataSource\"},{\"attributes\":{\"callback\":null,\"data\":{},\"selected\":{\"id\":\"d1060783-2130-4ef6-b1d5-2f5197c19783\",\"type\":\"Selection\"},\"selection_policy\":{\"id\":\"f207fcd6-d4ad-4cfa-81d7-d85ab313c519\",\"type\":\"UnionRenderers\"}},\"id\":\"a586c90f-8d66-486f-8dfe-d4c90560dca5\",\"type\":\"ColumnDataSource\"},{\"attributes\":{\"line_alpha\":0.1,\"line_color\":\"#1f77b4\",\"x\":{\"field\":\"x\"},\"y\":{\"field\":\"y\"}},\"id\":\"f509a5c6-1681-4d20-a2d9-039b96adc858\",\"type\":\"Line\"},{\"attributes\":{},\"id\":\"317fc4fa-8493-4889-a0e9-f593b5b86554\",\"type\":\"BasicTickFormatter\"},{\"attributes\":{\"callback\":null,\"data\":{\"x\":{\"__ndarray__\":\"VVVVVVVVEEBVVVVVVVURQAAAAAAAACJAAAAAAAAAKECrqqqqqqoSQFVVVVVVVRRAVVVVVVVVFUAAAAAAAAAYQAAAAAAAABhAAAAAAAAAGEAAAAAAAAAXQKuqqqqqqhhAAAAAAAAAGUAAAAAAAAAaQKuqqqqqqhpAAAAAAAAAHUAAAAAAAAAeQAAAAAAAAB5Aq6qqqqqqHkAAAAAAAAAgQAAAAAAAACFAq6qqqqqqIUAAAAAAAIAiQAAAAAAAgCNAAAAAAACAJECrqqqqqqolQAAAAAAAgCVAq6qqqqqqJkAAAAAAAAAnQA==\",\"dtype\":\"float64\",\"shape\":[29]},\"y\":{\"__ndarray__\":\"VVVVVVXVQkAAAAAAAMBCQAAAAAAAgENAAAAAAACgQkCrqqqqqqpCQFVVVVVVlUJAAAAAAACAQkAAAAAAAGBCQKuqqqqqakJAq6qqqqoqQkAAAAAAAABCQFVVVVVVFUJAVVVVVVVVQkAAAAAAAEBCQKuqqqqqKkJAVVVVVVUVQkBVVVVVVRVCQAAAAAAAIEJAVVVVVVVVQkCrqqqqqgpCQAAAAAAAgEJAAAAAAADAQkAAAAAAAKBCQAAAAAAAoEJAAAAAAACgQkCrqqqqqopCQFVVVVVVlUJAq6qqqqqKQkCrqqqqqipCQA==\",\"dtype\":\"float64\",\"shape\":[29]}},\"selected\":{\"id\":\"0bd19036-a384-4b09-8813-b652b3c3915d\",\"type\":\"Selection\"},\"selection_policy\":{\"id\":\"9446308f-f678-44f9-8b66-f026c2f526f4\",\"type\":\"UnionRenderers\"}},\"id\":\"22605265-25fd-456a-a24f-d9ab25f8d33d\",\"type\":\"ColumnDataSource\"},{\"attributes\":{\"formatter\":{\"id\":\"317fc4fa-8493-4889-a0e9-f593b5b86554\",\"type\":\"BasicTickFormatter\"},\"plot\":{\"id\":\"3ff7cc14-602c-433d-8896-b88865eacf6b\",\"subtype\":\"Figure\",\"type\":\"Plot\"},\"ticker\":{\"id\":\"569d33fb-54ed-42d1-8fda-ba72b7a339e7\",\"type\":\"BasicTicker\"}},\"id\":\"496a378c-f8de-4fd4-9fe7-d9c757379f34\",\"type\":\"LinearAxis\"},{\"attributes\":{\"fill_alpha\":{\"value\":0.9},\"fill_color\":{\"value\":\"grey\"},\"line_alpha\":{\"value\":0.7},\"line_color\":{\"value\":\"grey\"},\"size\":{\"units\":\"screen\",\"value\":5},\"x\":{\"field\":\"x\"},\"y\":{\"field\":\"y\"}},\"id\":\"544fd6b3-5ec0-431a-af0d-a28c9181d664\",\"type\":\"Circle\"},{\"attributes\":{\"line_color\":\"grey\",\"x\":{\"field\":\"x\"},\"y\":{\"field\":\"y\"}},\"id\":\"494d7447-bebd-429d-9829-1af0ea029481\",\"type\":\"Line\"},{\"attributes\":{\"fill_alpha\":{\"value\":0.1},\"fill_color\":{\"value\":\"#1f77b4\"},\"line_alpha\":{\"value\":0.1},\"line_color\":{\"value\":\"#1f77b4\"},\"size\":{\"units\":\"screen\",\"value\":5},\"x\":{\"field\":\"x\"},\"y\":{\"field\":\"y\"}},\"id\":\"a1cbfba1-dd35-4674-ac29-d5aea3d5b326\",\"type\":\"Circle\"},{\"attributes\":{\"data_source\":{\"id\":\"4960c681-e444-4751-9bd4-d35b155cda03\",\"type\":\"ColumnDataSource\"},\"glyph\":{\"id\":\"544fd6b3-5ec0-431a-af0d-a28c9181d664\",\"type\":\"Circle\"},\"hover_glyph\":null,\"muted_glyph\":null,\"nonselection_glyph\":{\"id\":\"a1cbfba1-dd35-4674-ac29-d5aea3d5b326\",\"type\":\"Circle\"},\"selection_glyph\":null,\"view\":{\"id\":\"7ff10118-7bc9-4c41-b007-e1f789c8a725\",\"type\":\"CDSView\"}},\"id\":\"7bd2956c-eb44-4c8f-9d0b-b34573ef5769\",\"type\":\"GlyphRenderer\"},{\"attributes\":{\"source\":{\"id\":\"4960c681-e444-4751-9bd4-d35b155cda03\",\"type\":\"ColumnDataSource\"}},\"id\":\"7ff10118-7bc9-4c41-b007-e1f789c8a725\",\"type\":\"CDSView\"},{\"attributes\":{\"fill_alpha\":{\"value\":0.9},\"fill_color\":{\"value\":\"black\"},\"line_alpha\":{\"value\":0.7},\"size\":{\"units\":\"screen\",\"value\":5},\"x\":{\"value\":19},\"y\":{\"value\":43.167}},\"id\":\"54967ada-485b-4cc0-a3c0-641619bf7029\",\"type\":\"Circle\"},{\"attributes\":{\"callback\":null,\"data\":{\"x\":[15,17,19,20.333],\"y\":[45.833,43,43.167,42.333]},\"selected\":{\"id\":\"8cad377f-6349-4da7-a52f-903919f4c0c4\",\"type\":\"Selection\"},\"selection_policy\":{\"id\":\"5a0d632f-d5bc-4204-ab78-14833029da07\",\"type\":\"UnionRenderers\"}},\"id\":\"2825a0e5-52bd-4848-ba5f-c273d089264c\",\"type\":\"ColumnDataSource\"},{\"attributes\":{\"fill_alpha\":{\"value\":0.1},\"fill_color\":{\"value\":\"#1f77b4\"},\"line_alpha\":{\"value\":0.1},\"line_color\":{\"value\":\"#1f77b4\"},\"size\":{\"units\":\"screen\",\"value\":5},\"x\":{\"value\":19},\"y\":{\"value\":43.167}},\"id\":\"789fa947-57f6-4bf7-8466-af4563428b41\",\"type\":\"Circle\"},{\"attributes\":{\"data_source\":{\"id\":\"a586c90f-8d66-486f-8dfe-d4c90560dca5\",\"type\":\"ColumnDataSource\"},\"glyph\":{\"id\":\"54967ada-485b-4cc0-a3c0-641619bf7029\",\"type\":\"Circle\"},\"hover_glyph\":null,\"muted_glyph\":null,\"nonselection_glyph\":{\"id\":\"789fa947-57f6-4bf7-8466-af4563428b41\",\"type\":\"Circle\"},\"selection_glyph\":null,\"view\":{\"id\":\"7c51432e-dff2-4cb2-b519-d5e7253b4e21\",\"type\":\"CDSView\"}},\"id\":\"c72d04f9-1ca6-454c-b82d-58ae8fe45082\",\"type\":\"GlyphRenderer\"},{\"attributes\":{\"source\":{\"id\":\"a586c90f-8d66-486f-8dfe-d4c90560dca5\",\"type\":\"ColumnDataSource\"}},\"id\":\"7c51432e-dff2-4cb2-b519-d5e7253b4e21\",\"type\":\"CDSView\"},{\"attributes\":{\"source\":{\"id\":\"2825a0e5-52bd-4848-ba5f-c273d089264c\",\"type\":\"ColumnDataSource\"}},\"id\":\"e55c2fb2-3f66-4571-b29d-6f9584b4e8f9\",\"type\":\"CDSView\"},{\"attributes\":{\"data_source\":{\"id\":\"ee567bcb-14eb-4768-ac70-18c36de20689\",\"type\":\"ColumnDataSource\"},\"glyph\":{\"id\":\"494d7447-bebd-429d-9829-1af0ea029481\",\"type\":\"Line\"},\"hover_glyph\":null,\"muted_glyph\":null,\"nonselection_glyph\":{\"id\":\"f509a5c6-1681-4d20-a2d9-039b96adc858\",\"type\":\"Line\"},\"selection_glyph\":null,\"view\":{\"id\":\"9beb0100-b935-4e8b-8936-9a10fa2bd357\",\"type\":\"CDSView\"}},\"id\":\"1af3b67f-e01a-456c-9934-a3190884c8d8\",\"type\":\"GlyphRenderer\"},{\"attributes\":{\"line_alpha\":0.8,\"x\":{\"field\":\"x\"},\"y\":{\"field\":\"y\"}},\"id\":\"f1151840-598d-4bf5-a7db-ba05a547be72\",\"type\":\"Line\"},{\"attributes\":{\"data_source\":{\"id\":\"2825a0e5-52bd-4848-ba5f-c273d089264c\",\"type\":\"ColumnDataSource\"},\"glyph\":{\"id\":\"f1151840-598d-4bf5-a7db-ba05a547be72\",\"type\":\"Line\"},\"hover_glyph\":null,\"muted_glyph\":null,\"nonselection_glyph\":{\"id\":\"d685ce4b-66a0-4e4e-b8cb-fc3329ca7a55\",\"type\":\"Line\"},\"selection_glyph\":null,\"view\":{\"id\":\"e55c2fb2-3f66-4571-b29d-6f9584b4e8f9\",\"type\":\"CDSView\"}},\"id\":\"581ddb36-eb3d-498c-a84f-521e0a613fb4\",\"type\":\"GlyphRenderer\"},{\"attributes\":{\"line_alpha\":0.1,\"line_color\":\"#1f77b4\",\"x\":{\"field\":\"x\"},\"y\":{\"field\":\"y\"}},\"id\":\"d685ce4b-66a0-4e4e-b8cb-fc3329ca7a55\",\"type\":\"Line\"},{\"attributes\":{},\"id\":\"481e7aa0-27c7-46d1-a558-6ab5beafe39d\",\"type\":\"BasicTickFormatter\"},{\"attributes\":{},\"id\":\"955bb0b1-f875-45d1-a9af-9d04f3433a12\",\"type\":\"Selection\"},{\"attributes\":{},\"id\":\"c28f940e-a24a-4ee5-96e3-d1bc272a5683\",\"type\":\"Selection\"},{\"attributes\":{},\"id\":\"9446308f-f678-44f9-8b66-f026c2f526f4\",\"type\":\"UnionRenderers\"},{\"attributes\":{},\"id\":\"ef98cb4a-bf61-47fc-9eb0-f3dd9da5a0f8\",\"type\":\"UnionRenderers\"},{\"attributes\":{},\"id\":\"0bd19036-a384-4b09-8813-b652b3c3915d\",\"type\":\"Selection\"},{\"attributes\":{},\"id\":\"51b65637-11c2-44be-9fc3-289ee81424cb\",\"type\":\"UnionRenderers\"},{\"attributes\":{},\"id\":\"2d63eb67-b02d-461e-b2dc-85b72980df3b\",\"type\":\"WheelZoomTool\"},{\"attributes\":{},\"id\":\"492ada11-30a1-4459-905f-4048eab68d57\",\"type\":\"UnionRenderers\"},{\"attributes\":{},\"id\":\"cb6dacca-ad92-4d19-a419-3472daec5ca7\",\"type\":\"Selection\"},{\"attributes\":{\"callback\":null,\"end\":22,\"start\":1.5},\"id\":\"19839d8c-9a27-472c-babb-cabc0f314e53\",\"type\":\"Range1d\"},{\"attributes\":{},\"id\":\"470e716d-8033-494b-90f0-bf001e2f2a06\",\"type\":\"UnionRenderers\"},{\"attributes\":{\"data_source\":{\"id\":\"ac379533-f1f5-44ca-abe7-cc911e948d0a\",\"type\":\"ColumnDataSource\"},\"glyph\":{\"id\":\"549b49d9-fd7e-4425-9eda-fffbc8629ef4\",\"type\":\"Line\"},\"hover_glyph\":null,\"muted_glyph\":null,\"nonselection_glyph\":{\"id\":\"83207096-d75e-4a97-a8ee-828473951628\",\"type\":\"Line\"},\"selection_glyph\":null,\"view\":{\"id\":\"e866da1b-254c-439d-834c-051b0d3d3832\",\"type\":\"CDSView\"}},\"id\":\"18e973c4-adf5-401b-a5c6-d993c85bd884\",\"type\":\"GlyphRenderer\"},{\"attributes\":{},\"id\":\"45f77fb3-d770-4f22-bf20-a838325de045\",\"type\":\"Selection\"},{\"attributes\":{\"below\":[{\"id\":\"496a378c-f8de-4fd4-9fe7-d9c757379f34\",\"type\":\"LinearAxis\"}],\"left\":[{\"id\":\"7f728214-2d92-4a77-b7bc-48898582686c\",\"type\":\"LinearAxis\"}],\"plot_width\":800,\"renderers\":[{\"id\":\"496a378c-f8de-4fd4-9fe7-d9c757379f34\",\"type\":\"LinearAxis\"},{\"id\":\"dae186bb-6b60-40ce-a9c0-8b0a523326f7\",\"type\":\"Grid\"},{\"id\":\"7f728214-2d92-4a77-b7bc-48898582686c\",\"type\":\"LinearAxis\"},{\"id\":\"51dc3b3f-1ae0-4943-a02a-5e3576de7580\",\"type\":\"Grid\"},{\"id\":\"eed66b3e-0fdb-4114-b95f-de7750c37e61\",\"type\":\"BoxAnnotation\"},{\"id\":\"18e973c4-adf5-401b-a5c6-d993c85bd884\",\"type\":\"GlyphRenderer\"},{\"id\":\"1af3b67f-e01a-456c-9934-a3190884c8d8\",\"type\":\"GlyphRenderer\"},{\"id\":\"06aeb41f-e0e1-4fc4-adaa-05e53d6db201\",\"type\":\"GlyphRenderer\"},{\"id\":\"926f1345-9663-42e6-a7fb-21fccc6e59ae\",\"type\":\"GlyphRenderer\"},{\"id\":\"56b6115b-d162-492e-bcec-c07df5422758\",\"type\":\"GlyphRenderer\"},{\"id\":\"6d7ab7e7-4475-46ce-946e-034bbbe681f1\",\"type\":\"GlyphRenderer\"},{\"id\":\"f6d1f5cf-ee67-4818-a194-560b5c8a10c1\",\"type\":\"GlyphRenderer\"},{\"id\":\"7bd2956c-eb44-4c8f-9d0b-b34573ef5769\",\"type\":\"GlyphRenderer\"},{\"id\":\"c72d04f9-1ca6-454c-b82d-58ae8fe45082\",\"type\":\"GlyphRenderer\"},{\"id\":\"581ddb36-eb3d-498c-a84f-521e0a613fb4\",\"type\":\"GlyphRenderer\"}],\"title\":{\"id\":\"994b01f7-1a23-474d-a357-f734a1b9c8ef\",\"type\":\"Title\"},\"toolbar\":{\"id\":\"6b80027b-aaa0-42af-a832-46c0ac305641\",\"type\":\"Toolbar\"},\"x_range\":{\"id\":\"19839d8c-9a27-472c-babb-cabc0f314e53\",\"type\":\"Range1d\"},\"x_scale\":{\"id\":\"c4557190-f167-438e-84bc-3d11049eeb0d\",\"type\":\"LinearScale\"},\"y_range\":{\"id\":\"27ca2de5-4aa4-43fb-979a-8598eac78d97\",\"type\":\"Range1d\"},\"y_scale\":{\"id\":\"8e659813-f0c3-44f7-bd76-8a6ede32a632\",\"type\":\"LinearScale\"}},\"id\":\"3ff7cc14-602c-433d-8896-b88865eacf6b\",\"subtype\":\"Figure\",\"type\":\"Plot\"},{\"attributes\":{},\"id\":\"5ded2cf6-c1d2-4a92-8b2e-884c37213b08\",\"type\":\"UnionRenderers\"},{\"attributes\":{\"source\":{\"id\":\"ac379533-f1f5-44ca-abe7-cc911e948d0a\",\"type\":\"ColumnDataSource\"}},\"id\":\"e866da1b-254c-439d-834c-051b0d3d3832\",\"type\":\"CDSView\"},{\"attributes\":{},\"id\":\"57a57066-c453-4e89-b125-e113f64b7491\",\"type\":\"Selection\"},{\"attributes\":{\"line_alpha\":0.1,\"line_color\":\"#1f77b4\",\"x\":{\"field\":\"x\"},\"y\":{\"field\":\"y\"}},\"id\":\"83207096-d75e-4a97-a8ee-828473951628\",\"type\":\"Line\"},{\"attributes\":{},\"id\":\"8ff4a98b-40d8-456a-b5b6-a8f8c94a9192\",\"type\":\"UnionRenderers\"},{\"attributes\":{\"overlay\":{\"id\":\"eed66b3e-0fdb-4114-b95f-de7750c37e61\",\"type\":\"BoxAnnotation\"}},\"id\":\"afd07e61-2d7a-4de8-bca9-4ce183f2c823\",\"type\":\"BoxZoomTool\"},{\"attributes\":{\"callback\":null,\"data\":{\"x\":{\"__ndarray__\":\"VVVVVVVVDUAAAAAAAAAIQAAAAAAAAARAAAAAAAAAFEBVVVVVVVUUQKuqqqqqqhFAAAAAAAAAEUCrqqqqqqoUQAAAAAAAABZAAAAAAAAAIkAAAAAAAAAUQKuqqqqqqhRAq6qqqqqqFEBVVVVVVVUVQAAAAAAAABZAq6qqqqqqFECrqqqqqqoWQAAAAAAAABZAVVVVVVVVFUAAAAAAAAAWQKuqqqqqqhZAq6qqqqqqFkBVVVVVVVUVQAAAAAAAABVAq6qqqqqqFkAAAAAAAAAZQAAAAAAAABpAAAAAAAAAHUAAAAAAAIAgQAAAAAAAACJAq6qqqqqqJECrqqqqqqomQAAAAAAAgCdAAAAAAAAAKEAAAAAAAAAqQFVVVVVVVSpAAAAAAAAAK0AAAAAAAIArQKuqqqqqqixAVVVVVVVVLkAAAAAAAAAuQA==\",\"dtype\":\"float64\",\"shape\":[41]},\"y\":{\"__ndarray__\":\"AAAAAADgQkCrqqqqqupCQAAAAAAAIENAAAAAAACAQ0BVVVVVVbVDQAAAAAAAwENAAAAAAADgQ0AAAAAAACBEQFVVVVVVFURAVVVVVVUVREBVVVVVVVVEQKuqqqqqakRAq6qqqqqqRECrqqqqqupEQAAAAAAAIEVAAAAAAABARUAAAAAAAGBFQAAAAAAAoEVAVVVVVVXVRUAAAAAAAABGQKuqqqqqKkZAVVVVVVVVRkAAAAAAAIBGQFVVVVVVlUZAAAAAAADARkAAAAAAAMBGQAAAAAAAwEZAAAAAAACARkCrqqqqqupGQAAAAAAA4EZAVVVVVVXVRkAAAAAAAOBGQFVVVVVVtUZAAAAAAADARkBVVVVVVdVGQFVVVVVVVUZAAAAAAAAgRkBVVVVVVTVGQAAAAAAAgEZAq6qqqqqKRkCrqqqqqupGQA==\",\"dtype\":\"float64\",\"shape\":[41]}},\"selected\":{\"id\":\"45f77fb3-d770-4f22-bf20-a838325de045\",\"type\":\"Selection\"},\"selection_policy\":{\"id\":\"470e716d-8033-494b-90f0-bf001e2f2a06\",\"type\":\"UnionRenderers\"}},\"id\":\"bd21fd6c-d04a-46fc-b183-ba5bf0f378d9\",\"type\":\"ColumnDataSource\"},{\"attributes\":{},\"id\":\"08d081f9-ffe7-4ad6-9332-3e1ef817f6d9\",\"type\":\"Selection\"},{\"attributes\":{},\"id\":\"79502491-6a38-4671-af56-7aac982b6d79\",\"type\":\"UnionRenderers\"},{\"attributes\":{},\"id\":\"f2663254-b5e7-490a-9707-4c89ed262c80\",\"type\":\"ResetTool\"},{\"attributes\":{},\"id\":\"531f4d39-759f-4d08-b536-41d3fcbd7255\",\"type\":\"Selection\"},{\"attributes\":{},\"id\":\"f207fcd6-d4ad-4cfa-81d7-d85ab313c519\",\"type\":\"UnionRenderers\"},{\"attributes\":{\"active_drag\":\"auto\",\"active_inspect\":\"auto\",\"active_scroll\":\"auto\",\"active_tap\":\"auto\",\"tools\":[{\"id\":\"afd07e61-2d7a-4de8-bca9-4ce183f2c823\",\"type\":\"BoxZoomTool\"},{\"id\":\"2d63eb67-b02d-461e-b2dc-85b72980df3b\",\"type\":\"WheelZoomTool\"},{\"id\":\"f2663254-b5e7-490a-9707-4c89ed262c80\",\"type\":\"ResetTool\"}]},\"id\":\"6b80027b-aaa0-42af-a832-46c0ac305641\",\"type\":\"Toolbar\"},{\"attributes\":{\"fill_alpha\":{\"value\":0.1},\"fill_color\":{\"value\":\"#1f77b4\"},\"line_alpha\":{\"value\":0.1},\"line_color\":{\"value\":\"#1f77b4\"},\"size\":{\"units\":\"screen\",\"value\":5},\"x\":{\"field\":\"x\"},\"y\":{\"field\":\"y\"}},\"id\":\"91ad045f-5846-4ca2-b94f-049ddd7829cb\",\"type\":\"Circle\"},{\"attributes\":{},\"id\":\"d1060783-2130-4ef6-b1d5-2f5197c19783\",\"type\":\"Selection\"},{\"attributes\":{},\"id\":\"c4557190-f167-438e-84bc-3d11049eeb0d\",\"type\":\"LinearScale\"},{\"attributes\":{\"source\":{\"id\":\"ddef135a-4fde-4ce8-9b39-5ff28d12f7ac\",\"type\":\"ColumnDataSource\"}},\"id\":\"ad470a53-2cbb-4a88-853e-c29e76f1be5e\",\"type\":\"CDSView\"},{\"attributes\":{},\"id\":\"5a0d632f-d5bc-4204-ab78-14833029da07\",\"type\":\"UnionRenderers\"},{\"attributes\":{\"bottom_units\":\"screen\",\"fill_alpha\":{\"value\":0.5},\"fill_color\":{\"value\":\"lightgrey\"},\"left_units\":\"screen\",\"level\":\"overlay\",\"line_alpha\":{\"value\":1.0},\"line_color\":{\"value\":\"black\"},\"line_dash\":[4,4],\"line_width\":{\"value\":2},\"plot\":null,\"render_mode\":\"css\",\"right_units\":\"screen\",\"top_units\":\"screen\"},\"id\":\"eed66b3e-0fdb-4114-b95f-de7750c37e61\",\"type\":\"BoxAnnotation\"},{\"attributes\":{},\"id\":\"8cad377f-6349-4da7-a52f-903919f4c0c4\",\"type\":\"Selection\"},{\"attributes\":{\"callback\":null,\"end\":47,\"start\":35.5},\"id\":\"27ca2de5-4aa4-43fb-979a-8598eac78d97\",\"type\":\"Range1d\"},{\"attributes\":{\"dimension\":1,\"plot\":{\"id\":\"3ff7cc14-602c-433d-8896-b88865eacf6b\",\"subtype\":\"Figure\",\"type\":\"Plot\"},\"ticker\":{\"id\":\"b4ee1d2d-3a46-4d6a-ae2a-cdb3d786cc95\",\"type\":\"BasicTicker\"}},\"id\":\"51dc3b3f-1ae0-4943-a02a-5e3576de7580\",\"type\":\"Grid\"},{\"attributes\":{},\"id\":\"569d33fb-54ed-42d1-8fda-ba72b7a339e7\",\"type\":\"BasicTicker\"},{\"attributes\":{\"plot\":{\"id\":\"3ff7cc14-602c-433d-8896-b88865eacf6b\",\"subtype\":\"Figure\",\"type\":\"Plot\"},\"ticker\":{\"id\":\"569d33fb-54ed-42d1-8fda-ba72b7a339e7\",\"type\":\"BasicTicker\"}},\"id\":\"dae186bb-6b60-40ce-a9c0-8b0a523326f7\",\"type\":\"Grid\"},{\"attributes\":{\"fill_alpha\":{\"value\":0.9},\"fill_color\":{\"value\":\"blue\"},\"line_alpha\":{\"value\":0.7},\"line_color\":{\"value\":\"blue\"},\"size\":{\"units\":\"screen\",\"value\":5},\"x\":{\"field\":\"x\"},\"y\":{\"field\":\"y\"}},\"id\":\"b7c076ec-155d-4e59-8c66-02d662c17fbf\",\"type\":\"Circle\"},{\"attributes\":{},\"id\":\"8e659813-f0c3-44f7-bd76-8a6ede32a632\",\"type\":\"LinearScale\"},{\"attributes\":{},\"id\":\"b4ee1d2d-3a46-4d6a-ae2a-cdb3d786cc95\",\"type\":\"BasicTicker\"},{\"attributes\":{\"formatter\":{\"id\":\"481e7aa0-27c7-46d1-a558-6ab5beafe39d\",\"type\":\"BasicTickFormatter\"},\"plot\":{\"id\":\"3ff7cc14-602c-433d-8896-b88865eacf6b\",\"subtype\":\"Figure\",\"type\":\"Plot\"},\"ticker\":{\"id\":\"b4ee1d2d-3a46-4d6a-ae2a-cdb3d786cc95\",\"type\":\"BasicTicker\"}},\"id\":\"7f728214-2d92-4a77-b7bc-48898582686c\",\"type\":\"LinearAxis\"},{\"attributes\":{\"callback\":null,\"data\":{\"x\":{\"__ndarray__\":\"VVVVVVVVEEBVVVVVVVURQAAAAAAAACJAAAAAAAAAKECrqqqqqqoSQFVVVVVVVRRAVVVVVVVVFUAAAAAAAAAYQAAAAAAAABhAAAAAAAAAGEAAAAAAAAAXQKuqqqqqqhhAAAAAAAAAGUAAAAAAAAAaQKuqqqqqqhpAAAAAAAAAHUAAAAAAAAAeQAAAAAAAAB5Aq6qqqqqqHkAAAAAAAAAgQAAAAAAAACFAq6qqqqqqIUAAAAAAAIAiQAAAAAAAgCNAAAAAAACAJECrqqqqqqolQAAAAAAAgCVAq6qqqqqqJkAAAAAAAAAnQA==\",\"dtype\":\"float64\",\"shape\":[29]},\"y\":{\"__ndarray__\":\"VVVVVVXVQkAAAAAAAMBCQAAAAAAAgENAAAAAAACgQkCrqqqqqqpCQFVVVVVVlUJAAAAAAACAQkAAAAAAAGBCQKuqqqqqakJAq6qqqqoqQkAAAAAAAABCQFVVVVVVFUJAVVVVVVVVQkAAAAAAAEBCQKuqqqqqKkJAVVVVVVUVQkBVVVVVVRVCQAAAAAAAIEJAVVVVVVVVQkCrqqqqqgpCQAAAAAAAgEJAAAAAAADAQkAAAAAAAKBCQAAAAAAAoEJAAAAAAACgQkCrqqqqqopCQFVVVVVVlUJAq6qqqqqKQkCrqqqqqipCQA==\",\"dtype\":\"float64\",\"shape\":[29]}},\"selected\":{\"id\":\"c28f940e-a24a-4ee5-96e3-d1bc272a5683\",\"type\":\"Selection\"},\"selection_policy\":{\"id\":\"ef98cb4a-bf61-47fc-9eb0-f3dd9da5a0f8\",\"type\":\"UnionRenderers\"}},\"id\":\"ac379533-f1f5-44ca-abe7-cc911e948d0a\",\"type\":\"ColumnDataSource\"},{\"attributes\":{\"callback\":null,\"data\":{\"x\":{\"__ndarray__\":\"AAAAAAAAKEBVVVVVVVUoQAAAAAAAgChAVVVVVVXVKUAAAAAAAAApQFVVVVVVVSlAAAAAAAAAKkAAAAAAAAArQAAAAAAAACxAVVVVVVVVLUAAAAAAAAAuQFVVVVVVVS9AVVVVVVXVL0AAAAAAAAAvQAAAAAAAADBAVVVVVVVVMEBVVVVVVdUwQAAAAAAAQDFAAAAAAACAMUBVVVVVVdUxQAAAAAAAgDJAAAAAAAAAMkAAAAAAAEAyQAAAAAAAgDJAAAAAAADAMkAAAAAAAAAzQAAAAAAAgDNAVVVVVVVVNEA=\",\"dtype\":\"float64\",\"shape\":[28]},\"y\":{\"__ndarray__\":\"q6qqqqqqQkAAAAAAAMBCQFVVVVVV9UJAq6qqqqoKQ0AAAAAAAEBDQKuqqqqqSkNAAAAAAABgQ0AAAAAAAGBDQKuqqqqqKkNAVVVVVVV1Q0AAAAAAAIBDQAAAAAAAwENAVVVVVVXVQ0AAAAAAAABEQAAAAAAAQERAVVVVVVVVREAAAAAAAGBEQAAAAAAAgERAAAAAAACARECrqqqqqqpEQAAAAAAAwERAAAAAAADgREAAAAAAAABFQFVVVVVVFUVAq6qqqqoqRUAAAAAAAEBFQAAAAAAAQEVAq6qqqqoqRUA=\",\"dtype\":\"float64\",\"shape\":[28]}},\"selected\":{\"id\":\"cb6dacca-ad92-4d19-a419-3472daec5ca7\",\"type\":\"Selection\"},\"selection_policy\":{\"id\":\"492ada11-30a1-4459-905f-4048eab68d57\",\"type\":\"UnionRenderers\"}},\"id\":\"ddef135a-4fde-4ce8-9b39-5ff28d12f7ac\",\"type\":\"ColumnDataSource\"},{\"attributes\":{\"line_color\":\"grey\",\"x\":{\"field\":\"x\"},\"y\":{\"field\":\"y\"}},\"id\":\"549b49d9-fd7e-4425-9eda-fffbc8629ef4\",\"type\":\"Line\"}],\"root_ids\":[\"3ff7cc14-602c-433d-8896-b88865eacf6b\"]},\"title\":\"Bokeh Application\",\"version\":\"0.12.16\"}};\n",
       "  var render_items = [{\"docid\":\"89582271-683a-4d91-9b00-ad03bf3af436\",\"elementid\":\"e61d63e8-dc5e-41dc-ac96-719e33746bcf\",\"modelid\":\"3ff7cc14-602c-433d-8896-b88865eacf6b\"}];\n",
       "  root.Bokeh.embed.embed_items_notebook(docs_json, render_items);\n",
       "\n",
       "  }\n",
       "  if (root.Bokeh !== undefined) {\n",
       "    embed_document(root);\n",
       "  } else {\n",
       "    var attempts = 0;\n",
       "    var timer = setInterval(function(root) {\n",
       "      if (root.Bokeh !== undefined) {\n",
       "        embed_document(root);\n",
       "        clearInterval(timer);\n",
       "      }\n",
       "      attempts++;\n",
       "      if (attempts > 100) {\n",
       "        console.log(\"Bokeh: ERROR: Unable to run BokehJS code because BokehJS library is missing\")\n",
       "        clearInterval(timer);\n",
       "      }\n",
       "    }, 10, root)\n",
       "  }\n",
       "})(window);"
      ],
      "application/vnd.bokehjs_exec.v0+json": ""
     },
     "metadata": {
      "application/vnd.bokehjs_exec.v0+json": {
       "id": "3ff7cc14-602c-433d-8896-b88865eacf6b"
      }
     },
     "output_type": "display_data"
    }
   ],
   "source": [
    "# parts of coasts and inland boundaries\n",
    "a = dfOmegaCoasts[:29] #blau\n",
    "b = dfOmegaCoasts[29:70] #rot\n",
    "c = dfOmegaCoasts[70:99] #grün\n",
    "pyrenees = dfTemp[(dfTemp.ID == '2.06.11.03')] #orange\n",
    "baria = dfTemp[(dfTemp.ID == '2.04.08.08')] #grey\n",
    "\n",
    "p = figure(title='Omega Recension', width=800, height=600, x_range=(1.5, 22), y_range=(35.5, 47), tools= [BoxZoomTool(), WheelZoomTool(), ResetTool()])\n",
    "\n",
    "# coasts \n",
    "p.line(a['longitude'],a['latitude'], color='grey')\n",
    "p.line(b['longitude'],b['latitude'], color='grey')\n",
    "p.line(c['longitude'],c['latitude'], color='grey')\n",
    "\n",
    "# localities\n",
    "p.circle(np.array(a['longitude']),np.array(a['latitude']), fill_color='blue',size=5, fill_alpha=.9, line_color='blue',line_alpha=0.7)\n",
    "p.circle(np.array(b['longitude']),np.array(b['latitude']), fill_color='red',size=5, fill_alpha=.9, line_color='red',line_alpha=0.7)\n",
    "p.circle(np.array(c['longitude']),np.array(c['latitude']), fill_color='green',size=5, fill_alpha=.9, line_color='green',line_alpha=0.7)\n",
    "p.circle(np.array(pyrenees['longitude']),np.array(pyrenees['latitude']), fill_color='orange',size=5, fill_alpha=.9, line_color='orange',line_alpha=0.7)\n",
    "p.circle(np.array(baria['longitude']),np.array(baria['latitude']), fill_color='grey',size=5, fill_alpha=.9, line_color='grey',line_alpha=0.7)\n",
    "\n",
    "#additional point in the Pyrenees\n",
    "p.circle(19,43.167, fill_color='black',size=5, fill_alpha=.9, line_color='black',line_alpha=0.7)\n",
    "\n",
    "# additional line for the Pyrenees\n",
    "p.line([15,17,19,20.333], [45.833,43,43.167,42.333], line_alpha=0.8, color=\"black\")\n",
    "\n",
    "\n",
    "show(p);"
   ]
  },
  {
   "cell_type": "markdown",
   "metadata": {},
   "source": [
    "The blue coast is described in chap. 2.4 of the catalogue, the red in chap. 2.5 and 2.6, and the green in chap. 2.6.\n",
    "\n",
    "The order in the catalogue is:\n",
    "- beginning of the blue coast from west\n",
    "- Baria (last city on the blue coast, near the eastern end of the blue coastline)\n",
    "- rest of the blue coast from west to east (except Baria)\n",
    "- red coast from south to north\n",
    "- point in the middle of the Pyrenees (orange here on the map, ID = 2.06.11.03)\n",
    "- green coast from south to north\n",
    "\n",
    "Finally, in chap. 2.7, which is not part of the Iberian chapters, an additional point in the Pyrenees: long. 19°, lat. 43°10', here in black on the map."
   ]
  },
  {
   "cell_type": "code",
   "execution_count": null,
   "metadata": {},
   "outputs": [],
   "source": []
  }
 ],
 "metadata": {
  "kernelspec": {
   "display_name": "Python 3",
   "language": "python",
   "name": "python3"
  },
  "language_info": {
   "codemirror_mode": {
    "name": "ipython",
    "version": 3
   },
   "file_extension": ".py",
   "mimetype": "text/x-python",
   "name": "python",
   "nbconvert_exporter": "python",
   "pygments_lexer": "ipython3",
   "version": "3.6.5"
  },
  "latex_envs": {
   "LaTeX_envs_menu_present": true,
   "autocomplete": true,
   "bibliofile": "biblio.bib",
   "cite_by": "apalike",
   "current_citInitial": 1,
   "eqLabelWithNumbers": true,
   "eqNumInitial": 1,
   "hotkeys": {
    "equation": "Ctrl-E",
    "itemize": "Ctrl-I"
   },
   "labels_anchors": false,
   "latex_user_defs": false,
   "report_style_numbering": false,
   "user_envs_cfg": false
  },
  "toc": {
   "colors": {
    "hover_highlight": "#DAA520",
    "running_highlight": "#FF0000",
    "selected_highlight": "#FFD700"
   },
   "moveMenuLeft": true,
   "navigate_menu": false,
   "number_sections": true,
   "sideBar": true,
   "threshold": 4,
   "toc_cell": false,
   "toc_section_display": "block",
   "toc_window_display": true,
   "widenNotebook": true
  }
 },
 "nbformat": 4,
 "nbformat_minor": 4
}
