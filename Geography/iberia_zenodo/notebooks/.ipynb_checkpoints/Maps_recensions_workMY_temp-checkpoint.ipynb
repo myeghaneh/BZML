{
 "cells": [
  {
   "cell_type": "markdown",
   "metadata": {},
   "source": [
    "# Maps of the Iberian Peninsula"
   ]
  },
  {
   "cell_type": "markdown",
   "metadata": {},
   "source": [
    "Olivier Defaux(1), Gerd Graßhoff(1,2), Mohammad Yeghaneh(2)\n",
    "\n",
    "1: Max-Planck-Institute for the History of Science, Berlin; \n",
    "2: Humboldt University, Berlin\n",
    "\n",
    "Date:"
   ]
  },
  {
   "cell_type": "markdown",
   "metadata": {},
   "source": [
    "Ptolemy's catalogue of localities contains a list of places with their coordinates that enables to draw maps of the Iberian Peninsula. Ptolemy's text came down to us in two versions that are sometimes different regarding the spelling of the toponyms and the values of the coordinates. These versions are usually called \"Omega recension\" and \"Xi recension\". Based on the Greek text of Ptolemy's catalogue edited by A. Stückelberger and G. Graßhoff (2006), we will draw Ptolemy's map of the Iberian Peninsula and compare the two transmitted versions of his work."
   ]
  },
  {
   "cell_type": "code",
   "execution_count": 44,
   "metadata": {
    "extensions": {
     "jupyter_dashboards": {
      "version": 1,
      "views": {
       "grid_default": {
        "hidden": true
       },
       "report_default": {
        "hidden": true
       }
      }
     }
    }
   },
   "outputs": [
    {
     "name": "stdout",
     "output_type": "stream",
     "text": [
      "The autoreload extension is already loaded. To reload it, use:\n",
      "  %reload_ext autoreload\n"
     ]
    }
   ],
   "source": [
    "import numpy as np\n",
    "import pandas as pd\n",
    "%load_ext autoreload\n",
    "%autoreload 2"
   ]
  },
  {
   "cell_type": "code",
   "execution_count": 45,
   "metadata": {},
   "outputs": [],
   "source": [
    "from bokeh.plotting import figure, output_file, show, ColumnDataSource\n",
    "from bokeh.io import output_notebook, output_file, save\n",
    "from bokeh.models import HoverTool,BoxZoomTool,ResetTool, WheelZoomTool\n",
    "from bokeh.layouts import row, gridplot, layout"
   ]
  },
  {
   "cell_type": "code",
   "execution_count": 46,
   "metadata": {},
   "outputs": [],
   "source": [
    "pd.set_option('display.max_colwidth', -1)\n",
    "pd.set_option('max_colwidth', 260)"
   ]
  },
  {
   "cell_type": "code",
   "execution_count": 47,
   "metadata": {},
   "outputs": [],
   "source": [
    "options = {\"compact\": True, \"bg\": \"#09a3d5\",\n",
    "           \"color\": \"white\", \"font\": \"Source Sans Pro\",\"collapse_phrases\":False}"
   ]
  },
  {
   "cell_type": "code",
   "execution_count": 48,
   "metadata": {},
   "outputs": [
    {
     "ename": "ImportError",
     "evalue": "cannot import name 'findTS' from 'tools' (C:\\Users\\moha\\Dropbox\\iberia_zenodo\\notebooks\\tools.py)",
     "output_type": "error",
     "traceback": [
      "\u001b[1;31m---------------------------------------------------------------------------\u001b[0m",
      "\u001b[1;31mImportError\u001b[0m                               Traceback (most recent call last)",
      "\u001b[1;32m<ipython-input-48-2eb6a7db8178>\u001b[0m in \u001b[0;36m<module>\u001b[1;34m\u001b[0m\n\u001b[0;32m      1\u001b[0m \u001b[1;32mfrom\u001b[0m \u001b[0mtools\u001b[0m \u001b[1;32mimport\u001b[0m \u001b[0mGeography\u001b[0m\u001b[1;33m\u001b[0m\u001b[1;33m\u001b[0m\u001b[0m\n\u001b[1;32m----> 2\u001b[1;33m \u001b[1;32mfrom\u001b[0m \u001b[0mtools\u001b[0m \u001b[1;32mimport\u001b[0m \u001b[0mreformatCoord\u001b[0m\u001b[1;33m,\u001b[0m\u001b[0mreformatIntFrac\u001b[0m\u001b[1;33m,\u001b[0m\u001b[0mfindTS\u001b[0m\u001b[1;33m,\u001b[0m\u001b[0mJs2Geodf\u001b[0m\u001b[1;33m\u001b[0m\u001b[1;33m\u001b[0m\u001b[0m\n\u001b[0m",
      "\u001b[1;31mImportError\u001b[0m: cannot import name 'findTS' from 'tools' (C:\\Users\\moha\\Dropbox\\iberia_zenodo\\notebooks\\tools.py)"
     ]
    }
   ],
   "source": [
    "from tools import Geography\n",
    "from tools import reformatCoord,reformatIntFrac"
   ]
  },
  {
   "cell_type": "markdown",
   "metadata": {},
   "source": [
    "## Resources"
   ]
  },
  {
   "cell_type": "markdown",
   "metadata": {},
   "source": [
    "We selected the part of Ptolemy's catalogue of localities related to the Iberian Peninsula (*Geography* 2.4–6) and we encoded the Greek text of the two recensions (Omega and Xi). The files can be loaded from the open-access plateform Zenodo."
   ]
  },
  {
   "cell_type": "markdown",
   "metadata": {},
   "source": [
    "### Import"
   ]
  },
  {
   "cell_type": "code",
   "execution_count": null,
   "metadata": {},
   "outputs": [],
   "source": [
    "# import .json file from DOI number"
   ]
  },
  {
   "cell_type": "code",
   "execution_count": null,
   "metadata": {},
   "outputs": [],
   "source": [
    "Omega = pd.read_json('../data/OmegaStructure2.json')\n",
    "Xi = pd.read_json('../data/XiStructure2.json')"
   ]
  },
  {
   "cell_type": "markdown",
   "metadata": {},
   "source": [
    "### Transform the .json files into dataframes"
   ]
  },
  {
   "cell_type": "markdown",
   "metadata": {},
   "source": [
    "The .json files reproduce Ptolemy's text and structure. In order to work with the coordinates in an efficient way, we will transform the file format to produce a simple dataframe."
   ]
  },
  {
   "cell_type": "code",
   "execution_count": null,
   "metadata": {},
   "outputs": [],
   "source": [
    "%run geographytools.py"
   ]
  },
  {
   "cell_type": "code",
   "execution_count": null,
   "metadata": {},
   "outputs": [],
   "source": [
    "df=Omega[\"chapters\"][0]\n",
    "om=json_normalize(df,\"section\")"
   ]
  },
  {
   "cell_type": "code",
   "execution_count": null,
   "metadata": {},
   "outputs": [],
   "source": [
    "def findTS(s):\n",
    "    out=\"\"\n",
    "    for i,r in om.iterrows():\n",
    "        sci=r[\"sec_ID\"]\n",
    "        if sci in s:\n",
    "            out=r[\"type_sec\"]\n",
    "            \n",
    "            exit\n",
    "    return(out)\n",
    "#findTS(\"2.04.01.01\")"
   ]
  },
  {
   "cell_type": "code",
   "execution_count": null,
   "metadata": {},
   "outputs": [],
   "source": [
    "def Js2Geodf(df): \n",
    "# df=OmegaJ[\"chapters\"][0]\n",
    "    om=json_normalize(df,\"section\")\n",
    "    om=om.dropna(subset=[\"sec_part\"])\n",
    "    l=[]\n",
    "    for i,x in om.iterrows():\n",
    "        k={\"type_sec\":x[\"type_sec\"]}\n",
    "        l.append([x[\"sec_part\"]])\n",
    "#\n",
    "    listItems=list(flatten_list(l))\n",
    "    dfout=pd.DataFrame(listItems)\n",
    "    dfout[\"type_sec\"]=dfout.apply(lambda x: findTS(x[\"ID\"]),axis=1)\n",
    "    return(dfout)"
   ]
  },
  {
   "cell_type": "code",
   "execution_count": null,
   "metadata": {},
   "outputs": [],
   "source": [
    "dfOmega=Js2Geodf(Omega[\"chapters\"][0])\n",
    "dfXi=Js2Geodf(Xi[\"chapters\"][0])"
   ]
  },
  {
   "cell_type": "code",
   "execution_count": null,
   "metadata": {},
   "outputs": [],
   "source": [
    "# Sample of the dataframe for the Omega recension:\n",
    "dfOmega[24:31]"
   ]
  },
  {
   "cell_type": "markdown",
   "metadata": {},
   "source": [
    "## Transform Greek numbers to decimal coordinates"
   ]
  },
  {
   "cell_type": "markdown",
   "metadata": {},
   "source": [
    "### Greek numeral notation"
   ]
  },
  {
   "cell_type": "markdown",
   "metadata": {},
   "source": [
    "Each latitude and each longitude is composed of two parts: an integer part (a whole number of degrees) and a decimal part (written as a fraction of degrees).\n",
    "In order to plot the localities, we have to transpose the Greek numeral system used by Ptolemy into a modern format, using decimal. The symbols used by Ptolemy to express the coordinates are Greek letters and a special sign for the fraction 1/2."
   ]
  },
  {
   "cell_type": "code",
   "execution_count": null,
   "metadata": {},
   "outputs": [],
   "source": [
    "gfrac={\"\":0,\"ιβ\":1/12,\"ς\":1/6,\"δ\":1/4,\"γ\":1/3,\"γιβ\":5/12,\"L\":1/2,\"Lιβ\":7/12,\"γο\":2/3,\"Lδ\":3/4,\"Lγ\":5/6,\"Lγιβ\":11/12,\"η\":1/8,\"Lς\":2/3,\"ςL\":2/3}\n",
    "gint={\"\":0,\"α\":1,\"β\":2,\"γ\":3,\"δ\":4,\"ε\":5,\"ς\":6,\"ζ\":7,\"η\":8,\"θ\":9,\"ι\":10,\"κ\":20,\"λ\":30,\"μ\":40}"
   ]
  },
  {
   "cell_type": "code",
   "execution_count": null,
   "metadata": {},
   "outputs": [],
   "source": [
    "pd.DataFrame(list(gint.items()), columns=['Greek', 'Integers']).sort_values('Integers').set_index('Greek').T"
   ]
  },
  {
   "cell_type": "code",
   "execution_count": null,
   "metadata": {},
   "outputs": [],
   "source": [
    "pd.DataFrame(list(gfrac.items()), columns=['Greek', 'Decimal']).sort_values('Decimal').set_index('Greek').T"
   ]
  },
  {
   "cell_type": "markdown",
   "metadata": {},
   "source": [
    "### Translate into modern numeral notation"
   ]
  },
  {
   "cell_type": "markdown",
   "metadata": {},
   "source": [
    "We create two columns for each dataframe: one for the longitude, one for the latitude."
   ]
  },
  {
   "cell_type": "code",
   "execution_count": null,
   "metadata": {},
   "outputs": [],
   "source": [
    "# Omega\n",
    "dfTemp = dfOmega.copy()\n",
    "dfTemp['longitude'] = dfOmega.apply(lambda row: reformatCoord(row,'long','coord'),axis=1).apply(reformatIntFrac)\n",
    "dfTemp['latitude'] = dfOmega.apply(lambda row: reformatCoord(row,'lat','coord'),axis=1).apply(reformatIntFrac)"
   ]
  },
  {
   "cell_type": "code",
   "execution_count": null,
   "metadata": {},
   "outputs": [],
   "source": [
    "dfTemp[26:31]"
   ]
  },
  {
   "cell_type": "code",
   "execution_count": null,
   "metadata": {},
   "outputs": [],
   "source": [
    "# Xi\n",
    "dfTempX = dfXi.copy()\n",
    "dfTempX['longitude'] = dfXi.apply(lambda row: reformatCoord(row,'long','coord'),axis=1).apply(reformatIntFrac)\n",
    "dfTempX['latitude'] = dfXi.apply(lambda row: reformatCoord(row,'lat','coord'),axis=1).apply(reformatIntFrac)"
   ]
  },
  {
   "cell_type": "markdown",
   "metadata": {},
   "source": [
    "## Data preparation for the map drawing"
   ]
  },
  {
   "cell_type": "markdown",
   "metadata": {},
   "source": [
    "### Coasts and boundaries (Omega)"
   ]
  },
  {
   "cell_type": "code",
   "execution_count": null,
   "metadata": {},
   "outputs": [],
   "source": [
    "f = dfTemp[(dfTemp.type_sec == 'coast section') & (dfTemp.type == 'locality') & dfTemp.category.apply(lambda row: row not in ['boundary','river path','river source'])][['longitude','latitude']]"
   ]
  },
  {
   "cell_type": "code",
   "execution_count": null,
   "metadata": {},
   "outputs": [],
   "source": [
    "#fbae = coast of Baetica, omega\n",
    "baria = dfTemp[dfTemp.toponym == 'ἐφʹ ἧς Βαρεία πόλις '][['longitude','latitude']]\n",
    "fbae = f.iloc[0:28]\n",
    "fbae = fbae.append(baria)\n",
    "fbae = fbae.values"
   ]
  },
  {
   "cell_type": "code",
   "execution_count": null,
   "metadata": {},
   "outputs": [],
   "source": [
    "#flus = coast of Lusitania, omega\n",
    "flus = f.iloc[28:42].append(f.iloc[0:1]).sort_index(ascending=True)\n",
    "flus = flus.values"
   ]
  },
  {
   "cell_type": "code",
   "execution_count": null,
   "metadata": {},
   "outputs": [],
   "source": [
    "#ftar = coast of Tarraconensis, omega\n",
    "ftar1 = f.iloc[42:70].append(f.iloc[41:42]).sort_index(ascending=True)\n",
    "ftar1 = ftar1.values\n",
    "ftar2 = f.iloc[70:].sort_index(ascending=False)\n",
    "baebound = dfTemp[dfTemp.toponym == 'μετὰ τὸ πρὸς τῇ Βαιτικῇ πέρας'][['longitude','latitude']]\n",
    "ftar2 = ftar2.append(baebound).append(baria)\n",
    "ftar2 = ftar2.values"
   ]
  },
  {
   "cell_type": "code",
   "execution_count": null,
   "metadata": {},
   "outputs": [],
   "source": [
    "baebound"
   ]
  },
  {
   "cell_type": "code",
   "execution_count": null,
   "metadata": {},
   "outputs": [],
   "source": [
    "### Coasts and boundaries (Xi)"
   ]
  },
  {
   "cell_type": "code",
   "execution_count": null,
   "metadata": {},
   "outputs": [],
   "source": [
    "g = dfTempX[(dfTempX.type_sec == 'coast section') & (dfTempX.type == 'locality') & dfTempX.category.apply(lambda row: row not in ['boundary','river path','river source'])][['longitude','latitude']]"
   ]
  },
  {
   "cell_type": "code",
   "execution_count": null,
   "metadata": {},
   "outputs": [],
   "source": [
    "#gbae = coast of Baetica, xi\n",
    "bariaX = dfTempX[dfTempX.toponym == 'ἐφʹ ἧς Βαραλία πόλις'][['longitude','latitude']]\n",
    "gbae = g.iloc[0:26]\n",
    "gbae = gbae.append(bariaX)\n",
    "gbae = gbae.values"
   ]
  },
  {
   "cell_type": "code",
   "execution_count": null,
   "metadata": {},
   "outputs": [],
   "source": [
    "#glus = coast of Lusitania, xi\n",
    "glus = g.iloc[27:41].append(g.iloc[0:1]).sort_index(ascending=True)\n",
    "glus = glus.values"
   ]
  },
  {
   "cell_type": "code",
   "execution_count": null,
   "metadata": {},
   "outputs": [],
   "source": [
    "#gtar = coast of Tarraconensis, xi\n",
    "gtar1 = g.iloc[41:68].append(g.iloc[40:41]).sort_index(ascending=True)\n",
    "gtar1 = gtar1.values\n",
    "gtar2 = g.iloc[69:].sort_index(ascending=False)\n",
    "baeboundX = dfTempX[dfTempX.toponym == 'μετὰ τὸ πρὸς τῇ Βαιτικῇ πέρας'][['longitude','latitude']]\n",
    "gtar2 = gtar2.append(baeboundX).append(bariaX)\n",
    "gtar2 = gtar2.values"
   ]
  },
  {
   "cell_type": "code",
   "execution_count": null,
   "metadata": {},
   "outputs": [],
   "source": [
    "# make a dictionary for all coasts's lines using Xi for later use in function plot_maps\n",
    "gs_dict={'gbae' : gbae, 'glus' : glus, 'gtar1' : gtar1, 'gtar2' : gtar2}"
   ]
  },
  {
   "cell_type": "code",
   "execution_count": null,
   "metadata": {},
   "outputs": [],
   "source": [
    "# make a dictionary for all coasts's lines using Omega for later use in function plot_maps\n",
    "fs_dict={'fbae' : fbae, 'flus' : flus, 'ftar1' : ftar1, 'ftar2' : ftar2}"
   ]
  },
  {
   "cell_type": "code",
   "execution_count": null,
   "metadata": {},
   "outputs": [],
   "source": [
    "# make a dictionary for all data\n",
    "df_dict={\"dfTemp\" : dfTemp,  \"dfTempX\" : dfTempX}"
   ]
  },
  {
   "cell_type": "markdown",
   "metadata": {},
   "source": [
    "We select th"
   ]
  },
  {
   "cell_type": "markdown",
   "metadata": {},
   "source": [
    "## Map of the Iberian peninsula, Omega recension"
   ]
  },
  {
   "cell_type": "code",
   "execution_count": null,
   "metadata": {},
   "outputs": [],
   "source": [
    "fig=Geography(fs_dict,gs_dict,df_dict)"
   ]
  },
  {
   "cell_type": "markdown",
   "metadata": {},
   "source": [
    "[map Omega]"
   ]
  },
  {
   "cell_type": "code",
   "execution_count": null,
   "metadata": {},
   "outputs": [],
   "source": [
    "fig.plot_recension(fs_dict,gs_dict,df_dict,select_recension='Omega')"
   ]
  },
  {
   "cell_type": "markdown",
   "metadata": {},
   "source": [
    "## Map of the Iberian peninsula, Xi recension"
   ]
  },
  {
   "cell_type": "markdown",
   "metadata": {},
   "source": [
    "[map Xi]"
   ]
  },
  {
   "cell_type": "code",
   "execution_count": null,
   "metadata": {},
   "outputs": [],
   "source": [
    "fig.plot_recension(fs_dict,gs_dict,df_dict,select_recension='Xi')"
   ]
  },
  {
   "cell_type": "markdown",
   "metadata": {},
   "source": [
    "## Comparison between the two recensions"
   ]
  },
  {
   "cell_type": "markdown",
   "metadata": {},
   "source": [
    "[map comparison]"
   ]
  },
  {
   "cell_type": "code",
   "execution_count": null,
   "metadata": {},
   "outputs": [],
   "source": [
    "fig.plot_recension_all(fs_dict,gs_dict,df_dict)"
   ]
  },
  {
   "cell_type": "code",
   "execution_count": null,
   "metadata": {},
   "outputs": [],
   "source": []
  }
 ],
 "metadata": {
  "kernelspec": {
   "display_name": "Python 3",
   "language": "python",
   "name": "python3"
  },
  "language_info": {
   "codemirror_mode": {
    "name": "ipython",
    "version": 3
   },
   "file_extension": ".py",
   "mimetype": "text/x-python",
   "name": "python",
   "nbconvert_exporter": "python",
   "pygments_lexer": "ipython3",
   "version": "3.7.1"
  },
  "latex_envs": {
   "LaTeX_envs_menu_present": true,
   "autocomplete": true,
   "bibliofile": "biblio.bib",
   "cite_by": "apalike",
   "current_citInitial": 1,
   "eqLabelWithNumbers": true,
   "eqNumInitial": 1,
   "hotkeys": {
    "equation": "Ctrl-E",
    "itemize": "Ctrl-I"
   },
   "labels_anchors": false,
   "latex_user_defs": false,
   "report_style_numbering": false,
   "user_envs_cfg": false
  },
  "toc": {
   "colors": {
    "hover_highlight": "#DAA520",
    "running_highlight": "#FF0000",
    "selected_highlight": "#FFD700"
   },
   "moveMenuLeft": true,
   "navigate_menu": false,
   "number_sections": true,
   "sideBar": true,
   "threshold": 4,
   "toc_cell": false,
   "toc_section_display": "block",
   "toc_window_display": true,
   "widenNotebook": true
  }
 },
 "nbformat": 4,
 "nbformat_minor": 4
}
