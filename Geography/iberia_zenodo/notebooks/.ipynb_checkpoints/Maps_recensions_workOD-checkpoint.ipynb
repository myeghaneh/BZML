{
 "cells": [
  {
   "cell_type": "markdown",
   "metadata": {},
   "source": [
    "# Maps of the Iberian Peninsula"
   ]
  },
  {
   "cell_type": "markdown",
   "metadata": {},
   "source": [
    "Olivier Defaux(1), Gerd Graßhoff(1,2), Mohammad Yeghaneh(2)\n",
    "\n",
    "1: Max-Planck-Institute for the History of Science, Berlin; \n",
    "2: Humboldt University, Berlin\n",
    "\n",
    "Date:"
   ]
  },
  {
   "cell_type": "markdown",
   "metadata": {},
   "source": [
    "Ptolemy's catalogue of localities contains a list of places with their coordinates that enables to draw maps of the Iberian Peninsula. Ptolemy's text came down to us in two versions that are sometimes different regarding the spelling of the toponyms and the values of the coordinates. These versions are usually called \"Omega recension\" and \"Xi recension\". Based on the Greek text of Ptolemy's catalogue edited by A. Stückelberger and G. Graßhoff (2006), we will draw Ptolemy's map of the Iberian Peninsula and compare the two transmitted versions of his work."
   ]
  },
  {
   "cell_type": "code",
   "execution_count": 38,
   "metadata": {
    "extensions": {
     "jupyter_dashboards": {
      "version": 1,
      "views": {
       "grid_default": {
        "hidden": true
       },
       "report_default": {
        "hidden": true
       }
      }
     }
    }
   },
   "outputs": [
    {
     "name": "stdout",
     "output_type": "stream",
     "text": [
      "The autoreload extension is already loaded. To reload it, use:\n",
      "  %reload_ext autoreload\n"
     ]
    }
   ],
   "source": [
    "import numpy as np\n",
    "import pandas as pd\n",
    "from pandas.io.json import json_normalize\n",
    "%load_ext autoreload\n",
    "%autoreload 2"
   ]
  },
  {
   "cell_type": "code",
   "execution_count": 39,
   "metadata": {},
   "outputs": [],
   "source": [
    "from bokeh.plotting import figure, output_file, show, ColumnDataSource\n",
    "from bokeh.io import output_notebook, output_file, save\n",
    "from bokeh.models import HoverTool,BoxZoomTool,ResetTool, WheelZoomTool\n",
    "from bokeh.layouts import row, gridplot, layout"
   ]
  },
  {
   "cell_type": "code",
   "execution_count": 40,
   "metadata": {},
   "outputs": [],
   "source": [
    "pd.set_option('display.max_colwidth', -1)\n",
    "pd.set_option('max_colwidth', 260)"
   ]
  },
  {
   "cell_type": "code",
   "execution_count": 41,
   "metadata": {},
   "outputs": [],
   "source": [
    "options = {\"compact\": True, \"bg\": \"#09a3d5\",\n",
    "           \"color\": \"white\", \"font\": \"Source Sans Pro\",\"collapse_phrases\":False}"
   ]
  },
  {
   "cell_type": "code",
   "execution_count": 42,
   "metadata": {},
   "outputs": [],
   "source": [
    "from tools import Geography, reformatCoord,reformatIntFrac, flatten_list,findTS,Js2Geodf"
   ]
  },
  {
   "cell_type": "markdown",
   "metadata": {},
   "source": [
    "## Resources"
   ]
  },
  {
   "cell_type": "markdown",
   "metadata": {},
   "source": [
    "We selected the part of Ptolemy's catalogue of localities related to the Iberian Peninsula (*Geography* 2.4–6) and we encoded the Greek text of the two recensions (Omega and Xi). The files can be loaded from the open-access plateform Zenodo."
   ]
  },
  {
   "cell_type": "markdown",
   "metadata": {},
   "source": [
    "### Import"
   ]
  },
  {
   "cell_type": "code",
   "execution_count": 43,
   "metadata": {},
   "outputs": [],
   "source": [
    "# import .json file from DOI number"
   ]
  },
  {
   "cell_type": "code",
   "execution_count": 44,
   "metadata": {},
   "outputs": [],
   "source": [
    "Omega = pd.read_json('../data/OmegaStructure2.json',encoding=\"utf8\")\n",
    "Xi = pd.read_json('../data/XiStructure2.json',encoding=\"utf8\")"
   ]
  },
  {
   "cell_type": "markdown",
   "metadata": {},
   "source": [
    "### Transform the .json files into dataframes"
   ]
  },
  {
   "cell_type": "markdown",
   "metadata": {},
   "source": [
    "The .json files reproduce Ptolemy's text and structure. In order to work with the coordinates in an efficient way, we will transform the file format to produce a simple dataframe."
   ]
  },
  {
   "cell_type": "code",
   "execution_count": 45,
   "metadata": {},
   "outputs": [],
   "source": [
    "dfOmega=Js2Geodf(Omega[\"chapters\"][0])\n",
    "dfXi=Js2Geodf(Xi[\"chapters\"][0])"
   ]
  },
  {
   "cell_type": "code",
   "execution_count": 46,
   "metadata": {},
   "outputs": [
    {
     "data": {
      "text/html": [
       "<div>\n",
       "<style scoped>\n",
       "    .dataframe tbody tr th:only-of-type {\n",
       "        vertical-align: middle;\n",
       "    }\n",
       "\n",
       "    .dataframe tbody tr th {\n",
       "        vertical-align: top;\n",
       "    }\n",
       "\n",
       "    .dataframe thead th {\n",
       "        text-align: right;\n",
       "    }\n",
       "</style>\n",
       "<table border=\"1\" class=\"dataframe\">\n",
       "  <thead>\n",
       "    <tr style=\"text-align: right;\">\n",
       "      <th></th>\n",
       "      <th>ID</th>\n",
       "      <th>category</th>\n",
       "      <th>coord</th>\n",
       "      <th>people</th>\n",
       "      <th>text</th>\n",
       "      <th>toponym</th>\n",
       "      <th>type</th>\n",
       "      <th>type_sec</th>\n",
       "    </tr>\n",
       "  </thead>\n",
       "  <tbody>\n",
       "    <tr>\n",
       "      <th>24</th>\n",
       "      <td>2.04.05.13</td>\n",
       "      <td>city</td>\n",
       "      <td>{'long': {'integer': 'ς', 'fraction': 'δ'}, 'lat': {'integer': 'λς', 'fraction': 'γο'}}</td>\n",
       "      <td>Turduli</td>\n",
       "      <td>NaN</td>\n",
       "      <td>Βαίλων πόλις</td>\n",
       "      <td>locality</td>\n",
       "      <td>coast section</td>\n",
       "    </tr>\n",
       "    <tr>\n",
       "      <th>25</th>\n",
       "      <td>2.04.06.01</td>\n",
       "      <td>NaN</td>\n",
       "      <td>NaN</td>\n",
       "      <td>NaN</td>\n",
       "      <td>Βαστουλῶν τῶν καλουμένων Ποινῶν</td>\n",
       "      <td>NaN</td>\n",
       "      <td>people</td>\n",
       "      <td>coast section</td>\n",
       "    </tr>\n",
       "    <tr>\n",
       "      <th>26</th>\n",
       "      <td>2.04.06.02</td>\n",
       "      <td>city</td>\n",
       "      <td>{'long': {'integer': 'ς', 'fraction': 'L'}, 'lat': {'integer': 'λς', 'fraction': 'L'}}</td>\n",
       "      <td>Bastuli</td>\n",
       "      <td>NaN</td>\n",
       "      <td>Μενραλία</td>\n",
       "      <td>locality</td>\n",
       "      <td>coast section</td>\n",
       "    </tr>\n",
       "    <tr>\n",
       "      <th>27</th>\n",
       "      <td>2.04.06.03</td>\n",
       "      <td>city</td>\n",
       "      <td>{'long': {'integer': 'ς', 'fraction': 'γο'}, 'lat': {'integer': 'λς', 'fraction': 'γ'}}</td>\n",
       "      <td>Bastuli</td>\n",
       "      <td>NaN</td>\n",
       "      <td>Τρανσδούκτα</td>\n",
       "      <td>locality</td>\n",
       "      <td>coast section</td>\n",
       "    </tr>\n",
       "    <tr>\n",
       "      <th>28</th>\n",
       "      <td>2.04.06.04</td>\n",
       "      <td>city</td>\n",
       "      <td>{'long': {'integer': 'ζ', 'fraction': 'δ'}, 'lat': {'integer': 'λς', 'fraction': 'ς'}}</td>\n",
       "      <td>Bastuli</td>\n",
       "      <td>NaN</td>\n",
       "      <td>Βαρβησόλα</td>\n",
       "      <td>locality</td>\n",
       "      <td>coast section</td>\n",
       "    </tr>\n",
       "    <tr>\n",
       "      <th>29</th>\n",
       "      <td>2.04.06.05</td>\n",
       "      <td>city</td>\n",
       "      <td>{'long': {'integer': 'ζ', 'fraction': 'L'}, 'lat': {'integer': 'λς', 'fraction': 'ς'}}</td>\n",
       "      <td>Bastuli</td>\n",
       "      <td>NaN</td>\n",
       "      <td>Καρτμία</td>\n",
       "      <td>locality</td>\n",
       "      <td>coast section</td>\n",
       "    </tr>\n",
       "    <tr>\n",
       "      <th>30</th>\n",
       "      <td>2.04.06.06</td>\n",
       "      <td>mountain</td>\n",
       "      <td>{'long': {'integer': 'ζ', 'fraction': 'L'}, 'lat': {'integer': 'λς', 'fraction': 'δ'}}</td>\n",
       "      <td>Bastuli</td>\n",
       "      <td>NaN</td>\n",
       "      <td>Κάρπη ὅρος καὶ στήλη τῆς ἐντὸς θαλάσσης</td>\n",
       "      <td>locality</td>\n",
       "      <td>coast section</td>\n",
       "    </tr>\n",
       "  </tbody>\n",
       "</table>\n",
       "</div>"
      ],
      "text/plain": [
       "            ID  category  \\\n",
       "24  2.04.05.13      city   \n",
       "25  2.04.06.01       NaN   \n",
       "26  2.04.06.02      city   \n",
       "27  2.04.06.03      city   \n",
       "28  2.04.06.04      city   \n",
       "29  2.04.06.05      city   \n",
       "30  2.04.06.06  mountain   \n",
       "\n",
       "                                                                                      coord  \\\n",
       "24  {'long': {'integer': 'ς', 'fraction': 'δ'}, 'lat': {'integer': 'λς', 'fraction': 'γο'}}   \n",
       "25                                                                                      NaN   \n",
       "26   {'long': {'integer': 'ς', 'fraction': 'L'}, 'lat': {'integer': 'λς', 'fraction': 'L'}}   \n",
       "27  {'long': {'integer': 'ς', 'fraction': 'γο'}, 'lat': {'integer': 'λς', 'fraction': 'γ'}}   \n",
       "28   {'long': {'integer': 'ζ', 'fraction': 'δ'}, 'lat': {'integer': 'λς', 'fraction': 'ς'}}   \n",
       "29   {'long': {'integer': 'ζ', 'fraction': 'L'}, 'lat': {'integer': 'λς', 'fraction': 'ς'}}   \n",
       "30   {'long': {'integer': 'ζ', 'fraction': 'L'}, 'lat': {'integer': 'λς', 'fraction': 'δ'}}   \n",
       "\n",
       "     people                                 text  \\\n",
       "24  Turduli                                  NaN   \n",
       "25      NaN  Βαστουλῶν τῶν καλουμένων Ποινῶν   \n",
       "26  Bastuli                                  NaN   \n",
       "27  Bastuli                                  NaN   \n",
       "28  Bastuli                                  NaN   \n",
       "29  Bastuli                                  NaN   \n",
       "30  Bastuli                                  NaN   \n",
       "\n",
       "                                              toponym      type       type_sec  \n",
       "24                                    Βαίλων πόλις   locality  coast section  \n",
       "25                                                NaN    people  coast section  \n",
       "26                                          Μενραλία  locality  coast section  \n",
       "27                                       Τρανσδούκτα  locality  coast section  \n",
       "28                                         Βαρβησόλα  locality  coast section  \n",
       "29                                           Καρτμία  locality  coast section  \n",
       "30  Κάρπη ὅρος καὶ στήλη τῆς ἐντὸς θαλάσσης   locality  coast section  "
      ]
     },
     "execution_count": 46,
     "metadata": {},
     "output_type": "execute_result"
    }
   ],
   "source": [
    "# Sample of the dataframe for the Omega recension:\n",
    "dfOmega[24:31]"
   ]
  },
  {
   "cell_type": "markdown",
   "metadata": {},
   "source": [
    "## Transform Greek numbers to decimal coordinates"
   ]
  },
  {
   "cell_type": "markdown",
   "metadata": {},
   "source": [
    "### Greek numeral notation"
   ]
  },
  {
   "cell_type": "markdown",
   "metadata": {},
   "source": [
    "Each latitude and each longitude is composed of two parts: an integer part (a whole number of degrees) and a decimal part (written as a fraction of degrees).\n",
    "In order to plot the localities, we have to transpose the Greek numeral system used by Ptolemy into a modern format, using decimal. The symbols used by Ptolemy to express the coordinates are Greek letters and a special sign for the fraction 1/2."
   ]
  },
  {
   "cell_type": "code",
   "execution_count": 47,
   "metadata": {},
   "outputs": [],
   "source": [
    "gfrac={\"\":0,\"ιβ\":1/12,\"ς\":1/6,\"δ\":1/4,\"γ\":1/3,\"γιβ\":5/12,\"L\":1/2,\"Lιβ\":7/12,\"γο\":2/3,\"Lδ\":3/4,\"Lγ\":5/6,\"Lγιβ\":11/12,\"η\":1/8,\"Lς\":2/3,\"ςL\":2/3}\n",
    "gint={\"\":0,\"α\":1,\"β\":2,\"γ\":3,\"δ\":4,\"ε\":5,\"ς\":6,\"ζ\":7,\"η\":8,\"θ\":9,\"ι\":10,\"κ\":20,\"λ\":30,\"μ\":40}"
   ]
  },
  {
   "cell_type": "code",
   "execution_count": 48,
   "metadata": {},
   "outputs": [
    {
     "data": {
      "text/html": [
       "<div>\n",
       "<style scoped>\n",
       "    .dataframe tbody tr th:only-of-type {\n",
       "        vertical-align: middle;\n",
       "    }\n",
       "\n",
       "    .dataframe tbody tr th {\n",
       "        vertical-align: top;\n",
       "    }\n",
       "\n",
       "    .dataframe thead th {\n",
       "        text-align: right;\n",
       "    }\n",
       "</style>\n",
       "<table border=\"1\" class=\"dataframe\">\n",
       "  <thead>\n",
       "    <tr style=\"text-align: right;\">\n",
       "      <th>Greek</th>\n",
       "      <th></th>\n",
       "      <th>α</th>\n",
       "      <th>β</th>\n",
       "      <th>γ</th>\n",
       "      <th>δ</th>\n",
       "      <th>ε</th>\n",
       "      <th>ς</th>\n",
       "      <th>ζ</th>\n",
       "      <th>η</th>\n",
       "      <th>θ</th>\n",
       "      <th>ι</th>\n",
       "      <th>κ</th>\n",
       "      <th>λ</th>\n",
       "      <th>μ</th>\n",
       "    </tr>\n",
       "  </thead>\n",
       "  <tbody>\n",
       "    <tr>\n",
       "      <th>Integers</th>\n",
       "      <td>0</td>\n",
       "      <td>1</td>\n",
       "      <td>2</td>\n",
       "      <td>3</td>\n",
       "      <td>4</td>\n",
       "      <td>5</td>\n",
       "      <td>6</td>\n",
       "      <td>7</td>\n",
       "      <td>8</td>\n",
       "      <td>9</td>\n",
       "      <td>10</td>\n",
       "      <td>20</td>\n",
       "      <td>30</td>\n",
       "      <td>40</td>\n",
       "    </tr>\n",
       "  </tbody>\n",
       "</table>\n",
       "</div>"
      ],
      "text/plain": [
       "Greek        α  β  γ  δ  ε  ς  ζ  η  θ   ι   κ   λ   μ\n",
       "Integers  0  1  2  3  4  5  6  7  8  9  10  20  30  40"
      ]
     },
     "execution_count": 48,
     "metadata": {},
     "output_type": "execute_result"
    }
   ],
   "source": [
    "pd.DataFrame(list(gint.items()), columns=['Greek', 'Integers']).sort_values('Integers').set_index('Greek').T"
   ]
  },
  {
   "cell_type": "code",
   "execution_count": 49,
   "metadata": {},
   "outputs": [
    {
     "data": {
      "text/html": [
       "<div>\n",
       "<style scoped>\n",
       "    .dataframe tbody tr th:only-of-type {\n",
       "        vertical-align: middle;\n",
       "    }\n",
       "\n",
       "    .dataframe tbody tr th {\n",
       "        vertical-align: top;\n",
       "    }\n",
       "\n",
       "    .dataframe thead th {\n",
       "        text-align: right;\n",
       "    }\n",
       "</style>\n",
       "<table border=\"1\" class=\"dataframe\">\n",
       "  <thead>\n",
       "    <tr style=\"text-align: right;\">\n",
       "      <th>Greek</th>\n",
       "      <th></th>\n",
       "      <th>ιβ</th>\n",
       "      <th>η</th>\n",
       "      <th>ς</th>\n",
       "      <th>δ</th>\n",
       "      <th>γ</th>\n",
       "      <th>γιβ</th>\n",
       "      <th>L</th>\n",
       "      <th>Lιβ</th>\n",
       "      <th>γο</th>\n",
       "      <th>Lς</th>\n",
       "      <th>ςL</th>\n",
       "      <th>Lδ</th>\n",
       "      <th>Lγ</th>\n",
       "      <th>Lγιβ</th>\n",
       "    </tr>\n",
       "  </thead>\n",
       "  <tbody>\n",
       "    <tr>\n",
       "      <th>Decimal</th>\n",
       "      <td>0.0</td>\n",
       "      <td>0.083333</td>\n",
       "      <td>0.125</td>\n",
       "      <td>0.166667</td>\n",
       "      <td>0.25</td>\n",
       "      <td>0.333333</td>\n",
       "      <td>0.416667</td>\n",
       "      <td>0.5</td>\n",
       "      <td>0.583333</td>\n",
       "      <td>0.666667</td>\n",
       "      <td>0.666667</td>\n",
       "      <td>0.666667</td>\n",
       "      <td>0.75</td>\n",
       "      <td>0.833333</td>\n",
       "      <td>0.916667</td>\n",
       "    </tr>\n",
       "  </tbody>\n",
       "</table>\n",
       "</div>"
      ],
      "text/plain": [
       "Greek               ιβ      η         ς     δ         γ       γιβ    L  \\\n",
       "Decimal  0.0  0.083333  0.125  0.166667  0.25  0.333333  0.416667  0.5   \n",
       "\n",
       "Greek         Lιβ        γο        Lς        ςL    Lδ        Lγ      Lγιβ  \n",
       "Decimal  0.583333  0.666667  0.666667  0.666667  0.75  0.833333  0.916667  "
      ]
     },
     "execution_count": 49,
     "metadata": {},
     "output_type": "execute_result"
    }
   ],
   "source": [
    "pd.DataFrame(list(gfrac.items()), columns=['Greek', 'Decimal']).sort_values('Decimal').set_index('Greek').T"
   ]
  },
  {
   "cell_type": "markdown",
   "metadata": {},
   "source": [
    "### Translate into modern numeral notation"
   ]
  },
  {
   "cell_type": "markdown",
   "metadata": {},
   "source": [
    "We create two columns for each dataframe: one for the longitude, one for the latitude."
   ]
  },
  {
   "cell_type": "code",
   "execution_count": 50,
   "metadata": {},
   "outputs": [],
   "source": [
    "# Omega\n",
    "dfTemp = dfOmega.copy()\n",
    "dfTemp['longitude'] = dfOmega.apply(lambda row: reformatCoord(row,'long','coord'),axis=1).apply(reformatIntFrac)\n",
    "dfTemp['latitude'] = dfOmega.apply(lambda row: reformatCoord(row,'lat','coord'),axis=1).apply(reformatIntFrac)"
   ]
  },
  {
   "cell_type": "code",
   "execution_count": 51,
   "metadata": {},
   "outputs": [
    {
     "data": {
      "text/html": [
       "<div>\n",
       "<style scoped>\n",
       "    .dataframe tbody tr th:only-of-type {\n",
       "        vertical-align: middle;\n",
       "    }\n",
       "\n",
       "    .dataframe tbody tr th {\n",
       "        vertical-align: top;\n",
       "    }\n",
       "\n",
       "    .dataframe thead th {\n",
       "        text-align: right;\n",
       "    }\n",
       "</style>\n",
       "<table border=\"1\" class=\"dataframe\">\n",
       "  <thead>\n",
       "    <tr style=\"text-align: right;\">\n",
       "      <th></th>\n",
       "      <th>ID</th>\n",
       "      <th>category</th>\n",
       "      <th>coord</th>\n",
       "      <th>people</th>\n",
       "      <th>text</th>\n",
       "      <th>toponym</th>\n",
       "      <th>type</th>\n",
       "      <th>type_sec</th>\n",
       "      <th>longitude</th>\n",
       "      <th>latitude</th>\n",
       "    </tr>\n",
       "  </thead>\n",
       "  <tbody>\n",
       "    <tr>\n",
       "      <th>26</th>\n",
       "      <td>2.04.06.02</td>\n",
       "      <td>city</td>\n",
       "      <td>{'long': {'integer': 'ς', 'fraction': 'L'}, 'lat': {'integer': 'λς', 'fraction': 'L'}}</td>\n",
       "      <td>Bastuli</td>\n",
       "      <td>NaN</td>\n",
       "      <td>Μενραλία</td>\n",
       "      <td>locality</td>\n",
       "      <td>coast section</td>\n",
       "      <td>6.500000</td>\n",
       "      <td>36.500000</td>\n",
       "    </tr>\n",
       "    <tr>\n",
       "      <th>27</th>\n",
       "      <td>2.04.06.03</td>\n",
       "      <td>city</td>\n",
       "      <td>{'long': {'integer': 'ς', 'fraction': 'γο'}, 'lat': {'integer': 'λς', 'fraction': 'γ'}}</td>\n",
       "      <td>Bastuli</td>\n",
       "      <td>NaN</td>\n",
       "      <td>Τρανσδούκτα</td>\n",
       "      <td>locality</td>\n",
       "      <td>coast section</td>\n",
       "      <td>6.666667</td>\n",
       "      <td>36.333333</td>\n",
       "    </tr>\n",
       "    <tr>\n",
       "      <th>28</th>\n",
       "      <td>2.04.06.04</td>\n",
       "      <td>city</td>\n",
       "      <td>{'long': {'integer': 'ζ', 'fraction': 'δ'}, 'lat': {'integer': 'λς', 'fraction': 'ς'}}</td>\n",
       "      <td>Bastuli</td>\n",
       "      <td>NaN</td>\n",
       "      <td>Βαρβησόλα</td>\n",
       "      <td>locality</td>\n",
       "      <td>coast section</td>\n",
       "      <td>7.250000</td>\n",
       "      <td>36.166667</td>\n",
       "    </tr>\n",
       "    <tr>\n",
       "      <th>29</th>\n",
       "      <td>2.04.06.05</td>\n",
       "      <td>city</td>\n",
       "      <td>{'long': {'integer': 'ζ', 'fraction': 'L'}, 'lat': {'integer': 'λς', 'fraction': 'ς'}}</td>\n",
       "      <td>Bastuli</td>\n",
       "      <td>NaN</td>\n",
       "      <td>Καρτμία</td>\n",
       "      <td>locality</td>\n",
       "      <td>coast section</td>\n",
       "      <td>7.500000</td>\n",
       "      <td>36.166667</td>\n",
       "    </tr>\n",
       "    <tr>\n",
       "      <th>30</th>\n",
       "      <td>2.04.06.06</td>\n",
       "      <td>mountain</td>\n",
       "      <td>{'long': {'integer': 'ζ', 'fraction': 'L'}, 'lat': {'integer': 'λς', 'fraction': 'δ'}}</td>\n",
       "      <td>Bastuli</td>\n",
       "      <td>NaN</td>\n",
       "      <td>Κάρπη ὅρος καὶ στήλη τῆς ἐντὸς θαλάσσης</td>\n",
       "      <td>locality</td>\n",
       "      <td>coast section</td>\n",
       "      <td>7.500000</td>\n",
       "      <td>36.250000</td>\n",
       "    </tr>\n",
       "  </tbody>\n",
       "</table>\n",
       "</div>"
      ],
      "text/plain": [
       "            ID  category  \\\n",
       "26  2.04.06.02      city   \n",
       "27  2.04.06.03      city   \n",
       "28  2.04.06.04      city   \n",
       "29  2.04.06.05      city   \n",
       "30  2.04.06.06  mountain   \n",
       "\n",
       "                                                                                      coord  \\\n",
       "26   {'long': {'integer': 'ς', 'fraction': 'L'}, 'lat': {'integer': 'λς', 'fraction': 'L'}}   \n",
       "27  {'long': {'integer': 'ς', 'fraction': 'γο'}, 'lat': {'integer': 'λς', 'fraction': 'γ'}}   \n",
       "28   {'long': {'integer': 'ζ', 'fraction': 'δ'}, 'lat': {'integer': 'λς', 'fraction': 'ς'}}   \n",
       "29   {'long': {'integer': 'ζ', 'fraction': 'L'}, 'lat': {'integer': 'λς', 'fraction': 'ς'}}   \n",
       "30   {'long': {'integer': 'ζ', 'fraction': 'L'}, 'lat': {'integer': 'λς', 'fraction': 'δ'}}   \n",
       "\n",
       "     people text                                            toponym      type  \\\n",
       "26  Bastuli  NaN                                          Μενραλία  locality   \n",
       "27  Bastuli  NaN                                       Τρανσδούκτα  locality   \n",
       "28  Bastuli  NaN                                         Βαρβησόλα  locality   \n",
       "29  Bastuli  NaN                                           Καρτμία  locality   \n",
       "30  Bastuli  NaN  Κάρπη ὅρος καὶ στήλη τῆς ἐντὸς θαλάσσης   locality   \n",
       "\n",
       "         type_sec  longitude   latitude  \n",
       "26  coast section   6.500000  36.500000  \n",
       "27  coast section   6.666667  36.333333  \n",
       "28  coast section   7.250000  36.166667  \n",
       "29  coast section   7.500000  36.166667  \n",
       "30  coast section   7.500000  36.250000  "
      ]
     },
     "execution_count": 51,
     "metadata": {},
     "output_type": "execute_result"
    }
   ],
   "source": [
    "dfTemp[26:31]"
   ]
  },
  {
   "cell_type": "code",
   "execution_count": 52,
   "metadata": {},
   "outputs": [],
   "source": [
    "# Xi\n",
    "dfTempX = dfXi.copy()\n",
    "dfTempX['longitude'] = dfXi.apply(lambda row: reformatCoord(row,'long','coord'),axis=1).apply(reformatIntFrac)\n",
    "dfTempX['latitude'] = dfXi.apply(lambda row: reformatCoord(row,'lat','coord'),axis=1).apply(reformatIntFrac)"
   ]
  },
  {
   "cell_type": "code",
   "execution_count": 53,
   "metadata": {},
   "outputs": [
    {
     "name": "stdout",
     "output_type": "stream",
     "text": [
      "{'integer': 'δ', 'fraction': 'ιβ'}\n"
     ]
    }
   ],
   "source": [
    "example={\"integer\":dfXi.coord[4][\"long\"][\"integer\"],\"fraction\":dfXi.coord[4][\"long\"][\"fraction\"]}\n",
    "print(example)"
   ]
  },
  {
   "cell_type": "code",
   "execution_count": 54,
   "metadata": {},
   "outputs": [
    {
     "data": {
      "text/plain": [
       "('λς', 'L')"
      ]
     },
     "execution_count": 54,
     "metadata": {},
     "output_type": "execute_result"
    }
   ],
   "source": [
    "row=dfTemp.iloc[26]\n",
    "row\n",
    "a=reformatCoord(row,'lat','coord')\n",
    "a"
   ]
  },
  {
   "cell_type": "code",
   "execution_count": 55,
   "metadata": {},
   "outputs": [
    {
     "data": {
      "text/plain": [
       "36.5"
      ]
     },
     "execution_count": 55,
     "metadata": {},
     "output_type": "execute_result"
    }
   ],
   "source": [
    "reformatIntFrac(a)"
   ]
  },
  {
   "cell_type": "markdown",
   "metadata": {},
   "source": [
    "## Data preparation for the map drawing"
   ]
  },
  {
   "cell_type": "markdown",
   "metadata": {},
   "source": [
    "### Coasts of the peninsula (Omega)"
   ]
  },
  {
   "cell_type": "markdown",
   "metadata": {},
   "source": [
    "We select the localities that form the coasts of the peninsula. "
   ]
  },
  {
   "cell_type": "code",
   "execution_count": 56,
   "metadata": {},
   "outputs": [],
   "source": [
    "dfOmegaCoasts = dfTemp[(dfTemp.type_sec == 'coast section') & (dfTemp.type == 'locality')]\n",
    "dfOmegaCoasts = dfOmegaCoasts[dfOmegaCoasts.category.apply(lambda row: row not in ['river path','river source'])]"
   ]
  },
  {
   "cell_type": "markdown",
   "metadata": {},
   "source": [
    "We sort the localities in the correct order."
   ]
  },
  {
   "cell_type": "code",
   "execution_count": 57,
   "metadata": {},
   "outputs": [],
   "source": [
    "dfOmegaCoasts = pd.concat([dfOmegaCoasts[39:70].sort_index(ascending=False),dfOmegaCoasts[29:38].sort_index(ascending=False),dfOmegaCoasts[:2],dfOmegaCoasts[4:29],dfTemp[(dfTemp.ID == '2.04.08.08')],dfOmegaCoasts[3:4],dfOmegaCoasts[70:99]])"
   ]
  },
  {
   "cell_type": "markdown",
   "metadata": {},
   "source": [
    "### Inland boundary lines (Omega)"
   ]
  },
  {
   "cell_type": "markdown",
   "metadata": {},
   "source": [
    "Ptolemy's map of the Iberian peninsula contains several boundary lines between the provinces that we want to draw."
   ]
  },
  {
   "cell_type": "code",
   "execution_count": 58,
   "metadata": {},
   "outputs": [],
   "source": [
    "# boundaries of the Baetica province\n",
    "boundary_om1 = dfTemp[(dfTemp.ID == '2.04.03.01')].append(dfTemp[(dfTemp.ID == '2.04.03.03')]).append(dfTemp[(dfTemp.ID == '2.04.03.04')]).append(dfTemp[(dfTemp.ID == '2.04.03.07')])\n",
    "boundary_om1 = boundary_om1[['longitude','latitude']].values\n",
    "\n",
    "#boundaries of the Lusitania province\n",
    "boundary_om2 = dfTemp[(dfTemp.ID == '2.05.01.04')].append(dfTemp[(dfTemp.ID == '2.05.01.06')]).append(dfTemp[(dfTemp.ID == '2.05.04.05')]).append(dfTemp[(dfTemp.ID == '2.04.03.04')])\n",
    "boundary_om2 = boundary_om2[['longitude','latitude']].values"
   ]
  },
  {
   "cell_type": "markdown",
   "metadata": {},
   "source": [
    "The Pyrenees are defined by four points: three are defined by Ptolemy in the catalogue of the Iberian localities, one is defined in the chapter devoted to the province of Gallia Aquitania."
   ]
  },
  {
   "cell_type": "code",
   "execution_count": 59,
   "metadata": {},
   "outputs": [],
   "source": [
    "boundary_om3 = pd.DataFrame({'longitude':[15,17,19,20.333], 'latitude':[45.833,43,43.167,42.333]}).values"
   ]
  },
  {
   "cell_type": "markdown",
   "metadata": {},
   "source": [
    "### Dictionary for coastlines and boudaries (Omega)"
   ]
  },
  {
   "cell_type": "markdown",
   "metadata": {},
   "source": [
    "We save the data for the coastline and boundaries as a dictionary for later use."
   ]
  },
  {
   "cell_type": "code",
   "execution_count": 60,
   "metadata": {},
   "outputs": [],
   "source": [
    "OmegaCoasts = dfOmegaCoasts[['longitude','latitude']].values"
   ]
  },
  {
   "cell_type": "code",
   "execution_count": 61,
   "metadata": {},
   "outputs": [],
   "source": [
    "ob_dict={\"OmegaCoasts\":OmegaCoasts,'boundary_om1' : boundary_om1, 'boundary_om2' : boundary_om2, \"boundary_om3\":boundary_om3 }"
   ]
  },
  {
   "cell_type": "markdown",
   "metadata": {},
   "source": [
    "### Coasts of the peninsula (Xi)"
   ]
  },
  {
   "cell_type": "code",
   "execution_count": 62,
   "metadata": {},
   "outputs": [],
   "source": [
    "dfXiCoasts = dfTempX[(dfTempX.type_sec == 'coast section') & (dfTempX.type == 'locality')]\n",
    "dfXiCoasts = dfXiCoasts[dfXiCoasts.category.apply(lambda row: row not in ['river path','river source'])]"
   ]
  },
  {
   "cell_type": "code",
   "execution_count": 63,
   "metadata": {},
   "outputs": [],
   "source": [
    "dfXiCoasts = pd.concat([dfXiCoasts[37:68].sort_index(ascending=False),dfXiCoasts[27:36].sort_index(ascending=False),dfXiCoasts[:2],dfXiCoasts[4:27],dfTempX[(dfTempX.ID == '2.04.08.08')],dfXiCoasts[3:4],dfXiCoasts[70:99]]);"
   ]
  },
  {
   "cell_type": "code",
   "execution_count": 64,
   "metadata": {},
   "outputs": [],
   "source": [
    "XiCoasts = dfXiCoasts[['longitude','latitude']].values"
   ]
  },
  {
   "cell_type": "markdown",
   "metadata": {},
   "source": [
    "### Inland boundary lines (Xi)"
   ]
  },
  {
   "cell_type": "code",
   "execution_count": 65,
   "metadata": {},
   "outputs": [],
   "source": [
    "# boundaries of the Baetica province\n",
    "boundary_xi1 = dfTempX[(dfTempX.ID == '2.04.03.01')].append(dfTempX[(dfTempX.ID == '2.04.03.03')]).append(dfTempX[(dfTempX.ID == '2.04.03.04')]).append(dfTempX[(dfTempX.ID == '2.04.03.07')])\n",
    "boundary_xi1 = boundary_xi1[['longitude','latitude']].values\n",
    "\n",
    "#boundaries of the Lusitania province\n",
    "boundary_xi2 = dfTempX[(dfTempX.ID == '2.05.01.04')].append(dfTempX[(dfTempX.ID == '2.05.01.06')]).append(dfTempX[(dfTempX.ID == '2.05.04.05')]).append(dfTempX[(dfTempX.ID == '2.04.03.04')])\n",
    "boundary_xi2 = boundary_xi2[['longitude','latitude']].values"
   ]
  },
  {
   "cell_type": "code",
   "execution_count": 66,
   "metadata": {},
   "outputs": [],
   "source": [
    "boundary_xi3 = pd.DataFrame({'longitude':[15.167,17,19,20.333], 'latitude':[45.833,43,43.167,42.333]}).values"
   ]
  },
  {
   "cell_type": "code",
   "execution_count": 67,
   "metadata": {},
   "outputs": [],
   "source": [
    "xb_dict={'XiCoasts':XiCoasts, 'boundary_xi1' : boundary_xi1, 'boundary_xi2' : boundary_xi2, 'boundary_xi3' : boundary_xi3}"
   ]
  },
  {
   "cell_type": "markdown",
   "metadata": {},
   "source": [
    "## Map of the Iberian peninsula, Omega recension"
   ]
  },
  {
   "cell_type": "code",
   "execution_count": 68,
   "metadata": {},
   "outputs": [],
   "source": [
    "df_dict={\"dfTemp\" : dfTemp,  \"dfTempX\" : dfTempX}"
   ]
  },
  {
   "cell_type": "code",
   "execution_count": 69,
   "metadata": {},
   "outputs": [],
   "source": [
    "fig=Geography(ob_dict,xb_dict,df_dict)"
   ]
  },
  {
   "cell_type": "code",
   "execution_count": 70,
   "metadata": {},
   "outputs": [
    {
     "data": {
      "text/html": [
       "\n",
       "\n",
       "\n",
       "\n",
       "\n",
       "\n",
       "  <div class=\"bk-root\" id=\"33fc907a-e7e6-47ee-a178-e763a4bfc8bb\" data-root-id=\"2465\"></div>\n"
      ]
     },
     "metadata": {},
     "output_type": "display_data"
    },
    {
     "data": {
      "application/javascript": [
       "(function(root) {\n",
       "  function embed_document(root) {\n",
       "    \n",
       "  var docs_json = {\"476f17f4-7e87-487e-b2cd-2b377ccf381f\":{\"roots\":{\"references\":[{\"attributes\":{\"background_fill_alpha\":{\"value\":0.5},\"background_fill_color\":{\"value\":\"beige\"},\"below\":[{\"id\":\"2475\",\"type\":\"LinearAxis\"}],\"center\":[{\"id\":\"2479\",\"type\":\"Grid\"},{\"id\":\"2484\",\"type\":\"Grid\"},{\"id\":\"2511\",\"type\":\"Legend\"}],\"left\":[{\"id\":\"2480\",\"type\":\"LinearAxis\"}],\"plot_height\":800,\"plot_width\":1000,\"renderers\":[{\"id\":\"2502\",\"type\":\"GlyphRenderer\"},{\"id\":\"2517\",\"type\":\"GlyphRenderer\"},{\"id\":\"2532\",\"type\":\"GlyphRenderer\"},{\"id\":\"2549\",\"type\":\"GlyphRenderer\"},{\"id\":\"2568\",\"type\":\"GlyphRenderer\"}],\"title\":null,\"toolbar\":{\"id\":\"2490\",\"type\":\"Toolbar\"},\"x_range\":{\"id\":\"2467\",\"type\":\"Range1d\"},\"x_scale\":{\"id\":\"2471\",\"type\":\"LinearScale\"},\"y_range\":{\"id\":\"2469\",\"type\":\"Range1d\"},\"y_scale\":{\"id\":\"2473\",\"type\":\"LinearScale\"}},\"id\":\"2465\",\"subtype\":\"Figure\",\"type\":\"Plot\"},{\"attributes\":{\"line_alpha\":0.2,\"line_color\":\"#1f77b4\",\"x\":{\"field\":\"x\"},\"y\":{\"field\":\"y\"}},\"id\":\"2548\",\"type\":\"Line\"},{\"attributes\":{\"line_alpha\":0.2,\"line_color\":\"#1f77b4\",\"x\":{\"field\":\"x\"},\"y\":{\"field\":\"y\"}},\"id\":\"2501\",\"type\":\"Line\"},{\"attributes\":{\"dimension\":1,\"ticker\":{\"id\":\"2481\",\"type\":\"BasicTicker\"}},\"id\":\"2484\",\"type\":\"Grid\"},{\"attributes\":{\"source\":{\"id\":\"2528\",\"type\":\"ColumnDataSource\"}},\"id\":\"2533\",\"type\":\"CDSView\"},{\"attributes\":{\"bottom_units\":\"screen\",\"fill_alpha\":{\"value\":0.5},\"fill_color\":{\"value\":\"lightgrey\"},\"left_units\":\"screen\",\"level\":\"overlay\",\"line_alpha\":{\"value\":1.0},\"line_color\":{\"value\":\"black\"},\"line_dash\":[4,4],\"line_width\":{\"value\":2},\"render_mode\":\"css\",\"right_units\":\"screen\",\"top_units\":\"screen\"},\"id\":\"2509\",\"type\":\"BoxAnnotation\"},{\"attributes\":{\"callback\":null,\"end\":22,\"start\":1.5},\"id\":\"2467\",\"type\":\"Range1d\"},{\"attributes\":{},\"id\":\"2481\",\"type\":\"BasicTicker\"},{\"attributes\":{},\"id\":\"2582\",\"type\":\"UnionRenderers\"},{\"attributes\":{},\"id\":\"2471\",\"type\":\"LinearScale\"},{\"attributes\":{},\"id\":\"2544\",\"type\":\"Selection\"},{\"attributes\":{\"source\":{\"id\":\"2498\",\"type\":\"ColumnDataSource\"}},\"id\":\"2503\",\"type\":\"CDSView\"},{\"attributes\":{\"callback\":null,\"data\":{\"x\":{\"__ndarray__\":\"VVVVVVVVFUBVVVVVVVUiQAAAAAAAACJAAAAAAAAAIkA=\",\"dtype\":\"float64\",\"shape\":[4]},\"y\":{\"__ndarray__\":\"q6qqqqrqRECrqqqqqqpEQFVVVVVVFURAAAAAAACAQ0A=\",\"dtype\":\"float64\",\"shape\":[4]}},\"selected\":{\"id\":\"2563\",\"type\":\"Selection\"},\"selection_policy\":{\"id\":\"2562\",\"type\":\"UnionRenderers\"}},\"id\":\"2528\",\"type\":\"ColumnDataSource\"},{\"attributes\":{},\"id\":\"2505\",\"type\":\"BasicTickFormatter\"},{\"attributes\":{},\"id\":\"2473\",\"type\":\"LinearScale\"},{\"attributes\":{\"line_alpha\":0.1,\"line_color\":\"#1f77b4\",\"x\":{\"field\":\"x\"},\"y\":{\"field\":\"y\"}},\"id\":\"2515\",\"type\":\"Line\"},{\"attributes\":{},\"id\":\"2489\",\"type\":\"ResetTool\"},{\"attributes\":{},\"id\":\"2527\",\"type\":\"Selection\"},{\"attributes\":{\"source\":{\"id\":\"2545\",\"type\":\"ColumnDataSource\"}},\"id\":\"2550\",\"type\":\"CDSView\"},{\"attributes\":{\"data_source\":{\"id\":\"2528\",\"type\":\"ColumnDataSource\"},\"glyph\":{\"id\":\"2529\",\"type\":\"Line\"},\"hover_glyph\":null,\"muted_glyph\":{\"id\":\"2531\",\"type\":\"Line\"},\"nonselection_glyph\":{\"id\":\"2530\",\"type\":\"Line\"},\"selection_glyph\":null,\"view\":{\"id\":\"2533\",\"type\":\"CDSView\"}},\"id\":\"2532\",\"type\":\"GlyphRenderer\"},{\"attributes\":{\"x\":{\"field\":\"x\"},\"y\":{\"field\":\"y\"}},\"id\":\"2529\",\"type\":\"Line\"},{\"attributes\":{\"formatter\":{\"id\":\"2507\",\"type\":\"BasicTickFormatter\"},\"ticker\":{\"id\":\"2481\",\"type\":\"BasicTicker\"}},\"id\":\"2480\",\"type\":\"LinearAxis\"},{\"attributes\":{\"overlay\":{\"id\":\"2510\",\"type\":\"BoxAnnotation\"}},\"id\":\"2487\",\"type\":\"BoxZoomTool\"},{\"attributes\":{\"ticker\":{\"id\":\"2476\",\"type\":\"BasicTicker\"}},\"id\":\"2479\",\"type\":\"Grid\"},{\"attributes\":{\"data_source\":{\"id\":\"2545\",\"type\":\"ColumnDataSource\"},\"glyph\":{\"id\":\"2546\",\"type\":\"Line\"},\"hover_glyph\":null,\"muted_glyph\":{\"id\":\"2548\",\"type\":\"Line\"},\"nonselection_glyph\":{\"id\":\"2547\",\"type\":\"Line\"},\"selection_glyph\":null,\"view\":{\"id\":\"2550\",\"type\":\"CDSView\"}},\"id\":\"2549\",\"type\":\"GlyphRenderer\"},{\"attributes\":{\"callback\":null,\"overlay\":{\"id\":\"2509\",\"type\":\"BoxAnnotation\"}},\"id\":\"2486\",\"type\":\"BoxSelectTool\"},{\"attributes\":{\"x\":{\"field\":\"x\"},\"y\":{\"field\":\"y\"}},\"id\":\"2514\",\"type\":\"Line\"},{\"attributes\":{},\"id\":\"2689\",\"type\":\"Selection\"},{\"attributes\":{\"data_source\":{\"id\":\"2496\",\"type\":\"ColumnDataSource\"},\"glyph\":{\"id\":\"2565\",\"type\":\"Circle\"},\"hover_glyph\":null,\"muted_glyph\":{\"id\":\"2567\",\"type\":\"Circle\"},\"nonselection_glyph\":{\"id\":\"2566\",\"type\":\"Circle\"},\"selection_glyph\":null,\"view\":{\"id\":\"2497\",\"type\":\"CDSView\"}},\"id\":\"2568\",\"type\":\"GlyphRenderer\"},{\"attributes\":{},\"id\":\"2526\",\"type\":\"UnionRenderers\"},{\"attributes\":{},\"id\":\"2488\",\"type\":\"WheelZoomTool\"},{\"attributes\":{\"data_source\":{\"id\":\"2498\",\"type\":\"ColumnDataSource\"},\"glyph\":{\"id\":\"2499\",\"type\":\"Line\"},\"hover_glyph\":null,\"muted_glyph\":{\"id\":\"2501\",\"type\":\"Line\"},\"nonselection_glyph\":{\"id\":\"2500\",\"type\":\"Line\"},\"selection_glyph\":null,\"view\":{\"id\":\"2503\",\"type\":\"CDSView\"}},\"id\":\"2502\",\"type\":\"GlyphRenderer\"},{\"attributes\":{\"callback\":null,\"data\":{\"x\":{\"__ndarray__\":\"VVVVVVVVEEBVVVVVVVUZQAAAAAAAACJAAAAAAAAAKEA=\",\"dtype\":\"float64\",\"shape\":[4]},\"y\":{\"__ndarray__\":\"VVVVVVXVQkAAAAAAAIBDQAAAAAAAgENAAAAAAACgQkA=\",\"dtype\":\"float64\",\"shape\":[4]}},\"selected\":{\"id\":\"2544\",\"type\":\"Selection\"},\"selection_policy\":{\"id\":\"2543\",\"type\":\"UnionRenderers\"}},\"id\":\"2513\",\"type\":\"ColumnDataSource\"},{\"attributes\":{\"source\":{\"id\":\"2513\",\"type\":\"ColumnDataSource\"}},\"id\":\"2518\",\"type\":\"CDSView\"},{\"attributes\":{},\"id\":\"2562\",\"type\":\"UnionRenderers\"},{\"attributes\":{\"x\":{\"field\":\"x\"},\"y\":{\"field\":\"y\"}},\"id\":\"2546\",\"type\":\"Line\"},{\"attributes\":{},\"id\":\"2688\",\"type\":\"UnionRenderers\"},{\"attributes\":{},\"id\":\"2563\",\"type\":\"Selection\"},{\"attributes\":{\"callback\":null,\"tooltips\":[[\"index\",\"$index\"],[\"(x,y)\",\"($x, $y)\"]]},\"id\":\"2485\",\"type\":\"HoverTool\"},{\"attributes\":{\"line_alpha\":0.1,\"line_color\":\"#1f77b4\",\"x\":{\"field\":\"x\"},\"y\":{\"field\":\"y\"}},\"id\":\"2530\",\"type\":\"Line\"},{\"attributes\":{\"fill_alpha\":{\"value\":0.2},\"fill_color\":{\"value\":\"#1f77b4\"},\"line_alpha\":{\"value\":0.2},\"line_color\":{\"value\":\"#1f77b4\"},\"size\":{\"units\":\"screen\",\"value\":6},\"x\":{\"field\":\"x\"},\"y\":{\"field\":\"y\"}},\"id\":\"2567\",\"type\":\"Circle\"},{\"attributes\":{\"active_drag\":\"auto\",\"active_inspect\":\"auto\",\"active_multi\":null,\"active_scroll\":\"auto\",\"active_tap\":\"auto\",\"tools\":[{\"id\":\"2485\",\"type\":\"HoverTool\"},{\"id\":\"2486\",\"type\":\"BoxSelectTool\"},{\"id\":\"2487\",\"type\":\"BoxZoomTool\"},{\"id\":\"2488\",\"type\":\"WheelZoomTool\"},{\"id\":\"2489\",\"type\":\"ResetTool\"}]},\"id\":\"2490\",\"type\":\"Toolbar\"},{\"attributes\":{},\"id\":\"2476\",\"type\":\"BasicTicker\"},{\"attributes\":{},\"id\":\"2507\",\"type\":\"BasicTickFormatter\"},{\"attributes\":{},\"id\":\"2543\",\"type\":\"UnionRenderers\"},{\"attributes\":{\"formatter\":{\"id\":\"2505\",\"type\":\"BasicTickFormatter\"},\"ticker\":{\"id\":\"2476\",\"type\":\"BasicTicker\"}},\"id\":\"2475\",\"type\":\"LinearAxis\"},{\"attributes\":{\"label\":{\"value\":\"Boundary in Omega\"},\"renderers\":[{\"id\":\"2502\",\"type\":\"GlyphRenderer\"},{\"id\":\"2517\",\"type\":\"GlyphRenderer\"},{\"id\":\"2532\",\"type\":\"GlyphRenderer\"},{\"id\":\"2549\",\"type\":\"GlyphRenderer\"}]},\"id\":\"2512\",\"type\":\"LegendItem\"},{\"attributes\":{\"label\":{\"value\":\"Localities in Omega \"},\"renderers\":[{\"id\":\"2568\",\"type\":\"GlyphRenderer\"}]},\"id\":\"2584\",\"type\":\"LegendItem\"},{\"attributes\":{\"line_alpha\":0.1,\"line_color\":\"#1f77b4\",\"x\":{\"field\":\"x\"},\"y\":{\"field\":\"y\"}},\"id\":\"2500\",\"type\":\"Line\"},{\"attributes\":{\"line_alpha\":0.1,\"line_color\":\"#1f77b4\",\"x\":{\"field\":\"x\"},\"y\":{\"field\":\"y\"}},\"id\":\"2547\",\"type\":\"Line\"},{\"attributes\":{\"callback\":null,\"data\":{\"x\":[\"NaN\",\"NaN\",\"NaN\",\"NaN\",4.083333333333333,4.333333333333333,6.333333333333333,9.0,12.0,14.0,\"NaN\",\"NaN\",\"NaN\",\"NaN\",\"NaN\",4.666666666666667,5.083333333333333,5.333333333333333,12.0,6.0,6.0,6.0,5.75,6.166666666666667,6.25,\"NaN\",6.5,6.666666666666667,7.25,7.5,7.5,\"NaN\",7.666666666666667,8.0,8.5,8.833333333333334,9.25,9.75,10.25,10.833333333333334,10.75,11.333333333333334,11.5,\"NaN\",11.75,\"NaN\",\"NaN\",9.166666666666666,9.5,9.0,9.75,9.25,10.0,9.333333333333334,9.5,10.166666666666666,8.75,8.666666666666666,8.25,8.75,8.0,7.5,7.0,6.25,6.166666666666667,9.666666666666666,9.666666666666666,9.5,9.166666666666666,9.666666666666666,10.166666666666666,10.25,10.416666666666666,10.75,11.0,\"NaN\",\"NaN\",4.333333333333333,4.666666666666667,5.0,5.166666666666667,5.666666666666667,6.0,6.5,5.5,5.666666666666667,5.5,6.0,6.666666666666667,6.5,7.0,6.333333333333333,7.0,6.5,6.666666666666667,7.0,6.5,6.5,7.0,9.166666666666666,7.166666666666667,8.0,7.0,7.333333333333333,7.666666666666667,7.25,8.0,7.666666666666667,7.333333333333333,7.5,7.25,8.5,8.666666666666666,8.583333333333334,8.25,8.166666666666666,\"NaN\",5.833333333333333,6.5,6.0,6.5,6.25,\"NaN\",7.333333333333333,6.5,5.166666666666667,\"NaN\",\"NaN\",5.333333333333333,9.166666666666666,12.666666666666666,\"NaN\",\"NaN\",\"NaN\",\"NaN\",\"NaN\",3.6666666666666665,3.0,2.5,5.0,5.083333333333333,4.416666666666667,\"NaN\",4.25,5.166666666666667,5.5,9.0,11.666666666666666,5.0,5.166666666666667,5.166666666666667,5.333333333333333,\"NaN\",\"NaN\",5.333333333333333,5.25,\"NaN\",5.75,5.333333333333333,6.0,5.333333333333333,5.666666666666667,6.166666666666667,5.666666666666667,6.166666666666667,6.166666666666667,\"NaN\",\"NaN\",5.5,5.666666666666667,6.0,6.5,6.666666666666667,7.25,7.333333333333333,5.5,5.666666666666667,6.0,6.333333333333333,6.666666666666667,7.5,7.166666666666667,6.833333333333333,6.666666666666667,8.0,7.333333333333333,6.833333333333333,6.666666666666667,7.0,7.0,7.833333333333333,7.333333333333333,8.0,7.333333333333333,7.666666666666667,8.5,8.666666666666666,\"NaN\",8.5,8.0,8.833333333333334,8.0,8.333333333333334,8.5,8.333333333333334,8.333333333333334,8.666666666666666,8.833333333333334,8.5,\"NaN\",3.0,\"NaN\",\"NaN\",\"NaN\",5.5,5.166666666666667,5.666666666666667,5.5,5.333333333333333,11.5,\"NaN\",5.5,5.666666666666667,5.666666666666667,5.333333333333333,5.25,\"NaN\",\"NaN\",5.666666666666667,6.25,6.5,\"NaN\",7.25,8.25,9.0,10.333333333333334,11.333333333333334,\"NaN\",11.75,12.0,\"NaN\",13.0,\"NaN\",13.166666666666666,13.5,\"NaN\",13.75,\"NaN\",14.333333333333334,\"NaN\",15.166666666666666,15.0,\"NaN\",20.333333333333332,17.0,\"NaN\",\"NaN\",12.0,\"NaN\",12.0,\"NaN\",12.166666666666666,12.25,12.916666666666666,12.5,12.666666666666666,13.0,13.5,14.0,\"NaN\",14.666666666666666,15.0,15.666666666666666,\"NaN\",15.916666666666666,15.5,16.0,14.0,12.5,\"NaN\",16.333333333333332,16.833333333333332,\"NaN\",17.25,17.5,17.833333333333332,18.5,18.0,18.25,\"NaN\",18.5,18.75,19.0,19.5,20.333333333333332,\"NaN\",9.0,11.5,14.666666666666666,16.0,14.0,14.333333333333334,12.0,14.0,\"NaN\",5.75,6.166666666666667,\"NaN\",8.25,8.5,9.333333333333334,10.166666666666666,10.166666666666666,7.0,6.333333333333333,7.0,8.333333333333334,8.833333333333334,\"NaN\",6.416666666666667,7.416666666666667,\"NaN\",6.333333333333333,7.5,\"NaN\",7.333333333333333,\"NaN\",8.5,8.5,\"NaN\",11.0,11.0,10.25,9.333333333333334,9.333333333333334,10.333333333333334,11.5,8.5,9.0,0.0,\"NaN\",10.0,\"NaN\",10.833333333333334,\"NaN\",11.166666666666666,\"NaN\",11.666666666666666,\"NaN\",13.0,\"NaN\",9.5,\"NaN\",9.5,\"NaN\",7.5,\"NaN\",8.0,\"NaN\",6.0,6.5,6.833333333333333,8.333333333333334,8.5,\"NaN\",6.5,\"NaN\",6.0,\"NaN\",6.0,\"NaN\",7.333333333333333,\"NaN\",6.0,\"NaN\",8.333333333333334,\"NaN\",7.5,\"NaN\",7.333333333333333,\"NaN\",8.166666666666666,\"NaN\",8.0,\"NaN\",9.75,10.25,11.0,9.666666666666666,10.333333333333334,9.5,9.666666666666666,9.666666666666666,9.333333333333334,9.833333333333334,10.5,9.0,9.666666666666666,10.0,9.666666666666666,10.166666666666666,9.0,9.5,\"NaN\",\"NaN\",12.166666666666666,12.666666666666666,12.0,11.333333333333334,12.5,11.666666666666666,12.166666666666666,11.75,\"NaN\",12.0,11.25,11.833333333333334,12.0,\"NaN\",13.0,13.0,12.0,13.0,13.25,12.666666666666666,13.0,\"NaN\",\"NaN\",11.166666666666666,11.5,12.5,\"NaN\",\"NaN\",13.0,13.0,13.0,\"NaN\",\"NaN\",11.0,11.0,11.5,11.5,12.5,11.333333333333334,12.666666666666666,13.416666666666666,13.5,13.25,\"NaN\",\"NaN\",9.666666666666666,10.5,11.0,11.5,12.0,13.0,11.666666666666666,10.0,10.333333333333334,11.333333333333334,9.666666666666666,10.25,10.333333333333334,11.0,10.5,9.833333333333334,10.5,10.333333333333334,\"NaN\",13.666666666666666,13.5,14.0,14.75,13.333333333333334,12.166666666666666,13.0,13.5,12.333333333333334,13.166666666666666,13.333333333333334,12.75,13.5,12.5,11.5,12.0,12.333333333333334,11.666666666666666,\"NaN\",9.333333333333334,10.0,9.166666666666666,10.0,9.5,10.666666666666666,11.333333333333334,9.5,9.75,10.333333333333334,11.0,10.0,10.833333333333334,\"NaN\",\"NaN\",13.0,\"NaN\",\"NaN\",13.333333333333334,13.0,13.5,12.0,12.5,11.666666666666666,12.0,11.333333333333334,11.0,11.5,11.333333333333334,11.5,11.166666666666666,11.166666666666666,11.75,\"NaN\",\"NaN\",13.75,14.0,13.166666666666666,13.666666666666666,12.333333333333334,12.333333333333334,\"NaN\",\"NaN\",14.25,14.166666666666666,14.666666666666666,14.166666666666666,14.666666666666666,14.5,14.666666666666666,14.25,14.333333333333334,14.833333333333334,14.416666666666666,14.583333333333334,\"NaN\",\"NaN\",16.666666666666668,14.916666666666666,15.25,15.666666666666666,15.5,15.083333333333334,15.25,\"NaN\",\"NaN\",\"NaN\",13.333333333333334,13.666666666666666,13.916666666666666,\"NaN\",\"NaN\",14.0,14.5,13.916666666666666,14.583333333333334,14.333333333333334,13.666666666666666,14.0,\"NaN\",\"NaN\",15.416666666666666,15.0,15.5,15.0,15.083333333333334,14.833333333333334,15.5,15.0,14.666666666666666,15.0,14.0,14.75,14.333333333333334,14.666666666666666,14.666666666666666,\"NaN\",\"NaN\",16.5,16.0,15.5,15.75,15.166666666666666,16.0,15.166666666666666,15.5,15.0,15.416666666666666,\"NaN\",17.333333333333332,\"NaN\",16.666666666666668,16.166666666666668,17.0,16.666666666666668,\"NaN\",17.916666666666668,17.916666666666668,17.333333333333332,17.5,\"NaN\",\"NaN\",16.333333333333332,16.5,16.0,16.666666666666668,16.0,15.666666666666666,16.75,15.5,16.333333333333332,15.833333333333334,\"NaN\",18.666666666666668,18.5,\"NaN\",17.333333333333332,\"NaN\",9.0,\"NaN\",4.0,4.666666666666667,\"NaN\",14.833333333333334,14.0,\"NaN\",\"NaN\",16.166666666666668,16.75,\"NaN\",17.166666666666668,17.5],\"y\":[\"NaN\",\"NaN\",\"NaN\",\"NaN\",37.666666666666664,37.5,39.0,39.0,37.25,40.0,\"NaN\",\"NaN\",\"NaN\",\"NaN\",\"NaN\",37.333333333333336,37.166666666666664,37.0,38.5,36.75,36.833333333333336,36.333333333333336,36.0,36.166666666666664,36.666666666666664,\"NaN\",36.5,36.333333333333336,36.166666666666664,36.166666666666664,36.25,\"NaN\",36.666666666666664,36.083333333333336,37.0,37.5,37.25,37.25,37.25,37.083333333333336,37.166666666666664,37.083333333333336,36.333333333333336,\"NaN\",37.166666666666664,\"NaN\",\"NaN\",38.833333333333336,38.666666666666664,38.5,38.166666666666664,38.5,38.25,38.083333333333336,38.0,38.0,37.75,37.416666666666664,37.666666666666664,37.916666666666664,37.166666666666664,37.0,36.666666666666664,36.916666666666664,36.333333333333336,38.083333333333336,37.75,37.5,37.5,37.416666666666664,37.75,37.5,37.833333333333336,37.833333333333336,37.666666666666664,\"NaN\",\"NaN\",38.0,37.75,37.25,38.333333333333336,38.333333333333336,38.333333333333336,37.75,37.333333333333336,37.5,37.75,37.333333333333336,38.333333333333336,38.666666666666664,38.0,37.333333333333336,37.666666666666664,37.5,37.25,37.166666666666664,37.916666666666664,37.333333333333336,38.833333333333336,38.0,37.833333333333336,38.666666666666664,38.416666666666664,38.333333333333336,37.5,37.833333333333336,37.75,37.75,37.166666666666664,37.416666666666664,37.083333333333336,38.5,38.583333333333336,38.333333333333336,38.333333333333336,38.0,\"NaN\",38.0,38.5,38.666666666666664,38.833333333333336,38.416666666666664,\"NaN\",37.666666666666664,37.083333333333336,36.166666666666664,\"NaN\",\"NaN\",41.833333333333336,41.333333333333336,41.666666666666664,\"NaN\",\"NaN\",\"NaN\",\"NaN\",\"NaN\",37.75,37.833333333333336,38.25,39.0,39.416666666666664,39.5,\"NaN\",39.75,40.25,40.166666666666664,40.166666666666664,40.75,40.666666666666664,40.833333333333336,41.333333333333336,41.833333333333336,\"NaN\",\"NaN\",39.0,38.75,\"NaN\",40.25,40.0,40.0,39.75,39.0,39.666666666666664,39.333333333333336,39.333333333333336,39.083333333333336,\"NaN\",\"NaN\",41.083333333333336,41.5,41.333333333333336,41.25,41.5,41.083333333333336,41.5,40.666666666666664,40.5,41.0,40.75,40.5,40.75,40.5,40.25,40.0,40.25,40.0,39.75,39.5,39.333333333333336,39.083333333333336,39.916666666666664,39.666666666666664,39.5,39.25,39.083333333333336,39.5,39.166666666666664,\"NaN\",41.666666666666664,41.5,41.833333333333336,41.25,41.25,41.0,41.0,40.75,40.666666666666664,40.416666666666664,40.083333333333336,\"NaN\",41.0,\"NaN\",\"NaN\",\"NaN\",42.25,42.5,42.75,43.25,43.666666666666664,44.25,\"NaN\",44.0,44.333333333333336,44.666666666666664,45.0,45.166666666666664,\"NaN\",\"NaN\",45.5,45.5,45.5,\"NaN\",45.0,45.833333333333336,45.75,45.666666666666664,45.75,\"NaN\",45.416666666666664,45.5,\"NaN\",45.666666666666664,\"NaN\",44.666666666666664,44.25,\"NaN\",44.416666666666664,\"NaN\",45.0,\"NaN\",45.083333333333336,45.833333333333336,\"NaN\",42.333333333333336,43.0,\"NaN\",\"NaN\",37.25,\"NaN\",37.333333333333336,\"NaN\",37.5,37.916666666666664,38.083333333333336,38.5,38.583333333333336,38.75,38.75,38.333333333333336,\"NaN\",38.916666666666664,39.0,39.5,\"NaN\",39.666666666666664,40.0,40.5,42.0,44.0,\"NaN\",40.666666666666664,40.75,\"NaN\",41.0,41.0,41.333333333333336,41.5,41.75,42.0,\"NaN\",42.166666666666664,42.333333333333336,42.5,42.5,42.333333333333336,\"NaN\",45.0,44.25,42.25,43.0,41.5,39.0,37.666666666666664,39.666666666666664,\"NaN\",45.166666666666664,44.75,\"NaN\",45.083333333333336,45.5,45.333333333333336,44.666666666666664,44.916666666666664,44.75,43.75,43.5,44.416666666666664,44.583333333333336,\"NaN\",44.5,44.416666666666664,\"NaN\",44.333333333333336,44.0,\"NaN\",44.75,\"NaN\",44.5,45.166666666666664,\"NaN\",45.0,44.5,44.333333333333336,44.75,43.5,44.0,43.75,43.75,44.0,0.0,\"NaN\",44.833333333333336,\"NaN\",43.916666666666664,\"NaN\",44.25,\"NaN\",44.833333333333336,\"NaN\",43.75,\"NaN\",43.666666666666664,\"NaN\",44.0,\"NaN\",43.75,\"NaN\",43.75,\"NaN\",43.666666666666664,43.5,43.5,43.416666666666664,43.416666666666664,\"NaN\",43.666666666666664,\"NaN\",42.583333333333336,\"NaN\",43.333333333333336,\"NaN\",43.333333333333336,\"NaN\",42.25,\"NaN\",42.75,\"NaN\",42.666666666666664,\"NaN\",42.333333333333336,\"NaN\",42.333333333333336,\"NaN\",42.0,\"NaN\",43.916666666666664,43.416666666666664,43.5,43.333333333333336,43.0,43.0,42.666666666666664,42.916666666666664,42.5,42.0,42.5,42.333333333333336,42.416666666666664,42.333333333333336,42.166666666666664,42.0,42.0,41.666666666666664,\"NaN\",\"NaN\",44.666666666666664,44.75,44.166666666666664,44.666666666666664,44.25,44.666666666666664,44.0,43.333333333333336,\"NaN\",43.666666666666664,43.5,43.333333333333336,43.166666666666664,\"NaN\",44.25,43.5,43.0,43.0,43.5,43.25,42.666666666666664,\"NaN\",\"NaN\",42.0,42.666666666666664,42.666666666666664,\"NaN\",\"NaN\",42.0,41.666666666666664,42.25,\"NaN\",\"NaN\",42.833333333333336,42.0,42.416666666666664,42.0,41.666666666666664,41.833333333333336,42.5,42.75,42.916666666666664,42.5,\"NaN\",\"NaN\",41.0,41.666666666666664,41.5,41.5,41.833333333333336,41.333333333333336,41.0,41.0,41.666666666666664,40.0,40.333333333333336,40.75,40.583333333333336,40.5,40.916666666666664,40.25,40.25,39.75,\"NaN\",41.166666666666664,41.333333333333336,41.75,41.5,41.666666666666664,41.0,41.0,41.666666666666664,40.75,40.666666666666664,40.5,40.833333333333336,40.5,40.666666666666664,40.25,40.333333333333336,40.166666666666664,39.75,\"NaN\",40.0,39.0,39.666666666666664,39.5,39.5,39.166666666666664,39.0,39.0,39.5,39.0,39.666666666666664,38.75,38.333333333333336,\"NaN\",\"NaN\",40.333333333333336,\"NaN\",\"NaN\",39.833333333333336,39.333333333333336,39.75,39.5,39.666666666666664,39.25,39.166666666666664,39.75,38.583333333333336,38.666666666666664,37.75,38.166666666666664,38.333333333333336,38.0,38.5,\"NaN\",\"NaN\",39.25,39.0,39.0,38.916666666666664,38.5,38.916666666666664,\"NaN\",\"NaN\",41.5,41.25,41.0,40.75,40.666666666666664,40.5,40.25,40.166666666666664,39.75,39.666666666666664,39.416666666666664,39.666666666666664,\"NaN\",\"NaN\",41.333333333333336,41.166666666666664,40.666666666666664,40.5,40.333333333333336,40.25,40.0,\"NaN\",\"NaN\",\"NaN\",43.75,42.75,43.333333333333336,\"NaN\",\"NaN\",43.916666666666664,43.75,43.75,43.166666666666664,43.5,43.75,42.833333333333336,\"NaN\",\"NaN\",43.916666666666664,43.75,43.666666666666664,43.5,43.083333333333336,43.25,43.416666666666664,43.0,42.916666666666664,42.75,42.583333333333336,42.5,42.416666666666664,42.25,43.333333333333336,\"NaN\",\"NaN\",43.0,42.75,42.5,42.25,42.5,42.5,41.916666666666664,41.666666666666664,41.5,41.416666666666664,\"NaN\",42.75,\"NaN\",42.166666666666664,42.166666666666664,42.25,42.666666666666664,\"NaN\",42.25,42.5,41.916666666666664,42.5,\"NaN\",\"NaN\",42.0,41.75,41.666666666666664,41.583333333333336,41.166666666666664,41.333333333333336,41.916666666666664,41.0,41.333333333333336,40.833333333333336,\"NaN\",42.583333333333336,42.416666666666664,\"NaN\",41.583333333333336,\"NaN\",46.75,\"NaN\",45.5,43.333333333333336,\"NaN\",38.333333333333336,38.083333333333336,\"NaN\",\"NaN\",39.25,39.25,\"NaN\",39.5,39.5]},\"selected\":{\"id\":\"2689\",\"type\":\"Selection\"},\"selection_policy\":{\"id\":\"2688\",\"type\":\"UnionRenderers\"}},\"id\":\"2496\",\"type\":\"ColumnDataSource\"},{\"attributes\":{\"click_policy\":\"mute\",\"items\":[{\"id\":\"2512\",\"type\":\"LegendItem\"},{\"id\":\"2584\",\"type\":\"LegendItem\"}]},\"id\":\"2511\",\"type\":\"Legend\"},{\"attributes\":{},\"id\":\"2583\",\"type\":\"Selection\"},{\"attributes\":{\"data_source\":{\"id\":\"2513\",\"type\":\"ColumnDataSource\"},\"glyph\":{\"id\":\"2514\",\"type\":\"Line\"},\"hover_glyph\":null,\"muted_glyph\":{\"id\":\"2516\",\"type\":\"Line\"},\"nonselection_glyph\":{\"id\":\"2515\",\"type\":\"Line\"},\"selection_glyph\":null,\"view\":{\"id\":\"2518\",\"type\":\"CDSView\"}},\"id\":\"2517\",\"type\":\"GlyphRenderer\"},{\"attributes\":{\"callback\":null,\"end\":47,\"start\":35.5},\"id\":\"2469\",\"type\":\"Range1d\"},{\"attributes\":{\"source\":{\"id\":\"2496\",\"type\":\"ColumnDataSource\"}},\"id\":\"2497\",\"type\":\"CDSView\"},{\"attributes\":{\"callback\":null,\"data\":{\"x\":{\"__ndarray__\":\"AAAAAAAALkBVVVVVVVUuQKuqqqqqqixAAAAAAACAK0AAAAAAAAArQFVVVVVVVSpAAAAAAAAAKkAAAAAAAAAoQAAAAAAAgCdAq6qqqqqqJkCrqqqqqqokQAAAAAAAACJAAAAAAACAIEAAAAAAAAAdQAAAAAAAABpAAAAAAAAAGUCrqqqqqqoWQAAAAAAAABVAVVVVVVVVFUCrqqqqqqoWQKuqqqqqqhZAAAAAAAAAFkBVVVVVVVUVQAAAAAAAABZAq6qqqqqqFkCrqqqqqqoUQAAAAAAAABZAVVVVVVVVFUCrqqqqqqoUQKuqqqqqqhRAAAAAAAAAFEAAAAAAAAAWQKuqqqqqqhRAAAAAAAAAEUCrqqqqqqoRQFVVVVVVVRRAAAAAAAAAFEAAAAAAAAAEQAAAAAAAAAhAVVVVVVVVDUBVVVVVVVUQQFVVVVVVVRFAq6qqqqqqEkBVVVVVVVUUQFVVVVVVVRVAAAAAAAAAGEAAAAAAAAAYQAAAAAAAABhAAAAAAAAAF0CrqqqqqqoYQAAAAAAAABlAAAAAAAAAGkCrqqqqqqoaQAAAAAAAAB1AAAAAAAAAHkAAAAAAAAAeQKuqqqqqqh5AAAAAAAAAIEAAAAAAAAAhQKuqqqqqqiFAAAAAAACAIkAAAAAAAIAjQAAAAAAAgCRAq6qqqqqqJUAAAAAAAIAlQKuqqqqqqiZAAAAAAAAAJ0AAAAAAAIAnQAAAAAAAAChAAAAAAAAAKEBVVVVVVVUoQAAAAAAAgChAVVVVVVXVKUAAAAAAAAApQFVVVVVVVSlAAAAAAAAAKkAAAAAAAAArQAAAAAAAACxAVVVVVVVVLUAAAAAAAAAuQFVVVVVVVS9AVVVVVVXVL0AAAAAAAAAvQAAAAAAAADBAVVVVVVVVMEBVVVVVVdUwQAAAAAAAQDFAAAAAAACAMUBVVVVVVdUxQAAAAAAAgDJAAAAAAAAAMkAAAAAAAEAyQAAAAAAAgDJAAAAAAADAMkAAAAAAAAAzQAAAAAAAgDNAVVVVVVVVNEA=\",\"dtype\":\"float64\",\"shape\":[97]},\"y\":{\"__ndarray__\":\"q6qqqqrqRkCrqqqqqopGQAAAAAAAgEZAVVVVVVU1RkAAAAAAACBGQFVVVVVVVUZAVVVVVVXVRkAAAAAAAMBGQFVVVVVVtUZAAAAAAADgRkBVVVVVVdVGQAAAAAAA4EZAq6qqqqrqRkAAAAAAAIBGQAAAAAAAwEZAAAAAAADARkAAAAAAAMBGQFVVVVVVlUZAAAAAAACARkBVVVVVVVVGQKuqqqqqKkZAAAAAAAAARkBVVVVVVdVFQAAAAAAAoEVAAAAAAABgRUAAAAAAAEBFQAAAAAAAIEVAq6qqqqrqRECrqqqqqqpEQKuqqqqqakRAVVVVVVVVREBVVVVVVRVEQAAAAAAAIERAAAAAAADgQ0AAAAAAAMBDQFVVVVVVtUNAAAAAAACAQ0AAAAAAACBDQKuqqqqq6kJAAAAAAADgQkBVVVVVVdVCQAAAAAAAwEJAq6qqqqqqQkBVVVVVVZVCQAAAAAAAgEJAAAAAAABgQkCrqqqqqmpCQKuqqqqqKkJAAAAAAAAAQkBVVVVVVRVCQFVVVVVVVUJAAAAAAABAQkCrqqqqqipCQFVVVVVVFUJAVVVVVVUVQkAAAAAAACBCQFVVVVVVVUJAq6qqqqoKQkAAAAAAAIBCQAAAAAAAwEJAAAAAAACgQkAAAAAAAKBCQAAAAAAAoEJAq6qqqqqKQkBVVVVVVZVCQKuqqqqqikJAq6qqqqoqQkBVVVVVVZVCQAAAAAAAoEJAq6qqqqqqQkAAAAAAAMBCQFVVVVVV9UJAq6qqqqoKQ0AAAAAAAEBDQKuqqqqqSkNAAAAAAABgQ0AAAAAAAGBDQKuqqqqqKkNAVVVVVVV1Q0AAAAAAAIBDQAAAAAAAwENAVVVVVVXVQ0AAAAAAAABEQAAAAAAAQERAVVVVVVVVREAAAAAAAGBEQAAAAAAAgERAAAAAAACARECrqqqqqqpEQAAAAAAAwERAAAAAAADgREAAAAAAAABFQFVVVVVVFUVAq6qqqqoqRUAAAAAAAEBFQAAAAAAAQEVAq6qqqqoqRUA=\",\"dtype\":\"float64\",\"shape\":[97]}},\"selected\":{\"id\":\"2527\",\"type\":\"Selection\"},\"selection_policy\":{\"id\":\"2526\",\"type\":\"UnionRenderers\"}},\"id\":\"2498\",\"type\":\"ColumnDataSource\"},{\"attributes\":{\"line_alpha\":0.2,\"line_color\":\"#1f77b4\",\"x\":{\"field\":\"x\"},\"y\":{\"field\":\"y\"}},\"id\":\"2516\",\"type\":\"Line\"},{\"attributes\":{\"line_alpha\":0.2,\"line_color\":\"#1f77b4\",\"x\":{\"field\":\"x\"},\"y\":{\"field\":\"y\"}},\"id\":\"2531\",\"type\":\"Line\"},{\"attributes\":{\"x\":{\"field\":\"x\"},\"y\":{\"field\":\"y\"}},\"id\":\"2499\",\"type\":\"Line\"},{\"attributes\":{\"fill_alpha\":{\"value\":0.9},\"fill_color\":{\"value\":\"blue\"},\"line_alpha\":{\"value\":0.6},\"line_color\":{\"value\":\"blue\"},\"size\":{\"units\":\"screen\",\"value\":6},\"x\":{\"field\":\"x\"},\"y\":{\"field\":\"y\"}},\"id\":\"2565\",\"type\":\"Circle\"},{\"attributes\":{\"callback\":null,\"data\":{\"x\":{\"__ndarray__\":\"AAAAAAAALkAAAAAAAAAxQAAAAAAAADNAaJHtfD9VNEA=\",\"dtype\":\"float64\",\"shape\":[4]},\"y\":{\"__ndarray__\":\"tMh2vp/qRkAAAAAAAIBFQEw3iUFglUVAtMh2vp8qRUA=\",\"dtype\":\"float64\",\"shape\":[4]}},\"selected\":{\"id\":\"2583\",\"type\":\"Selection\"},\"selection_policy\":{\"id\":\"2582\",\"type\":\"UnionRenderers\"}},\"id\":\"2545\",\"type\":\"ColumnDataSource\"},{\"attributes\":{\"bottom_units\":\"screen\",\"fill_alpha\":{\"value\":0.5},\"fill_color\":{\"value\":\"lightgrey\"},\"left_units\":\"screen\",\"level\":\"overlay\",\"line_alpha\":{\"value\":1.0},\"line_color\":{\"value\":\"black\"},\"line_dash\":[4,4],\"line_width\":{\"value\":2},\"render_mode\":\"css\",\"right_units\":\"screen\",\"top_units\":\"screen\"},\"id\":\"2510\",\"type\":\"BoxAnnotation\"},{\"attributes\":{\"fill_alpha\":{\"value\":0.1},\"fill_color\":{\"value\":\"#1f77b4\"},\"line_alpha\":{\"value\":0.1},\"line_color\":{\"value\":\"#1f77b4\"},\"size\":{\"units\":\"screen\",\"value\":6},\"x\":{\"field\":\"x\"},\"y\":{\"field\":\"y\"}},\"id\":\"2566\",\"type\":\"Circle\"}],\"root_ids\":[\"2465\"]},\"title\":\"Bokeh Application\",\"version\":\"1.3.4\"}};\n",
       "  var render_items = [{\"docid\":\"476f17f4-7e87-487e-b2cd-2b377ccf381f\",\"roots\":{\"2465\":\"33fc907a-e7e6-47ee-a178-e763a4bfc8bb\"}}];\n",
       "  root.Bokeh.embed.embed_items_notebook(docs_json, render_items);\n",
       "\n",
       "  }\n",
       "  if (root.Bokeh !== undefined) {\n",
       "    embed_document(root);\n",
       "  } else {\n",
       "    var attempts = 0;\n",
       "    var timer = setInterval(function(root) {\n",
       "      if (root.Bokeh !== undefined) {\n",
       "        embed_document(root);\n",
       "        clearInterval(timer);\n",
       "      }\n",
       "      attempts++;\n",
       "      if (attempts > 100) {\n",
       "        console.log(\"Bokeh: ERROR: Unable to run BokehJS code because BokehJS library is missing\");\n",
       "        clearInterval(timer);\n",
       "      }\n",
       "    }, 10, root)\n",
       "  }\n",
       "})(window);"
      ],
      "application/vnd.bokehjs_exec.v0+json": ""
     },
     "metadata": {
      "application/vnd.bokehjs_exec.v0+json": {
       "id": "2465"
      }
     },
     "output_type": "display_data"
    }
   ],
   "source": [
    "fig.plot_recension(ob_dict,xb_dict,df_dict,\"Omega\")"
   ]
  },
  {
   "cell_type": "markdown",
   "metadata": {},
   "source": [
    "## Map of the Iberian peninsula, Xi recension"
   ]
  },
  {
   "cell_type": "code",
   "execution_count": 71,
   "metadata": {},
   "outputs": [
    {
     "data": {
      "text/html": [
       "\n",
       "\n",
       "\n",
       "\n",
       "\n",
       "\n",
       "  <div class=\"bk-root\" id=\"35662980-08ba-436d-a66c-fe18b41e60b3\" data-root-id=\"2792\"></div>\n"
      ]
     },
     "metadata": {},
     "output_type": "display_data"
    },
    {
     "data": {
      "application/javascript": [
       "(function(root) {\n",
       "  function embed_document(root) {\n",
       "    \n",
       "  var docs_json = {\"a8adc5bf-56b1-4335-aa9a-fd9f1b933ee3\":{\"roots\":{\"references\":[{\"attributes\":{\"background_fill_alpha\":{\"value\":0.5},\"background_fill_color\":{\"value\":\"beige\"},\"below\":[{\"id\":\"2802\",\"type\":\"LinearAxis\"}],\"center\":[{\"id\":\"2806\",\"type\":\"Grid\"},{\"id\":\"2811\",\"type\":\"Grid\"},{\"id\":\"2838\",\"type\":\"Legend\"}],\"left\":[{\"id\":\"2807\",\"type\":\"LinearAxis\"}],\"plot_height\":800,\"plot_width\":1000,\"renderers\":[{\"id\":\"2829\",\"type\":\"GlyphRenderer\"},{\"id\":\"2844\",\"type\":\"GlyphRenderer\"},{\"id\":\"2859\",\"type\":\"GlyphRenderer\"},{\"id\":\"2876\",\"type\":\"GlyphRenderer\"},{\"id\":\"2895\",\"type\":\"GlyphRenderer\"}],\"title\":null,\"toolbar\":{\"id\":\"2817\",\"type\":\"Toolbar\"},\"x_range\":{\"id\":\"2794\",\"type\":\"Range1d\"},\"x_scale\":{\"id\":\"2798\",\"type\":\"LinearScale\"},\"y_range\":{\"id\":\"2796\",\"type\":\"Range1d\"},\"y_scale\":{\"id\":\"2800\",\"type\":\"LinearScale\"}},\"id\":\"2792\",\"subtype\":\"Figure\",\"type\":\"Plot\"},{\"attributes\":{\"data_source\":{\"id\":\"2823\",\"type\":\"ColumnDataSource\"},\"glyph\":{\"id\":\"2892\",\"type\":\"Circle\"},\"hover_glyph\":null,\"muted_glyph\":{\"id\":\"2894\",\"type\":\"Circle\"},\"nonselection_glyph\":{\"id\":\"2893\",\"type\":\"Circle\"},\"selection_glyph\":null,\"view\":{\"id\":\"2824\",\"type\":\"CDSView\"}},\"id\":\"2895\",\"type\":\"GlyphRenderer\"},{\"attributes\":{},\"id\":\"2834\",\"type\":\"BasicTickFormatter\"},{\"attributes\":{\"formatter\":{\"id\":\"2832\",\"type\":\"BasicTickFormatter\"},\"ticker\":{\"id\":\"2803\",\"type\":\"BasicTicker\"}},\"id\":\"2802\",\"type\":\"LinearAxis\"},{\"attributes\":{\"line_dash\":[6,4,2,4],\"x\":{\"field\":\"x\"},\"y\":{\"field\":\"y\"}},\"id\":\"2826\",\"type\":\"Line\"},{\"attributes\":{},\"id\":\"2853\",\"type\":\"UnionRenderers\"},{\"attributes\":{\"line_dash\":[6,4,2,4],\"x\":{\"field\":\"x\"},\"y\":{\"field\":\"y\"}},\"id\":\"2841\",\"type\":\"Line\"},{\"attributes\":{},\"id\":\"3032\",\"type\":\"UnionRenderers\"},{\"attributes\":{\"line_alpha\":0.1,\"line_color\":\"#1f77b4\",\"line_dash\":[6,4,2,4],\"x\":{\"field\":\"x\"},\"y\":{\"field\":\"y\"}},\"id\":\"2842\",\"type\":\"Line\"},{\"attributes\":{},\"id\":\"2909\",\"type\":\"UnionRenderers\"},{\"attributes\":{\"source\":{\"id\":\"2823\",\"type\":\"ColumnDataSource\"}},\"id\":\"2824\",\"type\":\"CDSView\"},{\"attributes\":{},\"id\":\"3033\",\"type\":\"Selection\"},{\"attributes\":{\"line_alpha\":0.1,\"line_color\":\"#1f77b4\",\"line_dash\":[6,4,2,4],\"x\":{\"field\":\"x\"},\"y\":{\"field\":\"y\"}},\"id\":\"2857\",\"type\":\"Line\"},{\"attributes\":{\"fill_alpha\":{\"value\":0.2},\"fill_color\":{\"value\":\"#1f77b4\"},\"line_alpha\":{\"value\":0.2},\"line_color\":{\"value\":\"#1f77b4\"},\"size\":{\"units\":\"screen\",\"value\":6},\"x\":{\"field\":\"x\"},\"y\":{\"field\":\"y\"}},\"id\":\"2894\",\"type\":\"Circle\"},{\"attributes\":{},\"id\":\"2889\",\"type\":\"UnionRenderers\"},{\"attributes\":{},\"id\":\"2803\",\"type\":\"BasicTicker\"},{\"attributes\":{\"line_dash\":[6,4,2,4],\"x\":{\"field\":\"x\"},\"y\":{\"field\":\"y\"}},\"id\":\"2856\",\"type\":\"Line\"},{\"attributes\":{\"callback\":null,\"end\":22,\"start\":1.5},\"id\":\"2794\",\"type\":\"Range1d\"},{\"attributes\":{\"source\":{\"id\":\"2872\",\"type\":\"ColumnDataSource\"}},\"id\":\"2877\",\"type\":\"CDSView\"},{\"attributes\":{\"active_drag\":\"auto\",\"active_inspect\":\"auto\",\"active_multi\":null,\"active_scroll\":\"auto\",\"active_tap\":\"auto\",\"tools\":[{\"id\":\"2812\",\"type\":\"HoverTool\"},{\"id\":\"2813\",\"type\":\"BoxSelectTool\"},{\"id\":\"2814\",\"type\":\"BoxZoomTool\"},{\"id\":\"2815\",\"type\":\"WheelZoomTool\"},{\"id\":\"2816\",\"type\":\"ResetTool\"}]},\"id\":\"2817\",\"type\":\"Toolbar\"},{\"attributes\":{\"fill_alpha\":{\"value\":0.9},\"fill_color\":{\"value\":\"red\"},\"line_alpha\":{\"value\":0.6},\"line_color\":{\"value\":\"red\"},\"size\":{\"units\":\"screen\",\"value\":6},\"x\":{\"field\":\"x\"},\"y\":{\"field\":\"y\"}},\"id\":\"2892\",\"type\":\"Circle\"},{\"attributes\":{\"ticker\":{\"id\":\"2803\",\"type\":\"BasicTicker\"}},\"id\":\"2806\",\"type\":\"Grid\"},{\"attributes\":{},\"id\":\"2871\",\"type\":\"Selection\"},{\"attributes\":{\"overlay\":{\"id\":\"2837\",\"type\":\"BoxAnnotation\"}},\"id\":\"2814\",\"type\":\"BoxZoomTool\"},{\"attributes\":{\"line_alpha\":0.2,\"line_color\":\"#1f77b4\",\"line_dash\":[6,4,2,4],\"x\":{\"field\":\"x\"},\"y\":{\"field\":\"y\"}},\"id\":\"2828\",\"type\":\"Line\"},{\"attributes\":{},\"id\":\"2870\",\"type\":\"UnionRenderers\"},{\"attributes\":{\"fill_alpha\":{\"value\":0.1},\"fill_color\":{\"value\":\"#1f77b4\"},\"line_alpha\":{\"value\":0.1},\"line_color\":{\"value\":\"#1f77b4\"},\"size\":{\"units\":\"screen\",\"value\":6},\"x\":{\"field\":\"x\"},\"y\":{\"field\":\"y\"}},\"id\":\"2893\",\"type\":\"Circle\"},{\"attributes\":{},\"id\":\"2854\",\"type\":\"Selection\"},{\"attributes\":{\"callback\":null,\"data\":{\"x\":{\"__ndarray__\":\"L90kBoFVLkAAAAAAAAAxQAAAAAAAADNAaJHtfD9VNEA=\",\"dtype\":\"float64\",\"shape\":[4]},\"y\":{\"__ndarray__\":\"tMh2vp/qRkAAAAAAAIBFQEw3iUFglUVAtMh2vp8qRUA=\",\"dtype\":\"float64\",\"shape\":[4]}},\"selected\":{\"id\":\"2910\",\"type\":\"Selection\"},\"selection_policy\":{\"id\":\"2909\",\"type\":\"UnionRenderers\"}},\"id\":\"2872\",\"type\":\"ColumnDataSource\"},{\"attributes\":{},\"id\":\"2910\",\"type\":\"Selection\"},{\"attributes\":{},\"id\":\"2798\",\"type\":\"LinearScale\"},{\"attributes\":{\"line_dash\":[6,4,2,4],\"x\":{\"field\":\"x\"},\"y\":{\"field\":\"y\"}},\"id\":\"2873\",\"type\":\"Line\"},{\"attributes\":{\"callback\":null,\"data\":{\"x\":{\"__ndarray__\":\"AAAAAAAAKUAAAAAAAAApQAAAAAAAgChAVVVVVVVVKEAAAAAAAAAoQFVVVVVVVS5AVVVVVVVVLkCrqqqqqqosQKuqqqqqqitAAAAAAAAAK0BVVVVVVVUqQAAAAAAAACpAAAAAAAAAKEAAAAAAAIAnQFVVVVVVVSdAq6qqqqqqJEAAAAAAAAAiQAAAAAAAgCBAAAAAAAAAG0AAAAAAAAAaQAAAAAAAABlAq6qqqqqqFkAAAAAAAAAVQKuqqqqqqhZAq6qqqqqqFkCrqqqqqqoWQAAAAAAAABZAVVVVVVVVFUAAAAAAAAAWQKuqqqqqqhRAAAAAAAAAFECrqqqqqqoWQKuqqqqqqhRAVVVVVVVVE0CrqqqqqqoTQFVVVVVVVRRAAAAAAAAAFEAAAAAAAAAEQAAAAAAAAAhAVVVVVVVVDUBVVVVVVVUQQFVVVVVVVRFAq6qqqqqqEkBVVVVVVVUUQFVVVVVVVRVAAAAAAAAAGEAAAAAAAAAYQAAAAAAAABdAq6qqqqqqGEAAAAAAAAAZQAAAAAAAABpAVVVVVVVVG0AAAAAAAAAdQAAAAAAAAB5AAAAAAAAAHkCrqqqqqqoeQAAAAAAAACBAAAAAAAAAIUCrqqqqqqohQAAAAAAAgCJAAAAAAACAI0AAAAAAAIAkQAAAAAAAgCVAq6qqqqqqJkAAAAAAAAAnQAAAAAAAgCdAAAAAAAAAKEAAAAAAAAArQAAAAAAAACxAAAAAAAAALUAAAAAAAAAuQKuqqqqqKi5Aq6qqqqqqL0AAAAAAAAAvQAAAAAAAADBAVVVVVVVVMEBVVVVVVdUwQAAAAAAAQDFAAAAAAACAMUBVVVVVVdUxQAAAAAAAgDJAAAAAAAAAMkAAAAAAAEAyQAAAAAAAgDJAAAAAAADAMkAAAAAAAAAzQAAAAAAAgDNAVVVVVVVVNEA=\",\"dtype\":\"float64\",\"shape\":[88]},\"y\":{\"__ndarray__\":\"AAAAAABAQ0BVVVVVVRVDQFVVVVVV9UJAAAAAAADAQkBVVVVVVbVCQKuqqqqq6kZAq6qqqqqKRkAAAAAAAIBGQKuqqqqqCkZAAAAAAAAgRkBVVVVVVVVGQAAAAAAAwEZAVVVVVVWVRkBVVVVVVbVGQAAAAAAA4EZAVVVVVVXVRkAAAAAAAOBGQKuqqqqq6kZAAAAAAACARkAAAAAAAMBGQAAAAAAAwEZAVVVVVVWVRkBVVVVVVZVGQAAAAAAAgEZAVVVVVVVVRkCrqqqqqipGQAAAAAAAAEZAq6qqqqrqRECrqqqqqqpEQKuqqqqqakRAVVVVVVVVRUAAAAAAAEBEQAAAAAAAIERAq6qqqqrqQ0CrqqqqqupDQFVVVVVVtUNAAAAAAACAQ0AAAAAAACBDQFVVVVVV9UJAAAAAAADgQkBVVVVVVdVCQAAAAAAAwEJAq6qqqqqqQkBVVVVVVZVCQAAAAAAAgEJAAAAAAABgQkCrqqqqqipCQKuqqqqqCkJAq6qqqqoKQkCrqqqqqgpCQFVVVVVVFUJAq6qqqqoKQkAAAAAAAEBCQFVVVVVVFUJAAAAAAAAgQkBVVVVVVVVCQFVVVVVVdUJAAAAAAACAQkBVVVVVVZVCQFVVVVVVlUJAAAAAAADgQkAAAAAAAKBCQFVVVVVVlUJAq6qqqqqKQkCrqqqqqmpCQFVVVVVVlUJAAAAAAACgQkAAAAAAAGBDQKuqqqqqakNAVVVVVVV1Q0AAAAAAAIBDQAAAAAAAwENAq6qqqqqqQ0AAAAAAAABEQAAAAAAAQERAVVVVVVVVREAAAAAAAGBEQAAAAAAAgERAAAAAAACgRECrqqqqqqpEQKuqqqqqqkRAAAAAAADgREAAAAAAAABFQFVVVVVVFUVAq6qqqqoqRUAAAAAAAEBFQAAAAAAAQEVAq6qqqqoqRUA=\",\"dtype\":\"float64\",\"shape\":[88]}},\"selected\":{\"id\":\"2854\",\"type\":\"Selection\"},\"selection_policy\":{\"id\":\"2853\",\"type\":\"UnionRenderers\"}},\"id\":\"2825\",\"type\":\"ColumnDataSource\"},{\"attributes\":{\"data_source\":{\"id\":\"2840\",\"type\":\"ColumnDataSource\"},\"glyph\":{\"id\":\"2841\",\"type\":\"Line\"},\"hover_glyph\":null,\"muted_glyph\":{\"id\":\"2843\",\"type\":\"Line\"},\"nonselection_glyph\":{\"id\":\"2842\",\"type\":\"Line\"},\"selection_glyph\":null,\"view\":{\"id\":\"2845\",\"type\":\"CDSView\"}},\"id\":\"2844\",\"type\":\"GlyphRenderer\"},{\"attributes\":{\"source\":{\"id\":\"2855\",\"type\":\"ColumnDataSource\"}},\"id\":\"2860\",\"type\":\"CDSView\"},{\"attributes\":{\"line_alpha\":0.1,\"line_color\":\"#1f77b4\",\"line_dash\":[6,4,2,4],\"x\":{\"field\":\"x\"},\"y\":{\"field\":\"y\"}},\"id\":\"2874\",\"type\":\"Line\"},{\"attributes\":{\"line_alpha\":0.2,\"line_color\":\"#1f77b4\",\"line_dash\":[6,4,2,4],\"x\":{\"field\":\"x\"},\"y\":{\"field\":\"y\"}},\"id\":\"2843\",\"type\":\"Line\"},{\"attributes\":{\"dimension\":1,\"ticker\":{\"id\":\"2808\",\"type\":\"BasicTicker\"}},\"id\":\"2811\",\"type\":\"Grid\"},{\"attributes\":{\"callback\":null,\"data\":{\"x\":{\"__ndarray__\":\"VVVVVVVVFUCrqqqqqqoiQAAAAAAAACJAAAAAAAAAIkA=\",\"dtype\":\"float64\",\"shape\":[4]},\"y\":{\"__ndarray__\":\"q6qqqqrqRECrqqqqqupEQAAAAAAAQERAAAAAAACAQ0A=\",\"dtype\":\"float64\",\"shape\":[4]}},\"selected\":{\"id\":\"2890\",\"type\":\"Selection\"},\"selection_policy\":{\"id\":\"2889\",\"type\":\"UnionRenderers\"}},\"id\":\"2855\",\"type\":\"ColumnDataSource\"},{\"attributes\":{\"data_source\":{\"id\":\"2855\",\"type\":\"ColumnDataSource\"},\"glyph\":{\"id\":\"2856\",\"type\":\"Line\"},\"hover_glyph\":null,\"muted_glyph\":{\"id\":\"2858\",\"type\":\"Line\"},\"nonselection_glyph\":{\"id\":\"2857\",\"type\":\"Line\"},\"selection_glyph\":null,\"view\":{\"id\":\"2860\",\"type\":\"CDSView\"}},\"id\":\"2859\",\"type\":\"GlyphRenderer\"},{\"attributes\":{},\"id\":\"2815\",\"type\":\"WheelZoomTool\"},{\"attributes\":{},\"id\":\"2808\",\"type\":\"BasicTicker\"},{\"attributes\":{\"data_source\":{\"id\":\"2825\",\"type\":\"ColumnDataSource\"},\"glyph\":{\"id\":\"2826\",\"type\":\"Line\"},\"hover_glyph\":null,\"muted_glyph\":{\"id\":\"2828\",\"type\":\"Line\"},\"nonselection_glyph\":{\"id\":\"2827\",\"type\":\"Line\"},\"selection_glyph\":null,\"view\":{\"id\":\"2830\",\"type\":\"CDSView\"}},\"id\":\"2829\",\"type\":\"GlyphRenderer\"},{\"attributes\":{\"label\":{\"value\":\"Localities in Xi\"},\"renderers\":[{\"id\":\"2895\",\"type\":\"GlyphRenderer\"}]},\"id\":\"2911\",\"type\":\"LegendItem\"},{\"attributes\":{\"line_alpha\":0.2,\"line_color\":\"#1f77b4\",\"line_dash\":[6,4,2,4],\"x\":{\"field\":\"x\"},\"y\":{\"field\":\"y\"}},\"id\":\"2875\",\"type\":\"Line\"},{\"attributes\":{\"callback\":null,\"data\":{\"x\":[\"NaN\",\"NaN\",\"NaN\",\"NaN\",4.083333333333333,4.333333333333333,6.333333333333333,9.0,12.0,14.0,\"NaN\",\"NaN\",\"NaN\",\"NaN\",\"NaN\",4.666666666666667,5.083333333333333,5.333333333333333,12.0,6.0,\"NaN\",6.0,5.75,6.166666666666667,6.25,\"NaN\",6.5,6.833333333333333,7.25,7.5,7.5,\"NaN\",7.666666666666667,8.0,8.5,8.833333333333334,9.25,9.75,10.25,10.75,11.333333333333334,11.5,\"NaN\",11.75,\"NaN\",\"NaN\",9.166666666666666,9.5,9.0,9.75,9.25,10.0,9.333333333333334,8.75,10.166666666666666,8.75,8.666666666666666,8.25,8.75,8.0,7.5,7.0,6.75,6.5,9.5,9.083333333333334,9.5,9.833333333333334,9.666666666666666,10.166666666666666,10.25,10.833333333333334,10.25,11.166666666666666,\"NaN\",\"NaN\",4.666666666666667,4.666666666666667,5.0,5.166666666666667,5.666666666666667,6.0,5.5,5.166666666666667,5.666666666666667,5.666666666666667,5.5,6.0,6.083333333333333,6.5,7.0,6.333333333333333,7.0,6.5,6.083333333333333,7.0,6.5,6.5,7.666666666666667,7.166666666666667,8.0,7.0,7.333333333333333,7.666666666666667,7.25,8.0,7.666666666666667,7.166666666666667,7.5,7.25,8.5,8.666666666666666,8.583333333333334,8.25,8.166666666666666,\"NaN\",5.833333333333333,6.5,6.0,6.5,6.25,\"NaN\",6.0,7.333333333333333,5.166666666666667,\"NaN\",\"NaN\",5.333333333333333,9.333333333333334,12.666666666666666,\"NaN\",\"NaN\",\"NaN\",\"NaN\",3.6666666666666665,3.0,2.5,5.0,5.083333333333333,4.916666666666667,\"NaN\",4.833333333333333,5.166666666666667,5.666666666666667,9.0,11.666666666666666,5.0,5.166666666666667,5.5,5.333333333333333,\"NaN\",\"NaN\",5.333333333333333,5.25,\"NaN\",5.75,5.333333333333333,6.0,5.333333333333333,5.666666666666667,6.166666666666667,5.666666666666667,6.166666666666667,6.5,\"NaN\",\"NaN\",5.833333333333333,5.666666666666667,6.0,7.5,6.666666666666667,7.25,6.666666666666667,7.666666666666667,5.5,5.666666666666667,6.0,6.333333333333333,6.666666666666667,7.166666666666667,7.666666666666667,6.833333333333333,6.666666666666667,8.0,7.333333333333333,7.833333333333333,7.666666666666667,7.0,7.0,7.833333333333333,7.333333333333333,8.0,7.333333333333333,7.666666666666667,8.5,\"NaN\",8.5,8.0,8.833333333333334,8.0,8.833333333333334,8.166666666666666,8.833333333333334,8.333333333333334,8.666666666666666,8.833333333333334,8.5,\"NaN\",3.0,\"NaN\",\"NaN\",\"NaN\",5.5,5.5,5.666666666666667,5.5,5.333333333333333,11.5,\"NaN\",5.5,5.666666666666667,\"NaN\",5.666666666666667,5.666666666666667,5.25,\"NaN\",\"NaN\",5.666666666666667,6.25,6.5,\"NaN\",6.75,8.25,9.0,10.333333333333334,11.666666666666666,\"NaN\",11.75,12.0,\"NaN\",13.0,\"NaN\",13.166666666666666,13.5,\"NaN\",13.833333333333334,\"NaN\",14.333333333333334,\"NaN\",15.166666666666666,15.166666666666666,\"NaN\",20.333333333333332,17.0,\"NaN\",\"NaN\",12.0,\"NaN\",12.0,\"NaN\",12.166666666666666,12.25,12.5,12.5,12.5,13.0,13.5,14.0,\"NaN\",14.5,15.0,15.083333333333334,\"NaN\",15.833333333333334,15.5,16.0,14.0,12.5,\"NaN\",16.333333333333332,16.833333333333332,\"NaN\",17.25,17.5,17.833333333333332,18.5,18.0,18.25,\"NaN\",18.5,18.75,19.0,19.5,20.333333333333332,\"NaN\",9.0,11.5,14.666666666666666,16.0,14.0,14.333333333333334,12.0,14.0,\"NaN\",5.75,6.166666666666667,\"NaN\",8.25,8.5,9.333333333333334,10.166666666666666,10.166666666666666,7.0,6.333333333333333,7.0,8.333333333333334,8.833333333333334,\"NaN\",6.416666666666667,7.416666666666667,\"NaN\",6.333333333333333,\"NaN\",7.166666666666667,\"NaN\",7.833333333333333,\"NaN\",8.5,8.5,\"NaN\",11.0,11.5,11.0,9.333333333333334,0.0,13.5,11.166666666666666,8.5,0.0,9.0,\"NaN\",10.0,\"NaN\",10.666666666666666,\"NaN\",11.166666666666666,\"NaN\",11.583333333333334,\"NaN\",10.333333333333334,\"NaN\",9.5,\"NaN\",9.5,\"NaN\",7.5,\"NaN\",8.0,\"NaN\",6.333333333333333,6.833333333333333,7.666666666666667,8.333333333333334,8.5,6.0,\"NaN\",6.5,\"NaN\",6.0,\"NaN\",6.0,\"NaN\",7.333333333333333,\"NaN\",6.833333333333333,\"NaN\",8.333333333333334,\"NaN\",7.125,\"NaN\",7.333333333333333,\"NaN\",8.166666666666666,\"NaN\",8.0,\"NaN\",9.75,10.25,11.0,9.666666666666666,10.0,10.666666666666666,13.0,9.166666666666666,9.666666666666666,9.083333333333334,9.333333333333334,9.833333333333334,10.333333333333334,9.0,9.666666666666666,10.0,9.666666666666666,10.166666666666666,9.0,9.666666666666666,\"NaN\",\"NaN\",12.166666666666666,12.666666666666666,12.0,11.833333333333334,12.5,11.666666666666666,12.166666666666666,11.75,\"NaN\",12.0,11.5,11.833333333333334,11.166666666666666,12.0,\"NaN\",13.0,13.0,12.5,13.0,13.25,12.666666666666666,13.0,\"NaN\",\"NaN\",11.166666666666666,11.5,12.166666666666666,\"NaN\",\"NaN\",13.0,13.0,13.5,\"NaN\",\"NaN\",11.0,11.0,11.5,11.833333333333334,12.5,11.833333333333334,12.666666666666666,12.5,13.5,13.25,\"NaN\",\"NaN\",9.666666666666666,10.5,11.0,11.166666666666666,12.0,13.0,11.666666666666666,10.0,10.833333333333334,11.333333333333334,9.416666666666666,10.75,10.333333333333334,11.0,10.5,9.833333333333334,10.5,10.833333333333334,\"NaN\",13.666666666666666,13.166666666666666,14.0,14.75,13.416666666666666,12.166666666666666,13.0,13.5,12.5,13.166666666666666,13.833333333333334,12.75,13.333333333333334,12.5,11.5,12.0,12.333333333333334,11.666666666666666,\"NaN\",9.333333333333334,10.0,9.166666666666666,10.0,9.5,10.666666666666666,11.416666666666666,9.5,9.75,10.416666666666666,11.0,10.0,10.666666666666666,10.333333333333334,\"NaN\",\"NaN\",13.5,\"NaN\",\"NaN\",13.333333333333334,13.0,13.5,12.0,12.5,11.666666666666666,12.0,11.333333333333334,11.0,11.5,10.833333333333334,11.166666666666666,11.5,11.166666666666666,11.75,\"NaN\",\"NaN\",13.75,14.0,13.166666666666666,13.666666666666666,12.333333333333334,12.333333333333334,\"NaN\",\"NaN\",14.5,14.166666666666666,14.666666666666666,14.166666666666666,14.666666666666666,14.166666666666666,14.666666666666666,14.25,14.333333333333334,14.833333333333334,14.416666666666666,14.583333333333334,\"NaN\",\"NaN\",16.333333333333332,14.916666666666666,15.25,15.666666666666666,15.5,15.083333333333334,15.25,\"NaN\",\"NaN\",\"NaN\",13.666666666666666,13.666666666666666,13.916666666666666,\"NaN\",\"NaN\",14.0,14.5,13.833333333333334,14.583333333333334,14.5,13.666666666666666,14.0,\"NaN\",\"NaN\",15.416666666666666,15.0,15.5,15.5,15.583333333333334,14.833333333333334,15.5,15.0,14.666666666666666,15.0,14.5,14.75,14.333333333333334,14.666666666666666,14.666666666666666,\"NaN\",\"NaN\",16.5,16.0,15.5,15.75,15.166666666666666,16.0,15.166666666666666,15.5,15.0,15.416666666666666,\"NaN\",17.333333333333332,\"NaN\",13.666666666666666,16.166666666666668,17.0,17.916666666666668,\"NaN\",17.916666666666668,17.916666666666668,17.166666666666668,17.5,\"NaN\",\"NaN\",16.333333333333332,16.5,16.0,16.666666666666668,16.0,15.666666666666666,16.75,15.5,16.333333333333332,15.833333333333334,\"NaN\",17.833333333333332,18.166666666666668,\"NaN\",17.333333333333332,\"NaN\",9.0,\"NaN\",4.0,4.666666666666667,\"NaN\",14.833333333333334,14.0,\"NaN\",\"NaN\",16.166666666666668,16.75,\"NaN\",17.166666666666668,17.5],\"y\":[\"NaN\",\"NaN\",\"NaN\",\"NaN\",37.666666666666664,37.5,39.0,39.0,37.25,40.0,\"NaN\",\"NaN\",\"NaN\",\"NaN\",\"NaN\",37.333333333333336,37.166666666666664,37.0,38.5,36.75,\"NaN\",36.333333333333336,36.083333333333336,36.083333333333336,36.083333333333336,\"NaN\",36.166666666666664,36.083333333333336,36.5,36.166666666666664,36.25,\"NaN\",36.666666666666664,36.916666666666664,37.0,37.166666666666664,37.166666666666664,37.75,37.25,37.166666666666664,37.083333333333336,36.833333333333336,\"NaN\",37.166666666666664,\"NaN\",\"NaN\",38.833333333333336,38.666666666666664,38.5,38.166666666666664,38.333333333333336,38.25,38.333333333333336,38.0,38.0,37.75,37.666666666666664,37.333333333333336,37.333333333333336,37.166666666666664,37.0,36.666666666666664,36.5,36.333333333333336,38.0,37.75,37.5,37.5,37.666666666666664,37.75,37.5,37.5,37.333333333333336,37.333333333333336,\"NaN\",\"NaN\",38.0,37.75,37.25,38.25,38.333333333333336,38.0,37.75,37.5,37.5,37.333333333333336,37.166666666666664,37.0,38.333333333333336,38.083333333333336,38.0,37.833333333333336,37.666666666666664,37.5,37.25,37.333333333333336,37.083333333333336,37.833333333333336,38.916666666666664,38.916666666666664,38.666666666666664,38.416666666666664,38.333333333333336,37.166666666666664,37.833333333333336,37.833333333333336,37.5,37.5,37.083333333333336,37.083333333333336,38.833333333333336,38.916666666666664,38.083333333333336,38.333333333333336,38.0,\"NaN\",38.833333333333336,38.833333333333336,38.666666666666664,38.416666666666664,38.416666666666664,\"NaN\",37.666666666666664,37.5,36.666666666666664,\"NaN\",\"NaN\",41.833333333333336,41.833333333333336,41.666666666666664,\"NaN\",\"NaN\",\"NaN\",\"NaN\",37.75,37.916666666666664,38.25,39.0,39.416666666666664,39.833333333333336,\"NaN\",39.833333333333336,40.25,40.5,40.5,40.75,42.666666666666664,40.833333333333336,41.333333333333336,41.833333333333336,\"NaN\",\"NaN\",39.0,38.75,\"NaN\",40.25,40.0,40.0,39.75,39.583333333333336,39.666666666666664,39.333333333333336,39.333333333333336,39.083333333333336,\"NaN\",\"NaN\",41.75,41.5,41.333333333333336,40.833333333333336,41.5,41.083333333333336,41.083333333333336,41.0,40.833333333333336,40.5,40.916666666666664,40.75,40.5,40.75,40.5,40.25,40.0,40.25,40.0,39.75,39.5,39.333333333333336,39.083333333333336,39.916666666666664,39.666666666666664,39.5,39.25,39.083333333333336,39.5,\"NaN\",41.666666666666664,41.5,41.833333333333336,41.25,40.75,41.0,41.0,40.75,40.666666666666664,40.416666666666664,40.083333333333336,\"NaN\",41.0,\"NaN\",\"NaN\",\"NaN\",42.25,42.5,42.75,43.25,43.666666666666664,44.25,\"NaN\",44.0,44.333333333333336,\"NaN\",44.666666666666664,45.0,45.166666666666664,\"NaN\",\"NaN\",45.166666666666664,45.5,45.5,\"NaN\",45.0,45.833333333333336,45.75,45.666666666666664,45.75,\"NaN\",45.416666666666664,45.166666666666664,\"NaN\",45.5,\"NaN\",44.666666666666664,44.25,\"NaN\",44.083333333333336,\"NaN\",45.0,\"NaN\",45.083333333333336,45.833333333333336,\"NaN\",42.333333333333336,43.0,\"NaN\",\"NaN\",37.25,\"NaN\",37.416666666666664,\"NaN\",37.5,37.916666666666664,38.166666666666664,38.5,38.583333333333336,38.75,38.75,38.833333333333336,\"NaN\",38.916666666666664,39.0,39.5,\"NaN\",39.333333333333336,40.0,40.5,42.0,44.0,\"NaN\",40.666666666666664,40.75,\"NaN\",41.0,41.25,41.333333333333336,41.333333333333336,41.75,42.0,\"NaN\",42.166666666666664,42.333333333333336,42.5,42.5,42.333333333333336,\"NaN\",45.0,44.5,42.5,43.0,41.5,39.0,37.666666666666664,39.666666666666664,\"NaN\",45.166666666666664,44.75,\"NaN\",45.083333333333336,45.333333333333336,45.333333333333336,45.333333333333336,45.083333333333336,44.75,43.75,43.666666666666664,44.416666666666664,44.583333333333336,\"NaN\",44.5,44.416666666666664,\"NaN\",44.333333333333336,\"NaN\",44.0,\"NaN\",44.75,\"NaN\",44.5,45.083333333333336,\"NaN\",45.0,44.5,44.583333333333336,44.75,0.0,43.75,43.75,44.166666666666664,0.0,44.5,\"NaN\",44.583333333333336,\"NaN\",44.416666666666664,\"NaN\",44.25,\"NaN\",44.833333333333336,\"NaN\",43.75,\"NaN\",43.666666666666664,\"NaN\",44.0,\"NaN\",43.75,\"NaN\",43.75,\"NaN\",43.416666666666664,43.5,43.416666666666664,43.416666666666664,43.083333333333336,41.916666666666664,\"NaN\",43.083333333333336,\"NaN\",42.583333333333336,\"NaN\",42.5,\"NaN\",43.333333333333336,\"NaN\",42.75,\"NaN\",42.75,\"NaN\",42.666666666666664,\"NaN\",42.333333333333336,\"NaN\",42.166666666666664,\"NaN\",42.0,\"NaN\",43.416666666666664,43.416666666666664,43.5,43.333333333333336,43.25,43.333333333333336,40.333333333333336,40.333333333333336,42.916666666666664,42.666666666666664,42.583333333333336,42.666666666666664,42.5,42.333333333333336,42.416666666666664,42.333333333333336,42.166666666666664,42.0,41.916666666666664,41.916666666666664,\"NaN\",\"NaN\",44.916666666666664,44.833333333333336,44.5,44.416666666666664,44.25,44.083333333333336,44.0,43.833333333333336,\"NaN\",43.666666666666664,43.5,43.416666666666664,43.083333333333336,43.166666666666664,\"NaN\",44.25,43.916666666666664,43.5,43.666666666666664,43.5,43.25,43.083333333333336,\"NaN\",\"NaN\",42.833333333333336,42.666666666666664,42.666666666666664,\"NaN\",\"NaN\",42.833333333333336,42.666666666666664,42.75,\"NaN\",\"NaN\",42.583333333333336,42.0,42.416666666666664,42.416666666666664,42.416666666666664,41.916666666666664,42.166666666666664,41.833333333333336,42.416666666666664,42.166666666666664,\"NaN\",\"NaN\",41.666666666666664,41.666666666666664,41.583333333333336,41.5,41.583333333333336,41.333333333333336,41.25,41.0,41.083333333333336,40.833333333333336,40.833333333333336,40.75,40.583333333333336,40.5,40.416666666666664,44.25,40.25,39.916666666666664,\"NaN\",41.916666666666664,41.333333333333336,41.75,41.5,41.416666666666664,41.0,41.0,41.083333333333336,40.75,40.833333333333336,40.5,40.583333333333336,40.5,40.416666666666664,40.25,40.333333333333336,40.166666666666664,39.75,\"NaN\",40.0,39.916666666666664,39.666666666666664,39.666666666666664,39.166666666666664,39.416666666666664,39.5,39.0,39.166666666666664,39.0,39.083333333333336,38.75,38.5,38.5,\"NaN\",\"NaN\",40.333333333333336,\"NaN\",\"NaN\",39.833333333333336,39.666666666666664,39.75,39.5,39.416666666666664,39.25,39.166666666666664,39.916666666666664,39.583333333333336,38.666666666666664,38.333333333333336,38.333333333333336,38.083333333333336,37.583333333333336,37.583333333333336,\"NaN\",\"NaN\",39.25,39.0,39.0,37.916666666666664,38.833333333333336,38.25,\"NaN\",\"NaN\",41.5,41.25,41.0,40.75,40.666666666666664,40.5,40.25,40.166666666666664,39.75,39.666666666666664,39.416666666666664,39.333333333333336,\"NaN\",\"NaN\",40.666666666666664,41.166666666666664,40.666666666666664,40.5,40.416666666666664,44.0,40.0,\"NaN\",\"NaN\",\"NaN\",44.0,43.75,43.333333333333336,\"NaN\",\"NaN\",43.833333333333336,43.75,43.5,43.5,43.25,43.166666666666664,42.833333333333336,\"NaN\",\"NaN\",43.916666666666664,43.75,43.75,43.5,43.416666666666664,43.25,43.25,41.0,42.916666666666664,42.75,42.416666666666664,42.5,42.416666666666664,42.25,41.916666666666664,\"NaN\",\"NaN\",43.0,42.75,42.5,42.833333333333336,42.166666666666664,42.166666666666664,41.916666666666664,41.666666666666664,41.5,41.416666666666664,\"NaN\",42.75,\"NaN\",42.166666666666664,42.5,42.25,42.25,\"NaN\",42.166666666666664,42.083333333333336,41.75,41.833333333333336,\"NaN\",\"NaN\",42.0,41.75,41.666666666666664,41.583333333333336,41.166666666666664,41.333333333333336,41.416666666666664,41.0,41.0,40.833333333333336,\"NaN\",42.583333333333336,42.333333333333336,\"NaN\",41.416666666666664,\"NaN\",46.75,\"NaN\",45.5,43.333333333333336,\"NaN\",38.333333333333336,38.083333333333336,\"NaN\",\"NaN\",39.25,39.25,\"NaN\",39.5,39.5]},\"selected\":{\"id\":\"3033\",\"type\":\"Selection\"},\"selection_policy\":{\"id\":\"3032\",\"type\":\"UnionRenderers\"}},\"id\":\"2823\",\"type\":\"ColumnDataSource\"},{\"attributes\":{\"line_alpha\":0.2,\"line_color\":\"#1f77b4\",\"line_dash\":[6,4,2,4],\"x\":{\"field\":\"x\"},\"y\":{\"field\":\"y\"}},\"id\":\"2858\",\"type\":\"Line\"},{\"attributes\":{\"bottom_units\":\"screen\",\"fill_alpha\":{\"value\":0.5},\"fill_color\":{\"value\":\"lightgrey\"},\"left_units\":\"screen\",\"level\":\"overlay\",\"line_alpha\":{\"value\":1.0},\"line_color\":{\"value\":\"black\"},\"line_dash\":[4,4],\"line_width\":{\"value\":2},\"render_mode\":\"css\",\"right_units\":\"screen\",\"top_units\":\"screen\"},\"id\":\"2836\",\"type\":\"BoxAnnotation\"},{\"attributes\":{\"line_alpha\":0.1,\"line_color\":\"#1f77b4\",\"line_dash\":[6,4,2,4],\"x\":{\"field\":\"x\"},\"y\":{\"field\":\"y\"}},\"id\":\"2827\",\"type\":\"Line\"},{\"attributes\":{\"callback\":null,\"end\":47,\"start\":35.5},\"id\":\"2796\",\"type\":\"Range1d\"},{\"attributes\":{\"source\":{\"id\":\"2840\",\"type\":\"ColumnDataSource\"}},\"id\":\"2845\",\"type\":\"CDSView\"},{\"attributes\":{\"formatter\":{\"id\":\"2834\",\"type\":\"BasicTickFormatter\"},\"ticker\":{\"id\":\"2808\",\"type\":\"BasicTicker\"}},\"id\":\"2807\",\"type\":\"LinearAxis\"},{\"attributes\":{},\"id\":\"2832\",\"type\":\"BasicTickFormatter\"},{\"attributes\":{},\"id\":\"2890\",\"type\":\"Selection\"},{\"attributes\":{\"click_policy\":\"mute\",\"items\":[{\"id\":\"2839\",\"type\":\"LegendItem\"},{\"id\":\"2911\",\"type\":\"LegendItem\"}]},\"id\":\"2838\",\"type\":\"Legend\"},{\"attributes\":{\"source\":{\"id\":\"2825\",\"type\":\"ColumnDataSource\"}},\"id\":\"2830\",\"type\":\"CDSView\"},{\"attributes\":{},\"id\":\"2816\",\"type\":\"ResetTool\"},{\"attributes\":{\"callback\":null,\"data\":{\"x\":{\"__ndarray__\":\"VVVVVVVVEEBVVVVVVVUZQAAAAAAAACJAAAAAAAAAKEA=\",\"dtype\":\"float64\",\"shape\":[4]},\"y\":{\"__ndarray__\":\"VVVVVVXVQkAAAAAAAIBDQAAAAAAAgENAAAAAAACgQkA=\",\"dtype\":\"float64\",\"shape\":[4]}},\"selected\":{\"id\":\"2871\",\"type\":\"Selection\"},\"selection_policy\":{\"id\":\"2870\",\"type\":\"UnionRenderers\"}},\"id\":\"2840\",\"type\":\"ColumnDataSource\"},{\"attributes\":{\"data_source\":{\"id\":\"2872\",\"type\":\"ColumnDataSource\"},\"glyph\":{\"id\":\"2873\",\"type\":\"Line\"},\"hover_glyph\":null,\"muted_glyph\":{\"id\":\"2875\",\"type\":\"Line\"},\"nonselection_glyph\":{\"id\":\"2874\",\"type\":\"Line\"},\"selection_glyph\":null,\"view\":{\"id\":\"2877\",\"type\":\"CDSView\"}},\"id\":\"2876\",\"type\":\"GlyphRenderer\"},{\"attributes\":{\"label\":{\"value\":\"Boundary in Xi \"},\"renderers\":[{\"id\":\"2829\",\"type\":\"GlyphRenderer\"},{\"id\":\"2844\",\"type\":\"GlyphRenderer\"},{\"id\":\"2859\",\"type\":\"GlyphRenderer\"},{\"id\":\"2876\",\"type\":\"GlyphRenderer\"}]},\"id\":\"2839\",\"type\":\"LegendItem\"},{\"attributes\":{\"bottom_units\":\"screen\",\"fill_alpha\":{\"value\":0.5},\"fill_color\":{\"value\":\"lightgrey\"},\"left_units\":\"screen\",\"level\":\"overlay\",\"line_alpha\":{\"value\":1.0},\"line_color\":{\"value\":\"black\"},\"line_dash\":[4,4],\"line_width\":{\"value\":2},\"render_mode\":\"css\",\"right_units\":\"screen\",\"top_units\":\"screen\"},\"id\":\"2837\",\"type\":\"BoxAnnotation\"},{\"attributes\":{},\"id\":\"2800\",\"type\":\"LinearScale\"},{\"attributes\":{\"callback\":null,\"overlay\":{\"id\":\"2836\",\"type\":\"BoxAnnotation\"}},\"id\":\"2813\",\"type\":\"BoxSelectTool\"},{\"attributes\":{\"callback\":null,\"tooltips\":[[\"index\",\"$index\"],[\"(x,y)\",\"($x, $y)\"]]},\"id\":\"2812\",\"type\":\"HoverTool\"}],\"root_ids\":[\"2792\"]},\"title\":\"Bokeh Application\",\"version\":\"1.3.4\"}};\n",
       "  var render_items = [{\"docid\":\"a8adc5bf-56b1-4335-aa9a-fd9f1b933ee3\",\"roots\":{\"2792\":\"35662980-08ba-436d-a66c-fe18b41e60b3\"}}];\n",
       "  root.Bokeh.embed.embed_items_notebook(docs_json, render_items);\n",
       "\n",
       "  }\n",
       "  if (root.Bokeh !== undefined) {\n",
       "    embed_document(root);\n",
       "  } else {\n",
       "    var attempts = 0;\n",
       "    var timer = setInterval(function(root) {\n",
       "      if (root.Bokeh !== undefined) {\n",
       "        embed_document(root);\n",
       "        clearInterval(timer);\n",
       "      }\n",
       "      attempts++;\n",
       "      if (attempts > 100) {\n",
       "        console.log(\"Bokeh: ERROR: Unable to run BokehJS code because BokehJS library is missing\");\n",
       "        clearInterval(timer);\n",
       "      }\n",
       "    }, 10, root)\n",
       "  }\n",
       "})(window);"
      ],
      "application/vnd.bokehjs_exec.v0+json": ""
     },
     "metadata": {
      "application/vnd.bokehjs_exec.v0+json": {
       "id": "2792"
      }
     },
     "output_type": "display_data"
    }
   ],
   "source": [
    "fig.plot_recension(ob_dict,xb_dict,df_dict,\"Xi\")"
   ]
  },
  {
   "cell_type": "markdown",
   "metadata": {},
   "source": [
    "## Comparison between the two recensions"
   ]
  },
  {
   "cell_type": "code",
   "execution_count": 72,
   "metadata": {},
   "outputs": [
    {
     "data": {
      "text/html": [
       "\n",
       "\n",
       "\n",
       "\n",
       "\n",
       "\n",
       "  <div class=\"bk-root\" id=\"1cb0d527-8758-41ef-8c0b-dcd4c0c72ff7\" data-root-id=\"3136\"></div>\n"
      ]
     },
     "metadata": {},
     "output_type": "display_data"
    },
    {
     "data": {
      "application/javascript": [
       "(function(root) {\n",
       "  function embed_document(root) {\n",
       "    \n",
       "  var docs_json = {\"5a6afcd3-8578-482a-bd1b-49926ba99335\":{\"roots\":{\"references\":[{\"attributes\":{\"center\":[{\"id\":\"3150\",\"type\":\"Grid\"},{\"id\":\"3155\",\"type\":\"Grid\"},{\"id\":\"3177\",\"type\":\"Legend\"}],\"plot_height\":800,\"plot_width\":1000,\"renderers\":[{\"id\":\"3172\",\"type\":\"GlyphRenderer\"},{\"id\":\"3182\",\"type\":\"GlyphRenderer\"},{\"id\":\"3192\",\"type\":\"GlyphRenderer\"},{\"id\":\"3204\",\"type\":\"GlyphRenderer\"},{\"id\":\"3221\",\"type\":\"GlyphRenderer\"},{\"id\":\"3237\",\"type\":\"GlyphRenderer\"},{\"id\":\"3256\",\"type\":\"GlyphRenderer\"},{\"id\":\"3276\",\"type\":\"GlyphRenderer\"},{\"id\":\"3298\",\"type\":\"GlyphRenderer\"},{\"id\":\"3324\",\"type\":\"GlyphRenderer\"}],\"title\":null,\"toolbar\":{\"id\":\"3162\",\"type\":\"Toolbar\"},\"x_range\":{\"id\":\"3138\",\"type\":\"Range1d\"},\"x_scale\":{\"id\":\"3142\",\"type\":\"LinearScale\"},\"y_range\":{\"id\":\"3140\",\"type\":\"Range1d\"},\"y_scale\":{\"id\":\"3144\",\"type\":\"LinearScale\"}},\"id\":\"3136\",\"subtype\":\"Figure\",\"type\":\"Plot\"},{\"attributes\":{},\"id\":\"3294\",\"type\":\"Selection\"},{\"attributes\":{\"callback\":null,\"data\":{\"x\":{\"__ndarray__\":\"L90kBoFVLkAAAAAAAAAxQAAAAAAAADNAaJHtfD9VNEA=\",\"dtype\":\"float64\",\"shape\":[4]},\"y\":{\"__ndarray__\":\"tMh2vp/qRkAAAAAAAIBFQEw3iUFglUVAtMh2vp8qRUA=\",\"dtype\":\"float64\",\"shape\":[4]}},\"selected\":{\"id\":\"3345\",\"type\":\"Selection\"},\"selection_policy\":{\"id\":\"3344\",\"type\":\"UnionRenderers\"}},\"id\":\"3295\",\"type\":\"ColumnDataSource\"},{\"attributes\":{\"ticker\":{\"id\":\"3147\",\"type\":\"BasicTicker\"}},\"id\":\"3150\",\"type\":\"Grid\"},{\"attributes\":{\"data_source\":{\"id\":\"3201\",\"type\":\"ColumnDataSource\"},\"glyph\":{\"id\":\"3202\",\"type\":\"Line\"},\"hover_glyph\":null,\"muted_glyph\":null,\"nonselection_glyph\":{\"id\":\"3203\",\"type\":\"Line\"},\"selection_glyph\":null,\"view\":{\"id\":\"3205\",\"type\":\"CDSView\"}},\"id\":\"3204\",\"type\":\"GlyphRenderer\"},{\"attributes\":{\"line_color\":\"red\",\"line_dash\":[6,4,2,4],\"line_width\":1.5,\"x\":{\"field\":\"x\"},\"y\":{\"field\":\"y\"}},\"id\":\"3296\",\"type\":\"Line\"},{\"attributes\":{},\"id\":\"3152\",\"type\":\"BasicTicker\"},{\"attributes\":{\"line_color\":\"dodgerblue\",\"line_width\":1.5,\"x\":{\"field\":\"x\"},\"y\":{\"field\":\"y\"}},\"id\":\"3170\",\"type\":\"Line\"},{\"attributes\":{\"source\":{\"id\":\"3201\",\"type\":\"ColumnDataSource\"}},\"id\":\"3205\",\"type\":\"CDSView\"},{\"attributes\":{\"line_alpha\":0.1,\"line_color\":\"#1f77b4\",\"line_dash\":[6,4,2,4],\"line_width\":1.5,\"x\":{\"field\":\"x\"},\"y\":{\"field\":\"y\"}},\"id\":\"3297\",\"type\":\"Line\"},{\"attributes\":{\"dimension\":1,\"ticker\":{\"id\":\"3152\",\"type\":\"BasicTicker\"}},\"id\":\"3155\",\"type\":\"Grid\"},{\"attributes\":{},\"id\":\"3213\",\"type\":\"UnionRenderers\"},{\"attributes\":{\"data_source\":{\"id\":\"3295\",\"type\":\"ColumnDataSource\"},\"glyph\":{\"id\":\"3296\",\"type\":\"Line\"},\"hover_glyph\":null,\"muted_glyph\":null,\"nonselection_glyph\":{\"id\":\"3297\",\"type\":\"Line\"},\"selection_glyph\":null,\"view\":{\"id\":\"3299\",\"type\":\"CDSView\"}},\"id\":\"3298\",\"type\":\"GlyphRenderer\"},{\"attributes\":{\"callback\":null,\"end\":47,\"start\":35.5},\"id\":\"3140\",\"type\":\"Range1d\"},{\"attributes\":{\"line_alpha\":0.1,\"line_color\":\"#1f77b4\",\"line_width\":1.5,\"x\":{\"field\":\"x\"},\"y\":{\"field\":\"y\"}},\"id\":\"3171\",\"type\":\"Line\"},{\"attributes\":{},\"id\":\"3214\",\"type\":\"Selection\"},{\"attributes\":{\"callback\":null,\"tooltips\":[[\"index\",\"$index\"],[\"(x,y)\",\"($x, $y)\"]]},\"id\":\"3156\",\"type\":\"HoverTool\"},{\"attributes\":{\"source\":{\"id\":\"3295\",\"type\":\"ColumnDataSource\"}},\"id\":\"3299\",\"type\":\"CDSView\"},{\"attributes\":{\"callback\":null,\"data\":{\"x\":[\"NaN\",\"NaN\",\"NaN\",\"NaN\",4.083333333333333,4.333333333333333,6.333333333333333,9.0,12.0,14.0,\"NaN\",\"NaN\",\"NaN\",\"NaN\",\"NaN\",4.666666666666667,5.083333333333333,5.333333333333333,12.0,6.0,6.0,6.0,5.75,6.166666666666667,6.25,\"NaN\",6.5,6.666666666666667,7.25,7.5,7.5,\"NaN\",7.666666666666667,8.0,8.5,8.833333333333334,9.25,9.75,10.25,10.833333333333334,10.75,11.333333333333334,11.5,\"NaN\",11.75,\"NaN\",\"NaN\",9.166666666666666,9.5,9.0,9.75,9.25,10.0,9.333333333333334,9.5,10.166666666666666,8.75,8.666666666666666,8.25,8.75,8.0,7.5,7.0,6.25,6.166666666666667,9.666666666666666,9.666666666666666,9.5,9.166666666666666,9.666666666666666,10.166666666666666,10.25,10.416666666666666,10.75,11.0,\"NaN\",\"NaN\",4.333333333333333,4.666666666666667,5.0,5.166666666666667,5.666666666666667,6.0,6.5,5.5,5.666666666666667,5.5,6.0,6.666666666666667,6.5,7.0,6.333333333333333,7.0,6.5,6.666666666666667,7.0,6.5,6.5,7.0,9.166666666666666,7.166666666666667,8.0,7.0,7.333333333333333,7.666666666666667,7.25,8.0,7.666666666666667,7.333333333333333,7.5,7.25,8.5,8.666666666666666,8.583333333333334,8.25,8.166666666666666,\"NaN\",5.833333333333333,6.5,6.0,6.5,6.25,\"NaN\",7.333333333333333,6.5,5.166666666666667,\"NaN\",\"NaN\",5.333333333333333,9.166666666666666,12.666666666666666,\"NaN\",\"NaN\",\"NaN\",\"NaN\",\"NaN\",3.6666666666666665,3.0,2.5,5.0,5.083333333333333,4.416666666666667,\"NaN\",4.25,5.166666666666667,5.5,9.0,11.666666666666666,5.0,5.166666666666667,5.166666666666667,5.333333333333333,\"NaN\",\"NaN\",5.333333333333333,5.25,\"NaN\",5.75,5.333333333333333,6.0,5.333333333333333,5.666666666666667,6.166666666666667,5.666666666666667,6.166666666666667,6.166666666666667,\"NaN\",\"NaN\",5.5,5.666666666666667,6.0,6.5,6.666666666666667,7.25,7.333333333333333,5.5,5.666666666666667,6.0,6.333333333333333,6.666666666666667,7.5,7.166666666666667,6.833333333333333,6.666666666666667,8.0,7.333333333333333,6.833333333333333,6.666666666666667,7.0,7.0,7.833333333333333,7.333333333333333,8.0,7.333333333333333,7.666666666666667,8.5,8.666666666666666,\"NaN\",8.5,8.0,8.833333333333334,8.0,8.333333333333334,8.5,8.333333333333334,8.333333333333334,8.666666666666666,8.833333333333334,8.5,\"NaN\",3.0,\"NaN\",\"NaN\",\"NaN\",5.5,5.166666666666667,5.666666666666667,5.5,5.333333333333333,11.5,\"NaN\",5.5,5.666666666666667,5.666666666666667,5.333333333333333,5.25,\"NaN\",\"NaN\",5.666666666666667,6.25,6.5,\"NaN\",7.25,8.25,9.0,10.333333333333334,11.333333333333334,\"NaN\",11.75,12.0,\"NaN\",13.0,\"NaN\",13.166666666666666,13.5,\"NaN\",13.75,\"NaN\",14.333333333333334,\"NaN\",15.166666666666666,15.0,\"NaN\",20.333333333333332,17.0,\"NaN\",\"NaN\",12.0,\"NaN\",12.0,\"NaN\",12.166666666666666,12.25,12.916666666666666,12.5,12.666666666666666,13.0,13.5,14.0,\"NaN\",14.666666666666666,15.0,15.666666666666666,\"NaN\",15.916666666666666,15.5,16.0,14.0,12.5,\"NaN\",16.333333333333332,16.833333333333332,\"NaN\",17.25,17.5,17.833333333333332,18.5,18.0,18.25,\"NaN\",18.5,18.75,19.0,19.5,20.333333333333332,\"NaN\",9.0,11.5,14.666666666666666,16.0,14.0,14.333333333333334,12.0,14.0,\"NaN\",5.75,6.166666666666667,\"NaN\",8.25,8.5,9.333333333333334,10.166666666666666,10.166666666666666,7.0,6.333333333333333,7.0,8.333333333333334,8.833333333333334,\"NaN\",6.416666666666667,7.416666666666667,\"NaN\",6.333333333333333,7.5,\"NaN\",7.333333333333333,\"NaN\",8.5,8.5,\"NaN\",11.0,11.0,10.25,9.333333333333334,9.333333333333334,10.333333333333334,11.5,8.5,9.0,0.0,\"NaN\",10.0,\"NaN\",10.833333333333334,\"NaN\",11.166666666666666,\"NaN\",11.666666666666666,\"NaN\",13.0,\"NaN\",9.5,\"NaN\",9.5,\"NaN\",7.5,\"NaN\",8.0,\"NaN\",6.0,6.5,6.833333333333333,8.333333333333334,8.5,\"NaN\",6.5,\"NaN\",6.0,\"NaN\",6.0,\"NaN\",7.333333333333333,\"NaN\",6.0,\"NaN\",8.333333333333334,\"NaN\",7.5,\"NaN\",7.333333333333333,\"NaN\",8.166666666666666,\"NaN\",8.0,\"NaN\",9.75,10.25,11.0,9.666666666666666,10.333333333333334,9.5,9.666666666666666,9.666666666666666,9.333333333333334,9.833333333333334,10.5,9.0,9.666666666666666,10.0,9.666666666666666,10.166666666666666,9.0,9.5,\"NaN\",\"NaN\",12.166666666666666,12.666666666666666,12.0,11.333333333333334,12.5,11.666666666666666,12.166666666666666,11.75,\"NaN\",12.0,11.25,11.833333333333334,12.0,\"NaN\",13.0,13.0,12.0,13.0,13.25,12.666666666666666,13.0,\"NaN\",\"NaN\",11.166666666666666,11.5,12.5,\"NaN\",\"NaN\",13.0,13.0,13.0,\"NaN\",\"NaN\",11.0,11.0,11.5,11.5,12.5,11.333333333333334,12.666666666666666,13.416666666666666,13.5,13.25,\"NaN\",\"NaN\",9.666666666666666,10.5,11.0,11.5,12.0,13.0,11.666666666666666,10.0,10.333333333333334,11.333333333333334,9.666666666666666,10.25,10.333333333333334,11.0,10.5,9.833333333333334,10.5,10.333333333333334,\"NaN\",13.666666666666666,13.5,14.0,14.75,13.333333333333334,12.166666666666666,13.0,13.5,12.333333333333334,13.166666666666666,13.333333333333334,12.75,13.5,12.5,11.5,12.0,12.333333333333334,11.666666666666666,\"NaN\",9.333333333333334,10.0,9.166666666666666,10.0,9.5,10.666666666666666,11.333333333333334,9.5,9.75,10.333333333333334,11.0,10.0,10.833333333333334,\"NaN\",\"NaN\",13.0,\"NaN\",\"NaN\",13.333333333333334,13.0,13.5,12.0,12.5,11.666666666666666,12.0,11.333333333333334,11.0,11.5,11.333333333333334,11.5,11.166666666666666,11.166666666666666,11.75,\"NaN\",\"NaN\",13.75,14.0,13.166666666666666,13.666666666666666,12.333333333333334,12.333333333333334,\"NaN\",\"NaN\",14.25,14.166666666666666,14.666666666666666,14.166666666666666,14.666666666666666,14.5,14.666666666666666,14.25,14.333333333333334,14.833333333333334,14.416666666666666,14.583333333333334,\"NaN\",\"NaN\",16.666666666666668,14.916666666666666,15.25,15.666666666666666,15.5,15.083333333333334,15.25,\"NaN\",\"NaN\",\"NaN\",13.333333333333334,13.666666666666666,13.916666666666666,\"NaN\",\"NaN\",14.0,14.5,13.916666666666666,14.583333333333334,14.333333333333334,13.666666666666666,14.0,\"NaN\",\"NaN\",15.416666666666666,15.0,15.5,15.0,15.083333333333334,14.833333333333334,15.5,15.0,14.666666666666666,15.0,14.0,14.75,14.333333333333334,14.666666666666666,14.666666666666666,\"NaN\",\"NaN\",16.5,16.0,15.5,15.75,15.166666666666666,16.0,15.166666666666666,15.5,15.0,15.416666666666666,\"NaN\",17.333333333333332,\"NaN\",16.666666666666668,16.166666666666668,17.0,16.666666666666668,\"NaN\",17.916666666666668,17.916666666666668,17.333333333333332,17.5,\"NaN\",\"NaN\",16.333333333333332,16.5,16.0,16.666666666666668,16.0,15.666666666666666,16.75,15.5,16.333333333333332,15.833333333333334,\"NaN\",18.666666666666668,18.5,\"NaN\",17.333333333333332,\"NaN\",9.0,\"NaN\",4.0,4.666666666666667,\"NaN\",14.833333333333334,14.0,\"NaN\",\"NaN\",16.166666666666668,16.75,\"NaN\",17.166666666666668,17.5],\"y\":[\"NaN\",\"NaN\",\"NaN\",\"NaN\",37.666666666666664,37.5,39.0,39.0,37.25,40.0,\"NaN\",\"NaN\",\"NaN\",\"NaN\",\"NaN\",37.333333333333336,37.166666666666664,37.0,38.5,36.75,36.833333333333336,36.333333333333336,36.0,36.166666666666664,36.666666666666664,\"NaN\",36.5,36.333333333333336,36.166666666666664,36.166666666666664,36.25,\"NaN\",36.666666666666664,36.083333333333336,37.0,37.5,37.25,37.25,37.25,37.083333333333336,37.166666666666664,37.083333333333336,36.333333333333336,\"NaN\",37.166666666666664,\"NaN\",\"NaN\",38.833333333333336,38.666666666666664,38.5,38.166666666666664,38.5,38.25,38.083333333333336,38.0,38.0,37.75,37.416666666666664,37.666666666666664,37.916666666666664,37.166666666666664,37.0,36.666666666666664,36.916666666666664,36.333333333333336,38.083333333333336,37.75,37.5,37.5,37.416666666666664,37.75,37.5,37.833333333333336,37.833333333333336,37.666666666666664,\"NaN\",\"NaN\",38.0,37.75,37.25,38.333333333333336,38.333333333333336,38.333333333333336,37.75,37.333333333333336,37.5,37.75,37.333333333333336,38.333333333333336,38.666666666666664,38.0,37.333333333333336,37.666666666666664,37.5,37.25,37.166666666666664,37.916666666666664,37.333333333333336,38.833333333333336,38.0,37.833333333333336,38.666666666666664,38.416666666666664,38.333333333333336,37.5,37.833333333333336,37.75,37.75,37.166666666666664,37.416666666666664,37.083333333333336,38.5,38.583333333333336,38.333333333333336,38.333333333333336,38.0,\"NaN\",38.0,38.5,38.666666666666664,38.833333333333336,38.416666666666664,\"NaN\",37.666666666666664,37.083333333333336,36.166666666666664,\"NaN\",\"NaN\",41.833333333333336,41.333333333333336,41.666666666666664,\"NaN\",\"NaN\",\"NaN\",\"NaN\",\"NaN\",37.75,37.833333333333336,38.25,39.0,39.416666666666664,39.5,\"NaN\",39.75,40.25,40.166666666666664,40.166666666666664,40.75,40.666666666666664,40.833333333333336,41.333333333333336,41.833333333333336,\"NaN\",\"NaN\",39.0,38.75,\"NaN\",40.25,40.0,40.0,39.75,39.0,39.666666666666664,39.333333333333336,39.333333333333336,39.083333333333336,\"NaN\",\"NaN\",41.083333333333336,41.5,41.333333333333336,41.25,41.5,41.083333333333336,41.5,40.666666666666664,40.5,41.0,40.75,40.5,40.75,40.5,40.25,40.0,40.25,40.0,39.75,39.5,39.333333333333336,39.083333333333336,39.916666666666664,39.666666666666664,39.5,39.25,39.083333333333336,39.5,39.166666666666664,\"NaN\",41.666666666666664,41.5,41.833333333333336,41.25,41.25,41.0,41.0,40.75,40.666666666666664,40.416666666666664,40.083333333333336,\"NaN\",41.0,\"NaN\",\"NaN\",\"NaN\",42.25,42.5,42.75,43.25,43.666666666666664,44.25,\"NaN\",44.0,44.333333333333336,44.666666666666664,45.0,45.166666666666664,\"NaN\",\"NaN\",45.5,45.5,45.5,\"NaN\",45.0,45.833333333333336,45.75,45.666666666666664,45.75,\"NaN\",45.416666666666664,45.5,\"NaN\",45.666666666666664,\"NaN\",44.666666666666664,44.25,\"NaN\",44.416666666666664,\"NaN\",45.0,\"NaN\",45.083333333333336,45.833333333333336,\"NaN\",42.333333333333336,43.0,\"NaN\",\"NaN\",37.25,\"NaN\",37.333333333333336,\"NaN\",37.5,37.916666666666664,38.083333333333336,38.5,38.583333333333336,38.75,38.75,38.333333333333336,\"NaN\",38.916666666666664,39.0,39.5,\"NaN\",39.666666666666664,40.0,40.5,42.0,44.0,\"NaN\",40.666666666666664,40.75,\"NaN\",41.0,41.0,41.333333333333336,41.5,41.75,42.0,\"NaN\",42.166666666666664,42.333333333333336,42.5,42.5,42.333333333333336,\"NaN\",45.0,44.25,42.25,43.0,41.5,39.0,37.666666666666664,39.666666666666664,\"NaN\",45.166666666666664,44.75,\"NaN\",45.083333333333336,45.5,45.333333333333336,44.666666666666664,44.916666666666664,44.75,43.75,43.5,44.416666666666664,44.583333333333336,\"NaN\",44.5,44.416666666666664,\"NaN\",44.333333333333336,44.0,\"NaN\",44.75,\"NaN\",44.5,45.166666666666664,\"NaN\",45.0,44.5,44.333333333333336,44.75,43.5,44.0,43.75,43.75,44.0,0.0,\"NaN\",44.833333333333336,\"NaN\",43.916666666666664,\"NaN\",44.25,\"NaN\",44.833333333333336,\"NaN\",43.75,\"NaN\",43.666666666666664,\"NaN\",44.0,\"NaN\",43.75,\"NaN\",43.75,\"NaN\",43.666666666666664,43.5,43.5,43.416666666666664,43.416666666666664,\"NaN\",43.666666666666664,\"NaN\",42.583333333333336,\"NaN\",43.333333333333336,\"NaN\",43.333333333333336,\"NaN\",42.25,\"NaN\",42.75,\"NaN\",42.666666666666664,\"NaN\",42.333333333333336,\"NaN\",42.333333333333336,\"NaN\",42.0,\"NaN\",43.916666666666664,43.416666666666664,43.5,43.333333333333336,43.0,43.0,42.666666666666664,42.916666666666664,42.5,42.0,42.5,42.333333333333336,42.416666666666664,42.333333333333336,42.166666666666664,42.0,42.0,41.666666666666664,\"NaN\",\"NaN\",44.666666666666664,44.75,44.166666666666664,44.666666666666664,44.25,44.666666666666664,44.0,43.333333333333336,\"NaN\",43.666666666666664,43.5,43.333333333333336,43.166666666666664,\"NaN\",44.25,43.5,43.0,43.0,43.5,43.25,42.666666666666664,\"NaN\",\"NaN\",42.0,42.666666666666664,42.666666666666664,\"NaN\",\"NaN\",42.0,41.666666666666664,42.25,\"NaN\",\"NaN\",42.833333333333336,42.0,42.416666666666664,42.0,41.666666666666664,41.833333333333336,42.5,42.75,42.916666666666664,42.5,\"NaN\",\"NaN\",41.0,41.666666666666664,41.5,41.5,41.833333333333336,41.333333333333336,41.0,41.0,41.666666666666664,40.0,40.333333333333336,40.75,40.583333333333336,40.5,40.916666666666664,40.25,40.25,39.75,\"NaN\",41.166666666666664,41.333333333333336,41.75,41.5,41.666666666666664,41.0,41.0,41.666666666666664,40.75,40.666666666666664,40.5,40.833333333333336,40.5,40.666666666666664,40.25,40.333333333333336,40.166666666666664,39.75,\"NaN\",40.0,39.0,39.666666666666664,39.5,39.5,39.166666666666664,39.0,39.0,39.5,39.0,39.666666666666664,38.75,38.333333333333336,\"NaN\",\"NaN\",40.333333333333336,\"NaN\",\"NaN\",39.833333333333336,39.333333333333336,39.75,39.5,39.666666666666664,39.25,39.166666666666664,39.75,38.583333333333336,38.666666666666664,37.75,38.166666666666664,38.333333333333336,38.0,38.5,\"NaN\",\"NaN\",39.25,39.0,39.0,38.916666666666664,38.5,38.916666666666664,\"NaN\",\"NaN\",41.5,41.25,41.0,40.75,40.666666666666664,40.5,40.25,40.166666666666664,39.75,39.666666666666664,39.416666666666664,39.666666666666664,\"NaN\",\"NaN\",41.333333333333336,41.166666666666664,40.666666666666664,40.5,40.333333333333336,40.25,40.0,\"NaN\",\"NaN\",\"NaN\",43.75,42.75,43.333333333333336,\"NaN\",\"NaN\",43.916666666666664,43.75,43.75,43.166666666666664,43.5,43.75,42.833333333333336,\"NaN\",\"NaN\",43.916666666666664,43.75,43.666666666666664,43.5,43.083333333333336,43.25,43.416666666666664,43.0,42.916666666666664,42.75,42.583333333333336,42.5,42.416666666666664,42.25,43.333333333333336,\"NaN\",\"NaN\",43.0,42.75,42.5,42.25,42.5,42.5,41.916666666666664,41.666666666666664,41.5,41.416666666666664,\"NaN\",42.75,\"NaN\",42.166666666666664,42.166666666666664,42.25,42.666666666666664,\"NaN\",42.25,42.5,41.916666666666664,42.5,\"NaN\",\"NaN\",42.0,41.75,41.666666666666664,41.583333333333336,41.166666666666664,41.333333333333336,41.916666666666664,41.0,41.333333333333336,40.833333333333336,\"NaN\",42.583333333333336,42.416666666666664,\"NaN\",41.583333333333336,\"NaN\",46.75,\"NaN\",45.5,43.333333333333336,\"NaN\",38.333333333333336,38.083333333333336,\"NaN\",\"NaN\",39.25,39.25,\"NaN\",39.5,39.5]},\"selected\":{\"id\":\"3251\",\"type\":\"Selection\"},\"selection_policy\":{\"id\":\"3250\",\"type\":\"UnionRenderers\"}},\"id\":\"3215\",\"type\":\"ColumnDataSource\"},{\"attributes\":{},\"id\":\"3157\",\"type\":\"CrosshairTool\"},{\"attributes\":{},\"id\":\"3317\",\"type\":\"UnionRenderers\"},{\"attributes\":{\"source\":{\"id\":\"3215\",\"type\":\"ColumnDataSource\"}},\"id\":\"3216\",\"type\":\"CDSView\"},{\"attributes\":{\"callback\":null,\"overlay\":{\"id\":\"3175\",\"type\":\"BoxAnnotation\"}},\"id\":\"3158\",\"type\":\"BoxSelectTool\"},{\"attributes\":{},\"id\":\"3318\",\"type\":\"Selection\"},{\"attributes\":{\"overlay\":{\"id\":\"3176\",\"type\":\"BoxAnnotation\"}},\"id\":\"3159\",\"type\":\"BoxZoomTool\"},{\"attributes\":{\"callback\":null,\"data\":{\"x\":[\"NaN\",\"NaN\",\"NaN\",\"NaN\",4.083333333333333,4.333333333333333,6.333333333333333,9.0,12.0,14.0,\"NaN\",\"NaN\",\"NaN\",\"NaN\",\"NaN\",4.666666666666667,5.083333333333333,5.333333333333333,12.0,6.0,\"NaN\",6.0,5.75,6.166666666666667,6.25,\"NaN\",6.5,6.833333333333333,7.25,7.5,7.5,\"NaN\",7.666666666666667,8.0,8.5,8.833333333333334,9.25,9.75,10.25,10.75,11.333333333333334,11.5,\"NaN\",11.75,\"NaN\",\"NaN\",9.166666666666666,9.5,9.0,9.75,9.25,10.0,9.333333333333334,8.75,10.166666666666666,8.75,8.666666666666666,8.25,8.75,8.0,7.5,7.0,6.75,6.5,9.5,9.083333333333334,9.5,9.833333333333334,9.666666666666666,10.166666666666666,10.25,10.833333333333334,10.25,11.166666666666666,\"NaN\",\"NaN\",4.666666666666667,4.666666666666667,5.0,5.166666666666667,5.666666666666667,6.0,5.5,5.166666666666667,5.666666666666667,5.666666666666667,5.5,6.0,6.083333333333333,6.5,7.0,6.333333333333333,7.0,6.5,6.083333333333333,7.0,6.5,6.5,7.666666666666667,7.166666666666667,8.0,7.0,7.333333333333333,7.666666666666667,7.25,8.0,7.666666666666667,7.166666666666667,7.5,7.25,8.5,8.666666666666666,8.583333333333334,8.25,8.166666666666666,\"NaN\",5.833333333333333,6.5,6.0,6.5,6.25,\"NaN\",6.0,7.333333333333333,5.166666666666667,\"NaN\",\"NaN\",5.333333333333333,9.333333333333334,12.666666666666666,\"NaN\",\"NaN\",\"NaN\",\"NaN\",3.6666666666666665,3.0,2.5,5.0,5.083333333333333,4.916666666666667,\"NaN\",4.833333333333333,5.166666666666667,5.666666666666667,9.0,11.666666666666666,5.0,5.166666666666667,5.5,5.333333333333333,\"NaN\",\"NaN\",5.333333333333333,5.25,\"NaN\",5.75,5.333333333333333,6.0,5.333333333333333,5.666666666666667,6.166666666666667,5.666666666666667,6.166666666666667,6.5,\"NaN\",\"NaN\",5.833333333333333,5.666666666666667,6.0,7.5,6.666666666666667,7.25,6.666666666666667,7.666666666666667,5.5,5.666666666666667,6.0,6.333333333333333,6.666666666666667,7.166666666666667,7.666666666666667,6.833333333333333,6.666666666666667,8.0,7.333333333333333,7.833333333333333,7.666666666666667,7.0,7.0,7.833333333333333,7.333333333333333,8.0,7.333333333333333,7.666666666666667,8.5,\"NaN\",8.5,8.0,8.833333333333334,8.0,8.833333333333334,8.166666666666666,8.833333333333334,8.333333333333334,8.666666666666666,8.833333333333334,8.5,\"NaN\",3.0,\"NaN\",\"NaN\",\"NaN\",5.5,5.5,5.666666666666667,5.5,5.333333333333333,11.5,\"NaN\",5.5,5.666666666666667,\"NaN\",5.666666666666667,5.666666666666667,5.25,\"NaN\",\"NaN\",5.666666666666667,6.25,6.5,\"NaN\",6.75,8.25,9.0,10.333333333333334,11.666666666666666,\"NaN\",11.75,12.0,\"NaN\",13.0,\"NaN\",13.166666666666666,13.5,\"NaN\",13.833333333333334,\"NaN\",14.333333333333334,\"NaN\",15.166666666666666,15.166666666666666,\"NaN\",20.333333333333332,17.0,\"NaN\",\"NaN\",12.0,\"NaN\",12.0,\"NaN\",12.166666666666666,12.25,12.5,12.5,12.5,13.0,13.5,14.0,\"NaN\",14.5,15.0,15.083333333333334,\"NaN\",15.833333333333334,15.5,16.0,14.0,12.5,\"NaN\",16.333333333333332,16.833333333333332,\"NaN\",17.25,17.5,17.833333333333332,18.5,18.0,18.25,\"NaN\",18.5,18.75,19.0,19.5,20.333333333333332,\"NaN\",9.0,11.5,14.666666666666666,16.0,14.0,14.333333333333334,12.0,14.0,\"NaN\",5.75,6.166666666666667,\"NaN\",8.25,8.5,9.333333333333334,10.166666666666666,10.166666666666666,7.0,6.333333333333333,7.0,8.333333333333334,8.833333333333334,\"NaN\",6.416666666666667,7.416666666666667,\"NaN\",6.333333333333333,\"NaN\",7.166666666666667,\"NaN\",7.833333333333333,\"NaN\",8.5,8.5,\"NaN\",11.0,11.5,11.0,9.333333333333334,0.0,13.5,11.166666666666666,8.5,0.0,9.0,\"NaN\",10.0,\"NaN\",10.666666666666666,\"NaN\",11.166666666666666,\"NaN\",11.583333333333334,\"NaN\",10.333333333333334,\"NaN\",9.5,\"NaN\",9.5,\"NaN\",7.5,\"NaN\",8.0,\"NaN\",6.333333333333333,6.833333333333333,7.666666666666667,8.333333333333334,8.5,6.0,\"NaN\",6.5,\"NaN\",6.0,\"NaN\",6.0,\"NaN\",7.333333333333333,\"NaN\",6.833333333333333,\"NaN\",8.333333333333334,\"NaN\",7.125,\"NaN\",7.333333333333333,\"NaN\",8.166666666666666,\"NaN\",8.0,\"NaN\",9.75,10.25,11.0,9.666666666666666,10.0,10.666666666666666,13.0,9.166666666666666,9.666666666666666,9.083333333333334,9.333333333333334,9.833333333333334,10.333333333333334,9.0,9.666666666666666,10.0,9.666666666666666,10.166666666666666,9.0,9.666666666666666,\"NaN\",\"NaN\",12.166666666666666,12.666666666666666,12.0,11.833333333333334,12.5,11.666666666666666,12.166666666666666,11.75,\"NaN\",12.0,11.5,11.833333333333334,11.166666666666666,12.0,\"NaN\",13.0,13.0,12.5,13.0,13.25,12.666666666666666,13.0,\"NaN\",\"NaN\",11.166666666666666,11.5,12.166666666666666,\"NaN\",\"NaN\",13.0,13.0,13.5,\"NaN\",\"NaN\",11.0,11.0,11.5,11.833333333333334,12.5,11.833333333333334,12.666666666666666,12.5,13.5,13.25,\"NaN\",\"NaN\",9.666666666666666,10.5,11.0,11.166666666666666,12.0,13.0,11.666666666666666,10.0,10.833333333333334,11.333333333333334,9.416666666666666,10.75,10.333333333333334,11.0,10.5,9.833333333333334,10.5,10.833333333333334,\"NaN\",13.666666666666666,13.166666666666666,14.0,14.75,13.416666666666666,12.166666666666666,13.0,13.5,12.5,13.166666666666666,13.833333333333334,12.75,13.333333333333334,12.5,11.5,12.0,12.333333333333334,11.666666666666666,\"NaN\",9.333333333333334,10.0,9.166666666666666,10.0,9.5,10.666666666666666,11.416666666666666,9.5,9.75,10.416666666666666,11.0,10.0,10.666666666666666,10.333333333333334,\"NaN\",\"NaN\",13.5,\"NaN\",\"NaN\",13.333333333333334,13.0,13.5,12.0,12.5,11.666666666666666,12.0,11.333333333333334,11.0,11.5,10.833333333333334,11.166666666666666,11.5,11.166666666666666,11.75,\"NaN\",\"NaN\",13.75,14.0,13.166666666666666,13.666666666666666,12.333333333333334,12.333333333333334,\"NaN\",\"NaN\",14.5,14.166666666666666,14.666666666666666,14.166666666666666,14.666666666666666,14.166666666666666,14.666666666666666,14.25,14.333333333333334,14.833333333333334,14.416666666666666,14.583333333333334,\"NaN\",\"NaN\",16.333333333333332,14.916666666666666,15.25,15.666666666666666,15.5,15.083333333333334,15.25,\"NaN\",\"NaN\",\"NaN\",13.666666666666666,13.666666666666666,13.916666666666666,\"NaN\",\"NaN\",14.0,14.5,13.833333333333334,14.583333333333334,14.5,13.666666666666666,14.0,\"NaN\",\"NaN\",15.416666666666666,15.0,15.5,15.5,15.583333333333334,14.833333333333334,15.5,15.0,14.666666666666666,15.0,14.5,14.75,14.333333333333334,14.666666666666666,14.666666666666666,\"NaN\",\"NaN\",16.5,16.0,15.5,15.75,15.166666666666666,16.0,15.166666666666666,15.5,15.0,15.416666666666666,\"NaN\",17.333333333333332,\"NaN\",13.666666666666666,16.166666666666668,17.0,17.916666666666668,\"NaN\",17.916666666666668,17.916666666666668,17.166666666666668,17.5,\"NaN\",\"NaN\",16.333333333333332,16.5,16.0,16.666666666666668,16.0,15.666666666666666,16.75,15.5,16.333333333333332,15.833333333333334,\"NaN\",17.833333333333332,18.166666666666668,\"NaN\",17.333333333333332,\"NaN\",9.0,\"NaN\",4.0,4.666666666666667,\"NaN\",14.833333333333334,14.0,\"NaN\",\"NaN\",16.166666666666668,16.75,\"NaN\",17.166666666666668,17.5],\"y\":[\"NaN\",\"NaN\",\"NaN\",\"NaN\",37.666666666666664,37.5,39.0,39.0,37.25,40.0,\"NaN\",\"NaN\",\"NaN\",\"NaN\",\"NaN\",37.333333333333336,37.166666666666664,37.0,38.5,36.75,\"NaN\",36.333333333333336,36.083333333333336,36.083333333333336,36.083333333333336,\"NaN\",36.166666666666664,36.083333333333336,36.5,36.166666666666664,36.25,\"NaN\",36.666666666666664,36.916666666666664,37.0,37.166666666666664,37.166666666666664,37.75,37.25,37.166666666666664,37.083333333333336,36.833333333333336,\"NaN\",37.166666666666664,\"NaN\",\"NaN\",38.833333333333336,38.666666666666664,38.5,38.166666666666664,38.333333333333336,38.25,38.333333333333336,38.0,38.0,37.75,37.666666666666664,37.333333333333336,37.333333333333336,37.166666666666664,37.0,36.666666666666664,36.5,36.333333333333336,38.0,37.75,37.5,37.5,37.666666666666664,37.75,37.5,37.5,37.333333333333336,37.333333333333336,\"NaN\",\"NaN\",38.0,37.75,37.25,38.25,38.333333333333336,38.0,37.75,37.5,37.5,37.333333333333336,37.166666666666664,37.0,38.333333333333336,38.083333333333336,38.0,37.833333333333336,37.666666666666664,37.5,37.25,37.333333333333336,37.083333333333336,37.833333333333336,38.916666666666664,38.916666666666664,38.666666666666664,38.416666666666664,38.333333333333336,37.166666666666664,37.833333333333336,37.833333333333336,37.5,37.5,37.083333333333336,37.083333333333336,38.833333333333336,38.916666666666664,38.083333333333336,38.333333333333336,38.0,\"NaN\",38.833333333333336,38.833333333333336,38.666666666666664,38.416666666666664,38.416666666666664,\"NaN\",37.666666666666664,37.5,36.666666666666664,\"NaN\",\"NaN\",41.833333333333336,41.833333333333336,41.666666666666664,\"NaN\",\"NaN\",\"NaN\",\"NaN\",37.75,37.916666666666664,38.25,39.0,39.416666666666664,39.833333333333336,\"NaN\",39.833333333333336,40.25,40.5,40.5,40.75,42.666666666666664,40.833333333333336,41.333333333333336,41.833333333333336,\"NaN\",\"NaN\",39.0,38.75,\"NaN\",40.25,40.0,40.0,39.75,39.583333333333336,39.666666666666664,39.333333333333336,39.333333333333336,39.083333333333336,\"NaN\",\"NaN\",41.75,41.5,41.333333333333336,40.833333333333336,41.5,41.083333333333336,41.083333333333336,41.0,40.833333333333336,40.5,40.916666666666664,40.75,40.5,40.75,40.5,40.25,40.0,40.25,40.0,39.75,39.5,39.333333333333336,39.083333333333336,39.916666666666664,39.666666666666664,39.5,39.25,39.083333333333336,39.5,\"NaN\",41.666666666666664,41.5,41.833333333333336,41.25,40.75,41.0,41.0,40.75,40.666666666666664,40.416666666666664,40.083333333333336,\"NaN\",41.0,\"NaN\",\"NaN\",\"NaN\",42.25,42.5,42.75,43.25,43.666666666666664,44.25,\"NaN\",44.0,44.333333333333336,\"NaN\",44.666666666666664,45.0,45.166666666666664,\"NaN\",\"NaN\",45.166666666666664,45.5,45.5,\"NaN\",45.0,45.833333333333336,45.75,45.666666666666664,45.75,\"NaN\",45.416666666666664,45.166666666666664,\"NaN\",45.5,\"NaN\",44.666666666666664,44.25,\"NaN\",44.083333333333336,\"NaN\",45.0,\"NaN\",45.083333333333336,45.833333333333336,\"NaN\",42.333333333333336,43.0,\"NaN\",\"NaN\",37.25,\"NaN\",37.416666666666664,\"NaN\",37.5,37.916666666666664,38.166666666666664,38.5,38.583333333333336,38.75,38.75,38.833333333333336,\"NaN\",38.916666666666664,39.0,39.5,\"NaN\",39.333333333333336,40.0,40.5,42.0,44.0,\"NaN\",40.666666666666664,40.75,\"NaN\",41.0,41.25,41.333333333333336,41.333333333333336,41.75,42.0,\"NaN\",42.166666666666664,42.333333333333336,42.5,42.5,42.333333333333336,\"NaN\",45.0,44.5,42.5,43.0,41.5,39.0,37.666666666666664,39.666666666666664,\"NaN\",45.166666666666664,44.75,\"NaN\",45.083333333333336,45.333333333333336,45.333333333333336,45.333333333333336,45.083333333333336,44.75,43.75,43.666666666666664,44.416666666666664,44.583333333333336,\"NaN\",44.5,44.416666666666664,\"NaN\",44.333333333333336,\"NaN\",44.0,\"NaN\",44.75,\"NaN\",44.5,45.083333333333336,\"NaN\",45.0,44.5,44.583333333333336,44.75,0.0,43.75,43.75,44.166666666666664,0.0,44.5,\"NaN\",44.583333333333336,\"NaN\",44.416666666666664,\"NaN\",44.25,\"NaN\",44.833333333333336,\"NaN\",43.75,\"NaN\",43.666666666666664,\"NaN\",44.0,\"NaN\",43.75,\"NaN\",43.75,\"NaN\",43.416666666666664,43.5,43.416666666666664,43.416666666666664,43.083333333333336,41.916666666666664,\"NaN\",43.083333333333336,\"NaN\",42.583333333333336,\"NaN\",42.5,\"NaN\",43.333333333333336,\"NaN\",42.75,\"NaN\",42.75,\"NaN\",42.666666666666664,\"NaN\",42.333333333333336,\"NaN\",42.166666666666664,\"NaN\",42.0,\"NaN\",43.416666666666664,43.416666666666664,43.5,43.333333333333336,43.25,43.333333333333336,40.333333333333336,40.333333333333336,42.916666666666664,42.666666666666664,42.583333333333336,42.666666666666664,42.5,42.333333333333336,42.416666666666664,42.333333333333336,42.166666666666664,42.0,41.916666666666664,41.916666666666664,\"NaN\",\"NaN\",44.916666666666664,44.833333333333336,44.5,44.416666666666664,44.25,44.083333333333336,44.0,43.833333333333336,\"NaN\",43.666666666666664,43.5,43.416666666666664,43.083333333333336,43.166666666666664,\"NaN\",44.25,43.916666666666664,43.5,43.666666666666664,43.5,43.25,43.083333333333336,\"NaN\",\"NaN\",42.833333333333336,42.666666666666664,42.666666666666664,\"NaN\",\"NaN\",42.833333333333336,42.666666666666664,42.75,\"NaN\",\"NaN\",42.583333333333336,42.0,42.416666666666664,42.416666666666664,42.416666666666664,41.916666666666664,42.166666666666664,41.833333333333336,42.416666666666664,42.166666666666664,\"NaN\",\"NaN\",41.666666666666664,41.666666666666664,41.583333333333336,41.5,41.583333333333336,41.333333333333336,41.25,41.0,41.083333333333336,40.833333333333336,40.833333333333336,40.75,40.583333333333336,40.5,40.416666666666664,44.25,40.25,39.916666666666664,\"NaN\",41.916666666666664,41.333333333333336,41.75,41.5,41.416666666666664,41.0,41.0,41.083333333333336,40.75,40.833333333333336,40.5,40.583333333333336,40.5,40.416666666666664,40.25,40.333333333333336,40.166666666666664,39.75,\"NaN\",40.0,39.916666666666664,39.666666666666664,39.666666666666664,39.166666666666664,39.416666666666664,39.5,39.0,39.166666666666664,39.0,39.083333333333336,38.75,38.5,38.5,\"NaN\",\"NaN\",40.333333333333336,\"NaN\",\"NaN\",39.833333333333336,39.666666666666664,39.75,39.5,39.416666666666664,39.25,39.166666666666664,39.916666666666664,39.583333333333336,38.666666666666664,38.333333333333336,38.333333333333336,38.083333333333336,37.583333333333336,37.583333333333336,\"NaN\",\"NaN\",39.25,39.0,39.0,37.916666666666664,38.833333333333336,38.25,\"NaN\",\"NaN\",41.5,41.25,41.0,40.75,40.666666666666664,40.5,40.25,40.166666666666664,39.75,39.666666666666664,39.416666666666664,39.333333333333336,\"NaN\",\"NaN\",40.666666666666664,41.166666666666664,40.666666666666664,40.5,40.416666666666664,44.0,40.0,\"NaN\",\"NaN\",\"NaN\",44.0,43.75,43.333333333333336,\"NaN\",\"NaN\",43.833333333333336,43.75,43.5,43.5,43.25,43.166666666666664,42.833333333333336,\"NaN\",\"NaN\",43.916666666666664,43.75,43.75,43.5,43.416666666666664,43.25,43.25,41.0,42.916666666666664,42.75,42.416666666666664,42.5,42.416666666666664,42.25,41.916666666666664,\"NaN\",\"NaN\",43.0,42.75,42.5,42.833333333333336,42.166666666666664,42.166666666666664,41.916666666666664,41.666666666666664,41.5,41.416666666666664,\"NaN\",42.75,\"NaN\",42.166666666666664,42.5,42.25,42.25,\"NaN\",42.166666666666664,42.083333333333336,41.75,41.833333333333336,\"NaN\",\"NaN\",42.0,41.75,41.666666666666664,41.583333333333336,41.166666666666664,41.333333333333336,41.416666666666664,41.0,41.0,40.833333333333336,\"NaN\",42.583333333333336,42.333333333333336,\"NaN\",41.416666666666664,\"NaN\",46.75,\"NaN\",45.5,43.333333333333336,\"NaN\",38.333333333333336,38.083333333333336,\"NaN\",\"NaN\",39.25,39.25,\"NaN\",39.5,39.5]},\"selected\":{\"id\":\"3491\",\"type\":\"Selection\"},\"selection_policy\":{\"id\":\"3490\",\"type\":\"UnionRenderers\"}},\"id\":\"3319\",\"type\":\"ColumnDataSource\"},{\"attributes\":{\"fill_alpha\":{\"value\":0.9},\"fill_color\":{\"value\":\"dodgerblue\"},\"line_alpha\":{\"value\":0.6},\"line_color\":{\"value\":\"dodgerblue\"},\"size\":{\"units\":\"screen\",\"value\":6},\"x\":{\"field\":\"x\"},\"y\":{\"field\":\"y\"}},\"id\":\"3218\",\"type\":\"Circle\"},{\"attributes\":{},\"id\":\"3160\",\"type\":\"WheelZoomTool\"},{\"attributes\":{\"source\":{\"id\":\"3319\",\"type\":\"ColumnDataSource\"}},\"id\":\"3320\",\"type\":\"CDSView\"},{\"attributes\":{\"fill_alpha\":{\"value\":0.1},\"fill_color\":{\"value\":\"#1f77b4\"},\"line_alpha\":{\"value\":0.1},\"line_color\":{\"value\":\"#1f77b4\"},\"size\":{\"units\":\"screen\",\"value\":6},\"x\":{\"field\":\"x\"},\"y\":{\"field\":\"y\"}},\"id\":\"3219\",\"type\":\"Circle\"},{\"attributes\":{},\"id\":\"3161\",\"type\":\"ResetTool\"},{\"attributes\":{\"callback\":null,\"end\":22,\"start\":1.5},\"id\":\"3138\",\"type\":\"Range1d\"},{\"attributes\":{\"fill_alpha\":{\"value\":0.2},\"fill_color\":{\"value\":\"#1f77b4\"},\"line_alpha\":{\"value\":0.2},\"line_color\":{\"value\":\"#1f77b4\"},\"size\":{\"units\":\"screen\",\"value\":6},\"x\":{\"field\":\"x\"},\"y\":{\"field\":\"y\"}},\"id\":\"3220\",\"type\":\"Circle\"},{\"attributes\":{\"active_drag\":\"auto\",\"active_inspect\":\"auto\",\"active_multi\":null,\"active_scroll\":\"auto\",\"active_tap\":\"auto\",\"tools\":[{\"id\":\"3156\",\"type\":\"HoverTool\"},{\"id\":\"3157\",\"type\":\"CrosshairTool\"},{\"id\":\"3158\",\"type\":\"BoxSelectTool\"},{\"id\":\"3159\",\"type\":\"BoxZoomTool\"},{\"id\":\"3160\",\"type\":\"WheelZoomTool\"},{\"id\":\"3161\",\"type\":\"ResetTool\"}]},\"id\":\"3162\",\"type\":\"Toolbar\"},{\"attributes\":{\"fill_alpha\":{\"value\":0.9},\"fill_color\":{\"value\":\"crimson\"},\"line_alpha\":{\"value\":0.6},\"line_color\":{\"value\":\"red\"},\"size\":{\"units\":\"screen\",\"value\":6},\"x\":{\"field\":\"x\"},\"y\":{\"field\":\"y\"}},\"id\":\"3322\",\"type\":\"Circle\"},{\"attributes\":{\"data_source\":{\"id\":\"3215\",\"type\":\"ColumnDataSource\"},\"glyph\":{\"id\":\"3218\",\"type\":\"Circle\"},\"hover_glyph\":null,\"muted_glyph\":{\"id\":\"3220\",\"type\":\"Circle\"},\"nonselection_glyph\":{\"id\":\"3219\",\"type\":\"Circle\"},\"selection_glyph\":null,\"view\":{\"id\":\"3216\",\"type\":\"CDSView\"}},\"id\":\"3221\",\"type\":\"GlyphRenderer\"},{\"attributes\":{\"fill_alpha\":{\"value\":0.1},\"fill_color\":{\"value\":\"#1f77b4\"},\"line_alpha\":{\"value\":0.1},\"line_color\":{\"value\":\"#1f77b4\"},\"size\":{\"units\":\"screen\",\"value\":6},\"x\":{\"field\":\"x\"},\"y\":{\"field\":\"y\"}},\"id\":\"3323\",\"type\":\"Circle\"},{\"attributes\":{\"data_source\":{\"id\":\"3169\",\"type\":\"ColumnDataSource\"},\"glyph\":{\"id\":\"3170\",\"type\":\"Line\"},\"hover_glyph\":null,\"muted_glyph\":null,\"nonselection_glyph\":{\"id\":\"3171\",\"type\":\"Line\"},\"selection_glyph\":null,\"view\":{\"id\":\"3173\",\"type\":\"CDSView\"}},\"id\":\"3172\",\"type\":\"GlyphRenderer\"},{\"attributes\":{},\"id\":\"3231\",\"type\":\"UnionRenderers\"},{\"attributes\":{\"data_source\":{\"id\":\"3319\",\"type\":\"ColumnDataSource\"},\"glyph\":{\"id\":\"3322\",\"type\":\"Circle\"},\"hover_glyph\":null,\"muted_glyph\":null,\"nonselection_glyph\":{\"id\":\"3323\",\"type\":\"Circle\"},\"selection_glyph\":null,\"view\":{\"id\":\"3320\",\"type\":\"CDSView\"}},\"id\":\"3324\",\"type\":\"GlyphRenderer\"},{\"attributes\":{},\"id\":\"3232\",\"type\":\"Selection\"},{\"attributes\":{\"source\":{\"id\":\"3169\",\"type\":\"ColumnDataSource\"}},\"id\":\"3173\",\"type\":\"CDSView\"},{\"attributes\":{},\"id\":\"3344\",\"type\":\"UnionRenderers\"},{\"attributes\":{\"label\":{\"value\":\"Localities in Omega\"},\"renderers\":[{\"id\":\"3221\",\"type\":\"GlyphRenderer\"}]},\"id\":\"3233\",\"type\":\"LegendItem\"},{\"attributes\":{\"bottom_units\":\"screen\",\"fill_alpha\":{\"value\":0.5},\"fill_color\":{\"value\":\"lightgrey\"},\"left_units\":\"screen\",\"level\":\"overlay\",\"line_alpha\":{\"value\":1.0},\"line_color\":{\"value\":\"black\"},\"line_dash\":[4,4],\"line_width\":{\"value\":2},\"render_mode\":\"css\",\"right_units\":\"screen\",\"top_units\":\"screen\"},\"id\":\"3175\",\"type\":\"BoxAnnotation\"},{\"attributes\":{},\"id\":\"3345\",\"type\":\"Selection\"},{\"attributes\":{\"label\":{\"value\":\"Localities in Xi\"},\"renderers\":[{\"id\":\"3324\",\"type\":\"GlyphRenderer\"}]},\"id\":\"3346\",\"type\":\"LegendItem\"},{\"attributes\":{\"callback\":null,\"data\":{\"x\":{\"__ndarray__\":\"AAAAAAAAKUAAAAAAAAApQAAAAAAAgChAVVVVVVVVKEAAAAAAAAAoQFVVVVVVVS5AVVVVVVVVLkCrqqqqqqosQKuqqqqqqitAAAAAAAAAK0BVVVVVVVUqQAAAAAAAACpAAAAAAAAAKEAAAAAAAIAnQFVVVVVVVSdAq6qqqqqqJEAAAAAAAAAiQAAAAAAAgCBAAAAAAAAAG0AAAAAAAAAaQAAAAAAAABlAq6qqqqqqFkAAAAAAAAAVQKuqqqqqqhZAq6qqqqqqFkCrqqqqqqoWQAAAAAAAABZAVVVVVVVVFUAAAAAAAAAWQKuqqqqqqhRAAAAAAAAAFECrqqqqqqoWQKuqqqqqqhRAVVVVVVVVE0CrqqqqqqoTQFVVVVVVVRRAAAAAAAAAFEAAAAAAAAAEQAAAAAAAAAhAVVVVVVVVDUBVVVVVVVUQQFVVVVVVVRFAq6qqqqqqEkBVVVVVVVUUQFVVVVVVVRVAAAAAAAAAGEAAAAAAAAAYQAAAAAAAABdAq6qqqqqqGEAAAAAAAAAZQAAAAAAAABpAVVVVVVVVG0AAAAAAAAAdQAAAAAAAAB5AAAAAAAAAHkCrqqqqqqoeQAAAAAAAACBAAAAAAAAAIUCrqqqqqqohQAAAAAAAgCJAAAAAAACAI0AAAAAAAIAkQAAAAAAAgCVAq6qqqqqqJkAAAAAAAAAnQAAAAAAAgCdAAAAAAAAAKEAAAAAAAAArQAAAAAAAACxAAAAAAAAALUAAAAAAAAAuQKuqqqqqKi5Aq6qqqqqqL0AAAAAAAAAvQAAAAAAAADBAVVVVVVVVMEBVVVVVVdUwQAAAAAAAQDFAAAAAAACAMUBVVVVVVdUxQAAAAAAAgDJAAAAAAAAAMkAAAAAAAEAyQAAAAAAAgDJAAAAAAADAMkAAAAAAAAAzQAAAAAAAgDNAVVVVVVVVNEA=\",\"dtype\":\"float64\",\"shape\":[88]},\"y\":{\"__ndarray__\":\"AAAAAABAQ0BVVVVVVRVDQFVVVVVV9UJAAAAAAADAQkBVVVVVVbVCQKuqqqqq6kZAq6qqqqqKRkAAAAAAAIBGQKuqqqqqCkZAAAAAAAAgRkBVVVVVVVVGQAAAAAAAwEZAVVVVVVWVRkBVVVVVVbVGQAAAAAAA4EZAVVVVVVXVRkAAAAAAAOBGQKuqqqqq6kZAAAAAAACARkAAAAAAAMBGQAAAAAAAwEZAVVVVVVWVRkBVVVVVVZVGQAAAAAAAgEZAVVVVVVVVRkCrqqqqqipGQAAAAAAAAEZAq6qqqqrqRECrqqqqqqpEQKuqqqqqakRAVVVVVVVVRUAAAAAAAEBEQAAAAAAAIERAq6qqqqrqQ0CrqqqqqupDQFVVVVVVtUNAAAAAAACAQ0AAAAAAACBDQFVVVVVV9UJAAAAAAADgQkBVVVVVVdVCQAAAAAAAwEJAq6qqqqqqQkBVVVVVVZVCQAAAAAAAgEJAAAAAAABgQkCrqqqqqipCQKuqqqqqCkJAq6qqqqoKQkCrqqqqqgpCQFVVVVVVFUJAq6qqqqoKQkAAAAAAAEBCQFVVVVVVFUJAAAAAAAAgQkBVVVVVVVVCQFVVVVVVdUJAAAAAAACAQkBVVVVVVZVCQFVVVVVVlUJAAAAAAADgQkAAAAAAAKBCQFVVVVVVlUJAq6qqqqqKQkCrqqqqqmpCQFVVVVVVlUJAAAAAAACgQkAAAAAAAGBDQKuqqqqqakNAVVVVVVV1Q0AAAAAAAIBDQAAAAAAAwENAq6qqqqqqQ0AAAAAAAABEQAAAAAAAQERAVVVVVVVVREAAAAAAAGBEQAAAAAAAgERAAAAAAACgRECrqqqqqqpEQKuqqqqqqkRAAAAAAADgREAAAAAAAABFQFVVVVVVFUVAq6qqqqoqRUAAAAAAAEBFQAAAAAAAQEVAq6qqqqoqRUA=\",\"dtype\":\"float64\",\"shape\":[88]}},\"selected\":{\"id\":\"3272\",\"type\":\"Selection\"},\"selection_policy\":{\"id\":\"3271\",\"type\":\"UnionRenderers\"}},\"id\":\"3234\",\"type\":\"ColumnDataSource\"},{\"attributes\":{\"bottom_units\":\"screen\",\"fill_alpha\":{\"value\":0.5},\"fill_color\":{\"value\":\"lightgrey\"},\"left_units\":\"screen\",\"level\":\"overlay\",\"line_alpha\":{\"value\":1.0},\"line_color\":{\"value\":\"black\"},\"line_dash\":[4,4],\"line_width\":{\"value\":2},\"render_mode\":\"css\",\"right_units\":\"screen\",\"top_units\":\"screen\"},\"id\":\"3176\",\"type\":\"BoxAnnotation\"},{\"attributes\":{\"line_color\":\"red\",\"line_dash\":[6,4,2,4],\"line_width\":1.5,\"x\":{\"field\":\"x\"},\"y\":{\"field\":\"y\"}},\"id\":\"3235\",\"type\":\"Line\"},{\"attributes\":{\"click_policy\":\"hide\",\"items\":[{\"id\":\"3178\",\"type\":\"LegendItem\"},{\"id\":\"3233\",\"type\":\"LegendItem\"},{\"id\":\"3252\",\"type\":\"LegendItem\"},{\"id\":\"3346\",\"type\":\"LegendItem\"}]},\"id\":\"3177\",\"type\":\"Legend\"},{\"attributes\":{\"line_alpha\":0.1,\"line_color\":\"#1f77b4\",\"line_dash\":[6,4,2,4],\"line_width\":1.5,\"x\":{\"field\":\"x\"},\"y\":{\"field\":\"y\"}},\"id\":\"3236\",\"type\":\"Line\"},{\"attributes\":{},\"id\":\"3491\",\"type\":\"Selection\"},{\"attributes\":{\"label\":{\"value\":\"Boundary in Omega\"},\"renderers\":[{\"id\":\"3172\",\"type\":\"GlyphRenderer\"},{\"id\":\"3182\",\"type\":\"GlyphRenderer\"},{\"id\":\"3192\",\"type\":\"GlyphRenderer\"},{\"id\":\"3204\",\"type\":\"GlyphRenderer\"}]},\"id\":\"3178\",\"type\":\"LegendItem\"},{\"attributes\":{\"data_source\":{\"id\":\"3234\",\"type\":\"ColumnDataSource\"},\"glyph\":{\"id\":\"3235\",\"type\":\"Line\"},\"hover_glyph\":null,\"muted_glyph\":null,\"nonselection_glyph\":{\"id\":\"3236\",\"type\":\"Line\"},\"selection_glyph\":null,\"view\":{\"id\":\"3238\",\"type\":\"CDSView\"}},\"id\":\"3237\",\"type\":\"GlyphRenderer\"},{\"attributes\":{\"callback\":null,\"data\":{\"x\":{\"__ndarray__\":\"VVVVVVVVEEBVVVVVVVUZQAAAAAAAACJAAAAAAAAAKEA=\",\"dtype\":\"float64\",\"shape\":[4]},\"y\":{\"__ndarray__\":\"VVVVVVXVQkAAAAAAAIBDQAAAAAAAgENAAAAAAACgQkA=\",\"dtype\":\"float64\",\"shape\":[4]}},\"selected\":{\"id\":\"3200\",\"type\":\"Selection\"},\"selection_policy\":{\"id\":\"3199\",\"type\":\"UnionRenderers\"}},\"id\":\"3179\",\"type\":\"ColumnDataSource\"},{\"attributes\":{\"source\":{\"id\":\"3234\",\"type\":\"ColumnDataSource\"}},\"id\":\"3238\",\"type\":\"CDSView\"},{\"attributes\":{\"line_color\":\"dodgerblue\",\"line_width\":1.5,\"x\":{\"field\":\"x\"},\"y\":{\"field\":\"y\"}},\"id\":\"3180\",\"type\":\"Line\"},{\"attributes\":{},\"id\":\"3250\",\"type\":\"UnionRenderers\"},{\"attributes\":{\"line_alpha\":0.1,\"line_color\":\"#1f77b4\",\"line_width\":1.5,\"x\":{\"field\":\"x\"},\"y\":{\"field\":\"y\"}},\"id\":\"3181\",\"type\":\"Line\"},{\"attributes\":{},\"id\":\"3251\",\"type\":\"Selection\"},{\"attributes\":{\"data_source\":{\"id\":\"3179\",\"type\":\"ColumnDataSource\"},\"glyph\":{\"id\":\"3180\",\"type\":\"Line\"},\"hover_glyph\":null,\"muted_glyph\":null,\"nonselection_glyph\":{\"id\":\"3181\",\"type\":\"Line\"},\"selection_glyph\":null,\"view\":{\"id\":\"3183\",\"type\":\"CDSView\"}},\"id\":\"3182\",\"type\":\"GlyphRenderer\"},{\"attributes\":{\"label\":{\"value\":\"Boundary in Xi\"},\"renderers\":[{\"id\":\"3237\",\"type\":\"GlyphRenderer\"},{\"id\":\"3256\",\"type\":\"GlyphRenderer\"},{\"id\":\"3276\",\"type\":\"GlyphRenderer\"},{\"id\":\"3298\",\"type\":\"GlyphRenderer\"}]},\"id\":\"3252\",\"type\":\"LegendItem\"},{\"attributes\":{},\"id\":\"3147\",\"type\":\"BasicTicker\"},{\"attributes\":{\"source\":{\"id\":\"3179\",\"type\":\"ColumnDataSource\"}},\"id\":\"3183\",\"type\":\"CDSView\"},{\"attributes\":{\"callback\":null,\"data\":{\"x\":{\"__ndarray__\":\"VVVVVVVVEEBVVVVVVVUZQAAAAAAAACJAAAAAAAAAKEA=\",\"dtype\":\"float64\",\"shape\":[4]},\"y\":{\"__ndarray__\":\"VVVVVVXVQkAAAAAAAIBDQAAAAAAAgENAAAAAAACgQkA=\",\"dtype\":\"float64\",\"shape\":[4]}},\"selected\":{\"id\":\"3294\",\"type\":\"Selection\"},\"selection_policy\":{\"id\":\"3293\",\"type\":\"UnionRenderers\"}},\"id\":\"3253\",\"type\":\"ColumnDataSource\"},{\"attributes\":{},\"id\":\"3490\",\"type\":\"UnionRenderers\"},{\"attributes\":{},\"id\":\"3144\",\"type\":\"LinearScale\"},{\"attributes\":{\"line_color\":\"red\",\"line_dash\":[6,4,2,4],\"line_width\":1.5,\"x\":{\"field\":\"x\"},\"y\":{\"field\":\"y\"}},\"id\":\"3254\",\"type\":\"Line\"},{\"attributes\":{},\"id\":\"3271\",\"type\":\"UnionRenderers\"},{\"attributes\":{\"line_alpha\":0.1,\"line_color\":\"#1f77b4\",\"line_dash\":[6,4,2,4],\"line_width\":1.5,\"x\":{\"field\":\"x\"},\"y\":{\"field\":\"y\"}},\"id\":\"3255\",\"type\":\"Line\"},{\"attributes\":{},\"id\":\"3187\",\"type\":\"UnionRenderers\"},{\"attributes\":{\"data_source\":{\"id\":\"3253\",\"type\":\"ColumnDataSource\"},\"glyph\":{\"id\":\"3254\",\"type\":\"Line\"},\"hover_glyph\":null,\"muted_glyph\":null,\"nonselection_glyph\":{\"id\":\"3255\",\"type\":\"Line\"},\"selection_glyph\":null,\"view\":{\"id\":\"3257\",\"type\":\"CDSView\"}},\"id\":\"3256\",\"type\":\"GlyphRenderer\"},{\"attributes\":{},\"id\":\"3188\",\"type\":\"Selection\"},{\"attributes\":{\"callback\":null,\"data\":{\"x\":{\"__ndarray__\":\"VVVVVVVVFUBVVVVVVVUiQAAAAAAAACJAAAAAAAAAIkA=\",\"dtype\":\"float64\",\"shape\":[4]},\"y\":{\"__ndarray__\":\"q6qqqqrqRECrqqqqqqpEQFVVVVVVFURAAAAAAACAQ0A=\",\"dtype\":\"float64\",\"shape\":[4]}},\"selected\":{\"id\":\"3214\",\"type\":\"Selection\"},\"selection_policy\":{\"id\":\"3213\",\"type\":\"UnionRenderers\"}},\"id\":\"3189\",\"type\":\"ColumnDataSource\"},{\"attributes\":{\"source\":{\"id\":\"3253\",\"type\":\"ColumnDataSource\"}},\"id\":\"3257\",\"type\":\"CDSView\"},{\"attributes\":{},\"id\":\"3142\",\"type\":\"LinearScale\"},{\"attributes\":{\"line_color\":\"dodgerblue\",\"line_width\":1.5,\"x\":{\"field\":\"x\"},\"y\":{\"field\":\"y\"}},\"id\":\"3190\",\"type\":\"Line\"},{\"attributes\":{},\"id\":\"3272\",\"type\":\"Selection\"},{\"attributes\":{\"line_alpha\":0.1,\"line_color\":\"#1f77b4\",\"line_width\":1.5,\"x\":{\"field\":\"x\"},\"y\":{\"field\":\"y\"}},\"id\":\"3191\",\"type\":\"Line\"},{\"attributes\":{\"callback\":null,\"data\":{\"x\":{\"__ndarray__\":\"VVVVVVVVFUCrqqqqqqoiQAAAAAAAACJAAAAAAAAAIkA=\",\"dtype\":\"float64\",\"shape\":[4]},\"y\":{\"__ndarray__\":\"q6qqqqrqRECrqqqqqupEQAAAAAAAQERAAAAAAACAQ0A=\",\"dtype\":\"float64\",\"shape\":[4]}},\"selected\":{\"id\":\"3318\",\"type\":\"Selection\"},\"selection_policy\":{\"id\":\"3317\",\"type\":\"UnionRenderers\"}},\"id\":\"3273\",\"type\":\"ColumnDataSource\"},{\"attributes\":{\"data_source\":{\"id\":\"3189\",\"type\":\"ColumnDataSource\"},\"glyph\":{\"id\":\"3190\",\"type\":\"Line\"},\"hover_glyph\":null,\"muted_glyph\":null,\"nonselection_glyph\":{\"id\":\"3191\",\"type\":\"Line\"},\"selection_glyph\":null,\"view\":{\"id\":\"3193\",\"type\":\"CDSView\"}},\"id\":\"3192\",\"type\":\"GlyphRenderer\"},{\"attributes\":{\"line_color\":\"red\",\"line_dash\":[6,4,2,4],\"line_width\":1.5,\"x\":{\"field\":\"x\"},\"y\":{\"field\":\"y\"}},\"id\":\"3274\",\"type\":\"Line\"},{\"attributes\":{\"source\":{\"id\":\"3189\",\"type\":\"ColumnDataSource\"}},\"id\":\"3193\",\"type\":\"CDSView\"},{\"attributes\":{\"line_alpha\":0.1,\"line_color\":\"#1f77b4\",\"line_dash\":[6,4,2,4],\"line_width\":1.5,\"x\":{\"field\":\"x\"},\"y\":{\"field\":\"y\"}},\"id\":\"3275\",\"type\":\"Line\"},{\"attributes\":{},\"id\":\"3199\",\"type\":\"UnionRenderers\"},{\"attributes\":{\"data_source\":{\"id\":\"3273\",\"type\":\"ColumnDataSource\"},\"glyph\":{\"id\":\"3274\",\"type\":\"Line\"},\"hover_glyph\":null,\"muted_glyph\":null,\"nonselection_glyph\":{\"id\":\"3275\",\"type\":\"Line\"},\"selection_glyph\":null,\"view\":{\"id\":\"3277\",\"type\":\"CDSView\"}},\"id\":\"3276\",\"type\":\"GlyphRenderer\"},{\"attributes\":{},\"id\":\"3200\",\"type\":\"Selection\"},{\"attributes\":{\"source\":{\"id\":\"3273\",\"type\":\"ColumnDataSource\"}},\"id\":\"3277\",\"type\":\"CDSView\"},{\"attributes\":{\"callback\":null,\"data\":{\"x\":{\"__ndarray__\":\"AAAAAAAALkAAAAAAAAAxQAAAAAAAADNAaJHtfD9VNEA=\",\"dtype\":\"float64\",\"shape\":[4]},\"y\":{\"__ndarray__\":\"tMh2vp/qRkAAAAAAAIBFQEw3iUFglUVAtMh2vp8qRUA=\",\"dtype\":\"float64\",\"shape\":[4]}},\"selected\":{\"id\":\"3232\",\"type\":\"Selection\"},\"selection_policy\":{\"id\":\"3231\",\"type\":\"UnionRenderers\"}},\"id\":\"3201\",\"type\":\"ColumnDataSource\"},{\"attributes\":{},\"id\":\"3293\",\"type\":\"UnionRenderers\"},{\"attributes\":{\"line_color\":\"dodgerblue\",\"line_width\":1.5,\"x\":{\"field\":\"x\"},\"y\":{\"field\":\"y\"}},\"id\":\"3202\",\"type\":\"Line\"},{\"attributes\":{\"callback\":null,\"data\":{\"x\":{\"__ndarray__\":\"AAAAAAAALkBVVVVVVVUuQKuqqqqqqixAAAAAAACAK0AAAAAAAAArQFVVVVVVVSpAAAAAAAAAKkAAAAAAAAAoQAAAAAAAgCdAq6qqqqqqJkCrqqqqqqokQAAAAAAAACJAAAAAAACAIEAAAAAAAAAdQAAAAAAAABpAAAAAAAAAGUCrqqqqqqoWQAAAAAAAABVAVVVVVVVVFUCrqqqqqqoWQKuqqqqqqhZAAAAAAAAAFkBVVVVVVVUVQAAAAAAAABZAq6qqqqqqFkCrqqqqqqoUQAAAAAAAABZAVVVVVVVVFUCrqqqqqqoUQKuqqqqqqhRAAAAAAAAAFEAAAAAAAAAWQKuqqqqqqhRAAAAAAAAAEUCrqqqqqqoRQFVVVVVVVRRAAAAAAAAAFEAAAAAAAAAEQAAAAAAAAAhAVVVVVVVVDUBVVVVVVVUQQFVVVVVVVRFAq6qqqqqqEkBVVVVVVVUUQFVVVVVVVRVAAAAAAAAAGEAAAAAAAAAYQAAAAAAAABhAAAAAAAAAF0CrqqqqqqoYQAAAAAAAABlAAAAAAAAAGkCrqqqqqqoaQAAAAAAAAB1AAAAAAAAAHkAAAAAAAAAeQKuqqqqqqh5AAAAAAAAAIEAAAAAAAAAhQKuqqqqqqiFAAAAAAACAIkAAAAAAAIAjQAAAAAAAgCRAq6qqqqqqJUAAAAAAAIAlQKuqqqqqqiZAAAAAAAAAJ0AAAAAAAIAnQAAAAAAAAChAAAAAAAAAKEBVVVVVVVUoQAAAAAAAgChAVVVVVVXVKUAAAAAAAAApQFVVVVVVVSlAAAAAAAAAKkAAAAAAAAArQAAAAAAAACxAVVVVVVVVLUAAAAAAAAAuQFVVVVVVVS9AVVVVVVXVL0AAAAAAAAAvQAAAAAAAADBAVVVVVVVVMEBVVVVVVdUwQAAAAAAAQDFAAAAAAACAMUBVVVVVVdUxQAAAAAAAgDJAAAAAAAAAMkAAAAAAAEAyQAAAAAAAgDJAAAAAAADAMkAAAAAAAAAzQAAAAAAAgDNAVVVVVVVVNEA=\",\"dtype\":\"float64\",\"shape\":[97]},\"y\":{\"__ndarray__\":\"q6qqqqrqRkCrqqqqqopGQAAAAAAAgEZAVVVVVVU1RkAAAAAAACBGQFVVVVVVVUZAVVVVVVXVRkAAAAAAAMBGQFVVVVVVtUZAAAAAAADgRkBVVVVVVdVGQAAAAAAA4EZAq6qqqqrqRkAAAAAAAIBGQAAAAAAAwEZAAAAAAADARkAAAAAAAMBGQFVVVVVVlUZAAAAAAACARkBVVVVVVVVGQKuqqqqqKkZAAAAAAAAARkBVVVVVVdVFQAAAAAAAoEVAAAAAAABgRUAAAAAAAEBFQAAAAAAAIEVAq6qqqqrqRECrqqqqqqpEQKuqqqqqakRAVVVVVVVVREBVVVVVVRVEQAAAAAAAIERAAAAAAADgQ0AAAAAAAMBDQFVVVVVVtUNAAAAAAACAQ0AAAAAAACBDQKuqqqqq6kJAAAAAAADgQkBVVVVVVdVCQAAAAAAAwEJAq6qqqqqqQkBVVVVVVZVCQAAAAAAAgEJAAAAAAABgQkCrqqqqqmpCQKuqqqqqKkJAAAAAAAAAQkBVVVVVVRVCQFVVVVVVVUJAAAAAAABAQkCrqqqqqipCQFVVVVVVFUJAVVVVVVUVQkAAAAAAACBCQFVVVVVVVUJAq6qqqqoKQkAAAAAAAIBCQAAAAAAAwEJAAAAAAACgQkAAAAAAAKBCQAAAAAAAoEJAq6qqqqqKQkBVVVVVVZVCQKuqqqqqikJAq6qqqqoqQkBVVVVVVZVCQAAAAAAAoEJAq6qqqqqqQkAAAAAAAMBCQFVVVVVV9UJAq6qqqqoKQ0AAAAAAAEBDQKuqqqqqSkNAAAAAAABgQ0AAAAAAAGBDQKuqqqqqKkNAVVVVVVV1Q0AAAAAAAIBDQAAAAAAAwENAVVVVVVXVQ0AAAAAAAABEQAAAAAAAQERAVVVVVVVVREAAAAAAAGBEQAAAAAAAgERAAAAAAACARECrqqqqqqpEQAAAAAAAwERAAAAAAADgREAAAAAAAABFQFVVVVVVFUVAq6qqqqoqRUAAAAAAAEBFQAAAAAAAQEVAq6qqqqoqRUA=\",\"dtype\":\"float64\",\"shape\":[97]}},\"selected\":{\"id\":\"3188\",\"type\":\"Selection\"},\"selection_policy\":{\"id\":\"3187\",\"type\":\"UnionRenderers\"}},\"id\":\"3169\",\"type\":\"ColumnDataSource\"},{\"attributes\":{\"line_alpha\":0.1,\"line_color\":\"#1f77b4\",\"line_width\":1.5,\"x\":{\"field\":\"x\"},\"y\":{\"field\":\"y\"}},\"id\":\"3203\",\"type\":\"Line\"}],\"root_ids\":[\"3136\"]},\"title\":\"Bokeh Application\",\"version\":\"1.3.4\"}};\n",
       "  var render_items = [{\"docid\":\"5a6afcd3-8578-482a-bd1b-49926ba99335\",\"roots\":{\"3136\":\"1cb0d527-8758-41ef-8c0b-dcd4c0c72ff7\"}}];\n",
       "  root.Bokeh.embed.embed_items_notebook(docs_json, render_items);\n",
       "\n",
       "  }\n",
       "  if (root.Bokeh !== undefined) {\n",
       "    embed_document(root);\n",
       "  } else {\n",
       "    var attempts = 0;\n",
       "    var timer = setInterval(function(root) {\n",
       "      if (root.Bokeh !== undefined) {\n",
       "        embed_document(root);\n",
       "        clearInterval(timer);\n",
       "      }\n",
       "      attempts++;\n",
       "      if (attempts > 100) {\n",
       "        console.log(\"Bokeh: ERROR: Unable to run BokehJS code because BokehJS library is missing\");\n",
       "        clearInterval(timer);\n",
       "      }\n",
       "    }, 10, root)\n",
       "  }\n",
       "})(window);"
      ],
      "application/vnd.bokehjs_exec.v0+json": ""
     },
     "metadata": {
      "application/vnd.bokehjs_exec.v0+json": {
       "id": "3136"
      }
     },
     "output_type": "display_data"
    }
   ],
   "source": [
    "fig.plot_recension_all(ob_dict,xb_dict,df_dict)"
   ]
  },
  {
   "cell_type": "code",
   "execution_count": 73,
   "metadata": {},
   "outputs": [
    {
     "data": {
      "text/html": [
       "\n",
       "\n",
       "\n",
       "\n",
       "\n",
       "\n",
       "  <div class=\"bk-root\" id=\"3dbbae67-c471-49ab-a4ec-caa577036ccf\" data-root-id=\"3630\"></div>\n"
      ]
     },
     "metadata": {},
     "output_type": "display_data"
    },
    {
     "data": {
      "application/javascript": [
       "(function(root) {\n",
       "  function embed_document(root) {\n",
       "    \n",
       "  var docs_json = {\"e8093c9a-3c45-4e1f-b451-329251733905\":{\"roots\":{\"references\":[{\"attributes\":{\"below\":[{\"id\":\"3641\",\"type\":\"LinearAxis\"}],\"center\":[{\"id\":\"3645\",\"type\":\"Grid\"},{\"id\":\"3650\",\"type\":\"Grid\"},{\"id\":\"3675\",\"type\":\"Legend\"}],\"left\":[{\"id\":\"3646\",\"type\":\"LinearAxis\"}],\"plot_height\":800,\"plot_width\":1000,\"renderers\":[{\"id\":\"3667\",\"type\":\"GlyphRenderer\"},{\"id\":\"3680\",\"type\":\"GlyphRenderer\"},{\"id\":\"3695\",\"type\":\"GlyphRenderer\"},{\"id\":\"3711\",\"type\":\"GlyphRenderer\"},{\"id\":\"3729\",\"type\":\"GlyphRenderer\"},{\"id\":\"3752\",\"type\":\"GlyphRenderer\"},{\"id\":\"3774\",\"type\":\"GlyphRenderer\"},{\"id\":\"3799\",\"type\":\"GlyphRenderer\"},{\"id\":\"3825\",\"type\":\"GlyphRenderer\"},{\"id\":\"3853\",\"type\":\"GlyphRenderer\"},{\"id\":\"3883\",\"type\":\"GlyphRenderer\"},{\"id\":\"3916\",\"type\":\"GlyphRenderer\"}],\"title\":{\"id\":\"3631\",\"type\":\"Title\"},\"toolbar\":{\"id\":\"3656\",\"type\":\"Toolbar\"},\"x_range\":{\"id\":\"3633\",\"type\":\"Range1d\"},\"x_scale\":{\"id\":\"3637\",\"type\":\"LinearScale\"},\"y_range\":{\"id\":\"3635\",\"type\":\"Range1d\"},\"y_scale\":{\"id\":\"3639\",\"type\":\"LinearScale\"}},\"id\":\"3630\",\"subtype\":\"Figure\",\"type\":\"Plot\"},{\"attributes\":{\"callback\":null,\"data\":{\"x\":{\"__ndarray__\":\"VVVVVVVVFUCrqqqqqqoiQAAAAAAAACJAAAAAAAAAIkA=\",\"dtype\":\"float64\",\"shape\":[4]},\"y\":{\"__ndarray__\":\"q6qqqqrqRECrqqqqqupEQAAAAAAAQERAAAAAAACAQ0A=\",\"dtype\":\"float64\",\"shape\":[4]}},\"selected\":{\"id\":\"3745\",\"type\":\"Selection\"},\"selection_policy\":{\"id\":\"3744\",\"type\":\"UnionRenderers\"}},\"id\":\"3708\",\"type\":\"ColumnDataSource\"},{\"attributes\":{},\"id\":\"3820\",\"type\":\"UnionRenderers\"},{\"attributes\":{\"line_color\":\"Crimson\",\"line_width\":2,\"x\":{\"field\":\"x\"},\"y\":{\"field\":\"y\"}},\"id\":\"3709\",\"type\":\"Line\"},{\"attributes\":{},\"id\":\"3821\",\"type\":\"Selection\"},{\"attributes\":{\"line_alpha\":0.1,\"line_color\":\"#1f77b4\",\"line_width\":2,\"x\":{\"field\":\"x\"},\"y\":{\"field\":\"y\"}},\"id\":\"3710\",\"type\":\"Line\"},{\"attributes\":{\"callback\":null,\"data\":{\"x\":{\"__ndarray__\":\"VVVVVVVVFUBVVVVVVVUiQAAAAAAAACJAAAAAAAAAIkA=\",\"dtype\":\"float64\",\"shape\":[4]},\"y\":{\"__ndarray__\":\"q6qqqqrqRECrqqqqqqpEQFVVVVVVFURAAAAAAACAQ0A=\",\"dtype\":\"float64\",\"shape\":[4]}},\"selected\":{\"id\":\"3879\",\"type\":\"Selection\"},\"selection_policy\":{\"id\":\"3878\",\"type\":\"UnionRenderers\"}},\"id\":\"3822\",\"type\":\"ColumnDataSource\"},{\"attributes\":{\"line_alpha\":0.1,\"line_color\":\"#1f77b4\",\"line_width\":2,\"x\":{\"field\":\"x\"},\"y\":{\"field\":\"y\"}},\"id\":\"3824\",\"type\":\"Line\"},{\"attributes\":{\"data_source\":{\"id\":\"3708\",\"type\":\"ColumnDataSource\"},\"glyph\":{\"id\":\"3709\",\"type\":\"Line\"},\"hover_glyph\":null,\"muted_glyph\":null,\"nonselection_glyph\":{\"id\":\"3710\",\"type\":\"Line\"},\"selection_glyph\":null,\"view\":{\"id\":\"3712\",\"type\":\"CDSView\"}},\"id\":\"3711\",\"type\":\"GlyphRenderer\"},{\"attributes\":{\"line_color\":\"DodgerBlue\",\"line_width\":2,\"x\":{\"field\":\"x\"},\"y\":{\"field\":\"y\"}},\"id\":\"3823\",\"type\":\"Line\"},{\"attributes\":{\"source\":{\"id\":\"3708\",\"type\":\"ColumnDataSource\"}},\"id\":\"3712\",\"type\":\"CDSView\"},{\"attributes\":{\"data_source\":{\"id\":\"3822\",\"type\":\"ColumnDataSource\"},\"glyph\":{\"id\":\"3823\",\"type\":\"Line\"},\"hover_glyph\":null,\"muted_glyph\":null,\"nonselection_glyph\":{\"id\":\"3824\",\"type\":\"Line\"},\"selection_glyph\":null,\"view\":{\"id\":\"3826\",\"type\":\"CDSView\"}},\"id\":\"3825\",\"type\":\"GlyphRenderer\"},{\"attributes\":{},\"id\":\"3724\",\"type\":\"UnionRenderers\"},{\"attributes\":{},\"id\":\"3725\",\"type\":\"Selection\"},{\"attributes\":{},\"id\":\"3849\",\"type\":\"Selection\"},{\"attributes\":{\"callback\":null,\"data\":{\"x\":{\"__ndarray__\":\"L90kBoFVLkAAAAAAAAAxQAAAAAAAADNAaJHtfD9VNEA=\",\"dtype\":\"float64\",\"shape\":[4]},\"y\":{\"__ndarray__\":\"tMh2vp/qRkAAAAAAAIBFQEw3iUFglUVAtMh2vp8qRUA=\",\"dtype\":\"float64\",\"shape\":[4]}},\"selected\":{\"id\":\"3769\",\"type\":\"Selection\"},\"selection_policy\":{\"id\":\"3768\",\"type\":\"UnionRenderers\"}},\"id\":\"3726\",\"type\":\"ColumnDataSource\"},{\"attributes\":{\"source\":{\"id\":\"3822\",\"type\":\"ColumnDataSource\"}},\"id\":\"3826\",\"type\":\"CDSView\"},{\"attributes\":{\"line_color\":\"Crimson\",\"line_width\":2,\"x\":{\"field\":\"x\"},\"y\":{\"field\":\"y\"}},\"id\":\"3727\",\"type\":\"Line\"},{\"attributes\":{},\"id\":\"3848\",\"type\":\"UnionRenderers\"},{\"attributes\":{\"line_alpha\":0.1,\"line_color\":\"#1f77b4\",\"line_width\":2,\"x\":{\"field\":\"x\"},\"y\":{\"field\":\"y\"}},\"id\":\"3728\",\"type\":\"Line\"},{\"attributes\":{\"callback\":null,\"data\":{\"x\":{\"__ndarray__\":\"AAAAAAAALkAAAAAAAAAxQAAAAAAAADNAaJHtfD9VNEA=\",\"dtype\":\"float64\",\"shape\":[4]},\"y\":{\"__ndarray__\":\"tMh2vp/qRkAAAAAAAIBFQEw3iUFglUVAtMh2vp8qRUA=\",\"dtype\":\"float64\",\"shape\":[4]}},\"selected\":{\"id\":\"3911\",\"type\":\"Selection\"},\"selection_policy\":{\"id\":\"3910\",\"type\":\"UnionRenderers\"}},\"id\":\"3850\",\"type\":\"ColumnDataSource\"},{\"attributes\":{\"data_source\":{\"id\":\"3726\",\"type\":\"ColumnDataSource\"},\"glyph\":{\"id\":\"3727\",\"type\":\"Line\"},\"hover_glyph\":null,\"muted_glyph\":null,\"nonselection_glyph\":{\"id\":\"3728\",\"type\":\"Line\"},\"selection_glyph\":null,\"view\":{\"id\":\"3730\",\"type\":\"CDSView\"}},\"id\":\"3729\",\"type\":\"GlyphRenderer\"},{\"attributes\":{\"callback\":null,\"data\":{\"x\":{\"__ndarray__\":\"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\",\"dtype\":\"float64\",\"shape\":[264]},\"y\":{\"__ndarray__\":\"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\",\"dtype\":\"float64\",\"shape\":[264]}},\"selected\":{\"id\":\"4091\",\"type\":\"Selection\"},\"selection_policy\":{\"id\":\"4090\",\"type\":\"UnionRenderers\"}},\"id\":\"3880\",\"type\":\"ColumnDataSource\"},{\"attributes\":{\"source\":{\"id\":\"3726\",\"type\":\"ColumnDataSource\"}},\"id\":\"3730\",\"type\":\"CDSView\"},{\"attributes\":{\"line_color\":\"DodgerBlue\",\"line_width\":2,\"x\":{\"field\":\"x\"},\"y\":{\"field\":\"y\"}},\"id\":\"3851\",\"type\":\"Line\"},{\"attributes\":{},\"id\":\"3744\",\"type\":\"UnionRenderers\"},{\"attributes\":{\"line_alpha\":0.1,\"line_color\":\"#1f77b4\",\"line_width\":2,\"x\":{\"field\":\"x\"},\"y\":{\"field\":\"y\"}},\"id\":\"3852\",\"type\":\"Line\"},{\"attributes\":{},\"id\":\"3745\",\"type\":\"Selection\"},{\"attributes\":{\"data_source\":{\"id\":\"3850\",\"type\":\"ColumnDataSource\"},\"glyph\":{\"id\":\"3851\",\"type\":\"Line\"},\"hover_glyph\":null,\"muted_glyph\":null,\"nonselection_glyph\":{\"id\":\"3852\",\"type\":\"Line\"},\"selection_glyph\":null,\"view\":{\"id\":\"3854\",\"type\":\"CDSView\"}},\"id\":\"3853\",\"type\":\"GlyphRenderer\"},{\"attributes\":{\"callback\":null,\"data\":{\"x\":[\"NaN\",\"NaN\",\"NaN\",\"NaN\",4.083333333333333,4.333333333333333,6.333333333333333,9.0,12.0,14.0,\"NaN\",\"NaN\",\"NaN\",\"NaN\",\"NaN\",4.666666666666667,5.083333333333333,5.333333333333333,12.0,6.0,6.0,6.0,5.75,6.166666666666667,6.25,\"NaN\",6.5,6.666666666666667,7.25,7.5,7.5,\"NaN\",7.666666666666667,8.0,8.5,8.833333333333334,9.25,9.75,10.25,10.833333333333334,10.75,11.333333333333334,11.5,\"NaN\",11.75,\"NaN\",\"NaN\",9.166666666666666,9.5,9.0,9.75,9.25,10.0,9.333333333333334,9.5,10.166666666666666,8.75,8.666666666666666,8.25,8.75,8.0,7.5,7.0,6.25,6.166666666666667,9.666666666666666,9.666666666666666,9.5,9.166666666666666,9.666666666666666,10.166666666666666,10.25,10.416666666666666,10.75,11.0,\"NaN\",\"NaN\",4.333333333333333,4.666666666666667,5.0,5.166666666666667,5.666666666666667,6.0,6.5,5.5,5.666666666666667,5.5,6.0,6.666666666666667,6.5,7.0,6.333333333333333,7.0,6.5,6.666666666666667,7.0,6.5,6.5,7.0,9.166666666666666,7.166666666666667,8.0,7.0,7.333333333333333,7.666666666666667,7.25,8.0,7.666666666666667,7.333333333333333,7.5,7.25,8.5,8.666666666666666,8.583333333333334,8.25,8.166666666666666,\"NaN\",5.833333333333333,6.5,6.0,6.5,6.25,\"NaN\",7.333333333333333,6.5,5.166666666666667,\"NaN\",\"NaN\",5.333333333333333,9.166666666666666,12.666666666666666,\"NaN\",\"NaN\",\"NaN\",\"NaN\",\"NaN\",3.6666666666666665,3.0,2.5,5.0,5.083333333333333,4.416666666666667,\"NaN\",4.25,5.166666666666667,5.5,9.0,11.666666666666666,5.0,5.166666666666667,5.166666666666667,5.333333333333333,\"NaN\",\"NaN\",5.333333333333333,5.25,\"NaN\",5.75,5.333333333333333,6.0,5.333333333333333,5.666666666666667,6.166666666666667,5.666666666666667,6.166666666666667,6.166666666666667,\"NaN\",\"NaN\",5.5,5.666666666666667,6.0,6.5,6.666666666666667,7.25,7.333333333333333,5.5,5.666666666666667,6.0,6.333333333333333,6.666666666666667,7.5,7.166666666666667,6.833333333333333,6.666666666666667,8.0,7.333333333333333,6.833333333333333,6.666666666666667,7.0,7.0,7.833333333333333,7.333333333333333,8.0,7.333333333333333,7.666666666666667,8.5,8.666666666666666,\"NaN\",8.5,8.0,8.833333333333334,8.0,8.333333333333334,8.5,8.333333333333334,8.333333333333334,8.666666666666666,8.833333333333334,8.5,\"NaN\",3.0,\"NaN\",\"NaN\",\"NaN\",5.5,5.166666666666667,5.666666666666667,5.5,5.333333333333333,11.5,\"NaN\",5.5,5.666666666666667,5.666666666666667,5.333333333333333,5.25,\"NaN\",\"NaN\",5.666666666666667,6.25,6.5,\"NaN\",7.25,8.25,9.0,10.333333333333334,11.333333333333334,\"NaN\",11.75,12.0,\"NaN\",13.0,\"NaN\",13.166666666666666,13.5,\"NaN\",13.75,\"NaN\",14.333333333333334,\"NaN\",15.166666666666666,15.0,\"NaN\",20.333333333333332,17.0,\"NaN\",\"NaN\",12.0,\"NaN\",12.0,\"NaN\",12.166666666666666,12.25,12.916666666666666,12.5,12.666666666666666,13.0,13.5,14.0,\"NaN\",14.666666666666666,15.0,15.666666666666666,\"NaN\",15.916666666666666,15.5,16.0,14.0,12.5,\"NaN\",16.333333333333332,16.833333333333332,\"NaN\",17.25,17.5,17.833333333333332,18.5,18.0,18.25,\"NaN\",18.5,18.75,19.0,19.5,20.333333333333332,\"NaN\",9.0,11.5,14.666666666666666,16.0,14.0,14.333333333333334,12.0,14.0,\"NaN\",5.75,6.166666666666667,\"NaN\",8.25,8.5,9.333333333333334,10.166666666666666,10.166666666666666,7.0,6.333333333333333,7.0,8.333333333333334,8.833333333333334,\"NaN\",6.416666666666667,7.416666666666667,\"NaN\",6.333333333333333,7.5,\"NaN\",7.333333333333333,\"NaN\",8.5,8.5,\"NaN\",11.0,11.0,10.25,9.333333333333334,9.333333333333334,10.333333333333334,11.5,8.5,9.0,0.0,\"NaN\",10.0,\"NaN\",10.833333333333334,\"NaN\",11.166666666666666,\"NaN\",11.666666666666666,\"NaN\",13.0,\"NaN\",9.5,\"NaN\",9.5,\"NaN\",7.5,\"NaN\",8.0,\"NaN\",6.0,6.5,6.833333333333333,8.333333333333334,8.5,\"NaN\",6.5,\"NaN\",6.0,\"NaN\",6.0,\"NaN\",7.333333333333333,\"NaN\",6.0,\"NaN\",8.333333333333334,\"NaN\",7.5,\"NaN\",7.333333333333333,\"NaN\",8.166666666666666,\"NaN\",8.0,\"NaN\",9.75,10.25,11.0,9.666666666666666,10.333333333333334,9.5,9.666666666666666,9.666666666666666,9.333333333333334,9.833333333333334,10.5,9.0,9.666666666666666,10.0,9.666666666666666,10.166666666666666,9.0,9.5,\"NaN\",\"NaN\",12.166666666666666,12.666666666666666,12.0,11.333333333333334,12.5,11.666666666666666,12.166666666666666,11.75,\"NaN\",12.0,11.25,11.833333333333334,12.0,\"NaN\",13.0,13.0,12.0,13.0,13.25,12.666666666666666,13.0,\"NaN\",\"NaN\",11.166666666666666,11.5,12.5,\"NaN\",\"NaN\",13.0,13.0,13.0,\"NaN\",\"NaN\",11.0,11.0,11.5,11.5,12.5,11.333333333333334,12.666666666666666,13.416666666666666,13.5,13.25,\"NaN\",\"NaN\",9.666666666666666,10.5,11.0,11.5,12.0,13.0,11.666666666666666,10.0,10.333333333333334,11.333333333333334,9.666666666666666,10.25,10.333333333333334,11.0,10.5,9.833333333333334,10.5,10.333333333333334,\"NaN\",13.666666666666666,13.5,14.0,14.75,13.333333333333334,12.166666666666666,13.0,13.5,12.333333333333334,13.166666666666666,13.333333333333334,12.75,13.5,12.5,11.5,12.0,12.333333333333334,11.666666666666666,\"NaN\",9.333333333333334,10.0,9.166666666666666,10.0,9.5,10.666666666666666,11.333333333333334,9.5,9.75,10.333333333333334,11.0,10.0,10.833333333333334,\"NaN\",\"NaN\",13.0,\"NaN\",\"NaN\",13.333333333333334,13.0,13.5,12.0,12.5,11.666666666666666,12.0,11.333333333333334,11.0,11.5,11.333333333333334,11.5,11.166666666666666,11.166666666666666,11.75,\"NaN\",\"NaN\",13.75,14.0,13.166666666666666,13.666666666666666,12.333333333333334,12.333333333333334,\"NaN\",\"NaN\",14.25,14.166666666666666,14.666666666666666,14.166666666666666,14.666666666666666,14.5,14.666666666666666,14.25,14.333333333333334,14.833333333333334,14.416666666666666,14.583333333333334,\"NaN\",\"NaN\",16.666666666666668,14.916666666666666,15.25,15.666666666666666,15.5,15.083333333333334,15.25,\"NaN\",\"NaN\",\"NaN\",13.333333333333334,13.666666666666666,13.916666666666666,\"NaN\",\"NaN\",14.0,14.5,13.916666666666666,14.583333333333334,14.333333333333334,13.666666666666666,14.0,\"NaN\",\"NaN\",15.416666666666666,15.0,15.5,15.0,15.083333333333334,14.833333333333334,15.5,15.0,14.666666666666666,15.0,14.0,14.75,14.333333333333334,14.666666666666666,14.666666666666666,\"NaN\",\"NaN\",16.5,16.0,15.5,15.75,15.166666666666666,16.0,15.166666666666666,15.5,15.0,15.416666666666666,\"NaN\",17.333333333333332,\"NaN\",16.666666666666668,16.166666666666668,17.0,16.666666666666668,\"NaN\",17.916666666666668,17.916666666666668,17.333333333333332,17.5,\"NaN\",\"NaN\",16.333333333333332,16.5,16.0,16.666666666666668,16.0,15.666666666666666,16.75,15.5,16.333333333333332,15.833333333333334,\"NaN\",18.666666666666668,18.5,\"NaN\",17.333333333333332,\"NaN\",9.0,\"NaN\",4.0,4.666666666666667,\"NaN\",14.833333333333334,14.0,\"NaN\",\"NaN\",16.166666666666668,16.75,\"NaN\",17.166666666666668,17.5],\"y\":[\"NaN\",\"NaN\",\"NaN\",\"NaN\",37.666666666666664,37.5,39.0,39.0,37.25,40.0,\"NaN\",\"NaN\",\"NaN\",\"NaN\",\"NaN\",37.333333333333336,37.166666666666664,37.0,38.5,36.75,36.833333333333336,36.333333333333336,36.0,36.166666666666664,36.666666666666664,\"NaN\",36.5,36.333333333333336,36.166666666666664,36.166666666666664,36.25,\"NaN\",36.666666666666664,36.083333333333336,37.0,37.5,37.25,37.25,37.25,37.083333333333336,37.166666666666664,37.083333333333336,36.333333333333336,\"NaN\",37.166666666666664,\"NaN\",\"NaN\",38.833333333333336,38.666666666666664,38.5,38.166666666666664,38.5,38.25,38.083333333333336,38.0,38.0,37.75,37.416666666666664,37.666666666666664,37.916666666666664,37.166666666666664,37.0,36.666666666666664,36.916666666666664,36.333333333333336,38.083333333333336,37.75,37.5,37.5,37.416666666666664,37.75,37.5,37.833333333333336,37.833333333333336,37.666666666666664,\"NaN\",\"NaN\",38.0,37.75,37.25,38.333333333333336,38.333333333333336,38.333333333333336,37.75,37.333333333333336,37.5,37.75,37.333333333333336,38.333333333333336,38.666666666666664,38.0,37.333333333333336,37.666666666666664,37.5,37.25,37.166666666666664,37.916666666666664,37.333333333333336,38.833333333333336,38.0,37.833333333333336,38.666666666666664,38.416666666666664,38.333333333333336,37.5,37.833333333333336,37.75,37.75,37.166666666666664,37.416666666666664,37.083333333333336,38.5,38.583333333333336,38.333333333333336,38.333333333333336,38.0,\"NaN\",38.0,38.5,38.666666666666664,38.833333333333336,38.416666666666664,\"NaN\",37.666666666666664,37.083333333333336,36.166666666666664,\"NaN\",\"NaN\",41.833333333333336,41.333333333333336,41.666666666666664,\"NaN\",\"NaN\",\"NaN\",\"NaN\",\"NaN\",37.75,37.833333333333336,38.25,39.0,39.416666666666664,39.5,\"NaN\",39.75,40.25,40.166666666666664,40.166666666666664,40.75,40.666666666666664,40.833333333333336,41.333333333333336,41.833333333333336,\"NaN\",\"NaN\",39.0,38.75,\"NaN\",40.25,40.0,40.0,39.75,39.0,39.666666666666664,39.333333333333336,39.333333333333336,39.083333333333336,\"NaN\",\"NaN\",41.083333333333336,41.5,41.333333333333336,41.25,41.5,41.083333333333336,41.5,40.666666666666664,40.5,41.0,40.75,40.5,40.75,40.5,40.25,40.0,40.25,40.0,39.75,39.5,39.333333333333336,39.083333333333336,39.916666666666664,39.666666666666664,39.5,39.25,39.083333333333336,39.5,39.166666666666664,\"NaN\",41.666666666666664,41.5,41.833333333333336,41.25,41.25,41.0,41.0,40.75,40.666666666666664,40.416666666666664,40.083333333333336,\"NaN\",41.0,\"NaN\",\"NaN\",\"NaN\",42.25,42.5,42.75,43.25,43.666666666666664,44.25,\"NaN\",44.0,44.333333333333336,44.666666666666664,45.0,45.166666666666664,\"NaN\",\"NaN\",45.5,45.5,45.5,\"NaN\",45.0,45.833333333333336,45.75,45.666666666666664,45.75,\"NaN\",45.416666666666664,45.5,\"NaN\",45.666666666666664,\"NaN\",44.666666666666664,44.25,\"NaN\",44.416666666666664,\"NaN\",45.0,\"NaN\",45.083333333333336,45.833333333333336,\"NaN\",42.333333333333336,43.0,\"NaN\",\"NaN\",37.25,\"NaN\",37.333333333333336,\"NaN\",37.5,37.916666666666664,38.083333333333336,38.5,38.583333333333336,38.75,38.75,38.333333333333336,\"NaN\",38.916666666666664,39.0,39.5,\"NaN\",39.666666666666664,40.0,40.5,42.0,44.0,\"NaN\",40.666666666666664,40.75,\"NaN\",41.0,41.0,41.333333333333336,41.5,41.75,42.0,\"NaN\",42.166666666666664,42.333333333333336,42.5,42.5,42.333333333333336,\"NaN\",45.0,44.25,42.25,43.0,41.5,39.0,37.666666666666664,39.666666666666664,\"NaN\",45.166666666666664,44.75,\"NaN\",45.083333333333336,45.5,45.333333333333336,44.666666666666664,44.916666666666664,44.75,43.75,43.5,44.416666666666664,44.583333333333336,\"NaN\",44.5,44.416666666666664,\"NaN\",44.333333333333336,44.0,\"NaN\",44.75,\"NaN\",44.5,45.166666666666664,\"NaN\",45.0,44.5,44.333333333333336,44.75,43.5,44.0,43.75,43.75,44.0,0.0,\"NaN\",44.833333333333336,\"NaN\",43.916666666666664,\"NaN\",44.25,\"NaN\",44.833333333333336,\"NaN\",43.75,\"NaN\",43.666666666666664,\"NaN\",44.0,\"NaN\",43.75,\"NaN\",43.75,\"NaN\",43.666666666666664,43.5,43.5,43.416666666666664,43.416666666666664,\"NaN\",43.666666666666664,\"NaN\",42.583333333333336,\"NaN\",43.333333333333336,\"NaN\",43.333333333333336,\"NaN\",42.25,\"NaN\",42.75,\"NaN\",42.666666666666664,\"NaN\",42.333333333333336,\"NaN\",42.333333333333336,\"NaN\",42.0,\"NaN\",43.916666666666664,43.416666666666664,43.5,43.333333333333336,43.0,43.0,42.666666666666664,42.916666666666664,42.5,42.0,42.5,42.333333333333336,42.416666666666664,42.333333333333336,42.166666666666664,42.0,42.0,41.666666666666664,\"NaN\",\"NaN\",44.666666666666664,44.75,44.166666666666664,44.666666666666664,44.25,44.666666666666664,44.0,43.333333333333336,\"NaN\",43.666666666666664,43.5,43.333333333333336,43.166666666666664,\"NaN\",44.25,43.5,43.0,43.0,43.5,43.25,42.666666666666664,\"NaN\",\"NaN\",42.0,42.666666666666664,42.666666666666664,\"NaN\",\"NaN\",42.0,41.666666666666664,42.25,\"NaN\",\"NaN\",42.833333333333336,42.0,42.416666666666664,42.0,41.666666666666664,41.833333333333336,42.5,42.75,42.916666666666664,42.5,\"NaN\",\"NaN\",41.0,41.666666666666664,41.5,41.5,41.833333333333336,41.333333333333336,41.0,41.0,41.666666666666664,40.0,40.333333333333336,40.75,40.583333333333336,40.5,40.916666666666664,40.25,40.25,39.75,\"NaN\",41.166666666666664,41.333333333333336,41.75,41.5,41.666666666666664,41.0,41.0,41.666666666666664,40.75,40.666666666666664,40.5,40.833333333333336,40.5,40.666666666666664,40.25,40.333333333333336,40.166666666666664,39.75,\"NaN\",40.0,39.0,39.666666666666664,39.5,39.5,39.166666666666664,39.0,39.0,39.5,39.0,39.666666666666664,38.75,38.333333333333336,\"NaN\",\"NaN\",40.333333333333336,\"NaN\",\"NaN\",39.833333333333336,39.333333333333336,39.75,39.5,39.666666666666664,39.25,39.166666666666664,39.75,38.583333333333336,38.666666666666664,37.75,38.166666666666664,38.333333333333336,38.0,38.5,\"NaN\",\"NaN\",39.25,39.0,39.0,38.916666666666664,38.5,38.916666666666664,\"NaN\",\"NaN\",41.5,41.25,41.0,40.75,40.666666666666664,40.5,40.25,40.166666666666664,39.75,39.666666666666664,39.416666666666664,39.666666666666664,\"NaN\",\"NaN\",41.333333333333336,41.166666666666664,40.666666666666664,40.5,40.333333333333336,40.25,40.0,\"NaN\",\"NaN\",\"NaN\",43.75,42.75,43.333333333333336,\"NaN\",\"NaN\",43.916666666666664,43.75,43.75,43.166666666666664,43.5,43.75,42.833333333333336,\"NaN\",\"NaN\",43.916666666666664,43.75,43.666666666666664,43.5,43.083333333333336,43.25,43.416666666666664,43.0,42.916666666666664,42.75,42.583333333333336,42.5,42.416666666666664,42.25,43.333333333333336,\"NaN\",\"NaN\",43.0,42.75,42.5,42.25,42.5,42.5,41.916666666666664,41.666666666666664,41.5,41.416666666666664,\"NaN\",42.75,\"NaN\",42.166666666666664,42.166666666666664,42.25,42.666666666666664,\"NaN\",42.25,42.5,41.916666666666664,42.5,\"NaN\",\"NaN\",42.0,41.75,41.666666666666664,41.583333333333336,41.166666666666664,41.333333333333336,41.916666666666664,41.0,41.333333333333336,40.833333333333336,\"NaN\",42.583333333333336,42.416666666666664,\"NaN\",41.583333333333336,\"NaN\",46.75,\"NaN\",45.5,43.333333333333336,\"NaN\",38.333333333333336,38.083333333333336,\"NaN\",\"NaN\",39.25,39.25,\"NaN\",39.5,39.5]},\"selected\":{\"id\":\"3794\",\"type\":\"Selection\"},\"selection_policy\":{\"id\":\"3793\",\"type\":\"UnionRenderers\"}},\"id\":\"3746\",\"type\":\"ColumnDataSource\"},{\"attributes\":{\"source\":{\"id\":\"3850\",\"type\":\"ColumnDataSource\"}},\"id\":\"3854\",\"type\":\"CDSView\"},{\"attributes\":{\"source\":{\"id\":\"3746\",\"type\":\"ColumnDataSource\"}},\"id\":\"3747\",\"type\":\"CDSView\"},{\"attributes\":{},\"id\":\"3878\",\"type\":\"UnionRenderers\"},{\"attributes\":{\"label\":{\"value\":\"Boundary in Omega\"},\"renderers\":[{\"id\":\"3774\",\"type\":\"GlyphRenderer\"},{\"id\":\"3799\",\"type\":\"GlyphRenderer\"},{\"id\":\"3825\",\"type\":\"GlyphRenderer\"},{\"id\":\"3853\",\"type\":\"GlyphRenderer\"}]},\"id\":\"3795\",\"type\":\"LegendItem\"},{\"attributes\":{},\"id\":\"3879\",\"type\":\"Selection\"},{\"attributes\":{\"fill_alpha\":{\"value\":0.8},\"fill_color\":{\"value\":\"blue\"},\"line_alpha\":{\"value\":0},\"line_color\":{\"value\":\"DodgerBlue\"},\"size\":{\"units\":\"screen\",\"value\":5},\"x\":{\"field\":\"x\"},\"y\":{\"field\":\"y\"}},\"id\":\"3749\",\"type\":\"Circle\"},{\"attributes\":{\"fill_alpha\":{\"value\":0.1},\"fill_color\":{\"value\":\"#1f77b4\"},\"line_alpha\":{\"value\":0.1},\"line_color\":{\"value\":\"#1f77b4\"},\"size\":{\"units\":\"screen\",\"value\":5},\"x\":{\"field\":\"x\"},\"y\":{\"field\":\"y\"}},\"id\":\"3750\",\"type\":\"Circle\"},{\"attributes\":{\"fill_color\":{\"value\":\"green\"},\"line_alpha\":{\"value\":0.8},\"line_color\":{\"value\":\"green\"},\"size\":{\"units\":\"screen\",\"value\":5.5},\"x\":{\"field\":\"x\"},\"y\":{\"field\":\"y\"}},\"id\":\"3881\",\"type\":\"Circle\"},{\"attributes\":{\"fill_alpha\":{\"value\":0.2},\"fill_color\":{\"value\":\"#1f77b4\"},\"line_alpha\":{\"value\":0.2},\"line_color\":{\"value\":\"#1f77b4\"},\"size\":{\"units\":\"screen\",\"value\":5},\"x\":{\"field\":\"x\"},\"y\":{\"field\":\"y\"}},\"id\":\"3751\",\"type\":\"Circle\"},{\"attributes\":{\"fill_alpha\":{\"value\":0.1},\"fill_color\":{\"value\":\"#1f77b4\"},\"line_alpha\":{\"value\":0.1},\"line_color\":{\"value\":\"#1f77b4\"},\"size\":{\"units\":\"screen\",\"value\":5.5},\"x\":{\"field\":\"x\"},\"y\":{\"field\":\"y\"}},\"id\":\"3882\",\"type\":\"Circle\"},{\"attributes\":{},\"id\":\"3911\",\"type\":\"Selection\"},{\"attributes\":{\"data_source\":{\"id\":\"3746\",\"type\":\"ColumnDataSource\"},\"glyph\":{\"id\":\"3749\",\"type\":\"Circle\"},\"hover_glyph\":null,\"muted_glyph\":{\"id\":\"3751\",\"type\":\"Circle\"},\"nonselection_glyph\":{\"id\":\"3750\",\"type\":\"Circle\"},\"selection_glyph\":null,\"view\":{\"id\":\"3747\",\"type\":\"CDSView\"}},\"id\":\"3752\",\"type\":\"GlyphRenderer\"},{\"attributes\":{\"data_source\":{\"id\":\"3880\",\"type\":\"ColumnDataSource\"},\"glyph\":{\"id\":\"3881\",\"type\":\"Circle\"},\"hover_glyph\":null,\"muted_glyph\":null,\"nonselection_glyph\":{\"id\":\"3882\",\"type\":\"Circle\"},\"selection_glyph\":null,\"view\":{\"id\":\"3884\",\"type\":\"CDSView\"}},\"id\":\"3883\",\"type\":\"GlyphRenderer\"},{\"attributes\":{},\"id\":\"3768\",\"type\":\"UnionRenderers\"},{\"attributes\":{\"source\":{\"id\":\"3880\",\"type\":\"ColumnDataSource\"}},\"id\":\"3884\",\"type\":\"CDSView\"},{\"attributes\":{},\"id\":\"3769\",\"type\":\"Selection\"},{\"attributes\":{\"label\":{\"value\":\"Localities in Omega\"},\"renderers\":[{\"id\":\"3752\",\"type\":\"GlyphRenderer\"}]},\"id\":\"3770\",\"type\":\"LegendItem\"},{\"attributes\":{},\"id\":\"3910\",\"type\":\"UnionRenderers\"},{\"attributes\":{\"callback\":null,\"data\":{\"x\":{\"__ndarray__\":\"AAAAAAAALkBVVVVVVVUuQKuqqqqqqixAAAAAAACAK0AAAAAAAAArQFVVVVVVVSpAAAAAAAAAKkAAAAAAAAAoQAAAAAAAgCdAq6qqqqqqJkCrqqqqqqokQAAAAAAAACJAAAAAAACAIEAAAAAAAAAdQAAAAAAAABpAAAAAAAAAGUCrqqqqqqoWQAAAAAAAABVAVVVVVVVVFUCrqqqqqqoWQKuqqqqqqhZAAAAAAAAAFkBVVVVVVVUVQAAAAAAAABZAq6qqqqqqFkCrqqqqqqoUQAAAAAAAABZAVVVVVVVVFUCrqqqqqqoUQKuqqqqqqhRAAAAAAAAAFEAAAAAAAAAWQKuqqqqqqhRAAAAAAAAAEUCrqqqqqqoRQFVVVVVVVRRAAAAAAAAAFEAAAAAAAAAEQAAAAAAAAAhAVVVVVVVVDUBVVVVVVVUQQFVVVVVVVRFAq6qqqqqqEkBVVVVVVVUUQFVVVVVVVRVAAAAAAAAAGEAAAAAAAAAYQAAAAAAAABhAAAAAAAAAF0CrqqqqqqoYQAAAAAAAABlAAAAAAAAAGkCrqqqqqqoaQAAAAAAAAB1AAAAAAAAAHkAAAAAAAAAeQKuqqqqqqh5AAAAAAAAAIEAAAAAAAAAhQKuqqqqqqiFAAAAAAACAIkAAAAAAAIAjQAAAAAAAgCRAq6qqqqqqJUAAAAAAAIAlQKuqqqqqqiZAAAAAAAAAJ0AAAAAAAIAnQAAAAAAAAChAAAAAAAAAKEBVVVVVVVUoQAAAAAAAgChAVVVVVVXVKUAAAAAAAAApQFVVVVVVVSlAAAAAAAAAKkAAAAAAAAArQAAAAAAAACxAVVVVVVVVLUAAAAAAAAAuQFVVVVVVVS9AVVVVVVXVL0AAAAAAAAAvQAAAAAAAADBAVVVVVVVVMEBVVVVVVdUwQAAAAAAAQDFAAAAAAACAMUBVVVVVVdUxQAAAAAAAgDJAAAAAAAAAMkAAAAAAAEAyQAAAAAAAgDJAAAAAAADAMkAAAAAAAAAzQAAAAAAAgDNAVVVVVVVVNEA=\",\"dtype\":\"float64\",\"shape\":[97]},\"y\":{\"__ndarray__\":\"q6qqqqrqRkCrqqqqqopGQAAAAAAAgEZAVVVVVVU1RkAAAAAAACBGQFVVVVVVVUZAVVVVVVXVRkAAAAAAAMBGQFVVVVVVtUZAAAAAAADgRkBVVVVVVdVGQAAAAAAA4EZAq6qqqqrqRkAAAAAAAIBGQAAAAAAAwEZAAAAAAADARkAAAAAAAMBGQFVVVVVVlUZAAAAAAACARkBVVVVVVVVGQKuqqqqqKkZAAAAAAAAARkBVVVVVVdVFQAAAAAAAoEVAAAAAAABgRUAAAAAAAEBFQAAAAAAAIEVAq6qqqqrqRECrqqqqqqpEQKuqqqqqakRAVVVVVVVVREBVVVVVVRVEQAAAAAAAIERAAAAAAADgQ0AAAAAAAMBDQFVVVVVVtUNAAAAAAACAQ0AAAAAAACBDQKuqqqqq6kJAAAAAAADgQkBVVVVVVdVCQAAAAAAAwEJAq6qqqqqqQkBVVVVVVZVCQAAAAAAAgEJAAAAAAABgQkCrqqqqqmpCQKuqqqqqKkJAAAAAAAAAQkBVVVVVVRVCQFVVVVVVVUJAAAAAAABAQkCrqqqqqipCQFVVVVVVFUJAVVVVVVUVQkAAAAAAACBCQFVVVVVVVUJAq6qqqqoKQkAAAAAAAIBCQAAAAAAAwEJAAAAAAACgQkAAAAAAAKBCQAAAAAAAoEJAq6qqqqqKQkBVVVVVVZVCQKuqqqqqikJAq6qqqqoqQkBVVVVVVZVCQAAAAAAAoEJAq6qqqqqqQkAAAAAAAMBCQFVVVVVV9UJAq6qqqqoKQ0AAAAAAAEBDQKuqqqqqSkNAAAAAAABgQ0AAAAAAAGBDQKuqqqqqKkNAVVVVVVV1Q0AAAAAAAIBDQAAAAAAAwENAVVVVVVXVQ0AAAAAAAABEQAAAAAAAQERAVVVVVVVVREAAAAAAAGBEQAAAAAAAgERAAAAAAACARECrqqqqqqpEQAAAAAAAwERAAAAAAADgREAAAAAAAABFQFVVVVVVFUVAq6qqqqoqRUAAAAAAAEBFQAAAAAAAQEVAq6qqqqoqRUA=\",\"dtype\":\"float64\",\"shape\":[97]}},\"selected\":{\"id\":\"3821\",\"type\":\"Selection\"},\"selection_policy\":{\"id\":\"3820\",\"type\":\"UnionRenderers\"}},\"id\":\"3771\",\"type\":\"ColumnDataSource\"},{\"attributes\":{\"line_color\":\"DodgerBlue\",\"line_width\":2,\"x\":{\"field\":\"x\"},\"y\":{\"field\":\"y\"}},\"id\":\"3772\",\"type\":\"Line\"},{\"attributes\":{\"label\":{\"value\":\"Same Localities in Xi and Omega\"},\"renderers\":[{\"id\":\"3883\",\"type\":\"GlyphRenderer\"}]},\"id\":\"3912\",\"type\":\"LegendItem\"},{\"attributes\":{\"line_alpha\":0.1,\"line_color\":\"#1f77b4\",\"line_width\":2,\"x\":{\"field\":\"x\"},\"y\":{\"field\":\"y\"}},\"id\":\"3773\",\"type\":\"Line\"},{\"attributes\":{\"data_source\":{\"id\":\"3771\",\"type\":\"ColumnDataSource\"},\"glyph\":{\"id\":\"3772\",\"type\":\"Line\"},\"hover_glyph\":null,\"muted_glyph\":null,\"nonselection_glyph\":{\"id\":\"3773\",\"type\":\"Line\"},\"selection_glyph\":null,\"view\":{\"id\":\"3775\",\"type\":\"CDSView\"}},\"id\":\"3774\",\"type\":\"GlyphRenderer\"},{\"attributes\":{\"line_alpha\":{\"value\":0.1},\"line_color\":{\"value\":\"#1f77b4\"},\"x0\":{\"field\":\"x0\"},\"x1\":{\"field\":\"x1\"},\"y0\":{\"field\":\"y0\"},\"y1\":{\"field\":\"y1\"}},\"id\":\"3915\",\"type\":\"Segment\"},{\"attributes\":{\"source\":{\"id\":\"3771\",\"type\":\"ColumnDataSource\"}},\"id\":\"3775\",\"type\":\"CDSView\"},{\"attributes\":{},\"id\":\"3793\",\"type\":\"UnionRenderers\"},{\"attributes\":{\"callback\":null,\"data\":{\"x0\":{\"__ndarray__\":\"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\",\"dtype\":\"float64\",\"shape\":[503]},\"x1\":{\"__ndarray__\":\"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\",\"dtype\":\"float64\",\"shape\":[503]},\"y0\":{\"__ndarray__\":\"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\",\"dtype\":\"float64\",\"shape\":[503]},\"y1\":{\"__ndarray__\":\"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\",\"dtype\":\"float64\",\"shape\":[503]}},\"selected\":{\"id\":\"4093\",\"type\":\"Selection\"},\"selection_policy\":{\"id\":\"4092\",\"type\":\"UnionRenderers\"}},\"id\":\"3913\",\"type\":\"ColumnDataSource\"},{\"attributes\":{},\"id\":\"3794\",\"type\":\"Selection\"},{\"attributes\":{\"line_color\":{\"value\":\"grey\"},\"x0\":{\"field\":\"x0\"},\"x1\":{\"field\":\"x1\"},\"y0\":{\"field\":\"y0\"},\"y1\":{\"field\":\"y1\"}},\"id\":\"3914\",\"type\":\"Segment\"},{\"attributes\":{\"data_source\":{\"id\":\"3913\",\"type\":\"ColumnDataSource\"},\"glyph\":{\"id\":\"3914\",\"type\":\"Segment\"},\"hover_glyph\":null,\"muted_glyph\":null,\"nonselection_glyph\":{\"id\":\"3915\",\"type\":\"Segment\"},\"selection_glyph\":null,\"view\":{\"id\":\"3917\",\"type\":\"CDSView\"}},\"id\":\"3916\",\"type\":\"GlyphRenderer\"},{\"attributes\":{\"callback\":null,\"data\":{\"x\":{\"__ndarray__\":\"VVVVVVVVEEBVVVVVVVUZQAAAAAAAACJAAAAAAAAAKEA=\",\"dtype\":\"float64\",\"shape\":[4]},\"y\":{\"__ndarray__\":\"VVVVVVXVQkAAAAAAAIBDQAAAAAAAgENAAAAAAACgQkA=\",\"dtype\":\"float64\",\"shape\":[4]}},\"selected\":{\"id\":\"3849\",\"type\":\"Selection\"},\"selection_policy\":{\"id\":\"3848\",\"type\":\"UnionRenderers\"}},\"id\":\"3796\",\"type\":\"ColumnDataSource\"},{\"attributes\":{\"line_color\":\"DodgerBlue\",\"line_width\":2,\"x\":{\"field\":\"x\"},\"y\":{\"field\":\"y\"}},\"id\":\"3797\",\"type\":\"Line\"},{\"attributes\":{\"source\":{\"id\":\"3913\",\"type\":\"ColumnDataSource\"}},\"id\":\"3917\",\"type\":\"CDSView\"},{\"attributes\":{\"line_alpha\":0.1,\"line_color\":\"#1f77b4\",\"line_width\":2,\"x\":{\"field\":\"x\"},\"y\":{\"field\":\"y\"}},\"id\":\"3798\",\"type\":\"Line\"},{\"attributes\":{},\"id\":\"4091\",\"type\":\"Selection\"},{\"attributes\":{},\"id\":\"4090\",\"type\":\"UnionRenderers\"},{\"attributes\":{\"data_source\":{\"id\":\"3796\",\"type\":\"ColumnDataSource\"},\"glyph\":{\"id\":\"3797\",\"type\":\"Line\"},\"hover_glyph\":null,\"muted_glyph\":null,\"nonselection_glyph\":{\"id\":\"3798\",\"type\":\"Line\"},\"selection_glyph\":null,\"view\":{\"id\":\"3800\",\"type\":\"CDSView\"}},\"id\":\"3799\",\"type\":\"GlyphRenderer\"},{\"attributes\":{},\"id\":\"4093\",\"type\":\"Selection\"},{\"attributes\":{\"source\":{\"id\":\"3796\",\"type\":\"ColumnDataSource\"}},\"id\":\"3800\",\"type\":\"CDSView\"},{\"attributes\":{},\"id\":\"4092\",\"type\":\"UnionRenderers\"},{\"attributes\":{\"callback\":null,\"end\":47,\"start\":35.5},\"id\":\"3635\",\"type\":\"Range1d\"},{\"attributes\":{},\"id\":\"3637\",\"type\":\"LinearScale\"},{\"attributes\":{},\"id\":\"3639\",\"type\":\"LinearScale\"},{\"attributes\":{\"formatter\":{\"id\":\"3669\",\"type\":\"BasicTickFormatter\"},\"ticker\":{\"id\":\"3642\",\"type\":\"BasicTicker\"}},\"id\":\"3641\",\"type\":\"LinearAxis\"},{\"attributes\":{},\"id\":\"3642\",\"type\":\"BasicTicker\"},{\"attributes\":{\"ticker\":{\"id\":\"3642\",\"type\":\"BasicTicker\"}},\"id\":\"3645\",\"type\":\"Grid\"},{\"attributes\":{\"formatter\":{\"id\":\"3671\",\"type\":\"BasicTickFormatter\"},\"ticker\":{\"id\":\"3647\",\"type\":\"BasicTicker\"}},\"id\":\"3646\",\"type\":\"LinearAxis\"},{\"attributes\":{},\"id\":\"3647\",\"type\":\"BasicTicker\"},{\"attributes\":{\"dimension\":1,\"ticker\":{\"id\":\"3647\",\"type\":\"BasicTicker\"}},\"id\":\"3650\",\"type\":\"Grid\"},{\"attributes\":{\"line_alpha\":0.1,\"line_color\":\"#1f77b4\",\"line_width\":2,\"x\":{\"field\":\"x\"},\"y\":{\"field\":\"y\"}},\"id\":\"3679\",\"type\":\"Line\"},{\"attributes\":{\"source\":{\"id\":\"3662\",\"type\":\"ColumnDataSource\"}},\"id\":\"3663\",\"type\":\"CDSView\"},{\"attributes\":{\"active_drag\":\"auto\",\"active_inspect\":\"auto\",\"active_multi\":null,\"active_scroll\":\"auto\",\"active_tap\":\"auto\",\"tools\":[{\"id\":\"3651\",\"type\":\"HoverTool\"},{\"id\":\"3652\",\"type\":\"BoxSelectTool\"},{\"id\":\"3653\",\"type\":\"BoxZoomTool\"},{\"id\":\"3654\",\"type\":\"WheelZoomTool\"},{\"id\":\"3655\",\"type\":\"ResetTool\"}]},\"id\":\"3656\",\"type\":\"Toolbar\"},{\"attributes\":{\"callback\":null,\"tooltips\":[[\"index\",\"$index\"],[\"(x,y)\",\"($x, $y)\"]]},\"id\":\"3651\",\"type\":\"HoverTool\"},{\"attributes\":{\"callback\":null,\"overlay\":{\"id\":\"3673\",\"type\":\"BoxAnnotation\"}},\"id\":\"3652\",\"type\":\"BoxSelectTool\"},{\"attributes\":{\"overlay\":{\"id\":\"3674\",\"type\":\"BoxAnnotation\"}},\"id\":\"3653\",\"type\":\"BoxZoomTool\"},{\"attributes\":{},\"id\":\"3654\",\"type\":\"WheelZoomTool\"},{\"attributes\":{\"callback\":null,\"data\":{\"x\":[\"NaN\",\"NaN\",\"NaN\",\"NaN\",4.083333333333333,4.333333333333333,6.333333333333333,9.0,12.0,14.0,\"NaN\",\"NaN\",\"NaN\",\"NaN\",\"NaN\",4.666666666666667,5.083333333333333,5.333333333333333,12.0,6.0,\"NaN\",6.0,5.75,6.166666666666667,6.25,\"NaN\",6.5,6.833333333333333,7.25,7.5,7.5,\"NaN\",7.666666666666667,8.0,8.5,8.833333333333334,9.25,9.75,10.25,10.75,11.333333333333334,11.5,\"NaN\",11.75,\"NaN\",\"NaN\",9.166666666666666,9.5,9.0,9.75,9.25,10.0,9.333333333333334,8.75,10.166666666666666,8.75,8.666666666666666,8.25,8.75,8.0,7.5,7.0,6.75,6.5,9.5,9.083333333333334,9.5,9.833333333333334,9.666666666666666,10.166666666666666,10.25,10.833333333333334,10.25,11.166666666666666,\"NaN\",\"NaN\",4.666666666666667,4.666666666666667,5.0,5.166666666666667,5.666666666666667,6.0,5.5,5.166666666666667,5.666666666666667,5.666666666666667,5.5,6.0,6.083333333333333,6.5,7.0,6.333333333333333,7.0,6.5,6.083333333333333,7.0,6.5,6.5,7.666666666666667,7.166666666666667,8.0,7.0,7.333333333333333,7.666666666666667,7.25,8.0,7.666666666666667,7.166666666666667,7.5,7.25,8.5,8.666666666666666,8.583333333333334,8.25,8.166666666666666,\"NaN\",5.833333333333333,6.5,6.0,6.5,6.25,\"NaN\",6.0,7.333333333333333,5.166666666666667,\"NaN\",\"NaN\",5.333333333333333,9.333333333333334,12.666666666666666,\"NaN\",\"NaN\",\"NaN\",\"NaN\",3.6666666666666665,3.0,2.5,5.0,5.083333333333333,4.916666666666667,\"NaN\",4.833333333333333,5.166666666666667,5.666666666666667,9.0,11.666666666666666,5.0,5.166666666666667,5.5,5.333333333333333,\"NaN\",\"NaN\",5.333333333333333,5.25,\"NaN\",5.75,5.333333333333333,6.0,5.333333333333333,5.666666666666667,6.166666666666667,5.666666666666667,6.166666666666667,6.5,\"NaN\",\"NaN\",5.833333333333333,5.666666666666667,6.0,7.5,6.666666666666667,7.25,6.666666666666667,7.666666666666667,5.5,5.666666666666667,6.0,6.333333333333333,6.666666666666667,7.166666666666667,7.666666666666667,6.833333333333333,6.666666666666667,8.0,7.333333333333333,7.833333333333333,7.666666666666667,7.0,7.0,7.833333333333333,7.333333333333333,8.0,7.333333333333333,7.666666666666667,8.5,\"NaN\",8.5,8.0,8.833333333333334,8.0,8.833333333333334,8.166666666666666,8.833333333333334,8.333333333333334,8.666666666666666,8.833333333333334,8.5,\"NaN\",3.0,\"NaN\",\"NaN\",\"NaN\",5.5,5.5,5.666666666666667,5.5,5.333333333333333,11.5,\"NaN\",5.5,5.666666666666667,\"NaN\",5.666666666666667,5.666666666666667,5.25,\"NaN\",\"NaN\",5.666666666666667,6.25,6.5,\"NaN\",6.75,8.25,9.0,10.333333333333334,11.666666666666666,\"NaN\",11.75,12.0,\"NaN\",13.0,\"NaN\",13.166666666666666,13.5,\"NaN\",13.833333333333334,\"NaN\",14.333333333333334,\"NaN\",15.166666666666666,15.166666666666666,\"NaN\",20.333333333333332,17.0,\"NaN\",\"NaN\",12.0,\"NaN\",12.0,\"NaN\",12.166666666666666,12.25,12.5,12.5,12.5,13.0,13.5,14.0,\"NaN\",14.5,15.0,15.083333333333334,\"NaN\",15.833333333333334,15.5,16.0,14.0,12.5,\"NaN\",16.333333333333332,16.833333333333332,\"NaN\",17.25,17.5,17.833333333333332,18.5,18.0,18.25,\"NaN\",18.5,18.75,19.0,19.5,20.333333333333332,\"NaN\",9.0,11.5,14.666666666666666,16.0,14.0,14.333333333333334,12.0,14.0,\"NaN\",5.75,6.166666666666667,\"NaN\",8.25,8.5,9.333333333333334,10.166666666666666,10.166666666666666,7.0,6.333333333333333,7.0,8.333333333333334,8.833333333333334,\"NaN\",6.416666666666667,7.416666666666667,\"NaN\",6.333333333333333,\"NaN\",7.166666666666667,\"NaN\",7.833333333333333,\"NaN\",8.5,8.5,\"NaN\",11.0,11.5,11.0,9.333333333333334,0.0,13.5,11.166666666666666,8.5,0.0,9.0,\"NaN\",10.0,\"NaN\",10.666666666666666,\"NaN\",11.166666666666666,\"NaN\",11.583333333333334,\"NaN\",10.333333333333334,\"NaN\",9.5,\"NaN\",9.5,\"NaN\",7.5,\"NaN\",8.0,\"NaN\",6.333333333333333,6.833333333333333,7.666666666666667,8.333333333333334,8.5,6.0,\"NaN\",6.5,\"NaN\",6.0,\"NaN\",6.0,\"NaN\",7.333333333333333,\"NaN\",6.833333333333333,\"NaN\",8.333333333333334,\"NaN\",7.125,\"NaN\",7.333333333333333,\"NaN\",8.166666666666666,\"NaN\",8.0,\"NaN\",9.75,10.25,11.0,9.666666666666666,10.0,10.666666666666666,13.0,9.166666666666666,9.666666666666666,9.083333333333334,9.333333333333334,9.833333333333334,10.333333333333334,9.0,9.666666666666666,10.0,9.666666666666666,10.166666666666666,9.0,9.666666666666666,\"NaN\",\"NaN\",12.166666666666666,12.666666666666666,12.0,11.833333333333334,12.5,11.666666666666666,12.166666666666666,11.75,\"NaN\",12.0,11.5,11.833333333333334,11.166666666666666,12.0,\"NaN\",13.0,13.0,12.5,13.0,13.25,12.666666666666666,13.0,\"NaN\",\"NaN\",11.166666666666666,11.5,12.166666666666666,\"NaN\",\"NaN\",13.0,13.0,13.5,\"NaN\",\"NaN\",11.0,11.0,11.5,11.833333333333334,12.5,11.833333333333334,12.666666666666666,12.5,13.5,13.25,\"NaN\",\"NaN\",9.666666666666666,10.5,11.0,11.166666666666666,12.0,13.0,11.666666666666666,10.0,10.833333333333334,11.333333333333334,9.416666666666666,10.75,10.333333333333334,11.0,10.5,9.833333333333334,10.5,10.833333333333334,\"NaN\",13.666666666666666,13.166666666666666,14.0,14.75,13.416666666666666,12.166666666666666,13.0,13.5,12.5,13.166666666666666,13.833333333333334,12.75,13.333333333333334,12.5,11.5,12.0,12.333333333333334,11.666666666666666,\"NaN\",9.333333333333334,10.0,9.166666666666666,10.0,9.5,10.666666666666666,11.416666666666666,9.5,9.75,10.416666666666666,11.0,10.0,10.666666666666666,10.333333333333334,\"NaN\",\"NaN\",13.5,\"NaN\",\"NaN\",13.333333333333334,13.0,13.5,12.0,12.5,11.666666666666666,12.0,11.333333333333334,11.0,11.5,10.833333333333334,11.166666666666666,11.5,11.166666666666666,11.75,\"NaN\",\"NaN\",13.75,14.0,13.166666666666666,13.666666666666666,12.333333333333334,12.333333333333334,\"NaN\",\"NaN\",14.5,14.166666666666666,14.666666666666666,14.166666666666666,14.666666666666666,14.166666666666666,14.666666666666666,14.25,14.333333333333334,14.833333333333334,14.416666666666666,14.583333333333334,\"NaN\",\"NaN\",16.333333333333332,14.916666666666666,15.25,15.666666666666666,15.5,15.083333333333334,15.25,\"NaN\",\"NaN\",\"NaN\",13.666666666666666,13.666666666666666,13.916666666666666,\"NaN\",\"NaN\",14.0,14.5,13.833333333333334,14.583333333333334,14.5,13.666666666666666,14.0,\"NaN\",\"NaN\",15.416666666666666,15.0,15.5,15.5,15.583333333333334,14.833333333333334,15.5,15.0,14.666666666666666,15.0,14.5,14.75,14.333333333333334,14.666666666666666,14.666666666666666,\"NaN\",\"NaN\",16.5,16.0,15.5,15.75,15.166666666666666,16.0,15.166666666666666,15.5,15.0,15.416666666666666,\"NaN\",17.333333333333332,\"NaN\",13.666666666666666,16.166666666666668,17.0,17.916666666666668,\"NaN\",17.916666666666668,17.916666666666668,17.166666666666668,17.5,\"NaN\",\"NaN\",16.333333333333332,16.5,16.0,16.666666666666668,16.0,15.666666666666666,16.75,15.5,16.333333333333332,15.833333333333334,\"NaN\",17.833333333333332,18.166666666666668,\"NaN\",17.333333333333332,\"NaN\",9.0,\"NaN\",4.0,4.666666666666667,\"NaN\",14.833333333333334,14.0,\"NaN\",\"NaN\",16.166666666666668,16.75,\"NaN\",17.166666666666668,17.5],\"y\":[\"NaN\",\"NaN\",\"NaN\",\"NaN\",37.666666666666664,37.5,39.0,39.0,37.25,40.0,\"NaN\",\"NaN\",\"NaN\",\"NaN\",\"NaN\",37.333333333333336,37.166666666666664,37.0,38.5,36.75,\"NaN\",36.333333333333336,36.083333333333336,36.083333333333336,36.083333333333336,\"NaN\",36.166666666666664,36.083333333333336,36.5,36.166666666666664,36.25,\"NaN\",36.666666666666664,36.916666666666664,37.0,37.166666666666664,37.166666666666664,37.75,37.25,37.166666666666664,37.083333333333336,36.833333333333336,\"NaN\",37.166666666666664,\"NaN\",\"NaN\",38.833333333333336,38.666666666666664,38.5,38.166666666666664,38.333333333333336,38.25,38.333333333333336,38.0,38.0,37.75,37.666666666666664,37.333333333333336,37.333333333333336,37.166666666666664,37.0,36.666666666666664,36.5,36.333333333333336,38.0,37.75,37.5,37.5,37.666666666666664,37.75,37.5,37.5,37.333333333333336,37.333333333333336,\"NaN\",\"NaN\",38.0,37.75,37.25,38.25,38.333333333333336,38.0,37.75,37.5,37.5,37.333333333333336,37.166666666666664,37.0,38.333333333333336,38.083333333333336,38.0,37.833333333333336,37.666666666666664,37.5,37.25,37.333333333333336,37.083333333333336,37.833333333333336,38.916666666666664,38.916666666666664,38.666666666666664,38.416666666666664,38.333333333333336,37.166666666666664,37.833333333333336,37.833333333333336,37.5,37.5,37.083333333333336,37.083333333333336,38.833333333333336,38.916666666666664,38.083333333333336,38.333333333333336,38.0,\"NaN\",38.833333333333336,38.833333333333336,38.666666666666664,38.416666666666664,38.416666666666664,\"NaN\",37.666666666666664,37.5,36.666666666666664,\"NaN\",\"NaN\",41.833333333333336,41.833333333333336,41.666666666666664,\"NaN\",\"NaN\",\"NaN\",\"NaN\",37.75,37.916666666666664,38.25,39.0,39.416666666666664,39.833333333333336,\"NaN\",39.833333333333336,40.25,40.5,40.5,40.75,42.666666666666664,40.833333333333336,41.333333333333336,41.833333333333336,\"NaN\",\"NaN\",39.0,38.75,\"NaN\",40.25,40.0,40.0,39.75,39.583333333333336,39.666666666666664,39.333333333333336,39.333333333333336,39.083333333333336,\"NaN\",\"NaN\",41.75,41.5,41.333333333333336,40.833333333333336,41.5,41.083333333333336,41.083333333333336,41.0,40.833333333333336,40.5,40.916666666666664,40.75,40.5,40.75,40.5,40.25,40.0,40.25,40.0,39.75,39.5,39.333333333333336,39.083333333333336,39.916666666666664,39.666666666666664,39.5,39.25,39.083333333333336,39.5,\"NaN\",41.666666666666664,41.5,41.833333333333336,41.25,40.75,41.0,41.0,40.75,40.666666666666664,40.416666666666664,40.083333333333336,\"NaN\",41.0,\"NaN\",\"NaN\",\"NaN\",42.25,42.5,42.75,43.25,43.666666666666664,44.25,\"NaN\",44.0,44.333333333333336,\"NaN\",44.666666666666664,45.0,45.166666666666664,\"NaN\",\"NaN\",45.166666666666664,45.5,45.5,\"NaN\",45.0,45.833333333333336,45.75,45.666666666666664,45.75,\"NaN\",45.416666666666664,45.166666666666664,\"NaN\",45.5,\"NaN\",44.666666666666664,44.25,\"NaN\",44.083333333333336,\"NaN\",45.0,\"NaN\",45.083333333333336,45.833333333333336,\"NaN\",42.333333333333336,43.0,\"NaN\",\"NaN\",37.25,\"NaN\",37.416666666666664,\"NaN\",37.5,37.916666666666664,38.166666666666664,38.5,38.583333333333336,38.75,38.75,38.833333333333336,\"NaN\",38.916666666666664,39.0,39.5,\"NaN\",39.333333333333336,40.0,40.5,42.0,44.0,\"NaN\",40.666666666666664,40.75,\"NaN\",41.0,41.25,41.333333333333336,41.333333333333336,41.75,42.0,\"NaN\",42.166666666666664,42.333333333333336,42.5,42.5,42.333333333333336,\"NaN\",45.0,44.5,42.5,43.0,41.5,39.0,37.666666666666664,39.666666666666664,\"NaN\",45.166666666666664,44.75,\"NaN\",45.083333333333336,45.333333333333336,45.333333333333336,45.333333333333336,45.083333333333336,44.75,43.75,43.666666666666664,44.416666666666664,44.583333333333336,\"NaN\",44.5,44.416666666666664,\"NaN\",44.333333333333336,\"NaN\",44.0,\"NaN\",44.75,\"NaN\",44.5,45.083333333333336,\"NaN\",45.0,44.5,44.583333333333336,44.75,0.0,43.75,43.75,44.166666666666664,0.0,44.5,\"NaN\",44.583333333333336,\"NaN\",44.416666666666664,\"NaN\",44.25,\"NaN\",44.833333333333336,\"NaN\",43.75,\"NaN\",43.666666666666664,\"NaN\",44.0,\"NaN\",43.75,\"NaN\",43.75,\"NaN\",43.416666666666664,43.5,43.416666666666664,43.416666666666664,43.083333333333336,41.916666666666664,\"NaN\",43.083333333333336,\"NaN\",42.583333333333336,\"NaN\",42.5,\"NaN\",43.333333333333336,\"NaN\",42.75,\"NaN\",42.75,\"NaN\",42.666666666666664,\"NaN\",42.333333333333336,\"NaN\",42.166666666666664,\"NaN\",42.0,\"NaN\",43.416666666666664,43.416666666666664,43.5,43.333333333333336,43.25,43.333333333333336,40.333333333333336,40.333333333333336,42.916666666666664,42.666666666666664,42.583333333333336,42.666666666666664,42.5,42.333333333333336,42.416666666666664,42.333333333333336,42.166666666666664,42.0,41.916666666666664,41.916666666666664,\"NaN\",\"NaN\",44.916666666666664,44.833333333333336,44.5,44.416666666666664,44.25,44.083333333333336,44.0,43.833333333333336,\"NaN\",43.666666666666664,43.5,43.416666666666664,43.083333333333336,43.166666666666664,\"NaN\",44.25,43.916666666666664,43.5,43.666666666666664,43.5,43.25,43.083333333333336,\"NaN\",\"NaN\",42.833333333333336,42.666666666666664,42.666666666666664,\"NaN\",\"NaN\",42.833333333333336,42.666666666666664,42.75,\"NaN\",\"NaN\",42.583333333333336,42.0,42.416666666666664,42.416666666666664,42.416666666666664,41.916666666666664,42.166666666666664,41.833333333333336,42.416666666666664,42.166666666666664,\"NaN\",\"NaN\",41.666666666666664,41.666666666666664,41.583333333333336,41.5,41.583333333333336,41.333333333333336,41.25,41.0,41.083333333333336,40.833333333333336,40.833333333333336,40.75,40.583333333333336,40.5,40.416666666666664,44.25,40.25,39.916666666666664,\"NaN\",41.916666666666664,41.333333333333336,41.75,41.5,41.416666666666664,41.0,41.0,41.083333333333336,40.75,40.833333333333336,40.5,40.583333333333336,40.5,40.416666666666664,40.25,40.333333333333336,40.166666666666664,39.75,\"NaN\",40.0,39.916666666666664,39.666666666666664,39.666666666666664,39.166666666666664,39.416666666666664,39.5,39.0,39.166666666666664,39.0,39.083333333333336,38.75,38.5,38.5,\"NaN\",\"NaN\",40.333333333333336,\"NaN\",\"NaN\",39.833333333333336,39.666666666666664,39.75,39.5,39.416666666666664,39.25,39.166666666666664,39.916666666666664,39.583333333333336,38.666666666666664,38.333333333333336,38.333333333333336,38.083333333333336,37.583333333333336,37.583333333333336,\"NaN\",\"NaN\",39.25,39.0,39.0,37.916666666666664,38.833333333333336,38.25,\"NaN\",\"NaN\",41.5,41.25,41.0,40.75,40.666666666666664,40.5,40.25,40.166666666666664,39.75,39.666666666666664,39.416666666666664,39.333333333333336,\"NaN\",\"NaN\",40.666666666666664,41.166666666666664,40.666666666666664,40.5,40.416666666666664,44.0,40.0,\"NaN\",\"NaN\",\"NaN\",44.0,43.75,43.333333333333336,\"NaN\",\"NaN\",43.833333333333336,43.75,43.5,43.5,43.25,43.166666666666664,42.833333333333336,\"NaN\",\"NaN\",43.916666666666664,43.75,43.75,43.5,43.416666666666664,43.25,43.25,41.0,42.916666666666664,42.75,42.416666666666664,42.5,42.416666666666664,42.25,41.916666666666664,\"NaN\",\"NaN\",43.0,42.75,42.5,42.833333333333336,42.166666666666664,42.166666666666664,41.916666666666664,41.666666666666664,41.5,41.416666666666664,\"NaN\",42.75,\"NaN\",42.166666666666664,42.5,42.25,42.25,\"NaN\",42.166666666666664,42.083333333333336,41.75,41.833333333333336,\"NaN\",\"NaN\",42.0,41.75,41.666666666666664,41.583333333333336,41.166666666666664,41.333333333333336,41.416666666666664,41.0,41.0,40.833333333333336,\"NaN\",42.583333333333336,42.333333333333336,\"NaN\",41.416666666666664,\"NaN\",46.75,\"NaN\",45.5,43.333333333333336,\"NaN\",38.333333333333336,38.083333333333336,\"NaN\",\"NaN\",39.25,39.25,\"NaN\",39.5,39.5]},\"selected\":{\"id\":\"3690\",\"type\":\"Selection\"},\"selection_policy\":{\"id\":\"3689\",\"type\":\"UnionRenderers\"}},\"id\":\"3662\",\"type\":\"ColumnDataSource\"},{\"attributes\":{},\"id\":\"3655\",\"type\":\"ResetTool\"},{\"attributes\":{\"data_source\":{\"id\":\"3677\",\"type\":\"ColumnDataSource\"},\"glyph\":{\"id\":\"3678\",\"type\":\"Line\"},\"hover_glyph\":null,\"muted_glyph\":null,\"nonselection_glyph\":{\"id\":\"3679\",\"type\":\"Line\"},\"selection_glyph\":null,\"view\":{\"id\":\"3681\",\"type\":\"CDSView\"}},\"id\":\"3680\",\"type\":\"GlyphRenderer\"},{\"attributes\":{\"fill_alpha\":{\"value\":0.7},\"fill_color\":{\"value\":\"red\"},\"line_alpha\":{\"value\":0},\"line_color\":{\"value\":\"Crimson\"},\"size\":{\"units\":\"screen\",\"value\":5},\"x\":{\"field\":\"x\"},\"y\":{\"field\":\"y\"}},\"id\":\"3665\",\"type\":\"Circle\"},{\"attributes\":{\"fill_alpha\":{\"value\":0.1},\"fill_color\":{\"value\":\"#1f77b4\"},\"line_alpha\":{\"value\":0.1},\"line_color\":{\"value\":\"#1f77b4\"},\"size\":{\"units\":\"screen\",\"value\":5},\"x\":{\"field\":\"x\"},\"y\":{\"field\":\"y\"}},\"id\":\"3666\",\"type\":\"Circle\"},{\"attributes\":{\"data_source\":{\"id\":\"3662\",\"type\":\"ColumnDataSource\"},\"glyph\":{\"id\":\"3665\",\"type\":\"Circle\"},\"hover_glyph\":null,\"muted_glyph\":null,\"nonselection_glyph\":{\"id\":\"3666\",\"type\":\"Circle\"},\"selection_glyph\":null,\"view\":{\"id\":\"3663\",\"type\":\"CDSView\"}},\"id\":\"3667\",\"type\":\"GlyphRenderer\"},{\"attributes\":{},\"id\":\"3669\",\"type\":\"BasicTickFormatter\"},{\"attributes\":{\"callback\":null,\"data\":{\"x\":{\"__ndarray__\":\"AAAAAAAAKUAAAAAAAAApQAAAAAAAgChAVVVVVVVVKEAAAAAAAAAoQFVVVVVVVS5AVVVVVVVVLkCrqqqqqqosQKuqqqqqqitAAAAAAAAAK0BVVVVVVVUqQAAAAAAAACpAAAAAAAAAKEAAAAAAAIAnQFVVVVVVVSdAq6qqqqqqJEAAAAAAAAAiQAAAAAAAgCBAAAAAAAAAG0AAAAAAAAAaQAAAAAAAABlAq6qqqqqqFkAAAAAAAAAVQKuqqqqqqhZAq6qqqqqqFkCrqqqqqqoWQAAAAAAAABZAVVVVVVVVFUAAAAAAAAAWQKuqqqqqqhRAAAAAAAAAFECrqqqqqqoWQKuqqqqqqhRAVVVVVVVVE0CrqqqqqqoTQFVVVVVVVRRAAAAAAAAAFEAAAAAAAAAEQAAAAAAAAAhAVVVVVVVVDUBVVVVVVVUQQFVVVVVVVRFAq6qqqqqqEkBVVVVVVVUUQFVVVVVVVRVAAAAAAAAAGEAAAAAAAAAYQAAAAAAAABdAq6qqqqqqGEAAAAAAAAAZQAAAAAAAABpAVVVVVVVVG0AAAAAAAAAdQAAAAAAAAB5AAAAAAAAAHkCrqqqqqqoeQAAAAAAAACBAAAAAAAAAIUCrqqqqqqohQAAAAAAAgCJAAAAAAACAI0AAAAAAAIAkQAAAAAAAgCVAq6qqqqqqJkAAAAAAAAAnQAAAAAAAgCdAAAAAAAAAKEAAAAAAAAArQAAAAAAAACxAAAAAAAAALUAAAAAAAAAuQKuqqqqqKi5Aq6qqqqqqL0AAAAAAAAAvQAAAAAAAADBAVVVVVVVVMEBVVVVVVdUwQAAAAAAAQDFAAAAAAACAMUBVVVVVVdUxQAAAAAAAgDJAAAAAAAAAMkAAAAAAAEAyQAAAAAAAgDJAAAAAAADAMkAAAAAAAAAzQAAAAAAAgDNAVVVVVVVVNEA=\",\"dtype\":\"float64\",\"shape\":[88]},\"y\":{\"__ndarray__\":\"AAAAAABAQ0BVVVVVVRVDQFVVVVVV9UJAAAAAAADAQkBVVVVVVbVCQKuqqqqq6kZAq6qqqqqKRkAAAAAAAIBGQKuqqqqqCkZAAAAAAAAgRkBVVVVVVVVGQAAAAAAAwEZAVVVVVVWVRkBVVVVVVbVGQAAAAAAA4EZAVVVVVVXVRkAAAAAAAOBGQKuqqqqq6kZAAAAAAACARkAAAAAAAMBGQAAAAAAAwEZAVVVVVVWVRkBVVVVVVZVGQAAAAAAAgEZAVVVVVVVVRkCrqqqqqipGQAAAAAAAAEZAq6qqqqrqRECrqqqqqqpEQKuqqqqqakRAVVVVVVVVRUAAAAAAAEBEQAAAAAAAIERAq6qqqqrqQ0CrqqqqqupDQFVVVVVVtUNAAAAAAACAQ0AAAAAAACBDQFVVVVVV9UJAAAAAAADgQkBVVVVVVdVCQAAAAAAAwEJAq6qqqqqqQkBVVVVVVZVCQAAAAAAAgEJAAAAAAABgQkCrqqqqqipCQKuqqqqqCkJAq6qqqqoKQkCrqqqqqgpCQFVVVVVVFUJAq6qqqqoKQkAAAAAAAEBCQFVVVVVVFUJAAAAAAAAgQkBVVVVVVVVCQFVVVVVVdUJAAAAAAACAQkBVVVVVVZVCQFVVVVVVlUJAAAAAAADgQkAAAAAAAKBCQFVVVVVVlUJAq6qqqqqKQkCrqqqqqmpCQFVVVVVVlUJAAAAAAACgQkAAAAAAAGBDQKuqqqqqakNAVVVVVVV1Q0AAAAAAAIBDQAAAAAAAwENAq6qqqqqqQ0AAAAAAAABEQAAAAAAAQERAVVVVVVVVREAAAAAAAGBEQAAAAAAAgERAAAAAAACgRECrqqqqqqpEQKuqqqqqqkRAAAAAAADgREAAAAAAAABFQFVVVVVVFUVAq6qqqqoqRUAAAAAAAEBFQAAAAAAAQEVAq6qqqqoqRUA=\",\"dtype\":\"float64\",\"shape\":[88]}},\"selected\":{\"id\":\"3707\",\"type\":\"Selection\"},\"selection_policy\":{\"id\":\"3706\",\"type\":\"UnionRenderers\"}},\"id\":\"3677\",\"type\":\"ColumnDataSource\"},{\"attributes\":{\"callback\":null,\"end\":22,\"start\":1.5},\"id\":\"3633\",\"type\":\"Range1d\"},{\"attributes\":{},\"id\":\"3671\",\"type\":\"BasicTickFormatter\"},{\"attributes\":{\"label\":{\"value\":\"Localities in Xi\"},\"renderers\":[{\"id\":\"3667\",\"type\":\"GlyphRenderer\"}]},\"id\":\"3676\",\"type\":\"LegendItem\"},{\"attributes\":{\"bottom_units\":\"screen\",\"fill_alpha\":{\"value\":0.5},\"fill_color\":{\"value\":\"lightgrey\"},\"left_units\":\"screen\",\"level\":\"overlay\",\"line_alpha\":{\"value\":1.0},\"line_color\":{\"value\":\"black\"},\"line_dash\":[4,4],\"line_width\":{\"value\":2},\"render_mode\":\"css\",\"right_units\":\"screen\",\"top_units\":\"screen\"},\"id\":\"3673\",\"type\":\"BoxAnnotation\"},{\"attributes\":{\"source\":{\"id\":\"3677\",\"type\":\"ColumnDataSource\"}},\"id\":\"3681\",\"type\":\"CDSView\"},{\"attributes\":{},\"id\":\"3689\",\"type\":\"UnionRenderers\"},{\"attributes\":{\"click_policy\":\"hide\",\"items\":[{\"id\":\"3676\",\"type\":\"LegendItem\"},{\"id\":\"3691\",\"type\":\"LegendItem\"},{\"id\":\"3770\",\"type\":\"LegendItem\"},{\"id\":\"3795\",\"type\":\"LegendItem\"},{\"id\":\"3912\",\"type\":\"LegendItem\"}]},\"id\":\"3675\",\"type\":\"Legend\"},{\"attributes\":{},\"id\":\"3690\",\"type\":\"Selection\"},{\"attributes\":{\"label\":{\"value\":\"Boundary in Xi \"},\"renderers\":[{\"id\":\"3680\",\"type\":\"GlyphRenderer\"},{\"id\":\"3695\",\"type\":\"GlyphRenderer\"},{\"id\":\"3711\",\"type\":\"GlyphRenderer\"},{\"id\":\"3729\",\"type\":\"GlyphRenderer\"}]},\"id\":\"3691\",\"type\":\"LegendItem\"},{\"attributes\":{\"callback\":null,\"data\":{\"x\":{\"__ndarray__\":\"VVVVVVVVEEBVVVVVVVUZQAAAAAAAACJAAAAAAAAAKEA=\",\"dtype\":\"float64\",\"shape\":[4]},\"y\":{\"__ndarray__\":\"VVVVVVXVQkAAAAAAAIBDQAAAAAAAgENAAAAAAACgQkA=\",\"dtype\":\"float64\",\"shape\":[4]}},\"selected\":{\"id\":\"3725\",\"type\":\"Selection\"},\"selection_policy\":{\"id\":\"3724\",\"type\":\"UnionRenderers\"}},\"id\":\"3692\",\"type\":\"ColumnDataSource\"},{\"attributes\":{\"line_color\":\"Crimson\",\"line_width\":2,\"x\":{\"field\":\"x\"},\"y\":{\"field\":\"y\"}},\"id\":\"3693\",\"type\":\"Line\"},{\"attributes\":{\"line_alpha\":0.1,\"line_color\":\"#1f77b4\",\"line_width\":2,\"x\":{\"field\":\"x\"},\"y\":{\"field\":\"y\"}},\"id\":\"3694\",\"type\":\"Line\"},{\"attributes\":{\"data_source\":{\"id\":\"3692\",\"type\":\"ColumnDataSource\"},\"glyph\":{\"id\":\"3693\",\"type\":\"Line\"},\"hover_glyph\":null,\"muted_glyph\":null,\"nonselection_glyph\":{\"id\":\"3694\",\"type\":\"Line\"},\"selection_glyph\":null,\"view\":{\"id\":\"3696\",\"type\":\"CDSView\"}},\"id\":\"3695\",\"type\":\"GlyphRenderer\"},{\"attributes\":{\"bottom_units\":\"screen\",\"fill_alpha\":{\"value\":0.5},\"fill_color\":{\"value\":\"lightgrey\"},\"left_units\":\"screen\",\"level\":\"overlay\",\"line_alpha\":{\"value\":1.0},\"line_color\":{\"value\":\"black\"},\"line_dash\":[4,4],\"line_width\":{\"value\":2},\"render_mode\":\"css\",\"right_units\":\"screen\",\"top_units\":\"screen\"},\"id\":\"3674\",\"type\":\"BoxAnnotation\"},{\"attributes\":{\"line_color\":\"Crimson\",\"line_width\":2,\"x\":{\"field\":\"x\"},\"y\":{\"field\":\"y\"}},\"id\":\"3678\",\"type\":\"Line\"},{\"attributes\":{\"source\":{\"id\":\"3692\",\"type\":\"ColumnDataSource\"}},\"id\":\"3696\",\"type\":\"CDSView\"},{\"attributes\":{\"text\":\"Comparison between Xi (red) and Omega (blue)\"},\"id\":\"3631\",\"type\":\"Title\"},{\"attributes\":{},\"id\":\"3706\",\"type\":\"UnionRenderers\"},{\"attributes\":{},\"id\":\"3707\",\"type\":\"Selection\"}],\"root_ids\":[\"3630\"]},\"title\":\"Bokeh Application\",\"version\":\"1.3.4\"}};\n",
       "  var render_items = [{\"docid\":\"e8093c9a-3c45-4e1f-b451-329251733905\",\"roots\":{\"3630\":\"3dbbae67-c471-49ab-a4ec-caa577036ccf\"}}];\n",
       "  root.Bokeh.embed.embed_items_notebook(docs_json, render_items);\n",
       "\n",
       "  }\n",
       "  if (root.Bokeh !== undefined) {\n",
       "    embed_document(root);\n",
       "  } else {\n",
       "    var attempts = 0;\n",
       "    var timer = setInterval(function(root) {\n",
       "      if (root.Bokeh !== undefined) {\n",
       "        embed_document(root);\n",
       "        clearInterval(timer);\n",
       "      }\n",
       "      attempts++;\n",
       "      if (attempts > 100) {\n",
       "        console.log(\"Bokeh: ERROR: Unable to run BokehJS code because BokehJS library is missing\");\n",
       "        clearInterval(timer);\n",
       "      }\n",
       "    }, 10, root)\n",
       "  }\n",
       "})(window);"
      ],
      "application/vnd.bokehjs_exec.v0+json": ""
     },
     "metadata": {
      "application/vnd.bokehjs_exec.v0+json": {
       "id": "3630"
      }
     },
     "output_type": "display_data"
    }
   ],
   "source": [
    "fig.plot_compare_recension(ob_dict,xb_dict,df_dict)"
   ]
  }
 ],
 "metadata": {
  "kernelspec": {
   "display_name": "Python 3",
   "language": "python",
   "name": "python3"
  },
  "language_info": {
   "codemirror_mode": {
    "name": "ipython",
    "version": 3
   },
   "file_extension": ".py",
   "mimetype": "text/x-python",
   "name": "python",
   "nbconvert_exporter": "python",
   "pygments_lexer": "ipython3",
   "version": "3.7.1"
  },
  "latex_envs": {
   "LaTeX_envs_menu_present": true,
   "autocomplete": true,
   "bibliofile": "biblio.bib",
   "cite_by": "apalike",
   "current_citInitial": 1,
   "eqLabelWithNumbers": true,
   "eqNumInitial": 1,
   "hotkeys": {
    "equation": "Ctrl-E",
    "itemize": "Ctrl-I"
   },
   "labels_anchors": false,
   "latex_user_defs": false,
   "report_style_numbering": false,
   "user_envs_cfg": false
  },
  "toc": {
   "colors": {
    "hover_highlight": "#DAA520",
    "running_highlight": "#FF0000",
    "selected_highlight": "#FFD700"
   },
   "moveMenuLeft": true,
   "navigate_menu": false,
   "number_sections": true,
   "sideBar": true,
   "threshold": 4,
   "toc_cell": false,
   "toc_section_display": "block",
   "toc_window_display": true,
   "widenNotebook": true
  }
 },
 "nbformat": 4,
 "nbformat_minor": 4
}
