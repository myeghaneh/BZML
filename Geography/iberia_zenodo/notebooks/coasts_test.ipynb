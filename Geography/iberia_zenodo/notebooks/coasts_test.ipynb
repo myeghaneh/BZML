{
 "cells": [
  {
   "cell_type": "markdown",
   "metadata": {},
   "source": [
    "# coasts and boundaries"
   ]
  },
  {
   "cell_type": "code",
   "execution_count": 1,
   "metadata": {
    "extensions": {
     "jupyter_dashboards": {
      "version": 1,
      "views": {
       "grid_default": {
        "hidden": true
       },
       "report_default": {
        "hidden": true
       }
      }
     }
    }
   },
   "outputs": [],
   "source": [
    "import numpy as np\n",
    "import pandas as pd"
   ]
  },
  {
   "cell_type": "code",
   "execution_count": 2,
   "metadata": {},
   "outputs": [
    {
     "data": {
      "text/html": [
       "\n",
       "    <div class=\"bk-root\">\n",
       "        <a href=\"https://bokeh.pydata.org\" target=\"_blank\" class=\"bk-logo bk-logo-small bk-logo-notebook\"></a>\n",
       "        <span id=\"1001\">Loading BokehJS ...</span>\n",
       "    </div>"
      ]
     },
     "metadata": {},
     "output_type": "display_data"
    },
    {
     "data": {
      "application/javascript": [
       "\n",
       "(function(root) {\n",
       "  function now() {\n",
       "    return new Date();\n",
       "  }\n",
       "\n",
       "  var force = true;\n",
       "\n",
       "  if (typeof root._bokeh_onload_callbacks === \"undefined\" || force === true) {\n",
       "    root._bokeh_onload_callbacks = [];\n",
       "    root._bokeh_is_loading = undefined;\n",
       "  }\n",
       "\n",
       "  var JS_MIME_TYPE = 'application/javascript';\n",
       "  var HTML_MIME_TYPE = 'text/html';\n",
       "  var EXEC_MIME_TYPE = 'application/vnd.bokehjs_exec.v0+json';\n",
       "  var CLASS_NAME = 'output_bokeh rendered_html';\n",
       "\n",
       "  /**\n",
       "   * Render data to the DOM node\n",
       "   */\n",
       "  function render(props, node) {\n",
       "    var script = document.createElement(\"script\");\n",
       "    node.appendChild(script);\n",
       "  }\n",
       "\n",
       "  /**\n",
       "   * Handle when an output is cleared or removed\n",
       "   */\n",
       "  function handleClearOutput(event, handle) {\n",
       "    var cell = handle.cell;\n",
       "\n",
       "    var id = cell.output_area._bokeh_element_id;\n",
       "    var server_id = cell.output_area._bokeh_server_id;\n",
       "    // Clean up Bokeh references\n",
       "    if (id != null && id in Bokeh.index) {\n",
       "      Bokeh.index[id].model.document.clear();\n",
       "      delete Bokeh.index[id];\n",
       "    }\n",
       "\n",
       "    if (server_id !== undefined) {\n",
       "      // Clean up Bokeh references\n",
       "      var cmd = \"from bokeh.io.state import curstate; print(curstate().uuid_to_server['\" + server_id + \"'].get_sessions()[0].document.roots[0]._id)\";\n",
       "      cell.notebook.kernel.execute(cmd, {\n",
       "        iopub: {\n",
       "          output: function(msg) {\n",
       "            var id = msg.content.text.trim();\n",
       "            if (id in Bokeh.index) {\n",
       "              Bokeh.index[id].model.document.clear();\n",
       "              delete Bokeh.index[id];\n",
       "            }\n",
       "          }\n",
       "        }\n",
       "      });\n",
       "      // Destroy server and session\n",
       "      var cmd = \"import bokeh.io.notebook as ion; ion.destroy_server('\" + server_id + \"')\";\n",
       "      cell.notebook.kernel.execute(cmd);\n",
       "    }\n",
       "  }\n",
       "\n",
       "  /**\n",
       "   * Handle when a new output is added\n",
       "   */\n",
       "  function handleAddOutput(event, handle) {\n",
       "    var output_area = handle.output_area;\n",
       "    var output = handle.output;\n",
       "\n",
       "    // limit handleAddOutput to display_data with EXEC_MIME_TYPE content only\n",
       "    if ((output.output_type != \"display_data\") || (!output.data.hasOwnProperty(EXEC_MIME_TYPE))) {\n",
       "      return\n",
       "    }\n",
       "\n",
       "    var toinsert = output_area.element.find(\".\" + CLASS_NAME.split(' ')[0]);\n",
       "\n",
       "    if (output.metadata[EXEC_MIME_TYPE][\"id\"] !== undefined) {\n",
       "      toinsert[toinsert.length - 1].firstChild.textContent = output.data[JS_MIME_TYPE];\n",
       "      // store reference to embed id on output_area\n",
       "      output_area._bokeh_element_id = output.metadata[EXEC_MIME_TYPE][\"id\"];\n",
       "    }\n",
       "    if (output.metadata[EXEC_MIME_TYPE][\"server_id\"] !== undefined) {\n",
       "      var bk_div = document.createElement(\"div\");\n",
       "      bk_div.innerHTML = output.data[HTML_MIME_TYPE];\n",
       "      var script_attrs = bk_div.children[0].attributes;\n",
       "      for (var i = 0; i < script_attrs.length; i++) {\n",
       "        toinsert[toinsert.length - 1].firstChild.setAttribute(script_attrs[i].name, script_attrs[i].value);\n",
       "      }\n",
       "      // store reference to server id on output_area\n",
       "      output_area._bokeh_server_id = output.metadata[EXEC_MIME_TYPE][\"server_id\"];\n",
       "    }\n",
       "  }\n",
       "\n",
       "  function register_renderer(events, OutputArea) {\n",
       "\n",
       "    function append_mime(data, metadata, element) {\n",
       "      // create a DOM node to render to\n",
       "      var toinsert = this.create_output_subarea(\n",
       "        metadata,\n",
       "        CLASS_NAME,\n",
       "        EXEC_MIME_TYPE\n",
       "      );\n",
       "      this.keyboard_manager.register_events(toinsert);\n",
       "      // Render to node\n",
       "      var props = {data: data, metadata: metadata[EXEC_MIME_TYPE]};\n",
       "      render(props, toinsert[toinsert.length - 1]);\n",
       "      element.append(toinsert);\n",
       "      return toinsert\n",
       "    }\n",
       "\n",
       "    /* Handle when an output is cleared or removed */\n",
       "    events.on('clear_output.CodeCell', handleClearOutput);\n",
       "    events.on('delete.Cell', handleClearOutput);\n",
       "\n",
       "    /* Handle when a new output is added */\n",
       "    events.on('output_added.OutputArea', handleAddOutput);\n",
       "\n",
       "    /**\n",
       "     * Register the mime type and append_mime function with output_area\n",
       "     */\n",
       "    OutputArea.prototype.register_mime_type(EXEC_MIME_TYPE, append_mime, {\n",
       "      /* Is output safe? */\n",
       "      safe: true,\n",
       "      /* Index of renderer in `output_area.display_order` */\n",
       "      index: 0\n",
       "    });\n",
       "  }\n",
       "\n",
       "  // register the mime type if in Jupyter Notebook environment and previously unregistered\n",
       "  if (root.Jupyter !== undefined) {\n",
       "    var events = require('base/js/events');\n",
       "    var OutputArea = require('notebook/js/outputarea').OutputArea;\n",
       "\n",
       "    if (OutputArea.prototype.mime_types().indexOf(EXEC_MIME_TYPE) == -1) {\n",
       "      register_renderer(events, OutputArea);\n",
       "    }\n",
       "  }\n",
       "\n",
       "  \n",
       "  if (typeof (root._bokeh_timeout) === \"undefined\" || force === true) {\n",
       "    root._bokeh_timeout = Date.now() + 5000;\n",
       "    root._bokeh_failed_load = false;\n",
       "  }\n",
       "\n",
       "  var NB_LOAD_WARNING = {'data': {'text/html':\n",
       "     \"<div style='background-color: #fdd'>\\n\"+\n",
       "     \"<p>\\n\"+\n",
       "     \"BokehJS does not appear to have successfully loaded. If loading BokehJS from CDN, this \\n\"+\n",
       "     \"may be due to a slow or bad network connection. Possible fixes:\\n\"+\n",
       "     \"</p>\\n\"+\n",
       "     \"<ul>\\n\"+\n",
       "     \"<li>re-rerun `output_notebook()` to attempt to load from CDN again, or</li>\\n\"+\n",
       "     \"<li>use INLINE resources instead, as so:</li>\\n\"+\n",
       "     \"</ul>\\n\"+\n",
       "     \"<code>\\n\"+\n",
       "     \"from bokeh.resources import INLINE\\n\"+\n",
       "     \"output_notebook(resources=INLINE)\\n\"+\n",
       "     \"</code>\\n\"+\n",
       "     \"</div>\"}};\n",
       "\n",
       "  function display_loaded() {\n",
       "    var el = document.getElementById(\"1001\");\n",
       "    if (el != null) {\n",
       "      el.textContent = \"BokehJS is loading...\";\n",
       "    }\n",
       "    if (root.Bokeh !== undefined) {\n",
       "      if (el != null) {\n",
       "        el.textContent = \"BokehJS \" + root.Bokeh.version + \" successfully loaded.\";\n",
       "      }\n",
       "    } else if (Date.now() < root._bokeh_timeout) {\n",
       "      setTimeout(display_loaded, 100)\n",
       "    }\n",
       "  }\n",
       "\n",
       "\n",
       "  function run_callbacks() {\n",
       "    try {\n",
       "      root._bokeh_onload_callbacks.forEach(function(callback) {\n",
       "        if (callback != null)\n",
       "          callback();\n",
       "      });\n",
       "    } finally {\n",
       "      delete root._bokeh_onload_callbacks\n",
       "    }\n",
       "    console.debug(\"Bokeh: all callbacks have finished\");\n",
       "  }\n",
       "\n",
       "  function load_libs(css_urls, js_urls, callback) {\n",
       "    if (css_urls == null) css_urls = [];\n",
       "    if (js_urls == null) js_urls = [];\n",
       "\n",
       "    root._bokeh_onload_callbacks.push(callback);\n",
       "    if (root._bokeh_is_loading > 0) {\n",
       "      console.debug(\"Bokeh: BokehJS is being loaded, scheduling callback at\", now());\n",
       "      return null;\n",
       "    }\n",
       "    if (js_urls == null || js_urls.length === 0) {\n",
       "      run_callbacks();\n",
       "      return null;\n",
       "    }\n",
       "    console.debug(\"Bokeh: BokehJS not loaded, scheduling load and callback at\", now());\n",
       "    root._bokeh_is_loading = css_urls.length + js_urls.length;\n",
       "\n",
       "    function on_load() {\n",
       "      root._bokeh_is_loading--;\n",
       "      if (root._bokeh_is_loading === 0) {\n",
       "        console.debug(\"Bokeh: all BokehJS libraries/stylesheets loaded\");\n",
       "        run_callbacks()\n",
       "      }\n",
       "    }\n",
       "\n",
       "    function on_error() {\n",
       "      console.error(\"failed to load \" + url);\n",
       "    }\n",
       "\n",
       "    for (var i = 0; i < css_urls.length; i++) {\n",
       "      var url = css_urls[i];\n",
       "      const element = document.createElement(\"link\");\n",
       "      element.onload = on_load;\n",
       "      element.onerror = on_error;\n",
       "      element.rel = \"stylesheet\";\n",
       "      element.type = \"text/css\";\n",
       "      element.href = url;\n",
       "      console.debug(\"Bokeh: injecting link tag for BokehJS stylesheet: \", url);\n",
       "      document.body.appendChild(element);\n",
       "    }\n",
       "\n",
       "    for (var i = 0; i < js_urls.length; i++) {\n",
       "      var url = js_urls[i];\n",
       "      var element = document.createElement('script');\n",
       "      element.onload = on_load;\n",
       "      element.onerror = on_error;\n",
       "      element.async = false;\n",
       "      element.src = url;\n",
       "      console.debug(\"Bokeh: injecting script tag for BokehJS library: \", url);\n",
       "      document.head.appendChild(element);\n",
       "    }\n",
       "  };var element = document.getElementById(\"1001\");\n",
       "  if (element == null) {\n",
       "    console.error(\"Bokeh: ERROR: autoload.js configured with elementid '1001' but no matching script tag was found. \")\n",
       "    return false;\n",
       "  }\n",
       "\n",
       "  function inject_raw_css(css) {\n",
       "    const element = document.createElement(\"style\");\n",
       "    element.appendChild(document.createTextNode(css));\n",
       "    document.body.appendChild(element);\n",
       "  }\n",
       "\n",
       "  var js_urls = [\"https://cdn.pydata.org/bokeh/release/bokeh-1.2.0.min.js\", \"https://cdn.pydata.org/bokeh/release/bokeh-widgets-1.2.0.min.js\", \"https://cdn.pydata.org/bokeh/release/bokeh-tables-1.2.0.min.js\", \"https://cdn.pydata.org/bokeh/release/bokeh-gl-1.2.0.min.js\"];\n",
       "  var css_urls = [\"https://cdn.pydata.org/bokeh/release/bokeh-1.2.0.min.css\", \"https://cdn.pydata.org/bokeh/release/bokeh-widgets-1.2.0.min.css\", \"https://cdn.pydata.org/bokeh/release/bokeh-tables-1.2.0.min.css\"];\n",
       "\n",
       "  var inline_js = [\n",
       "    function(Bokeh) {\n",
       "      Bokeh.set_log_level(\"info\");\n",
       "    },\n",
       "    \n",
       "    function(Bokeh) {\n",
       "      \n",
       "    },\n",
       "    function(Bokeh) {} // ensure no trailing comma for IE\n",
       "  ];\n",
       "\n",
       "  function run_inline_js() {\n",
       "    \n",
       "    if ((root.Bokeh !== undefined) || (force === true)) {\n",
       "      for (var i = 0; i < inline_js.length; i++) {\n",
       "        inline_js[i].call(root, root.Bokeh);\n",
       "      }if (force === true) {\n",
       "        display_loaded();\n",
       "      }} else if (Date.now() < root._bokeh_timeout) {\n",
       "      setTimeout(run_inline_js, 100);\n",
       "    } else if (!root._bokeh_failed_load) {\n",
       "      console.log(\"Bokeh: BokehJS failed to load within specified timeout.\");\n",
       "      root._bokeh_failed_load = true;\n",
       "    } else if (force !== true) {\n",
       "      var cell = $(document.getElementById(\"1001\")).parents('.cell').data().cell;\n",
       "      cell.output_area.append_execute_result(NB_LOAD_WARNING)\n",
       "    }\n",
       "\n",
       "  }\n",
       "\n",
       "  if (root._bokeh_is_loading === 0) {\n",
       "    console.debug(\"Bokeh: BokehJS loaded, going straight to plotting\");\n",
       "    run_inline_js();\n",
       "  } else {\n",
       "    load_libs(css_urls, js_urls, function() {\n",
       "      console.debug(\"Bokeh: BokehJS plotting callback run at\", now());\n",
       "      run_inline_js();\n",
       "    });\n",
       "  }\n",
       "}(window));"
      ],
      "application/vnd.bokehjs_load.v0+json": "\n(function(root) {\n  function now() {\n    return new Date();\n  }\n\n  var force = true;\n\n  if (typeof root._bokeh_onload_callbacks === \"undefined\" || force === true) {\n    root._bokeh_onload_callbacks = [];\n    root._bokeh_is_loading = undefined;\n  }\n\n  \n\n  \n  if (typeof (root._bokeh_timeout) === \"undefined\" || force === true) {\n    root._bokeh_timeout = Date.now() + 5000;\n    root._bokeh_failed_load = false;\n  }\n\n  var NB_LOAD_WARNING = {'data': {'text/html':\n     \"<div style='background-color: #fdd'>\\n\"+\n     \"<p>\\n\"+\n     \"BokehJS does not appear to have successfully loaded. If loading BokehJS from CDN, this \\n\"+\n     \"may be due to a slow or bad network connection. Possible fixes:\\n\"+\n     \"</p>\\n\"+\n     \"<ul>\\n\"+\n     \"<li>re-rerun `output_notebook()` to attempt to load from CDN again, or</li>\\n\"+\n     \"<li>use INLINE resources instead, as so:</li>\\n\"+\n     \"</ul>\\n\"+\n     \"<code>\\n\"+\n     \"from bokeh.resources import INLINE\\n\"+\n     \"output_notebook(resources=INLINE)\\n\"+\n     \"</code>\\n\"+\n     \"</div>\"}};\n\n  function display_loaded() {\n    var el = document.getElementById(\"1001\");\n    if (el != null) {\n      el.textContent = \"BokehJS is loading...\";\n    }\n    if (root.Bokeh !== undefined) {\n      if (el != null) {\n        el.textContent = \"BokehJS \" + root.Bokeh.version + \" successfully loaded.\";\n      }\n    } else if (Date.now() < root._bokeh_timeout) {\n      setTimeout(display_loaded, 100)\n    }\n  }\n\n\n  function run_callbacks() {\n    try {\n      root._bokeh_onload_callbacks.forEach(function(callback) {\n        if (callback != null)\n          callback();\n      });\n    } finally {\n      delete root._bokeh_onload_callbacks\n    }\n    console.debug(\"Bokeh: all callbacks have finished\");\n  }\n\n  function load_libs(css_urls, js_urls, callback) {\n    if (css_urls == null) css_urls = [];\n    if (js_urls == null) js_urls = [];\n\n    root._bokeh_onload_callbacks.push(callback);\n    if (root._bokeh_is_loading > 0) {\n      console.debug(\"Bokeh: BokehJS is being loaded, scheduling callback at\", now());\n      return null;\n    }\n    if (js_urls == null || js_urls.length === 0) {\n      run_callbacks();\n      return null;\n    }\n    console.debug(\"Bokeh: BokehJS not loaded, scheduling load and callback at\", now());\n    root._bokeh_is_loading = css_urls.length + js_urls.length;\n\n    function on_load() {\n      root._bokeh_is_loading--;\n      if (root._bokeh_is_loading === 0) {\n        console.debug(\"Bokeh: all BokehJS libraries/stylesheets loaded\");\n        run_callbacks()\n      }\n    }\n\n    function on_error() {\n      console.error(\"failed to load \" + url);\n    }\n\n    for (var i = 0; i < css_urls.length; i++) {\n      var url = css_urls[i];\n      const element = document.createElement(\"link\");\n      element.onload = on_load;\n      element.onerror = on_error;\n      element.rel = \"stylesheet\";\n      element.type = \"text/css\";\n      element.href = url;\n      console.debug(\"Bokeh: injecting link tag for BokehJS stylesheet: \", url);\n      document.body.appendChild(element);\n    }\n\n    for (var i = 0; i < js_urls.length; i++) {\n      var url = js_urls[i];\n      var element = document.createElement('script');\n      element.onload = on_load;\n      element.onerror = on_error;\n      element.async = false;\n      element.src = url;\n      console.debug(\"Bokeh: injecting script tag for BokehJS library: \", url);\n      document.head.appendChild(element);\n    }\n  };var element = document.getElementById(\"1001\");\n  if (element == null) {\n    console.error(\"Bokeh: ERROR: autoload.js configured with elementid '1001' but no matching script tag was found. \")\n    return false;\n  }\n\n  function inject_raw_css(css) {\n    const element = document.createElement(\"style\");\n    element.appendChild(document.createTextNode(css));\n    document.body.appendChild(element);\n  }\n\n  var js_urls = [\"https://cdn.pydata.org/bokeh/release/bokeh-1.2.0.min.js\", \"https://cdn.pydata.org/bokeh/release/bokeh-widgets-1.2.0.min.js\", \"https://cdn.pydata.org/bokeh/release/bokeh-tables-1.2.0.min.js\", \"https://cdn.pydata.org/bokeh/release/bokeh-gl-1.2.0.min.js\"];\n  var css_urls = [\"https://cdn.pydata.org/bokeh/release/bokeh-1.2.0.min.css\", \"https://cdn.pydata.org/bokeh/release/bokeh-widgets-1.2.0.min.css\", \"https://cdn.pydata.org/bokeh/release/bokeh-tables-1.2.0.min.css\"];\n\n  var inline_js = [\n    function(Bokeh) {\n      Bokeh.set_log_level(\"info\");\n    },\n    \n    function(Bokeh) {\n      \n    },\n    function(Bokeh) {} // ensure no trailing comma for IE\n  ];\n\n  function run_inline_js() {\n    \n    if ((root.Bokeh !== undefined) || (force === true)) {\n      for (var i = 0; i < inline_js.length; i++) {\n        inline_js[i].call(root, root.Bokeh);\n      }if (force === true) {\n        display_loaded();\n      }} else if (Date.now() < root._bokeh_timeout) {\n      setTimeout(run_inline_js, 100);\n    } else if (!root._bokeh_failed_load) {\n      console.log(\"Bokeh: BokehJS failed to load within specified timeout.\");\n      root._bokeh_failed_load = true;\n    } else if (force !== true) {\n      var cell = $(document.getElementById(\"1001\")).parents('.cell').data().cell;\n      cell.output_area.append_execute_result(NB_LOAD_WARNING)\n    }\n\n  }\n\n  if (root._bokeh_is_loading === 0) {\n    console.debug(\"Bokeh: BokehJS loaded, going straight to plotting\");\n    run_inline_js();\n  } else {\n    load_libs(css_urls, js_urls, function() {\n      console.debug(\"Bokeh: BokehJS plotting callback run at\", now());\n      run_inline_js();\n    });\n  }\n}(window));"
     },
     "metadata": {},
     "output_type": "display_data"
    }
   ],
   "source": [
    "from bokeh.plotting import figure, output_file, show, ColumnDataSource\n",
    "from bokeh.io import output_notebook, output_file, save\n",
    "output_notebook()\n",
    "from bokeh.models import HoverTool,BoxZoomTool,ResetTool, WheelZoomTool\n",
    "from bokeh.layouts import row, gridplot, layout"
   ]
  },
  {
   "cell_type": "code",
   "execution_count": 3,
   "metadata": {},
   "outputs": [],
   "source": [
    "pd.set_option('display.max_colwidth', -1)\n",
    "pd.set_option('max_colwidth', 260)"
   ]
  },
  {
   "cell_type": "code",
   "execution_count": 4,
   "metadata": {},
   "outputs": [],
   "source": [
    "options = {\"compact\": True, \"bg\": \"#09a3d5\",\n",
    "           \"color\": \"white\", \"font\": \"Source Sans Pro\",\"collapse_phrases\":False}"
   ]
  },
  {
   "cell_type": "markdown",
   "metadata": {},
   "source": [
    "On the basis of both recensions of the Geography, the localities of the Iberian peninsula are plotted and compared."
   ]
  },
  {
   "cell_type": "markdown",
   "metadata": {},
   "source": [
    "## import resources (omega)"
   ]
  },
  {
   "cell_type": "code",
   "execution_count": 5,
   "metadata": {},
   "outputs": [],
   "source": [
    "OmegaJ = pd.read_json('../data/OmegaStructure2.json')\n",
    "XiJ = pd.read_json('../data/XiStructure2.json')"
   ]
  },
  {
   "cell_type": "markdown",
   "metadata": {},
   "source": [
    "## transform .json to df"
   ]
  },
  {
   "cell_type": "code",
   "execution_count": 6,
   "metadata": {},
   "outputs": [],
   "source": [
    "%run geographytools.py"
   ]
  },
  {
   "cell_type": "code",
   "execution_count": 7,
   "metadata": {},
   "outputs": [],
   "source": [
    "df=OmegaJ[\"chapters\"][0]\n",
    "om=json_normalize(df,\"section\")"
   ]
  },
  {
   "cell_type": "code",
   "execution_count": 8,
   "metadata": {},
   "outputs": [
    {
     "data": {
      "text/plain": [
       "'area presentation'"
      ]
     },
     "execution_count": 8,
     "metadata": {},
     "output_type": "execute_result"
    }
   ],
   "source": [
    "def findTS(s):\n",
    "    out=\"\"\n",
    "    for i,r in om.iterrows():\n",
    "        sci=r[\"sec_ID\"]\n",
    "        if sci in s:\n",
    "            out=r[\"type_sec\"]\n",
    "            \n",
    "            exit\n",
    "    return(out)\n",
    "findTS(\"2.04.01.01\")"
   ]
  },
  {
   "cell_type": "code",
   "execution_count": 9,
   "metadata": {},
   "outputs": [],
   "source": [
    "def Js2Geodf(df): \n",
    "# df=OmegaJ[\"chapters\"][0]\n",
    "    om=json_normalize(df,\"section\")\n",
    "    om=om.dropna(subset=[\"sec_part\"])\n",
    "    l=[]\n",
    "    for i,x in om.iterrows():\n",
    "        k={\"type_sec\":x[\"type_sec\"]}\n",
    "        l.append([x[\"sec_part\"]])\n",
    "#\n",
    "    listItems=list(flatten_list(l))\n",
    "    dfout=pd.DataFrame(listItems)\n",
    "    dfout[\"type_sec\"]=dfout.apply(lambda x: findTS(x[\"ID\"]),axis=1)\n",
    "    return(dfout)"
   ]
  },
  {
   "cell_type": "code",
   "execution_count": 10,
   "metadata": {},
   "outputs": [],
   "source": [
    "dfOmega=Js2Geodf(OmegaJ[\"chapters\"][0])"
   ]
  },
  {
   "cell_type": "markdown",
   "metadata": {},
   "source": [
    "## Translate Greek to decimal coordinates"
   ]
  },
  {
   "cell_type": "code",
   "execution_count": 11,
   "metadata": {},
   "outputs": [],
   "source": [
    "gfrac={\"\":0,\"Lς\":2/3,\"ςL\":2/3,\"ιβ\":1/12,\"ς\":1/6,\"δ\":1/4,\"γ\":1/3,\"γιβ\":5/12,\"L\":1/2,\"Lιβ\":7/12,\"γο\":2/3,\"Lδ\":3/4,\"Lγ\":5/6,\"Lγιβ\":11/12,\"η\":1/8}\n",
    "gint={\"\":0,\"α\":1,\"β\":2,\"γ\":3,\"δ\":4,\"ε\":5,\"ς\":6,\"ζ\":7,\"η\":8,\"θ\":9,\"ι\":10,\"κ\":20,\"λ\":30,\"μ\":40}"
   ]
  },
  {
   "cell_type": "code",
   "execution_count": 12,
   "metadata": {},
   "outputs": [],
   "source": [
    "def reformatCoord(row,longLat, xy='coord_x'):\n",
    "    if type(row[xy]) == dict:\n",
    "        return (row[xy][longLat]['integer'].strip(),row[xy][longLat]['fraction'].strip())\n",
    "    else:\n",
    "        return False\n",
    "    \n",
    "def translate(row):\n",
    "    if type(row)==tuple:\n",
    "        try:\n",
    "            temp_frac = gfrac[row[1]]\n",
    "        except:\n",
    "            temp_frac = gint[row[1]]\n",
    "        try:\n",
    "            if len(row[0]) == 1:\n",
    "                temp_int = gint[row[0]]\n",
    "            elif len(row[0]) == 2:\n",
    "                temp_int = gint[row[0][0]] + gint[row[0][1]]\n",
    "            elif row[0] == '':\n",
    "                temp_int = 0\n",
    "        except:\n",
    "            temp_int = None\n",
    "        return temp_int + temp_frac"
   ]
  },
  {
   "cell_type": "markdown",
   "metadata": {},
   "source": [
    "Omega recension"
   ]
  },
  {
   "cell_type": "code",
   "execution_count": 13,
   "metadata": {},
   "outputs": [],
   "source": [
    "dfTemp = dfOmega.copy()\n",
    "dfTemp['longitude'] = dfOmega.apply(lambda row: reformatCoord(row,'long','coord'),axis=1).apply(translate)\n",
    "dfTemp['latitude'] = dfOmega.apply(lambda row: reformatCoord(row,'lat','coord'),axis=1).apply(translate)"
   ]
  },
  {
   "cell_type": "code",
   "execution_count": 14,
   "metadata": {},
   "outputs": [],
   "source": [
    "dfTemp;"
   ]
  },
  {
   "cell_type": "markdown",
   "metadata": {},
   "source": [
    "## select coastal localities"
   ]
  },
  {
   "cell_type": "markdown",
   "metadata": {},
   "source": [
    "I select only type_sec: \"coast section\""
   ]
  },
  {
   "cell_type": "code",
   "execution_count": 15,
   "metadata": {},
   "outputs": [],
   "source": [
    "dfOmegaCoasts = dfTemp[(dfTemp.type_sec == 'coast section') & (dfTemp.type == 'locality')]"
   ]
  },
  {
   "cell_type": "markdown",
   "metadata": {},
   "source": [
    "In \"coast sections\", Ptolemy also give coordinates for the sources of river for instance, but these points are not part of the coast. So, we have to remove from every coast section places that are not actually on the coast, i.e. the following categories: river source and river path."
   ]
  },
  {
   "cell_type": "code",
   "execution_count": 16,
   "metadata": {},
   "outputs": [],
   "source": [
    "dfOmegaCoasts = dfTemp[(dfTemp.type_sec == 'coast section') & (dfTemp.type == 'locality')]\n",
    "dfOmegaCoasts = dfOmegaCoasts[dfOmegaCoasts.category.apply(lambda row: row not in ['river path','river source'])]"
   ]
  },
  {
   "cell_type": "code",
   "execution_count": 17,
   "metadata": {},
   "outputs": [
    {
     "data": {
      "text/html": [
       "<div>\n",
       "<style scoped>\n",
       "    .dataframe tbody tr th:only-of-type {\n",
       "        vertical-align: middle;\n",
       "    }\n",
       "\n",
       "    .dataframe tbody tr th {\n",
       "        vertical-align: top;\n",
       "    }\n",
       "\n",
       "    .dataframe thead th {\n",
       "        text-align: right;\n",
       "    }\n",
       "</style>\n",
       "<table border=\"1\" class=\"dataframe\">\n",
       "  <thead>\n",
       "    <tr style=\"text-align: right;\">\n",
       "      <th></th>\n",
       "      <th>ID</th>\n",
       "      <th>category</th>\n",
       "      <th>coord</th>\n",
       "      <th>people</th>\n",
       "      <th>text</th>\n",
       "      <th>toponym</th>\n",
       "      <th>type</th>\n",
       "      <th>type_sec</th>\n",
       "      <th>longitude</th>\n",
       "      <th>latitude</th>\n",
       "    </tr>\n",
       "  </thead>\n",
       "  <tbody>\n",
       "    <tr>\n",
       "      <th>4</th>\n",
       "      <td>2.04.03.01</td>\n",
       "      <td>[river mouth, boundary]</td>\n",
       "      <td>{'long': {'integer': 'δ', 'fraction': 'ιβ'}, 'lat': {'integer': 'λζ', 'fraction': 'γο'}}</td>\n",
       "      <td>Turdetani</td>\n",
       "      <td>NaN</td>\n",
       "      <td>&lt;τὸ δυσμικώτερον στόμα Ἄνα τοῦ ποταμοῦ&gt;</td>\n",
       "      <td>locality</td>\n",
       "      <td>coast section</td>\n",
       "      <td>4.083333</td>\n",
       "      <td>37.666667</td>\n",
       "    </tr>\n",
       "    <tr>\n",
       "      <th>5</th>\n",
       "      <td>2.04.03.02</td>\n",
       "      <td>river mouth</td>\n",
       "      <td>{'long': {'integer': 'δ', 'fraction': 'γ'}, 'lat': {'integer': 'λζ', 'fraction': 'L'}}</td>\n",
       "      <td>Turdetani</td>\n",
       "      <td>NaN</td>\n",
       "      <td>τὸ ἀνατολικώτερον στόμα Ἄνα τοῦ ποταμοῦ</td>\n",
       "      <td>locality</td>\n",
       "      <td>coast section</td>\n",
       "      <td>4.333333</td>\n",
       "      <td>37.500000</td>\n",
       "    </tr>\n",
       "    <tr>\n",
       "      <th>7</th>\n",
       "      <td>2.04.03.04</td>\n",
       "      <td>[river path, boundary]</td>\n",
       "      <td>{'long': {'integer': 'θ', 'fraction': ''}, 'lat': {'integer': 'λθ', 'fraction': ''}}</td>\n",
       "      <td></td>\n",
       "      <td>NaN</td>\n",
       "      <td>τὸ πρὸς τῷ πέρατι τῆς Λουσιτανίας τοῦ ποταμοῦ μέρος</td>\n",
       "      <td>locality</td>\n",
       "      <td>coast section</td>\n",
       "      <td>9.000000</td>\n",
       "      <td>39.000000</td>\n",
       "    </tr>\n",
       "    <tr>\n",
       "      <th>8</th>\n",
       "      <td>2.04.03.07</td>\n",
       "      <td>boundary</td>\n",
       "      <td>{'long': {'integer': 'ιβ', 'fraction': ''}, 'lat': {'integer': 'λζ', 'fraction': 'δ'}}</td>\n",
       "      <td></td>\n",
       "      <td>NaN</td>\n",
       "      <td>καὶ ἡ ἐντεῦθεν γραμμὴ γραφομένη παρὰ τὴν Ταρρακωνησίαν ὡς ἐπὶ τὸ Βαλιαρικὸν πέλαγος πέρας ἔχουσα</td>\n",
       "      <td>locality</td>\n",
       "      <td>coast section</td>\n",
       "      <td>12.000000</td>\n",
       "      <td>37.250000</td>\n",
       "    </tr>\n",
       "    <tr>\n",
       "      <th>15</th>\n",
       "      <td>2.04.05.04</td>\n",
       "      <td>city</td>\n",
       "      <td>{'long': {'integer': 'δ', 'fraction': 'γο'}, 'lat': {'integer': 'λζ', 'fraction': 'γ'}}</td>\n",
       "      <td>Turdetani</td>\n",
       "      <td>NaN</td>\n",
       "      <td>Ὄνοβα Λιστουρία</td>\n",
       "      <td>locality</td>\n",
       "      <td>coast section</td>\n",
       "      <td>4.666667</td>\n",
       "      <td>37.333333</td>\n",
       "    </tr>\n",
       "  </tbody>\n",
       "</table>\n",
       "</div>"
      ],
      "text/plain": [
       "            ID                 category  \\\n",
       "4   2.04.03.01  [river mouth, boundary]   \n",
       "5   2.04.03.02              river mouth   \n",
       "7   2.04.03.04   [river path, boundary]   \n",
       "8   2.04.03.07                 boundary   \n",
       "15  2.04.05.04                     city   \n",
       "\n",
       "                                                                                       coord  \\\n",
       "4   {'long': {'integer': 'δ', 'fraction': 'ιβ'}, 'lat': {'integer': 'λζ', 'fraction': 'γο'}}   \n",
       "5     {'long': {'integer': 'δ', 'fraction': 'γ'}, 'lat': {'integer': 'λζ', 'fraction': 'L'}}   \n",
       "7       {'long': {'integer': 'θ', 'fraction': ''}, 'lat': {'integer': 'λθ', 'fraction': ''}}   \n",
       "8     {'long': {'integer': 'ιβ', 'fraction': ''}, 'lat': {'integer': 'λζ', 'fraction': 'δ'}}   \n",
       "15   {'long': {'integer': 'δ', 'fraction': 'γο'}, 'lat': {'integer': 'λζ', 'fraction': 'γ'}}   \n",
       "\n",
       "       people text  \\\n",
       "4   Turdetani  NaN   \n",
       "5   Turdetani  NaN   \n",
       "7              NaN   \n",
       "8              NaN   \n",
       "15  Turdetani  NaN   \n",
       "\n",
       "                                                                                                               toponym  \\\n",
       "4                                                                       <τὸ δυσμικώτερον στόμα Ἄνα τοῦ ποταμοῦ>   \n",
       "5                                                                      τὸ ἀνατολικώτερον στόμα Ἄνα τοῦ ποταμοῦ   \n",
       "7                                                        τὸ πρὸς τῷ πέρατι τῆς Λουσιτανίας τοῦ ποταμοῦ μέρος   \n",
       "8   καὶ ἡ ἐντεῦθεν γραμμὴ γραφομένη παρὰ τὴν Ταρρακωνησίαν ὡς ἐπὶ τὸ Βαλιαρικὸν πέλαγος πέρας ἔχουσα   \n",
       "15                                                                                                  Ὄνοβα Λιστουρία   \n",
       "\n",
       "        type       type_sec  longitude   latitude  \n",
       "4   locality  coast section   4.083333  37.666667  \n",
       "5   locality  coast section   4.333333  37.500000  \n",
       "7   locality  coast section   9.000000  39.000000  \n",
       "8   locality  coast section  12.000000  37.250000  \n",
       "15  locality  coast section   4.666667  37.333333  "
      ]
     },
     "execution_count": 17,
     "metadata": {},
     "output_type": "execute_result"
    }
   ],
   "source": [
    "dfOmegaCoasts.head()"
   ]
  },
  {
   "cell_type": "markdown",
   "metadata": {},
   "source": [
    "First problem: places with multiple categories (\"river mouth, boundary\") are not taken into account when filtering and I don't know how to solve the problem."
   ]
  },
  {
   "cell_type": "markdown",
   "metadata": {},
   "source": [
    "## map omega"
   ]
  },
  {
   "cell_type": "code",
   "execution_count": 18,
   "metadata": {},
   "outputs": [
    {
     "data": {
      "text/html": [
       "\n",
       "\n",
       "\n",
       "\n",
       "\n",
       "\n",
       "  <div class=\"bk-root\" id=\"abe4a751-ec5d-4e66-bf61-659d85a541aa\" data-root-id=\"1005\"></div>\n"
      ]
     },
     "metadata": {},
     "output_type": "display_data"
    },
    {
     "data": {
      "application/javascript": [
       "(function(root) {\n",
       "  function embed_document(root) {\n",
       "    \n",
       "  var docs_json = {\"7de87bec-863a-419e-b257-a2a54b52643c\":{\"roots\":{\"references\":[{\"attributes\":{\"below\":[{\"id\":\"1016\",\"type\":\"LinearAxis\"}],\"center\":[{\"id\":\"1020\",\"type\":\"Grid\"},{\"id\":\"1025\",\"type\":\"Grid\"}],\"left\":[{\"id\":\"1021\",\"type\":\"LinearAxis\"}],\"plot_width\":800,\"renderers\":[{\"id\":\"1033\",\"type\":\"GlyphRenderer\"},{\"id\":\"1038\",\"type\":\"GlyphRenderer\"},{\"id\":\"1043\",\"type\":\"GlyphRenderer\"}],\"title\":{\"id\":\"1006\",\"type\":\"Title\"},\"toolbar\":{\"id\":\"1026\",\"type\":\"Toolbar\"},\"x_range\":{\"id\":\"1008\",\"type\":\"Range1d\"},\"x_scale\":{\"id\":\"1012\",\"type\":\"LinearScale\"},\"y_range\":{\"id\":\"1010\",\"type\":\"Range1d\"},\"y_scale\":{\"id\":\"1014\",\"type\":\"LinearScale\"}},\"id\":\"1005\",\"subtype\":\"Figure\",\"type\":\"Plot\"},{\"attributes\":{},\"id\":\"1051\",\"type\":\"UnionRenderers\"},{\"attributes\":{\"line_color\":\"grey\",\"x\":{\"field\":\"x\"},\"y\":{\"field\":\"y\"}},\"id\":\"1031\",\"type\":\"Line\"},{\"attributes\":{\"overlay\":{\"id\":\"1056\",\"type\":\"BoxAnnotation\"}},\"id\":\"1002\",\"type\":\"BoxZoomTool\"},{\"attributes\":{},\"id\":\"1003\",\"type\":\"WheelZoomTool\"},{\"attributes\":{},\"id\":\"1052\",\"type\":\"Selection\"},{\"attributes\":{\"line_alpha\":0.1,\"line_color\":\"#1f77b4\",\"x\":{\"field\":\"x\"},\"y\":{\"field\":\"y\"}},\"id\":\"1032\",\"type\":\"Line\"},{\"attributes\":{},\"id\":\"1004\",\"type\":\"ResetTool\"},{\"attributes\":{},\"id\":\"1053\",\"type\":\"UnionRenderers\"},{\"attributes\":{\"data_source\":{\"id\":\"1030\",\"type\":\"ColumnDataSource\"},\"glyph\":{\"id\":\"1031\",\"type\":\"Line\"},\"hover_glyph\":null,\"muted_glyph\":null,\"nonselection_glyph\":{\"id\":\"1032\",\"type\":\"Line\"},\"selection_glyph\":null,\"view\":{\"id\":\"1034\",\"type\":\"CDSView\"}},\"id\":\"1033\",\"type\":\"GlyphRenderer\"},{\"attributes\":{\"fill_alpha\":{\"value\":0.9},\"fill_color\":{\"value\":\"red\"},\"line_alpha\":{\"value\":0.7},\"line_color\":{\"value\":\"red\"},\"x\":{\"field\":\"x\"},\"y\":{\"field\":\"y\"}},\"id\":\"1036\",\"type\":\"Circle\"},{\"attributes\":{\"source\":{\"id\":\"1030\",\"type\":\"ColumnDataSource\"}},\"id\":\"1034\",\"type\":\"CDSView\"},{\"attributes\":{},\"id\":\"1054\",\"type\":\"Selection\"},{\"attributes\":{},\"id\":\"1055\",\"type\":\"UnionRenderers\"},{\"attributes\":{\"callback\":null,\"data\":{\"x\":{\"__ndarray__\":\"VVVVVVVVEEBVVVVVVVURQAAAAAAAACJAAAAAAAAAKECrqqqqqqoSQFVVVVVVVRRAVVVVVVVVFUAAAAAAAAAYQAAAAAAAABhAAAAAAAAAGEAAAAAAAAAXQKuqqqqqqhhAAAAAAAAAGUAAAAAAAAAaQKuqqqqqqhpAAAAAAAAAHUAAAAAAAAAeQAAAAAAAAB5Aq6qqqqqqHkAAAAAAAAAgQAAAAAAAACFAq6qqqqqqIUAAAAAAAIAiQAAAAAAAgCNAAAAAAACAJECrqqqqqqolQAAAAAAAgCVAq6qqqqqqJkAAAAAAAAAnQFVVVVVVVQ1AAAAAAAAACEAAAAAAAAAEQAAAAAAAABRAVVVVVVVVFECrqqqqqqoRQAAAAAAAABFAq6qqqqqqFEAAAAAAAAAWQAAAAAAAACJAAAAAAAAAFECrqqqqqqoUQKuqqqqqqhRAVVVVVVVVFUAAAAAAAAAWQKuqqqqqqhRAq6qqqqqqFkAAAAAAAAAWQFVVVVVVVRVAAAAAAAAAFkCrqqqqqqoWQKuqqqqqqhZAVVVVVVVVFUAAAAAAAAAVQKuqqqqqqhZAAAAAAAAAGUAAAAAAAAAaQAAAAAAAAB1AAAAAAACAIEAAAAAAAAAiQKuqqqqqqiRAq6qqqqqqJkAAAAAAAIAnQAAAAAAAAChAAAAAAAAAKkBVVVVVVVUqQAAAAAAAACtAAAAAAACAK0CrqqqqqqosQFVVVVVVVS5AAAAAAAAALkAAAAAAAAAoQFVVVVVVVShAAAAAAACAKEBVVVVVVdUpQAAAAAAAAClAVVVVVVVVKUAAAAAAAAAqQAAAAAAAACtAAAAAAAAALEBVVVVVVVUtQAAAAAAAAC5AVVVVVVVVL0BVVVVVVdUvQAAAAAAAAC9AAAAAAAAAMEBVVVVVVVUwQFVVVVVV1TBAAAAAAABAMUAAAAAAAIAxQFVVVVVV1TFAAAAAAACAMkAAAAAAAAAyQAAAAAAAQDJAAAAAAACAMkAAAAAAAMAyQAAAAAAAADNAAAAAAACAM0BVVVVVVVU0QA==\",\"dtype\":\"float64\",\"shape\":[98]},\"y\":{\"__ndarray__\":\"VVVVVVXVQkAAAAAAAMBCQAAAAAAAgENAAAAAAACgQkCrqqqqqqpCQFVVVVVVlUJAAAAAAACAQkAAAAAAAGBCQKuqqqqqakJAq6qqqqoqQkAAAAAAAABCQFVVVVVVFUJAVVVVVVVVQkAAAAAAAEBCQKuqqqqqKkJAVVVVVVUVQkBVVVVVVRVCQAAAAAAAIEJAVVVVVVVVQkCrqqqqqgpCQAAAAAAAgEJAAAAAAADAQkAAAAAAAKBCQAAAAAAAoEJAAAAAAACgQkCrqqqqqopCQFVVVVVVlUJAq6qqqqqKQkCrqqqqqipCQAAAAAAA4EJAq6qqqqrqQkAAAAAAACBDQAAAAAAAgENAVVVVVVW1Q0AAAAAAAMBDQAAAAAAA4ENAAAAAAAAgREBVVVVVVRVEQFVVVVVVFURAVVVVVVVVRECrqqqqqmpEQKuqqqqqqkRAq6qqqqrqREAAAAAAACBFQAAAAAAAQEVAAAAAAABgRUAAAAAAAKBFQFVVVVVV1UVAAAAAAAAARkCrqqqqqipGQFVVVVVVVUZAAAAAAACARkBVVVVVVZVGQAAAAAAAwEZAAAAAAADARkAAAAAAAMBGQAAAAAAAgEZAq6qqqqrqRkAAAAAAAOBGQFVVVVVV1UZAAAAAAADgRkBVVVVVVbVGQAAAAAAAwEZAVVVVVVXVRkBVVVVVVVVGQAAAAAAAIEZAVVVVVVU1RkAAAAAAAIBGQKuqqqqqikZAq6qqqqrqRkCrqqqqqqpCQAAAAAAAwEJAVVVVVVX1QkCrqqqqqgpDQAAAAAAAQENAq6qqqqpKQ0AAAAAAAGBDQAAAAAAAYENAq6qqqqoqQ0BVVVVVVXVDQAAAAAAAgENAAAAAAADAQ0BVVVVVVdVDQAAAAAAAAERAAAAAAABAREBVVVVVVVVEQAAAAAAAYERAAAAAAACAREAAAAAAAIBEQKuqqqqqqkRAAAAAAADAREAAAAAAAOBEQAAAAAAAAEVAVVVVVVUVRUCrqqqqqipFQAAAAAAAQEVAAAAAAABARUCrqqqqqipFQA==\",\"dtype\":\"float64\",\"shape\":[98]}},\"selected\":{\"id\":\"1054\",\"type\":\"Selection\"},\"selection_policy\":{\"id\":\"1055\",\"type\":\"UnionRenderers\"}},\"id\":\"1040\",\"type\":\"ColumnDataSource\"},{\"attributes\":{\"callback\":null,\"end\":22,\"start\":1.5},\"id\":\"1008\",\"type\":\"Range1d\"},{\"attributes\":{\"bottom_units\":\"screen\",\"fill_alpha\":{\"value\":0.5},\"fill_color\":{\"value\":\"lightgrey\"},\"left_units\":\"screen\",\"level\":\"overlay\",\"line_alpha\":{\"value\":1.0},\"line_color\":{\"value\":\"black\"},\"line_dash\":[4,4],\"line_width\":{\"value\":2},\"render_mode\":\"css\",\"right_units\":\"screen\",\"top_units\":\"screen\"},\"id\":\"1056\",\"type\":\"BoxAnnotation\"},{\"attributes\":{\"callback\":null,\"data\":{\"x\":{\"__ndarray__\":\"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\",\"dtype\":\"float64\",\"shape\":[640]},\"y\":{\"__ndarray__\":\"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\",\"dtype\":\"float64\",\"shape\":[640]}},\"selected\":{\"id\":\"1052\",\"type\":\"Selection\"},\"selection_policy\":{\"id\":\"1053\",\"type\":\"UnionRenderers\"}},\"id\":\"1035\",\"type\":\"ColumnDataSource\"},{\"attributes\":{\"callback\":null,\"end\":47,\"start\":35.5},\"id\":\"1010\",\"type\":\"Range1d\"},{\"attributes\":{\"fill_alpha\":{\"value\":0.1},\"fill_color\":{\"value\":\"#1f77b4\"},\"line_alpha\":{\"value\":0.1},\"line_color\":{\"value\":\"#1f77b4\"},\"x\":{\"field\":\"x\"},\"y\":{\"field\":\"y\"}},\"id\":\"1037\",\"type\":\"Circle\"},{\"attributes\":{},\"id\":\"1012\",\"type\":\"LinearScale\"},{\"attributes\":{\"data_source\":{\"id\":\"1035\",\"type\":\"ColumnDataSource\"},\"glyph\":{\"id\":\"1036\",\"type\":\"Circle\"},\"hover_glyph\":null,\"muted_glyph\":null,\"nonselection_glyph\":{\"id\":\"1037\",\"type\":\"Circle\"},\"selection_glyph\":null,\"view\":{\"id\":\"1039\",\"type\":\"CDSView\"}},\"id\":\"1038\",\"type\":\"GlyphRenderer\"},{\"attributes\":{},\"id\":\"1014\",\"type\":\"LinearScale\"},{\"attributes\":{\"text\":\"Omega Recension\"},\"id\":\"1006\",\"type\":\"Title\"},{\"attributes\":{\"source\":{\"id\":\"1035\",\"type\":\"ColumnDataSource\"}},\"id\":\"1039\",\"type\":\"CDSView\"},{\"attributes\":{\"formatter\":{\"id\":\"1048\",\"type\":\"BasicTickFormatter\"},\"ticker\":{\"id\":\"1017\",\"type\":\"BasicTicker\"}},\"id\":\"1016\",\"type\":\"LinearAxis\"},{\"attributes\":{},\"id\":\"1017\",\"type\":\"BasicTicker\"},{\"attributes\":{\"fill_alpha\":{\"value\":0.9},\"fill_color\":{\"value\":\"black\"},\"line_alpha\":{\"value\":0.7},\"size\":{\"units\":\"screen\",\"value\":5},\"x\":{\"field\":\"x\"},\"y\":{\"field\":\"y\"}},\"id\":\"1041\",\"type\":\"Circle\"},{\"attributes\":{\"ticker\":{\"id\":\"1017\",\"type\":\"BasicTicker\"}},\"id\":\"1020\",\"type\":\"Grid\"},{\"attributes\":{\"fill_alpha\":{\"value\":0.1},\"fill_color\":{\"value\":\"#1f77b4\"},\"line_alpha\":{\"value\":0.1},\"line_color\":{\"value\":\"#1f77b4\"},\"size\":{\"units\":\"screen\",\"value\":5},\"x\":{\"field\":\"x\"},\"y\":{\"field\":\"y\"}},\"id\":\"1042\",\"type\":\"Circle\"},{\"attributes\":{\"callback\":null,\"data\":{\"x\":{\"__ndarray__\":\"VVVVVVVVEEBVVVVVVVURQAAAAAAAACJAAAAAAAAAKECrqqqqqqoSQFVVVVVVVRRAVVVVVVVVFUAAAAAAAAAYQAAAAAAAABhAAAAAAAAAGEAAAAAAAAAXQKuqqqqqqhhAAAAAAAAAGUAAAAAAAAAaQKuqqqqqqhpAAAAAAAAAHUAAAAAAAAAeQAAAAAAAAB5Aq6qqqqqqHkAAAAAAAAAgQAAAAAAAACFAq6qqqqqqIUAAAAAAAIAiQAAAAAAAgCNAAAAAAACAJECrqqqqqqolQAAAAAAAgCVAq6qqqqqqJkAAAAAAAAAnQFVVVVVVVQ1AAAAAAAAACEAAAAAAAAAEQAAAAAAAABRAVVVVVVVVFECrqqqqqqoRQAAAAAAAABFAq6qqqqqqFEAAAAAAAAAWQAAAAAAAACJAAAAAAAAAFECrqqqqqqoUQKuqqqqqqhRAVVVVVVVVFUAAAAAAAAAWQKuqqqqqqhRAq6qqqqqqFkAAAAAAAAAWQFVVVVVVVRVAAAAAAAAAFkCrqqqqqqoWQKuqqqqqqhZAVVVVVVVVFUAAAAAAAAAVQKuqqqqqqhZAAAAAAAAAGUAAAAAAAAAaQAAAAAAAAB1AAAAAAACAIEAAAAAAAAAiQKuqqqqqqiRAq6qqqqqqJkAAAAAAAIAnQAAAAAAAAChAAAAAAAAAKkBVVVVVVVUqQAAAAAAAACtAAAAAAACAK0CrqqqqqqosQFVVVVVVVS5AAAAAAAAALkAAAAAAAAAoQFVVVVVVVShAAAAAAACAKEBVVVVVVdUpQAAAAAAAAClAVVVVVVVVKUAAAAAAAAAqQAAAAAAAACtAAAAAAAAALEBVVVVVVVUtQAAAAAAAAC5AVVVVVVVVL0BVVVVVVdUvQAAAAAAAAC9AAAAAAAAAMEBVVVVVVVUwQFVVVVVV1TBAAAAAAABAMUAAAAAAAIAxQFVVVVVV1TFAAAAAAACAMkAAAAAAAAAyQAAAAAAAQDJAAAAAAACAMkAAAAAAAMAyQAAAAAAAADNAAAAAAACAM0BVVVVVVVU0QA==\",\"dtype\":\"float64\",\"shape\":[98]},\"y\":{\"__ndarray__\":\"VVVVVVXVQkAAAAAAAMBCQAAAAAAAgENAAAAAAACgQkCrqqqqqqpCQFVVVVVVlUJAAAAAAACAQkAAAAAAAGBCQKuqqqqqakJAq6qqqqoqQkAAAAAAAABCQFVVVVVVFUJAVVVVVVVVQkAAAAAAAEBCQKuqqqqqKkJAVVVVVVUVQkBVVVVVVRVCQAAAAAAAIEJAVVVVVVVVQkCrqqqqqgpCQAAAAAAAgEJAAAAAAADAQkAAAAAAAKBCQAAAAAAAoEJAAAAAAACgQkCrqqqqqopCQFVVVVVVlUJAq6qqqqqKQkCrqqqqqipCQAAAAAAA4EJAq6qqqqrqQkAAAAAAACBDQAAAAAAAgENAVVVVVVW1Q0AAAAAAAMBDQAAAAAAA4ENAAAAAAAAgREBVVVVVVRVEQFVVVVVVFURAVVVVVVVVRECrqqqqqmpEQKuqqqqqqkRAq6qqqqrqREAAAAAAACBFQAAAAAAAQEVAAAAAAABgRUAAAAAAAKBFQFVVVVVV1UVAAAAAAAAARkCrqqqqqipGQFVVVVVVVUZAAAAAAACARkBVVVVVVZVGQAAAAAAAwEZAAAAAAADARkAAAAAAAMBGQAAAAAAAgEZAq6qqqqrqRkAAAAAAAOBGQFVVVVVV1UZAAAAAAADgRkBVVVVVVbVGQAAAAAAAwEZAVVVVVVXVRkBVVVVVVVVGQAAAAAAAIEZAVVVVVVU1RkAAAAAAAIBGQKuqqqqqikZAq6qqqqrqRkCrqqqqqqpCQAAAAAAAwEJAVVVVVVX1QkCrqqqqqgpDQAAAAAAAQENAq6qqqqpKQ0AAAAAAAGBDQAAAAAAAYENAq6qqqqoqQ0BVVVVVVXVDQAAAAAAAgENAAAAAAADAQ0BVVVVVVdVDQAAAAAAAAERAAAAAAABAREBVVVVVVVVEQAAAAAAAYERAAAAAAACAREAAAAAAAIBEQKuqqqqqqkRAAAAAAADAREAAAAAAAOBEQAAAAAAAAEVAVVVVVVUVRUCrqqqqqipFQAAAAAAAQEVAAAAAAABARUCrqqqqqipFQA==\",\"dtype\":\"float64\",\"shape\":[98]}},\"selected\":{\"id\":\"1050\",\"type\":\"Selection\"},\"selection_policy\":{\"id\":\"1051\",\"type\":\"UnionRenderers\"}},\"id\":\"1030\",\"type\":\"ColumnDataSource\"},{\"attributes\":{\"data_source\":{\"id\":\"1040\",\"type\":\"ColumnDataSource\"},\"glyph\":{\"id\":\"1041\",\"type\":\"Circle\"},\"hover_glyph\":null,\"muted_glyph\":null,\"nonselection_glyph\":{\"id\":\"1042\",\"type\":\"Circle\"},\"selection_glyph\":null,\"view\":{\"id\":\"1044\",\"type\":\"CDSView\"}},\"id\":\"1043\",\"type\":\"GlyphRenderer\"},{\"attributes\":{\"formatter\":{\"id\":\"1046\",\"type\":\"BasicTickFormatter\"},\"ticker\":{\"id\":\"1022\",\"type\":\"BasicTicker\"}},\"id\":\"1021\",\"type\":\"LinearAxis\"},{\"attributes\":{\"source\":{\"id\":\"1040\",\"type\":\"ColumnDataSource\"}},\"id\":\"1044\",\"type\":\"CDSView\"},{\"attributes\":{},\"id\":\"1022\",\"type\":\"BasicTicker\"},{\"attributes\":{\"dimension\":1,\"ticker\":{\"id\":\"1022\",\"type\":\"BasicTicker\"}},\"id\":\"1025\",\"type\":\"Grid\"},{\"attributes\":{},\"id\":\"1046\",\"type\":\"BasicTickFormatter\"},{\"attributes\":{},\"id\":\"1048\",\"type\":\"BasicTickFormatter\"},{\"attributes\":{\"active_drag\":\"auto\",\"active_inspect\":\"auto\",\"active_multi\":null,\"active_scroll\":\"auto\",\"active_tap\":\"auto\",\"tools\":[{\"id\":\"1002\",\"type\":\"BoxZoomTool\"},{\"id\":\"1003\",\"type\":\"WheelZoomTool\"},{\"id\":\"1004\",\"type\":\"ResetTool\"}]},\"id\":\"1026\",\"type\":\"Toolbar\"},{\"attributes\":{},\"id\":\"1050\",\"type\":\"Selection\"}],\"root_ids\":[\"1005\"]},\"title\":\"Bokeh Application\",\"version\":\"1.2.0\"}};\n",
       "  var render_items = [{\"docid\":\"7de87bec-863a-419e-b257-a2a54b52643c\",\"roots\":{\"1005\":\"abe4a751-ec5d-4e66-bf61-659d85a541aa\"}}];\n",
       "  root.Bokeh.embed.embed_items_notebook(docs_json, render_items);\n",
       "\n",
       "  }\n",
       "  if (root.Bokeh !== undefined) {\n",
       "    embed_document(root);\n",
       "  } else {\n",
       "    var attempts = 0;\n",
       "    var timer = setInterval(function(root) {\n",
       "      if (root.Bokeh !== undefined) {\n",
       "        embed_document(root);\n",
       "        clearInterval(timer);\n",
       "      }\n",
       "      attempts++;\n",
       "      if (attempts > 100) {\n",
       "        console.log(\"Bokeh: ERROR: Unable to run BokehJS code because BokehJS library is missing\");\n",
       "        clearInterval(timer);\n",
       "      }\n",
       "    }, 10, root)\n",
       "  }\n",
       "})(window);"
      ],
      "application/vnd.bokehjs_exec.v0+json": ""
     },
     "metadata": {
      "application/vnd.bokehjs_exec.v0+json": {
       "id": "1005"
      }
     },
     "output_type": "display_data"
    }
   ],
   "source": [
    "p = figure(title='Omega Recension', width=800, height=600, x_range=(1.5, 22), y_range=(35.5, 47), tools= [BoxZoomTool(), WheelZoomTool(), ResetTool()])\n",
    "\n",
    "# coasts \n",
    "p.line(dfOmegaCoasts['longitude'],dfOmegaCoasts['latitude'], color='grey')\n",
    "\n",
    "# localities\n",
    "p.circle(np.array(dfTemp['longitude']),np.array(dfTemp['latitude']), fill_color='red',size=4, fill_alpha=.9, line_color='red',line_alpha=0.7)\n",
    "p.circle(np.array(dfOmegaCoasts['longitude']),np.array(dfOmegaCoasts['latitude']), fill_color='black',size=5, fill_alpha=.9, line_color='black',line_alpha=0.7)\n",
    "\n",
    "show(p);"
   ]
  },
  {
   "cell_type": "markdown",
   "metadata": {},
   "source": [
    "First series of problems related to the filtering:\n",
    "\n",
    "- inland localities with two categories and in type_sec \"coastal section\" are still in the dataframe;\n",
    "- the city of Baria (ΙD = 2.04.08.08), located on the coast, is not integrated to a \"coastal section\" by Ptolemy, so does not appear as \"coastal\" here;\n",
    "- problem for filtering the boundary points: they have two categories (\"river mouth\" & \"boundary\" for instance) except one, on the Mediterranean coast between Baetica and Tarraconensis, which is only \"boundary\". I don't know how to deal with this automatically for the filtering.\n"
   ]
  },
  {
   "cell_type": "markdown",
   "metadata": {},
   "source": [
    "### problem with the ordering of the sections"
   ]
  },
  {
   "cell_type": "code",
   "execution_count": 19,
   "metadata": {},
   "outputs": [
    {
     "data": {
      "text/html": [
       "\n",
       "\n",
       "\n",
       "\n",
       "\n",
       "\n",
       "  <div class=\"bk-root\" id=\"3bb53f3d-2100-4201-92b7-3338cbf5824b\" data-root-id=\"1132\"></div>\n"
      ]
     },
     "metadata": {},
     "output_type": "display_data"
    },
    {
     "data": {
      "application/javascript": [
       "(function(root) {\n",
       "  function embed_document(root) {\n",
       "    \n",
       "  var docs_json = {\"338710b5-b8f3-4888-a98b-1e2266f4e874\":{\"roots\":{\"references\":[{\"attributes\":{\"below\":[{\"id\":\"1143\",\"type\":\"LinearAxis\"}],\"center\":[{\"id\":\"1147\",\"type\":\"Grid\"},{\"id\":\"1152\",\"type\":\"Grid\"}],\"left\":[{\"id\":\"1148\",\"type\":\"LinearAxis\"}],\"plot_width\":800,\"renderers\":[{\"id\":\"1160\",\"type\":\"GlyphRenderer\"},{\"id\":\"1165\",\"type\":\"GlyphRenderer\"},{\"id\":\"1170\",\"type\":\"GlyphRenderer\"},{\"id\":\"1175\",\"type\":\"GlyphRenderer\"},{\"id\":\"1180\",\"type\":\"GlyphRenderer\"},{\"id\":\"1185\",\"type\":\"GlyphRenderer\"},{\"id\":\"1190\",\"type\":\"GlyphRenderer\"},{\"id\":\"1195\",\"type\":\"GlyphRenderer\"},{\"id\":\"1200\",\"type\":\"GlyphRenderer\"},{\"id\":\"1205\",\"type\":\"GlyphRenderer\"}],\"title\":{\"id\":\"1133\",\"type\":\"Title\"},\"toolbar\":{\"id\":\"1153\",\"type\":\"Toolbar\"},\"x_range\":{\"id\":\"1135\",\"type\":\"Range1d\"},\"x_scale\":{\"id\":\"1139\",\"type\":\"LinearScale\"},\"y_range\":{\"id\":\"1137\",\"type\":\"Range1d\"},\"y_scale\":{\"id\":\"1141\",\"type\":\"LinearScale\"}},\"id\":\"1132\",\"subtype\":\"Figure\",\"type\":\"Plot\"},{\"attributes\":{},\"id\":\"1224\",\"type\":\"Selection\"},{\"attributes\":{\"data_source\":{\"id\":\"1172\",\"type\":\"ColumnDataSource\"},\"glyph\":{\"id\":\"1173\",\"type\":\"Circle\"},\"hover_glyph\":null,\"muted_glyph\":null,\"nonselection_glyph\":{\"id\":\"1174\",\"type\":\"Circle\"},\"selection_glyph\":null,\"view\":{\"id\":\"1176\",\"type\":\"CDSView\"}},\"id\":\"1175\",\"type\":\"GlyphRenderer\"},{\"attributes\":{},\"id\":\"1131\",\"type\":\"ResetTool\"},{\"attributes\":{},\"id\":\"1225\",\"type\":\"UnionRenderers\"},{\"attributes\":{\"source\":{\"id\":\"1172\",\"type\":\"ColumnDataSource\"}},\"id\":\"1176\",\"type\":\"CDSView\"},{\"attributes\":{},\"id\":\"1130\",\"type\":\"WheelZoomTool\"},{\"attributes\":{},\"id\":\"1226\",\"type\":\"Selection\"},{\"attributes\":{\"callback\":null,\"data\":{\"x\":{\"__ndarray__\":\"AAAAAAAAKEBVVVVVVVUoQAAAAAAAgChAVVVVVVXVKUAAAAAAAAApQFVVVVVVVSlAAAAAAAAAKkAAAAAAAAArQAAAAAAAACxAVVVVVVVVLUAAAAAAAAAuQFVVVVVVVS9AVVVVVVXVL0AAAAAAAAAvQAAAAAAAADBAVVVVVVVVMEBVVVVVVdUwQAAAAAAAQDFAAAAAAACAMUBVVVVVVdUxQAAAAAAAgDJAAAAAAAAAMkAAAAAAAEAyQAAAAAAAgDJAAAAAAADAMkAAAAAAAAAzQAAAAAAAgDNAVVVVVVVVNEA=\",\"dtype\":\"float64\",\"shape\":[28]},\"y\":{\"__ndarray__\":\"q6qqqqqqQkAAAAAAAMBCQFVVVVVV9UJAq6qqqqoKQ0AAAAAAAEBDQKuqqqqqSkNAAAAAAABgQ0AAAAAAAGBDQKuqqqqqKkNAVVVVVVV1Q0AAAAAAAIBDQAAAAAAAwENAVVVVVVXVQ0AAAAAAAABEQAAAAAAAQERAVVVVVVVVREAAAAAAAGBEQAAAAAAAgERAAAAAAACARECrqqqqqqpEQAAAAAAAwERAAAAAAADgREAAAAAAAABFQFVVVVVVFUVAq6qqqqoqRUAAAAAAAEBFQAAAAAAAQEVAq6qqqqoqRUA=\",\"dtype\":\"float64\",\"shape\":[28]}},\"selected\":{\"id\":\"1234\",\"type\":\"Selection\"},\"selection_policy\":{\"id\":\"1235\",\"type\":\"UnionRenderers\"}},\"id\":\"1182\",\"type\":\"ColumnDataSource\"},{\"attributes\":{},\"id\":\"1227\",\"type\":\"UnionRenderers\"},{\"attributes\":{\"fill_alpha\":{\"value\":0.9},\"fill_color\":{\"value\":\"red\"},\"line_alpha\":{\"value\":0.7},\"line_color\":{\"value\":\"red\"},\"size\":{\"units\":\"screen\",\"value\":5},\"x\":{\"field\":\"x\"},\"y\":{\"field\":\"y\"}},\"id\":\"1178\",\"type\":\"Circle\"},{\"attributes\":{},\"id\":\"1228\",\"type\":\"Selection\"},{\"attributes\":{\"callback\":null,\"end\":22,\"start\":1.5},\"id\":\"1135\",\"type\":\"Range1d\"},{\"attributes\":{\"fill_alpha\":{\"value\":0.1},\"fill_color\":{\"value\":\"#1f77b4\"},\"line_alpha\":{\"value\":0.1},\"line_color\":{\"value\":\"#1f77b4\"},\"size\":{\"units\":\"screen\",\"value\":5},\"x\":{\"field\":\"x\"},\"y\":{\"field\":\"y\"}},\"id\":\"1179\",\"type\":\"Circle\"},{\"attributes\":{},\"id\":\"1229\",\"type\":\"UnionRenderers\"},{\"attributes\":{\"data_source\":{\"id\":\"1177\",\"type\":\"ColumnDataSource\"},\"glyph\":{\"id\":\"1178\",\"type\":\"Circle\"},\"hover_glyph\":null,\"muted_glyph\":null,\"nonselection_glyph\":{\"id\":\"1179\",\"type\":\"Circle\"},\"selection_glyph\":null,\"view\":{\"id\":\"1181\",\"type\":\"CDSView\"}},\"id\":\"1180\",\"type\":\"GlyphRenderer\"},{\"attributes\":{\"callback\":null,\"end\":47,\"start\":35.5},\"id\":\"1137\",\"type\":\"Range1d\"},{\"attributes\":{},\"id\":\"1230\",\"type\":\"Selection\"},{\"attributes\":{},\"id\":\"1139\",\"type\":\"LinearScale\"},{\"attributes\":{\"source\":{\"id\":\"1177\",\"type\":\"ColumnDataSource\"}},\"id\":\"1181\",\"type\":\"CDSView\"},{\"attributes\":{},\"id\":\"1231\",\"type\":\"UnionRenderers\"},{\"attributes\":{},\"id\":\"1141\",\"type\":\"LinearScale\"},{\"attributes\":{\"callback\":null,\"data\":{\"x\":{\"__ndarray__\":\"AAAAAAAAMUA=\",\"dtype\":\"float64\",\"shape\":[1]},\"y\":{\"__ndarray__\":\"AAAAAACARUA=\",\"dtype\":\"float64\",\"shape\":[1]}},\"selected\":{\"id\":\"1236\",\"type\":\"Selection\"},\"selection_policy\":{\"id\":\"1237\",\"type\":\"UnionRenderers\"}},\"id\":\"1187\",\"type\":\"ColumnDataSource\"},{\"attributes\":{},\"id\":\"1232\",\"type\":\"Selection\"},{\"attributes\":{\"formatter\":{\"id\":\"1222\",\"type\":\"BasicTickFormatter\"},\"ticker\":{\"id\":\"1144\",\"type\":\"BasicTicker\"}},\"id\":\"1143\",\"type\":\"LinearAxis\"},{\"attributes\":{\"fill_alpha\":{\"value\":0.9},\"fill_color\":{\"value\":\"green\"},\"line_alpha\":{\"value\":0.7},\"line_color\":{\"value\":\"green\"},\"size\":{\"units\":\"screen\",\"value\":5},\"x\":{\"field\":\"x\"},\"y\":{\"field\":\"y\"}},\"id\":\"1183\",\"type\":\"Circle\"},{\"attributes\":{},\"id\":\"1233\",\"type\":\"UnionRenderers\"},{\"attributes\":{\"fill_alpha\":{\"value\":0.1},\"fill_color\":{\"value\":\"#1f77b4\"},\"line_alpha\":{\"value\":0.1},\"line_color\":{\"value\":\"#1f77b4\"},\"size\":{\"units\":\"screen\",\"value\":5},\"x\":{\"field\":\"x\"},\"y\":{\"field\":\"y\"}},\"id\":\"1184\",\"type\":\"Circle\"},{\"attributes\":{},\"id\":\"1144\",\"type\":\"BasicTicker\"},{\"attributes\":{},\"id\":\"1234\",\"type\":\"Selection\"},{\"attributes\":{\"data_source\":{\"id\":\"1182\",\"type\":\"ColumnDataSource\"},\"glyph\":{\"id\":\"1183\",\"type\":\"Circle\"},\"hover_glyph\":null,\"muted_glyph\":null,\"nonselection_glyph\":{\"id\":\"1184\",\"type\":\"Circle\"},\"selection_glyph\":null,\"view\":{\"id\":\"1186\",\"type\":\"CDSView\"}},\"id\":\"1185\",\"type\":\"GlyphRenderer\"},{\"attributes\":{\"ticker\":{\"id\":\"1144\",\"type\":\"BasicTicker\"}},\"id\":\"1147\",\"type\":\"Grid\"},{\"attributes\":{},\"id\":\"1235\",\"type\":\"UnionRenderers\"},{\"attributes\":{\"formatter\":{\"id\":\"1220\",\"type\":\"BasicTickFormatter\"},\"ticker\":{\"id\":\"1149\",\"type\":\"BasicTicker\"}},\"id\":\"1148\",\"type\":\"LinearAxis\"},{\"attributes\":{\"source\":{\"id\":\"1182\",\"type\":\"ColumnDataSource\"}},\"id\":\"1186\",\"type\":\"CDSView\"},{\"attributes\":{},\"id\":\"1236\",\"type\":\"Selection\"},{\"attributes\":{},\"id\":\"1149\",\"type\":\"BasicTicker\"},{\"attributes\":{},\"id\":\"1237\",\"type\":\"UnionRenderers\"},{\"attributes\":{\"dimension\":1,\"ticker\":{\"id\":\"1149\",\"type\":\"BasicTicker\"}},\"id\":\"1152\",\"type\":\"Grid\"},{\"attributes\":{\"fill_alpha\":{\"value\":0.9},\"fill_color\":{\"value\":\"orange\"},\"line_alpha\":{\"value\":0.7},\"line_color\":{\"value\":\"orange\"},\"size\":{\"units\":\"screen\",\"value\":5},\"x\":{\"field\":\"x\"},\"y\":{\"field\":\"y\"}},\"id\":\"1188\",\"type\":\"Circle\"},{\"attributes\":{},\"id\":\"1238\",\"type\":\"Selection\"},{\"attributes\":{\"active_drag\":\"auto\",\"active_inspect\":\"auto\",\"active_multi\":null,\"active_scroll\":\"auto\",\"active_tap\":\"auto\",\"tools\":[{\"id\":\"1129\",\"type\":\"BoxZoomTool\"},{\"id\":\"1130\",\"type\":\"WheelZoomTool\"},{\"id\":\"1131\",\"type\":\"ResetTool\"}]},\"id\":\"1153\",\"type\":\"Toolbar\"},{\"attributes\":{\"fill_alpha\":{\"value\":0.1},\"fill_color\":{\"value\":\"#1f77b4\"},\"line_alpha\":{\"value\":0.1},\"line_color\":{\"value\":\"#1f77b4\"},\"size\":{\"units\":\"screen\",\"value\":5},\"x\":{\"field\":\"x\"},\"y\":{\"field\":\"y\"}},\"id\":\"1189\",\"type\":\"Circle\"},{\"attributes\":{},\"id\":\"1239\",\"type\":\"UnionRenderers\"},{\"attributes\":{\"data_source\":{\"id\":\"1187\",\"type\":\"ColumnDataSource\"},\"glyph\":{\"id\":\"1188\",\"type\":\"Circle\"},\"hover_glyph\":null,\"muted_glyph\":null,\"nonselection_glyph\":{\"id\":\"1189\",\"type\":\"Circle\"},\"selection_glyph\":null,\"view\":{\"id\":\"1191\",\"type\":\"CDSView\"}},\"id\":\"1190\",\"type\":\"GlyphRenderer\"},{\"attributes\":{\"callback\":null,\"data\":{\"x\":{\"__ndarray__\":\"VVVVVVVVEEBVVVVVVVURQAAAAAAAACJAAAAAAAAAKECrqqqqqqoSQFVVVVVVVRRAVVVVVVVVFUAAAAAAAAAYQAAAAAAAABhAAAAAAAAAGEAAAAAAAAAXQKuqqqqqqhhAAAAAAAAAGUAAAAAAAAAaQKuqqqqqqhpAAAAAAAAAHUAAAAAAAAAeQAAAAAAAAB5Aq6qqqqqqHkAAAAAAAAAgQAAAAAAAACFAq6qqqqqqIUAAAAAAAIAiQAAAAAAAgCNAAAAAAACAJECrqqqqqqolQAAAAAAAgCVAq6qqqqqqJkAAAAAAAAAnQA==\",\"dtype\":\"float64\",\"shape\":[29]},\"y\":{\"__ndarray__\":\"VVVVVVXVQkAAAAAAAMBCQAAAAAAAgENAAAAAAACgQkCrqqqqqqpCQFVVVVVVlUJAAAAAAACAQkAAAAAAAGBCQKuqqqqqakJAq6qqqqoqQkAAAAAAAABCQFVVVVVVFUJAVVVVVVVVQkAAAAAAAEBCQKuqqqqqKkJAVVVVVVUVQkBVVVVVVRVCQAAAAAAAIEJAVVVVVVVVQkCrqqqqqgpCQAAAAAAAgEJAAAAAAADAQkAAAAAAAKBCQAAAAAAAoEJAAAAAAACgQkCrqqqqqopCQFVVVVVVlUJAq6qqqqqKQkCrqqqqqipCQA==\",\"dtype\":\"float64\",\"shape\":[29]}},\"selected\":{\"id\":\"1224\",\"type\":\"Selection\"},\"selection_policy\":{\"id\":\"1225\",\"type\":\"UnionRenderers\"}},\"id\":\"1157\",\"type\":\"ColumnDataSource\"},{\"attributes\":{},\"id\":\"1240\",\"type\":\"Selection\"},{\"attributes\":{\"source\":{\"id\":\"1187\",\"type\":\"ColumnDataSource\"}},\"id\":\"1191\",\"type\":\"CDSView\"},{\"attributes\":{\"line_color\":\"grey\",\"x\":{\"field\":\"x\"},\"y\":{\"field\":\"y\"}},\"id\":\"1158\",\"type\":\"Line\"},{\"attributes\":{},\"id\":\"1241\",\"type\":\"UnionRenderers\"},{\"attributes\":{\"callback\":null,\"data\":{},\"selected\":{\"id\":\"1240\",\"type\":\"Selection\"},\"selection_policy\":{\"id\":\"1241\",\"type\":\"UnionRenderers\"}},\"id\":\"1197\",\"type\":\"ColumnDataSource\"},{\"attributes\":{},\"id\":\"1242\",\"type\":\"Selection\"},{\"attributes\":{\"line_alpha\":0.1,\"line_color\":\"#1f77b4\",\"x\":{\"field\":\"x\"},\"y\":{\"field\":\"y\"}},\"id\":\"1159\",\"type\":\"Line\"},{\"attributes\":{\"callback\":null,\"data\":{\"x\":{\"__ndarray__\":\"AAAAAACAJ0A=\",\"dtype\":\"float64\",\"shape\":[1]},\"y\":{\"__ndarray__\":\"VVVVVVWVQkA=\",\"dtype\":\"float64\",\"shape\":[1]}},\"selected\":{\"id\":\"1238\",\"type\":\"Selection\"},\"selection_policy\":{\"id\":\"1239\",\"type\":\"UnionRenderers\"}},\"id\":\"1192\",\"type\":\"ColumnDataSource\"},{\"attributes\":{},\"id\":\"1243\",\"type\":\"UnionRenderers\"},{\"attributes\":{\"data_source\":{\"id\":\"1157\",\"type\":\"ColumnDataSource\"},\"glyph\":{\"id\":\"1158\",\"type\":\"Line\"},\"hover_glyph\":null,\"muted_glyph\":null,\"nonselection_glyph\":{\"id\":\"1159\",\"type\":\"Line\"},\"selection_glyph\":null,\"view\":{\"id\":\"1161\",\"type\":\"CDSView\"}},\"id\":\"1160\",\"type\":\"GlyphRenderer\"},{\"attributes\":{\"fill_alpha\":{\"value\":0.9},\"fill_color\":{\"value\":\"grey\"},\"line_alpha\":{\"value\":0.7},\"line_color\":{\"value\":\"grey\"},\"size\":{\"units\":\"screen\",\"value\":5},\"x\":{\"field\":\"x\"},\"y\":{\"field\":\"y\"}},\"id\":\"1193\",\"type\":\"Circle\"},{\"attributes\":{\"bottom_units\":\"screen\",\"fill_alpha\":{\"value\":0.5},\"fill_color\":{\"value\":\"lightgrey\"},\"left_units\":\"screen\",\"level\":\"overlay\",\"line_alpha\":{\"value\":1.0},\"line_color\":{\"value\":\"black\"},\"line_dash\":[4,4],\"line_width\":{\"value\":2},\"render_mode\":\"css\",\"right_units\":\"screen\",\"top_units\":\"screen\"},\"id\":\"1244\",\"type\":\"BoxAnnotation\"},{\"attributes\":{\"source\":{\"id\":\"1157\",\"type\":\"ColumnDataSource\"}},\"id\":\"1161\",\"type\":\"CDSView\"},{\"attributes\":{\"fill_alpha\":{\"value\":0.1},\"fill_color\":{\"value\":\"#1f77b4\"},\"line_alpha\":{\"value\":0.1},\"line_color\":{\"value\":\"#1f77b4\"},\"size\":{\"units\":\"screen\",\"value\":5},\"x\":{\"field\":\"x\"},\"y\":{\"field\":\"y\"}},\"id\":\"1194\",\"type\":\"Circle\"},{\"attributes\":{\"data_source\":{\"id\":\"1192\",\"type\":\"ColumnDataSource\"},\"glyph\":{\"id\":\"1193\",\"type\":\"Circle\"},\"hover_glyph\":null,\"muted_glyph\":null,\"nonselection_glyph\":{\"id\":\"1194\",\"type\":\"Circle\"},\"selection_glyph\":null,\"view\":{\"id\":\"1196\",\"type\":\"CDSView\"}},\"id\":\"1195\",\"type\":\"GlyphRenderer\"},{\"attributes\":{\"callback\":null,\"data\":{\"x\":{\"__ndarray__\":\"VVVVVVVVDUAAAAAAAAAIQAAAAAAAAARAAAAAAAAAFEBVVVVVVVUUQKuqqqqqqhFAAAAAAAAAEUCrqqqqqqoUQAAAAAAAABZAAAAAAAAAIkAAAAAAAAAUQKuqqqqqqhRAq6qqqqqqFEBVVVVVVVUVQAAAAAAAABZAq6qqqqqqFECrqqqqqqoWQAAAAAAAABZAVVVVVVVVFUAAAAAAAAAWQKuqqqqqqhZAq6qqqqqqFkBVVVVVVVUVQAAAAAAAABVAq6qqqqqqFkAAAAAAAAAZQAAAAAAAABpAAAAAAAAAHUAAAAAAAIAgQAAAAAAAACJAq6qqqqqqJECrqqqqqqomQAAAAAAAgCdAAAAAAAAAKEAAAAAAAAAqQFVVVVVVVSpAAAAAAAAAK0AAAAAAAIArQKuqqqqqqixAVVVVVVVVLkAAAAAAAAAuQA==\",\"dtype\":\"float64\",\"shape\":[41]},\"y\":{\"__ndarray__\":\"AAAAAADgQkCrqqqqqupCQAAAAAAAIENAAAAAAACAQ0BVVVVVVbVDQAAAAAAAwENAAAAAAADgQ0AAAAAAACBEQFVVVVVVFURAVVVVVVUVREBVVVVVVVVEQKuqqqqqakRAq6qqqqqqRECrqqqqqupEQAAAAAAAIEVAAAAAAABARUAAAAAAAGBFQAAAAAAAoEVAVVVVVVXVRUAAAAAAAABGQKuqqqqqKkZAVVVVVVVVRkAAAAAAAIBGQFVVVVVVlUZAAAAAAADARkAAAAAAAMBGQAAAAAAAwEZAAAAAAACARkCrqqqqqupGQAAAAAAA4EZAVVVVVVXVRkAAAAAAAOBGQFVVVVVVtUZAAAAAAADARkBVVVVVVdVGQFVVVVVVVUZAAAAAAAAgRkBVVVVVVTVGQAAAAAAAgEZAq6qqqqqKRkCrqqqqqupGQA==\",\"dtype\":\"float64\",\"shape\":[41]}},\"selected\":{\"id\":\"1226\",\"type\":\"Selection\"},\"selection_policy\":{\"id\":\"1227\",\"type\":\"UnionRenderers\"}},\"id\":\"1162\",\"type\":\"ColumnDataSource\"},{\"attributes\":{\"source\":{\"id\":\"1192\",\"type\":\"ColumnDataSource\"}},\"id\":\"1196\",\"type\":\"CDSView\"},{\"attributes\":{\"line_color\":\"grey\",\"x\":{\"field\":\"x\"},\"y\":{\"field\":\"y\"}},\"id\":\"1163\",\"type\":\"Line\"},{\"attributes\":{\"callback\":null,\"data\":{\"x\":[15,17,19,20.333],\"y\":[45.833,43,43.167,42.333]},\"selected\":{\"id\":\"1242\",\"type\":\"Selection\"},\"selection_policy\":{\"id\":\"1243\",\"type\":\"UnionRenderers\"}},\"id\":\"1202\",\"type\":\"ColumnDataSource\"},{\"attributes\":{\"line_alpha\":0.1,\"line_color\":\"#1f77b4\",\"x\":{\"field\":\"x\"},\"y\":{\"field\":\"y\"}},\"id\":\"1164\",\"type\":\"Line\"},{\"attributes\":{\"fill_alpha\":{\"value\":0.9},\"fill_color\":{\"value\":\"black\"},\"line_alpha\":{\"value\":0.7},\"size\":{\"units\":\"screen\",\"value\":5},\"x\":{\"value\":19},\"y\":{\"value\":43.167}},\"id\":\"1198\",\"type\":\"Circle\"},{\"attributes\":{\"data_source\":{\"id\":\"1162\",\"type\":\"ColumnDataSource\"},\"glyph\":{\"id\":\"1163\",\"type\":\"Line\"},\"hover_glyph\":null,\"muted_glyph\":null,\"nonselection_glyph\":{\"id\":\"1164\",\"type\":\"Line\"},\"selection_glyph\":null,\"view\":{\"id\":\"1166\",\"type\":\"CDSView\"}},\"id\":\"1165\",\"type\":\"GlyphRenderer\"},{\"attributes\":{\"fill_alpha\":{\"value\":0.1},\"fill_color\":{\"value\":\"#1f77b4\"},\"line_alpha\":{\"value\":0.1},\"line_color\":{\"value\":\"#1f77b4\"},\"size\":{\"units\":\"screen\",\"value\":5},\"x\":{\"value\":19},\"y\":{\"value\":43.167}},\"id\":\"1199\",\"type\":\"Circle\"},{\"attributes\":{\"data_source\":{\"id\":\"1197\",\"type\":\"ColumnDataSource\"},\"glyph\":{\"id\":\"1198\",\"type\":\"Circle\"},\"hover_glyph\":null,\"muted_glyph\":null,\"nonselection_glyph\":{\"id\":\"1199\",\"type\":\"Circle\"},\"selection_glyph\":null,\"view\":{\"id\":\"1201\",\"type\":\"CDSView\"}},\"id\":\"1200\",\"type\":\"GlyphRenderer\"},{\"attributes\":{\"source\":{\"id\":\"1162\",\"type\":\"ColumnDataSource\"}},\"id\":\"1166\",\"type\":\"CDSView\"},{\"attributes\":{\"callback\":null,\"data\":{\"x\":{\"__ndarray__\":\"VVVVVVVVEEBVVVVVVVURQAAAAAAAACJAAAAAAAAAKECrqqqqqqoSQFVVVVVVVRRAVVVVVVVVFUAAAAAAAAAYQAAAAAAAABhAAAAAAAAAGEAAAAAAAAAXQKuqqqqqqhhAAAAAAAAAGUAAAAAAAAAaQKuqqqqqqhpAAAAAAAAAHUAAAAAAAAAeQAAAAAAAAB5Aq6qqqqqqHkAAAAAAAAAgQAAAAAAAACFAq6qqqqqqIUAAAAAAAIAiQAAAAAAAgCNAAAAAAACAJECrqqqqqqolQAAAAAAAgCVAq6qqqqqqJkAAAAAAAAAnQA==\",\"dtype\":\"float64\",\"shape\":[29]},\"y\":{\"__ndarray__\":\"VVVVVVXVQkAAAAAAAMBCQAAAAAAAgENAAAAAAACgQkCrqqqqqqpCQFVVVVVVlUJAAAAAAACAQkAAAAAAAGBCQKuqqqqqakJAq6qqqqoqQkAAAAAAAABCQFVVVVVVFUJAVVVVVVVVQkAAAAAAAEBCQKuqqqqqKkJAVVVVVVUVQkBVVVVVVRVCQAAAAAAAIEJAVVVVVVVVQkCrqqqqqgpCQAAAAAAAgEJAAAAAAADAQkAAAAAAAKBCQAAAAAAAoEJAAAAAAACgQkCrqqqqqopCQFVVVVVVlUJAq6qqqqqKQkCrqqqqqipCQA==\",\"dtype\":\"float64\",\"shape\":[29]}},\"selected\":{\"id\":\"1230\",\"type\":\"Selection\"},\"selection_policy\":{\"id\":\"1231\",\"type\":\"UnionRenderers\"}},\"id\":\"1172\",\"type\":\"ColumnDataSource\"},{\"attributes\":{\"source\":{\"id\":\"1197\",\"type\":\"ColumnDataSource\"}},\"id\":\"1201\",\"type\":\"CDSView\"},{\"attributes\":{\"callback\":null,\"data\":{\"x\":{\"__ndarray__\":\"AAAAAAAAKEBVVVVVVVUoQAAAAAAAgChAVVVVVVXVKUAAAAAAAAApQFVVVVVVVSlAAAAAAAAAKkAAAAAAAAArQAAAAAAAACxAVVVVVVVVLUAAAAAAAAAuQFVVVVVVVS9AVVVVVVXVL0AAAAAAAAAvQAAAAAAAADBAVVVVVVVVMEBVVVVVVdUwQAAAAAAAQDFAAAAAAACAMUBVVVVVVdUxQAAAAAAAgDJAAAAAAAAAMkAAAAAAAEAyQAAAAAAAgDJAAAAAAADAMkAAAAAAAAAzQAAAAAAAgDNAVVVVVVVVNEA=\",\"dtype\":\"float64\",\"shape\":[28]},\"y\":{\"__ndarray__\":\"q6qqqqqqQkAAAAAAAMBCQFVVVVVV9UJAq6qqqqoKQ0AAAAAAAEBDQKuqqqqqSkNAAAAAAABgQ0AAAAAAAGBDQKuqqqqqKkNAVVVVVVV1Q0AAAAAAAIBDQAAAAAAAwENAVVVVVVXVQ0AAAAAAAABEQAAAAAAAQERAVVVVVVVVREAAAAAAAGBEQAAAAAAAgERAAAAAAACARECrqqqqqqpEQAAAAAAAwERAAAAAAADgREAAAAAAAABFQFVVVVVVFUVAq6qqqqoqRUAAAAAAAEBFQAAAAAAAQEVAq6qqqqoqRUA=\",\"dtype\":\"float64\",\"shape\":[28]}},\"selected\":{\"id\":\"1228\",\"type\":\"Selection\"},\"selection_policy\":{\"id\":\"1229\",\"type\":\"UnionRenderers\"}},\"id\":\"1167\",\"type\":\"ColumnDataSource\"},{\"attributes\":{\"line_color\":\"grey\",\"x\":{\"field\":\"x\"},\"y\":{\"field\":\"y\"}},\"id\":\"1168\",\"type\":\"Line\"},{\"attributes\":{\"line_alpha\":0.8,\"x\":{\"field\":\"x\"},\"y\":{\"field\":\"y\"}},\"id\":\"1203\",\"type\":\"Line\"},{\"attributes\":{\"overlay\":{\"id\":\"1244\",\"type\":\"BoxAnnotation\"}},\"id\":\"1129\",\"type\":\"BoxZoomTool\"},{\"attributes\":{\"line_alpha\":0.1,\"line_color\":\"#1f77b4\",\"x\":{\"field\":\"x\"},\"y\":{\"field\":\"y\"}},\"id\":\"1169\",\"type\":\"Line\"},{\"attributes\":{\"line_alpha\":0.1,\"line_color\":\"#1f77b4\",\"x\":{\"field\":\"x\"},\"y\":{\"field\":\"y\"}},\"id\":\"1204\",\"type\":\"Line\"},{\"attributes\":{\"data_source\":{\"id\":\"1167\",\"type\":\"ColumnDataSource\"},\"glyph\":{\"id\":\"1168\",\"type\":\"Line\"},\"hover_glyph\":null,\"muted_glyph\":null,\"nonselection_glyph\":{\"id\":\"1169\",\"type\":\"Line\"},\"selection_glyph\":null,\"view\":{\"id\":\"1171\",\"type\":\"CDSView\"}},\"id\":\"1170\",\"type\":\"GlyphRenderer\"},{\"attributes\":{\"data_source\":{\"id\":\"1202\",\"type\":\"ColumnDataSource\"},\"glyph\":{\"id\":\"1203\",\"type\":\"Line\"},\"hover_glyph\":null,\"muted_glyph\":null,\"nonselection_glyph\":{\"id\":\"1204\",\"type\":\"Line\"},\"selection_glyph\":null,\"view\":{\"id\":\"1206\",\"type\":\"CDSView\"}},\"id\":\"1205\",\"type\":\"GlyphRenderer\"},{\"attributes\":{\"text\":\"Omega Recension\"},\"id\":\"1133\",\"type\":\"Title\"},{\"attributes\":{\"source\":{\"id\":\"1167\",\"type\":\"ColumnDataSource\"}},\"id\":\"1171\",\"type\":\"CDSView\"},{\"attributes\":{\"source\":{\"id\":\"1202\",\"type\":\"ColumnDataSource\"}},\"id\":\"1206\",\"type\":\"CDSView\"},{\"attributes\":{\"callback\":null,\"data\":{\"x\":{\"__ndarray__\":\"VVVVVVVVDUAAAAAAAAAIQAAAAAAAAARAAAAAAAAAFEBVVVVVVVUUQKuqqqqqqhFAAAAAAAAAEUCrqqqqqqoUQAAAAAAAABZAAAAAAAAAIkAAAAAAAAAUQKuqqqqqqhRAq6qqqqqqFEBVVVVVVVUVQAAAAAAAABZAq6qqqqqqFECrqqqqqqoWQAAAAAAAABZAVVVVVVVVFUAAAAAAAAAWQKuqqqqqqhZAq6qqqqqqFkBVVVVVVVUVQAAAAAAAABVAq6qqqqqqFkAAAAAAAAAZQAAAAAAAABpAAAAAAAAAHUAAAAAAAIAgQAAAAAAAACJAq6qqqqqqJECrqqqqqqomQAAAAAAAgCdAAAAAAAAAKEAAAAAAAAAqQFVVVVVVVSpAAAAAAAAAK0AAAAAAAIArQKuqqqqqqixAVVVVVVVVLkAAAAAAAAAuQA==\",\"dtype\":\"float64\",\"shape\":[41]},\"y\":{\"__ndarray__\":\"AAAAAADgQkCrqqqqqupCQAAAAAAAIENAAAAAAACAQ0BVVVVVVbVDQAAAAAAAwENAAAAAAADgQ0AAAAAAACBEQFVVVVVVFURAVVVVVVUVREBVVVVVVVVEQKuqqqqqakRAq6qqqqqqRECrqqqqqupEQAAAAAAAIEVAAAAAAABARUAAAAAAAGBFQAAAAAAAoEVAVVVVVVXVRUAAAAAAAABGQKuqqqqqKkZAVVVVVVVVRkAAAAAAAIBGQFVVVVVVlUZAAAAAAADARkAAAAAAAMBGQAAAAAAAwEZAAAAAAACARkCrqqqqqupGQAAAAAAA4EZAVVVVVVXVRkAAAAAAAOBGQFVVVVVVtUZAAAAAAADARkBVVVVVVdVGQFVVVVVVVUZAAAAAAAAgRkBVVVVVVTVGQAAAAAAAgEZAq6qqqqqKRkCrqqqqqupGQA==\",\"dtype\":\"float64\",\"shape\":[41]}},\"selected\":{\"id\":\"1232\",\"type\":\"Selection\"},\"selection_policy\":{\"id\":\"1233\",\"type\":\"UnionRenderers\"}},\"id\":\"1177\",\"type\":\"ColumnDataSource\"},{\"attributes\":{},\"id\":\"1220\",\"type\":\"BasicTickFormatter\"},{\"attributes\":{\"fill_alpha\":{\"value\":0.9},\"fill_color\":{\"value\":\"blue\"},\"line_alpha\":{\"value\":0.7},\"line_color\":{\"value\":\"blue\"},\"size\":{\"units\":\"screen\",\"value\":5},\"x\":{\"field\":\"x\"},\"y\":{\"field\":\"y\"}},\"id\":\"1173\",\"type\":\"Circle\"},{\"attributes\":{},\"id\":\"1222\",\"type\":\"BasicTickFormatter\"},{\"attributes\":{\"fill_alpha\":{\"value\":0.1},\"fill_color\":{\"value\":\"#1f77b4\"},\"line_alpha\":{\"value\":0.1},\"line_color\":{\"value\":\"#1f77b4\"},\"size\":{\"units\":\"screen\",\"value\":5},\"x\":{\"field\":\"x\"},\"y\":{\"field\":\"y\"}},\"id\":\"1174\",\"type\":\"Circle\"}],\"root_ids\":[\"1132\"]},\"title\":\"Bokeh Application\",\"version\":\"1.2.0\"}};\n",
       "  var render_items = [{\"docid\":\"338710b5-b8f3-4888-a98b-1e2266f4e874\",\"roots\":{\"1132\":\"3bb53f3d-2100-4201-92b7-3338cbf5824b\"}}];\n",
       "  root.Bokeh.embed.embed_items_notebook(docs_json, render_items);\n",
       "\n",
       "  }\n",
       "  if (root.Bokeh !== undefined) {\n",
       "    embed_document(root);\n",
       "  } else {\n",
       "    var attempts = 0;\n",
       "    var timer = setInterval(function(root) {\n",
       "      if (root.Bokeh !== undefined) {\n",
       "        embed_document(root);\n",
       "        clearInterval(timer);\n",
       "      }\n",
       "      attempts++;\n",
       "      if (attempts > 100) {\n",
       "        console.log(\"Bokeh: ERROR: Unable to run BokehJS code because BokehJS library is missing\");\n",
       "        clearInterval(timer);\n",
       "      }\n",
       "    }, 10, root)\n",
       "  }\n",
       "})(window);"
      ],
      "application/vnd.bokehjs_exec.v0+json": ""
     },
     "metadata": {
      "application/vnd.bokehjs_exec.v0+json": {
       "id": "1132"
      }
     },
     "output_type": "display_data"
    }
   ],
   "source": [
    "# parts of coasts and inland boundaries\n",
    "a = dfOmegaCoasts[:29] #blau\n",
    "b = dfOmegaCoasts[29:70] #rot\n",
    "c = dfOmegaCoasts[70:99] #grün\n",
    "pyrenees = dfTemp[(dfTemp.ID == '2.06.11.03')] #orange\n",
    "baria = dfTemp[(dfTemp.ID == '2.04.08.08')] #grey\n",
    "\n",
    "p = figure(title='Omega Recension', width=800, height=600, x_range=(1.5, 22), y_range=(35.5, 47), tools= [BoxZoomTool(), WheelZoomTool(), ResetTool()])\n",
    "\n",
    "# coasts \n",
    "p.line(a['longitude'],a['latitude'], color='grey')\n",
    "p.line(b['longitude'],b['latitude'], color='grey')\n",
    "p.line(c['longitude'],c['latitude'], color='grey')\n",
    "\n",
    "# localities\n",
    "p.circle(np.array(a['longitude']),np.array(a['latitude']), fill_color='blue',size=5, fill_alpha=.9, line_color='blue',line_alpha=0.7)\n",
    "p.circle(np.array(b['longitude']),np.array(b['latitude']), fill_color='red',size=5, fill_alpha=.9, line_color='red',line_alpha=0.7)\n",
    "p.circle(np.array(c['longitude']),np.array(c['latitude']), fill_color='green',size=5, fill_alpha=.9, line_color='green',line_alpha=0.7)\n",
    "p.circle(np.array(pyrenees['longitude']),np.array(pyrenees['latitude']), fill_color='orange',size=5, fill_alpha=.9, line_color='orange',line_alpha=0.7)\n",
    "p.circle(np.array(baria['longitude']),np.array(baria['latitude']), fill_color='grey',size=5, fill_alpha=.9, line_color='grey',line_alpha=0.7)\n",
    "\n",
    "#additional point in the Pyrenees\n",
    "p.circle(19,43.167, fill_color='black',size=5, fill_alpha=.9, line_color='black',line_alpha=0.7)\n",
    "\n",
    "# additional line for the Pyrenees\n",
    "p.line([15,17,19,20.333], [45.833,43,43.167,42.333], line_alpha=0.8, color=\"black\")\n",
    "\n",
    "\n",
    "show(p);"
   ]
  },
  {
   "cell_type": "markdown",
   "metadata": {},
   "source": [
    "The blue coast is described in chap. 2.4 of the catalogue, the red in chap. 2.5 and 2.6, and the green in chap. 2.6.\n",
    "\n",
    "The order in the catalogue is:\n",
    "- beginning of the blue coast from west\n",
    "- Baria (last city on the blue coast, near the eastern end of the blue coastline)\n",
    "- rest of the blue coast from west to east (except Baria)\n",
    "- red coast from south to north\n",
    "- point in the middle of the Pyrenees (orange here on the map, ID = 2.06.11.03)\n",
    "- green coast from south to north\n",
    "\n",
    "Finally, in chap. 2.7, which is not part of the Iberian chapters, an additional point in the Pyrenees: long. 19°, lat. 43°10', here in black on the map."
   ]
  },
  {
   "cell_type": "code",
   "execution_count": null,
   "metadata": {},
   "outputs": [],
   "source": []
  }
 ],
 "metadata": {
  "kernelspec": {
   "display_name": "Python 3",
   "language": "python",
   "name": "python3"
  },
  "language_info": {
   "codemirror_mode": {
    "name": "ipython",
    "version": 3
   },
   "file_extension": ".py",
   "mimetype": "text/x-python",
   "name": "python",
   "nbconvert_exporter": "python",
   "pygments_lexer": "ipython3",
   "version": "3.7.1"
  },
  "latex_envs": {
   "LaTeX_envs_menu_present": true,
   "autocomplete": true,
   "bibliofile": "biblio.bib",
   "cite_by": "apalike",
   "current_citInitial": 1,
   "eqLabelWithNumbers": true,
   "eqNumInitial": 1,
   "hotkeys": {
    "equation": "Ctrl-E",
    "itemize": "Ctrl-I"
   },
   "labels_anchors": false,
   "latex_user_defs": false,
   "report_style_numbering": false,
   "user_envs_cfg": false
  },
  "toc": {
   "colors": {
    "hover_highlight": "#DAA520",
    "running_highlight": "#FF0000",
    "selected_highlight": "#FFD700"
   },
   "moveMenuLeft": true,
   "navigate_menu": false,
   "number_sections": true,
   "sideBar": true,
   "threshold": 4,
   "toc_cell": false,
   "toc_section_display": "block",
   "toc_window_display": true,
   "widenNotebook": true
  }
 },
 "nbformat": 4,
 "nbformat_minor": 4
}
