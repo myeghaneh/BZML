{
 "cells": [
  {
   "cell_type": "code",
   "execution_count": 6,
   "metadata": {},
   "outputs": [],
   "source": [
    "import zenodo_get"
   ]
  },
  {
   "cell_type": "markdown",
   "metadata": {},
   "source": [
    "## Download  all the data"
   ]
  },
  {
   "cell_type": "code",
   "execution_count": 12,
   "metadata": {},
   "outputs": [
    {
     "name": "stderr",
     "output_type": "stream",
     "text": [
      "Title: Database of  abstracts in publications  on exoplanets  from the  NASA archive\n",
      "Keywords: publications on exoplanets, NASA data,  pandas, JSON\n",
      "Publication date: 2019-07-05\n",
      "DOI: 10.5281/zenodo.3269732\n",
      "Total size: 57.2 MB\n",
      "\n",
      "Link: https://zenodo.org/api/files/9b49485f-a86a-46e4-bb00-0b67a015cc61/dfConfirmedExoplanetsNASA.json.zip   size: 2.0 MB\n",
      "dfConfirmedExoplanetsNASA.json.zip is already downloaded correctly.\n",
      "\n",
      "Link: https://zenodo.org/api/files/9b49485f-a86a-46e4-bb00-0b67a015cc61/dfExoplanetsNASAabs.json.zip   size: 14.0 MB\n",
      "dfExoplanetsNASAabs.json.zip is already downloaded correctly.\n",
      "\n",
      "Link: https://zenodo.org/api/files/9b49485f-a86a-46e4-bb00-0b67a015cc61/dfExoplanetsNASAabsSentences.json.zip   size: 16.1 MB\n",
      "dfExoplanetsNASAabsSentences.json.zip is already downloaded correctly.\n",
      "\n",
      "Link: https://zenodo.org/api/files/9b49485f-a86a-46e4-bb00-0b67a015cc61/dfExoplanetsNASA.json.zip   size: 25.1 MB\n",
      "dfExoplanetsNASA.json.zip is already downloaded correctly.\n",
      "\n",
      "Link: https://zenodo.org/api/files/9b49485f-a86a-46e4-bb00-0b67a015cc61/Readme.md   size: 0.0 MB\n",
      "Readme.md is already downloaded correctly.\n",
      "All files have been downloaded.\n"
     ]
    }
   ],
   "source": [
    "! zenodo_get.py http://dx.doi.org/10.5281/zenodo.3269732"
   ]
  },
  {
   "cell_type": "code",
   "execution_count": null,
   "metadata": {},
   "outputs": [],
   "source": []
  }
 ],
 "metadata": {
  "kernelspec": {
   "display_name": "Python 3",
   "language": "python",
   "name": "python3"
  },
  "language_info": {
   "codemirror_mode": {
    "name": "ipython",
    "version": 3
   },
   "file_extension": ".py",
   "mimetype": "text/x-python",
   "name": "python",
   "nbconvert_exporter": "python",
   "pygments_lexer": "ipython3",
   "version": "3.7.1"
  }
 },
 "nbformat": 4,
 "nbformat_minor": 4
}
