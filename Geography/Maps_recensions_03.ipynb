{
 "cells": [
  {
   "cell_type": "code",
   "execution_count": 33,
   "metadata": {},
   "outputs": [
    {
     "name": "stdout",
     "output_type": "stream",
     "text": [
      "The autoreload extension is already loaded. To reload it, use:\n",
      "  %reload_ext autoreload\n"
     ]
    }
   ],
   "source": [
    "from citableclass import Credentials, Citable, Json2DF\n",
    "%load_ext autoreload\n",
    "%autoreload 2"
   ]
  },
  {
   "cell_type": "code",
   "execution_count": 34,
   "metadata": {
    "extensions": {
     "jupyter_dashboards": {
      "version": 1,
      "views": {
       "grid_default": {
        "hidden": true
       },
       "report_default": {
        "hidden": true
       }
      }
     }
    }
   },
   "outputs": [],
   "source": [
    "import numpy as np\n",
    "import matplotlib.pyplot as plt\n",
    "import pandas as pd\n",
    "from utility import plot_maps,comp_plot_map_01,comp_plot_map_02\n",
    "\n"
   ]
  },
  {
   "cell_type": "code",
   "execution_count": 35,
   "metadata": {},
   "outputs": [
    {
     "data": {
      "text/html": [
       "\n",
       "    <div class=\"bk-root\">\n",
       "        <a href=\"https://bokeh.pydata.org\" target=\"_blank\" class=\"bk-logo bk-logo-small bk-logo-notebook\"></a>\n",
       "        <span id=\"2014\">Loading BokehJS ...</span>\n",
       "    </div>"
      ]
     },
     "metadata": {},
     "output_type": "display_data"
    },
    {
     "data": {
      "application/javascript": [
       "\n",
       "(function(root) {\n",
       "  function now() {\n",
       "    return new Date();\n",
       "  }\n",
       "\n",
       "  var force = true;\n",
       "\n",
       "  if (typeof (root._bokeh_onload_callbacks) === \"undefined\" || force === true) {\n",
       "    root._bokeh_onload_callbacks = [];\n",
       "    root._bokeh_is_loading = undefined;\n",
       "  }\n",
       "\n",
       "  var JS_MIME_TYPE = 'application/javascript';\n",
       "  var HTML_MIME_TYPE = 'text/html';\n",
       "  var EXEC_MIME_TYPE = 'application/vnd.bokehjs_exec.v0+json';\n",
       "  var CLASS_NAME = 'output_bokeh rendered_html';\n",
       "\n",
       "  /**\n",
       "   * Render data to the DOM node\n",
       "   */\n",
       "  function render(props, node) {\n",
       "    var script = document.createElement(\"script\");\n",
       "    node.appendChild(script);\n",
       "  }\n",
       "\n",
       "  /**\n",
       "   * Handle when an output is cleared or removed\n",
       "   */\n",
       "  function handleClearOutput(event, handle) {\n",
       "    var cell = handle.cell;\n",
       "\n",
       "    var id = cell.output_area._bokeh_element_id;\n",
       "    var server_id = cell.output_area._bokeh_server_id;\n",
       "    // Clean up Bokeh references\n",
       "    if (id != null && id in Bokeh.index) {\n",
       "      Bokeh.index[id].model.document.clear();\n",
       "      delete Bokeh.index[id];\n",
       "    }\n",
       "\n",
       "    if (server_id !== undefined) {\n",
       "      // Clean up Bokeh references\n",
       "      var cmd = \"from bokeh.io.state import curstate; print(curstate().uuid_to_server['\" + server_id + \"'].get_sessions()[0].document.roots[0]._id)\";\n",
       "      cell.notebook.kernel.execute(cmd, {\n",
       "        iopub: {\n",
       "          output: function(msg) {\n",
       "            var id = msg.content.text.trim();\n",
       "            if (id in Bokeh.index) {\n",
       "              Bokeh.index[id].model.document.clear();\n",
       "              delete Bokeh.index[id];\n",
       "            }\n",
       "          }\n",
       "        }\n",
       "      });\n",
       "      // Destroy server and session\n",
       "      var cmd = \"import bokeh.io.notebook as ion; ion.destroy_server('\" + server_id + \"')\";\n",
       "      cell.notebook.kernel.execute(cmd);\n",
       "    }\n",
       "  }\n",
       "\n",
       "  /**\n",
       "   * Handle when a new output is added\n",
       "   */\n",
       "  function handleAddOutput(event, handle) {\n",
       "    var output_area = handle.output_area;\n",
       "    var output = handle.output;\n",
       "\n",
       "    // limit handleAddOutput to display_data with EXEC_MIME_TYPE content only\n",
       "    if ((output.output_type != \"display_data\") || (!output.data.hasOwnProperty(EXEC_MIME_TYPE))) {\n",
       "      return\n",
       "    }\n",
       "\n",
       "    var toinsert = output_area.element.find(\".\" + CLASS_NAME.split(' ')[0]);\n",
       "\n",
       "    if (output.metadata[EXEC_MIME_TYPE][\"id\"] !== undefined) {\n",
       "      toinsert[toinsert.length - 1].firstChild.textContent = output.data[JS_MIME_TYPE];\n",
       "      // store reference to embed id on output_area\n",
       "      output_area._bokeh_element_id = output.metadata[EXEC_MIME_TYPE][\"id\"];\n",
       "    }\n",
       "    if (output.metadata[EXEC_MIME_TYPE][\"server_id\"] !== undefined) {\n",
       "      var bk_div = document.createElement(\"div\");\n",
       "      bk_div.innerHTML = output.data[HTML_MIME_TYPE];\n",
       "      var script_attrs = bk_div.children[0].attributes;\n",
       "      for (var i = 0; i < script_attrs.length; i++) {\n",
       "        toinsert[toinsert.length - 1].firstChild.setAttribute(script_attrs[i].name, script_attrs[i].value);\n",
       "      }\n",
       "      // store reference to server id on output_area\n",
       "      output_area._bokeh_server_id = output.metadata[EXEC_MIME_TYPE][\"server_id\"];\n",
       "    }\n",
       "  }\n",
       "\n",
       "  function register_renderer(events, OutputArea) {\n",
       "\n",
       "    function append_mime(data, metadata, element) {\n",
       "      // create a DOM node to render to\n",
       "      var toinsert = this.create_output_subarea(\n",
       "        metadata,\n",
       "        CLASS_NAME,\n",
       "        EXEC_MIME_TYPE\n",
       "      );\n",
       "      this.keyboard_manager.register_events(toinsert);\n",
       "      // Render to node\n",
       "      var props = {data: data, metadata: metadata[EXEC_MIME_TYPE]};\n",
       "      render(props, toinsert[toinsert.length - 1]);\n",
       "      element.append(toinsert);\n",
       "      return toinsert\n",
       "    }\n",
       "\n",
       "    /* Handle when an output is cleared or removed */\n",
       "    events.on('clear_output.CodeCell', handleClearOutput);\n",
       "    events.on('delete.Cell', handleClearOutput);\n",
       "\n",
       "    /* Handle when a new output is added */\n",
       "    events.on('output_added.OutputArea', handleAddOutput);\n",
       "\n",
       "    /**\n",
       "     * Register the mime type and append_mime function with output_area\n",
       "     */\n",
       "    OutputArea.prototype.register_mime_type(EXEC_MIME_TYPE, append_mime, {\n",
       "      /* Is output safe? */\n",
       "      safe: true,\n",
       "      /* Index of renderer in `output_area.display_order` */\n",
       "      index: 0\n",
       "    });\n",
       "  }\n",
       "\n",
       "  // register the mime type if in Jupyter Notebook environment and previously unregistered\n",
       "  if (root.Jupyter !== undefined) {\n",
       "    var events = require('base/js/events');\n",
       "    var OutputArea = require('notebook/js/outputarea').OutputArea;\n",
       "\n",
       "    if (OutputArea.prototype.mime_types().indexOf(EXEC_MIME_TYPE) == -1) {\n",
       "      register_renderer(events, OutputArea);\n",
       "    }\n",
       "  }\n",
       "\n",
       "  \n",
       "  if (typeof (root._bokeh_timeout) === \"undefined\" || force === true) {\n",
       "    root._bokeh_timeout = Date.now() + 5000;\n",
       "    root._bokeh_failed_load = false;\n",
       "  }\n",
       "\n",
       "  var NB_LOAD_WARNING = {'data': {'text/html':\n",
       "     \"<div style='background-color: #fdd'>\\n\"+\n",
       "     \"<p>\\n\"+\n",
       "     \"BokehJS does not appear to have successfully loaded. If loading BokehJS from CDN, this \\n\"+\n",
       "     \"may be due to a slow or bad network connection. Possible fixes:\\n\"+\n",
       "     \"</p>\\n\"+\n",
       "     \"<ul>\\n\"+\n",
       "     \"<li>re-rerun `output_notebook()` to attempt to load from CDN again, or</li>\\n\"+\n",
       "     \"<li>use INLINE resources instead, as so:</li>\\n\"+\n",
       "     \"</ul>\\n\"+\n",
       "     \"<code>\\n\"+\n",
       "     \"from bokeh.resources import INLINE\\n\"+\n",
       "     \"output_notebook(resources=INLINE)\\n\"+\n",
       "     \"</code>\\n\"+\n",
       "     \"</div>\"}};\n",
       "\n",
       "  function display_loaded() {\n",
       "    var el = document.getElementById(\"2014\");\n",
       "    if (el != null) {\n",
       "      el.textContent = \"BokehJS is loading...\";\n",
       "    }\n",
       "    if (root.Bokeh !== undefined) {\n",
       "      if (el != null) {\n",
       "        el.textContent = \"BokehJS \" + root.Bokeh.version + \" successfully loaded.\";\n",
       "      }\n",
       "    } else if (Date.now() < root._bokeh_timeout) {\n",
       "      setTimeout(display_loaded, 100)\n",
       "    }\n",
       "  }\n",
       "\n",
       "\n",
       "  function run_callbacks() {\n",
       "    try {\n",
       "      root._bokeh_onload_callbacks.forEach(function(callback) { callback() });\n",
       "    }\n",
       "    finally {\n",
       "      delete root._bokeh_onload_callbacks\n",
       "    }\n",
       "    console.info(\"Bokeh: all callbacks have finished\");\n",
       "  }\n",
       "\n",
       "  function load_libs(js_urls, callback) {\n",
       "    root._bokeh_onload_callbacks.push(callback);\n",
       "    if (root._bokeh_is_loading > 0) {\n",
       "      console.log(\"Bokeh: BokehJS is being loaded, scheduling callback at\", now());\n",
       "      return null;\n",
       "    }\n",
       "    if (js_urls == null || js_urls.length === 0) {\n",
       "      run_callbacks();\n",
       "      return null;\n",
       "    }\n",
       "    console.log(\"Bokeh: BokehJS not loaded, scheduling load and callback at\", now());\n",
       "    root._bokeh_is_loading = js_urls.length;\n",
       "    for (var i = 0; i < js_urls.length; i++) {\n",
       "      var url = js_urls[i];\n",
       "      var s = document.createElement('script');\n",
       "      s.src = url;\n",
       "      s.async = false;\n",
       "      s.onreadystatechange = s.onload = function() {\n",
       "        root._bokeh_is_loading--;\n",
       "        if (root._bokeh_is_loading === 0) {\n",
       "          console.log(\"Bokeh: all BokehJS libraries loaded\");\n",
       "          run_callbacks()\n",
       "        }\n",
       "      };\n",
       "      s.onerror = function() {\n",
       "        console.warn(\"failed to load library \" + url);\n",
       "      };\n",
       "      console.log(\"Bokeh: injecting script tag for BokehJS library: \", url);\n",
       "      document.getElementsByTagName(\"head\")[0].appendChild(s);\n",
       "    }\n",
       "  };var element = document.getElementById(\"2014\");\n",
       "  if (element == null) {\n",
       "    console.log(\"Bokeh: ERROR: autoload.js configured with elementid '2014' but no matching script tag was found. \")\n",
       "    return false;\n",
       "  }\n",
       "\n",
       "  var js_urls = [\"https://cdn.pydata.org/bokeh/release/bokeh-1.0.2.min.js\", \"https://cdn.pydata.org/bokeh/release/bokeh-widgets-1.0.2.min.js\", \"https://cdn.pydata.org/bokeh/release/bokeh-tables-1.0.2.min.js\", \"https://cdn.pydata.org/bokeh/release/bokeh-gl-1.0.2.min.js\"];\n",
       "\n",
       "  var inline_js = [\n",
       "    function(Bokeh) {\n",
       "      Bokeh.set_log_level(\"info\");\n",
       "    },\n",
       "    \n",
       "    function(Bokeh) {\n",
       "      \n",
       "    },\n",
       "    function(Bokeh) {\n",
       "      console.log(\"Bokeh: injecting CSS: https://cdn.pydata.org/bokeh/release/bokeh-1.0.2.min.css\");\n",
       "      Bokeh.embed.inject_css(\"https://cdn.pydata.org/bokeh/release/bokeh-1.0.2.min.css\");\n",
       "      console.log(\"Bokeh: injecting CSS: https://cdn.pydata.org/bokeh/release/bokeh-widgets-1.0.2.min.css\");\n",
       "      Bokeh.embed.inject_css(\"https://cdn.pydata.org/bokeh/release/bokeh-widgets-1.0.2.min.css\");\n",
       "      console.log(\"Bokeh: injecting CSS: https://cdn.pydata.org/bokeh/release/bokeh-tables-1.0.2.min.css\");\n",
       "      Bokeh.embed.inject_css(\"https://cdn.pydata.org/bokeh/release/bokeh-tables-1.0.2.min.css\");\n",
       "    }\n",
       "  ];\n",
       "\n",
       "  function run_inline_js() {\n",
       "    \n",
       "    if ((root.Bokeh !== undefined) || (force === true)) {\n",
       "      for (var i = 0; i < inline_js.length; i++) {\n",
       "        inline_js[i].call(root, root.Bokeh);\n",
       "      }if (force === true) {\n",
       "        display_loaded();\n",
       "      }} else if (Date.now() < root._bokeh_timeout) {\n",
       "      setTimeout(run_inline_js, 100);\n",
       "    } else if (!root._bokeh_failed_load) {\n",
       "      console.log(\"Bokeh: BokehJS failed to load within specified timeout.\");\n",
       "      root._bokeh_failed_load = true;\n",
       "    } else if (force !== true) {\n",
       "      var cell = $(document.getElementById(\"2014\")).parents('.cell').data().cell;\n",
       "      cell.output_area.append_execute_result(NB_LOAD_WARNING)\n",
       "    }\n",
       "\n",
       "  }\n",
       "\n",
       "  if (root._bokeh_is_loading === 0) {\n",
       "    console.log(\"Bokeh: BokehJS loaded, going straight to plotting\");\n",
       "    run_inline_js();\n",
       "  } else {\n",
       "    load_libs(js_urls, function() {\n",
       "      console.log(\"Bokeh: BokehJS plotting callback run at\", now());\n",
       "      run_inline_js();\n",
       "    });\n",
       "  }\n",
       "}(window));"
      ],
      "application/vnd.bokehjs_load.v0+json": "\n(function(root) {\n  function now() {\n    return new Date();\n  }\n\n  var force = true;\n\n  if (typeof (root._bokeh_onload_callbacks) === \"undefined\" || force === true) {\n    root._bokeh_onload_callbacks = [];\n    root._bokeh_is_loading = undefined;\n  }\n\n  \n\n  \n  if (typeof (root._bokeh_timeout) === \"undefined\" || force === true) {\n    root._bokeh_timeout = Date.now() + 5000;\n    root._bokeh_failed_load = false;\n  }\n\n  var NB_LOAD_WARNING = {'data': {'text/html':\n     \"<div style='background-color: #fdd'>\\n\"+\n     \"<p>\\n\"+\n     \"BokehJS does not appear to have successfully loaded. If loading BokehJS from CDN, this \\n\"+\n     \"may be due to a slow or bad network connection. Possible fixes:\\n\"+\n     \"</p>\\n\"+\n     \"<ul>\\n\"+\n     \"<li>re-rerun `output_notebook()` to attempt to load from CDN again, or</li>\\n\"+\n     \"<li>use INLINE resources instead, as so:</li>\\n\"+\n     \"</ul>\\n\"+\n     \"<code>\\n\"+\n     \"from bokeh.resources import INLINE\\n\"+\n     \"output_notebook(resources=INLINE)\\n\"+\n     \"</code>\\n\"+\n     \"</div>\"}};\n\n  function display_loaded() {\n    var el = document.getElementById(\"2014\");\n    if (el != null) {\n      el.textContent = \"BokehJS is loading...\";\n    }\n    if (root.Bokeh !== undefined) {\n      if (el != null) {\n        el.textContent = \"BokehJS \" + root.Bokeh.version + \" successfully loaded.\";\n      }\n    } else if (Date.now() < root._bokeh_timeout) {\n      setTimeout(display_loaded, 100)\n    }\n  }\n\n\n  function run_callbacks() {\n    try {\n      root._bokeh_onload_callbacks.forEach(function(callback) { callback() });\n    }\n    finally {\n      delete root._bokeh_onload_callbacks\n    }\n    console.info(\"Bokeh: all callbacks have finished\");\n  }\n\n  function load_libs(js_urls, callback) {\n    root._bokeh_onload_callbacks.push(callback);\n    if (root._bokeh_is_loading > 0) {\n      console.log(\"Bokeh: BokehJS is being loaded, scheduling callback at\", now());\n      return null;\n    }\n    if (js_urls == null || js_urls.length === 0) {\n      run_callbacks();\n      return null;\n    }\n    console.log(\"Bokeh: BokehJS not loaded, scheduling load and callback at\", now());\n    root._bokeh_is_loading = js_urls.length;\n    for (var i = 0; i < js_urls.length; i++) {\n      var url = js_urls[i];\n      var s = document.createElement('script');\n      s.src = url;\n      s.async = false;\n      s.onreadystatechange = s.onload = function() {\n        root._bokeh_is_loading--;\n        if (root._bokeh_is_loading === 0) {\n          console.log(\"Bokeh: all BokehJS libraries loaded\");\n          run_callbacks()\n        }\n      };\n      s.onerror = function() {\n        console.warn(\"failed to load library \" + url);\n      };\n      console.log(\"Bokeh: injecting script tag for BokehJS library: \", url);\n      document.getElementsByTagName(\"head\")[0].appendChild(s);\n    }\n  };var element = document.getElementById(\"2014\");\n  if (element == null) {\n    console.log(\"Bokeh: ERROR: autoload.js configured with elementid '2014' but no matching script tag was found. \")\n    return false;\n  }\n\n  var js_urls = [\"https://cdn.pydata.org/bokeh/release/bokeh-1.0.2.min.js\", \"https://cdn.pydata.org/bokeh/release/bokeh-widgets-1.0.2.min.js\", \"https://cdn.pydata.org/bokeh/release/bokeh-tables-1.0.2.min.js\", \"https://cdn.pydata.org/bokeh/release/bokeh-gl-1.0.2.min.js\"];\n\n  var inline_js = [\n    function(Bokeh) {\n      Bokeh.set_log_level(\"info\");\n    },\n    \n    function(Bokeh) {\n      \n    },\n    function(Bokeh) {\n      console.log(\"Bokeh: injecting CSS: https://cdn.pydata.org/bokeh/release/bokeh-1.0.2.min.css\");\n      Bokeh.embed.inject_css(\"https://cdn.pydata.org/bokeh/release/bokeh-1.0.2.min.css\");\n      console.log(\"Bokeh: injecting CSS: https://cdn.pydata.org/bokeh/release/bokeh-widgets-1.0.2.min.css\");\n      Bokeh.embed.inject_css(\"https://cdn.pydata.org/bokeh/release/bokeh-widgets-1.0.2.min.css\");\n      console.log(\"Bokeh: injecting CSS: https://cdn.pydata.org/bokeh/release/bokeh-tables-1.0.2.min.css\");\n      Bokeh.embed.inject_css(\"https://cdn.pydata.org/bokeh/release/bokeh-tables-1.0.2.min.css\");\n    }\n  ];\n\n  function run_inline_js() {\n    \n    if ((root.Bokeh !== undefined) || (force === true)) {\n      for (var i = 0; i < inline_js.length; i++) {\n        inline_js[i].call(root, root.Bokeh);\n      }if (force === true) {\n        display_loaded();\n      }} else if (Date.now() < root._bokeh_timeout) {\n      setTimeout(run_inline_js, 100);\n    } else if (!root._bokeh_failed_load) {\n      console.log(\"Bokeh: BokehJS failed to load within specified timeout.\");\n      root._bokeh_failed_load = true;\n    } else if (force !== true) {\n      var cell = $(document.getElementById(\"2014\")).parents('.cell').data().cell;\n      cell.output_area.append_execute_result(NB_LOAD_WARNING)\n    }\n\n  }\n\n  if (root._bokeh_is_loading === 0) {\n    console.log(\"Bokeh: BokehJS loaded, going straight to plotting\");\n    run_inline_js();\n  } else {\n    load_libs(js_urls, function() {\n      console.log(\"Bokeh: BokehJS plotting callback run at\", now());\n      run_inline_js();\n    });\n  }\n}(window));"
     },
     "metadata": {},
     "output_type": "display_data"
    }
   ],
   "source": [
    "from bokeh.plotting import figure, output_file, show, ColumnDataSource\n",
    "from bokeh.io import output_notebook, output_file, save\n",
    "output_notebook()\n",
    "from bokeh.models import HoverTool,BoxZoomTool,ResetTool, WheelZoomTool\n",
    "from bokeh.layouts import row, gridplot, layout"
   ]
  },
  {
   "cell_type": "code",
   "execution_count": 36,
   "metadata": {},
   "outputs": [
    {
     "data": {
      "text/html": [
       "\n",
       "        <h1>Maps of the Iberian Peninsula</h1>\n",
       "        <h2>Olivier Defaux<sup>1,2</sup>, Gerd Grasshoff<sup>1,2</sup>, Malte Vogl<sup>2</sup></h2>\n",
       "        1: Humboldt-University, Berlin; 2: Max-Planck-Institute for the History of Science, Berlin<br>\n",
       "        Date: 12. August 2019"
      ],
      "text/plain": [
       "<IPython.core.display.HTML object>"
      ]
     },
     "execution_count": 36,
     "metadata": {},
     "output_type": "execute_result"
    }
   ],
   "source": [
    "title = Credentials(authors='olivier.defaux,gerd.grasshoff,malte.vogl', project='geography',title='Maps of the Iberian Peninsula')\n",
    "title.titlepage()"
   ]
  },
  {
   "cell_type": "markdown",
   "metadata": {},
   "source": [
    "On the basis of both recensions of the Geography, the localities of the Iberian peninsula are plotted and compared."
   ]
  },
  {
   "cell_type": "markdown",
   "metadata": {},
   "source": [
    "### Load resources"
   ]
  },
  {
   "cell_type": "code",
   "execution_count": 37,
   "metadata": {},
   "outputs": [],
   "source": [
    "cite = Citable('dict_omega.json',formats='local', project='geography')\n",
    "x1= cite.digitalresource()\n",
    "\n",
    "cite = Citable('dict_xi.json',formats='local', project='geography')\n",
    "x2= cite.digitalresource()"
   ]
  },
  {
   "cell_type": "markdown",
   "metadata": {},
   "source": [
    "### Transforming to multi-level dataframes"
   ]
  },
  {
   "cell_type": "code",
   "execution_count": 38,
   "metadata": {},
   "outputs": [],
   "source": [
    "init = Json2DF(x1,['book_ID','chap_ID','sec_ID','ID'],level=4)\n",
    "init.convert()\n",
    "dfOmega = init.dataframe\n",
    "\n",
    "init2 = Json2DF(x2,['book_ID','chap_ID','sec_ID','ID'],level=4)\n",
    "init2.convert()\n",
    "dfXi = init2.dataframe"
   ]
  },
  {
   "cell_type": "code",
   "execution_count": 40,
   "metadata": {},
   "outputs": [],
   "source": [
    "def utf8(x):\n",
    "    return x.encode('cp1252').decode('utf8')\n"
   ]
  },
  {
   "cell_type": "code",
   "execution_count": 41,
   "metadata": {},
   "outputs": [
    {
     "data": {
      "text/plain": [
       "pandas.core.frame.DataFrame"
      ]
     },
     "execution_count": 41,
     "metadata": {},
     "output_type": "execute_result"
    }
   ],
   "source": [
    "type(dfOmega)"
   ]
  },
  {
   "cell_type": "code",
   "execution_count": 42,
   "metadata": {},
   "outputs": [],
   "source": [
    "b=dfOmega[\"text\"][1]"
   ]
  },
  {
   "cell_type": "code",
   "execution_count": 46,
   "metadata": {},
   "outputs": [],
   "source": [
    "c=\"Ἰσπανίας Βαιτικῆς θέσις\""
   ]
  },
  {
   "cell_type": "code",
   "execution_count": null,
   "metadata": {},
   "outputs": [],
   "source": []
  },
  {
   "cell_type": "code",
   "execution_count": 46,
   "metadata": {},
   "outputs": [
    {
     "data": {
      "text/plain": [
       "b'\\xe1\\xbc\\xb8\\xcf\\x83\\xcf\\x80\\xce\\xb1\\xce\\xbd\\xe1\\xbd\\xb7\\xce\\xb1\\xcf\\x82 \\xce\\x92\\xce\\xb1\\xce\\xb9\\xcf\\x84\\xce\\xb9\\xce\\xba\\xe1\\xbf\\x86\\xcf\\x82 \\xce\\xb8\\xe1\\xbd\\xb3\\xcf\\x83\\xce\\xb9\\xcf\\x82'"
      ]
     },
     "execution_count": 46,
     "metadata": {},
     "output_type": "execute_result"
    }
   ],
   "source": [
    "c.encode()"
   ]
  },
  {
   "cell_type": "code",
   "execution_count": 40,
   "metadata": {},
   "outputs": [
    {
     "data": {
      "text/plain": [
       "b'\\xc3\\xa1\\xc2\\xbc\\xc2\\xb8\\xc3\\x8f\\xc6\\x92\\xc3\\x8f\\xe2\\x82\\xac\\xc3\\x8e\\xc2\\xb1\\xc3\\x8e\\xc2\\xbd\\xc3\\xa1\\xc2\\xbd\\xc2\\xb7\\xc3\\x8e\\xc2\\xb1\\xc3\\x8f\\xe2\\x80\\x9a \\xc3\\x8e\\xe2\\x80\\x99\\xc3\\x8e\\xc2\\xb1\\xc3\\x8e\\xc2\\xb9\\xc3\\x8f\\xe2\\x80\\x9e\\xc3\\x8e\\xc2\\xb9\\xc3\\x8e\\xc2\\xba\\xc3\\xa1\\xc2\\xbf\\xe2\\x80\\xa0\\xc3\\x8f\\xe2\\x80\\x9a \\xc3\\x8e\\xc2\\xb8\\xc3\\xa1\\xc2\\xbd\\xc2\\xb3\\xc3\\x8f\\xc6\\x92\\xc3\\x8e\\xc2\\xb9\\xc3\\x8f\\xe2\\x80\\x9a'"
      ]
     },
     "execution_count": 40,
     "metadata": {},
     "output_type": "execute_result"
    }
   ],
   "source": [
    "b=utf8(a)\n",
    "b\n"
   ]
  },
  {
   "cell_type": "code",
   "execution_count": 59,
   "metadata": {},
   "outputs": [
    {
     "data": {
      "text/plain": [
       "\"b'\\\\xc3\\\\xa1\\\\xc2\\\\xbc\\\\xc2\\\\xb8\\\\xc3\\\\x8f\\\\xc6\\\\x92\\\\xc3\\\\x8f\\\\xe2\\\\x82\\\\xac\\\\xc3\\\\x8e\\\\xc2\\\\xb1\\\\xc3\\\\x8e\\\\xc2\\\\xbd\\\\xc3\\\\xa1\\\\xc2\\\\xbd\\\\xc2\\\\xb7\\\\xc3\\\\x8e\\\\xc2\\\\xb1\\\\xc3\\\\x8f\\\\xe2\\\\x80\\\\x9a \\\\xc3\\\\x8e\\\\xe2\\\\x80\\\\x99\\\\xc3\\\\x8e\\\\xc2\\\\xb1\\\\xc3\\\\x8e\\\\xc2\\\\xb9\\\\xc3\\\\x8f\\\\xe2\\\\x80\\\\x9e\\\\xc3\\\\x8e\\\\xc2\\\\xb9\\\\xc3\\\\x8e\\\\xc2\\\\xba\\\\xc3\\\\xa1\\\\xc2\\\\xbf\\\\xe2\\\\x80\\\\xa0\\\\xc3\\\\x8f\\\\xe2\\\\x80\\\\x9a \\\\xc3\\\\x8e\\\\xc2\\\\xb8\\\\xc3\\\\xa1\\\\xc2\\\\xbd\\\\xc2\\\\xb3\\\\xc3\\\\x8f\\\\xc6\\\\x92\\\\xc3\\\\x8e\\\\xc2\\\\xb9\\\\xc3\\\\x8f\\\\xe2\\\\x80\\\\x9a'\""
      ]
     },
     "execution_count": 59,
     "metadata": {},
     "output_type": "execute_result"
    }
   ],
   "source": [
    "k=str(b)\n",
    "k"
   ]
  },
  {
   "cell_type": "code",
   "execution_count": 60,
   "metadata": {},
   "outputs": [
    {
     "name": "stdout",
     "output_type": "stream",
     "text": [
      "b'\\xc3\\xa1\\xc2\\xbc\\xc2\\xb8\\xc3\\x8f\\xc6\\x92\\xc3\\x8f\\xe2\\x82\\xac\\xc3\\x8e\\xc2\\xb1\\xc3\\x8e\\xc2\\xbd\\xc3\\xa1\\xc2\\xbd\\xc2\\xb7\\xc3\\x8e\\xc2\\xb1\\xc3\\x8f\\xe2\\x80\\x9a \\xc3\\x8e\\xe2\\x80\\x99\\xc3\\x8e\\xc2\\xb1\\xc3\\x8e\\xc2\\xb9\\xc3\\x8f\\xe2\\x80\\x9e\\xc3\\x8e\\xc2\\xb9\\xc3\\x8e\\xc2\\xba\\xc3\\xa1\\xc2\\xbf\\xe2\\x80\\xa0\\xc3\\x8f\\xe2\\x80\\x9a \\xc3\\x8e\\xc2\\xb8\\xc3\\xa1\\xc2\\xbd\\xc2\\xb3\\xc3\\x8f\\xc6\\x92\\xc3\\x8e\\xc2\\xb9\\xc3\\x8f\\xe2\\x80\\x9a'\n"
     ]
    }
   ],
   "source": [
    "print(k)"
   ]
  },
  {
   "cell_type": "code",
   "execution_count": 57,
   "metadata": {},
   "outputs": [
    {
     "data": {
      "text/plain": [
       "'á¼¸ÏƒÏ€Î±Î½á½·Î±Ï‚ Î’Î±Î¹Ï„Î¹Îºá¿†Ï‚ Î¸á½³ÏƒÎ¹Ï‚'"
      ]
     },
     "execution_count": 57,
     "metadata": {},
     "output_type": "execute_result"
    }
   ],
   "source": [
    "l=b.decode(\"utf-8\")\n",
    "c=str(l)\n",
    "c"
   ]
  },
  {
   "cell_type": "code",
   "execution_count": 11,
   "metadata": {},
   "outputs": [
    {
     "data": {
      "text/plain": [
       "'Ἰσπανίας Βαιτικῆς θέσις'"
      ]
     },
     "execution_count": 11,
     "metadata": {},
     "output_type": "execute_result"
    }
   ],
   "source": [
    "a.encode('cp1252').decode('utf8')"
   ]
  },
  {
   "cell_type": "markdown",
   "metadata": {},
   "source": [
    "### Translate greek to decimal coordinates"
   ]
  },
  {
   "cell_type": "code",
   "execution_count": 12,
   "metadata": {},
   "outputs": [],
   "source": [
    "def reformatCoord(row,longLat, xy='coord_x'):\n",
    "    if type(row[xy]) == dict:\n",
    "        return (row[xy][longLat]['integer'].strip(),row[xy][longLat]['fraction'].strip())\n",
    "    else:\n",
    "        return False"
   ]
  },
  {
   "cell_type": "code",
   "execution_count": 13,
   "metadata": {},
   "outputs": [],
   "source": [
    "gfrac={\"\":0,\"Lς\":2/3,\"ςL\":2/3,\"ιβ\":1/12,\"ς\":1/6,\"δ\":1/4,\"γ\":1/3,\"γιβ\":5/12,\"L\":1/2,\"Lιβ\":7/12,\"γο\":2/3,\"Lδ\":3/4,\"Lγ\":5/6,\"Lγιβ\":11/12,\"η\":1/8}\n",
    "gint={\"\":0,\"α\":1,\"β\":2,\"γ\":3,\"δ\":4,\"ε\":5,\"ς\":6,\"ζ\":7,\"η\":8,\"θ\":9,\"ι\":10,\"κ\":20,\"λ\":30,\"μ\":40}"
   ]
  },
  {
   "cell_type": "code",
   "execution_count": 14,
   "metadata": {},
   "outputs": [],
   "source": [
    "def translate(row):\n",
    "    if type(row)==tuple:\n",
    "        try:\n",
    "            temp_frac = gfrac[row[1]]\n",
    "        except:\n",
    "            temp_frac = gint[row[1]]\n",
    "        try:\n",
    "            if len(row[0]) == 1:\n",
    "                temp_int = gint[row[0]]\n",
    "            elif len(row[0]) == 2:\n",
    "                temp_int = gint[row[0][0]] + gint[row[0][1]]\n",
    "            elif row[0] == '':\n",
    "                temp_int = 0\n",
    "        except:\n",
    "            temp_int = None\n",
    "        return temp_int + temp_frac"
   ]
  },
  {
   "cell_type": "markdown",
   "metadata": {},
   "source": [
    "Omega recension"
   ]
  },
  {
   "cell_type": "code",
   "execution_count": 15,
   "metadata": {},
   "outputs": [],
   "source": [
    "dfTemp = dfOmega.copy()\n",
    "dfTemp['longitude'] = dfOmega.apply(lambda row: reformatCoord(row,'long','coord'),axis=1).apply(translate)\n",
    "dfTemp['latitude'] = dfOmega.apply(lambda row: reformatCoord(row,'lat','coord'),axis=1).apply(translate)"
   ]
  },
  {
   "cell_type": "markdown",
   "metadata": {},
   "source": [
    "Xi recension"
   ]
  },
  {
   "cell_type": "code",
   "execution_count": 16,
   "metadata": {},
   "outputs": [],
   "source": [
    "dfTempX = dfXi.copy()\n",
    "dfTempX['longitude'] = dfXi.apply(lambda row: reformatCoord(row,'long','coord'),axis=1).apply(translate)\n",
    "dfTempX['latitude'] = dfXi.apply(lambda row: reformatCoord(row,'lat','coord'),axis=1).apply(translate)"
   ]
  },
  {
   "cell_type": "markdown",
   "metadata": {},
   "source": [
    "# Data preparation for the map drawing"
   ]
  },
  {
   "cell_type": "markdown",
   "metadata": {},
   "source": [
    "### Coasts and boundaries (Omega)"
   ]
  },
  {
   "cell_type": "markdown",
   "metadata": {},
   "source": [
    "Selection of coastal localities"
   ]
  },
  {
   "cell_type": "code",
   "execution_count": 17,
   "metadata": {},
   "outputs": [],
   "source": [
    "f = dfTemp[(dfTemp.type_sec == 'coast section') & (dfTemp.type == 'locality') & dfTemp.category.apply(lambda row: row not in ['boundary','river path','river source'])][['longitude','latitude']]"
   ]
  },
  {
   "cell_type": "markdown",
   "metadata": {},
   "source": [
    "Coastal lines"
   ]
  },
  {
   "cell_type": "code",
   "execution_count": 18,
   "metadata": {},
   "outputs": [],
   "source": [
    "#fbae = coast of Baetica, omega\n",
    "baria = dfTemp[dfTemp.toponym == 'ἐφʹ ἧς Βαρεία πόλις '][['longitude','latitude']]\n",
    "fbae = f.iloc[0:28]\n",
    "fbae = fbae.append(baria)\n",
    "fbae = fbae.values"
   ]
  },
  {
   "cell_type": "code",
   "execution_count": 19,
   "metadata": {},
   "outputs": [],
   "source": [
    "#flus = coast of Lusitania, omega\n",
    "flus = f.iloc[28:42].append(f.iloc[0:1]).sort_index(ascending=True)\n",
    "flus = flus.values"
   ]
  },
  {
   "cell_type": "code",
   "execution_count": 20,
   "metadata": {},
   "outputs": [],
   "source": [
    "#ftar = coast of Tarraconensis, omega\n",
    "ftar1 = f.iloc[42:70].append(f.iloc[41:42]).sort_index(ascending=True)\n",
    "ftar1 = ftar1.values\n",
    "ftar2 = f.iloc[70:].sort_index(ascending=False)\n",
    "baebound = dfTemp[dfTemp.toponym == 'μετὰ τὸ πρὸς τῇ Βαιτικῇ πέρας'][['longitude','latitude']]\n",
    "ftar2 = ftar2.append(baebound).append(baria)\n",
    "ftar2 = ftar2.values"
   ]
  },
  {
   "cell_type": "markdown",
   "metadata": {},
   "source": [
    "### Coasts and boundaries (Xi)"
   ]
  },
  {
   "cell_type": "markdown",
   "metadata": {},
   "source": [
    "Selection of coastal localities"
   ]
  },
  {
   "cell_type": "code",
   "execution_count": 21,
   "metadata": {},
   "outputs": [],
   "source": [
    "g = dfTempX[(dfTempX.type_sec == 'coast section') & (dfTempX.type == 'locality') & dfTempX.category.apply(lambda row: row not in ['boundary','river path','river source'])][['longitude','latitude']]"
   ]
  },
  {
   "cell_type": "markdown",
   "metadata": {},
   "source": [
    "Coastal lines"
   ]
  },
  {
   "cell_type": "code",
   "execution_count": 22,
   "metadata": {},
   "outputs": [],
   "source": [
    "#gbae = coast of Baetica, xi\n",
    "bariaX = dfTempX[dfTempX.toponym == 'ἐφʹ ἧς Βαραλία πόλις'][['longitude','latitude']]\n",
    "gbae = g.iloc[0:26]\n",
    "gbae = gbae.append(bariaX)\n",
    "gbae = gbae.values"
   ]
  },
  {
   "cell_type": "code",
   "execution_count": 23,
   "metadata": {},
   "outputs": [],
   "source": [
    "#glus = coast of Lusitania, xi\n",
    "glus = g.iloc[27:41].append(g.iloc[0:1]).sort_index(ascending=True)\n",
    "glus = glus.values"
   ]
  },
  {
   "cell_type": "code",
   "execution_count": 24,
   "metadata": {},
   "outputs": [],
   "source": [
    "#gtar = coast of Tarraconensis, xi\n",
    "gtar1 = g.iloc[41:68].append(g.iloc[40:41]).sort_index(ascending=True)\n",
    "gtar1 = gtar1.values\n",
    "gtar2 = g.iloc[69:].sort_index(ascending=False)\n",
    "baeboundX = dfTempX[dfTempX.toponym == 'μετὰ τὸ πρὸς τῇ Βαιτικῇ πέρας'][['longitude','latitude']]\n",
    "gtar2 = gtar2.append(baeboundX).append(bariaX)\n",
    "gtar2 = gtar2.values"
   ]
  },
  {
   "cell_type": "code",
   "execution_count": 25,
   "metadata": {},
   "outputs": [],
   "source": [
    "# make a dictionary for all coasts's lines using Xi for later use in function plot_maps\n",
    "gs_dict={'gbae' : gbae, 'glus' : glus, 'gtar1' : gtar1, 'gtar2' : gtar2}"
   ]
  },
  {
   "cell_type": "code",
   "execution_count": 26,
   "metadata": {},
   "outputs": [],
   "source": [
    "# make a dictionary for all coasts's lines using Omega for later use in function plot_maps\n",
    "fs_dict={'fbae' : fbae, 'flus' : flus, 'ftar1' : ftar1, 'ftar2' : ftar2}"
   ]
  },
  {
   "cell_type": "code",
   "execution_count": 27,
   "metadata": {},
   "outputs": [],
   "source": [
    "# make a dictionary for all data\n",
    "dfTempt_dic={\"dfTemp\" : dfTemp,  \"dfTempX\" : dfTempX}"
   ]
  },
  {
   "cell_type": "markdown",
   "metadata": {},
   "source": [
    "# Maps"
   ]
  },
  {
   "cell_type": "markdown",
   "metadata": {},
   "source": [
    "### Omega recension"
   ]
  },
  {
   "cell_type": "code",
   "execution_count": 28,
   "metadata": {},
   "outputs": [
    {
     "data": {
      "text/html": [
       "\n",
       "\n",
       "\n",
       "\n",
       "\n",
       "\n",
       "  <div class=\"bk-root\" id=\"ea066551-0813-4a83-ad03-d75e847aa0e8\"></div>\n"
      ]
     },
     "metadata": {},
     "output_type": "display_data"
    },
    {
     "data": {
      "application/javascript": [
       "(function(root) {\n",
       "  function embed_document(root) {\n",
       "    \n",
       "  var docs_json = {\"2358caef-389e-434d-a215-0cd9dd80aff9\":{\"roots\":{\"references\":[{\"attributes\":{\"below\":[{\"id\":\"1014\",\"type\":\"LinearAxis\"}],\"left\":[{\"id\":\"1019\",\"type\":\"LinearAxis\"}],\"plot_height\":800,\"plot_width\":1000,\"renderers\":[{\"id\":\"1014\",\"type\":\"LinearAxis\"},{\"id\":\"1018\",\"type\":\"Grid\"},{\"id\":\"1019\",\"type\":\"LinearAxis\"},{\"id\":\"1023\",\"type\":\"Grid\"},{\"id\":\"1032\",\"type\":\"BoxAnnotation\"},{\"id\":\"1042\",\"type\":\"GlyphRenderer\"},{\"id\":\"1047\",\"type\":\"GlyphRenderer\"},{\"id\":\"1052\",\"type\":\"GlyphRenderer\"},{\"id\":\"1057\",\"type\":\"GlyphRenderer\"},{\"id\":\"1062\",\"type\":\"GlyphRenderer\"},{\"id\":\"1067\",\"type\":\"GlyphRenderer\"},{\"id\":\"1072\",\"type\":\"GlyphRenderer\"},{\"id\":\"1077\",\"type\":\"GlyphRenderer\"}],\"title\":{\"id\":\"1003\",\"type\":\"Title\"},\"toolbar\":{\"id\":\"1030\",\"type\":\"Toolbar\"},\"x_range\":{\"id\":\"1006\",\"type\":\"Range1d\"},\"x_scale\":{\"id\":\"1010\",\"type\":\"LinearScale\"},\"y_range\":{\"id\":\"1008\",\"type\":\"Range1d\"},\"y_scale\":{\"id\":\"1012\",\"type\":\"LinearScale\"}},\"id\":\"1004\",\"subtype\":\"Figure\",\"type\":\"Plot\"},{\"attributes\":{\"data_source\":{\"id\":\"1074\",\"type\":\"ColumnDataSource\"},\"glyph\":{\"id\":\"1075\",\"type\":\"Circle\"},\"hover_glyph\":null,\"muted_glyph\":null,\"nonselection_glyph\":{\"id\":\"1076\",\"type\":\"Circle\"},\"selection_glyph\":null,\"view\":{\"id\":\"1078\",\"type\":\"CDSView\"}},\"id\":\"1077\",\"type\":\"GlyphRenderer\"},{\"attributes\":{\"source\":{\"id\":\"1074\",\"type\":\"ColumnDataSource\"}},\"id\":\"1078\",\"type\":\"CDSView\"},{\"attributes\":{},\"id\":\"1081\",\"type\":\"BasicTickFormatter\"},{\"attributes\":{},\"id\":\"1083\",\"type\":\"BasicTickFormatter\"},{\"attributes\":{\"line_alpha\":0.8,\"line_color\":\"grey\",\"x\":{\"field\":\"x\"},\"y\":{\"field\":\"y\"}},\"id\":\"1070\",\"type\":\"Line\"},{\"attributes\":{\"source\":{\"id\":\"1069\",\"type\":\"ColumnDataSource\"}},\"id\":\"1073\",\"type\":\"CDSView\"},{\"attributes\":{},\"id\":\"1085\",\"type\":\"Selection\"},{\"attributes\":{},\"id\":\"1086\",\"type\":\"UnionRenderers\"},{\"attributes\":{\"line_alpha\":0.1,\"line_color\":\"#1f77b4\",\"x\":{\"field\":\"x\"},\"y\":{\"field\":\"y\"}},\"id\":\"1071\",\"type\":\"Line\"},{\"attributes\":{},\"id\":\"1087\",\"type\":\"Selection\"},{\"attributes\":{},\"id\":\"1088\",\"type\":\"UnionRenderers\"},{\"attributes\":{\"line_color\":\"grey\",\"x\":{\"field\":\"x\"},\"y\":{\"field\":\"y\"}},\"id\":\"1055\",\"type\":\"Line\"},{\"attributes\":{},\"id\":\"1089\",\"type\":\"Selection\"},{\"attributes\":{},\"id\":\"1090\",\"type\":\"UnionRenderers\"},{\"attributes\":{\"fill_alpha\":{\"value\":0.1},\"fill_color\":{\"value\":\"#1f77b4\"},\"line_alpha\":{\"value\":0.1},\"line_color\":{\"value\":\"#1f77b4\"},\"size\":{\"units\":\"screen\",\"value\":6},\"x\":{\"field\":\"x\"},\"y\":{\"field\":\"y\"}},\"id\":\"1076\",\"type\":\"Circle\"},{\"attributes\":{\"fill_alpha\":{\"value\":0.9},\"fill_color\":{\"value\":\"blue\"},\"line_alpha\":{\"value\":0.6},\"line_color\":{\"value\":\"blue\"},\"size\":{\"units\":\"screen\",\"value\":6},\"x\":{\"field\":\"x\"},\"y\":{\"field\":\"y\"}},\"id\":\"1075\",\"type\":\"Circle\"},{\"attributes\":{},\"id\":\"1091\",\"type\":\"Selection\"},{\"attributes\":{\"source\":{\"id\":\"1049\",\"type\":\"ColumnDataSource\"}},\"id\":\"1053\",\"type\":\"CDSView\"},{\"attributes\":{},\"id\":\"1092\",\"type\":\"UnionRenderers\"},{\"attributes\":{},\"id\":\"1093\",\"type\":\"Selection\"},{\"attributes\":{\"callback\":null,\"data\":{\"x\":{\"__ndarray__\":\"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\",\"dtype\":\"float64\",\"shape\":[660]},\"y\":{\"__ndarray__\":\"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\",\"dtype\":\"float64\",\"shape\":[660]}},\"selected\":{\"id\":\"1099\",\"type\":\"Selection\"},\"selection_policy\":{\"id\":\"1100\",\"type\":\"UnionRenderers\"}},\"id\":\"1074\",\"type\":\"ColumnDataSource\"},{\"attributes\":{},\"id\":\"1094\",\"type\":\"UnionRenderers\"},{\"attributes\":{},\"id\":\"1095\",\"type\":\"Selection\"},{\"attributes\":{\"callback\":null,\"data\":{\"x\":[15,17,19,20.333],\"y\":[45.833,43,43.167,42.333]},\"selected\":{\"id\":\"1097\",\"type\":\"Selection\"},\"selection_policy\":{\"id\":\"1098\",\"type\":\"UnionRenderers\"}},\"id\":\"1069\",\"type\":\"ColumnDataSource\"},{\"attributes\":{},\"id\":\"1096\",\"type\":\"UnionRenderers\"},{\"attributes\":{\"data_source\":{\"id\":\"1069\",\"type\":\"ColumnDataSource\"},\"glyph\":{\"id\":\"1070\",\"type\":\"Line\"},\"hover_glyph\":null,\"muted_glyph\":null,\"nonselection_glyph\":{\"id\":\"1071\",\"type\":\"Line\"},\"selection_glyph\":null,\"view\":{\"id\":\"1073\",\"type\":\"CDSView\"}},\"id\":\"1072\",\"type\":\"GlyphRenderer\"},{\"attributes\":{},\"id\":\"1097\",\"type\":\"Selection\"},{\"attributes\":{},\"id\":\"1098\",\"type\":\"UnionRenderers\"},{\"attributes\":{\"callback\":null,\"data\":{\"x\":{\"__ndarray__\":\"VVVVVVVVNEBVVVVVVVU0QAAAAAAAgDNAAAAAAAAAM0AAAAAAAMAyQAAAAAAAgDJAAAAAAABAMkAAAAAAAAAyQAAAAAAAgDJAVVVVVVXVMUAAAAAAAIAxQAAAAAAAQDFAVVVVVVXVMEBVVVVVVVUwQAAAAAAAADBAAAAAAAAAL0BVVVVVVdUvQFVVVVVVVS9AAAAAAAAALkBVVVVVVVUtQAAAAAAAACxAAAAAAAAAK0AAAAAAAAAqQFVVVVVVVSlAAAAAAAAAKUBVVVVVVdUpQAAAAAAAgChAVVVVVVVVKEAAAAAAAAAoQAAAAAAAAChAAAAAAACAJ0A=\",\"dtype\":\"float64\",\"shape\":[31]},\"y\":{\"__ndarray__\":\"q6qqqqoqRUCrqqqqqipFQAAAAAAAQEVAAAAAAABARUCrqqqqqipFQFVVVVVVFUVAAAAAAAAARUAAAAAAAOBEQAAAAAAAwERAq6qqqqqqREAAAAAAAIBEQAAAAAAAgERAAAAAAABgREBVVVVVVVVEQAAAAAAAQERAAAAAAAAAREBVVVVVVdVDQAAAAAAAwENAAAAAAACAQ0BVVVVVVXVDQKuqqqqqKkNAAAAAAABgQ0AAAAAAAGBDQKuqqqqqSkNAAAAAAABAQ0CrqqqqqgpDQFVVVVVV9UJAAAAAAADAQkCrqqqqqqpCQAAAAAAAoEJAVVVVVVWVQkA=\",\"dtype\":\"float64\",\"shape\":[31]}},\"selected\":{\"id\":\"1091\",\"type\":\"Selection\"},\"selection_policy\":{\"id\":\"1092\",\"type\":\"UnionRenderers\"}},\"id\":\"1054\",\"type\":\"ColumnDataSource\"},{\"attributes\":{},\"id\":\"1099\",\"type\":\"Selection\"},{\"attributes\":{},\"id\":\"1100\",\"type\":\"UnionRenderers\"},{\"attributes\":{\"data_source\":{\"id\":\"1059\",\"type\":\"ColumnDataSource\"},\"glyph\":{\"id\":\"1060\",\"type\":\"Line\"},\"hover_glyph\":null,\"muted_glyph\":null,\"nonselection_glyph\":{\"id\":\"1061\",\"type\":\"Line\"},\"selection_glyph\":null,\"view\":{\"id\":\"1063\",\"type\":\"CDSView\"}},\"id\":\"1062\",\"type\":\"GlyphRenderer\"},{\"attributes\":{\"source\":{\"id\":\"1059\",\"type\":\"ColumnDataSource\"}},\"id\":\"1063\",\"type\":\"CDSView\"},{\"attributes\":{\"line_alpha\":0.1,\"line_color\":\"#1f77b4\",\"x\":{\"field\":\"x\"},\"y\":{\"field\":\"y\"}},\"id\":\"1061\",\"type\":\"Line\"},{\"attributes\":{\"line_alpha\":0.1,\"line_color\":\"#1f77b4\",\"x\":{\"field\":\"x\"},\"y\":{\"field\":\"y\"}},\"id\":\"1056\",\"type\":\"Line\"},{\"attributes\":{\"line_alpha\":0.8,\"line_color\":\"grey\",\"x\":{\"field\":\"x\"},\"y\":{\"field\":\"y\"}},\"id\":\"1060\",\"type\":\"Line\"},{\"attributes\":{\"data_source\":{\"id\":\"1054\",\"type\":\"ColumnDataSource\"},\"glyph\":{\"id\":\"1055\",\"type\":\"Line\"},\"hover_glyph\":null,\"muted_glyph\":null,\"nonselection_glyph\":{\"id\":\"1056\",\"type\":\"Line\"},\"selection_glyph\":null,\"view\":{\"id\":\"1058\",\"type\":\"CDSView\"}},\"id\":\"1057\",\"type\":\"GlyphRenderer\"},{\"attributes\":{\"source\":{\"id\":\"1064\",\"type\":\"ColumnDataSource\"}},\"id\":\"1068\",\"type\":\"CDSView\"},{\"attributes\":{\"data_source\":{\"id\":\"1064\",\"type\":\"ColumnDataSource\"},\"glyph\":{\"id\":\"1065\",\"type\":\"Line\"},\"hover_glyph\":null,\"muted_glyph\":null,\"nonselection_glyph\":{\"id\":\"1066\",\"type\":\"Line\"},\"selection_glyph\":null,\"view\":{\"id\":\"1068\",\"type\":\"CDSView\"}},\"id\":\"1067\",\"type\":\"GlyphRenderer\"},{\"attributes\":{\"source\":{\"id\":\"1054\",\"type\":\"ColumnDataSource\"}},\"id\":\"1058\",\"type\":\"CDSView\"},{\"attributes\":{\"callback\":null,\"data\":{\"x\":[4.083,6.333,9,12],\"y\":[37.667,39,39,37.25]},\"selected\":{\"id\":\"1093\",\"type\":\"Selection\"},\"selection_policy\":{\"id\":\"1094\",\"type\":\"UnionRenderers\"}},\"id\":\"1059\",\"type\":\"ColumnDataSource\"},{\"attributes\":{\"line_alpha\":0.1,\"line_color\":\"#1f77b4\",\"x\":{\"field\":\"x\"},\"y\":{\"field\":\"y\"}},\"id\":\"1066\",\"type\":\"Line\"},{\"attributes\":{},\"id\":\"1020\",\"type\":\"BasicTicker\"},{\"attributes\":{},\"id\":\"1010\",\"type\":\"LinearScale\"},{\"attributes\":{\"overlay\":{\"id\":\"1032\",\"type\":\"BoxAnnotation\"}},\"id\":\"1026\",\"type\":\"BoxZoomTool\"},{\"attributes\":{\"bottom_units\":\"screen\",\"fill_alpha\":{\"value\":0.5},\"fill_color\":{\"value\":\"lightgrey\"},\"left_units\":\"screen\",\"level\":\"overlay\",\"line_alpha\":{\"value\":1.0},\"line_color\":{\"value\":\"black\"},\"line_dash\":[4,4],\"line_width\":{\"value\":2},\"plot\":null,\"render_mode\":\"css\",\"right_units\":\"screen\",\"top_units\":\"screen\"},\"id\":\"1032\",\"type\":\"BoxAnnotation\"},{\"attributes\":{\"source\":{\"id\":\"1044\",\"type\":\"ColumnDataSource\"}},\"id\":\"1048\",\"type\":\"CDSView\"},{\"attributes\":{\"plot\":{\"id\":\"1004\",\"subtype\":\"Figure\",\"type\":\"Plot\"},\"ticker\":{\"id\":\"1015\",\"type\":\"BasicTicker\"}},\"id\":\"1018\",\"type\":\"Grid\"},{\"attributes\":{\"line_color\":\"grey\",\"x\":{\"field\":\"x\"},\"y\":{\"field\":\"y\"}},\"id\":\"1045\",\"type\":\"Line\"},{\"attributes\":{},\"id\":\"1027\",\"type\":\"SaveTool\"},{\"attributes\":{},\"id\":\"1024\",\"type\":\"PanTool\"},{\"attributes\":{},\"id\":\"1015\",\"type\":\"BasicTicker\"},{\"attributes\":{\"line_color\":\"grey\",\"x\":{\"field\":\"x\"},\"y\":{\"field\":\"y\"}},\"id\":\"1040\",\"type\":\"Line\"},{\"attributes\":{},\"id\":\"1028\",\"type\":\"ResetTool\"},{\"attributes\":{\"line_alpha\":0.1,\"line_color\":\"#1f77b4\",\"x\":{\"field\":\"x\"},\"y\":{\"field\":\"y\"}},\"id\":\"1046\",\"type\":\"Line\"},{\"attributes\":{},\"id\":\"1029\",\"type\":\"HelpTool\"},{\"attributes\":{\"formatter\":{\"id\":\"1081\",\"type\":\"BasicTickFormatter\"},\"plot\":{\"id\":\"1004\",\"subtype\":\"Figure\",\"type\":\"Plot\"},\"ticker\":{\"id\":\"1015\",\"type\":\"BasicTicker\"}},\"id\":\"1014\",\"type\":\"LinearAxis\"},{\"attributes\":{\"dimension\":1,\"plot\":{\"id\":\"1004\",\"subtype\":\"Figure\",\"type\":\"Plot\"},\"ticker\":{\"id\":\"1020\",\"type\":\"BasicTicker\"}},\"id\":\"1023\",\"type\":\"Grid\"},{\"attributes\":{\"callback\":null,\"end\":47,\"start\":35.5},\"id\":\"1008\",\"type\":\"Range1d\"},{\"attributes\":{\"callback\":null,\"data\":{\"x\":{\"__ndarray__\":\"VVVVVVVVEEBVVVVVVVUNQAAAAAAAAAhAAAAAAAAABEAAAAAAAAAUQFVVVVVVVRRAq6qqqqqqEUAAAAAAAAARQKuqqqqqqhRAAAAAAAAAFkAAAAAAAAAUQAAAAAAAABRAq6qqqqqqFECrqqqqqqoUQFVVVVVVVRVA\",\"dtype\":\"float64\",\"shape\":[15]},\"y\":{\"__ndarray__\":\"VVVVVVXVQkAAAAAAAOBCQKuqqqqq6kJAAAAAAAAgQ0AAAAAAAIBDQFVVVVVVtUNAAAAAAADAQ0AAAAAAAOBDQAAAAAAAIERAVVVVVVUVREBVVVVVVVVEQFVVVVVVVURAq6qqqqpqRECrqqqqqqpEQKuqqqqq6kRA\",\"dtype\":\"float64\",\"shape\":[15]}},\"selected\":{\"id\":\"1087\",\"type\":\"Selection\"},\"selection_policy\":{\"id\":\"1088\",\"type\":\"UnionRenderers\"}},\"id\":\"1044\",\"type\":\"ColumnDataSource\"},{\"attributes\":{\"callback\":null,\"data\":{\"x\":{\"__ndarray__\":\"VVVVVVVVFUAAAAAAAAAWQKuqqqqqqhRAq6qqqqqqFkAAAAAAAAAWQFVVVVVVVRVAAAAAAAAAFkCrqqqqqqoWQKuqqqqqqhZAVVVVVVVVFUAAAAAAAAAVQKuqqqqqqhZAAAAAAAAAGUAAAAAAAAAaQAAAAAAAAB1AAAAAAACAIEAAAAAAAAAiQKuqqqqqqiRAq6qqqqqqJkAAAAAAAIAnQAAAAAAAAChAAAAAAAAAKkBVVVVVVVUqQAAAAAAAACtAAAAAAACAK0CrqqqqqqosQFVVVVVVVS5AAAAAAAAALkAAAAAAAAAuQA==\",\"dtype\":\"float64\",\"shape\":[29]},\"y\":{\"__ndarray__\":\"q6qqqqrqREAAAAAAACBFQAAAAAAAQEVAAAAAAABgRUAAAAAAAKBFQFVVVVVV1UVAAAAAAAAARkCrqqqqqipGQFVVVVVVVUZAAAAAAACARkBVVVVVVZVGQAAAAAAAwEZAAAAAAADARkAAAAAAAMBGQAAAAAAAgEZAq6qqqqrqRkAAAAAAAOBGQFVVVVVV1UZAAAAAAADgRkBVVVVVVbVGQAAAAAAAwEZAVVVVVVXVRkBVVVVVVVVGQAAAAAAAIEZAVVVVVVU1RkAAAAAAAIBGQKuqqqqqikZAq6qqqqrqRkCrqqqqqupGQA==\",\"dtype\":\"float64\",\"shape\":[29]}},\"selected\":{\"id\":\"1089\",\"type\":\"Selection\"},\"selection_policy\":{\"id\":\"1090\",\"type\":\"UnionRenderers\"}},\"id\":\"1049\",\"type\":\"ColumnDataSource\"},{\"attributes\":{\"formatter\":{\"id\":\"1083\",\"type\":\"BasicTickFormatter\"},\"plot\":{\"id\":\"1004\",\"subtype\":\"Figure\",\"type\":\"Plot\"},\"ticker\":{\"id\":\"1020\",\"type\":\"BasicTicker\"}},\"id\":\"1019\",\"type\":\"LinearAxis\"},{\"attributes\":{\"data_source\":{\"id\":\"1039\",\"type\":\"ColumnDataSource\"},\"glyph\":{\"id\":\"1040\",\"type\":\"Line\"},\"hover_glyph\":null,\"muted_glyph\":null,\"nonselection_glyph\":{\"id\":\"1041\",\"type\":\"Line\"},\"selection_glyph\":null,\"view\":{\"id\":\"1043\",\"type\":\"CDSView\"}},\"id\":\"1042\",\"type\":\"GlyphRenderer\"},{\"attributes\":{\"line_alpha\":0.8,\"line_color\":\"grey\",\"x\":{\"field\":\"x\"},\"y\":{\"field\":\"y\"}},\"id\":\"1065\",\"type\":\"Line\"},{\"attributes\":{\"line_alpha\":0.1,\"line_color\":\"#1f77b4\",\"x\":{\"field\":\"x\"},\"y\":{\"field\":\"y\"}},\"id\":\"1051\",\"type\":\"Line\"},{\"attributes\":{\"callback\":null,\"data\":{\"x\":[5.333,9.167,9,9],\"y\":[41.833,41.333,40.167,39]},\"selected\":{\"id\":\"1095\",\"type\":\"Selection\"},\"selection_policy\":{\"id\":\"1096\",\"type\":\"UnionRenderers\"}},\"id\":\"1064\",\"type\":\"ColumnDataSource\"},{\"attributes\":{\"data_source\":{\"id\":\"1044\",\"type\":\"ColumnDataSource\"},\"glyph\":{\"id\":\"1045\",\"type\":\"Line\"},\"hover_glyph\":null,\"muted_glyph\":null,\"nonselection_glyph\":{\"id\":\"1046\",\"type\":\"Line\"},\"selection_glyph\":null,\"view\":{\"id\":\"1048\",\"type\":\"CDSView\"}},\"id\":\"1047\",\"type\":\"GlyphRenderer\"},{\"attributes\":{\"plot\":null,\"text\":\"Omega Recension\"},\"id\":\"1003\",\"type\":\"Title\"},{\"attributes\":{},\"id\":\"1012\",\"type\":\"LinearScale\"},{\"attributes\":{\"callback\":null,\"end\":22,\"start\":1.5},\"id\":\"1006\",\"type\":\"Range1d\"},{\"attributes\":{\"active_drag\":\"auto\",\"active_inspect\":\"auto\",\"active_multi\":null,\"active_scroll\":\"auto\",\"active_tap\":\"auto\",\"tools\":[{\"id\":\"1024\",\"type\":\"PanTool\"},{\"id\":\"1025\",\"type\":\"WheelZoomTool\"},{\"id\":\"1026\",\"type\":\"BoxZoomTool\"},{\"id\":\"1027\",\"type\":\"SaveTool\"},{\"id\":\"1028\",\"type\":\"ResetTool\"},{\"id\":\"1029\",\"type\":\"HelpTool\"}]},\"id\":\"1030\",\"type\":\"Toolbar\"},{\"attributes\":{\"line_alpha\":0.1,\"line_color\":\"#1f77b4\",\"x\":{\"field\":\"x\"},\"y\":{\"field\":\"y\"}},\"id\":\"1041\",\"type\":\"Line\"},{\"attributes\":{\"source\":{\"id\":\"1039\",\"type\":\"ColumnDataSource\"}},\"id\":\"1043\",\"type\":\"CDSView\"},{\"attributes\":{\"callback\":null,\"data\":{\"x\":{\"__ndarray__\":\"VVVVVVVVEEBVVVVVVVURQKuqqqqqqhJAVVVVVVVVFEBVVVVVVVUVQAAAAAAAABhAAAAAAAAAGEAAAAAAAAAYQAAAAAAAABdAAAAAAAAAF0CrqqqqqqoYQAAAAAAAABlAAAAAAAAAGkCrqqqqqqoaQAAAAAAAAB1AAAAAAAAAHkAAAAAAAAAeQKuqqqqqqh5AAAAAAAAAIEAAAAAAAAAhQKuqqqqqqiFAAAAAAACAIkAAAAAAAIAjQAAAAAAAgCRAq6qqqqqqJUAAAAAAAIAlQKuqqqqqqiZAAAAAAAAAJ0AAAAAAAIAnQA==\",\"dtype\":\"float64\",\"shape\":[29]},\"y\":{\"__ndarray__\":\"VVVVVVXVQkAAAAAAAMBCQKuqqqqqqkJAVVVVVVWVQkAAAAAAAIBCQAAAAAAAYEJAq6qqqqpqQkCrqqqqqipCQAAAAAAAAEJAAAAAAAAAQkBVVVVVVRVCQFVVVVVVVUJAAAAAAABAQkCrqqqqqipCQFVVVVVVFUJAVVVVVVUVQkAAAAAAACBCQFVVVVVVVUJAq6qqqqoKQkAAAAAAAIBCQAAAAAAAwEJAAAAAAACgQkAAAAAAAKBCQAAAAAAAoEJAq6qqqqqKQkBVVVVVVZVCQKuqqqqqikJAq6qqqqoqQkBVVVVVVZVCQA==\",\"dtype\":\"float64\",\"shape\":[29]}},\"selected\":{\"id\":\"1085\",\"type\":\"Selection\"},\"selection_policy\":{\"id\":\"1086\",\"type\":\"UnionRenderers\"}},\"id\":\"1039\",\"type\":\"ColumnDataSource\"},{\"attributes\":{},\"id\":\"1025\",\"type\":\"WheelZoomTool\"},{\"attributes\":{\"data_source\":{\"id\":\"1049\",\"type\":\"ColumnDataSource\"},\"glyph\":{\"id\":\"1050\",\"type\":\"Line\"},\"hover_glyph\":null,\"muted_glyph\":null,\"nonselection_glyph\":{\"id\":\"1051\",\"type\":\"Line\"},\"selection_glyph\":null,\"view\":{\"id\":\"1053\",\"type\":\"CDSView\"}},\"id\":\"1052\",\"type\":\"GlyphRenderer\"},{\"attributes\":{\"line_color\":\"grey\",\"x\":{\"field\":\"x\"},\"y\":{\"field\":\"y\"}},\"id\":\"1050\",\"type\":\"Line\"}],\"root_ids\":[\"1004\"]},\"title\":\"Bokeh Application\",\"version\":\"1.0.2\"}};\n",
       "  var render_items = [{\"docid\":\"2358caef-389e-434d-a215-0cd9dd80aff9\",\"roots\":{\"1004\":\"ea066551-0813-4a83-ad03-d75e847aa0e8\"}}];\n",
       "  root.Bokeh.embed.embed_items_notebook(docs_json, render_items);\n",
       "\n",
       "  }\n",
       "  if (root.Bokeh !== undefined) {\n",
       "    embed_document(root);\n",
       "  } else {\n",
       "    var attempts = 0;\n",
       "    var timer = setInterval(function(root) {\n",
       "      if (root.Bokeh !== undefined) {\n",
       "        embed_document(root);\n",
       "        clearInterval(timer);\n",
       "      }\n",
       "      attempts++;\n",
       "      if (attempts > 100) {\n",
       "        console.log(\"Bokeh: ERROR: Unable to run BokehJS code because BokehJS library is missing\");\n",
       "        clearInterval(timer);\n",
       "      }\n",
       "    }, 10, root)\n",
       "  }\n",
       "})(window);"
      ],
      "application/vnd.bokehjs_exec.v0+json": ""
     },
     "metadata": {
      "application/vnd.bokehjs_exec.v0+json": {
       "id": "1004"
      }
     },
     "output_type": "display_data"
    }
   ],
   "source": [
    "plot_maps(fs_dict,dfTempt_dic,'dfTemp','blue','grey','Omega Recension' )"
   ]
  },
  {
   "cell_type": "markdown",
   "metadata": {},
   "source": [
    "### Xi Recension"
   ]
  },
  {
   "cell_type": "code",
   "execution_count": 29,
   "metadata": {},
   "outputs": [
    {
     "data": {
      "text/html": [
       "\n",
       "\n",
       "\n",
       "\n",
       "\n",
       "\n",
       "  <div class=\"bk-root\" id=\"b875c3e0-004e-4336-b5a6-813fb2a9aa8d\"></div>\n"
      ]
     },
     "metadata": {},
     "output_type": "display_data"
    },
    {
     "data": {
      "application/javascript": [
       "(function(root) {\n",
       "  function embed_document(root) {\n",
       "    \n",
       "  var docs_json = {\"fdd385c4-bb70-4f07-97f3-2740f6e18a05\":{\"roots\":{\"references\":[{\"attributes\":{\"below\":[{\"id\":\"1244\",\"type\":\"LinearAxis\"}],\"left\":[{\"id\":\"1249\",\"type\":\"LinearAxis\"}],\"plot_height\":800,\"plot_width\":1000,\"renderers\":[{\"id\":\"1244\",\"type\":\"LinearAxis\"},{\"id\":\"1248\",\"type\":\"Grid\"},{\"id\":\"1249\",\"type\":\"LinearAxis\"},{\"id\":\"1253\",\"type\":\"Grid\"},{\"id\":\"1262\",\"type\":\"BoxAnnotation\"},{\"id\":\"1272\",\"type\":\"GlyphRenderer\"},{\"id\":\"1277\",\"type\":\"GlyphRenderer\"},{\"id\":\"1282\",\"type\":\"GlyphRenderer\"},{\"id\":\"1287\",\"type\":\"GlyphRenderer\"},{\"id\":\"1292\",\"type\":\"GlyphRenderer\"},{\"id\":\"1297\",\"type\":\"GlyphRenderer\"},{\"id\":\"1302\",\"type\":\"GlyphRenderer\"},{\"id\":\"1307\",\"type\":\"GlyphRenderer\"}],\"title\":{\"id\":\"1233\",\"type\":\"Title\"},\"toolbar\":{\"id\":\"1260\",\"type\":\"Toolbar\"},\"x_range\":{\"id\":\"1236\",\"type\":\"Range1d\"},\"x_scale\":{\"id\":\"1240\",\"type\":\"LinearScale\"},\"y_range\":{\"id\":\"1238\",\"type\":\"Range1d\"},\"y_scale\":{\"id\":\"1242\",\"type\":\"LinearScale\"}},\"id\":\"1234\",\"subtype\":\"Figure\",\"type\":\"Plot\"},{\"attributes\":{\"line_alpha\":0.1,\"line_color\":\"#1f77b4\",\"x\":{\"field\":\"x\"},\"y\":{\"field\":\"y\"}},\"id\":\"1271\",\"type\":\"Line\"},{\"attributes\":{\"callback\":null,\"data\":{\"x\":[5.333,9.333,9,9],\"y\":[41.833,41.833,40.5,39]},\"selected\":{\"id\":\"1347\",\"type\":\"Selection\"},\"selection_policy\":{\"id\":\"1348\",\"type\":\"UnionRenderers\"}},\"id\":\"1294\",\"type\":\"ColumnDataSource\"},{\"attributes\":{\"data_source\":{\"id\":\"1289\",\"type\":\"ColumnDataSource\"},\"glyph\":{\"id\":\"1290\",\"type\":\"Line\"},\"hover_glyph\":null,\"muted_glyph\":null,\"nonselection_glyph\":{\"id\":\"1291\",\"type\":\"Line\"},\"selection_glyph\":null,\"view\":{\"id\":\"1293\",\"type\":\"CDSView\"}},\"id\":\"1292\",\"type\":\"GlyphRenderer\"},{\"attributes\":{\"source\":{\"id\":\"1289\",\"type\":\"ColumnDataSource\"}},\"id\":\"1293\",\"type\":\"CDSView\"},{\"attributes\":{\"overlay\":{\"id\":\"1262\",\"type\":\"BoxAnnotation\"}},\"id\":\"1256\",\"type\":\"BoxZoomTool\"},{\"attributes\":{\"active_drag\":\"auto\",\"active_inspect\":\"auto\",\"active_multi\":null,\"active_scroll\":\"auto\",\"active_tap\":\"auto\",\"tools\":[{\"id\":\"1254\",\"type\":\"PanTool\"},{\"id\":\"1255\",\"type\":\"WheelZoomTool\"},{\"id\":\"1256\",\"type\":\"BoxZoomTool\"},{\"id\":\"1257\",\"type\":\"SaveTool\"},{\"id\":\"1258\",\"type\":\"ResetTool\"},{\"id\":\"1259\",\"type\":\"HelpTool\"}]},\"id\":\"1260\",\"type\":\"Toolbar\"},{\"attributes\":{},\"id\":\"1255\",\"type\":\"WheelZoomTool\"},{\"attributes\":{\"line_alpha\":0.1,\"line_color\":\"#1f77b4\",\"x\":{\"field\":\"x\"},\"y\":{\"field\":\"y\"}},\"id\":\"1286\",\"type\":\"Line\"},{\"attributes\":{\"data_source\":{\"id\":\"1269\",\"type\":\"ColumnDataSource\"},\"glyph\":{\"id\":\"1270\",\"type\":\"Line\"},\"hover_glyph\":null,\"muted_glyph\":null,\"nonselection_glyph\":{\"id\":\"1271\",\"type\":\"Line\"},\"selection_glyph\":null,\"view\":{\"id\":\"1273\",\"type\":\"CDSView\"}},\"id\":\"1272\",\"type\":\"GlyphRenderer\"},{\"attributes\":{},\"id\":\"1258\",\"type\":\"ResetTool\"},{\"attributes\":{},\"id\":\"1254\",\"type\":\"PanTool\"},{\"attributes\":{},\"id\":\"1257\",\"type\":\"SaveTool\"},{\"attributes\":{\"bottom_units\":\"screen\",\"fill_alpha\":{\"value\":0.5},\"fill_color\":{\"value\":\"lightgrey\"},\"left_units\":\"screen\",\"level\":\"overlay\",\"line_alpha\":{\"value\":1.0},\"line_color\":{\"value\":\"black\"},\"line_dash\":[4,4],\"line_width\":{\"value\":2},\"plot\":null,\"render_mode\":\"css\",\"right_units\":\"screen\",\"top_units\":\"screen\"},\"id\":\"1262\",\"type\":\"BoxAnnotation\"},{\"attributes\":{\"source\":{\"id\":\"1269\",\"type\":\"ColumnDataSource\"}},\"id\":\"1273\",\"type\":\"CDSView\"},{\"attributes\":{\"callback\":null,\"data\":{\"x\":{\"__ndarray__\":\"VVVVVVVVEEAAAAAAAAAIQAAAAAAAAARAAAAAAAAAFEBVVVVVVVUUQKuqqqqqqhNAVVVVVVVVE0CrqqqqqqoUQKuqqqqqqhZAAAAAAAAAFEAAAAAAAAAUQKuqqqqqqhRAAAAAAAAAFkBVVVVVVVUVQAAAAAAAABZA\",\"dtype\":\"float64\",\"shape\":[15]},\"y\":{\"__ndarray__\":\"VVVVVVXVQkBVVVVVVfVCQAAAAAAAIENAAAAAAACAQ0BVVVVVVbVDQKuqqqqq6kNAq6qqqqrqQ0AAAAAAACBEQAAAAAAAQERAVVVVVVVVRUBVVVVVVVVFQKuqqqqqakRAq6qqqqqqRECrqqqqqupEQAAAAAAAIEVA\",\"dtype\":\"float64\",\"shape\":[15]}},\"selected\":{\"id\":\"1339\",\"type\":\"Selection\"},\"selection_policy\":{\"id\":\"1340\",\"type\":\"UnionRenderers\"}},\"id\":\"1274\",\"type\":\"ColumnDataSource\"},{\"attributes\":{\"line_color\":\"grey\",\"x\":{\"field\":\"x\"},\"y\":{\"field\":\"y\"}},\"id\":\"1275\",\"type\":\"Line\"},{\"attributes\":{\"line_alpha\":0.1,\"line_color\":\"#1f77b4\",\"x\":{\"field\":\"x\"},\"y\":{\"field\":\"y\"}},\"id\":\"1276\",\"type\":\"Line\"},{\"attributes\":{\"data_source\":{\"id\":\"1274\",\"type\":\"ColumnDataSource\"},\"glyph\":{\"id\":\"1275\",\"type\":\"Line\"},\"hover_glyph\":null,\"muted_glyph\":null,\"nonselection_glyph\":{\"id\":\"1276\",\"type\":\"Line\"},\"selection_glyph\":null,\"view\":{\"id\":\"1278\",\"type\":\"CDSView\"}},\"id\":\"1277\",\"type\":\"GlyphRenderer\"},{\"attributes\":{\"source\":{\"id\":\"1274\",\"type\":\"ColumnDataSource\"}},\"id\":\"1278\",\"type\":\"CDSView\"},{\"attributes\":{\"callback\":null,\"data\":{\"x\":{\"__ndarray__\":\"AAAAAAAAFkAAAAAAAAAWQKuqqqqqqhZAAAAAAAAAFkBVVVVVVVUVQAAAAAAAABZAq6qqqqqqFkCrqqqqqqoWQKuqqqqqqhZAAAAAAAAAFUCrqqqqqqoWQAAAAAAAABlAAAAAAAAAGkAAAAAAAAAbQAAAAAAAgCBAAAAAAAAAIkCrqqqqqqokQFVVVVVVVSdAAAAAAACAJ0AAAAAAAAAoQAAAAAAAACpAVVVVVVVVKkAAAAAAAAArQKuqqqqqqitAq6qqqqqqLEBVVVVVVVUuQFVVVVVVVS5AVVVVVVVVLkA=\",\"dtype\":\"float64\",\"shape\":[28]},\"y\":{\"__ndarray__\":\"AAAAAAAgRUAAAAAAAEBFQAAAAAAAYEVAAAAAAACgRUBVVVVVVdVFQAAAAAAAAEZAq6qqqqoqRkBVVVVVVVVGQAAAAAAAgEZAVVVVVVWVRkBVVVVVVZVGQAAAAAAAwEZAAAAAAADARkAAAAAAAIBGQKuqqqqq6kZAAAAAAADgRkBVVVVVVdVGQAAAAAAA4EZAVVVVVVW1RkBVVVVVVZVGQAAAAAAAwEZAVVVVVVVVRkAAAAAAACBGQKuqqqqqCkZAAAAAAACARkCrqqqqqopGQKuqqqqq6kZAq6qqqqrqRkA=\",\"dtype\":\"float64\",\"shape\":[28]}},\"selected\":{\"id\":\"1341\",\"type\":\"Selection\"},\"selection_policy\":{\"id\":\"1342\",\"type\":\"UnionRenderers\"}},\"id\":\"1279\",\"type\":\"ColumnDataSource\"},{\"attributes\":{},\"id\":\"1250\",\"type\":\"BasicTicker\"},{\"attributes\":{\"line_color\":\"grey\",\"x\":{\"field\":\"x\"},\"y\":{\"field\":\"y\"}},\"id\":\"1280\",\"type\":\"Line\"},{\"attributes\":{\"line_alpha\":0.1,\"line_color\":\"#1f77b4\",\"x\":{\"field\":\"x\"},\"y\":{\"field\":\"y\"}},\"id\":\"1281\",\"type\":\"Line\"},{\"attributes\":{\"formatter\":{\"id\":\"1335\",\"type\":\"BasicTickFormatter\"},\"plot\":{\"id\":\"1234\",\"subtype\":\"Figure\",\"type\":\"Plot\"},\"ticker\":{\"id\":\"1250\",\"type\":\"BasicTicker\"}},\"id\":\"1249\",\"type\":\"LinearAxis\"},{\"attributes\":{\"data_source\":{\"id\":\"1279\",\"type\":\"ColumnDataSource\"},\"glyph\":{\"id\":\"1280\",\"type\":\"Line\"},\"hover_glyph\":null,\"muted_glyph\":null,\"nonselection_glyph\":{\"id\":\"1281\",\"type\":\"Line\"},\"selection_glyph\":null,\"view\":{\"id\":\"1283\",\"type\":\"CDSView\"}},\"id\":\"1282\",\"type\":\"GlyphRenderer\"},{\"attributes\":{\"line_color\":\"grey\",\"x\":{\"field\":\"x\"},\"y\":{\"field\":\"y\"}},\"id\":\"1270\",\"type\":\"Line\"},{\"attributes\":{\"source\":{\"id\":\"1279\",\"type\":\"ColumnDataSource\"}},\"id\":\"1283\",\"type\":\"CDSView\"},{\"attributes\":{\"callback\":null,\"end\":22,\"start\":1.5},\"id\":\"1236\",\"type\":\"Range1d\"},{\"attributes\":{\"callback\":null,\"data\":{\"x\":{\"__ndarray__\":\"VVVVVVVVNEBVVVVVVVU0QAAAAAAAgDNAAAAAAAAAM0AAAAAAAMAyQAAAAAAAgDJAAAAAAABAMkAAAAAAAAAyQAAAAAAAgDJAVVVVVVXVMUAAAAAAAIAxQAAAAAAAQDFAVVVVVVXVMEBVVVVVVVUwQAAAAAAAADBAAAAAAAAAL0CrqqqqqqovQKuqqqqqKi5AAAAAAAAALkAAAAAAAAAtQAAAAAAAACxAAAAAAAAAK0AAAAAAAAAqQAAAAAAAAClAAAAAAAAAKUAAAAAAAAApQAAAAAAAgChAVVVVVVVVKEAAAAAAAAAoQAAAAAAAgCdA\",\"dtype\":\"float64\",\"shape\":[30]},\"y\":{\"__ndarray__\":\"q6qqqqoqRUCrqqqqqipFQAAAAAAAQEVAAAAAAABARUCrqqqqqipFQFVVVVVVFUVAAAAAAAAARUAAAAAAAOBEQKuqqqqqqkRAq6qqqqqqREAAAAAAAKBEQAAAAAAAgERAAAAAAABgREBVVVVVVVVEQAAAAAAAQERAAAAAAAAARECrqqqqqqpDQAAAAAAAwENAAAAAAACAQ0BVVVVVVXVDQKuqqqqqakNAAAAAAABgQ0AAAAAAAGBDQKuqqqqqSkNAAAAAAABAQ0BVVVVVVRVDQFVVVVVV9UJAAAAAAADAQkAAAAAAAKBCQFVVVVVVlUJA\",\"dtype\":\"float64\",\"shape\":[30]}},\"selected\":{\"id\":\"1343\",\"type\":\"Selection\"},\"selection_policy\":{\"id\":\"1344\",\"type\":\"UnionRenderers\"}},\"id\":\"1284\",\"type\":\"ColumnDataSource\"},{\"attributes\":{\"line_color\":\"grey\",\"x\":{\"field\":\"x\"},\"y\":{\"field\":\"y\"}},\"id\":\"1285\",\"type\":\"Line\"},{\"attributes\":{\"callback\":null,\"end\":47,\"start\":35.5},\"id\":\"1238\",\"type\":\"Range1d\"},{\"attributes\":{},\"id\":\"1240\",\"type\":\"LinearScale\"},{\"attributes\":{\"data_source\":{\"id\":\"1284\",\"type\":\"ColumnDataSource\"},\"glyph\":{\"id\":\"1285\",\"type\":\"Line\"},\"hover_glyph\":null,\"muted_glyph\":null,\"nonselection_glyph\":{\"id\":\"1286\",\"type\":\"Line\"},\"selection_glyph\":null,\"view\":{\"id\":\"1288\",\"type\":\"CDSView\"}},\"id\":\"1287\",\"type\":\"GlyphRenderer\"},{\"attributes\":{},\"id\":\"1242\",\"type\":\"LinearScale\"},{\"attributes\":{\"source\":{\"id\":\"1284\",\"type\":\"ColumnDataSource\"}},\"id\":\"1288\",\"type\":\"CDSView\"},{\"attributes\":{\"formatter\":{\"id\":\"1333\",\"type\":\"BasicTickFormatter\"},\"plot\":{\"id\":\"1234\",\"subtype\":\"Figure\",\"type\":\"Plot\"},\"ticker\":{\"id\":\"1245\",\"type\":\"BasicTicker\"}},\"id\":\"1244\",\"type\":\"LinearAxis\"},{\"attributes\":{\"callback\":null,\"data\":{\"x\":[4.083,6.333,9,12],\"y\":[37.667,39,39,37.25]},\"selected\":{\"id\":\"1345\",\"type\":\"Selection\"},\"selection_policy\":{\"id\":\"1346\",\"type\":\"UnionRenderers\"}},\"id\":\"1289\",\"type\":\"ColumnDataSource\"},{\"attributes\":{},\"id\":\"1245\",\"type\":\"BasicTicker\"},{\"attributes\":{\"plot\":{\"id\":\"1234\",\"subtype\":\"Figure\",\"type\":\"Plot\"},\"ticker\":{\"id\":\"1245\",\"type\":\"BasicTicker\"}},\"id\":\"1248\",\"type\":\"Grid\"},{\"attributes\":{\"line_alpha\":0.8,\"line_color\":\"grey\",\"x\":{\"field\":\"x\"},\"y\":{\"field\":\"y\"}},\"id\":\"1290\",\"type\":\"Line\"},{\"attributes\":{\"plot\":null,\"text\":\"Xi Recension\"},\"id\":\"1233\",\"type\":\"Title\"},{\"attributes\":{\"line_alpha\":0.1,\"line_color\":\"#1f77b4\",\"x\":{\"field\":\"x\"},\"y\":{\"field\":\"y\"}},\"id\":\"1291\",\"type\":\"Line\"},{\"attributes\":{\"line_alpha\":0.8,\"line_color\":\"grey\",\"x\":{\"field\":\"x\"},\"y\":{\"field\":\"y\"}},\"id\":\"1295\",\"type\":\"Line\"},{\"attributes\":{\"line_alpha\":0.1,\"line_color\":\"#1f77b4\",\"x\":{\"field\":\"x\"},\"y\":{\"field\":\"y\"}},\"id\":\"1296\",\"type\":\"Line\"},{\"attributes\":{\"data_source\":{\"id\":\"1294\",\"type\":\"ColumnDataSource\"},\"glyph\":{\"id\":\"1295\",\"type\":\"Line\"},\"hover_glyph\":null,\"muted_glyph\":null,\"nonselection_glyph\":{\"id\":\"1296\",\"type\":\"Line\"},\"selection_glyph\":null,\"view\":{\"id\":\"1298\",\"type\":\"CDSView\"}},\"id\":\"1297\",\"type\":\"GlyphRenderer\"},{\"attributes\":{\"callback\":null,\"data\":{\"x\":{\"__ndarray__\":\"VVVVVVVVEEBVVVVVVVURQKuqqqqqqhJAVVVVVVVVFEBVVVVVVVUVQAAAAAAAABhAAAAAAAAAGEAAAAAAAAAXQAAAAAAAABdAq6qqqqqqGEAAAAAAAAAZQAAAAAAAABpAVVVVVVVVG0AAAAAAAAAdQAAAAAAAAB5AAAAAAAAAHkCrqqqqqqoeQAAAAAAAACBAAAAAAAAAIUCrqqqqqqohQAAAAAAAgCJAAAAAAACAI0AAAAAAAIAkQAAAAAAAgCVAq6qqqqqqJkAAAAAAAAAnQAAAAAAAgCdA\",\"dtype\":\"float64\",\"shape\":[27]},\"y\":{\"__ndarray__\":\"VVVVVVXVQkAAAAAAAMBCQKuqqqqqqkJAVVVVVVWVQkAAAAAAAIBCQAAAAAAAYEJAq6qqqqoqQkCrqqqqqgpCQKuqqqqqCkJAq6qqqqoKQkCrqqqqqgpCQFVVVVVVFUJAq6qqqqoKQkAAAAAAAEBCQFVVVVVVFUJAAAAAAAAgQkBVVVVVVVVCQFVVVVVVdUJAAAAAAACAQkBVVVVVVZVCQFVVVVVVlUJAAAAAAADgQkAAAAAAAKBCQFVVVVVVlUJAq6qqqqqKQkCrqqqqqmpCQFVVVVVVlUJA\",\"dtype\":\"float64\",\"shape\":[27]}},\"selected\":{\"id\":\"1337\",\"type\":\"Selection\"},\"selection_policy\":{\"id\":\"1338\",\"type\":\"UnionRenderers\"}},\"id\":\"1269\",\"type\":\"ColumnDataSource\"},{\"attributes\":{\"callback\":null,\"data\":{\"x\":[15.167,17,19,20.333],\"y\":[45.833,43,43.167,42.333]},\"selected\":{\"id\":\"1349\",\"type\":\"Selection\"},\"selection_policy\":{\"id\":\"1350\",\"type\":\"UnionRenderers\"}},\"id\":\"1299\",\"type\":\"ColumnDataSource\"},{\"attributes\":{\"line_alpha\":0.8,\"line_color\":\"grey\",\"x\":{\"field\":\"x\"},\"y\":{\"field\":\"y\"}},\"id\":\"1300\",\"type\":\"Line\"},{\"attributes\":{\"line_alpha\":0.1,\"line_color\":\"#1f77b4\",\"x\":{\"field\":\"x\"},\"y\":{\"field\":\"y\"}},\"id\":\"1301\",\"type\":\"Line\"},{\"attributes\":{\"data_source\":{\"id\":\"1299\",\"type\":\"ColumnDataSource\"},\"glyph\":{\"id\":\"1300\",\"type\":\"Line\"},\"hover_glyph\":null,\"muted_glyph\":null,\"nonselection_glyph\":{\"id\":\"1301\",\"type\":\"Line\"},\"selection_glyph\":null,\"view\":{\"id\":\"1303\",\"type\":\"CDSView\"}},\"id\":\"1302\",\"type\":\"GlyphRenderer\"},{\"attributes\":{\"source\":{\"id\":\"1299\",\"type\":\"ColumnDataSource\"}},\"id\":\"1303\",\"type\":\"CDSView\"},{\"attributes\":{\"callback\":null,\"data\":{\"x\":{\"__ndarray__\":\"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\",\"dtype\":\"float64\",\"shape\":[667]},\"y\":{\"__ndarray__\":\"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\",\"dtype\":\"float64\",\"shape\":[667]}},\"selected\":{\"id\":\"1351\",\"type\":\"Selection\"},\"selection_policy\":{\"id\":\"1352\",\"type\":\"UnionRenderers\"}},\"id\":\"1304\",\"type\":\"ColumnDataSource\"},{\"attributes\":{\"fill_alpha\":{\"value\":0.9},\"fill_color\":{\"value\":\"red\"},\"line_alpha\":{\"value\":0.6},\"line_color\":{\"value\":\"red\"},\"size\":{\"units\":\"screen\",\"value\":6},\"x\":{\"field\":\"x\"},\"y\":{\"field\":\"y\"}},\"id\":\"1305\",\"type\":\"Circle\"},{\"attributes\":{\"fill_alpha\":{\"value\":0.1},\"fill_color\":{\"value\":\"#1f77b4\"},\"line_alpha\":{\"value\":0.1},\"line_color\":{\"value\":\"#1f77b4\"},\"size\":{\"units\":\"screen\",\"value\":6},\"x\":{\"field\":\"x\"},\"y\":{\"field\":\"y\"}},\"id\":\"1306\",\"type\":\"Circle\"},{\"attributes\":{\"data_source\":{\"id\":\"1304\",\"type\":\"ColumnDataSource\"},\"glyph\":{\"id\":\"1305\",\"type\":\"Circle\"},\"hover_glyph\":null,\"muted_glyph\":null,\"nonselection_glyph\":{\"id\":\"1306\",\"type\":\"Circle\"},\"selection_glyph\":null,\"view\":{\"id\":\"1308\",\"type\":\"CDSView\"}},\"id\":\"1307\",\"type\":\"GlyphRenderer\"},{\"attributes\":{\"source\":{\"id\":\"1304\",\"type\":\"ColumnDataSource\"}},\"id\":\"1308\",\"type\":\"CDSView\"},{\"attributes\":{},\"id\":\"1333\",\"type\":\"BasicTickFormatter\"},{\"attributes\":{},\"id\":\"1335\",\"type\":\"BasicTickFormatter\"},{\"attributes\":{},\"id\":\"1337\",\"type\":\"Selection\"},{\"attributes\":{},\"id\":\"1259\",\"type\":\"HelpTool\"},{\"attributes\":{},\"id\":\"1338\",\"type\":\"UnionRenderers\"},{\"attributes\":{},\"id\":\"1339\",\"type\":\"Selection\"},{\"attributes\":{},\"id\":\"1340\",\"type\":\"UnionRenderers\"},{\"attributes\":{},\"id\":\"1341\",\"type\":\"Selection\"},{\"attributes\":{},\"id\":\"1342\",\"type\":\"UnionRenderers\"},{\"attributes\":{},\"id\":\"1343\",\"type\":\"Selection\"},{\"attributes\":{},\"id\":\"1344\",\"type\":\"UnionRenderers\"},{\"attributes\":{},\"id\":\"1345\",\"type\":\"Selection\"},{\"attributes\":{},\"id\":\"1346\",\"type\":\"UnionRenderers\"},{\"attributes\":{},\"id\":\"1347\",\"type\":\"Selection\"},{\"attributes\":{},\"id\":\"1348\",\"type\":\"UnionRenderers\"},{\"attributes\":{\"dimension\":1,\"plot\":{\"id\":\"1234\",\"subtype\":\"Figure\",\"type\":\"Plot\"},\"ticker\":{\"id\":\"1250\",\"type\":\"BasicTicker\"}},\"id\":\"1253\",\"type\":\"Grid\"},{\"attributes\":{},\"id\":\"1349\",\"type\":\"Selection\"},{\"attributes\":{},\"id\":\"1350\",\"type\":\"UnionRenderers\"},{\"attributes\":{},\"id\":\"1351\",\"type\":\"Selection\"},{\"attributes\":{\"source\":{\"id\":\"1294\",\"type\":\"ColumnDataSource\"}},\"id\":\"1298\",\"type\":\"CDSView\"},{\"attributes\":{},\"id\":\"1352\",\"type\":\"UnionRenderers\"}],\"root_ids\":[\"1234\"]},\"title\":\"Bokeh Application\",\"version\":\"1.0.2\"}};\n",
       "  var render_items = [{\"docid\":\"fdd385c4-bb70-4f07-97f3-2740f6e18a05\",\"roots\":{\"1234\":\"b875c3e0-004e-4336-b5a6-813fb2a9aa8d\"}}];\n",
       "  root.Bokeh.embed.embed_items_notebook(docs_json, render_items);\n",
       "\n",
       "  }\n",
       "  if (root.Bokeh !== undefined) {\n",
       "    embed_document(root);\n",
       "  } else {\n",
       "    var attempts = 0;\n",
       "    var timer = setInterval(function(root) {\n",
       "      if (root.Bokeh !== undefined) {\n",
       "        embed_document(root);\n",
       "        clearInterval(timer);\n",
       "      }\n",
       "      attempts++;\n",
       "      if (attempts > 100) {\n",
       "        console.log(\"Bokeh: ERROR: Unable to run BokehJS code because BokehJS library is missing\");\n",
       "        clearInterval(timer);\n",
       "      }\n",
       "    }, 10, root)\n",
       "  }\n",
       "})(window);"
      ],
      "application/vnd.bokehjs_exec.v0+json": ""
     },
     "metadata": {
      "application/vnd.bokehjs_exec.v0+json": {
       "id": "1234"
      }
     },
     "output_type": "display_data"
    }
   ],
   "source": [
    "plot_maps(gs_dict,dfTempt_dic,'dfTempX','red','grey','Xi Recension' )"
   ]
  },
  {
   "cell_type": "markdown",
   "metadata": {},
   "source": [
    "## Comparison Ξ and Ω"
   ]
  },
  {
   "cell_type": "code",
   "execution_count": 30,
   "metadata": {},
   "outputs": [],
   "source": [
    "a=dfTempX.reset_index(level=['chap_ID','sec_ID','ID'])\n",
    "a=a[a.longitude.apply(lambda row: row not in [0])]\n",
    "a=a[['ID','longitude','latitude']].dropna()\n",
    "\n",
    "b=dfTemp.reset_index(level=['chap_ID','sec_ID','ID'])\n",
    "b=b[b.longitude.apply(lambda row: row not in [0])]\n",
    "b=b[['ID','longitude','latitude']].dropna()\n",
    "\n",
    "c = pd.merge(left=a, right=b,how='inner')\n",
    "\n",
    "IbEq = c[c[\"longitude\"]==c[\"longitude\"]]\n",
    "IbEq = IbEq[IbEq[\"latitude\"]==IbEq[\"latitude\"]]"
   ]
  },
  {
   "cell_type": "code",
   "execution_count": 31,
   "metadata": {},
   "outputs": [
    {
     "data": {
      "text/html": [
       "\n",
       "\n",
       "\n",
       "\n",
       "\n",
       "\n",
       "  <div class=\"bk-root\" id=\"dabe2872-5e9a-4e10-862e-8c5e0909d488\"></div>\n"
      ]
     },
     "metadata": {},
     "output_type": "display_data"
    },
    {
     "data": {
      "application/javascript": [
       "(function(root) {\n",
       "  function embed_document(root) {\n",
       "    \n",
       "  var docs_json = {\"3f7f8656-0e3f-4c11-b3ad-95230fc0f67e\":{\"roots\":{\"references\":[{\"attributes\":{\"below\":[{\"id\":\"1496\",\"type\":\"LinearAxis\"}],\"left\":[{\"id\":\"1501\",\"type\":\"LinearAxis\"}],\"plot_height\":800,\"plot_width\":1000,\"renderers\":[{\"id\":\"1496\",\"type\":\"LinearAxis\"},{\"id\":\"1500\",\"type\":\"Grid\"},{\"id\":\"1501\",\"type\":\"LinearAxis\"},{\"id\":\"1505\",\"type\":\"Grid\"},{\"id\":\"1514\",\"type\":\"BoxAnnotation\"},{\"id\":\"1532\",\"type\":\"Legend\"},{\"id\":\"1524\",\"type\":\"GlyphRenderer\"},{\"id\":\"1537\",\"type\":\"GlyphRenderer\"},{\"id\":\"1542\",\"type\":\"GlyphRenderer\"},{\"id\":\"1558\",\"type\":\"GlyphRenderer\"},{\"id\":\"1563\",\"type\":\"GlyphRenderer\"},{\"id\":\"1568\",\"type\":\"GlyphRenderer\"},{\"id\":\"1573\",\"type\":\"GlyphRenderer\"},{\"id\":\"1578\",\"type\":\"GlyphRenderer\"},{\"id\":\"1583\",\"type\":\"GlyphRenderer\"},{\"id\":\"1588\",\"type\":\"GlyphRenderer\"},{\"id\":\"1593\",\"type\":\"GlyphRenderer\"},{\"id\":\"1625\",\"type\":\"GlyphRenderer\"},{\"id\":\"1630\",\"type\":\"GlyphRenderer\"},{\"id\":\"1635\",\"type\":\"GlyphRenderer\"},{\"id\":\"1640\",\"type\":\"GlyphRenderer\"},{\"id\":\"1645\",\"type\":\"GlyphRenderer\"},{\"id\":\"1650\",\"type\":\"GlyphRenderer\"},{\"id\":\"1655\",\"type\":\"GlyphRenderer\"},{\"id\":\"1660\",\"type\":\"GlyphRenderer\"}],\"title\":{\"id\":\"1485\",\"type\":\"Title\"},\"toolbar\":{\"id\":\"1512\",\"type\":\"Toolbar\"},\"x_range\":{\"id\":\"1488\",\"type\":\"Range1d\"},\"x_scale\":{\"id\":\"1492\",\"type\":\"LinearScale\"},\"y_range\":{\"id\":\"1490\",\"type\":\"Range1d\"},\"y_scale\":{\"id\":\"1494\",\"type\":\"LinearScale\"}},\"id\":\"1486\",\"subtype\":\"Figure\",\"type\":\"Plot\"},{\"attributes\":{},\"id\":\"1492\",\"type\":\"LinearScale\"},{\"attributes\":{\"line_alpha\":0.1,\"line_color\":\"#1f77b4\",\"x\":{\"field\":\"x\"},\"y\":{\"field\":\"y\"}},\"id\":\"1577\",\"type\":\"Line\"},{\"attributes\":{\"line_color\":\"DodgerBlue\",\"x\":{\"field\":\"x\"},\"y\":{\"field\":\"y\"}},\"id\":\"1623\",\"type\":\"Line\"},{\"attributes\":{\"fill_alpha\":{\"value\":0.1},\"fill_color\":{\"value\":\"#1f77b4\"},\"line_alpha\":{\"value\":0.1},\"line_color\":{\"value\":\"#1f77b4\"},\"size\":{\"units\":\"screen\",\"value\":5.5},\"x\":{\"field\":\"x\"},\"y\":{\"field\":\"y\"}},\"id\":\"1659\",\"type\":\"Circle\"},{\"attributes\":{},\"id\":\"1494\",\"type\":\"LinearScale\"},{\"attributes\":{\"data_source\":{\"id\":\"1575\",\"type\":\"ColumnDataSource\"},\"glyph\":{\"id\":\"1576\",\"type\":\"Line\"},\"hover_glyph\":null,\"muted_glyph\":null,\"nonselection_glyph\":{\"id\":\"1577\",\"type\":\"Line\"},\"selection_glyph\":null,\"view\":{\"id\":\"1579\",\"type\":\"CDSView\"}},\"id\":\"1578\",\"type\":\"GlyphRenderer\"},{\"attributes\":{\"data_source\":{\"id\":\"1657\",\"type\":\"ColumnDataSource\"},\"glyph\":{\"id\":\"1658\",\"type\":\"Circle\"},\"hover_glyph\":null,\"muted_glyph\":null,\"nonselection_glyph\":{\"id\":\"1659\",\"type\":\"Circle\"},\"selection_glyph\":null,\"view\":{\"id\":\"1661\",\"type\":\"CDSView\"}},\"id\":\"1660\",\"type\":\"GlyphRenderer\"},{\"attributes\":{\"dimension\":1,\"plot\":{\"id\":\"1486\",\"subtype\":\"Figure\",\"type\":\"Plot\"},\"ticker\":{\"id\":\"1502\",\"type\":\"BasicTicker\"}},\"id\":\"1505\",\"type\":\"Grid\"},{\"attributes\":{\"line_alpha\":0.1,\"line_color\":\"#1f77b4\",\"x\":{\"field\":\"x\"},\"y\":{\"field\":\"y\"}},\"id\":\"1624\",\"type\":\"Line\"},{\"attributes\":{\"data_source\":{\"id\":\"1622\",\"type\":\"ColumnDataSource\"},\"glyph\":{\"id\":\"1623\",\"type\":\"Line\"},\"hover_glyph\":null,\"muted_glyph\":null,\"nonselection_glyph\":{\"id\":\"1624\",\"type\":\"Line\"},\"selection_glyph\":null,\"view\":{\"id\":\"1626\",\"type\":\"CDSView\"}},\"id\":\"1625\",\"type\":\"GlyphRenderer\"},{\"attributes\":{\"source\":{\"id\":\"1575\",\"type\":\"ColumnDataSource\"}},\"id\":\"1579\",\"type\":\"CDSView\"},{\"attributes\":{\"source\":{\"id\":\"1657\",\"type\":\"ColumnDataSource\"}},\"id\":\"1661\",\"type\":\"CDSView\"},{\"attributes\":{\"formatter\":{\"id\":\"1528\",\"type\":\"BasicTickFormatter\"},\"plot\":{\"id\":\"1486\",\"subtype\":\"Figure\",\"type\":\"Plot\"},\"ticker\":{\"id\":\"1497\",\"type\":\"BasicTicker\"}},\"id\":\"1496\",\"type\":\"LinearAxis\"},{\"attributes\":{\"formatter\":{\"id\":\"1530\",\"type\":\"BasicTickFormatter\"},\"plot\":{\"id\":\"1486\",\"subtype\":\"Figure\",\"type\":\"Plot\"},\"ticker\":{\"id\":\"1502\",\"type\":\"BasicTicker\"}},\"id\":\"1501\",\"type\":\"LinearAxis\"},{\"attributes\":{\"callback\":null,\"data\":{\"x\":[5.333,9.333,9,9],\"y\":[41.833,41.833,40.5,39]},\"selected\":{\"id\":\"1617\",\"type\":\"Selection\"},\"selection_policy\":{\"id\":\"1618\",\"type\":\"UnionRenderers\"}},\"id\":\"1580\",\"type\":\"ColumnDataSource\"},{\"attributes\":{\"source\":{\"id\":\"1622\",\"type\":\"ColumnDataSource\"}},\"id\":\"1626\",\"type\":\"CDSView\"},{\"attributes\":{\"line_alpha\":0.8,\"line_color\":\"Crimson\",\"x\":{\"field\":\"x\"},\"y\":{\"field\":\"y\"}},\"id\":\"1581\",\"type\":\"Line\"},{\"attributes\":{\"callback\":null,\"data\":{\"x\":{\"__ndarray__\":\"VVVVVVVVEEBVVVVVVVUNQAAAAAAAAAhAAAAAAAAABEAAAAAAAAAUQFVVVVVVVRRAq6qqqqqqEUAAAAAAAAARQKuqqqqqqhRAAAAAAAAAFkAAAAAAAAAUQAAAAAAAABRAq6qqqqqqFECrqqqqqqoUQFVVVVVVVRVA\",\"dtype\":\"float64\",\"shape\":[15]},\"y\":{\"__ndarray__\":\"VVVVVVXVQkAAAAAAAOBCQKuqqqqq6kJAAAAAAAAgQ0AAAAAAAIBDQFVVVVVVtUNAAAAAAADAQ0AAAAAAAOBDQAAAAAAAIERAVVVVVVUVREBVVVVVVVVEQFVVVVVVVURAq6qqqqpqRECrqqqqqqpEQKuqqqqq6kRA\",\"dtype\":\"float64\",\"shape\":[15]}},\"selected\":{\"id\":\"1736\",\"type\":\"Selection\"},\"selection_policy\":{\"id\":\"1737\",\"type\":\"UnionRenderers\"}},\"id\":\"1627\",\"type\":\"ColumnDataSource\"},{\"attributes\":{},\"id\":\"1733\",\"type\":\"UnionRenderers\"},{\"attributes\":{},\"id\":\"1502\",\"type\":\"BasicTicker\"},{\"attributes\":{\"line_alpha\":0.1,\"line_color\":\"#1f77b4\",\"x\":{\"field\":\"x\"},\"y\":{\"field\":\"y\"}},\"id\":\"1582\",\"type\":\"Line\"},{\"attributes\":{\"line_color\":\"DodgerBlue\",\"x\":{\"field\":\"x\"},\"y\":{\"field\":\"y\"}},\"id\":\"1628\",\"type\":\"Line\"},{\"attributes\":{},\"id\":\"1734\",\"type\":\"Selection\"},{\"attributes\":{\"data_source\":{\"id\":\"1580\",\"type\":\"ColumnDataSource\"},\"glyph\":{\"id\":\"1581\",\"type\":\"Line\"},\"hover_glyph\":null,\"muted_glyph\":null,\"nonselection_glyph\":{\"id\":\"1582\",\"type\":\"Line\"},\"selection_glyph\":null,\"view\":{\"id\":\"1584\",\"type\":\"CDSView\"}},\"id\":\"1583\",\"type\":\"GlyphRenderer\"},{\"attributes\":{},\"id\":\"1497\",\"type\":\"BasicTicker\"},{\"attributes\":{\"line_alpha\":0.1,\"line_color\":\"#1f77b4\",\"x\":{\"field\":\"x\"},\"y\":{\"field\":\"y\"}},\"id\":\"1629\",\"type\":\"Line\"},{\"attributes\":{\"plot\":{\"id\":\"1486\",\"subtype\":\"Figure\",\"type\":\"Plot\"},\"ticker\":{\"id\":\"1497\",\"type\":\"BasicTicker\"}},\"id\":\"1500\",\"type\":\"Grid\"},{\"attributes\":{},\"id\":\"1735\",\"type\":\"UnionRenderers\"},{\"attributes\":{\"data_source\":{\"id\":\"1627\",\"type\":\"ColumnDataSource\"},\"glyph\":{\"id\":\"1628\",\"type\":\"Line\"},\"hover_glyph\":null,\"muted_glyph\":null,\"nonselection_glyph\":{\"id\":\"1629\",\"type\":\"Line\"},\"selection_glyph\":null,\"view\":{\"id\":\"1631\",\"type\":\"CDSView\"}},\"id\":\"1630\",\"type\":\"GlyphRenderer\"},{\"attributes\":{\"fill_color\":{\"value\":\"lightgrey\"},\"line_alpha\":{\"value\":0.8},\"line_color\":{\"value\":\"lightgrey\"},\"size\":{\"units\":\"screen\",\"value\":5.5},\"x\":{\"field\":\"x\"},\"y\":{\"field\":\"y\"}},\"id\":\"1522\",\"type\":\"Circle\"},{\"attributes\":{\"source\":{\"id\":\"1580\",\"type\":\"ColumnDataSource\"}},\"id\":\"1584\",\"type\":\"CDSView\"},{\"attributes\":{},\"id\":\"1510\",\"type\":\"ResetTool\"},{\"attributes\":{},\"id\":\"1736\",\"type\":\"Selection\"},{\"attributes\":{\"callback\":null,\"data\":{\"x\":[15.167,17,19,20.333],\"y\":[45.833,43,43.167,42.333]},\"selected\":{\"id\":\"1619\",\"type\":\"Selection\"},\"selection_policy\":{\"id\":\"1620\",\"type\":\"UnionRenderers\"}},\"id\":\"1585\",\"type\":\"ColumnDataSource\"},{\"attributes\":{\"source\":{\"id\":\"1627\",\"type\":\"ColumnDataSource\"}},\"id\":\"1631\",\"type\":\"CDSView\"},{\"attributes\":{},\"id\":\"1737\",\"type\":\"UnionRenderers\"},{\"attributes\":{\"callback\":null,\"data\":{\"x\":{\"__ndarray__\":\"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\",\"dtype\":\"float64\",\"shape\":[303]},\"y\":{\"__ndarray__\":\"VVVVVVXVQkBVVVVVVdVCQFVVVVVV1UJAVVVVVVXVQkAAAAAAAMBCQAAAAAAAwEJAAAAAAACAQ0AAAAAAAIBDQAAAAAAAgENAAAAAAACAQ0AAAAAAAIBDQAAAAAAAoEJAAAAAAAAARECrqqqqqqpCQFVVVVVVlUJAAAAAAACAQkAAAAAAAEBDQAAAAAAAYEJAq6qqqqoqQkBVVVVVVRVCQAAAAAAAIEJAVVVVVVVVQkAAAAAAAIBCQAAAAAAAoEJAVVVVVVWVQkCrqqqqqopCQFVVVVVVlUJAq6qqqqpqQ0BVVVVVVVVDQAAAAAAAQENAVVVVVVUVQ0AAAAAAACBDQAAAAAAAAENAAAAAAADgQkBVVVVVVZVCQAAAAAAAgEJAVVVVVVVVQkAAAAAAAMBCQAAAAAAA4EJAAAAAAADAQkAAAAAAAOBCQAAAAAAAoEJAq6qqqqoqQ0AAAAAAAABDQFVVVVVV1UJAAAAAAADAQkBVVVVVVVVDQFVVVVVVNUNAq6qqqqoqQ0CrqqqqqupCQKuqqqqqikJAq6qqqqoqQ0AAAAAAAABDQFVVVVVVVUNAVVVVVVU1Q0CrqqqqqupEQKuqqqqq6kRAq6qqqqrqRECrqqqqqupEQFVVVVVV1URAAAAAAADgQkAAAAAAACBDQAAAAAAAgENAVVVVVVW1Q0AAAAAAACBEQAAAAAAAYERAq6qqqqpqRECrqqqqqupEQAAAAAAAgENAAAAAAABgQ0AAAAAAACBEQAAAAAAAAERAAAAAAAAAREAAAAAAAOBDQFVVVVVV1UNAq6qqqqqqQ0CrqqqqqqpDQAAAAAAAwERAq6qqqqqqREAAAAAAAMBEQKuqqqqqikRAAAAAAABAREAAAAAAAGBEQAAAAAAAQERAAAAAAAAgREAAAAAAAABEQAAAAAAAIERAAAAAAAAARECrqqqqqqpDQKuqqqqqikNAVVVVVVX1Q0BVVVVVVdVDQAAAAAAAwENAAAAAAACgQ0CrqqqqqopDQAAAAAAAwENAVVVVVVXVREAAAAAAAMBEQKuqqqqq6kRAAAAAAACgREAAAAAAAGBEQFVVVVVVVURAVVVVVVU1RECrqqqqqgpEQAAAAAAAgERAAAAAAAAgRUAAAAAAAGBFQAAAAAAAoEVAVVVVVVXVRUAAAAAAACBGQAAAAAAAAEZAq6qqqqoqRkBVVVVVVVVGQFVVVVVVlUZAAAAAAADARkAAAAAAAMBGQKuqqqqq6kZAAAAAAADgRkBVVVVVVdVGQFVVVVVVtUZAVVVVVVVVRkAAAAAAACBGQAAAAAAAgEZAq6qqqqqKRkCrqqqqqipFQKuqqqqqKkVAq6qqqqoqRUCrqqqqqipFQAAAAAAAgEVAAAAAAACARUAAAAAAAIBFQAAAAAAAgEVAAAAAAACgQkAAAAAAAMBCQFVVVVVV9UJAAAAAAABAQ0AAAAAAAGBDQAAAAAAAYENAAAAAAACAQ0AAAAAAAABEQAAAAAAAQERAAAAAAAAARUAAAAAAAABGQFVVVVVVVURAAAAAAABgREAAAAAAAIBEQKuqqqqqqkRAAAAAAADgREAAAAAAAABFQFVVVVVVFUVAq6qqqqoqRUAAAAAAAEBFQAAAAAAAQEVAq6qqqqoqRUCrqqqqqipFQKuqqqqqKkVAq6qqqqoqRUCrqqqqqipFQKuqqqqqKkVAq6qqqqoqRUCrqqqqqipFQKuqqqqqKkVAAAAAAACARkAAAAAAAIBFQAAAAAAAwERAAAAAAACAQ0BVVVVVVdVCQFVVVVVV1UNAVVVVVVWVRkAAAAAAAGBGQKuqqqqqikZAq6qqqqqqRkAAAAAAAGBGQAAAAAAA4EVAVVVVVVU1RkCrqqqqqkpGQAAAAAAAQEZAVVVVVVU1RkCrqqqqqipGQAAAAAAAQEZAAAAAAACARkAAAAAAAGBGQAAAAAAAIEZAVVVVVVXVRUAAAAAAAABGQAAAAAAA4EVAAAAAAADgRUBVVVVVVbVFQKuqqqqqSkVAq6qqqqqqRUAAAAAAAGBFQKuqqqqqKkVAAAAAAAAARUBVVVVVVbVFQAAAAAAAwEVAq6qqqqqqRUCrqqqqqipFQFVVVVVVNUVAq6qqqqoqRUBVVVVVVRVFQAAAAAAAAEVAAAAAAAAgRkAAAAAAAABGQFVVVVVV1UVAVVVVVVWVRUAAAAAAACBGQAAAAAAAwEVAAAAAAACgRUBVVVVVVVVFQAAAAAAAAEVAVVVVVVU1RUBVVVVVVdVEQKuqqqqqqkRAAAAAAACARECrqqqqqkpEQAAAAAAAQERAAAAAAAAgREAAAAAAAOBEQAAAAAAAwERAAAAAAACAREAAAAAAAIBEQAAAAAAAIERAq6qqqqoqREBVVVVVVRVEQAAAAAAA4ENAAAAAAAAAREBVVVVVVdVDQAAAAAAAgENAAAAAAABgQ0CrqqqqqupDQAAAAAAA4ENAAAAAAADAQ0AAAAAAAKBDQFVVVVVVlUNAVVVVVVVVQ0AAAAAAAKBDQAAAAAAAgENAAAAAAACAQ0AAAAAAAKBEQAAAAAAAgERAAAAAAABgREBVVVVVVVVEQAAAAAAAIERAVVVVVVUVREAAAAAAAOBDQFVVVVVV1UNAVVVVVVW1Q0BVVVVVVZVEQFVVVVVVVURAAAAAAABAREAAAAAAAABEQKuqqqqqqkVAAAAAAADgRUCrqqqqqmpFQFVVVVVV9UVAAAAAAADgRUAAAAAAAKBFQFVVVVVVdUVAAAAAAABgRUAAAAAAAEBFQFVVVVVVNUVAAAAAAAAgRUAAAAAAAIBFQAAAAAAAYEVAAAAAAABARUBVVVVVVfVEQFVVVVVV1URAAAAAAADAREBVVVVVVbVEQAAAAAAAYEVAAAAAAAAgRUAAAAAAAABFQAAAAAAA4ERAVVVVVVXVRECrqqqqqspEQFVVVVVVlURAq6qqqqqqREAAAAAAAIBEQKuqqqqqakRAAAAAAABgR0AAAAAAAMBGQKuqqqqqqkVAq6qqqqoqQ0CrqqqqqgpDQKuqqqqqCkNAq6qqqqoKQ0CrqqqqqgpDQAAAAAAAoENAAAAAAACgQ0AAAAAAAKBDQAAAAAAAoENAAAAAAACgQ0AAAAAAAKBDQAAAAAAAoENAAAAAAACgQ0AAAAAAAMBDQAAAAAAAwENAAAAAAADAQ0AAAAAAAMBDQAAAAAAAwENAAAAAAADAQ0AAAAAAAMBDQAAAAAAAwENA\",\"dtype\":\"float64\",\"shape\":[303]}},\"selected\":{\"id\":\"1550\",\"type\":\"Selection\"},\"selection_policy\":{\"id\":\"1551\",\"type\":\"UnionRenderers\"}},\"id\":\"1521\",\"type\":\"ColumnDataSource\"},{\"attributes\":{\"line_alpha\":0.8,\"line_color\":\"Crimson\",\"x\":{\"field\":\"x\"},\"y\":{\"field\":\"y\"}},\"id\":\"1586\",\"type\":\"Line\"},{\"attributes\":{\"callback\":null,\"data\":{\"x\":{\"__ndarray__\":\"VVVVVVVVFUAAAAAAAAAWQKuqqqqqqhRAq6qqqqqqFkAAAAAAAAAWQFVVVVVVVRVAAAAAAAAAFkCrqqqqqqoWQKuqqqqqqhZAVVVVVVVVFUAAAAAAAAAVQKuqqqqqqhZAAAAAAAAAGUAAAAAAAAAaQAAAAAAAAB1AAAAAAACAIEAAAAAAAAAiQKuqqqqqqiRAq6qqqqqqJkAAAAAAAIAnQAAAAAAAAChAAAAAAAAAKkBVVVVVVVUqQAAAAAAAACtAAAAAAACAK0CrqqqqqqosQFVVVVVVVS5AAAAAAAAALkAAAAAAAAAuQA==\",\"dtype\":\"float64\",\"shape\":[29]},\"y\":{\"__ndarray__\":\"q6qqqqrqREAAAAAAACBFQAAAAAAAQEVAAAAAAABgRUAAAAAAAKBFQFVVVVVV1UVAAAAAAAAARkCrqqqqqipGQFVVVVVVVUZAAAAAAACARkBVVVVVVZVGQAAAAAAAwEZAAAAAAADARkAAAAAAAMBGQAAAAAAAgEZAq6qqqqrqRkAAAAAAAOBGQFVVVVVV1UZAAAAAAADgRkBVVVVVVbVGQAAAAAAAwEZAVVVVVVXVRkBVVVVVVVVGQAAAAAAAIEZAVVVVVVU1RkAAAAAAAIBGQKuqqqqqikZAq6qqqqrqRkCrqqqqqupGQA==\",\"dtype\":\"float64\",\"shape\":[29]}},\"selected\":{\"id\":\"1738\",\"type\":\"Selection\"},\"selection_policy\":{\"id\":\"1739\",\"type\":\"UnionRenderers\"}},\"id\":\"1632\",\"type\":\"ColumnDataSource\"},{\"attributes\":{},\"id\":\"1738\",\"type\":\"Selection\"},{\"attributes\":{\"line_alpha\":0.1,\"line_color\":\"#1f77b4\",\"x\":{\"field\":\"x\"},\"y\":{\"field\":\"y\"}},\"id\":\"1587\",\"type\":\"Line\"},{\"attributes\":{\"line_color\":\"DodgerBlue\",\"x\":{\"field\":\"x\"},\"y\":{\"field\":\"y\"}},\"id\":\"1633\",\"type\":\"Line\"},{\"attributes\":{},\"id\":\"1739\",\"type\":\"UnionRenderers\"},{\"attributes\":{},\"id\":\"1509\",\"type\":\"SaveTool\"},{\"attributes\":{\"data_source\":{\"id\":\"1585\",\"type\":\"ColumnDataSource\"},\"glyph\":{\"id\":\"1586\",\"type\":\"Line\"},\"hover_glyph\":null,\"muted_glyph\":null,\"nonselection_glyph\":{\"id\":\"1587\",\"type\":\"Line\"},\"selection_glyph\":null,\"view\":{\"id\":\"1589\",\"type\":\"CDSView\"}},\"id\":\"1588\",\"type\":\"GlyphRenderer\"},{\"attributes\":{\"overlay\":{\"id\":\"1514\",\"type\":\"BoxAnnotation\"}},\"id\":\"1508\",\"type\":\"BoxZoomTool\"},{\"attributes\":{\"line_alpha\":0.1,\"line_color\":\"#1f77b4\",\"x\":{\"field\":\"x\"},\"y\":{\"field\":\"y\"}},\"id\":\"1634\",\"type\":\"Line\"},{\"attributes\":{},\"id\":\"1740\",\"type\":\"Selection\"},{\"attributes\":{\"data_source\":{\"id\":\"1632\",\"type\":\"ColumnDataSource\"},\"glyph\":{\"id\":\"1633\",\"type\":\"Line\"},\"hover_glyph\":null,\"muted_glyph\":null,\"nonselection_glyph\":{\"id\":\"1634\",\"type\":\"Line\"},\"selection_glyph\":null,\"view\":{\"id\":\"1636\",\"type\":\"CDSView\"}},\"id\":\"1635\",\"type\":\"GlyphRenderer\"},{\"attributes\":{\"fill_alpha\":{\"value\":0.1},\"fill_color\":{\"value\":\"#1f77b4\"},\"line_alpha\":{\"value\":0.1},\"line_color\":{\"value\":\"#1f77b4\"},\"size\":{\"units\":\"screen\",\"value\":5.5},\"x\":{\"field\":\"x\"},\"y\":{\"field\":\"y\"}},\"id\":\"1523\",\"type\":\"Circle\"},{\"attributes\":{\"source\":{\"id\":\"1585\",\"type\":\"ColumnDataSource\"}},\"id\":\"1589\",\"type\":\"CDSView\"},{\"attributes\":{},\"id\":\"1507\",\"type\":\"WheelZoomTool\"},{\"attributes\":{},\"id\":\"1741\",\"type\":\"UnionRenderers\"},{\"attributes\":{},\"id\":\"1506\",\"type\":\"PanTool\"},{\"attributes\":{\"callback\":null,\"data\":{\"x\":{\"__ndarray__\":\"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\",\"dtype\":\"float64\",\"shape\":[660]},\"y\":{\"__ndarray__\":\"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\",\"dtype\":\"float64\",\"shape\":[660]}},\"selected\":{\"id\":\"1732\",\"type\":\"Selection\"},\"selection_policy\":{\"id\":\"1733\",\"type\":\"UnionRenderers\"}},\"id\":\"1590\",\"type\":\"ColumnDataSource\"},{\"attributes\":{\"source\":{\"id\":\"1632\",\"type\":\"ColumnDataSource\"}},\"id\":\"1636\",\"type\":\"CDSView\"},{\"attributes\":{},\"id\":\"1742\",\"type\":\"Selection\"},{\"attributes\":{\"fill_alpha\":{\"value\":0.8},\"fill_color\":{\"value\":\"DodgerBlue\"},\"line_alpha\":{\"value\":0},\"line_color\":{\"value\":\"DodgerBlue\"},\"size\":{\"units\":\"screen\",\"value\":5},\"x\":{\"field\":\"x\"},\"y\":{\"field\":\"y\"}},\"id\":\"1591\",\"type\":\"Circle\"},{\"attributes\":{\"callback\":null,\"data\":{\"x\":{\"__ndarray__\":\"VVVVVVVVNEBVVVVVVVU0QAAAAAAAgDNAAAAAAAAAM0AAAAAAAMAyQAAAAAAAgDJAAAAAAABAMkAAAAAAAAAyQAAAAAAAgDJAVVVVVVXVMUAAAAAAAIAxQAAAAAAAQDFAVVVVVVXVMEBVVVVVVVUwQAAAAAAAADBAAAAAAAAAL0BVVVVVVdUvQFVVVVVVVS9AAAAAAAAALkBVVVVVVVUtQAAAAAAAACxAAAAAAAAAK0AAAAAAAAAqQFVVVVVVVSlAAAAAAAAAKUBVVVVVVdUpQAAAAAAAgChAVVVVVVVVKEAAAAAAAAAoQAAAAAAAAChAAAAAAACAJ0A=\",\"dtype\":\"float64\",\"shape\":[31]},\"y\":{\"__ndarray__\":\"q6qqqqoqRUCrqqqqqipFQAAAAAAAQEVAAAAAAABARUCrqqqqqipFQFVVVVVVFUVAAAAAAAAARUAAAAAAAOBEQAAAAAAAwERAq6qqqqqqREAAAAAAAIBEQAAAAAAAgERAAAAAAABgREBVVVVVVVVEQAAAAAAAQERAAAAAAAAAREBVVVVVVdVDQAAAAAAAwENAAAAAAACAQ0BVVVVVVXVDQKuqqqqqKkNAAAAAAABgQ0AAAAAAAGBDQKuqqqqqSkNAAAAAAABAQ0CrqqqqqgpDQFVVVVVV9UJAAAAAAADAQkCrqqqqqqpCQAAAAAAAoEJAVVVVVVWVQkA=\",\"dtype\":\"float64\",\"shape\":[31]}},\"selected\":{\"id\":\"1740\",\"type\":\"Selection\"},\"selection_policy\":{\"id\":\"1741\",\"type\":\"UnionRenderers\"}},\"id\":\"1637\",\"type\":\"ColumnDataSource\"},{\"attributes\":{},\"id\":\"1743\",\"type\":\"UnionRenderers\"},{\"attributes\":{\"callback\":null,\"data\":{\"x0\":{\"__ndarray__\":\"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\",\"dtype\":\"float64\",\"shape\":[303]},\"x1\":{\"__ndarray__\":\"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\",\"dtype\":\"float64\",\"shape\":[303]},\"y0\":{\"__ndarray__\":\"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\",\"dtype\":\"float64\",\"shape\":[303]},\"y1\":{\"__ndarray__\":\"VVVVVVXVQkBVVVVVVdVCQFVVVVVV1UJAVVVVVVXVQkAAAAAAAMBCQAAAAAAAwEJAAAAAAACAQ0AAAAAAAIBDQAAAAAAAgENAAAAAAACAQ0AAAAAAAIBDQAAAAAAAoEJAAAAAAAAARECrqqqqqqpCQFVVVVVVlUJAAAAAAACAQkAAAAAAAEBDQAAAAAAAYEJAq6qqqqoqQkBVVVVVVRVCQAAAAAAAIEJAVVVVVVVVQkAAAAAAAIBCQAAAAAAAoEJAVVVVVVWVQkCrqqqqqopCQFVVVVVVlUJAq6qqqqpqQ0BVVVVVVVVDQAAAAAAAQENAVVVVVVUVQ0AAAAAAACBDQAAAAAAAAENAAAAAAADgQkBVVVVVVZVCQAAAAAAAgEJAVVVVVVVVQkAAAAAAAMBCQAAAAAAA4EJAAAAAAADAQkAAAAAAAOBCQAAAAAAAoEJAq6qqqqoqQ0AAAAAAAABDQFVVVVVV1UJAAAAAAADAQkBVVVVVVVVDQFVVVVVVNUNAq6qqqqoqQ0CrqqqqqupCQKuqqqqqikJAq6qqqqoqQ0AAAAAAAABDQFVVVVVVVUNAVVVVVVU1Q0CrqqqqqupEQKuqqqqq6kRAq6qqqqrqRECrqqqqqupEQFVVVVVV1URAAAAAAADgQkAAAAAAACBDQAAAAAAAgENAVVVVVVW1Q0AAAAAAACBEQAAAAAAAYERAq6qqqqpqRECrqqqqqupEQAAAAAAAgENAAAAAAABgQ0AAAAAAACBEQAAAAAAAAERAAAAAAAAAREAAAAAAAOBDQFVVVVVV1UNAq6qqqqqqQ0CrqqqqqqpDQAAAAAAAwERAq6qqqqqqREAAAAAAAMBEQKuqqqqqikRAAAAAAABAREAAAAAAAGBEQAAAAAAAQERAAAAAAAAgREAAAAAAAABEQAAAAAAAIERAAAAAAAAARECrqqqqqqpDQKuqqqqqikNAVVVVVVX1Q0BVVVVVVdVDQAAAAAAAwENAAAAAAACgQ0CrqqqqqopDQAAAAAAAwENAVVVVVVXVREAAAAAAAMBEQKuqqqqq6kRAAAAAAACgREAAAAAAAGBEQFVVVVVVVURAVVVVVVU1RECrqqqqqgpEQAAAAAAAgERAAAAAAAAgRUAAAAAAAGBFQAAAAAAAoEVAVVVVVVXVRUAAAAAAACBGQAAAAAAAAEZAq6qqqqoqRkBVVVVVVVVGQFVVVVVVlUZAAAAAAADARkAAAAAAAMBGQKuqqqqq6kZAAAAAAADgRkBVVVVVVdVGQFVVVVVVtUZAVVVVVVVVRkAAAAAAACBGQAAAAAAAgEZAq6qqqqqKRkCrqqqqqipFQKuqqqqqKkVAq6qqqqoqRUCrqqqqqipFQAAAAAAAgEVAAAAAAACARUAAAAAAAIBFQAAAAAAAgEVAAAAAAACgQkAAAAAAAMBCQFVVVVVV9UJAAAAAAABAQ0AAAAAAAGBDQAAAAAAAYENAAAAAAACAQ0AAAAAAAABEQAAAAAAAQERAAAAAAAAARUAAAAAAAABGQFVVVVVVVURAAAAAAABgREAAAAAAAIBEQKuqqqqqqkRAAAAAAADgREAAAAAAAABFQFVVVVVVFUVAq6qqqqoqRUAAAAAAAEBFQAAAAAAAQEVAq6qqqqoqRUCrqqqqqipFQKuqqqqqKkVAq6qqqqoqRUCrqqqqqipFQKuqqqqqKkVAq6qqqqoqRUCrqqqqqipFQKuqqqqqKkVAAAAAAACARkAAAAAAAIBFQAAAAAAAwERAAAAAAACAQ0BVVVVVVdVCQFVVVVVV1UNAVVVVVVWVRkAAAAAAAGBGQKuqqqqqikZAq6qqqqqqRkAAAAAAAGBGQAAAAAAA4EVAVVVVVVU1RkCrqqqqqkpGQAAAAAAAQEZAVVVVVVU1RkCrqqqqqipGQAAAAAAAQEZAAAAAAACARkAAAAAAAGBGQAAAAAAAIEZAVVVVVVXVRUAAAAAAAABGQAAAAAAA4EVAAAAAAADgRUBVVVVVVbVFQKuqqqqqSkVAq6qqqqqqRUAAAAAAAGBFQKuqqqqqKkVAAAAAAAAARUBVVVVVVbVFQAAAAAAAwEVAq6qqqqqqRUCrqqqqqipFQFVVVVVVNUVAq6qqqqoqRUBVVVVVVRVFQAAAAAAAAEVAAAAAAAAgRkAAAAAAAABGQFVVVVVV1UVAVVVVVVWVRUAAAAAAACBGQAAAAAAAwEVAAAAAAACgRUBVVVVVVVVFQAAAAAAAAEVAVVVVVVU1RUBVVVVVVdVEQKuqqqqqqkRAAAAAAACARECrqqqqqkpEQAAAAAAAQERAAAAAAAAgREAAAAAAAOBEQAAAAAAAwERAAAAAAACAREAAAAAAAIBEQAAAAAAAIERAq6qqqqoqREBVVVVVVRVEQAAAAAAA4ENAAAAAAAAAREBVVVVVVdVDQAAAAAAAgENAAAAAAABgQ0CrqqqqqupDQAAAAAAA4ENAAAAAAADAQ0AAAAAAAKBDQFVVVVVVlUNAVVVVVVVVQ0AAAAAAAKBDQAAAAAAAgENAAAAAAACAQ0AAAAAAAKBEQAAAAAAAgERAAAAAAABgREBVVVVVVVVEQAAAAAAAIERAVVVVVVUVREAAAAAAAOBDQFVVVVVV1UNAVVVVVVW1Q0BVVVVVVZVEQFVVVVVVVURAAAAAAABAREAAAAAAAABEQKuqqqqqqkVAAAAAAADgRUCrqqqqqmpFQFVVVVVV9UVAAAAAAADgRUAAAAAAAKBFQFVVVVVVdUVAAAAAAABgRUAAAAAAAEBFQFVVVVVVNUVAAAAAAAAgRUAAAAAAAIBFQAAAAAAAYEVAAAAAAABARUBVVVVVVfVEQFVVVVVV1URAAAAAAADAREBVVVVVVbVEQAAAAAAAYEVAAAAAAAAgRUAAAAAAAABFQAAAAAAA4ERAVVVVVVXVRECrqqqqqspEQFVVVVVVlURAq6qqqqqqREAAAAAAAIBEQKuqqqqqakRAAAAAAABgR0AAAAAAAMBGQKuqqqqqqkVAq6qqqqoqQ0CrqqqqqgpDQKuqqqqqCkNAq6qqqqoKQ0CrqqqqqgpDQAAAAAAAoENAAAAAAACgQ0AAAAAAAKBDQAAAAAAAoENAAAAAAACgQ0AAAAAAAKBDQAAAAAAAoENAAAAAAACgQ0AAAAAAAMBDQAAAAAAAwENAAAAAAADAQ0AAAAAAAMBDQAAAAAAAwENAAAAAAADAQ0AAAAAAAMBDQAAAAAAAwENA\",\"dtype\":\"float64\",\"shape\":[303]}},\"selected\":{\"id\":\"1552\",\"type\":\"Selection\"},\"selection_policy\":{\"id\":\"1553\",\"type\":\"UnionRenderers\"}},\"id\":\"1534\",\"type\":\"ColumnDataSource\"},{\"attributes\":{\"fill_alpha\":{\"value\":0.1},\"fill_color\":{\"value\":\"#1f77b4\"},\"line_alpha\":{\"value\":0.1},\"line_color\":{\"value\":\"#1f77b4\"},\"size\":{\"units\":\"screen\",\"value\":5},\"x\":{\"field\":\"x\"},\"y\":{\"field\":\"y\"}},\"id\":\"1592\",\"type\":\"Circle\"},{\"attributes\":{\"line_color\":\"DodgerBlue\",\"x\":{\"field\":\"x\"},\"y\":{\"field\":\"y\"}},\"id\":\"1638\",\"type\":\"Line\"},{\"attributes\":{},\"id\":\"1744\",\"type\":\"Selection\"},{\"attributes\":{\"line_alpha\":{\"value\":0.1},\"line_color\":{\"value\":\"#1f77b4\"},\"x0\":{\"field\":\"x0\"},\"x1\":{\"field\":\"x1\"},\"y0\":{\"field\":\"y0\"},\"y1\":{\"field\":\"y1\"}},\"id\":\"1536\",\"type\":\"Segment\"},{\"attributes\":{\"data_source\":{\"id\":\"1590\",\"type\":\"ColumnDataSource\"},\"glyph\":{\"id\":\"1591\",\"type\":\"Circle\"},\"hover_glyph\":null,\"muted_glyph\":null,\"nonselection_glyph\":{\"id\":\"1592\",\"type\":\"Circle\"},\"selection_glyph\":null,\"view\":{\"id\":\"1594\",\"type\":\"CDSView\"}},\"id\":\"1593\",\"type\":\"GlyphRenderer\"},{\"attributes\":{\"line_alpha\":0.1,\"line_color\":\"#1f77b4\",\"x\":{\"field\":\"x\"},\"y\":{\"field\":\"y\"}},\"id\":\"1639\",\"type\":\"Line\"},{\"attributes\":{},\"id\":\"1745\",\"type\":\"UnionRenderers\"},{\"attributes\":{\"data_source\":{\"id\":\"1637\",\"type\":\"ColumnDataSource\"},\"glyph\":{\"id\":\"1638\",\"type\":\"Line\"},\"hover_glyph\":null,\"muted_glyph\":null,\"nonselection_glyph\":{\"id\":\"1639\",\"type\":\"Line\"},\"selection_glyph\":null,\"view\":{\"id\":\"1641\",\"type\":\"CDSView\"}},\"id\":\"1640\",\"type\":\"GlyphRenderer\"},{\"attributes\":{\"source\":{\"id\":\"1590\",\"type\":\"ColumnDataSource\"}},\"id\":\"1594\",\"type\":\"CDSView\"},{\"attributes\":{},\"id\":\"1746\",\"type\":\"Selection\"},{\"attributes\":{\"source\":{\"id\":\"1637\",\"type\":\"ColumnDataSource\"}},\"id\":\"1641\",\"type\":\"CDSView\"},{\"attributes\":{},\"id\":\"1605\",\"type\":\"Selection\"},{\"attributes\":{},\"id\":\"1747\",\"type\":\"UnionRenderers\"},{\"attributes\":{\"callback\":null,\"data\":{\"x\":[4.083,6.333,9,12],\"y\":[37.667,39,39,37.25]},\"selected\":{\"id\":\"1742\",\"type\":\"Selection\"},\"selection_policy\":{\"id\":\"1743\",\"type\":\"UnionRenderers\"}},\"id\":\"1642\",\"type\":\"ColumnDataSource\"},{\"attributes\":{},\"id\":\"1606\",\"type\":\"UnionRenderers\"},{\"attributes\":{},\"id\":\"1748\",\"type\":\"Selection\"},{\"attributes\":{\"line_alpha\":0.8,\"line_color\":\"DodgerBlue\",\"x\":{\"field\":\"x\"},\"y\":{\"field\":\"y\"}},\"id\":\"1643\",\"type\":\"Line\"},{\"attributes\":{},\"id\":\"1607\",\"type\":\"Selection\"},{\"attributes\":{},\"id\":\"1749\",\"type\":\"UnionRenderers\"},{\"attributes\":{\"active_drag\":\"auto\",\"active_inspect\":\"auto\",\"active_multi\":null,\"active_scroll\":\"auto\",\"active_tap\":\"auto\",\"tools\":[{\"id\":\"1506\",\"type\":\"PanTool\"},{\"id\":\"1507\",\"type\":\"WheelZoomTool\"},{\"id\":\"1508\",\"type\":\"BoxZoomTool\"},{\"id\":\"1509\",\"type\":\"SaveTool\"},{\"id\":\"1510\",\"type\":\"ResetTool\"},{\"id\":\"1511\",\"type\":\"HelpTool\"}]},\"id\":\"1512\",\"type\":\"Toolbar\"},{\"attributes\":{\"line_alpha\":0.1,\"line_color\":\"#1f77b4\",\"x\":{\"field\":\"x\"},\"y\":{\"field\":\"y\"}},\"id\":\"1644\",\"type\":\"Line\"},{\"attributes\":{},\"id\":\"1608\",\"type\":\"UnionRenderers\"},{\"attributes\":{\"callback\":null,\"end\":47,\"start\":35.5},\"id\":\"1490\",\"type\":\"Range1d\"},{\"attributes\":{\"data_source\":{\"id\":\"1642\",\"type\":\"ColumnDataSource\"},\"glyph\":{\"id\":\"1643\",\"type\":\"Line\"},\"hover_glyph\":null,\"muted_glyph\":null,\"nonselection_glyph\":{\"id\":\"1644\",\"type\":\"Line\"},\"selection_glyph\":null,\"view\":{\"id\":\"1646\",\"type\":\"CDSView\"}},\"id\":\"1645\",\"type\":\"GlyphRenderer\"},{\"attributes\":{},\"id\":\"1609\",\"type\":\"Selection\"},{\"attributes\":{\"source\":{\"id\":\"1642\",\"type\":\"ColumnDataSource\"}},\"id\":\"1646\",\"type\":\"CDSView\"},{\"attributes\":{},\"id\":\"1610\",\"type\":\"UnionRenderers\"},{\"attributes\":{\"line_color\":{\"value\":\"grey\"},\"x0\":{\"field\":\"x0\"},\"x1\":{\"field\":\"x1\"},\"y0\":{\"field\":\"y0\"},\"y1\":{\"field\":\"y1\"}},\"id\":\"1535\",\"type\":\"Segment\"},{\"attributes\":{\"callback\":null,\"data\":{\"x\":[5.333,9.167,9,9],\"y\":[41.833,41.333,40.167,39]},\"selected\":{\"id\":\"1744\",\"type\":\"Selection\"},\"selection_policy\":{\"id\":\"1745\",\"type\":\"UnionRenderers\"}},\"id\":\"1647\",\"type\":\"ColumnDataSource\"},{\"attributes\":{},\"id\":\"1611\",\"type\":\"Selection\"},{\"attributes\":{\"line_alpha\":0.8,\"line_color\":\"DodgerBlue\",\"x\":{\"field\":\"x\"},\"y\":{\"field\":\"y\"}},\"id\":\"1648\",\"type\":\"Line\"},{\"attributes\":{},\"id\":\"1612\",\"type\":\"UnionRenderers\"},{\"attributes\":{\"line_alpha\":0.1,\"line_color\":\"#1f77b4\",\"x\":{\"field\":\"x\"},\"y\":{\"field\":\"y\"}},\"id\":\"1649\",\"type\":\"Line\"},{\"attributes\":{},\"id\":\"1613\",\"type\":\"Selection\"},{\"attributes\":{\"data_source\":{\"id\":\"1647\",\"type\":\"ColumnDataSource\"},\"glyph\":{\"id\":\"1648\",\"type\":\"Line\"},\"hover_glyph\":null,\"muted_glyph\":null,\"nonselection_glyph\":{\"id\":\"1649\",\"type\":\"Line\"},\"selection_glyph\":null,\"view\":{\"id\":\"1651\",\"type\":\"CDSView\"}},\"id\":\"1650\",\"type\":\"GlyphRenderer\"},{\"attributes\":{},\"id\":\"1614\",\"type\":\"UnionRenderers\"},{\"attributes\":{\"source\":{\"id\":\"1647\",\"type\":\"ColumnDataSource\"}},\"id\":\"1651\",\"type\":\"CDSView\"},{\"attributes\":{},\"id\":\"1615\",\"type\":\"Selection\"},{\"attributes\":{},\"id\":\"1511\",\"type\":\"HelpTool\"},{\"attributes\":{\"data_source\":{\"id\":\"1521\",\"type\":\"ColumnDataSource\"},\"glyph\":{\"id\":\"1522\",\"type\":\"Circle\"},\"hover_glyph\":null,\"muted_glyph\":null,\"nonselection_glyph\":{\"id\":\"1523\",\"type\":\"Circle\"},\"selection_glyph\":null,\"view\":{\"id\":\"1525\",\"type\":\"CDSView\"}},\"id\":\"1524\",\"type\":\"GlyphRenderer\"},{\"attributes\":{\"callback\":null,\"data\":{\"x\":[15,17,19,20.333],\"y\":[45.833,43,43.167,42.333]},\"selected\":{\"id\":\"1746\",\"type\":\"Selection\"},\"selection_policy\":{\"id\":\"1747\",\"type\":\"UnionRenderers\"}},\"id\":\"1652\",\"type\":\"ColumnDataSource\"},{\"attributes\":{},\"id\":\"1616\",\"type\":\"UnionRenderers\"},{\"attributes\":{\"items\":[{\"id\":\"1533\",\"type\":\"LegendItem\"},{\"id\":\"1554\",\"type\":\"LegendItem\"},{\"id\":\"1621\",\"type\":\"LegendItem\"}],\"plot\":{\"id\":\"1486\",\"subtype\":\"Figure\",\"type\":\"Plot\"}},\"id\":\"1532\",\"type\":\"Legend\"},{\"attributes\":{\"line_alpha\":0.8,\"line_color\":\"DodgerBlue\",\"x\":{\"field\":\"x\"},\"y\":{\"field\":\"y\"}},\"id\":\"1653\",\"type\":\"Line\"},{\"attributes\":{},\"id\":\"1617\",\"type\":\"Selection\"},{\"attributes\":{\"line_alpha\":0.1,\"line_color\":\"#1f77b4\",\"x\":{\"field\":\"x\"},\"y\":{\"field\":\"y\"}},\"id\":\"1654\",\"type\":\"Line\"},{\"attributes\":{},\"id\":\"1618\",\"type\":\"UnionRenderers\"},{\"attributes\":{\"bottom_units\":\"screen\",\"fill_alpha\":{\"value\":0.5},\"fill_color\":{\"value\":\"lightgrey\"},\"left_units\":\"screen\",\"level\":\"overlay\",\"line_alpha\":{\"value\":1.0},\"line_color\":{\"value\":\"black\"},\"line_dash\":[4,4],\"line_width\":{\"value\":2},\"plot\":null,\"render_mode\":\"css\",\"right_units\":\"screen\",\"top_units\":\"screen\"},\"id\":\"1514\",\"type\":\"BoxAnnotation\"},{\"attributes\":{\"data_source\":{\"id\":\"1652\",\"type\":\"ColumnDataSource\"},\"glyph\":{\"id\":\"1653\",\"type\":\"Line\"},\"hover_glyph\":null,\"muted_glyph\":null,\"nonselection_glyph\":{\"id\":\"1654\",\"type\":\"Line\"},\"selection_glyph\":null,\"view\":{\"id\":\"1656\",\"type\":\"CDSView\"}},\"id\":\"1655\",\"type\":\"GlyphRenderer\"},{\"attributes\":{},\"id\":\"1619\",\"type\":\"Selection\"},{\"attributes\":{\"source\":{\"id\":\"1521\",\"type\":\"ColumnDataSource\"}},\"id\":\"1525\",\"type\":\"CDSView\"},{\"attributes\":{\"source\":{\"id\":\"1652\",\"type\":\"ColumnDataSource\"}},\"id\":\"1656\",\"type\":\"CDSView\"},{\"attributes\":{},\"id\":\"1620\",\"type\":\"UnionRenderers\"},{\"attributes\":{\"label\":{\"value\":\"Different coordinate  (Omega)\"},\"renderers\":[{\"id\":\"1593\",\"type\":\"GlyphRenderer\"}]},\"id\":\"1621\",\"type\":\"LegendItem\"},{\"attributes\":{\"callback\":null,\"data\":{\"x\":{\"__ndarray__\":\"VVVVVVVVEEBVVVVVVVUQQFVVVVVVVRBAVVVVVVVVEEBVVVVVVVURQFVVVVVVVRFAVVVVVVVVGUAAAAAAAAAiQAAAAAAAACJAAAAAAAAAIkAAAAAAAAAiQAAAAAAAAChAAAAAAAAALECrqqqqqqoSQFVVVVVVVRRAVVVVVVVVFUAAAAAAAAAoQAAAAAAAABhAAAAAAAAAGEAAAAAAAAAeQAAAAAAAAB5Aq6qqqqqqHkAAAAAAAAAhQAAAAAAAgCRAAAAAAACAJUCrqqqqqqomQAAAAAAAgCdAVVVVVVVVIkAAAAAAAAAjQAAAAAAAACJAAAAAAACAI0AAAAAAAAAkQFVVVVVVVSRAAAAAAACAIUAAAAAAAAAgQAAAAAAAAB5AAAAAAAAAHEAAAAAAAAAjQFVVVVVVVSRAAAAAAACAJECrqqqqqqoSQAAAAAAAABRAq6qqqqqqFkAAAAAAAAAcQAAAAAAAABxAAAAAAAAAGkAAAAAAAAAgQAAAAAAAABxAVVVVVVVVHUAAAAAAAAAdQAAAAAAAAB1AAAAAAACAIEBVVVVVVVUgQAAAAAAAABhAAAAAAAAAGUBVVVVVVVUVQFVVVVVVVRVAVVVVVVVVFUBVVVVVVVUVQFVVVVVVVSlAVVVVVVVVDUAAAAAAAAAEQAAAAAAAABRAVVVVVVVVFECrqqqqqqoUQFVVVVVVVSdAq6qqqqqqFEBVVVVVVVUVQFVVVVVVVRVAAAAAAAAAFUAAAAAAAAAXQFVVVVVVVRVAAAAAAAAAGEBVVVVVVVUVQKuqqqqqqhhAq6qqqqqqFkCrqqqqqqoYQKuqqqqqqhZAAAAAAAAAGECrqqqqqqoaQAAAAAAAAB1Aq6qqqqqqFkBVVVVVVVUZQKuqqqqqqhpAVVVVVVVVG0CrqqqqqqoaQAAAAAAAACBAVVVVVVVVHUAAAAAAAAAcQAAAAAAAABxAVVVVVVVVH0BVVVVVVVUdQAAAAAAAACBAVVVVVVVVHUCrqqqqqqoeQAAAAAAAACFAAAAAAAAAIUAAAAAAAAAgQKuqqqqqqiFAAAAAAAAAIECrqqqqqqogQFVVVVVVVSFAq6qqqqqqIUAAAAAAAAAhQAAAAAAAAAhAAAAAAAAAFkCrqqqqqqoWQAAAAAAAABZAVVVVVVVVFUAAAAAAAAAnQAAAAAAAABZAq6qqqqqqFkCrqqqqqqoWQAAAAAAAABVAAAAAAAAAGUAAAAAAAAAaQAAAAAAAgCBAAAAAAAAAIkCrqqqqqqokQAAAAAAAgCdAVVVVVVVVKkAAAAAAAAArQKuqqqqqqixAVVVVVVVVLkBVVVVVVVU0QFVVVVVVVTRAVVVVVVVVNEBVVVVVVVU0QAAAAAAAADFAAAAAAAAAMUAAAAAAAAAxQAAAAAAAADFAAAAAAAAAKEBVVVVVVVUoQAAAAAAAgChAAAAAAAAAKUAAAAAAAAAqQAAAAAAAACtAAAAAAAAALkAAAAAAAAAvQAAAAAAAADBAAAAAAAAALEAAAAAAAAApQFVVVVVVVTBAVVVVVVXVMEAAAAAAAEAxQFVVVVVV1TFAAAAAAAAAMkAAAAAAAEAyQAAAAAAAgDJAAAAAAADAMkAAAAAAAAAzQAAAAAAAgDNAVVVVVVVVNEBVVVVVVVU0QFVVVVVVVTRAVVVVVVVVNEBVVVVVVVU0QFVVVVVVVTRAVVVVVVVVNEBVVVVVVVU0QFVVVVVVVTRAAAAAAAAAIkAAAAAAAAAwQAAAAAAAACxAq6qqqqqqLEAAAAAAAAAoQAAAAAAAACxAAAAAAAAAF0CrqqqqqqoYQAAAAAAAgCBAq6qqqqqqIkAAAAAAAAAcQFVVVVVVVRlAq6qqqqqqIECrqqqqqqohQKuqqqqqqhlAq6qqqqqqHUBVVVVVVVUZQAAAAAAAACFAAAAAAAAAJkCrqqqqqqoiQFVVVVVVVSZAAAAAAAAAI0AAAAAAAAAjQAAAAAAAAB5AAAAAAAAAIECrqqqqqqogQAAAAAAAABhAVVVVVVVVHUCrqqqqqqogQFVVVVVVVR1AAAAAAAAAIEAAAAAAAIAkQAAAAAAAACZAVVVVVVVVI0AAAAAAAAAiQFVVVVVVVSNAAAAAAAAAJEBVVVVVVVUjQFVVVVVVVSRAAAAAAAAAKUBVVVVVVVUoQAAAAAAAAChAAAAAAAAAKEAAAAAAAAAqQAAAAAAAgCpAVVVVVVVVKUAAAAAAAAAnQAAAAAAAACZAAAAAAAAAJ0AAAAAAAAAlQAAAAAAAACpAAAAAAAAAJECrqqqqqqokQAAAAAAAACZAAAAAAAAAJUAAAAAAAAAsQAAAAAAAgC1AVVVVVVVVKEAAAAAAAAAqQAAAAAAAACdAAAAAAAAAKECrqqqqqqooQFVVVVVVVSdAq6qqqqqqIkBVVVVVVVUiQAAAAAAAACNAAAAAAAAAJECrqqqqqqoqQAAAAAAAACtAAAAAAAAAKEBVVVVVVVUnQAAAAAAAAChAAAAAAAAAJ0AAAAAAAIArQAAAAAAAACxAVVVVVVVVKkBVVVVVVVUsQFVVVVVVVS1AVVVVVVVVLEBVVVVVVVUtQFVVVVVVVS1AAAAAAACALECrqqqqqqosQKuqqqqqqi1AVVVVVVXVLEBVVVVVVdUtQAAAAAAAgC5AVVVVVVVVL0AAAAAAAIAuQFVVVVVV1StAAAAAAAAALUAAAAAAAAAsQFVVVVVV1S5AAAAAAAAALkCrqqqqqqotQFVVVVVVVS1AAAAAAAAALkAAAAAAAIAtQKuqqqqqqixAVVVVVVVVLUAAAAAAAIAwQAAAAAAAADBAAAAAAAAAL0BVVVVVVVUuQAAAAAAAAC9AAAAAAAAALkBVVVVVVdUuQFVVVVVVVTFAAAAAAAAAMUBVVVVVVVUwQAAAAAAAgDBAAAAAAAAAMECrqqqqqqowQAAAAAAAADBAVVVVVVVVL0AAAAAAAAAvQKuqqqqqqi9AAAAAAAAAIkAAAAAAAAAQQKuqqqqqqhJAq6qqqqqqLUAAAAAAAAAsQAAAAAAAACxAAAAAAAAALEAAAAAAAAAsQKuqqqqqKjBAq6qqqqoqMECrqqqqqiowQKuqqqqqKjBAAAAAAADAMEAAAAAAAMAwQAAAAAAAwDBAAAAAAADAMECrqqqqqioxQKuqqqqqKjFAq6qqqqoqMUCrqqqqqioxQAAAAAAAgDFAAAAAAACAMUAAAAAAAIAxQAAAAAAAgDFA\",\"dtype\":\"float64\",\"shape\":[303]},\"y\":{\"__ndarray__\":\"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\",\"dtype\":\"float64\",\"shape\":[303]}},\"selected\":{\"id\":\"1748\",\"type\":\"Selection\"},\"selection_policy\":{\"id\":\"1749\",\"type\":\"UnionRenderers\"}},\"id\":\"1657\",\"type\":\"ColumnDataSource\"},{\"attributes\":{},\"id\":\"1528\",\"type\":\"BasicTickFormatter\"},{\"attributes\":{\"callback\":null,\"data\":{\"x\":{\"__ndarray__\":\"VVVVVVVVEEBVVVVVVVURQKuqqqqqqhJAVVVVVVVVFEBVVVVVVVUVQAAAAAAAABhAAAAAAAAAGEAAAAAAAAAYQAAAAAAAABdAAAAAAAAAF0CrqqqqqqoYQAAAAAAAABlAAAAAAAAAGkCrqqqqqqoaQAAAAAAAAB1AAAAAAAAAHkAAAAAAAAAeQKuqqqqqqh5AAAAAAAAAIEAAAAAAAAAhQKuqqqqqqiFAAAAAAACAIkAAAAAAAIAjQAAAAAAAgCRAq6qqqqqqJUAAAAAAAIAlQKuqqqqqqiZAAAAAAAAAJ0AAAAAAAIAnQA==\",\"dtype\":\"float64\",\"shape\":[29]},\"y\":{\"__ndarray__\":\"VVVVVVXVQkAAAAAAAMBCQKuqqqqqqkJAVVVVVVWVQkAAAAAAAIBCQAAAAAAAYEJAq6qqqqpqQkCrqqqqqipCQAAAAAAAAEJAAAAAAAAAQkBVVVVVVRVCQFVVVVVVVUJAAAAAAABAQkCrqqqqqipCQFVVVVVVFUJAVVVVVVUVQkAAAAAAACBCQFVVVVVVVUJAq6qqqqoKQkAAAAAAAIBCQAAAAAAAwEJAAAAAAACgQkAAAAAAAKBCQAAAAAAAoEJAq6qqqqqKQkBVVVVVVZVCQKuqqqqqikJAq6qqqqoqQkBVVVVVVZVCQA==\",\"dtype\":\"float64\",\"shape\":[29]}},\"selected\":{\"id\":\"1734\",\"type\":\"Selection\"},\"selection_policy\":{\"id\":\"1735\",\"type\":\"UnionRenderers\"}},\"id\":\"1622\",\"type\":\"ColumnDataSource\"},{\"attributes\":{\"fill_color\":{\"value\":\"lightgrey\"},\"line_color\":{\"value\":\"lightgrey\"},\"size\":{\"units\":\"screen\",\"value\":5.5},\"x\":{\"field\":\"x\"},\"y\":{\"field\":\"y\"}},\"id\":\"1658\",\"type\":\"Circle\"},{\"attributes\":{},\"id\":\"1530\",\"type\":\"BasicTickFormatter\"},{\"attributes\":{\"source\":{\"id\":\"1534\",\"type\":\"ColumnDataSource\"}},\"id\":\"1538\",\"type\":\"CDSView\"},{\"attributes\":{\"callback\":null,\"data\":{\"x\":{\"__ndarray__\":\"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\",\"dtype\":\"float64\",\"shape\":[667]},\"y\":{\"__ndarray__\":\"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\",\"dtype\":\"float64\",\"shape\":[667]}},\"selected\":{\"id\":\"1605\",\"type\":\"Selection\"},\"selection_policy\":{\"id\":\"1606\",\"type\":\"UnionRenderers\"}},\"id\":\"1539\",\"type\":\"ColumnDataSource\"},{\"attributes\":{\"fill_alpha\":{\"value\":0.7},\"fill_color\":{\"value\":\"red\"},\"line_alpha\":{\"value\":0},\"line_color\":{\"value\":\"Crimson\"},\"size\":{\"units\":\"screen\",\"value\":5},\"x\":{\"field\":\"x\"},\"y\":{\"field\":\"y\"}},\"id\":\"1540\",\"type\":\"Circle\"},{\"attributes\":{\"fill_alpha\":{\"value\":0.1},\"fill_color\":{\"value\":\"#1f77b4\"},\"line_alpha\":{\"value\":0.1},\"line_color\":{\"value\":\"#1f77b4\"},\"size\":{\"units\":\"screen\",\"value\":5},\"x\":{\"field\":\"x\"},\"y\":{\"field\":\"y\"}},\"id\":\"1541\",\"type\":\"Circle\"},{\"attributes\":{\"data_source\":{\"id\":\"1539\",\"type\":\"ColumnDataSource\"},\"glyph\":{\"id\":\"1540\",\"type\":\"Circle\"},\"hover_glyph\":null,\"muted_glyph\":null,\"nonselection_glyph\":{\"id\":\"1541\",\"type\":\"Circle\"},\"selection_glyph\":null,\"view\":{\"id\":\"1543\",\"type\":\"CDSView\"}},\"id\":\"1542\",\"type\":\"GlyphRenderer\"},{\"attributes\":{\"source\":{\"id\":\"1539\",\"type\":\"ColumnDataSource\"}},\"id\":\"1543\",\"type\":\"CDSView\"},{\"attributes\":{},\"id\":\"1550\",\"type\":\"Selection\"},{\"attributes\":{},\"id\":\"1551\",\"type\":\"UnionRenderers\"},{\"attributes\":{},\"id\":\"1552\",\"type\":\"Selection\"},{\"attributes\":{},\"id\":\"1553\",\"type\":\"UnionRenderers\"},{\"attributes\":{\"label\":{\"value\":\"Different coordinate (Xi)\"},\"renderers\":[{\"id\":\"1542\",\"type\":\"GlyphRenderer\"}]},\"id\":\"1554\",\"type\":\"LegendItem\"},{\"attributes\":{\"callback\":null,\"data\":{\"x\":{\"__ndarray__\":\"VVVVVVVVEEBVVVVVVVURQKuqqqqqqhJAVVVVVVVVFEBVVVVVVVUVQAAAAAAAABhAAAAAAAAAGEAAAAAAAAAXQAAAAAAAABdAq6qqqqqqGEAAAAAAAAAZQAAAAAAAABpAVVVVVVVVG0AAAAAAAAAdQAAAAAAAAB5AAAAAAAAAHkCrqqqqqqoeQAAAAAAAACBAAAAAAAAAIUCrqqqqqqohQAAAAAAAgCJAAAAAAACAI0AAAAAAAIAkQAAAAAAAgCVAq6qqqqqqJkAAAAAAAAAnQAAAAAAAgCdA\",\"dtype\":\"float64\",\"shape\":[27]},\"y\":{\"__ndarray__\":\"VVVVVVXVQkAAAAAAAMBCQKuqqqqqqkJAVVVVVVWVQkAAAAAAAIBCQAAAAAAAYEJAq6qqqqoqQkCrqqqqqgpCQKuqqqqqCkJAq6qqqqoKQkCrqqqqqgpCQFVVVVVVFUJAq6qqqqoKQkAAAAAAAEBCQFVVVVVVFUJAAAAAAAAgQkBVVVVVVVVCQFVVVVVVdUJAAAAAAACAQkBVVVVVVZVCQFVVVVVVlUJAAAAAAADgQkAAAAAAAKBCQFVVVVVVlUJAq6qqqqqKQkCrqqqqqmpCQFVVVVVVlUJA\",\"dtype\":\"float64\",\"shape\":[27]}},\"selected\":{\"id\":\"1607\",\"type\":\"Selection\"},\"selection_policy\":{\"id\":\"1608\",\"type\":\"UnionRenderers\"}},\"id\":\"1555\",\"type\":\"ColumnDataSource\"},{\"attributes\":{\"line_color\":\"Crimson\",\"x\":{\"field\":\"x\"},\"y\":{\"field\":\"y\"}},\"id\":\"1556\",\"type\":\"Line\"},{\"attributes\":{\"line_alpha\":0.1,\"line_color\":\"#1f77b4\",\"x\":{\"field\":\"x\"},\"y\":{\"field\":\"y\"}},\"id\":\"1557\",\"type\":\"Line\"},{\"attributes\":{\"data_source\":{\"id\":\"1555\",\"type\":\"ColumnDataSource\"},\"glyph\":{\"id\":\"1556\",\"type\":\"Line\"},\"hover_glyph\":null,\"muted_glyph\":null,\"nonselection_glyph\":{\"id\":\"1557\",\"type\":\"Line\"},\"selection_glyph\":null,\"view\":{\"id\":\"1559\",\"type\":\"CDSView\"}},\"id\":\"1558\",\"type\":\"GlyphRenderer\"},{\"attributes\":{\"source\":{\"id\":\"1555\",\"type\":\"ColumnDataSource\"}},\"id\":\"1559\",\"type\":\"CDSView\"},{\"attributes\":{\"callback\":null,\"data\":{\"x\":{\"__ndarray__\":\"VVVVVVVVEEAAAAAAAAAIQAAAAAAAAARAAAAAAAAAFEBVVVVVVVUUQKuqqqqqqhNAVVVVVVVVE0CrqqqqqqoUQKuqqqqqqhZAAAAAAAAAFEAAAAAAAAAUQKuqqqqqqhRAAAAAAAAAFkBVVVVVVVUVQAAAAAAAABZA\",\"dtype\":\"float64\",\"shape\":[15]},\"y\":{\"__ndarray__\":\"VVVVVVXVQkBVVVVVVfVCQAAAAAAAIENAAAAAAACAQ0BVVVVVVbVDQKuqqqqq6kNAq6qqqqrqQ0AAAAAAACBEQAAAAAAAQERAVVVVVVVVRUBVVVVVVVVFQKuqqqqqakRAq6qqqqqqRECrqqqqqupEQAAAAAAAIEVA\",\"dtype\":\"float64\",\"shape\":[15]}},\"selected\":{\"id\":\"1609\",\"type\":\"Selection\"},\"selection_policy\":{\"id\":\"1610\",\"type\":\"UnionRenderers\"}},\"id\":\"1560\",\"type\":\"ColumnDataSource\"},{\"attributes\":{\"line_color\":\"Crimson\",\"x\":{\"field\":\"x\"},\"y\":{\"field\":\"y\"}},\"id\":\"1561\",\"type\":\"Line\"},{\"attributes\":{\"line_alpha\":0.1,\"line_color\":\"#1f77b4\",\"x\":{\"field\":\"x\"},\"y\":{\"field\":\"y\"}},\"id\":\"1562\",\"type\":\"Line\"},{\"attributes\":{\"data_source\":{\"id\":\"1560\",\"type\":\"ColumnDataSource\"},\"glyph\":{\"id\":\"1561\",\"type\":\"Line\"},\"hover_glyph\":null,\"muted_glyph\":null,\"nonselection_glyph\":{\"id\":\"1562\",\"type\":\"Line\"},\"selection_glyph\":null,\"view\":{\"id\":\"1564\",\"type\":\"CDSView\"}},\"id\":\"1563\",\"type\":\"GlyphRenderer\"},{\"attributes\":{\"source\":{\"id\":\"1560\",\"type\":\"ColumnDataSource\"}},\"id\":\"1564\",\"type\":\"CDSView\"},{\"attributes\":{\"callback\":null,\"data\":{\"x\":{\"__ndarray__\":\"AAAAAAAAFkAAAAAAAAAWQKuqqqqqqhZAAAAAAAAAFkBVVVVVVVUVQAAAAAAAABZAq6qqqqqqFkCrqqqqqqoWQKuqqqqqqhZAAAAAAAAAFUCrqqqqqqoWQAAAAAAAABlAAAAAAAAAGkAAAAAAAAAbQAAAAAAAgCBAAAAAAAAAIkCrqqqqqqokQFVVVVVVVSdAAAAAAACAJ0AAAAAAAAAoQAAAAAAAACpAVVVVVVVVKkAAAAAAAAArQKuqqqqqqitAq6qqqqqqLEBVVVVVVVUuQFVVVVVVVS5AVVVVVVVVLkA=\",\"dtype\":\"float64\",\"shape\":[28]},\"y\":{\"__ndarray__\":\"AAAAAAAgRUAAAAAAAEBFQAAAAAAAYEVAAAAAAACgRUBVVVVVVdVFQAAAAAAAAEZAq6qqqqoqRkBVVVVVVVVGQAAAAAAAgEZAVVVVVVWVRkBVVVVVVZVGQAAAAAAAwEZAAAAAAADARkAAAAAAAIBGQKuqqqqq6kZAAAAAAADgRkBVVVVVVdVGQAAAAAAA4EZAVVVVVVW1RkBVVVVVVZVGQAAAAAAAwEZAVVVVVVVVRkAAAAAAACBGQKuqqqqqCkZAAAAAAACARkCrqqqqqopGQKuqqqqq6kZAq6qqqqrqRkA=\",\"dtype\":\"float64\",\"shape\":[28]}},\"selected\":{\"id\":\"1611\",\"type\":\"Selection\"},\"selection_policy\":{\"id\":\"1612\",\"type\":\"UnionRenderers\"}},\"id\":\"1565\",\"type\":\"ColumnDataSource\"},{\"attributes\":{\"line_color\":\"Crimson\",\"x\":{\"field\":\"x\"},\"y\":{\"field\":\"y\"}},\"id\":\"1566\",\"type\":\"Line\"},{\"attributes\":{\"line_alpha\":0.1,\"line_color\":\"#1f77b4\",\"x\":{\"field\":\"x\"},\"y\":{\"field\":\"y\"}},\"id\":\"1567\",\"type\":\"Line\"},{\"attributes\":{\"callback\":null,\"end\":22,\"start\":1.5},\"id\":\"1488\",\"type\":\"Range1d\"},{\"attributes\":{\"label\":{\"value\":\"Same coordinate (Xi and Omega)\"},\"renderers\":[{\"id\":\"1524\",\"type\":\"GlyphRenderer\"}]},\"id\":\"1533\",\"type\":\"LegendItem\"},{\"attributes\":{\"data_source\":{\"id\":\"1565\",\"type\":\"ColumnDataSource\"},\"glyph\":{\"id\":\"1566\",\"type\":\"Line\"},\"hover_glyph\":null,\"muted_glyph\":null,\"nonselection_glyph\":{\"id\":\"1567\",\"type\":\"Line\"},\"selection_glyph\":null,\"view\":{\"id\":\"1569\",\"type\":\"CDSView\"}},\"id\":\"1568\",\"type\":\"GlyphRenderer\"},{\"attributes\":{},\"id\":\"1732\",\"type\":\"Selection\"},{\"attributes\":{\"plot\":null,\"text\":\"Comparison between Xi (red) and Omega (blue)\"},\"id\":\"1485\",\"type\":\"Title\"},{\"attributes\":{\"source\":{\"id\":\"1565\",\"type\":\"ColumnDataSource\"}},\"id\":\"1569\",\"type\":\"CDSView\"},{\"attributes\":{\"callback\":null,\"data\":{\"x\":{\"__ndarray__\":\"VVVVVVVVNEBVVVVVVVU0QAAAAAAAgDNAAAAAAAAAM0AAAAAAAMAyQAAAAAAAgDJAAAAAAABAMkAAAAAAAAAyQAAAAAAAgDJAVVVVVVXVMUAAAAAAAIAxQAAAAAAAQDFAVVVVVVXVMEBVVVVVVVUwQAAAAAAAADBAAAAAAAAAL0CrqqqqqqovQKuqqqqqKi5AAAAAAAAALkAAAAAAAAAtQAAAAAAAACxAAAAAAAAAK0AAAAAAAAAqQAAAAAAAAClAAAAAAAAAKUAAAAAAAAApQAAAAAAAgChAVVVVVVVVKEAAAAAAAAAoQAAAAAAAgCdA\",\"dtype\":\"float64\",\"shape\":[30]},\"y\":{\"__ndarray__\":\"q6qqqqoqRUCrqqqqqipFQAAAAAAAQEVAAAAAAABARUCrqqqqqipFQFVVVVVVFUVAAAAAAAAARUAAAAAAAOBEQKuqqqqqqkRAq6qqqqqqREAAAAAAAKBEQAAAAAAAgERAAAAAAABgREBVVVVVVVVEQAAAAAAAQERAAAAAAAAARECrqqqqqqpDQAAAAAAAwENAAAAAAACAQ0BVVVVVVXVDQKuqqqqqakNAAAAAAABgQ0AAAAAAAGBDQKuqqqqqSkNAAAAAAABAQ0BVVVVVVRVDQFVVVVVV9UJAAAAAAADAQkAAAAAAAKBCQFVVVVVVlUJA\",\"dtype\":\"float64\",\"shape\":[30]}},\"selected\":{\"id\":\"1613\",\"type\":\"Selection\"},\"selection_policy\":{\"id\":\"1614\",\"type\":\"UnionRenderers\"}},\"id\":\"1570\",\"type\":\"ColumnDataSource\"},{\"attributes\":{\"line_color\":\"Crimson\",\"x\":{\"field\":\"x\"},\"y\":{\"field\":\"y\"}},\"id\":\"1571\",\"type\":\"Line\"},{\"attributes\":{\"line_alpha\":0.1,\"line_color\":\"#1f77b4\",\"x\":{\"field\":\"x\"},\"y\":{\"field\":\"y\"}},\"id\":\"1572\",\"type\":\"Line\"},{\"attributes\":{\"data_source\":{\"id\":\"1570\",\"type\":\"ColumnDataSource\"},\"glyph\":{\"id\":\"1571\",\"type\":\"Line\"},\"hover_glyph\":null,\"muted_glyph\":null,\"nonselection_glyph\":{\"id\":\"1572\",\"type\":\"Line\"},\"selection_glyph\":null,\"view\":{\"id\":\"1574\",\"type\":\"CDSView\"}},\"id\":\"1573\",\"type\":\"GlyphRenderer\"},{\"attributes\":{\"data_source\":{\"id\":\"1534\",\"type\":\"ColumnDataSource\"},\"glyph\":{\"id\":\"1535\",\"type\":\"Segment\"},\"hover_glyph\":null,\"muted_glyph\":null,\"nonselection_glyph\":{\"id\":\"1536\",\"type\":\"Segment\"},\"selection_glyph\":null,\"view\":{\"id\":\"1538\",\"type\":\"CDSView\"}},\"id\":\"1537\",\"type\":\"GlyphRenderer\"},{\"attributes\":{\"source\":{\"id\":\"1570\",\"type\":\"ColumnDataSource\"}},\"id\":\"1574\",\"type\":\"CDSView\"},{\"attributes\":{\"callback\":null,\"data\":{\"x\":[4.083,6.333,9,12],\"y\":[37.667,39,39,37.25]},\"selected\":{\"id\":\"1615\",\"type\":\"Selection\"},\"selection_policy\":{\"id\":\"1616\",\"type\":\"UnionRenderers\"}},\"id\":\"1575\",\"type\":\"ColumnDataSource\"},{\"attributes\":{\"line_alpha\":0.8,\"line_color\":\"Crimson\",\"x\":{\"field\":\"x\"},\"y\":{\"field\":\"y\"}},\"id\":\"1576\",\"type\":\"Line\"}],\"root_ids\":[\"1486\"]},\"title\":\"Bokeh Application\",\"version\":\"1.0.2\"}};\n",
       "  var render_items = [{\"docid\":\"3f7f8656-0e3f-4c11-b3ad-95230fc0f67e\",\"roots\":{\"1486\":\"dabe2872-5e9a-4e10-862e-8c5e0909d488\"}}];\n",
       "  root.Bokeh.embed.embed_items_notebook(docs_json, render_items);\n",
       "\n",
       "  }\n",
       "  if (root.Bokeh !== undefined) {\n",
       "    embed_document(root);\n",
       "  } else {\n",
       "    var attempts = 0;\n",
       "    var timer = setInterval(function(root) {\n",
       "      if (root.Bokeh !== undefined) {\n",
       "        embed_document(root);\n",
       "        clearInterval(timer);\n",
       "      }\n",
       "      attempts++;\n",
       "      if (attempts > 100) {\n",
       "        console.log(\"Bokeh: ERROR: Unable to run BokehJS code because BokehJS library is missing\");\n",
       "        clearInterval(timer);\n",
       "      }\n",
       "    }, 10, root)\n",
       "  }\n",
       "})(window);"
      ],
      "application/vnd.bokehjs_exec.v0+json": ""
     },
     "metadata": {
      "application/vnd.bokehjs_exec.v0+json": {
       "id": "1486"
      }
     },
     "output_type": "display_data"
    }
   ],
   "source": [
    "comp_plot_map_01(fs_dict,gs_dict,dfTempt_dic,IbEq,c)\n",
    "   "
   ]
  },
  {
   "cell_type": "code",
   "execution_count": 32,
   "metadata": {},
   "outputs": [],
   "source": [
    "df_dic=dfTempt_dic"
   ]
  },
  {
   "cell_type": "code",
   "execution_count": 124,
   "metadata": {},
   "outputs": [],
   "source": [
    "g2=g.reset_index(level=['chap_ID','sec_ID','ID'])\n",
    "g2=g2[g2.longitude.apply(lambda row: row not in [0])]\n",
    "g2=g2[['ID','longitude','latitude']].dropna()\n",
    "\n",
    "f2=f.reset_index(level=['chap_ID','sec_ID','ID'])\n",
    "f2=f2[f2.longitude.apply(lambda row: row not in [0])]\n",
    "f2=f2[['ID','longitude','latitude']].dropna()\n",
    "\n",
    "\n",
    "\n",
    "\n",
    "k = pd.merge(left=f2, right=g2,how='inner')\n",
    "\n",
    "IbEq2 = k[k[\"longitude\"]==k[\"longitude\"]]\n",
    "IbEq2 = IbEq2[IbEq2[\"latitude\"]==IbEq2[\"latitude\"]]\n"
   ]
  },
  {
   "cell_type": "code",
   "execution_count": 195,
   "metadata": {},
   "outputs": [
    {
     "data": {
      "text/html": [
       "\n",
       "\n",
       "\n",
       "\n",
       "\n",
       "\n",
       "  <div class=\"bk-root\" id=\"2fe99108-c438-4d7f-9ff7-782c6b34505d\"></div>\n"
      ]
     },
     "metadata": {},
     "output_type": "display_data"
    },
    {
     "data": {
      "application/javascript": [
       "(function(root) {\n",
       "  function embed_document(root) {\n",
       "    \n",
       "  var docs_json = {\"61869166-d152-469f-a899-e19d9358ec2c\":{\"roots\":{\"references\":[{\"attributes\":{\"callback\":null,\"data\":{\"x\":{\"__ndarray__\":\"VVVVVVVVEEBVVVVVVVURQKuqqqqqqhJAVVVVVVVVFEBVVVVVVVUVQAAAAAAAABhAAAAAAAAAGEAAAAAAAAAXQAAAAAAAABdAq6qqqqqqGEAAAAAAAAAZQAAAAAAAABpAVVVVVVVVG0AAAAAAAAAdQAAAAAAAAB5AAAAAAAAAHkCrqqqqqqoeQAAAAAAAACBAAAAAAAAAIUCrqqqqqqohQAAAAAAAgCJAAAAAAACAI0AAAAAAAIAkQAAAAAAAgCVAq6qqqqqqJkAAAAAAAAAnQFVVVVVVVQ1AAAAAAAAACEAAAAAAAAAEQAAAAAAAABRAVVVVVVVVFECrqqqqqqoTQFVVVVVVVRNAq6qqqqqqFECrqqqqqqoWQAAAAAAAABRAAAAAAAAAFECrqqqqqqoUQAAAAAAAABZAVVVVVVVVFUAAAAAAAAAWQAAAAAAAABZAq6qqqqqqFkAAAAAAAAAWQFVVVVVVVRVAAAAAAAAAFkCrqqqqqqoWQKuqqqqqqhZAq6qqqqqqFkAAAAAAAAAVQKuqqqqqqhZAAAAAAAAAGUAAAAAAAAAaQAAAAAAAABtAAAAAAACAIEAAAAAAAAAiQKuqqqqqqiRAVVVVVVVVJ0AAAAAAAIAnQAAAAAAAAChAAAAAAAAAKkBVVVVVVVUqQAAAAAAAACtAq6qqqqqqK0CrqqqqqqosQFVVVVVVVS5AVVVVVVVVLkBVVVVVVVUuQAAAAAAAAChAVVVVVVVVKEAAAAAAAIAoQAAAAAAAAClAAAAAAAAAKUAAAAAAAAApQAAAAAAAACpAAAAAAAAAK0AAAAAAAAAsQAAAAAAAAC1AAAAAAAAALkCrqqqqqiouQKuqqqqqqi9AAAAAAAAAL0AAAAAAAAAwQFVVVVVVVTBAVVVVVVXVMEAAAAAAAEAxQAAAAAAAgDFAVVVVVVXVMUAAAAAAAIAyQAAAAAAAADJAAAAAAABAMkAAAAAAAIAyQAAAAAAAwDJAAAAAAAAAM0AAAAAAAIAzQFVVVVVVVTRAVVVVVVVVNEA=\",\"dtype\":\"float64\",\"shape\":[97]},\"y\":{\"__ndarray__\":\"VVVVVVXVQkAAAAAAAMBCQKuqqqqqqkJAVVVVVVWVQkAAAAAAAIBCQAAAAAAAYEJAq6qqqqoqQkCrqqqqqgpCQKuqqqqqCkJAq6qqqqoKQkCrqqqqqgpCQFVVVVVVFUJAq6qqqqoKQkAAAAAAAEBCQFVVVVVVFUJAAAAAAAAgQkBVVVVVVVVCQFVVVVVVdUJAAAAAAACAQkBVVVVVVZVCQFVVVVVVlUJAAAAAAADgQkAAAAAAAKBCQFVVVVVVlUJAq6qqqqqKQkCrqqqqqmpCQAAAAAAA4EJAVVVVVVX1QkAAAAAAACBDQAAAAAAAgENAVVVVVVW1Q0CrqqqqqupDQKuqqqqq6kNAAAAAAAAgREAAAAAAAEBEQFVVVVVVVUVAVVVVVVVVRUCrqqqqqmpEQKuqqqqqqkRAq6qqqqrqREAAAAAAACBFQAAAAAAAQEVAAAAAAABgRUAAAAAAAKBFQFVVVVVV1UVAAAAAAAAARkCrqqqqqipGQFVVVVVVVUZAAAAAAACARkBVVVVVVZVGQFVVVVVVlUZAAAAAAADARkAAAAAAAMBGQAAAAAAAgEZAq6qqqqrqRkAAAAAAAOBGQFVVVVVV1UZAAAAAAADgRkBVVVVVVbVGQFVVVVVVlUZAAAAAAADARkBVVVVVVVVGQAAAAAAAIEZAq6qqqqoKRkAAAAAAAIBGQKuqqqqqikZAq6qqqqrqRkCrqqqqqupGQFVVVVVVtUJAAAAAAADAQkBVVVVVVfVCQFVVVVVVFUNAAAAAAABAQ0CrqqqqqkpDQAAAAAAAYENAAAAAAABgQ0CrqqqqqmpDQFVVVVVVdUNAAAAAAACAQ0AAAAAAAMBDQKuqqqqqqkNAAAAAAAAAREAAAAAAAEBEQFVVVVVVVURAAAAAAABgREAAAAAAAIBEQAAAAAAAoERAq6qqqqqqRECrqqqqqqpEQAAAAAAA4ERAAAAAAAAARUBVVVVVVRVFQKuqqqqqKkVAAAAAAABARUAAAAAAAEBFQKuqqqqqKkVAq6qqqqoqRUA=\",\"dtype\":\"float64\",\"shape\":[97]}},\"selected\":{\"id\":\"932e069d-0857-435f-b67d-5b56f5c79ef4\",\"type\":\"Selection\"},\"selection_policy\":{\"id\":\"94ee6fd9-8477-4d61-a2e2-ff65f790a77e\",\"type\":\"UnionRenderers\"}},\"id\":\"384e4378-4d74-4c8f-ab8b-b3ce973f23ba\",\"type\":\"ColumnDataSource\"},{\"attributes\":{},\"id\":\"3b813fce-cea0-4d1a-8344-b33b08e60919\",\"type\":\"Selection\"},{\"attributes\":{\"source\":{\"id\":\"663042fb-f7b6-41a1-bf8c-0123989f6f96\",\"type\":\"ColumnDataSource\"}},\"id\":\"feb196e9-6cb5-4273-91ae-43b1cdc4d8f4\",\"type\":\"CDSView\"},{\"attributes\":{\"callback\":null,\"data\":{\"x\":{\"__ndarray__\":\"VVVVVVVVEEBVVVVVVVURQKuqqqqqqhJAVVVVVVVVFEBVVVVVVVUVQAAAAAAAABhAAAAAAAAAGEAAAAAAAAAeQAAAAAAAAB5Aq6qqqqqqHkAAAAAAAAAhQAAAAAAAgCRAAAAAAACAJUCrqqqqqqomQFVVVVVVVQ1AAAAAAAAABEAAAAAAAAAUQFVVVVVVVRRAq6qqqqqqFECrqqqqqqoUQFVVVVVVVRVAAAAAAAAAFkCrqqqqqqoWQAAAAAAAABZAVVVVVVVVFUAAAAAAAAAWQKuqqqqqqhZAq6qqqqqqFkAAAAAAAAAVQAAAAAAAABlAAAAAAAAAGkAAAAAAAIAgQAAAAAAAACJAq6qqqqqqJEAAAAAAAIAnQFVVVVVVVSpAAAAAAAAAK0CrqqqqqqosQFVVVVVVVS5AVVVVVVVVKEAAAAAAAIAoQAAAAAAAAClAAAAAAAAAKkAAAAAAAAArQAAAAAAAAC5AAAAAAAAAL0AAAAAAAAAwQFVVVVVVVTBAVVVVVVXVMEAAAAAAAEAxQFVVVVVV1TFAAAAAAAAAMkAAAAAAAEAyQAAAAAAAgDJAAAAAAADAMkAAAAAAAAAzQAAAAAAAgDNAVVVVVVVVNEBVVVVVVVU0QFVVVVVVVTRAVVVVVVVVNEA=\",\"dtype\":\"float64\",\"shape\":[61]},\"y\":{\"__ndarray__\":\"VVVVVVXVQkAAAAAAAMBCQKuqqqqqqkJAVVVVVVWVQkAAAAAAAIBCQAAAAAAAYEJAq6qqqqoqQkBVVVVVVRVCQAAAAAAAIEJAVVVVVVVVQkAAAAAAAIBCQAAAAAAAoEJAVVVVVVWVQkCrqqqqqopCQAAAAAAA4EJAAAAAAAAgQ0AAAAAAAIBDQFVVVVVVtUNAAAAAAAAgRECrqqqqqmpEQKuqqqqq6kRAAAAAAAAgRUAAAAAAAGBFQAAAAAAAoEVAVVVVVVXVRUAAAAAAAABGQKuqqqqqKkZAVVVVVVVVRkBVVVVVVZVGQAAAAAAAwEZAAAAAAADARkCrqqqqqupGQAAAAAAA4EZAVVVVVVXVRkBVVVVVVbVGQFVVVVVVVUZAAAAAAAAgRkAAAAAAAIBGQKuqqqqqikZAAAAAAADAQkBVVVVVVfVCQAAAAAAAQENAAAAAAABgQ0AAAAAAAGBDQAAAAAAAgENAAAAAAAAAREAAAAAAAEBEQFVVVVVVVURAAAAAAABgREAAAAAAAIBEQKuqqqqqqkRAAAAAAADgREAAAAAAAABFQFVVVVVVFUVAq6qqqqoqRUAAAAAAAEBFQAAAAAAAQEVAq6qqqqoqRUCrqqqqqipFQKuqqqqqKkVAq6qqqqoqRUA=\",\"dtype\":\"float64\",\"shape\":[61]}},\"selected\":{\"id\":\"61c5d97c-623d-4615-b0a6-5d1ce5f325d9\",\"type\":\"Selection\"},\"selection_policy\":{\"id\":\"aab5af0f-9b9d-4b5e-8b2a-21b4210810d3\",\"type\":\"UnionRenderers\"}},\"id\":\"d4896cb7-b26f-4c1e-81ee-7b7af6043244\",\"type\":\"ColumnDataSource\"},{\"attributes\":{},\"id\":\"3acbe6d6-6d99-418a-b69b-21a2153aff0d\",\"type\":\"UnionRenderers\"},{\"attributes\":{\"data_source\":{\"id\":\"549aa646-c946-41c1-a9f0-480a587f4abe\",\"type\":\"ColumnDataSource\"},\"glyph\":{\"id\":\"22932923-1790-4b26-9146-c59b7884250d\",\"type\":\"Line\"},\"hover_glyph\":null,\"muted_glyph\":null,\"nonselection_glyph\":{\"id\":\"902e1dd0-5a68-46e8-9272-a9397b108104\",\"type\":\"Line\"},\"selection_glyph\":null,\"view\":{\"id\":\"86babd0a-2fe0-401a-957c-1ee6d5350a43\",\"type\":\"CDSView\"}},\"id\":\"6ffa2af7-1691-4ffc-b685-1e7e26e18fe8\",\"type\":\"GlyphRenderer\"},{\"attributes\":{\"source\":{\"id\":\"b1f1296e-c7bc-4994-b50f-552702d08b25\",\"type\":\"ColumnDataSource\"}},\"id\":\"d04a5e61-a144-4624-a75d-007de6f12e35\",\"type\":\"CDSView\"},{\"attributes\":{\"data_source\":{\"id\":\"663042fb-f7b6-41a1-bf8c-0123989f6f96\",\"type\":\"ColumnDataSource\"},\"glyph\":{\"id\":\"eb619e0c-a324-4b07-85b7-982d9689dcf3\",\"type\":\"Line\"},\"hover_glyph\":null,\"muted_glyph\":null,\"nonselection_glyph\":{\"id\":\"5d5806c9-8233-4e37-82a8-47c9dd48ff16\",\"type\":\"Line\"},\"selection_glyph\":null,\"view\":{\"id\":\"feb196e9-6cb5-4273-91ae-43b1cdc4d8f4\",\"type\":\"CDSView\"}},\"id\":\"e417ade1-6da2-44e8-8866-be91a90cc227\",\"type\":\"GlyphRenderer\"},{\"attributes\":{\"plot\":null,\"text\":\"Iberian peninsula: Comparison between Xi (red) and Omega (blue)\"},\"id\":\"1e4dc5c7-b470-4031-b30b-3fbe51edd33c\",\"type\":\"Title\"},{\"attributes\":{\"source\":{\"id\":\"0096a465-64b3-440b-a7bd-537bf81f4ff3\",\"type\":\"ColumnDataSource\"}},\"id\":\"bcff0a37-fc43-4f0e-86f7-c7f4b9d8ad9a\",\"type\":\"CDSView\"},{\"attributes\":{\"data_source\":{\"id\":\"0096a465-64b3-440b-a7bd-537bf81f4ff3\",\"type\":\"ColumnDataSource\"},\"glyph\":{\"id\":\"af0de318-c6e7-4c4e-89f7-ccb7bab56aeb\",\"type\":\"Line\"},\"hover_glyph\":null,\"muted_glyph\":null,\"nonselection_glyph\":{\"id\":\"8d697eec-9200-4e80-a105-85d5af54c347\",\"type\":\"Line\"},\"selection_glyph\":null,\"view\":{\"id\":\"bcff0a37-fc43-4f0e-86f7-c7f4b9d8ad9a\",\"type\":\"CDSView\"}},\"id\":\"e7606420-3a73-486d-afb5-fc4d163ab9b6\",\"type\":\"GlyphRenderer\"},{\"attributes\":{},\"id\":\"23199ac6-0927-4d24-9062-c3480da6d1e7\",\"type\":\"BasicTicker\"},{\"attributes\":{\"data_source\":{\"id\":\"ea7eedaa-0787-4582-ad1e-293a317247c9\",\"type\":\"ColumnDataSource\"},\"glyph\":{\"id\":\"de05ddba-54f7-453d-ae21-539baf26805d\",\"type\":\"Line\"},\"hover_glyph\":null,\"muted_glyph\":null,\"nonselection_glyph\":{\"id\":\"773fcc31-acf4-41e7-bcad-6bab98a16989\",\"type\":\"Line\"},\"selection_glyph\":null,\"view\":{\"id\":\"e21ba98a-61d5-4f09-9c11-a9a1fa442ae9\",\"type\":\"CDSView\"}},\"id\":\"152d37db-6d6f-4830-b445-a17d49a60d8f\",\"type\":\"GlyphRenderer\"},{\"attributes\":{\"data_source\":{\"id\":\"b03edce1-23ae-4dcf-9629-763b2bbf6b48\",\"type\":\"ColumnDataSource\"},\"glyph\":{\"id\":\"6508e210-9a13-4fc9-8f08-481d3555eec5\",\"type\":\"Line\"},\"hover_glyph\":null,\"muted_glyph\":null,\"nonselection_glyph\":{\"id\":\"364ec8a4-28b9-417c-98db-0da4465c203c\",\"type\":\"Line\"},\"selection_glyph\":null,\"view\":{\"id\":\"650e5c9c-d682-4b61-b4d6-bf70bbb0c882\",\"type\":\"CDSView\"}},\"id\":\"11645148-e197-452f-8e15-3997cd6485cb\",\"type\":\"GlyphRenderer\"},{\"attributes\":{\"callback\":null,\"end\":22,\"start\":1.5},\"id\":\"343b9633-d3a7-4642-8d87-99d34c46c4f6\",\"type\":\"Range1d\"},{\"attributes\":{},\"id\":\"61c5d97c-623d-4615-b0a6-5d1ce5f325d9\",\"type\":\"Selection\"},{\"attributes\":{\"callback\":null,\"data\":{\"x\":{\"__ndarray__\":\"VVVVVVVVNEBVVVVVVVU0QAAAAAAAgDNAAAAAAAAAM0AAAAAAAMAyQAAAAAAAgDJAAAAAAABAMkAAAAAAAAAyQAAAAAAAgDJAVVVVVVXVMUAAAAAAAIAxQAAAAAAAQDFAVVVVVVXVMEBVVVVVVVUwQAAAAAAAADBAAAAAAAAAL0CrqqqqqqovQKuqqqqqKi5AAAAAAAAALkAAAAAAAAAtQAAAAAAAACxAAAAAAAAAK0AAAAAAAAAqQAAAAAAAAClAAAAAAAAAKUAAAAAAAAApQAAAAAAAgChAVVVVVVVVKEAAAAAAAAAoQAAAAAAAgCdA\",\"dtype\":\"float64\",\"shape\":[30]},\"y\":{\"__ndarray__\":\"q6qqqqoqRUCrqqqqqipFQAAAAAAAQEVAAAAAAABARUCrqqqqqipFQFVVVVVVFUVAAAAAAAAARUAAAAAAAOBEQKuqqqqqqkRAq6qqqqqqREAAAAAAAKBEQAAAAAAAgERAAAAAAABgREBVVVVVVVVEQAAAAAAAQERAAAAAAAAARECrqqqqqqpDQAAAAAAAwENAAAAAAACAQ0BVVVVVVXVDQKuqqqqqakNAAAAAAABgQ0AAAAAAAGBDQKuqqqqqSkNAAAAAAABAQ0BVVVVVVRVDQFVVVVVV9UJAAAAAAADAQkAAAAAAAKBCQFVVVVVVlUJA\",\"dtype\":\"float64\",\"shape\":[30]}},\"selected\":{\"id\":\"9e701197-7c9d-4e3f-bfdb-0f68cddb90ba\",\"type\":\"Selection\"},\"selection_policy\":{\"id\":\"e8e0f630-9989-4e22-908a-b98cc7c326e8\",\"type\":\"UnionRenderers\"}},\"id\":\"cb58bf92-e4e6-4f39-8e24-31af3840e431\",\"type\":\"ColumnDataSource\"},{\"attributes\":{},\"id\":\"ba0d15f1-6fd2-4c0f-8675-704e3e69758b\",\"type\":\"LinearScale\"},{\"attributes\":{},\"id\":\"2d1046d5-a9cf-44c7-a116-6f6bc7260a85\",\"type\":\"UnionRenderers\"},{\"attributes\":{\"line_color\":\"Crimson\",\"x\":{\"field\":\"x\"},\"y\":{\"field\":\"y\"}},\"id\":\"d5ba5f16-708c-4416-8b00-6a731eaacf6f\",\"type\":\"Line\"},{\"attributes\":{\"line_alpha\":0.8,\"line_color\":\"navy\",\"x\":{\"field\":\"x\"},\"y\":{\"field\":\"y\"}},\"id\":\"de05ddba-54f7-453d-ae21-539baf26805d\",\"type\":\"Line\"},{\"attributes\":{\"label\":{\"value\":\"Same boundary coordinate (Xi and Omega)\"},\"renderers\":[{\"id\":\"3a69addf-c536-4f8a-a586-b7e50d22f2e5\",\"type\":\"GlyphRenderer\"}]},\"id\":\"ab8b7aa6-bc3a-409d-80b0-5d69c3ce488d\",\"type\":\"LegendItem\"},{\"attributes\":{},\"id\":\"5dd3685e-e8b9-47de-ab44-092adac49d1e\",\"type\":\"UnionRenderers\"},{\"attributes\":{},\"id\":\"6ff00097-141b-4740-a04e-aeacfd09e605\",\"type\":\"Selection\"},{\"attributes\":{\"line_alpha\":0.1,\"line_color\":\"#1f77b4\",\"x\":{\"field\":\"x\"},\"y\":{\"field\":\"y\"}},\"id\":\"3e14763c-b7e8-4ec6-8ad9-133caac86f6e\",\"type\":\"Line\"},{\"attributes\":{},\"id\":\"06a40f46-c422-41bb-a96b-fc65f8e129a5\",\"type\":\"Selection\"},{\"attributes\":{},\"id\":\"587f8075-9b95-4f65-ac93-898ee41d4ea3\",\"type\":\"UnionRenderers\"},{\"attributes\":{\"source\":{\"id\":\"549aa646-c946-41c1-a9f0-480a587f4abe\",\"type\":\"ColumnDataSource\"}},\"id\":\"86babd0a-2fe0-401a-957c-1ee6d5350a43\",\"type\":\"CDSView\"},{\"attributes\":{\"source\":{\"id\":\"384e4378-4d74-4c8f-ab8b-b3ce973f23ba\",\"type\":\"ColumnDataSource\"}},\"id\":\"ccd943f3-1da1-404e-9821-74ca27a94e6a\",\"type\":\"CDSView\"},{\"attributes\":{},\"id\":\"aab5af0f-9b9d-4b5e-8b2a-21b4210810d3\",\"type\":\"UnionRenderers\"},{\"attributes\":{\"line_color\":\"Crimson\",\"x\":{\"field\":\"x\"},\"y\":{\"field\":\"y\"}},\"id\":\"eb619e0c-a324-4b07-85b7-982d9689dcf3\",\"type\":\"Line\"},{\"attributes\":{},\"id\":\"9e701197-7c9d-4e3f-bfdb-0f68cddb90ba\",\"type\":\"Selection\"},{\"attributes\":{\"fill_color\":{\"value\":\"grey\"},\"line_color\":{\"value\":\"grey\"},\"size\":{\"units\":\"screen\",\"value\":6},\"x\":{\"field\":\"x\"},\"y\":{\"field\":\"y\"}},\"id\":\"08acf2f4-8fd2-4d22-bcfc-0c1e4e8f792e\",\"type\":\"Circle\"},{\"attributes\":{},\"id\":\"873c1a46-3977-4871-8611-02a0ba257bba\",\"type\":\"LinearScale\"},{\"attributes\":{},\"id\":\"86d93a82-32e1-46fd-8848-5c009b1b4d13\",\"type\":\"BasicTicker\"},{\"attributes\":{},\"id\":\"ac783334-d3c3-4164-ad49-781acbc23ec5\",\"type\":\"UnionRenderers\"},{\"attributes\":{\"dimension\":1,\"plot\":{\"id\":\"03ad3340-b06c-4132-b925-f9a0a77e9d89\",\"subtype\":\"Figure\",\"type\":\"Plot\"},\"ticker\":{\"id\":\"23199ac6-0927-4d24-9062-c3480da6d1e7\",\"type\":\"BasicTicker\"}},\"id\":\"b419786f-7671-4616-8ec5-b542075301d6\",\"type\":\"Grid\"},{\"attributes\":{},\"id\":\"f45cad02-82a6-407c-ae7c-871806539c4a\",\"type\":\"UnionRenderers\"},{\"attributes\":{\"callback\":null,\"data\":{\"x\":{\"__ndarray__\":\"AAAAAAAAFkAAAAAAAAAWQKuqqqqqqhZAAAAAAAAAFkBVVVVVVVUVQAAAAAAAABZAq6qqqqqqFkCrqqqqqqoWQKuqqqqqqhZAAAAAAAAAFUCrqqqqqqoWQAAAAAAAABlAAAAAAAAAGkAAAAAAAAAbQAAAAAAAgCBAAAAAAAAAIkCrqqqqqqokQFVVVVVVVSdAAAAAAACAJ0AAAAAAAAAoQAAAAAAAACpAVVVVVVVVKkAAAAAAAAArQKuqqqqqqitAq6qqqqqqLEBVVVVVVVUuQFVVVVVVVS5AVVVVVVVVLkA=\",\"dtype\":\"float64\",\"shape\":[28]},\"y\":{\"__ndarray__\":\"AAAAAAAgRUAAAAAAAEBFQAAAAAAAYEVAAAAAAACgRUBVVVVVVdVFQAAAAAAAAEZAq6qqqqoqRkBVVVVVVVVGQAAAAAAAgEZAVVVVVVWVRkBVVVVVVZVGQAAAAAAAwEZAAAAAAADARkAAAAAAAIBGQKuqqqqq6kZAAAAAAADgRkBVVVVVVdVGQAAAAAAA4EZAVVVVVVW1RkBVVVVVVZVGQAAAAAAAwEZAVVVVVVVVRkAAAAAAACBGQKuqqqqqCkZAAAAAAACARkCrqqqqqopGQKuqqqqq6kZAq6qqqqrqRkA=\",\"dtype\":\"float64\",\"shape\":[28]}},\"selected\":{\"id\":\"a1ee4bbd-d8c9-4d43-84f0-ebd24d3aa340\",\"type\":\"Selection\"},\"selection_policy\":{\"id\":\"2d1046d5-a9cf-44c7-a116-6f6bc7260a85\",\"type\":\"UnionRenderers\"}},\"id\":\"b03edce1-23ae-4dcf-9629-763b2bbf6b48\",\"type\":\"ColumnDataSource\"},{\"attributes\":{},\"id\":\"89a7471b-8c4e-46fc-9a91-9812b11439eb\",\"type\":\"Selection\"},{\"attributes\":{},\"id\":\"21e3c665-a79c-45f2-bee4-3b2e0b087483\",\"type\":\"BasicTickFormatter\"},{\"attributes\":{\"below\":[{\"id\":\"bf7829e0-1f7b-4651-837a-1e9785c17c6b\",\"type\":\"LinearAxis\"}],\"left\":[{\"id\":\"dd87edb8-6ae7-4e25-b2d2-b21fb6730bb3\",\"type\":\"LinearAxis\"}],\"plot_height\":800,\"plot_width\":1000,\"renderers\":[{\"id\":\"bf7829e0-1f7b-4651-837a-1e9785c17c6b\",\"type\":\"LinearAxis\"},{\"id\":\"aca267ea-5d35-4278-9b8c-21aa514e58bd\",\"type\":\"Grid\"},{\"id\":\"dd87edb8-6ae7-4e25-b2d2-b21fb6730bb3\",\"type\":\"LinearAxis\"},{\"id\":\"b419786f-7671-4616-8ec5-b542075301d6\",\"type\":\"Grid\"},{\"id\":\"0d19acb1-9e2d-4ec4-b446-d1ab6599ea15\",\"type\":\"BoxAnnotation\"},{\"id\":\"5759ffe6-0267-456e-900b-4a8bde6d0554\",\"type\":\"Legend\"},{\"id\":\"a2d6b21a-d1ec-4d99-8d0b-273e220e6080\",\"type\":\"GlyphRenderer\"},{\"id\":\"e417ade1-6da2-44e8-8866-be91a90cc227\",\"type\":\"GlyphRenderer\"},{\"id\":\"bfb26471-e70f-4187-bcad-029312675a7d\",\"type\":\"GlyphRenderer\"},{\"id\":\"11645148-e197-452f-8e15-3997cd6485cb\",\"type\":\"GlyphRenderer\"},{\"id\":\"dd3305f9-4d3b-4ddc-8879-06c365fbe61c\",\"type\":\"GlyphRenderer\"},{\"id\":\"70c3376e-3cf4-4181-be57-038b635db72c\",\"type\":\"GlyphRenderer\"},{\"id\":\"7a494ed6-d716-48e3-994a-5fd7c11a9859\",\"type\":\"GlyphRenderer\"},{\"id\":\"b02f2ece-5f9d-4fc1-bcbd-4a084717c75d\",\"type\":\"GlyphRenderer\"},{\"id\":\"1553d094-9660-4838-8592-58c2fbe1a611\",\"type\":\"GlyphRenderer\"},{\"id\":\"e7606420-3a73-486d-afb5-fc4d163ab9b6\",\"type\":\"GlyphRenderer\"},{\"id\":\"6ffa2af7-1691-4ffc-b685-1e7e26e18fe8\",\"type\":\"GlyphRenderer\"},{\"id\":\"152d37db-6d6f-4830-b445-a17d49a60d8f\",\"type\":\"GlyphRenderer\"},{\"id\":\"3a69addf-c536-4f8a-a586-b7e50d22f2e5\",\"type\":\"GlyphRenderer\"}],\"title\":{\"id\":\"1e4dc5c7-b470-4031-b30b-3fbe51edd33c\",\"type\":\"Title\"},\"toolbar\":{\"id\":\"900fc4ca-b0ed-4e09-8ea6-cd3a6c70dd2a\",\"type\":\"Toolbar\"},\"x_range\":{\"id\":\"343b9633-d3a7-4642-8d87-99d34c46c4f6\",\"type\":\"Range1d\"},\"x_scale\":{\"id\":\"ba0d15f1-6fd2-4c0f-8675-704e3e69758b\",\"type\":\"LinearScale\"},\"y_range\":{\"id\":\"8d645683-dadb-4c2c-ab57-a70083078fc6\",\"type\":\"Range1d\"},\"y_scale\":{\"id\":\"873c1a46-3977-4871-8611-02a0ba257bba\",\"type\":\"LinearScale\"}},\"id\":\"03ad3340-b06c-4132-b925-f9a0a77e9d89\",\"subtype\":\"Figure\",\"type\":\"Plot\"},{\"attributes\":{},\"id\":\"4253afcb-7c7a-4def-8496-f2cc9883ce5b\",\"type\":\"Selection\"},{\"attributes\":{\"fill_alpha\":{\"value\":0.1},\"fill_color\":{\"value\":\"#1f77b4\"},\"line_alpha\":{\"value\":0.1},\"line_color\":{\"value\":\"#1f77b4\"},\"size\":{\"units\":\"screen\",\"value\":6},\"x\":{\"field\":\"x\"},\"y\":{\"field\":\"y\"}},\"id\":\"0a97757d-c9d2-41f1-832c-39d7b1df553c\",\"type\":\"Circle\"},{\"attributes\":{},\"id\":\"ef464e7f-9b31-4536-a963-b3c585f5505f\",\"type\":\"UnionRenderers\"},{\"attributes\":{\"fill_alpha\":{\"value\":0.1},\"fill_color\":{\"value\":\"#1f77b4\"},\"line_alpha\":{\"value\":0.1},\"line_color\":{\"value\":\"#1f77b4\"},\"size\":{\"units\":\"screen\",\"value\":6},\"x\":{\"field\":\"x\"},\"y\":{\"field\":\"y\"}},\"id\":\"df80173d-1370-4537-8757-f5a4a9e378b7\",\"type\":\"Circle\"},{\"attributes\":{},\"id\":\"b15bccf2-8f45-4fa2-9f4f-4b639ee90daf\",\"type\":\"ResetTool\"},{\"attributes\":{\"data_source\":{\"id\":\"f5938325-6a7a-4469-8946-2358cbf540ef\",\"type\":\"ColumnDataSource\"},\"glyph\":{\"id\":\"240af343-d77c-4c28-ab71-b58ddb8322b6\",\"type\":\"Line\"},\"hover_glyph\":null,\"muted_glyph\":null,\"nonselection_glyph\":{\"id\":\"d5db6a03-933e-4148-a04d-d2723635de27\",\"type\":\"Line\"},\"selection_glyph\":null,\"view\":{\"id\":\"773d533b-f953-47ab-9fe4-7acdcea29fa6\",\"type\":\"CDSView\"}},\"id\":\"70c3376e-3cf4-4181-be57-038b635db72c\",\"type\":\"GlyphRenderer\"},{\"attributes\":{\"line_color\":\"blue\",\"x\":{\"field\":\"x\"},\"y\":{\"field\":\"y\"}},\"id\":\"22932923-1790-4b26-9146-c59b7884250d\",\"type\":\"Line\"},{\"attributes\":{\"bottom_units\":\"screen\",\"fill_alpha\":{\"value\":0.5},\"fill_color\":{\"value\":\"lightgrey\"},\"left_units\":\"screen\",\"level\":\"overlay\",\"line_alpha\":{\"value\":1.0},\"line_color\":{\"value\":\"black\"},\"line_dash\":[4,4],\"line_width\":{\"value\":2},\"plot\":null,\"render_mode\":\"css\",\"right_units\":\"screen\",\"top_units\":\"screen\"},\"id\":\"0d19acb1-9e2d-4ec4-b446-d1ab6599ea15\",\"type\":\"BoxAnnotation\"},{\"attributes\":{},\"id\":\"1050c1e5-f0db-4a8f-997a-2be62d564376\",\"type\":\"BasicTickFormatter\"},{\"attributes\":{\"plot\":{\"id\":\"03ad3340-b06c-4132-b925-f9a0a77e9d89\",\"subtype\":\"Figure\",\"type\":\"Plot\"},\"ticker\":{\"id\":\"86d93a82-32e1-46fd-8848-5c009b1b4d13\",\"type\":\"BasicTicker\"}},\"id\":\"aca267ea-5d35-4278-9b8c-21aa514e58bd\",\"type\":\"Grid\"},{\"attributes\":{\"data_source\":{\"id\":\"c5ceeaf5-4ac8-4336-8d1c-40a68a74aa24\",\"type\":\"ColumnDataSource\"},\"glyph\":{\"id\":\"7930e080-1435-4a88-a306-54f01c981fda\",\"type\":\"Circle\"},\"hover_glyph\":null,\"muted_glyph\":null,\"nonselection_glyph\":{\"id\":\"df80173d-1370-4537-8757-f5a4a9e378b7\",\"type\":\"Circle\"},\"selection_glyph\":null,\"view\":{\"id\":\"f960ff36-2f48-4197-879e-1f028fa202a7\",\"type\":\"CDSView\"}},\"id\":\"7a494ed6-d716-48e3-994a-5fd7c11a9859\",\"type\":\"GlyphRenderer\"},{\"attributes\":{\"overlay\":{\"id\":\"0d19acb1-9e2d-4ec4-b446-d1ab6599ea15\",\"type\":\"BoxAnnotation\"}},\"id\":\"13aeb9a4-cb93-431b-85ac-748db36fadf1\",\"type\":\"BoxZoomTool\"},{\"attributes\":{},\"id\":\"e8e0f630-9989-4e22-908a-b98cc7c326e8\",\"type\":\"UnionRenderers\"},{\"attributes\":{\"fill_alpha\":{\"value\":0.7},\"fill_color\":{\"value\":\"red\"},\"line_alpha\":{\"value\":0},\"line_color\":{\"value\":\"Crimson\"},\"size\":{\"units\":\"screen\",\"value\":6},\"x\":{\"field\":\"x\"},\"y\":{\"field\":\"y\"}},\"id\":\"44269173-841a-42d3-b258-2badf1ce1a88\",\"type\":\"Circle\"},{\"attributes\":{\"line_alpha\":0.1,\"line_color\":\"#1f77b4\",\"x\":{\"field\":\"x\"},\"y\":{\"field\":\"y\"}},\"id\":\"902e1dd0-5a68-46e8-9272-a9397b108104\",\"type\":\"Line\"},{\"attributes\":{\"formatter\":{\"id\":\"1050c1e5-f0db-4a8f-997a-2be62d564376\",\"type\":\"BasicTickFormatter\"},\"plot\":{\"id\":\"03ad3340-b06c-4132-b925-f9a0a77e9d89\",\"subtype\":\"Figure\",\"type\":\"Plot\"},\"ticker\":{\"id\":\"23199ac6-0927-4d24-9062-c3480da6d1e7\",\"type\":\"BasicTicker\"}},\"id\":\"dd87edb8-6ae7-4e25-b2d2-b21fb6730bb3\",\"type\":\"LinearAxis\"},{\"attributes\":{\"data_source\":{\"id\":\"6b41b573-540d-4fb1-beed-8904596908c4\",\"type\":\"ColumnDataSource\"},\"glyph\":{\"id\":\"a9c1c5a1-a433-4634-8db0-2c881197fcde\",\"type\":\"Line\"},\"hover_glyph\":null,\"muted_glyph\":null,\"nonselection_glyph\":{\"id\":\"9c587b46-9263-43cb-a5bd-dfa8d38b867f\",\"type\":\"Line\"},\"selection_glyph\":null,\"view\":{\"id\":\"2bb3e964-a5dc-44d1-b055-1a0141290955\",\"type\":\"CDSView\"}},\"id\":\"1553d094-9660-4838-8592-58c2fbe1a611\",\"type\":\"GlyphRenderer\"},{\"attributes\":{},\"id\":\"94ee6fd9-8477-4d61-a2e2-ff65f790a77e\",\"type\":\"UnionRenderers\"},{\"attributes\":{\"source\":{\"id\":\"ea7eedaa-0787-4582-ad1e-293a317247c9\",\"type\":\"ColumnDataSource\"}},\"id\":\"e21ba98a-61d5-4f09-9c11-a9a1fa442ae9\",\"type\":\"CDSView\"},{\"attributes\":{},\"id\":\"650a8d34-bb4c-4447-a219-3ec6cb838fdc\",\"type\":\"Selection\"},{\"attributes\":{},\"id\":\"1f4cb98b-1b5f-4770-a704-5ab6ea0cb809\",\"type\":\"Selection\"},{\"attributes\":{\"items\":[{\"id\":\"6b02fb90-abf7-4cc5-88db-fb291bf4f84e\",\"type\":\"LegendItem\"},{\"id\":\"7e7dcd79-86b0-4e19-b9b7-afda4f5cf244\",\"type\":\"LegendItem\"},{\"id\":\"ab8b7aa6-bc3a-409d-80b0-5d69c3ce488d\",\"type\":\"LegendItem\"}],\"location\":\"bottom_right\",\"plot\":{\"id\":\"03ad3340-b06c-4132-b925-f9a0a77e9d89\",\"subtype\":\"Figure\",\"type\":\"Plot\"}},\"id\":\"5759ffe6-0267-456e-900b-4a8bde6d0554\",\"type\":\"Legend\"},{\"attributes\":{\"formatter\":{\"id\":\"21e3c665-a79c-45f2-bee4-3b2e0b087483\",\"type\":\"BasicTickFormatter\"},\"plot\":{\"id\":\"03ad3340-b06c-4132-b925-f9a0a77e9d89\",\"subtype\":\"Figure\",\"type\":\"Plot\"},\"ticker\":{\"id\":\"86d93a82-32e1-46fd-8848-5c009b1b4d13\",\"type\":\"BasicTicker\"}},\"id\":\"bf7829e0-1f7b-4651-837a-1e9785c17c6b\",\"type\":\"LinearAxis\"},{\"attributes\":{},\"id\":\"c319dde5-fecb-4bbf-8939-cf4c04d4cf8e\",\"type\":\"UnionRenderers\"},{\"attributes\":{},\"id\":\"22826053-cc5e-4b8a-b229-9bc8024e8c64\",\"type\":\"WheelZoomTool\"},{\"attributes\":{\"fill_alpha\":{\"value\":0.8},\"fill_color\":{\"value\":\"blue\"},\"line_alpha\":{\"value\":0},\"line_color\":{\"value\":\"blue\"},\"size\":{\"units\":\"screen\",\"value\":6},\"x\":{\"field\":\"x\"},\"y\":{\"field\":\"y\"}},\"id\":\"7930e080-1435-4a88-a306-54f01c981fda\",\"type\":\"Circle\"},{\"attributes\":{\"source\":{\"id\":\"4e0adef8-1d6d-41dd-b555-ac55a4a24212\",\"type\":\"ColumnDataSource\"}},\"id\":\"a50f60d7-623c-4441-af4f-3b273570ecec\",\"type\":\"CDSView\"},{\"attributes\":{\"callback\":null,\"data\":{\"x\":{\"__ndarray__\":\"VVVVVVVVEEBVVVVVVVURQKuqqqqqqhJAVVVVVVVVFEBVVVVVVVUVQAAAAAAAABhAAAAAAAAAGEAAAAAAAAAYQAAAAAAAABdAAAAAAAAAF0CrqqqqqqoYQAAAAAAAABlAAAAAAAAAGkCrqqqqqqoaQAAAAAAAAB1AAAAAAAAAHkAAAAAAAAAeQKuqqqqqqh5AAAAAAAAAIEAAAAAAAAAhQKuqqqqqqiFAAAAAAACAIkAAAAAAAIAjQAAAAAAAgCRAq6qqqqqqJUAAAAAAAIAlQKuqqqqqqiZAAAAAAAAAJ0BVVVVVVVUNQAAAAAAAAAhAAAAAAAAABEAAAAAAAAAUQFVVVVVVVRRAq6qqqqqqEUAAAAAAAAARQKuqqqqqqhRAAAAAAAAAFkAAAAAAAAAUQAAAAAAAABRAq6qqqqqqFECrqqqqqqoUQFVVVVVVVRVAAAAAAAAAFkCrqqqqqqoUQKuqqqqqqhZAAAAAAAAAFkBVVVVVVVUVQAAAAAAAABZAq6qqqqqqFkCrqqqqqqoWQFVVVVVVVRVAAAAAAAAAFUCrqqqqqqoWQAAAAAAAABlAAAAAAAAAGkAAAAAAAAAdQAAAAAAAgCBAAAAAAAAAIkCrqqqqqqokQKuqqqqqqiZAAAAAAACAJ0AAAAAAAAAoQAAAAAAAACpAVVVVVVVVKkAAAAAAAAArQAAAAAAAgCtAq6qqqqqqLEBVVVVVVVUuQAAAAAAAAC5AAAAAAAAALkAAAAAAAAAoQFVVVVVVVShAAAAAAACAKEBVVVVVVdUpQAAAAAAAAClAVVVVVVVVKUAAAAAAAAAqQAAAAAAAACtAAAAAAAAALEBVVVVVVVUtQAAAAAAAAC5AVVVVVVVVL0BVVVVVVdUvQAAAAAAAAC9AAAAAAAAAMEBVVVVVVVUwQFVVVVVV1TBAAAAAAABAMUAAAAAAAIAxQFVVVVVV1TFAAAAAAACAMkAAAAAAAAAyQAAAAAAAQDJAAAAAAACAMkAAAAAAAMAyQAAAAAAAADNAAAAAAACAM0BVVVVVVVU0QFVVVVVVVTRA\",\"dtype\":\"float64\",\"shape\":[99]},\"y\":{\"__ndarray__\":\"VVVVVVXVQkAAAAAAAMBCQKuqqqqqqkJAVVVVVVWVQkAAAAAAAIBCQAAAAAAAYEJAq6qqqqpqQkCrqqqqqipCQAAAAAAAAEJAAAAAAAAAQkBVVVVVVRVCQFVVVVVVVUJAAAAAAABAQkCrqqqqqipCQFVVVVVVFUJAVVVVVVUVQkAAAAAAACBCQFVVVVVVVUJAq6qqqqoKQkAAAAAAAIBCQAAAAAAAwEJAAAAAAACgQkAAAAAAAKBCQAAAAAAAoEJAq6qqqqqKQkBVVVVVVZVCQKuqqqqqikJAq6qqqqoqQkAAAAAAAOBCQKuqqqqq6kJAAAAAAAAgQ0AAAAAAAIBDQFVVVVVVtUNAAAAAAADAQ0AAAAAAAOBDQAAAAAAAIERAVVVVVVUVREBVVVVVVVVEQFVVVVVVVURAq6qqqqpqRECrqqqqqqpEQKuqqqqq6kRAAAAAAAAgRUAAAAAAAEBFQAAAAAAAYEVAAAAAAACgRUBVVVVVVdVFQAAAAAAAAEZAq6qqqqoqRkBVVVVVVVVGQAAAAAAAgEZAVVVVVVWVRkAAAAAAAMBGQAAAAAAAwEZAAAAAAADARkAAAAAAAIBGQKuqqqqq6kZAAAAAAADgRkBVVVVVVdVGQAAAAAAA4EZAVVVVVVW1RkAAAAAAAMBGQFVVVVVV1UZAVVVVVVVVRkAAAAAAACBGQFVVVVVVNUZAAAAAAACARkCrqqqqqopGQKuqqqqq6kZAq6qqqqrqRkCrqqqqqqpCQAAAAAAAwEJAVVVVVVX1QkCrqqqqqgpDQAAAAAAAQENAq6qqqqpKQ0AAAAAAAGBDQAAAAAAAYENAq6qqqqoqQ0BVVVVVVXVDQAAAAAAAgENAAAAAAADAQ0BVVVVVVdVDQAAAAAAAAERAAAAAAABAREBVVVVVVVVEQAAAAAAAYERAAAAAAACAREAAAAAAAIBEQKuqqqqqqkRAAAAAAADAREAAAAAAAOBEQAAAAAAAAEVAVVVVVVUVRUCrqqqqqipFQAAAAAAAQEVAAAAAAABARUCrqqqqqipFQKuqqqqqKkVA\",\"dtype\":\"float64\",\"shape\":[99]}},\"selected\":{\"id\":\"45373863-11c9-47d2-a898-4e2fcdcf7208\",\"type\":\"Selection\"},\"selection_policy\":{\"id\":\"ef464e7f-9b31-4536-a963-b3c585f5505f\",\"type\":\"UnionRenderers\"}},\"id\":\"c5ceeaf5-4ac8-4336-8d1c-40a68a74aa24\",\"type\":\"ColumnDataSource\"},{\"attributes\":{\"line_color\":\"blue\",\"x\":{\"field\":\"x\"},\"y\":{\"field\":\"y\"}},\"id\":\"af0de318-c6e7-4c4e-89f7-ccb7bab56aeb\",\"type\":\"Line\"},{\"attributes\":{\"callback\":null,\"data\":{\"x\":{\"__ndarray__\":\"VVVVVVVVNEBVVVVVVVU0QAAAAAAAgDNAAAAAAAAAM0AAAAAAAMAyQAAAAAAAgDJAAAAAAABAMkAAAAAAAAAyQAAAAAAAgDJAVVVVVVXVMUAAAAAAAIAxQAAAAAAAQDFAVVVVVVXVMEBVVVVVVVUwQAAAAAAAADBAAAAAAAAAL0BVVVVVVdUvQFVVVVVVVS9AAAAAAAAALkBVVVVVVVUtQAAAAAAAACxAAAAAAAAAK0AAAAAAAAAqQFVVVVVVVSlAAAAAAAAAKUBVVVVVVdUpQAAAAAAAgChAVVVVVVVVKEAAAAAAAAAoQAAAAAAAAChAAAAAAACAJ0A=\",\"dtype\":\"float64\",\"shape\":[31]},\"y\":{\"__ndarray__\":\"q6qqqqoqRUCrqqqqqipFQAAAAAAAQEVAAAAAAABARUCrqqqqqipFQFVVVVVVFUVAAAAAAAAARUAAAAAAAOBEQAAAAAAAwERAq6qqqqqqREAAAAAAAIBEQAAAAAAAgERAAAAAAABgREBVVVVVVVVEQAAAAAAAQERAAAAAAAAAREBVVVVVVdVDQAAAAAAAwENAAAAAAACAQ0BVVVVVVXVDQKuqqqqqKkNAAAAAAABgQ0AAAAAAAGBDQKuqqqqqSkNAAAAAAABAQ0CrqqqqqgpDQFVVVVVV9UJAAAAAAADAQkCrqqqqqqpCQAAAAAAAoEJAVVVVVVWVQkA=\",\"dtype\":\"float64\",\"shape\":[31]}},\"selected\":{\"id\":\"1f4cb98b-1b5f-4770-a704-5ab6ea0cb809\",\"type\":\"Selection\"},\"selection_policy\":{\"id\":\"ac783334-d3c3-4164-ad49-781acbc23ec5\",\"type\":\"UnionRenderers\"}},\"id\":\"549aa646-c946-41c1-a9f0-480a587f4abe\",\"type\":\"ColumnDataSource\"},{\"attributes\":{\"line_alpha\":0.1,\"line_color\":\"#1f77b4\",\"x\":{\"field\":\"x\"},\"y\":{\"field\":\"y\"}},\"id\":\"8d697eec-9200-4e80-a105-85d5af54c347\",\"type\":\"Line\"},{\"attributes\":{\"label\":{\"value\":\"Different boundary coordinate (Xi)\"},\"renderers\":[{\"id\":\"a2d6b21a-d1ec-4d99-8d0b-273e220e6080\",\"type\":\"GlyphRenderer\"}]},\"id\":\"6b02fb90-abf7-4cc5-88db-fb291bf4f84e\",\"type\":\"LegendItem\"},{\"attributes\":{\"label\":{\"value\":\"Different boundary coordinate (Omega)\"},\"renderers\":[{\"id\":\"7a494ed6-d716-48e3-994a-5fd7c11a9859\",\"type\":\"GlyphRenderer\"}]},\"id\":\"7e7dcd79-86b0-4e19-b9b7-afda4f5cf244\",\"type\":\"LegendItem\"},{\"attributes\":{\"line_alpha\":0.1,\"line_color\":\"#1f77b4\",\"x\":{\"field\":\"x\"},\"y\":{\"field\":\"y\"}},\"id\":\"773fcc31-acf4-41e7-bcad-6bab98a16989\",\"type\":\"Line\"},{\"attributes\":{},\"id\":\"ffa04e51-f525-439b-86a2-bc6208171028\",\"type\":\"UnionRenderers\"},{\"attributes\":{\"data_source\":{\"id\":\"384e4378-4d74-4c8f-ab8b-b3ce973f23ba\",\"type\":\"ColumnDataSource\"},\"glyph\":{\"id\":\"44269173-841a-42d3-b258-2badf1ce1a88\",\"type\":\"Circle\"},\"hover_glyph\":null,\"muted_glyph\":null,\"nonselection_glyph\":{\"id\":\"7cd7248c-8896-47f4-90f5-2b10e09ecb07\",\"type\":\"Circle\"},\"selection_glyph\":null,\"view\":{\"id\":\"ccd943f3-1da1-404e-9821-74ca27a94e6a\",\"type\":\"CDSView\"}},\"id\":\"a2d6b21a-d1ec-4d99-8d0b-273e220e6080\",\"type\":\"GlyphRenderer\"},{\"attributes\":{},\"id\":\"45373863-11c9-47d2-a898-4e2fcdcf7208\",\"type\":\"Selection\"},{\"attributes\":{\"data_source\":{\"id\":\"4e0adef8-1d6d-41dd-b555-ac55a4a24212\",\"type\":\"ColumnDataSource\"},\"glyph\":{\"id\":\"0c670862-94ec-405d-9918-02afa9ac57cf\",\"type\":\"Line\"},\"hover_glyph\":null,\"muted_glyph\":null,\"nonselection_glyph\":{\"id\":\"2c46ebaf-8b5d-4b6b-917d-3b729a755a7e\",\"type\":\"Line\"},\"selection_glyph\":null,\"view\":{\"id\":\"a50f60d7-623c-4441-af4f-3b273570ecec\",\"type\":\"CDSView\"}},\"id\":\"b02f2ece-5f9d-4fc1-bcbd-4a084717c75d\",\"type\":\"GlyphRenderer\"},{\"attributes\":{\"line_alpha\":0.1,\"line_color\":\"#1f77b4\",\"x\":{\"field\":\"x\"},\"y\":{\"field\":\"y\"}},\"id\":\"9c587b46-9263-43cb-a5bd-dfa8d38b867f\",\"type\":\"Line\"},{\"attributes\":{},\"id\":\"2aa56cbf-6531-4272-b361-b57e570f8312\",\"type\":\"SaveTool\"},{\"attributes\":{\"source\":{\"id\":\"c5ceeaf5-4ac8-4336-8d1c-40a68a74aa24\",\"type\":\"ColumnDataSource\"}},\"id\":\"f960ff36-2f48-4197-879e-1f028fa202a7\",\"type\":\"CDSView\"},{\"attributes\":{},\"id\":\"932e069d-0857-435f-b67d-5b56f5c79ef4\",\"type\":\"Selection\"},{\"attributes\":{\"line_alpha\":0.1,\"line_color\":\"#1f77b4\",\"x\":{\"field\":\"x\"},\"y\":{\"field\":\"y\"}},\"id\":\"5d5806c9-8233-4e37-82a8-47c9dd48ff16\",\"type\":\"Line\"},{\"attributes\":{\"line_color\":\"blue\",\"x\":{\"field\":\"x\"},\"y\":{\"field\":\"y\"}},\"id\":\"a9c1c5a1-a433-4634-8db0-2c881197fcde\",\"type\":\"Line\"},{\"attributes\":{},\"id\":\"f765342d-25e9-4391-b24b-acceee60fed0\",\"type\":\"Selection\"},{\"attributes\":{\"callback\":null,\"data\":{\"x\":{\"__ndarray__\":\"VVVVVVVVFUAAAAAAAAAWQKuqqqqqqhRAq6qqqqqqFkAAAAAAAAAWQFVVVVVVVRVAAAAAAAAAFkCrqqqqqqoWQKuqqqqqqhZAVVVVVVVVFUAAAAAAAAAVQKuqqqqqqhZAAAAAAAAAGUAAAAAAAAAaQAAAAAAAAB1AAAAAAACAIEAAAAAAAAAiQKuqqqqqqiRAq6qqqqqqJkAAAAAAAIAnQAAAAAAAAChAAAAAAAAAKkBVVVVVVVUqQAAAAAAAACtAAAAAAACAK0CrqqqqqqosQFVVVVVVVS5AAAAAAAAALkAAAAAAAAAuQA==\",\"dtype\":\"float64\",\"shape\":[29]},\"y\":{\"__ndarray__\":\"q6qqqqrqREAAAAAAACBFQAAAAAAAQEVAAAAAAABgRUAAAAAAAKBFQFVVVVVV1UVAAAAAAAAARkCrqqqqqipGQFVVVVVVVUZAAAAAAACARkBVVVVVVZVGQAAAAAAAwEZAAAAAAADARkAAAAAAAMBGQAAAAAAAgEZAq6qqqqrqRkAAAAAAAOBGQFVVVVVV1UZAAAAAAADgRkBVVVVVVbVGQAAAAAAAwEZAVVVVVVXVRkBVVVVVVVVGQAAAAAAAIEZAVVVVVVU1RkAAAAAAAIBGQKuqqqqqikZAq6qqqqrqRkCrqqqqqupGQA==\",\"dtype\":\"float64\",\"shape\":[29]}},\"selected\":{\"id\":\"4253afcb-7c7a-4def-8496-f2cc9883ce5b\",\"type\":\"Selection\"},\"selection_policy\":{\"id\":\"f45cad02-82a6-407c-ae7c-871806539c4a\",\"type\":\"UnionRenderers\"}},\"id\":\"0096a465-64b3-440b-a7bd-537bf81f4ff3\",\"type\":\"ColumnDataSource\"},{\"attributes\":{\"fill_alpha\":{\"value\":0.1},\"fill_color\":{\"value\":\"#1f77b4\"},\"line_alpha\":{\"value\":0.1},\"line_color\":{\"value\":\"#1f77b4\"},\"size\":{\"units\":\"screen\",\"value\":6},\"x\":{\"field\":\"x\"},\"y\":{\"field\":\"y\"}},\"id\":\"7cd7248c-8896-47f4-90f5-2b10e09ecb07\",\"type\":\"Circle\"},{\"attributes\":{\"data_source\":{\"id\":\"cb58bf92-e4e6-4f39-8e24-31af3840e431\",\"type\":\"ColumnDataSource\"},\"glyph\":{\"id\":\"f333ff68-c7aa-4902-8b4a-942987263b7a\",\"type\":\"Line\"},\"hover_glyph\":null,\"muted_glyph\":null,\"nonselection_glyph\":{\"id\":\"8d314341-9fef-4974-867d-4a897c54994d\",\"type\":\"Line\"},\"selection_glyph\":null,\"view\":{\"id\":\"7c71e2ac-0a7f-44ac-bfb3-0705de8ff6cf\",\"type\":\"CDSView\"}},\"id\":\"dd3305f9-4d3b-4ddc-8879-06c365fbe61c\",\"type\":\"GlyphRenderer\"},{\"attributes\":{\"source\":{\"id\":\"b03edce1-23ae-4dcf-9629-763b2bbf6b48\",\"type\":\"ColumnDataSource\"}},\"id\":\"650e5c9c-d682-4b61-b4d6-bf70bbb0c882\",\"type\":\"CDSView\"},{\"attributes\":{\"callback\":null,\"data\":{\"x\":{\"__ndarray__\":\"VVVVVVVVEEBVVVVVVVUNQAAAAAAAAAhAAAAAAAAABEAAAAAAAAAUQFVVVVVVVRRAq6qqqqqqEUAAAAAAAAARQKuqqqqqqhRAAAAAAAAAFkAAAAAAAAAUQAAAAAAAABRAq6qqqqqqFECrqqqqqqoUQFVVVVVVVRVA\",\"dtype\":\"float64\",\"shape\":[15]},\"y\":{\"__ndarray__\":\"VVVVVVXVQkAAAAAAAOBCQKuqqqqq6kJAAAAAAAAgQ0AAAAAAAIBDQFVVVVVVtUNAAAAAAADAQ0AAAAAAAOBDQAAAAAAAIERAVVVVVVUVREBVVVVVVVVEQFVVVVVVVURAq6qqqqpqRECrqqqqqqpEQKuqqqqq6kRA\",\"dtype\":\"float64\",\"shape\":[15]}},\"selected\":{\"id\":\"06a40f46-c422-41bb-a96b-fc65f8e129a5\",\"type\":\"Selection\"},\"selection_policy\":{\"id\":\"5dd3685e-e8b9-47de-ab44-092adac49d1e\",\"type\":\"UnionRenderers\"}},\"id\":\"6b41b573-540d-4fb1-beed-8904596908c4\",\"type\":\"ColumnDataSource\"},{\"attributes\":{},\"id\":\"a7f2aa58-77af-42cf-8839-a7b024ee8535\",\"type\":\"UnionRenderers\"},{\"attributes\":{\"source\":{\"id\":\"d4896cb7-b26f-4c1e-81ee-7b7af6043244\",\"type\":\"ColumnDataSource\"}},\"id\":\"453cfe3a-5476-4624-8a10-10264242d554\",\"type\":\"CDSView\"},{\"attributes\":{\"callback\":null,\"data\":{\"x\":[15.167,17,19,20.333],\"y\":[45.833,43,43.167,42.333]},\"selected\":{\"id\":\"3b813fce-cea0-4d1a-8344-b33b08e60919\",\"type\":\"Selection\"},\"selection_policy\":{\"id\":\"ffa04e51-f525-439b-86a2-bc6208171028\",\"type\":\"UnionRenderers\"}},\"id\":\"f5938325-6a7a-4469-8946-2358cbf540ef\",\"type\":\"ColumnDataSource\"},{\"attributes\":{\"active_drag\":\"auto\",\"active_inspect\":\"auto\",\"active_multi\":null,\"active_scroll\":\"auto\",\"active_tap\":\"auto\",\"tools\":[{\"id\":\"8b01f7e0-63f9-42c6-a7af-523305950904\",\"type\":\"PanTool\"},{\"id\":\"22826053-cc5e-4b8a-b229-9bc8024e8c64\",\"type\":\"WheelZoomTool\"},{\"id\":\"13aeb9a4-cb93-431b-85ac-748db36fadf1\",\"type\":\"BoxZoomTool\"},{\"id\":\"2aa56cbf-6531-4272-b361-b57e570f8312\",\"type\":\"SaveTool\"},{\"id\":\"b15bccf2-8f45-4fa2-9f4f-4b639ee90daf\",\"type\":\"ResetTool\"},{\"id\":\"6b8c99a4-426b-4c20-9f05-497aaf259882\",\"type\":\"HelpTool\"}]},\"id\":\"900fc4ca-b0ed-4e09-8ea6-cd3a6c70dd2a\",\"type\":\"Toolbar\"},{\"attributes\":{\"callback\":null,\"end\":47,\"start\":35.5},\"id\":\"8d645683-dadb-4c2c-ab57-a70083078fc6\",\"type\":\"Range1d\"},{\"attributes\":{\"line_color\":\"Crimson\",\"x\":{\"field\":\"x\"},\"y\":{\"field\":\"y\"}},\"id\":\"f333ff68-c7aa-4902-8b4a-942987263b7a\",\"type\":\"Line\"},{\"attributes\":{},\"id\":\"a1ee4bbd-d8c9-4d43-84f0-ebd24d3aa340\",\"type\":\"Selection\"},{\"attributes\":{},\"id\":\"6b8c99a4-426b-4c20-9f05-497aaf259882\",\"type\":\"HelpTool\"},{\"attributes\":{\"callback\":null,\"data\":{\"x\":[15,17,19,20.333],\"y\":[45.833,43,43.167,42.333]},\"selected\":{\"id\":\"89a7471b-8c4e-46fc-9a91-9812b11439eb\",\"type\":\"Selection\"},\"selection_policy\":{\"id\":\"c319dde5-fecb-4bbf-8939-cf4c04d4cf8e\",\"type\":\"UnionRenderers\"}},\"id\":\"ea7eedaa-0787-4582-ad1e-293a317247c9\",\"type\":\"ColumnDataSource\"},{\"attributes\":{\"line_alpha\":0.1,\"line_color\":\"#1f77b4\",\"x\":{\"field\":\"x\"},\"y\":{\"field\":\"y\"}},\"id\":\"d5db6a03-933e-4148-a04d-d2723635de27\",\"type\":\"Line\"},{\"attributes\":{\"line_alpha\":0.1,\"line_color\":\"#1f77b4\",\"x\":{\"field\":\"x\"},\"y\":{\"field\":\"y\"}},\"id\":\"364ec8a4-28b9-417c-98db-0da4465c203c\",\"type\":\"Line\"},{\"attributes\":{\"source\":{\"id\":\"f5938325-6a7a-4469-8946-2358cbf540ef\",\"type\":\"ColumnDataSource\"}},\"id\":\"773d533b-f953-47ab-9fe4-7acdcea29fa6\",\"type\":\"CDSView\"},{\"attributes\":{\"line_color\":\"blue\",\"x\":{\"field\":\"x\"},\"y\":{\"field\":\"y\"}},\"id\":\"0c670862-94ec-405d-9918-02afa9ac57cf\",\"type\":\"Line\"},{\"attributes\":{\"callback\":null,\"data\":{\"x\":{\"__ndarray__\":\"VVVVVVVVEEBVVVVVVVURQKuqqqqqqhJAVVVVVVVVFEBVVVVVVVUVQAAAAAAAABhAAAAAAAAAGEAAAAAAAAAYQAAAAAAAABdAAAAAAAAAF0CrqqqqqqoYQAAAAAAAABlAAAAAAAAAGkCrqqqqqqoaQAAAAAAAAB1AAAAAAAAAHkAAAAAAAAAeQKuqqqqqqh5AAAAAAAAAIEAAAAAAAAAhQKuqqqqqqiFAAAAAAACAIkAAAAAAAIAjQAAAAAAAgCRAq6qqqqqqJUAAAAAAAIAlQKuqqqqqqiZAAAAAAAAAJ0AAAAAAAIAnQA==\",\"dtype\":\"float64\",\"shape\":[29]},\"y\":{\"__ndarray__\":\"VVVVVVXVQkAAAAAAAMBCQKuqqqqqqkJAVVVVVVWVQkAAAAAAAIBCQAAAAAAAYEJAq6qqqqpqQkCrqqqqqipCQAAAAAAAAEJAAAAAAAAAQkBVVVVVVRVCQFVVVVVVVUJAAAAAAABAQkCrqqqqqipCQFVVVVVVFUJAVVVVVVUVQkAAAAAAACBCQFVVVVVVVUJAq6qqqqoKQkAAAAAAAIBCQAAAAAAAwEJAAAAAAACgQkAAAAAAAKBCQAAAAAAAoEJAq6qqqqqKQkBVVVVVVZVCQKuqqqqqikJAq6qqqqoqQkBVVVVVVZVCQA==\",\"dtype\":\"float64\",\"shape\":[29]}},\"selected\":{\"id\":\"6ff00097-141b-4740-a04e-aeacfd09e605\",\"type\":\"Selection\"},\"selection_policy\":{\"id\":\"3acbe6d6-6d99-418a-b69b-21a2153aff0d\",\"type\":\"UnionRenderers\"}},\"id\":\"4e0adef8-1d6d-41dd-b555-ac55a4a24212\",\"type\":\"ColumnDataSource\"},{\"attributes\":{},\"id\":\"8b01f7e0-63f9-42c6-a7af-523305950904\",\"type\":\"PanTool\"},{\"attributes\":{\"line_alpha\":0.8,\"line_color\":\"Crimson\",\"x\":{\"field\":\"x\"},\"y\":{\"field\":\"y\"}},\"id\":\"240af343-d77c-4c28-ab71-b58ddb8322b6\",\"type\":\"Line\"},{\"attributes\":{\"source\":{\"id\":\"6b41b573-540d-4fb1-beed-8904596908c4\",\"type\":\"ColumnDataSource\"}},\"id\":\"2bb3e964-a5dc-44d1-b055-1a0141290955\",\"type\":\"CDSView\"},{\"attributes\":{\"data_source\":{\"id\":\"d4896cb7-b26f-4c1e-81ee-7b7af6043244\",\"type\":\"ColumnDataSource\"},\"glyph\":{\"id\":\"08acf2f4-8fd2-4d22-bcfc-0c1e4e8f792e\",\"type\":\"Circle\"},\"hover_glyph\":null,\"muted_glyph\":null,\"nonselection_glyph\":{\"id\":\"0a97757d-c9d2-41f1-832c-39d7b1df553c\",\"type\":\"Circle\"},\"selection_glyph\":null,\"view\":{\"id\":\"453cfe3a-5476-4624-8a10-10264242d554\",\"type\":\"CDSView\"}},\"id\":\"3a69addf-c536-4f8a-a586-b7e50d22f2e5\",\"type\":\"GlyphRenderer\"},{\"attributes\":{\"callback\":null,\"data\":{\"x\":{\"__ndarray__\":\"VVVVVVVVEEAAAAAAAAAIQAAAAAAAAARAAAAAAAAAFEBVVVVVVVUUQKuqqqqqqhNAVVVVVVVVE0CrqqqqqqoUQKuqqqqqqhZAAAAAAAAAFEAAAAAAAAAUQKuqqqqqqhRAAAAAAAAAFkBVVVVVVVUVQAAAAAAAABZA\",\"dtype\":\"float64\",\"shape\":[15]},\"y\":{\"__ndarray__\":\"VVVVVVXVQkBVVVVVVfVCQAAAAAAAIENAAAAAAACAQ0BVVVVVVbVDQKuqqqqq6kNAq6qqqqrqQ0AAAAAAACBEQAAAAAAAQERAVVVVVVVVRUBVVVVVVVVFQKuqqqqqakRAq6qqqqqqRECrqqqqqupEQAAAAAAAIEVA\",\"dtype\":\"float64\",\"shape\":[15]}},\"selected\":{\"id\":\"f765342d-25e9-4391-b24b-acceee60fed0\",\"type\":\"Selection\"},\"selection_policy\":{\"id\":\"587f8075-9b95-4f65-ac93-898ee41d4ea3\",\"type\":\"UnionRenderers\"}},\"id\":\"b1f1296e-c7bc-4994-b50f-552702d08b25\",\"type\":\"ColumnDataSource\"},{\"attributes\":{\"line_color\":\"Crimson\",\"x\":{\"field\":\"x\"},\"y\":{\"field\":\"y\"}},\"id\":\"6508e210-9a13-4fc9-8f08-481d3555eec5\",\"type\":\"Line\"},{\"attributes\":{\"source\":{\"id\":\"cb58bf92-e4e6-4f39-8e24-31af3840e431\",\"type\":\"ColumnDataSource\"}},\"id\":\"7c71e2ac-0a7f-44ac-bfb3-0705de8ff6cf\",\"type\":\"CDSView\"},{\"attributes\":{\"data_source\":{\"id\":\"b1f1296e-c7bc-4994-b50f-552702d08b25\",\"type\":\"ColumnDataSource\"},\"glyph\":{\"id\":\"d5ba5f16-708c-4416-8b00-6a731eaacf6f\",\"type\":\"Line\"},\"hover_glyph\":null,\"muted_glyph\":null,\"nonselection_glyph\":{\"id\":\"3e14763c-b7e8-4ec6-8ad9-133caac86f6e\",\"type\":\"Line\"},\"selection_glyph\":null,\"view\":{\"id\":\"d04a5e61-a144-4624-a75d-007de6f12e35\",\"type\":\"CDSView\"}},\"id\":\"bfb26471-e70f-4187-bcad-029312675a7d\",\"type\":\"GlyphRenderer\"},{\"attributes\":{\"callback\":null,\"data\":{\"x\":{\"__ndarray__\":\"VVVVVVVVEEBVVVVVVVURQKuqqqqqqhJAVVVVVVVVFEBVVVVVVVUVQAAAAAAAABhAAAAAAAAAGEAAAAAAAAAXQAAAAAAAABdAq6qqqqqqGEAAAAAAAAAZQAAAAAAAABpAVVVVVVVVG0AAAAAAAAAdQAAAAAAAAB5AAAAAAAAAHkCrqqqqqqoeQAAAAAAAACBAAAAAAAAAIUCrqqqqqqohQAAAAAAAgCJAAAAAAACAI0AAAAAAAIAkQAAAAAAAgCVAq6qqqqqqJkAAAAAAAAAnQAAAAAAAgCdA\",\"dtype\":\"float64\",\"shape\":[27]},\"y\":{\"__ndarray__\":\"VVVVVVXVQkAAAAAAAMBCQKuqqqqqqkJAVVVVVVWVQkAAAAAAAIBCQAAAAAAAYEJAq6qqqqoqQkCrqqqqqgpCQKuqqqqqCkJAq6qqqqoKQkCrqqqqqgpCQFVVVVVVFUJAq6qqqqoKQkAAAAAAAEBCQFVVVVVVFUJAAAAAAAAgQkBVVVVVVVVCQFVVVVVVdUJAAAAAAACAQkBVVVVVVZVCQFVVVVVVlUJAAAAAAADgQkAAAAAAAKBCQFVVVVVVlUJAq6qqqqqKQkCrqqqqqmpCQFVVVVVVlUJA\",\"dtype\":\"float64\",\"shape\":[27]}},\"selected\":{\"id\":\"650a8d34-bb4c-4447-a219-3ec6cb838fdc\",\"type\":\"Selection\"},\"selection_policy\":{\"id\":\"a7f2aa58-77af-42cf-8839-a7b024ee8535\",\"type\":\"UnionRenderers\"}},\"id\":\"663042fb-f7b6-41a1-bf8c-0123989f6f96\",\"type\":\"ColumnDataSource\"},{\"attributes\":{\"line_alpha\":0.1,\"line_color\":\"#1f77b4\",\"x\":{\"field\":\"x\"},\"y\":{\"field\":\"y\"}},\"id\":\"2c46ebaf-8b5d-4b6b-917d-3b729a755a7e\",\"type\":\"Line\"},{\"attributes\":{\"line_alpha\":0.1,\"line_color\":\"#1f77b4\",\"x\":{\"field\":\"x\"},\"y\":{\"field\":\"y\"}},\"id\":\"8d314341-9fef-4974-867d-4a897c54994d\",\"type\":\"Line\"}],\"root_ids\":[\"03ad3340-b06c-4132-b925-f9a0a77e9d89\"]},\"title\":\"Bokeh Application\",\"version\":\"0.13.0\"}};\n",
       "  var render_items = [{\"docid\":\"61869166-d152-469f-a899-e19d9358ec2c\",\"roots\":{\"03ad3340-b06c-4132-b925-f9a0a77e9d89\":\"2fe99108-c438-4d7f-9ff7-782c6b34505d\"}}];\n",
       "  root.Bokeh.embed.embed_items_notebook(docs_json, render_items);\n",
       "\n",
       "  }\n",
       "  if (root.Bokeh !== undefined) {\n",
       "    embed_document(root);\n",
       "  } else {\n",
       "    var attempts = 0;\n",
       "    var timer = setInterval(function(root) {\n",
       "      if (root.Bokeh !== undefined) {\n",
       "        embed_document(root);\n",
       "        clearInterval(timer);\n",
       "      }\n",
       "      attempts++;\n",
       "      if (attempts > 100) {\n",
       "        console.log(\"Bokeh: ERROR: Unable to run BokehJS code because BokehJS library is missing\")\n",
       "        clearInterval(timer);\n",
       "      }\n",
       "    }, 10, root)\n",
       "  }\n",
       "})(window);"
      ],
      "application/vnd.bokehjs_exec.v0+json": ""
     },
     "metadata": {
      "application/vnd.bokehjs_exec.v0+json": {
       "id": "03ad3340-b06c-4132-b925-f9a0a77e9d89"
      }
     },
     "output_type": "display_data"
    }
   ],
   "source": [
    "comp_plot_map_02(fs_dict,gs_dict,f,g,IbEq2)"
   ]
  },
  {
   "cell_type": "markdown",
   "metadata": {},
   "source": [
    "# Interactive Overview of maps"
   ]
  },
  {
   "cell_type": "code",
   "execution_count": 196,
   "metadata": {},
   "outputs": [
    {
     "data": {
      "application/vnd.jupyter.widget-view+json": {
       "model_id": "65de985ef580469c8a5b6219884a6c07",
       "version_major": 2,
       "version_minor": 0
      },
      "text/plain": [
       "interactive(children=(Dropdown(description='fdir', options=('image',), value='image'), Dropdown(description='f…"
      ]
     },
     "metadata": {},
     "output_type": "display_data"
    }
   ],
   "source": [
    "import  ipywidgets as widgets\n",
    "from ipywidgets import interact\n",
    "# Create widgets\n",
    "directory = widgets.Dropdown(options=['image'])\n",
    "images = widgets.Dropdown(options=os.listdir(directory.value))\n",
    "\n",
    "# Updates the image options based on directory value\n",
    "def update_images(*args):\n",
    "    images.options = os.listdir(directory.value)\n",
    "\n",
    "# Tie the image options to directory value\n",
    "directory.observe(update_images, 'value')\n",
    "\n",
    "# Show the images\n",
    "def show_images(fdir, file):\n",
    "    display(Image(f'{fdir}/{file}'))\n",
    "\n",
    "_ = interact(show_images, fdir=directory, file=images)"
   ]
  }
 ],
 "metadata": {
  "kernelspec": {
   "display_name": "Python 3",
   "language": "python",
   "name": "python3"
  },
  "language_info": {
   "codemirror_mode": {
    "name": "ipython",
    "version": 3
   },
   "file_extension": ".py",
   "mimetype": "text/x-python",
   "name": "python",
   "nbconvert_exporter": "python",
   "pygments_lexer": "ipython3",
   "version": "3.7.1"
  },
  "latex_envs": {
   "LaTeX_envs_menu_present": true,
   "autocomplete": true,
   "bibliofile": "biblio.bib",
   "cite_by": "apalike",
   "current_citInitial": 1,
   "eqLabelWithNumbers": true,
   "eqNumInitial": 1,
   "hotkeys": {
    "equation": "Ctrl-E",
    "itemize": "Ctrl-I"
   },
   "labels_anchors": false,
   "latex_user_defs": false,
   "report_style_numbering": false,
   "user_envs_cfg": false
  },
  "toc": {
   "colors": {
    "hover_highlight": "#DAA520",
    "running_highlight": "#FF0000",
    "selected_highlight": "#FFD700"
   },
   "moveMenuLeft": true,
   "navigate_menu": false,
   "number_sections": true,
   "sideBar": true,
   "threshold": 4,
   "toc_cell": false,
   "toc_section_display": "block",
   "toc_window_display": true,
   "widenNotebook": true
  }
 },
 "nbformat": 4,
 "nbformat_minor": 4
}
