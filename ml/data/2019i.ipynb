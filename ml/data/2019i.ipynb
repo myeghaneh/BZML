{
 "cells": [
  {
   "cell_type": "code",
   "execution_count": 1,
   "metadata": {},
   "outputs": [],
   "source": [
    "import pandas as pd\n",
    "import numpy as np\n",
    "import re\n",
    "from collections import Counter"
   ]
  },
  {
   "cell_type": "code",
   "execution_count": 7,
   "metadata": {},
   "outputs": [],
   "source": [
    "pd.set_option('display.max_colwidth', -1)\n",
    "pd.set_option('max_colwidth', 260)"
   ]
  },
  {
   "cell_type": "code",
   "execution_count": 4,
   "metadata": {},
   "outputs": [],
   "source": [
    "dfModel=pd.read_pickle(\"./modeldata.df\")"
   ]
  },
  {
   "cell_type": "code",
   "execution_count": 10,
   "metadata": {},
   "outputs": [
    {
     "data": {
      "text/html": [
       "<div>\n",
       "<style scoped>\n",
       "    .dataframe tbody tr th:only-of-type {\n",
       "        vertical-align: middle;\n",
       "    }\n",
       "\n",
       "    .dataframe tbody tr th {\n",
       "        vertical-align: top;\n",
       "    }\n",
       "\n",
       "    .dataframe thead th {\n",
       "        text-align: right;\n",
       "    }\n",
       "</style>\n",
       "<table border=\"1\" class=\"dataframe\">\n",
       "  <thead>\n",
       "    <tr style=\"text-align: right;\">\n",
       "      <th></th>\n",
       "      <th>sentence</th>\n",
       "      <th>act</th>\n",
       "      <th>y</th>\n",
       "    </tr>\n",
       "  </thead>\n",
       "  <tbody>\n",
       "    <tr>\n",
       "      <th>5</th>\n",
       "      <td>We benchmark these first modeling results based on different GEANT4 physics lists with the energetic particle spectra recently measured by the Radiation Assessment Detector (RAD) on the surface of Mars.</td>\n",
       "      <td>benchmark</td>\n",
       "      <td>1</td>\n",
       "    </tr>\n",
       "    <tr>\n",
       "      <th>18</th>\n",
       "      <td>We use a 3D dry dynamic core model, accompanied by an eddy-free configuration and a generalized 2D Eady model.</td>\n",
       "      <td>use</td>\n",
       "      <td>0</td>\n",
       "    </tr>\n",
       "    <tr>\n",
       "      <th>25</th>\n",
       "      <td>We propose a new mechanism to explain the mid-latitude eddy structure for both cases, and verify it using the generalized Eady model.</td>\n",
       "      <td>propose</td>\n",
       "      <td>0</td>\n",
       "    </tr>\n",
       "    <tr>\n",
       "      <th>31</th>\n",
       "      <td>We start by doing a model-independent analysis (studying the internal consistency of the various available datasets) but also explore specific phenomenological models motivated by string theory and grand unification.</td>\n",
       "      <td>start</td>\n",
       "      <td>0</td>\n",
       "    </tr>\n",
       "    <tr>\n",
       "      <th>50</th>\n",
       "      <td>To verify aspects of our analytic treatment, we compare our model to more sophisticated \"full physics\" tools as applied to Venus, Earth, and a cloudfree Jupiter, thereby exploring a diversity of atmospheric conditions.</td>\n",
       "      <td>compare</td>\n",
       "      <td>1</td>\n",
       "    </tr>\n",
       "    <tr>\n",
       "      <th>51</th>\n",
       "      <td>Next, we seek to better understand our analytic model by exploring how thermal radiative flux profiles respond to variations in key physical parameters, such as the total grey thermal optical depth of the atmosphere.</td>\n",
       "      <td>seek</td>\n",
       "      <td>0</td>\n",
       "    </tr>\n",
       "    <tr>\n",
       "      <th>53</th>\n",
       "      <td>Lastly, we use our analytic treatment to discuss the validity of other simple models of convective fluxes in planetary atmospheres.</td>\n",
       "      <td>use</td>\n",
       "      <td>0</td>\n",
       "    </tr>\n",
       "    <tr>\n",
       "      <th>76</th>\n",
       "      <td>Finally, we suggest that large parts of Uranus' interior might be conductive, a conclusion that is consistent with Uranus dynamo models and a hot central inner region.</td>\n",
       "      <td>suggest</td>\n",
       "      <td>0</td>\n",
       "    </tr>\n",
       "    <tr>\n",
       "      <th>139</th>\n",
       "      <td>To this end, we present LEVI a new chemical kinetics code for modelling exoplanetary atmospheres.</td>\n",
       "      <td>present</td>\n",
       "      <td>0</td>\n",
       "    </tr>\n",
       "    <tr>\n",
       "      <th>145</th>\n",
       "      <td>We find that our models are consistent with the detected species, albeit with a narrow compositional window around C/O ̃ 1.</td>\n",
       "      <td>find</td>\n",
       "      <td>0</td>\n",
       "    </tr>\n",
       "    <tr>\n",
       "      <th>149</th>\n",
       "      <td>We aim to compare the transmission and emission spectra results of a 3D Monte Carlo radiative transfer (MCRT) model to contemporary radiative-transfer suites.</td>\n",
       "      <td>aim</td>\n",
       "      <td>1</td>\n",
       "    </tr>\n",
       "    <tr>\n",
       "      <th>150</th>\n",
       "      <td>We perform several benchmarking tests of an MCRT code, Cloudy Monte Carlo Radiative Transfer (CMCRT), to transmission and emission spectra model output.</td>\n",
       "      <td>perform</td>\n",
       "      <td>0</td>\n",
       "    </tr>\n",
       "    <tr>\n",
       "      <th>151</th>\n",
       "      <td>We add flexibility to the model through the use of k-distribution tables as input opacities.</td>\n",
       "      <td>add</td>\n",
       "      <td>0</td>\n",
       "    </tr>\n",
       "    <tr>\n",
       "      <th>155</th>\n",
       "      <td>We suggest that differences in the benchmark results are likely caused by geometric effects between plane-parallel and spherical models.</td>\n",
       "      <td>suggest</td>\n",
       "      <td>0</td>\n",
       "    </tr>\n",
       "    <tr>\n",
       "      <th>156</th>\n",
       "      <td>In a practical application, we post-process a cloudy 3D HD 189733b GCM model and compare to available observational data.</td>\n",
       "      <td>process</td>\n",
       "      <td>1</td>\n",
       "    </tr>\n",
       "    <tr>\n",
       "      <th>217</th>\n",
       "      <td>We employ a thermo-chemical model of the disc reproducing both continuum and gas radial intensity profiles, together with the disc spectral energy distribution.</td>\n",
       "      <td>employ</td>\n",
       "      <td>0</td>\n",
       "    </tr>\n",
       "    <tr>\n",
       "      <th>253</th>\n",
       "      <td>Here, we present a model that allows for changes in the planetary radius as well as variations in the planetary and stellar dissipation parameters, caused by the planet's contraction and change of rotational rates from the strong tidal fields.</td>\n",
       "      <td>present</td>\n",
       "      <td>0</td>\n",
       "    </tr>\n",
       "    <tr>\n",
       "      <th>261</th>\n",
       "      <td>We describe a Bayesian mixture-model approach to automated data-quality monitoring.</td>\n",
       "      <td>describe</td>\n",
       "      <td>0</td>\n",
       "    </tr>\n",
       "    <tr>\n",
       "      <th>300</th>\n",
       "      <td>We introduce our method for investigating these transitional discs, which takes a forward modelling approach: making a model of the disc (using the Monte Carlo radiative transfer code RADMC3D), convolving it with point spread functions of calibrator stars,...</td>\n",
       "      <td>introduce</td>\n",
       "      <td>0</td>\n",
       "    </tr>\n",
       "    <tr>\n",
       "      <th>344</th>\n",
       "      <td>In this study, we build models for all major nearby young stellar moving groups (NYMGs hereafter) through four stages.</td>\n",
       "      <td>build</td>\n",
       "      <td>0</td>\n",
       "    </tr>\n",
       "  </tbody>\n",
       "</table>\n",
       "</div>"
      ],
      "text/plain": [
       "                                                                                                                                                                                                                                                                sentence  \\\n",
       "5                                                             We benchmark these first modeling results based on different GEANT4 physics lists with the energetic particle spectra recently measured by the Radiation Assessment Detector (RAD) on the surface of Mars.   \n",
       "18                                                                                                                                                        We use a 3D dry dynamic core model, accompanied by an eddy-free configuration and a generalized 2D Eady model.   \n",
       "25                                                                                                                                 We propose a new mechanism to explain the mid-latitude eddy structure for both cases, and verify it using the generalized Eady model.   \n",
       "31                                              We start by doing a model-independent analysis (studying the internal consistency of the various available datasets) but also explore specific phenomenological models motivated by string theory and grand unification.   \n",
       "50                                            To verify aspects of our analytic treatment, we compare our model to more sophisticated \"full physics\" tools as applied to Venus, Earth, and a cloudfree Jupiter, thereby exploring a diversity of atmospheric conditions.   \n",
       "51                                              Next, we seek to better understand our analytic model by exploring how thermal radiative flux profiles respond to variations in key physical parameters, such as the total grey thermal optical depth of the atmosphere.   \n",
       "53                                                                                                                                   Lastly, we use our analytic treatment to discuss the validity of other simple models of convective fluxes in planetary atmospheres.   \n",
       "76                                                                                               Finally, we suggest that large parts of Uranus' interior might be conductive, a conclusion that is consistent with Uranus dynamo models and a hot central inner region.   \n",
       "139                                                                                                                                                                    To this end, we present LEVI a new chemical kinetics code for modelling exoplanetary atmospheres.   \n",
       "145                                                                                                                                          We find that our models are consistent with the detected species, albeit with a narrow compositional window around C/O ̃ 1.   \n",
       "149                                                                                                       We aim to compare the transmission and emission spectra results of a 3D Monte Carlo radiative transfer (MCRT) model to contemporary radiative-transfer suites.   \n",
       "150                                                                                                             We perform several benchmarking tests of an MCRT code, Cloudy Monte Carlo Radiative Transfer (CMCRT), to transmission and emission spectra model output.   \n",
       "151                                                                                                                                                                         We add flexibility to the model through the use of k-distribution tables as input opacities.   \n",
       "155                                                                                                                             We suggest that differences in the benchmark results are likely caused by geometric effects between plane-parallel and spherical models.   \n",
       "156                                                                                                                                            In a practical application, we post-process a cloudy 3D HD 189733b GCM model and compare to available observational data.   \n",
       "217                                                                                                     We employ a thermo-chemical model of the disc reproducing both continuum and gas radial intensity profiles, together with the disc spectral energy distribution.   \n",
       "253                  Here, we present a model that allows for changes in the planetary radius as well as variations in the planetary and stellar dissipation parameters, caused by the planet's contraction and change of rotational rates from the strong tidal fields.   \n",
       "261                                                                                                                                                                                  We describe a Bayesian mixture-model approach to automated data-quality monitoring.   \n",
       "300  We introduce our method for investigating these transitional discs, which takes a forward modelling approach: making a model of the disc (using the Monte Carlo radiative transfer code RADMC3D), convolving it with point spread functions of calibrator stars,...   \n",
       "344                                                                                                                                               In this study, we build models for all major nearby young stellar moving groups (NYMGs hereafter) through four stages.   \n",
       "\n",
       "           act  y  \n",
       "5    benchmark  1  \n",
       "18         use  0  \n",
       "25     propose  0  \n",
       "31       start  0  \n",
       "50     compare  1  \n",
       "51        seek  0  \n",
       "53         use  0  \n",
       "76     suggest  0  \n",
       "139    present  0  \n",
       "145       find  0  \n",
       "149        aim  1  \n",
       "150    perform  0  \n",
       "151        add  0  \n",
       "155    suggest  0  \n",
       "156    process  1  \n",
       "217     employ  0  \n",
       "253    present  0  \n",
       "261   describe  0  \n",
       "300  introduce  0  \n",
       "344      build  0  "
      ]
     },
     "execution_count": 10,
     "metadata": {},
     "output_type": "execute_result"
    }
   ],
   "source": [
    "dfModel.head(20)"
   ]
  },
  {
   "cell_type": "code",
   "execution_count": 11,
   "metadata": {},
   "outputs": [
    {
     "data": {
      "text/plain": [
       "(6870, 9634)"
      ]
     },
     "execution_count": 11,
     "metadata": {},
     "output_type": "execute_result"
    }
   ],
   "source": [
    "from sklearn.feature_extraction.text import CountVectorizer\n",
    "count_vect = CountVectorizer()\n",
    "X_train_counts = count_vect.fit_transform(dfModel[\"sentence\"])\n",
    "X_train_counts.shape"
   ]
  },
  {
   "cell_type": "code",
   "execution_count": 13,
   "metadata": {},
   "outputs": [
    {
     "data": {
      "text/plain": [
       "(6870, 9634)"
      ]
     },
     "execution_count": 13,
     "metadata": {},
     "output_type": "execute_result"
    }
   ],
   "source": [
    "from sklearn.feature_extraction.text import TfidfTransformer\n",
    "tfidf_transformer = TfidfTransformer()\n",
    "X_train_tfidf = tfidf_transformer.fit_transform(X_train_counts)\n",
    "X_train_tfidf.shape"
   ]
  },
  {
   "cell_type": "code",
   "execution_count": 16,
   "metadata": {},
   "outputs": [],
   "source": [
    "from sklearn.naive_bayes import MultinomialNB\n",
    "clf = MultinomialNB().fit(X_train_tfidf, dfModel[\"y\"])"
   ]
  },
  {
   "cell_type": "code",
   "execution_count": 18,
   "metadata": {},
   "outputs": [],
   "source": [
    "from sklearn.pipeline import Pipeline\n",
    "text_clf = Pipeline([('vect', CountVectorizer()),\n",
    "                      ('tfidf', TfidfTransformer()),\n",
    "                      ('clf', MultinomialNB()),\n",
    "                    ])\n",
    "text_clf = text_clf.fit(dfModel[\"sentence\"], dfModel[\"y\"])"
   ]
  },
  {
   "cell_type": "code",
   "execution_count": 19,
   "metadata": {},
   "outputs": [
    {
     "data": {
      "text/plain": [
       "0.9400291120815139"
      ]
     },
     "execution_count": 19,
     "metadata": {},
     "output_type": "execute_result"
    }
   ],
   "source": [
    "import numpy as np\n",
    "predicted = text_clf.predict(dfModel[\"sentence\"])\n",
    "np.mean(predicted == dfModell[\"y\"])"
   ]
  }
 ],
 "metadata": {
  "kernelspec": {
   "display_name": "Python 3",
   "language": "python",
   "name": "python3"
  },
  "language_info": {
   "codemirror_mode": {
    "name": "ipython",
    "version": 3
   },
   "file_extension": ".py",
   "mimetype": "text/x-python",
   "name": "python",
   "nbconvert_exporter": "python",
   "pygments_lexer": "ipython3",
   "version": "3.7.3"
  }
 },
 "nbformat": 4,
 "nbformat_minor": 4
}
