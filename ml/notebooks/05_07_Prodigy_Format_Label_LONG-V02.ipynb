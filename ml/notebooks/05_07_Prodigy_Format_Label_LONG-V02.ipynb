{
 "cells": [
  {
   "cell_type": "markdown",
   "metadata": {},
   "source": [
    " # Regex and Prodigy (LABEL: LONG)"
   ]
  },
  {
   "cell_type": "markdown",
   "metadata": {},
   "source": [
    "<font size= \"3\">\n",
    "Annotation of entities for sentences based on prodigy's format for different labels for further usage in Machine learning. Prodigy is an annotation tool based on spaCy. Please see here:\n",
    "    </p>\n",
    "  <a href=\"https://prodi.gy/ \"> Prodigy </a> \n",
    "<font 3>"
   ]
  },
  {
   "cell_type": "markdown",
   "metadata": {},
   "source": [
    "## Imports"
   ]
  },
  {
   "cell_type": "code",
   "execution_count": 6,
   "metadata": {
    "collapsed": true
   },
   "outputs": [],
   "source": [
    "import pandas as pd\n",
    "import numpy as np\n",
    "import re\n",
    "import pandas as pd\n",
    "import matplotlib.pyplot as plt\n",
    "import scipy as sp\n",
    "import spacy \n",
    "import re\n",
    "from prodigy.util import write_jsonl\n",
    "\n"
   ]
  },
  {
   "cell_type": "code",
   "execution_count": 7,
   "metadata": {},
   "outputs": [
    {
     "data": {
      "text/plain": [
       "'C:\\\\Projects_28_06\\\\notebooks\\\\yeghaneh\\\\ml\\\\notebooks'"
      ]
     },
     "execution_count": 7,
     "metadata": {},
     "output_type": "execute_result"
    }
   ],
   "source": [
    "pwd"
   ]
  },
  {
   "cell_type": "markdown",
   "metadata": {},
   "source": [
    "## Read the Data"
   ]
  },
  {
   "cell_type": "code",
   "execution_count": 8,
   "metadata": {
    "collapsed": true
   },
   "outputs": [],
   "source": [
    "importVersion = '013'"
   ]
  },
  {
   "cell_type": "code",
   "execution_count": 9,
   "metadata": {
    "collapsed": true
   },
   "outputs": [],
   "source": [
    "path= '../data/01_df_v{0}.pickle'.format(importVersion)# Put the path of the data in your local machine here, consider the letter \"r\" before the path\n",
    "dfAstroNova = pd.read_pickle(path)"
   ]
  },
  {
   "cell_type": "markdown",
   "metadata": {},
   "source": [
    "# Sort based on the Chapter "
   ]
  },
  {
   "cell_type": "code",
   "execution_count": 10,
   "metadata": {},
   "outputs": [],
   "source": [
    "# Sort the data based on the chapters of the book \n",
    "dfAstroNova['chapter'] = dfAstroNova.chapter.replace(\"appendix b\",np.nan).astype(float)  \n",
    "dfAstroNova = dfAstroNova.rename_axis('MyIdx').sort_values(by = ['chapter', 'MyIdx'], ascending = [True, True])\n",
    "dfAstroNova.chapter.fillna('appendix b', inplace=True)"
   ]
  },
  {
   "cell_type": "code",
   "execution_count": 11,
   "metadata": {},
   "outputs": [],
   "source": [
    "dfAstroNova.reset_index(inplace=True)\n",
    "dfAstroNova=dfAstroNova.drop(\"MyIdx\",axis=1,inplace=False)\n",
    "dfAstroNova=dfAstroNova.drop(\"html\",axis=1)"
   ]
  },
  {
   "cell_type": "code",
   "execution_count": 12,
   "metadata": {},
   "outputs": [
    {
     "data": {
      "text/plain": [
       "pandas.core.frame.DataFrame"
      ]
     },
     "execution_count": 12,
     "metadata": {},
     "output_type": "execute_result"
    }
   ],
   "source": [
    "type(dfAstroNova)"
   ]
  },
  {
   "cell_type": "code",
   "execution_count": 13,
   "metadata": {},
   "outputs": [
    {
     "data": {
      "text/html": [
       "<div>\n",
       "<style scoped>\n",
       "    .dataframe tbody tr th:only-of-type {\n",
       "        vertical-align: middle;\n",
       "    }\n",
       "\n",
       "    .dataframe tbody tr th {\n",
       "        vertical-align: top;\n",
       "    }\n",
       "\n",
       "    .dataframe thead th {\n",
       "        text-align: right;\n",
       "    }\n",
       "</style>\n",
       "<table border=\"1\" class=\"dataframe\">\n",
       "  <thead>\n",
       "    <tr style=\"text-align: right;\">\n",
       "      <th></th>\n",
       "      <th>text</th>\n",
       "      <th>links</th>\n",
       "      <th>italic</th>\n",
       "      <th>chapter</th>\n",
       "      <th>graphic</th>\n",
       "      <th>table</th>\n",
       "      <th>marginal</th>\n",
       "      <th>sentences</th>\n",
       "      <th>tagged</th>\n",
       "    </tr>\n",
       "  </thead>\n",
       "  <tbody>\n",
       "    <tr>\n",
       "      <th>0</th>\n",
       "      <td>Chapter 1</td>\n",
       "      <td>[]</td>\n",
       "      <td>[]</td>\n",
       "      <td>1</td>\n",
       "      <td>[]</td>\n",
       "      <td>[]</td>\n",
       "      <td>[]</td>\n",
       "      <td>[Chapter 1]</td>\n",
       "      <td>[[(Chapter, None), (1, NUM)]]</td>\n",
       "    </tr>\n",
       "    <tr>\n",
       "      <th>1</th>\n",
       "      <td>On the distinction between the first motion an...</td>\n",
       "      <td>[]</td>\n",
       "      <td>[]</td>\n",
       "      <td>1</td>\n",
       "      <td>[]</td>\n",
       "      <td>[]</td>\n",
       "      <td>[]</td>\n",
       "      <td>[On the distinction between the first motion a...</td>\n",
       "      <td>[[(On, None), (the, None), (distinction, None)...</td>\n",
       "    </tr>\n",
       "    <tr>\n",
       "      <th>2</th>\n",
       "      <td>The testimony of the ages confirms that the mo...</td>\n",
       "      <td>[]</td>\n",
       "      <td>[]</td>\n",
       "      <td>1</td>\n",
       "      <td>[]</td>\n",
       "      <td>[]</td>\n",
       "      <td>[ Terms: 1. The first motion is that of the wh...</td>\n",
       "      <td>[The testimony of the ages confirms that the m...</td>\n",
       "      <td>[[(The, None), (testimony, None), (of, None), ...</td>\n",
       "    </tr>\n",
       "    <tr>\n",
       "      <th>3</th>\n",
       "      <td>It is just this from which astronomy arose amo...</td>\n",
       "      <td>[]</td>\n",
       "      <td>[]</td>\n",
       "      <td>1</td>\n",
       "      <td>[ ch 1 gr 1]</td>\n",
       "      <td>[]</td>\n",
       "      <td>[]</td>\n",
       "      <td>[It is just this from which astronomy arose am...</td>\n",
       "      <td>[[(It, None), (is, None), (just, None), (this,...</td>\n",
       "    </tr>\n",
       "    <tr>\n",
       "      <th>4</th>\n",
       "      <td>Before the distinction between the first motio...</td>\n",
       "      <td>[]</td>\n",
       "      <td>[(such]</td>\n",
       "      <td>1</td>\n",
       "      <td>[]</td>\n",
       "      <td>[]</td>\n",
       "      <td>[ 2]</td>\n",
       "      <td>[Before the distinction between the first moti...</td>\n",
       "      <td>[[(Before, None), (the, None), (distinction, N...</td>\n",
       "    </tr>\n",
       "  </tbody>\n",
       "</table>\n",
       "</div>"
      ],
      "text/plain": [
       "                                                text links   italic chapter  \\\n",
       "0                                          Chapter 1    []       []       1   \n",
       "1  On the distinction between the first motion an...    []       []       1   \n",
       "2  The testimony of the ages confirms that the mo...    []       []       1   \n",
       "3  It is just this from which astronomy arose amo...    []       []       1   \n",
       "4  Before the distinction between the first motio...    []  [(such]       1   \n",
       "\n",
       "        graphic table                                           marginal  \\\n",
       "0            []    []                                                 []   \n",
       "1            []    []                                                 []   \n",
       "2            []    []  [ Terms: 1. The first motion is that of the wh...   \n",
       "3  [ ch 1 gr 1]    []                                                 []   \n",
       "4            []    []                                               [ 2]   \n",
       "\n",
       "                                           sentences  \\\n",
       "0                                        [Chapter 1]   \n",
       "1  [On the distinction between the first motion a...   \n",
       "2  [The testimony of the ages confirms that the m...   \n",
       "3  [It is just this from which astronomy arose am...   \n",
       "4  [Before the distinction between the first moti...   \n",
       "\n",
       "                                              tagged  \n",
       "0                      [[(Chapter, None), (1, NUM)]]  \n",
       "1  [[(On, None), (the, None), (distinction, None)...  \n",
       "2  [[(The, None), (testimony, None), (of, None), ...  \n",
       "3  [[(It, None), (is, None), (just, None), (this,...  \n",
       "4  [[(Before, None), (the, None), (distinction, N...  "
      ]
     },
     "execution_count": 13,
     "metadata": {},
     "output_type": "execute_result"
    }
   ],
   "source": [
    "dfAstroNova.head(5)"
   ]
  },
  {
   "cell_type": "code",
   "execution_count": 14,
   "metadata": {},
   "outputs": [
    {
     "data": {
      "text/plain": [
       "1605"
      ]
     },
     "execution_count": 14,
     "metadata": {},
     "output_type": "execute_result"
    }
   ],
   "source": [
    "len(dfAstroNova)"
   ]
  },
  {
   "cell_type": "markdown",
   "metadata": {},
   "source": [
    "### Read the Sentences"
   ]
  },
  {
   "cell_type": "code",
   "execution_count": 15,
   "metadata": {},
   "outputs": [],
   "source": [
    "df=dfAstroNova.sentences"
   ]
  },
  {
   "cell_type": "code",
   "execution_count": 17,
   "metadata": {},
   "outputs": [],
   "source": [
    "sents=[]\n",
    "for para in dfAstroNova.sentences:\n",
    "    sents +=para"
   ]
  },
  {
   "cell_type": "markdown",
   "metadata": {},
   "source": [
    "## Annotation Based on Consistant format with Prodigy "
   ]
  },
  {
   "cell_type": "markdown",
   "metadata": {},
   "source": [
    "<fig size= 3>\n",
    "Prodigy accept a specific format; a JSONL format (newline-delimited JSON). Entities and other highlighted spans of text can be defined in the \"spans\" property. A example could look like this dictionary:\n",
    "</p>    \n",
    "text': 'On 1595 October 30 at 8h 20m, they found Mars at 17° 48’ Taurus, with a diurnal motion of 22’ 54” ^15.',\n",
    "  'spans': [{'start': 22, 'end': 29, 'label': 'TIME'}]}\n",
    "</p>\n",
    "which start and end's numbers refer to the position of entitiy  in the sentence. (here PARA)\n",
    "\n",
    "    \n",
    "<fig size>"
   ]
  },
  {
   "cell_type": "code",
   "execution_count": 40,
   "metadata": {},
   "outputs": [],
   "source": [
    "label = \"LONG\"   \n",
    "texts = sents  \n",
    "\n",
    "regex_patterns = [\n",
    "                  re.compile(r\"\\d{1,3}\\s?°\\s?\\d{1,2}\\s?[\\'|’]\\s?\\d{1,2}\\s?[\\\"|”|“]\\s?[A-Z][a-z.]+\"\n",
    "                              \"|\\d{1,3}\\s?°\\s?\\d{1,2}\\s?[\\'|’]\\s?\\d{1,2}\\s?[\\\"|”|“]\")           \n",
    "]\n",
    " \n",
    "#(5° 20\\' 2\\\"  Libra,|21° 44\\' 56\\\"  Sagittarius,|(?<!\\S)\\d{1,2}\\s?°\\s\\d{1,2}\\s?[\\'|’]\\s?\\d{1,2}\\s?[\\\"|”]\\s[A-Z][a-z]+(?!\\S?\\S)|(?<!\\S)\\d{1,2}\\s?°\\s\\d{1,2}\\s?[\\'|’]\\s?\\d{1,2}\\s?[\\\"|”].?(?!\\S?\\S)|(?<!\\S)\\d{1,2}\\s?°\\s?\\d{1,2}\\s?[\\'|’]\\s?[A-Z][a-z]+(?!\\S?\\S))[,:/.]?\n",
    "examples = []\n",
    "for text in texts:\n",
    "    for expression in regex_patterns:\n",
    "        spans = []\n",
    "    for match in re.finditer(expression, text):\n",
    "        start, end = match.span()\n",
    "        span = {\"start\": start, \"end\": end, \"label\": label}\n",
    "        spans.append(span)\n",
    "    task = {\"text\": text, \"spans\": spans}\n",
    "    examples.append(task)              \n",
    "\n",
    "#write_jsonl(\"NER_LONG_05_01.jsonl\", examples)"
   ]
  },
  {
   "cell_type": "code",
   "execution_count": 41,
   "metadata": {},
   "outputs": [
    {
     "data": {
      "text/plain": [
       "[{'text': 'The former is closer to the sun’s mean position.', 'spans': []},\n",
       " {'text': 'On 1591 June 6 at 12h 20m, Mars is placed at 27° 15’ Sagittarius ^11.',\n",
       "  'spans': []},\n",
       " {'text': 'There remained 2 days 4 hours and 5 minutes until the designated moment.',\n",
       "  'spans': []},\n",
       " {'text': 'In four days it was found to be moved forward 1° 12’ 47”.',\n",
       "  'spans': [{'start': 46, 'end': 56, 'label': 'LONG'}]},\n",
       " {'text': 'Therefore, to 2d 4h 5m correspond 39’ 29”.', 'spans': []},\n",
       " {'text': 'Consequently, at that moment Mars was at 26° 35’ 31” Sagittarius.',\n",
       "  'spans': [{'start': 41, 'end': 65, 'label': 'LONG'}]}]"
      ]
     },
     "execution_count": 41,
     "metadata": {},
     "output_type": "execute_result"
    }
   ],
   "source": [
    "examples[1000:1006]"
   ]
  },
  {
   "cell_type": "code",
   "execution_count": 43,
   "metadata": {},
   "outputs": [],
   "source": [
    "def print_sents_entities(examples):\n",
    "    for example in examples:\n",
    "        if example[\"spans\"]!=[]:\n",
    "            sent,entity=example['text'], example['text'][example[\"spans\"][0][\"start\"]:example[\"spans\"][0][\"end\"]]\n",
    "            print(sent,[entity])"
   ]
  },
  {
   "cell_type": "code",
   "execution_count": 44,
   "metadata": {},
   "outputs": [
    {
     "name": "stdout",
     "output_type": "stream",
     "text": [
      "Therefore, as 100,000 is to 70,711, so is 7560 to 5346, the sine of the arc of 3° 4' 52\", which is CEB. ['3° 4\\' 52\"']\n",
      "Subtracting this from 45° leaves CBE, 41° 55' 8\", whose half is 20° 57' 34\", the tangent to which arc is 38,304. ['41° 55\\' 8\"']\n",
      "The product, that is, 29,732, is the tangent of the arc 16° 33' 30\", which, subtracted from the half of CBE, found above, leaves 4° 24' 4\", which is the angle BEA. ['16° 33\\' 30\"']\n",
      "Therefore, the whole, CEA, is 7° 28' 56\", in the Ptolemaic form. ['7° 28\\' 56\"']\n",
      "Therefore, as οξ is to ξα, so is the whole sine4 to the tangent of αοξ or οαβ, 76,852, giving an angle of 37° 32' 37\", which differs from the arc 45° by 7° 27' 23\". ['37° 32\\' 37\"']\n",
      "Therefore, since ECB is right, and EB is 100,000, BC will be the sine of the angle CEB, or 4° 20' 8\". ['4° 20\\' 8\"']\n",
      "Therefore, EBC is 85° 39' 52\", and EC is 99,713. ['85° 39\\' 52\"']\n",
      "Hence, the equation, CEA, is 11° 25' 48\". ['11° 25\\' 48\"']\n",
      "Therefore, ηαδ is 11° 23' 53\". ['11° 23\\' 53\"']\n",
      "Now, from these three given quantities, γα, Mars’s new eccentricity, will also be given, and will be 27,971, while the angle δγα is 5° 27’ 47”. ['5° 27’ 47”']\n",
      "On the supposition that the old apogee of Mars δγ is positioned at 23° 32' 16\" Leo, Mars’s new apogee αγ will fall at 29° 0’ 16” Leo. ['23° 32\\' 16\" Leo']\n",
      "Again, after a certain amount of time, whose measure shall be ιγζ or εγκ, whose vertical angle is δγα, just found to be 5° 27’ 47”, let a common moment be taken, represented by γκζ. ['5° 27’ 47”']\n",
      "This will be revealed by the triangle βγχ, in which βχ is parallel to θγ, the angle at χ is right, and γβχ is equal to θγβ (5° 27’ 47”) and βγ is 6763. ['5° 27’ 47”']\n",
      "These come out to be 78° 51’ 54” and 78° 47’ 30”. ['78° 51’ 54”']\n",
      "Now we said above12 that in δλρ, δλ is 741113 where λρ is 100,000, and ρλβ is 47° 59’ 16”. ['47° 59’ 16”']\n",
      "This gives ρδλ a value of 44° 59’ 10”, and δρ 105,123. ['44° 59’ 10”']\n",
      "Therefore, in εδμ, since εδλ is 44° 59’ 10”, and λδμ earlier came out to be 5° 27’ 47”, the whole εδμ is 50° 26’ 57”, and δμ above was 6763 where με is 100,000. ['44° 59’ 10”']\n",
      "Therefore, in εδμ, with three magnitudes  given the rest are given: εμκ is 53° 26’ 17”, and through this, δε is 104,170. ['53° 26’ 17”']\n",
      "In triangle δβι, the angle at ι is right, and βδι is 44° 59’ 10”, and βδ was found to be 19,763, above. ['44° 59’ 10”']\n",
      "Therefore, αβψ is 7° 30’ 10”. ['7° 30’ 10”']\n",
      "But above, αβ or ρδ were inclined to ρλ or βκ by 3° 0’ 6”, which latter lies at 5½˚ Cancer. ['3° 0’ 6”']\n",
      "For since οψ was found to be 25,772, and ορ 476½, οψε will be 1° 3’ 32” But ρνε  (which is what we have been seeking) is equal to οψε, by Euclid III. ['1° 3’ 32” But']\n",
      "First, the sun’s position is 26° 45’ 24” Gemini. ['26° 45’ 24” Gemini.']\n",
      "Now the computed position on Mars’s orbit is 26° 24’ 43” Sagittarius. ['26° 24’ 43” Sagittarius.']\n",
      "Therefore, the computed position on the ecliptic would be 26° 24’ 13” Sagittarius, a difference from opposition to the sun of 21’ 11”. ['26° 24’ 13” Sagittarius']\n",
      "On 1580 November 12 at 10h 50m,1 they set Mars down at 8° 36’ 50” Gemini2 without mentioning the horizontal variations,  by which term I wish the diurnal parallaxes and the refractions to be understood in what follows. ['8° 36’ 50” Gemini']\n",
      "Therefore, on the seventeenth at the same hour of 10h 50m, Mars ought to have been seen at either 6° 41’ 50” Gemini, or 6° 44’ 50”. ['6° 41’ 50” Gemini']\n",
      "At 9h 40m (which Tycho gives as the moment of opposition), it is 1’ 4” farther forward, at either 6° 42’ 54” or 6° 45’ 54”. ['6° 42’ 54”']\n",
      "They put it at 6° 46’ 10” Gemini. ['6° 46’ 10” Gemini.']\n",
      "Tycho therefore puts it at 16° 46’ 16” Cancer ^7. ['16° 46’ 16” Cancer']\n",
      "On 1585 January 31 at 12h 0m, Mars was placed at 21° 18’ 11” Leo ^8. ['21° 18’ 11” Leo']\n",
      "Therefore, at the designated moment, it would have been at 21° 10’ 30” Leo, which is what was accepted. ['21° 10’ 30” Leo']\n",
      "On 1587 March 7 at 19h 10m they deduced the position of Mars from the observations, which was 25° 10’ 20” Virgo. ['25° 10’ 20” Virgo.']\n",
      "It therefore should have been 25° 8’ 32” Virgo, which also approaches nearer the point opposite the sun. ['25° 8’ 32” Virgo']\n",
      "On 1589 April 15 at 12h 5m they established the position of Mars very carefully at 3° 58' 21\" Scorpio, and corrected for longitudinal parallax so as to make it 3° 57’ 11” ^10. ['3° 58\\' 21\" Scorpio']\n",
      "There remain 1h 30m until the designated moment of opposition, which, for a diurnal motion of 22', bring the planet back 1’ 22”, so as to be at 3° 55’ 49”. ['3° 55’ 49”']\n",
      "They took the value of 3° 58’ 10”. ['3° 58’ 10”']\n",
      "In four days it was found to be moved forward 1° 12’ 47”. ['1° 12’ 47”']\n",
      "Consequently, at that moment Mars was at 26° 35’ 31” Sagittarius. ['26° 35’ 31” Sagittarius.']\n",
      "Therefore, the planet falls at 12° 43’ 48” Pisces. ['12° 43’ 48” Pisces.']\n",
      "And the table has 12° 43’ 45”. ['12° 43’ 45”']\n",
      "The designated moment preceded by 11h 48m, for which is required a motion of Mars of 11’ 7” eastward, so that it would be at 17° 59’ 7” Taurus. ['17° 59’ 7” Taurus.']\n",
      "Therefore, possibly using another observation on the meridian, they put down 17° 56’ 15” Taurus in the table. ['17° 56’ 15” Taurus']\n",
      "Hence, Mars is at 10° 38’ 46” Leo, at an adjusted time of 11h 40m reduced to the meridian of Uraniborg. ['10° 38’ 46” Leo']\n",
      "This gives a diurnal motion of 23’ 44”, and a position on January 19/29 at 9h 40m of 8° 18’ 45” Leo, just as they put it. ['8° 18’ 45” Leo']\n",
      "Also, to test the sextant, we measured the interval between Arcturus and Spica as 32° 57’, which should have been 33° 1’ 45”, as is clear if you calculate it using the right ascensions and declinations, or latitudes and longitudes, which Tycho assigned to these stars in Book I of the Progymnasmata ^24. ['33° 1’ 45”']\n",
      "I applied this correction to the distances of Mars from the fixed stars, so as to make it 9° 48’ 45” from Spica, 17° 45’ 45” from the Pan, and 29° 17’ 45” from Arcturus ^25. ['9° 48’ 45”']\n",
      "But from this right ascension, I first select,  from Tycho’s table of right ascensions, the degree of the right sphere that was riding at the same time, 28° 1’ 0” Libra,27 whose declination, from another of that author’s tables,28 is 10° 48’ 30” [South]. ['28° 1’ 0” Libra']\n",
      "Therefore, Mars is distant from the ecliptic, the oblique path, by 3° 0’ 30” on the circle of declination. ['3° 0’ 30”']\n",
      "This gives me a latitude of 2° 48’ 31”. ['2° 48’ 31”']\n",
      "The same operation opposite 21° 1’ shows me what has to be subtracted from the place rising at the same time, namely, 1° 5’ 4”. ['1° 5’ 4”']\n",
      "To test the latitude of Mars, I also consulted the distance from Arcturus, through the star’s latitude and longitude provided from Tycho, and Mars’s longitudinal position just found, and it replied to me that Mars was at a latitude of 2° 47’ 48”. ['2° 47’ 48”']\n",
      "Before, it was at 2° 48’ 31”. ['2° 48’ 31”']\n",
      "On February 22 or March 3 we tested the sextant, just as we had done above, and found 26° 2’ between Canis Minor and Orion’s higher shoulder,33 which the calculation shows to be 26° 2’ 15”. ['26° 2’ 15”']\n",
      "For unless you diminish Mars’s distance from the fixed stars by 5 minutes, the right ascension measured through Spica and through the Pan will be discrepant by 10 minutes, but if (as required by the examination of the sextant) the five minutes be subtracted, they will coincide exactly, and will be 205° 27’ 10”, with declination 7° 35½’. ['205° 27’ 10”']\n",
      "Therefore, the position is 26° 18’ 48” Libra, with latitude 2° 47’ 20”. ['26° 18’ 48” Libra']\n",
      "9, let A be the position of the node, E the planet’s position on the ecliptic in 1595, C the observed sidereal position of the planet, 17° 56’ 5” Taurus, EC the observed latitude, 0° 5’ 15” north. ['17° 56’ 5” Taurus']\n",
      "N, and the right ascension was 22° 35’ 10” ^2. ['22° 35’ 10”']\n",
      "Hence, its position comes out as 24° 22’ 56” Aries, and its latitude as 3’ 12” south. ['24° 22’ 56” Aries']\n",
      "On 1592 January 23 at 10h 15m in the evening, Mars was at 11° 34’ 30” Aries with latitude 0° 2’ south ^3. ['11° 34’ 30” Aries']\n",
      "For after correction of the horizontal variations it retained no more than 0° 0’ 45” north latitude ^7. ['0° 0’ 45”']\n",
      "On 1595 October 27 at 12h 20m, Mars's true latitude after the removal of parallax was 0° 2’ 20” south ^8. ['0° 2’ 20”']\n",
      "On the 28th, when the parallax had similarly been removed, the latitude was 0° 0’ 25” north ^9. ['0° 0’ 25”']\n",
      "I. On the morning of 1595 January 4, when Mars was observed at 7h 10m at altitude 8°, with reference to Spica Virginis and Cor Scorpii,10 it was observed at latitude 0° 3’ 46” N, and it was itself at 13° 36’ 40” Sagittarius ^11. ['0° 3’ 46”']\n",
      "Accordingly, on 1588 November 10 at 6h 30m in the morning the planet Mars was seen at 25° 31’ Virgo, with a latitude of 1° 36’ 45” north, the sun being at 21 Scorpio ^4. ['1° 36’ 45”']\n",
      "The declination of Mars from the equator was 13° 0’ 40” north. ['13° 0’ 40”']\n",
      "Hence, its apparent longitude is found to be 0° 7’ Virgo,7 latitude 1° 36’ 6” N ^8. ['1° 36’ 6”']\n",
      "Hence is found its longitude, 20° 4’ 30” Virgo, and latitude, 2° 16’ 30”, with the sun at 18° Sagittarius, which is 88° from Mars. ['20° 4’ 30” Virgo']\n",
      "Therefore, as AC is to EBC, so is BA to BCA, 2° 43’ 27“ ^23. ['2° 43’ 27“']\n",
      "This, subtracted from EBC, leaves the required angle BAC, 1° 48’ 43“; hence, right at the limit, it would be about 1° 49’ and is somewhat altered if the ratio BA to AC is altered (more on this below). ['1° 48’ 43“']\n",
      "As CA is to the sine of CBE, BA is to the sine of BCA, 4° 21’ 10“. ['4° 21’ 10“']\n",
      "Subtracting from CBE, this leaves the required angle BAC, 1° 41’ 50“. ['1° 41’ 50“']\n",
      "Since at the given time the sun stood at 0° 45’ 36“ Sagittarius, and its motion over five days is 5° 5’, the sum of the two motions will come to 7° 0’. ['0° 45’ 36“ Sagittarius']\n",
      "But the sun is 7° 51’ 24“ removed from opposition to Mars. ['7° 51’ 24“']\n",
      "It should therefore be placed at 6° 28’ 35“ Gemini, a tiny and quite unnecessary correction. ['6° 28’ 35“ Gemini']\n",
      "On the night following 1582 December 28, at 11h 30m, Mars was observed at 16° 47’ Cancer,6 while the true position of the sun was 17° 13’ 45“ Capricorn. ['17° 13’ 45“ Capricorn.']\n",
      "Therefore, as 1° 25’ 18“ is to 24 hours, so is 26’ 45“ to 7 hours 32 minutes. ['1° 25’ 18“']\n",
      "Its position on the ecliptic was 16° 54’ 32“ Cancer, and by reduction to the orbit (a 50“ correction), 16° 55½’ Cancer. ['16° 54’ 32“ Cancer']\n",
      "On 1585 January 31 at 12h 0m, Mars was observed at 21° 18’ 11“ Leo ^7. ['21° 18’ 11“ Leo']\n",
      "The sun was at 22° 21’ 31“Aquarius. ['22° 21’ 31“Aquarius.']\n",
      "The distance was 1° 3’ 20“. ['1° 3’ 20“']\n",
      "Now as 1° 25’ 31“ is to 24 hours, so is 1° 3’ 20“ to 17 hours 46 minutes, to which correspond about 18’ of Mars’s motion. ['1° 25’ 31“']\n",
      "Therefore the time was January 30 at 19h 14m, and Mars’s ecliptic position was 21° 36’ 10“ Leo. ['21° 36’ 10“ Leo.']\n",
      "The latitude, on the authority of the Tychonic table, was 4° 32’ 10“ north. ['4° 32’ 10“']\n",
      "On the night following 1587 March 4, at 1h 16m past midnight, the position of Mars was found to be 26° 26’ 17“ Virgo,8 from Cor Leonis9 and Spica Virginis, with an observed latitude of 3° 38’ 16“ north. ['26° 26’ 17“ Virgo']\n",
      "Therefore, the latitude observed from the center of the earth would be 3° 42’ 22“ north. ['3° 42’ 22“']\n",
      "The sun’s true position was 23° 59’ 11“ Pisces. ['23° 59’ 11“ Pisces.']\n",
      "The stars were 2° 26’ 49“ apart. ['2° 26’ 49“']\n",
      "The sun’s diurnal motion was 59’ 35“, that of Mars 24’, and their sum 1° 23’ 35“. ['1° 23’ 35“']\n",
      "As this is to 24 hours, so is 2° 26’ 49“ to 1 day 18 hours 7 minutes, to which corresponds 42’ 7“ of Mars’s motion. ['2° 26’ 49“']\n",
      "Mars’s position on the ecliptic was 25° 43’ 53“ Virgo. ['25° 43’ 53“ Virgo.']\n",
      "On the night following 1589 April 15 at 12h 5m, the planet was found at 3° 58’ 20“ Scorpio,13 with latitude 1° 4’ 20“ north, decreasing. ['3° 58’ 20“ Scorpio']\n",
      "For there, the northern latitude, free from diurnal parallax (and if there is no refraction), would come out to be 1° 9’ 45“ north. ['1° 9’ 45“']\n",
      "At that moment the sun was at 5° 36’ 20“ Taurus. ['5° 36’ 20“ Taurus.']\n",
      "At this time, therefore, Mars was 1° 39’ 20“ past opposition to the sun. ['1° 39’ 20“']\n",
      "Mars’s diurnal motion, as is clear from comparison with April 13, is 22’ 8“; the sun’s, 58’ 10“; the sum, 1° 20’ 18“. ['1° 20’ 18“']\n",
      "As this is to 24 hours, so is 1° 39’ 20“ to 1 day 5 hours 42 minutes. ['1° 39’ 20“']\n",
      "Its position was 4° 24’ 30“ Scorpio, or a little past, if refraction were applied or if the previously assumed value for the diurnal parallax was too great. ['4° 24’ 30“ Scorpio']\n",
      "On the night following 1591 June 6 at 12h 20m, Mars was found at 27° 14’ 42“ Sagittarius,16 with latitude 3° 55½’ south. ['27° 14’ 42“ Sagittarius']\n",
      "The sun was at 24° 58’ 10“ Gemini. ['24° 58’ 10“ Gemini.']\n",
      "The difference in position between the stars was 2° 16’ 10“. ['2° 16’ 10“']\n",
      "The sun’s diurnal motion was 57’ 8“, and Mars’s (for four days) was 1° 12’ 24“, since on June 10 at 11h 50m it was at 26° 2’ 18“ Sagittarius. ['1° 12’ 24“']\n",
      "The sum of the diurnal motions is 1° 15’ 20“. ['1° 15’ 20“']\n",
      "Mars’s position was 26° 41’ 48“ Sagittarius, to which are added 52“ for reduction to the orbit, so as to make it about 26° 43’ Sagittarius. ['26° 41’ 48“ Sagittarius']\n",
      "On 1593 August 24 at 10h 30m, the ecliptic position of Mars was found  to be 12° 38’ Pisces,18 with latitude 6° 5’ 30“ south. ['6° 5’ 30“']\n",
      "On the August 29th following, at 10h 20m, Mars was observed at 11° 15’ 24“ Pisces, with latitude 5° 52’ 15“ south. ['11° 15’ 24“ Pisces']\n",
      "The motion for the five days was 1° 22’ 36“, and for one day, 16’ 31“. ['1° 22’ 36“']\n",
      "The sun’s position on August 24 at 10½h was 11° 2’ 31“ Virgo. ['11° 2’ 31“ Virgo.']\n",
      "The stars were 1° 35’ 30“ apart. ['1° 35’ 30“']\n",
      "The sum of the diurnal motions was 1° 14’ 51“. ['1° 14’ 51“']\n",
      "On 1595 October 30 at 8h 20m, the planet was found at 17° 47’ 15“ Taurus,19 not far from the nonagesimal. ['17° 47’ 15“ Taurus']\n",
      "The latitude was 0° 5’ 10“ north. ['0° 5’ 10“']\n",
      "The sun’s position was 16° 50’ 30“ Scorpio. ['16° 50’ 30“ Scorpio.']\n",
      "The sun’s diurnal motion was 1° 0’ 35“; that of Mars, 22’ 54“, as appears by comparing the nearby observations. ['1° 0’ 35“']\n",
      "The sum of the diurnal motions was 1° 23’ 29“. ['1° 23’ 29“']\n",
      "Mars’s position was 17° 31’ 40“ Taurus. ['17° 31’ 40“ Taurus.']\n",
      "The sun’s position was 29° 4’ 53“ Sagittarius. ['29° 4’ 53“ Sagittarius.']\n",
      "The distance between the stars was 4° 40’ 37“. ['4° 40’ 37“']\n",
      "Therefore, the sum of the diurnal motions was 1° 25’ 0“. ['1° 25’ 0“']\n",
      "X. On 1600 January 13/23 at 11h 40m, the time being adjusted to Uraniborg time, the planet was observed at 10° 38’ 46“ Leo ^21. ['10° 38’ 46“ Leo']\n",
      "The sun’s position was 3° 26’ 30“ Aquarius. ['3° 26’ 30“ Aquarius.']\n",
      "The stars were 7° 12’ 16“ apart. ['7° 12’ 16“']\n",
      "The sun’s diurnal motion for the next few days was 1° 1’ 3“; that of Mars, 23’ 44“. ['1° 1’ 3“']\n",
      "The sum: 1° 24’ 47“. ['1° 24’ 47“']\n",
      "The latitude, from the table, was 4° 30’ 50“ N.\n",
      "XI. ['4° 30’ 50“ N.']\n",
      "And since the distance between Cor Leonis and Procyon was 37° 22’ 20“, which should have been 37° 19’ 50“,24 we know that the sextant reads 2½ minutes high. ['37° 22’ 20“']\n",
      "For let AB be 3° 43’ 30“ on a parallel close to the ecliptic, B Mars, C the fixed star, and BC 52° 19’ 30“. ['3° 43’ 30“']\n",
      "From these two distances (using the latitudes of the stars and Mars), Mars’s longitude is found to be 13° 19’ 6“ Virgo, by consensus of all measurements. ['13° 19’ 6“ Virgo']\n",
      "Therefore, from the declinations and right ascensions of the fixed stars and our distances, Mars’s position is determined as 13° 19’ 30“ Virgo, latitude 4° 7’ 55“ ^27. ['13° 19’ 30“ Virgo']\n",
      "At that moment, the sun’s position was 10° 16’ 42“ Pisces. ['10° 16’ 42“ Pisces.']\n",
      "The distance between the bodies was 3° 1’ 18“. ['3° 1’ 18“']\n",
      "The sun’s diurnal motion was 1° 0’ 4“, and that of Mars, 24’ 5“ (for it was 24’ 18“ at 21° Leo in 1585, and 24’ at 26 Virgo in 1587). ['1° 0’ 4“']\n",
      "The sum of the diurnal motions was 1° 24’ 9“. ['1° 24’ 9“']\n",
      "The true opposition therefore followed 2 days 3 hours 43 minutes later, on 21 February/3 March before dawn at 2h 13m, Mars being at 12° 27’ 35“ Virgo. ['12° 27’ 35“ Virgo.']\n",
      "First, the star in the wing of Virgo, adjusted to our time, is at 4° 36’ 30“ Libra with latitude 2° 50’ north. ['4° 36’ 30“ Libra']\n",
      "Fabricius found that Mars is 20° 18’ westward from it on the zodiac, which puts Mars at about 14° 18’ 30“ Virgo. ['14° 18’ 30“ Virgo.']\n",
      "From the Wing of Virgo, I find Mars’s longitude to be 14° 19’ Virgo; from the Neck of Leo, 14° 23’ 36“. ['14° 23’ 36“']\n",
      "The mean of these two is 14° 21’ 18“ Virgo. ['14° 21’ 18“ Virgo.']\n",
      "And now, through this and the latitudes of the fixed stars, together with their distances (17° 26’ from Regulus, 17° 51’ from the Neck of Leo, 37° 28’ from Spica, 44° 15’ from Arcturus), Mars’s position comes out at 11° 21’ 23“ Virgo (from Regulus), 11° 20’ 52“ Virgo (from the Neck of Leo), and 11° 17’ 40“ (from Spica). ['11° 21’ 23“ Virgo']\n",
      "The mean (ignoring Arcturus), 11° 19’ 20“ Virgo, is very nearly true. ['11° 19’ 20“ Virgo']\n",
      "Also, the latitude is greater, namely, 4° 7’ 40“ north. ['4° 7’ 40“']\n",
      "Now the sun’s position at noon is 18° 56’ 24“ Aries, whose right ascension is 17° 27’ 55“. ['18° 56’ 24“ Aries']\n",
      "At our chosen moment, the sun’s position is 19° 20’ 8“ Aries. ['19° 20’ 8“ Aries.']\n",
      "The sum of the diurnal motions is 1° 21’ 14“. ['1° 21’ 14“']\n",
      "Mars’s position was 18° 37’ 50“ Libra. ['18° 37’ 50“ Libra.']\n",
      "For reduction to the orbit, subtract about 39 sec., making Mars’s position 18° 37’ 10“ Libra. ['18° 37’ 10“ Libra.']\n",
      "Here, the apparent longitude was 25° 43’ Virgo, the mean longitude 6s 0° 47’ 40“, and the annual motion of the fixed stars is 51 seconds, as Brahe has demonstrated in the Progymnasmata. ['0° 47’ 40“']\n",
      "Therefore, we must set the apparent position in 1591 at 26° 39’ 23“ Sagittarius, and the mean longitude at 9s 5° 40’ 18“. ['26° 39’ 23“ Sagittarius']\n",
      "And so Mars is to be placed at 12° 10’ 30“ Pisces, with mean longitude 11s 9° 49’ 34“. ['12° 10’ 30“ Pisces']\n",
      "And so Mars is to be placed at 17° 24’ 22“ Taurus, with mean longitude 1s 7° 6’ 51“. ['17° 24’ 22“ Taurus']\n",
      "Now first, we shall assume that the apogee or aphelion in 1587 is at 28° 44’ 0“ Leo, and second, we shall assume that the mean longitudes should be increased by 3’ 16“,17 so that the mean longitudes are 6s 0° 50’ 56“, 9s 5° 43’ 34“, 11s 9° 52’ 50“, and 1s 7° 10’ 7“. ['28° 44’ 0“ Leo']\n",
      "Before, when we had erred in defect by 29’ 15“, the sum of the differences at F and D was 12° 1’ 44“. ['12° 1’ 44“']\n",
      "Now, when we have erred in excess by 1’ 48“, this sum comes out to be 12° 19’ 46“. ['12° 19’ 46“']\n",
      "And so, since 31’ will produce 18’ in the sum of the differences, therefore, 1⅘’ produces about 1’, so that the exact sum is 12° 18’ 44“, whose half, 6° 9’ 22“, is the sum at either F or D.\n",
      "For the Triangles GFE, GBE. ['12° 18’ 44“']\n",
      "HCF is 32° 2' 6\"; GCI 53° 8' 32\"; DCI 11° 0' 44\"; and ECI 68° 18' 1\". ['32° 2\\' 6\"']\n",
      "So, since it was at 28° 49' 8\" Leo, it will now be at 28° 48' 30\" Leo. ['28° 49\\' 8\" Leo']\n",
      "And from the sum of 70° 22' 29\" established above, subtract the difference of 6° 2’ 20\" just found. ['70° 22\\' 29\"']\n",
      "Therefore, the total addition to Tycho's longitude is 3' 55\",23 and the aphelion is placed at 28° 48’ 55\" Leo. ['28° 48’ 55\" Leo.']\n",
      "BC will be the sine of the angle BGC, 4° 8' 51\". ['4° 8\\' 51\"']\n",
      "And GBC will be 85° 51' 9\". ['85° 51\\' 9\"']\n",
      "And in the tangents, this shows 10° 32' 38\" as the common angle of the equation at 90° of anomaly. ['10° 32\\' 38\"']\n",
      "But HBD, the apparent latitude in 1585, was 4° 32' 10\". ['4° 32\\' 10\"']\n",
      "Hence, given the angles HBD and BAD, their difference BDA of 2° 42' 40\" is also given. ['2° 42\\' 40\"']\n",
      "From the preceding chapter, the simple anomaly was 6s 11° 3' 16\". ['11° 3\\' 16\"']\n",
      "I multiply the sine of 11° 3' 16\", namely, 19,174, by 9282 (before, it was to be multiplied by 7232). ['11° 3\\' 16\"']\n",
      "This gives 1780, the sine of the arc 1° 1' 12\", which is part of the equation. ['1° 1\\' 12\"']\n",
      "When this is added to 11° 3' 16\", the sum is the semiequated anomaly, 6s 12° 4' 28\". ['11° 3\\' 16\"']\n",
      "The supplement of this is 167° 55' 32\", whose half is 83° 57' 46\". ['167° 55\\' 32\"']\n",
      "The tangent of this is about 945,500, which, multiplied by the perihelial distance of 90,718 and in turn divided by the aphelial distance of 109,282, gives a tangent of 784,880, whose arc is 82° 44' 20\". ['82° 44\\' 20\"']\n",
      "This, subtracted from the 83° 57' 46\" found earlier, leaves 1° 13' 26\", which is the other part of the equation. ['83° 57\\' 46\"']\n",
      "If this be added to the semi-equated anomaly, and the sum be added to the aphelion, it puts the planet at 12° 13' 37\" Pisces, which differs from the former hypothesis by three minutes, and is more distant from the observed position. ['12° 13\\' 37\" Pisces']\n",
      "Its mean longitude, corrected by our addition,2 was 4s 29° 14' 58\", while the aphelion was at 4s 29° 2' 45\". ['29° 14\\' 58\"']\n",
      "Therefore, the anomaly was 0s 0° 12' 13\", requiring an equation of 2', to be subtracted, according to the hypothesis of eccentric positions established above. ['0° 12\\' 13\"']\n",
      "Therefore, Mars's eccentric position was 29° 13' Leo, and the sun's position, 25° 45' 51\" Pisces. ['25° 45\\' 51\" Pisces.']\n",
      "By subtraction of CB (29° 12½’ Cancer) from AB (29° 13' Leo) the angle CBA will be 30° 0' 30\", while by subtraction of CA (25° 45' 51\" Pisces) from CB (29° 12' 30\" Cancer), BCA will be 123° 26' 39\". ['30° 0\\' 30\"']\n",
      "Mars's mean longitude was 10s 26° 16' 38\", aphelion 4s 28° 55' 43\", so Mars was 2° 39' 5\" from perihelion, to which corresponds an equation of 32', to be subtracted, in accordance with the above hypothesis, making Mars's eccentric ['26° 16\\' 38\"']\n",
      "position 10s 25° 44' 30\", and the sun's apparent position 17° 3' 0\" Leo. ['25° 44\\' 30\"']\n",
      "In the diagram let BA be extended to D, and let AD be at 25° 44' 30\" Aquarius and ED at 17° 39' 30\" Pisces. ['25° 44\\' 30\" Aquarius']\n",
      "Therefore, EDA is 21° 55' 0\". ['21° 55\\' 0\"']\n",
      "And because ED is at 17° 39' 30\" Pisces and EA at 17° 3' Leo, AED is therefore 149° 23' 30\". ['17° 39\\' 30\" Pisces']\n",
      "On 1600 March 5, Mars's mean longitude was, in Tycho's reckoning, 4s 29° 11' 3\", apogee 23° 41' Leo. ['29° 11\\' 3\"']\n",
      "Therefore, the simple anomaly was 5° 30', which, in his reckoning, requires an equation of 1° 7' 11\", to be subtracted, so as to give Mars an eccentric position of 4s 28° 3' 52\", with the sun's mean position 23° 44' 31\" Pisces. ['1° 7\\' 11\"']\n",
      "Therefore, the angle CBA is 28° 51' 22\", and BCA is 125° 28' 0\". ['28° 51\\' 22\"']\n",
      "At perigee, on 1593 July 30, since (in Brahe's reckoning) Mars's [mean] longitude was 10s 26° 12' 43\" and the apogee was at 23° 34' Leo, the simple anomaly was 182° 38' 43\", which requires an equation of 35' 52\", to be added. ['26° 12\\' 43\"']\n",
      "Therefore, Mars's eccentric position was 10s 26° 48' 35\", and the sun's mean position 18° 24' 31\" [Leo]. ['26° 48\\' 35\"']\n",
      "Therefore, in the diagram, EDA will be 20° 50' 55\", and AED will be 158° 45' 0\" ^6. ['20° 50\\' 55\"']\n",
      "Therefore, ZQ is 113,127, and AQZ 6° 37' 5\", and QAZ 83° 22' 55\", whose tangent is 864092 ^2. ['6° 37\\' 5\"']\n",
      "Now from AZ, AT, ATZ is known, and it is 8° 35' 33\". ['8° 35\\' 33\"']\n",
      "So ZAT is 81° 24' 27\". ['81° 24\\' 27\"']\n",
      "Thus this angle is 81° 42' 35\". ['81° 42\\' 35\"']\n",
      "But ZAT was 81° 24' 27\". ['81° 24\\' 27\"']\n",
      "The difference is 43½ days, to which corresponds 42° 54' 23\" of the sun's mean motion. ['42° 54\\' 23\"']\n",
      "The Tychonic equation was 9° 14' 52\", to be subtracted. ['9° 14\\' 52\"']\n",
      "Therefore, Mars's eccentric position was 13° 28' 16\" Libra. ['13° 28\\' 16\" Libra.']\n",
      "The equated commutation for 1585 was 8s 4° 23' 30\", by which it was shown,  Ptolemaic style, that the planet was 64° 23' 30\" beyond the perigee of the epicycle. ['4° 23\\' 30\"']\n",
      "Similarly, the equated commutation for 1591 was 3s 25° 36' 30\", by which it was shown that the planet was 64° 23' 30\" before the perigee of the epicycle. ['25° 36\\' 30\"']\n",
      "Now to the observations: on 1585 May 18 at 10½h at night Mars was observed at 0° 50' 45\" Virgo with latitude 1° 19' 30\" north ^6. ['0° 50\\' 45\" Virgo']\n",
      "Similarly, on 1591 January 22 at 7h in the morning, Mars was 34° 32' 45\" from Spica with declination 17° 25' south, at an altitude of 16° ^8. ['34° 32\\' 45\"']\n",
      "Hence, the right ascension was 230° 23' 12\", longitude 22° 33' Scorpio, latitude 1° 0' 30\" north. ['230° 23\\' 12\"']\n",
      "And because DFC is 36° 51' and FCD is 64° 23' 30\", therefore the remaining angle FDC is 78° 45' 27\". ['64° 23\\' 30\"']\n",
      "In the same way, because EFC is 38° 5½’ minus a little, and FCE is 64° 23' 30\", FEC will be 77° 31' 0\" plus a little. ['64° 23\\' 30\"']\n",
      "128° 47' 19\". ['128° 47\\' 19\"']\n",
      "DCO is therefore 51° 12' 41\", and CDO is 38° 47' 19\". ['51° 12\\' 41\"']\n",
      "But from the two given sides DO, OE about a right angle, the magnitude of DEO is obtained: 25° 9' 20\". ['25° 9\\' 20\"']\n",
      "And because DEC was 25° 9' 20\", EDC or PDC will be 26° 3' 21\". ['25° 9\\' 20\"']\n",
      "But EDC was 26° 3' 21\". ['26° 3\\' 21\"']\n",
      "Therefore, after subtraction, there remains the inclination of the lines in question: 8° 25' 21\". ['8° 25\\' 21\"']\n",
      "So in right triangle PQS, as the whole sine  is to the tangent and secant of the angle QPS, 8° 25' 21\", so is the known magnitude of PQ to QS, 167, and SP, 1143, which is CB. ['8° 25\\' 21\"']\n",
      "For the first of these times, Mars's [mean] longitude, according to Tycho's revision, is 1s 4° 38' 50\", and for subsequent times 1' 36\" greater for each. ['4° 38\\' 50\"']\n",
      "And since Tycho places the apogee at 23½° Leo, its equation will be 11° 14' 55\", and consequently the equated anomaly in 1590 will be 1s 15° 53' 45\". ['11° 14\\' 55\"']\n",
      "Now at the same time, the commutation, or difference of the mean, motions of the sun and Mars, is reckoned to be 10s 18° 19' 56\", so the equated [commutation], or the difference between the sun's mean motion and Mars's equated eccentric motion, is 10s 7° 5' 1\". ['18° 19\\' 56\"']\n",
      "But ακ is directed towards 15° 53' 45\" Taurus. ['15° 53\\' 45\" Taurus.']\n",
      "Therefore, θκα is 20° 47' 45\". ['20° 47\\' 45\"']\n",
      "So the remainder αθκ to make up two right angles is 32° 7' 14\". ['32° 7\\' 14\"']\n",
      "Second, then, in 1592 at our moment the equated longitude was 1s 15° 55' 23\"; the equated commutation was 8s 24° 10' 34\" — that is, the angle ηακ is 84° 10' 34\". ['15° 55\\' 23\"']\n",
      "Therefore, the angle ηκα is 35° 46' 23\", and αηκ is 60° 3' 3\", and αη is 67,467, now  longer than αθ. ['35° 46\\' 23\"']\n",
      "Third, in 1593 at our moment the equated longitude was 1s 15° 56' 56\", the equated commutation was 7s 11° 16' 16\", which makes εακ 41° 16' 16\". ['15° 56\\' 56\"']\n",
      "Hence, εκα is 42° 21’ 30\" and κεα is 96° 22’ 14\", and αε is 67,794, again longer, for it is yet closer to the sun's perigee. ['42° 21’ 30\"']\n",
      "Fourth, in 1595 at our moment the equated longitude was 1s 15° 58' 30\" and the [equated] commutation was 5s 28° 21' 55\", which makes the angle καζ 1° 38' 5\". ['15° 58\\' 30\"']\n",
      "It was observed on October 27 at 12h 20m at 18° 52’ 15\" Taurus, retrograde ^7. ['18° 52’ 15\" Taurus']\n",
      "And so on the 26th at 12h 20m it was at 19° 15' 15\" Taurus, while at our time it was at 19° 21’ 35\" Taurus. ['19° 15\\' 15\" Taurus']\n",
      "Therefore, ακζ is 3° 23’ 5\", and the supplement of αζκ is 5° l’ 10\", and αζ is 67,478. ['3° 23’ 5\"']\n",
      "Let the circle θηεζ, with center β, be set out, in which from the given point α there are the given lines αθ, αη, αε, and αζ, as before, with the angles about α also given, for each of them is 42° 52' 47\". ['42° 52\\' 47\"']\n",
      "Second, in triangle αεη the angle αεη is sought, and found to be 68° 12' 26\". ['68° 12\\' 26\"']\n",
      "Third, in the triangle θαε the angle αεθ is sought, and is found to be 46° 39' 10\", which, subtracted from αεη leaves 21° 33' 16\", which is the angle at the circumference θεη. ['46° 39\\' 10\"']\n",
      "Therefore, twice this amount, 43° 6' 32\", will be θβη, the angle at the center, because β is by supposition the center of the circle. ['43° 6\\' 32\"']\n",
      "And since βθη is 68° 26' 44\", while before, when θη was being found, αθη was 69° 18' 46\", βθα is therefore 0° 52' 2\". ['68° 26\\' 44\"']\n",
      "And the angle θαβ is found to be 97° 50' 30\", so that αβ is at 15° 8' 30\" Gemini, because αθ is at 22° 59' Virgo. ['97° 50\\' 30\"']\n",
      "We shall now go through the observations1 again, carefully: On 1590 March 4 at 7h 10m, Mars was found by careful observation and calculation to be at 24° 22' 56\" Aries with latitude 0° 3' 20\" S. At that time, 8° Aries was setting, so Mars was rather low. ['24° 22\\' 56\" Aries']\n",
      "On 1592 January 23 at 7h 20m, using only one stellar distance from Mars, without the confirmation of another, Mars was found at 11° 32' 44\" Aries with latitude 0° 1' 36\" S. And so we shall make no changes for horizontal variations, although we suspect an uncertainty of one or two minutes. ['11° 32\\' 44\" Aries']\n",
      "On 1593 December 7 at 8h 0m Mars was found at 3° 6' 50\" Aries with no danger of horizontal variation, with latitude 7’ 9\" S. However, the right ascension found using three stars showed a discrepancy of 4', and the value taken as true was the mean between the extremes. ['3° 6\\' 50\" Aries']\n",
      "On 1595 October 25 at 8h 10m, the planet's distance from three fixed stars was observed, and by unanimous consensus the planet was found to be at 19° 39' 25\" [Taurus] with latitude 0° 12' 41\" S. ['19° 39\\' 25\"']\n",
      "The motion over three days and 35 minutes of time in 1592 was 2° 9' 4\", according to Magini ^2. ['2° 9\\' 4\"']\n",
      "Therefore, at our time Mars was seen at 9° 23' 40\" [Aries]. ['9° 23\\' 40\"']\n",
      "And so at our time Mars's position comes out to be 3° 4' 27\" Aries. ['3° 4\\' 27\" Aries.']\n",
      "Therefore at our time the position of Mars comes out to be 19° 41' 39\" Taurus. ['19° 41\\' 39\" Taurus.']\n",
      "And on 1595 October 25 at 5h 45m that line is found at 14° 19' 52\" Taurus. ['14° 19\\' 52\" Taurus.']\n",
      "Thus, in 1593 it was at 14° 18' 16\" Taurus; in 1592, at 14° 16' 40\" Taurus; and in 1590, at 14° 15' 4\" Taurus. ['14° 18\\' 16\" Taurus']\n",
      "6 For example, let the observed position of Mars be 19° 40' Taurus, and the supplement αηθ be 7° 58' 26\", and ηθα 5° 20' 8\": then αη will be 67,030. ['7° 58\\' 26\"']\n",
      "The second and third triangles are then changed, αηδ becoming 23° 53' 0\", and αηζ 67° 15' 32\". ['23° 53\\' 0\"']\n",
      "Therefore, δηζ is 43° 22' 26\", and δγζ 86° 44' 52\". ['43° 22\\' 26\"']\n",
      "The remaining  angles are 93° 15' 8\", whose half, γδζ, is 46° 37' 34\", and γδα is 1° 10' 12\". ['93° 15\\' 8\"']\n",
      "And where this is 100000, αδ will be 99,416, and δγα 73° 24' 39\". ['73° 24\\' 39\"']\n",
      "For δεθα will now be 19° 56' 4\", εθα 34° 53' 40\", ζθα 41° 14' 46\", and ηθα 5° 21' 8\". ['19° 56\\' 4\"']\n",
      "Hence, αδζ will be 45° 26' 37\", αηδ 23° 54' 30\", αηζ 67° 20' 48\". ['45° 26\\' 37\"']\n",
      "And δηζ will be 43° 26' 18\", and δγζ 86° 52' 36\", γδζ 46° 33' 42\", and γδα 1° 7' 5\"- a different angle from different beginnings. ['43° 26\\' 18\"']\n",
      "Hence the angle δγα is 76° 37’ 30\", and the perigee is at 7° 23' Capricorn, with an eccentricity about 1880, which would clearly be 1800 if the perigee were brought back to 5½ Capricorn, as could happen through the combined effect of both causes. ['76° 37’ 30\"']\n",
      "From this and γδ, δγα is found to be 75° 8' 40\" and the perigee in 8 51 45 Capricorn, about what it was before. ['75° 8\\' 40\"']\n",
      "Finally, to avoid prolixity, if αθ be 147,700, and the eccentric position of Mars in 1595 be 14° 21' 7\" Taurus, and the eccentricity of the earth be 1800, and the earth's path oval, as will be said in Chapters 30 and 44, the appearances will come out to be ['14° 21\\' 7\" Taurus']\n",
      "And I found εδζ to be 21° 40' 9\", εγζ 21° 22' 14\", differing by 18', which is twice the previous discrepancy. ['21° 40\\' 9\"']\n",
      "For a third trial, then, supposing Mars’s eccentric position in 1585 was 5° 20' 2\"  Libra, εδζ came out to be 21° 15' 54\", and εγζ 21° 13' 54\". ['5° 20\\' 2\"']\n",
      "In triangle ζαε angle ζαε is 42° 6' 57\", and the sides are given by a new correction, so that αζ is 62,177 and αε 61,525, approximately. ['42° 6\\' 57\"']\n",
      "Hence, ζεα is given as 69° 43' 31\", and ζε 44,518. ['69° 43\\' 31\"']\n",
      "But when ζεβ is subtracted from ζεα, the remainder βεα is 0° 56' 31\", and βαε is 83° 30'. ['0° 56\\' 31\"']\n",
      "Summary: On 1590 October 31 at 6¼h in the morning, Mars's eccentric position was 8° 19' 20\" Virgo, while the hypothesis constructed using acronychal observations places it at 8° 19' 29\" Virgo. ['8° 19\\' 20\" Virgo']\n",
      "Consequently αζβ is 1° 1' 53\", which is the optical part of the equation of the sun or earth. ['1° 1\\' 53\"']\n",
      "In the right triangle ζαβ, since one of the acute angles is given, the other, ζβα, will be the difference between the first and one right angle, that is, 88° 58' 7\". ['88° 58\\' 7\"']\n",
      "For here, opposite 99,984, you find an equated anomaly of 88° 58' 7\", which is not your value. ['88° 58\\' 7\"']\n",
      "For when the diagram was set out above, the mean anomaly denoted angles about γ. But now you will begin with angles about β, smaller than the optical equation about γ. And 91° 1' 53\" of mean anomaly shows you a distance of 99,984. ['91° 1\\' 53\"']\n",
      "So the former mean anomaly of 91° 1’ 53\" had generated a longer distance there than a mean anomaly of the same magnitude, 91° 1’ 53\", shows here. ['91° 1’ 53\"']\n",
      "The equated anomaly of 88° 58’ 7\", to which corresponds a mean anomaly of 91° 1' 53\", ought not to show a value of 99,984, but 100,000, which is the mean between the distances of the figure and of the table. ['88° 58’ 7\"']\n",
      "Therefore, as the radius CE is to the sine of the angle CAE or CAD, so is the eccentricity CA to the equation CEA or CDA, which are both 1° 27' 31\". ['1° 27\\' 31\"']\n",
      "By the same method, the part of the equation BDA, BEA, will be 0° 43' 46\", which, added to EAB, DAB, will result in an angle EBC of 45° 43' 46\", and DBC, of 135° 43' 46\". ['0° 43\\' 46\"']\n",
      "Thus the whole angle CEA is 1° 27' 24\", and CDA is 1° 27' 28\", within a hair's breadth of the previous value. ['1° 27\\' 24\"']\n",
      "And as this the area of the circle is to the 360° of mean anomaly or time (that is, 21,600' or 1,296,000\"), so is the area of the triangle, 90,000,000, to 3713\"; that is, 1° 1' 53\". ['1° 1\\' 53\"']\n",
      "So the area BEA has a value of 1° 1' 53\". ['1° 1\\' 53\"']\n",
      "But in Chapters 29 and 30, the angle BEA was also 1° 1' 53\". ['1° 1\\' 53\"']\n",
      "So 3713\" will be multiplied by the sines of the angles at B, and, with the last five digits struck, the remainder will be the physical part of the equation expressed in seconds, corresponding to the angle at B. For example, let HBC be 45° 43' 46\", as it was above in Ch. ['45° 43\\' 46\"']\n",
      "Now, in Chapter 26, the distance of Mars from the center of the sun was found to be 147,750 in 14° 21' 7\" Taurus, at the node, on 1595 October 25. ['14° 21\\' 7\" Taurus']\n",
      "Again, in Chapter 27, the distance of Mars was found to be somewhat less than 163,100 at 5° 25' 20\" Libra, and that was on 1590 December 31. ['5° 25\\' 20\" Libra']\n",
      "13, yields an inclination at that point of 1° 12' 40\". ['1° 12\\' 40\"']\n",
      "Therefore, 50\" must be subtracted from the position of Mars, so as to make it 5° 24' 30\" Libra. ['5° 24\\' 30\" Libra.']\n",
      "Thirdly, in Chapter 28 the distance of Mars was found to be 166,180 at 8° 19' 20\" Virgo, on 1590 October 31, 68 degrees from the node. ['8° 19\\' 20\" Virgo']\n",
      "So the inclination at that place is 1° 42' 40\". ['1° 42\\' 40\"']\n",
      "And let the angle καθ be 114° 2' 12\", which is the angle from 14° Taurus to 8° Virgo. ['114° 2\\' 12\"']\n",
      "Similarly, let καη be 27° 5' 17\", which is the angle from 8° Virgo to 5° Libra. ['27° 5\\' 17\"']\n",
      "So, in triangle ηαθ, the angle with its sides being given, the angle αθη is found to be 20° 26' 13\". ['20° 26\\' 13\"']\n",
      "Likewise, in καθ, angle αθκ is given as 35° 10' 17\". ['35° 10\\' 17\"']\n",
      "Subtracting αθη from this leaves ηθκ, 14° 44' 4\". ['14° 44\\' 4\"']\n",
      "Now, since ηθκ stands on the circumference, and ηγκ on the center, subtending the same arc ηκ, ηγκ will therefore be twice the angle ηθκ, or 29° 28' 8\". ['29° 28\\' 8\"']\n",
      "Now, in triangle ηακ, the angle with its sides again being given, κηα is found to be 78° 44' 1\", and through this, κη [is found to be] 77,187 where ηα is 163,100. ['78° 44\\' 1\"']\n",
      "And since ηγκ is 29° 28' 8\", κηγ will be half the supplement, because ηγ, κγ are equal. ['29° 28\\' 8\"']\n",
      "Therefore, κηγ is 75° 15' 56\". ['75° 15\\' 56\"']\n",
      "Therefore, ηαγ is known to be 38° 15' 45\". ['38° 15\\' 45\"']\n",
      "And consequently (since αη is in 5° 24' 21\" Libra) the line of apsides αγ will be in 27° 8' 36\" Leo. ['5° 24\\' 21\" Libra']\n",
      "]3 And on 1587 January 1 at 7h 8m in the morning, at 1° 4' 36\" Libra, Lat. ['1° 4\\' 36\" Libra']\n",
      "Therefore, Mars was at 25° 31' Virgo, latitude 1° 36' 45\" N ^5. ['1° 36\\' 45\"']\n",
      "If you wish to seek confirmation using the method of Chapter 28, to test the consensus, the points δ, ε being joined, you will find δε to be 74,058, δεα 68° 36' 0\", εδα 67° 21' 3\". ['68° 36\\' 0\"']\n",
      "Therefore εδι is 88° 28' 50\", and δει is 44° 36' 46\", and ειδ is 46° 54' 24\". ['88° 28\\' 50\"']\n",
      "Therefore, ιε is 101,380, and εαι is 33° 58' 33\". ['33° 58\\' 33\"']\n",
      "Therefore, in 1587 αι was at 29° 19' 49\" Leo (we just now chose 29° 18' 36\", the difference of one minute keeping it in agreement with other positions). ['29° 19\\' 49\" Leo']\n",
      "With all three observations taken into account, let the position of the line αθ on 1589 November 1 at 6⅙h pm be taken as 29° 54' 53\" Aquarius, so that in 1591 it would be 29° 56' 30\", and in 1593, 29° 58' 6\" Aquarius. ['29° 54\\' 53\" Aquarius']\n",
      "The vicarious hypotheses of Chapter 16 shows it to be at 29° 52' 55\" for the first of the times. ['29° 52\\' 55\"']\n",
      "But previously and in like manner we took at αι 1588 November 22 at 9h 2½m to be 29° 20' 12\" Leo. ['29° 20\\' 12\" Leo.']\n",
      "And from the position at the earlier time, 29° 20' 12\" Leo, to the position which Mars held at the later time, 29° 54' 53\" Aquarius, is 180° 34' 41\", or 180° 33' 53\" with the precession of 48\" subtracted. ['29° 20\\' 12\" Leo']\n",
      "Therefore, if the excess of 33' 53\" beyond the semicircle is sufficient for the 10 hours 6½ minutes from Mars's diurnal motion on the eccentric, the aphelion would consequently be understood to be at 29° 20' 12\" Leo. ['29° 20\\' 12\" Leo.']\n",
      "But now if it begins this space of time one day after it was at apogee, it will begin its course 26' 13\" beyond apogee and will end it at 180° 38' 2\". ['180° 38\\' 2\"']\n",
      "The planet will then begin from 5' 16\" before aphelion, which is thus put at 29° 25' 28\" Leo, and it will come to 8' 1\" after perihelion, the amount of travel being 13' 17\" beyond 180°. ['29° 25\\' 28\" Leo']\n",
      "Therefore, the aphelion is to be moved forward 45' 42\" from the position we just gave it, 29° 25' 28\" Leo. ['29° 25\\' 28\" Leo.']\n",
      "42 will be the tangent, which will give the optical part of the equation, 5° 17' 34\". ['5° 17\\' 34\"']\n",
      "Now as the area of the circle, 31,415,926,536, is to 360 degrees or 1,296,000 seconds, so is this area just found, 463,200,000, to 19,108\", or 5° 18' 28\", the physical part of the equation. ['5° 18\\' 28\"']\n",
      "Consequently, the whole equation is 10° 36' 2\", so that to the mean anomaly of 95° 18' 28\" corresponds the equated anomaly of 84° 42' 26\". ['10° 36\\' 2\"']\n",
      "But according to the method of Chapter 18, the vicarious hypothesis, accurate enough for the longitudes, shows us that to the mean anomaly of 95° 18' 28\" there ought to correspond the equated anomaly of 84° 42' 2\". ['95° 18\\' 28\"']\n",
      "And as the whole sine is to the sine of these angles, so is 19,108\", the area of the greatest triangle of the equation, to the area at this position, 13,512\", or 3° 45' 12\", so that by addition of this the physical part of the equation to the eccentric anomaly the mean anomalies of 48° 45' 12\" and 138° 45' 12\" are constructed. ['3° 45\\' 12\"']\n",
      "But from the given sides of the given angles, the angles of equated anomaly corresponding to these mean anomalies come out to be 41° 28' 54\" and 130° 59' 25\". ['41° 28\\' 54\"']\n",
      "But by the vicarious hypothesis, as in Chapter 18 of this work, the same simple anomalies of 48° 45' 12\" and 138° ['48° 45\\' 12\"']\n",
      "45' 12\" being taken, the equated anomaly for the former comes out to be 41° 20' 33\", less than by the area of the triangle, the excess being 8' 21\"; and for the latter, 131° 7' 26\", more than by the area of the triangle, the defect being 8'. ['41° 20\\' 33\"']\n",
      "Now the optical equation of 90° is 5° 19', and half of its sine gives an arc which is likewise about its half, that is, 2° 39’ 15\", for the optical equation at 30° of eccentric anomaly, whose secant is 100,107. ['2° 39’ 15\"']\n",
      "1590 αε was at 28° 41' 40\" Leo, and κ, η, θ are as given in Chapter 41, the angles καγ, ηαγ, θαγ will be given. ['28° 41\\' 40\" Leo']\n",
      "Therefore, the optical equation will also be given: ακγ 0° 53' 13\", αηγ 3° 10' 24\", αθγ 5° 8' 47\" ^2. ['0° 53\\' 13\"']\n",
      "43, let the mean anomaly, that is, the artificial or astronomical numbering of time, be 95° 18' 28\". ['95° 18\\' 28\"']\n",
      "And because 360° is equivalent to the area of the perfect circle, 31,415,926,536, 95° 18' 28\" will therefore be equivalent to the area 8,317,172,671. ['95° 18\\' 28\"']\n",
      "This is the tangent of the angle αDβ, 5° 20' 18\", making the equated anomaly Dαδ 84° 39' 42\". ['5° 20\\' 18\"']\n",
      "The vicarious hypothesis shows this to be 84° 42' 2\", the difference being 2'20\". ['84° 42\\' 2\"']\n",
      "So the error being bisected, the half (1' 10\") should be subtracted from the angle last found, 5° 20' 18\", making it 5° 19' 8\": this shows a tangent of 9310 ^9. ['5° 20\\' 18\"']\n",
      "Let the mean anomaly be 48° 45' 12\", as in Ch. ['48° 45\\' 12\"']\n",
      "This, multiplied by the greatest triangle 19,108\" and with the zeroes dropped, gives the triangle Bαβ as 13,512\", or 3° 45' 12\", for this location. ['3° 45\\' 12\"']\n",
      "This, added to the sector Ββδ, 45°, gives 48° 45' 12\" for the area Bαδ, which is also the mean anomaly we assumed. ['48° 45\\' 12\"']\n",
      "But as this is to 100,000, so is Cν to the tangent of the required angle ναC, 41° 14' 9\". ['41° 14\\' 9\"']\n",
      "The vicarious hypothesis shows 41° 20' 33\". ['41° 20\\' 33\"']\n",
      "Let the mean anomaly be 138° 45' 12\", and let the area, whose angle at α is sought, be expressed in the same units. ['138° 45\\' 12\"']\n",
      "Thus, as this is to 100,000, so is 70,104 to the tangent of the required angle, 48° 45' 55\", or its supplement 131° 14' 5\". ['48° 45\\' 55\"']\n",
      "The vicarious hypothesis shows 131° 7' 26\". ['131° 7\\' 26\"']\n",
      "As for me, I made no use of any demonstration, but by a most laborious and dogged calculation found the defect of the oval semicircle to be 45' 45\", so that where the perfect semicircle is 180°, the oval would be 179° 14' 15\". ['179° 14\\' 15\"']\n",
      "So, when this last operation showed more than 180°, which was absurd, for  the second trial I assumed half the oval to be 179° 14' 15\". ['179° 14\\' 15\"']\n",
      "And since 9165 subtends 5° 15' 30\", you take 5° 17' 25\", which yields 9227. ['5° 15\\' 30\"']\n",
      "The sum is 358° 28' 30\", which is the length of the oval path. ['358° 28\\' 30\"']\n",
      "From CB, BA, the angle CBD is given as 48° 42' 59\". ['48° 42\\' 59\"']\n",
      "The result of this procedure was 48° 46' 51\". ['48° 46\\' 51\"']\n",
      "But the arc CD or the angle CBD was also found to be about that much, 48° 42' 51\". ['48° 42\\' 51\"']\n",
      "Nevertheless, in order that I not lose all this labor, I subtracted the excess of this number of the elapsed time over the number of the angle CAD, from CAD, so as to leave as a remainder EAD, 41° 13' 9\", and so that AC, AE might be equal. ['41° 13\\' 9\"']\n",
      "And if you want to test them with the results of a calculation, you will find that to a mean anomaly of 53° 23' 56\" there corresponds an equated anomaly of 46° 0', which in the vicarious hypothesis comes out to be about 45° 27', a difference of 33', clearly absurd. ['53° 23\\' 56\"']\n",
      "The mean longitude of Mars was 7s 26° 0' 36\", and therefore its eccentric position was 15° 32' 13\" Scorpio. ['26° 0\\' 36\"']\n",
      "At 7¼h on the morning of that day, Mars's mean longitude is calculated to be 7s 26° 13' 39\",2 a few minutes beyond the other. ['26° 13\\' 39\"']\n",
      "Therefore, the remaining side is 50° 32' 18\". ['50° 32\\' 18\"']\n",
      "Thus, since Spica was at 18° 11' Libra, Mars fell at 8° 43' 18\" Sagittarius. ['8° 43\\' 18\" Sagittarius.']\n",
      "The declination of this position from the equator was 21° 50' 20\" [S. ['21° 50\\' 20\"']\n",
      "For the sun’s position was 16° 47' 10\" Capricorn, distance from earth 98,232, and its right ascension was 288° 12'. ['16° 47\\' 10\" Capricorn']\n",
      "Thus MAO is 28° 41' 14\", and AO is 101,365. ['28° 41\\' 14\"']\n",
      "Thus OM will fall at 15° 31' 3\" Scorpio. ['15° 31\\' 3\" Scorpio.']\n",
      "But OBM is also known, it being 38° 0' 40\", and OB is 98,232. ['38° 0\\' 40\"']\n",
      "Therefore, OMB is given as 23° 6' 11\". ['23° 6\\' 11\"']\n",
      "Consequently, on the second occasion OM was at 15° 40' 9\" Scorpio, differing from the earlier eccentric position by 9 minutes. ['15° 40\\' 9\" Scorpio']\n",
      "Mars therefore ought to fall at 15° 43' 40\" Scorpio. ['15° 43\\' 40\" Scorpio.']\n",
      "For then OM falls first at 15° 29' 34\" Scorpio, and second at 15° 42' 18\" Scorpio. ['15° 29\\' 34\" Scorpio']\n",
      "And for the first time the mean anomaly is 87° 9' 24\", and 87° 16' 30\"8 for the second. ['87° 9\\' 24\"']\n",
      "17 at 7h 6m in the evening the planet was observed at 11° 31' 27\" Taurus, with latitude 1° 40' 44\" N ^10. ['11° 31\\' 27\" Taurus']\n",
      "The sun's position was 5° 39' 3\" Capricorn. ['5° 39\\' 3\" Capricorn.']\n",
      "The mean longitude of Mars is concluded to be 2s 2° 4' 22\". ['2° 4\\' 22\"']\n",
      "And since the aphelion is 4s 28° 58' 10\", the distance of the position from aphelion is 86° 53' 48\" backwards. ['28° 58\\' 10\"']\n",
      "Previously, it was nearly the same as that, namely, 87° 9' 24\". ['87° 9\\' 24\"']\n",
      "Now from our vicarious hypothesis, there corresponds to this simple anomaly an equated anomaly of 76° 25' 48\". ['76° 25\\' 48\"']\n",
      "Which, subtracted from the position of the aphelion, leaves Mars's eccentric position, 12° 32' 22\" Gemini. ['12° 32\\' 22\" Gemini.']\n",
      "And because OM is at 12° 32' 22\" Gemini, while AM is at 11° 31' 27\" Taurus, therefore AMO is 31° 0' 55\". ['12° 32\\' 22\" Gemini']\n",
      "And because AO is at 5° 39' 3\" Capricorn, while AM is at 11° 31' 27\" Taurus, therefore, the supplement of OAM is 54° 7' 36\". ['5° 39\\' 3\" Capricorn']\n",
      "Now the mean longitude of Mars on the morning of October 29 at 5h (which is an estimate, since I did not write down the time) is found to be 1s 29° 10' 43\". ['29° 10\\' 43\"']\n",
      "Therefore, the latitude was 1° 36’ 24\" ^14. ['1° 36’ 24\"']\n",
      "0° 13½' S., the longitude of our point, by interpolation, will be 12° 16' 17\" Cancer. ['12° 16\\' 17\" Cancer.']\n",
      "On 1597 October 30 at 5h am the position of the sun is found to be 16° 38' 8\" Scorpio, distance 98,820. ['16° 38\\' 8\" Scorpio']\n",
      "[Mars's] mean longitude was 1s 29° 42' 10\", aphelion 4s 28° 57' 10\", supplement of the mean anomaly 89° 15', of the equated anomaly 78° 43' 23\", eccentric position 10° 13' 47\" Gemini. ['29° 42\\' 10\"']\n",
      "On 1589 April 5 at 11h 33m Mars was observed at 7° 31' 10\" Scorpio with latitude 1° 28' 13\" N ^15. ['7° 31\\' 10\" Scorpio']\n",
      "The mean longitude is concluded to be 7s 9° 46' 8\". ['9° 46\\' 8\"']\n",
      "aphelion is at 4s 28° 51' 8\". ['28° 51\\' 8\"']\n",
      "Therefore, the mean anomaly is 70° 55' 0\", to which corresponds an equated anomaly of 61° 17' 35\", by the vicarious hypothesis. ['70° 55\\' 0\"']\n",
      "And so the eccentric position is 0° 8' 43\" Scorpio; the sun's position, 25° 52' 43\" Aries; its distance from earth 100,560; the angle at the earth 11° 38' 27\"; at the planet 7° 22' 27\". ['0° 8\\' 43\" Scorpio']\n",
      "But since that eccentric position has a declination from the equator of 21° 39' 10\", [while] the observed declination of Mars was 20° 50' 30\", its latitude was therefore 48' 40\". ['21° 39\\' 10\"']\n",
      "But the mean longitude is 7s 8° 21' 47\", to which corresponds an equated 59° 57' 38\", and an eccentric position of 28° 51' Libra. ['8° 21\\' 47\"']\n",
      "Therefore, the angle at the planet is 38° 43' 20\"; the sun's position 10° 14' 25\" Pisces; therefore, the angle at the earth, 87° 20' 0\"; and the distance of the sun from the earth, 99,210. ['38° 43\\' 20\"']\n",
      "Thus the distance of Mars from the sun comes out here to be 158,428, longer than before, because here we are also nearer to aphelion by 1° 26' 30\" ^20. ['1° 26\\' 30\"']\n",
      "A suitable observation at a similar longitude on the other semicircle occurred on 1582 November 12 at 6¾h am, when the sun's position was 29° 35' 17\" Scorpio ^21. ['29° 35\\' 17\" Scorpio']\n",
      "Its distance was 98,503, mean longitude of Mars 2s 15° 10' 20\", aphelion 4s 28° 44' 20\". ['15° 10\\' 20\"']\n",
      "Hence, the full-circle complement of the mean  anomaly was 73° 34', and of the equated anomaly, 63° 45' 18\". ['63° 45\\' 18\"']\n",
      "Hence, the eccentric position was 24° 59' 2\" Gemini. ['24° 59\\' 2\" Gemini.']\n",
      "Then, I say, the planet was observed at 26° 35' 30\" Cancer, making the angle of vision, the one at the earth, 57° 0' 13\", and at the planet, 31° 36' 28\". ['26° 35\\' 30\" Cancer']\n",
      "On 1596 March 9 at 7h 40m pm, when the sun's position was 29° 31' 24\" ['29° 31\\' 24\"']\n",
      "Pisces, the distance from earth 99,764, Mars's mean longitude 3s 15° 35' 0\", aphelion 4s 28° 58' 31\", the full-circle complement of the mean anomaly 43° 23' 31\", equated anomaly 36° 40' 2\", eccentric position from the vicarious hypothesis 22° 18' 29\" Cancer—the planet was observed at 15° 49' 12\" Gemini, latitude 1° 47' 40\" N ^22. ['15° 35\\' 0\"']\n",
      "Therefore, the angle at the earth was 76° 17' 48\", at the planet 36° 29' 17\". ['76° 17\\' 48\"']\n",
      "25 at 10h 20m, when the sun was at 14° 0' 3\" Sagittarius, distance from earth 98,318. ['14° 0\\' 3\" Sagittarius']\n",
      "Therefore, the eccentric position is the same, 22° 8' 44\" Cancer, if you subtract the precession of 9' 45\". ['22° 8\\' 44\" Cancer']\n",
      "12 at 13h 26m at 23° 14' 15\" Leo,23 with latitude 2° 12' 24\" N. On the 20th of Nov. ['23° 14\\' 15\" Leo']\n",
      "following, at 18h 30m astronomically,24 it appeared at 26° 0' 30\" Leo ^25. ['26° 0\\' 30\" Leo']\n",
      "Thus in 8 days 5 hours it was moved forward 2° 46' 25\". ['2° 46\\' 25\"']\n",
      "So Mars could have been observed at 27° 27' 30\" Leo, approximately. ['27° 27\\' 30\" Leo']\n",
      "Therefore, the angle at the earth was 73° 27' 27\", at the planet 35° 18' 46\". ['73° 27\\' 27\"']\n",
      "1227 at 5h 13m am, the mean longitude was 6s 12° 38' 44\",28 aphelion 4s 28° 50' 57\"; and consequently, the mean anomaly was 43° 47' 48\", lower than our previous one by 24 minutes. ['12° 38\\' 44\"']\n",
      "On 1585 January 24 at 9h, when the position of the sun was 15° 9' 5\" Aquarius, its distance from earth 98,590, the mean longitude of Mars 4s 16° 50' 10\", the aphelion 4s 28° 46' 41\", the remainder of the mean anomaly to complete the full circle 11° 56' 31\", and the consequent eccentric position from the vicarious hypothesis 18° 49' 0\" Leo: the planet was observed at 24° 9' 30\" Leo, latitude 4° 31' 0\" N ^30. ['15° 9\\' 5\" Aquarius']\n",
      "The angle at earth was therefore 9° 0' 25\", and at the planet 5° 20' 30\". ['9° 0\\' 25\"']\n",
      "On 1586 December 16 at 6½h am, when the sun was at 4° 16' 51\" Capricorn, 98,200 distant from earth, mean longitude of Mars 4s 18' 39' 9\", remainder of mean anomaly 10° 9' 41\", eccentric position from the vicarious hypothesis 20° 20' 30\" Leo: the declination of Mars was found to be 3° 54', right ascension from Arcturus and Spica 177° 27' ^31. ['4° 16\\' 51\" Capricorn']\n",
      "Thus its longitude was 26° 6' 24\" Virgo, latitude 2° 35'. ['26° 6\\' 24\" Virgo']\n",
      "Hence, the angle at earth was 81° 49' 33\", at the planet 35° 45' 54\". ['81° 49\\' 33\"']\n",
      "6 at 6h 50m am, when the sun's position was 24° 3' 43\" Scorpio, 98,630 distant from earth, mean longitude of Mars 4s 20° 47' 35\", remainder of the anomaly 8° 2' 51\", eccentric position from the vicarious hypothesis 22° 7' 48\" Leo: Mars was observed at 23° 16' Virgo, lat. ['24° 3\\' 43\" Scorpio']\n",
      "254} Hence, the angle at earth was 60° 47' 43\", at the planet 31° 8' 12\". ['60° 47\\' 43\"']\n",
      "In 1591 on the night following May 13, at 1 hour 40m past midnight, when the sun was at 2° 8' 43\" Gemini, distant from earth 101,487, while the mean longitude of Mars was 8s 22° 18' 4\", anomaly 113° 24' 4\", equated 103° 15' 48\", consequent eccentric position from the vicarious hypothesis 12° 9' 48” Sagittarius (or, by analogy with 26 Sagittarius nearby, just now mentioned, 12° 8¾’ ['2° 8\\' 43\" Gemini']\n",
      "Therefore, the angle at the earth was 30° 15' 44\", and at the planet either 20° 14' 39\" or 20° 15' 42\". ['30° 15\\' 44\"']\n",
      "And at one of the times noted therein, namely, 1590 March 4 at 7⅕h, the [mean] longitude of Mars was 1s 4° 11' 20\". ['4° 11\\' 20\"']\n",
      "3 at 5h 39m, when the sun's position was 21° 44' 56\"  Sagittarius, and its distance from earth was 98,248, and the mean longitude of Mars was 11s 16° 27' 53\", full-circle complement of the anomaly 162° 24' 11\", and the equated eccentric position 20° 4' 32\" Pisces: Mars was observed at 15° 25' 33\" Aquarius, lat. ['21° 44\\' 56\"']\n",
      "1° 11' 47\" S ^34. ['1° 11\\' 47\"']\n",
      "16 at 6h 28m, when the sun was at 2° 39' 15\" Scorpio, 99,142 distant from earth, Mars's mean longitude 11s 13° 53' 57\", full-circle complement of the anomaly 165° 0' 9\", eccentric position from the vicarious hypothesis 16° 59' 14\" Pisces: Mars was observed at 1° 27' 18\" Aquarius, lat. ['2° 39\\' 15\" Scorpio']\n",
      "2° 10' 52\" S. ['2° 10\\' 52\" S.']\n",
      "8 at 10h 38m, when the sun was at 25° 41' 0\" Virgo, 100,266 distant from earth, Mars's mean longitude 11s 17° 10' 17\", full-circle complement of the anomaly 161° 45' 28\", and eccentric position from the vicarious hypothesis 20° 53' 54\" Pisces: the planet was found at 8° 53' 51\" Pisces with latitude 5° 14' 30\" south ^36. ['25° 41\\' 0\" Virgo']\n",
      "Finally, on 1595 July 22 at 2h 40m am, when the sun was at 7° 59' 52\" Leo, 101,487 distant from earth, Mars's mean longitude 11s 14° 9' 5\", and anomaly 164° 48' 55\", and consequent eccentric position from the vicarious hypothesis 17° 16' 36\" Pisces: the apparent position of Mars, from the most select observations, was 4° 11' 10\" Taurus, lat. ['7° 59\\' 52\" Leo']\n",
      "So now, given the angles GKA, 45° 35' 13\", and EKA, 46° 51' 16\", the other angles G, E, and the lines EA, GA remaining the same, AK comes out to be 138,765, and 138,787, differing from our assumed value by 258 units. ['45° 35\\' 13\"']\n",
      "So if we also subtract that much from the other two AKs, so as to make them 138,954 and 139,000, the resulting angles are DKA 34° 43' 47\" and AK 20° 9' 40\" [Pisces]; while FKA is 12° 1' 24\" and AK 20° 55' 15\" [Pisces]. ['34° 43\\' 47\"']\n",
      "But since I previously added 6' 46\" at G and subtracted the same amount at E, I have therefore repositioned the eccentric positions at 17° 2' 31\" Pisces at G, and 17° 19' 54\" Pisces at E, increasing the position given by the vicarious hypothesis by 3' 17\". ['17° 2\\' 31\" Pisces']\n",
      "For on the night following June 29 in 1593, at 1h 30m after midnight, when the sun was at 17° 25' 42\" Cancer, 101,760 distant from earth, the longitude of Mars 10s 10° 1' 29\", anomaly 161° 5' 29\", and the consequent position of Mars 6° 10' 5\" Aquarius, it was observed at 13° 37' 22\" Pisces, with latitude 4° 37' S ^38. ['17° 25\\' 42\" Cancer']\n",
      "Hence, the supplement of the angle at earth was 56° 11' 46\", at the planet, or the parallax of the annual orb, 37° 27' 23\". ['56° 11\\' 46\"']\n",
      "But above, at an anomaly of 161° 45' 28\", where Mars was 40 minutes farther from aphelion than here, the distance was found and established as 139,000. ['161° 45\\' 28\"']\n",
      "So by an operation conducted as before, the more nearly correct values resulting are: αθ 158,792, and αη 164,364, placing αθ at 0° 41' 0\" Cancer, and αη at 0° 8' 30\" Leo. ['0° 41\\' 0\" Cancer']\n",
      "Therefore, αθ falls at 18° 48' 47\" Leo, and αη at 23° 34' 48\" Leo. ['18° 48\\' 47\" Leo']\n",
      "The mean motion at the same time is 10s 7° 14’ 34\" ^16. ['7° 14’ 34\"']\n",
      "In 1586, with 10° 9' 41\" of mean anomaly remaining, or 9° 54' 41\" after correction, we found 166,311. ['10° 9\\' 41\"']\n",
      "Thus in 1588, when the remaining [mean] anomaly was 8° 2' 51\", or 7° 47' 51\" corrected, by a subtraction of 1½’ from the position given by the vicarious hypothesis we found the distance to be 166,396. ['8° 2\\' 51\"']\n",
      "This, with HV, gives the angle VHF, 44° 52' 34\", which differs from 45° 0' 0\" by only 7’ 26\". ['44° 52\\' 34\"']\n",
      "On 1593 December 10, at 7h 0m in the evening, Mars was observed at 4° 44' Aries, with latitude 0° 1' 15\" south, parallax not accounted for ^1. ['0° 1\\' 15\"']\n",
      "On the 23rd its latitude was 6° 7' 30\". ['6° 7\\' 30\"']\n",
      "On the 24th it was 6° 5' 30\". ['6° 5\\' 30\"']\n",
      "On the 29th it was 5° 52' 15\". ['5° 52\\' 15\"']\n",
      "Therefore, according to this proportion, if the latitude on the day and hour of opposition is taken to be 6° 2' 30\", there will not be half a minute's error. ['6° 2\\' 30\"']\n",
      "Hence, in the diagram of Chapter 13, if A is the sun, B the earth, C Mars, and AB is 100,666, AC 138,556, and EBC 6° 2' 30\", the declination BAC of the orbit from the ecliptic at this point is shown to be 1° 39' 22\". ['6° 2\\' 30\"']\n",
      "And as the sine of this is to the inclination here of 1° 39' 22\", so is the whole sine to 1° 50' 10\", the inclination of the southern limit ^3. ['1° 39\\' 22\"']\n",
      "Since these things are certain, and since the line designated by K appeared to be 5° 46¼’ from E, multiplying the sine of this by the sine of EAK, and then dividing by the sine of AEK, results in the sine 3188, whose arc is 1° 49' 37\". ['1° 49\\' 37\"']\n",
      "And this is the amount of the inclination of the point K as it would appear from A. And since Mars is at 20° 1½' Aquarius, and the node is at 16° 43' Taurus,7 and thus the elongation of Mars from the node is 86° 42', therefore, as the sine of this elongation is to the whole sine, so is the sine of 1° 49' 37\" to the sine of the maximum inclination, 3200 ^8. ['1° 49\\' 37\"']\n",
      "Therefore, as before, this again gives 1° 50' 2\" south. ['1° 50\\' 2\"']\n",
      "Accordingly, the latitude then was 4° 31' 10\". ['4° 31\\' 10\"']\n",
      "And since the [full-circle] complement of Mars's equated anomaly was 7° 6' 23\",11 its distance from the sun was 166,334, and the sun's distance from the earth, 98,724. ['7° 6\\' 23\"']\n",
      "So, again in the diagram of Chapter 13, if AC is 166,334, AB 98,724, and EBC 4° 31' 10\", BCA comes out to be 2° 40' 50\". ['4° 31\\' 10\"']\n",
      "This, subtracted from EBC, leaves BAC, 1° 50' 20\". ['1° 50\\' 20\"']\n",
      "But because we are 5° from the limit, the inclination of the limit will be about 25\" greater, namely, 1° 50' 45\". ['1° 50\\' 45\"']\n",
      "Before, the southern inclination was 1° 50' 8\". ['1° 50\\' 8\"']\n",
      "The average of the two is 1° 50' 25\", the perfectly correct inclination, the same amount found in Ch. ['1° 50\\' 25\"']\n",
      "We therefore have the acronychal latitudes determined accurately enough throughout the entire circumference of the circle, using this inclination of 1° 50' 30\". ['1° 50\\' 30\"']\n",
      "circles (ML and KH) are distant by an amount equal to their maximum declination MK, LH, the poles of Mars B, C will therefore describe small circles about the poles of the ecliptic F, G, with radius FB, GC, of 1° 50' 25\". ['1° 50\\' 25\"']\n",
      "For the inclination, too, will be accommodated to this view, becoming 1° 51' 0\". ['1° 51\\' 0\"']\n",
      "13, Mars's greatest distance AC is 166,465, the sun's least distance AB is 98,200, and BAC is 1° 50½’, the maximum northern latitude at opposition to the sun computed from these data is 4° 29' 10\". ['4° 29\\' 10\"']\n",
      "At conjunction with the sun, when the sun's distance from the earth is 101,800, this is decreased to 1° 8' 34\". ['1° 8\\' 34\"']\n",
      "But the southern latitude, from Mars's distance of 138,234, and the sun's of 101,800, is computed to be 6° 58' 24\", a little less than 7°. ['6° 58\\' 24\"']\n",
      "At conjunction with the sun, when the sun's distance is 98,200, this is decreased to 1° 4' 36\". ['1° 4\\' 36\"']\n",
      "If, however, one considers the contrary case, in which the sun's apogee coincides with Mars's perihelion, the maximum northern latitude at opposition comes out to be 4° 44' 12\", and at conjunction 1° 9' 32\", while the southern latitude at opposition is 6° 20' 50\", and at conjunction 1° 3' 32\". ['4° 44\\' 12\"']\n",
      "At conjunction with the sun, since its distance is 101,280, this appears as 1° 8' 30\" ^3. ['1° 8\\' 30\"']\n",
      "Hence it is concluded that the maximum southern latitude will be about 6° 52' 20\",4 and at conjunction it appears as 2° 4' 20\" ^5. ['6° 52\\' 20\"']\n",
      "So, on August 10 at 13h 45m, Mars's eccentric position on the ecliptic is computed to be 2° 41' 18\" Pisces, the sun was 27° 37' 49\" Leo, the angle at the sun 5° 3' 29\", the angle at the earth 18° 25', and from the calculation Mars was at 16° 3' Pisces, while it was observed at 16° 7' Pisces ^9. ['2° 41\\' 18\" Pisces']\n",
      "And since 2° 40’ 48\" Pisces, the position on the orbit, is distant from 16° 43' Taurus10 by 74° 2', the inclination will therefore be 1° 46' 10\". ['2° 40’ 48\" Pisces']\n",
      "62, the observed latitude is found to be 6° 21' 14\", still two minutes more than the observation has. ['6° 21\\' 14\"']\n",
      "Let the ecliptic position be 2° 41' 18\" Pisces, Mars standing beneath the point λ, and κ be the position opposite the sun, 27° 37' 49\" Aquarius. ['2° 41\\' 18\" Pisces']\n",
      "Therefore, κβ is 5° 3' 29\", and βλ is 1° 46' 10\". ['5° 3\\' 29\"']\n",
      "From this and the right angle λβκ, κλ or CAL is given as 5° 21' 36\", to which corresponds the true distance of Mars L from the sun A ^11. ['5° 21\\' 36\"']\n",
      "So now, using these angles of the operation, I find the apparent latitude LCB to be 6° 19' 10\", very nearly the same as the observed value ^12. ['6° 19\\' 10\"']\n",
      "Therefore, where the semidiameter of Mars's orb is 100,000, κς will be 1790, showing an angle of 1° 1' 33\" in the [table of] sines. ['1° 1\\' 33\"']\n",
      "The ascending node [P'] should therefore have been moved backward, and the descending node [P] moved forward, by that number of degrees, minutes, and seconds, if I had been mistaken in taking the sun's center κ instead of the Ptolemaic, Copernican, and Brahean point β. But in turn, where the observations are referred to the mean sun, and thus the point β is taken, if this is done in error, and κ should have been chosen instead, the ascending node [Ν'] found from β should be in a place farther forward, and the descending node [N] farther back, so as to shorten the northern semicircle [N’ηN] by an arc of 2° 3' 6\". ['2° 3\\' 6\"']\n",
      "The inclination, that is, the angle LAB under which the digression of the northern limit appears when seen from the sun A, was there found to be 1° 50' 45\". ['1° 50\\' 45\"']\n",
      "But the angle MAD, under which the southern limit's digression from the ecliptic appears when viewed from the sun A, was found to be nearly equal to it, namely, 1° 50' 8\". ['1° 50\\' 8\"']\n",
      "To the first interval there corresponds a mean sidereal motion of 80° 57' 14\" beyond the complete cycles, and to the second, 96° 16' 24\". ['80° 57\\' 14\"']\n",
      "But in the former instance the apparent motion of Mars was 68° 21' 20\" beyond the complete cycles, with precession over the interval subtracted, in the amount that it was at that time ^15. ['68° 21\\' 20\"']\n",
      "In the latter instance, the apparent motion was 93° 2' 20\". ['93° 2\\' 20\"']\n",
      "After a few  trials, this is found: If for the last time the aphelion of Mars is placed at 0° 41' Leo, and for the remaining times somewhat before that, owing to the precession of the equinoxes, while at the first time the mean anomaly is 46° 37', at the second, 34° 21', and the third, 130° 37½’; and thus the elongation from the equinox at the middle time was 5s 4° 59' 20\", then by the modern hypothesis of the equations the star Mars is placed at 21° 7' Gemini for the first time, 29° [31']16 Leo for the second, and 2° 37½' Sagittarius for the third, fortuitously precise. ['4° 59\\' 20\"']\n",
      "Therefore, the mean motion corresponding to it is 5' 40\" smaller, namely, 96° 10' 48\". ['96° 10\\' 48\"']\n",
      "But when 36' are subtracted from Mars's aphelion, placing it at 0° 3' Leo26 for the last time, and when its mean motion is so adjusted that for the middle time the [mean] anomaly is 34° 58½’ with longitude from the equinoctial of 5s 5° 0' 50\", the following observations result:27 ['5° 0\\' 50\"']\n",
      "Let us therefore follow whither our inclinations and our arguments lead: as in the first case, in the second year of Antonine, on the 12th day of Epiphi, at the 8th hour, at Alexandria in Egypt, let Mars's mean motion from the  equinoctial be 11° 18' 30\" Sagittarius. ['11° 18\\' 30\" Sagittarius.']\n",
      "Therefore, at Hven in the year of Christ 139 May 27 at 6h the mean motion was 8s 11° 18' 30\". ['11° 18\\' 30\"']\n",
      "But in that year, Cor Leonis had a longitude of 2° 30' Leo, that is, 4s 2° 30' 0\". ['2° 30\\' 0\"']\n",
      "Therefore Mars's mean motion was 4s 8° 48' 30\" from Cor Leonis. ['8° 48\\' 30\"']\n",
      "But on  159944 May 27 at 6h Mars's mean motion was 0s 0° 47' 30\" from the equinoctial, while the distance of Cor Leonis from that point, as demonstrated by Brahe, was 4s 24° 15' 45\". ['0° 47\\' 30\"']\n",
      "Therefore Mars was 7s 6° 31' 45\" from Cor Leonis. ['6° 31\\' 45\"']\n",
      "Therefore, at noon on 1 January in the first year of Christ, at Hven, it is elongated in its mean motion by 5s 8° 52' 45\" from Cor Leonis ^45. ['8° 52\\' 45\"']\n",
      "But today, in 1599 May 27, it is at 28° 58' 50\" Leo, while Cor Leonis is at 24° 15' 45\" Leo. ['28° 58\\' 50\" Leo']\n",
      "Therefore, the mean motion of the sun preceded Cor Leonis by 5s 1° 47' 0\". ['1° 47\\' 0\"']\n",
      "But on 1599 February 23 at 3h 30m at Hven the mean motion of the sun was at 12° 47' 41\" Pisces, and Cor Leonis 24° 15’ 30\" Leo. ['12° 47\\' 41\" Pisces']\n",
      "So the mean motion of the sun preceded Cor Leonis by 5s 11° 27' 49\". ['11° 27\\' 49\"']\n",
      "Over 1460 Egyptian years,46 9° 40' 49\" are removed ^47. ['9° 40\\' 49\"']\n",
      "number of years, and the epoch will be 5s 7° 14’ 36\" from Cor Leonis at the root of the Christian era on January 1 ^48. ['7° 14’ 36\"']\n",
      "Similarly, the progression of the sun's apogee is found to be 8° 23’, and at the root of the Christian era it was 1s 27° 48’ 0\" before Cor Leonis ^49. ['27° 48’ 0\"']\n",
      "Add the motion of the three days and one hour, near apogee, which is 2° 53' 40\" from modern experience. ['2° 53\\' 40\"']\n",
      "This makes it 5° 29' 40\" Gemini, and let the present distance of the apogee be used, 101,800. ['5° 29\\' 40\" Gemini']\n",
      "Therefore, the point opposite the sun and Mars's eccentric position differ by 1° 5' 6\". ['1° 5\\' 6\"']\n",
      "This arc appears to be 3° 43' 14\", so that Mars would appear at 1° 46' 26\" Sagittarius. ['3° 43\\' 14\"']\n",
      "If, however, we use the Ptolemaic eccentricity of the sun, the sun's motion over the three days will be 1' smaller, and the sun will be at 5° 28' 40\" Gemini. ['5° 28\\' 40\" Gemini.']\n",
      "The difference is thus 1° 4' 6\". ['1° 4\\' 6\"']\n",
      "The apparent magnitude of this arc, using the Ptolemaic distance of the sun and earth, 102,100, will be 3° 45' 45\",4 so the planet will fall at 1° 43' Sagittarius. ['3° 45\\' 45\"']\n",
      "From this time interval, by the principles laid down above, the sun's mean motion is found to have gone 5s 25° 32' 50\" beyond Cor Leonis,7 with an anomaly of 234° 54' 34\" . ['25° 32\\' 50\"']\n",
      "The corresponding equation from Ptolemy is 2° 0' 30\", and from Brahe, 1° 42' 54\", additive; and for the former, the sun's distance from the earth is 98,790, and for the latter, 98,976. ['2° 0\\' 30\"']\n",
      "But Mars's mean motion was then 2s 6° 7' 12\" beyond Cor Leonis. ['6° 7\\' 12\"']\n",
      "Also, since the aphelion is 3° 40' 20\" before Cor, Mars's anomaly will be 69° 47' 32\", the equated anomaly 60° 15' 27\", and the distance 158,320. ['3° 40\\' 20\"']\n",
      "Then the sun's elongation from Cor Leonis is 5s 27° 33' 20\",8 differing from Mars's eccentric longitude of 1s 26° 35' 7\" by 4s 0° 58' 13\". ['27° 33\\' 20\"']\n",
      "This arc length, and the distances of the earth and Mars from the sun, show an apparent elongation from the sun of 82° 43' 46\". ['82° 43\\' 46\"']\n",
      "Thus the apparent elongation of Mars from Cor Leonis is 3s 4° 49' 34\" ^9. ['4° 49\\' 34\"']\n",
      "The sun's apparent position will be 17' 36\" farther back, or 5s 27° 15' 44\" ^10. ['27° 15\\' 44\"']\n",
      "Thus the angle of commutation is 4s 0° 40' 37\". ['0° 40\\' 37\"']\n",
      "Through this, together with our value for the sun's distance from earth, as if it too were the same then, Mars's apparent elongation from Cor Leonis is shown as 3s 4° 51' 28\" ^11. ['4° 51\\' 28\"']\n",
      "For Ptolemy, Cor Leonis is at 2° 30' Leo, and the Northern Bright Star in the Brow of Scorpius is at 6° 20' Scorpio, at an elongation of 3s 3° 50' 0\". ['3° 50\\' 0\"']\n",
      "The elongation is 3s 3° 20' 0\" ^13. ['3° 20\\' 0\"']\n",
      "But Mars's elongation was just computed to be 3s 4° 51' 28\". ['4° 51\\' 28\"']\n",
      "Kepler's computations for the latitudinal and longitudinal parallax resulted in positions for Mars's ecliptic longitude of 198° 21' 30\" (18° 21' 30\" Libra), and its latitude 2° 21' 30\". ['198° 21\\' 30\"']\n",
      "Kepler determined the diurnal motions of the Sun and Mars to be 58' 38\" and 22' 36\" respectively, and the sum of the diurnal motions was 1° 21' 14\". ['1° 21\\' 14\"']\n",
      "With the sum of the diurnal motions of Mars and the Sun (1° 21' 14\"), Kepler computed the time it takes for Mars and the Sun to move 58' 38\", that is, about 17 hours 20 minutes. ['1° 21\\' 14\"']\n",
      "The longitudes of Mars and Earth's in reference to the center of the Sun are 198° 21' 30\" and 199° 20' 8\" respectively. ['198° 21\\' 30\"']\n",
      "Accordingly, Kepler determined the longitude of Mars at opposition to be 198° 37' 50\" from which he subtracted about 39\" in order to correct Mars's orbit; he got 198° 37' 10\" (18° 37' 10\" Libra). ['198° 37\\' 50\"']\n"
     ]
    }
   ],
   "source": [
    "print_sents_entities(examples)"
   ]
  },
  {
   "cell_type": "code",
   "execution_count": 45,
   "metadata": {},
   "outputs": [],
   "source": [
    "def print_entities(examples):\n",
    "    entities = []\n",
    "    for example in examples:\n",
    "        if example[\"spans\"] != []:\n",
    "            entities += [example['text'][example[\"spans\"][0][\"start\"]:example[\"spans\"][0][\"end\"]]]\n",
    "    print(\"There is {} entities with this detail\\n{}\".format(len(entities),entities))"
   ]
  },
  {
   "cell_type": "code",
   "execution_count": 46,
   "metadata": {},
   "outputs": [
    {
     "name": "stdout",
     "output_type": "stream",
     "text": [
      "There is 496 entities with this detail\n",
      "['3° 4\\' 52\"', '41° 55\\' 8\"', '16° 33\\' 30\"', '7° 28\\' 56\"', '37° 32\\' 37\"', '4° 20\\' 8\"', '85° 39\\' 52\"', '11° 25\\' 48\"', '11° 23\\' 53\"', '5° 27’ 47”', '23° 32\\' 16\" Leo', '5° 27’ 47”', '5° 27’ 47”', '78° 51’ 54”', '47° 59’ 16”', '44° 59’ 10”', '44° 59’ 10”', '53° 26’ 17”', '44° 59’ 10”', '7° 30’ 10”', '3° 0’ 6”', '1° 3’ 32” But', '26° 45’ 24” Gemini.', '26° 24’ 43” Sagittarius.', '26° 24’ 13” Sagittarius', '8° 36’ 50” Gemini', '6° 41’ 50” Gemini', '6° 42’ 54”', '6° 46’ 10” Gemini.', '16° 46’ 16” Cancer', '21° 18’ 11” Leo', '21° 10’ 30” Leo', '25° 10’ 20” Virgo.', '25° 8’ 32” Virgo', '3° 58\\' 21\" Scorpio', '3° 55’ 49”', '3° 58’ 10”', '1° 12’ 47”', '26° 35’ 31” Sagittarius.', '12° 43’ 48” Pisces.', '12° 43’ 45”', '17° 59’ 7” Taurus.', '17° 56’ 15” Taurus', '10° 38’ 46” Leo', '8° 18’ 45” Leo', '33° 1’ 45”', '9° 48’ 45”', '28° 1’ 0” Libra', '3° 0’ 30”', '2° 48’ 31”', '1° 5’ 4”', '2° 47’ 48”', '2° 48’ 31”', '26° 2’ 15”', '205° 27’ 10”', '26° 18’ 48” Libra', '17° 56’ 5” Taurus', '22° 35’ 10”', '24° 22’ 56” Aries', '11° 34’ 30” Aries', '0° 0’ 45”', '0° 2’ 20”', '0° 0’ 25”', '0° 3’ 46”', '1° 36’ 45”', '13° 0’ 40”', '1° 36’ 6”', '20° 4’ 30” Virgo', '2° 43’ 27“', '1° 48’ 43“', '4° 21’ 10“', '1° 41’ 50“', '0° 45’ 36“ Sagittarius', '7° 51’ 24“', '6° 28’ 35“ Gemini', '17° 13’ 45“ Capricorn.', '1° 25’ 18“', '16° 54’ 32“ Cancer', '21° 18’ 11“ Leo', '22° 21’ 31“Aquarius.', '1° 3’ 20“', '1° 25’ 31“', '21° 36’ 10“ Leo.', '4° 32’ 10“', '26° 26’ 17“ Virgo', '3° 42’ 22“', '23° 59’ 11“ Pisces.', '2° 26’ 49“', '1° 23’ 35“', '2° 26’ 49“', '25° 43’ 53“ Virgo.', '3° 58’ 20“ Scorpio', '1° 9’ 45“', '5° 36’ 20“ Taurus.', '1° 39’ 20“', '1° 20’ 18“', '1° 39’ 20“', '4° 24’ 30“ Scorpio', '27° 14’ 42“ Sagittarius', '24° 58’ 10“ Gemini.', '2° 16’ 10“', '1° 12’ 24“', '1° 15’ 20“', '26° 41’ 48“ Sagittarius', '6° 5’ 30“', '11° 15’ 24“ Pisces', '1° 22’ 36“', '11° 2’ 31“ Virgo.', '1° 35’ 30“', '1° 14’ 51“', '17° 47’ 15“ Taurus', '0° 5’ 10“', '16° 50’ 30“ Scorpio.', '1° 0’ 35“', '1° 23’ 29“', '17° 31’ 40“ Taurus.', '29° 4’ 53“ Sagittarius.', '4° 40’ 37“', '1° 25’ 0“', '10° 38’ 46“ Leo', '3° 26’ 30“ Aquarius.', '7° 12’ 16“', '1° 1’ 3“', '1° 24’ 47“', '4° 30’ 50“ N.', '37° 22’ 20“', '3° 43’ 30“', '13° 19’ 6“ Virgo', '13° 19’ 30“ Virgo', '10° 16’ 42“ Pisces.', '3° 1’ 18“', '1° 0’ 4“', '1° 24’ 9“', '12° 27’ 35“ Virgo.', '4° 36’ 30“ Libra', '14° 18’ 30“ Virgo.', '14° 23’ 36“', '14° 21’ 18“ Virgo.', '11° 21’ 23“ Virgo', '11° 19’ 20“ Virgo', '4° 7’ 40“', '18° 56’ 24“ Aries', '19° 20’ 8“ Aries.', '1° 21’ 14“', '18° 37’ 50“ Libra.', '18° 37’ 10“ Libra.', '0° 47’ 40“', '26° 39’ 23“ Sagittarius', '12° 10’ 30“ Pisces', '17° 24’ 22“ Taurus', '28° 44’ 0“ Leo', '12° 1’ 44“', '12° 19’ 46“', '12° 18’ 44“', '32° 2\\' 6\"', '28° 49\\' 8\" Leo', '70° 22\\' 29\"', '28° 48’ 55\" Leo.', '4° 8\\' 51\"', '85° 51\\' 9\"', '10° 32\\' 38\"', '4° 32\\' 10\"', '2° 42\\' 40\"', '11° 3\\' 16\"', '11° 3\\' 16\"', '1° 1\\' 12\"', '11° 3\\' 16\"', '167° 55\\' 32\"', '82° 44\\' 20\"', '83° 57\\' 46\"', '12° 13\\' 37\" Pisces', '29° 14\\' 58\"', '0° 12\\' 13\"', '25° 45\\' 51\" Pisces.', '30° 0\\' 30\"', '26° 16\\' 38\"', '25° 44\\' 30\"', '25° 44\\' 30\" Aquarius', '21° 55\\' 0\"', '17° 39\\' 30\" Pisces', '29° 11\\' 3\"', '1° 7\\' 11\"', '28° 51\\' 22\"', '26° 12\\' 43\"', '26° 48\\' 35\"', '20° 50\\' 55\"', '6° 37\\' 5\"', '8° 35\\' 33\"', '81° 24\\' 27\"', '81° 42\\' 35\"', '81° 24\\' 27\"', '42° 54\\' 23\"', '9° 14\\' 52\"', '13° 28\\' 16\" Libra.', '4° 23\\' 30\"', '25° 36\\' 30\"', '0° 50\\' 45\" Virgo', '34° 32\\' 45\"', '230° 23\\' 12\"', '64° 23\\' 30\"', '64° 23\\' 30\"', '128° 47\\' 19\"', '51° 12\\' 41\"', '25° 9\\' 20\"', '25° 9\\' 20\"', '26° 3\\' 21\"', '8° 25\\' 21\"', '8° 25\\' 21\"', '4° 38\\' 50\"', '11° 14\\' 55\"', '18° 19\\' 56\"', '15° 53\\' 45\" Taurus.', '20° 47\\' 45\"', '32° 7\\' 14\"', '15° 55\\' 23\"', '35° 46\\' 23\"', '15° 56\\' 56\"', '42° 21’ 30\"', '15° 58\\' 30\"', '18° 52’ 15\" Taurus', '19° 15\\' 15\" Taurus', '3° 23’ 5\"', '42° 52\\' 47\"', '68° 12\\' 26\"', '46° 39\\' 10\"', '43° 6\\' 32\"', '68° 26\\' 44\"', '97° 50\\' 30\"', '24° 22\\' 56\" Aries', '11° 32\\' 44\" Aries', '3° 6\\' 50\" Aries', '19° 39\\' 25\"', '2° 9\\' 4\"', '9° 23\\' 40\"', '3° 4\\' 27\" Aries.', '19° 41\\' 39\" Taurus.', '14° 19\\' 52\" Taurus.', '14° 18\\' 16\" Taurus', '7° 58\\' 26\"', '23° 53\\' 0\"', '43° 22\\' 26\"', '93° 15\\' 8\"', '73° 24\\' 39\"', '19° 56\\' 4\"', '45° 26\\' 37\"', '43° 26\\' 18\"', '76° 37’ 30\"', '75° 8\\' 40\"', '14° 21\\' 7\" Taurus', '21° 40\\' 9\"', '5° 20\\' 2\"', '42° 6\\' 57\"', '69° 43\\' 31\"', '0° 56\\' 31\"', '8° 19\\' 20\" Virgo', '1° 1\\' 53\"', '88° 58\\' 7\"', '88° 58\\' 7\"', '91° 1\\' 53\"', '91° 1’ 53\"', '88° 58’ 7\"', '1° 27\\' 31\"', '0° 43\\' 46\"', '1° 27\\' 24\"', '1° 1\\' 53\"', '1° 1\\' 53\"', '1° 1\\' 53\"', '45° 43\\' 46\"', '14° 21\\' 7\" Taurus', '5° 25\\' 20\" Libra', '1° 12\\' 40\"', '5° 24\\' 30\" Libra.', '8° 19\\' 20\" Virgo', '1° 42\\' 40\"', '114° 2\\' 12\"', '27° 5\\' 17\"', '20° 26\\' 13\"', '35° 10\\' 17\"', '14° 44\\' 4\"', '29° 28\\' 8\"', '78° 44\\' 1\"', '29° 28\\' 8\"', '75° 15\\' 56\"', '38° 15\\' 45\"', '5° 24\\' 21\" Libra', '1° 4\\' 36\" Libra', '1° 36\\' 45\"', '68° 36\\' 0\"', '88° 28\\' 50\"', '33° 58\\' 33\"', '29° 19\\' 49\" Leo', '29° 54\\' 53\" Aquarius', '29° 52\\' 55\"', '29° 20\\' 12\" Leo.', '29° 20\\' 12\" Leo', '29° 20\\' 12\" Leo.', '180° 38\\' 2\"', '29° 25\\' 28\" Leo', '29° 25\\' 28\" Leo.', '5° 17\\' 34\"', '5° 18\\' 28\"', '10° 36\\' 2\"', '95° 18\\' 28\"', '3° 45\\' 12\"', '41° 28\\' 54\"', '48° 45\\' 12\"', '41° 20\\' 33\"', '2° 39’ 15\"', '28° 41\\' 40\" Leo', '0° 53\\' 13\"', '95° 18\\' 28\"', '95° 18\\' 28\"', '5° 20\\' 18\"', '84° 42\\' 2\"', '5° 20\\' 18\"', '48° 45\\' 12\"', '3° 45\\' 12\"', '48° 45\\' 12\"', '41° 14\\' 9\"', '41° 20\\' 33\"', '138° 45\\' 12\"', '48° 45\\' 55\"', '131° 7\\' 26\"', '179° 14\\' 15\"', '179° 14\\' 15\"', '5° 15\\' 30\"', '358° 28\\' 30\"', '48° 42\\' 59\"', '48° 46\\' 51\"', '48° 42\\' 51\"', '41° 13\\' 9\"', '53° 23\\' 56\"', '26° 0\\' 36\"', '26° 13\\' 39\"', '50° 32\\' 18\"', '8° 43\\' 18\" Sagittarius.', '21° 50\\' 20\"', '16° 47\\' 10\" Capricorn', '28° 41\\' 14\"', '15° 31\\' 3\" Scorpio.', '38° 0\\' 40\"', '23° 6\\' 11\"', '15° 40\\' 9\" Scorpio', '15° 43\\' 40\" Scorpio.', '15° 29\\' 34\" Scorpio', '87° 9\\' 24\"', '11° 31\\' 27\" Taurus', '5° 39\\' 3\" Capricorn.', '2° 4\\' 22\"', '28° 58\\' 10\"', '87° 9\\' 24\"', '76° 25\\' 48\"', '12° 32\\' 22\" Gemini.', '12° 32\\' 22\" Gemini', '5° 39\\' 3\" Capricorn', '29° 10\\' 43\"', '1° 36’ 24\"', '12° 16\\' 17\" Cancer.', '16° 38\\' 8\" Scorpio', '29° 42\\' 10\"', '7° 31\\' 10\" Scorpio', '9° 46\\' 8\"', '28° 51\\' 8\"', '70° 55\\' 0\"', '0° 8\\' 43\" Scorpio', '21° 39\\' 10\"', '8° 21\\' 47\"', '38° 43\\' 20\"', '1° 26\\' 30\"', '29° 35\\' 17\" Scorpio', '15° 10\\' 20\"', '63° 45\\' 18\"', '24° 59\\' 2\" Gemini.', '26° 35\\' 30\" Cancer', '29° 31\\' 24\"', '15° 35\\' 0\"', '76° 17\\' 48\"', '14° 0\\' 3\" Sagittarius', '22° 8\\' 44\" Cancer', '23° 14\\' 15\" Leo', '26° 0\\' 30\" Leo', '2° 46\\' 25\"', '27° 27\\' 30\" Leo', '73° 27\\' 27\"', '12° 38\\' 44\"', '15° 9\\' 5\" Aquarius', '9° 0\\' 25\"', '4° 16\\' 51\" Capricorn', '26° 6\\' 24\" Virgo', '81° 49\\' 33\"', '24° 3\\' 43\" Scorpio', '60° 47\\' 43\"', '2° 8\\' 43\" Gemini', '30° 15\\' 44\"', '4° 11\\' 20\"', '21° 44\\' 56\"', '1° 11\\' 47\"', '2° 39\\' 15\" Scorpio', '2° 10\\' 52\" S.', '25° 41\\' 0\" Virgo', '7° 59\\' 52\" Leo', '45° 35\\' 13\"', '34° 43\\' 47\"', '17° 2\\' 31\" Pisces', '17° 25\\' 42\" Cancer', '56° 11\\' 46\"', '161° 45\\' 28\"', '0° 41\\' 0\" Cancer', '18° 48\\' 47\" Leo', '7° 14’ 34\"', '10° 9\\' 41\"', '8° 2\\' 51\"', '44° 52\\' 34\"', '0° 1\\' 15\"', '6° 7\\' 30\"', '6° 5\\' 30\"', '5° 52\\' 15\"', '6° 2\\' 30\"', '6° 2\\' 30\"', '1° 39\\' 22\"', '1° 49\\' 37\"', '1° 49\\' 37\"', '1° 50\\' 2\"', '4° 31\\' 10\"', '7° 6\\' 23\"', '4° 31\\' 10\"', '1° 50\\' 20\"', '1° 50\\' 45\"', '1° 50\\' 8\"', '1° 50\\' 25\"', '1° 50\\' 30\"', '1° 50\\' 25\"', '1° 51\\' 0\"', '4° 29\\' 10\"', '1° 8\\' 34\"', '6° 58\\' 24\"', '1° 4\\' 36\"', '4° 44\\' 12\"', '1° 8\\' 30\"', '6° 52\\' 20\"', '2° 41\\' 18\" Pisces', '2° 40’ 48\" Pisces', '6° 21\\' 14\"', '2° 41\\' 18\" Pisces', '5° 3\\' 29\"', '5° 21\\' 36\"', '6° 19\\' 10\"', '1° 1\\' 33\"', '2° 3\\' 6\"', '1° 50\\' 45\"', '1° 50\\' 8\"', '80° 57\\' 14\"', '68° 21\\' 20\"', '93° 2\\' 20\"', '4° 59\\' 20\"', '96° 10\\' 48\"', '5° 0\\' 50\"', '11° 18\\' 30\" Sagittarius.', '11° 18\\' 30\"', '2° 30\\' 0\"', '8° 48\\' 30\"', '0° 47\\' 30\"', '6° 31\\' 45\"', '8° 52\\' 45\"', '28° 58\\' 50\" Leo', '1° 47\\' 0\"', '12° 47\\' 41\" Pisces', '11° 27\\' 49\"', '9° 40\\' 49\"', '7° 14’ 36\"', '27° 48’ 0\"', '2° 53\\' 40\"', '5° 29\\' 40\" Gemini', '1° 5\\' 6\"', '3° 43\\' 14\"', '5° 28\\' 40\" Gemini.', '1° 4\\' 6\"', '3° 45\\' 45\"', '25° 32\\' 50\"', '2° 0\\' 30\"', '6° 7\\' 12\"', '3° 40\\' 20\"', '27° 33\\' 20\"', '82° 43\\' 46\"', '4° 49\\' 34\"', '27° 15\\' 44\"', '0° 40\\' 37\"', '4° 51\\' 28\"', '3° 50\\' 0\"', '3° 20\\' 0\"', '4° 51\\' 28\"', '198° 21\\' 30\"', '1° 21\\' 14\"', '1° 21\\' 14\"', '198° 21\\' 30\"', '198° 37\\' 50\"']\n"
     ]
    }
   ],
   "source": [
    "print_entities(examples)"
   ]
  },
  {
   "cell_type": "markdown",
   "metadata": {},
   "source": [
    "## See Misaligned Tokens"
   ]
  },
  {
   "cell_type": "markdown",
   "metadata": {},
   "source": [
    "<fig size= 3>\n",
    "This step is very important, since if Pordigy faces with Misaligned tokens, we can see that before and try to adjust regex accordingly\n",
    "<fig size>"
   ]
  },
  {
   "cell_type": "code",
   "execution_count": 54,
   "metadata": {},
   "outputs": [],
   "source": [
    "def misaligned_token(examples):\n",
    "    counter=0\n",
    "    nlp = spacy.load(\"en_core_web_sm\")  \n",
    "    for example in examples:  \n",
    "        doc = nlp(example[\"text\"])\n",
    "        for span in example[\"spans\"]:\n",
    "            char_span = doc.char_span(span[\"start\"], span[\"end\"])\n",
    "            if char_span is None:  \n",
    "                counter+=1\n",
    "                print(\"{}- Misaligned tokens-->\".format(counter), example[\"text\"], span)"
   ]
  },
  {
   "cell_type": "code",
   "execution_count": 49,
   "metadata": {},
   "outputs": [
    {
     "name": "stdout",
     "output_type": "stream",
     "text": [
      "1- Misaligned tokens On 1580 November 12 at 10h 50m,1 they set Mars down at 8° 36’ 50” Gemini2 without mentioning the horizontal variations,  by which term I wish the diurnal parallaxes and the refractions to be understood in what follows. {'start': 55, 'end': 72, 'label': 'LONG'}\n",
      "2- Misaligned tokens But from this right ascension, I first select,  from Tycho’s table of right ascensions, the degree of the right sphere that was riding at the same time, 28° 1’ 0” Libra,27 whose declination, from another of that author’s tables,28 is 10° 48’ 30” [South]. {'start': 153, 'end': 168, 'label': 'LONG'}\n",
      "3- Misaligned tokens On the night following 1587 March 4, at 1h 16m past midnight, the position of Mars was found to be 26° 26’ 17“ Virgo,8 from Cor Leonis9 and Spica Virginis, with an observed latitude of 3° 38’ 16“ north. {'start': 99, 'end': 116, 'label': 'LONG'}\n",
      "4- Misaligned tokens On the night following 1589 April 15 at 12h 5m, the planet was found at 3° 58’ 20“ Scorpio,13 with latitude 1° 4’ 20“ north, decreasing. {'start': 72, 'end': 90, 'label': 'LONG'}\n",
      "5- Misaligned tokens On the night following 1591 June 6 at 12h 20m, Mars was found at 27° 14’ 42“ Sagittarius,16 with latitude 3° 55½’ south. {'start': 65, 'end': 88, 'label': 'LONG'}\n",
      "6- Misaligned tokens On 1595 October 30 at 8h 20m, the planet was found at 17° 47’ 15“ Taurus,19 not far from the nonagesimal. {'start': 54, 'end': 72, 'label': 'LONG'}\n",
      "7- Misaligned tokens And since the distance between Cor Leonis and Procyon was 37° 22’ 20“, which should have been 37° 19’ 50“,24 we know that the sextant reads 2½ minutes high. {'start': 94, 'end': 105, 'label': 'LONG'}\n",
      "8- Misaligned tokens And δηζ will be 43° 26' 18\", and δγζ 86° 52' 36\", γδζ 46° 33' 42\", and γδα 1° 7' 5\"- a different angle from different beginnings. {'start': 75, 'end': 83, 'label': 'LONG'}\n",
      "9- Misaligned tokens At 7¼h on the morning of that day, Mars's mean longitude is calculated to be 7s 26° 13' 39\",2 a few minutes beyond the other. {'start': 80, 'end': 91, 'label': 'LONG'}\n",
      "10- Misaligned tokens And for the first time the mean anomaly is 87° 9' 24\", and 87° 16' 30\"8 for the second. {'start': 59, 'end': 70, 'label': 'LONG'}\n",
      "11- Misaligned tokens 12 at 13h 26m at 23° 14' 15\" Leo,23 with latitude 2° 12' 24\" N. On the 20th of Nov. {'start': 17, 'end': 32, 'label': 'LONG'}\n",
      "12- Misaligned tokens 1227 at 5h 13m am, the mean longitude was 6s 12° 38' 44\",28 aphelion 4s 28° 50' 57\"; and consequently, the mean anomaly was 43° 47' 48\", lower than our previous one by 24 minutes. {'start': 45, 'end': 56, 'label': 'LONG'}\n",
      "13- Misaligned tokens And since the [full-circle] complement of Mars's equated anomaly was 7° 6' 23\",11 its distance from the sun was 166,334, and the sun's distance from the earth, 98,724. {'start': 69, 'end': 78, 'label': 'LONG'}\n",
      "14- Misaligned tokens Hence it is concluded that the maximum southern latitude will be about 6° 52' 20\",4 and at conjunction it appears as 2° 4' 20\" ^5. {'start': 71, 'end': 81, 'label': 'LONG'}\n",
      "15- Misaligned tokens The apparent magnitude of this arc, using the Ptolemaic distance of the sun and earth, 102,100, will be 3° 45' 45\",4 so the planet will fall at 1° 43' Sagittarius. {'start': 104, 'end': 114, 'label': 'LONG'}\n",
      "16- Misaligned tokens Then the sun's elongation from Cor Leonis is 5s 27° 33' 20\",8 differing from Mars's eccentric longitude of 1s 26° 35' 7\" by 4s 0° 58' 13\". {'start': 48, 'end': 59, 'label': 'LONG'}\n"
     ]
    }
   ],
   "source": [
    "misaligned_token(examples)"
   ]
  },
  {
   "cell_type": "markdown",
   "metadata": {},
   "source": [
    "# Edge Cases"
   ]
  },
  {
   "cell_type": "markdown",
   "metadata": {},
   "source": [
    "As it is clear from above , After using regular expression we faced with some specific format like these words:\n",
    "- 8° 36’ 50” Gemini2\n",
    "- 28° 1’ 0” Libra,27\n",
    "- 26° 26’ 17“ Virgo,8\n",
    "- 3° 58’ 20“ Scorpio,13\n",
    "- 27° 14’ 42“ Sagittarius,16\n",
    "- 17° 47’ 15“ Taurus,19\n",
    "- 37° 19’ 50“,24\n",
    "- 1° 7' 5\"-\n",
    "- 26° 13' 39\",2\n",
    "- 7° 6' 23\",11\n",
    "- 6° 52' 20\",4\n",
    "- 3° 45' 45\",4\n",
    "- 7° 33' 20\",8\n",
    "\n",
    "We consider these words as edge cases which means tokens are not consistant with the tokens assigned by the model’s tokenizer.  "
   ]
  },
  {
   "cell_type": "markdown",
   "metadata": {},
   "source": [
    "## Solution"
   ]
  },
  {
   "cell_type": "markdown",
   "metadata": {},
   "source": [
    "We can modify our annotation rules based on the above examples"
   ]
  },
  {
   "cell_type": "code",
   "execution_count": 51,
   "metadata": {},
   "outputs": [],
   "source": [
    "label = \"LONG\"   \n",
    "texts = sents  \n",
    "\n",
    "regex_patterns = [\n",
    "                  re.compile(r\"\\d{1,3}\\s?°\\s?\\d{1,2}\\s?[\\'|’]\\s?\\d{1,2}\\s?[\\\"|”|“]\\s?[A-Z][a-z.]+(,\\d{1,2})?\"\n",
    "                              \"|\\d{1,3}\\s?°\\s?\\d{1,2}\\s?[\\'|’]\\s?\\d{1,2}\\s?[\\\"|”|“](,\\d{1,2})?\")           \n",
    "]\n",
    " \n",
    "#(5° 20\\' 2\\\"  Libra,|21° 44\\' 56\\\"  Sagittarius,|(?<!\\S)\\d{1,2}\\s?°\\s\\d{1,2}\\s?[\\'|’]\\s?\\d{1,2}\\s?[\\\"|”]\\s[A-Z][a-z]+(?!\\S?\\S)|(?<!\\S)\\d{1,2}\\s?°\\s\\d{1,2}\\s?[\\'|’]\\s?\\d{1,2}\\s?[\\\"|”].?(?!\\S?\\S)|(?<!\\S)\\d{1,2}\\s?°\\s?\\d{1,2}\\s?[\\'|’]\\s?[A-Z][a-z]+(?!\\S?\\S))[,:/.]?\n",
    "examples = []\n",
    "for text in texts:\n",
    "    for expression in regex_patterns:\n",
    "        spans = []\n",
    "    for match in re.finditer(expression, text):\n",
    "        start, end = match.span()\n",
    "        span = {\"start\": start, \"end\": end, \"label\": label}\n",
    "        spans.append(span)\n",
    "    task = {\"text\": text, \"spans\": spans}\n",
    "    examples.append(task)              \n"
   ]
  },
  {
   "cell_type": "code",
   "execution_count": 55,
   "metadata": {},
   "outputs": [
    {
     "name": "stdout",
     "output_type": "stream",
     "text": [
      "1- Misaligned tokens--> On 1580 November 12 at 10h 50m,1 they set Mars down at 8° 36’ 50” Gemini2 without mentioning the horizontal variations,  by which term I wish the diurnal parallaxes and the refractions to be understood in what follows. {'start': 55, 'end': 72, 'label': 'LONG'}\n",
      "2- Misaligned tokens--> And δηζ will be 43° 26' 18\", and δγζ 86° 52' 36\", γδζ 46° 33' 42\", and γδα 1° 7' 5\"- a different angle from different beginnings. {'start': 75, 'end': 83, 'label': 'LONG'}\n",
      "3- Misaligned tokens--> And for the first time the mean anomaly is 87° 9' 24\", and 87° 16' 30\"8 for the second. {'start': 59, 'end': 70, 'label': 'LONG'}\n"
     ]
    }
   ],
   "source": [
    "misaligned_token(examples)"
   ]
  },
  {
   "cell_type": "markdown",
   "metadata": {},
   "source": [
    "# Refined Edge Cases"
   ]
  },
  {
   "cell_type": "markdown",
   "metadata": {},
   "source": [
    "- 8° 36’ 50” Gemini2\n",
    "- 1° 7' 5\"-\n",
    "- 87° 16' 30\"8\n"
   ]
  },
  {
   "cell_type": "markdown",
   "metadata": {},
   "source": [
    "### One Possible Solution "
   ]
  },
  {
   "cell_type": "code",
   "execution_count": 68,
   "metadata": {},
   "outputs": [],
   "source": [
    "label = \"LONG\"   \n",
    "texts = sents  \n",
    "\n",
    "regex_patterns = [\n",
    "                  re.compile(r\"8° 36’ 50” Gemini2|1° 7' 5\\\"-|87° 16' 30\\\"8|\\d{1,3}\\s?°\\s?\\d{1,2}\\s?[\\'|’]\\s?\\d{1,2}\\s?[\\\"|”|“]\\s?[A-Z][a-z.]+(,\\d{1,2})?\"\n",
    "                              \"|\\d{1,3}\\s?°\\s?\\d{1,2}\\s?[\\'|’]\\s?\\d{1,2}\\s?[\\\"|”|“](,\\d{1,2})?\")           \n",
    "]\n",
    " \n",
    "#(5° 20\\' 2\\\"  Libra,|21° 44\\' 56\\\"  Sagittarius,|(?<!\\S)\\d{1,2}\\s?°\\s\\d{1,2}\\s?[\\'|’]\\s?\\d{1,2}\\s?[\\\"|”]\\s[A-Z][a-z]+(?!\\S?\\S)|(?<!\\S)\\d{1,2}\\s?°\\s\\d{1,2}\\s?[\\'|’]\\s?\\d{1,2}\\s?[\\\"|”].?(?!\\S?\\S)|(?<!\\S)\\d{1,2}\\s?°\\s?\\d{1,2}\\s?[\\'|’]\\s?[A-Z][a-z]+(?!\\S?\\S))[,:/.]?\n",
    "examples = []\n",
    "for text in texts:\n",
    "    for expression in regex_patterns:\n",
    "        spans = []\n",
    "    for match in re.finditer(expression, text):\n",
    "        start, end = match.span()\n",
    "        span = {\"start\": start, \"end\": end, \"label\": label}\n",
    "        spans.append(span)\n",
    "    task = {\"text\": text, \"spans\": spans}\n",
    "    examples.append(task)              \n",
    "write_jsonl(\"NER_LONG_V02.jsonl\", examples)"
   ]
  },
  {
   "cell_type": "code",
   "execution_count": 69,
   "metadata": {},
   "outputs": [],
   "source": [
    "misaligned_token(examples)"
   ]
  }
 ],
 "metadata": {
  "kernelspec": {
   "display_name": "Python 3",
   "language": "python",
   "name": "python3"
  },
  "language_info": {
   "codemirror_mode": {
    "name": "ipython",
    "version": 3
   },
   "file_extension": ".py",
   "mimetype": "text/x-python",
   "name": "python",
   "nbconvert_exporter": "python",
   "pygments_lexer": "ipython3",
   "version": "3.7.1"
  }
 },
 "nbformat": 4,
 "nbformat_minor": 2
}
