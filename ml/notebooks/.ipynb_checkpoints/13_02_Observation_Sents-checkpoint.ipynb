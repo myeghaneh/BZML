{
 "cells": [
  {
   "cell_type": "markdown",
   "metadata": {},
   "source": [
    "# Print Annotation's result based on trained spaCy model (ALL Labels before edition*)\n"
   ]
  },
  {
   "cell_type": "markdown",
   "metadata": {},
   "source": [
    "<fig size= \"4\">\n",
    "This notebook provides a colorfull print of  labeld data. The data first is annotated label by label using regex and then corrected by annotator* using prodigy interface. We also made a  SpaCy model for Named Entity Recognition for each labels. Furtheremore, in each step of merging we made a  customized model of spacy regarding to each step of merging. Finally  You can see the result of annotation as colorfull print in the end of notebook </p>\n",
    "</fig size= \"4\">  "
   ]
  },
  {
   "cell_type": "code",
   "execution_count": 1,
   "metadata": {},
   "outputs": [],
   "source": [
    "import spacy \n",
    "from spacy import displacy \n"
   ]
  },
  {
   "cell_type": "markdown",
   "metadata": {},
   "source": [
    "## Read the Data"
   ]
  },
  {
   "cell_type": "code",
   "execution_count": 2,
   "metadata": {},
   "outputs": [],
   "source": [
    "import pandas as pd\n",
    "import numpy as np\n",
    "importVersion = '013'"
   ]
  },
  {
   "cell_type": "code",
   "execution_count": 3,
   "metadata": {},
   "outputs": [],
   "source": [
    "path= '../data/01_df_v{0}.pickle'.format(importVersion)# Put the path of the data in your local machine here, consider the letter \"r\" before the path\n",
    "dfAstroNova = pd.read_pickle(path)"
   ]
  },
  {
   "cell_type": "code",
   "execution_count": 4,
   "metadata": {},
   "outputs": [],
   "source": [
    "# Sort the data based on the chapters of the book \n",
    "dfAstroNova['chapter'] = dfAstroNova.chapter.replace(\"appendix b\",np.nan).astype(float)  \n",
    "dfAstroNova = dfAstroNova.rename_axis('MyIdx').sort_values(by = ['chapter', 'MyIdx'], ascending = [True, True])\n",
    "dfAstroNova.chapter.fillna('appendix b', inplace=True)"
   ]
  },
  {
   "cell_type": "code",
   "execution_count": 5,
   "metadata": {},
   "outputs": [],
   "source": [
    "dfAstroNova.reset_index(inplace=True)\n",
    "dfAstroNova=dfAstroNova.drop(\"MyIdx\",axis=1,inplace=False)\n",
    "dfAstroNova=dfAstroNova.drop(\"html\",axis=1)"
   ]
  },
  {
   "cell_type": "code",
   "execution_count": 6,
   "metadata": {},
   "outputs": [
    {
     "data": {
      "text/plain": [
       "pandas.core.frame.DataFrame"
      ]
     },
     "execution_count": 6,
     "metadata": {},
     "output_type": "execute_result"
    }
   ],
   "source": [
    "type(dfAstroNova)"
   ]
  },
  {
   "cell_type": "code",
   "execution_count": 7,
   "metadata": {},
   "outputs": [
    {
     "data": {
      "text/html": [
       "<div>\n",
       "<style scoped>\n",
       "    .dataframe tbody tr th:only-of-type {\n",
       "        vertical-align: middle;\n",
       "    }\n",
       "\n",
       "    .dataframe tbody tr th {\n",
       "        vertical-align: top;\n",
       "    }\n",
       "\n",
       "    .dataframe thead th {\n",
       "        text-align: right;\n",
       "    }\n",
       "</style>\n",
       "<table border=\"1\" class=\"dataframe\">\n",
       "  <thead>\n",
       "    <tr style=\"text-align: right;\">\n",
       "      <th></th>\n",
       "      <th>text</th>\n",
       "      <th>links</th>\n",
       "      <th>italic</th>\n",
       "      <th>chapter</th>\n",
       "      <th>graphic</th>\n",
       "      <th>table</th>\n",
       "      <th>marginal</th>\n",
       "      <th>sentences</th>\n",
       "      <th>tagged</th>\n",
       "    </tr>\n",
       "  </thead>\n",
       "  <tbody>\n",
       "    <tr>\n",
       "      <th>0</th>\n",
       "      <td>Chapter 1</td>\n",
       "      <td>[]</td>\n",
       "      <td>[]</td>\n",
       "      <td>1</td>\n",
       "      <td>[]</td>\n",
       "      <td>[]</td>\n",
       "      <td>[]</td>\n",
       "      <td>[Chapter 1]</td>\n",
       "      <td>[[(Chapter, None), (1, NUM)]]</td>\n",
       "    </tr>\n",
       "    <tr>\n",
       "      <th>1</th>\n",
       "      <td>On the distinction between the first motion an...</td>\n",
       "      <td>[]</td>\n",
       "      <td>[]</td>\n",
       "      <td>1</td>\n",
       "      <td>[]</td>\n",
       "      <td>[]</td>\n",
       "      <td>[]</td>\n",
       "      <td>[On the distinction between the first motion a...</td>\n",
       "      <td>[[(On, None), (the, None), (distinction, None)...</td>\n",
       "    </tr>\n",
       "    <tr>\n",
       "      <th>2</th>\n",
       "      <td>The testimony of the ages confirms that the mo...</td>\n",
       "      <td>[]</td>\n",
       "      <td>[]</td>\n",
       "      <td>1</td>\n",
       "      <td>[]</td>\n",
       "      <td>[]</td>\n",
       "      <td>[ Terms: 1. The first motion is that of the wh...</td>\n",
       "      <td>[The testimony of the ages confirms that the m...</td>\n",
       "      <td>[[(The, None), (testimony, None), (of, None), ...</td>\n",
       "    </tr>\n",
       "    <tr>\n",
       "      <th>3</th>\n",
       "      <td>It is just this from which astronomy arose amo...</td>\n",
       "      <td>[]</td>\n",
       "      <td>[]</td>\n",
       "      <td>1</td>\n",
       "      <td>[ ch 1 gr 1]</td>\n",
       "      <td>[]</td>\n",
       "      <td>[]</td>\n",
       "      <td>[It is just this from which astronomy arose am...</td>\n",
       "      <td>[[(It, None), (is, None), (just, None), (this,...</td>\n",
       "    </tr>\n",
       "    <tr>\n",
       "      <th>4</th>\n",
       "      <td>Before the distinction between the first motio...</td>\n",
       "      <td>[]</td>\n",
       "      <td>[(such]</td>\n",
       "      <td>1</td>\n",
       "      <td>[]</td>\n",
       "      <td>[]</td>\n",
       "      <td>[ 2]</td>\n",
       "      <td>[Before the distinction between the first moti...</td>\n",
       "      <td>[[(Before, None), (the, None), (distinction, N...</td>\n",
       "    </tr>\n",
       "  </tbody>\n",
       "</table>\n",
       "</div>"
      ],
      "text/plain": [
       "                                                text links   italic chapter  \\\n",
       "0                                          Chapter 1    []       []       1   \n",
       "1  On the distinction between the first motion an...    []       []       1   \n",
       "2  The testimony of the ages confirms that the mo...    []       []       1   \n",
       "3  It is just this from which astronomy arose amo...    []       []       1   \n",
       "4  Before the distinction between the first motio...    []  [(such]       1   \n",
       "\n",
       "        graphic table                                           marginal  \\\n",
       "0            []    []                                                 []   \n",
       "1            []    []                                                 []   \n",
       "2            []    []  [ Terms: 1. The first motion is that of the wh...   \n",
       "3  [ ch 1 gr 1]    []                                                 []   \n",
       "4            []    []                                               [ 2]   \n",
       "\n",
       "                                           sentences  \\\n",
       "0                                        [Chapter 1]   \n",
       "1  [On the distinction between the first motion a...   \n",
       "2  [The testimony of the ages confirms that the m...   \n",
       "3  [It is just this from which astronomy arose am...   \n",
       "4  [Before the distinction between the first moti...   \n",
       "\n",
       "                                              tagged  \n",
       "0                      [[(Chapter, None), (1, NUM)]]  \n",
       "1  [[(On, None), (the, None), (distinction, None)...  \n",
       "2  [[(The, None), (testimony, None), (of, None), ...  \n",
       "3  [[(It, None), (is, None), (just, None), (this,...  \n",
       "4  [[(Before, None), (the, None), (distinction, N...  "
      ]
     },
     "execution_count": 7,
     "metadata": {},
     "output_type": "execute_result"
    }
   ],
   "source": [
    "dfAstroNova.head(5)"
   ]
  },
  {
   "cell_type": "code",
   "execution_count": 40,
   "metadata": {},
   "outputs": [
    {
     "data": {
      "text/plain": [
       "pandas.core.series.Series"
      ]
     },
     "execution_count": 40,
     "metadata": {},
     "output_type": "execute_result"
    }
   ],
   "source": [
    "df=dfAstroNova.reset_index().text.str.split('.',expand=True).stack().reset_index(level=-1,drop=True)\n",
    "type(df)"
   ]
  },
  {
   "cell_type": "code",
   "execution_count": 41,
   "metadata": {},
   "outputs": [],
   "source": [
    " # Create lists to fill with values\n",
    "l_col1 = []\n",
    "l_col2 = []\n",
    "\n",
    "# iterrate over each row and fill our lists\n",
    "for ix, row in dfAstroNova.iterrows():\n",
    "    for value in row['sentences']:\n",
    "        l_col1.append(value)\n",
    "        l_col2.append(row['chapter'])\n",
    "\n",
    "# Create new dataframe from the two lists\n",
    "df= pd.DataFrame({'sentences': l_col1 ,\n",
    "                         'chapter': l_col2 })\n",
    "df=df.rename(columns={\"sentences\":\"sents\"});"
   ]
  },
  {
   "cell_type": "code",
   "execution_count": 42,
   "metadata": {},
   "outputs": [
    {
     "data": {
      "text/plain": [
       "6699"
      ]
     },
     "execution_count": 42,
     "metadata": {},
     "output_type": "execute_result"
    }
   ],
   "source": [
    "len(df_final)"
   ]
  },
  {
   "cell_type": "code",
   "execution_count": 44,
   "metadata": {},
   "outputs": [
    {
     "data": {
      "text/html": [
       "<div>\n",
       "<style scoped>\n",
       "    .dataframe tbody tr th:only-of-type {\n",
       "        vertical-align: middle;\n",
       "    }\n",
       "\n",
       "    .dataframe tbody tr th {\n",
       "        vertical-align: top;\n",
       "    }\n",
       "\n",
       "    .dataframe thead th {\n",
       "        text-align: right;\n",
       "    }\n",
       "</style>\n",
       "<table border=\"1\" class=\"dataframe\">\n",
       "  <thead>\n",
       "    <tr style=\"text-align: right;\">\n",
       "      <th></th>\n",
       "      <th>sents</th>\n",
       "      <th>chapter</th>\n",
       "    </tr>\n",
       "  </thead>\n",
       "  <tbody>\n",
       "    <tr>\n",
       "      <th>0</th>\n",
       "      <td>Chapter 1</td>\n",
       "      <td>1</td>\n",
       "    </tr>\n",
       "    <tr>\n",
       "      <th>1</th>\n",
       "      <td>On the distinction between the first motion an...</td>\n",
       "      <td>1</td>\n",
       "    </tr>\n",
       "    <tr>\n",
       "      <th>2</th>\n",
       "      <td>The testimony of the ages confirms that the mo...</td>\n",
       "      <td>1</td>\n",
       "    </tr>\n",
       "    <tr>\n",
       "      <th>3</th>\n",
       "      <td>Reason, having borrowed from experience, immed...</td>\n",
       "      <td>1</td>\n",
       "    </tr>\n",
       "    <tr>\n",
       "      <th>4</th>\n",
       "      <td>For among figures it is circles, and among bod...</td>\n",
       "      <td>1</td>\n",
       "    </tr>\n",
       "  </tbody>\n",
       "</table>\n",
       "</div>"
      ],
      "text/plain": [
       "                                               sents chapter\n",
       "0                                          Chapter 1       1\n",
       "1  On the distinction between the first motion an...       1\n",
       "2  The testimony of the ages confirms that the mo...       1\n",
       "3  Reason, having borrowed from experience, immed...       1\n",
       "4  For among figures it is circles, and among bod...       1"
      ]
     },
     "execution_count": 44,
     "metadata": {},
     "output_type": "execute_result"
    }
   ],
   "source": [
    "df.head()"
   ]
  },
  {
   "cell_type": "code",
   "execution_count": 49,
   "metadata": {},
   "outputs": [
    {
     "data": {
      "text/plain": [
       "6699"
      ]
     },
     "execution_count": 49,
     "metadata": {},
     "output_type": "execute_result"
    }
   ],
   "source": [
    "len(texts)"
   ]
  },
  {
   "cell_type": "markdown",
   "metadata": {},
   "source": [
    "# Upload customized spaCy model provioded by our training data in prodigy"
   ]
  },
  {
   "cell_type": "code",
   "execution_count": 45,
   "metadata": {},
   "outputs": [],
   "source": [
    "path= '../data/Model_11'\n",
    "nlp=spacy.load(path)"
   ]
  },
  {
   "cell_type": "code",
   "execution_count": 48,
   "metadata": {},
   "outputs": [],
   "source": [
    "def entity_label(x):\n",
    "    a=[]\n",
    "    b=[]\n",
    "    for ent in nlp(x).ents:\n",
    "        a +=ent.text,\n",
    "        b +=ent.label_,\n",
    "    c=list(zip(a,b))\n",
    "    return c"
   ]
  },
  {
   "cell_type": "code",
   "execution_count": 24,
   "metadata": {},
   "outputs": [],
   "source": [
    "def entity_label_01(x):\n",
    "    all_ent=[]\n",
    "    for ent in nlp(x).ents:\n",
    "        all_ent += ent,ent.label_ ,\n",
    "    return all_ent"
   ]
  },
  {
   "cell_type": "code",
   "execution_count": 50,
   "metadata": {},
   "outputs": [],
   "source": [
    "df['entities'] = df['sents'].apply(lambda x: entity_label(x))"
   ]
  },
  {
   "cell_type": "code",
   "execution_count": 52,
   "metadata": {},
   "outputs": [
    {
     "data": {
      "text/html": [
       "<div>\n",
       "<style scoped>\n",
       "    .dataframe tbody tr th:only-of-type {\n",
       "        vertical-align: middle;\n",
       "    }\n",
       "\n",
       "    .dataframe tbody tr th {\n",
       "        vertical-align: top;\n",
       "    }\n",
       "\n",
       "    .dataframe thead th {\n",
       "        text-align: right;\n",
       "    }\n",
       "</style>\n",
       "<table border=\"1\" class=\"dataframe\">\n",
       "  <thead>\n",
       "    <tr style=\"text-align: right;\">\n",
       "      <th></th>\n",
       "      <th>sents</th>\n",
       "      <th>chapter</th>\n",
       "      <th>entities</th>\n",
       "    </tr>\n",
       "  </thead>\n",
       "  <tbody>\n",
       "    <tr>\n",
       "      <th>0</th>\n",
       "      <td>Chapter 1</td>\n",
       "      <td>1</td>\n",
       "      <td>[]</td>\n",
       "    </tr>\n",
       "    <tr>\n",
       "      <th>1</th>\n",
       "      <td>On the distinction between the first motion an...</td>\n",
       "      <td>1</td>\n",
       "      <td>[]</td>\n",
       "    </tr>\n",
       "    <tr>\n",
       "      <th>2</th>\n",
       "      <td>The testimony of the ages confirms that the mo...</td>\n",
       "      <td>1</td>\n",
       "      <td>[]</td>\n",
       "    </tr>\n",
       "    <tr>\n",
       "      <th>3</th>\n",
       "      <td>Reason, having borrowed from experience, immed...</td>\n",
       "      <td>1</td>\n",
       "      <td>[]</td>\n",
       "    </tr>\n",
       "    <tr>\n",
       "      <th>4</th>\n",
       "      <td>For among figures it is circles, and among bod...</td>\n",
       "      <td>1</td>\n",
       "      <td>[]</td>\n",
       "    </tr>\n",
       "    <tr>\n",
       "      <th>5</th>\n",
       "      <td>However, when experience seems to teach someth...</td>\n",
       "      <td>1</td>\n",
       "      <td>[(rise, ASTR)]</td>\n",
       "    </tr>\n",
       "    <tr>\n",
       "      <th>6</th>\n",
       "      <td>It is just this from which astronomy arose amo...</td>\n",
       "      <td>1</td>\n",
       "      <td>[]</td>\n",
       "    </tr>\n",
       "    <tr>\n",
       "      <th>7</th>\n",
       "      <td>Astronomy's aim is considered to be to show wh...</td>\n",
       "      <td>1</td>\n",
       "      <td>[]</td>\n",
       "    </tr>\n",
       "    <tr>\n",
       "      <th>8</th>\n",
       "      <td>Before the distinction between the first motio...</td>\n",
       "      <td>1</td>\n",
       "      <td>[(diurnal, ASTR)]</td>\n",
       "    </tr>\n",
       "    <tr>\n",
       "      <th>9</th>\n",
       "      <td>These were, however, entwined one upon another...</td>\n",
       "      <td>1</td>\n",
       "      <td>[]</td>\n",
       "    </tr>\n",
       "  </tbody>\n",
       "</table>\n",
       "</div>"
      ],
      "text/plain": [
       "                                               sents chapter  \\\n",
       "0                                          Chapter 1       1   \n",
       "1  On the distinction between the first motion an...       1   \n",
       "2  The testimony of the ages confirms that the mo...       1   \n",
       "3  Reason, having borrowed from experience, immed...       1   \n",
       "4  For among figures it is circles, and among bod...       1   \n",
       "5  However, when experience seems to teach someth...       1   \n",
       "6  It is just this from which astronomy arose amo...       1   \n",
       "7  Astronomy's aim is considered to be to show wh...       1   \n",
       "8  Before the distinction between the first motio...       1   \n",
       "9  These were, however, entwined one upon another...       1   \n",
       "\n",
       "            entities  \n",
       "0                 []  \n",
       "1                 []  \n",
       "2                 []  \n",
       "3                 []  \n",
       "4                 []  \n",
       "5     [(rise, ASTR)]  \n",
       "6                 []  \n",
       "7                 []  \n",
       "8  [(diurnal, ASTR)]  \n",
       "9                 []  "
      ]
     },
     "execution_count": 52,
     "metadata": {},
     "output_type": "execute_result"
    }
   ],
   "source": [
    "df.head(10)"
   ]
  },
  {
   "cell_type": "code",
   "execution_count": 54,
   "metadata": {},
   "outputs": [
    {
     "data": {
      "text/html": [
       "<div>\n",
       "<style scoped>\n",
       "    .dataframe tbody tr th:only-of-type {\n",
       "        vertical-align: middle;\n",
       "    }\n",
       "\n",
       "    .dataframe tbody tr th {\n",
       "        vertical-align: top;\n",
       "    }\n",
       "\n",
       "    .dataframe thead th {\n",
       "        text-align: right;\n",
       "    }\n",
       "</style>\n",
       "<table border=\"1\" class=\"dataframe\">\n",
       "  <thead>\n",
       "    <tr style=\"text-align: right;\">\n",
       "      <th></th>\n",
       "      <th>sents</th>\n",
       "      <th>chapter</th>\n",
       "      <th>entities</th>\n",
       "    </tr>\n",
       "  </thead>\n",
       "  <tbody>\n",
       "    <tr>\n",
       "      <th>6689</th>\n",
       "      <td>Kepler determined the diurnal motions of the S...</td>\n",
       "      <td>appendix b</td>\n",
       "      <td>[(diurnal, ASTR), (Sun, PLAN), (Mars, PLAN), (...</td>\n",
       "    </tr>\n",
       "    <tr>\n",
       "      <th>6690</th>\n",
       "      <td>With the sum of the diurnal motions of Mars an...</td>\n",
       "      <td>appendix b</td>\n",
       "      <td>[(diurnal, ASTR), (Mars, PLAN), (Sun, PLAN), (...</td>\n",
       "    </tr>\n",
       "    <tr>\n",
       "      <th>6691</th>\n",
       "      <td>As shown in Figure 2B, the Sun is assumed to b...</td>\n",
       "      <td>appendix b</td>\n",
       "      <td>[(Sun, PLAN)]</td>\n",
       "    </tr>\n",
       "    <tr>\n",
       "      <th>6692</th>\n",
       "      <td>The longitudes of Mars and Earth's in referenc...</td>\n",
       "      <td>appendix b</td>\n",
       "      <td>[(longitudes, ASTR), (Mars, PLAN), (Earth, PLA...</td>\n",
       "    </tr>\n",
       "    <tr>\n",
       "      <th>6693</th>\n",
       "      <td>The deviation of elongation between Mars and t...</td>\n",
       "      <td>appendix b</td>\n",
       "      <td>[(elongation, ASTR), (Mars, PLAN), (Earth, PLAN)]</td>\n",
       "    </tr>\n",
       "    <tr>\n",
       "      <th>6694</th>\n",
       "      <td>To find the position of Mars at opposition, Ke...</td>\n",
       "      <td>appendix b</td>\n",
       "      <td>[(Mars, PLAN), (opposition, ASTR), (Mars, PLAN...</td>\n",
       "    </tr>\n",
       "    <tr>\n",
       "      <th>6695</th>\n",
       "      <td>Accordingly, Kepler determined the longitude o...</td>\n",
       "      <td>appendix b</td>\n",
       "      <td>[(longitude, ASTR), (Mars, PLAN), (opposition,...</td>\n",
       "    </tr>\n",
       "    <tr>\n",
       "      <th>6696</th>\n",
       "      <td>The Sun moved westward and its longitude decre...</td>\n",
       "      <td>appendix b</td>\n",
       "      <td>[(Sun, PLAN), (longitude, ASTR), (observation,...</td>\n",
       "    </tr>\n",
       "    <tr>\n",
       "      <th>6697</th>\n",
       "      <td>Therefore, the time of opposition is 17 hours ...</td>\n",
       "      <td>appendix b</td>\n",
       "      <td>[(opposition, ASTR), (17 hours 20 minutes, TIM...</td>\n",
       "    </tr>\n",
       "    <tr>\n",
       "      <th>6698</th>\n",
       "      <td>Kepler determined the time of opposition on Ma...</td>\n",
       "      <td>appendix b</td>\n",
       "      <td>[(opposition, ASTR), (March 28, DATE), (4h 23m...</td>\n",
       "    </tr>\n",
       "  </tbody>\n",
       "</table>\n",
       "</div>"
      ],
      "text/plain": [
       "                                                  sents     chapter  \\\n",
       "6689  Kepler determined the diurnal motions of the S...  appendix b   \n",
       "6690  With the sum of the diurnal motions of Mars an...  appendix b   \n",
       "6691  As shown in Figure 2B, the Sun is assumed to b...  appendix b   \n",
       "6692  The longitudes of Mars and Earth's in referenc...  appendix b   \n",
       "6693  The deviation of elongation between Mars and t...  appendix b   \n",
       "6694  To find the position of Mars at opposition, Ke...  appendix b   \n",
       "6695  Accordingly, Kepler determined the longitude o...  appendix b   \n",
       "6696  The Sun moved westward and its longitude decre...  appendix b   \n",
       "6697  Therefore, the time of opposition is 17 hours ...  appendix b   \n",
       "6698  Kepler determined the time of opposition on Ma...  appendix b   \n",
       "\n",
       "                                               entities  \n",
       "6689  [(diurnal, ASTR), (Sun, PLAN), (Mars, PLAN), (...  \n",
       "6690  [(diurnal, ASTR), (Mars, PLAN), (Sun, PLAN), (...  \n",
       "6691                                      [(Sun, PLAN)]  \n",
       "6692  [(longitudes, ASTR), (Mars, PLAN), (Earth, PLA...  \n",
       "6693  [(elongation, ASTR), (Mars, PLAN), (Earth, PLAN)]  \n",
       "6694  [(Mars, PLAN), (opposition, ASTR), (Mars, PLAN...  \n",
       "6695  [(longitude, ASTR), (Mars, PLAN), (opposition,...  \n",
       "6696  [(Sun, PLAN), (longitude, ASTR), (observation,...  \n",
       "6697  [(opposition, ASTR), (17 hours 20 minutes, TIM...  \n",
       "6698  [(opposition, ASTR), (March 28, DATE), (4h 23m...  "
      ]
     },
     "execution_count": 54,
     "metadata": {},
     "output_type": "execute_result"
    }
   ],
   "source": [
    "df.tail(10)"
   ]
  },
  {
   "cell_type": "code",
   "execution_count": 92,
   "metadata": {},
   "outputs": [],
   "source": [
    "def annot_observation_01(x):\n",
    "    y=0\n",
    "    if x is not None:\n",
    "        for idx in range(0,len(x)):\n",
    "                    if any ([x[idx][1] == 'DATE', x[idx][1] == 'LONG']):\n",
    "                        y=1\n",
    "                    else:\n",
    "                        y=0   \n",
    "    else:\n",
    "        y=0\n",
    "    return y\n",
    "                    \n",
    "       \n",
    "\n",
    "    "
   ]
  },
  {
   "cell_type": "code",
   "execution_count": 93,
   "metadata": {},
   "outputs": [],
   "source": [
    "df['label'] = df['entities'].apply(lambda x: annot_observation_01(x))"
   ]
  },
  {
   "cell_type": "code",
   "execution_count": 99,
   "metadata": {},
   "outputs": [
    {
     "data": {
      "text/html": [
       "<div>\n",
       "<style scoped>\n",
       "    .dataframe tbody tr th:only-of-type {\n",
       "        vertical-align: middle;\n",
       "    }\n",
       "\n",
       "    .dataframe tbody tr th {\n",
       "        vertical-align: top;\n",
       "    }\n",
       "\n",
       "    .dataframe thead th {\n",
       "        text-align: right;\n",
       "    }\n",
       "</style>\n",
       "<table border=\"1\" class=\"dataframe\">\n",
       "  <thead>\n",
       "    <tr style=\"text-align: right;\">\n",
       "      <th></th>\n",
       "      <th>sents</th>\n",
       "      <th>chapter</th>\n",
       "      <th>entities</th>\n",
       "      <th>label</th>\n",
       "    </tr>\n",
       "  </thead>\n",
       "  <tbody>\n",
       "    <tr>\n",
       "      <th>0</th>\n",
       "      <td>Chapter 1</td>\n",
       "      <td>1</td>\n",
       "      <td>[]</td>\n",
       "      <td>0</td>\n",
       "    </tr>\n",
       "    <tr>\n",
       "      <th>1</th>\n",
       "      <td>On the distinction between the first motion an...</td>\n",
       "      <td>1</td>\n",
       "      <td>[]</td>\n",
       "      <td>0</td>\n",
       "    </tr>\n",
       "    <tr>\n",
       "      <th>2</th>\n",
       "      <td>The testimony of the ages confirms that the mo...</td>\n",
       "      <td>1</td>\n",
       "      <td>[]</td>\n",
       "      <td>0</td>\n",
       "    </tr>\n",
       "    <tr>\n",
       "      <th>3</th>\n",
       "      <td>Reason, having borrowed from experience, immed...</td>\n",
       "      <td>1</td>\n",
       "      <td>[]</td>\n",
       "      <td>0</td>\n",
       "    </tr>\n",
       "    <tr>\n",
       "      <th>4</th>\n",
       "      <td>For among figures it is circles, and among bod...</td>\n",
       "      <td>1</td>\n",
       "      <td>[]</td>\n",
       "      <td>0</td>\n",
       "    </tr>\n",
       "    <tr>\n",
       "      <th>5</th>\n",
       "      <td>However, when experience seems to teach someth...</td>\n",
       "      <td>1</td>\n",
       "      <td>[(rise, ASTR)]</td>\n",
       "      <td>0</td>\n",
       "    </tr>\n",
       "    <tr>\n",
       "      <th>6</th>\n",
       "      <td>It is just this from which astronomy arose amo...</td>\n",
       "      <td>1</td>\n",
       "      <td>[]</td>\n",
       "      <td>0</td>\n",
       "    </tr>\n",
       "    <tr>\n",
       "      <th>7</th>\n",
       "      <td>Astronomy's aim is considered to be to show wh...</td>\n",
       "      <td>1</td>\n",
       "      <td>[]</td>\n",
       "      <td>0</td>\n",
       "    </tr>\n",
       "    <tr>\n",
       "      <th>8</th>\n",
       "      <td>Before the distinction between the first motio...</td>\n",
       "      <td>1</td>\n",
       "      <td>[(diurnal, ASTR)]</td>\n",
       "      <td>0</td>\n",
       "    </tr>\n",
       "    <tr>\n",
       "      <th>9</th>\n",
       "      <td>These were, however, entwined one upon another...</td>\n",
       "      <td>1</td>\n",
       "      <td>[]</td>\n",
       "      <td>0</td>\n",
       "    </tr>\n",
       "    <tr>\n",
       "      <th>10</th>\n",
       "      <td>as here ABCE, FMNG cutting the equator AB in C...</td>\n",
       "      <td>1</td>\n",
       "      <td>[(north, ASTR), (south, ASTR)]</td>\n",
       "      <td>0</td>\n",
       "    </tr>\n",
       "    <tr>\n",
       "      <th>11</th>\n",
       "      <td>They also saw that the stars have different sp...</td>\n",
       "      <td>1</td>\n",
       "      <td>[(diurnal, ASTR), (apparent motion, ASTR)]</td>\n",
       "      <td>0</td>\n",
       "    </tr>\n",
       "    <tr>\n",
       "      <th>12</th>\n",
       "      <td>The fixed stars are fastest of all, since thos...</td>\n",
       "      <td>1</td>\n",
       "      <td>[(conjunction, ASTR)]</td>\n",
       "      <td>0</td>\n",
       "    </tr>\n",
       "    <tr>\n",
       "      <th>13</th>\n",
       "      <td>The sun (on ABE) is slower, as on the followin...</td>\n",
       "      <td>1</td>\n",
       "      <td>[]</td>\n",
       "      <td>0</td>\n",
       "    </tr>\n",
       "    <tr>\n",
       "      <th>14</th>\n",
       "      <td>Slower still than this, slowest of all the sta...</td>\n",
       "      <td>1</td>\n",
       "      <td>[(interval, ASTR), (circuit, ASTR)]</td>\n",
       "      <td>0</td>\n",
       "    </tr>\n",
       "    <tr>\n",
       "      <th>15</th>\n",
       "      <td>Hence the Pythagoreans, when they shared out m...</td>\n",
       "      <td>1</td>\n",
       "      <td>[(Pythagoreans, NAME)]</td>\n",
       "      <td>0</td>\n",
       "    </tr>\n",
       "    <tr>\n",
       "      <th>16</th>\n",
       "      <td>Hence have originated the words προηγούμενος a...</td>\n",
       "      <td>1</td>\n",
       "      <td>[]</td>\n",
       "      <td>0</td>\n",
       "    </tr>\n",
       "    <tr>\n",
       "      <th>17</th>\n",
       "      <td>The former of these terms originally correspon...</td>\n",
       "      <td>1</td>\n",
       "      <td>[(star, ASTR)]</td>\n",
       "      <td>0</td>\n",
       "    </tr>\n",
       "    <tr>\n",
       "      <th>18</th>\n",
       "      <td>The latter term corresponded to a star that is...</td>\n",
       "      <td>1</td>\n",
       "      <td>[(star, ASTR)]</td>\n",
       "      <td>0</td>\n",
       "    </tr>\n",
       "    <tr>\n",
       "      <th>19</th>\n",
       "      <td>For more on this subject see our Optics, Ch.</td>\n",
       "      <td>1</td>\n",
       "      <td>[]</td>\n",
       "      <td>0</td>\n",
       "    </tr>\n",
       "  </tbody>\n",
       "</table>\n",
       "</div>"
      ],
      "text/plain": [
       "                                                sents chapter  \\\n",
       "0                                           Chapter 1       1   \n",
       "1   On the distinction between the first motion an...       1   \n",
       "2   The testimony of the ages confirms that the mo...       1   \n",
       "3   Reason, having borrowed from experience, immed...       1   \n",
       "4   For among figures it is circles, and among bod...       1   \n",
       "5   However, when experience seems to teach someth...       1   \n",
       "6   It is just this from which astronomy arose amo...       1   \n",
       "7   Astronomy's aim is considered to be to show wh...       1   \n",
       "8   Before the distinction between the first motio...       1   \n",
       "9   These were, however, entwined one upon another...       1   \n",
       "10  as here ABCE, FMNG cutting the equator AB in C...       1   \n",
       "11  They also saw that the stars have different sp...       1   \n",
       "12  The fixed stars are fastest of all, since thos...       1   \n",
       "13  The sun (on ABE) is slower, as on the followin...       1   \n",
       "14  Slower still than this, slowest of all the sta...       1   \n",
       "15  Hence the Pythagoreans, when they shared out m...       1   \n",
       "16  Hence have originated the words προηγούμενος a...       1   \n",
       "17  The former of these terms originally correspon...       1   \n",
       "18  The latter term corresponded to a star that is...       1   \n",
       "19       For more on this subject see our Optics, Ch.       1   \n",
       "\n",
       "                                      entities  label  \n",
       "0                                           []      0  \n",
       "1                                           []      0  \n",
       "2                                           []      0  \n",
       "3                                           []      0  \n",
       "4                                           []      0  \n",
       "5                               [(rise, ASTR)]      0  \n",
       "6                                           []      0  \n",
       "7                                           []      0  \n",
       "8                            [(diurnal, ASTR)]      0  \n",
       "9                                           []      0  \n",
       "10              [(north, ASTR), (south, ASTR)]      0  \n",
       "11  [(diurnal, ASTR), (apparent motion, ASTR)]      0  \n",
       "12                       [(conjunction, ASTR)]      0  \n",
       "13                                          []      0  \n",
       "14         [(interval, ASTR), (circuit, ASTR)]      0  \n",
       "15                      [(Pythagoreans, NAME)]      0  \n",
       "16                                          []      0  \n",
       "17                              [(star, ASTR)]      0  \n",
       "18                              [(star, ASTR)]      0  \n",
       "19                                          []      0  "
      ]
     },
     "execution_count": 99,
     "metadata": {},
     "output_type": "execute_result"
    }
   ],
   "source": [
    "df.head(20)"
   ]
  },
  {
   "cell_type": "code",
   "execution_count": 95,
   "metadata": {},
   "outputs": [
    {
     "data": {
      "text/html": [
       "<div>\n",
       "<style scoped>\n",
       "    .dataframe tbody tr th:only-of-type {\n",
       "        vertical-align: middle;\n",
       "    }\n",
       "\n",
       "    .dataframe tbody tr th {\n",
       "        vertical-align: top;\n",
       "    }\n",
       "\n",
       "    .dataframe thead th {\n",
       "        text-align: right;\n",
       "    }\n",
       "</style>\n",
       "<table border=\"1\" class=\"dataframe\">\n",
       "  <thead>\n",
       "    <tr style=\"text-align: right;\">\n",
       "      <th></th>\n",
       "      <th>sents</th>\n",
       "      <th>chapter</th>\n",
       "      <th>entities</th>\n",
       "      <th>label</th>\n",
       "    </tr>\n",
       "  </thead>\n",
       "  <tbody>\n",
       "    <tr>\n",
       "      <th>6694</th>\n",
       "      <td>To find the position of Mars at opposition, Ke...</td>\n",
       "      <td>appendix b</td>\n",
       "      <td>[(Mars, PLAN), (opposition, ASTR), (Mars, PLAN...</td>\n",
       "      <td>0</td>\n",
       "    </tr>\n",
       "    <tr>\n",
       "      <th>6695</th>\n",
       "      <td>Accordingly, Kepler determined the longitude o...</td>\n",
       "      <td>appendix b</td>\n",
       "      <td>[(longitude, ASTR), (Mars, PLAN), (opposition,...</td>\n",
       "      <td>1</td>\n",
       "    </tr>\n",
       "    <tr>\n",
       "      <th>6696</th>\n",
       "      <td>The Sun moved westward and its longitude decre...</td>\n",
       "      <td>appendix b</td>\n",
       "      <td>[(Sun, PLAN), (longitude, ASTR), (observation,...</td>\n",
       "      <td>0</td>\n",
       "    </tr>\n",
       "    <tr>\n",
       "      <th>6697</th>\n",
       "      <td>Therefore, the time of opposition is 17 hours ...</td>\n",
       "      <td>appendix b</td>\n",
       "      <td>[(opposition, ASTR), (17 hours 20 minutes, TIM...</td>\n",
       "      <td>0</td>\n",
       "    </tr>\n",
       "    <tr>\n",
       "      <th>6698</th>\n",
       "      <td>Kepler determined the time of opposition on Ma...</td>\n",
       "      <td>appendix b</td>\n",
       "      <td>[(opposition, ASTR), (March 28, DATE), (4h 23m...</td>\n",
       "      <td>0</td>\n",
       "    </tr>\n",
       "  </tbody>\n",
       "</table>\n",
       "</div>"
      ],
      "text/plain": [
       "                                                  sents     chapter  \\\n",
       "6694  To find the position of Mars at opposition, Ke...  appendix b   \n",
       "6695  Accordingly, Kepler determined the longitude o...  appendix b   \n",
       "6696  The Sun moved westward and its longitude decre...  appendix b   \n",
       "6697  Therefore, the time of opposition is 17 hours ...  appendix b   \n",
       "6698  Kepler determined the time of opposition on Ma...  appendix b   \n",
       "\n",
       "                                               entities  label  \n",
       "6694  [(Mars, PLAN), (opposition, ASTR), (Mars, PLAN...      0  \n",
       "6695  [(longitude, ASTR), (Mars, PLAN), (opposition,...      1  \n",
       "6696  [(Sun, PLAN), (longitude, ASTR), (observation,...      0  \n",
       "6697  [(opposition, ASTR), (17 hours 20 minutes, TIM...      0  \n",
       "6698  [(opposition, ASTR), (March 28, DATE), (4h 23m...      0  "
      ]
     },
     "execution_count": 95,
     "metadata": {},
     "output_type": "execute_result"
    }
   ],
   "source": [
    "df.tail()"
   ]
  },
  {
   "cell_type": "code",
   "execution_count": 101,
   "metadata": {},
   "outputs": [],
   "source": [
    "df.to_pickle('dfKeplerObservation_v01')"
   ]
  },
  {
   "cell_type": "code",
   "execution_count": 102,
   "metadata": {},
   "outputs": [
    {
     "data": {
      "text/plain": [
       "372"
      ]
     },
     "execution_count": 102,
     "metadata": {},
     "output_type": "execute_result"
    }
   ],
   "source": [
    "len(df[df.label==1])"
   ]
  },
  {
   "cell_type": "code",
   "execution_count": 106,
   "metadata": {},
   "outputs": [
    {
     "data": {
      "text/plain": [
       "'Chapter 1'"
      ]
     },
     "execution_count": 106,
     "metadata": {},
     "output_type": "execute_result"
    }
   ],
   "source": [
    "df.sents[0]"
   ]
  },
  {
   "cell_type": "markdown",
   "metadata": {},
   "source": [
    "# Idea of using SDP"
   ]
  },
  {
   "cell_type": "code",
   "execution_count": 23,
   "metadata": {},
   "outputs": [
    {
     "name": "stdout",
     "output_type": "stream",
     "text": [
      "sentence:\n",
      "2\n",
      "['equation', 'the', 'eccentricity']\n"
     ]
    }
   ],
   "source": [
    "import spacy\n",
    "import networkx as nx\n",
    "\n",
    "doc = nlp(u'where the equation caused by the eccentricity is maximum. ')\n",
    "print('sentence:'.format(doc))\n",
    "# Load spacy's dependency tree into a networkx graph\n",
    "edges = []\n",
    "for token in doc:\n",
    "    for child in token.children:\n",
    "        edges.append(('{0}'.format(token.lower_),\n",
    "                      '{0}'.format(child.lower_)))\n",
    "graph = nx.Graph(edges)\n",
    "# Get the length and path\n",
    "entity1 = 'equation'.lower()\n",
    "entity2 = 'eccentricity'\n",
    "print(nx.shortest_path_length(graph, source=entity1, target=entity2))\n",
    "print(nx.shortest_path(graph, source=entity1, target=entity2))"
   ]
  },
  {
   "cell_type": "code",
   "execution_count": 24,
   "metadata": {},
   "outputs": [
    {
     "data": {
      "text/html": [
       "<svg xmlns=\"http://www.w3.org/2000/svg\" xmlns:xlink=\"http://www.w3.org/1999/xlink\" id=\"991-0\" class=\"displacy\" width=\"1625\" height=\"487.0\" style=\"max-width: none; height: 487.0px; color: #000000; background: #ffffff; font-family: Arial\">\n",
       "<text class=\"displacy-token\" fill=\"currentColor\" text-anchor=\"middle\" y=\"397.0\">\n",
       "    <tspan class=\"displacy-word\" fill=\"currentColor\" x=\"50\">where</tspan>\n",
       "    <tspan class=\"displacy-tag\" dy=\"2em\" fill=\"currentColor\" x=\"50\">ADV</tspan>\n",
       "</text>\n",
       "\n",
       "<text class=\"displacy-token\" fill=\"currentColor\" text-anchor=\"middle\" y=\"397.0\">\n",
       "    <tspan class=\"displacy-word\" fill=\"currentColor\" x=\"225\">the</tspan>\n",
       "    <tspan class=\"displacy-tag\" dy=\"2em\" fill=\"currentColor\" x=\"225\">DET</tspan>\n",
       "</text>\n",
       "\n",
       "<text class=\"displacy-token\" fill=\"currentColor\" text-anchor=\"middle\" y=\"397.0\">\n",
       "    <tspan class=\"displacy-word\" fill=\"currentColor\" x=\"400\">equation</tspan>\n",
       "    <tspan class=\"displacy-tag\" dy=\"2em\" fill=\"currentColor\" x=\"400\">NOUN</tspan>\n",
       "</text>\n",
       "\n",
       "<text class=\"displacy-token\" fill=\"currentColor\" text-anchor=\"middle\" y=\"397.0\">\n",
       "    <tspan class=\"displacy-word\" fill=\"currentColor\" x=\"575\">caused</tspan>\n",
       "    <tspan class=\"displacy-tag\" dy=\"2em\" fill=\"currentColor\" x=\"575\">VERB</tspan>\n",
       "</text>\n",
       "\n",
       "<text class=\"displacy-token\" fill=\"currentColor\" text-anchor=\"middle\" y=\"397.0\">\n",
       "    <tspan class=\"displacy-word\" fill=\"currentColor\" x=\"750\">by</tspan>\n",
       "    <tspan class=\"displacy-tag\" dy=\"2em\" fill=\"currentColor\" x=\"750\">ADP</tspan>\n",
       "</text>\n",
       "\n",
       "<text class=\"displacy-token\" fill=\"currentColor\" text-anchor=\"middle\" y=\"397.0\">\n",
       "    <tspan class=\"displacy-word\" fill=\"currentColor\" x=\"925\">the</tspan>\n",
       "    <tspan class=\"displacy-tag\" dy=\"2em\" fill=\"currentColor\" x=\"925\">DET</tspan>\n",
       "</text>\n",
       "\n",
       "<text class=\"displacy-token\" fill=\"currentColor\" text-anchor=\"middle\" y=\"397.0\">\n",
       "    <tspan class=\"displacy-word\" fill=\"currentColor\" x=\"1100\">eccentricity</tspan>\n",
       "    <tspan class=\"displacy-tag\" dy=\"2em\" fill=\"currentColor\" x=\"1100\">NOUN</tspan>\n",
       "</text>\n",
       "\n",
       "<text class=\"displacy-token\" fill=\"currentColor\" text-anchor=\"middle\" y=\"397.0\">\n",
       "    <tspan class=\"displacy-word\" fill=\"currentColor\" x=\"1275\">is</tspan>\n",
       "    <tspan class=\"displacy-tag\" dy=\"2em\" fill=\"currentColor\" x=\"1275\">VERB</tspan>\n",
       "</text>\n",
       "\n",
       "<text class=\"displacy-token\" fill=\"currentColor\" text-anchor=\"middle\" y=\"397.0\">\n",
       "    <tspan class=\"displacy-word\" fill=\"currentColor\" x=\"1450\">maximum.</tspan>\n",
       "    <tspan class=\"displacy-tag\" dy=\"2em\" fill=\"currentColor\" x=\"1450\">ADJ</tspan>\n",
       "</text>\n",
       "\n",
       "<g class=\"displacy-arrow\">\n",
       "    <path class=\"displacy-arc\" id=\"arrow-991-0-0\" stroke-width=\"2px\" d=\"M70,352.0 C70,2.0 1275.0,2.0 1275.0,352.0\" fill=\"none\" stroke=\"currentColor\"/>\n",
       "    <text dy=\"1.25em\" style=\"font-size: 0.8em; letter-spacing: 1px\">\n",
       "        <textPath xlink:href=\"#arrow-991-0-0\" class=\"displacy-label\" startOffset=\"50%\" fill=\"currentColor\" text-anchor=\"middle\">advmod</textPath>\n",
       "    </text>\n",
       "    <path class=\"displacy-arrowhead\" d=\"M70,354.0 L62,342.0 78,342.0\" fill=\"currentColor\"/>\n",
       "</g>\n",
       "\n",
       "<g class=\"displacy-arrow\">\n",
       "    <path class=\"displacy-arc\" id=\"arrow-991-0-1\" stroke-width=\"2px\" d=\"M245,352.0 C245,264.5 385.0,264.5 385.0,352.0\" fill=\"none\" stroke=\"currentColor\"/>\n",
       "    <text dy=\"1.25em\" style=\"font-size: 0.8em; letter-spacing: 1px\">\n",
       "        <textPath xlink:href=\"#arrow-991-0-1\" class=\"displacy-label\" startOffset=\"50%\" fill=\"currentColor\" text-anchor=\"middle\">det</textPath>\n",
       "    </text>\n",
       "    <path class=\"displacy-arrowhead\" d=\"M245,354.0 L237,342.0 253,342.0\" fill=\"currentColor\"/>\n",
       "</g>\n",
       "\n",
       "<g class=\"displacy-arrow\">\n",
       "    <path class=\"displacy-arc\" id=\"arrow-991-0-2\" stroke-width=\"2px\" d=\"M420,352.0 C420,89.5 1270.0,89.5 1270.0,352.0\" fill=\"none\" stroke=\"currentColor\"/>\n",
       "    <text dy=\"1.25em\" style=\"font-size: 0.8em; letter-spacing: 1px\">\n",
       "        <textPath xlink:href=\"#arrow-991-0-2\" class=\"displacy-label\" startOffset=\"50%\" fill=\"currentColor\" text-anchor=\"middle\">nsubj</textPath>\n",
       "    </text>\n",
       "    <path class=\"displacy-arrowhead\" d=\"M420,354.0 L412,342.0 428,342.0\" fill=\"currentColor\"/>\n",
       "</g>\n",
       "\n",
       "<g class=\"displacy-arrow\">\n",
       "    <path class=\"displacy-arc\" id=\"arrow-991-0-3\" stroke-width=\"2px\" d=\"M420,352.0 C420,264.5 560.0,264.5 560.0,352.0\" fill=\"none\" stroke=\"currentColor\"/>\n",
       "    <text dy=\"1.25em\" style=\"font-size: 0.8em; letter-spacing: 1px\">\n",
       "        <textPath xlink:href=\"#arrow-991-0-3\" class=\"displacy-label\" startOffset=\"50%\" fill=\"currentColor\" text-anchor=\"middle\">acl</textPath>\n",
       "    </text>\n",
       "    <path class=\"displacy-arrowhead\" d=\"M560.0,354.0 L568.0,342.0 552.0,342.0\" fill=\"currentColor\"/>\n",
       "</g>\n",
       "\n",
       "<g class=\"displacy-arrow\">\n",
       "    <path class=\"displacy-arc\" id=\"arrow-991-0-4\" stroke-width=\"2px\" d=\"M595,352.0 C595,264.5 735.0,264.5 735.0,352.0\" fill=\"none\" stroke=\"currentColor\"/>\n",
       "    <text dy=\"1.25em\" style=\"font-size: 0.8em; letter-spacing: 1px\">\n",
       "        <textPath xlink:href=\"#arrow-991-0-4\" class=\"displacy-label\" startOffset=\"50%\" fill=\"currentColor\" text-anchor=\"middle\">agent</textPath>\n",
       "    </text>\n",
       "    <path class=\"displacy-arrowhead\" d=\"M735.0,354.0 L743.0,342.0 727.0,342.0\" fill=\"currentColor\"/>\n",
       "</g>\n",
       "\n",
       "<g class=\"displacy-arrow\">\n",
       "    <path class=\"displacy-arc\" id=\"arrow-991-0-5\" stroke-width=\"2px\" d=\"M945,352.0 C945,264.5 1085.0,264.5 1085.0,352.0\" fill=\"none\" stroke=\"currentColor\"/>\n",
       "    <text dy=\"1.25em\" style=\"font-size: 0.8em; letter-spacing: 1px\">\n",
       "        <textPath xlink:href=\"#arrow-991-0-5\" class=\"displacy-label\" startOffset=\"50%\" fill=\"currentColor\" text-anchor=\"middle\">det</textPath>\n",
       "    </text>\n",
       "    <path class=\"displacy-arrowhead\" d=\"M945,354.0 L937,342.0 953,342.0\" fill=\"currentColor\"/>\n",
       "</g>\n",
       "\n",
       "<g class=\"displacy-arrow\">\n",
       "    <path class=\"displacy-arc\" id=\"arrow-991-0-6\" stroke-width=\"2px\" d=\"M770,352.0 C770,177.0 1090.0,177.0 1090.0,352.0\" fill=\"none\" stroke=\"currentColor\"/>\n",
       "    <text dy=\"1.25em\" style=\"font-size: 0.8em; letter-spacing: 1px\">\n",
       "        <textPath xlink:href=\"#arrow-991-0-6\" class=\"displacy-label\" startOffset=\"50%\" fill=\"currentColor\" text-anchor=\"middle\">pobj</textPath>\n",
       "    </text>\n",
       "    <path class=\"displacy-arrowhead\" d=\"M1090.0,354.0 L1098.0,342.0 1082.0,342.0\" fill=\"currentColor\"/>\n",
       "</g>\n",
       "\n",
       "<g class=\"displacy-arrow\">\n",
       "    <path class=\"displacy-arc\" id=\"arrow-991-0-7\" stroke-width=\"2px\" d=\"M1295,352.0 C1295,264.5 1435.0,264.5 1435.0,352.0\" fill=\"none\" stroke=\"currentColor\"/>\n",
       "    <text dy=\"1.25em\" style=\"font-size: 0.8em; letter-spacing: 1px\">\n",
       "        <textPath xlink:href=\"#arrow-991-0-7\" class=\"displacy-label\" startOffset=\"50%\" fill=\"currentColor\" text-anchor=\"middle\">acomp</textPath>\n",
       "    </text>\n",
       "    <path class=\"displacy-arrowhead\" d=\"M1435.0,354.0 L1443.0,342.0 1427.0,342.0\" fill=\"currentColor\"/>\n",
       "</g>\n",
       "</svg>"
      ],
      "text/plain": [
       "<IPython.core.display.HTML object>"
      ]
     },
     "metadata": {},
     "output_type": "display_data"
    }
   ],
   "source": [
    "displacy.render(doc,style=\"dep\",jupyter=\"True\" )"
   ]
  },
  {
   "cell_type": "code",
   "execution_count": 95,
   "metadata": {},
   "outputs": [
    {
     "data": {
      "text/plain": [
       "[('equation', 'the'),\n",
       " ('equation', 'caused'),\n",
       " ('caused', 'by'),\n",
       " ('by', 'eccentricity'),\n",
       " ('eccentricity', 'the'),\n",
       " ('is', 'where'),\n",
       " ('is', 'equation'),\n",
       " ('is', 'maximum'),\n",
       " ('is', '.')]"
      ]
     },
     "execution_count": 95,
     "metadata": {},
     "output_type": "execute_result"
    }
   ],
   "source": [
    "edges"
   ]
  },
  {
   "cell_type": "code",
   "execution_count": 26,
   "metadata": {},
   "outputs": [
    {
     "data": {
      "text/plain": [
       "False"
      ]
     },
     "execution_count": 26,
     "metadata": {},
     "output_type": "execute_result"
    }
   ],
   "source": [
    "graph.is_directed()"
   ]
  },
  {
   "cell_type": "code",
   "execution_count": 96,
   "metadata": {},
   "outputs": [
    {
     "data": {
      "text/plain": [
       "9"
      ]
     },
     "execution_count": 96,
     "metadata": {},
     "output_type": "execute_result"
    }
   ],
   "source": [
    "graph.number_of_nodes()"
   ]
  },
  {
   "cell_type": "code",
   "execution_count": 97,
   "metadata": {},
   "outputs": [
    {
     "data": {
      "text/plain": [
       "9"
      ]
     },
     "execution_count": 97,
     "metadata": {},
     "output_type": "execute_result"
    }
   ],
   "source": [
    "graph.number_of_edges()"
   ]
  },
  {
   "cell_type": "code",
   "execution_count": 98,
   "metadata": {},
   "outputs": [
    {
     "data": {
      "text/plain": [
       "DegreeView({'equation': 3, 'the': 2, 'caused': 2, 'by': 2, 'eccentricity': 2, 'is': 4, 'where': 1, 'maximum': 1, '.': 1})"
      ]
     },
     "execution_count": 98,
     "metadata": {},
     "output_type": "execute_result"
    }
   ],
   "source": [
    "graph.degree"
   ]
  },
  {
   "cell_type": "code",
   "execution_count": 19,
   "metadata": {},
   "outputs": [
    {
     "name": "stdout",
     "output_type": "stream",
     "text": [
      "('is', 'where', 'advmod')\n",
      "('equation', 'the', 'det')\n",
      "('is', 'equation', 'nsubj')\n",
      "('equation', 'caused', 'acl')\n",
      "('caused', 'by', 'agent')\n",
      "('eccentricity', 'the', 'det')\n",
      "('by', 'eccentricity', 'pobj')\n",
      "('is', 'is', 'ROOT')\n",
      "('is', 'maximum', 'acomp')\n",
      "('is', '.', 'punct')\n"
     ]
    }
   ],
   "source": [
    "for token in doc:\n",
    "    print((token.head.text, token.text, token.dep_))"
   ]
  },
  {
   "cell_type": "markdown",
   "metadata": {},
   "source": [
    "def graph_entitiy(x):\n",
    "    edges = []\n",
    "    for token in nlp(x):\n",
    "        for child in token.children:\n",
    "            edges.append(('{0}'.format(token.lower_),\n",
    "                          '{0}'.format(child.lower_)))\n",
    "    graph = nx.Graph(edges)\n",
    "    "
   ]
  },
  {
   "cell_type": "markdown",
   "metadata": {},
   "source": [
    "dfAstroNova['graph'] = dfAstroNova['text'].apply(lambda x: graph_entitiy(x))"
   ]
  },
  {
   "cell_type": "markdown",
   "metadata": {},
   "source": [
    "graph2=dfAstroNova.graph[2]"
   ]
  },
  {
   "cell_type": "markdown",
   "metadata": {},
   "source": [
    "dfAstroNova.head()"
   ]
  }
 ],
 "metadata": {
  "kernelspec": {
   "display_name": "Python 3",
   "language": "python",
   "name": "python3"
  },
  "language_info": {
   "codemirror_mode": {
    "name": "ipython",
    "version": 3
   },
   "file_extension": ".py",
   "mimetype": "text/x-python",
   "name": "python",
   "nbconvert_exporter": "python",
   "pygments_lexer": "ipython3",
   "version": "3.7.1"
  }
 },
 "nbformat": 4,
 "nbformat_minor": 2
}
