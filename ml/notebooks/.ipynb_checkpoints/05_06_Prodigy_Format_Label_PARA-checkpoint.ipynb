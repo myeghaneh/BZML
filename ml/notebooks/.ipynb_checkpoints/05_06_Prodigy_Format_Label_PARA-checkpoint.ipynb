{
 "cells": [
  {
   "cell_type": "markdown",
   "metadata": {},
   "source": [
    "# Regex and Prodigy (LABEL: ASTR)\n",
    "\n"
   ]
  },
  {
   "cell_type": "markdown",
   "metadata": {},
   "source": [
    "<font size= \"3\">\n",
    "Annotation of entities for sentences based on prodigy's format for different labels for further usage in Machine learning. Prodigy is an annotation tool based on spaCy. Please see here:\n",
    "    </p>\n",
    "  <a href=\"https://prodi.gy/ \"> Prodigy </a> \n",
    "<font 3>"
   ]
  },
  {
   "cell_type": "markdown",
   "metadata": {},
   "source": [
    "## Imports"
   ]
  },
  {
   "cell_type": "code",
   "execution_count": 29,
   "metadata": {
    "collapsed": true
   },
   "outputs": [],
   "source": [
    "import pandas as pd\n",
    "import re\n",
    "import pandas as pd\n",
    "import matplotlib.pyplot as plt\n",
    "import scipy as sp\n",
    "import spacy \n",
    "import re\n",
    "from prodigy.util import write_jsonl\n",
    "\n"
   ]
  },
  {
   "cell_type": "markdown",
   "metadata": {},
   "source": [
    "## Read the Data"
   ]
  },
  {
   "cell_type": "code",
   "execution_count": 30,
   "metadata": {
    "collapsed": true
   },
   "outputs": [],
   "source": [
    "importVersion = '013'"
   ]
  },
  {
   "cell_type": "code",
   "execution_count": 31,
   "metadata": {
    "collapsed": true
   },
   "outputs": [],
   "source": [
    "path= '../data/01_df_v{0}.pickle'.format(importVersion)# Put the path of the data in your local machine here, consider the letter \"r\" before the path\n",
    "dfAstroNova = pd.read_pickle(path)"
   ]
  },
  {
   "cell_type": "code",
   "execution_count": 32,
   "metadata": {},
   "outputs": [
    {
     "data": {
      "text/plain": [
       "pandas.core.frame.DataFrame"
      ]
     },
     "execution_count": 32,
     "metadata": {},
     "output_type": "execute_result"
    }
   ],
   "source": [
    "type(dfAstroNova)"
   ]
  },
  {
   "cell_type": "code",
   "execution_count": 33,
   "metadata": {},
   "outputs": [
    {
     "data": {
      "text/html": [
       "<div>\n",
       "<style scoped>\n",
       "    .dataframe tbody tr th:only-of-type {\n",
       "        vertical-align: middle;\n",
       "    }\n",
       "\n",
       "    .dataframe tbody tr th {\n",
       "        vertical-align: top;\n",
       "    }\n",
       "\n",
       "    .dataframe thead th {\n",
       "        text-align: right;\n",
       "    }\n",
       "</style>\n",
       "<table border=\"1\" class=\"dataframe\">\n",
       "  <thead>\n",
       "    <tr style=\"text-align: right;\">\n",
       "      <th></th>\n",
       "      <th>html</th>\n",
       "      <th>text</th>\n",
       "      <th>links</th>\n",
       "      <th>italic</th>\n",
       "      <th>chapter</th>\n",
       "      <th>graphic</th>\n",
       "      <th>table</th>\n",
       "      <th>marginal</th>\n",
       "      <th>sentences</th>\n",
       "      <th>tagged</th>\n",
       "    </tr>\n",
       "  </thead>\n",
       "  <tbody>\n",
       "    <tr>\n",
       "      <th>0</th>\n",
       "      <td>&lt;p&gt;Appendix B&lt;/p&gt;</td>\n",
       "      <td>Appendix B</td>\n",
       "      <td>[]</td>\n",
       "      <td>[]</td>\n",
       "      <td>appendix b</td>\n",
       "      <td>[]</td>\n",
       "      <td>[]</td>\n",
       "      <td>[]</td>\n",
       "      <td>[Appendix B]</td>\n",
       "      <td>[[(Appendix, None), (B, None)]]</td>\n",
       "    </tr>\n",
       "    <tr>\n",
       "      <th>1</th>\n",
       "      <td>&lt;p&gt;&lt;span class=\"anchor\" id=\"bookmark0\"&gt;&lt;/span&gt;...</td>\n",
       "      <td>On the Table of Oppositions in Chapter 15</td>\n",
       "      <td>[]</td>\n",
       "      <td>[]</td>\n",
       "      <td>appendix b</td>\n",
       "      <td>[]</td>\n",
       "      <td>[]</td>\n",
       "      <td>[]</td>\n",
       "      <td>[On the Table of Oppositions in Chapter 15]</td>\n",
       "      <td>[[(On, None), (the, None), (Table, None), (of,...</td>\n",
       "    </tr>\n",
       "    <tr>\n",
       "      <th>2</th>\n",
       "      <td>&lt;p&gt;by Yaakov Zik &lt;span style=\"font-variant: sm...</td>\n",
       "      <td>by Yaakov Zik Table i:</td>\n",
       "      <td>[]</td>\n",
       "      <td>[]</td>\n",
       "      <td>appendix b</td>\n",
       "      <td>[]</td>\n",
       "      <td>[]</td>\n",
       "      <td>[]</td>\n",
       "      <td>[by Yaakov Zik Table i:]</td>\n",
       "      <td>[[(by, None), (Yaakov, None), (Zik, None), (Ta...</td>\n",
       "    </tr>\n",
       "    <tr>\n",
       "      <th>3</th>\n",
       "      <td>&lt;p&gt;&lt;span class=\"anchor\" id=\"bookmark1\"&gt;&lt;/span&gt;...</td>\n",
       "      <td>Initial positions of Mars in Chapter 15 comput...</td>\n",
       "      <td>[]</td>\n",
       "      <td>[]</td>\n",
       "      <td>appendix b</td>\n",
       "      <td>[]</td>\n",
       "      <td>[]</td>\n",
       "      <td>[]</td>\n",
       "      <td>[Initial positions of Mars in Chapter 15 compu...</td>\n",
       "      <td>[[(Initial, None), (positions, None), (of, Non...</td>\n",
       "    </tr>\n",
       "    <tr>\n",
       "      <th>4</th>\n",
       "      <td>&lt;p&gt;General notes:&lt;/p&gt;</td>\n",
       "      <td>General notes:</td>\n",
       "      <td>[]</td>\n",
       "      <td>[]</td>\n",
       "      <td>appendix b</td>\n",
       "      <td>[]</td>\n",
       "      <td>[]</td>\n",
       "      <td>[]</td>\n",
       "      <td>[General notes:]</td>\n",
       "      <td>[[(General, None), (notes, None)]]</td>\n",
       "    </tr>\n",
       "  </tbody>\n",
       "</table>\n",
       "</div>"
      ],
      "text/plain": [
       "                                                html  \\\n",
       "0                                  <p>Appendix B</p>   \n",
       "1  <p><span class=\"anchor\" id=\"bookmark0\"></span>...   \n",
       "2  <p>by Yaakov Zik <span style=\"font-variant: sm...   \n",
       "3  <p><span class=\"anchor\" id=\"bookmark1\"></span>...   \n",
       "4                              <p>General notes:</p>   \n",
       "\n",
       "                                                text links italic     chapter  \\\n",
       "0                                         Appendix B    []     []  appendix b   \n",
       "1          On the Table of Oppositions in Chapter 15    []     []  appendix b   \n",
       "2                             by Yaakov Zik Table i:    []     []  appendix b   \n",
       "3  Initial positions of Mars in Chapter 15 comput...    []     []  appendix b   \n",
       "4                                     General notes:    []     []  appendix b   \n",
       "\n",
       "  graphic table marginal                                          sentences  \\\n",
       "0      []    []       []                                       [Appendix B]   \n",
       "1      []    []       []        [On the Table of Oppositions in Chapter 15]   \n",
       "2      []    []       []                           [by Yaakov Zik Table i:]   \n",
       "3      []    []       []  [Initial positions of Mars in Chapter 15 compu...   \n",
       "4      []    []       []                                   [General notes:]   \n",
       "\n",
       "                                              tagged  \n",
       "0                    [[(Appendix, None), (B, None)]]  \n",
       "1  [[(On, None), (the, None), (Table, None), (of,...  \n",
       "2  [[(by, None), (Yaakov, None), (Zik, None), (Ta...  \n",
       "3  [[(Initial, None), (positions, None), (of, Non...  \n",
       "4                 [[(General, None), (notes, None)]]  "
      ]
     },
     "execution_count": 33,
     "metadata": {},
     "output_type": "execute_result"
    }
   ],
   "source": [
    "dfAstroNova.head(5)"
   ]
  },
  {
   "cell_type": "code",
   "execution_count": 34,
   "metadata": {},
   "outputs": [
    {
     "data": {
      "text/plain": [
       "1605"
      ]
     },
     "execution_count": 34,
     "metadata": {},
     "output_type": "execute_result"
    }
   ],
   "source": [
    "len(dfAstroNova)"
   ]
  },
  {
   "cell_type": "code",
   "execution_count": 35,
   "metadata": {},
   "outputs": [
    {
     "data": {
      "text/plain": [
       "1605"
      ]
     },
     "execution_count": 35,
     "metadata": {},
     "output_type": "execute_result"
    }
   ],
   "source": [
    "len(dfAstroNova['tagged'] )"
   ]
  },
  {
   "cell_type": "markdown",
   "metadata": {},
   "source": [
    "### Read the Sentences"
   ]
  },
  {
   "cell_type": "code",
   "execution_count": 36,
   "metadata": {},
   "outputs": [],
   "source": [
    "df=dfAstroNova.sentences"
   ]
  },
  {
   "cell_type": "code",
   "execution_count": 37,
   "metadata": {},
   "outputs": [],
   "source": [
    "texts=[]\n",
    "for sen in dfAstroNova.sentences:\n",
    "    texts +=sen"
   ]
  },
  {
   "cell_type": "code",
   "execution_count": 38,
   "metadata": {},
   "outputs": [
    {
     "data": {
      "text/plain": [
       "['Appendix B',\n",
       " 'On the Table of Oppositions in Chapter 15',\n",
       " 'by Yaakov Zik Table i:',\n",
       " 'Initial positions of Mars in Chapter 15 computed with Guide 9 using JPL DE430.',\n",
       " 'General notes:',\n",
       " \"The time is measured from midnight; Gregorian dates are obtained by adding 10 days to Kepler's dates.\",\n",
       " 'The dates are given in old style.',\n",
       " 'Geographical coordinates: Uraniborg 12 41 46 E, 55 54 30 N [50m]; Wandesburg (Wandsbek-Hamburg) 10 05 53 E, 53 35 10 N [15m]; Prague 14 26 E, 53 35 10 N [250m].',\n",
       " 'The longitudes are given in geocentric ecliptic coordinates.',\n",
       " '1 2345']"
      ]
     },
     "execution_count": 38,
     "metadata": {},
     "output_type": "execute_result"
    }
   ],
   "source": [
    "texts[0:10]"
   ]
  },
  {
   "cell_type": "markdown",
   "metadata": {},
   "source": [
    "## Annotation Based on Consistant format with Prodigy "
   ]
  },
  {
   "cell_type": "markdown",
   "metadata": {},
   "source": [
    "<fig size= 3>\n",
    "Prodigy accept a specific format; a JSONL format (newline-delimited JSON). Entities and other highlighted spans of text can be defined in the \"spans\" property. A example could look like this dictionary:\n",
    "</p>    \n",
    "text': 'On 1595 October 30 at 8h 20m, they found Mars at 17° 48’ Taurus, with a diurnal motion of 22’ 54” ^15.',\n",
    "  'spans': [{'start': 22, 'end': 29, 'label': 'TIME'}]}\n",
    "</p>\n",
    "which start and end's numbers refer to the position of entitiy  in the sentence. (here ASTR)\n",
    "\n",
    "    \n",
    "<fig size>"
   ]
  },
  {
   "cell_type": "code",
   "execution_count": 67,
   "metadata": {},
   "outputs": [],
   "source": [
    "label = \"ASTR\"   \n",
    "texts = texts \n",
    "list=[]\n",
    "regex_patterns = [\n",
    "re.compile(r'(\\baether\\b|\\blatitude,7\\b|\\baltitude\\b|\\baphelion,4\\b|\\baphelion\\b|\\bapsides,\\b|\\bapsides?\\b|\\bapsis\\b|\\bascension\\b|\\bautumnal equinox\\b|\\beast\\b|\\beastward\\b|\\beclipse\\b|\\becliptic\\b|\\belliptical\\b|\\bepicycle\\)—seemed\\b|\\bepicycle\\b|\\bequinoctical\\b|\\bexquinox\\b|\\bfixed star\\b|\\blatitude\\)—are\\b|\\blatitude\\b|longitude,46|\\blongitudes?\\b|\\bmean ecliptic\\b|\\bmeridian\\b|\\bmobile star\\b|\\bnodes?\\b|\\bnorth\\b|\\boctant\\b|\\borb,3\\b|\\borbit\\b|\\borbital\\b|parallax,29|\\bparallax\\b|\\brays\\b|\\bretrograde\\b|\\brise\\b|\\bsidereal\\b|\\bsidereal position\\b|\\bsolstice\\b|\\bsouth,19\\b|\\bsouth\\b|\\bstar\\b|\\bvernal equinox\\b|\\bwest\\b|\\baphelial\\b|\\bapogee,\\\"2|\\b\\bapogee\\b|\\bapparent latitude\\b|\\bapparent longitude\\b|\\bapparent motion\\b|\\baxis\\b|\\bbuccosam\\b|\\bcircuit\\b|\\bcircumlocution\\bcommutation\\b|\\bconjunction\\b|\\bdeferent\\b|\\bdegree of elongation\\b|\\bdiagram\\b|\\bdiametral\\b|\\bdigression\\b\\bdiurnal\\b|\\bdiurnal parallax\\b|\\beccentric,2|\\beccentric\\b|\\beccentric anomaly\\b|\\beccentricity\\b|\\belongation\\b|\\bequant\\b|\\bequated anomaly,18|\\bequated anomaly\\b|\\bequatorial distance\\b|\\bhorizontal variation\\b|\\binclination\\b|\\binterposition\\b|\\bintersections\\b|\\binterval\\b|\\blongitudinal\\b|\\blongitudinal parallax\\b|\\blunule\\b|\\bmean anomaly\\b|\\bnonagesimal\\b|\\bobliquity\\b|\\bobservation\\b|\\bobserved\\b|\\bopposition\\b|\\borb\\b|\\bparallax\\b|\\bperiapsis\\b|\\bperigee\\b|\\bperihelial\\b|\\bperihelion\\b|\\bphysical hypothesis\\b|\\bprecession\\b|\\bpuff-cheeked\\b|\\brefraction\\b|\\bsolar\\b|\\bsolar eccentricity\\b|\\bsolar parallax\\b)[:,]?')\n",
    " ]\n",
    "\n",
    "examples = []\n",
    "for text in texts:\n",
    "    for expression in regex_patterns:\n",
    "        spans = []\n",
    "        \n",
    "    for match in re.finditer(expression, text):\n",
    "        start, end = match.span()\n",
    "        span = {\"start\": start, \"end\": end, \"label\": label}\n",
    "        spans.append(span)\n",
    "    task = {\"text\": text, \"spans\": spans}\n",
    "    examples.append(task)              \n",
    "\n",
    "write_jsonl(\"NER_ASTR_001.jsonl\", examples)"
   ]
  },
  {
   "cell_type": "markdown",
   "metadata": {},
   "source": [
    "## See Misaligned Tokens"
   ]
  },
  {
   "cell_type": "markdown",
   "metadata": {},
   "source": [
    "<fig size= 3>\n",
    "This step is very important, since if Pordigy faces with Misaligned tokens, we can see that before and try to adjust regex accordingly\n",
    "<fig size>"
   ]
  },
  {
   "cell_type": "code",
   "execution_count": 68,
   "metadata": {},
   "outputs": [],
   "source": [
    "nlp = spacy.load(\"en_core_web_sm\")  \n",
    "for example in examples:  \n",
    "    doc = nlp(example[\"text\"])\n",
    "    for span in example[\"spans\"]:\n",
    "        char_span = doc.char_span(span[\"start\"], span[\"end\"])\n",
    "        if char_span is None:  \n",
    "            print(\"Misaligned tokens\", example[\"text\"], span)"
   ]
  },
  {
   "cell_type": "code",
   "execution_count": 47,
   "metadata": {},
   "outputs": [
    {
     "data": {
      "text/plain": [
       "[{'text': 'The former of these terms originally corresponded to a star which, on the next day, comes to its setting earlier (the sun E is said to be προηγούμενος with respect to the moon G).',\n",
       "  'spans': [{'start': 55, 'end': 59, 'label': 'ASTR'}]},\n",
       " {'text': 'The latter term corresponded to a star that is slower in the first motion (such as the moon here), which is, as it were, abandoned and left behind (at G) by the swifter ones (E and I).',\n",
       "  'spans': [{'start': 34, 'end': 38, 'label': 'ASTR'}]},\n",
       " {'text': 'For more on this subject see our Optics, Ch.', 'spans': []},\n",
       " {'text': '10.', 'spans': []},\n",
       " {'text': '3', 'spans': []},\n",
       " {'text': 'This first adumbration of astronomy consists, not of the unfolding of a cause, but solely of the experience of the eyes, extremely slowly acquired.',\n",
       "  'spans': []},\n",
       " {'text': 'It cannot be explained in figures or numbers, nor can it be extrapolated into the future, since it is always different from itself, to the extent that no spiral is equal to any other in increments of time, and none carries over into the next with a curvature of the same quantity.',\n",
       "  'spans': []},\n",
       " {'text': \"Nevertheless, there are some people today who, riding roughshod over two thousand years' work, care, erudition, and knowledge, are trying to revive this, obtruding admiration of themselves far and wide (an attempt which has not been fruitless among the ignorant).\",\n",
       "  'spans': []},\n",
       " {'text': 'Those with more experience consider them with good reason to be incompetent, or (if, like that man Patricius,4 they want to be known as philosophers) to act mad with reasoning.',\n",
       "  'spans': []}]"
      ]
     },
     "execution_count": 47,
     "metadata": {},
     "output_type": "execute_result"
    }
   ],
   "source": [
    "examples [49:58]  # here we can search for Misaligned Tokens and try to find a remedy by regex"
   ]
  },
  {
   "cell_type": "code",
   "execution_count": 64,
   "metadata": {},
   "outputs": [
    {
     "data": {
      "text/plain": [
       "'equated anomaly,'"
      ]
     },
     "execution_count": 64,
     "metadata": {},
     "output_type": "execute_result"
    }
   ],
   "source": [
    "text= \"To begin, therefore, I say that admitting as given  the observational evidence, namely, that after equal arcs of the eccentric are traversed, the planet is found at γ, κ, μ, ζ rather than at γ, ι, λ, ζ, the increment of the sun's diameter presents a legitimate measure of the versed sine of the equated anomaly,18 no less so than we know the versed sines of the eccentric anomaly to be a measure of the reciprocation.\"   #try to find the Misaligned Tokens\n",
    "text[295:311]"
   ]
  }
 ],
 "metadata": {
  "kernelspec": {
   "display_name": "Python 3",
   "language": "python",
   "name": "python3"
  },
  "language_info": {
   "codemirror_mode": {
    "name": "ipython",
    "version": 3
   },
   "file_extension": ".py",
   "mimetype": "text/x-python",
   "name": "python",
   "nbconvert_exporter": "python",
   "pygments_lexer": "ipython3",
   "version": "3.7.1"
  }
 },
 "nbformat": 4,
 "nbformat_minor": 2
}
