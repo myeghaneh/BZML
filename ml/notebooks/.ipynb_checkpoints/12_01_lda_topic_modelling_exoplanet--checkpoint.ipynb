{
 "cells": [
  {
   "cell_type": "markdown",
   "metadata": {},
   "source": [
    "# **Extracting Topic model by  \"Latent Dirichlet Allocation (LDA)\"  of kepler's book: \"Astronomia Nova** \"\n",
    "<font size=\"4\">\n",
    "This notebook demonstrates how to **extract topics **  from documents, corpus, book. We visualize the result in an informative way. Here, an unsupervised learning model LDA is used. **Topic modelling** is based on the basic assumptions that each corpus (book)  consists of different topics and each topic consists of a collection of words.\n",
    "<font/>\n"
   ]
  },
  {
   "cell_type": "markdown",
   "metadata": {},
   "source": [
    "### Import the required tools "
   ]
  },
  {
   "cell_type": "code",
   "execution_count": 1,
   "metadata": {
    "collapsed": true
   },
   "outputs": [
    {
     "name": "stderr",
     "output_type": "stream",
     "text": [
      "[nltk_data] Downloading package punkt to\n",
      "[nltk_data]     C:\\Users\\moha\\AppData\\Roaming\\nltk_data...\n",
      "[nltk_data]   Package punkt is already up-to-date!\n",
      "[nltk_data] Downloading package averaged_perceptron_tagger to\n",
      "[nltk_data]     C:\\Users\\moha\\AppData\\Roaming\\nltk_data...\n",
      "[nltk_data]   Package averaged_perceptron_tagger is already up-to-\n",
      "[nltk_data]       date!\n",
      "[nltk_data] Downloading package wordnet to\n",
      "[nltk_data]     C:\\Users\\moha\\AppData\\Roaming\\nltk_data...\n",
      "[nltk_data]   Package wordnet is already up-to-date!\n"
     ]
    }
   ],
   "source": [
    "import numpy as np\n",
    "import pandas as pd\n",
    "import scipy as sp\n",
    "import matplotlib.pyplot as plt\n",
    "import collections\n",
    "import os\n",
    "import logging\n",
    "import warnings\n",
    "from itertools import permutations\n",
    "from sklearn.metrics import make_scorer,confusion_matrix\n",
    "from sklearn.model_selection import cross_val_score\n",
    "from sklearn.model_selection import RandomizedSearchCV\n",
    "import sklearn_crfsuite  # to install this package in windows with pip please run: 'pip install sklearn-crfsuite'\n",
    "from sklearn_crfsuite import metrics, scorers\n",
    "import nltk\n",
    "from nltk.tokenize import word_tokenize\n",
    "from nltk.tag import pos_tag\n",
    "nltk.download('punkt')\n",
    "nltk.download('averaged_perceptron_tagger')\n",
    "import eli5  # to install this package in windows with conda please run: 'conda install -c conda-forge eli5'\n",
    "from nltk.stem.porter import PorterStemmer\n",
    "from nltk.stem import WordNetLemmatizer \n",
    "from gensim import corpora, models  #  to install this package in windows with conda please run: 'models conda install -c conda-forge gensim'\n",
    "nltk.download('wordnet')\n",
    "%matplotlib inline\n",
    "warnings.filterwarnings(\"ignore\",category=DeprecationWarning)\n",
    "logging.basicConfig(format='%(asctime)s : %(levelname)s : %(message)s', level=logging.ERROR)"
   ]
  },
  {
   "cell_type": "markdown",
   "metadata": {},
   "source": [
    "Please download the data '01_df_v013.pickle' in github on  your local machine from  this directory: vorlesung2019/notebooks/yeghaneh/data"
   ]
  },
  {
   "cell_type": "code",
   "execution_count": 2,
   "metadata": {
    "collapsed": true
   },
   "outputs": [],
   "source": [
    "importVersion = '013'  # The  desired version pickle-file of your data (now we are working on version 013 of our data)"
   ]
  },
  {
   "cell_type": "code",
   "execution_count": 3,
   "metadata": {
    "collapsed": true
   },
   "outputs": [],
   "source": [
    "path = '../data/01_df_v{0}.pickle'.format(importVersion)  # Put the path of the data in your local machine here, consider the letter \"r\" before the path"
   ]
  },
  {
   "cell_type": "markdown",
   "metadata": {},
   "source": [
    "### Let's use data \"01_df_v013\" to build a NER system. \n",
    "<font size=\"3\">The data 01_df_v013 is annotated (labeled) data of english version of well-known kepler's book: New Astronomy (Latin: Astronomia nova). You can find that in the repository.\n",
    "             </font>\n"
   ]
  },
  {
   "cell_type": "markdown",
   "metadata": {},
   "source": [
    "## **Read the data** \n",
    "<font size=\"3\">The data  is saves as a pickle file. We read it as a pandas dataFrame. </font>"
   ]
  },
  {
   "cell_type": "code",
   "execution_count": 4,
   "metadata": {},
   "outputs": [],
   "source": [
    "dfAstroNova = pd.read_pickle(path)  # Put the path of the data in your local machine here, consider the letter \"r\" before the path"
   ]
  },
  {
   "cell_type": "markdown",
   "metadata": {},
   "source": [
    "<font size=\"4\"> Sort the data based on the chapters of the book \n",
    "</font>"
   ]
  },
  {
   "cell_type": "code",
   "execution_count": 5,
   "metadata": {},
   "outputs": [],
   "source": [
    "dfAstroNova['chapter'] = dfAstroNova.chapter.replace(\"appendix b\",np.nan).astype(float)  \n",
    "dfAstroNova.sort_values(by='chapter' , inplace=True)\n",
    "dfAstroNova.chapter.fillna('appendix b', inplace=True)"
   ]
  },
  {
   "cell_type": "code",
   "execution_count": 6,
   "metadata": {},
   "outputs": [
    {
     "data": {
      "text/plain": [
       "1605"
      ]
     },
     "execution_count": 6,
     "metadata": {},
     "output_type": "execute_result"
    }
   ],
   "source": [
    "len(dfAstroNova)   # Number of rows."
   ]
  },
  {
   "cell_type": "code",
   "execution_count": 7,
   "metadata": {},
   "outputs": [
    {
     "data": {
      "text/html": [
       "<div>\n",
       "<style scoped>\n",
       "    .dataframe tbody tr th:only-of-type {\n",
       "        vertical-align: middle;\n",
       "    }\n",
       "\n",
       "    .dataframe tbody tr th {\n",
       "        vertical-align: top;\n",
       "    }\n",
       "\n",
       "    .dataframe thead th {\n",
       "        text-align: right;\n",
       "    }\n",
       "</style>\n",
       "<table border=\"1\" class=\"dataframe\">\n",
       "  <thead>\n",
       "    <tr style=\"text-align: right;\">\n",
       "      <th></th>\n",
       "      <th>html</th>\n",
       "      <th>text</th>\n",
       "      <th>links</th>\n",
       "      <th>italic</th>\n",
       "      <th>chapter</th>\n",
       "      <th>graphic</th>\n",
       "      <th>table</th>\n",
       "      <th>marginal</th>\n",
       "      <th>sentences</th>\n",
       "      <th>tagged</th>\n",
       "    </tr>\n",
       "  </thead>\n",
       "  <tbody>\n",
       "    <tr>\n",
       "      <th>18</th>\n",
       "      <td>&lt;p&gt;&lt;span class=\"anchor\" id=\"bookmark0\"&gt;&lt;/span&gt;...</td>\n",
       "      <td>Chapter 1</td>\n",
       "      <td>[]</td>\n",
       "      <td>[]</td>\n",
       "      <td>1</td>\n",
       "      <td>[]</td>\n",
       "      <td>[]</td>\n",
       "      <td>[]</td>\n",
       "      <td>[Chapter 1]</td>\n",
       "      <td>[[(Chapter, None), (1, NUM)]]</td>\n",
       "    </tr>\n",
       "    <tr>\n",
       "      <th>34</th>\n",
       "      <td>&lt;p&gt;But before that, I shall prove in this firs...</td>\n",
       "      <td>But before that, I shall prove in this first p...</td>\n",
       "      <td>[]</td>\n",
       "      <td>[]</td>\n",
       "      <td>1</td>\n",
       "      <td>[]</td>\n",
       "      <td>[]</td>\n",
       "      <td>[]</td>\n",
       "      <td>[But before that, I shall prove in this first ...</td>\n",
       "      <td>[[(But, None), (before, None), (that, None), (...</td>\n",
       "    </tr>\n",
       "    <tr>\n",
       "      <th>33</th>\n",
       "      <td>&lt;p&gt;But since the sun's mean and apparent motio...</td>\n",
       "      <td>But since the sun's mean and apparent motions*...</td>\n",
       "      <td>[]</td>\n",
       "      <td>[Mysterium cosmographicum,]</td>\n",
       "      <td>1</td>\n",
       "      <td>[]</td>\n",
       "      <td>[]</td>\n",
       "      <td>[ Terms: * The sun's apparent position is that...</td>\n",
       "      <td>[But since the sun's mean and apparent motions...</td>\n",
       "      <td>[[(But, None), (since, None), (the, None), (su...</td>\n",
       "    </tr>\n",
       "    <tr>\n",
       "      <th>32</th>\n",
       "      <td>&lt;p&gt;Now the causes and measures of these inequa...</td>\n",
       "      <td>Now the causes and measures of these inequalit...</td>\n",
       "      <td>[]</td>\n",
       "      <td>[]</td>\n",
       "      <td>1</td>\n",
       "      <td>[]</td>\n",
       "      <td>[]</td>\n",
       "      <td>[ 5]</td>\n",
       "      <td>[Now the causes and measures of these inequali...</td>\n",
       "      <td>[[(Now, None), (the, None), (causes, None), (a...</td>\n",
       "    </tr>\n",
       "    <tr>\n",
       "      <th>30</th>\n",
       "      <td>&lt;p&gt;Again, however, it was noticed that these l...</td>\n",
       "      <td>Again, however, it was noticed that these loop...</td>\n",
       "      <td>[]</td>\n",
       "      <td>[]</td>\n",
       "      <td>1</td>\n",
       "      <td>[]</td>\n",
       "      <td>[]</td>\n",
       "      <td>[]</td>\n",
       "      <td>[Again, however, it was noticed that these loo...</td>\n",
       "      <td>[[(Again, None), (however, None), (it, None), ...</td>\n",
       "    </tr>\n",
       "  </tbody>\n",
       "</table>\n",
       "</div>"
      ],
      "text/plain": [
       "                                                 html  \\\n",
       "18  <p><span class=\"anchor\" id=\"bookmark0\"></span>...   \n",
       "34  <p>But before that, I shall prove in this firs...   \n",
       "33  <p>But since the sun's mean and apparent motio...   \n",
       "32  <p>Now the causes and measures of these inequa...   \n",
       "30  <p>Again, however, it was noticed that these l...   \n",
       "\n",
       "                                                 text links  \\\n",
       "18                                          Chapter 1    []   \n",
       "34  But before that, I shall prove in this first p...    []   \n",
       "33  But since the sun's mean and apparent motions*...    []   \n",
       "32  Now the causes and measures of these inequalit...    []   \n",
       "30  Again, however, it was noticed that these loop...    []   \n",
       "\n",
       "                         italic chapter graphic table  \\\n",
       "18                           []       1      []    []   \n",
       "34                           []       1      []    []   \n",
       "33  [Mysterium cosmographicum,]       1      []    []   \n",
       "32                           []       1      []    []   \n",
       "30                           []       1      []    []   \n",
       "\n",
       "                                             marginal  \\\n",
       "18                                                 []   \n",
       "34                                                 []   \n",
       "33  [ Terms: * The sun's apparent position is that...   \n",
       "32                                               [ 5]   \n",
       "30                                                 []   \n",
       "\n",
       "                                            sentences  \\\n",
       "18                                        [Chapter 1]   \n",
       "34  [But before that, I shall prove in this first ...   \n",
       "33  [But since the sun's mean and apparent motions...   \n",
       "32  [Now the causes and measures of these inequali...   \n",
       "30  [Again, however, it was noticed that these loo...   \n",
       "\n",
       "                                               tagged  \n",
       "18                      [[(Chapter, None), (1, NUM)]]  \n",
       "34  [[(But, None), (before, None), (that, None), (...  \n",
       "33  [[(But, None), (since, None), (the, None), (su...  \n",
       "32  [[(Now, None), (the, None), (causes, None), (a...  \n",
       "30  [[(Again, None), (however, None), (it, None), ...  "
      ]
     },
     "execution_count": 7,
     "metadata": {},
     "output_type": "execute_result"
    }
   ],
   "source": [
    "dfAstroNova.head(5)  "
   ]
  },
  {
   "cell_type": "code",
   "execution_count": 8,
   "metadata": {},
   "outputs": [
    {
     "data": {
      "text/html": [
       "<div>\n",
       "<style scoped>\n",
       "    .dataframe tbody tr th:only-of-type {\n",
       "        vertical-align: middle;\n",
       "    }\n",
       "\n",
       "    .dataframe tbody tr th {\n",
       "        vertical-align: top;\n",
       "    }\n",
       "\n",
       "    .dataframe thead th {\n",
       "        text-align: right;\n",
       "    }\n",
       "</style>\n",
       "<table border=\"1\" class=\"dataframe\">\n",
       "  <thead>\n",
       "    <tr style=\"text-align: right;\">\n",
       "      <th></th>\n",
       "      <th>html</th>\n",
       "      <th>text</th>\n",
       "      <th>links</th>\n",
       "      <th>italic</th>\n",
       "      <th>chapter</th>\n",
       "      <th>graphic</th>\n",
       "      <th>table</th>\n",
       "      <th>marginal</th>\n",
       "      <th>sentences</th>\n",
       "      <th>tagged</th>\n",
       "    </tr>\n",
       "  </thead>\n",
       "  <tbody>\n",
       "    <tr>\n",
       "      <th>594</th>\n",
       "      <td>&lt;p&gt;&lt;span class=\"anchor\" id=\"bookmark1\"&gt;&lt;/span&gt;...</td>\n",
       "      <td>Whether the motion from the sun, like its ligh...</td>\n",
       "      <td>[{'#fn1': 'άντίφραχις.↩'}]</td>\n",
       "      <td>[]</td>\n",
       "      <td>35</td>\n",
       "      <td>[]</td>\n",
       "      <td>[]</td>\n",
       "      <td>[]</td>\n",
       "      <td>[Whether the motion from the sun, like its lig...</td>\n",
       "      <td>[[(Whether, None), (the, None), (motion, None)...</td>\n",
       "    </tr>\n",
       "    <tr>\n",
       "      <th>596</th>\n",
       "      <td>&lt;p&gt;And concerning the first, it is worthy of c...</td>\n",
       "      <td>And concerning the first, it is worthy of cons...</td>\n",
       "      <td>[]</td>\n",
       "      <td>[]</td>\n",
       "      <td>35</td>\n",
       "      <td>[]</td>\n",
       "      <td>[]</td>\n",
       "      <td>[]</td>\n",
       "      <td>[And concerning the first, it is worthy of con...</td>\n",
       "      <td>[[(And, None), (concerning, None), (the, None)...</td>\n",
       "    </tr>\n",
       "    <tr>\n",
       "      <th>595</th>\n",
       "      <td>&lt;p&gt;This is a good time for me to take up the o...</td>\n",
       "      <td>This is a good time for me to take up the obje...</td>\n",
       "      <td>[]</td>\n",
       "      <td>[species]</td>\n",
       "      <td>35</td>\n",
       "      <td>[]</td>\n",
       "      <td>[]</td>\n",
       "      <td>[]</td>\n",
       "      <td>[This is a good time for me to take up the obj...</td>\n",
       "      <td>[[(This, None), (is, None), (a, None), (good, ...</td>\n",
       "    </tr>\n",
       "    <tr>\n",
       "      <th>598</th>\n",
       "      <td>&lt;p&gt;But it is answered, first, that the analogy...</td>\n",
       "      <td>But it is answered, first, that the analogy be...</td>\n",
       "      <td>[]</td>\n",
       "      <td>[]</td>\n",
       "      <td>35</td>\n",
       "      <td>[]</td>\n",
       "      <td>[]</td>\n",
       "      <td>[]</td>\n",
       "      <td>[But it is answered, first, that the analogy b...</td>\n",
       "      <td>[[(But, None), (it, None), (is, None), (answer...</td>\n",
       "    </tr>\n",
       "    <tr>\n",
       "      <th>599</th>\n",
       "      <td>&lt;p&gt;On this account I would nearly separate lig...</td>\n",
       "      <td>On this account I would nearly separate light ...</td>\n",
       "      <td>[]</td>\n",
       "      <td>[]</td>\n",
       "      <td>35</td>\n",
       "      <td>[]</td>\n",
       "      <td>[]</td>\n",
       "      <td>[]</td>\n",
       "      <td>[On this account I would nearly separate light...</td>\n",
       "      <td>[[(On, None), (this, None), (account, None), (...</td>\n",
       "    </tr>\n",
       "  </tbody>\n",
       "</table>\n",
       "</div>"
      ],
      "text/plain": [
       "                                                  html  \\\n",
       "594  <p><span class=\"anchor\" id=\"bookmark1\"></span>...   \n",
       "596  <p>And concerning the first, it is worthy of c...   \n",
       "595  <p>This is a good time for me to take up the o...   \n",
       "598  <p>But it is answered, first, that the analogy...   \n",
       "599  <p>On this account I would nearly separate lig...   \n",
       "\n",
       "                                                  text  \\\n",
       "594  Whether the motion from the sun, like its ligh...   \n",
       "596  And concerning the first, it is worthy of cons...   \n",
       "595  This is a good time for me to take up the obje...   \n",
       "598  But it is answered, first, that the analogy be...   \n",
       "599  On this account I would nearly separate light ...   \n",
       "\n",
       "                          links     italic chapter graphic table marginal  \\\n",
       "594  [{'#fn1': 'άντίφραχις.↩'}]         []      35      []    []       []   \n",
       "596                          []         []      35      []    []       []   \n",
       "595                          []  [species]      35      []    []       []   \n",
       "598                          []         []      35      []    []       []   \n",
       "599                          []         []      35      []    []       []   \n",
       "\n",
       "                                             sentences  \\\n",
       "594  [Whether the motion from the sun, like its lig...   \n",
       "596  [And concerning the first, it is worthy of con...   \n",
       "595  [This is a good time for me to take up the obj...   \n",
       "598  [But it is answered, first, that the analogy b...   \n",
       "599  [On this account I would nearly separate light...   \n",
       "\n",
       "                                                tagged  \n",
       "594  [[(Whether, None), (the, None), (motion, None)...  \n",
       "596  [[(And, None), (concerning, None), (the, None)...  \n",
       "595  [[(This, None), (is, None), (a, None), (good, ...  \n",
       "598  [[(But, None), (it, None), (is, None), (answer...  \n",
       "599  [[(On, None), (this, None), (account, None), (...  "
      ]
     },
     "execution_count": 8,
     "metadata": {},
     "output_type": "execute_result"
    }
   ],
   "source": [
    "dfAstroNova[740:745]"
   ]
  },
  {
   "cell_type": "code",
   "execution_count": 9,
   "metadata": {},
   "outputs": [
    {
     "data": {
      "text/html": [
       "<div>\n",
       "<style scoped>\n",
       "    .dataframe tbody tr th:only-of-type {\n",
       "        vertical-align: middle;\n",
       "    }\n",
       "\n",
       "    .dataframe tbody tr th {\n",
       "        vertical-align: top;\n",
       "    }\n",
       "\n",
       "    .dataframe thead th {\n",
       "        text-align: right;\n",
       "    }\n",
       "</style>\n",
       "<table border=\"1\" class=\"dataframe\">\n",
       "  <thead>\n",
       "    <tr style=\"text-align: right;\">\n",
       "      <th></th>\n",
       "      <th>html</th>\n",
       "      <th>text</th>\n",
       "      <th>links</th>\n",
       "      <th>italic</th>\n",
       "      <th>chapter</th>\n",
       "      <th>graphic</th>\n",
       "      <th>table</th>\n",
       "      <th>marginal</th>\n",
       "      <th>sentences</th>\n",
       "      <th>tagged</th>\n",
       "    </tr>\n",
       "  </thead>\n",
       "  <tbody>\n",
       "    <tr>\n",
       "      <th>1568</th>\n",
       "      <td>&lt;p&gt;{marginal: The words of the observation hav...</td>\n",
       "      <td>Consider whether the meaning could be this: t...</td>\n",
       "      <td>[]</td>\n",
       "      <td>[]</td>\n",
       "      <td>70</td>\n",
       "      <td>[]</td>\n",
       "      <td>[]</td>\n",
       "      <td>[ The words of the observation have their comm...</td>\n",
       "      <td>[Consider whether the meaning could be this: t...</td>\n",
       "      <td>[[(Consider, None), (whether, None), (the, Non...</td>\n",
       "    </tr>\n",
       "    <tr>\n",
       "      <th>1569</th>\n",
       "      <td>&lt;p&gt;This interpretation is furthered by the obs...</td>\n",
       "      <td>This interpretation is furthered by the observ...</td>\n",
       "      <td>[]</td>\n",
       "      <td>[]</td>\n",
       "      <td>70</td>\n",
       "      <td>[]</td>\n",
       "      <td>[]</td>\n",
       "      <td>[]</td>\n",
       "      <td>[This interpretation is furthered by the obser...</td>\n",
       "      <td>[[(This, None), (interpretation, None), (is, N...</td>\n",
       "    </tr>\n",
       "    <tr>\n",
       "      <th>0</th>\n",
       "      <td>&lt;p&gt;Appendix B&lt;/p&gt;</td>\n",
       "      <td>Appendix B</td>\n",
       "      <td>[]</td>\n",
       "      <td>[]</td>\n",
       "      <td>appendix b</td>\n",
       "      <td>[]</td>\n",
       "      <td>[]</td>\n",
       "      <td>[]</td>\n",
       "      <td>[Appendix B]</td>\n",
       "      <td>[[(Appendix, None), (B, None)]]</td>\n",
       "    </tr>\n",
       "    <tr>\n",
       "      <th>1</th>\n",
       "      <td>&lt;p&gt;&lt;span class=\"anchor\" id=\"bookmark0\"&gt;&lt;/span&gt;...</td>\n",
       "      <td>On the Table of Oppositions in Chapter 15</td>\n",
       "      <td>[]</td>\n",
       "      <td>[]</td>\n",
       "      <td>appendix b</td>\n",
       "      <td>[]</td>\n",
       "      <td>[]</td>\n",
       "      <td>[]</td>\n",
       "      <td>[On the Table of Oppositions in Chapter 15]</td>\n",
       "      <td>[[(On, None), (the, None), (Table, None), (of,...</td>\n",
       "    </tr>\n",
       "    <tr>\n",
       "      <th>2</th>\n",
       "      <td>&lt;p&gt;by Yaakov Zik &lt;span style=\"font-variant: sm...</td>\n",
       "      <td>by Yaakov Zik Table i:</td>\n",
       "      <td>[]</td>\n",
       "      <td>[]</td>\n",
       "      <td>appendix b</td>\n",
       "      <td>[]</td>\n",
       "      <td>[]</td>\n",
       "      <td>[]</td>\n",
       "      <td>[by Yaakov Zik Table i:]</td>\n",
       "      <td>[[(by, None), (Yaakov, None), (Zik, None), (Ta...</td>\n",
       "    </tr>\n",
       "  </tbody>\n",
       "</table>\n",
       "</div>"
      ],
      "text/plain": [
       "                                                   html  \\\n",
       "1568  <p>{marginal: The words of the observation hav...   \n",
       "1569  <p>This interpretation is furthered by the obs...   \n",
       "0                                     <p>Appendix B</p>   \n",
       "1     <p><span class=\"anchor\" id=\"bookmark0\"></span>...   \n",
       "2     <p>by Yaakov Zik <span style=\"font-variant: sm...   \n",
       "\n",
       "                                                   text links italic  \\\n",
       "1568   Consider whether the meaning could be this: t...    []     []   \n",
       "1569  This interpretation is furthered by the observ...    []     []   \n",
       "0                                            Appendix B    []     []   \n",
       "1             On the Table of Oppositions in Chapter 15    []     []   \n",
       "2                                by Yaakov Zik Table i:    []     []   \n",
       "\n",
       "         chapter graphic table  \\\n",
       "1568          70      []    []   \n",
       "1569          70      []    []   \n",
       "0     appendix b      []    []   \n",
       "1     appendix b      []    []   \n",
       "2     appendix b      []    []   \n",
       "\n",
       "                                               marginal  \\\n",
       "1568  [ The words of the observation have their comm...   \n",
       "1569                                                 []   \n",
       "0                                                    []   \n",
       "1                                                    []   \n",
       "2                                                    []   \n",
       "\n",
       "                                              sentences  \\\n",
       "1568  [Consider whether the meaning could be this: t...   \n",
       "1569  [This interpretation is furthered by the obser...   \n",
       "0                                          [Appendix B]   \n",
       "1           [On the Table of Oppositions in Chapter 15]   \n",
       "2                              [by Yaakov Zik Table i:]   \n",
       "\n",
       "                                                 tagged  \n",
       "1568  [[(Consider, None), (whether, None), (the, Non...  \n",
       "1569  [[(This, None), (interpretation, None), (is, N...  \n",
       "0                       [[(Appendix, None), (B, None)]]  \n",
       "1     [[(On, None), (the, None), (Table, None), (of,...  \n",
       "2     [[(by, None), (Yaakov, None), (Zik, None), (Ta...  "
      ]
     },
     "execution_count": 9,
     "metadata": {},
     "output_type": "execute_result"
    }
   ],
   "source": [
    "dfAstroNova[1585:1590]"
   ]
  },
  {
   "cell_type": "code",
   "execution_count": 10,
   "metadata": {},
   "outputs": [
    {
     "data": {
      "text/html": [
       "<div>\n",
       "<style scoped>\n",
       "    .dataframe tbody tr th:only-of-type {\n",
       "        vertical-align: middle;\n",
       "    }\n",
       "\n",
       "    .dataframe tbody tr th {\n",
       "        vertical-align: top;\n",
       "    }\n",
       "\n",
       "    .dataframe thead th {\n",
       "        text-align: right;\n",
       "    }\n",
       "</style>\n",
       "<table border=\"1\" class=\"dataframe\">\n",
       "  <thead>\n",
       "    <tr style=\"text-align: right;\">\n",
       "      <th></th>\n",
       "      <th>html</th>\n",
       "      <th>text</th>\n",
       "      <th>links</th>\n",
       "      <th>italic</th>\n",
       "      <th>chapter</th>\n",
       "      <th>graphic</th>\n",
       "      <th>table</th>\n",
       "      <th>marginal</th>\n",
       "      <th>sentences</th>\n",
       "      <th>tagged</th>\n",
       "    </tr>\n",
       "  </thead>\n",
       "  <tbody>\n",
       "    <tr>\n",
       "      <th>13</th>\n",
       "      <td>&lt;p&gt;{table: appendix B t 2}&lt;/p&gt;</td>\n",
       "      <td></td>\n",
       "      <td>[]</td>\n",
       "      <td>[]</td>\n",
       "      <td>appendix b</td>\n",
       "      <td>[]</td>\n",
       "      <td>[ appendix B t 2]</td>\n",
       "      <td>[]</td>\n",
       "      <td>[]</td>\n",
       "      <td>[]</td>\n",
       "    </tr>\n",
       "    <tr>\n",
       "      <th>14</th>\n",
       "      <td>&lt;p&gt;Kepler's table, for comparison {table: appe...</td>\n",
       "      <td>Kepler's table, for comparison</td>\n",
       "      <td>[]</td>\n",
       "      <td>[]</td>\n",
       "      <td>appendix b</td>\n",
       "      <td>[]</td>\n",
       "      <td>[ appendix B t 3]</td>\n",
       "      <td>[]</td>\n",
       "      <td>[Kepler's table, for comparison]</td>\n",
       "      <td>[[(Kepler, None), (s, None), (table, None), (f...</td>\n",
       "    </tr>\n",
       "    <tr>\n",
       "      <th>15</th>\n",
       "      <td>&lt;p&gt;Mars from Earth to be a little greater than...</td>\n",
       "      <td>Mars from Earth to be a little greater than ha...</td>\n",
       "      <td>[{'#fn6': '\n",
       "Kepler's observations yield topoce...</td>\n",
       "      <td>[]</td>\n",
       "      <td>appendix b</td>\n",
       "      <td>[]</td>\n",
       "      <td>[]</td>\n",
       "      <td>[]</td>\n",
       "      <td>[Mars from Earth to be a little greater than h...</td>\n",
       "      <td>[[(Mars, None), (from, None), (Earth, None), (...</td>\n",
       "    </tr>\n",
       "    <tr>\n",
       "      <th>16</th>\n",
       "      <td>&lt;p&gt;&lt;img height=\"300\" src=\"media/image1.jpeg\" w...</td>\n",
       "      <td>As shown in Figure 2B, the Sun is assumed to ...</td>\n",
       "      <td>[]</td>\n",
       "      <td>[]</td>\n",
       "      <td>appendix b</td>\n",
       "      <td>[ appendix b gr 1]</td>\n",
       "      <td>[]</td>\n",
       "      <td>[]</td>\n",
       "      <td>[As shown in Figure 2B, the Sun is assumed to ...</td>\n",
       "      <td>[[(As, None), (shown, None), (in, None), (Figu...</td>\n",
       "    </tr>\n",
       "    <tr>\n",
       "      <th>17</th>\n",
       "      <td>&lt;p&gt;The Sun moved westward and its longitude de...</td>\n",
       "      <td>The Sun moved westward and its longitude decre...</td>\n",
       "      <td>[]</td>\n",
       "      <td>[4&lt;sup&gt;h&lt;/sup&gt; 23&lt;sup&gt;m &lt;/sup&gt;]</td>\n",
       "      <td>appendix b</td>\n",
       "      <td>[]</td>\n",
       "      <td>[]</td>\n",
       "      <td>[]</td>\n",
       "      <td>[The Sun moved westward and its longitude decr...</td>\n",
       "      <td>[[(The, None), (Sun, None), (moved, None), (we...</td>\n",
       "    </tr>\n",
       "  </tbody>\n",
       "</table>\n",
       "</div>"
      ],
      "text/plain": [
       "                                                 html  \\\n",
       "13                     <p>{table: appendix B t 2}</p>   \n",
       "14  <p>Kepler's table, for comparison {table: appe...   \n",
       "15  <p>Mars from Earth to be a little greater than...   \n",
       "16  <p><img height=\"300\" src=\"media/image1.jpeg\" w...   \n",
       "17  <p>The Sun moved westward and its longitude de...   \n",
       "\n",
       "                                                 text  \\\n",
       "13                                                      \n",
       "14                    Kepler's table, for comparison    \n",
       "15  Mars from Earth to be a little greater than ha...   \n",
       "16   As shown in Figure 2B, the Sun is assumed to ...   \n",
       "17  The Sun moved westward and its longitude decre...   \n",
       "\n",
       "                                                links  \\\n",
       "13                                                 []   \n",
       "14                                                 []   \n",
       "15  [{'#fn6': '\n",
       "Kepler's observations yield topoce...   \n",
       "16                                                 []   \n",
       "17                                                 []   \n",
       "\n",
       "                             italic     chapter             graphic  \\\n",
       "13                               []  appendix b                  []   \n",
       "14                               []  appendix b                  []   \n",
       "15                               []  appendix b                  []   \n",
       "16                               []  appendix b  [ appendix b gr 1]   \n",
       "17  [4<sup>h</sup> 23<sup>m </sup>]  appendix b                  []   \n",
       "\n",
       "                table marginal  \\\n",
       "13  [ appendix B t 2]       []   \n",
       "14  [ appendix B t 3]       []   \n",
       "15                 []       []   \n",
       "16                 []       []   \n",
       "17                 []       []   \n",
       "\n",
       "                                            sentences  \\\n",
       "13                                                 []   \n",
       "14                   [Kepler's table, for comparison]   \n",
       "15  [Mars from Earth to be a little greater than h...   \n",
       "16  [As shown in Figure 2B, the Sun is assumed to ...   \n",
       "17  [The Sun moved westward and its longitude decr...   \n",
       "\n",
       "                                               tagged  \n",
       "13                                                 []  \n",
       "14  [[(Kepler, None), (s, None), (table, None), (f...  \n",
       "15  [[(Mars, None), (from, None), (Earth, None), (...  \n",
       "16  [[(As, None), (shown, None), (in, None), (Figu...  \n",
       "17  [[(The, None), (Sun, None), (moved, None), (we...  "
      ]
     },
     "execution_count": 10,
     "metadata": {},
     "output_type": "execute_result"
    }
   ],
   "source": [
    "dfAstroNova.tail(5)"
   ]
  },
  {
   "cell_type": "markdown",
   "metadata": {},
   "source": [
    "## **Primary Data Exploration**"
   ]
  },
  {
   "cell_type": "code",
   "execution_count": 11,
   "metadata": {},
   "outputs": [
    {
     "data": {
      "text/plain": [
       "\"The time is measured from midnight; Gregorian dates are obtained by adding 10 days to Kepler's dates. The dates are given in old style.\""
      ]
     },
     "execution_count": 11,
     "metadata": {},
     "output_type": "execute_result"
    }
   ],
   "source": [
    "\n",
    "dfAstroNova[\"text\"][5]    # 5th row of the data in the format of text "
   ]
  },
  {
   "cell_type": "code",
   "execution_count": 12,
   "metadata": {},
   "outputs": [
    {
     "data": {
      "text/plain": [
       "[[('The', 'None'),\n",
       "  ('time', 'None'),\n",
       "  ('is', 'None'),\n",
       "  ('measured', 'None'),\n",
       "  ('from', 'None'),\n",
       "  ('midnight', 'None'),\n",
       "  ('Gregorian', 'None'),\n",
       "  ('dates', 'None'),\n",
       "  ('are', 'None'),\n",
       "  ('obtained', 'None'),\n",
       "  ('by', 'None'),\n",
       "  ('adding', 'None'),\n",
       "  ('10', 'NUM'),\n",
       "  ('days', 'None'),\n",
       "  ('to', 'None'),\n",
       "  ('Kepler', 'None'),\n",
       "  ('s', 'None'),\n",
       "  ('dates', 'None')],\n",
       " [('The', 'None'),\n",
       "  ('dates', 'None'),\n",
       "  ('are', 'None'),\n",
       "  ('given', 'None'),\n",
       "  ('in', 'None'),\n",
       "  ('old', 'None'),\n",
       "  ('style', 'None')]]"
      ]
     },
     "execution_count": 12,
     "metadata": {},
     "output_type": "execute_result"
    }
   ],
   "source": [
    "dfAstroNova[\"tagged\"][5] # 5th row of the data in a format (token, label). A list of lists of tuples! later position tags of the token will be added to each tuple. the tokens are chosen before by some rules."
   ]
  },
  {
   "cell_type": "code",
   "execution_count": 13,
   "metadata": {},
   "outputs": [],
   "source": [
    "dfAstroNova= dfAstroNova.loc[dfAstroNova.chapter==33]"
   ]
  },
  {
   "cell_type": "code",
   "execution_count": 14,
   "metadata": {},
   "outputs": [
    {
     "data": {
      "text/plain": [
       "88"
      ]
     },
     "execution_count": 14,
     "metadata": {},
     "output_type": "execute_result"
    }
   ],
   "source": [
    " df = sum(dfAstroNova['tagged'], [])  # Flatt the data by removing first lists\n",
    "len(df)"
   ]
  },
  {
   "cell_type": "code",
   "execution_count": 15,
   "metadata": {},
   "outputs": [
    {
     "data": {
      "text/plain": [
       "[('Between', 'None'),\n",
       " ('these', 'None'),\n",
       " ('two', 'None'),\n",
       " ('possibilities', 'None'),\n",
       " ('therefore', 'None'),\n",
       " ('there', 'None'),\n",
       " ('is', 'None'),\n",
       " ('no', 'None'),\n",
       " ('intermediate', 'None')]"
      ]
     },
     "execution_count": 15,
     "metadata": {},
     "output_type": "execute_result"
    }
   ],
   "source": [
    "df[5]  "
   ]
  },
  {
   "cell_type": "code",
   "execution_count": 16,
   "metadata": {},
   "outputs": [],
   "source": [
    "df_flatten = sum(df,[])  # Flatt the data by removing the second list\n"
   ]
  },
  {
   "cell_type": "code",
   "execution_count": 17,
   "metadata": {},
   "outputs": [
    {
     "data": {
      "text/plain": [
       "[('Let', 'None'),\n",
       " ('Tycho', 'None'),\n",
       " ('Brahe', 'None'),\n",
       " ('himself', 'None'),\n",
       " ('or', 'None'),\n",
       " ('anyone', 'None'),\n",
       " ('who', 'None'),\n",
       " ('prefers', 'None'),\n",
       " ('to', 'None'),\n",
       " ('follow', 'None'),\n",
       " ('his', 'None'),\n",
       " ('general', 'None'),\n",
       " ('hypothesis', 'None'),\n",
       " ('of', 'None'),\n",
       " ('the', 'None'),\n",
       " ('second', 'None'),\n",
       " ('inequality', 'None'),\n",
       " ('consider', 'None'),\n",
       " ('by', 'None'),\n",
       " ('how', 'None')]"
      ]
     },
     "execution_count": 17,
     "metadata": {},
     "output_type": "execute_result"
    }
   ],
   "source": [
    "df_flatten[0:20]  # Here we have tokens (entities) with their labels"
   ]
  },
  {
   "cell_type": "code",
   "execution_count": 18,
   "metadata": {},
   "outputs": [
    {
     "data": {
      "text/plain": [
       "3225"
      ]
     },
     "execution_count": 18,
     "metadata": {},
     "output_type": "execute_result"
    }
   ],
   "source": [
    "len(df_flatten)  # Number of all tokens (roughly speaking all words or entities)"
   ]
  },
  {
   "cell_type": "code",
   "execution_count": 19,
   "metadata": {},
   "outputs": [],
   "source": [
    "\n",
    "tokens = [x[0] for x in df_flatten]  # Extract the tokens for further use in the frequency plot"
   ]
  },
  {
   "cell_type": "code",
   "execution_count": 20,
   "metadata": {},
   "outputs": [],
   "source": [
    "labels=([x[1] for x in df_flatten])  # Extract the labels for further use in the frequency plot"
   ]
  },
  {
   "cell_type": "code",
   "execution_count": 21,
   "metadata": {},
   "outputs": [
    {
     "data": {
      "text/plain": [
       "['Let', 'Tycho', 'Brahe', 'himself', 'or']"
      ]
     },
     "execution_count": 21,
     "metadata": {},
     "output_type": "execute_result"
    }
   ],
   "source": [
    "tokens[0:5]"
   ]
  },
  {
   "cell_type": "code",
   "execution_count": 22,
   "metadata": {},
   "outputs": [
    {
     "data": {
      "text/plain": [
       "['None', 'None', 'None', 'None', 'None']"
      ]
     },
     "execution_count": 22,
     "metadata": {},
     "output_type": "execute_result"
    }
   ],
   "source": [
    "labels[0:5]"
   ]
  },
  {
   "cell_type": "markdown",
   "metadata": {},
   "source": [
    "## **Visualization**"
   ]
  },
  {
   "cell_type": "markdown",
   "metadata": {},
   "source": [
    "### Frequency plot of all words in all chapter of book"
   ]
  },
  {
   "cell_type": "markdown",
   "metadata": {},
   "source": [
    "<font size=\"3\">\n",
    "Frequency plot of all tokens in text, as you see there is a lot 'the', 'of',... in text, they normally consider as noise, we will back to that later.\n",
    "<font/>"
   ]
  },
  {
   "cell_type": "code",
   "execution_count": 23,
   "metadata": {},
   "outputs": [
    {
     "data": {
      "image/png": "[encoded data removed]",
      "text/plain": [
       "<Figure size 1800x360 with 1 Axes>"
      ]
     },
     "metadata": {
      "needs_background": "light"
     },
     "output_type": "display_data"
    }
   ],
   "source": [
    "freqdist = nltk.FreqDist(tokens)\n",
    "plt.figure(figsize=(25,5))\n",
    "freqdist.plot(100, title='Frequency plot of words')\n"
   ]
  },
  {
   "cell_type": "code",
   "execution_count": 24,
   "metadata": {},
   "outputs": [],
   "source": [
    "stop_words=[\"the\", \"of\", \"is\", \"to\", \"and\",\"in\", \"be\", \"at\", \"that\", \"from\", \"it\", \"a\", \"as\",\"this\", \"was\" ] # we can consider these as stop words or we can use nltk stop words."
   ]
  },
  {
   "cell_type": "code",
   "execution_count": 25,
   "metadata": {},
   "outputs": [],
   "source": [
    "# nltk stop words\n",
    "from nltk.corpus import stopwords\n",
    "stop_words=set(stopwords.words('english'))\n",
    "stop_words=stop_words.union(['I', 'And', 'For', 'A', 'The'])\n",
    "#stop_words_nltk = set(stop_words)\n",
    "\n",
    "# List of nltk stop words {‘ourselves’, ‘hers’, ‘between’, ‘yourself’, ‘but’, ‘again’, ‘there’, ‘about’, ‘once’, ‘during’, ‘out’, ‘very’, ‘having’, ‘with’, ‘they’, ‘own’, ‘an’, ‘be’, ‘some’, ‘for’, ‘do’, ‘its’, ‘yours’, ‘such’, ‘into’, ‘of’, ‘most’, ‘itself’, ‘other’, ‘off’, ‘is’, ‘s’, ‘am’, ‘or’, ‘who’, ‘as’, ‘from’, ‘him’, ‘each’, ‘the’, ‘themselves’, ‘until’, ‘below’, ‘are’, ‘we’, ‘these’, ‘your’, ‘his’, ‘through’, ‘don’, ‘nor’, ‘me’, ‘were’, ‘her’, ‘more’, ‘himself’, ‘this’, ‘down’, ‘should’, ‘our’, ‘their’, ‘while’, ‘above’, ‘both’, ‘up’, ‘to’, ‘ours’, ‘had’, ‘she’, ‘all’, ‘no’, ‘when’, ‘at’, ‘any’, ‘before’, ‘them’, ‘same’, ‘and’, ‘been’, ‘have’, ‘in’, ‘will’, ‘on’, ‘does’, ‘yourselves’, ‘then’, ‘that’, ‘because’, ‘what’, ‘over’, ‘why’, ‘so’, ‘can’, ‘did’, ‘not’, ‘now’, ‘under’, ‘he’, ‘you’, ‘herself’, ‘has’, ‘just’, ‘where’, ‘too’, ‘only’, ‘myself’, ‘which’, ‘those’, ‘i’, ‘after’, ‘few’, ‘whom’, ‘t’, ‘being’, ‘if’, ‘theirs’, ‘my’, ‘against’, ‘a’, ‘by’, ‘doing’, ‘it’, ‘how’, ‘further’, ‘was’, ‘here’, ‘than’} \n"
   ]
  },
  {
   "cell_type": "markdown",
   "metadata": {},
   "source": [
    "<font size=\"3\">\n",
    "We can consider these words like 'the', 'of',... as noises. so we temporary remove those! \n",
    "<font/>"
   ]
  },
  {
   "cell_type": "code",
   "execution_count": 26,
   "metadata": {},
   "outputs": [],
   "source": [
    "new_tokens = []     \n",
    "for w in tokens:\n",
    "    if w not in stop_words: new_tokens.append(w)      "
   ]
  },
  {
   "cell_type": "markdown",
   "metadata": {},
   "source": [
    "### Frequency plot of all words in all chapter of book after removing the stop words"
   ]
  },
  {
   "cell_type": "markdown",
   "metadata": {},
   "source": [
    "<font size=\"3\">\n",
    "It shows word \"sun\" is most common word.  We can also see the word Mars, planet, eccentric as common words in the book \n",
    "<font/>"
   ]
  },
  {
   "cell_type": "code",
   "execution_count": 27,
   "metadata": {},
   "outputs": [
    {
     "data": {
      "image/png": "[encoded data removed]",
      "text/plain": [
       "<Figure size 1800x360 with 1 Axes>"
      ]
     },
     "metadata": {
      "needs_background": "light"
     },
     "output_type": "display_data"
    }
   ],
   "source": [
    "freqdist = nltk.FreqDist(new_tokens) \n",
    "plt.figure(figsize=(25,5)) \n",
    "freqdist.plot(100, title='Frequency plot of words after removing noise')"
   ]
  },
  {
   "cell_type": "markdown",
   "metadata": {},
   "source": [
    "<font size=\"4\">\n",
    "Do we need more insight than frequency plot of word for see content of the book? the question is answered by the follwoing cells through investigation of \"topic modelling\"\n",
    "<font/>"
   ]
  },
  {
   "cell_type": "markdown",
   "metadata": {},
   "source": [
    "## **Topic Modelling by LDA**"
   ]
  },
  {
   "cell_type": "markdown",
   "metadata": {},
   "source": [
    " Here you see an structured workflow to build an insightful \"topic model\" based on the Latent Dirichlet Allocation (LDA) algorithm,  modeled as Dirichlet distributions Dir(α).\n",
    " For more detail you can read: <p>\n",
    "http://www.jmlr.org/papers/volume3/blei03a/blei03a.pdf\n",
    "    </p>"
   ]
  },
  {
   "cell_type": "markdown",
   "metadata": {},
   "source": [
    "### **Pre-processing**"
   ]
  },
  {
   "cell_type": "markdown",
   "metadata": {},
   "source": [
    "<font size=\"3\">\n",
    "Since we alreay tokenized the text (split text into  word without punctuation) and removed stopwrods, we only need to **lemmatize** and **stemm** the tokens.\n",
    "<font/>"
   ]
  },
  {
   "cell_type": "code",
   "execution_count": 28,
   "metadata": {},
   "outputs": [],
   "source": [
    "mytext = nltk.Text(new_tokens) "
   ]
  },
  {
   "cell_type": "markdown",
   "metadata": {},
   "source": [
    "#### Lemmatization "
   ]
  },
  {
   "cell_type": "markdown",
   "metadata": {},
   "source": [
    "<font size=\"3\">\n",
    "Lemmatization, takes into consideration the morphological analysis of the words. For instance  \"do\", \"does\", \"did\" and \"doing\" are forms of the same lexeme with \"do\" as the lemma. Another example would be  \"car\", \"cars\", \"automobile\"\n",
    "<font/>"
   ]
  },
  {
   "cell_type": "code",
   "execution_count": 29,
   "metadata": {},
   "outputs": [],
   "source": [
    "#lemmatization\n",
    "w_lemmatize= WordNetLemmatizer()\n",
    "my_text_lemmatize = [w_lemmatize.lemmatize(word) for word in mytext]\n"
   ]
  },
  {
   "cell_type": "markdown",
   "metadata": {},
   "source": [
    "#### Stemming"
   ]
  },
  {
   "cell_type": "markdown",
   "metadata": {},
   "source": [
    "<font size=\"3\">\n",
    "Stemming algorithms work by cutting off the end or the beginning of the word, by taking into account a list of common prefixes and suffixes. It reduces words to their word stem or root form. For instance, stemming for root word \"like\" include:\"likes\", \"liked\", \"likely\", \"liking\n",
    "<font size=/>"
   ]
  },
  {
   "cell_type": "code",
   "execution_count": 30,
   "metadata": {},
   "outputs": [],
   "source": [
    "# stemming \n",
    "p_stemmers=PorterStemmer()  \n",
    "my_text_lemm_stemmer = [p_stemmers.stem(word) for word in my_text_lemmatize]"
   ]
  },
  {
   "cell_type": "code",
   "execution_count": 31,
   "metadata": {},
   "outputs": [],
   "source": [
    "my_text_lemm_stemmer=[my_text_lemm_stemmer] #make a list of list"
   ]
  },
  {
   "cell_type": "markdown",
   "metadata": {},
   "source": [
    "#### Select a document to preview after preprocessing."
   ]
  },
  {
   "cell_type": "code",
   "execution_count": null,
   "metadata": {},
   "outputs": [],
   "source": []
  },
  {
   "cell_type": "code",
   "execution_count": 32,
   "metadata": {},
   "outputs": [],
   "source": [
    "Dic=corpora.Dictionary(my_text_lemm_stemmer)"
   ]
  },
  {
   "cell_type": "markdown",
   "metadata": {},
   "source": [
    "### **Bag of Words on the Data set**"
   ]
  },
  {
   "cell_type": "markdown",
   "metadata": {},
   "source": [
    "<font size=\"4\">\n",
    "Our dictionary must be converted to \"bag of word\". Frequency of occurrence of each word is used as a feature for training a classifier. It means it should contain the number of times a word appears\n",
    "<font size>"
   ]
  },
  {
   "cell_type": "code",
   "execution_count": 33,
   "metadata": {},
   "outputs": [],
   "source": [
    "corpus = [Dic.doc2bow(text) for text in my_text_lemm_stemmer]"
   ]
  },
  {
   "cell_type": "markdown",
   "metadata": {},
   "source": [
    "#### Running LDA using Bag of Words**"
   ]
  },
  {
   "cell_type": "code",
   "execution_count": 34,
   "metadata": {},
   "outputs": [],
   "source": [
    "ldamodel =models.ldamodel.LdaModel(corpus, num_topics=3,  id2word = Dic, passes=2)"
   ]
  },
  {
   "cell_type": "code",
   "execution_count": 35,
   "metadata": {},
   "outputs": [],
   "source": [
    "lda_topics=ldamodel.print_topics()"
   ]
  },
  {
   "cell_type": "code",
   "execution_count": 36,
   "metadata": {},
   "outputs": [
    {
     "data": {
      "text/plain": [
       "[(0,\n",
       "  '0.016*\"bodi\" + 0.015*\"power\" + 0.014*\"sun\" + 0.011*\"motion\" + 0.010*\"move\" + 0.010*\"center\" + 0.010*\"planet\" + 0.009*\"world\" + 0.009*\"caus\" + 0.009*\"light\"'),\n",
       " (1,\n",
       "  '0.013*\"power\" + 0.010*\"bodi\" + 0.009*\"planet\" + 0.009*\"sun\" + 0.009*\"world\" + 0.008*\"light\" + 0.008*\"center\" + 0.007*\"motion\" + 0.006*\"time\" + 0.006*\"caus\"'),\n",
       " (2,\n",
       "  '0.025*\"power\" + 0.021*\"bodi\" + 0.019*\"sun\" + 0.016*\"light\" + 0.015*\"planet\" + 0.014*\"move\" + 0.012*\"center\" + 0.012*\"motion\" + 0.010*\"world\" + 0.010*\"earth\"')]"
      ]
     },
     "execution_count": 36,
     "metadata": {},
     "output_type": "execute_result"
    }
   ],
   "source": [
    "lda_topics"
   ]
  },
  {
   "cell_type": "code",
   "execution_count": 37,
   "metadata": {},
   "outputs": [
    {
     "name": "stderr",
     "output_type": "stream",
     "text": [
      "C:\\Users\\moha\\Anaconda3\\lib\\site-packages\\pyLDAvis\\_prepare.py:257: FutureWarning: Sorting because non-concatenation axis is not aligned. A future version\n",
      "of pandas will change to not sort by default.\n",
      "\n",
      "To accept the future behavior, pass 'sort=False'.\n",
      "\n",
      "To retain the current behavior and silence the warning, pass 'sort=True'.\n",
      "\n",
      "  return pd.concat([default_term_info] + list(topic_dfs))\n"
     ]
    }
   ],
   "source": [
    "import pyLDAvis.gensim\n",
    "import gensim\n",
    "pyLDAvis.enable_notebook()\n",
    "vis = pyLDAvis.gensim.prepare(ldamodel, corpus, Dic)\n"
   ]
  },
  {
   "cell_type": "markdown",
   "metadata": {},
   "source": [
    "# Topic Modelling of chapter 5 "
   ]
  },
  {
   "cell_type": "code",
   "execution_count": 38,
   "metadata": {},
   "outputs": [
    {
     "data": {
      "text/html": [
       "\n",
       "<link rel=\"stylesheet\" type=\"text/css\" href=\"https://cdn.rawgit.com/bmabey/pyLDAvis/files/ldavis.v1.0.0.css\">\n",
       "\n",
       "\n",
       "<div id=\"ldavis_el98801861910553368741132909\"></div>\n",
       "<script type=\"text/javascript\">\n",
       "\n",
       "var ldavis_el98801861910553368741132909_data = {\"mdsDat\": {\"x\": [-0.008620724779322846, 0.00047766783270394993, 0.0081430569466189], \"y\": [-0.0, -0.0, -0.0], \"topics\": [1, 2, 3], \"cluster\": [1, 1, 1], \"Freq\": [99.94888305664062, 0.026144370436668396, 0.02497347816824913]}, \"tinfo\": {\"Category\": [\"Default\", \"Default\", \"Default\", \"Default\", \"Default\", \"Default\", \"Default\", \"Default\", \"Default\", \"Default\", \"Default\", \"Default\", \"Default\", \"Default\", \"Default\", \"Default\", \"Default\", \"Default\", \"Default\", \"Default\", \"Default\", \"Default\", \"Default\", \"Default\", \"Default\", \"Default\", \"Default\", \"Default\", \"Default\", \"Default\", \"Topic1\", \"Topic1\", \"Topic1\", \"Topic1\", \"Topic1\", \"Topic1\", \"Topic1\", \"Topic1\", \"Topic1\", \"Topic1\", \"Topic1\", \"Topic1\", \"Topic1\", \"Topic1\", \"Topic1\", \"Topic1\", \"Topic1\", \"Topic1\", \"Topic1\", \"Topic1\", \"Topic1\", \"Topic1\", \"Topic1\", \"Topic1\", \"Topic1\", \"Topic1\", \"Topic1\", \"Topic1\", \"Topic1\", \"Topic1\", \"Topic1\", \"Topic1\", \"Topic1\", \"Topic1\", \"Topic1\", \"Topic1\", \"Topic1\", \"Topic2\", \"Topic2\", \"Topic2\", \"Topic2\", \"Topic2\", \"Topic2\", \"Topic2\", \"Topic2\", \"Topic2\", \"Topic2\", \"Topic2\", \"Topic2\", \"Topic2\", \"Topic2\", \"Topic2\", \"Topic2\", \"Topic2\", \"Topic2\", \"Topic2\", \"Topic2\", \"Topic2\", \"Topic2\", \"Topic2\", \"Topic2\", \"Topic2\", \"Topic2\", \"Topic2\", \"Topic2\", \"Topic2\", \"Topic2\", \"Topic2\", \"Topic2\", \"Topic2\", \"Topic2\", \"Topic2\", \"Topic2\", \"Topic2\", \"Topic2\", \"Topic2\", \"Topic2\", \"Topic2\", \"Topic2\", \"Topic2\", \"Topic2\", \"Topic2\", \"Topic2\", \"Topic2\", \"Topic2\", \"Topic2\", \"Topic2\", \"Topic2\", \"Topic2\", \"Topic2\", \"Topic2\", \"Topic2\", \"Topic2\", \"Topic2\", \"Topic2\", \"Topic2\", \"Topic2\", \"Topic2\", \"Topic2\", \"Topic2\", \"Topic2\", \"Topic2\", \"Topic2\", \"Topic2\", \"Topic2\", \"Topic2\", \"Topic2\", \"Topic3\", \"Topic3\", \"Topic3\", \"Topic3\", \"Topic3\", \"Topic3\", \"Topic3\", \"Topic3\", \"Topic3\", \"Topic3\", \"Topic3\", \"Topic3\", \"Topic3\", \"Topic3\", \"Topic3\", \"Topic3\", \"Topic3\", \"Topic3\", \"Topic3\", \"Topic3\", \"Topic3\", \"Topic3\", \"Topic3\", \"Topic3\", \"Topic3\", \"Topic3\", \"Topic3\", \"Topic3\", \"Topic3\", \"Topic3\", \"Topic3\", \"Topic3\", \"Topic3\", \"Topic3\", \"Topic3\", \"Topic3\", \"Topic3\", \"Topic3\", \"Topic3\", \"Topic3\", \"Topic3\", \"Topic3\", \"Topic3\", \"Topic3\", \"Topic3\", \"Topic3\", \"Topic3\", \"Topic3\", \"Topic3\", \"Topic3\", \"Topic3\", \"Topic3\", \"Topic3\", \"Topic3\", \"Topic3\", \"Topic3\", \"Topic3\", \"Topic3\", \"Topic3\", \"Topic3\", \"Topic3\", \"Topic3\", \"Topic3\", \"Topic3\", \"Topic3\", \"Topic3\", \"Topic3\", \"Topic3\", \"Topic3\", \"Topic3\"], \"Freq\": [35.0, 30.0, 28.0, 21.0, 23.0, 17.0, 19.0, 17.0, 14.0, 13.0, 14.0, 11.0, 12.0, 12.0, 10.0, 10.0, 10.0, 10.0, 10.0, 9.0, 8.0, 8.0, 7.0, 8.0, 7.0, 8.0, 6.0, 7.0, 7.0, 7.0, 23.430294036865234, 35.92505645751953, 19.719823837280273, 12.983804702758789, 28.092544555664062, 30.17571258544922, 10.876720428466797, 21.12405014038086, 14.157464981079102, 6.677892684936523, 7.510430812835693, 7.505066394805908, 6.655605792999268, 9.915703773498535, 4.133473873138428, 10.655814170837402, 7.386540412902832, 17.876609802246094, 10.746793746948242, 4.9277567863464355, 17.9100341796875, 12.160871505737305, 6.4968366622924805, 7.32969331741333, 8.171366691589355, 5.667409896850586, 8.022636413574219, 8.821041107177734, 6.459528923034668, 8.859160423278809, 14.183465003967285, 13.13192081451416, 11.3072509765625, 10.564602851867676, 10.021683692932129, 7.9328227043151855, 7.4541497230529785, 0.0008151612710207701, 0.0004840216424781829, 0.0004920003120787442, 0.0004892123979516327, 0.0004762029566336423, 0.0004823820781894028, 0.00047740075387991965, 0.0004770568339154124, 0.00047517498023808, 0.0004717712290585041, 0.0004819782043341547, 0.0004719393909908831, 0.0004774138214997947, 0.0004718790587503463, 0.00047462363727390766, 0.00046188777196221054, 0.0004798067675437778, 0.00047037049080245197, 0.0004691926878876984, 0.0004651769995689392, 0.0004671587666962296, 0.0004625803849194199, 0.00046367169125005603, 0.00046220698277466, 0.0004670563794206828, 0.0004689808120019734, 0.00045943292207084596, 0.0004582097753882408, 0.00046198483323678374, 0.0004687191394623369, 0.0018616713350638747, 0.0009330989560112357, 0.003056672401726246, 0.0009362631244584918, 0.0011284496868029237, 0.0035898273345083, 0.0033691527787595987, 0.0029452918097376823, 0.0015165224904194474, 0.006253755185753107, 0.0009015785763040185, 0.002039518905803561, 0.004052290227264166, 0.0011070347391068935, 0.005438073538243771, 0.0011048949090763927, 0.0008948048343881965, 0.0037898586597293615, 0.0011067141313105822, 0.0010741674341261387, 0.003848104504868388, 0.0017184698954224586, 0.0029951431788504124, 0.0022992691956460476, 0.0026475319173187017, 0.005784090142697096, 0.0018790188478305936, 0.003609617240726948, 0.002265591872856021, 0.0022636037319898605, 0.001954413251951337, 0.0017991757486015558, 0.0033169628586620092, 0.001982249552384019, 0.0014670132659375668, 0.0018051398219540715, 0.0020601435098797083, 0.001480241771787405, 0.0017625140026211739, 0.001493229647167027, 0.000525704468600452, 0.0005255366559140384, 0.0005072962958365679, 0.0005236721481196582, 0.0005214475677348673, 0.000507821561768651, 0.0005288472748361528, 0.0005028575542382896, 0.0005104822921566665, 0.0005094226798973978, 0.0004894588491879404, 0.0005040069227106869, 0.0004885860835202038, 0.0004921945510432124, 0.0005069115431979299, 0.0004874839505646378, 0.0004924209206365049, 0.0004905706155113876, 0.0005086138844490051, 0.000500230526085943, 0.0004994461196474731, 0.0004897952894680202, 0.00048656490980647504, 0.0004963169922120869, 0.0004820939793717116, 0.0005116434185765684, 0.0004958696663379669, 0.0004901407519355416, 0.00048794690519571304, 0.00048612299724482, 0.0004998361109755933, 0.0004985740524716675, 0.003115688683465123, 0.0005138928536325693, 0.0006691387970931828, 0.003420814173296094, 0.0020625959150493145, 0.0021477965638041496, 0.0022096969187259674, 0.00464939558878541, 0.0015116131398826838, 0.0027792281471192837, 0.0015066203195601702, 0.003699986729770899, 0.002178133698180318, 0.0034081684425473213, 0.0013282516738399863, 0.0006756587536074221, 0.0015496324049308896, 0.0024506342597305775, 0.0028482861816883087, 0.0015979278832674026, 0.001444355701096356, 0.0018533432157710195, 0.001920080161653459, 0.0010727527551352978, 0.0016316918190568686, 0.001162752159871161, 0.0010388882365077734, 0.001052767620421946, 0.00217113527469337, 0.0012250778963789344, 0.0014281473122537136, 0.0013005458749830723, 0.0015010403003543615, 0.0017723512137308717, 0.0015416330425068736, 0.0012644986854866147, 0.001346809440292418, 0.0012357037048786879], \"Term\": [\"power\", \"bodi\", \"sun\", \"planet\", \"light\", \"center\", \"move\", \"motion\", \"world\", \"caus\", \"earth\", \"time\", \"distanc\", \"sinc\", \"therefor\", \"one\", \"sourc\", \"thing\", \"motiv\", \"point\", \"but\", \"follow\", \"speci\", \"circl\", \"space\", \"illumin\", \"chapter\", \"matter\", \"part\", \"carri\", \"light\", \"power\", \"move\", \"sinc\", \"sun\", \"bodi\", \"motiv\", \"planet\", \"earth\", \"accord\", \"surfac\", \"demonstr\", \"geometr\", \"point\", \"may\", \"thing\", \"carri\", \"motion\", \"sourc\", \"like\", \"center\", \"distanc\", \"tycho\", \"part\", \"circl\", \"weaken\", \"illumin\", \"follow\", \"upon\", \"but\", \"world\", \"caus\", \"time\", \"therefor\", \"one\", \"space\", \"speci\", \"invers\", \"4\", \"precis\", \"machin\", \"ascrib\", \"odour\", \"52\", \"bird\", \"everi\", \"sure\", \"round\", \"lost\", \"prior\", \"hear\", \"philosophi\", \"directli\", \"exert\", \"authent\", \"take\", \"littl\", \"eleg\", \"deserv\", \"species5\", \"chapter 1 \", \"immedi\", \"right\", \"question\", \"afterward\", \"long\", \"accept\", \"manner\", \"make\", \"therefor\", \"posit\", \"two\", \"world\", \"caus\", \"time\", \"eccentr\", \"bodi\", \"system\", \"speci\", \"motion\", \"eman\", \"sun\", \"without\", \"moreov\", \"center\", \"strength\", \"third\", \"move\", \"chapter\", \"earth\", \"one\", \"distanc\", \"power\", \"space\", \"planet\", \"thing\", \"motiv\", \"follow\", \"illumin\", \"light\", \"point\", \"movabl\", \"but\", \"sinc\", \"matter\", \"sourc\", \"circl\", \"4\", \"parallax\", \"directli\", \"expel\", \"accompani\", \"strongli\", \"bisect\", \"far\", \"primari\", \"simpli\", \"ascrib\", \"excess\", \"sure\", \"deserv\", \"actual\", \"lost\", \"afterward\", \"chapter 1 \", \"flow\", \"just\", \"certain\", \"rare\", \"littl\", \"whose\", \"everi\", \"impart\", \"temper\", \"you\", \"question\", \"species5\", \"cold\", \"beauti\", \"world\", \"If\", \"\\u03b1\\u03b4\", \"planet\", \"one\", \"sourc\", \"time\", \"power\", \"chapter\", \"center\", \"matter\", \"bodi\", \"caus\", \"sun\", \"movabl\", \"becom\", \"circl\", \"motion\", \"light\", \"but\", \"speci\", \"distanc\", \"sinc\", \"would\", \"therefor\", \"manner\", \"copernicu\", \"\\u03b5\", \"move\", \"upon\", \"follow\", \"part\", \"point\", \"earth\", \"thing\", \"illumin\", \"motiv\", \"space\"], \"Total\": [35.0, 30.0, 28.0, 21.0, 23.0, 17.0, 19.0, 17.0, 14.0, 13.0, 14.0, 11.0, 12.0, 12.0, 10.0, 10.0, 10.0, 10.0, 10.0, 9.0, 8.0, 8.0, 7.0, 8.0, 7.0, 8.0, 6.0, 7.0, 7.0, 7.0, 23.436458587646484, 35.935489654541016, 19.72584342956543, 12.987784385681152, 28.101390838623047, 30.185667037963867, 10.880331039428711, 21.131078720092773, 14.162232398986816, 6.680161476135254, 7.512998580932617, 7.507657527923584, 6.657912731170654, 9.919187545776367, 4.134949684143066, 10.659622192382812, 7.389212608337402, 17.883113861083984, 10.750703811645508, 4.929561614990234, 17.916603088378906, 12.165371894836426, 6.499242782592773, 7.332422256469727, 8.174409866333008, 5.669569969177246, 8.025700569152832, 8.824423789978027, 6.462009906768799, 8.862564086914062, 14.190170288085938, 13.137468338012695, 11.312405586242676, 10.569291114807129, 10.026045799255371, 7.935937404632568, 7.4576334953308105, 1.7374157905578613, 1.1104629039764404, 1.1603344678878784, 1.1768730878829956, 1.1629583835601807, 1.1840814352035522, 1.172926664352417, 1.1722145080566406, 1.172739863395691, 1.170702338218689, 1.1964813470840454, 1.17168128490448, 1.2020759582519531, 1.1897261142730713, 1.1969325542449951, 1.1648775339126587, 1.2129322290420532, 1.1898021697998047, 1.190046787261963, 1.1830371618270874, 1.1895169019699097, 1.1807117462158203, 1.1858315467834473, 1.1830878257751465, 1.2064930200576782, 1.2134760618209839, 1.1902759075164795, 1.1871389150619507, 1.1974858045578003, 1.215717077255249, 5.6065568923950195, 2.6366255283355713, 10.569291114807129, 2.716062307357788, 3.4367871284484863, 14.190170288085938, 13.137468338012695, 11.312405586242676, 5.072287559509277, 30.185667037963867, 2.685499429702759, 7.4576334953308105, 17.883113861083984, 3.5468459129333496, 28.101390838623047, 3.548600912094116, 2.709496259689331, 17.916603088378906, 3.6483263969421387, 3.5121381282806396, 19.72584342956543, 6.654165744781494, 14.162232398986816, 10.026045799255371, 12.165371894836426, 35.935489654541016, 7.935937404632568, 21.131078720092773, 10.659622192382812, 10.880331039428711, 8.824423789978027, 8.025700569152832, 23.436458587646484, 9.919187545776367, 6.024484634399414, 8.862564086914062, 12.987784385681152, 7.023665904998779, 10.750703811645508, 8.174409866333008, 1.1104629039764404, 1.2064151763916016, 1.1648775339126587, 1.204287052154541, 1.2012052536010742, 1.1848903894424438, 1.2439219951629639, 1.1827974319458008, 1.2081031799316406, 1.2089594602584839, 1.1629583835601807, 1.199951410293579, 1.170702338218689, 1.1807117462158203, 1.2165724039077759, 1.17168128490448, 1.1871389150619507, 1.1830878257751465, 1.2328672409057617, 1.2146390676498413, 1.2138581275939941, 1.1906358003616333, 1.1830371618270874, 1.207146167755127, 1.172739863395691, 1.245711326599121, 1.2081798315048218, 1.194987416267395, 1.1902759075164795, 1.1858315467834473, 1.2213547229766846, 1.220290184020996, 14.190170288085938, 1.2769824266433716, 1.8823378086090088, 21.131078720092773, 10.026045799255371, 10.750703811645508, 11.312405586242676, 35.935489654541016, 6.654165744781494, 17.916603088378906, 7.023665904998779, 30.185667037963867, 13.137468338012695, 28.101390838623047, 6.024484634399414, 1.9976950883865356, 8.174409866333008, 17.883113861083984, 23.436458587646484, 8.862564086914062, 7.4576334953308105, 12.165371894836426, 12.987784385681152, 4.701128005981445, 10.569291114807129, 5.6065568923950195, 4.523386001586914, 4.699336528778076, 19.72584342956543, 6.462009906768799, 8.824423789978027, 7.332422256469727, 9.919187545776367, 14.162232398986816, 10.659622192382812, 8.025700569152832, 10.880331039428711, 7.935937404632568], \"loglift\": [30.0, 29.0, 28.0, 27.0, 26.0, 25.0, 24.0, 23.0, 22.0, 21.0, 20.0, 19.0, 18.0, 17.0, 16.0, 15.0, 14.0, 13.0, 12.0, 11.0, 10.0, 9.0, 8.0, 7.0, 6.0, 5.0, 4.0, 3.0, 2.0, 1.0, 0.00019999999494757503, 0.00019999999494757503, 0.00019999999494757503, 0.00019999999494757503, 0.00019999999494757503, 0.00019999999494757503, 0.00019999999494757503, 0.00019999999494757503, 0.00019999999494757503, 0.00019999999494757503, 0.00019999999494757503, 0.00019999999494757503, 0.00019999999494757503, 0.00019999999494757503, 0.00019999999494757503, 0.00019999999494757503, 9.999999747378752e-05, 9.999999747378752e-05, 9.999999747378752e-05, 9.999999747378752e-05, 9.999999747378752e-05, 9.999999747378752e-05, 9.999999747378752e-05, 9.999999747378752e-05, 9.999999747378752e-05, 9.999999747378752e-05, 9.999999747378752e-05, 9.999999747378752e-05, 9.999999747378752e-05, 9.999999747378752e-05, 0.0, 9.999999747378752e-05, 9.999999747378752e-05, 9.999999747378752e-05, 9.999999747378752e-05, 9.999999747378752e-05, 0.0, 0.5848000049591064, 0.5110999941825867, 0.483599990606308, 0.46369999647140503, 0.4487000107765198, 0.44359999895095825, 0.4426000118255615, 0.4424999952316284, 0.43810001015663147, 0.4327000081539154, 0.43230000138282776, 0.43220001459121704, 0.4180999994277954, 0.41679999232292175, 0.4165000021457672, 0.4165000021457672, 0.4140999913215637, 0.41350001096725464, 0.4108000099658966, 0.4081000089645386, 0.40689998865127563, 0.40450000762939453, 0.4025000035762787, 0.4016999900341034, 0.39250001311302185, 0.39089998602867126, 0.38960000872612, 0.38960000872612, 0.38909998536109924, 0.38850000500679016, 0.23909999430179596, 0.3027999997138977, 0.10090000182390213, 0.27649998664855957, 0.22779999673366547, -0.03290000185370445, -0.019300000742077827, -0.00419999985024333, 0.13420000672340393, -0.23260000348091125, 0.2500999867916107, 0.04500000178813934, -0.14300000667572021, 0.17720000445842743, -0.30090001225471497, 0.17470000684261322, 0.23360000550746918, -0.211899995803833, 0.14869999885559082, 0.15690000355243683, -0.29280000925064087, -0.012299999594688416, -0.21209999918937683, -0.13109999895095825, -0.1834000051021576, -0.48510000109672546, -0.09910000115633011, -0.42559999227523804, -0.2071000039577484, -0.22849999368190765, -0.16590000689029694, -0.15379999577999115, -0.6136999726295471, -0.2687000036239624, -0.07109999656677246, -0.24969999492168427, -0.49970000982284546, -0.21549999713897705, -0.4666999876499176, -0.35850000381469727, 0.6395999789237976, 0.5564000010490417, 0.5561000108718872, 0.5546000003814697, 0.5529000163078308, 0.5400999784469604, 0.5320000052452087, 0.5320000052452087, 0.5259000062942505, 0.5231000185012817, 0.5218999981880188, 0.5199000239372253, 0.5134999752044678, 0.5123999714851379, 0.511900007724762, 0.5103999972343445, 0.5073999762535095, 0.5070000290870667, 0.5019000172615051, 0.5001999735832214, 0.4993000030517578, 0.499099999666214, 0.49889999628067017, 0.4986000061035156, 0.4984000027179718, 0.4975000023841858, 0.4968000054359436, 0.49619999527931213, 0.49559998512268066, 0.49559998512268066, 0.49390000104904175, 0.49230000376701355, -0.12870000302791595, 0.4771000146865845, 0.3531000018119812, -0.4334999918937683, -0.193900004029274, -0.2231999933719635, -0.24570000171661377, -0.6575999855995178, -0.09470000118017197, -0.47620001435279846, -0.15209999680519104, -0.7117000222206116, -0.40959998965263367, -0.7222999930381775, -0.12460000067949295, 0.30329999327659607, -0.27559998631477356, -0.6001999974250793, -0.7202000021934509, -0.32580000162124634, -0.2542000114917755, -0.4941999912261963, -0.5242999792098999, -0.09019999951124191, -0.48100000619888306, -0.1858000010251999, -0.08380000293254852, -0.10859999805688858, -0.8192999958992004, -0.27559998631477356, -0.43380001187324524, -0.34220001101493835, -0.5009999871253967, -0.6909000277519226, -0.5462999939918518, -0.46059998869895935, -0.7019000053405762, -0.4724000096321106], \"logprob\": [30.0, 29.0, 28.0, 27.0, 26.0, 25.0, 24.0, 23.0, 22.0, 21.0, 20.0, 19.0, 18.0, 17.0, 16.0, 15.0, 14.0, 13.0, 12.0, 11.0, 10.0, 9.0, 8.0, 7.0, 6.0, 5.0, 4.0, 3.0, 2.0, 1.0, -4.124800205230713, -3.6974000930786133, -4.2972002029418945, -4.715099811553955, -3.9433000087738037, -3.871799945831299, -4.892199993133545, -4.228400230407715, -4.628600120544434, -5.380000114440918, -5.262499809265137, -5.263199806213379, -5.383299827575684, -4.9847002029418945, -5.8597002029418945, -4.912700176239014, -5.279099941253662, -4.395299911499023, -4.904200077056885, -5.683899879455566, -4.393400192260742, -4.780600070953369, -5.40749979019165, -5.286900043487549, -5.178199768066406, -5.544099807739258, -5.196499824523926, -5.1016998291015625, -5.413300037384033, -5.097400188446045, -4.626699924468994, -4.703800201416016, -4.853400230407715, -4.921299934387207, -4.974100112915039, -5.207799911499023, -5.269999980926514, -6.142199993133545, -6.663400173187256, -6.64709997177124, -6.652699947357178, -6.679699897766113, -6.666800022125244, -6.677199840545654, -6.6778998374938965, -6.6819000244140625, -6.689000129699707, -6.667600154876709, -6.688700199127197, -6.677199840545654, -6.688799858093262, -6.683000087738037, -6.71019983291626, -6.6722002029418945, -6.691999912261963, -6.694499969482422, -6.703100204467773, -6.69890022277832, -6.708700180053711, -6.706399917602539, -6.709499835968018, -6.699100017547607, -6.695000171661377, -6.7154998779296875, -6.718200206756592, -6.710000038146973, -6.695499897003174, -5.316299915313721, -6.006999969482422, -4.820499897003174, -6.003600120544434, -5.81689977645874, -4.6596999168396, -4.723100185394287, -4.857600212097168, -5.521399974822998, -4.104599952697754, -6.041399955749512, -5.225100040435791, -4.53849983215332, -5.836100101470947, -4.2444000244140625, -5.8379998207092285, -6.048900127410889, -4.605500221252441, -5.836400032043457, -5.866199970245361, -4.590199947357178, -5.396299839019775, -4.840799808502197, -5.105199813842773, -4.964200019836426, -4.182700157165527, -5.307000160217285, -4.654200077056885, -5.119900226593018, -5.120800018310547, -5.2677001953125, -5.350500106811523, -4.738699913024902, -5.253600120544434, -5.554599761962891, -5.347099781036377, -5.215000152587891, -5.545599937438965, -5.370999813079834, -5.536799907684326, -6.534999847412109, -6.535299777984619, -6.5706000328063965, -6.538899898529053, -6.543099880218506, -6.5696001052856445, -6.5289998054504395, -6.579400062561035, -6.5644001960754395, -6.566400051116943, -6.606400012969971, -6.577099800109863, -6.6082000732421875, -6.600800037384033, -6.571400165557861, -6.610499858856201, -6.600399971008301, -6.604100227355957, -6.567999839782715, -6.58459997177124, -6.58620023727417, -6.6057000160217285, -6.612299919128418, -6.59250020980835, -6.621600151062012, -6.562099933624268, -6.593400001525879, -6.605000019073486, -6.609499931335449, -6.61329984664917, -6.585400104522705, -6.5879998207092285, -4.755499839782715, -6.557700157165527, -6.293700218200684, -4.662099838256836, -5.168000221252441, -5.127500057220459, -5.099100112915039, -4.355199813842773, -5.478799819946289, -4.869800090789795, -5.482100009918213, -4.583600044250488, -5.113500118255615, -4.665800094604492, -5.608099937438965, -6.283999919891357, -5.45389986038208, -4.99560022354126, -4.845200061798096, -5.423299789428711, -5.5243000984191895, -5.275000095367432, -5.23960018157959, -5.821700096130371, -5.402299880981445, -5.741199970245361, -5.853799819946289, -5.8404998779296875, -5.116700172424316, -5.689000129699707, -5.535600185394287, -5.629199981689453, -5.485799789428711, -5.319699764251709, -5.459099769592285, -5.657299995422363, -5.594200134277344, -5.680300235748291]}, \"token.table\": {\"Topic\": [1, 1, 1, 1, 1, 1, 1, 1, 1, 1, 1, 1, 1, 1, 1, 1, 1, 1, 1, 1, 1, 1, 1, 1, 1, 1, 1, 1, 1, 1, 1, 1, 1, 1, 1, 1, 1, 1, 1, 1, 1, 1, 1, 1, 1, 1, 1, 1, 1, 1, 1, 1, 1, 1, 1, 1, 1, 1, 1, 1, 1, 1, 1, 1, 1, 1, 1, 1, 1, 1, 1, 1, 1, 1, 1, 1, 1, 1, 1, 1, 1, 1, 1, 1, 1, 1, 1, 1, 1, 1, 1, 1, 1, 1, 1, 1, 1, 1, 1, 1, 1, 1, 1, 1, 1, 1, 1], \"Freq\": [0.9005253314971924, 0.8525682091712952, 0.7830961346626282, 0.8225597739219666, 0.8324971795082092, 1.0478788614273071, 0.8219814896583557, 0.8423613905906677, 0.8598759770393372, 0.840475857257843, 0.8194772005081177, 1.001153826713562, 0.8530861735343933, 0.8039089441299438, 0.9938491582870483, 1.015507459640503, 0.9473268985748291, 0.9895361661911011, 1.0046547651290894, 0.8238195180892944, 1.0519726276397705, 0.8452457785606384, 0.9786639213562012, 0.8187629580497742, 1.105366587638855, 1.0655786991119385, 0.8469467759132385, 0.8584593534469604, 0.9864063262939453, 0.9885447025299072, 0.9857485294342041, 0.8406774401664734, 1.1277625560760498, 0.8527040481567383, 0.8333670496940613, 0.8244483470916748, 0.8303667902946472, 0.8454533219337463, 0.8111173510551453, 1.0198966264724731, 1.0513805150985718, 0.8405295610427856, 0.9967977404594421, 0.8288485407829285, 0.8027542233467102, 1.151134967803955, 0.8232898116111755, 0.9813769459724426, 1.0142890214920044, 0.8452819585800171, 0.8350829482078552, 0.8534744381904602, 0.8497092723846436, 1.1378179788589478, 1.0701755285263062, 0.9966305494308472, 0.9673636555671692, 1.1072168350219727, 1.0065361261367798, 1.0109986066818237, 0.9959357976913452, 1.0138983726501465, 0.8445364832878113, 0.9974021911621094, 0.8289020657539368, 0.9546640515327454, 0.8354689478874207, 0.9937968850135803, 1.008147120475769, 1.104540228843689, 1.0017951726913452, 0.8618204593658447, 0.8277438879013062, 0.8318941593170166, 0.8401413559913635, 0.8398873805999756, 0.8240788578987122, 0.8357840180397034, 0.8271576166152954, 1.0009405612945557, 1.023188829421997, 1.0080724954605103, 0.9386355876922607, 0.8432900905609131, 1.09639310836792, 0.8439599275588989, 0.9963919520378113, 0.854188084602356, 1.0648211240768433, 1.1171106100082397, 0.8403031229972839, 0.827691376209259, 1.0407509803771973, 1.0319315195083618, 1.1389073133468628, 0.9723837971687317, 0.8729082942008972, 0.9231844544410706, 0.928503692150116, 1.0582813024520874, 0.8284000754356384, 1.1272047758102417, 0.9865984320640564, 1.0635745525360107, 0.836828887462616, 1.0625085830688477, 1.063979983329773], \"Term\": [\"4\", \"52\", \"If\", \"accept\", \"accompani\", \"accord\", \"actual\", \"afterward\", \"ascrib\", \"authent\", \"beauti\", \"becom\", \"bird\", \"bisect\", \"bodi\", \"but\", \"carri\", \"caus\", \"center\", \"certain\", \"chapter\", \"chapter 1 \", \"circl\", \"cold\", \"copernicu\", \"demonstr\", \"deserv\", \"directli\", \"distanc\", \"earth\", \"eccentr\", \"eleg\", \"eman\", \"everi\", \"excess\", \"exert\", \"expel\", \"far\", \"flow\", \"follow\", \"geometr\", \"hear\", \"illumin\", \"immedi\", \"impart\", \"invers\", \"just\", \"light\", \"like\", \"littl\", \"long\", \"lost\", \"machin\", \"make\", \"manner\", \"matter\", \"may\", \"moreov\", \"motion\", \"motiv\", \"movabl\", \"move\", \"odour\", \"one\", \"parallax\", \"part\", \"philosophi\", \"planet\", \"point\", \"posit\", \"power\", \"precis\", \"primari\", \"prior\", \"question\", \"rare\", \"right\", \"round\", \"simpli\", \"sinc\", \"sourc\", \"space\", \"speci\", \"species5\", \"strength\", \"strongli\", \"sun\", \"sure\", \"surfac\", \"system\", \"take\", \"temper\", \"therefor\", \"thing\", \"third\", \"time\", \"two\", \"tycho\", \"upon\", \"weaken\", \"whose\", \"without\", \"world\", \"would\", \"you\", \"\\u03b1\\u03b4\", \"\\u03b5\"]}, \"R\": 30, \"lambda.step\": 0.01, \"plot.opts\": {\"xlab\": \"PC1\", \"ylab\": \"PC2\"}, \"topic.order\": [3, 1, 2]};\n",
       "\n",
       "function LDAvis_load_lib(url, callback){\n",
       "  var s = document.createElement('script');\n",
       "  s.src = url;\n",
       "  s.async = true;\n",
       "  s.onreadystatechange = s.onload = callback;\n",
       "  s.onerror = function(){console.warn(\"failed to load library \" + url);};\n",
       "  document.getElementsByTagName(\"head\")[0].appendChild(s);\n",
       "}\n",
       "\n",
       "if(typeof(LDAvis) !== \"undefined\"){\n",
       "   // already loaded: just create the visualization\n",
       "   !function(LDAvis){\n",
       "       new LDAvis(\"#\" + \"ldavis_el98801861910553368741132909\", ldavis_el98801861910553368741132909_data);\n",
       "   }(LDAvis);\n",
       "}else if(typeof define === \"function\" && define.amd){\n",
       "   // require.js is available: use it to load d3/LDAvis\n",
       "   require.config({paths: {d3: \"https://cdnjs.cloudflare.com/ajax/libs/d3/3.5.5/d3.min\"}});\n",
       "   require([\"d3\"], function(d3){\n",
       "      window.d3 = d3;\n",
       "      LDAvis_load_lib(\"https://cdn.rawgit.com/bmabey/pyLDAvis/files/ldavis.v1.0.0.js\", function(){\n",
       "        new LDAvis(\"#\" + \"ldavis_el98801861910553368741132909\", ldavis_el98801861910553368741132909_data);\n",
       "      });\n",
       "    });\n",
       "}else{\n",
       "    // require.js not available: dynamically load d3 & LDAvis\n",
       "    LDAvis_load_lib(\"https://cdnjs.cloudflare.com/ajax/libs/d3/3.5.5/d3.min.js\", function(){\n",
       "         LDAvis_load_lib(\"https://cdn.rawgit.com/bmabey/pyLDAvis/files/ldavis.v1.0.0.js\", function(){\n",
       "                 new LDAvis(\"#\" + \"ldavis_el98801861910553368741132909\", ldavis_el98801861910553368741132909_data);\n",
       "            })\n",
       "         });\n",
       "}\n",
       "</script>"
      ],
      "text/plain": [
       "PreparedData(topic_coordinates=              x    y  topics  cluster       Freq\n",
       "topic                                           \n",
       "2     -0.008621 -0.0       1        1  99.948883\n",
       "0      0.000478 -0.0       2        1   0.026144\n",
       "1      0.008143 -0.0       3        1   0.024973, topic_info=     Category       Freq       Term      Total  loglift  logprob\n",
       "term                                                            \n",
       "368   Default  35.000000      power  35.000000  30.0000  30.0000\n",
       "81    Default  30.000000       bodi  30.000000  29.0000  29.0000\n",
       "468   Default  28.000000        sun  28.000000  28.0000  28.0000\n",
       "358   Default  21.000000     planet  21.000000  27.0000  27.0000\n",
       "278   Default  23.000000      light  23.000000  26.0000  26.0000\n",
       "92    Default  17.000000     center  17.000000  25.0000  25.0000\n",
       "308   Default  19.000000       move  19.000000  24.0000  24.0000\n",
       "305   Default  17.000000     motion  17.000000  23.0000  23.0000\n",
       "537   Default  14.000000      world  14.000000  22.0000  22.0000\n",
       "91    Default  13.000000       caus  13.000000  21.0000  21.0000\n",
       "156   Default  14.000000      earth  14.000000  20.0000  20.0000\n",
       "495   Default  11.000000       time  11.000000  19.0000  19.0000\n",
       "152   Default  12.000000    distanc  12.000000  18.0000  18.0000\n",
       "439   Default  12.000000       sinc  12.000000  17.0000  17.0000\n",
       "485   Default  10.000000   therefor  10.000000  16.0000  16.0000\n",
       "334   Default  10.000000        one  10.000000  15.0000  15.0000\n",
       "447   Default  10.000000      sourc  10.000000  14.0000  14.0000\n",
       "488   Default  10.000000      thing  10.000000  13.0000  13.0000\n",
       "306   Default  10.000000      motiv  10.000000  12.0000  12.0000\n",
       "360   Default   9.000000      point   9.000000  11.0000  11.0000\n",
       "87    Default   8.000000        but   8.000000  10.0000  10.0000\n",
       "201   Default   8.000000     follow   8.000000   9.0000   9.0000\n",
       "449   Default   7.000000      speci   7.000000   8.0000   8.0000\n",
       "96    Default   8.000000      circl   8.000000   7.0000   7.0000\n",
       "448   Default   7.000000      space   7.000000   6.0000   6.0000\n",
       "236   Default   8.000000    illumin   8.000000   5.0000   5.0000\n",
       "94    Default   6.000000    chapter   6.000000   4.0000   4.0000\n",
       "296   Default   7.000000     matter   7.000000   3.0000   3.0000\n",
       "345   Default   7.000000       part   7.000000   2.0000   2.0000\n",
       "90    Default   7.000000      carri   7.000000   1.0000   1.0000\n",
       "...       ...        ...        ...        ...      ...      ...\n",
       "94     Topic3   0.001512    chapter   6.654166  -0.0947  -5.4788\n",
       "92     Topic3   0.002779     center  17.916603  -0.4762  -4.8698\n",
       "296    Topic3   0.001507     matter   7.023666  -0.1521  -5.4821\n",
       "81     Topic3   0.003700       bodi  30.185667  -0.7117  -4.5836\n",
       "91     Topic3   0.002178       caus  13.137468  -0.4096  -5.1135\n",
       "468    Topic3   0.003408        sun  28.101391  -0.7223  -4.6658\n",
       "307    Topic3   0.001328     movabl   6.024485  -0.1246  -5.6081\n",
       "73     Topic3   0.000676      becom   1.997695   0.3033  -6.2840\n",
       "96     Topic3   0.001550      circl   8.174410  -0.2756  -5.4539\n",
       "305    Topic3   0.002451     motion  17.883114  -0.6002  -4.9956\n",
       "278    Topic3   0.002848      light  23.436459  -0.7202  -4.8452\n",
       "87     Topic3   0.001598        but   8.862564  -0.3258  -5.4233\n",
       "449    Topic3   0.001444      speci   7.457633  -0.2542  -5.5243\n",
       "152    Topic3   0.001853    distanc  12.165372  -0.4942  -5.2750\n",
       "439    Topic3   0.001920       sinc  12.987784  -0.5243  -5.2396\n",
       "539    Topic3   0.001073      would   4.701128  -0.0902  -5.8217\n",
       "485    Topic3   0.001632   therefor  10.569291  -0.4810  -5.4023\n",
       "292    Topic3   0.001163     manner   5.606557  -0.1858  -5.7412\n",
       "127    Topic3   0.001039  copernicu   4.523386  -0.0838  -5.8538\n",
       "546    Topic3   0.001053          ε   4.699337  -0.1086  -5.8405\n",
       "308    Topic3   0.002171       move  19.725843  -0.8193  -5.1167\n",
       "512    Topic3   0.001225       upon   6.462010  -0.2756  -5.6890\n",
       "201    Topic3   0.001428     follow   8.824424  -0.4338  -5.5356\n",
       "345    Topic3   0.001301       part   7.332422  -0.3422  -5.6292\n",
       "360    Topic3   0.001501      point   9.919188  -0.5010  -5.4858\n",
       "156    Topic3   0.001772      earth  14.162232  -0.6909  -5.3197\n",
       "488    Topic3   0.001542      thing  10.659622  -0.5463  -5.4591\n",
       "236    Topic3   0.001264    illumin   8.025701  -0.4606  -5.6573\n",
       "306    Topic3   0.001347      motiv  10.880331  -0.7019  -5.5942\n",
       "448    Topic3   0.001236      space   7.935937  -0.4724  -5.6803\n",
       "\n",
       "[207 rows x 6 columns], token_table=      Topic      Freq        Term\n",
       "term                             \n",
       "5         1  0.900525           4\n",
       "7         1  0.852568          52\n",
       "10        1  0.783096          If\n",
       "20        1  0.822560      accept\n",
       "21        1  0.832497   accompani\n",
       "22        1  1.047879      accord\n",
       "28        1  0.821981      actual\n",
       "31        1  0.842361   afterward\n",
       "58        1  0.859876      ascrib\n",
       "65        1  0.840476     authent\n",
       "72        1  0.819477      beauti\n",
       "73        1  1.001154       becom\n",
       "78        1  0.853086        bird\n",
       "79        1  0.803909      bisect\n",
       "81        1  0.993849        bodi\n",
       "87        1  1.015507         but\n",
       "90        1  0.947327       carri\n",
       "91        1  0.989536        caus\n",
       "92        1  1.004655      center\n",
       "93        1  0.823820     certain\n",
       "94        1  1.051973     chapter\n",
       "95        1  0.845246  chapter 1 \n",
       "96        1  0.978664       circl\n",
       "105       1  0.818763        cold\n",
       "127       1  1.105367   copernicu\n",
       "136       1  1.065579    demonstr\n",
       "140       1  0.846947      deserv\n",
       "147       1  0.858459    directli\n",
       "152       1  0.986406     distanc\n",
       "156       1  0.988545       earth\n",
       "...     ...       ...         ...\n",
       "423       1  0.835784       round\n",
       "438       1  0.827158      simpli\n",
       "439       1  1.000941        sinc\n",
       "447       1  1.023189       sourc\n",
       "448       1  1.008072       space\n",
       "449       1  0.938636       speci\n",
       "450       1  0.843290    species5\n",
       "458       1  1.096393    strength\n",
       "460       1  0.843960    strongli\n",
       "468       1  0.996392         sun\n",
       "471       1  0.854188        sure\n",
       "472       1  1.064821      surfac\n",
       "475       1  1.117111      system\n",
       "476       1  0.840303        take\n",
       "478       1  0.827691      temper\n",
       "485       1  1.040751    therefor\n",
       "488       1  1.031932       thing\n",
       "490       1  1.138907       third\n",
       "495       1  0.972384        time\n",
       "504       1  0.872908         two\n",
       "505       1  0.923184       tycho\n",
       "512       1  0.928504        upon\n",
       "523       1  1.058281      weaken\n",
       "533       1  0.828400       whose\n",
       "536       1  1.127205     without\n",
       "537       1  0.986598       world\n",
       "539       1  1.063575       would\n",
       "541       1  0.836829         you\n",
       "543       1  1.062509          αδ\n",
       "546       1  1.063980           ε\n",
       "\n",
       "[107 rows x 3 columns], R=30, lambda_step=0.01, plot_opts={'xlab': 'PC1', 'ylab': 'PC2'}, topic_order=[3, 1, 2])"
      ]
     },
     "execution_count": 38,
     "metadata": {},
     "output_type": "execute_result"
    }
   ],
   "source": [
    "vis"
   ]
  },
  {
   "cell_type": "markdown",
   "metadata": {},
   "source": [
    "# Topic Modelling of chapter 30"
   ]
  },
  {
   "cell_type": "code",
   "execution_count": 108,
   "metadata": {},
   "outputs": [
    {
     "data": {
      "text/html": [
       "\n",
       "<link rel=\"stylesheet\" type=\"text/css\" href=\"https://cdn.rawgit.com/bmabey/pyLDAvis/files/ldavis.v1.0.0.css\">\n",
       "\n",
       "\n",
       "<div id=\"ldavis_el1306017232374730402109834384\"></div>\n",
       "<script type=\"text/javascript\">\n",
       "\n",
       "var ldavis_el1306017232374730402109834384_data = {\"mdsDat\": {\"x\": [-0.009324448849558976, 0.0034653829251662807, 0.005859065924392705], \"y\": [0.0, 0.0, 0.0], \"topics\": [1, 2, 3], \"cluster\": [1, 1, 1], \"Freq\": [99.97313690185547, 0.013493522070348263, 0.013370848260819912]}, \"tinfo\": {\"Category\": [\"Default\", \"Default\", \"Default\", \"Default\", \"Default\", \"Default\", \"Default\", \"Default\", \"Default\", \"Default\", \"Default\", \"Default\", \"Default\", \"Default\", \"Default\", \"Default\", \"Default\", \"Default\", \"Default\", \"Default\", \"Default\", \"Default\", \"Default\", \"Default\", \"Default\", \"Default\", \"Default\", \"Default\", \"Default\", \"Default\", \"Topic1\", \"Topic1\", \"Topic1\", \"Topic1\", \"Topic1\", \"Topic1\", \"Topic1\", \"Topic1\", \"Topic1\", \"Topic1\", \"Topic1\", \"Topic1\", \"Topic1\", \"Topic1\", \"Topic1\", \"Topic1\", \"Topic1\", \"Topic1\", \"Topic1\", \"Topic1\", \"Topic1\", \"Topic1\", \"Topic1\", \"Topic1\", \"Topic1\", \"Topic1\", \"Topic1\", \"Topic1\", \"Topic1\", \"Topic1\", \"Topic1\", \"Topic1\", \"Topic1\", \"Topic1\", \"Topic1\", \"Topic1\", \"Topic1\", \"Topic1\", \"Topic1\", \"Topic1\", \"Topic1\", \"Topic2\", \"Topic2\", \"Topic2\", \"Topic2\", \"Topic2\", \"Topic2\", \"Topic2\", \"Topic2\", \"Topic2\", \"Topic2\", \"Topic2\", \"Topic2\", \"Topic2\", \"Topic2\", \"Topic2\", \"Topic2\", \"Topic2\", \"Topic2\", \"Topic2\", \"Topic2\", \"Topic2\", \"Topic2\", \"Topic2\", \"Topic2\", \"Topic2\", \"Topic2\", \"Topic2\", \"Topic2\", \"Topic2\", \"Topic2\", \"Topic2\", \"Topic2\", \"Topic2\", \"Topic2\", \"Topic2\", \"Topic2\", \"Topic2\", \"Topic2\", \"Topic2\", \"Topic2\", \"Topic2\", \"Topic2\", \"Topic2\", \"Topic2\", \"Topic2\", \"Topic2\", \"Topic2\", \"Topic2\", \"Topic2\", \"Topic2\", \"Topic2\", \"Topic2\", \"Topic2\", \"Topic2\", \"Topic2\", \"Topic2\", \"Topic2\", \"Topic2\", \"Topic2\", \"Topic2\", \"Topic2\", \"Topic2\", \"Topic2\", \"Topic2\", \"Topic2\", \"Topic2\", \"Topic2\", \"Topic2\", \"Topic2\", \"Topic2\", \"Topic3\", \"Topic3\", \"Topic3\", \"Topic3\", \"Topic3\", \"Topic3\", \"Topic3\", \"Topic3\", \"Topic3\", \"Topic3\", \"Topic3\", \"Topic3\", \"Topic3\", \"Topic3\", \"Topic3\", \"Topic3\", \"Topic3\", \"Topic3\", \"Topic3\", \"Topic3\", \"Topic3\", \"Topic3\", \"Topic3\", \"Topic3\", \"Topic3\", \"Topic3\", \"Topic3\", \"Topic3\", \"Topic3\", \"Topic3\", \"Topic3\", \"Topic3\", \"Topic3\", \"Topic3\", \"Topic3\", \"Topic3\", \"Topic3\", \"Topic3\", \"Topic3\", \"Topic3\", \"Topic3\", \"Topic3\", \"Topic3\", \"Topic3\", \"Topic3\", \"Topic3\", \"Topic3\", \"Topic3\", \"Topic3\", \"Topic3\", \"Topic3\", \"Topic3\", \"Topic3\", \"Topic3\", \"Topic3\", \"Topic3\", \"Topic3\", \"Topic3\", \"Topic3\", \"Topic3\", \"Topic3\", \"Topic3\", \"Topic3\", \"Topic3\", \"Topic3\", \"Topic3\", \"Topic3\", \"Topic3\", \"Topic3\", \"Topic3\", \"Topic3\", \"Topic3\", \"Topic3\", \"Topic3\"], \"Freq\": [59.0, 52.0, 56.0, 48.0, 40.0, 41.0, 36.0, 33.0, 31.0, 26.0, 27.0, 26.0, 20.0, 24.0, 23.0, 19.0, 20.0, 20.0, 18.0, 18.0, 15.0, 15.0, 15.0, 15.0, 15.0, 13.0, 14.0, 12.0, 13.0, 13.0, 56.89910888671875, 41.22734832763672, 31.708209991455078, 18.11516761779785, 20.786888122558594, 24.352581024169922, 59.14899826049805, 9.838542938232422, 36.587894439697266, 48.07051467895508, 13.352801322937012, 20.483781814575195, 27.562503814697266, 23.097368240356445, 7.100220203399658, 33.67533874511719, 26.552385330200195, 11.464822769165039, 51.99961853027344, 10.55489444732666, 11.412924766540527, 7.901414394378662, 13.154973030090332, 15.759778022766113, 10.471933364868164, 8.709314346313477, 15.672489166259766, 9.585770606994629, 13.934358596801758, 13.929160118103027, 40.911338806152344, 26.890092849731445, 20.66963768005371, 19.94315528869629, 18.02204132080078, 15.331170082092285, 15.206891059875488, 15.181846618652344, 14.320231437683105, 13.789754867553711, 13.681883811950684, 0.0003232606977690011, 0.00030964796314947307, 0.00031194655457511544, 0.0003159808402415365, 0.00030948701896704733, 0.00030429280013777316, 0.0003073782136198133, 0.0003047663776669651, 0.0003013338427990675, 0.0003019165596924722, 0.0003069200029131025, 0.0003050550876650959, 0.00030777964275330305, 0.00030256970785558224, 0.0003024823672603816, 0.0002967318578157574, 0.00030174842686392367, 0.000299064937280491, 0.0002988415362779051, 0.00029957955121062696, 0.00029926103889010847, 0.0003028365026693791, 0.000295076344627887, 0.0002978231350425631, 0.0003045015037059784, 0.0002966183819808066, 0.0002990245120599866, 0.00029977437225170434, 0.0002937771787401289, 0.0003011872759088874, 0.000298539933282882, 0.005019959062337875, 0.0027213874273002148, 0.0020193802192807198, 0.001871020533144474, 0.0030898901168257, 0.005608140490949154, 0.004743572324514389, 0.0049097537994384766, 0.000679355813190341, 0.0023175657261162996, 0.00479748984798789, 0.0008733113063499331, 0.0013949520653113723, 0.0015779284294694662, 0.001778461504727602, 0.0030401472467929125, 0.0015505856135860085, 0.003168546361848712, 0.0010864125797525048, 0.0025050221011042595, 0.002794048748910427, 0.001122551504522562, 0.000753667438402772, 0.002506284974515438, 0.0014253042172640562, 0.0014673833502456546, 0.003212427720427513, 0.001308092731051147, 0.001836933079175651, 0.001647945842705667, 0.0010000410256907344, 0.00152367795817554, 0.001289532519876957, 0.002006726572290063, 0.002017667517066002, 0.0012237802147865295, 0.0015704944962635636, 0.001648477977141738, 0.0016251284396275878, 0.0003122342168353498, 0.00031816543196327984, 0.0003177333564963192, 0.00031703594140708447, 0.00030096503905951977, 0.0003120354958809912, 0.0003096196742262691, 0.0003105982905253768, 0.00031502891215495765, 0.0003072843828704208, 0.00030935651739127934, 0.0003068754158448428, 0.00030872129718773067, 0.00030699759372510016, 0.0003064403426833451, 0.00029929375159554183, 0.00029735921998508275, 0.0003116107836831361, 0.00030518381390720606, 0.0003100468311458826, 0.00030320981750264764, 0.00030258981860242784, 0.00030631295521743596, 0.0003064494812861085, 0.000302622007438913, 0.00030022027203813195, 0.00029291759710758924, 0.0003049456572625786, 0.0002940687700174749, 0.000305913359625265, 0.0003049146616831422, 0.00030315801268443465, 0.0018605745863169432, 0.002643067855387926, 0.002060730941593647, 0.004083647392690182, 0.0047078002244234085, 0.0027784653939306736, 0.0021997829899191856, 0.0013269869377836585, 0.0009542981861159205, 0.00463581969961524, 0.003296208567917347, 0.0030667283572256565, 0.0037952454295009375, 0.0033465144224464893, 0.001087537151761353, 0.0011048364685848355, 0.0009973810520023108, 0.0010655340738594532, 0.0010814686538651586, 0.00158324942458421, 0.0020076779183000326, 0.0024270941503345966, 0.0018321577226743102, 0.001050553866662085, 0.002147366525605321, 0.002326840301975608, 0.0011307052336633205, 0.0012543168850243092, 0.0014881440438330173, 0.0014122547581791878, 0.0021104440093040466, 0.0035402304492890835, 0.002473196480423212, 0.0016041313065215945, 0.001875618938356638, 0.0014684596098959446, 0.00147756387013942, 0.0014476175419986248, 0.0013510591816157103, 0.0013941372744739056, 0.0014135584933683276, 0.0014429179718717933], \"Term\": [\"eccentr\", \"observ\", \"planet\", \"\\u03b4\", \"let\", \"line\", \"one\", \"\\u03b1\", \"point\", \"center\", \"differ\", \"posit\", \"epicycl\", \"path\", \"\\u03b3\", \"hypothesi\", \"would\", \"form\", \"appear\", \"angl\", \"equant\", \"equal\", \"\\u03b2\", \"first\", \"place\", \"therefor\", \"time\", \"ptolema\", \"apsi\", \"sinc\", \"planet\", \"line\", \"point\", \"angl\", \"form\", \"path\", \"eccentr\", \"chang\", \"one\", \"\\u03b4\", \"remain\", \"would\", \"differ\", \"\\u03b3\", \"entir\", \"\\u03b1\", \"posit\", \"Ch\", \"observ\", \"greater\", \"thi\", \"travers\", \"inequ\", \"place\", \"equat\", \"\\u03b1\\u03b2\", \"first\", \"equival\", \"shall\", \"but\", \"let\", \"center\", \"epicycl\", \"hypothesi\", \"appear\", \"\\u03b2\", \"equant\", \"equal\", \"time\", \"therefor\", \"sinc\", \"sine\", \"\\u03c1\\u03b8\\u03bf\", \"turn\", \"unmov\", \"it\", \"\\u03b3\\u03c3\", \"\\u03b5\\u03bf\", \"\\u03b2\\u03b7\", \"simul\", \"accumul\", \"congruent\", \"shift\", \"whenc\", \"fashion\", \"\\u03b5o\", \"sever\", \"\\u03b2\\u03c75\", \"diverg\", \"period\", \"chiefli\", \"increment\", \"within\", \"\\u03bd\\u03c5\", \"earlier\", \"\\u03b8\\u03c5\\u03b3\", \"\\u03c1\\u03c4\", \"impedi\", \"\\u03b2\\u03b3\\u03c6\", \"4' 43\\\"\", \"later\", \"endpoint\", \"let\", \"epicycl\", \"equal\", \"therefor\", \"center\", \"eccentr\", \"\\u03b4\", \"observ\", \"fix\", \"hypothesi\", \"planet\", \"right\", \"describ\", \"ptolema\", \"\\u03b2\", \"\\u03b1\", \"parallel\", \"one\", \"\\u03b8\", \"posit\", \"point\", \"true\", \"heaven\", \"differ\", \"much\", \"copernican\", \"line\", \"\\u03b2\\u03b3\", \"appear\", \"first\", \"comput\", \"time\", \"demonstr\", \"\\u03b3\", \"path\", \"second\", \"angl\", \"would\", \"form\", \"\\u03c7\\u03b2\", \"verg\", \"On\", \"15\", \"\\u03b3\\u03c3\", \"\\u03b3\\u03b9\", \"postul\", \"perplex\", \"78\\u00b0 47' 30\\\"\", \"advis\", \"neighborhood\", \"ought\", \"5\", \"origin\", \"violent\", \"sever\", \"simul\", \"earth\", \"extrem\", \"design\", \"someth\", \"\\u03c8\\u03b3\", \"intercept\", \"29\\u00b0 0' 16\\\" leo\", \"onc\", \"\\u03b3\\u03ba\\u03b6\", \"\\u03c1\\u03b8\\u03bf\", \"o\\u03c1\", \"accumul\", \"practitioners4\", \"\\u0393\\u03b3\", \"except\", \"ptolema\", \"epicycl\", \"equant\", \"let\", \"observ\", \"center\", \"hypothesi\", \"\\u03b9\", \"nearli\", \"eccentr\", \"one\", \"\\u03b1\", \"\\u03b4\", \"line\", \"make\", \"In\", \"\\u03b1\\u03b3\", \"appar\", \"\\u03b5\", \"time\", \"would\", \"differ\", \"appear\", \"\\u03b8\", \"\\u03b3\", \"posit\", \"use\", \"describ\", \"therefor\", \"new\", \"path\", \"planet\", \"point\", \"place\", \"form\", \"sinc\", \"but\", \"apsi\", \"copernican\", \"shall\", \"\\u03b2\", \"angl\"], \"Total\": [59.0, 52.0, 56.0, 48.0, 40.0, 41.0, 36.0, 33.0, 31.0, 26.0, 27.0, 26.0, 20.0, 24.0, 23.0, 19.0, 20.0, 20.0, 18.0, 18.0, 15.0, 15.0, 15.0, 15.0, 15.0, 13.0, 14.0, 12.0, 13.0, 13.0, 56.907447814941406, 41.23390579223633, 31.713478088378906, 18.118181228637695, 20.790388107299805, 24.356708526611328, 59.15924072265625, 9.840262413024902, 36.5943603515625, 48.07905197143555, 13.355184555053711, 20.487438201904297, 27.56743621826172, 23.10152244567871, 7.101500034332275, 33.68144607543945, 26.55721664428711, 11.466931343078613, 52.00923538208008, 10.556866645812988, 11.415066719055176, 7.902902126312256, 13.157452583312988, 15.762773513793945, 10.473943710327148, 8.710991859436035, 15.675512313842773, 9.587620735168457, 13.937055587768555, 13.931863784790039, 40.92044448852539, 26.89596176147461, 20.675003051757812, 19.94767189025879, 18.025711059570312, 15.334362030029297, 15.210183143615723, 15.185099601745605, 14.323338508605957, 13.793113708496094, 13.684707641601562, 1.2365294694900513, 1.210787057876587, 1.2219699621200562, 1.2445762157440186, 1.2236441373825073, 1.2062489986419678, 1.238279938697815, 1.2326931953430176, 1.2193211317062378, 1.2245001792907715, 1.2518200874328613, 1.245179295539856, 1.2631633281707764, 1.2419854402542114, 1.2443320751190186, 1.2250741720199585, 1.2507671117782593, 1.2441507577896118, 1.244097352027893, 1.2550143003463745, 1.2537328004837036, 1.2707027196884155, 1.2394157648086548, 1.2534832954406738, 1.283186912536621, 1.2514843940734863, 1.265382170677185, 1.2706489562988281, 1.2489635944366455, 1.2807862758636475, 1.2695547342300415, 40.92044448852539, 20.675003051757812, 15.185099601745605, 13.793113708496094, 26.89596176147461, 59.15924072265625, 48.07905197143555, 52.00923538208008, 3.7392518520355225, 19.94767189025879, 56.907447814941406, 5.423022747039795, 10.396781921386719, 12.469795227050781, 15.334362030029297, 33.68144607543945, 12.854092597961426, 36.5943603515625, 7.804450988769531, 26.55721664428711, 31.713478088378906, 8.316001892089844, 4.639405250549316, 27.56743621826172, 11.919062614440918, 12.474224090576172, 41.23390579223633, 10.661249160766602, 18.025711059570312, 15.675512313842773, 7.193573474884033, 14.323338508605957, 10.912220001220703, 23.10152244567871, 24.356708526611328, 10.005061149597168, 18.118181228637695, 20.487438201904297, 20.790388107299805, 1.2250055074691772, 1.2619105577468872, 1.2617239952087402, 1.2622087001800537, 1.2062489986419678, 1.2508838176727295, 1.2419354915618896, 1.2506353855133057, 1.2765991687774658, 1.2470964193344116, 1.2596501111984253, 1.249719262123108, 1.2595070600509644, 1.2537152767181396, 1.252049446105957, 1.2250741720199585, 1.2193211317062378, 1.2800817489624023, 1.2541122436523438, 1.2768235206604004, 1.2496063709259033, 1.247359037399292, 1.2627073526382446, 1.263370156288147, 1.248140811920166, 1.2396421432495117, 1.210787057876587, 1.263245940208435, 1.2245001792907715, 1.2744956016540527, 1.2705107927322388, 1.2638205289840698, 12.469795227050781, 20.675003051757812, 15.210183143615723, 40.92044448852539, 52.00923538208008, 26.89596176147461, 19.94767189025879, 9.83237361907959, 6.2671427726745605, 59.15924072265625, 36.5943603515625, 33.68144607543945, 48.07905197143555, 41.23390579223633, 8.089712142944336, 8.302467346191406, 7.149312973022461, 7.9125165939331055, 8.105913162231445, 14.323338508605957, 20.487438201904297, 27.56743621826172, 18.025711059570312, 7.804450988769531, 23.10152244567871, 26.55721664428711, 8.858592987060547, 10.396781921386719, 13.793113708496094, 12.761002540588379, 24.356708526611328, 56.907447814941406, 31.713478088378906, 15.762773513793945, 20.790388107299805, 13.684707641601562, 13.931863784790039, 13.664767265319824, 12.474224090576172, 13.937055587768555, 15.334362030029297, 18.118181228637695], \"loglift\": [30.0, 29.0, 28.0, 27.0, 26.0, 25.0, 24.0, 23.0, 22.0, 21.0, 20.0, 19.0, 18.0, 17.0, 16.0, 15.0, 14.0, 13.0, 12.0, 11.0, 10.0, 9.0, 8.0, 7.0, 6.0, 5.0, 4.0, 3.0, 2.0, 1.0, 9.999999747378752e-05, 9.999999747378752e-05, 9.999999747378752e-05, 9.999999747378752e-05, 9.999999747378752e-05, 9.999999747378752e-05, 9.999999747378752e-05, 9.999999747378752e-05, 9.999999747378752e-05, 9.999999747378752e-05, 9.999999747378752e-05, 9.999999747378752e-05, 9.999999747378752e-05, 9.999999747378752e-05, 9.999999747378752e-05, 9.999999747378752e-05, 9.999999747378752e-05, 9.999999747378752e-05, 9.999999747378752e-05, 9.999999747378752e-05, 9.999999747378752e-05, 9.999999747378752e-05, 9.999999747378752e-05, 9.999999747378752e-05, 9.999999747378752e-05, 9.999999747378752e-05, 9.999999747378752e-05, 9.999999747378752e-05, 9.999999747378752e-05, 9.999999747378752e-05, 0.0, 9.999999747378752e-05, 0.0, 0.0, 9.999999747378752e-05, 9.999999747378752e-05, 9.999999747378752e-05, 9.999999747378752e-05, 9.999999747378752e-05, 0.0, 9.999999747378752e-05, 0.6614000201225281, 0.6394000053405762, 0.6376000046730042, 0.632099986076355, 0.6283000111579895, 0.6256999969482422, 0.6096000075340271, 0.6054999828338623, 0.6050999760627747, 0.6028000116348267, 0.5971999764442444, 0.5964000225067139, 0.5910000205039978, 0.5907999873161316, 0.5885999798774719, 0.5849999785423279, 0.5809999704360962, 0.5774000287055969, 0.57669997215271, 0.5703999996185303, 0.5703999996185303, 0.5687999725341797, 0.567799985408783, 0.5658000111579895, 0.5644999742507935, 0.5633000135421753, 0.5604000091552734, 0.5587000250816345, 0.5557000041007996, 0.5554999709129333, 0.555400013923645, -0.09520000219345093, -0.024800000712275505, -0.014600000344216824, 0.0052999998442828655, -0.16089999675750732, -0.3531000018119812, -0.31310001015663147, -0.3571999967098236, 0.29750001430511475, -0.14959999918937683, -0.47040000557899475, 0.17679999768733978, -0.00570000009611249, -0.06419999897480011, -0.15139999985694885, -0.40209999680519104, -0.11209999769926071, -0.44369998574256897, 0.031099999323487282, -0.3580000102519989, -0.4262999892234802, 0.00039999998989515007, 0.18559999763965607, -0.39489999413490295, -0.12080000340938568, -0.1371999979019165, -0.5493000149726868, -0.09510000050067902, -0.2806999981403351, -0.24959999322891235, 0.02979999966919422, -0.2378000020980835, -0.13259999454021454, -0.44040000438690186, -0.4878999888896942, -0.0982000008225441, -0.4426000118255615, -0.5170000195503235, -0.5458999872207642, 0.6450999975204468, 0.6342999935150146, 0.6330999732017517, 0.6305000185966492, 0.6237999796867371, 0.6236000061035156, 0.6230000257492065, 0.6191999912261963, 0.6128000020980835, 0.611299991607666, 0.6079999804496765, 0.6079000234603882, 0.6061000227928162, 0.6050999760627747, 0.6046000123023987, 0.6028000116348267, 0.6010000109672546, 0.5992000102996826, 0.598800003528595, 0.5967000126838684, 0.5958999991416931, 0.5957000255584717, 0.5957000255584717, 0.5956000089645386, 0.5952000021934509, 0.593999981880188, 0.5929999947547913, 0.5907999873161316, 0.5856000185012817, 0.585099995136261, 0.5849999785423279, 0.5845000147819519, 0.10970000177621841, -0.04490000009536743, 0.013199999928474426, -0.29249998927116394, -0.39010000228881836, -0.257999986410141, -0.19269999861717224, 0.00930000003427267, 0.12999999523162842, -0.5343000292778015, -0.39500001072883606, -0.38420000672340393, -0.5270000100135803, -0.4991999864578247, 0.005400000140070915, -0.004800000227987766, 0.042500000447034836, 0.0071000000461936, -0.002199999988079071, -0.19030000269412994, -0.310699999332428, -0.41780000925064087, -0.2741999924182892, 0.0066999997943639755, -0.3635999858379364, -0.4226999878883362, -0.04650000110268593, -0.10279999673366547, -0.21449999511241913, -0.1890999972820282, -0.43380001187324524, -0.7651000022888184, -0.5390999913215637, -0.27300000190734863, -0.3935000002384186, -0.2199999988079071, -0.23170000314712524, -0.23280000686645508, -0.21070000529289246, -0.29019999504089355, -0.3718999922275543, -0.5181999802589417], \"logprob\": [30.0, 29.0, 28.0, 27.0, 26.0, 25.0, 24.0, 23.0, 22.0, 21.0, 20.0, 19.0, 18.0, 17.0, 16.0, 15.0, 14.0, 13.0, 12.0, 11.0, 10.0, 9.0, 8.0, 7.0, 6.0, 5.0, 4.0, 3.0, 2.0, 1.0, -3.8861000537872314, -4.2083001136779785, -4.470799922943115, -5.030700206756592, -4.893099784851074, -4.734799861907959, -3.847399950027466, -5.64109992980957, -4.327700138092041, -4.054699897766113, -5.335700035095215, -4.907800197601318, -4.611000061035156, -4.787700176239014, -5.967299938201904, -4.410699844360352, -4.6483001708984375, -5.488100051879883, -3.9762001037597656, -5.570799827575684, -5.492700099945068, -5.860400199890137, -5.350599765777588, -5.170000076293945, -5.578700065612793, -5.763000011444092, -5.17549991607666, -5.667099952697754, -5.293099880218506, -5.293399810791016, -4.216000080108643, -4.635700225830078, -4.898799896240234, -4.934500217437744, -5.035799980163574, -5.197500228881836, -5.205699920654297, -5.207300186157227, -5.265699863433838, -5.303500175476074, -5.311299800872803, -7.053999900817871, -7.0970001220703125, -7.089600086212158, -7.0767998695373535, -7.097599983215332, -7.114500045776367, -7.104400157928467, -7.1128997802734375, -7.124300003051758, -7.122300148010254, -7.105899810791016, -7.111999988555908, -7.103099822998047, -7.120200157165527, -7.120500087738037, -7.139699935913086, -7.122900009155273, -7.131800174713135, -7.132599830627441, -7.130099773406982, -7.131199836730957, -7.11929988861084, -7.145199775695801, -7.136000156402588, -7.113800048828125, -7.139999866485596, -7.131999969482422, -7.12939977645874, -7.149700164794922, -7.12470006942749, -7.133600234985352, -4.311299800872803, -4.923600196838379, -5.22189998626709, -5.2982001304626465, -4.796599864959717, -4.200500011444092, -4.3678998947143555, -4.333499908447266, -6.311299800872803, -5.084199905395508, -4.356599807739258, -6.060200214385986, -5.591899871826172, -5.468599796295166, -5.348999977111816, -4.81279993057251, -5.486100196838379, -4.771500110626221, -5.841800212860107, -5.006400108337402, -4.897200107574463, -5.809100151062012, -6.207499980926514, -5.005899906158447, -5.570300102233887, -5.541200160980225, -4.757699966430664, -5.656199932098389, -5.3165998458862305, -5.42519998550415, -5.924699783325195, -5.503600120544434, -5.670400142669678, -5.2281999588012695, -5.222799777984619, -5.722799777984619, -5.473299980163574, -5.424900054931641, -5.4390997886657715, -7.079599857330322, -7.060800075531006, -7.062099933624268, -7.064300060272217, -7.116399765014648, -7.0802001953125, -7.0879998207092285, -7.084799766540527, -7.070700168609619, -7.095600128173828, -7.088900089263916, -7.09689998626709, -7.09089994430542, -7.096499919891357, -7.098299980163574, -7.1219000816345215, -7.128399848937988, -7.081600189208984, -7.102399826049805, -7.086599826812744, -7.10890007019043, -7.111000061035156, -7.098700046539307, -7.098299980163574, -7.110899925231934, -7.118800163269043, -7.143499851226807, -7.1031999588012695, -7.139500141143799, -7.099999904632568, -7.103300094604492, -7.109099864959717, -5.2947001457214355, -4.943699836730957, -5.192500114440918, -4.508600234985352, -4.366399765014648, -4.893700122833252, -5.127200126647949, -5.632699966430664, -5.962399959564209, -4.381800174713135, -4.722799777984619, -4.795000076293945, -4.5817999839782715, -4.707699775695801, -5.831699848175049, -5.815899848937988, -5.9182000160217285, -5.852099895477295, -5.837299823760986, -5.456099987030029, -5.218599796295166, -5.028900146484375, -5.310100078582764, -5.866300106048584, -5.151299953460693, -5.071100234985352, -5.792799949645996, -5.689000129699707, -5.518099784851074, -5.570400238037109, -5.168700218200684, -4.651400089263916, -5.0100998878479, -5.442999839782715, -5.2866997718811035, -5.531400203704834, -5.525199890136719, -5.5457000732421875, -5.614699840545654, -5.5833001136779785, -5.569499969482422, -5.548900127410889]}, \"token.table\": {\"Topic\": [1, 1, 1, 1, 1, 1, 1, 1, 1, 1, 1, 1, 1, 1, 1, 1, 1, 1, 1, 1, 1, 1, 1, 1, 1, 1, 1, 1, 1, 1, 1, 1, 1, 1, 1, 1, 1, 1, 1, 1, 1, 1, 1, 1, 1, 1, 1, 1, 1, 1, 1, 1, 1, 1, 1, 1, 1, 1, 1, 1, 1, 1, 1, 1, 1, 1, 1, 1, 1, 1, 1, 1, 1, 1, 1, 1, 1, 1, 1, 1, 1, 1, 1, 1, 1, 1, 1, 1, 1, 1, 1, 1, 1, 1, 1, 1, 1, 1, 1, 1, 1, 1, 1, 1, 1, 1, 1, 1, 1, 1, 1, 1, 1, 1, 1, 1, 1, 1, 1, 1, 1, 1, 1], \"Freq\": [0.7922620177268982, 0.7915336489677429, 0.8006638288497925, 0.7939614057540894, 0.7833312153816223, 0.9592801928520203, 0.9635689854621887, 0.7925663590431213, 0.8166597485542297, 0.8018625974655151, 0.9934772253036499, 1.0110563039779663, 0.9985736608505249, 1.024532675743103, 1.0048906803131104, 1.0038682222366333, 1.0162330865859985, 0.7968036532402039, 0.9730907678604126, 0.7988368272781372, 0.9619836807250977, 1.0080442428588867, 0.9618360996246338, 0.7831935882568359, 1.0156911611557007, 0.8037611246109009, 0.7977768778800964, 0.781200110912323, 0.9973082542419434, 0.7876777648925781, 0.9857072234153748, 1.0157192945480347, 0.9878104329109192, 0.9861814379692078, 0.9547502398490906, 1.0430116653442383, 0.7912515997886658, 0.797376811504364, 0.8051624298095703, 1.0207003355026245, 1.069732666015625, 1.0100821256637573, 1.0419758558273315, 1.0777243375778198, 1.0026233196258545, 0.7902750968933105, 0.7976180911064148, 0.9880331754684448, 0.7919491529464722, 0.8172310590744019, 0.7807703614234924, 1.0019441843032837, 0.9943273663520813, 0.9889103174209595, 1.0067906379699707, 0.957374095916748, 0.7938712239265442, 1.0187287330627441, 0.9998224377632141, 0.8011916279792786, 1.011084794998169, 0.7976292967796326, 0.8001797199249268, 0.7916114926338196, 1.0113509893417358, 0.9853548407554626, 0.8037956357002258, 0.7995935678482056, 1.0150498151779175, 1.0016263723373413, 1.0090347528457642, 1.0166728496551514, 0.8051947951316833, 0.7846240997314453, 0.9623253345489502, 0.9734047651290894, 0.9219950437545776, 0.9994941353797913, 0.8162770867347717, 1.004516363143921, 0.8030971884727478, 0.8201285004615784, 1.0230398178100586, 0.8087150454521179, 0.8002520203590393, 1.014999270439148, 0.9636387228965759, 0.977425754070282, 1.0122863054275513, 0.9620007276535034, 0.8183507323265076, 0.8034863471984863, 1.0159627199172974, 0.7924491763114929, 0.7986904978752136, 0.7916632890701294, 0.7869661450386047, 0.976207971572876, 0.7870849967002869, 1.0094578266143799, 1.033177375793457, 0.9791150689125061, 0.9781952500343323, 1.0317740440368652, 0.7869994044303894, 0.8112318515777588, 0.7995093464851379, 0.9956053495407104, 0.7994347810745239, 0.8066844344139099, 0.8290162086486816, 0.9983558058738708, 0.9869338274002075, 0.8036440014839172, 0.8075718283653259, 1.0250561237335205, 0.7793096899986267, 1.0170483589172363, 0.8068317770957947, 0.8259090781211853, 0.7990511059761047, 0.8163228631019592, 0.8016937971115112], \"Term\": [\"15\", \"29\\u00b0 0' 16\\\" leo\", \"4' 43\\\"\", \"5\", \"78\\u00b0 47' 30\\\"\", \"Ch\", \"In\", \"On\", \"accumul\", \"advis\", \"angl\", \"appar\", \"appear\", \"apsi\", \"but\", \"center\", \"chang\", \"chiefli\", \"comput\", \"congruent\", \"copernican\", \"demonstr\", \"describ\", \"design\", \"differ\", \"diverg\", \"earlier\", \"earth\", \"eccentr\", \"endpoint\", \"entir\", \"epicycl\", \"equal\", \"equant\", \"equat\", \"equival\", \"except\", \"extrem\", \"fashion\", \"first\", \"fix\", \"form\", \"greater\", \"heaven\", \"hypothesi\", \"impedi\", \"increment\", \"inequ\", \"intercept\", \"it\", \"later\", \"let\", \"line\", \"make\", \"much\", \"nearli\", \"neighborhood\", \"new\", \"observ\", \"onc\", \"one\", \"origin\", \"ought\", \"o\\u03c1\", \"parallel\", \"path\", \"period\", \"perplex\", \"place\", \"planet\", \"point\", \"posit\", \"postul\", \"practitioners4\", \"ptolema\", \"remain\", \"right\", \"second\", \"sever\", \"shall\", \"shift\", \"simul\", \"sinc\", \"sine\", \"someth\", \"therefor\", \"thi\", \"time\", \"travers\", \"true\", \"turn\", \"unmov\", \"use\", \"verg\", \"violent\", \"whenc\", \"within\", \"would\", \"\\u0393\\u03b3\", \"\\u03b1\", \"\\u03b1\\u03b2\", \"\\u03b1\\u03b3\", \"\\u03b2\", \"\\u03b2\\u03b3\", \"\\u03b2\\u03b3\\u03c6\", \"\\u03b2\\u03b7\", \"\\u03b2\\u03c75\", \"\\u03b3\", \"\\u03b3\\u03b9\", \"\\u03b3\\u03ba\\u03b6\", \"\\u03b3\\u03c3\", \"\\u03b4\", \"\\u03b5\", \"\\u03b5o\", \"\\u03b5\\u03bf\", \"\\u03b8\", \"\\u03b8\\u03c5\\u03b3\", \"\\u03b9\", \"\\u03bd\\u03c5\", \"\\u03c1\\u03b8\\u03bf\", \"\\u03c1\\u03c4\", \"\\u03c7\\u03b2\", \"\\u03c8\\u03b3\"]}, \"R\": 30, \"lambda.step\": 0.01, \"plot.opts\": {\"xlab\": \"PC1\", \"ylab\": \"PC2\"}, \"topic.order\": [3, 2, 1]};\n",
       "\n",
       "function LDAvis_load_lib(url, callback){\n",
       "  var s = document.createElement('script');\n",
       "  s.src = url;\n",
       "  s.async = true;\n",
       "  s.onreadystatechange = s.onload = callback;\n",
       "  s.onerror = function(){console.warn(\"failed to load library \" + url);};\n",
       "  document.getElementsByTagName(\"head\")[0].appendChild(s);\n",
       "}\n",
       "\n",
       "if(typeof(LDAvis) !== \"undefined\"){\n",
       "   // already loaded: just create the visualization\n",
       "   !function(LDAvis){\n",
       "       new LDAvis(\"#\" + \"ldavis_el1306017232374730402109834384\", ldavis_el1306017232374730402109834384_data);\n",
       "   }(LDAvis);\n",
       "}else if(typeof define === \"function\" && define.amd){\n",
       "   // require.js is available: use it to load d3/LDAvis\n",
       "   require.config({paths: {d3: \"https://cdnjs.cloudflare.com/ajax/libs/d3/3.5.5/d3.min\"}});\n",
       "   require([\"d3\"], function(d3){\n",
       "      window.d3 = d3;\n",
       "      LDAvis_load_lib(\"https://cdn.rawgit.com/bmabey/pyLDAvis/files/ldavis.v1.0.0.js\", function(){\n",
       "        new LDAvis(\"#\" + \"ldavis_el1306017232374730402109834384\", ldavis_el1306017232374730402109834384_data);\n",
       "      });\n",
       "    });\n",
       "}else{\n",
       "    // require.js not available: dynamically load d3 & LDAvis\n",
       "    LDAvis_load_lib(\"https://cdnjs.cloudflare.com/ajax/libs/d3/3.5.5/d3.min.js\", function(){\n",
       "         LDAvis_load_lib(\"https://cdn.rawgit.com/bmabey/pyLDAvis/files/ldavis.v1.0.0.js\", function(){\n",
       "                 new LDAvis(\"#\" + \"ldavis_el1306017232374730402109834384\", ldavis_el1306017232374730402109834384_data);\n",
       "            })\n",
       "         });\n",
       "}\n",
       "</script>"
      ],
      "text/plain": [
       "<IPython.core.display.HTML object>"
      ]
     },
     "execution_count": 108,
     "metadata": {},
     "output_type": "execute_result"
    }
   ],
   "source": [
    "pyLDAvis.display(vis) "
   ]
  },
  {
   "cell_type": "code",
   "execution_count": 38,
   "metadata": {},
   "outputs": [],
   "source": [
    "pyLDAvis.save_html(vis,'vis.html') # You can open saved html file  (vis_01)in your browser to see the result. "
   ]
  },
  {
   "cell_type": "markdown",
   "metadata": {},
   "source": [
    "<font size= \"4\">\n",
    "How can we find that how many topics are proper for the model?\n",
    "<font/>"
   ]
  },
  {
   "cell_type": "markdown",
   "metadata": {},
   "source": [
    "## **Coherence Metric**"
   ]
  },
  {
   "cell_type": "code",
   "execution_count": null,
   "metadata": {},
   "outputs": [],
   "source": []
  }
 ],
 "metadata": {
  "kernelspec": {
   "display_name": "Python 3",
   "language": "python",
   "name": "python3"
  },
  "language_info": {
   "codemirror_mode": {
    "name": "ipython",
    "version": 3
   },
   "file_extension": ".py",
   "mimetype": "text/x-python",
   "name": "python",
   "nbconvert_exporter": "python",
   "pygments_lexer": "ipython3",
   "version": "3.7.1"
  }
 },
 "nbformat": 4,
 "nbformat_minor": 2
}
