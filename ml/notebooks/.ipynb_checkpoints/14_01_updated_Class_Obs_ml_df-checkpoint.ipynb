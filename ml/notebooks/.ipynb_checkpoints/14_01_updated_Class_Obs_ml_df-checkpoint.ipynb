{
 "cells": [
  {
   "cell_type": "code",
   "execution_count": 1,
   "metadata": {},
   "outputs": [],
   "source": [
    "import pandas as pd\n",
    "import numpy as np\n",
    "%load_ext autoreload\n",
    "%autoreload 2\n",
    "import utility_01\n",
    "from utility_01 import *\n",
    "from sklearn.metrics import roc_curve ,roc_auc_score ,precision_recall_curve,auc\n",
    "from warnings import filterwarnings\n",
    "filterwarnings('ignore')"
   ]
  },
  {
   "cell_type": "code",
   "execution_count": 2,
   "metadata": {},
   "outputs": [],
   "source": [
    "options = {\"compact\": True, \"bg\": \"#09a3d5\",\n",
    "           \"color\": \"white\", \"font\": \"Source Sans Pro\",\"collapse_phrases\":False}"
   ]
  },
  {
   "cell_type": "code",
   "execution_count": 3,
   "metadata": {},
   "outputs": [],
   "source": [
    "pd.set_option('display.max_colwidth', -1)\n",
    "pd.set_option('max_colwidth', 260)\n"
   ]
  },
  {
   "cell_type": "markdown",
   "metadata": {},
   "source": [
    "# Read the Data"
   ]
  },
  {
   "cell_type": "code",
   "execution_count": 4,
   "metadata": {},
   "outputs": [],
   "source": [
    "df=pd.read_json('dfObs_a02_v03.json');\n",
    "df=df.sort_index();\n",
    "len(df)\n",
    "df.drop(['Unnamed: 0'],axis=1,inplace=True);"
   ]
  },
  {
   "cell_type": "code",
   "execution_count": 5,
   "metadata": {},
   "outputs": [
    {
     "data": {
      "text/html": [
       "<div>\n",
       "<style scoped>\n",
       "    .dataframe tbody tr th:only-of-type {\n",
       "        vertical-align: middle;\n",
       "    }\n",
       "\n",
       "    .dataframe tbody tr th {\n",
       "        vertical-align: top;\n",
       "    }\n",
       "\n",
       "    .dataframe thead th {\n",
       "        text-align: right;\n",
       "    }\n",
       "</style>\n",
       "<table border=\"1\" class=\"dataframe\">\n",
       "  <thead>\n",
       "    <tr style=\"text-align: right;\">\n",
       "      <th></th>\n",
       "      <th>sents</th>\n",
       "      <th>chapter</th>\n",
       "      <th>entities</th>\n",
       "      <th>chunks</th>\n",
       "      <th>label</th>\n",
       "    </tr>\n",
       "  </thead>\n",
       "  <tbody>\n",
       "    <tr>\n",
       "      <td>0</td>\n",
       "      <td>Chapter 1</td>\n",
       "      <td>1.0</td>\n",
       "      <td>[]</td>\n",
       "      <td>[Chapter]</td>\n",
       "      <td>0</td>\n",
       "    </tr>\n",
       "    <tr>\n",
       "      <td>1</td>\n",
       "      <td>On the distinction between the first motion and the second or proper motions; and in the proper motions, between the first and the second inequality.</td>\n",
       "      <td>1.0</td>\n",
       "      <td>[]</td>\n",
       "      <td>[the distinction, the first motion, the second or proper motions, the proper motions, the second inequality]</td>\n",
       "      <td>0</td>\n",
       "    </tr>\n",
       "    <tr>\n",
       "      <td>2</td>\n",
       "      <td>The testimony of the ages confirms that the motions of the planets are orbicular.</td>\n",
       "      <td>1.0</td>\n",
       "      <td>[]</td>\n",
       "      <td>[The testimony, the ages, the motions, the planets]</td>\n",
       "      <td>0</td>\n",
       "    </tr>\n",
       "    <tr>\n",
       "      <td>3</td>\n",
       "      <td>Reason, having borrowed from experience, immediately presumes this: that their gyrations are perfect circles.</td>\n",
       "      <td>1.0</td>\n",
       "      <td>[]</td>\n",
       "      <td>[Reason, experience, their gyrations, perfect circles]</td>\n",
       "      <td>0</td>\n",
       "    </tr>\n",
       "    <tr>\n",
       "      <td>4</td>\n",
       "      <td>For among figures it is circles, and among bodies the heavens, that are considered the most perfect.</td>\n",
       "      <td>1.0</td>\n",
       "      <td>[]</td>\n",
       "      <td>[figures, it, circles, bodies]</td>\n",
       "      <td>0</td>\n",
       "    </tr>\n",
       "  </tbody>\n",
       "</table>\n",
       "</div>"
      ],
      "text/plain": [
       "                                                                                                                                                   sents  \\\n",
       "0                                                                                                                                              Chapter 1   \n",
       "1  On the distinction between the first motion and the second or proper motions; and in the proper motions, between the first and the second inequality.   \n",
       "2                                                                      The testimony of the ages confirms that the motions of the planets are orbicular.   \n",
       "3                                          Reason, having borrowed from experience, immediately presumes this: that their gyrations are perfect circles.   \n",
       "4                                                   For among figures it is circles, and among bodies the heavens, that are considered the most perfect.   \n",
       "\n",
       "  chapter entities  \\\n",
       "0     1.0       []   \n",
       "1     1.0       []   \n",
       "2     1.0       []   \n",
       "3     1.0       []   \n",
       "4     1.0       []   \n",
       "\n",
       "                                                                                                         chunks  \\\n",
       "0                                                                                                     [Chapter]   \n",
       "1  [the distinction, the first motion, the second or proper motions, the proper motions, the second inequality]   \n",
       "2                                                           [The testimony, the ages, the motions, the planets]   \n",
       "3                                                        [Reason, experience, their gyrations, perfect circles]   \n",
       "4                                                                                [figures, it, circles, bodies]   \n",
       "\n",
       "   label  \n",
       "0      0  \n",
       "1      0  \n",
       "2      0  \n",
       "3      0  \n",
       "4      0  "
      ]
     },
     "execution_count": 5,
     "metadata": {},
     "output_type": "execute_result"
    }
   ],
   "source": [
    "df.head()"
   ]
  },
  {
   "cell_type": "code",
   "execution_count": 6,
   "metadata": {},
   "outputs": [
    {
     "data": {
      "text/html": [
       "<div>\n",
       "<style scoped>\n",
       "    .dataframe tbody tr th:only-of-type {\n",
       "        vertical-align: middle;\n",
       "    }\n",
       "\n",
       "    .dataframe tbody tr th {\n",
       "        vertical-align: top;\n",
       "    }\n",
       "\n",
       "    .dataframe thead th {\n",
       "        text-align: right;\n",
       "    }\n",
       "</style>\n",
       "<table border=\"1\" class=\"dataframe\">\n",
       "  <thead>\n",
       "    <tr style=\"text-align: right;\">\n",
       "      <th></th>\n",
       "      <th>sents</th>\n",
       "      <th>chapter</th>\n",
       "      <th>entities</th>\n",
       "      <th>chunks</th>\n",
       "      <th>label</th>\n",
       "    </tr>\n",
       "  </thead>\n",
       "  <tbody>\n",
       "    <tr>\n",
       "      <td>6694</td>\n",
       "      <td>To find the position of Mars at opposition, Kepler computed the angular distance that Mars and Earth—now substituting the place of the Sun—moved during 17 hours 20 minutes; Mars moved eastward about 16' 20\" and the Sun westward about 42' 18\".</td>\n",
       "      <td>appendix b</td>\n",
       "      <td>[('Mars', 'PLAN'), ('opposition', 'ASTR'), ('Mars', 'PLAN'), ('Earth', 'PLAN'), ('Sun', 'PLAN'), ('17 hours 20 minutes', 'TIME'), ('Mars', 'PLAN'), ('eastward', 'ASTR'), ('16\\' 20\"', 'LONG'), ('Sun', 'PLAN'), ('42\\' 18\"', 'LONG')]</td>\n",
       "      <td>[the position, Mars, opposition, Kepler, the angular distance, Mars, Earth—, the place, the Sun—, 17 hours, Mars, the Sun]</td>\n",
       "      <td>0</td>\n",
       "    </tr>\n",
       "    <tr>\n",
       "      <td>6695</td>\n",
       "      <td>Accordingly, Kepler determined the longitude of Mars at opposition to be 198° 37' 50\" from which he subtracted about 39\" in order to correct Mars's orbit; he got 198° 37' 10\" (18° 37' 10\" Libra).</td>\n",
       "      <td>appendix b</td>\n",
       "      <td>[('longitude', 'ASTR'), ('Mars', 'PLAN'), ('opposition', 'ASTR'), ('198° 37\\' 50\"', 'LONG'), ('Mars', 'PLAN'), ('orbit', 'ASTR'), ('198° 37\\' 10\"', 'LONG'), ('18° 37\\' 10\" Libra', 'LONG')]</td>\n",
       "      <td>[Kepler, the longitude, Mars, opposition, he, order, Mars's orbit, he, ' 10\" Libra]</td>\n",
       "      <td>0</td>\n",
       "    </tr>\n",
       "    <tr>\n",
       "      <td>6696</td>\n",
       "      <td>The Sun moved westward and its longitude decreased from the time of observation to its position opposite to Mars.</td>\n",
       "      <td>appendix b</td>\n",
       "      <td>[('Sun', 'PLAN'), ('longitude', 'ASTR'), ('observation', 'ASTR'), ('Mars', 'PLAN')]</td>\n",
       "      <td>[The Sun, its longitude, the time, observation, its position, Mars]</td>\n",
       "      <td>0</td>\n",
       "    </tr>\n",
       "    <tr>\n",
       "      <td>6697</td>\n",
       "      <td>Therefore, the time of opposition is 17 hours 20 minutes before March 29, at 21:43, the time when the observation was made.</td>\n",
       "      <td>appendix b</td>\n",
       "      <td>[('opposition', 'ASTR'), ('17 hours 20 minutes', 'TIME'), ('March 29', 'DATE'), ('observation', 'ASTR')]</td>\n",
       "      <td>[the time, opposition, 17 hours, March, the observation]</td>\n",
       "      <td>0</td>\n",
       "    </tr>\n",
       "    <tr>\n",
       "      <td>6698</td>\n",
       "      <td>Kepler determined the time of opposition on March 28, 4h 23m AM, old style.</td>\n",
       "      <td>appendix b</td>\n",
       "      <td>[('opposition', 'ASTR'), ('March 28', 'DATE'), ('4h 23m', 'TIME')]</td>\n",
       "      <td>[Kepler, the time, opposition, March]</td>\n",
       "      <td>0</td>\n",
       "    </tr>\n",
       "  </tbody>\n",
       "</table>\n",
       "</div>"
      ],
      "text/plain": [
       "                                                                                                                                                                                                                                                   sents  \\\n",
       "6694  To find the position of Mars at opposition, Kepler computed the angular distance that Mars and Earth—now substituting the place of the Sun—moved during 17 hours 20 minutes; Mars moved eastward about 16' 20\" and the Sun westward about 42' 18\".   \n",
       "6695                                                 Accordingly, Kepler determined the longitude of Mars at opposition to be 198° 37' 50\" from which he subtracted about 39\" in order to correct Mars's orbit; he got 198° 37' 10\" (18° 37' 10\" Libra).   \n",
       "6696                                                                                                                                   The Sun moved westward and its longitude decreased from the time of observation to its position opposite to Mars.   \n",
       "6697                                                                                                                         Therefore, the time of opposition is 17 hours 20 minutes before March 29, at 21:43, the time when the observation was made.   \n",
       "6698                                                                                                                                                                         Kepler determined the time of opposition on March 28, 4h 23m AM, old style.   \n",
       "\n",
       "         chapter  \\\n",
       "6694  appendix b   \n",
       "6695  appendix b   \n",
       "6696  appendix b   \n",
       "6697  appendix b   \n",
       "6698  appendix b   \n",
       "\n",
       "                                                                                                                                                                                                                                    entities  \\\n",
       "6694  [('Mars', 'PLAN'), ('opposition', 'ASTR'), ('Mars', 'PLAN'), ('Earth', 'PLAN'), ('Sun', 'PLAN'), ('17 hours 20 minutes', 'TIME'), ('Mars', 'PLAN'), ('eastward', 'ASTR'), ('16\\' 20\"', 'LONG'), ('Sun', 'PLAN'), ('42\\' 18\"', 'LONG')]   \n",
       "6695                                            [('longitude', 'ASTR'), ('Mars', 'PLAN'), ('opposition', 'ASTR'), ('198° 37\\' 50\"', 'LONG'), ('Mars', 'PLAN'), ('orbit', 'ASTR'), ('198° 37\\' 10\"', 'LONG'), ('18° 37\\' 10\" Libra', 'LONG')]   \n",
       "6696                                                                                                                                                     [('Sun', 'PLAN'), ('longitude', 'ASTR'), ('observation', 'ASTR'), ('Mars', 'PLAN')]   \n",
       "6697                                                                                                                                [('opposition', 'ASTR'), ('17 hours 20 minutes', 'TIME'), ('March 29', 'DATE'), ('observation', 'ASTR')]   \n",
       "6698                                                                                                                                                                      [('opposition', 'ASTR'), ('March 28', 'DATE'), ('4h 23m', 'TIME')]   \n",
       "\n",
       "                                                                                                                          chunks  \\\n",
       "6694  [the position, Mars, opposition, Kepler, the angular distance, Mars, Earth—, the place, the Sun—, 17 hours, Mars, the Sun]   \n",
       "6695                                         [Kepler, the longitude, Mars, opposition, he, order, Mars's orbit, he, ' 10\" Libra]   \n",
       "6696                                                         [The Sun, its longitude, the time, observation, its position, Mars]   \n",
       "6697                                                                    [the time, opposition, 17 hours, March, the observation]   \n",
       "6698                                                                                       [Kepler, the time, opposition, March]   \n",
       "\n",
       "      label  \n",
       "6694      0  \n",
       "6695      0  \n",
       "6696      0  \n",
       "6697      0  \n",
       "6698      0  "
      ]
     },
     "execution_count": 6,
     "metadata": {},
     "output_type": "execute_result"
    }
   ],
   "source": [
    "df.tail()"
   ]
  },
  {
   "cell_type": "code",
   "execution_count": 7,
   "metadata": {},
   "outputs": [],
   "source": [
    "X = list(df[\"sents\"])"
   ]
  },
  {
   "cell_type": "code",
   "execution_count": 8,
   "metadata": {},
   "outputs": [],
   "source": [
    "y = np.array(list(df[\"label\"]))"
   ]
  },
  {
   "cell_type": "markdown",
   "metadata": {},
   "source": [
    "# Distribution of Samples "
   ]
  },
  {
   "cell_type": "code",
   "execution_count": 9,
   "metadata": {},
   "outputs": [],
   "source": [
    "from collections import Counter\n",
    "category=Counter(y)\n",
    "count=dict(category)"
   ]
  },
  {
   "cell_type": "code",
   "execution_count": 10,
   "metadata": {},
   "outputs": [
    {
     "data": {
      "text/plain": [
       "{0: 6623, 1: 76}"
      ]
     },
     "execution_count": 10,
     "metadata": {},
     "output_type": "execute_result"
    }
   ],
   "source": [
    "count"
   ]
  },
  {
   "cell_type": "code",
   "execution_count": 11,
   "metadata": {},
   "outputs": [
    {
     "data": {
      "text/plain": [
       "Text(0.5, 1.0, 'Distribution of samples over different classes')"
      ]
     },
     "execution_count": 11,
     "metadata": {},
     "output_type": "execute_result"
    },
    {
     "data": {
      "image/png": "[encoded data removed]",
      "text/plain": [
       "<Figure size 432x288 with 1 Axes>"
      ]
     },
     "metadata": {
      "needs_background": "light"
     },
     "output_type": "display_data"
    }
   ],
   "source": [
    "plt.bar(list(count.keys()),count.values(),color=\"r\",width=.4,tick_label=[\"1\",\"0\"])\n",
    "plt.title(\"Distribution of samples over different classes\")\n"
   ]
  },
  {
   "cell_type": "code",
   "execution_count": 12,
   "metadata": {},
   "outputs": [],
   "source": [
    "from sklearn.feature_extraction.text import CountVectorizer,HashingVectorizer\n",
    "from sklearn.feature_extraction.text import TfidfTransformer,TfidfVectorizer\n",
    "from sklearn.feature_selection import SelectKBest,chi2\n",
    "from sklearn.linear_model import SGDClassifier, LogisticRegression,LogisticRegressionCV\n",
    "from sklearn.naive_bayes import MultinomialNB\n",
    "from sklearn.ensemble import RandomForestClassifier\n",
    "from sklearn.pipeline import Pipeline\n",
    "from sklearn.decomposition import TruncatedSVD\n",
    "from sklearn.svm import SVC,LinearSVC\n",
    "from sklearn.utils import shuffle\n",
    "from sklearn.model_selection import train_test_split\n",
    "from sklearn.neighbors import NearestNeighbors\n",
    "#from xgboost import XGBClassifier"
   ]
  },
  {
   "cell_type": "markdown",
   "metadata": {},
   "source": [
    "## Models"
   ]
  },
  {
   "cell_type": "code",
   "execution_count": 13,
   "metadata": {},
   "outputs": [],
   "source": [
    "#-Random Forest Classifier\n",
    "trial= Pipeline([('vect', CountVectorizer(stop_words='english')),\n",
    "                     ('clf', RandomForestClassifier(n_estimators=1000, random_state=0 ))])\n",
    "####################################################\n",
    "## 01-Random Forest Classifier with weights\n",
    "class_weight = dict({0:.0069, 1:700000})\n",
    "trial_01= Pipeline([('vect', CountVectorizer(stop_words='english')),\n",
    "                     ('clf', RandomForestClassifier(n_estimators=1000, random_state=0 ,class_weight=class_weight))])\n",
    "vec=TfidfVectorizer()\n",
    "clf= SGDClassifier()\n",
    "trial_05=Pipeline([(\"vect\",vec),(\"clf\",clf)])\n",
    "#####################################################\n",
    "## 02-XGBClassifier\n",
    "#trial_02 = Pipeline([('vect', CountVectorizer(stop_words='english')),\n",
    "                     #('clf', XGBClassifier())])\n"
   ]
  },
  {
   "cell_type": "code",
   "execution_count": 14,
   "metadata": {},
   "outputs": [],
   "source": [
    "X=list(df[\"sents\"])\n",
    "y=np.array(list(df[\"label\"]))"
   ]
  },
  {
   "cell_type": "code",
   "execution_count": 15,
   "metadata": {},
   "outputs": [],
   "source": [
    "X,y = shuffle(X, y, random_state=42)\n",
    "X_train, X_test, y_train, y_test = train_test_split(\n",
    "X,y, test_size=0.25, random_state=42)  "
   ]
  },
  {
   "cell_type": "markdown",
   "metadata": {},
   "source": [
    "## 1- Random Forest "
   ]
  },
  {
   "cell_type": "code",
   "execution_count": 16,
   "metadata": {},
   "outputs": [
    {
     "data": {
      "text/plain": [
       "Pipeline(memory=None,\n",
       "     steps=[('vect', CountVectorizer(analyzer='word', binary=False, decode_error='strict',\n",
       "        dtype=<class 'numpy.int64'>, encoding='utf-8', input='content',\n",
       "        lowercase=True, max_df=1.0, max_features=None, min_df=1,\n",
       "        ngram_range=(1, 1), preprocessor=None, stop_words='english',\n",
       "        ...ators=1000, n_jobs=None,\n",
       "            oob_score=False, random_state=0, verbose=0, warm_start=False))])"
      ]
     },
     "execution_count": 16,
     "metadata": {},
     "output_type": "execute_result"
    }
   ],
   "source": [
    "trial.fit(X_train,y_train)"
   ]
  },
  {
   "cell_type": "code",
   "execution_count": 17,
   "metadata": {},
   "outputs": [],
   "source": [
    "y_pred=trial.predict(X_test)"
   ]
  },
  {
   "cell_type": "code",
   "execution_count": 18,
   "metadata": {},
   "outputs": [
    {
     "name": "stdout",
     "output_type": "stream",
     "text": [
      "[[1659    0]\n",
      " [  16    0]]\n",
      "              precision    recall  f1-score   support\n",
      "\n",
      "           0       0.99      1.00      1.00      1659\n",
      "           1       0.00      0.00      0.00        16\n",
      "\n",
      "   micro avg       0.99      0.99      0.99      1675\n",
      "   macro avg       0.50      0.50      0.50      1675\n",
      "weighted avg       0.98      0.99      0.99      1675\n",
      "\n"
     ]
    }
   ],
   "source": [
    "cm=confusion_matrix(y_test,y_pred)\n",
    "print(cm)\n",
    "cr=classification_report(y_test,y_pred)\n",
    "print(cr)\n",
    "#Color_Confusion_Matrix(y, y_test, y_pred)\n"
   ]
  },
  {
   "cell_type": "code",
   "execution_count": 19,
   "metadata": {},
   "outputs": [
    {
     "name": "stdout",
     "output_type": "stream",
     "text": [
      "[0.9880775  0.9880775  0.9880775  0.9880597  0.9880597  0.9880597\n",
      " 0.98953662 0.99103139 0.98953662 0.99103139]\n",
      "Accuracy of : 0.989 ± 0.002\n"
     ]
    }
   ],
   "source": [
    "cross_validation_accuracy(trial,X,y,cv=10)"
   ]
  },
  {
   "cell_type": "code",
   "execution_count": 20,
   "metadata": {},
   "outputs": [
    {
     "name": "stdout",
     "output_type": "stream",
     "text": [
      "              precision    recall  f1-score   support\n",
      "\n",
      "           0       0.99      1.00      0.99      6623\n",
      "           1       1.00      0.03      0.05        76\n",
      "\n",
      "   micro avg       0.99      0.99      0.99      6699\n",
      "   macro avg       0.99      0.51      0.52      6699\n",
      "weighted avg       0.99      0.99      0.98      6699\n",
      "\n",
      "[[6623   74]\n",
      " [   0    2]]\n"
     ]
    }
   ],
   "source": [
    "y_pred = cross_val_predict(trial, X, y, cv=10)\n",
    "cr=classification_report(y,y_pred)\n",
    "print(cr)\n",
    "cm = confusion_matrix(y_pred,y)\n",
    "print(cm)\n",
    "#Color_Confusion_Matrix(y=y,y_test=y,y_pred=y_pred)"
   ]
  },
  {
   "cell_type": "code",
   "execution_count": 21,
   "metadata": {},
   "outputs": [],
   "source": [
    "precision, recall, thresholds = precision_recall_curve(y,y_pred)  \n",
    "auc_score = auc(recall, precision)\n"
   ]
  },
  {
   "cell_type": "code",
   "execution_count": 22,
   "metadata": {},
   "outputs": [
    {
     "data": {
      "image/png": "[encoded data removed]",
      "text/plain": [
       "<Figure size 432x288 with 1 Axes>"
      ]
     },
     "metadata": {
      "needs_background": "light"
     },
     "output_type": "display_data"
    },
    {
     "name": "stdout",
     "output_type": "stream",
     "text": [
      "AUC: 0.519\n"
     ]
    }
   ],
   "source": [
    "plot_pr(recall, precision)"
   ]
  },
  {
   "cell_type": "markdown",
   "metadata": {},
   "source": [
    "## 1-SGD"
   ]
  },
  {
   "cell_type": "code",
   "execution_count": 23,
   "metadata": {},
   "outputs": [
    {
     "data": {
      "text/plain": [
       "Pipeline(memory=None,\n",
       "     steps=[('vect', TfidfVectorizer(analyzer='word', binary=False, decode_error='strict',\n",
       "        dtype=<class 'numpy.float64'>, encoding='utf-8', input='content',\n",
       "        lowercase=True, max_df=1.0, max_features=None, min_df=1,\n",
       "        ngram_range=(1, 1), norm='l2', preprocessor=None, smooth_idf=True,\n",
       "...m_state=None, shuffle=True, tol=None,\n",
       "       validation_fraction=0.1, verbose=0, warm_start=False))])"
      ]
     },
     "execution_count": 23,
     "metadata": {},
     "output_type": "execute_result"
    }
   ],
   "source": [
    "trial_05.fit(X_train,y_train)"
   ]
  },
  {
   "cell_type": "code",
   "execution_count": 24,
   "metadata": {},
   "outputs": [],
   "source": [
    "y_pred=trial_05.predict(X_test)"
   ]
  },
  {
   "cell_type": "code",
   "execution_count": 25,
   "metadata": {},
   "outputs": [
    {
     "name": "stdout",
     "output_type": "stream",
     "text": [
      "[[1655    4]\n",
      " [   6   10]]\n",
      "              precision    recall  f1-score   support\n",
      "\n",
      "           0       1.00      1.00      1.00      1659\n",
      "           1       0.71      0.62      0.67        16\n",
      "\n",
      "   micro avg       0.99      0.99      0.99      1675\n",
      "   macro avg       0.86      0.81      0.83      1675\n",
      "weighted avg       0.99      0.99      0.99      1675\n",
      "\n"
     ]
    }
   ],
   "source": [
    "cm=confusion_matrix(y_test,y_pred)\n",
    "print(cm)\n",
    "cr=classification_report(y_test,y_pred)\n",
    "print(cr)\n",
    "#Color_Confusion_Matrix(y, y_test, y_pred)\n"
   ]
  },
  {
   "cell_type": "code",
   "execution_count": 26,
   "metadata": {},
   "outputs": [
    {
     "name": "stdout",
     "output_type": "stream",
     "text": [
      "[0.99403875 0.99403875 0.98956781 0.99104478 0.99402985 0.99253731\n",
      " 0.98804185 0.99402093 0.99252616 0.99252616]\n",
      "Accuracy of : 0.992 ± 0.004\n"
     ]
    }
   ],
   "source": [
    "cross_validation_accuracy(trial_05,X,y,cv=10)"
   ]
  },
  {
   "cell_type": "code",
   "execution_count": 27,
   "metadata": {},
   "outputs": [
    {
     "name": "stdout",
     "output_type": "stream",
     "text": [
      "              precision    recall  f1-score   support\n",
      "\n",
      "           0       0.99      1.00      1.00      6623\n",
      "           1       0.73      0.43      0.55        76\n",
      "\n",
      "   micro avg       0.99      0.99      0.99      6699\n",
      "   macro avg       0.86      0.72      0.77      6699\n",
      "weighted avg       0.99      0.99      0.99      6699\n",
      "\n"
     ]
    }
   ],
   "source": [
    "y_pred = cross_val_predict(trial_05, X, y, cv=10)\n",
    "\n",
    "cr=classification_report(y,y_pred)\n",
    "print(cr)\n",
    "cm = confusion_matrix(y_pred,y)\n",
    "#Color_Confusion_Matrix(y=y,y_test=y,y_pred=y_pred)"
   ]
  },
  {
   "cell_type": "code",
   "execution_count": 28,
   "metadata": {},
   "outputs": [
    {
     "name": "stdout",
     "output_type": "stream",
     "text": [
      "[[6611   43]\n",
      " [  12   33]]\n"
     ]
    }
   ],
   "source": [
    "print(cm)"
   ]
  },
  {
   "cell_type": "code",
   "execution_count": 29,
   "metadata": {},
   "outputs": [],
   "source": [
    "precision, recall, thresholds = precision_recall_curve(y,y_pred)  \n",
    "auc_score = auc(recall, precision)\n"
   ]
  },
  {
   "cell_type": "code",
   "execution_count": 30,
   "metadata": {},
   "outputs": [
    {
     "data": {
      "image/png": "[encoded data removed]",
      "text/plain": [
       "<Figure size 432x288 with 1 Axes>"
      ]
     },
     "metadata": {
      "needs_background": "light"
     },
     "output_type": "display_data"
    },
    {
     "name": "stdout",
     "output_type": "stream",
     "text": [
      "AUC: 0.587\n"
     ]
    }
   ],
   "source": [
    "plot_pr(recall, precision)"
   ]
  },
  {
   "cell_type": "code",
   "execution_count": null,
   "metadata": {},
   "outputs": [],
   "source": []
  },
  {
   "cell_type": "code",
   "execution_count": 31,
   "metadata": {},
   "outputs": [
    {
     "data": {
      "text/html": [
       "\n",
       "    <style>\n",
       "    table.eli5-weights tr:hover {\n",
       "        filter: brightness(85%);\n",
       "    }\n",
       "</style>\n",
       "\n",
       "\n",
       "\n",
       "    \n",
       "\n",
       "    \n",
       "\n",
       "    \n",
       "\n",
       "    \n",
       "\n",
       "    \n",
       "\n",
       "    \n",
       "\n",
       "\n",
       "    \n",
       "\n",
       "    \n",
       "\n",
       "    \n",
       "\n",
       "    \n",
       "        \n",
       "\n",
       "    \n",
       "\n",
       "        \n",
       "            \n",
       "                \n",
       "                \n",
       "    \n",
       "        <p style=\"margin-bottom: 0.5em; margin-top: 0em\">\n",
       "            <b>\n",
       "    \n",
       "        y=1\n",
       "    \n",
       "</b>\n",
       "\n",
       "top features\n",
       "        </p>\n",
       "    \n",
       "    <table class=\"eli5-weights\"\n",
       "           style=\"border-collapse: collapse; border: none; margin-top: 0em; table-layout: auto; margin-bottom: 2em;\">\n",
       "        <thead>\n",
       "        <tr style=\"border: none;\">\n",
       "            \n",
       "                <th style=\"padding: 0 1em 0 0.5em; text-align: right; border: none;\" title=\"Feature weights. Note that weights do not account for feature value scales, so if feature values have different scales, features with highest weights might not be the most important.\">\n",
       "                    Weight<sup>?</sup>\n",
       "                </th>\n",
       "            \n",
       "            <th style=\"padding: 0 0.5em 0 0.5em; text-align: left; border: none;\">Feature</th>\n",
       "            \n",
       "        </tr>\n",
       "        </thead>\n",
       "        <tbody>\n",
       "        \n",
       "            <tr style=\"background-color: hsl(120, 100.00%, 80.00%); border: none;\">\n",
       "    <td style=\"padding: 0 1em 0 0.5em; text-align: right; border: none;\">\n",
       "        +3.001\n",
       "    </td>\n",
       "    <td style=\"padding: 0 0.5em 0 0.5em; text-align: left; border: none;\">\n",
       "        30m\n",
       "    </td>\n",
       "    \n",
       "</tr>\n",
       "        \n",
       "            <tr style=\"background-color: hsl(120, 100.00%, 80.72%); border: none;\">\n",
       "    <td style=\"padding: 0 1em 0 0.5em; text-align: right; border: none;\">\n",
       "        +2.847\n",
       "    </td>\n",
       "    <td style=\"padding: 0 0.5em 0 0.5em; text-align: left; border: none;\">\n",
       "        12h\n",
       "    </td>\n",
       "    \n",
       "</tr>\n",
       "        \n",
       "            <tr style=\"background-color: hsl(120, 100.00%, 82.82%); border: none;\">\n",
       "    <td style=\"padding: 0 1em 0 0.5em; text-align: right; border: none;\">\n",
       "        +2.416\n",
       "    </td>\n",
       "    <td style=\"padding: 0 0.5em 0 0.5em; text-align: left; border: none;\">\n",
       "        on\n",
       "    </td>\n",
       "    \n",
       "</tr>\n",
       "        \n",
       "            <tr style=\"background-color: hsl(120, 100.00%, 83.58%); border: none;\">\n",
       "    <td style=\"padding: 0 1em 0 0.5em; text-align: right; border: none;\">\n",
       "        +2.264\n",
       "    </td>\n",
       "    <td style=\"padding: 0 0.5em 0 0.5em; text-align: left; border: none;\">\n",
       "        january\n",
       "    </td>\n",
       "    \n",
       "</tr>\n",
       "        \n",
       "            <tr style=\"background-color: hsl(120, 100.00%, 84.68%); border: none;\">\n",
       "    <td style=\"padding: 0 1em 0 0.5em; text-align: right; border: none;\">\n",
       "        +2.051\n",
       "    </td>\n",
       "    <td style=\"padding: 0 0.5em 0 0.5em; text-align: left; border: none;\">\n",
       "        8h\n",
       "    </td>\n",
       "    \n",
       "</tr>\n",
       "        \n",
       "            <tr style=\"background-color: hsl(120, 100.00%, 84.76%); border: none;\">\n",
       "    <td style=\"padding: 0 1em 0 0.5em; text-align: right; border: none;\">\n",
       "        +2.036\n",
       "    </td>\n",
       "    <td style=\"padding: 0 0.5em 0 0.5em; text-align: left; border: none;\">\n",
       "        7h\n",
       "    </td>\n",
       "    \n",
       "</tr>\n",
       "        \n",
       "            <tr style=\"background-color: hsl(120, 100.00%, 85.62%); border: none;\">\n",
       "    <td style=\"padding: 0 1em 0 0.5em; text-align: right; border: none;\">\n",
       "        +1.873\n",
       "    </td>\n",
       "    <td style=\"padding: 0 0.5em 0 0.5em; text-align: left; border: none;\">\n",
       "        at\n",
       "    </td>\n",
       "    \n",
       "</tr>\n",
       "        \n",
       "            <tr style=\"background-color: hsl(120, 100.00%, 85.74%); border: none;\">\n",
       "    <td style=\"padding: 0 1em 0 0.5em; text-align: right; border: none;\">\n",
       "        +1.851\n",
       "    </td>\n",
       "    <td style=\"padding: 0 0.5em 0 0.5em; text-align: left; border: none;\">\n",
       "        9h\n",
       "    </td>\n",
       "    \n",
       "</tr>\n",
       "        \n",
       "            <tr style=\"background-color: hsl(120, 100.00%, 86.58%); border: none;\">\n",
       "    <td style=\"padding: 0 1em 0 0.5em; text-align: right; border: none;\">\n",
       "        +1.697\n",
       "    </td>\n",
       "    <td style=\"padding: 0 0.5em 0 0.5em; text-align: left; border: none;\">\n",
       "        20m\n",
       "    </td>\n",
       "    \n",
       "</tr>\n",
       "        \n",
       "            <tr style=\"background-color: hsl(120, 100.00%, 86.71%); border: none;\">\n",
       "    <td style=\"padding: 0 1em 0 0.5em; text-align: right; border: none;\">\n",
       "        +1.674\n",
       "    </td>\n",
       "    <td style=\"padding: 0 0.5em 0 0.5em; text-align: left; border: none;\">\n",
       "        11h\n",
       "    </td>\n",
       "    \n",
       "</tr>\n",
       "        \n",
       "            <tr style=\"background-color: hsl(120, 100.00%, 87.06%); border: none;\">\n",
       "    <td style=\"padding: 0 1em 0 0.5em; text-align: right; border: none;\">\n",
       "        +1.612\n",
       "    </td>\n",
       "    <td style=\"padding: 0 0.5em 0 0.5em; text-align: left; border: none;\">\n",
       "        6h\n",
       "    </td>\n",
       "    \n",
       "</tr>\n",
       "        \n",
       "            <tr style=\"background-color: hsl(120, 100.00%, 87.70%); border: none;\">\n",
       "    <td style=\"padding: 0 1em 0 0.5em; text-align: right; border: none;\">\n",
       "        +1.499\n",
       "    </td>\n",
       "    <td style=\"padding: 0 0.5em 0 0.5em; text-align: left; border: none;\">\n",
       "        october\n",
       "    </td>\n",
       "    \n",
       "</tr>\n",
       "        \n",
       "            <tr style=\"background-color: hsl(120, 100.00%, 88.48%); border: none;\">\n",
       "    <td style=\"padding: 0 1em 0 0.5em; text-align: right; border: none;\">\n",
       "        +1.364\n",
       "    </td>\n",
       "    <td style=\"padding: 0 0.5em 0 0.5em; text-align: left; border: none;\">\n",
       "        march\n",
       "    </td>\n",
       "    \n",
       "</tr>\n",
       "        \n",
       "            <tr style=\"background-color: hsl(120, 100.00%, 88.73%); border: none;\">\n",
       "    <td style=\"padding: 0 1em 0 0.5em; text-align: right; border: none;\">\n",
       "        +1.322\n",
       "    </td>\n",
       "    <td style=\"padding: 0 0.5em 0 0.5em; text-align: left; border: none;\">\n",
       "        found\n",
       "    </td>\n",
       "    \n",
       "</tr>\n",
       "        \n",
       "            <tr style=\"background-color: hsl(120, 100.00%, 88.96%); border: none;\">\n",
       "    <td style=\"padding: 0 1em 0 0.5em; text-align: right; border: none;\">\n",
       "        +1.283\n",
       "    </td>\n",
       "    <td style=\"padding: 0 0.5em 0 0.5em; text-align: left; border: none;\">\n",
       "        position\n",
       "    </td>\n",
       "    \n",
       "</tr>\n",
       "        \n",
       "            <tr style=\"background-color: hsl(120, 100.00%, 89.01%); border: none;\">\n",
       "    <td style=\"padding: 0 1em 0 0.5em; text-align: right; border: none;\">\n",
       "        +1.276\n",
       "    </td>\n",
       "    <td style=\"padding: 0 0.5em 0 0.5em; text-align: left; border: none;\">\n",
       "        june\n",
       "    </td>\n",
       "    \n",
       "</tr>\n",
       "        \n",
       "            <tr style=\"background-color: hsl(120, 100.00%, 89.32%); border: none;\">\n",
       "    <td style=\"padding: 0 1em 0 0.5em; text-align: right; border: none;\">\n",
       "        +1.224\n",
       "    </td>\n",
       "    <td style=\"padding: 0 0.5em 0 0.5em; text-align: left; border: none;\">\n",
       "        17h\n",
       "    </td>\n",
       "    \n",
       "</tr>\n",
       "        \n",
       "            <tr style=\"background-color: hsl(120, 100.00%, 89.33%); border: none;\">\n",
       "    <td style=\"padding: 0 1em 0 0.5em; text-align: right; border: none;\">\n",
       "        +1.223\n",
       "    </td>\n",
       "    <td style=\"padding: 0 0.5em 0 0.5em; text-align: left; border: none;\">\n",
       "        1596\n",
       "    </td>\n",
       "    \n",
       "</tr>\n",
       "        \n",
       "            <tr style=\"background-color: hsl(120, 100.00%, 89.41%); border: none;\">\n",
       "    <td style=\"padding: 0 1em 0 0.5em; text-align: right; border: none;\">\n",
       "        +1.210\n",
       "    </td>\n",
       "    <td style=\"padding: 0 0.5em 0 0.5em; text-align: left; border: none;\">\n",
       "        19h\n",
       "    </td>\n",
       "    \n",
       "</tr>\n",
       "        \n",
       "            <tr style=\"background-color: hsl(120, 100.00%, 89.47%); border: none;\">\n",
       "    <td style=\"padding: 0 1em 0 0.5em; text-align: right; border: none;\">\n",
       "        +1.200\n",
       "    </td>\n",
       "    <td style=\"padding: 0 0.5em 0 0.5em; text-align: left; border: none;\">\n",
       "        evening\n",
       "    </td>\n",
       "    \n",
       "</tr>\n",
       "        \n",
       "            <tr style=\"background-color: hsl(120, 100.00%, 89.71%); border: none;\">\n",
       "    <td style=\"padding: 0 1em 0 0.5em; text-align: right; border: none;\">\n",
       "        +1.161\n",
       "    </td>\n",
       "    <td style=\"padding: 0 0.5em 0 0.5em; text-align: left; border: none;\">\n",
       "        40m\n",
       "    </td>\n",
       "    \n",
       "</tr>\n",
       "        \n",
       "            <tr style=\"background-color: hsl(120, 100.00%, 89.95%); border: none;\">\n",
       "    <td style=\"padding: 0 1em 0 0.5em; text-align: right; border: none;\">\n",
       "        +1.122\n",
       "    </td>\n",
       "    <td style=\"padding: 0 0.5em 0 0.5em; text-align: left; border: none;\">\n",
       "        observed\n",
       "    </td>\n",
       "    \n",
       "</tr>\n",
       "        \n",
       "            <tr style=\"background-color: hsl(120, 100.00%, 90.18%); border: none;\">\n",
       "    <td style=\"padding: 0 1em 0 0.5em; text-align: right; border: none;\">\n",
       "        +1.086\n",
       "    </td>\n",
       "    <td style=\"padding: 0 0.5em 0 0.5em; text-align: left; border: none;\">\n",
       "        5m\n",
       "    </td>\n",
       "    \n",
       "</tr>\n",
       "        \n",
       "            <tr style=\"background-color: hsl(120, 100.00%, 90.20%); border: none;\">\n",
       "    <td style=\"padding: 0 1em 0 0.5em; text-align: right; border: none;\">\n",
       "        +1.083\n",
       "    </td>\n",
       "    <td style=\"padding: 0 0.5em 0 0.5em; text-align: left; border: none;\">\n",
       "        december\n",
       "    </td>\n",
       "    \n",
       "</tr>\n",
       "        \n",
       "            <tr style=\"background-color: hsl(120, 100.00%, 90.37%); border: none;\">\n",
       "    <td style=\"padding: 0 1em 0 0.5em; text-align: right; border: none;\">\n",
       "        +1.056\n",
       "    </td>\n",
       "    <td style=\"padding: 0 0.5em 0 0.5em; text-align: left; border: none;\">\n",
       "        4½\n",
       "    </td>\n",
       "    \n",
       "</tr>\n",
       "        \n",
       "            <tr style=\"background-color: hsl(120, 100.00%, 90.54%); border: none;\">\n",
       "    <td style=\"padding: 0 1em 0 0.5em; text-align: right; border: none;\">\n",
       "        +1.030\n",
       "    </td>\n",
       "    <td style=\"padding: 0 0.5em 0 0.5em; text-align: left; border: none;\">\n",
       "        50m\n",
       "    </td>\n",
       "    \n",
       "</tr>\n",
       "        \n",
       "        \n",
       "            <tr style=\"background-color: hsl(120, 100.00%, 90.54%); border: none;\">\n",
       "                <td colspan=\"2\" style=\"padding: 0 0.5em 0 0.5em; text-align: center; border: none; white-space: nowrap;\">\n",
       "                    <i>&hellip; 250 more positive &hellip;</i>\n",
       "                </td>\n",
       "            </tr>\n",
       "        \n",
       "\n",
       "        \n",
       "            <tr style=\"background-color: hsl(0, 100.00%, 90.04%); border: none;\">\n",
       "                <td colspan=\"2\" style=\"padding: 0 0.5em 0 0.5em; text-align: center; border: none; white-space: nowrap;\">\n",
       "                    <i>&hellip; 502 more negative &hellip;</i>\n",
       "                </td>\n",
       "            </tr>\n",
       "        \n",
       "        \n",
       "            <tr style=\"background-color: hsl(0, 100.00%, 90.04%); border: none;\">\n",
       "    <td style=\"padding: 0 1em 0 0.5em; text-align: right; border: none;\">\n",
       "        -1.109\n",
       "    </td>\n",
       "    <td style=\"padding: 0 0.5em 0 0.5em; text-align: left; border: none;\">\n",
       "        capricorn\n",
       "    </td>\n",
       "    \n",
       "</tr>\n",
       "        \n",
       "            <tr style=\"background-color: hsl(0, 100.00%, 89.82%); border: none;\">\n",
       "    <td style=\"padding: 0 1em 0 0.5em; text-align: right; border: none;\">\n",
       "        -1.144\n",
       "    </td>\n",
       "    <td style=\"padding: 0 0.5em 0 0.5em; text-align: left; border: none;\">\n",
       "        lat\n",
       "    </td>\n",
       "    \n",
       "</tr>\n",
       "        \n",
       "            <tr style=\"background-color: hsl(0, 100.00%, 87.98%); border: none;\">\n",
       "    <td style=\"padding: 0 1em 0 0.5em; text-align: right; border: none;\">\n",
       "        -1.451\n",
       "    </td>\n",
       "    <td style=\"padding: 0 0.5em 0 0.5em; text-align: left; border: none;\">\n",
       "        it\n",
       "    </td>\n",
       "    \n",
       "</tr>\n",
       "        \n",
       "            <tr style=\"background-color: hsl(0, 100.00%, 84.21%); border: none;\">\n",
       "    <td style=\"padding: 0 1em 0 0.5em; text-align: right; border: none;\">\n",
       "        -2.140\n",
       "    </td>\n",
       "    <td style=\"padding: 0 0.5em 0 0.5em; text-align: left; border: none;\">\n",
       "        &lt;BIAS&gt;\n",
       "    </td>\n",
       "    \n",
       "</tr>\n",
       "        \n",
       "\n",
       "        </tbody>\n",
       "    </table>\n",
       "\n",
       "            \n",
       "        \n",
       "\n",
       "        \n",
       "\n",
       "\n",
       "\n",
       "    \n",
       "\n",
       "    \n",
       "\n",
       "    \n",
       "\n",
       "    \n",
       "\n",
       "\n",
       "    \n",
       "\n",
       "    \n",
       "\n",
       "    \n",
       "\n",
       "    \n",
       "\n",
       "    \n",
       "\n",
       "    \n",
       "\n",
       "\n",
       "    \n",
       "\n",
       "    \n",
       "\n",
       "    \n",
       "\n",
       "    \n",
       "\n",
       "    \n",
       "\n",
       "    \n",
       "\n",
       "\n",
       "\n"
      ],
      "text/plain": [
       "<IPython.core.display.HTML object>"
      ]
     },
     "execution_count": 31,
     "metadata": {},
     "output_type": "execute_result"
    }
   ],
   "source": [
    "from eli5 import show_weights\n",
    "show_weights(trial_05, top=30)"
   ]
  },
  {
   "cell_type": "code",
   "execution_count": 32,
   "metadata": {},
   "outputs": [],
   "source": [
    "index_0=list(np.where(y==0))\n",
    "index_1=list(np.where(y==1))\n",
    "idx_0=index_0[0].tolist();\n",
    "idx_1=index_1[0].tolist();"
   ]
  },
  {
   "cell_type": "code",
   "execution_count": 33,
   "metadata": {},
   "outputs": [
    {
     "data": {
      "text/html": [
       "\n",
       "    <style>\n",
       "    table.eli5-weights tr:hover {\n",
       "        filter: brightness(85%);\n",
       "    }\n",
       "</style>\n",
       "\n",
       "\n",
       "\n",
       "    \n",
       "\n",
       "    \n",
       "\n",
       "    \n",
       "\n",
       "    \n",
       "\n",
       "    \n",
       "\n",
       "    \n",
       "\n",
       "\n",
       "    \n",
       "\n",
       "    \n",
       "\n",
       "    \n",
       "\n",
       "    \n",
       "        \n",
       "\n",
       "    \n",
       "\n",
       "        \n",
       "\n",
       "        \n",
       "    \n",
       "        \n",
       "        \n",
       "    \n",
       "        <p style=\"margin-bottom: 0.5em; margin-top: 0em\">\n",
       "            <b>\n",
       "    \n",
       "        y=1\n",
       "    \n",
       "</b>\n",
       "\n",
       "    \n",
       "    (score <b>0.683</b>)\n",
       "\n",
       "top features\n",
       "        </p>\n",
       "    \n",
       "    <table class=\"eli5-weights\"\n",
       "           style=\"border-collapse: collapse; border: none; margin-top: 0em; table-layout: auto; margin-bottom: 2em;\">\n",
       "        <thead>\n",
       "        <tr style=\"border: none;\">\n",
       "            \n",
       "                <th style=\"padding: 0 1em 0 0.5em; text-align: right; border: none;\" title=\"Feature contribution already accounts for the feature value (for linear models, contribution = weight * feature value), and the sum of feature contributions is equal to the score or, for some classifiers, to the probability. Feature values are shown if &quot;show_feature_values&quot; is True.\">\n",
       "                    Contribution<sup>?</sup>\n",
       "                </th>\n",
       "            \n",
       "            <th style=\"padding: 0 0.5em 0 0.5em; text-align: left; border: none;\">Feature</th>\n",
       "            \n",
       "        </tr>\n",
       "        </thead>\n",
       "        <tbody>\n",
       "        \n",
       "            <tr style=\"background-color: hsl(120, 100.00%, 80.00%); border: none;\">\n",
       "    <td style=\"padding: 0 1em 0 0.5em; text-align: right; border: none;\">\n",
       "        +2.824\n",
       "    </td>\n",
       "    <td style=\"padding: 0 0.5em 0 0.5em; text-align: left; border: none;\">\n",
       "        Highlighted in text (sum)\n",
       "    </td>\n",
       "    \n",
       "</tr>\n",
       "        \n",
       "        \n",
       "\n",
       "        \n",
       "        \n",
       "            <tr style=\"background-color: hsl(0, 100.00%, 83.53%); border: none;\">\n",
       "    <td style=\"padding: 0 1em 0 0.5em; text-align: right; border: none;\">\n",
       "        -2.140\n",
       "    </td>\n",
       "    <td style=\"padding: 0 0.5em 0 0.5em; text-align: left; border: none;\">\n",
       "        &lt;BIAS&gt;\n",
       "    </td>\n",
       "    \n",
       "</tr>\n",
       "        \n",
       "\n",
       "        </tbody>\n",
       "    </table>\n",
       "\n",
       "    \n",
       "\n",
       "\n",
       "\n",
       "    <p style=\"margin-bottom: 2.5em; margin-top:-0.5em;\">\n",
       "        <span style=\"background-color: hsl(120, 100.00%, 80.00%); opacity: 0.87\" title=\"0.281\">on</span><span style=\"opacity: 0.80\"> </span><span style=\"background-color: hsl(0, 100.00%, 96.27%); opacity: 0.81\" title=\"-0.026\">the</span><span style=\"opacity: 0.80\"> </span><span style=\"background-color: hsl(0, 100.00%, 96.71%); opacity: 0.81\" title=\"-0.021\">night</span><span style=\"opacity: 0.80\"> </span><span style=\"background-color: hsl(120, 100.00%, 88.77%); opacity: 0.83\" title=\"0.123\">following</span><span style=\"opacity: 0.80\"> </span><span style=\"background-color: hsl(0, 100.00%, 96.79%); opacity: 0.81\" title=\"-0.021\">1589</span><span style=\"opacity: 0.80\"> </span><span style=\"background-color: hsl(120, 100.00%, 83.76%); opacity: 0.86\" title=\"0.209\">april</span><span style=\"opacity: 0.80\"> </span><span style=\"background-color: hsl(0, 100.00%, 94.15%); opacity: 0.81\" title=\"-0.049\">15</span><span style=\"opacity: 0.80\"> </span><span style=\"background-color: hsl(120, 100.00%, 85.47%); opacity: 0.85\" title=\"0.178\">at</span><span style=\"opacity: 0.80\"> </span><span style=\"background-color: hsl(120, 100.00%, 60.00%); opacity: 1.00\" title=\"0.757\">12h</span><span style=\"opacity: 0.80\"> </span><span style=\"background-color: hsl(120, 100.00%, 76.36%); opacity: 0.89\" title=\"0.357\">5m</span><span style=\"opacity: 0.80\">, </span><span style=\"background-color: hsl(0, 100.00%, 96.27%); opacity: 0.81\" title=\"-0.026\">the</span><span style=\"opacity: 0.80\"> </span><span style=\"background-color: hsl(120, 100.00%, 88.22%); opacity: 0.83\" title=\"0.132\">planet</span><span style=\"opacity: 0.80\"> </span><span style=\"background-color: hsl(120, 100.00%, 93.93%); opacity: 0.81\" title=\"0.051\">was</span><span style=\"opacity: 0.80\"> </span><span style=\"background-color: hsl(120, 100.00%, 83.57%); opacity: 0.86\" title=\"0.212\">found</span><span style=\"opacity: 0.80\"> </span><span style=\"background-color: hsl(120, 100.00%, 85.47%); opacity: 0.85\" title=\"0.178\">at</span><span style=\"opacity: 0.80\"> 3° </span><span style=\"background-color: hsl(120, 100.00%, 91.85%); opacity: 0.82\" title=\"0.078\">58</span><span style=\"opacity: 0.80\">’ </span><span style=\"background-color: hsl(0, 100.00%, 97.29%); opacity: 0.80\" title=\"-0.016\">20</span><span style=\"opacity: 0.80\">“ </span><span style=\"background-color: hsl(120, 100.00%, 91.29%); opacity: 0.82\" title=\"0.086\">scorpio</span><span style=\"opacity: 0.80\">,</span><span style=\"background-color: hsl(120, 100.00%, 90.54%); opacity: 0.83\" title=\"0.097\">13</span><span style=\"opacity: 0.80\"> </span><span style=\"background-color: hsl(120, 100.00%, 89.35%); opacity: 0.83\" title=\"0.114\">with</span><span style=\"opacity: 0.80\"> </span><span style=\"background-color: hsl(120, 100.00%, 90.51%); opacity: 0.83\" title=\"0.097\">latitude</span><span style=\"opacity: 0.80\"> 1° 4’ </span><span style=\"background-color: hsl(0, 100.00%, 97.29%); opacity: 0.80\" title=\"-0.016\">20</span><span style=\"opacity: 0.80\">“ </span><span style=\"background-color: hsl(120, 100.00%, 96.18%); opacity: 0.81\" title=\"0.026\">north</span><span style=\"opacity: 0.80\">, </span><span style=\"background-color: hsl(120, 100.00%, 96.91%); opacity: 0.81\" title=\"0.020\">decreasing</span><span style=\"opacity: 0.80\">.</span>\n",
       "    </p>\n",
       "\n",
       "\n",
       "    \n",
       "\n",
       "    \n",
       "\n",
       "    \n",
       "\n",
       "    \n",
       "\n",
       "\n",
       "    \n",
       "\n",
       "    \n",
       "\n",
       "    \n",
       "\n",
       "    \n",
       "\n",
       "    \n",
       "\n",
       "    \n",
       "\n",
       "\n",
       "    \n",
       "\n",
       "    \n",
       "\n",
       "    \n",
       "\n",
       "    \n",
       "\n",
       "    \n",
       "\n",
       "    \n",
       "\n",
       "\n",
       "\n"
      ],
      "text/plain": [
       "<IPython.core.display.HTML object>"
      ]
     },
     "execution_count": 33,
     "metadata": {},
     "output_type": "execute_result"
    }
   ],
   "source": [
    "import eli5\n",
    "eli5.show_prediction(clf, X[idx_1[5]],vec=vec)"
   ]
  },
  {
   "cell_type": "code",
   "execution_count": 34,
   "metadata": {},
   "outputs": [
    {
     "data": {
      "text/html": [
       "\n",
       "    <style>\n",
       "    table.eli5-weights tr:hover {\n",
       "        filter: brightness(85%);\n",
       "    }\n",
       "</style>\n",
       "\n",
       "\n",
       "\n",
       "    \n",
       "\n",
       "    \n",
       "\n",
       "    \n",
       "\n",
       "    \n",
       "\n",
       "    \n",
       "\n",
       "    \n",
       "\n",
       "\n",
       "    \n",
       "\n",
       "    \n",
       "\n",
       "    \n",
       "\n",
       "    \n",
       "        \n",
       "\n",
       "    \n",
       "\n",
       "        \n",
       "\n",
       "        \n",
       "    \n",
       "        \n",
       "        \n",
       "    \n",
       "        <p style=\"margin-bottom: 0.5em; margin-top: 0em\">\n",
       "            <b>\n",
       "    \n",
       "        y=0\n",
       "    \n",
       "</b>\n",
       "\n",
       "    \n",
       "    (score <b>-0.128</b>)\n",
       "\n",
       "top features\n",
       "        </p>\n",
       "    \n",
       "    <table class=\"eli5-weights\"\n",
       "           style=\"border-collapse: collapse; border: none; margin-top: 0em; table-layout: auto; margin-bottom: 2em;\">\n",
       "        <thead>\n",
       "        <tr style=\"border: none;\">\n",
       "            \n",
       "                <th style=\"padding: 0 1em 0 0.5em; text-align: right; border: none;\" title=\"Feature contribution already accounts for the feature value (for linear models, contribution = weight * feature value), and the sum of feature contributions is equal to the score or, for some classifiers, to the probability. Feature values are shown if &quot;show_feature_values&quot; is True.\">\n",
       "                    Contribution<sup>?</sup>\n",
       "                </th>\n",
       "            \n",
       "            <th style=\"padding: 0 0.5em 0 0.5em; text-align: left; border: none;\">Feature</th>\n",
       "            \n",
       "        </tr>\n",
       "        </thead>\n",
       "        <tbody>\n",
       "        \n",
       "            <tr style=\"background-color: hsl(120, 100.00%, 80.00%); border: none;\">\n",
       "    <td style=\"padding: 0 1em 0 0.5em; text-align: right; border: none;\">\n",
       "        +2.140\n",
       "    </td>\n",
       "    <td style=\"padding: 0 0.5em 0 0.5em; text-align: left; border: none;\">\n",
       "        &lt;BIAS&gt;\n",
       "    </td>\n",
       "    \n",
       "</tr>\n",
       "        \n",
       "        \n",
       "\n",
       "        \n",
       "        \n",
       "            <tr style=\"background-color: hsl(0, 100.00%, 80.85%); border: none;\">\n",
       "    <td style=\"padding: 0 1em 0 0.5em; text-align: right; border: none;\">\n",
       "        -2.012\n",
       "    </td>\n",
       "    <td style=\"padding: 0 0.5em 0 0.5em; text-align: left; border: none;\">\n",
       "        Highlighted in text (sum)\n",
       "    </td>\n",
       "    \n",
       "</tr>\n",
       "        \n",
       "\n",
       "        </tbody>\n",
       "    </table>\n",
       "\n",
       "    \n",
       "\n",
       "\n",
       "\n",
       "    <p style=\"margin-bottom: 2.5em; margin-top:-0.5em;\">\n",
       "        <span style=\"background-color: hsl(120, 100.00%, 87.88%); opacity: 0.84\" title=\"0.088\">therefore</span><span style=\"opacity: 0.80\">, </span><span style=\"background-color: hsl(0, 100.00%, 78.68%); opacity: 0.88\" title=\"-0.196\">at</span><span style=\"opacity: 0.80\"> </span><span style=\"background-color: hsl(0, 100.00%, 70.58%); opacity: 0.93\" title=\"-0.311\">hven</span><span style=\"opacity: 0.80\"> </span><span style=\"background-color: hsl(120, 100.00%, 94.86%); opacity: 0.81\" title=\"0.026\">in</span><span style=\"opacity: 0.80\"> </span><span style=\"background-color: hsl(120, 100.00%, 94.52%); opacity: 0.81\" title=\"0.028\">the</span><span style=\"opacity: 0.80\"> </span><span style=\"background-color: hsl(0, 100.00%, 86.79%); opacity: 0.84\" title=\"-0.099\">year</span><span style=\"opacity: 0.80\"> </span><span style=\"background-color: hsl(120, 100.00%, 96.09%); opacity: 0.81\" title=\"0.017\">of</span><span style=\"opacity: 0.80\"> </span><span style=\"background-color: hsl(0, 100.00%, 75.64%); opacity: 0.90\" title=\"-0.237\">christ</span><span style=\"opacity: 0.80\"> </span><span style=\"background-color: hsl(0, 100.00%, 73.81%); opacity: 0.91\" title=\"-0.263\">139</span><span style=\"opacity: 0.80\"> </span><span style=\"background-color: hsl(120, 100.00%, 83.85%); opacity: 0.85\" title=\"0.132\">may</span><span style=\"opacity: 0.80\"> </span><span style=\"background-color: hsl(0, 100.00%, 95.64%); opacity: 0.81\" title=\"-0.020\">27</span><span style=\"opacity: 0.80\"> </span><span style=\"background-color: hsl(0, 100.00%, 78.68%); opacity: 0.88\" title=\"-0.196\">at</span><span style=\"opacity: 0.80\"> </span><span style=\"background-color: hsl(0, 100.00%, 60.00%); opacity: 1.00\" title=\"-0.482\">6h</span><span style=\"opacity: 0.80\"> </span><span style=\"background-color: hsl(120, 100.00%, 94.52%); opacity: 0.81\" title=\"0.028\">the</span><span style=\"opacity: 0.80\"> </span><span style=\"background-color: hsl(0, 100.00%, 89.72%); opacity: 0.83\" title=\"-0.069\">mean</span><span style=\"opacity: 0.80\"> </span><span style=\"background-color: hsl(0, 100.00%, 95.25%); opacity: 0.81\" title=\"-0.023\">motion</span><span style=\"opacity: 0.80\"> </span><span style=\"background-color: hsl(0, 100.00%, 91.08%); opacity: 0.82\" title=\"-0.056\">was</span><span style=\"opacity: 0.80\"> </span><span style=\"background-color: hsl(0, 100.00%, 82.16%); opacity: 0.86\" title=\"-0.152\">8s</span><span style=\"opacity: 0.80\"> </span><span style=\"background-color: hsl(0, 100.00%, 79.52%); opacity: 0.88\" title=\"-0.185\">11</span><span style=\"opacity: 0.80\">° </span><span style=\"background-color: hsl(0, 100.00%, 89.50%); opacity: 0.83\" title=\"-0.071\">18</span><span style=\"opacity: 0.80\">&#x27; </span><span style=\"background-color: hsl(120, 100.00%, 93.98%); opacity: 0.81\" title=\"0.032\">30</span><span style=\"opacity: 0.80\">&quot;.</span>\n",
       "    </p>\n",
       "\n",
       "\n",
       "    \n",
       "\n",
       "    \n",
       "\n",
       "    \n",
       "\n",
       "    \n",
       "\n",
       "\n",
       "    \n",
       "\n",
       "    \n",
       "\n",
       "    \n",
       "\n",
       "    \n",
       "\n",
       "    \n",
       "\n",
       "    \n",
       "\n",
       "\n",
       "    \n",
       "\n",
       "    \n",
       "\n",
       "    \n",
       "\n",
       "    \n",
       "\n",
       "    \n",
       "\n",
       "    \n",
       "\n",
       "\n",
       "\n"
      ],
      "text/plain": [
       "<IPython.core.display.HTML object>"
      ]
     },
     "execution_count": 34,
     "metadata": {},
     "output_type": "execute_result"
    }
   ],
   "source": [
    "eli5.show_prediction(clf, X[idx_1[7]],vec=vec)"
   ]
  },
  {
   "cell_type": "code",
   "execution_count": 35,
   "metadata": {},
   "outputs": [
    {
     "data": {
      "text/html": [
       "\n",
       "    <style>\n",
       "    table.eli5-weights tr:hover {\n",
       "        filter: brightness(85%);\n",
       "    }\n",
       "</style>\n",
       "\n",
       "\n",
       "\n",
       "    \n",
       "\n",
       "    \n",
       "\n",
       "    \n",
       "\n",
       "    \n",
       "\n",
       "    \n",
       "\n",
       "    \n",
       "\n",
       "\n",
       "    \n",
       "\n",
       "    \n",
       "\n",
       "    \n",
       "\n",
       "    \n",
       "        \n",
       "\n",
       "    \n",
       "\n",
       "        \n",
       "\n",
       "        \n",
       "    \n",
       "        \n",
       "        \n",
       "    \n",
       "        <p style=\"margin-bottom: 0.5em; margin-top: 0em\">\n",
       "            <b>\n",
       "    \n",
       "        y=0\n",
       "    \n",
       "</b>\n",
       "\n",
       "    \n",
       "    (score <b>-2.193</b>)\n",
       "\n",
       "top features\n",
       "        </p>\n",
       "    \n",
       "    <table class=\"eli5-weights\"\n",
       "           style=\"border-collapse: collapse; border: none; margin-top: 0em; table-layout: auto; margin-bottom: 2em;\">\n",
       "        <thead>\n",
       "        <tr style=\"border: none;\">\n",
       "            \n",
       "                <th style=\"padding: 0 1em 0 0.5em; text-align: right; border: none;\" title=\"Feature contribution already accounts for the feature value (for linear models, contribution = weight * feature value), and the sum of feature contributions is equal to the score or, for some classifiers, to the probability. Feature values are shown if &quot;show_feature_values&quot; is True.\">\n",
       "                    Contribution<sup>?</sup>\n",
       "                </th>\n",
       "            \n",
       "            <th style=\"padding: 0 0.5em 0 0.5em; text-align: left; border: none;\">Feature</th>\n",
       "            \n",
       "        </tr>\n",
       "        </thead>\n",
       "        <tbody>\n",
       "        \n",
       "            <tr style=\"background-color: hsl(120, 100.00%, 80.00%); border: none;\">\n",
       "    <td style=\"padding: 0 1em 0 0.5em; text-align: right; border: none;\">\n",
       "        +2.140\n",
       "    </td>\n",
       "    <td style=\"padding: 0 0.5em 0 0.5em; text-align: left; border: none;\">\n",
       "        &lt;BIAS&gt;\n",
       "    </td>\n",
       "    \n",
       "</tr>\n",
       "        \n",
       "            <tr style=\"background-color: hsl(120, 100.00%, 98.49%); border: none;\">\n",
       "    <td style=\"padding: 0 1em 0 0.5em; text-align: right; border: none;\">\n",
       "        +0.053\n",
       "    </td>\n",
       "    <td style=\"padding: 0 0.5em 0 0.5em; text-align: left; border: none;\">\n",
       "        Highlighted in text (sum)\n",
       "    </td>\n",
       "    \n",
       "</tr>\n",
       "        \n",
       "        \n",
       "\n",
       "        \n",
       "        \n",
       "\n",
       "        </tbody>\n",
       "    </table>\n",
       "\n",
       "    \n",
       "\n",
       "\n",
       "\n",
       "    <p style=\"margin-bottom: 2.5em; margin-top:-0.5em;\">\n",
       "        <span style=\"background-color: hsl(120, 100.00%, 90.44%); opacity: 0.83\" title=\"0.013\">so</span><span style=\"opacity: 0.80\"> </span><span style=\"background-color: hsl(120, 100.00%, 87.43%); opacity: 0.84\" title=\"0.019\">in</span><span style=\"opacity: 0.80\"> </span><span style=\"background-color: hsl(0, 100.00%, 89.79%); opacity: 0.83\" title=\"-0.014\">right</span><span style=\"opacity: 0.80\"> triangle pqs, </span><span style=\"background-color: hsl(0, 100.00%, 70.40%); opacity: 0.93\" title=\"-0.064\">as</span><span style=\"opacity: 0.80\"> </span><span style=\"background-color: hsl(120, 100.00%, 86.62%); opacity: 0.84\" title=\"0.021\">the</span><span style=\"opacity: 0.80\"> </span><span style=\"background-color: hsl(120, 100.00%, 83.28%); opacity: 0.86\" title=\"0.028\">whole</span><span style=\"opacity: 0.80\"> sine  </span><span style=\"background-color: hsl(120, 100.00%, 92.67%); opacity: 0.82\" title=\"0.009\">is</span><span style=\"opacity: 0.80\"> </span><span style=\"background-color: hsl(120, 100.00%, 93.36%); opacity: 0.82\" title=\"0.008\">to</span><span style=\"opacity: 0.80\"> </span><span style=\"background-color: hsl(120, 100.00%, 86.62%); opacity: 0.84\" title=\"0.021\">the</span><span style=\"opacity: 0.80\"> tangent </span><span style=\"background-color: hsl(120, 100.00%, 92.07%); opacity: 0.82\" title=\"0.010\">and</span><span style=\"opacity: 0.80\"> secant </span><span style=\"background-color: hsl(120, 100.00%, 90.45%); opacity: 0.83\" title=\"0.013\">of</span><span style=\"opacity: 0.80\"> </span><span style=\"background-color: hsl(120, 100.00%, 86.62%); opacity: 0.84\" title=\"0.021\">the</span><span style=\"opacity: 0.80\"> </span><span style=\"background-color: hsl(120, 100.00%, 77.08%); opacity: 0.89\" title=\"0.044\">angle</span><span style=\"opacity: 0.80\"> qps, 8° </span><span style=\"background-color: hsl(0, 100.00%, 86.60%); opacity: 0.84\" title=\"-0.021\">25</span><span style=\"opacity: 0.80\">&#x27; </span><span style=\"background-color: hsl(0, 100.00%, 60.00%); opacity: 1.00\" title=\"-0.098\">21</span><span style=\"opacity: 0.80\">&quot;, </span><span style=\"background-color: hsl(120, 100.00%, 90.44%); opacity: 0.83\" title=\"0.013\">so</span><span style=\"opacity: 0.80\"> </span><span style=\"background-color: hsl(120, 100.00%, 92.67%); opacity: 0.82\" title=\"0.009\">is</span><span style=\"opacity: 0.80\"> </span><span style=\"background-color: hsl(120, 100.00%, 86.62%); opacity: 0.84\" title=\"0.021\">the</span><span style=\"opacity: 0.80\"> known magnitude </span><span style=\"background-color: hsl(120, 100.00%, 90.45%); opacity: 0.83\" title=\"0.013\">of</span><span style=\"opacity: 0.80\"> pq </span><span style=\"background-color: hsl(120, 100.00%, 93.36%); opacity: 0.82\" title=\"0.008\">to</span><span style=\"opacity: 0.80\"> qs, 167, </span><span style=\"background-color: hsl(120, 100.00%, 92.07%); opacity: 0.82\" title=\"0.010\">and</span><span style=\"opacity: 0.80\"> sp, 1143, </span><span style=\"background-color: hsl(0, 100.00%, 80.51%); opacity: 0.87\" title=\"-0.035\">which</span><span style=\"opacity: 0.80\"> </span><span style=\"background-color: hsl(120, 100.00%, 92.67%); opacity: 0.82\" title=\"0.009\">is</span><span style=\"opacity: 0.80\"> cb.</span>\n",
       "    </p>\n",
       "\n",
       "\n",
       "    \n",
       "\n",
       "    \n",
       "\n",
       "    \n",
       "\n",
       "    \n",
       "\n",
       "\n",
       "    \n",
       "\n",
       "    \n",
       "\n",
       "    \n",
       "\n",
       "    \n",
       "\n",
       "    \n",
       "\n",
       "    \n",
       "\n",
       "\n",
       "    \n",
       "\n",
       "    \n",
       "\n",
       "    \n",
       "\n",
       "    \n",
       "\n",
       "    \n",
       "\n",
       "    \n",
       "\n",
       "\n",
       "\n"
      ],
      "text/plain": [
       "<IPython.core.display.HTML object>"
      ]
     },
     "execution_count": 35,
     "metadata": {},
     "output_type": "execute_result"
    }
   ],
   "source": [
    "eli5.show_prediction(clf, X[idx_0[0]],vec=vec)"
   ]
  },
  {
   "cell_type": "code",
   "execution_count": 36,
   "metadata": {},
   "outputs": [
    {
     "data": {
      "text/html": [
       "\n",
       "    <style>\n",
       "    table.eli5-weights tr:hover {\n",
       "        filter: brightness(85%);\n",
       "    }\n",
       "</style>\n",
       "\n",
       "\n",
       "\n",
       "    \n",
       "\n",
       "    \n",
       "\n",
       "    \n",
       "\n",
       "    \n",
       "\n",
       "    \n",
       "\n",
       "    \n",
       "\n",
       "\n",
       "    \n",
       "\n",
       "    \n",
       "\n",
       "    \n",
       "\n",
       "    \n",
       "        \n",
       "\n",
       "    \n",
       "\n",
       "        \n",
       "\n",
       "        \n",
       "    \n",
       "        \n",
       "        \n",
       "    \n",
       "        <p style=\"margin-bottom: 0.5em; margin-top: 0em\">\n",
       "            <b>\n",
       "    \n",
       "        y=0\n",
       "    \n",
       "</b>\n",
       "\n",
       "    \n",
       "    (score <b>-2.015</b>)\n",
       "\n",
       "top features\n",
       "        </p>\n",
       "    \n",
       "    <table class=\"eli5-weights\"\n",
       "           style=\"border-collapse: collapse; border: none; margin-top: 0em; table-layout: auto; margin-bottom: 2em;\">\n",
       "        <thead>\n",
       "        <tr style=\"border: none;\">\n",
       "            \n",
       "                <th style=\"padding: 0 1em 0 0.5em; text-align: right; border: none;\" title=\"Feature contribution already accounts for the feature value (for linear models, contribution = weight * feature value), and the sum of feature contributions is equal to the score or, for some classifiers, to the probability. Feature values are shown if &quot;show_feature_values&quot; is True.\">\n",
       "                    Contribution<sup>?</sup>\n",
       "                </th>\n",
       "            \n",
       "            <th style=\"padding: 0 0.5em 0 0.5em; text-align: left; border: none;\">Feature</th>\n",
       "            \n",
       "        </tr>\n",
       "        </thead>\n",
       "        <tbody>\n",
       "        \n",
       "            <tr style=\"background-color: hsl(120, 100.00%, 80.00%); border: none;\">\n",
       "    <td style=\"padding: 0 1em 0 0.5em; text-align: right; border: none;\">\n",
       "        +2.140\n",
       "    </td>\n",
       "    <td style=\"padding: 0 0.5em 0 0.5em; text-align: left; border: none;\">\n",
       "        &lt;BIAS&gt;\n",
       "    </td>\n",
       "    \n",
       "</tr>\n",
       "        \n",
       "        \n",
       "\n",
       "        \n",
       "        \n",
       "            <tr style=\"background-color: hsl(0, 100.00%, 97.26%); border: none;\">\n",
       "    <td style=\"padding: 0 1em 0 0.5em; text-align: right; border: none;\">\n",
       "        -0.125\n",
       "    </td>\n",
       "    <td style=\"padding: 0 0.5em 0 0.5em; text-align: left; border: none;\">\n",
       "        Highlighted in text (sum)\n",
       "    </td>\n",
       "    \n",
       "</tr>\n",
       "        \n",
       "\n",
       "        </tbody>\n",
       "    </table>\n",
       "\n",
       "    \n",
       "\n",
       "\n",
       "\n",
       "    <p style=\"margin-bottom: 2.5em; margin-top:-0.5em;\">\n",
       "        <span style=\"background-color: hsl(0, 100.00%, 60.00%); opacity: 1.00\" title=\"-0.130\">we</span><span style=\"opacity: 0.80\"> </span><span style=\"background-color: hsl(120, 100.00%, 90.60%); opacity: 0.83\" title=\"0.016\">would</span><span style=\"opacity: 0.80\"> instead </span><span style=\"background-color: hsl(120, 100.00%, 86.41%); opacity: 0.84\" title=\"0.028\">have</span><span style=\"opacity: 0.80\"> </span><span style=\"background-color: hsl(120, 100.00%, 93.62%); opacity: 0.81\" title=\"0.009\">to</span><span style=\"opacity: 0.80\"> </span><span style=\"background-color: hsl(0, 100.00%, 68.86%); opacity: 0.94\" title=\"-0.091\">make</span><span style=\"opacity: 0.80\"> such a </span><span style=\"background-color: hsl(120, 100.00%, 87.44%); opacity: 0.84\" title=\"0.025\">point</span><span style=\"opacity: 0.80\"> reciprocate up </span><span style=\"background-color: hsl(120, 100.00%, 92.38%); opacity: 0.82\" title=\"0.012\">and</span><span style=\"opacity: 0.80\"> </span><span style=\"background-color: hsl(0, 100.00%, 64.67%); opacity: 0.97\" title=\"-0.109\">down</span><span style=\"opacity: 0.80\"> along </span><span style=\"background-color: hsl(120, 100.00%, 87.16%); opacity: 0.84\" title=\"0.026\">the</span><span style=\"opacity: 0.80\"> </span><span style=\"background-color: hsl(120, 100.00%, 94.25%); opacity: 0.81\" title=\"0.008\">line</span><span style=\"opacity: 0.80\"> </span><span style=\"background-color: hsl(120, 100.00%, 90.83%); opacity: 0.82\" title=\"0.016\">of</span><span style=\"opacity: 0.80\"> </span><span style=\"background-color: hsl(120, 100.00%, 83.05%); opacity: 0.86\" title=\"0.038\">apsides</span><span style=\"opacity: 0.80\">—</span><span style=\"background-color: hsl(120, 100.00%, 92.44%); opacity: 0.82\" title=\"0.012\">if</span><span style=\"opacity: 0.80\">, </span><span style=\"background-color: hsl(120, 100.00%, 87.79%); opacity: 0.84\" title=\"0.024\">indeed</span><span style=\"opacity: 0.80\">, </span><span style=\"background-color: hsl(0, 100.00%, 60.00%); opacity: 1.00\" title=\"-0.130\">we</span><span style=\"opacity: 0.80\"> </span><span style=\"background-color: hsl(120, 100.00%, 77.77%); opacity: 0.89\" title=\"0.056\">could</span><span style=\"opacity: 0.80\"> keep </span><span style=\"background-color: hsl(120, 100.00%, 87.16%); opacity: 0.84\" title=\"0.026\">the</span><span style=\"opacity: 0.80\"> </span><span style=\"background-color: hsl(0, 100.00%, 97.25%); opacity: 0.80\" title=\"-0.003\">other</span><span style=\"opacity: 0.80\"> assumption </span><span style=\"background-color: hsl(120, 100.00%, 90.83%); opacity: 0.82\" title=\"0.016\">of</span><span style=\"opacity: 0.80\"> a circular </span><span style=\"background-color: hsl(120, 100.00%, 87.24%); opacity: 0.84\" title=\"0.025\">orbit</span><span style=\"opacity: 0.80\">.</span>\n",
       "    </p>\n",
       "\n",
       "\n",
       "    \n",
       "\n",
       "    \n",
       "\n",
       "    \n",
       "\n",
       "    \n",
       "\n",
       "\n",
       "    \n",
       "\n",
       "    \n",
       "\n",
       "    \n",
       "\n",
       "    \n",
       "\n",
       "    \n",
       "\n",
       "    \n",
       "\n",
       "\n",
       "    \n",
       "\n",
       "    \n",
       "\n",
       "    \n",
       "\n",
       "    \n",
       "\n",
       "    \n",
       "\n",
       "    \n",
       "\n",
       "\n",
       "\n"
      ],
      "text/plain": [
       "<IPython.core.display.HTML object>"
      ]
     },
     "execution_count": 36,
     "metadata": {},
     "output_type": "execute_result"
    }
   ],
   "source": [
    "eli5.show_prediction(clf, X[idx_0[1]],vec=vec)"
   ]
  },
  {
   "cell_type": "markdown",
   "metadata": {},
   "source": [
    "# Parameter tununed SGD"
   ]
  },
  {
   "cell_type": "code",
   "execution_count": 37,
   "metadata": {},
   "outputs": [],
   "source": [
    "param_grid_01= {\n",
    "    'clf__alpha': [1e-4, 1e-3, 1e-2, 1e-1, 1e0, 1e-1, 1e2, 1e3], # learning rate\n",
    "    'clf__max_iter': [1000], # number of epochs\n",
    "    'clf__penalty': ['l2'],\n",
    "    'clf__loss': ['hinge','log'],\n",
    "    'clf__n_jobs': [-1],\n",
    "     'clf__tol': [1e-4, 1e-3, 1e-2]\n",
    "}\n",
    "trial_05_01 = GridSearchCV(trial_05, param_grid=param_grid_01, cv=5, n_jobs=-1, verbose=2)"
   ]
  },
  {
   "cell_type": "code",
   "execution_count": 38,
   "metadata": {},
   "outputs": [
    {
     "name": "stdout",
     "output_type": "stream",
     "text": [
      "Fitting 5 folds for each of 48 candidates, totalling 240 fits\n"
     ]
    },
    {
     "name": "stderr",
     "output_type": "stream",
     "text": [
      "[Parallel(n_jobs=-1)]: Using backend LokyBackend with 8 concurrent workers.\n",
      "[Parallel(n_jobs=-1)]: Done  25 tasks      | elapsed:    3.8s\n",
      "[Parallel(n_jobs=-1)]: Done 146 tasks      | elapsed:   10.1s\n",
      "[Parallel(n_jobs=-1)]: Done 240 out of 240 | elapsed:   14.6s finished\n"
     ]
    },
    {
     "data": {
      "text/plain": [
       "GridSearchCV(cv=5, error_score='raise-deprecating',\n",
       "       estimator=Pipeline(memory=None,\n",
       "     steps=[('vect', TfidfVectorizer(analyzer='word', binary=False, decode_error='strict',\n",
       "        dtype=<class 'numpy.float64'>, encoding='utf-8', input='content',\n",
       "        lowercase=True, max_df=1.0, max_features=None, min_df=1,\n",
       "        ngram_range=(1, 1), norm='l2', preprocessor=None, smooth_idf=True,\n",
       "...m_state=None, shuffle=True, tol=None,\n",
       "       validation_fraction=0.1, verbose=0, warm_start=False))]),\n",
       "       fit_params=None, iid='warn', n_jobs=-1,\n",
       "       param_grid={'clf__alpha': [0.0001, 0.001, 0.01, 0.1, 1.0, 0.1, 100.0, 1000.0], 'clf__max_iter': [1000], 'clf__penalty': ['l2'], 'clf__loss': ['hinge', 'log'], 'clf__n_jobs': [-1], 'clf__tol': [0.0001, 0.001, 0.01]},\n",
       "       pre_dispatch='2*n_jobs', refit=True, return_train_score='warn',\n",
       "       scoring=None, verbose=2)"
      ]
     },
     "execution_count": 38,
     "metadata": {},
     "output_type": "execute_result"
    }
   ],
   "source": [
    "trial_05_01.fit(X_train,y_train)"
   ]
  },
  {
   "cell_type": "code",
   "execution_count": 39,
   "metadata": {},
   "outputs": [],
   "source": [
    "y_pred=trial_05_01.predict(X_test)"
   ]
  },
  {
   "cell_type": "code",
   "execution_count": 40,
   "metadata": {},
   "outputs": [
    {
     "name": "stdout",
     "output_type": "stream",
     "text": [
      "[[1656    3]\n",
      " [   7    9]]\n",
      "              precision    recall  f1-score   support\n",
      "\n",
      "           0       1.00      1.00      1.00      1659\n",
      "           1       0.75      0.56      0.64        16\n",
      "\n",
      "   micro avg       0.99      0.99      0.99      1675\n",
      "   macro avg       0.87      0.78      0.82      1675\n",
      "weighted avg       0.99      0.99      0.99      1675\n",
      "\n"
     ]
    }
   ],
   "source": [
    "cm=confusion_matrix(y_test,y_pred)\n",
    "print(cm)\n",
    "cr=classification_report(y_test,y_pred)\n",
    "print(cr)\n",
    "#Color_Confusion_Matrix(y, y_test, y_pred)"
   ]
  },
  {
   "cell_type": "code",
   "execution_count": 41,
   "metadata": {},
   "outputs": [
    {
     "name": "stdout",
     "output_type": "stream",
     "text": [
      "Fitting 5 folds for each of 48 candidates, totalling 240 fits\n"
     ]
    },
    {
     "name": "stderr",
     "output_type": "stream",
     "text": [
      "[Parallel(n_jobs=-1)]: Using backend LokyBackend with 8 concurrent workers.\n",
      "[Parallel(n_jobs=-1)]: Done  25 tasks      | elapsed:    1.6s\n",
      "[Parallel(n_jobs=-1)]: Done 146 tasks      | elapsed:    8.6s\n",
      "[Parallel(n_jobs=-1)]: Done 240 out of 240 | elapsed:   13.9s finished\n"
     ]
    },
    {
     "name": "stdout",
     "output_type": "stream",
     "text": [
      "Fitting 5 folds for each of 48 candidates, totalling 240 fits\n"
     ]
    },
    {
     "name": "stderr",
     "output_type": "stream",
     "text": [
      "[Parallel(n_jobs=-1)]: Using backend LokyBackend with 8 concurrent workers.\n",
      "[Parallel(n_jobs=-1)]: Done  25 tasks      | elapsed:    1.7s\n",
      "[Parallel(n_jobs=-1)]: Done 146 tasks      | elapsed:    8.6s\n",
      "[Parallel(n_jobs=-1)]: Done 240 out of 240 | elapsed:   13.8s finished\n"
     ]
    },
    {
     "name": "stdout",
     "output_type": "stream",
     "text": [
      "Fitting 5 folds for each of 48 candidates, totalling 240 fits\n"
     ]
    },
    {
     "name": "stderr",
     "output_type": "stream",
     "text": [
      "[Parallel(n_jobs=-1)]: Using backend LokyBackend with 8 concurrent workers.\n",
      "[Parallel(n_jobs=-1)]: Done  25 tasks      | elapsed:    1.6s\n",
      "[Parallel(n_jobs=-1)]: Done 146 tasks      | elapsed:    8.6s\n",
      "[Parallel(n_jobs=-1)]: Done 240 out of 240 | elapsed:   13.9s finished\n"
     ]
    },
    {
     "name": "stdout",
     "output_type": "stream",
     "text": [
      "Fitting 5 folds for each of 48 candidates, totalling 240 fits\n"
     ]
    },
    {
     "name": "stderr",
     "output_type": "stream",
     "text": [
      "[Parallel(n_jobs=-1)]: Using backend LokyBackend with 8 concurrent workers.\n",
      "[Parallel(n_jobs=-1)]: Done  25 tasks      | elapsed:    1.6s\n",
      "[Parallel(n_jobs=-1)]: Done 146 tasks      | elapsed:    8.5s\n",
      "[Parallel(n_jobs=-1)]: Done 240 out of 240 | elapsed:   13.9s finished\n"
     ]
    },
    {
     "name": "stdout",
     "output_type": "stream",
     "text": [
      "Fitting 5 folds for each of 48 candidates, totalling 240 fits\n"
     ]
    },
    {
     "name": "stderr",
     "output_type": "stream",
     "text": [
      "[Parallel(n_jobs=-1)]: Using backend LokyBackend with 8 concurrent workers.\n",
      "[Parallel(n_jobs=-1)]: Done  25 tasks      | elapsed:    1.8s\n",
      "[Parallel(n_jobs=-1)]: Done 146 tasks      | elapsed:    9.2s\n",
      "[Parallel(n_jobs=-1)]: Done 240 out of 240 | elapsed:   14.4s finished\n"
     ]
    },
    {
     "name": "stdout",
     "output_type": "stream",
     "text": [
      "Fitting 5 folds for each of 48 candidates, totalling 240 fits\n"
     ]
    },
    {
     "name": "stderr",
     "output_type": "stream",
     "text": [
      "[Parallel(n_jobs=-1)]: Using backend LokyBackend with 8 concurrent workers.\n",
      "[Parallel(n_jobs=-1)]: Done  25 tasks      | elapsed:    1.6s\n",
      "[Parallel(n_jobs=-1)]: Done 146 tasks      | elapsed:    9.2s\n",
      "[Parallel(n_jobs=-1)]: Done 240 out of 240 | elapsed:   14.4s finished\n"
     ]
    },
    {
     "name": "stdout",
     "output_type": "stream",
     "text": [
      "Fitting 5 folds for each of 48 candidates, totalling 240 fits\n"
     ]
    },
    {
     "name": "stderr",
     "output_type": "stream",
     "text": [
      "[Parallel(n_jobs=-1)]: Using backend LokyBackend with 8 concurrent workers.\n",
      "[Parallel(n_jobs=-1)]: Done  25 tasks      | elapsed:    1.6s\n",
      "[Parallel(n_jobs=-1)]: Done 146 tasks      | elapsed:    8.9s\n",
      "[Parallel(n_jobs=-1)]: Done 240 out of 240 | elapsed:   14.0s finished\n"
     ]
    },
    {
     "name": "stdout",
     "output_type": "stream",
     "text": [
      "Fitting 5 folds for each of 48 candidates, totalling 240 fits\n"
     ]
    },
    {
     "name": "stderr",
     "output_type": "stream",
     "text": [
      "[Parallel(n_jobs=-1)]: Using backend LokyBackend with 8 concurrent workers.\n",
      "[Parallel(n_jobs=-1)]: Done  25 tasks      | elapsed:    1.8s\n",
      "[Parallel(n_jobs=-1)]: Done 146 tasks      | elapsed:    8.7s\n",
      "[Parallel(n_jobs=-1)]: Done 240 out of 240 | elapsed:   14.1s finished\n"
     ]
    },
    {
     "name": "stdout",
     "output_type": "stream",
     "text": [
      "Fitting 5 folds for each of 48 candidates, totalling 240 fits\n"
     ]
    },
    {
     "name": "stderr",
     "output_type": "stream",
     "text": [
      "[Parallel(n_jobs=-1)]: Using backend LokyBackend with 8 concurrent workers.\n",
      "[Parallel(n_jobs=-1)]: Done  25 tasks      | elapsed:    1.7s\n",
      "[Parallel(n_jobs=-1)]: Done 146 tasks      | elapsed:    8.9s\n",
      "[Parallel(n_jobs=-1)]: Done 240 out of 240 | elapsed:   14.2s finished\n"
     ]
    },
    {
     "name": "stdout",
     "output_type": "stream",
     "text": [
      "Fitting 5 folds for each of 48 candidates, totalling 240 fits\n"
     ]
    },
    {
     "name": "stderr",
     "output_type": "stream",
     "text": [
      "[Parallel(n_jobs=-1)]: Using backend LokyBackend with 8 concurrent workers.\n",
      "[Parallel(n_jobs=-1)]: Done  25 tasks      | elapsed:    1.7s\n",
      "[Parallel(n_jobs=-1)]: Done 146 tasks      | elapsed:    9.0s\n",
      "[Parallel(n_jobs=-1)]: Done 240 out of 240 | elapsed:   14.5s finished\n"
     ]
    },
    {
     "name": "stdout",
     "output_type": "stream",
     "text": [
      "[0.99254844 0.99552906 0.99105812 0.99104478 0.99104478 0.99402985\n",
      " 0.98953662 0.9955157  0.99252616 0.99252616]\n",
      "Accuracy of : 0.993 ± 0.004\n"
     ]
    }
   ],
   "source": [
    "cross_validation_accuracy(trial_05_01,X,y,cv=10)"
   ]
  },
  {
   "cell_type": "code",
   "execution_count": 42,
   "metadata": {},
   "outputs": [
    {
     "name": "stdout",
     "output_type": "stream",
     "text": [
      "Fitting 5 folds for each of 48 candidates, totalling 240 fits\n"
     ]
    },
    {
     "name": "stderr",
     "output_type": "stream",
     "text": [
      "[Parallel(n_jobs=-1)]: Using backend LokyBackend with 8 concurrent workers.\n",
      "[Parallel(n_jobs=-1)]: Done  25 tasks      | elapsed:    1.7s\n",
      "[Parallel(n_jobs=-1)]: Done 146 tasks      | elapsed:    8.8s\n",
      "[Parallel(n_jobs=-1)]: Done 240 out of 240 | elapsed:   14.0s finished\n"
     ]
    },
    {
     "name": "stdout",
     "output_type": "stream",
     "text": [
      "Fitting 5 folds for each of 48 candidates, totalling 240 fits\n"
     ]
    },
    {
     "name": "stderr",
     "output_type": "stream",
     "text": [
      "[Parallel(n_jobs=-1)]: Using backend LokyBackend with 8 concurrent workers.\n",
      "[Parallel(n_jobs=-1)]: Done  25 tasks      | elapsed:    1.7s\n",
      "[Parallel(n_jobs=-1)]: Done 146 tasks      | elapsed:    9.4s\n",
      "[Parallel(n_jobs=-1)]: Done 240 out of 240 | elapsed:   14.8s finished\n"
     ]
    },
    {
     "name": "stdout",
     "output_type": "stream",
     "text": [
      "Fitting 5 folds for each of 48 candidates, totalling 240 fits\n"
     ]
    },
    {
     "name": "stderr",
     "output_type": "stream",
     "text": [
      "[Parallel(n_jobs=-1)]: Using backend LokyBackend with 8 concurrent workers.\n",
      "[Parallel(n_jobs=-1)]: Done  25 tasks      | elapsed:    1.6s\n",
      "[Parallel(n_jobs=-1)]: Done 146 tasks      | elapsed:    8.7s\n",
      "[Parallel(n_jobs=-1)]: Done 240 out of 240 | elapsed:   14.1s finished\n"
     ]
    },
    {
     "name": "stdout",
     "output_type": "stream",
     "text": [
      "Fitting 5 folds for each of 48 candidates, totalling 240 fits\n"
     ]
    },
    {
     "name": "stderr",
     "output_type": "stream",
     "text": [
      "[Parallel(n_jobs=-1)]: Using backend LokyBackend with 8 concurrent workers.\n",
      "[Parallel(n_jobs=-1)]: Done  25 tasks      | elapsed:    1.7s\n",
      "[Parallel(n_jobs=-1)]: Done 146 tasks      | elapsed:    8.6s\n",
      "[Parallel(n_jobs=-1)]: Done 240 out of 240 | elapsed:   13.7s finished\n"
     ]
    },
    {
     "name": "stdout",
     "output_type": "stream",
     "text": [
      "Fitting 5 folds for each of 48 candidates, totalling 240 fits\n"
     ]
    },
    {
     "name": "stderr",
     "output_type": "stream",
     "text": [
      "[Parallel(n_jobs=-1)]: Using backend LokyBackend with 8 concurrent workers.\n",
      "[Parallel(n_jobs=-1)]: Done  25 tasks      | elapsed:    1.6s\n",
      "[Parallel(n_jobs=-1)]: Done 146 tasks      | elapsed:    8.5s\n",
      "[Parallel(n_jobs=-1)]: Done 240 out of 240 | elapsed:   13.6s finished\n"
     ]
    },
    {
     "name": "stdout",
     "output_type": "stream",
     "text": [
      "Fitting 5 folds for each of 48 candidates, totalling 240 fits\n"
     ]
    },
    {
     "name": "stderr",
     "output_type": "stream",
     "text": [
      "[Parallel(n_jobs=-1)]: Using backend LokyBackend with 8 concurrent workers.\n",
      "[Parallel(n_jobs=-1)]: Done  25 tasks      | elapsed:    1.6s\n",
      "[Parallel(n_jobs=-1)]: Done 146 tasks      | elapsed:    8.7s\n",
      "[Parallel(n_jobs=-1)]: Done 240 out of 240 | elapsed:   13.7s finished\n"
     ]
    },
    {
     "name": "stdout",
     "output_type": "stream",
     "text": [
      "Fitting 5 folds for each of 48 candidates, totalling 240 fits\n"
     ]
    },
    {
     "name": "stderr",
     "output_type": "stream",
     "text": [
      "[Parallel(n_jobs=-1)]: Using backend LokyBackend with 8 concurrent workers.\n",
      "[Parallel(n_jobs=-1)]: Done  25 tasks      | elapsed:    1.7s\n",
      "[Parallel(n_jobs=-1)]: Done 146 tasks      | elapsed:    8.8s\n",
      "[Parallel(n_jobs=-1)]: Done 240 out of 240 | elapsed:   13.9s finished\n"
     ]
    },
    {
     "name": "stdout",
     "output_type": "stream",
     "text": [
      "Fitting 5 folds for each of 48 candidates, totalling 240 fits\n"
     ]
    },
    {
     "name": "stderr",
     "output_type": "stream",
     "text": [
      "[Parallel(n_jobs=-1)]: Using backend LokyBackend with 8 concurrent workers.\n",
      "[Parallel(n_jobs=-1)]: Done  25 tasks      | elapsed:    1.6s\n",
      "[Parallel(n_jobs=-1)]: Done 146 tasks      | elapsed:    8.5s\n",
      "[Parallel(n_jobs=-1)]: Done 240 out of 240 | elapsed:   13.7s finished\n"
     ]
    },
    {
     "name": "stdout",
     "output_type": "stream",
     "text": [
      "Fitting 5 folds for each of 48 candidates, totalling 240 fits\n"
     ]
    },
    {
     "name": "stderr",
     "output_type": "stream",
     "text": [
      "[Parallel(n_jobs=-1)]: Using backend LokyBackend with 8 concurrent workers.\n",
      "[Parallel(n_jobs=-1)]: Done  25 tasks      | elapsed:    1.6s\n",
      "[Parallel(n_jobs=-1)]: Done 146 tasks      | elapsed:    8.4s\n",
      "[Parallel(n_jobs=-1)]: Done 240 out of 240 | elapsed:   13.4s finished\n"
     ]
    },
    {
     "name": "stdout",
     "output_type": "stream",
     "text": [
      "Fitting 5 folds for each of 48 candidates, totalling 240 fits\n"
     ]
    },
    {
     "name": "stderr",
     "output_type": "stream",
     "text": [
      "[Parallel(n_jobs=-1)]: Using backend LokyBackend with 8 concurrent workers.\n",
      "[Parallel(n_jobs=-1)]: Done  25 tasks      | elapsed:    1.6s\n",
      "[Parallel(n_jobs=-1)]: Done 146 tasks      | elapsed:    8.5s\n",
      "[Parallel(n_jobs=-1)]: Done 240 out of 240 | elapsed:   13.8s finished\n"
     ]
    },
    {
     "name": "stdout",
     "output_type": "stream",
     "text": [
      "              precision    recall  f1-score   support\n",
      "\n",
      "           0       0.99      1.00      1.00      6623\n",
      "           1       0.76      0.51      0.61        76\n",
      "\n",
      "   micro avg       0.99      0.99      0.99      6699\n",
      "   macro avg       0.88      0.76      0.81      6699\n",
      "weighted avg       0.99      0.99      0.99      6699\n",
      "\n"
     ]
    }
   ],
   "source": [
    "y_pred = cross_val_predict(trial_05_01, X, y, cv=10)\n",
    "\n",
    "cr=classification_report(y,y_pred)\n",
    "print(cr)\n",
    "cm = confusion_matrix(y_pred,y)\n",
    "#Color_Confusion_Matrix(y=y,y_test=y,y_pred=y_pred)"
   ]
  },
  {
   "cell_type": "code",
   "execution_count": 43,
   "metadata": {},
   "outputs": [
    {
     "name": "stdout",
     "output_type": "stream",
     "text": [
      "[[6611   37]\n",
      " [  12   39]]\n"
     ]
    }
   ],
   "source": [
    "print(cm)"
   ]
  },
  {
   "cell_type": "code",
   "execution_count": 44,
   "metadata": {},
   "outputs": [
    {
     "data": {
      "text/html": [
       "<div>\n",
       "<style scoped>\n",
       "    .dataframe tbody tr th:only-of-type {\n",
       "        vertical-align: middle;\n",
       "    }\n",
       "\n",
       "    .dataframe tbody tr th {\n",
       "        vertical-align: top;\n",
       "    }\n",
       "\n",
       "    .dataframe thead th {\n",
       "        text-align: right;\n",
       "    }\n",
       "</style>\n",
       "<table border=\"1\" class=\"dataframe\">\n",
       "  <thead>\n",
       "    <tr style=\"text-align: right;\">\n",
       "      <th></th>\n",
       "      <th>sents</th>\n",
       "      <th>chapter</th>\n",
       "      <th>entities</th>\n",
       "      <th>chunks</th>\n",
       "      <th>label</th>\n",
       "    </tr>\n",
       "  </thead>\n",
       "  <tbody>\n",
       "    <tr>\n",
       "      <td>967</td>\n",
       "      <td>On 1580 November 12 at 10h 50m,1 they set Mars down at 8° 36’ 50” Gemini2 without mentioning the horizontal variations,  by which term I wish the diurnal parallaxes and the refractions to be understood in what follows.</td>\n",
       "      <td>10.0</td>\n",
       "      <td>[('1580 November 12', 'DATE'), ('10h 50m,1 they', 'TIME'), ('Mars', 'PLAN'), ('8° 36’ 50”', 'LONG'), ('diurnal', 'ASTR')]</td>\n",
       "      <td>[November, they, Mars, 8°, Gemini2, the horizontal variations, which term, I, the diurnal parallaxes, the refractions, what]</td>\n",
       "      <td>1</td>\n",
       "    </tr>\n",
       "    <tr>\n",
       "      <td>977</td>\n",
       "      <td>On 1582 December 28 at 11h 30m, they set Mars down at 16° 47’ Cancer by observation ^6.</td>\n",
       "      <td>10.0</td>\n",
       "      <td>[('1582 December 28', 'DATE'), ('11h 30m', 'TIME'), ('Mars', 'PLAN'), ('16° 47’ Cancer', 'LONG'), ('observation', 'ASTR')]</td>\n",
       "      <td>[December, 11h, they, Mars, 16° 47’ Cancer]</td>\n",
       "      <td>1</td>\n",
       "    </tr>\n",
       "    <tr>\n",
       "      <td>984</td>\n",
       "      <td>On 1585 January 31 at 12h 0m, Mars was placed at 21° 18’ 11” Leo ^8.</td>\n",
       "      <td>10.0</td>\n",
       "      <td>[('1585 January 31', 'DATE'), ('12h 0m', 'TIME'), ('Mars', 'PLAN'), ('21° 18’ 11” Leo', 'LONG')]</td>\n",
       "      <td>[January, 12h 0m, Mars]</td>\n",
       "      <td>1</td>\n",
       "    </tr>\n",
       "    <tr>\n",
       "      <td>992</td>\n",
       "      <td>On 1587 March 7 at 19h 10m they deduced the position of Mars from the observations, which was 25° 10’ 20” Virgo.</td>\n",
       "      <td>10.0</td>\n",
       "      <td>[('1587 March 7', 'DATE'), ('19h 10m', 'TIME'), ('Mars', 'PLAN'), ('25° 10’ 20” Virgo.', 'LONG')]</td>\n",
       "      <td>[March, they, the position, Mars, the observations, Virgo]</td>\n",
       "      <td>1</td>\n",
       "    </tr>\n",
       "    <tr>\n",
       "      <td>997</td>\n",
       "      <td>On 1589 April 15 at 12h 5m they established the position of Mars very carefully at 3° 58' 21\" Scorpio, and corrected for longitudinal parallax so as to make it 3° 57’ 11” ^10.</td>\n",
       "      <td>10.0</td>\n",
       "      <td>[('1589 April 15', 'DATE'), ('12h 5m', 'TIME'), ('Mars', 'PLAN'), ('3° 58\\' 21\" Scorpio', 'LONG'), ('longitudinal', 'ASTR'), ('parallax', 'ASTR'), ('3° 57’ 11”', 'LONG')]</td>\n",
       "      <td>[April, 12h, they, the position, Mars, 3° 58' 21\" Scorpio, longitudinal parallax, it]</td>\n",
       "      <td>1</td>\n",
       "    </tr>\n",
       "    <tr>\n",
       "      <td>...</td>\n",
       "      <td>...</td>\n",
       "      <td>...</td>\n",
       "      <td>...</td>\n",
       "      <td>...</td>\n",
       "      <td>...</td>\n",
       "    </tr>\n",
       "    <tr>\n",
       "      <td>6116</td>\n",
       "      <td>For while the opposition was on the night following January 30, the latitude observed on the 24th, preceding the opposition, was 4° 31', still increasing, while on January 31, 16 hours past opposition, the observed latitude was again 4° 31'.</td>\n",
       "      <td>65.0</td>\n",
       "      <td>[('opposition', 'ASTR'), ('January 30', 'DATE'), ('latitude', 'ASTR'), ('observed', 'ASTR'), ('opposition', 'ASTR'), (\"4° 31'\", 'LONG'), ('January 31', 'DATE'), ('16 hours', 'TIME'), ('opposition', 'ASTR'), ('observed', 'ASTR'), ('latitude', 'ASTR'), (\"4° ...</td>\n",
       "      <td>[the opposition, the night, January, the latitude, the 24th, the opposition, 4°, January, 16 hours past opposition, the observed latitude, 4°]</td>\n",
       "      <td>1</td>\n",
       "    </tr>\n",
       "    <tr>\n",
       "      <td>6538</td>\n",
       "      <td>Therefore, at Hven in the year of Christ 139 May 27 at 6h the mean motion was 8s 11° 18' 30\".</td>\n",
       "      <td>69.0</td>\n",
       "      <td>[('Hven', 'NAME'), ('May 27', 'DATE'), ('6h', 'TIME'), ('11° 18\\' 30\"', 'LONG')]</td>\n",
       "      <td>[Hven, the year, Christ, 139 May, the mean motion]</td>\n",
       "      <td>1</td>\n",
       "    </tr>\n",
       "    <tr>\n",
       "      <td>6541</td>\n",
       "      <td>But on  159944 May 27 at 6h Mars's mean motion was 0s 0° 47' 30\" from the equinoctial, while the distance of Cor Leonis from that point, as demonstrated by Brahe, was 4s 24° 15' 45\".</td>\n",
       "      <td>69.0</td>\n",
       "      <td>[('159944 May 27', 'DATE'), ('6h', 'TIME'), ('Mars', 'PLAN'), ('0° 47\\' 30\"', 'LONG'), ('Cor Leonis', 'STAR'), ('24° 15\\' 45\"', 'LONG')]</td>\n",
       "      <td>[159944 May, 6h Mars's mean motion, the distance, Cor Leonis, that point, Brahe, 24°]</td>\n",
       "      <td>1</td>\n",
       "    </tr>\n",
       "    <tr>\n",
       "      <td>6554</td>\n",
       "      <td>In the year of Christ 139 Pharmouthi 9, which is February 23, at sunset at 5h 30m, 3h 30m at Hven, the apparent position of the sun was computed as 3° 3' Pisces; therefore, the mean position was 0° 43' Pisces.</td>\n",
       "      <td>69.0</td>\n",
       "      <td>[('February 23', 'DATE'), ('5h 30m', 'TIME'), ('3h 30m', 'TIME'), ('Hven', 'NAME'), (\"3° 3' Pisces\", 'LONG'), (\"0° 43' Pisces.\", 'LONG')]</td>\n",
       "      <td>[the year, Christ 139 Pharmouthi, February, sunset, 30m, 30m, Hven, the apparent position, the sun, 3° 3' Pisces, the mean position, 0° 43' Pisces]</td>\n",
       "      <td>1</td>\n",
       "    </tr>\n",
       "    <tr>\n",
       "      <td>6557</td>\n",
       "      <td>But on 1599 February 23 at 3h 30m at Hven the mean motion of the sun was at 12° 47' 41\" Pisces, and Cor Leonis 24° 15’ 30\" Leo.</td>\n",
       "      <td>69.0</td>\n",
       "      <td>[('1599 February 23', 'DATE'), ('3h 30m', 'TIME'), ('Hven', 'NAME'), ('12° 47\\' 41\" Pisces', 'LONG'), ('Cor Leonis', 'STAR'), ('24° 15’ 30\" Leo.', 'LONG')]</td>\n",
       "      <td>[February, 30m, Hven, the mean motion, the sun, 41\" Pisces, Cor Leonis 24° 15’ 30\" Leo]</td>\n",
       "      <td>1</td>\n",
       "    </tr>\n",
       "  </tbody>\n",
       "</table>\n",
       "<p>76 rows × 5 columns</p>\n",
       "</div>"
      ],
      "text/plain": [
       "                                                                                                                                                                                                                                                  sents  \\\n",
       "967                          On 1580 November 12 at 10h 50m,1 they set Mars down at 8° 36’ 50” Gemini2 without mentioning the horizontal variations,  by which term I wish the diurnal parallaxes and the refractions to be understood in what follows.   \n",
       "977                                                                                                                                                             On 1582 December 28 at 11h 30m, they set Mars down at 16° 47’ Cancer by observation ^6.   \n",
       "984                                                                                                                                                                                On 1585 January 31 at 12h 0m, Mars was placed at 21° 18’ 11” Leo ^8.   \n",
       "992                                                                                                                                    On 1587 March 7 at 19h 10m they deduced the position of Mars from the observations, which was 25° 10’ 20” Virgo.   \n",
       "997                                                                     On 1589 April 15 at 12h 5m they established the position of Mars very carefully at 3° 58' 21\" Scorpio, and corrected for longitudinal parallax so as to make it 3° 57’ 11” ^10.   \n",
       "...                                                                                                                                                                                                                                                 ...   \n",
       "6116  For while the opposition was on the night following January 30, the latitude observed on the 24th, preceding the opposition, was 4° 31', still increasing, while on January 31, 16 hours past opposition, the observed latitude was again 4° 31'.   \n",
       "6538                                                                                                                                                      Therefore, at Hven in the year of Christ 139 May 27 at 6h the mean motion was 8s 11° 18' 30\".   \n",
       "6541                                                             But on  159944 May 27 at 6h Mars's mean motion was 0s 0° 47' 30\" from the equinoctial, while the distance of Cor Leonis from that point, as demonstrated by Brahe, was 4s 24° 15' 45\".   \n",
       "6554                                  In the year of Christ 139 Pharmouthi 9, which is February 23, at sunset at 5h 30m, 3h 30m at Hven, the apparent position of the sun was computed as 3° 3' Pisces; therefore, the mean position was 0° 43' Pisces.   \n",
       "6557                                                                                                                    But on 1599 February 23 at 3h 30m at Hven the mean motion of the sun was at 12° 47' 41\" Pisces, and Cor Leonis 24° 15’ 30\" Leo.   \n",
       "\n",
       "     chapter  \\\n",
       "967     10.0   \n",
       "977     10.0   \n",
       "984     10.0   \n",
       "992     10.0   \n",
       "997     10.0   \n",
       "...      ...   \n",
       "6116    65.0   \n",
       "6538    69.0   \n",
       "6541    69.0   \n",
       "6554    69.0   \n",
       "6557    69.0   \n",
       "\n",
       "                                                                                                                                                                                                                                                                 entities  \\\n",
       "967                                                                                                                                             [('1580 November 12', 'DATE'), ('10h 50m,1 they', 'TIME'), ('Mars', 'PLAN'), ('8° 36’ 50”', 'LONG'), ('diurnal', 'ASTR')]   \n",
       "977                                                                                                                                            [('1582 December 28', 'DATE'), ('11h 30m', 'TIME'), ('Mars', 'PLAN'), ('16° 47’ Cancer', 'LONG'), ('observation', 'ASTR')]   \n",
       "984                                                                                                                                                                      [('1585 January 31', 'DATE'), ('12h 0m', 'TIME'), ('Mars', 'PLAN'), ('21° 18’ 11” Leo', 'LONG')]   \n",
       "992                                                                                                                                                                     [('1587 March 7', 'DATE'), ('19h 10m', 'TIME'), ('Mars', 'PLAN'), ('25° 10’ 20” Virgo.', 'LONG')]   \n",
       "997                                                                                            [('1589 April 15', 'DATE'), ('12h 5m', 'TIME'), ('Mars', 'PLAN'), ('3° 58\\' 21\" Scorpio', 'LONG'), ('longitudinal', 'ASTR'), ('parallax', 'ASTR'), ('3° 57’ 11”', 'LONG')]   \n",
       "...                                                                                                                                                                                                                                                                   ...   \n",
       "6116  [('opposition', 'ASTR'), ('January 30', 'DATE'), ('latitude', 'ASTR'), ('observed', 'ASTR'), ('opposition', 'ASTR'), (\"4° 31'\", 'LONG'), ('January 31', 'DATE'), ('16 hours', 'TIME'), ('opposition', 'ASTR'), ('observed', 'ASTR'), ('latitude', 'ASTR'), (\"4° ...   \n",
       "6538                                                                                                                                                                                     [('Hven', 'NAME'), ('May 27', 'DATE'), ('6h', 'TIME'), ('11° 18\\' 30\"', 'LONG')]   \n",
       "6541                                                                                                                             [('159944 May 27', 'DATE'), ('6h', 'TIME'), ('Mars', 'PLAN'), ('0° 47\\' 30\"', 'LONG'), ('Cor Leonis', 'STAR'), ('24° 15\\' 45\"', 'LONG')]   \n",
       "6554                                                                                                                            [('February 23', 'DATE'), ('5h 30m', 'TIME'), ('3h 30m', 'TIME'), ('Hven', 'NAME'), (\"3° 3' Pisces\", 'LONG'), (\"0° 43' Pisces.\", 'LONG')]   \n",
       "6557                                                                                                          [('1599 February 23', 'DATE'), ('3h 30m', 'TIME'), ('Hven', 'NAME'), ('12° 47\\' 41\" Pisces', 'LONG'), ('Cor Leonis', 'STAR'), ('24° 15’ 30\" Leo.', 'LONG')]   \n",
       "\n",
       "                                                                                                                                                   chunks  \\\n",
       "967                          [November, they, Mars, 8°, Gemini2, the horizontal variations, which term, I, the diurnal parallaxes, the refractions, what]   \n",
       "977                                                                                                           [December, 11h, they, Mars, 16° 47’ Cancer]   \n",
       "984                                                                                                                               [January, 12h 0m, Mars]   \n",
       "992                                                                                            [March, they, the position, Mars, the observations, Virgo]   \n",
       "997                                                                 [April, 12h, they, the position, Mars, 3° 58' 21\" Scorpio, longitudinal parallax, it]   \n",
       "...                                                                                                                                                   ...   \n",
       "6116       [the opposition, the night, January, the latitude, the 24th, the opposition, 4°, January, 16 hours past opposition, the observed latitude, 4°]   \n",
       "6538                                                                                                   [Hven, the year, Christ, 139 May, the mean motion]   \n",
       "6541                                                                [159944 May, 6h Mars's mean motion, the distance, Cor Leonis, that point, Brahe, 24°]   \n",
       "6554  [the year, Christ 139 Pharmouthi, February, sunset, 30m, 30m, Hven, the apparent position, the sun, 3° 3' Pisces, the mean position, 0° 43' Pisces]   \n",
       "6557                                                              [February, 30m, Hven, the mean motion, the sun, 41\" Pisces, Cor Leonis 24° 15’ 30\" Leo]   \n",
       "\n",
       "      label  \n",
       "967       1  \n",
       "977       1  \n",
       "984       1  \n",
       "992       1  \n",
       "997       1  \n",
       "...     ...  \n",
       "6116      1  \n",
       "6538      1  \n",
       "6541      1  \n",
       "6554      1  \n",
       "6557      1  \n",
       "\n",
       "[76 rows x 5 columns]"
      ]
     },
     "execution_count": 44,
     "metadata": {},
     "output_type": "execute_result"
    }
   ],
   "source": [
    "df[df.label==1]"
   ]
  }
 ],
 "metadata": {
  "kernelspec": {
   "display_name": "Python 3",
   "language": "python",
   "name": "python3"
  },
  "language_info": {
   "codemirror_mode": {
    "name": "ipython",
    "version": 3
   },
   "file_extension": ".py",
   "mimetype": "text/x-python",
   "name": "python",
   "nbconvert_exporter": "python",
   "pygments_lexer": "ipython3",
   "version": "3.7.3"
  }
 },
 "nbformat": 4,
 "nbformat_minor": 4
}
