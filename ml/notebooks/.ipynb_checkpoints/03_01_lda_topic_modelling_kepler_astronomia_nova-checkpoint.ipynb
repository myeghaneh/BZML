{
 "cells": [
  {
   "cell_type": "markdown",
   "metadata": {},
   "source": [
    "# **Extracting Topic model by  \"Latent Dirichlet Allocation (LDA)\"  of kepler's book: \"Astronomia Nova** \"\n",
    "<font size=\"4\">\n",
    "This notebook demonstrates how to **extract topics **  from documents, corpus, book. We visualize the result in an informative way. Here, an unsupervised learning model LDA is used. **Topic modelling** is based on the basic assumptions that each corpus (book)  consists of different topics and each topic consists of a collection of words.\n",
    "<font/>\n"
   ]
  },
  {
   "cell_type": "markdown",
   "metadata": {},
   "source": [
    "### Import the required tools "
   ]
  },
  {
   "cell_type": "code",
   "execution_count": 1,
   "metadata": {
    "collapsed": true
   },
   "outputs": [
    {
     "name": "stderr",
     "output_type": "stream",
     "text": [
      "[nltk_data] Downloading package punkt to\n",
      "[nltk_data]     C:\\Users\\moha\\AppData\\Roaming\\nltk_data...\n",
      "[nltk_data]   Package punkt is already up-to-date!\n",
      "[nltk_data] Downloading package averaged_perceptron_tagger to\n",
      "[nltk_data]     C:\\Users\\moha\\AppData\\Roaming\\nltk_data...\n",
      "[nltk_data]   Package averaged_perceptron_tagger is already up-to-\n",
      "[nltk_data]       date!\n",
      "[nltk_data] Downloading package wordnet to\n",
      "[nltk_data]     C:\\Users\\moha\\AppData\\Roaming\\nltk_data...\n",
      "[nltk_data]   Package wordnet is already up-to-date!\n"
     ]
    }
   ],
   "source": [
    "import numpy as np\n",
    "import pandas as pd\n",
    "import scipy as sp\n",
    "import matplotlib.pyplot as plt\n",
    "import collections\n",
    "import os\n",
    "import logging\n",
    "import warnings\n",
    "from itertools import permutations\n",
    "from sklearn.metrics import make_scorer,confusion_matrix\n",
    "from sklearn.model_selection import cross_val_score\n",
    "from sklearn.model_selection import RandomizedSearchCV\n",
    "import sklearn_crfsuite  # to install this package in windows with pip please run: 'pip install sklearn-crfsuite'\n",
    "from sklearn_crfsuite import metrics, scorers\n",
    "import nltk\n",
    "from nltk.tokenize import word_tokenize\n",
    "from nltk.tag import pos_tag\n",
    "nltk.download('punkt')\n",
    "nltk.download('averaged_perceptron_tagger')\n",
    "import eli5  # to install this package in windows with conda please run: 'conda install -c conda-forge eli5'\n",
    "from nltk.stem.porter import PorterStemmer\n",
    "from nltk.stem import WordNetLemmatizer \n",
    "from gensim import corpora, models  # to install this package in windows with conda please run: 'models conda install -c conda-forge gensim'\n",
    "nltk.download('wordnet')\n",
    "%matplotlib inline\n",
    "warnings.filterwarnings(\"ignore\",category=DeprecationWarning)\n",
    "logging.basicConfig(format='%(asctime)s : %(levelname)s : %(message)s', level=logging.ERROR)"
   ]
  },
  {
   "cell_type": "markdown",
   "metadata": {},
   "source": [
    "Please download the data '01_df_v013.pickle' in github on  your local machine from  this directory: vorlesung2019/notebooks/yeghaneh/data"
   ]
  },
  {
   "cell_type": "code",
   "execution_count": 2,
   "metadata": {
    "collapsed": true
   },
   "outputs": [],
   "source": [
    "importVersion = '013'  # The  desired version pickle-file of your data (now we are working on version 013 of our data)"
   ]
  },
  {
   "cell_type": "code",
   "execution_count": 3,
   "metadata": {
    "collapsed": true
   },
   "outputs": [],
   "source": [
    "path = '../data/01_df_v{0}.pickle'.format(importVersion)  # Put the path of the data in your local machine here, consider the letter \"r\" before the path"
   ]
  },
  {
   "cell_type": "markdown",
   "metadata": {},
   "source": [
    "### Let's use data \"01_df_v013\" to build a NER system. \n",
    "<font size=\"3\">The data 01_df_v013 is annotated (labeled) data of english version of well-known kepler's book: New Astronomy (Latin: Astronomia nova). You can find that in the repository.\n",
    "             </font>\n"
   ]
  },
  {
   "cell_type": "markdown",
   "metadata": {},
   "source": [
    "## **Read the data** \n",
    "<font size=\"3\">The data  is saves as a pickle file. We read it as a pandas dataFrame. </font>"
   ]
  },
  {
   "cell_type": "code",
   "execution_count": 67,
   "metadata": {},
   "outputs": [],
   "source": [
    "dfAstroNova = pd.read_pickle(path)  # Put the path of the data in your local machine here, consider the letter \"r\" before the path"
   ]
  },
  {
   "cell_type": "markdown",
   "metadata": {},
   "source": [
    "<font size=\"4\"> Sort the data based on the chapters of the book \n",
    "</font>"
   ]
  },
  {
   "cell_type": "code",
   "execution_count": 68,
   "metadata": {},
   "outputs": [],
   "source": [
    "dfAstroNova['chapter'] = dfAstroNova.chapter.replace(\"appendix b\",np.nan).astype(float)  \n",
    "dfAstroNova.sort_values(by='chapter' , inplace=True)\n",
    "dfAstroNova.chapter.fillna('appendix b', inplace=True)"
   ]
  },
  {
   "cell_type": "code",
   "execution_count": 69,
   "metadata": {},
   "outputs": [
    {
     "data": {
      "text/plain": [
       "1605"
      ]
     },
     "execution_count": 69,
     "metadata": {},
     "output_type": "execute_result"
    }
   ],
   "source": [
    "len(dfAstroNova)   # Number of rows."
   ]
  },
  {
   "cell_type": "code",
   "execution_count": 70,
   "metadata": {},
   "outputs": [
    {
     "data": {
      "text/html": [
       "<div>\n",
       "<style scoped>\n",
       "    .dataframe tbody tr th:only-of-type {\n",
       "        vertical-align: middle;\n",
       "    }\n",
       "\n",
       "    .dataframe tbody tr th {\n",
       "        vertical-align: top;\n",
       "    }\n",
       "\n",
       "    .dataframe thead th {\n",
       "        text-align: right;\n",
       "    }\n",
       "</style>\n",
       "<table border=\"1\" class=\"dataframe\">\n",
       "  <thead>\n",
       "    <tr style=\"text-align: right;\">\n",
       "      <th></th>\n",
       "      <th>html</th>\n",
       "      <th>text</th>\n",
       "      <th>links</th>\n",
       "      <th>italic</th>\n",
       "      <th>chapter</th>\n",
       "      <th>graphic</th>\n",
       "      <th>table</th>\n",
       "      <th>marginal</th>\n",
       "      <th>sentences</th>\n",
       "      <th>tagged</th>\n",
       "    </tr>\n",
       "  </thead>\n",
       "  <tbody>\n",
       "    <tr>\n",
       "      <th>18</th>\n",
       "      <td>&lt;p&gt;&lt;span class=\"anchor\" id=\"bookmark0\"&gt;&lt;/span&gt;...</td>\n",
       "      <td>Chapter 1</td>\n",
       "      <td>[]</td>\n",
       "      <td>[]</td>\n",
       "      <td>1</td>\n",
       "      <td>[]</td>\n",
       "      <td>[]</td>\n",
       "      <td>[]</td>\n",
       "      <td>[Chapter 1]</td>\n",
       "      <td>[[(Chapter, None), (1, NUM)]]</td>\n",
       "    </tr>\n",
       "    <tr>\n",
       "      <th>34</th>\n",
       "      <td>&lt;p&gt;But before that, I shall prove in this firs...</td>\n",
       "      <td>But before that, I shall prove in this first p...</td>\n",
       "      <td>[]</td>\n",
       "      <td>[]</td>\n",
       "      <td>1</td>\n",
       "      <td>[]</td>\n",
       "      <td>[]</td>\n",
       "      <td>[]</td>\n",
       "      <td>[But before that, I shall prove in this first ...</td>\n",
       "      <td>[[(But, None), (before, None), (that, None), (...</td>\n",
       "    </tr>\n",
       "    <tr>\n",
       "      <th>33</th>\n",
       "      <td>&lt;p&gt;But since the sun's mean and apparent motio...</td>\n",
       "      <td>But since the sun's mean and apparent motions*...</td>\n",
       "      <td>[]</td>\n",
       "      <td>[Mysterium cosmographicum,]</td>\n",
       "      <td>1</td>\n",
       "      <td>[]</td>\n",
       "      <td>[]</td>\n",
       "      <td>[ Terms: * The sun's apparent position is that...</td>\n",
       "      <td>[But since the sun's mean and apparent motions...</td>\n",
       "      <td>[[(But, None), (since, None), (the, None), (su...</td>\n",
       "    </tr>\n",
       "    <tr>\n",
       "      <th>32</th>\n",
       "      <td>&lt;p&gt;Now the causes and measures of these inequa...</td>\n",
       "      <td>Now the causes and measures of these inequalit...</td>\n",
       "      <td>[]</td>\n",
       "      <td>[]</td>\n",
       "      <td>1</td>\n",
       "      <td>[]</td>\n",
       "      <td>[]</td>\n",
       "      <td>[ 5]</td>\n",
       "      <td>[Now the causes and measures of these inequali...</td>\n",
       "      <td>[[(Now, None), (the, None), (causes, None), (a...</td>\n",
       "    </tr>\n",
       "    <tr>\n",
       "      <th>30</th>\n",
       "      <td>&lt;p&gt;Again, however, it was noticed that these l...</td>\n",
       "      <td>Again, however, it was noticed that these loop...</td>\n",
       "      <td>[]</td>\n",
       "      <td>[]</td>\n",
       "      <td>1</td>\n",
       "      <td>[]</td>\n",
       "      <td>[]</td>\n",
       "      <td>[]</td>\n",
       "      <td>[Again, however, it was noticed that these loo...</td>\n",
       "      <td>[[(Again, None), (however, None), (it, None), ...</td>\n",
       "    </tr>\n",
       "  </tbody>\n",
       "</table>\n",
       "</div>"
      ],
      "text/plain": [
       "                                                 html  \\\n",
       "18  <p><span class=\"anchor\" id=\"bookmark0\"></span>...   \n",
       "34  <p>But before that, I shall prove in this firs...   \n",
       "33  <p>But since the sun's mean and apparent motio...   \n",
       "32  <p>Now the causes and measures of these inequa...   \n",
       "30  <p>Again, however, it was noticed that these l...   \n",
       "\n",
       "                                                 text links  \\\n",
       "18                                          Chapter 1    []   \n",
       "34  But before that, I shall prove in this first p...    []   \n",
       "33  But since the sun's mean and apparent motions*...    []   \n",
       "32  Now the causes and measures of these inequalit...    []   \n",
       "30  Again, however, it was noticed that these loop...    []   \n",
       "\n",
       "                         italic chapter graphic table  \\\n",
       "18                           []       1      []    []   \n",
       "34                           []       1      []    []   \n",
       "33  [Mysterium cosmographicum,]       1      []    []   \n",
       "32                           []       1      []    []   \n",
       "30                           []       1      []    []   \n",
       "\n",
       "                                             marginal  \\\n",
       "18                                                 []   \n",
       "34                                                 []   \n",
       "33  [ Terms: * The sun's apparent position is that...   \n",
       "32                                               [ 5]   \n",
       "30                                                 []   \n",
       "\n",
       "                                            sentences  \\\n",
       "18                                        [Chapter 1]   \n",
       "34  [But before that, I shall prove in this first ...   \n",
       "33  [But since the sun's mean and apparent motions...   \n",
       "32  [Now the causes and measures of these inequali...   \n",
       "30  [Again, however, it was noticed that these loo...   \n",
       "\n",
       "                                               tagged  \n",
       "18                      [[(Chapter, None), (1, NUM)]]  \n",
       "34  [[(But, None), (before, None), (that, None), (...  \n",
       "33  [[(But, None), (since, None), (the, None), (su...  \n",
       "32  [[(Now, None), (the, None), (causes, None), (a...  \n",
       "30  [[(Again, None), (however, None), (it, None), ...  "
      ]
     },
     "execution_count": 70,
     "metadata": {},
     "output_type": "execute_result"
    }
   ],
   "source": [
    "dfAstroNova.head(5)  "
   ]
  },
  {
   "cell_type": "code",
   "execution_count": 71,
   "metadata": {},
   "outputs": [
    {
     "data": {
      "text/html": [
       "<div>\n",
       "<style scoped>\n",
       "    .dataframe tbody tr th:only-of-type {\n",
       "        vertical-align: middle;\n",
       "    }\n",
       "\n",
       "    .dataframe tbody tr th {\n",
       "        vertical-align: top;\n",
       "    }\n",
       "\n",
       "    .dataframe thead th {\n",
       "        text-align: right;\n",
       "    }\n",
       "</style>\n",
       "<table border=\"1\" class=\"dataframe\">\n",
       "  <thead>\n",
       "    <tr style=\"text-align: right;\">\n",
       "      <th></th>\n",
       "      <th>html</th>\n",
       "      <th>text</th>\n",
       "      <th>links</th>\n",
       "      <th>italic</th>\n",
       "      <th>chapter</th>\n",
       "      <th>graphic</th>\n",
       "      <th>table</th>\n",
       "      <th>marginal</th>\n",
       "      <th>sentences</th>\n",
       "      <th>tagged</th>\n",
       "    </tr>\n",
       "  </thead>\n",
       "  <tbody>\n",
       "    <tr>\n",
       "      <th>594</th>\n",
       "      <td>&lt;p&gt;&lt;span class=\"anchor\" id=\"bookmark1\"&gt;&lt;/span&gt;...</td>\n",
       "      <td>Whether the motion from the sun, like its ligh...</td>\n",
       "      <td>[{'#fn1': 'άντίφραχις.↩'}]</td>\n",
       "      <td>[]</td>\n",
       "      <td>35</td>\n",
       "      <td>[]</td>\n",
       "      <td>[]</td>\n",
       "      <td>[]</td>\n",
       "      <td>[Whether the motion from the sun, like its lig...</td>\n",
       "      <td>[[(Whether, None), (the, None), (motion, None)...</td>\n",
       "    </tr>\n",
       "    <tr>\n",
       "      <th>596</th>\n",
       "      <td>&lt;p&gt;And concerning the first, it is worthy of c...</td>\n",
       "      <td>And concerning the first, it is worthy of cons...</td>\n",
       "      <td>[]</td>\n",
       "      <td>[]</td>\n",
       "      <td>35</td>\n",
       "      <td>[]</td>\n",
       "      <td>[]</td>\n",
       "      <td>[]</td>\n",
       "      <td>[And concerning the first, it is worthy of con...</td>\n",
       "      <td>[[(And, None), (concerning, None), (the, None)...</td>\n",
       "    </tr>\n",
       "    <tr>\n",
       "      <th>595</th>\n",
       "      <td>&lt;p&gt;This is a good time for me to take up the o...</td>\n",
       "      <td>This is a good time for me to take up the obje...</td>\n",
       "      <td>[]</td>\n",
       "      <td>[species]</td>\n",
       "      <td>35</td>\n",
       "      <td>[]</td>\n",
       "      <td>[]</td>\n",
       "      <td>[]</td>\n",
       "      <td>[This is a good time for me to take up the obj...</td>\n",
       "      <td>[[(This, None), (is, None), (a, None), (good, ...</td>\n",
       "    </tr>\n",
       "    <tr>\n",
       "      <th>598</th>\n",
       "      <td>&lt;p&gt;But it is answered, first, that the analogy...</td>\n",
       "      <td>But it is answered, first, that the analogy be...</td>\n",
       "      <td>[]</td>\n",
       "      <td>[]</td>\n",
       "      <td>35</td>\n",
       "      <td>[]</td>\n",
       "      <td>[]</td>\n",
       "      <td>[]</td>\n",
       "      <td>[But it is answered, first, that the analogy b...</td>\n",
       "      <td>[[(But, None), (it, None), (is, None), (answer...</td>\n",
       "    </tr>\n",
       "    <tr>\n",
       "      <th>599</th>\n",
       "      <td>&lt;p&gt;On this account I would nearly separate lig...</td>\n",
       "      <td>On this account I would nearly separate light ...</td>\n",
       "      <td>[]</td>\n",
       "      <td>[]</td>\n",
       "      <td>35</td>\n",
       "      <td>[]</td>\n",
       "      <td>[]</td>\n",
       "      <td>[]</td>\n",
       "      <td>[On this account I would nearly separate light...</td>\n",
       "      <td>[[(On, None), (this, None), (account, None), (...</td>\n",
       "    </tr>\n",
       "  </tbody>\n",
       "</table>\n",
       "</div>"
      ],
      "text/plain": [
       "                                                  html  \\\n",
       "594  <p><span class=\"anchor\" id=\"bookmark1\"></span>...   \n",
       "596  <p>And concerning the first, it is worthy of c...   \n",
       "595  <p>This is a good time for me to take up the o...   \n",
       "598  <p>But it is answered, first, that the analogy...   \n",
       "599  <p>On this account I would nearly separate lig...   \n",
       "\n",
       "                                                  text  \\\n",
       "594  Whether the motion from the sun, like its ligh...   \n",
       "596  And concerning the first, it is worthy of cons...   \n",
       "595  This is a good time for me to take up the obje...   \n",
       "598  But it is answered, first, that the analogy be...   \n",
       "599  On this account I would nearly separate light ...   \n",
       "\n",
       "                          links     italic chapter graphic table marginal  \\\n",
       "594  [{'#fn1': 'άντίφραχις.↩'}]         []      35      []    []       []   \n",
       "596                          []         []      35      []    []       []   \n",
       "595                          []  [species]      35      []    []       []   \n",
       "598                          []         []      35      []    []       []   \n",
       "599                          []         []      35      []    []       []   \n",
       "\n",
       "                                             sentences  \\\n",
       "594  [Whether the motion from the sun, like its lig...   \n",
       "596  [And concerning the first, it is worthy of con...   \n",
       "595  [This is a good time for me to take up the obj...   \n",
       "598  [But it is answered, first, that the analogy b...   \n",
       "599  [On this account I would nearly separate light...   \n",
       "\n",
       "                                                tagged  \n",
       "594  [[(Whether, None), (the, None), (motion, None)...  \n",
       "596  [[(And, None), (concerning, None), (the, None)...  \n",
       "595  [[(This, None), (is, None), (a, None), (good, ...  \n",
       "598  [[(But, None), (it, None), (is, None), (answer...  \n",
       "599  [[(On, None), (this, None), (account, None), (...  "
      ]
     },
     "execution_count": 71,
     "metadata": {},
     "output_type": "execute_result"
    }
   ],
   "source": [
    "dfAstroNova[740:745]"
   ]
  },
  {
   "cell_type": "code",
   "execution_count": 72,
   "metadata": {},
   "outputs": [
    {
     "data": {
      "text/html": [
       "<div>\n",
       "<style scoped>\n",
       "    .dataframe tbody tr th:only-of-type {\n",
       "        vertical-align: middle;\n",
       "    }\n",
       "\n",
       "    .dataframe tbody tr th {\n",
       "        vertical-align: top;\n",
       "    }\n",
       "\n",
       "    .dataframe thead th {\n",
       "        text-align: right;\n",
       "    }\n",
       "</style>\n",
       "<table border=\"1\" class=\"dataframe\">\n",
       "  <thead>\n",
       "    <tr style=\"text-align: right;\">\n",
       "      <th></th>\n",
       "      <th>html</th>\n",
       "      <th>text</th>\n",
       "      <th>links</th>\n",
       "      <th>italic</th>\n",
       "      <th>chapter</th>\n",
       "      <th>graphic</th>\n",
       "      <th>table</th>\n",
       "      <th>marginal</th>\n",
       "      <th>sentences</th>\n",
       "      <th>tagged</th>\n",
       "    </tr>\n",
       "  </thead>\n",
       "  <tbody>\n",
       "    <tr>\n",
       "      <th>1568</th>\n",
       "      <td>&lt;p&gt;{marginal: The words of the observation hav...</td>\n",
       "      <td>Consider whether the meaning could be this: t...</td>\n",
       "      <td>[]</td>\n",
       "      <td>[]</td>\n",
       "      <td>70</td>\n",
       "      <td>[]</td>\n",
       "      <td>[]</td>\n",
       "      <td>[ The words of the observation have their comm...</td>\n",
       "      <td>[Consider whether the meaning could be this: t...</td>\n",
       "      <td>[[(Consider, None), (whether, None), (the, Non...</td>\n",
       "    </tr>\n",
       "    <tr>\n",
       "      <th>1569</th>\n",
       "      <td>&lt;p&gt;This interpretation is furthered by the obs...</td>\n",
       "      <td>This interpretation is furthered by the observ...</td>\n",
       "      <td>[]</td>\n",
       "      <td>[]</td>\n",
       "      <td>70</td>\n",
       "      <td>[]</td>\n",
       "      <td>[]</td>\n",
       "      <td>[]</td>\n",
       "      <td>[This interpretation is furthered by the obser...</td>\n",
       "      <td>[[(This, None), (interpretation, None), (is, N...</td>\n",
       "    </tr>\n",
       "    <tr>\n",
       "      <th>0</th>\n",
       "      <td>&lt;p&gt;Appendix B&lt;/p&gt;</td>\n",
       "      <td>Appendix B</td>\n",
       "      <td>[]</td>\n",
       "      <td>[]</td>\n",
       "      <td>appendix b</td>\n",
       "      <td>[]</td>\n",
       "      <td>[]</td>\n",
       "      <td>[]</td>\n",
       "      <td>[Appendix B]</td>\n",
       "      <td>[[(Appendix, None), (B, None)]]</td>\n",
       "    </tr>\n",
       "    <tr>\n",
       "      <th>1</th>\n",
       "      <td>&lt;p&gt;&lt;span class=\"anchor\" id=\"bookmark0\"&gt;&lt;/span&gt;...</td>\n",
       "      <td>On the Table of Oppositions in Chapter 15</td>\n",
       "      <td>[]</td>\n",
       "      <td>[]</td>\n",
       "      <td>appendix b</td>\n",
       "      <td>[]</td>\n",
       "      <td>[]</td>\n",
       "      <td>[]</td>\n",
       "      <td>[On the Table of Oppositions in Chapter 15]</td>\n",
       "      <td>[[(On, None), (the, None), (Table, None), (of,...</td>\n",
       "    </tr>\n",
       "    <tr>\n",
       "      <th>2</th>\n",
       "      <td>&lt;p&gt;by Yaakov Zik &lt;span style=\"font-variant: sm...</td>\n",
       "      <td>by Yaakov Zik Table i:</td>\n",
       "      <td>[]</td>\n",
       "      <td>[]</td>\n",
       "      <td>appendix b</td>\n",
       "      <td>[]</td>\n",
       "      <td>[]</td>\n",
       "      <td>[]</td>\n",
       "      <td>[by Yaakov Zik Table i:]</td>\n",
       "      <td>[[(by, None), (Yaakov, None), (Zik, None), (Ta...</td>\n",
       "    </tr>\n",
       "  </tbody>\n",
       "</table>\n",
       "</div>"
      ],
      "text/plain": [
       "                                                   html  \\\n",
       "1568  <p>{marginal: The words of the observation hav...   \n",
       "1569  <p>This interpretation is furthered by the obs...   \n",
       "0                                     <p>Appendix B</p>   \n",
       "1     <p><span class=\"anchor\" id=\"bookmark0\"></span>...   \n",
       "2     <p>by Yaakov Zik <span style=\"font-variant: sm...   \n",
       "\n",
       "                                                   text links italic  \\\n",
       "1568   Consider whether the meaning could be this: t...    []     []   \n",
       "1569  This interpretation is furthered by the observ...    []     []   \n",
       "0                                            Appendix B    []     []   \n",
       "1             On the Table of Oppositions in Chapter 15    []     []   \n",
       "2                                by Yaakov Zik Table i:    []     []   \n",
       "\n",
       "         chapter graphic table  \\\n",
       "1568          70      []    []   \n",
       "1569          70      []    []   \n",
       "0     appendix b      []    []   \n",
       "1     appendix b      []    []   \n",
       "2     appendix b      []    []   \n",
       "\n",
       "                                               marginal  \\\n",
       "1568  [ The words of the observation have their comm...   \n",
       "1569                                                 []   \n",
       "0                                                    []   \n",
       "1                                                    []   \n",
       "2                                                    []   \n",
       "\n",
       "                                              sentences  \\\n",
       "1568  [Consider whether the meaning could be this: t...   \n",
       "1569  [This interpretation is furthered by the obser...   \n",
       "0                                          [Appendix B]   \n",
       "1           [On the Table of Oppositions in Chapter 15]   \n",
       "2                              [by Yaakov Zik Table i:]   \n",
       "\n",
       "                                                 tagged  \n",
       "1568  [[(Consider, None), (whether, None), (the, Non...  \n",
       "1569  [[(This, None), (interpretation, None), (is, N...  \n",
       "0                       [[(Appendix, None), (B, None)]]  \n",
       "1     [[(On, None), (the, None), (Table, None), (of,...  \n",
       "2     [[(by, None), (Yaakov, None), (Zik, None), (Ta...  "
      ]
     },
     "execution_count": 72,
     "metadata": {},
     "output_type": "execute_result"
    }
   ],
   "source": [
    "dfAstroNova[1585:1590]"
   ]
  },
  {
   "cell_type": "code",
   "execution_count": 73,
   "metadata": {},
   "outputs": [
    {
     "data": {
      "text/html": [
       "<div>\n",
       "<style scoped>\n",
       "    .dataframe tbody tr th:only-of-type {\n",
       "        vertical-align: middle;\n",
       "    }\n",
       "\n",
       "    .dataframe tbody tr th {\n",
       "        vertical-align: top;\n",
       "    }\n",
       "\n",
       "    .dataframe thead th {\n",
       "        text-align: right;\n",
       "    }\n",
       "</style>\n",
       "<table border=\"1\" class=\"dataframe\">\n",
       "  <thead>\n",
       "    <tr style=\"text-align: right;\">\n",
       "      <th></th>\n",
       "      <th>html</th>\n",
       "      <th>text</th>\n",
       "      <th>links</th>\n",
       "      <th>italic</th>\n",
       "      <th>chapter</th>\n",
       "      <th>graphic</th>\n",
       "      <th>table</th>\n",
       "      <th>marginal</th>\n",
       "      <th>sentences</th>\n",
       "      <th>tagged</th>\n",
       "    </tr>\n",
       "  </thead>\n",
       "  <tbody>\n",
       "    <tr>\n",
       "      <th>13</th>\n",
       "      <td>&lt;p&gt;{table: appendix B t 2}&lt;/p&gt;</td>\n",
       "      <td></td>\n",
       "      <td>[]</td>\n",
       "      <td>[]</td>\n",
       "      <td>appendix b</td>\n",
       "      <td>[]</td>\n",
       "      <td>[ appendix B t 2]</td>\n",
       "      <td>[]</td>\n",
       "      <td>[]</td>\n",
       "      <td>[]</td>\n",
       "    </tr>\n",
       "    <tr>\n",
       "      <th>14</th>\n",
       "      <td>&lt;p&gt;Kepler's table, for comparison {table: appe...</td>\n",
       "      <td>Kepler's table, for comparison</td>\n",
       "      <td>[]</td>\n",
       "      <td>[]</td>\n",
       "      <td>appendix b</td>\n",
       "      <td>[]</td>\n",
       "      <td>[ appendix B t 3]</td>\n",
       "      <td>[]</td>\n",
       "      <td>[Kepler's table, for comparison]</td>\n",
       "      <td>[[(Kepler, None), (s, None), (table, None), (f...</td>\n",
       "    </tr>\n",
       "    <tr>\n",
       "      <th>15</th>\n",
       "      <td>&lt;p&gt;Mars from Earth to be a little greater than...</td>\n",
       "      <td>Mars from Earth to be a little greater than ha...</td>\n",
       "      <td>[{'#fn6': '\n",
       "Kepler's observations yield topoce...</td>\n",
       "      <td>[]</td>\n",
       "      <td>appendix b</td>\n",
       "      <td>[]</td>\n",
       "      <td>[]</td>\n",
       "      <td>[]</td>\n",
       "      <td>[Mars from Earth to be a little greater than h...</td>\n",
       "      <td>[[(Mars, None), (from, None), (Earth, None), (...</td>\n",
       "    </tr>\n",
       "    <tr>\n",
       "      <th>16</th>\n",
       "      <td>&lt;p&gt;&lt;img height=\"300\" src=\"media/image1.jpeg\" w...</td>\n",
       "      <td>As shown in Figure 2B, the Sun is assumed to ...</td>\n",
       "      <td>[]</td>\n",
       "      <td>[]</td>\n",
       "      <td>appendix b</td>\n",
       "      <td>[ appendix b gr 1]</td>\n",
       "      <td>[]</td>\n",
       "      <td>[]</td>\n",
       "      <td>[As shown in Figure 2B, the Sun is assumed to ...</td>\n",
       "      <td>[[(As, None), (shown, None), (in, None), (Figu...</td>\n",
       "    </tr>\n",
       "    <tr>\n",
       "      <th>17</th>\n",
       "      <td>&lt;p&gt;The Sun moved westward and its longitude de...</td>\n",
       "      <td>The Sun moved westward and its longitude decre...</td>\n",
       "      <td>[]</td>\n",
       "      <td>[4&lt;sup&gt;h&lt;/sup&gt; 23&lt;sup&gt;m &lt;/sup&gt;]</td>\n",
       "      <td>appendix b</td>\n",
       "      <td>[]</td>\n",
       "      <td>[]</td>\n",
       "      <td>[]</td>\n",
       "      <td>[The Sun moved westward and its longitude decr...</td>\n",
       "      <td>[[(The, None), (Sun, None), (moved, None), (we...</td>\n",
       "    </tr>\n",
       "  </tbody>\n",
       "</table>\n",
       "</div>"
      ],
      "text/plain": [
       "                                                 html  \\\n",
       "13                     <p>{table: appendix B t 2}</p>   \n",
       "14  <p>Kepler's table, for comparison {table: appe...   \n",
       "15  <p>Mars from Earth to be a little greater than...   \n",
       "16  <p><img height=\"300\" src=\"media/image1.jpeg\" w...   \n",
       "17  <p>The Sun moved westward and its longitude de...   \n",
       "\n",
       "                                                 text  \\\n",
       "13                                                      \n",
       "14                    Kepler's table, for comparison    \n",
       "15  Mars from Earth to be a little greater than ha...   \n",
       "16   As shown in Figure 2B, the Sun is assumed to ...   \n",
       "17  The Sun moved westward and its longitude decre...   \n",
       "\n",
       "                                                links  \\\n",
       "13                                                 []   \n",
       "14                                                 []   \n",
       "15  [{'#fn6': '\n",
       "Kepler's observations yield topoce...   \n",
       "16                                                 []   \n",
       "17                                                 []   \n",
       "\n",
       "                             italic     chapter             graphic  \\\n",
       "13                               []  appendix b                  []   \n",
       "14                               []  appendix b                  []   \n",
       "15                               []  appendix b                  []   \n",
       "16                               []  appendix b  [ appendix b gr 1]   \n",
       "17  [4<sup>h</sup> 23<sup>m </sup>]  appendix b                  []   \n",
       "\n",
       "                table marginal  \\\n",
       "13  [ appendix B t 2]       []   \n",
       "14  [ appendix B t 3]       []   \n",
       "15                 []       []   \n",
       "16                 []       []   \n",
       "17                 []       []   \n",
       "\n",
       "                                            sentences  \\\n",
       "13                                                 []   \n",
       "14                   [Kepler's table, for comparison]   \n",
       "15  [Mars from Earth to be a little greater than h...   \n",
       "16  [As shown in Figure 2B, the Sun is assumed to ...   \n",
       "17  [The Sun moved westward and its longitude decr...   \n",
       "\n",
       "                                               tagged  \n",
       "13                                                 []  \n",
       "14  [[(Kepler, None), (s, None), (table, None), (f...  \n",
       "15  [[(Mars, None), (from, None), (Earth, None), (...  \n",
       "16  [[(As, None), (shown, None), (in, None), (Figu...  \n",
       "17  [[(The, None), (Sun, None), (moved, None), (we...  "
      ]
     },
     "execution_count": 73,
     "metadata": {},
     "output_type": "execute_result"
    }
   ],
   "source": [
    "dfAstroNova.tail(5)"
   ]
  },
  {
   "cell_type": "markdown",
   "metadata": {},
   "source": [
    "## **Primary Data Exploration**"
   ]
  },
  {
   "cell_type": "code",
   "execution_count": 74,
   "metadata": {},
   "outputs": [
    {
     "data": {
      "text/plain": [
       "\"The time is measured from midnight; Gregorian dates are obtained by adding 10 days to Kepler's dates. The dates are given in old style.\""
      ]
     },
     "execution_count": 74,
     "metadata": {},
     "output_type": "execute_result"
    }
   ],
   "source": [
    "dfAstroNova[\"text\"][5]    # 5th row of the data in the format of text "
   ]
  },
  {
   "cell_type": "code",
   "execution_count": 75,
   "metadata": {},
   "outputs": [
    {
     "data": {
      "text/plain": [
       "[[('The', 'None'),\n",
       "  ('time', 'None'),\n",
       "  ('is', 'None'),\n",
       "  ('measured', 'None'),\n",
       "  ('from', 'None'),\n",
       "  ('midnight', 'None'),\n",
       "  ('Gregorian', 'None'),\n",
       "  ('dates', 'None'),\n",
       "  ('are', 'None'),\n",
       "  ('obtained', 'None'),\n",
       "  ('by', 'None'),\n",
       "  ('adding', 'None'),\n",
       "  ('10', 'NUM'),\n",
       "  ('days', 'None'),\n",
       "  ('to', 'None'),\n",
       "  ('Kepler', 'None'),\n",
       "  ('s', 'None'),\n",
       "  ('dates', 'None')],\n",
       " [('The', 'None'),\n",
       "  ('dates', 'None'),\n",
       "  ('are', 'None'),\n",
       "  ('given', 'None'),\n",
       "  ('in', 'None'),\n",
       "  ('old', 'None'),\n",
       "  ('style', 'None')]]"
      ]
     },
     "execution_count": 75,
     "metadata": {},
     "output_type": "execute_result"
    }
   ],
   "source": [
    "dfAstroNova[\"tagged\"][5] # 5th row of the data in a format (token, label). A list of lists of tuples! later position tags of the token will be added to each tuple. the tokens are chosen before by some rules."
   ]
  },
  {
   "cell_type": "code",
   "execution_count": 76,
   "metadata": {},
   "outputs": [],
   "source": [
    "df=dfAstroNova[\"tagged\"]"
   ]
  },
  {
   "cell_type": "code",
   "execution_count": 77,
   "metadata": {},
   "outputs": [
    {
     "data": {
      "text/plain": [
       "18                        [[(Chapter, None), (1, NUM)]]\n",
       "34    [[(But, None), (before, None), (that, None), (...\n",
       "33    [[(But, None), (since, None), (the, None), (su...\n",
       "Name: tagged, dtype: object"
      ]
     },
     "execution_count": 77,
     "metadata": {},
     "output_type": "execute_result"
    }
   ],
   "source": [
    "df[0:3]"
   ]
  },
  {
   "cell_type": "code",
   "execution_count": 78,
   "metadata": {},
   "outputs": [
    {
     "data": {
      "text/plain": [
       "6699"
      ]
     },
     "execution_count": 78,
     "metadata": {},
     "output_type": "execute_result"
    }
   ],
   "source": [
    "df = sum(df, [])  # Flatt the data by removing first lists\n",
    "len(df)"
   ]
  },
  {
   "cell_type": "code",
   "execution_count": 79,
   "metadata": {},
   "outputs": [
    {
     "data": {
      "text/plain": [
       "[('Copernicus', 'None'),\n",
       " ('and', 'None'),\n",
       " ('Tycho', 'None'),\n",
       " ('followed', 'None'),\n",
       " ('Ptolemy', 'None'),\n",
       " ('carrying', 'None'),\n",
       " ('over', 'None'),\n",
       " ('his', 'None'),\n",
       " ('assumptions', 'None')]"
      ]
     },
     "execution_count": 79,
     "metadata": {},
     "output_type": "execute_result"
    }
   ],
   "source": [
    "df[5]  "
   ]
  },
  {
   "cell_type": "code",
   "execution_count": 80,
   "metadata": {},
   "outputs": [],
   "source": [
    "df_flatten = sum(df,[])  # Flatt the data by removing the second list\n"
   ]
  },
  {
   "cell_type": "code",
   "execution_count": 81,
   "metadata": {},
   "outputs": [
    {
     "data": {
      "text/plain": [
       "[('Chapter', 'None'),\n",
       " ('1', 'NUM'),\n",
       " ('But', 'None'),\n",
       " ('before', 'None'),\n",
       " ('that', 'None'),\n",
       " ('I', 'None'),\n",
       " ('shall', 'None'),\n",
       " ('prove', 'None'),\n",
       " ('in', 'None'),\n",
       " ('this', 'None'),\n",
       " ('first', 'None'),\n",
       " ('part', 'None'),\n",
       " ('that', 'None'),\n",
       " ('one', 'None'),\n",
       " ('who', 'None'),\n",
       " ('substitutes', 'None'),\n",
       " ('the', 'None'),\n",
       " ('sun', 'None'),\n",
       " ('s', 'None'),\n",
       " ('apparent', 'None')]"
      ]
     },
     "execution_count": 81,
     "metadata": {},
     "output_type": "execute_result"
    }
   ],
   "source": [
    "df_flatten[0:20]  # Here we have tokens (entities) with their labels"
   ]
  },
  {
   "cell_type": "code",
   "execution_count": 82,
   "metadata": {},
   "outputs": [
    {
     "data": {
      "text/plain": [
       "169231"
      ]
     },
     "execution_count": 82,
     "metadata": {},
     "output_type": "execute_result"
    }
   ],
   "source": [
    "len(df_flatten)  # Number of all tokens (roughly speaking all words or entities)"
   ]
  },
  {
   "cell_type": "code",
   "execution_count": 83,
   "metadata": {},
   "outputs": [],
   "source": [
    "\n",
    "tokens = [x[0] for x in df_flatten]  # Extract the tokens for further use in the frequency plot"
   ]
  },
  {
   "cell_type": "code",
   "execution_count": 84,
   "metadata": {},
   "outputs": [],
   "source": [
    "labels=([x[1] for x in df_flatten])  # Extract the labels for further use in the frequency plot"
   ]
  },
  {
   "cell_type": "code",
   "execution_count": 85,
   "metadata": {},
   "outputs": [
    {
     "data": {
      "text/plain": [
       "['Chapter', '1', 'But', 'before', 'that']"
      ]
     },
     "execution_count": 85,
     "metadata": {},
     "output_type": "execute_result"
    }
   ],
   "source": [
    "tokens[0:5]"
   ]
  },
  {
   "cell_type": "code",
   "execution_count": 86,
   "metadata": {},
   "outputs": [
    {
     "data": {
      "text/plain": [
       "['None', 'NUM', 'None', 'None', 'None']"
      ]
     },
     "execution_count": 86,
     "metadata": {},
     "output_type": "execute_result"
    }
   ],
   "source": [
    "labels[0:5]"
   ]
  },
  {
   "cell_type": "markdown",
   "metadata": {},
   "source": [
    "## **Visualization**"
   ]
  },
  {
   "cell_type": "markdown",
   "metadata": {},
   "source": [
    "### Frequency plot of all words in all chapter of book"
   ]
  },
  {
   "cell_type": "markdown",
   "metadata": {},
   "source": [
    "<font size=\"3\">\n",
    "Frequency plot of all tokens in text, as you see there is a lot 'the', 'of',... in text, they normally consider as noise, we will back to that later.\n",
    "<font/>"
   ]
  },
  {
   "cell_type": "code",
   "execution_count": 87,
   "metadata": {},
   "outputs": [
    {
     "data": {
      "image/png": "[encoded data removed]",
      "text/plain": [
       "<Figure size 1800x360 with 1 Axes>"
      ]
     },
     "metadata": {
      "needs_background": "light"
     },
     "output_type": "display_data"
    }
   ],
   "source": [
    "freqdist = nltk.FreqDist(tokens)\n",
    "plt.figure(figsize=(25,5))\n",
    "freqdist.plot(100, title='Frequency plot of words')\n"
   ]
  },
  {
   "cell_type": "code",
   "execution_count": 89,
   "metadata": {},
   "outputs": [],
   "source": [
    "stop_words=[\"therfore\",\"would\",\"but\",\"also\", \"let\", \"would\", \"the\", \"of\", \"is\", \"to\", \"and\",\"in\", \"be\", \"at\", \"that\", \"from\", \"it\", \"a\", \"as\",\"this\", \"was\" ] # we can consider these as stop words or we can use nltk stop words."
   ]
  },
  {
   "cell_type": "code",
   "execution_count": 133,
   "metadata": {},
   "outputs": [],
   "source": [
    "# nltk stop words\n",
    "from nltk.corpus import stopwords\n",
    "stop_words=set(stopwords.words('english'))\n",
    "stop_words=stop_words.union([\"Therefore\",\"But\", \"would\",\"but\",\"also\", \"let\",'I', 'And', 'For', 'A', 'The'])\n",
    "#stop_words_nltk = set(stop_words)\n",
    "\n",
    "# List of nltk stop words {‘ourselves’, ‘hers’, ‘between’, ‘yourself’, ‘but’, ‘again’, ‘there’, ‘about’, ‘once’, ‘during’, ‘out’, ‘very’, ‘having’, ‘with’, ‘they’, ‘own’, ‘an’, ‘be’, ‘some’, ‘for’, ‘do’, ‘its’, ‘yours’, ‘such’, ‘into’, ‘of’, ‘most’, ‘itself’, ‘other’, ‘off’, ‘is’, ‘s’, ‘am’, ‘or’, ‘who’, ‘as’, ‘from’, ‘him’, ‘each’, ‘the’, ‘themselves’, ‘until’, ‘below’, ‘are’, ‘we’, ‘these’, ‘your’, ‘his’, ‘through’, ‘don’, ‘nor’, ‘me’, ‘were’, ‘her’, ‘more’, ‘himself’, ‘this’, ‘down’, ‘should’, ‘our’, ‘their’, ‘while’, ‘above’, ‘both’, ‘up’, ‘to’, ‘ours’, ‘had’, ‘she’, ‘all’, ‘no’, ‘when’, ‘at’, ‘any’, ‘before’, ‘them’, ‘same’, ‘and’, ‘been’, ‘have’, ‘in’, ‘will’, ‘on’, ‘does’, ‘yourselves’, ‘then’, ‘that’, ‘because’, ‘what’, ‘over’, ‘why’, ‘so’, ‘can’, ‘did’, ‘not’, ‘now’, ‘under’, ‘he’, ‘you’, ‘herself’, ‘has’, ‘just’, ‘where’, ‘too’, ‘only’, ‘myself’, ‘which’, ‘those’, ‘i’, ‘after’, ‘few’, ‘whom’, ‘t’, ‘being’, ‘if’, ‘theirs’, ‘my’, ‘against’, ‘a’, ‘by’, ‘doing’, ‘it’, ‘how’, ‘further’, ‘was’, ‘here’, ‘than’} \n"
   ]
  },
  {
   "cell_type": "markdown",
   "metadata": {},
   "source": [
    "<font size=\"3\">\n",
    "We can consider these words like 'the', 'of',... as noises. so we temporary remove those! \n",
    "<font/>"
   ]
  },
  {
   "cell_type": "code",
   "execution_count": 134,
   "metadata": {},
   "outputs": [],
   "source": [
    "\n",
    "new_tokens = []     \n",
    "for w in tokens:\n",
    "    if w not in stop_words: new_tokens.append(w)      "
   ]
  },
  {
   "cell_type": "markdown",
   "metadata": {},
   "source": [
    "### Frequency plot of all words in all chapter of book after removing the stop words"
   ]
  },
  {
   "cell_type": "markdown",
   "metadata": {},
   "source": [
    "<font size=\"3\">\n",
    "It shows word \"sun\" is most common word.  We can also see the word Mars, planet, eccentric as common words in the book \n",
    "<font/>"
   ]
  },
  {
   "cell_type": "code",
   "execution_count": 135,
   "metadata": {},
   "outputs": [
    {
     "data": {
      "image/png": "[encoded data removed]",
      "text/plain": [
       "<Figure size 1800x360 with 1 Axes>"
      ]
     },
     "metadata": {
      "needs_background": "light"
     },
     "output_type": "display_data"
    }
   ],
   "source": [
    "freqdist = nltk.FreqDist(new_tokens) \n",
    "plt.figure(figsize=(25,5)) \n",
    "freqdist.plot(100, title='Frequency plot of words after removing noise')"
   ]
  },
  {
   "cell_type": "markdown",
   "metadata": {},
   "source": [
    "<font size=\"4\">\n",
    "Do we need more insight than frequency plot of word for see content of the book? the question is answered by the follwoing cells through investigation of \"topic modelling\"\n",
    "<font/>"
   ]
  },
  {
   "cell_type": "markdown",
   "metadata": {},
   "source": [
    "## **Topic Modelling by LDA**"
   ]
  },
  {
   "cell_type": "markdown",
   "metadata": {},
   "source": [
    " Here you see an structured workflow to build an insightful \"topic model\" based on the Latent Dirichlet Allocation (LDA) algorithm,  modeled as Dirichlet distributions Dir(α).\n",
    " For more detail you can read: <p>\n",
    "http://www.jmlr.org/papers/volume3/blei03a/blei03a.pdf\n",
    "    </p>"
   ]
  },
  {
   "cell_type": "markdown",
   "metadata": {},
   "source": [
    "### **Pre-processing**"
   ]
  },
  {
   "cell_type": "markdown",
   "metadata": {},
   "source": [
    "<font size=\"3\">\n",
    "Since we alreay tokenized the text (split text into  word without punctuation) and removed stopwrods, we only need to **lemmatize** and **stemm** the tokens.\n",
    "<font/>"
   ]
  },
  {
   "cell_type": "code",
   "execution_count": 136,
   "metadata": {},
   "outputs": [],
   "source": [
    "mytext = nltk.Text(new_tokens) "
   ]
  },
  {
   "cell_type": "markdown",
   "metadata": {},
   "source": [
    "#### Lemmatization "
   ]
  },
  {
   "cell_type": "markdown",
   "metadata": {},
   "source": [
    "<font size=\"3\">\n",
    "Lemmatization, takes into consideration the morphological analysis of the words. For instance  \"do\", \"does\", \"did\" and \"doing\" are forms of the same lexeme with \"do\" as the lemma. Another example would be  \"car\", \"cars\", \"automobile\"\n",
    "<font/>"
   ]
  },
  {
   "cell_type": "code",
   "execution_count": 137,
   "metadata": {},
   "outputs": [],
   "source": [
    "#lemmatization\n",
    "w_lemmatize= WordNetLemmatizer()\n",
    "my_text_lemmatize = [w_lemmatize.lemmatize(word) for word in mytext]\n"
   ]
  },
  {
   "cell_type": "markdown",
   "metadata": {},
   "source": [
    "#### Stemming"
   ]
  },
  {
   "cell_type": "markdown",
   "metadata": {},
   "source": [
    "<font size=\"3\">\n",
    "Stemming algorithms work by cutting off the end or the beginning of the word, by taking into account a list of common prefixes and suffixes. It reduces words to their word stem or root form. For instance, stemming for root word \"like\" include:\"likes\", \"liked\", \"likely\", \"liking\n",
    "<font size=/>"
   ]
  },
  {
   "cell_type": "markdown",
   "metadata": {},
   "source": [
    "# stemming \n",
    "p_stemmers=PorterStemmer()  \n",
    "my_text_lemm_stemmer = [p_stemmers.stem(word) for word in my_text_lemmatize]"
   ]
  },
  {
   "cell_type": "markdown",
   "metadata": {},
   "source": [
    "my_text_lemm_stemmer=[my_text_lemm_stemmer] #make a list of list"
   ]
  },
  {
   "cell_type": "code",
   "execution_count": 138,
   "metadata": {},
   "outputs": [],
   "source": [
    "my_text_lemmatize=[my_text_lemmatize]"
   ]
  },
  {
   "cell_type": "markdown",
   "metadata": {},
   "source": [
    "#### Select a document to preview after preprocessing."
   ]
  },
  {
   "cell_type": "code",
   "execution_count": null,
   "metadata": {},
   "outputs": [],
   "source": []
  },
  {
   "cell_type": "code",
   "execution_count": 139,
   "metadata": {},
   "outputs": [],
   "source": [
    "Dic=corpora.Dictionary(my_text_lemmatize)"
   ]
  },
  {
   "cell_type": "markdown",
   "metadata": {},
   "source": [
    "### **Bag of Words on the Data set**"
   ]
  },
  {
   "cell_type": "markdown",
   "metadata": {},
   "source": [
    "<font size=\"4\">\n",
    "Our dictionary must be converted to \"bag of word\". Frequency of occurrence of each word is used as a feature for training a classifier. It means it should contain the number of times a word appears\n",
    "<font size>"
   ]
  },
  {
   "cell_type": "code",
   "execution_count": 140,
   "metadata": {},
   "outputs": [],
   "source": [
    "corpus = [Dic.doc2bow(text) for text in my_text_lemmatize]"
   ]
  },
  {
   "cell_type": "markdown",
   "metadata": {},
   "source": [
    "#### Running LDA using Bag of Words**"
   ]
  },
  {
   "cell_type": "code",
   "execution_count": 173,
   "metadata": {},
   "outputs": [],
   "source": [
    "ldamodel =models.ldamodel.LdaModel(corpus, num_topics=3,  id2word = Dic, passes=3, iterations=10)"
   ]
  },
  {
   "cell_type": "code",
   "execution_count": 174,
   "metadata": {},
   "outputs": [],
   "source": [
    "lda_topics=ldamodel.print_topics()"
   ]
  },
  {
   "cell_type": "code",
   "execution_count": 175,
   "metadata": {},
   "outputs": [
    {
     "data": {
      "text/plain": [
       "[(0,\n",
       "  '0.013*\"sun\" + 0.012*\"Mars\" + 0.009*\"distance\" + 0.009*\"planet\" + 0.008*\"point\" + 0.008*\"line\" + 0.007*\"eccentric\" + 0.007*\"motion\" + 0.007*\"position\" + 0.007*\"angle\"'),\n",
       " (1,\n",
       "  '0.015*\"sun\" + 0.010*\"position\" + 0.009*\"line\" + 0.009*\"planet\" + 0.009*\"distance\" + 0.008*\"time\" + 0.008*\"Mars\" + 0.008*\"motion\" + 0.007*\"equal\" + 0.007*\"center\"'),\n",
       " (2,\n",
       "  '0.013*\"sun\" + 0.012*\"planet\" + 0.009*\"Mars\" + 0.009*\"distance\" + 0.008*\"angle\" + 0.008*\"position\" + 0.007*\"one\" + 0.007*\"point\" + 0.007*\"line\" + 0.006*\"motion\"')]"
      ]
     },
     "execution_count": 175,
     "metadata": {},
     "output_type": "execute_result"
    }
   ],
   "source": [
    "lda_topics"
   ]
  },
  {
   "cell_type": "code",
   "execution_count": 176,
   "metadata": {},
   "outputs": [],
   "source": [
    "import pyLDAvis.gensim\n",
    "import gensim\n",
    "pyLDAvis.enable_notebook()\n",
    "vis = pyLDAvis.gensim.prepare(ldamodel, corpus, Dic)"
   ]
  },
  {
   "cell_type": "markdown",
   "metadata": {},
   "source": [
    "# 3 Topics"
   ]
  },
  {
   "cell_type": "code",
   "execution_count": 177,
   "metadata": {},
   "outputs": [
    {
     "data": {
      "text/html": [
       "\n",
       "<link rel=\"stylesheet\" type=\"text/css\" href=\"https://cdn.rawgit.com/bmabey/pyLDAvis/files/ldavis.v1.0.0.css\">\n",
       "\n",
       "\n",
       "<div id=\"ldavis_el1192819239022143366415074478\"></div>\n",
       "<script type=\"text/javascript\">\n",
       "\n",
       "var ldavis_el1192819239022143366415074478_data = {\"mdsDat\": {\"x\": [-0.003988918662068695, 0.0017547900450496337, 0.0022341286170190606], \"y\": [0.00023675313785898722, -0.0030736645380226696, 0.002836911400163684], \"topics\": [1, 2, 3], \"cluster\": [1, 1, 1], \"Freq\": [47.408206939697266, 26.856475830078125, 25.735315322875977]}, \"tinfo\": {\"Category\": [\"Default\", \"Default\", \"Default\", \"Default\", \"Default\", \"Default\", \"Default\", \"Default\", \"Default\", \"Default\", \"Default\", \"Default\", \"Default\", \"Default\", \"Default\", \"Default\", \"Default\", \"Default\", \"Default\", \"Default\", \"Default\", \"Default\", \"Default\", \"Default\", \"Default\", \"Default\", \"Default\", \"Default\", \"Default\", \"Default\", \"Topic1\", \"Topic1\", \"Topic1\", \"Topic1\", \"Topic1\", \"Topic1\", \"Topic1\", \"Topic1\", \"Topic1\", \"Topic1\", \"Topic1\", \"Topic1\", \"Topic1\", \"Topic1\", \"Topic1\", \"Topic1\", \"Topic1\", \"Topic1\", \"Topic1\", \"Topic1\", \"Topic1\", \"Topic1\", \"Topic1\", \"Topic1\", \"Topic1\", \"Topic1\", \"Topic1\", \"Topic1\", \"Topic1\", \"Topic1\", \"Topic1\", \"Topic1\", \"Topic1\", \"Topic1\", \"Topic1\", \"Topic1\", \"Topic1\", \"Topic1\", \"Topic1\", \"Topic1\", \"Topic1\", \"Topic1\", \"Topic1\", \"Topic1\", \"Topic1\", \"Topic1\", \"Topic1\", \"Topic1\", \"Topic1\", \"Topic1\", \"Topic1\", \"Topic1\", \"Topic1\", \"Topic1\", \"Topic1\", \"Topic1\", \"Topic1\", \"Topic1\", \"Topic1\", \"Topic1\", \"Topic1\", \"Topic1\", \"Topic1\", \"Topic1\", \"Topic1\", \"Topic1\", \"Topic1\", \"Topic1\", \"Topic1\", \"Topic1\", \"Topic1\", \"Topic1\", \"Topic1\", \"Topic1\", \"Topic1\", \"Topic1\", \"Topic1\", \"Topic1\", \"Topic1\", \"Topic2\", \"Topic2\", \"Topic2\", \"Topic2\", \"Topic2\", \"Topic2\", \"Topic2\", \"Topic2\", \"Topic2\", \"Topic2\", \"Topic2\", \"Topic2\", \"Topic2\", \"Topic2\", \"Topic2\", \"Topic2\", \"Topic2\", \"Topic2\", \"Topic2\", \"Topic2\", \"Topic2\", \"Topic2\", \"Topic2\", \"Topic2\", \"Topic2\", \"Topic2\", \"Topic2\", \"Topic2\", \"Topic2\", \"Topic2\", \"Topic2\", \"Topic2\", \"Topic2\", \"Topic2\", \"Topic2\", \"Topic2\", \"Topic2\", \"Topic2\", \"Topic2\", \"Topic2\", \"Topic2\", \"Topic2\", \"Topic2\", \"Topic2\", \"Topic2\", \"Topic2\", \"Topic2\", \"Topic2\", \"Topic2\", \"Topic2\", \"Topic2\", \"Topic2\", \"Topic2\", \"Topic2\", \"Topic2\", \"Topic2\", \"Topic2\", \"Topic2\", \"Topic2\", \"Topic2\", \"Topic2\", \"Topic2\", \"Topic2\", \"Topic2\", \"Topic2\", \"Topic2\", \"Topic2\", \"Topic2\", \"Topic2\", \"Topic2\", \"Topic2\", \"Topic2\", \"Topic2\", \"Topic2\", \"Topic2\", \"Topic2\", \"Topic3\", \"Topic3\", \"Topic3\", \"Topic3\", \"Topic3\", \"Topic3\", \"Topic3\", \"Topic3\", \"Topic3\", \"Topic3\", \"Topic3\", \"Topic3\", \"Topic3\", \"Topic3\", \"Topic3\", \"Topic3\", \"Topic3\", \"Topic3\", \"Topic3\", \"Topic3\", \"Topic3\", \"Topic3\", \"Topic3\", \"Topic3\", \"Topic3\", \"Topic3\", \"Topic3\", \"Topic3\", \"Topic3\", \"Topic3\", \"Topic3\", \"Topic3\", \"Topic3\", \"Topic3\", \"Topic3\", \"Topic3\", \"Topic3\", \"Topic3\", \"Topic3\", \"Topic3\", \"Topic3\", \"Topic3\", \"Topic3\", \"Topic3\", \"Topic3\", \"Topic3\", \"Topic3\", \"Topic3\", \"Topic3\", \"Topic3\", \"Topic3\", \"Topic3\", \"Topic3\", \"Topic3\", \"Topic3\", \"Topic3\", \"Topic3\", \"Topic3\", \"Topic3\", \"Topic3\", \"Topic3\", \"Topic3\", \"Topic3\", \"Topic3\", \"Topic3\", \"Topic3\", \"Topic3\", \"Topic3\", \"Topic3\", \"Topic3\", \"Topic3\", \"Topic3\", \"Topic3\", \"Topic3\", \"Topic3\", \"Topic3\", \"Topic3\", \"Topic3\", \"Topic3\", \"Topic3\", \"Topic3\", \"Topic3\"], \"Freq\": [1093.0, 624.0, 780.0, 650.0, 551.0, 476.0, 276.0, 520.0, 515.0, 753.0, 260.0, 597.0, 371.0, 481.0, 224.0, 300.0, 202.0, 406.0, 164.0, 172.0, 301.0, 460.0, 404.0, 155.0, 136.0, 292.0, 162.0, 134.0, 141.0, 122.0, 14.703638076782227, 17.66493034362793, 10.254708290100098, 24.309988021850586, 40.624290466308594, 6.188692569732666, 8.391337394714355, 26.827661514282227, 4.957614898681641, 11.532599449157715, 25.809988021850586, 7.121754169464111, 9.861960411071777, 3.281787633895874, 10.945878982543945, 2.7195231914520264, 3.257969379425049, 3.2547826766967773, 10.821640968322754, 12.975954055786133, 13.510136604309082, 8.647106170654297, 26.97697639465332, 7.542125225067139, 8.621280670166016, 31.250892639160156, 29.011117935180664, 46.0112190246582, 52.980865478515625, 8.546804428100586, 115.05876922607422, 84.3796157836914, 77.51902770996094, 82.63094329833984, 32.53232955932617, 48.20625305175781, 478.76434326171875, 152.75961303710938, 44.04839324951172, 124.3283462524414, 95.23097229003906, 102.70991516113281, 116.13194274902344, 290.0379943847656, 107.46297454833984, 61.08314514160156, 147.40133666992188, 131.5308837890625, 77.07431030273438, 101.41201782226562, 126.55987548828125, 65.64462280273438, 132.4677734375, 296.4312744140625, 142.01583862304688, 94.1211929321289, 209.7484130859375, 107.40424346923828, 105.60044860839844, 355.9655456542969, 366.32452392578125, 488.41107177734375, 222.33029174804688, 279.0963439941406, 135.9147491455078, 295.0793762207031, 194.0870361328125, 225.07037353515625, 231.37538146972656, 189.8103790283203, 160.72679138183594, 227.86257934570312, 238.3369140625, 258.5664978027344, 205.52749633789062, 137.6749267578125, 156.80906677246094, 135.78204345703125, 129.18267822265625, 3.6178812980651855, 4.511073112487793, 1.7053163051605225, 2.0251758098602295, 5.434677600860596, 15.950947761535645, 4.362720012664795, 0.6619244813919067, 1.9661766290664673, 12.977015495300293, 45.64690399169922, 50.716697692871094, 11.040974617004395, 3.9298295974731445, 6.256287097930908, 1.3101027011871338, 2.2923643589019775, 1.3043712377548218, 0.649640679359436, 1.9558556079864502, 56.65656661987305, 0.9757530093193054, 53.528175354003906, 0.6445551514625549, 0.9741144180297852, 6.802366733551025, 0.9586354494094849, 0.6381503343582153, 0.9609571099281311, 0.6360455751419067, 28.998510360717773, 9.241461753845215, 47.49454116821289, 13.682190895080566, 163.76348876953125, 21.999706268310547, 20.043134689331055, 8.24339485168457, 205.8523406982422, 172.39764404296875, 158.6299591064453, 211.32171630859375, 28.252656936645508, 32.334068298339844, 23.570404052734375, 330.5301208496094, 43.5561408996582, 165.4075927734375, 32.54193878173828, 63.20258712768555, 37.171165466308594, 44.05125427246094, 119.61249542236328, 65.79124450683594, 83.38848876953125, 114.91106414794922, 199.77938842773438, 105.30719757080078, 86.93291473388672, 50.504722595214844, 154.51406860351562, 122.70291900634766, 133.15322875976562, 134.39390563964844, 91.10224914550781, 75.76139068603516, 202.97247314453125, 60.14200973510742, 137.11338806152344, 167.2825469970703, 79.53600311279297, 96.16708374023438, 71.51722717285156, 71.5861587524414, 61.227264404296875, 60.624080657958984, 3.641559362411499, 2.0704243183135986, 1.6697355508804321, 1.3320412635803223, 1.6580842733383179, 2.6558115482330322, 0.9890186190605164, 0.9808923602104187, 23.395780563354492, 0.649111807346344, 3.9118540287017822, 0.9654718637466431, 1.2867604494094849, 0.9625386595726013, 1.6207942962646484, 94.72605895996094, 0.6377094388008118, 3.4883482456207275, 4.140441417694092, 5.085226535797119, 1.9124425649642944, 3.815648317337036, 1.8841373920440674, 60.84232711791992, 0.9354237914085388, 9.080106735229492, 0.6206632256507874, 0.6177221536636353, 0.6169629096984863, 0.6154068112373352, 94.68729400634766, 11.484891891479492, 10.744817733764648, 26.24988555908203, 4.349334239959717, 30.470279693603516, 26.652494430541992, 31.374980926513672, 73.99504852294922, 246.44557189941406, 14.767817497253418, 52.36050033569336, 51.48054504394531, 20.580280303955078, 32.894569396972656, 28.04695701599121, 154.6236114501953, 27.83150863647461, 31.127042770385742, 109.60253143310547, 23.123046875, 33.64476776123047, 43.887481689453125, 28.963411331176758, 38.86314010620117, 164.35455322265625, 54.0241813659668, 60.423091888427734, 86.05162048339844, 198.02040100097656, 47.28435516357422, 274.7422790527344, 148.107666015625, 83.08831024169922, 84.363525390625, 160.34298706054688, 49.73289489746094, 115.23102569580078, 136.5681610107422, 102.09313201904297, 180.5326385498047, 143.828857421875, 98.64506530761719, 116.93013000488281, 69.39605712890625, 107.35198974609375, 79.27542114257812, 90.4717788696289, 97.41771697998047, 100.35273742675781, 59.623409271240234, 62.45240783691406], \"Term\": [\"sun\", \"line\", \"Mars\", \"position\", \"motion\", \"equal\", \"body\", \"time\", \"eccentric\", \"distance\", \"two\", \"point\", \"mean\", \"center\", \"sine\", \"anomaly\", \"power\", \"observation\", \"upon\", \"Let\", \"arc\", \"circle\", \"earth\", \"C\", \"parallel\", \"epicycle\", \"true\", \"node\", \"opposition\", \"side\", \"removed\", \"similar\", \"1800\", \"20\", \"\\u03b5\", \"considering\", \"Similarly\", \"quantity\", \"swiftness\", \"followed\", \"interval\", \"soul\", \"2\\u00bd\", \"solidity\", \"27\", \"fear\", \"fastest\", \"4\\u00bd\", \"noted\", \"throughout\", \"fifth\", \"nonagesimal\", \"quite\", \"60\", \"date\", \"account\", \"least\", \"must\", \"whether\", \"duplicate\", \"equation\", \"thus\", \"whole\", \"second\", \"8\", \"namely\", \"planet\", \"hypothesis\", \"unit\", \"So\", \"observed\", \"In\", \"This\", \"one\", \"ecliptic\", \"using\", \"part\", \"Now\", \"much\", \"shall\", \"therefore\", \"apogee\", \"star\", \"angle\", \"eccentricity\", \"path\", \"since\", \"first\", \"Chapter\", \"distance\", \"Mars\", \"sun\", \"circle\", \"point\", \"found\", \"position\", \"earth\", \"center\", \"time\", \"observation\", \"latitude\", \"eccentric\", \"motion\", \"line\", \"equal\", \"epicycle\", \"mean\", \"arc\", \"anomaly\", \"CBE\", \"Protheorem\", \"probability\", \"deflection\", \"43\", \"third\", \"October\", \"divergence\", \"overcomes\", \"possible\", \"side\", \"parallel\", \"29\\u00b0\", \"Venus\", \"seems\", \"\\u039d\", \"vernal\", \"adjacent\", \"1h 45m\", \"24\\u00b0\", \"C\", \"forcefully\", \"opposite\", \"OE\", \"187\", \"gnomon\", \"\\u03a7\\u0396\", \"\\u03b9\\u03b3\\u03b6\", \"\\u03c0\\u03c1\\u03bf\\u03b7\\u03b3\\u03bf\\u1f7b\\u03bc\\u03b5\\u03bd\\u03bf\\u03c2\", \"\\u03ba\\u03b3\", \"according\", \"sort\", \"node\", \"connected\", \"equal\", \"\\u03b1\\u03b2\", \"turn\", \"globe\", \"line\", \"time\", \"center\", \"position\", \"table\", \"Copernicus\", \"AD\", \"sun\", \"longitude\", \"motion\", \"radius\", \"power\", \"plane\", \"parallax\", \"earth\", \"greater\", \"body\", \"observation\", \"distance\", \"mean\", \"anomaly\", \"upon\", \"point\", \"circle\", \"eccentric\", \"one\", \"latitude\", \"part\", \"planet\", \"area\", \"angle\", \"Mars\", \"arc\", \"since\", \"eccentricity\", \"epicycle\", \"sine\", \"therefore\", \"defined\", \"parallelogram\", \"Later\", \"intended\", \"transformed\", \"thence\", \"egg\", \"13,512\", \"moving\", \"volition\", \"arising\", \"sailor\", \"\\u03c5\\u03c3\", \"needle\", \"varying\", \"two\", \"1\\u00b0 12'\", \"HI\", \"flow\", \"perceptible\", \"6h\", \"AI\", \"9265\", \"Let\", \"refracted\", \"AL\", \"stead\", \"2\\u00b0 47' 20\\\"\", \"primeval\", \"1\\u00b0 12' 47\\\"\", \"body\", \"considered\", \"1\\u00b0\", \"magnitude\", \"radiation\", \"2\", \"although\", \"little\", \"sine\", \"Mars\", \"Nevertheless\", \"upon\", \"true\", \"nearly\", \"AC\", \"semicircle\", \"eccentric\", \"diurnal\", \"limit\", \"mean\", \"AB\", \"described\", \"opposition\", \"three\", \"Thus\", \"point\", \"ratio\", \"power\", \"arc\", \"distance\", \"le\", \"sun\", \"motion\", \"epicycle\", \"anomaly\", \"line\", \"fixed\", \"circle\", \"angle\", \"observation\", \"planet\", \"position\", \"since\", \"time\", \"found\", \"equal\", \"latitude\", \"earth\", \"center\", \"one\", \"Now\", \"hypothesis\"], \"Total\": [1093.0, 624.0, 780.0, 650.0, 551.0, 476.0, 276.0, 520.0, 515.0, 753.0, 260.0, 597.0, 371.0, 481.0, 224.0, 300.0, 202.0, 406.0, 164.0, 172.0, 301.0, 460.0, 404.0, 155.0, 136.0, 292.0, 162.0, 134.0, 141.0, 122.0, 23.139266967773438, 28.604812622070312, 16.615373611450195, 39.662960052490234, 66.39018249511719, 10.135289192199707, 13.821847915649414, 44.2388916015625, 8.276971817016602, 19.314077377319336, 43.248985290527344, 11.949492454528809, 16.55512046813965, 5.510825157165527, 18.39010238647461, 4.588799476623535, 5.5076584815979, 5.508055210113525, 18.37103271484375, 22.05004119873047, 22.959421157836914, 14.696434020996094, 45.96626281738281, 12.85476303100586, 14.695127487182617, 53.293434143066406, 49.57252883911133, 78.92379760742188, 90.92408752441406, 14.683981895446777, 198.3021240234375, 145.06912231445312, 133.91592407226562, 143.07223510742188, 55.989013671875, 83.43409729003906, 862.2694702148438, 270.9512634277344, 76.17264556884766, 219.74148559570312, 167.62852478027344, 181.42718505859375, 205.95904541015625, 524.7846069335938, 190.49179077148438, 107.15316772460938, 266.1595153808594, 236.7404022216797, 136.43600463867188, 183.7118682861328, 231.9586181640625, 116.31819915771484, 243.65182495117188, 570.1128540039062, 263.659423828125, 170.84512329101562, 404.560546875, 199.6015625, 197.74693298339844, 753.7653198242188, 780.0526123046875, 1093.6834716796875, 460.26422119140625, 597.9649658203125, 264.3173828125, 650.22998046875, 404.1712951660156, 481.1180419921875, 520.703125, 406.8145751953125, 331.1044616699219, 515.639404296875, 551.8521728515625, 624.7618408203125, 476.6429748535156, 292.3493957519531, 371.71881103515625, 301.36968994140625, 300.4791259765625, 8.835042953491211, 11.497247695922852, 4.423070907592773, 5.274848461151123, 14.28885269165039, 42.05131149291992, 11.557377815246582, 1.7709568738937378, 5.262528419494629, 34.752017974853516, 122.5596923828125, 136.35769653320312, 29.698169708251953, 10.612454414367676, 16.93442726135254, 3.552117347717285, 6.215353965759277, 3.546323776245117, 1.771141529083252, 5.346417427062988, 155.1712646484375, 2.674215793609619, 146.9017333984375, 1.7721564769744873, 2.6808862686157227, 18.721845626831055, 2.6410930156707764, 1.7647788524627686, 2.6693246364593506, 1.767971396446228, 80.64635467529297, 25.791412353515625, 134.77163696289062, 38.364139556884766, 476.6429748535156, 62.59016799926758, 57.31161117553711, 23.311019897460938, 624.7618408203125, 520.703125, 481.1180419921875, 650.22998046875, 82.3980941772461, 95.25132751464844, 68.90597534179688, 1093.6834716796875, 132.9114532470703, 551.8521728515625, 98.70597076416016, 202.3423614501953, 114.44344329833984, 137.82717895507812, 404.1712951660156, 212.5461883544922, 276.66485595703125, 406.8145751953125, 753.7653198242188, 371.71881103515625, 300.4791259765625, 164.53689575195312, 597.9649658203125, 460.26422119140625, 515.639404296875, 524.7846069335938, 331.1044616699219, 266.1595153808594, 862.2694702148438, 202.53257751464844, 570.1128540039062, 780.0526123046875, 301.36968994140625, 404.560546875, 263.659423828125, 292.3493957519531, 224.87640380859375, 231.9586181640625, 8.863964080810547, 5.305140495300293, 4.447166442871094, 3.551499128341675, 4.432726860046387, 7.105170249938965, 2.650892734527588, 2.64513897895813, 63.3411865234375, 1.7697951793670654, 10.69663143157959, 2.6508378982543945, 3.540782928466797, 2.649531602859497, 4.463199615478516, 260.9267578125, 1.76871919631958, 9.688633918762207, 11.531852722167969, 14.181293487548828, 5.339305877685547, 10.700872421264648, 5.327487945556641, 172.48985290527344, 2.653921127319336, 25.789608001708984, 1.7653937339782715, 1.7651563882827759, 1.7667009830474854, 1.7638859748840332, 276.66485595703125, 33.153564453125, 31.165090560913086, 76.91300201416016, 12.516313552856445, 89.60665130615234, 78.4273910522461, 93.68388366699219, 224.87640380859375, 780.0526123046875, 43.691349029541016, 164.53689575195312, 162.02349853515625, 62.396141052246094, 101.77083587646484, 86.3902816772461, 515.639404296875, 85.81155395507812, 97.11759948730469, 371.71881103515625, 71.37214660644531, 106.68144989013672, 141.8949737548828, 91.26932525634766, 125.45584106445312, 597.9649658203125, 179.10662841796875, 202.3423614501953, 301.36968994140625, 753.7653198242188, 156.50448608398438, 1093.6834716796875, 551.8521728515625, 292.3493957519531, 300.4791259765625, 624.7618408203125, 165.89059448242188, 460.26422119140625, 570.1128540039062, 406.8145751953125, 862.2694702148438, 650.22998046875, 404.560546875, 520.703125, 264.3173828125, 476.6429748535156, 331.1044616699219, 404.1712951660156, 481.1180419921875, 524.7846069335938, 236.7404022216797, 270.9512634277344], \"loglift\": [30.0, 29.0, 28.0, 27.0, 26.0, 25.0, 24.0, 23.0, 22.0, 21.0, 20.0, 19.0, 18.0, 17.0, 16.0, 15.0, 14.0, 13.0, 12.0, 11.0, 10.0, 9.0, 8.0, 7.0, 6.0, 5.0, 4.0, 3.0, 2.0, 1.0, 0.2928999960422516, 0.26440000534057617, 0.2637999951839447, 0.25679999589920044, 0.25519999861717224, 0.2531000077724457, 0.24729999899864197, 0.24619999527931213, 0.2337999939918518, 0.23070000112056732, 0.23019999265670776, 0.2287999987602234, 0.22840000689029694, 0.2280000001192093, 0.22750000655651093, 0.2231999933719635, 0.22130000591278076, 0.22030000388622284, 0.21709999442100525, 0.21619999408721924, 0.21610000729560852, 0.2160000056028366, 0.2134999930858612, 0.21320000290870667, 0.21310000121593475, 0.2125999927520752, 0.21060000360012054, 0.20679999887943268, 0.20630000531673431, 0.20520000159740448, 0.20200000703334808, 0.2045000046491623, 0.1996999979019165, 0.19740000367164612, 0.20350000262260437, 0.19779999554157257, 0.15800000727176666, 0.17329999804496765, 0.19869999587535858, 0.17679999768733978, 0.1808999925851822, 0.17739999294281006, 0.17339999973773956, 0.1534000039100647, 0.17389999330043793, 0.18440000712871552, 0.15539999306201935, 0.15870000422000885, 0.1753000020980835, 0.15219999849796295, 0.1404999941587448, 0.17430000007152557, 0.13699999451637268, 0.09239999949932098, 0.12770000100135803, 0.1501999944448471, 0.08950000256299973, 0.1266999989748001, 0.11900000274181366, -0.0038999998942017555, -0.009499999694526196, -0.05979999899864197, 0.018699999898672104, -0.015599999576807022, 0.08129999786615372, -0.043699998408555984, 0.012799999676644802, -0.013299999758601189, -0.06480000168085098, -0.01600000075995922, 0.023600000888109207, -0.07029999792575836, -0.09319999814033508, -0.13580000400543213, -0.09480000287294388, -0.0066999997943639755, -0.11670000106096268, -0.05090000107884407, -0.09780000150203705, 0.42179998755455017, 0.3790999948978424, 0.36160001158714294, 0.35740000009536743, 0.3479999899864197, 0.34529998898506165, 0.34040001034736633, 0.3305000066757202, 0.33009999990463257, 0.3296000063419342, 0.3269999921321869, 0.3255999982357025, 0.32519999146461487, 0.32120001316070557, 0.3188999891281128, 0.3172000050544739, 0.3172000050544739, 0.31450000405311584, 0.3116999864578247, 0.3091000020503998, 0.30709999799728394, 0.30649998784065247, 0.3050999939441681, 0.30329999327659607, 0.30230000615119934, 0.30219998955726624, 0.3012000024318695, 0.29750001430511475, 0.2930000126361847, 0.2922999858856201, 0.29179999232292175, 0.2883000075817108, 0.271699994802475, 0.28360000252723694, 0.24629999697208405, 0.26910001039505005, 0.2639999985694885, 0.2750999927520752, 0.2045000046491623, 0.2092999964952469, 0.20509999990463257, 0.1906999945640564, 0.2442999929189682, 0.23430000245571136, 0.2418999969959259, 0.11810000240802765, 0.19900000095367432, 0.10980000346899033, 0.20499999821186066, 0.1509999930858612, 0.19009999930858612, 0.17399999499320984, 0.09709999710321426, 0.1420000046491623, 0.11540000140666962, 0.05050000175833702, -0.013199999928474426, 0.05339999869465828, 0.07440000027418137, 0.13359999656677246, -0.038600001484155655, -0.007400000002235174, -0.03920000046491623, -0.04749999940395355, 0.02419999986886978, 0.05820000171661377, -0.13179999589920044, 0.10050000250339508, -0.1103999987244606, -0.22499999403953552, -0.017500000074505806, -0.12210000306367874, 0.00989999994635582, -0.09239999949932098, 0.013700000010430813, -0.0272000003606081, 0.4677000045776367, 0.4163999855518341, 0.37770000100135803, 0.3765999972820282, 0.37400001287460327, 0.373199999332428, 0.37139999866485596, 0.3652999997138977, 0.361299991607666, 0.35429999232292175, 0.3513999879360199, 0.3472999930381775, 0.3450999855995178, 0.34470000863075256, 0.34439998865127563, 0.3440999984741211, 0.33719998598098755, 0.3357999920845032, 0.3330000042915344, 0.33169999718666077, 0.33059999346733093, 0.3260999917984009, 0.31790000200271606, 0.31529998779296875, 0.31450000405311584, 0.313400000333786, 0.31200000643730164, 0.3073999881744385, 0.3052000105381012, 0.3043000102043152, 0.2851000130176544, 0.2971999943256378, 0.2924000024795532, 0.2822999954223633, 0.3003000020980835, 0.2786000072956085, 0.27799999713897705, 0.26339998841285706, 0.24580000340938568, 0.20509999990463257, 0.272599995136261, 0.21230000257492065, 0.21080000698566437, 0.24809999763965607, 0.22789999842643738, 0.23229999840259552, 0.15289999544620514, 0.2312999963760376, 0.21950000524520874, 0.13600000739097595, 0.23019999265670776, 0.20329999923706055, 0.18379999697208405, 0.2094999998807907, 0.18539999425411224, 0.0658000037074089, 0.15880000591278076, 0.14869999885559082, 0.1039000004529953, 0.020600000396370888, 0.16040000319480896, -0.02419999986886978, 0.041999999433755875, 0.09929999709129333, 0.08709999918937683, -0.0027000000700354576, 0.1526000052690506, -0.02759999968111515, -0.07169999927282333, -0.025200000032782555, -0.20640000700950623, -0.15139999985694885, -0.05400000140070915, -0.1362999975681305, 0.019999999552965164, -0.13330000638961792, -0.0722000002861023, -0.13950000703334808, -0.23980000615119934, -0.296999990940094, -0.02160000056028366, -0.11020000278949738], \"logprob\": [30.0, 29.0, 28.0, 27.0, 26.0, 25.0, 24.0, 23.0, 22.0, 21.0, 20.0, 19.0, 18.0, 17.0, 16.0, 15.0, 14.0, 13.0, 12.0, 11.0, 10.0, 9.0, 8.0, 7.0, 6.0, 5.0, 4.0, 3.0, 2.0, 1.0, -7.875400066375732, -7.69189977645874, -8.235699653625488, -7.372600078582764, -6.859099864959717, -8.740699768066406, -8.436300277709961, -7.27400016784668, -8.962499618530273, -8.118300437927246, -7.312699794769287, -8.600299835205078, -8.274800300598145, -9.375100135803223, -8.170499801635742, -9.562999725341797, -9.382399559020996, -9.383299827575684, -8.181900024414062, -8.000399589538574, -7.960000038146973, -8.406200408935547, -7.268499851226807, -8.543000221252441, -8.409199714660645, -7.121399879455566, -7.195799827575684, -6.734600067138672, -6.593500137329102, -8.417900085449219, -5.817999839782715, -6.1280999183654785, -6.212900161743164, -6.149099826812744, -7.081200122833252, -6.688000202178955, -4.392300128936768, -5.534599781036377, -6.778200149536133, -5.740499973297119, -6.007199764251709, -5.931600093841553, -5.808700084686279, -4.893499851226807, -5.886300086975098, -6.451200008392334, -5.570300102233887, -5.684199810028076, -6.218699932098389, -5.944300174713135, -5.722799777984619, -6.379199981689453, -5.67710018157959, -4.871699810028076, -5.607500076293945, -6.018899917602539, -5.217599868774414, -5.886899948120117, -5.903800010681152, -4.688600063323975, -4.659900188446045, -4.372300148010254, -5.159299850463867, -4.9319000244140625, -5.651400089263916, -4.876200199127197, -5.295199871063232, -5.14709997177124, -5.1194000244140625, -5.317399978637695, -5.483799934387207, -5.134699821472168, -5.089799880981445, -5.008299827575684, -5.2378997802734375, -5.638599872589111, -5.508399963378906, -5.652400016784668, -5.702199935913086, -8.70930004119873, -8.48859977722168, -9.461400032043457, -9.28950023651123, -8.302399635314941, -7.2256999015808105, -8.522100448608398, -10.40779972076416, -9.319100379943848, -7.432000160217285, -6.174200057983398, -6.068900108337402, -7.593599796295166, -8.62660026550293, -8.161600112915039, -9.725099563598633, -9.165599822998047, -9.729499816894531, -10.42650032043457, -9.324399948120117, -5.958199977874756, -10.019700050354004, -6.014999866485596, -10.434399604797363, -10.021400451660156, -8.077899932861328, -10.037400245666504, -10.4443998336792, -10.03499984741211, -10.447699546813965, -6.627900123596191, -7.771500110626221, -6.1346001625061035, -7.3790998458862305, -4.8968000411987305, -6.904099941253662, -6.997300148010254, -7.885799884796143, -4.668000221252441, -4.845399856567383, -4.928599834442139, -4.6417999267578125, -6.6539998054504395, -6.519100189208984, -6.83519983291626, -4.194499969482422, -6.221099853515625, -4.8867998123168945, -6.512599945068359, -5.848800182342529, -6.3796000480651855, -6.209799766540527, -5.210899829864502, -5.808700084686279, -5.571700096130371, -5.250999927520752, -4.697999954223633, -5.3383002281188965, -5.53000020980835, -6.0731000900268555, -4.954899787902832, -5.185400009155273, -5.103700160980225, -5.094399929046631, -5.4832000732421875, -5.667600154876709, -4.68209981918335, -5.898499965667725, -5.074399948120117, -4.875500202178955, -5.61899995803833, -5.429100036621094, -5.725200176239014, -5.724299907684326, -5.8805999755859375, -5.890500068664551, -8.660099983215332, -9.224800109863281, -9.439900398254395, -9.665800094604492, -9.446900367736816, -8.975799560546875, -9.963600158691406, -9.971799850463867, -6.800000190734863, -10.384699821472168, -8.588500022888184, -9.987700462341309, -9.700400352478027, -9.990699768066406, -9.469599723815918, -5.401500225067139, -10.402400016784668, -8.703100204467773, -8.531700134277344, -8.326199531555176, -9.304200172424316, -8.61340045928955, -9.319100379943848, -5.844299793243408, -10.01930046081543, -7.746399879455566, -10.429499626159668, -10.434300422668457, -10.435500144958496, -10.437999725341797, -5.4019999504089355, -7.511499881744385, -7.578100204467773, -6.684899806976318, -8.482500076293945, -6.535799980163574, -6.6697001457214355, -6.506499767303467, -5.648499965667725, -4.445400238037109, -7.2600998878479, -5.9944000244140625, -6.011300086975098, -6.928199768066406, -6.459199905395508, -6.61870002746582, -4.911499977111816, -6.626399993896484, -6.514500141143799, -5.25570011138916, -6.811699867248535, -6.436699867248535, -6.170899868011475, -6.58650016784668, -6.292500019073486, -4.850500106811523, -5.963099956512451, -5.851200103759766, -5.497600078582764, -4.6641998291015625, -6.096399784088135, -4.336699962615967, -4.954599857330322, -5.532599925994873, -5.517399787902832, -4.875199794769287, -6.045899868011475, -5.205599784851074, -5.035699844360352, -5.326700210571289, -4.7565999031066895, -4.98390007019043, -5.361000061035156, -5.190999984741211, -5.712699890136719, -5.276400089263916, -5.579599857330322, -5.447500228881836, -5.373499870300293, -5.343800067901611, -5.864500045776367, -5.8180999755859375]}, \"token.table\": {\"Topic\": [1, 2, 3, 1, 2, 3, 1, 2, 3, 1, 2, 1, 2, 3, 1, 3, 1, 2, 3, 1, 2, 3, 1, 2, 3, 1, 2, 3, 1, 2, 3, 1, 2, 3, 1, 2, 3, 1, 2, 3, 1, 2, 3, 1, 2, 3, 1, 2, 3, 1, 2, 3, 1, 2, 3, 1, 2, 3, 1, 2, 3, 1, 2, 3, 1, 2, 3, 1, 2, 3, 1, 2, 3, 1, 2, 3, 1, 2, 3, 1, 2, 3, 1, 2, 3, 1, 2, 3, 1, 2, 3, 1, 2, 3, 1, 2, 3, 1, 2, 3, 1, 2, 3, 1, 2, 3, 1, 2, 1, 2, 3, 1, 2, 3, 1, 2, 3, 1, 2, 3, 1, 2, 3, 1, 2, 3, 1, 2, 3, 1, 2, 3, 1, 2, 3, 1, 2, 3, 1, 2, 3, 1, 2, 3, 1, 2, 3, 1, 2, 3, 1, 2, 3, 1, 2, 3, 1, 2, 3, 1, 2, 3, 1, 2, 3, 1, 2, 3, 1, 2, 3, 1, 2, 3, 1, 2, 3, 1, 2, 3, 1, 2, 3, 1, 2, 3, 1, 2, 3, 1, 2, 3, 1, 2, 3, 1, 2, 1, 2, 3, 1, 2, 3, 1, 2, 3, 1, 2, 3, 1, 2, 3, 1, 2, 3, 1, 2, 3, 1, 2, 3, 1, 2, 3, 1, 2, 3, 1, 2, 3, 1, 2, 3, 1, 2, 3, 1, 2, 3, 1, 2, 3, 1, 2, 3, 1, 2, 3, 1, 2, 3, 1, 2, 3, 1, 2, 3, 1, 2, 3, 1, 2, 3, 1, 2, 3, 1, 2, 3, 1, 2, 3, 1, 2, 3, 1, 2, 3, 1, 2, 3, 1, 2, 3, 1, 2, 3, 1, 2, 3, 1, 2, 3, 1, 2, 3, 1, 2, 3, 1, 2, 3, 1, 2, 3, 1, 2, 3, 1, 2, 3, 1, 2, 3, 1, 2, 3, 1, 2, 3, 1, 2, 3, 1, 2, 3, 1, 2, 3, 1, 2, 3, 1, 2, 3, 1, 2, 3, 1, 2, 3, 1, 2, 3, 1, 2, 3, 1, 2, 3, 1, 2, 3, 1, 2, 3, 1, 2, 3, 1, 2, 3, 1, 2, 3, 1, 2, 3, 1, 2, 3, 1, 2, 3, 1, 2, 3, 1, 2, 3, 1, 2, 3, 1, 2, 3, 1, 2, 3, 1, 2, 3, 1, 2, 3, 1, 2, 3, 1, 2, 3, 1, 2, 3, 1, 2, 3, 1, 2, 3, 1, 2, 3, 1, 2, 3, 1, 2, 3, 1, 2, 3, 1, 2, 3, 1, 2, 3, 1, 2, 3, 1, 2, 3, 1, 2, 3, 1, 2, 3, 1, 2, 3, 1, 2, 3, 1, 2, 3, 1, 2, 3, 1, 2, 3, 1, 2, 3, 1, 2, 3, 1, 2, 3, 1, 2, 3, 1, 2, 3, 1, 2, 3, 1, 2, 3, 1, 2, 3, 1, 2, 3, 1, 2, 3, 1, 2, 3, 1, 2, 3, 1, 2, 3, 1, 2, 3, 1, 2, 3, 1, 2, 3, 1, 2, 3, 1, 3, 1, 2, 3, 1, 2, 3, 1, 2, 3, 1, 2, 3, 1, 2, 3, 1, 2, 3, 1, 2, 3, 1, 2, 1, 2, 3, 1, 2, 3], \"Freq\": [0.3780519664287567, 0.3780519664287567, 0.3780519664287567, 0.6018522381782532, 0.24074089527130127, 0.12037044763565063, 0.3730109632015228, 0.3730109632015228, 0.3730109632015228, 0.5646076202392578, 0.5646076202392578, 0.38504621386528015, 0.25669747591018677, 0.3529590368270874, 0.565380871295929, 0.565380871295929, 0.5669300556182861, 0.5669300556182861, 0.5669300556182861, 0.49103498458862305, 0.16739828884601593, 0.33479657769203186, 0.6050985455513, 0.20169952511787415, 0.17648707330226898, 0.3740822672843933, 0.3740822672843933, 0.18704113364219666, 0.5981478095054626, 0.21750830113887787, 0.21750830113887787, 0.4377374053001404, 0.37039318680763245, 0.16836054623126984, 0.5665220618247986, 0.5665220618247986, 0.5665220618247986, 0.6040427088737488, 0.18121281266212463, 0.18121281266212463, 0.41990774869918823, 0.34992313385009766, 0.20995387434959412, 0.5446568727493286, 0.18155227601528168, 0.18155227601528168, 0.6223374009132385, 0.23337653279304504, 0.23337653279304504, 0.3745805323123932, 0.1872902661561966, 0.3745805323123932, 0.589401364326477, 0.21432776749134064, 0.21432776749134064, 0.3754114508628845, 0.18770572543144226, 0.3754114508628845, 0.47637632489204407, 0.19615495204925537, 0.32225456833839417, 0.46182188391685486, 0.21617195010185242, 0.32425791025161743, 0.4063508212566376, 0.3483006954193115, 0.24671299755573273, 0.3738012909889221, 0.2803509831428528, 0.3738012909889221, 0.38775306940078735, 0.2714271545410156, 0.3489777743816376, 0.3866695165634155, 0.36733606457710266, 0.2448907047510147, 0.3395569324493408, 0.4527425765991211, 0.22637128829956055, 0.5360386371612549, 0.23262055218219757, 0.23262055218219757, 0.4409387409687042, 0.33595332503318787, 0.2204693704843521, 0.30964118242263794, 0.30964118242263794, 0.30964118242263794, 0.567720890045166, 0.264568954706192, 0.1708674430847168, 0.44972455501556396, 0.22486227750778198, 0.44972455501556396, 0.4116184115409851, 0.2376951426267624, 0.3536439836025238, 0.46919912099838257, 0.21408812701702118, 0.315363347530365, 0.3890930414199829, 0.27465391159057617, 0.3433173894882202, 0.5575727820396423, 0.1943056583404541, 0.2534421682357788, 0.5642842650413513, 0.5642842650413513, 0.34609925746917725, 0.34609925746917725, 0.25957444310188293, 0.3479093611240387, 0.4348866939544678, 0.2609320282936096, 0.5787938237190247, 0.21704767644405365, 0.14469845592975616, 0.564299464225769, 0.2002352923154831, 0.23664170503616333, 0.5632187724113464, 0.2136346995830536, 0.22334536910057068, 0.4224593937397003, 0.2630407512187958, 0.3108663558959961, 0.3769156336784363, 0.3769156336784363, 0.2826867401599884, 0.4215937554836273, 0.3595946729183197, 0.22319670021533966, 0.5816851854324341, 0.22516845166683197, 0.18764036893844604, 0.2819821536540985, 0.2819821536540985, 0.2819821536540985, 0.39527007937431335, 0.26776358485221863, 0.34426748752593994, 0.5191954374313354, 0.24030329287052155, 0.24030329287052155, 0.42931434512138367, 0.28953757882118225, 0.27955353260040283, 0.5674090385437012, 0.257913202047348, 0.18053925037384033, 0.45127299427986145, 0.2654547095298767, 0.2853637933731079, 0.4789353013038635, 0.2962486445903778, 0.22218647599220276, 0.37394949793815613, 0.2804621160030365, 0.37394949793815613, 0.3578336536884308, 0.30000194907188416, 0.3433757424354553, 0.46766069531440735, 0.3304802179336548, 0.20161372423171997, 0.48233163356781006, 0.2672378122806549, 0.24985648691654205, 0.39099013805389404, 0.3649241328239441, 0.2606600821018219, 0.4222773611545563, 0.21113868057727814, 0.33178937435150146, 0.5919910073280334, 0.19733034074306488, 0.19733034074306488, 0.6124479174613953, 0.2041493058204651, 0.2041493058204651, 0.33844903111457825, 0.2256326824426651, 0.4512653648853302, 0.37915781140327454, 0.37915781140327454, 0.37915781140327454, 0.37494802474975586, 0.30933213233947754, 0.31870582699775696, 0.4722955524921417, 0.2653345763683319, 0.2626812160015106, 0.40787047147750854, 0.26802918314933777, 0.3262963891029358, 0.5646665096282959, 0.5646665096282959, 0.6129127740859985, 0.2043042629957199, 0.2043042629957199, 0.4799945056438446, 0.2969038188457489, 0.22267785668373108, 0.4421694576740265, 0.257932186126709, 0.3005976676940918, 0.5385735630989075, 0.2730795741081238, 0.18963858485221863, 0.5617039799690247, 0.25197935104370117, 0.1837349534034729, 0.3772314190864563, 0.3772314190864563, 0.3772314190864563, 0.4720379114151001, 0.24628065526485443, 0.28390687704086304, 0.43218931555747986, 0.3440730571746826, 0.22448667883872986, 0.5799232125282288, 0.2370120882987976, 0.18154117465019226, 0.5446960926055908, 0.18156535923480988, 0.18156535923480988, 0.6537657380104065, 0.2179219275712967, 0.2179219275712967, 0.6097714900970459, 0.17422041296958923, 0.21777552366256714, 0.5360679626464844, 0.18035930395126343, 0.28055891394615173, 0.42799291014671326, 0.27126312255859375, 0.3014034628868103, 0.34686532616615295, 0.2601490020751953, 0.34686532616615295, 0.6213085055351257, 0.20710282027721405, 0.20710282027721405, 0.3739413917064667, 0.3739413917064667, 0.3739413917064667, 0.5145329236984253, 0.2232164889574051, 0.2610498070716858, 0.4289816617965698, 0.34318533539772034, 0.2144908308982849, 0.37389475107192993, 0.37389475107192993, 0.26706770062446594, 0.508124828338623, 0.310520738363266, 0.18348953127861023, 0.5646771788597107, 0.20667923986911774, 0.2288234382867813, 0.28157123923301697, 0.28157123923301697, 0.28157123923301697, 0.6011701822280884, 0.20809736847877502, 0.18497544527053833, 0.4862513840198517, 0.2748377323150635, 0.2385953962802887, 0.45366111397743225, 0.24919413030147552, 0.300310879945755, 0.5850014090538025, 0.16137970983982086, 0.26224201917648315, 0.3912782073020935, 0.2883102595806122, 0.31920063495635986, 0.41455796360969543, 0.3297256529331207, 0.25609758496284485, 0.4589903652667999, 0.20280969142913818, 0.33090004324913025, 0.4363807439804077, 0.3310474753379822, 0.23323798179626465, 0.41605448722839355, 0.24703235924243927, 0.33804428577423096, 0.4223622679710388, 0.28247156739234924, 0.2959226071834564, 0.4312749207019806, 0.2989931106567383, 0.2681877613067627, 0.3946878910064697, 0.2368127405643463, 0.3631128668785095, 0.5643671751022339, 0.22721275687217712, 0.21255385875701904, 0.5828406810760498, 0.16471584141254425, 0.2534089982509613, 0.575304388999939, 0.1558115929365158, 0.26368117332458496, 0.384639173746109, 0.2724527418613434, 0.3365592658519745, 0.3774251937866211, 0.3774251937866211, 0.3774251937866211, 0.39325782656669617, 0.34873807430267334, 0.252278596162796, 0.6123934388160706, 0.20413115620613098, 0.20413115620613098, 0.5987687110900879, 0.163300558924675, 0.21773408353328705, 0.4670432507991791, 0.2826840579509735, 0.2507284879684448, 0.5667293071746826, 0.20879501104354858, 0.22669172286987305, 0.5526076555252075, 0.25534284114837646, 0.19055436551570892, 0.456087201833725, 0.3675926625728607, 0.17698906362056732, 0.39465808868408203, 0.2959935665130615, 0.31008851528167725, 0.38004544377326965, 0.38004544377326965, 0.38004544377326965, 0.4135614037513733, 0.31924036145210266, 0.26845213770866394, 0.38134995102882385, 0.37401628494262695, 0.24201054871082306, 0.3769928514957428, 0.1884964257478714, 0.3769928514957428, 0.5523003935813904, 0.2855430543422699, 0.16155725717544556, 0.5502059459686279, 0.2165704220533371, 0.22827692329883575, 0.3525771498680115, 0.28206172585487366, 0.3525771498680115, 0.41068321466445923, 0.32330378890037537, 0.2708761692047119, 0.5555108189582825, 0.23542524874210358, 0.20991118252277374, 0.4665825068950653, 0.25921252369880676, 0.27426356077194214, 0.4536856412887573, 0.32450056076049805, 0.22146010398864746, 0.37407898902893066, 0.37407898902893066, 0.23020246624946594, 0.3904273808002472, 0.311353474855423, 0.29652711749076843, 0.5660267472267151, 0.5660267472267151, 0.5660267472267151, 0.45217451453208923, 0.45217451453208923, 0.22608725726604462, 0.6103227138519287, 0.22604544460773468, 0.18083634972572327, 0.5873873233795166, 0.2828161120414734, 0.13053052127361298, 0.39947864413261414, 0.23968718945980072, 0.31958290934562683, 0.4255061745643616, 0.33432626724243164, 0.2431463897228241, 0.4913274347782135, 0.21216411888599396, 0.30149638652801514, 0.3768009543418884, 0.3768009543418884, 0.3768009543418884, 0.6482487320899963, 0.1728663295507431, 0.1728663295507431, 0.3772391974925995, 0.3772391974925995, 0.3772391974925995, 0.5801265239715576, 0.1817263811826706, 0.23764219880104065, 0.413359135389328, 0.3543078303337097, 0.23620522022247314, 0.38198742270469666, 0.2893843948841095, 0.3241105377674103, 0.5497739315032959, 0.24494878947734833, 0.20140233635902405, 0.40796446800231934, 0.37532731890678406, 0.2203008085489273, 0.6292647123336792, 0.17479576170444489, 0.20975491404533386, 0.5190817713737488, 0.2372945249080658, 0.24470996856689453, 0.4002198576927185, 0.2712601125240326, 0.3290696442127228, 0.5443831086158752, 0.18146102130413055, 0.18146102130413055, 0.38772594928741455, 0.34895336627960205, 0.27140817046165466, 0.5857989192008972, 0.16737112402915955, 0.2510567009449005, 0.5417566895484924, 0.22573193907737732, 0.22983616590499878, 0.5664458870887756, 0.5664458870887756, 0.5664458870887756, 0.44619858264923096, 0.3026469945907593, 0.25144386291503906, 0.6040856838226318, 0.24163426458835602, 0.24163426458835602, 0.41263091564178467, 0.3398136794567108, 0.24272406101226807, 0.42222774028778076, 0.2814851701259613, 0.42222774028778076, 0.5475114583969116, 0.2629779279232025, 0.19400012493133545, 0.4042679965496063, 0.3804875314235687, 0.21402424573898315, 0.48208966851234436, 0.19721850752830505, 0.31774091720581055, 0.5895680785179138, 0.22675694525241852, 0.18140555918216705, 0.5790343284606934, 0.22058449685573578, 0.19301143288612366, 0.4436309039592743, 0.33032259345054626, 0.22469617426395416, 0.4511895477771759, 0.22559477388858795, 0.4511895477771759, 0.4196922183036804, 0.26539361476898193, 0.3147691488265991, 0.41876330971717834, 0.348969429731369, 0.2268301248550415, 0.410076767206192, 0.2261170893907547, 0.3640868365764618, 0.5776351690292358, 0.23630529642105103, 0.18379300832748413, 0.37681517004966736, 0.30996087193489075, 0.3160385489463806, 0.5692785382270813, 0.15865139663219452, 0.27064061164855957, 0.4481090307235718, 0.2240545153617859, 0.4481090307235718, 0.32178375124931335, 0.32178375124931335, 0.32178375124931335, 0.5650371313095093, 0.5650371313095093, 0.5829038619995117, 0.2309619039297104, 0.17597097158432007, 0.5824549794197083, 0.171749547123909, 0.24642327427864075, 0.2815222442150116, 0.2815222442150116, 0.2815222442150116, 0.3786311149597168, 0.3786311149597168, 0.3786311149597168, 0.399423748254776, 0.35149291157722473, 0.23965425789356232, 0.6175611615180969, 0.18074961006641388, 0.2108745574951172, 0.566643238067627, 0.566643238067627, 0.566643238067627, 0.5656200051307678, 0.5656200051307678, 0.37462660670280457, 0.37462660670280457, 0.37462660670280457, 0.2824234068393707, 0.2824234068393707, 0.2824234068393707], \"Term\": [\"13,512\", \"13,512\", \"13,512\", \"1800\", \"1800\", \"1800\", \"187\", \"187\", \"187\", \"1h 45m\", \"1h 45m\", \"1\\u00b0\", \"1\\u00b0\", \"1\\u00b0\", \"1\\u00b0 12'\", \"1\\u00b0 12'\", \"1\\u00b0 12' 47\\\"\", \"1\\u00b0 12' 47\\\"\", \"1\\u00b0 12' 47\\\"\", \"2\", \"2\", \"2\", \"20\", \"20\", \"20\", \"24\\u00b0\", \"24\\u00b0\", \"24\\u00b0\", \"27\", \"27\", \"27\", \"29\\u00b0\", \"29\\u00b0\", \"29\\u00b0\", \"2\\u00b0 47' 20\\\"\", \"2\\u00b0 47' 20\\\"\", \"2\\u00b0 47' 20\\\"\", \"2\\u00bd\", \"2\\u00bd\", \"2\\u00bd\", \"43\", \"43\", \"43\", \"4\\u00bd\", \"4\\u00bd\", \"4\\u00bd\", \"60\", \"60\", \"60\", \"6h\", \"6h\", \"6h\", \"8\", \"8\", \"8\", \"9265\", \"9265\", \"9265\", \"AB\", \"AB\", \"AB\", \"AC\", \"AC\", \"AC\", \"AD\", \"AD\", \"AD\", \"AI\", \"AI\", \"AI\", \"AL\", \"AL\", \"AL\", \"C\", \"C\", \"C\", \"CBE\", \"CBE\", \"CBE\", \"Chapter\", \"Chapter\", \"Chapter\", \"Copernicus\", \"Copernicus\", \"Copernicus\", \"HI\", \"HI\", \"HI\", \"In\", \"In\", \"In\", \"Later\", \"Later\", \"Later\", \"Let\", \"Let\", \"Let\", \"Mars\", \"Mars\", \"Mars\", \"Nevertheless\", \"Nevertheless\", \"Nevertheless\", \"Now\", \"Now\", \"Now\", \"OE\", \"OE\", \"October\", \"October\", \"October\", \"Protheorem\", \"Protheorem\", \"Protheorem\", \"Similarly\", \"Similarly\", \"Similarly\", \"So\", \"So\", \"So\", \"This\", \"This\", \"This\", \"Thus\", \"Thus\", \"Thus\", \"Venus\", \"Venus\", \"Venus\", \"according\", \"according\", \"according\", \"account\", \"account\", \"account\", \"adjacent\", \"adjacent\", \"adjacent\", \"although\", \"although\", \"although\", \"angle\", \"angle\", \"angle\", \"anomaly\", \"anomaly\", \"anomaly\", \"apogee\", \"apogee\", \"apogee\", \"arc\", \"arc\", \"arc\", \"area\", \"area\", \"area\", \"arising\", \"arising\", \"arising\", \"body\", \"body\", \"body\", \"center\", \"center\", \"center\", \"circle\", \"circle\", \"circle\", \"connected\", \"connected\", \"connected\", \"considered\", \"considered\", \"considered\", \"considering\", \"considering\", \"considering\", \"date\", \"date\", \"date\", \"defined\", \"defined\", \"defined\", \"deflection\", \"deflection\", \"deflection\", \"described\", \"described\", \"described\", \"distance\", \"distance\", \"distance\", \"diurnal\", \"diurnal\", \"diurnal\", \"divergence\", \"divergence\", \"duplicate\", \"duplicate\", \"duplicate\", \"earth\", \"earth\", \"earth\", \"eccentric\", \"eccentric\", \"eccentric\", \"eccentricity\", \"eccentricity\", \"eccentricity\", \"ecliptic\", \"ecliptic\", \"ecliptic\", \"egg\", \"egg\", \"egg\", \"epicycle\", \"epicycle\", \"epicycle\", \"equal\", \"equal\", \"equal\", \"equation\", \"equation\", \"equation\", \"fastest\", \"fastest\", \"fastest\", \"fear\", \"fear\", \"fear\", \"fifth\", \"fifth\", \"fifth\", \"first\", \"first\", \"first\", \"fixed\", \"fixed\", \"fixed\", \"flow\", \"flow\", \"flow\", \"followed\", \"followed\", \"followed\", \"forcefully\", \"forcefully\", \"forcefully\", \"found\", \"found\", \"found\", \"globe\", \"globe\", \"globe\", \"gnomon\", \"gnomon\", \"gnomon\", \"greater\", \"greater\", \"greater\", \"hypothesis\", \"hypothesis\", \"hypothesis\", \"intended\", \"intended\", \"intended\", \"interval\", \"interval\", \"interval\", \"latitude\", \"latitude\", \"latitude\", \"le\", \"le\", \"le\", \"least\", \"least\", \"least\", \"limit\", \"limit\", \"limit\", \"line\", \"line\", \"line\", \"little\", \"little\", \"little\", \"longitude\", \"longitude\", \"longitude\", \"magnitude\", \"magnitude\", \"magnitude\", \"mean\", \"mean\", \"mean\", \"motion\", \"motion\", \"motion\", \"moving\", \"moving\", \"moving\", \"much\", \"much\", \"much\", \"must\", \"must\", \"must\", \"namely\", \"namely\", \"namely\", \"nearly\", \"nearly\", \"nearly\", \"needle\", \"needle\", \"needle\", \"node\", \"node\", \"node\", \"nonagesimal\", \"nonagesimal\", \"nonagesimal\", \"noted\", \"noted\", \"noted\", \"observation\", \"observation\", \"observation\", \"observed\", \"observed\", \"observed\", \"one\", \"one\", \"one\", \"opposite\", \"opposite\", \"opposite\", \"opposition\", \"opposition\", \"opposition\", \"overcomes\", \"overcomes\", \"overcomes\", \"parallax\", \"parallax\", \"parallax\", \"parallel\", \"parallel\", \"parallel\", \"parallelogram\", \"parallelogram\", \"parallelogram\", \"part\", \"part\", \"part\", \"path\", \"path\", \"path\", \"perceptible\", \"perceptible\", \"perceptible\", \"plane\", \"plane\", \"plane\", \"planet\", \"planet\", \"planet\", \"point\", \"point\", \"point\", \"position\", \"position\", \"position\", \"possible\", \"possible\", \"possible\", \"power\", \"power\", \"power\", \"primeval\", \"primeval\", \"primeval\", \"probability\", \"probability\", \"probability\", \"quantity\", \"quantity\", \"quantity\", \"quite\", \"quite\", \"quite\", \"radiation\", \"radiation\", \"radiation\", \"radius\", \"radius\", \"radius\", \"ratio\", \"ratio\", \"ratio\", \"refracted\", \"refracted\", \"refracted\", \"removed\", \"removed\", \"removed\", \"sailor\", \"sailor\", \"sailor\", \"second\", \"second\", \"second\", \"seems\", \"seems\", \"seems\", \"semicircle\", \"semicircle\", \"semicircle\", \"shall\", \"shall\", \"shall\", \"side\", \"side\", \"side\", \"similar\", \"similar\", \"similar\", \"since\", \"since\", \"since\", \"sine\", \"sine\", \"sine\", \"solidity\", \"solidity\", \"solidity\", \"sort\", \"sort\", \"sort\", \"soul\", \"soul\", \"soul\", \"star\", \"star\", \"star\", \"stead\", \"stead\", \"stead\", \"sun\", \"sun\", \"sun\", \"swiftness\", \"swiftness\", \"swiftness\", \"table\", \"table\", \"table\", \"thence\", \"thence\", \"thence\", \"therefore\", \"therefore\", \"therefore\", \"third\", \"third\", \"third\", \"three\", \"three\", \"three\", \"throughout\", \"throughout\", \"throughout\", \"thus\", \"thus\", \"thus\", \"time\", \"time\", \"time\", \"transformed\", \"transformed\", \"transformed\", \"true\", \"true\", \"true\", \"turn\", \"turn\", \"turn\", \"two\", \"two\", \"two\", \"unit\", \"unit\", \"unit\", \"upon\", \"upon\", \"upon\", \"using\", \"using\", \"using\", \"varying\", \"varying\", \"varying\", \"vernal\", \"vernal\", \"vernal\", \"volition\", \"volition\", \"whether\", \"whether\", \"whether\", \"whole\", \"whole\", \"whole\", \"\\u039d\", \"\\u039d\", \"\\u039d\", \"\\u03a7\\u0396\", \"\\u03a7\\u0396\", \"\\u03a7\\u0396\", \"\\u03b1\\u03b2\", \"\\u03b1\\u03b2\", \"\\u03b1\\u03b2\", \"\\u03b5\", \"\\u03b5\", \"\\u03b5\", \"\\u03b9\\u03b3\\u03b6\", \"\\u03b9\\u03b3\\u03b6\", \"\\u03b9\\u03b3\\u03b6\", \"\\u03ba\\u03b3\", \"\\u03ba\\u03b3\", \"\\u03c0\\u03c1\\u03bf\\u03b7\\u03b3\\u03bf\\u1f7b\\u03bc\\u03b5\\u03bd\\u03bf\\u03c2\", \"\\u03c0\\u03c1\\u03bf\\u03b7\\u03b3\\u03bf\\u1f7b\\u03bc\\u03b5\\u03bd\\u03bf\\u03c2\", \"\\u03c0\\u03c1\\u03bf\\u03b7\\u03b3\\u03bf\\u1f7b\\u03bc\\u03b5\\u03bd\\u03bf\\u03c2\", \"\\u03c5\\u03c3\", \"\\u03c5\\u03c3\", \"\\u03c5\\u03c3\"]}, \"R\": 30, \"lambda.step\": 0.01, \"plot.opts\": {\"xlab\": \"PC1\", \"ylab\": \"PC2\"}, \"topic.order\": [3, 2, 1]};\n",
       "\n",
       "function LDAvis_load_lib(url, callback){\n",
       "  var s = document.createElement('script');\n",
       "  s.src = url;\n",
       "  s.async = true;\n",
       "  s.onreadystatechange = s.onload = callback;\n",
       "  s.onerror = function(){console.warn(\"failed to load library \" + url);};\n",
       "  document.getElementsByTagName(\"head\")[0].appendChild(s);\n",
       "}\n",
       "\n",
       "if(typeof(LDAvis) !== \"undefined\"){\n",
       "   // already loaded: just create the visualization\n",
       "   !function(LDAvis){\n",
       "       new LDAvis(\"#\" + \"ldavis_el1192819239022143366415074478\", ldavis_el1192819239022143366415074478_data);\n",
       "   }(LDAvis);\n",
       "}else if(typeof define === \"function\" && define.amd){\n",
       "   // require.js is available: use it to load d3/LDAvis\n",
       "   require.config({paths: {d3: \"https://cdnjs.cloudflare.com/ajax/libs/d3/3.5.5/d3.min\"}});\n",
       "   require([\"d3\"], function(d3){\n",
       "      window.d3 = d3;\n",
       "      LDAvis_load_lib(\"https://cdn.rawgit.com/bmabey/pyLDAvis/files/ldavis.v1.0.0.js\", function(){\n",
       "        new LDAvis(\"#\" + \"ldavis_el1192819239022143366415074478\", ldavis_el1192819239022143366415074478_data);\n",
       "      });\n",
       "    });\n",
       "}else{\n",
       "    // require.js not available: dynamically load d3 & LDAvis\n",
       "    LDAvis_load_lib(\"https://cdnjs.cloudflare.com/ajax/libs/d3/3.5.5/d3.min.js\", function(){\n",
       "         LDAvis_load_lib(\"https://cdn.rawgit.com/bmabey/pyLDAvis/files/ldavis.v1.0.0.js\", function(){\n",
       "                 new LDAvis(\"#\" + \"ldavis_el1192819239022143366415074478\", ldavis_el1192819239022143366415074478_data);\n",
       "            })\n",
       "         });\n",
       "}\n",
       "</script>"
      ],
      "text/plain": [
       "PreparedData(topic_coordinates=              x         y  topics  cluster       Freq\n",
       "topic                                                \n",
       "2     -0.003989  0.000237       1        1  47.408207\n",
       "1      0.001755 -0.003074       2        1  26.856476\n",
       "0      0.002234  0.002837       3        1  25.735315, topic_info=     Category         Freq         Term        Total  loglift  logprob\n",
       "term                                                                  \n",
       "7578  Default  1093.000000          sun  1093.000000  30.0000  30.0000\n",
       "6000  Default   624.000000         line   624.000000  29.0000  29.0000\n",
       "3192  Default   780.000000         Mars   780.000000  28.0000  28.0000\n",
       "6605  Default   650.000000     position   650.000000  27.0000  27.0000\n",
       "6192  Default   551.000000       motion   551.000000  26.0000  26.0000\n",
       "5077  Default   476.000000        equal   476.000000  25.0000  25.0000\n",
       "4120  Default   276.000000         body   276.000000  24.0000  24.0000\n",
       "7732  Default   520.000000         time   520.000000  23.0000  23.0000\n",
       "4950  Default   515.000000    eccentric   515.000000  22.0000  22.0000\n",
       "4872  Default   753.000000     distance   753.000000  21.0000  21.0000\n",
       "7862  Default   260.000000          two   260.000000  20.0000  20.0000\n",
       "6591  Default   597.000000        point   597.000000  19.0000  19.0000\n",
       "6103  Default   371.000000         mean   371.000000  18.0000  18.0000\n",
       "4221  Default   481.000000       center   481.000000  17.0000  17.0000\n",
       "7317  Default   224.000000         sine   224.000000  16.0000  16.0000\n",
       "3843  Default   300.000000      anomaly   300.000000  15.0000  15.0000\n",
       "6628  Default   202.000000        power   202.000000  14.0000  14.0000\n",
       "6323  Default   406.000000  observation   406.000000  13.0000  13.0000\n",
       "7947  Default   164.000000         upon   164.000000  12.0000  12.0000\n",
       "3148  Default   172.000000          Let   172.000000  11.0000  11.0000\n",
       "3902  Default   301.000000          arc   301.000000  10.0000  10.0000\n",
       "4258  Default   460.000000       circle   460.000000   9.0000   9.0000\n",
       "4940  Default   404.000000        earth   404.000000   8.0000   8.0000\n",
       "2515  Default   155.000000            C   155.000000   7.0000   7.0000\n",
       "6470  Default   136.000000     parallel   136.000000   6.0000   6.0000\n",
       "5069  Default   292.000000     epicycle   292.000000   5.0000   5.0000\n",
       "7839  Default   162.000000         true   162.000000   4.0000   4.0000\n",
       "6267  Default   134.000000         node   134.000000   3.0000   3.0000\n",
       "6389  Default   141.000000   opposition   141.000000   2.0000   2.0000\n",
       "7291  Default   122.000000         side   122.000000   1.0000   1.0000\n",
       "...       ...          ...          ...          ...      ...      ...\n",
       "6389   Topic3    43.887482   opposition   141.894974   0.1838  -6.1709\n",
       "7721   Topic3    28.963411        three    91.269325   0.2095  -6.5865\n",
       "3525   Topic3    38.863140         Thus   125.455841   0.1854  -6.2925\n",
       "6591   Topic3   164.354553        point   597.964966   0.0658  -4.8505\n",
       "6852   Topic3    54.024181        ratio   179.106628   0.1588  -5.9631\n",
       "6628   Topic3    60.423092        power   202.342361   0.1487  -5.8512\n",
       "3902   Topic3    86.051620          arc   301.369690   0.1039  -5.4976\n",
       "4872   Topic3   198.020401     distance   753.765320   0.0206  -4.6642\n",
       "5948   Topic3    47.284355           le   156.504486   0.1604  -6.0964\n",
       "7578   Topic3   274.742279          sun  1093.683472  -0.0242  -4.3367\n",
       "6192   Topic3   148.107666       motion   551.852173   0.0420  -4.9546\n",
       "5069   Topic3    83.088310     epicycle   292.349396   0.0993  -5.5326\n",
       "3843   Topic3    84.363525      anomaly   300.479126   0.0871  -5.5174\n",
       "6000   Topic3   160.342987         line   624.761841  -0.0027  -4.8752\n",
       "5327   Topic3    49.732895        fixed   165.890594   0.1526  -6.0459\n",
       "4258   Topic3   115.231026       circle   460.264221  -0.0276  -5.2056\n",
       "3833   Topic3   136.568161        angle   570.112854  -0.0717  -5.0357\n",
       "6323   Topic3   102.093132  observation   406.814575  -0.0252  -5.3267\n",
       "6576   Topic3   180.532639       planet   862.269470  -0.2064  -4.7566\n",
       "6605   Topic3   143.828857     position   650.229980  -0.1514  -4.9839\n",
       "7316   Topic3    98.645065        since   404.560547  -0.0540  -5.3610\n",
       "7732   Topic3   116.930130         time   520.703125  -0.1363  -5.1910\n",
       "5382   Topic3    69.396057        found   264.317383   0.0200  -5.7127\n",
       "5077   Topic3   107.351990        equal   476.642975  -0.1333  -5.2764\n",
       "5936   Topic3    79.275421     latitude   331.104462  -0.0722  -5.5796\n",
       "4940   Topic3    90.471779        earth   404.171295  -0.1395  -5.4475\n",
       "4221   Topic3    97.417717       center   481.118042  -0.2398  -5.3735\n",
       "6371   Topic3   100.352737          one   524.784607  -0.2970  -5.3438\n",
       "3274   Topic3    59.623409          Now   236.740402  -0.0216  -5.8645\n",
       "5608   Topic3    62.452408   hypothesis   270.951263  -0.1102  -5.8181\n",
       "\n",
       "[267 rows x 6 columns], token_table=      Topic      Freq          Term\n",
       "term                               \n",
       "257       1  0.378052        13,512\n",
       "257       2  0.378052        13,512\n",
       "257       3  0.378052        13,512\n",
       "656       1  0.601852          1800\n",
       "656       2  0.240741          1800\n",
       "656       3  0.120370          1800\n",
       "661       1  0.373011           187\n",
       "661       2  0.373011           187\n",
       "661       3  0.373011           187\n",
       "717       1  0.564608        1h 45m\n",
       "717       2  0.564608        1h 45m\n",
       "720       1  0.385046            1°\n",
       "720       2  0.256697            1°\n",
       "720       3  0.352959            1°\n",
       "730       1  0.565381        1° 12'\n",
       "730       3  0.565381        1° 12'\n",
       "733       1  0.566930    1° 12' 47\"\n",
       "733       2  0.566930    1° 12' 47\"\n",
       "733       3  0.566930    1° 12' 47\"\n",
       "835       1  0.491035             2\n",
       "835       2  0.167398             2\n",
       "835       3  0.334797             2\n",
       "849       1  0.605099            20\n",
       "849       2  0.201700            20\n",
       "849       3  0.176487            20\n",
       "992       1  0.374082           24°\n",
       "992       2  0.374082           24°\n",
       "992       3  0.187041           24°\n",
       "1072      1  0.598148            27\n",
       "1072      2  0.217508            27\n",
       "...     ...       ...           ...\n",
       "8030      3  0.565037      volition\n",
       "8085      1  0.582904       whether\n",
       "8085      2  0.230962       whether\n",
       "8085      3  0.175971       whether\n",
       "8092      1  0.582455         whole\n",
       "8092      2  0.171750         whole\n",
       "8092      3  0.246423         whole\n",
       "8234      1  0.281522             Ν\n",
       "8234      2  0.281522             Ν\n",
       "8234      3  0.281522             Ν\n",
       "8255      1  0.378631            ΧΖ\n",
       "8255      2  0.378631            ΧΖ\n",
       "8255      3  0.378631            ΧΖ\n",
       "8269      1  0.399424            αβ\n",
       "8269      2  0.351493            αβ\n",
       "8269      3  0.239654            αβ\n",
       "8475      1  0.617561             ε\n",
       "8475      2  0.180750             ε\n",
       "8475      3  0.210875             ε\n",
       "8624      1  0.566643           ιγζ\n",
       "8624      2  0.566643           ιγζ\n",
       "8624      3  0.566643           ιγζ\n",
       "8647      1  0.565620            κγ\n",
       "8647      2  0.565620            κγ\n",
       "8757      1  0.374627  προηγούμενος\n",
       "8757      2  0.374627  προηγούμενος\n",
       "8757      3  0.374627  προηγούμενος\n",
       "8808      1  0.282423            υσ\n",
       "8808      2  0.282423            υσ\n",
       "8808      3  0.282423            υσ\n",
       "\n",
       "[537 rows x 3 columns], R=30, lambda_step=0.01, plot_opts={'xlab': 'PC1', 'ylab': 'PC2'}, topic_order=[3, 2, 1])"
      ]
     },
     "execution_count": 177,
     "metadata": {},
     "output_type": "execute_result"
    }
   ],
   "source": [
    "vis"
   ]
  },
  {
   "cell_type": "markdown",
   "metadata": {},
   "source": [
    "# 7 Topics"
   ]
  },
  {
   "cell_type": "code",
   "execution_count": 171,
   "metadata": {},
   "outputs": [
    {
     "data": {
      "text/html": [
       "\n",
       "<link rel=\"stylesheet\" type=\"text/css\" href=\"https://cdn.rawgit.com/bmabey/pyLDAvis/files/ldavis.v1.0.0.css\">\n",
       "\n",
       "\n",
       "<div id=\"ldavis_el1192819239689126246893372578\"></div>\n",
       "<script type=\"text/javascript\">\n",
       "\n",
       "var ldavis_el1192819239689126246893372578_data = {\"mdsDat\": {\"x\": [0.0036119585831575463, 0.0029242709939294132, 0.0024051014855509117, -4.88597623832908e-05, -0.0018479303040145557, -0.0009155987644712711, -0.006128942231768755], \"y\": [-0.002136150691221719, 0.0035677492847388174, -0.0024949397662721753, 0.0006682559475796442, -0.0012229145104865312, 0.0021047188697052043, -0.0004867191340432447], \"topics\": [1, 2, 3, 4, 5, 6, 7], \"cluster\": [1, 1, 1, 1, 1, 1, 1], \"Freq\": [62.267845153808594, 13.602232933044434, 8.7393798828125, 5.743852615356445, 4.757052421569824, 4.051949977874756, 0.8376927971839905]}, \"tinfo\": {\"Category\": [\"Default\", \"Default\", \"Default\", \"Default\", \"Default\", \"Default\", \"Default\", \"Default\", \"Default\", \"Default\", \"Default\", \"Default\", \"Default\", \"Default\", \"Default\", \"Default\", \"Default\", \"Default\", \"Default\", \"Default\", \"Default\", \"Default\", \"Default\", \"Default\", \"Default\", \"Default\", \"Default\", \"Default\", \"Default\", \"Default\", \"Topic1\", \"Topic1\", \"Topic1\", \"Topic1\", \"Topic1\", \"Topic1\", \"Topic1\", \"Topic1\", \"Topic1\", \"Topic1\", \"Topic1\", \"Topic1\", \"Topic1\", \"Topic1\", \"Topic1\", \"Topic1\", \"Topic1\", \"Topic1\", \"Topic1\", \"Topic1\", \"Topic1\", \"Topic1\", \"Topic1\", \"Topic1\", \"Topic1\", \"Topic1\", \"Topic1\", \"Topic1\", \"Topic1\", \"Topic1\", \"Topic1\", \"Topic1\", \"Topic1\", \"Topic1\", \"Topic1\", \"Topic1\", \"Topic1\", \"Topic1\", \"Topic1\", \"Topic1\", \"Topic1\", \"Topic1\", \"Topic1\", \"Topic1\", \"Topic1\", \"Topic1\", \"Topic1\", \"Topic1\", \"Topic1\", \"Topic1\", \"Topic1\", \"Topic1\", \"Topic1\", \"Topic1\", \"Topic1\", \"Topic1\", \"Topic1\", \"Topic1\", \"Topic1\", \"Topic1\", \"Topic1\", \"Topic1\", \"Topic1\", \"Topic1\", \"Topic1\", \"Topic1\", \"Topic1\", \"Topic1\", \"Topic1\", \"Topic1\", \"Topic1\", \"Topic1\", \"Topic1\", \"Topic1\", \"Topic1\", \"Topic1\", \"Topic1\", \"Topic1\", \"Topic1\", \"Topic1\", \"Topic1\", \"Topic1\", \"Topic1\", \"Topic1\", \"Topic2\", \"Topic2\", \"Topic2\", \"Topic2\", \"Topic2\", \"Topic2\", \"Topic2\", \"Topic2\", \"Topic2\", \"Topic2\", \"Topic2\", \"Topic2\", \"Topic2\", \"Topic2\", \"Topic2\", \"Topic2\", \"Topic2\", \"Topic2\", \"Topic2\", \"Topic2\", \"Topic2\", \"Topic2\", \"Topic2\", \"Topic2\", \"Topic2\", \"Topic2\", \"Topic2\", \"Topic2\", \"Topic2\", \"Topic2\", \"Topic2\", \"Topic2\", \"Topic2\", \"Topic2\", \"Topic2\", \"Topic2\", \"Topic2\", \"Topic2\", \"Topic2\", \"Topic2\", \"Topic2\", \"Topic2\", \"Topic2\", \"Topic2\", \"Topic2\", \"Topic2\", \"Topic2\", \"Topic2\", \"Topic2\", \"Topic2\", \"Topic2\", \"Topic2\", \"Topic2\", \"Topic2\", \"Topic2\", \"Topic2\", \"Topic2\", \"Topic2\", \"Topic2\", \"Topic2\", \"Topic2\", \"Topic2\", \"Topic2\", \"Topic2\", \"Topic2\", \"Topic2\", \"Topic2\", \"Topic2\", \"Topic2\", \"Topic2\", \"Topic2\", \"Topic2\", \"Topic2\", \"Topic2\", \"Topic2\", \"Topic2\", \"Topic2\", \"Topic2\", \"Topic2\", \"Topic2\", \"Topic2\", \"Topic2\", \"Topic2\", \"Topic2\", \"Topic2\", \"Topic3\", \"Topic3\", \"Topic3\", \"Topic3\", \"Topic3\", \"Topic3\", \"Topic3\", \"Topic3\", \"Topic3\", \"Topic3\", \"Topic3\", \"Topic3\", \"Topic3\", \"Topic3\", \"Topic3\", \"Topic3\", \"Topic3\", \"Topic3\", \"Topic3\", \"Topic3\", \"Topic3\", \"Topic3\", \"Topic3\", \"Topic3\", \"Topic3\", \"Topic3\", \"Topic3\", \"Topic3\", \"Topic3\", \"Topic3\", \"Topic3\", \"Topic3\", \"Topic3\", \"Topic3\", \"Topic3\", \"Topic3\", \"Topic3\", \"Topic3\", \"Topic3\", \"Topic3\", \"Topic3\", \"Topic3\", \"Topic3\", \"Topic3\", \"Topic3\", \"Topic3\", \"Topic3\", \"Topic3\", \"Topic3\", \"Topic3\", \"Topic3\", \"Topic3\", \"Topic3\", \"Topic3\", \"Topic3\", \"Topic3\", \"Topic3\", \"Topic3\", \"Topic3\", \"Topic3\", \"Topic3\", \"Topic3\", \"Topic3\", \"Topic3\", \"Topic3\", \"Topic3\", \"Topic3\", \"Topic3\", \"Topic3\", \"Topic3\", \"Topic3\", \"Topic3\", \"Topic3\", \"Topic3\", \"Topic3\", \"Topic3\", \"Topic3\", \"Topic3\", \"Topic3\", \"Topic3\", \"Topic4\", \"Topic4\", \"Topic4\", \"Topic4\", \"Topic4\", \"Topic4\", \"Topic4\", \"Topic4\", \"Topic4\", \"Topic4\", \"Topic4\", \"Topic4\", \"Topic4\", \"Topic4\", \"Topic4\", \"Topic4\", \"Topic4\", \"Topic4\", \"Topic4\", \"Topic4\", \"Topic4\", \"Topic4\", \"Topic4\", \"Topic4\", \"Topic4\", \"Topic4\", \"Topic4\", \"Topic4\", \"Topic4\", \"Topic4\", \"Topic4\", \"Topic4\", \"Topic4\", \"Topic4\", \"Topic4\", \"Topic4\", \"Topic4\", \"Topic4\", \"Topic4\", \"Topic4\", \"Topic4\", \"Topic4\", \"Topic4\", \"Topic4\", \"Topic4\", \"Topic4\", \"Topic4\", \"Topic4\", \"Topic4\", \"Topic4\", \"Topic4\", \"Topic4\", \"Topic4\", \"Topic4\", \"Topic4\", \"Topic4\", \"Topic4\", \"Topic4\", \"Topic4\", \"Topic4\", \"Topic4\", \"Topic4\", \"Topic4\", \"Topic4\", \"Topic4\", \"Topic4\", \"Topic4\", \"Topic4\", \"Topic4\", \"Topic4\", \"Topic4\", \"Topic4\", \"Topic4\", \"Topic4\", \"Topic4\", \"Topic4\", \"Topic4\", \"Topic4\", \"Topic4\", \"Topic4\", \"Topic4\", \"Topic4\", \"Topic4\", \"Topic4\", \"Topic4\", \"Topic4\", \"Topic4\", \"Topic4\", \"Topic4\", \"Topic4\", \"Topic4\", \"Topic5\", \"Topic5\", \"Topic5\", \"Topic5\", \"Topic5\", \"Topic5\", \"Topic5\", \"Topic5\", \"Topic5\", \"Topic5\", \"Topic5\", \"Topic5\", \"Topic5\", \"Topic5\", \"Topic5\", \"Topic5\", \"Topic5\", \"Topic5\", \"Topic5\", \"Topic5\", \"Topic5\", \"Topic5\", \"Topic5\", \"Topic5\", \"Topic5\", \"Topic5\", \"Topic5\", \"Topic5\", \"Topic5\", \"Topic5\", \"Topic5\", \"Topic5\", \"Topic5\", \"Topic5\", \"Topic5\", \"Topic5\", \"Topic5\", \"Topic5\", \"Topic5\", \"Topic5\", \"Topic5\", \"Topic5\", \"Topic5\", \"Topic5\", \"Topic5\", \"Topic5\", \"Topic5\", \"Topic5\", \"Topic5\", \"Topic5\", \"Topic5\", \"Topic5\", \"Topic5\", \"Topic5\", \"Topic5\", \"Topic5\", \"Topic5\", \"Topic5\", \"Topic5\", \"Topic5\", \"Topic5\", \"Topic5\", \"Topic5\", \"Topic5\", \"Topic5\", \"Topic5\", \"Topic5\", \"Topic5\", \"Topic5\", \"Topic5\", \"Topic5\", \"Topic5\", \"Topic5\", \"Topic5\", \"Topic5\", \"Topic5\", \"Topic5\", \"Topic5\", \"Topic5\", \"Topic5\", \"Topic6\", \"Topic6\", \"Topic6\", \"Topic6\", \"Topic6\", \"Topic6\", \"Topic6\", \"Topic6\", \"Topic6\", \"Topic6\", \"Topic6\", \"Topic6\", \"Topic6\", \"Topic6\", \"Topic6\", \"Topic6\", \"Topic6\", \"Topic6\", \"Topic6\", \"Topic6\", \"Topic6\", \"Topic6\", \"Topic6\", \"Topic6\", \"Topic6\", \"Topic6\", \"Topic6\", \"Topic6\", \"Topic6\", \"Topic6\", \"Topic6\", \"Topic6\", \"Topic6\", \"Topic6\", \"Topic6\", \"Topic6\", \"Topic6\", \"Topic6\", \"Topic6\", \"Topic6\", \"Topic6\", \"Topic6\", \"Topic6\", \"Topic6\", \"Topic6\", \"Topic6\", \"Topic6\", \"Topic6\", \"Topic6\", \"Topic6\", \"Topic6\", \"Topic6\", \"Topic6\", \"Topic6\", \"Topic6\", \"Topic6\", \"Topic6\", \"Topic6\", \"Topic6\", \"Topic6\", \"Topic6\", \"Topic6\", \"Topic6\", \"Topic6\", \"Topic6\", \"Topic6\", \"Topic6\", \"Topic6\", \"Topic6\", \"Topic6\", \"Topic6\", \"Topic6\", \"Topic6\", \"Topic6\", \"Topic6\", \"Topic6\", \"Topic6\", \"Topic6\", \"Topic6\", \"Topic6\", \"Topic6\", \"Topic6\", \"Topic6\", \"Topic7\", \"Topic7\", \"Topic7\", \"Topic7\", \"Topic7\", \"Topic7\", \"Topic7\", \"Topic7\", \"Topic7\", \"Topic7\", \"Topic7\", \"Topic7\", \"Topic7\", \"Topic7\", \"Topic7\", \"Topic7\", \"Topic7\", \"Topic7\", \"Topic7\", \"Topic7\", \"Topic7\", \"Topic7\", \"Topic7\", \"Topic7\", \"Topic7\", \"Topic7\", \"Topic7\", \"Topic7\", \"Topic7\", \"Topic7\", \"Topic7\", \"Topic7\", \"Topic7\", \"Topic7\", \"Topic7\", \"Topic7\", \"Topic7\", \"Topic7\", \"Topic7\", \"Topic7\", \"Topic7\", \"Topic7\", \"Topic7\", \"Topic7\", \"Topic7\", \"Topic7\", \"Topic7\", \"Topic7\", \"Topic7\", \"Topic7\", \"Topic7\", \"Topic7\", \"Topic7\", \"Topic7\", \"Topic7\", \"Topic7\", \"Topic7\", \"Topic7\", \"Topic7\", \"Topic7\", \"Topic7\", \"Topic7\", \"Topic7\", \"Topic7\", \"Topic7\", \"Topic7\", \"Topic7\", \"Topic7\", \"Topic7\", \"Topic7\", \"Topic7\", \"Topic7\", \"Topic7\", \"Topic7\", \"Topic7\", \"Topic7\", \"Topic7\", \"Topic7\", \"Topic7\", \"Topic7\"], \"Freq\": [1157.0, 804.0, 783.0, 728.0, 687.0, 600.0, 649.0, 501.0, 564.0, 558.0, 548.0, 469.0, 476.0, 532.0, 409.0, 391.0, 485.0, 415.0, 384.0, 335.0, 295.0, 245.0, 298.0, 303.0, 289.0, 269.0, 244.0, 274.0, 234.0, 267.0, 3.4361608028411865, 3.38927960395813, 3.240117073059082, 2.3804733753204346, 2.4132332801818848, 34.40845489501953, 3.129774570465088, 3.1595211029052734, 3.15974497795105, 2.32501482963562, 3.1149604320526123, 2.3196194171905518, 3.996157646179199, 3.097085475921631, 3.0852255821228027, 3.032419204711914, 118.53828430175781, 8.44003677368164, 2.2613630294799805, 2.9502031803131104, 3.0130088329315186, 2.9865310192108154, 2.249864101409912, 12.14614200592041, 2.2298076152801514, 2.238337755203247, 2.1956605911254883, 2.2619893550872803, 2.2109363079071045, 2.2787418365478516, 127.44072723388672, 27.855083465576172, 17.1527099609375, 151.82740783691406, 4.4018683433532715, 7.586437702178955, 3.712567090988159, 384.4991149902344, 110.46550750732422, 74.37117004394531, 70.66360473632812, 45.84109878540039, 104.02606201171875, 16.981996536254883, 137.03504943847656, 108.33415985107422, 146.74417114257812, 53.80387496948242, 103.62138366699219, 449.228515625, 741.7775268554688, 86.94596862792969, 115.83951568603516, 92.4941177368164, 355.1560363769531, 268.4217224121094, 114.62117767333984, 163.59457397460938, 104.66657257080078, 495.6755676269531, 65.01507568359375, 410.6726989746094, 311.05450439453125, 116.2139663696289, 246.02076721191406, 352.2649230957031, 178.60621643066406, 369.0613098144531, 189.23892211914062, 324.0225830078125, 212.63546752929688, 291.4029541015625, 257.2244873046875, 423.9618225097656, 463.4389343261719, 284.5632019042969, 237.947509765625, 171.80908203125, 180.6014862060547, 186.7895965576172, 271.677978515625, 163.64886474609375, 152.48977661132812, 169.76585388183594, 0.6791769862174988, 0.6651392579078674, 0.39832186698913574, 0.5438766479492188, 0.652962863445282, 1.0307351350784302, 0.3698172867298126, 0.3930562436580658, 0.35342171788215637, 0.37989744544029236, 1.1476739645004272, 0.37295567989349365, 0.6689535975456238, 0.37718069553375244, 0.813521146774292, 0.8875880241394043, 0.35494980216026306, 0.37914925813674927, 0.3725007474422455, 0.5288285613059998, 0.3678300678730011, 0.37695208191871643, 0.362038254737854, 0.34895041584968567, 0.5986820459365845, 0.6112075448036194, 0.36133575439453125, 0.36499926447868347, 0.330030232667923, 0.33919063210487366, 0.5672385692596436, 5.655777931213379, 1.9438546895980835, 2.1620633602142334, 1.4546048641204834, 31.234769821166992, 61.19367599487305, 4.549126148223877, 15.694108963012695, 1.3373881578445435, 14.208298683166504, 9.409218788146973, 19.19102668762207, 43.84474563598633, 12.622982025146484, 89.32846069335938, 16.985885620117188, 127.85234069824219, 30.326969146728516, 10.705267906188965, 19.863994598388672, 6.854232311248779, 5.488144874572754, 28.569236755371094, 7.962761402130127, 105.46297454833984, 88.06597900390625, 10.078896522521973, 25.16887664794922, 15.076497077941895, 73.7497787475586, 30.8211727142334, 34.29426193237305, 70.30937957763672, 41.83643341064453, 36.288333892822266, 144.7312469482422, 87.68732452392578, 91.5191650390625, 73.71350860595703, 64.17147827148438, 42.61427688598633, 63.934295654296875, 57.04545974731445, 93.69124603271484, 46.769989013671875, 66.16983795166016, 48.90353775024414, 35.441593170166016, 46.98636245727539, 40.322959899902344, 58.945682525634766, 44.43220138549805, 34.312835693359375, 36.574710845947266, 0.4615965783596039, 0.4106829762458801, 0.2632788121700287, 0.2648107409477234, 0.377469927072525, 0.4070059061050415, 0.35672783851623535, 0.2592690885066986, 0.4238835871219635, 0.22457478940486908, 0.2441544532775879, 0.24605469405651093, 0.3673355281352997, 0.8437330722808838, 0.22935573756694794, 0.24339288473129272, 0.23814640939235687, 0.23714052140712738, 0.23864784836769104, 0.23629292845726013, 0.2140086144208908, 0.6917696595191956, 0.3576808273792267, 0.3942861258983612, 0.21817387640476227, 0.22229039669036865, 0.21657457947731018, 0.2186727225780487, 0.23464195430278778, 0.3755340874195099, 1.8174077272415161, 0.4617854952812195, 0.4081067442893982, 18.738386154174805, 0.46910354495048523, 86.14976501464844, 25.697650909423828, 11.008644104003906, 122.66854858398438, 0.7389511466026306, 4.952016353607178, 19.433063507080078, 1.0713289976119995, 52.874813079833984, 0.6260415315628052, 41.818992614746094, 77.66737365722656, 15.448220252990723, 20.46608543395996, 16.435970306396484, 18.863210678100586, 48.37997817993164, 20.488426208496094, 42.120670318603516, 57.40262985229492, 20.781158447265625, 52.91761779785156, 45.01039505004883, 11.501233100891113, 20.974950790405273, 57.55513381958008, 28.30194091796875, 9.544809341430664, 29.067190170288086, 35.35628890991211, 41.45549774169922, 23.025896072387695, 13.618448257446289, 62.51587677001953, 25.785823822021484, 43.7893180847168, 42.46676254272461, 50.14234161376953, 33.543460845947266, 40.221065521240234, 27.614797592163086, 23.88443946838379, 23.27093505859375, 22.289569854736328, 21.720739364624023, 0.18649019300937653, 0.16796356439590454, 0.16847649216651917, 0.17859560251235962, 0.16475600004196167, 0.17515629529953003, 0.15433469414710999, 0.16379225254058838, 0.28189727663993835, 0.1593492329120636, 0.15832240879535675, 0.155025914311409, 0.15823769569396973, 0.16125249862670898, 0.2610054016113281, 0.2652144134044647, 0.1652190238237381, 0.16084234416484833, 0.16025499999523163, 0.5274039506912231, 0.23635680973529816, 0.16399739682674408, 0.15897780656814575, 0.15557578206062317, 0.14830045402050018, 0.15512168407440186, 0.3301548957824707, 0.14749173820018768, 0.1546369194984436, 0.1639278382062912, 0.5389183163642883, 0.7343703508377075, 0.23765389621257782, 4.073949337005615, 0.20800325274467468, 0.6114663481712341, 0.49295666813850403, 0.41164660453796387, 13.070752143859863, 59.46456527709961, 4.035416126251221, 1.759117603302002, 12.560383796691895, 22.38359260559082, 5.404998779296875, 3.744307518005371, 3.6068172454833984, 4.299951076507568, 1.3497750759124756, 43.605709075927734, 34.14391326904297, 1.2891231775283813, 9.363309860229492, 6.767263412475586, 30.466646194458008, 10.382034301757812, 8.723401069641113, 5.857365131378174, 25.271326065063477, 6.271246433258057, 10.180542945861816, 5.013157367706299, 11.58010196685791, 4.059479236602783, 3.446957588195801, 28.14939308166504, 34.52497100830078, 16.003053665161133, 31.021692276000977, 8.920337677001953, 13.369256019592285, 42.58024597167969, 18.69536018371582, 39.71841812133789, 57.515159606933594, 30.650150299072266, 22.348661422729492, 29.74486541748047, 16.633499145507812, 15.295685768127441, 18.127079010009766, 14.807161331176758, 22.509483337402344, 22.216293334960938, 32.247920989990234, 19.04010009765625, 24.548255920410156, 12.493663787841797, 18.697498321533203, 14.749046325683594, 13.876224517822266, 0.1599145233631134, 0.3905080556869507, 0.1483321189880371, 0.1407054215669632, 0.23484152555465698, 0.14773820340633392, 0.14635632932186127, 0.14950110018253326, 0.13663075864315033, 0.12957817316055298, 0.14624902606010437, 0.14017914235591888, 0.13818618655204773, 0.281316876411438, 0.14140766859054565, 0.13498026132583618, 0.1451820731163025, 0.13516412675380707, 0.1857815980911255, 0.13631436228752136, 0.1303480565547943, 0.12271230667829514, 0.13863176107406616, 0.2081562727689743, 0.13116858899593353, 0.13240036368370056, 0.23305870592594147, 0.13414441049098969, 0.3394894599914551, 0.3405620753765106, 40.8569221496582, 2.9791617393493652, 13.620676040649414, 0.9415989518165588, 3.9589717388153076, 0.2827293574810028, 32.43021011352539, 10.447897911071777, 3.053671360015869, 42.449668884277344, 8.584612846374512, 42.690677642822266, 14.584733009338379, 14.119253158569336, 2.68993878364563, 3.1088781356811523, 6.354214191436768, 24.79930305480957, 5.372231483459473, 7.2606377601623535, 35.34413146972656, 5.107370853424072, 5.827295303344727, 14.429099082946777, 11.788556098937988, 14.659791946411133, 10.01906681060791, 20.603944778442383, 4.7954230308532715, 5.352970123291016, 25.694944381713867, 15.033495903015137, 29.202526092529297, 7.748720645904541, 21.52463722229004, 24.091270446777344, 18.17151641845703, 27.23925018310547, 42.50862121582031, 22.841503143310547, 20.84551429748535, 24.235116958618164, 13.183446884155273, 17.254472732543945, 11.717233657836914, 13.442036628723145, 11.720203399658203, 13.674174308776855, 12.548103332519531, 13.453192710876465, 0.13479377329349518, 0.13451264798641205, 0.3290175795555115, 0.11704632639884949, 0.1136106550693512, 0.2162347435951233, 0.11578032374382019, 0.11601963639259338, 0.2501677870750427, 0.11964616179466248, 0.11660757660865784, 0.11346787214279175, 0.27121829986572266, 0.18054157495498657, 0.1147061362862587, 0.10816481709480286, 0.1128937378525734, 0.2340787649154663, 0.10681663453578949, 0.11383087188005447, 0.12215857207775116, 0.11223544180393219, 0.11295367777347565, 0.11565803736448288, 0.11201739311218262, 0.16301438212394714, 0.18736307322978973, 0.11073551326990128, 0.23788820207118988, 0.11185405403375626, 4.929140090942383, 1.0310307741165161, 0.2821061313152313, 0.19630922377109528, 0.18356572091579437, 0.23642970621585846, 42.19367980957031, 5.8789381980896, 4.881162166595459, 0.9223873615264893, 21.229320526123047, 5.497627258300781, 12.715424537658691, 3.2812113761901855, 22.483932495117188, 6.788717269897461, 23.416217803955078, 6.719579696655273, 10.748881340026855, 25.8824462890625, 2.585454225540161, 30.468368530273438, 32.040931701660156, 8.481850624084473, 5.174133777618408, 6.2922210693359375, 6.470288276672363, 11.727882385253906, 6.097968578338623, 5.9171223640441895, 3.3827409744262695, 13.552706718444824, 7.078354835510254, 42.64840316772461, 16.68695831298828, 12.76560115814209, 20.94786262512207, 19.916746139526367, 21.67822265625, 15.422184944152832, 23.55668067932129, 16.220645904541016, 17.686872482299805, 12.639442443847656, 10.889787673950195, 11.555619239807129, 15.96125316619873, 13.49690055847168, 18.074254989624023, 8.777007102966309, 10.147028923034668, 8.954145431518555, 8.925934791564941, 0.03991498798131943, 0.026603754609823227, 0.02661914937198162, 0.02986314706504345, 0.02620413899421692, 0.026228679344058037, 0.026554198935627937, 0.026164617389440536, 0.0265707578510046, 0.024384308606386185, 0.02674524113535881, 0.0688072070479393, 0.02519204653799534, 0.028293125331401825, 0.024715788662433624, 0.024578886106610298, 0.025212615728378296, 0.025911858305335045, 0.025105755776166916, 0.025739356875419617, 0.024357236921787262, 0.02575950138270855, 0.025618264451622963, 0.0265891645103693, 0.025434723123908043, 0.02539678104221821, 0.025736317038536072, 0.02356627956032753, 0.025638481602072716, 0.023810988292098045, 0.025347208604216576, 0.035254962742328644, 7.543941020965576, 0.8079548478126526, 0.09245150536298752, 3.958765745162964, 1.5013080835342407, 2.5044288635253906, 1.9161938428878784, 5.321765422821045, 0.2720000743865967, 1.3137218952178955, 6.813690185546875, 3.1345865726470947, 3.709329128265381, 2.3180251121520996, 2.217339038848877, 4.286917686462402, 4.074985980987549, 1.012467384338379, 5.719153881072998, 0.28330495953559875, 1.6147441864013672, 3.9097745418548584, 1.60356605052948, 1.8694521188735962, 0.8056421875953674, 0.874137818813324, 0.8656187057495117, 1.2986795902252197, 1.461350679397583, 2.4659981727600098, 1.862649917602539, 4.076998233795166, 1.341363549232483, 4.562631607055664, 2.346290111541748, 3.861229658126831, 2.898430109024048, 3.8804538249969482, 1.9446475505828857, 4.301113128662109, 2.1964070796966553, 3.244999885559082, 5.718654632568359, 2.152294874191284, 2.012310743331909, 2.748605966567993, 2.219325065612793, 1.9383323192596436], \"Term\": [\"sun\", \"planet\", \"Mars\", \"distance\", \"position\", \"point\", \"line\", \"motion\", \"angle\", \"eccentric\", \"time\", \"center\", \"equal\", \"one\", \"since\", \"earth\", \"circle\", \"observation\", \"mean\", \"latitude\", \"epicycle\", \"eccentricity\", \"anomaly\", \"arc\", \"body\", \"hypothesis\", \"part\", \"two\", \"star\", \"found\", \"Under\", \"\\u03b2\\u03b8\\u03b1\", \"ruin\", \"maintained\", \"FBE\", \"happen\", \"29\\u00b0 20' 12\\\" Leo\", \"considerable\", \"artificial\", \"prepared\", \"underwent\", \"31\\u00b0\", \"Over\", \"ADE\", \"falsely\", \"5\\u00b0 19'\", \"made\", \"want\", \"furnish\", \"emitted\", \"substitution\", \"7h 20m\", \"prop\", \"geometer\", \"\\u03b7\\u03b8\\u03b1\", \"adduced\", \"\\u03ba\\u03b6\", \"SB\", \"\\u03c4\\u03b1\", \"privation\", \"drawn\", \"obtained\", \"arises\", \"equation\", \"object\", \"HA\", \"131\", \"eccentric\", \"opposition\", \"force\", \"maximum\", \"magnetic\", \"much\", \"By\", \"shall\", \"right\", \"first\", \"CD\", \"measure\", \"position\", \"sun\", \"half\", \"le\", \"towards\", \"time\", \"since\", \"apparent\", \"Now\", \"degree\", \"Mars\", \"order\", \"line\", \"circle\", \"true\", \"mean\", \"angle\", \"two\", \"point\", \"epicycle\", \"one\", \"latitude\", \"equal\", \"observation\", \"distance\", \"planet\", \"center\", \"earth\", \"hypothesis\", \"body\", \"arc\", \"motion\", \"found\", \"sine\", \"anomaly\", \"Granted\", \"capacity\", \"166,226\", \"16\\u00be\", \"minus\", \"30th\", \"walking\", \"graduation\", \"Sphere\", \"87,091\", \"14\\u00b0\", \"ordering\", \"29\\u00b0 18'\", \"27' 10\\\"\", \"300\", \"additive\", \"achieved\", \"477\", \"sighted\", \"\\u03b1\\u03b7\\u03b4\", \"98,670\", \"\\u03c5\\u03b4\\u03a6\", \"558,634\", \"lifetime\", \"\\u03b6\\u03b1\\u03b5\", \"forego\", \"0\\u00b0 43' 46\\\"\", \"1\\u00b0 50' 20\\\"\", \"152,215\", \"propagated\", \"providence\", \"5\\u00bd\", \"wonder\", \"54\", \"DO\", \"observed\", \"anomaly\", \"supplement\", \"whose\", \"appreciable\", \"chapter\", \"without\", \"smaller\", \"part\", \"still\", \"one\", \"2\", \"planet\", \"sum\", \"farther\", \"taken\", \"increased\", \"already\", \"ratio\", \"optical\", \"distance\", \"point\", \"Cor\", \"aphelion\", \"certain\", \"motion\", \"ecliptic\", \"So\", \"circle\", \"found\", \"therefore\", \"sun\", \"line\", \"position\", \"time\", \"center\", \"body\", \"equal\", \"observation\", \"Mars\", \"latitude\", \"angle\", \"earth\", \"eccentricity\", \"mean\", \"arc\", \"eccentric\", \"since\", \"sine\", \"epicycle\", \"grain\", \"3' 29\\\"\", \"declinational\", \"9\\u00b0 52' 50\\\"\", \"discipline\", \"remark\", \"16\\u00be\", \"86\\u00b0 44' 52\\\"\", \"intelligence\", \"monstrosity\", \"balked\", \"Fourteen\", \"IE\", \"demonstratively\", \"wide\", \"11,801\", \"98,248\", \"After 21 \", \"chariot\", \"2\\u00b0 3' 6\\\"\", \"WITH\", \"hit\", \"24\\u00bd\", \"evenly\", \"\\u03c3\\u03bb\", \"BMA\", \"2\\u00b0 36' Sagittarius\", \"MBA\", \"3\\u00b0 38' 16\\\"\", \"propose\", \"reckoned\", \"chance\", \"undergoes\", \"It\", \"1143\", \"distance\", \"power\", \"whether\", \"sun\", \"AR\", \"connected\", \"fixed\", \"Before\", \"motion\", \"numbered\", \"earth\", \"Mars\", \"difference\", \"In\", \"observed\", \"sum\", \"equal\", \"minute\", \"observation\", \"point\", \"Chapter\", \"angle\", \"circle\", \"could\", \"This\", \"line\", \"body\", \"great\", \"arc\", \"mean\", \"center\", \"star\", \"following\", \"planet\", \"two\", \"time\", \"one\", \"position\", \"since\", \"eccentric\", \"latitude\", \"found\", \"hypothesis\", \"part\", \"anomaly\", \"causes43\", \"loathing\", \"\\u03b4\\u03c0\\u03b5\", \"87,400\", \"27\\u00b0 14' 42\\\" Sagittarius\", \"\\u03b7\\u03b5\\u03b1\", \"11\\u00b0 19' 20\\\" Virgo\", \"ZNA\", \"o\\u03c8\", \"fashion\", \"B\\u03b1\\u03b4\", \"worthless\", \"9\\u00b0 44'\", \"foresee\", \"culmination\", \"battle\", \"3,628\", \"rebellion\", \"December 7 \", \"reciprocate\", \"\\u03c1\\u03bd\\u03b5\", \"divisible\", \"outright\", \"1584 October 30\", \"industrious\", \"26\\u00b0 35' 7\\\"\", \"\\u03c1\\u03b5\", \"unimpeded\", \"6\\u00b0 37' 5\\\"\", \"53\\u00b0 5'\", \"roughly\", \"catalog\", \"substrate\", \"quantity\", \"16\\u00be\", \"measurement\", \"circumferential\", \"brings\", \"observed\", \"planet\", \"divided\", \"Its\", \"B\", \"epicycle\", \"perigee\", \"faculty\", \"acronychal\", \"remain\", \"nearest\", \"line\", \"motion\", \"They\", \"cause\", \"see\", \"equal\", \"It\", \"apogee\", \"observer\", \"earth\", \"great\", \"opposite\", \"computed\", \"sum\", \"shown\", \"corresponding\", \"center\", \"point\", \"eccentricity\", \"one\", \"Thus\", \"power\", \"Mars\", \"anomaly\", \"distance\", \"sun\", \"angle\", \"mean\", \"time\", \"hypothesis\", \"part\", \"arc\", \"star\", \"observation\", \"since\", \"position\", \"latitude\", \"eccentric\", \"Chapter\", \"circle\", \"body\", \"Now\", \"431\", \"governed\", \"plausibility\", \"brood\", \"forcefully\", \"162\", \"7\\u00b0 51'\", \"FBV\", \"quintiles\", \"11\\u00b0 19' 20\\\" Virgo\", \"consumed\", \"info\", \"\\u03b4\\u03bc\\u03b5\", \"1' 48\\\"\", \"contention\", \"fifteenth\", \"declares\", \"000,000\", \"discipline\", \"1790\", \"107\", \"IIb\", \"men\", \"armillaries\", \"keen\", \"109,265\", \"PL\", \"\\u03b2\\u03b3\\u03c7\", \"universal\", \"containing\", \"motion\", \"single\", \"area\", \"possibility\", \"\\u03b8\", \"29\\u00b0 19'\", \"angle\", \"ratio\", \"know\", \"Mars\", \"parallel\", \"planet\", \"eccentricity\", \"part\", \"measured\", \"without\", \"moved\", \"center\", \"may\", \"equated\", \"distance\", \"namely\", \"order\", \"found\", \"So\", \"two\", \"given\", \"since\", \"take\", \"see\", \"eccentric\", \"arc\", \"position\", \"longitude\", \"equal\", \"time\", \"earth\", \"line\", \"sun\", \"one\", \"circle\", \"point\", \"hypothesis\", \"mean\", \"star\", \"epicycle\", \"sine\", \"latitude\", \"body\", \"observation\", \"147,743\", \"magnified\", \"eliminated\", \"broad\", \"visually\", \"1585 April 26\", \"686,291\", \"21\\u00b0 39' 10\\\"\", \"speeding\", \"\\u03b4\\u03b6\\u03b3\", \"class\", \"1\\u2154\", \"seized\", \"Chapter 32 \", \"fifteenth\", \"entwined\", \"noticed\", \"1' 48\\\"\", \"\\u03c3\\u03bb\", \"1\\u00b0 52'\", \"48\\u00b0 44'\", \"slope\", \"109,265\", \"encircle\", \"0\\u00b0 0' 45\\\"\", \"1593 August 24\", \"25\\u00b0 45' 51\\\" Pisces\", \"BAF\", \"\\u03b8\\u03b1\\u03b2\", \"6\\u00b0 20' 50\\\"\", \"still\", \"They\", \"whereby\", \"odds\", \"escaped\", \"14,140\", \"planet\", \"using\", \"demonstrated\", \"appropriate\", \"observation\", \"AC\", \"eccentricity\", \"\\u03b8\", \"center\", \"Thus\", \"motion\", \"said\", \"So\", \"angle\", \"9\", \"position\", \"distance\", \"ratio\", \"around\", \"\\u03b2\", \"apsis\", \"part\", \"form\", \"method\", \"far\", \"anomaly\", \"second\", \"sun\", \"since\", \"arc\", \"eccentric\", \"one\", \"point\", \"earth\", \"Mars\", \"equal\", \"time\", \"latitude\", \"hypothesis\", \"epicycle\", \"circle\", \"mean\", \"line\", \"Ch\", \"found\", \"star\", \"therefore\", \"discipline\", \"poorly\", \"1796\", \"61' 18\\\"\", \"translates\", \"157\", \"85\\u00b0 49'\", \"fortune\", \"9\\u00b0 2'\", \"WITH\", \"139,300\", \"containing\", \"encumbrance\", \"357th\", \"\\u03c3\\u03bb\", \"27\\u00b0 14' 42\\\" Sagittarius\", \"138,261\", \"March 9 \", \"Use\", \"devise\", \"Albategnius6\", \"overthrown\", \"7\\u00b0 5' 1\\\"\", \"8h 0m\", \"98,670\", \"1\\u00b0 4' 36\\\" Libra\", \"\\u0391\\u0399\", \"0\\u00b0 45' 36\\\" Sagittarius\", \"globular\", \"circumscribes\", \"29\\u00b0 20' Leo\", \"1593 August 24\", \"Mars\", \"correct\", \"fiber\", \"earth\", \"diameter\", \"eccentricity\", \"ecliptic\", \"point\", \"exceeds\", \"side\", \"planet\", \"latitude\", \"since\", \"part\", \"star\", \"motion\", \"equal\", \"4\", \"distance\", \"CBD\", \"orb\", \"center\", \"sum\", \"Ch\", \"respect\", \"E\", \"table\", \"another\", \"B\", \"epicycle\", \"So\", \"eccentric\", \"It\", \"line\", \"body\", \"time\", \"mean\", \"angle\", \"therefore\", \"position\", \"two\", \"circle\", \"sun\", \"hypothesis\", \"Now\", \"one\", \"observation\", \"anomaly\"], \"Total\": [1157.0, 804.0, 783.0, 728.0, 687.0, 600.0, 649.0, 501.0, 564.0, 558.0, 548.0, 469.0, 476.0, 532.0, 409.0, 391.0, 485.0, 415.0, 384.0, 335.0, 295.0, 245.0, 298.0, 303.0, 289.0, 269.0, 244.0, 274.0, 234.0, 267.0, 4.349384784698486, 4.368067741394043, 4.233616828918457, 3.111440896987915, 3.15697979927063, 45.64766311645508, 4.155077934265137, 4.195926189422607, 4.196795463562012, 3.0974104404449463, 4.163949012756348, 3.1030869483947754, 5.348753929138184, 4.152731895446777, 4.1373090744018555, 4.093880653381348, 160.14210510253906, 11.404093742370605, 3.058196783065796, 3.9937751293182373, 4.0828375816345215, 4.054923057556152, 3.0567867755889893, 16.510005950927734, 3.030942678451538, 3.047150135040283, 2.9908559322357178, 3.0842411518096924, 3.015162229537964, 3.108168125152588, 174.96434020996094, 38.27572250366211, 23.577919006347656, 214.69281005859375, 6.010805606842041, 10.432233810424805, 5.068664073944092, 558.9339599609375, 157.66452026367188, 105.32589721679688, 100.3099365234375, 64.52652740478516, 149.0460968017578, 23.563859939575195, 199.46351623535156, 157.025146484375, 215.7860870361328, 76.98576354980469, 151.33139038085938, 687.1099243164062, 1157.5682373046875, 127.13681030273438, 171.0894775390625, 135.9409637451172, 548.0430908203125, 409.6138610839844, 169.70887756347656, 246.33782958984375, 154.86781311035156, 783.1647338867188, 94.75537872314453, 649.3970336914062, 485.1235656738281, 173.69956970214844, 384.3619079589844, 564.1956176757812, 274.3135070800781, 600.2899780273438, 295.4282531738281, 532.3463134765625, 335.508544921875, 476.0041198730469, 415.80194091796875, 728.3972778320312, 804.9697265625, 469.5325622558594, 391.49383544921875, 269.7114562988281, 289.1438903808594, 303.9108581542969, 501.006591796875, 267.4087829589844, 238.70387268066406, 298.4223327636719, 2.1878085136413574, 2.287445306777954, 1.4042997360229492, 1.9266782999038696, 2.316676378250122, 3.7043750286102295, 1.3291422128677368, 1.4388725757598877, 1.2958874702453613, 1.3985153436660767, 4.254518985748291, 1.3981540203094482, 2.5094048976898193, 1.4165550470352173, 3.057053565979004, 3.340254068374634, 1.3570172786712646, 1.4572727680206299, 1.4478514194488525, 2.0571799278259277, 1.4345576763153076, 1.4722644090652466, 1.4211853742599487, 1.3764622211456299, 2.368722915649414, 2.4231655597686768, 1.4423166513442993, 1.4583282470703125, 1.3211666345596313, 1.367835521697998, 2.2961976528167725, 24.086956024169922, 8.107865333557129, 9.053786277770996, 6.0538105964660645, 144.378662109375, 298.4223327636719, 20.016393661499023, 76.76949310302734, 5.611917972564697, 69.6027603149414, 45.3218994140625, 98.64395904541016, 244.2457275390625, 63.106693267822266, 532.3463134765625, 88.3398208618164, 804.9697265625, 168.19772338867188, 54.11296463012695, 106.90699005126953, 33.40486145019531, 26.209444046020508, 163.9743194580078, 39.76767349243164, 728.3972778320312, 600.2899780273438, 51.90939712524414, 146.91368103027344, 82.1012954711914, 501.006591796875, 187.08447265625, 212.15724182128906, 485.1235656738281, 267.4087829589844, 230.57247924804688, 1157.5682373046875, 649.3970336914062, 687.1099243164062, 548.0430908203125, 469.5325622558594, 289.1438903808594, 476.0041198730469, 415.80194091796875, 783.1647338867188, 335.508544921875, 564.1956176757812, 391.49383544921875, 245.96875, 384.3619079589844, 303.9108581542969, 558.9339599609375, 409.6138610839844, 238.70387268066406, 295.4282531738281, 2.148552894592285, 1.9584686756134033, 1.3119088411331177, 1.3613790273666382, 1.957829236984253, 2.1197831630706787, 1.9266782999038696, 1.443361520767212, 2.3851265907287598, 1.2839651107788086, 1.4053057432174683, 1.4292055368423462, 2.146451234817505, 4.952943325042725, 1.3671212196350098, 1.4589412212371826, 1.4284908771514893, 1.424386978149414, 1.4384825229644775, 1.426406741142273, 1.2968772649765015, 4.194336414337158, 2.1713874340057373, 2.3957343101501465, 1.3344460725784302, 1.3626617193222046, 1.3335707187652588, 1.3483463525772095, 1.4491246938705444, 2.3255019187927246, 11.683515548706055, 2.8989603519439697, 2.5622684955596924, 142.45301818847656, 2.96872615814209, 728.3972778320312, 201.66905212402344, 84.75945281982422, 1157.5682373046875, 4.823023796081543, 37.383453369140625, 168.52822875976562, 7.223379611968994, 501.006591796875, 4.052324295043945, 391.49383544921875, 783.1647338867188, 133.49012756347656, 182.0762939453125, 144.378662109375, 168.19772338867188, 476.0041198730469, 185.05416870117188, 415.80194091796875, 600.2899780273438, 192.6720733642578, 564.1956176757812, 485.1235656738281, 101.76454162597656, 203.1808624267578, 649.3970336914062, 289.1438903808594, 82.24370574951172, 303.9108581542969, 384.3619079589844, 469.5325622558594, 234.65509033203125, 126.22528076171875, 804.9697265625, 274.3135070800781, 548.0430908203125, 532.3463134765625, 687.1099243164062, 409.6138610839844, 558.9339599609375, 335.508544921875, 267.4087829589844, 269.7114562988281, 244.2457275390625, 298.4223327636719, 1.4325240850448608, 1.3265337944030762, 1.3379980325698853, 1.4199469089508057, 1.3281885385513306, 1.4614912271499634, 1.3172162771224976, 1.3987154960632324, 2.4096431732177734, 1.365810513496399, 1.3695850372314453, 1.351507306098938, 1.3855687379837036, 1.417263150215149, 2.3016560077667236, 2.338995933532715, 1.4616607427597046, 1.4367074966430664, 1.4375081062316895, 4.761825084686279, 2.147440195083618, 1.4917879104614258, 1.4505828619003296, 1.4287896156311035, 1.3624463081359863, 1.4274417161941528, 3.038191795349121, 1.3589181900024414, 1.427671194076538, 1.5171862840652466, 4.996646404266357, 6.957025051116943, 2.2057745456695557, 40.30640411376953, 1.9266782999038696, 5.867103576660156, 4.6968231201171875, 3.900718927383423, 144.378662109375, 804.9697265625, 44.99346923828125, 18.63681983947754, 157.2142333984375, 295.4282531738281, 63.24814224243164, 42.46639633178711, 41.00128936767578, 50.68003463745117, 14.24290657043457, 649.3970336914062, 501.006591796875, 13.742376327514648, 124.54979705810547, 87.5819320678711, 476.0041198730469, 142.45301818847656, 117.35820770263672, 75.23756408691406, 391.49383544921875, 82.24370574951172, 143.15737915039062, 64.25189208984375, 168.19772338867188, 50.63617706298828, 41.96057891845703, 469.5325622558594, 600.2899780273438, 245.96875, 532.3463134765625, 125.82841491699219, 201.66905212402344, 783.1647338867188, 298.4223327636719, 728.3972778320312, 1157.5682373046875, 564.1956176757812, 384.3619079589844, 548.0430908203125, 269.7114562988281, 244.2457275390625, 303.9108581542969, 234.65509033203125, 415.80194091796875, 409.6138610839844, 687.1099243164062, 335.508544921875, 558.9339599609375, 192.6720733642578, 485.1235656738281, 289.1438903808594, 246.33782958984375, 1.3112313747406006, 3.6484053134918213, 1.4250164031982422, 1.3767828941345215, 2.3118436336517334, 1.4678926467895508, 1.4616907835006714, 1.4934638738632202, 1.3732255697250366, 1.3172162771224976, 1.4883570671081543, 1.4407000541687012, 1.423935055732727, 2.913217782974243, 1.4726901054382324, 1.40777587890625, 1.5251635313034058, 1.4199576377868652, 1.957829236984253, 1.4417529106140137, 1.3803973197937012, 1.3037086725234985, 1.475499153137207, 2.230354070663452, 1.4123337268829346, 1.4261103868484497, 2.520263433456421, 1.4509950876235962, 3.6788249015808105, 3.6968441009521484, 501.006591796875, 38.321075439453125, 196.58250427246094, 11.649910926818848, 55.90599822998047, 3.196734666824341, 564.1956176757812, 163.9743194580078, 42.864288330078125, 783.1647338867188, 135.20037841796875, 804.9697265625, 245.96875, 244.2457275390625, 38.41373062133789, 45.3218994140625, 101.4884033203125, 469.5325622558594, 84.57942199707031, 119.24311828613281, 728.3972778320312, 81.17604064941406, 94.75537872314453, 267.4087829589844, 212.15724182128906, 274.3135070800781, 178.13360595703125, 409.6138610839844, 76.44126892089844, 87.5819320678711, 558.9339599609375, 303.9108581542969, 687.1099243164062, 136.86378479003906, 476.0041198730469, 548.0430908203125, 391.49383544921875, 649.3970336914062, 1157.5682373046875, 532.3463134765625, 485.1235656738281, 600.2899780273438, 269.7114562988281, 384.3619079589844, 234.65509033203125, 295.4282531738281, 238.70387268066406, 335.508544921875, 289.1438903808594, 415.80194091796875, 1.381018042564392, 1.4385881423950195, 3.6766648292541504, 1.3673049211502075, 1.3335596323013306, 2.5705337524414062, 1.3859350681304932, 1.3959553241729736, 3.0110023021698, 1.4506746530532837, 1.424002766609192, 1.3874613046646118, 3.319640636444092, 2.2143986225128174, 1.40777587890625, 1.336761236190796, 1.3973697423934937, 2.913217782974243, 1.3344460725784302, 1.4238463640213013, 1.532493233680725, 1.416549563407898, 1.4261103868484497, 1.4617372751235962, 1.4180128574371338, 2.0653927326202393, 2.3882265090942383, 1.4130091667175293, 3.0380396842956543, 1.4293408393859863, 63.106693267822266, 13.742376327514648, 3.6919469833374023, 2.5429694652557373, 2.378962278366089, 3.127563238143921, 804.9697265625, 99.26670837402344, 83.02893829345703, 13.642936706542969, 415.80194091796875, 97.83480072021484, 245.96875, 55.90599822998047, 469.5325622558594, 125.82841491699219, 501.006591796875, 125.83415222167969, 212.15724182128906, 564.1956176757812, 43.674434661865234, 687.1099243164062, 728.3972778320312, 163.9743194580078, 95.18721771240234, 118.72509002685547, 123.76338958740234, 244.2457275390625, 116.74789428710938, 113.74955749511719, 60.12759017944336, 298.4223327636719, 140.78041076660156, 1157.5682373046875, 409.6138610839844, 303.9108581542969, 558.9339599609375, 532.3463134765625, 600.2899780273438, 391.49383544921875, 783.1647338867188, 476.0041198730469, 548.0430908203125, 335.508544921875, 269.7114562988281, 295.4282531738281, 485.1235656738281, 384.3619079589844, 649.3970336914062, 201.48756408691406, 267.4087829589844, 234.65509033203125, 230.57247924804688, 1.957829236984253, 1.3126978874206543, 1.350367546081543, 1.5357210636138916, 1.3538615703582764, 1.367332100868225, 1.4047662019729614, 1.3884209394454956, 1.4112581014633179, 1.2968772649765015, 1.4247357845306396, 3.6968441009521484, 1.3581970930099487, 1.527580976486206, 1.3344460725784302, 1.3281885385513306, 1.387217402458191, 1.4293997287750244, 1.4062700271606445, 1.4452064037322998, 1.3682875633239746, 1.4471251964569092, 1.4406039714813232, 1.4964412450790405, 1.4345576763153076, 1.4336278438568115, 1.456011176109314, 1.336370825767517, 1.4556118249893188, 1.3554257154464722, 1.4465237855911255, 2.0653927326202393, 783.1647338867188, 66.64283752441406, 6.012049198150635, 391.49383544921875, 134.83273315429688, 245.96875, 187.08447265625, 600.2899780273438, 20.638731002807617, 123.98291015625, 804.9697265625, 335.508544921875, 409.6138610839844, 244.2457275390625, 234.65509033203125, 501.006591796875, 476.0041198730469, 95.89590454101562, 728.3972778320312, 22.13164520263672, 167.5739288330078, 469.5325622558594, 168.19772338867188, 201.48756408691406, 75.06172943115234, 82.97335052490234, 83.26170349121094, 135.50518798828125, 157.2142333984375, 295.4282531738281, 212.15724182128906, 558.9339599609375, 142.45301818847656, 649.3970336914062, 289.1438903808594, 548.0430908203125, 384.3619079589844, 564.1956176757812, 230.57247924804688, 687.1099243164062, 274.3135070800781, 485.1235656738281, 1157.5682373046875, 269.7114562988281, 246.33782958984375, 532.3463134765625, 415.80194091796875, 298.4223327636719], \"loglift\": [30.0, 29.0, 28.0, 27.0, 26.0, 25.0, 24.0, 23.0, 22.0, 21.0, 20.0, 19.0, 18.0, 17.0, 16.0, 15.0, 14.0, 13.0, 12.0, 11.0, 10.0, 9.0, 8.0, 7.0, 6.0, 5.0, 4.0, 3.0, 2.0, 1.0, 0.23800000548362732, 0.2199999988079071, 0.20630000531673431, 0.20589999854564667, 0.20509999990463257, 0.19110000133514404, 0.19040000438690186, 0.1899999976158142, 0.1898999959230423, 0.18690000474452972, 0.1835000067949295, 0.1826999932527542, 0.18219999969005585, 0.18039999902248383, 0.18029999732971191, 0.1736000031232834, 0.1729000061750412, 0.17270000278949738, 0.17190000414848328, 0.17090000212192535, 0.16990000009536743, 0.1678999960422516, 0.1671999990940094, 0.16680000722408295, 0.16680000722408295, 0.16529999673366547, 0.16459999978542328, 0.16369999945163727, 0.16349999606609344, 0.16329999268054962, 0.15680000185966492, 0.1559000015258789, 0.15559999644756317, 0.12729999423027039, 0.16220000386238098, 0.15520000457763672, 0.1624000072479248, 0.09960000216960907, 0.11800000071525574, 0.1256999969482422, 0.1234000027179718, 0.13179999589920044, 0.11410000175237656, 0.1462000012397766, 0.09830000251531601, 0.10249999910593033, 0.08810000121593475, 0.11550000309944153, 0.0949999988079071, 0.04879999905824661, 0.028699999675154686, 0.09369999915361404, 0.08370000123977661, 0.08860000222921371, 0.039900001138448715, 0.051100000739097595, 0.08129999786615372, 0.06440000236034393, 0.08190000057220459, 0.016300000250339508, 0.09700000286102295, 0.01549999974668026, 0.02930000051856041, 0.07180000096559525, 0.02759999968111515, 0.0027000000700354576, 0.044599998742341995, -0.01269999984651804, 0.028300000354647636, -0.02280000038444996, 0.01769999973475933, -0.017000000923871994, -0.006500000134110451, -0.06750000268220901, -0.07840000092983246, -0.02710000053048134, -0.02419999986886978, 0.02280000038444996, 0.003100000089034438, -0.013000000268220901, -0.13830000162124634, -0.01730000041425228, 0.025599999353289604, -0.09040000289678574, 0.8252000212669373, 0.7597000002861023, 0.7348999977111816, 0.7300999760627747, 0.728600025177002, 0.7156999707221985, 0.7156999707221985, 0.6973000168800354, 0.6955999732017517, 0.6916999816894531, 0.6847000122070312, 0.6735000014305115, 0.6728000044822693, 0.6717000007629395, 0.6711000204086304, 0.6696000099182129, 0.6539000272750854, 0.6485000252723694, 0.6373000144958496, 0.6365000009536743, 0.633899986743927, 0.6324999928474426, 0.6273999810218811, 0.6226000189781189, 0.6195999979972839, 0.6175000071525574, 0.6107000112533569, 0.6097999811172485, 0.6079000234603882, 0.6004999876022339, 0.5967000126838684, 0.5458999872207642, 0.5667999982833862, 0.5627999901771545, 0.5690000057220459, 0.46399998664855957, 0.4104999899864197, 0.5133000016212463, 0.4074000120162964, 0.5608000159263611, 0.4059999883174896, 0.4228000044822693, 0.3578999936580658, 0.2773999869823456, 0.3856000006198883, 0.20999999344348907, 0.34610000252723694, 0.1550000011920929, 0.2818000018596649, 0.37459999322891235, 0.31189998984336853, 0.41110000014305115, 0.43140000104904175, 0.2476000040769577, 0.38670000433921814, 0.06239999830722809, 0.07559999823570251, 0.35589998960494995, 0.23070000112056732, 0.3000999987125397, 0.07900000363588333, 0.1915999948978424, 0.17260000109672546, 0.06340000033378601, 0.13989999890327454, 0.14589999616146088, -0.08429999649524689, -0.007300000172108412, -0.020999999716877937, -0.01119999960064888, 0.004800000227987766, 0.08020000159740448, -0.012600000016391277, 0.00860000029206276, -0.12839999794960022, 0.02449999935925007, -0.14820000529289246, -0.0851999968290329, 0.0575999990105629, -0.10679999738931656, -0.024900000542402267, -0.25450000166893005, -0.22630000114440918, 0.0551999993622303, -0.0940999984741211, 0.8995000123977661, 0.8751999735832214, 0.8313000202178955, 0.8001000285148621, 0.7911999821662903, 0.7871000170707703, 0.7508000135421753, 0.7204999923706055, 0.7098000049591064, 0.6937999725341797, 0.6870999932289124, 0.6779999732971191, 0.671999990940094, 0.6674000024795532, 0.6521000266075134, 0.6464999914169312, 0.645799994468689, 0.6445000171661377, 0.640999972820282, 0.6395000219345093, 0.6355999708175659, 0.6351000070571899, 0.633899986743927, 0.6330000162124634, 0.6263999938964844, 0.6241000294685364, 0.619700014591217, 0.6183000206947327, 0.6166999936103821, 0.6140000224113464, 0.5766000151634216, 0.6003000140190125, 0.6001999974250793, 0.4088999927043915, 0.5922999978065491, 0.3025999963283539, 0.37709999084472656, 0.3962000012397766, 0.19269999861717224, 0.5613999962806702, 0.41589999198913574, 0.27720001339912415, 0.5289000272750854, 0.18860000371932983, 0.5697000026702881, 0.20069999992847443, 0.12639999389648438, 0.2808000147342682, 0.2517000138759613, 0.26440000534057617, 0.24940000474452972, 0.1509999930858612, 0.23649999499320984, 0.1476999968290329, 0.09000000357627869, 0.21040000021457672, 0.07069999724626541, 0.05979999899864197, 0.257099986076355, 0.16660000383853912, 0.014000000432133675, 0.11330000311136246, 0.28360000252723694, 0.09019999951124191, 0.05119999870657921, 0.010200000368058681, 0.11580000072717667, 0.21070000529289246, -0.11810000240802765, 0.07289999723434448, -0.08959999680519104, -0.09120000153779984, -0.18029999732971191, -0.06499999761581421, -0.19429999589920044, -0.05999999865889549, 0.021800000220537186, -0.012799999676644802, 0.043299999088048935, -0.18289999663829803, 0.8181999921798706, 0.7904999852180481, 0.7849000096321106, 0.7838000059127808, 0.7699000239372253, 0.7354999780654907, 0.7128999829292297, 0.7123000025749207, 0.7113000154495239, 0.7085999846458435, 0.699400007724762, 0.6916999816894531, 0.6873000264167786, 0.6834999918937683, 0.6801999807357788, 0.6801000237464905, 0.6769999861717224, 0.6674000024795532, 0.663100004196167, 0.6565999984741211, 0.6503999829292297, 0.6492000222206116, 0.6460999846458435, 0.6395999789237976, 0.63919997215271, 0.6376000046730042, 0.6376000046730042, 0.6363999843597412, 0.6342999935150146, 0.6319000124931335, 0.6301000118255615, 0.6085000038146973, 0.6290000081062317, 0.5651000142097473, 0.6309999823570251, 0.59579998254776, 0.6028000116348267, 0.608299970626831, 0.45500001311302185, 0.2515999972820282, 0.4456000030040741, 0.4966999888420105, 0.33000001311302185, 0.2768999934196472, 0.39730000495910645, 0.428600013256073, 0.4262999892234802, 0.39010000228881836, 0.5006999969482422, 0.15620000660419464, 0.17100000381469727, 0.49050000309944153, 0.26910001039505005, 0.29660001397132874, 0.10819999873638153, 0.23810000717639923, 0.25780001282691956, 0.30410000681877136, 0.11670000106096268, 0.2833000123500824, 0.21359999477863312, 0.30630001425743103, 0.18119999766349792, 0.33340001106262207, 0.3578000068664551, 0.04280000180006027, 0.0013000000035390258, 0.12460000067949295, 0.014399999752640724, 0.21050000190734863, 0.14339999854564667, -0.05490000173449516, 0.0868000015616417, -0.052000001072883606, -0.14499999582767487, -0.05570000037550926, 0.012199999764561653, -0.056699998676776886, 0.07109999656677246, 0.08640000224113464, 0.037700001150369644, 0.09399999678134918, -0.05920000001788139, -0.05730000138282776, -0.20200000703334808, -0.01209999993443489, -0.26840001344680786, 0.12129999697208405, -0.39899998903274536, -0.11869999766349792, -0.019500000402331352, 0.9415000081062317, 0.8108999729156494, 0.7831000089645386, 0.7646999955177307, 0.7587000131607056, 0.7494000196456909, 0.7441999912261963, 0.7440000176429749, 0.7379000186920166, 0.7265999913215637, 0.7253999710083008, 0.7156000137329102, 0.7129999995231628, 0.7080000042915344, 0.7023000121116638, 0.7009000182151794, 0.6937000155448914, 0.6935999989509583, 0.690500020980835, 0.6869000196456909, 0.6855999827384949, 0.6823999881744385, 0.6805999875068665, 0.6739000082015991, 0.6690000295639038, 0.6686999797821045, 0.6646999716758728, 0.6644999980926514, 0.6625999808311462, 0.6608999967575073, 0.5389999747276306, 0.4912000000476837, 0.37599998712539673, 0.5300999879837036, 0.3978999853134155, 0.6201000213623047, 0.1891999989748001, 0.2921999990940094, 0.40380001068115234, 0.13050000369548798, 0.2888000011444092, 0.10869999974966049, 0.22030000388622284, 0.1949000060558319, 0.38659998774528503, 0.3659999966621399, 0.27469998598098755, 0.10459999740123749, 0.2890999913215637, 0.2468000054359436, 0.01979999989271164, 0.27959999442100525, 0.25679999589920044, 0.12600000202655792, 0.15530000627040863, 0.11640000343322754, 0.16750000417232513, 0.055799998342990875, 0.2766999900341034, 0.25060001015663147, -0.03420000150799751, 0.03909999877214432, -0.11270000040531158, 0.17409999668598175, -0.050700001418590546, -0.07900000363588333, -0.02459999918937683, -0.1257999986410141, -0.2587999999523163, -0.10320000350475311, -0.10170000046491623, -0.16410000622272491, 0.0272000003606081, -0.057999998331069946, 0.048500001430511475, -0.04450000077486038, 0.031599998474121094, -0.15459999442100525, -0.09179999679327011, -0.3855000138282776, 0.8791000247001648, 0.8361999988555908, 0.7922999858856201, 0.7479000091552734, 0.7430999875068665, 0.7304999828338623, 0.7235000133514404, 0.7184000015258789, 0.7181000113487244, 0.7106999754905701, 0.7035999894142151, 0.7023000121116638, 0.7013000249862671, 0.6991999745368958, 0.6985999941825867, 0.6916000247001648, 0.6901000142097473, 0.6845999956130981, 0.6808000206947327, 0.6796000003814697, 0.6765999794006348, 0.6705999970436096, 0.670199990272522, 0.6692000031471252, 0.6675999760627747, 0.666700005531311, 0.6607000231742859, 0.659600019454956, 0.6588000059127808, 0.6582000255584717, 0.6563000082969666, 0.6159999966621399, 0.6342999935150146, 0.644599974155426, 0.64410001039505, 0.6236000061035156, 0.2574000060558319, 0.37950000166893005, 0.37220001220703125, 0.5120000243186951, 0.23109999299049377, 0.3269999921321869, 0.243599995970726, 0.37049999833106995, 0.16699999570846558, 0.28630000352859497, 0.1428000032901764, 0.2759999930858612, 0.22339999675750732, 0.12409999966621399, 0.3790999948978424, 0.09019999951124191, 0.08209999650716782, 0.24420000612735748, 0.2937999963760376, 0.2685000002384186, 0.2547999918460846, 0.16979999840259552, 0.2538999915122986, 0.24979999661445618, 0.32820001244544983, 0.11400000005960464, 0.21580000221729279, -0.09510000050067902, 0.005400000140070915, 0.035999998450279236, -0.07800000160932541, -0.07980000227689743, -0.11509999632835388, -0.028200000524520874, -0.2980000078678131, -0.17319999635219574, -0.22759999334812164, -0.07289999723434448, -0.003599999938160181, -0.03530000150203705, -0.20829999446868896, -0.14319999516010284, -0.37560001015663147, 0.07240000367164612, -0.06560000032186508, -0.05999999865889549, -0.04560000076889992, 0.8894000053405762, 0.8834999799728394, 0.8557999730110168, 0.8421000242233276, 0.8374999761581421, 0.828499972820282, 0.8137999773025513, 0.8108000159263611, 0.8098000288009644, 0.8084999918937683, 0.8069000244140625, 0.79830002784729, 0.7949000000953674, 0.7935000061988831, 0.79339998960495, 0.7925999760627747, 0.7746000289916992, 0.7720000147819519, 0.7566999793052673, 0.7542999982833862, 0.7537999749183655, 0.7537000179290771, 0.7527999877929688, 0.7519000172615051, 0.7498000264167786, 0.7488999962806702, 0.7466999888420105, 0.7444000244140625, 0.7432000041007996, 0.7405999898910522, 0.7379999756813049, 0.7117999792098999, 0.1396999955177307, 0.36970001459121704, 0.6074000000953674, 0.1881999969482422, 0.28459998965263367, 0.19509999454021454, 0.20110000669956207, 0.056699998676776886, 0.45320001244544983, 0.23499999940395355, 0.010400000028312206, 0.10909999907016754, 0.0778999999165535, 0.12479999661445618, 0.12049999833106995, 0.021199999377131462, 0.021700000390410423, 0.2313999980688095, -0.06480000168085098, 0.42399999499320984, 0.14000000059604645, -0.006000000052154064, 0.12939999997615814, 0.10220000147819519, 0.24779999256134033, 0.22920000553131104, 0.2160000056028366, 0.13459999859333038, 0.10400000214576721, -0.003599999938160181, 0.04690000042319298, -0.13840000331401825, 0.1168999969959259, -0.17589999735355377, -0.03180000185966492, -0.17309999465942383, -0.10509999841451645, -0.1972000002861023, 0.006800000090152025, -0.2912999987602234, -0.04520000144839287, -0.22499999403953552, -0.5281000137329102, -0.048500001430511475, -0.025100000202655792, -0.4839000105857849, -0.4507000148296356, -0.25440001487731934], \"logprob\": [30.0, 29.0, 28.0, 27.0, 26.0, 25.0, 24.0, 23.0, 22.0, 21.0, 20.0, 19.0, 18.0, 17.0, 16.0, 15.0, 14.0, 13.0, 12.0, 11.0, 10.0, 9.0, 8.0, 7.0, 6.0, 5.0, 4.0, 3.0, 2.0, 1.0, -9.601799964904785, -9.615500450134277, -9.660499572753906, -9.968799591064453, -9.9552001953125, -7.297800064086914, -9.695199966430664, -9.685700416564941, -9.685600280761719, -9.992400169372559, -9.699899673461914, -9.99470043182373, -9.450799942016602, -9.705699920654297, -9.709500312805176, -9.726799964904785, -6.0609002113342285, -8.703100204467773, -10.020099639892578, -9.754199981689453, -9.733200073242188, -9.741999626159668, -10.025199890136719, -8.339099884033203, -10.034199714660645, -10.030400276184082, -10.049599647521973, -10.01990032196045, -10.042699813842773, -10.012499809265137, -5.988500118255615, -7.509099960327148, -7.99399995803833, -5.813399791717529, -9.354100227355957, -8.809800148010254, -9.524399757385254, -4.884200096130371, -6.131400108337402, -6.5269999504089355, -6.578199863433838, -7.010900020599365, -6.191500186920166, -8.003999710083008, -5.915900230407715, -6.150899887084961, -5.847400188446045, -6.850800037384033, -6.195400238037109, -4.728600025177002, -4.227099895477295, -6.370800018310547, -6.083899974822998, -6.309000015258789, -4.963600158691406, -5.243599891662598, -6.0945000648498535, -5.738699913024902, -6.185299873352051, -4.630199909210205, -6.661499977111816, -4.818299770355225, -5.096099853515625, -6.080699920654297, -5.330699920654297, -4.971700191497803, -5.650899887084961, -4.92519998550415, -5.593100070953369, -5.055300235748291, -5.476500034332275, -5.161399841308594, -5.286200046539307, -4.786499977111816, -4.697400093078613, -5.185200214385986, -5.364099979400635, -5.689700126647949, -5.639800071716309, -5.606100082397461, -5.231500148773193, -5.738399982452393, -5.809000015258789, -5.701700210571289, -9.701800346374512, -9.722700119018555, -10.235400199890137, -9.92389965057373, -9.741100311279297, -9.284600257873535, -10.309700012207031, -10.248700141906738, -10.354999542236328, -10.28279972076416, -9.177200317382812, -10.301199913024902, -9.716899871826172, -10.289899826049805, -9.521300315856934, -9.434200286865234, -10.350700378417969, -10.284700393676758, -10.302399635314941, -9.95199966430664, -10.3149995803833, -10.290499687194824, -10.330900192260742, -10.36769962310791, -9.827899932861328, -9.80720043182373, -10.332900047302246, -10.322799682617188, -10.423500061035156, -10.396100044250488, -9.8818998336792, -7.582200050354004, -8.650199890136719, -8.543800354003906, -8.940199851989746, -5.8734002113342285, -5.200900077819824, -7.800000190734863, -6.561600208282471, -9.024200439453125, -6.661099910736084, -7.073200225830078, -6.360499858856201, -5.534299850463867, -6.779399871826172, -4.8225998878479, -6.482500076293945, -4.464000225067139, -5.902900218963623, -6.944200038909912, -6.326000213623047, -7.389999866485596, -7.612299919128418, -5.962600231170654, -7.240099906921387, -4.656499862670898, -4.8368000984191895, -7.004499912261963, -6.089300155639648, -6.601799964904785, -5.014200210571289, -5.88670015335083, -5.779900074005127, -5.061999797821045, -5.581099987030029, -5.723400115966797, -4.340000152587891, -4.841100215911865, -4.798399925231934, -5.014699935913086, -5.153299808502197, -5.562699794769287, -5.1570000648498535, -5.271100044250488, -4.774899959564209, -5.469699859619141, -5.122700214385986, -5.425099849700928, -5.747000217437744, -5.465000152587891, -5.618000030517578, -5.23829984664917, -5.520899772644043, -5.779399871826172, -5.7154998779296875, -9.645600318908691, -9.762399673461914, -10.207099914550781, -10.201299667358398, -9.846799850463867, -9.771400451660156, -9.903300285339355, -10.222399711608887, -9.730799674987793, -10.366100311279297, -10.282500267028809, -10.274700164794922, -9.87399959564209, -9.042400360107422, -10.345000267028809, -10.285599708557129, -10.30739974975586, -10.311599731445312, -10.305299758911133, -10.315199851989746, -10.414199829101562, -9.241000175476074, -9.90060043334961, -9.803199768066406, -10.395000457763672, -10.376299858093262, -10.402299880981445, -10.3927001953125, -10.322199821472168, -9.851900100708008, -8.275099754333496, -9.6451997756958, -9.768699645996094, -5.94189977645874, -9.629400253295898, -4.416399955749512, -5.626100063323975, -6.473800182342529, -4.063000202178955, -9.175000190734863, -7.27269983291626, -5.9054999351501465, -8.803600311279297, -4.904600143432617, -9.340800285339355, -5.139200210571289, -4.520100116729736, -6.135000228881836, -5.853700160980225, -6.072999954223633, -5.935299873352051, -4.9934000968933105, -5.852700233459473, -5.131999969482422, -4.822400093078613, -5.838500022888184, -4.903800010681152, -5.0655999183654785, -6.430099964141846, -5.82919979095459, -4.819799900054932, -5.529600143432617, -6.616499900817871, -5.502900123596191, -5.307000160217285, -5.147900104522705, -5.735899925231934, -6.261099815368652, -4.737100124359131, -5.622700214385986, -5.093100070953369, -5.123799800872803, -4.957600116729736, -5.3597002029418945, -5.178100109100342, -5.554200172424316, -5.6992998123168945, -5.725299835205078, -5.768400192260742, -5.7941999435424805, -10.132200241088867, -10.236800193786621, -10.233799934387207, -10.175399780273438, -10.256099700927734, -10.194899559020996, -10.321399688720703, -10.26200008392334, -9.718999862670898, -10.28950023651123, -10.295900344848633, -10.317000389099121, -10.296500205993652, -10.277600288391113, -9.795999526977539, -9.779999732971191, -10.253299713134766, -10.280099868774414, -10.28380012512207, -9.092599868774414, -9.8951997756958, -10.260700225830078, -10.291799545288086, -10.313400268554688, -10.361300468444824, -10.316300392150879, -9.560999870300293, -10.366800308227539, -10.319499969482422, -10.261099815368652, -9.071000099182129, -8.761500358581543, -9.889699935913086, -7.0482001304626465, -10.02299976348877, -8.944700241088867, -9.160099983215332, -9.340399742126465, -5.882400035858154, -4.367400169372559, -7.057700157165527, -7.888000011444092, -5.922299861907959, -5.3445000648498535, -6.765500068664551, -7.132599830627441, -7.170000076293945, -6.994200229644775, -8.152899742126465, -4.677599906921387, -4.9222002029418945, -8.198800086975098, -6.216000080108643, -6.5406999588012695, -5.036200046539307, -6.11269998550415, -6.286799907684326, -6.685100078582764, -5.223100185394287, -6.616799831390381, -6.132299900054932, -6.840700149536133, -6.003499984741211, -7.051700115203857, -7.2153000831604, -5.115300178527832, -4.911099910736084, -5.679999828338623, -5.018099784851074, -6.264500141143799, -5.859799861907959, -4.701399803161621, -5.524499893188477, -4.770999908447266, -4.4008002281188965, -5.030200004577637, -5.3460001945495605, -5.060100078582764, -5.64139986038208, -5.725200176239014, -5.5553998947143555, -5.757699966430664, -5.338900089263916, -5.3520002365112305, -4.979300022125244, -5.50629997253418, -5.252200126647949, -5.927599906921387, -5.524400234222412, -5.761600017547607, -5.8225998878479, -10.097399711608887, -9.20460033416748, -10.172599792480469, -10.2253999710083, -9.71310043334961, -10.176600456237793, -10.185999870300293, -10.164799690246582, -10.254799842834473, -10.30780029296875, -10.186699867248535, -10.229100227355957, -10.243499755859375, -9.532600402832031, -10.220399856567383, -10.266900062561035, -10.194100379943848, -10.265600204467773, -9.947500228881836, -10.257100105285645, -10.301799774169922, -10.362199783325195, -10.24020004272461, -9.833800315856934, -10.295599937438965, -10.286199569702148, -9.720800399780273, -10.273099899291992, -9.344599723815918, -9.341500282287598, -4.554200172424316, -7.172699928283691, -5.652699947357178, -8.32450008392334, -6.888299942016602, -9.527600288391113, -4.785200119018555, -5.917900085449219, -7.1479997634887695, -4.515999794006348, -6.114299774169922, -4.510300159454346, -5.5843000411987305, -5.616799831390381, -7.274799823760986, -7.130000114440918, -6.415200233459473, -5.053500175476074, -6.583099842071533, -6.281799793243408, -4.69920015335083, -6.633600234985352, -6.501699924468994, -5.595099925994873, -5.7972002029418945, -5.57919979095459, -5.959799766540527, -5.238800048828125, -6.696599960327148, -6.586599826812744, -5.01800012588501, -5.553999900817871, -4.889999866485596, -6.216800212860107, -5.195099830627441, -5.082499980926514, -5.3643999099731445, -4.95959997177124, -4.514599800109863, -5.135700225830078, -5.227200031280518, -5.076499938964844, -5.685299873352051, -5.416200160980225, -5.803199768066406, -5.665900230407715, -5.802999973297119, -5.648799896240234, -5.7347002029418945, -5.66510009765625, -10.10789966583252, -10.109999656677246, -9.215499877929688, -10.249099731445312, -10.278800010681152, -9.635299682617188, -10.259900093078613, -10.25790023803711, -9.489500045776367, -10.227100372314453, -10.252799987792969, -10.280099868774414, -9.408699989318848, -9.815699577331543, -10.26930046081543, -10.32800006866455, -10.285200119018555, -9.555999755859375, -10.340499877929688, -10.276900291442871, -10.206299781799316, -10.291000366210938, -10.284600257873535, -10.26099967956543, -10.293000221252441, -9.917799949645996, -9.778599739074707, -10.304499626159668, -9.539799690246582, -10.294400215148926, -6.508699893951416, -8.0733003616333, -9.36929988861084, -9.731900215148926, -9.799099922180176, -9.545999526977539, -4.361599922180176, -6.332499980926514, -6.518499851226807, -8.184700012207031, -5.048500061035156, -6.399600028991699, -5.561100006103516, -6.9156999588012695, -4.991099834442139, -6.188600063323975, -4.950399875640869, -6.198800086975098, -5.729100227355957, -4.850299835205078, -7.1539998054504395, -4.68720006942749, -4.636899948120117, -5.96589994430542, -6.46019983291626, -6.264599800109863, -6.236599922180176, -5.641900062561035, -6.295899868011475, -6.326000213623047, -6.885200023651123, -5.497300148010254, -6.1468000411987305, -4.350900173187256, -5.2891998291015625, -5.55709981918335, -5.061800003051758, -5.112299919128418, -5.027599811553955, -5.368100166320801, -4.944499969482422, -5.317599773406982, -5.230999946594238, -5.566999912261963, -5.716000080108643, -5.656700134277344, -5.333700180053711, -5.501399993896484, -5.209400177001953, -5.931700229644775, -5.7866997718811035, -5.911799907684326, -5.914899826049805, -9.748600006103516, -10.15429973602295, -10.15369987487793, -10.038700103759766, -10.169400215148926, -10.168499946594238, -10.156100273132324, -10.170900344848633, -10.155500411987305, -10.241399765014648, -10.14900016784668, -9.204000473022461, -10.208800315856934, -10.092700004577637, -10.227899551391602, -10.233400344848633, -10.208000183105469, -10.1806001663208, -10.212200164794922, -10.187299728393555, -10.242500305175781, -10.18649959564209, -10.192000389099121, -10.154800415039062, -10.199199676513672, -10.200699806213379, -10.187399864196777, -10.275500297546387, -10.191200256347656, -10.265199661254883, -10.202699661254883, -9.872699737548828, -4.506800174713135, -6.740799903869629, -8.908599853515625, -5.151599884033203, -6.121200084686279, -5.609499931335449, -5.877200126647949, -4.855800151824951, -7.829500198364258, -6.254700183868408, -4.60860013961792, -5.3850998878479, -5.216700077056885, -5.6869001388549805, -5.731299877166748, -5.072000026702881, -5.122700214385986, -6.515200138092041, -4.783699989318848, -7.78879976272583, -6.048399925231934, -5.164100170135498, -6.055300235748291, -5.901899814605713, -6.74370002746582, -6.662099838256836, -6.671899795532227, -6.266200065612793, -6.148200035095215, -5.625, -5.905600070953369, -5.122200012207031, -6.23390007019043, -5.009699821472168, -5.674699783325195, -5.176599979400635, -5.463399887084961, -5.171599864959717, -5.862500190734863, -5.068699836730957, -5.740699768066406, -5.350500106811523, -4.78380012512207, -5.761000156402588, -5.8282999992370605, -5.516499996185303, -5.730400085449219, -5.865699768066406]}, \"token.table\": {\"Topic\": [1, 1, 1, 1, 1, 2, 1, 1, 1, 1, 2, 1, 1, 1, 1, 1, 1, 1, 2, 1, 1, 1, 1, 1, 1, 1, 2, 1, 1, 1, 1, 1, 1, 1, 2, 3, 4, 5, 6, 7, 1, 1, 1, 1, 1, 1, 1, 2, 1, 1, 1, 1, 1, 1, 1, 1, 2, 1, 2, 1, 1, 1, 1, 2, 3, 4, 5, 6, 7, 1, 1, 1, 1, 1, 2, 3, 4, 5, 1, 1, 1, 2, 3, 4, 5, 6, 1, 1, 1, 1, 1, 1, 1, 1, 1, 1, 1, 1, 1, 2, 3, 4, 5, 6, 1, 1, 1, 1, 1, 1, 2, 3, 4, 5, 6, 7, 1, 1, 2, 3, 1, 1, 1, 2, 3, 4, 5, 6, 7, 1, 1, 1, 2, 3, 1, 2, 3, 4, 5, 6, 1, 1, 2, 3, 4, 5, 6, 1, 2, 3, 4, 5, 6, 1, 2, 3, 4, 5, 6, 7, 1, 2, 3, 4, 5, 6, 7, 1, 1, 2, 3, 4, 5, 6, 1, 2, 1, 1, 2, 3, 4, 5, 6, 7, 1, 1, 1, 1, 2, 1, 2, 3, 1, 1, 1, 2, 3, 4, 5, 6, 7, 1, 2, 3, 4, 5, 6, 7, 1, 2, 3, 4, 5, 6, 1, 1, 1, 2, 3, 4, 5, 6, 7, 1, 2, 3, 4, 5, 6, 7, 1, 1, 1, 1, 2, 3, 4, 5, 6, 7, 1, 2, 3, 4, 5, 6, 1, 2, 3, 4, 5, 6, 7, 1, 2, 3, 4, 5, 6, 7, 1, 1, 1, 1, 1, 2, 3, 4, 5, 6, 1, 2, 1, 1, 2, 3, 4, 5, 6, 1, 2, 3, 4, 5, 6, 7, 1, 2, 3, 4, 5, 6, 7, 1, 2, 3, 4, 5, 6, 7, 1, 2, 3, 4, 5, 6, 7, 1, 2, 3, 4, 5, 6, 7, 1, 2, 3, 4, 5, 6, 7, 1, 2, 1, 2, 3, 4, 5, 6, 1, 2, 3, 4, 5, 6, 7, 1, 2, 3, 4, 5, 6, 7, 1, 2, 3, 4, 5, 6, 7, 1, 2, 3, 4, 5, 6, 1, 1, 2, 3, 4, 5, 6, 7, 1, 1, 1, 1, 2, 3, 4, 5, 6, 7, 1, 2, 3, 1, 1, 1, 2, 1, 2, 3, 4, 1, 2, 3, 4, 5, 6, 7, 1, 1, 2, 3, 4, 5, 6, 7, 1, 2, 3, 4, 5, 6, 7, 1, 2, 1, 2, 3, 4, 5, 6, 7, 1, 1, 2, 3, 4, 5, 6, 7, 1, 2, 1, 1, 1, 2, 3, 4, 5, 6, 7, 1, 2, 3, 4, 5, 6, 1, 1, 1, 2, 1, 1, 2, 3, 4, 5, 6, 7, 1, 2, 3, 4, 5, 6, 1, 2, 3, 4, 5, 6, 7, 1, 1, 1, 2, 3, 4, 5, 6, 7, 1, 2, 3, 4, 5, 6, 7, 1, 2, 3, 1, 1, 2, 3, 4, 5, 6, 7, 1, 2, 3, 4, 5, 6, 7, 1, 1, 2, 3, 4, 5, 6, 7, 1, 2, 3, 4, 5, 6, 1, 1, 2, 3, 4, 5, 6, 7, 1, 2, 3, 4, 5, 6, 7, 1, 2, 3, 4, 5, 6, 7, 1, 2, 3, 4, 5, 6, 7, 1, 2, 3, 4, 5, 6, 7, 1, 1, 1, 1, 1, 1, 2, 3, 4, 5, 6, 7, 1, 2, 3, 4, 5, 6, 7, 1, 2, 3, 4, 5, 6, 7, 1, 2, 3, 4, 5, 6, 7, 1, 1, 1, 2, 3, 4, 5, 6, 1, 2, 3, 4, 5, 6, 1, 1, 2, 3, 4, 5, 6, 1, 2, 3, 4, 5, 6, 1, 1, 2, 3, 1, 1, 2, 3, 4, 5, 6, 7, 1, 2, 3, 4, 5, 6, 7, 1, 2, 3, 4, 5, 6, 7, 1, 2, 3, 4, 5, 6, 7, 1, 1, 2, 1, 1, 2, 3, 4, 5, 6, 7, 1, 1, 2, 3, 4, 5, 6, 7, 1, 1, 2, 3, 4, 5, 6, 1, 2, 3, 4, 5, 6, 7, 1, 1, 2, 1, 1, 1, 2, 3, 4, 5, 6, 7, 1, 2, 3, 4, 5, 6, 7, 1, 2, 3, 4, 5, 6, 1, 2, 3, 1, 2, 3, 4, 5, 6, 7, 1, 2, 3, 4, 5, 6, 1, 1, 1, 1, 1, 2, 3, 4, 5, 6, 1, 2, 3, 4, 5, 6, 7, 1, 2, 3, 4, 5, 6, 7, 1, 1, 2, 3, 4, 5, 6, 7, 1, 1, 2, 3, 4, 5, 6, 7, 1, 2, 3, 4, 5, 6, 7, 1, 2, 3, 4, 5, 6, 1, 1, 1, 2, 3, 4, 5, 6, 7, 1, 2, 3, 4, 5, 6, 7, 1, 2, 3, 4, 5, 6, 7, 1, 2, 3, 4, 5, 6, 7, 1, 2, 3, 4, 5, 6, 1, 2, 4, 1, 1, 2, 3, 4, 5, 6, 7, 1, 2, 1, 2, 3, 4, 5, 6, 7, 1, 2, 3, 4, 5, 6, 7, 1, 2, 3, 4, 5, 6, 7, 1, 2, 3, 4, 5, 6, 7, 1, 2, 3, 4, 5, 6, 7, 1, 2, 3, 4, 5, 6, 1, 1, 2, 3, 1, 1, 2, 3, 4, 5, 6, 7, 1, 2, 3, 4, 5, 6, 7, 1, 2, 3, 4, 5, 6, 7, 1, 2, 3, 4, 5, 6, 1, 1, 2, 3, 4, 5, 6, 7, 1, 2, 3, 4, 5, 6, 7, 1, 2, 3, 4, 5, 6, 7, 1, 2, 3, 4, 5, 6, 1, 2, 3, 4, 5, 6, 7, 1, 2, 3, 4, 5, 6, 7, 1, 1, 1, 1, 1, 2, 3, 4, 5, 6, 7, 1, 2, 3, 4, 5, 6, 7, 1, 2, 3, 4, 5, 6, 7, 1, 2, 3, 4, 5, 6, 7, 1, 1, 2, 3, 4, 5, 6, 7, 1, 1, 2, 3, 4, 5, 6, 7, 1, 2, 3, 4, 5, 6, 1, 2, 3, 4, 5, 6, 7, 1, 1, 1, 1, 1, 1, 2, 1, 2, 3, 4, 5, 6, 1, 1, 2, 3, 4, 5, 6, 7, 1, 1, 2, 4, 1, 2, 3, 4, 6, 1, 2, 3, 4, 5, 6, 7, 1, 1, 2, 3, 4, 5, 6, 7, 1, 2, 3, 4, 5, 6, 7, 1, 2, 4, 1, 1, 2, 3, 4, 5, 6, 7, 1, 2, 3, 4, 5, 6, 7, 1, 2, 3, 4, 5, 6, 7, 1, 1, 2, 3, 4, 5, 6, 7, 1, 2, 3, 4, 5, 6, 7, 1, 2, 3, 4, 5, 6, 7, 1, 1, 2, 3, 4, 5, 6, 7, 1, 2, 3, 4, 5, 6, 7, 1, 2, 3, 4, 5, 6, 1, 1, 2, 3, 4, 5, 6, 7, 1, 2, 1, 2, 3, 4, 5, 6, 7, 1, 2, 3, 4, 5, 6, 7, 1, 1, 1, 2, 3, 4, 5, 6, 7, 1, 2, 3, 4, 5, 6, 7, 1, 2, 3, 4, 5, 6, 1, 2, 3, 4, 5, 6, 7, 1, 2, 3, 4, 5, 6, 7, 1, 2, 3, 4, 5, 6, 7, 1, 2, 3, 4, 5, 6, 7, 1, 2, 3, 4, 5, 6, 7, 1, 2, 3, 4, 5, 6, 7, 1, 1, 2, 3, 4, 5, 6, 7, 1, 2, 3, 4, 5, 6, 7, 1, 1, 1, 1, 2, 3, 1, 2, 3, 4, 5, 6, 7, 1, 1, 2, 3, 1, 3, 1, 2, 3, 4, 5, 6, 7, 1, 2, 3, 4, 5, 6, 7, 1, 1, 2, 3, 4, 5, 6, 1, 2, 3, 4, 1, 1, 1, 2, 1, 2, 3, 4, 5, 6, 7, 1, 1, 1, 1, 1, 1, 2, 1, 1, 1, 2, 3, 4, 5, 6, 1, 2, 1, 1, 1, 1, 1, 1], \"Freq\": [0.7042463421821594, 0.7052122354507446, 0.6933290362358093, 0.7482953071594238, 0.34326303005218506, 0.34326303005218506, 0.7244291305541992, 0.7012079954147339, 0.6854285597801208, 0.336844801902771, 0.336844801902771, 0.7591767907142639, 0.7891625761985779, 0.7208675146102905, 0.7018845081329346, 0.6394754648208618, 0.7241035103797913, 0.470088392496109, 0.2350441962480545, 0.7313511967658997, 0.6998931169509888, 0.7780485153198242, 0.4841694235801697, 0.6812487244606018, 0.7120987176895142, 0.5190280079841614, 0.5190280079841614, 0.6936001181602478, 0.7405391335487366, 0.6975311040878296, 0.6857166886329651, 0.7023229598999023, 0.720740795135498, 0.588636040687561, 0.19243869185447693, 0.0679195374250412, 0.05659961700439453, 0.0339597687125206, 0.045279692858457565, 0.011319923214614391, 0.7163553237915039, 0.46053504943847656, 0.4187207520008087, 0.7005540132522583, 0.7059379816055298, 0.7529051303863525, 0.39850085973739624, 0.39850085973739624, 0.6256384253501892, 0.7220081090927124, 0.6913124918937683, 0.7010623216629028, 0.7498664855957031, 0.5106030106544495, 0.6841532588005066, 0.3271123468875885, 0.3271123468875885, 0.26995107531547546, 0.26995107531547546, 0.6445195078849792, 0.6546297669410706, 0.6900717616081238, 0.6256784200668335, 0.15641960501670837, 0.08342379331588745, 0.05213987082242966, 0.041711896657943726, 0.031283922493457794, 0.010427974164485931, 0.7626419067382812, 0.6862133145332336, 0.6525314450263977, 0.6591148376464844, 0.44180411100387573, 0.22090205550193787, 0.11045102775096893, 0.11045102775096893, 0.11045102775096893, 0.703637957572937, 0.7328010201454163, 0.49819496273994446, 0.24909748136997223, 0.12454874068498611, 0.08303249627351761, 0.041516248136758804, 0.041516248136758804, 0.651159942150116, 0.7215345501899719, 0.699623167514801, 0.7004414200782776, 0.7398414015769958, 0.6941533088684082, 0.6841392517089844, 0.7118622064590454, 0.6928271055221558, 0.7150440216064453, 0.7042517066001892, 0.6682521104812622, 0.5724172592163086, 0.13738013803958893, 0.09158676117658615, 0.06869006901979446, 0.06869006901979446, 0.06869006901979446, 0.7000394463539124, 0.6970790028572083, 0.7085875868797302, 0.7217252850532532, 0.7345492839813232, 0.5723934769630432, 0.16354098916053772, 0.09199180454015732, 0.061327870935201645, 0.05110655725002289, 0.05110655725002289, 0.010221311822533607, 0.7224159836769104, 0.622016429901123, 0.20733880996704102, 0.20733880996704102, 0.7020564079284668, 0.7308405041694641, 0.6551569700241089, 0.10177195817232132, 0.06360746920108795, 0.08268971741199493, 0.05088597908616066, 0.03816448524594307, 0.0063607473857700825, 0.7077094912528992, 0.7338578701019287, 0.4153180718421936, 0.2768787145614624, 0.1384393572807312, 0.721443772315979, 0.08487574011087418, 0.08487574011087418, 0.04243787005543709, 0.04243787005543709, 0.04243787005543709, 0.7301481366157532, 0.542210042476654, 0.18073667585849762, 0.09036833792924881, 0.045184168964624405, 0.045184168964624405, 0.045184168964624405, 0.7014284133911133, 0.10391531884670258, 0.0909259021282196, 0.05195765942335129, 0.03896824270486832, 0.025978829711675644, 0.6352749466896057, 0.12407713383436203, 0.07444628328084946, 0.06452011317014694, 0.04963085427880287, 0.044667769223451614, 0.00992617104202509, 0.60724937915802, 0.12456397712230682, 0.10899347811937332, 0.06228198856115341, 0.05190165713429451, 0.036331161856651306, 0.005190165713429451, 0.4515898823738098, 0.5586656928062439, 0.19264334440231323, 0.09632167220115662, 0.05779300257563591, 0.038528669625520706, 0.038528669625520706, 0.4955556392669678, 0.16518521308898926, 0.6956482529640198, 0.6026031374931335, 0.15667681396007538, 0.08436443656682968, 0.0723123773932457, 0.03615618869662285, 0.03615618869662285, 0.012052061967551708, 0.6335169076919556, 0.669584333896637, 0.6996894478797913, 0.45707839727401733, 0.45707839727401733, 0.7668539881706238, 0.09585674852132797, 0.09585674852132797, 0.4658852517604828, 0.7670425176620483, 0.6425877809524536, 0.09885966032743454, 0.10984406620264053, 0.04942983016371727, 0.04942983016371727, 0.04393762722611427, 0.005492203403264284, 0.5545688271522522, 0.14039716124534607, 0.1333773136138916, 0.07019858062267303, 0.05615886673331261, 0.04211914911866188, 0.007019858341664076, 0.4829150140285492, 0.2146288901567459, 0.10731444507837296, 0.10731444507837296, 0.05365722253918648, 0.05365722253918648, 0.7416492104530334, 0.6995943784713745, 0.6333277821540833, 0.12002583593130112, 0.09959590435028076, 0.05490543320775032, 0.05362856388092041, 0.030644893646240234, 0.010214964859187603, 0.6657524108886719, 0.12178397178649902, 0.07712984830141068, 0.05683252215385437, 0.03653519228100777, 0.03653519228100777, 0.008118931204080582, 0.7478377223014832, 0.7935678362846375, 0.6484577059745789, 0.6080395579338074, 0.160258486866951, 0.05656182020902634, 0.06127530708909035, 0.05656182020902634, 0.051848337054252625, 0.009426970034837723, 0.5093733072280884, 0.2183028608560562, 0.07276761531829834, 0.07276761531829834, 0.07276761531829834, 0.07276761531829834, 0.6152154207229614, 0.1427299827337265, 0.10335619002580643, 0.059060681611299515, 0.03445206210017204, 0.03937378525733948, 0.00984344631433487, 0.6198917627334595, 0.11920996010303497, 0.08742063492536545, 0.07152597606182098, 0.04768398404121399, 0.05563131347298622, 0.007947330363094807, 0.6897526979446411, 0.7111009955406189, 0.714941680431366, 0.7369102835655212, 0.6097369194030762, 0.12194738537073135, 0.0975579097867012, 0.0975579097867012, 0.0487789548933506, 0.0243894774466753, 0.5987568497657776, 0.2993784248828888, 0.6563509702682495, 0.5723127722740173, 0.1907709240913391, 0.07630836963653564, 0.03815418481826782, 0.03815418481826782, 0.03815418481826782, 0.6238970756530762, 0.11698070168495178, 0.09393905103206635, 0.054945480078458786, 0.05671791732311249, 0.04608330875635147, 0.007089739665389061, 0.5696624517440796, 0.20440828800201416, 0.0737210214138031, 0.0636681541800499, 0.04021146893501282, 0.046913377940654755, 0.006701911333948374, 0.5977630615234375, 0.1328362375497818, 0.10331707447767258, 0.0664181187748909, 0.05165853723883629, 0.04427874833345413, 0.007379791233688593, 0.6057978868484497, 0.1701679527759552, 0.0748739019036293, 0.04764702543616295, 0.04764702543616295, 0.040840309113264084, 0.006806718185544014, 0.6390690803527832, 0.12781381607055664, 0.06816736608743668, 0.07668828964233398, 0.04260460287332535, 0.04260460287332535, 0.008520920760929585, 0.6776310205459595, 0.12374131381511688, 0.07660176604986191, 0.047139547765254974, 0.03535466268658638, 0.041247107088565826, 0.005892443470656872, 0.5345765948295593, 0.17819219827651978, 0.5863839983940125, 0.1465959995985031, 0.07329799979925156, 0.07329799979925156, 0.07329799979925156, 0.07329799979925156, 0.6140749454498291, 0.1454388052225113, 0.08079934120178223, 0.05655953660607338, 0.04039967060089111, 0.0484796017408371, 0.008079933933913708, 0.6153119802474976, 0.13161754608154297, 0.09542271494865417, 0.059227894991636276, 0.04935657978057861, 0.042775701731443405, 0.0065808771178126335, 0.6053438186645508, 0.13734690845012665, 0.07630383968353271, 0.06104307249188423, 0.07121691852807999, 0.04069538041949272, 0.01017384510487318, 0.721013605594635, 0.08482512831687927, 0.042412564158439636, 0.042412564158439636, 0.042412564158439636, 0.042412564158439636, 0.44835931062698364, 0.6093255281448364, 0.14707857370376587, 0.08404489606618881, 0.05252806097269058, 0.042022448033094406, 0.05252806097269058, 0.010505612008273602, 0.7148311138153076, 0.7115889191627502, 0.4275338649749756, 0.6259859204292297, 0.14871488511562347, 0.0968375951051712, 0.05187728628516197, 0.04496031254529953, 0.027667885646224022, 0.0069169714115560055, 0.5127260088920593, 0.25636300444602966, 0.25636300444602966, 0.7313657402992249, 0.7263309359550476, 0.4371689260005951, 0.4371689260005951, 0.43121880292892456, 0.14373959600925446, 0.14373959600925446, 0.14373959600925446, 0.6182266473770142, 0.12846267223358154, 0.08028917014598846, 0.07226025313138962, 0.04817350208759308, 0.04014458507299423, 0.008028917014598846, 0.6980685591697693, 0.6069866418838501, 0.1363057792186737, 0.08732088655233383, 0.0596337765455246, 0.053244441747665405, 0.04685511067509651, 0.008519111201167107, 0.5846436619758606, 0.18270114064216614, 0.0852605327963829, 0.04872030392289162, 0.03654022887349129, 0.03654022887349129, 0.012180075980722904, 0.34495124220848083, 0.34495124220848083, 0.5315881371498108, 0.20114144682884216, 0.08620347827672958, 0.05746898427605629, 0.05746898427605629, 0.04310173913836479, 0.014367246069014072, 0.6951770186424255, 0.6410737633705139, 0.14429312944412231, 0.092759869992733, 0.039165280759334564, 0.043287940323352814, 0.03298128768801689, 0.006183991674333811, 0.4258197546005249, 0.21290987730026245, 0.7377755641937256, 0.702245831489563, 0.653677225112915, 0.10894621163606644, 0.09338246285915375, 0.07781872153282166, 0.031127488240599632, 0.031127488240599632, 0.015563744120299816, 0.588495671749115, 0.10699921101331711, 0.13374900817871094, 0.053499605506658554, 0.053499605506658554, 0.026749802753329277, 0.7149792313575745, 0.6718817949295044, 0.5410019755363464, 0.2705009877681732, 0.6790294647216797, 0.6002145409584045, 0.1350482702255249, 0.10503754764795303, 0.0450160913169384, 0.060021452605724335, 0.0450160913169384, 0.015005363151431084, 0.6196292042732239, 0.1429913491010666, 0.09532757103443146, 0.0714956745505333, 0.04766378551721573, 0.023831892758607864, 0.619076132774353, 0.11791926622390747, 0.11791926622390747, 0.04913302883505821, 0.04913302883505821, 0.03930642083287239, 0.009826605208218098, 0.4344697892665863, 0.6556674242019653, 0.6779975891113281, 0.10331391543149948, 0.07748543471097946, 0.05165695771574974, 0.045199837535619736, 0.03874271735548973, 0.006457119714468718, 0.6383316516876221, 0.10839594155550003, 0.07226396352052689, 0.07226396352052689, 0.03613198176026344, 0.06021996960043907, 0.012043993920087814, 0.6057004332542419, 0.2019001543521881, 0.2019001543521881, 0.6919426918029785, 0.6081609129905701, 0.14091533422470093, 0.09641575813293457, 0.051916178315877914, 0.051916178315877914, 0.037082985043525696, 0.014833193272352219, 0.6067864298820496, 0.12735024094581604, 0.11236786097288132, 0.06742071360349655, 0.04494714364409447, 0.029964761808514595, 0.007491190452128649, 0.510769784450531, 0.5820999145507812, 0.14415210485458374, 0.1180674359202385, 0.054915085434913635, 0.04805070161819458, 0.04393206909298897, 0.008237263187766075, 0.6000871062278748, 0.11112724244594574, 0.08890178799629211, 0.08890178799629211, 0.06667634099721909, 0.04445089399814606, 0.6703366041183472, 0.7258622050285339, 0.09144720435142517, 0.06858540326356888, 0.04000815376639366, 0.022861801087856293, 0.04000815376639366, 0.005715450271964073, 0.6079278588294983, 0.12516161799430847, 0.10728137940168381, 0.06385796517133713, 0.04597773402929306, 0.03831477835774422, 0.01021727453917265, 0.6870221495628357, 0.10555808991193771, 0.07156480848789215, 0.044728003442287445, 0.04651712253689766, 0.03757152333855629, 0.007156480569392443, 0.5895057916641235, 0.1422944962978363, 0.08131114393472672, 0.06504891067743301, 0.06098335608839989, 0.052852243185043335, 0.012196671217679977, 0.6040052175521851, 0.16570055484771729, 0.0908680409193039, 0.058796968311071396, 0.042761433869600296, 0.026725895702838898, 0.010690358467400074, 0.5439712405204773, 0.751168966293335, 0.6841174364089966, 0.7362701892852783, 0.7480767369270325, 0.6397492289543152, 0.12524192035198212, 0.06769832968711853, 0.07446816563606262, 0.044003915041685104, 0.04061900079250336, 0.006769833154976368, 0.611339271068573, 0.13445261120796204, 0.10083946585655212, 0.06302466243505478, 0.046218086034059525, 0.03361315280199051, 0.008403288200497627, 0.5786497592926025, 0.1593383401632309, 0.10063473880290985, 0.050317369401454926, 0.058703597635030746, 0.050317369401454926, 0.008386228233575821, 0.7079883217811584, 0.10712981224060059, 0.051235996186733246, 0.04657818004488945, 0.051235996186733246, 0.032604724168777466, 0.00931563600897789, 0.4203513562679291, 0.4174085557460785, 0.6298837065696716, 0.14535777270793915, 0.04845258966088295, 0.0969051793217659, 0.04845258966088295, 0.04845258966088295, 0.5887007713317871, 0.11774015426635742, 0.09419212490320206, 0.09419212490320206, 0.0706440880894661, 0.023548031225800514, 0.7251089811325073, 0.548832893371582, 0.16631300747394562, 0.11641909927129745, 0.06652519851922989, 0.049893900752067566, 0.049893900752067566, 0.5543957948684692, 0.20327845215797424, 0.09239929914474487, 0.055439580231904984, 0.055439580231904984, 0.03695971891283989, 0.7321659922599792, 0.49899792671203613, 0.16633263230323792, 0.16633263230323792, 0.7103403210639954, 0.6812301874160767, 0.13902656733989716, 0.0602448470890522, 0.04170797020196915, 0.03707375377416611, 0.03243953362107277, 0.009268438443541527, 0.623041033744812, 0.11867447942495346, 0.11274075508117676, 0.05340351536870003, 0.04153606668114662, 0.04153606668114662, 0.005933723878115416, 0.6654768586158752, 0.11091280728578568, 0.11091280728578568, 0.03961171582341194, 0.03961171582341194, 0.031689371913671494, 0.007922342978417873, 0.7025812268257141, 0.09494341164827347, 0.06646038591861725, 0.05696604773402214, 0.03797736391425133, 0.02848302386701107, 0.009494340978562832, 0.4325551986694336, 0.41268330812454224, 0.41268330812454224, 0.705585241317749, 0.5824516415596008, 0.17130929231643677, 0.0942201167345047, 0.05995825305581093, 0.04282732307910919, 0.05139278993010521, 0.008565464988350868, 0.7202426791191101, 0.6132932305335999, 0.15706290304660797, 0.08975023031234741, 0.044875115156173706, 0.05235430225729942, 0.03739592805504799, 0.007479185704141855, 0.6539801359176636, 0.7268319725990295, 0.06056933104991913, 0.06056933104991913, 0.06056933104991913, 0.06056933104991913, 0.06056933104991913, 0.5838314294815063, 0.1515716314315796, 0.09543398767709732, 0.06736516952514648, 0.05613764002919197, 0.03929634764790535, 0.005613763816654682, 0.686996340751648, 0.5481846928596497, 0.27409234642982483, 0.6949885487556458, 0.46542954444885254, 0.5593132972717285, 0.14590781927108765, 0.12158985435962677, 0.07295390963554382, 0.04863594099879265, 0.04863594099879265, 0.012158985249698162, 0.6843022108078003, 0.1179831400513649, 0.0629243403673172, 0.0471932552754879, 0.0471932552754879, 0.0393277145922184, 0.00786554254591465, 0.7448354959487915, 0.08762770891189575, 0.06572078168392181, 0.043813854455947876, 0.021906927227973938, 0.021906927227973938, 0.4768334627151489, 0.23841673135757446, 0.23841673135757446, 0.6377185583114624, 0.1186453104019165, 0.08527632057666779, 0.06303032487630844, 0.04819965735077858, 0.0407843254506588, 0.0074153319001197815, 0.5388437509536743, 0.20955033600330353, 0.08980728685855865, 0.059871524572372437, 0.059871524572372437, 0.029935762286186218, 0.7339738607406616, 0.6941069960594177, 0.4192649722099304, 0.7080479264259338, 0.606565535068512, 0.11664722114801407, 0.09331777691841125, 0.06998833268880844, 0.06998833268880844, 0.04665888845920563, 0.634857177734375, 0.1400858461856842, 0.0834553986787796, 0.0566304512321949, 0.0417276993393898, 0.0387471504509449, 0.008941650390625, 0.6780077815055847, 0.12858769297599792, 0.07013873755931854, 0.04091426357626915, 0.04091426357626915, 0.03506936877965927, 0.0058448947966098785, 0.7265001535415649, 0.6328948140144348, 0.13551032543182373, 0.08931361883878708, 0.06775516271591187, 0.04157702997326851, 0.027718020603060722, 0.007699450012296438, 0.7538443207740784, 0.6283619999885559, 0.15343722701072693, 0.07306534796953201, 0.05114574357867241, 0.05845227837562561, 0.029226139187812805, 0.007306534796953201, 0.743090033531189, 0.09991126507520676, 0.04995563253760338, 0.04371117800474167, 0.03746672347187996, 0.01873336173593998, 0.006244454067200422, 0.7128850817680359, 0.10848251730203629, 0.077487513422966, 0.04649250581860542, 0.030995003879070282, 0.030995003879070282, 0.6951259970664978, 0.6427890062332153, 0.7078062295913696, 0.11962922662496567, 0.06978371739387512, 0.049845509231090546, 0.029907306656241417, 0.029907306656241417, 0.009969102218747139, 0.6266299486160278, 0.14187848567962646, 0.07093924283981323, 0.04729282855987549, 0.05911603569984436, 0.035469621419906616, 0.011823207139968872, 0.640021800994873, 0.12228059023618698, 0.09106001257896423, 0.05723772197961807, 0.04422914981842041, 0.03382229059934616, 0.0078051439486444, 0.6872335076332092, 0.10572823137044907, 0.08590418845415115, 0.04625609889626503, 0.039648085832595825, 0.026432057842612267, 0.006608014460653067, 0.5727118849754333, 0.1822265088558197, 0.07809707522392273, 0.052064716815948486, 0.07809707522392273, 0.026032358407974243, 0.6817674040794373, 0.17044185101985931, 0.17044185101985931, 0.677736759185791, 0.6065957546234131, 0.1318686455488205, 0.0879124328494072, 0.0615387000143528, 0.0527474582195282, 0.0527474582195282, 0.008791242726147175, 0.43165287375450134, 0.43165287375450134, 0.6430549621582031, 0.10807646065950394, 0.10807646065950394, 0.059442054480314255, 0.03242293745279312, 0.03782676160335541, 0.005403823219239712, 0.5429069995880127, 0.1477026492357254, 0.10578703135251999, 0.06786337494850159, 0.08183524757623672, 0.045907579362392426, 0.007983926683664322, 0.610907256603241, 0.1182401105761528, 0.09853342175483704, 0.0591200552880764, 0.0591200552880764, 0.039413370192050934, 0.009853342548012733, 0.6977707147598267, 0.10734933614730835, 0.08051200211048126, 0.03354666754603386, 0.03354666754603386, 0.04025600105524063, 0.006709333509206772, 0.6159452795982361, 0.1355079710483551, 0.07391343265771866, 0.06159453094005585, 0.06159453094005585, 0.04927562177181244, 0.01231890544295311, 0.5616831183433533, 0.14042077958583832, 0.07021038979291916, 0.07021038979291916, 0.07021038979291916, 0.07021038979291916, 0.7156302332878113, 0.49354392290115356, 0.24677196145057678, 0.24677196145057678, 0.6654682159423828, 0.6180827617645264, 0.137084499001503, 0.10100962966680527, 0.0553147979080677, 0.031264886260032654, 0.050504814833402634, 0.004809982143342495, 0.47098371386528015, 0.2147131711244583, 0.11081969738006592, 0.09004100412130356, 0.05540984869003296, 0.04155738651752472, 0.00692623108625412, 0.5715230107307434, 0.17278602719306946, 0.07974740117788315, 0.07974740117788315, 0.05316493287682533, 0.026582466438412666, 0.013291233219206333, 0.7315341830253601, 0.07837866246700287, 0.05225244164466858, 0.05225244164466858, 0.02612622082233429, 0.02612622082233429, 0.7864820957183838, 0.6086263656616211, 0.16718439757823944, 0.07889600843191147, 0.05823276937007904, 0.043204959481954575, 0.03756953030824661, 0.005635429173707962, 0.600737452507019, 0.13272106647491455, 0.08382382988929749, 0.06985319405794144, 0.048897236585617065, 0.048897236585617065, 0.006985319312661886, 0.6976839303970337, 0.11416646093130112, 0.05708323046565056, 0.04439806565642357, 0.04439806565642357, 0.03805548697710037, 0.006342581007629633, 0.5783591866493225, 0.20116841793060303, 0.07543815672397614, 0.05029210448265076, 0.05029210448265076, 0.05029210448265076, 0.6206216216087341, 0.16112291812896729, 0.07757770270109177, 0.04774012416601181, 0.04177260771393776, 0.03580509126186371, 0.011935031041502953, 0.6859768629074097, 0.1160883978009224, 0.05276745185256004, 0.031660471111536026, 0.06332094222307205, 0.031660471111536026, 0.010553490370512009, 0.715228796005249, 0.6893780827522278, 0.6910251975059509, 0.41499921679496765, 0.6213000416755676, 0.11834286153316498, 0.1035500094294548, 0.05917143076658249, 0.06656786054372787, 0.03698214516043663, 0.007396428845822811, 0.5527220368385315, 0.18014644086360931, 0.09007322043180466, 0.061413560062646866, 0.05731932446360588, 0.04913084954023361, 0.008188474923372269, 0.5691866874694824, 0.17391815781593323, 0.09486444294452667, 0.07905370742082596, 0.031621482223272324, 0.047432221472263336, 0.015810741111636162, 0.5751768946647644, 0.15901219844818115, 0.07826381176710129, 0.07329468429088593, 0.05341815948486328, 0.05217587575316429, 0.008695979602634907, 0.7017462849617004, 0.6147029399871826, 0.1465958207845688, 0.09495411068201065, 0.058305155485868454, 0.039980676025152206, 0.0366489551961422, 0.008329307660460472, 0.7617899179458618, 0.6534616947174072, 0.133894145488739, 0.07276856154203415, 0.04657187685370445, 0.04220576584339142, 0.04366113618016243, 0.0058214846067130566, 0.600862979888916, 0.17167513072490692, 0.08583756536245346, 0.08583756536245346, 0.08583756536245346, 0.08583756536245346, 0.5950343012809753, 0.12396547943353653, 0.12892410159111023, 0.06446205079555511, 0.04462756961584091, 0.03966895118355751, 0.004958618897944689, 0.6457006931304932, 0.6434658169746399, 0.6542817950248718, 0.7310820817947388, 0.4300146996974945, 0.4355025887489319, 0.4355025887489319, 0.5458189845085144, 0.14885972440242767, 0.09923981130123138, 0.09923981130123138, 0.04961990565061569, 0.024809952825307846, 0.7282124757766724, 0.5427679419517517, 0.17685696482658386, 0.09147773683071136, 0.06708367168903351, 0.06098515912890434, 0.048788126558065414, 0.006098515819758177, 0.6960359215736389, 0.42000702023506165, 0.21000351011753082, 0.21000351011753082, 0.5991347432136536, 0.0855906754732132, 0.1711813509464264, 0.0855906754732132, 0.0855906754732132, 0.49329090118408203, 0.1775847226381302, 0.11838981509208679, 0.07892654091119766, 0.059194907546043396, 0.059194907546043396, 0.019731635227799416, 0.4717463552951813, 0.6661183834075928, 0.13322368264198303, 0.06661184132099152, 0.03996710479259491, 0.03996710479259491, 0.026644736528396606, 0.013322368264198303, 0.6877879500389099, 0.10826291143894196, 0.06368406862020493, 0.038210440427064896, 0.05094725266098976, 0.038210440427064896, 0.00636840658262372, 0.6004027128219604, 0.20013423264026642, 0.20013423264026642, 0.7086139917373657, 0.6437044143676758, 0.1271514892578125, 0.07152271270751953, 0.05562877655029297, 0.039734840393066406, 0.05562877655029297, 0.007946968078613281, 0.6179836988449097, 0.1491684764623642, 0.06392934918403625, 0.06392934918403625, 0.0497228279709816, 0.0497228279709816, 0.007103261072188616, 0.5823118686676025, 0.1598503142595291, 0.07992515712976456, 0.07992515712976456, 0.05708939954638481, 0.034253641963005066, 0.011417879723012447, 0.6024748682975769, 0.6868423819541931, 0.09525551646947861, 0.09525551646947861, 0.050134479999542236, 0.03008068911731243, 0.04010758548974991, 0.0050134481862187386, 0.5727130770683289, 0.15798981487751007, 0.07899490743875504, 0.07899490743875504, 0.03949745371937752, 0.05924617871642113, 0.01974872685968876, 0.6291189789772034, 0.13711567223072052, 0.09678753465414047, 0.056459393352270126, 0.04032813757658005, 0.03226251155138016, 0.00806562788784504, 0.690678596496582, 0.6542747616767883, 0.1074182391166687, 0.08300500363111496, 0.05370911955833435, 0.05126779526472092, 0.04150250181555748, 0.009765294380486012, 0.6367722153663635, 0.14243589341640472, 0.08378582447767258, 0.04189291223883629, 0.05027149245142937, 0.03770361840724945, 0.004189291037619114, 0.5740966200828552, 0.13047650456428528, 0.07828590273857117, 0.07828590273857117, 0.07828590273857117, 0.05219060182571411, 0.7059407234191895, 0.6183855533599854, 0.1926119029521942, 0.07096228003501892, 0.05068734288215637, 0.030412403866648674, 0.030412403866648674, 0.010137468576431274, 0.3321153223514557, 0.3321153223514557, 0.6008819341659546, 0.14063194394111633, 0.09801620244979858, 0.06392360478639603, 0.05113888531923294, 0.038354165852069855, 0.00852314755320549, 0.5070777535438538, 0.20600034296512604, 0.09507707506418228, 0.04753853753209114, 0.04753853753209114, 0.079230897128582, 0.01584617979824543, 0.7347831130027771, 0.45335549116134644, 0.5529206991195679, 0.17836150527000427, 0.11296229064464569, 0.07134460657835007, 0.041617684066295624, 0.035672303289175034, 0.011890767142176628, 0.640998899936676, 0.12526258826255798, 0.10625723749399185, 0.05010503903031349, 0.03714683651924133, 0.03714683651924133, 0.005183279514312744, 0.5495495200157166, 0.24979524314403534, 0.04995904862880707, 0.09991809725761414, 0.04995904862880707, 0.04995904862880707, 0.6245368123054504, 0.13211356103420258, 0.10809291154146194, 0.048041295260190964, 0.03603097051382065, 0.03603097051382065, 0.012010323815047741, 0.6148511171340942, 0.14390133321285248, 0.06540969759225845, 0.06540969759225845, 0.06540969759225845, 0.03924581781029701, 0.013081938959658146, 0.5705894231796265, 0.18707850575447083, 0.09353925287723541, 0.05612355098128319, 0.037415701895952225, 0.046769626438617706, 0.009353925473988056, 0.6158584356307983, 0.15613311529159546, 0.07372952997684479, 0.056381404399871826, 0.047707341611385345, 0.039033278822898865, 0.008674061857163906, 0.6477592587471008, 0.13502587378025055, 0.08028566092252731, 0.05474022030830383, 0.043792176991701126, 0.03284413367509842, 0.00729869632050395, 0.6767643690109253, 0.11034201830625534, 0.08091747760772705, 0.044136807322502136, 0.044136807322502136, 0.036780670285224915, 0.007356134243309498, 0.7386279702186584, 0.6678197383880615, 0.12089840322732925, 0.08059893548488617, 0.040299467742443085, 0.04605653136968613, 0.034542400389909744, 0.005757066421210766, 0.6525380611419678, 0.1203003078699112, 0.09478206187486649, 0.0401001051068306, 0.05468196049332619, 0.02916371077299118, 0.007290927693247795, 0.7805583477020264, 0.7204698920249939, 0.7358794808387756, 0.5436518788337708, 0.2718259394168854, 0.2718259394168854, 0.5842844843864441, 0.13096031546592712, 0.10073871165513992, 0.07051709294319153, 0.05036935582756996, 0.060443226248025894, 0.010073870420455933, 0.7498727440834045, 0.7015025019645691, 0.08768781274557114, 0.08768781274557114, 0.5417196154594421, 0.27085980772972107, 0.5427123308181763, 0.16517332196235657, 0.12977904081344604, 0.0589904710650444, 0.04719237610697746, 0.04719237610697746, 0.011798094026744366, 0.5470923185348511, 0.20841611921787262, 0.09118205308914185, 0.06513004004955292, 0.03907802328467369, 0.03907802328467369, 0.013026007451117039, 0.7314640283584595, 0.5074809193611145, 0.19857949018478394, 0.0882575511932373, 0.06619316339492798, 0.06619316339492798, 0.06619316339492798, 0.493348091840744, 0.246674045920372, 0.123337022960186, 0.123337022960186, 0.73991459608078, 0.6868079304695129, 0.4861023426055908, 0.4861023426055908, 0.631711483001709, 0.1263422966003418, 0.08422819525003433, 0.05053691565990448, 0.042114097625017166, 0.05053691565990448, 0.008422819897532463, 0.6891822218894958, 0.6868025064468384, 0.6893344521522522, 0.7022792100906372, 0.7473852634429932, 0.42216840386390686, 0.42216840386390686, 0.6842326521873474, 0.6598607301712036, 0.5902765393257141, 0.12521018087863922, 0.08943583816289902, 0.05366150662302971, 0.07154867053031921, 0.05366150662302971, 0.32915961742401123, 0.32915961742401123, 0.6687048673629761, 0.6582862734794617, 0.46567070484161377, 0.7493746280670166, 0.6633142232894897, 0.6792258024215698], \"Term\": [\"000,000\", \"0\\u00b0 0' 45\\\"\", \"0\\u00b0 43' 46\\\"\", \"0\\u00b0 45' 36\\\" Sagittarius\", \"1' 48\\\"\", \"1' 48\\\"\", \"107\", \"109,265\", \"11,801\", \"1143\", \"1143\", \"11\\u00b0 19' 20\\\" Virgo\", \"131\", \"138,261\", \"139,300\", \"14,140\", \"147,743\", \"14\\u00b0\", \"14\\u00b0\", \"157\", \"1584 October 30\", \"1585 April 26\", \"1593 August 24\", \"162\", \"166,226\", \"16\\u00be\", \"16\\u00be\", \"1790\", \"1796\", \"1\\u00b0 4' 36\\\" Libra\", \"1\\u00b0 50' 20\\\"\", \"1\\u00b0 52'\", \"1\\u2154\", \"2\", \"2\", \"2\", \"2\", \"2\", \"2\", \"2\", \"21\\u00b0 39' 10\\\"\", \"24\\u00bd\", \"25\\u00b0 45' 51\\\" Pisces\", \"26\\u00b0 35' 7\\\"\", \"27' 10\\\"\", \"27\\u00b0 14' 42\\\" Sagittarius\", \"29\\u00b0 18'\", \"29\\u00b0 18'\", \"29\\u00b0 19'\", \"29\\u00b0 20' 12\\\" Leo\", \"29\\u00b0 20' Leo\", \"2\\u00b0 3' 6\\\"\", \"2\\u00b0 36' Sagittarius\", \"3' 29\\\"\", \"3,628\", \"300\", \"300\", \"30th\", \"30th\", \"31\\u00b0\", \"357th\", \"3\\u00b0 38' 16\\\"\", \"4\", \"4\", \"4\", \"4\", \"4\", \"4\", \"4\", \"431\", \"477\", \"48\\u00b0 44'\", \"53\\u00b0 5'\", \"54\", \"54\", \"54\", \"54\", \"54\", \"558,634\", \"5\\u00b0 19'\", \"5\\u00bd\", \"5\\u00bd\", \"5\\u00bd\", \"5\\u00bd\", \"5\\u00bd\", \"5\\u00bd\", \"61' 18\\\"\", \"686,291\", \"6\\u00b0 20' 50\\\"\", \"6\\u00b0 37' 5\\\"\", \"7h 20m\", \"7\\u00b0 5' 1\\\"\", \"7\\u00b0 51'\", \"85\\u00b0 49'\", \"86\\u00b0 44' 52\\\"\", \"87,091\", \"87,400\", \"8h 0m\", \"9\", \"9\", \"9\", \"9\", \"9\", \"9\", \"98,248\", \"98,670\", \"9\\u00b0 2'\", \"9\\u00b0 44'\", \"9\\u00b0 52' 50\\\"\", \"AC\", \"AC\", \"AC\", \"AC\", \"AC\", \"AC\", \"AC\", \"ADE\", \"AR\", \"AR\", \"AR\", \"After 21 \", \"Albategnius6\", \"B\", \"B\", \"B\", \"B\", \"B\", \"B\", \"B\", \"BAF\", \"BMA\", \"Before\", \"Before\", \"Before\", \"By\", \"By\", \"By\", \"By\", \"By\", \"By\", \"B\\u03b1\\u03b4\", \"CBD\", \"CBD\", \"CBD\", \"CBD\", \"CBD\", \"CBD\", \"CD\", \"CD\", \"CD\", \"CD\", \"CD\", \"CD\", \"Ch\", \"Ch\", \"Ch\", \"Ch\", \"Ch\", \"Ch\", \"Ch\", \"Chapter\", \"Chapter\", \"Chapter\", \"Chapter\", \"Chapter\", \"Chapter\", \"Chapter\", \"Chapter 32 \", \"Cor\", \"Cor\", \"Cor\", \"Cor\", \"Cor\", \"Cor\", \"DO\", \"DO\", \"December 7 \", \"E\", \"E\", \"E\", \"E\", \"E\", \"E\", \"E\", \"FBE\", \"FBV\", \"Fourteen\", \"Granted\", \"Granted\", \"HA\", \"HA\", \"HA\", \"IE\", \"IIb\", \"In\", \"In\", \"In\", \"In\", \"In\", \"In\", \"In\", \"It\", \"It\", \"It\", \"It\", \"It\", \"It\", \"It\", \"Its\", \"Its\", \"Its\", \"Its\", \"Its\", \"Its\", \"MBA\", \"March 9 \", \"Mars\", \"Mars\", \"Mars\", \"Mars\", \"Mars\", \"Mars\", \"Mars\", \"Now\", \"Now\", \"Now\", \"Now\", \"Now\", \"Now\", \"Now\", \"Over\", \"PL\", \"SB\", \"So\", \"So\", \"So\", \"So\", \"So\", \"So\", \"So\", \"They\", \"They\", \"They\", \"They\", \"They\", \"They\", \"This\", \"This\", \"This\", \"This\", \"This\", \"This\", \"This\", \"Thus\", \"Thus\", \"Thus\", \"Thus\", \"Thus\", \"Thus\", \"Thus\", \"Under\", \"Use\", \"ZNA\", \"achieved\", \"acronychal\", \"acronychal\", \"acronychal\", \"acronychal\", \"acronychal\", \"acronychal\", \"additive\", \"additive\", \"adduced\", \"already\", \"already\", \"already\", \"already\", \"already\", \"already\", \"angle\", \"angle\", \"angle\", \"angle\", \"angle\", \"angle\", \"angle\", \"anomaly\", \"anomaly\", \"anomaly\", \"anomaly\", \"anomaly\", \"anomaly\", \"anomaly\", \"another\", \"another\", \"another\", \"another\", \"another\", \"another\", \"another\", \"aphelion\", \"aphelion\", \"aphelion\", \"aphelion\", \"aphelion\", \"aphelion\", \"aphelion\", \"apogee\", \"apogee\", \"apogee\", \"apogee\", \"apogee\", \"apogee\", \"apogee\", \"apparent\", \"apparent\", \"apparent\", \"apparent\", \"apparent\", \"apparent\", \"apparent\", \"appreciable\", \"appreciable\", \"appropriate\", \"appropriate\", \"appropriate\", \"appropriate\", \"appropriate\", \"appropriate\", \"apsis\", \"apsis\", \"apsis\", \"apsis\", \"apsis\", \"apsis\", \"apsis\", \"arc\", \"arc\", \"arc\", \"arc\", \"arc\", \"arc\", \"arc\", \"area\", \"area\", \"area\", \"area\", \"area\", \"area\", \"area\", \"arises\", \"arises\", \"arises\", \"arises\", \"arises\", \"arises\", \"armillaries\", \"around\", \"around\", \"around\", \"around\", \"around\", \"around\", \"around\", \"artificial\", \"balked\", \"battle\", \"body\", \"body\", \"body\", \"body\", \"body\", \"body\", \"body\", \"brings\", \"brings\", \"brings\", \"broad\", \"brood\", \"capacity\", \"capacity\", \"catalog\", \"catalog\", \"catalog\", \"catalog\", \"cause\", \"cause\", \"cause\", \"cause\", \"cause\", \"cause\", \"cause\", \"causes43\", \"center\", \"center\", \"center\", \"center\", \"center\", \"center\", \"center\", \"certain\", \"certain\", \"certain\", \"certain\", \"certain\", \"certain\", \"certain\", \"chance\", \"chance\", \"chapter\", \"chapter\", \"chapter\", \"chapter\", \"chapter\", \"chapter\", \"chapter\", \"chariot\", \"circle\", \"circle\", \"circle\", \"circle\", \"circle\", \"circle\", \"circle\", \"circumferential\", \"circumferential\", \"circumscribes\", \"class\", \"computed\", \"computed\", \"computed\", \"computed\", \"computed\", \"computed\", \"computed\", \"connected\", \"connected\", \"connected\", \"connected\", \"connected\", \"connected\", \"considerable\", \"consumed\", \"containing\", \"containing\", \"contention\", \"correct\", \"correct\", \"correct\", \"correct\", \"correct\", \"correct\", \"correct\", \"corresponding\", \"corresponding\", \"corresponding\", \"corresponding\", \"corresponding\", \"corresponding\", \"could\", \"could\", \"could\", \"could\", \"could\", \"could\", \"could\", \"culmination\", \"declares\", \"degree\", \"degree\", \"degree\", \"degree\", \"degree\", \"degree\", \"degree\", \"demonstrated\", \"demonstrated\", \"demonstrated\", \"demonstrated\", \"demonstrated\", \"demonstrated\", \"demonstrated\", \"demonstratively\", \"demonstratively\", \"demonstratively\", \"devise\", \"diameter\", \"diameter\", \"diameter\", \"diameter\", \"diameter\", \"diameter\", \"diameter\", \"difference\", \"difference\", \"difference\", \"difference\", \"difference\", \"difference\", \"difference\", \"discipline\", \"distance\", \"distance\", \"distance\", \"distance\", \"distance\", \"distance\", \"distance\", \"divided\", \"divided\", \"divided\", \"divided\", \"divided\", \"divided\", \"divisible\", \"drawn\", \"drawn\", \"drawn\", \"drawn\", \"drawn\", \"drawn\", \"drawn\", \"earth\", \"earth\", \"earth\", \"earth\", \"earth\", \"earth\", \"earth\", \"eccentric\", \"eccentric\", \"eccentric\", \"eccentric\", \"eccentric\", \"eccentric\", \"eccentric\", \"eccentricity\", \"eccentricity\", \"eccentricity\", \"eccentricity\", \"eccentricity\", \"eccentricity\", \"eccentricity\", \"ecliptic\", \"ecliptic\", \"ecliptic\", \"ecliptic\", \"ecliptic\", \"ecliptic\", \"ecliptic\", \"eliminated\", \"emitted\", \"encircle\", \"encumbrance\", \"entwined\", \"epicycle\", \"epicycle\", \"epicycle\", \"epicycle\", \"epicycle\", \"epicycle\", \"epicycle\", \"equal\", \"equal\", \"equal\", \"equal\", \"equal\", \"equal\", \"equal\", \"equated\", \"equated\", \"equated\", \"equated\", \"equated\", \"equated\", \"equated\", \"equation\", \"equation\", \"equation\", \"equation\", \"equation\", \"equation\", \"equation\", \"escaped\", \"evenly\", \"exceeds\", \"exceeds\", \"exceeds\", \"exceeds\", \"exceeds\", \"exceeds\", \"faculty\", \"faculty\", \"faculty\", \"faculty\", \"faculty\", \"faculty\", \"falsely\", \"far\", \"far\", \"far\", \"far\", \"far\", \"far\", \"farther\", \"farther\", \"farther\", \"farther\", \"farther\", \"farther\", \"fashion\", \"fiber\", \"fiber\", \"fiber\", \"fifteenth\", \"first\", \"first\", \"first\", \"first\", \"first\", \"first\", \"first\", \"fixed\", \"fixed\", \"fixed\", \"fixed\", \"fixed\", \"fixed\", \"fixed\", \"following\", \"following\", \"following\", \"following\", \"following\", \"following\", \"following\", \"force\", \"force\", \"force\", \"force\", \"force\", \"force\", \"force\", \"forcefully\", \"forego\", \"forego\", \"foresee\", \"form\", \"form\", \"form\", \"form\", \"form\", \"form\", \"form\", \"fortune\", \"found\", \"found\", \"found\", \"found\", \"found\", \"found\", \"found\", \"furnish\", \"geometer\", \"geometer\", \"geometer\", \"geometer\", \"geometer\", \"geometer\", \"given\", \"given\", \"given\", \"given\", \"given\", \"given\", \"given\", \"globular\", \"governed\", \"governed\", \"graduation\", \"grain\", \"great\", \"great\", \"great\", \"great\", \"great\", \"great\", \"great\", \"half\", \"half\", \"half\", \"half\", \"half\", \"half\", \"half\", \"happen\", \"happen\", \"happen\", \"happen\", \"happen\", \"happen\", \"hit\", \"hit\", \"hit\", \"hypothesis\", \"hypothesis\", \"hypothesis\", \"hypothesis\", \"hypothesis\", \"hypothesis\", \"hypothesis\", \"increased\", \"increased\", \"increased\", \"increased\", \"increased\", \"increased\", \"industrious\", \"info\", \"intelligence\", \"keen\", \"know\", \"know\", \"know\", \"know\", \"know\", \"know\", \"latitude\", \"latitude\", \"latitude\", \"latitude\", \"latitude\", \"latitude\", \"latitude\", \"le\", \"le\", \"le\", \"le\", \"le\", \"le\", \"le\", \"lifetime\", \"line\", \"line\", \"line\", \"line\", \"line\", \"line\", \"line\", \"loathing\", \"longitude\", \"longitude\", \"longitude\", \"longitude\", \"longitude\", \"longitude\", \"longitude\", \"made\", \"made\", \"made\", \"made\", \"made\", \"made\", \"made\", \"magnetic\", \"magnetic\", \"magnetic\", \"magnetic\", \"magnetic\", \"magnetic\", \"magnified\", \"maintained\", \"maximum\", \"maximum\", \"maximum\", \"maximum\", \"maximum\", \"maximum\", \"maximum\", \"may\", \"may\", \"may\", \"may\", \"may\", \"may\", \"may\", \"mean\", \"mean\", \"mean\", \"mean\", \"mean\", \"mean\", \"mean\", \"measure\", \"measure\", \"measure\", \"measure\", \"measure\", \"measure\", \"measure\", \"measured\", \"measured\", \"measured\", \"measured\", \"measured\", \"measured\", \"measurement\", \"measurement\", \"measurement\", \"men\", \"method\", \"method\", \"method\", \"method\", \"method\", \"method\", \"method\", \"minus\", \"minus\", \"minute\", \"minute\", \"minute\", \"minute\", \"minute\", \"minute\", \"minute\", \"motion\", \"motion\", \"motion\", \"motion\", \"motion\", \"motion\", \"motion\", \"moved\", \"moved\", \"moved\", \"moved\", \"moved\", \"moved\", \"moved\", \"much\", \"much\", \"much\", \"much\", \"much\", \"much\", \"much\", \"namely\", \"namely\", \"namely\", \"namely\", \"namely\", \"namely\", \"namely\", \"nearest\", \"nearest\", \"nearest\", \"nearest\", \"nearest\", \"nearest\", \"noticed\", \"numbered\", \"numbered\", \"numbered\", \"object\", \"observation\", \"observation\", \"observation\", \"observation\", \"observation\", \"observation\", \"observation\", \"observed\", \"observed\", \"observed\", \"observed\", \"observed\", \"observed\", \"observed\", \"observer\", \"observer\", \"observer\", \"observer\", \"observer\", \"observer\", \"observer\", \"obtained\", \"obtained\", \"obtained\", \"obtained\", \"obtained\", \"obtained\", \"odds\", \"one\", \"one\", \"one\", \"one\", \"one\", \"one\", \"one\", \"opposite\", \"opposite\", \"opposite\", \"opposite\", \"opposite\", \"opposite\", \"opposite\", \"opposition\", \"opposition\", \"opposition\", \"opposition\", \"opposition\", \"opposition\", \"opposition\", \"optical\", \"optical\", \"optical\", \"optical\", \"optical\", \"optical\", \"orb\", \"orb\", \"orb\", \"orb\", \"orb\", \"orb\", \"orb\", \"order\", \"order\", \"order\", \"order\", \"order\", \"order\", \"order\", \"ordering\", \"outright\", \"overthrown\", \"o\\u03c8\", \"parallel\", \"parallel\", \"parallel\", \"parallel\", \"parallel\", \"parallel\", \"parallel\", \"part\", \"part\", \"part\", \"part\", \"part\", \"part\", \"part\", \"perigee\", \"perigee\", \"perigee\", \"perigee\", \"perigee\", \"perigee\", \"perigee\", \"planet\", \"planet\", \"planet\", \"planet\", \"planet\", \"planet\", \"planet\", \"plausibility\", \"point\", \"point\", \"point\", \"point\", \"point\", \"point\", \"point\", \"poorly\", \"position\", \"position\", \"position\", \"position\", \"position\", \"position\", \"position\", \"possibility\", \"possibility\", \"possibility\", \"possibility\", \"possibility\", \"possibility\", \"power\", \"power\", \"power\", \"power\", \"power\", \"power\", \"power\", \"prepared\", \"privation\", \"prop\", \"propagated\", \"propose\", \"providence\", \"providence\", \"quantity\", \"quantity\", \"quantity\", \"quantity\", \"quantity\", \"quantity\", \"quintiles\", \"ratio\", \"ratio\", \"ratio\", \"ratio\", \"ratio\", \"ratio\", \"ratio\", \"rebellion\", \"reciprocate\", \"reciprocate\", \"reciprocate\", \"reckoned\", \"reckoned\", \"reckoned\", \"reckoned\", \"reckoned\", \"remain\", \"remain\", \"remain\", \"remain\", \"remain\", \"remain\", \"remain\", \"remark\", \"respect\", \"respect\", \"respect\", \"respect\", \"respect\", \"respect\", \"respect\", \"right\", \"right\", \"right\", \"right\", \"right\", \"right\", \"right\", \"roughly\", \"roughly\", \"roughly\", \"ruin\", \"said\", \"said\", \"said\", \"said\", \"said\", \"said\", \"said\", \"second\", \"second\", \"second\", \"second\", \"second\", \"second\", \"second\", \"see\", \"see\", \"see\", \"see\", \"see\", \"see\", \"see\", \"seized\", \"shall\", \"shall\", \"shall\", \"shall\", \"shall\", \"shall\", \"shall\", \"shown\", \"shown\", \"shown\", \"shown\", \"shown\", \"shown\", \"shown\", \"side\", \"side\", \"side\", \"side\", \"side\", \"side\", \"side\", \"sighted\", \"since\", \"since\", \"since\", \"since\", \"since\", \"since\", \"since\", \"sine\", \"sine\", \"sine\", \"sine\", \"sine\", \"sine\", \"sine\", \"single\", \"single\", \"single\", \"single\", \"single\", \"single\", \"slope\", \"smaller\", \"smaller\", \"smaller\", \"smaller\", \"smaller\", \"smaller\", \"smaller\", \"speeding\", \"speeding\", \"star\", \"star\", \"star\", \"star\", \"star\", \"star\", \"star\", \"still\", \"still\", \"still\", \"still\", \"still\", \"still\", \"still\", \"substitution\", \"substrate\", \"sum\", \"sum\", \"sum\", \"sum\", \"sum\", \"sum\", \"sum\", \"sun\", \"sun\", \"sun\", \"sun\", \"sun\", \"sun\", \"sun\", \"supplement\", \"supplement\", \"supplement\", \"supplement\", \"supplement\", \"supplement\", \"table\", \"table\", \"table\", \"table\", \"table\", \"table\", \"table\", \"take\", \"take\", \"take\", \"take\", \"take\", \"take\", \"take\", \"taken\", \"taken\", \"taken\", \"taken\", \"taken\", \"taken\", \"taken\", \"therefore\", \"therefore\", \"therefore\", \"therefore\", \"therefore\", \"therefore\", \"therefore\", \"time\", \"time\", \"time\", \"time\", \"time\", \"time\", \"time\", \"towards\", \"towards\", \"towards\", \"towards\", \"towards\", \"towards\", \"towards\", \"translates\", \"true\", \"true\", \"true\", \"true\", \"true\", \"true\", \"true\", \"two\", \"two\", \"two\", \"two\", \"two\", \"two\", \"two\", \"undergoes\", \"underwent\", \"unimpeded\", \"universal\", \"universal\", \"universal\", \"using\", \"using\", \"using\", \"using\", \"using\", \"using\", \"using\", \"visually\", \"want\", \"want\", \"want\", \"whereby\", \"whereby\", \"whether\", \"whether\", \"whether\", \"whether\", \"whether\", \"whether\", \"whether\", \"whose\", \"whose\", \"whose\", \"whose\", \"whose\", \"whose\", \"whose\", \"wide\", \"without\", \"without\", \"without\", \"without\", \"without\", \"without\", \"wonder\", \"wonder\", \"wonder\", \"wonder\", \"worthless\", \"\\u0391\\u0399\", \"\\u03b1\\u03b7\\u03b4\", \"\\u03b1\\u03b7\\u03b4\", \"\\u03b2\", \"\\u03b2\", \"\\u03b2\", \"\\u03b2\", \"\\u03b2\", \"\\u03b2\", \"\\u03b2\", \"\\u03b2\\u03b3\\u03c7\", \"\\u03b2\\u03b8\\u03b1\", \"\\u03b4\\u03b6\\u03b3\", \"\\u03b4\\u03bc\\u03b5\", \"\\u03b4\\u03c0\\u03b5\", \"\\u03b6\\u03b1\\u03b5\", \"\\u03b6\\u03b1\\u03b5\", \"\\u03b7\\u03b5\\u03b1\", \"\\u03b7\\u03b8\\u03b1\", \"\\u03b8\", \"\\u03b8\", \"\\u03b8\", \"\\u03b8\", \"\\u03b8\", \"\\u03b8\", \"\\u03b8\\u03b1\\u03b2\", \"\\u03b8\\u03b1\\u03b2\", \"\\u03ba\\u03b6\", \"\\u03c1\\u03b5\", \"\\u03c1\\u03bd\\u03b5\", \"\\u03c3\\u03bb\", \"\\u03c4\\u03b1\", \"\\u03c5\\u03b4\\u03a6\"]}, \"R\": 30, \"lambda.step\": 0.01, \"plot.opts\": {\"xlab\": \"PC1\", \"ylab\": \"PC2\"}, \"topic.order\": [6, 2, 3, 5, 7, 1, 4]};\n",
       "\n",
       "function LDAvis_load_lib(url, callback){\n",
       "  var s = document.createElement('script');\n",
       "  s.src = url;\n",
       "  s.async = true;\n",
       "  s.onreadystatechange = s.onload = callback;\n",
       "  s.onerror = function(){console.warn(\"failed to load library \" + url);};\n",
       "  document.getElementsByTagName(\"head\")[0].appendChild(s);\n",
       "}\n",
       "\n",
       "if(typeof(LDAvis) !== \"undefined\"){\n",
       "   // already loaded: just create the visualization\n",
       "   !function(LDAvis){\n",
       "       new LDAvis(\"#\" + \"ldavis_el1192819239689126246893372578\", ldavis_el1192819239689126246893372578_data);\n",
       "   }(LDAvis);\n",
       "}else if(typeof define === \"function\" && define.amd){\n",
       "   // require.js is available: use it to load d3/LDAvis\n",
       "   require.config({paths: {d3: \"https://cdnjs.cloudflare.com/ajax/libs/d3/3.5.5/d3.min\"}});\n",
       "   require([\"d3\"], function(d3){\n",
       "      window.d3 = d3;\n",
       "      LDAvis_load_lib(\"https://cdn.rawgit.com/bmabey/pyLDAvis/files/ldavis.v1.0.0.js\", function(){\n",
       "        new LDAvis(\"#\" + \"ldavis_el1192819239689126246893372578\", ldavis_el1192819239689126246893372578_data);\n",
       "      });\n",
       "    });\n",
       "}else{\n",
       "    // require.js not available: dynamically load d3 & LDAvis\n",
       "    LDAvis_load_lib(\"https://cdnjs.cloudflare.com/ajax/libs/d3/3.5.5/d3.min.js\", function(){\n",
       "         LDAvis_load_lib(\"https://cdn.rawgit.com/bmabey/pyLDAvis/files/ldavis.v1.0.0.js\", function(){\n",
       "                 new LDAvis(\"#\" + \"ldavis_el1192819239689126246893372578\", ldavis_el1192819239689126246893372578_data);\n",
       "            })\n",
       "         });\n",
       "}\n",
       "</script>"
      ],
      "text/plain": [
       "PreparedData(topic_coordinates=              x         y  topics  cluster       Freq\n",
       "topic                                                \n",
       "5      0.003612 -0.002136       1        1  62.267845\n",
       "1      0.002924  0.003568       2        1  13.602233\n",
       "2      0.002405 -0.002495       3        1   8.739380\n",
       "4     -0.000049  0.000668       4        1   5.743853\n",
       "6     -0.001848 -0.001223       5        1   4.757052\n",
       "0     -0.000916  0.002105       6        1   4.051950\n",
       "3     -0.006129 -0.000487       7        1   0.837693, topic_info=     Category         Freq          Term        Total  loglift  logprob\n",
       "term                                                                   \n",
       "7578  Default  1157.000000           sun  1157.000000  30.0000  30.0000\n",
       "6576  Default   804.000000        planet   804.000000  29.0000  29.0000\n",
       "3192  Default   783.000000          Mars   783.000000  28.0000  28.0000\n",
       "4872  Default   728.000000      distance   728.000000  27.0000  27.0000\n",
       "6605  Default   687.000000      position   687.000000  26.0000  26.0000\n",
       "6591  Default   600.000000         point   600.000000  25.0000  25.0000\n",
       "6000  Default   649.000000          line   649.000000  24.0000  24.0000\n",
       "6192  Default   501.000000        motion   501.000000  23.0000  23.0000\n",
       "3833  Default   564.000000         angle   564.000000  22.0000  22.0000\n",
       "4950  Default   558.000000     eccentric   558.000000  21.0000  21.0000\n",
       "7732  Default   548.000000          time   548.000000  20.0000  20.0000\n",
       "4221  Default   469.000000        center   469.000000  19.0000  19.0000\n",
       "5077  Default   476.000000         equal   476.000000  18.0000  18.0000\n",
       "6371  Default   532.000000           one   532.000000  17.0000  17.0000\n",
       "7316  Default   409.000000         since   409.000000  16.0000  16.0000\n",
       "4940  Default   391.000000         earth   391.000000  15.0000  15.0000\n",
       "4258  Default   485.000000        circle   485.000000  14.0000  14.0000\n",
       "6323  Default   415.000000   observation   415.000000  13.0000  13.0000\n",
       "6103  Default   384.000000          mean   384.000000  12.0000  12.0000\n",
       "5936  Default   335.000000      latitude   335.000000  11.0000  11.0000\n",
       "5069  Default   295.000000      epicycle   295.000000  10.0000  10.0000\n",
       "4951  Default   245.000000  eccentricity   245.000000   9.0000   9.0000\n",
       "3843  Default   298.000000       anomaly   298.000000   8.0000   8.0000\n",
       "3902  Default   303.000000           arc   303.000000   7.0000   7.0000\n",
       "4120  Default   289.000000          body   289.000000   6.0000   6.0000\n",
       "5608  Default   269.000000    hypothesis   269.000000   5.0000   5.0000\n",
       "6473  Default   244.000000          part   244.000000   4.0000   4.0000\n",
       "7862  Default   274.000000           two   274.000000   3.0000   3.0000\n",
       "7450  Default   234.000000          star   234.000000   2.0000   2.0000\n",
       "5382  Default   267.000000         found   267.000000   1.0000   1.0000\n",
       "...       ...          ...           ...          ...      ...      ...\n",
       "4872   Topic7     5.719154      distance   728.397278  -0.0648  -4.7837\n",
       "2530   Topic7     0.283305           CBD    22.131645   0.4240  -7.7888\n",
       "6399   Topic7     1.614744           orb   167.573929   0.1400  -6.0484\n",
       "4221   Topic7     3.909775        center   469.532562  -0.0060  -5.1641\n",
       "7572   Topic7     1.603566           sum   168.197723   0.1294  -6.0553\n",
       "2591   Topic7     1.869452            Ch   201.487564   0.1022  -5.9019\n",
       "7050   Topic7     0.805642       respect    75.061729   0.2478  -6.7437\n",
       "2751   Topic7     0.874138             E    82.973351   0.2292  -6.6621\n",
       "7634   Topic7     0.865619         table    83.261703   0.2160  -6.6719\n",
       "3847   Topic7     1.298680       another   135.505188   0.1346  -6.2662\n",
       "2445   Topic7     1.461351             B   157.214233   0.1040  -6.1482\n",
       "5069   Topic7     2.465998      epicycle   295.428253  -0.0036  -5.6250\n",
       "3468   Topic7     1.862650            So   212.157242   0.0469  -5.9056\n",
       "4950   Topic7     4.076998     eccentric   558.933960  -0.1384  -5.1222\n",
       "3044   Topic7     1.341364            It   142.453018   0.1169  -6.2339\n",
       "6000   Topic7     4.562632          line   649.397034  -0.1759  -5.0097\n",
       "4120   Topic7     2.346290          body   289.143890  -0.0318  -5.6747\n",
       "7732   Topic7     3.861230          time   548.043091  -0.1731  -5.1766\n",
       "6103   Topic7     2.898430          mean   384.361908  -0.1051  -5.4634\n",
       "3833   Topic7     3.880454         angle   564.195618  -0.1972  -5.1716\n",
       "7697   Topic7     1.944648     therefore   230.572479   0.0068  -5.8625\n",
       "6605   Topic7     4.301113      position   687.109924  -0.2913  -5.0687\n",
       "7862   Topic7     2.196407           two   274.313507  -0.0452  -5.7407\n",
       "4258   Topic7     3.245000        circle   485.123566  -0.2250  -5.3505\n",
       "7578   Topic7     5.718655           sun  1157.568237  -0.5281  -4.7838\n",
       "5608   Topic7     2.152295    hypothesis   269.711456  -0.0485  -5.7610\n",
       "3274   Topic7     2.012311           Now   246.337830  -0.0251  -5.8283\n",
       "6371   Topic7     2.748606           one   532.346313  -0.4839  -5.5165\n",
       "6323   Topic7     2.219325   observation   415.801941  -0.4507  -5.7304\n",
       "3843   Topic7     1.938332       anomaly   298.422333  -0.2544  -5.8657\n",
       "\n",
       "[613 rows x 6 columns], token_table=      Topic      Freq                    Term\n",
       "term                                         \n",
       "4         1  0.704246                 000,000\n",
       "13        1  0.705212               0° 0' 45\"\n",
       "28        1  0.693329              0° 43' 46\"\n",
       "30        1  0.748295  0° 45' 36\" Sagittarius\n",
       "56        1  0.343263                  1' 48\"\n",
       "56        2  0.343263                  1' 48\"\n",
       "106       1  0.724429                     107\n",
       "110       1  0.701208                 109,265\n",
       "148       1  0.685429                  11,801\n",
       "158       1  0.336845                    1143\n",
       "158       2  0.336845                    1143\n",
       "175       1  0.759177       11° 19' 20\" Virgo\n",
       "264       1  0.789163                     131\n",
       "280       1  0.720868                 138,261\n",
       "299       1  0.701885                 139,300\n",
       "315       1  0.639475                  14,140\n",
       "330       1  0.724104                 147,743\n",
       "338       1  0.470088                     14°\n",
       "338       2  0.235044                     14°\n",
       "381       1  0.731351                     157\n",
       "402       1  0.699893         1584 October 30\n",
       "404       1  0.778049           1585 April 26\n",
       "431       1  0.484169          1593 August 24\n",
       "501       1  0.681249                     162\n",
       "527       1  0.712099                 166,226\n",
       "595       1  0.519028                     16¾\n",
       "595       2  0.519028                     16¾\n",
       "607       1  0.693600                    1790\n",
       "609       1  0.740539                    1796\n",
       "780       1  0.697531         1° 4' 36\" Libra\n",
       "...     ...       ...                     ...\n",
       "8328      1  0.631711                       β\n",
       "8328      2  0.126342                       β\n",
       "8328      3  0.084228                       β\n",
       "8328      4  0.050537                       β\n",
       "8328      5  0.042114                       β\n",
       "8328      6  0.050537                       β\n",
       "8328      7  0.008423                       β\n",
       "8341      1  0.689182                     βγχ\n",
       "8350      1  0.686803                     βθα\n",
       "8456      1  0.689334                     δζγ\n",
       "8468      1  0.702279                     δμε\n",
       "8471      1  0.747385                     δπε\n",
       "8522      1  0.422168                     ζαε\n",
       "8522      2  0.422168                     ζαε\n",
       "8565      1  0.684233                     ηεα\n",
       "8569      1  0.659861                     ηθα\n",
       "8575      1  0.590277                       θ\n",
       "8575      2  0.125210                       θ\n",
       "8575      3  0.089436                       θ\n",
       "8575      4  0.053662                       θ\n",
       "8575      5  0.071549                       θ\n",
       "8575      6  0.053662                       θ\n",
       "8578      1  0.329160                     θαβ\n",
       "8578      2  0.329160                     θαβ\n",
       "8652      1  0.668705                      κζ\n",
       "8766      1  0.658286                      ρε\n",
       "8773      1  0.465671                     ρνε\n",
       "8785      1  0.749375                      σλ\n",
       "8789      1  0.663314                      τα\n",
       "8804      1  0.679226                     υδΦ\n",
       "\n",
       "[1296 rows x 3 columns], R=30, lambda_step=0.01, plot_opts={'xlab': 'PC1', 'ylab': 'PC2'}, topic_order=[6, 2, 3, 5, 7, 1, 4])"
      ]
     },
     "execution_count": 171,
     "metadata": {},
     "output_type": "execute_result"
    }
   ],
   "source": [
    "vis"
   ]
  },
  {
   "cell_type": "code",
   "execution_count": 172,
   "metadata": {},
   "outputs": [],
   "source": [
    "pyLDAvis.save_html(vis,'vis_07_topics_all_chapters.html') # You can open saved html file  (vis_01)in your browser to see the result. "
   ]
  },
  {
   "cell_type": "markdown",
   "metadata": {},
   "source": [
    "<font size= \"4\">\n",
    "How can we find that how many topics are proper for a model?\n",
    "<font/>"
   ]
  },
  {
   "cell_type": "markdown",
   "metadata": {},
   "source": [
    "## **Coherence Metric**"
   ]
  },
  {
   "cell_type": "code",
   "execution_count": null,
   "metadata": {},
   "outputs": [],
   "source": []
  }
 ],
 "metadata": {
  "kernelspec": {
   "display_name": "Python 3",
   "language": "python",
   "name": "python3"
  },
  "language_info": {
   "codemirror_mode": {
    "name": "ipython",
    "version": 3
   },
   "file_extension": ".py",
   "mimetype": "text/x-python",
   "name": "python",
   "nbconvert_exporter": "python",
   "pygments_lexer": "ipython3",
   "version": "3.7.1"
  }
 },
 "nbformat": 4,
 "nbformat_minor": 2
}
