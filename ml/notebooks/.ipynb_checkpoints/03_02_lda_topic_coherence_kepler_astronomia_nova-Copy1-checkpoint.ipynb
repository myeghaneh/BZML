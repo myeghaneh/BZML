{
 "cells": [
  {
   "cell_type": "markdown",
   "metadata": {},
   "source": [
    "# **Extracting Topic model by  \"Latent Dirichlet Allocation (LDA)\"  of kepler's book: \"Astronomia Nova** \"\n",
    "<font size=\"4\">\n",
    "This notebook demonstrates how to **extract topics **  from documents, corpus, book. We visualize the result in an informative way. Here, an unsupervised learning model LDA is used. **Topic modelling** is based on the basic assumptions that each corpus (book)  consists of different topics and each topic consists of a collection of words.\n",
    "<font/>\n"
   ]
  },
  {
   "cell_type": "markdown",
   "metadata": {},
   "source": [
    "### Import the required tools "
   ]
  },
  {
   "cell_type": "code",
   "execution_count": 1,
   "metadata": {
    "collapsed": true
   },
   "outputs": [
    {
     "name": "stderr",
     "output_type": "stream",
     "text": [
      "[nltk_data] Downloading package punkt to\n",
      "[nltk_data]     C:\\Users\\moha\\AppData\\Roaming\\nltk_data...\n",
      "[nltk_data]   Package punkt is already up-to-date!\n",
      "[nltk_data] Downloading package averaged_perceptron_tagger to\n",
      "[nltk_data]     C:\\Users\\moha\\AppData\\Roaming\\nltk_data...\n",
      "[nltk_data]   Package averaged_perceptron_tagger is already up-to-\n",
      "[nltk_data]       date!\n",
      "[nltk_data] Downloading package wordnet to\n",
      "[nltk_data]     C:\\Users\\moha\\AppData\\Roaming\\nltk_data...\n",
      "[nltk_data]   Package wordnet is already up-to-date!\n"
     ]
    }
   ],
   "source": [
    "import numpy as np\n",
    "import pandas as pd\n",
    "import scipy as sp\n",
    "import matplotlib.pyplot as plt\n",
    "import collections\n",
    "import os\n",
    "import logging\n",
    "import warnings\n",
    "from itertools import permutations\n",
    "from sklearn.metrics import make_scorer,confusion_matrix\n",
    "from sklearn.model_selection import cross_val_score\n",
    "from sklearn.model_selection import RandomizedSearchCV\n",
    "import sklearn_crfsuite  # to install this package in windows with pip please run: 'pip install sklearn-crfsuite'\n",
    "from sklearn_crfsuite import metrics, scorers\n",
    "import nltk\n",
    "from nltk.tokenize import word_tokenize\n",
    "from nltk.tag import pos_tag\n",
    "nltk.download('punkt')\n",
    "nltk.download('averaged_perceptron_tagger')\n",
    "import eli5  # to install this package in windows with conda please run: 'conda install -c conda-forge eli5'\n",
    "from nltk.stem.porter import PorterStemmer\n",
    "from nltk.stem import WordNetLemmatizer \n",
    "from gensim import corpora, models  # to install this package in windows with conda please run: 'models conda install -c conda-forge gensim'\n",
    "nltk.download('wordnet')\n",
    "%matplotlib inline\n",
    "warnings.filterwarnings(\"ignore\",category=DeprecationWarning)\n",
    "logging.basicConfig(format='%(asctime)s : %(levelname)s : %(message)s', level=logging.ERROR)"
   ]
  },
  {
   "cell_type": "markdown",
   "metadata": {},
   "source": [
    "Please download the data '01_df_v013.pickle' in github on  your local machine from  this directory: vorlesung2019/notebooks/yeghaneh/data"
   ]
  },
  {
   "cell_type": "code",
   "execution_count": 2,
   "metadata": {
    "collapsed": true
   },
   "outputs": [],
   "source": [
    "importVersion = '013'  # The  desired version pickle-file of your data (now we are working on version 013 of our data)"
   ]
  },
  {
   "cell_type": "code",
   "execution_count": 3,
   "metadata": {
    "collapsed": true
   },
   "outputs": [],
   "source": [
    "path = '../data/01_df_v{0}.pickle'.format(importVersion)  # Put the path of the data in your local machine here, consider the letter \"r\" before the path"
   ]
  },
  {
   "cell_type": "markdown",
   "metadata": {},
   "source": [
    "### Let's use data \"01_df_v013\" to build a NER system. \n",
    "<font size=\"3\">The data 01_df_v013 is annotated (labeled) data of english version of well-known kepler's book: New Astronomy (Latin: Astronomia nova). You can find that in the repository.\n",
    "             </font>\n"
   ]
  },
  {
   "cell_type": "markdown",
   "metadata": {},
   "source": [
    "## **Read the data** \n",
    "<font size=\"3\">The data  is saves as a pickle file. We read it as a pandas dataFrame. </font>"
   ]
  },
  {
   "cell_type": "code",
   "execution_count": 4,
   "metadata": {},
   "outputs": [],
   "source": [
    "dfAstroNova = pd.read_pickle(path)  # Put the path of the data in your local machine here, consider the letter \"r\" before the path"
   ]
  },
  {
   "cell_type": "markdown",
   "metadata": {},
   "source": [
    "<font size=\"4\"> Sort the data based on the chapters of the book \n",
    "</font>"
   ]
  },
  {
   "cell_type": "code",
   "execution_count": 5,
   "metadata": {},
   "outputs": [],
   "source": [
    "dfAstroNova['chapter'] = dfAstroNova.chapter.replace(\"appendix b\",np.nan).astype(float)  \n",
    "dfAstroNova.sort_values(by='chapter' , inplace=True)\n",
    "dfAstroNova.chapter.fillna('appendix b', inplace=True)"
   ]
  },
  {
   "cell_type": "code",
   "execution_count": 6,
   "metadata": {},
   "outputs": [
    {
     "data": {
      "text/plain": [
       "1605"
      ]
     },
     "execution_count": 6,
     "metadata": {},
     "output_type": "execute_result"
    }
   ],
   "source": [
    "len(dfAstroNova)   # Number of rows."
   ]
  },
  {
   "cell_type": "code",
   "execution_count": 7,
   "metadata": {},
   "outputs": [
    {
     "data": {
      "text/html": [
       "<div>\n",
       "<style scoped>\n",
       "    .dataframe tbody tr th:only-of-type {\n",
       "        vertical-align: middle;\n",
       "    }\n",
       "\n",
       "    .dataframe tbody tr th {\n",
       "        vertical-align: top;\n",
       "    }\n",
       "\n",
       "    .dataframe thead th {\n",
       "        text-align: right;\n",
       "    }\n",
       "</style>\n",
       "<table border=\"1\" class=\"dataframe\">\n",
       "  <thead>\n",
       "    <tr style=\"text-align: right;\">\n",
       "      <th></th>\n",
       "      <th>html</th>\n",
       "      <th>text</th>\n",
       "      <th>links</th>\n",
       "      <th>italic</th>\n",
       "      <th>chapter</th>\n",
       "      <th>graphic</th>\n",
       "      <th>table</th>\n",
       "      <th>marginal</th>\n",
       "      <th>sentences</th>\n",
       "      <th>tagged</th>\n",
       "    </tr>\n",
       "  </thead>\n",
       "  <tbody>\n",
       "    <tr>\n",
       "      <th>18</th>\n",
       "      <td>&lt;p&gt;&lt;span class=\"anchor\" id=\"bookmark0\"&gt;&lt;/span&gt;...</td>\n",
       "      <td>Chapter 1</td>\n",
       "      <td>[]</td>\n",
       "      <td>[]</td>\n",
       "      <td>1</td>\n",
       "      <td>[]</td>\n",
       "      <td>[]</td>\n",
       "      <td>[]</td>\n",
       "      <td>[Chapter 1]</td>\n",
       "      <td>[[(Chapter, None), (1, NUM)]]</td>\n",
       "    </tr>\n",
       "    <tr>\n",
       "      <th>34</th>\n",
       "      <td>&lt;p&gt;But before that, I shall prove in this firs...</td>\n",
       "      <td>But before that, I shall prove in this first p...</td>\n",
       "      <td>[]</td>\n",
       "      <td>[]</td>\n",
       "      <td>1</td>\n",
       "      <td>[]</td>\n",
       "      <td>[]</td>\n",
       "      <td>[]</td>\n",
       "      <td>[But before that, I shall prove in this first ...</td>\n",
       "      <td>[[(But, None), (before, None), (that, None), (...</td>\n",
       "    </tr>\n",
       "    <tr>\n",
       "      <th>33</th>\n",
       "      <td>&lt;p&gt;But since the sun's mean and apparent motio...</td>\n",
       "      <td>But since the sun's mean and apparent motions*...</td>\n",
       "      <td>[]</td>\n",
       "      <td>[Mysterium cosmographicum,]</td>\n",
       "      <td>1</td>\n",
       "      <td>[]</td>\n",
       "      <td>[]</td>\n",
       "      <td>[ Terms: * The sun's apparent position is that...</td>\n",
       "      <td>[But since the sun's mean and apparent motions...</td>\n",
       "      <td>[[(But, None), (since, None), (the, None), (su...</td>\n",
       "    </tr>\n",
       "    <tr>\n",
       "      <th>32</th>\n",
       "      <td>&lt;p&gt;Now the causes and measures of these inequa...</td>\n",
       "      <td>Now the causes and measures of these inequalit...</td>\n",
       "      <td>[]</td>\n",
       "      <td>[]</td>\n",
       "      <td>1</td>\n",
       "      <td>[]</td>\n",
       "      <td>[]</td>\n",
       "      <td>[ 5]</td>\n",
       "      <td>[Now the causes and measures of these inequali...</td>\n",
       "      <td>[[(Now, None), (the, None), (causes, None), (a...</td>\n",
       "    </tr>\n",
       "    <tr>\n",
       "      <th>30</th>\n",
       "      <td>&lt;p&gt;Again, however, it was noticed that these l...</td>\n",
       "      <td>Again, however, it was noticed that these loop...</td>\n",
       "      <td>[]</td>\n",
       "      <td>[]</td>\n",
       "      <td>1</td>\n",
       "      <td>[]</td>\n",
       "      <td>[]</td>\n",
       "      <td>[]</td>\n",
       "      <td>[Again, however, it was noticed that these loo...</td>\n",
       "      <td>[[(Again, None), (however, None), (it, None), ...</td>\n",
       "    </tr>\n",
       "  </tbody>\n",
       "</table>\n",
       "</div>"
      ],
      "text/plain": [
       "                                                 html  \\\n",
       "18  <p><span class=\"anchor\" id=\"bookmark0\"></span>...   \n",
       "34  <p>But before that, I shall prove in this firs...   \n",
       "33  <p>But since the sun's mean and apparent motio...   \n",
       "32  <p>Now the causes and measures of these inequa...   \n",
       "30  <p>Again, however, it was noticed that these l...   \n",
       "\n",
       "                                                 text links  \\\n",
       "18                                          Chapter 1    []   \n",
       "34  But before that, I shall prove in this first p...    []   \n",
       "33  But since the sun's mean and apparent motions*...    []   \n",
       "32  Now the causes and measures of these inequalit...    []   \n",
       "30  Again, however, it was noticed that these loop...    []   \n",
       "\n",
       "                         italic chapter graphic table  \\\n",
       "18                           []       1      []    []   \n",
       "34                           []       1      []    []   \n",
       "33  [Mysterium cosmographicum,]       1      []    []   \n",
       "32                           []       1      []    []   \n",
       "30                           []       1      []    []   \n",
       "\n",
       "                                             marginal  \\\n",
       "18                                                 []   \n",
       "34                                                 []   \n",
       "33  [ Terms: * The sun's apparent position is that...   \n",
       "32                                               [ 5]   \n",
       "30                                                 []   \n",
       "\n",
       "                                            sentences  \\\n",
       "18                                        [Chapter 1]   \n",
       "34  [But before that, I shall prove in this first ...   \n",
       "33  [But since the sun's mean and apparent motions...   \n",
       "32  [Now the causes and measures of these inequali...   \n",
       "30  [Again, however, it was noticed that these loo...   \n",
       "\n",
       "                                               tagged  \n",
       "18                      [[(Chapter, None), (1, NUM)]]  \n",
       "34  [[(But, None), (before, None), (that, None), (...  \n",
       "33  [[(But, None), (since, None), (the, None), (su...  \n",
       "32  [[(Now, None), (the, None), (causes, None), (a...  \n",
       "30  [[(Again, None), (however, None), (it, None), ...  "
      ]
     },
     "execution_count": 7,
     "metadata": {},
     "output_type": "execute_result"
    }
   ],
   "source": [
    "dfAstroNova.head(5)  "
   ]
  },
  {
   "cell_type": "code",
   "execution_count": 8,
   "metadata": {},
   "outputs": [
    {
     "data": {
      "text/html": [
       "<div>\n",
       "<style scoped>\n",
       "    .dataframe tbody tr th:only-of-type {\n",
       "        vertical-align: middle;\n",
       "    }\n",
       "\n",
       "    .dataframe tbody tr th {\n",
       "        vertical-align: top;\n",
       "    }\n",
       "\n",
       "    .dataframe thead th {\n",
       "        text-align: right;\n",
       "    }\n",
       "</style>\n",
       "<table border=\"1\" class=\"dataframe\">\n",
       "  <thead>\n",
       "    <tr style=\"text-align: right;\">\n",
       "      <th></th>\n",
       "      <th>html</th>\n",
       "      <th>text</th>\n",
       "      <th>links</th>\n",
       "      <th>italic</th>\n",
       "      <th>chapter</th>\n",
       "      <th>graphic</th>\n",
       "      <th>table</th>\n",
       "      <th>marginal</th>\n",
       "      <th>sentences</th>\n",
       "      <th>tagged</th>\n",
       "    </tr>\n",
       "  </thead>\n",
       "  <tbody>\n",
       "    <tr>\n",
       "      <th>594</th>\n",
       "      <td>&lt;p&gt;&lt;span class=\"anchor\" id=\"bookmark1\"&gt;&lt;/span&gt;...</td>\n",
       "      <td>Whether the motion from the sun, like its ligh...</td>\n",
       "      <td>[{'#fn1': 'άντίφραχις.↩'}]</td>\n",
       "      <td>[]</td>\n",
       "      <td>35</td>\n",
       "      <td>[]</td>\n",
       "      <td>[]</td>\n",
       "      <td>[]</td>\n",
       "      <td>[Whether the motion from the sun, like its lig...</td>\n",
       "      <td>[[(Whether, None), (the, None), (motion, None)...</td>\n",
       "    </tr>\n",
       "    <tr>\n",
       "      <th>596</th>\n",
       "      <td>&lt;p&gt;And concerning the first, it is worthy of c...</td>\n",
       "      <td>And concerning the first, it is worthy of cons...</td>\n",
       "      <td>[]</td>\n",
       "      <td>[]</td>\n",
       "      <td>35</td>\n",
       "      <td>[]</td>\n",
       "      <td>[]</td>\n",
       "      <td>[]</td>\n",
       "      <td>[And concerning the first, it is worthy of con...</td>\n",
       "      <td>[[(And, None), (concerning, None), (the, None)...</td>\n",
       "    </tr>\n",
       "    <tr>\n",
       "      <th>595</th>\n",
       "      <td>&lt;p&gt;This is a good time for me to take up the o...</td>\n",
       "      <td>This is a good time for me to take up the obje...</td>\n",
       "      <td>[]</td>\n",
       "      <td>[species]</td>\n",
       "      <td>35</td>\n",
       "      <td>[]</td>\n",
       "      <td>[]</td>\n",
       "      <td>[]</td>\n",
       "      <td>[This is a good time for me to take up the obj...</td>\n",
       "      <td>[[(This, None), (is, None), (a, None), (good, ...</td>\n",
       "    </tr>\n",
       "    <tr>\n",
       "      <th>598</th>\n",
       "      <td>&lt;p&gt;But it is answered, first, that the analogy...</td>\n",
       "      <td>But it is answered, first, that the analogy be...</td>\n",
       "      <td>[]</td>\n",
       "      <td>[]</td>\n",
       "      <td>35</td>\n",
       "      <td>[]</td>\n",
       "      <td>[]</td>\n",
       "      <td>[]</td>\n",
       "      <td>[But it is answered, first, that the analogy b...</td>\n",
       "      <td>[[(But, None), (it, None), (is, None), (answer...</td>\n",
       "    </tr>\n",
       "    <tr>\n",
       "      <th>599</th>\n",
       "      <td>&lt;p&gt;On this account I would nearly separate lig...</td>\n",
       "      <td>On this account I would nearly separate light ...</td>\n",
       "      <td>[]</td>\n",
       "      <td>[]</td>\n",
       "      <td>35</td>\n",
       "      <td>[]</td>\n",
       "      <td>[]</td>\n",
       "      <td>[]</td>\n",
       "      <td>[On this account I would nearly separate light...</td>\n",
       "      <td>[[(On, None), (this, None), (account, None), (...</td>\n",
       "    </tr>\n",
       "  </tbody>\n",
       "</table>\n",
       "</div>"
      ],
      "text/plain": [
       "                                                  html  \\\n",
       "594  <p><span class=\"anchor\" id=\"bookmark1\"></span>...   \n",
       "596  <p>And concerning the first, it is worthy of c...   \n",
       "595  <p>This is a good time for me to take up the o...   \n",
       "598  <p>But it is answered, first, that the analogy...   \n",
       "599  <p>On this account I would nearly separate lig...   \n",
       "\n",
       "                                                  text  \\\n",
       "594  Whether the motion from the sun, like its ligh...   \n",
       "596  And concerning the first, it is worthy of cons...   \n",
       "595  This is a good time for me to take up the obje...   \n",
       "598  But it is answered, first, that the analogy be...   \n",
       "599  On this account I would nearly separate light ...   \n",
       "\n",
       "                          links     italic chapter graphic table marginal  \\\n",
       "594  [{'#fn1': 'άντίφραχις.↩'}]         []      35      []    []       []   \n",
       "596                          []         []      35      []    []       []   \n",
       "595                          []  [species]      35      []    []       []   \n",
       "598                          []         []      35      []    []       []   \n",
       "599                          []         []      35      []    []       []   \n",
       "\n",
       "                                             sentences  \\\n",
       "594  [Whether the motion from the sun, like its lig...   \n",
       "596  [And concerning the first, it is worthy of con...   \n",
       "595  [This is a good time for me to take up the obj...   \n",
       "598  [But it is answered, first, that the analogy b...   \n",
       "599  [On this account I would nearly separate light...   \n",
       "\n",
       "                                                tagged  \n",
       "594  [[(Whether, None), (the, None), (motion, None)...  \n",
       "596  [[(And, None), (concerning, None), (the, None)...  \n",
       "595  [[(This, None), (is, None), (a, None), (good, ...  \n",
       "598  [[(But, None), (it, None), (is, None), (answer...  \n",
       "599  [[(On, None), (this, None), (account, None), (...  "
      ]
     },
     "execution_count": 8,
     "metadata": {},
     "output_type": "execute_result"
    }
   ],
   "source": [
    "dfAstroNova[740:745]"
   ]
  },
  {
   "cell_type": "code",
   "execution_count": 9,
   "metadata": {},
   "outputs": [
    {
     "data": {
      "text/html": [
       "<div>\n",
       "<style scoped>\n",
       "    .dataframe tbody tr th:only-of-type {\n",
       "        vertical-align: middle;\n",
       "    }\n",
       "\n",
       "    .dataframe tbody tr th {\n",
       "        vertical-align: top;\n",
       "    }\n",
       "\n",
       "    .dataframe thead th {\n",
       "        text-align: right;\n",
       "    }\n",
       "</style>\n",
       "<table border=\"1\" class=\"dataframe\">\n",
       "  <thead>\n",
       "    <tr style=\"text-align: right;\">\n",
       "      <th></th>\n",
       "      <th>html</th>\n",
       "      <th>text</th>\n",
       "      <th>links</th>\n",
       "      <th>italic</th>\n",
       "      <th>chapter</th>\n",
       "      <th>graphic</th>\n",
       "      <th>table</th>\n",
       "      <th>marginal</th>\n",
       "      <th>sentences</th>\n",
       "      <th>tagged</th>\n",
       "    </tr>\n",
       "  </thead>\n",
       "  <tbody>\n",
       "    <tr>\n",
       "      <th>1568</th>\n",
       "      <td>&lt;p&gt;{marginal: The words of the observation hav...</td>\n",
       "      <td>Consider whether the meaning could be this: t...</td>\n",
       "      <td>[]</td>\n",
       "      <td>[]</td>\n",
       "      <td>70</td>\n",
       "      <td>[]</td>\n",
       "      <td>[]</td>\n",
       "      <td>[ The words of the observation have their comm...</td>\n",
       "      <td>[Consider whether the meaning could be this: t...</td>\n",
       "      <td>[[(Consider, None), (whether, None), (the, Non...</td>\n",
       "    </tr>\n",
       "    <tr>\n",
       "      <th>1569</th>\n",
       "      <td>&lt;p&gt;This interpretation is furthered by the obs...</td>\n",
       "      <td>This interpretation is furthered by the observ...</td>\n",
       "      <td>[]</td>\n",
       "      <td>[]</td>\n",
       "      <td>70</td>\n",
       "      <td>[]</td>\n",
       "      <td>[]</td>\n",
       "      <td>[]</td>\n",
       "      <td>[This interpretation is furthered by the obser...</td>\n",
       "      <td>[[(This, None), (interpretation, None), (is, N...</td>\n",
       "    </tr>\n",
       "    <tr>\n",
       "      <th>0</th>\n",
       "      <td>&lt;p&gt;Appendix B&lt;/p&gt;</td>\n",
       "      <td>Appendix B</td>\n",
       "      <td>[]</td>\n",
       "      <td>[]</td>\n",
       "      <td>appendix b</td>\n",
       "      <td>[]</td>\n",
       "      <td>[]</td>\n",
       "      <td>[]</td>\n",
       "      <td>[Appendix B]</td>\n",
       "      <td>[[(Appendix, None), (B, None)]]</td>\n",
       "    </tr>\n",
       "    <tr>\n",
       "      <th>1</th>\n",
       "      <td>&lt;p&gt;&lt;span class=\"anchor\" id=\"bookmark0\"&gt;&lt;/span&gt;...</td>\n",
       "      <td>On the Table of Oppositions in Chapter 15</td>\n",
       "      <td>[]</td>\n",
       "      <td>[]</td>\n",
       "      <td>appendix b</td>\n",
       "      <td>[]</td>\n",
       "      <td>[]</td>\n",
       "      <td>[]</td>\n",
       "      <td>[On the Table of Oppositions in Chapter 15]</td>\n",
       "      <td>[[(On, None), (the, None), (Table, None), (of,...</td>\n",
       "    </tr>\n",
       "    <tr>\n",
       "      <th>2</th>\n",
       "      <td>&lt;p&gt;by Yaakov Zik &lt;span style=\"font-variant: sm...</td>\n",
       "      <td>by Yaakov Zik Table i:</td>\n",
       "      <td>[]</td>\n",
       "      <td>[]</td>\n",
       "      <td>appendix b</td>\n",
       "      <td>[]</td>\n",
       "      <td>[]</td>\n",
       "      <td>[]</td>\n",
       "      <td>[by Yaakov Zik Table i:]</td>\n",
       "      <td>[[(by, None), (Yaakov, None), (Zik, None), (Ta...</td>\n",
       "    </tr>\n",
       "  </tbody>\n",
       "</table>\n",
       "</div>"
      ],
      "text/plain": [
       "                                                   html  \\\n",
       "1568  <p>{marginal: The words of the observation hav...   \n",
       "1569  <p>This interpretation is furthered by the obs...   \n",
       "0                                     <p>Appendix B</p>   \n",
       "1     <p><span class=\"anchor\" id=\"bookmark0\"></span>...   \n",
       "2     <p>by Yaakov Zik <span style=\"font-variant: sm...   \n",
       "\n",
       "                                                   text links italic  \\\n",
       "1568   Consider whether the meaning could be this: t...    []     []   \n",
       "1569  This interpretation is furthered by the observ...    []     []   \n",
       "0                                            Appendix B    []     []   \n",
       "1             On the Table of Oppositions in Chapter 15    []     []   \n",
       "2                                by Yaakov Zik Table i:    []     []   \n",
       "\n",
       "         chapter graphic table  \\\n",
       "1568          70      []    []   \n",
       "1569          70      []    []   \n",
       "0     appendix b      []    []   \n",
       "1     appendix b      []    []   \n",
       "2     appendix b      []    []   \n",
       "\n",
       "                                               marginal  \\\n",
       "1568  [ The words of the observation have their comm...   \n",
       "1569                                                 []   \n",
       "0                                                    []   \n",
       "1                                                    []   \n",
       "2                                                    []   \n",
       "\n",
       "                                              sentences  \\\n",
       "1568  [Consider whether the meaning could be this: t...   \n",
       "1569  [This interpretation is furthered by the obser...   \n",
       "0                                          [Appendix B]   \n",
       "1           [On the Table of Oppositions in Chapter 15]   \n",
       "2                              [by Yaakov Zik Table i:]   \n",
       "\n",
       "                                                 tagged  \n",
       "1568  [[(Consider, None), (whether, None), (the, Non...  \n",
       "1569  [[(This, None), (interpretation, None), (is, N...  \n",
       "0                       [[(Appendix, None), (B, None)]]  \n",
       "1     [[(On, None), (the, None), (Table, None), (of,...  \n",
       "2     [[(by, None), (Yaakov, None), (Zik, None), (Ta...  "
      ]
     },
     "execution_count": 9,
     "metadata": {},
     "output_type": "execute_result"
    }
   ],
   "source": [
    "dfAstroNova[1585:1590]"
   ]
  },
  {
   "cell_type": "code",
   "execution_count": 10,
   "metadata": {},
   "outputs": [
    {
     "data": {
      "text/html": [
       "<div>\n",
       "<style scoped>\n",
       "    .dataframe tbody tr th:only-of-type {\n",
       "        vertical-align: middle;\n",
       "    }\n",
       "\n",
       "    .dataframe tbody tr th {\n",
       "        vertical-align: top;\n",
       "    }\n",
       "\n",
       "    .dataframe thead th {\n",
       "        text-align: right;\n",
       "    }\n",
       "</style>\n",
       "<table border=\"1\" class=\"dataframe\">\n",
       "  <thead>\n",
       "    <tr style=\"text-align: right;\">\n",
       "      <th></th>\n",
       "      <th>html</th>\n",
       "      <th>text</th>\n",
       "      <th>links</th>\n",
       "      <th>italic</th>\n",
       "      <th>chapter</th>\n",
       "      <th>graphic</th>\n",
       "      <th>table</th>\n",
       "      <th>marginal</th>\n",
       "      <th>sentences</th>\n",
       "      <th>tagged</th>\n",
       "    </tr>\n",
       "  </thead>\n",
       "  <tbody>\n",
       "    <tr>\n",
       "      <th>13</th>\n",
       "      <td>&lt;p&gt;{table: appendix B t 2}&lt;/p&gt;</td>\n",
       "      <td></td>\n",
       "      <td>[]</td>\n",
       "      <td>[]</td>\n",
       "      <td>appendix b</td>\n",
       "      <td>[]</td>\n",
       "      <td>[ appendix B t 2]</td>\n",
       "      <td>[]</td>\n",
       "      <td>[]</td>\n",
       "      <td>[]</td>\n",
       "    </tr>\n",
       "    <tr>\n",
       "      <th>14</th>\n",
       "      <td>&lt;p&gt;Kepler's table, for comparison {table: appe...</td>\n",
       "      <td>Kepler's table, for comparison</td>\n",
       "      <td>[]</td>\n",
       "      <td>[]</td>\n",
       "      <td>appendix b</td>\n",
       "      <td>[]</td>\n",
       "      <td>[ appendix B t 3]</td>\n",
       "      <td>[]</td>\n",
       "      <td>[Kepler's table, for comparison]</td>\n",
       "      <td>[[(Kepler, None), (s, None), (table, None), (f...</td>\n",
       "    </tr>\n",
       "    <tr>\n",
       "      <th>15</th>\n",
       "      <td>&lt;p&gt;Mars from Earth to be a little greater than...</td>\n",
       "      <td>Mars from Earth to be a little greater than ha...</td>\n",
       "      <td>[{'#fn6': '\n",
       "Kepler's observations yield topoce...</td>\n",
       "      <td>[]</td>\n",
       "      <td>appendix b</td>\n",
       "      <td>[]</td>\n",
       "      <td>[]</td>\n",
       "      <td>[]</td>\n",
       "      <td>[Mars from Earth to be a little greater than h...</td>\n",
       "      <td>[[(Mars, None), (from, None), (Earth, None), (...</td>\n",
       "    </tr>\n",
       "    <tr>\n",
       "      <th>16</th>\n",
       "      <td>&lt;p&gt;&lt;img height=\"300\" src=\"media/image1.jpeg\" w...</td>\n",
       "      <td>As shown in Figure 2B, the Sun is assumed to ...</td>\n",
       "      <td>[]</td>\n",
       "      <td>[]</td>\n",
       "      <td>appendix b</td>\n",
       "      <td>[ appendix b gr 1]</td>\n",
       "      <td>[]</td>\n",
       "      <td>[]</td>\n",
       "      <td>[As shown in Figure 2B, the Sun is assumed to ...</td>\n",
       "      <td>[[(As, None), (shown, None), (in, None), (Figu...</td>\n",
       "    </tr>\n",
       "    <tr>\n",
       "      <th>17</th>\n",
       "      <td>&lt;p&gt;The Sun moved westward and its longitude de...</td>\n",
       "      <td>The Sun moved westward and its longitude decre...</td>\n",
       "      <td>[]</td>\n",
       "      <td>[4&lt;sup&gt;h&lt;/sup&gt; 23&lt;sup&gt;m &lt;/sup&gt;]</td>\n",
       "      <td>appendix b</td>\n",
       "      <td>[]</td>\n",
       "      <td>[]</td>\n",
       "      <td>[]</td>\n",
       "      <td>[The Sun moved westward and its longitude decr...</td>\n",
       "      <td>[[(The, None), (Sun, None), (moved, None), (we...</td>\n",
       "    </tr>\n",
       "  </tbody>\n",
       "</table>\n",
       "</div>"
      ],
      "text/plain": [
       "                                                 html  \\\n",
       "13                     <p>{table: appendix B t 2}</p>   \n",
       "14  <p>Kepler's table, for comparison {table: appe...   \n",
       "15  <p>Mars from Earth to be a little greater than...   \n",
       "16  <p><img height=\"300\" src=\"media/image1.jpeg\" w...   \n",
       "17  <p>The Sun moved westward and its longitude de...   \n",
       "\n",
       "                                                 text  \\\n",
       "13                                                      \n",
       "14                    Kepler's table, for comparison    \n",
       "15  Mars from Earth to be a little greater than ha...   \n",
       "16   As shown in Figure 2B, the Sun is assumed to ...   \n",
       "17  The Sun moved westward and its longitude decre...   \n",
       "\n",
       "                                                links  \\\n",
       "13                                                 []   \n",
       "14                                                 []   \n",
       "15  [{'#fn6': '\n",
       "Kepler's observations yield topoce...   \n",
       "16                                                 []   \n",
       "17                                                 []   \n",
       "\n",
       "                             italic     chapter             graphic  \\\n",
       "13                               []  appendix b                  []   \n",
       "14                               []  appendix b                  []   \n",
       "15                               []  appendix b                  []   \n",
       "16                               []  appendix b  [ appendix b gr 1]   \n",
       "17  [4<sup>h</sup> 23<sup>m </sup>]  appendix b                  []   \n",
       "\n",
       "                table marginal  \\\n",
       "13  [ appendix B t 2]       []   \n",
       "14  [ appendix B t 3]       []   \n",
       "15                 []       []   \n",
       "16                 []       []   \n",
       "17                 []       []   \n",
       "\n",
       "                                            sentences  \\\n",
       "13                                                 []   \n",
       "14                   [Kepler's table, for comparison]   \n",
       "15  [Mars from Earth to be a little greater than h...   \n",
       "16  [As shown in Figure 2B, the Sun is assumed to ...   \n",
       "17  [The Sun moved westward and its longitude decr...   \n",
       "\n",
       "                                               tagged  \n",
       "13                                                 []  \n",
       "14  [[(Kepler, None), (s, None), (table, None), (f...  \n",
       "15  [[(Mars, None), (from, None), (Earth, None), (...  \n",
       "16  [[(As, None), (shown, None), (in, None), (Figu...  \n",
       "17  [[(The, None), (Sun, None), (moved, None), (we...  "
      ]
     },
     "execution_count": 10,
     "metadata": {},
     "output_type": "execute_result"
    }
   ],
   "source": [
    "dfAstroNova.tail(5)"
   ]
  },
  {
   "cell_type": "markdown",
   "metadata": {},
   "source": [
    "## **Primary Data Exploration**"
   ]
  },
  {
   "cell_type": "code",
   "execution_count": 11,
   "metadata": {},
   "outputs": [
    {
     "data": {
      "text/plain": [
       "\"The time is measured from midnight; Gregorian dates are obtained by adding 10 days to Kepler's dates. The dates are given in old style.\""
      ]
     },
     "execution_count": 11,
     "metadata": {},
     "output_type": "execute_result"
    }
   ],
   "source": [
    "dfAstroNova[\"text\"][5]    # 5th row of the data in the format of text "
   ]
  },
  {
   "cell_type": "code",
   "execution_count": 12,
   "metadata": {},
   "outputs": [
    {
     "data": {
      "text/plain": [
       "[[('The', 'None'),\n",
       "  ('time', 'None'),\n",
       "  ('is', 'None'),\n",
       "  ('measured', 'None'),\n",
       "  ('from', 'None'),\n",
       "  ('midnight', 'None'),\n",
       "  ('Gregorian', 'None'),\n",
       "  ('dates', 'None'),\n",
       "  ('are', 'None'),\n",
       "  ('obtained', 'None'),\n",
       "  ('by', 'None'),\n",
       "  ('adding', 'None'),\n",
       "  ('10', 'NUM'),\n",
       "  ('days', 'None'),\n",
       "  ('to', 'None'),\n",
       "  ('Kepler', 'None'),\n",
       "  ('s', 'None'),\n",
       "  ('dates', 'None')],\n",
       " [('The', 'None'),\n",
       "  ('dates', 'None'),\n",
       "  ('are', 'None'),\n",
       "  ('given', 'None'),\n",
       "  ('in', 'None'),\n",
       "  ('old', 'None'),\n",
       "  ('style', 'None')]]"
      ]
     },
     "execution_count": 12,
     "metadata": {},
     "output_type": "execute_result"
    }
   ],
   "source": [
    "dfAstroNova[\"tagged\"][5] # 5th row of the data in a format (token, label). A list of lists of tuples! later position tags of the token will be added to each tuple. the tokens are chosen before by some rules."
   ]
  },
  {
   "cell_type": "code",
   "execution_count": 13,
   "metadata": {},
   "outputs": [],
   "source": [
    "df=dfAstroNova[dfAstroNova['chapter']==70]['tagged'].values"
   ]
  },
  {
   "cell_type": "code",
   "execution_count": 14,
   "metadata": {},
   "outputs": [
    {
     "data": {
      "text/plain": [
       "array([list([[('But', 'None'), ('this', 'None'), ('collusion', 'None'), ('of', 'None'), ('numbers', 'None'), ('is', 'None'), ('fortuitous', 'None')], [('For', 'None'), ('in', 'None'), ('the', 'None'), ('latitude', 'None'), ('of', 'None'), ('the', 'None'), ('Northernmost', 'None'), ('Star', 'None'), ('of', 'None'), ('the', 'None'), ('Brow', 'None'), ('Brahe', 'None'), ('and', 'None'), ('Ptolemy', 'None'), ('are', 'None'), ('in', 'None'), ('agreement', 'None'), ('the', 'None'), ('former', 'None'), ('pronouncing', 'None'), ('it', 'None'), ('to', 'None'), ('be', 'None'), (\"1° 46'\", 'COORD'), ('and', 'None'), ('the', 'None'), ('latter', 'None'), (\"1° 42'\", 'COORD')], [('In', 'None'), ('the', 'None'), ('latitude', 'None'), ('of', 'None'), ('the', 'None'), ('Bright', 'None'), ('one', 'None'), ('they', 'None'), ('differ', 'None')], [('Ptolemy', 'None'), ('has', 'None'), (\"1° 20'\", 'COORD'), ('Brahe', 'None'), (\"1° 5'\", 'COORD')], [('But', 'None'), ('the', 'None'), ('former', 'None'), ('numerical', 'None'), ('equality', 'None'), ('results', 'None'), ('from', 'None'), ('an', 'None'), ('error', 'None'), ('and', 'None'), ('the', 'None'), ('latter', 'None'), ('difference', 'None'), ('is', 'None'), ('really', 'None'), ('more', 'None'), ('like', 'None'), ('an', 'None'), ('agreement', 'None')], [('For', 'None'), ('the', 'None'), ('latitudes', 'None'), ('of', 'None'), ('the', 'None'), ('northern', 'None'), ('stars', 'None'), ('in', 'None'), ('Scorpius', 'None'), ('Sagittarius', 'None'), ('Capricorn', 'None'), ('and', 'None'), ('Aquarius', 'None'), ('are', 'None'), ('smaller', 'None'), ('today', 'None'), ('than', 'None'), ('they', 'None'), ('once', 'None'), ('were', 'None'), ('by', 'None'), ('about', 'None'), ('16\\' 20\"', 'ANG'), ('and', 'None'), ('those', 'None'), ('of', 'None'), ('the', 'None'), ('southern', 'None'), ('stars', 'None'), ('are', 'None'), ('greater', 'None'), ('by', 'None'), ('the', 'None'), ('same', 'None'), ('amount', 'None'), ('since', 'None'), ('the', 'None'), ('ecliptic', 'None'), ('has', 'None'), ('been', 'None'), ('transposed', 'None'), ('and', 'None'), ('the', 'None'), ('declinations', 'None'), ('of', 'None'), ('the', 'None'), ('degrees', 'None'), ('of', 'None'), ('the', 'None'), ('ecliptic', 'None'), ('have', 'None'), ('been', 'None'), ('altered', 'None'), ('by', 'None'), ('the', 'None'), ('same', 'None'), ('amount', 'None'), ('as', 'None'), ('Brahe', 'None'), ('proved', 'None'), ('and', 'None'), ('as', 'None'), ('we', 'None'), ('have', 'None'), ('said', 'None'), ('in', 'None'), ('Ch', 'None')], [('68', 'NUM')], [('Thus', 'None'), ('if', 'None'), ('it', 'None'), ('is', 'None'), ('true', 'None'), ('and', 'None'), ('it', 'None'), ('is', 'None'), ('very', 'None'), ('true', 'None'), ('that', 'None'), ('the', 'None'), ('latitude', 'None'), ('of', 'None'), ('the', 'None'), ('Bright', 'None'), ('Star', 'None'), ('in', 'None'), ('the', 'None'), ('Brow', 'None'), ('of', 'None'), ('Scorpius', 'None'), ('is', 'None'), (\"1° 5'\", 'COORD'), ('today', 'None'), ('at', 'None'), ('the', 'None'), ('time', 'None'), ('of', 'None'), ('Ptolemy', 'None'), ('and', 'None'), ('Hipparchus', 'None'), ('it', 'None'), ('was', 'None'), ('no', 'None'), ('less', 'None'), ('than', 'None'), (\"1° 20'\", 'COORD'), ('probably', 'None'), ('greater', 'None')], [('And', 'None'), ('so', 'None'), ('Mars', 'None'), ('has', 'None'), ('a', 'None'), ('smaller', 'None'), ('northern', 'None'), ('latitude', 'None'), ('than', 'None'), ('either', 'None'), ('of', 'None'), ('the', 'None'), ('stars', 'None'), ('mentioned', 'None'), ('and', 'None'), ('passed', 'None'), ('beneath', 'None'), ('both', 'None')], [('For', 'None'), ('it', 'None'), ('is', 'None'), ('certain', 'None'), ('that', 'None'), ('even', 'None'), ('if', 'None'), ('we', 'None'), ('are', 'None'), ('too', 'None'), ('high', 'None'), ('by', 'None'), ('a', 'None'), ('whole', 'None'), ('degree', 'None'), ('in', 'None'), ('the', 'None'), ('position', 'None'), ('of', 'None'), ('the', 'None'), ('node', 'None'), ('the', 'None'), ('latitude', 'None'), ('in', 'None'), ('the', 'None'), ('calculation', 'None'), ('was', 'None'), ('wrong', 'None'), ('by', 'None'), ('no', 'None'), ('more', 'None'), ('than', 'None'), ('three', 'None'), ('minutes', 'None')], [('Also', 'None'), ('it', 'None'), ('has', 'None'), ('now', 'None'), ('been', 'None'), ('shown', 'None'), ('in', 'None'), ('Ch', 'None')], [('64', 'NUM'), ('to', 'None'), ('be', 'None'), ('entirely', 'None'), ('uncertain', 'None'), ('whether', 'None'), ('the', 'None'), ('northern', 'None'), ('latitude', 'None'), ('for', 'None'), ('Mars', 'None'), ('was', 'None'), ('also', 'None'), ('once', 'None'), ('greater', 'None'), ('in', 'None'), ('the', 'None'), ('southern', 'None'), ('signs', 'None')], [('Therefore', 'None'), ('my', 'None'), ('clever', 'None'), ('interpretation', 'None'), ('of', 'None'), ('the', 'None'), ('word', 'None'), ('προστεθεικέναι', 'GEOM'), ('was', 'None'), ('in', 'None'), ('vain', 'None')], [('It', 'None'), ('can', 'None'), ('only', 'None'), ('be', 'None'), ('explained', 'None'), ('as', 'None'), ('denoting', 'None'), ('the', 'None'), ('stars', 'None'), ('being', 'None'), ('placed', 'None'), ('side', 'None'), ('by', 'None'), ('side', 'None'), ('in', 'None'), ('the', 'None'), ('same', 'None'), ('longitude', 'None'), ('and', 'None'), ('on', 'None'), ('this', 'None'), ('ground', 'None'), ('the', 'None'), ('one', 'None'), ('that', 'None'), ('I', 'None'), ('favor', 'None'), ('is', 'None'), ('just', 'None'), ('as', 'None'), ('good', 'None'), ('a', 'None'), ('candidate', 'None'), ('as', 'None'), ('the', 'None'), ('Bright', 'None'), ('its', 'None'), ('greater', 'None'), ('latitude', 'None'), ('notwithstanding', 'None')]]),\n",
       "       list([[('Chapter', 'None'), ('70', 'NUM')]]),\n",
       "       list([[('Consideration', 'None'), ('of', 'None'), ('the', 'None'), ('remaining', 'None'), ('two', 'None'), ('Ptolemaic', 'None'), ('observations', 'None'), ('in', 'None'), ('order', 'None'), ('to', 'None'), ('investigate', 'None'), ('the', 'None'), ('latitude', 'None'), ('and', 'None'), ('ratio', 'None'), ('of', 'None'), ('the', 'None'), ('orbs', 'None'), ('at', 'None'), ('the', 'None'), ('time', 'None'), ('of', 'None'), ('Ptolemy', 'None')]])],\n",
       "      dtype=object)"
      ]
     },
     "execution_count": 14,
     "metadata": {},
     "output_type": "execute_result"
    }
   ],
   "source": [
    "df[0:3]"
   ]
  },
  {
   "cell_type": "code",
   "execution_count": 15,
   "metadata": {},
   "outputs": [
    {
     "data": {
      "text/plain": [
       "104"
      ]
     },
     "execution_count": 15,
     "metadata": {},
     "output_type": "execute_result"
    }
   ],
   "source": [
    "df = sum(df, [])  # Flatt the data by removing first lists\n",
    "len(df)"
   ]
  },
  {
   "cell_type": "code",
   "execution_count": 16,
   "metadata": {},
   "outputs": [
    {
     "data": {
      "text/plain": [
       "[('For', 'None'),\n",
       " ('the', 'None'),\n",
       " ('latitudes', 'None'),\n",
       " ('of', 'None'),\n",
       " ('the', 'None'),\n",
       " ('northern', 'None'),\n",
       " ('stars', 'None'),\n",
       " ('in', 'None'),\n",
       " ('Scorpius', 'None'),\n",
       " ('Sagittarius', 'None'),\n",
       " ('Capricorn', 'None'),\n",
       " ('and', 'None'),\n",
       " ('Aquarius', 'None'),\n",
       " ('are', 'None'),\n",
       " ('smaller', 'None'),\n",
       " ('today', 'None'),\n",
       " ('than', 'None'),\n",
       " ('they', 'None'),\n",
       " ('once', 'None'),\n",
       " ('were', 'None'),\n",
       " ('by', 'None'),\n",
       " ('about', 'None'),\n",
       " ('16\\' 20\"', 'ANG'),\n",
       " ('and', 'None'),\n",
       " ('those', 'None'),\n",
       " ('of', 'None'),\n",
       " ('the', 'None'),\n",
       " ('southern', 'None'),\n",
       " ('stars', 'None'),\n",
       " ('are', 'None'),\n",
       " ('greater', 'None'),\n",
       " ('by', 'None'),\n",
       " ('the', 'None'),\n",
       " ('same', 'None'),\n",
       " ('amount', 'None'),\n",
       " ('since', 'None'),\n",
       " ('the', 'None'),\n",
       " ('ecliptic', 'None'),\n",
       " ('has', 'None'),\n",
       " ('been', 'None'),\n",
       " ('transposed', 'None'),\n",
       " ('and', 'None'),\n",
       " ('the', 'None'),\n",
       " ('declinations', 'None'),\n",
       " ('of', 'None'),\n",
       " ('the', 'None'),\n",
       " ('degrees', 'None'),\n",
       " ('of', 'None'),\n",
       " ('the', 'None'),\n",
       " ('ecliptic', 'None'),\n",
       " ('have', 'None'),\n",
       " ('been', 'None'),\n",
       " ('altered', 'None'),\n",
       " ('by', 'None'),\n",
       " ('the', 'None'),\n",
       " ('same', 'None'),\n",
       " ('amount', 'None'),\n",
       " ('as', 'None'),\n",
       " ('Brahe', 'None'),\n",
       " ('proved', 'None'),\n",
       " ('and', 'None'),\n",
       " ('as', 'None'),\n",
       " ('we', 'None'),\n",
       " ('have', 'None'),\n",
       " ('said', 'None'),\n",
       " ('in', 'None'),\n",
       " ('Ch', 'None')]"
      ]
     },
     "execution_count": 16,
     "metadata": {},
     "output_type": "execute_result"
    }
   ],
   "source": [
    "df[5]  "
   ]
  },
  {
   "cell_type": "code",
   "execution_count": 17,
   "metadata": {},
   "outputs": [],
   "source": [
    "df_flatten = sum(df,[])  # Flatt the data by removing the second list\n"
   ]
  },
  {
   "cell_type": "code",
   "execution_count": 18,
   "metadata": {},
   "outputs": [
    {
     "data": {
      "text/plain": [
       "[('But', 'None'),\n",
       " ('this', 'None'),\n",
       " ('collusion', 'None'),\n",
       " ('of', 'None'),\n",
       " ('numbers', 'None'),\n",
       " ('is', 'None'),\n",
       " ('fortuitous', 'None'),\n",
       " ('For', 'None'),\n",
       " ('in', 'None'),\n",
       " ('the', 'None'),\n",
       " ('latitude', 'None'),\n",
       " ('of', 'None'),\n",
       " ('the', 'None'),\n",
       " ('Northernmost', 'None'),\n",
       " ('Star', 'None'),\n",
       " ('of', 'None'),\n",
       " ('the', 'None'),\n",
       " ('Brow', 'None'),\n",
       " ('Brahe', 'None'),\n",
       " ('and', 'None')]"
      ]
     },
     "execution_count": 18,
     "metadata": {},
     "output_type": "execute_result"
    }
   ],
   "source": [
    "df_flatten[0:20]  # Here we have tokens (entities) with their labels"
   ]
  },
  {
   "cell_type": "code",
   "execution_count": 19,
   "metadata": {},
   "outputs": [
    {
     "data": {
      "text/plain": [
       "2146"
      ]
     },
     "execution_count": 19,
     "metadata": {},
     "output_type": "execute_result"
    }
   ],
   "source": [
    "len(df_flatten)  # Number of all tokens (roughly speaking all words or entities)"
   ]
  },
  {
   "cell_type": "code",
   "execution_count": 20,
   "metadata": {},
   "outputs": [],
   "source": [
    "\n",
    "tokens = [x[0] for x in df_flatten]  # Extract the tokens for further use in the frequency plot"
   ]
  },
  {
   "cell_type": "code",
   "execution_count": 21,
   "metadata": {},
   "outputs": [],
   "source": [
    "labels=([x[1] for x in df_flatten])  # Extract the labels for further use in the frequency plot"
   ]
  },
  {
   "cell_type": "code",
   "execution_count": 22,
   "metadata": {},
   "outputs": [
    {
     "data": {
      "text/plain": [
       "['But', 'this', 'collusion', 'of', 'numbers']"
      ]
     },
     "execution_count": 22,
     "metadata": {},
     "output_type": "execute_result"
    }
   ],
   "source": [
    "tokens[0:5]"
   ]
  },
  {
   "cell_type": "code",
   "execution_count": 23,
   "metadata": {},
   "outputs": [
    {
     "data": {
      "text/plain": [
       "['None', 'None', 'None', 'None', 'None']"
      ]
     },
     "execution_count": 23,
     "metadata": {},
     "output_type": "execute_result"
    }
   ],
   "source": [
    "labels[0:5]"
   ]
  },
  {
   "cell_type": "markdown",
   "metadata": {},
   "source": [
    "## **Visualization**"
   ]
  },
  {
   "cell_type": "markdown",
   "metadata": {},
   "source": [
    "### Frequency plot of all words in all chapter of book"
   ]
  },
  {
   "cell_type": "markdown",
   "metadata": {},
   "source": [
    "<font size=\"3\">\n",
    "Frequency plot of all tokens in text, as you see there is a lot 'the', 'of',... in text, they normally consider as noise, we will back to that later.\n",
    "<font/>"
   ]
  },
  {
   "cell_type": "code",
   "execution_count": 24,
   "metadata": {},
   "outputs": [
    {
     "data": {
      "image/png": "[encoded data removed]",
      "text/plain": [
       "<Figure size 1800x360 with 1 Axes>"
      ]
     },
     "metadata": {
      "needs_background": "light"
     },
     "output_type": "display_data"
    }
   ],
   "source": [
    "freqdist = nltk.FreqDist(tokens)\n",
    "plt.figure(figsize=(25,5))\n",
    "freqdist.plot(100, title='Frequency plot of words')\n"
   ]
  },
  {
   "cell_type": "code",
   "execution_count": 25,
   "metadata": {},
   "outputs": [],
   "source": [
    "stop_words=[\"the\", \"of\", \"is\", \"to\", \"and\",\"in\", \"be\", \"at\", \"that\", \"from\", \"it\", \"a\", \"as\",\"this\", \"was\" ] # we can consider these as stop words or we can use nltk stop words."
   ]
  },
  {
   "cell_type": "code",
   "execution_count": 26,
   "metadata": {},
   "outputs": [],
   "source": [
    "# nltk stop words\n",
    "from nltk.corpus import stopwords\n",
    "stop_words=set(stopwords.words('english'))\n",
    "stop_words=stop_words.union(['I', 'And', 'For', 'A', 'The'])\n",
    "#stop_words_nltk = set(stop_words)\n",
    "\n",
    "# List of nltk stop words {‘ourselves’, ‘hers’, ‘between’, ‘yourself’, ‘but’, ‘again’, ‘there’, ‘about’, ‘once’, ‘during’, ‘out’, ‘very’, ‘having’, ‘with’, ‘they’, ‘own’, ‘an’, ‘be’, ‘some’, ‘for’, ‘do’, ‘its’, ‘yours’, ‘such’, ‘into’, ‘of’, ‘most’, ‘itself’, ‘other’, ‘off’, ‘is’, ‘s’, ‘am’, ‘or’, ‘who’, ‘as’, ‘from’, ‘him’, ‘each’, ‘the’, ‘themselves’, ‘until’, ‘below’, ‘are’, ‘we’, ‘these’, ‘your’, ‘his’, ‘through’, ‘don’, ‘nor’, ‘me’, ‘were’, ‘her’, ‘more’, ‘himself’, ‘this’, ‘down’, ‘should’, ‘our’, ‘their’, ‘while’, ‘above’, ‘both’, ‘up’, ‘to’, ‘ours’, ‘had’, ‘she’, ‘all’, ‘no’, ‘when’, ‘at’, ‘any’, ‘before’, ‘them’, ‘same’, ‘and’, ‘been’, ‘have’, ‘in’, ‘will’, ‘on’, ‘does’, ‘yourselves’, ‘then’, ‘that’, ‘because’, ‘what’, ‘over’, ‘why’, ‘so’, ‘can’, ‘did’, ‘not’, ‘now’, ‘under’, ‘he’, ‘you’, ‘herself’, ‘has’, ‘just’, ‘where’, ‘too’, ‘only’, ‘myself’, ‘which’, ‘those’, ‘i’, ‘after’, ‘few’, ‘whom’, ‘t’, ‘being’, ‘if’, ‘theirs’, ‘my’, ‘against’, ‘a’, ‘by’, ‘doing’, ‘it’, ‘how’, ‘further’, ‘was’, ‘here’, ‘than’} \n"
   ]
  },
  {
   "cell_type": "markdown",
   "metadata": {},
   "source": [
    "<font size=\"3\">\n",
    "We can consider these words like 'the', 'of',... as noises. so we temporary remove those! \n",
    "<font/>"
   ]
  },
  {
   "cell_type": "code",
   "execution_count": 27,
   "metadata": {},
   "outputs": [],
   "source": [
    "new_tokens = []     \n",
    "for w in tokens:\n",
    "    if w not in stop_words: new_tokens.append(w)      "
   ]
  },
  {
   "cell_type": "markdown",
   "metadata": {},
   "source": [
    "### Frequency plot of all words in all chapter of book after removing the stop words"
   ]
  },
  {
   "cell_type": "markdown",
   "metadata": {},
   "source": [
    "<font size=\"3\">\n",
    "It shows word \"sun\" is most common word.  We can also see the word Mars, planet, eccentric as common words in the book \n",
    "<font/>"
   ]
  },
  {
   "cell_type": "code",
   "execution_count": 196,
   "metadata": {},
   "outputs": [
    {
     "data": {
      "image/png": "[encoded data removed]",
      "text/plain": [
       "<Figure size 1800x360 with 1 Axes>"
      ]
     },
     "metadata": {
      "needs_background": "light"
     },
     "output_type": "display_data"
    }
   ],
   "source": [
    "freqdist = nltk.FreqDist(new_tokens) \n",
    "plt.figure(figsize=(25,5)) \n",
    "freqdist.plot(100, title='Frequency plot of words after removing noise')"
   ]
  },
  {
   "cell_type": "markdown",
   "metadata": {},
   "source": [
    "<font size=\"4\">\n",
    "Do we need more insight than frequency plot of word for see content of the book? the question is answered by the follwoing cells through investigation of \"topic modelling\"\n",
    "<font/>"
   ]
  },
  {
   "cell_type": "markdown",
   "metadata": {},
   "source": [
    "## **Topic Modelling by LDA**"
   ]
  },
  {
   "cell_type": "markdown",
   "metadata": {},
   "source": [
    " Here you see an structured workflow to build an insightful \"topic model\" based on the Latent Dirichlet Allocation (LDA) algorithm,  modeled as Dirichlet distributions Dir(α).\n",
    " For more detail you can read: <p>\n",
    "http://www.jmlr.org/papers/volume3/blei03a/blei03a.pdf\n",
    "    </p>"
   ]
  },
  {
   "cell_type": "markdown",
   "metadata": {},
   "source": [
    "### **Pre-processing**"
   ]
  },
  {
   "cell_type": "markdown",
   "metadata": {},
   "source": [
    "<font size=\"3\">\n",
    "Since we alreay tokenized the text (split text into  word without punctuation) and removed stopwrods, we only need to **lemmatize** and **stemm** the tokens.\n",
    "<font/>"
   ]
  },
  {
   "cell_type": "code",
   "execution_count": 28,
   "metadata": {},
   "outputs": [],
   "source": [
    "mytext = nltk.Text(new_tokens) "
   ]
  },
  {
   "cell_type": "markdown",
   "metadata": {},
   "source": [
    "#### Lemmatization "
   ]
  },
  {
   "cell_type": "markdown",
   "metadata": {},
   "source": [
    "<font size=\"3\">\n",
    "Lemmatization, takes into consideration the morphological analysis of the words. For instance  \"do\", \"does\", \"did\" and \"doing\" are forms of the same lexeme with \"do\" as the lemma. Another example would be  \"car\", \"cars\", \"automobile\"\n",
    "<font/>"
   ]
  },
  {
   "cell_type": "code",
   "execution_count": 198,
   "metadata": {},
   "outputs": [],
   "source": [
    "#lemmatization\n",
    "w_lemmatize= WordNetLemmatizer()\n",
    "my_text_lemmatize = [w_lemmatize.lemmatize(word) for word in mytext]\n"
   ]
  },
  {
   "cell_type": "markdown",
   "metadata": {},
   "source": [
    "#### Stemming"
   ]
  },
  {
   "cell_type": "markdown",
   "metadata": {},
   "source": [
    "<font size=\"3\">\n",
    "Stemming algorithms work by cutting off the end or the beginning of the word, by taking into account a list of common prefixes and suffixes. It reduces words to their word stem or root form. For instance, stemming for root word \"like\" include:\"likes\", \"liked\", \"likely\", \"liking\n",
    "<font size=/>"
   ]
  },
  {
   "cell_type": "code",
   "execution_count": 199,
   "metadata": {},
   "outputs": [],
   "source": [
    "# stemming \n",
    "p_stemmers=PorterStemmer()  \n",
    "my_text_lemm_stemmer = [p_stemmers.stem(word) for word in my_text_lemmatize]"
   ]
  },
  {
   "cell_type": "code",
   "execution_count": 200,
   "metadata": {},
   "outputs": [],
   "source": [
    "my_text_lemm_stemmer=[my_text_lemm_stemmer] #make a list of list"
   ]
  },
  {
   "cell_type": "markdown",
   "metadata": {},
   "source": [
    "#### Select a document to preview after preprocessing."
   ]
  },
  {
   "cell_type": "code",
   "execution_count": null,
   "metadata": {},
   "outputs": [],
   "source": []
  },
  {
   "cell_type": "code",
   "execution_count": 201,
   "metadata": {},
   "outputs": [],
   "source": [
    "Dic=corpora.Dictionary(my_text_lemm_stemmer)"
   ]
  },
  {
   "cell_type": "markdown",
   "metadata": {},
   "source": [
    "### **Bag of Words on the Data set**"
   ]
  },
  {
   "cell_type": "markdown",
   "metadata": {},
   "source": [
    "<font size=\"4\">\n",
    "Our dictionary must be converted to \"bag of word\". Frequency of occurrence of each word is used as a feature for training a classifier. It means it should contain the number of times a word appears\n",
    "<font size>"
   ]
  },
  {
   "cell_type": "code",
   "execution_count": 202,
   "metadata": {},
   "outputs": [],
   "source": [
    "corpus = [Dic.doc2bow(text) for text in my_text_lemm_stemmer]"
   ]
  },
  {
   "cell_type": "markdown",
   "metadata": {},
   "source": [
    "#### Running LDA using Bag of Words**"
   ]
  },
  {
   "cell_type": "code",
   "execution_count": 203,
   "metadata": {},
   "outputs": [],
   "source": [
    "ldamodel =models.ldamodel.LdaModel(corpus, num_topics=3,  id2word = Dic, passes=3)"
   ]
  },
  {
   "cell_type": "code",
   "execution_count": 204,
   "metadata": {},
   "outputs": [],
   "source": [
    "lda_topics=ldamodel.print_topics()"
   ]
  },
  {
   "cell_type": "code",
   "execution_count": 205,
   "metadata": {},
   "outputs": [
    {
     "data": {
      "text/plain": [
       "[(0,\n",
       "  '0.010*\"observ\" + 0.007*\"mar\" + 0.006*\"star\" + 0.006*\"one\" + 0.005*\"northern\" + 0.005*\"differ\" + 0.005*\"cor\" + 0.005*\"latitud\" + 0.005*\"sun\" + 0.005*\"ratio\"'),\n",
       " (1,\n",
       "  '0.007*\"mar\" + 0.007*\"observ\" + 0.006*\"star\" + 0.005*\"northern\" + 0.005*\"one\" + 0.005*\"ptolemi\" + 0.005*\"brow\" + 0.004*\"differ\" + 0.004*\"sun\" + 0.004*\"latitud\"'),\n",
       " (2,\n",
       "  '0.022*\"star\" + 0.020*\"observ\" + 0.017*\"mar\" + 0.015*\"brow\" + 0.015*\"one\" + 0.013*\"latitud\" + 0.013*\"ptolemi\" + 0.013*\"northern\" + 0.012*\"cor\" + 0.012*\"differ\"')]"
      ]
     },
     "execution_count": 205,
     "metadata": {},
     "output_type": "execute_result"
    }
   ],
   "source": [
    "lda_topics"
   ]
  },
  {
   "cell_type": "code",
   "execution_count": 206,
   "metadata": {},
   "outputs": [],
   "source": [
    "import pyLDAvis.gensim\n",
    "import gensim\n",
    "pyLDAvis.enable_notebook()\n",
    "vis = pyLDAvis.gensim.prepare(ldamodel, corpus, Dic)"
   ]
  },
  {
   "cell_type": "markdown",
   "metadata": {},
   "source": [
    "# Topic modelling of chapter 04"
   ]
  },
  {
   "cell_type": "code",
   "execution_count": 153,
   "metadata": {},
   "outputs": [
    {
     "data": {
      "text/html": [
       "\n",
       "<link rel=\"stylesheet\" type=\"text/css\" href=\"https://cdn.rawgit.com/bmabey/pyLDAvis/files/ldavis.v1.0.0.css\">\n",
       "\n",
       "\n",
       "<div id=\"ldavis_el45617089532597286939131622\"></div>\n",
       "<script type=\"text/javascript\">\n",
       "\n",
       "var ldavis_el45617089532597286939131622_data = {\"mdsDat\": {\"x\": [0.01778380159254381, -0.008804937373796966, -0.008978864218746852], \"y\": [2.6570250271623965e-06, -0.0004088447236214489, 0.0004061876985943194], \"topics\": [1, 2, 3], \"cluster\": [1, 1, 1], \"Freq\": [99.94198608398438, 0.029017988592386246, 0.0290061142295599]}, \"tinfo\": {\"Category\": [\"Default\", \"Default\", \"Default\", \"Default\", \"Default\", \"Default\", \"Default\", \"Default\", \"Default\", \"Default\", \"Default\", \"Default\", \"Default\", \"Default\", \"Default\", \"Default\", \"Default\", \"Default\", \"Default\", \"Default\", \"Default\", \"Default\", \"Default\", \"Default\", \"Default\", \"Default\", \"Default\", \"Default\", \"Default\", \"Default\", \"Topic1\", \"Topic1\", \"Topic1\", \"Topic1\", \"Topic1\", \"Topic1\", \"Topic1\", \"Topic1\", \"Topic1\", \"Topic1\", \"Topic1\", \"Topic1\", \"Topic1\", \"Topic1\", \"Topic1\", \"Topic1\", \"Topic1\", \"Topic1\", \"Topic1\", \"Topic1\", \"Topic1\", \"Topic1\", \"Topic1\", \"Topic1\", \"Topic1\", \"Topic1\", \"Topic1\", \"Topic1\", \"Topic1\", \"Topic1\", \"Topic1\", \"Topic1\", \"Topic2\", \"Topic2\", \"Topic2\", \"Topic2\", \"Topic2\", \"Topic2\", \"Topic2\", \"Topic2\", \"Topic2\", \"Topic2\", \"Topic2\", \"Topic2\", \"Topic2\", \"Topic2\", \"Topic2\", \"Topic2\", \"Topic2\", \"Topic2\", \"Topic2\", \"Topic2\", \"Topic2\", \"Topic2\", \"Topic2\", \"Topic2\", \"Topic2\", \"Topic2\", \"Topic2\", \"Topic2\", \"Topic2\", \"Topic2\", \"Topic2\", \"Topic2\", \"Topic2\", \"Topic2\", \"Topic2\", \"Topic2\", \"Topic2\", \"Topic2\", \"Topic2\", \"Topic2\", \"Topic2\", \"Topic2\", \"Topic2\", \"Topic2\", \"Topic2\", \"Topic2\", \"Topic2\", \"Topic2\", \"Topic2\", \"Topic2\", \"Topic2\", \"Topic2\", \"Topic2\", \"Topic2\", \"Topic2\", \"Topic2\", \"Topic2\", \"Topic2\", \"Topic2\", \"Topic2\", \"Topic2\", \"Topic2\", \"Topic2\", \"Topic2\", \"Topic2\", \"Topic2\", \"Topic3\", \"Topic3\", \"Topic3\", \"Topic3\", \"Topic3\", \"Topic3\", \"Topic3\", \"Topic3\", \"Topic3\", \"Topic3\", \"Topic3\", \"Topic3\", \"Topic3\", \"Topic3\", \"Topic3\", \"Topic3\", \"Topic3\", \"Topic3\", \"Topic3\", \"Topic3\", \"Topic3\", \"Topic3\", \"Topic3\", \"Topic3\", \"Topic3\", \"Topic3\", \"Topic3\", \"Topic3\", \"Topic3\", \"Topic3\", \"Topic3\", \"Topic3\", \"Topic3\", \"Topic3\", \"Topic3\", \"Topic3\", \"Topic3\", \"Topic3\", \"Topic3\", \"Topic3\", \"Topic3\", \"Topic3\", \"Topic3\", \"Topic3\", \"Topic3\", \"Topic3\", \"Topic3\", \"Topic3\", \"Topic3\", \"Topic3\", \"Topic3\", \"Topic3\", \"Topic3\", \"Topic3\", \"Topic3\", \"Topic3\", \"Topic3\", \"Topic3\", \"Topic3\", \"Topic3\", \"Topic3\", \"Topic3\", \"Topic3\", \"Topic3\", \"Topic3\", \"Topic3\", \"Topic3\"], \"Freq\": [24.0, 22.0, 17.0, 13.0, 15.0, 17.0, 14.0, 12.0, 11.0, 11.0, 10.0, 9.0, 8.0, 8.0, 8.0, 9.0, 7.0, 8.0, 8.0, 8.0, 8.0, 7.0, 7.0, 7.0, 7.0, 6.0, 6.0, 6.0, 6.0, 6.0, 17.317516326904297, 22.276029586791992, 17.804611206054688, 14.266563415527344, 11.736512184143066, 24.273855209350586, 15.064798355102539, 12.518537521362305, 10.830755233764648, 11.595717430114746, 9.110223770141602, 9.935291290283203, 8.970967292785645, 8.1442232131958, 13.831990242004395, 8.935301780700684, 8.929104804992676, 6.48826789855957, 7.27341890335083, 8.08023452758789, 8.07348346710205, 7.264403820037842, 6.445756435394287, 5.63698673248291, 7.2464094161987305, 5.6287407875061035, 6.428182601928711, 8.032821655273438, 6.420310974121094, 7.21027135848999, 7.991551876068115, 6.351293563842773, 0.0006109829409979284, 0.0006099020829424262, 0.0006152728456072509, 0.0006070325616747141, 0.0006088859518058598, 0.0006091364193707705, 0.0006077738362364471, 0.0006041171145625412, 0.0006039038416929543, 0.0006047851638868451, 0.0006070564268156886, 0.0005999725544825196, 0.0006012173253111541, 0.0006033119861967862, 0.0006017368286848068, 0.0006027572089806199, 0.0006010608049109578, 0.0005911883781664073, 0.000593958015087992, 0.0006015448016114533, 0.0005959031404927373, 0.0005933775100857019, 0.000596497964579612, 0.0005995602696202695, 0.0005954034859314561, 0.0005950408522039652, 0.0005960077978670597, 0.0005965009913779795, 0.0005943660507909954, 0.0005905689322389662, 0.0005964630981907248, 0.0028938695322722197, 0.0027591162361204624, 0.0021857491228729486, 0.0018899744609370828, 0.0019061018247157335, 0.0012906104093417525, 0.0012015026295557618, 0.0015122294425964355, 0.001484968001022935, 0.0020149038173258305, 0.001978795975446701, 0.001172100193798542, 0.0013861372135579586, 0.0012418065452948213, 0.0013806663919240236, 0.0014345155796036124, 0.001364240888506174, 0.0016007014783099294, 0.0010652861092239618, 0.0017217559507116675, 0.0009704167023301125, 0.0012679103529080749, 0.0015307115390896797, 0.001125964685343206, 0.0011921834666281939, 0.0010443540522828698, 0.00146023731213063, 0.0010494299931451678, 0.0011017989600077271, 0.0012816762318834662, 0.0013638163218274713, 0.001168390503153205, 0.001253681373782456, 0.001255637384019792, 0.0011563589796423912, 0.0006184886442497373, 0.0006086104549467564, 0.0006094220443628728, 0.0006054324912838638, 0.0005982646835036576, 0.0006090219831094146, 0.0006082935142330825, 0.0006037717103026807, 0.0006015694234520197, 0.0006037207785993814, 0.0006034318939782679, 0.0006063629407435656, 0.0006017980631440878, 0.0006033559911884367, 0.0006021670415066183, 0.0005995602114126086, 0.0005999630666337907, 0.0005980277783237398, 0.0005985148018226027, 0.0005977482069283724, 0.0005956203094683588, 0.0006008040509186685, 0.0005988450138829648, 0.0005956323002465069, 0.0005897035007365048, 0.0005936801317147911, 0.0005947829922661185, 0.0005954707739874721, 0.0005963544826954603, 0.0005997314001433551, 0.000596179801505059, 0.003536481410264969, 0.0024559686426073313, 0.002302998909726739, 0.001992269419133663, 0.001756132929585874, 0.0011171599617227912, 0.0013661956181749701, 0.001416875864379108, 0.002239071298390627, 0.0013955130707472563, 0.00116323574911803, 0.0018063508905470371, 0.0013775081606581807, 0.001418455969542265, 0.0014590778155252337, 0.0013332802336663008, 0.0014971218770369887, 0.0012702717212960124, 0.0013585385167971253, 0.0012394333025440574, 0.0010392738040536642, 0.0011088899336755276, 0.0008572173537686467, 0.0014756578020751476, 0.0013276849640533328, 0.0014894005144014955, 0.0012082065222784877, 0.0010119350627064705, 0.0010153803741559386, 0.0010838882299140096, 0.0011453373590484262, 0.0012778335949406028, 0.0015946261119097471, 0.0011165039613842964, 0.0011235029669478536, 0.0011725008953362703], \"Term\": [\"planet\", \"let\", \"therefor\", \"eccentr\", \"angl\", \"equal\", \"epicycl\", \"hypothesi\", \"form\", \"differ\", \"copernicu\", \"orb\", \"equat\", \"copernican\", \"circl\", \"dce\", \"ptolema\", \"power\", \"radiu\", \"center\", \"point\", \"motion\", \"path\", \"ceb\", \"ptolemi\", \"two\", \"but\", \"first\", \"sine\", \"cbe\", \"equal\", \"let\", \"therefor\", \"epicycl\", \"differ\", \"planet\", \"angl\", \"hypothesi\", \"copernicu\", \"form\", \"dce\", \"orb\", \"circl\", \"point\", \"eccentr\", \"copernican\", \"equat\", \"equant\", \"ptolemi\", \"center\", \"radiu\", \"ceb\", \"sinc\", \"arc\", \"path\", \"follow\", \"cbe\", \"power\", \"sine\", \"motion\", \"ptolema\", \"first\", \"creat\", \"hand\", \"undertook\", \"99,713\", \"ecf\", \"112,600\", \"inasmuch\", \"\\u03bf\", \"lower\", \"opinion\", \"manner\", \"diagram\", \"ecd\", \"movement\", \"prevent\", \"85\\u00b0 39' 52\\\"\", \"grant\", \"246\", \"act\", \"29,732\", \"comprehens\", \"event\", \"connect\", \"higher\", \"farthest\", \"speed\", \"scope\", \"celesti\", \"gener\", \"explain\", \"bisect\", \"planet\", \"let\", \"angl\", \"hypothesi\", \"eccentr\", \"two\", \"physic\", \"circl\", \"copernican\", \"therefor\", \"equal\", \"slow\", \"power\", \"first\", \"point\", \"equat\", \"ptolema\", \"differ\", \"equival\", \"epicycl\", \"CB\", \"motion\", \"form\", \"greater\", \"but\", \"tycho\", \"copernicu\", \"subtract\", \"demonstr\", \"radiu\", \"orb\", \"cbe\", \"center\", \"dce\", \"ceb\", \"certainli\", \"246\", \"exterior\", \"touch\", \"creat\", \"increas\", \"16\\u00b0 33' 30\\\"\", \"66,931\", \"meet\", \"AI\", \"thing\", \"20\\u00b0 57' 34\\\"\", \"pass\", \"41\\u00b0 55' 8\\\"\", \"small\", \"\\u03b4\\u03b7\", \"\\u03bf\\u03bd\\u03bb\", \"nevertheless\", \"segment\", \"sum\", \"act\", \"20,103\", \"must\", \"outdon\", \"hand\", \"event\", \"3780\", \"poss\", \"practic\", \"87,400\", \"percept\", \"planet\", \"eccentr\", \"therefor\", \"epicycl\", \"form\", \"thi\", \"path\", \"ptolema\", \"let\", \"center\", \"demonstr\", \"angl\", \"radiu\", \"equat\", \"orb\", \"power\", \"copernicu\", \"ptolemi\", \"copernican\", \"ceb\", \"\\u03b1\\u03b2\", \"BA\", \"perige\", \"differ\", \"dce\", \"hypothesi\", \"motion\", \"equival\", \"distanc\", \"also\", \"sine\", \"circl\", \"equal\", \"two\", \"equant\", \"point\"], \"Total\": [24.0, 22.0, 17.0, 13.0, 15.0, 17.0, 14.0, 12.0, 11.0, 11.0, 10.0, 9.0, 8.0, 8.0, 8.0, 9.0, 7.0, 8.0, 8.0, 8.0, 8.0, 7.0, 7.0, 7.0, 7.0, 6.0, 6.0, 6.0, 6.0, 6.0, 17.321088790893555, 22.281028747558594, 17.808927536010742, 14.27027702331543, 11.739587783813477, 24.280284881591797, 15.068790435791016, 12.521917343139648, 10.833712577819824, 11.599003791809082, 9.112807273864746, 9.938114166259766, 8.97375774383545, 8.14677619934082, 13.836352348327637, 8.938145637512207, 8.931957244873047, 6.49035120010376, 7.275801658630371, 8.082883834838867, 8.076142311096191, 7.266799449920654, 6.447902679443359, 5.638869762420654, 7.248832702636719, 5.630635738372803, 6.430355072021484, 8.035540580749512, 6.4224958419799805, 7.212747573852539, 7.994332790374756, 6.353580474853516, 1.160987138748169, 1.1674542427062988, 1.1807396411895752, 1.1714586019515991, 1.180395245552063, 1.1844996213912964, 1.1820212602615356, 1.1755266189575195, 1.1809978485107422, 1.1846237182617188, 1.1911554336547852, 1.1780647039413452, 1.1810686588287354, 1.1859968900680542, 1.1829596757888794, 1.1856032609939575, 1.182415246963501, 1.167379379272461, 1.1742212772369385, 1.1893361806869507, 1.1805673837661743, 1.1759051084518433, 1.1830077171325684, 1.1900124549865723, 1.1820794343948364, 1.1831574440002441, 1.1852587461471558, 1.186517596244812, 1.1833202838897705, 1.1790906190872192, 1.190995454788208, 24.280284881591797, 22.281028747558594, 15.068790435791016, 12.521917343139648, 13.836352348327637, 6.2729716300964355, 5.401665210723877, 8.97375774383545, 8.938145637512207, 17.808927536010742, 17.321088790893555, 5.424671173095703, 8.035540580749512, 6.353580474853516, 8.14677619934082, 8.931957244873047, 7.994332790374756, 11.739587783813477, 4.522586822509766, 14.27027702331543, 3.7456564903259277, 7.212747573852539, 11.599003791809082, 5.468993186950684, 6.341859340667725, 4.561161041259766, 10.833712577819824, 4.660305976867676, 5.3827033042907715, 8.076142311096191, 9.938114166259766, 6.430355072021484, 8.082883834838867, 9.112807273864746, 7.266799449920654, 1.1681067943572998, 1.167379379272461, 1.1779149770736694, 1.174851417541504, 1.160987138748169, 1.1830166578292847, 1.1834763288497925, 1.1783866882324219, 1.1757793426513672, 1.1823770999908447, 1.1836771965026855, 1.1896162033081055, 1.1819876432418823, 1.185302972793579, 1.1846483945846558, 1.1803338527679443, 1.1817904710769653, 1.1781996488571167, 1.1793609857559204, 1.1783666610717773, 1.1742212772369385, 1.186511516571045, 1.1834040880203247, 1.178132176399231, 1.1674542427062988, 1.1759051084518433, 1.1799161434173584, 1.1816413402557373, 1.1842504739761353, 1.1917113065719604, 1.185084581375122, 24.280284881591797, 13.836352348327637, 17.808927536010742, 14.27027702331543, 11.599003791809082, 4.601780414581299, 7.248832702636719, 7.994332790374756, 22.281028747558594, 8.082883834838867, 5.3827033042907715, 15.068790435791016, 8.076142311096191, 8.931957244873047, 9.938114166259766, 8.035540580749512, 10.833712577819824, 7.275801658630371, 8.938145637512207, 7.266799449920654, 4.65871000289917, 5.502242565155029, 2.8713502883911133, 11.739587783813477, 9.112807273864746, 12.521917343139648, 7.212747573852539, 4.522586822509766, 4.578234672546387, 5.482757568359375, 6.4224958419799805, 8.97375774383545, 17.321088790893555, 6.2729716300964355, 6.49035120010376, 8.14677619934082], \"loglift\": [30.0, 29.0, 28.0, 27.0, 26.0, 25.0, 24.0, 23.0, 22.0, 21.0, 20.0, 19.0, 18.0, 17.0, 16.0, 15.0, 14.0, 13.0, 12.0, 11.0, 10.0, 9.0, 8.0, 7.0, 6.0, 5.0, 4.0, 3.0, 2.0, 1.0, 0.00039999998989515007, 0.00039999998989515007, 0.0003000000142492354, 0.0003000000142492354, 0.0003000000142492354, 0.0003000000142492354, 0.0003000000142492354, 0.0003000000142492354, 0.0003000000142492354, 0.0003000000142492354, 0.0003000000142492354, 0.0003000000142492354, 0.0003000000142492354, 0.0003000000142492354, 0.0003000000142492354, 0.0003000000142492354, 0.0003000000142492354, 0.0003000000142492354, 0.0003000000142492354, 0.0003000000142492354, 0.0003000000142492354, 0.0003000000142492354, 0.00019999999494757503, 0.00019999999494757503, 0.00019999999494757503, 0.00019999999494757503, 0.00019999999494757503, 0.00019999999494757503, 0.00019999999494757503, 0.00019999999494757503, 0.00019999999494757503, 0.00019999999494757503, 0.595300018787384, 0.5879999995231628, 0.5853999853134155, 0.579800009727478, 0.5752999782562256, 0.5722000002861023, 0.5720999836921692, 0.5716000199317932, 0.5666000247001648, 0.5648999810218811, 0.5631999969482422, 0.5625, 0.5619999766349792, 0.5612999796867371, 0.5612999796867371, 0.5608000159263611, 0.5605999827384949, 0.5569000244140625, 0.5557000041007996, 0.5555999875068665, 0.553600013256073, 0.5533000230789185, 0.5525000095367432, 0.5516999959945679, 0.5515000224113464, 0.5498999953269958, 0.5497999787330627, 0.5496000051498413, 0.5486999750137329, 0.545799970626831, 0.5457000136375427, -0.8898000121116638, -0.8515999913215637, -0.6934000253677368, -0.6536999940872192, -0.7450000047683716, -0.34389999508857727, -0.26589998602867126, -0.5435000061988831, -0.557699978351593, -0.9419000148773193, -0.932200014591217, -0.29490000009536743, -0.5200999975204468, -0.3952000141143799, -0.5378000140190125, -0.5916000008583069, -0.5309000015258789, -0.755299985408783, -0.2085999995470047, -0.8776000142097473, -0.11339999735355377, -0.5012000203132629, -0.7878999710083008, -0.3431999981403351, -0.4341000020503998, -0.23690000176429749, -0.7667999863624573, -0.25360000133514404, -0.3490000069141388, -0.6035000085830688, -0.7487999796867371, -0.46810001134872437, -0.6263999938964844, -0.7447999715805054, -0.6007999777793884, 0.6018000245094299, 0.5863000154495239, 0.5787000060081482, 0.5746999979019165, 0.5746999979019165, 0.5737000107765198, 0.5720999836921692, 0.5690000057220459, 0.5674999952316284, 0.565500020980835, 0.5638999938964844, 0.5637999773025513, 0.5626000165939331, 0.5623999834060669, 0.5609999895095825, 0.5602999925613403, 0.5597000122070312, 0.5595999956130981, 0.5594000220298767, 0.558899998664856, 0.558899998664856, 0.557200014591217, 0.5565000176429749, 0.5555999875068665, 0.5547000169754028, 0.5541999936103821, 0.5526999831199646, 0.5523999929428101, 0.5515999794006348, 0.5509999990463257, 0.550599992275238, -0.6888999938964844, -0.491100013256073, -0.8077999949455261, -0.7311999797821045, -0.6500999927520752, -0.17800000309944153, -0.4311000108718872, -0.4925999939441681, -1.059999942779541, -0.5188000202178955, -0.29429998993873596, -0.8837000131607056, -0.531000018119812, -0.602400004863739, -0.680899977684021, -0.5586000084877014, -0.7415000200271606, -0.5077000260353088, -0.6463000178337097, -0.531000018119812, -0.26260000467300415, -0.36410000920295715, 0.02879999950528145, -0.8361999988555908, -0.6886000037193298, -0.8913999795913696, -0.5490000247955322, -0.2596000134944916, -0.26840001344680786, -0.38339999318122864, -0.4864000082015991, -0.7114999890327454, -1.1476000547409058, -0.48840001225471497, -0.5162000060081482, -0.7008000016212463], \"logprob\": [30.0, 29.0, 28.0, 27.0, 26.0, 25.0, 24.0, 23.0, 22.0, 21.0, 20.0, 19.0, 18.0, 17.0, 16.0, 15.0, 14.0, 13.0, 12.0, 11.0, 10.0, 9.0, 8.0, 7.0, 6.0, 5.0, 4.0, 3.0, 2.0, 1.0, -4.248600006103516, -3.996799945831299, -4.220799922943115, -4.442399978637695, -4.637599945068359, -3.910900115966797, -4.387899875640869, -4.5731000900268555, -4.717899799346924, -4.649600028991699, -4.890900135040283, -4.804200172424316, -4.906300067901611, -5.002999782562256, -4.473299980163574, -4.910299777984619, -4.910999774932861, -5.230299949645996, -5.116000175476074, -5.010900020599365, -5.01170015335083, -5.117300033569336, -5.236800193786621, -5.3709001541137695, -5.119800090789795, -5.372399806976318, -5.23960018157959, -5.01669979095459, -5.240799903869629, -5.124800205230713, -5.021900177001953, -5.2515997886657715, -6.356299877166748, -6.358099937438965, -6.349299907684326, -6.362800121307373, -6.3597002029418945, -6.359300136566162, -6.361599922180176, -6.367599964141846, -6.3678998947143555, -6.366499900817871, -6.36269998550415, -6.374499797821045, -6.372399806976318, -6.368899822235107, -6.371500015258789, -6.369800090789795, -6.372700214385986, -6.389200210571289, -6.384500026702881, -6.3719000816345215, -6.38129997253418, -6.385499954223633, -6.380300045013428, -6.375199794769287, -6.3821001052856445, -6.382699966430664, -6.381100177764893, -6.380300045013428, -6.383900165557861, -6.3902997970581055, -6.380300045013428, -4.801000118255615, -4.848700046539307, -5.081600189208984, -5.2270002365112305, -5.218500137329102, -5.608500003814697, -5.679999828338623, -5.449999809265137, -5.468200206756592, -5.163000106811523, -5.181099891662598, -5.704800128936768, -5.537099838256836, -5.646999835968018, -5.540999889373779, -5.502799987792969, -5.552999973297119, -5.393199920654297, -5.8003997802734375, -5.320300102233887, -5.893599987030029, -5.626200199127197, -5.437900066375732, -5.744999885559082, -5.68779993057251, -5.820199966430664, -5.485000133514404, -5.815400123596191, -5.76669979095459, -5.6153998374938965, -5.553299903869629, -5.708000183105469, -5.637499809265137, -5.636000156402588, -5.718299865722656, -6.343699932098389, -6.359799861907959, -6.358399868011475, -6.364999771118164, -6.3769001960754395, -6.359099864959717, -6.360300064086914, -6.367700099945068, -6.371399879455566, -6.367800235748291, -6.368299961090088, -6.363500118255615, -6.370999813079834, -6.3684000968933105, -6.3703999519348145, -6.37470006942749, -6.374100208282471, -6.377299785614014, -6.376500129699707, -6.377799987792969, -6.38129997253418, -6.372700214385986, -6.375899791717529, -6.38129997253418, -6.391300201416016, -6.3846001625061035, -6.382699966430664, -6.3815999031066895, -6.380099773406982, -6.374499797821045, -6.38040018081665, -4.600100040435791, -4.964700222015381, -5.0289998054504395, -5.173900127410889, -5.300099849700928, -5.752399921417236, -5.551199913024902, -5.514699935913086, -5.05709981918335, -5.529900074005127, -5.711999893188477, -5.271900177001953, -5.542900085449219, -5.513599872589111, -5.485400199890137, -5.575500011444092, -5.45959997177124, -5.624000072479248, -5.55679988861084, -5.648499965667725, -5.824699878692627, -5.759799957275391, -6.017300128936768, -5.474100112915039, -5.579800128936768, -5.464799880981445, -5.674099922180176, -5.85129976272583, -5.847899913787842, -5.782599925994873, -5.727499961853027, -5.618000030517578, -5.396500110626221, -5.752999782562256, -5.746699810028076, -5.703999996185303]}, \"token.table\": {\"Topic\": [1, 1, 1, 1, 1, 1, 1, 1, 1, 1, 1, 1, 1, 1, 1, 1, 1, 1, 1, 1, 1, 1, 1, 1, 1, 1, 1, 1, 1, 1, 1, 1, 1, 1, 1, 1, 1, 1, 1, 1, 1, 1, 1, 1, 1, 1, 1, 1, 1, 1, 1, 1, 1, 1, 1, 1, 1, 1, 1, 1, 1, 1, 1, 1, 1, 1, 1, 1, 1, 1, 1, 1, 1, 1, 1, 1, 1, 1, 1, 1, 1, 1, 1, 1, 1, 1, 1, 1, 1, 1, 1, 1, 1, 1, 1, 1, 1, 1, 1, 1, 1, 1, 1, 1, 1], \"Freq\": [0.8442383408546448, 0.844968318939209, 0.8428068161010742, 0.840607225894928, 0.8566195368766785, 0.840805172920227, 0.8475178480148315, 0.843666136264801, 0.8486178517341614, 0.8434524536132812, 0.8391293883323669, 0.8536366820335388, 0.8457538485527039, 1.090464472770691, 1.0679036378860474, 0.8516282439231873, 0.911949872970581, 0.9954348802566528, 1.0640430450439453, 0.8396337628364563, 0.9460947513580322, 0.9330744743347168, 0.9632851481437683, 0.8428025245666504, 0.9897457361221313, 0.8560861349105835, 1.0029243230819702, 0.8470503091812134, 0.8453029990196228, 1.0069202184677124, 1.01534903049469, 0.8613359928131104, 0.987621009349823, 0.9289012551307678, 0.8488498330116272, 1.0221823453903198, 1.0921239852905273, 1.0118273496627808, 0.846690833568573, 0.8471738696098328, 0.9810601472854614, 0.9814625382423401, 0.9244492053985596, 1.0076179504394531, 1.1055619716644287, 0.8504087328910828, 0.8481112122535706, 0.8489577174186707, 0.8459668159484863, 0.9443494081497192, 1.0655990839004517, 1.034571647644043, 0.8450797200202942, 0.8457265496253967, 0.914245069026947, 0.8565646409988403, 0.8403273224830627, 1.038179636001587, 0.8460084795951843, 0.8452966213226318, 0.9873870611190796, 0.8467416167259216, 0.8395209908485413, 0.85049968957901, 0.9705039262771606, 0.843172550201416, 0.8450198769569397, 0.8487525582313538, 0.8441498875617981, 1.0062271356582642, 0.8488011956214905, 0.8460325598716736, 0.9656727313995361, 0.84382164478302, 1.044804573059082, 0.9256404638290405, 0.9884562492370605, 0.9819835424423218, 0.8462804555892944, 0.9955770969390869, 0.8444159626960754, 0.8453373312950134, 1.0007089376449585, 0.9620932936668396, 0.990571916103363, 0.8436976075172424, 0.8479167819023132, 0.9305351376533508, 0.9342162609100342, 0.9217148423194885, 0.8441323041915894, 0.8451960682868958, 1.0728908777236938, 0.848632276058197, 1.0107290744781494, 1.086535930633545, 0.8448249101638794, 0.8511714339256287, 0.9564844965934753, 1.0962121486663818, 0.846926748752594, 1.0732585191726685, 0.8472179174423218, 0.8506825566291809, 0.8461737036705017], \"Term\": [\"112,600\", \"16\\u00b0 33' 30\\\"\", \"20,103\", \"20\\u00b0 57' 34\\\"\", \"246\", \"29,732\", \"3780\", \"41\\u00b0 55' 8\\\"\", \"66,931\", \"85\\u00b0 39' 52\\\"\", \"87,400\", \"99,713\", \"AI\", \"BA\", \"CB\", \"act\", \"also\", \"angl\", \"arc\", \"bisect\", \"but\", \"cbe\", \"ceb\", \"celesti\", \"center\", \"certainli\", \"circl\", \"comprehens\", \"connect\", \"copernican\", \"copernicu\", \"creat\", \"dce\", \"demonstr\", \"diagram\", \"differ\", \"distanc\", \"eccentr\", \"ecd\", \"ecf\", \"epicycl\", \"equal\", \"equant\", \"equat\", \"equival\", \"event\", \"explain\", \"exterior\", \"farthest\", \"first\", \"follow\", \"form\", \"gener\", \"grant\", \"greater\", \"hand\", \"higher\", \"hypothesi\", \"inasmuch\", \"increas\", \"let\", \"lower\", \"manner\", \"meet\", \"motion\", \"movement\", \"must\", \"nevertheless\", \"opinion\", \"orb\", \"outdon\", \"pass\", \"path\", \"percept\", \"perige\", \"physic\", \"planet\", \"point\", \"poss\", \"power\", \"practic\", \"prevent\", \"ptolema\", \"ptolemi\", \"radiu\", \"scope\", \"segment\", \"sinc\", \"sine\", \"slow\", \"small\", \"speed\", \"subtract\", \"sum\", \"therefor\", \"thi\", \"thing\", \"touch\", \"two\", \"tycho\", \"undertook\", \"\\u03b1\\u03b2\", \"\\u03b4\\u03b7\", \"\\u03bf\", \"\\u03bf\\u03bd\\u03bb\"]}, \"R\": 30, \"lambda.step\": 0.01, \"plot.opts\": {\"xlab\": \"PC1\", \"ylab\": \"PC2\"}, \"topic.order\": [2, 1, 3]};\n",
       "\n",
       "function LDAvis_load_lib(url, callback){\n",
       "  var s = document.createElement('script');\n",
       "  s.src = url;\n",
       "  s.async = true;\n",
       "  s.onreadystatechange = s.onload = callback;\n",
       "  s.onerror = function(){console.warn(\"failed to load library \" + url);};\n",
       "  document.getElementsByTagName(\"head\")[0].appendChild(s);\n",
       "}\n",
       "\n",
       "if(typeof(LDAvis) !== \"undefined\"){\n",
       "   // already loaded: just create the visualization\n",
       "   !function(LDAvis){\n",
       "       new LDAvis(\"#\" + \"ldavis_el45617089532597286939131622\", ldavis_el45617089532597286939131622_data);\n",
       "   }(LDAvis);\n",
       "}else if(typeof define === \"function\" && define.amd){\n",
       "   // require.js is available: use it to load d3/LDAvis\n",
       "   require.config({paths: {d3: \"https://cdnjs.cloudflare.com/ajax/libs/d3/3.5.5/d3.min\"}});\n",
       "   require([\"d3\"], function(d3){\n",
       "      window.d3 = d3;\n",
       "      LDAvis_load_lib(\"https://cdn.rawgit.com/bmabey/pyLDAvis/files/ldavis.v1.0.0.js\", function(){\n",
       "        new LDAvis(\"#\" + \"ldavis_el45617089532597286939131622\", ldavis_el45617089532597286939131622_data);\n",
       "      });\n",
       "    });\n",
       "}else{\n",
       "    // require.js not available: dynamically load d3 & LDAvis\n",
       "    LDAvis_load_lib(\"https://cdnjs.cloudflare.com/ajax/libs/d3/3.5.5/d3.min.js\", function(){\n",
       "         LDAvis_load_lib(\"https://cdn.rawgit.com/bmabey/pyLDAvis/files/ldavis.v1.0.0.js\", function(){\n",
       "                 new LDAvis(\"#\" + \"ldavis_el45617089532597286939131622\", ldavis_el45617089532597286939131622_data);\n",
       "            })\n",
       "         });\n",
       "}\n",
       "</script>"
      ],
      "text/plain": [
       "PreparedData(topic_coordinates=              x         y  topics  cluster       Freq\n",
       "topic                                                \n",
       "1      0.017784  0.000003       1        1  99.941986\n",
       "0     -0.008805 -0.000409       2        1   0.029018\n",
       "2     -0.008979  0.000406       3        1   0.029006, topic_info=     Category       Freq        Term      Total  loglift  logprob\n",
       "term                                                             \n",
       "327   Default  24.000000      planet  24.000000  30.0000  30.0000\n",
       "265   Default  22.000000         let  22.000000  29.0000  29.0000\n",
       "410   Default  17.000000    therefor  17.000000  28.0000  28.0000\n",
       "185   Default  13.000000     eccentr  13.000000  27.0000  27.0000\n",
       "95    Default  15.000000        angl  15.000000  26.0000  26.0000\n",
       "195   Default  17.000000       equal  17.000000  25.0000  25.0000\n",
       "194   Default  14.000000     epicycl  14.000000  24.0000  24.0000\n",
       "241   Default  12.000000   hypothesi  12.000000  23.0000  23.0000\n",
       "218   Default  11.000000        form  11.000000  22.0000  22.0000\n",
       "169   Default  11.000000      differ  11.000000  21.0000  21.0000\n",
       "156   Default  10.000000   copernicu  10.000000  20.0000  20.0000\n",
       "308   Default   9.000000         orb   9.000000  19.0000  19.0000\n",
       "197   Default   8.000000       equat   8.000000  18.0000  18.0000\n",
       "155   Default   8.000000  copernican   8.000000  17.0000  17.0000\n",
       "137   Default   8.000000       circl   8.000000  16.0000  16.0000\n",
       "161   Default   9.000000         dce   9.000000  15.0000  15.0000\n",
       "344   Default   7.000000     ptolema   7.000000  14.0000  14.0000\n",
       "332   Default   8.000000       power   8.000000  13.0000  13.0000\n",
       "347   Default   8.000000       radiu   8.000000  12.0000  12.0000\n",
       "130   Default   8.000000      center   8.000000  11.0000  11.0000\n",
       "329   Default   8.000000       point   8.000000  10.0000  10.0000\n",
       "285   Default   7.000000      motion   7.000000   9.0000   9.0000\n",
       "318   Default   7.000000        path   7.000000   8.0000   8.0000\n",
       "128   Default   7.000000         ceb   7.000000   7.0000   7.0000\n",
       "345   Default   7.000000     ptolemi   7.000000   6.0000   6.0000\n",
       "434   Default   6.000000         two   6.000000   5.0000   5.0000\n",
       "121   Default   6.000000         but   6.000000   4.0000   4.0000\n",
       "216   Default   6.000000       first   6.000000   3.0000   3.0000\n",
       "380   Default   6.000000        sine   6.000000   2.0000   2.0000\n",
       "126   Default   6.000000         cbe   6.000000   1.0000   1.0000\n",
       "...       ...        ...         ...        ...      ...      ...\n",
       "318    Topic3   0.001366        path   7.248833  -0.4311  -5.5512\n",
       "344    Topic3   0.001417     ptolema   7.994333  -0.4926  -5.5147\n",
       "265    Topic3   0.002239         let  22.281029  -1.0600  -5.0571\n",
       "130    Topic3   0.001396      center   8.082884  -0.5188  -5.5299\n",
       "164    Topic3   0.001163    demonstr   5.382703  -0.2943  -5.7120\n",
       "95     Topic3   0.001806        angl  15.068790  -0.8837  -5.2719\n",
       "347    Topic3   0.001378       radiu   8.076142  -0.5310  -5.5429\n",
       "197    Topic3   0.001418       equat   8.931957  -0.6024  -5.5136\n",
       "308    Topic3   0.001459         orb   9.938114  -0.6809  -5.4854\n",
       "332    Topic3   0.001333       power   8.035541  -0.5586  -5.5755\n",
       "156    Topic3   0.001497   copernicu  10.833713  -0.7415  -5.4596\n",
       "345    Topic3   0.001270     ptolemi   7.275802  -0.5077  -5.6240\n",
       "155    Topic3   0.001359  copernican   8.938146  -0.6463  -5.5568\n",
       "128    Topic3   0.001239         ceb   7.266799  -0.5310  -5.6485\n",
       "454    Topic3   0.001039          αβ   4.658710  -0.2626  -5.8247\n",
       "50     Topic3   0.001109          BA   5.502243  -0.3641  -5.7598\n",
       "324    Topic3   0.000857      perige   2.871350   0.0288  -6.0173\n",
       "169    Topic3   0.001476      differ  11.739588  -0.8362  -5.4741\n",
       "161    Topic3   0.001328         dce   9.112807  -0.6886  -5.5798\n",
       "241    Topic3   0.001489   hypothesi  12.521917  -0.8914  -5.4648\n",
       "285    Topic3   0.001208      motion   7.212748  -0.5490  -5.6741\n",
       "198    Topic3   0.001012     equival   4.522587  -0.2596  -5.8513\n",
       "171    Topic3   0.001015     distanc   4.578235  -0.2684  -5.8479\n",
       "91     Topic3   0.001084        also   5.482758  -0.3834  -5.7826\n",
       "380    Topic3   0.001145        sine   6.422496  -0.4864  -5.7275\n",
       "137    Topic3   0.001278       circl   8.973758  -0.7115  -5.6180\n",
       "195    Topic3   0.001595       equal  17.321089  -1.1476  -5.3965\n",
       "434    Topic3   0.001117         two   6.272972  -0.4884  -5.7530\n",
       "196    Topic3   0.001124      equant   6.490351  -0.5162  -5.7467\n",
       "329    Topic3   0.001173       point   8.146776  -0.7008  -5.7040\n",
       "\n",
       "[195 rows x 6 columns], token_table=      Topic      Freq         Term\n",
       "term                              \n",
       "5         1  0.844238      112,600\n",
       "10        1  0.844968  16° 33' 30\"\n",
       "12        1  0.842807       20,103\n",
       "15        1  0.840607  20° 57' 34\"\n",
       "16        1  0.856620          246\n",
       "17        1  0.840805       29,732\n",
       "19        1  0.847518         3780\n",
       "24        1  0.843666   41° 55' 8\"\n",
       "30        1  0.848618       66,931\n",
       "38        1  0.843452  85° 39' 52\"\n",
       "40        1  0.839129       87,400\n",
       "42        1  0.853637       99,713\n",
       "48        1  0.845754           AI\n",
       "50        1  1.090464           BA\n",
       "56        1  1.067904           CB\n",
       "78        1  0.851628          act\n",
       "91        1  0.911950         also\n",
       "95        1  0.995435         angl\n",
       "101       1  1.064043          arc\n",
       "115       1  0.839634       bisect\n",
       "121       1  0.946095          but\n",
       "126       1  0.933074          cbe\n",
       "128       1  0.963285          ceb\n",
       "129       1  0.842803      celesti\n",
       "130       1  0.989746       center\n",
       "132       1  0.856086    certainli\n",
       "137       1  1.002924        circl\n",
       "144       1  0.847050   comprehens\n",
       "150       1  0.845303      connect\n",
       "155       1  1.006920   copernican\n",
       "...     ...       ...          ...\n",
       "325       1  0.925640       physic\n",
       "327       1  0.988456       planet\n",
       "329       1  0.981984        point\n",
       "331       1  0.846280         poss\n",
       "332       1  0.995577        power\n",
       "333       1  0.844416      practic\n",
       "337       1  0.845337      prevent\n",
       "344       1  1.000709      ptolema\n",
       "345       1  0.962093      ptolemi\n",
       "347       1  0.990572        radiu\n",
       "366       1  0.843698        scope\n",
       "370       1  0.847917      segment\n",
       "379       1  0.930535         sinc\n",
       "380       1  0.934216         sine\n",
       "384       1  0.921715         slow\n",
       "386       1  0.844132        small\n",
       "392       1  0.845196        speed\n",
       "399       1  1.072891     subtract\n",
       "400       1  0.848632          sum\n",
       "410       1  1.010729     therefor\n",
       "412       1  1.086536          thi\n",
       "413       1  0.844825        thing\n",
       "421       1  0.851171        touch\n",
       "434       1  0.956484          two\n",
       "435       1  1.096212        tycho\n",
       "437       1  0.846927    undertook\n",
       "454       1  1.073259           αβ\n",
       "470       1  0.847218           δη\n",
       "492       1  0.850683            ο\n",
       "494       1  0.846174          ονλ\n",
       "\n",
       "[105 rows x 3 columns], R=30, lambda_step=0.01, plot_opts={'xlab': 'PC1', 'ylab': 'PC2'}, topic_order=[2, 1, 3])"
      ]
     },
     "execution_count": 153,
     "metadata": {},
     "output_type": "execute_result"
    }
   ],
   "source": [
    "vis"
   ]
  },
  {
   "cell_type": "markdown",
   "metadata": {},
   "source": [
    "# Topic modelling of chapter 30"
   ]
  },
  {
   "cell_type": "code",
   "execution_count": 114,
   "metadata": {},
   "outputs": [
    {
     "data": {
      "text/html": [
       "\n",
       "<link rel=\"stylesheet\" type=\"text/css\" href=\"https://cdn.rawgit.com/bmabey/pyLDAvis/files/ldavis.v1.0.0.css\">\n",
       "\n",
       "\n",
       "<div id=\"ldavis_el45617089532561289996737920\"></div>\n",
       "<script type=\"text/javascript\">\n",
       "\n",
       "var ldavis_el45617089532561289996737920_data = {\"mdsDat\": {\"x\": [-0.016119302955409694, -0.003815412953087339, 0.009350145215155474, 0.010584570693341568], \"y\": [-5.82700506763569e-06, 3.2926679687329866e-05, -0.00025804720299570224, 0.00023094752837595343], \"topics\": [1, 2, 3, 4], \"cluster\": [1, 1, 1, 1], \"Freq\": [99.81966400146484, 0.06112876161932945, 0.059628475457429886, 0.059577979147434235]}, \"tinfo\": {\"Category\": [\"Default\", \"Default\", \"Default\", \"Default\", \"Default\", \"Default\", \"Default\", \"Default\", \"Default\", \"Default\", \"Default\", \"Default\", \"Default\", \"Default\", \"Default\", \"Default\", \"Default\", \"Default\", \"Default\", \"Default\", \"Default\", \"Default\", \"Default\", \"Default\", \"Default\", \"Default\", \"Default\", \"Default\", \"Default\", \"Default\", \"Topic1\", \"Topic1\", \"Topic1\", \"Topic1\", \"Topic1\", \"Topic1\", \"Topic1\", \"Topic1\", \"Topic1\", \"Topic1\", \"Topic1\", \"Topic1\", \"Topic1\", \"Topic1\", \"Topic1\", \"Topic1\", \"Topic1\", \"Topic1\", \"Topic1\", \"Topic1\", \"Topic1\", \"Topic1\", \"Topic1\", \"Topic1\", \"Topic1\", \"Topic1\", \"Topic1\", \"Topic1\", \"Topic1\", \"Topic1\", \"Topic1\", \"Topic2\", \"Topic2\", \"Topic2\", \"Topic2\", \"Topic2\", \"Topic2\", \"Topic2\", \"Topic2\", \"Topic2\", \"Topic2\", \"Topic2\", \"Topic2\", \"Topic2\", \"Topic2\", \"Topic2\", \"Topic2\", \"Topic2\", \"Topic2\", \"Topic2\", \"Topic2\", \"Topic2\", \"Topic2\", \"Topic2\", \"Topic2\", \"Topic2\", \"Topic2\", \"Topic2\", \"Topic2\", \"Topic2\", \"Topic2\", \"Topic2\", \"Topic2\", \"Topic2\", \"Topic2\", \"Topic2\", \"Topic2\", \"Topic2\", \"Topic2\", \"Topic2\", \"Topic2\", \"Topic2\", \"Topic2\", \"Topic2\", \"Topic2\", \"Topic2\", \"Topic2\", \"Topic2\", \"Topic2\", \"Topic2\", \"Topic2\", \"Topic2\", \"Topic2\", \"Topic2\", \"Topic2\", \"Topic2\", \"Topic2\", \"Topic2\", \"Topic2\", \"Topic2\", \"Topic2\", \"Topic2\", \"Topic2\", \"Topic2\", \"Topic2\", \"Topic2\", \"Topic2\", \"Topic2\", \"Topic3\", \"Topic3\", \"Topic3\", \"Topic3\", \"Topic3\", \"Topic3\", \"Topic3\", \"Topic3\", \"Topic3\", \"Topic3\", \"Topic3\", \"Topic3\", \"Topic3\", \"Topic3\", \"Topic3\", \"Topic3\", \"Topic3\", \"Topic3\", \"Topic3\", \"Topic3\", \"Topic3\", \"Topic3\", \"Topic3\", \"Topic3\", \"Topic3\", \"Topic3\", \"Topic3\", \"Topic3\", \"Topic3\", \"Topic3\", \"Topic3\", \"Topic3\", \"Topic3\", \"Topic3\", \"Topic3\", \"Topic3\", \"Topic3\", \"Topic3\", \"Topic3\", \"Topic3\", \"Topic3\", \"Topic3\", \"Topic3\", \"Topic3\", \"Topic3\", \"Topic3\", \"Topic3\", \"Topic3\", \"Topic3\", \"Topic3\", \"Topic3\", \"Topic3\", \"Topic3\", \"Topic3\", \"Topic3\", \"Topic3\", \"Topic3\", \"Topic3\", \"Topic3\", \"Topic3\", \"Topic3\", \"Topic3\", \"Topic3\", \"Topic3\", \"Topic3\", \"Topic3\", \"Topic3\", \"Topic3\", \"Topic3\", \"Topic3\", \"Topic4\", \"Topic4\", \"Topic4\", \"Topic4\", \"Topic4\", \"Topic4\", \"Topic4\", \"Topic4\", \"Topic4\", \"Topic4\", \"Topic4\", \"Topic4\", \"Topic4\", \"Topic4\", \"Topic4\", \"Topic4\", \"Topic4\", \"Topic4\", \"Topic4\", \"Topic4\", \"Topic4\", \"Topic4\", \"Topic4\", \"Topic4\", \"Topic4\", \"Topic4\", \"Topic4\", \"Topic4\", \"Topic4\", \"Topic4\", \"Topic4\", \"Topic4\", \"Topic4\", \"Topic4\", \"Topic4\", \"Topic4\", \"Topic4\", \"Topic4\", \"Topic4\", \"Topic4\", \"Topic4\", \"Topic4\", \"Topic4\", \"Topic4\", \"Topic4\", \"Topic4\", \"Topic4\", \"Topic4\", \"Topic4\", \"Topic4\", \"Topic4\", \"Topic4\", \"Topic4\", \"Topic4\", \"Topic4\", \"Topic4\", \"Topic4\", \"Topic4\", \"Topic4\", \"Topic4\", \"Topic4\", \"Topic4\", \"Topic4\", \"Topic4\", \"Topic4\", \"Topic4\", \"Topic4\", \"Topic4\", \"Topic4\", \"Topic4\", \"Topic4\", \"Topic4\"], \"Freq\": [13.0, 12.0, 10.0, 10.0, 9.0, 4.0, 4.0, 4.0, 4.0, 3.0, 3.0, 3.0, 3.0, 3.0, 3.0, 3.0, 3.0, 3.0, 3.0, 3.0, 2.0, 2.0, 2.0, 2.0, 2.0, 2.0, 2.0, 2.0, 2.0, 2.0, 12.544461250305176, 10.587376594543457, 10.466346740722656, 13.685425758361816, 9.522233009338379, 4.633688926696777, 4.625986099243164, 3.8079748153686523, 3.717740774154663, 4.396376132965088, 3.73435115814209, 3.6614441871643066, 3.000941514968872, 3.6458659172058105, 2.9225873947143555, 3.590630531311035, 3.580519437789917, 3.5480120182037354, 2.888094663619995, 2.8841922283172607, 2.869626045227051, 4.902640342712402, 2.831866979598999, 3.4584741592407227, 2.835956573486328, 2.8234541416168213, 2.7965071201324463, 3.452200412750244, 2.779364824295044, 2.7719624042510986, 2.781001329421997, 0.0009544609347358346, 0.000932081660721451, 0.0009068530052900314, 0.000899595208466053, 0.0008987963665276766, 0.0008941326523199677, 0.0008824507822282612, 0.0008961797575466335, 0.0008960795821622014, 0.0008895313367247581, 0.0008912035846151412, 0.0008925526053644717, 0.000885345390997827, 0.0008933159406296909, 0.0008832061430439353, 0.0008776005706749856, 0.0008721021004021168, 0.00087360804900527, 0.0008713265415281057, 0.0008762066136114299, 0.0008816932677291334, 0.0008728879620321095, 0.000874500023201108, 0.0008823151001706719, 0.0008703841012902558, 0.0008711669943295419, 0.0008715154253877699, 0.0008637113496661186, 0.0008680879254825413, 0.000861376931425184, 0.001432838966138661, 0.001407979754731059, 0.0019191107712686062, 0.003068992868065834, 0.0013611005851998925, 0.0022312409710139036, 0.0013387443032115698, 0.0013185814023017883, 0.005991390440613031, 0.004881615284830332, 0.0021014700178056955, 0.0021082868333905935, 0.00424413476139307, 0.00446399487555027, 0.0023618058767169714, 0.0016814629780128598, 0.004718319047242403, 0.0019872477278113365, 0.001969848992303014, 0.0012906906194984913, 0.0016244533471763134, 0.001609632046893239, 0.0016125396359711885, 0.0019128617132082582, 0.0019051932031288743, 0.0015974716516211629, 0.0015886839246377349, 0.0015818335814401507, 0.0015582676278427243, 0.0015386345330625772, 0.0019570477306842804, 0.0019290066557005048, 0.001727339462377131, 0.0015313024632632732, 0.001520943595096469, 0.0015808251919224858, 0.0015251989243552089, 0.0010336573468521237, 0.0010070025455206633, 0.0009986672084778547, 0.0009872332448139787, 0.0009971975814551115, 0.0009990446269512177, 0.0010192736517637968, 0.000986737315542996, 0.0009818007238209248, 0.0009870822541415691, 0.0009987595258280635, 0.0009823964210227132, 0.00098675477784127, 0.0009559205500409007, 0.001010764972306788, 0.0009759951499290764, 0.0009996062144637108, 0.0009646330727264285, 0.000990227796137333, 0.0010064574889838696, 0.0009634945308789611, 0.0009794916259124875, 0.000967937579844147, 0.0009736918727867305, 0.0010101899970322847, 0.0009620827040635049, 0.000978785683400929, 0.0009616725728847086, 0.000984511454589665, 0.0009942270116880536, 0.0009930660016834736, 0.000989546300843358, 0.001012345077469945, 0.0010034850565716624, 0.0009919743752107024, 0.0009903977625072002, 0.003207892645150423, 0.001008777879178524, 0.0015775932697579265, 0.0021802682895213366, 0.0023990559857338667, 0.001628101454116404, 0.0011777356266975403, 0.002123789628967643, 0.0014822613447904587, 0.0015737285139039159, 0.0013144578551873565, 0.001399725559167564, 0.0012884598691016436, 0.0011601950973272324, 0.0014631658559665084, 0.0012817918322980404, 0.001162230153568089, 0.0018206648528575897, 0.0012631637509912252, 0.0012461324222385883, 0.0013351324014365673, 0.0013190907193347812, 0.0012634133454412222, 0.001238819444552064, 0.0012324556009843946, 0.0012285675620660186, 0.0013778053689748049, 0.0012299666414037347, 0.0012254923349246383, 0.0012717327335849404, 0.0012643226655200124, 0.0012495456030592322, 0.0012081086169928312, 0.0012016798136755824, 0.0010343895992264152, 0.0010076321195811033, 0.0009549887618049979, 0.0009977403096854687, 0.0009967408841475844, 0.000985962338745594, 0.0009952170075848699, 0.0009967787191271782, 0.0009844446321949363, 0.0009651646832935512, 0.0009867956396192312, 0.0009992148261517286, 0.0009765206486918032, 0.0009916546987369657, 0.0009817621903494, 0.0010107997804880142, 0.0009716375498101115, 0.0009926350321620703, 0.0010293620871379972, 0.0009693490574136376, 0.0010159320663660765, 0.0009761772234924138, 0.0009713885956443846, 0.0009959711460396647, 0.0009881450096145272, 0.0009865306783467531, 0.000974346068687737, 0.0009716036729514599, 0.0009696938213892281, 0.0010126130655407906, 0.0009894943796098232, 0.0009829598711803555, 0.0009875847026705742, 0.0010175681672990322, 0.0009928884683176875, 0.0009934616973623633, 0.0009920645970851183, 0.0010038764448836446, 0.0018761625979095697, 0.0022201768588274717, 0.0024666404351592064, 0.0022388265933841467, 0.0013583910185843706, 0.0020699307788163424, 0.001980704488232732, 0.0015293954638764262, 0.0013749250210821629, 0.0011620677541941404, 0.0012867425102740526, 0.0013903393410146236, 0.0013720180140808225, 0.0012433978263288736, 0.0013554117176681757, 0.001157220103777945, 0.001264125807210803, 0.0013950102729722857, 0.00123616645578295, 0.0013223127461969852, 0.0013097599148750305, 0.001222463557496667, 0.0013014727737754583, 0.0011436004424467683, 0.0012234383029863238, 0.0012187623651698232, 0.001212777802720666, 0.0012045518960803747, 0.001256055780686438, 0.0013004324864596128, 0.0011994517408311367, 0.0011983128497377038, 0.0012069703079760075, 0.0012024366296827793], \"Term\": [\"anomali\", \"distanc\", \"angl\", \"mean\", \"equat\", \"99,984\", \"sun\", \"column\", \"\\u03b4\\u03b1\\u03b6\", \"thu\", \"begin\", \"integr\", \"91\\u00b0 1' 53\\\"\", \"tabl\", \"It\", \"show\", \"one\", \"use\", \"therefor\", \"So\", \"way\", \"90\\u00b0\", \"reason\", \"unit\", \"\\u03b1\\u03b6\", \"err\", \"degre\", \"\\u03b4\\u03b1\\u03bc\", \"part\", \"earth\", \"distanc\", \"mean\", \"angl\", \"anomali\", \"equat\", \"column\", \"\\u03b4\\u03b1\\u03b6\", \"integr\", \"tabl\", \"sun\", \"thu\", \"therefor\", \"So\", \"show\", \"but\", \"It\", \"91\\u00b0 1' 53\\\"\", \"use\", \"err\", \"unit\", \"\\u03b1\\u03b6\", \"99,984\", \"degre\", \"one\", \"way\", \"90\\u00b0\", \"earth\", \"begin\", \"optic\", \"order\", \"reason\", \"\\u03b4\\u03b2\\u03b9\", \"exampl\", \"\\u03b1\\u03bc\", \"law\", \"see\", \"ch\", \"cure\", \"go\", \"hurt\", \"previous\", \"hundr\", \"must\", \"constitut\", \"adapt\", \"accommod\", \"propos\", \"regard\", \"set\", \"advanc\", \"excess\", \"sourc\", \"40\", \"44\", \"u\", \"1800\", \"analog\", \"full\", \"denot\", \"concern\", \"assert\", \"forth\", \"\\u03b4\\u03b2\\u03b6\", \"figur\", \"99,984\", \"much\", \"one\", \"get\", \"magnitud\", \"anomali\", \"angl\", \"begin\", \"use\", \"equat\", \"mean\", \"sun\", \"find\", \"distanc\", \"It\", \"91\\u00b0 1' 53\\\"\", \"howev\", \"either\", \"smaller\", \"percept\", \"therefor\", \"show\", \"semicircl\", \"In\", \"optic\", \"order\", \"\\u03b4\\u03b1\\u03bc\", \"\\u03b4\\u03b1\\u03b6\", \"column\", \"tabl\", \"earth\", \"part\", \"thu\", \"integr\", \"\\u03b4\\u03b2\\u03b9\", \"regard\", \"set\", \"cure\", \"previous\", \"assert\", \"whatev\", \"accommod\", \"advanc\", \"44\", \"far\", \"denot\", \"analog\", \"exampl\", \"within\", \"1800\", \"said\", \"law\", \"result\", \"\\u03b4\", \"see\", \"attach\", \"40\", \"\\u03b1\\u03bd\", \"circuit\", \"ch\", \"understand\", \"constitut\", \"now\", \"depict\", \"\\u03b2\\u03b8\\u03b1\", \"le\", \"given\", \"former\", \"time\", \"name\", \"anomali\", \"We\", \"integr\", \"equat\", \"distanc\", \"column\", \"magnitud\", \"mean\", \"thu\", \"99,984\", \"\\u03b4\\u03b1\\u03bc\", \"begin\", \"smaller\", \"88\\u00b0 58' 7\\\"\", \"sun\", \"reason\", \"togeth\", \"angl\", \"90\\u00b0\", \"find\", \"tabl\", \"91\\u00b0 1' 53\\\"\", \"So\", \"order\", \"percept\", \"either\", \"\\u03b4\\u03b1\\u03b6\", \"err\", \"\\u03b1\\u03b6\", \"use\", \"one\", \"show\", \"semicircl\", \"degre\", \"propos\", \"cure\", \"\\u03b4\\u03b2\\u03b9\", \"advanc\", \"40\", \"regard\", \"excess\", \"\\u03b1\\u03bd\", \"constitut\", \"exampl\", \"denot\", \"far\", \"set\", \"reveal\", \"1800\", \"avoid\", \"see\", \"understand\", \"perfectli\", \"law\", \"also\", \"go\", \"ch\", \"\\u03b4\\u03b3\\u03b6\", \"although\", \"none\", \"assert\", \"must\", \"hundr\", \"below\", \"now\", \"\\u03b4\\u03b2\\u03bd\", \"\\u03b4\\u03b1\\u03b9\", \"admit\", \"\\u03b4\\u03b2\\u03bc\", \"time\", \"differ\", \"55\", \"99,984\", \"equat\", \"anomali\", \"distanc\", \"way\", \"mean\", \"angl\", \"\\u03b4\\u03b1\\u03b6\", \"begin\", \"path\", \"part\", \"thu\", \"It\", \"figur\", \"therefor\", \"would\", \"unit\", \"sun\", \"In\", \"tabl\", \"91\\u00b0 1' 53\\\"\", \"either\", \"show\", \"valu\", \"degre\", \"90\\u00b0\", \"reason\", \"smaller\", \"one\", \"column\", \"\\u03b4\\u03b1\\u03bc\", \"optic\", \"So\", \"use\"], \"Total\": [13.0, 12.0, 10.0, 10.0, 9.0, 4.0, 4.0, 4.0, 4.0, 3.0, 3.0, 3.0, 3.0, 3.0, 3.0, 3.0, 3.0, 3.0, 3.0, 3.0, 2.0, 2.0, 2.0, 2.0, 2.0, 2.0, 2.0, 2.0, 2.0, 2.0, 12.553818702697754, 10.596034049987793, 10.475029945373535, 13.697091102600098, 9.530877113342285, 4.638545989990234, 4.630849838256836, 3.812248468399048, 3.72212553024292, 4.4015960693359375, 3.738804578781128, 3.6658496856689453, 3.0045595169067383, 3.650322198867798, 2.92626953125, 3.595187187194824, 3.585118293762207, 3.5525944232940674, 2.891864776611328, 2.8879706859588623, 2.8734304904937744, 4.909159183502197, 2.8357443809509277, 3.463225841522217, 2.83986496925354, 2.8273706436157227, 2.8004262447357178, 3.4570765495300293, 2.783294916152954, 2.7759323120117188, 2.7849936485290527, 1.0216845273971558, 1.0580778121948242, 1.0774569511413574, 1.0734062194824219, 1.073521375656128, 1.076898217201233, 1.0635957717895508, 1.081921935081482, 1.0839307308197021, 1.0771249532699585, 1.0806691646575928, 1.0826001167297363, 1.0780671834945679, 1.0929932594299316, 1.080762505531311, 1.0763487815856934, 1.0702979564666748, 1.0752923488616943, 1.0753947496414185, 1.0827888250350952, 1.0895880460739136, 1.079450249671936, 1.0831173658370972, 1.0978792905807495, 1.0831632614135742, 1.0885542631149292, 1.0901132822036743, 1.0833871364593506, 1.091598391532898, 1.083271861076355, 1.8167170286178589, 1.8175427913665771, 2.5698962211608887, 4.909159183502197, 1.868162751197815, 3.463225841522217, 1.8729314804077148, 1.8436212539672852, 13.697091102600098, 10.475029945373535, 3.4570765495300293, 3.5525944232940674, 9.530877113342285, 10.596034049987793, 4.4015960693359375, 2.7195730209350586, 12.553818702697754, 3.595187187194824, 3.585118293762207, 1.8939002752304077, 2.7231500148773193, 2.7177960872650146, 2.7461493015289307, 3.6658496856689453, 3.650322198867798, 2.7613284587860107, 2.7533857822418213, 2.783294916152954, 2.7759323120117188, 2.753614902496338, 4.630849838256836, 4.638545989990234, 3.72212553024292, 2.8004262447357178, 2.7802586555480957, 3.738804578781128, 3.812248468399048, 1.0216845273971558, 1.0702979564666748, 1.0752923488616943, 1.0635957717895508, 1.0771249532699585, 1.083271861076355, 1.106017827987671, 1.080762505531311, 1.0753947496414185, 1.0831173658370972, 1.099375605583191, 1.0833871364593506, 1.0885542631149292, 1.0580778121948242, 1.1201450824737549, 1.0831632614135742, 1.110233187675476, 1.0734062194824219, 1.1027276515960693, 1.1211634874343872, 1.073521375656128, 1.0922930240631104, 1.079450249671936, 1.086464762687683, 1.1272889375686646, 1.076898217201233, 1.0968555212020874, 1.0780671834945679, 1.104337453842163, 1.1156853437423706, 1.1145559549331665, 1.1134157180786133, 1.150597095489502, 1.1368069648742676, 1.118587613105774, 1.1257870197296143, 13.697091102600098, 1.181512713432312, 3.812248468399048, 9.530877113342285, 12.553818702697754, 4.638545989990234, 1.8436212539672852, 10.596034049987793, 3.738804578781128, 4.909159183502197, 2.753614902496338, 3.4570765495300293, 2.7177960872650146, 1.8977046012878418, 4.4015960693359375, 2.7849936485290527, 1.958578109741211, 10.475029945373535, 2.8273706436157227, 2.7195730209350586, 3.72212553024292, 3.585118293762207, 3.0045595169067383, 2.7759323120117188, 2.7461493015289307, 2.7231500148773193, 4.630849838256836, 2.891864776611328, 2.8734304904937744, 3.5525944232940674, 3.463225841522217, 3.650322198867798, 2.7613284587860107, 2.8357443809509277, 1.0763487815856934, 1.0635957717895508, 1.0216845273971558, 1.0753947496414185, 1.079450249671936, 1.0702979564666748, 1.0827888250350952, 1.086464762687683, 1.0780671834945679, 1.0580778121948242, 1.0833871364593506, 1.099375605583191, 1.0752923488616943, 1.092099905014038, 1.0831632614135742, 1.1164498329162598, 1.073521375656128, 1.0968555212020874, 1.1388673782348633, 1.0734062194824219, 1.1257234811782837, 1.081921935081482, 1.076898217201233, 1.1046404838562012, 1.0965439081192017, 1.0967563390731812, 1.083271861076355, 1.0826001167297363, 1.0806691646575928, 1.1292556524276733, 1.104337453842163, 1.0968384742736816, 1.1048864126205444, 1.1548218727111816, 1.11647367477417, 1.118587613105774, 1.1178531646728516, 1.1460435390472412, 4.909159183502197, 9.530877113342285, 13.697091102600098, 12.553818702697754, 2.83986496925354, 10.596034049987793, 10.475029945373535, 4.630849838256836, 3.4570765495300293, 1.9297127723693848, 2.7802586555480957, 3.738804578781128, 3.595187187194824, 2.5698962211608887, 3.6658496856689453, 2.004953145980835, 2.8879706859588623, 4.4015960693359375, 2.7533857822418213, 3.72212553024292, 3.585118293762207, 2.7231500148773193, 3.650322198867798, 2.011319160461426, 2.8357443809509277, 2.8273706436157227, 2.7849936485290527, 2.7177960872650146, 3.463225841522217, 4.638545989990234, 2.753614902496338, 2.783294916152954, 3.0045595169067383, 3.5525944232940674], \"loglift\": [30.0, 29.0, 28.0, 27.0, 26.0, 25.0, 24.0, 23.0, 22.0, 21.0, 20.0, 19.0, 18.0, 17.0, 16.0, 15.0, 14.0, 13.0, 12.0, 11.0, 10.0, 9.0, 8.0, 7.0, 6.0, 5.0, 4.0, 3.0, 2.0, 1.0, 0.0010999999940395355, 0.0010000000474974513, 0.0010000000474974513, 0.0010000000474974513, 0.0008999999845400453, 0.0007999999797903001, 0.0007999999797903001, 0.000699999975040555, 0.0006000000284984708, 0.0006000000284984708, 0.0006000000284984708, 0.0006000000284984708, 0.0006000000284984708, 0.0006000000284984708, 0.0005000000237487257, 0.0005000000237487257, 0.0005000000237487257, 0.0005000000237487257, 0.0005000000237487257, 0.0005000000237487257, 0.0005000000237487257, 0.0005000000237487257, 0.00039999998989515007, 0.00039999998989515007, 0.00039999998989515007, 0.00039999998989515007, 0.00039999998989515007, 0.00039999998989515007, 0.00039999998989515007, 0.00039999998989515007, 0.00039999998989515007, 0.42410001158714294, 0.3653999865055084, 0.3197999894618988, 0.3154999911785126, 0.31450000405311584, 0.3061999976634979, 0.30550000071525574, 0.30379998683929443, 0.3018999993801117, 0.30079999566078186, 0.2994000017642975, 0.29919999837875366, 0.295199990272522, 0.2904999852180481, 0.29030001163482666, 0.2879999876022339, 0.2874000072479248, 0.28450000286102295, 0.2818000018596649, 0.28049999475479126, 0.28049999475479126, 0.2797999978065491, 0.2782000005245209, 0.2736000120639801, 0.273499995470047, 0.2694000005722046, 0.26840001344680786, 0.2655999958515167, 0.2630999982357025, 0.2630000114440918, 0.2547999918460846, 0.23690000176429749, 0.20020000636577606, 0.02239999920129776, 0.17550000548362732, 0.05249999836087227, 0.15639999508857727, 0.15700000524520874, -0.33469998836517334, -0.27129998803138733, -0.00559999980032444, -0.029600000008940697, -0.31679999828338623, -0.37220001220703125, -0.13040000200271606, 0.01140000019222498, -0.4864000082015991, -0.1006999984383583, -0.10660000145435333, 0.10869999974966049, -0.024399999529123306, -0.031599998474121094, -0.04019999876618385, -0.1582999974489212, -0.15800000727176666, -0.05510000139474869, -0.05770000070333481, -0.07289999723434448, -0.0851999968290329, -0.08980000019073486, -0.36910000443458557, -0.38519999384880066, -0.27549999952316284, -0.11150000244379044, -0.11100000143051147, -0.3686000108718872, -0.4239000082015991, 0.5286999940872192, 0.4560999870300293, 0.4431000053882599, 0.4424999952316284, 0.4399000108242035, 0.4361000061035156, 0.43540000915527344, 0.4259999990463257, 0.4259999990463257, 0.42419999837875366, 0.421099990606308, 0.41920000314712524, 0.4189000129699707, 0.4154999852180481, 0.41429999470710754, 0.41290000081062317, 0.4120999872684479, 0.41019999980926514, 0.40939998626708984, 0.4090999960899353, 0.4088999927043915, 0.40799999237060547, 0.40799999237060547, 0.4074000120162964, 0.4074000120162964, 0.4043000042438507, 0.40310001373291016, 0.4027999937534332, 0.40220001339912415, 0.4018000066280365, 0.4016000032424927, 0.39910000562667847, 0.3889999985694885, 0.392300009727478, 0.3968999981880188, 0.3889000117778778, -0.934499979019165, 0.35899999737739563, -0.3652999997138977, -0.9581000208854675, -1.1378999948501587, -0.5299000144004822, 0.06889999657869339, -1.0901999473571777, -0.4081999957561493, -0.6205999851226807, -0.2224999964237213, -0.3871000111103058, -0.22930000722408295, 0.02500000037252903, -0.5842999815940857, -0.258899986743927, -0.004800000227987766, -1.232800006866455, -0.28870001435279846, -0.26339998841285706, -0.5081999897956848, -0.4828000068664551, -0.34929999709129333, -0.2897999882698059, -0.2842000126838684, -0.27889999747276306, -0.6952000260353088, -0.3379000127315521, -0.335099995136261, -0.5102999806404114, -0.49059998989105225, -0.5550000071525574, -0.30959999561309814, -0.34150001406669617, 0.4781000018119812, 0.46380001306533813, 0.4503999948501587, 0.44290000200271606, 0.4381999969482422, 0.4357999861240387, 0.4334999918937683, 0.4316999912261963, 0.4269999861717224, 0.4259999990463257, 0.4244999885559082, 0.42239999771118164, 0.42149999737739563, 0.4214000105857849, 0.4196000099182129, 0.41850000619888306, 0.41819998621940613, 0.4180000126361847, 0.41679999232292175, 0.41589999198913574, 0.41530001163482666, 0.41499999165534973, 0.4147999882698059, 0.41429999470710754, 0.4138000011444092, 0.41200000047683716, 0.41190001368522644, 0.4097000062465668, 0.40950000286102295, 0.4088999927043915, 0.4081000089645386, 0.4083000123500824, 0.40560001134872437, 0.391400009393692, 0.40059998631477356, 0.3993000090122223, 0.398499995470047, 0.3853999972343445, -0.4440000057220459, -0.9391000270843506, -1.1964000463485718, -1.2062000036239624, -0.21960000693798065, -1.1151000261306763, -1.1476999521255493, -0.5899999737739563, -0.4041000008583069, 0.010700000450015068, -0.2524999976158142, -0.47130000591278076, -0.4453999996185303, -0.20810000598430634, -0.4771000146865845, -0.031700000166893005, -0.3082999885082245, -0.6312000155448914, -0.28290000557899475, -0.5170000195503235, -0.48910000920295715, -0.28299999237060547, -0.5134000182151794, -0.04670000076293945, -0.32280001044273376, -0.32359999418258667, -0.313400000333786, -0.29580000042915344, -0.49630001187324524, -0.7537999749183655, -0.3131999969482422, -0.3248000144958496, -0.39410001039505005, -0.5654000043869019], \"logprob\": [30.0, 29.0, 28.0, 27.0, 26.0, 25.0, 24.0, 23.0, 22.0, 21.0, 20.0, 19.0, 18.0, 17.0, 16.0, 15.0, 14.0, 13.0, 12.0, 11.0, 10.0, 9.0, 8.0, 7.0, 6.0, 5.0, 4.0, 3.0, 2.0, 1.0, -3.5162999629974365, -3.6858999729156494, -3.6974000930786133, -3.4291999340057373, -3.7918999195098877, -4.512199878692627, -4.513899803161621, -4.708499908447266, -4.732500076293945, -4.564799785614014, -4.728000164031982, -4.747700214385986, -4.946599960327148, -4.751999855041504, -4.973100185394287, -4.767199993133545, -4.770100116729736, -4.779200077056885, -4.985000133514404, -4.986299991607666, -4.991399765014648, -4.4558000564575195, -5.0046000480651855, -4.804699897766113, -5.003200054168701, -5.007599830627441, -5.017199993133545, -4.806600093841553, -5.0233001708984375, -5.026000022888184, -5.022799968719482, -5.601799964904785, -5.625500202178955, -5.6529998779296875, -5.660999774932861, -5.661900043487549, -5.667099952697754, -5.680200099945068, -5.66480016708374, -5.664899826049805, -5.6722002029418945, -5.670400142669678, -5.668900012969971, -5.677000045776367, -5.668000221252441, -5.6793999671936035, -5.685699939727783, -5.691999912261963, -5.690299987792969, -5.69290018081665, -5.687300205230713, -5.681099891662598, -5.691100120544434, -5.689300060272217, -5.6803998947143555, -5.693999767303467, -5.6930999755859375, -5.692699909210205, -5.701700210571289, -5.696599960327148, -5.704400062561035, -5.195499897003174, -5.2129998207092285, -4.903299808502197, -4.433800220489502, -5.2469000816345215, -4.752600193023682, -5.263500213623047, -5.278600215911865, -3.764899969100952, -3.9697000980377197, -4.8125, -4.809299945831299, -4.109600067138672, -4.059100151062012, -4.695799827575684, -5.0355000495910645, -4.003699779510498, -4.8684000968933105, -4.877200126647949, -5.300000190734863, -5.070000171661377, -5.07919979095459, -5.077400207519531, -4.906599998474121, -4.910600185394287, -5.0868000984191895, -5.092299938201904, -5.09660005569458, -5.111599922180176, -5.124300003051758, -4.883699893951416, -4.898200035095215, -5.008600234985352, -5.1290998458862305, -5.135900020599365, -5.0971999168396, -5.1331000328063965, -5.497200012207031, -5.523399829864502, -5.531700134277344, -5.5432000160217285, -5.533100128173828, -5.531300067901611, -5.511199951171875, -5.543700218200684, -5.548699855804443, -5.543300151824951, -5.531599998474121, -5.548099994659424, -5.543700218200684, -5.575399875640869, -5.519599914550781, -5.554599761962891, -5.530700206756592, -5.566299915313721, -5.540200233459473, -5.523900032043457, -5.567500114440918, -5.55109977722168, -5.562900066375732, -5.557000160217285, -5.520199775695801, -5.568999767303467, -5.551799774169922, -5.569399833679199, -5.545899868011475, -5.536099910736084, -5.537300109863281, -5.540800094604492, -5.518099784851074, -5.526899814605713, -5.538400173187256, -5.539999961853027, -4.364699840545654, -5.521599769592285, -5.074399948120117, -4.750899791717529, -4.655300140380859, -5.042900085449219, -5.366700172424316, -4.777100086212158, -5.1367998123168945, -5.076900005340576, -5.256899833679199, -5.1940999031066895, -5.276899814605713, -5.381700038909912, -5.149700164794922, -5.282100200653076, -5.380000114440918, -4.931099891662598, -5.2967000007629395, -5.310299873352051, -5.241300106048584, -5.253399848937988, -5.296500205993652, -5.316199779510498, -5.321300029754639, -5.32450008392334, -5.209799766540527, -5.323299884796143, -5.327000141143799, -5.289999961853027, -5.29580020904541, -5.307600021362305, -5.341300010681152, -5.34660005569458, -5.495699882507324, -5.521900177001953, -5.575500011444092, -5.531799793243408, -5.532800197601318, -5.543600082397461, -5.534299850463867, -5.532700061798096, -5.545199871063232, -5.564899921417236, -5.542799949645996, -5.530300140380859, -5.553199768066406, -5.537899971008301, -5.547900199890137, -5.518700122833252, -5.558300018310547, -5.536900043487549, -5.500500202178955, -5.5605998039245605, -5.513700008392334, -5.553599834442139, -5.558499813079834, -5.5335001945495605, -5.541399955749512, -5.543000221252441, -5.555500030517578, -5.558300018310547, -5.560299873352051, -5.517000198364258, -5.539999961853027, -5.5467000007629395, -5.541999816894531, -5.5121002197265625, -5.536600112915039, -5.535999774932861, -5.537499904632568, -5.525599956512451, -4.900300025939941, -4.731900215148926, -4.6265997886657715, -4.723499774932861, -5.223199844360352, -4.802000045776367, -4.8460001945495605, -5.104599952697754, -5.211100101470947, -5.379300117492676, -5.277400016784668, -5.199900150299072, -5.213200092315674, -5.311600208282471, -5.225399971008301, -5.383500099182129, -5.295100212097168, -5.196599960327148, -5.317500114440918, -5.250100135803223, -5.2596001625061035, -5.32859992980957, -5.265999794006348, -5.395299911499023, -5.3277997970581055, -5.331699848175049, -5.336599826812744, -5.343400001525879, -5.301499843597412, -5.2667999267578125, -5.347599983215332, -5.348599910736084, -5.341400146484375, -5.345099925994873]}, \"token.table\": {\"Topic\": [1, 1, 1, 1, 1, 1, 1, 1, 1, 1, 1, 1, 1, 1, 1, 1, 1, 1, 1, 1, 1, 1, 1, 1, 1, 1, 1, 1, 1, 1, 1, 1, 1, 1, 1, 1, 1, 1, 1, 1, 1, 1, 1, 1, 1, 1, 1, 1, 1, 1, 1, 1, 1, 1, 1, 1, 1, 1, 1, 1, 1, 1, 1, 1, 1, 1, 1, 1, 1, 1, 1, 1, 1, 1, 1, 1, 1, 1, 1, 1, 1, 1, 1, 1, 1, 1, 1, 1, 1, 1, 1, 1, 1, 1, 1, 1, 1, 1, 1, 1, 1, 1, 1, 1, 1, 1, 1, 1, 1, 1, 1, 1, 1, 1], \"Freq\": [0.9232218861579895, 0.9263975024223328, 0.9232609868049622, 0.8725671768188477, 1.0539047718048096, 1.0610564947128296, 1.1157232522964478, 1.0185043811798096, 1.0895676612854004, 1.1125985383987427, 0.9984824657440186, 0.8463726043701172, 0.9252726435661316, 0.9149187207221985, 0.865934431552887, 0.9298911094665527, 0.8883176445960999, 0.9119561910629272, 0.9186496734619141, 0.9546512365341187, 1.022114872932434, 0.9231293201446533, 0.9155052304267883, 0.8956963419914246, 0.8677852153778076, 0.8855390548706055, 1.0251960754394531, 0.9285928606987, 0.8870840072631836, 1.0779240131378174, 0.916087806224823, 0.9275859594345093, 0.9402068257331848, 1.0579233169555664, 0.9230310916900635, 0.8963100910186768, 0.8945719003677368, 1.0355415344238281, 1.071265459060669, 1.1016653776168823, 1.049221396446228, 1.0373928546905518, 0.9451100826263428, 0.9235411286354065, 0.9096072316169739, 1.1673623323440552, 1.103114366531372, 0.8796567916870117, 1.1008869409561157, 0.9173358678817749, 1.0678447484970093, 0.8691139817237854, 0.924281120300293, 1.056021809577942, 0.9253525733947754, 0.9225682020187378, 1.049249529838562, 0.9316137433052063, 0.8981371521949768, 1.0848214626312256, 1.0381242036819458, 1.0705705881118774, 0.9237021207809448, 0.888267457485199, 0.911779522895813, 0.9055203199386597, 0.866244375705719, 1.0778591632843018, 1.0807180404663086, 1.0790363550186157, 1.036423683166504, 1.092438817024231, 0.8780653476715088, 0.9283974170684814, 0.9290668964385986, 1.0772017240524292, 0.934319257736206, 0.9068422317504883, 0.9156671166419983, 0.9007116556167603, 0.9315138459205627, 1.0864336490631104, 0.9299796223640442, 1.0957937240600586, 1.1038355827331543, 0.9177780747413635, 0.9087612628936768, 1.0746548175811768, 1.0911521911621094, 1.0698606967926025, 0.8939844965934753, 1.021148920059204, 0.9108469486236572, 0.9116970896720886, 1.0387916564941406, 1.1259377002716064, 0.9943722486495972, 1.056388258934021, 0.9041445851325989, 0.8927415013313293, 0.9975295662879944, 1.0440481901168823, 0.9281113147735596, 0.9204164147377014, 0.8972182869911194, 0.8919305801391602, 1.079715371131897, 0.905070424079895, 1.0894769430160522, 1.1003867387771606, 0.9787757396697998, 0.8956772089004517, 0.9117112755775452, 0.9052718877792358], \"Term\": [\"1800\", \"40\", \"44\", \"55\", \"88\\u00b0 58' 7\\\"\", \"90\\u00b0\", \"91\\u00b0 1' 53\\\"\", \"99,984\", \"In\", \"It\", \"So\", \"We\", \"accommod\", \"adapt\", \"admit\", \"advanc\", \"also\", \"although\", \"analog\", \"angl\", \"anomali\", \"assert\", \"attach\", \"avoid\", \"begin\", \"below\", \"but\", \"ch\", \"circuit\", \"column\", \"concern\", \"constitut\", \"cure\", \"degre\", \"denot\", \"depict\", \"differ\", \"distanc\", \"earth\", \"either\", \"equat\", \"err\", \"exampl\", \"excess\", \"far\", \"figur\", \"find\", \"former\", \"forth\", \"full\", \"get\", \"given\", \"go\", \"howev\", \"hundr\", \"hurt\", \"integr\", \"law\", \"le\", \"magnitud\", \"mean\", \"much\", \"must\", \"name\", \"none\", \"now\", \"one\", \"optic\", \"order\", \"part\", \"path\", \"percept\", \"perfectli\", \"previous\", \"propos\", \"reason\", \"regard\", \"result\", \"reveal\", \"said\", \"see\", \"semicircl\", \"set\", \"show\", \"smaller\", \"sourc\", \"sun\", \"tabl\", \"therefor\", \"thu\", \"time\", \"togeth\", \"u\", \"understand\", \"unit\", \"use\", \"valu\", \"way\", \"whatev\", \"within\", \"would\", \"\\u03b1\\u03b6\", \"\\u03b1\\u03bc\", \"\\u03b1\\u03bd\", \"\\u03b2\\u03b8\\u03b1\", \"\\u03b4\", \"\\u03b4\\u03b1\\u03b6\", \"\\u03b4\\u03b1\\u03b9\", \"\\u03b4\\u03b1\\u03bc\", \"\\u03b4\\u03b2\\u03b6\", \"\\u03b4\\u03b2\\u03b9\", \"\\u03b4\\u03b2\\u03bc\", \"\\u03b4\\u03b2\\u03bd\", \"\\u03b4\\u03b3\\u03b6\"]}, \"R\": 30, \"lambda.step\": 0.01, \"plot.opts\": {\"xlab\": \"PC1\", \"ylab\": \"PC2\"}, \"topic.order\": [1, 3, 2, 4]};\n",
       "\n",
       "function LDAvis_load_lib(url, callback){\n",
       "  var s = document.createElement('script');\n",
       "  s.src = url;\n",
       "  s.async = true;\n",
       "  s.onreadystatechange = s.onload = callback;\n",
       "  s.onerror = function(){console.warn(\"failed to load library \" + url);};\n",
       "  document.getElementsByTagName(\"head\")[0].appendChild(s);\n",
       "}\n",
       "\n",
       "if(typeof(LDAvis) !== \"undefined\"){\n",
       "   // already loaded: just create the visualization\n",
       "   !function(LDAvis){\n",
       "       new LDAvis(\"#\" + \"ldavis_el45617089532561289996737920\", ldavis_el45617089532561289996737920_data);\n",
       "   }(LDAvis);\n",
       "}else if(typeof define === \"function\" && define.amd){\n",
       "   // require.js is available: use it to load d3/LDAvis\n",
       "   require.config({paths: {d3: \"https://cdnjs.cloudflare.com/ajax/libs/d3/3.5.5/d3.min\"}});\n",
       "   require([\"d3\"], function(d3){\n",
       "      window.d3 = d3;\n",
       "      LDAvis_load_lib(\"https://cdn.rawgit.com/bmabey/pyLDAvis/files/ldavis.v1.0.0.js\", function(){\n",
       "        new LDAvis(\"#\" + \"ldavis_el45617089532561289996737920\", ldavis_el45617089532561289996737920_data);\n",
       "      });\n",
       "    });\n",
       "}else{\n",
       "    // require.js not available: dynamically load d3 & LDAvis\n",
       "    LDAvis_load_lib(\"https://cdnjs.cloudflare.com/ajax/libs/d3/3.5.5/d3.min.js\", function(){\n",
       "         LDAvis_load_lib(\"https://cdn.rawgit.com/bmabey/pyLDAvis/files/ldavis.v1.0.0.js\", function(){\n",
       "                 new LDAvis(\"#\" + \"ldavis_el45617089532561289996737920\", ldavis_el45617089532561289996737920_data);\n",
       "            })\n",
       "         });\n",
       "}\n",
       "</script>"
      ],
      "text/plain": [
       "<IPython.core.display.HTML object>"
      ]
     },
     "execution_count": 114,
     "metadata": {},
     "output_type": "execute_result"
    }
   ],
   "source": [
    "pyLDAvis.display(vis) \n"
   ]
  },
  {
   "cell_type": "code",
   "execution_count": 207,
   "metadata": {},
   "outputs": [
    {
     "data": {
      "text/html": [
       "\n",
       "<link rel=\"stylesheet\" type=\"text/css\" href=\"https://cdn.rawgit.com/bmabey/pyLDAvis/files/ldavis.v1.0.0.css\">\n",
       "\n",
       "\n",
       "<div id=\"ldavis_el45617089540337529256723409\"></div>\n",
       "<script type=\"text/javascript\">\n",
       "\n",
       "var ldavis_el45617089540337529256723409_data = {\"mdsDat\": {\"x\": [0.027379513294064847, -0.011211329995933703, -0.016168183298131144], \"y\": [-0.0, -0.0, -0.0], \"topics\": [1, 2, 3], \"cluster\": [1, 1, 1], \"Freq\": [99.93634033203125, 0.03190178796648979, 0.03175152838230133]}, \"tinfo\": {\"Category\": [\"Default\", \"Default\", \"Default\", \"Default\", \"Default\", \"Default\", \"Default\", \"Default\", \"Default\", \"Default\", \"Default\", \"Default\", \"Default\", \"Default\", \"Default\", \"Default\", \"Default\", \"Default\", \"Default\", \"Default\", \"Default\", \"Default\", \"Default\", \"Default\", \"Default\", \"Default\", \"Default\", \"Default\", \"Default\", \"Default\", \"Topic1\", \"Topic1\", \"Topic1\", \"Topic1\", \"Topic1\", \"Topic1\", \"Topic1\", \"Topic1\", \"Topic1\", \"Topic1\", \"Topic1\", \"Topic1\", \"Topic1\", \"Topic1\", \"Topic1\", \"Topic1\", \"Topic1\", \"Topic1\", \"Topic1\", \"Topic1\", \"Topic1\", \"Topic1\", \"Topic1\", \"Topic1\", \"Topic1\", \"Topic1\", \"Topic1\", \"Topic1\", \"Topic1\", \"Topic1\", \"Topic1\", \"Topic2\", \"Topic2\", \"Topic2\", \"Topic2\", \"Topic2\", \"Topic2\", \"Topic2\", \"Topic2\", \"Topic2\", \"Topic2\", \"Topic2\", \"Topic2\", \"Topic2\", \"Topic2\", \"Topic2\", \"Topic2\", \"Topic2\", \"Topic2\", \"Topic2\", \"Topic2\", \"Topic2\", \"Topic2\", \"Topic2\", \"Topic2\", \"Topic2\", \"Topic2\", \"Topic2\", \"Topic2\", \"Topic2\", \"Topic2\", \"Topic2\", \"Topic2\", \"Topic2\", \"Topic2\", \"Topic2\", \"Topic2\", \"Topic2\", \"Topic2\", \"Topic2\", \"Topic2\", \"Topic2\", \"Topic2\", \"Topic2\", \"Topic2\", \"Topic2\", \"Topic2\", \"Topic2\", \"Topic2\", \"Topic2\", \"Topic2\", \"Topic2\", \"Topic2\", \"Topic2\", \"Topic2\", \"Topic2\", \"Topic2\", \"Topic2\", \"Topic2\", \"Topic2\", \"Topic2\", \"Topic2\", \"Topic2\", \"Topic2\", \"Topic2\", \"Topic2\", \"Topic2\", \"Topic2\", \"Topic3\", \"Topic3\", \"Topic3\", \"Topic3\", \"Topic3\", \"Topic3\", \"Topic3\", \"Topic3\", \"Topic3\", \"Topic3\", \"Topic3\", \"Topic3\", \"Topic3\", \"Topic3\", \"Topic3\", \"Topic3\", \"Topic3\", \"Topic3\", \"Topic3\", \"Topic3\", \"Topic3\", \"Topic3\", \"Topic3\", \"Topic3\", \"Topic3\", \"Topic3\", \"Topic3\", \"Topic3\", \"Topic3\", \"Topic3\", \"Topic3\", \"Topic3\", \"Topic3\", \"Topic3\", \"Topic3\", \"Topic3\", \"Topic3\", \"Topic3\", \"Topic3\", \"Topic3\", \"Topic3\", \"Topic3\", \"Topic3\", \"Topic3\", \"Topic3\", \"Topic3\", \"Topic3\", \"Topic3\", \"Topic3\", \"Topic3\", \"Topic3\", \"Topic3\", \"Topic3\", \"Topic3\", \"Topic3\", \"Topic3\", \"Topic3\", \"Topic3\", \"Topic3\", \"Topic3\", \"Topic3\", \"Topic3\", \"Topic3\", \"Topic3\", \"Topic3\", \"Topic3\"], \"Freq\": [22.0, 18.0, 24.0, 15.0, 14.0, 13.0, 14.0, 14.0, 16.0, 13.0, 12.0, 10.0, 11.0, 8.0, 8.0, 10.0, 9.0, 7.0, 8.0, 8.0, 8.0, 8.0, 8.0, 7.0, 7.0, 7.0, 7.0, 6.0, 6.0, 6.0, 24.134117126464844, 16.281326293945312, 11.793061256408691, 14.277688980102539, 14.271443367004395, 15.924627304077148, 10.009849548339844, 13.347294807434082, 13.261226654052734, 12.43110466003418, 22.322315216064453, 18.169631958007812, 14.020073890686035, 9.007802963256836, 10.620538711547852, 7.332949161529541, 8.123188018798828, 8.11488151550293, 8.105301856994629, 8.103378295898438, 7.28134822845459, 8.087450981140137, 8.89355754852295, 8.87890338897705, 7.261475563049316, 7.241273880004883, 6.410566806793213, 7.972149848937988, 6.367439270019531, 5.566771030426025, 6.323800086975098, 0.000692936999257654, 0.0006883961032144725, 0.0006911650998517871, 0.0006898041465319693, 0.0006792633794248104, 0.0006726768333464861, 0.0006744508282281458, 0.0006716314819641411, 0.0006727713043801486, 0.0006735075148753822, 0.0006730254972353578, 0.0006673705065622926, 0.0006721121026203036, 0.0006662384257651865, 0.0006697016069665551, 0.0006696344935335219, 0.0006703464314341545, 0.0006668974529020488, 0.0006675628828816116, 0.0006704069091938436, 0.0006680740625597537, 0.0006693816976621747, 0.0006618619663640857, 0.0006646676920354366, 0.0006586755043826997, 0.000666616833768785, 0.000666384759824723, 0.0006680513615719974, 0.0006591802230104804, 0.0006591054261662066, 0.0006624232046306133, 0.0006629570270888507, 0.0034063132479786873, 0.0023415631148964167, 0.0006640052888542414, 0.0019184130942448974, 0.001986707793548703, 0.00167458679061383, 0.0018250340363010764, 0.001788778230547905, 0.001432096236385405, 0.0016810641391202807, 0.0017603496089577675, 0.0020784391090273857, 0.0014096113154664636, 0.0012462330050766468, 0.0013955120230093598, 0.0013488999102264643, 0.0012239116476848722, 0.0013347816420719028, 0.0015659320633858442, 0.0012801995035260916, 0.0012639311607927084, 0.0013963154051452875, 0.0012831627391278744, 0.0009754624334163964, 0.0013186200521886349, 0.0011847412679344416, 0.0011399912182241678, 0.0011183173628523946, 0.001160374260507524, 0.0009618596523068845, 0.001118366839364171, 0.0014503165148198605, 0.001070801867172122, 0.0011178257409483194, 0.0011218047002330422, 0.0006902207969687879, 0.0006883863825351, 0.0006800649571232498, 0.0006782993441447616, 0.0006822282448410988, 0.0006802754360251129, 0.0006797256064601243, 0.0006831385544501245, 0.0006822288269177079, 0.0006777899689041078, 0.0006746732397004962, 0.0006775777437724173, 0.000678621232509613, 0.0006765798316337168, 0.0006803375435993075, 0.000678371055983007, 0.000677877978887409, 0.0006785718724131584, 0.0006790953339077532, 0.0006836741813458502, 0.0006797862006351352, 0.0006758375093340874, 0.000673692615237087, 0.0006755694048479199, 0.0006771365879103541, 0.0006764669669792056, 0.0006724615232087672, 0.0006740315002389252, 0.0006750860484316945, 0.0006751999608241022, 0.0006781292031519115, 0.0024150353856384754, 0.0023649896029382944, 0.001790407462976873, 0.002116014016792178, 0.001685191411525011, 0.001685204915702343, 0.0013604629784822464, 0.0013088181149214506, 0.0015407922910526395, 0.0014781971694901586, 0.0013182073598727584, 0.0012536196736618876, 0.0015738089568912983, 0.0010481859790161252, 0.0014706383226439357, 0.0013419404858723283, 0.0011328811524435878, 0.0014168183552101254, 0.0009574042051099241, 0.0012351578334346414, 0.0011951958294957876, 0.0010139200603589416, 0.0009537023724988103, 0.0011438990477472544, 0.0011785728856921196, 0.0011375535978004336, 0.0010883683571591973, 0.001047396450303495, 0.0009875097312033176, 0.0010988872963935137, 0.0012009409256279469, 0.001050745602697134, 0.001093575032427907, 0.0010710313217714429, 0.0010876157321035862], \"Term\": [\"observ\", \"mar\", \"star\", \"one\", \"northern\", \"differ\", \"ptolemi\", \"latitud\", \"brow\", \"cor\", \"sun\", \"ratio\", \"leoni\", \"bright\", \"sinc\", \"orb\", \"scorpiu\", \"but\", \"therefor\", \"u\", \"let\", \"elong\", \"three\", \"appear\", \"eccentr\", \"brahe\", \"use\", \"3\", \"posit\", \"time\", \"star\", \"brow\", \"leoni\", \"latitud\", \"ptolemi\", \"one\", \"orb\", \"cor\", \"differ\", \"sun\", \"observ\", \"mar\", \"northern\", \"scorpiu\", \"ratio\", \"use\", \"three\", \"elong\", \"let\", \"u\", \"brahe\", \"therefor\", \"sinc\", \"bright\", \"eccentr\", \"appear\", \"also\", \"but\", \"distanc\", \"thu\", \"time\", \"certain\", \"27\\u00b0 15' 44\\\"\", \"\\u03c3\\u03ba\\u03bf\\u03c1\\u03c0\\u03af\\u03bf\\u03c5\", \"27\\u00b0 36' scorpio\", \"seem\", \"chapter\", \"arab\", \"brightest\", \"imped\", \"scorpio\", \"togeth\", \"7h\", \"footprint\", \"46\\u00bd\", \"between\", \"call\", \"intend\", \"variat\", \"antiqu\", \"3\\u00b0 45' 45\\\"\", \"simpler\", \"see\", \"epiphi\", \"98,790\", \"56\\u00b0 35'\", \"divis\", \"ground\", \"correspond\", \"experi\", \"touch\", \"find\", \"describ\", \"observ\", \"mar\", \"book\", \"northern\", \"one\", \"ratio\", \"differ\", \"cor\", \"but\", \"sun\", \"latitud\", \"star\", \"sinc\", \"posit\", \"bright\", \"u\", \"3\", \"three\", \"ptolemi\", \"therefor\", \"let\", \"leoni\", \"scorpiu\", \"node\", \"orb\", \"brahe\", \"also\", \"time\", \"appear\", \"made\", \"distanc\", \"brow\", \"motion\", \"eccentr\", \"elong\", \"56\\u00b0 35'\", \"examin\", \"46\\u00bd\", \"7h\", \"least\", \"high\", \"experi\", \"twofold\", \"correct\", \"epiphi\", \"chapter\", \"know\", \"earlier\", \"touch\", \"us\", \"subtract\", \"9\", \"clear\", \"0\\u00b0 40' 37\\\"\", \"prove\", \"11\", \"51\\u00bd\", \"declin\", \"foundat\", \"deduc\", \"read\", \"proxim\", \"reason\", \"point\", \"triangl\", \"littl\", \"mar\", \"observ\", \"northern\", \"star\", \"ptolemi\", \"one\", \"bright\", \"elong\", \"differ\", \"sun\", \"sinc\", \"but\", \"brow\", \"5\", \"latitud\", \"ratio\", \"time\", \"cor\", \"today\", \"scorpiu\", \"therefor\", \"ptolema\", \"proven\", \"eccentr\", \"let\", \"appear\", \"3\", \"word\", \"opposit\", \"use\", \"leoni\", \"distanc\", \"u\", \"three\", \"orb\"], \"Total\": [22.0, 18.0, 24.0, 15.0, 14.0, 13.0, 14.0, 14.0, 16.0, 13.0, 12.0, 10.0, 11.0, 8.0, 8.0, 10.0, 9.0, 7.0, 8.0, 8.0, 8.0, 8.0, 8.0, 7.0, 7.0, 7.0, 7.0, 6.0, 6.0, 6.0, 24.1383113861084, 16.28434944152832, 11.795658111572266, 14.280920028686523, 14.274694442749023, 15.928298950195312, 10.012255668640137, 13.35050106048584, 13.264593124389648, 12.434264183044434, 22.328086853027344, 18.174388885498047, 14.023782730102539, 9.010320663452148, 10.623555183410645, 7.335080623626709, 8.125594139099121, 8.117311477661133, 8.107744216918945, 8.105820655822754, 7.283569812774658, 8.089925765991211, 8.896285057067871, 8.881659507751465, 7.263737201690674, 7.243571758270264, 6.412653923034668, 7.974835395812988, 6.369608402252197, 5.5686798095703125, 6.326051235198975, 1.1613593101501465, 1.1580067873001099, 1.1645722389221191, 1.1625884771347046, 1.1628191471099854, 1.1561695337295532, 1.164574384689331, 1.16157066822052, 1.1636066436767578, 1.1660457849502563, 1.1661787033081055, 1.1571890115737915, 1.1657843589782715, 1.1568762063980103, 1.1629756689071655, 1.1642711162567139, 1.1674983501434326, 1.162601351737976, 1.1642634868621826, 1.170534610748291, 1.1692227125167847, 1.1721552610397339, 1.1605091094970703, 1.166059136390686, 1.1556719541549683, 1.1707088947296143, 1.1712177991867065, 1.175135612487793, 1.1609681844711304, 1.1626780033111572, 1.1693576574325562, 1.1714723110198975, 22.328086853027344, 18.174388885498047, 1.1755318641662598, 14.023782730102539, 15.928298950195312, 10.623555183410645, 13.264593124389648, 13.35050106048584, 7.974835395812988, 12.434264183044434, 14.280920028686523, 24.1383113861084, 8.896285057067871, 6.32368803024292, 8.881659507751465, 8.105820655822754, 6.291235446929932, 8.125594139099121, 14.274694442749023, 8.089925765991211, 8.107744216918945, 11.795658111572266, 9.010320663452148, 3.7217812538146973, 10.012255668640137, 7.283569812774658, 6.412653923034668, 6.326051235198975, 7.243571758270264, 3.7166025638580322, 6.369608402252197, 16.28434944152832, 5.547619342803955, 7.263737201690674, 8.117311477661133, 1.1556719541549683, 1.1583276987075806, 1.1568762063980103, 1.1571890115737915, 1.1640304327011108, 1.1618187427520752, 1.1609681844711304, 1.1669670343399048, 1.1675893068313599, 1.1605091094970703, 1.1561695337295532, 1.16306471824646, 1.1650381088256836, 1.1626780033111572, 1.1694390773773193, 1.167598843574524, 1.1676453351974487, 1.1692224740982056, 1.1703665256500244, 1.1801362037658691, 1.1737695932388306, 1.1681994199752808, 1.1652600765228271, 1.1685326099395752, 1.1717289686203003, 1.171165108680725, 1.1650390625, 1.167924404144287, 1.1698890924453735, 1.1706407070159912, 1.1791751384735107, 18.174388885498047, 22.328086853027344, 14.023782730102539, 24.1383113861084, 14.274694442749023, 15.928298950195312, 8.881659507751465, 8.117311477661133, 13.264593124389648, 12.434264183044434, 8.896285057067871, 7.974835395812988, 16.28434944152832, 4.599437713623047, 14.280920028686523, 10.623555183410645, 6.326051235198975, 13.35050106048584, 3.7347700595855713, 9.010320663452148, 8.089925765991211, 4.598024845123291, 3.744222402572632, 7.263737201690674, 8.107744216918945, 7.243571758270264, 6.291235446929932, 5.476993560791016, 4.63648796081543, 7.335080623626709, 11.795658111572266, 6.369608402252197, 8.105820655822754, 8.125594139099121, 10.012255668640137], \"loglift\": [30.0, 29.0, 28.0, 27.0, 26.0, 25.0, 24.0, 23.0, 22.0, 21.0, 20.0, 19.0, 18.0, 17.0, 16.0, 15.0, 14.0, 13.0, 12.0, 11.0, 10.0, 9.0, 8.0, 7.0, 6.0, 5.0, 4.0, 3.0, 2.0, 1.0, 0.0005000000237487257, 0.0005000000237487257, 0.00039999998989515007, 0.00039999998989515007, 0.00039999998989515007, 0.00039999998989515007, 0.00039999998989515007, 0.00039999998989515007, 0.00039999998989515007, 0.00039999998989515007, 0.00039999998989515007, 0.00039999998989515007, 0.00039999998989515007, 0.00039999998989515007, 0.00039999998989515007, 0.0003000000142492354, 0.0003000000142492354, 0.0003000000142492354, 0.0003000000142492354, 0.0003000000142492354, 0.0003000000142492354, 0.0003000000142492354, 0.0003000000142492354, 0.0003000000142492354, 0.0003000000142492354, 0.0003000000142492354, 0.0003000000142492354, 0.0003000000142492354, 0.0003000000142492354, 0.0003000000142492354, 0.0003000000142492354, 0.6261000037193298, 0.6223999857902527, 0.6208000183105469, 0.6205000281333923, 0.6049000024795532, 0.6008999943733215, 0.5963000059127808, 0.5946999788284302, 0.5946000218391418, 0.5935999751091003, 0.5928000211715698, 0.5921000242233276, 0.5917999744415283, 0.5906999707221985, 0.5906000137329102, 0.5893999934196472, 0.5877000093460083, 0.5867000222206116, 0.5863000154495239, 0.5852000117301941, 0.5827999711036682, 0.5823000073432922, 0.5809999704360962, 0.5803999900817871, 0.580299973487854, 0.5794000029563904, 0.5785999894142151, 0.5777000188827515, 0.5764999985694885, 0.5748999714851379, 0.5741999745368958, 0.573199987411499, -0.7376999855041504, -0.9067000150680542, 0.5713000297546387, -0.8467000126838684, -0.9391000270843506, -0.7049999833106995, -0.8410000205039978, -0.8675000071525574, -0.5745999813079834, -0.8585000038146973, -0.9509000182151794, -1.3097000122070312, -0.6998000144958496, -0.48170000314712524, -0.7081999778747559, -0.6507999897003174, -0.49459999799728394, -0.6636999845504761, -1.0674999952316284, -0.7010999917984009, -0.7160999774932861, -0.9914000034332275, -0.8065000176429749, -0.1965000033378601, -0.8847000002861023, -0.6736000180244446, -0.5846999883651733, -0.5903000235557556, -0.6888999938964844, -0.20919999480247498, -0.5971999764442444, -1.2759000062942505, -0.5024999976158142, -0.7289999723434448, -0.8366000056266785, 0.6317999958992004, 0.626800000667572, 0.6158999800682068, 0.613099992275238, 0.6129000186920166, 0.6119999885559082, 0.6118999719619751, 0.6118000149726868, 0.6098999977111816, 0.609499990940094, 0.6086000204086304, 0.6068999767303467, 0.6068000197410583, 0.6057999730110168, 0.6054999828338623, 0.604200005531311, 0.6035000085830688, 0.6031000018119812, 0.6029000282287598, 0.6013000011444092, 0.6010000109672546, 0.6000000238418579, 0.5993000268936157, 0.5993000268936157, 0.5989000201225281, 0.5983999967575073, 0.5976999998092651, 0.5975000262260437, 0.5974000096321106, 0.5968999862670898, 0.593999981880188, -0.8711000084877014, -1.0978000164031982, -0.9110999703407288, -1.2869999408721924, -0.9894000291824341, -1.0989999771118164, -0.7289000153541565, -0.6776000261306763, -1.0055999755859375, -0.9824000000953674, -0.7620999813079834, -0.703000009059906, -1.1894999742507935, -0.33160001039505005, -1.1260000467300415, -0.9217000007629395, -0.572700023651123, -1.095900058746338, -0.21400000154972076, -0.839900016784668, -0.7651000022888184, -0.3646000027656555, -0.22040000557899475, -0.701200008392334, -0.7813000082969666, -0.7039999961853027, -0.607200026512146, -0.5070000290870667, -0.3993000090122223, -0.7511000037193298, -1.1374000310897827, -0.6547999978065491, -0.85589998960495, -0.8791999816894531, -1.07260000705719], \"logprob\": [30.0, 29.0, 28.0, 27.0, 26.0, 25.0, 24.0, 23.0, 22.0, 21.0, 20.0, 19.0, 18.0, 17.0, 16.0, 15.0, 14.0, 13.0, 12.0, 11.0, 10.0, 9.0, 8.0, 7.0, 6.0, 5.0, 4.0, 3.0, 2.0, 1.0, -3.8132998943328857, -4.206900119781494, -4.529399871826172, -4.3383002281188965, -4.338699817657471, -4.229100227355957, -4.693399906158447, -4.405600070953369, -4.412099838256836, -4.476799964904785, -3.891400098800659, -4.0971999168396, -4.356500148773193, -4.798900127410889, -4.634200096130371, -5.0046000480651855, -4.902200222015381, -4.903299808502197, -4.904399871826172, -4.904699802398682, -5.011600017547607, -4.906599998474121, -4.811600208282471, -4.813300132751465, -5.014400005340576, -5.017199993133545, -5.138999938964844, -4.921000003814697, -5.1458001136779785, -5.280099868774414, -5.152599811553955, -6.22189998626709, -6.228499889373779, -6.2245001792907715, -6.226399898529053, -6.241799831390381, -6.2515997886657715, -6.248899936676025, -6.2530999183654785, -6.251399993896484, -6.25029993057251, -6.251100063323975, -6.259500026702881, -6.252399921417236, -6.261199951171875, -6.25600004196167, -6.256100177764893, -6.255000114440918, -6.260200023651123, -6.259200096130371, -6.255000114440918, -6.258399963378906, -6.256499767303467, -6.2677998542785645, -6.263599872589111, -6.272600173950195, -6.2606000900268555, -6.261000156402588, -6.258500099182129, -6.2718000411987305, -6.271999835968018, -6.266900062561035, -6.26609992980957, -4.629499912261963, -5.004300117492676, -6.264599800109863, -5.20359992980957, -5.168600082397461, -5.3394999504089355, -5.253499984741211, -5.273600101470947, -5.4959001541137695, -5.335700035095215, -5.289599895477295, -5.123499870300293, -5.5117998123168945, -5.635000228881836, -5.5218000411987305, -5.555799961090088, -5.6529998779296875, -5.566299915313721, -5.406599998474121, -5.608099937438965, -5.6209001541137695, -5.521299839019775, -5.605800151824951, -5.879899978637695, -5.578499794006348, -5.6855998039245605, -5.724100112915039, -5.743299961090088, -5.706299781799316, -5.894000053405762, -5.743199825286865, -5.48330020904541, -5.7866997718811035, -5.74370002746582, -5.740099906921387, -6.221099853515625, -6.223800182342529, -6.235899925231934, -6.238500118255615, -6.232800006866455, -6.235599994659424, -6.236400127410889, -6.231400012969971, -6.232800006866455, -6.239299774169922, -6.243899822235107, -6.23960018157959, -6.238100051879883, -6.241099834442139, -6.235499858856201, -6.238399982452393, -6.239200115203857, -6.238100051879883, -6.237400054931641, -6.230599880218506, -6.236299991607666, -6.242199897766113, -6.245299816131592, -6.242599964141846, -6.240200042724609, -6.241199970245361, -6.247200012207031, -6.244800090789795, -6.243299961090088, -6.243100166320801, -6.238800048828125, -4.968699932098389, -4.98960018157959, -5.267899990081787, -5.100800037384033, -5.328499794006348, -5.328499794006348, -5.542500019073486, -5.581200122833252, -5.418099880218506, -5.459499835968018, -5.574100017547607, -5.624300003051758, -5.396900177001953, -5.803299903869629, -5.464700222015381, -5.55620002746582, -5.725599765777588, -5.501999855041504, -5.893899917602539, -5.639200210571289, -5.672100067138672, -5.83650016784668, -5.897799968719482, -5.71589994430542, -5.686100006103516, -5.721499919891357, -5.765699863433838, -5.804100036621094, -5.8628997802734375, -5.756100177764893, -5.667300224304199, -5.800899982452393, -5.760900020599365, -5.781700134277344, -5.76639986038208]}, \"token.table\": {\"Topic\": [1, 1, 1, 1, 1, 1, 1, 1, 1, 1, 1, 1, 1, 1, 1, 1, 1, 1, 1, 1, 1, 1, 1, 1, 1, 1, 1, 1, 1, 1, 1, 1, 1, 1, 1, 1, 1, 1, 1, 1, 1, 1, 1, 1, 1, 1, 1, 1, 1, 1, 1, 1, 1, 1, 1, 1, 1, 1, 1, 1, 1, 1, 1, 1, 1, 1, 1, 1, 1, 1, 1, 1, 1, 1, 1, 1, 1, 1, 1, 1, 1, 1, 1, 1, 1, 1, 1, 1, 1, 1, 1, 1, 1, 1, 1, 1, 1, 1, 1], \"Freq\": [0.8544331789016724, 0.8519559502601624, 0.8635528087615967, 0.8601495623588562, 0.953707754611969, 0.8543105125427246, 0.8643967509269714, 1.0870894193649292, 0.8560182452201843, 0.8652974367141724, 0.8641630411148071, 0.8564244508743286, 0.8575894236564636, 0.9356500506401062, 0.8589121103286743, 0.9663740992546082, 0.8586828112602234, 0.8598632216453552, 0.8506787419319153, 0.9610671997070312, 1.0133241415023804, 0.860903263092041, 0.9825384616851807, 1.0031554698944092, 0.8589064478874207, 0.8610599637031555, 0.8649250864982605, 0.8552692532539368, 0.9737462401390076, 0.8564655184745789, 0.8509656190872192, 0.8581775426864624, 0.8534396886825562, 0.8536266684532166, 0.980052649974823, 0.9419731497764587, 0.8541833162307739, 0.8583410382270813, 0.963691234588623, 0.9855479598045349, 0.8616907596588135, 0.8633135557174683, 0.8613500595092773, 0.8551703691482544, 0.8577916026115417, 0.8557741641998291, 0.8538121581077576, 0.8607194423675537, 0.8593969345092773, 0.8565322756767273, 0.8597973585128784, 0.9803289771080017, 0.8590840697288513, 1.0173234939575195, 0.9867109656333923, 0.8480504155158997, 1.076251745223999, 0.9904046654701233, 1.0815449953079224, 1.074754238128662, 0.9983041286468506, 0.9853060841560364, 1.004501461982727, 1.0784024000167847, 0.9987759590148926, 0.8547818660736084, 0.9488134384155273, 0.847359836101532, 1.068312644958496, 0.858340322971344, 1.0874234437942505, 0.9807565212249756, 1.0354349613189697, 0.8538506031036377, 0.8562198281288147, 0.8575992584228516, 0.9988545775413513, 0.8531293272972107, 0.859978973865509, 0.8552690744400024, 1.0116581916809082, 0.9942700266838074, 0.8564585447311401, 0.9650751948356628, 0.9888842105865479, 0.9845433831214905, 1.077454686164856, 0.9484589695930481, 1.0710164308547974, 0.8575015068054199, 0.8600833415985107, 0.8542330861091614, 0.8569222092628479, 0.9869450926780701, 0.8551108241081238, 0.9543180465698242, 0.8601400852203369, 0.9129096269607544, 0.8586843609809875], \"Term\": [\"0\\u00b0 40' 37\\\"\", \"11\", \"27\\u00b0 15' 44\\\"\", \"27\\u00b0 36' scorpio\", \"3\", \"3\\u00b0 45' 45\\\"\", \"46\\u00bd\", \"5\", \"51\\u00bd\", \"56\\u00b0 35'\", \"7h\", \"9\", \"98,790\", \"also\", \"antiqu\", \"appear\", \"arab\", \"between\", \"book\", \"brahe\", \"bright\", \"brightest\", \"brow\", \"but\", \"call\", \"certain\", \"chapter\", \"clear\", \"cor\", \"correct\", \"correspond\", \"declin\", \"deduc\", \"describ\", \"differ\", \"distanc\", \"divis\", \"earlier\", \"eccentr\", \"elong\", \"epiphi\", \"examin\", \"experi\", \"find\", \"footprint\", \"foundat\", \"ground\", \"high\", \"imped\", \"intend\", \"know\", \"latitud\", \"least\", \"leoni\", \"let\", \"littl\", \"made\", \"mar\", \"motion\", \"node\", \"northern\", \"observ\", \"one\", \"opposit\", \"orb\", \"point\", \"posit\", \"prove\", \"proven\", \"proxim\", \"ptolema\", \"ptolemi\", \"ratio\", \"read\", \"reason\", \"scorpio\", \"scorpiu\", \"see\", \"seem\", \"simpler\", \"sinc\", \"star\", \"subtract\", \"sun\", \"therefor\", \"three\", \"thu\", \"time\", \"today\", \"togeth\", \"touch\", \"triangl\", \"twofold\", \"u\", \"us\", \"use\", \"variat\", \"word\", \"\\u03c3\\u03ba\\u03bf\\u03c1\\u03c0\\u03af\\u03bf\\u03c5\"]}, \"R\": 30, \"lambda.step\": 0.01, \"plot.opts\": {\"xlab\": \"PC1\", \"ylab\": \"PC2\"}, \"topic.order\": [3, 1, 2]};\n",
       "\n",
       "function LDAvis_load_lib(url, callback){\n",
       "  var s = document.createElement('script');\n",
       "  s.src = url;\n",
       "  s.async = true;\n",
       "  s.onreadystatechange = s.onload = callback;\n",
       "  s.onerror = function(){console.warn(\"failed to load library \" + url);};\n",
       "  document.getElementsByTagName(\"head\")[0].appendChild(s);\n",
       "}\n",
       "\n",
       "if(typeof(LDAvis) !== \"undefined\"){\n",
       "   // already loaded: just create the visualization\n",
       "   !function(LDAvis){\n",
       "       new LDAvis(\"#\" + \"ldavis_el45617089540337529256723409\", ldavis_el45617089540337529256723409_data);\n",
       "   }(LDAvis);\n",
       "}else if(typeof define === \"function\" && define.amd){\n",
       "   // require.js is available: use it to load d3/LDAvis\n",
       "   require.config({paths: {d3: \"https://cdnjs.cloudflare.com/ajax/libs/d3/3.5.5/d3.min\"}});\n",
       "   require([\"d3\"], function(d3){\n",
       "      window.d3 = d3;\n",
       "      LDAvis_load_lib(\"https://cdn.rawgit.com/bmabey/pyLDAvis/files/ldavis.v1.0.0.js\", function(){\n",
       "        new LDAvis(\"#\" + \"ldavis_el45617089540337529256723409\", ldavis_el45617089540337529256723409_data);\n",
       "      });\n",
       "    });\n",
       "}else{\n",
       "    // require.js not available: dynamically load d3 & LDAvis\n",
       "    LDAvis_load_lib(\"https://cdnjs.cloudflare.com/ajax/libs/d3/3.5.5/d3.min.js\", function(){\n",
       "         LDAvis_load_lib(\"https://cdn.rawgit.com/bmabey/pyLDAvis/files/ldavis.v1.0.0.js\", function(){\n",
       "                 new LDAvis(\"#\" + \"ldavis_el45617089540337529256723409\", ldavis_el45617089540337529256723409_data);\n",
       "            })\n",
       "         });\n",
       "}\n",
       "</script>"
      ],
      "text/plain": [
       "PreparedData(topic_coordinates=              x    y  topics  cluster       Freq\n",
       "topic                                           \n",
       "2      0.027380 -0.0       1        1  99.936340\n",
       "0     -0.011211 -0.0       2        1   0.031902\n",
       "1     -0.016168 -0.0       3        1   0.031752, topic_info=     Category       Freq      Term      Total  loglift  logprob\n",
       "term                                                           \n",
       "324   Default  22.000000    observ  22.000000  30.0000  30.0000\n",
       "297   Default  18.000000       mar  18.000000  29.0000  29.0000\n",
       "405   Default  24.000000      star  24.000000  28.0000  28.0000\n",
       "326   Default  15.000000       one  15.000000  27.0000  27.0000\n",
       "317   Default  14.000000  northern  14.000000  26.0000  26.0000\n",
       "188   Default  13.000000    differ  13.000000  25.0000  25.0000\n",
       "357   Default  14.000000   ptolemi  14.000000  24.0000  24.0000\n",
       "278   Default  14.000000   latitud  14.000000  23.0000  23.0000\n",
       "140   Default  16.000000      brow  16.000000  22.0000  22.0000\n",
       "170   Default  13.000000       cor  13.000000  21.0000  21.0000\n",
       "409   Default  12.000000       sun  12.000000  20.0000  20.0000\n",
       "361   Default  10.000000     ratio  10.000000  19.0000  19.0000\n",
       "285   Default  11.000000     leoni  11.000000  18.0000  18.0000\n",
       "138   Default   8.000000    bright   8.000000  17.0000  17.0000\n",
       "396   Default   8.000000      sinc   8.000000  16.0000  16.0000\n",
       "330   Default  10.000000       orb  10.000000  15.0000  15.0000\n",
       "379   Default   9.000000   scorpiu   9.000000  14.0000  14.0000\n",
       "141   Default   7.000000       but   7.000000  13.0000  13.0000\n",
       "415   Default   8.000000  therefor   8.000000  12.0000  12.0000\n",
       "433   Default   8.000000         u   8.000000  11.0000  11.0000\n",
       "286   Default   8.000000       let   8.000000  10.0000  10.0000\n",
       "206   Default   8.000000     elong   8.000000   9.0000   9.0000\n",
       "419   Default   8.000000     three   8.000000   8.0000   8.0000\n",
       "121   Default   7.000000    appear   7.000000   7.0000   7.0000\n",
       "200   Default   7.000000   eccentr   7.000000   6.0000   6.0000\n",
       "135   Default   7.000000     brahe   7.000000   5.0000   5.0000\n",
       "439   Default   7.000000       use   7.000000   4.0000   4.0000\n",
       "48    Default   6.000000         3   6.000000   3.0000   3.0000\n",
       "342   Default   6.000000     posit   6.000000   2.0000   2.0000\n",
       "422   Default   6.000000      time   6.000000   1.0000   1.0000\n",
       "...       ...        ...       ...        ...      ...      ...\n",
       "326    Topic3   0.001685       one  15.928299  -1.0990  -5.3285\n",
       "138    Topic3   0.001360    bright   8.881660  -0.7289  -5.5425\n",
       "206    Topic3   0.001309     elong   8.117311  -0.6776  -5.5812\n",
       "188    Topic3   0.001541    differ  13.264593  -1.0056  -5.4181\n",
       "409    Topic3   0.001478       sun  12.434264  -0.9824  -5.4595\n",
       "396    Topic3   0.001318      sinc   8.896285  -0.7621  -5.5741\n",
       "141    Topic3   0.001254       but   7.974835  -0.7030  -5.6243\n",
       "140    Topic3   0.001574      brow  16.284349  -1.1895  -5.3969\n",
       "65     Topic3   0.001048         5   4.599438  -0.3316  -5.8033\n",
       "278    Topic3   0.001471   latitud  14.280920  -1.1260  -5.4647\n",
       "361    Topic3   0.001342     ratio  10.623555  -0.9217  -5.5562\n",
       "422    Topic3   0.001133      time   6.326051  -0.5727  -5.7256\n",
       "170    Topic3   0.001417       cor  13.350501  -1.0959  -5.5020\n",
       "423    Topic3   0.000957     today   3.734770  -0.2140  -5.8939\n",
       "379    Topic3   0.001235   scorpiu   9.010321  -0.8399  -5.6392\n",
       "415    Topic3   0.001195  therefor   8.089926  -0.7651  -5.6721\n",
       "356    Topic3   0.001014   ptolema   4.598025  -0.3646  -5.8365\n",
       "353    Topic3   0.000954    proven   3.744222  -0.2204  -5.8978\n",
       "200    Topic3   0.001144   eccentr   7.263737  -0.7012  -5.7159\n",
       "286    Topic3   0.001179       let   8.107744  -0.7813  -5.6861\n",
       "121    Topic3   0.001138    appear   7.243572  -0.7040  -5.7215\n",
       "48     Topic3   0.001088         3   6.291235  -0.6072  -5.7657\n",
       "450    Topic3   0.001047      word   5.476994  -0.5070  -5.8041\n",
       "327    Topic3   0.000988   opposit   4.636488  -0.3993  -5.8629\n",
       "439    Topic3   0.001099       use   7.335081  -0.7511  -5.7561\n",
       "285    Topic3   0.001201     leoni  11.795658  -1.1374  -5.6673\n",
       "193    Topic3   0.001051   distanc   6.369608  -0.6548  -5.8009\n",
       "433    Topic3   0.001094         u   8.105821  -0.8559  -5.7609\n",
       "419    Topic3   0.001071     three   8.125594  -0.8792  -5.7817\n",
       "330    Topic3   0.001088       orb  10.012256  -1.0726  -5.7664\n",
       "\n",
       "[194 rows x 6 columns], token_table=      Topic      Freq             Term\n",
       "term                                  \n",
       "0         1  0.854433       0° 40' 37\"\n",
       "6         1  0.851956               11\n",
       "39        1  0.863553      27° 15' 44\"\n",
       "41        1  0.860150  27° 36' scorpio\n",
       "48        1  0.953708                3\n",
       "54        1  0.854311       3° 45' 45\"\n",
       "59        1  0.864397              46½\n",
       "65        1  1.087089                5\n",
       "67        1  0.856018              51½\n",
       "69        1  0.865297          56° 35'\n",
       "82        1  0.864163               7h\n",
       "86        1  0.856424                9\n",
       "88        1  0.857589           98,790\n",
       "108       1  0.935650             also\n",
       "117       1  0.858912           antiqu\n",
       "121       1  0.966374           appear\n",
       "124       1  0.858683             arab\n",
       "132       1  0.859863          between\n",
       "134       1  0.850679             book\n",
       "135       1  0.961067            brahe\n",
       "138       1  1.013324           bright\n",
       "139       1  0.860903        brightest\n",
       "140       1  0.982538             brow\n",
       "141       1  1.003155              but\n",
       "143       1  0.858906             call\n",
       "148       1  0.861060          certain\n",
       "149       1  0.864925          chapter\n",
       "152       1  0.855269            clear\n",
       "170       1  0.973746              cor\n",
       "171       1  0.856466          correct\n",
       "...     ...       ...              ...\n",
       "354       1  0.858340           proxim\n",
       "356       1  1.087423          ptolema\n",
       "357       1  0.980757          ptolemi\n",
       "361       1  1.035435            ratio\n",
       "362       1  0.853851             read\n",
       "364       1  0.856220           reason\n",
       "378       1  0.857599          scorpio\n",
       "379       1  0.998855          scorpiu\n",
       "381       1  0.853129              see\n",
       "382       1  0.859979             seem\n",
       "394       1  0.855269          simpler\n",
       "396       1  1.011658             sinc\n",
       "405       1  0.994270             star\n",
       "407       1  0.856459         subtract\n",
       "409       1  0.965075              sun\n",
       "415       1  0.988884         therefor\n",
       "419       1  0.984543            three\n",
       "421       1  1.077455              thu\n",
       "422       1  0.948459             time\n",
       "423       1  1.071016            today\n",
       "424       1  0.857502           togeth\n",
       "425       1  0.860083            touch\n",
       "429       1  0.854233          triangl\n",
       "432       1  0.856922          twofold\n",
       "433       1  0.986945                u\n",
       "438       1  0.855111               us\n",
       "439       1  0.954318              use\n",
       "443       1  0.860140           variat\n",
       "450       1  0.912910             word\n",
       "458       1  0.858684         σκορπίου\n",
       "\n",
       "[99 rows x 3 columns], R=30, lambda_step=0.01, plot_opts={'xlab': 'PC1', 'ylab': 'PC2'}, topic_order=[3, 1, 2])"
      ]
     },
     "execution_count": 207,
     "metadata": {},
     "output_type": "execute_result"
    }
   ],
   "source": [
    "vis"
   ]
  },
  {
   "cell_type": "code",
   "execution_count": 90,
   "metadata": {},
   "outputs": [],
   "source": [
    "pyLDAvis.save_html(vis,'vis.html') # You can open saved html file  (vis_01)in your browser to see the result. "
   ]
  },
  {
   "cell_type": "markdown",
   "metadata": {},
   "source": [
    "<font size= \"4\">\n",
    "How can we find that how many topics are proper for the model?\n",
    "<font/>"
   ]
  },
  {
   "cell_type": "markdown",
   "metadata": {},
   "source": [
    "## **Coherence Metric**"
   ]
  },
  {
   "cell_type": "code",
   "execution_count": null,
   "metadata": {},
   "outputs": [],
   "source": []
  }
 ],
 "metadata": {
  "kernelspec": {
   "display_name": "Python 3",
   "language": "python",
   "name": "python3"
  },
  "language_info": {
   "codemirror_mode": {
    "name": "ipython",
    "version": 3
   },
   "file_extension": ".py",
   "mimetype": "text/x-python",
   "name": "python",
   "nbconvert_exporter": "python",
   "pygments_lexer": "ipython3",
   "version": "3.7.1"
  }
 },
 "nbformat": 4,
 "nbformat_minor": 2
}
