{
 "cells": [
  {
   "cell_type": "markdown",
   "metadata": {},
   "source": [
    "# Regex and Prodigy (Merging)\n",
    "\n"
   ]
  },
  {
   "cell_type": "markdown",
   "metadata": {},
   "source": [
    "<font size= \"3\">\n",
    "Annotation of entities for sentences based on prodigy's format for different labels for further usage in Machine learning. Prodigy is an annotation tool based on spaCy. Please see here:\n",
    "    </p>\n",
    "  <a href=\"https://prodi.gy/ \"> Prodigy </a> \n",
    "<font 3>"
   ]
  },
  {
   "cell_type": "markdown",
   "metadata": {},
   "source": [
    "## Imports"
   ]
  },
  {
   "cell_type": "code",
   "execution_count": 7,
   "metadata": {
    "collapsed": true
   },
   "outputs": [],
   "source": [
    "import pandas as pd\n",
    "import re\n",
    "import pandas as pd\n",
    "import matplotlib.pyplot as plt\n",
    "import scipy as sp\n",
    "import spacy \n",
    "import re\n",
    "from prodigy.util import write_jsonl\n",
    "import prodigy\n",
    "\n"
   ]
  },
  {
   "cell_type": "markdown",
   "metadata": {},
   "source": [
    "## Read the Data"
   ]
  },
  {
   "cell_type": "code",
   "execution_count": 2,
   "metadata": {
    "collapsed": true
   },
   "outputs": [],
   "source": [
    "importVersion = '013'"
   ]
  },
  {
   "cell_type": "code",
   "execution_count": 3,
   "metadata": {
    "collapsed": true
   },
   "outputs": [],
   "source": [
    "path= '../data/01_df_v{0}.pickle'.format(importVersion)# Put the path of the data in your local machine here, consider the letter \"r\" before the path\n",
    "dfAstroNova = pd.read_pickle(path)"
   ]
  },
  {
   "cell_type": "code",
   "execution_count": 4,
   "metadata": {},
   "outputs": [
    {
     "data": {
      "text/plain": [
       "pandas.core.frame.DataFrame"
      ]
     },
     "execution_count": 4,
     "metadata": {},
     "output_type": "execute_result"
    }
   ],
   "source": [
    "type(dfAstroNova)"
   ]
  },
  {
   "cell_type": "code",
   "execution_count": 5,
   "metadata": {},
   "outputs": [
    {
     "data": {
      "text/html": [
       "<div>\n",
       "<style scoped>\n",
       "    .dataframe tbody tr th:only-of-type {\n",
       "        vertical-align: middle;\n",
       "    }\n",
       "\n",
       "    .dataframe tbody tr th {\n",
       "        vertical-align: top;\n",
       "    }\n",
       "\n",
       "    .dataframe thead th {\n",
       "        text-align: right;\n",
       "    }\n",
       "</style>\n",
       "<table border=\"1\" class=\"dataframe\">\n",
       "  <thead>\n",
       "    <tr style=\"text-align: right;\">\n",
       "      <th></th>\n",
       "      <th>html</th>\n",
       "      <th>text</th>\n",
       "      <th>links</th>\n",
       "      <th>italic</th>\n",
       "      <th>chapter</th>\n",
       "      <th>graphic</th>\n",
       "      <th>table</th>\n",
       "      <th>marginal</th>\n",
       "      <th>sentences</th>\n",
       "      <th>tagged</th>\n",
       "    </tr>\n",
       "  </thead>\n",
       "  <tbody>\n",
       "    <tr>\n",
       "      <th>0</th>\n",
       "      <td>&lt;p&gt;Appendix B&lt;/p&gt;</td>\n",
       "      <td>Appendix B</td>\n",
       "      <td>[]</td>\n",
       "      <td>[]</td>\n",
       "      <td>appendix b</td>\n",
       "      <td>[]</td>\n",
       "      <td>[]</td>\n",
       "      <td>[]</td>\n",
       "      <td>[Appendix B]</td>\n",
       "      <td>[[(Appendix, None), (B, None)]]</td>\n",
       "    </tr>\n",
       "    <tr>\n",
       "      <th>1</th>\n",
       "      <td>&lt;p&gt;&lt;span class=\"anchor\" id=\"bookmark0\"&gt;&lt;/span&gt;...</td>\n",
       "      <td>On the Table of Oppositions in Chapter 15</td>\n",
       "      <td>[]</td>\n",
       "      <td>[]</td>\n",
       "      <td>appendix b</td>\n",
       "      <td>[]</td>\n",
       "      <td>[]</td>\n",
       "      <td>[]</td>\n",
       "      <td>[On the Table of Oppositions in Chapter 15]</td>\n",
       "      <td>[[(On, None), (the, None), (Table, None), (of,...</td>\n",
       "    </tr>\n",
       "    <tr>\n",
       "      <th>2</th>\n",
       "      <td>&lt;p&gt;by Yaakov Zik &lt;span style=\"font-variant: sm...</td>\n",
       "      <td>by Yaakov Zik Table i:</td>\n",
       "      <td>[]</td>\n",
       "      <td>[]</td>\n",
       "      <td>appendix b</td>\n",
       "      <td>[]</td>\n",
       "      <td>[]</td>\n",
       "      <td>[]</td>\n",
       "      <td>[by Yaakov Zik Table i:]</td>\n",
       "      <td>[[(by, None), (Yaakov, None), (Zik, None), (Ta...</td>\n",
       "    </tr>\n",
       "    <tr>\n",
       "      <th>3</th>\n",
       "      <td>&lt;p&gt;&lt;span class=\"anchor\" id=\"bookmark1\"&gt;&lt;/span&gt;...</td>\n",
       "      <td>Initial positions of Mars in Chapter 15 comput...</td>\n",
       "      <td>[]</td>\n",
       "      <td>[]</td>\n",
       "      <td>appendix b</td>\n",
       "      <td>[]</td>\n",
       "      <td>[]</td>\n",
       "      <td>[]</td>\n",
       "      <td>[Initial positions of Mars in Chapter 15 compu...</td>\n",
       "      <td>[[(Initial, None), (positions, None), (of, Non...</td>\n",
       "    </tr>\n",
       "    <tr>\n",
       "      <th>4</th>\n",
       "      <td>&lt;p&gt;General notes:&lt;/p&gt;</td>\n",
       "      <td>General notes:</td>\n",
       "      <td>[]</td>\n",
       "      <td>[]</td>\n",
       "      <td>appendix b</td>\n",
       "      <td>[]</td>\n",
       "      <td>[]</td>\n",
       "      <td>[]</td>\n",
       "      <td>[General notes:]</td>\n",
       "      <td>[[(General, None), (notes, None)]]</td>\n",
       "    </tr>\n",
       "  </tbody>\n",
       "</table>\n",
       "</div>"
      ],
      "text/plain": [
       "                                                html  \\\n",
       "0                                  <p>Appendix B</p>   \n",
       "1  <p><span class=\"anchor\" id=\"bookmark0\"></span>...   \n",
       "2  <p>by Yaakov Zik <span style=\"font-variant: sm...   \n",
       "3  <p><span class=\"anchor\" id=\"bookmark1\"></span>...   \n",
       "4                              <p>General notes:</p>   \n",
       "\n",
       "                                                text links italic     chapter  \\\n",
       "0                                         Appendix B    []     []  appendix b   \n",
       "1          On the Table of Oppositions in Chapter 15    []     []  appendix b   \n",
       "2                             by Yaakov Zik Table i:    []     []  appendix b   \n",
       "3  Initial positions of Mars in Chapter 15 comput...    []     []  appendix b   \n",
       "4                                     General notes:    []     []  appendix b   \n",
       "\n",
       "  graphic table marginal                                          sentences  \\\n",
       "0      []    []       []                                       [Appendix B]   \n",
       "1      []    []       []        [On the Table of Oppositions in Chapter 15]   \n",
       "2      []    []       []                           [by Yaakov Zik Table i:]   \n",
       "3      []    []       []  [Initial positions of Mars in Chapter 15 compu...   \n",
       "4      []    []       []                                   [General notes:]   \n",
       "\n",
       "                                              tagged  \n",
       "0                    [[(Appendix, None), (B, None)]]  \n",
       "1  [[(On, None), (the, None), (Table, None), (of,...  \n",
       "2  [[(by, None), (Yaakov, None), (Zik, None), (Ta...  \n",
       "3  [[(Initial, None), (positions, None), (of, Non...  \n",
       "4                 [[(General, None), (notes, None)]]  "
      ]
     },
     "execution_count": 5,
     "metadata": {},
     "output_type": "execute_result"
    }
   ],
   "source": [
    "dfAstroNova.head(5)"
   ]
  },
  {
   "cell_type": "code",
   "execution_count": 6,
   "metadata": {},
   "outputs": [
    {
     "data": {
      "text/plain": [
       "1605"
      ]
     },
     "execution_count": 6,
     "metadata": {},
     "output_type": "execute_result"
    }
   ],
   "source": [
    "len(dfAstroNova)"
   ]
  },
  {
   "cell_type": "code",
   "execution_count": 7,
   "metadata": {},
   "outputs": [
    {
     "data": {
      "text/plain": [
       "1605"
      ]
     },
     "execution_count": 7,
     "metadata": {},
     "output_type": "execute_result"
    }
   ],
   "source": [
    "len(dfAstroNova['tagged'] )"
   ]
  },
  {
   "cell_type": "markdown",
   "metadata": {},
   "source": [
    "### Read the Sentences"
   ]
  },
  {
   "cell_type": "code",
   "execution_count": 8,
   "metadata": {},
   "outputs": [],
   "source": [
    "df=dfAstroNova.sentences"
   ]
  },
  {
   "cell_type": "code",
   "execution_count": 9,
   "metadata": {},
   "outputs": [],
   "source": [
    "texts=[]\n",
    "for sen in dfAstroNova.sentences:\n",
    "    texts +=sen"
   ]
  },
  {
   "cell_type": "code",
   "execution_count": 10,
   "metadata": {},
   "outputs": [
    {
     "data": {
      "text/plain": [
       "['Appendix B',\n",
       " 'On the Table of Oppositions in Chapter 15',\n",
       " 'by Yaakov Zik Table i:',\n",
       " 'Initial positions of Mars in Chapter 15 computed with Guide 9 using JPL DE430.',\n",
       " 'General notes:',\n",
       " \"The time is measured from midnight; Gregorian dates are obtained by adding 10 days to Kepler's dates.\",\n",
       " 'The dates are given in old style.',\n",
       " 'Geographical coordinates: Uraniborg 12 41 46 E, 55 54 30 N [50m]; Wandesburg (Wandsbek-Hamburg) 10 05 53 E, 53 35 10 N [15m]; Prague 14 26 E, 53 35 10 N [250m].',\n",
       " 'The longitudes are given in geocentric ecliptic coordinates.',\n",
       " '1 2345']"
      ]
     },
     "execution_count": 10,
     "metadata": {},
     "output_type": "execute_result"
    }
   ],
   "source": [
    "texts[0:10]"
   ]
  },
  {
   "cell_type": "markdown",
   "metadata": {},
   "source": [
    "# Merging  Based on Consistant format with Prodigy "
   ]
  },
  {
   "cell_type": "markdown",
   "metadata": {},
   "source": [
    "<fig size= 3>\n",
    "We annotated the text label by label using regex, In this way we  could see influence of each label.Then, each annotation is corrected by a annotater using prodigy interface. Morever we run a ner.batch-train to  use Prodigy to make more corrections. Now we can merge this 4 versions of our data in a single version of corrected annotated data by annotater and prodigy.\n",
    "\n",
    "    \n",
    "<fig size>"
   ]
  },
  {
   "cell_type": "markdown",
   "metadata": {},
   "source": [
    "## Merging DATE, TIME and ASTR"
   ]
  },
  {
   "cell_type": "markdown",
   "metadata": {},
   "source": [
    "<fig size= 3>\n",
    "Annotations refer to:\n",
    "<ul>\n",
    "    \n",
    "<li>ASTR: Astronomical sizes </li>\n",
    "<li>DATE: All types of date </li>\n",
    "<li>TIME: All types of time </li>\n",
    "<li>PARA: Parameters for geometric models</li>\n",
    "<fig size>\n",
    "    </ul>"
   ]
  },
  {
   "cell_type": "code",
   "execution_count": 9,
   "metadata": {},
   "outputs": [],
   "source": [
    "from prodigy.components.db import connect\n",
    "#datasets = ['an_ner_date_01', 'an_ner_time_01']\n",
    "\n",
    "db = connect() # uses the settings in your prodigy.json\n",
    "                                     \n",
    "datasets = ['an_ner_date_01', 'an_ner_astr_01']\n",
    "merged_examples = []\n",
    "for dataset in datasets:\n",
    "    examples = db.get_dataset(dataset)\n",
    "    merged_examples += examples\n",
    "\n",
    "db.add_dataset('an_ner_date_astr_01')  # however you want to call the new set\n",
    "db.add_examples(merged_examples, datasets=['an_ner_date_astr_01'])"
   ]
  },
  {
   "cell_type": "code",
   "execution_count": null,
   "metadata": {},
   "outputs": [],
   "source": [
    "from prodigy import set_hashes\n",
    "\n",
    "merged_dataset = [set_hashes(eg, overwrite=True) for eg in merged_dataset]\n",
    "db.add_dataset('merged_dataset')\n",
    "db.add_examples(mergex_examples, datasets=['merged_dataset'])"
   ]
  },
  {
   "cell_type": "markdown",
   "metadata": {},
   "source": [
    "## See Misaligned Tokens"
   ]
  },
  {
   "cell_type": "markdown",
   "metadata": {},
   "source": [
    "<fig size= 3>\n",
    "This step is very important, since if Pordigy faces with Misaligned tokens, we can see that before and try to adjust regex accordingly\n",
    "<fig size>"
   ]
  },
  {
   "cell_type": "code",
   "execution_count": 8,
   "metadata": {},
   "outputs": [],
   "source": [
    "nlp = spacy.load(\"en_core_web_sm\")  \n",
    "for example in merged_examples:  \n",
    "    doc = nlp(example[\"text\"])\n",
    "    for span in example[\"spans\"]:\n",
    "        char_span = doc.char_span(span[\"start\"], span[\"end\"])\n",
    "        if char_span is None:  \n",
    "            print(\"Misaligned tokens\", example[\"text\"], span)"
   ]
  },
  {
   "cell_type": "code",
   "execution_count": 32,
   "metadata": {},
   "outputs": [
    {
     "data": {
      "text/plain": [
       "[{'text': 'And the table has 12° 43’ 45”.', 'spans': []},\n",
       " {'text': 'On 1595 October 30 at 8h 20m, they found Mars at 17° 48’ Taurus, with a diurnal motion of 22’ 54” ^15.',\n",
       "  'spans': [{'start': 22, 'end': 29, 'label': 'TIME'}]},\n",
       " {'text': 'The designated moment preceded by 11h 48m, for which is required a motion of Mars of 11’ 7” eastward, so that it would be at 17° 59’ 7” Taurus.',\n",
       "  'spans': [{'start': 34, 'end': 42, 'label': 'TIME'}]},\n",
       " {'text': 'But it was projected eastward on account of parallax.',\n",
       "  'spans': []},\n",
       " {'text': 'Therefore, possibly using another observation on the meridian, they put down 17° 56’ 15” Taurus in the table.',\n",
       "  'spans': []},\n",
       " {'text': 'On 1597 December 10 at 8h 30m, they first placed Mars at 3° 30’ Cancer, and again at 4° 1’ Cancer, the mean being 3° 45½’ Cancer ^16.',\n",
       "  'spans': [{'start': 23, 'end': 30, 'label': 'TIME'}]},\n",
       " {'text': 'The moment of opposition came 3 days 5h 5m later, to which, from Magini, corresponds 1° 15’ westward.',\n",
       "  'spans': [{'start': 37, 'end': 42, 'label': 'TIME'}]},\n",
       " {'text': 'Therefore, Mars would have been at 2° 30½’ Cancer.', 'spans': []},\n",
       " {'text': 'In the table, it was put at 2° 28’.', 'spans': []},\n",
       " {'text': 'The reason for the rough measurement, carried out with a measuring staff, is clear from the date.',\n",
       "  'spans': []}]"
      ]
     },
     "execution_count": 32,
     "metadata": {},
     "output_type": "execute_result"
    }
   ],
   "source": [
    "examples [150:160]  # here we can search for Misaligned Tokens and try to find a remedy by regex"
   ]
  },
  {
   "cell_type": "code",
   "execution_count": 33,
   "metadata": {},
   "outputs": [
    {
     "data": {
      "text/plain": [
       "'8h 20m'"
      ]
     },
     "execution_count": 33,
     "metadata": {},
     "output_type": "execute_result"
    }
   ],
   "source": [
    "text= \"On 1595 October 30 at 8h 20m, they found Mars at 17° 48’ Taurus, with a diurnal motion of 22’ 54” ^15.\"  #try to find the Misaligned Tokens\n",
    "text[22:28]"
   ]
  }
 ],
 "metadata": {
  "kernelspec": {
   "display_name": "Python 3",
   "language": "python",
   "name": "python3"
  },
  "language_info": {
   "codemirror_mode": {
    "name": "ipython",
    "version": 3
   },
   "file_extension": ".py",
   "mimetype": "text/x-python",
   "name": "python",
   "nbconvert_exporter": "python",
   "pygments_lexer": "ipython3",
   "version": "3.7.1"
  }
 },
 "nbformat": 4,
 "nbformat_minor": 2
}
