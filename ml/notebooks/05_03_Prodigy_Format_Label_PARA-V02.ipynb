{
 "cells": [
  {
   "cell_type": "markdown",
   "metadata": {},
   "source": [
    "# Regex and Prodigy (LABEL: PARA for ASTRONOMICAL SIZES)\n",
    "\n"
   ]
  },
  {
   "cell_type": "markdown",
   "metadata": {},
   "source": [
    "<font size= \"3\">\n",
    "Annotation of entities for sentences based on prodigy's format for different labels for further usage in Machine learning. Prodigy is an annotation tool based on spaCy. Please see here:\n",
    "    </p>\n",
    "  <a href=\"https://prodi.gy/ \"> Prodigy </a> \n",
    "<font 3>"
   ]
  },
  {
   "cell_type": "markdown",
   "metadata": {},
   "source": [
    "## Imports"
   ]
  },
  {
   "cell_type": "code",
   "execution_count": 1,
   "metadata": {
    "collapsed": true
   },
   "outputs": [],
   "source": [
    "import pandas as pd\n",
    "import numpy as np\n",
    "import re\n",
    "import pandas as pd\n",
    "import matplotlib.pyplot as plt\n",
    "import scipy as sp\n",
    "import spacy \n",
    "import re\n",
    "from prodigy.util import write_jsonl\n",
    "\n",
    "\n",
    "\n"
   ]
  },
  {
   "cell_type": "markdown",
   "metadata": {},
   "source": [
    "To save a new pickel file set to true"
   ]
  },
  {
   "cell_type": "markdown",
   "metadata": {},
   "source": [
    "## Read the Data"
   ]
  },
  {
   "cell_type": "code",
   "execution_count": 2,
   "metadata": {
    "collapsed": true
   },
   "outputs": [],
   "source": [
    "importVersion = '013'"
   ]
  },
  {
   "cell_type": "code",
   "execution_count": 3,
   "metadata": {
    "collapsed": true
   },
   "outputs": [],
   "source": [
    "path= '../data/01_df_v{0}.pickle'.format(importVersion)# Put the path of the data in your local machine here, consider the letter \"r\" before the path\n",
    "dfAstroNova = pd.read_pickle(path)"
   ]
  },
  {
   "cell_type": "markdown",
   "metadata": {},
   "source": [
    "# Sort based on the Chapter "
   ]
  },
  {
   "cell_type": "code",
   "execution_count": 5,
   "metadata": {},
   "outputs": [],
   "source": [
    "# Sort the data based on the chapters of the book \n",
    "dfAstroNova['chapter'] = dfAstroNova.chapter.replace(\"appendix b\",np.nan).astype(float)  \n",
    "dfAstroNova = dfAstroNova.rename_axis('MyIdx').sort_values(by = ['chapter', 'MyIdx'], ascending = [True, True])\n",
    "dfAstroNova.chapter.fillna('appendix b', inplace=True)"
   ]
  },
  {
   "cell_type": "code",
   "execution_count": 6,
   "metadata": {},
   "outputs": [],
   "source": [
    "dfAstroNova.reset_index(inplace=True)\n",
    "dfAstroNova=dfAstroNova.drop(\"MyIdx\",axis=1,inplace=False)\n",
    "dfAstroNova=dfAstroNova.drop(\"html\",axis=1)"
   ]
  },
  {
   "cell_type": "code",
   "execution_count": 7,
   "metadata": {},
   "outputs": [
    {
     "data": {
      "text/plain": [
       "pandas.core.frame.DataFrame"
      ]
     },
     "execution_count": 7,
     "metadata": {},
     "output_type": "execute_result"
    }
   ],
   "source": [
    "type(dfAstroNova)"
   ]
  },
  {
   "cell_type": "code",
   "execution_count": 8,
   "metadata": {},
   "outputs": [
    {
     "data": {
      "text/html": [
       "<div>\n",
       "<style scoped>\n",
       "    .dataframe tbody tr th:only-of-type {\n",
       "        vertical-align: middle;\n",
       "    }\n",
       "\n",
       "    .dataframe tbody tr th {\n",
       "        vertical-align: top;\n",
       "    }\n",
       "\n",
       "    .dataframe thead th {\n",
       "        text-align: right;\n",
       "    }\n",
       "</style>\n",
       "<table border=\"1\" class=\"dataframe\">\n",
       "  <thead>\n",
       "    <tr style=\"text-align: right;\">\n",
       "      <th></th>\n",
       "      <th>text</th>\n",
       "      <th>links</th>\n",
       "      <th>italic</th>\n",
       "      <th>chapter</th>\n",
       "      <th>graphic</th>\n",
       "      <th>table</th>\n",
       "      <th>marginal</th>\n",
       "      <th>sentences</th>\n",
       "      <th>tagged</th>\n",
       "    </tr>\n",
       "  </thead>\n",
       "  <tbody>\n",
       "    <tr>\n",
       "      <th>0</th>\n",
       "      <td>Chapter 1</td>\n",
       "      <td>[]</td>\n",
       "      <td>[]</td>\n",
       "      <td>1</td>\n",
       "      <td>[]</td>\n",
       "      <td>[]</td>\n",
       "      <td>[]</td>\n",
       "      <td>[Chapter 1]</td>\n",
       "      <td>[[(Chapter, None), (1, NUM)]]</td>\n",
       "    </tr>\n",
       "    <tr>\n",
       "      <th>1</th>\n",
       "      <td>On the distinction between the first motion an...</td>\n",
       "      <td>[]</td>\n",
       "      <td>[]</td>\n",
       "      <td>1</td>\n",
       "      <td>[]</td>\n",
       "      <td>[]</td>\n",
       "      <td>[]</td>\n",
       "      <td>[On the distinction between the first motion a...</td>\n",
       "      <td>[[(On, None), (the, None), (distinction, None)...</td>\n",
       "    </tr>\n",
       "    <tr>\n",
       "      <th>2</th>\n",
       "      <td>The testimony of the ages confirms that the mo...</td>\n",
       "      <td>[]</td>\n",
       "      <td>[]</td>\n",
       "      <td>1</td>\n",
       "      <td>[]</td>\n",
       "      <td>[]</td>\n",
       "      <td>[ Terms: 1. The first motion is that of the wh...</td>\n",
       "      <td>[The testimony of the ages confirms that the m...</td>\n",
       "      <td>[[(The, None), (testimony, None), (of, None), ...</td>\n",
       "    </tr>\n",
       "    <tr>\n",
       "      <th>3</th>\n",
       "      <td>It is just this from which astronomy arose amo...</td>\n",
       "      <td>[]</td>\n",
       "      <td>[]</td>\n",
       "      <td>1</td>\n",
       "      <td>[ ch 1 gr 1]</td>\n",
       "      <td>[]</td>\n",
       "      <td>[]</td>\n",
       "      <td>[It is just this from which astronomy arose am...</td>\n",
       "      <td>[[(It, None), (is, None), (just, None), (this,...</td>\n",
       "    </tr>\n",
       "    <tr>\n",
       "      <th>4</th>\n",
       "      <td>Before the distinction between the first motio...</td>\n",
       "      <td>[]</td>\n",
       "      <td>[(such]</td>\n",
       "      <td>1</td>\n",
       "      <td>[]</td>\n",
       "      <td>[]</td>\n",
       "      <td>[ 2]</td>\n",
       "      <td>[Before the distinction between the first moti...</td>\n",
       "      <td>[[(Before, None), (the, None), (distinction, N...</td>\n",
       "    </tr>\n",
       "  </tbody>\n",
       "</table>\n",
       "</div>"
      ],
      "text/plain": [
       "                                                text links   italic chapter  \\\n",
       "0                                          Chapter 1    []       []       1   \n",
       "1  On the distinction between the first motion an...    []       []       1   \n",
       "2  The testimony of the ages confirms that the mo...    []       []       1   \n",
       "3  It is just this from which astronomy arose amo...    []       []       1   \n",
       "4  Before the distinction between the first motio...    []  [(such]       1   \n",
       "\n",
       "        graphic table                                           marginal  \\\n",
       "0            []    []                                                 []   \n",
       "1            []    []                                                 []   \n",
       "2            []    []  [ Terms: 1. The first motion is that of the wh...   \n",
       "3  [ ch 1 gr 1]    []                                                 []   \n",
       "4            []    []                                               [ 2]   \n",
       "\n",
       "                                           sentences  \\\n",
       "0                                        [Chapter 1]   \n",
       "1  [On the distinction between the first motion a...   \n",
       "2  [The testimony of the ages confirms that the m...   \n",
       "3  [It is just this from which astronomy arose am...   \n",
       "4  [Before the distinction between the first moti...   \n",
       "\n",
       "                                              tagged  \n",
       "0                      [[(Chapter, None), (1, NUM)]]  \n",
       "1  [[(On, None), (the, None), (distinction, None)...  \n",
       "2  [[(The, None), (testimony, None), (of, None), ...  \n",
       "3  [[(It, None), (is, None), (just, None), (this,...  \n",
       "4  [[(Before, None), (the, None), (distinction, N...  "
      ]
     },
     "execution_count": 8,
     "metadata": {},
     "output_type": "execute_result"
    }
   ],
   "source": [
    "dfAstroNova.head(5)"
   ]
  },
  {
   "cell_type": "markdown",
   "metadata": {},
   "source": [
    "### Read the Sentences"
   ]
  },
  {
   "cell_type": "code",
   "execution_count": 9,
   "metadata": {},
   "outputs": [],
   "source": [
    "df=dfAstroNova.sentences"
   ]
  },
  {
   "cell_type": "code",
   "execution_count": 11,
   "metadata": {},
   "outputs": [],
   "source": [
    "sents=[]\n",
    "for para in dfAstroNova.sentences:\n",
    "    sents += para\n",
    "\n",
    "    "
   ]
  },
  {
   "cell_type": "code",
   "execution_count": 12,
   "metadata": {},
   "outputs": [
    {
     "data": {
      "text/plain": [
       "6699"
      ]
     },
     "execution_count": 12,
     "metadata": {},
     "output_type": "execute_result"
    }
   ],
   "source": [
    "len(sents)"
   ]
  },
  {
   "cell_type": "markdown",
   "metadata": {},
   "source": [
    "## Annotation Based on Consistant format with Prodigy "
   ]
  },
  {
   "cell_type": "markdown",
   "metadata": {},
   "source": [
    "<fig size= 3>\n",
    "Prodigy accept a specific format; a JSONL format (newline-delimited JSON). Entities and other highlighted spans of text can be defined in the \"spans\" property. A example could look like this dictionary:\n",
    "</p>    \n",
    "text': 'On 1595 October 30 at 8h 20m, they found Mars at 17° 48’ Taurus, with a diurnal motion of 22’ 54” ^15.',\n",
    "  'spans': [{'start': 22, 'end': 29, 'label': 'TIME'}]}\n",
    "</p>\n",
    "which start and end's numbers refer to the position of entitiy  in the sentence. (here TIME)\n",
    "\n",
    "    \n",
    "<fig size>"
   ]
  },
  {
   "cell_type": "code",
   "execution_count": 48,
   "metadata": {},
   "outputs": [],
   "source": [
    "import re\n",
    "from prodigy.util import write_jsonl\n",
    "\n",
    "label = \"PARA\"   # whatever label you want to use\n",
    "texts = sents  # a list of your texts\n",
    "regex_patterns = [\n",
    "re.compile(r'(?<!\\S)\\d{1,3}(?:,\\d{3})+?(?!\\S?\\S)')\n",
    "examples = []\n",
    "for text in texts:\n",
    "    for expression in regex_patterns:\n",
    "        spans = []\n",
    "    for match in re.finditer(expression, text):\n",
    "        start, end = match.span()\n",
    "        span = {\"start\": start, \"end\": end, \"label\": label}\n",
    "        spans.append(span)\n",
    "    task = {\"text\": text, \"spans\": spans}\n",
    "    examples.append(task)              \n",
    "\n",
    "write_jsonl(\"NER_PARA_V02.jsonl\", examples)"
   ]
  },
  {
   "cell_type": "code",
   "execution_count": 49,
   "metadata": {},
   "outputs": [],
   "source": [
    "def print_sents_entities(examples):\n",
    "    for example in examples:\n",
    "        if example[\"spans\"]!=[]:\n",
    "            sent,entity=example['text'], example['text'][example[\"spans\"][0][\"start\"]:example[\"spans\"][0][\"end\"]]\n",
    "            print(sent,[entity])"
   ]
  },
  {
   "cell_type": "code",
   "execution_count": 50,
   "metadata": {},
   "outputs": [
    {
     "name": "stdout",
     "output_type": "stream",
     "text": [
      "Therefore, as 100,000 is to 70,711, so is 7560 to 5346, the sine of the arc of 3° 4' 52\", which is CEB. ['100,000']\n",
      "For, in the Ptolemaic form, as the sine of the angle AEC is to AC, the whole sine is to AE, which becomes 101,766 when DCE is 90°. ['101,766']\n",
      "We can eliminate even this extremely slight difference in the equations by positing 20,103 as Mars's eccentricity in the Ptolemaic form where Brahe, in the Copernican form, found it to be 20,160. ['20,103']\n",
      "Let the magnitudes on the line δγα be taken as follows: let δα be the quantity of the sun’s eccentricity, 3584; δγ the eccentricity of Mars, 30,138 of the same parts, and the angle αδγ 47° 59¼’, which is the angular difference between the sun’s and Mars’s apogees. ['30,138']\n",
      "Now let βξ be 100,000 and αγ be 18,034 of the same parts. ['100,000']\n",
      "Therefore, in the right triangle βχφ, since βφ is 100,000 (β being the center of the eccentric φ) and χβ is 6732, χφ will be 99,773. ['100,000']\n",
      "Above, δγ was 19,763 in the new units, and the angle at γ right. ['19,763']\n",
      "Thus 60 is to 41 as 100,000 is to 65,656½, the appropriate magnitude for βυ. ['100,000']\n",
      "Therefore, in the Ptolemaic form of the first inequality, the eccentricity of the equalizing point was 20,160 or a little less. ['20,160']\n",
      "For he makes the center of the (Copernican*)  eccentric distant from the center of vision by 13,680 units, while the point of equality in turn is another 3,780 of these units beyond that. ['13,680']\n",
      "But as BG, 53,866, is to 100,000, so is 100,000 to AC. ['100,000']\n",
      "24 25 So the whole eccentricity remains 18,564 but that of the eccentric 11,332 and of the equant 7,232. ['18,564']\n",
      "Therefore, in order that CGA, the angle of the equation, remain unchanged, the same 18,564 is to be increased in the same ratio for Tycho and Copernicus: \n",
      "The composite Copernican-Tychonic eccentricity. ['18,564']\n",
      "Second, that Ptolemy's figure for the sun's eccentricity was correct: 4153, where the semidiameter of the orbit is 100,000 (Ptolemy book 3 Ch. ['100,000']\n",
      "Fifth, that the eccentricity of Mars was 20,000 where its semidiameter is 100,000 (in the same chapter). ['20,000']\n",
      "Sixth, that the ratio of the epicycle (in Ptolemy) or of the annual orb (in Tycho and Copernicus) to the orb of Mars was as 100,000 to 151,900. ['100,000']\n",
      "Hence, where the semidiameter of the sun's orb (or the earth's) is 100,000, Mars's eccentricity will be 30,380 (Ptolemy book 10 Ch. ['30,380']\n",
      "By supposition, AB is 4153, while AC is 30,380 of the same units. ['30,380']\n",
      "I discovered this above by transposition of the Tychonic value, 18,342, with one change: for the size of Mars's orbit, instead of 151,386 I took 152,500, which is nearer the truth. ['151,386']\n",
      "Now since 21° Leo is about 8° from the aphelion, the line AD will be about 150 parts longer at aphelion (as will be clear to anyone who computes the distances from the hypothesis we have found and substitutes these numbers); that is, either 163,150 or 167,350. ['163,150']\n",
      "And since 12° Pisces is about 13° from the perihelion, AE when right at the perihelion will be about 300 parts shorter; that is, either 139,000 or 137,080. ['139,000']\n",
      "Thus, as 151,075 is to 100,000, so is 12,075 to 8000,\n",
      "and as 152,215 is to 100,000, so is 15,135 to 9943. ['151,075']\n",
      "5 above, 12,600 was taken from the Brahean revision, and 12,352 in the Ptolemaic equant, where the whole eccentricity of the equalizing point was 20,160 or 19,763. ['12,600']\n",
      "Now if, on the other hand, we bisect the eccentricity of 18,564 that we found, we shall indeed represent the acronychal positions near the middle longitudes on the eccentric accurately enough, but not so well the positions around the octants and towards the apsides. ['18,564']\n",
      "The tangent of this is about 945,500, which, multiplied by the perihelial distance of 90,718 and in turn divided by the aphelial distance of 109,282, gives a tangent of 784,880, whose arc is 82° 44' 20\". ['90,718']\n",
      "But CA, the distance of the sun from the earth, is 99,302 from Tycho's table. ['99,302']\n",
      "Therefore, AB is between 165,680 and 166,846. ['165,680']\n",
      "Therefore, AD is between 140,080 and 136,409. ['140,080']\n",
      "But  since the star Mars is 2⅔ degrees from perihelion, AD will be shorter by about 15 at the perihelion itself, that is, between 140,065 and 136,394. ['140,065']\n",
      "Consequently, this eccentricity will be much less than 10,106, and would in fact be 8377 if the sun's distances were correctly given as 99,302 and 102,689, which the requirements of this demonstration leads us to take as 100,000 and 100,000. ['99,302']\n",
      "Now, as above, let AC be 18,564 where CQ is 100,000. ['18,564']\n",
      "And because ACZ is 45°, AZ or ZC will be 13,127 (both in the same units). ['13,127']\n",
      "Therefore, EC is 63,186 minus a little. ['63,186']\n",
      "DO will be 47,660 and CO 38,305. ['47,660']\n",
      "Therefore, where DC is 61,148, CP will come out to be 26,858 and PD is 54,932. ['26,858']\n",
      "Therefore, the ratio of DB to BC (the radius to the eccentricity, which is being sought) is the same as 62,237 to 1143. ['62,237']\n",
      "And as 62,237 is to 100,000 so is 1143 to 1837. ['62,237']\n",
      "Now as the sine of αθκ is to ακ, which we shall say is 100,000 units, so is [the sine of] θκα to θα, which is what is sought. ['100,000']\n",
      "In triangle ζαε angle ζαε is 42° 6' 57\", and the sides are given by a new correction, so that αζ is 62,177 and αε 61,525, approximately. ['62,177']\n",
      "But this same ζε, from angle ζβε (which ζε subtends), is 72,379 where εβ is 100,000. ['72,379']\n",
      "And because βδ is 100,000 and βα 1800, and αβδ is a straight line, by addition of the two the aphelial distance αδ is obtained; and because βε too is 100,000, when αβ is subtracted the perihelial distance αε remains. ['100,000']\n",
      "And because βαζ is right, and ζβ is 100,000 (that is, the whole sine), therefore αβ is the sine of the angle αζβ. ['100,000']\n",
      "Therefore, beginning with either the mean or the equated anomaly, either  one going into its proper respective column as use will dictate; or, where it exceeds a semicircle, beginning with the full-circle complement of either of these; you find the requisite distance of the sun from the earth, in units of which the radius of the orb is 100,000 and the eccentricity is 1800. ['100,000']\n",
      "But  the area of a circle of radius 100,000 (from the most recent investigations of Adrian Romanus, a most expert geometer)2 is 31,415,926,536, with no error in even the last digit. ['100,000']\n",
      "Now, in Chapter 26, the distance of Mars from the center of the sun was found to be 147,750 in 14° 21' 7\" Taurus, at the node, on 1595 October 25. ['147,750']\n",
      "Again, in Chapter 27, the distance of Mars was found to be somewhat less than 163,100 at 5° 25' 20\" Libra, and that was on 1590 December 31. ['163,100']\n",
      "Thirdly, in Chapter 28 the distance of Mars was found to be 166,180 at 8° 19' 20\" Virgo, on 1590 October 31, 68 degrees from the node. ['166,180']\n",
      "Now, in triangle ηακ, the angle with its sides again being given, κηα is found to be 78° 44' 1\", and through this, κη [is found to be] 77,187 where ηα is 163,100. ['77,187']\n",
      "Therefore, in the units of which κη formerly was 50,868 and ηγ was 100,000, ηα becomes 107,486. ['50,868']\n",
      "Therefore, the ratio of the orbs is that which 100,000 has to 151,740. ['100,000']\n",
      "And in the following chapter, [the ratio] will be found with greatest certainty to be that which 100,000 has to 152,640, approximately; eccentricity 9264, where the radius is 100,000. ['100,000']\n",
      "But as 100,000 is to 138,430, so is this 49 to 68. ['100,000']\n",
      "And as 152,640 is to 100,000, so is 14,140 to the eccentricity 9264. ['152,640']\n",
      "Now as the area of the circle, 31,415,926,536, is to 360 degrees or 1,296,000 seconds, so is this area just found, 463,200,000, to 19,108\", or 5° 18' 28\", the physical part of the equation. ['1,296,000']\n",
      "Therefore, if all our remaining excesses (other than the greatest, 432) were [to the greatest]3 as [all] the sines in one semicircle are to the semidiameter, then as 100,000 is to the sum of the secant and the tangent of 89° (that is, 11,458,869), so,  approximately, would 432 be to 49,934, the approximate sum of all the excesses at integral degrees of the semicircle ^4. ['100,000']\n",
      "And because one distance of 100,000 has the value of 60', this little sum has a value of no more than 4⅕’7 which is nonetheless spread all around the circumference, so that about 45° and 135°, where it is greatest, this tiny error turns out to be imperceptible even in Mars. ['100,000']\n",
      "This multiplied by half the eccentricity αβ, 4632, gives 463,200,000 as the area θβα. ['463,200,000']\n",
      "Therefore, the shorter semidiameter Dβ will be 99,142, which is to 100,000 as 9264 is to 9344. ['100,000']\n",
      "And because BC is 70,711, Cβ, the sine of its complement, will also be 70,711 at this location. ['70,711']\n",
      "And because, as before, the sine 70,711 is shortened in order to constitute a line of the ellipse that is applied ordinatewise11 becoming 70,104, this is now to be combined with the sine of the complement of 135°, which is 70,711, now not increased by the eccentricity αβ, as before, but decreased by it, making it 61,447. ['70,711']\n",
      "Thus, as this is to 100,000, so is 70,104 to the tangent of the required angle, 48° 45' 55\", or its supplement 131° 14' 5\". ['70,104']\n",
      "Next, as 100,000 is to 99,571, so almost exactly will the circumference of the circle be to the circumference of the oval, which is sought. ['100,000']\n",
      "Therefore, as each of the distances, in order, is to the distance 100,210, so is the arc of this distance 100,210 (60’) to the arcs belonging to the other distances. ['100,210']\n",
      "The mean between the two sums, 4,867,852, I reduced to degrees, where 35,924,252 have the value 360°, or 99,790 have the value 1°. ['35,924,252']\n",
      "The reason for its coming out greater than 36,000,000 you have in Ch. ['36,000,000']\n",
      "And if OM is assumed to be 154,200 in the earlier observation, it ought to be taken as shorter in the later one. ['154,200']\n",
      "So let it be 154,400 in the first instance, and in the second, 154,368. ['154,400']\n",
      "And previously, at this distance from aphelion it was found to be approximately 154,400 from the sun. ['154,400']\n",
      "Therefore, a distance of 153,753 is called forth from these. ['153,753']\n",
      "But at this place on the eccentric for one degree about 220 units are owed from the distance, or for the entire angular difference, 317, so that this place, if we carry it back to an anomaly similar to the preceding, has a distance of 158,111 rather precisely. ['158,111']\n",
      "So from the analogy of this  observation with the previous one, at a similar anomaly, a distance of 158,217 is appropriate, where again about the same amount as before, or a little more, is to be added for the latitude. ['158,217']\n",
      "There I derived a distance somewhat less than 163,100 using the equation of the observations, but from the bare observations themselves I obtained 162,818, in the plane of the ecliptic as before. ['163,100']\n",
      "So the distance which was less than 163,13729 at an anomaly of  43° 48' will again be increased at anomaly 43° 24' according to this ratio, so as to make it almost exactly 163,100 in this semicircle. ['163,100']\n",
      "In the previous one it was 163,051 and 162,996. ['163,051']\n",
      "And likewise, near aphelion, we shall again take up the observations of  Chapter 28, where at a mean anomaly of 11° 37' a distance of 166,180 or 166,208 was found (without correction for latitude). ['166,180']\n",
      "On 1586 December 16 at 6½h am, when the sun was at 4° 16' 51\" Capricorn, 98,200 distant from earth, mean longitude of Mars 4s 18' 39' 9\", remainder of mean anomaly 10° 9' 41\", eccentric position from the vicarious hypothesis 20° 20' 30\" Leo: the declination of Mars was found to be 3° 54', right ascension from Arcturus and Spica 177° 27' ^31. ['98,200']\n",
      "So it would be either 166,241 or 166,138. ['166,241']\n",
      "6 at 6h 50m am, when the sun's position was 24° 3' 43\" Scorpio, 98,630 distant from earth, mean longitude of Mars 4s 20° 47' 35\", remainder of the anomaly 8° 2' 51\", eccentric position from the vicarious hypothesis 22° 7' 48\" Leo: Mars was observed at 23° 16' Virgo, lat. ['98,630']\n",
      "And by this analogy, at the greater distance from aphelion of 11° 37', where it is less by about 110, it is either 166,401 or 166,286. ['166,401']\n",
      "But since 12° 10' Sagittarius is about 26½’ from the node, the secant of the inclination at this place exceeds the radius by about 11 units, or 15 or 16 in our dimensions, so as to make the distance of Mars from the sun almost exactly 147,820 or 147,700. ['147,820']\n",
      "For a similar distance from aphelion in the other semicircle, we shall take  up again the observations of Chapter 26, where I derived a distance of Mars from the sun of about 147,443 or 147,700 or 147,750. ['147,443']\n",
      "Therefore, the distance of 113° 24' on the ascending semicircle  would be 147,743 or 148,000 or 148,050 (extrapolating from the observations of Ch. ['147,743']\n",
      "But on the descending semicircle, 147,820 or 147,700 was found here. ['147,820']\n",
      "And you see in Chapter 26 that the true distance, hesitantly accepted, fluctuates between 147,443 and 147,750, a difference of 300 units which, in our present undertaking, are of no great importance, since Mars is so low and close to the sun or the center of the world. ['147,443']\n",
      "16 at 6h 28m, when the sun was at 2° 39' 15\" Scorpio, 99,142 distant from earth, Mars's mean longitude 11s 13° 53' 57\", full-circle complement of the anomaly 165° 0' 9\", eccentric position from the vicarious hypothesis 16° 59' 14\" Pisces: Mars was observed at 1° 27' 18\" Aquarius, lat. ['99,142']\n",
      "8 at 10h 38m, when the sun was at 25° 41' 0\" Virgo, 100,266 distant from earth, Mars's mean longitude 11s 17° 10' 17\", full-circle complement of the anomaly 161° 45' 28\", and eccentric position from the vicarious hypothesis 20° 53' 54\" Pisces: the planet was found at 8° 53' 51\" Pisces with latitude 5° 14' 30\" south ^36. ['100,266']\n",
      "Finally, on 1595 July 22 at 2h 40m am, when the sun was at 7° 59' 52\" Leo, 101,487 distant from earth, Mars's mean longitude 11s 14° 9' 5\", and anomaly 164° 48' 55\", and consequent eccentric position from the vicarious hypothesis 17° 16' 36\" Pisces: the apparent position of Mars, from the most select observations, was 4° 11' 10\" Taurus, lat. ['101,487']\n",
      "So if we also subtract that much from the other two AKs, so as to make them 138,954 and 139,000, the resulting angles are DKA 34° 43' 47\" and AK 20° 9' 40\" [Pisces]; while FKA is 12° 1' 24\" and AK 20° 55' 15\" [Pisces]. ['138,954']\n",
      "For on the night following June 29 in 1593, at 1h 30m after midnight, when the sun was at 17° 25' 42\" Cancer, 101,760 distant from earth, the longitude of Mars 10s 10° 1' 29\", anomaly 161° 5' 29\", and the consequent position of Mars 6° 10' 5\" Aquarius, it was observed at 13° 37' 22\" Pisces, with latitude 4° 37' S ^38. ['101,760']\n",
      "So here too, by extrapolation from our anomaly, there results a distance of 138,984 at an anomaly of 161° 45½', an admirable consensus much to be suspected. ['138,984']\n",
      "And through A let the line AB be drawn towards Capricorn, and let AB be extended from A towards Capricorn until its length be 1800 of the units of which AC was 14,140 in Chapter 42, and AE, AD, 154,400; and let B be the center of the earth's orb. ['14,140']\n",
      "And as 161 is to 61, so is 100,000 to 37,888. ['100,000']\n",
      "They should have differed by 187 in the opposite sense, so that αθ would be 166,226 and αη 166,412. ['166,226']\n",
      "Therefore, the distance of Mars from the sun will be 166,250 or 166,278. ['166,250']\n",
      "In the descending semicircle, however, from 5 observations, we had found 166,250 or 166,278. ['166,250']\n",
      "42, add about 250, and these added to 166,260 make 166,510. ['166,260']\n",
      "51, at a remaining [mean] anomaly of 161° 45½’, or 161° 30½' after correction, we found the distance, before correction for latitude, to be 139,000 or 138,984. ['139,000']\n",
      "So let 139,000 be at 21 Pisces. ['139,000']\n",
      "And where 152,342 becomes 100,000, 14,169 becomes 9301. ['152,342']\n",
      "And as 109,265 is to 90,735, so is 166,510 to 138,274, where the radius is almost exactly 152,400. ['109,265']\n",
      "At the middle elongations the lunule or shortening of the distances is greatest, and has the same magnitude as the excess of the secant of the greatest optical equation 100,429 over the radius 100,000. ['100,429']\n",
      "162,994 ['162,994']\n",
      "163,051 ['163,051']\n",
      "158,091 ['158,091']\n",
      "158,111 ['158,111']\n",
      "148,000 ['148,000']\n",
      "148,050 ['148,050']\n",
      "The sum of the 90 sines is 5,789,431 ^8. ['5,789,431']\n",
      "And the former sum is to the latter as 100,000 is to 30. ['100,000']\n",
      "Likewise, the sum of 30 sines, which is 792,598, shows, by the rule of proportions, a part of the reciprocation which is 13,691 out of 100,000. ['13,691']\n",
      "Also, the sum of 60 sines, which is 2,908,017, shows a little more than 50,000, while the versed sine of 60° is 50,000 ^12. ['50,000']\n",
      "Next, when the individual sums were compared with the whole, following the rule of proportions, the sum 36,000,000 would be to 360 degrees (the nominal value of the whole periodic time) as the individual sums would be to the increments of time they signify. ['36,000,000']\n",
      "And as the whole is to LH, so is the whole eccentricity to the part to be added4 to 100,000 (subtracted, below 90°) to give the correct distance of Mars from the sun, namely, NM ^5. ['100,000']\n",
      "And its angle EHD is greater than half by still more, because the sine of the complement is also greater than half, namely, 70,711 also. ['70,711']\n",
      "Therefore, let MN be 100,000 + 1x,8 LN from the angle MNL, 30°, be (8,660,300,000 + 86,603x)/100,000, and NH be 9265 or 926,500,000/100,000, so that HL would be (7,733,800,000 + 86,603x) /100,000. ['100,000']\n",
      "But as HN, 9265, is to 1x, so is 100,000 to LH. ['100,000']\n"
     ]
    }
   ],
   "source": [
    "print_sents_entities(examples)"
   ]
  },
  {
   "cell_type": "code",
   "execution_count": 56,
   "metadata": {},
   "outputs": [],
   "source": [
    "def print_entities(examples):\n",
    "    entities = []\n",
    "    for example in examples:\n",
    "        if example[\"spans\"] != []:\n",
    "                entities += [example['text'][example[\"spans\"][0][\"start\"]:example[\"spans\"][0][\"end\"]]]\n",
    "    print(\"There is {} entities with this detail\\n{}\".format(len(entities),entities))"
   ]
  },
  {
   "cell_type": "code",
   "execution_count": null,
   "metadata": {},
   "outputs": [],
   "source": [
    "{\"text\":\"Fifth, that the eccentricity of Mars was 20,000 where its semidiameter is 100,000 (in the same chapter).\",\"spans\":[{\"start\":41,\"end\":47,\"label\":\"PARA\"},{\"start\":74,\"end\":81,\"label\":\"PARA\"}]}"
   ]
  },
  {
   "cell_type": "code",
   "execution_count": 55,
   "metadata": {},
   "outputs": [
    {
     "name": "stdout",
     "output_type": "stream",
     "text": [
      "There is 116 entities with this detail\n",
      "['100,000', '101,766', '20,103', '30,138', '100,000', '100,000', '19,763', '100,000', '20,160', '13,680', '100,000', '18,564', '18,564', '100,000', '20,000', '100,000', '30,380', '30,380', '151,386', '163,150', '139,000', '151,075', '12,600', '18,564', '90,718', '99,302', '165,680', '140,080', '140,065', '99,302', '18,564', '13,127', '63,186', '47,660', '26,858', '62,237', '62,237', '100,000', '62,177', '72,379', '100,000', '100,000', '100,000', '100,000', '147,750', '163,100', '166,180', '77,187', '50,868', '100,000', '100,000', '100,000', '152,640', '1,296,000', '100,000', '100,000', '463,200,000', '100,000', '70,711', '70,711', '70,104', '100,000', '100,210', '35,924,252', '36,000,000', '154,200', '154,400', '154,400', '153,753', '158,111', '158,217', '163,100', '163,100', '163,051', '166,180', '98,200', '166,241', '98,630', '166,401', '147,820', '147,443', '147,743', '147,820', '147,443', '99,142', '100,266', '101,487', '138,954', '101,760', '138,984', '14,140', '100,000', '166,226', '166,250', '166,250', '166,260', '139,000', '139,000', '152,342', '109,265', '100,429', '162,994', '163,051', '158,091', '158,111', '148,000', '148,050', '5,789,431', '100,000', '13,691', '50,000', '36,000,000', '100,000', '70,711', '100,000', '100,000']\n"
     ]
    }
   ],
   "source": [
    "print_entities(examples)"
   ]
  },
  {
   "cell_type": "markdown",
   "metadata": {},
   "source": [
    "## See Misaligned Tokens"
   ]
  },
  {
   "cell_type": "markdown",
   "metadata": {},
   "source": [
    "<fig size= 3>\n",
    "This step is very important, since if Pordigy faces with Misaligned tokens, we can see that before and try to adjust regex accordingly\n",
    "<fig size>"
   ]
  },
  {
   "cell_type": "code",
   "execution_count": 57,
   "metadata": {},
   "outputs": [],
   "source": [
    "def misaligned_token(examples):\n",
    "    counter=0\n",
    "    nlp = spacy.load(\"en_core_web_sm\")  \n",
    "    for example in examples:  \n",
    "        doc = nlp(example[\"text\"])\n",
    "        for span in example[\"spans\"]:\n",
    "            char_span = doc.char_span(span[\"start\"], span[\"end\"])\n",
    "            if char_span is None:  \n",
    "                counter+=1\n",
    "                print(\"{}- Misaligned tokens-->\".format(counter), example[\"text\"],span)"
   ]
  },
  {
   "cell_type": "code",
   "execution_count": 58,
   "metadata": {},
   "outputs": [],
   "source": [
    "misaligned_token(examples)"
   ]
  }
 ],
 "metadata": {
  "kernelspec": {
   "display_name": "Python 3",
   "language": "python",
   "name": "python3"
  },
  "language_info": {
   "codemirror_mode": {
    "name": "ipython",
    "version": 3
   },
   "file_extension": ".py",
   "mimetype": "text/x-python",
   "name": "python",
   "nbconvert_exporter": "python",
   "pygments_lexer": "ipython3",
   "version": "3.7.1"
  }
 },
 "nbformat": 4,
 "nbformat_minor": 2
}
