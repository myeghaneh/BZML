{
 "cells": [
  {
   "cell_type": "markdown",
   "metadata": {},
   "source": [
    "# Multiclass Classification of sentences using XGboost(XGB) and Stochastic Gradient descent(SGD)"
   ]
  },
  {
   "cell_type": "markdown",
   "metadata": {},
   "source": [
    "In this notebook you have a complete pipeline of classification using some classifiers as well as parameter tuning  and complete evaluation of the classfiers as following:\n",
    "\n",
    "- 1) Training and Prediction by SGDClassifier\n",
    "- 2) Training and Prediction by XGboost\n",
    "- Parameter Tuning\n",
    "- Evaluation (train-test_split, 10 fold cross valdiation,confusion matrix, classification report)\n",
    "- Explaining prediction by SGD classifier using eli5\n",
    "\n"
   ]
  },
  {
   "cell_type": "code",
   "execution_count": 1,
   "metadata": {},
   "outputs": [],
   "source": [
    "import pandas as pd\n",
    "import numpy as np\n",
    "import re\n",
    "import spacy\n",
    "from spacy.lang.en import English\n",
    "from spacy import displacy\n",
    "nlp = spacy.load('en_core_web_sm', disable=[\"ner\", \"textcat\", \"entity_ruler\", \"merge_noun_chunks\", \"merge_entities\", \"merge_subtokens\"])"
   ]
  },
  {
   "cell_type": "code",
   "execution_count": 2,
   "metadata": {},
   "outputs": [],
   "source": [
    "from IPython.display import Image\n",
    "import ipywidgets as widgets\n",
    "from ipywidgets import interact, interact_manual\n",
    "import seaborn as sns\n",
    "import matplotlib.pylab as plt\n",
    "from warnings import filterwarnings\n",
    "filterwarnings('ignore')\n"
   ]
  },
  {
   "cell_type": "code",
   "execution_count": 3,
   "metadata": {},
   "outputs": [],
   "source": [
    "from xgboost import XGBClassifier\n",
    "from sklearn.feature_extraction import DictVectorizer\n",
    "from sklearn.pipeline import make_pipeline\n",
    "from sklearn.model_selection import cross_val_score, GridSearchCV\n",
    "from sklearn.model_selection import cross_val_predict\n",
    "from sklearn.metrics import confusion_matrix,classification_report,f1_score,make_scorer\n",
    "from sklearn.model_selection import KFold\n",
    "from nltk.corpus import stopwords\n",
    "import string\n",
    "from sklearn.preprocessing import FunctionTransformer"
   ]
  },
  {
   "cell_type": "code",
   "execution_count": 4,
   "metadata": {},
   "outputs": [],
   "source": [
    "from sklearn.feature_extraction.text import CountVectorizer,HashingVectorizer\n",
    "from sklearn.feature_extraction.text import TfidfTransformer,TfidfVectorizer\n",
    "from sklearn.feature_selection import SelectKBest,chi2\n",
    "from sklearn.linear_model import SGDClassifier, LogisticRegression,LogisticRegressionCV\n",
    "from sklearn.naive_bayes import MultinomialNB,GaussianNB\n",
    "from sklearn.ensemble import RandomForestClassifier\n",
    "from sklearn.pipeline import Pipeline\n",
    "from sklearn.decomposition import TruncatedSVD\n",
    "from sklearn.svm import SVC,LinearSVC\n",
    "from sklearn.utils import shuffle\n",
    "from sklearn.model_selection import train_test_split\n",
    "from sklearn.neighbors import NearestNeighbors"
   ]
  },
  {
   "cell_type": "code",
   "execution_count": 5,
   "metadata": {},
   "outputs": [],
   "source": [
    "options = {\"compact\": True, \"bg\": \"#09a3d5\",\n",
    "           \"color\": \"white\", \"font\": \"Source Sans Pro\",\"collapse_phrases\":False}"
   ]
  },
  {
   "cell_type": "code",
   "execution_count": 6,
   "metadata": {},
   "outputs": [],
   "source": [
    "pd.set_option('display.max_colwidth', -1)\n",
    "pd.set_option('max_colwidth', 260)"
   ]
  },
  {
   "cell_type": "markdown",
   "metadata": {},
   "source": [
    "# Read the data"
   ]
  },
  {
   "cell_type": "code",
   "execution_count": 7,
   "metadata": {},
   "outputs": [
    {
     "data": {
      "text/html": [
       "<div>\n",
       "<style scoped>\n",
       "    .dataframe tbody tr th:only-of-type {\n",
       "        vertical-align: middle;\n",
       "    }\n",
       "\n",
       "    .dataframe tbody tr th {\n",
       "        vertical-align: top;\n",
       "    }\n",
       "\n",
       "    .dataframe thead th {\n",
       "        text-align: right;\n",
       "    }\n",
       "</style>\n",
       "<table border=\"1\" class=\"dataframe\">\n",
       "  <thead>\n",
       "    <tr style=\"text-align: right;\">\n",
       "      <th></th>\n",
       "      <th>sentence</th>\n",
       "      <th>act</th>\n",
       "      <th>y</th>\n",
       "    </tr>\n",
       "  </thead>\n",
       "  <tbody>\n",
       "    <tr>\n",
       "      <th>100000</th>\n",
       "      <td>Finally, we provide examples where future progress can be made in the development of gray models.</td>\n",
       "      <td>provide</td>\n",
       "      <td>0</td>\n",
       "    </tr>\n",
       "    <tr>\n",
       "      <th>10021</th>\n",
       "      <td>We demonstrate that an end-to-end deep learning model can successfully recover 3-dimensional atomic distortions of a variety of oxide perovskite materials from a single 2-dimensional experimental scanning transmission electron (STEM) micrograph, in the pro...</td>\n",
       "      <td>demonstrate</td>\n",
       "      <td>0</td>\n",
       "    </tr>\n",
       "    <tr>\n",
       "      <th>100210</th>\n",
       "      <td>We apply the SCMS first to the data set generated from the Voronoi model.</td>\n",
       "      <td>apply</td>\n",
       "      <td>0</td>\n",
       "    </tr>\n",
       "    <tr>\n",
       "      <th>100240</th>\n",
       "      <td>We use a thermochemical and photochemical kinetics and transport model to investigate the effects of photochemistry and quenching on young, directly imaged planets.</td>\n",
       "      <td>use</td>\n",
       "      <td>0</td>\n",
       "    </tr>\n",
       "    <tr>\n",
       "      <th>100309</th>\n",
       "      <td>To predict and interpret the polarisation from such observations, we have also developed an advanced polarimetric modelling capability, by incoroporating full polarised radiative transfer into our atmospheric modelling code VSTAR.</td>\n",
       "      <td>developed</td>\n",
       "      <td>0</td>\n",
       "    </tr>\n",
       "    <tr>\n",
       "      <th>100443</th>\n",
       "      <td>Here we use a one-dimensional photochemical model to study ozone distributions in these hypothetical O_(2)-rich atmospheres.</td>\n",
       "      <td>use</td>\n",
       "      <td>0</td>\n",
       "    </tr>\n",
       "    <tr>\n",
       "      <th>100468</th>\n",
       "      <td>We did numerical simulations by using the full three-body problem as a dynamical model.</td>\n",
       "      <td>did</td>\n",
       "      <td>0</td>\n",
       "    </tr>\n",
       "    <tr>\n",
       "      <th>100479</th>\n",
       "      <td>Following the approach of the CHIMERA code (Line et al 2013; 2014), we employ a variety of inverse models for the problem of parameter estimation.</td>\n",
       "      <td>employ</td>\n",
       "      <td>0</td>\n",
       "    </tr>\n",
       "    <tr>\n",
       "      <th>100565</th>\n",
       "      <td>Using our Doppler images to model the activity jitter and filter it out from the radial velocity (RV) curves, we obtain RV residuals with dispersions of 0.033 and 0.104 km s^(-1) for V819 Tau and V830 Tau, respectively.</td>\n",
       "      <td>obtain</td>\n",
       "      <td>0</td>\n",
       "    </tr>\n",
       "    <tr>\n",
       "      <th>10062</th>\n",
       "      <td>&lt;BR /&gt; Aims: We aim to develop a simple physical model for cloud formation and transport, efficient and versatile enough that it can be used, in modular fashion for parameter optimization searches of exoplanet atmosphere spectra.</td>\n",
       "      <td>aim</td>\n",
       "      <td>0</td>\n",
       "    </tr>\n",
       "    <tr>\n",
       "      <th>10063</th>\n",
       "      <td>In this work we present the cloud model and investigate the dependence of key parameters as the cloud diffusivity K and the nuclei injection rate Σ_(n)^(.)</td>\n",
       "      <td>present</td>\n",
       "      <td>0</td>\n",
       "    </tr>\n",
       "    <tr>\n",
       "      <th>10069</th>\n",
       "      <td>&lt;BR /&gt; Results: We apply our models toward KCl clouds in the atmosphere of GJ1214 b and toward MgSiO_(3) clouds of a canonical hot-Jupiter.</td>\n",
       "      <td>apply</td>\n",
       "      <td>0</td>\n",
       "    </tr>\n",
       "    <tr>\n",
       "      <th>100694</th>\n",
       "      <td>We also wish to analyse the importance of the number and type of modes for the inversion, as well as the impact of various constraints and levels of accuracy in the forward modelling process that is used to obtain reference models for the inversion.</td>\n",
       "      <td>wish</td>\n",
       "      <td>0</td>\n",
       "    </tr>\n",
       "    <tr>\n",
       "      <th>100697</th>\n",
       "      <td>We then study the indicator's accuracy for seven different pulsation spectra including those of 16CygA and 16CygB and analyse how it depends on the reference model by using different constraints and levels of accuracy for its selection.</td>\n",
       "      <td>study</td>\n",
       "      <td>0</td>\n",
       "    </tr>\n",
       "    <tr>\n",
       "      <th>100711</th>\n",
       "      <td>We currently lack a satisfactory understanding of the microphysical processes that govern the distribution of these clouds and hazes, thus creating a gulf between the cloud properties retrieved from observations and the cloud composition predictions from c...</td>\n",
       "      <td>lack</td>\n",
       "      <td>0</td>\n",
       "    </tr>\n",
       "    <tr>\n",
       "      <th>100712</th>\n",
       "      <td>In this work we present a 1D microphysical cloud model that calculates, from first principles, the rates of condensation, evaporation, coagulation, and vertical transport of chemically mixed cloud and haze particles in warm and hot exoplanet atmospheres.</td>\n",
       "      <td>present</td>\n",
       "      <td>0</td>\n",
       "    </tr>\n",
       "    <tr>\n",
       "      <th>100824</th>\n",
       "      <td>We explore several modeling configurations and include Hubble, Spitzer, and ground-based eclipse data.</td>\n",
       "      <td>explore</td>\n",
       "      <td>0</td>\n",
       "    </tr>\n",
       "    <tr>\n",
       "      <th>1009</th>\n",
       "      <td>&lt;BR /&gt; Methods: We have applied a rotation model developed for single stars to binary systems, taking into account the effects of tidal interactions on the rotational and orbital evolution of both stars.</td>\n",
       "      <td>applied</td>\n",
       "      <td>0</td>\n",
       "    </tr>\n",
       "    <tr>\n",
       "      <th>100940</th>\n",
       "      <td>We present a new way of combining two existing approaches to the modeling of the said TP profile: (1) the parametric profile, where the atmospheric TP structure is analytically approximated by a few model parameters, (2) the layer-by-layer approach, where ...</td>\n",
       "      <td>present</td>\n",
       "      <td>0</td>\n",
       "    </tr>\n",
       "    <tr>\n",
       "      <th>100948</th>\n",
       "      <td>&lt;BR /&gt; Methods: We used two different smoothed particle hydrodynamic codes, VINE and PHANTOM, to model the evolution of a star+disk+planet system with a companion star over time.</td>\n",
       "      <td>used</td>\n",
       "      <td>0</td>\n",
       "    </tr>\n",
       "  </tbody>\n",
       "</table>\n",
       "</div>"
      ],
      "text/plain": [
       "                                                                                                                                                                                                                                                                   sentence  \\\n",
       "100000                                                                                                                                                                    Finally, we provide examples where future progress can be made in the development of gray models.   \n",
       "10021   We demonstrate that an end-to-end deep learning model can successfully recover 3-dimensional atomic distortions of a variety of oxide perovskite materials from a single 2-dimensional experimental scanning transmission electron (STEM) micrograph, in the pro...   \n",
       "100210                                                                                                                                                                                            We apply the SCMS first to the data set generated from the Voronoi model.   \n",
       "100240                                                                                                 We use a thermochemical and photochemical kinetics and transport model to investigate the effects of photochemistry and quenching on young, directly imaged planets.   \n",
       "100309                               To predict and interpret the polarisation from such observations, we have also developed an advanced polarimetric modelling capability, by incoroporating full polarised radiative transfer into our atmospheric modelling code VSTAR.   \n",
       "100443                                                                                                                                         Here we use a one-dimensional photochemical model to study ozone distributions in these hypothetical O_(2)-rich atmospheres.   \n",
       "100468                                                                                                                                                                              We did numerical simulations by using the full three-body problem as a dynamical model.   \n",
       "100479                                                                                                                   Following the approach of the CHIMERA code (Line et al 2013; 2014), we employ a variety of inverse models for the problem of parameter estimation.   \n",
       "100565                                          Using our Doppler images to model the activity jitter and filter it out from the radial velocity (RV) curves, we obtain RV residuals with dispersions of 0.033 and 0.104 km s^(-1) for V819 Tau and V830 Tau, respectively.   \n",
       "10062                                 <BR /> Aims: We aim to develop a simple physical model for cloud formation and transport, efficient and versatile enough that it can be used, in modular fashion for parameter optimization searches of exoplanet atmosphere spectra.   \n",
       "10063                                                                                                           In this work we present the cloud model and investigate the dependence of key parameters as the cloud diffusivity K and the nuclei injection rate Σ_(n)^(.)   \n",
       "10069                                                                                                                           <BR /> Results: We apply our models toward KCl clouds in the atmosphere of GJ1214 b and toward MgSiO_(3) clouds of a canonical hot-Jupiter.   \n",
       "100694            We also wish to analyse the importance of the number and type of modes for the inversion, as well as the impact of various constraints and levels of accuracy in the forward modelling process that is used to obtain reference models for the inversion.   \n",
       "100697                         We then study the indicator's accuracy for seven different pulsation spectra including those of 16CygA and 16CygB and analyse how it depends on the reference model by using different constraints and levels of accuracy for its selection.   \n",
       "100711  We currently lack a satisfactory understanding of the microphysical processes that govern the distribution of these clouds and hazes, thus creating a gulf between the cloud properties retrieved from observations and the cloud composition predictions from c...   \n",
       "100712       In this work we present a 1D microphysical cloud model that calculates, from first principles, the rates of condensation, evaporation, coagulation, and vertical transport of chemically mixed cloud and haze particles in warm and hot exoplanet atmospheres.   \n",
       "100824                                                                                                                                                               We explore several modeling configurations and include Hubble, Spitzer, and ground-based eclipse data.   \n",
       "1009                                                            <BR /> Methods: We have applied a rotation model developed for single stars to binary systems, taking into account the effects of tidal interactions on the rotational and orbital evolution of both stars.   \n",
       "100940  We present a new way of combining two existing approaches to the modeling of the said TP profile: (1) the parametric profile, where the atmospheric TP structure is analytically approximated by a few model parameters, (2) the layer-by-layer approach, where ...   \n",
       "100948                                                                                   <BR /> Methods: We used two different smoothed particle hydrodynamic codes, VINE and PHANTOM, to model the evolution of a star+disk+planet system with a companion star over time.   \n",
       "\n",
       "                act  y  \n",
       "100000      provide  0  \n",
       "10021   demonstrate  0  \n",
       "100210        apply  0  \n",
       "100240          use  0  \n",
       "100309    developed  0  \n",
       "100443          use  0  \n",
       "100468          did  0  \n",
       "100479       employ  0  \n",
       "100565       obtain  0  \n",
       "10062           aim  0  \n",
       "10063       present  0  \n",
       "10069         apply  0  \n",
       "100694         wish  0  \n",
       "100697        study  0  \n",
       "100711         lack  0  \n",
       "100712      present  0  \n",
       "100824      explore  0  \n",
       "1009        applied  0  \n",
       "100940      present  0  \n",
       "100948         used  0  "
      ]
     },
     "execution_count": 7,
     "metadata": {},
     "output_type": "execute_result"
    }
   ],
   "source": [
    "dfModel= pd.read_json('../data/modeldataMulti_03.json')\n",
    "dfModel.head(20)"
   ]
  },
  {
   "cell_type": "code",
   "execution_count": 8,
   "metadata": {},
   "outputs": [
    {
     "data": {
      "text/html": [
       "<div>\n",
       "<style scoped>\n",
       "    .dataframe tbody tr th:only-of-type {\n",
       "        vertical-align: middle;\n",
       "    }\n",
       "\n",
       "    .dataframe tbody tr th {\n",
       "        vertical-align: top;\n",
       "    }\n",
       "\n",
       "    .dataframe thead th {\n",
       "        text-align: right;\n",
       "    }\n",
       "</style>\n",
       "<table border=\"1\" class=\"dataframe\">\n",
       "  <thead>\n",
       "    <tr style=\"text-align: right;\">\n",
       "      <th></th>\n",
       "      <th>sentence</th>\n",
       "      <th>act</th>\n",
       "      <th>y</th>\n",
       "    </tr>\n",
       "  </thead>\n",
       "  <tbody>\n",
       "    <tr>\n",
       "      <th>99488</th>\n",
       "      <td>We explore the model dependence on the disk viscosity and find that the spectral index reveals the water snow line for a wide range of conditions, with opposite trends when the emission is optically thin rather than thick.</td>\n",
       "      <td>explore</td>\n",
       "      <td>0</td>\n",
       "    </tr>\n",
       "    <tr>\n",
       "      <th>99543</th>\n",
       "      <td>Using more realistic initial conditions obtained from a semi-analytical model, we found that the masses of the planets range from 1.18 M_(⊕) to 2.21 M_(⊕).</td>\n",
       "      <td>found</td>\n",
       "      <td>0</td>\n",
       "    </tr>\n",
       "    <tr>\n",
       "      <th>99558</th>\n",
       "      <td>We use a photochemical model coupled to a 1D radiative-convective climate model to self-consistently study this effect in atmospheres with N_(2), CO_(2) and H_(2)O as the main constituents.</td>\n",
       "      <td>use</td>\n",
       "      <td>0</td>\n",
       "    </tr>\n",
       "    <tr>\n",
       "      <th>99561</th>\n",
       "      <td>We use a radiative transfer model to study the spectroscopic fingerprint of these atmospheres in transit observations with a focus on the capabilities of the James Webb Space Telescope.</td>\n",
       "      <td>use</td>\n",
       "      <td>0</td>\n",
       "    </tr>\n",
       "    <tr>\n",
       "      <th>99568</th>\n",
       "      <td>In this paper we use the end-to-end instrument simulator EChOSim to model the currently discovered targets, to gauge which targets are observable and assess the EChO performances obtainable for each observing tier and time.</td>\n",
       "      <td>use</td>\n",
       "      <td>0</td>\n",
       "    </tr>\n",
       "    <tr>\n",
       "      <th>99649</th>\n",
       "      <td>We utilize these circulation models to aid in the interpretation of transmission spectra obtained using the Space Telescope Imaging Spectrograph (STIS) and Wide Field Camera 3 (WFC3) as a part of a large Hubble Space Telescope (HST) transmission spectral s...</td>\n",
       "      <td>utilize</td>\n",
       "      <td>0</td>\n",
       "    </tr>\n",
       "    <tr>\n",
       "      <th>99664</th>\n",
       "      <td>Next, we present tracer-transport simulations in a 2D chemical-diffusion-advection model (Shia et al.</td>\n",
       "      <td>present</td>\n",
       "      <td>0</td>\n",
       "    </tr>\n",
       "    <tr>\n",
       "      <th>99667</th>\n",
       "      <td>We show that the derived eddy diffusivity can depend strongly on the horizontal eddy mixing and chemistry, although the dependences are more complex than the analytic model predicts.</td>\n",
       "      <td>show</td>\n",
       "      <td>0</td>\n",
       "    </tr>\n",
       "    <tr>\n",
       "      <th>99750</th>\n",
       "      <td>We present a PYTHON package LDTK that automates the calculation of custom stellar limb-darkening (LD) profiles and model-specific limb-darkening coefficients using the library of PHOENIX-generated specific intensity spectra by Husser et al.</td>\n",
       "      <td>present</td>\n",
       "      <td>0</td>\n",
       "    </tr>\n",
       "    <tr>\n",
       "      <th>9978</th>\n",
       "      <td>&lt;BR /&gt; Aims: We aim to develop a simple model of the information content of asteroseismology and to characterize the ability and precision with which fundamental properties of stars can be estimated for different space missions.</td>\n",
       "      <td>aim</td>\n",
       "      <td>0</td>\n",
       "    </tr>\n",
       "    <tr>\n",
       "      <th>99843</th>\n",
       "      <td>Based on the age extrema, we demonstrate that with our photometric data alone, the companion's mass is highly uncertain: between 33 and 96 M_(Jup) (0.03-0.09 M_(☉)) using the COND evolutionary models.</td>\n",
       "      <td>demonstrate</td>\n",
       "      <td>0</td>\n",
       "    </tr>\n",
       "    <tr>\n",
       "      <th>99858</th>\n",
       "      <td>We simulate evolution through the runaway and oligarchic growth phases under the Grand Tack model and in the absence of giant planets.</td>\n",
       "      <td>simulate</td>\n",
       "      <td>0</td>\n",
       "    </tr>\n",
       "    <tr>\n",
       "      <th>9989</th>\n",
       "      <td>We model the settlement of the galaxy by space-faring civilizations in order to address issues related to the Fermi Paradox.</td>\n",
       "      <td>model</td>\n",
       "      <td>0</td>\n",
       "    </tr>\n",
       "    <tr>\n",
       "      <th>99926</th>\n",
       "      <td>In this work, we study angular momentum loss as a function of two different aspects of magnetic activity using a calibrated Alfvén wave-driven magnetohydrodynamic wind model: the strengths of magnetic spots and their distribution in latitude.</td>\n",
       "      <td>study</td>\n",
       "      <td>0</td>\n",
       "    </tr>\n",
       "    <tr>\n",
       "      <th>99927</th>\n",
       "      <td>By driving the model using solar and modified solar surface magnetograms, we show that the topology of the field arising from the net interaction of both small-scale and large-scale field is important for spin-down rates and that angular momentum loss is n...</td>\n",
       "      <td>show</td>\n",
       "      <td>0</td>\n",
       "    </tr>\n",
       "    <tr>\n",
       "      <th>99937</th>\n",
       "      <td>In this presentation, we will discuss our work on tidal decay and disruption of close-in gaseous planets using a new model that accounts for the fact that short-period planets have hot, distended atmospheres, which can result in overflow even for planets t...</td>\n",
       "      <td>discuss</td>\n",
       "      <td>0</td>\n",
       "    </tr>\n",
       "    <tr>\n",
       "      <th>99940</th>\n",
       "      <td>We are creating a dynamic model of the current asteroid population.</td>\n",
       "      <td>creating</td>\n",
       "      <td>0</td>\n",
       "    </tr>\n",
       "    <tr>\n",
       "      <th>99945</th>\n",
       "      <td>We report first results towards a validation of our model: long-term integrations of the planets alone as well as studies of the depletion of the Kirkwood gaps in the asteroid belt.</td>\n",
       "      <td>report</td>\n",
       "      <td>0</td>\n",
       "    </tr>\n",
       "    <tr>\n",
       "      <th>99996</th>\n",
       "      <td>In this brief review, we discuss both the history of gray techniques as well as recent applications of gray models, with an emphasis on planetary atmospheres.</td>\n",
       "      <td>discuss</td>\n",
       "      <td>0</td>\n",
       "    </tr>\n",
       "    <tr>\n",
       "      <th>99998</th>\n",
       "      <td>We present examples where gray radiative transfer tools are incorporated into three-dimensional atmospheric circulation models.</td>\n",
       "      <td>present</td>\n",
       "      <td>0</td>\n",
       "    </tr>\n",
       "  </tbody>\n",
       "</table>\n",
       "</div>"
      ],
      "text/plain": [
       "                                                                                                                                                                                                                                                                  sentence  \\\n",
       "99488                                       We explore the model dependence on the disk viscosity and find that the spectral index reveals the water snow line for a wide range of conditions, with opposite trends when the emission is optically thin rather than thick.   \n",
       "99543                                                                                                          Using more realistic initial conditions obtained from a semi-analytical model, we found that the masses of the planets range from 1.18 M_(⊕) to 2.21 M_(⊕).   \n",
       "99558                                                                        We use a photochemical model coupled to a 1D radiative-convective climate model to self-consistently study this effect in atmospheres with N_(2), CO_(2) and H_(2)O as the main constituents.   \n",
       "99561                                                                            We use a radiative transfer model to study the spectroscopic fingerprint of these atmospheres in transit observations with a focus on the capabilities of the James Webb Space Telescope.   \n",
       "99568                                      In this paper we use the end-to-end instrument simulator EChOSim to model the currently discovered targets, to gauge which targets are observable and assess the EChO performances obtainable for each observing tier and time.   \n",
       "99649  We utilize these circulation models to aid in the interpretation of transmission spectra obtained using the Space Telescope Imaging Spectrograph (STIS) and Wide Field Camera 3 (WFC3) as a part of a large Hubble Space Telescope (HST) transmission spectral s...   \n",
       "99664                                                                                                                                                                Next, we present tracer-transport simulations in a 2D chemical-diffusion-advection model (Shia et al.   \n",
       "99667                                                                               We show that the derived eddy diffusivity can depend strongly on the horizontal eddy mixing and chemistry, although the dependences are more complex than the analytic model predicts.   \n",
       "99750                     We present a PYTHON package LDTK that automates the calculation of custom stellar limb-darkening (LD) profiles and model-specific limb-darkening coefficients using the library of PHOENIX-generated specific intensity spectra by Husser et al.   \n",
       "9978                                  <BR /> Aims: We aim to develop a simple model of the information content of asteroseismology and to characterize the ability and precision with which fundamental properties of stars can be estimated for different space missions.   \n",
       "99843                                                             Based on the age extrema, we demonstrate that with our photometric data alone, the companion's mass is highly uncertain: between 33 and 96 M_(Jup) (0.03-0.09 M_(☉)) using the COND evolutionary models.   \n",
       "99858                                                                                                                               We simulate evolution through the runaway and oligarchic growth phases under the Grand Tack model and in the absence of giant planets.   \n",
       "9989                                                                                                                                          We model the settlement of the galaxy by space-faring civilizations in order to address issues related to the Fermi Paradox.   \n",
       "99926                   In this work, we study angular momentum loss as a function of two different aspects of magnetic activity using a calibrated Alfvén wave-driven magnetohydrodynamic wind model: the strengths of magnetic spots and their distribution in latitude.   \n",
       "99927  By driving the model using solar and modified solar surface magnetograms, we show that the topology of the field arising from the net interaction of both small-scale and large-scale field is important for spin-down rates and that angular momentum loss is n...   \n",
       "99937  In this presentation, we will discuss our work on tidal decay and disruption of close-in gaseous planets using a new model that accounts for the fact that short-period planets have hot, distended atmospheres, which can result in overflow even for planets t...   \n",
       "99940                                                                                                                                                                                                  We are creating a dynamic model of the current asteroid population.   \n",
       "99945                                                                                We report first results towards a validation of our model: long-term integrations of the planets alone as well as studies of the depletion of the Kirkwood gaps in the asteroid belt.   \n",
       "99996                                                                                                       In this brief review, we discuss both the history of gray techniques as well as recent applications of gray models, with an emphasis on planetary atmospheres.   \n",
       "99998                                                                                                                                      We present examples where gray radiative transfer tools are incorporated into three-dimensional atmospheric circulation models.   \n",
       "\n",
       "               act  y  \n",
       "99488      explore  0  \n",
       "99543        found  0  \n",
       "99558          use  0  \n",
       "99561          use  0  \n",
       "99568          use  0  \n",
       "99649      utilize  0  \n",
       "99664      present  0  \n",
       "99667         show  0  \n",
       "99750      present  0  \n",
       "9978           aim  0  \n",
       "99843  demonstrate  0  \n",
       "99858     simulate  0  \n",
       "9989         model  0  \n",
       "99926        study  0  \n",
       "99927         show  0  \n",
       "99937      discuss  0  \n",
       "99940     creating  0  \n",
       "99945       report  0  \n",
       "99996      discuss  0  \n",
       "99998      present  0  "
      ]
     },
     "execution_count": 8,
     "metadata": {},
     "output_type": "execute_result"
    }
   ],
   "source": [
    "dfModel.tail(20)"
   ]
  },
  {
   "cell_type": "code",
   "execution_count": 9,
   "metadata": {},
   "outputs": [],
   "source": [
    "X=list(dfModel[\"sentence\"])\n"
   ]
  },
  {
   "cell_type": "code",
   "execution_count": 10,
   "metadata": {},
   "outputs": [],
   "source": [
    "y=np.array(list(dfModel[\"y\"]))"
   ]
  },
  {
   "cell_type": "code",
   "execution_count": 11,
   "metadata": {},
   "outputs": [],
   "source": [
    "from collections import Counter\n",
    "category=Counter(y)\n",
    "count=dict(category)"
   ]
  },
  {
   "cell_type": "code",
   "execution_count": 12,
   "metadata": {},
   "outputs": [
    {
     "data": {
      "text/plain": [
       "{0: 6237, 1: 405, 2: 151, 3: 77}"
      ]
     },
     "execution_count": 12,
     "metadata": {},
     "output_type": "execute_result"
    }
   ],
   "source": [
    "count"
   ]
  },
  {
   "cell_type": "markdown",
   "metadata": {},
   "source": [
    "# Distribution of Samples "
   ]
  },
  {
   "cell_type": "code",
   "execution_count": 13,
   "metadata": {},
   "outputs": [
    {
     "data": {
      "text/plain": [
       "Text(0.5, 1.0, 'Distribution of samples over different classes')"
      ]
     },
     "execution_count": 13,
     "metadata": {},
     "output_type": "execute_result"
    },
    {
     "data": {
      "image/png": "[encoded data removed]",
      "text/plain": [
       "<Figure size 432x288 with 1 Axes>"
      ]
     },
     "metadata": {
      "needs_background": "light"
     },
     "output_type": "display_data"
    }
   ],
   "source": [
    "plt.bar(list(count.keys()),count.values(),color=\"r\",width=.4,tick_label=[\"0\",\"1\",\"2\",\"3\"])\n",
    "plt.title(\"Distribution of samples over different classes\")\n"
   ]
  },
  {
   "cell_type": "code",
   "execution_count": 14,
   "metadata": {},
   "outputs": [],
   "source": [
    "X,y = shuffle(X, y, random_state=42)\n",
    "X_train, X_test, y_train, y_test = train_test_split(\n",
    "X,y, test_size=0.25, random_state=42)    \n"
   ]
  },
  {
   "cell_type": "code",
   "execution_count": 15,
   "metadata": {},
   "outputs": [
    {
     "data": {
      "text/plain": [
       "6870"
      ]
     },
     "execution_count": 15,
     "metadata": {},
     "output_type": "execute_result"
    }
   ],
   "source": [
    "len(y)"
   ]
  },
  {
   "cell_type": "markdown",
   "metadata": {},
   "source": [
    "# Baseline models"
   ]
  },
  {
   "cell_type": "markdown",
   "metadata": {},
   "source": [
    "While training and buliding a model, we should keep in mind that there is never the best one. It is realtively experimental process. We start to try different trials. we tried different evaluation metrics"
   ]
  },
  {
   "cell_type": "markdown",
   "metadata": {},
   "source": [
    "We have tried the following models:\n",
    "- Multinomial Naïve Bayes\n",
    "- XGBoosts classifier\n",
    "- Random Forest\n",
    "- Support Vector Machine\n",
    "-  SGD Classifier\n"
   ]
  },
  {
   "cell_type": "code",
   "execution_count": 16,
   "metadata": {},
   "outputs": [],
   "source": [
    "def train_predict(clf,X_train,y_train,X_test,y_test):\n",
    "    clf.fit(X_train,y_train)\n",
    "    y_pred=clf.predict(X_test)\n",
    "    return y_pred"
   ]
  },
  {
   "cell_type": "code",
   "execution_count": 17,
   "metadata": {},
   "outputs": [],
   "source": [
    "def cross_validation_accuracy(clf,X,y):\n",
    "    scores = cross_val_score(clf, X, y, cv=3)\n",
    "    print(scores)\n",
    "    print('Accuracy of : {:.3f} ± {:.3f}'.format(np.mean(scores), 2 * np.std(scores)))"
   ]
  },
  {
   "cell_type": "code",
   "execution_count": 18,
   "metadata": {},
   "outputs": [],
   "source": [
    "def Color_Confusion_Matrix(y, y_test, y_pred):\n",
    "    cm=confusion_matrix(y_test, y_pred)\n",
    "    l=len(set(y))\n",
    "    df_cm = pd.DataFrame(cm, range(l), range(l))\n",
    "    sns.set(font_scale=1)\n",
    "    sns.heatmap(df_cm,cmap=\"Blues\", annot=True,annot_kws={\"size\": 16},fmt='g')\n",
    "    plt.ylabel('True label');\n",
    "    plt.xlabel('Predicted label');\n",
    "    plt.title(\"Confusion Matrix\", size = 16)\n",
    "    plt.savefig('CM_Test_01.png')"
   ]
  },
  {
   "cell_type": "code",
   "execution_count": 19,
   "metadata": {},
   "outputs": [],
   "source": [
    "from sklearn.metrics import roc_curve  \n",
    "from sklearn.metrics import roc_auc_score \n",
    "def plot_roc_curve(fpr, tpr,auc):  \n",
    "    plt.plot(fpr, tpr, color='orange', label='ROC')\n",
    "    plt.plot([0, 1], [0, 1], color='darkblue', linestyle='--')\n",
    "    plt.xlabel('False Positive Rate')\n",
    "    plt.ylabel('True Positive Rate')\n",
    "    plt.title('Receiver Operating Characteristic (ROC) Curve with AUC {:.3f}'.format(AUC))\n",
    "    plt.legend()\n",
    "    plt.show()"
   ]
  },
  {
   "cell_type": "markdown",
   "metadata": {},
   "source": [
    "# Models as trails for Classifcation"
   ]
  },
  {
   "cell_type": "code",
   "execution_count": 20,
   "metadata": {},
   "outputs": [],
   "source": [
    "## 01-Naive Bayes\n",
    "trial_01=Pipeline([ ('vectorizer', TfidfVectorizer()), ('classifier', MultinomialNB())])\n",
    "################################################################################\n",
    "\n",
    "\n",
    "## 02-XGBClassifier\n",
    "trial_02 = Pipeline([('vect', CountVectorizer(stop_words='english')),\n",
    "                     ('clf', XGBClassifier())])\n",
    "################################################################################\n",
    "## 03-Random Forest Classifier\n",
    "trial_03= Pipeline([('vect', CountVectorizer(stop_words='english')),\n",
    "                     ('clf', RandomForestClassifier(n_estimators=1000, random_state=0))])\n",
    "\n",
    "################################################################################\n",
    "## 04-SVC Classifier\n",
    "vec = TfidfVectorizer(min_df=3,ngram_range=(1, 2))\n",
    "svd = TruncatedSVD()\n",
    "pipe = make_pipeline(vec, svd)\n",
    "clf = SVC()\n",
    "trial_04 = make_pipeline(pipe, clf)\n",
    "\n",
    "#################################################################################\n",
    "# 05- SGD Classifier\n",
    "vec=TfidfVectorizer(stop_words='english')\n",
    "clf= SGDClassifier(loss=\"log\")\n",
    "trial_05=Pipeline([(\"vect\",vec),(\"clf\",clf)])\n",
    "\n",
    "#################################################################################\n",
    "\n"
   ]
  },
  {
   "cell_type": "markdown",
   "metadata": {},
   "source": [
    "In this notebooks, We have found the following models as baseline models:\n",
    "- 1) SGD Classifier\n",
    "- 2) XG Boost"
   ]
  },
  {
   "cell_type": "markdown",
   "metadata": {},
   "source": [
    "# 1) Training and Prediction by SGDClassifier"
   ]
  },
  {
   "cell_type": "code",
   "execution_count": 21,
   "metadata": {},
   "outputs": [],
   "source": [
    "y_pred=train_predict(trial_05,X_train,y_train,X_test,y_test)"
   ]
  },
  {
   "cell_type": "markdown",
   "metadata": {},
   "source": [
    "## Evaluation"
   ]
  },
  {
   "cell_type": "markdown",
   "metadata": {},
   "source": [
    "## a) train-test-split"
   ]
  },
  {
   "cell_type": "code",
   "execution_count": 22,
   "metadata": {},
   "outputs": [
    {
     "name": "stdout",
     "output_type": "stream",
     "text": [
      "              precision    recall  f1-score   support\n",
      "\n",
      "           0       0.95      1.00      0.98      1572\n",
      "           1       0.98      0.66      0.79        85\n",
      "           2       1.00      0.28      0.44        43\n",
      "           3       1.00      0.06      0.11        18\n",
      "\n",
      "    accuracy                           0.96      1718\n",
      "   macro avg       0.98      0.50      0.58      1718\n",
      "weighted avg       0.96      0.96      0.94      1718\n",
      "\n"
     ]
    },
    {
     "data": {
      "image/png": "[encoded data removed]",
      "text/plain": [
       "<Figure size 432x288 with 2 Axes>"
      ]
     },
     "metadata": {},
     "output_type": "display_data"
    }
   ],
   "source": [
    "cr=classification_report(y_test,y_pred)\n",
    "print(cr)\n",
    "Color_Confusion_Matrix(y=y,y_test=y_test,y_pred=y_pred)"
   ]
  },
  {
   "cell_type": "markdown",
   "metadata": {},
   "source": [
    "## b) 10 fold cross valdiation"
   ]
  },
  {
   "cell_type": "code",
   "execution_count": 23,
   "metadata": {},
   "outputs": [
    {
     "name": "stdout",
     "output_type": "stream",
     "text": [
      "[0.95198603 0.95545852 0.95063346]\n",
      "Accuracy of : 0.953 ± 0.004\n"
     ]
    }
   ],
   "source": [
    "cross_validation_accuracy(trial_05,X,y)"
   ]
  },
  {
   "cell_type": "code",
   "execution_count": 24,
   "metadata": {},
   "outputs": [
    {
     "name": "stdout",
     "output_type": "stream",
     "text": [
      "              precision    recall  f1-score   support\n",
      "\n",
      "           0       0.95      1.00      0.98      6237\n",
      "           1       0.98      0.66      0.79       405\n",
      "           2       1.00      0.24      0.39       151\n",
      "           3       1.00      0.17      0.29        77\n",
      "\n",
      "    accuracy                           0.95      6870\n",
      "   macro avg       0.98      0.52      0.61      6870\n",
      "weighted avg       0.96      0.95      0.94      6870\n",
      "\n"
     ]
    },
    {
     "data": {
      "image/png": "[encoded data removed]",
      "text/plain": [
       "<Figure size 432x288 with 2 Axes>"
      ]
     },
     "metadata": {},
     "output_type": "display_data"
    }
   ],
   "source": [
    "y_pred = cross_val_predict(trial_05, X, y, cv=10)\n",
    "cr=classification_report(y,y_pred)\n",
    "print(cr)\n",
    "cm = confusion_matrix(y_pred,y)\n",
    "Color_Confusion_Matrix(y=y,y_test=y,y_pred=y_pred)"
   ]
  },
  {
   "cell_type": "markdown",
   "metadata": {},
   "source": [
    "As you see the results are improved by parameter tuning"
   ]
  },
  {
   "cell_type": "markdown",
   "metadata": {},
   "source": [
    "## 1-a) Parameter Tuning on SGDClassifier"
   ]
  },
  {
   "cell_type": "code",
   "execution_count": 25,
   "metadata": {},
   "outputs": [],
   "source": [
    "param_grid_01= {\n",
    "    'clf__alpha': [1e-4, 1e-3, 1e-2, 1e-1, 1e0, 1e-1, 1e2, 1e3], # learning rate\n",
    "    'clf__max_iter': [1000], # number of epochs\n",
    "    'clf__penalty': ['l2'],\n",
    "    'clf__loss': ['hinge','log'],\n",
    "    'clf__n_jobs': [-1],\n",
    "     'clf__tol': [1e-4, 1e-3, 1e-2]\n",
    "}\n",
    "trial_05_01 = GridSearchCV(trial_05, param_grid=param_grid_01, cv=5, n_jobs=-1, verbose=2)"
   ]
  },
  {
   "cell_type": "code",
   "execution_count": 26,
   "metadata": {},
   "outputs": [
    {
     "name": "stdout",
     "output_type": "stream",
     "text": [
      "Fitting 5 folds for each of 48 candidates, totalling 240 fits\n"
     ]
    },
    {
     "name": "stderr",
     "output_type": "stream",
     "text": [
      "[Parallel(n_jobs=-1)]: Using backend LokyBackend with 8 concurrent workers.\n",
      "[Parallel(n_jobs=-1)]: Done  25 tasks      | elapsed:    3.0s\n",
      "[Parallel(n_jobs=-1)]: Done 146 tasks      | elapsed:    8.3s\n",
      "[Parallel(n_jobs=-1)]: Done 240 out of 240 | elapsed:   12.1s finished\n"
     ]
    },
    {
     "data": {
      "text/plain": [
       "GridSearchCV(cv=5, error_score='raise-deprecating',\n",
       "             estimator=Pipeline(memory=None,\n",
       "                                steps=[('vect',\n",
       "                                        TfidfVectorizer(analyzer='word',\n",
       "                                                        binary=False,\n",
       "                                                        decode_error='strict',\n",
       "                                                        dtype=<class 'numpy.float64'>,\n",
       "                                                        encoding='utf-8',\n",
       "                                                        input='content',\n",
       "                                                        lowercase=True,\n",
       "                                                        max_df=1.0,\n",
       "                                                        max_features=None,\n",
       "                                                        min_df=1,\n",
       "                                                        ngram_range=(1, 1),\n",
       "                                                        norm='l2',\n",
       "                                                        preprocessor=None,\n",
       "                                                        smooth_idf=True,\n",
       "                                                        stop_words...\n",
       "                                                      validation_fraction=0.1,\n",
       "                                                      verbose=0,\n",
       "                                                      warm_start=False))],\n",
       "                                verbose=False),\n",
       "             iid='warn', n_jobs=-1,\n",
       "             param_grid={'clf__alpha': [0.0001, 0.001, 0.01, 0.1, 1.0, 0.1,\n",
       "                                        100.0, 1000.0],\n",
       "                         'clf__loss': ['hinge', 'log'], 'clf__max_iter': [1000],\n",
       "                         'clf__n_jobs': [-1], 'clf__penalty': ['l2'],\n",
       "                         'clf__tol': [0.0001, 0.001, 0.01]},\n",
       "             pre_dispatch='2*n_jobs', refit=True, return_train_score=False,\n",
       "             scoring=None, verbose=2)"
      ]
     },
     "execution_count": 26,
     "metadata": {},
     "output_type": "execute_result"
    }
   ],
   "source": [
    "trial_05_01.fit(X_train,y_train)"
   ]
  },
  {
   "cell_type": "markdown",
   "metadata": {},
   "source": [
    "## Result of grid search over different parameters"
   ]
  },
  {
   "cell_type": "code",
   "execution_count": 27,
   "metadata": {},
   "outputs": [
    {
     "data": {
      "text/html": [
       "<div>\n",
       "<style scoped>\n",
       "    .dataframe tbody tr th:only-of-type {\n",
       "        vertical-align: middle;\n",
       "    }\n",
       "\n",
       "    .dataframe tbody tr th {\n",
       "        vertical-align: top;\n",
       "    }\n",
       "\n",
       "    .dataframe thead th {\n",
       "        text-align: right;\n",
       "    }\n",
       "</style>\n",
       "<table border=\"1\" class=\"dataframe\">\n",
       "  <thead>\n",
       "    <tr style=\"text-align: right;\">\n",
       "      <th></th>\n",
       "      <th>mean_fit_time</th>\n",
       "      <th>std_fit_time</th>\n",
       "      <th>mean_score_time</th>\n",
       "      <th>std_score_time</th>\n",
       "      <th>param_clf__alpha</th>\n",
       "      <th>param_clf__loss</th>\n",
       "      <th>param_clf__max_iter</th>\n",
       "      <th>param_clf__n_jobs</th>\n",
       "      <th>param_clf__penalty</th>\n",
       "      <th>param_clf__tol</th>\n",
       "      <th>params</th>\n",
       "      <th>split0_test_score</th>\n",
       "      <th>split1_test_score</th>\n",
       "      <th>split2_test_score</th>\n",
       "      <th>split3_test_score</th>\n",
       "      <th>split4_test_score</th>\n",
       "      <th>mean_test_score</th>\n",
       "      <th>std_test_score</th>\n",
       "      <th>rank_test_score</th>\n",
       "    </tr>\n",
       "  </thead>\n",
       "  <tbody>\n",
       "    <tr>\n",
       "      <th>0</th>\n",
       "      <td>0.359439</td>\n",
       "      <td>0.024806</td>\n",
       "      <td>0.035506</td>\n",
       "      <td>0.002326</td>\n",
       "      <td>0.0001</td>\n",
       "      <td>hinge</td>\n",
       "      <td>1000</td>\n",
       "      <td>-1</td>\n",
       "      <td>l2</td>\n",
       "      <td>0.0001</td>\n",
       "      <td>{'clf__alpha': 0.0001, 'clf__loss': 'hinge', 'clf__max_iter': 1000, 'clf__n_jobs': -1, 'clf__penalty': 'l2', 'clf__tol': 0.0001}</td>\n",
       "      <td>0.996120</td>\n",
       "      <td>0.999030</td>\n",
       "      <td>0.996120</td>\n",
       "      <td>0.998058</td>\n",
       "      <td>0.996113</td>\n",
       "      <td>0.997089</td>\n",
       "      <td>0.001228</td>\n",
       "      <td>1</td>\n",
       "    </tr>\n",
       "    <tr>\n",
       "      <th>1</th>\n",
       "      <td>0.296806</td>\n",
       "      <td>0.027680</td>\n",
       "      <td>0.036304</td>\n",
       "      <td>0.004068</td>\n",
       "      <td>0.0001</td>\n",
       "      <td>hinge</td>\n",
       "      <td>1000</td>\n",
       "      <td>-1</td>\n",
       "      <td>l2</td>\n",
       "      <td>0.001</td>\n",
       "      <td>{'clf__alpha': 0.0001, 'clf__loss': 'hinge', 'clf__max_iter': 1000, 'clf__n_jobs': -1, 'clf__penalty': 'l2', 'clf__tol': 0.001}</td>\n",
       "      <td>0.996120</td>\n",
       "      <td>0.999030</td>\n",
       "      <td>0.996120</td>\n",
       "      <td>0.998058</td>\n",
       "      <td>0.995141</td>\n",
       "      <td>0.996894</td>\n",
       "      <td>0.001427</td>\n",
       "      <td>2</td>\n",
       "    </tr>\n",
       "    <tr>\n",
       "      <th>2</th>\n",
       "      <td>0.267285</td>\n",
       "      <td>0.003836</td>\n",
       "      <td>0.040292</td>\n",
       "      <td>0.006955</td>\n",
       "      <td>0.0001</td>\n",
       "      <td>hinge</td>\n",
       "      <td>1000</td>\n",
       "      <td>-1</td>\n",
       "      <td>l2</td>\n",
       "      <td>0.01</td>\n",
       "      <td>{'clf__alpha': 0.0001, 'clf__loss': 'hinge', 'clf__max_iter': 1000, 'clf__n_jobs': -1, 'clf__penalty': 'l2', 'clf__tol': 0.01}</td>\n",
       "      <td>0.995150</td>\n",
       "      <td>0.998060</td>\n",
       "      <td>0.996120</td>\n",
       "      <td>0.996117</td>\n",
       "      <td>0.994169</td>\n",
       "      <td>0.995924</td>\n",
       "      <td>0.001290</td>\n",
       "      <td>3</td>\n",
       "    </tr>\n",
       "    <tr>\n",
       "      <th>4</th>\n",
       "      <td>0.273469</td>\n",
       "      <td>0.015912</td>\n",
       "      <td>0.039894</td>\n",
       "      <td>0.003568</td>\n",
       "      <td>0.0001</td>\n",
       "      <td>log</td>\n",
       "      <td>1000</td>\n",
       "      <td>-1</td>\n",
       "      <td>l2</td>\n",
       "      <td>0.001</td>\n",
       "      <td>{'clf__alpha': 0.0001, 'clf__loss': 'log', 'clf__max_iter': 1000, 'clf__n_jobs': -1, 'clf__penalty': 'l2', 'clf__tol': 0.001}</td>\n",
       "      <td>0.955383</td>\n",
       "      <td>0.949564</td>\n",
       "      <td>0.955383</td>\n",
       "      <td>0.953398</td>\n",
       "      <td>0.948494</td>\n",
       "      <td>0.952446</td>\n",
       "      <td>0.002901</td>\n",
       "      <td>4</td>\n",
       "    </tr>\n",
       "    <tr>\n",
       "      <th>5</th>\n",
       "      <td>0.276860</td>\n",
       "      <td>0.006869</td>\n",
       "      <td>0.035505</td>\n",
       "      <td>0.003969</td>\n",
       "      <td>0.0001</td>\n",
       "      <td>log</td>\n",
       "      <td>1000</td>\n",
       "      <td>-1</td>\n",
       "      <td>l2</td>\n",
       "      <td>0.01</td>\n",
       "      <td>{'clf__alpha': 0.0001, 'clf__loss': 'log', 'clf__max_iter': 1000, 'clf__n_jobs': -1, 'clf__penalty': 'l2', 'clf__tol': 0.01}</td>\n",
       "      <td>0.956353</td>\n",
       "      <td>0.949564</td>\n",
       "      <td>0.954413</td>\n",
       "      <td>0.953398</td>\n",
       "      <td>0.948494</td>\n",
       "      <td>0.952446</td>\n",
       "      <td>0.002965</td>\n",
       "      <td>4</td>\n",
       "    </tr>\n",
       "  </tbody>\n",
       "</table>\n",
       "</div>"
      ],
      "text/plain": [
       "   mean_fit_time  std_fit_time  mean_score_time  std_score_time  \\\n",
       "0       0.359439      0.024806         0.035506        0.002326   \n",
       "1       0.296806      0.027680         0.036304        0.004068   \n",
       "2       0.267285      0.003836         0.040292        0.006955   \n",
       "4       0.273469      0.015912         0.039894        0.003568   \n",
       "5       0.276860      0.006869         0.035505        0.003969   \n",
       "\n",
       "  param_clf__alpha param_clf__loss param_clf__max_iter param_clf__n_jobs  \\\n",
       "0           0.0001           hinge                1000                -1   \n",
       "1           0.0001           hinge                1000                -1   \n",
       "2           0.0001           hinge                1000                -1   \n",
       "4           0.0001             log                1000                -1   \n",
       "5           0.0001             log                1000                -1   \n",
       "\n",
       "  param_clf__penalty param_clf__tol  \\\n",
       "0                 l2         0.0001   \n",
       "1                 l2          0.001   \n",
       "2                 l2           0.01   \n",
       "4                 l2          0.001   \n",
       "5                 l2           0.01   \n",
       "\n",
       "                                                                                                                             params  \\\n",
       "0  {'clf__alpha': 0.0001, 'clf__loss': 'hinge', 'clf__max_iter': 1000, 'clf__n_jobs': -1, 'clf__penalty': 'l2', 'clf__tol': 0.0001}   \n",
       "1   {'clf__alpha': 0.0001, 'clf__loss': 'hinge', 'clf__max_iter': 1000, 'clf__n_jobs': -1, 'clf__penalty': 'l2', 'clf__tol': 0.001}   \n",
       "2    {'clf__alpha': 0.0001, 'clf__loss': 'hinge', 'clf__max_iter': 1000, 'clf__n_jobs': -1, 'clf__penalty': 'l2', 'clf__tol': 0.01}   \n",
       "4     {'clf__alpha': 0.0001, 'clf__loss': 'log', 'clf__max_iter': 1000, 'clf__n_jobs': -1, 'clf__penalty': 'l2', 'clf__tol': 0.001}   \n",
       "5      {'clf__alpha': 0.0001, 'clf__loss': 'log', 'clf__max_iter': 1000, 'clf__n_jobs': -1, 'clf__penalty': 'l2', 'clf__tol': 0.01}   \n",
       "\n",
       "   split0_test_score  split1_test_score  split2_test_score  split3_test_score  \\\n",
       "0           0.996120           0.999030           0.996120           0.998058   \n",
       "1           0.996120           0.999030           0.996120           0.998058   \n",
       "2           0.995150           0.998060           0.996120           0.996117   \n",
       "4           0.955383           0.949564           0.955383           0.953398   \n",
       "5           0.956353           0.949564           0.954413           0.953398   \n",
       "\n",
       "   split4_test_score  mean_test_score  std_test_score  rank_test_score  \n",
       "0           0.996113         0.997089        0.001228                1  \n",
       "1           0.995141         0.996894        0.001427                2  \n",
       "2           0.994169         0.995924        0.001290                3  \n",
       "4           0.948494         0.952446        0.002901                4  \n",
       "5           0.948494         0.952446        0.002965                4  "
      ]
     },
     "execution_count": 27,
     "metadata": {},
     "output_type": "execute_result"
    }
   ],
   "source": [
    "results =pd.DataFrame(trial_05_01.cv_results_)\n",
    "results = results.sort_values(by='mean_test_score', ascending=False)\n",
    "results.head()"
   ]
  },
  {
   "cell_type": "markdown",
   "metadata": {},
   "source": [
    "## Using Best estimator to improve the model"
   ]
  },
  {
   "cell_type": "code",
   "execution_count": 28,
   "metadata": {},
   "outputs": [],
   "source": [
    "clf_05_01=trial_05_01.best_estimator_"
   ]
  },
  {
   "cell_type": "code",
   "execution_count": 29,
   "metadata": {},
   "outputs": [],
   "source": [
    "y_pred=clf_05_01.predict(X_test)"
   ]
  },
  {
   "cell_type": "markdown",
   "metadata": {},
   "source": [
    "## Evaluation after parameter tuning"
   ]
  },
  {
   "cell_type": "code",
   "execution_count": 30,
   "metadata": {},
   "outputs": [
    {
     "name": "stdout",
     "output_type": "stream",
     "text": [
      "              precision    recall  f1-score   support\n",
      "\n",
      "           0       0.99      1.00      1.00      1572\n",
      "           1       0.99      0.95      0.97        85\n",
      "           2       1.00      0.91      0.95        43\n",
      "           3       1.00      1.00      1.00        18\n",
      "\n",
      "    accuracy                           0.99      1718\n",
      "   macro avg       1.00      0.96      0.98      1718\n",
      "weighted avg       0.99      0.99      0.99      1718\n",
      "\n"
     ]
    },
    {
     "data": {
      "image/png": "[encoded data removed]",
      "text/plain": [
       "<Figure size 432x288 with 2 Axes>"
      ]
     },
     "metadata": {},
     "output_type": "display_data"
    }
   ],
   "source": [
    "cr=classification_report(y_test,y_pred)\n",
    "print(cr)\n",
    "Color_Confusion_Matrix(y=y,y_test=y_test,y_pred=y_pred)"
   ]
  },
  {
   "cell_type": "code",
   "execution_count": 31,
   "metadata": {},
   "outputs": [
    {
     "name": "stdout",
     "output_type": "stream",
     "text": [
      "[0.99607158 0.99737991 0.99563128]\n",
      "Accuracy of : 0.996 ± 0.001\n"
     ]
    }
   ],
   "source": [
    "cross_validation_accuracy(clf_05_01,X,y)"
   ]
  },
  {
   "cell_type": "code",
   "execution_count": 32,
   "metadata": {},
   "outputs": [
    {
     "name": "stdout",
     "output_type": "stream",
     "text": [
      "              precision    recall  f1-score   support\n",
      "\n",
      "           0       1.00      1.00      1.00      6237\n",
      "           1       0.99      0.98      0.99       405\n",
      "           2       1.00      0.96      0.98       151\n",
      "           3       1.00      0.94      0.97        77\n",
      "\n",
      "    accuracy                           1.00      6870\n",
      "   macro avg       1.00      0.97      0.98      6870\n",
      "weighted avg       1.00      1.00      1.00      6870\n",
      "\n"
     ]
    },
    {
     "data": {
      "image/png": "[encoded data removed]",
      "text/plain": [
       "<Figure size 432x288 with 2 Axes>"
      ]
     },
     "metadata": {},
     "output_type": "display_data"
    }
   ],
   "source": [
    "y_pred = cross_val_predict(clf_05_01, X, y, cv=5)\n",
    "cr=classification_report(y,y_pred)\n",
    "print(cr)\n",
    "cm = confusion_matrix(y_pred,y)\n",
    "Color_Confusion_Matrix(y=y,y_test=y,y_pred=y_pred)"
   ]
  },
  {
   "cell_type": "markdown",
   "metadata": {},
   "source": [
    "As you see the result is improved by parameter tuning"
   ]
  },
  {
   "cell_type": "markdown",
   "metadata": {},
   "source": [
    "# 2) Training and Prediction by XGboost"
   ]
  },
  {
   "cell_type": "code",
   "execution_count": 33,
   "metadata": {},
   "outputs": [],
   "source": [
    "y_pred=train_predict(trial_02,X_train,y_train,X_test,y_test)"
   ]
  },
  {
   "cell_type": "markdown",
   "metadata": {},
   "source": [
    "## Evaluation"
   ]
  },
  {
   "cell_type": "markdown",
   "metadata": {},
   "source": [
    "## a) train-test-split"
   ]
  },
  {
   "cell_type": "code",
   "execution_count": 34,
   "metadata": {},
   "outputs": [
    {
     "name": "stdout",
     "output_type": "stream",
     "text": [
      "              precision    recall  f1-score   support\n",
      "\n",
      "           0       1.00      1.00      1.00      1572\n",
      "           1       0.99      0.98      0.98        85\n",
      "           2       1.00      1.00      1.00        43\n",
      "           3       1.00      1.00      1.00        18\n",
      "\n",
      "    accuracy                           1.00      1718\n",
      "   macro avg       1.00      0.99      1.00      1718\n",
      "weighted avg       1.00      1.00      1.00      1718\n",
      "\n"
     ]
    },
    {
     "data": {
      "image/png": "[encoded data removed]",
      "text/plain": [
       "<Figure size 432x288 with 2 Axes>"
      ]
     },
     "metadata": {},
     "output_type": "display_data"
    }
   ],
   "source": [
    "cr=classification_report(y_test,y_pred)\n",
    "print(cr)\n",
    "Color_Confusion_Matrix(y=y,y_test=y_test,y_pred=y_pred)"
   ]
  },
  {
   "cell_type": "markdown",
   "metadata": {},
   "source": [
    "## b) 10 fold cross valdiation"
   ]
  },
  {
   "cell_type": "code",
   "execution_count": 35,
   "metadata": {},
   "outputs": [
    {
     "name": "stdout",
     "output_type": "stream",
     "text": [
      "[0.99956351 0.99912664 0.99912626]\n",
      "Accuracy of : 0.999 ± 0.000\n"
     ]
    }
   ],
   "source": [
    "cross_validation_accuracy(trial_02,X,y)"
   ]
  },
  {
   "cell_type": "code",
   "execution_count": 36,
   "metadata": {},
   "outputs": [
    {
     "name": "stdout",
     "output_type": "stream",
     "text": [
      "              precision    recall  f1-score   support\n",
      "\n",
      "           0       1.00      1.00      1.00      6237\n",
      "           1       1.00      0.99      0.99       405\n",
      "           2       1.00      1.00      1.00       151\n",
      "           3       1.00      1.00      1.00        77\n",
      "\n",
      "    accuracy                           1.00      6870\n",
      "   macro avg       1.00      1.00      1.00      6870\n",
      "weighted avg       1.00      1.00      1.00      6870\n",
      "\n"
     ]
    },
    {
     "data": {
      "image/png": "[encoded data removed]",
      "text/plain": [
       "<Figure size 432x288 with 2 Axes>"
      ]
     },
     "metadata": {},
     "output_type": "display_data"
    }
   ],
   "source": [
    "y_pred = cross_val_predict(trial_02, X, y, cv=10)\n",
    "cr=classification_report(y,y_pred)\n",
    "print(cr)\n",
    "cm = confusion_matrix(y_pred,y)\n",
    "Color_Confusion_Matrix(y=y,y_test=y,y_pred=y_pred)"
   ]
  },
  {
   "cell_type": "code",
   "execution_count": 37,
   "metadata": {},
   "outputs": [],
   "source": [
    "y_pred=train_predict(trial_02,X_train,y_train,X_test,y_test)"
   ]
  },
  {
   "cell_type": "markdown",
   "metadata": {},
   "source": [
    "## Parameter Tuning on XGB Classifier"
   ]
  },
  {
   "cell_type": "code",
   "execution_count": 38,
   "metadata": {},
   "outputs": [],
   "source": [
    "param_grid_02= {\n",
    "    'clf__C': [1e-7, 1e-6, 1e-5, 1e-4, 1e-3, 1e-2, 1e-1, 1e0],\n",
    "    'clf__penalty': ['l2'],\n",
    "    'clf__n_jobs': [-1]\n",
    "}\n",
    "trial_02_01 = GridSearchCV(trial_02, param_grid=param_grid_02, cv=3, n_jobs=-1, verbose=2,scoring='f1_weighted')"
   ]
  },
  {
   "cell_type": "code",
   "execution_count": 39,
   "metadata": {},
   "outputs": [
    {
     "name": "stdout",
     "output_type": "stream",
     "text": [
      "Fitting 3 folds for each of 8 candidates, totalling 24 fits\n"
     ]
    },
    {
     "name": "stderr",
     "output_type": "stream",
     "text": [
      "[Parallel(n_jobs=-1)]: Using backend LokyBackend with 8 concurrent workers.\n",
      "[Parallel(n_jobs=-1)]: Done  22 out of  24 | elapsed:   29.2s remaining:    2.6s\n",
      "[Parallel(n_jobs=-1)]: Done  24 out of  24 | elapsed:   29.4s finished\n"
     ]
    },
    {
     "data": {
      "text/plain": [
       "GridSearchCV(cv=3, error_score='raise-deprecating',\n",
       "             estimator=Pipeline(memory=None,\n",
       "                                steps=[('vect',\n",
       "                                        CountVectorizer(analyzer='word',\n",
       "                                                        binary=False,\n",
       "                                                        decode_error='strict',\n",
       "                                                        dtype=<class 'numpy.int64'>,\n",
       "                                                        encoding='utf-8',\n",
       "                                                        input='content',\n",
       "                                                        lowercase=True,\n",
       "                                                        max_df=1.0,\n",
       "                                                        max_features=None,\n",
       "                                                        min_df=1,\n",
       "                                                        ngram_range=(1, 1),\n",
       "                                                        preprocessor=None,\n",
       "                                                        stop_words='english',\n",
       "                                                        strip_accents=Non...\n",
       "                                                      objective='multi:softprob',\n",
       "                                                      random_state=0,\n",
       "                                                      reg_alpha=0, reg_lambda=1,\n",
       "                                                      scale_pos_weight=1,\n",
       "                                                      seed=None, silent=None,\n",
       "                                                      subsample=1,\n",
       "                                                      verbosity=1))],\n",
       "                                verbose=False),\n",
       "             iid='warn', n_jobs=-1,\n",
       "             param_grid={'clf__C': [1e-07, 1e-06, 1e-05, 0.0001, 0.001, 0.01,\n",
       "                                    0.1, 1.0],\n",
       "                         'clf__n_jobs': [-1], 'clf__penalty': ['l2']},\n",
       "             pre_dispatch='2*n_jobs', refit=True, return_train_score=False,\n",
       "             scoring='f1_weighted', verbose=2)"
      ]
     },
     "execution_count": 39,
     "metadata": {},
     "output_type": "execute_result"
    }
   ],
   "source": [
    "trial_02_01.fit(X_train,y_train)"
   ]
  },
  {
   "cell_type": "markdown",
   "metadata": {},
   "source": [
    "## Result of grid search over different parameters"
   ]
  },
  {
   "cell_type": "code",
   "execution_count": 40,
   "metadata": {},
   "outputs": [
    {
     "data": {
      "text/html": [
       "<div>\n",
       "<style scoped>\n",
       "    .dataframe tbody tr th:only-of-type {\n",
       "        vertical-align: middle;\n",
       "    }\n",
       "\n",
       "    .dataframe tbody tr th {\n",
       "        vertical-align: top;\n",
       "    }\n",
       "\n",
       "    .dataframe thead th {\n",
       "        text-align: right;\n",
       "    }\n",
       "</style>\n",
       "<table border=\"1\" class=\"dataframe\">\n",
       "  <thead>\n",
       "    <tr style=\"text-align: right;\">\n",
       "      <th></th>\n",
       "      <th>mean_fit_time</th>\n",
       "      <th>std_fit_time</th>\n",
       "      <th>mean_score_time</th>\n",
       "      <th>std_score_time</th>\n",
       "      <th>param_clf__C</th>\n",
       "      <th>param_clf__n_jobs</th>\n",
       "      <th>param_clf__penalty</th>\n",
       "      <th>params</th>\n",
       "      <th>split0_test_score</th>\n",
       "      <th>split1_test_score</th>\n",
       "      <th>split2_test_score</th>\n",
       "      <th>mean_test_score</th>\n",
       "      <th>std_test_score</th>\n",
       "      <th>rank_test_score</th>\n",
       "    </tr>\n",
       "  </thead>\n",
       "  <tbody>\n",
       "    <tr>\n",
       "      <th>0</th>\n",
       "      <td>9.491300</td>\n",
       "      <td>0.130724</td>\n",
       "      <td>0.090757</td>\n",
       "      <td>0.002154</td>\n",
       "      <td>1e-07</td>\n",
       "      <td>-1</td>\n",
       "      <td>l2</td>\n",
       "      <td>{'clf__C': 1e-07, 'clf__n_jobs': -1, 'clf__penalty': 'l2'}</td>\n",
       "      <td>1.0</td>\n",
       "      <td>0.999419</td>\n",
       "      <td>0.999416</td>\n",
       "      <td>0.999612</td>\n",
       "      <td>0.000275</td>\n",
       "      <td>1</td>\n",
       "    </tr>\n",
       "    <tr>\n",
       "      <th>1</th>\n",
       "      <td>9.622948</td>\n",
       "      <td>0.201686</td>\n",
       "      <td>0.088431</td>\n",
       "      <td>0.003291</td>\n",
       "      <td>1e-06</td>\n",
       "      <td>-1</td>\n",
       "      <td>l2</td>\n",
       "      <td>{'clf__C': 1e-06, 'clf__n_jobs': -1, 'clf__penalty': 'l2'}</td>\n",
       "      <td>1.0</td>\n",
       "      <td>0.999419</td>\n",
       "      <td>0.999416</td>\n",
       "      <td>0.999612</td>\n",
       "      <td>0.000275</td>\n",
       "      <td>1</td>\n",
       "    </tr>\n",
       "    <tr>\n",
       "      <th>2</th>\n",
       "      <td>9.489638</td>\n",
       "      <td>0.132194</td>\n",
       "      <td>0.101728</td>\n",
       "      <td>0.017635</td>\n",
       "      <td>1e-05</td>\n",
       "      <td>-1</td>\n",
       "      <td>l2</td>\n",
       "      <td>{'clf__C': 1e-05, 'clf__n_jobs': -1, 'clf__penalty': 'l2'}</td>\n",
       "      <td>1.0</td>\n",
       "      <td>0.999419</td>\n",
       "      <td>0.999416</td>\n",
       "      <td>0.999612</td>\n",
       "      <td>0.000275</td>\n",
       "      <td>1</td>\n",
       "    </tr>\n",
       "    <tr>\n",
       "      <th>3</th>\n",
       "      <td>9.324414</td>\n",
       "      <td>0.034166</td>\n",
       "      <td>0.089095</td>\n",
       "      <td>0.002618</td>\n",
       "      <td>0.0001</td>\n",
       "      <td>-1</td>\n",
       "      <td>l2</td>\n",
       "      <td>{'clf__C': 0.0001, 'clf__n_jobs': -1, 'clf__penalty': 'l2'}</td>\n",
       "      <td>1.0</td>\n",
       "      <td>0.999419</td>\n",
       "      <td>0.999416</td>\n",
       "      <td>0.999612</td>\n",
       "      <td>0.000275</td>\n",
       "      <td>1</td>\n",
       "    </tr>\n",
       "    <tr>\n",
       "      <th>4</th>\n",
       "      <td>9.557790</td>\n",
       "      <td>0.078683</td>\n",
       "      <td>0.089760</td>\n",
       "      <td>0.000814</td>\n",
       "      <td>0.001</td>\n",
       "      <td>-1</td>\n",
       "      <td>l2</td>\n",
       "      <td>{'clf__C': 0.001, 'clf__n_jobs': -1, 'clf__penalty': 'l2'}</td>\n",
       "      <td>1.0</td>\n",
       "      <td>0.999419</td>\n",
       "      <td>0.999416</td>\n",
       "      <td>0.999612</td>\n",
       "      <td>0.000275</td>\n",
       "      <td>1</td>\n",
       "    </tr>\n",
       "  </tbody>\n",
       "</table>\n",
       "</div>"
      ],
      "text/plain": [
       "   mean_fit_time  std_fit_time  mean_score_time  std_score_time param_clf__C  \\\n",
       "0       9.491300      0.130724         0.090757        0.002154        1e-07   \n",
       "1       9.622948      0.201686         0.088431        0.003291        1e-06   \n",
       "2       9.489638      0.132194         0.101728        0.017635        1e-05   \n",
       "3       9.324414      0.034166         0.089095        0.002618       0.0001   \n",
       "4       9.557790      0.078683         0.089760        0.000814        0.001   \n",
       "\n",
       "  param_clf__n_jobs param_clf__penalty  \\\n",
       "0                -1                 l2   \n",
       "1                -1                 l2   \n",
       "2                -1                 l2   \n",
       "3                -1                 l2   \n",
       "4                -1                 l2   \n",
       "\n",
       "                                                        params  \\\n",
       "0   {'clf__C': 1e-07, 'clf__n_jobs': -1, 'clf__penalty': 'l2'}   \n",
       "1   {'clf__C': 1e-06, 'clf__n_jobs': -1, 'clf__penalty': 'l2'}   \n",
       "2   {'clf__C': 1e-05, 'clf__n_jobs': -1, 'clf__penalty': 'l2'}   \n",
       "3  {'clf__C': 0.0001, 'clf__n_jobs': -1, 'clf__penalty': 'l2'}   \n",
       "4   {'clf__C': 0.001, 'clf__n_jobs': -1, 'clf__penalty': 'l2'}   \n",
       "\n",
       "   split0_test_score  split1_test_score  split2_test_score  mean_test_score  \\\n",
       "0                1.0           0.999419           0.999416         0.999612   \n",
       "1                1.0           0.999419           0.999416         0.999612   \n",
       "2                1.0           0.999419           0.999416         0.999612   \n",
       "3                1.0           0.999419           0.999416         0.999612   \n",
       "4                1.0           0.999419           0.999416         0.999612   \n",
       "\n",
       "   std_test_score  rank_test_score  \n",
       "0        0.000275                1  \n",
       "1        0.000275                1  \n",
       "2        0.000275                1  \n",
       "3        0.000275                1  \n",
       "4        0.000275                1  "
      ]
     },
     "execution_count": 40,
     "metadata": {},
     "output_type": "execute_result"
    }
   ],
   "source": [
    "results =pd.DataFrame(trial_02_01.cv_results_)\n",
    "results = results.sort_values(by='mean_test_score', ascending=False)\n",
    "results.head()"
   ]
  },
  {
   "cell_type": "markdown",
   "metadata": {},
   "source": [
    "## Using Best estimator to improve the model"
   ]
  },
  {
   "cell_type": "code",
   "execution_count": 41,
   "metadata": {},
   "outputs": [],
   "source": [
    "clf_02_01=trial_02_01.best_estimator_"
   ]
  },
  {
   "cell_type": "code",
   "execution_count": 42,
   "metadata": {},
   "outputs": [],
   "source": [
    "y_pred=clf_02_01.predict(X_test)"
   ]
  },
  {
   "cell_type": "markdown",
   "metadata": {},
   "source": [
    "## Evaluation after parameter tuning"
   ]
  },
  {
   "cell_type": "code",
   "execution_count": 43,
   "metadata": {},
   "outputs": [
    {
     "name": "stdout",
     "output_type": "stream",
     "text": [
      "              precision    recall  f1-score   support\n",
      "\n",
      "           0       1.00      1.00      1.00      1572\n",
      "           1       0.99      0.98      0.98        85\n",
      "           2       1.00      1.00      1.00        43\n",
      "           3       1.00      1.00      1.00        18\n",
      "\n",
      "    accuracy                           1.00      1718\n",
      "   macro avg       1.00      0.99      1.00      1718\n",
      "weighted avg       1.00      1.00      1.00      1718\n",
      "\n"
     ]
    },
    {
     "data": {
      "image/png": "[encoded data removed]",
      "text/plain": [
       "<Figure size 432x288 with 2 Axes>"
      ]
     },
     "metadata": {},
     "output_type": "display_data"
    }
   ],
   "source": [
    "cr=classification_report(y_test,y_pred)\n",
    "print(cr)\n",
    "Color_Confusion_Matrix(y=y,y_test=y_test,y_pred=y_pred)"
   ]
  },
  {
   "cell_type": "code",
   "execution_count": 44,
   "metadata": {},
   "outputs": [
    {
     "name": "stdout",
     "output_type": "stream",
     "text": [
      "[0.99956351 0.99912664 0.99912626]\n",
      "Accuracy of : 0.999 ± 0.000\n"
     ]
    }
   ],
   "source": [
    "cross_validation_accuracy(clf_02_01,X,y)"
   ]
  },
  {
   "cell_type": "code",
   "execution_count": 45,
   "metadata": {},
   "outputs": [
    {
     "name": "stdout",
     "output_type": "stream",
     "text": [
      "              precision    recall  f1-score   support\n",
      "\n",
      "           0       1.00      1.00      1.00      6237\n",
      "           1       1.00      0.99      0.99       405\n",
      "           2       1.00      1.00      1.00       151\n",
      "           3       1.00      1.00      1.00        77\n",
      "\n",
      "    accuracy                           1.00      6870\n",
      "   macro avg       1.00      1.00      1.00      6870\n",
      "weighted avg       1.00      1.00      1.00      6870\n",
      "\n"
     ]
    },
    {
     "data": {
      "image/png": "[encoded data removed]",
      "text/plain": [
       "<Figure size 432x288 with 2 Axes>"
      ]
     },
     "metadata": {},
     "output_type": "display_data"
    }
   ],
   "source": [
    "y_pred = cross_val_predict(clf_02_01, X, y, cv=3)\n",
    "cr=classification_report(y,y_pred)\n",
    "print(cr)\n",
    "cm = confusion_matrix(y_pred,y)\n",
    "Color_Confusion_Matrix(y=y,y_test=y,y_pred=y_pred)"
   ]
  },
  {
   "cell_type": "markdown",
   "metadata": {},
   "source": [
    "We can also see here an improvment in our model's result after parameter tuning"
   ]
  },
  {
   "cell_type": "markdown",
   "metadata": {},
   "source": [
    "# Explaining prediction by SGD classifier using eli5"
   ]
  },
  {
   "cell_type": "code",
   "execution_count": 46,
   "metadata": {},
   "outputs": [
    {
     "ename": "ImportError",
     "evalue": "cannot import name 'RandomizedLogisticRegression' from 'sklearn.linear_model' (C:\\Users\\moha\\Anaconda3\\lib\\site-packages\\sklearn\\linear_model\\__init__.py)",
     "output_type": "error",
     "traceback": [
      "\u001b[1;31m---------------------------------------------------------------------------\u001b[0m",
      "\u001b[1;31mImportError\u001b[0m                               Traceback (most recent call last)",
      "\u001b[1;32m<ipython-input-46-757bf79569e4>\u001b[0m in \u001b[0;36m<module>\u001b[1;34m\u001b[0m\n\u001b[1;32m----> 1\u001b[1;33m \u001b[1;32mfrom\u001b[0m \u001b[0meli5\u001b[0m \u001b[1;32mimport\u001b[0m \u001b[0mshow_weights\u001b[0m\u001b[1;33m\u001b[0m\u001b[1;33m\u001b[0m\u001b[0m\n\u001b[0m\u001b[0;32m      2\u001b[0m \u001b[0mshow_weights\u001b[0m\u001b[1;33m(\u001b[0m\u001b[0mtrial_05\u001b[0m\u001b[1;33m,\u001b[0m \u001b[0mtop\u001b[0m\u001b[1;33m=\u001b[0m\u001b[1;36m30\u001b[0m\u001b[1;33m)\u001b[0m\u001b[1;33m\u001b[0m\u001b[1;33m\u001b[0m\u001b[0m\n",
      "\u001b[1;32m~\\Anaconda3\\lib\\site-packages\\eli5\\__init__.py\u001b[0m in \u001b[0;36m<module>\u001b[1;34m\u001b[0m\n\u001b[0;32m     11\u001b[0m )\n\u001b[0;32m     12\u001b[0m \u001b[1;32mfrom\u001b[0m \u001b[1;33m.\u001b[0m\u001b[0mexplain\u001b[0m \u001b[1;32mimport\u001b[0m \u001b[0mexplain_weights\u001b[0m\u001b[1;33m,\u001b[0m \u001b[0mexplain_prediction\u001b[0m\u001b[1;33m\u001b[0m\u001b[1;33m\u001b[0m\u001b[0m\n\u001b[1;32m---> 13\u001b[1;33m \u001b[1;32mfrom\u001b[0m \u001b[1;33m.\u001b[0m\u001b[0msklearn\u001b[0m \u001b[1;32mimport\u001b[0m \u001b[0mexplain_weights_sklearn\u001b[0m\u001b[1;33m,\u001b[0m \u001b[0mexplain_prediction_sklearn\u001b[0m\u001b[1;33m\u001b[0m\u001b[1;33m\u001b[0m\u001b[0m\n\u001b[0m\u001b[0;32m     14\u001b[0m \u001b[1;32mfrom\u001b[0m \u001b[1;33m.\u001b[0m\u001b[0mtransform\u001b[0m \u001b[1;32mimport\u001b[0m \u001b[0mtransform_feature_names\u001b[0m\u001b[1;33m\u001b[0m\u001b[1;33m\u001b[0m\u001b[0m\n\u001b[0;32m     15\u001b[0m \u001b[1;33m\u001b[0m\u001b[0m\n",
      "\u001b[1;32m~\\Anaconda3\\lib\\site-packages\\eli5\\sklearn\\__init__.py\u001b[0m in \u001b[0;36m<module>\u001b[1;34m\u001b[0m\n\u001b[0;32m     19\u001b[0m )\n\u001b[0;32m     20\u001b[0m \u001b[1;32mfrom\u001b[0m \u001b[1;33m.\u001b[0m\u001b[0mpermutation_importance\u001b[0m \u001b[1;32mimport\u001b[0m \u001b[0mPermutationImportance\u001b[0m\u001b[1;33m\u001b[0m\u001b[1;33m\u001b[0m\u001b[0m\n\u001b[1;32m---> 21\u001b[1;33m \u001b[1;32mfrom\u001b[0m \u001b[1;33m.\u001b[0m \u001b[1;32mimport\u001b[0m \u001b[0mtransform\u001b[0m \u001b[1;32mas\u001b[0m \u001b[0m_\u001b[0m\u001b[1;33m\u001b[0m\u001b[1;33m\u001b[0m\u001b[0m\n\u001b[0m",
      "\u001b[1;32m~\\Anaconda3\\lib\\site-packages\\eli5\\sklearn\\transform.py\u001b[0m in \u001b[0;36m<module>\u001b[1;34m\u001b[0m\n\u001b[0;32m      5\u001b[0m \u001b[1;32mfrom\u001b[0m \u001b[0msklearn\u001b[0m\u001b[1;33m.\u001b[0m\u001b[0mpipeline\u001b[0m \u001b[1;32mimport\u001b[0m \u001b[0mPipeline\u001b[0m\u001b[1;33m,\u001b[0m \u001b[0mFeatureUnion\u001b[0m  \u001b[1;31m# type: ignore\u001b[0m\u001b[1;33m\u001b[0m\u001b[1;33m\u001b[0m\u001b[0m\n\u001b[0;32m      6\u001b[0m \u001b[1;32mfrom\u001b[0m \u001b[0msklearn\u001b[0m\u001b[1;33m.\u001b[0m\u001b[0mfeature_selection\u001b[0m\u001b[1;33m.\u001b[0m\u001b[0mbase\u001b[0m \u001b[1;32mimport\u001b[0m \u001b[0mSelectorMixin\u001b[0m  \u001b[1;31m# type: ignore\u001b[0m\u001b[1;33m\u001b[0m\u001b[1;33m\u001b[0m\u001b[0m\n\u001b[1;32m----> 7\u001b[1;33m from sklearn.linear_model import (  # type: ignore\n\u001b[0m\u001b[0;32m      8\u001b[0m     \u001b[0mRandomizedLogisticRegression\u001b[0m\u001b[1;33m,\u001b[0m\u001b[1;33m\u001b[0m\u001b[1;33m\u001b[0m\u001b[0m\n\u001b[0;32m      9\u001b[0m     \u001b[0mRandomizedLasso\u001b[0m\u001b[1;33m,\u001b[0m\u001b[1;33m\u001b[0m\u001b[1;33m\u001b[0m\u001b[0m\n",
      "\u001b[1;31mImportError\u001b[0m: cannot import name 'RandomizedLogisticRegression' from 'sklearn.linear_model' (C:\\Users\\moha\\Anaconda3\\lib\\site-packages\\sklearn\\linear_model\\__init__.py)"
     ]
    }
   ],
   "source": [
    "from eli5 import show_weights\n",
    "show_weights(trial_05, top=30)"
   ]
  },
  {
   "cell_type": "code",
   "execution_count": null,
   "metadata": {},
   "outputs": [],
   "source": [
    "index_0=list(np.where(y==0))\n",
    "index_1=list(np.where(y==1))\n",
    "index_2=list(np.where(y==2))\n",
    "index_3=list(np.where(y==3))\n"
   ]
  },
  {
   "cell_type": "code",
   "execution_count": null,
   "metadata": {},
   "outputs": [],
   "source": [
    "idx_0=index_0[0].tolist();\n",
    "idx_1=index_1[0].tolist();\n",
    "idx_2=index_2[0].tolist();\n",
    "idx_3=index_3[0].tolist();"
   ]
  },
  {
   "cell_type": "markdown",
   "metadata": {},
   "source": [
    "# Explanation of classification by eli5 over SGDclassifier"
   ]
  },
  {
   "cell_type": "code",
   "execution_count": null,
   "metadata": {},
   "outputs": [],
   "source": [
    "import eli5\n",
    "eli5.show_prediction(clf, X[idx_0[0]],vec=vec)"
   ]
  },
  {
   "cell_type": "code",
   "execution_count": null,
   "metadata": {},
   "outputs": [],
   "source": [
    "eli5.show_prediction(clf, X[idx_1[1]],vec=vec)"
   ]
  },
  {
   "cell_type": "code",
   "execution_count": null,
   "metadata": {},
   "outputs": [],
   "source": [
    "eli5.show_prediction(clf, X[idx_2[120]],vec=vec)"
   ]
  },
  {
   "cell_type": "code",
   "execution_count": null,
   "metadata": {},
   "outputs": [],
   "source": [
    "eli5.show_prediction(clf, X[idx_3[20]],vec=vec)"
   ]
  }
 ],
 "metadata": {
  "kernelspec": {
   "display_name": "Python 3",
   "language": "python",
   "name": "python3"
  },
  "language_info": {
   "codemirror_mode": {
    "name": "ipython",
    "version": 3
   },
   "file_extension": ".py",
   "mimetype": "text/x-python",
   "name": "python",
   "nbconvert_exporter": "python",
   "pygments_lexer": "ipython3",
   "version": "3.7.1"
  }
 },
 "nbformat": 4,
 "nbformat_minor": 2
}
