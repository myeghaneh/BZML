{
 "cells": [
  {
   "cell_type": "code",
   "execution_count": 1,
   "metadata": {},
   "outputs": [],
   "source": [
    "import pandas as pd\n",
    "import numpy as np\n",
    "%load_ext autoreload\n",
    "%autoreload 2\n",
    "import utility_01\n",
    "from utility_01 import *\n",
    "from sklearn.metrics import roc_curve ,roc_auc_score ,precision_recall_curve,auc\n"
   ]
  },
  {
   "cell_type": "code",
   "execution_count": 2,
   "metadata": {},
   "outputs": [],
   "source": [
    "options = {\"compact\": True, \"bg\": \"#09a3d5\",\n",
    "           \"color\": \"white\", \"font\": \"Source Sans Pro\",\"collapse_phrases\":False}"
   ]
  },
  {
   "cell_type": "code",
   "execution_count": 3,
   "metadata": {},
   "outputs": [],
   "source": [
    "pd.set_option('display.max_colwidth', -1)\n",
    "pd.set_option('max_colwidth', 260)\n"
   ]
  },
  {
   "cell_type": "markdown",
   "metadata": {},
   "source": [
    "# Read the Data"
   ]
  },
  {
   "cell_type": "code",
   "execution_count": 4,
   "metadata": {},
   "outputs": [],
   "source": [
    "df=pd.read_json('dfObs_v01.json');\n",
    "df=df.sort_index();\n",
    "len(df)\n",
    "df.drop(['Unnamed: 0'],axis=1,inplace=True);"
   ]
  },
  {
   "cell_type": "code",
   "execution_count": 5,
   "metadata": {},
   "outputs": [
    {
     "data": {
      "text/html": [
       "<div>\n",
       "<style scoped>\n",
       "    .dataframe tbody tr th:only-of-type {\n",
       "        vertical-align: middle;\n",
       "    }\n",
       "\n",
       "    .dataframe tbody tr th {\n",
       "        vertical-align: top;\n",
       "    }\n",
       "\n",
       "    .dataframe thead th {\n",
       "        text-align: right;\n",
       "    }\n",
       "</style>\n",
       "<table border=\"1\" class=\"dataframe\">\n",
       "  <thead>\n",
       "    <tr style=\"text-align: right;\">\n",
       "      <th></th>\n",
       "      <th>sents</th>\n",
       "      <th>chapter</th>\n",
       "      <th>entities</th>\n",
       "      <th>chunks</th>\n",
       "      <th>label</th>\n",
       "    </tr>\n",
       "  </thead>\n",
       "  <tbody>\n",
       "    <tr>\n",
       "      <th>0</th>\n",
       "      <td>Chapter 1</td>\n",
       "      <td>1.0</td>\n",
       "      <td>[]</td>\n",
       "      <td>[Chapter]</td>\n",
       "      <td>0</td>\n",
       "    </tr>\n",
       "    <tr>\n",
       "      <th>1</th>\n",
       "      <td>On the distinction between the first motion and the second or proper motions; and in the proper motions, between the first and the second inequality.</td>\n",
       "      <td>1.0</td>\n",
       "      <td>[]</td>\n",
       "      <td>[the distinction, the first motion, the second or proper motions, the proper motions, the second inequality]</td>\n",
       "      <td>0</td>\n",
       "    </tr>\n",
       "    <tr>\n",
       "      <th>2</th>\n",
       "      <td>The testimony of the ages confirms that the motions of the planets are orbicular.</td>\n",
       "      <td>1.0</td>\n",
       "      <td>[]</td>\n",
       "      <td>[The testimony, the ages, the motions, the planets]</td>\n",
       "      <td>0</td>\n",
       "    </tr>\n",
       "    <tr>\n",
       "      <th>3</th>\n",
       "      <td>Reason, having borrowed from experience, immediately presumes this: that their gyrations are perfect circles.</td>\n",
       "      <td>1.0</td>\n",
       "      <td>[]</td>\n",
       "      <td>[Reason, experience, their gyrations, perfect circles]</td>\n",
       "      <td>0</td>\n",
       "    </tr>\n",
       "    <tr>\n",
       "      <th>4</th>\n",
       "      <td>For among figures it is circles, and among bodies the heavens, that are considered the most perfect.</td>\n",
       "      <td>1.0</td>\n",
       "      <td>[]</td>\n",
       "      <td>[figures, it, circles, bodies, the heavens]</td>\n",
       "      <td>0</td>\n",
       "    </tr>\n",
       "  </tbody>\n",
       "</table>\n",
       "</div>"
      ],
      "text/plain": [
       "                                                                                                                                                   sents  \\\n",
       "0                                                                                                                                              Chapter 1   \n",
       "1  On the distinction between the first motion and the second or proper motions; and in the proper motions, between the first and the second inequality.   \n",
       "2                                                                      The testimony of the ages confirms that the motions of the planets are orbicular.   \n",
       "3                                          Reason, having borrowed from experience, immediately presumes this: that their gyrations are perfect circles.   \n",
       "4                                                   For among figures it is circles, and among bodies the heavens, that are considered the most perfect.   \n",
       "\n",
       "  chapter entities  \\\n",
       "0     1.0       []   \n",
       "1     1.0       []   \n",
       "2     1.0       []   \n",
       "3     1.0       []   \n",
       "4     1.0       []   \n",
       "\n",
       "                                                                                                         chunks  \\\n",
       "0                                                                                                     [Chapter]   \n",
       "1  [the distinction, the first motion, the second or proper motions, the proper motions, the second inequality]   \n",
       "2                                                           [The testimony, the ages, the motions, the planets]   \n",
       "3                                                        [Reason, experience, their gyrations, perfect circles]   \n",
       "4                                                                   [figures, it, circles, bodies, the heavens]   \n",
       "\n",
       "   label  \n",
       "0      0  \n",
       "1      0  \n",
       "2      0  \n",
       "3      0  \n",
       "4      0  "
      ]
     },
     "execution_count": 5,
     "metadata": {},
     "output_type": "execute_result"
    }
   ],
   "source": [
    "df.head()"
   ]
  },
  {
   "cell_type": "code",
   "execution_count": 6,
   "metadata": {},
   "outputs": [
    {
     "data": {
      "text/html": [
       "<div>\n",
       "<style scoped>\n",
       "    .dataframe tbody tr th:only-of-type {\n",
       "        vertical-align: middle;\n",
       "    }\n",
       "\n",
       "    .dataframe tbody tr th {\n",
       "        vertical-align: top;\n",
       "    }\n",
       "\n",
       "    .dataframe thead th {\n",
       "        text-align: right;\n",
       "    }\n",
       "</style>\n",
       "<table border=\"1\" class=\"dataframe\">\n",
       "  <thead>\n",
       "    <tr style=\"text-align: right;\">\n",
       "      <th></th>\n",
       "      <th>sents</th>\n",
       "      <th>chapter</th>\n",
       "      <th>entities</th>\n",
       "      <th>chunks</th>\n",
       "      <th>label</th>\n",
       "    </tr>\n",
       "  </thead>\n",
       "  <tbody>\n",
       "    <tr>\n",
       "      <th>6694</th>\n",
       "      <td>To find the position of Mars at opposition, Kepler computed the angular distance that Mars and Earth—now substituting the place of the Sun—moved during 17 hours 20 minutes; Mars moved eastward about 16' 20\" and the Sun westward about 42' 18\".</td>\n",
       "      <td>appendix b</td>\n",
       "      <td>[('Mars', 'PLAN'), ('opposition', 'ASTR'), ('Mars', 'PLAN'), ('Earth', 'PLAN'), ('Sun', 'PLAN'), ('17 hours 20 minutes', 'TIME'), ('Mars', 'PLAN'), ('eastward', 'ASTR'), ('Sun', 'PLAN')]</td>\n",
       "      <td>[the position, Mars, opposition, Kepler, the angular distance, Mars, Earth, the place, 17 hours, Mars]</td>\n",
       "      <td>0</td>\n",
       "    </tr>\n",
       "    <tr>\n",
       "      <th>6695</th>\n",
       "      <td>Accordingly, Kepler determined the longitude of Mars at opposition to be 198° 37' 50\" from which he subtracted about 39\" in order to correct Mars's orbit; he got 198° 37' 10\" (18° 37' 10\" Libra).</td>\n",
       "      <td>appendix b</td>\n",
       "      <td>[('longitude', 'ASTR'), ('Mars', 'PLAN'), ('opposition', 'ASTR'), ('198° 37\\' 50\"', 'LONG'), ('Mars', 'PLAN'), ('orbit', 'ASTR'), ('198° 37\\' 10\"', 'LONG'), ('18° 37\\' 10\" Libra', 'LONG')]</td>\n",
       "      <td>[Kepler, the longitude, Mars, opposition, 198°, he, order, Mars's orbit, he, 198°, ' 10\" Libra]</td>\n",
       "      <td>1</td>\n",
       "    </tr>\n",
       "    <tr>\n",
       "      <th>6696</th>\n",
       "      <td>The Sun moved westward and its longitude decreased from the time of observation to its position opposite to Mars.</td>\n",
       "      <td>appendix b</td>\n",
       "      <td>[('Sun', 'PLAN'), ('longitude', 'ASTR'), ('observation', 'ASTR'), ('Mars', 'PLAN')]</td>\n",
       "      <td>[The Sun, its longitude, the time, observation, its position, Mars]</td>\n",
       "      <td>0</td>\n",
       "    </tr>\n",
       "    <tr>\n",
       "      <th>6697</th>\n",
       "      <td>Therefore, the time of opposition is 17 hours 20 minutes before March 29, at 21:43, the time when the observation was made.</td>\n",
       "      <td>appendix b</td>\n",
       "      <td>[('opposition', 'ASTR'), ('17 hours 20 minutes', 'TIME'), ('March 29', 'DATE'), ('observation', 'ASTR')]</td>\n",
       "      <td>[the time, opposition, 17 hours, March, the time, the observation]</td>\n",
       "      <td>0</td>\n",
       "    </tr>\n",
       "    <tr>\n",
       "      <th>6698</th>\n",
       "      <td>Kepler determined the time of opposition on March 28, 4h 23m AM, old style.</td>\n",
       "      <td>appendix b</td>\n",
       "      <td>[('opposition', 'ASTR'), ('March 28', 'DATE'), ('4h 23m', 'TIME')]</td>\n",
       "      <td>[Kepler, the time, opposition, March, 23m AM, old style]</td>\n",
       "      <td>1</td>\n",
       "    </tr>\n",
       "  </tbody>\n",
       "</table>\n",
       "</div>"
      ],
      "text/plain": [
       "                                                                                                                                                                                                                                                   sents  \\\n",
       "6694  To find the position of Mars at opposition, Kepler computed the angular distance that Mars and Earth—now substituting the place of the Sun—moved during 17 hours 20 minutes; Mars moved eastward about 16' 20\" and the Sun westward about 42' 18\".   \n",
       "6695                                                 Accordingly, Kepler determined the longitude of Mars at opposition to be 198° 37' 50\" from which he subtracted about 39\" in order to correct Mars's orbit; he got 198° 37' 10\" (18° 37' 10\" Libra).   \n",
       "6696                                                                                                                                   The Sun moved westward and its longitude decreased from the time of observation to its position opposite to Mars.   \n",
       "6697                                                                                                                         Therefore, the time of opposition is 17 hours 20 minutes before March 29, at 21:43, the time when the observation was made.   \n",
       "6698                                                                                                                                                                         Kepler determined the time of opposition on March 28, 4h 23m AM, old style.   \n",
       "\n",
       "         chapter  \\\n",
       "6694  appendix b   \n",
       "6695  appendix b   \n",
       "6696  appendix b   \n",
       "6697  appendix b   \n",
       "6698  appendix b   \n",
       "\n",
       "                                                                                                                                                                                          entities  \\\n",
       "6694    [('Mars', 'PLAN'), ('opposition', 'ASTR'), ('Mars', 'PLAN'), ('Earth', 'PLAN'), ('Sun', 'PLAN'), ('17 hours 20 minutes', 'TIME'), ('Mars', 'PLAN'), ('eastward', 'ASTR'), ('Sun', 'PLAN')]   \n",
       "6695  [('longitude', 'ASTR'), ('Mars', 'PLAN'), ('opposition', 'ASTR'), ('198° 37\\' 50\"', 'LONG'), ('Mars', 'PLAN'), ('orbit', 'ASTR'), ('198° 37\\' 10\"', 'LONG'), ('18° 37\\' 10\" Libra', 'LONG')]   \n",
       "6696                                                                                                           [('Sun', 'PLAN'), ('longitude', 'ASTR'), ('observation', 'ASTR'), ('Mars', 'PLAN')]   \n",
       "6697                                                                                      [('opposition', 'ASTR'), ('17 hours 20 minutes', 'TIME'), ('March 29', 'DATE'), ('observation', 'ASTR')]   \n",
       "6698                                                                                                                            [('opposition', 'ASTR'), ('March 28', 'DATE'), ('4h 23m', 'TIME')]   \n",
       "\n",
       "                                                                                                      chunks  \\\n",
       "6694  [the position, Mars, opposition, Kepler, the angular distance, Mars, Earth, the place, 17 hours, Mars]   \n",
       "6695         [Kepler, the longitude, Mars, opposition, 198°, he, order, Mars's orbit, he, 198°, ' 10\" Libra]   \n",
       "6696                                     [The Sun, its longitude, the time, observation, its position, Mars]   \n",
       "6697                                      [the time, opposition, 17 hours, March, the time, the observation]   \n",
       "6698                                                [Kepler, the time, opposition, March, 23m AM, old style]   \n",
       "\n",
       "      label  \n",
       "6694      0  \n",
       "6695      1  \n",
       "6696      0  \n",
       "6697      0  \n",
       "6698      1  "
      ]
     },
     "execution_count": 6,
     "metadata": {},
     "output_type": "execute_result"
    }
   ],
   "source": [
    "df.tail()"
   ]
  },
  {
   "cell_type": "code",
   "execution_count": 7,
   "metadata": {},
   "outputs": [],
   "source": [
    "X = list(df[\"sents\"])"
   ]
  },
  {
   "cell_type": "code",
   "execution_count": 8,
   "metadata": {},
   "outputs": [],
   "source": [
    "y = np.array(list(df[\"label\"]))"
   ]
  },
  {
   "cell_type": "markdown",
   "metadata": {},
   "source": [
    "# Distribution of Samples "
   ]
  },
  {
   "cell_type": "code",
   "execution_count": 9,
   "metadata": {},
   "outputs": [],
   "source": [
    "from collections import Counter\n",
    "category=Counter(y)\n",
    "count=dict(category)"
   ]
  },
  {
   "cell_type": "code",
   "execution_count": 10,
   "metadata": {},
   "outputs": [
    {
     "data": {
      "text/plain": [
       "{0: 6264, 1: 435}"
      ]
     },
     "execution_count": 10,
     "metadata": {},
     "output_type": "execute_result"
    }
   ],
   "source": [
    "count"
   ]
  },
  {
   "cell_type": "code",
   "execution_count": 11,
   "metadata": {},
   "outputs": [
    {
     "data": {
      "text/plain": [
       "Text(0.5, 1.0, 'Distribution of samples over different classes')"
      ]
     },
     "execution_count": 11,
     "metadata": {},
     "output_type": "execute_result"
    },
    {
     "data": {
      "image/png": "[encoded data removed]",
      "text/plain": [
       "<Figure size 432x288 with 1 Axes>"
      ]
     },
     "metadata": {
      "needs_background": "light"
     },
     "output_type": "display_data"
    }
   ],
   "source": [
    "plt.bar(list(count.keys()),count.values(),color=\"r\",width=.4,tick_label=[\"1\",\"0\"])\n",
    "plt.title(\"Distribution of samples over different classes\")\n"
   ]
  },
  {
   "cell_type": "code",
   "execution_count": 12,
   "metadata": {},
   "outputs": [],
   "source": [
    "from sklearn.feature_extraction.text import CountVectorizer,HashingVectorizer\n",
    "from sklearn.feature_extraction.text import TfidfTransformer,TfidfVectorizer\n",
    "from sklearn.feature_selection import SelectKBest,chi2\n",
    "from sklearn.linear_model import SGDClassifier, LogisticRegression,LogisticRegressionCV\n",
    "from sklearn.naive_bayes import MultinomialNB\n",
    "from sklearn.ensemble import RandomForestClassifier\n",
    "from sklearn.pipeline import Pipeline\n",
    "from sklearn.decomposition import TruncatedSVD\n",
    "from sklearn.svm import SVC,LinearSVC\n",
    "from sklearn.utils import shuffle\n",
    "from sklearn.model_selection import train_test_split\n",
    "from sklearn.neighbors import NearestNeighbors\n",
    "from xgboost import XGBClassifier"
   ]
  },
  {
   "cell_type": "code",
   "execution_count": 13,
   "metadata": {},
   "outputs": [],
   "source": [
    "X=list(df[\"sents\"])\n",
    "y=np.array(list(df[\"label\"]))"
   ]
  },
  {
   "cell_type": "code",
   "execution_count": 15,
   "metadata": {},
   "outputs": [],
   "source": [
    "X,y = shuffle(X, y, random_state=42)\n",
    "X_train, X_test, y_train, y_test = train_test_split(\n",
    "X,y, test_size=0.25, random_state=42)  "
   ]
  },
  {
   "cell_type": "code",
   "execution_count": 21,
   "metadata": {},
   "outputs": [],
   "source": [
    "from keras.preprocessing.text import Tokenizer\n",
    "from keras.preprocessing.sequence import pad_sequences\n",
    "from keras import metrics\n",
    "import keras.backend as K\n",
    "from keras.preprocessing import sequence\n",
    "from keras.models import Sequential\n",
    "from keras.layers import Dense, Dropout, Activation\n",
    "from keras.layers import Embedding\n",
    "from keras.layers import Conv1D, MaxPooling1D"
   ]
  },
  {
   "cell_type": "markdown",
   "metadata": {},
   "source": [
    "## Models"
   ]
  },
  {
   "cell_type": "code",
   "execution_count": 22,
   "metadata": {},
   "outputs": [],
   "source": [
    "vocab_size = 6628\n",
    "tokenize = Tokenizer(num_words=vocab_size)\n",
    "tokenize.fit_on_texts(X_train)"
   ]
  },
  {
   "cell_type": "code",
   "execution_count": 23,
   "metadata": {},
   "outputs": [],
   "source": [
    "x_train = tokenize.texts_to_matrix(X_train)\n",
    "x_test =tokenize.texts_to_matrix(X_test)"
   ]
  },
  {
   "cell_type": "code",
   "execution_count": 24,
   "metadata": {},
   "outputs": [],
   "source": [
    "def recall(y_true, y_pred):\n",
    "    #Recall metric.\n",
    "\n",
    "    true_positives = K.sum(K.round(K.clip(y_true * y_pred, 0, 1)),axis=0)\n",
    "    possible_positives = K.sum(K.round(K.clip(y_true, 0, 1)),axis=0)\n",
    "    recall = true_positives / (possible_positives + K.epsilon())\n",
    "    return recall"
   ]
  },
  {
   "cell_type": "code",
   "execution_count": 25,
   "metadata": {},
   "outputs": [
    {
     "name": "stdout",
     "output_type": "stream",
     "text": [
      "WARNING:tensorflow:From C:\\Users\\moha\\Anaconda3\\lib\\site-packages\\tensorflow\\python\\framework\\op_def_library.py:263: colocate_with (from tensorflow.python.framework.ops) is deprecated and will be removed in a future version.\n",
      "Instructions for updating:\n",
      "Colocations handled automatically by placer.\n",
      "WARNING:tensorflow:From C:\\Users\\moha\\Anaconda3\\lib\\site-packages\\keras\\backend\\tensorflow_backend.py:3445: calling dropout (from tensorflow.python.ops.nn_ops) with keep_prob is deprecated and will be removed in a future version.\n",
      "Instructions for updating:\n",
      "Please use `rate` instead of `keep_prob`. Rate should be set to `rate = 1 - keep_prob`.\n",
      "['loss', 'recall', 'acc']\n"
     ]
    }
   ],
   "source": [
    "max_words = 6628\n",
    "num_classes=1\n",
    "batch_size=8\n",
    "model = Sequential()\n",
    "model.add(Dense(512, input_shape=(max_words,)))\n",
    "model.add(Activation('relu'))\n",
    "model.add(Dropout(0.3))\n",
    "model.add(Dense(num_classes))\n",
    "model.add(Activation('sigmoid'))\n",
    "model.compile(loss='binary_crossentropy', optimizer='adam', metrics=[recall,'accuracy'])\n",
    "print(model.metrics_names)"
   ]
  },
  {
   "cell_type": "code",
   "execution_count": 26,
   "metadata": {},
   "outputs": [
    {
     "name": "stdout",
     "output_type": "stream",
     "text": [
      "WARNING:tensorflow:From C:\\Users\\moha\\Anaconda3\\lib\\site-packages\\tensorflow\\python\\ops\\math_ops.py:3066: to_int32 (from tensorflow.python.ops.math_ops) is deprecated and will be removed in a future version.\n",
      "Instructions for updating:\n",
      "Use tf.cast instead.\n",
      "Train on 4521 samples, validate on 503 samples\n",
      "Epoch 1/200\n",
      "4521/4521 [==============================] - 15s 3ms/step - loss: 0.2026 - recall: 0.0245 - acc: 0.9328 - val_loss: 0.1650 - val_recall: 0.1564 - val_acc: 0.9304\n",
      "Epoch 2/200\n",
      "4521/4521 [==============================] - 15s 3ms/step - loss: 0.0843 - recall: 0.2622 - acc: 0.9684 - val_loss: 0.1974 - val_recall: 0.2041 - val_acc: 0.9384\n",
      "Epoch 3/200\n",
      "4521/4521 [==============================] - 14s 3ms/step - loss: 0.0318 - recall: 0.3701 - acc: 0.9896 - val_loss: 0.2359 - val_recall: 0.1935 - val_acc: 0.9384\n",
      "Epoch 4/200\n",
      "4521/4521 [==============================] - 14s 3ms/step - loss: 1.8711e-05 - recall: 0.4088 - acc: 1.0000 - val_loss: 0.5253 - val_recall: 0.1750 - val_acc: 0.9324\n",
      "Epoch 17/200\n",
      "4521/4521 [==============================] - 14s 3ms/step - loss: 1.4477e-05 - recall: 0.4070 - acc: 1.0000 - val_loss: 0.5387 - val_recall: 0.1750 - val_acc: 0.9324\n",
      "Epoch 18/200\n",
      "4521/4521 [==============================] - 14s 3ms/step - loss: 2.3247e-07 - recall: 0.4070 - acc: 1.0000 - val_loss: 0.6812 - val_recall: 0.1750 - val_acc: 0.9324\n",
      "Epoch 33/200\n",
      "4521/4521 [==============================] - 14s 3ms/step - loss: 2.0047e-07 - recall: 0.4070 - acc: 1.0000 - val_loss: 0.6827 - val_recall: 0.1750 - val_acc: 0.9304\n",
      "Epoch 34/200\n",
      "4521/4521 [==============================] - 14s 3ms/step - loss: 2.0738e-07 - recall: 0.4017 - acc: 1.0000 - val_loss: 0.6784 - val_recall: 0.1750 - val_acc: 0.9304\n",
      "Epoch 35/200\n",
      "4521/4521 [==============================] - 14s 3ms/step - loss: 1.4946e-07 - recall: 0.4211 - acc: 1.0000 - val_loss: 0.6964 - val_recall: 0.1750 - val_acc: 0.9304\n",
      "Epoch 36/200\n",
      "4521/4521 [==============================] - 14s 3ms/step - loss: 1.5134e-07 - recall: 0.4052 - acc: 1.0000 - val_loss: 0.6955 - val_recall: 0.1750 - val_acc: 0.9304\n",
      "Epoch 37/200\n",
      "4521/4521 [==============================] - 15s 3ms/step - loss: 1.4058e-07 - recall: 0.4070 - acc: 1.0000 - val_loss: 0.7021 - val_recall: 0.1750 - val_acc: 0.9304\n",
      "Epoch 38/200\n",
      "4521/4521 [==============================] - 15s 3ms/step - loss: 1.5303e-07 - recall: 0.3964 - acc: 1.0000 - val_loss: 0.6904 - val_recall: 0.1750 - val_acc: 0.9284\n",
      "Epoch 39/200\n",
      "4521/4521 [==============================] - 14s 3ms/step - loss: 1.3520e-07 - recall: 0.4017 - acc: 1.0000 - val_loss: 0.7082 - val_recall: 0.1750 - val_acc: 0.9284\n",
      "Epoch 40/200\n",
      "4521/4521 [==============================] - 14s 3ms/step - loss: 1.0372e-07 - recall: 0.3999 - acc: 1.0000 - val_loss: 0.7557 - val_recall: 0.1750 - val_acc: 0.9284\n",
      "Epoch 55/200\n",
      "4521/4521 [==============================] - 14s 3ms/step - loss: 1.0386e-07 - recall: 0.3858 - acc: 1.0000 - val_loss: 0.7625 - val_recall: 0.1750 - val_acc: 0.9284\n",
      "Epoch 56/200\n",
      "4521/4521 [==============================] - 14s 3ms/step - loss: 1.0151e-07 - recall: 0.4035 - acc: 1.0000 - val_loss: 0.7767 - val_recall: 0.1750 - val_acc: 0.9284\n",
      "Epoch 79/200\n",
      "4521/4521 [==============================] - 14s 3ms/step - loss: 1.0204e-07 - recall: 0.3911 - acc: 1.0000 - val_loss: 0.7785 - val_recall: 0.1750 - val_acc: 0.9284\n",
      "Epoch 80/200\n",
      "4521/4521 [==============================] - 15s 3ms/step - loss: 1.0142e-07 - recall: 0.3981 - acc: 1.0000 - val_loss: 0.7831 - val_recall: 0.1750 - val_acc: 0.9284\n",
      "Epoch 92/200\n",
      "4521/4521 [==============================] - 14s 3ms/step - loss: 1.0132e-07 - recall: 0.4371 - acc: 1.0000 - val_loss: 0.7817 - val_recall: 0.1750 - val_acc: 0.9284\n",
      "Epoch 93/200\n",
      "4521/4521 [==============================] - 15s 3ms/step - loss: 1.0162e-07 - recall: 0.4229 - acc: 1.0000 - val_loss: 0.7786 - val_recall: 0.1750 - val_acc: 0.9284\n",
      "Epoch 94/200\n",
      "4521/4521 [==============================] - 14s 3ms/step - loss: 1.0157e-07 - recall: 0.3999 - acc: 1.0000 - val_loss: 0.7795 - val_recall: 0.1750 - val_acc: 0.9284\n",
      "Epoch 95/200\n",
      "4521/4521 [==============================] - 14s 3ms/step - loss: 1.0159e-07 - recall: 0.3981 - acc: 1.0000 - val_loss: 0.7779 - val_recall: 0.1803 - val_acc: 0.9304\n",
      "Epoch 96/200\n",
      "4521/4521 [==============================] - 14s 3ms/step - loss: 1.0148e-07 - recall: 0.4105 - acc: 1.0000 - val_loss: 0.7795 - val_recall: 0.1750 - val_acc: 0.9284\n",
      "Epoch 97/200\n",
      "4521/4521 [==============================] - 14s 3ms/step - loss: 1.0140e-07 - recall: 0.4211 - acc: 1.0000 - val_loss: 0.7804 - val_recall: 0.1750 - val_acc: 0.9284\n",
      "Epoch 98/200\n",
      "4521/4521 [==============================] - 14s 3ms/step - loss: 1.0135e-07 - recall: 0.4017 - acc: 1.0000 - val_loss: 0.7820 - val_recall: 0.1750 - val_acc: 0.9284\n",
      "Epoch 99/200\n",
      "4521/4521 [==============================] - 14s 3ms/step - loss: 1.0158e-07 - recall: 0.4123 - acc: 1.0000 - val_loss: 0.7821 - val_recall: 0.1750 - val_acc: 0.9284\n",
      "Epoch 100/200\n",
      "4521/4521 [==============================] - 14s 3ms/step - loss: 1.0131e-07 - recall: 0.4035 - acc: 1.0000 - val_loss: 0.7853 - val_recall: 0.1750 - val_acc: 0.9284\n",
      "Epoch 101/200\n",
      "4521/4521 [==============================] - 14s 3ms/step - loss: 1.0145e-07 - recall: 0.4158 - acc: 1.0000 - val_loss: 0.7860 - val_recall: 0.1750 - val_acc: 0.9284\n",
      "Epoch 102/200\n",
      "4521/4521 [==============================] - 14s 3ms/step - loss: 1.0131e-07 - recall: 0.4035 - acc: 1.0000 - val_loss: 0.7858 - val_recall: 0.1750 - val_acc: 0.9284\n",
      "Epoch 103/200\n",
      "4521/4521 [==============================] - 14s 3ms/step - loss: 1.0125e-07 - recall: 0.4105 - acc: 1.0000 - val_loss: 0.7882 - val_recall: 0.1750 - val_acc: 0.9284\n",
      "Epoch 129/200\n",
      "4521/4521 [==============================] - 14s 3ms/step - loss: 1.0139e-07 - recall: 0.4141 - acc: 1.0000 - val_loss: 0.7886 - val_recall: 0.1750 - val_acc: 0.9284\n",
      "Epoch 130/200\n",
      "4521/4521 [==============================] - 14s 3ms/step - loss: 1.0272e-07 - recall: 0.4052 - acc: 1.0000 - val_loss: 0.7914 - val_recall: 0.1750 - val_acc: 0.9284\n",
      "Epoch 144/200\n",
      "4521/4521 [==============================] - 14s 3ms/step - loss: 1.0132e-07 - recall: 0.4088 - acc: 1.0000 - val_loss: 0.7940 - val_recall: 0.1750 - val_acc: 0.9284\n",
      "Epoch 145/200\n",
      "4521/4521 [==============================] - 14s 3ms/step - loss: 1.0133e-07 - recall: 0.4161 - acc: 1.0000 - val_loss: 0.7941 - val_recall: 0.1750 - val_acc: 0.9284\n",
      "Epoch 146/200\n",
      "4521/4521 [==============================] - 14s 3ms/step - loss: 1.0125e-07 - recall: 0.4088 - acc: 1.0000 - val_loss: 0.7965 - val_recall: 0.1750 - val_acc: 0.9284\n",
      "Epoch 161/200\n",
      "4521/4521 [==============================] - 14s 3ms/step - loss: 1.0126e-07 - recall: 0.4141 - acc: 1.0000 - val_loss: 0.7965 - val_recall: 0.1750 - val_acc: 0.9284\n",
      "Epoch 162/200\n",
      "4521/4521 [==============================] - 14s 3ms/step - loss: 1.0130e-07 - recall: 0.4105 - acc: 1.0000 - val_loss: 0.7998 - val_recall: 0.1750 - val_acc: 0.9284\n",
      "Epoch 179/200\n",
      "4521/4521 [==============================] - 14s 3ms/step - loss: 1.0131e-07 - recall: 0.4194 - acc: 1.0000 - val_loss: 0.7999 - val_recall: 0.1750 - val_acc: 0.9284\n",
      "Epoch 180/200\n",
      "4521/4521 [==============================] - 14s 3ms/step - loss: 1.0125e-07 - recall: 0.4176 - acc: 1.0000 - val_loss: 0.8003 - val_recall: 0.1750 - val_acc: 0.9284\n",
      "Epoch 181/200\n",
      "4521/4521 [==============================] - 14s 3ms/step - loss: 1.0127e-07 - recall: 0.4176 - acc: 1.0000 - val_loss: 0.8006 - val_recall: 0.1750 - val_acc: 0.9284\n",
      "Epoch 194/200\n",
      "4521/4521 [==============================] - 14s 3ms/step - loss: 1.0127e-07 - recall: 0.4017 - acc: 1.0000 - val_loss: 0.8002 - val_recall: 0.1750 - val_acc: 0.9284\n",
      "Epoch 195/200\n",
      "4521/4521 [==============================] - 14s 3ms/step - loss: 1.0125e-07 - recall: 0.4017 - acc: 1.0000 - val_loss: 0.8006 - val_recall: 0.1750 - val_acc: 0.9284\n",
      "Epoch 196/200\n",
      "4521/4521 [==============================] - 14s 3ms/step - loss: 1.0128e-07 - recall: 0.4211 - acc: 1.0000 - val_loss: 0.7994 - val_recall: 0.1750 - val_acc: 0.9284\n",
      "Epoch 197/200\n",
      "4521/4521 [==============================] - 14s 3ms/step - loss: 1.0144e-07 - recall: 0.3946 - acc: 1.0000 - val_loss: 0.8015 - val_recall: 0.1750 - val_acc: 0.9284\n",
      "Epoch 198/200\n",
      "4521/4521 [==============================] - 14s 3ms/step - loss: 1.0127e-07 - recall: 0.4035 - acc: 1.0000 - val_loss: 0.7998 - val_recall: 0.1750 - val_acc: 0.9284\n",
      "Epoch 199/200\n",
      "4521/4521 [==============================] - 14s 3ms/step - loss: 1.0123e-07 - recall: 0.4141 - acc: 1.0000 - val_loss: 0.8007 - val_recall: 0.1750 - val_acc: 0.9284\n",
      "Epoch 200/200\n",
      "4521/4521 [==============================] - 14s 3ms/step - loss: 1.0136e-07 - recall: 0.4158 - acc: 1.0000 - val_loss: 0.8004 - val_recall: 0.1750 - val_acc: 0.9284\n"
     ]
    }
   ],
   "source": [
    "history = model.fit(x_train, y_train, batch_size=batch_size, epochs=200, verbose=1, validation_split=0.1)"
   ]
  },
  {
   "cell_type": "code",
   "execution_count": null,
   "metadata": {},
   "outputs": [],
   "source": [
    "y_pred=model.predict(x_test)"
   ]
  },
  {
   "cell_type": "code",
   "execution_count": null,
   "metadata": {},
   "outputs": [
    {
     "data": {
      "text/plain": [
       "array([[0.0000000e+00],\n",
       "       [0.0000000e+00],\n",
       "       [0.0000000e+00],\n",
       "       ...,\n",
       "       [2.2410936e-13],\n",
       "       [8.2340361e-15],\n",
       "       [2.1715971e-23]], dtype=float32)"
      ]
     },
     "execution_count": 28,
     "metadata": {},
     "output_type": "execute_result"
    }
   ],
   "source": [
    "y_pred"
   ]
  },
  {
   "cell_type": "code",
   "execution_count": null,
   "metadata": {},
   "outputs": [],
   "source": [
    "import matplotlib.pyplot as plt\n",
    "%matplotlib inline\n",
    "\n",
    "def plot_history(history):\n",
    "    metrics = sorted(history.history.keys())\n",
    "    metrics = metrics[:len(metrics)//2]\n",
    "    \n",
    "    f,axs = plt.subplots(1, len(metrics), figsize=(12,4))\n",
    "    plt.subplots_adjust( right=1.5)\n",
    "\n",
    "    for m,ax in zip(metrics,axs):\n",
    "        # summarize history for metric m\n",
    "        ax.plot(history.history[m])\n",
    "        ax.plot(history.history['val_' + m])\n",
    "        ax.set_title(m)\n",
    "        ax.set_ylabel(m)\n",
    "        ax.set_xlabel('epoch')\n",
    "        ax.legend(['train', 'validation'], loc='best')"
   ]
  },
  {
   "cell_type": "code",
   "execution_count": null,
   "metadata": {},
   "outputs": [
    {
     "data": {
      "image/png": "[encoded data removed]",
      "text/plain": [
       "<Figure size 864x288 with 3 Axes>"
      ]
     },
     "metadata": {
      "needs_background": "light"
     },
     "output_type": "display_data"
    }
   ],
   "source": [
    "plot_history(history)"
   ]
  }
 ],
 "metadata": {
  "kernelspec": {
   "display_name": "Python 3",
   "language": "python",
   "name": "python3"
  },
  "language_info": {
   "codemirror_mode": {
    "name": "ipython",
    "version": 3
   },
   "file_extension": ".py",
   "mimetype": "text/x-python",
   "name": "python",
   "nbconvert_exporter": "python",
   "pygments_lexer": "ipython3",
   "version": "3.7.1"
  }
 },
 "nbformat": 4,
 "nbformat_minor": 4
}
