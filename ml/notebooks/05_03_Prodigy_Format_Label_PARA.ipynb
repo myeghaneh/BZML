{
 "cells": [
  {
   "cell_type": "markdown",
   "metadata": {},
   "source": [
    "# Regex and Prodigy (LABEL: PARA for ASTRONOMICAL SIZES)\n",
    "\n"
   ]
  },
  {
   "cell_type": "markdown",
   "metadata": {},
   "source": [
    "<font size= \"3\">\n",
    "Annotation of entities for sentences based on prodigy's format for different labels for further usage in Machine learning. Prodigy is an annotation tool based on spaCy. Please see here:\n",
    "    </p>\n",
    "  <a href=\"https://prodi.gy/ \"> Prodigy </a> \n",
    "<font 3>"
   ]
  },
  {
   "cell_type": "markdown",
   "metadata": {},
   "source": [
    "## Imports"
   ]
  },
  {
   "cell_type": "code",
   "execution_count": 1,
   "metadata": {
    "collapsed": true
   },
   "outputs": [],
   "source": [
    "import pandas as pd\n",
    "import re\n",
    "import pandas as pd\n",
    "import matplotlib.pyplot as plt\n",
    "import scipy as sp\n",
    "import spacy \n",
    "import re\n",
    "from prodigy.util import write_jsonl\n",
    "\n",
    "\n",
    "\n"
   ]
  },
  {
   "cell_type": "markdown",
   "metadata": {},
   "source": [
    "To save a new pickel file set to true"
   ]
  },
  {
   "cell_type": "markdown",
   "metadata": {},
   "source": [
    "## Read the Data"
   ]
  },
  {
   "cell_type": "code",
   "execution_count": 2,
   "metadata": {
    "collapsed": true
   },
   "outputs": [],
   "source": [
    "importVersion = '013'"
   ]
  },
  {
   "cell_type": "code",
   "execution_count": 3,
   "metadata": {
    "collapsed": true
   },
   "outputs": [],
   "source": [
    "path= '../data/01_df_v{0}.pickle'.format(importVersion)# Put the path of the data in your local machine here, consider the letter \"r\" before the path\n",
    "dfAstroNova = pd.read_pickle(path)"
   ]
  },
  {
   "cell_type": "code",
   "execution_count": 4,
   "metadata": {},
   "outputs": [
    {
     "data": {
      "text/plain": [
       "pandas.core.frame.DataFrame"
      ]
     },
     "execution_count": 4,
     "metadata": {},
     "output_type": "execute_result"
    }
   ],
   "source": [
    "type(dfAstroNova)"
   ]
  },
  {
   "cell_type": "code",
   "execution_count": 5,
   "metadata": {},
   "outputs": [
    {
     "data": {
      "text/html": [
       "<div>\n",
       "<style scoped>\n",
       "    .dataframe tbody tr th:only-of-type {\n",
       "        vertical-align: middle;\n",
       "    }\n",
       "\n",
       "    .dataframe tbody tr th {\n",
       "        vertical-align: top;\n",
       "    }\n",
       "\n",
       "    .dataframe thead th {\n",
       "        text-align: right;\n",
       "    }\n",
       "</style>\n",
       "<table border=\"1\" class=\"dataframe\">\n",
       "  <thead>\n",
       "    <tr style=\"text-align: right;\">\n",
       "      <th></th>\n",
       "      <th>html</th>\n",
       "      <th>text</th>\n",
       "      <th>links</th>\n",
       "      <th>italic</th>\n",
       "      <th>chapter</th>\n",
       "      <th>graphic</th>\n",
       "      <th>table</th>\n",
       "      <th>marginal</th>\n",
       "      <th>sentences</th>\n",
       "      <th>tagged</th>\n",
       "    </tr>\n",
       "  </thead>\n",
       "  <tbody>\n",
       "    <tr>\n",
       "      <th>0</th>\n",
       "      <td>&lt;p&gt;Appendix B&lt;/p&gt;</td>\n",
       "      <td>Appendix B</td>\n",
       "      <td>[]</td>\n",
       "      <td>[]</td>\n",
       "      <td>appendix b</td>\n",
       "      <td>[]</td>\n",
       "      <td>[]</td>\n",
       "      <td>[]</td>\n",
       "      <td>[Appendix B]</td>\n",
       "      <td>[[(Appendix, None), (B, None)]]</td>\n",
       "    </tr>\n",
       "    <tr>\n",
       "      <th>1</th>\n",
       "      <td>&lt;p&gt;&lt;span class=\"anchor\" id=\"bookmark0\"&gt;&lt;/span&gt;...</td>\n",
       "      <td>On the Table of Oppositions in Chapter 15</td>\n",
       "      <td>[]</td>\n",
       "      <td>[]</td>\n",
       "      <td>appendix b</td>\n",
       "      <td>[]</td>\n",
       "      <td>[]</td>\n",
       "      <td>[]</td>\n",
       "      <td>[On the Table of Oppositions in Chapter 15]</td>\n",
       "      <td>[[(On, None), (the, None), (Table, None), (of,...</td>\n",
       "    </tr>\n",
       "    <tr>\n",
       "      <th>2</th>\n",
       "      <td>&lt;p&gt;by Yaakov Zik &lt;span style=\"font-variant: sm...</td>\n",
       "      <td>by Yaakov Zik Table i:</td>\n",
       "      <td>[]</td>\n",
       "      <td>[]</td>\n",
       "      <td>appendix b</td>\n",
       "      <td>[]</td>\n",
       "      <td>[]</td>\n",
       "      <td>[]</td>\n",
       "      <td>[by Yaakov Zik Table i:]</td>\n",
       "      <td>[[(by, None), (Yaakov, None), (Zik, None), (Ta...</td>\n",
       "    </tr>\n",
       "    <tr>\n",
       "      <th>3</th>\n",
       "      <td>&lt;p&gt;&lt;span class=\"anchor\" id=\"bookmark1\"&gt;&lt;/span&gt;...</td>\n",
       "      <td>Initial positions of Mars in Chapter 15 comput...</td>\n",
       "      <td>[]</td>\n",
       "      <td>[]</td>\n",
       "      <td>appendix b</td>\n",
       "      <td>[]</td>\n",
       "      <td>[]</td>\n",
       "      <td>[]</td>\n",
       "      <td>[Initial positions of Mars in Chapter 15 compu...</td>\n",
       "      <td>[[(Initial, None), (positions, None), (of, Non...</td>\n",
       "    </tr>\n",
       "    <tr>\n",
       "      <th>4</th>\n",
       "      <td>&lt;p&gt;General notes:&lt;/p&gt;</td>\n",
       "      <td>General notes:</td>\n",
       "      <td>[]</td>\n",
       "      <td>[]</td>\n",
       "      <td>appendix b</td>\n",
       "      <td>[]</td>\n",
       "      <td>[]</td>\n",
       "      <td>[]</td>\n",
       "      <td>[General notes:]</td>\n",
       "      <td>[[(General, None), (notes, None)]]</td>\n",
       "    </tr>\n",
       "  </tbody>\n",
       "</table>\n",
       "</div>"
      ],
      "text/plain": [
       "                                                html  \\\n",
       "0                                  <p>Appendix B</p>   \n",
       "1  <p><span class=\"anchor\" id=\"bookmark0\"></span>...   \n",
       "2  <p>by Yaakov Zik <span style=\"font-variant: sm...   \n",
       "3  <p><span class=\"anchor\" id=\"bookmark1\"></span>...   \n",
       "4                              <p>General notes:</p>   \n",
       "\n",
       "                                                text links italic     chapter  \\\n",
       "0                                         Appendix B    []     []  appendix b   \n",
       "1          On the Table of Oppositions in Chapter 15    []     []  appendix b   \n",
       "2                             by Yaakov Zik Table i:    []     []  appendix b   \n",
       "3  Initial positions of Mars in Chapter 15 comput...    []     []  appendix b   \n",
       "4                                     General notes:    []     []  appendix b   \n",
       "\n",
       "  graphic table marginal                                          sentences  \\\n",
       "0      []    []       []                                       [Appendix B]   \n",
       "1      []    []       []        [On the Table of Oppositions in Chapter 15]   \n",
       "2      []    []       []                           [by Yaakov Zik Table i:]   \n",
       "3      []    []       []  [Initial positions of Mars in Chapter 15 compu...   \n",
       "4      []    []       []                                   [General notes:]   \n",
       "\n",
       "                                              tagged  \n",
       "0                    [[(Appendix, None), (B, None)]]  \n",
       "1  [[(On, None), (the, None), (Table, None), (of,...  \n",
       "2  [[(by, None), (Yaakov, None), (Zik, None), (Ta...  \n",
       "3  [[(Initial, None), (positions, None), (of, Non...  \n",
       "4                 [[(General, None), (notes, None)]]  "
      ]
     },
     "execution_count": 5,
     "metadata": {},
     "output_type": "execute_result"
    }
   ],
   "source": [
    "dfAstroNova.head(5)"
   ]
  },
  {
   "cell_type": "code",
   "execution_count": 6,
   "metadata": {},
   "outputs": [],
   "source": [
    "df=dfAstroNova.loc[dfAstroNova[\"chapter\"]==\"44\"]"
   ]
  },
  {
   "cell_type": "code",
   "execution_count": 7,
   "metadata": {},
   "outputs": [],
   "source": [
    "texts=[]\n",
    "for sen in df.sentences:\n",
    "    texts +=sen"
   ]
  },
  {
   "cell_type": "code",
   "execution_count": 8,
   "metadata": {},
   "outputs": [
    {
     "data": {
      "text/plain": [
       "1605"
      ]
     },
     "execution_count": 8,
     "metadata": {},
     "output_type": "execute_result"
    }
   ],
   "source": [
    "len(dfAstroNova['tagged'] )"
   ]
  },
  {
   "cell_type": "markdown",
   "metadata": {},
   "source": [
    "### Read the Sentences"
   ]
  },
  {
   "cell_type": "code",
   "execution_count": 9,
   "metadata": {},
   "outputs": [],
   "source": [
    "df=dfAstroNova.sentences"
   ]
  },
  {
   "cell_type": "code",
   "execution_count": 10,
   "metadata": {},
   "outputs": [],
   "source": [
    "texts=[]\n",
    "for sen in dfAstroNova.sentences:\n",
    "    texts +=sen\n",
    "\n",
    "    "
   ]
  },
  {
   "cell_type": "code",
   "execution_count": 11,
   "metadata": {},
   "outputs": [
    {
     "data": {
      "text/plain": [
       "['Appendix B',\n",
       " 'On the Table of Oppositions in Chapter 15',\n",
       " 'by Yaakov Zik Table i:',\n",
       " 'Initial positions of Mars in Chapter 15 computed with Guide 9 using JPL DE430.',\n",
       " 'General notes:']"
      ]
     },
     "execution_count": 11,
     "metadata": {},
     "output_type": "execute_result"
    }
   ],
   "source": [
    "texts[0:5]"
   ]
  },
  {
   "cell_type": "markdown",
   "metadata": {},
   "source": [
    "## Annotation Based on Consistant format with Prodigy "
   ]
  },
  {
   "cell_type": "markdown",
   "metadata": {},
   "source": [
    "<fig size= 3>\n",
    "Prodigy accept a specific format; a JSONL format (newline-delimited JSON). Entities and other highlighted spans of text can be defined in the \"spans\" property. A example could look like this dictionary:\n",
    "</p>    \n",
    "text': 'On 1595 October 30 at 8h 20m, they found Mars at 17° 48’ Taurus, with a diurnal motion of 22’ 54” ^15.',\n",
    "  'spans': [{'start': 22, 'end': 29, 'label': 'TIME'}]}\n",
    "</p>\n",
    "which start and end's numbers refer to the position of entitiy  in the sentence. (here TIME)\n",
    "\n",
    "    \n",
    "<fig size>"
   ]
  },
  {
   "cell_type": "code",
   "execution_count": 12,
   "metadata": {},
   "outputs": [],
   "source": [
    "import re\n",
    "from prodigy.util import write_jsonl\n",
    "\n",
    "label = \"PARA\"   # whatever label you want to use\n",
    "texts = texts  # a list of your texts\n",
    "regex_patterns = [\n",
    "re.compile(r'(?<!\\S)\\d{1,3}(?:,\\d{3})+?,?.(?!\\S?\\S)')\n",
    "                                          ]\n",
    "#1 (\\d{1,3},)+\\d{3},?\\.?)\n",
    "#2 (\\d{1,3},)+\\d{3}[^x],?\\.?\n",
    "#3 (?<!\\S)\\d{1,3}(?:,\\d{3})*(?!\\S)\n",
    "#4 (\\d{1,3})*(,\\d{3}),|(\\d{1,3})*(,\\d{1,3})\\.|(\\d{1,3})*(,\\d{3})\n",
    "#5 (?<!\\S)\\d{1,3}(?:,\\d{3})+(?!\\S)\n",
    "#6 (?<!\\S)\\d{1,3}(?:,\\d{3})*(?!\\S)\n",
    "#7 (?<!\\S)\\d{1,3}(?:,\\d{3})+?,?.(?!\\S?\\S)\n",
    "examples = []\n",
    "for text in texts:\n",
    "    for expression in regex_patterns:\n",
    "        spans = []\n",
    "    for match in re.finditer(expression, text):\n",
    "        start, end = match.span()\n",
    "        span = {\"start\": start, \"end\": end, \"label\": label}\n",
    "        spans.append(span)\n",
    "    task = {\"text\": text, \"spans\": spans}\n",
    "    examples.append(task)              \n",
    "\n",
    "write_jsonl(\"NER_PARA_01.jsonl\", examples)"
   ]
  },
  {
   "cell_type": "markdown",
   "metadata": {},
   "source": [
    "## See Misaligned Tokens"
   ]
  },
  {
   "cell_type": "markdown",
   "metadata": {},
   "source": [
    "<fig size= 3>\n",
    "This step is very important, since if Pordigy faces with Misaligned tokens, we can see that before and try to adjust regex accordingly\n",
    "<fig size>"
   ]
  },
  {
   "cell_type": "code",
   "execution_count": 13,
   "metadata": {},
   "outputs": [],
   "source": [
    "import spacy \n",
    "nlp = spacy.load(\"en_core_web_sm\")  # or other model\n",
    "i=0\n",
    "for example in examples:  # your existing examples\n",
    "    doc = nlp(example[\"text\"])\n",
    "    for span in example[\"spans\"]:\n",
    "        char_span = doc.char_span(span[\"start\"], span[\"end\"])\n",
    "        if char_span is None:  # start and end don't map to tokens\n",
    "            i=i+1\n",
    "            print(i, \"Misaligned tokens\", example[\"text\"], span)"
   ]
  },
  {
   "cell_type": "code",
   "execution_count": 14,
   "metadata": {},
   "outputs": [
    {
     "data": {
      "text/plain": [
       "[{'text': 'Now the optical equation of 90° is 5° 19\\', and half of its sine gives an arc which is likewise about its half, that is, 2° 39’ 15\", for the optical equation at 30° of eccentric anomaly, whose secant is 100,107.',\n",
       "  'spans': [{'start': 202, 'end': 210, 'label': 'ASTR'}]},\n",
       " {'text': 'And here 107, the excess of the secant over the radius, is about one fourth of the former, 432, while the sine of 30° would be half the sine of 90°.',\n",
       "  'spans': []},\n",
       " {'text': 'Some geometer should see whether this argument be demonstrable.',\n",
       "  'spans': []},\n",
       " {'text': 'For me it suffices at present to answer those very small questions with which I am occupied.',\n",
       "  'spans': []},\n",
       " {'text': 'Therefore, to arrive at 432, parts are accumulated that are not proportional to the sines, but are always smaller, and at the 45th degree or thereabouts are but their halves.',\n",
       "  'spans': []},\n",
       " {'text': 'Before that point they are less than the halves, so that about 30° they are only the fourths, and at length become imperceptible.',\n",
       "  'spans': []},\n",
       " {'text': 'And so, of the sum of 49,934, we retain only one seventh, or about 7000.',\n",
       "  'spans': [{'start': 22, 'end': 29, 'label': 'ASTR'}]},\n",
       " {'text': 'This is also shown empirically, by computing all the distances degree by degree and adding them up ^6.',\n",
       "  'spans': []},\n",
       " {'text': \"And because one distance of 100,000 has the value of 60', this little sum has a value of no more than 4⅕’7 which is nonetheless spread all around the circumference, so that about 45° and 135°, where it is greatest, this tiny error turns out to be imperceptible even in Mars.\",\n",
       "  'spans': []},\n",
       " {'text': 'Consequently, we must seek another occasion for this discrepancy.',\n",
       "  'spans': []},\n",
       " {'text': 'Chapter 44', 'spans': []},\n",
       " {'text': 'The path of the planet through the ethereal air is not a circle, not even with respect to the first inequality alone, even if you mentally remove the Brahean and Ptolemaic complex of spirals resulting from the second inequality in these two authors.',\n",
       "  'spans': []},\n",
       " {'text': \"With the eccentricity and the ratio of the orbs established with the utmost certainty, it might appear strange to an astronomer that there remains yet another impediment in the way of astronomy's triumph.\",\n",
       "  'spans': []},\n",
       " {'text': 'And me, Lord knows, I had triumphed for two full years.',\n",
       "  'spans': []},\n",
       " {'text': 'Nevertheless, by a comparison of the things which have  been established in Chapters 41, 42, and 43, preceding, it is readily apparent what we are still lacking.',\n",
       "  'spans': []},\n",
       " {'text': 'The positions of the aphelia, eccentricity, and the ratio of the orbs, as constituted in the several places, differed greatly from one another.',\n",
       "  'spans': []},\n",
       " {'text': 'Nor were the computed physical equations in agreement with the observations (which the vicarious hypothesis represents).',\n",
       "  'spans': []},\n",
       " {'text': 'Let the diagram of Chapter 41 be brought back.', 'spans': []},\n",
       " {'text': 'And because, in that diagram, in units of which γη was 151,740, γα would have been 14,822, when γα and γη or γε are added, αε would be 166,562.',\n",
       "  'spans': [{'start': 55, 'end': 63, 'label': 'ASTR'},\n",
       "   {'start': 83, 'end': 90, 'label': 'ASTR'},\n",
       "   {'start': 135, 'end': 143, 'label': 'ASTR'}]},\n",
       " {'text': 'In Chapter 42 this was found to be 166,780.',\n",
       "  'spans': [{'start': 35, 'end': 43, 'label': 'ASTR'}]},\n",
       " {'text': 'Likewise, when γα is subtracted from γδ, the remainder, αδ, would be 136,918, which in Chapter 42 was found to be fully 138,500.',\n",
       "  'spans': [{'start': 69, 'end': 77, 'label': 'ASTR'},\n",
       "   {'start': 120, 'end': 128, 'label': 'ASTR'}]},\n",
       " {'text': 'Again, the true length of the lines γε, γα, αε, and αδ was found in Chapter 421 If, therefore, what was supposed and used in Chapter 41 is true, that the path of the planet is a circle, it is not difficult to say how much ακ, αη, αθ ought to be.',\n",
       "  'spans': []},\n",
       " {'text': 'Since in Oct.', 'spans': []},\n",
       " {'text': '1590 αε was at 28° 41\\' 40\" Leo, and κ, η, θ are as given in Chapter 41, the angles καγ, ηαγ, θαγ will be given.',\n",
       "  'spans': []},\n",
       " {'text': 'Therefore, the optical equation will also be given: ακγ 0° 53\\' 13\", αηγ 3° 10\\' 24\", αθγ 5° 8\\' 47\" ^2.',\n",
       "  'spans': []},\n",
       " {'text': 'And as the sine of these angles is to the truest eccentricity αγ, 14,140, so are the sines of κγε, ηγε, θγα to ακ, αη, αθ.',\n",
       "  'spans': [{'start': 66, 'end': 73, 'label': 'ASTR'}]},\n",
       " {'text': '3\\nIf anyone wishes to attribute this difference to the slippery luck of observing, he must surely not have felt nor paid attention to the force of the demonstrations used hitherto, and will be shamelessly imputing to me the vilest fraud in corrupting the observations of Brahe.',\n",
       "  'spans': []},\n",
       " {'text': 'I therefore appeal to the observations of subsequent years, at least those that experienced observers made.',\n",
       "  'spans': []},\n",
       " {'text': 'For if in any respect I have given free rein to my inclinations in one direction, it will only go so much the farther into error on the other side.',\n",
       "  'spans': []},\n",
       " {'text': 'But there is no need of this.', 'spans': []}]"
      ]
     },
     "execution_count": 14,
     "metadata": {},
     "output_type": "execute_result"
    }
   ],
   "source": [
    "examples [3170: 3200]  # here we can search for Misaligned Tokens and try to find a remedy by regex\n"
   ]
  },
  {
   "cell_type": "code",
   "execution_count": 19,
   "metadata": {},
   "outputs": [
    {
     "data": {
      "text/plain": [
       "'136,918,'"
      ]
     },
     "execution_count": 19,
     "metadata": {},
     "output_type": "execute_result"
    }
   ],
   "source": [
    "text= \"Likewise, when γα is subtracted from γδ, the remainder, αδ, would be 136,918, which in Chapter 42 was found to be fully 138,500.\"\n",
    "text[69:77]   #try to find the Misaligned Tokens"
   ]
  }
 ],
 "metadata": {
  "kernelspec": {
   "display_name": "Python 3",
   "language": "python",
   "name": "python3"
  },
  "language_info": {
   "codemirror_mode": {
    "name": "ipython",
    "version": 3
   },
   "file_extension": ".py",
   "mimetype": "text/x-python",
   "name": "python",
   "nbconvert_exporter": "python",
   "pygments_lexer": "ipython3",
   "version": "3.7.1"
  }
 },
 "nbformat": 4,
 "nbformat_minor": 2
}
