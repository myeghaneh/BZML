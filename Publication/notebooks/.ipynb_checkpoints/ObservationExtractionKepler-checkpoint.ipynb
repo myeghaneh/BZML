{
 "cells": [
  {
   "cell_type": "markdown",
   "metadata": {},
   "source": [
    "## Extraction Explicit Observational Sentences using Customized Named Entity Recognition (NER)\n",
    "\n",
    "\n"
   ]
  },
  {
   "cell_type": "markdown",
   "metadata": {},
   "source": [
    "## - Astronomia nova , Kepler"
   ]
  },
  {
   "cell_type": "markdown",
   "metadata": {},
   "source": [
    " Gerd Graßhoff$^{(1,2)}$, Mohammad Yeghaneh$^{(2)}$\n",
    "\n",
    "1: Max-Planck-Institute for the History of Science, Berlin\n",
    "\n",
    "2: Humboldt University, Berlin"
   ]
  },
  {
   "cell_type": "code",
   "execution_count": 74,
   "metadata": {},
   "outputs": [
    {
     "name": "stdout",
     "output_type": "stream",
     "text": [
      "The autoreload extension is already loaded. To reload it, use:\n",
      "  %reload_ext autoreload\n"
     ]
    }
   ],
   "source": [
    "import pandas as pd\n",
    "import numpy as np\n",
    "%load_ext autoreload\n",
    "%autoreload 2\n",
    "from warnings import filterwarnings\n",
    "filterwarnings('ignore')\n",
    "import matplotlib.pyplot as plt \n",
    "import ipywidgets as widget\n",
    "from ipywidgets import interact, widgets\n",
    "\n"
   ]
  },
  {
   "cell_type": "code",
   "execution_count": 75,
   "metadata": {},
   "outputs": [],
   "source": [
    "options = {\"compact\": True, \"bg\": \"#09a3d5\",\n",
    "           \"color\": \"white\", \"font\": \"Source Sans Pro\",\"collapse_phrases\":False}"
   ]
  },
  {
   "cell_type": "code",
   "execution_count": 76,
   "metadata": {},
   "outputs": [],
   "source": [
    "pd.set_option('display.max_colwidth', -1)\n",
    "pd.set_option('max_colwidth', 1000)\n"
   ]
  },
  {
   "cell_type": "markdown",
   "metadata": {},
   "source": [
    "# 1-Loading the Kepler corpus"
   ]
  },
  {
   "cell_type": "markdown",
   "metadata": {},
   "source": [
    "### Import resources; "
   ]
  },
  {
   "cell_type": "markdown",
   "metadata": {},
   "source": [
    "Here we load the enriched Kepler corpus. The corpus has been structured using a customized Named Entity Recognition model (NER). This model provided by a hybrid approach using the rule based patterns and deep learning. "
   ]
  },
  {
   "cell_type": "code",
   "execution_count": 93,
   "metadata": {},
   "outputs": [],
   "source": [
    "dfp=pd.read_pickle('../data/dfV07A02.pkl');\n",
    "#df=pd.read_json('../data/dfV05A02.json');\n",
    "df=dfp.sort_index();\n",
    "df=dfp.reset_index(drop=True)"
   ]
  },
  {
   "cell_type": "code",
   "execution_count": 94,
   "metadata": {},
   "outputs": [
    {
     "data": {
      "text/plain": [
       "6699"
      ]
     },
     "execution_count": 94,
     "metadata": {},
     "output_type": "execute_result"
    }
   ],
   "source": [
    "len(df)"
   ]
  },
  {
   "cell_type": "code",
   "execution_count": 95,
   "metadata": {},
   "outputs": [
    {
     "data": {
      "text/html": [
       "<div>\n",
       "<style scoped>\n",
       "    .dataframe tbody tr th:only-of-type {\n",
       "        vertical-align: middle;\n",
       "    }\n",
       "\n",
       "    .dataframe tbody tr th {\n",
       "        vertical-align: top;\n",
       "    }\n",
       "\n",
       "    .dataframe thead th {\n",
       "        text-align: right;\n",
       "    }\n",
       "</style>\n",
       "<table border=\"1\" class=\"dataframe\">\n",
       "  <thead>\n",
       "    <tr style=\"text-align: right;\">\n",
       "      <th></th>\n",
       "      <th>Chapter</th>\n",
       "      <th>ParaIndex</th>\n",
       "      <th>SentIndex</th>\n",
       "      <th>Paragraph</th>\n",
       "      <th>Sentence</th>\n",
       "      <th>Entities</th>\n",
       "    </tr>\n",
       "  </thead>\n",
       "  <tbody>\n",
       "    <tr>\n",
       "      <td>0</td>\n",
       "      <td>1</td>\n",
       "      <td>0</td>\n",
       "      <td>0</td>\n",
       "      <td>Chapter 1</td>\n",
       "      <td>Chapter 1</td>\n",
       "      <td>[]</td>\n",
       "    </tr>\n",
       "    <tr>\n",
       "      <td>1</td>\n",
       "      <td>1</td>\n",
       "      <td>1</td>\n",
       "      <td>1</td>\n",
       "      <td>On the distinction between the first motion and the second or proper motions; and in the proper motions, between the first and the second inequality.</td>\n",
       "      <td>On the distinction between the first motion and the second or proper motions; and in the proper motions, between the first and the second inequality.</td>\n",
       "      <td>[]</td>\n",
       "    </tr>\n",
       "    <tr>\n",
       "      <td>2</td>\n",
       "      <td>1</td>\n",
       "      <td>2</td>\n",
       "      <td>2</td>\n",
       "      <td>The testimony of the ages confirms that the motions of the planets are orbicular.  Reason, having borrowed from experience, immediately presumes this: that their gyrations are perfect circles. For among figures it is circles, and among bodies the heavens, that are considered the most perfect. However, when experience seems to teach something different to those who pay careful attention, namely, that the planets deviate from a simple circular path, it gives rise to a powerful sense of wonder, which at length drives people to look into causes.</td>\n",
       "      <td>The testimony of the ages confirms that the motions of the planets are orbicular.</td>\n",
       "      <td>[]</td>\n",
       "    </tr>\n",
       "    <tr>\n",
       "      <td>3</td>\n",
       "      <td>1</td>\n",
       "      <td>2</td>\n",
       "      <td>3</td>\n",
       "      <td>The testimony of the ages confirms that the motions of the planets are orbicular.  Reason, having borrowed from experience, immediately presumes this: that their gyrations are perfect circles. For among figures it is circles, and among bodies the heavens, that are considered the most perfect. However, when experience seems to teach something different to those who pay careful attention, namely, that the planets deviate from a simple circular path, it gives rise to a powerful sense of wonder, which at length drives people to look into causes.</td>\n",
       "      <td>Reason, having borrowed from experience, immediately presumes this: that their gyrations are perfect circles.</td>\n",
       "      <td>[]</td>\n",
       "    </tr>\n",
       "    <tr>\n",
       "      <td>4</td>\n",
       "      <td>1</td>\n",
       "      <td>2</td>\n",
       "      <td>4</td>\n",
       "      <td>The testimony of the ages confirms that the motions of the planets are orbicular.  Reason, having borrowed from experience, immediately presumes this: that their gyrations are perfect circles. For among figures it is circles, and among bodies the heavens, that are considered the most perfect. However, when experience seems to teach something different to those who pay careful attention, namely, that the planets deviate from a simple circular path, it gives rise to a powerful sense of wonder, which at length drives people to look into causes.</td>\n",
       "      <td>For among figures it is circles, and among bodies the heavens, that are considered the most perfect.</td>\n",
       "      <td>[]</td>\n",
       "    </tr>\n",
       "  </tbody>\n",
       "</table>\n",
       "</div>"
      ],
      "text/plain": [
       "  Chapter  ParaIndex  SentIndex  \\\n",
       "0       1          0          0   \n",
       "1       1          1          1   \n",
       "2       1          2          2   \n",
       "3       1          2          3   \n",
       "4       1          2          4   \n",
       "\n",
       "                                                                                                                                                                                                                                                                                                                                                                                                                                                                                                                                                             Paragraph  \\\n",
       "0                                                                                                                                                                                                                                                                                                                                                                                                                                                                                                                                                            Chapter 1   \n",
       "1                                                                                                                                                                                                                                                                                                                                                                                                                On the distinction between the first motion and the second or proper motions; and in the proper motions, between the first and the second inequality.   \n",
       "2  The testimony of the ages confirms that the motions of the planets are orbicular.  Reason, having borrowed from experience, immediately presumes this: that their gyrations are perfect circles. For among figures it is circles, and among bodies the heavens, that are considered the most perfect. However, when experience seems to teach something different to those who pay careful attention, namely, that the planets deviate from a simple circular path, it gives rise to a powerful sense of wonder, which at length drives people to look into causes.   \n",
       "3  The testimony of the ages confirms that the motions of the planets are orbicular.  Reason, having borrowed from experience, immediately presumes this: that their gyrations are perfect circles. For among figures it is circles, and among bodies the heavens, that are considered the most perfect. However, when experience seems to teach something different to those who pay careful attention, namely, that the planets deviate from a simple circular path, it gives rise to a powerful sense of wonder, which at length drives people to look into causes.   \n",
       "4  The testimony of the ages confirms that the motions of the planets are orbicular.  Reason, having borrowed from experience, immediately presumes this: that their gyrations are perfect circles. For among figures it is circles, and among bodies the heavens, that are considered the most perfect. However, when experience seems to teach something different to those who pay careful attention, namely, that the planets deviate from a simple circular path, it gives rise to a powerful sense of wonder, which at length drives people to look into causes.   \n",
       "\n",
       "                                                                                                                                                Sentence  \\\n",
       "0                                                                                                                                              Chapter 1   \n",
       "1  On the distinction between the first motion and the second or proper motions; and in the proper motions, between the first and the second inequality.   \n",
       "2                                                                      The testimony of the ages confirms that the motions of the planets are orbicular.   \n",
       "3                                          Reason, having borrowed from experience, immediately presumes this: that their gyrations are perfect circles.   \n",
       "4                                                   For among figures it is circles, and among bodies the heavens, that are considered the most perfect.   \n",
       "\n",
       "  Entities  \n",
       "0       []  \n",
       "1       []  \n",
       "2       []  \n",
       "3       []  \n",
       "4       []  "
      ]
     },
     "execution_count": 95,
     "metadata": {},
     "output_type": "execute_result"
    }
   ],
   "source": [
    "df.head()"
   ]
  },
  {
   "cell_type": "markdown",
   "metadata": {},
   "source": [
    "### Explore Corpus"
   ]
  },
  {
   "cell_type": "code",
   "execution_count": 96,
   "metadata": {},
   "outputs": [
    {
     "data": {
      "application/vnd.jupyter.widget-view+json": {
       "model_id": "15a52547f5f5477b82b26d79f9730479",
       "version_major": 2,
       "version_minor": 0
      },
      "text/plain": [
       "interactive(children=(Text(value='SentIndex', description='column'), IntSlider(value=3349, description='x', ma…"
      ]
     },
     "metadata": {},
     "output_type": "display_data"
    }
   ],
   "source": [
    "@interact\n",
    "def ShowbyChapter( column='SentIndex', x=(1,len(dfp.SentIndex)-1)):\n",
    "    return dfp.loc[dfp[column]==x ]"
   ]
  },
  {
   "cell_type": "markdown",
   "metadata": {},
   "source": [
    "# 2-Filter out observation sentences"
   ]
  },
  {
   "cell_type": "markdown",
   "metadata": {},
   "source": [
    "### 2a-Observational expressions included number ID of corpus; Paraindex and SentIndex"
   ]
  },
  {
   "cell_type": "code",
   "execution_count": 102,
   "metadata": {},
   "outputs": [],
   "source": [
    "def observationFilterV02(x):\n",
    "    list_en=[]\n",
    "    for idx in range(0,len(x)):\n",
    "        list_en.append(x[idx][1])\n",
    "    result= all(lst in list_en for lst in [\"COOR\",\"DATE\",\"TIME\"])\n",
    "    if result:\n",
    "        y=\"Obs\"\n",
    "    else:\n",
    "        y=\"NObs\"\n",
    "    return y\n",
    "              "
   ]
  },
  {
   "cell_type": "code",
   "execution_count": 103,
   "metadata": {},
   "outputs": [],
   "source": [
    "\n",
    "df['Label'] = df['Entities'].apply(lambda x: observationFilterV02(x))"
   ]
  },
  {
   "cell_type": "code",
   "execution_count": 104,
   "metadata": {},
   "outputs": [],
   "source": [
    "dfObs=df[df.Label==\"Obs\"]\n",
    "dfObs=dfObs.reset_index(drop=True)\n",
    "\n"
   ]
  },
  {
   "cell_type": "code",
   "execution_count": 107,
   "metadata": {},
   "outputs": [
    {
     "data": {
      "text/html": [
       "<div>\n",
       "<style scoped>\n",
       "    .dataframe tbody tr th:only-of-type {\n",
       "        vertical-align: middle;\n",
       "    }\n",
       "\n",
       "    .dataframe tbody tr th {\n",
       "        vertical-align: top;\n",
       "    }\n",
       "\n",
       "    .dataframe thead th {\n",
       "        text-align: right;\n",
       "    }\n",
       "</style>\n",
       "<table border=\"1\" class=\"dataframe\">\n",
       "  <thead>\n",
       "    <tr style=\"text-align: right;\">\n",
       "      <th></th>\n",
       "      <th>Chapter</th>\n",
       "      <th>ParaIndex</th>\n",
       "      <th>SentIndex</th>\n",
       "      <th>Paragraph</th>\n",
       "      <th>Sentence</th>\n",
       "      <th>Entities</th>\n",
       "      <th>Label</th>\n",
       "    </tr>\n",
       "  </thead>\n",
       "  <tbody>\n",
       "    <tr>\n",
       "      <td>70</td>\n",
       "      <td>62</td>\n",
       "      <td>1412</td>\n",
       "      <td>5910</td>\n",
       "      <td>But since the position is rather far from the limit, in order to cut off any opportunity for suspicion, let us consult observations at positions other than acronychal, where Mars is near the limit. In undertaking this, I shall also present a universally applicable demonstration of the ratio between the inclination and the observed latitude. On 1593 July 21 at 14h (in astronomical terms),4 the planet was observed at 17° 45¾' Pisces, with latitude 5° 46¼’ south ^5. At this hour the eccentric position of Mars is found to be 20° 1½’ Aquarius, while the sun's position was 8° 26' Leo.</td>\n",
       "      <td>On 1593 July 21 at 14h (in astronomical terms),4 the planet was observed at 17° 45¾' Pisces, with latitude 5° 46¼’ south ^5.</td>\n",
       "      <td>[(1593 July 21, DATE), (14h, TIME), (observed, ASTR), (17° 45¾' Pisces, COOR), (latitude, ASTR), (5° 46¼’ south, COOR)]</td>\n",
       "      <td>Obs</td>\n",
       "    </tr>\n",
       "    <tr>\n",
       "      <td>71</td>\n",
       "      <td>65</td>\n",
       "      <td>1460</td>\n",
       "      <td>6116</td>\n",
       "      <td>And I was now about to choose the mean between 17° Leo and 25° Leo, namely, 21° Leo, but the year 1585 gave me pause, since in that year the latitude observed at 21° 36' Leo was clearly not a maximum. For while the opposition was on the night following January 30, the latitude observed on the 24th, preceding the opposition, was 4° 31', still increasing, while on January 31, 16 hours past opposition, the observed latitude was again 4° 31'. It is therefore evident that on the 24th, if the opposition had occurred at that eccentric position, a latitude greater than 4° 31' would have been observed, for two reasons: first, because the celestial body was nearer the earth than when it was not at its acronychal position, and second, because Mars was farther from apogee, and was lower.</td>\n",
       "      <td>For while the opposition was on the night following January 30, the latitude observed on the 24th, preceding the opposition, was 4° 31', still increasing, while on January 31, 16 hours past opposition, the observed latitude was again 4° 31'.</td>\n",
       "      <td>[(opposition, ASTR), (January 30, DATE), (latitude, ASTR), (observed, ASTR), (opposition, ASTR), (4° 31', COOR), (January 31, DATE), (16 hours, TIME), (opposition, ASTR), (observed, ASTR), (latitude, ASTR), (4° 31', COOR)]</td>\n",
       "      <td>Obs</td>\n",
       "    </tr>\n",
       "    <tr>\n",
       "      <td>72</td>\n",
       "      <td>69</td>\n",
       "      <td>1554</td>\n",
       "      <td>6538</td>\n",
       "      <td>Let us therefore follow whither our inclinations and our arguments lead: as in the first case, in the second year of Antonine, on the 12th day of Epiphi, at the 8th hour, at Alexandria in Egypt, let Mars's mean motion from the  equinoctial be 11° 18' 30\" Sagittarius. This time corresponds to the common year of Christ 139 May 27. The difference of meridians between Hven and Alexandria is nearly two hours, from the most recent geographical tables. Therefore, at Hven in the year of Christ 139 May 27 at 6h the mean motion was 8s 11° 18' 30\". But in that year, Cor Leonis had a longitude of 2° 30' Leo, that is, 4s 2° 30' 0\". Therefore Mars's mean motion was 4s 8° 48' 30\" from Cor Leonis. But on  159944 May 27 at 6h Mars's mean motion was 0s 0° 47' 30\" from the equinoctial, while the distance of Cor Leonis from that point, as demonstrated by Brahe, was 4s 24° 15' 45\". Therefore Mars was 7s 6° 31' 45\" from Cor Leonis.</td>\n",
       "      <td>Therefore, at Hven in the year of Christ 139 May 27 at 6h the mean motion was 8s 11° 18' 30\".</td>\n",
       "      <td>[(Hven, NAME), (May 27, DATE), (6h, TIME), (11° 18' 30\", COOR)]</td>\n",
       "      <td>Obs</td>\n",
       "    </tr>\n",
       "    <tr>\n",
       "      <td>73</td>\n",
       "      <td>69</td>\n",
       "      <td>1562</td>\n",
       "      <td>6554</td>\n",
       "      <td>In the year of Christ 139 Pharmouthi 9, which is February 23, at sunset at 5h 30m, 3h 30m at Hven, the apparent position of the sun was computed as 3° 3' Pisces; therefore, the mean position was 0° 43' Pisces. But the longitude of Cor Leonis was found to be 2° 30' Leo. Therefore, the mean motion of the sun preceded Cor Leonis by 5s 1° 47' 0\". But on 1599 February 23 at 3h 30m at Hven the mean motion of the sun was at 12° 47' 41\" Pisces, and Cor Leonis 24° 15’ 30\" Leo. So the mean motion of the sun preceded Cor Leonis by 5s 11° 27' 49\".</td>\n",
       "      <td>In the year of Christ 139 Pharmouthi 9, which is February 23, at sunset at 5h 30m, 3h 30m at Hven, the apparent position of the sun was computed as 3° 3' Pisces; therefore, the mean position was 0° 43' Pisces.</td>\n",
       "      <td>[(February 23, DATE), (5h 30m, TIME), (3h 30m, TIME), (Hven, NAME), (3° 3' Pisces, COOR), (0° 43' Pisces., COOR)]</td>\n",
       "      <td>Obs</td>\n",
       "    </tr>\n",
       "    <tr>\n",
       "      <td>74</td>\n",
       "      <td>69</td>\n",
       "      <td>1562</td>\n",
       "      <td>6557</td>\n",
       "      <td>In the year of Christ 139 Pharmouthi 9, which is February 23, at sunset at 5h 30m, 3h 30m at Hven, the apparent position of the sun was computed as 3° 3' Pisces; therefore, the mean position was 0° 43' Pisces. But the longitude of Cor Leonis was found to be 2° 30' Leo. Therefore, the mean motion of the sun preceded Cor Leonis by 5s 1° 47' 0\". But on 1599 February 23 at 3h 30m at Hven the mean motion of the sun was at 12° 47' 41\" Pisces, and Cor Leonis 24° 15’ 30\" Leo. So the mean motion of the sun preceded Cor Leonis by 5s 11° 27' 49\".</td>\n",
       "      <td>But on 1599 February 23 at 3h 30m at Hven the mean motion of the sun was at 12° 47' 41\" Pisces, and Cor Leonis 24° 15’ 30\" Leo.</td>\n",
       "      <td>[(1599 February 23, DATE), (3h 30m, TIME), (Hven, NAME), (12° 47' 41\" Pisces, COOR), (Cor Leonis, STAR), (24° 15’ 30\" Leo., COOR)]</td>\n",
       "      <td>Obs</td>\n",
       "    </tr>\n",
       "  </tbody>\n",
       "</table>\n",
       "</div>"
      ],
      "text/plain": [
       "   Chapter  ParaIndex  SentIndex  \\\n",
       "70      62       1412       5910   \n",
       "71      65       1460       6116   \n",
       "72      69       1554       6538   \n",
       "73      69       1562       6554   \n",
       "74      69       1562       6557   \n",
       "\n",
       "                                                                                                                                                                                                                                                                                                                                                                                                                                                                                                                                                                                                                                                                                                                                                                                                                                                                                                                                                       Paragraph  \\\n",
       "70                                                                                                                                                                                                                                                                                                                                                     But since the position is rather far from the limit, in order to cut off any opportunity for suspicion, let us consult observations at positions other than acronychal, where Mars is near the limit. In undertaking this, I shall also present a universally applicable demonstration of the ratio between the inclination and the observed latitude. On 1593 July 21 at 14h (in astronomical terms),4 the planet was observed at 17° 45¾' Pisces, with latitude 5° 46¼’ south ^5. At this hour the eccentric position of Mars is found to be 20° 1½’ Aquarius, while the sun's position was 8° 26' Leo.   \n",
       "71                                                                                                                                            And I was now about to choose the mean between 17° Leo and 25° Leo, namely, 21° Leo, but the year 1585 gave me pause, since in that year the latitude observed at 21° 36' Leo was clearly not a maximum. For while the opposition was on the night following January 30, the latitude observed on the 24th, preceding the opposition, was 4° 31', still increasing, while on January 31, 16 hours past opposition, the observed latitude was again 4° 31'. It is therefore evident that on the 24th, if the opposition had occurred at that eccentric position, a latitude greater than 4° 31' would have been observed, for two reasons: first, because the celestial body was nearer the earth than when it was not at its acronychal position, and second, because Mars was farther from apogee, and was lower.   \n",
       "72   Let us therefore follow whither our inclinations and our arguments lead: as in the first case, in the second year of Antonine, on the 12th day of Epiphi, at the 8th hour, at Alexandria in Egypt, let Mars's mean motion from the  equinoctial be 11° 18' 30\" Sagittarius. This time corresponds to the common year of Christ 139 May 27. The difference of meridians between Hven and Alexandria is nearly two hours, from the most recent geographical tables. Therefore, at Hven in the year of Christ 139 May 27 at 6h the mean motion was 8s 11° 18' 30\". But in that year, Cor Leonis had a longitude of 2° 30' Leo, that is, 4s 2° 30' 0\". Therefore Mars's mean motion was 4s 8° 48' 30\" from Cor Leonis. But on  159944 May 27 at 6h Mars's mean motion was 0s 0° 47' 30\" from the equinoctial, while the distance of Cor Leonis from that point, as demonstrated by Brahe, was 4s 24° 15' 45\". Therefore Mars was 7s 6° 31' 45\" from Cor Leonis.   \n",
       "73                                                                                                                                                                                                                                                                                                                                                                                                 In the year of Christ 139 Pharmouthi 9, which is February 23, at sunset at 5h 30m, 3h 30m at Hven, the apparent position of the sun was computed as 3° 3' Pisces; therefore, the mean position was 0° 43' Pisces. But the longitude of Cor Leonis was found to be 2° 30' Leo. Therefore, the mean motion of the sun preceded Cor Leonis by 5s 1° 47' 0\". But on 1599 February 23 at 3h 30m at Hven the mean motion of the sun was at 12° 47' 41\" Pisces, and Cor Leonis 24° 15’ 30\" Leo. So the mean motion of the sun preceded Cor Leonis by 5s 11° 27' 49\".   \n",
       "74                                                                                                                                                                                                                                                                                                                                                                                                 In the year of Christ 139 Pharmouthi 9, which is February 23, at sunset at 5h 30m, 3h 30m at Hven, the apparent position of the sun was computed as 3° 3' Pisces; therefore, the mean position was 0° 43' Pisces. But the longitude of Cor Leonis was found to be 2° 30' Leo. Therefore, the mean motion of the sun preceded Cor Leonis by 5s 1° 47' 0\". But on 1599 February 23 at 3h 30m at Hven the mean motion of the sun was at 12° 47' 41\" Pisces, and Cor Leonis 24° 15’ 30\" Leo. So the mean motion of the sun preceded Cor Leonis by 5s 11° 27' 49\".   \n",
       "\n",
       "                                                                                                                                                                                                                                             Sentence  \\\n",
       "70                                                                                                                       On 1593 July 21 at 14h (in astronomical terms),4 the planet was observed at 17° 45¾' Pisces, with latitude 5° 46¼’ south ^5.   \n",
       "71  For while the opposition was on the night following January 30, the latitude observed on the 24th, preceding the opposition, was 4° 31', still increasing, while on January 31, 16 hours past opposition, the observed latitude was again 4° 31'.   \n",
       "72                                                                                                                                                      Therefore, at Hven in the year of Christ 139 May 27 at 6h the mean motion was 8s 11° 18' 30\".   \n",
       "73                                  In the year of Christ 139 Pharmouthi 9, which is February 23, at sunset at 5h 30m, 3h 30m at Hven, the apparent position of the sun was computed as 3° 3' Pisces; therefore, the mean position was 0° 43' Pisces.   \n",
       "74                                                                                                                    But on 1599 February 23 at 3h 30m at Hven the mean motion of the sun was at 12° 47' 41\" Pisces, and Cor Leonis 24° 15’ 30\" Leo.   \n",
       "\n",
       "                                                                                                                                                                                                                          Entities  \\\n",
       "70                                                                                                         [(1593 July 21, DATE), (14h, TIME), (observed, ASTR), (17° 45¾' Pisces, COOR), (latitude, ASTR), (5° 46¼’ south, COOR)]   \n",
       "71  [(opposition, ASTR), (January 30, DATE), (latitude, ASTR), (observed, ASTR), (opposition, ASTR), (4° 31', COOR), (January 31, DATE), (16 hours, TIME), (opposition, ASTR), (observed, ASTR), (latitude, ASTR), (4° 31', COOR)]   \n",
       "72                                                                                                                                                                 [(Hven, NAME), (May 27, DATE), (6h, TIME), (11° 18' 30\", COOR)]   \n",
       "73                                                                                                               [(February 23, DATE), (5h 30m, TIME), (3h 30m, TIME), (Hven, NAME), (3° 3' Pisces, COOR), (0° 43' Pisces., COOR)]   \n",
       "74                                                                                              [(1599 February 23, DATE), (3h 30m, TIME), (Hven, NAME), (12° 47' 41\" Pisces, COOR), (Cor Leonis, STAR), (24° 15’ 30\" Leo., COOR)]   \n",
       "\n",
       "   Label  \n",
       "70   Obs  \n",
       "71   Obs  \n",
       "72   Obs  \n",
       "73   Obs  \n",
       "74   Obs  "
      ]
     },
     "execution_count": 107,
     "metadata": {},
     "output_type": "execute_result"
    }
   ],
   "source": [
    "dfObs.tail()"
   ]
  },
  {
   "cell_type": "markdown",
   "metadata": {},
   "source": [
    "### Distribution of Explicit observational Sentences over chapters"
   ]
  },
  {
   "cell_type": "code",
   "execution_count": 108,
   "metadata": {},
   "outputs": [],
   "source": [
    "a=[]\n",
    "for i in set(dfObs[\"Chapter\"]):\n",
    "    Obch=dfObs[dfObs.Chapter == i].shape[0]\n",
    "    a.append((i,Obch))\n",
    "x_labels=[x[0] for x in a]\n",
    "new_x_labels= [2*i for i in x_labels]\n",
    "y_lables=[x[1] for x in a]"
   ]
  },
  {
   "cell_type": "code",
   "execution_count": 109,
   "metadata": {},
   "outputs": [
    {
     "data": {
      "text/plain": [
       "Text(0.5, 1.0, 'Distribution of explicit observation over different chapters')"
      ]
     },
     "execution_count": 109,
     "metadata": {},
     "output_type": "execute_result"
    },
    {
     "data": {
      "image/png": "[encoded data removed]",
      "text/plain": [
       "<Figure size 432x288 with 1 Axes>"
      ]
     },
     "metadata": {
      "needs_background": "light"
     },
     "output_type": "display_data"
    }
   ],
   "source": [
    "plt.bar(x_labels,y_lables,color=\"r\",align='edge', width=.8)\n",
    "plt.title(\"Distribution of explicit observation over different chapters\")"
   ]
  },
  {
   "cell_type": "markdown",
   "metadata": {},
   "source": [
    "## 2a-Observational Sentences in Paragraph Included Number ID of corpus Paraindex and SentIndex"
   ]
  },
  {
   "cell_type": "code",
   "execution_count": 110,
   "metadata": {},
   "outputs": [
    {
     "data": {
      "application/vnd.jupyter.widget-view+json": {
       "model_id": "cc0c013490bd427e88319a58b804d07d",
       "version_major": 2,
       "version_minor": 0
      },
      "text/plain": [
       "interactive(children=(IntSlider(value=37, description='x', max=74), Output()), _dom_classes=('widget-interact'…"
      ]
     },
     "metadata": {},
     "output_type": "display_data"
    }
   ],
   "source": [
    "@interact\n",
    "def ShowbyChapter(x=(0,len(dfObs)-1)):\n",
    "    return dfObs.loc[dfObs.index<=x]"
   ]
  },
  {
   "cell_type": "markdown",
   "metadata": {},
   "source": [
    "### 2b-Observational Sentences in Paragraph Included Interactive Dependency Parsing "
   ]
  },
  {
   "cell_type": "code",
   "execution_count": 111,
   "metadata": {},
   "outputs": [],
   "source": [
    "import spacy \n",
    "from spacy import displacy \n",
    "path= '../data/Model_U30'\n",
    "nlp=spacy.load(path)"
   ]
  },
  {
   "cell_type": "code",
   "execution_count": 17,
   "metadata": {},
   "outputs": [],
   "source": [
    "#remove north south"
   ]
  },
  {
   "cell_type": "code",
   "execution_count": 112,
   "metadata": {},
   "outputs": [],
   "source": [
    "options={\"ents\": [\"TIME\", \"DATE\",\"PARA\",\"COOR\" ,\"STAR\",\"PLAN\",\"NAME\", \"GEOM\"],\"colors\":{\"TIME\":\"CORAL\",\"DATE\":\"TOMATO\",\"PARA\":\"LIGHGRAY\",\"COOR\":\"MAGENTA\",\"STAR\":\"GREEN\",\"PLAN\":\"LIME\",\"NAME\":\"ROSYBROWN\", \"GEOM\":\"BLUE\"}}"
   ]
  },
  {
   "cell_type": "code",
   "execution_count": 113,
   "metadata": {},
   "outputs": [
    {
     "data": {
      "application/vnd.jupyter.widget-view+json": {
       "model_id": "d48247740726446fa2f2f1f1c4862294",
       "version_major": 2,
       "version_minor": 0
      },
      "text/plain": [
       "interactive(children=(IntSlider(value=37, description='x', max=74), Output()), _dom_classes=('widget-interact'…"
      ]
     },
     "metadata": {},
     "output_type": "display_data"
    }
   ],
   "source": [
    "@interact\n",
    "def ShowInteractiveDEP( x=(0,len(dfObs)-1)):\n",
    "    Sent=dfObs.iloc[x,4];\n",
    "    doc=nlp(Sent)\n",
    "    displacy.render(doc, style=\"dep\",jupyter=True,)\n",
    "    return  dfObs.loc[dfObs.index==x ]"
   ]
  },
  {
   "cell_type": "markdown",
   "metadata": {},
   "source": [
    "## 2c-Observation Expression Included Interactvie NER"
   ]
  },
  {
   "cell_type": "code",
   "execution_count": 114,
   "metadata": {},
   "outputs": [
    {
     "data": {
      "application/vnd.jupyter.widget-view+json": {
       "model_id": "4523955e64774cbbad482cfd0f34ed8f",
       "version_major": 2,
       "version_minor": 0
      },
      "text/plain": [
       "interactive(children=(IntSlider(value=37, description='x', max=74), Output()), _dom_classes=('widget-interact'…"
      ]
     },
     "metadata": {},
     "output_type": "display_data"
    }
   ],
   "source": [
    "@interact\n",
    "def ShowDetail( x=(0,len(dfObs)-1)):\n",
    "    Sent=dfObs.iloc[x,4];\n",
    "    doc=nlp(Sent)\n",
    "    displacy.render(doc,style=\"ent\",jupyter=\"True\",options=options )\n",
    "    return dfObs.loc[dfObs.index==x ] \n"
   ]
  }
 ],
 "metadata": {
  "kernelspec": {
   "display_name": "Python 3",
   "language": "python",
   "name": "python3"
  },
  "language_info": {
   "codemirror_mode": {
    "name": "ipython",
    "version": 3
   },
   "file_extension": ".py",
   "mimetype": "text/x-python",
   "name": "python",
   "nbconvert_exporter": "python",
   "pygments_lexer": "ipython3",
   "version": "3.7.4"
  }
 },
 "nbformat": 4,
 "nbformat_minor": 4
}
