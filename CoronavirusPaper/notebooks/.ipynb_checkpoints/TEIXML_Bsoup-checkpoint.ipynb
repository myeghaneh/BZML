{
 "cells": [
  {
   "cell_type": "markdown",
   "metadata": {},
   "source": [
    "# Working notebook for on xml file  as tree"
   ]
  },
  {
   "cell_type": "markdown",
   "metadata": {},
   "source": [
    "## 1-Import an xml test file (test case:Coronavirus paper)"
   ]
  },
  {
   "cell_type": "code",
   "execution_count": 128,
   "metadata": {},
   "outputs": [],
   "source": [
    "from lxml import etree"
   ]
  },
  {
   "cell_type": "code",
   "execution_count": 129,
   "metadata": {},
   "outputs": [],
   "source": [
    "tree = ET.parse('../data/hvaa029.tei.xml')\n",
    "root = tree.getroot()"
   ]
  },
  {
   "cell_type": "code",
   "execution_count": 130,
   "metadata": {},
   "outputs": [
    {
     "data": {
      "text/plain": [
       "'{http://www.tei-c.org/ns/1.0}TEI'"
      ]
     },
     "execution_count": 130,
     "metadata": {},
     "output_type": "execute_result"
    }
   ],
   "source": [
    "root.tag"
   ]
  },
  {
   "cell_type": "code",
   "execution_count": 131,
   "metadata": {},
   "outputs": [
    {
     "data": {
      "text/plain": [
       "{'{http://www.w3.org/2001/XMLSchema-instance}schemaLocation': 'http://www.tei-c.org/ns/1.0 /mnt/ResearchCloud/Projects/ExoPlanets/notebooks/grobid/grobid-0.5.2/grobid-home/schemas/xsd/Grobid.xsd'}"
      ]
     },
     "execution_count": 131,
     "metadata": {},
     "output_type": "execute_result"
    }
   ],
   "source": [
    "root.attrib"
   ]
  },
  {
   "cell_type": "code",
   "execution_count": 132,
   "metadata": {},
   "outputs": [],
   "source": [
    "lst = tree.findall('author/type')\n",
    "for item in lst:\n",
    "    print (item.get('first'))"
   ]
  },
  {
   "cell_type": "code",
   "execution_count": 133,
   "metadata": {},
   "outputs": [
    {
     "name": "stdout",
     "output_type": "stream",
     "text": [
      "{http://www.tei-c.org/ns/1.0}teiHeader {'{http://www.w3.org/XML/1998/namespace}lang': 'en'}\n",
      "{http://www.tei-c.org/ns/1.0}text {'{http://www.w3.org/XML/1998/namespace}lang': 'en'}\n"
     ]
    }
   ],
   "source": [
    "for child in root:\n",
    "    print(child.tag, child.attrib)"
   ]
  },
  {
   "cell_type": "code",
   "execution_count": 134,
   "metadata": {},
   "outputs": [
    {
     "name": "stdout",
     "output_type": "stream",
     "text": [
      "{http://www.tei-c.org/ns/1.0}TEI\n"
     ]
    }
   ],
   "source": [
    "print(root.tag)"
   ]
  },
  {
   "cell_type": "code",
   "execution_count": 135,
   "metadata": {},
   "outputs": [
    {
     "data": {
      "text/plain": [
       "<Element '{http://www.tei-c.org/ns/1.0}TEI' at 0x000001BA868F4278>"
      ]
     },
     "execution_count": 135,
     "metadata": {},
     "output_type": "execute_result"
    }
   ],
   "source": [
    "root"
   ]
  },
  {
   "cell_type": "code",
   "execution_count": 136,
   "metadata": {},
   "outputs": [
    {
     "name": "stdout",
     "output_type": "stream",
     "text": [
      "{http://www.tei-c.org/ns/1.0}text\n"
     ]
    }
   ],
   "source": [
    "print(child.tag)"
   ]
  },
  {
   "cell_type": "code",
   "execution_count": 137,
   "metadata": {},
   "outputs": [
    {
     "data": {
      "text/plain": [
       "{'{http://www.tei-c.org/ns/1.0}TEI',\n",
       " '{http://www.tei-c.org/ns/1.0}abstract',\n",
       " '{http://www.tei-c.org/ns/1.0}analytic',\n",
       " '{http://www.tei-c.org/ns/1.0}appInfo',\n",
       " '{http://www.tei-c.org/ns/1.0}application',\n",
       " '{http://www.tei-c.org/ns/1.0}author',\n",
       " '{http://www.tei-c.org/ns/1.0}availability',\n",
       " '{http://www.tei-c.org/ns/1.0}back',\n",
       " '{http://www.tei-c.org/ns/1.0}biblScope',\n",
       " '{http://www.tei-c.org/ns/1.0}biblStruct',\n",
       " '{http://www.tei-c.org/ns/1.0}body',\n",
       " '{http://www.tei-c.org/ns/1.0}date',\n",
       " '{http://www.tei-c.org/ns/1.0}div',\n",
       " '{http://www.tei-c.org/ns/1.0}encodingDesc',\n",
       " '{http://www.tei-c.org/ns/1.0}figDesc',\n",
       " '{http://www.tei-c.org/ns/1.0}figure',\n",
       " '{http://www.tei-c.org/ns/1.0}fileDesc',\n",
       " '{http://www.tei-c.org/ns/1.0}forename',\n",
       " '{http://www.tei-c.org/ns/1.0}formula',\n",
       " '{http://www.tei-c.org/ns/1.0}head',\n",
       " '{http://www.tei-c.org/ns/1.0}idno',\n",
       " '{http://www.tei-c.org/ns/1.0}imprint',\n",
       " '{http://www.tei-c.org/ns/1.0}label',\n",
       " '{http://www.tei-c.org/ns/1.0}licence',\n",
       " '{http://www.tei-c.org/ns/1.0}listBibl',\n",
       " '{http://www.tei-c.org/ns/1.0}monogr',\n",
       " '{http://www.tei-c.org/ns/1.0}note',\n",
       " '{http://www.tei-c.org/ns/1.0}p',\n",
       " '{http://www.tei-c.org/ns/1.0}persName',\n",
       " '{http://www.tei-c.org/ns/1.0}profileDesc',\n",
       " '{http://www.tei-c.org/ns/1.0}ptr',\n",
       " '{http://www.tei-c.org/ns/1.0}publicationStmt',\n",
       " '{http://www.tei-c.org/ns/1.0}publisher',\n",
       " '{http://www.tei-c.org/ns/1.0}ref',\n",
       " '{http://www.tei-c.org/ns/1.0}sourceDesc',\n",
       " '{http://www.tei-c.org/ns/1.0}surname',\n",
       " '{http://www.tei-c.org/ns/1.0}table',\n",
       " '{http://www.tei-c.org/ns/1.0}teiHeader',\n",
       " '{http://www.tei-c.org/ns/1.0}text',\n",
       " '{http://www.tei-c.org/ns/1.0}title',\n",
       " '{http://www.tei-c.org/ns/1.0}titleStmt'}"
      ]
     },
     "execution_count": 137,
     "metadata": {},
     "output_type": "execute_result"
    }
   ],
   "source": [
    "set([elem.tag for elem in root.iter()])\n"
   ]
  },
  {
   "cell_type": "code",
   "execution_count": 138,
   "metadata": {},
   "outputs": [
    {
     "name": "stdout",
     "output_type": "stream",
     "text": [
      "Molecular Diagnosis of a Novel Coronavirus (2019-nCoV) Causing an Outbreak of Pneumonia\n",
      "Molecular Diagnosis of a Novel Coronavirus (2019-nCoV) Causing an Outbreak of Pneumonia\n",
      "Origin and evolution of pathogenic coronaviruses\n",
      "Nat Rev Microbiol\n",
      "Worldwide reduction in MERS cases and deaths since 2016\n",
      "Emerg Infect Dis\n",
      "The aetiology, origins, and diagnosis of severe acute respiratory syndrome\n",
      "Lancet Infect Dis\n",
      "Middle East Respiratory Syndrome (MERS) coronavirus seroprevalence in domestic livestock in Saudi Arabia\n",
      "Euro Surveill\n",
      "Middle East Respiratory Syndrome coronavirus (MERS-CoV) serology in major livestock species in an affected region in Jordan\n",
      "Euro Surveill\n",
      "Isolation and characterization of viruses related to the SARS coronavirus from animals in southern China\n",
      "Science\n",
      "SARS and MERS: recent insights into emerging coronaviruses\n",
      "Nat Rev Microbiol\n",
      "The emergence of human coronavirus emc: How scared should we be?\n",
      "mBio\n",
      "Discovery of a rich gene pool of bat SARS-related coronaviruses provides new insights into the origin of SARS coronavirus\n",
      "PLoS Pathog\n",
      "Situation report-1\n",
      "World Health Organization. Novel Coronavirus (2019-nCoV)\n",
      "Discovery of a novel coronavirus associated with the recent pneumonia outbreak in humans and its potential bat origin\n",
      "Situation report-2\n",
      "World Health Organization. Novel Coronavirus (2019-nCoV)\n",
      "Wuhan virus kills fourth patient, infects hospital staff amid fear of 'super-spreader\n",
      "Mega x: Molecular evolutionary genetics analysis across computing platforms\n",
      "Mol Biol Evol\n",
      "MERS coronaviruses from camels in Africa exhibit region-dependent genetic diversity\n",
      "Proc Natl Acad Sci\n",
      "mRNA PCR for the diagnosis of feline infectious peritonitis\n",
      "J Virol Methods\n",
      "SARS-CoV infection in a restaurant from palm civet\n",
      "Emerg Infect Dis\n",
      "Detection of 2019 novel coronavirus (2019-nCoV) in suspected human cases by RT-PCR\n",
      "Laboratory testing for 2019 novel coronavirus (2019-nCoV) in suspected human cases\n",
      "Detection of 2019 novel coronavirus (2019-nCoV) by real-time RT-PCR\n",
      "Euro Surveill\n"
     ]
    }
   ],
   "source": [
    "for title in root.iter('{http://www.tei-c.org/ns/1.0}title'):\n",
    "    print(title.text)"
   ]
  },
  {
   "cell_type": "code",
   "execution_count": 139,
   "metadata": {},
   "outputs": [
    {
     "name": "stdout",
     "output_type": "stream",
     "text": [
      "GROBID - A machine learning software for extracting information from scholarly documents\n",
      "(2,\n",
      "3)\n",
      "(4,\n",
      "5)\n",
      "(1,\n",
      "7)\n",
      "(8)\n",
      "(13)\n",
      "(14)\n",
      "Fig. 1A; see discussion)\n",
      "(Fig. 1B)\n",
      "(Fig. 2, R 2\n",
      "(Table 1)\n",
      "2004 (17)\n",
      "(18)\n",
      "(19)\n",
      "(20)\n"
     ]
    }
   ],
   "source": [
    "for title in root.iter('{http://www.tei-c.org/ns/1.0}ref'):\n",
    "    print(title.text)"
   ]
  }
 ],
 "metadata": {
  "kernelspec": {
   "display_name": "Python 3",
   "language": "python",
   "name": "python3"
  },
  "language_info": {
   "codemirror_mode": {
    "name": "ipython",
    "version": 3
   },
   "file_extension": ".py",
   "mimetype": "text/x-python",
   "name": "python",
   "nbconvert_exporter": "python",
   "pygments_lexer": "ipython3",
   "version": "3.7.4"
  }
 },
 "nbformat": 4,
 "nbformat_minor": 4
}
