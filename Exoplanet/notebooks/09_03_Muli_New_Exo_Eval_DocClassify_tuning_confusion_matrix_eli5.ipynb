{
 "cells": [
  {
   "cell_type": "markdown",
   "metadata": {},
   "source": [
    "# Multiclass Classification of sentences using XGboost(XGB) and Stochastic Gradient descent(SGD)"
   ]
  },
  {
   "cell_type": "markdown",
   "metadata": {},
   "source": [
    "In this notebook you have a complete pipeline of classification using some classifiers as well as parameter tuning  and complete evaluation of the classfiers as following:\n",
    "\n",
    "- 1) Training and Prediction by SGDClassifier\n",
    "- 2) Training and Prediction by XGboost\n",
    "- Parameter Tuning\n",
    "- Evaluation (train-test_split, 10 fold cross valdiation,confusion matrix, classification report)\n",
    "- Explaining prediction by SGD classifier using eli5\n",
    "\n"
   ]
  },
  {
   "cell_type": "code",
   "execution_count": 66,
   "metadata": {},
   "outputs": [],
   "source": [
    "import pandas as pd\n",
    "import numpy as np\n",
    "import re\n",
    "import spacy\n",
    "from spacy.lang.en import English\n",
    "from spacy import displacy\n",
    "nlp = spacy.load('en_core_web_sm', disable=[\"ner\", \"textcat\", \"entity_ruler\", \"merge_noun_chunks\", \"merge_entities\", \"merge_subtokens\"])"
   ]
  },
  {
   "cell_type": "code",
   "execution_count": 67,
   "metadata": {},
   "outputs": [],
   "source": [
    "from IPython.display import Image\n",
    "import ipywidgets as widgets\n",
    "from ipywidgets import interact, interact_manual\n",
    "import seaborn as sns\n",
    "import matplotlib.pylab as plt\n",
    "from warnings import filterwarnings\n",
    "filterwarnings('ignore')\n"
   ]
  },
  {
   "cell_type": "code",
   "execution_count": 68,
   "metadata": {},
   "outputs": [],
   "source": [
    "import xgboost as xgb\n",
    "from sklearn.feature_extraction import DictVectorizer\n",
    "from sklearn.pipeline import make_pipeline\n",
    "from sklearn.model_selection import cross_val_score, GridSearchCV\n",
    "from sklearn.model_selection import cross_val_predict\n",
    "from sklearn.metrics import confusion_matrix,classification_report,f1_score,make_scorer\n",
    "from sklearn.model_selection import KFold\n",
    "from nltk.corpus import stopwords\n",
    "import string\n",
    "from sklearn.preprocessing import FunctionTransformer"
   ]
  },
  {
   "cell_type": "code",
   "execution_count": 69,
   "metadata": {},
   "outputs": [],
   "source": [
    "from sklearn.feature_extraction.text import CountVectorizer,HashingVectorizer\n",
    "from sklearn.feature_extraction.text import TfidfTransformer,TfidfVectorizer\n",
    "from sklearn.feature_selection import SelectKBest,chi2\n",
    "from sklearn.linear_model import SGDClassifier, LogisticRegression,LogisticRegressionCV\n",
    "from sklearn.naive_bayes import MultinomialNB,GaussianNB\n",
    "from sklearn.ensemble import RandomForestClassifier\n",
    "from sklearn.pipeline import Pipeline\n",
    "from sklearn.decomposition import TruncatedSVD\n",
    "from sklearn.svm import SVC,LinearSVC\n",
    "from sklearn.utils import shuffle\n",
    "from sklearn.model_selection import train_test_split\n",
    "from sklearn.neighbors import NearestNeighbors"
   ]
  },
  {
   "cell_type": "code",
   "execution_count": 70,
   "metadata": {},
   "outputs": [],
   "source": [
    "options = {\"compact\": True, \"bg\": \"#09a3d5\",\n",
    "           \"color\": \"white\", \"font\": \"Source Sans Pro\",\"collapse_phrases\":False}"
   ]
  },
  {
   "cell_type": "code",
   "execution_count": 71,
   "metadata": {},
   "outputs": [],
   "source": [
    "pd.set_option('display.max_colwidth', -1)\n",
    "pd.set_option('max_colwidth', 260)"
   ]
  },
  {
   "cell_type": "markdown",
   "metadata": {},
   "source": [
    "# Read the data"
   ]
  },
  {
   "cell_type": "code",
   "execution_count": 72,
   "metadata": {},
   "outputs": [
    {
     "data": {
      "text/html": [
       "<div>\n",
       "<style scoped>\n",
       "    .dataframe tbody tr th:only-of-type {\n",
       "        vertical-align: middle;\n",
       "    }\n",
       "\n",
       "    .dataframe tbody tr th {\n",
       "        vertical-align: top;\n",
       "    }\n",
       "\n",
       "    .dataframe thead th {\n",
       "        text-align: right;\n",
       "    }\n",
       "</style>\n",
       "<table border=\"1\" class=\"dataframe\">\n",
       "  <thead>\n",
       "    <tr style=\"text-align: right;\">\n",
       "      <th></th>\n",
       "      <th>sentence</th>\n",
       "      <th>act</th>\n",
       "      <th>y</th>\n",
       "    </tr>\n",
       "  </thead>\n",
       "  <tbody>\n",
       "    <tr>\n",
       "      <td>5</td>\n",
       "      <td>We benchmark these first modeling results based on different GEANT4 physics lists with the energetic particle spectra recently measured by the Radiation Assessment Detector (RAD) on the surface of Mars.</td>\n",
       "      <td>benchmark</td>\n",
       "      <td>0</td>\n",
       "    </tr>\n",
       "    <tr>\n",
       "      <td>18</td>\n",
       "      <td>We use a 3D dry dynamic core model, accompanied by an eddy-free configuration and a generalized 2D Eady model.</td>\n",
       "      <td>use</td>\n",
       "      <td>0</td>\n",
       "    </tr>\n",
       "    <tr>\n",
       "      <td>25</td>\n",
       "      <td>We propose a new mechanism to explain the mid-latitude eddy structure for both cases, and verify it using the generalized Eady model.</td>\n",
       "      <td>propose</td>\n",
       "      <td>2</td>\n",
       "    </tr>\n",
       "    <tr>\n",
       "      <td>31</td>\n",
       "      <td>We start by doing a model-independent analysis (studying the internal consistency of the various available datasets) but also explore specific phenomenological models motivated by string theory and grand unification.</td>\n",
       "      <td>start</td>\n",
       "      <td>0</td>\n",
       "    </tr>\n",
       "    <tr>\n",
       "      <td>50</td>\n",
       "      <td>To verify aspects of our analytic treatment, we compare our model to more sophisticated \"full physics\" tools as applied to Venus, Earth, and a cloudfree Jupiter, thereby exploring a diversity of atmospheric conditions.</td>\n",
       "      <td>compare</td>\n",
       "      <td>1</td>\n",
       "    </tr>\n",
       "    <tr>\n",
       "      <td>51</td>\n",
       "      <td>Next, we seek to better understand our analytic model by exploring how thermal radiative flux profiles respond to variations in key physical parameters, such as the total grey thermal optical depth of the atmosphere.</td>\n",
       "      <td>seek</td>\n",
       "      <td>0</td>\n",
       "    </tr>\n",
       "    <tr>\n",
       "      <td>53</td>\n",
       "      <td>Lastly, we use our analytic treatment to discuss the validity of other simple models of convective fluxes in planetary atmospheres.</td>\n",
       "      <td>use</td>\n",
       "      <td>0</td>\n",
       "    </tr>\n",
       "    <tr>\n",
       "      <td>76</td>\n",
       "      <td>Finally, we suggest that large parts of Uranus' interior might be conductive, a conclusion that is consistent with Uranus dynamo models and a hot central inner region.</td>\n",
       "      <td>suggest</td>\n",
       "      <td>0</td>\n",
       "    </tr>\n",
       "    <tr>\n",
       "      <td>139</td>\n",
       "      <td>To this end, we present LEVI a new chemical kinetics code for modelling exoplanetary atmospheres.</td>\n",
       "      <td>present</td>\n",
       "      <td>0</td>\n",
       "    </tr>\n",
       "    <tr>\n",
       "      <td>145</td>\n",
       "      <td>We find that our models are consistent with the detected species, albeit with a narrow compositional window around C/O ̃ 1.</td>\n",
       "      <td>find</td>\n",
       "      <td>0</td>\n",
       "    </tr>\n",
       "    <tr>\n",
       "      <td>149</td>\n",
       "      <td>We aim to compare the transmission and emission spectra results of a 3D Monte Carlo radiative transfer (MCRT) model to contemporary radiative-transfer suites.</td>\n",
       "      <td>aim</td>\n",
       "      <td>1</td>\n",
       "    </tr>\n",
       "    <tr>\n",
       "      <td>150</td>\n",
       "      <td>We perform several benchmarking tests of an MCRT code, Cloudy Monte Carlo Radiative Transfer (CMCRT), to transmission and emission spectra model output.</td>\n",
       "      <td>perform</td>\n",
       "      <td>0</td>\n",
       "    </tr>\n",
       "    <tr>\n",
       "      <td>151</td>\n",
       "      <td>We add flexibility to the model through the use of k-distribution tables as input opacities.</td>\n",
       "      <td>add</td>\n",
       "      <td>0</td>\n",
       "    </tr>\n",
       "    <tr>\n",
       "      <td>155</td>\n",
       "      <td>We suggest that differences in the benchmark results are likely caused by geometric effects between plane-parallel and spherical models.</td>\n",
       "      <td>suggest</td>\n",
       "      <td>0</td>\n",
       "    </tr>\n",
       "    <tr>\n",
       "      <td>156</td>\n",
       "      <td>In a practical application, we post-process a cloudy 3D HD 189733b GCM model and compare to available observational data.</td>\n",
       "      <td>process</td>\n",
       "      <td>1</td>\n",
       "    </tr>\n",
       "    <tr>\n",
       "      <td>217</td>\n",
       "      <td>We employ a thermo-chemical model of the disc reproducing both continuum and gas radial intensity profiles, together with the disc spectral energy distribution.</td>\n",
       "      <td>employ</td>\n",
       "      <td>0</td>\n",
       "    </tr>\n",
       "    <tr>\n",
       "      <td>253</td>\n",
       "      <td>Here, we present a model that allows for changes in the planetary radius as well as variations in the planetary and stellar dissipation parameters, caused by the planet's contraction and change of rotational rates from the strong tidal fields.</td>\n",
       "      <td>present</td>\n",
       "      <td>0</td>\n",
       "    </tr>\n",
       "    <tr>\n",
       "      <td>261</td>\n",
       "      <td>We describe a Bayesian mixture-model approach to automated data-quality monitoring.</td>\n",
       "      <td>describe</td>\n",
       "      <td>0</td>\n",
       "    </tr>\n",
       "    <tr>\n",
       "      <td>300</td>\n",
       "      <td>We introduce our method for investigating these transitional discs, which takes a forward modelling approach: making a model of the disc (using the Monte Carlo radiative transfer code RADMC3D), convolving it with point spread functions of calibrator stars,...</td>\n",
       "      <td>introduce</td>\n",
       "      <td>0</td>\n",
       "    </tr>\n",
       "    <tr>\n",
       "      <td>344</td>\n",
       "      <td>In this study, we build models for all major nearby young stellar moving groups (NYMGs hereafter) through four stages.</td>\n",
       "      <td>build</td>\n",
       "      <td>0</td>\n",
       "    </tr>\n",
       "  </tbody>\n",
       "</table>\n",
       "</div>"
      ],
      "text/plain": [
       "                                                                                                                                                                                                                                                                sentence  \\\n",
       "5                                                             We benchmark these first modeling results based on different GEANT4 physics lists with the energetic particle spectra recently measured by the Radiation Assessment Detector (RAD) on the surface of Mars.   \n",
       "18                                                                                                                                                        We use a 3D dry dynamic core model, accompanied by an eddy-free configuration and a generalized 2D Eady model.   \n",
       "25                                                                                                                                 We propose a new mechanism to explain the mid-latitude eddy structure for both cases, and verify it using the generalized Eady model.   \n",
       "31                                              We start by doing a model-independent analysis (studying the internal consistency of the various available datasets) but also explore specific phenomenological models motivated by string theory and grand unification.   \n",
       "50                                            To verify aspects of our analytic treatment, we compare our model to more sophisticated \"full physics\" tools as applied to Venus, Earth, and a cloudfree Jupiter, thereby exploring a diversity of atmospheric conditions.   \n",
       "51                                              Next, we seek to better understand our analytic model by exploring how thermal radiative flux profiles respond to variations in key physical parameters, such as the total grey thermal optical depth of the atmosphere.   \n",
       "53                                                                                                                                   Lastly, we use our analytic treatment to discuss the validity of other simple models of convective fluxes in planetary atmospheres.   \n",
       "76                                                                                               Finally, we suggest that large parts of Uranus' interior might be conductive, a conclusion that is consistent with Uranus dynamo models and a hot central inner region.   \n",
       "139                                                                                                                                                                    To this end, we present LEVI a new chemical kinetics code for modelling exoplanetary atmospheres.   \n",
       "145                                                                                                                                          We find that our models are consistent with the detected species, albeit with a narrow compositional window around C/O ̃ 1.   \n",
       "149                                                                                                       We aim to compare the transmission and emission spectra results of a 3D Monte Carlo radiative transfer (MCRT) model to contemporary radiative-transfer suites.   \n",
       "150                                                                                                             We perform several benchmarking tests of an MCRT code, Cloudy Monte Carlo Radiative Transfer (CMCRT), to transmission and emission spectra model output.   \n",
       "151                                                                                                                                                                         We add flexibility to the model through the use of k-distribution tables as input opacities.   \n",
       "155                                                                                                                             We suggest that differences in the benchmark results are likely caused by geometric effects between plane-parallel and spherical models.   \n",
       "156                                                                                                                                            In a practical application, we post-process a cloudy 3D HD 189733b GCM model and compare to available observational data.   \n",
       "217                                                                                                     We employ a thermo-chemical model of the disc reproducing both continuum and gas radial intensity profiles, together with the disc spectral energy distribution.   \n",
       "253                  Here, we present a model that allows for changes in the planetary radius as well as variations in the planetary and stellar dissipation parameters, caused by the planet's contraction and change of rotational rates from the strong tidal fields.   \n",
       "261                                                                                                                                                                                  We describe a Bayesian mixture-model approach to automated data-quality monitoring.   \n",
       "300  We introduce our method for investigating these transitional discs, which takes a forward modelling approach: making a model of the disc (using the Monte Carlo radiative transfer code RADMC3D), convolving it with point spread functions of calibrator stars,...   \n",
       "344                                                                                                                                               In this study, we build models for all major nearby young stellar moving groups (NYMGs hereafter) through four stages.   \n",
       "\n",
       "           act  y  \n",
       "5    benchmark  0  \n",
       "18         use  0  \n",
       "25     propose  2  \n",
       "31       start  0  \n",
       "50     compare  1  \n",
       "51        seek  0  \n",
       "53         use  0  \n",
       "76     suggest  0  \n",
       "139    present  0  \n",
       "145       find  0  \n",
       "149        aim  1  \n",
       "150    perform  0  \n",
       "151        add  0  \n",
       "155    suggest  0  \n",
       "156    process  1  \n",
       "217     employ  0  \n",
       "253    present  0  \n",
       "261   describe  0  \n",
       "300  introduce  0  \n",
       "344      build  0  "
      ]
     },
     "execution_count": 72,
     "metadata": {},
     "output_type": "execute_result"
    }
   ],
   "source": [
    "dfModel= pd.read_json('../data/modeldataMulti_03.json')\n",
    "dfModel.head(20)"
   ]
  },
  {
   "cell_type": "code",
   "execution_count": 73,
   "metadata": {},
   "outputs": [
    {
     "data": {
      "text/html": [
       "<div>\n",
       "<style scoped>\n",
       "    .dataframe tbody tr th:only-of-type {\n",
       "        vertical-align: middle;\n",
       "    }\n",
       "\n",
       "    .dataframe tbody tr th {\n",
       "        vertical-align: top;\n",
       "    }\n",
       "\n",
       "    .dataframe thead th {\n",
       "        text-align: right;\n",
       "    }\n",
       "</style>\n",
       "<table border=\"1\" class=\"dataframe\">\n",
       "  <thead>\n",
       "    <tr style=\"text-align: right;\">\n",
       "      <th></th>\n",
       "      <th>sentence</th>\n",
       "      <th>act</th>\n",
       "      <th>y</th>\n",
       "    </tr>\n",
       "  </thead>\n",
       "  <tbody>\n",
       "    <tr>\n",
       "      <td>249901</td>\n",
       "      <td>Using the Yale stellar evolution code, we have calculated theoretical models for nearby stars with planetary-mass companions in short-period nearly circular orbits: 51 Pegasi, τ Bootis, υ Andromedae, ρ^(1) Cancri, and ρ Coronae Borealis.</td>\n",
       "      <td>calculated</td>\n",
       "      <td>0</td>\n",
       "    </tr>\n",
       "    <tr>\n",
       "      <td>249903</td>\n",
       "      <td>For each star we construct best models based on recently published spectroscopic data and the present understanding of galactic chemical evolution.</td>\n",
       "      <td>construct</td>\n",
       "      <td>0</td>\n",
       "    </tr>\n",
       "    <tr>\n",
       "      <td>249929</td>\n",
       "      <td>We follow the evolution of several N-body models of star clusters ( N≤2500) with a population of mono-planetary systems and calculate the probability of ejection.</td>\n",
       "      <td>follow</td>\n",
       "      <td>0</td>\n",
       "    </tr>\n",
       "    <tr>\n",
       "      <td>249972</td>\n",
       "      <td>We can use knowledge of our own solar system, its planets and their atmospheres to model spectral characteristics of planets around other stars.</td>\n",
       "      <td>use</td>\n",
       "      <td>0</td>\n",
       "    </tr>\n",
       "    <tr>\n",
       "      <td>249986</td>\n",
       "      <td>We will use our knowledge of the compositional, thermal and dynamical characteristics of planetary atmospheres in our own solar system to model spectra observed remotely on similar planets in extrasolar planetary systems.</td>\n",
       "      <td>use</td>\n",
       "      <td>0</td>\n",
       "    </tr>\n",
       "    <tr>\n",
       "      <td>249987</td>\n",
       "      <td>We will use a detailed radiative transfer and beam integration program developed for the modeling and interpretation of thermal infrared spectra measured from nearby planet planets to generate models of an extra-solar \"Earth\" and \"Jupiter\".</td>\n",
       "      <td>use</td>\n",
       "      <td>0</td>\n",
       "    </tr>\n",
       "    <tr>\n",
       "      <td>249988</td>\n",
       "      <td>From these models we will show how key spectral features distinguish between terrestrial and gaseous planets, what information can be obtained with different spectral resolution, what spectral features can be used to search for conditions for biogenic acti...</td>\n",
       "      <td>show</td>\n",
       "      <td>0</td>\n",
       "    </tr>\n",
       "    <tr>\n",
       "      <td>250248</td>\n",
       "      <td>We present a simple model whereby light reflected by the companion can cause temporal variations to the observed line profiles.</td>\n",
       "      <td>present</td>\n",
       "      <td>0</td>\n",
       "    </tr>\n",
       "    <tr>\n",
       "      <td>250382</td>\n",
       "      <td>If the dust is not in clouds, but rather sits below the outer convective region, we estimate that the boundary between outer convective and inner radiative layers is between 1250 K and 1600 K, in agreement with recent models.</td>\n",
       "      <td>estimate</td>\n",
       "      <td>0</td>\n",
       "    </tr>\n",
       "    <tr>\n",
       "      <td>250395</td>\n",
       "      <td>To obtain an accurate comparison, we model the emergent line profiles from rotating and pulsating stars, taking the instrumental point-spread function into account.</td>\n",
       "      <td>model</td>\n",
       "      <td>0</td>\n",
       "    </tr>\n",
       "    <tr>\n",
       "      <td>250396</td>\n",
       "      <td>We describe this modeling process in detail.</td>\n",
       "      <td>describe</td>\n",
       "      <td>0</td>\n",
       "    </tr>\n",
       "    <tr>\n",
       "      <td>250508</td>\n",
       "      <td>We develop a simple model that can predict the σ^(')_(v) expected for a given star (within ~40%) as a function of vsini, spectral type, photometric variability, and macroturbulent velocity.</td>\n",
       "      <td>develop</td>\n",
       "      <td>0</td>\n",
       "    </tr>\n",
       "    <tr>\n",
       "      <td>250652</td>\n",
       "      <td>During the last two years, building upon our previous experience in the modeling of brown dwarfs and M stars, we published theoretical studies of the evolution and spectra of extrasolar giant planets.</td>\n",
       "      <td>published</td>\n",
       "      <td>0</td>\n",
       "    </tr>\n",
       "    <tr>\n",
       "      <td>250653</td>\n",
       "      <td>We have recently upgraded our capabilities and now generate non-gray spectral and color models of both giant planets and brown dwarfs.</td>\n",
       "      <td>upgraded</td>\n",
       "      <td>0</td>\n",
       "    </tr>\n",
       "    <tr>\n",
       "      <td>250692</td>\n",
       "      <td>We also demonstrate the inaccuracy of grey models and T(tau ) relationships under these conditions.</td>\n",
       "      <td>demonstrate</td>\n",
       "      <td>0</td>\n",
       "    </tr>\n",
       "    <tr>\n",
       "      <td>250719</td>\n",
       "      <td>In order to get an estimate of this effect, we used our 3D Monte Carlo radiation transport code to model the spectrum of a Keplerian disk with embedded artificial planets encircling a central star of solar luminosity and temperature.</td>\n",
       "      <td>used</td>\n",
       "      <td>0</td>\n",
       "    </tr>\n",
       "    <tr>\n",
       "      <td>250985</td>\n",
       "      <td>We have performed detailed simulations of the method using computer codes that model propagation through atmospheric turbulence, adaptive correction, and broadband imaging.</td>\n",
       "      <td>performed</td>\n",
       "      <td>0</td>\n",
       "    </tr>\n",
       "    <tr>\n",
       "      <td>251090</td>\n",
       "      <td>In order to explore the nature of the limits on direct extrasolar planet detection we have generated high accuracy broadband background models for several different cases.</td>\n",
       "      <td>generated</td>\n",
       "      <td>0</td>\n",
       "    </tr>\n",
       "    <tr>\n",
       "      <td>251102</td>\n",
       "      <td>We calculate the signal-to-noise ratio of a model planet as a function of the angular separation based on photon statistics and realistic assumptions on the system performance.</td>\n",
       "      <td>calculate</td>\n",
       "      <td>0</td>\n",
       "    </tr>\n",
       "    <tr>\n",
       "      <td>251203</td>\n",
       "      <td>We calculate the expected flux of small and large particles impacting the Earth using model size distributions for the ejected debris from extrasolar planet formation.</td>\n",
       "      <td>calculate</td>\n",
       "      <td>0</td>\n",
       "    </tr>\n",
       "  </tbody>\n",
       "</table>\n",
       "</div>"
      ],
      "text/plain": [
       "                                                                                                                                                                                                                                                                   sentence  \\\n",
       "249901                        Using the Yale stellar evolution code, we have calculated theoretical models for nearby stars with planetary-mass companions in short-period nearly circular orbits: 51 Pegasi, τ Bootis, υ Andromedae, ρ^(1) Cancri, and ρ Coronae Borealis.   \n",
       "249903                                                                                                                  For each star we construct best models based on recently published spectroscopic data and the present understanding of galactic chemical evolution.   \n",
       "249929                                                                                                   We follow the evolution of several N-body models of star clusters ( N≤2500) with a population of mono-planetary systems and calculate the probability of ejection.   \n",
       "249972                                                                                                                     We can use knowledge of our own solar system, its planets and their atmospheres to model spectral characteristics of planets around other stars.   \n",
       "249986                                        We will use our knowledge of the compositional, thermal and dynamical characteristics of planetary atmospheres in our own solar system to model spectra observed remotely on similar planets in extrasolar planetary systems.   \n",
       "249987                     We will use a detailed radiative transfer and beam integration program developed for the modeling and interpretation of thermal infrared spectra measured from nearby planet planets to generate models of an extra-solar \"Earth\" and \"Jupiter\".   \n",
       "249988  From these models we will show how key spectral features distinguish between terrestrial and gaseous planets, what information can be obtained with different spectral resolution, what spectral features can be used to search for conditions for biogenic acti...   \n",
       "250248                                                                                                                                      We present a simple model whereby light reflected by the companion can cause temporal variations to the observed line profiles.   \n",
       "250382                                    If the dust is not in clouds, but rather sits below the outer convective region, we estimate that the boundary between outer convective and inner radiative layers is between 1250 K and 1600 K, in agreement with recent models.   \n",
       "250395                                                                                                 To obtain an accurate comparison, we model the emergent line profiles from rotating and pulsating stars, taking the instrumental point-spread function into account.   \n",
       "250396                                                                                                                                                                                                                         We describe this modeling process in detail.   \n",
       "250508                                                                        We develop a simple model that can predict the σ^(')_(v) expected for a given star (within ~40%) as a function of vsini, spectral type, photometric variability, and macroturbulent velocity.   \n",
       "250652                                                             During the last two years, building upon our previous experience in the modeling of brown dwarfs and M stars, we published theoretical studies of the evolution and spectra of extrasolar giant planets.   \n",
       "250653                                                                                                                               We have recently upgraded our capabilities and now generate non-gray spectral and color models of both giant planets and brown dwarfs.   \n",
       "250692                                                                                                                                                                  We also demonstrate the inaccuracy of grey models and T(tau ) relationships under these conditions.   \n",
       "250719                            In order to get an estimate of this effect, we used our 3D Monte Carlo radiation transport code to model the spectrum of a Keplerian disk with embedded artificial planets encircling a central star of solar luminosity and temperature.   \n",
       "250985                                                                                         We have performed detailed simulations of the method using computer codes that model propagation through atmospheric turbulence, adaptive correction, and broadband imaging.   \n",
       "251090                                                                                          In order to explore the nature of the limits on direct extrasolar planet detection we have generated high accuracy broadband background models for several different cases.   \n",
       "251102                                                                                     We calculate the signal-to-noise ratio of a model planet as a function of the angular separation based on photon statistics and realistic assumptions on the system performance.   \n",
       "251203                                                                                              We calculate the expected flux of small and large particles impacting the Earth using model size distributions for the ejected debris from extrasolar planet formation.   \n",
       "\n",
       "                act  y  \n",
       "249901   calculated  0  \n",
       "249903    construct  0  \n",
       "249929       follow  0  \n",
       "249972          use  0  \n",
       "249986          use  0  \n",
       "249987          use  0  \n",
       "249988         show  0  \n",
       "250248      present  0  \n",
       "250382     estimate  0  \n",
       "250395        model  0  \n",
       "250396     describe  0  \n",
       "250508      develop  0  \n",
       "250652    published  0  \n",
       "250653     upgraded  0  \n",
       "250692  demonstrate  0  \n",
       "250719         used  0  \n",
       "250985    performed  0  \n",
       "251090    generated  0  \n",
       "251102    calculate  0  \n",
       "251203    calculate  0  "
      ]
     },
     "execution_count": 73,
     "metadata": {},
     "output_type": "execute_result"
    }
   ],
   "source": [
    "dfModel.tail(20)"
   ]
  },
  {
   "cell_type": "code",
   "execution_count": 74,
   "metadata": {},
   "outputs": [],
   "source": [
    "X=list(dfModel[\"sentence\"])\n"
   ]
  },
  {
   "cell_type": "code",
   "execution_count": 75,
   "metadata": {},
   "outputs": [],
   "source": [
    "y=np.array(list(dfModel[\"y\"]))"
   ]
  },
  {
   "cell_type": "code",
   "execution_count": 76,
   "metadata": {},
   "outputs": [],
   "source": [
    "from collections import Counter\n",
    "category=Counter(y)\n",
    "count=dict(category)"
   ]
  },
  {
   "cell_type": "code",
   "execution_count": 77,
   "metadata": {},
   "outputs": [
    {
     "data": {
      "text/plain": [
       "{0: 6237, 2: 151, 1: 405, 3: 77}"
      ]
     },
     "execution_count": 77,
     "metadata": {},
     "output_type": "execute_result"
    }
   ],
   "source": [
    "count"
   ]
  },
  {
   "cell_type": "markdown",
   "metadata": {},
   "source": [
    "# Distribution of Samples "
   ]
  },
  {
   "cell_type": "code",
   "execution_count": 78,
   "metadata": {},
   "outputs": [
    {
     "data": {
      "text/plain": [
       "Text(0.5, 1.0, 'Distribution of samples over different classes')"
      ]
     },
     "execution_count": 78,
     "metadata": {},
     "output_type": "execute_result"
    },
    {
     "data": {
      "image/png": "[encoded data removed]",
      "text/plain": [
       "<Figure size 432x288 with 1 Axes>"
      ]
     },
     "metadata": {
      "needs_background": "light"
     },
     "output_type": "display_data"
    }
   ],
   "source": [
    "plt.bar(list(count.keys()),count.values(),color=\"r\",width=.4,tick_label=[\"0\",\"1\",\"2\",\"3\"])\n",
    "plt.title(\"Distribution of samples over different classes\")\n"
   ]
  },
  {
   "cell_type": "code",
   "execution_count": 79,
   "metadata": {},
   "outputs": [],
   "source": [
    "X,y = shuffle(X, y, random_state=42)\n",
    "X_train, X_test, y_train, y_test = train_test_split(\n",
    "X,y, test_size=0.25, random_state=42)    \n"
   ]
  },
  {
   "cell_type": "code",
   "execution_count": 80,
   "metadata": {},
   "outputs": [
    {
     "data": {
      "text/plain": [
       "6870"
      ]
     },
     "execution_count": 80,
     "metadata": {},
     "output_type": "execute_result"
    }
   ],
   "source": [
    "len(y)"
   ]
  },
  {
   "cell_type": "markdown",
   "metadata": {},
   "source": [
    "# Baseline models"
   ]
  },
  {
   "cell_type": "markdown",
   "metadata": {},
   "source": [
    "While training and buliding a model, we should keep in mind that there is never the best one. It is realtively experimental process. We start to try different trials. we tried different evaluation metrics"
   ]
  },
  {
   "cell_type": "markdown",
   "metadata": {},
   "source": [
    "We have tried the following models:\n",
    "- Multinomial Naïve Bayes\n",
    "- XGBoosts classifier\n",
    "- Random Forest\n",
    "- Support Vector Machine\n",
    "-  SGD Classifier\n"
   ]
  },
  {
   "cell_type": "code",
   "execution_count": 81,
   "metadata": {},
   "outputs": [],
   "source": [
    "def train_predict(clf,X_train,y_train,X_test,y_test):\n",
    "    clf.fit(X_train,y_train)\n",
    "    y_pred=clf.predict(X_test)\n",
    "    return y_pred"
   ]
  },
  {
   "cell_type": "code",
   "execution_count": 82,
   "metadata": {},
   "outputs": [],
   "source": [
    "def cross_validation_accuracy(clf,X,y):\n",
    "    scores = cross_val_score(clf, X, y, cv=3)\n",
    "    print(scores)\n",
    "    print('Accuracy of : {:.3f} ± {:.3f}'.format(np.mean(scores), 2 * np.std(scores)))"
   ]
  },
  {
   "cell_type": "code",
   "execution_count": 83,
   "metadata": {},
   "outputs": [],
   "source": [
    "def Color_Confusion_Matrix(y, y_test, y_pred):\n",
    "    cm=confusion_matrix(y_test, y_pred)\n",
    "    l=len(set(y))\n",
    "    df_cm = pd.DataFrame(cm, range(l), range(l))\n",
    "    sns.set(font_scale=1)\n",
    "    sns.heatmap(df_cm,cmap=\"Blues\", annot=True,annot_kws={\"size\": 16},fmt='g')\n",
    "    plt.ylabel('True label');\n",
    "    plt.xlabel('Predicted label');\n",
    "    plt.title(\"Confusion Matrix\", size = 16)\n",
    "    plt.savefig('CM_Test_01.png')"
   ]
  },
  {
   "cell_type": "code",
   "execution_count": 84,
   "metadata": {},
   "outputs": [],
   "source": [
    "from sklearn.metrics import roc_curve  \n",
    "from sklearn.metrics import roc_auc_score \n",
    "def plot_roc_curve(fpr, tpr,auc):  \n",
    "    plt.plot(fpr, tpr, color='orange', label='ROC')\n",
    "    plt.plot([0, 1], [0, 1], color='darkblue', linestyle='--')\n",
    "    plt.xlabel('False Positive Rate')\n",
    "    plt.ylabel('True Positive Rate')\n",
    "    plt.title('Receiver Operating Characteristic (ROC) Curve with AUC {:.3f}'.format(AUC))\n",
    "    plt.legend()\n",
    "    plt.show()"
   ]
  },
  {
   "cell_type": "markdown",
   "metadata": {},
   "source": [
    "# Models as trails for Classifcation"
   ]
  },
  {
   "cell_type": "code",
   "execution_count": 85,
   "metadata": {},
   "outputs": [],
   "source": [
    "## 01-Naive Bayes\n",
    "trial_01=Pipeline([ ('vectorizer', TfidfVectorizer()), ('classifier', MultinomialNB())])\n",
    "################################################################################\n",
    "\n",
    "\n",
    "## 02-XGBClassifier\n",
    "trial_02 = Pipeline([('vect', CountVectorizer(stop_words='english')),\n",
    "                     ('clf', xgb.XGBClassifier())])\n",
    "################################################################################\n",
    "## 03-Random Forest Classifier\n",
    "trial_03= Pipeline([('vect', CountVectorizer(stop_words='english')),\n",
    "                     ('clf', RandomForestClassifier(n_estimators=1000, random_state=0))])\n",
    "\n",
    "################################################################################\n",
    "## 04-SVC Classifier\n",
    "vec = TfidfVectorizer(min_df=3,ngram_range=(1, 2))\n",
    "svd = TruncatedSVD()\n",
    "pipe = make_pipeline(vec, svd)\n",
    "clf = SVC()\n",
    "trial_04 = make_pipeline(pipe, clf)\n",
    "\n",
    "#################################################################################\n",
    "# 05- SGD Classifier\n",
    "vec=TfidfVectorizer(stop_words='english')\n",
    "clf= SGDClassifier(loss=\"log\")\n",
    "trial_05=Pipeline([(\"vect\",vec),(\"clf\",clf)])\n",
    "\n",
    "#################################################################################\n",
    "\n"
   ]
  },
  {
   "cell_type": "markdown",
   "metadata": {},
   "source": [
    "In this notebooks, We have found the following models as baseline models:\n",
    "- 1) SGD Classifier\n",
    "- 2) XG Boost"
   ]
  },
  {
   "cell_type": "markdown",
   "metadata": {},
   "source": [
    "# 1) Training and Prediction by SGDClassifier"
   ]
  },
  {
   "cell_type": "code",
   "execution_count": 86,
   "metadata": {},
   "outputs": [],
   "source": [
    "y_pred=train_predict(trial_05,X_train,y_train,X_test,y_test)"
   ]
  },
  {
   "cell_type": "markdown",
   "metadata": {},
   "source": [
    "## Evaluation"
   ]
  },
  {
   "cell_type": "markdown",
   "metadata": {},
   "source": [
    "## a) train-test-split"
   ]
  },
  {
   "cell_type": "code",
   "execution_count": 87,
   "metadata": {},
   "outputs": [
    {
     "name": "stdout",
     "output_type": "stream",
     "text": [
      "              precision    recall  f1-score   support\n",
      "\n",
      "           0       0.95      1.00      0.97      1559\n",
      "           1       0.98      0.63      0.77        93\n",
      "           2       1.00      0.17      0.29        48\n",
      "           3       1.00      0.11      0.20        18\n",
      "\n",
      "    accuracy                           0.95      1718\n",
      "   macro avg       0.98      0.48      0.56      1718\n",
      "weighted avg       0.95      0.95      0.93      1718\n",
      "\n"
     ]
    },
    {
     "data": {
      "image/png": "[encoded data removed]",
      "text/plain": [
       "<Figure size 432x288 with 2 Axes>"
      ]
     },
     "metadata": {},
     "output_type": "display_data"
    }
   ],
   "source": [
    "cr=classification_report(y_test,y_pred)\n",
    "print(cr)\n",
    "Color_Confusion_Matrix(y=y,y_test=y_test,y_pred=y_pred)"
   ]
  },
  {
   "cell_type": "markdown",
   "metadata": {},
   "source": [
    "## b) 10 fold cross valdiation"
   ]
  },
  {
   "cell_type": "code",
   "execution_count": 88,
   "metadata": {},
   "outputs": [
    {
     "name": "stdout",
     "output_type": "stream",
     "text": [
      "[0.95242252 0.95327511 0.95019659]\n",
      "Accuracy of : 0.952 ± 0.003\n"
     ]
    }
   ],
   "source": [
    "cross_validation_accuracy(trial_05,X,y)"
   ]
  },
  {
   "cell_type": "code",
   "execution_count": 89,
   "metadata": {},
   "outputs": [
    {
     "name": "stdout",
     "output_type": "stream",
     "text": [
      "              precision    recall  f1-score   support\n",
      "\n",
      "           0       0.95      1.00      0.98      6237\n",
      "           1       0.98      0.65      0.79       405\n",
      "           2       1.00      0.27      0.43       151\n",
      "           3       1.00      0.16      0.27        77\n",
      "\n",
      "    accuracy                           0.95      6870\n",
      "   macro avg       0.98      0.52      0.61      6870\n",
      "weighted avg       0.96      0.95      0.94      6870\n",
      "\n"
     ]
    },
    {
     "data": {
      "image/png": "[encoded data removed]",
      "text/plain": [
       "<Figure size 432x288 with 2 Axes>"
      ]
     },
     "metadata": {},
     "output_type": "display_data"
    }
   ],
   "source": [
    "y_pred = cross_val_predict(trial_05, X, y, cv=10)\n",
    "cr=classification_report(y,y_pred)\n",
    "print(cr)\n",
    "cm = confusion_matrix(y_pred,y)\n",
    "Color_Confusion_Matrix(y=y,y_test=y,y_pred=y_pred)"
   ]
  },
  {
   "cell_type": "markdown",
   "metadata": {},
   "source": [
    "As you see the results are improved by parameter tuning"
   ]
  },
  {
   "cell_type": "markdown",
   "metadata": {},
   "source": [
    "## 1-a) Parameter Tuning on SGDClassifier"
   ]
  },
  {
   "cell_type": "code",
   "execution_count": 90,
   "metadata": {},
   "outputs": [],
   "source": [
    "param_grid_01= {\n",
    "    'clf__alpha': [1e-4, 1e-3, 1e-2, 1e-1, 1e0, 1e-1, 1e2, 1e3], # learning rate\n",
    "    'clf__max_iter': [1000], # number of epochs\n",
    "    'clf__penalty': ['l2'],\n",
    "    'clf__loss': ['hinge','log'],\n",
    "    'clf__n_jobs': [-1],\n",
    "     'clf__tol': [1e-4, 1e-3, 1e-2]\n",
    "}\n",
    "trial_05_01 = GridSearchCV(trial_05, param_grid=param_grid_01, cv=5, n_jobs=-1, verbose=2)"
   ]
  },
  {
   "cell_type": "code",
   "execution_count": 91,
   "metadata": {},
   "outputs": [
    {
     "name": "stdout",
     "output_type": "stream",
     "text": [
      "Fitting 5 folds for each of 48 candidates, totalling 240 fits\n"
     ]
    },
    {
     "name": "stderr",
     "output_type": "stream",
     "text": [
      "[Parallel(n_jobs=-1)]: Using backend LokyBackend with 8 concurrent workers.\n",
      "[Parallel(n_jobs=-1)]: Done  25 tasks      | elapsed:    2.9s\n",
      "[Parallel(n_jobs=-1)]: Done 146 tasks      | elapsed:    8.3s\n",
      "[Parallel(n_jobs=-1)]: Done 240 out of 240 | elapsed:   12.4s finished\n"
     ]
    },
    {
     "data": {
      "text/plain": [
       "GridSearchCV(cv=5, error_score='raise-deprecating',\n",
       "             estimator=Pipeline(memory=None,\n",
       "                                steps=[('vect',\n",
       "                                        TfidfVectorizer(analyzer='word',\n",
       "                                                        binary=False,\n",
       "                                                        decode_error='strict',\n",
       "                                                        dtype=<class 'numpy.float64'>,\n",
       "                                                        encoding='utf-8',\n",
       "                                                        input='content',\n",
       "                                                        lowercase=True,\n",
       "                                                        max_df=1.0,\n",
       "                                                        max_features=None,\n",
       "                                                        min_df=1,\n",
       "                                                        ngram_range=(1, 1),\n",
       "                                                        norm='l2',\n",
       "                                                        preprocessor=None,\n",
       "                                                        smooth_idf=True,\n",
       "                                                        stop_words...\n",
       "                                                      validation_fraction=0.1,\n",
       "                                                      verbose=0,\n",
       "                                                      warm_start=False))],\n",
       "                                verbose=False),\n",
       "             iid='warn', n_jobs=-1,\n",
       "             param_grid={'clf__alpha': [0.0001, 0.001, 0.01, 0.1, 1.0, 0.1,\n",
       "                                        100.0, 1000.0],\n",
       "                         'clf__loss': ['hinge', 'log'], 'clf__max_iter': [1000],\n",
       "                         'clf__n_jobs': [-1], 'clf__penalty': ['l2'],\n",
       "                         'clf__tol': [0.0001, 0.001, 0.01]},\n",
       "             pre_dispatch='2*n_jobs', refit=True, return_train_score=False,\n",
       "             scoring=None, verbose=2)"
      ]
     },
     "execution_count": 91,
     "metadata": {},
     "output_type": "execute_result"
    }
   ],
   "source": [
    "trial_05_01.fit(X_train,y_train)"
   ]
  },
  {
   "cell_type": "markdown",
   "metadata": {},
   "source": [
    "## Result of grid search over different parameters"
   ]
  },
  {
   "cell_type": "code",
   "execution_count": 92,
   "metadata": {},
   "outputs": [
    {
     "data": {
      "text/html": [
       "<div>\n",
       "<style scoped>\n",
       "    .dataframe tbody tr th:only-of-type {\n",
       "        vertical-align: middle;\n",
       "    }\n",
       "\n",
       "    .dataframe tbody tr th {\n",
       "        vertical-align: top;\n",
       "    }\n",
       "\n",
       "    .dataframe thead th {\n",
       "        text-align: right;\n",
       "    }\n",
       "</style>\n",
       "<table border=\"1\" class=\"dataframe\">\n",
       "  <thead>\n",
       "    <tr style=\"text-align: right;\">\n",
       "      <th></th>\n",
       "      <th>mean_fit_time</th>\n",
       "      <th>std_fit_time</th>\n",
       "      <th>mean_score_time</th>\n",
       "      <th>std_score_time</th>\n",
       "      <th>param_clf__alpha</th>\n",
       "      <th>param_clf__loss</th>\n",
       "      <th>param_clf__max_iter</th>\n",
       "      <th>param_clf__n_jobs</th>\n",
       "      <th>param_clf__penalty</th>\n",
       "      <th>param_clf__tol</th>\n",
       "      <th>params</th>\n",
       "      <th>split0_test_score</th>\n",
       "      <th>split1_test_score</th>\n",
       "      <th>split2_test_score</th>\n",
       "      <th>split3_test_score</th>\n",
       "      <th>split4_test_score</th>\n",
       "      <th>mean_test_score</th>\n",
       "      <th>std_test_score</th>\n",
       "      <th>rank_test_score</th>\n",
       "    </tr>\n",
       "  </thead>\n",
       "  <tbody>\n",
       "    <tr>\n",
       "      <td>0</td>\n",
       "      <td>0.305583</td>\n",
       "      <td>0.006512</td>\n",
       "      <td>0.035306</td>\n",
       "      <td>0.002863</td>\n",
       "      <td>0.0001</td>\n",
       "      <td>hinge</td>\n",
       "      <td>1000</td>\n",
       "      <td>-1</td>\n",
       "      <td>l2</td>\n",
       "      <td>0.0001</td>\n",
       "      <td>{'clf__alpha': 0.0001, 'clf__loss': 'hinge', 'clf__max_iter': 1000, 'clf__n_jobs': -1, 'clf__penalty': 'l2', 'clf__tol': 0.0001}</td>\n",
       "      <td>0.997093</td>\n",
       "      <td>0.995155</td>\n",
       "      <td>0.993210</td>\n",
       "      <td>0.996113</td>\n",
       "      <td>0.992218</td>\n",
       "      <td>0.994759</td>\n",
       "      <td>0.001805</td>\n",
       "      <td>1</td>\n",
       "    </tr>\n",
       "    <tr>\n",
       "      <td>1</td>\n",
       "      <td>0.278057</td>\n",
       "      <td>0.012964</td>\n",
       "      <td>0.040891</td>\n",
       "      <td>0.002676</td>\n",
       "      <td>0.0001</td>\n",
       "      <td>hinge</td>\n",
       "      <td>1000</td>\n",
       "      <td>-1</td>\n",
       "      <td>l2</td>\n",
       "      <td>0.001</td>\n",
       "      <td>{'clf__alpha': 0.0001, 'clf__loss': 'hinge', 'clf__max_iter': 1000, 'clf__n_jobs': -1, 'clf__penalty': 'l2', 'clf__tol': 0.001}</td>\n",
       "      <td>0.997093</td>\n",
       "      <td>0.994186</td>\n",
       "      <td>0.993210</td>\n",
       "      <td>0.995141</td>\n",
       "      <td>0.991245</td>\n",
       "      <td>0.994177</td>\n",
       "      <td>0.001947</td>\n",
       "      <td>2</td>\n",
       "    </tr>\n",
       "    <tr>\n",
       "      <td>2</td>\n",
       "      <td>0.278056</td>\n",
       "      <td>0.003959</td>\n",
       "      <td>0.038696</td>\n",
       "      <td>0.004652</td>\n",
       "      <td>0.0001</td>\n",
       "      <td>hinge</td>\n",
       "      <td>1000</td>\n",
       "      <td>-1</td>\n",
       "      <td>l2</td>\n",
       "      <td>0.01</td>\n",
       "      <td>{'clf__alpha': 0.0001, 'clf__loss': 'hinge', 'clf__max_iter': 1000, 'clf__n_jobs': -1, 'clf__penalty': 'l2', 'clf__tol': 0.01}</td>\n",
       "      <td>0.996124</td>\n",
       "      <td>0.994186</td>\n",
       "      <td>0.990301</td>\n",
       "      <td>0.994169</td>\n",
       "      <td>0.994163</td>\n",
       "      <td>0.993789</td>\n",
       "      <td>0.001901</td>\n",
       "      <td>3</td>\n",
       "    </tr>\n",
       "    <tr>\n",
       "      <td>4</td>\n",
       "      <td>0.303389</td>\n",
       "      <td>0.014209</td>\n",
       "      <td>0.033311</td>\n",
       "      <td>0.004260</td>\n",
       "      <td>0.0001</td>\n",
       "      <td>log</td>\n",
       "      <td>1000</td>\n",
       "      <td>-1</td>\n",
       "      <td>l2</td>\n",
       "      <td>0.001</td>\n",
       "      <td>{'clf__alpha': 0.0001, 'clf__loss': 'log', 'clf__max_iter': 1000, 'clf__n_jobs': -1, 'clf__penalty': 'l2', 'clf__tol': 0.001}</td>\n",
       "      <td>0.952519</td>\n",
       "      <td>0.961240</td>\n",
       "      <td>0.945684</td>\n",
       "      <td>0.957240</td>\n",
       "      <td>0.949416</td>\n",
       "      <td>0.953222</td>\n",
       "      <td>0.005519</td>\n",
       "      <td>4</td>\n",
       "    </tr>\n",
       "    <tr>\n",
       "      <td>5</td>\n",
       "      <td>0.263496</td>\n",
       "      <td>0.007394</td>\n",
       "      <td>0.037499</td>\n",
       "      <td>0.003816</td>\n",
       "      <td>0.0001</td>\n",
       "      <td>log</td>\n",
       "      <td>1000</td>\n",
       "      <td>-1</td>\n",
       "      <td>l2</td>\n",
       "      <td>0.01</td>\n",
       "      <td>{'clf__alpha': 0.0001, 'clf__loss': 'log', 'clf__max_iter': 1000, 'clf__n_jobs': -1, 'clf__penalty': 'l2', 'clf__tol': 0.01}</td>\n",
       "      <td>0.952519</td>\n",
       "      <td>0.960271</td>\n",
       "      <td>0.946654</td>\n",
       "      <td>0.957240</td>\n",
       "      <td>0.949416</td>\n",
       "      <td>0.953222</td>\n",
       "      <td>0.004980</td>\n",
       "      <td>4</td>\n",
       "    </tr>\n",
       "  </tbody>\n",
       "</table>\n",
       "</div>"
      ],
      "text/plain": [
       "   mean_fit_time  std_fit_time  mean_score_time  std_score_time  \\\n",
       "0       0.305583      0.006512         0.035306        0.002863   \n",
       "1       0.278057      0.012964         0.040891        0.002676   \n",
       "2       0.278056      0.003959         0.038696        0.004652   \n",
       "4       0.303389      0.014209         0.033311        0.004260   \n",
       "5       0.263496      0.007394         0.037499        0.003816   \n",
       "\n",
       "  param_clf__alpha param_clf__loss param_clf__max_iter param_clf__n_jobs  \\\n",
       "0           0.0001           hinge                1000                -1   \n",
       "1           0.0001           hinge                1000                -1   \n",
       "2           0.0001           hinge                1000                -1   \n",
       "4           0.0001             log                1000                -1   \n",
       "5           0.0001             log                1000                -1   \n",
       "\n",
       "  param_clf__penalty param_clf__tol  \\\n",
       "0                 l2         0.0001   \n",
       "1                 l2          0.001   \n",
       "2                 l2           0.01   \n",
       "4                 l2          0.001   \n",
       "5                 l2           0.01   \n",
       "\n",
       "                                                                                                                             params  \\\n",
       "0  {'clf__alpha': 0.0001, 'clf__loss': 'hinge', 'clf__max_iter': 1000, 'clf__n_jobs': -1, 'clf__penalty': 'l2', 'clf__tol': 0.0001}   \n",
       "1   {'clf__alpha': 0.0001, 'clf__loss': 'hinge', 'clf__max_iter': 1000, 'clf__n_jobs': -1, 'clf__penalty': 'l2', 'clf__tol': 0.001}   \n",
       "2    {'clf__alpha': 0.0001, 'clf__loss': 'hinge', 'clf__max_iter': 1000, 'clf__n_jobs': -1, 'clf__penalty': 'l2', 'clf__tol': 0.01}   \n",
       "4     {'clf__alpha': 0.0001, 'clf__loss': 'log', 'clf__max_iter': 1000, 'clf__n_jobs': -1, 'clf__penalty': 'l2', 'clf__tol': 0.001}   \n",
       "5      {'clf__alpha': 0.0001, 'clf__loss': 'log', 'clf__max_iter': 1000, 'clf__n_jobs': -1, 'clf__penalty': 'l2', 'clf__tol': 0.01}   \n",
       "\n",
       "   split0_test_score  split1_test_score  split2_test_score  split3_test_score  \\\n",
       "0           0.997093           0.995155           0.993210           0.996113   \n",
       "1           0.997093           0.994186           0.993210           0.995141   \n",
       "2           0.996124           0.994186           0.990301           0.994169   \n",
       "4           0.952519           0.961240           0.945684           0.957240   \n",
       "5           0.952519           0.960271           0.946654           0.957240   \n",
       "\n",
       "   split4_test_score  mean_test_score  std_test_score  rank_test_score  \n",
       "0           0.992218         0.994759        0.001805                1  \n",
       "1           0.991245         0.994177        0.001947                2  \n",
       "2           0.994163         0.993789        0.001901                3  \n",
       "4           0.949416         0.953222        0.005519                4  \n",
       "5           0.949416         0.953222        0.004980                4  "
      ]
     },
     "execution_count": 92,
     "metadata": {},
     "output_type": "execute_result"
    }
   ],
   "source": [
    "results =pd.DataFrame(trial_05_01.cv_results_)\n",
    "results = results.sort_values(by='mean_test_score', ascending=False)\n",
    "results.head()"
   ]
  },
  {
   "cell_type": "markdown",
   "metadata": {},
   "source": [
    "## Using Best estimator to improve the model"
   ]
  },
  {
   "cell_type": "code",
   "execution_count": 93,
   "metadata": {},
   "outputs": [],
   "source": [
    "clf_05_01=trial_05_01.best_estimator_"
   ]
  },
  {
   "cell_type": "code",
   "execution_count": 94,
   "metadata": {},
   "outputs": [],
   "source": [
    "y_pred=clf_05_01.predict(X_test)"
   ]
  },
  {
   "cell_type": "markdown",
   "metadata": {},
   "source": [
    "## Evaluation after parameter tuning"
   ]
  },
  {
   "cell_type": "code",
   "execution_count": 95,
   "metadata": {},
   "outputs": [
    {
     "name": "stdout",
     "output_type": "stream",
     "text": [
      "              precision    recall  f1-score   support\n",
      "\n",
      "           0       1.00      1.00      1.00      1559\n",
      "           1       0.99      0.98      0.98        93\n",
      "           2       1.00      0.96      0.98        48\n",
      "           3       1.00      1.00      1.00        18\n",
      "\n",
      "    accuracy                           1.00      1718\n",
      "   macro avg       1.00      0.98      0.99      1718\n",
      "weighted avg       1.00      1.00      1.00      1718\n",
      "\n"
     ]
    },
    {
     "data": {
      "image/png": "[encoded data removed]",
      "text/plain": [
       "<Figure size 432x288 with 2 Axes>"
      ]
     },
     "metadata": {},
     "output_type": "display_data"
    }
   ],
   "source": [
    "cr=classification_report(y_test,y_pred)\n",
    "print(cr)\n",
    "Color_Confusion_Matrix(y=y,y_test=y_test,y_pred=y_pred)"
   ]
  },
  {
   "cell_type": "code",
   "execution_count": 96,
   "metadata": {},
   "outputs": [
    {
     "name": "stdout",
     "output_type": "stream",
     "text": [
      "[0.99650808 0.99563319 0.99475754]\n",
      "Accuracy of : 0.996 ± 0.001\n"
     ]
    }
   ],
   "source": [
    "cross_validation_accuracy(clf_05_01,X,y)"
   ]
  },
  {
   "cell_type": "code",
   "execution_count": 97,
   "metadata": {},
   "outputs": [
    {
     "name": "stdout",
     "output_type": "stream",
     "text": [
      "              precision    recall  f1-score   support\n",
      "\n",
      "           0       1.00      1.00      1.00      6237\n",
      "           1       0.99      0.98      0.99       405\n",
      "           2       1.00      0.94      0.97       151\n",
      "           3       1.00      0.96      0.98        77\n",
      "\n",
      "    accuracy                           1.00      6870\n",
      "   macro avg       1.00      0.97      0.98      6870\n",
      "weighted avg       1.00      1.00      1.00      6870\n",
      "\n"
     ]
    },
    {
     "data": {
      "image/png": "[encoded data removed]",
      "text/plain": [
       "<Figure size 432x288 with 2 Axes>"
      ]
     },
     "metadata": {},
     "output_type": "display_data"
    }
   ],
   "source": [
    "y_pred = cross_val_predict(clf_05_01, X, y, cv=5)\n",
    "cr=classification_report(y,y_pred)\n",
    "print(cr)\n",
    "cm = confusion_matrix(y_pred,y)\n",
    "Color_Confusion_Matrix(y=y,y_test=y,y_pred=y_pred)"
   ]
  },
  {
   "cell_type": "markdown",
   "metadata": {},
   "source": [
    "As you see the result is improved by parameter tuning"
   ]
  },
  {
   "cell_type": "markdown",
   "metadata": {},
   "source": [
    "# 2) Training and Prediction by XGboost"
   ]
  },
  {
   "cell_type": "code",
   "execution_count": 98,
   "metadata": {},
   "outputs": [],
   "source": [
    "y_pred=train_predict(trial_02,X_train,y_train,X_test,y_test)"
   ]
  },
  {
   "cell_type": "markdown",
   "metadata": {},
   "source": [
    "## Evaluation"
   ]
  },
  {
   "cell_type": "markdown",
   "metadata": {},
   "source": [
    "## a) train-test-split"
   ]
  },
  {
   "cell_type": "code",
   "execution_count": 99,
   "metadata": {},
   "outputs": [
    {
     "name": "stdout",
     "output_type": "stream",
     "text": [
      "              precision    recall  f1-score   support\n",
      "\n",
      "           0       1.00      1.00      1.00      1559\n",
      "           1       0.99      1.00      0.99        93\n",
      "           2       1.00      0.98      0.99        48\n",
      "           3       1.00      1.00      1.00        18\n",
      "\n",
      "    accuracy                           1.00      1718\n",
      "   macro avg       1.00      0.99      1.00      1718\n",
      "weighted avg       1.00      1.00      1.00      1718\n",
      "\n"
     ]
    },
    {
     "data": {
      "image/png": "[encoded data removed]",
      "text/plain": [
       "<Figure size 432x288 with 2 Axes>"
      ]
     },
     "metadata": {},
     "output_type": "display_data"
    }
   ],
   "source": [
    "cr=classification_report(y_test,y_pred)\n",
    "print(cr)\n",
    "Color_Confusion_Matrix(y=y,y_test=y_test,y_pred=y_pred)"
   ]
  },
  {
   "cell_type": "markdown",
   "metadata": {},
   "source": [
    "## b) 10 fold cross valdiation"
   ]
  },
  {
   "cell_type": "code",
   "execution_count": 100,
   "metadata": {},
   "outputs": [
    {
     "name": "stdout",
     "output_type": "stream",
     "text": [
      "[0.99825404 0.99912664 1.        ]\n",
      "Accuracy of : 0.999 ± 0.001\n"
     ]
    }
   ],
   "source": [
    "cross_validation_accuracy(trial_02,X,y)"
   ]
  },
  {
   "cell_type": "code",
   "execution_count": 101,
   "metadata": {},
   "outputs": [
    {
     "name": "stdout",
     "output_type": "stream",
     "text": [
      "              precision    recall  f1-score   support\n",
      "\n",
      "           0       1.00      1.00      1.00      6237\n",
      "           1       0.99      0.99      0.99       405\n",
      "           2       1.00      0.99      1.00       151\n",
      "           3       1.00      1.00      1.00        77\n",
      "\n",
      "    accuracy                           1.00      6870\n",
      "   macro avg       1.00      1.00      1.00      6870\n",
      "weighted avg       1.00      1.00      1.00      6870\n",
      "\n"
     ]
    },
    {
     "data": {
      "image/png": "[encoded data removed]",
      "text/plain": [
       "<Figure size 432x288 with 2 Axes>"
      ]
     },
     "metadata": {},
     "output_type": "display_data"
    }
   ],
   "source": [
    "y_pred = cross_val_predict(trial_02, X, y, cv=10)\n",
    "cr=classification_report(y,y_pred)\n",
    "print(cr)\n",
    "cm = confusion_matrix(y_pred,y)\n",
    "Color_Confusion_Matrix(y=y,y_test=y,y_pred=y_pred)"
   ]
  },
  {
   "cell_type": "code",
   "execution_count": 102,
   "metadata": {},
   "outputs": [],
   "source": [
    "y_pred=train_predict(trial_02,X_train,y_train,X_test,y_test)"
   ]
  },
  {
   "cell_type": "markdown",
   "metadata": {},
   "source": [
    "## Parameter Tuning on XGB Classifier"
   ]
  },
  {
   "cell_type": "code",
   "execution_count": 103,
   "metadata": {},
   "outputs": [],
   "source": [
    "param_grid_02= {\n",
    "    'clf__C': [1e-7, 1e-6, 1e-5, 1e-4, 1e-3, 1e-2, 1e-1, 1e0],\n",
    "    'clf__penalty': ['l2'],\n",
    "    'clf__n_jobs': [-1]\n",
    "}\n",
    "trial_02_01 = GridSearchCV(trial_02, param_grid=param_grid_02, cv=3, n_jobs=-1, verbose=2,scoring='f1_weighted')"
   ]
  },
  {
   "cell_type": "code",
   "execution_count": 104,
   "metadata": {},
   "outputs": [
    {
     "name": "stdout",
     "output_type": "stream",
     "text": [
      "Fitting 3 folds for each of 8 candidates, totalling 24 fits\n"
     ]
    },
    {
     "name": "stderr",
     "output_type": "stream",
     "text": [
      "[Parallel(n_jobs=-1)]: Using backend LokyBackend with 8 concurrent workers.\n",
      "[Parallel(n_jobs=-1)]: Done  22 out of  24 | elapsed:   19.9s remaining:    1.7s\n",
      "[Parallel(n_jobs=-1)]: Done  24 out of  24 | elapsed:   20.2s finished\n"
     ]
    },
    {
     "data": {
      "text/plain": [
       "GridSearchCV(cv=3, error_score='raise-deprecating',\n",
       "             estimator=Pipeline(memory=None,\n",
       "                                steps=[('vect',\n",
       "                                        CountVectorizer(analyzer='word',\n",
       "                                                        binary=False,\n",
       "                                                        decode_error='strict',\n",
       "                                                        dtype=<class 'numpy.int64'>,\n",
       "                                                        encoding='utf-8',\n",
       "                                                        input='content',\n",
       "                                                        lowercase=True,\n",
       "                                                        max_df=1.0,\n",
       "                                                        max_features=None,\n",
       "                                                        min_df=1,\n",
       "                                                        ngram_range=(1, 1),\n",
       "                                                        preprocessor=None,\n",
       "                                                        stop_words='english',\n",
       "                                                        strip_accents=Non...\n",
       "                                                      reg_alpha=0, reg_lambda=1,\n",
       "                                                      scale_pos_weight=None,\n",
       "                                                      subsample=1,\n",
       "                                                      tree_method=None,\n",
       "                                                      validate_parameters=False,\n",
       "                                                      verbosity=None))],\n",
       "                                verbose=False),\n",
       "             iid='warn', n_jobs=-1,\n",
       "             param_grid={'clf__C': [1e-07, 1e-06, 1e-05, 0.0001, 0.001, 0.01,\n",
       "                                    0.1, 1.0],\n",
       "                         'clf__n_jobs': [-1], 'clf__penalty': ['l2']},\n",
       "             pre_dispatch='2*n_jobs', refit=True, return_train_score=False,\n",
       "             scoring='f1_weighted', verbose=2)"
      ]
     },
     "execution_count": 104,
     "metadata": {},
     "output_type": "execute_result"
    }
   ],
   "source": [
    "trial_02_01.fit(X_train,y_train)"
   ]
  },
  {
   "cell_type": "markdown",
   "metadata": {},
   "source": [
    "## Result of grid search over different parameters"
   ]
  },
  {
   "cell_type": "code",
   "execution_count": 105,
   "metadata": {},
   "outputs": [
    {
     "data": {
      "text/html": [
       "<div>\n",
       "<style scoped>\n",
       "    .dataframe tbody tr th:only-of-type {\n",
       "        vertical-align: middle;\n",
       "    }\n",
       "\n",
       "    .dataframe tbody tr th {\n",
       "        vertical-align: top;\n",
       "    }\n",
       "\n",
       "    .dataframe thead th {\n",
       "        text-align: right;\n",
       "    }\n",
       "</style>\n",
       "<table border=\"1\" class=\"dataframe\">\n",
       "  <thead>\n",
       "    <tr style=\"text-align: right;\">\n",
       "      <th></th>\n",
       "      <th>mean_fit_time</th>\n",
       "      <th>std_fit_time</th>\n",
       "      <th>mean_score_time</th>\n",
       "      <th>std_score_time</th>\n",
       "      <th>param_clf__C</th>\n",
       "      <th>param_clf__n_jobs</th>\n",
       "      <th>param_clf__penalty</th>\n",
       "      <th>params</th>\n",
       "      <th>split0_test_score</th>\n",
       "      <th>split1_test_score</th>\n",
       "      <th>split2_test_score</th>\n",
       "      <th>mean_test_score</th>\n",
       "      <th>std_test_score</th>\n",
       "      <th>rank_test_score</th>\n",
       "    </tr>\n",
       "  </thead>\n",
       "  <tbody>\n",
       "    <tr>\n",
       "      <td>0</td>\n",
       "      <td>6.113989</td>\n",
       "      <td>0.206498</td>\n",
       "      <td>0.101063</td>\n",
       "      <td>0.000941</td>\n",
       "      <td>1e-07</td>\n",
       "      <td>-1</td>\n",
       "      <td>l2</td>\n",
       "      <td>{'clf__C': 1e-07, 'clf__n_jobs': -1, 'clf__penalty': 'l2'}</td>\n",
       "      <td>0.998831</td>\n",
       "      <td>0.99884</td>\n",
       "      <td>0.998829</td>\n",
       "      <td>0.998834</td>\n",
       "      <td>0.000005</td>\n",
       "      <td>1</td>\n",
       "    </tr>\n",
       "    <tr>\n",
       "      <td>1</td>\n",
       "      <td>6.105678</td>\n",
       "      <td>0.183359</td>\n",
       "      <td>0.101396</td>\n",
       "      <td>0.004631</td>\n",
       "      <td>1e-06</td>\n",
       "      <td>-1</td>\n",
       "      <td>l2</td>\n",
       "      <td>{'clf__C': 1e-06, 'clf__n_jobs': -1, 'clf__penalty': 'l2'}</td>\n",
       "      <td>0.998831</td>\n",
       "      <td>0.99884</td>\n",
       "      <td>0.998829</td>\n",
       "      <td>0.998834</td>\n",
       "      <td>0.000005</td>\n",
       "      <td>1</td>\n",
       "    </tr>\n",
       "    <tr>\n",
       "      <td>2</td>\n",
       "      <td>6.018911</td>\n",
       "      <td>0.491446</td>\n",
       "      <td>0.096409</td>\n",
       "      <td>0.000470</td>\n",
       "      <td>1e-05</td>\n",
       "      <td>-1</td>\n",
       "      <td>l2</td>\n",
       "      <td>{'clf__C': 1e-05, 'clf__n_jobs': -1, 'clf__penalty': 'l2'}</td>\n",
       "      <td>0.998831</td>\n",
       "      <td>0.99884</td>\n",
       "      <td>0.998829</td>\n",
       "      <td>0.998834</td>\n",
       "      <td>0.000005</td>\n",
       "      <td>1</td>\n",
       "    </tr>\n",
       "    <tr>\n",
       "      <td>3</td>\n",
       "      <td>5.917183</td>\n",
       "      <td>0.304153</td>\n",
       "      <td>0.099401</td>\n",
       "      <td>0.003292</td>\n",
       "      <td>0.0001</td>\n",
       "      <td>-1</td>\n",
       "      <td>l2</td>\n",
       "      <td>{'clf__C': 0.0001, 'clf__n_jobs': -1, 'clf__penalty': 'l2'}</td>\n",
       "      <td>0.998831</td>\n",
       "      <td>0.99884</td>\n",
       "      <td>0.998829</td>\n",
       "      <td>0.998834</td>\n",
       "      <td>0.000005</td>\n",
       "      <td>1</td>\n",
       "    </tr>\n",
       "    <tr>\n",
       "      <td>4</td>\n",
       "      <td>5.883606</td>\n",
       "      <td>0.308673</td>\n",
       "      <td>0.095744</td>\n",
       "      <td>0.002444</td>\n",
       "      <td>0.001</td>\n",
       "      <td>-1</td>\n",
       "      <td>l2</td>\n",
       "      <td>{'clf__C': 0.001, 'clf__n_jobs': -1, 'clf__penalty': 'l2'}</td>\n",
       "      <td>0.998831</td>\n",
       "      <td>0.99884</td>\n",
       "      <td>0.998829</td>\n",
       "      <td>0.998834</td>\n",
       "      <td>0.000005</td>\n",
       "      <td>1</td>\n",
       "    </tr>\n",
       "  </tbody>\n",
       "</table>\n",
       "</div>"
      ],
      "text/plain": [
       "   mean_fit_time  std_fit_time  mean_score_time  std_score_time param_clf__C  \\\n",
       "0       6.113989      0.206498         0.101063        0.000941        1e-07   \n",
       "1       6.105678      0.183359         0.101396        0.004631        1e-06   \n",
       "2       6.018911      0.491446         0.096409        0.000470        1e-05   \n",
       "3       5.917183      0.304153         0.099401        0.003292       0.0001   \n",
       "4       5.883606      0.308673         0.095744        0.002444        0.001   \n",
       "\n",
       "  param_clf__n_jobs param_clf__penalty  \\\n",
       "0                -1                 l2   \n",
       "1                -1                 l2   \n",
       "2                -1                 l2   \n",
       "3                -1                 l2   \n",
       "4                -1                 l2   \n",
       "\n",
       "                                                        params  \\\n",
       "0   {'clf__C': 1e-07, 'clf__n_jobs': -1, 'clf__penalty': 'l2'}   \n",
       "1   {'clf__C': 1e-06, 'clf__n_jobs': -1, 'clf__penalty': 'l2'}   \n",
       "2   {'clf__C': 1e-05, 'clf__n_jobs': -1, 'clf__penalty': 'l2'}   \n",
       "3  {'clf__C': 0.0001, 'clf__n_jobs': -1, 'clf__penalty': 'l2'}   \n",
       "4   {'clf__C': 0.001, 'clf__n_jobs': -1, 'clf__penalty': 'l2'}   \n",
       "\n",
       "   split0_test_score  split1_test_score  split2_test_score  mean_test_score  \\\n",
       "0           0.998831            0.99884           0.998829         0.998834   \n",
       "1           0.998831            0.99884           0.998829         0.998834   \n",
       "2           0.998831            0.99884           0.998829         0.998834   \n",
       "3           0.998831            0.99884           0.998829         0.998834   \n",
       "4           0.998831            0.99884           0.998829         0.998834   \n",
       "\n",
       "   std_test_score  rank_test_score  \n",
       "0        0.000005                1  \n",
       "1        0.000005                1  \n",
       "2        0.000005                1  \n",
       "3        0.000005                1  \n",
       "4        0.000005                1  "
      ]
     },
     "execution_count": 105,
     "metadata": {},
     "output_type": "execute_result"
    }
   ],
   "source": [
    "results =pd.DataFrame(trial_02_01.cv_results_)\n",
    "results = results.sort_values(by='mean_test_score', ascending=False)\n",
    "results.head()"
   ]
  },
  {
   "cell_type": "markdown",
   "metadata": {},
   "source": [
    "## Using Best estimator to improve the model"
   ]
  },
  {
   "cell_type": "code",
   "execution_count": 106,
   "metadata": {},
   "outputs": [],
   "source": [
    "clf_02_01=trial_02_01.best_estimator_"
   ]
  },
  {
   "cell_type": "code",
   "execution_count": 107,
   "metadata": {},
   "outputs": [],
   "source": [
    "y_pred=clf_02_01.predict(X_test)"
   ]
  },
  {
   "cell_type": "markdown",
   "metadata": {},
   "source": [
    "## Evaluation after parameter tuning"
   ]
  },
  {
   "cell_type": "code",
   "execution_count": 108,
   "metadata": {},
   "outputs": [
    {
     "name": "stdout",
     "output_type": "stream",
     "text": [
      "              precision    recall  f1-score   support\n",
      "\n",
      "           0       1.00      1.00      1.00      1559\n",
      "           1       0.99      1.00      0.99        93\n",
      "           2       1.00      0.98      0.99        48\n",
      "           3       1.00      1.00      1.00        18\n",
      "\n",
      "    accuracy                           1.00      1718\n",
      "   macro avg       1.00      0.99      1.00      1718\n",
      "weighted avg       1.00      1.00      1.00      1718\n",
      "\n"
     ]
    },
    {
     "data": {
      "image/png": "[encoded data removed]",
      "text/plain": [
       "<Figure size 432x288 with 2 Axes>"
      ]
     },
     "metadata": {},
     "output_type": "display_data"
    }
   ],
   "source": [
    "cr=classification_report(y_test,y_pred)\n",
    "print(cr)\n",
    "Color_Confusion_Matrix(y=y,y_test=y_test,y_pred=y_pred)"
   ]
  },
  {
   "cell_type": "code",
   "execution_count": 109,
   "metadata": {},
   "outputs": [
    {
     "name": "stdout",
     "output_type": "stream",
     "text": [
      "[0.99825404 0.99912664 1.        ]\n",
      "Accuracy of : 0.999 ± 0.001\n"
     ]
    }
   ],
   "source": [
    "cross_validation_accuracy(clf_02_01,X,y)"
   ]
  },
  {
   "cell_type": "code",
   "execution_count": 110,
   "metadata": {},
   "outputs": [
    {
     "name": "stdout",
     "output_type": "stream",
     "text": [
      "              precision    recall  f1-score   support\n",
      "\n",
      "           0       1.00      1.00      1.00      6237\n",
      "           1       0.99      0.99      0.99       405\n",
      "           2       1.00      0.99      1.00       151\n",
      "           3       1.00      1.00      1.00        77\n",
      "\n",
      "    accuracy                           1.00      6870\n",
      "   macro avg       1.00      1.00      1.00      6870\n",
      "weighted avg       1.00      1.00      1.00      6870\n",
      "\n"
     ]
    },
    {
     "data": {
      "image/png": "[encoded data removed]",
      "text/plain": [
       "<Figure size 432x288 with 2 Axes>"
      ]
     },
     "metadata": {},
     "output_type": "display_data"
    }
   ],
   "source": [
    "y_pred = cross_val_predict(clf_02_01, X, y, cv=3)\n",
    "cr=classification_report(y,y_pred)\n",
    "print(cr)\n",
    "cm = confusion_matrix(y_pred,y)\n",
    "Color_Confusion_Matrix(y=y,y_test=y,y_pred=y_pred)"
   ]
  },
  {
   "cell_type": "markdown",
   "metadata": {},
   "source": [
    "We can also see here an improvment in our model's result after parameter tuning"
   ]
  },
  {
   "cell_type": "markdown",
   "metadata": {},
   "source": [
    "# Explaining prediction by SGD classifier using eli5"
   ]
  },
  {
   "cell_type": "code",
   "execution_count": 111,
   "metadata": {},
   "outputs": [
    {
     "ename": "ModuleNotFoundError",
     "evalue": "No module named 'eli5'",
     "output_type": "error",
     "traceback": [
      "\u001b[1;31m---------------------------------------------------------------------------\u001b[0m",
      "\u001b[1;31mModuleNotFoundError\u001b[0m                       Traceback (most recent call last)",
      "\u001b[1;32m<ipython-input-111-757bf79569e4>\u001b[0m in \u001b[0;36m<module>\u001b[1;34m\u001b[0m\n\u001b[1;32m----> 1\u001b[1;33m \u001b[1;32mfrom\u001b[0m \u001b[0meli5\u001b[0m \u001b[1;32mimport\u001b[0m \u001b[0mshow_weights\u001b[0m\u001b[1;33m\u001b[0m\u001b[1;33m\u001b[0m\u001b[0m\n\u001b[0m\u001b[0;32m      2\u001b[0m \u001b[0mshow_weights\u001b[0m\u001b[1;33m(\u001b[0m\u001b[0mtrial_05\u001b[0m\u001b[1;33m,\u001b[0m \u001b[0mtop\u001b[0m\u001b[1;33m=\u001b[0m\u001b[1;36m30\u001b[0m\u001b[1;33m)\u001b[0m\u001b[1;33m\u001b[0m\u001b[1;33m\u001b[0m\u001b[0m\n",
      "\u001b[1;31mModuleNotFoundError\u001b[0m: No module named 'eli5'"
     ]
    }
   ],
   "source": [
    "from eli5 import show_weights\n",
    "show_weights(trial_05, top=30)"
   ]
  },
  {
   "cell_type": "code",
   "execution_count": null,
   "metadata": {},
   "outputs": [],
   "source": [
    "index_0=list(np.where(y==0))\n",
    "index_1=list(np.where(y==1))\n",
    "index_2=list(np.where(y==2))\n",
    "index_3=list(np.where(y==3))\n"
   ]
  },
  {
   "cell_type": "code",
   "execution_count": null,
   "metadata": {},
   "outputs": [],
   "source": [
    "idx_0=index_0[0].tolist();\n",
    "idx_1=index_1[0].tolist();\n",
    "idx_2=index_2[0].tolist();\n",
    "idx_3=index_3[0].tolist();"
   ]
  },
  {
   "cell_type": "markdown",
   "metadata": {},
   "source": [
    "# Explanation of classification by eli5 over SGDclassifier"
   ]
  },
  {
   "cell_type": "code",
   "execution_count": null,
   "metadata": {},
   "outputs": [],
   "source": [
    "import eli5\n",
    "eli5.show_prediction(clf, X[idx_0[0]],vec=vec)"
   ]
  },
  {
   "cell_type": "code",
   "execution_count": null,
   "metadata": {},
   "outputs": [],
   "source": [
    "eli5.show_prediction(clf, X[idx_1[1]],vec=vec)"
   ]
  },
  {
   "cell_type": "code",
   "execution_count": null,
   "metadata": {},
   "outputs": [],
   "source": [
    "eli5.show_prediction(clf, X[idx_2[120]],vec=vec)"
   ]
  },
  {
   "cell_type": "code",
   "execution_count": null,
   "metadata": {},
   "outputs": [],
   "source": [
    "eli5.show_prediction(clf, X[idx_3[20]],vec=vec)"
   ]
  }
 ],
 "metadata": {
  "kernelspec": {
   "display_name": "Python 3",
   "language": "python",
   "name": "python3"
  },
  "language_info": {
   "codemirror_mode": {
    "name": "ipython",
    "version": 3
   },
   "file_extension": ".py",
   "mimetype": "text/x-python",
   "name": "python",
   "nbconvert_exporter": "python",
   "pygments_lexer": "ipython3",
   "version": "3.7.4"
  }
 },
 "nbformat": 4,
 "nbformat_minor": 4
}
