{
 "cells": [
  {
   "cell_type": "markdown",
   "metadata": {},
   "source": [
    "# Classification ( In progress)"
   ]
  },
  {
   "cell_type": "code",
   "execution_count": 4,
   "metadata": {},
   "outputs": [],
   "source": [
    "import pandas as pd\n",
    "import numpy as np\n",
    "import re\n",
    "import spacy\n",
    "from spacy.lang.en import English\n",
    "from spacy import displacy\n",
    "nlp = spacy.load('en_core_web_sm', disable=[\"ner\", \"textcat\", \"entity_ruler\", \"merge_noun_chunks\", \"merge_entities\", \"merge_subtokens\"])"
   ]
  },
  {
   "cell_type": "code",
   "execution_count": 5,
   "metadata": {},
   "outputs": [],
   "source": [
    "from IPython.display import Image\n",
    "import ipywidgets as widgets\n",
    "from ipywidgets import interact, interact_manual\n",
    "import seaborn as sns\n",
    "import matplotlib.pylab as plt\n",
    "from warnings import filterwarnings\n",
    "filterwarnings('ignore')"
   ]
  },
  {
   "cell_type": "code",
   "execution_count": 6,
   "metadata": {},
   "outputs": [],
   "source": [
    "#from xgboost import XGBClassifier\n",
    "from sklearn.feature_extraction import DictVectorizer\n",
    "from sklearn.pipeline import make_pipeline\n",
    "from sklearn.model_selection import cross_val_score, GridSearchCV\n",
    "from sklearn.model_selection import cross_val_predict\n",
    "from sklearn.metrics import confusion_matrix,classification_report\n",
    "from sklearn.model_selection import KFold\n",
    "from nltk.corpus import stopwords\n",
    "import string"
   ]
  },
  {
   "cell_type": "code",
   "execution_count": 7,
   "metadata": {},
   "outputs": [],
   "source": [
    "from sklearn.feature_extraction.text import CountVectorizer,HashingVectorizer\n",
    "from sklearn.feature_extraction.text import TfidfTransformer,TfidfVectorizer\n",
    "from sklearn.feature_selection import SelectKBest,chi2\n",
    "from sklearn.linear_model import SGDClassifier, LogisticRegression,LogisticRegressionCV\n",
    "from sklearn.naive_bayes import MultinomialNB\n",
    "from sklearn.ensemble import RandomForestClassifier\n",
    "from sklearn.pipeline import Pipeline\n",
    "from sklearn.decomposition import TruncatedSVD\n",
    "from sklearn.svm import SVC,LinearSVC\n",
    "from sklearn.utils import shuffle\n",
    "from sklearn.model_selection import train_test_split\n",
    "from sklearn.neighbors import NearestNeighbors"
   ]
  },
  {
   "cell_type": "code",
   "execution_count": 8,
   "metadata": {},
   "outputs": [],
   "source": [
    "options = {\"compact\": True, \"bg\": \"#09a3d5\",\n",
    "           \"color\": \"white\", \"font\": \"Source Sans Pro\",\"collapse_phrases\":False}"
   ]
  },
  {
   "cell_type": "code",
   "execution_count": 9,
   "metadata": {},
   "outputs": [],
   "source": [
    "pd.set_option('display.max_colwidth', -1)\n",
    "pd.set_option('max_colwidth', 260)"
   ]
  },
  {
   "cell_type": "code",
   "execution_count": 10,
   "metadata": {},
   "outputs": [
    {
     "data": {
      "text/html": [
       "<div>\n",
       "<style scoped>\n",
       "    .dataframe tbody tr th:only-of-type {\n",
       "        vertical-align: middle;\n",
       "    }\n",
       "\n",
       "    .dataframe tbody tr th {\n",
       "        vertical-align: top;\n",
       "    }\n",
       "\n",
       "    .dataframe thead th {\n",
       "        text-align: right;\n",
       "    }\n",
       "</style>\n",
       "<table border=\"1\" class=\"dataframe\">\n",
       "  <thead>\n",
       "    <tr style=\"text-align: right;\">\n",
       "      <th></th>\n",
       "      <th>sent</th>\n",
       "      <th>label</th>\n",
       "    </tr>\n",
       "  </thead>\n",
       "  <tbody>\n",
       "    <tr>\n",
       "      <td>0</td>\n",
       "      <td>We detected visual companions within 1'' for 5 stars, between 1'' and 2'' for 7 stars, and between 2'' and 4'' for 15 stars.</td>\n",
       "      <td>discovery</td>\n",
       "    </tr>\n",
       "    <tr>\n",
       "      <td>1</td>\n",
       "      <td>Using these data and photometry from the Spitzer Space Telescope, we have identified members with infrared excess emission from circumstellar disks and have estimated the evolutionary stages of the detected disks, which include 31 new full disks and 16 new...</td>\n",
       "      <td>discovery</td>\n",
       "    </tr>\n",
       "    <tr>\n",
       "      <td>2</td>\n",
       "      <td>Of the over 800 exoplanets detected to date, over half are on non-circular orbits, with eccentricities as high as 0.93.</td>\n",
       "      <td>None</td>\n",
       "    </tr>\n",
       "    <tr>\n",
       "      <td>3</td>\n",
       "      <td>We find that for these false positive scenarios, CO at 2.35 μm, CO_2 at 2.0 and 4.3 μm, and O_4 at 1.27 μm are all stronger features in transmission than O_2/O_3 and could be detected with S/Ns ≳ 3 for an Earth-size planet orbiting a nearby M dwarf star wi...</td>\n",
       "      <td>discovery</td>\n",
       "    </tr>\n",
       "    <tr>\n",
       "      <td>4</td>\n",
       "      <td>We present two exoplanets detected at Keck Observatory.</td>\n",
       "      <td>discovery</td>\n",
       "    </tr>\n",
       "    <tr>\n",
       "      <td>5</td>\n",
       "      <td>This disfavours the possibility of GI-caused spiral structure in systems with q&amp;lt;0.25 being detected in relatively short integration times, such as those found in the DSHARP ALMA survey (Andrews et al. 2018; Huang et al. 2018).</td>\n",
       "      <td>None</td>\n",
       "    </tr>\n",
       "    <tr>\n",
       "      <td>6</td>\n",
       "      <td>Planets lying in this zone are then more easily detected with the radial-velocity method [3], the most successful in detecting exoplanets.</td>\n",
       "      <td>None</td>\n",
       "    </tr>\n",
       "    <tr>\n",
       "      <td>7</td>\n",
       "      <td>The 2004 flux density was 0.05 Jy, about an order of magnitude lower than the single 2003 burst and the five bursts detected in 2002.</td>\n",
       "      <td>discovery</td>\n",
       "    </tr>\n",
       "    <tr>\n",
       "      <td>8</td>\n",
       "      <td>This statement is supported by a figure given in the article, which shows a primary signal with a depth of 6 mmag, detected with 4σ confidence and a possible secondary signal with a depth of 2 mmag.</td>\n",
       "      <td>None</td>\n",
       "    </tr>\n",
       "    <tr>\n",
       "      <td>9</td>\n",
       "      <td>Combining these instruments with powerful telescopes, astronomers have detected thousands of exoplanets.</td>\n",
       "      <td>None</td>\n",
       "    </tr>\n",
       "    <tr>\n",
       "      <td>10</td>\n",
       "      <td>Here we present a catalog of 164 single transit and eclipse candidates detected during a comprehensive survey of all currently available K2 data.</td>\n",
       "      <td>discovery</td>\n",
       "    </tr>\n",
       "    <tr>\n",
       "      <td>11</td>\n",
       "      <td>The detected planets shepherd the outer cool debris belt.</td>\n",
       "      <td>discovery</td>\n",
       "    </tr>\n",
       "    <tr>\n",
       "      <td>12</td>\n",
       "      <td>The spectral type is estimated to be M7 (̃2700 K), and thus no methane absorption is detected in the H band.</td>\n",
       "      <td>discovery</td>\n",
       "    </tr>\n",
       "    <tr>\n",
       "      <td>13</td>\n",
       "      <td>The presence of the close-in massive planet could also be an interpretation for the high level of stellar activity detected.</td>\n",
       "      <td>None</td>\n",
       "    </tr>\n",
       "    <tr>\n",
       "      <td>14</td>\n",
       "      <td>The instrument uses two emCCD cameras providing simultaneous dual-color observations help to characterize detected companions.</td>\n",
       "      <td>None</td>\n",
       "    </tr>\n",
       "    <tr>\n",
       "      <td>15</td>\n",
       "      <td>We further discuss a speckle subtraction and suppression technique that fully takes advantage of spectral and time-domain information on quasi-static speckles to measure the highest-fidelity photometry as well as accurate astrometry of detected companions.</td>\n",
       "      <td>None</td>\n",
       "    </tr>\n",
       "    <tr>\n",
       "      <td>16</td>\n",
       "      <td>In this framework, asteroseismic studies represent an excellent tool to determine the structural differences between stars with and without detected planets.</td>\n",
       "      <td>None</td>\n",
       "    </tr>\n",
       "    <tr>\n",
       "      <td>17</td>\n",
       "      <td>The detected induced magnetic field infers a saline ocean layer.</td>\n",
       "      <td>discovery</td>\n",
       "    </tr>\n",
       "    <tr>\n",
       "      <td>18</td>\n",
       "      <td>Differential astrometry measurements from the Palomar High-precision Astrometric Search for Exoplanet Systems (PHASES) are used to constrain the astrometric orbit of the previously known lsim2 day subsystem in the triple system 63 Gem A and have detected a...</td>\n",
       "      <td>None</td>\n",
       "    </tr>\n",
       "    <tr>\n",
       "      <td>19</td>\n",
       "      <td>Just two of 10 extrasolar planets found by microlensing have been detected by the planetary caustic, despite the higher probability of planet detection relative to the central caustic, which has been responsible for four extrasolar planet detections.</td>\n",
       "      <td>discovery</td>\n",
       "    </tr>\n",
       "  </tbody>\n",
       "</table>\n",
       "</div>"
      ],
      "text/plain": [
       "                                                                                                                                                                                                                                                                   sent  \\\n",
       "0                                                                                                                                          We detected visual companions within 1'' for 5 stars, between 1'' and 2'' for 7 stars, and between 2'' and 4'' for 15 stars.   \n",
       "1   Using these data and photometry from the Spitzer Space Telescope, we have identified members with infrared excess emission from circumstellar disks and have estimated the evolutionary stages of the detected disks, which include 31 new full disks and 16 new...   \n",
       "2                                                                                                                                               Of the over 800 exoplanets detected to date, over half are on non-circular orbits, with eccentricities as high as 0.93.   \n",
       "3   We find that for these false positive scenarios, CO at 2.35 μm, CO_2 at 2.0 and 4.3 μm, and O_4 at 1.27 μm are all stronger features in transmission than O_2/O_3 and could be detected with S/Ns ≳ 3 for an Earth-size planet orbiting a nearby M dwarf star wi...   \n",
       "4                                                                                                                                                                                                               We present two exoplanets detected at Keck Observatory.   \n",
       "5                                 This disfavours the possibility of GI-caused spiral structure in systems with q&lt;0.25 being detected in relatively short integration times, such as those found in the DSHARP ALMA survey (Andrews et al. 2018; Huang et al. 2018).   \n",
       "6                                                                                                                            Planets lying in this zone are then more easily detected with the radial-velocity method [3], the most successful in detecting exoplanets.   \n",
       "7                                                                                                                                 The 2004 flux density was 0.05 Jy, about an order of magnitude lower than the single 2003 burst and the five bursts detected in 2002.   \n",
       "8                                                                This statement is supported by a figure given in the article, which shows a primary signal with a depth of 6 mmag, detected with 4σ confidence and a possible secondary signal with a depth of 2 mmag.   \n",
       "9                                                                                                                                                              Combining these instruments with powerful telescopes, astronomers have detected thousands of exoplanets.   \n",
       "10                                                                                                                    Here we present a catalog of 164 single transit and eclipse candidates detected during a comprehensive survey of all currently available K2 data.   \n",
       "11                                                                                                                                                                                                            The detected planets shepherd the outer cool debris belt.   \n",
       "12                                                                                                                                                         The spectral type is estimated to be M7 (̃2700 K), and thus no methane absorption is detected in the H band.   \n",
       "13                                                                                                                                         The presence of the close-in massive planet could also be an interpretation for the high level of stellar activity detected.   \n",
       "14                                                                                                                                       The instrument uses two emCCD cameras providing simultaneous dual-color observations help to characterize detected companions.   \n",
       "15     We further discuss a speckle subtraction and suppression technique that fully takes advantage of spectral and time-domain information on quasi-static speckles to measure the highest-fidelity photometry as well as accurate astrometry of detected companions.   \n",
       "16                                                                                                        In this framework, asteroseismic studies represent an excellent tool to determine the structural differences between stars with and without detected planets.   \n",
       "17                                                                                                                                                                                                     The detected induced magnetic field infers a saline ocean layer.   \n",
       "18  Differential astrometry measurements from the Palomar High-precision Astrometric Search for Exoplanet Systems (PHASES) are used to constrain the astrometric orbit of the previously known lsim2 day subsystem in the triple system 63 Gem A and have detected a...   \n",
       "19           Just two of 10 extrasolar planets found by microlensing have been detected by the planetary caustic, despite the higher probability of planet detection relative to the central caustic, which has been responsible for four extrasolar planet detections.   \n",
       "\n",
       "        label  \n",
       "0   discovery  \n",
       "1   discovery  \n",
       "2        None  \n",
       "3   discovery  \n",
       "4   discovery  \n",
       "5        None  \n",
       "6        None  \n",
       "7   discovery  \n",
       "8        None  \n",
       "9        None  \n",
       "10  discovery  \n",
       "11  discovery  \n",
       "12  discovery  \n",
       "13       None  \n",
       "14       None  \n",
       "15       None  \n",
       "16       None  \n",
       "17  discovery  \n",
       "18       None  \n",
       "19  discovery  "
      ]
     },
     "execution_count": 10,
     "metadata": {},
     "output_type": "execute_result"
    }
   ],
   "source": [
    "dfExoplanetsNASAannot = pd.read_json('../data/dfExoplanetsNASAdetected100rand_v2.json', orient = 'table')\n",
    "del dfExoplanetsNASAannot['tagRootSent']\n",
    "del dfExoplanetsNASAannot['tagDetected']\n",
    "dfExoplanetsNASAannot.head(20)"
   ]
  },
  {
   "cell_type": "code",
   "execution_count": 11,
   "metadata": {},
   "outputs": [],
   "source": [
    "def satz_analytic2(satz):\n",
    "#    merkmal = dict({\"satz\":satz.text})\n",
    "    merkmal=dict({})\n",
    "# search for main verb\n",
    "    for t in satz:\n",
    "        if t.dep_ == \"ROOT\":\n",
    "            r=t.head.text\n",
    "            merkmal.update({\"act\":r})\n",
    "# subject and object related to verb\n",
    "    for t in satz:\n",
    "#        if t.dep_ == \"dobj\" and merkmal[\"act\"]==t.head.text:\n",
    "#            merkmal.update({\"obj\":''.join(w.text_with_ws for w in t.subtree)})\n",
    "        if t.dep_ == \"nsubj\" and merkmal[\"act\"]==t.head.text:\n",
    "            merkmal.update({\"subject\":t.text.lower()})\n",
    "\n",
    "    return(merkmal)\n"
   ]
  },
  {
   "cell_type": "code",
   "execution_count": 12,
   "metadata": {},
   "outputs": [
    {
     "data": {
      "text/html": [
       "<div>\n",
       "<style scoped>\n",
       "    .dataframe tbody tr th:only-of-type {\n",
       "        vertical-align: middle;\n",
       "    }\n",
       "\n",
       "    .dataframe tbody tr th {\n",
       "        vertical-align: top;\n",
       "    }\n",
       "\n",
       "    .dataframe thead th {\n",
       "        text-align: right;\n",
       "    }\n",
       "</style>\n",
       "<table border=\"1\" class=\"dataframe\">\n",
       "  <thead>\n",
       "    <tr style=\"text-align: right;\">\n",
       "      <th></th>\n",
       "      <th>sent</th>\n",
       "      <th>label</th>\n",
       "      <th>s</th>\n",
       "    </tr>\n",
       "  </thead>\n",
       "  <tbody>\n",
       "    <tr>\n",
       "      <td>0</td>\n",
       "      <td>We detected visual companions within 1'' for 5 stars, between 1'' and 2'' for 7 stars, and between 2'' and 4'' for 15 stars.</td>\n",
       "      <td>discovery</td>\n",
       "      <td>{'act': 'detected', 'subject': 'we'}</td>\n",
       "    </tr>\n",
       "    <tr>\n",
       "      <td>1</td>\n",
       "      <td>Using these data and photometry from the Spitzer Space Telescope, we have identified members with infrared excess emission from circumstellar disks and have estimated the evolutionary stages of the detected disks, which include 31 new full disks and 16 new...</td>\n",
       "      <td>discovery</td>\n",
       "      <td>{'act': 'identified', 'subject': 'we'}</td>\n",
       "    </tr>\n",
       "    <tr>\n",
       "      <td>2</td>\n",
       "      <td>Of the over 800 exoplanets detected to date, over half are on non-circular orbits, with eccentricities as high as 0.93.</td>\n",
       "      <td>None</td>\n",
       "      <td>{'act': 'are', 'subject': 'half'}</td>\n",
       "    </tr>\n",
       "    <tr>\n",
       "      <td>3</td>\n",
       "      <td>We find that for these false positive scenarios, CO at 2.35 μm, CO_2 at 2.0 and 4.3 μm, and O_4 at 1.27 μm are all stronger features in transmission than O_2/O_3 and could be detected with S/Ns ≳ 3 for an Earth-size planet orbiting a nearby M dwarf star wi...</td>\n",
       "      <td>discovery</td>\n",
       "      <td>{'act': '≳'}</td>\n",
       "    </tr>\n",
       "    <tr>\n",
       "      <td>4</td>\n",
       "      <td>We present two exoplanets detected at Keck Observatory.</td>\n",
       "      <td>discovery</td>\n",
       "      <td>{'act': 'present', 'subject': 'we'}</td>\n",
       "    </tr>\n",
       "    <tr>\n",
       "      <td>5</td>\n",
       "      <td>This disfavours the possibility of GI-caused spiral structure in systems with q&amp;lt;0.25 being detected in relatively short integration times, such as those found in the DSHARP ALMA survey (Andrews et al. 2018; Huang et al. 2018).</td>\n",
       "      <td>None</td>\n",
       "      <td>{'act': 'disfavours', 'subject': 'this'}</td>\n",
       "    </tr>\n",
       "    <tr>\n",
       "      <td>6</td>\n",
       "      <td>Planets lying in this zone are then more easily detected with the radial-velocity method [3], the most successful in detecting exoplanets.</td>\n",
       "      <td>None</td>\n",
       "      <td>{'act': 'are', 'subject': 'planets'}</td>\n",
       "    </tr>\n",
       "    <tr>\n",
       "      <td>7</td>\n",
       "      <td>The 2004 flux density was 0.05 Jy, about an order of magnitude lower than the single 2003 burst and the five bursts detected in 2002.</td>\n",
       "      <td>discovery</td>\n",
       "      <td>{'act': 'was', 'subject': 'density'}</td>\n",
       "    </tr>\n",
       "    <tr>\n",
       "      <td>8</td>\n",
       "      <td>This statement is supported by a figure given in the article, which shows a primary signal with a depth of 6 mmag, detected with 4σ confidence and a possible secondary signal with a depth of 2 mmag.</td>\n",
       "      <td>None</td>\n",
       "      <td>{'act': 'supported'}</td>\n",
       "    </tr>\n",
       "    <tr>\n",
       "      <td>9</td>\n",
       "      <td>Combining these instruments with powerful telescopes, astronomers have detected thousands of exoplanets.</td>\n",
       "      <td>None</td>\n",
       "      <td>{'act': 'detected', 'subject': 'astronomers'}</td>\n",
       "    </tr>\n",
       "    <tr>\n",
       "      <td>10</td>\n",
       "      <td>Here we present a catalog of 164 single transit and eclipse candidates detected during a comprehensive survey of all currently available K2 data.</td>\n",
       "      <td>discovery</td>\n",
       "      <td>{'act': 'present', 'subject': 'we'}</td>\n",
       "    </tr>\n",
       "    <tr>\n",
       "      <td>11</td>\n",
       "      <td>The detected planets shepherd the outer cool debris belt.</td>\n",
       "      <td>discovery</td>\n",
       "      <td>{'act': 'shepherd', 'subject': 'planets'}</td>\n",
       "    </tr>\n",
       "    <tr>\n",
       "      <td>12</td>\n",
       "      <td>The spectral type is estimated to be M7 (̃2700 K), and thus no methane absorption is detected in the H band.</td>\n",
       "      <td>discovery</td>\n",
       "      <td>{'act': 'estimated'}</td>\n",
       "    </tr>\n",
       "    <tr>\n",
       "      <td>13</td>\n",
       "      <td>The presence of the close-in massive planet could also be an interpretation for the high level of stellar activity detected.</td>\n",
       "      <td>None</td>\n",
       "      <td>{'act': 'be', 'subject': 'presence'}</td>\n",
       "    </tr>\n",
       "    <tr>\n",
       "      <td>14</td>\n",
       "      <td>The instrument uses two emCCD cameras providing simultaneous dual-color observations help to characterize detected companions.</td>\n",
       "      <td>None</td>\n",
       "      <td>{'act': 'uses', 'subject': 'instrument'}</td>\n",
       "    </tr>\n",
       "    <tr>\n",
       "      <td>15</td>\n",
       "      <td>We further discuss a speckle subtraction and suppression technique that fully takes advantage of spectral and time-domain information on quasi-static speckles to measure the highest-fidelity photometry as well as accurate astrometry of detected companions.</td>\n",
       "      <td>None</td>\n",
       "      <td>{'act': 'discuss', 'subject': 'we'}</td>\n",
       "    </tr>\n",
       "    <tr>\n",
       "      <td>16</td>\n",
       "      <td>In this framework, asteroseismic studies represent an excellent tool to determine the structural differences between stars with and without detected planets.</td>\n",
       "      <td>None</td>\n",
       "      <td>{'act': 'represent', 'subject': 'studies'}</td>\n",
       "    </tr>\n",
       "    <tr>\n",
       "      <td>17</td>\n",
       "      <td>The detected induced magnetic field infers a saline ocean layer.</td>\n",
       "      <td>discovery</td>\n",
       "      <td>{'act': 'infers', 'subject': 'field'}</td>\n",
       "    </tr>\n",
       "    <tr>\n",
       "      <td>18</td>\n",
       "      <td>Differential astrometry measurements from the Palomar High-precision Astrometric Search for Exoplanet Systems (PHASES) are used to constrain the astrometric orbit of the previously known lsim2 day subsystem in the triple system 63 Gem A and have detected a...</td>\n",
       "      <td>None</td>\n",
       "      <td>{'act': 'used'}</td>\n",
       "    </tr>\n",
       "    <tr>\n",
       "      <td>19</td>\n",
       "      <td>Just two of 10 extrasolar planets found by microlensing have been detected by the planetary caustic, despite the higher probability of planet detection relative to the central caustic, which has been responsible for four extrasolar planet detections.</td>\n",
       "      <td>discovery</td>\n",
       "      <td>{'act': 'detected'}</td>\n",
       "    </tr>\n",
       "  </tbody>\n",
       "</table>\n",
       "</div>"
      ],
      "text/plain": [
       "                                                                                                                                                                                                                                                                   sent  \\\n",
       "0                                                                                                                                          We detected visual companions within 1'' for 5 stars, between 1'' and 2'' for 7 stars, and between 2'' and 4'' for 15 stars.   \n",
       "1   Using these data and photometry from the Spitzer Space Telescope, we have identified members with infrared excess emission from circumstellar disks and have estimated the evolutionary stages of the detected disks, which include 31 new full disks and 16 new...   \n",
       "2                                                                                                                                               Of the over 800 exoplanets detected to date, over half are on non-circular orbits, with eccentricities as high as 0.93.   \n",
       "3   We find that for these false positive scenarios, CO at 2.35 μm, CO_2 at 2.0 and 4.3 μm, and O_4 at 1.27 μm are all stronger features in transmission than O_2/O_3 and could be detected with S/Ns ≳ 3 for an Earth-size planet orbiting a nearby M dwarf star wi...   \n",
       "4                                                                                                                                                                                                               We present two exoplanets detected at Keck Observatory.   \n",
       "5                                 This disfavours the possibility of GI-caused spiral structure in systems with q&lt;0.25 being detected in relatively short integration times, such as those found in the DSHARP ALMA survey (Andrews et al. 2018; Huang et al. 2018).   \n",
       "6                                                                                                                            Planets lying in this zone are then more easily detected with the radial-velocity method [3], the most successful in detecting exoplanets.   \n",
       "7                                                                                                                                 The 2004 flux density was 0.05 Jy, about an order of magnitude lower than the single 2003 burst and the five bursts detected in 2002.   \n",
       "8                                                                This statement is supported by a figure given in the article, which shows a primary signal with a depth of 6 mmag, detected with 4σ confidence and a possible secondary signal with a depth of 2 mmag.   \n",
       "9                                                                                                                                                              Combining these instruments with powerful telescopes, astronomers have detected thousands of exoplanets.   \n",
       "10                                                                                                                    Here we present a catalog of 164 single transit and eclipse candidates detected during a comprehensive survey of all currently available K2 data.   \n",
       "11                                                                                                                                                                                                            The detected planets shepherd the outer cool debris belt.   \n",
       "12                                                                                                                                                         The spectral type is estimated to be M7 (̃2700 K), and thus no methane absorption is detected in the H band.   \n",
       "13                                                                                                                                         The presence of the close-in massive planet could also be an interpretation for the high level of stellar activity detected.   \n",
       "14                                                                                                                                       The instrument uses two emCCD cameras providing simultaneous dual-color observations help to characterize detected companions.   \n",
       "15     We further discuss a speckle subtraction and suppression technique that fully takes advantage of spectral and time-domain information on quasi-static speckles to measure the highest-fidelity photometry as well as accurate astrometry of detected companions.   \n",
       "16                                                                                                        In this framework, asteroseismic studies represent an excellent tool to determine the structural differences between stars with and without detected planets.   \n",
       "17                                                                                                                                                                                                     The detected induced magnetic field infers a saline ocean layer.   \n",
       "18  Differential astrometry measurements from the Palomar High-precision Astrometric Search for Exoplanet Systems (PHASES) are used to constrain the astrometric orbit of the previously known lsim2 day subsystem in the triple system 63 Gem A and have detected a...   \n",
       "19           Just two of 10 extrasolar planets found by microlensing have been detected by the planetary caustic, despite the higher probability of planet detection relative to the central caustic, which has been responsible for four extrasolar planet detections.   \n",
       "\n",
       "        label                                              s  \n",
       "0   discovery           {'act': 'detected', 'subject': 'we'}  \n",
       "1   discovery         {'act': 'identified', 'subject': 'we'}  \n",
       "2        None              {'act': 'are', 'subject': 'half'}  \n",
       "3   discovery                                   {'act': '≳'}  \n",
       "4   discovery            {'act': 'present', 'subject': 'we'}  \n",
       "5        None       {'act': 'disfavours', 'subject': 'this'}  \n",
       "6        None           {'act': 'are', 'subject': 'planets'}  \n",
       "7   discovery           {'act': 'was', 'subject': 'density'}  \n",
       "8        None                           {'act': 'supported'}  \n",
       "9        None  {'act': 'detected', 'subject': 'astronomers'}  \n",
       "10  discovery            {'act': 'present', 'subject': 'we'}  \n",
       "11  discovery      {'act': 'shepherd', 'subject': 'planets'}  \n",
       "12  discovery                           {'act': 'estimated'}  \n",
       "13       None           {'act': 'be', 'subject': 'presence'}  \n",
       "14       None       {'act': 'uses', 'subject': 'instrument'}  \n",
       "15       None            {'act': 'discuss', 'subject': 'we'}  \n",
       "16       None     {'act': 'represent', 'subject': 'studies'}  \n",
       "17  discovery          {'act': 'infers', 'subject': 'field'}  \n",
       "18       None                                {'act': 'used'}  \n",
       "19  discovery                            {'act': 'detected'}  "
      ]
     },
     "execution_count": 12,
     "metadata": {},
     "output_type": "execute_result"
    }
   ],
   "source": [
    "dfExoplanetsNASAannot[\"s\"]=dfExoplanetsNASAannot[\"sent\"].apply(lambda y: satz_analytic2(nlp(y)))\n",
    "dfExoplanetsNASAannot.head(20)"
   ]
  },
  {
   "cell_type": "code",
   "execution_count": 13,
   "metadata": {},
   "outputs": [],
   "source": [
    "_all_xs=list(dfExoplanetsNASAannot[\"sent\"])\n"
   ]
  },
  {
   "cell_type": "code",
   "execution_count": 14,
   "metadata": {},
   "outputs": [],
   "source": [
    "_all_ys=np.array(list(dfExoplanetsNASAannot[\"label\"]))"
   ]
  },
  {
   "cell_type": "code",
   "execution_count": 15,
   "metadata": {},
   "outputs": [],
   "source": [
    "def transp(x):\n",
    "    if x==\"discovery\":\n",
    "        y=1\n",
    "    else:\n",
    "        y=0\n",
    "    return(y)\n",
    "dfExoplanetsNASAannot[\"label\"]=dfExoplanetsNASAannot[\"label\"].apply(lambda x: transp(x))"
   ]
  },
  {
   "cell_type": "code",
   "execution_count": 16,
   "metadata": {},
   "outputs": [
    {
     "data": {
      "text/html": [
       "<div>\n",
       "<style scoped>\n",
       "    .dataframe tbody tr th:only-of-type {\n",
       "        vertical-align: middle;\n",
       "    }\n",
       "\n",
       "    .dataframe tbody tr th {\n",
       "        vertical-align: top;\n",
       "    }\n",
       "\n",
       "    .dataframe thead th {\n",
       "        text-align: right;\n",
       "    }\n",
       "</style>\n",
       "<table border=\"1\" class=\"dataframe\">\n",
       "  <thead>\n",
       "    <tr style=\"text-align: right;\">\n",
       "      <th></th>\n",
       "      <th>sent</th>\n",
       "      <th>label</th>\n",
       "      <th>s</th>\n",
       "    </tr>\n",
       "  </thead>\n",
       "  <tbody>\n",
       "    <tr>\n",
       "      <td>0</td>\n",
       "      <td>We detected visual companions within 1'' for 5 stars, between 1'' and 2'' for 7 stars, and between 2'' and 4'' for 15 stars.</td>\n",
       "      <td>1</td>\n",
       "      <td>{'act': 'detected', 'subject': 'we'}</td>\n",
       "    </tr>\n",
       "    <tr>\n",
       "      <td>1</td>\n",
       "      <td>Using these data and photometry from the Spitzer Space Telescope, we have identified members with infrared excess emission from circumstellar disks and have estimated the evolutionary stages of the detected disks, which include 31 new full disks and 16 new...</td>\n",
       "      <td>1</td>\n",
       "      <td>{'act': 'identified', 'subject': 'we'}</td>\n",
       "    </tr>\n",
       "    <tr>\n",
       "      <td>2</td>\n",
       "      <td>Of the over 800 exoplanets detected to date, over half are on non-circular orbits, with eccentricities as high as 0.93.</td>\n",
       "      <td>0</td>\n",
       "      <td>{'act': 'are', 'subject': 'half'}</td>\n",
       "    </tr>\n",
       "    <tr>\n",
       "      <td>3</td>\n",
       "      <td>We find that for these false positive scenarios, CO at 2.35 μm, CO_2 at 2.0 and 4.3 μm, and O_4 at 1.27 μm are all stronger features in transmission than O_2/O_3 and could be detected with S/Ns ≳ 3 for an Earth-size planet orbiting a nearby M dwarf star wi...</td>\n",
       "      <td>1</td>\n",
       "      <td>{'act': '≳'}</td>\n",
       "    </tr>\n",
       "    <tr>\n",
       "      <td>4</td>\n",
       "      <td>We present two exoplanets detected at Keck Observatory.</td>\n",
       "      <td>1</td>\n",
       "      <td>{'act': 'present', 'subject': 'we'}</td>\n",
       "    </tr>\n",
       "    <tr>\n",
       "      <td>5</td>\n",
       "      <td>This disfavours the possibility of GI-caused spiral structure in systems with q&amp;lt;0.25 being detected in relatively short integration times, such as those found in the DSHARP ALMA survey (Andrews et al. 2018; Huang et al. 2018).</td>\n",
       "      <td>0</td>\n",
       "      <td>{'act': 'disfavours', 'subject': 'this'}</td>\n",
       "    </tr>\n",
       "    <tr>\n",
       "      <td>6</td>\n",
       "      <td>Planets lying in this zone are then more easily detected with the radial-velocity method [3], the most successful in detecting exoplanets.</td>\n",
       "      <td>0</td>\n",
       "      <td>{'act': 'are', 'subject': 'planets'}</td>\n",
       "    </tr>\n",
       "    <tr>\n",
       "      <td>7</td>\n",
       "      <td>The 2004 flux density was 0.05 Jy, about an order of magnitude lower than the single 2003 burst and the five bursts detected in 2002.</td>\n",
       "      <td>1</td>\n",
       "      <td>{'act': 'was', 'subject': 'density'}</td>\n",
       "    </tr>\n",
       "    <tr>\n",
       "      <td>8</td>\n",
       "      <td>This statement is supported by a figure given in the article, which shows a primary signal with a depth of 6 mmag, detected with 4σ confidence and a possible secondary signal with a depth of 2 mmag.</td>\n",
       "      <td>0</td>\n",
       "      <td>{'act': 'supported'}</td>\n",
       "    </tr>\n",
       "    <tr>\n",
       "      <td>9</td>\n",
       "      <td>Combining these instruments with powerful telescopes, astronomers have detected thousands of exoplanets.</td>\n",
       "      <td>0</td>\n",
       "      <td>{'act': 'detected', 'subject': 'astronomers'}</td>\n",
       "    </tr>\n",
       "  </tbody>\n",
       "</table>\n",
       "</div>"
      ],
      "text/plain": [
       "                                                                                                                                                                                                                                                                  sent  \\\n",
       "0                                                                                                                                         We detected visual companions within 1'' for 5 stars, between 1'' and 2'' for 7 stars, and between 2'' and 4'' for 15 stars.   \n",
       "1  Using these data and photometry from the Spitzer Space Telescope, we have identified members with infrared excess emission from circumstellar disks and have estimated the evolutionary stages of the detected disks, which include 31 new full disks and 16 new...   \n",
       "2                                                                                                                                              Of the over 800 exoplanets detected to date, over half are on non-circular orbits, with eccentricities as high as 0.93.   \n",
       "3  We find that for these false positive scenarios, CO at 2.35 μm, CO_2 at 2.0 and 4.3 μm, and O_4 at 1.27 μm are all stronger features in transmission than O_2/O_3 and could be detected with S/Ns ≳ 3 for an Earth-size planet orbiting a nearby M dwarf star wi...   \n",
       "4                                                                                                                                                                                                              We present two exoplanets detected at Keck Observatory.   \n",
       "5                                This disfavours the possibility of GI-caused spiral structure in systems with q&lt;0.25 being detected in relatively short integration times, such as those found in the DSHARP ALMA survey (Andrews et al. 2018; Huang et al. 2018).   \n",
       "6                                                                                                                           Planets lying in this zone are then more easily detected with the radial-velocity method [3], the most successful in detecting exoplanets.   \n",
       "7                                                                                                                                The 2004 flux density was 0.05 Jy, about an order of magnitude lower than the single 2003 burst and the five bursts detected in 2002.   \n",
       "8                                                               This statement is supported by a figure given in the article, which shows a primary signal with a depth of 6 mmag, detected with 4σ confidence and a possible secondary signal with a depth of 2 mmag.   \n",
       "9                                                                                                                                                             Combining these instruments with powerful telescopes, astronomers have detected thousands of exoplanets.   \n",
       "\n",
       "   label                                              s  \n",
       "0      1           {'act': 'detected', 'subject': 'we'}  \n",
       "1      1         {'act': 'identified', 'subject': 'we'}  \n",
       "2      0              {'act': 'are', 'subject': 'half'}  \n",
       "3      1                                   {'act': '≳'}  \n",
       "4      1            {'act': 'present', 'subject': 'we'}  \n",
       "5      0       {'act': 'disfavours', 'subject': 'this'}  \n",
       "6      0           {'act': 'are', 'subject': 'planets'}  \n",
       "7      1           {'act': 'was', 'subject': 'density'}  \n",
       "8      0                           {'act': 'supported'}  \n",
       "9      0  {'act': 'detected', 'subject': 'astronomers'}  "
      ]
     },
     "execution_count": 16,
     "metadata": {},
     "output_type": "execute_result"
    }
   ],
   "source": [
    "dfExoplanetsNASAannot.head(10)"
   ]
  },
  {
   "cell_type": "code",
   "execution_count": 17,
   "metadata": {},
   "outputs": [
    {
     "data": {
      "text/plain": [
       "'Using these data and photometry from the Spitzer Space Telescope, we have identified members with infrared excess emission from circumstellar disks and have estimated the evolutionary stages of the detected disks, which include 31 new full disks and 16 new candidate transitional, evolved, evolved transitional, and debris disks.'"
      ]
     },
     "execution_count": 17,
     "metadata": {},
     "output_type": "execute_result"
    }
   ],
   "source": [
    "_all_xs[1]"
   ]
  },
  {
   "cell_type": "code",
   "execution_count": 18,
   "metadata": {},
   "outputs": [],
   "source": [
    "X=list(dfExoplanetsNASAannot[\"sent\"])\n",
    "y=np.array(list(dfExoplanetsNASAannot[\"label\"]))\n",
    "\n"
   ]
  },
  {
   "cell_type": "code",
   "execution_count": 19,
   "metadata": {},
   "outputs": [
    {
     "ename": "NameError",
     "evalue": "name 'Category' is not defined",
     "output_type": "error",
     "traceback": [
      "\u001b[1;31m---------------------------------------------------------------------------\u001b[0m",
      "\u001b[1;31mNameError\u001b[0m                                 Traceback (most recent call last)",
      "\u001b[1;32m<ipython-input-19-52545ed9de56>\u001b[0m in \u001b[0;36m<module>\u001b[1;34m\u001b[0m\n\u001b[0;32m      1\u001b[0m \u001b[1;32mfrom\u001b[0m \u001b[0mcollections\u001b[0m \u001b[1;32mimport\u001b[0m \u001b[0mCounter\u001b[0m\u001b[1;33m\u001b[0m\u001b[1;33m\u001b[0m\u001b[0m\n\u001b[0;32m      2\u001b[0m \u001b[0mcategory\u001b[0m\u001b[1;33m=\u001b[0m\u001b[0mCounter\u001b[0m\u001b[1;33m(\u001b[0m\u001b[0my\u001b[0m\u001b[1;33m)\u001b[0m\u001b[1;33m\u001b[0m\u001b[1;33m\u001b[0m\u001b[0m\n\u001b[1;32m----> 3\u001b[1;33m \u001b[0mcounter\u001b[0m\u001b[1;33m=\u001b[0m\u001b[0mdict\u001b[0m\u001b[1;33m(\u001b[0m\u001b[0mCategory\u001b[0m\u001b[1;33m)\u001b[0m\u001b[1;33m\u001b[0m\u001b[1;33m\u001b[0m\u001b[0m\n\u001b[0m",
      "\u001b[1;31mNameError\u001b[0m: name 'Category' is not defined"
     ]
    }
   ],
   "source": [
    "from collections import Counter\n",
    "category=Counter(y)\n",
    "counter=dict(Category)"
   ]
  },
  {
   "cell_type": "code",
   "execution_count": null,
   "metadata": {},
   "outputs": [],
   "source": [
    "counter"
   ]
  },
  {
   "cell_type": "code",
   "execution_count": null,
   "metadata": {},
   "outputs": [],
   "source": [
    "plt.bar(list(counter.keys()),counter.values(),color=\"r\",width=.4,tick_label=[\"1:discovery\",\"0:None\"])\n",
    "plt.title(\"Distribution of samples over different classes\")\n"
   ]
  },
  {
   "cell_type": "code",
   "execution_count": null,
   "metadata": {},
   "outputs": [],
   "source": [
    "X,y = shuffle(X, y, random_state=42)\n",
    "X_train, X_test, y_train, y_test = train_test_split(\n",
    "X,y, test_size=0.25, random_state=42)    \n"
   ]
  },
  {
   "cell_type": "code",
   "execution_count": null,
   "metadata": {},
   "outputs": [],
   "source": [
    "len(y)"
   ]
  },
  {
   "cell_type": "markdown",
   "metadata": {},
   "source": [
    "# Baseline models"
   ]
  },
  {
   "cell_type": "markdown",
   "metadata": {},
   "source": [
    "while training and buliding a model, we should keep in mind that there is never the best one. It is realtively experimental process. We start to try different trials. we trired different evaluation metrics"
   ]
  },
  {
   "cell_type": "markdown",
   "metadata": {},
   "source": [
    "We have tried the following models:\n",
    "- Multinomial Naïve Bayes\n",
    "- XGBoosts classifier\n",
    "- Random Forest\n",
    "- Support Vector Machine\n",
    "-  SGD Classifier\n"
   ]
  },
  {
   "cell_type": "code",
   "execution_count": null,
   "metadata": {},
   "outputs": [],
   "source": [
    "def train_predict(clf,X_train,y_train,X_test,y_test):\n",
    "    clf.fit(X_train,y_train)\n",
    "    y_pred=clf.predict(X_test)\n",
    "    return y_pred"
   ]
  },
  {
   "cell_type": "code",
   "execution_count": null,
   "metadata": {},
   "outputs": [],
   "source": [
    "def cross_validation_accuracy(clf,X,y):\n",
    "    scores = cross_val_score(clf, X, y, cv=3)\n",
    "    print(scores)\n",
    "    print('Accuracy of : {:.3f} ± {:.3f}'.format(np.mean(scores), 2 * np.std(scores)))"
   ]
  },
  {
   "cell_type": "code",
   "execution_count": null,
   "metadata": {},
   "outputs": [],
   "source": [
    "def Color_Confusion_Matrix(y, y_test, y_pred):\n",
    "    cm=confusion_matrix(y_test, y_pred)\n",
    "    l=len(set(y))\n",
    "    df_cm = pd.DataFrame(cm, range(l), range(l))\n",
    "    sns.set(font_scale=1)\n",
    "    sns.heatmap(df_cm,cmap=\"Blues\", annot=True,annot_kws={\"size\": 16})\n",
    "    plt.ylabel('True label');\n",
    "    plt.xlabel('Predicted label');\n",
    "    plt.title(\"Confusion Matrix\", size = 16)\n",
    "    plt.savefig('CM_Test_01.png')"
   ]
  },
  {
   "cell_type": "code",
   "execution_count": null,
   "metadata": {},
   "outputs": [],
   "source": [
    "from sklearn.metrics import roc_curve  \n",
    "from sklearn.metrics import roc_auc_score \n",
    "def plot_roc_curve(fpr, tpr,auc):  \n",
    "    plt.plot(fpr, tpr, color='orange', label='ROC')\n",
    "    plt.plot([0, 1], [0, 1], color='darkblue', linestyle='--')\n",
    "    plt.xlabel('False Positive Rate')\n",
    "    plt.ylabel('True Positive Rate')\n",
    "    plt.title('Receiver Operating Characteristic (ROC) Curve with AUC {:.3f}'.format(AUC))\n",
    "    plt.legend()\n",
    "    plt.show()"
   ]
  },
  {
   "cell_type": "markdown",
   "metadata": {},
   "source": [
    "# Baseline Models"
   ]
  },
  {
   "cell_type": "code",
   "execution_count": null,
   "metadata": {},
   "outputs": [],
   "source": [
    "## 01-Naive Bayes\n",
    "trial_01=Pipeline([ ('vectorizer', TfidfVectorizer()), ('classifier', MultinomialNB())])\n",
    "################################################################################\n",
    "\n",
    "## 02-XGBClassifier\n",
    "trial_02 = Pipeline([('vect', CountVectorizer(stop_words='english')),\n",
    "                     ('clf', XGBClassifier())])\n",
    "################################################################################\n",
    "## 03-Random Forest Classifier\n",
    "trial_03= Pipeline([('vect', CountVectorizer(stop_words='english')),\n",
    "                     ('clf', RandomForestClassifier(n_estimators=1000, random_state=0))])\n",
    "\n",
    "################################################################################\n",
    "## 04-SVC Classifier\n",
    "vec = TfidfVectorizer(min_df=3,ngram_range=(1, 2))\n",
    "svd = TruncatedSVD()\n",
    "pipe = make_pipeline(vec, svd)\n",
    "clf = SVC()\n",
    "trial_04 = make_pipeline(pipe, clf)\n",
    "\n",
    "#################################################################################\n",
    "# 05- SGD Classifier\n",
    "vec=TfidfVectorizer()\n",
    "clf= SGDClassifier(max_iter=70,tol=.001)\n",
    "trial_05=Pipeline([(\"vect\",vec),(\"clf\",clf)])\n",
    "\n",
    "#################################################################################\n",
    "\n"
   ]
  },
  {
   "cell_type": "markdown",
   "metadata": {},
   "source": [
    "# Training and Prediction by XGBCalssifier"
   ]
  },
  {
   "cell_type": "code",
   "execution_count": null,
   "metadata": {},
   "outputs": [],
   "source": [
    "y_pred=train_predict(trial_02,X_train,y_train,X_test,y_test)"
   ]
  },
  {
   "cell_type": "markdown",
   "metadata": {},
   "source": [
    "# Evaluation"
   ]
  },
  {
   "cell_type": "markdown",
   "metadata": {},
   "source": [
    "First we used classification report and confusion matrix for a test set  . Then we show the result of classifcation report and confusion matrix over ten folds to have unibased evaluation metrics. here we have chosen two models among 5 models that we tried."
   ]
  },
  {
   "cell_type": "markdown",
   "metadata": {},
   "source": [
    " ## a) train-test-split"
   ]
  },
  {
   "cell_type": "code",
   "execution_count": null,
   "metadata": {},
   "outputs": [],
   "source": [
    "cr=classification_report(y_test,y_pred)\n",
    "print(cr)\n",
    "Color_Confusion_Matrix(y=y,y_test=y_test,y_pred=y_pred)"
   ]
  },
  {
   "cell_type": "markdown",
   "metadata": {},
   "source": [
    "## b) 10 fold cross valdiation"
   ]
  },
  {
   "cell_type": "code",
   "execution_count": null,
   "metadata": {},
   "outputs": [],
   "source": [
    "cross_validation_accuracy(trial_02,X,y)"
   ]
  },
  {
   "cell_type": "code",
   "execution_count": null,
   "metadata": {},
   "outputs": [],
   "source": [
    "y_pred = cross_val_predict(trial_02, X, y, cv=10)\n",
    "cr=classification_report(y,y_pred)\n",
    "print(cr)\n",
    "cm = confusion_matrix(y_pred,y)\n",
    "Color_Confusion_Matrix(y=y,y_test=y,y_pred=y_pred)"
   ]
  },
  {
   "cell_type": "markdown",
   "metadata": {},
   "source": [
    "### ROC curve and AUC value"
   ]
  },
  {
   "cell_type": "code",
   "execution_count": null,
   "metadata": {},
   "outputs": [],
   "source": [
    "AUC = roc_auc_score(y,y_pred)  \n",
    "fpr, tpr, thresholds = roc_curve(y,y_pred) \n",
    "plot_roc_curve(fpr,tpr,AUC)"
   ]
  },
  {
   "cell_type": "markdown",
   "metadata": {},
   "source": [
    "# Training and Prediction by SGDClassifier"
   ]
  },
  {
   "cell_type": "code",
   "execution_count": null,
   "metadata": {},
   "outputs": [],
   "source": [
    "y_pred=train_predict(trial_05,X_train,y_train,X_test,y_test)"
   ]
  },
  {
   "cell_type": "markdown",
   "metadata": {},
   "source": [
    "# Evaluation"
   ]
  },
  {
   "cell_type": "markdown",
   "metadata": {},
   "source": [
    "## a) train-test-split"
   ]
  },
  {
   "cell_type": "code",
   "execution_count": null,
   "metadata": {},
   "outputs": [],
   "source": [
    "cr=classification_report(y_test,y_pred)\n",
    "print(cr)\n",
    "Color_Confusion_Matrix(y=y,y_test=y_test,y_pred=y_pred)"
   ]
  },
  {
   "cell_type": "markdown",
   "metadata": {},
   "source": [
    "## b) 10 fold cross valdiation"
   ]
  },
  {
   "cell_type": "code",
   "execution_count": null,
   "metadata": {},
   "outputs": [],
   "source": [
    "y_pred = cross_val_predict(trial_05, X, y, cv=10)\n",
    "cr=classification_report(y,y_pred)\n",
    "print(cr)\n",
    "cm = confusion_matrix(y_pred,y)\n",
    "Color_Confusion_Matrix(y=y,y_test=y,y_pred=y_pred)"
   ]
  },
  {
   "cell_type": "markdown",
   "metadata": {},
   "source": [
    "### ROC curve and AUC value"
   ]
  },
  {
   "cell_type": "code",
   "execution_count": null,
   "metadata": {},
   "outputs": [],
   "source": [
    "AUC = roc_auc_score(y,y_pred)  \n",
    "fpr, tpr, thresholds = roc_curve(y,y_pred) \n",
    "plot_roc_curve(fpr,tpr,AUC)"
   ]
  },
  {
   "cell_type": "markdown",
   "metadata": {},
   "source": [
    "# Parameter Tuning on XGB Classifier"
   ]
  },
  {
   "cell_type": "code",
   "execution_count": null,
   "metadata": {},
   "outputs": [],
   "source": [
    "param_grid= {\n",
    "    'vect__max_df': (0.25, 0.5, 0.75),\n",
    "    'vect__ngram_range': [(1, 1), (1, 2), (1, 3)],\n",
    "   'clf__max_iter' : [400],\n",
    "   'clf__tol' : np.logspace(-4,0,5)\n",
    "}\n",
    "trial_02_01 = GridSearchCV(trial_02, param_grid=param_grid, cv=5, n_jobs=-1, verbose=0, error_score=0)"
   ]
  },
  {
   "cell_type": "code",
   "execution_count": null,
   "metadata": {},
   "outputs": [],
   "source": [
    "y_pred=train_predict(trial_02_01,X_train,y_train,X_test,y_test)"
   ]
  },
  {
   "cell_type": "markdown",
   "metadata": {},
   "source": [
    "## Evaluation after parameter tuning"
   ]
  },
  {
   "cell_type": "code",
   "execution_count": null,
   "metadata": {},
   "outputs": [],
   "source": [
    "cr=classification_report(y_test,y_pred)\n",
    "print(cr)\n",
    "Color_Confusion_Matrix(y=y,y_test=y_test,y_pred=y_pred)"
   ]
  },
  {
   "cell_type": "code",
   "execution_count": null,
   "metadata": {},
   "outputs": [],
   "source": [
    "cross_validation_accuracy(trial_02_01,X,y)"
   ]
  },
  {
   "cell_type": "code",
   "execution_count": null,
   "metadata": {},
   "outputs": [],
   "source": [
    "y_pred = cross_val_predict(trial_02_01, X, y, cv=10)\n",
    "cr=classification_report(y,y_pred)\n",
    "print(cr)\n",
    "cm = confusion_matrix(y_pred,y)\n",
    "Color_Confusion_Matrix(y=y,y_test=y,y_pred=y_pred)"
   ]
  },
  {
   "cell_type": "code",
   "execution_count": null,
   "metadata": {},
   "outputs": [],
   "source": [
    "AUC = roc_auc_score(y,y_pred)  \n",
    "fpr, tpr, thresholds = roc_curve(y,y_pred) \n",
    "plot_roc_curve(fpr,tpr,AUC)"
   ]
  },
  {
   "cell_type": "markdown",
   "metadata": {},
   "source": [
    "As you see the results are improved by parameter tuning"
   ]
  },
  {
   "cell_type": "markdown",
   "metadata": {},
   "source": [
    "# Explaining prediction by XGB classifier using eli5"
   ]
  },
  {
   "cell_type": "code",
   "execution_count": null,
   "metadata": {},
   "outputs": [],
   "source": [
    "from eli5 import show_weights\n",
    "show_weights(trial_05, top=60)"
   ]
  },
  {
   "cell_type": "code",
   "execution_count": null,
   "metadata": {},
   "outputs": [],
   "source": [
    "import eli5\n",
    "eli5.show_prediction(clf, X_train[22],vec=vec)"
   ]
  },
  {
   "cell_type": "code",
   "execution_count": null,
   "metadata": {},
   "outputs": [],
   "source": [
    "eli5.show_prediction(clf, X_train[28],vec=vec)"
   ]
  },
  {
   "cell_type": "code",
   "execution_count": null,
   "metadata": {},
   "outputs": [],
   "source": [
    "eli5.show_prediction(clf, X_train[55],vec=vec)"
   ]
  },
  {
   "cell_type": "code",
   "execution_count": null,
   "metadata": {},
   "outputs": [],
   "source": [
    "eli5.show_prediction(clf, X_train[25],vec=vec)"
   ]
  },
  {
   "cell_type": "markdown",
   "metadata": {},
   "source": [
    "# Subject Object features"
   ]
  },
  {
   "cell_type": "markdown",
   "metadata": {},
   "source": [
    "ELi5's explanation can give us a motivation to work on subject (also object) features "
   ]
  },
  {
   "cell_type": "code",
   "execution_count": null,
   "metadata": {},
   "outputs": [],
   "source": [
    "X_f=list(dfExoplanetsNASAannot[\"s\"])\n",
    "\n"
   ]
  },
  {
   "cell_type": "markdown",
   "metadata": {},
   "source": [
    "The features here are subjects and objects as following"
   ]
  },
  {
   "cell_type": "code",
   "execution_count": null,
   "metadata": {},
   "outputs": [],
   "source": [
    "X_f[0:5]"
   ]
  },
  {
   "cell_type": "code",
   "execution_count": null,
   "metadata": {},
   "outputs": [],
   "source": [
    "X,y = shuffle(X_f, y, random_state=42)\n",
    "X_train, X_test, y_train, y_test = train_test_split(\n",
    "X,y, test_size=0.25, random_state=42)    "
   ]
  },
  {
   "cell_type": "markdown",
   "metadata": {},
   "source": [
    "# XGB classifier on subject-object features"
   ]
  },
  {
   "cell_type": "code",
   "execution_count": null,
   "metadata": {},
   "outputs": [],
   "source": [
    "clf = XGBClassifier()\n",
    "vec = DictVectorizer()\n",
    "pipeline = make_pipeline(vec, clf)\n",
    "\n"
   ]
  },
  {
   "cell_type": "markdown",
   "metadata": {},
   "source": [
    "# Evalutaion "
   ]
  },
  {
   "cell_type": "code",
   "execution_count": null,
   "metadata": {},
   "outputs": [],
   "source": [
    "cross_validation_accuracy(pipeline,X,y)"
   ]
  },
  {
   "cell_type": "code",
   "execution_count": null,
   "metadata": {},
   "outputs": [],
   "source": [
    "y_pred=train_predict(pipeline,X_train,y_train,X_test,y_test)"
   ]
  },
  {
   "cell_type": "code",
   "execution_count": null,
   "metadata": {},
   "outputs": [],
   "source": [
    "cr=classification_report(y_test,y_pred)\n",
    "print(cr)\n",
    "Color_Confusion_Matrix(y=y,y_test=y_test,y_pred=y_pred)"
   ]
  },
  {
   "cell_type": "code",
   "execution_count": null,
   "metadata": {},
   "outputs": [],
   "source": [
    "y_pred = cross_val_predict(pipeline, X, y, cv=5)\n",
    "cr=classification_report(y,y_pred)\n",
    "print(cr)\n",
    "cm = confusion_matrix(y_pred,y)\n",
    "Color_Confusion_Matrix(y=y,y_test=y,y_pred=y_pred)"
   ]
  }
 ],
 "metadata": {
  "kernelspec": {
   "display_name": "Python 3",
   "language": "python",
   "name": "python3"
  },
  "language_info": {
   "codemirror_mode": {
    "name": "ipython",
    "version": 3
   },
   "file_extension": ".py",
   "mimetype": "text/x-python",
   "name": "python",
   "nbconvert_exporter": "python",
   "pygments_lexer": "ipython3",
   "version": "3.7.4"
  }
 },
 "nbformat": 4,
 "nbformat_minor": 4
}
