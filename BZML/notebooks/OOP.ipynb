{
 "cells": [
  {
   "cell_type": "markdown",
   "metadata": {},
   "source": [
    "# Vorlesung Kollaborative Wissenschaft \n",
    "\n",
    "Simulation von Kooperationsverhalten\n",
    "\n",
    "Gerd Graßhoff, Humboldt Universität zu Berlin"
   ]
  },
  {
   "cell_type": "code",
   "execution_count": 1,
   "metadata": {},
   "outputs": [],
   "source": [
    "from dataclasses import dataclass, make_dataclass,field,asdict\n",
    "from typing import List\n",
    "import random\n",
    "from random import sample\n",
    "import pandas as pd"
   ]
  },
  {
   "cell_type": "code",
   "execution_count": 2,
   "metadata": {},
   "outputs": [],
   "source": [
    "import qgrid"
   ]
  },
  {
   "cell_type": "code",
   "execution_count": 3,
   "metadata": {},
   "outputs": [],
   "source": [
    "import ipywidgets as widgets\n",
    "from ipywidgets import interact, interact_manual"
   ]
  },
  {
   "cell_type": "code",
   "execution_count": 4,
   "metadata": {},
   "outputs": [],
   "source": [
    "import plotly.express as px"
   ]
  },
  {
   "cell_type": "markdown",
   "metadata": {},
   "source": [
    "# Epistemic systems\n",
    "## Research results"
   ]
  },
  {
   "cell_type": "code",
   "execution_count": 5,
   "metadata": {},
   "outputs": [],
   "source": [
    "@dataclass\n",
    "class Vorhaben():\n",
    "    id: int\n",
    "    aufwand: float=100.0"
   ]
  },
  {
   "cell_type": "code",
   "execution_count": 6,
   "metadata": {},
   "outputs": [],
   "source": [
    "# ein Forschungsobjekt des Vorhaben mit der ID=1\n",
    "erg=Vorhaben(id=1)"
   ]
  },
  {
   "cell_type": "code",
   "execution_count": 7,
   "metadata": {},
   "outputs": [
    {
     "name": "stdout",
     "output_type": "stream",
     "text": [
      "Forschungsergebnis Vorhaben(id=1, aufwand=100.0) mit ID=1\n"
     ]
    }
   ],
   "source": [
    "print(f\"Forschungsergebnis {erg} mit ID={erg.id}\")"
   ]
  },
  {
   "cell_type": "markdown",
   "metadata": {},
   "source": [
    "## List of results: knowledge"
   ]
  },
  {
   "cell_type": "code",
   "execution_count": 8,
   "metadata": {},
   "outputs": [
    {
     "data": {
      "text/plain": [
       "[Vorhaben(id=0, aufwand=100.0),\n",
       " Vorhaben(id=1, aufwand=100.0),\n",
       " Vorhaben(id=2, aufwand=100.0),\n",
       " Vorhaben(id=3, aufwand=100.0),\n",
       " Vorhaben(id=4, aufwand=100.0)]"
      ]
     },
     "execution_count": 8,
     "metadata": {},
     "output_type": "execute_result"
    }
   ],
   "source": [
    "# Wissen\n",
    "wissensumfang=5\n",
    "wissen=[Vorhaben(k) for k in range(wissensumfang)]\n",
    "wissen"
   ]
  },
  {
   "cell_type": "code",
   "execution_count": 9,
   "metadata": {},
   "outputs": [
    {
     "data": {
      "text/plain": [
       "100"
      ]
     },
     "execution_count": 9,
     "metadata": {},
     "output_type": "execute_result"
    }
   ],
   "source": [
    "wissen[3].wert = 100\n",
    "wissen[3].wert"
   ]
  },
  {
   "cell_type": "code",
   "execution_count": 10,
   "metadata": {},
   "outputs": [
    {
     "data": {
      "text/plain": [
       "[Vorhaben(id=4, aufwand=100.0),\n",
       " Vorhaben(id=2, aufwand=100.0),\n",
       " Vorhaben(id=1, aufwand=100.0)]"
      ]
     },
     "execution_count": 10,
     "metadata": {},
     "output_type": "execute_result"
    }
   ],
   "source": [
    "# Zufallsauswahl von 3 Elementen\n",
    "sample(wissen,3)"
   ]
  },
  {
   "cell_type": "code",
   "execution_count": 11,
   "metadata": {},
   "outputs": [],
   "source": [
    "def auswahl(wissen,key,val):\n",
    "    c=[]\n",
    "    for x in wissen:\n",
    "        d=asdict(x)\n",
    "        if d[key]==val:\n",
    "            c.append(x)\n",
    "    return(c)"
   ]
  },
  {
   "cell_type": "code",
   "execution_count": 12,
   "metadata": {},
   "outputs": [
    {
     "data": {
      "text/plain": [
       "[Vorhaben(id=0, aufwand=100.0),\n",
       " Vorhaben(id=1, aufwand=100.0),\n",
       " Vorhaben(id=2, aufwand=100.0),\n",
       " Vorhaben(id=3, aufwand=100.0),\n",
       " Vorhaben(id=4, aufwand=100.0)]"
      ]
     },
     "execution_count": 12,
     "metadata": {},
     "output_type": "execute_result"
    }
   ],
   "source": [
    "auswahl(wissen,\"aufwand\",100)"
   ]
  },
  {
   "cell_type": "markdown",
   "metadata": {},
   "source": [
    "### Forscher"
   ]
  },
  {
   "cell_type": "code",
   "execution_count": 13,
   "metadata": {},
   "outputs": [],
   "source": [
    "@dataclass\n",
    "class Forscher:\n",
    "    name: str\n",
    "    energie: int\n",
    "    last: str\n",
    "    kompetenzen: List[Vorhaben]\n",
    "        \n",
    "    def __init__(self,name:str,kompetenzen=List[Vorhaben]):\n",
    "                self.name=name\n",
    "                self.energie=100\n",
    "                self.kompetenzen=sample(wissen,2)"
   ]
  },
  {
   "cell_type": "code",
   "execution_count": 14,
   "metadata": {},
   "outputs": [
    {
     "name": "stdout",
     "output_type": "stream",
     "text": [
      "Zahl der Forscher = 2\n",
      "Forscher Müller hat die kompetenzen [Vorhaben(id=1, aufwand=100.0), Vorhaben(id=0, aufwand=100.0)]\n"
     ]
    }
   ],
   "source": [
    "forscher=[Forscher(\"Bednorz\"),Forscher(\"Müller\")]\n",
    "# Zahl Forscher\n",
    "forscherzahl=len(forscher)\n",
    "print(f\"Zahl der Forscher = {forscherzahl}\")\n",
    "print(f\"Forscher {forscher[1].name} hat die kompetenzen {forscher[1].kompetenzen}\")"
   ]
  },
  {
   "cell_type": "raw",
   "metadata": {},
   "source": [
    "#### Forschungsziele\n",
    "\n",
    "Forschungsziele eines Forschers F sind Vorhaben, die ein Forscher nicht in seinen Kompetenzen erfolgreich ausgeführt hat."
   ]
  },
  {
   "cell_type": "code",
   "execution_count": 15,
   "metadata": {},
   "outputs": [],
   "source": [
    "# Auswahl von zu erzielenden Ergebnissen für einen Forscher F\n",
    "def forschungsziel(F):\n",
    "    fz=[]\n",
    "    for x in wissen:\n",
    "        if x in F.kompetenzen:\n",
    "            pass\n",
    "        else:\n",
    "            fz=x\n",
    "            break\n",
    "    return(fz)"
   ]
  },
  {
   "cell_type": "code",
   "execution_count": 16,
   "metadata": {},
   "outputs": [],
   "source": [
    "def addKompetenz(F,x):\n",
    "    '''Ein Forscher erwirbt das Ergebnis x als neue Komptenz'''\n",
    "    # only add new competences x\n",
    "    if x in F.kompetenzen:\n",
    "        pass\n",
    "    else:\n",
    "        F.kompetenzen.append(x)"
   ]
  },
  {
   "cell_type": "code",
   "execution_count": 17,
   "metadata": {},
   "outputs": [
    {
     "name": "stdout",
     "output_type": "stream",
     "text": [
      "forschungsziele des Forschers Bednorz sind: Vorhaben(id=0, aufwand=100.0)\n",
      "\n",
      "Nach dem neuen Forschungsziel: **Vorhaben(id=0, aufwand=100.0)** verfügt der Forscher über neue Kompetenzen: [Vorhaben(id=1, aufwand=100.0), Vorhaben(id=4, aufwand=100.0), Vorhaben(id=0, aufwand=100.0)]\n"
     ]
    }
   ],
   "source": [
    "fz=forschungsziel(forscher[0])\n",
    "print(f\"forschungsziele des Forschers {forscher[0].name} sind: {fz}\\n\")\n",
    "addKompetenz(forscher[0],fz)\n",
    "print(f\"Nach dem neuen Forschungsziel: **{fz}** verfügt der Forscher über neue Kompetenzen: {forscher[0].kompetenzen}\")"
   ]
  },
  {
   "cell_type": "markdown",
   "metadata": {},
   "source": [
    "# Forschungshandlungen"
   ]
  },
  {
   "cell_type": "code",
   "execution_count": 18,
   "metadata": {},
   "outputs": [],
   "source": [
    "def forscherWahl(F):\n",
    "    for i in range(forscherzahl):\n",
    "        NF=forscher[i]\n",
    "        if F.name != NF.name:\n",
    "            break\n",
    "    return(NF)"
   ]
  },
  {
   "cell_type": "code",
   "execution_count": 19,
   "metadata": {},
   "outputs": [],
   "source": [
    "def entscheidung(F,ziel):\n",
    "    if F.name==\"Kepler\":\n",
    "        dec=\"s\"\n",
    "    else:\n",
    "        dec=\"t\"\n",
    "    return(dec)"
   ]
  },
  {
   "cell_type": "code",
   "execution_count": 20,
   "metadata": {},
   "outputs": [
    {
     "data": {
      "text/plain": [
       "[0, 10]"
      ]
     },
     "execution_count": 20,
     "metadata": {},
     "output_type": "execute_result"
    }
   ],
   "source": [
    "matrix={\"t\":{\"t\":[7,7],\"s\":[0,10]},\"s\":{\"t\":[10,0],\"s\":[2,2]}}\n",
    "matrix[\"t\"][\"s\"]"
   ]
  },
  {
   "cell_type": "code",
   "execution_count": 21,
   "metadata": {},
   "outputs": [],
   "source": [
    "def forschungsschritt():\n",
    "    A=forscher[0]\n",
    "    E=forschungsziel(A)\n",
    "    B=forscherWahl(A)\n",
    "    decA=entscheidung(A,E) \n",
    "    decB=entscheidung(B,E)\n",
    "    ergeb=matrix[decA][decB]\n",
    "    if decA==\"t\" and decB==\"t\":\n",
    "        addKompetenz(A,E)\n",
    "        addKompetenz(B,E)\n",
    "    if decA==\"t\" and decB==\"s\":\n",
    "        addKompetenz(B,E)\n",
    "    if decA==\"s\" and decB==\"t\":\n",
    "        addKompetenz(A,E)\n",
    "    if decA==\"s\" and decB==\"s\":\n",
    "        pass\n",
    "    A.last=decA\n",
    "    B.last=decB\n",
    "    A.energie=A.energie-ergeb[0]\n",
    "    B.energie=B.energie-ergeb[1]"
   ]
  },
  {
   "cell_type": "code",
   "execution_count": 22,
   "metadata": {},
   "outputs": [
    {
     "data": {
      "text/plain": [
       "[Vorhaben(id=1, aufwand=100.0),\n",
       " Vorhaben(id=4, aufwand=100.0),\n",
       " Vorhaben(id=0, aufwand=100.0)]"
      ]
     },
     "execution_count": 22,
     "metadata": {},
     "output_type": "execute_result"
    }
   ],
   "source": [
    "forscher[0].kompetenzen"
   ]
  },
  {
   "cell_type": "markdown",
   "metadata": {},
   "source": [
    "# Forschungsprozess\n",
    "## Initialisierung"
   ]
  },
  {
   "cell_type": "code",
   "execution_count": 23,
   "metadata": {},
   "outputs": [],
   "source": [
    "def forscherprofil():\n",
    "    f0=forscher[0]\n",
    "    f1=forscher[1]\n",
    "    lW1=len(f0.kompetenzen)\n",
    "    lW2=len(f1.kompetenzen)\n",
    "    fp={\"f1\":f0.name,\"w1\":lW1,\"en1\":f0.energie,\"last1\":f0.last,\"f2\":f1.name,\"w2\":lW2,\"en2\":f1.energie,\"last2\":f1.last}\n",
    "    return(fp)"
   ]
  },
  {
   "cell_type": "code",
   "execution_count": 24,
   "metadata": {},
   "outputs": [],
   "source": [
    "## Dataframe als Tagebuch\n",
    "forschungsProzess=pd.DataFrame(columns=[\"f1\",\"w1\",\"en1\",\"last1\",\"f2\",\"w2\",\"en2\",\"last2\"])\n",
    "## forscher\n",
    "forscher=[Forscher(\"Kepler\")]\n",
    "forscher.append(Forscher(\"Brahe\"))\n",
    "## wissen\n",
    "umfangwissen=50\n",
    "wissen=[Vorhaben(k) for k in range(umfangwissen)]"
   ]
  },
  {
   "cell_type": "markdown",
   "metadata": {},
   "source": [
    "## Simulation"
   ]
  },
  {
   "cell_type": "code",
   "execution_count": 25,
   "metadata": {},
   "outputs": [],
   "source": [
    "for s in range(10):\n",
    "    forschungsschritt()\n",
    "    forschungsProzess=forschungsProzess.append(forscherprofil(),ignore_index=True)"
   ]
  },
  {
   "cell_type": "code",
   "execution_count": 26,
   "metadata": {},
   "outputs": [
    {
     "data": {
      "text/html": [
       "<div>\n",
       "<style scoped>\n",
       "    .dataframe tbody tr th:only-of-type {\n",
       "        vertical-align: middle;\n",
       "    }\n",
       "\n",
       "    .dataframe tbody tr th {\n",
       "        vertical-align: top;\n",
       "    }\n",
       "\n",
       "    .dataframe thead th {\n",
       "        text-align: right;\n",
       "    }\n",
       "</style>\n",
       "<table border=\"1\" class=\"dataframe\">\n",
       "  <thead>\n",
       "    <tr style=\"text-align: right;\">\n",
       "      <th></th>\n",
       "      <th>f1</th>\n",
       "      <th>w1</th>\n",
       "      <th>en1</th>\n",
       "      <th>last1</th>\n",
       "      <th>f2</th>\n",
       "      <th>w2</th>\n",
       "      <th>en2</th>\n",
       "      <th>last2</th>\n",
       "    </tr>\n",
       "  </thead>\n",
       "  <tbody>\n",
       "    <tr>\n",
       "      <td>0</td>\n",
       "      <td>Kepler</td>\n",
       "      <td>3</td>\n",
       "      <td>90</td>\n",
       "      <td>s</td>\n",
       "      <td>Brahe</td>\n",
       "      <td>2</td>\n",
       "      <td>100</td>\n",
       "      <td>t</td>\n",
       "    </tr>\n",
       "    <tr>\n",
       "      <td>1</td>\n",
       "      <td>Kepler</td>\n",
       "      <td>4</td>\n",
       "      <td>80</td>\n",
       "      <td>s</td>\n",
       "      <td>Brahe</td>\n",
       "      <td>2</td>\n",
       "      <td>100</td>\n",
       "      <td>t</td>\n",
       "    </tr>\n",
       "    <tr>\n",
       "      <td>2</td>\n",
       "      <td>Kepler</td>\n",
       "      <td>5</td>\n",
       "      <td>70</td>\n",
       "      <td>s</td>\n",
       "      <td>Brahe</td>\n",
       "      <td>2</td>\n",
       "      <td>100</td>\n",
       "      <td>t</td>\n",
       "    </tr>\n",
       "    <tr>\n",
       "      <td>3</td>\n",
       "      <td>Kepler</td>\n",
       "      <td>6</td>\n",
       "      <td>60</td>\n",
       "      <td>s</td>\n",
       "      <td>Brahe</td>\n",
       "      <td>2</td>\n",
       "      <td>100</td>\n",
       "      <td>t</td>\n",
       "    </tr>\n",
       "    <tr>\n",
       "      <td>4</td>\n",
       "      <td>Kepler</td>\n",
       "      <td>7</td>\n",
       "      <td>50</td>\n",
       "      <td>s</td>\n",
       "      <td>Brahe</td>\n",
       "      <td>2</td>\n",
       "      <td>100</td>\n",
       "      <td>t</td>\n",
       "    </tr>\n",
       "    <tr>\n",
       "      <td>5</td>\n",
       "      <td>Kepler</td>\n",
       "      <td>8</td>\n",
       "      <td>40</td>\n",
       "      <td>s</td>\n",
       "      <td>Brahe</td>\n",
       "      <td>2</td>\n",
       "      <td>100</td>\n",
       "      <td>t</td>\n",
       "    </tr>\n",
       "    <tr>\n",
       "      <td>6</td>\n",
       "      <td>Kepler</td>\n",
       "      <td>9</td>\n",
       "      <td>30</td>\n",
       "      <td>s</td>\n",
       "      <td>Brahe</td>\n",
       "      <td>2</td>\n",
       "      <td>100</td>\n",
       "      <td>t</td>\n",
       "    </tr>\n",
       "    <tr>\n",
       "      <td>7</td>\n",
       "      <td>Kepler</td>\n",
       "      <td>10</td>\n",
       "      <td>20</td>\n",
       "      <td>s</td>\n",
       "      <td>Brahe</td>\n",
       "      <td>2</td>\n",
       "      <td>100</td>\n",
       "      <td>t</td>\n",
       "    </tr>\n",
       "    <tr>\n",
       "      <td>8</td>\n",
       "      <td>Kepler</td>\n",
       "      <td>11</td>\n",
       "      <td>10</td>\n",
       "      <td>s</td>\n",
       "      <td>Brahe</td>\n",
       "      <td>2</td>\n",
       "      <td>100</td>\n",
       "      <td>t</td>\n",
       "    </tr>\n",
       "    <tr>\n",
       "      <td>9</td>\n",
       "      <td>Kepler</td>\n",
       "      <td>12</td>\n",
       "      <td>0</td>\n",
       "      <td>s</td>\n",
       "      <td>Brahe</td>\n",
       "      <td>2</td>\n",
       "      <td>100</td>\n",
       "      <td>t</td>\n",
       "    </tr>\n",
       "  </tbody>\n",
       "</table>\n",
       "</div>"
      ],
      "text/plain": [
       "       f1  w1 en1 last1     f2 w2  en2 last2\n",
       "0  Kepler   3  90     s  Brahe  2  100     t\n",
       "1  Kepler   4  80     s  Brahe  2  100     t\n",
       "2  Kepler   5  70     s  Brahe  2  100     t\n",
       "3  Kepler   6  60     s  Brahe  2  100     t\n",
       "4  Kepler   7  50     s  Brahe  2  100     t\n",
       "5  Kepler   8  40     s  Brahe  2  100     t\n",
       "6  Kepler   9  30     s  Brahe  2  100     t\n",
       "7  Kepler  10  20     s  Brahe  2  100     t\n",
       "8  Kepler  11  10     s  Brahe  2  100     t\n",
       "9  Kepler  12   0     s  Brahe  2  100     t"
      ]
     },
     "execution_count": 26,
     "metadata": {},
     "output_type": "execute_result"
    }
   ],
   "source": [
    "forschungsProzess.head(10)"
   ]
  },
  {
   "cell_type": "markdown",
   "metadata": {},
   "source": [
    "# Dashboard Simulation Forschungskollaboration"
   ]
  },
  {
   "cell_type": "code",
   "execution_count": 30,
   "metadata": {},
   "outputs": [
    {
     "data": {
      "application/vnd.jupyter.widget-view+json": {
       "model_id": "126ef5e456124728b832939c8bd77261",
       "version_major": 2,
       "version_minor": 0
      },
      "text/plain": [
       "interactive(children=(Text(value='en1', description='column'), IntSlider(value=100, description='x', max=300, …"
      ]
     },
     "metadata": {},
     "output_type": "display_data"
    }
   ],
   "source": [
    "@interact\n",
    "def show_articles_more_than(column='en1', x=100):\n",
    "    return forschungsProzess.loc[forschungsProzess[column] < x]"
   ]
  },
  {
   "cell_type": "code",
   "execution_count": 28,
   "metadata": {},
   "outputs": [
    {
     "ename": "AttributeError",
     "evalue": "'Series' object has no attribute 'iplot'",
     "output_type": "error",
     "traceback": [
      "\u001b[1;31m---------------------------------------------------------------------------\u001b[0m",
      "\u001b[1;31mAttributeError\u001b[0m                            Traceback (most recent call last)",
      "\u001b[1;32m<ipython-input-28-0e90b6d68f2e>\u001b[0m in \u001b[0;36m<module>\u001b[1;34m\u001b[0m\n\u001b[1;32m----> 1\u001b[1;33m forschungsProzess[\"w1\"].iplot(kind='hist', xTitle='Zahl Kollaborationen',\n\u001b[0m\u001b[0;32m      2\u001b[0m                   yTitle='count', title='Kompetenzentwicklung')\n",
      "\u001b[1;32m~\\Anaconda3\\lib\\site-packages\\pandas\\core\\generic.py\u001b[0m in \u001b[0;36m__getattr__\u001b[1;34m(self, name)\u001b[0m\n\u001b[0;32m   5177\u001b[0m             \u001b[1;32mif\u001b[0m \u001b[0mself\u001b[0m\u001b[1;33m.\u001b[0m\u001b[0m_info_axis\u001b[0m\u001b[1;33m.\u001b[0m\u001b[0m_can_hold_identifiers_and_holds_name\u001b[0m\u001b[1;33m(\u001b[0m\u001b[0mname\u001b[0m\u001b[1;33m)\u001b[0m\u001b[1;33m:\u001b[0m\u001b[1;33m\u001b[0m\u001b[1;33m\u001b[0m\u001b[0m\n\u001b[0;32m   5178\u001b[0m                 \u001b[1;32mreturn\u001b[0m \u001b[0mself\u001b[0m\u001b[1;33m[\u001b[0m\u001b[0mname\u001b[0m\u001b[1;33m]\u001b[0m\u001b[1;33m\u001b[0m\u001b[1;33m\u001b[0m\u001b[0m\n\u001b[1;32m-> 5179\u001b[1;33m             \u001b[1;32mreturn\u001b[0m \u001b[0mobject\u001b[0m\u001b[1;33m.\u001b[0m\u001b[0m__getattribute__\u001b[0m\u001b[1;33m(\u001b[0m\u001b[0mself\u001b[0m\u001b[1;33m,\u001b[0m \u001b[0mname\u001b[0m\u001b[1;33m)\u001b[0m\u001b[1;33m\u001b[0m\u001b[1;33m\u001b[0m\u001b[0m\n\u001b[0m\u001b[0;32m   5180\u001b[0m \u001b[1;33m\u001b[0m\u001b[0m\n\u001b[0;32m   5181\u001b[0m     \u001b[1;32mdef\u001b[0m \u001b[0m__setattr__\u001b[0m\u001b[1;33m(\u001b[0m\u001b[0mself\u001b[0m\u001b[1;33m,\u001b[0m \u001b[0mname\u001b[0m\u001b[1;33m,\u001b[0m \u001b[0mvalue\u001b[0m\u001b[1;33m)\u001b[0m\u001b[1;33m:\u001b[0m\u001b[1;33m\u001b[0m\u001b[1;33m\u001b[0m\u001b[0m\n",
      "\u001b[1;31mAttributeError\u001b[0m: 'Series' object has no attribute 'iplot'"
     ]
    }
   ],
   "source": [
    "forschungsProzess[\"w1\"].iplot(kind='hist', xTitle='Zahl Kollaborationen',\n",
    "                  yTitle='count', title='Kompetenzentwicklung')"
   ]
  },
  {
   "cell_type": "markdown",
   "metadata": {},
   "source": [
    "# Visualisation\n",
    "\n",
    "https://plot.ly/python/plotly-express/\n",
    "\n",
    "https://towardsdatascience.com/the-next-level-of-data-visualization-in-python-dd6e99039d5e"
   ]
  },
  {
   "cell_type": "code",
   "execution_count": 29,
   "metadata": {},
   "outputs": [
    {
     "ename": "SyntaxError",
     "evalue": "invalid syntax (<ipython-input-29-f41d3fcd182a>, line 1)",
     "output_type": "error",
     "traceback": [
      "\u001b[1;36m  File \u001b[1;32m\"<ipython-input-29-f41d3fcd182a>\"\u001b[1;36m, line \u001b[1;32m1\u001b[0m\n\u001b[1;33m    fig=ox.bar(forschungsProzess,x=)\u001b[0m\n\u001b[1;37m                                   ^\u001b[0m\n\u001b[1;31mSyntaxError\u001b[0m\u001b[1;31m:\u001b[0m invalid syntax\n"
     ]
    }
   ],
   "source": [
    "fig=ox.bar(forschungsProzess,x=)"
   ]
  },
  {
   "cell_type": "code",
   "execution_count": null,
   "metadata": {},
   "outputs": [],
   "source": []
  }
 ],
 "metadata": {
  "kernelspec": {
   "display_name": "Python 3",
   "language": "python",
   "name": "python3"
  },
  "language_info": {
   "codemirror_mode": {
    "name": "ipython",
    "version": 3
   },
   "file_extension": ".py",
   "mimetype": "text/x-python",
   "name": "python",
   "nbconvert_exporter": "python",
   "pygments_lexer": "ipython3",
   "version": "3.7.4"
  }
 },
 "nbformat": 4,
 "nbformat_minor": 4
}
