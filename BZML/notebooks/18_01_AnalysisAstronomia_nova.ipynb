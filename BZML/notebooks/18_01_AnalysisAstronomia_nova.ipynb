{
 "cells": [
  {
   "cell_type": "markdown",
   "metadata": {},
   "source": [
    "## Automatic extraction and classification of explicit observational sentences in \"Astronomia nova\" \n",
    " Gerd Graßhoff$^{(1,2)}$, Mohammad Yeghaneh$^{(2)}$\n",
    "\n",
    "1: Max-Planck-Institute for the History of Science, Berlin\n",
    "\n",
    "2: Humboldt University, Berlin\n",
    "\n",
    "Date: November 2019"
   ]
  },
  {
   "cell_type": "code",
   "execution_count": 3,
   "metadata": {},
   "outputs": [],
   "source": [
    "import pandas as pd\n",
    "import numpy as np\n",
    "%load_ext autoreload\n",
    "%autoreload 2\n",
    "import utility_01\n",
    "from utility_01 import *\n",
    "from sklearn.metrics import roc_curve ,roc_auc_score ,precision_recall_curve,auc,confusion_matrix,classification_report\n",
    "from warnings import filterwarnings\n",
    "filterwarnings('ignore')\n",
    "import matplotlib.pyplot as plt\n",
    "import random \n",
    "import ipywidgets as widget\n",
    "from ipywidgets import interact\n",
    "\n"
   ]
  },
  {
   "cell_type": "code",
   "execution_count": 4,
   "metadata": {},
   "outputs": [],
   "source": [
    "options = {\"compact\": True, \"bg\": \"#09a3d5\",\n",
    "           \"color\": \"white\", \"font\": \"Source Sans Pro\",\"collapse_phrases\":False}"
   ]
  },
  {
   "cell_type": "code",
   "execution_count": 5,
   "metadata": {},
   "outputs": [],
   "source": [
    "pd.set_option('display.max_colwidth', -1)\n",
    "pd.set_option('max_colwidth', 1000)\n"
   ]
  },
  {
   "cell_type": "markdown",
   "metadata": {},
   "source": [
    "## Resources"
   ]
  },
  {
   "cell_type": "markdown",
   "metadata": {},
   "source": [
    "### Import resources *"
   ]
  },
  {
   "cell_type": "code",
   "execution_count": 6,
   "metadata": {},
   "outputs": [],
   "source": [
    "# here I have tried citableclass using DOI and It works! after full agreement on the data (part of book) we can use it. Since we can not change it in Zenodo after upload."
   ]
  },
  {
   "cell_type": "code",
   "execution_count": 7,
   "metadata": {},
   "outputs": [],
   "source": [
    "df=pd.read_json('../data/dfV05A02.json');\n",
    "df=df.sort_index();\n",
    "df=df.reset_index(drop=True)"
   ]
  },
  {
   "cell_type": "markdown",
   "metadata": {},
   "source": [
    "Sample of the first sentences of the book in the dataframe format "
   ]
  },
  {
   "cell_type": "code",
   "execution_count": 8,
   "metadata": {},
   "outputs": [
    {
     "data": {
      "text/html": [
       "<div>\n",
       "<style scoped>\n",
       "    .dataframe tbody tr th:only-of-type {\n",
       "        vertical-align: middle;\n",
       "    }\n",
       "\n",
       "    .dataframe tbody tr th {\n",
       "        vertical-align: top;\n",
       "    }\n",
       "\n",
       "    .dataframe thead th {\n",
       "        text-align: right;\n",
       "    }\n",
       "</style>\n",
       "<table border=\"1\" class=\"dataframe\">\n",
       "  <thead>\n",
       "    <tr style=\"text-align: right;\">\n",
       "      <th></th>\n",
       "      <th>Chapter</th>\n",
       "      <th>ParaIndex</th>\n",
       "      <th>SentIndex</th>\n",
       "      <th>Paragraph</th>\n",
       "      <th>Sentence</th>\n",
       "      <th>Entities</th>\n",
       "    </tr>\n",
       "  </thead>\n",
       "  <tbody>\n",
       "    <tr>\n",
       "      <td>0</td>\n",
       "      <td>1</td>\n",
       "      <td>0</td>\n",
       "      <td>0</td>\n",
       "      <td>Chapter 1</td>\n",
       "      <td>Chapter 1</td>\n",
       "      <td>[]</td>\n",
       "    </tr>\n",
       "    <tr>\n",
       "      <td>1</td>\n",
       "      <td>1</td>\n",
       "      <td>1</td>\n",
       "      <td>1</td>\n",
       "      <td>On the distinction between the first motion and the second or proper motions; and in the proper motions, between the first and the second inequality.</td>\n",
       "      <td>On the distinction between the first motion and the second or proper motions; and in the proper motions, between the first and the second inequality.</td>\n",
       "      <td>[]</td>\n",
       "    </tr>\n",
       "    <tr>\n",
       "      <td>2</td>\n",
       "      <td>1</td>\n",
       "      <td>2</td>\n",
       "      <td>2</td>\n",
       "      <td>The testimony of the ages confirms that the motions of the planets are orbicular.  Reason, having borrowed from experience, immediately presumes this: that their gyrations are perfect circles. For among figures it is circles, and among bodies the heavens, that are considered the most perfect. However, when experience seems to teach something different to those who pay careful attention, namely, that the planets deviate from a simple circular path, it gives rise to a powerful sense of wonder, which at length drives people to look into causes.</td>\n",
       "      <td>The testimony of the ages confirms that the motions of the planets are orbicular.</td>\n",
       "      <td>[]</td>\n",
       "    </tr>\n",
       "    <tr>\n",
       "      <td>3</td>\n",
       "      <td>1</td>\n",
       "      <td>2</td>\n",
       "      <td>3</td>\n",
       "      <td>The testimony of the ages confirms that the motions of the planets are orbicular.  Reason, having borrowed from experience, immediately presumes this: that their gyrations are perfect circles. For among figures it is circles, and among bodies the heavens, that are considered the most perfect. However, when experience seems to teach something different to those who pay careful attention, namely, that the planets deviate from a simple circular path, it gives rise to a powerful sense of wonder, which at length drives people to look into causes.</td>\n",
       "      <td>Reason, having borrowed from experience, immediately presumes this: that their gyrations are perfect circles.</td>\n",
       "      <td>[]</td>\n",
       "    </tr>\n",
       "    <tr>\n",
       "      <td>4</td>\n",
       "      <td>1</td>\n",
       "      <td>2</td>\n",
       "      <td>4</td>\n",
       "      <td>The testimony of the ages confirms that the motions of the planets are orbicular.  Reason, having borrowed from experience, immediately presumes this: that their gyrations are perfect circles. For among figures it is circles, and among bodies the heavens, that are considered the most perfect. However, when experience seems to teach something different to those who pay careful attention, namely, that the planets deviate from a simple circular path, it gives rise to a powerful sense of wonder, which at length drives people to look into causes.</td>\n",
       "      <td>For among figures it is circles, and among bodies the heavens, that are considered the most perfect.</td>\n",
       "      <td>[]</td>\n",
       "    </tr>\n",
       "    <tr>\n",
       "      <td>...</td>\n",
       "      <td>...</td>\n",
       "      <td>...</td>\n",
       "      <td>...</td>\n",
       "      <td>...</td>\n",
       "      <td>...</td>\n",
       "      <td>...</td>\n",
       "    </tr>\n",
       "    <tr>\n",
       "      <td>64</td>\n",
       "      <td>1</td>\n",
       "      <td>15</td>\n",
       "      <td>64</td>\n",
       "      <td>But since the sun's mean and apparent motions*  are two different things, for the sun, too, is subject to the first inequality, the question is raised which of these releases the planets from the second inequality, and whether the planets should be considered when at opposition to the sun's apparent position or its mean position. Ptolemy chose the mean motion, thinking that the difference (if any) between taking the mean sun and the apparent sun could not be perceived in the observations, but that the form of computation and of the proofs would become free from difficulty if the sun's mean motion were taken. Copernicus and Tycho followed Ptolemy, carrying over his assumptions. I, as you see in Ch. 15 of my Mysterium cosmographicum, instead establish the apparent position, the true body of the sun, as my reference point, and will vindicate that position with proofs in Parts 4 and 5 of this work.</td>\n",
       "      <td>Copernicus and Tycho followed Ptolemy, carrying over his assumptions.</td>\n",
       "      <td>[[Copernicus, NAME]]</td>\n",
       "    </tr>\n",
       "    <tr>\n",
       "      <td>65</td>\n",
       "      <td>1</td>\n",
       "      <td>15</td>\n",
       "      <td>65</td>\n",
       "      <td>But since the sun's mean and apparent motions*  are two different things, for the sun, too, is subject to the first inequality, the question is raised which of these releases the planets from the second inequality, and whether the planets should be considered when at opposition to the sun's apparent position or its mean position. Ptolemy chose the mean motion, thinking that the difference (if any) between taking the mean sun and the apparent sun could not be perceived in the observations, but that the form of computation and of the proofs would become free from difficulty if the sun's mean motion were taken. Copernicus and Tycho followed Ptolemy, carrying over his assumptions. I, as you see in Ch. 15 of my Mysterium cosmographicum, instead establish the apparent position, the true body of the sun, as my reference point, and will vindicate that position with proofs in Parts 4 and 5 of this work.</td>\n",
       "      <td>I, as you see in Ch.</td>\n",
       "      <td>[]</td>\n",
       "    </tr>\n",
       "    <tr>\n",
       "      <td>66</td>\n",
       "      <td>1</td>\n",
       "      <td>15</td>\n",
       "      <td>66</td>\n",
       "      <td>But since the sun's mean and apparent motions*  are two different things, for the sun, too, is subject to the first inequality, the question is raised which of these releases the planets from the second inequality, and whether the planets should be considered when at opposition to the sun's apparent position or its mean position. Ptolemy chose the mean motion, thinking that the difference (if any) between taking the mean sun and the apparent sun could not be perceived in the observations, but that the form of computation and of the proofs would become free from difficulty if the sun's mean motion were taken. Copernicus and Tycho followed Ptolemy, carrying over his assumptions. I, as you see in Ch. 15 of my Mysterium cosmographicum, instead establish the apparent position, the true body of the sun, as my reference point, and will vindicate that position with proofs in Parts 4 and 5 of this work.</td>\n",
       "      <td>15 of my Mysterium cosmographicum, instead establish the apparent position, the true body of the sun, as my reference point, and will vindicate that position with proofs in Parts 4 and 5 of this work.</td>\n",
       "      <td>[]</td>\n",
       "    </tr>\n",
       "    <tr>\n",
       "      <td>67</td>\n",
       "      <td>1</td>\n",
       "      <td>16</td>\n",
       "      <td>67</td>\n",
       "      <td>But before that, I shall prove in this first part that one who substitutes the sun's apparent for its mean motion establishes a completely different orbit for the planet in the aether, whichever of the more celebrated opinions of the world he follows. Since this proof depends upon the equivalence of hypotheses, we shall begin with this equivalence.</td>\n",
       "      <td>But before that, I shall prove in this first part that one who substitutes the sun's apparent for its mean motion establishes a completely different orbit for the planet in the aether, whichever of the more celebrated opinions of the world he follows.</td>\n",
       "      <td>[[orbit, ASTR], [aether, ASTR]]</td>\n",
       "    </tr>\n",
       "    <tr>\n",
       "      <td>68</td>\n",
       "      <td>1</td>\n",
       "      <td>16</td>\n",
       "      <td>68</td>\n",
       "      <td>But before that, I shall prove in this first part that one who substitutes the sun's apparent for its mean motion establishes a completely different orbit for the planet in the aether, whichever of the more celebrated opinions of the world he follows. Since this proof depends upon the equivalence of hypotheses, we shall begin with this equivalence.</td>\n",
       "      <td>Since this proof depends upon the equivalence of hypotheses, we shall begin with this equivalence.</td>\n",
       "      <td>[]</td>\n",
       "    </tr>\n",
       "  </tbody>\n",
       "</table>\n",
       "<p>69 rows × 6 columns</p>\n",
       "</div>"
      ],
      "text/plain": [
       "   Chapter  ParaIndex  SentIndex  \\\n",
       "0        1          0          0   \n",
       "1        1          1          1   \n",
       "2        1          2          2   \n",
       "3        1          2          3   \n",
       "4        1          2          4   \n",
       "..     ...        ...        ...   \n",
       "64       1         15         64   \n",
       "65       1         15         65   \n",
       "66       1         15         66   \n",
       "67       1         16         67   \n",
       "68       1         16         68   \n",
       "\n",
       "                                                                                                                                                                                                                                                                                                                                                                                                                                                                                                                                                                                                                                                                                                                                                                                                                                                                                                                                      Paragraph  \\\n",
       "0                                                                                                                                                                                                                                                                                                                                                                                                                                                                                                                                                                                                                                                                                                                                                                                                                                                                                                                                     Chapter 1   \n",
       "1                                                                                                                                                                                                                                                                                                                                                                                                                                                                                                                                                                                                                                                                                                                                                                                         On the distinction between the first motion and the second or proper motions; and in the proper motions, between the first and the second inequality.   \n",
       "2                                                                                                                                                                                                                                                                                                                                                                           The testimony of the ages confirms that the motions of the planets are orbicular.  Reason, having borrowed from experience, immediately presumes this: that their gyrations are perfect circles. For among figures it is circles, and among bodies the heavens, that are considered the most perfect. However, when experience seems to teach something different to those who pay careful attention, namely, that the planets deviate from a simple circular path, it gives rise to a powerful sense of wonder, which at length drives people to look into causes.   \n",
       "3                                                                                                                                                                                                                                                                                                                                                                           The testimony of the ages confirms that the motions of the planets are orbicular.  Reason, having borrowed from experience, immediately presumes this: that their gyrations are perfect circles. For among figures it is circles, and among bodies the heavens, that are considered the most perfect. However, when experience seems to teach something different to those who pay careful attention, namely, that the planets deviate from a simple circular path, it gives rise to a powerful sense of wonder, which at length drives people to look into causes.   \n",
       "4                                                                                                                                                                                                                                                                                                                                                                           The testimony of the ages confirms that the motions of the planets are orbicular.  Reason, having borrowed from experience, immediately presumes this: that their gyrations are perfect circles. For among figures it is circles, and among bodies the heavens, that are considered the most perfect. However, when experience seems to teach something different to those who pay careful attention, namely, that the planets deviate from a simple circular path, it gives rise to a powerful sense of wonder, which at length drives people to look into causes.   \n",
       "..                                                                                                                                                                                                                                                                                                                                                                                                                                                                                                                                                                                                                                                                                                                                                                                                                                                                                                                                          ...   \n",
       "64  But since the sun's mean and apparent motions*  are two different things, for the sun, too, is subject to the first inequality, the question is raised which of these releases the planets from the second inequality, and whether the planets should be considered when at opposition to the sun's apparent position or its mean position. Ptolemy chose the mean motion, thinking that the difference (if any) between taking the mean sun and the apparent sun could not be perceived in the observations, but that the form of computation and of the proofs would become free from difficulty if the sun's mean motion were taken. Copernicus and Tycho followed Ptolemy, carrying over his assumptions. I, as you see in Ch. 15 of my Mysterium cosmographicum, instead establish the apparent position, the true body of the sun, as my reference point, and will vindicate that position with proofs in Parts 4 and 5 of this work.   \n",
       "65  But since the sun's mean and apparent motions*  are two different things, for the sun, too, is subject to the first inequality, the question is raised which of these releases the planets from the second inequality, and whether the planets should be considered when at opposition to the sun's apparent position or its mean position. Ptolemy chose the mean motion, thinking that the difference (if any) between taking the mean sun and the apparent sun could not be perceived in the observations, but that the form of computation and of the proofs would become free from difficulty if the sun's mean motion were taken. Copernicus and Tycho followed Ptolemy, carrying over his assumptions. I, as you see in Ch. 15 of my Mysterium cosmographicum, instead establish the apparent position, the true body of the sun, as my reference point, and will vindicate that position with proofs in Parts 4 and 5 of this work.   \n",
       "66  But since the sun's mean and apparent motions*  are two different things, for the sun, too, is subject to the first inequality, the question is raised which of these releases the planets from the second inequality, and whether the planets should be considered when at opposition to the sun's apparent position or its mean position. Ptolemy chose the mean motion, thinking that the difference (if any) between taking the mean sun and the apparent sun could not be perceived in the observations, but that the form of computation and of the proofs would become free from difficulty if the sun's mean motion were taken. Copernicus and Tycho followed Ptolemy, carrying over his assumptions. I, as you see in Ch. 15 of my Mysterium cosmographicum, instead establish the apparent position, the true body of the sun, as my reference point, and will vindicate that position with proofs in Parts 4 and 5 of this work.   \n",
       "67                                                                                                                                                                                                                                                                                                                                                                                                                                                                                                                                                                               But before that, I shall prove in this first part that one who substitutes the sun's apparent for its mean motion establishes a completely different orbit for the planet in the aether, whichever of the more celebrated opinions of the world he follows. Since this proof depends upon the equivalence of hypotheses, we shall begin with this equivalence.   \n",
       "68                                                                                                                                                                                                                                                                                                                                                                                                                                                                                                                                                                               But before that, I shall prove in this first part that one who substitutes the sun's apparent for its mean motion establishes a completely different orbit for the planet in the aether, whichever of the more celebrated opinions of the world he follows. Since this proof depends upon the equivalence of hypotheses, we shall begin with this equivalence.   \n",
       "\n",
       "                                                                                                                                                                                                                                                       Sentence  \\\n",
       "0                                                                                                                                                                                                                                                     Chapter 1   \n",
       "1                                                                                                         On the distinction between the first motion and the second or proper motions; and in the proper motions, between the first and the second inequality.   \n",
       "2                                                                                                                                                                             The testimony of the ages confirms that the motions of the planets are orbicular.   \n",
       "3                                                                                                                                                 Reason, having borrowed from experience, immediately presumes this: that their gyrations are perfect circles.   \n",
       "4                                                                                                                                                          For among figures it is circles, and among bodies the heavens, that are considered the most perfect.   \n",
       "..                                                                                                                                                                                                                                                          ...   \n",
       "64                                                                                                                                                                                        Copernicus and Tycho followed Ptolemy, carrying over his assumptions.   \n",
       "65                                                                                                                                                                                                                                         I, as you see in Ch.   \n",
       "66                                                     15 of my Mysterium cosmographicum, instead establish the apparent position, the true body of the sun, as my reference point, and will vindicate that position with proofs in Parts 4 and 5 of this work.   \n",
       "67  But before that, I shall prove in this first part that one who substitutes the sun's apparent for its mean motion establishes a completely different orbit for the planet in the aether, whichever of the more celebrated opinions of the world he follows.   \n",
       "68                                                                                                                                                           Since this proof depends upon the equivalence of hypotheses, we shall begin with this equivalence.   \n",
       "\n",
       "                           Entities  \n",
       "0                                []  \n",
       "1                                []  \n",
       "2                                []  \n",
       "3                                []  \n",
       "4                                []  \n",
       "..                              ...  \n",
       "64             [[Copernicus, NAME]]  \n",
       "65                               []  \n",
       "66                               []  \n",
       "67  [[orbit, ASTR], [aether, ASTR]]  \n",
       "68                               []  \n",
       "\n",
       "[69 rows x 6 columns]"
      ]
     },
     "execution_count": 8,
     "metadata": {},
     "output_type": "execute_result"
    }
   ],
   "source": [
    "df[df.Chapter==1]"
   ]
  },
  {
   "cell_type": "code",
   "execution_count": 9,
   "metadata": {},
   "outputs": [
    {
     "data": {
      "text/plain": [
       "4"
      ]
     },
     "execution_count": 9,
     "metadata": {},
     "output_type": "execute_result"
    }
   ],
   "source": [
    "len(df.loc[df.ParaIndex==2])"
   ]
  },
  {
   "cell_type": "code",
   "execution_count": 10,
   "metadata": {},
   "outputs": [
    {
     "data": {
      "text/html": [
       "<div>\n",
       "<style scoped>\n",
       "    .dataframe tbody tr th:only-of-type {\n",
       "        vertical-align: middle;\n",
       "    }\n",
       "\n",
       "    .dataframe tbody tr th {\n",
       "        vertical-align: top;\n",
       "    }\n",
       "\n",
       "    .dataframe thead th {\n",
       "        text-align: right;\n",
       "    }\n",
       "</style>\n",
       "<table border=\"1\" class=\"dataframe\">\n",
       "  <thead>\n",
       "    <tr style=\"text-align: right;\">\n",
       "      <th></th>\n",
       "      <th>Chapter</th>\n",
       "      <th>ParaIndex</th>\n",
       "      <th>SentIndex</th>\n",
       "      <th>Paragraph</th>\n",
       "      <th>Sentence</th>\n",
       "      <th>Entities</th>\n",
       "    </tr>\n",
       "  </thead>\n",
       "  <tbody>\n",
       "    <tr>\n",
       "      <td>2</td>\n",
       "      <td>1</td>\n",
       "      <td>2</td>\n",
       "      <td>2</td>\n",
       "      <td>The testimony of the ages confirms that the motions of the planets are orbicular.  Reason, having borrowed from experience, immediately presumes this: that their gyrations are perfect circles. For among figures it is circles, and among bodies the heavens, that are considered the most perfect. However, when experience seems to teach something different to those who pay careful attention, namely, that the planets deviate from a simple circular path, it gives rise to a powerful sense of wonder, which at length drives people to look into causes.</td>\n",
       "      <td>The testimony of the ages confirms that the motions of the planets are orbicular.</td>\n",
       "      <td>[]</td>\n",
       "    </tr>\n",
       "    <tr>\n",
       "      <td>3</td>\n",
       "      <td>1</td>\n",
       "      <td>2</td>\n",
       "      <td>3</td>\n",
       "      <td>The testimony of the ages confirms that the motions of the planets are orbicular.  Reason, having borrowed from experience, immediately presumes this: that their gyrations are perfect circles. For among figures it is circles, and among bodies the heavens, that are considered the most perfect. However, when experience seems to teach something different to those who pay careful attention, namely, that the planets deviate from a simple circular path, it gives rise to a powerful sense of wonder, which at length drives people to look into causes.</td>\n",
       "      <td>Reason, having borrowed from experience, immediately presumes this: that their gyrations are perfect circles.</td>\n",
       "      <td>[]</td>\n",
       "    </tr>\n",
       "    <tr>\n",
       "      <td>4</td>\n",
       "      <td>1</td>\n",
       "      <td>2</td>\n",
       "      <td>4</td>\n",
       "      <td>The testimony of the ages confirms that the motions of the planets are orbicular.  Reason, having borrowed from experience, immediately presumes this: that their gyrations are perfect circles. For among figures it is circles, and among bodies the heavens, that are considered the most perfect. However, when experience seems to teach something different to those who pay careful attention, namely, that the planets deviate from a simple circular path, it gives rise to a powerful sense of wonder, which at length drives people to look into causes.</td>\n",
       "      <td>For among figures it is circles, and among bodies the heavens, that are considered the most perfect.</td>\n",
       "      <td>[]</td>\n",
       "    </tr>\n",
       "    <tr>\n",
       "      <td>5</td>\n",
       "      <td>1</td>\n",
       "      <td>2</td>\n",
       "      <td>5</td>\n",
       "      <td>The testimony of the ages confirms that the motions of the planets are orbicular.  Reason, having borrowed from experience, immediately presumes this: that their gyrations are perfect circles. For among figures it is circles, and among bodies the heavens, that are considered the most perfect. However, when experience seems to teach something different to those who pay careful attention, namely, that the planets deviate from a simple circular path, it gives rise to a powerful sense of wonder, which at length drives people to look into causes.</td>\n",
       "      <td>However, when experience seems to teach something different to those who pay careful attention, namely, that the planets deviate from a simple circular path, it gives rise to a powerful sense of wonder, which at length drives people to look into causes.</td>\n",
       "      <td>[[rise, ASTR]]</td>\n",
       "    </tr>\n",
       "  </tbody>\n",
       "</table>\n",
       "</div>"
      ],
      "text/plain": [
       "  Chapter  ParaIndex  SentIndex  \\\n",
       "2       1          2          2   \n",
       "3       1          2          3   \n",
       "4       1          2          4   \n",
       "5       1          2          5   \n",
       "\n",
       "                                                                                                                                                                                                                                                                                                                                                                                                                                                                                                                                                             Paragraph  \\\n",
       "2  The testimony of the ages confirms that the motions of the planets are orbicular.  Reason, having borrowed from experience, immediately presumes this: that their gyrations are perfect circles. For among figures it is circles, and among bodies the heavens, that are considered the most perfect. However, when experience seems to teach something different to those who pay careful attention, namely, that the planets deviate from a simple circular path, it gives rise to a powerful sense of wonder, which at length drives people to look into causes.   \n",
       "3  The testimony of the ages confirms that the motions of the planets are orbicular.  Reason, having borrowed from experience, immediately presumes this: that their gyrations are perfect circles. For among figures it is circles, and among bodies the heavens, that are considered the most perfect. However, when experience seems to teach something different to those who pay careful attention, namely, that the planets deviate from a simple circular path, it gives rise to a powerful sense of wonder, which at length drives people to look into causes.   \n",
       "4  The testimony of the ages confirms that the motions of the planets are orbicular.  Reason, having borrowed from experience, immediately presumes this: that their gyrations are perfect circles. For among figures it is circles, and among bodies the heavens, that are considered the most perfect. However, when experience seems to teach something different to those who pay careful attention, namely, that the planets deviate from a simple circular path, it gives rise to a powerful sense of wonder, which at length drives people to look into causes.   \n",
       "5  The testimony of the ages confirms that the motions of the planets are orbicular.  Reason, having borrowed from experience, immediately presumes this: that their gyrations are perfect circles. For among figures it is circles, and among bodies the heavens, that are considered the most perfect. However, when experience seems to teach something different to those who pay careful attention, namely, that the planets deviate from a simple circular path, it gives rise to a powerful sense of wonder, which at length drives people to look into causes.   \n",
       "\n",
       "                                                                                                                                                                                                                                                        Sentence  \\\n",
       "2                                                                                                                                                                              The testimony of the ages confirms that the motions of the planets are orbicular.   \n",
       "3                                                                                                                                                  Reason, having borrowed from experience, immediately presumes this: that their gyrations are perfect circles.   \n",
       "4                                                                                                                                                           For among figures it is circles, and among bodies the heavens, that are considered the most perfect.   \n",
       "5  However, when experience seems to teach something different to those who pay careful attention, namely, that the planets deviate from a simple circular path, it gives rise to a powerful sense of wonder, which at length drives people to look into causes.   \n",
       "\n",
       "         Entities  \n",
       "2              []  \n",
       "3              []  \n",
       "4              []  \n",
       "5  [[rise, ASTR]]  "
      ]
     },
     "execution_count": 10,
     "metadata": {},
     "output_type": "execute_result"
    }
   ],
   "source": [
    " df.loc[(df.Chapter == 1) & (df.ParaIndex==2)&(df.SentIndex>=0)]"
   ]
  },
  {
   "cell_type": "code",
   "execution_count": 11,
   "metadata": {},
   "outputs": [
    {
     "data": {
      "text/html": [
       "<div>\n",
       "<style scoped>\n",
       "    .dataframe tbody tr th:only-of-type {\n",
       "        vertical-align: middle;\n",
       "    }\n",
       "\n",
       "    .dataframe tbody tr th {\n",
       "        vertical-align: top;\n",
       "    }\n",
       "\n",
       "    .dataframe thead th {\n",
       "        text-align: right;\n",
       "    }\n",
       "</style>\n",
       "<table border=\"1\" class=\"dataframe\">\n",
       "  <thead>\n",
       "    <tr style=\"text-align: right;\">\n",
       "      <th></th>\n",
       "      <th>Chapter</th>\n",
       "      <th>ParaIndex</th>\n",
       "      <th>SentIndex</th>\n",
       "      <th>Paragraph</th>\n",
       "      <th>Sentence</th>\n",
       "      <th>Entities</th>\n",
       "    </tr>\n",
       "  </thead>\n",
       "  <tbody>\n",
       "    <tr>\n",
       "      <td>2</td>\n",
       "      <td>1</td>\n",
       "      <td>2</td>\n",
       "      <td>2</td>\n",
       "      <td>The testimony of the ages confirms that the motions of the planets are orbicular.  Reason, having borrowed from experience, immediately presumes this: that their gyrations are perfect circles. For among figures it is circles, and among bodies the heavens, that are considered the most perfect. However, when experience seems to teach something different to those who pay careful attention, namely, that the planets deviate from a simple circular path, it gives rise to a powerful sense of wonder, which at length drives people to look into causes.</td>\n",
       "      <td>The testimony of the ages confirms that the motions of the planets are orbicular.</td>\n",
       "      <td>[]</td>\n",
       "    </tr>\n",
       "    <tr>\n",
       "      <td>3</td>\n",
       "      <td>1</td>\n",
       "      <td>2</td>\n",
       "      <td>3</td>\n",
       "      <td>The testimony of the ages confirms that the motions of the planets are orbicular.  Reason, having borrowed from experience, immediately presumes this: that their gyrations are perfect circles. For among figures it is circles, and among bodies the heavens, that are considered the most perfect. However, when experience seems to teach something different to those who pay careful attention, namely, that the planets deviate from a simple circular path, it gives rise to a powerful sense of wonder, which at length drives people to look into causes.</td>\n",
       "      <td>Reason, having borrowed from experience, immediately presumes this: that their gyrations are perfect circles.</td>\n",
       "      <td>[]</td>\n",
       "    </tr>\n",
       "    <tr>\n",
       "      <td>4</td>\n",
       "      <td>1</td>\n",
       "      <td>2</td>\n",
       "      <td>4</td>\n",
       "      <td>The testimony of the ages confirms that the motions of the planets are orbicular.  Reason, having borrowed from experience, immediately presumes this: that their gyrations are perfect circles. For among figures it is circles, and among bodies the heavens, that are considered the most perfect. However, when experience seems to teach something different to those who pay careful attention, namely, that the planets deviate from a simple circular path, it gives rise to a powerful sense of wonder, which at length drives people to look into causes.</td>\n",
       "      <td>For among figures it is circles, and among bodies the heavens, that are considered the most perfect.</td>\n",
       "      <td>[]</td>\n",
       "    </tr>\n",
       "    <tr>\n",
       "      <td>5</td>\n",
       "      <td>1</td>\n",
       "      <td>2</td>\n",
       "      <td>5</td>\n",
       "      <td>The testimony of the ages confirms that the motions of the planets are orbicular.  Reason, having borrowed from experience, immediately presumes this: that their gyrations are perfect circles. For among figures it is circles, and among bodies the heavens, that are considered the most perfect. However, when experience seems to teach something different to those who pay careful attention, namely, that the planets deviate from a simple circular path, it gives rise to a powerful sense of wonder, which at length drives people to look into causes.</td>\n",
       "      <td>However, when experience seems to teach something different to those who pay careful attention, namely, that the planets deviate from a simple circular path, it gives rise to a powerful sense of wonder, which at length drives people to look into causes.</td>\n",
       "      <td>[[rise, ASTR]]</td>\n",
       "    </tr>\n",
       "  </tbody>\n",
       "</table>\n",
       "</div>"
      ],
      "text/plain": [
       "  Chapter  ParaIndex  SentIndex  \\\n",
       "2       1          2          2   \n",
       "3       1          2          3   \n",
       "4       1          2          4   \n",
       "5       1          2          5   \n",
       "\n",
       "                                                                                                                                                                                                                                                                                                                                                                                                                                                                                                                                                             Paragraph  \\\n",
       "2  The testimony of the ages confirms that the motions of the planets are orbicular.  Reason, having borrowed from experience, immediately presumes this: that their gyrations are perfect circles. For among figures it is circles, and among bodies the heavens, that are considered the most perfect. However, when experience seems to teach something different to those who pay careful attention, namely, that the planets deviate from a simple circular path, it gives rise to a powerful sense of wonder, which at length drives people to look into causes.   \n",
       "3  The testimony of the ages confirms that the motions of the planets are orbicular.  Reason, having borrowed from experience, immediately presumes this: that their gyrations are perfect circles. For among figures it is circles, and among bodies the heavens, that are considered the most perfect. However, when experience seems to teach something different to those who pay careful attention, namely, that the planets deviate from a simple circular path, it gives rise to a powerful sense of wonder, which at length drives people to look into causes.   \n",
       "4  The testimony of the ages confirms that the motions of the planets are orbicular.  Reason, having borrowed from experience, immediately presumes this: that their gyrations are perfect circles. For among figures it is circles, and among bodies the heavens, that are considered the most perfect. However, when experience seems to teach something different to those who pay careful attention, namely, that the planets deviate from a simple circular path, it gives rise to a powerful sense of wonder, which at length drives people to look into causes.   \n",
       "5  The testimony of the ages confirms that the motions of the planets are orbicular.  Reason, having borrowed from experience, immediately presumes this: that their gyrations are perfect circles. For among figures it is circles, and among bodies the heavens, that are considered the most perfect. However, when experience seems to teach something different to those who pay careful attention, namely, that the planets deviate from a simple circular path, it gives rise to a powerful sense of wonder, which at length drives people to look into causes.   \n",
       "\n",
       "                                                                                                                                                                                                                                                        Sentence  \\\n",
       "2                                                                                                                                                                              The testimony of the ages confirms that the motions of the planets are orbicular.   \n",
       "3                                                                                                                                                  Reason, having borrowed from experience, immediately presumes this: that their gyrations are perfect circles.   \n",
       "4                                                                                                                                                           For among figures it is circles, and among bodies the heavens, that are considered the most perfect.   \n",
       "5  However, when experience seems to teach something different to those who pay careful attention, namely, that the planets deviate from a simple circular path, it gives rise to a powerful sense of wonder, which at length drives people to look into causes.   \n",
       "\n",
       "         Entities  \n",
       "2              []  \n",
       "3              []  \n",
       "4              []  \n",
       "5  [[rise, ASTR]]  "
      ]
     },
     "execution_count": 11,
     "metadata": {},
     "output_type": "execute_result"
    }
   ],
   "source": [
    " df.loc[(df.Chapter == 1) & (df.ParaIndex==2)&(df.SentIndex>=0)]"
   ]
  },
  {
   "cell_type": "code",
   "execution_count": null,
   "metadata": {},
   "outputs": [],
   "source": []
  },
  {
   "cell_type": "code",
   "execution_count": 12,
   "metadata": {},
   "outputs": [
    {
     "data": {
      "application/vnd.jupyter.widget-view+json": {
       "model_id": "68c4800d891b4d468d94bad6ce265155",
       "version_major": 2,
       "version_minor": 0
      },
      "text/plain": [
       "interactive(children=(IntSlider(value=35, description='Chapter', max=70, min=1), IntSlider(value=849, descript…"
      ]
     },
     "metadata": {},
     "output_type": "display_data"
    }
   ],
   "source": [
    "@interact\n",
    "def showbyindex( Chapter=(1,70),ParaIndex=(0,1699),SentIndex=(0,6999)):\n",
    "    return df.loc[(df.Chapter == Chapter) & (df.ParaIndex==ParaIndex)&(df.SentIndex==SentIndex)]"
   ]
  },
  {
   "cell_type": "code",
   "execution_count": 13,
   "metadata": {},
   "outputs": [
    {
     "data": {
      "application/vnd.jupyter.widget-view+json": {
       "model_id": "967a5bb3049b4148b6943d6f21d723a5",
       "version_major": 2,
       "version_minor": 0
      },
      "text/plain": [
       "interactive(children=(Dropdown(description='column', options=('Chapter', 'ParaIndex', 'SentIndex'), value='Cha…"
      ]
     },
     "metadata": {},
     "output_type": "display_data"
    }
   ],
   "source": [
    "@interact\n",
    "def showbyindex2(column=['Chapter','ParaIndex','SentIndex'], x=(1,6999)):\n",
    "    return df.loc[df[column] == x ]"
   ]
  },
  {
   "cell_type": "code",
   "execution_count": 14,
   "metadata": {},
   "outputs": [
    {
     "data": {
      "application/vnd.jupyter.widget-view+json": {
       "model_id": "bd30837c4c4e44a7bff789e3d9ba74b9",
       "version_major": 2,
       "version_minor": 0
      },
      "text/plain": [
       "interactive(children=(Text(value='SentIndex', description='column'), IntSlider(value=3499, description='x', ma…"
      ]
     },
     "metadata": {},
     "output_type": "display_data"
    }
   ],
   "source": [
    "@interact\n",
    "def ShowDetail(column='SentIndex', x=(0,6999)):\n",
    "    return df.loc[df[column]==x ]"
   ]
  },
  {
   "cell_type": "code",
   "execution_count": 15,
   "metadata": {},
   "outputs": [],
   "source": [
    "def showbyindex(target_chapter, target_paragraph, target_sentence):\n",
    "\n",
    "    df_chapter = df.loc[df.Chapter==target_chapter]\n",
    "    paragraph = df_chapter.ParaIndex.unique()[target_paragraph]\n",
    "\n",
    "    return df_chapter.loc[df.ParaIndex==paragraph].iloc[target_sentence]\n",
    "\n",
    "\n",
    "\n"
   ]
  },
  {
   "cell_type": "code",
   "execution_count": 16,
   "metadata": {},
   "outputs": [
    {
     "data": {
      "text/plain": [
       "Chapter                                                                                                                                                                                                                                                                                                                                                                                                                                                                                                                                                                        1\n",
       "ParaIndex                                                                                                                                                                                                                                                                                                                                                                                                                                                                                                                                                                      2\n",
       "SentIndex                                                                                                                                                                                                                                                                                                                                                                                                                                                                                                                                                                      4\n",
       "Paragraph    The testimony of the ages confirms that the motions of the planets are orbicular.  Reason, having borrowed from experience, immediately presumes this: that their gyrations are perfect circles. For among figures it is circles, and among bodies the heavens, that are considered the most perfect. However, when experience seems to teach something different to those who pay careful attention, namely, that the planets deviate from a simple circular path, it gives rise to a powerful sense of wonder, which at length drives people to look into causes.\n",
       "Sentence                                                                                                                                                                                                                                                                                                                                                                                                                                                                    For among figures it is circles, and among bodies the heavens, that are considered the most perfect.\n",
       "Entities                                                                                                                                                                                                                                                                                                                                                                                                                                                                                                                                                                      []\n",
       "Name: 4, dtype: object"
      ]
     },
     "execution_count": 16,
     "metadata": {},
     "output_type": "execute_result"
    }
   ],
   "source": [
    "showbyindex(target_chapter=1, target_paragraph=2, target_sentence=2)"
   ]
  },
  {
   "cell_type": "code",
   "execution_count": null,
   "metadata": {},
   "outputs": [],
   "source": [
    "options_02 = {'compact': True} \n",
    "@interact\n",
    "def ShowNER(column='SentIndex', x=(0,6999)):\n",
    "    Sent=df.iloc[x,4];\n",
    "    doc=nlp(Sent)\n",
    "    return displacy.serve(doc, style=\"dep\",options=options_02)"
   ]
  }
 ],
 "metadata": {
  "kernelspec": {
   "display_name": "Python 3",
   "language": "python",
   "name": "python3"
  },
  "language_info": {
   "codemirror_mode": {
    "name": "ipython",
    "version": 3
   },
   "file_extension": ".py",
   "mimetype": "text/x-python",
   "name": "python",
   "nbconvert_exporter": "python",
   "pygments_lexer": "ipython3",
   "version": "3.7.4"
  }
 },
 "nbformat": 4,
 "nbformat_minor": 4
}
