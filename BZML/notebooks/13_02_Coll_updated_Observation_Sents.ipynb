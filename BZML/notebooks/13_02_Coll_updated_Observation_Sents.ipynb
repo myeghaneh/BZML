{
 "cells": [
  {
   "cell_type": "markdown",
   "metadata": {},
   "source": [
    "# Baseline Annotation of Observation based on trained spaCy (2.0.18) model \n"
   ]
  },
  {
   "cell_type": "markdown",
   "metadata": {},
   "source": [
    "<fig size= \"4\">\n",
    "This notebook provides a baseline annotation suggestion by using refined named entity recognition that we provided using training a deep learning method by prodigy.  </p>\n",
    "</fig size= \"4\">  "
   ]
  },
  {
   "cell_type": "code",
   "execution_count": 24,
   "metadata": {},
   "outputs": [],
   "source": [
    "import spacy \n",
    "from spacy import displacy "
   ]
  },
  {
   "cell_type": "code",
   "execution_count": 25,
   "metadata": {},
   "outputs": [],
   "source": [
    "from __future__ import print_function\n",
    "from ipywidgets import interact\n",
    "import ipywidgets as widgets\n",
    "import pandas as pd\n",
    "import numpy as np\n",
    "import seaborn as sns\n",
    "import matplotlib.pyplot as plt\n",
    "from warnings import filterwarnings\n",
    "filterwarnings('ignore')"
   ]
  },
  {
   "cell_type": "code",
   "execution_count": 26,
   "metadata": {},
   "outputs": [],
   "source": [
    "options = {\"compact\": True, \"bg\": \"#09a3d5\",\n",
    "           \"color\": \"white\", \"font\": \"Source Sans Pro\",\"collapse_phrases\":False}"
   ]
  },
  {
   "cell_type": "code",
   "execution_count": 27,
   "metadata": {},
   "outputs": [],
   "source": [
    "pd.set_option('display.max_colwidth', -1)\n",
    "pd.set_option('max_colwidth', 260)\n",
    "pd.set_option('display.max_rows', 500)"
   ]
  },
  {
   "cell_type": "markdown",
   "metadata": {},
   "source": [
    "## Read the Data"
   ]
  },
  {
   "cell_type": "code",
   "execution_count": 28,
   "metadata": {},
   "outputs": [],
   "source": [
    "importVersion = '013'"
   ]
  },
  {
   "cell_type": "code",
   "execution_count": 29,
   "metadata": {},
   "outputs": [],
   "source": [
    "\n",
    "path= '../data/01_df_v{0}.pickle'.format(importVersion)# Put the path of the data in your local machine here, consider the letter \"r\" before the path\n",
    "dfAstroNova = pd.read_pickle(path)"
   ]
  },
  {
   "cell_type": "code",
   "execution_count": 30,
   "metadata": {},
   "outputs": [],
   "source": [
    "# Sort the data based on the chapters of the book \n",
    "dfAstroNova['chapter'] = dfAstroNova.chapter.replace(\"appendix b\",np.nan).astype(float)  \n",
    "dfAstroNova = dfAstroNova.rename_axis('MyIdx').sort_values(by = ['chapter', 'MyIdx'], ascending = [True, True])\n",
    "dfAstroNova.chapter.fillna('appendix b', inplace=True)"
   ]
  },
  {
   "cell_type": "code",
   "execution_count": 31,
   "metadata": {},
   "outputs": [],
   "source": [
    "dfAstroNova.reset_index(inplace=True)\n",
    "dfAstroNova=dfAstroNova.drop(\"MyIdx\",axis=1,inplace=False)\n",
    "dfAstroNova=dfAstroNova.drop(\"html\",axis=1)"
   ]
  },
  {
   "cell_type": "code",
   "execution_count": 32,
   "metadata": {},
   "outputs": [],
   "source": [
    "#dfAstroNova['paragraph'] = dfAstroNova.index\n",
    "dfAstroNova.insert(loc=1, column='paragraph', value=dfAstroNova.index)\n"
   ]
  },
  {
   "cell_type": "code",
   "execution_count": 33,
   "metadata": {},
   "outputs": [
    {
     "data": {
      "text/plain": [
       "pandas.core.frame.DataFrame"
      ]
     },
     "execution_count": 33,
     "metadata": {},
     "output_type": "execute_result"
    }
   ],
   "source": [
    "type(dfAstroNova)"
   ]
  },
  {
   "cell_type": "code",
   "execution_count": 34,
   "metadata": {},
   "outputs": [
    {
     "data": {
      "text/html": [
       "<div>\n",
       "<style scoped>\n",
       "    .dataframe tbody tr th:only-of-type {\n",
       "        vertical-align: middle;\n",
       "    }\n",
       "\n",
       "    .dataframe tbody tr th {\n",
       "        vertical-align: top;\n",
       "    }\n",
       "\n",
       "    .dataframe thead th {\n",
       "        text-align: right;\n",
       "    }\n",
       "</style>\n",
       "<table border=\"1\" class=\"dataframe\">\n",
       "  <thead>\n",
       "    <tr style=\"text-align: right;\">\n",
       "      <th></th>\n",
       "      <th>text</th>\n",
       "      <th>paragraph</th>\n",
       "      <th>links</th>\n",
       "      <th>italic</th>\n",
       "      <th>chapter</th>\n",
       "      <th>graphic</th>\n",
       "      <th>table</th>\n",
       "      <th>marginal</th>\n",
       "      <th>sentences</th>\n",
       "      <th>tagged</th>\n",
       "    </tr>\n",
       "  </thead>\n",
       "  <tbody>\n",
       "    <tr>\n",
       "      <th>0</th>\n",
       "      <td>Chapter 1</td>\n",
       "      <td>0</td>\n",
       "      <td>[]</td>\n",
       "      <td>[]</td>\n",
       "      <td>1</td>\n",
       "      <td>[]</td>\n",
       "      <td>[]</td>\n",
       "      <td>[]</td>\n",
       "      <td>[Chapter 1]</td>\n",
       "      <td>[[(Chapter, None), (1, NUM)]]</td>\n",
       "    </tr>\n",
       "    <tr>\n",
       "      <th>1</th>\n",
       "      <td>On the distinction between the first motion and the second or proper motions; and in the proper motions, between the first and the second inequality.</td>\n",
       "      <td>1</td>\n",
       "      <td>[]</td>\n",
       "      <td>[]</td>\n",
       "      <td>1</td>\n",
       "      <td>[]</td>\n",
       "      <td>[]</td>\n",
       "      <td>[]</td>\n",
       "      <td>[On the distinction between the first motion and the second or proper motions; and in the proper motions, between the first and the second inequality.]</td>\n",
       "      <td>[[(On, None), (the, None), (distinction, None), (between, None), (the, None), (first, None), (motion, None), (and, None), (the, None), (second, None), (or, None), (proper, None), (motions, None), (and, None), (in, None), (the, None), (proper, None), (motio...</td>\n",
       "    </tr>\n",
       "    <tr>\n",
       "      <th>2</th>\n",
       "      <td>The testimony of the ages confirms that the motions of the planets are orbicular.  Reason, having borrowed from experience, immediately presumes this: that their gyrations are perfect circles. For among figures it is circles, and among bodies the heavens, ...</td>\n",
       "      <td>2</td>\n",
       "      <td>[]</td>\n",
       "      <td>[]</td>\n",
       "      <td>1</td>\n",
       "      <td>[]</td>\n",
       "      <td>[]</td>\n",
       "      <td>[ Terms: 1. The first motion is that of the whole heaven and of all its stars from the east through the lowest part of the heavens to the east, in the period of 24 hours; in the present diagram, ABCD. 2. The second motions are those of the individual plane...</td>\n",
       "      <td>[The testimony of the ages confirms that the motions of the planets are orbicular., Reason, having borrowed from experience, immediately presumes this: that their gyrations are perfect circles., For among figures it is circles, and among bodies the heavens...</td>\n",
       "      <td>[[(The, None), (testimony, None), (of, None), (the, None), (ages, None), (confirms, None), (that, None), (the, None), (motions, None), (of, None), (the, None), (planets, None), (are, None), (orbicular, None)], [(Reason, None), (having, None), (borrowed, No...</td>\n",
       "    </tr>\n",
       "    <tr>\n",
       "      <th>3</th>\n",
       "      <td>It is just this from which astronomy arose among humans. Astronomy's aim is considered to be to show why the stars' motions appear to be irregular on earth, despite their being exceedingly well ordered in heaven, and to investigate the specific circles whe...</td>\n",
       "      <td>3</td>\n",
       "      <td>[]</td>\n",
       "      <td>[]</td>\n",
       "      <td>1</td>\n",
       "      <td>[ ch 1 gr 1]</td>\n",
       "      <td>[]</td>\n",
       "      <td>[]</td>\n",
       "      <td>[It is just this from which astronomy arose among humans., Astronomy's aim is considered to be to show why the stars' motions appear to be irregular on earth, despite their being exceedingly well ordered in heaven, and to investigate the specific circles w...</td>\n",
       "      <td>[[(It, None), (is, None), (just, None), (this, None), (from, None), (which, None), (astronomy, None), (arose, None), (among, None), (humans, None)], [(Astronomy, None), (s, None), (aim, None), (is, None), (considered, None), (to, None), (be, None), (to, No...</td>\n",
       "    </tr>\n",
       "    <tr>\n",
       "      <th>4</th>\n",
       "      <td>Before the distinction between the first motion(1) and the second motions(2) was established, people noted (in contemplating the sun, moon and stars) that their diurnal paths were visually very nearly equivalent to circles. These were, however, entwined on...</td>\n",
       "      <td>4</td>\n",
       "      <td>[]</td>\n",
       "      <td>[(such]</td>\n",
       "      <td>1</td>\n",
       "      <td>[]</td>\n",
       "      <td>[]</td>\n",
       "      <td>[ 2]</td>\n",
       "      <td>[Before the distinction between the first motion(1) and the second motions(2) was established, people noted (in contemplating the sun, moon and stars) that their diurnal paths were visually very nearly equivalent to circles., These were, however, entwined ...</td>\n",
       "      <td>[[(Before, None), (the, None), (distinction, None), (between, None), (the, None), (first, None), (motion, None), (1, NUM), (and, None), (the, None), (second, None), (motions, None), (2, NUM), (was, None), (established, None), (people, None), (noted, None),...</td>\n",
       "    </tr>\n",
       "  </tbody>\n",
       "</table>\n",
       "</div>"
      ],
      "text/plain": [
       "                                                                                                                                                                                                                                                                  text  \\\n",
       "0                                                                                                                                                                                                                                                            Chapter 1   \n",
       "1                                                                                                                On the distinction between the first motion and the second or proper motions; and in the proper motions, between the first and the second inequality.   \n",
       "2  The testimony of the ages confirms that the motions of the planets are orbicular.  Reason, having borrowed from experience, immediately presumes this: that their gyrations are perfect circles. For among figures it is circles, and among bodies the heavens, ...   \n",
       "3  It is just this from which astronomy arose among humans. Astronomy's aim is considered to be to show why the stars' motions appear to be irregular on earth, despite their being exceedingly well ordered in heaven, and to investigate the specific circles whe...   \n",
       "4  Before the distinction between the first motion(1) and the second motions(2) was established, people noted (in contemplating the sun, moon and stars) that their diurnal paths were visually very nearly equivalent to circles. These were, however, entwined on...   \n",
       "\n",
       "   paragraph links   italic chapter       graphic table  \\\n",
       "0          0    []       []       1            []    []   \n",
       "1          1    []       []       1            []    []   \n",
       "2          2    []       []       1            []    []   \n",
       "3          3    []       []       1  [ ch 1 gr 1]    []   \n",
       "4          4    []  [(such]       1            []    []   \n",
       "\n",
       "                                                                                                                                                                                                                                                              marginal  \\\n",
       "0                                                                                                                                                                                                                                                                   []   \n",
       "1                                                                                                                                                                                                                                                                   []   \n",
       "2  [ Terms: 1. The first motion is that of the whole heaven and of all its stars from the east through the lowest part of the heavens to the east, in the period of 24 hours; in the present diagram, ABCD. 2. The second motions are those of the individual plane...   \n",
       "3                                                                                                                                                                                                                                                                   []   \n",
       "4                                                                                                                                                                                                                                                                 [ 2]   \n",
       "\n",
       "                                                                                                                                                                                                                                                             sentences  \\\n",
       "0                                                                                                                                                                                                                                                          [Chapter 1]   \n",
       "1                                                                                                              [On the distinction between the first motion and the second or proper motions; and in the proper motions, between the first and the second inequality.]   \n",
       "2  [The testimony of the ages confirms that the motions of the planets are orbicular., Reason, having borrowed from experience, immediately presumes this: that their gyrations are perfect circles., For among figures it is circles, and among bodies the heavens...   \n",
       "3  [It is just this from which astronomy arose among humans., Astronomy's aim is considered to be to show why the stars' motions appear to be irregular on earth, despite their being exceedingly well ordered in heaven, and to investigate the specific circles w...   \n",
       "4  [Before the distinction between the first motion(1) and the second motions(2) was established, people noted (in contemplating the sun, moon and stars) that their diurnal paths were visually very nearly equivalent to circles., These were, however, entwined ...   \n",
       "\n",
       "                                                                                                                                                                                                                                                                tagged  \n",
       "0                                                                                                                                                                                                                                        [[(Chapter, None), (1, NUM)]]  \n",
       "1  [[(On, None), (the, None), (distinction, None), (between, None), (the, None), (first, None), (motion, None), (and, None), (the, None), (second, None), (or, None), (proper, None), (motions, None), (and, None), (in, None), (the, None), (proper, None), (motio...  \n",
       "2  [[(The, None), (testimony, None), (of, None), (the, None), (ages, None), (confirms, None), (that, None), (the, None), (motions, None), (of, None), (the, None), (planets, None), (are, None), (orbicular, None)], [(Reason, None), (having, None), (borrowed, No...  \n",
       "3  [[(It, None), (is, None), (just, None), (this, None), (from, None), (which, None), (astronomy, None), (arose, None), (among, None), (humans, None)], [(Astronomy, None), (s, None), (aim, None), (is, None), (considered, None), (to, None), (be, None), (to, No...  \n",
       "4  [[(Before, None), (the, None), (distinction, None), (between, None), (the, None), (first, None), (motion, None), (1, NUM), (and, None), (the, None), (second, None), (motions, None), (2, NUM), (was, None), (established, None), (people, None), (noted, None),...  "
      ]
     },
     "execution_count": 34,
     "metadata": {},
     "output_type": "execute_result"
    }
   ],
   "source": [
    "dfAstroNova.head()"
   ]
  },
  {
   "cell_type": "code",
   "execution_count": 35,
   "metadata": {},
   "outputs": [
    {
     "data": {
      "text/html": [
       "<div>\n",
       "<style scoped>\n",
       "    .dataframe tbody tr th:only-of-type {\n",
       "        vertical-align: middle;\n",
       "    }\n",
       "\n",
       "    .dataframe tbody tr th {\n",
       "        vertical-align: top;\n",
       "    }\n",
       "\n",
       "    .dataframe thead th {\n",
       "        text-align: right;\n",
       "    }\n",
       "</style>\n",
       "<table border=\"1\" class=\"dataframe\">\n",
       "  <thead>\n",
       "    <tr style=\"text-align: right;\">\n",
       "      <th></th>\n",
       "      <th>text</th>\n",
       "      <th>paragraph</th>\n",
       "      <th>links</th>\n",
       "      <th>italic</th>\n",
       "      <th>chapter</th>\n",
       "      <th>graphic</th>\n",
       "      <th>table</th>\n",
       "      <th>marginal</th>\n",
       "      <th>sentences</th>\n",
       "      <th>tagged</th>\n",
       "    </tr>\n",
       "  </thead>\n",
       "  <tbody>\n",
       "    <tr>\n",
       "      <th>1600</th>\n",
       "      <td></td>\n",
       "      <td>1600</td>\n",
       "      <td>[]</td>\n",
       "      <td>[]</td>\n",
       "      <td>appendix b</td>\n",
       "      <td>[]</td>\n",
       "      <td>[ appendix B t 2]</td>\n",
       "      <td>[]</td>\n",
       "      <td>[]</td>\n",
       "      <td>[]</td>\n",
       "    </tr>\n",
       "    <tr>\n",
       "      <th>1601</th>\n",
       "      <td>Kepler's table, for comparison</td>\n",
       "      <td>1601</td>\n",
       "      <td>[]</td>\n",
       "      <td>[]</td>\n",
       "      <td>appendix b</td>\n",
       "      <td>[]</td>\n",
       "      <td>[ appendix B t 3]</td>\n",
       "      <td>[]</td>\n",
       "      <td>[Kepler's table, for comparison]</td>\n",
       "      <td>[[(Kepler, None), (s, None), (table, None), (for, None), (comparison, None)]]</td>\n",
       "    </tr>\n",
       "    <tr>\n",
       "      <th>1602</th>\n",
       "      <td>Mars from Earth to be a little greater than half of the distance of the Sun from Earth. Kepler computed the diurnal latitudinal parallax of Mars to be 3' 28\", from which he determined the latitude of Mars without parallax to be 2° 25'. Since Mars's distanc...</td>\n",
       "      <td>1602</td>\n",
       "      <td>[{'#fn6': '\n",
       "Kepler's observations yield topocentric horizontal coordinates delineated in azimuthal and altitudinal or zenith distance. The transformation of the measurements to geocentric, ecliptic longitude and altitude, or equatorial right ascension and ...</td>\n",
       "      <td>[]</td>\n",
       "      <td>appendix b</td>\n",
       "      <td>[]</td>\n",
       "      <td>[]</td>\n",
       "      <td>[]</td>\n",
       "      <td>[Mars from Earth to be a little greater than half of the distance of the Sun from Earth., Kepler computed the diurnal latitudinal parallax of Mars to be 3' 28\", from which he determined the latitude of Mars without parallax to be 2° 25'., Since Mars's dist...</td>\n",
       "      <td>[[(Mars, None), (from, None), (Earth, None), (to, None), (be, None), (a, None), (little, None), (greater, None), (than, None), (half, None), (of, None), (the, None), (distance, None), (of, None), (the, None), (Sun, None), (from, None), (Earth, None)], [(Ke...</td>\n",
       "    </tr>\n",
       "    <tr>\n",
       "      <th>1603</th>\n",
       "      <td>As shown in Figure 2B, the Sun is assumed to be at the center of the planetary system. The longitudes of Mars and Earth's in reference to the center of the Sun are 198° 21' 30\" and 199° 20' 8\" respectively. The deviation of elongation between Mars and the...</td>\n",
       "      <td>1603</td>\n",
       "      <td>[]</td>\n",
       "      <td>[]</td>\n",
       "      <td>appendix b</td>\n",
       "      <td>[ appendix b gr 1]</td>\n",
       "      <td>[]</td>\n",
       "      <td>[]</td>\n",
       "      <td>[As shown in Figure 2B, the Sun is assumed to be at the center of the planetary system., The longitudes of Mars and Earth's in reference to the center of the Sun are 198° 21' 30\" and 199° 20' 8\" respectively., The deviation of elongation between Mars and t...</td>\n",
       "      <td>[[(As, None), (shown, None), (in, None), (Figure, None), (2B, None), (the, None), (Sun, None), (is, None), (assumed, None), (to, None), (be, None), (at, None), (the, None), (center, None), (of, None), (the, None), (planetary, None), (system, None)], [(The,...</td>\n",
       "    </tr>\n",
       "    <tr>\n",
       "      <th>1604</th>\n",
       "      <td>The Sun moved westward and its longitude decreased from the time of observation to its position opposite to Mars. Therefore, the time of opposition is 17 hours 20 minutes before March 29, at 21:43, the time when the observation was made. Kepler determined ...</td>\n",
       "      <td>1604</td>\n",
       "      <td>[]</td>\n",
       "      <td>[4&lt;sup&gt;h&lt;/sup&gt; 23&lt;sup&gt;m &lt;/sup&gt;]</td>\n",
       "      <td>appendix b</td>\n",
       "      <td>[]</td>\n",
       "      <td>[]</td>\n",
       "      <td>[]</td>\n",
       "      <td>[The Sun moved westward and its longitude decreased from the time of observation to its position opposite to Mars., Therefore, the time of opposition is 17 hours 20 minutes before March 29, at 21:43, the time when the observation was made., Kepler determin...</td>\n",
       "      <td>[[(The, None), (Sun, None), (moved, None), (westward, None), (and, None), (its, None), (longitude, None), (decreased, None), (from, None), (the, None), (time, None), (of, None), (observation, None), (to, None), (its, None), (position, None), (opposite, Non...</td>\n",
       "    </tr>\n",
       "  </tbody>\n",
       "</table>\n",
       "</div>"
      ],
      "text/plain": [
       "                                                                                                                                                                                                                                                                     text  \\\n",
       "1600                                                                                                                                                                                                                                                                        \n",
       "1601                                                                                                                                                                                                                                      Kepler's table, for comparison    \n",
       "1602  Mars from Earth to be a little greater than half of the distance of the Sun from Earth. Kepler computed the diurnal latitudinal parallax of Mars to be 3' 28\", from which he determined the latitude of Mars without parallax to be 2° 25'. Since Mars's distanc...   \n",
       "1603   As shown in Figure 2B, the Sun is assumed to be at the center of the planetary system. The longitudes of Mars and Earth's in reference to the center of the Sun are 198° 21' 30\" and 199° 20' 8\" respectively. The deviation of elongation between Mars and the...   \n",
       "1604  The Sun moved westward and its longitude decreased from the time of observation to its position opposite to Mars. Therefore, the time of opposition is 17 hours 20 minutes before March 29, at 21:43, the time when the observation was made. Kepler determined ...   \n",
       "\n",
       "      paragraph  \\\n",
       "1600       1600   \n",
       "1601       1601   \n",
       "1602       1602   \n",
       "1603       1603   \n",
       "1604       1604   \n",
       "\n",
       "                                                                                                                                                                                                                                                                    links  \\\n",
       "1600                                                                                                                                                                                                                                                                   []   \n",
       "1601                                                                                                                                                                                                                                                                   []   \n",
       "1602  [{'#fn6': '\n",
       "Kepler's observations yield topocentric horizontal coordinates delineated in azimuthal and altitudinal or zenith distance. The transformation of the measurements to geocentric, ecliptic longitude and altitude, or equatorial right ascension and ...   \n",
       "1603                                                                                                                                                                                                                                                                   []   \n",
       "1604                                                                                                                                                                                                                                                                   []   \n",
       "\n",
       "                               italic     chapter             graphic  \\\n",
       "1600                               []  appendix b                  []   \n",
       "1601                               []  appendix b                  []   \n",
       "1602                               []  appendix b                  []   \n",
       "1603                               []  appendix b  [ appendix b gr 1]   \n",
       "1604  [4<sup>h</sup> 23<sup>m </sup>]  appendix b                  []   \n",
       "\n",
       "                  table marginal  \\\n",
       "1600  [ appendix B t 2]       []   \n",
       "1601  [ appendix B t 3]       []   \n",
       "1602                 []       []   \n",
       "1603                 []       []   \n",
       "1604                 []       []   \n",
       "\n",
       "                                                                                                                                                                                                                                                                sentences  \\\n",
       "1600                                                                                                                                                                                                                                                                   []   \n",
       "1601                                                                                                                                                                                                                                     [Kepler's table, for comparison]   \n",
       "1602  [Mars from Earth to be a little greater than half of the distance of the Sun from Earth., Kepler computed the diurnal latitudinal parallax of Mars to be 3' 28\", from which he determined the latitude of Mars without parallax to be 2° 25'., Since Mars's dist...   \n",
       "1603  [As shown in Figure 2B, the Sun is assumed to be at the center of the planetary system., The longitudes of Mars and Earth's in reference to the center of the Sun are 198° 21' 30\" and 199° 20' 8\" respectively., The deviation of elongation between Mars and t...   \n",
       "1604  [The Sun moved westward and its longitude decreased from the time of observation to its position opposite to Mars., Therefore, the time of opposition is 17 hours 20 minutes before March 29, at 21:43, the time when the observation was made., Kepler determin...   \n",
       "\n",
       "                                                                                                                                                                                                                                                                   tagged  \n",
       "1600                                                                                                                                                                                                                                                                   []  \n",
       "1601                                                                                                                                                                                        [[(Kepler, None), (s, None), (table, None), (for, None), (comparison, None)]]  \n",
       "1602  [[(Mars, None), (from, None), (Earth, None), (to, None), (be, None), (a, None), (little, None), (greater, None), (than, None), (half, None), (of, None), (the, None), (distance, None), (of, None), (the, None), (Sun, None), (from, None), (Earth, None)], [(Ke...  \n",
       "1603  [[(As, None), (shown, None), (in, None), (Figure, None), (2B, None), (the, None), (Sun, None), (is, None), (assumed, None), (to, None), (be, None), (at, None), (the, None), (center, None), (of, None), (the, None), (planetary, None), (system, None)], [(The,...  \n",
       "1604  [[(The, None), (Sun, None), (moved, None), (westward, None), (and, None), (its, None), (longitude, None), (decreased, None), (from, None), (the, None), (time, None), (of, None), (observation, None), (to, None), (its, None), (position, None), (opposite, Non...  "
      ]
     },
     "execution_count": 35,
     "metadata": {},
     "output_type": "execute_result"
    }
   ],
   "source": [
    "dfAstroNova.tail()"
   ]
  },
  {
   "cell_type": "code",
   "execution_count": 36,
   "metadata": {},
   "outputs": [
    {
     "data": {
      "text/plain": [
       "pandas.core.series.Series"
      ]
     },
     "execution_count": 36,
     "metadata": {},
     "output_type": "execute_result"
    }
   ],
   "source": [
    "df=dfAstroNova.reset_index().text.str.split('.',expand=True).stack().reset_index(level=-1,drop=True)\n",
    "type(df)"
   ]
  },
  {
   "cell_type": "code",
   "execution_count": 37,
   "metadata": {},
   "outputs": [],
   "source": [
    " # Create lists to fill with values\n",
    "l_col1 = []\n",
    "l_col2 = []\n",
    "l_col3 = []\n",
    "l_col4 = []\n",
    "\n",
    "# iterrate over each row and fill our lists\n",
    "for ix, row in dfAstroNova.iterrows():\n",
    "    for value in row['sentences']:\n",
    "        l_col1.append(row['text'])\n",
    "        l_col2.append(row['paragraph'])\n",
    "        l_col3.append(value)\n",
    "        l_col4.append(row['chapter'])\n",
    "       \n",
    "# Create new dataframe from the two lists\n",
    "df= pd.DataFrame({'Chapter': l_col4,'ParaIndex': l_col2,'Paragraph': l_col1,'Sentence': l_col3 ,\n",
    "                          })\n"
   ]
  },
  {
   "cell_type": "code",
   "execution_count": 38,
   "metadata": {},
   "outputs": [
    {
     "data": {
      "text/plain": [
       "6699"
      ]
     },
     "execution_count": 38,
     "metadata": {},
     "output_type": "execute_result"
    }
   ],
   "source": [
    "len(df)"
   ]
  },
  {
   "cell_type": "code",
   "execution_count": 39,
   "metadata": {},
   "outputs": [
    {
     "data": {
      "text/html": [
       "<div>\n",
       "<style scoped>\n",
       "    .dataframe tbody tr th:only-of-type {\n",
       "        vertical-align: middle;\n",
       "    }\n",
       "\n",
       "    .dataframe tbody tr th {\n",
       "        vertical-align: top;\n",
       "    }\n",
       "\n",
       "    .dataframe thead th {\n",
       "        text-align: right;\n",
       "    }\n",
       "</style>\n",
       "<table border=\"1\" class=\"dataframe\">\n",
       "  <thead>\n",
       "    <tr style=\"text-align: right;\">\n",
       "      <th></th>\n",
       "      <th>Chapter</th>\n",
       "      <th>ParaIndex</th>\n",
       "      <th>Paragraph</th>\n",
       "      <th>Sentence</th>\n",
       "    </tr>\n",
       "  </thead>\n",
       "  <tbody>\n",
       "    <tr>\n",
       "      <th>0</th>\n",
       "      <td>1</td>\n",
       "      <td>0</td>\n",
       "      <td>Chapter 1</td>\n",
       "      <td>Chapter 1</td>\n",
       "    </tr>\n",
       "    <tr>\n",
       "      <th>1</th>\n",
       "      <td>1</td>\n",
       "      <td>1</td>\n",
       "      <td>On the distinction between the first motion and the second or proper motions; and in the proper motions, between the first and the second inequality.</td>\n",
       "      <td>On the distinction between the first motion and the second or proper motions; and in the proper motions, between the first and the second inequality.</td>\n",
       "    </tr>\n",
       "    <tr>\n",
       "      <th>2</th>\n",
       "      <td>1</td>\n",
       "      <td>2</td>\n",
       "      <td>The testimony of the ages confirms that the motions of the planets are orbicular.  Reason, having borrowed from experience, immediately presumes this: that their gyrations are perfect circles. For among figures it is circles, and among bodies the heavens, ...</td>\n",
       "      <td>The testimony of the ages confirms that the motions of the planets are orbicular.</td>\n",
       "    </tr>\n",
       "    <tr>\n",
       "      <th>3</th>\n",
       "      <td>1</td>\n",
       "      <td>2</td>\n",
       "      <td>The testimony of the ages confirms that the motions of the planets are orbicular.  Reason, having borrowed from experience, immediately presumes this: that their gyrations are perfect circles. For among figures it is circles, and among bodies the heavens, ...</td>\n",
       "      <td>Reason, having borrowed from experience, immediately presumes this: that their gyrations are perfect circles.</td>\n",
       "    </tr>\n",
       "    <tr>\n",
       "      <th>4</th>\n",
       "      <td>1</td>\n",
       "      <td>2</td>\n",
       "      <td>The testimony of the ages confirms that the motions of the planets are orbicular.  Reason, having borrowed from experience, immediately presumes this: that their gyrations are perfect circles. For among figures it is circles, and among bodies the heavens, ...</td>\n",
       "      <td>For among figures it is circles, and among bodies the heavens, that are considered the most perfect.</td>\n",
       "    </tr>\n",
       "    <tr>\n",
       "      <th>5</th>\n",
       "      <td>1</td>\n",
       "      <td>2</td>\n",
       "      <td>The testimony of the ages confirms that the motions of the planets are orbicular.  Reason, having borrowed from experience, immediately presumes this: that their gyrations are perfect circles. For among figures it is circles, and among bodies the heavens, ...</td>\n",
       "      <td>However, when experience seems to teach something different to those who pay careful attention, namely, that the planets deviate from a simple circular path, it gives rise to a powerful sense of wonder, which at length drives people to look into causes.</td>\n",
       "    </tr>\n",
       "    <tr>\n",
       "      <th>6</th>\n",
       "      <td>1</td>\n",
       "      <td>3</td>\n",
       "      <td>It is just this from which astronomy arose among humans. Astronomy's aim is considered to be to show why the stars' motions appear to be irregular on earth, despite their being exceedingly well ordered in heaven, and to investigate the specific circles whe...</td>\n",
       "      <td>It is just this from which astronomy arose among humans.</td>\n",
       "    </tr>\n",
       "    <tr>\n",
       "      <th>7</th>\n",
       "      <td>1</td>\n",
       "      <td>3</td>\n",
       "      <td>It is just this from which astronomy arose among humans. Astronomy's aim is considered to be to show why the stars' motions appear to be irregular on earth, despite their being exceedingly well ordered in heaven, and to investigate the specific circles whe...</td>\n",
       "      <td>Astronomy's aim is considered to be to show why the stars' motions appear to be irregular on earth, despite their being exceedingly well ordered in heaven, and to investigate the specific circles whereby the stars may be moved, so that by their aid the pos...</td>\n",
       "    </tr>\n",
       "    <tr>\n",
       "      <th>8</th>\n",
       "      <td>1</td>\n",
       "      <td>4</td>\n",
       "      <td>Before the distinction between the first motion(1) and the second motions(2) was established, people noted (in contemplating the sun, moon and stars) that their diurnal paths were visually very nearly equivalent to circles. These were, however, entwined on...</td>\n",
       "      <td>Before the distinction between the first motion(1) and the second motions(2) was established, people noted (in contemplating the sun, moon and stars) that their diurnal paths were visually very nearly equivalent to circles.</td>\n",
       "    </tr>\n",
       "    <tr>\n",
       "      <th>9</th>\n",
       "      <td>1</td>\n",
       "      <td>4</td>\n",
       "      <td>Before the distinction between the first motion(1) and the second motions(2) was established, people noted (in contemplating the sun, moon and stars) that their diurnal paths were visually very nearly equivalent to circles. These were, however, entwined on...</td>\n",
       "      <td>These were, however, entwined one upon another like yarn on a ball, and the circles were for the most part smaller(3) circles of the sphere, rarely the greatest(4) (such</td>\n",
       "    </tr>\n",
       "    <tr>\n",
       "      <th>10</th>\n",
       "      <td>1</td>\n",
       "      <td>5</td>\n",
       "      <td>as here ABCE, FMNG cutting the equator AB in CN), part of them north and part south. They also saw that the stars have different speeds in this diurnal and apparent motion. The fixed stars are fastest of all, since those that are in conjunction with any of...</td>\n",
       "      <td>as here ABCE, FMNG cutting the equator AB in CN), part of them north and part south.</td>\n",
       "    </tr>\n",
       "    <tr>\n",
       "      <th>11</th>\n",
       "      <td>1</td>\n",
       "      <td>5</td>\n",
       "      <td>as here ABCE, FMNG cutting the equator AB in CN), part of them north and part south. They also saw that the stars have different speeds in this diurnal and apparent motion. The fixed stars are fastest of all, since those that are in conjunction with any of...</td>\n",
       "      <td>They also saw that the stars have different speeds in this diurnal and apparent motion.</td>\n",
       "    </tr>\n",
       "    <tr>\n",
       "      <th>12</th>\n",
       "      <td>1</td>\n",
       "      <td>5</td>\n",
       "      <td>as here ABCE, FMNG cutting the equator AB in CN), part of them north and part south. They also saw that the stars have different speeds in this diurnal and apparent motion. The fixed stars are fastest of all, since those that are in conjunction with any of...</td>\n",
       "      <td>The fixed stars are fastest of all, since those that are in conjunction with any of the planets on the preceding day (such as H with A and F) come to their setting first (such as H, moving along LK back to I).</td>\n",
       "    </tr>\n",
       "    <tr>\n",
       "      <th>13</th>\n",
       "      <td>1</td>\n",
       "      <td>5</td>\n",
       "      <td>as here ABCE, FMNG cutting the equator AB in CN), part of them north and part south. They also saw that the stars have different speeds in this diurnal and apparent motion. The fixed stars are fastest of all, since those that are in conjunction with any of...</td>\n",
       "      <td>The sun (on ABE) is slower, as on the following day it stands at E and so its setting follows that of the fixed stars at I with which on the previous day it was conjoined on HA.</td>\n",
       "    </tr>\n",
       "    <tr>\n",
       "      <th>14</th>\n",
       "      <td>1</td>\n",
       "      <td>5</td>\n",
       "      <td>as here ABCE, FMNG cutting the equator AB in CN), part of them north and part south. They also saw that the stars have different speeds in this diurnal and apparent motion. The fixed stars are fastest of all, since those that are in conjunction with any of...</td>\n",
       "      <td>Slower still than this, slowest of all the stars, is the moon, since after setting with the sun today (at A, the moon being at F), it lags by an appreciable interval (EG) tomorrow when the sun sets (at E, the whole heaven and the moon along with it having ...</td>\n",
       "    </tr>\n",
       "    <tr>\n",
       "      <th>15</th>\n",
       "      <td>1</td>\n",
       "      <td>5</td>\n",
       "      <td>as here ABCE, FMNG cutting the equator AB in CN), part of them north and part south. They also saw that the stars have different speeds in this diurnal and apparent motion. The fixed stars are fastest of all, since those that are in conjunction with any of...</td>\n",
       "      <td>Hence the Pythagoreans, when they shared out musical tones among the stars, gave the lowest (the hypate among the strings of the lyre)1 to the moon, because the motions of both were slowest.</td>\n",
       "    </tr>\n",
       "    <tr>\n",
       "      <th>16</th>\n",
       "      <td>1</td>\n",
       "      <td>5</td>\n",
       "      <td>as here ABCE, FMNG cutting the equator AB in CN), part of them north and part south. They also saw that the stars have different speeds in this diurnal and apparent motion. The fixed stars are fastest of all, since those that are in conjunction with any of...</td>\n",
       "      <td>Hence have originated the words προηγούμενος and ὑπολειπτικός ^2.</td>\n",
       "    </tr>\n",
       "    <tr>\n",
       "      <th>17</th>\n",
       "      <td>1</td>\n",
       "      <td>5</td>\n",
       "      <td>as here ABCE, FMNG cutting the equator AB in CN), part of them north and part south. They also saw that the stars have different speeds in this diurnal and apparent motion. The fixed stars are fastest of all, since those that are in conjunction with any of...</td>\n",
       "      <td>The former of these terms originally corresponded to a star which, on the next day, comes to its setting earlier (the sun E is said to be προηγούμενος with respect to the moon G).</td>\n",
       "    </tr>\n",
       "    <tr>\n",
       "      <th>18</th>\n",
       "      <td>1</td>\n",
       "      <td>5</td>\n",
       "      <td>as here ABCE, FMNG cutting the equator AB in CN), part of them north and part south. They also saw that the stars have different speeds in this diurnal and apparent motion. The fixed stars are fastest of all, since those that are in conjunction with any of...</td>\n",
       "      <td>The latter term corresponded to a star that is slower in the first motion (such as the moon here), which is, as it were, abandoned and left behind (at G) by the swifter ones (E and I).</td>\n",
       "    </tr>\n",
       "    <tr>\n",
       "      <th>19</th>\n",
       "      <td>1</td>\n",
       "      <td>5</td>\n",
       "      <td>as here ABCE, FMNG cutting the equator AB in CN), part of them north and part south. They also saw that the stars have different speeds in this diurnal and apparent motion. The fixed stars are fastest of all, since those that are in conjunction with any of...</td>\n",
       "      <td>For more on this subject see our Optics, Ch.</td>\n",
       "    </tr>\n",
       "  </tbody>\n",
       "</table>\n",
       "</div>"
      ],
      "text/plain": [
       "   Chapter  ParaIndex  \\\n",
       "0        1          0   \n",
       "1        1          1   \n",
       "2        1          2   \n",
       "3        1          2   \n",
       "4        1          2   \n",
       "5        1          2   \n",
       "6        1          3   \n",
       "7        1          3   \n",
       "8        1          4   \n",
       "9        1          4   \n",
       "10       1          5   \n",
       "11       1          5   \n",
       "12       1          5   \n",
       "13       1          5   \n",
       "14       1          5   \n",
       "15       1          5   \n",
       "16       1          5   \n",
       "17       1          5   \n",
       "18       1          5   \n",
       "19       1          5   \n",
       "\n",
       "                                                                                                                                                                                                                                                              Paragraph  \\\n",
       "0                                                                                                                                                                                                                                                             Chapter 1   \n",
       "1                                                                                                                 On the distinction between the first motion and the second or proper motions; and in the proper motions, between the first and the second inequality.   \n",
       "2   The testimony of the ages confirms that the motions of the planets are orbicular.  Reason, having borrowed from experience, immediately presumes this: that their gyrations are perfect circles. For among figures it is circles, and among bodies the heavens, ...   \n",
       "3   The testimony of the ages confirms that the motions of the planets are orbicular.  Reason, having borrowed from experience, immediately presumes this: that their gyrations are perfect circles. For among figures it is circles, and among bodies the heavens, ...   \n",
       "4   The testimony of the ages confirms that the motions of the planets are orbicular.  Reason, having borrowed from experience, immediately presumes this: that their gyrations are perfect circles. For among figures it is circles, and among bodies the heavens, ...   \n",
       "5   The testimony of the ages confirms that the motions of the planets are orbicular.  Reason, having borrowed from experience, immediately presumes this: that their gyrations are perfect circles. For among figures it is circles, and among bodies the heavens, ...   \n",
       "6   It is just this from which astronomy arose among humans. Astronomy's aim is considered to be to show why the stars' motions appear to be irregular on earth, despite their being exceedingly well ordered in heaven, and to investigate the specific circles whe...   \n",
       "7   It is just this from which astronomy arose among humans. Astronomy's aim is considered to be to show why the stars' motions appear to be irregular on earth, despite their being exceedingly well ordered in heaven, and to investigate the specific circles whe...   \n",
       "8   Before the distinction between the first motion(1) and the second motions(2) was established, people noted (in contemplating the sun, moon and stars) that their diurnal paths were visually very nearly equivalent to circles. These were, however, entwined on...   \n",
       "9   Before the distinction between the first motion(1) and the second motions(2) was established, people noted (in contemplating the sun, moon and stars) that their diurnal paths were visually very nearly equivalent to circles. These were, however, entwined on...   \n",
       "10  as here ABCE, FMNG cutting the equator AB in CN), part of them north and part south. They also saw that the stars have different speeds in this diurnal and apparent motion. The fixed stars are fastest of all, since those that are in conjunction with any of...   \n",
       "11  as here ABCE, FMNG cutting the equator AB in CN), part of them north and part south. They also saw that the stars have different speeds in this diurnal and apparent motion. The fixed stars are fastest of all, since those that are in conjunction with any of...   \n",
       "12  as here ABCE, FMNG cutting the equator AB in CN), part of them north and part south. They also saw that the stars have different speeds in this diurnal and apparent motion. The fixed stars are fastest of all, since those that are in conjunction with any of...   \n",
       "13  as here ABCE, FMNG cutting the equator AB in CN), part of them north and part south. They also saw that the stars have different speeds in this diurnal and apparent motion. The fixed stars are fastest of all, since those that are in conjunction with any of...   \n",
       "14  as here ABCE, FMNG cutting the equator AB in CN), part of them north and part south. They also saw that the stars have different speeds in this diurnal and apparent motion. The fixed stars are fastest of all, since those that are in conjunction with any of...   \n",
       "15  as here ABCE, FMNG cutting the equator AB in CN), part of them north and part south. They also saw that the stars have different speeds in this diurnal and apparent motion. The fixed stars are fastest of all, since those that are in conjunction with any of...   \n",
       "16  as here ABCE, FMNG cutting the equator AB in CN), part of them north and part south. They also saw that the stars have different speeds in this diurnal and apparent motion. The fixed stars are fastest of all, since those that are in conjunction with any of...   \n",
       "17  as here ABCE, FMNG cutting the equator AB in CN), part of them north and part south. They also saw that the stars have different speeds in this diurnal and apparent motion. The fixed stars are fastest of all, since those that are in conjunction with any of...   \n",
       "18  as here ABCE, FMNG cutting the equator AB in CN), part of them north and part south. They also saw that the stars have different speeds in this diurnal and apparent motion. The fixed stars are fastest of all, since those that are in conjunction with any of...   \n",
       "19  as here ABCE, FMNG cutting the equator AB in CN), part of them north and part south. They also saw that the stars have different speeds in this diurnal and apparent motion. The fixed stars are fastest of all, since those that are in conjunction with any of...   \n",
       "\n",
       "                                                                                                                                                                                                                                                               Sentence  \n",
       "0                                                                                                                                                                                                                                                             Chapter 1  \n",
       "1                                                                                                                 On the distinction between the first motion and the second or proper motions; and in the proper motions, between the first and the second inequality.  \n",
       "2                                                                                                                                                                                     The testimony of the ages confirms that the motions of the planets are orbicular.  \n",
       "3                                                                                                                                                         Reason, having borrowed from experience, immediately presumes this: that their gyrations are perfect circles.  \n",
       "4                                                                                                                                                                  For among figures it is circles, and among bodies the heavens, that are considered the most perfect.  \n",
       "5         However, when experience seems to teach something different to those who pay careful attention, namely, that the planets deviate from a simple circular path, it gives rise to a powerful sense of wonder, which at length drives people to look into causes.  \n",
       "6                                                                                                                                                                                                              It is just this from which astronomy arose among humans.  \n",
       "7   Astronomy's aim is considered to be to show why the stars' motions appear to be irregular on earth, despite their being exceedingly well ordered in heaven, and to investigate the specific circles whereby the stars may be moved, so that by their aid the pos...  \n",
       "8                                       Before the distinction between the first motion(1) and the second motions(2) was established, people noted (in contemplating the sun, moon and stars) that their diurnal paths were visually very nearly equivalent to circles.  \n",
       "9                                                                                             These were, however, entwined one upon another like yarn on a ball, and the circles were for the most part smaller(3) circles of the sphere, rarely the greatest(4) (such  \n",
       "10                                                                                                                                                                                 as here ABCE, FMNG cutting the equator AB in CN), part of them north and part south.  \n",
       "11                                                                                                                                                                              They also saw that the stars have different speeds in this diurnal and apparent motion.  \n",
       "12                                                    The fixed stars are fastest of all, since those that are in conjunction with any of the planets on the preceding day (such as H with A and F) come to their setting first (such as H, moving along LK back to I).  \n",
       "13                                                                                    The sun (on ABE) is slower, as on the following day it stands at E and so its setting follows that of the fixed stars at I with which on the previous day it was conjoined on HA.  \n",
       "14  Slower still than this, slowest of all the stars, is the moon, since after setting with the sun today (at A, the moon being at F), it lags by an appreciable interval (EG) tomorrow when the sun sets (at E, the whole heaven and the moon along with it having ...  \n",
       "15                                                                       Hence the Pythagoreans, when they shared out musical tones among the stars, gave the lowest (the hypate among the strings of the lyre)1 to the moon, because the motions of both were slowest.  \n",
       "16                                                                                                                                                                                                    Hence have originated the words προηγούμενος and ὑπολειπτικός ^2.  \n",
       "17                                                                                  The former of these terms originally corresponded to a star which, on the next day, comes to its setting earlier (the sun E is said to be προηγούμενος with respect to the moon G).  \n",
       "18                                                                             The latter term corresponded to a star that is slower in the first motion (such as the moon here), which is, as it were, abandoned and left behind (at G) by the swifter ones (E and I).  \n",
       "19                                                                                                                                                                                                                         For more on this subject see our Optics, Ch.  "
      ]
     },
     "execution_count": 39,
     "metadata": {},
     "output_type": "execute_result"
    }
   ],
   "source": [
    "df.head(20)"
   ]
  },
  {
   "cell_type": "markdown",
   "metadata": {},
   "source": [
    "here we also add a index counter for the sentences"
   ]
  },
  {
   "cell_type": "code",
   "execution_count": 40,
   "metadata": {},
   "outputs": [],
   "source": [
    "df.insert(loc=2, column='SentIndex', value=df.index)"
   ]
  },
  {
   "cell_type": "code",
   "execution_count": 41,
   "metadata": {},
   "outputs": [
    {
     "data": {
      "text/html": [
       "<div>\n",
       "<style scoped>\n",
       "    .dataframe tbody tr th:only-of-type {\n",
       "        vertical-align: middle;\n",
       "    }\n",
       "\n",
       "    .dataframe tbody tr th {\n",
       "        vertical-align: top;\n",
       "    }\n",
       "\n",
       "    .dataframe thead th {\n",
       "        text-align: right;\n",
       "    }\n",
       "</style>\n",
       "<table border=\"1\" class=\"dataframe\">\n",
       "  <thead>\n",
       "    <tr style=\"text-align: right;\">\n",
       "      <th></th>\n",
       "      <th>Chapter</th>\n",
       "      <th>ParaIndex</th>\n",
       "      <th>SentIndex</th>\n",
       "      <th>Paragraph</th>\n",
       "      <th>Sentence</th>\n",
       "    </tr>\n",
       "  </thead>\n",
       "  <tbody>\n",
       "    <tr>\n",
       "      <th>0</th>\n",
       "      <td>1</td>\n",
       "      <td>0</td>\n",
       "      <td>0</td>\n",
       "      <td>Chapter 1</td>\n",
       "      <td>Chapter 1</td>\n",
       "    </tr>\n",
       "    <tr>\n",
       "      <th>1</th>\n",
       "      <td>1</td>\n",
       "      <td>1</td>\n",
       "      <td>1</td>\n",
       "      <td>On the distinction between the first motion and the second or proper motions; and in the proper motions, between the first and the second inequality.</td>\n",
       "      <td>On the distinction between the first motion and the second or proper motions; and in the proper motions, between the first and the second inequality.</td>\n",
       "    </tr>\n",
       "    <tr>\n",
       "      <th>2</th>\n",
       "      <td>1</td>\n",
       "      <td>2</td>\n",
       "      <td>2</td>\n",
       "      <td>The testimony of the ages confirms that the motions of the planets are orbicular.  Reason, having borrowed from experience, immediately presumes this: that their gyrations are perfect circles. For among figures it is circles, and among bodies the heavens, ...</td>\n",
       "      <td>The testimony of the ages confirms that the motions of the planets are orbicular.</td>\n",
       "    </tr>\n",
       "    <tr>\n",
       "      <th>3</th>\n",
       "      <td>1</td>\n",
       "      <td>2</td>\n",
       "      <td>3</td>\n",
       "      <td>The testimony of the ages confirms that the motions of the planets are orbicular.  Reason, having borrowed from experience, immediately presumes this: that their gyrations are perfect circles. For among figures it is circles, and among bodies the heavens, ...</td>\n",
       "      <td>Reason, having borrowed from experience, immediately presumes this: that their gyrations are perfect circles.</td>\n",
       "    </tr>\n",
       "    <tr>\n",
       "      <th>4</th>\n",
       "      <td>1</td>\n",
       "      <td>2</td>\n",
       "      <td>4</td>\n",
       "      <td>The testimony of the ages confirms that the motions of the planets are orbicular.  Reason, having borrowed from experience, immediately presumes this: that their gyrations are perfect circles. For among figures it is circles, and among bodies the heavens, ...</td>\n",
       "      <td>For among figures it is circles, and among bodies the heavens, that are considered the most perfect.</td>\n",
       "    </tr>\n",
       "  </tbody>\n",
       "</table>\n",
       "</div>"
      ],
      "text/plain": [
       "  Chapter  ParaIndex  SentIndex  \\\n",
       "0       1          0          0   \n",
       "1       1          1          1   \n",
       "2       1          2          2   \n",
       "3       1          2          3   \n",
       "4       1          2          4   \n",
       "\n",
       "                                                                                                                                                                                                                                                             Paragraph  \\\n",
       "0                                                                                                                                                                                                                                                            Chapter 1   \n",
       "1                                                                                                                On the distinction between the first motion and the second or proper motions; and in the proper motions, between the first and the second inequality.   \n",
       "2  The testimony of the ages confirms that the motions of the planets are orbicular.  Reason, having borrowed from experience, immediately presumes this: that their gyrations are perfect circles. For among figures it is circles, and among bodies the heavens, ...   \n",
       "3  The testimony of the ages confirms that the motions of the planets are orbicular.  Reason, having borrowed from experience, immediately presumes this: that their gyrations are perfect circles. For among figures it is circles, and among bodies the heavens, ...   \n",
       "4  The testimony of the ages confirms that the motions of the planets are orbicular.  Reason, having borrowed from experience, immediately presumes this: that their gyrations are perfect circles. For among figures it is circles, and among bodies the heavens, ...   \n",
       "\n",
       "                                                                                                                                                Sentence  \n",
       "0                                                                                                                                              Chapter 1  \n",
       "1  On the distinction between the first motion and the second or proper motions; and in the proper motions, between the first and the second inequality.  \n",
       "2                                                                      The testimony of the ages confirms that the motions of the planets are orbicular.  \n",
       "3                                          Reason, having borrowed from experience, immediately presumes this: that their gyrations are perfect circles.  \n",
       "4                                                   For among figures it is circles, and among bodies the heavens, that are considered the most perfect.  "
      ]
     },
     "execution_count": 41,
     "metadata": {},
     "output_type": "execute_result"
    }
   ],
   "source": [
    "df.head()"
   ]
  },
  {
   "cell_type": "code",
   "execution_count": 42,
   "metadata": {},
   "outputs": [
    {
     "data": {
      "text/html": [
       "<div>\n",
       "<style scoped>\n",
       "    .dataframe tbody tr th:only-of-type {\n",
       "        vertical-align: middle;\n",
       "    }\n",
       "\n",
       "    .dataframe tbody tr th {\n",
       "        vertical-align: top;\n",
       "    }\n",
       "\n",
       "    .dataframe thead th {\n",
       "        text-align: right;\n",
       "    }\n",
       "</style>\n",
       "<table border=\"1\" class=\"dataframe\">\n",
       "  <thead>\n",
       "    <tr style=\"text-align: right;\">\n",
       "      <th></th>\n",
       "      <th>Chapter</th>\n",
       "      <th>ParaIndex</th>\n",
       "      <th>SentIndex</th>\n",
       "      <th>Paragraph</th>\n",
       "      <th>Sentence</th>\n",
       "    </tr>\n",
       "  </thead>\n",
       "  <tbody>\n",
       "    <tr>\n",
       "      <th>6694</th>\n",
       "      <td>appendix b</td>\n",
       "      <td>1603</td>\n",
       "      <td>6694</td>\n",
       "      <td>As shown in Figure 2B, the Sun is assumed to be at the center of the planetary system. The longitudes of Mars and Earth's in reference to the center of the Sun are 198° 21' 30\" and 199° 20' 8\" respectively. The deviation of elongation between Mars and the...</td>\n",
       "      <td>To find the position of Mars at opposition, Kepler computed the angular distance that Mars and Earth—now substituting the place of the Sun—moved during 17 hours 20 minutes; Mars moved eastward about 16' 20\" and the Sun westward about 42' 18\".</td>\n",
       "    </tr>\n",
       "    <tr>\n",
       "      <th>6695</th>\n",
       "      <td>appendix b</td>\n",
       "      <td>1603</td>\n",
       "      <td>6695</td>\n",
       "      <td>As shown in Figure 2B, the Sun is assumed to be at the center of the planetary system. The longitudes of Mars and Earth's in reference to the center of the Sun are 198° 21' 30\" and 199° 20' 8\" respectively. The deviation of elongation between Mars and the...</td>\n",
       "      <td>Accordingly, Kepler determined the longitude of Mars at opposition to be 198° 37' 50\" from which he subtracted about 39\" in order to correct Mars's orbit; he got 198° 37' 10\" (18° 37' 10\" Libra).</td>\n",
       "    </tr>\n",
       "    <tr>\n",
       "      <th>6696</th>\n",
       "      <td>appendix b</td>\n",
       "      <td>1604</td>\n",
       "      <td>6696</td>\n",
       "      <td>The Sun moved westward and its longitude decreased from the time of observation to its position opposite to Mars. Therefore, the time of opposition is 17 hours 20 minutes before March 29, at 21:43, the time when the observation was made. Kepler determined ...</td>\n",
       "      <td>The Sun moved westward and its longitude decreased from the time of observation to its position opposite to Mars.</td>\n",
       "    </tr>\n",
       "    <tr>\n",
       "      <th>6697</th>\n",
       "      <td>appendix b</td>\n",
       "      <td>1604</td>\n",
       "      <td>6697</td>\n",
       "      <td>The Sun moved westward and its longitude decreased from the time of observation to its position opposite to Mars. Therefore, the time of opposition is 17 hours 20 minutes before March 29, at 21:43, the time when the observation was made. Kepler determined ...</td>\n",
       "      <td>Therefore, the time of opposition is 17 hours 20 minutes before March 29, at 21:43, the time when the observation was made.</td>\n",
       "    </tr>\n",
       "    <tr>\n",
       "      <th>6698</th>\n",
       "      <td>appendix b</td>\n",
       "      <td>1604</td>\n",
       "      <td>6698</td>\n",
       "      <td>The Sun moved westward and its longitude decreased from the time of observation to its position opposite to Mars. Therefore, the time of opposition is 17 hours 20 minutes before March 29, at 21:43, the time when the observation was made. Kepler determined ...</td>\n",
       "      <td>Kepler determined the time of opposition on March 28, 4h 23m AM, old style.</td>\n",
       "    </tr>\n",
       "  </tbody>\n",
       "</table>\n",
       "</div>"
      ],
      "text/plain": [
       "         Chapter  ParaIndex  SentIndex  \\\n",
       "6694  appendix b       1603       6694   \n",
       "6695  appendix b       1603       6695   \n",
       "6696  appendix b       1604       6696   \n",
       "6697  appendix b       1604       6697   \n",
       "6698  appendix b       1604       6698   \n",
       "\n",
       "                                                                                                                                                                                                                                                                Paragraph  \\\n",
       "6694   As shown in Figure 2B, the Sun is assumed to be at the center of the planetary system. The longitudes of Mars and Earth's in reference to the center of the Sun are 198° 21' 30\" and 199° 20' 8\" respectively. The deviation of elongation between Mars and the...   \n",
       "6695   As shown in Figure 2B, the Sun is assumed to be at the center of the planetary system. The longitudes of Mars and Earth's in reference to the center of the Sun are 198° 21' 30\" and 199° 20' 8\" respectively. The deviation of elongation between Mars and the...   \n",
       "6696  The Sun moved westward and its longitude decreased from the time of observation to its position opposite to Mars. Therefore, the time of opposition is 17 hours 20 minutes before March 29, at 21:43, the time when the observation was made. Kepler determined ...   \n",
       "6697  The Sun moved westward and its longitude decreased from the time of observation to its position opposite to Mars. Therefore, the time of opposition is 17 hours 20 minutes before March 29, at 21:43, the time when the observation was made. Kepler determined ...   \n",
       "6698  The Sun moved westward and its longitude decreased from the time of observation to its position opposite to Mars. Therefore, the time of opposition is 17 hours 20 minutes before March 29, at 21:43, the time when the observation was made. Kepler determined ...   \n",
       "\n",
       "                                                                                                                                                                                                                                                Sentence  \n",
       "6694  To find the position of Mars at opposition, Kepler computed the angular distance that Mars and Earth—now substituting the place of the Sun—moved during 17 hours 20 minutes; Mars moved eastward about 16' 20\" and the Sun westward about 42' 18\".  \n",
       "6695                                                 Accordingly, Kepler determined the longitude of Mars at opposition to be 198° 37' 50\" from which he subtracted about 39\" in order to correct Mars's orbit; he got 198° 37' 10\" (18° 37' 10\" Libra).  \n",
       "6696                                                                                                                                   The Sun moved westward and its longitude decreased from the time of observation to its position opposite to Mars.  \n",
       "6697                                                                                                                         Therefore, the time of opposition is 17 hours 20 minutes before March 29, at 21:43, the time when the observation was made.  \n",
       "6698                                                                                                                                                                         Kepler determined the time of opposition on March 28, 4h 23m AM, old style.  "
      ]
     },
     "execution_count": 42,
     "metadata": {},
     "output_type": "execute_result"
    }
   ],
   "source": [
    "df.tail()"
   ]
  },
  {
   "cell_type": "markdown",
   "metadata": {},
   "source": [
    "# Upload customized spaCy model provioded by our training data in prodigy"
   ]
  },
  {
   "cell_type": "code",
   "execution_count": 43,
   "metadata": {},
   "outputs": [
    {
     "ename": "OSError",
     "evalue": "[E050] Can't find model '../data/Model_U34'. It doesn't seem to be a shortcut link, a Python package or a valid path to a data directory.",
     "output_type": "error",
     "traceback": [
      "\u001b[1;31m---------------------------------------------------------------------------\u001b[0m",
      "\u001b[1;31mOSError\u001b[0m                                   Traceback (most recent call last)",
      "\u001b[1;32m<ipython-input-43-b03cb8639db0>\u001b[0m in \u001b[0;36m<module>\u001b[1;34m\u001b[0m\n\u001b[0;32m      1\u001b[0m \u001b[1;31m#path= '../data/Model_V17' for V01\u001b[0m\u001b[1;33m\u001b[0m\u001b[1;33m\u001b[0m\u001b[1;33m\u001b[0m\u001b[0m\n\u001b[0;32m      2\u001b[0m \u001b[0mpath\u001b[0m\u001b[1;33m=\u001b[0m \u001b[1;34m'../data/Model_U34'\u001b[0m\u001b[1;33m\u001b[0m\u001b[1;33m\u001b[0m\u001b[0m\n\u001b[1;32m----> 3\u001b[1;33m \u001b[0mnlp\u001b[0m\u001b[1;33m=\u001b[0m\u001b[0mspacy\u001b[0m\u001b[1;33m.\u001b[0m\u001b[0mload\u001b[0m\u001b[1;33m(\u001b[0m\u001b[0mpath\u001b[0m\u001b[1;33m)\u001b[0m\u001b[1;33m\u001b[0m\u001b[1;33m\u001b[0m\u001b[0m\n\u001b[0m",
      "\u001b[1;32m~\\Anaconda3\\envs\\env_full\\lib\\site-packages\\spacy\\__init__.py\u001b[0m in \u001b[0;36mload\u001b[1;34m(name, **overrides)\u001b[0m\n\u001b[0;32m     28\u001b[0m     \u001b[1;32mif\u001b[0m \u001b[0mdepr_path\u001b[0m \u001b[1;32mnot\u001b[0m \u001b[1;32min\u001b[0m \u001b[1;33m(\u001b[0m\u001b[1;32mTrue\u001b[0m\u001b[1;33m,\u001b[0m \u001b[1;32mFalse\u001b[0m\u001b[1;33m,\u001b[0m \u001b[1;32mNone\u001b[0m\u001b[1;33m)\u001b[0m\u001b[1;33m:\u001b[0m\u001b[1;33m\u001b[0m\u001b[1;33m\u001b[0m\u001b[0m\n\u001b[0;32m     29\u001b[0m         \u001b[0mdeprecation_warning\u001b[0m\u001b[1;33m(\u001b[0m\u001b[0mWarnings\u001b[0m\u001b[1;33m.\u001b[0m\u001b[0mW001\u001b[0m\u001b[1;33m.\u001b[0m\u001b[0mformat\u001b[0m\u001b[1;33m(\u001b[0m\u001b[0mpath\u001b[0m\u001b[1;33m=\u001b[0m\u001b[0mdepr_path\u001b[0m\u001b[1;33m)\u001b[0m\u001b[1;33m)\u001b[0m\u001b[1;33m\u001b[0m\u001b[1;33m\u001b[0m\u001b[0m\n\u001b[1;32m---> 30\u001b[1;33m     \u001b[1;32mreturn\u001b[0m \u001b[0mutil\u001b[0m\u001b[1;33m.\u001b[0m\u001b[0mload_model\u001b[0m\u001b[1;33m(\u001b[0m\u001b[0mname\u001b[0m\u001b[1;33m,\u001b[0m \u001b[1;33m**\u001b[0m\u001b[0moverrides\u001b[0m\u001b[1;33m)\u001b[0m\u001b[1;33m\u001b[0m\u001b[1;33m\u001b[0m\u001b[0m\n\u001b[0m\u001b[0;32m     31\u001b[0m \u001b[1;33m\u001b[0m\u001b[0m\n\u001b[0;32m     32\u001b[0m \u001b[1;33m\u001b[0m\u001b[0m\n",
      "\u001b[1;32m~\\Anaconda3\\envs\\env_full\\lib\\site-packages\\spacy\\util.py\u001b[0m in \u001b[0;36mload_model\u001b[1;34m(name, **overrides)\u001b[0m\n\u001b[0;32m    167\u001b[0m     \u001b[1;32melif\u001b[0m \u001b[0mhasattr\u001b[0m\u001b[1;33m(\u001b[0m\u001b[0mname\u001b[0m\u001b[1;33m,\u001b[0m \u001b[1;34m\"exists\"\u001b[0m\u001b[1;33m)\u001b[0m\u001b[1;33m:\u001b[0m  \u001b[1;31m# Path or Path-like to model data\u001b[0m\u001b[1;33m\u001b[0m\u001b[1;33m\u001b[0m\u001b[0m\n\u001b[0;32m    168\u001b[0m         \u001b[1;32mreturn\u001b[0m \u001b[0mload_model_from_path\u001b[0m\u001b[1;33m(\u001b[0m\u001b[0mname\u001b[0m\u001b[1;33m,\u001b[0m \u001b[1;33m**\u001b[0m\u001b[0moverrides\u001b[0m\u001b[1;33m)\u001b[0m\u001b[1;33m\u001b[0m\u001b[1;33m\u001b[0m\u001b[0m\n\u001b[1;32m--> 169\u001b[1;33m     \u001b[1;32mraise\u001b[0m \u001b[0mIOError\u001b[0m\u001b[1;33m(\u001b[0m\u001b[0mErrors\u001b[0m\u001b[1;33m.\u001b[0m\u001b[0mE050\u001b[0m\u001b[1;33m.\u001b[0m\u001b[0mformat\u001b[0m\u001b[1;33m(\u001b[0m\u001b[0mname\u001b[0m\u001b[1;33m=\u001b[0m\u001b[0mname\u001b[0m\u001b[1;33m)\u001b[0m\u001b[1;33m)\u001b[0m\u001b[1;33m\u001b[0m\u001b[1;33m\u001b[0m\u001b[0m\n\u001b[0m\u001b[0;32m    170\u001b[0m \u001b[1;33m\u001b[0m\u001b[0m\n\u001b[0;32m    171\u001b[0m \u001b[1;33m\u001b[0m\u001b[0m\n",
      "\u001b[1;31mOSError\u001b[0m: [E050] Can't find model '../data/Model_U34'. It doesn't seem to be a shortcut link, a Python package or a valid path to a data directory."
     ]
    }
   ],
   "source": [
    "#path= '../data/Model_V17' for V01\n",
    "path= '../data/Model_U34'\n",
    "nlp=spacy.load(path)"
   ]
  },
  {
   "cell_type": "code",
   "execution_count": null,
   "metadata": {},
   "outputs": [],
   "source": [
    "def entity(x):\n",
    "    a=[]\n",
    "    b=[]\n",
    "    for ent in nlp(x).ents:\n",
    "        a +=ent.text,\n",
    "        b +=ent.label_,\n",
    "    c=list(zip(a,b))\n",
    "    return c"
   ]
  },
  {
   "cell_type": "markdown",
   "metadata": {},
   "source": [
    "def attribute(x):\n",
    "    a=[]\n",
    "    b=[]\n",
    "    c=[]\n",
    "    d=[]\n",
    "    e=[]\n",
    "    for token in nlp(x):\n",
    "        a +=token.text,\n",
    "        b += token.pos_,\n",
    "        c += token.tag_,\n",
    "        d += token.dep_,\n",
    "        e += token.lemma_\n",
    "    z=list(zip(a,b,c,d,e))\n",
    "    return z"
   ]
  },
  {
   "cell_type": "markdown",
   "metadata": {},
   "source": [
    "def satz_analytic2(satz):\n",
    "#    merkmal = dict({\"satz\":satz.text})\n",
    "    merkmal=dict({})\n",
    "# search for main verb\n",
    "    for t in satz:\n",
    "        if t.dep_ == \"ROOT\":\n",
    "            r=t.head.text\n",
    "            merkmal.update({\"act\":r})\n",
    "# subject and object related to verb\n",
    "    for t in satz:\n",
    "        if t.dep_ == \"dobj\" and merkmal[\"act\"]==t.head.text:\n",
    "             merkmal.update({\"obj\":''.join(w.text_with_ws for w in t.subtree)})\n",
    "        if t.dep_ == \"nsubj\" and merkmal[\"act\"]==t.head.text:\n",
    "            merkmal.update({\"subject\":t.text.lower()})\n",
    "\n",
    "    return(merkmal)"
   ]
  },
  {
   "cell_type": "markdown",
   "metadata": {},
   "source": [
    "def NerFeature(x):\n",
    "    list_en=[]\n",
    "    N=3\n",
    "    X=list(0 for i in range(0,N)) \n",
    "    if x is not None:\n",
    "        for idx in range(0,len(x)):\n",
    "            list_en.append(x[idx][1])\n",
    "            result_0=any([lst in list_en for lst in [\"DATE\"]])\n",
    "            if result_0:\n",
    "                X[0]=1\n",
    "            result_1=any([lst in list_en for lst in [\"TIME\"]])\n",
    "            if result_1:\n",
    "                X[1]=1\n",
    "            result_2=any([lst in list_en for lst in [\"LONG\"]])\n",
    "            if result_2:\n",
    "                X[2]=1 \n",
    "    else:\n",
    "        X=list(0 for i in range(0,N))\n",
    "    return X "
   ]
  },
  {
   "cell_type": "markdown",
   "metadata": {},
   "source": [
    "def noun_chunk(x):\n",
    "    a=[]\n",
    "    for chunk in nlp(x).noun_chunks:\n",
    "        a.append(chunk)\n",
    "    return a"
   ]
  },
  {
   "cell_type": "markdown",
   "metadata": {},
   "source": [
    "df['chunks'] = df['sents'].apply(lambda x: noun_chunk(x))"
   ]
  },
  {
   "cell_type": "code",
   "execution_count": null,
   "metadata": {},
   "outputs": [],
   "source": [
    "#df[\"ASO\"]=df[\"Sentence\"].apply(lambda y: satz_analytic2(nlp(y)))"
   ]
  },
  {
   "cell_type": "code",
   "execution_count": null,
   "metadata": {},
   "outputs": [],
   "source": [
    "df['Entities'] = df['Sentence'].apply(lambda x: entity(x))"
   ]
  },
  {
   "cell_type": "code",
   "execution_count": null,
   "metadata": {},
   "outputs": [],
   "source": [
    "#df['CNER'] = df['Entities'].apply(lambda x: NerFeature(x))"
   ]
  },
  {
   "cell_type": "code",
   "execution_count": null,
   "metadata": {},
   "outputs": [],
   "source": [
    "df.head(20)"
   ]
  },
  {
   "cell_type": "code",
   "execution_count": null,
   "metadata": {},
   "outputs": [],
   "source": [
    "df.tail(10)\n"
   ]
  },
  {
   "cell_type": "markdown",
   "metadata": {},
   "source": [
    "def annot_observation_01(x):\n",
    "    list_en=[]\n",
    "    for idx in range(0,len(x)):\n",
    "        list_en.append(x[idx][1])\n",
    "    if any (lst in (\"LONG\",\"DATE\",\"TIME\") for lst in list_en):\n",
    "        y=1\n",
    "    else:\n",
    "        y=0 \n",
    "    return y"
   ]
  },
  {
   "cell_type": "markdown",
   "metadata": {},
   "source": [
    "def annot_observation_02(x):\n",
    "    list_en=[]\n",
    "    for idx in range(0,len(x)):\n",
    "        list_en.append(x[idx][1])\n",
    "    result= all(lst in list_en for lst in [\"LONG\",\"DATE\",\"TIME\"])\n",
    "    if result:\n",
    "        #y=1\n",
    "        y=\"Obs\"\n",
    "    else:\n",
    "        y=\"NObs\"\n",
    "    return y\n",
    "              "
   ]
  },
  {
   "cell_type": "markdown",
   "metadata": {},
   "source": [
    "def annot_observation_03(x):\n",
    "    list_en=[]\n",
    "    for idx in range(0,len(x)):\n",
    "        list_en.append(x[idx][1])\n",
    "    result= all(lst in list_en for lst in [\"DATE\",\"TIME\"])\n",
    "    if result:\n",
    "        y=1\n",
    "    else:\n",
    "        y=0\n",
    "    return y"
   ]
  },
  {
   "cell_type": "code",
   "execution_count": null,
   "metadata": {},
   "outputs": [],
   "source": [
    "#df['Label'] = df['Entities'].apply(lambda x: annot_observation_02(x))"
   ]
  },
  {
   "cell_type": "code",
   "execution_count": null,
   "metadata": {},
   "outputs": [],
   "source": [
    "df.head()"
   ]
  },
  {
   "cell_type": "code",
   "execution_count": null,
   "metadata": {},
   "outputs": [],
   "source": [
    "df.tail(10)"
   ]
  },
  {
   "cell_type": "code",
   "execution_count": null,
   "metadata": {},
   "outputs": [],
   "source": [
    "df[(df.Label==\"Obs\")]"
   ]
  },
  {
   "cell_type": "code",
   "execution_count": null,
   "metadata": {},
   "outputs": [],
   "source": [
    "def show_chapter(x):\n",
    "     return df.loc[df.Chapter==10]"
   ]
  },
  {
   "cell_type": "code",
   "execution_count": null,
   "metadata": {},
   "outputs": [],
   "source": [
    "len(df)"
   ]
  },
  {
   "cell_type": "code",
   "execution_count": null,
   "metadata": {},
   "outputs": [],
   "source": [
    "interact(show_chapter,x=(1,70,1))      "
   ]
  },
  {
   "cell_type": "code",
   "execution_count": null,
   "metadata": {},
   "outputs": [],
   "source": [
    "df.info()"
   ]
  },
  {
   "cell_type": "code",
   "execution_count": null,
   "metadata": {},
   "outputs": [],
   "source": [
    "df.dtypes"
   ]
  },
  {
   "cell_type": "markdown",
   "metadata": {},
   "source": [
    "## Save the result as a JSON file"
   ]
  },
  {
   "cell_type": "markdown",
   "metadata": {},
   "source": [
    "We have provided 3 different versions of annotation of observational sentences based on rule-based methods specifically using named entity recognition. These can be modified by a human annotator for having more precise labels. \n",
    "- A01--> If there is an entity from labels LONG, DATA, TIME in the sentences. we consider the sentence as an observational sentences \n",
    "\n",
    "\n",
    "- A02-->If there are all entities from labels LONG, DATA, TIME in the sentence. We consider the sentence as an observational sentence\n",
    "\n",
    "-  A03 -->If there are all entities from labels  DATA, TIME in the sentence. We consider the sentence as an observational sentence"
   ]
  },
  {
   "cell_type": "markdown",
   "metadata": {},
   "source": [
    "save the data without Observatioanl Column"
   ]
  },
  {
   "cell_type": "code",
   "execution_count": null,
   "metadata": {},
   "outputs": [],
   "source": [
    "df.to_json(\"dfV08A02.json\")\n"
   ]
  },
  {
   "cell_type": "code",
   "execution_count": null,
   "metadata": {},
   "outputs": [],
   "source": [
    "df.to_pickle(\"dfV08A02.pkl\")"
   ]
  },
  {
   "cell_type": "code",
   "execution_count": null,
   "metadata": {},
   "outputs": [],
   "source": [
    "#df.to_json(\"dfObsV01A01.json\")\n",
    "df.to_json(\"dfObsR01V05A02.json\")\n",
    "#df.to_json(\"dfObsV01A03.json\")"
   ]
  },
  {
   "cell_type": "code",
   "execution_count": null,
   "metadata": {},
   "outputs": [],
   "source": [
    "df.to_pickle(\"dfObsR01V05A02.pickle\")"
   ]
  }
 ],
 "metadata": {
  "kernelspec": {
   "display_name": "Python 3",
   "language": "python",
   "name": "python3"
  },
  "language_info": {
   "codemirror_mode": {
    "name": "ipython",
    "version": 3
   },
   "file_extension": ".py",
   "mimetype": "text/x-python",
   "name": "python",
   "nbconvert_exporter": "python",
   "pygments_lexer": "ipython3",
   "version": "3.7.5"
  }
 },
 "nbformat": 4,
 "nbformat_minor": 4
}
