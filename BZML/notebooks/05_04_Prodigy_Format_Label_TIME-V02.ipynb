{
 "cells": [
  {
   "cell_type": "markdown",
   "metadata": {},
   "source": [
    "# Regex and Prodigy (LABEL: TIME)\n",
    "\n"
   ]
  },
  {
   "cell_type": "markdown",
   "metadata": {},
   "source": [
    "<font size= \"3\">\n",
    "Annotation of entities for sentences based on prodigy's format for different labels for further usage in Machine learning. Prodigy is an annotation tool based on spaCy. Please see here:\n",
    "    </p>\n",
    "  <a href=\"https://prodi.gy/ \"> Prodigy </a> \n",
    "<font 3>"
   ]
  },
  {
   "cell_type": "markdown",
   "metadata": {},
   "source": [
    "## Imports"
   ]
  },
  {
   "cell_type": "code",
   "execution_count": 1,
   "metadata": {},
   "outputs": [],
   "source": [
    "import pandas as pd\n",
    "import numpy as np\n",
    "import re\n",
    "import pandas as pd\n",
    "import matplotlib.pyplot as plt\n",
    "import scipy as sp\n",
    "import spacy \n",
    "import re\n",
    "from prodigy.util import write_jsonl\n",
    "\n"
   ]
  },
  {
   "cell_type": "markdown",
   "metadata": {},
   "source": [
    "## Read the Data"
   ]
  },
  {
   "cell_type": "code",
   "execution_count": 2,
   "metadata": {},
   "outputs": [],
   "source": [
    "importVersion = '013'"
   ]
  },
  {
   "cell_type": "code",
   "execution_count": 3,
   "metadata": {},
   "outputs": [],
   "source": [
    "path= '../data/01_df_v{0}.pickle'.format(importVersion)# Put the path of the data in your local machine here, consider the letter \"r\" before the path\n",
    "dfAstroNova = pd.read_pickle(path)"
   ]
  },
  {
   "cell_type": "markdown",
   "metadata": {},
   "source": [
    "# Sort based on the Chapter "
   ]
  },
  {
   "cell_type": "code",
   "execution_count": 4,
   "metadata": {},
   "outputs": [],
   "source": [
    "# Sort the data based on the chapters of the book \n",
    "dfAstroNova['chapter'] = dfAstroNova.chapter.replace(\"appendix b\",np.nan).astype(float)  \n",
    "dfAstroNova = dfAstroNova.rename_axis('MyIdx').sort_values(by = ['chapter', 'MyIdx'], ascending = [True, True])\n",
    "dfAstroNova.chapter.fillna('appendix b', inplace=True)"
   ]
  },
  {
   "cell_type": "code",
   "execution_count": 5,
   "metadata": {},
   "outputs": [],
   "source": [
    "dfAstroNova.reset_index(inplace=True)\n",
    "dfAstroNova=dfAstroNova.drop(\"MyIdx\",axis=1,inplace=False)\n",
    "dfAstroNova=dfAstroNova.drop(\"html\",axis=1)"
   ]
  },
  {
   "cell_type": "code",
   "execution_count": 6,
   "metadata": {},
   "outputs": [
    {
     "data": {
      "text/plain": [
       "pandas.core.frame.DataFrame"
      ]
     },
     "execution_count": 6,
     "metadata": {},
     "output_type": "execute_result"
    }
   ],
   "source": [
    "type(dfAstroNova)"
   ]
  },
  {
   "cell_type": "code",
   "execution_count": 7,
   "metadata": {},
   "outputs": [
    {
     "data": {
      "text/html": [
       "<div>\n",
       "<style scoped>\n",
       "    .dataframe tbody tr th:only-of-type {\n",
       "        vertical-align: middle;\n",
       "    }\n",
       "\n",
       "    .dataframe tbody tr th {\n",
       "        vertical-align: top;\n",
       "    }\n",
       "\n",
       "    .dataframe thead th {\n",
       "        text-align: right;\n",
       "    }\n",
       "</style>\n",
       "<table border=\"1\" class=\"dataframe\">\n",
       "  <thead>\n",
       "    <tr style=\"text-align: right;\">\n",
       "      <th></th>\n",
       "      <th>text</th>\n",
       "      <th>links</th>\n",
       "      <th>italic</th>\n",
       "      <th>chapter</th>\n",
       "      <th>graphic</th>\n",
       "      <th>table</th>\n",
       "      <th>marginal</th>\n",
       "      <th>sentences</th>\n",
       "      <th>tagged</th>\n",
       "    </tr>\n",
       "  </thead>\n",
       "  <tbody>\n",
       "    <tr>\n",
       "      <th>0</th>\n",
       "      <td>Chapter 1</td>\n",
       "      <td>[]</td>\n",
       "      <td>[]</td>\n",
       "      <td>1</td>\n",
       "      <td>[]</td>\n",
       "      <td>[]</td>\n",
       "      <td>[]</td>\n",
       "      <td>[Chapter 1]</td>\n",
       "      <td>[[(Chapter, None), (1, NUM)]]</td>\n",
       "    </tr>\n",
       "    <tr>\n",
       "      <th>1</th>\n",
       "      <td>On the distinction between the first motion an...</td>\n",
       "      <td>[]</td>\n",
       "      <td>[]</td>\n",
       "      <td>1</td>\n",
       "      <td>[]</td>\n",
       "      <td>[]</td>\n",
       "      <td>[]</td>\n",
       "      <td>[On the distinction between the first motion a...</td>\n",
       "      <td>[[(On, None), (the, None), (distinction, None)...</td>\n",
       "    </tr>\n",
       "    <tr>\n",
       "      <th>2</th>\n",
       "      <td>The testimony of the ages confirms that the mo...</td>\n",
       "      <td>[]</td>\n",
       "      <td>[]</td>\n",
       "      <td>1</td>\n",
       "      <td>[]</td>\n",
       "      <td>[]</td>\n",
       "      <td>[ Terms: 1. The first motion is that of the wh...</td>\n",
       "      <td>[The testimony of the ages confirms that the m...</td>\n",
       "      <td>[[(The, None), (testimony, None), (of, None), ...</td>\n",
       "    </tr>\n",
       "    <tr>\n",
       "      <th>3</th>\n",
       "      <td>It is just this from which astronomy arose amo...</td>\n",
       "      <td>[]</td>\n",
       "      <td>[]</td>\n",
       "      <td>1</td>\n",
       "      <td>[ ch 1 gr 1]</td>\n",
       "      <td>[]</td>\n",
       "      <td>[]</td>\n",
       "      <td>[It is just this from which astronomy arose am...</td>\n",
       "      <td>[[(It, None), (is, None), (just, None), (this,...</td>\n",
       "    </tr>\n",
       "    <tr>\n",
       "      <th>4</th>\n",
       "      <td>Before the distinction between the first motio...</td>\n",
       "      <td>[]</td>\n",
       "      <td>[(such]</td>\n",
       "      <td>1</td>\n",
       "      <td>[]</td>\n",
       "      <td>[]</td>\n",
       "      <td>[ 2]</td>\n",
       "      <td>[Before the distinction between the first moti...</td>\n",
       "      <td>[[(Before, None), (the, None), (distinction, N...</td>\n",
       "    </tr>\n",
       "  </tbody>\n",
       "</table>\n",
       "</div>"
      ],
      "text/plain": [
       "                                                text links   italic chapter  \\\n",
       "0                                          Chapter 1    []       []       1   \n",
       "1  On the distinction between the first motion an...    []       []       1   \n",
       "2  The testimony of the ages confirms that the mo...    []       []       1   \n",
       "3  It is just this from which astronomy arose amo...    []       []       1   \n",
       "4  Before the distinction between the first motio...    []  [(such]       1   \n",
       "\n",
       "        graphic table                                           marginal  \\\n",
       "0            []    []                                                 []   \n",
       "1            []    []                                                 []   \n",
       "2            []    []  [ Terms: 1. The first motion is that of the wh...   \n",
       "3  [ ch 1 gr 1]    []                                                 []   \n",
       "4            []    []                                               [ 2]   \n",
       "\n",
       "                                           sentences  \\\n",
       "0                                        [Chapter 1]   \n",
       "1  [On the distinction between the first motion a...   \n",
       "2  [The testimony of the ages confirms that the m...   \n",
       "3  [It is just this from which astronomy arose am...   \n",
       "4  [Before the distinction between the first moti...   \n",
       "\n",
       "                                              tagged  \n",
       "0                      [[(Chapter, None), (1, NUM)]]  \n",
       "1  [[(On, None), (the, None), (distinction, None)...  \n",
       "2  [[(The, None), (testimony, None), (of, None), ...  \n",
       "3  [[(It, None), (is, None), (just, None), (this,...  \n",
       "4  [[(Before, None), (the, None), (distinction, N...  "
      ]
     },
     "execution_count": 7,
     "metadata": {},
     "output_type": "execute_result"
    }
   ],
   "source": [
    "dfAstroNova.head(5)"
   ]
  },
  {
   "cell_type": "code",
   "execution_count": 8,
   "metadata": {},
   "outputs": [
    {
     "data": {
      "text/plain": [
       "1605"
      ]
     },
     "execution_count": 8,
     "metadata": {},
     "output_type": "execute_result"
    }
   ],
   "source": [
    "len(dfAstroNova)"
   ]
  },
  {
   "cell_type": "markdown",
   "metadata": {},
   "source": [
    "### Read the Sentences"
   ]
  },
  {
   "cell_type": "code",
   "execution_count": 9,
   "metadata": {},
   "outputs": [],
   "source": [
    "df=dfAstroNova.sentences\n"
   ]
  },
  {
   "cell_type": "code",
   "execution_count": 10,
   "metadata": {},
   "outputs": [],
   "source": [
    "sents=[]\n",
    "for para in dfAstroNova.sentences:\n",
    "    sents +=para"
   ]
  },
  {
   "cell_type": "markdown",
   "metadata": {},
   "source": [
    "## Annotation Based on Consistant format with Prodigy "
   ]
  },
  {
   "cell_type": "markdown",
   "metadata": {},
   "source": [
    "<fig size= 3>\n",
    "Prodigy accept a specific format; a JSONL format (newline-delimited JSON). Entities and other highlighted spans of text can be defined in the \"spans\" property. A example could look like this dictionary:\n",
    "</p>    \n",
    "text': 'On 1595 October 30 at 8h 20m, they found Mars at 17° 48’ Taurus, with a diurnal motion of 22’ 54” ^15.',\n",
    "  'spans': [{'start': 22, 'end': 29, 'label': 'TIME'}]}\n",
    "</p>\n",
    "which start and end's numbers refer to the position of entitiy  in the sentence. (here TIME)\n",
    "\n",
    "    \n",
    "<fig size>"
   ]
  },
  {
   "cell_type": "code",
   "execution_count": 11,
   "metadata": {},
   "outputs": [],
   "source": [
    "label = \"TIME\"   \n",
    "texts = sents  \n",
    "regex_patterns = [\n",
    "re.compile(r\"\\d{1,2}h\\s\\d{1,2}m\"\n",
    "            \"|\\d{1,3}h\"\n",
    "            \"|\\d{1,2}\\s?hours?\\sand\\s\\d{1,2}\\s?minutes\"\n",
    "            \"|\\d{1,2}\\s?hours\\s\\d{1,2}\\s?minutes\"\n",
    "            \"|\\d{1,3}\\s?hours\"\n",
    "            )\n",
    "]\n",
    "\n",
    "\n",
    "examples = []\n",
    "for text in texts:\n",
    "    for expression in regex_patterns:\n",
    "        spans = []\n",
    "    for match in re.finditer(expression, text):\n",
    "        start, end = match.span()\n",
    "        span = {\"start\": start, \"end\": end, \"label\": label}\n",
    "        spans.append(span)\n",
    "    task = {\"text\": text, \"spans\": spans}\n",
    "    examples.append(task)              \n",
    "\n",
    "#write_jsonl(\"NER_TIME_01.jsonl\", examples)"
   ]
  },
  {
   "cell_type": "code",
   "execution_count": 12,
   "metadata": {},
   "outputs": [],
   "source": [
    "def print_sents_entities(examples):\n",
    "    for example in examples:\n",
    "        if example[\"spans\"]!=[]:\n",
    "            sent,entity=example['text'], example['text'][example[\"spans\"][0][\"start\"]:example[\"spans\"][0][\"end\"]]\n",
    "            print(sent,[entity])"
   ]
  },
  {
   "cell_type": "code",
   "execution_count": 13,
   "metadata": {},
   "outputs": [
    {
     "name": "stdout",
     "output_type": "stream",
     "text": [
      "On 1580 November 12 at 10h 50m,1 they set Mars down at 8° 36’ 50” Gemini2 without mentioning the horizontal variations,  by which term I wish the diurnal parallaxes and the refractions to be understood in what follows. ['10h 50m']\n",
      "Therefore, on the seventeenth at the same hour of 10h 50m, Mars ought to have been seen at either 6° 41’ 50” Gemini, or 6° 44’ 50”. ['10h 50m']\n",
      "At 9h 40m (which Tycho gives as the moment of opposition), it is 1’ 4” farther forward, at either 6° 42’ 54” or 6° 45’ 54”. ['9h 40m']\n",
      "On 1582 December 28 at 11h 30m, they set Mars down at 16° 47’ Cancer by observation ^6. ['11h 30m']\n",
      "On 1585 January 31 at 12h 0m, Mars was placed at 21° 18’ 11” Leo ^8. ['12h 0m']\n",
      "The moment of opposition followed at 19h 35m, 7 hours and 35 minutes later. ['19h 35m']\n",
      "On 1587 March 7 at 19h 10m they deduced the position of Mars from the observations, which was 25° 10’ 20” Virgo. ['19h 10m']\n",
      "This they kept in the table, but changed the time to 17h 22m. ['17h 22m']\n",
      "The difference of 1h 48m multiplied by a diurnal motion of 24’ gives the same number of minutes and seconds (that is, 1’ 48”), no more. ['1h 48m']\n",
      "On 1589 April 15 at 12h 5m they established the position of Mars very carefully at 3° 58' 21\" Scorpio, and corrected for longitudinal parallax so as to make it 3° 57’ 11” ^10. ['12h 5m']\n",
      "There remain 1h 30m until the designated moment of opposition, which, for a diurnal motion of 22', bring the planet back 1’ 22”, so as to be at 3° 55’ 49”. ['1h 30m']\n",
      "On 1591 June 6 at 12h 20m, Mars is placed at 27° 15’ Sagittarius ^11. ['12h 20m']\n",
      "There remained 2 days 4 hours and 5 minutes until the designated moment. ['4 hours and 5 minutes']\n",
      "Therefore, to 2d 4h 5m correspond 39’ 29”. ['4h 5m']\n",
      "On 1593 24 August at 10h 30m they report Mars as being at 12° 38’ Pisces12 with an observed diurnal motion of 16’ 45”, and this near the nonagesimal13 where there is no longitudinal parallax. ['10h 30m']\n",
      "The moment designated for the opposition preceded this by 8h 17m (for it was at 2h 13m),14 to which corresponds a motion of 5’ 48” eastward. ['8h 17m']\n",
      "On 1595 October 30 at 8h 20m, they found Mars at 17° 48’ Taurus, with a diurnal motion of 22’ 54” ^15. ['8h 20m']\n",
      "The designated moment preceded by 11h 48m, for which is required a motion of Mars of 11’ 7” eastward, so that it would be at 17° 59’ 7” Taurus. ['11h 48m']\n",
      "On 1597 December 10 at 8h 30m, they first placed Mars at 3° 30’ Cancer, and again at 4° 1’ Cancer, the mean being 3° 45½’ Cancer ^16. ['8h 30m']\n",
      "The moment of opposition came 3 days 5h 5m later, to which, from Magini, corresponds 1° 15’ westward. ['5h 5m']\n",
      "On 1600 January 13/2317 at 11h 50m, the right ascension of Mars was: 18 19 ['11h 50m']\n",
      "Hence, Mars is at 10° 38’ 46” Leo, at an adjusted time of 11h 40m reduced to the meridian of Uraniborg. ['11h 40m']\n",
      "This gives a diurnal motion of 23’ 44”, and a position on January 19/29 at 9h 40m of 8° 18’ 45” Leo, just as they put it. ['9h 40m']\n",
      "Then, at 8h 28m, it was 44° 41’ from ['8h 28m']\n",
      "Again, at 7h 15m on the morning of December 27, it was 36° 43’ from Cor Leonis,7 whose latitude is 0° 26½’; hence, its longitude at the end of 1582 is 17° 28⅓’ Cancer, altitude 14° 4’, and thus affected by refraction. ['7h 15m']\n",
      "Therefore, from 8h 28½m in the evening to 19h 15m, an interval of 10h 46½m, it was observed to retrogress 9⅔’. ['8h']\n",
      "For the diurnal motion, on the 29th at 7h 47m, the distance of Mars from the southern foot of Erichthonius8 was 29° 38½’ But on the 30th at 8h 8m the distance from the same star was 29° 13½ ^9. ['7h 47m']\n",
      "Therefore, over 24h 21m it moved 25’. ['24h 21m']\n",
      "Therefore, to 10h 46½m there should have corresponded 11½’ of arc, but we found only 9⅔’. ['10h']\n",
      "On 1583 January 16 at 7h 30m in the evening,11 Mars was 23° 29’ from the bright star in the foot of Erichthonius at an altitude of 51°. ['7h 30m']\n",
      "The next morning at 5h 0m, it was 43° 58’ from Cor Leonis at an altitude of 15°. ['5h 0m']\n",
      "Subtracting Mars's distance from the bright star in the foot of Erichthonius, 23° 29’, leaves Mars's distance from Cor Leonis, 43° 52’, at 7½h in the evening, which at 5h in the morning was 43° 58’, 6 minutes greater. ['5h']\n",
      "On January 17 at 5h 20m in the evening,13 Mars was 23° 16’ from the foot of Erichthonius. ['5h 20m']\n",
      "On the following day, the 18th, at 3h 0m in the morning, this distance was 23° 9’, and at 5h 5m in the evening it was 23° 1½’. ['3h 0m']\n",
      "So the motion over 23h 45m is 14½’, but over 9h 40m it is 7’. ['23h 45m']\n",
      "Likewise, at 7h 34m its distance from the seventh star of Gemini14 was 7° 51’. ['7h 34m']\n",
      "At 4h 52m in the morning, it was 7° 59’ from the same star. ['4h 52m']\n",
      "Therefore, over 9h 18m it moved 8’. ['9h 18m']\n",
      "On January 18 at 8h 52m in the evening15 there was 44° 22’ between Mars and Cor Leonis. ['8h 52m']\n",
      "Therefore, the motion over 7h 53m was 5⅓’. ['7h 53m']\n",
      "On January 19 following, at 7h 3m, this distance was 44° 32½’. ['7h 3m']\n",
      "Therefore, for 22h 11m the motion is 10½’. ['22h 11m']\n",
      "And for 8 hours there would be less than 4’ of motion. ['8 hours']\n",
      "On 1590 March 4 at 7h 10m in the evening, Mars's declination was 9° 26’ ['7h 10m']\n",
      "On 1592 January 23 at 10h 15m in the evening, Mars was at 11° 34’ 30” Aries with latitude 0° 2’ south ^3. ['10h 15m']\n",
      "On 1595 October 27 at 12h 20m, Mars's true latitude after the removal of parallax was 0° 2’ 20” south ^8. ['12h 20m']\n",
      "I. On the morning of 1595 January 4, when Mars was observed at 7h 10m at altitude 8°, with reference to Spica Virginis and Cor Scorpii,10 it was observed at latitude 0° 3’ 46” N, and it was itself at 13° 36’ 40” Sagittarius ^11. ['7h 10m']\n",
      "Accordingly, on 1588 November 10 at 6h 30m in the morning the planet Mars was seen at 25° 31’ Virgo, with a latitude of 1° 36’ 45” north, the sun being at 21 Scorpio ^4. ['6h 30m']\n",
      "On December 5 following, at 6h in the morning, Mars was seen at 9° 19⅖’ Libra, with a latitude of 1° 53½’ N., the sun being at 23° Sagittarius ^5. ['6h']\n",
      "Similarly, on 1586 October 22 at 6h in the morning, about dawn, there was about 6° 9’ eastward between Mars and Cor Leonis ^6. ['6h']\n",
      "Likewise, at 8h in the evening on 1596 March 9, it was observed at 15° 49’ Gemini, with latitude 1° 49⅔’ north ^14. ['8h']\n",
      "On 1585 April 26 at 9h 42m, Mars was seen at 21° 26’ Leo with latitude 1° 49¾’ north ^18. ['9h 42m']\n",
      "Similarly, near the other limit, on 1591 October 16 at 6h 30m in the evening, Mars was seen at 1° 27⅓’ Aquarius with latitude 2° 10⅚’ south, decreasing ^19. ['6h 30m']\n",
      "Suppose, however, that on 1580 November 12 at 10h 50m Mars was observed at 8° 37’ Gemini,3 and the motion over five days was 1° 55’. ['10h 50m']\n",
      "Of this, seven degrees exactly are traversed in 5 days, or 120 hours. ['120 hours']\n",
      "So, according to the same ratio, the remaining 51’ 24“ will be traversed in 14 hours 41 minutes. ['14 hours 41 minutes']\n",
      "Therefore, the moment of opposition was November 18 at 1h 31m. ['1h 31m']\n",
      "On the night following 1582 December 28, at 11h 30m, Mars was observed at 16° 47’ Cancer,6 while the true position of the sun was 17° 13’ 45“ Capricorn. ['11h 30m']\n",
      "Therefore, as 1° 25’ 18“ is to 24 hours, so is 26’ 45“ to 7 hours 32 minutes. ['24 hours']\n",
      "Subtracting this from 11 hours 30 minutes gives December 28 at 3h 58m after noon as the moment of true opposition. ['11 hours 30 minutes']\n",
      "On 1585 January 31 at 12h 0m, Mars was observed at 21° 18’ 11“ Leo ^7. ['12h 0m']\n",
      "Now as 1° 25’ 31“ is to 24 hours, so is 1° 3’ 20“ to 17 hours 46 minutes, to which correspond about 18’ of Mars’s motion. ['24 hours']\n",
      "Therefore the time was January 30 at 19h 14m, and Mars’s ecliptic position was 21° 36’ 10“ Leo. ['19h 14m']\n",
      "For the observation on January 31 at 12h gave 4° 31’. ['12h']\n",
      "On the night following 1587 March 4, at 1h 16m past midnight, the position of Mars was found to be 26° 26’ 17“ Virgo,8 from Cor Leonis9 and Spica Virginis, with an observed latitude of 3° 38’ 16“ north. ['1h 16m']\n",
      "As this is to 24 hours, so is 2° 26’ 49“ to 1 day 18 hours 7 minutes, to which corresponds 42’ 7“ of Mars’s motion. ['24 hours']\n",
      "Therefore, the time of true opposition was March 6 at 7h 23m. ['7h 23m']\n",
      "On the night following 1589 April 15 at 12h 5m, the planet was found at 3° 58’ 20“ Scorpio,13 with latitude 1° 4’ 20“ north, decreasing. ['12h 5m']\n",
      "As this is to 24 hours, so is 1° 39’ 20“ to 1 day 5 hours 42 minutes. ['24 hours']\n",
      "Therefore, the moment of opposition was April 14 at 6h 23m PM. ['6h 23m']\n",
      "On the night following 1591 June 6 at 12h 20m, Mars was found at 27° 14’ 42“ Sagittarius,16 with latitude 3° 55½’ south. ['12h 20m']\n",
      "The sun’s diurnal motion was 57’ 8“, and Mars’s (for four days) was 1° 12’ 24“, since on June 10 at 11h 50m it was at 26° 2’ 18“ Sagittarius. ['11h 50m']\n",
      "This corresponds to 1 day 19 hours 24 minutes, which, added to the 6th at 12h 20m (because opposition was yet to come), shows [the moment of opposition to be] the 8th at 7h 43m. ['19 hours 24 minutes']\n",
      "On 1593 August 24 at 10h 30m, the ecliptic position of Mars was found  to be 12° 38’ Pisces,18 with latitude 6° 5’ 30“ south. ['10h 30m']\n",
      "On the August 29th following, at 10h 20m, Mars was observed at 11° 15’ 24“ Pisces, with latitude 5° 52’ 15“ south. ['10h 20m']\n",
      "This requires 1 day 6 hours 57 min. ['6 hours']\n",
      "until opposition, so that this will be August 26 at 5h 27m in the morning. ['5h 27m']\n",
      "On 1595 October 30 at 8h 20m, the planet was found at 17° 47’ 15“ Taurus,19 not far from the nonagesimal. ['8h 20m']\n",
      "If the distance between the stars be divided by this, it comes out to 40’ 47“ of a day, or 16 hours 19 min. ['16 hours']\n",
      "Therefore, the true opposition was 0h 39m PM on October 31. ['0h 39m']\n",
      "Let, at any rate, Mars’s position on 1597 December 10 at 8h 30m be 3° 45½’ Cancer (as above) ^20. ['8h 30m']\n",
      "These data show that the time of true opposition followed 3 days 7 hours 14 min. ['7 hours']\n",
      "later, on December 14 at 3h 44m in the morning. ['3h 44m']\n",
      "For the motion over 3h 40m is 3½’, so that in the Brahean observation too, at 12⅙h Mars could have been at 3° 42’ Cancer—two minutes beyond the Fabrician position. ['3h 40m']\n",
      "X. On 1600 January 13/23 at 11h 40m, the time being adjusted to Uraniborg time, the planet was observed at 10° 38’ 46“ Leo ^21. ['11h 40m']\n",
      "The opposition therefore followed 5 days 2h 22m after; that is, on January 19/29 at 2h 2m in the morning, before dawn. ['2h 22m']\n",
      "18/28 at 10h 30m, using the Tychonic  instruments (with the help of the learned Matthias Seiffard,22 bequeathed us by Tycho), I took the distance of Mars from the middle star of the tail of Ursa Major 23 to be 52° 22’. ['10h 30m']\n",
      "Alternatively, the meridian altitude of Mars was found at 12h 40m, using two quadrants, to be 50° 19’, while the tail of Leo26 was 56° 45’. ['12h 40m']\n",
      "The true opposition therefore followed 2 days 3 hours 43 minutes later, on 21 February/3 March before dawn at 2h 13m, Mars being at 12° 27’ 35“ Virgo. ['3 hours 43 minutes']\n",
      "On February 16, old style, at 5h in the morning, he took the planet’s distances from the tail of Leo (for the latitude), from the neck of Leo,30 and, on the other hand, from the bright star in the southern wing of Virgo, so as to check its longitude by working it out twice. ['5h']\n",
      "On the night following February 23, at 12h, he observed Mars in relation to five fixed stars: the Tail of Leo and Arcturus for latitude, and for the longitude, in the first instance, Spica (which followed it), and, in the second, the Neck of Leo and Cor Leonis (which preceded it). ['12h']\n",
      "Now from February 15 at 17h to 23 February at 12h, a period of 7 days 19 hours, Mars moved 3° 0’: 180 minutes in 187 hours. ['17h']\n",
      "Because the last observation follows the time of observation found by me by 2 days 21 hours 47 min., add the motion corresponding to this time, 1° 7’: the position will come out 12° 26’ Virgo. ['21 hours']\n",
      "Hence the difference in ascensions is 145° 45’, which resolves into 9 hours 43 min. ['9 hours']\n",
      "From all these beginnings, it follows that the true opposition preceded the observation by 17 hours 20 min., namely, on 29 March/8 April at 4h 23m in the morning. ['17 hours']\n",
      "At perihelion, let the observation be taken that was made on the night following 1593 July 30 at 1h 45m ^3. ['1h 45m']\n",
      "For they corresponded to 1585 May 30 at 5h and 1591 January 20 at 0h ^5. ['5h']\n",
      "Therefore, when on the 30th at 5h in the evening he puts it at 6° 48' Virgo, we shall again subtract the discrepancy of eleven days previously. ['5h']\n",
      "For consider that on April 18 preceding at 10h Mars was found at 17° 37½’ Leo, while Magini puts it at 18° 0' Leo. ['10h']\n",
      "Similarly, on 1591 January 22 at 7h in the morning, Mars was 34° 32' 45\" from Spica with declination 17° 25' south, at an altitude of 16° ^8. ['7h']\n",
      "Now this time differs from ours by 1 day 19 hours, and the diurnal motion, from Magini, is 33'. ['19 hours']\n",
      "Therefore, the remainder is the position of Mars on January 20 at 0h (which, as we said, corresponds to the other time): 21° 34' Scorpio. ['0h']\n",
      "Let the first time be 1590 March 5 at 7h 10m in the evening, since then Mars had hardly any latitude, and thus no one looking at the demonstration could be troubled by any irrelevant suspicions about the intermingling of latitude. ['7h 10m']\n",
      "21 at 6h 41m; 1593 Dec. ['6h 41m']\n",
      "8 at 6h 12m; 1595 Oct. ['6h 12m']\n",
      "26 at 5h 44m ^1. ['5h 44m']\n",
      "It was observed on January 23 at 7h 15m at 11° 34½’ Aries, with the correction for parallax ^5. ['7h 15m']\n",
      "Therefore on the 21st at 7h 15m it was seen at 10° 9½’ Aries. ['7h 15m']\n",
      "It was observed December 10 at 7h 20m at 4° 45' Aries, parallax corrected ^6. ['7h 20m']\n",
      "Therefore, on December 8 at 7h 20m it was seen at 3° 37’ Aries, while at our time of 6h 12m it was at 3° 35½’ Aries. ['7h 20m']\n",
      "It was observed on October 27 at 12h 20m at 18° 52’ 15\" Taurus, retrograde ^7. ['12h 20m']\n",
      "And so on the 26th at 12h 20m it was at 19° 15' 15\" Taurus, while at our time it was at 19° 21’ 35\" Taurus. ['12h 20m']\n",
      "We shall now go through the observations1 again, carefully: On 1590 March 4 at 7h 10m, Mars was found by careful observation and calculation to be at 24° 22' 56\" Aries with latitude 0° 3' 20\" S. At that time, 8° Aries was setting, so Mars was rather low. ['7h 10m']\n",
      "On 1592 January 23 at 7h 20m, using only one stellar distance from Mars, without the confirmation of another, Mars was found at 11° 32' 44\" Aries with latitude 0° 1' 36\" S. And so we shall make no changes for horizontal variations, although we suspect an uncertainty of one or two minutes. ['7h 20m']\n",
      "On 1593 December 7 at 8h 0m Mars was found at 3° 6' 50\" Aries with no danger of horizontal variation, with latitude 7’ 9\" S. However, the right ascension found using three stars showed a discrepancy of 4', and the value taken as true was the mean between the extremes. ['8h 0m']\n",
      "On 1595 October 25 at 8h 10m, the planet's distance from three fixed stars was observed, and by unanimous consensus the planet was found to be at 19° 39' 25\" [Taurus] with latitude 0° 12' 41\" S. ['8h 10m']\n",
      "Likewise, in 1595 the motion over 2 hours 25 min., from a diurnal motion of 22' 11\", is 2' 14\". ['2 hours']\n",
      "And on 1595 October 25 at 5h 45m that line is found at 14° 19' 52\" Taurus. ['5h 45m']\n",
      "Thus, to remove your bewilderment, consider that on the principles we have supposed it would necessarily follow that if the moon were not to resist, by its material force, the motion impressed from outside by the earth, the moon would be carried at exactly the same speed as the earth's immaterial species, that is, with the earth itself, and  would complete its circuit in 24 hours, in which the earth also completes its circuit. ['24 hours']\n",
      "Next, I assigned an artificial round number to the periodic time; although it is in fact 365 days and 6 hours, I set it equal to 360 degrees, or a full circle, which for the astronomers is the mean anomaly. ['6 hours']\n",
      "On 1585 February 17 at 10h the planet was seen at 15° 12½ Leo, with latitude 4° 16' North ^1. ['10h']\n",
      "On 1586 December 27 at 4h in the morning, at 29° 42⅔‘ Virgo, lat. ['4h']\n",
      "]3 And on 1587 January 1 at 7h 8m in the morning, at 1° 4' 36\" Libra, Lat. ['7h 8m']\n",
      "On 1588 November 10, at 6h 30m in the morning there was 31° 27' between Mars and Cor Leonis. ['6h 30m']\n",
      "On December 5 at 6h in  the morning there were 45° 17' between Mars and Cor Leonis. ['6h']\n",
      "[IV] On 1590 October 6, at 4h 45m in the morning, Mars was observed at an altitude of 12½ degrees, [and distances taken] from the Tail of Leo7 and the Heart of Hydra,8 with its declination. ['4h 45m']\n",
      "26 at 7h 10m at 18° 36' Capricorn, lat. ['7h 10m']\n",
      "Therefore, I have assumed a difference of 3° 46' for August 6, so that at 11 hours after midnight it would be at 16° 52' Pisces. ['11 hours']\n",
      "This is 8 hours 30 minutes past our time, which would account for about 4' of Mars's retrograde motion. ['8 hours 30 minutes']\n",
      "But previously and in like manner we took at αι 1588 November 22 at 9h 2½m to be 29° 20' 12\" Leo. ['9h']\n",
      "From 1588 November 22 at 9h 2½m to 1589 November 1 at 6h 10m are 344 days diminished by 2h 52½m while a whole revolution to the same fixed star has 687 days diminished by 0h 28 min. ['9h']\n",
      "Therefore, if the excess of 33' 53\" beyond the semicircle is sufficient for the 10 hours 6½ minutes from Mars's diurnal motion on the eccentric, the aphelion would consequently be understood to be at 29° 20' 12\" Leo. ['10 hours']\n",
      "The rule of proportions shows it to be 1 day 17h 54m, or a distance from aphelion of 45' 42\". ['17h 54m']\n",
      "17 at 7h 6m in the evening the planet was observed at 11° 31' 27\" Taurus, with latitude 1° 40' 44\" N ^10. ['7h 6m']\n",
      "Now the mean longitude of Mars on the morning of October 29 at 5h (which is an estimate, since I did not write down the time) is found to be 1s 29° 10' 43\". ['5h']\n",
      "On 1597 October 30 at 5h am the position of the sun is found to be 16° 38' 8\" Scorpio, distance 98,820. ['5h']\n",
      "On 1589 April 5 at 11h 33m Mars was observed at 7° 31' 10\" Scorpio with latitude 1° 28' 13\" N ^15. ['11h 33m']\n",
      "On 1596 March 9 at 7h 40m pm, when the sun's position was 29° 31' 24\" ['7h 40m']\n",
      "25 at 10h 20m, when the sun was at 14° 0' 3\" Sagittarius, distance from earth 98,318. ['10h 20m']\n",
      "12 at 13h 26m at 23° 14' 15\" Leo,23 with latitude 2° 12' 24\" N. On the 20th of Nov. ['13h 26m']\n",
      "following, at 18h 30m astronomically,24 it appeared at 26° 0' 30\" Leo ^25. ['18h 30m']\n",
      "Thus in 8 days 5 hours it was moved forward 2° 46' 25\". ['5 hours']\n",
      "Therefore, since our time follows by 4 days 15h 49m, to which corresponds 1° 28' of motion from Magini,26 we shall add 1° 27' according to the above ratio. ['15h 49m']\n",
      "1227 at 5h 13m am, the mean longitude was 6s 12° 38' 44\",28 aphelion 4s 28° 50' 57\"; and consequently, the mean anomaly was 43° 47' 48\", lower than our previous one by 24 minutes. ['5h 13m']\n",
      "On 1585 January 24 at 9h, when the position of the sun was 15° 9' 5\" Aquarius, its distance from earth 98,590, the mean longitude of Mars 4s 16° 50' 10\", the aphelion 4s 28° 46' 41\", the remainder of the mean anomaly to complete the full circle 11° 56' 31\", and the consequent eccentric position from the vicarious hypothesis 18° 49' 0\" Leo: the planet was observed at 24° 9' 30\" Leo, latitude 4° 31' 0\" N ^30. ['9h']\n",
      "6 at 6h 50m am, when the sun's position was 24° 3' 43\" Scorpio, 98,630 distant from earth, mean longitude of Mars 4s 20° 47' 35\", remainder of the anomaly 8° 2' 51\", eccentric position from the vicarious hypothesis 22° 7' 48\" Leo: Mars was observed at 23° 16' Virgo, lat. ['6h 50m']\n",
      "3 at 5h 39m, when the sun's position was 21° 44' 56\"  Sagittarius, and its distance from earth was 98,248, and the mean longitude of Mars was 11s 16° 27' 53\", full-circle complement of the anomaly 162° 24' 11\", and the equated eccentric position 20° 4' 32\" Pisces: Mars was observed at 15° 25' 33\" Aquarius, lat. ['5h 39m']\n",
      "16 at 6h 28m, when the sun was at 2° 39' 15\" Scorpio, 99,142 distant from earth, Mars's mean longitude 11s 13° 53' 57\", full-circle complement of the anomaly 165° 0' 9\", eccentric position from the vicarious hypothesis 16° 59' 14\" Pisces: Mars was observed at 1° 27' 18\" Aquarius, lat. ['6h 28m']\n",
      "8 at 10h 38m, when the sun was at 25° 41' 0\" Virgo, 100,266 distant from earth, Mars's mean longitude 11s 17° 10' 17\", full-circle complement of the anomaly 161° 45' 28\", and eccentric position from the vicarious hypothesis 20° 53' 54\" Pisces: the planet was found at 8° 53' 51\" Pisces with latitude 5° 14' 30\" south ^36. ['10h 38m']\n",
      "Finally, on 1595 July 22 at 2h 40m am, when the sun was at 7° 59' 52\" Leo, 101,487 distant from earth, Mars's mean longitude 11s 14° 9' 5\", and anomaly 164° 48' 55\", and consequent eccentric position from the vicarious hypothesis 17° 16' 36\" Pisces: the apparent position of Mars, from the most select observations, was 4° 11' 10\" Taurus, lat. ['2h 40m']\n",
      "For on the night following June 29 in 1593, at 1h 30m after midnight, when the sun was at 17° 25' 42\" Cancer, 101,760 distant from earth, the longitude of Mars 10s 10° 1' 29\", anomaly 161° 5' 29\", and the consequent position of Mars 6° 10' 5\" Aquarius, it was observed at 13° 37' 22\" Pisces, with latitude 4° 37' S ^38. ['1h 30m']\n",
      "On 1593 December 10, at 7h 0m in the evening, Mars was observed at 4° 44' Aries, with latitude 0° 1' 15\" south, parallax not accounted for ^1. ['7h 0m']\n",
      "After the 687 days of one complete revolution of Mars, on 1595 October 28 at 11h 30m pm Mars was found at an altitude of 51° in 18° 35' Taurus, with latitude 4½’ south, parallax not accounted for ^2. ['11h 30m']\n",
      "And again, 687 days previously, on 1592 January 23, at 10h pm, it again had a southern latitude of 2', with an altitude of 25° ^3. ['10h']\n",
      "And finally, subtracting another 687 days, so that we come to 1590 March 7, Mars was observed on March 4 at 7h, at an altitude of 14°, to have a latitude of 3' 20\" south ^4. ['7h']\n",
      "Let the latitude in 1590 be 1 minute; 1592, 1½’; in 1593, 2½’; in 1595 at 11h, 4½’, as we might allow an error from one source or another of one minute either way. ['11h']\n",
      "For while on October 28 at 12h the latitude was 4½’ south, six days later, on the following November 3, at the same time, the latitude was 19' 45\" north ^5. ['12h']\n",
      "And since on October 28 at 12h its eccentric position was 16° 8⅓’ Taurus,6 and the remaining latitude was 4½’: let this be traversed in one day and one eighth, after which time 37' are added to Mars's position. ['12h']\n",
      "For since on 1589 May 6 Mars had 6⅔‘ of northern latitude,7 it traversed this in 2⅓ days, according to the proportion of the latitudinal motion of the preceding days, [arriving at the node on] May 8 at 20h at which time its eccentric position is found to be 16° 42' Scorpio. ['20h']\n",
      "On 1593 August 25 at 17h 27m, Mars was observed at opposition to the sun at 12° 16' Pisces ^1. ['17h 27m']\n",
      "On 1593 July 21 at 14h (in astronomical terms),4 the planet was observed at 17° 45¾' Pisces, with latitude 5° 46¼’ south ^5. ['14h']\n",
      "But the true opposition was 16 hours 46 minutes previously, at 21° 36⅙‘ Leo ^10. ['16 hours 46 minutes']\n",
      "The eighth without doubt had an erroneous declination, for at that time (8h) Mars was not at the meridian. ['8h']\n",
      "For while the opposition was on the night following January 30, the latitude observed on the 24th, preceding the opposition, was 4° 31', still increasing, while on January 31, 16 hours past opposition, the observed latitude was again 4° 31'. ['16 hours']\n",
      "So, on August 10 at 13h 45m, Mars's eccentric position on the ecliptic is computed to be 2° 41' 18\" Pisces, the sun was 27° 37' 49\" Leo, the angle at the sun 5° 3' 29\", the angle at the earth 18° 25', and from the calculation Mars was at 16° 3' Pisces, while it was observed at 16° 7' Pisces ^9. ['13h 45m']\n",
      "61, Mars arrives at the ascending node one day and 15 hours late. ['15 hours']\n",
      "And since the diurnal motion at 21° Gemini (Cancer, today) is about 23', and that of the sun, 61', and the sum is 1° 24', those 41' therefore require 8 hours,11 at which time Mars was visible at 21° 8' Gemini, opposite the sun's apparent position. ['8 hours']\n",
      "Therefore, a difference of 2° 23' requires 1 day 17 hours 21 minutes, at which time Mars was visible at 29° 31' Leo. ['17 hours 21 minutes']\n",
      "Finally, at 3° Gemini (Cancer, today) Mars's diurnal motion is 23', the sun's 57', the sum 1° 20', by which it is shown that for 7' there are required 2h 6m, at which time Mars was visible at 2° 36' Sagittarius. ['2h 6m']\n",
      "Therefore, for the extra 30' the corresponding times come out almost exactly the same, to be added to all three, namely, about 8 hours 40 minutes. ['8 hours 40 minutes']\n",
      "And the mean motion from the equinox will be increased by the above mentioned 21½’, but it will be 8 hours 40 minutes longer. ['8 hours 40 minutes']\n",
      "Therefore, the first opposition will be 4 hours later,20 and Mars will be the same number of minutes farther back in position, while the last opposition will occur 4⅓ hours earlier,21 with Mars the same number of minutes farther along in position. ['4 hours']\n",
      "The correct and truest opposition therefore follows by 4 hours ^29. ['4 hours']\n",
      "To 8 hours of mean motion correspond 10' 30\", to which add the extra 8 minutes of travel ^35. ['8 hours']\n",
      "Therefore, at Hven in the year of Christ 139 May 27 at 6h the mean motion was 8s 11° 18' 30\". ['6h']\n",
      "But on  159944 May 27 at 6h Mars's mean motion was 0s 0° 47' 30\" from the equinoctial, while the distance of Cor Leonis from that point, as demonstrated by Brahe, was 4s 24° 15' 45\". ['6h']\n",
      "In the year of Christ 139 Pharmouthi 9, which is February 23, at sunset at 5h 30m, 3h 30m at Hven, the apparent position of the sun was computed as 3° 3' Pisces; therefore, the mean position was 0° 43' Pisces. ['5h 30m']\n",
      "But on 1599 February 23 at 3h 30m at Hven the mean motion of the sun was at 12° 47' 41\" Pisces, and Cor Leonis 24° 15’ 30\" Leo. ['3h 30m']\n",
      "For since at Alexandria, the sun at 25° Capricorn rises at 7h, and the morning observation of Mars was made one hour earlier, as dawn was breaking, it was therefore made at the sixth hour, which is the fourth hour at Hven, from which time there are eight hours until noon. ['7h']\n",
      "With the sum of the diurnal motions of Mars and the Sun (1° 21' 14\"), Kepler computed the time it takes for Mars and the Sun to move 58' 38\", that is, about 17 hours 20 minutes. ['17 hours 20 minutes']\n",
      "To find the position of Mars at opposition, Kepler computed the angular distance that Mars and Earth—now substituting the place of the Sun—moved during 17 hours 20 minutes; Mars moved eastward about 16' 20\" and the Sun westward about 42' 18\". ['17 hours 20 minutes']\n",
      "Therefore, the time of opposition is 17 hours 20 minutes before March 29, at 21:43, the time when the observation was made. ['17 hours 20 minutes']\n",
      "Kepler determined the time of opposition on March 28, 4h 23m AM, old style. ['4h 23m']\n"
     ]
    }
   ],
   "source": [
    "print_sents_entities(examples)"
   ]
  },
  {
   "cell_type": "code",
   "execution_count": 14,
   "metadata": {},
   "outputs": [],
   "source": [
    "def print_entities(examples):\n",
    "    entities = []\n",
    "    for example in examples:\n",
    "        if example[\"spans\"] != []:\n",
    "            entities += [example['text'][example[\"spans\"][0][\"start\"]:example[\"spans\"][0][\"end\"]]]\n",
    "    print(\"There is {} entities with this detail\\n{}\".format(len(entities),entities))"
   ]
  },
  {
   "cell_type": "code",
   "execution_count": 15,
   "metadata": {},
   "outputs": [
    {
     "name": "stdout",
     "output_type": "stream",
     "text": [
      "There is 183 entities with this detail\n",
      "['10h 50m', '10h 50m', '9h 40m', '11h 30m', '12h 0m', '19h 35m', '19h 10m', '17h 22m', '1h 48m', '12h 5m', '1h 30m', '12h 20m', '4 hours and 5 minutes', '4h 5m', '10h 30m', '8h 17m', '8h 20m', '11h 48m', '8h 30m', '5h 5m', '11h 50m', '11h 40m', '9h 40m', '8h 28m', '7h 15m', '8h', '7h 47m', '24h 21m', '10h', '7h 30m', '5h 0m', '5h', '5h 20m', '3h 0m', '23h 45m', '7h 34m', '4h 52m', '9h 18m', '8h 52m', '7h 53m', '7h 3m', '22h 11m', '8 hours', '7h 10m', '10h 15m', '12h 20m', '7h 10m', '6h 30m', '6h', '6h', '8h', '9h 42m', '6h 30m', '10h 50m', '120 hours', '14 hours 41 minutes', '1h 31m', '11h 30m', '24 hours', '11 hours 30 minutes', '12h 0m', '24 hours', '19h 14m', '12h', '1h 16m', '24 hours', '7h 23m', '12h 5m', '24 hours', '6h 23m', '12h 20m', '11h 50m', '19 hours 24 minutes', '10h 30m', '10h 20m', '6 hours', '5h 27m', '8h 20m', '16 hours', '0h 39m', '8h 30m', '7 hours', '3h 44m', '3h 40m', '11h 40m', '2h 22m', '10h 30m', '12h 40m', '3 hours 43 minutes', '5h', '12h', '17h', '21 hours', '9 hours', '17 hours', '1h 45m', '5h', '5h', '10h', '7h', '19 hours', '0h', '7h 10m', '6h 41m', '6h 12m', '5h 44m', '7h 15m', '7h 15m', '7h 20m', '7h 20m', '12h 20m', '12h 20m', '7h 10m', '7h 20m', '8h 0m', '8h 10m', '2 hours', '5h 45m', '24 hours', '6 hours', '10h', '4h', '7h 8m', '6h 30m', '6h', '4h 45m', '7h 10m', '11 hours', '8 hours 30 minutes', '9h', '9h', '10 hours', '17h 54m', '7h 6m', '5h', '5h', '11h 33m', '7h 40m', '10h 20m', '13h 26m', '18h 30m', '5 hours', '15h 49m', '5h 13m', '9h', '6h 50m', '5h 39m', '6h 28m', '10h 38m', '2h 40m', '1h 30m', '7h 0m', '11h 30m', '10h', '7h', '11h', '12h', '12h', '20h', '17h 27m', '14h', '16 hours 46 minutes', '8h', '16 hours', '13h 45m', '15 hours', '8 hours', '17 hours 21 minutes', '2h 6m', '8 hours 40 minutes', '8 hours 40 minutes', '4 hours', '4 hours', '8 hours', '6h', '6h', '5h 30m', '3h 30m', '7h', '17 hours 20 minutes', '17 hours 20 minutes', '17 hours 20 minutes', '4h 23m']\n"
     ]
    }
   ],
   "source": [
    "print_entities(examples)"
   ]
  },
  {
   "cell_type": "markdown",
   "metadata": {},
   "source": [
    "## See Misaligned Tokens"
   ]
  },
  {
   "cell_type": "markdown",
   "metadata": {},
   "source": [
    "<fig size= 3>\n",
    "This step is very important, since if Pordigy faces with Misaligned tokens, we can see that before and try to adjust regex accordingly\n",
    "<fig size>"
   ]
  },
  {
   "cell_type": "code",
   "execution_count": 16,
   "metadata": {},
   "outputs": [],
   "source": [
    "def misaligned_token(examples):\n",
    "    counter=0\n",
    "    nlp = spacy.load(\"en_core_web_sm\")  \n",
    "    for example in examples:  \n",
    "        doc = nlp(example[\"text\"])\n",
    "        for span in example[\"spans\"]:\n",
    "            char_span = doc.char_span(span[\"start\"], span[\"end\"])\n",
    "            if char_span is None:  \n",
    "                counter+=1\n",
    "                print(\"{}- Misaligned tokens-->\".format(counter), example[\"text\"],span)"
   ]
  },
  {
   "cell_type": "code",
   "execution_count": 17,
   "metadata": {},
   "outputs": [
    {
     "name": "stdout",
     "output_type": "stream",
     "text": [
      "1- Misaligned tokens--> On 1580 November 12 at 10h 50m,1 they set Mars down at 8° 36’ 50” Gemini2 without mentioning the horizontal variations,  by which term I wish the diurnal parallaxes and the refractions to be understood in what follows. {'start': 23, 'end': 30, 'label': 'TIME'}\n",
      "2- Misaligned tokens--> The moment designated for the opposition preceded this by 8h 17m (for it was at 2h 13m),14 to which corresponds a motion of 5’ 48” eastward. {'start': 80, 'end': 86, 'label': 'TIME'}\n",
      "3- Misaligned tokens--> And since the diurnal motion at 21° Gemini (Cancer, today) is about 23', and that of the sun, 61', and the sum is 1° 24', those 41' therefore require 8 hours,11 at which time Mars was visible at 21° 8' Gemini, opposite the sun's apparent position. {'start': 150, 'end': 157, 'label': 'TIME'}\n"
     ]
    }
   ],
   "source": [
    "misaligned_token(examples)"
   ]
  },
  {
   "cell_type": "markdown",
   "metadata": {},
   "source": [
    "# Edge Cases"
   ]
  },
  {
   "cell_type": "markdown",
   "metadata": {},
   "source": [
    "As it is clear from above , After using regular expression we faced with some specific format like these words:\n",
    "- 10h 50m,1\n",
    "- 2h 13m),14\n",
    "- 8 hours,11\n",
    "\n",
    "\n",
    "We consider these words as edge cases which means tokens are not consistant with the tokens assigned by the model’s tokenizer. here we have a samll sent of edge cases "
   ]
  },
  {
   "cell_type": "markdown",
   "metadata": {},
   "source": [
    "## One Possible Solution "
   ]
  },
  {
   "cell_type": "markdown",
   "metadata": {},
   "source": [
    "We can modify our annotation rules based on the above examples"
   ]
  },
  {
   "cell_type": "code",
   "execution_count": 18,
   "metadata": {},
   "outputs": [],
   "source": [
    "label = \"TIME\"   \n",
    "texts = sents  \n",
    "regex_patterns = [\n",
    "re.compile(r\"10h 50m,1|2h 13m\\),14|8 hours,11\"\n",
    "            \"|\\d{1,2}h\\s\\d{1,2}m\"\n",
    "            \"|\\d{1,3}h\"\n",
    "            \"|\\d{1,2}\\s?hours?\\sand\\s\\d{1,2}\\s?minutes\"\n",
    "            \"|\\d{1,2}\\s?hours\\s\\d{1,2}\\s?minutes\"\n",
    "            \"|\\d{1,3}\\s?hours\"\n",
    "            )\n",
    "]\n",
    "\n",
    "\n",
    "examples = []\n",
    "for text in texts:\n",
    "    for expression in regex_patterns:\n",
    "        spans = []\n",
    "    for match in re.finditer(expression, text):\n",
    "        start, end = match.span()\n",
    "        span = {\"start\": start, \"end\": end, \"label\": label}\n",
    "        spans.append(span)\n",
    "    task = {\"text\": text, \"spans\": spans}\n",
    "    examples.append(task)              \n",
    "\n",
    "write_jsonl(\"NER_TIME_V03.jsonl\", examples)"
   ]
  },
  {
   "cell_type": "code",
   "execution_count": 19,
   "metadata": {},
   "outputs": [],
   "source": [
    "misaligned_token(examples)"
   ]
  }
 ],
 "metadata": {
  "kernelspec": {
   "display_name": "Python 3",
   "language": "python",
   "name": "python3"
  },
  "language_info": {
   "codemirror_mode": {
    "name": "ipython",
    "version": 3
   },
   "file_extension": ".py",
   "mimetype": "text/x-python",
   "name": "python",
   "nbconvert_exporter": "python",
   "pygments_lexer": "ipython3",
   "version": "3.7.5"
  }
 },
 "nbformat": 4,
 "nbformat_minor": 4
}
