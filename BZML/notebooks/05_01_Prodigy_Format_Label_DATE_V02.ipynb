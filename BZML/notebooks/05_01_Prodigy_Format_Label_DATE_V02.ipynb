{
 "cells": [
  {
   "cell_type": "markdown",
   "metadata": {},
   "source": [
    "# Regex and Prodigy (LABEL: DATE)\n",
    "\n"
   ]
  },
  {
   "cell_type": "markdown",
   "metadata": {},
   "source": [
    "<font size= \"3\">\n",
    "Annotation of entities for sentences based on prodigy's format for different labels for further usage in Machine learning. Prodigy is an annotation tool based on spaCy. Please see here:\n",
    "    </p>\n",
    "  <a href=\"https://prodi.gy/ \"> Prodigy </a> \n",
    "<font 3>"
   ]
  },
  {
   "cell_type": "markdown",
   "metadata": {},
   "source": [
    "## Imports"
   ]
  },
  {
   "cell_type": "code",
   "execution_count": 2,
   "metadata": {
    "collapsed": true,
    "jupyter": {
     "outputs_hidden": true
    }
   },
   "outputs": [],
   "source": [
    "import pandas as pd\n",
    "import numpy as np\n",
    "import re\n",
    "import pandas as pd\n",
    "import matplotlib.pyplot as plt\n",
    "import scipy as sp\n",
    "import spacy \n",
    "import re\n",
    "from prodigy.util import write_jsonl\n",
    "\n",
    "\n"
   ]
  },
  {
   "cell_type": "markdown",
   "metadata": {},
   "source": [
    "## Read the Data"
   ]
  },
  {
   "cell_type": "code",
   "execution_count": 3,
   "metadata": {
    "collapsed": true,
    "jupyter": {
     "outputs_hidden": true
    }
   },
   "outputs": [],
   "source": [
    "importVersion = '013'"
   ]
  },
  {
   "cell_type": "code",
   "execution_count": 73,
   "metadata": {
    "collapsed": true,
    "jupyter": {
     "outputs_hidden": true
    }
   },
   "outputs": [],
   "source": [
    "path= '../data/01_df_v{0}.pickle'.format(importVersion)  # Put the path of the data in your local machine here, consider the letter \"r\" before the path\n",
    "dfAstroNova = pd.read_pickle(path)"
   ]
  },
  {
   "cell_type": "markdown",
   "metadata": {},
   "source": [
    "# Sort based on the Chapter "
   ]
  },
  {
   "cell_type": "code",
   "execution_count": 74,
   "metadata": {},
   "outputs": [],
   "source": [
    " # Sort the data based on the chapters of the book \n",
    "dfAstroNova['chapter'] = dfAstroNova.chapter.replace(\"appendix b\",np.nan).astype(float)  \n",
    "dfAstroNova = dfAstroNova.rename_axis('MyIdx').sort_values(by = ['chapter', 'MyIdx'], ascending = [True, True])\n",
    "dfAstroNova.chapter.fillna('appendix b', inplace=True)\n"
   ]
  },
  {
   "cell_type": "code",
   "execution_count": 75,
   "metadata": {},
   "outputs": [],
   "source": [
    "dfAstroNova.reset_index(inplace=True)\n",
    "dfAstroNova=dfAstroNova.drop(\"MyIdx\",axis=1,inplace=False)\n",
    "dfAstroNova=dfAstroNova.drop(\"html\",axis=1)"
   ]
  },
  {
   "cell_type": "code",
   "execution_count": 80,
   "metadata": {},
   "outputs": [
    {
     "data": {
      "text/html": [
       "<div>\n",
       "<style scoped>\n",
       "    .dataframe tbody tr th:only-of-type {\n",
       "        vertical-align: middle;\n",
       "    }\n",
       "\n",
       "    .dataframe tbody tr th {\n",
       "        vertical-align: top;\n",
       "    }\n",
       "\n",
       "    .dataframe thead th {\n",
       "        text-align: right;\n",
       "    }\n",
       "</style>\n",
       "<table border=\"1\" class=\"dataframe\">\n",
       "  <thead>\n",
       "    <tr style=\"text-align: right;\">\n",
       "      <th></th>\n",
       "      <th>text</th>\n",
       "      <th>links</th>\n",
       "      <th>italic</th>\n",
       "      <th>chapter</th>\n",
       "      <th>graphic</th>\n",
       "      <th>table</th>\n",
       "      <th>marginal</th>\n",
       "      <th>sentences</th>\n",
       "      <th>tagged</th>\n",
       "    </tr>\n",
       "  </thead>\n",
       "  <tbody>\n",
       "    <tr>\n",
       "      <th>0</th>\n",
       "      <td>Chapter 1</td>\n",
       "      <td>[]</td>\n",
       "      <td>[]</td>\n",
       "      <td>1</td>\n",
       "      <td>[]</td>\n",
       "      <td>[]</td>\n",
       "      <td>[]</td>\n",
       "      <td>[Chapter 1]</td>\n",
       "      <td>[[(Chapter, None), (1, NUM)]]</td>\n",
       "    </tr>\n",
       "    <tr>\n",
       "      <th>1</th>\n",
       "      <td>On the distinction between the first motion an...</td>\n",
       "      <td>[]</td>\n",
       "      <td>[]</td>\n",
       "      <td>1</td>\n",
       "      <td>[]</td>\n",
       "      <td>[]</td>\n",
       "      <td>[]</td>\n",
       "      <td>[On the distinction between the first motion a...</td>\n",
       "      <td>[[(On, None), (the, None), (distinction, None)...</td>\n",
       "    </tr>\n",
       "    <tr>\n",
       "      <th>2</th>\n",
       "      <td>The testimony of the ages confirms that the mo...</td>\n",
       "      <td>[]</td>\n",
       "      <td>[]</td>\n",
       "      <td>1</td>\n",
       "      <td>[]</td>\n",
       "      <td>[]</td>\n",
       "      <td>[ Terms: 1. The first motion is that of the wh...</td>\n",
       "      <td>[The testimony of the ages confirms that the m...</td>\n",
       "      <td>[[(The, None), (testimony, None), (of, None), ...</td>\n",
       "    </tr>\n",
       "    <tr>\n",
       "      <th>3</th>\n",
       "      <td>It is just this from which astronomy arose amo...</td>\n",
       "      <td>[]</td>\n",
       "      <td>[]</td>\n",
       "      <td>1</td>\n",
       "      <td>[ ch 1 gr 1]</td>\n",
       "      <td>[]</td>\n",
       "      <td>[]</td>\n",
       "      <td>[It is just this from which astronomy arose am...</td>\n",
       "      <td>[[(It, None), (is, None), (just, None), (this,...</td>\n",
       "    </tr>\n",
       "    <tr>\n",
       "      <th>4</th>\n",
       "      <td>Before the distinction between the first motio...</td>\n",
       "      <td>[]</td>\n",
       "      <td>[(such]</td>\n",
       "      <td>1</td>\n",
       "      <td>[]</td>\n",
       "      <td>[]</td>\n",
       "      <td>[ 2]</td>\n",
       "      <td>[Before the distinction between the first moti...</td>\n",
       "      <td>[[(Before, None), (the, None), (distinction, N...</td>\n",
       "    </tr>\n",
       "  </tbody>\n",
       "</table>\n",
       "</div>"
      ],
      "text/plain": [
       "                                                text links   italic chapter  \\\n",
       "0                                          Chapter 1    []       []       1   \n",
       "1  On the distinction between the first motion an...    []       []       1   \n",
       "2  The testimony of the ages confirms that the mo...    []       []       1   \n",
       "3  It is just this from which astronomy arose amo...    []       []       1   \n",
       "4  Before the distinction between the first motio...    []  [(such]       1   \n",
       "\n",
       "        graphic table                                           marginal  \\\n",
       "0            []    []                                                 []   \n",
       "1            []    []                                                 []   \n",
       "2            []    []  [ Terms: 1. The first motion is that of the wh...   \n",
       "3  [ ch 1 gr 1]    []                                                 []   \n",
       "4            []    []                                               [ 2]   \n",
       "\n",
       "                                           sentences  \\\n",
       "0                                        [Chapter 1]   \n",
       "1  [On the distinction between the first motion a...   \n",
       "2  [The testimony of the ages confirms that the m...   \n",
       "3  [It is just this from which astronomy arose am...   \n",
       "4  [Before the distinction between the first moti...   \n",
       "\n",
       "                                              tagged  \n",
       "0                      [[(Chapter, None), (1, NUM)]]  \n",
       "1  [[(On, None), (the, None), (distinction, None)...  \n",
       "2  [[(The, None), (testimony, None), (of, None), ...  \n",
       "3  [[(It, None), (is, None), (just, None), (this,...  \n",
       "4  [[(Before, None), (the, None), (distinction, N...  "
      ]
     },
     "execution_count": 80,
     "metadata": {},
     "output_type": "execute_result"
    }
   ],
   "source": [
    "dfAstroNova.head()\n"
   ]
  },
  {
   "cell_type": "code",
   "execution_count": 187,
   "metadata": {},
   "outputs": [
    {
     "data": {
      "text/html": [
       "<div>\n",
       "<style scoped>\n",
       "    .dataframe tbody tr th:only-of-type {\n",
       "        vertical-align: middle;\n",
       "    }\n",
       "\n",
       "    .dataframe tbody tr th {\n",
       "        vertical-align: top;\n",
       "    }\n",
       "\n",
       "    .dataframe thead th {\n",
       "        text-align: right;\n",
       "    }\n",
       "</style>\n",
       "<table border=\"1\" class=\"dataframe\">\n",
       "  <thead>\n",
       "    <tr style=\"text-align: right;\">\n",
       "      <th></th>\n",
       "      <th>text</th>\n",
       "      <th>links</th>\n",
       "      <th>italic</th>\n",
       "      <th>chapter</th>\n",
       "      <th>graphic</th>\n",
       "      <th>table</th>\n",
       "      <th>marginal</th>\n",
       "      <th>sentences</th>\n",
       "      <th>tagged</th>\n",
       "    </tr>\n",
       "  </thead>\n",
       "  <tbody>\n",
       "    <tr>\n",
       "      <th>1570</th>\n",
       "      <td>The sun's true position on the 12th was 2° 36'...</td>\n",
       "      <td>[{'#fn3': 'This is the position of true opposi...</td>\n",
       "      <td>[]</td>\n",
       "      <td>70</td>\n",
       "      <td>[]</td>\n",
       "      <td>[]</td>\n",
       "      <td>[]</td>\n",
       "      <td>[The sun's true position on the 12th was 2° 36...</td>\n",
       "      <td>[[(The, None), (sun, None), (s, None), (true, ...</td>\n",
       "    </tr>\n",
       "    <tr>\n",
       "      <th>1571</th>\n",
       "      <td>If, however, we use the Ptolemaic eccentricity...</td>\n",
       "      <td>[{'#fn4': 'The apparent arc resulting from thi...</td>\n",
       "      <td>[]</td>\n",
       "      <td>70</td>\n",
       "      <td>[]</td>\n",
       "      <td>[]</td>\n",
       "      <td>[]</td>\n",
       "      <td>[If, however, we use the Ptolemaic eccentricit...</td>\n",
       "      <td>[[(If, None), (however, None), (we, None), (us...</td>\n",
       "    </tr>\n",
       "    <tr>\n",
       "      <th>1572</th>\n",
       "      <td>You should also note that if we have erred by ...</td>\n",
       "      <td>[]</td>\n",
       "      <td>[22']</td>\n",
       "      <td>70</td>\n",
       "      <td>[]</td>\n",
       "      <td>[]</td>\n",
       "      <td>[]</td>\n",
       "      <td>[You should also note that if we have erred by...</td>\n",
       "      <td>[[(You, None), (should, None), (also, None), (...</td>\n",
       "    </tr>\n",
       "    <tr>\n",
       "      <th>1573</th>\n",
       "      <td>Above, on Epiphi 12, there was also an excess ...</td>\n",
       "      <td>[]</td>\n",
       "      <td>[]</td>\n",
       "      <td>70</td>\n",
       "      <td>[]</td>\n",
       "      <td>[]</td>\n",
       "      <td>[]</td>\n",
       "      <td>[Above, on Epiphi 12, there was also an excess...</td>\n",
       "      <td>[[(Above, None), (on, None), (Epiphi, None), (...</td>\n",
       "    </tr>\n",
       "    <tr>\n",
       "      <th>1574</th>\n",
       "      <td>And because at such proximity to opposition a ...</td>\n",
       "      <td>[{'#fn5': 'That is, the Chaldean observations ...</td>\n",
       "      <td>[7&lt;sup&gt;h&lt;/sup&gt;,]</td>\n",
       "      <td>70</td>\n",
       "      <td>[]</td>\n",
       "      <td>[]</td>\n",
       "      <td>[ An investigation of the ratio of the orbs th...</td>\n",
       "      <td>[And because at such proximity to opposition a...</td>\n",
       "      <td>[[(And, None), (because, None), (at, None), (s...</td>\n",
       "    </tr>\n",
       "  </tbody>\n",
       "</table>\n",
       "</div>"
      ],
      "text/plain": [
       "                                                   text  \\\n",
       "1570  The sun's true position on the 12th was 2° 36'...   \n",
       "1571  If, however, we use the Ptolemaic eccentricity...   \n",
       "1572  You should also note that if we have erred by ...   \n",
       "1573  Above, on Epiphi 12, there was also an excess ...   \n",
       "1574  And because at such proximity to opposition a ...   \n",
       "\n",
       "                                                  links            italic  \\\n",
       "1570  [{'#fn3': 'This is the position of true opposi...                []   \n",
       "1571  [{'#fn4': 'The apparent arc resulting from thi...                []   \n",
       "1572                                                 []             [22']   \n",
       "1573                                                 []                []   \n",
       "1574  [{'#fn5': 'That is, the Chaldean observations ...  [7<sup>h</sup>,]   \n",
       "\n",
       "     chapter graphic table                                           marginal  \\\n",
       "1570      70      []    []                                                 []   \n",
       "1571      70      []    []                                                 []   \n",
       "1572      70      []    []                                                 []   \n",
       "1573      70      []    []                                                 []   \n",
       "1574      70      []    []  [ An investigation of the ratio of the orbs th...   \n",
       "\n",
       "                                              sentences  \\\n",
       "1570  [The sun's true position on the 12th was 2° 36...   \n",
       "1571  [If, however, we use the Ptolemaic eccentricit...   \n",
       "1572  [You should also note that if we have erred by...   \n",
       "1573  [Above, on Epiphi 12, there was also an excess...   \n",
       "1574  [And because at such proximity to opposition a...   \n",
       "\n",
       "                                                 tagged  \n",
       "1570  [[(The, None), (sun, None), (s, None), (true, ...  \n",
       "1571  [[(If, None), (however, None), (we, None), (us...  \n",
       "1572  [[(You, None), (should, None), (also, None), (...  \n",
       "1573  [[(Above, None), (on, None), (Epiphi, None), (...  \n",
       "1574  [[(And, None), (because, None), (at, None), (s...  "
      ]
     },
     "execution_count": 187,
     "metadata": {},
     "output_type": "execute_result"
    }
   ],
   "source": [
    "dfAstroNova[1570:1575]"
   ]
  },
  {
   "cell_type": "code",
   "execution_count": 81,
   "metadata": {},
   "outputs": [
    {
     "data": {
      "text/html": [
       "<div>\n",
       "<style scoped>\n",
       "    .dataframe tbody tr th:only-of-type {\n",
       "        vertical-align: middle;\n",
       "    }\n",
       "\n",
       "    .dataframe tbody tr th {\n",
       "        vertical-align: top;\n",
       "    }\n",
       "\n",
       "    .dataframe thead th {\n",
       "        text-align: right;\n",
       "    }\n",
       "</style>\n",
       "<table border=\"1\" class=\"dataframe\">\n",
       "  <thead>\n",
       "    <tr style=\"text-align: right;\">\n",
       "      <th></th>\n",
       "      <th>text</th>\n",
       "      <th>links</th>\n",
       "      <th>italic</th>\n",
       "      <th>chapter</th>\n",
       "      <th>graphic</th>\n",
       "      <th>table</th>\n",
       "      <th>marginal</th>\n",
       "      <th>sentences</th>\n",
       "      <th>tagged</th>\n",
       "    </tr>\n",
       "  </thead>\n",
       "  <tbody>\n",
       "    <tr>\n",
       "      <th>1600</th>\n",
       "      <td></td>\n",
       "      <td>[]</td>\n",
       "      <td>[]</td>\n",
       "      <td>appendix b</td>\n",
       "      <td>[]</td>\n",
       "      <td>[ appendix B t 2]</td>\n",
       "      <td>[]</td>\n",
       "      <td>[]</td>\n",
       "      <td>[]</td>\n",
       "    </tr>\n",
       "    <tr>\n",
       "      <th>1601</th>\n",
       "      <td>Kepler's table, for comparison</td>\n",
       "      <td>[]</td>\n",
       "      <td>[]</td>\n",
       "      <td>appendix b</td>\n",
       "      <td>[]</td>\n",
       "      <td>[ appendix B t 3]</td>\n",
       "      <td>[]</td>\n",
       "      <td>[Kepler's table, for comparison]</td>\n",
       "      <td>[[(Kepler, None), (s, None), (table, None), (f...</td>\n",
       "    </tr>\n",
       "    <tr>\n",
       "      <th>1602</th>\n",
       "      <td>Mars from Earth to be a little greater than ha...</td>\n",
       "      <td>[{'#fn6': '\n",
       "Kepler's observations yield topoce...</td>\n",
       "      <td>[]</td>\n",
       "      <td>appendix b</td>\n",
       "      <td>[]</td>\n",
       "      <td>[]</td>\n",
       "      <td>[]</td>\n",
       "      <td>[Mars from Earth to be a little greater than h...</td>\n",
       "      <td>[[(Mars, None), (from, None), (Earth, None), (...</td>\n",
       "    </tr>\n",
       "    <tr>\n",
       "      <th>1603</th>\n",
       "      <td>As shown in Figure 2B, the Sun is assumed to ...</td>\n",
       "      <td>[]</td>\n",
       "      <td>[]</td>\n",
       "      <td>appendix b</td>\n",
       "      <td>[ appendix b gr 1]</td>\n",
       "      <td>[]</td>\n",
       "      <td>[]</td>\n",
       "      <td>[As shown in Figure 2B, the Sun is assumed to ...</td>\n",
       "      <td>[[(As, None), (shown, None), (in, None), (Figu...</td>\n",
       "    </tr>\n",
       "    <tr>\n",
       "      <th>1604</th>\n",
       "      <td>The Sun moved westward and its longitude decre...</td>\n",
       "      <td>[]</td>\n",
       "      <td>[4&lt;sup&gt;h&lt;/sup&gt; 23&lt;sup&gt;m &lt;/sup&gt;]</td>\n",
       "      <td>appendix b</td>\n",
       "      <td>[]</td>\n",
       "      <td>[]</td>\n",
       "      <td>[]</td>\n",
       "      <td>[The Sun moved westward and its longitude decr...</td>\n",
       "      <td>[[(The, None), (Sun, None), (moved, None), (we...</td>\n",
       "    </tr>\n",
       "  </tbody>\n",
       "</table>\n",
       "</div>"
      ],
      "text/plain": [
       "                                                   text  \\\n",
       "1600                                                      \n",
       "1601                    Kepler's table, for comparison    \n",
       "1602  Mars from Earth to be a little greater than ha...   \n",
       "1603   As shown in Figure 2B, the Sun is assumed to ...   \n",
       "1604  The Sun moved westward and its longitude decre...   \n",
       "\n",
       "                                                  links  \\\n",
       "1600                                                 []   \n",
       "1601                                                 []   \n",
       "1602  [{'#fn6': '\n",
       "Kepler's observations yield topoce...   \n",
       "1603                                                 []   \n",
       "1604                                                 []   \n",
       "\n",
       "                               italic     chapter             graphic  \\\n",
       "1600                               []  appendix b                  []   \n",
       "1601                               []  appendix b                  []   \n",
       "1602                               []  appendix b                  []   \n",
       "1603                               []  appendix b  [ appendix b gr 1]   \n",
       "1604  [4<sup>h</sup> 23<sup>m </sup>]  appendix b                  []   \n",
       "\n",
       "                  table marginal  \\\n",
       "1600  [ appendix B t 2]       []   \n",
       "1601  [ appendix B t 3]       []   \n",
       "1602                 []       []   \n",
       "1603                 []       []   \n",
       "1604                 []       []   \n",
       "\n",
       "                                              sentences  \\\n",
       "1600                                                 []   \n",
       "1601                   [Kepler's table, for comparison]   \n",
       "1602  [Mars from Earth to be a little greater than h...   \n",
       "1603  [As shown in Figure 2B, the Sun is assumed to ...   \n",
       "1604  [The Sun moved westward and its longitude decr...   \n",
       "\n",
       "                                                 tagged  \n",
       "1600                                                 []  \n",
       "1601  [[(Kepler, None), (s, None), (table, None), (f...  \n",
       "1602  [[(Mars, None), (from, None), (Earth, None), (...  \n",
       "1603  [[(As, None), (shown, None), (in, None), (Figu...  \n",
       "1604  [[(The, None), (Sun, None), (moved, None), (we...  "
      ]
     },
     "execution_count": 81,
     "metadata": {},
     "output_type": "execute_result"
    }
   ],
   "source": [
    "dfAstroNova.tail()"
   ]
  },
  {
   "cell_type": "code",
   "execution_count": 85,
   "metadata": {},
   "outputs": [
    {
     "data": {
      "text/plain": [
       "1605"
      ]
     },
     "execution_count": 85,
     "metadata": {},
     "output_type": "execute_result"
    }
   ],
   "source": [
    "len(dfAstroNova)"
   ]
  },
  {
   "cell_type": "markdown",
   "metadata": {},
   "source": [
    "## Read the Sentences"
   ]
  },
  {
   "cell_type": "code",
   "execution_count": 19,
   "metadata": {},
   "outputs": [],
   "source": [
    "df=dfAstroNova.sentences\n"
   ]
  },
  {
   "cell_type": "code",
   "execution_count": 32,
   "metadata": {},
   "outputs": [
    {
     "data": {
      "text/plain": [
       "[\"But before that, I shall prove in this first part that one who substitutes the sun's apparent for its mean motion establishes a completely different orbit for the planet in the aether, whichever of the more celebrated opinions of the world he follows.\",\n",
       " 'Since this proof depends upon the equivalence of hypotheses, we shall begin with this equivalence.']"
      ]
     },
     "execution_count": 32,
     "metadata": {},
     "output_type": "execute_result"
    }
   ],
   "source": [
    "df[16]"
   ]
  },
  {
   "cell_type": "code",
   "execution_count": 120,
   "metadata": {},
   "outputs": [],
   "source": [
    "sents=[]\n",
    "for para in dfAstroNova.sentences:\n",
    "    sents +=para    "
   ]
  },
  {
   "cell_type": "code",
   "execution_count": 122,
   "metadata": {},
   "outputs": [
    {
     "data": {
      "text/plain": [
       "6699"
      ]
     },
     "execution_count": 122,
     "metadata": {},
     "output_type": "execute_result"
    }
   ],
   "source": [
    "len(sents)"
   ]
  },
  {
   "cell_type": "markdown",
   "metadata": {},
   "source": [
    "## Annotation by Regex Based on Consistant format with SpaCy and Prodigy "
   ]
  },
  {
   "cell_type": "markdown",
   "metadata": {},
   "source": [
    "<fig size= 3>\n",
    "Prodigy accept a specific format; a JSONL format (newline-delimited JSON). Entities and other highlighted spans of text can be defined in the \"spans\" property. A example could look like this dictionary:</p>\n",
    "\n",
    "   {'text': 'On 1600 January 13/2317 at 11h 50m, the right ascension of Mars was: 18 19',\n",
    "  'spans': [{'start': 3, 'end': 23, 'label': 'DATE'}]} </p>\n",
    "\n",
    "which start and end's numbers refer to the position of entitiy  in the sentence. (here DATE)\n",
    "  <fig size>\n"
   ]
  },
  {
   "cell_type": "code",
   "execution_count": 131,
   "metadata": {},
   "outputs": [],
   "source": [
    "label = \"DATE\"  \n",
    "texts = sents  \n",
    "regex_patterns = [\n",
    "               re.compile(r\"\\d{4} [A-Z][a-z.]+ \\d{1,2}\"                            # Date in format  yyyy Month dd\n",
    "                           \"|\\d{1,2} [A-Z][a-z.]+\\d{4}\"                            # Date in format  dd Month yyyy\n",
    "                           \"|Jan(uary)? \\d{1,2}|Feb(ruary)? \\d{1,2}|March \\d{1,2}\"\n",
    "                           \"|Apr(il)? \\d{1,2}|May \\d{1,2}|Jun(e)? \\d{1,2}\"         # Date in format Month dd\n",
    "                           \"|Jul(y)? \\d{1,2|Aug(ust)? \\d{1,2|Sep(tember)? \\d{1,2}\"\n",
    "                           \"|Oct(ober)? \\d{1,2}|Nov(ember)? \\d{1,2}|Dec(ember)? \\d{1,2}\")\n",
    "]\n",
    "examples = []\n",
    "for text in texts:\n",
    "    for expression in regex_patterns:\n",
    "        spans = []\n",
    "    for match in re.finditer(expression, text):\n",
    "        start, end = match.span()\n",
    "        span = {\"start\": start, \"end\": end, \"label\": label}\n",
    "        spans.append(span)\n",
    "    task = {\"text\": text, \"spans\": spans}\n",
    "    examples.append(task)     "
   ]
  },
  {
   "cell_type": "code",
   "execution_count": 132,
   "metadata": {},
   "outputs": [
    {
     "data": {
      "text/plain": [
       "list"
      ]
     },
     "execution_count": 132,
     "metadata": {},
     "output_type": "execute_result"
    }
   ],
   "source": [
    "type(examples)"
   ]
  },
  {
   "cell_type": "markdown",
   "metadata": {},
   "source": [
    "# See the primary results of annotation by REGEX"
   ]
  },
  {
   "cell_type": "code",
   "execution_count": 145,
   "metadata": {},
   "outputs": [],
   "source": [
    "def print_sents_entities(examples):\n",
    "    for example in examples:\n",
    "        if example[\"spans\"]!=[]:\n",
    "            sent,entity=example['text'], example['text'][example[\"spans\"][0][\"start\"]:example[\"spans\"][0][\"end\"]]\n",
    "            print(sent,[entity])"
   ]
  },
  {
   "cell_type": "code",
   "execution_count": 146,
   "metadata": {},
   "outputs": [
    {
     "name": "stdout",
     "output_type": "stream",
     "text": [
      "On 1580 November 12 at 10h 50m,1 they set Mars down at 8° 36’ 50” Gemini2 without mentioning the horizontal variations,  by which term I wish the diurnal parallaxes and the refractions to be understood in what follows. ['1580 November 12']\n",
      "On 1582 December 28 at 11h 30m, they set Mars down at 16° 47’ Cancer by observation ^6. ['1582 December 28']\n",
      "On 1585 January 31 at 12h 0m, Mars was placed at 21° 18’ 11” Leo ^8. ['1585 January 31']\n",
      "On 1587 March 7 at 19h 10m they deduced the position of Mars from the observations, which was 25° 10’ 20” Virgo. ['1587 March 7']\n",
      "On 1589 April 15 at 12h 5m they established the position of Mars very carefully at 3° 58' 21\" Scorpio, and corrected for longitudinal parallax so as to make it 3° 57’ 11” ^10. ['1589 April 15']\n",
      "On 1591 June 6 at 12h 20m, Mars is placed at 27° 15’ Sagittarius ^11. ['1591 June 6']\n",
      "On 1595 October 30 at 8h 20m, they found Mars at 17° 48’ Taurus, with a diurnal motion of 22’ 54” ^15. ['1595 October 30']\n",
      "On 1597 December 10 at 8h 30m, they first placed Mars at 3° 30’ Cancer, and again at 4° 1’ Cancer, the mean being 3° 45½’ Cancer ^16. ['1597 December 10']\n",
      "On 1600 January 13/2317 at 11h 50m, the right ascension of Mars was: 18 19 ['1600 January 13']\n",
      "But on January 24/February 3 at the same time it was at 6° 18’ Leo. ['January 24']\n",
      "This gives a diurnal motion of 23’ 44”, and a position on January 19/29 at 9h 40m of 8° 18’ 45” Leo, just as they put it. ['January 19']\n",
      "Again, at 7h 15m on the morning of December 27, it was 36° 43’ from Cor Leonis,7 whose latitude is 0° 26½’; hence, its longitude at the end of 1582 is 17° 28⅓’ Cancer, altitude 14° 4’, and thus affected by refraction. ['December 27']\n",
      "On 1583 January 16 at 7h 30m in the evening,11 Mars was 23° 29’ from the bright star in the foot of Erichthonius at an altitude of 51°. ['1583 January 16']\n",
      "On January 16 at 10½h it was 23° 27’ from the bright star in the foot of Erichthonius. ['January 16']\n",
      "On January 17 at 10⅗h 12 it was 23° 12½’ from the same star. ['January 17']\n",
      "On January 17 at 5h 20m in the evening,13 Mars was 23° 16’ from the foot of Erichthonius. ['January 17']\n",
      "On January 18 at 8h 52m in the evening15 there was 44° 22’ between Mars and Cor Leonis. ['January 18']\n",
      "On January 19 following, at 7h 3m, this distance was 44° 32½’. ['January 19']\n",
      "But now let us calculate, for January 17, how much of an increase in the hourly motion should result from a parallax greater than the solar parallax as usually accepted. ['January 17']\n",
      "On the night between Thursday and Friday, which was February 17/27, while Corvus was on the meridian, there was 9° 44’ between Mars and Spica, and between it and the Northern Pan,23 17° 41’; and between Mars and Arcturus, 29° 13’. ['February 17']\n",
      "On February 19/29 we had moved the sight, and began to observe Mars rising. ['February 19']\n",
      "On February 22 or March 3 we tested the sextant, just as we had done above, and found 26° 2’ between Canis Minor and Orion’s higher shoulder,33 which the calculation shows to be 26° 2’ 15”. ['February 22']\n",
      "It became clear again on the morning of March 4, and now, when Antares culminated, with the arm fixed at 29° 19’, both stars were seen evenly [with the sights]. ['March 4']\n",
      "On the night following February 29 or March 10, the instrument having meanwhile been displaced, this distance was, first, between 29° 9’ and 29° 10’, half an hour before the culmination of the Heart of Hydra ^37. ['February 29']\n",
      "But on March 3, with the Mouth of Leo44 culminating, the distance was 29° 15’, and with the Heart of Scorpius45 culminating, 29° 19’ plus. ['March 3']\n",
      "On 1590 March 4 at 7h 10m in the evening, Mars's declination was 9° 26’ ['1590 March 4']\n",
      "On 1592 January 23 at 10h 15m in the evening, Mars was at 11° 34’ 30” Aries with latitude 0° 2’ south ^3. ['1592 January 23']\n",
      "For on February 6 it was already at about 7’ northern latitude ^6. ['February 6']\n",
      "On the evening of 1593 December 10, Mars was observed at the ascending node. ['1593 December 10']\n",
      "On 1595 October 27 at 12h 20m, Mars's true latitude after the removal of parallax was 0° 2’ 20” south ^8. ['1595 October 27']\n",
      "Counting backwards 687 days, the number of days in Mars’s revolution on its eccentric, starting from noon on 28 October, the end will fall on 1593 December 10, while on the preceding night Mars was observed near the node. ['1593 December 10']\n",
      "This will end up at 1592 January 23, when the planet was observed right at the node. ['1592 January 23']\n",
      "If you do the same a third time, you will come out at 1590 March 7, while on the fourth day preceding, Mars had some southern latitude, which it would make up over the four days, so as to fall at the node about the seventh. ['1590 March 7']\n",
      "I. On the morning of 1595 January 4, when Mars was observed at 7h 10m at altitude 8°, with reference to Spica Virginis and Cor Scorpii,10 it was observed at latitude 0° 3’ 46” N, and it was itself at 13° 36’ 40” Sagittarius ^11. ['1595 January 4']\n",
      "On the night of 1589 April 15 Mars's observed latitude was 1° 7’ north ^14. ['1589 April 15']\n",
      "And thus, although on May 6 it decreased somewhat more slowly, since the star was moving away from the earth, we shall still not be far wrong if we extrapolate proportionally: we make 21 days be to the number of days after which Mars falls upon the ecliptic, as 60 minutes of diminution is to the 6⅔ minutes remaining. ['May 6']\n",
      "This rule shows it to be two and one third days, so that Mars was at the node on May 9. ['May 9']\n",
      "Once again, counting thrice 687 days thence, we will come out on 1594 December 30. ['1594 December 30']\n",
      "On this day, Mars ought to have been at the node, and for the next 5 days—up to the morning of January 4—it should have been moving off southward. ['January 4']\n",
      "And indeed, from observations of it on January 4, we have given it a few minutes of south latitude. ['January 4']\n",
      "Nor should it disturb you that in 1589 we assigned a latitudinal motion of 6⅔’ to 2⅓ days, while we do not allow so much over a 5-day period around 1595 January 4. ['1595 January 4']\n",
      "Whether you do this with the help of the Prutenic or Tychonic tables, taking into account the true precession of the equinox, you will find that on the morning of 1594 December 30, the mean position of Mars is 27° 14½’ Scorpio, and on the morning of 1595 October 28 it was at 5° 31’ Taurus. ['1594 December 30']\n",
      "Accordingly, on 1588 November 10 at 6h 30m in the morning the planet Mars was seen at 25° 31’ Virgo, with a latitude of 1° 36’ 45” north, the sun being at 21 Scorpio ^4. ['1588 November 10']\n",
      "On December 5 following, at 6h in the morning, Mars was seen at 9° 19⅖’ Libra, with a latitude of 1° 53½’ N., the sun being at 23° Sagittarius ^5. ['December 5']\n",
      "But since on December 5 the planet in its eccentric motion was already several degrees beyond the limit, again diminishing its true digression from the ecliptic, this was consequently greater right at the limit. ['December 5']\n",
      "Similarly, on 1586 October 22 at 6h in the morning, about dawn, there was about 6° 9’ eastward between Mars and Cor Leonis ^6. ['1586 October 22']\n",
      "But on November 2 at 4⅔h in the morning, with the sun at 19⅖° Scorpio, Mars was seen at 5° 52’ Virgo, with latitude 1° 47’ N ^9. ['November 2']\n",
      "On December 1 following, at 7½h in the morning, the equatorial distance10 between Cor Leonis and Mars was 25° 12¼’, and Mars’s declination was 6° 2¼ ^11. ['December 1']\n",
      "On the other hand, on 1583 April 22, at 9¾h in the night, an interval of 20° 58’ was observed between Mars and the Dog12 and 22° 47½’ between Mars and Cor Leonis ^13. ['1583 April 22']\n",
      "Likewise, at 8h in the evening on 1596 March 9, it was observed at 15° 49’ Gemini, with latitude 1° 49⅔’ north ^14. ['1596 March 9']\n",
      "On 1589 September 15 at 7¼h in the evening, Mars was observed at 16° 47⅓’ Sagittarius with 1° 41⅔’ southern latitude ^15. ['1589 September 15']\n",
      "On November 1 following, at 6⅙h, it was seen at 20° 59¼ Capricorn, with latitude 1° 36’ south, the sun being at 19° Scorpio ^16. ['November 1']\n",
      "Therefore, the maximum inclination is much greater than 1° 36’, and by all indications is about as great as the apparent latitude on September 15, namely, 1° 50’, approximately. ['September 15']\n",
      "The first such day fell on 1583 April 22, which only just now I had under consideration. ['1583 April 22']\n",
      "On 1584 October 30, there was a select occasion, but no observation is available. ['1584 October 30']\n",
      "However, on November 12 following, at 1½h in the night, when the sun had already fallen about 14° or 15° below the diameter of intersection, the earth having risen that much (for Copernicus), or the diameter of intersection having fallen that much toward the earth (for Tycho), Mars was seen at 23° 14’ Leo with latitude 2° 12⅖’ north, while the sun was at 1° Sagittarius ^17. ['November 12']\n",
      "On 1585 April 26 at 9h 42m, Mars was seen at 21° 26’ Leo with latitude 1° 49¾’ north ^18. ['1585 April 26']\n",
      "Similarly, near the other limit, on 1591 October 16 at 6h 30m in the evening, Mars was seen at 1° 27⅓’ Aquarius with latitude 2° 10⅚’ south, decreasing ^19. ['1591 October 16']\n",
      "(For on October 10 preceding, the latitude was 2° 18⅔’,20 and on October 2 it was 2° 38½‘.) ['October 10']\n",
      "For example, in the observation of 1585 April 26, the sun was at 16° Taurus, and Mars was observed at 21° 26’ Leo, with latitude 1° 49¾’. ['1585 April 26']\n",
      "For example, on 1593 August 24, the apparent latitude at opposition to the sun comes out to be 6° 3’ south ^24. ['1593 August 24']\n",
      "Suppose, however, that on 1580 November 12 at 10h 50m Mars was observed at 8° 37’ Gemini,3 and the motion over five days was 1° 55’. ['1580 November 12']\n",
      "Therefore, the moment of opposition was November 18 at 1h 31m. ['November 18']\n",
      "On the night following 1582 December 28, at 11h 30m, Mars was observed at 16° 47’ Cancer,6 while the true position of the sun was 17° 13’ 45“ Capricorn. ['1582 December 28']\n",
      "Subtracting this from 11 hours 30 minutes gives December 28 at 3h 58m after noon as the moment of true opposition. ['December 28']\n",
      "For among the observations I find various latitudes: on the night following December 26, 4° 6’ or 4° 2’, while on the night following December 29, 4° 8’ or 4° 6½’. ['December 26']\n",
      "On 1585 January 31 at 12h 0m, Mars was observed at 21° 18’ 11“ Leo ^7. ['1585 January 31']\n",
      "Therefore the time was January 30 at 19h 14m, and Mars’s ecliptic position was 21° 36’ 10“ Leo. ['January 30']\n",
      "For the observation on January 31 at 12h gave 4° 31’. ['January 31']\n",
      "On the night following 1587 March 4, at 1h 16m past midnight, the position of Mars was found to be 26° 26’ 17“ Virgo,8 from Cor Leonis9 and Spica Virginis, with an observed latitude of 3° 38’ 16“ north. ['1587 March 4']\n",
      "Therefore, the time of true opposition was March 6 at 7h 23m. ['March 6']\n",
      "On the night following 1589 April 15 at 12h 5m, the planet was found at 3° 58’ 20“ Scorpio,13 with latitude 1° 4’ 20“ north, decreasing. ['1589 April 15']\n",
      "Mars’s diurnal motion, as is clear from comparison with April 13, is 22’ 8“; the sun’s, 58’ 10“; the sum, 1° 20’ 18“. ['April 13']\n",
      "Therefore, the moment of opposition was April 14 at 6h 23m PM. ['April 14']\n",
      "On the night following 1591 June 6 at 12h 20m, Mars was found at 27° 14’ 42“ Sagittarius,16 with latitude 3° 55½’ south. ['1591 June 6']\n",
      "The sun’s diurnal motion was 57’ 8“, and Mars’s (for four days) was 1° 12’ 24“, since on June 10 at 11h 50m it was at 26° 2’ 18“ Sagittarius. ['June 10']\n",
      "On 1593 August 24 at 10h 30m, the ecliptic position of Mars was found  to be 12° 38’ Pisces,18 with latitude 6° 5’ 30“ south. ['1593 August 24']\n",
      "On 1595 October 30 at 8h 20m, the planet was found at 17° 47’ 15“ Taurus,19 not far from the nonagesimal. ['1595 October 30']\n",
      "Therefore, the true opposition was 0h 39m PM on October 31. ['October 31']\n",
      "Let, at any rate, Mars’s position on 1597 December 10 at 8h 30m be 3° 45½’ Cancer (as above) ^20. ['1597 December 10']\n",
      "later, on December 14 at 3h 44m in the morning. ['December 14']\n",
      "On the same night, the one following December 10, at 12⅙h, Fabricius in East Frisia found Mars’s position to be 3° 40¼’ Cancer with latitude 3° 23’ N. In this observation the longitude comes out nearly the same. ['December 10']\n",
      "X. On 1600 January 13/23 at 11h 40m, the time being adjusted to Uraniborg time, the planet was observed at 10° 38’ 46“ Leo ^21. ['1600 January 13']\n",
      "The opposition therefore followed 5 days 2h 22m after; that is, on January 19/29 at 2h 2m in the morning, before dawn. ['January 19']\n",
      "On February 16, old style, at 5h in the morning, he took the planet’s distances from the tail of Leo (for the latitude), from the neck of Leo,30 and, on the other hand, from the bright star in the southern wing of Virgo, so as to check its longitude by working it out twice. ['February 16']\n",
      "On the night following February 23, at 12h, he observed Mars in relation to five fixed stars: the Tail of Leo and Arcturus for latitude, and for the longitude, in the first instance, Spica (which followed it), and, in the second, the Neck of Leo and Cor Leonis (which preceded it). ['February 23']\n",
      "Now from February 15 at 17h to 23 February at 12h, a period of 7 days 19 hours, Mars moved 3° 0’: 180 minutes in 187 hours. ['February 15']\n",
      "And if you wish to take it into account, the parallax (if any) is subtracted from the longitude on February 16 and a little is added on February 23. ['February 16']\n",
      "Finally, in 1604, when I had published my previously written Ephemerides, in which on the night between March 29 and 30/April 8 and 9 the planet was placed on a line from Arcturus to Spica, that very thing appeared. ['March 29']\n",
      "For on the evening of April 8 it was slightly east of that line, but already on April 9 it was to the west. ['April 8']\n",
      "Therefore, from 1587 March 6 to 1591 June 8 is 4 years 3 months, to which corresponds a motion of precession of 3’ 37“. ['1587 March 6']\n",
      "Similarly, from 1587 March 6 to 1593 August 25 is 6 years 5½ months, to which corresponds a motion of  precession of 5’ 30“. ['1587 March 6']\n",
      "Finally, from 1587 March 6 to 1595 October 31 is nearly 8 years 7 months, to which corresponds a motion of 7’ 18“. ['1587 March 6']\n",
      "On 1600 March 5/15 about midnight, Mars was observed at 29° 12½' Cancer with latitude 3° 23' north. ['1600 March 5']\n",
      "At perihelion, let the observation be taken that was made on the night following 1593 July 30 at 1h 45m ^3. ['1593 July 30']\n",
      "On 1600 March 5, Mars's mean longitude was, in Tycho's reckoning, 4s 29° 11' 3\", apogee 23° 41' Leo. ['1600 March 5']\n",
      "At perigee, on 1593 July 30, since (in Brahe's reckoning) Mars's [mean] longitude was 10s 26° 12' 43\" and the apogee was at 23° 34' Leo, the simple anomaly was 182° 38' 43\", which requires an equation of 35' 52\", to be added. ['1593 July 30']\n",
      "I next turned to the interval of six years, and found at length that from 1585 May 18 and 1591 January 22 suitable observations exist. ['1585 May 18']\n",
      "For they corresponded to 1585 May 30 at 5h and 1591 January 20 at 0h ^5. ['1585 May 30']\n",
      "Now to the observations: on 1585 May 18 at 10½h at night Mars was observed at 0° 50' 45\" Virgo with latitude 1° 19' 30\" north ^6. ['1585 May 18']\n",
      "For consider that on April 18 preceding at 10h Mars was found at 17° 37½’ Leo, while Magini puts it at 18° 0' Leo. ['April 18']\n",
      "Over the 33 days elapsed to May 18 this difference was diminished to the measure of 14¼’ . ['May 18']\n",
      "Therefore, on May 30 the difference will be 11¼’. ['May 30']\n",
      "Similarly, on 1591 January 22 at 7h in the morning, Mars was 34° 32' 45\" from Spica with declination 17° 25' south, at an altitude of 16° ^8. ['1591 January 22']\n",
      "Therefore, the remainder is the position of Mars on January 20 at 0h (which, as we said, corresponds to the other time): 21° 34' Scorpio. ['January 20']\n",
      "Let the first time be 1590 March 5 at 7h 10m in the evening, since then Mars had hardly any latitude, and thus no one looking at the demonstration could be troubled by any irrelevant suspicions about the intermingling of latitude. ['1590 March 5']\n",
      "It was observed on January 23 at 7h 15m at 11° 34½’ Aries, with the correction for parallax ^5. ['January 23']\n",
      "It was observed December 10 at 7h 20m at 4° 45' Aries, parallax corrected ^6. ['December 10']\n",
      "Therefore, on December 8 at 7h 20m it was seen at 3° 37’ Aries, while at our time of 6h 12m it was at 3° 35½’ Aries. ['December 8']\n",
      "It was observed on October 27 at 12h 20m at 18° 52’ 15\" Taurus, retrograde ^7. ['October 27']\n",
      "We shall now go through the observations1 again, carefully: On 1590 March 4 at 7h 10m, Mars was found by careful observation and calculation to be at 24° 22' 56\" Aries with latitude 0° 3' 20\" S. At that time, 8° Aries was setting, so Mars was rather low. ['1590 March 4']\n",
      "On 1592 January 23 at 7h 20m, using only one stellar distance from Mars, without the confirmation of another, Mars was found at 11° 32' 44\" Aries with latitude 0° 1' 36\" S. And so we shall make no changes for horizontal variations, although we suspect an uncertainty of one or two minutes. ['1592 January 23']\n",
      "On 1593 December 7 at 8h 0m Mars was found at 3° 6' 50\" Aries with no danger of horizontal variation, with latitude 7’ 9\" S. However, the right ascension found using three stars showed a discrepancy of 4', and the value taken as true was the mean between the extremes. ['1593 December 7']\n",
      "On 1595 October 25 at 8h 10m, the planet's distance from three fixed stars was observed, and by unanimous consensus the planet was found to be at 19° 39' 25\" [Taurus] with latitude 0° 12' 41\" S. ['1595 October 25']\n",
      "And on 1595 October 25 at 5h 45m that line is found at 14° 19' 52\" Taurus. ['1595 October 25']\n",
      "This supposition also agrees with my observations of 1604 February 29/ March 10, for on the night following that day with my instruments I found Mars culminating at 26° 18⅘‘ Libra. ['1604 February 29']\n",
      "Around December 15 the diurnal motion was 30', and around December 5 it was 32'. ['December 15']\n",
      "Summary: On 1590 October 31 at 6¼h in the morning, Mars's eccentric position was 8° 19' 20\" Virgo, while the hypothesis constructed using acronychal observations places it at 8° 19' 29\" Virgo. ['1590 October 31']\n",
      "Now, in Chapter 26, the distance of Mars from the center of the sun was found to be 147,750 in 14° 21' 7\" Taurus, at the node, on 1595 October 25. ['1595 October 25']\n",
      "Again, in Chapter 27, the distance of Mars was found to be somewhat less than 163,100 at 5° 25' 20\" Libra, and that was on 1590 December 31. ['1590 December 31']\n",
      "Thirdly, in Chapter 28 the distance of Mars was found to be 166,180 at 8° 19' 20\" Virgo, on 1590 October 31, 68 degrees from the node. ['1590 October 31']\n",
      "The aphelion for 1590 October 31 was found in Ch. ['1590 October 31']\n",
      "On 1585 February 17 at 10h the planet was seen at 15° 12½ Leo, with latitude 4° 16' North ^1. ['1585 February 17']\n",
      "On 1586 December 27 at 4h in the morning, at 29° 42⅔‘ Virgo, lat. ['1586 December 27']\n",
      "]3 And on 1587 January 1 at 7h 8m in the morning, at 1° 4' 36\" Libra, Lat. ['1587 January 1']\n",
      "2° 54\" N. And on January 9 in the morning, at 2° 51½’ Libra, lat. ['January 9']\n",
      "On 1588 November 10, at 6h 30m in the morning there was 31° 27' between Mars and Cor Leonis. ['1588 November 10']\n",
      "On December 5 at 6h in  the morning there were 45° 17' between Mars and Cor Leonis. ['December 5']\n",
      "[IV] On 1590 October 6, at 4h 45m in the morning, Mars was observed at an altitude of 12½ degrees, [and distances taken] from the Tail of Leo7 and the Heart of Hydra,8 with its declination. ['1590 October 6']\n",
      "[V] On 1600 March 5/15 at 8½h pm Mars was at 29° 12½’ Cancer, latitude 3° 23' N. And on March 6/16 at 8½h at 29° 18' Cancer, lat. ['1600 March 5']\n",
      "On 1588 November 10 the observation is 39 minutes less than the midday position of Magini. ['1588 November 10']\n",
      "On December 5 it is 33 minutes less. ['December 5']\n",
      "On 1593 July 31 at l¾h am at 17° 39½' Pisces, lat. ['1593 July 31']\n",
      "4° 16' in 7 days, on September 19 at 7⅙h Mars will be at 14° 20' Capricorn, and at 6⅙h it will be at 14° 18½’ Capricorn. ['September 19']\n",
      "Now, on September 26, it is still 0° 53' farther forward. ['September 26']\n",
      "So if we interpolate, this difference will be about 2 minutes greater on September 19. ['September 19']\n",
      "With all three observations taken into account, let the position of the line αθ on 1589 November 1 at 6⅙h pm be taken as 29° 54' 53\" Aquarius, so that in 1591 it would be 29° 56' 30\", and in 1593, 29° 58' 6\" Aquarius. ['1589 November 1']\n",
      "But previously and in like manner we took at αι 1588 November 22 at 9h 2½m to be 29° 20' 12\" Leo. ['1588 November 22']\n",
      "From 1588 November 22 at 9h 2½m to 1589 November 1 at 6h 10m are 344 days diminished by 2h 52½m while a whole revolution to the same fixed star has 687 days diminished by 0h 28 min. ['1588 November 22']\n",
      "On 1589 May 6 at 11⅓h Mars was observed at 27° 7⅓’ Libra with latitude  0° 6⅔’ north ^1. ['1589 May 6']\n",
      "For with this  one just now presented, there is associated another, from 1594 December 28. ['1594 December 28']\n",
      "And on the following 1595 January 4 it still had 3' of north latitude ^3. ['1595 January 4']\n",
      "For the sake of consensus, we shall also add an observation of October 1597. ['October 15']\n",
      "Thus Mars was observed last at this place in  November 1580 ^9. ['November 15']\n",
      "On 1597 November 8, Saturday, or October 29, in the morning, Mars was  not yet on the line from the twelfth of Gemini to the fourth ^13. ['1597 November 8']\n",
      "Now the mean longitude of Mars on the morning of October 29 at 5h (which is an estimate, since I did not write down the time) is found to be 1s 29° 10' 43\". ['October 29']\n",
      "On 1597 October 30 at 5h am the position of the sun is found to be 16° 38' 8\" Scorpio, distance 98,820. ['1597 October 30']\n",
      "On 1589 April 5 at 11h 33m Mars was observed at 7° 31' 10\" Scorpio with latitude 1° 28' 13\" N ^15. ['1589 April 5']\n",
      "A suitable observation at a similar longitude on the other semicircle occurred on 1582 November 12 at 6¾h am, when the sun's position was 29° 35' 17\" Scorpio ^21. ['1582 November 12']\n",
      "On 1596 March 9 at 7h 40m pm, when the sun's position was 29° 31' 24\" ['1596 March 9']\n",
      "On 1585 January 24 at 9h, when the position of the sun was 15° 9' 5\" Aquarius, its distance from earth 98,590, the mean longitude of Mars 4s 16° 50' 10\", the aphelion 4s 28° 46' 41\", the remainder of the mean anomaly to complete the full circle 11° 56' 31\", and the consequent eccentric position from the vicarious hypothesis 18° 49' 0\" Leo: the planet was observed at 24° 9' 30\" Leo, latitude 4° 31' 0\" N ^30. ['1585 January 24']\n",
      "On 1586 December 16 at 6½h am, when the sun was at 4° 16' 51\" Capricorn, 98,200 distant from earth, mean longitude of Mars 4s 18' 39' 9\", remainder of mean anomaly 10° 9' 41\", eccentric position from the vicarious hypothesis 20° 20' 30\" Leo: the declination of Mars was found to be 3° 54', right ascension from Arcturus and Spica 177° 27' ^31. ['1586 December 16']\n",
      "In 1591 on the night following May 13, at 1 hour 40m past midnight, when the sun was at 2° 8' 43\" Gemini, distant from earth 101,487, while the mean longitude of Mars was 8s 22° 18' 4\", anomaly 113° 24' 4\", equated 103° 15' 48\", consequent eccentric position from the vicarious hypothesis 12° 9' 48” Sagittarius (or, by analogy with 26 Sagittarius nearby, just now mentioned, 12° 8¾’ ['May 13']\n",
      "And at one of the times noted therein, namely, 1590 March 4 at 7⅕h, the [mean] longitude of Mars was 1s 4° 11' 20\". ['1590 March 4']\n",
      "Finally, on 1595 July 22 at 2h 40m am, when the sun was at 7° 59' 52\" Leo, 101,487 distant from earth, Mars's mean longitude 11s 14° 9' 5\", and anomaly 164° 48' 55\", and consequent eccentric position from the vicarious hypothesis 17° 16' 36\" Pisces: the apparent position of Mars, from the most select observations, was 4° 11' 10\" Taurus, lat. ['1595 July 22']\n",
      "For on the night following June 29 in 1593, at 1h 30m after midnight, when the sun was at 17° 25' 42\" Cancer, 101,760 distant from earth, the longitude of Mars 10s 10° 1' 29\", anomaly 161° 5' 29\", and the consequent position of Mars 6° 10' 5\" Aquarius, it was observed at 13° 37' 22\" Pisces, with latitude 4° 37' S ^38. ['June 29']\n",
      "Now, if a longitude that was taken up expresses satisfactorily the observed values for the distances for these four days, it will also express the observed values for the intervening days, namely, November 25, 26, and 27, and December 3, 17, 27, 28, and 29 of 1582, and January 16, 17, 18, 19, 21, and 22 of 1583. ['November 25']\n",
      "For while the sun and Mars were  at opposition on January 31 of that year, the planet was observed at many closely-spaced positions over the two months preceding and the same number following. ['January 31']\n",
      "On 1593 December 10, at 7h 0m in the evening, Mars was observed at 4° 44' Aries, with latitude 0° 1' 15\" south, parallax not accounted for ^1. ['1593 December 10']\n",
      "After the 687 days of one complete revolution of Mars, on 1595 October 28 at 11h 30m pm Mars was found at an altitude of 51° in 18° 35' Taurus, with latitude 4½’ south, parallax not accounted for ^2. ['1595 October 28']\n",
      "And again, 687 days previously, on 1592 January 23, at 10h pm, it again had a southern latitude of 2', with an altitude of 25° ^3. ['1592 January 23']\n",
      "And finally, subtracting another 687 days, so that we come to 1590 March 7, Mars was observed on March 4 at 7h, at an altitude of 14°, to have a latitude of 3' 20\" south ^4. ['1590 March 7']\n",
      "For while on October 28 at 12h the latitude was 4½’ south, six days later, on the following November 3, at the same time, the latitude was 19' 45\" north ^5. ['October 28']\n",
      "And since on October 28 at 12h its eccentric position was 16° 8⅓’ Taurus,6 and the remaining latitude was 4½’: let this be traversed in one day and one eighth, after which time 37' are added to Mars's position. ['October 28']\n",
      "For since on 1589 May 6 Mars had 6⅔‘ of northern latitude,7 it traversed this in 2⅓ days, according to the proportion of the latitudinal motion of the preceding days, [arriving at the node on] May 8 at 20h at which time its eccentric position is found to be 16° 42' Scorpio. ['1589 May 6']\n",
      "On 1593 August 25 at 17h 27m, Mars was observed at opposition to the sun at 12° 16' Pisces ^1. ['1593 August 25']\n",
      "On 1593 July 21 at 14h (in astronomical terms),4 the planet was observed at 17° 45¾' Pisces, with latitude 5° 46¼’ south ^5. ['1593 July 21']\n",
      "For the northern inclination, at midnight following 1585 January 31, at an altitude of 53°, the latitude of Mars, now decreasing, was 4° 31' north ^9. ['1585 January 31']\n",
      "However, the accurately examined calculation for December 10 closely agrees with the Fabrician latitude19 of 3° 23', for it gives 3° 21⅔’ N. The tenth comes close to the calculation. ['December 10']\n",
      "For while the opposition was on the night following January 30, the latitude observed on the 24th, preceding the opposition, was 4° 31', still increasing, while on January 31, 16 hours past opposition, the observed latitude was again 4° 31'. ['January 30']\n",
      "Therefore, let the maximum latitude occur about 19° Leo and Aquarius, where Mars was on January 24. ['January 24']\n",
      "25 or March 6, the northern latitude was a maximum, while opposition followed by an entire month. ['March 6']\n",
      "27 or October 7, in turn, the southern latitude was a maximum, while Mars was between its quintile and sextile aspects to the sun ^4. ['October 7']\n",
      "In the observations of Chapter 12, considered approximately, on 1595 October 28 Mars was considered to have been at the node ^2. ['1595 October 28']\n",
      "And on the morning of 1589 May 9 we supposed Mars to have been at the other, descending, node ^3. ['1589 May 9']\n",
      "Nevertheless, I have discovered, using a very lengthy process of induction extending over the 50 years from Aristotle's fifteenth year to the end of his life, that this could not have happened on any other day than the evening of April 4 in the 357th year before the commonly accepted epoch of Christ, when the 21-year-old Aristotle was, as we know from Diogenes Laertius, a student of Eudoxus ^2. ['April 4']\n",
      "This was made  on the morning of January 18, 272 BC, when Mars occulted the northern star in the head of Scorpius ^3. ['January 18']\n",
      "This time corresponds to the common year of Christ 139 May 27. ['May 27']\n",
      "Therefore, at Hven in the year of Christ 139 May 27 at 6h the mean motion was 8s 11° 18' 30\". ['May 27']\n",
      "But on  159944 May 27 at 6h Mars's mean motion was 0s 0° 47' 30\" from the equinoctial, while the distance of Cor Leonis from that point, as demonstrated by Brahe, was 4s 24° 15' 45\". ['9944 May 27']\n",
      "For in the year of Christ 139 May 27 it was at 0° 41' Leo, while Cor Leonis was at 2° 30' Leo. ['May 27']\n",
      "But today, in 1599 May 27, it is at 28° 58' 50\" Leo, while Cor Leonis is at 24° 15' 45\" Leo. ['1599 May 27']\n",
      "Therefore, the root of the Christian era, at noon on January 1, has this aphelion 2° 27' before Cor Leonis. ['January 1']\n",
      "In the year of Christ 139 Pharmouthi 9, which is February 23, at sunset at 5h 30m, 3h 30m at Hven, the apparent position of the sun was computed as 3° 3' Pisces; therefore, the mean position was 0° 43' Pisces. ['February 23']\n",
      "But on 1599 February 23 at 3h 30m at Hven the mean motion of the sun was at 12° 47' 41\" Pisces, and Cor Leonis 24° 15’ 30\" Leo. ['1599 February 23']\n",
      "number of years, and the epoch will be 5s 7° 14’ 36\" from Cor Leonis at the root of the Christian era on January 1 ^48. ['January 1']\n",
      "Between the morning of January 18 during the year 272 before Christ,6 and noon on January 1 of the year 1 of Christ, there are 272 Egyptian years, 51 days, and several hours. ['January 18']\n",
      "Therefore, the time of opposition is 17 hours 20 minutes before March 29, at 21:43, the time when the observation was made. ['March 29']\n",
      "Kepler determined the time of opposition on March 28, 4h 23m AM, old style. ['March 28']\n"
     ]
    }
   ],
   "source": [
    "print_sents_entities(examples)"
   ]
  },
  {
   "cell_type": "code",
   "execution_count": 173,
   "metadata": {},
   "outputs": [],
   "source": [
    "def print_entities(examples):\n",
    "    entities = []\n",
    "    for example in examples:\n",
    "        if example[\"spans\"] != []:\n",
    "            entities += [example['text'][example[\"spans\"][0][\"start\"]:example[\"spans\"][0][\"end\"]]]\n",
    "    print(\"There is {} entities with this detail\\n{}\".format(len(entities),entities))"
   ]
  },
  {
   "cell_type": "code",
   "execution_count": 174,
   "metadata": {},
   "outputs": [
    {
     "name": "stdout",
     "output_type": "stream",
     "text": [
      "There is 189 entities with this detail\n",
      "['1580 November 12', '1582 December 28', '1585 January 31', '1587 March 7', '1589 April 15', '1591 June 6', '1595 October 30', '1597 December 10', '1600 January 13', 'January 24', 'January 19', 'December 27', '1583 January 16', 'January 16', 'January 17', 'January 17', 'January 18', 'January 19', 'January 17', 'February 17', 'February 19', 'February 22', 'March 4', 'February 29', 'March 3', '1590 March 4', '1592 January 23', 'February 6', '1593 December 10', '1595 October 27', '1593 December 10', '1592 January 23', '1590 March 7', '1595 January 4', '1589 April 15', 'May 6', 'May 9', '1594 December 30', 'January 4', 'January 4', '1595 January 4', '1594 December 30', '1588 November 10', 'December 5', 'December 5', '1586 October 22', 'November 2', 'December 1', '1583 April 22', '1596 March 9', '1589 September 15', 'November 1', 'September 15', '1583 April 22', '1584 October 30', 'November 12', '1585 April 26', '1591 October 16', 'October 10', '1585 April 26', '1593 August 24', '1580 November 12', 'November 18', '1582 December 28', 'December 28', 'December 26', '1585 January 31', 'January 30', 'January 31', '1587 March 4', 'March 6', '1589 April 15', 'April 13', 'April 14', '1591 June 6', 'June 10', '1593 August 24', '1595 October 30', 'October 31', '1597 December 10', 'December 14', 'December 10', '1600 January 13', 'January 19', 'February 16', 'February 23', 'February 15', 'February 16', 'March 29', 'April 8', '1587 March 6', '1587 March 6', '1587 March 6', '1600 March 5', '1593 July 30', '1600 March 5', '1593 July 30', '1585 May 18', '1585 May 30', '1585 May 18', 'April 18', 'May 18', 'May 30', '1591 January 22', 'January 20', '1590 March 5', 'January 23', 'December 10', 'December 8', 'October 27', '1590 March 4', '1592 January 23', '1593 December 7', '1595 October 25', '1595 October 25', '1604 February 29', 'December 15', '1590 October 31', '1595 October 25', '1590 December 31', '1590 October 31', '1590 October 31', '1585 February 17', '1586 December 27', '1587 January 1', 'January 9', '1588 November 10', 'December 5', '1590 October 6', '1600 March 5', '1588 November 10', 'December 5', '1593 July 31', 'September 19', 'September 26', 'September 19', '1589 November 1', '1588 November 22', '1588 November 22', '1589 May 6', '1594 December 28', '1595 January 4', 'October 15', 'November 15', '1597 November 8', 'October 29', '1597 October 30', '1589 April 5', '1582 November 12', '1596 March 9', '1585 January 24', '1586 December 16', 'May 13', '1590 March 4', '1595 July 22', 'June 29', 'November 25', 'January 31', '1593 December 10', '1595 October 28', '1592 January 23', '1590 March 7', 'October 28', 'October 28', '1589 May 6', '1593 August 25', '1593 July 21', '1585 January 31', 'December 10', 'January 30', 'January 24', 'March 6', 'October 7', '1595 October 28', '1589 May 9', 'April 4', 'January 18', 'May 27', 'May 27', '9944 May 27', 'May 27', '1599 May 27', 'January 1', 'February 23', '1599 February 23', 'January 1', 'January 18', 'March 29', 'March 28']\n"
     ]
    }
   ],
   "source": [
    "print_entities(examples)\n"
   ]
  },
  {
   "cell_type": "markdown",
   "metadata": {},
   "source": [
    "## See Misaligned Tokens"
   ]
  },
  {
   "cell_type": "markdown",
   "metadata": {},
   "source": [
    "<fig size= 3>\n",
    "This step is very important, since if Pordigy faces with Misaligned tokens, we can see that before and try to adjust regex accordingly\n",
    "<fig size>"
   ]
  },
  {
   "cell_type": "code",
   "execution_count": 175,
   "metadata": {},
   "outputs": [],
   "source": [
    "def misaligned_token(examples):\n",
    "    counter=0\n",
    "    nlp = spacy.load(\"en_core_web_sm\")  \n",
    "    for example in examples:  \n",
    "        doc = nlp(example[\"text\"])\n",
    "        for span in example[\"spans\"]:\n",
    "            char_span = doc.char_span(span[\"start\"], span[\"end\"])\n",
    "            if char_span is None:  \n",
    "                counter+=1\n",
    "                print(\"{}- Misaligned tokens-->\".format(counter), example[\"text\"], span)"
   ]
  },
  {
   "cell_type": "code",
   "execution_count": 176,
   "metadata": {},
   "outputs": [
    {
     "name": "stdout",
     "output_type": "stream",
     "text": [
      "1- Misaligned tokens On 1600 January 13/2317 at 11h 50m, the right ascension of Mars was: 18 19 {'start': 3, 'end': 18, 'label': 'DATE'}\n",
      "2- Misaligned tokens But on January 24/February 3 at the same time it was at 6° 18’ Leo. {'start': 7, 'end': 17, 'label': 'DATE'}\n",
      "3- Misaligned tokens But on January 24/February 3 at the same time it was at 6° 18’ Leo. {'start': 18, 'end': 28, 'label': 'DATE'}\n",
      "4- Misaligned tokens This gives a diurnal motion of 23’ 44”, and a position on January 19/29 at 9h 40m of 8° 18’ 45” Leo, just as they put it. {'start': 58, 'end': 68, 'label': 'DATE'}\n",
      "5- Misaligned tokens On the night between Thursday and Friday, which was February 17/27, while Corvus was on the meridian, there was 9° 44’ between Mars and Spica, and between it and the Northern Pan,23 17° 41’; and between Mars and Arcturus, 29° 13’. {'start': 52, 'end': 63, 'label': 'DATE'}\n",
      "6- Misaligned tokens On February 19/29 we had moved the sight, and began to observe Mars rising. {'start': 3, 'end': 14, 'label': 'DATE'}\n",
      "7- Misaligned tokens On this day, Mars ought to have been at the node, and for the next 5 days—up to the morning of January 4—it should have been moving off southward. {'start': 95, 'end': 104, 'label': 'DATE'}\n",
      "8- Misaligned tokens X. On 1600 January 13/23 at 11h 40m, the time being adjusted to Uraniborg time, the planet was observed at 10° 38’ 46“ Leo ^21. {'start': 6, 'end': 21, 'label': 'DATE'}\n",
      "9- Misaligned tokens The opposition therefore followed 5 days 2h 22m after; that is, on January 19/29 at 2h 2m in the morning, before dawn. {'start': 67, 'end': 77, 'label': 'DATE'}\n",
      "10- Misaligned tokens Finally, in 1604, when I had published my previously written Ephemerides, in which on the night between March 29 and 30/April 8 and 9 the planet was placed on a line from Arcturus to Spica, that very thing appeared. {'start': 120, 'end': 127, 'label': 'DATE'}\n",
      "11- Misaligned tokens On 1600 March 5/15 about midnight, Mars was observed at 29° 12½' Cancer with latitude 3° 23' north. {'start': 3, 'end': 15, 'label': 'DATE'}\n",
      "12- Misaligned tokens This supposition also agrees with my observations of 1604 February 29/ March 10, for on the night following that day with my instruments I found Mars culminating at 26° 18⅘‘ Libra. {'start': 53, 'end': 69, 'label': 'DATE'}\n",
      "13- Misaligned tokens [V] On 1600 March 5/15 at 8½h pm Mars was at 29° 12½’ Cancer, latitude 3° 23' N. And on March 6/16 at 8½h at 29° 18' Cancer, lat. {'start': 7, 'end': 19, 'label': 'DATE'}\n",
      "14- Misaligned tokens [V] On 1600 March 5/15 at 8½h pm Mars was at 29° 12½’ Cancer, latitude 3° 23' N. And on March 6/16 at 8½h at 29° 18' Cancer, lat. {'start': 88, 'end': 95, 'label': 'DATE'}\n",
      "15- Misaligned tokens For the sake of consensus, we shall also add an observation of October 1597. {'start': 63, 'end': 73, 'label': 'DATE'}\n",
      "16- Misaligned tokens Thus Mars was observed last at this place in  November 1580 ^9. {'start': 46, 'end': 57, 'label': 'DATE'}\n",
      "17- Misaligned tokens But on  159944 May 27 at 6h Mars's mean motion was 0s 0° 47' 30\" from the equinoctial, while the distance of Cor Leonis from that point, as demonstrated by Brahe, was 4s 24° 15' 45\". {'start': 10, 'end': 21, 'label': 'DATE'}\n"
     ]
    }
   ],
   "source": [
    "misaligned_token(examples)"
   ]
  },
  {
   "cell_type": "markdown",
   "metadata": {},
   "source": [
    "# Edge Cases\n"
   ]
  },
  {
   "cell_type": "markdown",
   "metadata": {},
   "source": [
    "As it is clear from above , After using regular expression we faced with some specific format like these words:\n",
    "- January 24/February 3\n",
    "- 1600 January 13/2317\n",
    "- February 17/27\n",
    "- February 19/29\n",
    "- August 29th\n",
    "- 1600 January 13/23\n",
    "- 30/April 8\n",
    "- 1600 March 5/15\n",
    "- February 29/ March 10\n",
    "- November 1580 ^9\n",
    "- 159944 May 27\n",
    "\n",
    "We consider these words as edge cases which means tokens are not consistant with the tokens assigned by the model’s tokenizer.  "
   ]
  },
  {
   "cell_type": "markdown",
   "metadata": {},
   "source": [
    "## Solution"
   ]
  },
  {
   "cell_type": "markdown",
   "metadata": {},
   "source": [
    "We can modify our annotation rules based on the above examples"
   ]
  },
  {
   "cell_type": "code",
   "execution_count": 180,
   "metadata": {},
   "outputs": [],
   "source": [
    "label = \"DATE\"  \n",
    "texts = texts  \n",
    "regex_patterns = [\n",
    "                re.compile(r\"[A-Z][a-z.]+\\s?\\d{1,2}\\s?\\/\\s?[A-Z][a-z.]+\\s\\d{1,2}\"    # Date in format  Month dd/ Month dd\n",
    "                            \"|[A-Z][a-z.]+ \\d{1,2}\\/\\d{2}\"\n",
    "                            \"|\\d{4} [A-Z][a-z.]+ \\d{1,2}\\/\\d{2,4}\"                   # Date in format  yyyy Month dd/dddd    \n",
    "                            \"|[A-Z][a-z.]+ \\d{2}\\/\\d{2}\"                             # Date in format   Month dd/dd                \n",
    "                            \"|\\d{4} [A-Z][a-z.]+ \\d{1,2}\"                            # Date in format  yyyy Month dd\n",
    "                            \"|\\d{1,2}? [A-Z][a-z.]+\\d{4}\"                             # Date in format  dd Month yyyy\n",
    "                            \"|Jan(uary)? \\d{1,2}|Feb(ruary)? \\d{1,2}|March \\d{1,2}\"\n",
    "                            \"|Apr(il)? \\d{1,2}|May \\d{1,2}|Jun(e)? \\d{1,2}\"          # Date in format Month dd\n",
    "                            \"|Jul(y)? \\d{1,2|Aug(ust)? \\d{1,2|Sep(tember)? \\d{1,2}\"\n",
    "                            \"|Oct(ober)? \\d{1,2}|Nov(ember)? \\d{1,2}|Dec(ember)? \\d{1,2}\")\n",
    "]\n",
    "examples = []\n",
    "for text in texts:\n",
    "    for expression in regex_patterns:\n",
    "        spans = []\n",
    "    for match in re.finditer(expression, text):\n",
    "        start, end = match.span()\n",
    "        span = {\"start\": start, \"end\": end, \"label\": label}\n",
    "        spans.append(span)\n",
    "    task = {\"text\": text, \"spans\": spans}\n",
    "    examples.append(task)     \n",
    "#write_jsonl(\"NER_DATE_01.jsonl\", examples)"
   ]
  },
  {
   "cell_type": "code",
   "execution_count": 181,
   "metadata": {},
   "outputs": [
    {
     "name": "stdout",
     "output_type": "stream",
     "text": [
      "1- Misaligned tokens On this day, Mars ought to have been at the node, and for the next 5 days—up to the morning of January 4—it should have been moving off southward. {'start': 95, 'end': 104, 'label': 'DATE'}\n",
      "2- Misaligned tokens Finally, in 1604, when I had published my previously written Ephemerides, in which on the night between March 29 and 30/April 8 and 9 the planet was placed on a line from Arcturus to Spica, that very thing appeared. {'start': 120, 'end': 127, 'label': 'DATE'}\n",
      "3- Misaligned tokens This supposition also agrees with my observations of 1604 February 29/ March 10, for on the night following that day with my instruments I found Mars culminating at 26° 18⅘‘ Libra. {'start': 53, 'end': 69, 'label': 'DATE'}\n",
      "4- Misaligned tokens For the sake of consensus, we shall also add an observation of October 1597. {'start': 63, 'end': 73, 'label': 'DATE'}\n",
      "5- Misaligned tokens Thus Mars was observed last at this place in  November 1580 ^9. {'start': 46, 'end': 57, 'label': 'DATE'}\n",
      "6- Misaligned tokens But on  159944 May 27 at 6h Mars's mean motion was 0s 0° 47' 30\" from the equinoctial, while the distance of Cor Leonis from that point, as demonstrated by Brahe, was 4s 24° 15' 45\". {'start': 10, 'end': 21, 'label': 'DATE'}\n"
     ]
    }
   ],
   "source": [
    "misaligned_token(examples)"
   ]
  },
  {
   "cell_type": "markdown",
   "metadata": {},
   "source": [
    "## Refined Edge Cases"
   ]
  },
  {
   "cell_type": "markdown",
   "metadata": {},
   "source": [
    "- January 4—it\n",
    "- 30/April 8\n",
    "- 1604 February 29/ March 10\n",
    "- 1600 March 5/15\n",
    "- October 1597\n",
    "- November 1580 ^9\n",
    "- 159944 May 27"
   ]
  },
  {
   "cell_type": "markdown",
   "metadata": {},
   "source": [
    "### One Possible Solution "
   ]
  },
  {
   "cell_type": "code",
   "execution_count": 189,
   "metadata": {},
   "outputs": [],
   "source": [
    "label = \"DATE\"  \n",
    "texts = texts  \n",
    "regex_patterns = [\n",
    "                re.compile(r\"January 4—it|30/April 8|1604 February 29/ March 10|October 1597|159944 May 27|November 1580 \\^9\"\n",
    "                            \"|[A-Z][a-z.]+\\s?\\d{1,2}\\s?\\/\\s?[A-Z][a-z.]+\\s\\d{1,2}\"    # Date in format  Month dd/ Month dd\n",
    "                            \"|[A-Z][a-z.]+ \\d{1,2}\\/\\d{2}\"\n",
    "                            \"|\\d{4} [A-Z][a-z.]+ \\d{1,2}\\/\\d{2,4}\"                   # Date in format  yyyy Month dd/dddd    \n",
    "                            \"|[A-Z][a-z.]+ \\d{2}\\/\\d{2}\"                             # Date in format   Month dd/dd                \n",
    "                            \"|\\d{4} [A-Z][a-z.]+ \\d{1,2}\"                            # Date in format  yyyy Month dd\n",
    "                            \"|\\d{1,2}? [A-Z][a-z.]+\\d{4}\"                             # Date in format  dd Month yyyy\n",
    "                            \"|Jan(uary)? \\d{1,2}|Feb(ruary)? \\d{1,2}|March \\d{1,2}\"\n",
    "                            \"|Apr(il)? \\d{1,2}|May \\d{1,2}|Jun(e)? \\d{1,2}\"          # Date in format Month dd\n",
    "                            \"|Jul(y)? \\d{1,2|Aug(ust)? \\d{1,2|Sep(tember)? \\d{1,2}\"\n",
    "                            \"|Oct(ober)? \\d{1,2}|Nov(ember)? \\d{1,2}|Dec(ember)? \\d{1,2}\")\n",
    "]\n",
    "examples = []\n",
    "for text in texts:\n",
    "    for expression in regex_patterns:\n",
    "        spans = []\n",
    "    for match in re.finditer(expression, text):\n",
    "        start, end = match.span()\n",
    "        span = {\"start\": start, \"end\": end, \"label\": label}\n",
    "        spans.append(span)\n",
    "    task = {\"text\": text, \"spans\": spans}\n",
    "    examples.append(task)     \n",
    "write_jsonl(\"NER_DATE_V02.jsonl\", examples)"
   ]
  },
  {
   "cell_type": "code",
   "execution_count": 183,
   "metadata": {},
   "outputs": [],
   "source": [
    "misaligned_token(examples)"
   ]
  }
 ],
 "metadata": {
  "kernelspec": {
   "display_name": "Python 3",
   "language": "python",
   "name": "python3"
  },
  "language_info": {
   "codemirror_mode": {
    "name": "ipython",
    "version": 3
   },
   "file_extension": ".py",
   "mimetype": "text/x-python",
   "name": "python",
   "nbconvert_exporter": "python",
   "pygments_lexer": "ipython3",
   "version": "3.7.4"
  }
 },
 "nbformat": 4,
 "nbformat_minor": 4
}
