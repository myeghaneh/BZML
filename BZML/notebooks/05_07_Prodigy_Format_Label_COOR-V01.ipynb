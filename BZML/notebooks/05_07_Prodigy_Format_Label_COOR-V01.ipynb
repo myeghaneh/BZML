{
 "cells": [
  {
   "cell_type": "markdown",
   "metadata": {},
   "source": [
    " # Regex and Prodigy\n",
    " \n",
    "#Coor\n",
    " "
   ]
  },
  {
   "cell_type": "markdown",
   "metadata": {},
   "source": [
    "<font size= \"3\">\n",
    "Annotation of entities for sentences based on prodigy's format for different labels for further usage in Machine learning. Prodigy is an annotation tool based on spaCy. Please see here:\n",
    "    </p>\n",
    "  <a href=\"https://prodi.gy/ \"> Prodigy </a> \n",
    "<font 3>"
   ]
  },
  {
   "cell_type": "markdown",
   "metadata": {},
   "source": [
    "## Imports"
   ]
  },
  {
   "cell_type": "code",
   "execution_count": 62,
   "metadata": {},
   "outputs": [],
   "source": [
    "import pandas as pd\n",
    "import numpy as np\n",
    "import re\n",
    "import pandas as pd\n",
    "import matplotlib.pyplot as plt\n",
    "import scipy as sp\n",
    "import spacy \n",
    "import re\n",
    "from prodigy.util import write_jsonl\n",
    "\n"
   ]
  },
  {
   "cell_type": "code",
   "execution_count": 63,
   "metadata": {},
   "outputs": [
    {
     "data": {
      "text/plain": [
       "'C:\\\\Projects_28_06\\\\notebooks\\\\yeghaneh\\\\BZML\\\\notebooks'"
      ]
     },
     "execution_count": 63,
     "metadata": {},
     "output_type": "execute_result"
    }
   ],
   "source": [
    "pwd"
   ]
  },
  {
   "cell_type": "markdown",
   "metadata": {},
   "source": [
    "## Read the Data"
   ]
  },
  {
   "cell_type": "code",
   "execution_count": 64,
   "metadata": {},
   "outputs": [],
   "source": [
    "importVersion = '013'"
   ]
  },
  {
   "cell_type": "code",
   "execution_count": 65,
   "metadata": {},
   "outputs": [],
   "source": [
    "path= '../data/01_df_v{0}.pickle'.format(importVersion)# Put the path of the data in your local machine here, consider the letter \"r\" before the path\n",
    "dfAstroNova = pd.read_pickle(path)"
   ]
  },
  {
   "cell_type": "markdown",
   "metadata": {},
   "source": [
    "# Sort based on the Chapter "
   ]
  },
  {
   "cell_type": "code",
   "execution_count": 66,
   "metadata": {},
   "outputs": [],
   "source": [
    "# Sort the data based on the chapters of the book \n",
    "dfAstroNova['chapter'] = dfAstroNova.chapter.replace(\"appendix b\",np.nan).astype(float)  \n",
    "dfAstroNova = dfAstroNova.rename_axis('MyIdx').sort_values(by = ['chapter', 'MyIdx'], ascending = [True, True])\n",
    "dfAstroNova.chapter.fillna('appendix b', inplace=True)"
   ]
  },
  {
   "cell_type": "code",
   "execution_count": 67,
   "metadata": {},
   "outputs": [],
   "source": [
    "dfAstroNova.reset_index(inplace=True)\n",
    "dfAstroNova=dfAstroNova.drop(\"MyIdx\",axis=1,inplace=False)\n",
    "dfAstroNova=dfAstroNova.drop(\"html\",axis=1)"
   ]
  },
  {
   "cell_type": "code",
   "execution_count": 68,
   "metadata": {},
   "outputs": [
    {
     "data": {
      "text/plain": [
       "pandas.core.frame.DataFrame"
      ]
     },
     "execution_count": 68,
     "metadata": {},
     "output_type": "execute_result"
    }
   ],
   "source": [
    "type(dfAstroNova)"
   ]
  },
  {
   "cell_type": "code",
   "execution_count": 69,
   "metadata": {},
   "outputs": [
    {
     "data": {
      "text/html": [
       "<div>\n",
       "<style scoped>\n",
       "    .dataframe tbody tr th:only-of-type {\n",
       "        vertical-align: middle;\n",
       "    }\n",
       "\n",
       "    .dataframe tbody tr th {\n",
       "        vertical-align: top;\n",
       "    }\n",
       "\n",
       "    .dataframe thead th {\n",
       "        text-align: right;\n",
       "    }\n",
       "</style>\n",
       "<table border=\"1\" class=\"dataframe\">\n",
       "  <thead>\n",
       "    <tr style=\"text-align: right;\">\n",
       "      <th></th>\n",
       "      <th>text</th>\n",
       "      <th>links</th>\n",
       "      <th>italic</th>\n",
       "      <th>chapter</th>\n",
       "      <th>graphic</th>\n",
       "      <th>table</th>\n",
       "      <th>marginal</th>\n",
       "      <th>sentences</th>\n",
       "      <th>tagged</th>\n",
       "    </tr>\n",
       "  </thead>\n",
       "  <tbody>\n",
       "    <tr>\n",
       "      <th>0</th>\n",
       "      <td>Chapter 1</td>\n",
       "      <td>[]</td>\n",
       "      <td>[]</td>\n",
       "      <td>1</td>\n",
       "      <td>[]</td>\n",
       "      <td>[]</td>\n",
       "      <td>[]</td>\n",
       "      <td>[Chapter 1]</td>\n",
       "      <td>[[(Chapter, None), (1, NUM)]]</td>\n",
       "    </tr>\n",
       "    <tr>\n",
       "      <th>1</th>\n",
       "      <td>On the distinction between the first motion an...</td>\n",
       "      <td>[]</td>\n",
       "      <td>[]</td>\n",
       "      <td>1</td>\n",
       "      <td>[]</td>\n",
       "      <td>[]</td>\n",
       "      <td>[]</td>\n",
       "      <td>[On the distinction between the first motion a...</td>\n",
       "      <td>[[(On, None), (the, None), (distinction, None)...</td>\n",
       "    </tr>\n",
       "    <tr>\n",
       "      <th>2</th>\n",
       "      <td>The testimony of the ages confirms that the mo...</td>\n",
       "      <td>[]</td>\n",
       "      <td>[]</td>\n",
       "      <td>1</td>\n",
       "      <td>[]</td>\n",
       "      <td>[]</td>\n",
       "      <td>[ Terms: 1. The first motion is that of the wh...</td>\n",
       "      <td>[The testimony of the ages confirms that the m...</td>\n",
       "      <td>[[(The, None), (testimony, None), (of, None), ...</td>\n",
       "    </tr>\n",
       "    <tr>\n",
       "      <th>3</th>\n",
       "      <td>It is just this from which astronomy arose amo...</td>\n",
       "      <td>[]</td>\n",
       "      <td>[]</td>\n",
       "      <td>1</td>\n",
       "      <td>[ ch 1 gr 1]</td>\n",
       "      <td>[]</td>\n",
       "      <td>[]</td>\n",
       "      <td>[It is just this from which astronomy arose am...</td>\n",
       "      <td>[[(It, None), (is, None), (just, None), (this,...</td>\n",
       "    </tr>\n",
       "    <tr>\n",
       "      <th>4</th>\n",
       "      <td>Before the distinction between the first motio...</td>\n",
       "      <td>[]</td>\n",
       "      <td>[(such]</td>\n",
       "      <td>1</td>\n",
       "      <td>[]</td>\n",
       "      <td>[]</td>\n",
       "      <td>[ 2]</td>\n",
       "      <td>[Before the distinction between the first moti...</td>\n",
       "      <td>[[(Before, None), (the, None), (distinction, N...</td>\n",
       "    </tr>\n",
       "  </tbody>\n",
       "</table>\n",
       "</div>"
      ],
      "text/plain": [
       "                                                text links   italic chapter  \\\n",
       "0                                          Chapter 1    []       []       1   \n",
       "1  On the distinction between the first motion an...    []       []       1   \n",
       "2  The testimony of the ages confirms that the mo...    []       []       1   \n",
       "3  It is just this from which astronomy arose amo...    []       []       1   \n",
       "4  Before the distinction between the first motio...    []  [(such]       1   \n",
       "\n",
       "        graphic table                                           marginal  \\\n",
       "0            []    []                                                 []   \n",
       "1            []    []                                                 []   \n",
       "2            []    []  [ Terms: 1. The first motion is that of the wh...   \n",
       "3  [ ch 1 gr 1]    []                                                 []   \n",
       "4            []    []                                               [ 2]   \n",
       "\n",
       "                                           sentences  \\\n",
       "0                                        [Chapter 1]   \n",
       "1  [On the distinction between the first motion a...   \n",
       "2  [The testimony of the ages confirms that the m...   \n",
       "3  [It is just this from which astronomy arose am...   \n",
       "4  [Before the distinction between the first moti...   \n",
       "\n",
       "                                              tagged  \n",
       "0                      [[(Chapter, None), (1, NUM)]]  \n",
       "1  [[(On, None), (the, None), (distinction, None)...  \n",
       "2  [[(The, None), (testimony, None), (of, None), ...  \n",
       "3  [[(It, None), (is, None), (just, None), (this,...  \n",
       "4  [[(Before, None), (the, None), (distinction, N...  "
      ]
     },
     "execution_count": 69,
     "metadata": {},
     "output_type": "execute_result"
    }
   ],
   "source": [
    "dfAstroNova.head(5)"
   ]
  },
  {
   "cell_type": "code",
   "execution_count": 70,
   "metadata": {},
   "outputs": [
    {
     "data": {
      "text/plain": [
       "1605"
      ]
     },
     "execution_count": 70,
     "metadata": {},
     "output_type": "execute_result"
    }
   ],
   "source": [
    "len(dfAstroNova)"
   ]
  },
  {
   "cell_type": "markdown",
   "metadata": {},
   "source": [
    "### Read the Sentences"
   ]
  },
  {
   "cell_type": "code",
   "execution_count": 71,
   "metadata": {},
   "outputs": [],
   "source": [
    "df=dfAstroNova.sentences"
   ]
  },
  {
   "cell_type": "code",
   "execution_count": 72,
   "metadata": {},
   "outputs": [],
   "source": [
    "sents=[]\n",
    "for para in dfAstroNova.sentences:\n",
    "    sents +=para"
   ]
  },
  {
   "cell_type": "code",
   "execution_count": 73,
   "metadata": {},
   "outputs": [
    {
     "data": {
      "text/plain": [
       "6699"
      ]
     },
     "execution_count": 73,
     "metadata": {},
     "output_type": "execute_result"
    }
   ],
   "source": [
    "len(sents)"
   ]
  },
  {
   "cell_type": "markdown",
   "metadata": {},
   "source": [
    "## Annotation Based on Consistant format with Prodigy "
   ]
  },
  {
   "cell_type": "markdown",
   "metadata": {},
   "source": [
    "<fig size= 3>\n",
    "Prodigy accept a specific format; a JSONL format (newline-delimited JSON). Entities and other highlighted spans of text can be defined in the \"spans\" property. A example could look like this dictionary:\n",
    "</p>    \n",
    "text': 'On 1595 October 30 at 8h 20m, they found Mars at 17° 48’ Taurus, with a diurnal motion of 22’ 54” ^15.',\n",
    "  'spans': [{'start': 22, 'end': 29, 'label': 'TIME'}]}\n",
    "</p>\n",
    "which start and end's numbers refer to the position of entitiy  in the sentence. (here PARA)\n",
    "\n",
    "    \n",
    "<fig size>"
   ]
  },
  {
   "cell_type": "code",
   "execution_count": 74,
   "metadata": {},
   "outputs": [],
   "source": [
    "def print_sents_entities(examples):\n",
    "    for example in examples:\n",
    "        if example[\"spans\"]!=[]:\n",
    "            sent,entity=example['text'], example['text'][example[\"spans\"][0][\"start\"]:example[\"spans\"][0][\"end\"]]\n",
    "            print(sent,[entity])"
   ]
  },
  {
   "cell_type": "code",
   "execution_count": 75,
   "metadata": {},
   "outputs": [],
   "source": [
    "def print_entities(examples):\n",
    "    entities = []\n",
    "    for example in examples:\n",
    "        if example[\"spans\"] != []:\n",
    "            entities += [example['text'][example[\"spans\"][0][\"start\"]:example[\"spans\"][0][\"end\"]]]\n",
    "            len(entities)\n",
    "    print(\"There is {} entities with this detail\\n{}\".format(len(entities),entities))"
   ]
  },
  {
   "cell_type": "markdown",
   "metadata": {},
   "source": [
    "## See Misaligned Tokens"
   ]
  },
  {
   "cell_type": "markdown",
   "metadata": {},
   "source": [
    "<fig size= 3>\n",
    "This step is very important, since if Pordigy faces with Misaligned tokens, we can see that before and try to adjust regex accordingly\n",
    "<fig size>"
   ]
  },
  {
   "cell_type": "code",
   "execution_count": 76,
   "metadata": {},
   "outputs": [],
   "source": [
    "def misaligned_token(examples):\n",
    "    counter=0\n",
    "    nlp = spacy.load(\"en_core_web_sm\")  \n",
    "    for example in examples:  \n",
    "        doc = nlp(example[\"text\"])\n",
    "        for span in example[\"spans\"]:\n",
    "            char_span = doc.char_span(span[\"start\"], span[\"end\"])\n",
    "            if char_span is None:  \n",
    "                counter+=1\n",
    "                print(\"{}- Misaligned tokens-->\".format(counter), example[\"text\"], span)"
   ]
  },
  {
   "cell_type": "markdown",
   "metadata": {},
   "source": [
    "# Edge Cases"
   ]
  },
  {
   "cell_type": "markdown",
   "metadata": {},
   "source": [
    "As it is clear from above , After using regular expression we faced with some specific format like these words:\n",
    "- 12° 38’ Pisces12\n",
    "- 0° 7’ Virgo,7\n",
    "- 8° 37’ Gemini,3\n",
    "- 16° 47’ Cancer,6\n",
    "- 12° 38’ Pisces,18\n",
    "- 16° 43' Taurus,2\n",
    "- 29° Sagittarius,4\n",
    "- 11° 52',2\n",
    "- 1° 37',32\n",
    "- 11° 52',2\n",
    "- 16° 43' Taurus,2\n",
    "- 16° 43' Taurus10\n",
    "- 0° 3' Leo26\n",
    "- 11° 4’ Sagittarius,37\n",
    "- 3° 5' Pisces,41\n",
    "- 8° 36’ 50” Gemini2\n",
    "- 28° 1’ 0” Libra,27\n",
    "- 26° 26’ 17“ Virgo,8\n",
    "- 3° 58’ 20“ Scorpio,13\n",
    "- 27° 14’ 42“ Sagittarius,16\n",
    "- 17° 47’ 15“ Taurus,19\n",
    "- 37° 19’ 50“,24\n",
    "- 1° 7' 5\"-\n",
    "- 26° 13' 39\",2\n",
    "- 7° 6' 23\",11\n",
    "- 6° 52' 20\",4\n",
    "- 3° 45' 45\",4\n",
    "- 7° 33' 20\",8\n",
    "\n",
    "We consider these words as edge cases which means tokens are not consistant with the tokens assigned by the model’s tokenizer.  "
   ]
  },
  {
   "cell_type": "markdown",
   "metadata": {},
   "source": [
    "## Solution"
   ]
  },
  {
   "cell_type": "markdown",
   "metadata": {},
   "source": [
    "We can modify our annotation rules based on the above examples"
   ]
  },
  {
   "cell_type": "markdown",
   "metadata": {},
   "source": [
    "# Refined Edge Cases"
   ]
  },
  {
   "cell_type": "markdown",
   "metadata": {},
   "source": [
    "- 8° 36’ 50” Gemini2\n",
    "\n"
   ]
  },
  {
   "cell_type": "markdown",
   "metadata": {},
   "source": [
    "### One Possible Solution "
   ]
  },
  {
   "cell_type": "code",
   "execution_count": 77,
   "metadata": {},
   "outputs": [],
   "source": [
    "label = \"COOR\"   \n",
    "texts = sents  \n",
    "\n",
    "regex_patterns = [\n",
    "                  re.compile(r\"8° 36’ 50” Gemini2|87° 16\\' 30\\\"8|16° 43\\' Taurus10|0° 3\\' Leo26|11° 52\\',2|12° 38’ Pisces12\"\n",
    "                              \"|\\d{1,3}\\s?°\\s?\\d{1,2}\\s?[\\'|’]\\s?\\d{1,2}\\s?[\\\"|”|“]\\s?[A-Z][a-z.]+(,\\d{1,2})?\"\n",
    "                              \"|\\d{1,3}\\s?[\\'|’|°]\\s?\\d{1,2}\\s?[\\'|’|\\\"|”|“]\\s?\\s?[A-Z][a-z.]+(,\\d{1,2})?\"\n",
    "                              \"|\\d{1,3}\\s?°\\s?\\d{1,2}\\s?[\\'|’]\\s?\\d{1,2}\\s?[\\\"|”|“]-?(,\\d{1,2})?\"\n",
    "                              \"|\\d{1,3}\\s?[\\'|’|°]\\s?\\d{1,2}\\s?[\\'|’|\\\"|”|“](,\\d{2})?\"\n",
    "                              \"|\\d{1,3}\\s?°\\s?[A-Z][a-z.]+(,\\d{1,2})?\")           \n",
    "]     \n",
    "\n",
    "\n",
    "regex_patterns = [\n",
    "                  re.compile(r\"28° 2½’,4|4° 32⅙’22|4° 32⅙’22|4° 2½’—supposing|3° 59½’,so|22° 21’ 31“Aquarius|8° 36’ 50” Gemini2|87° 16\\' 30\\\"8|16° 43\\' Taurus10|0° 3\\' Leo26|11° 52\\',2|12° 38’ Pisces12\"\n",
    "                              \"|\\d{1,3}\\s?[\\'|’|°]\\s?\\d{1,2}\\s?[\\u00BC-\\u00BE\\u2150-\\u215E]?[\\'|’|\\\"|”|“]\\s?([A-Z][a-z.]+|southern|south|north)(,\\d{1,2})?\"\n",
    "                              \"|\\d{1,3}\\s?°\\s?\\d{1,2}\\s?[\\'|’]\\s?\\d{1,2}\\s?[\\\"|”|“]\\s?([A-Z][a-z.]+|southern|south|north)(,\\d{1,2})?\"\n",
    "                              \"|\\d{1,3}\\s?°\\s?\\d{1,2}\\s?[\\'|’]\\s?\\d{1,2}\\s?[\\\"|”|“]-?(,\\d{1,2})?\"\n",
    "                              \"|\\d{1,3}\\s?[\\'|’|°]\\s?\\d{1,2}\\s?[\\u00BC-\\u00BE\\u2150-\\u215E]?[\\'|’|\\\"|”|“](,\\d{2})?\"\n",
    "                              \"|\\d{1,3}\\s?[\\u00BC-\\u00BE\\u2150-\\u215E]?°\\s?([A-Z][a-z.]+|southern|south|north)(,\\d{1,2})?\")\n",
    "]\n",
    " \n",
    "#(5° 20\\' 2\\\"  Libra,|21° 44\\' 56\\\"  Sagittarius,|(?<!\\S)\\d{1,2}\\s?°\\s\\d{1,2}\\s?[\\'|’]\\s?\\d{1,2}\\s?[\\\"|”]\\s[A-Z][a-z]+(?!\\S?\\S)|(?<!\\S)\\d{1,2}\\s?°\\s\\d{1,2}\\s?[\\'|’]\\s?\\d{1,2}\\s?[\\\"|”].?(?!\\S?\\S)|(?<!\\S)\\d{1,2}\\s?°\\s?\\d{1,2}\\s?[\\'|’]\\s?[A-Z][a-z]+(?!\\S?\\S))[,:/.]?\n",
    "examples = []\n",
    "for text in texts:\n",
    "    for expression in regex_patterns:\n",
    "        spans = []\n",
    "    for match in re.finditer(expression, text):\n",
    "        start, end = match.span()\n",
    "        span = {\"start\": start, \"end\": end, \"label\": label}\n",
    "        spans.append(span)\n",
    "    task = {\"text\": text, \"spans\": spans}\n",
    "    examples.append(task)              \n",
    "\n",
    "write_jsonl(\"NER_COOR_V04.jsonl\", examples)\n",
    "\n"
   ]
  },
  {
   "cell_type": "code",
   "execution_count": 78,
   "metadata": {},
   "outputs": [
    {
     "name": "stdout",
     "output_type": "stream",
     "text": [
      "There is 1096 entities with this detail\n",
      "['3° 4\\' 52\"', '41° 55\\' 8\"', '16° 33\\' 30\"', '7° 28\\' 56\"', '37° 32\\' 37\"', '1\\' 33\"', '4° 20\\' 8\"', '85° 39\\' 52\"', '11° 25\\' 48\"', '11° 23\\' 53\"', '1’ 55”', '47° 59¼’', '5° 27’ 47”', '23° 32\\' 16\" Leo', '5° 27’ 47”', '5° 27’ 47”', '78° 51’ 54”', '4’ 24”', '4’ 24”', '47° 59’ 16”', '44° 59’ 10”', '44° 59’ 10”', '53° 26’ 17”', '44° 59’ 10”', '7° 30’ 10”', '3° 0’ 6”', '8½° Cancer', '16° Cancer', '1° 3’ 32” But', '2° 3’', '9° Leo.', '23° 45’ Leo.', '5° 2’', '28° 2½’,4', '23° 20’ Leo', '17° Taurus', '3° Cancer', '17° Cancer', '27° Sagittarius.', '26° 45’ 24” Gemini.', '26° 24’ 43” Sagittarius.', '10’ 20”', '26° 24’ 13” Sagittarius', '18° Taurus', '13° Pisces.', '18° Taurus', '17° Taurus', '4° 33’', '1° 50’', '8° 36’ 50” Gemini2', '8° 20’ Gemini', '1° 55’', '1° 52’', '6° 41’ 50” Gemini', '1’ 4”', '6° 46’ 10” Gemini.', '16° 47’ Cancer', '16° 46’ 16” Cancer', '21° 18’ 11” Leo', '24’ 15”', '7’ 41”', '21° 10’ 30” Leo', '25° 10’ 20” Virgo.', '1’ 48”', '25° 8’ 32” Virgo', '3° 58\\' 21\" Scorpio', '1’ 22”', '3° 58’ 10”', '27° 15’ Sagittarius', '1° 12’ 47”', '39’ 29”', '26° 35’ 31” Sagittarius.', '26° 32’ Sagittarius.', '12° 38’ Pisces12', '5’ 48”', '12° 43’ 48” Pisces.', '12° 43’ 45”', '17° 48’ Taurus', '11’ 7”', '17° 56’ 15” Taurus', '3° 30’ Cancer', '1° 15’', '2° 30½’ Cancer.', '2° 28’', '10° 38’ 46” Leo', '6° 18’ Leo.', '23’ 44”', '2° 25’', '1° 6’', '44° 41’', '5° 31’ south', '17° 53⅓’ Cancer,6', '36° 43’', '29° 38½’ But', '23° 29’', '43° 58’', '23° 27’', '23° 12½’', '67° 21’', '23° 29’', '23° 16’', '23° 9’', '7° 51’', '7° 59’', '44° 22’', '44° 27⅓’', '44° 32½’', '9° 44’', '32° 57’', '9° 48’ 45”', '32° 4’', '9° 2’', '39° 54’', '30° 52’', '28° 1’ 0” Libra,27', '7° 48’', '3° 0’ 30”', '68° 59’', '21° 1’', '68° 59’', '2° 48’ 31”', '21° 1’', '26° 56’ Libra.', '2° 47’ 48”', '2° 48’ 31”', '62° 37’', '39° 55’', '53° 5’', '30° 54’', '32° 6’', '29° 18⅓’', '26° 2’', '46° 22½’', '29° 13½’', '29° 19’', '29° 20’', '29° 9’', '29° 12’', '29° 9½’', '56° 44’', '29° 9½’', '29° 10¼’', '9° 26’', '32° 19½’', '18° 25’', '27° 39’', '39° 32½’', '205° 27’ 10”', '26° 18’ 48” Libra', '29° 9⅙’', '29° 13½’', '44° 45’', '44° 39½’', '29° 13½’', '29° 18’', '29° 15’', '29° 19’', '4’ 24”', '3’ 0”', '12½° Mars', '4’ 20”', '8’ 45”', '4’ 36”', '2’ 25”', '29° 9½’', '29° 13½’', '29° 12½’', '29° 9’', '29° 9’', '17° 56’ 5” Taurus', '4° 34½’', '9° 26’', '22° 35’ 10”', '24° 22’ 56” Aries', '11° 34’ 30” Aries', '0° 0’ 45” north', '0° 2’ 20” south', '0° 0’ 25” north', '0° 3’ 46”', '6’ 45”', '1° 7’ north', '27° 14½’ Scorpio', '5° 31’ Taurus', '11° 17’', '15° 44½’ Scorpio', '17° Leo', '17° Leo', '17° Leo', '17° Leo.', '72° 33’', '17° Aquarius', '17° Leo', '17° Aquarius', '17° Leo', '22° Virgo', '17° Aquarius', '25° 31’ Virgo', '9° 19⅖’ Libra', '1° 53½’', '1° 50’', '6° 9’', '13° 0’ 40” north', '0° 7’ Virgo,7', '8° Scorpio', '19⅖° Scorpio', '16° 17’', '1° 47’', '25° 12¼’', '20° 4’ 30” Virgo', '2° 16½’', '1° 47’', '1° 50’', '20° 58’', '1° 17’ Leo', '11° Taurus', '1° 50’', '15° 49’ Gemini', '30° Pisces', '1° 50’', '17° Aquarius', '16° 47⅓’ Sagittarius', '16° 45⅔’', '2° Libra', '1° 36’ south', '1° 36’', '17° Taurus', '1° 50⅔’', '23° 14’ Leo', '2° 12’', '21° 26’ Leo', '16° Taurus', '16° Leo.', '1° 49¾’', '1° 27⅓’ Aquarius', '2° 18⅔’,20', '2½° Scorpio', '1° 45’', '1° 50’', '17° Scorpio', '16° Taurus', '21° 26’ Leo', '21° 26’ Leo', '17° Taurus', '17° Leo', '17° Leo', '17° Leo', '21° 16’ Leo', '21° Leo', '4° 32⅙’', '2° 43’ 27“', '1° 48’ 43“', '6° 3’ south', '12½° Pisces.', '4° 21’ 10“', '1° 41’ 50“', '1° 42’', '1° 50’', '8° 37’ Gemini,3', '0° 45’ 36“ Sagittarius', '7° 51’ 24“', '51’ 24“', '6° 28’ Gemini', '16½° Taurus.', '6° 28’ Gemini.', '1° 50’', '6° 28’ Gemini', '6° 28’ 35“ Gemini', '1° 40’ north', '16° 47’ Cancer,6', '61’ 18“', '26’ 45“', '1° 25’ 18“', '16° 54’ 32“ Cancer', '4° 6’ north', '4° 6’', '21° 18’ 11“ Leo', '22° 21’ 31“Aquarius', '1° 3’ 20“', '61’ 16“', '1° 25’ 31“', '21° 36’ 10“ Leo.', '4° 32’ 10“ north', '4° 31’', '26° 26’ 17“ Virgo,8', '26° 26’ Virgo', '9° Sagittarius', '3° 42’ 22“ north', '23° 59’ 11“ Pisces.', '2° 26’ 49“', '59’ 35“', '2° 26’ 49“', '25° 43’ 53“ Virgo.', '25° 43’ Virgo.', '3° 38’ N.', '3° 58’ 20“ Scorpio,13', '24° Sagittarius.', '5’ 24“', '1° 9’ 45“ north', '2’ 38“', '4° Scorpio', '3° 57’ Scorpio.', '5° 36’ 20“ Taurus.', '1° 39’ 20“', '22’ 8“', '1° 39’ 20“', '4° 24’ 30“ Scorpio', '4° 24’ Scorpio', '27° 14’ 42“ Sagittarius,16', '24° 58’ 10“ Gemini.', '2° 16’ 10“', '57’ 8“', '18’ 12“', '1° 15’ 20“', '26° 41’ 48“ Sagittarius', '4° 1½’', '12° 38’ Pisces,18', '11° 15’ 24“ Pisces', '1° 22’ 36“', '11° 2’ 31“ Virgo.', '1° 35’ 30“', '58’ 20“', '1° 14’ 51“', '12° 16’ Pisces.', '6° 2’ south', '17° 47’ 15“ Taurus,19', '0° 5’ 10“ north', '16° 50’ 30“ Scorpio.', '56’ 45“', '1° 0’ 35“', '1° 23’ 29“', '40’ 47“', '17° 31’ 40“ Taurus.', '0° 8’ north', '3° 45½’ Cancer', '29° 4’ 53“ Sagittarius.', '4° 40’ 37“', '61’ 20“', '1° 25’ 0“', '2° 27⅓’ Cancer.', '2° 28’ Cancer.', '3° 33’ north', '3° 40¼’ Cancer', '3° 42’ Cancer', '10° 38’ 46“ Leo', '3° 26’ 30“ Aquarius.', '7° 12’ 16“', '1° 1’ 3“', '1° 24’ 47“', '8° 38’ Leo.', '4° 30’ 50“ N.', '52° 22’', '37° 22’ 20“', '52° 19½’', '56° 22’', '3° 43’ 30“', '52° 14’', '19° 23’', '13° 19’ 6“ Virgo', '50° 19’', '13° 19’ 30“ Virgo', '5° Scorpio', '2’ 41“', '4° 10⅔’ north', '4’ 13“', '2’ 36“', '10° 16’ 42“ Pisces.', '3° 1’ 18“', '1° 0’ 4“', '1° 24’ 9“', '12° 27’ 35“ Virgo.', '12° 27’ Virgo', '4° 10’', '4° 36’ 30“ Libra', '20° 18’', '16° 4’ Virgo', '1° 45’', '8° 17’', '12° 18’', '14° 19’ Virgo', '14° 21’ 18“ Virgo.', '4° 14’ north', '11¼° Virgo.', '9° 24’', '17° 26’', '11° 19’ 20“ Virgo', '4° 7’ 40“ north', '3° 0’', '1° 7’', '4° 12’', '4° 9’', '4° 10⅔’', '33° 4’', '29° 43½’', '31° 2½’ north', '54° 8½’', '54° 2’', '54° 6’', '2° 21½’', '163° 13’', '18° 56’ 24“ Aries', '145° 45’', '22½° Scorpio.', '3’ 28“', '2° 25’', '3’ 32“', '18° 21½’ Libra', '19° 20’ 8“ Aries.', '58’ 38“', '4° Scorpio', '1° 21’ 14“', '18° 37’ 50“ Libra.', '18° 37’ 10“ Libra.', '2° 25’', '2⅔° Cancer', '23° 18’', '12° 16’ Pisces', '9° 55’', '25° 43’ Virgo', '91° 0’', '25° 43’ Virgo', '3’ 37“', '26° 39’ 23“ Sagittarius', '5’ 30“', '12° 10’ 30“ Pisces', '7’ 18“', '17° 24’ 22“ Taurus', '28° 44’ 0“ Leo', '24’ 15“', '3’ 20“', '1’ 48“', '29’ 15“', '1’ 48“', '12° 18’ 44“', '30\\' 38\"', '1\\' 30\"', '32° 2\\' 6\"', '28° 49\\' 8\" Leo', '70° 22\\' 29\"', '7’ 20\"', '23\\' 18\"', '3\\' 55\",23', '4° 8\\' 51\"', '85° 51\\' 9\"', '10° 32\\' 38\"', '5½° Gemini', '25½° Cancer', '5½° Gemini', \"123° 27'\", '5½° Sagittarius', \"2° 30' Leo.\", \"24° 5' Leo.\", \"28° 49' Leo\", \"5° 11'\", '6\\' 29\"', '25\\' 30\"', '1\\'4\"', '25½° Cancer', \"16° 20' Leo\", \"3° 30'\", '5\\' 17\"', '25\\' 30\"', '20\\' 13\"', '21° Leo', '12° Pisces', '12° Virgo', \"1° 50'\", '4° 32\\' 10\"', '2° 42\\' 40\"', \"1° 50'\", \"1° 39'\", \"6° 3'\", \"4° 24'\", '21° Leo', '12° Pisces', '12° Virgo', '11° 3\\' 16\"', '11° 3\\' 16\"', '1° 1\\' 12\"', '11° 3\\' 16\"', '167° 55\\' 32\"', '82° 44\\' 20\"', '83° 57\\' 46\"', '12° 13\\' 37\" Pisces', \"12° 16' Pisces.\", '17° Cancer', '17° 4¾’ Cancer', \"29° 12½' Cancer\", '29° 14\\' 58\"', '0° 12\\' 13\"', \"29° 13' Leo\", '29° 12½’ Cancer', '17° 39½’ Pisces', '26° 16\\' 38\"', '25° 44\\' 30\"', '25° 44\\' 30\" Aquarius', '21° 55\\' 0\"', '17° 39\\' 30\" Pisces', \"1° 48'\", '29° 11\\' 3\"', \"5° 30'\", '28° 51\\' 22\"', '26° 12\\' 43\"', '26° 48\\' 35\"', '20° 50\\' 55\"', '6° 37\\' 5\"', '8° 35\\' 33\"', '81° 24\\' 27\"', '81° 42\\' 35\"', '81° 24\\' 27\"', '18\\' 8\"', '5½° Cancer', '23½° Leo', \"8° 15⅗'\", '42° 54\\' 23\"', \"21° 27'\", \"42° 54'\", \"22° 43'\", '9° 14\\' 52\"', '13° 28\\' 16\" Libra.', '4° 23\\' 30\"', '25° 36\\' 30\"', '18° Gemini', '0° 50\\' 45\" Virgo', \"1° 5' Virgo,7\", \"6° 48' Virgo\", \"6° 34' Virgo.\", '17° 37½’ Leo', \"6° 37' Virgo.\", '34° 32\\' 45\"', \"17° 30'\", '230° 23\\' 12\"', \"21° 34' Scorpio.\", \"36° 51'\", '38° 5½’', '128° 47\\' 19\"', '51° 12\\' 41\"', '25° 9\\' 20\"', '25° 9\\' 20\"', \"5° 30' Capricorn\", '26° 3\\' 21\"', '8° 25\\' 21\"', '8° 25\\' 21\"', '4° 38\\' 50\"', '23½° Leo', '18° 19\\' 56\"', '5½° Cancer', \"127° 5'\", \"24° 22' Aries\", \"25° 6' Aries\", '15° 53\\' 45\" Taurus.', '20° 47\\' 45\"', '32° 7\\' 14\"', '15° 55\\' 23\"', '11° 34½’ Aries', \"1° 25'\", '10° 9½’ Aries.', '35° 46\\' 23\"', '15° 56\\' 56\"', \"4° 45' Aries\", \"1° 8'\", '3° 37’ Aries', '42° 21’ 30\"', '15° 58\\' 30\"', '18° 52’ 15\" Taurus', '19° 15\\' 15\" Taurus', '3° 23’ 5\"', '42° 52\\' 47\"', '68° 12\\' 26\"', '46° 39\\' 10\"', '43° 6\\' 32\"', '68° 26\\' 44\"', '97° 50\\' 30\"', '5½° Cancer.', '5½° Capricorn', '24° 22\\' 56\" Aries', \"24° 20' Aries.\", '11° 32\\' 44\" Aries', '3° 6\\' 50\" Aries', '19° 39\\' 25\"', '2° 9\\' 4\"', '9° 23\\' 40\"', '2\\' 25\"', '3° 4\\' 27\" Aries.', '22\\' 11\"', '19° 41\\' 39\" Taurus.', '14° 19\\' 52\" Taurus.', '1\\' 36\"', '14° 18\\' 16\" Taurus', \"25° 53' Sagittarius.\", \"10° 17' Aquarius\", \"25° 57' Sagittarius.\", \"25° 57' Sagittarius\", \"19° 40' Taurus\", '23° 53\\' 0\"', '43° 22\\' 26\"', '93° 15\\' 8\"', '73° 24\\' 39\"', \"10° 36' Capricorn\", '19° 56\\' 4\"', '45° 26\\' 37\"', '43° 26\\' 18\"', '76° 37’ 30\"', '75° 8\\' 40\"', '5½° Capricorn.', \"9° 24' Aries.\", '14° 21\\' 7\" Taurus', '24° Leo', '21° 40\\' 9\"', '5° 20\\' 2\"', \"21° 13'\", \"68° 47'\", '42° 6\\' 57\"', '69° 43\\' 31\"', '0° 56\\' 31\"', \"10° 19' Capricorn\", '5½° Capricorn', '26° 17½’ Libra.', '5½° Cancer', '8° 19\\' 20\" Virgo', '1° 1\\' 53\"', '88° 58\\' 7\"', '88° 58\\' 7\"', '91° 1\\' 53\"', '91° 1’ 53\"', '88° 58’ 7\"', '1° 27\\' 31\"', '0° 43\\' 46\"', '43\\' 38\"', '1° 27\\' 24\"', '43\\' 46\"', '1° 1\\' 53\"', '1° 1\\' 53\"', '1° 1\\' 53\"', '45° 43\\' 46\"', '44\\' 19\"', '43\\' 46\"', '14° 21\\' 7\" Taurus', '5° 25\\' 20\" Libra', '1° 12\\' 40\"', '5° 24\\' 30\" Libra.', '8° 19\\' 20\" Virgo', '1° 42\\' 40\"', '114° 2\\' 12\"', '27° 5\\' 17\"', '20° 26\\' 13\"', '35° 10\\' 17\"', '14° 44\\' 4\"', '29° 28\\' 8\"', '78° 44\\' 1\"', '29° 28\\' 8\"', '75° 15\\' 56\"', '38° 15\\' 45\"', '5° 24\\' 21\" Libra', \"28° 53' Leo\", \"4° 16' North\", '2° 46⅗’', '1° 4\\' 36\" Libra', '2° 54\" N.', \"3° 6'\", \"31° 27'\", '3° 16¼’ North.', \"25° 31' Virgo\", \"45° 17'\", \"2° 5' south\", '9° 19⅖’ Libra', \"6° 14'\", '168° 56¼’', \"17° 16¾' Virgo\", \"17° 20' Virgo\", '29° 12½’ Cancer', \"3° 19¾'\", '68° 36\\' 0\"', '88° 28\\' 50\"', '33° 58\\' 33\"', '29° 19\\' 49\" Leo', \"1° 48'\", '20° 59¼’ Capricorn', \"18° 36' Capricorn\", \"17° 39½' Pisces\", '6° 6¼’ south,19', \"4° 16'\", \"1° 16'\", \"0° 53'\", \"14° 20' Capricorn.\", '3° 25½’', \"3° 46'\", \"16° 56' Pisces.\", '55\\' 20\"', \"1° 48'\", '29° 54\\' 53\" Aquarius', '29° 52\\' 55\"', '29° 20\\' 12\" Leo.', '29° 20\\' 12\" Leo', '33\\' 53\"', '26\\' 13\"', '26\\' 13\"', '11\\' 49\"', '5\\' 16\"', '33\\' 53\"', '20\\' 36\"', '11\\' 49\"', '45\\' 42\"', '45\\' 42\"', '5° 17\\' 34\"', '5° 18\\' 28\"', '10° 36\\' 2\"', '95° 18\\' 28\"', '3° 45\\' 12\"', '41° 28\\' 54\"', '48° 45\\' 12\"', '45\\' 12\"', \"5° 19'\", \"5° 19'\", '28° 41\\' 40\" Leo', '0° 53\\' 13\"', '95° 18\\' 28\"', '95° 18\\' 28\"', '5° 20\\' 18\"', '84° 42\\' 2\"', '2\\' 20\"', '1\\' 10\"', '48° 45\\' 12\"', '3° 45\\' 12\"', '48° 45\\' 12\"', '41° 14\\' 9\"', '41° 20\\' 33\"', '138° 45\\' 12\"', '48° 45\\' 55\"', '131° 7\\' 26\"', '92\\' 40\"', '46\\' 20\"', '45\\' 45\"', '45\\' 15\"', '179° 14\\' 15\"', '3\\' 50\"', '5° 15\\' 30\"', '358° 28\\' 30\"', '48° 42\\' 59\"', '48° 46\\' 51\"', '48° 42\\' 51\"', '41° 13\\' 9\"', '10° 29⅕’', '52° 39⅔’', \"37° 44'\", '53° 23\\' 56\"', \"48° 44'\", \"41° 22'\", '27° 7⅓’ Libra', '26° 0\\' 36\"', '26° 13\\' 39\",2', \"50° 34'\", \"50° 34'\", '50° 32\\' 18\"', \"18° 11' Libra\", '21° 50\\' 20\"', \"21° 41'\", '9\\' 20\"', \"8° 43' Sagittarius.\", '16° 47\\' 10\" Capricorn', \"306° 57'\", '6\\' 30\"', '3\\' 29\" N.', \"10° 17'\", '2\\' 30\"', '2\\' 30\"', '3\\' 29\" N.', '3\\' 36\"', '28° 41\\' 14\"', '15° 31\\' 3\" Scorpio.', '38° 0\\' 40\"', '23° 6\\' 11\"', '15° 40\\' 9\" Scorpio', '8\\' 3\"', '4\\' 48\"', '12\\' 37\"', '15° 43\\' 40\" Scorpio.', '15° 29\\' 34\" Scorpio', '87° 9\\' 24\"', '10° Gemini.', '11° 31\\' 27\" Taurus', '5° 39\\' 3\" Capricorn.', '2° 4\\' 22\"', '28° 58\\' 10\"', '87° 9\\' 24\"', '76° 25\\' 48\"', '12° 32\\' 22\" Gemini.', '12° 32\\' 22\" Gemini', '5° 39\\' 3\" Capricorn', \"16° 20' Taurus\", \"1° 50'\", '48\\' 32\"', '29° 10\\' 43\"', \"9° 43' Gemini\", '43\\' 52\"', \"15° 40' Scorpio\", '1° 36’ 24\"', \"1° 30½' North.\", \"9° 54' Cancer\", \"0° 13½' S.\", \"12° 18½' Cancer.\", \"12° 16' Cancer.\", \"1° 30½'\", \"12° 16'\", \"1° 30½'\", \"12° 16' Cancer.\", '16° 38\\' 8\" Scorpio', '29° 42\\' 10\"', \"2° 6'\", \"12° 13' Cancer\", '7° 31\\' 10\" Scorpio', '9° 46\\' 8\"', '28° 51\\' 8\"', '70° 55\\' 0\"', '0° 8\\' 43\" Scorpio', \"28° 11'\", \"7° 34½' Sagittarius\", '21° 39\\' 10\"', '8° 21\\' 47\"', '38° 43\\' 20\"', '1° 26\\' 30\"', '17° Scorpio', \"54° 12'\", '29° 35\\' 17\" Scorpio', '15° 10\\' 20\"', \"73° 34'\", '24° 59\\' 2\" Gemini.', '26° 35\\' 30\" Cancer', \"70° 55'\", '29° 31\\' 24\"', '15° 35\\' 0\"', '76° 17\\' 48\"', '14° 0\\' 3\" Sagittarius', '22° 8\\' 44\" Cancer', '23° 14\\' 15\" Leo,23', '26° 0\\' 30\" Leo', '2° 46\\' 25\"', \"2° 48'\", \"1° 28'\", '27° 27\\' 30\" Leo', '73° 27\\' 27\"', '12° 38\\' 44\",28', \"43° 48'\", '1\\' 30\"', '5° Scorpio', '26° Sagittarius', '16° Scorpio', \"11° 37'\", '15° 9\\' 5\" Aquarius', '9° 0\\' 25\"', '1\\' 30\"', \"5° 19'\", '4° 16\\' 51\" Capricorn', '26° 6\\' 24\" Virgo', '81° 49\\' 33\"', '1\\' 30\"', \"11° 37'\", '24° 3\\' 43\" Scorpio', \"1° 37',32\", '60° 47\\' 43\"', '1\\' 30\"', \"11° 37'\", '2° 8\\' 43\" Gemini', \"2° 24½' Capricorn\", '30° 15\\' 44\"', \"12° 10' Sagittarius\", '4° 11\\' 20\"', \"114° 41'\", \"113° 24'\", '21° 44\\' 56\"', '1° 11\\' 47\"', '2° 39\\' 15\" Scorpio', '2° 10\\' 52\" S.', '25° 41\\' 0\" Virgo', '7° 59\\' 52\" Leo', \"2° 30'\", '17\\' 22\"', '30\\' 55\"', '13\\' 33\"', '6\\' 46\"', '45° 35\\' 13\"', '34° 43\\' 47\"', '6\\' 46\"', '17° 25\\' 42\" Cancer', '56° 11\\' 46\"', '161° 45\\' 28\"', \"161° 45½'\", '29° Leo', '24° Leo', '5½° Cancer', '5½° Cancer', '22° 15’', \"16° 5' Cancer\", '0° 41\\' 0\" Cancer', '18° 48\\' 47\" Leo', '29° 0⅔’ Leo', '7° 14’ 34\"', \"11° 37'\", \"1° 43'\", '10° 9\\' 41\"', '8° 2\\' 51\"', \"4° 4'\", \"11° 52'\", '161° 45½’', '1° 31½’ The', \"5° 18'\", '29° Taurus', '44° 52\\' 34\"', \"57° 14'\", \"4° 44' Aries\", \"18° 35' Taurus\", '3\\' 20\" south', '19\\' 45\" north', '16° 8⅓’ Taurus,6', \"16° 42' Scorpio.\", \"16° 47' Scorpio\", \"12° 16' Pisces\", '6° 7\\' 30\"', '6° 5\\' 30\"', '5° 52\\' 15\"', '13\\' 15\"', '6° 2\\' 30\"', \"166° 36'\", '6° 2\\' 30\"', \"16° 43' Taurus,2\", \"64° 27'\", '1° 39\\' 22\"', \"17° 45¾' Pisces\", '20° 1½’ Aquarius', \"8° 26' Leo\", \"11° 35½'\", \"17° 45¾' Pisces.\", '5° 46¼’', \"20° 1½' Aquarius\", '1° 50\\' 2\" south', \"4° 31' north\", '4° 31\\' 10\"', '7° 6\\' 23\",11', '4° 31\\' 10\"', '1° 50\\' 20\"', '1° 50\\' 45\"', '1° 50\\' 8\"', '1° 50\\' 25\"', \"34° 7'\", \"3° 41'\", \"0° 5' N.\", \"3° 23'\", '1° 50\\' 30\"', '1° 50\\' 25\"', \"16° 46' Scorpio\", \"16° 46' Taurus\", '17¾° Scorpio', \"3° 37'\", \"3° 37'\", \"1° 7'\", \"4° 10'\", '1° 51\\' 0\"', '1° 50½’', '1° 8\\' 34\"', '6° 58\\' 24\"', '1° 4\\' 36\"', '4° 44\\' 12\"', \"16° 50' Leo.\", '17° Leo', \"4° 31'\", \"4° 31'\", '19° Leo', '4° 31¾’', '1° 8\\' 30\"', '19° Leo', '6° 52\\' 20\",4', '2° 41\\' 18\" Pisces', '2° 40’ 48\" Pisces', '6° 21\\' 14\"', '2° 41\\' 18\" Pisces', '5° 3\\' 29\"', '5° 21\\' 36\"', \"160° 33'\", \"19° 27'\", '6° 19\\' 10\"', '16¾° Leo', '29° Leo', \"16° 45' Leo\", '1° 1\\' 33\"', '2° 3\\' 6\"', \"16° 48' Taurus.\", '15° 44½’ Scorpio', \"17° 38' Taurus\", '1° 53½’', '1° 50\\' 45\"', '1° 50\\' 8\"', '5½° Cancer', '5½° Cancer', '23° 51½’', \"23° 42'\", '23° 31½’', \"4° 20'\", \"21° 0' Gemini\", \"21° 0' Sagittarius\", '21° Gemini', '29° Leo', \"2° 23'\", '3° Gemini', '80° 57\\' 14\"', '68° 21\\' 20\"', '93° 2\\' 20\"', \"0° 41' Leo\", \"1° 24'\", '21° 29½’ Gemini', '1° 2½’ Leo.', '11\\' 24\"', '5\\' 15\"', '5\\' 40\"', \"0° 3' Leo26\", \"29° 31' Aquarius\", \"29° 27' Leo\", \"21° 7' Gemini\", '29° 36½’ Leo', '10\\' 30\"', \"1° 12'\", '11° 4’ Sagittarius,37', '1\\' 30\"', '92° 8’', \"3° 5' Pisces,41\", '92° 8’', '5° Pisces', '30° Taurus', \"54° 10'\", '11° 18\\' 30\" Sagittarius.', '11° 18\\' 30\"', \"2° 30' Leo\", '8° 48\\' 30\"', '0° 47\\' 30\"', '6° 31\\' 45\"', '8° 52\\' 45\"', \"0° 41' Leo\", \"1° 49'\", '28° 58\\' 50\" Leo', \"2° 27'\", \"3° 3' Pisces\", \"2° 30' Leo.\", '1° 47\\' 0\"', '12° 47\\' 41\" Pisces', '11° 27\\' 49\"', '9° 40\\' 49\"', '2\\' 42\"', '7° 14’ 36\"', '8° 23’', \"2° 36' Gemini\", '2° 53\\' 40\"', '5° 29\\' 40\" Gemini', '1° 5\\' 6\"', '3° 43\\' 14\"', '5° 28\\' 40\" Gemini.', '1° 4\\' 6\"', '3° 45\\' 45\",4', \"1° 36' Sagittarius.\", \"4° 22' Sagittarius\", '25° Capricorn', '25° 32\\' 50\"', '2° 0\\' 30\"', '6° 7\\' 12\"', '3° 40\\' 20\"', '27° 33\\' 20\",8', '82° 43\\' 46\"', '4° 49\\' 34\"', '17\\' 36\"', '0° 40\\' 37\"', '4° 51\\' 28\"', \"2° 30' Leo\", \"24° 17' Leo.\", \"27° 36' Scorpio.\", '3° 20\\' 0\"', '4° 51\\' 28\"', '29° 3½’ Scorpio.', \"24° 17' Leo.\", '94° 46½’', \"94° 49½'\", \"4° 15'\", \"56° 35'\", \"1° 7'\", \"1° 5'\", \"1° 46'\", \"1° 20'\", '16\\' 20\"', \"1° 5'\", '3\\' 28\"', \"2° 25'\", '198° 21\\' 30\"', \"19° 20'\", '58\\' 38\"', '58\\' 38\"', '1° 21\\' 14\"', '198° 21\\' 30\"', '58\\' 38\"', '16\\' 20\"', '198° 37\\' 50\"']\n"
     ]
    }
   ],
   "source": [
    "a_10=print_entities(examples)"
   ]
  },
  {
   "cell_type": "code",
   "execution_count": 79,
   "metadata": {},
   "outputs": [],
   "source": [
    "misaligned_token(examples)"
   ]
  },
  {
   "cell_type": "code",
   "execution_count": 80,
   "metadata": {},
   "outputs": [
    {
     "name": "stdout",
     "output_type": "stream",
     "text": [
      "There is 1096 entities with this detail\n",
      "['3° 4\\' 52\"', '41° 55\\' 8\"', '16° 33\\' 30\"', '7° 28\\' 56\"', '37° 32\\' 37\"', '1\\' 33\"', '4° 20\\' 8\"', '85° 39\\' 52\"', '11° 25\\' 48\"', '11° 23\\' 53\"', '1’ 55”', '47° 59¼’', '5° 27’ 47”', '23° 32\\' 16\" Leo', '5° 27’ 47”', '5° 27’ 47”', '78° 51’ 54”', '4’ 24”', '4’ 24”', '47° 59’ 16”', '44° 59’ 10”', '44° 59’ 10”', '53° 26’ 17”', '44° 59’ 10”', '7° 30’ 10”', '3° 0’ 6”', '8½° Cancer', '16° Cancer', '1° 3’ 32” But', '2° 3’', '9° Leo.', '23° 45’ Leo.', '5° 2’', '28° 2½’,4', '23° 20’ Leo', '17° Taurus', '3° Cancer', '17° Cancer', '27° Sagittarius.', '26° 45’ 24” Gemini.', '26° 24’ 43” Sagittarius.', '10’ 20”', '26° 24’ 13” Sagittarius', '18° Taurus', '13° Pisces.', '18° Taurus', '17° Taurus', '4° 33’', '1° 50’', '8° 36’ 50” Gemini2', '8° 20’ Gemini', '1° 55’', '1° 52’', '6° 41’ 50” Gemini', '1’ 4”', '6° 46’ 10” Gemini.', '16° 47’ Cancer', '16° 46’ 16” Cancer', '21° 18’ 11” Leo', '24’ 15”', '7’ 41”', '21° 10’ 30” Leo', '25° 10’ 20” Virgo.', '1’ 48”', '25° 8’ 32” Virgo', '3° 58\\' 21\" Scorpio', '1’ 22”', '3° 58’ 10”', '27° 15’ Sagittarius', '1° 12’ 47”', '39’ 29”', '26° 35’ 31” Sagittarius.', '26° 32’ Sagittarius.', '12° 38’ Pisces12', '5’ 48”', '12° 43’ 48” Pisces.', '12° 43’ 45”', '17° 48’ Taurus', '11’ 7”', '17° 56’ 15” Taurus', '3° 30’ Cancer', '1° 15’', '2° 30½’ Cancer.', '2° 28’', '10° 38’ 46” Leo', '6° 18’ Leo.', '23’ 44”', '2° 25’', '1° 6’', '44° 41’', '5° 31’ south', '17° 53⅓’ Cancer,6', '36° 43’', '29° 38½’ But', '23° 29’', '43° 58’', '23° 27’', '23° 12½’', '67° 21’', '23° 29’', '23° 16’', '23° 9’', '7° 51’', '7° 59’', '44° 22’', '44° 27⅓’', '44° 32½’', '9° 44’', '32° 57’', '9° 48’ 45”', '32° 4’', '9° 2’', '39° 54’', '30° 52’', '28° 1’ 0” Libra,27', '7° 48’', '3° 0’ 30”', '68° 59’', '21° 1’', '68° 59’', '2° 48’ 31”', '21° 1’', '26° 56’ Libra.', '2° 47’ 48”', '2° 48’ 31”', '62° 37’', '39° 55’', '53° 5’', '30° 54’', '32° 6’', '29° 18⅓’', '26° 2’', '46° 22½’', '29° 13½’', '29° 19’', '29° 20’', '29° 9’', '29° 12’', '29° 9½’', '56° 44’', '29° 9½’', '29° 10¼’', '9° 26’', '32° 19½’', '18° 25’', '27° 39’', '39° 32½’', '205° 27’ 10”', '26° 18’ 48” Libra', '29° 9⅙’', '29° 13½’', '44° 45’', '44° 39½’', '29° 13½’', '29° 18’', '29° 15’', '29° 19’', '4’ 24”', '3’ 0”', '12½° Mars', '4’ 20”', '8’ 45”', '4’ 36”', '2’ 25”', '29° 9½’', '29° 13½’', '29° 12½’', '29° 9’', '29° 9’', '17° 56’ 5” Taurus', '4° 34½’', '9° 26’', '22° 35’ 10”', '24° 22’ 56” Aries', '11° 34’ 30” Aries', '0° 0’ 45” north', '0° 2’ 20” south', '0° 0’ 25” north', '0° 3’ 46”', '6’ 45”', '1° 7’ north', '27° 14½’ Scorpio', '5° 31’ Taurus', '11° 17’', '15° 44½’ Scorpio', '17° Leo', '17° Leo', '17° Leo', '17° Leo.', '72° 33’', '17° Aquarius', '17° Leo', '17° Aquarius', '17° Leo', '22° Virgo', '17° Aquarius', '25° 31’ Virgo', '9° 19⅖’ Libra', '1° 53½’', '1° 50’', '6° 9’', '13° 0’ 40” north', '0° 7’ Virgo,7', '8° Scorpio', '19⅖° Scorpio', '16° 17’', '1° 47’', '25° 12¼’', '20° 4’ 30” Virgo', '2° 16½’', '1° 47’', '1° 50’', '20° 58’', '1° 17’ Leo', '11° Taurus', '1° 50’', '15° 49’ Gemini', '30° Pisces', '1° 50’', '17° Aquarius', '16° 47⅓’ Sagittarius', '16° 45⅔’', '2° Libra', '1° 36’ south', '1° 36’', '17° Taurus', '1° 50⅔’', '23° 14’ Leo', '2° 12’', '21° 26’ Leo', '16° Taurus', '16° Leo.', '1° 49¾’', '1° 27⅓’ Aquarius', '2° 18⅔’,20', '2½° Scorpio', '1° 45’', '1° 50’', '17° Scorpio', '16° Taurus', '21° 26’ Leo', '21° 26’ Leo', '17° Taurus', '17° Leo', '17° Leo', '17° Leo', '21° 16’ Leo', '21° Leo', '4° 32⅙’', '2° 43’ 27“', '1° 48’ 43“', '6° 3’ south', '12½° Pisces.', '4° 21’ 10“', '1° 41’ 50“', '1° 42’', '1° 50’', '8° 37’ Gemini,3', '0° 45’ 36“ Sagittarius', '7° 51’ 24“', '51’ 24“', '6° 28’ Gemini', '16½° Taurus.', '6° 28’ Gemini.', '1° 50’', '6° 28’ Gemini', '6° 28’ 35“ Gemini', '1° 40’ north', '16° 47’ Cancer,6', '61’ 18“', '26’ 45“', '1° 25’ 18“', '16° 54’ 32“ Cancer', '4° 6’ north', '4° 6’', '21° 18’ 11“ Leo', '22° 21’ 31“Aquarius', '1° 3’ 20“', '61’ 16“', '1° 25’ 31“', '21° 36’ 10“ Leo.', '4° 32’ 10“ north', '4° 31’', '26° 26’ 17“ Virgo,8', '26° 26’ Virgo', '9° Sagittarius', '3° 42’ 22“ north', '23° 59’ 11“ Pisces.', '2° 26’ 49“', '59’ 35“', '2° 26’ 49“', '25° 43’ 53“ Virgo.', '25° 43’ Virgo.', '3° 38’ N.', '3° 58’ 20“ Scorpio,13', '24° Sagittarius.', '5’ 24“', '1° 9’ 45“ north', '2’ 38“', '4° Scorpio', '3° 57’ Scorpio.', '5° 36’ 20“ Taurus.', '1° 39’ 20“', '22’ 8“', '1° 39’ 20“', '4° 24’ 30“ Scorpio', '4° 24’ Scorpio', '27° 14’ 42“ Sagittarius,16', '24° 58’ 10“ Gemini.', '2° 16’ 10“', '57’ 8“', '18’ 12“', '1° 15’ 20“', '26° 41’ 48“ Sagittarius', '4° 1½’', '12° 38’ Pisces,18', '11° 15’ 24“ Pisces', '1° 22’ 36“', '11° 2’ 31“ Virgo.', '1° 35’ 30“', '58’ 20“', '1° 14’ 51“', '12° 16’ Pisces.', '6° 2’ south', '17° 47’ 15“ Taurus,19', '0° 5’ 10“ north', '16° 50’ 30“ Scorpio.', '56’ 45“', '1° 0’ 35“', '1° 23’ 29“', '40’ 47“', '17° 31’ 40“ Taurus.', '0° 8’ north', '3° 45½’ Cancer', '29° 4’ 53“ Sagittarius.', '4° 40’ 37“', '61’ 20“', '1° 25’ 0“', '2° 27⅓’ Cancer.', '2° 28’ Cancer.', '3° 33’ north', '3° 40¼’ Cancer', '3° 42’ Cancer', '10° 38’ 46“ Leo', '3° 26’ 30“ Aquarius.', '7° 12’ 16“', '1° 1’ 3“', '1° 24’ 47“', '8° 38’ Leo.', '4° 30’ 50“ N.', '52° 22’', '37° 22’ 20“', '52° 19½’', '56° 22’', '3° 43’ 30“', '52° 14’', '19° 23’', '13° 19’ 6“ Virgo', '50° 19’', '13° 19’ 30“ Virgo', '5° Scorpio', '2’ 41“', '4° 10⅔’ north', '4’ 13“', '2’ 36“', '10° 16’ 42“ Pisces.', '3° 1’ 18“', '1° 0’ 4“', '1° 24’ 9“', '12° 27’ 35“ Virgo.', '12° 27’ Virgo', '4° 10’', '4° 36’ 30“ Libra', '20° 18’', '16° 4’ Virgo', '1° 45’', '8° 17’', '12° 18’', '14° 19’ Virgo', '14° 21’ 18“ Virgo.', '4° 14’ north', '11¼° Virgo.', '9° 24’', '17° 26’', '11° 19’ 20“ Virgo', '4° 7’ 40“ north', '3° 0’', '1° 7’', '4° 12’', '4° 9’', '4° 10⅔’', '33° 4’', '29° 43½’', '31° 2½’ north', '54° 8½’', '54° 2’', '54° 6’', '2° 21½’', '163° 13’', '18° 56’ 24“ Aries', '145° 45’', '22½° Scorpio.', '3’ 28“', '2° 25’', '3’ 32“', '18° 21½’ Libra', '19° 20’ 8“ Aries.', '58’ 38“', '4° Scorpio', '1° 21’ 14“', '18° 37’ 50“ Libra.', '18° 37’ 10“ Libra.', '2° 25’', '2⅔° Cancer', '23° 18’', '12° 16’ Pisces', '9° 55’', '25° 43’ Virgo', '91° 0’', '25° 43’ Virgo', '3’ 37“', '26° 39’ 23“ Sagittarius', '5’ 30“', '12° 10’ 30“ Pisces', '7’ 18“', '17° 24’ 22“ Taurus', '28° 44’ 0“ Leo', '24’ 15“', '3’ 20“', '1’ 48“', '29’ 15“', '1’ 48“', '12° 18’ 44“', '30\\' 38\"', '1\\' 30\"', '32° 2\\' 6\"', '28° 49\\' 8\" Leo', '70° 22\\' 29\"', '7’ 20\"', '23\\' 18\"', '3\\' 55\",23', '4° 8\\' 51\"', '85° 51\\' 9\"', '10° 32\\' 38\"', '5½° Gemini', '25½° Cancer', '5½° Gemini', \"123° 27'\", '5½° Sagittarius', \"2° 30' Leo.\", \"24° 5' Leo.\", \"28° 49' Leo\", \"5° 11'\", '6\\' 29\"', '25\\' 30\"', '1\\'4\"', '25½° Cancer', \"16° 20' Leo\", \"3° 30'\", '5\\' 17\"', '25\\' 30\"', '20\\' 13\"', '21° Leo', '12° Pisces', '12° Virgo', \"1° 50'\", '4° 32\\' 10\"', '2° 42\\' 40\"', \"1° 50'\", \"1° 39'\", \"6° 3'\", \"4° 24'\", '21° Leo', '12° Pisces', '12° Virgo', '11° 3\\' 16\"', '11° 3\\' 16\"', '1° 1\\' 12\"', '11° 3\\' 16\"', '167° 55\\' 32\"', '82° 44\\' 20\"', '83° 57\\' 46\"', '12° 13\\' 37\" Pisces', \"12° 16' Pisces.\", '17° Cancer', '17° 4¾’ Cancer', \"29° 12½' Cancer\", '29° 14\\' 58\"', '0° 12\\' 13\"', \"29° 13' Leo\", '29° 12½’ Cancer', '17° 39½’ Pisces', '26° 16\\' 38\"', '25° 44\\' 30\"', '25° 44\\' 30\" Aquarius', '21° 55\\' 0\"', '17° 39\\' 30\" Pisces', \"1° 48'\", '29° 11\\' 3\"', \"5° 30'\", '28° 51\\' 22\"', '26° 12\\' 43\"', '26° 48\\' 35\"', '20° 50\\' 55\"', '6° 37\\' 5\"', '8° 35\\' 33\"', '81° 24\\' 27\"', '81° 42\\' 35\"', '81° 24\\' 27\"', '18\\' 8\"', '5½° Cancer', '23½° Leo', \"8° 15⅗'\", '42° 54\\' 23\"', \"21° 27'\", \"42° 54'\", \"22° 43'\", '9° 14\\' 52\"', '13° 28\\' 16\" Libra.', '4° 23\\' 30\"', '25° 36\\' 30\"', '18° Gemini', '0° 50\\' 45\" Virgo', \"1° 5' Virgo,7\", \"6° 48' Virgo\", \"6° 34' Virgo.\", '17° 37½’ Leo', \"6° 37' Virgo.\", '34° 32\\' 45\"', \"17° 30'\", '230° 23\\' 12\"', \"21° 34' Scorpio.\", \"36° 51'\", '38° 5½’', '128° 47\\' 19\"', '51° 12\\' 41\"', '25° 9\\' 20\"', '25° 9\\' 20\"', \"5° 30' Capricorn\", '26° 3\\' 21\"', '8° 25\\' 21\"', '8° 25\\' 21\"', '4° 38\\' 50\"', '23½° Leo', '18° 19\\' 56\"', '5½° Cancer', \"127° 5'\", \"24° 22' Aries\", \"25° 6' Aries\", '15° 53\\' 45\" Taurus.', '20° 47\\' 45\"', '32° 7\\' 14\"', '15° 55\\' 23\"', '11° 34½’ Aries', \"1° 25'\", '10° 9½’ Aries.', '35° 46\\' 23\"', '15° 56\\' 56\"', \"4° 45' Aries\", \"1° 8'\", '3° 37’ Aries', '42° 21’ 30\"', '15° 58\\' 30\"', '18° 52’ 15\" Taurus', '19° 15\\' 15\" Taurus', '3° 23’ 5\"', '42° 52\\' 47\"', '68° 12\\' 26\"', '46° 39\\' 10\"', '43° 6\\' 32\"', '68° 26\\' 44\"', '97° 50\\' 30\"', '5½° Cancer.', '5½° Capricorn', '24° 22\\' 56\" Aries', \"24° 20' Aries.\", '11° 32\\' 44\" Aries', '3° 6\\' 50\" Aries', '19° 39\\' 25\"', '2° 9\\' 4\"', '9° 23\\' 40\"', '2\\' 25\"', '3° 4\\' 27\" Aries.', '22\\' 11\"', '19° 41\\' 39\" Taurus.', '14° 19\\' 52\" Taurus.', '1\\' 36\"', '14° 18\\' 16\" Taurus', \"25° 53' Sagittarius.\", \"10° 17' Aquarius\", \"25° 57' Sagittarius.\", \"25° 57' Sagittarius\", \"19° 40' Taurus\", '23° 53\\' 0\"', '43° 22\\' 26\"', '93° 15\\' 8\"', '73° 24\\' 39\"', \"10° 36' Capricorn\", '19° 56\\' 4\"', '45° 26\\' 37\"', '43° 26\\' 18\"', '76° 37’ 30\"', '75° 8\\' 40\"', '5½° Capricorn.', \"9° 24' Aries.\", '14° 21\\' 7\" Taurus', '24° Leo', '21° 40\\' 9\"', '5° 20\\' 2\"', \"21° 13'\", \"68° 47'\", '42° 6\\' 57\"', '69° 43\\' 31\"', '0° 56\\' 31\"', \"10° 19' Capricorn\", '5½° Capricorn', '26° 17½’ Libra.', '5½° Cancer', '8° 19\\' 20\" Virgo', '1° 1\\' 53\"', '88° 58\\' 7\"', '88° 58\\' 7\"', '91° 1\\' 53\"', '91° 1’ 53\"', '88° 58’ 7\"', '1° 27\\' 31\"', '0° 43\\' 46\"', '43\\' 38\"', '1° 27\\' 24\"', '43\\' 46\"', '1° 1\\' 53\"', '1° 1\\' 53\"', '1° 1\\' 53\"', '45° 43\\' 46\"', '44\\' 19\"', '43\\' 46\"', '14° 21\\' 7\" Taurus', '5° 25\\' 20\" Libra', '1° 12\\' 40\"', '5° 24\\' 30\" Libra.', '8° 19\\' 20\" Virgo', '1° 42\\' 40\"', '114° 2\\' 12\"', '27° 5\\' 17\"', '20° 26\\' 13\"', '35° 10\\' 17\"', '14° 44\\' 4\"', '29° 28\\' 8\"', '78° 44\\' 1\"', '29° 28\\' 8\"', '75° 15\\' 56\"', '38° 15\\' 45\"', '5° 24\\' 21\" Libra', \"28° 53' Leo\", \"4° 16' North\", '2° 46⅗’', '1° 4\\' 36\" Libra', '2° 54\" N.', \"3° 6'\", \"31° 27'\", '3° 16¼’ North.', \"25° 31' Virgo\", \"45° 17'\", \"2° 5' south\", '9° 19⅖’ Libra', \"6° 14'\", '168° 56¼’', \"17° 16¾' Virgo\", \"17° 20' Virgo\", '29° 12½’ Cancer', \"3° 19¾'\", '68° 36\\' 0\"', '88° 28\\' 50\"', '33° 58\\' 33\"', '29° 19\\' 49\" Leo', \"1° 48'\", '20° 59¼’ Capricorn', \"18° 36' Capricorn\", \"17° 39½' Pisces\", '6° 6¼’ south,19', \"4° 16'\", \"1° 16'\", \"0° 53'\", \"14° 20' Capricorn.\", '3° 25½’', \"3° 46'\", \"16° 56' Pisces.\", '55\\' 20\"', \"1° 48'\", '29° 54\\' 53\" Aquarius', '29° 52\\' 55\"', '29° 20\\' 12\" Leo.', '29° 20\\' 12\" Leo', '33\\' 53\"', '26\\' 13\"', '26\\' 13\"', '11\\' 49\"', '5\\' 16\"', '33\\' 53\"', '20\\' 36\"', '11\\' 49\"', '45\\' 42\"', '45\\' 42\"', '5° 17\\' 34\"', '5° 18\\' 28\"', '10° 36\\' 2\"', '95° 18\\' 28\"', '3° 45\\' 12\"', '41° 28\\' 54\"', '48° 45\\' 12\"', '45\\' 12\"', \"5° 19'\", \"5° 19'\", '28° 41\\' 40\" Leo', '0° 53\\' 13\"', '95° 18\\' 28\"', '95° 18\\' 28\"', '5° 20\\' 18\"', '84° 42\\' 2\"', '2\\' 20\"', '1\\' 10\"', '48° 45\\' 12\"', '3° 45\\' 12\"', '48° 45\\' 12\"', '41° 14\\' 9\"', '41° 20\\' 33\"', '138° 45\\' 12\"', '48° 45\\' 55\"', '131° 7\\' 26\"', '92\\' 40\"', '46\\' 20\"', '45\\' 45\"', '45\\' 15\"', '179° 14\\' 15\"', '3\\' 50\"', '5° 15\\' 30\"', '358° 28\\' 30\"', '48° 42\\' 59\"', '48° 46\\' 51\"', '48° 42\\' 51\"', '41° 13\\' 9\"', '10° 29⅕’', '52° 39⅔’', \"37° 44'\", '53° 23\\' 56\"', \"48° 44'\", \"41° 22'\", '27° 7⅓’ Libra', '26° 0\\' 36\"', '26° 13\\' 39\",2', \"50° 34'\", \"50° 34'\", '50° 32\\' 18\"', \"18° 11' Libra\", '21° 50\\' 20\"', \"21° 41'\", '9\\' 20\"', \"8° 43' Sagittarius.\", '16° 47\\' 10\" Capricorn', \"306° 57'\", '6\\' 30\"', '3\\' 29\" N.', \"10° 17'\", '2\\' 30\"', '2\\' 30\"', '3\\' 29\" N.', '3\\' 36\"', '28° 41\\' 14\"', '15° 31\\' 3\" Scorpio.', '38° 0\\' 40\"', '23° 6\\' 11\"', '15° 40\\' 9\" Scorpio', '8\\' 3\"', '4\\' 48\"', '12\\' 37\"', '15° 43\\' 40\" Scorpio.', '15° 29\\' 34\" Scorpio', '87° 9\\' 24\"', '10° Gemini.', '11° 31\\' 27\" Taurus', '5° 39\\' 3\" Capricorn.', '2° 4\\' 22\"', '28° 58\\' 10\"', '87° 9\\' 24\"', '76° 25\\' 48\"', '12° 32\\' 22\" Gemini.', '12° 32\\' 22\" Gemini', '5° 39\\' 3\" Capricorn', \"16° 20' Taurus\", \"1° 50'\", '48\\' 32\"', '29° 10\\' 43\"', \"9° 43' Gemini\", '43\\' 52\"', \"15° 40' Scorpio\", '1° 36’ 24\"', \"1° 30½' North.\", \"9° 54' Cancer\", \"0° 13½' S.\", \"12° 18½' Cancer.\", \"12° 16' Cancer.\", \"1° 30½'\", \"12° 16'\", \"1° 30½'\", \"12° 16' Cancer.\", '16° 38\\' 8\" Scorpio', '29° 42\\' 10\"', \"2° 6'\", \"12° 13' Cancer\", '7° 31\\' 10\" Scorpio', '9° 46\\' 8\"', '28° 51\\' 8\"', '70° 55\\' 0\"', '0° 8\\' 43\" Scorpio', \"28° 11'\", \"7° 34½' Sagittarius\", '21° 39\\' 10\"', '8° 21\\' 47\"', '38° 43\\' 20\"', '1° 26\\' 30\"', '17° Scorpio', \"54° 12'\", '29° 35\\' 17\" Scorpio', '15° 10\\' 20\"', \"73° 34'\", '24° 59\\' 2\" Gemini.', '26° 35\\' 30\" Cancer', \"70° 55'\", '29° 31\\' 24\"', '15° 35\\' 0\"', '76° 17\\' 48\"', '14° 0\\' 3\" Sagittarius', '22° 8\\' 44\" Cancer', '23° 14\\' 15\" Leo,23', '26° 0\\' 30\" Leo', '2° 46\\' 25\"', \"2° 48'\", \"1° 28'\", '27° 27\\' 30\" Leo', '73° 27\\' 27\"', '12° 38\\' 44\",28', \"43° 48'\", '1\\' 30\"', '5° Scorpio', '26° Sagittarius', '16° Scorpio', \"11° 37'\", '15° 9\\' 5\" Aquarius', '9° 0\\' 25\"', '1\\' 30\"', \"5° 19'\", '4° 16\\' 51\" Capricorn', '26° 6\\' 24\" Virgo', '81° 49\\' 33\"', '1\\' 30\"', \"11° 37'\", '24° 3\\' 43\" Scorpio', \"1° 37',32\", '60° 47\\' 43\"', '1\\' 30\"', \"11° 37'\", '2° 8\\' 43\" Gemini', \"2° 24½' Capricorn\", '30° 15\\' 44\"', \"12° 10' Sagittarius\", '4° 11\\' 20\"', \"114° 41'\", \"113° 24'\", '21° 44\\' 56\"', '1° 11\\' 47\"', '2° 39\\' 15\" Scorpio', '2° 10\\' 52\" S.', '25° 41\\' 0\" Virgo', '7° 59\\' 52\" Leo', \"2° 30'\", '17\\' 22\"', '30\\' 55\"', '13\\' 33\"', '6\\' 46\"', '45° 35\\' 13\"', '34° 43\\' 47\"', '6\\' 46\"', '17° 25\\' 42\" Cancer', '56° 11\\' 46\"', '161° 45\\' 28\"', \"161° 45½'\", '29° Leo', '24° Leo', '5½° Cancer', '5½° Cancer', '22° 15’', \"16° 5' Cancer\", '0° 41\\' 0\" Cancer', '18° 48\\' 47\" Leo', '29° 0⅔’ Leo', '7° 14’ 34\"', \"11° 37'\", \"1° 43'\", '10° 9\\' 41\"', '8° 2\\' 51\"', \"4° 4'\", \"11° 52'\", '161° 45½’', '1° 31½’ The', \"5° 18'\", '29° Taurus', '44° 52\\' 34\"', \"57° 14'\", \"4° 44' Aries\", \"18° 35' Taurus\", '3\\' 20\" south', '19\\' 45\" north', '16° 8⅓’ Taurus,6', \"16° 42' Scorpio.\", \"16° 47' Scorpio\", \"12° 16' Pisces\", '6° 7\\' 30\"', '6° 5\\' 30\"', '5° 52\\' 15\"', '13\\' 15\"', '6° 2\\' 30\"', \"166° 36'\", '6° 2\\' 30\"', \"16° 43' Taurus,2\", \"64° 27'\", '1° 39\\' 22\"', \"17° 45¾' Pisces\", '20° 1½’ Aquarius', \"8° 26' Leo\", \"11° 35½'\", \"17° 45¾' Pisces.\", '5° 46¼’', \"20° 1½' Aquarius\", '1° 50\\' 2\" south', \"4° 31' north\", '4° 31\\' 10\"', '7° 6\\' 23\",11', '4° 31\\' 10\"', '1° 50\\' 20\"', '1° 50\\' 45\"', '1° 50\\' 8\"', '1° 50\\' 25\"', \"34° 7'\", \"3° 41'\", \"0° 5' N.\", \"3° 23'\", '1° 50\\' 30\"', '1° 50\\' 25\"', \"16° 46' Scorpio\", \"16° 46' Taurus\", '17¾° Scorpio', \"3° 37'\", \"3° 37'\", \"1° 7'\", \"4° 10'\", '1° 51\\' 0\"', '1° 50½’', '1° 8\\' 34\"', '6° 58\\' 24\"', '1° 4\\' 36\"', '4° 44\\' 12\"', \"16° 50' Leo.\", '17° Leo', \"4° 31'\", \"4° 31'\", '19° Leo', '4° 31¾’', '1° 8\\' 30\"', '19° Leo', '6° 52\\' 20\",4', '2° 41\\' 18\" Pisces', '2° 40’ 48\" Pisces', '6° 21\\' 14\"', '2° 41\\' 18\" Pisces', '5° 3\\' 29\"', '5° 21\\' 36\"', \"160° 33'\", \"19° 27'\", '6° 19\\' 10\"', '16¾° Leo', '29° Leo', \"16° 45' Leo\", '1° 1\\' 33\"', '2° 3\\' 6\"', \"16° 48' Taurus.\", '15° 44½’ Scorpio', \"17° 38' Taurus\", '1° 53½’', '1° 50\\' 45\"', '1° 50\\' 8\"', '5½° Cancer', '5½° Cancer', '23° 51½’', \"23° 42'\", '23° 31½’', \"4° 20'\", \"21° 0' Gemini\", \"21° 0' Sagittarius\", '21° Gemini', '29° Leo', \"2° 23'\", '3° Gemini', '80° 57\\' 14\"', '68° 21\\' 20\"', '93° 2\\' 20\"', \"0° 41' Leo\", \"1° 24'\", '21° 29½’ Gemini', '1° 2½’ Leo.', '11\\' 24\"', '5\\' 15\"', '5\\' 40\"', \"0° 3' Leo26\", \"29° 31' Aquarius\", \"29° 27' Leo\", \"21° 7' Gemini\", '29° 36½’ Leo', '10\\' 30\"', \"1° 12'\", '11° 4’ Sagittarius,37', '1\\' 30\"', '92° 8’', \"3° 5' Pisces,41\", '92° 8’', '5° Pisces', '30° Taurus', \"54° 10'\", '11° 18\\' 30\" Sagittarius.', '11° 18\\' 30\"', \"2° 30' Leo\", '8° 48\\' 30\"', '0° 47\\' 30\"', '6° 31\\' 45\"', '8° 52\\' 45\"', \"0° 41' Leo\", \"1° 49'\", '28° 58\\' 50\" Leo', \"2° 27'\", \"3° 3' Pisces\", \"2° 30' Leo.\", '1° 47\\' 0\"', '12° 47\\' 41\" Pisces', '11° 27\\' 49\"', '9° 40\\' 49\"', '2\\' 42\"', '7° 14’ 36\"', '8° 23’', \"2° 36' Gemini\", '2° 53\\' 40\"', '5° 29\\' 40\" Gemini', '1° 5\\' 6\"', '3° 43\\' 14\"', '5° 28\\' 40\" Gemini.', '1° 4\\' 6\"', '3° 45\\' 45\",4', \"1° 36' Sagittarius.\", \"4° 22' Sagittarius\", '25° Capricorn', '25° 32\\' 50\"', '2° 0\\' 30\"', '6° 7\\' 12\"', '3° 40\\' 20\"', '27° 33\\' 20\",8', '82° 43\\' 46\"', '4° 49\\' 34\"', '17\\' 36\"', '0° 40\\' 37\"', '4° 51\\' 28\"', \"2° 30' Leo\", \"24° 17' Leo.\", \"27° 36' Scorpio.\", '3° 20\\' 0\"', '4° 51\\' 28\"', '29° 3½’ Scorpio.', \"24° 17' Leo.\", '94° 46½’', \"94° 49½'\", \"4° 15'\", \"56° 35'\", \"1° 7'\", \"1° 5'\", \"1° 46'\", \"1° 20'\", '16\\' 20\"', \"1° 5'\", '3\\' 28\"', \"2° 25'\", '198° 21\\' 30\"', \"19° 20'\", '58\\' 38\"', '58\\' 38\"', '1° 21\\' 14\"', '198° 21\\' 30\"', '58\\' 38\"', '16\\' 20\"', '198° 37\\' 50\"']\n"
     ]
    }
   ],
   "source": [
    "a_09=print_entities(examples)"
   ]
  }
 ],
 "metadata": {
  "kernelspec": {
   "display_name": "Python 3",
   "language": "python",
   "name": "python3"
  },
  "language_info": {
   "codemirror_mode": {
    "name": "ipython",
    "version": 3
   },
   "file_extension": ".py",
   "mimetype": "text/x-python",
   "name": "python",
   "nbconvert_exporter": "python",
   "pygments_lexer": "ipython3",
   "version": "3.7.5"
  }
 },
 "nbformat": 4,
 "nbformat_minor": 4
}
