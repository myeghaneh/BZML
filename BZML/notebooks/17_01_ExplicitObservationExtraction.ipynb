{
 "cells": [
  {
   "cell_type": "markdown",
   "metadata": {},
   "source": [
    "## Automatic extraction and classification of explicit observational sentences in \"Astronomia nova\" \n",
    " Gerd Graßhoff$^{(1,2)}$, Mohammad Yeghaneh$^{(2)}$\n",
    "\n",
    "1: Max-Planck-Institute for the History of Science, Berlin\n",
    "\n",
    "2: Humboldt University, Berlin\n",
    "\n",
    "Date: November 2019"
   ]
  },
  {
   "cell_type": "code",
   "execution_count": 363,
   "metadata": {},
   "outputs": [
    {
     "name": "stdout",
     "output_type": "stream",
     "text": [
      "The autoreload extension is already loaded. To reload it, use:\n",
      "  %reload_ext autoreload\n"
     ]
    }
   ],
   "source": [
    "import pandas as pd\n",
    "import numpy as np\n",
    "%load_ext autoreload\n",
    "%autoreload 2\n",
    "import utility_01\n",
    "from utility_01 import *\n",
    "from sklearn.metrics import roc_curve ,roc_auc_score ,precision_recall_curve,auc,confusion_matrix,classification_report\n",
    "from warnings import filterwarnings\n",
    "filterwarnings('ignore')\n",
    "import matplotlib.pyplot as plt\n",
    "import random \n",
    "import ipywidgets as widget\n",
    "from ipywidgets import interact\n",
    "\n"
   ]
  },
  {
   "cell_type": "code",
   "execution_count": 364,
   "metadata": {},
   "outputs": [],
   "source": [
    "options = {\"compact\": True, \"bg\": \"#09a3d5\",\n",
    "           \"color\": \"white\", \"font\": \"Source Sans Pro\",\"collapse_phrases\":False}"
   ]
  },
  {
   "cell_type": "code",
   "execution_count": 365,
   "metadata": {},
   "outputs": [],
   "source": [
    "pd.set_option('display.max_colwidth', -1)\n",
    "pd.set_option('max_colwidth', 1000)\n"
   ]
  },
  {
   "cell_type": "markdown",
   "metadata": {},
   "source": [
    "## Resources"
   ]
  },
  {
   "cell_type": "markdown",
   "metadata": {},
   "source": [
    "### Import resources *"
   ]
  },
  {
   "cell_type": "code",
   "execution_count": 366,
   "metadata": {},
   "outputs": [],
   "source": [
    "# here I have tried citableclass using DOI and It works! after full agreement on the data (part of book) we can use it. Since we can not change it in Zenodo after upload."
   ]
  },
  {
   "cell_type": "code",
   "execution_count": 422,
   "metadata": {},
   "outputs": [],
   "source": [
    "df=pd.read_pickle('../data/dfObsR01V05A02P02.pkl');\n",
    "df=df.sort_index();\n",
    "df=df.reset_index(drop=True)"
   ]
  },
  {
   "cell_type": "markdown",
   "metadata": {},
   "source": [
    "Sample of the first sentences of the book in the dataframe format "
   ]
  },
  {
   "cell_type": "code",
   "execution_count": 423,
   "metadata": {},
   "outputs": [
    {
     "data": {
      "text/html": [
       "<div>\n",
       "<style scoped>\n",
       "    .dataframe tbody tr th:only-of-type {\n",
       "        vertical-align: middle;\n",
       "    }\n",
       "\n",
       "    .dataframe tbody tr th {\n",
       "        vertical-align: top;\n",
       "    }\n",
       "\n",
       "    .dataframe thead th {\n",
       "        text-align: right;\n",
       "    }\n",
       "</style>\n",
       "<table border=\"1\" class=\"dataframe\">\n",
       "  <thead>\n",
       "    <tr style=\"text-align: right;\">\n",
       "      <th></th>\n",
       "      <th>Chapter</th>\n",
       "      <th>ParaIndex</th>\n",
       "      <th>SentIndex</th>\n",
       "      <th>Paragraph</th>\n",
       "      <th>Sentence</th>\n",
       "      <th>Entities</th>\n",
       "      <th>Label</th>\n",
       "    </tr>\n",
       "  </thead>\n",
       "  <tbody>\n",
       "    <tr>\n",
       "      <td>0</td>\n",
       "      <td>7</td>\n",
       "      <td>167</td>\n",
       "      <td>809</td>\n",
       "      <td>Chapter 7</td>\n",
       "      <td>Chapter 7</td>\n",
       "      <td>[]</td>\n",
       "      <td>NObs</td>\n",
       "    </tr>\n",
       "    <tr>\n",
       "      <td>1</td>\n",
       "      <td>7</td>\n",
       "      <td>168</td>\n",
       "      <td>810</td>\n",
       "      <td>The circumstances under which I happened upon the theory of Mars.</td>\n",
       "      <td>The circumstances under which I happened upon the theory of Mars.</td>\n",
       "      <td>[[Mars, PLAN]]</td>\n",
       "      <td>NObs</td>\n",
       "    </tr>\n",
       "    <tr>\n",
       "      <td>2</td>\n",
       "      <td>7</td>\n",
       "      <td>169</td>\n",
       "      <td>811</td>\n",
       "      <td>It is true that a divine voice, which enjoins humans to study astronomy, is expressed in the world itself, not in words or syllables, but in things themselves and in the conformity of the human intellect and senses with the sequence of celestial bodies and of their dispositions. Nevertheless, a kind of fate also invisibly drives different individuals to take up different arts, and makes them certain that, just as they are a part of the work of creation, they likewise also partake to some extent in divine providence.</td>\n",
       "      <td>It is true that a divine voice, which enjoins humans to study astronomy, is expressed in the world itself, not in words or syllables, but in things themselves and in the conformity of the human intellect and senses with the sequence of celestial bodies and of their dispositions.</td>\n",
       "      <td>[]</td>\n",
       "      <td>NObs</td>\n",
       "    </tr>\n",
       "    <tr>\n",
       "      <td>3</td>\n",
       "      <td>7</td>\n",
       "      <td>169</td>\n",
       "      <td>812</td>\n",
       "      <td>It is true that a divine voice, which enjoins humans to study astronomy, is expressed in the world itself, not in words or syllables, but in things themselves and in the conformity of the human intellect and senses with the sequence of celestial bodies and of their dispositions. Nevertheless, a kind of fate also invisibly drives different individuals to take up different arts, and makes them certain that, just as they are a part of the work of creation, they likewise also partake to some extent in divine providence.</td>\n",
       "      <td>Nevertheless, a kind of fate also invisibly drives different individuals to take up different arts, and makes them certain that, just as they are a part of the work of creation, they likewise also partake to some extent in divine providence.</td>\n",
       "      <td>[]</td>\n",
       "      <td>NObs</td>\n",
       "    </tr>\n",
       "    <tr>\n",
       "      <td>4</td>\n",
       "      <td>7</td>\n",
       "      <td>170</td>\n",
       "      <td>813</td>\n",
       "      <td>When, in my early years, I was able to taste the sweetness of philosophy, I embraced the whole of it with an overwhelming desire, and with practically no special concern about astronomy. I certainly had enough intelligence, nor did I have any difficulty understanding the geometrical and astronomical topics included in the normal curriculum, aided as I was by figures, numbers, and proportions. These were, however, required courses, nothing that would bespeak an exceptional inclination towards astronomy. And since I was supported at the expense of the Duke of Württemberg, and saw my comrades, whom the Prince, upon request, kept trying to send to foreign countries, stalling in various ways out of love for their country, I, being hardier, quite maturely agreed with myself that whithersoever I was destined I would promptly go.</td>\n",
       "      <td>When, in my early years, I was able to taste the sweetness of philosophy, I embraced the whole of it with an overwhelming desire, and with practically no special concern about astronomy.</td>\n",
       "      <td>[]</td>\n",
       "      <td>NObs</td>\n",
       "    </tr>\n",
       "  </tbody>\n",
       "</table>\n",
       "</div>"
      ],
      "text/plain": [
       "   Chapter  ParaIndex  SentIndex  \\\n",
       "0        7        167        809   \n",
       "1        7        168        810   \n",
       "2        7        169        811   \n",
       "3        7        169        812   \n",
       "4        7        170        813   \n",
       "\n",
       "                                                                                                                                                                                                                                                                                                                                                                                                                                                                                                                                                                                                                                                                                                                                                                                                                                                           Paragraph  \\\n",
       "0                                                                                                                                                                                                                                                                                                                                                                                                                                                                                                                                                                                                                                                                                                                                                                                                                                                         Chapter 7    \n",
       "1                                                                                                                                                                                                                                                                                                                                                                                                                                                                                                                                                                                                                                                                                                                                                                                                  The circumstances under which I happened upon the theory of Mars.   \n",
       "2                                                                                                                                                                                                                                                                                                                          It is true that a divine voice, which enjoins humans to study astronomy, is expressed in the world itself, not in words or syllables, but in things themselves and in the conformity of the human intellect and senses with the sequence of celestial bodies and of their dispositions. Nevertheless, a kind of fate also invisibly drives different individuals to take up different arts, and makes them certain that, just as they are a part of the work of creation, they likewise also partake to some extent in divine providence.   \n",
       "3                                                                                                                                                                                                                                                                                                                          It is true that a divine voice, which enjoins humans to study astronomy, is expressed in the world itself, not in words or syllables, but in things themselves and in the conformity of the human intellect and senses with the sequence of celestial bodies and of their dispositions. Nevertheless, a kind of fate also invisibly drives different individuals to take up different arts, and makes them certain that, just as they are a part of the work of creation, they likewise also partake to some extent in divine providence.   \n",
       "4  When, in my early years, I was able to taste the sweetness of philosophy, I embraced the whole of it with an overwhelming desire, and with practically no special concern about astronomy. I certainly had enough intelligence, nor did I have any difficulty understanding the geometrical and astronomical topics included in the normal curriculum, aided as I was by figures, numbers, and proportions. These were, however, required courses, nothing that would bespeak an exceptional inclination towards astronomy. And since I was supported at the expense of the Duke of Württemberg, and saw my comrades, whom the Prince, upon request, kept trying to send to foreign countries, stalling in various ways out of love for their country, I, being hardier, quite maturely agreed with myself that whithersoever I was destined I would promptly go.   \n",
       "\n",
       "                                                                                                                                                                                                                                                                                  Sentence  \\\n",
       "0                                                                                                                                                                                                                                                                                Chapter 7   \n",
       "1                                                                                                                                                                                                                        The circumstances under which I happened upon the theory of Mars.   \n",
       "2  It is true that a divine voice, which enjoins humans to study astronomy, is expressed in the world itself, not in words or syllables, but in things themselves and in the conformity of the human intellect and senses with the sequence of celestial bodies and of their dispositions.   \n",
       "3                                        Nevertheless, a kind of fate also invisibly drives different individuals to take up different arts, and makes them certain that, just as they are a part of the work of creation, they likewise also partake to some extent in divine providence.   \n",
       "4                                                                                               When, in my early years, I was able to taste the sweetness of philosophy, I embraced the whole of it with an overwhelming desire, and with practically no special concern about astronomy.   \n",
       "\n",
       "         Entities Label  \n",
       "0              []  NObs  \n",
       "1  [[Mars, PLAN]]  NObs  \n",
       "2              []  NObs  \n",
       "3              []  NObs  \n",
       "4              []  NObs  "
      ]
     },
     "execution_count": 423,
     "metadata": {},
     "output_type": "execute_result"
    }
   ],
   "source": [
    "df.head()"
   ]
  },
  {
   "cell_type": "code",
   "execution_count": 424,
   "metadata": {},
   "outputs": [
    {
     "data": {
      "text/html": [
       "<div>\n",
       "<style scoped>\n",
       "    .dataframe tbody tr th:only-of-type {\n",
       "        vertical-align: middle;\n",
       "    }\n",
       "\n",
       "    .dataframe tbody tr th {\n",
       "        vertical-align: top;\n",
       "    }\n",
       "\n",
       "    .dataframe thead th {\n",
       "        text-align: right;\n",
       "    }\n",
       "</style>\n",
       "<table border=\"1\" class=\"dataframe\">\n",
       "  <thead>\n",
       "    <tr style=\"text-align: right;\">\n",
       "      <th></th>\n",
       "      <th>Chapter</th>\n",
       "      <th>ParaIndex</th>\n",
       "      <th>SentIndex</th>\n",
       "      <th>Paragraph</th>\n",
       "      <th>Sentence</th>\n",
       "      <th>Entities</th>\n",
       "      <th>Label</th>\n",
       "    </tr>\n",
       "  </thead>\n",
       "  <tbody>\n",
       "    <tr>\n",
       "      <td>808</td>\n",
       "      <td>15</td>\n",
       "      <td>354</td>\n",
       "      <td>1617</td>\n",
       "      <td>On the night following 1589 April 15 at 12h 5m, the planet was found at 3° 58’ 20“ Scorpio,13 with latitude 1° 4’ 20“ north, decreasing. Mars’s altitude was 22⅕°, where refraction from the table for the fixed stars was zero, and from the table for the sun, 3½’. But the parallax was about twice as great as the sun’s, that is, 6 minutes at the horizon. The degree rising was 24° Sagittarius. Therefore, the nonagesimal was 64° from the zenith, giving a diurnal latitudinal parallax of 5’ 24“. Whether it really was that much will become apparent below, through a careful consideration of latitudes ^14. For there, the northern latitude, free from diurnal parallax (and if there is no refraction), would come out to be 1° 9’ 45“ north. And because the altitude of the nonagesimal is 26°, the longitudinal parallax15 at the horizon is 2’ 38“. But Mars is 40° from the nonagesimal, counting from 4° Scorpio to 24° Virgo, which, under the column  headed 2’ 38“ shows a true longitudinal parallax of 1...</td>\n",
       "      <td>On the night following 1589 April 15 at 12h 5m, the planet was found at 3° 58’ 20“ Scorpio,13 with latitude 1° 4’ 20“ north, decreasing.</td>\n",
       "      <td>[[1589 April 15, DATE], [12h 5m, TIME], [3° 58’ 20“ Scorpio,13, LONG], [latitude, ASTR], [1° 4’ 20“, LONG], [north, ASTR]]</td>\n",
       "      <td>Obs</td>\n",
       "    </tr>\n",
       "    <tr>\n",
       "      <td>809</td>\n",
       "      <td>15</td>\n",
       "      <td>354</td>\n",
       "      <td>1618</td>\n",
       "      <td>On the night following 1589 April 15 at 12h 5m, the planet was found at 3° 58’ 20“ Scorpio,13 with latitude 1° 4’ 20“ north, decreasing. Mars’s altitude was 22⅕°, where refraction from the table for the fixed stars was zero, and from the table for the sun, 3½’. But the parallax was about twice as great as the sun’s, that is, 6 minutes at the horizon. The degree rising was 24° Sagittarius. Therefore, the nonagesimal was 64° from the zenith, giving a diurnal latitudinal parallax of 5’ 24“. Whether it really was that much will become apparent below, through a careful consideration of latitudes ^14. For there, the northern latitude, free from diurnal parallax (and if there is no refraction), would come out to be 1° 9’ 45“ north. And because the altitude of the nonagesimal is 26°, the longitudinal parallax15 at the horizon is 2’ 38“. But Mars is 40° from the nonagesimal, counting from 4° Scorpio to 24° Virgo, which, under the column  headed 2’ 38“ shows a true longitudinal parallax of 1...</td>\n",
       "      <td>Mars’s altitude was 22⅕°, where refraction from the table for the fixed stars was zero, and from the table for the sun, 3½’.</td>\n",
       "      <td>[[Mars, PLAN], [altitude, ASTR], [refraction, ASTR]]</td>\n",
       "      <td>NObs</td>\n",
       "    </tr>\n",
       "    <tr>\n",
       "      <td>810</td>\n",
       "      <td>15</td>\n",
       "      <td>354</td>\n",
       "      <td>1619</td>\n",
       "      <td>On the night following 1589 April 15 at 12h 5m, the planet was found at 3° 58’ 20“ Scorpio,13 with latitude 1° 4’ 20“ north, decreasing. Mars’s altitude was 22⅕°, where refraction from the table for the fixed stars was zero, and from the table for the sun, 3½’. But the parallax was about twice as great as the sun’s, that is, 6 minutes at the horizon. The degree rising was 24° Sagittarius. Therefore, the nonagesimal was 64° from the zenith, giving a diurnal latitudinal parallax of 5’ 24“. Whether it really was that much will become apparent below, through a careful consideration of latitudes ^14. For there, the northern latitude, free from diurnal parallax (and if there is no refraction), would come out to be 1° 9’ 45“ north. And because the altitude of the nonagesimal is 26°, the longitudinal parallax15 at the horizon is 2’ 38“. But Mars is 40° from the nonagesimal, counting from 4° Scorpio to 24° Virgo, which, under the column  headed 2’ 38“ shows a true longitudinal parallax of 1...</td>\n",
       "      <td>But the parallax was about twice as great as the sun’s, that is, 6 minutes at the horizon.</td>\n",
       "      <td>[[parallax, ASTR]]</td>\n",
       "      <td>NObs</td>\n",
       "    </tr>\n",
       "    <tr>\n",
       "      <td>811</td>\n",
       "      <td>15</td>\n",
       "      <td>354</td>\n",
       "      <td>1620</td>\n",
       "      <td>On the night following 1589 April 15 at 12h 5m, the planet was found at 3° 58’ 20“ Scorpio,13 with latitude 1° 4’ 20“ north, decreasing. Mars’s altitude was 22⅕°, where refraction from the table for the fixed stars was zero, and from the table for the sun, 3½’. But the parallax was about twice as great as the sun’s, that is, 6 minutes at the horizon. The degree rising was 24° Sagittarius. Therefore, the nonagesimal was 64° from the zenith, giving a diurnal latitudinal parallax of 5’ 24“. Whether it really was that much will become apparent below, through a careful consideration of latitudes ^14. For there, the northern latitude, free from diurnal parallax (and if there is no refraction), would come out to be 1° 9’ 45“ north. And because the altitude of the nonagesimal is 26°, the longitudinal parallax15 at the horizon is 2’ 38“. But Mars is 40° from the nonagesimal, counting from 4° Scorpio to 24° Virgo, which, under the column  headed 2’ 38“ shows a true longitudinal parallax of 1...</td>\n",
       "      <td>The degree rising was 24° Sagittarius.</td>\n",
       "      <td>[[24° Sagittarius., LONG]]</td>\n",
       "      <td>NObs</td>\n",
       "    </tr>\n",
       "    <tr>\n",
       "      <td>812</td>\n",
       "      <td>15</td>\n",
       "      <td>354</td>\n",
       "      <td>1621</td>\n",
       "      <td>On the night following 1589 April 15 at 12h 5m, the planet was found at 3° 58’ 20“ Scorpio,13 with latitude 1° 4’ 20“ north, decreasing. Mars’s altitude was 22⅕°, where refraction from the table for the fixed stars was zero, and from the table for the sun, 3½’. But the parallax was about twice as great as the sun’s, that is, 6 minutes at the horizon. The degree rising was 24° Sagittarius. Therefore, the nonagesimal was 64° from the zenith, giving a diurnal latitudinal parallax of 5’ 24“. Whether it really was that much will become apparent below, through a careful consideration of latitudes ^14. For there, the northern latitude, free from diurnal parallax (and if there is no refraction), would come out to be 1° 9’ 45“ north. And because the altitude of the nonagesimal is 26°, the longitudinal parallax15 at the horizon is 2’ 38“. But Mars is 40° from the nonagesimal, counting from 4° Scorpio to 24° Virgo, which, under the column  headed 2’ 38“ shows a true longitudinal parallax of 1...</td>\n",
       "      <td>Therefore, the nonagesimal was 64° from the zenith, giving a diurnal latitudinal parallax of 5’ 24“.</td>\n",
       "      <td>[[nonagesimal, ASTR], [diurnal, ASTR], [parallax, ASTR], [5’ 24“, LONG]]</td>\n",
       "      <td>NObs</td>\n",
       "    </tr>\n",
       "  </tbody>\n",
       "</table>\n",
       "</div>"
      ],
      "text/plain": [
       "     Chapter  ParaIndex  SentIndex  \\\n",
       "808       15        354       1617   \n",
       "809       15        354       1618   \n",
       "810       15        354       1619   \n",
       "811       15        354       1620   \n",
       "812       15        354       1621   \n",
       "\n",
       "                                                                                                                                                                                                                                                                                                                                                                                                                                                                                                                                                                                                                                                                                                                                                                                                                                                                                                                                                                                                                                   Paragraph  \\\n",
       "808  On the night following 1589 April 15 at 12h 5m, the planet was found at 3° 58’ 20“ Scorpio,13 with latitude 1° 4’ 20“ north, decreasing. Mars’s altitude was 22⅕°, where refraction from the table for the fixed stars was zero, and from the table for the sun, 3½’. But the parallax was about twice as great as the sun’s, that is, 6 minutes at the horizon. The degree rising was 24° Sagittarius. Therefore, the nonagesimal was 64° from the zenith, giving a diurnal latitudinal parallax of 5’ 24“. Whether it really was that much will become apparent below, through a careful consideration of latitudes ^14. For there, the northern latitude, free from diurnal parallax (and if there is no refraction), would come out to be 1° 9’ 45“ north. And because the altitude of the nonagesimal is 26°, the longitudinal parallax15 at the horizon is 2’ 38“. But Mars is 40° from the nonagesimal, counting from 4° Scorpio to 24° Virgo, which, under the column  headed 2’ 38“ shows a true longitudinal parallax of 1...   \n",
       "809  On the night following 1589 April 15 at 12h 5m, the planet was found at 3° 58’ 20“ Scorpio,13 with latitude 1° 4’ 20“ north, decreasing. Mars’s altitude was 22⅕°, where refraction from the table for the fixed stars was zero, and from the table for the sun, 3½’. But the parallax was about twice as great as the sun’s, that is, 6 minutes at the horizon. The degree rising was 24° Sagittarius. Therefore, the nonagesimal was 64° from the zenith, giving a diurnal latitudinal parallax of 5’ 24“. Whether it really was that much will become apparent below, through a careful consideration of latitudes ^14. For there, the northern latitude, free from diurnal parallax (and if there is no refraction), would come out to be 1° 9’ 45“ north. And because the altitude of the nonagesimal is 26°, the longitudinal parallax15 at the horizon is 2’ 38“. But Mars is 40° from the nonagesimal, counting from 4° Scorpio to 24° Virgo, which, under the column  headed 2’ 38“ shows a true longitudinal parallax of 1...   \n",
       "810  On the night following 1589 April 15 at 12h 5m, the planet was found at 3° 58’ 20“ Scorpio,13 with latitude 1° 4’ 20“ north, decreasing. Mars’s altitude was 22⅕°, where refraction from the table for the fixed stars was zero, and from the table for the sun, 3½’. But the parallax was about twice as great as the sun’s, that is, 6 minutes at the horizon. The degree rising was 24° Sagittarius. Therefore, the nonagesimal was 64° from the zenith, giving a diurnal latitudinal parallax of 5’ 24“. Whether it really was that much will become apparent below, through a careful consideration of latitudes ^14. For there, the northern latitude, free from diurnal parallax (and if there is no refraction), would come out to be 1° 9’ 45“ north. And because the altitude of the nonagesimal is 26°, the longitudinal parallax15 at the horizon is 2’ 38“. But Mars is 40° from the nonagesimal, counting from 4° Scorpio to 24° Virgo, which, under the column  headed 2’ 38“ shows a true longitudinal parallax of 1...   \n",
       "811  On the night following 1589 April 15 at 12h 5m, the planet was found at 3° 58’ 20“ Scorpio,13 with latitude 1° 4’ 20“ north, decreasing. Mars’s altitude was 22⅕°, where refraction from the table for the fixed stars was zero, and from the table for the sun, 3½’. But the parallax was about twice as great as the sun’s, that is, 6 minutes at the horizon. The degree rising was 24° Sagittarius. Therefore, the nonagesimal was 64° from the zenith, giving a diurnal latitudinal parallax of 5’ 24“. Whether it really was that much will become apparent below, through a careful consideration of latitudes ^14. For there, the northern latitude, free from diurnal parallax (and if there is no refraction), would come out to be 1° 9’ 45“ north. And because the altitude of the nonagesimal is 26°, the longitudinal parallax15 at the horizon is 2’ 38“. But Mars is 40° from the nonagesimal, counting from 4° Scorpio to 24° Virgo, which, under the column  headed 2’ 38“ shows a true longitudinal parallax of 1...   \n",
       "812  On the night following 1589 April 15 at 12h 5m, the planet was found at 3° 58’ 20“ Scorpio,13 with latitude 1° 4’ 20“ north, decreasing. Mars’s altitude was 22⅕°, where refraction from the table for the fixed stars was zero, and from the table for the sun, 3½’. But the parallax was about twice as great as the sun’s, that is, 6 minutes at the horizon. The degree rising was 24° Sagittarius. Therefore, the nonagesimal was 64° from the zenith, giving a diurnal latitudinal parallax of 5’ 24“. Whether it really was that much will become apparent below, through a careful consideration of latitudes ^14. For there, the northern latitude, free from diurnal parallax (and if there is no refraction), would come out to be 1° 9’ 45“ north. And because the altitude of the nonagesimal is 26°, the longitudinal parallax15 at the horizon is 2’ 38“. But Mars is 40° from the nonagesimal, counting from 4° Scorpio to 24° Virgo, which, under the column  headed 2’ 38“ shows a true longitudinal parallax of 1...   \n",
       "\n",
       "                                                                                                                                     Sentence  \\\n",
       "808  On the night following 1589 April 15 at 12h 5m, the planet was found at 3° 58’ 20“ Scorpio,13 with latitude 1° 4’ 20“ north, decreasing.   \n",
       "809              Mars’s altitude was 22⅕°, where refraction from the table for the fixed stars was zero, and from the table for the sun, 3½’.   \n",
       "810                                                But the parallax was about twice as great as the sun’s, that is, 6 minutes at the horizon.   \n",
       "811                                                                                                    The degree rising was 24° Sagittarius.   \n",
       "812                                      Therefore, the nonagesimal was 64° from the zenith, giving a diurnal latitudinal parallax of 5’ 24“.   \n",
       "\n",
       "                                                                                                                       Entities  \\\n",
       "808  [[1589 April 15, DATE], [12h 5m, TIME], [3° 58’ 20“ Scorpio,13, LONG], [latitude, ASTR], [1° 4’ 20“, LONG], [north, ASTR]]   \n",
       "809                                                                        [[Mars, PLAN], [altitude, ASTR], [refraction, ASTR]]   \n",
       "810                                                                                                          [[parallax, ASTR]]   \n",
       "811                                                                                                  [[24° Sagittarius., LONG]]   \n",
       "812                                                    [[nonagesimal, ASTR], [diurnal, ASTR], [parallax, ASTR], [5’ 24“, LONG]]   \n",
       "\n",
       "    Label  \n",
       "808   Obs  \n",
       "809  NObs  \n",
       "810  NObs  \n",
       "811  NObs  \n",
       "812  NObs  "
      ]
     },
     "execution_count": 424,
     "metadata": {},
     "output_type": "execute_result"
    }
   ],
   "source": [
    "df[808:813]"
   ]
  },
  {
   "cell_type": "markdown",
   "metadata": {},
   "source": [
    " Sample of the last sentences of the book in the dataframe format "
   ]
  },
  {
   "cell_type": "code",
   "execution_count": 370,
   "metadata": {},
   "outputs": [
    {
     "data": {
      "text/html": [
       "<div>\n",
       "<style scoped>\n",
       "    .dataframe tbody tr th:only-of-type {\n",
       "        vertical-align: middle;\n",
       "    }\n",
       "\n",
       "    .dataframe tbody tr th {\n",
       "        vertical-align: top;\n",
       "    }\n",
       "\n",
       "    .dataframe thead th {\n",
       "        text-align: right;\n",
       "    }\n",
       "</style>\n",
       "<table border=\"1\" class=\"dataframe\">\n",
       "  <thead>\n",
       "    <tr style=\"text-align: right;\">\n",
       "      <th></th>\n",
       "      <th>Chapter</th>\n",
       "      <th>ParaIndex</th>\n",
       "      <th>SentIndex</th>\n",
       "      <th>Paragraph</th>\n",
       "      <th>Sentence</th>\n",
       "      <th>Entities</th>\n",
       "      <th>Label</th>\n",
       "    </tr>\n",
       "  </thead>\n",
       "  <tbody>\n",
       "    <tr>\n",
       "      <td>1519</td>\n",
       "      <td>21</td>\n",
       "      <td>482</td>\n",
       "      <td>2328</td>\n",
       "      <td>Up to the present, the hypothesis accounting for the first inequality (in which Brahe and Copernicus are in agreement, both differing somewhat in form from Ptolemy) has been presented using the sun's mean motion, which all three authors had substituted for the sun's apparent motion. Thereafter, it was shown that whether we follow the sun's apparent motion and the hypothesis found in Ch. 16, or the sun's mean motion and the hypothesis proposed in Ch. 8 according to Brahe's revision, in both instances there result false distances of the planet from the center, whether of the sun (for Copernicus and Brahe) or of the world (for Ptolemy). Consequently, what we had previously constructed from the Brahean observations we have later in turn destroyed using other observations of his. This was the necessary consequence of our having followed (in imitation of previous theorists) several things that were plausible but really false.</td>\n",
       "      <td>16, or the sun's mean motion and the hypothesis proposed in Ch.</td>\n",
       "      <td>[]</td>\n",
       "      <td>NObs</td>\n",
       "    </tr>\n",
       "    <tr>\n",
       "      <td>1520</td>\n",
       "      <td>21</td>\n",
       "      <td>482</td>\n",
       "      <td>2329</td>\n",
       "      <td>Up to the present, the hypothesis accounting for the first inequality (in which Brahe and Copernicus are in agreement, both differing somewhat in form from Ptolemy) has been presented using the sun's mean motion, which all three authors had substituted for the sun's apparent motion. Thereafter, it was shown that whether we follow the sun's apparent motion and the hypothesis found in Ch. 16, or the sun's mean motion and the hypothesis proposed in Ch. 8 according to Brahe's revision, in both instances there result false distances of the planet from the center, whether of the sun (for Copernicus and Brahe) or of the world (for Ptolemy). Consequently, what we had previously constructed from the Brahean observations we have later in turn destroyed using other observations of his. This was the necessary consequence of our having followed (in imitation of previous theorists) several things that were plausible but really false.</td>\n",
       "      <td>8 according to Brahe's revision, in both instances there result false distances of the planet from the center, whether of the sun (for Copernicus and Brahe) or of the world (for Ptolemy).</td>\n",
       "      <td>[[Copernicus, NAME]]</td>\n",
       "      <td>NObs</td>\n",
       "    </tr>\n",
       "    <tr>\n",
       "      <td>1521</td>\n",
       "      <td>21</td>\n",
       "      <td>482</td>\n",
       "      <td>2330</td>\n",
       "      <td>Up to the present, the hypothesis accounting for the first inequality (in which Brahe and Copernicus are in agreement, both differing somewhat in form from Ptolemy) has been presented using the sun's mean motion, which all three authors had substituted for the sun's apparent motion. Thereafter, it was shown that whether we follow the sun's apparent motion and the hypothesis found in Ch. 16, or the sun's mean motion and the hypothesis proposed in Ch. 8 according to Brahe's revision, in both instances there result false distances of the planet from the center, whether of the sun (for Copernicus and Brahe) or of the world (for Ptolemy). Consequently, what we had previously constructed from the Brahean observations we have later in turn destroyed using other observations of his. This was the necessary consequence of our having followed (in imitation of previous theorists) several things that were plausible but really false.</td>\n",
       "      <td>Consequently, what we had previously constructed from the Brahean observations we have later in turn destroyed using other observations of his.</td>\n",
       "      <td>[[Brahean, NAME]]</td>\n",
       "      <td>NObs</td>\n",
       "    </tr>\n",
       "    <tr>\n",
       "      <td>1522</td>\n",
       "      <td>21</td>\n",
       "      <td>482</td>\n",
       "      <td>2331</td>\n",
       "      <td>Up to the present, the hypothesis accounting for the first inequality (in which Brahe and Copernicus are in agreement, both differing somewhat in form from Ptolemy) has been presented using the sun's mean motion, which all three authors had substituted for the sun's apparent motion. Thereafter, it was shown that whether we follow the sun's apparent motion and the hypothesis found in Ch. 16, or the sun's mean motion and the hypothesis proposed in Ch. 8 according to Brahe's revision, in both instances there result false distances of the planet from the center, whether of the sun (for Copernicus and Brahe) or of the world (for Ptolemy). Consequently, what we had previously constructed from the Brahean observations we have later in turn destroyed using other observations of his. This was the necessary consequence of our having followed (in imitation of previous theorists) several things that were plausible but really false.</td>\n",
       "      <td>This was the necessary consequence of our having followed (in imitation of previous theorists) several things that were plausible but really false.</td>\n",
       "      <td>[]</td>\n",
       "      <td>NObs</td>\n",
       "    </tr>\n",
       "    <tr>\n",
       "      <td>1523</td>\n",
       "      <td>21</td>\n",
       "      <td>483</td>\n",
       "      <td>2332</td>\n",
       "      <td>And this much of the work is dedicated to this imitation of previous theorists, with which I am concluding this second part of the Commentaries.</td>\n",
       "      <td>And this much of the work is dedicated to this imitation of previous theorists, with which I am concluding this second part of the Commentaries.</td>\n",
       "      <td>[]</td>\n",
       "      <td>NObs</td>\n",
       "    </tr>\n",
       "  </tbody>\n",
       "</table>\n",
       "</div>"
      ],
      "text/plain": [
       "      Chapter  ParaIndex  SentIndex  \\\n",
       "1519       21        482       2328   \n",
       "1520       21        482       2329   \n",
       "1521       21        482       2330   \n",
       "1522       21        482       2331   \n",
       "1523       21        483       2332   \n",
       "\n",
       "                                                                                                                                                                                                                                                                                                                                                                                                                                                                                                                                                                                                                                                                                                                                                                                                                                                                                                                                                                  Paragraph  \\\n",
       "1519  Up to the present, the hypothesis accounting for the first inequality (in which Brahe and Copernicus are in agreement, both differing somewhat in form from Ptolemy) has been presented using the sun's mean motion, which all three authors had substituted for the sun's apparent motion. Thereafter, it was shown that whether we follow the sun's apparent motion and the hypothesis found in Ch. 16, or the sun's mean motion and the hypothesis proposed in Ch. 8 according to Brahe's revision, in both instances there result false distances of the planet from the center, whether of the sun (for Copernicus and Brahe) or of the world (for Ptolemy). Consequently, what we had previously constructed from the Brahean observations we have later in turn destroyed using other observations of his. This was the necessary consequence of our having followed (in imitation of previous theorists) several things that were plausible but really false.   \n",
       "1520  Up to the present, the hypothesis accounting for the first inequality (in which Brahe and Copernicus are in agreement, both differing somewhat in form from Ptolemy) has been presented using the sun's mean motion, which all three authors had substituted for the sun's apparent motion. Thereafter, it was shown that whether we follow the sun's apparent motion and the hypothesis found in Ch. 16, or the sun's mean motion and the hypothesis proposed in Ch. 8 according to Brahe's revision, in both instances there result false distances of the planet from the center, whether of the sun (for Copernicus and Brahe) or of the world (for Ptolemy). Consequently, what we had previously constructed from the Brahean observations we have later in turn destroyed using other observations of his. This was the necessary consequence of our having followed (in imitation of previous theorists) several things that were plausible but really false.   \n",
       "1521  Up to the present, the hypothesis accounting for the first inequality (in which Brahe and Copernicus are in agreement, both differing somewhat in form from Ptolemy) has been presented using the sun's mean motion, which all three authors had substituted for the sun's apparent motion. Thereafter, it was shown that whether we follow the sun's apparent motion and the hypothesis found in Ch. 16, or the sun's mean motion and the hypothesis proposed in Ch. 8 according to Brahe's revision, in both instances there result false distances of the planet from the center, whether of the sun (for Copernicus and Brahe) or of the world (for Ptolemy). Consequently, what we had previously constructed from the Brahean observations we have later in turn destroyed using other observations of his. This was the necessary consequence of our having followed (in imitation of previous theorists) several things that were plausible but really false.   \n",
       "1522  Up to the present, the hypothesis accounting for the first inequality (in which Brahe and Copernicus are in agreement, both differing somewhat in form from Ptolemy) has been presented using the sun's mean motion, which all three authors had substituted for the sun's apparent motion. Thereafter, it was shown that whether we follow the sun's apparent motion and the hypothesis found in Ch. 16, or the sun's mean motion and the hypothesis proposed in Ch. 8 according to Brahe's revision, in both instances there result false distances of the planet from the center, whether of the sun (for Copernicus and Brahe) or of the world (for Ptolemy). Consequently, what we had previously constructed from the Brahean observations we have later in turn destroyed using other observations of his. This was the necessary consequence of our having followed (in imitation of previous theorists) several things that were plausible but really false.   \n",
       "1523                                                                                                                                                                                                                                                                                                                                                                                                                                                                                                                                                                                                                                                                                                                                                                                                                       And this much of the work is dedicated to this imitation of previous theorists, with which I am concluding this second part of the Commentaries.   \n",
       "\n",
       "                                                                                                                                                                                         Sentence  \\\n",
       "1519                                                                                                                              16, or the sun's mean motion and the hypothesis proposed in Ch.   \n",
       "1520  8 according to Brahe's revision, in both instances there result false distances of the planet from the center, whether of the sun (for Copernicus and Brahe) or of the world (for Ptolemy).   \n",
       "1521                                              Consequently, what we had previously constructed from the Brahean observations we have later in turn destroyed using other observations of his.   \n",
       "1522                                          This was the necessary consequence of our having followed (in imitation of previous theorists) several things that were plausible but really false.   \n",
       "1523                                             And this much of the work is dedicated to this imitation of previous theorists, with which I am concluding this second part of the Commentaries.   \n",
       "\n",
       "                  Entities Label  \n",
       "1519                    []  NObs  \n",
       "1520  [[Copernicus, NAME]]  NObs  \n",
       "1521     [[Brahean, NAME]]  NObs  \n",
       "1522                    []  NObs  \n",
       "1523                    []  NObs  "
      ]
     },
     "execution_count": 370,
     "metadata": {},
     "output_type": "execute_result"
    }
   ],
   "source": [
    "df.tail()"
   ]
  },
  {
   "cell_type": "code",
   "execution_count": 425,
   "metadata": {},
   "outputs": [],
   "source": [
    "mapping = {\"Obs\":1, \"NObs\":0}\n",
    "df=df.replace({'Label':mapping});"
   ]
  },
  {
   "cell_type": "markdown",
   "metadata": {},
   "source": [
    "# Distribution of explicit observational sentences "
   ]
  },
  {
   "cell_type": "markdown",
   "metadata": {},
   "source": [
    "here we extract the explicit observational sentences using custom Name Entity Recognition that we provided using deep learning. We can see the sentences in the corresponding paragraph. As you see we integrated data with such contributes as follows:\n",
    "\n",
    "- **Chapter**\n",
    "- **ParaIndex**\n",
    "- **SentIndex** \n",
    "- **Paragraph**\n",
    "- **Sentence** \n",
    "- **Entities**\n",
    "- **Label**"
   ]
  },
  {
   "cell_type": "code",
   "execution_count": 426,
   "metadata": {},
   "outputs": [],
   "source": [
    "df_obs=df[df.Label==1]"
   ]
  },
  {
   "cell_type": "code",
   "execution_count": 427,
   "metadata": {},
   "outputs": [
    {
     "data": {
      "text/plain": [
       "{10, 11, 12, 13, 15}"
      ]
     },
     "execution_count": 427,
     "metadata": {},
     "output_type": "execute_result"
    }
   ],
   "source": [
    "dfChobs=set(df_obs[\"Chapter\"])\n",
    "dfChobs"
   ]
  },
  {
   "cell_type": "markdown",
   "metadata": {},
   "source": [
    "# Data preparation for visualization"
   ]
  },
  {
   "cell_type": "code",
   "execution_count": 374,
   "metadata": {},
   "outputs": [],
   "source": [
    "a=[]\n",
    "for i in  dfChobs:\n",
    "    Obch=df_obs[df_obs.Chapter == i].shape[0]\n",
    "    a.append(Obch)"
   ]
  },
  {
   "cell_type": "markdown",
   "metadata": {},
   "source": [
    "## Distribution of explicit observational Sentences"
   ]
  },
  {
   "cell_type": "code",
   "execution_count": 375,
   "metadata": {},
   "outputs": [
    {
     "data": {
      "text/plain": [
       "Text(0.5, 1.0, 'Distribution of observation over different chapters')"
      ]
     },
     "execution_count": 375,
     "metadata": {},
     "output_type": "execute_result"
    },
    {
     "data": {
      "image/png": "[encoded data removed]",
      "text/plain": [
       "<Figure size 432x288 with 1 Axes>"
      ]
     },
     "metadata": {
      "needs_background": "light"
     },
     "output_type": "display_data"
    }
   ],
   "source": [
    "plt.bar(list(dfChobs),a,color=\"r\",align='edge', width=.8)\n",
    "plt.title(\"Distribution of observation over different chapters\")\n"
   ]
  },
  {
   "cell_type": "code",
   "execution_count": 376,
   "metadata": {},
   "outputs": [],
   "source": [
    "X=list(df[\"Sentence\"])\n",
    "y=np.array(list(df[\"Label\"]))"
   ]
  },
  {
   "cell_type": "code",
   "execution_count": 377,
   "metadata": {},
   "outputs": [],
   "source": [
    "from collections import Counter\n",
    "category=Counter(y)\n",
    "count=dict(category)"
   ]
  },
  {
   "cell_type": "code",
   "execution_count": 378,
   "metadata": {},
   "outputs": [
    {
     "data": {
      "text/plain": [
       "{0: 1487, 1: 37}"
      ]
     },
     "execution_count": 378,
     "metadata": {},
     "output_type": "execute_result"
    }
   ],
   "source": [
    "count"
   ]
  },
  {
   "cell_type": "code",
   "execution_count": 379,
   "metadata": {},
   "outputs": [
    {
     "data": {
      "text/plain": [
       "Text(0.5, 1.0, 'Distribution of samples over different classes')"
      ]
     },
     "execution_count": 379,
     "metadata": {},
     "output_type": "execute_result"
    },
    {
     "data": {
      "image/png": "[encoded data removed]",
      "text/plain": [
       "<Figure size 432x288 with 1 Axes>"
      ]
     },
     "metadata": {
      "needs_background": "light"
     },
     "output_type": "display_data"
    }
   ],
   "source": [
    "plt.bar(list(count.keys()),count.values(),color=\"r\",width=.4,tick_label=[\"1\",\"0\"])\n",
    "plt.title(\"Distribution of samples over different classes\")\n"
   ]
  },
  {
   "cell_type": "code",
   "execution_count": 380,
   "metadata": {},
   "outputs": [],
   "source": [
    "from sklearn.feature_extraction.text import CountVectorizer,HashingVectorizer\n",
    "from sklearn.feature_extraction.text import TfidfTransformer,TfidfVectorizer\n",
    "from sklearn.feature_selection import SelectKBest,chi2\n",
    "from sklearn.linear_model import SGDClassifier, LogisticRegression,LogisticRegressionCV\n",
    "from sklearn.naive_bayes import MultinomialNB\n",
    "from sklearn.ensemble import RandomForestClassifier\n",
    "from sklearn.pipeline import Pipeline\n",
    "from sklearn.decomposition import TruncatedSVD\n",
    "from sklearn.svm import SVC,LinearSVC\n",
    "from sklearn.utils import shuffle\n",
    "from sklearn.model_selection import train_test_split\n",
    "from sklearn.neighbors import NearestNeighbors\n",
    "#from xgboost import XGBClassifier"
   ]
  },
  {
   "cell_type": "markdown",
   "metadata": {},
   "source": [
    "## Models"
   ]
  },
  {
   "cell_type": "code",
   "execution_count": 381,
   "metadata": {},
   "outputs": [],
   "source": [
    "vec=TfidfVectorizer()\n",
    "clf= SGDClassifier()\n",
    "trial_05=Pipeline([(\"vect\",vec),(\"clf\",clf)])\n",
    "#####################################################\n",
    "## 02-XGBClassifier\n",
    "\n",
    "#trial_02 = Pipeline([('vect', CountVectorizer(stop_words='english')),\n",
    "                     #('clf', XGBClassifier())])\n"
   ]
  },
  {
   "cell_type": "code",
   "execution_count": 382,
   "metadata": {},
   "outputs": [
    {
     "data": {
      "text/plain": [
       "Pipeline(memory=None,\n",
       "         steps=[('vect',\n",
       "                 TfidfVectorizer(analyzer='word', binary=False,\n",
       "                                 decode_error='strict',\n",
       "                                 dtype=<class 'numpy.float64'>,\n",
       "                                 encoding='utf-8', input='content',\n",
       "                                 lowercase=True, max_df=1.0, max_features=None,\n",
       "                                 min_df=1, ngram_range=(1, 1), norm='l2',\n",
       "                                 preprocessor=None, smooth_idf=True,\n",
       "                                 stop_words=None, strip_accents=None,\n",
       "                                 sublinear_tf=False,\n",
       "                                 token_pattern='(...\n",
       "                 SGDClassifier(alpha=0.0001, average=False, class_weight=None,\n",
       "                               early_stopping=False, epsilon=0.1, eta0=0.0,\n",
       "                               fit_intercept=True, l1_ratio=0.15,\n",
       "                               learning_rate='optimal', loss='hinge',\n",
       "                               max_iter=1000, n_iter_no_change=5, n_jobs=None,\n",
       "                               penalty='l2', power_t=0.5, random_state=None,\n",
       "                               shuffle=True, tol=0.001, validation_fraction=0.1,\n",
       "                               verbose=0, warm_start=False))],\n",
       "         verbose=False)"
      ]
     },
     "execution_count": 382,
     "metadata": {},
     "output_type": "execute_result"
    }
   ],
   "source": [
    "trial_05"
   ]
  },
  {
   "cell_type": "markdown",
   "metadata": {},
   "source": [
    "# Extract explicit observational sentences using custom NER in the paragraph"
   ]
  },
  {
   "cell_type": "code",
   "execution_count": 383,
   "metadata": {},
   "outputs": [],
   "source": [
    "X_Obs=df.loc[df.Label==1]\n",
    "X_Obs=X_Obs[[\"Sentence\",\"Paragraph\"]]\n"
   ]
  },
  {
   "cell_type": "code",
   "execution_count": 384,
   "metadata": {},
   "outputs": [],
   "source": [
    "def ShowObsPara(a=1):\n",
    "    return X_Obs.head(a)\n"
   ]
  },
  {
   "cell_type": "code",
   "execution_count": 385,
   "metadata": {},
   "outputs": [
    {
     "data": {
      "application/vnd.jupyter.widget-view+json": {
       "model_id": "2422c583f1ea46868f2403dd0dde6cd0",
       "version_major": 2,
       "version_minor": 0
      },
      "text/plain": [
       "interactive(children=(IntSlider(value=1, description='a', max=50, min=1), Output()), _dom_classes=('widget-int…"
      ]
     },
     "metadata": {},
     "output_type": "display_data"
    }
   ],
   "source": [
    "interact(ShowObsPara,a=(1,50));"
   ]
  },
  {
   "cell_type": "code",
   "execution_count": 386,
   "metadata": {},
   "outputs": [],
   "source": [
    "Y_Obs=df.loc[df.Label==1]\n",
    "Y_Obs=Y_Obs.Label\n",
    "Y_Obs=list(Y_Obs)\n",
    "NumberObs=len(Y_Obs)"
   ]
  },
  {
   "cell_type": "markdown",
   "metadata": {},
   "source": [
    "# Non-observational sentences  in the pragraph"
   ]
  },
  {
   "cell_type": "code",
   "execution_count": 387,
   "metadata": {},
   "outputs": [],
   "source": [
    "X_NObs=df.loc[df.Label==0]\n",
    "X_NObs=X_NObs[[\"Sentence\",\"Paragraph\"]]"
   ]
  },
  {
   "cell_type": "code",
   "execution_count": 388,
   "metadata": {},
   "outputs": [
    {
     "data": {
      "text/html": [
       "<div>\n",
       "<style scoped>\n",
       "    .dataframe tbody tr th:only-of-type {\n",
       "        vertical-align: middle;\n",
       "    }\n",
       "\n",
       "    .dataframe tbody tr th {\n",
       "        vertical-align: top;\n",
       "    }\n",
       "\n",
       "    .dataframe thead th {\n",
       "        text-align: right;\n",
       "    }\n",
       "</style>\n",
       "<table border=\"1\" class=\"dataframe\">\n",
       "  <thead>\n",
       "    <tr style=\"text-align: right;\">\n",
       "      <th></th>\n",
       "      <th>Sentence</th>\n",
       "      <th>Paragraph</th>\n",
       "    </tr>\n",
       "  </thead>\n",
       "  <tbody>\n",
       "    <tr>\n",
       "      <td>0</td>\n",
       "      <td>Chapter 7</td>\n",
       "      <td>Chapter 7</td>\n",
       "    </tr>\n",
       "    <tr>\n",
       "      <td>1</td>\n",
       "      <td>The circumstances under which I happened upon the theory of Mars.</td>\n",
       "      <td>The circumstances under which I happened upon the theory of Mars.</td>\n",
       "    </tr>\n",
       "    <tr>\n",
       "      <td>2</td>\n",
       "      <td>It is true that a divine voice, which enjoins humans to study astronomy, is expressed in the world itself, not in words or syllables, but in things themselves and in the conformity of the human intellect and senses with the sequence of celestial bodies and of their dispositions.</td>\n",
       "      <td>It is true that a divine voice, which enjoins humans to study astronomy, is expressed in the world itself, not in words or syllables, but in things themselves and in the conformity of the human intellect and senses with the sequence of celestial bodies and of their dispositions. Nevertheless, a kind of fate also invisibly drives different individuals to take up different arts, and makes them certain that, just as they are a part of the work of creation, they likewise also partake to some extent in divine providence.</td>\n",
       "    </tr>\n",
       "    <tr>\n",
       "      <td>3</td>\n",
       "      <td>Nevertheless, a kind of fate also invisibly drives different individuals to take up different arts, and makes them certain that, just as they are a part of the work of creation, they likewise also partake to some extent in divine providence.</td>\n",
       "      <td>It is true that a divine voice, which enjoins humans to study astronomy, is expressed in the world itself, not in words or syllables, but in things themselves and in the conformity of the human intellect and senses with the sequence of celestial bodies and of their dispositions. Nevertheless, a kind of fate also invisibly drives different individuals to take up different arts, and makes them certain that, just as they are a part of the work of creation, they likewise also partake to some extent in divine providence.</td>\n",
       "    </tr>\n",
       "    <tr>\n",
       "      <td>4</td>\n",
       "      <td>When, in my early years, I was able to taste the sweetness of philosophy, I embraced the whole of it with an overwhelming desire, and with practically no special concern about astronomy.</td>\n",
       "      <td>When, in my early years, I was able to taste the sweetness of philosophy, I embraced the whole of it with an overwhelming desire, and with practically no special concern about astronomy. I certainly had enough intelligence, nor did I have any difficulty understanding the geometrical and astronomical topics included in the normal curriculum, aided as I was by figures, numbers, and proportions. These were, however, required courses, nothing that would bespeak an exceptional inclination towards astronomy. And since I was supported at the expense of the Duke of Württemberg, and saw my comrades, whom the Prince, upon request, kept trying to send to foreign countries, stalling in various ways out of love for their country, I, being hardier, quite maturely agreed with myself that whithersoever I was destined I would promptly go.</td>\n",
       "    </tr>\n",
       "    <tr>\n",
       "      <td>5</td>\n",
       "      <td>I certainly had enough intelligence, nor did I have any difficulty understanding the geometrical and astronomical topics included in the normal curriculum, aided as I was by figures, numbers, and proportions.</td>\n",
       "      <td>When, in my early years, I was able to taste the sweetness of philosophy, I embraced the whole of it with an overwhelming desire, and with practically no special concern about astronomy. I certainly had enough intelligence, nor did I have any difficulty understanding the geometrical and astronomical topics included in the normal curriculum, aided as I was by figures, numbers, and proportions. These were, however, required courses, nothing that would bespeak an exceptional inclination towards astronomy. And since I was supported at the expense of the Duke of Württemberg, and saw my comrades, whom the Prince, upon request, kept trying to send to foreign countries, stalling in various ways out of love for their country, I, being hardier, quite maturely agreed with myself that whithersoever I was destined I would promptly go.</td>\n",
       "    </tr>\n",
       "    <tr>\n",
       "      <td>6</td>\n",
       "      <td>These were, however, required courses, nothing that would bespeak an exceptional inclination towards astronomy.</td>\n",
       "      <td>When, in my early years, I was able to taste the sweetness of philosophy, I embraced the whole of it with an overwhelming desire, and with practically no special concern about astronomy. I certainly had enough intelligence, nor did I have any difficulty understanding the geometrical and astronomical topics included in the normal curriculum, aided as I was by figures, numbers, and proportions. These were, however, required courses, nothing that would bespeak an exceptional inclination towards astronomy. And since I was supported at the expense of the Duke of Württemberg, and saw my comrades, whom the Prince, upon request, kept trying to send to foreign countries, stalling in various ways out of love for their country, I, being hardier, quite maturely agreed with myself that whithersoever I was destined I would promptly go.</td>\n",
       "    </tr>\n",
       "    <tr>\n",
       "      <td>7</td>\n",
       "      <td>And since I was supported at the expense of the Duke of Württemberg, and saw my comrades, whom the Prince, upon request, kept trying to send to foreign countries, stalling in various ways out of love for their country, I, being hardier, quite maturely agreed with myself that whithersoever I was destined I would promptly go.</td>\n",
       "      <td>When, in my early years, I was able to taste the sweetness of philosophy, I embraced the whole of it with an overwhelming desire, and with practically no special concern about astronomy. I certainly had enough intelligence, nor did I have any difficulty understanding the geometrical and astronomical topics included in the normal curriculum, aided as I was by figures, numbers, and proportions. These were, however, required courses, nothing that would bespeak an exceptional inclination towards astronomy. And since I was supported at the expense of the Duke of Württemberg, and saw my comrades, whom the Prince, upon request, kept trying to send to foreign countries, stalling in various ways out of love for their country, I, being hardier, quite maturely agreed with myself that whithersoever I was destined I would promptly go.</td>\n",
       "    </tr>\n",
       "    <tr>\n",
       "      <td>8</td>\n",
       "      <td>The first to offer itself was an astronomical position; however, to tell the truth, I was driven forth to take it by the authority of my teachers.</td>\n",
       "      <td>The first to offer itself was an astronomical position; however, to tell the truth, I was driven forth to take it by the authority of my teachers. I was not frightened by the distance of the place, for (as I have just said) I had condemned this fear in others, but by the low opinion and contempt in which this kind of function is held, and the sparsity of erudition in this part of philosophy. I therefore entered upon this better furnished with wits than with knowledge, protesting loudly that I by no means gave over my right to follow another kind of life which seemed more splendid ^1. What came of those first two years of study may be seen in my Mysterium cosmographicum. The additional goads which my teacher Maestlin gave me towards embracing the rest of astronomy, you will read of in the same book, and in that man’s prefatory letter to Rheticus’s Narratio ^2. I had the very highest opinion of what I discovered there, and all the more so when I saw that Maestlin, too, held it in sim...</td>\n",
       "    </tr>\n",
       "    <tr>\n",
       "      <td>9</td>\n",
       "      <td>I was not frightened by the distance of the place, for (as I have just said) I had condemned this fear in others, but by the low opinion and contempt in which this kind of function is held, and the sparsity of erudition in this part of philosophy.</td>\n",
       "      <td>The first to offer itself was an astronomical position; however, to tell the truth, I was driven forth to take it by the authority of my teachers. I was not frightened by the distance of the place, for (as I have just said) I had condemned this fear in others, but by the low opinion and contempt in which this kind of function is held, and the sparsity of erudition in this part of philosophy. I therefore entered upon this better furnished with wits than with knowledge, protesting loudly that I by no means gave over my right to follow another kind of life which seemed more splendid ^1. What came of those first two years of study may be seen in my Mysterium cosmographicum. The additional goads which my teacher Maestlin gave me towards embracing the rest of astronomy, you will read of in the same book, and in that man’s prefatory letter to Rheticus’s Narratio ^2. I had the very highest opinion of what I discovered there, and all the more so when I saw that Maestlin, too, held it in sim...</td>\n",
       "    </tr>\n",
       "  </tbody>\n",
       "</table>\n",
       "</div>"
      ],
      "text/plain": [
       "                                                                                                                                                                                                                                                                                                                                Sentence  \\\n",
       "0                                                                                                                                                                                                                                                                                                                              Chapter 7   \n",
       "1                                                                                                                                                                                                                                                                      The circumstances under which I happened upon the theory of Mars.   \n",
       "2                                                It is true that a divine voice, which enjoins humans to study astronomy, is expressed in the world itself, not in words or syllables, but in things themselves and in the conformity of the human intellect and senses with the sequence of celestial bodies and of their dispositions.   \n",
       "3                                                                                      Nevertheless, a kind of fate also invisibly drives different individuals to take up different arts, and makes them certain that, just as they are a part of the work of creation, they likewise also partake to some extent in divine providence.   \n",
       "4                                                                                                                                             When, in my early years, I was able to taste the sweetness of philosophy, I embraced the whole of it with an overwhelming desire, and with practically no special concern about astronomy.   \n",
       "5                                                                                                                       I certainly had enough intelligence, nor did I have any difficulty understanding the geometrical and astronomical topics included in the normal curriculum, aided as I was by figures, numbers, and proportions.   \n",
       "6                                                                                                                                                                                                                        These were, however, required courses, nothing that would bespeak an exceptional inclination towards astronomy.   \n",
       "7  And since I was supported at the expense of the Duke of Württemberg, and saw my comrades, whom the Prince, upon request, kept trying to send to foreign countries, stalling in various ways out of love for their country, I, being hardier, quite maturely agreed with myself that whithersoever I was destined I would promptly go.   \n",
       "8                                                                                                                                                                                     The first to offer itself was an astronomical position; however, to tell the truth, I was driven forth to take it by the authority of my teachers.   \n",
       "9                                                                                I was not frightened by the distance of the place, for (as I have just said) I had condemned this fear in others, but by the low opinion and contempt in which this kind of function is held, and the sparsity of erudition in this part of philosophy.   \n",
       "\n",
       "                                                                                                                                                                                                                                                                                                                                                                                                                                                                                                                                                                                                                                                                                                                                                                                                                                                                                                                                                                                                                                 Paragraph  \n",
       "0                                                                                                                                                                                                                                                                                                                                                                                                                                                                                                                                                                                                                                                                                                                                                                                                                                                                                                                                                                                                                               Chapter 7   \n",
       "1                                                                                                                                                                                                                                                                                                                                                                                                                                                                                                                                                                                                                                                                                                                                                                                                                                                                                                                                                                        The circumstances under which I happened upon the theory of Mars.  \n",
       "2                                                                                                                                                                                                                                                                                                                                                                                                                                                                                                It is true that a divine voice, which enjoins humans to study astronomy, is expressed in the world itself, not in words or syllables, but in things themselves and in the conformity of the human intellect and senses with the sequence of celestial bodies and of their dispositions. Nevertheless, a kind of fate also invisibly drives different individuals to take up different arts, and makes them certain that, just as they are a part of the work of creation, they likewise also partake to some extent in divine providence.  \n",
       "3                                                                                                                                                                                                                                                                                                                                                                                                                                                                                                It is true that a divine voice, which enjoins humans to study astronomy, is expressed in the world itself, not in words or syllables, but in things themselves and in the conformity of the human intellect and senses with the sequence of celestial bodies and of their dispositions. Nevertheless, a kind of fate also invisibly drives different individuals to take up different arts, and makes them certain that, just as they are a part of the work of creation, they likewise also partake to some extent in divine providence.  \n",
       "4                                                                                                                                                                        When, in my early years, I was able to taste the sweetness of philosophy, I embraced the whole of it with an overwhelming desire, and with practically no special concern about astronomy. I certainly had enough intelligence, nor did I have any difficulty understanding the geometrical and astronomical topics included in the normal curriculum, aided as I was by figures, numbers, and proportions. These were, however, required courses, nothing that would bespeak an exceptional inclination towards astronomy. And since I was supported at the expense of the Duke of Württemberg, and saw my comrades, whom the Prince, upon request, kept trying to send to foreign countries, stalling in various ways out of love for their country, I, being hardier, quite maturely agreed with myself that whithersoever I was destined I would promptly go.  \n",
       "5                                                                                                                                                                        When, in my early years, I was able to taste the sweetness of philosophy, I embraced the whole of it with an overwhelming desire, and with practically no special concern about astronomy. I certainly had enough intelligence, nor did I have any difficulty understanding the geometrical and astronomical topics included in the normal curriculum, aided as I was by figures, numbers, and proportions. These were, however, required courses, nothing that would bespeak an exceptional inclination towards astronomy. And since I was supported at the expense of the Duke of Württemberg, and saw my comrades, whom the Prince, upon request, kept trying to send to foreign countries, stalling in various ways out of love for their country, I, being hardier, quite maturely agreed with myself that whithersoever I was destined I would promptly go.  \n",
       "6                                                                                                                                                                        When, in my early years, I was able to taste the sweetness of philosophy, I embraced the whole of it with an overwhelming desire, and with practically no special concern about astronomy. I certainly had enough intelligence, nor did I have any difficulty understanding the geometrical and astronomical topics included in the normal curriculum, aided as I was by figures, numbers, and proportions. These were, however, required courses, nothing that would bespeak an exceptional inclination towards astronomy. And since I was supported at the expense of the Duke of Württemberg, and saw my comrades, whom the Prince, upon request, kept trying to send to foreign countries, stalling in various ways out of love for their country, I, being hardier, quite maturely agreed with myself that whithersoever I was destined I would promptly go.  \n",
       "7                                                                                                                                                                        When, in my early years, I was able to taste the sweetness of philosophy, I embraced the whole of it with an overwhelming desire, and with practically no special concern about astronomy. I certainly had enough intelligence, nor did I have any difficulty understanding the geometrical and astronomical topics included in the normal curriculum, aided as I was by figures, numbers, and proportions. These were, however, required courses, nothing that would bespeak an exceptional inclination towards astronomy. And since I was supported at the expense of the Duke of Württemberg, and saw my comrades, whom the Prince, upon request, kept trying to send to foreign countries, stalling in various ways out of love for their country, I, being hardier, quite maturely agreed with myself that whithersoever I was destined I would promptly go.  \n",
       "8  The first to offer itself was an astronomical position; however, to tell the truth, I was driven forth to take it by the authority of my teachers. I was not frightened by the distance of the place, for (as I have just said) I had condemned this fear in others, but by the low opinion and contempt in which this kind of function is held, and the sparsity of erudition in this part of philosophy. I therefore entered upon this better furnished with wits than with knowledge, protesting loudly that I by no means gave over my right to follow another kind of life which seemed more splendid ^1. What came of those first two years of study may be seen in my Mysterium cosmographicum. The additional goads which my teacher Maestlin gave me towards embracing the rest of astronomy, you will read of in the same book, and in that man’s prefatory letter to Rheticus’s Narratio ^2. I had the very highest opinion of what I discovered there, and all the more so when I saw that Maestlin, too, held it in sim...  \n",
       "9  The first to offer itself was an astronomical position; however, to tell the truth, I was driven forth to take it by the authority of my teachers. I was not frightened by the distance of the place, for (as I have just said) I had condemned this fear in others, but by the low opinion and contempt in which this kind of function is held, and the sparsity of erudition in this part of philosophy. I therefore entered upon this better furnished with wits than with knowledge, protesting loudly that I by no means gave over my right to follow another kind of life which seemed more splendid ^1. What came of those first two years of study may be seen in my Mysterium cosmographicum. The additional goads which my teacher Maestlin gave me towards embracing the rest of astronomy, you will read of in the same book, and in that man’s prefatory letter to Rheticus’s Narratio ^2. I had the very highest opinion of what I discovered there, and all the more so when I saw that Maestlin, too, held it in sim...  "
      ]
     },
     "execution_count": 388,
     "metadata": {},
     "output_type": "execute_result"
    }
   ],
   "source": [
    "X_NObs.head(10)"
   ]
  },
  {
   "cell_type": "code",
   "execution_count": 389,
   "metadata": {},
   "outputs": [],
   "source": [
    "Y_NObs=df.loc[df.Label==0]\n",
    "Y_NObs=Y_NObs.Label\n",
    "Y_NObs=list(Y_NObs)"
   ]
  },
  {
   "cell_type": "code",
   "execution_count": 390,
   "metadata": {},
   "outputs": [],
   "source": [
    "x_obs = X_Obs.loc[0:, 'Sentence'].values\n",
    "x_nobs = X_NObs.loc[0:36, 'Sentence'].values\n"
   ]
  },
  {
   "cell_type": "code",
   "execution_count": 391,
   "metadata": {},
   "outputs": [
    {
     "data": {
      "text/plain": [
       "37"
      ]
     },
     "execution_count": 391,
     "metadata": {},
     "output_type": "execute_result"
    }
   ],
   "source": [
    "len(x_obs)"
   ]
  },
  {
   "cell_type": "code",
   "execution_count": 392,
   "metadata": {},
   "outputs": [
    {
     "data": {
      "text/plain": [
       "37"
      ]
     },
     "execution_count": 392,
     "metadata": {},
     "output_type": "execute_result"
    }
   ],
   "source": [
    "len(x_nobs)"
   ]
  },
  {
   "cell_type": "code",
   "execution_count": 393,
   "metadata": {},
   "outputs": [
    {
     "data": {
      "text/plain": [
       "37"
      ]
     },
     "execution_count": 393,
     "metadata": {},
     "output_type": "execute_result"
    }
   ],
   "source": [
    "number_of_samples = len(Y_Obs)\n",
    "Y_NObs=random.sample(Y_NObs,NumberObs);\n",
    "len(Y_NObs)"
   ]
  },
  {
   "cell_type": "code",
   "execution_count": 394,
   "metadata": {},
   "outputs": [],
   "source": [
    "y=Y_NObs+Y_Obs"
   ]
  },
  {
   "cell_type": "code",
   "execution_count": 395,
   "metadata": {},
   "outputs": [],
   "source": [
    "X1=x_nobs.tolist()"
   ]
  },
  {
   "cell_type": "code",
   "execution_count": 396,
   "metadata": {},
   "outputs": [
    {
     "data": {
      "text/plain": [
       "37"
      ]
     },
     "execution_count": 396,
     "metadata": {},
     "output_type": "execute_result"
    }
   ],
   "source": [
    "len(X1)"
   ]
  },
  {
   "cell_type": "code",
   "execution_count": 397,
   "metadata": {},
   "outputs": [],
   "source": [
    "X2=x_obs.tolist()"
   ]
  },
  {
   "cell_type": "code",
   "execution_count": 398,
   "metadata": {},
   "outputs": [],
   "source": [
    "X=X1+X2"
   ]
  },
  {
   "cell_type": "code",
   "execution_count": 399,
   "metadata": {},
   "outputs": [
    {
     "data": {
      "text/plain": [
       "74"
      ]
     },
     "execution_count": 399,
     "metadata": {},
     "output_type": "execute_result"
    }
   ],
   "source": [
    "len(X)"
   ]
  },
  {
   "cell_type": "code",
   "execution_count": 400,
   "metadata": {},
   "outputs": [
    {
     "data": {
      "text/plain": [
       "74"
      ]
     },
     "execution_count": 400,
     "metadata": {},
     "output_type": "execute_result"
    }
   ],
   "source": [
    "len(y)"
   ]
  },
  {
   "cell_type": "markdown",
   "metadata": {},
   "source": [
    "# Distribution of Samples  after downsampling"
   ]
  },
  {
   "cell_type": "code",
   "execution_count": 401,
   "metadata": {},
   "outputs": [
    {
     "data": {
      "text/html": [
       "<div>\n",
       "<style scoped>\n",
       "    .dataframe tbody tr th:only-of-type {\n",
       "        vertical-align: middle;\n",
       "    }\n",
       "\n",
       "    .dataframe tbody tr th {\n",
       "        vertical-align: top;\n",
       "    }\n",
       "\n",
       "    .dataframe thead th {\n",
       "        text-align: right;\n",
       "    }\n",
       "</style>\n",
       "<table border=\"1\" class=\"dataframe\">\n",
       "  <thead>\n",
       "    <tr style=\"text-align: right;\">\n",
       "      <th></th>\n",
       "      <th>Chapter</th>\n",
       "      <th>ParaIndex</th>\n",
       "      <th>SentIndex</th>\n",
       "      <th>Paragraph</th>\n",
       "      <th>Sentence</th>\n",
       "      <th>Entities</th>\n",
       "      <th>Label</th>\n",
       "    </tr>\n",
       "  </thead>\n",
       "  <tbody>\n",
       "    <tr>\n",
       "      <td>0</td>\n",
       "      <td>7</td>\n",
       "      <td>167</td>\n",
       "      <td>809</td>\n",
       "      <td>Chapter 7</td>\n",
       "      <td>Chapter 7</td>\n",
       "      <td>[]</td>\n",
       "      <td>0</td>\n",
       "    </tr>\n",
       "    <tr>\n",
       "      <td>1</td>\n",
       "      <td>7</td>\n",
       "      <td>168</td>\n",
       "      <td>810</td>\n",
       "      <td>The circumstances under which I happened upon the theory of Mars.</td>\n",
       "      <td>The circumstances under which I happened upon the theory of Mars.</td>\n",
       "      <td>[[Mars, PLAN]]</td>\n",
       "      <td>0</td>\n",
       "    </tr>\n",
       "    <tr>\n",
       "      <td>2</td>\n",
       "      <td>7</td>\n",
       "      <td>169</td>\n",
       "      <td>811</td>\n",
       "      <td>It is true that a divine voice, which enjoins humans to study astronomy, is expressed in the world itself, not in words or syllables, but in things themselves and in the conformity of the human intellect and senses with the sequence of celestial bodies and of their dispositions. Nevertheless, a kind of fate also invisibly drives different individuals to take up different arts, and makes them certain that, just as they are a part of the work of creation, they likewise also partake to some extent in divine providence.</td>\n",
       "      <td>It is true that a divine voice, which enjoins humans to study astronomy, is expressed in the world itself, not in words or syllables, but in things themselves and in the conformity of the human intellect and senses with the sequence of celestial bodies and of their dispositions.</td>\n",
       "      <td>[]</td>\n",
       "      <td>0</td>\n",
       "    </tr>\n",
       "    <tr>\n",
       "      <td>3</td>\n",
       "      <td>7</td>\n",
       "      <td>169</td>\n",
       "      <td>812</td>\n",
       "      <td>It is true that a divine voice, which enjoins humans to study astronomy, is expressed in the world itself, not in words or syllables, but in things themselves and in the conformity of the human intellect and senses with the sequence of celestial bodies and of their dispositions. Nevertheless, a kind of fate also invisibly drives different individuals to take up different arts, and makes them certain that, just as they are a part of the work of creation, they likewise also partake to some extent in divine providence.</td>\n",
       "      <td>Nevertheless, a kind of fate also invisibly drives different individuals to take up different arts, and makes them certain that, just as they are a part of the work of creation, they likewise also partake to some extent in divine providence.</td>\n",
       "      <td>[]</td>\n",
       "      <td>0</td>\n",
       "    </tr>\n",
       "    <tr>\n",
       "      <td>4</td>\n",
       "      <td>7</td>\n",
       "      <td>170</td>\n",
       "      <td>813</td>\n",
       "      <td>When, in my early years, I was able to taste the sweetness of philosophy, I embraced the whole of it with an overwhelming desire, and with practically no special concern about astronomy. I certainly had enough intelligence, nor did I have any difficulty understanding the geometrical and astronomical topics included in the normal curriculum, aided as I was by figures, numbers, and proportions. These were, however, required courses, nothing that would bespeak an exceptional inclination towards astronomy. And since I was supported at the expense of the Duke of Württemberg, and saw my comrades, whom the Prince, upon request, kept trying to send to foreign countries, stalling in various ways out of love for their country, I, being hardier, quite maturely agreed with myself that whithersoever I was destined I would promptly go.</td>\n",
       "      <td>When, in my early years, I was able to taste the sweetness of philosophy, I embraced the whole of it with an overwhelming desire, and with practically no special concern about astronomy.</td>\n",
       "      <td>[]</td>\n",
       "      <td>0</td>\n",
       "    </tr>\n",
       "    <tr>\n",
       "      <td>...</td>\n",
       "      <td>...</td>\n",
       "      <td>...</td>\n",
       "      <td>...</td>\n",
       "      <td>...</td>\n",
       "      <td>...</td>\n",
       "      <td>...</td>\n",
       "      <td>...</td>\n",
       "    </tr>\n",
       "    <tr>\n",
       "      <td>1519</td>\n",
       "      <td>21</td>\n",
       "      <td>482</td>\n",
       "      <td>2328</td>\n",
       "      <td>Up to the present, the hypothesis accounting for the first inequality (in which Brahe and Copernicus are in agreement, both differing somewhat in form from Ptolemy) has been presented using the sun's mean motion, which all three authors had substituted for the sun's apparent motion. Thereafter, it was shown that whether we follow the sun's apparent motion and the hypothesis found in Ch. 16, or the sun's mean motion and the hypothesis proposed in Ch. 8 according to Brahe's revision, in both instances there result false distances of the planet from the center, whether of the sun (for Copernicus and Brahe) or of the world (for Ptolemy). Consequently, what we had previously constructed from the Brahean observations we have later in turn destroyed using other observations of his. This was the necessary consequence of our having followed (in imitation of previous theorists) several things that were plausible but really false.</td>\n",
       "      <td>16, or the sun's mean motion and the hypothesis proposed in Ch.</td>\n",
       "      <td>[]</td>\n",
       "      <td>0</td>\n",
       "    </tr>\n",
       "    <tr>\n",
       "      <td>1520</td>\n",
       "      <td>21</td>\n",
       "      <td>482</td>\n",
       "      <td>2329</td>\n",
       "      <td>Up to the present, the hypothesis accounting for the first inequality (in which Brahe and Copernicus are in agreement, both differing somewhat in form from Ptolemy) has been presented using the sun's mean motion, which all three authors had substituted for the sun's apparent motion. Thereafter, it was shown that whether we follow the sun's apparent motion and the hypothesis found in Ch. 16, or the sun's mean motion and the hypothesis proposed in Ch. 8 according to Brahe's revision, in both instances there result false distances of the planet from the center, whether of the sun (for Copernicus and Brahe) or of the world (for Ptolemy). Consequently, what we had previously constructed from the Brahean observations we have later in turn destroyed using other observations of his. This was the necessary consequence of our having followed (in imitation of previous theorists) several things that were plausible but really false.</td>\n",
       "      <td>8 according to Brahe's revision, in both instances there result false distances of the planet from the center, whether of the sun (for Copernicus and Brahe) or of the world (for Ptolemy).</td>\n",
       "      <td>[[Copernicus, NAME]]</td>\n",
       "      <td>0</td>\n",
       "    </tr>\n",
       "    <tr>\n",
       "      <td>1521</td>\n",
       "      <td>21</td>\n",
       "      <td>482</td>\n",
       "      <td>2330</td>\n",
       "      <td>Up to the present, the hypothesis accounting for the first inequality (in which Brahe and Copernicus are in agreement, both differing somewhat in form from Ptolemy) has been presented using the sun's mean motion, which all three authors had substituted for the sun's apparent motion. Thereafter, it was shown that whether we follow the sun's apparent motion and the hypothesis found in Ch. 16, or the sun's mean motion and the hypothesis proposed in Ch. 8 according to Brahe's revision, in both instances there result false distances of the planet from the center, whether of the sun (for Copernicus and Brahe) or of the world (for Ptolemy). Consequently, what we had previously constructed from the Brahean observations we have later in turn destroyed using other observations of his. This was the necessary consequence of our having followed (in imitation of previous theorists) several things that were plausible but really false.</td>\n",
       "      <td>Consequently, what we had previously constructed from the Brahean observations we have later in turn destroyed using other observations of his.</td>\n",
       "      <td>[[Brahean, NAME]]</td>\n",
       "      <td>0</td>\n",
       "    </tr>\n",
       "    <tr>\n",
       "      <td>1522</td>\n",
       "      <td>21</td>\n",
       "      <td>482</td>\n",
       "      <td>2331</td>\n",
       "      <td>Up to the present, the hypothesis accounting for the first inequality (in which Brahe and Copernicus are in agreement, both differing somewhat in form from Ptolemy) has been presented using the sun's mean motion, which all three authors had substituted for the sun's apparent motion. Thereafter, it was shown that whether we follow the sun's apparent motion and the hypothesis found in Ch. 16, or the sun's mean motion and the hypothesis proposed in Ch. 8 according to Brahe's revision, in both instances there result false distances of the planet from the center, whether of the sun (for Copernicus and Brahe) or of the world (for Ptolemy). Consequently, what we had previously constructed from the Brahean observations we have later in turn destroyed using other observations of his. This was the necessary consequence of our having followed (in imitation of previous theorists) several things that were plausible but really false.</td>\n",
       "      <td>This was the necessary consequence of our having followed (in imitation of previous theorists) several things that were plausible but really false.</td>\n",
       "      <td>[]</td>\n",
       "      <td>0</td>\n",
       "    </tr>\n",
       "    <tr>\n",
       "      <td>1523</td>\n",
       "      <td>21</td>\n",
       "      <td>483</td>\n",
       "      <td>2332</td>\n",
       "      <td>And this much of the work is dedicated to this imitation of previous theorists, with which I am concluding this second part of the Commentaries.</td>\n",
       "      <td>And this much of the work is dedicated to this imitation of previous theorists, with which I am concluding this second part of the Commentaries.</td>\n",
       "      <td>[]</td>\n",
       "      <td>0</td>\n",
       "    </tr>\n",
       "  </tbody>\n",
       "</table>\n",
       "<p>1524 rows × 7 columns</p>\n",
       "</div>"
      ],
      "text/plain": [
       "      Chapter  ParaIndex  SentIndex  \\\n",
       "0           7        167        809   \n",
       "1           7        168        810   \n",
       "2           7        169        811   \n",
       "3           7        169        812   \n",
       "4           7        170        813   \n",
       "...       ...        ...        ...   \n",
       "1519       21        482       2328   \n",
       "1520       21        482       2329   \n",
       "1521       21        482       2330   \n",
       "1522       21        482       2331   \n",
       "1523       21        483       2332   \n",
       "\n",
       "                                                                                                                                                                                                                                                                                                                                                                                                                                                                                                                                                                                                                                                                                                                                                                                                                                                                                                                                                                  Paragraph  \\\n",
       "0                                                                                                                                                                                                                                                                                                                                                                                                                                                                                                                                                                                                                                                                                                                                                                                                                                                                                                                                                                Chapter 7    \n",
       "1                                                                                                                                                                                                                                                                                                                                                                                                                                                                                                                                                                                                                                                                                                                                                                                                                                                                                                         The circumstances under which I happened upon the theory of Mars.   \n",
       "2                                                                                                                                                                                                                                                                                                                                                                                                                                 It is true that a divine voice, which enjoins humans to study astronomy, is expressed in the world itself, not in words or syllables, but in things themselves and in the conformity of the human intellect and senses with the sequence of celestial bodies and of their dispositions. Nevertheless, a kind of fate also invisibly drives different individuals to take up different arts, and makes them certain that, just as they are a part of the work of creation, they likewise also partake to some extent in divine providence.   \n",
       "3                                                                                                                                                                                                                                                                                                                                                                                                                                 It is true that a divine voice, which enjoins humans to study astronomy, is expressed in the world itself, not in words or syllables, but in things themselves and in the conformity of the human intellect and senses with the sequence of celestial bodies and of their dispositions. Nevertheless, a kind of fate also invisibly drives different individuals to take up different arts, and makes them certain that, just as they are a part of the work of creation, they likewise also partake to some extent in divine providence.   \n",
       "4                                                                                                         When, in my early years, I was able to taste the sweetness of philosophy, I embraced the whole of it with an overwhelming desire, and with practically no special concern about astronomy. I certainly had enough intelligence, nor did I have any difficulty understanding the geometrical and astronomical topics included in the normal curriculum, aided as I was by figures, numbers, and proportions. These were, however, required courses, nothing that would bespeak an exceptional inclination towards astronomy. And since I was supported at the expense of the Duke of Württemberg, and saw my comrades, whom the Prince, upon request, kept trying to send to foreign countries, stalling in various ways out of love for their country, I, being hardier, quite maturely agreed with myself that whithersoever I was destined I would promptly go.   \n",
       "...                                                                                                                                                                                                                                                                                                                                                                                                                                                                                                                                                                                                                                                                                                                                                                                                                                                                                                                                                                     ...   \n",
       "1519  Up to the present, the hypothesis accounting for the first inequality (in which Brahe and Copernicus are in agreement, both differing somewhat in form from Ptolemy) has been presented using the sun's mean motion, which all three authors had substituted for the sun's apparent motion. Thereafter, it was shown that whether we follow the sun's apparent motion and the hypothesis found in Ch. 16, or the sun's mean motion and the hypothesis proposed in Ch. 8 according to Brahe's revision, in both instances there result false distances of the planet from the center, whether of the sun (for Copernicus and Brahe) or of the world (for Ptolemy). Consequently, what we had previously constructed from the Brahean observations we have later in turn destroyed using other observations of his. This was the necessary consequence of our having followed (in imitation of previous theorists) several things that were plausible but really false.   \n",
       "1520  Up to the present, the hypothesis accounting for the first inequality (in which Brahe and Copernicus are in agreement, both differing somewhat in form from Ptolemy) has been presented using the sun's mean motion, which all three authors had substituted for the sun's apparent motion. Thereafter, it was shown that whether we follow the sun's apparent motion and the hypothesis found in Ch. 16, or the sun's mean motion and the hypothesis proposed in Ch. 8 according to Brahe's revision, in both instances there result false distances of the planet from the center, whether of the sun (for Copernicus and Brahe) or of the world (for Ptolemy). Consequently, what we had previously constructed from the Brahean observations we have later in turn destroyed using other observations of his. This was the necessary consequence of our having followed (in imitation of previous theorists) several things that were plausible but really false.   \n",
       "1521  Up to the present, the hypothesis accounting for the first inequality (in which Brahe and Copernicus are in agreement, both differing somewhat in form from Ptolemy) has been presented using the sun's mean motion, which all three authors had substituted for the sun's apparent motion. Thereafter, it was shown that whether we follow the sun's apparent motion and the hypothesis found in Ch. 16, or the sun's mean motion and the hypothesis proposed in Ch. 8 according to Brahe's revision, in both instances there result false distances of the planet from the center, whether of the sun (for Copernicus and Brahe) or of the world (for Ptolemy). Consequently, what we had previously constructed from the Brahean observations we have later in turn destroyed using other observations of his. This was the necessary consequence of our having followed (in imitation of previous theorists) several things that were plausible but really false.   \n",
       "1522  Up to the present, the hypothesis accounting for the first inequality (in which Brahe and Copernicus are in agreement, both differing somewhat in form from Ptolemy) has been presented using the sun's mean motion, which all three authors had substituted for the sun's apparent motion. Thereafter, it was shown that whether we follow the sun's apparent motion and the hypothesis found in Ch. 16, or the sun's mean motion and the hypothesis proposed in Ch. 8 according to Brahe's revision, in both instances there result false distances of the planet from the center, whether of the sun (for Copernicus and Brahe) or of the world (for Ptolemy). Consequently, what we had previously constructed from the Brahean observations we have later in turn destroyed using other observations of his. This was the necessary consequence of our having followed (in imitation of previous theorists) several things that were plausible but really false.   \n",
       "1523                                                                                                                                                                                                                                                                                                                                                                                                                                                                                                                                                                                                                                                                                                                                                                                                                       And this much of the work is dedicated to this imitation of previous theorists, with which I am concluding this second part of the Commentaries.   \n",
       "\n",
       "                                                                                                                                                                                                                                                                                     Sentence  \\\n",
       "0                                                                                                                                                                                                                                                                                   Chapter 7   \n",
       "1                                                                                                                                                                                                                           The circumstances under which I happened upon the theory of Mars.   \n",
       "2     It is true that a divine voice, which enjoins humans to study astronomy, is expressed in the world itself, not in words or syllables, but in things themselves and in the conformity of the human intellect and senses with the sequence of celestial bodies and of their dispositions.   \n",
       "3                                           Nevertheless, a kind of fate also invisibly drives different individuals to take up different arts, and makes them certain that, just as they are a part of the work of creation, they likewise also partake to some extent in divine providence.   \n",
       "4                                                                                                  When, in my early years, I was able to taste the sweetness of philosophy, I embraced the whole of it with an overwhelming desire, and with practically no special concern about astronomy.   \n",
       "...                                                                                                                                                                                                                                                                                       ...   \n",
       "1519                                                                                                                                                                                                                          16, or the sun's mean motion and the hypothesis proposed in Ch.   \n",
       "1520                                                                                              8 according to Brahe's revision, in both instances there result false distances of the planet from the center, whether of the sun (for Copernicus and Brahe) or of the world (for Ptolemy).   \n",
       "1521                                                                                                                                          Consequently, what we had previously constructed from the Brahean observations we have later in turn destroyed using other observations of his.   \n",
       "1522                                                                                                                                      This was the necessary consequence of our having followed (in imitation of previous theorists) several things that were plausible but really false.   \n",
       "1523                                                                                                                                         And this much of the work is dedicated to this imitation of previous theorists, with which I am concluding this second part of the Commentaries.   \n",
       "\n",
       "                  Entities  Label  \n",
       "0                       []      0  \n",
       "1           [[Mars, PLAN]]      0  \n",
       "2                       []      0  \n",
       "3                       []      0  \n",
       "4                       []      0  \n",
       "...                    ...    ...  \n",
       "1519                    []      0  \n",
       "1520  [[Copernicus, NAME]]      0  \n",
       "1521     [[Brahean, NAME]]      0  \n",
       "1522                    []      0  \n",
       "1523                    []      0  \n",
       "\n",
       "[1524 rows x 7 columns]"
      ]
     },
     "execution_count": 401,
     "metadata": {},
     "output_type": "execute_result"
    }
   ],
   "source": [
    "df\n"
   ]
  },
  {
   "cell_type": "code",
   "execution_count": 402,
   "metadata": {},
   "outputs": [],
   "source": [
    "category=Counter(y)\n",
    "count=dict(category)"
   ]
  },
  {
   "cell_type": "code",
   "execution_count": 403,
   "metadata": {},
   "outputs": [
    {
     "data": {
      "text/plain": [
       "Text(0.5, 1.0, 'Distribution of samples over different classes')"
      ]
     },
     "execution_count": 403,
     "metadata": {},
     "output_type": "execute_result"
    },
    {
     "data": {
      "image/png": "[encoded data removed]",
      "text/plain": [
       "<Figure size 432x288 with 1 Axes>"
      ]
     },
     "metadata": {
      "needs_background": "light"
     },
     "output_type": "display_data"
    }
   ],
   "source": [
    "plt.bar(list(count.keys()),count.values(),color=\"r\",width=.4,tick_label=[\"1\",\"0\"])\n",
    "plt.title(\"Distribution of samples over different classes\")"
   ]
  },
  {
   "cell_type": "code",
   "execution_count": 404,
   "metadata": {},
   "outputs": [],
   "source": [
    "X,y = shuffle(X, y, random_state=42)\n",
    "X_train, X_test, y_train, y_test = train_test_split(\n",
    "X,y, test_size=0.10, random_state=42)  "
   ]
  },
  {
   "cell_type": "markdown",
   "metadata": {},
   "source": [
    "# 1- Random Forest"
   ]
  },
  {
   "cell_type": "code",
   "execution_count": 405,
   "metadata": {},
   "outputs": [
    {
     "data": {
      "text/plain": [
       "Pipeline(memory=None,\n",
       "         steps=[('vect',\n",
       "                 TfidfVectorizer(analyzer='word', binary=False,\n",
       "                                 decode_error='strict',\n",
       "                                 dtype=<class 'numpy.float64'>,\n",
       "                                 encoding='utf-8', input='content',\n",
       "                                 lowercase=True, max_df=1.0, max_features=None,\n",
       "                                 min_df=1, ngram_range=(1, 1), norm='l2',\n",
       "                                 preprocessor=None, smooth_idf=True,\n",
       "                                 stop_words=None, strip_accents=None,\n",
       "                                 sublinear_tf=False,\n",
       "                                 token_pattern='(...\n",
       "                 RandomForestClassifier(bootstrap=True, class_weight=None,\n",
       "                                        criterion='gini', max_depth=None,\n",
       "                                        max_features='auto',\n",
       "                                        max_leaf_nodes=None,\n",
       "                                        min_impurity_decrease=0.0,\n",
       "                                        min_impurity_split=None,\n",
       "                                        min_samples_leaf=1, min_samples_split=2,\n",
       "                                        min_weight_fraction_leaf=0.0,\n",
       "                                        n_estimators=10, n_jobs=None,\n",
       "                                        oob_score=False, random_state=None,\n",
       "                                        verbose=0, warm_start=False))],\n",
       "         verbose=False)"
      ]
     },
     "execution_count": 405,
     "metadata": {},
     "output_type": "execute_result"
    }
   ],
   "source": [
    "from sklearn.ensemble import RandomForestClassifier\n",
    "RF=RandomForestClassifier()\n",
    "trial_06=Pipeline([(\"vect\",vec),(\"clf\",RF)])\n",
    "trial_06.fit(X_train,y_train)"
   ]
  },
  {
   "cell_type": "code",
   "execution_count": 406,
   "metadata": {},
   "outputs": [
    {
     "name": "stdout",
     "output_type": "stream",
     "text": [
      "[0.875 1.    1.    1.    1.    1.    1.    1.    1.    1.   ]\n",
      "Accuracy of : 0.988 ± 0.075\n"
     ]
    }
   ],
   "source": [
    "cross_validation_accuracy(trial_06,X,y,cv=10)"
   ]
  },
  {
   "cell_type": "code",
   "execution_count": 407,
   "metadata": {},
   "outputs": [
    {
     "name": "stdout",
     "output_type": "stream",
     "text": [
      "              precision    recall  f1-score   support\n",
      "\n",
      "           0       0.90      0.95      0.92        37\n",
      "           1       0.94      0.89      0.92        37\n",
      "\n",
      "    accuracy                           0.92        74\n",
      "   macro avg       0.92      0.92      0.92        74\n",
      "weighted avg       0.92      0.92      0.92        74\n",
      "\n"
     ]
    }
   ],
   "source": [
    "y_pred = cross_val_predict(trial_06, X, y, cv=10)\n",
    "\n",
    "cr=classification_report(y,y_pred)\n",
    "print(cr)\n",
    "cm = confusion_matrix(y_pred,y)"
   ]
  },
  {
   "cell_type": "code",
   "execution_count": 408,
   "metadata": {},
   "outputs": [
    {
     "name": "stdout",
     "output_type": "stream",
     "text": [
      "[[35  4]\n",
      " [ 2 33]]\n"
     ]
    }
   ],
   "source": [
    "print(cm)"
   ]
  },
  {
   "cell_type": "code",
   "execution_count": 409,
   "metadata": {},
   "outputs": [
    {
     "data": {
      "image/png": "[encoded data removed]",
      "text/plain": [
       "<Figure size 432x288 with 2 Axes>"
      ]
     },
     "metadata": {
      "needs_background": "light"
     },
     "output_type": "display_data"
    }
   ],
   "source": [
    "Colorful_Confusion_Matrix(y=y,y_test=y,y_pred=y_pred)"
   ]
  },
  {
   "cell_type": "code",
   "execution_count": 410,
   "metadata": {},
   "outputs": [
    {
     "data": {
      "text/plain": [
       "array([0, 1, 0, 0, 0, 1, 0, 0, 0, 1, 1, 1, 0, 1, 0, 0, 1, 1, 0, 1, 0, 0,\n",
       "       0, 1, 1, 0, 1, 1, 0, 0, 1, 0, 1, 0, 1, 0, 1, 0, 0, 1, 0, 1, 0, 0,\n",
       "       1, 1, 1, 0, 0, 0, 1, 0, 1, 0, 1, 1, 0, 0, 1, 1, 0, 0, 1, 1, 0, 1,\n",
       "       0, 0, 1, 0, 1, 1, 0, 1])"
      ]
     },
     "execution_count": 410,
     "metadata": {},
     "output_type": "execute_result"
    }
   ],
   "source": [
    "y_pred"
   ]
  },
  {
   "cell_type": "code",
   "execution_count": 411,
   "metadata": {},
   "outputs": [],
   "source": [
    "precision, recall, thresholds = precision_recall_curve(y,y_pred)  \n",
    "#auc_score = auc(recall, precision)\n"
   ]
  },
  {
   "cell_type": "code",
   "execution_count": 412,
   "metadata": {},
   "outputs": [
    {
     "data": {
      "image/png": "[encoded data removed]",
      "text/plain": [
       "<Figure size 432x288 with 1 Axes>"
      ]
     },
     "metadata": {
      "needs_background": "light"
     },
     "output_type": "display_data"
    },
    {
     "name": "stdout",
     "output_type": "stream",
     "text": [
      "AUC: 0.944\n"
     ]
    }
   ],
   "source": [
    "plot_pr(recall, precision)"
   ]
  },
  {
   "cell_type": "markdown",
   "metadata": {},
   "source": [
    "## 2-SGD"
   ]
  },
  {
   "cell_type": "code",
   "execution_count": 413,
   "metadata": {},
   "outputs": [
    {
     "data": {
      "text/plain": [
       "Pipeline(memory=None,\n",
       "         steps=[('vect',\n",
       "                 TfidfVectorizer(analyzer='word', binary=False,\n",
       "                                 decode_error='strict',\n",
       "                                 dtype=<class 'numpy.float64'>,\n",
       "                                 encoding='utf-8', input='content',\n",
       "                                 lowercase=True, max_df=1.0, max_features=None,\n",
       "                                 min_df=1, ngram_range=(1, 1), norm='l2',\n",
       "                                 preprocessor=None, smooth_idf=True,\n",
       "                                 stop_words=None, strip_accents=None,\n",
       "                                 sublinear_tf=False,\n",
       "                                 token_pattern='(...\n",
       "                 SGDClassifier(alpha=0.0001, average=False, class_weight=None,\n",
       "                               early_stopping=False, epsilon=0.1, eta0=0.0,\n",
       "                               fit_intercept=True, l1_ratio=0.15,\n",
       "                               learning_rate='optimal', loss='hinge',\n",
       "                               max_iter=1000, n_iter_no_change=5, n_jobs=None,\n",
       "                               penalty='l2', power_t=0.5, random_state=None,\n",
       "                               shuffle=True, tol=0.001, validation_fraction=0.1,\n",
       "                               verbose=0, warm_start=False))],\n",
       "         verbose=False)"
      ]
     },
     "execution_count": 413,
     "metadata": {},
     "output_type": "execute_result"
    }
   ],
   "source": [
    "trial_05.fit(X_train,y_train)"
   ]
  },
  {
   "cell_type": "code",
   "execution_count": 414,
   "metadata": {},
   "outputs": [],
   "source": [
    "y_pred=trial_05.predict(X_test)"
   ]
  },
  {
   "cell_type": "code",
   "execution_count": 415,
   "metadata": {},
   "outputs": [
    {
     "name": "stdout",
     "output_type": "stream",
     "text": [
      "[[4 0]\n",
      " [0 4]]\n",
      "              precision    recall  f1-score   support\n",
      "\n",
      "           0       1.00      1.00      1.00         4\n",
      "           1       1.00      1.00      1.00         4\n",
      "\n",
      "    accuracy                           1.00         8\n",
      "   macro avg       1.00      1.00      1.00         8\n",
      "weighted avg       1.00      1.00      1.00         8\n",
      "\n"
     ]
    }
   ],
   "source": [
    "cm=confusion_matrix(y_test,y_pred)\n",
    "print(cm)\n",
    "cr=classification_report(y_test,y_pred)\n",
    "print(cr)\n",
    "#Colorful_Confusion_Matrix(y, y_test, y_pred)\n"
   ]
  },
  {
   "cell_type": "code",
   "execution_count": 416,
   "metadata": {},
   "outputs": [
    {
     "name": "stdout",
     "output_type": "stream",
     "text": [
      "[1.    0.875 1.    1.    1.    1.    1.    1.    1.    1.   ]\n",
      "Accuracy of : 0.988 ± 0.075\n"
     ]
    }
   ],
   "source": [
    "cross_validation_accuracy(trial_05,X,y,cv=10)"
   ]
  },
  {
   "cell_type": "code",
   "execution_count": 417,
   "metadata": {},
   "outputs": [
    {
     "name": "stdout",
     "output_type": "stream",
     "text": [
      "              precision    recall  f1-score   support\n",
      "\n",
      "           0       1.00      0.97      0.99        37\n",
      "           1       0.97      1.00      0.99        37\n",
      "\n",
      "    accuracy                           0.99        74\n",
      "   macro avg       0.99      0.99      0.99        74\n",
      "weighted avg       0.99      0.99      0.99        74\n",
      "\n",
      "[[36  0]\n",
      " [ 1 37]]\n"
     ]
    }
   ],
   "source": [
    "y_pred = cross_val_predict(trial_05, X, y, cv=10)\n",
    "\n",
    "cr=classification_report(y,y_pred)\n",
    "print(cr)\n",
    "cm = confusion_matrix(y_pred,y)\n",
    "print(cm)"
   ]
  },
  {
   "cell_type": "code",
   "execution_count": 418,
   "metadata": {},
   "outputs": [
    {
     "data": {
      "image/png": "[encoded data removed]",
      "text/plain": [
       "<Figure size 432x288 with 2 Axes>"
      ]
     },
     "metadata": {
      "needs_background": "light"
     },
     "output_type": "display_data"
    }
   ],
   "source": [
    "Colorful_Confusion_Matrix(y=y,y_test=y,y_pred=y_pred)"
   ]
  },
  {
   "cell_type": "code",
   "execution_count": 419,
   "metadata": {},
   "outputs": [],
   "source": [
    "precision, recall, thresholds = precision_recall_curve(y,y_pred)  \n",
    "auc_score = auc(recall, precision)\n"
   ]
  },
  {
   "cell_type": "code",
   "execution_count": 420,
   "metadata": {},
   "outputs": [
    {
     "data": {
      "image/png": "[encoded data removed]",
      "text/plain": [
       "<Figure size 432x288 with 1 Axes>"
      ]
     },
     "metadata": {
      "needs_background": "light"
     },
     "output_type": "display_data"
    },
    {
     "name": "stdout",
     "output_type": "stream",
     "text": [
      "AUC: 0.987\n"
     ]
    }
   ],
   "source": [
    "plot_pr(recall, precision)"
   ]
  },
  {
   "cell_type": "markdown",
   "metadata": {},
   "source": [
    "##  Save the down sampled model"
   ]
  },
  {
   "cell_type": "markdown",
   "metadata": {},
   "source": [
    "import pickle\n",
    "saved_model = pickle.dumps(trial_06)"
   ]
  },
  {
   "cell_type": "markdown",
   "metadata": {},
   "source": [
    "Pkl_Filename = \"Pickle_RF_RESAMPLED_Model_02.pkl\"  \n",
    "\n",
    "with open(Pkl_Filename, 'wb') as file:  \n",
    "    pickle.dump(trial_06, file)"
   ]
  }
 ],
 "metadata": {
  "kernelspec": {
   "display_name": "Python 3",
   "language": "python",
   "name": "python3"
  },
  "language_info": {
   "codemirror_mode": {
    "name": "ipython",
    "version": 3
   },
   "file_extension": ".py",
   "mimetype": "text/x-python",
   "name": "python",
   "nbconvert_exporter": "python",
   "pygments_lexer": "ipython3",
   "version": "3.7.4"
  }
 },
 "nbformat": 4,
 "nbformat_minor": 4
}
