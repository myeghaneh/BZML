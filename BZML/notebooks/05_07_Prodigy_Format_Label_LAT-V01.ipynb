{
 "cells": [
  {
   "cell_type": "markdown",
   "metadata": {},
   "source": [
    " # Regex and Prodigy\n",
    " LAT"
   ]
  },
  {
   "cell_type": "markdown",
   "metadata": {},
   "source": [
    "<font size= \"3\">\n",
    "Annotation of entities for sentences based on prodigy's format for different labels for further usage in Machine learning. Prodigy is an annotation tool based on spaCy. Please see here:\n",
    "    </p>\n",
    "  <a href=\"https://prodi.gy/ \"> Prodigy </a> \n",
    "<font 3>"
   ]
  },
  {
   "cell_type": "markdown",
   "metadata": {},
   "source": [
    "## Imports"
   ]
  },
  {
   "cell_type": "code",
   "execution_count": 1,
   "metadata": {},
   "outputs": [],
   "source": [
    "import pandas as pd\n",
    "import numpy as np\n",
    "import re\n",
    "import pandas as pd\n",
    "import matplotlib.pyplot as plt\n",
    "import scipy as sp\n",
    "import spacy \n",
    "import re\n",
    "from prodigy.util import write_jsonl\n",
    "\n"
   ]
  },
  {
   "cell_type": "code",
   "execution_count": 2,
   "metadata": {},
   "outputs": [
    {
     "data": {
      "text/plain": [
       "'C:\\\\Projects_28_06\\\\notebooks\\\\yeghaneh\\\\BZML\\\\notebooks'"
      ]
     },
     "execution_count": 2,
     "metadata": {},
     "output_type": "execute_result"
    }
   ],
   "source": [
    "pwd"
   ]
  },
  {
   "cell_type": "markdown",
   "metadata": {},
   "source": [
    "## Read the Data"
   ]
  },
  {
   "cell_type": "code",
   "execution_count": 3,
   "metadata": {},
   "outputs": [],
   "source": [
    "importVersion = '013'"
   ]
  },
  {
   "cell_type": "code",
   "execution_count": 4,
   "metadata": {},
   "outputs": [],
   "source": [
    "path= '../data/01_df_v{0}.pickle'.format(importVersion)# Put the path of the data in your local machine here, consider the letter \"r\" before the path\n",
    "dfAstroNova = pd.read_pickle(path)"
   ]
  },
  {
   "cell_type": "markdown",
   "metadata": {},
   "source": [
    "# Sort based on the Chapter "
   ]
  },
  {
   "cell_type": "code",
   "execution_count": 5,
   "metadata": {},
   "outputs": [],
   "source": [
    "# Sort the data based on the chapters of the book \n",
    "dfAstroNova['chapter'] = dfAstroNova.chapter.replace(\"appendix b\",np.nan).astype(float)  \n",
    "dfAstroNova = dfAstroNova.rename_axis('MyIdx').sort_values(by = ['chapter', 'MyIdx'], ascending = [True, True])\n",
    "dfAstroNova.chapter.fillna('appendix b', inplace=True)"
   ]
  },
  {
   "cell_type": "code",
   "execution_count": 6,
   "metadata": {},
   "outputs": [],
   "source": [
    "dfAstroNova.reset_index(inplace=True)\n",
    "dfAstroNova=dfAstroNova.drop(\"MyIdx\",axis=1,inplace=False)\n",
    "dfAstroNova=dfAstroNova.drop(\"html\",axis=1)"
   ]
  },
  {
   "cell_type": "code",
   "execution_count": 7,
   "metadata": {},
   "outputs": [
    {
     "data": {
      "text/plain": [
       "pandas.core.frame.DataFrame"
      ]
     },
     "execution_count": 7,
     "metadata": {},
     "output_type": "execute_result"
    }
   ],
   "source": [
    "type(dfAstroNova)"
   ]
  },
  {
   "cell_type": "code",
   "execution_count": 8,
   "metadata": {},
   "outputs": [
    {
     "data": {
      "text/html": [
       "<div>\n",
       "<style scoped>\n",
       "    .dataframe tbody tr th:only-of-type {\n",
       "        vertical-align: middle;\n",
       "    }\n",
       "\n",
       "    .dataframe tbody tr th {\n",
       "        vertical-align: top;\n",
       "    }\n",
       "\n",
       "    .dataframe thead th {\n",
       "        text-align: right;\n",
       "    }\n",
       "</style>\n",
       "<table border=\"1\" class=\"dataframe\">\n",
       "  <thead>\n",
       "    <tr style=\"text-align: right;\">\n",
       "      <th></th>\n",
       "      <th>text</th>\n",
       "      <th>links</th>\n",
       "      <th>italic</th>\n",
       "      <th>chapter</th>\n",
       "      <th>graphic</th>\n",
       "      <th>table</th>\n",
       "      <th>marginal</th>\n",
       "      <th>sentences</th>\n",
       "      <th>tagged</th>\n",
       "    </tr>\n",
       "  </thead>\n",
       "  <tbody>\n",
       "    <tr>\n",
       "      <td>0</td>\n",
       "      <td>Chapter 1</td>\n",
       "      <td>[]</td>\n",
       "      <td>[]</td>\n",
       "      <td>1</td>\n",
       "      <td>[]</td>\n",
       "      <td>[]</td>\n",
       "      <td>[]</td>\n",
       "      <td>[Chapter 1]</td>\n",
       "      <td>[[(Chapter, None), (1, NUM)]]</td>\n",
       "    </tr>\n",
       "    <tr>\n",
       "      <td>1</td>\n",
       "      <td>On the distinction between the first motion an...</td>\n",
       "      <td>[]</td>\n",
       "      <td>[]</td>\n",
       "      <td>1</td>\n",
       "      <td>[]</td>\n",
       "      <td>[]</td>\n",
       "      <td>[]</td>\n",
       "      <td>[On the distinction between the first motion a...</td>\n",
       "      <td>[[(On, None), (the, None), (distinction, None)...</td>\n",
       "    </tr>\n",
       "    <tr>\n",
       "      <td>2</td>\n",
       "      <td>The testimony of the ages confirms that the mo...</td>\n",
       "      <td>[]</td>\n",
       "      <td>[]</td>\n",
       "      <td>1</td>\n",
       "      <td>[]</td>\n",
       "      <td>[]</td>\n",
       "      <td>[ Terms: 1. The first motion is that of the wh...</td>\n",
       "      <td>[The testimony of the ages confirms that the m...</td>\n",
       "      <td>[[(The, None), (testimony, None), (of, None), ...</td>\n",
       "    </tr>\n",
       "    <tr>\n",
       "      <td>3</td>\n",
       "      <td>It is just this from which astronomy arose amo...</td>\n",
       "      <td>[]</td>\n",
       "      <td>[]</td>\n",
       "      <td>1</td>\n",
       "      <td>[ ch 1 gr 1]</td>\n",
       "      <td>[]</td>\n",
       "      <td>[]</td>\n",
       "      <td>[It is just this from which astronomy arose am...</td>\n",
       "      <td>[[(It, None), (is, None), (just, None), (this,...</td>\n",
       "    </tr>\n",
       "    <tr>\n",
       "      <td>4</td>\n",
       "      <td>Before the distinction between the first motio...</td>\n",
       "      <td>[]</td>\n",
       "      <td>[(such]</td>\n",
       "      <td>1</td>\n",
       "      <td>[]</td>\n",
       "      <td>[]</td>\n",
       "      <td>[ 2]</td>\n",
       "      <td>[Before the distinction between the first moti...</td>\n",
       "      <td>[[(Before, None), (the, None), (distinction, N...</td>\n",
       "    </tr>\n",
       "  </tbody>\n",
       "</table>\n",
       "</div>"
      ],
      "text/plain": [
       "                                                text links   italic chapter  \\\n",
       "0                                          Chapter 1    []       []       1   \n",
       "1  On the distinction between the first motion an...    []       []       1   \n",
       "2  The testimony of the ages confirms that the mo...    []       []       1   \n",
       "3  It is just this from which astronomy arose amo...    []       []       1   \n",
       "4  Before the distinction between the first motio...    []  [(such]       1   \n",
       "\n",
       "        graphic table                                           marginal  \\\n",
       "0            []    []                                                 []   \n",
       "1            []    []                                                 []   \n",
       "2            []    []  [ Terms: 1. The first motion is that of the wh...   \n",
       "3  [ ch 1 gr 1]    []                                                 []   \n",
       "4            []    []                                               [ 2]   \n",
       "\n",
       "                                           sentences  \\\n",
       "0                                        [Chapter 1]   \n",
       "1  [On the distinction between the first motion a...   \n",
       "2  [The testimony of the ages confirms that the m...   \n",
       "3  [It is just this from which astronomy arose am...   \n",
       "4  [Before the distinction between the first moti...   \n",
       "\n",
       "                                              tagged  \n",
       "0                      [[(Chapter, None), (1, NUM)]]  \n",
       "1  [[(On, None), (the, None), (distinction, None)...  \n",
       "2  [[(The, None), (testimony, None), (of, None), ...  \n",
       "3  [[(It, None), (is, None), (just, None), (this,...  \n",
       "4  [[(Before, None), (the, None), (distinction, N...  "
      ]
     },
     "execution_count": 8,
     "metadata": {},
     "output_type": "execute_result"
    }
   ],
   "source": [
    "dfAstroNova.head(5)"
   ]
  },
  {
   "cell_type": "code",
   "execution_count": 9,
   "metadata": {},
   "outputs": [
    {
     "data": {
      "text/plain": [
       "1605"
      ]
     },
     "execution_count": 9,
     "metadata": {},
     "output_type": "execute_result"
    }
   ],
   "source": [
    "len(dfAstroNova)"
   ]
  },
  {
   "cell_type": "markdown",
   "metadata": {},
   "source": [
    "### Read the Sentences"
   ]
  },
  {
   "cell_type": "code",
   "execution_count": 10,
   "metadata": {},
   "outputs": [],
   "source": [
    "df=dfAstroNova.sentences"
   ]
  },
  {
   "cell_type": "code",
   "execution_count": 11,
   "metadata": {},
   "outputs": [],
   "source": [
    "sents=[]\n",
    "for para in dfAstroNova.sentences:\n",
    "    sents +=para"
   ]
  },
  {
   "cell_type": "code",
   "execution_count": 12,
   "metadata": {},
   "outputs": [
    {
     "data": {
      "text/plain": [
       "6699"
      ]
     },
     "execution_count": 12,
     "metadata": {},
     "output_type": "execute_result"
    }
   ],
   "source": [
    "len(sents)"
   ]
  },
  {
   "cell_type": "markdown",
   "metadata": {},
   "source": [
    "## Annotation Based on Consistant format with Prodigy "
   ]
  },
  {
   "cell_type": "markdown",
   "metadata": {},
   "source": [
    "<fig size= 3>\n",
    "Prodigy accept a specific format; a JSONL format (newline-delimited JSON). Entities and other highlighted spans of text can be defined in the \"spans\" property. A example could look like this dictionary:\n",
    "</p>    \n",
    "text': 'On 1595 October 30 at 8h 20m, they found Mars at 17° 48’ Taurus, with a diurnal motion of 22’ 54” ^15.',\n",
    "  'spans': [{'start': 22, 'end': 29, 'label': 'TIME'}]}\n",
    "</p>\n",
    "which start and end's numbers refer to the position of entitiy  in the sentence. (here PARA)\n",
    "\n",
    "    \n",
    "<fig size>"
   ]
  },
  {
   "cell_type": "code",
   "execution_count": 15,
   "metadata": {},
   "outputs": [],
   "source": [
    "def print_sents_entities(examples):\n",
    "    for example in examples:\n",
    "        if example[\"spans\"]!=[]:\n",
    "            sent,entity=example['text'], example['text'][example[\"spans\"][0][\"start\"]:example[\"spans\"][0][\"end\"]]\n",
    "            print(sent,[entity])"
   ]
  },
  {
   "cell_type": "code",
   "execution_count": 14,
   "metadata": {},
   "outputs": [
    {
     "ename": "NameError",
     "evalue": "name 'examples' is not defined",
     "output_type": "error",
     "traceback": [
      "\u001b[1;31m---------------------------------------------------------------------------\u001b[0m",
      "\u001b[1;31mNameError\u001b[0m                                 Traceback (most recent call last)",
      "\u001b[1;32m<ipython-input-14-e322c307d579>\u001b[0m in \u001b[0;36m<module>\u001b[1;34m\u001b[0m\n\u001b[1;32m----> 1\u001b[1;33m \u001b[0mprint_sents_entities\u001b[0m\u001b[1;33m(\u001b[0m\u001b[0mexamples\u001b[0m\u001b[1;33m)\u001b[0m\u001b[1;33m\u001b[0m\u001b[1;33m\u001b[0m\u001b[0m\n\u001b[0m",
      "\u001b[1;31mNameError\u001b[0m: name 'examples' is not defined"
     ]
    }
   ],
   "source": [
    "print_sents_entities(examples)"
   ]
  },
  {
   "cell_type": "code",
   "execution_count": 16,
   "metadata": {},
   "outputs": [],
   "source": [
    "def print_entities(examples):\n",
    "    entities = []\n",
    "    for example in examples:\n",
    "        if example[\"spans\"] != []:\n",
    "            entities += [example['text'][example[\"spans\"][0][\"start\"]:example[\"spans\"][0][\"end\"]]]\n",
    "            len(entities)\n",
    "    print(\"There is {} entities with this detail\\n{}\".format(len(entities),entities))"
   ]
  },
  {
   "cell_type": "code",
   "execution_count": 62,
   "metadata": {
    "collapsed": true,
    "jupyter": {
     "outputs_hidden": true
    }
   },
   "outputs": [
    {
     "name": "stdout",
     "output_type": "stream",
     "text": [
      "There is 903 entities with this detail\n",
      "['3° 4\\' 52\"', '41° 55\\' 8\"', '16° 33\\' 30\"', '7° 28\\' 56\"', '37° 32\\' 37\"', '4° 20\\' 8\"', '85° 39\\' 52\"', '11° 25\\' 48\"', '11° 23\\' 53\"', '5° 27’ 47”', '23° 32\\' 16\" Leo', '5° 27’ 47”', '5° 27’ 47”', '78° 51’ 54”', '47° 59’ 16”', '44° 59’ 10”', '44° 59’ 10”', '53° 26’ 17”', '44° 59’ 10”', '7° 30’ 10”', '3° 0’ 6”', '16° Cancer.', '16° Cancer', '1° 3’ 32” But', '2° 3’', '9° Leo.', '23° 45’ Leo.', '5° 2’', '23° 25’ Leo.', '23° 20’ Leo', '17° Taurus', '3° Cancer', '17° Cancer', '27° Sagittarius.', '26° 45’ 24” Gemini.', '26° 24’ 43” Sagittarius.', '26° 24’ 13” Sagittarius', '18° Taurus', '13° Pisces.', '18° Taurus', '17° Taurus', '4° 33’', '1° 50’', '8° 36’ 50” Gemini', '8° 20’ Gemini', '1° 55’', '1° 52’', '6° 41’ 50” Gemini', '6° 42’ 54”', '6° 46’ 10” Gemini.', '16° 47’ Cancer', '16° 46’ 16” Cancer', '21° 18’ 11” Leo', '21° 10’ 30” Leo', '25° 10’ 20” Virgo.', '25° 8’ 32” Virgo', '3° 58\\' 21\" Scorpio', '3° 55’ 49”', '3° 58’ 10”', '27° 15’ Sagittarius', '1° 12’ 47”', '26° 35’ 31” Sagittarius.', '26° 32’ Sagittarius.', '12° 38’ Pisces', '12° 43’ 48” Pisces.', '12° 43’ 45”', '17° 48’ Taurus', '17° 59’ 7” Taurus.', '17° 56’ 15” Taurus', '3° 30’ Cancer', '1° 15’', '2° 28’', '10° 38’ 46” Leo', '6° 18’ Leo.', '8° 18’ 45” Leo', '2° 25’', '1° 6’', '44° 41’', '5° 31’', '17° 38’ Cancer', '36° 43’', '23° 29’', '43° 58’', '23° 27’', '67° 21’', '23° 29’', '23° 16’', '23° 9’', '7° 51’', '7° 59’', '44° 22’', '9° 44’', '32° 57’', '9° 48’ 45”', '32° 4’', '9° 2’', '39° 54’', '30° 52’', '28° 1’ 0” Libra', '7° 48’', '3° 0’ 30”', '68° 59’', '21° 1’', '68° 59’', '2° 48’ 31”', '21° 1’', '26° 56’ Libra.', '2° 47’ 48”', '2° 48’ 31”', '62° 37’', '39° 55’', '53° 5’', '30° 54’', '32° 6’', '26° 2’', '46° 22’', '29° 15’', '29° 19’', '29° 20’', '29° 9’', '29° 12’', '56° 44’', '9° 26’', '18° 25’', '27° 39’', '205° 27’ 10”', '26° 18’ 48” Libra', '29° 14’', '44° 45’', '29° 13’', '29° 18’', '29° 15’', '29° 19’', '29° 14’', '29° 9’', '29° 9’', '17° 56’ 5” Taurus', '9° 26’', '22° 35’ 10”', '24° 22’ 56” Aries', '11° 34’ 30” Aries', '0° 0’ 45”', '0° 2’ 20”', '0° 0’ 25”', '0° 3’ 46”', '1° 7’', '5° 31’ Taurus.', '5° 31’ Taurus', '11° 17’', '16° 48’ Taurus', '17° Leo', '17° Leo', '17° Leo', '17° Leo.', '72° 33’', '17° Aquarius', '17° Leo', '17° Aquarius', '17° Leo', '22° Virgo', '17° Aquarius', '25° 31’ Virgo', '23° Sagittarius', '1° 50’', '6° 9’', '13° 0’ 40”', '0° 7’ Virgo', '8° Scorpio', '5° 52’ Virgo', '16° 17’', '1° 47’', '20° 4’ 30” Virgo', '1° 47’', '1° 50’', '20° 58’', '1° 17’ Leo', '11° Taurus', '1° 50’', '15° 49’ Gemini', '30° Pisces', '1° 50’', '17° Aquarius', '2° Libra', '1° 36’', '1° 36’', '17° Taurus', '23° 14’ Leo', '2° 12’', '21° 26’ Leo', '16° Taurus', '16° Leo.', '1° 50’', '1° 45’', '1° 50’', '17° Scorpio', '16° Taurus', '21° 26’ Leo', '21° 26’ Leo', '17° Taurus', '17° Leo', '17° Leo', '17° Leo', '21° 16’ Leo', '21° Leo', '2° 43’ 27“', '1° 48’ 43“', '6° 3’', '4° 21’ 10“', '1° 41’ 50“', '1° 42’', '1° 50’', '8° 37’ Gemini', '0° 45’ 36“ Sagittarius', '7° 51’ 24“', '6° 28’ Gemini', '6° 28’ Gemini.', '1° 50’', '6° 28’ Gemini', '6° 28’ 35“ Gemini', '1° 40’', '16° 47’ Cancer', '1° 25’ 18“', '16° 54’ 32“ Cancer', '4° 6’', '4° 6’', '21° 18’ 11“ Leo', '22° 21’ 31“Aquarius.', '1° 3’ 20“', '1° 25’ 31“', '21° 36’ 10“ Leo.', '4° 32’ 10“', '4° 31’', '26° 26’ 17“ Virgo', '26° 26’ Virgo', '9° Sagittarius', '3° 42’ 22“', '23° 59’ 11“ Pisces.', '2° 26’ 49“', '1° 23’ 35“', '2° 26’ 49“', '25° 43’ 53“ Virgo.', '25° 43’ Virgo.', '3° 38’ N.', '3° 58’ 20“ Scorpio', '24° Sagittarius.', '1° 9’ 45“', '4° Scorpio', '3° 57’ Scorpio.', '5° 36’ 20“ Taurus.', '1° 39’ 20“', '1° 20’ 18“', '1° 39’ 20“', '4° 24’ 30“ Scorpio', '4° 24’ Scorpio', '27° 14’ 42“ Sagittarius', '24° 58’ 10“ Gemini.', '2° 16’ 10“', '1° 12’ 24“', '1° 15’ 20“', '26° 41’ 48“ Sagittarius', '12° 38’ Pisces', '11° 15’ 24“ Pisces', '1° 22’ 36“', '11° 2’ 31“ Virgo.', '1° 35’ 30“', '1° 14’ 51“', '12° 16’ Pisces.', '6° 2’', '17° 47’ 15“ Taurus', '0° 5’ 10“', '16° 50’ 30“ Scorpio.', '1° 0’ 35“', '1° 23’ 29“', '17° 31’ 40“ Taurus.', '0° 8’', '29° 4’ 53“ Sagittarius.', '4° 40’ 37“', '17° Cancer', '1° 25’ 0“', '2° 28’ Cancer.', '3° 33’', '3° 23’ N.', '3° 42’ Cancer', '10° 38’ 46“ Leo', '3° 26’ 30“ Aquarius.', '7° 12’ 16“', '1° 1’ 3“', '1° 24’ 47“', '8° 38’ Leo.', '4° 30’ 50“ N.', '52° 22’', '37° 22’ 20“', '56° 22’', '3° 43’ 30“', '52° 14’', '19° 23’', '13° 19’ 6“ Virgo', '50° 19’', '13° 19’ 30“ Virgo', '5° Scorpio', '13° 18’ Virgo', '10° 16’ 42“ Pisces.', '3° 1’ 18“', '1° 0’ 4“', '1° 24’ 9“', '12° 27’ 35“ Virgo.', '12° 27’ Virgo', '4° 10’', '4° 36’ 30“ Libra', '20° 18’', '16° 4’ Virgo', '1° 45’', '8° 17’', '12° 18’', '14° 19’ Virgo', '14° 21’ 18“ Virgo.', '4° 14’', '9° 24’', '17° 26’', '11° 19’ 20“ Virgo', '4° 7’ 40“', '3° 0’', '1° 7’', '4° 12’', '4° 9’', '4° 10’', '33° 4’', '29° 41’', '54° 2’', '54° 6’', '18° 25’ Libra.', '163° 13’', '18° 56’ 24“ Aries', '145° 45’', '2° 25’', '19° 20’ 8“ Aries.', '4° Scorpio', '1° 21’ 14“', '18° 37’ 50“ Libra.', '18° 37’ 10“ Libra.', '2° 25’', '26° Sagittarius', '23° 18’', '12° 16’ Pisces', '9° 55’', '25° 43’ Virgo', '91° 0’', '25° 43’ Virgo', '26° 39’ 23“ Sagittarius', '12° 10’ 30“ Pisces', '17° 24’ 22“ Taurus', '28° 44’ 0“ Leo', '12° 1’ 44“', '12° 19’ 46“', '12° 18’ 44“', '32° 2\\' 6\"', '28° 49\\' 8\" Leo', '70° 22\\' 29\"', '28° 48’ 55\" Leo.', '4° 8\\' 51\"', '85° 51\\' 9\"', '10° 32\\' 38\"', \"123° 27'\", '123° 27’', \"2° 30' Leo.\", \"24° 5' Leo.\", \"28° 49' Leo\", \"5° 11'\", \"16° 20' Leo\", \"3° 30'\", '21° Leo', '12° Pisces', '12° Virgo', \"1° 50'\", '4° 32\\' 10\"', '2° 42\\' 40\"', \"1° 50'\", \"1° 39'\", \"6° 3'\", \"4° 24'\", '21° Leo', '12° Pisces', '12° Virgo', '11° 3\\' 16\"', '11° 3\\' 16\"', '1° 1\\' 12\"', '11° 3\\' 16\"', '167° 55\\' 32\"', '82° 44\\' 20\"', '83° 57\\' 46\"', '12° 13\\' 37\" Pisces', \"12° 16' Pisces.\", '17° Cancer', \"3° 23'\", '29° 14\\' 58\"', '0° 12\\' 13\"', \"29° 13' Leo\", \"29° 13' Leo\", '26° 16\\' 38\"', '25° 44\\' 30\"', '25° 44\\' 30\" Aquarius', '21° 55\\' 0\"', '17° 39\\' 30\" Pisces', \"1° 48'\", '29° 11\\' 3\"', \"5° 30'\", '28° 51\\' 22\"', '26° 12\\' 43\"', '26° 48\\' 35\"', '20° 50\\' 55\"', '6° 37\\' 5\"', '8° 35\\' 33\"', '81° 24\\' 27\"', '81° 42\\' 35\"', '81° 24\\' 27\"', \"50° 16'\", '42° 54\\' 23\"', \"21° 27'\", \"42° 54'\", \"22° 43'\", '9° 14\\' 52\"', '13° 28\\' 16\" Libra.', '4° 23\\' 30\"', '25° 36\\' 30\"', '18° Gemini', '0° 50\\' 45\" Virgo', \"1° 5' Virgo\", \"6° 48' Virgo\", \"6° 34' Virgo.\", \"18° 0' Leo.\", \"6° 37' Virgo.\", '34° 32\\' 45\"', \"17° 30'\", '230° 23\\' 12\"', \"21° 34' Scorpio.\", \"36° 51'\", '64° 23\\' 30\"', '128° 47\\' 19\"', '51° 12\\' 41\"', '25° 9\\' 20\"', '25° 9\\' 20\"', \"5° 30' Capricorn\", '26° 3\\' 21\"', '8° 25\\' 21\"', '8° 25\\' 21\"', '4° 38\\' 50\"', '11° 14\\' 55\"', '18° 19\\' 56\"', \"127° 5'\", \"24° 22' Aries\", \"25° 6' Aries\", '15° 53\\' 45\" Taurus.', '20° 47\\' 45\"', '32° 7\\' 14\"', '15° 55\\' 23\"', \"1° 25'\", '35° 46\\' 23\"', '15° 56\\' 56\"', \"4° 45' Aries\", \"1° 8'\", '3° 37’ Aries', '42° 21’ 30\"', '15° 58\\' 30\"', '18° 52’ 15\" Taurus', '19° 15\\' 15\" Taurus', '3° 23’ 5\"', '42° 52\\' 47\"', '68° 12\\' 26\"', '46° 39\\' 10\"', '43° 6\\' 32\"', '68° 26\\' 44\"', '97° 50\\' 30\"', '24° 22\\' 56\" Aries', \"24° 20' Aries.\", '11° 32\\' 44\" Aries', '3° 6\\' 50\" Aries', '19° 39\\' 25\"', '2° 9\\' 4\"', '9° 23\\' 40\"', '3° 4\\' 27\" Aries.', '19° 41\\' 39\" Taurus.', '14° 19\\' 52\" Taurus.', '14° 18\\' 16\" Taurus', \"25° 53' Sagittarius.\", \"10° 17' Aquarius\", \"25° 57' Sagittarius.\", \"25° 57' Sagittarius\", \"19° 40' Taurus\", '23° 53\\' 0\"', '43° 22\\' 26\"', '93° 15\\' 8\"', '73° 24\\' 39\"', \"10° 36' Capricorn\", '19° 56\\' 4\"', '45° 26\\' 37\"', '43° 26\\' 18\"', '76° 37’ 30\"', '75° 8\\' 40\"', \"9° 24' Aries.\", '14° 21\\' 7\" Taurus', '24° Leo', '21° 40\\' 9\"', '5° 20\\' 2\"', \"21° 13'\", \"68° 47'\", '42° 6\\' 57\"', '69° 43\\' 31\"', '0° 56\\' 31\"', \"10° 19' Capricorn\", '8° 19\\' 20\" Virgo', '1° 1\\' 53\"', '88° 58\\' 7\"', '88° 58\\' 7\"', '91° 1\\' 53\"', '91° 1’ 53\"', '88° 58’ 7\"', '1° 27\\' 31\"', '0° 43\\' 46\"', '1° 27\\' 24\"', '1° 1\\' 53\"', '1° 1\\' 53\"', '1° 1\\' 53\"', '45° 43\\' 46\"', '14° 21\\' 7\" Taurus', '5° 25\\' 20\" Libra', '1° 12\\' 40\"', '5° 24\\' 30\" Libra.', '8° 19\\' 20\" Virgo', '1° 42\\' 40\"', '114° 2\\' 12\"', '27° 5\\' 17\"', '20° 26\\' 13\"', '35° 10\\' 17\"', '14° 44\\' 4\"', '29° 28\\' 8\"', '78° 44\\' 1\"', '29° 28\\' 8\"', '75° 15\\' 56\"', '38° 15\\' 45\"', '5° 24\\' 21\" Libra', \"28° 53' Leo\", \"4° 16' North\", '1° 4\\' 36\" Libra', \"3° 6'\", \"31° 27'\", \"25° 31' Virgo\", \"45° 17'\", \"2° 5'\", \"6° 14'\", \"17° 20' Virgo\", \"3° 23' N.\", '68° 36\\' 0\"', '88° 28\\' 50\"', '33° 58\\' 33\"', '29° 19\\' 49\" Leo', \"1° 48'\", \"1° 36'\", \"18° 36' Capricorn\", \"4° 16'\", \"1° 16'\", \"0° 53'\", \"14° 20' Capricorn.\", \"3° 46'\", \"16° 56' Pisces.\", \"1° 48'\", '29° 54\\' 53\" Aquarius', '29° 52\\' 55\"', '29° 20\\' 12\" Leo.', '29° 20\\' 12\" Leo', '29° 20\\' 12\" Leo.', '180° 38\\' 2\"', '29° 25\\' 28\" Leo', '29° 25\\' 28\" Leo.', '5° 17\\' 34\"', '5° 18\\' 28\"', '10° 36\\' 2\"', '95° 18\\' 28\"', '3° 45\\' 12\"', '41° 28\\' 54\"', '48° 45\\' 12\"', '41° 20\\' 33\"', \"5° 19'\", \"5° 19'\", '28° 41\\' 40\" Leo', '0° 53\\' 13\"', '95° 18\\' 28\"', '95° 18\\' 28\"', '5° 20\\' 18\"', '84° 42\\' 2\"', '5° 20\\' 18\"', '48° 45\\' 12\"', '3° 45\\' 12\"', '48° 45\\' 12\"', '41° 14\\' 9\"', '41° 20\\' 33\"', '138° 45\\' 12\"', '48° 45\\' 55\"', '131° 7\\' 26\"', '179° 14\\' 15\"', '179° 14\\' 15\"', '5° 15\\' 30\"', '358° 28\\' 30\"', '48° 42\\' 59\"', '48° 46\\' 51\"', '48° 42\\' 51\"', '41° 13\\' 9\"', \"52° 53'\", \"37° 44'\", '53° 23\\' 56\"', \"48° 44'\", \"41° 22'\", '26° 0\\' 36\"', '26° 13\\' 39\"', \"50° 34'\", \"50° 34'\", '50° 32\\' 18\"', \"18° 11' Libra\", '21° 50\\' 20\"', \"21° 41'\", \"8° 43' Sagittarius.\", '16° 47\\' 10\" Capricorn', \"306° 57'\", \"10° 17'\", \"0° 33' S.\", '28° 41\\' 14\"', '15° 31\\' 3\" Scorpio.', '38° 0\\' 40\"', '23° 6\\' 11\"', '15° 40\\' 9\" Scorpio', '15° 43\\' 40\" Scorpio.', '15° 29\\' 34\" Scorpio', '87° 9\\' 24\"', '10° Gemini.', '11° 31\\' 27\" Taurus', '5° 39\\' 3\" Capricorn.', '2° 4\\' 22\"', '28° 58\\' 10\"', '87° 9\\' 24\"', '76° 25\\' 48\"', '12° 32\\' 22\" Gemini.', '12° 32\\' 22\" Gemini', '5° 39\\' 3\" Capricorn', \"16° 20' Taurus\", \"1° 50'\", '29° 10\\' 43\"', \"9° 43' Gemini\", \"15° 40' Scorpio\", '1° 36’ 24\"', \"9° 54' Cancer\", '12° 16\\' 17\" Cancer.', \"12° 16' Cancer.\", \"12° 9' Cancer.\", \"12° 16'\", \"4° 12'\", \"12° 16' Cancer.\", '16° 38\\' 8\" Scorpio', '29° 42\\' 10\"', \"2° 6'\", \"12° 13' Cancer\", '7° 31\\' 10\" Scorpio', '9° 46\\' 8\"', '28° 51\\' 8\"', '70° 55\\' 0\"', '0° 8\\' 43\" Scorpio', \"28° 11'\", '21° 39\\' 10\"', '8° 21\\' 47\"', '38° 43\\' 20\"', '1° 26\\' 30\"', '17° Scorpio', \"54° 12'\", '29° 35\\' 17\" Scorpio', '15° 10\\' 20\"', \"73° 34'\", '24° 59\\' 2\" Gemini.', '26° 35\\' 30\" Cancer', \"70° 55'\", '29° 31\\' 24\"', '15° 35\\' 0\"', '76° 17\\' 48\"', '14° 0\\' 3\" Sagittarius', '22° 8\\' 44\" Cancer', '23° 14\\' 15\" Leo', '26° 0\\' 30\" Leo', '2° 46\\' 25\"', \"2° 48'\", \"1° 28'\", '27° 27\\' 30\" Leo', '73° 27\\' 27\"', '12° 38\\' 44\"', \"43° 48'\", '5° Scorpio', '26° Sagittarius', '16° Scorpio', \"11° 37'\", '15° 9\\' 5\" Aquarius', '9° 0\\' 25\"', \"5° 19'\", '4° 16\\' 51\" Capricorn', '26° 6\\' 24\" Virgo', '81° 49\\' 33\"', \"11° 37'\", '24° 3\\' 43\" Scorpio', \"1° 37'\", '60° 47\\' 43\"', \"11° 37'\", '2° 8\\' 43\" Gemini', \"2° 15'\", '30° 15\\' 44\"', \"12° 10' Sagittarius\", '4° 11\\' 20\"', \"114° 41'\", \"113° 24'\", '21° 44\\' 56\"', '1° 11\\' 47\"', '2° 39\\' 15\" Scorpio', '2° 10\\' 52\" S.', '25° 41\\' 0\" Virgo', '7° 59\\' 52\" Leo', \"2° 30'\", '45° 35\\' 13\"', '34° 43\\' 47\"', '17° 2\\' 31\" Pisces', '17° 25\\' 42\" Cancer', '56° 11\\' 46\"', '161° 45\\' 28\"', '29° Leo', '24° Leo', '22° 15’', \"16° 5' Cancer\", '0° 41\\' 0\" Cancer', '18° 48\\' 47\" Leo', '7° 14’ 34\"', \"11° 37'\", \"1° 43'\", '10° 9\\' 41\"', '8° 2\\' 51\"', \"4° 4'\", \"11° 52'\", \"5° 18'\", '29° Taurus', '44° 52\\' 34\"', \"57° 14'\", \"4° 44' Aries\", \"18° 35' Taurus\", \"16° 42' Scorpio.\", \"16° 47' Scorpio\", \"12° 16' Pisces\", '6° 7\\' 30\"', '6° 5\\' 30\"', '5° 52\\' 15\"', '6° 2\\' 30\"', \"166° 36'\", '6° 2\\' 30\"', \"16° 43' Taurus\", \"64° 27'\", '1° 39\\' 22\"', \"8° 26' Leo.\", \"8° 26' Leo\", '1° 49\\' 37\"', \"16° 43' Taurus\", '1° 50\\' 2\"', \"4° 31'\", '4° 31\\' 10\"', '7° 6\\' 23\"', '4° 31\\' 10\"', '1° 50\\' 20\"', '1° 50\\' 45\"', '1° 50\\' 8\"', '1° 50\\' 25\"', \"34° 7'\", \"3° 41'\", \"0° 5' N.\", \"3° 23'\", '1° 50\\' 30\"', '1° 50\\' 25\"', \"16° 46' Scorpio\", \"16° 46' Taurus\", \"3° 37'\", \"3° 37'\", \"1° 7'\", \"4° 10'\", '1° 51\\' 0\"', '4° 29\\' 10\"', '1° 8\\' 34\"', '6° 58\\' 24\"', '1° 4\\' 36\"', '4° 44\\' 12\"', \"16° 50' Leo.\", '17° Leo', \"4° 31'\", \"4° 31'\", '19° Leo', '1° 8\\' 30\"', '19° Leo', '6° 52\\' 20\"', '2° 41\\' 18\" Pisces', '2° 40’ 48\" Pisces', '6° 21\\' 14\"', '2° 41\\' 18\" Pisces', '5° 3\\' 29\"', '5° 21\\' 36\"', \"160° 33'\", \"19° 27'\", '6° 19\\' 10\"', '29° Leo', \"16° 45' Leo\", '1° 1\\' 33\"', '2° 3\\' 6\"', \"16° 48' Taurus.\", \"17° 38' Taurus\", \"2° 3'\", '1° 50\\' 45\"', '1° 50\\' 8\"', \"23° 42'\", \"4° 20'\", \"21° 0' Gemini\", \"21° 0' Sagittarius\", '21° Gemini', '29° Leo', \"2° 23'\", '3° Gemini', '80° 57\\' 14\"', '68° 21\\' 20\"', '93° 2\\' 20\"', \"0° 41' Leo\", \"1° 24'\", \"80° 53'\", '96° 10\\' 48\"', \"0° 3' Leo\", \"29° 31' Aquarius\", \"29° 27' Leo\", \"21° 7' Gemini\", \"29° 27' Leo\", \"1° 12'\", '11° 4’ Sagittarius', '92° 8’', \"3° 5' Pisces\", '92° 8’', '5° Pisces', '30° Taurus', \"54° 10'\", '11° 18\\' 30\" Sagittarius.', '11° 18\\' 30\"', \"2° 30' Leo\", '8° 48\\' 30\"', '0° 47\\' 30\"', '6° 31\\' 45\"', '8° 52\\' 45\"', \"0° 41' Leo\", \"1° 49'\", '28° 58\\' 50\" Leo', \"2° 27'\", \"3° 3' Pisces\", \"2° 30' Leo.\", '1° 47\\' 0\"', '12° 47\\' 41\" Pisces', '11° 27\\' 49\"', '9° 40\\' 49\"', '7° 14’ 36\"', '8° 23’', \"2° 36' Gemini\", '2° 53\\' 40\"', '5° 29\\' 40\" Gemini', '1° 5\\' 6\"', '3° 43\\' 14\"', '5° 28\\' 40\" Gemini.', '1° 4\\' 6\"', '3° 45\\' 45\"', \"1° 36' Sagittarius.\", \"4° 22' Sagittarius\", '25° Capricorn', '25° 32\\' 50\"', '2° 0\\' 30\"', '6° 7\\' 12\"', '3° 40\\' 20\"', '27° 33\\' 20\"', '82° 43\\' 46\"', '4° 49\\' 34\"', '27° 15\\' 44\"', '0° 40\\' 37\"', '4° 51\\' 28\"', \"2° 30' Leo\", \"24° 17' Leo.\", \"27° 36' Scorpio.\", '3° 20\\' 0\"', '4° 51\\' 28\"', \"24° 17' Leo.\", \"4° 15'\", \"56° 35'\", \"1° 7'\", \"1° 5'\", \"1° 46'\", \"1° 20'\", \"1° 5'\", \"2° 25'\", \"2° 25'\", '198° 21\\' 30\"', \"19° 20'\", '1° 21\\' 14\"', '1° 21\\' 14\"', '198° 21\\' 30\"', '198° 37\\' 50\"']\n"
     ]
    }
   ],
   "source": [
    "print_entities(examples)"
   ]
  },
  {
   "cell_type": "markdown",
   "metadata": {},
   "source": [
    "## See Misaligned Tokens"
   ]
  },
  {
   "cell_type": "markdown",
   "metadata": {},
   "source": [
    "<fig size= 3>\n",
    "This step is very important, since if Pordigy faces with Misaligned tokens, we can see that before and try to adjust regex accordingly\n",
    "<fig size>"
   ]
  },
  {
   "cell_type": "code",
   "execution_count": 20,
   "metadata": {},
   "outputs": [],
   "source": [
    "def misaligned_token(examples):\n",
    "    counter=0\n",
    "    nlp = spacy.load(\"en_core_web_sm\")  \n",
    "    for example in examples:  \n",
    "        doc = nlp(example[\"text\"])\n",
    "        for span in example[\"spans\"]:\n",
    "            char_span = doc.char_span(span[\"start\"], span[\"end\"])\n",
    "            if char_span is None:  \n",
    "                counter+=1\n",
    "                print(\"{}- Misaligned tokens-->\".format(counter), example[\"text\"], span)"
   ]
  },
  {
   "cell_type": "code",
   "execution_count": 64,
   "metadata": {},
   "outputs": [
    {
     "name": "stdout",
     "output_type": "stream",
     "text": [
      "1- Misaligned tokens--> On 1580 November 12 at 10h 50m,1 they set Mars down at 8° 36’ 50” Gemini2 without mentioning the horizontal variations,  by which term I wish the diurnal parallaxes and the refractions to be understood in what follows. {'start': 55, 'end': 72, 'label': 'LONG'}\n",
      "2- Misaligned tokens--> On 1593 24 August at 10h 30m they report Mars as being at 12° 38’ Pisces12 with an observed diurnal motion of 16’ 45”, and this near the nonagesimal13 where there is no longitudinal parallax. {'start': 58, 'end': 72, 'label': 'LONG'}\n",
      "3- Misaligned tokens--> But from this right ascension, I first select,  from Tycho’s table of right ascensions, the degree of the right sphere that was riding at the same time, 28° 1’ 0” Libra,27 whose declination, from another of that author’s tables,28 is 10° 48’ 30” [South]. {'start': 153, 'end': 168, 'label': 'LONG'}\n",
      "4- Misaligned tokens--> Hence, its apparent longitude is found to be 0° 7’ Virgo,7 latitude 1° 36’ 6” N ^8. {'start': 45, 'end': 56, 'label': 'LONG'}\n",
      "5- Misaligned tokens--> Suppose, however, that on 1580 November 12 at 10h 50m Mars was observed at 8° 37’ Gemini,3 and the motion over five days was 1° 55’. {'start': 75, 'end': 88, 'label': 'LONG'}\n",
      "6- Misaligned tokens--> On the night following 1582 December 28, at 11h 30m, Mars was observed at 16° 47’ Cancer,6 while the true position of the sun was 17° 13’ 45“ Capricorn. {'start': 74, 'end': 88, 'label': 'LONG'}\n",
      "7- Misaligned tokens--> On the night following 1587 March 4, at 1h 16m past midnight, the position of Mars was found to be 26° 26’ 17“ Virgo,8 from Cor Leonis9 and Spica Virginis, with an observed latitude of 3° 38’ 16“ north. {'start': 99, 'end': 116, 'label': 'LONG'}\n",
      "8- Misaligned tokens--> On the night following 1589 April 15 at 12h 5m, the planet was found at 3° 58’ 20“ Scorpio,13 with latitude 1° 4’ 20“ north, decreasing. {'start': 72, 'end': 90, 'label': 'LONG'}\n",
      "9- Misaligned tokens--> On the night following 1591 June 6 at 12h 20m, Mars was found at 27° 14’ 42“ Sagittarius,16 with latitude 3° 55½’ south. {'start': 65, 'end': 88, 'label': 'LONG'}\n",
      "10- Misaligned tokens--> On 1593 August 24 at 10h 30m, the ecliptic position of Mars was found  to be 12° 38’ Pisces,18 with latitude 6° 5’ 30“ south. {'start': 77, 'end': 91, 'label': 'LONG'}\n",
      "11- Misaligned tokens--> On 1595 October 30 at 8h 20m, the planet was found at 17° 47’ 15“ Taurus,19 not far from the nonagesimal. {'start': 54, 'end': 72, 'label': 'LONG'}\n",
      "12- Misaligned tokens--> And since the distance between Cor Leonis and Procyon was 37° 22’ 20“, which should have been 37° 19’ 50“,24 we know that the sextant reads 2½ minutes high. {'start': 94, 'end': 105, 'label': 'LONG'}\n",
      "13- Misaligned tokens--> Magini puts it at 1° 5' Virgo,7 14' or 15' too much. {'start': 18, 'end': 29, 'label': 'LONG'}\n",
      "14- Misaligned tokens--> And δηζ will be 43° 26' 18\", and δγζ 86° 52' 36\", γδζ 46° 33' 42\", and γδα 1° 7' 5\"- a different angle from different beginnings. {'start': 75, 'end': 83, 'label': 'LONG'}\n",
      "15- Misaligned tokens--> At 7¼h on the morning of that day, Mars's mean longitude is calculated to be 7s 26° 13' 39\",2 a few minutes beyond the other. {'start': 80, 'end': 91, 'label': 'LONG'}\n",
      "16- Misaligned tokens--> Therefore, 306° 57' on the equator was rising, and along with it 29° Sagittarius,4 at which the angle between the ecliptic and the horizon is 26°, its complement 64°. {'start': 65, 'end': 80, 'label': 'LONG'}\n",
      "17- Misaligned tokens--> And for the first time the mean anomaly is 87° 9' 24\", and 87° 16' 30\"8 for the second. {'start': 59, 'end': 70, 'label': 'LONG'}\n",
      "18- Misaligned tokens--> 12 at 13h 26m at 23° 14' 15\" Leo,23 with latitude 2° 12' 24\" N. On the 20th of Nov. {'start': 17, 'end': 32, 'label': 'LONG'}\n",
      "19- Misaligned tokens--> 1227 at 5h 13m am, the mean longitude was 6s 12° 38' 44\",28 aphelion 4s 28° 50' 57\"; and consequently, the mean anomaly was 43° 47' 48\", lower than our previous one by 24 minutes. {'start': 45, 'end': 56, 'label': 'LONG'}\n",
      "20- Misaligned tokens--> 1° 37',32 {marginal: {'start': 0, 'end': 6, 'label': 'LONG'}\n",
      "21- Misaligned tokens--> And in Chapter 28, at a mean anomaly of 11° 37', which, after the correction of Chapter 53 preceding, becomes 11° 52',2 the distance of the point on the ecliptic to which a perpendicular dropped from the body of Mars descends, was found to be 166,180, or 166,208. {'start': 110, 'end': 117, 'label': 'LONG'}\n",
      "22- Misaligned tokens--> And since the node is at 16° 43' Taurus,2 I subtract from this 12° 16' Pisces. {'start': 25, 'end': 39, 'label': 'LONG'}\n",
      "23- Misaligned tokens--> And this is the amount of the inclination of the point K as it would appear from A. And since Mars is at 20° 1½' Aquarius, and the node is at 16° 43' Taurus,7 and thus the elongation of Mars from the node is 86° 42', therefore, as the sine of this elongation is to the whole sine, so is the sine of 1° 49' 37\" to the sine of the maximum inclination, 3200 ^8. {'start': 142, 'end': 156, 'label': 'LONG'}\n",
      "24- Misaligned tokens--> And since the [full-circle] complement of Mars's equated anomaly was 7° 6' 23\",11 its distance from the sun was 166,334, and the sun's distance from the earth, 98,724. {'start': 69, 'end': 78, 'label': 'LONG'}\n",
      "25- Misaligned tokens--> Hence it is concluded that the maximum southern latitude will be about 6° 52' 20\",4 and at conjunction it appears as 2° 4' 20\" ^5. {'start': 71, 'end': 81, 'label': 'LONG'}\n",
      "26- Misaligned tokens--> And since 2° 40’ 48\" Pisces, the position on the orbit, is distant from 16° 43' Taurus10 by 74° 2', the inclination will therefore be 1° 46' 10\". {'start': 72, 'end': 86, 'label': 'LONG'}\n",
      "27- Misaligned tokens--> But when 36' are subtracted from Mars's aphelion, placing it at 0° 3' Leo26 for the last time, and when its mean motion is so adjusted that for the middle time the [mean] anomaly is 34° 58½’ with longitude from the equinoctial of 5s 5° 0' 50\", the following observations result:27 {'start': 64, 'end': 73, 'label': 'LONG'}\n",
      "28- Misaligned tokens--> Therefore, [the position of] its mean motion is 11° 4’ Sagittarius,37 which, in the first case, was 11° 18½’ Sagittarius. {'start': 48, 'end': 66, 'label': 'LONG'}\n",
      "29- Misaligned tokens--> If the sun had been at 3° 5' Pisces,41 where Ptolemy placed it using his eccentricity, the moon could not have appeared 92° 8' from it, the measure that is just and computed from the hypothesis, for the reason that the setting sun reaches the eye by refraction, and appears higher than it actually is (and thus 30’ farther to the east). {'start': 23, 'end': 35, 'label': 'LONG'}\n",
      "30- Misaligned tokens--> The apparent magnitude of this arc, using the Ptolemaic distance of the sun and earth, 102,100, will be 3° 45' 45\",4 so the planet will fall at 1° 43' Sagittarius. {'start': 104, 'end': 114, 'label': 'LONG'}\n",
      "31- Misaligned tokens--> Then the sun's elongation from Cor Leonis is 5s 27° 33' 20\",8 differing from Mars's eccentric longitude of 1s 26° 35' 7\" by 4s 0° 58' 13\". {'start': 48, 'end': 59, 'label': 'LONG'}\n"
     ]
    }
   ],
   "source": [
    "misaligned_token(examples)"
   ]
  },
  {
   "cell_type": "markdown",
   "metadata": {},
   "source": [
    "# Edge Cases"
   ]
  },
  {
   "cell_type": "markdown",
   "metadata": {},
   "source": [
    "## Solution"
   ]
  },
  {
   "cell_type": "markdown",
   "metadata": {},
   "source": [
    "We can modify our annotation rules based on the above examples"
   ]
  },
  {
   "cell_type": "code",
   "execution_count": 66,
   "metadata": {},
   "outputs": [
    {
     "name": "stdout",
     "output_type": "stream",
     "text": [
      "1- Misaligned tokens--> On 1580 November 12 at 10h 50m,1 they set Mars down at 8° 36’ 50” Gemini2 without mentioning the horizontal variations,  by which term I wish the diurnal parallaxes and the refractions to be understood in what follows. {'start': 55, 'end': 72, 'label': 'LONG'}\n"
     ]
    }
   ],
   "source": [
    "misaligned_token(examples)"
   ]
  },
  {
   "cell_type": "markdown",
   "metadata": {},
   "source": [
    "# Refined Edge Cases"
   ]
  },
  {
   "cell_type": "markdown",
   "metadata": {},
   "source": [
    "- 8° 36’ 50” Gemini2\n",
    "\n"
   ]
  },
  {
   "cell_type": "markdown",
   "metadata": {},
   "source": [
    "### One Possible Solution "
   ]
  },
  {
   "cell_type": "code",
   "execution_count": 68,
   "metadata": {
    "collapsed": true,
    "jupyter": {
     "outputs_hidden": true
    }
   },
   "outputs": [
    {
     "name": "stdout",
     "output_type": "stream",
     "text": [
      "There is 1002 entities with this detail\n",
      "['3° 4\\' 52\"', '41° 55\\' 8\"', '16° 33\\' 30\"', '7° 28\\' 56\"', '37° 32\\' 37\"', '1\\' 33\"', '4° 20\\' 8\"', '85° 39\\' 52\"', '11° 25\\' 48\"', '11° 23\\' 53\"', '1’ 55”', '5° 27’ 47”', '23° 32\\' 16\" Leo', '5° 27’ 47”', '5° 27’ 47”', '78° 51’ 54”', '4’ 24”', '4’ 24”', '47° 59’ 16”', '44° 59’ 10”', '44° 59’ 10”', '53° 26’ 17”', '44° 59’ 10”', '7° 30’ 10”', '3° 0’ 6”', '16° Cancer.', '16° Cancer', '1° 3’ 32” But', '2° 3’', '9° Leo.', '23° 45’', '5° 2’', '23° 25’', '23° 20’', '17° Taurus', '3° Cancer', '17° Cancer', '27° Sagittarius.', '26° 45’ 24” Gemini.', '26° 24’ 43” Sagittarius.', '10’ 20”', '26° 24’ 13” Sagittarius', '18° Taurus', '13° Pisces.', '18° Taurus', '17° Taurus', '4° 33’', '1° 50’', '8° 36’ 50” Gemini2', '8° 20’', '1° 55’', '1° 52’', '6° 41’ 50” Gemini', '1’ 4”', '6° 46’ 10” Gemini.', '16° 47’', '16° 46’ 16” Cancer', '21° 18’ 11” Leo', '24’ 15”', '7’ 41”', '21° 10’ 30” Leo', '25° 10’ 20” Virgo.', '1’ 48”', '25° 8’ 32” Virgo', '3° 58\\' 21\" Scorpio', '1’ 22”', '3° 58’ 10”', '27° 15’', '1° 12’ 47”', '39’ 29”', '26° 35’ 31” Sagittarius.', '26° 32’', '12° 38’', '5’ 48”', '12° 43’ 48” Pisces.', '12° 43’ 45”', '17° 48’', '11’ 7”', '17° 56’ 15” Taurus', '3° 30’', '1° 15’', '2° 28’', '10° 38’ 46” Leo', '6° 18’', '23’ 44”', '2° 25’', '1° 6’', '44° 41’', '5° 31’', '17° 38’', '36° 43’', '23° 29’', '43° 58’', '23° 27’', '67° 21’', '23° 29’', '23° 16’', '23° 9’', '7° 51’', '7° 59’', '44° 22’', '9° 44’', '32° 57’', '9° 48’ 45”', '32° 4’', '9° 2’', '39° 54’', '30° 52’', '28° 1’ 0” Libra,27', '7° 48’', '3° 0’ 30”', '68° 59’', '21° 1’', '68° 59’', '2° 48’ 31”', '21° 1’', '26° 56’', '2° 47’ 48”', '2° 48’ 31”', '62° 37’', '39° 55’', '53° 5’', '30° 54’', '32° 6’', '26° 2’', '46° 22’', '29° 15’', '29° 19’', '29° 20’', '29° 9’', '29° 12’', '56° 44’', '9° 26’', '18° 25’', '27° 39’', '205° 27’ 10”', '26° 18’ 48” Libra', '29° 14’', '44° 45’', '29° 13’', '29° 18’', '29° 15’', '29° 19’', '4’ 24”', '3’ 0”', '4’ 20”', '8’ 45”', '4’ 36”', '2’ 25”', '29° 14’', '29° 9’', '29° 9’', '17° 56’ 5” Taurus', '9° 26’', '22° 35’ 10”', '24° 22’ 56” Aries', '11° 34’ 30” Aries', '0° 0’ 45”', '0° 2’ 20”', '0° 0’ 25”', '0° 3’ 46”', '6’ 45”', '1° 7’', '5° 31’', '5° 31’', '11° 17’', '16° 48’', '17° Leo', '17° Leo', '17° Leo', '17° Leo.', '72° 33’', '17° Aquarius', '17° Leo', '17° Aquarius', '17° Leo', '22° Virgo', '17° Aquarius', '25° 31’', '23° Sagittarius', '1° 50’', '6° 9’', '13° 0’ 40”', '0° 7’', '8° Scorpio', '5° 52’', '16° 17’', '1° 47’', '20° 4’ 30” Virgo', '1° 47’', '1° 50’', '20° 58’', '1° 17’', '11° Taurus', '1° 50’', '15° 49’', '30° Pisces', '1° 50’', '17° Aquarius', '2° Libra', '1° 36’', '1° 36’', '17° Taurus', '23° 14’', '2° 12’', '21° 26’', '16° Taurus', '16° Leo.', '1° 50’', '1° 45’', '1° 50’', '17° Scorpio', '16° Taurus', '21° 26’', '21° 26’', '17° Taurus', '17° Leo', '17° Leo', '17° Leo', '21° 16’', '21° Leo', '2° 43’ 27“', '1° 48’ 43“', '6° 3’', '4° 21’ 10“', '1° 41’ 50“', '1° 42’', '1° 50’', '8° 37’', '0° 45’ 36“ Sagittarius', '7° 51’ 24“', '51’ 24“', '6° 28’', '6° 28’', '1° 50’', '6° 28’', '6° 28’ 35“ Gemini', '1° 40’', '16° 47’', '61’ 18“', '26’ 45“', '1° 25’ 18“', '16° 54’ 32“ Cancer', '4° 6’', '4° 6’', '21° 18’ 11“ Leo', '22° 21’ 31“Aquarius.', '1° 3’ 20“', '61’ 16“', '1° 25’ 31“', '21° 36’ 10“ Leo.', '4° 32’ 10“', '4° 31’', '26° 26’ 17“ Virgo,8', '26° 26’', '9° Sagittarius', '3° 42’ 22“', '23° 59’ 11“ Pisces.', '2° 26’ 49“', '59’ 35“', '2° 26’ 49“', '25° 43’ 53“ Virgo.', '25° 43’', '3° 38’', '3° 58’ 20“ Scorpio,13', '24° Sagittarius.', '5’ 24“', '1° 9’ 45“', '2’ 38“', '4° Scorpio', '3° 57’', '5° 36’ 20“ Taurus.', '1° 39’ 20“', '22’ 8“', '1° 39’ 20“', '4° 24’ 30“ Scorpio', '4° 24’', '27° 14’ 42“ Sagittarius,16', '24° 58’ 10“ Gemini.', '2° 16’ 10“', '57’ 8“', '18’ 12“', '1° 15’ 20“', '26° 41’ 48“ Sagittarius', '12° 38’', '11° 15’ 24“ Pisces', '1° 22’ 36“', '11° 2’ 31“ Virgo.', '1° 35’ 30“', '58’ 20“', '1° 14’ 51“', '12° 16’', '6° 2’', '17° 47’ 15“ Taurus,19', '0° 5’ 10“', '16° 50’ 30“ Scorpio.', '56’ 45“', '1° 0’ 35“', '1° 23’ 29“', '40’ 47“', '17° 31’ 40“ Taurus.', '0° 8’', '29° 4’ 53“ Sagittarius.', '4° 40’ 37“', '61’ 20“', '1° 25’ 0“', '2° 28’', '3° 33’', '3° 23’', '3° 42’', '10° 38’ 46“ Leo', '3° 26’ 30“ Aquarius.', '7° 12’ 16“', '1° 1’ 3“', '1° 24’ 47“', '8° 38’', '4° 30’ 50“ N.', '52° 22’', '37° 22’ 20“', '56° 22’', '3° 43’ 30“', '52° 14’', '19° 23’', '13° 19’ 6“ Virgo', '50° 19’', '13° 19’ 30“ Virgo', '5° Scorpio', '2’ 41“', '4’ 13“', '2’ 36“', '10° 16’ 42“ Pisces.', '3° 1’ 18“', '1° 0’ 4“', '1° 24’ 9“', '12° 27’ 35“ Virgo.', '12° 27’', '4° 10’', '4° 36’ 30“ Libra', '20° 18’', '16° 4’', '1° 45’', '8° 17’', '12° 18’', '14° 19’', '14° 21’ 18“ Virgo.', '4° 14’', '9° 24’', '17° 26’', '11° 19’ 20“ Virgo', '4° 7’ 40“', '3° 0’', '1° 7’', '4° 12’', '4° 9’', '4° 10’', '33° 4’', '29° 41’', '54° 2’', '54° 6’', '18° 25’', '163° 13’', '18° 56’ 24“ Aries', '145° 45’', '3’ 28“', '2° 25’', '3’ 32“', '19° 20’ 8“ Aries.', '58’ 38“', '4° Scorpio', '1° 21’ 14“', '18° 37’ 50“ Libra.', '18° 37’ 10“ Libra.', '2° 25’', '26° Sagittarius', '23° 18’', '12° 16’', '9° 55’', '25° 43’', '91° 0’', '25° 43’', '3’ 37“', '26° 39’ 23“ Sagittarius', '5’ 30“', '12° 10’ 30“ Pisces', '7’ 18“', '17° 24’ 22“ Taurus', '28° 44’ 0“ Leo', '24’ 15“', '3’ 20“', '1’ 48“', '29’ 15“', '1’ 48“', '12° 18’ 44“', '30\\' 38\"', '1\\' 30\"', '32° 2\\' 6\"', '28° 49\\' 8\" Leo', '70° 22\\' 29\"', '7’ 20\"', '23\\' 18\"', '3\\' 55\",23', '4° 8\\' 51\"', '85° 51\\' 9\"', '10° 32\\' 38\"', \"123° 27'\", '123° 27’', \"2° 30' Leo.\", \"24° 5' Leo.\", \"28° 49' Leo\", \"5° 11'\", '6\\' 29\"', '25\\' 30\"', '1\\'4\"', \"16° 20' Leo\", \"3° 30'\", '5\\' 17\"', '25\\' 30\"', '20\\' 13\"', '21° Leo', '12° Pisces', '12° Virgo', \"1° 50'\", '4° 32\\' 10\"', '2° 42\\' 40\"', \"1° 50'\", \"1° 39'\", \"6° 3'\", \"4° 24'\", '21° Leo', '12° Pisces', '12° Virgo', '11° 3\\' 16\"', '11° 3\\' 16\"', '1° 1\\' 12\"', '11° 3\\' 16\"', '167° 55\\' 32\"', '82° 44\\' 20\"', '83° 57\\' 46\"', '12° 13\\' 37\" Pisces', \"12° 16' Pisces.\", '17° Cancer', \"3° 23'\", '29° 14\\' 58\"', '0° 12\\' 13\"', \"29° 13' Leo\", \"29° 13' Leo\", '26° 16\\' 38\"', '25° 44\\' 30\"', '25° 44\\' 30\" Aquarius', '21° 55\\' 0\"', '17° 39\\' 30\" Pisces', \"1° 48'\", '29° 11\\' 3\"', \"5° 30'\", '28° 51\\' 22\"', '26° 12\\' 43\"', '26° 48\\' 35\"', '20° 50\\' 55\"', '6° 37\\' 5\"', '8° 35\\' 33\"', '81° 24\\' 27\"', '81° 42\\' 35\"', '81° 24\\' 27\"', '18\\' 8\"', \"50° 16'\", '42° 54\\' 23\"', \"21° 27'\", \"42° 54'\", \"22° 43'\", '9° 14\\' 52\"', '13° 28\\' 16\" Libra.', '4° 23\\' 30\"', '25° 36\\' 30\"', '18° Gemini', '0° 50\\' 45\" Virgo', \"1° 5' Virgo,7\", \"6° 48' Virgo\", \"6° 34' Virgo.\", \"18° 0' Leo.\", \"6° 37' Virgo.\", '34° 32\\' 45\"', \"17° 30'\", '230° 23\\' 12\"', \"21° 34' Scorpio.\", \"36° 51'\", '64° 23\\' 30\"', '128° 47\\' 19\"', '51° 12\\' 41\"', '25° 9\\' 20\"', '25° 9\\' 20\"', \"5° 30' Capricorn\", '26° 3\\' 21\"', '8° 25\\' 21\"', '8° 25\\' 21\"', '4° 38\\' 50\"', '11° 14\\' 55\"', '18° 19\\' 56\"', \"127° 5'\", \"24° 22' Aries\", \"25° 6' Aries\", '15° 53\\' 45\" Taurus.', '20° 47\\' 45\"', '32° 7\\' 14\"', '15° 55\\' 23\"', \"1° 25'\", '35° 46\\' 23\"', '15° 56\\' 56\"', \"4° 45' Aries\", \"1° 8'\", '3° 37’', '42° 21’ 30\"', '15° 58\\' 30\"', '18° 52’ 15\" Taurus', '19° 15\\' 15\" Taurus', '3° 23’ 5\"', '42° 52\\' 47\"', '68° 12\\' 26\"', '46° 39\\' 10\"', '43° 6\\' 32\"', '68° 26\\' 44\"', '97° 50\\' 30\"', '24° 22\\' 56\" Aries', \"24° 20' Aries.\", '11° 32\\' 44\" Aries', '3° 6\\' 50\" Aries', '19° 39\\' 25\"', '2° 9\\' 4\"', '9° 23\\' 40\"', '2\\' 25\"', '3° 4\\' 27\" Aries.', '22\\' 11\"', '19° 41\\' 39\" Taurus.', '14° 19\\' 52\" Taurus.', '1\\' 36\"', '14° 18\\' 16\" Taurus', \"25° 53' Sagittarius.\", \"10° 17' Aquarius\", \"25° 57' Sagittarius.\", \"25° 57' Sagittarius\", \"19° 40' Taurus\", '23° 53\\' 0\"', '43° 22\\' 26\"', '93° 15\\' 8\"', '73° 24\\' 39\"', \"10° 36' Capricorn\", '19° 56\\' 4\"', '45° 26\\' 37\"', '43° 26\\' 18\"', '76° 37’ 30\"', '75° 8\\' 40\"', \"9° 24' Aries.\", '14° 21\\' 7\" Taurus', '24° Leo', '21° 40\\' 9\"', '5° 20\\' 2\"', \"21° 13'\", \"68° 47'\", '42° 6\\' 57\"', '69° 43\\' 31\"', '0° 56\\' 31\"', \"10° 19' Capricorn\", '8° 19\\' 20\" Virgo', '1° 1\\' 53\"', '88° 58\\' 7\"', '88° 58\\' 7\"', '91° 1\\' 53\"', '91° 1’ 53\"', '88° 58’ 7\"', '1° 27\\' 31\"', '0° 43\\' 46\"', '43\\' 38\"', '1° 27\\' 24\"', '43\\' 46\"', '1° 1\\' 53\"', '1° 1\\' 53\"', '1° 1\\' 53\"', '45° 43\\' 46\"', '44\\' 19\"', '43\\' 46\"', '14° 21\\' 7\" Taurus', '5° 25\\' 20\" Libra', '1° 12\\' 40\"', '5° 24\\' 30\" Libra.', '8° 19\\' 20\" Virgo', '1° 42\\' 40\"', '114° 2\\' 12\"', '27° 5\\' 17\"', '20° 26\\' 13\"', '35° 10\\' 17\"', '14° 44\\' 4\"', '29° 28\\' 8\"', '78° 44\\' 1\"', '29° 28\\' 8\"', '75° 15\\' 56\"', '38° 15\\' 45\"', '5° 24\\' 21\" Libra', \"28° 53' Leo\", \"4° 16' North\", '1° 4\\' 36\" Libra', '2° 54\"', \"3° 6'\", \"31° 27'\", \"25° 31' Virgo\", \"45° 17'\", \"2° 5'\", \"6° 14'\", \"17° 20' Virgo\", \"3° 23' N.\", '68° 36\\' 0\"', '88° 28\\' 50\"', '33° 58\\' 33\"', '29° 19\\' 49\" Leo', \"1° 48'\", \"1° 36'\", \"18° 36' Capricorn\", \"4° 16'\", \"1° 16'\", \"0° 53'\", \"14° 20' Capricorn.\", \"3° 46'\", \"16° 56' Pisces.\", '55\\' 20\"', \"1° 48'\", '29° 54\\' 53\" Aquarius', '29° 52\\' 55\"', '29° 20\\' 12\" Leo.', '29° 20\\' 12\" Leo', '33\\' 53\"', '26\\' 13\"', '26\\' 13\"', '11\\' 49\"', '5\\' 16\"', '33\\' 53\"', '20\\' 36\"', '11\\' 49\"', '45\\' 42\"', '45\\' 42\"', '5° 17\\' 34\"', '5° 18\\' 28\"', '10° 36\\' 2\"', '95° 18\\' 28\"', '3° 45\\' 12\"', '41° 28\\' 54\"', '48° 45\\' 12\"', '45\\' 12\"', \"5° 19'\", \"5° 19'\", '28° 41\\' 40\" Leo', '0° 53\\' 13\"', '95° 18\\' 28\"', '95° 18\\' 28\"', '5° 20\\' 18\"', '84° 42\\' 2\"', '2\\' 20\"', '1\\' 10\"', '48° 45\\' 12\"', '3° 45\\' 12\"', '48° 45\\' 12\"', '41° 14\\' 9\"', '41° 20\\' 33\"', '138° 45\\' 12\"', '48° 45\\' 55\"', '131° 7\\' 26\"', '92\\' 40\"', '46\\' 20\"', '45\\' 45\"', '45\\' 15\"', '179° 14\\' 15\"', '3\\' 50\"', '5° 15\\' 30\"', '358° 28\\' 30\"', '48° 42\\' 59\"', '48° 46\\' 51\"', '48° 42\\' 51\"', '41° 13\\' 9\"', \"52° 53'\", \"37° 44'\", '53° 23\\' 56\"', \"48° 44'\", \"41° 22'\", '26° 0\\' 36\"', '26° 13\\' 39\",2', \"50° 34'\", \"50° 34'\", '50° 32\\' 18\"', \"18° 11' Libra\", '21° 50\\' 20\"', \"21° 41'\", '9\\' 20\"', \"8° 43' Sagittarius.\", '16° 47\\' 10\" Capricorn', \"306° 57'\", '6\\' 30\"', '3\\' 29\"', \"10° 17'\", '2\\' 30\"', '2\\' 30\"', '3\\' 29\"', '3\\' 36\"', '28° 41\\' 14\"', '15° 31\\' 3\" Scorpio.', '38° 0\\' 40\"', '23° 6\\' 11\"', '15° 40\\' 9\" Scorpio', '8\\' 3\"', '4\\' 48\"', '12\\' 37\"', '15° 43\\' 40\" Scorpio.', '15° 29\\' 34\" Scorpio', '87° 9\\' 24\"', '10° Gemini.', '11° 31\\' 27\" Taurus', '5° 39\\' 3\" Capricorn.', '2° 4\\' 22\"', '28° 58\\' 10\"', '87° 9\\' 24\"', '76° 25\\' 48\"', '12° 32\\' 22\" Gemini.', '12° 32\\' 22\" Gemini', '5° 39\\' 3\" Capricorn', \"16° 20' Taurus\", \"1° 50'\", '48\\' 32\"', '29° 10\\' 43\"', \"9° 43' Gemini\", '43\\' 52\"', \"15° 40' Scorpio\", '1° 36’ 24\"', \"9° 54' Cancer\", '12° 16\\' 17\" Cancer.', \"12° 16' Cancer.\", \"12° 9' Cancer.\", \"12° 16'\", \"4° 12'\", \"12° 16' Cancer.\", '16° 38\\' 8\" Scorpio', '29° 42\\' 10\"', \"2° 6'\", \"12° 13' Cancer\", '7° 31\\' 10\" Scorpio', '9° 46\\' 8\"', '28° 51\\' 8\"', '70° 55\\' 0\"', '0° 8\\' 43\" Scorpio', \"28° 11'\", '21° 39\\' 10\"', '8° 21\\' 47\"', '38° 43\\' 20\"', '1° 26\\' 30\"', '17° Scorpio', \"54° 12'\", '29° 35\\' 17\" Scorpio', '15° 10\\' 20\"', \"73° 34'\", '24° 59\\' 2\" Gemini.', '26° 35\\' 30\" Cancer', \"70° 55'\", '29° 31\\' 24\"', '15° 35\\' 0\"', '76° 17\\' 48\"', '14° 0\\' 3\" Sagittarius', '22° 8\\' 44\" Cancer', '23° 14\\' 15\" Leo,23', '26° 0\\' 30\" Leo', '2° 46\\' 25\"', \"2° 48'\", \"1° 28'\", '27° 27\\' 30\" Leo', '73° 27\\' 27\"', '12° 38\\' 44\",28', \"43° 48'\", '1\\' 30\"', '5° Scorpio', '26° Sagittarius', '16° Scorpio', \"11° 37'\", '15° 9\\' 5\" Aquarius', '9° 0\\' 25\"', '1\\' 30\"', \"5° 19'\", '4° 16\\' 51\" Capricorn', '26° 6\\' 24\" Virgo', '81° 49\\' 33\"', '1\\' 30\"', \"11° 37'\", '24° 3\\' 43\" Scorpio', \"1° 37',32\", '60° 47\\' 43\"', '1\\' 30\"', \"11° 37'\", '2° 8\\' 43\" Gemini', \"2° 15'\", '30° 15\\' 44\"', \"12° 10' Sagittarius\", '4° 11\\' 20\"', \"114° 41'\", \"113° 24'\", '21° 44\\' 56\"', '1° 11\\' 47\"', '2° 39\\' 15\" Scorpio', '2° 10\\' 52\" S.', '25° 41\\' 0\" Virgo', '7° 59\\' 52\" Leo', \"2° 30'\", '17\\' 22\"', '30\\' 55\"', '13\\' 33\"', '6\\' 46\"', '45° 35\\' 13\"', '34° 43\\' 47\"', '6\\' 46\"', '17° 25\\' 42\" Cancer', '56° 11\\' 46\"', '161° 45\\' 28\"', '29° Leo', '24° Leo', '22° 15’', \"16° 5' Cancer\", '0° 41\\' 0\" Cancer', '18° 48\\' 47\" Leo', '7° 14’ 34\"', \"11° 37'\", \"1° 43'\", '10° 9\\' 41\"', '8° 2\\' 51\"', \"4° 4'\", \"11° 52'\", \"5° 18'\", '29° Taurus', '44° 52\\' 34\"', \"57° 14'\", \"4° 44' Aries\", \"18° 35' Taurus\", '3\\' 20\"', '19\\' 45\"', \"16° 42' Scorpio.\", \"16° 47' Scorpio\", \"12° 16' Pisces\", '6° 7\\' 30\"', '6° 5\\' 30\"', '5° 52\\' 15\"', '13\\' 15\"', '6° 2\\' 30\"', \"166° 36'\", '6° 2\\' 30\"', \"16° 43' Taurus,2\", \"64° 27'\", '1° 39\\' 22\"', \"8° 26' Leo.\", \"8° 26' Leo\", '1° 49\\' 37\"', \"16° 43' Taurus,7\", '1° 50\\' 2\"', \"4° 31'\", '4° 31\\' 10\"', '7° 6\\' 23\",11', '4° 31\\' 10\"', '1° 50\\' 20\"', '1° 50\\' 45\"', '1° 50\\' 8\"', '1° 50\\' 25\"', \"34° 7'\", \"3° 41'\", \"0° 5' N.\", \"3° 23'\", '1° 50\\' 30\"', '1° 50\\' 25\"', \"16° 46' Scorpio\", \"16° 46' Taurus\", \"3° 37'\", \"3° 37'\", \"1° 7'\", \"4° 10'\", '1° 51\\' 0\"', '4° 29\\' 10\"', '1° 8\\' 34\"', '6° 58\\' 24\"', '1° 4\\' 36\"', '4° 44\\' 12\"', \"16° 50' Leo.\", '17° Leo', \"4° 31'\", \"4° 31'\", '19° Leo', '1° 8\\' 30\"', '19° Leo', '6° 52\\' 20\",4', '2° 41\\' 18\" Pisces', '2° 40’ 48\" Pisces', '6° 21\\' 14\"', '2° 41\\' 18\" Pisces', '5° 3\\' 29\"', '5° 21\\' 36\"', \"160° 33'\", \"19° 27'\", '6° 19\\' 10\"', '29° Leo', \"16° 45' Leo\", '1° 1\\' 33\"', '2° 3\\' 6\"', \"16° 48' Taurus.\", \"17° 38' Taurus\", \"2° 3'\", '1° 50\\' 45\"', '1° 50\\' 8\"', \"23° 42'\", \"4° 20'\", \"21° 0' Gemini\", \"21° 0' Sagittarius\", '21° Gemini', '29° Leo', \"2° 23'\", '3° Gemini', '80° 57\\' 14\"', '68° 21\\' 20\"', '93° 2\\' 20\"', \"0° 41' Leo\", \"1° 24'\", '11\\' 24\"', '5\\' 15\"', '5\\' 40\"', \"0° 3' Leo\", \"29° 31' Aquarius\", \"29° 27' Leo\", \"21° 7' Gemini\", \"29° 27' Leo\", '10\\' 30\"', \"1° 12'\", '11° 4’', '1\\' 30\"', '92° 8’', \"3° 5' Pisces,41\", '92° 8’', '5° Pisces', '30° Taurus', \"54° 10'\", '11° 18\\' 30\" Sagittarius.', '11° 18\\' 30\"', \"2° 30' Leo\", '8° 48\\' 30\"', '0° 47\\' 30\"', '6° 31\\' 45\"', '8° 52\\' 45\"', \"0° 41' Leo\", \"1° 49'\", '28° 58\\' 50\" Leo', \"2° 27'\", \"3° 3' Pisces\", \"2° 30' Leo.\", '1° 47\\' 0\"', '12° 47\\' 41\" Pisces', '11° 27\\' 49\"', '9° 40\\' 49\"', '2\\' 42\"', '7° 14’ 36\"', '8° 23’', \"2° 36' Gemini\", '2° 53\\' 40\"', '5° 29\\' 40\" Gemini', '1° 5\\' 6\"', '3° 43\\' 14\"', '5° 28\\' 40\" Gemini.', '1° 4\\' 6\"', '3° 45\\' 45\",4', \"1° 36' Sagittarius.\", \"4° 22' Sagittarius\", '25° Capricorn', '25° 32\\' 50\"', '2° 0\\' 30\"', '6° 7\\' 12\"', '3° 40\\' 20\"', '27° 33\\' 20\",8', '82° 43\\' 46\"', '4° 49\\' 34\"', '17\\' 36\"', '0° 40\\' 37\"', '4° 51\\' 28\"', \"2° 30' Leo\", \"24° 17' Leo.\", \"27° 36' Scorpio.\", '3° 20\\' 0\"', '4° 51\\' 28\"', \"24° 17' Leo.\", \"4° 15'\", \"56° 35'\", \"1° 7'\", \"1° 5'\", \"1° 46'\", \"1° 20'\", '16\\' 20\"', \"1° 5'\", '3\\' 28\"', \"2° 25'\", '198° 21\\' 30\"', \"19° 20'\", '58\\' 38\"', '58\\' 38\"', '1° 21\\' 14\"', '198° 21\\' 30\"', '58\\' 38\"', '16\\' 20\"', '198° 37\\' 50\"']\n"
     ]
    }
   ],
   "source": [
    "print_entities(examples)"
   ]
  },
  {
   "cell_type": "code",
   "execution_count": 69,
   "metadata": {},
   "outputs": [
    {
     "name": "stdout",
     "output_type": "stream",
     "text": [
      "1- Misaligned tokens--> And δηζ will be 43° 26' 18\", and δγζ 86° 52' 36\", γδζ 46° 33' 42\", and γδα 1° 7' 5\"- a different angle from different beginnings. {'start': 75, 'end': 83, 'label': 'LONG'}\n",
      "2- Misaligned tokens--> And for the first time the mean anomaly is 87° 9' 24\", and 87° 16' 30\"8 for the second. {'start': 59, 'end': 70, 'label': 'LONG'}\n",
      "3- Misaligned tokens--> And in Chapter 28, at a mean anomaly of 11° 37', which, after the correction of Chapter 53 preceding, becomes 11° 52',2 the distance of the point on the ecliptic to which a perpendicular dropped from the body of Mars descends, was found to be 166,180, or 166,208. {'start': 110, 'end': 117, 'label': 'LONG'}\n",
      "4- Misaligned tokens--> And since 2° 40’ 48\" Pisces, the position on the orbit, is distant from 16° 43' Taurus10 by 74° 2', the inclination will therefore be 1° 46' 10\". {'start': 72, 'end': 86, 'label': 'LONG'}\n",
      "5- Misaligned tokens--> But when 36' are subtracted from Mars's aphelion, placing it at 0° 3' Leo26 for the last time, and when its mean motion is so adjusted that for the middle time the [mean] anomaly is 34° 58½’ with longitude from the equinoctial of 5s 5° 0' 50\", the following observations result:27 {'start': 64, 'end': 73, 'label': 'LONG'}\n"
     ]
    }
   ],
   "source": [
    "misaligned_token(examples)"
   ]
  },
  {
   "cell_type": "code",
   "execution_count": 72,
   "metadata": {},
   "outputs": [
    {
     "name": "stdout",
     "output_type": "stream",
     "text": [
      "1- Misaligned tokens--> On 1593 24 August at 10h 30m they report Mars as being at 12° 38’ Pisces12 with an observed diurnal motion of 16’ 45”, and this near the nonagesimal13 where there is no longitudinal parallax. {'start': 58, 'end': 72, 'label': 'LONG'}\n"
     ]
    }
   ],
   "source": [
    "misaligned_token(examples)\n"
   ]
  },
  {
   "cell_type": "code",
   "execution_count": 76,
   "metadata": {},
   "outputs": [],
   "source": [
    "misaligned_token(examples)"
   ]
  },
  {
   "cell_type": "code",
   "execution_count": 15,
   "metadata": {},
   "outputs": [
    {
     "ename": "NameError",
     "evalue": "name 'print_entities' is not defined",
     "output_type": "error",
     "traceback": [
      "\u001b[1;31m---------------------------------------------------------------------------\u001b[0m",
      "\u001b[1;31mNameError\u001b[0m                                 Traceback (most recent call last)",
      "\u001b[1;32m<ipython-input-15-5474c7124696>\u001b[0m in \u001b[0;36m<module>\u001b[1;34m\u001b[0m\n\u001b[1;32m----> 1\u001b[1;33m \u001b[0ma_08\u001b[0m\u001b[1;33m=\u001b[0m\u001b[0mprint_entities\u001b[0m\u001b[1;33m(\u001b[0m\u001b[0mexamples\u001b[0m\u001b[1;33m)\u001b[0m\u001b[1;33m\u001b[0m\u001b[1;33m\u001b[0m\u001b[0m\n\u001b[0m",
      "\u001b[1;31mNameError\u001b[0m: name 'print_entities' is not defined"
     ]
    }
   ],
   "source": [
    "a_08=print_entities(examples)"
   ]
  },
  {
   "cell_type": "code",
   "execution_count": 80,
   "metadata": {},
   "outputs": [
    {
     "name": "stdout",
     "output_type": "stream",
     "text": [
      "1- Misaligned tokens--> Hence, owing to our removal of the vernal equinox westward from that star, which was then 28° 2½’,4 it is concluded that Mars’s apogee was at 23° 25’ Leo. {'start': 90, 'end': 97, 'label': 'LONG'}\n",
      "2- Misaligned tokens--> In Tycho’s table of oppositions, the apparent latitude at 21° 16’ Leo was 4° 32⅙’22 {'start': 74, 'end': 81, 'label': 'LONG'}\n",
      "3- Misaligned tokens--> The sun was at 22° 21’ 31“Aquarius. {'start': 15, 'end': 26, 'label': 'LONG'}\n",
      "4- Misaligned tokens--> And since the latitude of the fixed star is 56° 22’, the remainder, by subtraction, is 4° 2½’—supposing that Mars was at precisely the same longitude as the fixed star. {'start': 87, 'end': 93, 'label': 'LONG'}\n",
      "5- Misaligned tokens--> And on midnight of July 30 the position of Mars disagrees with Magini's midday position by 3° 25½’, and on August 10 by 3° 59½’,so that the difference is increased, but gradually less so. {'start': 120, 'end': 127, 'label': 'LONG'}\n"
     ]
    }
   ],
   "source": [
    "misaligned_token(examples)"
   ]
  },
  {
   "cell_type": "code",
   "execution_count": 87,
   "metadata": {},
   "outputs": [],
   "source": [
    "label = \"LAT\"   \n",
    "texts = sents  \n",
    "\n",
    "regex_patterns = [\n",
    "                  re.compile(r\"8° 36’ 50” Gemini2|87° 16\\' 30\\\"8|16° 43\\' Taurus10|0° 3\\' Leo26|11° 52\\',2|12° 38’ Pisces12\"\n",
    "                              \"|\\d{1,3}\\s?°\\s?\\d{1,2}\\s?[\\'|’]\\s?\\d{1,2}\\s?[\\\"|”|“]\\s?[A-Z][a-z.]+(,\\d{1,2})?\"\n",
    "                              \"|\\d{1,3}\\s?[\\'|’|°]\\s?\\d{1,2}\\s?[\\'|’|\\\"|”|“]\\s?\\s?[A-Z][a-z.]+(,\\d{1,2})?\"\n",
    "                              \"|\\d{1,3}\\s?°\\s?\\d{1,2}\\s?[\\'|’]\\s?\\d{1,2}\\s?[\\\"|”|“]-?(,\\d{1,2})?\"\n",
    "                              \"|\\d{1,3}\\s?[\\'|’|°]\\s?\\d{1,2}\\s?[\\'|’|\\\"|”|“](,\\d{2})?\"\n",
    "                              \"|\\d{1,3}\\s?°\\s?[A-Z][a-z.]+(,\\d{1,2})?\")           \n",
    "]     \n",
    "\n",
    "\n",
    "regex_patterns = [\n",
    "                  re.compile(r\"\\d{1,3}\\s?°\\s?\\d{1,2}\\s?[\\'|’]\\s?\\d{1,2}\\s?[\\u00BC-\\u00BE\\u2150-\\u215E]?[\\\"|”|“]\\s?(N(?!\\w)|S(?!\\w)|southern|south|north)\"\n",
    "                              \"|\\d{1,3}\\s?[\\'|’|°]\\s?\\d{1,2}\\s?[\\u00BC-\\u00BE\\u2150-\\u215E]?[\\'|’|\\\"|”|“]\\s?(N(?!\\w)|S(?!\\w)|southern|south|north)\")\n",
    "]\n",
    "\n",
    "regex_patterns = [\n",
    "                  re.compile(r\"6° 6¼’ south,19\"\n",
    "                              \"|\\d{1,3}\\s?°\\s?\\d{1,2}\\s?[\\'|’]\\s?\\d{1,2}\\s?[\\u00BC-\\u00BE\\u2150-\\u215E]?[\\\"|”|“]\\s?(southern|south|north)\"\n",
    "                              \"|\\d{1,3}\\s?[\\'|’|°]\\s?\\d{1,2}\\s?[\\u00BC-\\u00BE\\u2150-\\u215E]?[\\'|’|\\\"|”|“]\\s?(southern|south|north)\")\n",
    "]\n",
    " \n",
    "#(5° 20\\' 2\\\"  Libra,|21° 44\\' 56\\\"  Sagittarius,|(?<!\\S)\\d{1,2}\\s?°\\s\\d{1,2}\\s?[\\'|’]\\s?\\d{1,2}\\s?[\\\"|”]\\s[A-Z][a-z]+(?!\\S?\\S)|(?<!\\S)\\d{1,2}\\s?°\\s\\d{1,2}\\s?[\\'|’]\\s?\\d{1,2}\\s?[\\\"|”].?(?!\\S?\\S)|(?<!\\S)\\d{1,2}\\s?°\\s?\\d{1,2}\\s?[\\'|’]\\s?[A-Z][a-z]+(?!\\S?\\S))[,:/.]?\n",
    "examples = []\n",
    "for text in texts:\n",
    "    for expression in regex_patterns:\n",
    "        spans = []\n",
    "    for match in re.finditer(expression, text):\n",
    "        start, end = match.span()\n",
    "        span = {\"start\": start, \"end\": end, \"label\": label}\n",
    "        spans.append(span)\n",
    "    task = {\"text\": text, \"spans\": spans}\n",
    "    examples.append(task)              \n",
    "\n",
    "write_jsonl(\"NER_LATI_V02.jsonl\", examples)\n",
    "\n"
   ]
  },
  {
   "cell_type": "code",
   "execution_count": 88,
   "metadata": {},
   "outputs": [
    {
     "name": "stdout",
     "output_type": "stream",
     "text": [
      "There is 60 entities with this detail\n",
      "['6° 26’ south', '5° 31’ south', '0° 5’ 15” north', '3’ 12” south', '0° 2’ south', '0° 0’ 45” north', '0° 2’ 20” south', '0° 0’ 25” north', '1° 7’ north', '1° 36’ 45” north', '13° 0’ 40” north', '1° 50⅔’ north', '1° 49⅔’ north', '1° 41⅔’ southern', '1° 52⅓’ south', '1° 36’ south', '2° 12⅖’ north', '1° 49¾’ north', '2° 10⅚’ south', '6° 3’ south', '1° 40’ north', '4° 6’ north', '4° 32’ 10“ north', '3° 38’ 16“ north', '3° 42’ 22“ north', '1° 4’ 20“ north', '1° 9’ 45“ north', '3° 55½’ south', '6° 5’ 30“ south', '5° 52’ 15“ south', '6° 2’ south', '0° 5’ 10“ north', '0° 8’ north', '3° 33’ north', '4° 8’ north', '4° 10⅔’ north', '2° 50’ north', '4° 12’ north', '4° 14’ north', '4° 7’ 40“ north', '31° 2½’ north', '2° 22’ north', \"3° 23' north\", '6° 6¼’ south', '1° 19\\' 30\" north', \"17° 25' south\", '1° 0\\' 30\" north', \"2° 5' south\", '1° 53½’ north', '1° 16⅔’ north', \"1° 36' south\", '6° 6¼’ south,19', '0° 6⅔’ north', '5° 14\\' 30\" south', '0° 1\\' 15\" south', '3\\' 20\" south', '19\\' 45\" north', '5° 46¼’ south', '1° 50\\' 2\" south', \"4° 31' north\"]\n"
     ]
    }
   ],
   "source": [
    "a_10=print_entities(examples)"
   ]
  },
  {
   "cell_type": "code",
   "execution_count": 89,
   "metadata": {},
   "outputs": [],
   "source": [
    "misaligned_token(examples)"
   ]
  },
  {
   "cell_type": "code",
   "execution_count": 93,
   "metadata": {
    "collapsed": true,
    "jupyter": {
     "outputs_hidden": true
    }
   },
   "outputs": [
    {
     "name": "stdout",
     "output_type": "stream",
     "text": [
      "There is 1096 entities with this detail\n",
      "['3° 4\\' 52\"', '41° 55\\' 8\"', '16° 33\\' 30\"', '7° 28\\' 56\"', '37° 32\\' 37\"', '1\\' 33\"', '4° 20\\' 8\"', '85° 39\\' 52\"', '11° 25\\' 48\"', '11° 23\\' 53\"', '1’ 55”', '47° 59¼’', '5° 27’ 47”', '23° 32\\' 16\" Leo', '5° 27’ 47”', '5° 27’ 47”', '78° 51’ 54”', '4’ 24”', '4’ 24”', '47° 59’ 16”', '44° 59’ 10”', '44° 59’ 10”', '53° 26’ 17”', '44° 59’ 10”', '7° 30’ 10”', '3° 0’ 6”', '8½° Cancer', '16° Cancer', '1° 3’ 32” But', '2° 3’', '9° Leo.', '23° 45’ Leo.', '5° 2’', '28° 2½’,4', '23° 20’ Leo', '17° Taurus', '3° Cancer', '17° Cancer', '27° Sagittarius.', '26° 45’ 24” Gemini.', '26° 24’ 43” Sagittarius.', '10’ 20”', '26° 24’ 13” Sagittarius', '18° Taurus', '13° Pisces.', '18° Taurus', '17° Taurus', '4° 33’', '1° 50’', '8° 36’ 50” Gemini2', '8° 20’ Gemini', '1° 55’', '1° 52’', '6° 41’ 50” Gemini', '1’ 4”', '6° 46’ 10” Gemini.', '16° 47’ Cancer', '16° 46’ 16” Cancer', '21° 18’ 11” Leo', '24’ 15”', '7’ 41”', '21° 10’ 30” Leo', '25° 10’ 20” Virgo.', '1’ 48”', '25° 8’ 32” Virgo', '3° 58\\' 21\" Scorpio', '1’ 22”', '3° 58’ 10”', '27° 15’ Sagittarius', '1° 12’ 47”', '39’ 29”', '26° 35’ 31” Sagittarius.', '26° 32’ Sagittarius.', '12° 38’ Pisces12', '5’ 48”', '12° 43’ 48” Pisces.', '12° 43’ 45”', '17° 48’ Taurus', '11’ 7”', '17° 56’ 15” Taurus', '3° 30’ Cancer', '1° 15’', '2° 30½’', '2° 28’', '10° 38’ 46” Leo', '6° 18’ Leo.', '23’ 44”', '2° 25’', '1° 6’', '44° 41’', '5° 31’', '17° 53⅓’', '36° 43’', '29° 38½’', '23° 29’', '43° 58’', '23° 27’', '23° 12½’', '67° 21’', '23° 29’', '23° 16’', '23° 9’', '7° 51’', '7° 59’', '44° 22’', '44° 27⅓’', '44° 32½’', '9° 44’', '32° 57’', '9° 48’ 45”', '32° 4’', '9° 2’', '39° 54’', '30° 52’', '28° 1’ 0” Libra,27', '7° 48’', '3° 0’ 30”', '68° 59’', '21° 1’', '68° 59’', '2° 48’ 31”', '21° 1’', '26° 56’ Libra.', '2° 47’ 48”', '2° 48’ 31”', '62° 37’', '39° 55’', '53° 5’', '30° 54’', '32° 6’', '29° 18⅓’', '26° 2’', '46° 22½’', '29° 13½’', '29° 19’', '29° 20’', '29° 9’', '29° 12’', '29° 9½’', '56° 44’', '29° 9½’', '29° 10¼’', '9° 26’', '32° 19½’', '18° 25’', '27° 39’', '39° 32½’', '205° 27’ 10”', '26° 18’ 48” Libra', '29° 9⅙’', '29° 13½’', '44° 45’', '44° 39½’', '29° 13½’', '29° 18’', '29° 15’', '29° 19’', '4’ 24”', '3’ 0”', '12½° Mars', '4’ 20”', '8’ 45”', '4’ 36”', '2’ 25”', '29° 9½’', '29° 13½’', '29° 12½’', '29° 9’', '29° 9’', '17° 56’ 5” Taurus', '4° 34½’', '9° 26’', '22° 35’ 10”', '24° 22’ 56” Aries', '11° 34’ 30” Aries', '0° 0’ 45”', '0° 2’ 20”', '0° 0’ 25”', '0° 3’ 46”', '6’ 45”', '1° 7’', '27° 14½’', '5° 31’ Taurus', '11° 17’', '15° 44½’', '17° Leo', '17° Leo', '17° Leo', '17° Leo.', '72° 33’', '17° Aquarius', '17° Leo', '17° Aquarius', '17° Leo', '22° Virgo', '17° Aquarius', '25° 31’ Virgo', '9° 19⅖’', '1° 53½’', '1° 50’', '6° 9’', '13° 0’ 40”', '0° 7’ Virgo,7', '8° Scorpio', '19⅖° Scorpio', '16° 17’', '1° 47’', '25° 12¼’', '20° 4’ 30” Virgo', '2° 16½’', '1° 47’', '1° 50’', '20° 58’', '1° 17’ Leo', '11° Taurus', '1° 50’', '15° 49’ Gemini', '30° Pisces', '1° 50’', '17° Aquarius', '16° 47⅓’', '16° 45⅔’', '2° Libra', '1° 36’', '1° 36’', '17° Taurus', '1° 50⅔’', '23° 14’ Leo', '2° 12’', '21° 26’ Leo', '16° Taurus', '16° Leo.', '1° 49¾’', '1° 27⅓’', '2° 18⅔’,20', '2½° Scorpio', '1° 45’', '1° 50’', '17° Scorpio', '16° Taurus', '21° 26’ Leo', '21° 26’ Leo', '17° Taurus', '17° Leo', '17° Leo', '17° Leo', '21° 16’ Leo', '21° Leo', '4° 32⅙’', '2° 43’ 27“', '1° 48’ 43“', '6° 3’', '12½° Pisces.', '4° 21’ 10“', '1° 41’ 50“', '1° 42’', '1° 50’', '8° 37’ Gemini,3', '0° 45’ 36“ Sagittarius', '7° 51’ 24“', '51’ 24“', '6° 28’ Gemini', '16½° Taurus.', '6° 28’ Gemini.', '1° 50’', '6° 28’ Gemini', '6° 28’ 35“ Gemini', '1° 40’', '16° 47’ Cancer,6', '61’ 18“', '26’ 45“', '1° 25’ 18“', '16° 54’ 32“ Cancer', '4° 6’', '4° 6’', '21° 18’ 11“ Leo', '22° 21’ 31“Aquarius', '1° 3’ 20“', '61’ 16“', '1° 25’ 31“', '21° 36’ 10“ Leo.', '4° 32’ 10“', '4° 31’', '26° 26’ 17“ Virgo,8', '26° 26’ Virgo', '9° Sagittarius', '3° 42’ 22“', '23° 59’ 11“ Pisces.', '2° 26’ 49“', '59’ 35“', '2° 26’ 49“', '25° 43’ 53“ Virgo.', '25° 43’ Virgo.', '3° 38’ N.', '3° 58’ 20“ Scorpio,13', '24° Sagittarius.', '5’ 24“', '1° 9’ 45“', '2’ 38“', '4° Scorpio', '3° 57’ Scorpio.', '5° 36’ 20“ Taurus.', '1° 39’ 20“', '22’ 8“', '1° 39’ 20“', '4° 24’ 30“ Scorpio', '4° 24’ Scorpio', '27° 14’ 42“ Sagittarius,16', '24° 58’ 10“ Gemini.', '2° 16’ 10“', '57’ 8“', '18’ 12“', '1° 15’ 20“', '26° 41’ 48“ Sagittarius', '4° 1½’', '12° 38’ Pisces,18', '11° 15’ 24“ Pisces', '1° 22’ 36“', '11° 2’ 31“ Virgo.', '1° 35’ 30“', '58’ 20“', '1° 14’ 51“', '12° 16’ Pisces.', '6° 2’', '17° 47’ 15“ Taurus,19', '0° 5’ 10“', '16° 50’ 30“ Scorpio.', '56’ 45“', '1° 0’ 35“', '1° 23’ 29“', '40’ 47“', '17° 31’ 40“ Taurus.', '0° 8’', '3° 45½’', '29° 4’ 53“ Sagittarius.', '4° 40’ 37“', '61’ 20“', '1° 25’ 0“', '2° 27⅓’', '2° 28’ Cancer.', '3° 33’', '3° 40¼’', '3° 42’ Cancer', '10° 38’ 46“ Leo', '3° 26’ 30“ Aquarius.', '7° 12’ 16“', '1° 1’ 3“', '1° 24’ 47“', '8° 38’ Leo.', '4° 30’ 50“ N.', '52° 22’', '37° 22’ 20“', '52° 19½’', '56° 22’', '3° 43’ 30“', '52° 14’', '19° 23’', '13° 19’ 6“ Virgo', '50° 19’', '13° 19’ 30“ Virgo', '5° Scorpio', '2’ 41“', '4° 10⅔’', '4’ 13“', '2’ 36“', '10° 16’ 42“ Pisces.', '3° 1’ 18“', '1° 0’ 4“', '1° 24’ 9“', '12° 27’ 35“ Virgo.', '12° 27’ Virgo', '4° 10’', '4° 36’ 30“ Libra', '20° 18’', '16° 4’ Virgo', '1° 45’', '8° 17’', '12° 18’', '14° 19’ Virgo', '14° 21’ 18“ Virgo.', '4° 14’', '11¼° Virgo.', '9° 24’', '17° 26’', '11° 19’ 20“ Virgo', '4° 7’ 40“', '3° 0’', '1° 7’', '4° 12’', '4° 9’', '4° 10⅔’', '33° 4’', '29° 43½’', '31° 2½’', '54° 8½’', '54° 2’', '54° 6’', '2° 21½’', '163° 13’', '18° 56’ 24“ Aries', '145° 45’', '22½° Scorpio.', '3’ 28“', '2° 25’', '3’ 32“', '18° 21½’', '19° 20’ 8“ Aries.', '58’ 38“', '4° Scorpio', '1° 21’ 14“', '18° 37’ 50“ Libra.', '18° 37’ 10“ Libra.', '2° 25’', '2⅔° Cancer', '23° 18’', '12° 16’ Pisces', '9° 55’', '25° 43’ Virgo', '91° 0’', '25° 43’ Virgo', '3’ 37“', '26° 39’ 23“ Sagittarius', '5’ 30“', '12° 10’ 30“ Pisces', '7’ 18“', '17° 24’ 22“ Taurus', '28° 44’ 0“ Leo', '24’ 15“', '3’ 20“', '1’ 48“', '29’ 15“', '1’ 48“', '12° 18’ 44“', '30\\' 38\"', '1\\' 30\"', '32° 2\\' 6\"', '28° 49\\' 8\" Leo', '70° 22\\' 29\"', '7’ 20\"', '23\\' 18\"', '3\\' 55\",23', '4° 8\\' 51\"', '85° 51\\' 9\"', '10° 32\\' 38\"', '5½° Gemini', '25½° Cancer', '5½° Gemini', \"123° 27'\", '5½° Sagittarius', \"2° 30' Leo.\", \"24° 5' Leo.\", \"28° 49' Leo\", \"5° 11'\", '6\\' 29\"', '25\\' 30\"', '1\\'4\"', '25½° Cancer', \"16° 20' Leo\", \"3° 30'\", '5\\' 17\"', '25\\' 30\"', '20\\' 13\"', '21° Leo', '12° Pisces', '12° Virgo', \"1° 50'\", '4° 32\\' 10\"', '2° 42\\' 40\"', \"1° 50'\", \"1° 39'\", \"6° 3'\", \"4° 24'\", '21° Leo', '12° Pisces', '12° Virgo', '11° 3\\' 16\"', '11° 3\\' 16\"', '1° 1\\' 12\"', '11° 3\\' 16\"', '167° 55\\' 32\"', '82° 44\\' 20\"', '83° 57\\' 46\"', '12° 13\\' 37\" Pisces', \"12° 16' Pisces.\", '17° Cancer', '17° 4¾’', \"29° 12½'\", '29° 14\\' 58\"', '0° 12\\' 13\"', \"29° 13' Leo\", '29° 12½’', '17° 39½’', '26° 16\\' 38\"', '25° 44\\' 30\"', '25° 44\\' 30\" Aquarius', '21° 55\\' 0\"', '17° 39\\' 30\" Pisces', \"1° 48'\", '29° 11\\' 3\"', \"5° 30'\", '28° 51\\' 22\"', '26° 12\\' 43\"', '26° 48\\' 35\"', '20° 50\\' 55\"', '6° 37\\' 5\"', '8° 35\\' 33\"', '81° 24\\' 27\"', '81° 42\\' 35\"', '81° 24\\' 27\"', '18\\' 8\"', '5½° Cancer', '23½° Leo', \"8° 15⅗'\", '42° 54\\' 23\"', \"21° 27'\", \"42° 54'\", \"22° 43'\", '9° 14\\' 52\"', '13° 28\\' 16\" Libra.', '4° 23\\' 30\"', '25° 36\\' 30\"', '18° Gemini', '0° 50\\' 45\" Virgo', \"1° 5' Virgo,7\", \"6° 48' Virgo\", \"6° 34' Virgo.\", '17° 37½’', \"6° 37' Virgo.\", '34° 32\\' 45\"', \"17° 30'\", '230° 23\\' 12\"', \"21° 34' Scorpio.\", \"36° 51'\", '38° 5½’', '128° 47\\' 19\"', '51° 12\\' 41\"', '25° 9\\' 20\"', '25° 9\\' 20\"', \"5° 30' Capricorn\", '26° 3\\' 21\"', '8° 25\\' 21\"', '8° 25\\' 21\"', '4° 38\\' 50\"', '23½° Leo', '18° 19\\' 56\"', '5½° Cancer', \"127° 5'\", \"24° 22' Aries\", \"25° 6' Aries\", '15° 53\\' 45\" Taurus.', '20° 47\\' 45\"', '32° 7\\' 14\"', '15° 55\\' 23\"', '11° 34½’', \"1° 25'\", '10° 9½’', '35° 46\\' 23\"', '15° 56\\' 56\"', \"4° 45' Aries\", \"1° 8'\", '3° 37’ Aries', '42° 21’ 30\"', '15° 58\\' 30\"', '18° 52’ 15\" Taurus', '19° 15\\' 15\" Taurus', '3° 23’ 5\"', '42° 52\\' 47\"', '68° 12\\' 26\"', '46° 39\\' 10\"', '43° 6\\' 32\"', '68° 26\\' 44\"', '97° 50\\' 30\"', '5½° Cancer.', '5½° Capricorn', '24° 22\\' 56\" Aries', \"24° 20' Aries.\", '11° 32\\' 44\" Aries', '3° 6\\' 50\" Aries', '19° 39\\' 25\"', '2° 9\\' 4\"', '9° 23\\' 40\"', '2\\' 25\"', '3° 4\\' 27\" Aries.', '22\\' 11\"', '19° 41\\' 39\" Taurus.', '14° 19\\' 52\" Taurus.', '1\\' 36\"', '14° 18\\' 16\" Taurus', \"25° 53' Sagittarius.\", \"10° 17' Aquarius\", \"25° 57' Sagittarius.\", \"25° 57' Sagittarius\", \"19° 40' Taurus\", '23° 53\\' 0\"', '43° 22\\' 26\"', '93° 15\\' 8\"', '73° 24\\' 39\"', \"10° 36' Capricorn\", '19° 56\\' 4\"', '45° 26\\' 37\"', '43° 26\\' 18\"', '76° 37’ 30\"', '75° 8\\' 40\"', '5½° Capricorn.', \"9° 24' Aries.\", '14° 21\\' 7\" Taurus', '24° Leo', '21° 40\\' 9\"', '5° 20\\' 2\"', \"21° 13'\", \"68° 47'\", '42° 6\\' 57\"', '69° 43\\' 31\"', '0° 56\\' 31\"', \"10° 19' Capricorn\", '5½° Capricorn', '26° 17½’', '5½° Cancer', '8° 19\\' 20\" Virgo', '1° 1\\' 53\"', '88° 58\\' 7\"', '88° 58\\' 7\"', '91° 1\\' 53\"', '91° 1’ 53\"', '88° 58’ 7\"', '1° 27\\' 31\"', '0° 43\\' 46\"', '43\\' 38\"', '1° 27\\' 24\"', '43\\' 46\"', '1° 1\\' 53\"', '1° 1\\' 53\"', '1° 1\\' 53\"', '45° 43\\' 46\"', '44\\' 19\"', '43\\' 46\"', '14° 21\\' 7\" Taurus', '5° 25\\' 20\" Libra', '1° 12\\' 40\"', '5° 24\\' 30\" Libra.', '8° 19\\' 20\" Virgo', '1° 42\\' 40\"', '114° 2\\' 12\"', '27° 5\\' 17\"', '20° 26\\' 13\"', '35° 10\\' 17\"', '14° 44\\' 4\"', '29° 28\\' 8\"', '78° 44\\' 1\"', '29° 28\\' 8\"', '75° 15\\' 56\"', '38° 15\\' 45\"', '5° 24\\' 21\" Libra', \"28° 53' Leo\", \"4° 16' North\", '2° 46⅗’', '1° 4\\' 36\" Libra', '2° 54\" N.', \"3° 6'\", \"31° 27'\", '3° 16¼’', \"25° 31' Virgo\", \"45° 17'\", \"2° 5'\", '9° 19⅖’', \"6° 14'\", '168° 56¼’', \"17° 16¾'\", \"17° 20' Virgo\", '29° 12½’', \"3° 19¾'\", '68° 36\\' 0\"', '88° 28\\' 50\"', '33° 58\\' 33\"', '29° 19\\' 49\" Leo', \"1° 48'\", '20° 59¼’', \"18° 36' Capricorn\", \"17° 39½'\", '6° 6¼’', \"4° 16'\", \"1° 16'\", \"0° 53'\", \"14° 20' Capricorn.\", '3° 25½’', \"3° 46'\", \"16° 56' Pisces.\", '55\\' 20\"', \"1° 48'\", '29° 54\\' 53\" Aquarius', '29° 52\\' 55\"', '29° 20\\' 12\" Leo.', '29° 20\\' 12\" Leo', '33\\' 53\"', '26\\' 13\"', '26\\' 13\"', '11\\' 49\"', '5\\' 16\"', '33\\' 53\"', '20\\' 36\"', '11\\' 49\"', '45\\' 42\"', '45\\' 42\"', '5° 17\\' 34\"', '5° 18\\' 28\"', '10° 36\\' 2\"', '95° 18\\' 28\"', '3° 45\\' 12\"', '41° 28\\' 54\"', '48° 45\\' 12\"', '45\\' 12\"', \"5° 19'\", \"5° 19'\", '28° 41\\' 40\" Leo', '0° 53\\' 13\"', '95° 18\\' 28\"', '95° 18\\' 28\"', '5° 20\\' 18\"', '84° 42\\' 2\"', '2\\' 20\"', '1\\' 10\"', '48° 45\\' 12\"', '3° 45\\' 12\"', '48° 45\\' 12\"', '41° 14\\' 9\"', '41° 20\\' 33\"', '138° 45\\' 12\"', '48° 45\\' 55\"', '131° 7\\' 26\"', '92\\' 40\"', '46\\' 20\"', '45\\' 45\"', '45\\' 15\"', '179° 14\\' 15\"', '3\\' 50\"', '5° 15\\' 30\"', '358° 28\\' 30\"', '48° 42\\' 59\"', '48° 46\\' 51\"', '48° 42\\' 51\"', '41° 13\\' 9\"', '10° 29⅕’', '52° 39⅔’', \"37° 44'\", '53° 23\\' 56\"', \"48° 44'\", \"41° 22'\", '27° 7⅓’', '26° 0\\' 36\"', '26° 13\\' 39\",2', \"50° 34'\", \"50° 34'\", '50° 32\\' 18\"', \"18° 11' Libra\", '21° 50\\' 20\"', \"21° 41'\", '9\\' 20\"', \"8° 43' Sagittarius.\", '16° 47\\' 10\" Capricorn', \"306° 57'\", '6\\' 30\"', '3\\' 29\" N.', \"10° 17'\", '2\\' 30\"', '2\\' 30\"', '3\\' 29\" N.', '3\\' 36\"', '28° 41\\' 14\"', '15° 31\\' 3\" Scorpio.', '38° 0\\' 40\"', '23° 6\\' 11\"', '15° 40\\' 9\" Scorpio', '8\\' 3\"', '4\\' 48\"', '12\\' 37\"', '15° 43\\' 40\" Scorpio.', '15° 29\\' 34\" Scorpio', '87° 9\\' 24\"', '10° Gemini.', '11° 31\\' 27\" Taurus', '5° 39\\' 3\" Capricorn.', '2° 4\\' 22\"', '28° 58\\' 10\"', '87° 9\\' 24\"', '76° 25\\' 48\"', '12° 32\\' 22\" Gemini.', '12° 32\\' 22\" Gemini', '5° 39\\' 3\" Capricorn', \"16° 20' Taurus\", \"1° 50'\", '48\\' 32\"', '29° 10\\' 43\"', \"9° 43' Gemini\", '43\\' 52\"', \"15° 40' Scorpio\", '1° 36’ 24\"', \"1° 30½'\", \"9° 54' Cancer\", \"0° 13½'\", \"12° 18½'\", \"12° 16' Cancer.\", \"1° 30½'\", \"12° 16'\", \"1° 30½'\", \"12° 16' Cancer.\", '16° 38\\' 8\" Scorpio', '29° 42\\' 10\"', \"2° 6'\", \"12° 13' Cancer\", '7° 31\\' 10\" Scorpio', '9° 46\\' 8\"', '28° 51\\' 8\"', '70° 55\\' 0\"', '0° 8\\' 43\" Scorpio', \"28° 11'\", \"7° 34½'\", '21° 39\\' 10\"', '8° 21\\' 47\"', '38° 43\\' 20\"', '1° 26\\' 30\"', '17° Scorpio', \"54° 12'\", '29° 35\\' 17\" Scorpio', '15° 10\\' 20\"', \"73° 34'\", '24° 59\\' 2\" Gemini.', '26° 35\\' 30\" Cancer', \"70° 55'\", '29° 31\\' 24\"', '15° 35\\' 0\"', '76° 17\\' 48\"', '14° 0\\' 3\" Sagittarius', '22° 8\\' 44\" Cancer', '23° 14\\' 15\" Leo,23', '26° 0\\' 30\" Leo', '2° 46\\' 25\"', \"2° 48'\", \"1° 28'\", '27° 27\\' 30\" Leo', '73° 27\\' 27\"', '12° 38\\' 44\",28', \"43° 48'\", '1\\' 30\"', '5° Scorpio', '26° Sagittarius', '16° Scorpio', \"11° 37'\", '15° 9\\' 5\" Aquarius', '9° 0\\' 25\"', '1\\' 30\"', \"5° 19'\", '4° 16\\' 51\" Capricorn', '26° 6\\' 24\" Virgo', '81° 49\\' 33\"', '1\\' 30\"', \"11° 37'\", '24° 3\\' 43\" Scorpio', \"1° 37',32\", '60° 47\\' 43\"', '1\\' 30\"', \"11° 37'\", '2° 8\\' 43\" Gemini', \"2° 24½'\", '30° 15\\' 44\"', \"12° 10' Sagittarius\", '4° 11\\' 20\"', \"114° 41'\", \"113° 24'\", '21° 44\\' 56\"', '1° 11\\' 47\"', '2° 39\\' 15\" Scorpio', '2° 10\\' 52\" S.', '25° 41\\' 0\" Virgo', '7° 59\\' 52\" Leo', \"2° 30'\", '17\\' 22\"', '30\\' 55\"', '13\\' 33\"', '6\\' 46\"', '45° 35\\' 13\"', '34° 43\\' 47\"', '6\\' 46\"', '17° 25\\' 42\" Cancer', '56° 11\\' 46\"', '161° 45\\' 28\"', \"161° 45½'\", '29° Leo', '24° Leo', '5½° Cancer', '5½° Cancer', '22° 15’', \"16° 5' Cancer\", '0° 41\\' 0\" Cancer', '18° 48\\' 47\" Leo', '29° 0⅔’', '7° 14’ 34\"', \"11° 37'\", \"1° 43'\", '10° 9\\' 41\"', '8° 2\\' 51\"', \"4° 4'\", \"11° 52'\", '161° 45½’', '1° 31½’', \"5° 18'\", '29° Taurus', '44° 52\\' 34\"', \"57° 14'\", \"4° 44' Aries\", \"18° 35' Taurus\", '3\\' 20\"', '19\\' 45\"', '16° 8⅓’', \"16° 42' Scorpio.\", \"16° 47' Scorpio\", \"12° 16' Pisces\", '6° 7\\' 30\"', '6° 5\\' 30\"', '5° 52\\' 15\"', '13\\' 15\"', '6° 2\\' 30\"', \"166° 36'\", '6° 2\\' 30\"', \"16° 43' Taurus,2\", \"64° 27'\", '1° 39\\' 22\"', \"17° 45¾'\", '20° 1½’', \"8° 26' Leo\", \"11° 35½'\", \"17° 45¾'\", '5° 46¼’', \"20° 1½'\", '1° 50\\' 2\"', \"4° 31'\", '4° 31\\' 10\"', '7° 6\\' 23\",11', '4° 31\\' 10\"', '1° 50\\' 20\"', '1° 50\\' 45\"', '1° 50\\' 8\"', '1° 50\\' 25\"', \"34° 7'\", \"3° 41'\", \"0° 5' N.\", \"3° 23'\", '1° 50\\' 30\"', '1° 50\\' 25\"', \"16° 46' Scorpio\", \"16° 46' Taurus\", '17¾° Scorpio', \"3° 37'\", \"3° 37'\", \"1° 7'\", \"4° 10'\", '1° 51\\' 0\"', '1° 50½’', '1° 8\\' 34\"', '6° 58\\' 24\"', '1° 4\\' 36\"', '4° 44\\' 12\"', \"16° 50' Leo.\", '17° Leo', \"4° 31'\", \"4° 31'\", '19° Leo', '4° 31¾’', '1° 8\\' 30\"', '19° Leo', '6° 52\\' 20\",4', '2° 41\\' 18\" Pisces', '2° 40’ 48\" Pisces', '6° 21\\' 14\"', '2° 41\\' 18\" Pisces', '5° 3\\' 29\"', '5° 21\\' 36\"', \"160° 33'\", \"19° 27'\", '6° 19\\' 10\"', '16¾° Leo', '29° Leo', \"16° 45' Leo\", '1° 1\\' 33\"', '2° 3\\' 6\"', \"16° 48' Taurus.\", '15° 44½’', \"17° 38' Taurus\", '1° 53½’', '1° 50\\' 45\"', '1° 50\\' 8\"', '5½° Cancer', '5½° Cancer', '23° 51½’', \"23° 42'\", '23° 31½’', \"4° 20'\", \"21° 0' Gemini\", \"21° 0' Sagittarius\", '21° Gemini', '29° Leo', \"2° 23'\", '3° Gemini', '80° 57\\' 14\"', '68° 21\\' 20\"', '93° 2\\' 20\"', \"0° 41' Leo\", \"1° 24'\", '21° 29½’', '1° 2½’', '11\\' 24\"', '5\\' 15\"', '5\\' 40\"', \"0° 3' Leo26\", \"29° 31' Aquarius\", \"29° 27' Leo\", \"21° 7' Gemini\", '29° 36½’', '10\\' 30\"', \"1° 12'\", '11° 4’ Sagittarius,37', '1\\' 30\"', '92° 8’', \"3° 5' Pisces,41\", '92° 8’', '5° Pisces', '30° Taurus', \"54° 10'\", '11° 18\\' 30\" Sagittarius.', '11° 18\\' 30\"', \"2° 30' Leo\", '8° 48\\' 30\"', '0° 47\\' 30\"', '6° 31\\' 45\"', '8° 52\\' 45\"', \"0° 41' Leo\", \"1° 49'\", '28° 58\\' 50\" Leo', \"2° 27'\", \"3° 3' Pisces\", \"2° 30' Leo.\", '1° 47\\' 0\"', '12° 47\\' 41\" Pisces', '11° 27\\' 49\"', '9° 40\\' 49\"', '2\\' 42\"', '7° 14’ 36\"', '8° 23’', \"2° 36' Gemini\", '2° 53\\' 40\"', '5° 29\\' 40\" Gemini', '1° 5\\' 6\"', '3° 43\\' 14\"', '5° 28\\' 40\" Gemini.', '1° 4\\' 6\"', '3° 45\\' 45\",4', \"1° 36' Sagittarius.\", \"4° 22' Sagittarius\", '25° Capricorn', '25° 32\\' 50\"', '2° 0\\' 30\"', '6° 7\\' 12\"', '3° 40\\' 20\"', '27° 33\\' 20\",8', '82° 43\\' 46\"', '4° 49\\' 34\"', '17\\' 36\"', '0° 40\\' 37\"', '4° 51\\' 28\"', \"2° 30' Leo\", \"24° 17' Leo.\", \"27° 36' Scorpio.\", '3° 20\\' 0\"', '4° 51\\' 28\"', '29° 3½’', \"24° 17' Leo.\", '94° 46½’', \"94° 49½'\", \"4° 15'\", \"56° 35'\", \"1° 7'\", \"1° 5'\", \"1° 46'\", \"1° 20'\", '16\\' 20\"', \"1° 5'\", '3\\' 28\"', \"2° 25'\", '198° 21\\' 30\"', \"19° 20'\", '58\\' 38\"', '58\\' 38\"', '1° 21\\' 14\"', '198° 21\\' 30\"', '58\\' 38\"', '16\\' 20\"', '198° 37\\' 50\"']\n"
     ]
    }
   ],
   "source": [
    "a_09=print_entities(examples)"
   ]
  },
  {
   "cell_type": "markdown",
   "metadata": {},
   "source": [
    "## Try Regex on the observational Sentences"
   ]
  },
  {
   "cell_type": "code",
   "execution_count": 24,
   "metadata": {},
   "outputs": [],
   "source": [
    "path= '../data/ObsSentsR01V05A02.pkl'# Put the path of the data in your local machine here, consider the letter \"r\" before the path\n",
    "df = pd.read_pickle(path)"
   ]
  },
  {
   "cell_type": "code",
   "execution_count": 27,
   "metadata": {},
   "outputs": [
    {
     "data": {
      "text/html": [
       "<div>\n",
       "<style scoped>\n",
       "    .dataframe tbody tr th:only-of-type {\n",
       "        vertical-align: middle;\n",
       "    }\n",
       "\n",
       "    .dataframe tbody tr th {\n",
       "        vertical-align: top;\n",
       "    }\n",
       "\n",
       "    .dataframe thead th {\n",
       "        text-align: right;\n",
       "    }\n",
       "</style>\n",
       "<table border=\"1\" class=\"dataframe\">\n",
       "  <thead>\n",
       "    <tr style=\"text-align: right;\">\n",
       "      <th></th>\n",
       "      <th>Chapter</th>\n",
       "      <th>ParaIndex</th>\n",
       "      <th>SentIndex</th>\n",
       "      <th>Paragraph</th>\n",
       "      <th>Sentence</th>\n",
       "      <th>Entities</th>\n",
       "      <th>Label</th>\n",
       "    </tr>\n",
       "  </thead>\n",
       "  <tbody>\n",
       "    <tr>\n",
       "      <td>0</td>\n",
       "      <td>10</td>\n",
       "      <td>218</td>\n",
       "      <td>967</td>\n",
       "      <td>On 1580 November 12 at 10h 50m,1 they set Mars...</td>\n",
       "      <td>On 1580 November 12 at 10h 50m,1 they set Mars...</td>\n",
       "      <td>[[1580 November 12, DATE], [10h 50m,1 they, TI...</td>\n",
       "      <td>Obs</td>\n",
       "    </tr>\n",
       "    <tr>\n",
       "      <td>1</td>\n",
       "      <td>10</td>\n",
       "      <td>221</td>\n",
       "      <td>977</td>\n",
       "      <td>On 1582 December 28 at 11h 30m, they set Mars ...</td>\n",
       "      <td>On 1582 December 28 at 11h 30m, they set Mars ...</td>\n",
       "      <td>[[1582 December 28, DATE], [11h 30m, TIME], [M...</td>\n",
       "      <td>Obs</td>\n",
       "    </tr>\n",
       "    <tr>\n",
       "      <td>2</td>\n",
       "      <td>10</td>\n",
       "      <td>222</td>\n",
       "      <td>984</td>\n",
       "      <td>On 1585 January 31 at 12h 0m, Mars was placed ...</td>\n",
       "      <td>On 1585 January 31 at 12h 0m, Mars was placed ...</td>\n",
       "      <td>[[1585 January 31, DATE], [12h 0m, TIME], [Mar...</td>\n",
       "      <td>Obs</td>\n",
       "    </tr>\n",
       "    <tr>\n",
       "      <td>3</td>\n",
       "      <td>10</td>\n",
       "      <td>223</td>\n",
       "      <td>992</td>\n",
       "      <td>On 1587 March 7 at 19h 10m they deduced the po...</td>\n",
       "      <td>On 1587 March 7 at 19h 10m they deduced the po...</td>\n",
       "      <td>[[1587 March 7, DATE], [19h 10m, TIME], [Mars,...</td>\n",
       "      <td>Obs</td>\n",
       "    </tr>\n",
       "    <tr>\n",
       "      <td>4</td>\n",
       "      <td>10</td>\n",
       "      <td>224</td>\n",
       "      <td>997</td>\n",
       "      <td>On 1589 April 15 at 12h 5m they established th...</td>\n",
       "      <td>On 1589 April 15 at 12h 5m they established th...</td>\n",
       "      <td>[[1589 April 15, DATE], [12h 5m, TIME], [Mars,...</td>\n",
       "      <td>Obs</td>\n",
       "    </tr>\n",
       "    <tr>\n",
       "      <td>...</td>\n",
       "      <td>...</td>\n",
       "      <td>...</td>\n",
       "      <td>...</td>\n",
       "      <td>...</td>\n",
       "      <td>...</td>\n",
       "      <td>...</td>\n",
       "      <td>...</td>\n",
       "    </tr>\n",
       "    <tr>\n",
       "      <td>69</td>\n",
       "      <td>62</td>\n",
       "      <td>1412</td>\n",
       "      <td>5910</td>\n",
       "      <td>But since the position is rather far from the ...</td>\n",
       "      <td>On 1593 July 21 at 14h (in astronomical terms)...</td>\n",
       "      <td>[[1593 July 21, DATE], [14h, TIME], [observed,...</td>\n",
       "      <td>Obs</td>\n",
       "    </tr>\n",
       "    <tr>\n",
       "      <td>70</td>\n",
       "      <td>65</td>\n",
       "      <td>1460</td>\n",
       "      <td>6116</td>\n",
       "      <td>And I was now about to choose the mean betwee...</td>\n",
       "      <td>For while the opposition was on the night foll...</td>\n",
       "      <td>[[opposition, ASTR], [January 30, DATE], [lati...</td>\n",
       "      <td>Obs</td>\n",
       "    </tr>\n",
       "    <tr>\n",
       "      <td>71</td>\n",
       "      <td>69</td>\n",
       "      <td>1554</td>\n",
       "      <td>6538</td>\n",
       "      <td>Let us therefore follow whither our inclinati...</td>\n",
       "      <td>Therefore, at Hven in the year of Christ 139 M...</td>\n",
       "      <td>[[Hven, NAME], [139, PARA], [May 27, DATE], [6...</td>\n",
       "      <td>Obs</td>\n",
       "    </tr>\n",
       "    <tr>\n",
       "      <td>72</td>\n",
       "      <td>69</td>\n",
       "      <td>1562</td>\n",
       "      <td>6554</td>\n",
       "      <td>In the year of Christ 139 Pharmouthi 9, which ...</td>\n",
       "      <td>In the year of Christ 139 Pharmouthi 9, which ...</td>\n",
       "      <td>[[139, PARA], [February 23, DATE], [5h 30m, TI...</td>\n",
       "      <td>Obs</td>\n",
       "    </tr>\n",
       "    <tr>\n",
       "      <td>73</td>\n",
       "      <td>69</td>\n",
       "      <td>1562</td>\n",
       "      <td>6557</td>\n",
       "      <td>In the year of Christ 139 Pharmouthi 9, which ...</td>\n",
       "      <td>But on 1599 February 23 at 3h 30m at Hven the ...</td>\n",
       "      <td>[[1599 February 23, DATE], [3h 30m, TIME], [Hv...</td>\n",
       "      <td>Obs</td>\n",
       "    </tr>\n",
       "  </tbody>\n",
       "</table>\n",
       "<p>74 rows × 7 columns</p>\n",
       "</div>"
      ],
      "text/plain": [
       "   Chapter  ParaIndex  SentIndex  \\\n",
       "0       10        218        967   \n",
       "1       10        221        977   \n",
       "2       10        222        984   \n",
       "3       10        223        992   \n",
       "4       10        224        997   \n",
       "..     ...        ...        ...   \n",
       "69      62       1412       5910   \n",
       "70      65       1460       6116   \n",
       "71      69       1554       6538   \n",
       "72      69       1562       6554   \n",
       "73      69       1562       6557   \n",
       "\n",
       "                                            Paragraph  \\\n",
       "0   On 1580 November 12 at 10h 50m,1 they set Mars...   \n",
       "1   On 1582 December 28 at 11h 30m, they set Mars ...   \n",
       "2   On 1585 January 31 at 12h 0m, Mars was placed ...   \n",
       "3   On 1587 March 7 at 19h 10m they deduced the po...   \n",
       "4   On 1589 April 15 at 12h 5m they established th...   \n",
       "..                                                ...   \n",
       "69  But since the position is rather far from the ...   \n",
       "70   And I was now about to choose the mean betwee...   \n",
       "71   Let us therefore follow whither our inclinati...   \n",
       "72  In the year of Christ 139 Pharmouthi 9, which ...   \n",
       "73  In the year of Christ 139 Pharmouthi 9, which ...   \n",
       "\n",
       "                                             Sentence  \\\n",
       "0   On 1580 November 12 at 10h 50m,1 they set Mars...   \n",
       "1   On 1582 December 28 at 11h 30m, they set Mars ...   \n",
       "2   On 1585 January 31 at 12h 0m, Mars was placed ...   \n",
       "3   On 1587 March 7 at 19h 10m they deduced the po...   \n",
       "4   On 1589 April 15 at 12h 5m they established th...   \n",
       "..                                                ...   \n",
       "69  On 1593 July 21 at 14h (in astronomical terms)...   \n",
       "70  For while the opposition was on the night foll...   \n",
       "71  Therefore, at Hven in the year of Christ 139 M...   \n",
       "72  In the year of Christ 139 Pharmouthi 9, which ...   \n",
       "73  But on 1599 February 23 at 3h 30m at Hven the ...   \n",
       "\n",
       "                                             Entities Label  \n",
       "0   [[1580 November 12, DATE], [10h 50m,1 they, TI...   Obs  \n",
       "1   [[1582 December 28, DATE], [11h 30m, TIME], [M...   Obs  \n",
       "2   [[1585 January 31, DATE], [12h 0m, TIME], [Mar...   Obs  \n",
       "3   [[1587 March 7, DATE], [19h 10m, TIME], [Mars,...   Obs  \n",
       "4   [[1589 April 15, DATE], [12h 5m, TIME], [Mars,...   Obs  \n",
       "..                                                ...   ...  \n",
       "69  [[1593 July 21, DATE], [14h, TIME], [observed,...   Obs  \n",
       "70  [[opposition, ASTR], [January 30, DATE], [lati...   Obs  \n",
       "71  [[Hven, NAME], [139, PARA], [May 27, DATE], [6...   Obs  \n",
       "72  [[139, PARA], [February 23, DATE], [5h 30m, TI...   Obs  \n",
       "73  [[1599 February 23, DATE], [3h 30m, TIME], [Hv...   Obs  \n",
       "\n",
       "[74 rows x 7 columns]"
      ]
     },
     "execution_count": 27,
     "metadata": {},
     "output_type": "execute_result"
    }
   ],
   "source": [
    "df.head()\n",
    "df.sort_index()\n",
    "df.reset_index(drop=True)"
   ]
  },
  {
   "cell_type": "code",
   "execution_count": 36,
   "metadata": {
    "collapsed": true,
    "jupyter": {
     "outputs_hidden": true
    }
   },
   "outputs": [
    {
     "data": {
      "text/plain": [
       "'On 1580 November 12 at 10h 50m,1 they set Mars down at 8° 36’ 50” Gemini2 without mentioning the horizontal variations,  by which term I wish the diurnal parallaxes and the refractions to be understood in what follows. On 1582 December 28 at 11h 30m, they set Mars down at 16° 47’ Cancer by observation ^6. On 1585 January 31 at 12h 0m, Mars was placed at 21° 18’ 11” Leo ^8. On 1587 March 7 at 19h 10m they deduced the position of Mars from the observations, which was 25° 10’ 20” Virgo. On 1589 April 15 at 12h 5m they established the position of Mars very carefully at 3° 58\\' 21\" Scorpio, and corrected for longitudinal parallax so as to make it 3° 57’ 11” ^10. On 1591 June 6 at 12h 20m, Mars is placed at 27° 15’ Sagittarius ^11. On 1593 24 August at 10h 30m they report Mars as being at 12° 38’ Pisces12 with an observed diurnal motion of 16’ 45”, and this near the nonagesimal13 where there is no longitudinal parallax. On 1595 October 30 at 8h 20m, they found Mars at 17° 48’ Taurus, with a diurnal motion of 22’ 54” ^15. On 1597 December 10 at 8h 30m, they first placed Mars at 3° 30’ Cancer, and again at 4° 1’ Cancer, the mean being 3° 45½’ Cancer ^16. This gives a diurnal motion of 23’ 44”, and a position on January 19/29 at 9h 40m of 8° 18’ 45” Leo, just as they put it. Again, at 7h 15m on the morning of December 27, it was 36° 43’ from Cor Leonis,7 whose latitude is 0° 26½’; hence, its longitude at the end of 1582 is 17° 28⅓’ Cancer, altitude 14° 4’, and thus affected by refraction. On 1583 January 16 at 7h 30m in the evening,11 Mars was 23° 29’ from the bright star in the foot of Erichthonius at an altitude of 51°. On January 17 at 5h 20m in the evening,13 Mars was 23° 16’ from the foot of Erichthonius. On January 18 at 8h 52m in the evening15 there was 44° 22’ between Mars and Cor Leonis. On January 19 following, at 7h 3m, this distance was 44° 32½’. On 1590 March 4 at 7h 10m in the evening, Mars\\'s declination was 9° 26’ On 1592 January 23 at 10h 15m in the evening, Mars was at 11° 34’ 30” Aries with latitude 0° 2’ south ^3. On 1595 October 27 at 12h 20m, Mars\\'s true latitude after the removal of parallax was 0° 2’ 20” south ^8. I. On the morning of 1595 January 4, when Mars was observed at 7h 10m at altitude 8°, with reference to Spica Virginis and Cor Scorpii,10 it was observed at latitude 0° 3’ 46” N, and it was itself at 13° 36’ 40” Sagittarius ^11. Accordingly, on 1588 November 10 at 6h 30m in the morning the planet Mars was seen at 25° 31’ Virgo, with a latitude of 1° 36’ 45” north, the sun being at 21 Scorpio ^4. Similarly, on 1586 October 22 at 6h in the morning, about dawn, there was about 6° 9’ eastward between Mars and Cor Leonis ^6. On 1585 April 26 at 9h 42m, Mars was seen at 21° 26’ Leo with latitude 1° 49¾’ north ^18. Similarly, near the other limit, on 1591 October 16 at 6h 30m in the evening, Mars was seen at 1° 27⅓’ Aquarius with latitude 2° 10⅚’ south, decreasing ^19. Suppose, however, that on 1580 November 12 at 10h 50m Mars was observed at 8° 37’ Gemini,3 and the motion over five days was 1° 55’. On the night following 1582 December 28, at 11h 30m, Mars was observed at 16° 47’ Cancer,6 while the true position of the sun was 17° 13’ 45“ Capricorn. On 1585 January 31 at 12h 0m, Mars was observed at 21° 18’ 11“ Leo ^7. Therefore the time was January 30 at 19h 14m, and Mars’s ecliptic position was 21° 36’ 10“ Leo. For the observation on January 31 at 12h gave 4° 31’. On the night following 1587 March 4, at 1h 16m past midnight, the position of Mars was found to be 26° 26’ 17“ Virgo,8 from Cor Leonis9 and Spica Virginis, with an observed latitude of 3° 38’ 16“ north. On the night following 1589 April 15 at 12h 5m, the planet was found at 3° 58’ 20“ Scorpio,13 with latitude 1° 4’ 20“ north, decreasing. On the night following 1591 June 6 at 12h 20m, Mars was found at 27° 14’ 42“ Sagittarius,16 with latitude 3° 55½’ south. The sun’s diurnal motion was 57’ 8“, and Mars’s (for four days) was 1° 12’ 24“, since on June 10 at 11h 50m it was at 26° 2’ 18“ Sagittarius. On 1593 August 24 at 10h 30m, the ecliptic position of Mars was found  to be 12° 38’ Pisces,18 with latitude 6° 5’ 30“ south. On 1595 October 30 at 8h 20m, the planet was found at 17° 47’ 15“ Taurus,19 not far from the nonagesimal. Let, at any rate, Mars’s position on 1597 December 10 at 8h 30m be 3° 45½’ Cancer (as above) ^20. X. On 1600 January 13/23 at 11h 40m, the time being adjusted to Uraniborg time, the planet was observed at 10° 38’ 46“ Leo ^21. Now from February 15 at 17h to 23 February at 12h, a period of 7 days 19 hours, Mars moved 3° 0’: 180 minutes in 187 hours. For consider that on April 18 preceding at 10h Mars was found at 17° 37½’ Leo, while Magini puts it at 18° 0\\' Leo. Similarly, on 1591 January 22 at 7h in the morning, Mars was 34° 32\\' 45\" from Spica with declination 17° 25\\' south, at an altitude of 16° ^8. Therefore, the remainder is the position of Mars on January 20 at 0h (which, as we said, corresponds to the other time): 21° 34\\' Scorpio. It was observed on January 23 at 7h 15m at 11° 34½’ Aries, with the correction for parallax ^5. It was observed December 10 at 7h 20m at 4° 45\\' Aries, parallax corrected ^6. Therefore, on December 8 at 7h 20m it was seen at 3° 37’ Aries, while at our time of 6h 12m it was at 3° 35½’ Aries. It was observed on October 27 at 12h 20m at 18° 52’ 15\" Taurus, retrograde ^7. We shall now go through the observations1 again, carefully: On 1590 March 4 at 7h 10m, Mars was found by careful observation and calculation to be at 24° 22\\' 56\" Aries with latitude 0° 3\\' 20\" S. At that time, 8° Aries was setting, so Mars was rather low. On 1592 January 23 at 7h 20m, using only one stellar distance from Mars, without the confirmation of another, Mars was found at 11° 32\\' 44\" Aries with latitude 0° 1\\' 36\" S. And so we shall make no changes for horizontal variations, although we suspect an uncertainty of one or two minutes. On 1593 December 7 at 8h 0m Mars was found at 3° 6\\' 50\" Aries with no danger of horizontal variation, with latitude 7’ 9\" S. However, the right ascension found using three stars showed a discrepancy of 4\\', and the value taken as true was the mean between the extremes. On 1595 October 25 at 8h 10m, the planet\\'s distance from three fixed stars was observed, and by unanimous consensus the planet was found to be at 19° 39\\' 25\" [Taurus] with latitude 0° 12\\' 41\" S. And on 1595 October 25 at 5h 45m that line is found at 14° 19\\' 52\" Taurus. On 1585 February 17 at 10h the planet was seen at 15° 12½ Leo, with latitude 4° 16\\' North ^1. On 1586 December 27 at 4h in the morning, at 29° 42⅔‘ Virgo, lat. ]3 And on 1587 January 1 at 7h 8m in the morning, at 1° 4\\' 36\" Libra, Lat. On 1588 November 10, at 6h 30m in the morning there was 31° 27\\' between Mars and Cor Leonis. On December 5 at 6h in  the morning there were 45° 17\\' between Mars and Cor Leonis. But previously and in like manner we took at αι 1588 November 22 at 9h 2½m to be 29° 20\\' 12\" Leo. Now the mean longitude of Mars on the morning of October 29 at 5h (which is an estimate, since I did not write down the time) is found to be 1s 29° 10\\' 43\". On 1597 October 30 at 5h am the position of the sun is found to be 16° 38\\' 8\" Scorpio, distance 98,820. On 1589 April 5 at 11h 33m Mars was observed at 7° 31\\' 10\" Scorpio with latitude 1° 28\\' 13\" N ^15. On 1596 March 9 at 7h 40m pm, when the sun\\'s position was 29° 31\\' 24\" On 1585 January 24 at 9h, when the position of the sun was 15° 9\\' 5\" Aquarius, its distance from earth 98,590, the mean longitude of Mars 4s 16° 50\\' 10\", the aphelion 4s 28° 46\\' 41\", the remainder of the mean anomaly to complete the full circle 11° 56\\' 31\", and the consequent eccentric position from the vicarious hypothesis 18° 49\\' 0\" Leo: the planet was observed at 24° 9\\' 30\" Leo, latitude 4° 31\\' 0\" N ^30. Finally, on 1595 July 22 at 2h 40m am, when the sun was at 7° 59\\' 52\" Leo, 101,487 distant from earth, Mars\\'s mean longitude 11s 14° 9\\' 5\", and anomaly 164° 48\\' 55\", and consequent eccentric position from the vicarious hypothesis 17° 16\\' 36\" Pisces: the apparent position of Mars, from the most select observations, was 4° 11\\' 10\" Taurus, lat. For on the night following June 29 in 1593, at 1h 30m after midnight, when the sun was at 17° 25\\' 42\" Cancer, 101,760 distant from earth, the longitude of Mars 10s 10° 1\\' 29\", anomaly 161° 5\\' 29\", and the consequent position of Mars 6° 10\\' 5\" Aquarius, it was observed at 13° 37\\' 22\" Pisces, with latitude 4° 37\\' S ^38. On 1593 December 10, at 7h 0m in the evening, Mars was observed at 4° 44\\' Aries, with latitude 0° 1\\' 15\" south, parallax not accounted for ^1. After the 687 days of one complete revolution of Mars, on 1595 October 28 at 11h 30m pm Mars was found at an altitude of 51° in 18° 35\\' Taurus, with latitude 4½’ south, parallax not accounted for ^2. And finally, subtracting another 687 days, so that we come to 1590 March 7, Mars was observed on March 4 at 7h, at an altitude of 14°, to have a latitude of 3\\' 20\" south ^4. For while on October 28 at 12h the latitude was 4½’ south, six days later, on the following November 3, at the same time, the latitude was 19\\' 45\" north ^5. And since on October 28 at 12h its eccentric position was 16° 8⅓’ Taurus,6 and the remaining latitude was 4½’: let this be traversed in one day and one eighth, after which time 37\\' are added to Mars\\'s position. For since on 1589 May 6 Mars had 6⅔‘ of northern latitude,7 it traversed this in 2⅓ days, according to the proportion of the latitudinal motion of the preceding days, [arriving at the node on] May 8 at 20h at which time its eccentric position is found to be 16° 42\\' Scorpio. On 1593 August 25 at 17h 27m, Mars was observed at opposition to the sun at 12° 16\\' Pisces ^1. On 1593 July 21 at 14h (in astronomical terms),4 the planet was observed at 17° 45¾\\' Pisces, with latitude 5° 46¼’ south ^5. For while the opposition was on the night following January 30, the latitude observed on the 24th, preceding the opposition, was 4° 31\\', still increasing, while on January 31, 16 hours past opposition, the observed latitude was again 4° 31\\'. Therefore, at Hven in the year of Christ 139 May 27 at 6h the mean motion was 8s 11° 18\\' 30\". In the year of Christ 139 Pharmouthi 9, which is February 23, at sunset at 5h 30m, 3h 30m at Hven, the apparent position of the sun was computed as 3° 3\\' Pisces; therefore, the mean position was 0° 43\\' Pisces. But on 1599 February 23 at 3h 30m at Hven the mean motion of the sun was at 12° 47\\' 41\" Pisces, and Cor Leonis 24° 15’ 30\" Leo.'"
      ]
     },
     "execution_count": 36,
     "metadata": {},
     "output_type": "execute_result"
    }
   ],
   "source": [
    "Obstexts =\" \".join(list(df.Sentence))\n",
    "Obstexts"
   ]
  },
  {
   "cell_type": "code",
   "execution_count": 37,
   "metadata": {},
   "outputs": [],
   "source": [
    "label = \"LAT\"   \n",
    "texts = sents  \n",
    "\n",
    "regex_patterns = [\n",
    "                  re.compile(r\"8° 36’ 50” Gemini2|87° 16\\' 30\\\"8|16° 43\\' Taurus10|0° 3\\' Leo26|11° 52\\',2|12° 38’ Pisces12\"\n",
    "                              \"|\\d{1,3}\\s?°\\s?\\d{1,2}\\s?[\\'|’]\\s?\\d{1,2}\\s?[\\\"|”|“]\\s?[A-Z][a-z.]+(,\\d{1,2})?\"\n",
    "                              \"|\\d{1,3}\\s?[\\'|’|°]\\s?\\d{1,2}\\s?[\\'|’|\\\"|”|“]\\s?\\s?[A-Z][a-z.]+(,\\d{1,2})?\"\n",
    "                              \"|\\d{1,3}\\s?°\\s?\\d{1,2}\\s?[\\'|’]\\s?\\d{1,2}\\s?[\\\"|”|“]-?(,\\d{1,2})?\"\n",
    "                              \"|\\d{1,3}\\s?[\\'|’|°]\\s?\\d{1,2}\\s?[\\'|’|\\\"|”|“](,\\d{2})?\"\n",
    "                              \"|\\d{1,3}\\s?°\\s?[A-Z][a-z.]+(,\\d{1,2})?\")           \n",
    "]     \n",
    "\n",
    "\n",
    "regex_patterns = [\n",
    "                  re.compile(r\"\\d{1,3}\\s?°\\s?\\d{1,2}\\s?[\\'|’]\\s?\\d{1,2}\\s?[\\u00BC-\\u00BE\\u2150-\\u215E]?[\\\"|”|“]\\s? (N|S|south|north))?\"\n",
    "                              \"|\\d{1,3}\\s?[\\'|’|°]\\s?\\d{1,2}\\s?[\\u00BC-\\u00BE\\u2150-\\u215E]?[\\'|’|\\\"|”|“]\\s?(N|S|south|north)\" \n",
    "]\n",
    " \n",
    "#(5° 20\\' 2\\\"  Libra,|21° 44\\' 56\\\"  Sagittarius,|(?<!\\S)\\d{1,2}\\s?°\\s\\d{1,2}\\s?[\\'|’]\\s?\\d{1,2}\\s?[\\\"|”]\\s[A-Z][a-z]+(?!\\S?\\S)|(?<!\\S)\\d{1,2}\\s?°\\s\\d{1,2}\\s?[\\'|’]\\s?\\d{1,2}\\s?[\\\"|”].?(?!\\S?\\S)|(?<!\\S)\\d{1,2}\\s?°\\s?\\d{1,2}\\s?[\\'|’]\\s?[A-Z][a-z]+(?!\\S?\\S))[,:/.]?\n",
    "examples = []\n",
    "for text in Obstexts:\n",
    "    for expression in regex_patterns:\n",
    "        spans = []\n",
    "    for match in re.finditer(expression, text):\n",
    "        start, end = match.span()\n",
    "        span = {\"start\": start, \"end\": end, \"label\": label}\n",
    "        spans.append(span)\n",
    "    task = {\"text\": text, \"spans\": spans}\n",
    "    examples.append(task)              \n",
    "\n",
    "#write_jsonl(\"NER_LATI_V02.jsonl\", examples)\n"
   ]
  },
  {
   "cell_type": "code",
   "execution_count": 38,
   "metadata": {},
   "outputs": [
    {
     "name": "stdout",
     "output_type": "stream",
     "text": [
      "There is 0 entities with this detail\n",
      "[]\n"
     ]
    }
   ],
   "source": [
    "a_09=print_entities(examples)"
   ]
  },
  {
   "cell_type": "code",
   "execution_count": 58,
   "metadata": {},
   "outputs": [],
   "source": [
    "test=\"We shall now go through the observations1 again, carefully: On 1590 March 4 at 7h 10m, Mars was found by careful observation and calculation to be at 24° 22' 56\\\" Aries with latitude 0° 3' 20\\\" S. At that time, 8° Aries was setting, so Mars was rather low.\""
   ]
  },
  {
   "cell_type": "code",
   "execution_count": 59,
   "metadata": {},
   "outputs": [
    {
     "data": {
      "text/plain": [
       "'0° 3\\' 20\" S'"
      ]
     },
     "execution_count": 59,
     "metadata": {},
     "output_type": "execute_result"
    }
   ],
   "source": [
    "test[182:193]"
   ]
  },
  {
   "cell_type": "code",
   "execution_count": 67,
   "metadata": {},
   "outputs": [],
   "source": [
    "nlp = spacy.load(\"en_core_web_sm\")  \n",
    "doc = nlp(test)\n"
   ]
  },
  {
   "cell_type": "code",
   "execution_count": 68,
   "metadata": {},
   "outputs": [
    {
     "data": {
      "text/plain": [
       "We shall now go through the observations1 again, carefully: On 1590 March 4 at 7h 10m, Mars was found by careful observation and calculation to be at 24° 22' 56\" Aries with latitude 0° 3' 20\" S. At that time, 8° Aries was setting, so Mars was rather low."
      ]
     },
     "execution_count": 68,
     "metadata": {},
     "output_type": "execute_result"
    }
   ],
   "source": [
    "doc"
   ]
  },
  {
   "cell_type": "code",
   "execution_count": 71,
   "metadata": {},
   "outputs": [
    {
     "data": {
      "text/plain": [
       "<function Doc.char_span>"
      ]
     },
     "execution_count": 71,
     "metadata": {},
     "output_type": "execute_result"
    }
   ],
   "source": [
    "doc.char_span"
   ]
  },
  {
   "cell_type": "code",
   "execution_count": 72,
   "metadata": {},
   "outputs": [
    {
     "data": {
      "text/plain": [
       "(1590 March 4, 7h 10, Mars, 24, 0, 8, Mars)"
      ]
     },
     "execution_count": 72,
     "metadata": {},
     "output_type": "execute_result"
    }
   ],
   "source": [
    "doc.ents"
   ]
  },
  {
   "cell_type": "code",
   "execution_count": null,
   "metadata": {},
   "outputs": [],
   "source": []
  }
 ],
 "metadata": {
  "kernelspec": {
   "display_name": "Python 3",
   "language": "python",
   "name": "python3"
  },
  "language_info": {
   "codemirror_mode": {
    "name": "ipython",
    "version": 3
   },
   "file_extension": ".py",
   "mimetype": "text/x-python",
   "name": "python",
   "nbconvert_exporter": "python",
   "pygments_lexer": "ipython3",
   "version": "3.7.4"
  }
 },
 "nbformat": 4,
 "nbformat_minor": 4
}
